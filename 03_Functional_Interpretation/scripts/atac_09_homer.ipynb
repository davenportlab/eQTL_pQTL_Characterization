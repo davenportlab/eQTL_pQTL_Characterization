{
 "cells": [
  {
   "cell_type": "markdown",
   "id": "62c8ff5c-1398-4ebe-89ba-1790fd7ac25b",
   "metadata": {},
   "source": [
    "# Annotation of DA Peaks\n",
    "\n",
    "**Created**: 28 June 2022"
   ]
  },
  {
   "cell_type": "markdown",
   "id": "d877360b-0033-4b96-9efb-9ee7eaf11c1b",
   "metadata": {},
   "source": [
    "## Environment"
   ]
  },
  {
   "cell_type": "code",
   "execution_count": 1,
   "id": "1c5fb5eb-0d6f-440a-b9b0-798aa7c197b9",
   "metadata": {},
   "outputs": [],
   "source": [
    "if (!requireNamespace(\"ComplexHeatmap\", quietly=T)) {\n",
    "    BiocManager::install(\"ComplexHeatmap\")\n",
    "}"
   ]
  },
  {
   "cell_type": "code",
   "execution_count": 2,
   "id": "a6ad52f6-f1d1-4c9b-829d-53c5d0bb5a70",
   "metadata": {},
   "outputs": [
    {
     "name": "stderr",
     "output_type": "stream",
     "text": [
      "── \u001b[1mAttaching packages\u001b[22m ───────────────────────────────────────────────────────────────────────────────────────────────────────────────────────────────────────────────────────────────────────────── tidyverse 1.3.1 ──\n",
      "\n",
      "\u001b[32m✔\u001b[39m \u001b[34mggplot2\u001b[39m 3.3.6     \u001b[32m✔\u001b[39m \u001b[34mpurrr  \u001b[39m 0.3.4\n",
      "\u001b[32m✔\u001b[39m \u001b[34mtibble \u001b[39m 3.1.7     \u001b[32m✔\u001b[39m \u001b[34mdplyr  \u001b[39m 1.0.8\n",
      "\u001b[32m✔\u001b[39m \u001b[34mtidyr  \u001b[39m 1.2.0     \u001b[32m✔\u001b[39m \u001b[34mstringr\u001b[39m 1.4.0\n",
      "\u001b[32m✔\u001b[39m \u001b[34mreadr  \u001b[39m 2.1.1     \u001b[32m✔\u001b[39m \u001b[34mforcats\u001b[39m 0.5.1\n",
      "\n",
      "── \u001b[1mConflicts\u001b[22m ──────────────────────────────────────────────────────────────────────────────────────────────────────────────────────────────────────────────────────────────────────────────── tidyverse_conflicts() ──\n",
      "\u001b[31m✖\u001b[39m \u001b[34mdplyr\u001b[39m::\u001b[32mfilter()\u001b[39m masks \u001b[34mstats\u001b[39m::filter()\n",
      "\u001b[31m✖\u001b[39m \u001b[34mdplyr\u001b[39m::\u001b[32mlag()\u001b[39m    masks \u001b[34mstats\u001b[39m::lag()\n",
      "\n",
      "\n",
      "Attaching package: ‘data.table’\n",
      "\n",
      "\n",
      "The following objects are masked from ‘package:dplyr’:\n",
      "\n",
      "    between, first, last\n",
      "\n",
      "\n",
      "The following object is masked from ‘package:purrr’:\n",
      "\n",
      "    transpose\n",
      "\n",
      "\n",
      "Loading required package: grid\n",
      "\n",
      "========================================\n",
      "ComplexHeatmap version 2.6.2\n",
      "Bioconductor page: http://bioconductor.org/packages/ComplexHeatmap/\n",
      "Github page: https://github.com/jokergoo/ComplexHeatmap\n",
      "Documentation: http://jokergoo.github.io/ComplexHeatmap-reference\n",
      "\n",
      "If you use it in published research, please cite:\n",
      "Gu, Z. Complex heatmaps reveal patterns and correlations in multidimensional \n",
      "  genomic data. Bioinformatics 2016.\n",
      "\n",
      "This message can be suppressed by:\n",
      "  suppressPackageStartupMessages(library(ComplexHeatmap))\n",
      "========================================\n",
      "\n",
      "\n",
      "========================================\n",
      "circlize version 0.4.13\n",
      "CRAN page: https://cran.r-project.org/package=circlize\n",
      "Github page: https://github.com/jokergoo/circlize\n",
      "Documentation: https://jokergoo.github.io/circlize_book/book/\n",
      "\n",
      "If you use it in published research, please cite:\n",
      "Gu, Z. circlize implements and enhances circular visualization\n",
      "  in R. Bioinformatics 2014.\n",
      "\n",
      "This message can be suppressed by:\n",
      "  suppressPackageStartupMessages(library(circlize))\n",
      "========================================\n",
      "\n",
      "\n"
     ]
    }
   ],
   "source": [
    "library(tidyverse)\n",
    "library(data.table)\n",
    "library(RColorBrewer)\n",
    "library(ComplexHeatmap)\n",
    "library(circlize)\n",
    "\n",
    "setwd(\"~/eQTL_pQTL_Characterization/\")\n",
    "\n",
    "source(\"03_Functional_Interpretation/scripts/utils/ggplot_theme.R\")"
   ]
  },
  {
   "cell_type": "markdown",
   "id": "c4132185-10f6-4bdf-ab78-3048699bcc6e",
   "metadata": {},
   "source": [
    "## Load Data"
   ]
  },
  {
   "cell_type": "code",
   "execution_count": 3,
   "id": "2aec6e09-15f4-44cb-be9e-078b7557cd2a",
   "metadata": {},
   "outputs": [],
   "source": [
    "ia.homer.annot <- fread(\"~/gains_team282/epigenetics/accessibility/analysis/atac_seq/immune/motifs/homer/consensus_peak_annotation.txt\", sep=\"\\t\")\n",
    "\n",
    "colnames(ia.homer.annot)[1] <- \"PeakID\"\n",
    "colnames(ia.homer.annot) <- make.names(colnames(ia.homer.annot))"
   ]
  },
  {
   "cell_type": "code",
   "execution_count": 4,
   "id": "56c12763-dfe6-4841-a651-54aff5fcea8f",
   "metadata": {},
   "outputs": [
    {
     "data": {
      "text/html": [
       "<table class=\"dataframe\">\n",
       "<caption>A data.table: 6 × 19</caption>\n",
       "<thead>\n",
       "\t<tr><th scope=col>PeakID</th><th scope=col>Chr</th><th scope=col>Start</th><th scope=col>End</th><th scope=col>Strand</th><th scope=col>Peak.Score</th><th scope=col>Focus.Ratio.Region.Size</th><th scope=col>Annotation</th><th scope=col>Detailed.Annotation</th><th scope=col>Distance.to.TSS</th><th scope=col>Nearest.PromoterID</th><th scope=col>Entrez.ID</th><th scope=col>Nearest.Unigene</th><th scope=col>Nearest.Refseq</th><th scope=col>Nearest.Ensembl</th><th scope=col>Gene.Name</th><th scope=col>Gene.Alias</th><th scope=col>Gene.Description</th><th scope=col>Gene.Type</th></tr>\n",
       "\t<tr><th scope=col>&lt;chr&gt;</th><th scope=col>&lt;chr&gt;</th><th scope=col>&lt;int&gt;</th><th scope=col>&lt;int&gt;</th><th scope=col>&lt;chr&gt;</th><th scope=col>&lt;int&gt;</th><th scope=col>&lt;lgl&gt;</th><th scope=col>&lt;chr&gt;</th><th scope=col>&lt;lgl&gt;</th><th scope=col>&lt;int&gt;</th><th scope=col>&lt;chr&gt;</th><th scope=col>&lt;lgl&gt;</th><th scope=col>&lt;lgl&gt;</th><th scope=col>&lt;lgl&gt;</th><th scope=col>&lt;lgl&gt;</th><th scope=col>&lt;lgl&gt;</th><th scope=col>&lt;lgl&gt;</th><th scope=col>&lt;lgl&gt;</th><th scope=col>&lt;lgl&gt;</th></tr>\n",
       "</thead>\n",
       "<tbody>\n",
       "\t<tr><td>2:43853174-43854059  </td><td>2 </td><td> 43853175</td><td> 43854059</td><td>+</td><td>0</td><td>NA</td><td>intron (ENST00000272286, intron 6 of 12)</td><td>NA</td><td>14646</td><td>ENST00000272286</td><td>NA</td><td>NA</td><td>NA</td><td>NA</td><td>NA</td><td>NA</td><td>NA</td><td>NA</td></tr>\n",
       "\t<tr><td>3:105459761-105460352</td><td>3 </td><td>105459762</td><td>105460352</td><td>+</td><td>0</td><td>NA</td><td>intron (ENST00000481337, intron 2 of 9) </td><td>NA</td><td>20719</td><td>ENST00000481337</td><td>NA</td><td>NA</td><td>NA</td><td>NA</td><td>NA</td><td>NA</td><td>NA</td><td>NA</td></tr>\n",
       "\t<tr><td>4:163788662-163788795</td><td>4 </td><td>163788663</td><td>163788795</td><td>+</td><td>0</td><td>NA</td><td>intron (ENST00000510696, intron 1 of 2) </td><td>NA</td><td>40384</td><td>ENST00000517192</td><td>NA</td><td>NA</td><td>NA</td><td>NA</td><td>NA</td><td>NA</td><td>NA</td><td>NA</td></tr>\n",
       "\t<tr><td>12:79873116-79873707 </td><td>12</td><td> 79873117</td><td> 79873707</td><td>+</td><td>0</td><td>NA</td><td>promoter-TSS (ENST00000548318)          </td><td>NA</td><td> -540</td><td>ENST00000548318</td><td>NA</td><td>NA</td><td>NA</td><td>NA</td><td>NA</td><td>NA</td><td>NA</td><td>NA</td></tr>\n",
       "\t<tr><td>2:208360244-208361442</td><td>2 </td><td>208360245</td><td>208361442</td><td>+</td><td>0</td><td>NA</td><td>exon (ENST00000434906, exon 1 of 1)     </td><td>NA</td><td>  526</td><td>ENST00000434906</td><td>NA</td><td>NA</td><td>NA</td><td>NA</td><td>NA</td><td>NA</td><td>NA</td><td>NA</td></tr>\n",
       "\t<tr><td>2:237868699-237869781</td><td>2 </td><td>237868700</td><td>237869781</td><td>+</td><td>0</td><td>NA</td><td>promoter-TSS (ENST00000579216)          </td><td>NA</td><td> -664</td><td>ENST00000579216</td><td>NA</td><td>NA</td><td>NA</td><td>NA</td><td>NA</td><td>NA</td><td>NA</td><td>NA</td></tr>\n",
       "</tbody>\n",
       "</table>\n"
      ],
      "text/latex": [
       "A data.table: 6 × 19\n",
       "\\begin{tabular}{lllllllllllllllllll}\n",
       " PeakID & Chr & Start & End & Strand & Peak.Score & Focus.Ratio.Region.Size & Annotation & Detailed.Annotation & Distance.to.TSS & Nearest.PromoterID & Entrez.ID & Nearest.Unigene & Nearest.Refseq & Nearest.Ensembl & Gene.Name & Gene.Alias & Gene.Description & Gene.Type\\\\\n",
       " <chr> & <chr> & <int> & <int> & <chr> & <int> & <lgl> & <chr> & <lgl> & <int> & <chr> & <lgl> & <lgl> & <lgl> & <lgl> & <lgl> & <lgl> & <lgl> & <lgl>\\\\\n",
       "\\hline\n",
       "\t 2:43853174-43854059   & 2  &  43853175 &  43854059 & + & 0 & NA & intron (ENST00000272286, intron 6 of 12) & NA & 14646 & ENST00000272286 & NA & NA & NA & NA & NA & NA & NA & NA\\\\\n",
       "\t 3:105459761-105460352 & 3  & 105459762 & 105460352 & + & 0 & NA & intron (ENST00000481337, intron 2 of 9)  & NA & 20719 & ENST00000481337 & NA & NA & NA & NA & NA & NA & NA & NA\\\\\n",
       "\t 4:163788662-163788795 & 4  & 163788663 & 163788795 & + & 0 & NA & intron (ENST00000510696, intron 1 of 2)  & NA & 40384 & ENST00000517192 & NA & NA & NA & NA & NA & NA & NA & NA\\\\\n",
       "\t 12:79873116-79873707  & 12 &  79873117 &  79873707 & + & 0 & NA & promoter-TSS (ENST00000548318)           & NA &  -540 & ENST00000548318 & NA & NA & NA & NA & NA & NA & NA & NA\\\\\n",
       "\t 2:208360244-208361442 & 2  & 208360245 & 208361442 & + & 0 & NA & exon (ENST00000434906, exon 1 of 1)      & NA &   526 & ENST00000434906 & NA & NA & NA & NA & NA & NA & NA & NA\\\\\n",
       "\t 2:237868699-237869781 & 2  & 237868700 & 237869781 & + & 0 & NA & promoter-TSS (ENST00000579216)           & NA &  -664 & ENST00000579216 & NA & NA & NA & NA & NA & NA & NA & NA\\\\\n",
       "\\end{tabular}\n"
      ],
      "text/markdown": [
       "\n",
       "A data.table: 6 × 19\n",
       "\n",
       "| PeakID &lt;chr&gt; | Chr &lt;chr&gt; | Start &lt;int&gt; | End &lt;int&gt; | Strand &lt;chr&gt; | Peak.Score &lt;int&gt; | Focus.Ratio.Region.Size &lt;lgl&gt; | Annotation &lt;chr&gt; | Detailed.Annotation &lt;lgl&gt; | Distance.to.TSS &lt;int&gt; | Nearest.PromoterID &lt;chr&gt; | Entrez.ID &lt;lgl&gt; | Nearest.Unigene &lt;lgl&gt; | Nearest.Refseq &lt;lgl&gt; | Nearest.Ensembl &lt;lgl&gt; | Gene.Name &lt;lgl&gt; | Gene.Alias &lt;lgl&gt; | Gene.Description &lt;lgl&gt; | Gene.Type &lt;lgl&gt; |\n",
       "|---|---|---|---|---|---|---|---|---|---|---|---|---|---|---|---|---|---|---|\n",
       "| 2:43853174-43854059   | 2  |  43853175 |  43854059 | + | 0 | NA | intron (ENST00000272286, intron 6 of 12) | NA | 14646 | ENST00000272286 | NA | NA | NA | NA | NA | NA | NA | NA |\n",
       "| 3:105459761-105460352 | 3  | 105459762 | 105460352 | + | 0 | NA | intron (ENST00000481337, intron 2 of 9)  | NA | 20719 | ENST00000481337 | NA | NA | NA | NA | NA | NA | NA | NA |\n",
       "| 4:163788662-163788795 | 4  | 163788663 | 163788795 | + | 0 | NA | intron (ENST00000510696, intron 1 of 2)  | NA | 40384 | ENST00000517192 | NA | NA | NA | NA | NA | NA | NA | NA |\n",
       "| 12:79873116-79873707  | 12 |  79873117 |  79873707 | + | 0 | NA | promoter-TSS (ENST00000548318)           | NA |  -540 | ENST00000548318 | NA | NA | NA | NA | NA | NA | NA | NA |\n",
       "| 2:208360244-208361442 | 2  | 208360245 | 208361442 | + | 0 | NA | exon (ENST00000434906, exon 1 of 1)      | NA |   526 | ENST00000434906 | NA | NA | NA | NA | NA | NA | NA | NA |\n",
       "| 2:237868699-237869781 | 2  | 237868700 | 237869781 | + | 0 | NA | promoter-TSS (ENST00000579216)           | NA |  -664 | ENST00000579216 | NA | NA | NA | NA | NA | NA | NA | NA |\n",
       "\n"
      ],
      "text/plain": [
       "  PeakID                Chr Start     End       Strand Peak.Score\n",
       "1 2:43853174-43854059   2    43853175  43854059 +      0         \n",
       "2 3:105459761-105460352 3   105459762 105460352 +      0         \n",
       "3 4:163788662-163788795 4   163788663 163788795 +      0         \n",
       "4 12:79873116-79873707  12   79873117  79873707 +      0         \n",
       "5 2:208360244-208361442 2   208360245 208361442 +      0         \n",
       "6 2:237868699-237869781 2   237868700 237869781 +      0         \n",
       "  Focus.Ratio.Region.Size Annotation                              \n",
       "1 NA                      intron (ENST00000272286, intron 6 of 12)\n",
       "2 NA                      intron (ENST00000481337, intron 2 of 9) \n",
       "3 NA                      intron (ENST00000510696, intron 1 of 2) \n",
       "4 NA                      promoter-TSS (ENST00000548318)          \n",
       "5 NA                      exon (ENST00000434906, exon 1 of 1)     \n",
       "6 NA                      promoter-TSS (ENST00000579216)          \n",
       "  Detailed.Annotation Distance.to.TSS Nearest.PromoterID Entrez.ID\n",
       "1 NA                  14646           ENST00000272286    NA       \n",
       "2 NA                  20719           ENST00000481337    NA       \n",
       "3 NA                  40384           ENST00000517192    NA       \n",
       "4 NA                   -540           ENST00000548318    NA       \n",
       "5 NA                    526           ENST00000434906    NA       \n",
       "6 NA                   -664           ENST00000579216    NA       \n",
       "  Nearest.Unigene Nearest.Refseq Nearest.Ensembl Gene.Name Gene.Alias\n",
       "1 NA              NA             NA              NA        NA        \n",
       "2 NA              NA             NA              NA        NA        \n",
       "3 NA              NA             NA              NA        NA        \n",
       "4 NA              NA             NA              NA        NA        \n",
       "5 NA              NA             NA              NA        NA        \n",
       "6 NA              NA             NA              NA        NA        \n",
       "  Gene.Description Gene.Type\n",
       "1 NA               NA       \n",
       "2 NA               NA       \n",
       "3 NA               NA       \n",
       "4 NA               NA       \n",
       "5 NA               NA       \n",
       "6 NA               NA       "
      ]
     },
     "metadata": {},
     "output_type": "display_data"
    }
   ],
   "source": [
    "head(ia.homer.annot)"
   ]
  },
  {
   "cell_type": "code",
   "execution_count": 5,
   "id": "27afbf8e-17e1-45ac-8db2-dda6f383fe05",
   "metadata": {},
   "outputs": [],
   "source": [
    "na.homer.annot <- fread(\"~/gains_team282/epigenetics/accessibility/analysis/atac_seq/neutrophil/motifs/homer/consensus_peak_annotation.txt\", sep=\"\\t\")\n",
    "\n",
    "colnames(na.homer.annot)[1] <- \"PeakID\"\n",
    "colnames(na.homer.annot) <- make.names(colnames(na.homer.annot))"
   ]
  },
  {
   "cell_type": "code",
   "execution_count": 6,
   "id": "b6d7afaa-60fe-4864-bb55-938268378367",
   "metadata": {},
   "outputs": [
    {
     "data": {
      "text/html": [
       "<table class=\"dataframe\">\n",
       "<caption>A data.table: 6 × 19</caption>\n",
       "<thead>\n",
       "\t<tr><th scope=col>PeakID</th><th scope=col>Chr</th><th scope=col>Start</th><th scope=col>End</th><th scope=col>Strand</th><th scope=col>Peak.Score</th><th scope=col>Focus.Ratio.Region.Size</th><th scope=col>Annotation</th><th scope=col>Detailed.Annotation</th><th scope=col>Distance.to.TSS</th><th scope=col>Nearest.PromoterID</th><th scope=col>Entrez.ID</th><th scope=col>Nearest.Unigene</th><th scope=col>Nearest.Refseq</th><th scope=col>Nearest.Ensembl</th><th scope=col>Gene.Name</th><th scope=col>Gene.Alias</th><th scope=col>Gene.Description</th><th scope=col>Gene.Type</th></tr>\n",
       "\t<tr><th scope=col>&lt;chr&gt;</th><th scope=col>&lt;chr&gt;</th><th scope=col>&lt;int&gt;</th><th scope=col>&lt;int&gt;</th><th scope=col>&lt;chr&gt;</th><th scope=col>&lt;int&gt;</th><th scope=col>&lt;lgl&gt;</th><th scope=col>&lt;chr&gt;</th><th scope=col>&lt;lgl&gt;</th><th scope=col>&lt;int&gt;</th><th scope=col>&lt;chr&gt;</th><th scope=col>&lt;lgl&gt;</th><th scope=col>&lt;lgl&gt;</th><th scope=col>&lt;lgl&gt;</th><th scope=col>&lt;lgl&gt;</th><th scope=col>&lt;lgl&gt;</th><th scope=col>&lt;lgl&gt;</th><th scope=col>&lt;lgl&gt;</th><th scope=col>&lt;lgl&gt;</th></tr>\n",
       "</thead>\n",
       "<tbody>\n",
       "\t<tr><td>1:210566822-210567721 </td><td>1 </td><td>210566823</td><td>210567721</td><td>+</td><td>0</td><td>NA</td><td>intron (ENST00000367010, intron 9 of 11)</td><td>NA</td><td>-104260</td><td>ENST00000605288</td><td>NA</td><td>NA</td><td>NA</td><td>NA</td><td>NA</td><td>NA</td><td>NA</td><td>NA</td></tr>\n",
       "\t<tr><td>13:84325941-84326312  </td><td>13</td><td> 84325942</td><td> 84326312</td><td>+</td><td>0</td><td>NA</td><td>intron (ENST00000653443, intron 3 of 4) </td><td>NA</td><td> 185553</td><td>ENST00000654433</td><td>NA</td><td>NA</td><td>NA</td><td>NA</td><td>NA</td><td>NA</td><td>NA</td><td>NA</td></tr>\n",
       "\t<tr><td>3:116628347-116628618 </td><td>3 </td><td>116628348</td><td>116628618</td><td>+</td><td>0</td><td>NA</td><td>intron (ENST00000474851, intron 2 of 4) </td><td>NA</td><td>  18244</td><td>ENST00000473537</td><td>NA</td><td>NA</td><td>NA</td><td>NA</td><td>NA</td><td>NA</td><td>NA</td><td>NA</td></tr>\n",
       "\t<tr><td>11:117760748-117761108</td><td>11</td><td>117760749</td><td>117761108</td><td>+</td><td>0</td><td>NA</td><td>intron (ENST00000321322, intron 3 of 32)</td><td>NA</td><td>  36163</td><td>ENST00000527706</td><td>NA</td><td>NA</td><td>NA</td><td>NA</td><td>NA</td><td>NA</td><td>NA</td><td>NA</td></tr>\n",
       "\t<tr><td>17:36196373-36197151  </td><td>17</td><td> 36196374</td><td> 36197151</td><td>+</td><td>0</td><td>NA</td><td>promoter-TSS (ENST00000616702)          </td><td>NA</td><td>     -4</td><td>ENST00000619989</td><td>NA</td><td>NA</td><td>NA</td><td>NA</td><td>NA</td><td>NA</td><td>NA</td><td>NA</td></tr>\n",
       "\t<tr><td>8:80246320-80246762   </td><td>8 </td><td> 80246321</td><td> 80246762</td><td>+</td><td>0</td><td>NA</td><td>Intergenic                              </td><td>NA</td><td>   5152</td><td>ENST00000579723</td><td>NA</td><td>NA</td><td>NA</td><td>NA</td><td>NA</td><td>NA</td><td>NA</td><td>NA</td></tr>\n",
       "</tbody>\n",
       "</table>\n"
      ],
      "text/latex": [
       "A data.table: 6 × 19\n",
       "\\begin{tabular}{lllllllllllllllllll}\n",
       " PeakID & Chr & Start & End & Strand & Peak.Score & Focus.Ratio.Region.Size & Annotation & Detailed.Annotation & Distance.to.TSS & Nearest.PromoterID & Entrez.ID & Nearest.Unigene & Nearest.Refseq & Nearest.Ensembl & Gene.Name & Gene.Alias & Gene.Description & Gene.Type\\\\\n",
       " <chr> & <chr> & <int> & <int> & <chr> & <int> & <lgl> & <chr> & <lgl> & <int> & <chr> & <lgl> & <lgl> & <lgl> & <lgl> & <lgl> & <lgl> & <lgl> & <lgl>\\\\\n",
       "\\hline\n",
       "\t 1:210566822-210567721  & 1  & 210566823 & 210567721 & + & 0 & NA & intron (ENST00000367010, intron 9 of 11) & NA & -104260 & ENST00000605288 & NA & NA & NA & NA & NA & NA & NA & NA\\\\\n",
       "\t 13:84325941-84326312   & 13 &  84325942 &  84326312 & + & 0 & NA & intron (ENST00000653443, intron 3 of 4)  & NA &  185553 & ENST00000654433 & NA & NA & NA & NA & NA & NA & NA & NA\\\\\n",
       "\t 3:116628347-116628618  & 3  & 116628348 & 116628618 & + & 0 & NA & intron (ENST00000474851, intron 2 of 4)  & NA &   18244 & ENST00000473537 & NA & NA & NA & NA & NA & NA & NA & NA\\\\\n",
       "\t 11:117760748-117761108 & 11 & 117760749 & 117761108 & + & 0 & NA & intron (ENST00000321322, intron 3 of 32) & NA &   36163 & ENST00000527706 & NA & NA & NA & NA & NA & NA & NA & NA\\\\\n",
       "\t 17:36196373-36197151   & 17 &  36196374 &  36197151 & + & 0 & NA & promoter-TSS (ENST00000616702)           & NA &      -4 & ENST00000619989 & NA & NA & NA & NA & NA & NA & NA & NA\\\\\n",
       "\t 8:80246320-80246762    & 8  &  80246321 &  80246762 & + & 0 & NA & Intergenic                               & NA &    5152 & ENST00000579723 & NA & NA & NA & NA & NA & NA & NA & NA\\\\\n",
       "\\end{tabular}\n"
      ],
      "text/markdown": [
       "\n",
       "A data.table: 6 × 19\n",
       "\n",
       "| PeakID &lt;chr&gt; | Chr &lt;chr&gt; | Start &lt;int&gt; | End &lt;int&gt; | Strand &lt;chr&gt; | Peak.Score &lt;int&gt; | Focus.Ratio.Region.Size &lt;lgl&gt; | Annotation &lt;chr&gt; | Detailed.Annotation &lt;lgl&gt; | Distance.to.TSS &lt;int&gt; | Nearest.PromoterID &lt;chr&gt; | Entrez.ID &lt;lgl&gt; | Nearest.Unigene &lt;lgl&gt; | Nearest.Refseq &lt;lgl&gt; | Nearest.Ensembl &lt;lgl&gt; | Gene.Name &lt;lgl&gt; | Gene.Alias &lt;lgl&gt; | Gene.Description &lt;lgl&gt; | Gene.Type &lt;lgl&gt; |\n",
       "|---|---|---|---|---|---|---|---|---|---|---|---|---|---|---|---|---|---|---|\n",
       "| 1:210566822-210567721  | 1  | 210566823 | 210567721 | + | 0 | NA | intron (ENST00000367010, intron 9 of 11) | NA | -104260 | ENST00000605288 | NA | NA | NA | NA | NA | NA | NA | NA |\n",
       "| 13:84325941-84326312   | 13 |  84325942 |  84326312 | + | 0 | NA | intron (ENST00000653443, intron 3 of 4)  | NA |  185553 | ENST00000654433 | NA | NA | NA | NA | NA | NA | NA | NA |\n",
       "| 3:116628347-116628618  | 3  | 116628348 | 116628618 | + | 0 | NA | intron (ENST00000474851, intron 2 of 4)  | NA |   18244 | ENST00000473537 | NA | NA | NA | NA | NA | NA | NA | NA |\n",
       "| 11:117760748-117761108 | 11 | 117760749 | 117761108 | + | 0 | NA | intron (ENST00000321322, intron 3 of 32) | NA |   36163 | ENST00000527706 | NA | NA | NA | NA | NA | NA | NA | NA |\n",
       "| 17:36196373-36197151   | 17 |  36196374 |  36197151 | + | 0 | NA | promoter-TSS (ENST00000616702)           | NA |      -4 | ENST00000619989 | NA | NA | NA | NA | NA | NA | NA | NA |\n",
       "| 8:80246320-80246762    | 8  |  80246321 |  80246762 | + | 0 | NA | Intergenic                               | NA |    5152 | ENST00000579723 | NA | NA | NA | NA | NA | NA | NA | NA |\n",
       "\n"
      ],
      "text/plain": [
       "  PeakID                 Chr Start     End       Strand Peak.Score\n",
       "1 1:210566822-210567721  1   210566823 210567721 +      0         \n",
       "2 13:84325941-84326312   13   84325942  84326312 +      0         \n",
       "3 3:116628347-116628618  3   116628348 116628618 +      0         \n",
       "4 11:117760748-117761108 11  117760749 117761108 +      0         \n",
       "5 17:36196373-36197151   17   36196374  36197151 +      0         \n",
       "6 8:80246320-80246762    8    80246321  80246762 +      0         \n",
       "  Focus.Ratio.Region.Size Annotation                              \n",
       "1 NA                      intron (ENST00000367010, intron 9 of 11)\n",
       "2 NA                      intron (ENST00000653443, intron 3 of 4) \n",
       "3 NA                      intron (ENST00000474851, intron 2 of 4) \n",
       "4 NA                      intron (ENST00000321322, intron 3 of 32)\n",
       "5 NA                      promoter-TSS (ENST00000616702)          \n",
       "6 NA                      Intergenic                              \n",
       "  Detailed.Annotation Distance.to.TSS Nearest.PromoterID Entrez.ID\n",
       "1 NA                  -104260         ENST00000605288    NA       \n",
       "2 NA                   185553         ENST00000654433    NA       \n",
       "3 NA                    18244         ENST00000473537    NA       \n",
       "4 NA                    36163         ENST00000527706    NA       \n",
       "5 NA                       -4         ENST00000619989    NA       \n",
       "6 NA                     5152         ENST00000579723    NA       \n",
       "  Nearest.Unigene Nearest.Refseq Nearest.Ensembl Gene.Name Gene.Alias\n",
       "1 NA              NA             NA              NA        NA        \n",
       "2 NA              NA             NA              NA        NA        \n",
       "3 NA              NA             NA              NA        NA        \n",
       "4 NA              NA             NA              NA        NA        \n",
       "5 NA              NA             NA              NA        NA        \n",
       "6 NA              NA             NA              NA        NA        \n",
       "  Gene.Description Gene.Type\n",
       "1 NA               NA       \n",
       "2 NA               NA       \n",
       "3 NA               NA       \n",
       "4 NA               NA       \n",
       "5 NA               NA       \n",
       "6 NA               NA       "
      ]
     },
     "metadata": {},
     "output_type": "display_data"
    }
   ],
   "source": [
    "head(na.homer.annot)"
   ]
  },
  {
   "cell_type": "code",
   "execution_count": 7,
   "id": "f41b40d8-9542-4d0a-abd5-3563d39d93e9",
   "metadata": {},
   "outputs": [],
   "source": [
    "ia.motifs <- read.table(\"~/gains_team282/epigenetics/accessibility/analysis/atac_seq/immune/motifs/consensus/consensus.enrichment.tsv\", header=T, sep=\"\\t\", comment.char=\"#\") %>%\n",
    "    dplyr::select(RANK, ID, ALT_ID, ENR_RATIO, LOG_QVALUE) %>%\n",
    "    dplyr::mutate(TF=str_to_upper(gsub(\".*\\\\.\", \"\", ALT_ID)))"
   ]
  },
  {
   "cell_type": "code",
   "execution_count": 8,
   "id": "89d05e1e-0131-46b2-8e03-25e88251b63e",
   "metadata": {},
   "outputs": [
    {
     "data": {
      "text/html": [
       "<table class=\"dataframe\">\n",
       "<caption>A data.frame: 6 × 6</caption>\n",
       "<thead>\n",
       "\t<tr><th></th><th scope=col>RANK</th><th scope=col>ID</th><th scope=col>ALT_ID</th><th scope=col>ENR_RATIO</th><th scope=col>LOG_QVALUE</th><th scope=col>TF</th></tr>\n",
       "\t<tr><th></th><th scope=col>&lt;int&gt;</th><th scope=col>&lt;chr&gt;</th><th scope=col>&lt;chr&gt;</th><th scope=col>&lt;dbl&gt;</th><th scope=col>&lt;dbl&gt;</th><th scope=col>&lt;chr&gt;</th></tr>\n",
       "</thead>\n",
       "<tbody>\n",
       "\t<tr><th scope=row>1</th><td>1</td><td>MA0139.1</td><td>MA0139.1.CTCF     </td><td>4.09</td><td>-8701.31</td><td>CTCF     </td></tr>\n",
       "\t<tr><th scope=row>2</th><td>2</td><td>MA2025.1</td><td>MA2025.1.CTCF     </td><td>3.41</td><td>-6009.93</td><td>CTCF     </td></tr>\n",
       "\t<tr><th scope=row>3</th><td>3</td><td>MA2036.1</td><td>MA2036.1.Atf3     </td><td>2.57</td><td>-5747.97</td><td>ATF3     </td></tr>\n",
       "\t<tr><th scope=row>4</th><td>4</td><td>MA0489.2</td><td>MA0489.2.Jun      </td><td>2.55</td><td>-5512.99</td><td>JUN      </td></tr>\n",
       "\t<tr><th scope=row>5</th><td>5</td><td>MA1141.1</td><td>MA1141.1.FOS::JUND</td><td>2.36</td><td>-5506.91</td><td>FOS::JUND</td></tr>\n",
       "\t<tr><th scope=row>6</th><td>6</td><td>MA2022.1</td><td>MA2022.1.BNC2     </td><td>2.52</td><td>-5361.75</td><td>BNC2     </td></tr>\n",
       "</tbody>\n",
       "</table>\n"
      ],
      "text/latex": [
       "A data.frame: 6 × 6\n",
       "\\begin{tabular}{r|llllll}\n",
       "  & RANK & ID & ALT\\_ID & ENR\\_RATIO & LOG\\_QVALUE & TF\\\\\n",
       "  & <int> & <chr> & <chr> & <dbl> & <dbl> & <chr>\\\\\n",
       "\\hline\n",
       "\t1 & 1 & MA0139.1 & MA0139.1.CTCF      & 4.09 & -8701.31 & CTCF     \\\\\n",
       "\t2 & 2 & MA2025.1 & MA2025.1.CTCF      & 3.41 & -6009.93 & CTCF     \\\\\n",
       "\t3 & 3 & MA2036.1 & MA2036.1.Atf3      & 2.57 & -5747.97 & ATF3     \\\\\n",
       "\t4 & 4 & MA0489.2 & MA0489.2.Jun       & 2.55 & -5512.99 & JUN      \\\\\n",
       "\t5 & 5 & MA1141.1 & MA1141.1.FOS::JUND & 2.36 & -5506.91 & FOS::JUND\\\\\n",
       "\t6 & 6 & MA2022.1 & MA2022.1.BNC2      & 2.52 & -5361.75 & BNC2     \\\\\n",
       "\\end{tabular}\n"
      ],
      "text/markdown": [
       "\n",
       "A data.frame: 6 × 6\n",
       "\n",
       "| <!--/--> | RANK &lt;int&gt; | ID &lt;chr&gt; | ALT_ID &lt;chr&gt; | ENR_RATIO &lt;dbl&gt; | LOG_QVALUE &lt;dbl&gt; | TF &lt;chr&gt; |\n",
       "|---|---|---|---|---|---|---|\n",
       "| 1 | 1 | MA0139.1 | MA0139.1.CTCF      | 4.09 | -8701.31 | CTCF      |\n",
       "| 2 | 2 | MA2025.1 | MA2025.1.CTCF      | 3.41 | -6009.93 | CTCF      |\n",
       "| 3 | 3 | MA2036.1 | MA2036.1.Atf3      | 2.57 | -5747.97 | ATF3      |\n",
       "| 4 | 4 | MA0489.2 | MA0489.2.Jun       | 2.55 | -5512.99 | JUN       |\n",
       "| 5 | 5 | MA1141.1 | MA1141.1.FOS::JUND | 2.36 | -5506.91 | FOS::JUND |\n",
       "| 6 | 6 | MA2022.1 | MA2022.1.BNC2      | 2.52 | -5361.75 | BNC2      |\n",
       "\n"
      ],
      "text/plain": [
       "  RANK ID       ALT_ID             ENR_RATIO LOG_QVALUE TF       \n",
       "1 1    MA0139.1 MA0139.1.CTCF      4.09      -8701.31   CTCF     \n",
       "2 2    MA2025.1 MA2025.1.CTCF      3.41      -6009.93   CTCF     \n",
       "3 3    MA2036.1 MA2036.1.Atf3      2.57      -5747.97   ATF3     \n",
       "4 4    MA0489.2 MA0489.2.Jun       2.55      -5512.99   JUN      \n",
       "5 5    MA1141.1 MA1141.1.FOS::JUND 2.36      -5506.91   FOS::JUND\n",
       "6 6    MA2022.1 MA2022.1.BNC2      2.52      -5361.75   BNC2     "
      ]
     },
     "metadata": {},
     "output_type": "display_data"
    }
   ],
   "source": [
    "head(ia.motifs)"
   ]
  },
  {
   "cell_type": "code",
   "execution_count": 9,
   "id": "ef747df3-29ee-4d1d-8d14-b19466733760",
   "metadata": {},
   "outputs": [],
   "source": [
    "na.motifs <- read.table(\"~/gains_team282/epigenetics/accessibility/analysis/atac_seq/neutrophil/motifs/consensus/consensus.enrichment.tsv\", header=T, sep=\"\\t\", comment.char=\"#\") %>%\n",
    "    dplyr::select(RANK, ID, ALT_ID, ENR_RATIO, LOG_QVALUE) %>%\n",
    "    dplyr::mutate(TF=str_to_upper(gsub(\".*\\\\.\", \"\", ALT_ID)))"
   ]
  },
  {
   "cell_type": "code",
   "execution_count": 10,
   "id": "f58326f1-c57c-47e8-b8d2-b9182382abc1",
   "metadata": {},
   "outputs": [
    {
     "data": {
      "text/html": [
       "<table class=\"dataframe\">\n",
       "<caption>A data.frame: 6 × 6</caption>\n",
       "<thead>\n",
       "\t<tr><th></th><th scope=col>RANK</th><th scope=col>ID</th><th scope=col>ALT_ID</th><th scope=col>ENR_RATIO</th><th scope=col>LOG_QVALUE</th><th scope=col>TF</th></tr>\n",
       "\t<tr><th></th><th scope=col>&lt;int&gt;</th><th scope=col>&lt;chr&gt;</th><th scope=col>&lt;chr&gt;</th><th scope=col>&lt;dbl&gt;</th><th scope=col>&lt;dbl&gt;</th><th scope=col>&lt;chr&gt;</th></tr>\n",
       "</thead>\n",
       "<tbody>\n",
       "\t<tr><th scope=row>1</th><td>1</td><td>MA2025.1</td><td>MA2025.1.CTCF  </td><td>3.69</td><td>-3363.73</td><td>CTCF  </td></tr>\n",
       "\t<tr><th scope=row>2</th><td>2</td><td>MA0506.2</td><td>MA0506.2.Nrf1  </td><td>4.41</td><td>-2973.13</td><td>NRF1  </td></tr>\n",
       "\t<tr><th scope=row>3</th><td>3</td><td>MA1721.1</td><td>MA1721.1.ZNF93 </td><td>3.90</td><td>-2962.85</td><td>ZNF93 </td></tr>\n",
       "\t<tr><th scope=row>4</th><td>4</td><td>MA1713.1</td><td>MA1713.1.ZNF610</td><td>3.60</td><td>-2864.14</td><td>ZNF610</td></tr>\n",
       "\t<tr><th scope=row>5</th><td>5</td><td>MA2026.1</td><td>MA2026.1.CTCF  </td><td>2.97</td><td>-2548.18</td><td>CTCF  </td></tr>\n",
       "\t<tr><th scope=row>6</th><td>6</td><td>MA1712.1</td><td>MA1712.1.ZNF454</td><td>3.35</td><td>-2544.19</td><td>ZNF454</td></tr>\n",
       "</tbody>\n",
       "</table>\n"
      ],
      "text/latex": [
       "A data.frame: 6 × 6\n",
       "\\begin{tabular}{r|llllll}\n",
       "  & RANK & ID & ALT\\_ID & ENR\\_RATIO & LOG\\_QVALUE & TF\\\\\n",
       "  & <int> & <chr> & <chr> & <dbl> & <dbl> & <chr>\\\\\n",
       "\\hline\n",
       "\t1 & 1 & MA2025.1 & MA2025.1.CTCF   & 3.69 & -3363.73 & CTCF  \\\\\n",
       "\t2 & 2 & MA0506.2 & MA0506.2.Nrf1   & 4.41 & -2973.13 & NRF1  \\\\\n",
       "\t3 & 3 & MA1721.1 & MA1721.1.ZNF93  & 3.90 & -2962.85 & ZNF93 \\\\\n",
       "\t4 & 4 & MA1713.1 & MA1713.1.ZNF610 & 3.60 & -2864.14 & ZNF610\\\\\n",
       "\t5 & 5 & MA2026.1 & MA2026.1.CTCF   & 2.97 & -2548.18 & CTCF  \\\\\n",
       "\t6 & 6 & MA1712.1 & MA1712.1.ZNF454 & 3.35 & -2544.19 & ZNF454\\\\\n",
       "\\end{tabular}\n"
      ],
      "text/markdown": [
       "\n",
       "A data.frame: 6 × 6\n",
       "\n",
       "| <!--/--> | RANK &lt;int&gt; | ID &lt;chr&gt; | ALT_ID &lt;chr&gt; | ENR_RATIO &lt;dbl&gt; | LOG_QVALUE &lt;dbl&gt; | TF &lt;chr&gt; |\n",
       "|---|---|---|---|---|---|---|\n",
       "| 1 | 1 | MA2025.1 | MA2025.1.CTCF   | 3.69 | -3363.73 | CTCF   |\n",
       "| 2 | 2 | MA0506.2 | MA0506.2.Nrf1   | 4.41 | -2973.13 | NRF1   |\n",
       "| 3 | 3 | MA1721.1 | MA1721.1.ZNF93  | 3.90 | -2962.85 | ZNF93  |\n",
       "| 4 | 4 | MA1713.1 | MA1713.1.ZNF610 | 3.60 | -2864.14 | ZNF610 |\n",
       "| 5 | 5 | MA2026.1 | MA2026.1.CTCF   | 2.97 | -2548.18 | CTCF   |\n",
       "| 6 | 6 | MA1712.1 | MA1712.1.ZNF454 | 3.35 | -2544.19 | ZNF454 |\n",
       "\n"
      ],
      "text/plain": [
       "  RANK ID       ALT_ID          ENR_RATIO LOG_QVALUE TF    \n",
       "1 1    MA2025.1 MA2025.1.CTCF   3.69      -3363.73   CTCF  \n",
       "2 2    MA0506.2 MA0506.2.Nrf1   4.41      -2973.13   NRF1  \n",
       "3 3    MA1721.1 MA1721.1.ZNF93  3.90      -2962.85   ZNF93 \n",
       "4 4    MA1713.1 MA1713.1.ZNF610 3.60      -2864.14   ZNF610\n",
       "5 5    MA2026.1 MA2026.1.CTCF   2.97      -2548.18   CTCF  \n",
       "6 6    MA1712.1 MA1712.1.ZNF454 3.35      -2544.19   ZNF454"
      ]
     },
     "metadata": {},
     "output_type": "display_data"
    }
   ],
   "source": [
    "head(na.motifs)"
   ]
  },
  {
   "cell_type": "code",
   "execution_count": 11,
   "id": "884de8b7-a7d1-4335-9039-af65de0b8d1c",
   "metadata": {},
   "outputs": [],
   "source": [
    "groups <- list.files(\"~/gains_team282/epigenetics/accessibility/analysis/atac_seq/immune/motifs/group_motifs/\")\n",
    "\n",
    "ia.group.motifs <- lapply(groups, function(group) {\n",
    "    read.table(paste0(\"~/gains_team282/epigenetics/accessibility/analysis/atac_seq/immune/motifs/group_motifs/\", group, \"/\", group, \".enrichment.tsv\"), header=T, sep=\"\\t\", comment.char=\"#\") %>%\n",
    "        dplyr::select(RANK, ID, ALT_ID, ENR_RATIO, LOG_QVALUE) %>%\n",
    "        dplyr::mutate(TF=str_to_upper(gsub(\".*\\\\.\", \"\", ALT_ID))) %>%\n",
    "        dplyr::mutate(Group=group)\n",
    "}) %>%\n",
    "    do.call(rbind, .)"
   ]
  },
  {
   "cell_type": "code",
   "execution_count": 12,
   "id": "22fa1a26-3569-4091-8292-79d03548f46d",
   "metadata": {},
   "outputs": [
    {
     "data": {
      "text/html": [
       "<table class=\"dataframe\">\n",
       "<caption>A data.frame: 6 × 7</caption>\n",
       "<thead>\n",
       "\t<tr><th></th><th scope=col>RANK</th><th scope=col>ID</th><th scope=col>ALT_ID</th><th scope=col>ENR_RATIO</th><th scope=col>LOG_QVALUE</th><th scope=col>TF</th><th scope=col>Group</th></tr>\n",
       "\t<tr><th></th><th scope=col>&lt;int&gt;</th><th scope=col>&lt;chr&gt;</th><th scope=col>&lt;chr&gt;</th><th scope=col>&lt;dbl&gt;</th><th scope=col>&lt;dbl&gt;</th><th scope=col>&lt;chr&gt;</th><th scope=col>&lt;chr&gt;</th></tr>\n",
       "</thead>\n",
       "<tbody>\n",
       "\t<tr><th scope=row>1</th><td>1</td><td>MA0477.2</td><td>MA0477.2.FOSL1    </td><td>2.04</td><td>-1049.11</td><td>FOSL1    </td><td>Bulk_B</td></tr>\n",
       "\t<tr><th scope=row>2</th><td>2</td><td>MA0835.2</td><td>MA0835.2.BATF3    </td><td>2.15</td><td>-1035.96</td><td>BATF3    </td><td>Bulk_B</td></tr>\n",
       "\t<tr><th scope=row>3</th><td>3</td><td>MA1634.1</td><td>MA1634.1.BATF     </td><td>1.92</td><td>-1035.78</td><td>BATF     </td><td>Bulk_B</td></tr>\n",
       "\t<tr><th scope=row>4</th><td>4</td><td>MA0489.2</td><td>MA0489.2.Jun      </td><td>2.20</td><td>-1035.25</td><td>JUN      </td><td>Bulk_B</td></tr>\n",
       "\t<tr><th scope=row>5</th><td>5</td><td>MA0462.2</td><td>MA0462.2.BATF::JUN</td><td>1.96</td><td>-1015.19</td><td>BATF::JUN</td><td>Bulk_B</td></tr>\n",
       "\t<tr><th scope=row>6</th><td>6</td><td>MA0476.1</td><td>MA0476.1.FOS      </td><td>1.98</td><td>-1013.12</td><td>FOS      </td><td>Bulk_B</td></tr>\n",
       "</tbody>\n",
       "</table>\n"
      ],
      "text/latex": [
       "A data.frame: 6 × 7\n",
       "\\begin{tabular}{r|lllllll}\n",
       "  & RANK & ID & ALT\\_ID & ENR\\_RATIO & LOG\\_QVALUE & TF & Group\\\\\n",
       "  & <int> & <chr> & <chr> & <dbl> & <dbl> & <chr> & <chr>\\\\\n",
       "\\hline\n",
       "\t1 & 1 & MA0477.2 & MA0477.2.FOSL1     & 2.04 & -1049.11 & FOSL1     & Bulk\\_B\\\\\n",
       "\t2 & 2 & MA0835.2 & MA0835.2.BATF3     & 2.15 & -1035.96 & BATF3     & Bulk\\_B\\\\\n",
       "\t3 & 3 & MA1634.1 & MA1634.1.BATF      & 1.92 & -1035.78 & BATF      & Bulk\\_B\\\\\n",
       "\t4 & 4 & MA0489.2 & MA0489.2.Jun       & 2.20 & -1035.25 & JUN       & Bulk\\_B\\\\\n",
       "\t5 & 5 & MA0462.2 & MA0462.2.BATF::JUN & 1.96 & -1015.19 & BATF::JUN & Bulk\\_B\\\\\n",
       "\t6 & 6 & MA0476.1 & MA0476.1.FOS       & 1.98 & -1013.12 & FOS       & Bulk\\_B\\\\\n",
       "\\end{tabular}\n"
      ],
      "text/markdown": [
       "\n",
       "A data.frame: 6 × 7\n",
       "\n",
       "| <!--/--> | RANK &lt;int&gt; | ID &lt;chr&gt; | ALT_ID &lt;chr&gt; | ENR_RATIO &lt;dbl&gt; | LOG_QVALUE &lt;dbl&gt; | TF &lt;chr&gt; | Group &lt;chr&gt; |\n",
       "|---|---|---|---|---|---|---|---|\n",
       "| 1 | 1 | MA0477.2 | MA0477.2.FOSL1     | 2.04 | -1049.11 | FOSL1     | Bulk_B |\n",
       "| 2 | 2 | MA0835.2 | MA0835.2.BATF3     | 2.15 | -1035.96 | BATF3     | Bulk_B |\n",
       "| 3 | 3 | MA1634.1 | MA1634.1.BATF      | 1.92 | -1035.78 | BATF      | Bulk_B |\n",
       "| 4 | 4 | MA0489.2 | MA0489.2.Jun       | 2.20 | -1035.25 | JUN       | Bulk_B |\n",
       "| 5 | 5 | MA0462.2 | MA0462.2.BATF::JUN | 1.96 | -1015.19 | BATF::JUN | Bulk_B |\n",
       "| 6 | 6 | MA0476.1 | MA0476.1.FOS       | 1.98 | -1013.12 | FOS       | Bulk_B |\n",
       "\n"
      ],
      "text/plain": [
       "  RANK ID       ALT_ID             ENR_RATIO LOG_QVALUE TF        Group \n",
       "1 1    MA0477.2 MA0477.2.FOSL1     2.04      -1049.11   FOSL1     Bulk_B\n",
       "2 2    MA0835.2 MA0835.2.BATF3     2.15      -1035.96   BATF3     Bulk_B\n",
       "3 3    MA1634.1 MA1634.1.BATF      1.92      -1035.78   BATF      Bulk_B\n",
       "4 4    MA0489.2 MA0489.2.Jun       2.20      -1035.25   JUN       Bulk_B\n",
       "5 5    MA0462.2 MA0462.2.BATF::JUN 1.96      -1015.19   BATF::JUN Bulk_B\n",
       "6 6    MA0476.1 MA0476.1.FOS       1.98      -1013.12   FOS       Bulk_B"
      ]
     },
     "metadata": {},
     "output_type": "display_data"
    }
   ],
   "source": [
    "head(ia.group.motifs)"
   ]
  },
  {
   "cell_type": "code",
   "execution_count": 13,
   "id": "25caa3be-37dc-4aaf-aa39-e5db3e6dafef",
   "metadata": {},
   "outputs": [],
   "source": [
    "groups <- list.files(\"~/gains_team282/epigenetics/accessibility/analysis/atac_seq/neutrophil/motifs/group_motifs/\")\n",
    "\n",
    "na.group.motifs <- lapply(groups, function(group) {\n",
    "    read.table(paste0(\"~/gains_team282/epigenetics/accessibility/analysis/atac_seq/neutrophil/motifs/group_motifs/\", group, \"/\", group, \".enrichment.tsv\"), header=T, sep=\"\\t\", comment.char=\"#\") %>%\n",
    "        dplyr::select(RANK, ID, ALT_ID, ENR_RATIO, LOG_QVALUE) %>%\n",
    "        dplyr::mutate(TF=str_to_upper(gsub(\".*\\\\.\", \"\", ALT_ID))) %>%\n",
    "        dplyr::mutate(Group=group)\n",
    "}) %>%\n",
    "    do.call(rbind, .)"
   ]
  },
  {
   "cell_type": "code",
   "execution_count": 14,
   "id": "0d3f7dfd-90a7-4d70-abf9-16552cbc5ced",
   "metadata": {},
   "outputs": [
    {
     "data": {
      "text/html": [
       "<table class=\"dataframe\">\n",
       "<caption>A data.frame: 6 × 7</caption>\n",
       "<thead>\n",
       "\t<tr><th></th><th scope=col>RANK</th><th scope=col>ID</th><th scope=col>ALT_ID</th><th scope=col>ENR_RATIO</th><th scope=col>LOG_QVALUE</th><th scope=col>TF</th><th scope=col>Group</th></tr>\n",
       "\t<tr><th></th><th scope=col>&lt;int&gt;</th><th scope=col>&lt;chr&gt;</th><th scope=col>&lt;chr&gt;</th><th scope=col>&lt;dbl&gt;</th><th scope=col>&lt;dbl&gt;</th><th scope=col>&lt;chr&gt;</th><th scope=col>&lt;chr&gt;</th></tr>\n",
       "</thead>\n",
       "<tbody>\n",
       "\t<tr><th scope=row>1</th><td>1</td><td>MA1621.1</td><td>MA1621.1.Rbpjl  </td><td>2.74</td><td>-70.33</td><td>RBPJL  </td><td>Neutrophils-BGP</td></tr>\n",
       "\t<tr><th scope=row>2</th><td>2</td><td>MA1642.1</td><td>MA1642.1.NEUROG2</td><td>3.15</td><td>-67.78</td><td>NEUROG2</td><td>Neutrophils-BGP</td></tr>\n",
       "\t<tr><th scope=row>3</th><td>3</td><td>MA1467.2</td><td>MA1467.2.Atoh1  </td><td>3.00</td><td>-67.77</td><td>ATOH1  </td><td>Neutrophils-BGP</td></tr>\n",
       "\t<tr><th scope=row>4</th><td>4</td><td>MA1123.2</td><td>MA1123.2.TWIST1 </td><td>3.24</td><td>-67.77</td><td>TWIST1 </td><td>Neutrophils-BGP</td></tr>\n",
       "\t<tr><th scope=row>5</th><td>5</td><td>MA0698.1</td><td>MA0698.1.ZBTB18 </td><td>3.21</td><td>-66.56</td><td>ZBTB18 </td><td>Neutrophils-BGP</td></tr>\n",
       "\t<tr><th scope=row>6</th><td>6</td><td>MA1108.2</td><td>MA1108.2.MXI1   </td><td>2.96</td><td>-65.47</td><td>MXI1   </td><td>Neutrophils-BGP</td></tr>\n",
       "</tbody>\n",
       "</table>\n"
      ],
      "text/latex": [
       "A data.frame: 6 × 7\n",
       "\\begin{tabular}{r|lllllll}\n",
       "  & RANK & ID & ALT\\_ID & ENR\\_RATIO & LOG\\_QVALUE & TF & Group\\\\\n",
       "  & <int> & <chr> & <chr> & <dbl> & <dbl> & <chr> & <chr>\\\\\n",
       "\\hline\n",
       "\t1 & 1 & MA1621.1 & MA1621.1.Rbpjl   & 2.74 & -70.33 & RBPJL   & Neutrophils-BGP\\\\\n",
       "\t2 & 2 & MA1642.1 & MA1642.1.NEUROG2 & 3.15 & -67.78 & NEUROG2 & Neutrophils-BGP\\\\\n",
       "\t3 & 3 & MA1467.2 & MA1467.2.Atoh1   & 3.00 & -67.77 & ATOH1   & Neutrophils-BGP\\\\\n",
       "\t4 & 4 & MA1123.2 & MA1123.2.TWIST1  & 3.24 & -67.77 & TWIST1  & Neutrophils-BGP\\\\\n",
       "\t5 & 5 & MA0698.1 & MA0698.1.ZBTB18  & 3.21 & -66.56 & ZBTB18  & Neutrophils-BGP\\\\\n",
       "\t6 & 6 & MA1108.2 & MA1108.2.MXI1    & 2.96 & -65.47 & MXI1    & Neutrophils-BGP\\\\\n",
       "\\end{tabular}\n"
      ],
      "text/markdown": [
       "\n",
       "A data.frame: 6 × 7\n",
       "\n",
       "| <!--/--> | RANK &lt;int&gt; | ID &lt;chr&gt; | ALT_ID &lt;chr&gt; | ENR_RATIO &lt;dbl&gt; | LOG_QVALUE &lt;dbl&gt; | TF &lt;chr&gt; | Group &lt;chr&gt; |\n",
       "|---|---|---|---|---|---|---|---|\n",
       "| 1 | 1 | MA1621.1 | MA1621.1.Rbpjl   | 2.74 | -70.33 | RBPJL   | Neutrophils-BGP |\n",
       "| 2 | 2 | MA1642.1 | MA1642.1.NEUROG2 | 3.15 | -67.78 | NEUROG2 | Neutrophils-BGP |\n",
       "| 3 | 3 | MA1467.2 | MA1467.2.Atoh1   | 3.00 | -67.77 | ATOH1   | Neutrophils-BGP |\n",
       "| 4 | 4 | MA1123.2 | MA1123.2.TWIST1  | 3.24 | -67.77 | TWIST1  | Neutrophils-BGP |\n",
       "| 5 | 5 | MA0698.1 | MA0698.1.ZBTB18  | 3.21 | -66.56 | ZBTB18  | Neutrophils-BGP |\n",
       "| 6 | 6 | MA1108.2 | MA1108.2.MXI1    | 2.96 | -65.47 | MXI1    | Neutrophils-BGP |\n",
       "\n"
      ],
      "text/plain": [
       "  RANK ID       ALT_ID           ENR_RATIO LOG_QVALUE TF      Group          \n",
       "1 1    MA1621.1 MA1621.1.Rbpjl   2.74      -70.33     RBPJL   Neutrophils-BGP\n",
       "2 2    MA1642.1 MA1642.1.NEUROG2 3.15      -67.78     NEUROG2 Neutrophils-BGP\n",
       "3 3    MA1467.2 MA1467.2.Atoh1   3.00      -67.77     ATOH1   Neutrophils-BGP\n",
       "4 4    MA1123.2 MA1123.2.TWIST1  3.24      -67.77     TWIST1  Neutrophils-BGP\n",
       "5 5    MA0698.1 MA0698.1.ZBTB18  3.21      -66.56     ZBTB18  Neutrophils-BGP\n",
       "6 6    MA1108.2 MA1108.2.MXI1    2.96      -65.47     MXI1    Neutrophils-BGP"
      ]
     },
     "metadata": {},
     "output_type": "display_data"
    }
   ],
   "source": [
    "head(na.group.motifs)"
   ]
  },
  {
   "cell_type": "markdown",
   "id": "3dee07c6-9917-436c-a1a9-e2c3bc54dd83",
   "metadata": {
    "tags": []
   },
   "source": [
    "## Basic Characteristics of Peaks"
   ]
  },
  {
   "cell_type": "code",
   "execution_count": 23,
   "id": "6fdf8f60-6e68-4c74-ac04-f1dc122b8e38",
   "metadata": {},
   "outputs": [
    {
     "data": {
      "image/png": "[encoded data removed]",
      "text/plain": [
       "plot without title"
      ]
     },
     "metadata": {
      "image/png": {
       "height": 420,
       "width": 600
      }
     },
     "output_type": "display_data"
    }
   ],
   "source": [
    "options(repr.plot.width=10, repr.plot.height=7)\n",
    "\n",
    "dplyr::bind_rows(\n",
    "    ia.homer.annot %>%\n",
    "        dplyr::filter(!is.na(Annotation)) %>%\n",
    "        dplyr::mutate(Annotation.Simple=gsub(\" \\\\(.*\\\\)\", \"\", Annotation)) %>%\n",
    "        dplyr::count(Annotation.Simple, name=\"Frequency\") %>%\n",
    "        dplyr::mutate(Atlas=\"Immune Atlas\"),\n",
    "    na.homer.annot %>%\n",
    "        dplyr::filter(!is.na(Annotation)) %>%\n",
    "        dplyr::mutate(Annotation.Simple=gsub(\" \\\\(.*\\\\)\", \"\", Annotation)) %>%\n",
    "        dplyr::count(Annotation.Simple, name=\"Frequency\") %>%\n",
    "        dplyr::mutate(Atlas=\"Neutrophil Atlas\")\n",
    ") %>% \n",
    "    dplyr::mutate(Annotation.Simple=plyr::revalue(Annotation.Simple, c(\"exon\"=\"Exon\", \"intron\"=\"Intron\", \"promoter-TSS\"=\"Promoter-TSS\"))) %>%\n",
    "    ggplot() +\n",
    "    geom_bar(aes(x=Annotation.Simple, y=Frequency, fill=Annotation.Simple), stat=\"identity\") +\n",
    "    xlab(\"Peak Annotation\") +\n",
    "    scale_fill_brewer(palette=\"Pastel1\") + guides(fill=\"none\") +\n",
    "    facet_grid(. ~ Atlas) +\n",
    "    ggplot_theme +\n",
    "    theme(axis.title.x=element_blank(), axis.text.x=element_text(angle=30, hjust=1))\n",
    "\n",
    "ggsave(\"03_Functional_Interpretation/results/homer_consensus_peaks_annotation.pdf\", width=10, height=7)"
   ]
  },
  {
   "cell_type": "code",
   "execution_count": 24,
   "id": "c88209d7-6082-4346-8c01-77d08bb781ea",
   "metadata": {},
   "outputs": [
    {
     "data": {
      "text/html": [
       "<table class=\"dataframe\">\n",
       "<caption>A grouped_df: 10 × 5</caption>\n",
       "<thead>\n",
       "\t<tr><th scope=col>Annotation.Simple</th><th scope=col>Frequency</th><th scope=col>Atlas</th><th scope=col>Total</th><th scope=col>Prop</th></tr>\n",
       "\t<tr><th scope=col>&lt;chr&gt;</th><th scope=col>&lt;int&gt;</th><th scope=col>&lt;chr&gt;</th><th scope=col>&lt;int&gt;</th><th scope=col>&lt;dbl&gt;</th></tr>\n",
       "</thead>\n",
       "<tbody>\n",
       "\t<tr><td>exon        </td><td> 15523</td><td>Immune Atlas    </td><td>296877</td><td>0.05228765</td></tr>\n",
       "\t<tr><td>Intergenic  </td><td> 83779</td><td>Immune Atlas    </td><td>296877</td><td>0.28220105</td></tr>\n",
       "\t<tr><td>intron      </td><td>154953</td><td>Immune Atlas    </td><td>296877</td><td>0.52194343</td></tr>\n",
       "\t<tr><td>promoter-TSS</td><td> 24545</td><td>Immune Atlas    </td><td>296877</td><td>0.08267734</td></tr>\n",
       "\t<tr><td>TTS         </td><td> 18077</td><td>Immune Atlas    </td><td>296877</td><td>0.06089054</td></tr>\n",
       "\t<tr><td>exon        </td><td>  5951</td><td>Neutrophil Atlas</td><td>140829</td><td>0.04225692</td></tr>\n",
       "\t<tr><td>Intergenic  </td><td> 43670</td><td>Neutrophil Atlas</td><td>140829</td><td>0.31009238</td></tr>\n",
       "\t<tr><td>intron      </td><td> 68636</td><td>Neutrophil Atlas</td><td>140829</td><td>0.48737121</td></tr>\n",
       "\t<tr><td>promoter-TSS</td><td> 16687</td><td>Neutrophil Atlas</td><td>140829</td><td>0.11849122</td></tr>\n",
       "\t<tr><td>TTS         </td><td>  5885</td><td>Neutrophil Atlas</td><td>140829</td><td>0.04178827</td></tr>\n",
       "</tbody>\n",
       "</table>\n"
      ],
      "text/latex": [
       "A grouped\\_df: 10 × 5\n",
       "\\begin{tabular}{lllll}\n",
       " Annotation.Simple & Frequency & Atlas & Total & Prop\\\\\n",
       " <chr> & <int> & <chr> & <int> & <dbl>\\\\\n",
       "\\hline\n",
       "\t exon         &  15523 & Immune Atlas     & 296877 & 0.05228765\\\\\n",
       "\t Intergenic   &  83779 & Immune Atlas     & 296877 & 0.28220105\\\\\n",
       "\t intron       & 154953 & Immune Atlas     & 296877 & 0.52194343\\\\\n",
       "\t promoter-TSS &  24545 & Immune Atlas     & 296877 & 0.08267734\\\\\n",
       "\t TTS          &  18077 & Immune Atlas     & 296877 & 0.06089054\\\\\n",
       "\t exon         &   5951 & Neutrophil Atlas & 140829 & 0.04225692\\\\\n",
       "\t Intergenic   &  43670 & Neutrophil Atlas & 140829 & 0.31009238\\\\\n",
       "\t intron       &  68636 & Neutrophil Atlas & 140829 & 0.48737121\\\\\n",
       "\t promoter-TSS &  16687 & Neutrophil Atlas & 140829 & 0.11849122\\\\\n",
       "\t TTS          &   5885 & Neutrophil Atlas & 140829 & 0.04178827\\\\\n",
       "\\end{tabular}\n"
      ],
      "text/markdown": [
       "\n",
       "A grouped_df: 10 × 5\n",
       "\n",
       "| Annotation.Simple &lt;chr&gt; | Frequency &lt;int&gt; | Atlas &lt;chr&gt; | Total &lt;int&gt; | Prop &lt;dbl&gt; |\n",
       "|---|---|---|---|---|\n",
       "| exon         |  15523 | Immune Atlas     | 296877 | 0.05228765 |\n",
       "| Intergenic   |  83779 | Immune Atlas     | 296877 | 0.28220105 |\n",
       "| intron       | 154953 | Immune Atlas     | 296877 | 0.52194343 |\n",
       "| promoter-TSS |  24545 | Immune Atlas     | 296877 | 0.08267734 |\n",
       "| TTS          |  18077 | Immune Atlas     | 296877 | 0.06089054 |\n",
       "| exon         |   5951 | Neutrophil Atlas | 140829 | 0.04225692 |\n",
       "| Intergenic   |  43670 | Neutrophil Atlas | 140829 | 0.31009238 |\n",
       "| intron       |  68636 | Neutrophil Atlas | 140829 | 0.48737121 |\n",
       "| promoter-TSS |  16687 | Neutrophil Atlas | 140829 | 0.11849122 |\n",
       "| TTS          |   5885 | Neutrophil Atlas | 140829 | 0.04178827 |\n",
       "\n"
      ],
      "text/plain": [
       "   Annotation.Simple Frequency Atlas            Total  Prop      \n",
       "1  exon               15523    Immune Atlas     296877 0.05228765\n",
       "2  Intergenic         83779    Immune Atlas     296877 0.28220105\n",
       "3  intron            154953    Immune Atlas     296877 0.52194343\n",
       "4  promoter-TSS       24545    Immune Atlas     296877 0.08267734\n",
       "5  TTS                18077    Immune Atlas     296877 0.06089054\n",
       "6  exon                5951    Neutrophil Atlas 140829 0.04225692\n",
       "7  Intergenic         43670    Neutrophil Atlas 140829 0.31009238\n",
       "8  intron             68636    Neutrophil Atlas 140829 0.48737121\n",
       "9  promoter-TSS       16687    Neutrophil Atlas 140829 0.11849122\n",
       "10 TTS                 5885    Neutrophil Atlas 140829 0.04178827"
      ]
     },
     "metadata": {},
     "output_type": "display_data"
    }
   ],
   "source": [
    "dplyr::bind_rows(\n",
    "    ia.homer.annot %>%\n",
    "        dplyr::filter(!is.na(Annotation)) %>%\n",
    "        dplyr::mutate(Annotation.Simple=gsub(\" \\\\(.*\\\\)\", \"\", Annotation)) %>%\n",
    "        dplyr::count(Annotation.Simple, name=\"Frequency\") %>%\n",
    "        dplyr::mutate(Atlas=\"Immune Atlas\"),\n",
    "    na.homer.annot %>%\n",
    "        dplyr::filter(!is.na(Annotation)) %>%\n",
    "        dplyr::mutate(Annotation.Simple=gsub(\" \\\\(.*\\\\)\", \"\", Annotation)) %>%\n",
    "        dplyr::count(Annotation.Simple, name=\"Frequency\") %>%\n",
    "        dplyr::mutate(Atlas=\"Neutrophil Atlas\")\n",
    ") %>%\n",
    "    dplyr::group_by(Atlas) %>%\n",
    "    dplyr::mutate(Total=sum(Frequency)) %>%\n",
    "    dplyr::mutate(Prop=Frequency / Total)"
   ]
  },
  {
   "cell_type": "markdown",
   "id": "6a25e20a-8231-41f9-b57b-5f6f1368c4a7",
   "metadata": {},
   "source": [
    "## Group Peak Motifs"
   ]
  },
  {
   "cell_type": "code",
   "execution_count": 25,
   "id": "710ffc26-436b-445d-b6b1-50e52f579897",
   "metadata": {},
   "outputs": [],
   "source": [
    "plot.data.ids <- dplyr::bind_rows(\n",
    "        ia.group.motifs,\n",
    "        na.group.motifs\n",
    "    ) %>%\n",
    "    dplyr::group_by(Group) %>%\n",
    "    dplyr::slice_max(ENR_RATIO, n=5, with_ties=F) %>%\n",
    "    dplyr::select(Group, ALT_ID, TF)\n",
    "\n",
    "plot.data <- dplyr::bind_rows(\n",
    "        ia.group.motifs,\n",
    "        na.group.motifs\n",
    "    ) %>%\n",
    "    dplyr::filter(ALT_ID %in% plot.data.ids$ALT_ID) %>%\n",
    "    dplyr::mutate(Log.Ratio=log2(ENR_RATIO)) %>%\n",
    "    dplyr::select(ALT_ID, Group, Log.Ratio) %>%\n",
    "    tidyr::spread(ALT_ID, Log.Ratio, fill=0)\n",
    "\n",
    "rownames(plot.data) <- plot.data$Group\n",
    "plot.data$Group <- NULL\n",
    "plot.data <- as.matrix(plot.data)\n",
    "\n",
    "max.enr <- max(max(ia.group.motifs$ENR_RATIO), max(na.group.motifs$ENR_RATIO))"
   ]
  },
  {
   "cell_type": "code",
   "execution_count": 26,
   "id": "0b950e95-71b1-4f85-bf39-3a49e8c4a73f",
   "metadata": {},
   "outputs": [
    {
     "data": {
      "text/html": [
       "<strong>png:</strong> 2"
      ],
      "text/latex": [
       "\\textbf{png:} 2"
      ],
      "text/markdown": [
       "**png:** 2"
      ],
      "text/plain": [
       "png \n",
       "  2 "
      ]
     },
     "metadata": {},
     "output_type": "display_data"
    }
   ],
   "source": [
    "col_fun = colorRamp2(c(0, max(log2(max.enr))), c(\"white\", \"royalblue4\"))\n",
    "\n",
    "ha_column = HeatmapAnnotation(\n",
    "    year = anno_text(toupper(gsub(\".*\\\\.\", \"\", colnames(plot.data))), rot = 90, location = unit(1, \"npc\"), just = \"right\")\n",
    ")\n",
    "\n",
    "pdf(\"03_Functional_Interpretation/results/motif_enrichment_group_peaks.pdf\", width=18, height=8.5)\n",
    "Heatmap(plot.data, name=\"Enrichment\", col=col_fun, show_column_names = FALSE, bottom_annotation = ha_column)\n",
    "dev.off()"
   ]
  },
  {
   "cell_type": "markdown",
   "id": "c9d1b31c-15a7-4fbe-8212-58a48a775583",
   "metadata": {},
   "source": [
    "![Heatmap](../results/motif_enrichment_group_peaks.svg)"
   ]
  },
  {
   "cell_type": "code",
   "execution_count": null,
   "id": "4c040654-fda6-4d77-92ec-f1749b51a8d0",
   "metadata": {},
   "outputs": [],
   "source": []
  }
 ],
 "metadata": {
  "kernelspec": {
   "display_name": "R",
   "language": "R",
   "name": "ir"
  },
  "language_info": {
   "codemirror_mode": "r",
   "file_extension": ".r",
   "mimetype": "text/x-r-source",
   "name": "R",
   "pygments_lexer": "r",
   "version": "4.0.5"
  }
 },
 "nbformat": 4,
 "nbformat_minor": 5
}
