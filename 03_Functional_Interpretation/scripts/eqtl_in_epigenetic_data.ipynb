{
 "cells": [
  {
   "cell_type": "markdown",
   "id": "3a214699-2595-489c-b954-431a2f5fe52a",
   "metadata": {},
   "source": [
    "# eQTL in Epigenetic Data\n",
    "\n",
    "**Created**: 18 February 2022"
   ]
  },
  {
   "cell_type": "markdown",
   "id": "51eb8035-7328-487d-9562-4bdd0a709be6",
   "metadata": {},
   "source": [
    "The goal here is to perform a simple comparison of *cis*-eQTL detected in GAinS with existing epigenomic datasets. I will be using data that has been published rather than processed data. This includes DA peaks from Calderon *et al.* and Ram-Mohan *et al.* and chromatin accessibility QTL (caQTL) from Calderon *et al.*"
   ]
  },
  {
   "cell_type": "markdown",
   "id": "2e5d44b4-e5be-4a4c-897b-6a8a32c95a1b",
   "metadata": {},
   "source": [
    "## Environment"
   ]
  },
  {
   "cell_type": "code",
   "execution_count": 51,
   "id": "e12ecc5e-7711-4ac5-a02c-b96eb9c94f38",
   "metadata": {},
   "outputs": [
    {
     "name": "stderr",
     "output_type": "stream",
     "text": [
      "Loading required namespace: biomaRt\n",
      "\n"
     ]
    }
   ],
   "source": [
    "if (!requireNamespace(\"GenomicRanges\")) {\n",
    "    BiocManager::install(\"GenomicRanges\")\n",
    "}\n",
    "\n",
    "if (!requireNamespace(\"biomaRt\")) {\n",
    "    BiocManager::install(\"biomaRt\")\n",
    "}"
   ]
  },
  {
   "cell_type": "code",
   "execution_count": 52,
   "id": "5730bef4-9841-4b38-b465-522384073ad1",
   "metadata": {},
   "outputs": [],
   "source": [
    "library(tidyverse)\n",
    "library(data.table)\n",
    "library(GenomicRanges)\n",
    "library(biomaRt)\n",
    "\n",
    "setwd(\"~/eQTL_pQTL_Characterization/\")\n",
    "\n",
    "source(\"03_Functional_Interpretation/scripts/utils/ggplot_theme.R\")"
   ]
  },
  {
   "cell_type": "markdown",
   "id": "bd091033-816b-48a7-a036-ffee7ffec5c6",
   "metadata": {},
   "source": [
    "## Load Data"
   ]
  },
  {
   "cell_type": "code",
   "execution_count": 35,
   "id": "3ca39e0e-ae55-430e-a831-b66af338d24d",
   "metadata": {},
   "outputs": [],
   "source": [
    "calderon.da.peaks <- fread(\"03_Functional_Interpretation/data/41588_2019_505_MOESM6_ESM\")"
   ]
  },
  {
   "cell_type": "code",
   "execution_count": 36,
   "id": "fea882c2-5157-4250-ac5d-3a2df2ed959f",
   "metadata": {},
   "outputs": [],
   "source": [
    "calderon.da.peaks <- calderon.da.peaks %>%\n",
    "    as.data.frame() %>%\n",
    "    dplyr::mutate(chr=gsub(\"chr\", \"\", gsub(\"_.*\", \"\", peak_id))) %>%\n",
    "    dplyr::mutate(start=as.numeric(sapply(strsplit(peak_id, \"_\"), function(x) { x[2] }))) %>%\n",
    "    dplyr::mutate(end=as.numeric(sapply(strsplit(peak_id, \"_\"), function(x) { x[3] }))) %>%\n",
    "    dplyr::mutate(cell_type=gsub(\"_S-.*\", \"\", contrast)) %>%\n",
    "    dplyr::mutate(peak_id=paste0(chr, \":\", start, \"-\", end)) %>%\n",
    "    dplyr::mutate(chr = as.numeric(chr)) %>%\n",
    "    dplyr::filter(chr %in% 1:22) %>%\n",
    "    dplyr::select(peak_id, chr, start, end, cell_type, logFC, pval=adj.P.Val)"
   ]
  },
  {
   "cell_type": "code",
   "execution_count": 37,
   "id": "d963561a-c50c-4b68-b484-3b5ac36225e7",
   "metadata": {},
   "outputs": [
    {
     "data": {
      "text/html": [
       "<table class=\"dataframe\">\n",
       "<caption>A data.frame: 6 × 7</caption>\n",
       "<thead>\n",
       "\t<tr><th></th><th scope=col>peak_id</th><th scope=col>chr</th><th scope=col>start</th><th scope=col>end</th><th scope=col>cell_type</th><th scope=col>logFC</th><th scope=col>pval</th></tr>\n",
       "\t<tr><th></th><th scope=col>&lt;chr&gt;</th><th scope=col>&lt;dbl&gt;</th><th scope=col>&lt;dbl&gt;</th><th scope=col>&lt;dbl&gt;</th><th scope=col>&lt;chr&gt;</th><th scope=col>&lt;dbl&gt;</th><th scope=col>&lt;dbl&gt;</th></tr>\n",
       "</thead>\n",
       "<tbody>\n",
       "\t<tr><th scope=row>1</th><td>1:101414421-101416252</td><td>1</td><td>101414421</td><td>101416252</td><td>Bulk_B</td><td>-1.588574</td><td>5.706523e-06</td></tr>\n",
       "\t<tr><th scope=row>2</th><td>1:101553654-101554433</td><td>1</td><td>101553654</td><td>101554433</td><td>Bulk_B</td><td> 2.756835</td><td>4.359877e-06</td></tr>\n",
       "\t<tr><th scope=row>3</th><td>1:101875468-101877095</td><td>1</td><td>101875468</td><td>101877095</td><td>Bulk_B</td><td> 1.924191</td><td>1.650887e-04</td></tr>\n",
       "\t<tr><th scope=row>4</th><td>1:105307605-105308001</td><td>1</td><td>105307605</td><td>105308001</td><td>Bulk_B</td><td> 2.668101</td><td>5.036673e-05</td></tr>\n",
       "\t<tr><th scope=row>5</th><td>1:108073851-108074235</td><td>1</td><td>108073851</td><td>108074235</td><td>Bulk_B</td><td>-3.099729</td><td>2.662072e-03</td></tr>\n",
       "\t<tr><th scope=row>6</th><td>1:108475984-108478550</td><td>1</td><td>108475984</td><td>108478550</td><td>Bulk_B</td><td> 1.297943</td><td>6.296819e-03</td></tr>\n",
       "</tbody>\n",
       "</table>\n"
      ],
      "text/latex": [
       "A data.frame: 6 × 7\n",
       "\\begin{tabular}{r|lllllll}\n",
       "  & peak\\_id & chr & start & end & cell\\_type & logFC & pval\\\\\n",
       "  & <chr> & <dbl> & <dbl> & <dbl> & <chr> & <dbl> & <dbl>\\\\\n",
       "\\hline\n",
       "\t1 & 1:101414421-101416252 & 1 & 101414421 & 101416252 & Bulk\\_B & -1.588574 & 5.706523e-06\\\\\n",
       "\t2 & 1:101553654-101554433 & 1 & 101553654 & 101554433 & Bulk\\_B &  2.756835 & 4.359877e-06\\\\\n",
       "\t3 & 1:101875468-101877095 & 1 & 101875468 & 101877095 & Bulk\\_B &  1.924191 & 1.650887e-04\\\\\n",
       "\t4 & 1:105307605-105308001 & 1 & 105307605 & 105308001 & Bulk\\_B &  2.668101 & 5.036673e-05\\\\\n",
       "\t5 & 1:108073851-108074235 & 1 & 108073851 & 108074235 & Bulk\\_B & -3.099729 & 2.662072e-03\\\\\n",
       "\t6 & 1:108475984-108478550 & 1 & 108475984 & 108478550 & Bulk\\_B &  1.297943 & 6.296819e-03\\\\\n",
       "\\end{tabular}\n"
      ],
      "text/markdown": [
       "\n",
       "A data.frame: 6 × 7\n",
       "\n",
       "| <!--/--> | peak_id &lt;chr&gt; | chr &lt;dbl&gt; | start &lt;dbl&gt; | end &lt;dbl&gt; | cell_type &lt;chr&gt; | logFC &lt;dbl&gt; | pval &lt;dbl&gt; |\n",
       "|---|---|---|---|---|---|---|---|\n",
       "| 1 | 1:101414421-101416252 | 1 | 101414421 | 101416252 | Bulk_B | -1.588574 | 5.706523e-06 |\n",
       "| 2 | 1:101553654-101554433 | 1 | 101553654 | 101554433 | Bulk_B |  2.756835 | 4.359877e-06 |\n",
       "| 3 | 1:101875468-101877095 | 1 | 101875468 | 101877095 | Bulk_B |  1.924191 | 1.650887e-04 |\n",
       "| 4 | 1:105307605-105308001 | 1 | 105307605 | 105308001 | Bulk_B |  2.668101 | 5.036673e-05 |\n",
       "| 5 | 1:108073851-108074235 | 1 | 108073851 | 108074235 | Bulk_B | -3.099729 | 2.662072e-03 |\n",
       "| 6 | 1:108475984-108478550 | 1 | 108475984 | 108478550 | Bulk_B |  1.297943 | 6.296819e-03 |\n",
       "\n"
      ],
      "text/plain": [
       "  peak_id               chr start     end       cell_type logFC    \n",
       "1 1:101414421-101416252 1   101414421 101416252 Bulk_B    -1.588574\n",
       "2 1:101553654-101554433 1   101553654 101554433 Bulk_B     2.756835\n",
       "3 1:101875468-101877095 1   101875468 101877095 Bulk_B     1.924191\n",
       "4 1:105307605-105308001 1   105307605 105308001 Bulk_B     2.668101\n",
       "5 1:108073851-108074235 1   108073851 108074235 Bulk_B    -3.099729\n",
       "6 1:108475984-108478550 1   108475984 108478550 Bulk_B     1.297943\n",
       "  pval        \n",
       "1 5.706523e-06\n",
       "2 4.359877e-06\n",
       "3 1.650887e-04\n",
       "4 5.036673e-05\n",
       "5 2.662072e-03\n",
       "6 6.296819e-03"
      ]
     },
     "metadata": {},
     "output_type": "display_data"
    }
   ],
   "source": [
    "head(calderon.da.peaks)"
   ]
  },
  {
   "cell_type": "code",
   "execution_count": 38,
   "id": "0022164b-3e16-481c-a59e-f7e4b78af98e",
   "metadata": {},
   "outputs": [],
   "source": [
    "calderon.ca.qtl <- fread(\"03_Functional_Interpretation/data/41588_2019_505_MOESM8_ESM\")"
   ]
  },
  {
   "cell_type": "code",
   "execution_count": 39,
   "id": "ea5664ef-7f48-4deb-b70d-1bf42542d131",
   "metadata": {},
   "outputs": [],
   "source": [
    "calderon.ca.qtl <- calderon.ca.qtl %>%\n",
    "    as.data.frame() %>%\n",
    "    dplyr::mutate(chr=as.numeric(gsub(\"chr\", \"\", chr))) %>%\n",
    "    dplyr::filter(chr %in% 1:22) %>%\n",
    "    dplyr::select(chr, pos, everything())"
   ]
  },
  {
   "cell_type": "code",
   "execution_count": 40,
   "id": "d2f7cffa-d231-4b56-b816-bbc6542cec17",
   "metadata": {},
   "outputs": [
    {
     "data": {
      "text/html": [
       "<table class=\"dataframe\">\n",
       "<caption>A data.frame: 6 × 25</caption>\n",
       "<thead>\n",
       "\t<tr><th></th><th scope=col>chr</th><th scope=col>pos</th><th scope=col>Phenotype</th><th scope=col>dbSNP134_id</th><th scope=col>gwas_pvalue</th><th scope=col>PMID</th><th scope=col>TotalDiscoverySamples</th><th scope=col>donor</th><th scope=col>cell</th><th scope=col>stim</th><th scope=col>⋯</th><th scope=col>peak_id_atac</th><th scope=col>contrast_atac</th><th scope=col>logFC_atac</th><th scope=col>adj.P.Val_atac</th><th scope=col>nearby_de_gene_id</th><th scope=col>contrast_rna</th><th scope=col>logFC_rna</th><th scope=col>adj.P.Val_rna</th><th scope=col>tested_TF</th><th scope=col>ref_minus_alt_match</th></tr>\n",
       "\t<tr><th></th><th scope=col>&lt;dbl&gt;</th><th scope=col>&lt;int&gt;</th><th scope=col>&lt;chr&gt;</th><th scope=col>&lt;int&gt;</th><th scope=col>&lt;dbl&gt;</th><th scope=col>&lt;int&gt;</th><th scope=col>&lt;int&gt;</th><th scope=col>&lt;int&gt;</th><th scope=col>&lt;chr&gt;</th><th scope=col>&lt;lgl&gt;</th><th scope=col>⋯</th><th scope=col>&lt;chr&gt;</th><th scope=col>&lt;chr&gt;</th><th scope=col>&lt;dbl&gt;</th><th scope=col>&lt;dbl&gt;</th><th scope=col>&lt;chr&gt;</th><th scope=col>&lt;chr&gt;</th><th scope=col>&lt;dbl&gt;</th><th scope=col>&lt;dbl&gt;</th><th scope=col>&lt;chr&gt;</th><th scope=col>&lt;dbl&gt;</th></tr>\n",
       "</thead>\n",
       "<tbody>\n",
       "\t<tr><th scope=row>1</th><td> 1</td><td>204434927</td><td>Transmission distortion         </td><td>12092943</td><td>9.141e-10</td><td>22377632</td><td> 4728</td><td>1002</td><td>Mem_B      </td><td> TRUE</td><td>⋯</td><td>chr1_204434103_204436273</td><td>Mem_B_S-Mem_B_U     </td><td> 1.606535</td><td>2.127197e-04</td><td>NA</td><td>NA</td><td>NA</td><td>NA</td><td>ENSG00000008196_LINE2_TFAP2B_D_N1</td><td>-5.1125152</td></tr>\n",
       "\t<tr><th scope=row>2</th><td> 1</td><td>204434927</td><td>Maternal transmission distortion</td><td>12092943</td><td>3.252e-09</td><td>22377632</td><td> 4728</td><td>1002</td><td>Mem_B      </td><td> TRUE</td><td>⋯</td><td>chr1_204434103_204436273</td><td>Mem_B_S-Mem_B_U     </td><td> 1.606535</td><td>2.127197e-04</td><td>NA</td><td>NA</td><td>NA</td><td>NA</td><td>ENSG00000008196_LINE2_TFAP2B_D_N1</td><td>-5.1125152</td></tr>\n",
       "\t<tr><th scope=row>3</th><td> 1</td><td>204434927</td><td>Transmission distortion         </td><td>12092943</td><td>9.141e-10</td><td>22377632</td><td> 4728</td><td>1002</td><td>Mem_B      </td><td> TRUE</td><td>⋯</td><td>chr1_204434103_204436273</td><td>Mem_B_S-Mem_B_U     </td><td> 1.606535</td><td>2.127197e-04</td><td>NA</td><td>NA</td><td>NA</td><td>NA</td><td>ENSG00000008196_LINE2_TFAP2B_D_N1</td><td>-5.1125152</td></tr>\n",
       "\t<tr><th scope=row>4</th><td> 1</td><td>204434927</td><td>Maternal transmission distortion</td><td>12092943</td><td>3.252e-09</td><td>22377632</td><td> 4728</td><td>1002</td><td>Mem_B      </td><td> TRUE</td><td>⋯</td><td>chr1_204434103_204436273</td><td>Mem_B_S-Mem_B_U     </td><td> 1.606535</td><td>2.127197e-04</td><td>NA</td><td>NA</td><td>NA</td><td>NA</td><td>ENSG00000008196_LINE2_TFAP2B_D_N1</td><td>-5.1125152</td></tr>\n",
       "\t<tr><th scope=row>5</th><td>15</td><td> 45740392</td><td>Serum creatinine                </td><td> 9806699</td><td>2.560e-13</td><td>20383146</td><td>67093</td><td>1001</td><td>Myeloid_DCs</td><td>FALSE</td><td>⋯</td><td>chr15_45739896_45742558 </td><td>pDCs_U-Myeloid_DCs_U</td><td>-2.623013</td><td>6.295777e-06</td><td>NA</td><td>NA</td><td>NA</td><td>NA</td><td>ENSG00000008196_LINE2_TFAP2B_D_N1</td><td> 0.6583003</td></tr>\n",
       "\t<tr><th scope=row>6</th><td>15</td><td> 45740392</td><td>Serum creatinine                </td><td> 9806699</td><td>2.560e-13</td><td>20383146</td><td>67093</td><td>1002</td><td>Myeloid_DCs</td><td>FALSE</td><td>⋯</td><td>chr15_45739896_45742558 </td><td>pDCs_U-Myeloid_DCs_U</td><td>-2.623013</td><td>6.295777e-06</td><td>NA</td><td>NA</td><td>NA</td><td>NA</td><td>ENSG00000008196_LINE2_TFAP2B_D_N1</td><td> 0.6583003</td></tr>\n",
       "</tbody>\n",
       "</table>\n"
      ],
      "text/latex": [
       "A data.frame: 6 × 25\n",
       "\\begin{tabular}{r|lllllllllllllllllllll}\n",
       "  & chr & pos & Phenotype & dbSNP134\\_id & gwas\\_pvalue & PMID & TotalDiscoverySamples & donor & cell & stim & ⋯ & peak\\_id\\_atac & contrast\\_atac & logFC\\_atac & adj.P.Val\\_atac & nearby\\_de\\_gene\\_id & contrast\\_rna & logFC\\_rna & adj.P.Val\\_rna & tested\\_TF & ref\\_minus\\_alt\\_match\\\\\n",
       "  & <dbl> & <int> & <chr> & <int> & <dbl> & <int> & <int> & <int> & <chr> & <lgl> & ⋯ & <chr> & <chr> & <dbl> & <dbl> & <chr> & <chr> & <dbl> & <dbl> & <chr> & <dbl>\\\\\n",
       "\\hline\n",
       "\t1 &  1 & 204434927 & Transmission distortion          & 12092943 & 9.141e-10 & 22377632 &  4728 & 1002 & Mem\\_B       &  TRUE & ⋯ & chr1\\_204434103\\_204436273 & Mem\\_B\\_S-Mem\\_B\\_U      &  1.606535 & 2.127197e-04 & NA & NA & NA & NA & ENSG00000008196\\_LINE2\\_TFAP2B\\_D\\_N1 & -5.1125152\\\\\n",
       "\t2 &  1 & 204434927 & Maternal transmission distortion & 12092943 & 3.252e-09 & 22377632 &  4728 & 1002 & Mem\\_B       &  TRUE & ⋯ & chr1\\_204434103\\_204436273 & Mem\\_B\\_S-Mem\\_B\\_U      &  1.606535 & 2.127197e-04 & NA & NA & NA & NA & ENSG00000008196\\_LINE2\\_TFAP2B\\_D\\_N1 & -5.1125152\\\\\n",
       "\t3 &  1 & 204434927 & Transmission distortion          & 12092943 & 9.141e-10 & 22377632 &  4728 & 1002 & Mem\\_B       &  TRUE & ⋯ & chr1\\_204434103\\_204436273 & Mem\\_B\\_S-Mem\\_B\\_U      &  1.606535 & 2.127197e-04 & NA & NA & NA & NA & ENSG00000008196\\_LINE2\\_TFAP2B\\_D\\_N1 & -5.1125152\\\\\n",
       "\t4 &  1 & 204434927 & Maternal transmission distortion & 12092943 & 3.252e-09 & 22377632 &  4728 & 1002 & Mem\\_B       &  TRUE & ⋯ & chr1\\_204434103\\_204436273 & Mem\\_B\\_S-Mem\\_B\\_U      &  1.606535 & 2.127197e-04 & NA & NA & NA & NA & ENSG00000008196\\_LINE2\\_TFAP2B\\_D\\_N1 & -5.1125152\\\\\n",
       "\t5 & 15 &  45740392 & Serum creatinine                 &  9806699 & 2.560e-13 & 20383146 & 67093 & 1001 & Myeloid\\_DCs & FALSE & ⋯ & chr15\\_45739896\\_45742558  & pDCs\\_U-Myeloid\\_DCs\\_U & -2.623013 & 6.295777e-06 & NA & NA & NA & NA & ENSG00000008196\\_LINE2\\_TFAP2B\\_D\\_N1 &  0.6583003\\\\\n",
       "\t6 & 15 &  45740392 & Serum creatinine                 &  9806699 & 2.560e-13 & 20383146 & 67093 & 1002 & Myeloid\\_DCs & FALSE & ⋯ & chr15\\_45739896\\_45742558  & pDCs\\_U-Myeloid\\_DCs\\_U & -2.623013 & 6.295777e-06 & NA & NA & NA & NA & ENSG00000008196\\_LINE2\\_TFAP2B\\_D\\_N1 &  0.6583003\\\\\n",
       "\\end{tabular}\n"
      ],
      "text/markdown": [
       "\n",
       "A data.frame: 6 × 25\n",
       "\n",
       "| <!--/--> | chr &lt;dbl&gt; | pos &lt;int&gt; | Phenotype &lt;chr&gt; | dbSNP134_id &lt;int&gt; | gwas_pvalue &lt;dbl&gt; | PMID &lt;int&gt; | TotalDiscoverySamples &lt;int&gt; | donor &lt;int&gt; | cell &lt;chr&gt; | stim &lt;lgl&gt; | ⋯ ⋯ | peak_id_atac &lt;chr&gt; | contrast_atac &lt;chr&gt; | logFC_atac &lt;dbl&gt; | adj.P.Val_atac &lt;dbl&gt; | nearby_de_gene_id &lt;chr&gt; | contrast_rna &lt;chr&gt; | logFC_rna &lt;dbl&gt; | adj.P.Val_rna &lt;dbl&gt; | tested_TF &lt;chr&gt; | ref_minus_alt_match &lt;dbl&gt; |\n",
       "|---|---|---|---|---|---|---|---|---|---|---|---|---|---|---|---|---|---|---|---|---|---|\n",
       "| 1 |  1 | 204434927 | Transmission distortion          | 12092943 | 9.141e-10 | 22377632 |  4728 | 1002 | Mem_B       |  TRUE | ⋯ | chr1_204434103_204436273 | Mem_B_S-Mem_B_U      |  1.606535 | 2.127197e-04 | NA | NA | NA | NA | ENSG00000008196_LINE2_TFAP2B_D_N1 | -5.1125152 |\n",
       "| 2 |  1 | 204434927 | Maternal transmission distortion | 12092943 | 3.252e-09 | 22377632 |  4728 | 1002 | Mem_B       |  TRUE | ⋯ | chr1_204434103_204436273 | Mem_B_S-Mem_B_U      |  1.606535 | 2.127197e-04 | NA | NA | NA | NA | ENSG00000008196_LINE2_TFAP2B_D_N1 | -5.1125152 |\n",
       "| 3 |  1 | 204434927 | Transmission distortion          | 12092943 | 9.141e-10 | 22377632 |  4728 | 1002 | Mem_B       |  TRUE | ⋯ | chr1_204434103_204436273 | Mem_B_S-Mem_B_U      |  1.606535 | 2.127197e-04 | NA | NA | NA | NA | ENSG00000008196_LINE2_TFAP2B_D_N1 | -5.1125152 |\n",
       "| 4 |  1 | 204434927 | Maternal transmission distortion | 12092943 | 3.252e-09 | 22377632 |  4728 | 1002 | Mem_B       |  TRUE | ⋯ | chr1_204434103_204436273 | Mem_B_S-Mem_B_U      |  1.606535 | 2.127197e-04 | NA | NA | NA | NA | ENSG00000008196_LINE2_TFAP2B_D_N1 | -5.1125152 |\n",
       "| 5 | 15 |  45740392 | Serum creatinine                 |  9806699 | 2.560e-13 | 20383146 | 67093 | 1001 | Myeloid_DCs | FALSE | ⋯ | chr15_45739896_45742558  | pDCs_U-Myeloid_DCs_U | -2.623013 | 6.295777e-06 | NA | NA | NA | NA | ENSG00000008196_LINE2_TFAP2B_D_N1 |  0.6583003 |\n",
       "| 6 | 15 |  45740392 | Serum creatinine                 |  9806699 | 2.560e-13 | 20383146 | 67093 | 1002 | Myeloid_DCs | FALSE | ⋯ | chr15_45739896_45742558  | pDCs_U-Myeloid_DCs_U | -2.623013 | 6.295777e-06 | NA | NA | NA | NA | ENSG00000008196_LINE2_TFAP2B_D_N1 |  0.6583003 |\n",
       "\n"
      ],
      "text/plain": [
       "  chr pos       Phenotype                        dbSNP134_id gwas_pvalue\n",
       "1  1  204434927 Transmission distortion          12092943    9.141e-10  \n",
       "2  1  204434927 Maternal transmission distortion 12092943    3.252e-09  \n",
       "3  1  204434927 Transmission distortion          12092943    9.141e-10  \n",
       "4  1  204434927 Maternal transmission distortion 12092943    3.252e-09  \n",
       "5 15   45740392 Serum creatinine                  9806699    2.560e-13  \n",
       "6 15   45740392 Serum creatinine                  9806699    2.560e-13  \n",
       "  PMID     TotalDiscoverySamples donor cell        stim  ⋯\n",
       "1 22377632  4728                 1002  Mem_B        TRUE ⋯\n",
       "2 22377632  4728                 1002  Mem_B        TRUE ⋯\n",
       "3 22377632  4728                 1002  Mem_B        TRUE ⋯\n",
       "4 22377632  4728                 1002  Mem_B        TRUE ⋯\n",
       "5 20383146 67093                 1001  Myeloid_DCs FALSE ⋯\n",
       "6 20383146 67093                 1002  Myeloid_DCs FALSE ⋯\n",
       "  peak_id_atac             contrast_atac        logFC_atac adj.P.Val_atac\n",
       "1 chr1_204434103_204436273 Mem_B_S-Mem_B_U       1.606535  2.127197e-04  \n",
       "2 chr1_204434103_204436273 Mem_B_S-Mem_B_U       1.606535  2.127197e-04  \n",
       "3 chr1_204434103_204436273 Mem_B_S-Mem_B_U       1.606535  2.127197e-04  \n",
       "4 chr1_204434103_204436273 Mem_B_S-Mem_B_U       1.606535  2.127197e-04  \n",
       "5 chr15_45739896_45742558  pDCs_U-Myeloid_DCs_U -2.623013  6.295777e-06  \n",
       "6 chr15_45739896_45742558  pDCs_U-Myeloid_DCs_U -2.623013  6.295777e-06  \n",
       "  nearby_de_gene_id contrast_rna logFC_rna adj.P.Val_rna\n",
       "1 NA                NA           NA        NA           \n",
       "2 NA                NA           NA        NA           \n",
       "3 NA                NA           NA        NA           \n",
       "4 NA                NA           NA        NA           \n",
       "5 NA                NA           NA        NA           \n",
       "6 NA                NA           NA        NA           \n",
       "  tested_TF                         ref_minus_alt_match\n",
       "1 ENSG00000008196_LINE2_TFAP2B_D_N1 -5.1125152         \n",
       "2 ENSG00000008196_LINE2_TFAP2B_D_N1 -5.1125152         \n",
       "3 ENSG00000008196_LINE2_TFAP2B_D_N1 -5.1125152         \n",
       "4 ENSG00000008196_LINE2_TFAP2B_D_N1 -5.1125152         \n",
       "5 ENSG00000008196_LINE2_TFAP2B_D_N1  0.6583003         \n",
       "6 ENSG00000008196_LINE2_TFAP2B_D_N1  0.6583003         "
      ]
     },
     "metadata": {},
     "output_type": "display_data"
    }
   ],
   "source": [
    "head(calderon.ca.qtl)"
   ]
  },
  {
   "cell_type": "markdown",
   "id": "d252696e-7f68-4362-88d8-9b1d5743c84d",
   "metadata": {},
   "source": [
    "The supplementary table from Ram-Mohan *et al.* are in Excel format. The Excel spreadsheet has 9 sheets."
   ]
  },
  {
   "cell_type": "code",
   "execution_count": 41,
   "id": "a5dceaa7-4df6-4198-b6b0-ba9a96bb7041",
   "metadata": {},
   "outputs": [],
   "source": [
    "sheets <- readxl::excel_sheets(\"03_Functional_Interpretation/data/Ram_Mohan_et_al_2022_Table_S1.xlsx\")\n",
    "\n",
    "ram.mohan.da.peaks <- lapply(sheets, function(sheet) {\n",
    "    readxl::read_xlsx(\"03_Functional_Interpretation/data/Ram_Mohan_et_al_2022_Table_S1.xlsx\", sheet=sheet) %>%\n",
    "        dplyr::mutate(Stimulation=gsub(\"-DR\", \"\", sheet))\n",
    "}) %>%\n",
    "    do.call(rbind, .)"
   ]
  },
  {
   "cell_type": "code",
   "execution_count": 44,
   "id": "54416429-8e6f-4b21-ad5f-0e0294b974d0",
   "metadata": {},
   "outputs": [],
   "source": [
    "ram.mohan.da.peaks <- ram.mohan.da.peaks %>%\n",
    "    dplyr::mutate(chr=gsub(\"chr\", \"\", Chromosome)) %>%\n",
    "    dplyr::mutate(peak_id=paste0(chr, \":\", Start, \"-\", End)) %>%\n",
    "    dplyr::filter(chr %in% as.character(1:22)) %>%\n",
    "    dplyr::mutate(chr = as.numeric(chr)) %>%\n",
    "    dplyr::select(peak_id, chr, start=Start, end=End, stimulation=Stimulation, logFC=log2FC, pval=`p-value`)"
   ]
  },
  {
   "cell_type": "code",
   "execution_count": 45,
   "id": "34fce6e5-f6a3-41c2-a9f7-72ffb9814a93",
   "metadata": {},
   "outputs": [
    {
     "data": {
      "text/html": [
       "<table class=\"dataframe\">\n",
       "<caption>A tibble: 6 × 7</caption>\n",
       "<thead>\n",
       "\t<tr><th scope=col>peak_id</th><th scope=col>chr</th><th scope=col>start</th><th scope=col>end</th><th scope=col>stimulation</th><th scope=col>logFC</th><th scope=col>pval</th></tr>\n",
       "\t<tr><th scope=col>&lt;chr&gt;</th><th scope=col>&lt;dbl&gt;</th><th scope=col>&lt;dbl&gt;</th><th scope=col>&lt;dbl&gt;</th><th scope=col>&lt;chr&gt;</th><th scope=col>&lt;dbl&gt;</th><th scope=col>&lt;dbl&gt;</th></tr>\n",
       "</thead>\n",
       "<tbody>\n",
       "\t<tr><td>1:756651-756892  </td><td>1</td><td> 756651</td><td> 756892</td><td>BGP</td><td>1.35</td><td>0.03200</td></tr>\n",
       "\t<tr><td>1:1430944-1431234</td><td>1</td><td>1430944</td><td>1431234</td><td>BGP</td><td>2.48</td><td>0.00022</td></tr>\n",
       "\t<tr><td>1:2090706-2090915</td><td>1</td><td>2090706</td><td>2090915</td><td>BGP</td><td>1.52</td><td>0.03580</td></tr>\n",
       "\t<tr><td>1:2480184-2480571</td><td>1</td><td>2480184</td><td>2480571</td><td>BGP</td><td>1.15</td><td>0.02130</td></tr>\n",
       "\t<tr><td>1:3593886-3594335</td><td>1</td><td>3593886</td><td>3594335</td><td>BGP</td><td>1.28</td><td>0.02000</td></tr>\n",
       "\t<tr><td>1:3658517-3658765</td><td>1</td><td>3658517</td><td>3658765</td><td>BGP</td><td>1.48</td><td>0.00517</td></tr>\n",
       "</tbody>\n",
       "</table>\n"
      ],
      "text/latex": [
       "A tibble: 6 × 7\n",
       "\\begin{tabular}{lllllll}\n",
       " peak\\_id & chr & start & end & stimulation & logFC & pval\\\\\n",
       " <chr> & <dbl> & <dbl> & <dbl> & <chr> & <dbl> & <dbl>\\\\\n",
       "\\hline\n",
       "\t 1:756651-756892   & 1 &  756651 &  756892 & BGP & 1.35 & 0.03200\\\\\n",
       "\t 1:1430944-1431234 & 1 & 1430944 & 1431234 & BGP & 2.48 & 0.00022\\\\\n",
       "\t 1:2090706-2090915 & 1 & 2090706 & 2090915 & BGP & 1.52 & 0.03580\\\\\n",
       "\t 1:2480184-2480571 & 1 & 2480184 & 2480571 & BGP & 1.15 & 0.02130\\\\\n",
       "\t 1:3593886-3594335 & 1 & 3593886 & 3594335 & BGP & 1.28 & 0.02000\\\\\n",
       "\t 1:3658517-3658765 & 1 & 3658517 & 3658765 & BGP & 1.48 & 0.00517\\\\\n",
       "\\end{tabular}\n"
      ],
      "text/markdown": [
       "\n",
       "A tibble: 6 × 7\n",
       "\n",
       "| peak_id &lt;chr&gt; | chr &lt;dbl&gt; | start &lt;dbl&gt; | end &lt;dbl&gt; | stimulation &lt;chr&gt; | logFC &lt;dbl&gt; | pval &lt;dbl&gt; |\n",
       "|---|---|---|---|---|---|---|\n",
       "| 1:756651-756892   | 1 |  756651 |  756892 | BGP | 1.35 | 0.03200 |\n",
       "| 1:1430944-1431234 | 1 | 1430944 | 1431234 | BGP | 2.48 | 0.00022 |\n",
       "| 1:2090706-2090915 | 1 | 2090706 | 2090915 | BGP | 1.52 | 0.03580 |\n",
       "| 1:2480184-2480571 | 1 | 2480184 | 2480571 | BGP | 1.15 | 0.02130 |\n",
       "| 1:3593886-3594335 | 1 | 3593886 | 3594335 | BGP | 1.28 | 0.02000 |\n",
       "| 1:3658517-3658765 | 1 | 3658517 | 3658765 | BGP | 1.48 | 0.00517 |\n",
       "\n"
      ],
      "text/plain": [
       "  peak_id           chr start   end     stimulation logFC pval   \n",
       "1 1:756651-756892   1    756651  756892 BGP         1.35  0.03200\n",
       "2 1:1430944-1431234 1   1430944 1431234 BGP         2.48  0.00022\n",
       "3 1:2090706-2090915 1   2090706 2090915 BGP         1.52  0.03580\n",
       "4 1:2480184-2480571 1   2480184 2480571 BGP         1.15  0.02130\n",
       "5 1:3593886-3594335 1   3593886 3594335 BGP         1.28  0.02000\n",
       "6 1:3658517-3658765 1   3658517 3658765 BGP         1.48  0.00517"
      ]
     },
     "metadata": {},
     "output_type": "display_data"
    }
   ],
   "source": [
    "head(ram.mohan.da.peaks)"
   ]
  },
  {
   "cell_type": "code",
   "execution_count": 77,
   "id": "c8b7f136-d6da-4647-881e-b5fe4c2dfc7e",
   "metadata": {},
   "outputs": [],
   "source": [
    "cis.eqtl <- readRDS(\"~/gains_team282/eqtl/cisresults/conditionalanalysis/conditional_eQTL_results_final.rds\")"
   ]
  },
  {
   "cell_type": "code",
   "execution_count": 78,
   "id": "cd97e50a-b21a-4b85-b856-74c4973234ea",
   "metadata": {},
   "outputs": [
    {
     "data": {
      "text/html": [
       "<table class=\"dataframe\">\n",
       "<caption>A data.frame: 6 × 6</caption>\n",
       "<thead>\n",
       "\t<tr><th></th><th scope=col>SNP</th><th scope=col>Gene</th><th scope=col>eQTL_beta</th><th scope=col>eQTL_SE</th><th scope=col>pvalue</th><th scope=col>Number</th></tr>\n",
       "\t<tr><th></th><th scope=col>&lt;chr&gt;</th><th scope=col>&lt;chr&gt;</th><th scope=col>&lt;chr&gt;</th><th scope=col>&lt;chr&gt;</th><th scope=col>&lt;chr&gt;</th><th scope=col>&lt;int&gt;</th></tr>\n",
       "</thead>\n",
       "<tbody>\n",
       "\t<tr><th scope=row>1</th><td>rs10753794</td><td>ENSG00000000457</td><td>0.0498587312408011 </td><td>0.00708515851579373</td><td>5.19259471106013e-12</td><td>1</td></tr>\n",
       "\t<tr><th scope=row>2</th><td>rs10919255</td><td>ENSG00000000460</td><td>-0.0726264894633498</td><td>0.0136853304567293 </td><td>1.72815915933528e-07</td><td>1</td></tr>\n",
       "\t<tr><th scope=row>3</th><td>rs77006036</td><td>ENSG00000000460</td><td>0.166236949102582  </td><td>0.0334472538699365 </td><td>8.47290238610159e-07</td><td>2</td></tr>\n",
       "\t<tr><th scope=row>4</th><td>rs12406047</td><td>ENSG00000000971</td><td>0.17135374034767   </td><td>0.0379807691167313 </td><td>7.51523462853891e-06</td><td>1</td></tr>\n",
       "\t<tr><th scope=row>5</th><td>rs6696136 </td><td>ENSG00000001460</td><td>0.45884434698694   </td><td>0.0871081626842823 </td><td>1.94887370606405e-07</td><td>1</td></tr>\n",
       "\t<tr><th scope=row>6</th><td>rs6676449 </td><td>ENSG00000001460</td><td>-0.371531778822554 </td><td>0.0880672792106829 </td><td>2.8471651589813e-05 </td><td>2</td></tr>\n",
       "</tbody>\n",
       "</table>\n"
      ],
      "text/latex": [
       "A data.frame: 6 × 6\n",
       "\\begin{tabular}{r|llllll}\n",
       "  & SNP & Gene & eQTL\\_beta & eQTL\\_SE & pvalue & Number\\\\\n",
       "  & <chr> & <chr> & <chr> & <chr> & <chr> & <int>\\\\\n",
       "\\hline\n",
       "\t1 & rs10753794 & ENSG00000000457 & 0.0498587312408011  & 0.00708515851579373 & 5.19259471106013e-12 & 1\\\\\n",
       "\t2 & rs10919255 & ENSG00000000460 & -0.0726264894633498 & 0.0136853304567293  & 1.72815915933528e-07 & 1\\\\\n",
       "\t3 & rs77006036 & ENSG00000000460 & 0.166236949102582   & 0.0334472538699365  & 8.47290238610159e-07 & 2\\\\\n",
       "\t4 & rs12406047 & ENSG00000000971 & 0.17135374034767    & 0.0379807691167313  & 7.51523462853891e-06 & 1\\\\\n",
       "\t5 & rs6696136  & ENSG00000001460 & 0.45884434698694    & 0.0871081626842823  & 1.94887370606405e-07 & 1\\\\\n",
       "\t6 & rs6676449  & ENSG00000001460 & -0.371531778822554  & 0.0880672792106829  & 2.8471651589813e-05  & 2\\\\\n",
       "\\end{tabular}\n"
      ],
      "text/markdown": [
       "\n",
       "A data.frame: 6 × 6\n",
       "\n",
       "| <!--/--> | SNP &lt;chr&gt; | Gene &lt;chr&gt; | eQTL_beta &lt;chr&gt; | eQTL_SE &lt;chr&gt; | pvalue &lt;chr&gt; | Number &lt;int&gt; |\n",
       "|---|---|---|---|---|---|---|\n",
       "| 1 | rs10753794 | ENSG00000000457 | 0.0498587312408011  | 0.00708515851579373 | 5.19259471106013e-12 | 1 |\n",
       "| 2 | rs10919255 | ENSG00000000460 | -0.0726264894633498 | 0.0136853304567293  | 1.72815915933528e-07 | 1 |\n",
       "| 3 | rs77006036 | ENSG00000000460 | 0.166236949102582   | 0.0334472538699365  | 8.47290238610159e-07 | 2 |\n",
       "| 4 | rs12406047 | ENSG00000000971 | 0.17135374034767    | 0.0379807691167313  | 7.51523462853891e-06 | 1 |\n",
       "| 5 | rs6696136  | ENSG00000001460 | 0.45884434698694    | 0.0871081626842823  | 1.94887370606405e-07 | 1 |\n",
       "| 6 | rs6676449  | ENSG00000001460 | -0.371531778822554  | 0.0880672792106829  | 2.8471651589813e-05  | 2 |\n",
       "\n"
      ],
      "text/plain": [
       "  SNP        Gene            eQTL_beta           eQTL_SE            \n",
       "1 rs10753794 ENSG00000000457 0.0498587312408011  0.00708515851579373\n",
       "2 rs10919255 ENSG00000000460 -0.0726264894633498 0.0136853304567293 \n",
       "3 rs77006036 ENSG00000000460 0.166236949102582   0.0334472538699365 \n",
       "4 rs12406047 ENSG00000000971 0.17135374034767    0.0379807691167313 \n",
       "5 rs6696136  ENSG00000001460 0.45884434698694    0.0871081626842823 \n",
       "6 rs6676449  ENSG00000001460 -0.371531778822554  0.0880672792106829 \n",
       "  pvalue               Number\n",
       "1 5.19259471106013e-12 1     \n",
       "2 1.72815915933528e-07 1     \n",
       "3 8.47290238610159e-07 2     \n",
       "4 7.51523462853891e-06 1     \n",
       "5 1.94887370606405e-07 1     \n",
       "6 2.8471651589813e-05  2     "
      ]
     },
     "metadata": {},
     "output_type": "display_data"
    }
   ],
   "source": [
    "head(cis.eqtl)"
   ]
  },
  {
   "cell_type": "markdown",
   "id": "1aea645e-ec22-4ef1-8224-3b61b044d33d",
   "metadata": {},
   "source": [
    "## SNP Positions in hg19\n",
    "\n",
    "Both Calderon *et al.* and Ram-Mohan *et al.* use hg19 coordinates. Since we have the cis-eQTL SNPs and their Ref-Seq IDs, we can find their locations in hg19 for direct comparisons."
   ]
  },
  {
   "cell_type": "code",
   "execution_count": 73,
   "id": "f39a3372-4d4c-42a7-9c12-95fc2b8880a2",
   "metadata": {},
   "outputs": [],
   "source": [
    "ensembl <- useEnsembl(biomart=\"snps\", dataset=\"hsapiens_snp\", version=75)"
   ]
  },
  {
   "cell_type": "code",
   "execution_count": 79,
   "id": "ae40e527-5f1d-4f8e-a797-5968a44c1f12",
   "metadata": {},
   "outputs": [
    {
     "name": "stderr",
     "output_type": "stream",
     "text": [
      "\n",
      "Batch submitting query [=======>-----------------------]  25% eta: 42s\n",
      "\n",
      "Batch submitting query [===============>---------------]  50% eta: 27s\n",
      "\n",
      "Batch submitting query [======================>--------]  75% eta: 13s\n",
      "                                                                      \n",
      "\n"
     ]
    }
   ],
   "source": [
    "hg19.coords <- getBM(\n",
    "    attributes=c(\"refsnp_id\", \"chr_name\", \"chrom_start\"), \n",
    "    filters=\"snp_filter\", \n",
    "    values=cis.eqtl$SNP, \n",
    "    mart=ensembl\n",
    ")"
   ]
  },
  {
   "cell_type": "code",
   "execution_count": 92,
   "id": "2906910b-0146-4819-b873-0c279771bfee",
   "metadata": {},
   "outputs": [],
   "source": [
    "cis.eqtl.hg19 <- merge(hg19.coords, cis.eqtl, by.x=\"refsnp_id\", by.y=\"SNP\") %>%\n",
    "    dplyr::filter(chr_name %in% as.character(1:22)) %>%\n",
    "    dplyr::mutate(chr=as.numeric(chr_name)) %>%\n",
    "    dplyr::select(snp=refsnp_id, chr, position=chrom_start, gene=Gene, beta=eQTL_beta, se=eQTL_SE, pval=pvalue, number=Number) %>%\n",
    "    dplyr::mutate(beta=as.numeric(beta)) %>%\n",
    "    dplyr::mutate(se=as.numeric(se)) %>%\n",
    "    dplyr::mutate(pval=as.numeric(pval))"
   ]
  },
  {
   "cell_type": "markdown",
   "id": "9ee6c4df-f413-4e01-afe8-075bdc99e4c4",
   "metadata": {
    "tags": []
   },
   "source": [
    "## Overlaps with DA Peaks"
   ]
  },
  {
   "cell_type": "markdown",
   "id": "c436d790-e3ad-4322-9e95-1ac7d2e483ba",
   "metadata": {},
   "source": [
    "### Overlap with Calderon *et al.*"
   ]
  },
  {
   "cell_type": "code",
   "execution_count": 198,
   "id": "2e0cd2d5-3788-4066-b5d7-a923ebd9c096",
   "metadata": {},
   "outputs": [],
   "source": [
    "cis.eqtl.ranges <- makeGRangesFromDataFrame(cis.eqtl.hg19, keep.extra.columns=TRUE, start.field=\"position\", end.field=\"position\")"
   ]
  },
  {
   "cell_type": "code",
   "execution_count": 199,
   "id": "ee268dc7-393b-474b-a96e-f29b5ff88322",
   "metadata": {},
   "outputs": [],
   "source": [
    "da.peaks <- makeGRangesFromDataFrame(calderon.da.peaks, keep.extra.columns=TRUE)"
   ]
  },
  {
   "cell_type": "code",
   "execution_count": 200,
   "id": "c4f4938b-93bb-4571-aa3c-daddc065a579",
   "metadata": {},
   "outputs": [],
   "source": [
    "overlaps <- findOverlaps(cis.eqtl.ranges, da.peaks)"
   ]
  },
  {
   "cell_type": "code",
   "execution_count": 201,
   "id": "db53a3e7-4ff9-4476-bffd-47deca69a3d7",
   "metadata": {},
   "outputs": [],
   "source": [
    "calderon.overlaps <- cbind(\n",
    "    as.data.frame(cis.eqtl.ranges[overlaps@from,]),\n",
    "    as.data.frame(da.peaks[overlaps@to,])\n",
    ") %>%\n",
    "    as.data.frame() %>%\n",
    "    dplyr::select(snp_chr=1, snp_pos_hg19=2, peak_chr=12, peak_start=13, peak_end=14, peak_pval=20, snp, gene, beta, se, pval, number, peak_id, cell_type, logFC) %>%\n",
    "    dplyr::select(snp, snp_chr, snp_pos_hg19, eqtl_gene=gene, eqtl_beta=beta, eqtl_se=se, eqtl_pval=pval, eqtl_number=number, peak_id, peak_chr, peak_start, peak_end, cell_type, peak_logFC=logFC, peak_pval)"
   ]
  },
  {
   "cell_type": "code",
   "execution_count": 202,
   "id": "cac371bb-7b47-4532-8128-0ea8291510f7",
   "metadata": {},
   "outputs": [
    {
     "data": {
      "text/html": [
       "<table class=\"dataframe\">\n",
       "<caption>A data.frame: 6 × 15</caption>\n",
       "<thead>\n",
       "\t<tr><th></th><th scope=col>snp</th><th scope=col>snp_chr</th><th scope=col>snp_pos_hg19</th><th scope=col>eqtl_gene</th><th scope=col>eqtl_beta</th><th scope=col>eqtl_se</th><th scope=col>eqtl_pval</th><th scope=col>eqtl_number</th><th scope=col>peak_id</th><th scope=col>peak_chr</th><th scope=col>peak_start</th><th scope=col>peak_end</th><th scope=col>cell_type</th><th scope=col>peak_logFC</th><th scope=col>peak_pval</th></tr>\n",
       "\t<tr><th></th><th scope=col>&lt;chr&gt;</th><th scope=col>&lt;fct&gt;</th><th scope=col>&lt;int&gt;</th><th scope=col>&lt;chr&gt;</th><th scope=col>&lt;dbl&gt;</th><th scope=col>&lt;dbl&gt;</th><th scope=col>&lt;dbl&gt;</th><th scope=col>&lt;int&gt;</th><th scope=col>&lt;chr&gt;</th><th scope=col>&lt;fct&gt;</th><th scope=col>&lt;int&gt;</th><th scope=col>&lt;int&gt;</th><th scope=col>&lt;chr&gt;</th><th scope=col>&lt;dbl&gt;</th><th scope=col>&lt;dbl&gt;</th></tr>\n",
       "</thead>\n",
       "<tbody>\n",
       "\t<tr><th scope=row>1</th><td>rs1005645 </td><td>17</td><td> 74696760</td><td>ENSG00000182534</td><td>-1.02246798</td><td>0.182494148</td><td>3.051127e-08</td><td>5</td><td>17:74695722-74697119 </td><td>17</td><td> 74695722</td><td> 74697119</td><td>Effector_memory_CD8pos_T</td><td>-1.419568</td><td>4.001788e-04</td></tr>\n",
       "\t<tr><th scope=row>2</th><td>rs10099485</td><td>8 </td><td> 94938346</td><td>ENSG00000164951</td><td> 0.04715347</td><td>0.009831835</td><td>2.077280e-06</td><td>1</td><td>8:94937667-94938491  </td><td>8 </td><td> 94937667</td><td> 94938491</td><td>Th17_precursors         </td><td> 2.720744</td><td>2.540901e-03</td></tr>\n",
       "\t<tr><th scope=row>3</th><td>rs10109337</td><td>8 </td><td>129000264</td><td>ENSG00000249859</td><td>-0.06597916</td><td>0.015019648</td><td>1.346039e-05</td><td>2</td><td>8:128999163-129001477</td><td>8 </td><td>128999163</td><td>129001477</td><td>Bulk_B                  </td><td> 1.706596</td><td>6.764532e-04</td></tr>\n",
       "\t<tr><th scope=row>4</th><td>rs10109337</td><td>8 </td><td>129000264</td><td>ENSG00000249859</td><td>-0.06597916</td><td>0.015019648</td><td>1.346039e-05</td><td>2</td><td>8:128999163-129001477</td><td>8 </td><td>128999163</td><td>129001477</td><td>Follicular_T_Helper     </td><td> 1.107581</td><td>7.921767e-03</td></tr>\n",
       "\t<tr><th scope=row>5</th><td>rs10109337</td><td>8 </td><td>129000264</td><td>ENSG00000249859</td><td>-0.06597916</td><td>0.015019648</td><td>1.346039e-05</td><td>2</td><td>8:128999163-129001477</td><td>8 </td><td>128999163</td><td>129001477</td><td>Memory_Teffs            </td><td> 1.200628</td><td>6.321209e-03</td></tr>\n",
       "\t<tr><th scope=row>6</th><td>rs10109337</td><td>8 </td><td>129000264</td><td>ENSG00000249859</td><td>-0.06597916</td><td>0.015019648</td><td>1.346039e-05</td><td>2</td><td>8:128999163-129001477</td><td>8 </td><td>128999163</td><td>129001477</td><td>Naive_B                 </td><td> 2.149016</td><td>1.665642e-06</td></tr>\n",
       "</tbody>\n",
       "</table>\n"
      ],
      "text/latex": [
       "A data.frame: 6 × 15\n",
       "\\begin{tabular}{r|lllllllllllllll}\n",
       "  & snp & snp\\_chr & snp\\_pos\\_hg19 & eqtl\\_gene & eqtl\\_beta & eqtl\\_se & eqtl\\_pval & eqtl\\_number & peak\\_id & peak\\_chr & peak\\_start & peak\\_end & cell\\_type & peak\\_logFC & peak\\_pval\\\\\n",
       "  & <chr> & <fct> & <int> & <chr> & <dbl> & <dbl> & <dbl> & <int> & <chr> & <fct> & <int> & <int> & <chr> & <dbl> & <dbl>\\\\\n",
       "\\hline\n",
       "\t1 & rs1005645  & 17 &  74696760 & ENSG00000182534 & -1.02246798 & 0.182494148 & 3.051127e-08 & 5 & 17:74695722-74697119  & 17 &  74695722 &  74697119 & Effector\\_memory\\_CD8pos\\_T & -1.419568 & 4.001788e-04\\\\\n",
       "\t2 & rs10099485 & 8  &  94938346 & ENSG00000164951 &  0.04715347 & 0.009831835 & 2.077280e-06 & 1 & 8:94937667-94938491   & 8  &  94937667 &  94938491 & Th17\\_precursors          &  2.720744 & 2.540901e-03\\\\\n",
       "\t3 & rs10109337 & 8  & 129000264 & ENSG00000249859 & -0.06597916 & 0.015019648 & 1.346039e-05 & 2 & 8:128999163-129001477 & 8  & 128999163 & 129001477 & Bulk\\_B                   &  1.706596 & 6.764532e-04\\\\\n",
       "\t4 & rs10109337 & 8  & 129000264 & ENSG00000249859 & -0.06597916 & 0.015019648 & 1.346039e-05 & 2 & 8:128999163-129001477 & 8  & 128999163 & 129001477 & Follicular\\_T\\_Helper      &  1.107581 & 7.921767e-03\\\\\n",
       "\t5 & rs10109337 & 8  & 129000264 & ENSG00000249859 & -0.06597916 & 0.015019648 & 1.346039e-05 & 2 & 8:128999163-129001477 & 8  & 128999163 & 129001477 & Memory\\_Teffs             &  1.200628 & 6.321209e-03\\\\\n",
       "\t6 & rs10109337 & 8  & 129000264 & ENSG00000249859 & -0.06597916 & 0.015019648 & 1.346039e-05 & 2 & 8:128999163-129001477 & 8  & 128999163 & 129001477 & Naive\\_B                  &  2.149016 & 1.665642e-06\\\\\n",
       "\\end{tabular}\n"
      ],
      "text/markdown": [
       "\n",
       "A data.frame: 6 × 15\n",
       "\n",
       "| <!--/--> | snp &lt;chr&gt; | snp_chr &lt;fct&gt; | snp_pos_hg19 &lt;int&gt; | eqtl_gene &lt;chr&gt; | eqtl_beta &lt;dbl&gt; | eqtl_se &lt;dbl&gt; | eqtl_pval &lt;dbl&gt; | eqtl_number &lt;int&gt; | peak_id &lt;chr&gt; | peak_chr &lt;fct&gt; | peak_start &lt;int&gt; | peak_end &lt;int&gt; | cell_type &lt;chr&gt; | peak_logFC &lt;dbl&gt; | peak_pval &lt;dbl&gt; |\n",
       "|---|---|---|---|---|---|---|---|---|---|---|---|---|---|---|---|\n",
       "| 1 | rs1005645  | 17 |  74696760 | ENSG00000182534 | -1.02246798 | 0.182494148 | 3.051127e-08 | 5 | 17:74695722-74697119  | 17 |  74695722 |  74697119 | Effector_memory_CD8pos_T | -1.419568 | 4.001788e-04 |\n",
       "| 2 | rs10099485 | 8  |  94938346 | ENSG00000164951 |  0.04715347 | 0.009831835 | 2.077280e-06 | 1 | 8:94937667-94938491   | 8  |  94937667 |  94938491 | Th17_precursors          |  2.720744 | 2.540901e-03 |\n",
       "| 3 | rs10109337 | 8  | 129000264 | ENSG00000249859 | -0.06597916 | 0.015019648 | 1.346039e-05 | 2 | 8:128999163-129001477 | 8  | 128999163 | 129001477 | Bulk_B                   |  1.706596 | 6.764532e-04 |\n",
       "| 4 | rs10109337 | 8  | 129000264 | ENSG00000249859 | -0.06597916 | 0.015019648 | 1.346039e-05 | 2 | 8:128999163-129001477 | 8  | 128999163 | 129001477 | Follicular_T_Helper      |  1.107581 | 7.921767e-03 |\n",
       "| 5 | rs10109337 | 8  | 129000264 | ENSG00000249859 | -0.06597916 | 0.015019648 | 1.346039e-05 | 2 | 8:128999163-129001477 | 8  | 128999163 | 129001477 | Memory_Teffs             |  1.200628 | 6.321209e-03 |\n",
       "| 6 | rs10109337 | 8  | 129000264 | ENSG00000249859 | -0.06597916 | 0.015019648 | 1.346039e-05 | 2 | 8:128999163-129001477 | 8  | 128999163 | 129001477 | Naive_B                  |  2.149016 | 1.665642e-06 |\n",
       "\n"
      ],
      "text/plain": [
       "  snp        snp_chr snp_pos_hg19 eqtl_gene       eqtl_beta   eqtl_se    \n",
       "1 rs1005645  17       74696760    ENSG00000182534 -1.02246798 0.182494148\n",
       "2 rs10099485 8        94938346    ENSG00000164951  0.04715347 0.009831835\n",
       "3 rs10109337 8       129000264    ENSG00000249859 -0.06597916 0.015019648\n",
       "4 rs10109337 8       129000264    ENSG00000249859 -0.06597916 0.015019648\n",
       "5 rs10109337 8       129000264    ENSG00000249859 -0.06597916 0.015019648\n",
       "6 rs10109337 8       129000264    ENSG00000249859 -0.06597916 0.015019648\n",
       "  eqtl_pval    eqtl_number peak_id               peak_chr peak_start peak_end \n",
       "1 3.051127e-08 5           17:74695722-74697119  17        74695722   74697119\n",
       "2 2.077280e-06 1           8:94937667-94938491   8         94937667   94938491\n",
       "3 1.346039e-05 2           8:128999163-129001477 8        128999163  129001477\n",
       "4 1.346039e-05 2           8:128999163-129001477 8        128999163  129001477\n",
       "5 1.346039e-05 2           8:128999163-129001477 8        128999163  129001477\n",
       "6 1.346039e-05 2           8:128999163-129001477 8        128999163  129001477\n",
       "  cell_type                peak_logFC peak_pval   \n",
       "1 Effector_memory_CD8pos_T -1.419568  4.001788e-04\n",
       "2 Th17_precursors           2.720744  2.540901e-03\n",
       "3 Bulk_B                    1.706596  6.764532e-04\n",
       "4 Follicular_T_Helper       1.107581  7.921767e-03\n",
       "5 Memory_Teffs              1.200628  6.321209e-03\n",
       "6 Naive_B                   2.149016  1.665642e-06"
      ]
     },
     "metadata": {},
     "output_type": "display_data"
    }
   ],
   "source": [
    "head(calderon.overlaps)"
   ]
  },
  {
   "cell_type": "code",
   "execution_count": 204,
   "id": "3a11d4a6-981d-42bc-9264-696a79e6b9d5",
   "metadata": {},
   "outputs": [],
   "source": [
    "write.table(calderon.overlaps, \"~/gains_team282/nikhil/functional_interpretation/cis_eqtl_calderon_et_al_da_peaks_overlaps.tsv\", quote=F, row.names=F, sep=\"\\t\")"
   ]
  },
  {
   "cell_type": "markdown",
   "id": "2c876055-3181-4d52-ab91-45219afd227f",
   "metadata": {
    "tags": []
   },
   "source": [
    "### Overlap with Ram-Mohan *et al.*"
   ]
  },
  {
   "cell_type": "code",
   "execution_count": 205,
   "id": "77b9bfa0-63f2-4302-968a-ef5e150144ae",
   "metadata": {},
   "outputs": [],
   "source": [
    "cis.eqtl.ranges <- makeGRangesFromDataFrame(cis.eqtl.hg19, keep.extra.columns=TRUE, start.field=\"position\", end.field=\"position\")"
   ]
  },
  {
   "cell_type": "code",
   "execution_count": 206,
   "id": "ad52ca46-a925-4fd6-90e6-29df09eecf33",
   "metadata": {},
   "outputs": [],
   "source": [
    "da.peaks <- makeGRangesFromDataFrame(ram.mohan.da.peaks, keep.extra.columns=TRUE)"
   ]
  },
  {
   "cell_type": "code",
   "execution_count": 207,
   "id": "19f6f382-a9b1-4b41-a89b-17756e56c99a",
   "metadata": {},
   "outputs": [],
   "source": [
    "overlaps <- findOverlaps(cis.eqtl.ranges, da.peaks)"
   ]
  },
  {
   "cell_type": "code",
   "execution_count": 208,
   "id": "b7521949-ac82-4dbc-8779-ebe8a53964cb",
   "metadata": {},
   "outputs": [],
   "source": [
    "ram.mohan.overlaps <- cbind(\n",
    "    as.data.frame(cis.eqtl.ranges[overlaps@from,]),\n",
    "    as.data.frame(da.peaks[overlaps@to,])\n",
    ") %>%\n",
    "    as.data.frame() %>%\n",
    "    dplyr::select(snp_chr=1, snp_pos_hg19=2, peak_chr=12, peak_start=13, peak_end=14, peak_pval=20, snp, gene, beta, se, pval, number, peak_id, stimulation, logFC) %>%\n",
    "    dplyr::select(snp, snp_chr, snp_pos_hg19, eqtl_gene=gene, eqtl_beta=beta, eqtl_se=se, eqtl_pval=pval, eqtl_number=number, peak_id, peak_chr, peak_start, peak_end, stimulation, peak_logFC=logFC, peak_pval)"
   ]
  },
  {
   "cell_type": "code",
   "execution_count": 209,
   "id": "b9256aaa-0d30-4ec4-963f-a7e1c99614da",
   "metadata": {},
   "outputs": [
    {
     "data": {
      "text/html": [
       "<table class=\"dataframe\">\n",
       "<caption>A data.frame: 6 × 15</caption>\n",
       "<thead>\n",
       "\t<tr><th></th><th scope=col>snp</th><th scope=col>snp_chr</th><th scope=col>snp_pos_hg19</th><th scope=col>eqtl_gene</th><th scope=col>eqtl_beta</th><th scope=col>eqtl_se</th><th scope=col>eqtl_pval</th><th scope=col>eqtl_number</th><th scope=col>peak_id</th><th scope=col>peak_chr</th><th scope=col>peak_start</th><th scope=col>peak_end</th><th scope=col>stimulation</th><th scope=col>peak_logFC</th><th scope=col>peak_pval</th></tr>\n",
       "\t<tr><th></th><th scope=col>&lt;chr&gt;</th><th scope=col>&lt;fct&gt;</th><th scope=col>&lt;int&gt;</th><th scope=col>&lt;chr&gt;</th><th scope=col>&lt;dbl&gt;</th><th scope=col>&lt;dbl&gt;</th><th scope=col>&lt;dbl&gt;</th><th scope=col>&lt;int&gt;</th><th scope=col>&lt;chr&gt;</th><th scope=col>&lt;fct&gt;</th><th scope=col>&lt;int&gt;</th><th scope=col>&lt;int&gt;</th><th scope=col>&lt;chr&gt;</th><th scope=col>&lt;dbl&gt;</th><th scope=col>&lt;dbl&gt;</th></tr>\n",
       "</thead>\n",
       "<tbody>\n",
       "\t<tr><th scope=row>1</th><td>rs1010502 </td><td>1 </td><td>201123745</td><td>ENSG00000116857</td><td> 0.46578110</td><td>0.01514380</td><td>1.033713e-128</td><td>1</td><td>1:201123305-201123828</td><td>1 </td><td>201123305</td><td>201123828</td><td>EC1h</td><td> 1.47</td><td>0.00414</td></tr>\n",
       "\t<tr><th scope=row>2</th><td>rs1010858 </td><td>2 </td><td> 39102671</td><td>ENSG00000163214</td><td>-0.11715346</td><td>0.01153675</td><td> 1.207665e-22</td><td>1</td><td>2:39102462-39103410  </td><td>2 </td><td> 39102462</td><td> 39103410</td><td>HMGB</td><td> 1.01</td><td>0.02540</td></tr>\n",
       "\t<tr><th scope=row>3</th><td>rs1032763 </td><td>5 </td><td> 17118930</td><td>ENSG00000271892</td><td> 0.11174365</td><td>0.00818239</td><td> 7.653473e-38</td><td>1</td><td>5:17118788-17119060  </td><td>5 </td><td> 17118788</td><td> 17119060</td><td>EC1h</td><td> 1.53</td><td>0.03110</td></tr>\n",
       "\t<tr><th scope=row>4</th><td>rs10424044</td><td>19</td><td> 52239177</td><td>ENSG00000171049</td><td>-0.08013458</td><td>0.01596276</td><td> 6.739691e-07</td><td>1</td><td>19:52239083-52239807 </td><td>19</td><td> 52239083</td><td> 52239807</td><td>R848</td><td> 1.12</td><td>0.03350</td></tr>\n",
       "\t<tr><th scope=row>5</th><td>rs1061307 </td><td>3 </td><td>146262344</td><td>ENSG00000188313</td><td>-0.29972900</td><td>0.03060203</td><td> 2.489119e-21</td><td>1</td><td>3:146262119-146262728</td><td>3 </td><td>146262119</td><td>146262728</td><td>EC1h</td><td> 1.12</td><td>0.00280</td></tr>\n",
       "\t<tr><th scope=row>6</th><td>rs1061307 </td><td>3 </td><td>146262344</td><td>ENSG00000188313</td><td>-0.29972900</td><td>0.03060203</td><td> 2.489119e-21</td><td>1</td><td>3:146262129-146262646</td><td>3 </td><td>146262129</td><td>146262646</td><td>EC4h</td><td>-1.13</td><td>0.01690</td></tr>\n",
       "</tbody>\n",
       "</table>\n"
      ],
      "text/latex": [
       "A data.frame: 6 × 15\n",
       "\\begin{tabular}{r|lllllllllllllll}\n",
       "  & snp & snp\\_chr & snp\\_pos\\_hg19 & eqtl\\_gene & eqtl\\_beta & eqtl\\_se & eqtl\\_pval & eqtl\\_number & peak\\_id & peak\\_chr & peak\\_start & peak\\_end & stimulation & peak\\_logFC & peak\\_pval\\\\\n",
       "  & <chr> & <fct> & <int> & <chr> & <dbl> & <dbl> & <dbl> & <int> & <chr> & <fct> & <int> & <int> & <chr> & <dbl> & <dbl>\\\\\n",
       "\\hline\n",
       "\t1 & rs1010502  & 1  & 201123745 & ENSG00000116857 &  0.46578110 & 0.01514380 & 1.033713e-128 & 1 & 1:201123305-201123828 & 1  & 201123305 & 201123828 & EC1h &  1.47 & 0.00414\\\\\n",
       "\t2 & rs1010858  & 2  &  39102671 & ENSG00000163214 & -0.11715346 & 0.01153675 &  1.207665e-22 & 1 & 2:39102462-39103410   & 2  &  39102462 &  39103410 & HMGB &  1.01 & 0.02540\\\\\n",
       "\t3 & rs1032763  & 5  &  17118930 & ENSG00000271892 &  0.11174365 & 0.00818239 &  7.653473e-38 & 1 & 5:17118788-17119060   & 5  &  17118788 &  17119060 & EC1h &  1.53 & 0.03110\\\\\n",
       "\t4 & rs10424044 & 19 &  52239177 & ENSG00000171049 & -0.08013458 & 0.01596276 &  6.739691e-07 & 1 & 19:52239083-52239807  & 19 &  52239083 &  52239807 & R848 &  1.12 & 0.03350\\\\\n",
       "\t5 & rs1061307  & 3  & 146262344 & ENSG00000188313 & -0.29972900 & 0.03060203 &  2.489119e-21 & 1 & 3:146262119-146262728 & 3  & 146262119 & 146262728 & EC1h &  1.12 & 0.00280\\\\\n",
       "\t6 & rs1061307  & 3  & 146262344 & ENSG00000188313 & -0.29972900 & 0.03060203 &  2.489119e-21 & 1 & 3:146262129-146262646 & 3  & 146262129 & 146262646 & EC4h & -1.13 & 0.01690\\\\\n",
       "\\end{tabular}\n"
      ],
      "text/markdown": [
       "\n",
       "A data.frame: 6 × 15\n",
       "\n",
       "| <!--/--> | snp &lt;chr&gt; | snp_chr &lt;fct&gt; | snp_pos_hg19 &lt;int&gt; | eqtl_gene &lt;chr&gt; | eqtl_beta &lt;dbl&gt; | eqtl_se &lt;dbl&gt; | eqtl_pval &lt;dbl&gt; | eqtl_number &lt;int&gt; | peak_id &lt;chr&gt; | peak_chr &lt;fct&gt; | peak_start &lt;int&gt; | peak_end &lt;int&gt; | stimulation &lt;chr&gt; | peak_logFC &lt;dbl&gt; | peak_pval &lt;dbl&gt; |\n",
       "|---|---|---|---|---|---|---|---|---|---|---|---|---|---|---|---|\n",
       "| 1 | rs1010502  | 1  | 201123745 | ENSG00000116857 |  0.46578110 | 0.01514380 | 1.033713e-128 | 1 | 1:201123305-201123828 | 1  | 201123305 | 201123828 | EC1h |  1.47 | 0.00414 |\n",
       "| 2 | rs1010858  | 2  |  39102671 | ENSG00000163214 | -0.11715346 | 0.01153675 |  1.207665e-22 | 1 | 2:39102462-39103410   | 2  |  39102462 |  39103410 | HMGB |  1.01 | 0.02540 |\n",
       "| 3 | rs1032763  | 5  |  17118930 | ENSG00000271892 |  0.11174365 | 0.00818239 |  7.653473e-38 | 1 | 5:17118788-17119060   | 5  |  17118788 |  17119060 | EC1h |  1.53 | 0.03110 |\n",
       "| 4 | rs10424044 | 19 |  52239177 | ENSG00000171049 | -0.08013458 | 0.01596276 |  6.739691e-07 | 1 | 19:52239083-52239807  | 19 |  52239083 |  52239807 | R848 |  1.12 | 0.03350 |\n",
       "| 5 | rs1061307  | 3  | 146262344 | ENSG00000188313 | -0.29972900 | 0.03060203 |  2.489119e-21 | 1 | 3:146262119-146262728 | 3  | 146262119 | 146262728 | EC1h |  1.12 | 0.00280 |\n",
       "| 6 | rs1061307  | 3  | 146262344 | ENSG00000188313 | -0.29972900 | 0.03060203 |  2.489119e-21 | 1 | 3:146262129-146262646 | 3  | 146262129 | 146262646 | EC4h | -1.13 | 0.01690 |\n",
       "\n"
      ],
      "text/plain": [
       "  snp        snp_chr snp_pos_hg19 eqtl_gene       eqtl_beta   eqtl_se   \n",
       "1 rs1010502  1       201123745    ENSG00000116857  0.46578110 0.01514380\n",
       "2 rs1010858  2        39102671    ENSG00000163214 -0.11715346 0.01153675\n",
       "3 rs1032763  5        17118930    ENSG00000271892  0.11174365 0.00818239\n",
       "4 rs10424044 19       52239177    ENSG00000171049 -0.08013458 0.01596276\n",
       "5 rs1061307  3       146262344    ENSG00000188313 -0.29972900 0.03060203\n",
       "6 rs1061307  3       146262344    ENSG00000188313 -0.29972900 0.03060203\n",
       "  eqtl_pval     eqtl_number peak_id               peak_chr peak_start peak_end \n",
       "1 1.033713e-128 1           1:201123305-201123828 1        201123305  201123828\n",
       "2  1.207665e-22 1           2:39102462-39103410   2         39102462   39103410\n",
       "3  7.653473e-38 1           5:17118788-17119060   5         17118788   17119060\n",
       "4  6.739691e-07 1           19:52239083-52239807  19        52239083   52239807\n",
       "5  2.489119e-21 1           3:146262119-146262728 3        146262119  146262728\n",
       "6  2.489119e-21 1           3:146262129-146262646 3        146262129  146262646\n",
       "  stimulation peak_logFC peak_pval\n",
       "1 EC1h         1.47      0.00414  \n",
       "2 HMGB         1.01      0.02540  \n",
       "3 EC1h         1.53      0.03110  \n",
       "4 R848         1.12      0.03350  \n",
       "5 EC1h         1.12      0.00280  \n",
       "6 EC4h        -1.13      0.01690  "
      ]
     },
     "metadata": {},
     "output_type": "display_data"
    }
   ],
   "source": [
    "head(ram.mohan.overlaps)"
   ]
  },
  {
   "cell_type": "code",
   "execution_count": 210,
   "id": "7aea2f8e-9a09-4cde-ad41-8acafe60437a",
   "metadata": {},
   "outputs": [],
   "source": [
    "write.table(ram.mohan.overlaps, \"~/gains_team282/nikhil/functional_interpretation/cis_eqtl_ram_mohan_et_al_da_peaks_overlaps.tsv\", quote=F, row.names=F, sep=\"\\t\")"
   ]
  },
  {
   "cell_type": "markdown",
   "id": "f9f51850-22d8-47a9-841b-1a2797809e1a",
   "metadata": {
    "tags": []
   },
   "source": [
    "## Overlaps with caQTL"
   ]
  },
  {
   "cell_type": "code",
   "execution_count": 180,
   "id": "d89e1c4e-e05f-46da-b510-9c6cb7ecbc3b",
   "metadata": {},
   "outputs": [],
   "source": [
    "cis.eqtl.ranges <- makeGRangesFromDataFrame(cis.eqtl.hg19, keep.extra.columns=TRUE, start.field=\"position\", end.field=\"position\")"
   ]
  },
  {
   "cell_type": "code",
   "execution_count": 181,
   "id": "5f8e43ab-f8b9-4fd0-af2b-52b31d0130d9",
   "metadata": {},
   "outputs": [],
   "source": [
    "ca.qtl <- makeGRangesFromDataFrame(calderon.ca.qtl, keep.extra.columns=TRUE, start.field=\"pos\", end.field=\"pos\")"
   ]
  },
  {
   "cell_type": "code",
   "execution_count": 182,
   "id": "1a5a3b64-8204-4731-88e3-14d21d4d4039",
   "metadata": {},
   "outputs": [],
   "source": [
    "overlaps <- findOverlaps(cis.eqtl.ranges, ca.qtl)"
   ]
  },
  {
   "cell_type": "code",
   "execution_count": 214,
   "id": "92936759-1264-46aa-9f71-cb2903341bf4",
   "metadata": {},
   "outputs": [],
   "source": [
    "ca.qtl.overlaps <- cbind(\n",
    "    as.data.frame(cis.eqtl.ranges[overlaps@from,]),\n",
    "    as.data.frame(ca.qtl[overlaps@to,])\n",
    ") %>%\n",
    "    as.data.frame() %>%\n",
    "    dplyr::select(snp_chr=1, snp_pos_hg19=2, snp, cell, refAllele, altAllele, refCount, altCount, p, contrast_atac) %>%\n",
    "    dplyr::select(snp, snp_chr, snp_pos_hg19, cell_type=cell, ref=refAllele, alt=altAllele, ref_count=refCount, alt_count=altCount, p, contrast_atac) %>%\n",
    "    unique()"
   ]
  },
  {
   "cell_type": "code",
   "execution_count": 215,
   "id": "a308d495-db58-432d-b242-cd36991fa519",
   "metadata": {},
   "outputs": [
    {
     "data": {
      "text/html": [
       "<table class=\"dataframe\">\n",
       "<caption>A data.frame: 6 × 10</caption>\n",
       "<thead>\n",
       "\t<tr><th></th><th scope=col>snp</th><th scope=col>snp_chr</th><th scope=col>snp_pos_hg19</th><th scope=col>cell_type</th><th scope=col>ref</th><th scope=col>alt</th><th scope=col>ref_count</th><th scope=col>alt_count</th><th scope=col>p</th><th scope=col>contrast_atac</th></tr>\n",
       "\t<tr><th></th><th scope=col>&lt;chr&gt;</th><th scope=col>&lt;fct&gt;</th><th scope=col>&lt;int&gt;</th><th scope=col>&lt;chr&gt;</th><th scope=col>&lt;chr&gt;</th><th scope=col>&lt;chr&gt;</th><th scope=col>&lt;int&gt;</th><th scope=col>&lt;int&gt;</th><th scope=col>&lt;dbl&gt;</th><th scope=col>&lt;chr&gt;</th></tr>\n",
       "</thead>\n",
       "<tbody>\n",
       "\t<tr><th scope=row>1</th><td>rs1010502 </td><td>1 </td><td>201123745</td><td>Regulatory_T            </td><td>G</td><td>A</td><td>0</td><td> 7</td><td>0.015625000</td><td>Regulatory_T_S-Regulatory_T_U                        </td></tr>\n",
       "\t<tr><th scope=row>2</th><td>rs1010858 </td><td>2 </td><td> 39102671</td><td>Myeloid_DCs             </td><td>G</td><td>A</td><td>7</td><td> 1</td><td>0.070312500</td><td>Monocytes_U-Myeloid_DCs_U                            </td></tr>\n",
       "\t<tr><th scope=row>3</th><td>rs1032763 </td><td>5 </td><td> 17118930</td><td>Effector_memory_CD8pos_T</td><td>C</td><td>T</td><td>7</td><td>22</td><td>0.008130059</td><td>Effector_memory_CD8pos_T_S-Effector_memory_CD8pos_T_U</td></tr>\n",
       "\t<tr><th scope=row>4</th><td>rs10424044</td><td>19</td><td> 52239177</td><td>Th2_precursors          </td><td>A</td><td>G</td><td>8</td><td> 1</td><td>0.039062500</td><td>Th2_precursors_S-Th2_precursors_U                    </td></tr>\n",
       "\t<tr><th scope=row>5</th><td>rs1061307 </td><td>3 </td><td>146262344</td><td>Effector_memory_CD8pos_T</td><td>A</td><td>G</td><td>1</td><td> 8</td><td>0.039062500</td><td>Naive_CD8_T_U-Effector_memory_CD8pos_T_U             </td></tr>\n",
       "\t<tr><th scope=row>6</th><td>rs1061307 </td><td>3 </td><td>146262344</td><td>Naive_CD8_T             </td><td>G</td><td>A</td><td>5</td><td> 0</td><td>0.062500000</td><td>Naive_CD8_T_U-Effector_memory_CD8pos_T_U             </td></tr>\n",
       "</tbody>\n",
       "</table>\n"
      ],
      "text/latex": [
       "A data.frame: 6 × 10\n",
       "\\begin{tabular}{r|llllllllll}\n",
       "  & snp & snp\\_chr & snp\\_pos\\_hg19 & cell\\_type & ref & alt & ref\\_count & alt\\_count & p & contrast\\_atac\\\\\n",
       "  & <chr> & <fct> & <int> & <chr> & <chr> & <chr> & <int> & <int> & <dbl> & <chr>\\\\\n",
       "\\hline\n",
       "\t1 & rs1010502  & 1  & 201123745 & Regulatory\\_T             & G & A & 0 &  7 & 0.015625000 & Regulatory\\_T\\_S-Regulatory\\_T\\_U                        \\\\\n",
       "\t2 & rs1010858  & 2  &  39102671 & Myeloid\\_DCs              & G & A & 7 &  1 & 0.070312500 & Monocytes\\_U-Myeloid\\_DCs\\_U                            \\\\\n",
       "\t3 & rs1032763  & 5  &  17118930 & Effector\\_memory\\_CD8pos\\_T & C & T & 7 & 22 & 0.008130059 & Effector\\_memory\\_CD8pos\\_T\\_S-Effector\\_memory\\_CD8pos\\_T\\_U\\\\\n",
       "\t4 & rs10424044 & 19 &  52239177 & Th2\\_precursors           & A & G & 8 &  1 & 0.039062500 & Th2\\_precursors\\_S-Th2\\_precursors\\_U                    \\\\\n",
       "\t5 & rs1061307  & 3  & 146262344 & Effector\\_memory\\_CD8pos\\_T & A & G & 1 &  8 & 0.039062500 & Naive\\_CD8\\_T\\_U-Effector\\_memory\\_CD8pos\\_T\\_U             \\\\\n",
       "\t6 & rs1061307  & 3  & 146262344 & Naive\\_CD8\\_T              & G & A & 5 &  0 & 0.062500000 & Naive\\_CD8\\_T\\_U-Effector\\_memory\\_CD8pos\\_T\\_U             \\\\\n",
       "\\end{tabular}\n"
      ],
      "text/markdown": [
       "\n",
       "A data.frame: 6 × 10\n",
       "\n",
       "| <!--/--> | snp &lt;chr&gt; | snp_chr &lt;fct&gt; | snp_pos_hg19 &lt;int&gt; | cell_type &lt;chr&gt; | ref &lt;chr&gt; | alt &lt;chr&gt; | ref_count &lt;int&gt; | alt_count &lt;int&gt; | p &lt;dbl&gt; | contrast_atac &lt;chr&gt; |\n",
       "|---|---|---|---|---|---|---|---|---|---|---|\n",
       "| 1 | rs1010502  | 1  | 201123745 | Regulatory_T             | G | A | 0 |  7 | 0.015625000 | Regulatory_T_S-Regulatory_T_U                         |\n",
       "| 2 | rs1010858  | 2  |  39102671 | Myeloid_DCs              | G | A | 7 |  1 | 0.070312500 | Monocytes_U-Myeloid_DCs_U                             |\n",
       "| 3 | rs1032763  | 5  |  17118930 | Effector_memory_CD8pos_T | C | T | 7 | 22 | 0.008130059 | Effector_memory_CD8pos_T_S-Effector_memory_CD8pos_T_U |\n",
       "| 4 | rs10424044 | 19 |  52239177 | Th2_precursors           | A | G | 8 |  1 | 0.039062500 | Th2_precursors_S-Th2_precursors_U                     |\n",
       "| 5 | rs1061307  | 3  | 146262344 | Effector_memory_CD8pos_T | A | G | 1 |  8 | 0.039062500 | Naive_CD8_T_U-Effector_memory_CD8pos_T_U              |\n",
       "| 6 | rs1061307  | 3  | 146262344 | Naive_CD8_T              | G | A | 5 |  0 | 0.062500000 | Naive_CD8_T_U-Effector_memory_CD8pos_T_U              |\n",
       "\n"
      ],
      "text/plain": [
       "  snp        snp_chr snp_pos_hg19 cell_type                ref alt ref_count\n",
       "1 rs1010502  1       201123745    Regulatory_T             G   A   0        \n",
       "2 rs1010858  2        39102671    Myeloid_DCs              G   A   7        \n",
       "3 rs1032763  5        17118930    Effector_memory_CD8pos_T C   T   7        \n",
       "4 rs10424044 19       52239177    Th2_precursors           A   G   8        \n",
       "5 rs1061307  3       146262344    Effector_memory_CD8pos_T A   G   1        \n",
       "6 rs1061307  3       146262344    Naive_CD8_T              G   A   5        \n",
       "  alt_count p           contrast_atac                                        \n",
       "1  7        0.015625000 Regulatory_T_S-Regulatory_T_U                        \n",
       "2  1        0.070312500 Monocytes_U-Myeloid_DCs_U                            \n",
       "3 22        0.008130059 Effector_memory_CD8pos_T_S-Effector_memory_CD8pos_T_U\n",
       "4  1        0.039062500 Th2_precursors_S-Th2_precursors_U                    \n",
       "5  8        0.039062500 Naive_CD8_T_U-Effector_memory_CD8pos_T_U             \n",
       "6  0        0.062500000 Naive_CD8_T_U-Effector_memory_CD8pos_T_U             "
      ]
     },
     "metadata": {},
     "output_type": "display_data"
    }
   ],
   "source": [
    "head(ca.qtl.overlaps)"
   ]
  },
  {
   "cell_type": "code",
   "execution_count": 216,
   "id": "5e71d77d-84e2-4dd7-a8fc-ffee8762fb3b",
   "metadata": {},
   "outputs": [],
   "source": [
    "write.table(ca.qtl.overlaps, \"~/gains_team282/nikhil/functional_interpretation/cis_eqtl_calderon_et_al_ca_qtl_overlaps.tsv\", quote=F, row.names=F, sep=\"\\t\")"
   ]
  },
  {
   "cell_type": "code",
   "execution_count": null,
   "id": "d4ac2af1-0566-4b68-8eb0-2f8604205fd2",
   "metadata": {},
   "outputs": [],
   "source": []
  }
 ],
 "metadata": {
  "kernelspec": {
   "display_name": "R",
   "language": "R",
   "name": "ir"
  },
  "language_info": {
   "codemirror_mode": "r",
   "file_extension": ".r",
   "mimetype": "text/x-r-source",
   "name": "R",
   "pygments_lexer": "r",
   "version": "4.0.5"
  }
 },
 "nbformat": 4,
 "nbformat_minor": 5
}
