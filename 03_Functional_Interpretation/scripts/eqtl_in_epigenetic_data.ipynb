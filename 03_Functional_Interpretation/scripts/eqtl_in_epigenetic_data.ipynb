{
 "cells": [
  {
   "cell_type": "markdown",
   "id": "3a214699-2595-489c-b954-431a2f5fe52a",
   "metadata": {},
   "source": [
    "# eQTL in Epigenetic Data\n",
    "\n",
    "**Created**: 18 February 2022"
   ]
  },
  {
   "cell_type": "markdown",
   "id": "51eb8035-7328-487d-9562-4bdd0a709be6",
   "metadata": {},
   "source": [
    "The goal here is to perform a simple comparison of *cis*-eQTL detected in GAinS with existing epigenomic datasets. I will be using data that has been published rather than processed data. This includes DA peaks from Calderon *et al.* and Ram-Mohan *et al.* and chromatin accessibility QTL (caQTL) from Calderon *et al.*"
   ]
  },
  {
   "cell_type": "markdown",
   "id": "2e5d44b4-e5be-4a4c-897b-6a8a32c95a1b",
   "metadata": {},
   "source": [
    "## Environment"
   ]
  },
  {
   "cell_type": "code",
   "execution_count": 1,
   "id": "e12ecc5e-7711-4ac5-a02c-b96eb9c94f38",
   "metadata": {},
   "outputs": [
    {
     "name": "stderr",
     "output_type": "stream",
     "text": [
      "Loading required namespace: GenomicRanges\n",
      "\n",
      "Loading required namespace: biomaRt\n",
      "\n"
     ]
    }
   ],
   "source": [
    "if (!requireNamespace(\"GenomicRanges\")) {\n",
    "    BiocManager::install(\"GenomicRanges\")\n",
    "}\n",
    "\n",
    "if (!requireNamespace(\"biomaRt\")) {\n",
    "    BiocManager::install(\"biomaRt\")\n",
    "}\n",
    "\n",
    "if (!requireNamespace(\"rtracklayer\", quietly=T)) {\n",
    "    BiocManager::install(\"rtracklayer\")\n",
    "}"
   ]
  },
  {
   "cell_type": "code",
   "execution_count": 2,
   "id": "5730bef4-9841-4b38-b465-522384073ad1",
   "metadata": {},
   "outputs": [
    {
     "name": "stderr",
     "output_type": "stream",
     "text": [
      "── \u001b[1mAttaching packages\u001b[22m ────────────────────────────────────────────────────────────────────────────────────────────────────────────────────────────────────────────────────────────────────────────── tidyverse 1.3.1 ──\n",
      "\n",
      "\u001b[32m✔\u001b[39m \u001b[34mggplot2\u001b[39m 3.3.5     \u001b[32m✔\u001b[39m \u001b[34mpurrr  \u001b[39m 0.3.4\n",
      "\u001b[32m✔\u001b[39m \u001b[34mtibble \u001b[39m 3.1.6     \u001b[32m✔\u001b[39m \u001b[34mdplyr  \u001b[39m 1.0.7\n",
      "\u001b[32m✔\u001b[39m \u001b[34mtidyr  \u001b[39m 1.1.4     \u001b[32m✔\u001b[39m \u001b[34mstringr\u001b[39m 1.4.0\n",
      "\u001b[32m✔\u001b[39m \u001b[34mreadr  \u001b[39m 2.1.1     \u001b[32m✔\u001b[39m \u001b[34mforcats\u001b[39m 0.5.1\n",
      "\n",
      "── \u001b[1mConflicts\u001b[22m ───────────────────────────────────────────────────────────────────────────────────────────────────────────────────────────────────────────────────────────────────────────────── tidyverse_conflicts() ──\n",
      "\u001b[31m✖\u001b[39m \u001b[34mdplyr\u001b[39m::\u001b[32mfilter()\u001b[39m masks \u001b[34mstats\u001b[39m::filter()\n",
      "\u001b[31m✖\u001b[39m \u001b[34mdplyr\u001b[39m::\u001b[32mlag()\u001b[39m    masks \u001b[34mstats\u001b[39m::lag()\n",
      "\n",
      "\n",
      "Attaching package: ‘data.table’\n",
      "\n",
      "\n",
      "The following objects are masked from ‘package:dplyr’:\n",
      "\n",
      "    between, first, last\n",
      "\n",
      "\n",
      "The following object is masked from ‘package:purrr’:\n",
      "\n",
      "    transpose\n",
      "\n",
      "\n",
      "Loading required package: stats4\n",
      "\n",
      "Loading required package: BiocGenerics\n",
      "\n",
      "Loading required package: parallel\n",
      "\n",
      "\n",
      "Attaching package: ‘BiocGenerics’\n",
      "\n",
      "\n",
      "The following objects are masked from ‘package:parallel’:\n",
      "\n",
      "    clusterApply, clusterApplyLB, clusterCall, clusterEvalQ,\n",
      "    clusterExport, clusterMap, parApply, parCapply, parLapply,\n",
      "    parLapplyLB, parRapply, parSapply, parSapplyLB\n",
      "\n",
      "\n",
      "The following objects are masked from ‘package:dplyr’:\n",
      "\n",
      "    combine, intersect, setdiff, union\n",
      "\n",
      "\n",
      "The following objects are masked from ‘package:stats’:\n",
      "\n",
      "    IQR, mad, sd, var, xtabs\n",
      "\n",
      "\n",
      "The following objects are masked from ‘package:base’:\n",
      "\n",
      "    anyDuplicated, append, as.data.frame, basename, cbind, colnames,\n",
      "    dirname, do.call, duplicated, eval, evalq, Filter, Find, get, grep,\n",
      "    grepl, intersect, is.unsorted, lapply, Map, mapply, match, mget,\n",
      "    order, paste, pmax, pmax.int, pmin, pmin.int, Position, rank,\n",
      "    rbind, Reduce, rownames, sapply, setdiff, sort, table, tapply,\n",
      "    union, unique, unsplit, which.max, which.min\n",
      "\n",
      "\n",
      "Loading required package: S4Vectors\n",
      "\n",
      "\n",
      "Attaching package: ‘S4Vectors’\n",
      "\n",
      "\n",
      "The following objects are masked from ‘package:data.table’:\n",
      "\n",
      "    first, second\n",
      "\n",
      "\n",
      "The following objects are masked from ‘package:dplyr’:\n",
      "\n",
      "    first, rename\n",
      "\n",
      "\n",
      "The following object is masked from ‘package:tidyr’:\n",
      "\n",
      "    expand\n",
      "\n",
      "\n",
      "The following object is masked from ‘package:base’:\n",
      "\n",
      "    expand.grid\n",
      "\n",
      "\n",
      "Loading required package: IRanges\n",
      "\n",
      "\n",
      "Attaching package: ‘IRanges’\n",
      "\n",
      "\n",
      "The following object is masked from ‘package:data.table’:\n",
      "\n",
      "    shift\n",
      "\n",
      "\n",
      "The following objects are masked from ‘package:dplyr’:\n",
      "\n",
      "    collapse, desc, slice\n",
      "\n",
      "\n",
      "The following object is masked from ‘package:purrr’:\n",
      "\n",
      "    reduce\n",
      "\n",
      "\n",
      "Loading required package: GenomeInfoDb\n",
      "\n"
     ]
    }
   ],
   "source": [
    "library(tidyverse)\n",
    "library(data.table)\n",
    "library(GenomicRanges)\n",
    "library(biomaRt)\n",
    "library(rtracklayer)\n",
    "\n",
    "setwd(\"~/eQTL_pQTL_Characterization/\")\n",
    "\n",
    "source(\"03_Functional_Interpretation/scripts/utils/ggplot_theme.R\")"
   ]
  },
  {
   "cell_type": "markdown",
   "id": "bd091033-816b-48a7-a036-ffee7ffec5c6",
   "metadata": {},
   "source": [
    "## Load Data"
   ]
  },
  {
   "cell_type": "code",
   "execution_count": 3,
   "id": "3ca39e0e-ae55-430e-a831-b66af338d24d",
   "metadata": {},
   "outputs": [],
   "source": [
    "calderon.da.peaks <- fread(\"03_Functional_Interpretation/data/41588_2019_505_MOESM6_ESM\")"
   ]
  },
  {
   "cell_type": "code",
   "execution_count": 4,
   "id": "fea882c2-5157-4250-ac5d-3a2df2ed959f",
   "metadata": {},
   "outputs": [],
   "source": [
    "calderon.da.peaks <- calderon.da.peaks %>%\n",
    "    as.data.frame() %>%\n",
    "    dplyr::mutate(chr=gsub(\"chr\", \"\", gsub(\"_.*\", \"\", peak_id))) %>%\n",
    "    dplyr::mutate(start=as.numeric(sapply(strsplit(peak_id, \"_\"), function(x) { x[2] }))) %>%\n",
    "    dplyr::mutate(end=as.numeric(sapply(strsplit(peak_id, \"_\"), function(x) { x[3] }))) %>%\n",
    "    dplyr::mutate(cell_type=gsub(\"_S-.*\", \"\", contrast)) %>%\n",
    "    dplyr::mutate(peak_id=paste0(chr, \":\", start, \"-\", end)) %>%\n",
    "    dplyr::mutate(chr = as.numeric(chr)) %>%\n",
    "    dplyr::filter(chr %in% 1:22) %>%\n",
    "    dplyr::select(peak_id, chr, start, end, cell_type, logFC, pval=adj.P.Val)"
   ]
  },
  {
   "cell_type": "code",
   "execution_count": 5,
   "id": "d963561a-c50c-4b68-b484-3b5ac36225e7",
   "metadata": {},
   "outputs": [
    {
     "data": {
      "text/html": [
       "<table class=\"dataframe\">\n",
       "<caption>A data.frame: 6 × 7</caption>\n",
       "<thead>\n",
       "\t<tr><th></th><th scope=col>peak_id</th><th scope=col>chr</th><th scope=col>start</th><th scope=col>end</th><th scope=col>cell_type</th><th scope=col>logFC</th><th scope=col>pval</th></tr>\n",
       "\t<tr><th></th><th scope=col>&lt;chr&gt;</th><th scope=col>&lt;dbl&gt;</th><th scope=col>&lt;dbl&gt;</th><th scope=col>&lt;dbl&gt;</th><th scope=col>&lt;chr&gt;</th><th scope=col>&lt;dbl&gt;</th><th scope=col>&lt;dbl&gt;</th></tr>\n",
       "</thead>\n",
       "<tbody>\n",
       "\t<tr><th scope=row>1</th><td>1:101414421-101416252</td><td>1</td><td>101414421</td><td>101416252</td><td>Bulk_B</td><td>-1.588574</td><td>5.706523e-06</td></tr>\n",
       "\t<tr><th scope=row>2</th><td>1:101553654-101554433</td><td>1</td><td>101553654</td><td>101554433</td><td>Bulk_B</td><td> 2.756835</td><td>4.359877e-06</td></tr>\n",
       "\t<tr><th scope=row>3</th><td>1:101875468-101877095</td><td>1</td><td>101875468</td><td>101877095</td><td>Bulk_B</td><td> 1.924191</td><td>1.650887e-04</td></tr>\n",
       "\t<tr><th scope=row>4</th><td>1:105307605-105308001</td><td>1</td><td>105307605</td><td>105308001</td><td>Bulk_B</td><td> 2.668101</td><td>5.036673e-05</td></tr>\n",
       "\t<tr><th scope=row>5</th><td>1:108073851-108074235</td><td>1</td><td>108073851</td><td>108074235</td><td>Bulk_B</td><td>-3.099729</td><td>2.662072e-03</td></tr>\n",
       "\t<tr><th scope=row>6</th><td>1:108475984-108478550</td><td>1</td><td>108475984</td><td>108478550</td><td>Bulk_B</td><td> 1.297943</td><td>6.296819e-03</td></tr>\n",
       "</tbody>\n",
       "</table>\n"
      ],
      "text/latex": [
       "A data.frame: 6 × 7\n",
       "\\begin{tabular}{r|lllllll}\n",
       "  & peak\\_id & chr & start & end & cell\\_type & logFC & pval\\\\\n",
       "  & <chr> & <dbl> & <dbl> & <dbl> & <chr> & <dbl> & <dbl>\\\\\n",
       "\\hline\n",
       "\t1 & 1:101414421-101416252 & 1 & 101414421 & 101416252 & Bulk\\_B & -1.588574 & 5.706523e-06\\\\\n",
       "\t2 & 1:101553654-101554433 & 1 & 101553654 & 101554433 & Bulk\\_B &  2.756835 & 4.359877e-06\\\\\n",
       "\t3 & 1:101875468-101877095 & 1 & 101875468 & 101877095 & Bulk\\_B &  1.924191 & 1.650887e-04\\\\\n",
       "\t4 & 1:105307605-105308001 & 1 & 105307605 & 105308001 & Bulk\\_B &  2.668101 & 5.036673e-05\\\\\n",
       "\t5 & 1:108073851-108074235 & 1 & 108073851 & 108074235 & Bulk\\_B & -3.099729 & 2.662072e-03\\\\\n",
       "\t6 & 1:108475984-108478550 & 1 & 108475984 & 108478550 & Bulk\\_B &  1.297943 & 6.296819e-03\\\\\n",
       "\\end{tabular}\n"
      ],
      "text/markdown": [
       "\n",
       "A data.frame: 6 × 7\n",
       "\n",
       "| <!--/--> | peak_id &lt;chr&gt; | chr &lt;dbl&gt; | start &lt;dbl&gt; | end &lt;dbl&gt; | cell_type &lt;chr&gt; | logFC &lt;dbl&gt; | pval &lt;dbl&gt; |\n",
       "|---|---|---|---|---|---|---|---|\n",
       "| 1 | 1:101414421-101416252 | 1 | 101414421 | 101416252 | Bulk_B | -1.588574 | 5.706523e-06 |\n",
       "| 2 | 1:101553654-101554433 | 1 | 101553654 | 101554433 | Bulk_B |  2.756835 | 4.359877e-06 |\n",
       "| 3 | 1:101875468-101877095 | 1 | 101875468 | 101877095 | Bulk_B |  1.924191 | 1.650887e-04 |\n",
       "| 4 | 1:105307605-105308001 | 1 | 105307605 | 105308001 | Bulk_B |  2.668101 | 5.036673e-05 |\n",
       "| 5 | 1:108073851-108074235 | 1 | 108073851 | 108074235 | Bulk_B | -3.099729 | 2.662072e-03 |\n",
       "| 6 | 1:108475984-108478550 | 1 | 108475984 | 108478550 | Bulk_B |  1.297943 | 6.296819e-03 |\n",
       "\n"
      ],
      "text/plain": [
       "  peak_id               chr start     end       cell_type logFC    \n",
       "1 1:101414421-101416252 1   101414421 101416252 Bulk_B    -1.588574\n",
       "2 1:101553654-101554433 1   101553654 101554433 Bulk_B     2.756835\n",
       "3 1:101875468-101877095 1   101875468 101877095 Bulk_B     1.924191\n",
       "4 1:105307605-105308001 1   105307605 105308001 Bulk_B     2.668101\n",
       "5 1:108073851-108074235 1   108073851 108074235 Bulk_B    -3.099729\n",
       "6 1:108475984-108478550 1   108475984 108478550 Bulk_B     1.297943\n",
       "  pval        \n",
       "1 5.706523e-06\n",
       "2 4.359877e-06\n",
       "3 1.650887e-04\n",
       "4 5.036673e-05\n",
       "5 2.662072e-03\n",
       "6 6.296819e-03"
      ]
     },
     "metadata": {},
     "output_type": "display_data"
    }
   ],
   "source": [
    "head(calderon.da.peaks)"
   ]
  },
  {
   "cell_type": "code",
   "execution_count": 6,
   "id": "0022164b-3e16-481c-a59e-f7e4b78af98e",
   "metadata": {},
   "outputs": [],
   "source": [
    "calderon.ca.qtl <- fread(\"03_Functional_Interpretation/data/41588_2019_505_MOESM8_ESM\")"
   ]
  },
  {
   "cell_type": "code",
   "execution_count": 7,
   "id": "ea5664ef-7f48-4deb-b70d-1bf42542d131",
   "metadata": {},
   "outputs": [],
   "source": [
    "calderon.ca.qtl <- calderon.ca.qtl %>%\n",
    "    as.data.frame() %>%\n",
    "    dplyr::mutate(chr=as.numeric(gsub(\"chr\", \"\", chr))) %>%\n",
    "    dplyr::filter(chr %in% 1:22) %>%\n",
    "    dplyr::select(chr, pos, everything())"
   ]
  },
  {
   "cell_type": "code",
   "execution_count": 8,
   "id": "d2f7cffa-d231-4b56-b816-bbc6542cec17",
   "metadata": {},
   "outputs": [
    {
     "data": {
      "text/html": [
       "<table class=\"dataframe\">\n",
       "<caption>A data.frame: 6 × 25</caption>\n",
       "<thead>\n",
       "\t<tr><th></th><th scope=col>chr</th><th scope=col>pos</th><th scope=col>Phenotype</th><th scope=col>dbSNP134_id</th><th scope=col>gwas_pvalue</th><th scope=col>PMID</th><th scope=col>TotalDiscoverySamples</th><th scope=col>donor</th><th scope=col>cell</th><th scope=col>stim</th><th scope=col>⋯</th><th scope=col>peak_id_atac</th><th scope=col>contrast_atac</th><th scope=col>logFC_atac</th><th scope=col>adj.P.Val_atac</th><th scope=col>nearby_de_gene_id</th><th scope=col>contrast_rna</th><th scope=col>logFC_rna</th><th scope=col>adj.P.Val_rna</th><th scope=col>tested_TF</th><th scope=col>ref_minus_alt_match</th></tr>\n",
       "\t<tr><th></th><th scope=col>&lt;dbl&gt;</th><th scope=col>&lt;int&gt;</th><th scope=col>&lt;chr&gt;</th><th scope=col>&lt;int&gt;</th><th scope=col>&lt;dbl&gt;</th><th scope=col>&lt;int&gt;</th><th scope=col>&lt;int&gt;</th><th scope=col>&lt;int&gt;</th><th scope=col>&lt;chr&gt;</th><th scope=col>&lt;lgl&gt;</th><th scope=col>⋯</th><th scope=col>&lt;chr&gt;</th><th scope=col>&lt;chr&gt;</th><th scope=col>&lt;dbl&gt;</th><th scope=col>&lt;dbl&gt;</th><th scope=col>&lt;chr&gt;</th><th scope=col>&lt;chr&gt;</th><th scope=col>&lt;dbl&gt;</th><th scope=col>&lt;dbl&gt;</th><th scope=col>&lt;chr&gt;</th><th scope=col>&lt;dbl&gt;</th></tr>\n",
       "</thead>\n",
       "<tbody>\n",
       "\t<tr><th scope=row>1</th><td> 1</td><td>204434927</td><td>Transmission distortion         </td><td>12092943</td><td>9.141e-10</td><td>22377632</td><td> 4728</td><td>1002</td><td>Mem_B      </td><td> TRUE</td><td>⋯</td><td>chr1_204434103_204436273</td><td>Mem_B_S-Mem_B_U     </td><td> 1.606535</td><td>2.127197e-04</td><td>NA</td><td>NA</td><td>NA</td><td>NA</td><td>ENSG00000008196_LINE2_TFAP2B_D_N1</td><td>-5.1125152</td></tr>\n",
       "\t<tr><th scope=row>2</th><td> 1</td><td>204434927</td><td>Maternal transmission distortion</td><td>12092943</td><td>3.252e-09</td><td>22377632</td><td> 4728</td><td>1002</td><td>Mem_B      </td><td> TRUE</td><td>⋯</td><td>chr1_204434103_204436273</td><td>Mem_B_S-Mem_B_U     </td><td> 1.606535</td><td>2.127197e-04</td><td>NA</td><td>NA</td><td>NA</td><td>NA</td><td>ENSG00000008196_LINE2_TFAP2B_D_N1</td><td>-5.1125152</td></tr>\n",
       "\t<tr><th scope=row>3</th><td> 1</td><td>204434927</td><td>Transmission distortion         </td><td>12092943</td><td>9.141e-10</td><td>22377632</td><td> 4728</td><td>1002</td><td>Mem_B      </td><td> TRUE</td><td>⋯</td><td>chr1_204434103_204436273</td><td>Mem_B_S-Mem_B_U     </td><td> 1.606535</td><td>2.127197e-04</td><td>NA</td><td>NA</td><td>NA</td><td>NA</td><td>ENSG00000008196_LINE2_TFAP2B_D_N1</td><td>-5.1125152</td></tr>\n",
       "\t<tr><th scope=row>4</th><td> 1</td><td>204434927</td><td>Maternal transmission distortion</td><td>12092943</td><td>3.252e-09</td><td>22377632</td><td> 4728</td><td>1002</td><td>Mem_B      </td><td> TRUE</td><td>⋯</td><td>chr1_204434103_204436273</td><td>Mem_B_S-Mem_B_U     </td><td> 1.606535</td><td>2.127197e-04</td><td>NA</td><td>NA</td><td>NA</td><td>NA</td><td>ENSG00000008196_LINE2_TFAP2B_D_N1</td><td>-5.1125152</td></tr>\n",
       "\t<tr><th scope=row>5</th><td>15</td><td> 45740392</td><td>Serum creatinine                </td><td> 9806699</td><td>2.560e-13</td><td>20383146</td><td>67093</td><td>1001</td><td>Myeloid_DCs</td><td>FALSE</td><td>⋯</td><td>chr15_45739896_45742558 </td><td>pDCs_U-Myeloid_DCs_U</td><td>-2.623013</td><td>6.295777e-06</td><td>NA</td><td>NA</td><td>NA</td><td>NA</td><td>ENSG00000008196_LINE2_TFAP2B_D_N1</td><td> 0.6583003</td></tr>\n",
       "\t<tr><th scope=row>6</th><td>15</td><td> 45740392</td><td>Serum creatinine                </td><td> 9806699</td><td>2.560e-13</td><td>20383146</td><td>67093</td><td>1002</td><td>Myeloid_DCs</td><td>FALSE</td><td>⋯</td><td>chr15_45739896_45742558 </td><td>pDCs_U-Myeloid_DCs_U</td><td>-2.623013</td><td>6.295777e-06</td><td>NA</td><td>NA</td><td>NA</td><td>NA</td><td>ENSG00000008196_LINE2_TFAP2B_D_N1</td><td> 0.6583003</td></tr>\n",
       "</tbody>\n",
       "</table>\n"
      ],
      "text/latex": [
       "A data.frame: 6 × 25\n",
       "\\begin{tabular}{r|lllllllllllllllllllll}\n",
       "  & chr & pos & Phenotype & dbSNP134\\_id & gwas\\_pvalue & PMID & TotalDiscoverySamples & donor & cell & stim & ⋯ & peak\\_id\\_atac & contrast\\_atac & logFC\\_atac & adj.P.Val\\_atac & nearby\\_de\\_gene\\_id & contrast\\_rna & logFC\\_rna & adj.P.Val\\_rna & tested\\_TF & ref\\_minus\\_alt\\_match\\\\\n",
       "  & <dbl> & <int> & <chr> & <int> & <dbl> & <int> & <int> & <int> & <chr> & <lgl> & ⋯ & <chr> & <chr> & <dbl> & <dbl> & <chr> & <chr> & <dbl> & <dbl> & <chr> & <dbl>\\\\\n",
       "\\hline\n",
       "\t1 &  1 & 204434927 & Transmission distortion          & 12092943 & 9.141e-10 & 22377632 &  4728 & 1002 & Mem\\_B       &  TRUE & ⋯ & chr1\\_204434103\\_204436273 & Mem\\_B\\_S-Mem\\_B\\_U      &  1.606535 & 2.127197e-04 & NA & NA & NA & NA & ENSG00000008196\\_LINE2\\_TFAP2B\\_D\\_N1 & -5.1125152\\\\\n",
       "\t2 &  1 & 204434927 & Maternal transmission distortion & 12092943 & 3.252e-09 & 22377632 &  4728 & 1002 & Mem\\_B       &  TRUE & ⋯ & chr1\\_204434103\\_204436273 & Mem\\_B\\_S-Mem\\_B\\_U      &  1.606535 & 2.127197e-04 & NA & NA & NA & NA & ENSG00000008196\\_LINE2\\_TFAP2B\\_D\\_N1 & -5.1125152\\\\\n",
       "\t3 &  1 & 204434927 & Transmission distortion          & 12092943 & 9.141e-10 & 22377632 &  4728 & 1002 & Mem\\_B       &  TRUE & ⋯ & chr1\\_204434103\\_204436273 & Mem\\_B\\_S-Mem\\_B\\_U      &  1.606535 & 2.127197e-04 & NA & NA & NA & NA & ENSG00000008196\\_LINE2\\_TFAP2B\\_D\\_N1 & -5.1125152\\\\\n",
       "\t4 &  1 & 204434927 & Maternal transmission distortion & 12092943 & 3.252e-09 & 22377632 &  4728 & 1002 & Mem\\_B       &  TRUE & ⋯ & chr1\\_204434103\\_204436273 & Mem\\_B\\_S-Mem\\_B\\_U      &  1.606535 & 2.127197e-04 & NA & NA & NA & NA & ENSG00000008196\\_LINE2\\_TFAP2B\\_D\\_N1 & -5.1125152\\\\\n",
       "\t5 & 15 &  45740392 & Serum creatinine                 &  9806699 & 2.560e-13 & 20383146 & 67093 & 1001 & Myeloid\\_DCs & FALSE & ⋯ & chr15\\_45739896\\_45742558  & pDCs\\_U-Myeloid\\_DCs\\_U & -2.623013 & 6.295777e-06 & NA & NA & NA & NA & ENSG00000008196\\_LINE2\\_TFAP2B\\_D\\_N1 &  0.6583003\\\\\n",
       "\t6 & 15 &  45740392 & Serum creatinine                 &  9806699 & 2.560e-13 & 20383146 & 67093 & 1002 & Myeloid\\_DCs & FALSE & ⋯ & chr15\\_45739896\\_45742558  & pDCs\\_U-Myeloid\\_DCs\\_U & -2.623013 & 6.295777e-06 & NA & NA & NA & NA & ENSG00000008196\\_LINE2\\_TFAP2B\\_D\\_N1 &  0.6583003\\\\\n",
       "\\end{tabular}\n"
      ],
      "text/markdown": [
       "\n",
       "A data.frame: 6 × 25\n",
       "\n",
       "| <!--/--> | chr &lt;dbl&gt; | pos &lt;int&gt; | Phenotype &lt;chr&gt; | dbSNP134_id &lt;int&gt; | gwas_pvalue &lt;dbl&gt; | PMID &lt;int&gt; | TotalDiscoverySamples &lt;int&gt; | donor &lt;int&gt; | cell &lt;chr&gt; | stim &lt;lgl&gt; | ⋯ ⋯ | peak_id_atac &lt;chr&gt; | contrast_atac &lt;chr&gt; | logFC_atac &lt;dbl&gt; | adj.P.Val_atac &lt;dbl&gt; | nearby_de_gene_id &lt;chr&gt; | contrast_rna &lt;chr&gt; | logFC_rna &lt;dbl&gt; | adj.P.Val_rna &lt;dbl&gt; | tested_TF &lt;chr&gt; | ref_minus_alt_match &lt;dbl&gt; |\n",
       "|---|---|---|---|---|---|---|---|---|---|---|---|---|---|---|---|---|---|---|---|---|---|\n",
       "| 1 |  1 | 204434927 | Transmission distortion          | 12092943 | 9.141e-10 | 22377632 |  4728 | 1002 | Mem_B       |  TRUE | ⋯ | chr1_204434103_204436273 | Mem_B_S-Mem_B_U      |  1.606535 | 2.127197e-04 | NA | NA | NA | NA | ENSG00000008196_LINE2_TFAP2B_D_N1 | -5.1125152 |\n",
       "| 2 |  1 | 204434927 | Maternal transmission distortion | 12092943 | 3.252e-09 | 22377632 |  4728 | 1002 | Mem_B       |  TRUE | ⋯ | chr1_204434103_204436273 | Mem_B_S-Mem_B_U      |  1.606535 | 2.127197e-04 | NA | NA | NA | NA | ENSG00000008196_LINE2_TFAP2B_D_N1 | -5.1125152 |\n",
       "| 3 |  1 | 204434927 | Transmission distortion          | 12092943 | 9.141e-10 | 22377632 |  4728 | 1002 | Mem_B       |  TRUE | ⋯ | chr1_204434103_204436273 | Mem_B_S-Mem_B_U      |  1.606535 | 2.127197e-04 | NA | NA | NA | NA | ENSG00000008196_LINE2_TFAP2B_D_N1 | -5.1125152 |\n",
       "| 4 |  1 | 204434927 | Maternal transmission distortion | 12092943 | 3.252e-09 | 22377632 |  4728 | 1002 | Mem_B       |  TRUE | ⋯ | chr1_204434103_204436273 | Mem_B_S-Mem_B_U      |  1.606535 | 2.127197e-04 | NA | NA | NA | NA | ENSG00000008196_LINE2_TFAP2B_D_N1 | -5.1125152 |\n",
       "| 5 | 15 |  45740392 | Serum creatinine                 |  9806699 | 2.560e-13 | 20383146 | 67093 | 1001 | Myeloid_DCs | FALSE | ⋯ | chr15_45739896_45742558  | pDCs_U-Myeloid_DCs_U | -2.623013 | 6.295777e-06 | NA | NA | NA | NA | ENSG00000008196_LINE2_TFAP2B_D_N1 |  0.6583003 |\n",
       "| 6 | 15 |  45740392 | Serum creatinine                 |  9806699 | 2.560e-13 | 20383146 | 67093 | 1002 | Myeloid_DCs | FALSE | ⋯ | chr15_45739896_45742558  | pDCs_U-Myeloid_DCs_U | -2.623013 | 6.295777e-06 | NA | NA | NA | NA | ENSG00000008196_LINE2_TFAP2B_D_N1 |  0.6583003 |\n",
       "\n"
      ],
      "text/plain": [
       "  chr pos       Phenotype                        dbSNP134_id gwas_pvalue\n",
       "1  1  204434927 Transmission distortion          12092943    9.141e-10  \n",
       "2  1  204434927 Maternal transmission distortion 12092943    3.252e-09  \n",
       "3  1  204434927 Transmission distortion          12092943    9.141e-10  \n",
       "4  1  204434927 Maternal transmission distortion 12092943    3.252e-09  \n",
       "5 15   45740392 Serum creatinine                  9806699    2.560e-13  \n",
       "6 15   45740392 Serum creatinine                  9806699    2.560e-13  \n",
       "  PMID     TotalDiscoverySamples donor cell        stim  ⋯\n",
       "1 22377632  4728                 1002  Mem_B        TRUE ⋯\n",
       "2 22377632  4728                 1002  Mem_B        TRUE ⋯\n",
       "3 22377632  4728                 1002  Mem_B        TRUE ⋯\n",
       "4 22377632  4728                 1002  Mem_B        TRUE ⋯\n",
       "5 20383146 67093                 1001  Myeloid_DCs FALSE ⋯\n",
       "6 20383146 67093                 1002  Myeloid_DCs FALSE ⋯\n",
       "  peak_id_atac             contrast_atac        logFC_atac adj.P.Val_atac\n",
       "1 chr1_204434103_204436273 Mem_B_S-Mem_B_U       1.606535  2.127197e-04  \n",
       "2 chr1_204434103_204436273 Mem_B_S-Mem_B_U       1.606535  2.127197e-04  \n",
       "3 chr1_204434103_204436273 Mem_B_S-Mem_B_U       1.606535  2.127197e-04  \n",
       "4 chr1_204434103_204436273 Mem_B_S-Mem_B_U       1.606535  2.127197e-04  \n",
       "5 chr15_45739896_45742558  pDCs_U-Myeloid_DCs_U -2.623013  6.295777e-06  \n",
       "6 chr15_45739896_45742558  pDCs_U-Myeloid_DCs_U -2.623013  6.295777e-06  \n",
       "  nearby_de_gene_id contrast_rna logFC_rna adj.P.Val_rna\n",
       "1 NA                NA           NA        NA           \n",
       "2 NA                NA           NA        NA           \n",
       "3 NA                NA           NA        NA           \n",
       "4 NA                NA           NA        NA           \n",
       "5 NA                NA           NA        NA           \n",
       "6 NA                NA           NA        NA           \n",
       "  tested_TF                         ref_minus_alt_match\n",
       "1 ENSG00000008196_LINE2_TFAP2B_D_N1 -5.1125152         \n",
       "2 ENSG00000008196_LINE2_TFAP2B_D_N1 -5.1125152         \n",
       "3 ENSG00000008196_LINE2_TFAP2B_D_N1 -5.1125152         \n",
       "4 ENSG00000008196_LINE2_TFAP2B_D_N1 -5.1125152         \n",
       "5 ENSG00000008196_LINE2_TFAP2B_D_N1  0.6583003         \n",
       "6 ENSG00000008196_LINE2_TFAP2B_D_N1  0.6583003         "
      ]
     },
     "metadata": {},
     "output_type": "display_data"
    }
   ],
   "source": [
    "head(calderon.ca.qtl)"
   ]
  },
  {
   "cell_type": "markdown",
   "id": "d252696e-7f68-4362-88d8-9b1d5743c84d",
   "metadata": {},
   "source": [
    "The supplementary table from Ram-Mohan *et al.* are in Excel format. The Excel spreadsheet has 9 sheets."
   ]
  },
  {
   "cell_type": "code",
   "execution_count": 9,
   "id": "a5dceaa7-4df6-4198-b6b0-ba9a96bb7041",
   "metadata": {},
   "outputs": [],
   "source": [
    "sheets <- readxl::excel_sheets(\"03_Functional_Interpretation/data/Ram_Mohan_et_al_2022_Table_S1.xlsx\")\n",
    "\n",
    "ram.mohan.da.peaks <- lapply(sheets, function(sheet) {\n",
    "    readxl::read_xlsx(\"03_Functional_Interpretation/data/Ram_Mohan_et_al_2022_Table_S1.xlsx\", sheet=sheet) %>%\n",
    "        dplyr::mutate(Stimulation=gsub(\"-DR\", \"\", sheet))\n",
    "}) %>%\n",
    "    do.call(rbind, .)"
   ]
  },
  {
   "cell_type": "code",
   "execution_count": 10,
   "id": "54416429-8e6f-4b21-ad5f-0e0294b974d0",
   "metadata": {},
   "outputs": [],
   "source": [
    "ram.mohan.da.peaks <- ram.mohan.da.peaks %>%\n",
    "    dplyr::mutate(chr=gsub(\"chr\", \"\", Chromosome)) %>%\n",
    "    dplyr::mutate(peak_id=paste0(chr, \":\", Start, \"-\", End)) %>%\n",
    "    dplyr::filter(chr %in% as.character(1:22)) %>%\n",
    "    dplyr::mutate(chr = as.numeric(chr)) %>%\n",
    "    dplyr::select(peak_id, chr, start=Start, end=End, stimulation=Stimulation, logFC=log2FC, pval=`p-value`)"
   ]
  },
  {
   "cell_type": "code",
   "execution_count": 11,
   "id": "34fce6e5-f6a3-41c2-a9f7-72ffb9814a93",
   "metadata": {},
   "outputs": [
    {
     "data": {
      "text/html": [
       "<table class=\"dataframe\">\n",
       "<caption>A tibble: 6 × 7</caption>\n",
       "<thead>\n",
       "\t<tr><th scope=col>peak_id</th><th scope=col>chr</th><th scope=col>start</th><th scope=col>end</th><th scope=col>stimulation</th><th scope=col>logFC</th><th scope=col>pval</th></tr>\n",
       "\t<tr><th scope=col>&lt;chr&gt;</th><th scope=col>&lt;dbl&gt;</th><th scope=col>&lt;dbl&gt;</th><th scope=col>&lt;dbl&gt;</th><th scope=col>&lt;chr&gt;</th><th scope=col>&lt;dbl&gt;</th><th scope=col>&lt;dbl&gt;</th></tr>\n",
       "</thead>\n",
       "<tbody>\n",
       "\t<tr><td>1:756651-756892  </td><td>1</td><td> 756651</td><td> 756892</td><td>BGP</td><td>1.35</td><td>0.03200</td></tr>\n",
       "\t<tr><td>1:1430944-1431234</td><td>1</td><td>1430944</td><td>1431234</td><td>BGP</td><td>2.48</td><td>0.00022</td></tr>\n",
       "\t<tr><td>1:2090706-2090915</td><td>1</td><td>2090706</td><td>2090915</td><td>BGP</td><td>1.52</td><td>0.03580</td></tr>\n",
       "\t<tr><td>1:2480184-2480571</td><td>1</td><td>2480184</td><td>2480571</td><td>BGP</td><td>1.15</td><td>0.02130</td></tr>\n",
       "\t<tr><td>1:3593886-3594335</td><td>1</td><td>3593886</td><td>3594335</td><td>BGP</td><td>1.28</td><td>0.02000</td></tr>\n",
       "\t<tr><td>1:3658517-3658765</td><td>1</td><td>3658517</td><td>3658765</td><td>BGP</td><td>1.48</td><td>0.00517</td></tr>\n",
       "</tbody>\n",
       "</table>\n"
      ],
      "text/latex": [
       "A tibble: 6 × 7\n",
       "\\begin{tabular}{lllllll}\n",
       " peak\\_id & chr & start & end & stimulation & logFC & pval\\\\\n",
       " <chr> & <dbl> & <dbl> & <dbl> & <chr> & <dbl> & <dbl>\\\\\n",
       "\\hline\n",
       "\t 1:756651-756892   & 1 &  756651 &  756892 & BGP & 1.35 & 0.03200\\\\\n",
       "\t 1:1430944-1431234 & 1 & 1430944 & 1431234 & BGP & 2.48 & 0.00022\\\\\n",
       "\t 1:2090706-2090915 & 1 & 2090706 & 2090915 & BGP & 1.52 & 0.03580\\\\\n",
       "\t 1:2480184-2480571 & 1 & 2480184 & 2480571 & BGP & 1.15 & 0.02130\\\\\n",
       "\t 1:3593886-3594335 & 1 & 3593886 & 3594335 & BGP & 1.28 & 0.02000\\\\\n",
       "\t 1:3658517-3658765 & 1 & 3658517 & 3658765 & BGP & 1.48 & 0.00517\\\\\n",
       "\\end{tabular}\n"
      ],
      "text/markdown": [
       "\n",
       "A tibble: 6 × 7\n",
       "\n",
       "| peak_id &lt;chr&gt; | chr &lt;dbl&gt; | start &lt;dbl&gt; | end &lt;dbl&gt; | stimulation &lt;chr&gt; | logFC &lt;dbl&gt; | pval &lt;dbl&gt; |\n",
       "|---|---|---|---|---|---|---|\n",
       "| 1:756651-756892   | 1 |  756651 |  756892 | BGP | 1.35 | 0.03200 |\n",
       "| 1:1430944-1431234 | 1 | 1430944 | 1431234 | BGP | 2.48 | 0.00022 |\n",
       "| 1:2090706-2090915 | 1 | 2090706 | 2090915 | BGP | 1.52 | 0.03580 |\n",
       "| 1:2480184-2480571 | 1 | 2480184 | 2480571 | BGP | 1.15 | 0.02130 |\n",
       "| 1:3593886-3594335 | 1 | 3593886 | 3594335 | BGP | 1.28 | 0.02000 |\n",
       "| 1:3658517-3658765 | 1 | 3658517 | 3658765 | BGP | 1.48 | 0.00517 |\n",
       "\n"
      ],
      "text/plain": [
       "  peak_id           chr start   end     stimulation logFC pval   \n",
       "1 1:756651-756892   1    756651  756892 BGP         1.35  0.03200\n",
       "2 1:1430944-1431234 1   1430944 1431234 BGP         2.48  0.00022\n",
       "3 1:2090706-2090915 1   2090706 2090915 BGP         1.52  0.03580\n",
       "4 1:2480184-2480571 1   2480184 2480571 BGP         1.15  0.02130\n",
       "5 1:3593886-3594335 1   3593886 3594335 BGP         1.28  0.02000\n",
       "6 1:3658517-3658765 1   3658517 3658765 BGP         1.48  0.00517"
      ]
     },
     "metadata": {},
     "output_type": "display_data"
    }
   ],
   "source": [
    "head(ram.mohan.da.peaks)"
   ]
  },
  {
   "cell_type": "code",
   "execution_count": 12,
   "id": "de23d1ea-3d92-45cb-b65a-d2f7557638e3",
   "metadata": {},
   "outputs": [],
   "source": [
    "lead.snps <- read.table(\"~/gains_team282/nikhil/colocalization/cis_eqtl/fine_mapping/LD/lead_snps.80r2.tags.tsv\", header=T) %>%\n",
    "    dplyr::mutate(TAGS=gsub(\"NONE\", \"\", TAGS))"
   ]
  },
  {
   "cell_type": "code",
   "execution_count": 13,
   "id": "c45a4ea2-39a3-4035-9992-d71bee2d4de0",
   "metadata": {},
   "outputs": [
    {
     "data": {
      "text/html": [
       "<table class=\"dataframe\">\n",
       "<caption>A data.frame: 6 × 8</caption>\n",
       "<thead>\n",
       "\t<tr><th></th><th scope=col>SNP</th><th scope=col>CHR</th><th scope=col>BP</th><th scope=col>NTAG</th><th scope=col>LEFT</th><th scope=col>RIGHT</th><th scope=col>KBSPAN</th><th scope=col>TAGS</th></tr>\n",
       "\t<tr><th></th><th scope=col>&lt;chr&gt;</th><th scope=col>&lt;int&gt;</th><th scope=col>&lt;int&gt;</th><th scope=col>&lt;int&gt;</th><th scope=col>&lt;int&gt;</th><th scope=col>&lt;int&gt;</th><th scope=col>&lt;dbl&gt;</th><th scope=col>&lt;chr&gt;</th></tr>\n",
       "</thead>\n",
       "<tbody>\n",
       "\t<tr><th scope=row>1</th><td>rs3131972 </td><td>1</td><td> 817341</td><td> 0</td><td> 817341</td><td> 817341</td><td> 0.001</td><td>                                                                                                                                                                                                                                                                                                                                                </td></tr>\n",
       "\t<tr><th scope=row>2</th><td>rs2272757 </td><td>1</td><td> 946247</td><td> 0</td><td> 946247</td><td> 946247</td><td> 0.001</td><td>                                                                                                                                                                                                                                                                                                                                                </td></tr>\n",
       "\t<tr><th scope=row>3</th><td>rs13303056</td><td>1</td><td> 953778</td><td>33</td><td> 941119</td><td> 966227</td><td>25.109</td><td>rs4372192|rs6605067|rs2839|rs3748592|rs2340582|rs4246503|rs4970377|rs4970452|rs4970376|rs4970375|rs3748595|rs3828047|rs3748596|rs3748597|rs13302945|rs3828049|rs13303206|rs13303051|rs13302957|rs13303227|rs4970371|rs6605069|rs4970445|rs28393498|rs4970441|rs13303229|rs6696971|rs41285808|rs4970435|rs4970434|rs9697711|rs13303351|rs13302996</td></tr>\n",
       "\t<tr><th scope=row>4</th><td>rs13303327</td><td>1</td><td> 960326</td><td> 4</td><td> 951408</td><td> 966179</td><td>14.772</td><td>rs10465242|rs13303010|rs3935066|rs13303160                                                                                                                                                                                                                                                                                                      </td></tr>\n",
       "\t<tr><th scope=row>5</th><td>rs13303033</td><td>1</td><td> 979560</td><td> 3</td><td> 979560</td><td> 983193</td><td> 3.634</td><td>rs6694632|rs13303118|rs2341354                                                                                                                                                                                                                                                                                                                  </td></tr>\n",
       "\t<tr><th scope=row>6</th><td>rs3128117 </td><td>1</td><td>1009184</td><td> 0</td><td>1009184</td><td>1009184</td><td> 0.001</td><td>                                                                                                                                                                                                                                                                                                                                                </td></tr>\n",
       "</tbody>\n",
       "</table>\n"
      ],
      "text/latex": [
       "A data.frame: 6 × 8\n",
       "\\begin{tabular}{r|llllllll}\n",
       "  & SNP & CHR & BP & NTAG & LEFT & RIGHT & KBSPAN & TAGS\\\\\n",
       "  & <chr> & <int> & <int> & <int> & <int> & <int> & <dbl> & <chr>\\\\\n",
       "\\hline\n",
       "\t1 & rs3131972  & 1 &  817341 &  0 &  817341 &  817341 &  0.001 &                                                                                                                                                                                                                                                                                                                                                 \\\\\n",
       "\t2 & rs2272757  & 1 &  946247 &  0 &  946247 &  946247 &  0.001 &                                                                                                                                                                                                                                                                                                                                                 \\\\\n",
       "\t3 & rs13303056 & 1 &  953778 & 33 &  941119 &  966227 & 25.109 & rs4372192\\textbar{}rs6605067\\textbar{}rs2839\\textbar{}rs3748592\\textbar{}rs2340582\\textbar{}rs4246503\\textbar{}rs4970377\\textbar{}rs4970452\\textbar{}rs4970376\\textbar{}rs4970375\\textbar{}rs3748595\\textbar{}rs3828047\\textbar{}rs3748596\\textbar{}rs3748597\\textbar{}rs13302945\\textbar{}rs3828049\\textbar{}rs13303206\\textbar{}rs13303051\\textbar{}rs13302957\\textbar{}rs13303227\\textbar{}rs4970371\\textbar{}rs6605069\\textbar{}rs4970445\\textbar{}rs28393498\\textbar{}rs4970441\\textbar{}rs13303229\\textbar{}rs6696971\\textbar{}rs41285808\\textbar{}rs4970435\\textbar{}rs4970434\\textbar{}rs9697711\\textbar{}rs13303351\\textbar{}rs13302996\\\\\n",
       "\t4 & rs13303327 & 1 &  960326 &  4 &  951408 &  966179 & 14.772 & rs10465242\\textbar{}rs13303010\\textbar{}rs3935066\\textbar{}rs13303160                                                                                                                                                                                                                                                                                                      \\\\\n",
       "\t5 & rs13303033 & 1 &  979560 &  3 &  979560 &  983193 &  3.634 & rs6694632\\textbar{}rs13303118\\textbar{}rs2341354                                                                                                                                                                                                                                                                                                                  \\\\\n",
       "\t6 & rs3128117  & 1 & 1009184 &  0 & 1009184 & 1009184 &  0.001 &                                                                                                                                                                                                                                                                                                                                                 \\\\\n",
       "\\end{tabular}\n"
      ],
      "text/markdown": [
       "\n",
       "A data.frame: 6 × 8\n",
       "\n",
       "| <!--/--> | SNP &lt;chr&gt; | CHR &lt;int&gt; | BP &lt;int&gt; | NTAG &lt;int&gt; | LEFT &lt;int&gt; | RIGHT &lt;int&gt; | KBSPAN &lt;dbl&gt; | TAGS &lt;chr&gt; |\n",
       "|---|---|---|---|---|---|---|---|---|\n",
       "| 1 | rs3131972  | 1 |  817341 |  0 |  817341 |  817341 |  0.001 | <!----> |\n",
       "| 2 | rs2272757  | 1 |  946247 |  0 |  946247 |  946247 |  0.001 | <!----> |\n",
       "| 3 | rs13303056 | 1 |  953778 | 33 |  941119 |  966227 | 25.109 | rs4372192|rs6605067|rs2839|rs3748592|rs2340582|rs4246503|rs4970377|rs4970452|rs4970376|rs4970375|rs3748595|rs3828047|rs3748596|rs3748597|rs13302945|rs3828049|rs13303206|rs13303051|rs13302957|rs13303227|rs4970371|rs6605069|rs4970445|rs28393498|rs4970441|rs13303229|rs6696971|rs41285808|rs4970435|rs4970434|rs9697711|rs13303351|rs13302996 |\n",
       "| 4 | rs13303327 | 1 |  960326 |  4 |  951408 |  966179 | 14.772 | rs10465242|rs13303010|rs3935066|rs13303160                                                                                                                                                                                                                                                                                                       |\n",
       "| 5 | rs13303033 | 1 |  979560 |  3 |  979560 |  983193 |  3.634 | rs6694632|rs13303118|rs2341354                                                                                                                                                                                                                                                                                                                   |\n",
       "| 6 | rs3128117  | 1 | 1009184 |  0 | 1009184 | 1009184 |  0.001 | <!----> |\n",
       "\n"
      ],
      "text/plain": [
       "  SNP        CHR BP      NTAG LEFT    RIGHT   KBSPAN\n",
       "1 rs3131972  1    817341  0    817341  817341  0.001\n",
       "2 rs2272757  1    946247  0    946247  946247  0.001\n",
       "3 rs13303056 1    953778 33    941119  966227 25.109\n",
       "4 rs13303327 1    960326  4    951408  966179 14.772\n",
       "5 rs13303033 1    979560  3    979560  983193  3.634\n",
       "6 rs3128117  1   1009184  0   1009184 1009184  0.001\n",
       "  TAGS                                                                                                                                                                                                                                                                                                                                            \n",
       "1                                                                                                                                                                                                                                                                                                                                                 \n",
       "2                                                                                                                                                                                                                                                                                                                                                 \n",
       "3 rs4372192|rs6605067|rs2839|rs3748592|rs2340582|rs4246503|rs4970377|rs4970452|rs4970376|rs4970375|rs3748595|rs3828047|rs3748596|rs3748597|rs13302945|rs3828049|rs13303206|rs13303051|rs13302957|rs13303227|rs4970371|rs6605069|rs4970445|rs28393498|rs4970441|rs13303229|rs6696971|rs41285808|rs4970435|rs4970434|rs9697711|rs13303351|rs13302996\n",
       "4 rs10465242|rs13303010|rs3935066|rs13303160                                                                                                                                                                                                                                                                                                      \n",
       "5 rs6694632|rs13303118|rs2341354                                                                                                                                                                                                                                                                                                                  \n",
       "6                                                                                                                                                                                                                                                                                                                                                 "
      ]
     },
     "metadata": {},
     "output_type": "display_data"
    }
   ],
   "source": [
    "head(lead.snps)"
   ]
  },
  {
   "cell_type": "code",
   "execution_count": 14,
   "id": "0b39c767-13bb-437c-90d2-fa44a80208c7",
   "metadata": {},
   "outputs": [],
   "source": [
    "conditional.snps <- read.table(\"~/gains_team282/nikhil/colocalization/cis_eqtl/fine_mapping/LD/conditional_snps.80r2.tags.tsv\", header=T) %>%\n",
    "    dplyr::mutate(TAGS=gsub(\"NONE\", \"\", TAGS))"
   ]
  },
  {
   "cell_type": "code",
   "execution_count": 15,
   "id": "2e36a21e-1611-4ea6-83b0-e98020b059ef",
   "metadata": {},
   "outputs": [
    {
     "data": {
      "text/html": [
       "<table class=\"dataframe\">\n",
       "<caption>A data.frame: 6 × 8</caption>\n",
       "<thead>\n",
       "\t<tr><th></th><th scope=col>SNP</th><th scope=col>CHR</th><th scope=col>BP</th><th scope=col>NTAG</th><th scope=col>LEFT</th><th scope=col>RIGHT</th><th scope=col>KBSPAN</th><th scope=col>TAGS</th></tr>\n",
       "\t<tr><th></th><th scope=col>&lt;chr&gt;</th><th scope=col>&lt;int&gt;</th><th scope=col>&lt;int&gt;</th><th scope=col>&lt;int&gt;</th><th scope=col>&lt;int&gt;</th><th scope=col>&lt;int&gt;</th><th scope=col>&lt;dbl&gt;</th><th scope=col>&lt;chr&gt;</th></tr>\n",
       "</thead>\n",
       "<tbody>\n",
       "\t<tr><th scope=row>1</th><td>rs3131972  </td><td>1</td><td>817341</td><td> 0</td><td>817341</td><td>817341</td><td> 0.001</td><td>                                                                                                                                                                                                                                                                                                                                                 </td></tr>\n",
       "\t<tr><th scope=row>2</th><td>rs28731045 </td><td>1</td><td>901149</td><td> 7</td><td>898547</td><td>903175</td><td> 4.629</td><td>rs28593608|rs28385272|rs4422949|rs28570054|rs72890788|rs4970384|rs4970383                                                                                                                                                                                                                                                                        </td></tr>\n",
       "\t<tr><th scope=row>3</th><td>rs142336952</td><td>1</td><td>918014</td><td> 0</td><td>918014</td><td>918014</td><td> 0.001</td><td>                                                                                                                                                                                                                                                                                                                                                 </td></tr>\n",
       "\t<tr><th scope=row>4</th><td>rs2272757  </td><td>1</td><td>946247</td><td> 0</td><td>946247</td><td>946247</td><td> 0.001</td><td>                                                                                                                                                                                                                                                                                                                                                 </td></tr>\n",
       "\t<tr><th scope=row>5</th><td>rs4970377  </td><td>1</td><td>950296</td><td>33</td><td>941119</td><td>966227</td><td>25.109</td><td>rs4372192|rs6605067|rs2839|rs3748592|rs2340582|rs4246503|rs4970452|rs4970376|rs4970375|rs3748595|rs3828047|rs3748596|rs3748597|rs13303056|rs13302945|rs3828049|rs13303206|rs13303051|rs13302957|rs13303227|rs4970371|rs6605069|rs4970445|rs28393498|rs4970441|rs13303229|rs6696971|rs41285808|rs4970435|rs4970434|rs9697711|rs13303351|rs13302996</td></tr>\n",
       "\t<tr><th scope=row>6</th><td>rs13303056 </td><td>1</td><td>953778</td><td>33</td><td>941119</td><td>966227</td><td>25.109</td><td>rs4372192|rs6605067|rs2839|rs3748592|rs2340582|rs4246503|rs4970377|rs4970452|rs4970376|rs4970375|rs3748595|rs3828047|rs3748596|rs3748597|rs13302945|rs3828049|rs13303206|rs13303051|rs13302957|rs13303227|rs4970371|rs6605069|rs4970445|rs28393498|rs4970441|rs13303229|rs6696971|rs41285808|rs4970435|rs4970434|rs9697711|rs13303351|rs13302996 </td></tr>\n",
       "</tbody>\n",
       "</table>\n"
      ],
      "text/latex": [
       "A data.frame: 6 × 8\n",
       "\\begin{tabular}{r|llllllll}\n",
       "  & SNP & CHR & BP & NTAG & LEFT & RIGHT & KBSPAN & TAGS\\\\\n",
       "  & <chr> & <int> & <int> & <int> & <int> & <int> & <dbl> & <chr>\\\\\n",
       "\\hline\n",
       "\t1 & rs3131972   & 1 & 817341 &  0 & 817341 & 817341 &  0.001 &                                                                                                                                                                                                                                                                                                                                                  \\\\\n",
       "\t2 & rs28731045  & 1 & 901149 &  7 & 898547 & 903175 &  4.629 & rs28593608\\textbar{}rs28385272\\textbar{}rs4422949\\textbar{}rs28570054\\textbar{}rs72890788\\textbar{}rs4970384\\textbar{}rs4970383                                                                                                                                                                                                                                                                        \\\\\n",
       "\t3 & rs142336952 & 1 & 918014 &  0 & 918014 & 918014 &  0.001 &                                                                                                                                                                                                                                                                                                                                                  \\\\\n",
       "\t4 & rs2272757   & 1 & 946247 &  0 & 946247 & 946247 &  0.001 &                                                                                                                                                                                                                                                                                                                                                  \\\\\n",
       "\t5 & rs4970377   & 1 & 950296 & 33 & 941119 & 966227 & 25.109 & rs4372192\\textbar{}rs6605067\\textbar{}rs2839\\textbar{}rs3748592\\textbar{}rs2340582\\textbar{}rs4246503\\textbar{}rs4970452\\textbar{}rs4970376\\textbar{}rs4970375\\textbar{}rs3748595\\textbar{}rs3828047\\textbar{}rs3748596\\textbar{}rs3748597\\textbar{}rs13303056\\textbar{}rs13302945\\textbar{}rs3828049\\textbar{}rs13303206\\textbar{}rs13303051\\textbar{}rs13302957\\textbar{}rs13303227\\textbar{}rs4970371\\textbar{}rs6605069\\textbar{}rs4970445\\textbar{}rs28393498\\textbar{}rs4970441\\textbar{}rs13303229\\textbar{}rs6696971\\textbar{}rs41285808\\textbar{}rs4970435\\textbar{}rs4970434\\textbar{}rs9697711\\textbar{}rs13303351\\textbar{}rs13302996\\\\\n",
       "\t6 & rs13303056  & 1 & 953778 & 33 & 941119 & 966227 & 25.109 & rs4372192\\textbar{}rs6605067\\textbar{}rs2839\\textbar{}rs3748592\\textbar{}rs2340582\\textbar{}rs4246503\\textbar{}rs4970377\\textbar{}rs4970452\\textbar{}rs4970376\\textbar{}rs4970375\\textbar{}rs3748595\\textbar{}rs3828047\\textbar{}rs3748596\\textbar{}rs3748597\\textbar{}rs13302945\\textbar{}rs3828049\\textbar{}rs13303206\\textbar{}rs13303051\\textbar{}rs13302957\\textbar{}rs13303227\\textbar{}rs4970371\\textbar{}rs6605069\\textbar{}rs4970445\\textbar{}rs28393498\\textbar{}rs4970441\\textbar{}rs13303229\\textbar{}rs6696971\\textbar{}rs41285808\\textbar{}rs4970435\\textbar{}rs4970434\\textbar{}rs9697711\\textbar{}rs13303351\\textbar{}rs13302996 \\\\\n",
       "\\end{tabular}\n"
      ],
      "text/markdown": [
       "\n",
       "A data.frame: 6 × 8\n",
       "\n",
       "| <!--/--> | SNP &lt;chr&gt; | CHR &lt;int&gt; | BP &lt;int&gt; | NTAG &lt;int&gt; | LEFT &lt;int&gt; | RIGHT &lt;int&gt; | KBSPAN &lt;dbl&gt; | TAGS &lt;chr&gt; |\n",
       "|---|---|---|---|---|---|---|---|---|\n",
       "| 1 | rs3131972   | 1 | 817341 |  0 | 817341 | 817341 |  0.001 | <!----> |\n",
       "| 2 | rs28731045  | 1 | 901149 |  7 | 898547 | 903175 |  4.629 | rs28593608|rs28385272|rs4422949|rs28570054|rs72890788|rs4970384|rs4970383                                                                                                                                                                                                                                                                         |\n",
       "| 3 | rs142336952 | 1 | 918014 |  0 | 918014 | 918014 |  0.001 | <!----> |\n",
       "| 4 | rs2272757   | 1 | 946247 |  0 | 946247 | 946247 |  0.001 | <!----> |\n",
       "| 5 | rs4970377   | 1 | 950296 | 33 | 941119 | 966227 | 25.109 | rs4372192|rs6605067|rs2839|rs3748592|rs2340582|rs4246503|rs4970452|rs4970376|rs4970375|rs3748595|rs3828047|rs3748596|rs3748597|rs13303056|rs13302945|rs3828049|rs13303206|rs13303051|rs13302957|rs13303227|rs4970371|rs6605069|rs4970445|rs28393498|rs4970441|rs13303229|rs6696971|rs41285808|rs4970435|rs4970434|rs9697711|rs13303351|rs13302996 |\n",
       "| 6 | rs13303056  | 1 | 953778 | 33 | 941119 | 966227 | 25.109 | rs4372192|rs6605067|rs2839|rs3748592|rs2340582|rs4246503|rs4970377|rs4970452|rs4970376|rs4970375|rs3748595|rs3828047|rs3748596|rs3748597|rs13302945|rs3828049|rs13303206|rs13303051|rs13302957|rs13303227|rs4970371|rs6605069|rs4970445|rs28393498|rs4970441|rs13303229|rs6696971|rs41285808|rs4970435|rs4970434|rs9697711|rs13303351|rs13302996  |\n",
       "\n"
      ],
      "text/plain": [
       "  SNP         CHR BP     NTAG LEFT   RIGHT  KBSPAN\n",
       "1 rs3131972   1   817341  0   817341 817341  0.001\n",
       "2 rs28731045  1   901149  7   898547 903175  4.629\n",
       "3 rs142336952 1   918014  0   918014 918014  0.001\n",
       "4 rs2272757   1   946247  0   946247 946247  0.001\n",
       "5 rs4970377   1   950296 33   941119 966227 25.109\n",
       "6 rs13303056  1   953778 33   941119 966227 25.109\n",
       "  TAGS                                                                                                                                                                                                                                                                                                                                             \n",
       "1                                                                                                                                                                                                                                                                                                                                                  \n",
       "2 rs28593608|rs28385272|rs4422949|rs28570054|rs72890788|rs4970384|rs4970383                                                                                                                                                                                                                                                                        \n",
       "3                                                                                                                                                                                                                                                                                                                                                  \n",
       "4                                                                                                                                                                                                                                                                                                                                                  \n",
       "5 rs4372192|rs6605067|rs2839|rs3748592|rs2340582|rs4246503|rs4970452|rs4970376|rs4970375|rs3748595|rs3828047|rs3748596|rs3748597|rs13303056|rs13302945|rs3828049|rs13303206|rs13303051|rs13302957|rs13303227|rs4970371|rs6605069|rs4970445|rs28393498|rs4970441|rs13303229|rs6696971|rs41285808|rs4970435|rs4970434|rs9697711|rs13303351|rs13302996\n",
       "6 rs4372192|rs6605067|rs2839|rs3748592|rs2340582|rs4246503|rs4970377|rs4970452|rs4970376|rs4970375|rs3748595|rs3828047|rs3748596|rs3748597|rs13302945|rs3828049|rs13303206|rs13303051|rs13302957|rs13303227|rs4970371|rs6605069|rs4970445|rs28393498|rs4970441|rs13303229|rs6696971|rs41285808|rs4970435|rs4970434|rs9697711|rs13303351|rs13302996 "
      ]
     },
     "metadata": {},
     "output_type": "display_data"
    }
   ],
   "source": [
    "head(conditional.snps)"
   ]
  },
  {
   "cell_type": "code",
   "execution_count": 16,
   "id": "20833015-d00c-4d0d-a279-89b7d63cfb3e",
   "metadata": {},
   "outputs": [],
   "source": [
    "geno.bim <- fread(\"~/gains_team282/Genotyping/All_genotyping_merged_filtered_b38_refiltered_rsID.bim\") %>%\n",
    "    as.data.frame()\n",
    "colnames(geno.bim) <- c(\"chr\", \"snp\", \"cM\", \"Position\", \"minor_allele\", \"major_allele\")"
   ]
  },
  {
   "cell_type": "code",
   "execution_count": 17,
   "id": "3bce37e7-f9e3-4885-8c78-5accada1a4be",
   "metadata": {},
   "outputs": [
    {
     "data": {
      "text/html": [
       "<table class=\"dataframe\">\n",
       "<caption>A data.frame: 6 × 6</caption>\n",
       "<thead>\n",
       "\t<tr><th></th><th scope=col>chr</th><th scope=col>snp</th><th scope=col>cM</th><th scope=col>Position</th><th scope=col>minor_allele</th><th scope=col>major_allele</th></tr>\n",
       "\t<tr><th></th><th scope=col>&lt;chr&gt;</th><th scope=col>&lt;chr&gt;</th><th scope=col>&lt;int&gt;</th><th scope=col>&lt;int&gt;</th><th scope=col>&lt;chr&gt;</th><th scope=col>&lt;chr&gt;</th></tr>\n",
       "</thead>\n",
       "<tbody>\n",
       "\t<tr><th scope=row>1</th><td>1</td><td>rs3131972   </td><td>0</td><td>817341</td><td>A</td><td>G</td></tr>\n",
       "\t<tr><th scope=row>2</th><td>1</td><td>rs546843995 </td><td>0</td><td>818053</td><td>0</td><td>G</td></tr>\n",
       "\t<tr><th scope=row>3</th><td>1</td><td>rs553916047 </td><td>0</td><td>818359</td><td>0</td><td>A</td></tr>\n",
       "\t<tr><th scope=row>4</th><td>1</td><td>1:818740_T_C</td><td>0</td><td>818740</td><td>T</td><td>C</td></tr>\n",
       "\t<tr><th scope=row>5</th><td>1</td><td>rs145604921 </td><td>0</td><td>819378</td><td>0</td><td>C</td></tr>\n",
       "\t<tr><th scope=row>6</th><td>1</td><td>rs535256652 </td><td>0</td><td>821053</td><td>0</td><td>T</td></tr>\n",
       "</tbody>\n",
       "</table>\n"
      ],
      "text/latex": [
       "A data.frame: 6 × 6\n",
       "\\begin{tabular}{r|llllll}\n",
       "  & chr & snp & cM & Position & minor\\_allele & major\\_allele\\\\\n",
       "  & <chr> & <chr> & <int> & <int> & <chr> & <chr>\\\\\n",
       "\\hline\n",
       "\t1 & 1 & rs3131972    & 0 & 817341 & A & G\\\\\n",
       "\t2 & 1 & rs546843995  & 0 & 818053 & 0 & G\\\\\n",
       "\t3 & 1 & rs553916047  & 0 & 818359 & 0 & A\\\\\n",
       "\t4 & 1 & 1:818740\\_T\\_C & 0 & 818740 & T & C\\\\\n",
       "\t5 & 1 & rs145604921  & 0 & 819378 & 0 & C\\\\\n",
       "\t6 & 1 & rs535256652  & 0 & 821053 & 0 & T\\\\\n",
       "\\end{tabular}\n"
      ],
      "text/markdown": [
       "\n",
       "A data.frame: 6 × 6\n",
       "\n",
       "| <!--/--> | chr &lt;chr&gt; | snp &lt;chr&gt; | cM &lt;int&gt; | Position &lt;int&gt; | minor_allele &lt;chr&gt; | major_allele &lt;chr&gt; |\n",
       "|---|---|---|---|---|---|---|\n",
       "| 1 | 1 | rs3131972    | 0 | 817341 | A | G |\n",
       "| 2 | 1 | rs546843995  | 0 | 818053 | 0 | G |\n",
       "| 3 | 1 | rs553916047  | 0 | 818359 | 0 | A |\n",
       "| 4 | 1 | 1:818740_T_C | 0 | 818740 | T | C |\n",
       "| 5 | 1 | rs145604921  | 0 | 819378 | 0 | C |\n",
       "| 6 | 1 | rs535256652  | 0 | 821053 | 0 | T |\n",
       "\n"
      ],
      "text/plain": [
       "  chr snp          cM Position minor_allele major_allele\n",
       "1 1   rs3131972    0  817341   A            G           \n",
       "2 1   rs546843995  0  818053   0            G           \n",
       "3 1   rs553916047  0  818359   0            A           \n",
       "4 1   1:818740_T_C 0  818740   T            C           \n",
       "5 1   rs145604921  0  819378   0            C           \n",
       "6 1   rs535256652  0  821053   0            T           "
      ]
     },
     "metadata": {},
     "output_type": "display_data"
    }
   ],
   "source": [
    "head(geno.bim)"
   ]
  },
  {
   "cell_type": "markdown",
   "id": "1aea645e-ec22-4ef1-8224-3b61b044d33d",
   "metadata": {},
   "source": [
    "## SNP Positions in hg19\n",
    "\n",
    "Both Calderon *et al.* and Ram-Mohan *et al.* use hg19 coordinates. Since we have the cis-eQTL SNPs and their Ref-Seq IDs, we can find their locations in hg19 for direct comparisons."
   ]
  },
  {
   "cell_type": "code",
   "execution_count": 18,
   "id": "1ee075db-5407-4227-9926-d19749331bd1",
   "metadata": {},
   "outputs": [],
   "source": [
    "# Convert LD blocks to long form\n",
    "snps <- list()\n",
    "tags <- list()\n",
    "\n",
    "for (i in 1:nrow(lead.snps)) {\n",
    "    \n",
    "    snp.tags <- strsplit(lead.snps$TAGS[i], \"\\\\|\")[[1]]\n",
    "    \n",
    "    snps[[i]] <- rep(lead.snps$SNP[i], length(snp.tags) + 1)\n",
    "    tags[[i]] <- c(lead.snps$SNP[i], snp.tags)\n",
    "}\n",
    "\n",
    "lead.snps.long <- data.frame(\n",
    "    eSNP=unlist(snps),\n",
    "    Tagging.SNP=unlist(tags)\n",
    ") %>%\n",
    "    merge(., geno.bim, by.x=\"Tagging.SNP\", by.y=\"snp\") %>%\n",
    "    dplyr::mutate(chr.ucsc=paste0(\"chr\", chr))"
   ]
  },
  {
   "cell_type": "code",
   "execution_count": 19,
   "id": "286354e2-ad78-45b1-85b2-f5ec0c54f01d",
   "metadata": {},
   "outputs": [
    {
     "data": {
      "text/html": [
       "<table class=\"dataframe\">\n",
       "<caption>A data.frame: 6 × 8</caption>\n",
       "<thead>\n",
       "\t<tr><th></th><th scope=col>Tagging.SNP</th><th scope=col>eSNP</th><th scope=col>chr</th><th scope=col>cM</th><th scope=col>Position</th><th scope=col>minor_allele</th><th scope=col>major_allele</th><th scope=col>chr.ucsc</th></tr>\n",
       "\t<tr><th></th><th scope=col>&lt;chr&gt;</th><th scope=col>&lt;chr&gt;</th><th scope=col>&lt;chr&gt;</th><th scope=col>&lt;int&gt;</th><th scope=col>&lt;int&gt;</th><th scope=col>&lt;chr&gt;</th><th scope=col>&lt;chr&gt;</th><th scope=col>&lt;chr&gt;</th></tr>\n",
       "</thead>\n",
       "<tbody>\n",
       "\t<tr><th scope=row>1</th><td>10:45393944_T_C</td><td>rs58167894 </td><td>10</td><td>0</td><td> 45393944</td><td>T</td><td>C</td><td>chr10</td></tr>\n",
       "\t<tr><th scope=row>2</th><td>2:224478491_A_G</td><td>rs112040555</td><td>2 </td><td>0</td><td>224478491</td><td>A</td><td>G</td><td>chr2 </td></tr>\n",
       "\t<tr><th scope=row>3</th><td>6:33096683_T_C </td><td>rs1431403  </td><td>6 </td><td>0</td><td> 33096683</td><td>T</td><td>C</td><td>chr6 </td></tr>\n",
       "\t<tr><th scope=row>4</th><td>rs1000033      </td><td>rs6675427  </td><td>1 </td><td>0</td><td>226392686</td><td>G</td><td>T</td><td>chr1 </td></tr>\n",
       "\t<tr><th scope=row>5</th><td>rs10000407     </td><td>rs6821444  </td><td>4 </td><td>0</td><td>146134155</td><td>C</td><td>A</td><td>chr4 </td></tr>\n",
       "\t<tr><th scope=row>6</th><td>rs10000407     </td><td>rs17021106 </td><td>4 </td><td>0</td><td>146134155</td><td>C</td><td>A</td><td>chr4 </td></tr>\n",
       "</tbody>\n",
       "</table>\n"
      ],
      "text/latex": [
       "A data.frame: 6 × 8\n",
       "\\begin{tabular}{r|llllllll}\n",
       "  & Tagging.SNP & eSNP & chr & cM & Position & minor\\_allele & major\\_allele & chr.ucsc\\\\\n",
       "  & <chr> & <chr> & <chr> & <int> & <int> & <chr> & <chr> & <chr>\\\\\n",
       "\\hline\n",
       "\t1 & 10:45393944\\_T\\_C & rs58167894  & 10 & 0 &  45393944 & T & C & chr10\\\\\n",
       "\t2 & 2:224478491\\_A\\_G & rs112040555 & 2  & 0 & 224478491 & A & G & chr2 \\\\\n",
       "\t3 & 6:33096683\\_T\\_C  & rs1431403   & 6  & 0 &  33096683 & T & C & chr6 \\\\\n",
       "\t4 & rs1000033       & rs6675427   & 1  & 0 & 226392686 & G & T & chr1 \\\\\n",
       "\t5 & rs10000407      & rs6821444   & 4  & 0 & 146134155 & C & A & chr4 \\\\\n",
       "\t6 & rs10000407      & rs17021106  & 4  & 0 & 146134155 & C & A & chr4 \\\\\n",
       "\\end{tabular}\n"
      ],
      "text/markdown": [
       "\n",
       "A data.frame: 6 × 8\n",
       "\n",
       "| <!--/--> | Tagging.SNP &lt;chr&gt; | eSNP &lt;chr&gt; | chr &lt;chr&gt; | cM &lt;int&gt; | Position &lt;int&gt; | minor_allele &lt;chr&gt; | major_allele &lt;chr&gt; | chr.ucsc &lt;chr&gt; |\n",
       "|---|---|---|---|---|---|---|---|---|\n",
       "| 1 | 10:45393944_T_C | rs58167894  | 10 | 0 |  45393944 | T | C | chr10 |\n",
       "| 2 | 2:224478491_A_G | rs112040555 | 2  | 0 | 224478491 | A | G | chr2  |\n",
       "| 3 | 6:33096683_T_C  | rs1431403   | 6  | 0 |  33096683 | T | C | chr6  |\n",
       "| 4 | rs1000033       | rs6675427   | 1  | 0 | 226392686 | G | T | chr1  |\n",
       "| 5 | rs10000407      | rs6821444   | 4  | 0 | 146134155 | C | A | chr4  |\n",
       "| 6 | rs10000407      | rs17021106  | 4  | 0 | 146134155 | C | A | chr4  |\n",
       "\n"
      ],
      "text/plain": [
       "  Tagging.SNP     eSNP        chr cM Position  minor_allele major_allele\n",
       "1 10:45393944_T_C rs58167894  10  0   45393944 T            C           \n",
       "2 2:224478491_A_G rs112040555 2   0  224478491 A            G           \n",
       "3 6:33096683_T_C  rs1431403   6   0   33096683 T            C           \n",
       "4 rs1000033       rs6675427   1   0  226392686 G            T           \n",
       "5 rs10000407      rs6821444   4   0  146134155 C            A           \n",
       "6 rs10000407      rs17021106  4   0  146134155 C            A           \n",
       "  chr.ucsc\n",
       "1 chr10   \n",
       "2 chr2    \n",
       "3 chr6    \n",
       "4 chr1    \n",
       "5 chr4    \n",
       "6 chr4    "
      ]
     },
     "metadata": {},
     "output_type": "display_data"
    }
   ],
   "source": [
    "head(lead.snps.long)"
   ]
  },
  {
   "cell_type": "code",
   "execution_count": 20,
   "id": "3a809217-f27a-45e4-b289-a63fbd949a0a",
   "metadata": {},
   "outputs": [],
   "source": [
    "# Convert LD blocks to long form\n",
    "snps <- list()\n",
    "tags <- list()\n",
    "\n",
    "for (i in 1:nrow(conditional.snps)) {\n",
    "    \n",
    "    snp.tags <- strsplit(conditional.snps$TAGS[i], \"\\\\|\")[[1]]\n",
    "    \n",
    "    snps[[i]] <- rep(conditional.snps$SNP[i], length(snp.tags) + 1)\n",
    "    tags[[i]] <- c(conditional.snps$SNP[i], snp.tags)\n",
    "}\n",
    "\n",
    "conditional.snps.long <- data.frame(\n",
    "    eSNP=unlist(snps),\n",
    "    Tagging.SNP=unlist(tags)\n",
    ") %>%\n",
    "    merge(., geno.bim, by.x=\"Tagging.SNP\", by.y=\"snp\") %>%\n",
    "    dplyr::mutate(chr.ucsc=paste0(\"chr\", chr))"
   ]
  },
  {
   "cell_type": "code",
   "execution_count": 21,
   "id": "ec530896-089d-4f00-a09a-d952c68701ef",
   "metadata": {},
   "outputs": [
    {
     "data": {
      "text/html": [
       "<table class=\"dataframe\">\n",
       "<caption>A data.frame: 6 × 8</caption>\n",
       "<thead>\n",
       "\t<tr><th></th><th scope=col>Tagging.SNP</th><th scope=col>eSNP</th><th scope=col>chr</th><th scope=col>cM</th><th scope=col>Position</th><th scope=col>minor_allele</th><th scope=col>major_allele</th><th scope=col>chr.ucsc</th></tr>\n",
       "\t<tr><th></th><th scope=col>&lt;chr&gt;</th><th scope=col>&lt;chr&gt;</th><th scope=col>&lt;chr&gt;</th><th scope=col>&lt;int&gt;</th><th scope=col>&lt;int&gt;</th><th scope=col>&lt;chr&gt;</th><th scope=col>&lt;chr&gt;</th><th scope=col>&lt;chr&gt;</th></tr>\n",
       "</thead>\n",
       "<tbody>\n",
       "\t<tr><th scope=row>1</th><td>10:45393944_T_C</td><td>rs58167894 </td><td>10</td><td>0</td><td> 45393944</td><td>T</td><td>C</td><td>chr10</td></tr>\n",
       "\t<tr><th scope=row>2</th><td>2:224478491_A_G</td><td>rs112040555</td><td>2 </td><td>0</td><td>224478491</td><td>A</td><td>G</td><td>chr2 </td></tr>\n",
       "\t<tr><th scope=row>3</th><td>6:33096683_T_C </td><td>rs1431403  </td><td>6 </td><td>0</td><td> 33096683</td><td>T</td><td>C</td><td>chr6 </td></tr>\n",
       "\t<tr><th scope=row>4</th><td>rs10000254     </td><td>rs2178467  </td><td>4 </td><td>0</td><td>177495952</td><td>A</td><td>G</td><td>chr4 </td></tr>\n",
       "\t<tr><th scope=row>5</th><td>rs10000254     </td><td>rs56844945 </td><td>4 </td><td>0</td><td>177495952</td><td>A</td><td>G</td><td>chr4 </td></tr>\n",
       "\t<tr><th scope=row>6</th><td>rs1000033      </td><td>rs6675427  </td><td>1 </td><td>0</td><td>226392686</td><td>G</td><td>T</td><td>chr1 </td></tr>\n",
       "</tbody>\n",
       "</table>\n"
      ],
      "text/latex": [
       "A data.frame: 6 × 8\n",
       "\\begin{tabular}{r|llllllll}\n",
       "  & Tagging.SNP & eSNP & chr & cM & Position & minor\\_allele & major\\_allele & chr.ucsc\\\\\n",
       "  & <chr> & <chr> & <chr> & <int> & <int> & <chr> & <chr> & <chr>\\\\\n",
       "\\hline\n",
       "\t1 & 10:45393944\\_T\\_C & rs58167894  & 10 & 0 &  45393944 & T & C & chr10\\\\\n",
       "\t2 & 2:224478491\\_A\\_G & rs112040555 & 2  & 0 & 224478491 & A & G & chr2 \\\\\n",
       "\t3 & 6:33096683\\_T\\_C  & rs1431403   & 6  & 0 &  33096683 & T & C & chr6 \\\\\n",
       "\t4 & rs10000254      & rs2178467   & 4  & 0 & 177495952 & A & G & chr4 \\\\\n",
       "\t5 & rs10000254      & rs56844945  & 4  & 0 & 177495952 & A & G & chr4 \\\\\n",
       "\t6 & rs1000033       & rs6675427   & 1  & 0 & 226392686 & G & T & chr1 \\\\\n",
       "\\end{tabular}\n"
      ],
      "text/markdown": [
       "\n",
       "A data.frame: 6 × 8\n",
       "\n",
       "| <!--/--> | Tagging.SNP &lt;chr&gt; | eSNP &lt;chr&gt; | chr &lt;chr&gt; | cM &lt;int&gt; | Position &lt;int&gt; | minor_allele &lt;chr&gt; | major_allele &lt;chr&gt; | chr.ucsc &lt;chr&gt; |\n",
       "|---|---|---|---|---|---|---|---|---|\n",
       "| 1 | 10:45393944_T_C | rs58167894  | 10 | 0 |  45393944 | T | C | chr10 |\n",
       "| 2 | 2:224478491_A_G | rs112040555 | 2  | 0 | 224478491 | A | G | chr2  |\n",
       "| 3 | 6:33096683_T_C  | rs1431403   | 6  | 0 |  33096683 | T | C | chr6  |\n",
       "| 4 | rs10000254      | rs2178467   | 4  | 0 | 177495952 | A | G | chr4  |\n",
       "| 5 | rs10000254      | rs56844945  | 4  | 0 | 177495952 | A | G | chr4  |\n",
       "| 6 | rs1000033       | rs6675427   | 1  | 0 | 226392686 | G | T | chr1  |\n",
       "\n"
      ],
      "text/plain": [
       "  Tagging.SNP     eSNP        chr cM Position  minor_allele major_allele\n",
       "1 10:45393944_T_C rs58167894  10  0   45393944 T            C           \n",
       "2 2:224478491_A_G rs112040555 2   0  224478491 A            G           \n",
       "3 6:33096683_T_C  rs1431403   6   0   33096683 T            C           \n",
       "4 rs10000254      rs2178467   4   0  177495952 A            G           \n",
       "5 rs10000254      rs56844945  4   0  177495952 A            G           \n",
       "6 rs1000033       rs6675427   1   0  226392686 G            T           \n",
       "  chr.ucsc\n",
       "1 chr10   \n",
       "2 chr2    \n",
       "3 chr6    \n",
       "4 chr4    \n",
       "5 chr4    \n",
       "6 chr1    "
      ]
     },
     "metadata": {},
     "output_type": "display_data"
    }
   ],
   "source": [
    "head(conditional.snps.long)"
   ]
  },
  {
   "cell_type": "code",
   "execution_count": 22,
   "id": "b2e7ccab-abe5-44e5-8b9f-37aefc160c55",
   "metadata": {},
   "outputs": [],
   "source": [
    "lead.snps.ranges <- makeGRangesFromDataFrame(\n",
    "    lead.snps.long, \n",
    "    seqnames.field=\"chr.ucsc\", start.field=\"Position\", end.field=\"Position\", \n",
    "    keep.extra.columns=TRUE\n",
    ")\n",
    "\n",
    "conditional.snps.ranges <- makeGRangesFromDataFrame(\n",
    "    conditional.snps.long, \n",
    "    seqnames.field=\"chr.ucsc\", start.field=\"Position\", end.field=\"Position\", \n",
    "    keep.extra.columns=TRUE\n",
    ")"
   ]
  },
  {
   "cell_type": "code",
   "execution_count": 23,
   "id": "2a15421d-50bb-41b4-8d84-e06127e12571",
   "metadata": {},
   "outputs": [
    {
     "data": {
      "text/plain": [
       "Chain of length 25\n",
       "names(25): chr22 chr21 chr19 chr20 chrY chr18 ... chr6 chr5 chr4 chr3 chr2 chr1"
      ]
     },
     "metadata": {},
     "output_type": "display_data"
    }
   ],
   "source": [
    "chain <- import.chain(\"03_Functional_Interpretation/data/hg38ToHg19.over.chain\")\n",
    "chain"
   ]
  },
  {
   "cell_type": "code",
   "execution_count": 24,
   "id": "a5f44776-d6f0-45cc-ac56-6bc41c9f76b9",
   "metadata": {},
   "outputs": [],
   "source": [
    "seqlevelsStyle(lead.snps.ranges) <- \"UCSC\"\n",
    "lead.snps.hg19 <- liftOver(lead.snps.ranges, chain) %>%\n",
    "    unlist() %>%\n",
    "    as.data.frame() %>%\n",
    "    dplyr::select(eSNP, Tagging.SNP, chr, pos.hg19=start) %>%\n",
    "    dplyr::arrange(eSNP)"
   ]
  },
  {
   "cell_type": "code",
   "execution_count": 25,
   "id": "d052009b-67b2-47e8-9141-3ca978f69044",
   "metadata": {},
   "outputs": [],
   "source": [
    "seqlevelsStyle(conditional.snps.ranges) <- \"UCSC\"\n",
    "conditional.snps.hg19 <- liftOver(conditional.snps.ranges, chain) %>%\n",
    "    unlist() %>%\n",
    "    as.data.frame() %>%\n",
    "    dplyr::select(eSNP, Tagging.SNP, chr, pos.hg19=start) %>%\n",
    "    dplyr::arrange(eSNP)"
   ]
  },
  {
   "cell_type": "code",
   "execution_count": 28,
   "id": "8623f159-e63e-4302-a72c-75bfd2adf104",
   "metadata": {},
   "outputs": [],
   "source": [
    "write.table(lead.snps.hg19, \"~/gains_team282/epigenetics/calderon_et_al_hg19/lead_and_tag_snps_hg19.tsv\", row.names=F, sep=\"\\t\", quote=F)\n",
    "write.table(conditional.snps.hg19, \"~/gains_team282/epigenetics/calderon_et_al_hg19/conditional_and_tag_snps_hg19.tsv\", row.names=F, sep=\"\\t\", quote=F)"
   ]
  },
  {
   "cell_type": "markdown",
   "id": "9ee6c4df-f413-4e01-afe8-075bdc99e4c4",
   "metadata": {
    "tags": []
   },
   "source": [
    "## Overlaps with DA Peaks"
   ]
  },
  {
   "cell_type": "markdown",
   "id": "c436d790-e3ad-4322-9e95-1ac7d2e483ba",
   "metadata": {},
   "source": [
    "### Overlap with Calderon *et al.*"
   ]
  },
  {
   "cell_type": "code",
   "execution_count": 26,
   "id": "2e0cd2d5-3788-4066-b5d7-a923ebd9c096",
   "metadata": {},
   "outputs": [],
   "source": [
    "lead.snps.ranges <- makeGRangesFromDataFrame(lead.snps.hg19, keep.extra.columns=TRUE, start.field=\"pos.hg19\", end.field=\"pos.hg19\")"
   ]
  },
  {
   "cell_type": "code",
   "execution_count": 27,
   "id": "ee268dc7-393b-474b-a96e-f29b5ff88322",
   "metadata": {},
   "outputs": [],
   "source": [
    "da.peaks <- makeGRangesFromDataFrame(calderon.da.peaks, keep.extra.columns=TRUE)"
   ]
  },
  {
   "cell_type": "code",
   "execution_count": 28,
   "id": "c4f4938b-93bb-4571-aa3c-daddc065a579",
   "metadata": {},
   "outputs": [],
   "source": [
    "overlaps <- findOverlaps(lead.snps.ranges, da.peaks)"
   ]
  },
  {
   "cell_type": "code",
   "execution_count": 29,
   "id": "db53a3e7-4ff9-4476-bffd-47deca69a3d7",
   "metadata": {},
   "outputs": [],
   "source": [
    "calderon.overlaps <- cbind(\n",
    "    as.data.frame(lead.snps.ranges[overlaps@from,]),\n",
    "    as.data.frame(da.peaks[overlaps@to,])\n",
    ") %>%\n",
    "    as.data.frame() %>%\n",
    "    dplyr::select(esnp=6, tag_snp=7, snp_chr=1, snp_pos_hg19=2, peak_chr=8, peak_start=9, peak_end=10, peak_pval=16, peak_id, cell_type, logFC) %>%\n",
    "    dplyr::select(esnp, tag_snp, tag_snp_chr=snp_chr, tag_snp_pos_hg19=snp_pos_hg19, peak_id, peak_chr, peak_start, peak_end, cell_type, peak_logFC=logFC, peak_pval)"
   ]
  },
  {
   "cell_type": "code",
   "execution_count": 30,
   "id": "cac371bb-7b47-4532-8128-0ea8291510f7",
   "metadata": {},
   "outputs": [
    {
     "data": {
      "text/html": [
       "<table class=\"dataframe\">\n",
       "<caption>A data.frame: 6 × 11</caption>\n",
       "<thead>\n",
       "\t<tr><th></th><th scope=col>esnp</th><th scope=col>tag_snp</th><th scope=col>tag_snp_chr</th><th scope=col>tag_snp_pos_hg19</th><th scope=col>peak_id</th><th scope=col>peak_chr</th><th scope=col>peak_start</th><th scope=col>peak_end</th><th scope=col>cell_type</th><th scope=col>peak_logFC</th><th scope=col>peak_pval</th></tr>\n",
       "\t<tr><th></th><th scope=col>&lt;chr&gt;</th><th scope=col>&lt;chr&gt;</th><th scope=col>&lt;fct&gt;</th><th scope=col>&lt;int&gt;</th><th scope=col>&lt;chr&gt;</th><th scope=col>&lt;fct&gt;</th><th scope=col>&lt;int&gt;</th><th scope=col>&lt;int&gt;</th><th scope=col>&lt;chr&gt;</th><th scope=col>&lt;dbl&gt;</th><th scope=col>&lt;dbl&gt;</th></tr>\n",
       "</thead>\n",
       "<tbody>\n",
       "\t<tr><th scope=row>1</th><td>rs10000507</td><td>rs1401358</td><td>4</td><td>185640057</td><td>4:185639912-185640263</td><td>4</td><td>185639912</td><td>185640263</td><td>Central_memory_CD8pos_T</td><td>-3.077595</td><td>0.0023233919</td></tr>\n",
       "\t<tr><th scope=row>2</th><td>rs10000507</td><td>rs1401359</td><td>4</td><td>185640216</td><td>4:185639912-185640263</td><td>4</td><td>185639912</td><td>185640263</td><td>Central_memory_CD8pos_T</td><td>-3.077595</td><td>0.0023233919</td></tr>\n",
       "\t<tr><th scope=row>3</th><td>rs10000507</td><td>rs2141257</td><td>4</td><td>185609463</td><td>4:185609285-185610052</td><td>4</td><td>185609285</td><td>185610052</td><td>Memory_Teffs           </td><td> 2.028882</td><td>0.0008247154</td></tr>\n",
       "\t<tr><th scope=row>4</th><td>rs10000507</td><td>rs2141257</td><td>4</td><td>185609463</td><td>4:185609285-185610052</td><td>4</td><td>185609285</td><td>185610052</td><td>Th1_precursors         </td><td> 1.957103</td><td>0.0016682013</td></tr>\n",
       "\t<tr><th scope=row>5</th><td>rs10000507</td><td>rs2141257</td><td>4</td><td>185609463</td><td>4:185609285-185610052</td><td>4</td><td>185609285</td><td>185610052</td><td>Th17_precursors        </td><td> 2.444759</td><td>0.0008956363</td></tr>\n",
       "\t<tr><th scope=row>6</th><td>rs10000507</td><td>rs2141258</td><td>4</td><td>185609576</td><td>4:185609285-185610052</td><td>4</td><td>185609285</td><td>185610052</td><td>Memory_Teffs           </td><td> 2.028882</td><td>0.0008247154</td></tr>\n",
       "</tbody>\n",
       "</table>\n"
      ],
      "text/latex": [
       "A data.frame: 6 × 11\n",
       "\\begin{tabular}{r|lllllllllll}\n",
       "  & esnp & tag\\_snp & tag\\_snp\\_chr & tag\\_snp\\_pos\\_hg19 & peak\\_id & peak\\_chr & peak\\_start & peak\\_end & cell\\_type & peak\\_logFC & peak\\_pval\\\\\n",
       "  & <chr> & <chr> & <fct> & <int> & <chr> & <fct> & <int> & <int> & <chr> & <dbl> & <dbl>\\\\\n",
       "\\hline\n",
       "\t1 & rs10000507 & rs1401358 & 4 & 185640057 & 4:185639912-185640263 & 4 & 185639912 & 185640263 & Central\\_memory\\_CD8pos\\_T & -3.077595 & 0.0023233919\\\\\n",
       "\t2 & rs10000507 & rs1401359 & 4 & 185640216 & 4:185639912-185640263 & 4 & 185639912 & 185640263 & Central\\_memory\\_CD8pos\\_T & -3.077595 & 0.0023233919\\\\\n",
       "\t3 & rs10000507 & rs2141257 & 4 & 185609463 & 4:185609285-185610052 & 4 & 185609285 & 185610052 & Memory\\_Teffs            &  2.028882 & 0.0008247154\\\\\n",
       "\t4 & rs10000507 & rs2141257 & 4 & 185609463 & 4:185609285-185610052 & 4 & 185609285 & 185610052 & Th1\\_precursors          &  1.957103 & 0.0016682013\\\\\n",
       "\t5 & rs10000507 & rs2141257 & 4 & 185609463 & 4:185609285-185610052 & 4 & 185609285 & 185610052 & Th17\\_precursors         &  2.444759 & 0.0008956363\\\\\n",
       "\t6 & rs10000507 & rs2141258 & 4 & 185609576 & 4:185609285-185610052 & 4 & 185609285 & 185610052 & Memory\\_Teffs            &  2.028882 & 0.0008247154\\\\\n",
       "\\end{tabular}\n"
      ],
      "text/markdown": [
       "\n",
       "A data.frame: 6 × 11\n",
       "\n",
       "| <!--/--> | esnp &lt;chr&gt; | tag_snp &lt;chr&gt; | tag_snp_chr &lt;fct&gt; | tag_snp_pos_hg19 &lt;int&gt; | peak_id &lt;chr&gt; | peak_chr &lt;fct&gt; | peak_start &lt;int&gt; | peak_end &lt;int&gt; | cell_type &lt;chr&gt; | peak_logFC &lt;dbl&gt; | peak_pval &lt;dbl&gt; |\n",
       "|---|---|---|---|---|---|---|---|---|---|---|---|\n",
       "| 1 | rs10000507 | rs1401358 | 4 | 185640057 | 4:185639912-185640263 | 4 | 185639912 | 185640263 | Central_memory_CD8pos_T | -3.077595 | 0.0023233919 |\n",
       "| 2 | rs10000507 | rs1401359 | 4 | 185640216 | 4:185639912-185640263 | 4 | 185639912 | 185640263 | Central_memory_CD8pos_T | -3.077595 | 0.0023233919 |\n",
       "| 3 | rs10000507 | rs2141257 | 4 | 185609463 | 4:185609285-185610052 | 4 | 185609285 | 185610052 | Memory_Teffs            |  2.028882 | 0.0008247154 |\n",
       "| 4 | rs10000507 | rs2141257 | 4 | 185609463 | 4:185609285-185610052 | 4 | 185609285 | 185610052 | Th1_precursors          |  1.957103 | 0.0016682013 |\n",
       "| 5 | rs10000507 | rs2141257 | 4 | 185609463 | 4:185609285-185610052 | 4 | 185609285 | 185610052 | Th17_precursors         |  2.444759 | 0.0008956363 |\n",
       "| 6 | rs10000507 | rs2141258 | 4 | 185609576 | 4:185609285-185610052 | 4 | 185609285 | 185610052 | Memory_Teffs            |  2.028882 | 0.0008247154 |\n",
       "\n"
      ],
      "text/plain": [
       "  esnp       tag_snp   tag_snp_chr tag_snp_pos_hg19 peak_id              \n",
       "1 rs10000507 rs1401358 4           185640057        4:185639912-185640263\n",
       "2 rs10000507 rs1401359 4           185640216        4:185639912-185640263\n",
       "3 rs10000507 rs2141257 4           185609463        4:185609285-185610052\n",
       "4 rs10000507 rs2141257 4           185609463        4:185609285-185610052\n",
       "5 rs10000507 rs2141257 4           185609463        4:185609285-185610052\n",
       "6 rs10000507 rs2141258 4           185609576        4:185609285-185610052\n",
       "  peak_chr peak_start peak_end  cell_type               peak_logFC peak_pval   \n",
       "1 4        185639912  185640263 Central_memory_CD8pos_T -3.077595  0.0023233919\n",
       "2 4        185639912  185640263 Central_memory_CD8pos_T -3.077595  0.0023233919\n",
       "3 4        185609285  185610052 Memory_Teffs             2.028882  0.0008247154\n",
       "4 4        185609285  185610052 Th1_precursors           1.957103  0.0016682013\n",
       "5 4        185609285  185610052 Th17_precursors          2.444759  0.0008956363\n",
       "6 4        185609285  185610052 Memory_Teffs             2.028882  0.0008247154"
      ]
     },
     "metadata": {},
     "output_type": "display_data"
    }
   ],
   "source": [
    "head(calderon.overlaps)"
   ]
  },
  {
   "cell_type": "code",
   "execution_count": 31,
   "id": "3a11d4a6-981d-42bc-9264-696a79e6b9d5",
   "metadata": {},
   "outputs": [],
   "source": [
    "write.table(calderon.overlaps, \"~/gains_team282/nikhil/functional_interpretation/lead_snps_80r2_calderon_et_al_da_peaks_overlaps.tsv\", quote=F, row.names=F, sep=\"\\t\")"
   ]
  },
  {
   "cell_type": "code",
   "execution_count": 32,
   "id": "00b44c44",
   "metadata": {},
   "outputs": [],
   "source": [
    "conditional.snps.ranges <- makeGRangesFromDataFrame(conditional.snps.hg19, keep.extra.columns=TRUE, start.field=\"pos.hg19\", end.field=\"pos.hg19\")"
   ]
  },
  {
   "cell_type": "code",
   "execution_count": 33,
   "id": "3f9d1e27",
   "metadata": {},
   "outputs": [],
   "source": [
    "overlaps <- findOverlaps(conditional.snps.ranges, da.peaks)"
   ]
  },
  {
   "cell_type": "code",
   "execution_count": 34,
   "id": "24724bb1",
   "metadata": {},
   "outputs": [],
   "source": [
    "calderon.conditional.overlaps <- cbind(\n",
    "    as.data.frame(conditional.snps.ranges[overlaps@from,]),\n",
    "    as.data.frame(da.peaks[overlaps@to,])\n",
    ") %>%\n",
    "    as.data.frame() %>%\n",
    "    dplyr::select(esnp=6, tag_snp=7, snp_chr=1, snp_pos_hg19=2, peak_chr=8, peak_start=9, peak_end=10, peak_pval=16, peak_id, cell_type, logFC) %>%\n",
    "    dplyr::select(esnp, tag_snp, tag_snp_chr=snp_chr, tag_snp_pos_hg19=snp_pos_hg19, peak_id, peak_chr, peak_start, peak_end, cell_type, peak_logFC=logFC, peak_pval)"
   ]
  },
  {
   "cell_type": "code",
   "execution_count": 35,
   "id": "48b061c7",
   "metadata": {},
   "outputs": [
    {
     "data": {
      "text/html": [
       "<table class=\"dataframe\">\n",
       "<caption>A data.frame: 6 × 11</caption>\n",
       "<thead>\n",
       "\t<tr><th></th><th scope=col>esnp</th><th scope=col>tag_snp</th><th scope=col>tag_snp_chr</th><th scope=col>tag_snp_pos_hg19</th><th scope=col>peak_id</th><th scope=col>peak_chr</th><th scope=col>peak_start</th><th scope=col>peak_end</th><th scope=col>cell_type</th><th scope=col>peak_logFC</th><th scope=col>peak_pval</th></tr>\n",
       "\t<tr><th></th><th scope=col>&lt;chr&gt;</th><th scope=col>&lt;chr&gt;</th><th scope=col>&lt;fct&gt;</th><th scope=col>&lt;int&gt;</th><th scope=col>&lt;chr&gt;</th><th scope=col>&lt;fct&gt;</th><th scope=col>&lt;int&gt;</th><th scope=col>&lt;int&gt;</th><th scope=col>&lt;chr&gt;</th><th scope=col>&lt;dbl&gt;</th><th scope=col>&lt;dbl&gt;</th></tr>\n",
       "</thead>\n",
       "<tbody>\n",
       "\t<tr><th scope=row>1</th><td>rs10000507</td><td>rs1401358</td><td>4</td><td>185640057</td><td>4:185639912-185640263</td><td>4</td><td>185639912</td><td>185640263</td><td>Central_memory_CD8pos_T</td><td>-3.077595</td><td>0.0023233919</td></tr>\n",
       "\t<tr><th scope=row>2</th><td>rs10000507</td><td>rs1401359</td><td>4</td><td>185640216</td><td>4:185639912-185640263</td><td>4</td><td>185639912</td><td>185640263</td><td>Central_memory_CD8pos_T</td><td>-3.077595</td><td>0.0023233919</td></tr>\n",
       "\t<tr><th scope=row>3</th><td>rs10000507</td><td>rs2141257</td><td>4</td><td>185609463</td><td>4:185609285-185610052</td><td>4</td><td>185609285</td><td>185610052</td><td>Memory_Teffs           </td><td> 2.028882</td><td>0.0008247154</td></tr>\n",
       "\t<tr><th scope=row>4</th><td>rs10000507</td><td>rs2141257</td><td>4</td><td>185609463</td><td>4:185609285-185610052</td><td>4</td><td>185609285</td><td>185610052</td><td>Th1_precursors         </td><td> 1.957103</td><td>0.0016682013</td></tr>\n",
       "\t<tr><th scope=row>5</th><td>rs10000507</td><td>rs2141257</td><td>4</td><td>185609463</td><td>4:185609285-185610052</td><td>4</td><td>185609285</td><td>185610052</td><td>Th17_precursors        </td><td> 2.444759</td><td>0.0008956363</td></tr>\n",
       "\t<tr><th scope=row>6</th><td>rs10000507</td><td>rs2141258</td><td>4</td><td>185609576</td><td>4:185609285-185610052</td><td>4</td><td>185609285</td><td>185610052</td><td>Memory_Teffs           </td><td> 2.028882</td><td>0.0008247154</td></tr>\n",
       "</tbody>\n",
       "</table>\n"
      ],
      "text/latex": [
       "A data.frame: 6 × 11\n",
       "\\begin{tabular}{r|lllllllllll}\n",
       "  & esnp & tag\\_snp & tag\\_snp\\_chr & tag\\_snp\\_pos\\_hg19 & peak\\_id & peak\\_chr & peak\\_start & peak\\_end & cell\\_type & peak\\_logFC & peak\\_pval\\\\\n",
       "  & <chr> & <chr> & <fct> & <int> & <chr> & <fct> & <int> & <int> & <chr> & <dbl> & <dbl>\\\\\n",
       "\\hline\n",
       "\t1 & rs10000507 & rs1401358 & 4 & 185640057 & 4:185639912-185640263 & 4 & 185639912 & 185640263 & Central\\_memory\\_CD8pos\\_T & -3.077595 & 0.0023233919\\\\\n",
       "\t2 & rs10000507 & rs1401359 & 4 & 185640216 & 4:185639912-185640263 & 4 & 185639912 & 185640263 & Central\\_memory\\_CD8pos\\_T & -3.077595 & 0.0023233919\\\\\n",
       "\t3 & rs10000507 & rs2141257 & 4 & 185609463 & 4:185609285-185610052 & 4 & 185609285 & 185610052 & Memory\\_Teffs            &  2.028882 & 0.0008247154\\\\\n",
       "\t4 & rs10000507 & rs2141257 & 4 & 185609463 & 4:185609285-185610052 & 4 & 185609285 & 185610052 & Th1\\_precursors          &  1.957103 & 0.0016682013\\\\\n",
       "\t5 & rs10000507 & rs2141257 & 4 & 185609463 & 4:185609285-185610052 & 4 & 185609285 & 185610052 & Th17\\_precursors         &  2.444759 & 0.0008956363\\\\\n",
       "\t6 & rs10000507 & rs2141258 & 4 & 185609576 & 4:185609285-185610052 & 4 & 185609285 & 185610052 & Memory\\_Teffs            &  2.028882 & 0.0008247154\\\\\n",
       "\\end{tabular}\n"
      ],
      "text/markdown": [
       "\n",
       "A data.frame: 6 × 11\n",
       "\n",
       "| <!--/--> | esnp &lt;chr&gt; | tag_snp &lt;chr&gt; | tag_snp_chr &lt;fct&gt; | tag_snp_pos_hg19 &lt;int&gt; | peak_id &lt;chr&gt; | peak_chr &lt;fct&gt; | peak_start &lt;int&gt; | peak_end &lt;int&gt; | cell_type &lt;chr&gt; | peak_logFC &lt;dbl&gt; | peak_pval &lt;dbl&gt; |\n",
       "|---|---|---|---|---|---|---|---|---|---|---|---|\n",
       "| 1 | rs10000507 | rs1401358 | 4 | 185640057 | 4:185639912-185640263 | 4 | 185639912 | 185640263 | Central_memory_CD8pos_T | -3.077595 | 0.0023233919 |\n",
       "| 2 | rs10000507 | rs1401359 | 4 | 185640216 | 4:185639912-185640263 | 4 | 185639912 | 185640263 | Central_memory_CD8pos_T | -3.077595 | 0.0023233919 |\n",
       "| 3 | rs10000507 | rs2141257 | 4 | 185609463 | 4:185609285-185610052 | 4 | 185609285 | 185610052 | Memory_Teffs            |  2.028882 | 0.0008247154 |\n",
       "| 4 | rs10000507 | rs2141257 | 4 | 185609463 | 4:185609285-185610052 | 4 | 185609285 | 185610052 | Th1_precursors          |  1.957103 | 0.0016682013 |\n",
       "| 5 | rs10000507 | rs2141257 | 4 | 185609463 | 4:185609285-185610052 | 4 | 185609285 | 185610052 | Th17_precursors         |  2.444759 | 0.0008956363 |\n",
       "| 6 | rs10000507 | rs2141258 | 4 | 185609576 | 4:185609285-185610052 | 4 | 185609285 | 185610052 | Memory_Teffs            |  2.028882 | 0.0008247154 |\n",
       "\n"
      ],
      "text/plain": [
       "  esnp       tag_snp   tag_snp_chr tag_snp_pos_hg19 peak_id              \n",
       "1 rs10000507 rs1401358 4           185640057        4:185639912-185640263\n",
       "2 rs10000507 rs1401359 4           185640216        4:185639912-185640263\n",
       "3 rs10000507 rs2141257 4           185609463        4:185609285-185610052\n",
       "4 rs10000507 rs2141257 4           185609463        4:185609285-185610052\n",
       "5 rs10000507 rs2141257 4           185609463        4:185609285-185610052\n",
       "6 rs10000507 rs2141258 4           185609576        4:185609285-185610052\n",
       "  peak_chr peak_start peak_end  cell_type               peak_logFC peak_pval   \n",
       "1 4        185639912  185640263 Central_memory_CD8pos_T -3.077595  0.0023233919\n",
       "2 4        185639912  185640263 Central_memory_CD8pos_T -3.077595  0.0023233919\n",
       "3 4        185609285  185610052 Memory_Teffs             2.028882  0.0008247154\n",
       "4 4        185609285  185610052 Th1_precursors           1.957103  0.0016682013\n",
       "5 4        185609285  185610052 Th17_precursors          2.444759  0.0008956363\n",
       "6 4        185609285  185610052 Memory_Teffs             2.028882  0.0008247154"
      ]
     },
     "metadata": {},
     "output_type": "display_data"
    }
   ],
   "source": [
    "head(calderon.conditional.overlaps)"
   ]
  },
  {
   "cell_type": "code",
   "execution_count": 36,
   "id": "bd2b9466",
   "metadata": {},
   "outputs": [],
   "source": [
    "write.table(calderon.conditional.overlaps, \"~/gains_team282/nikhil/functional_interpretation/conditional_snps_80r2_calderon_et_al_da_peaks_overlaps.tsv\", quote=F, row.names=F, sep=\"\\t\")"
   ]
  },
  {
   "cell_type": "markdown",
   "id": "2c876055-3181-4d52-ab91-45219afd227f",
   "metadata": {
    "tags": []
   },
   "source": [
    "### Overlap with Ram-Mohan *et al.*"
   ]
  },
  {
   "cell_type": "code",
   "execution_count": 37,
   "id": "77b9bfa0-63f2-4302-968a-ef5e150144ae",
   "metadata": {},
   "outputs": [],
   "source": [
    "lead.snps.ranges <- makeGRangesFromDataFrame(lead.snps.hg19, keep.extra.columns=TRUE, start.field=\"pos.hg19\", end.field=\"pos.hg19\")"
   ]
  },
  {
   "cell_type": "code",
   "execution_count": 38,
   "id": "ad52ca46-a925-4fd6-90e6-29df09eecf33",
   "metadata": {},
   "outputs": [],
   "source": [
    "da.peaks <- makeGRangesFromDataFrame(ram.mohan.da.peaks, keep.extra.columns=TRUE)"
   ]
  },
  {
   "cell_type": "code",
   "execution_count": 39,
   "id": "19f6f382-a9b1-4b41-a89b-17756e56c99a",
   "metadata": {},
   "outputs": [],
   "source": [
    "overlaps <- findOverlaps(lead.snps.ranges, da.peaks)"
   ]
  },
  {
   "cell_type": "code",
   "execution_count": 40,
   "id": "b7521949-ac82-4dbc-8779-ebe8a53964cb",
   "metadata": {},
   "outputs": [],
   "source": [
    "ram.mohan.overlaps <- cbind(\n",
    "    as.data.frame(lead.snps.ranges[overlaps@from,]),\n",
    "    as.data.frame(da.peaks[overlaps@to,])\n",
    ") %>%\n",
    "    as.data.frame() %>%\n",
    "    dplyr::select(esnp=6, tag_snp=7, snp_chr=1, snp_pos_hg19=2, peak_chr=8, peak_start=9, peak_end=10, peak_pval=16, peak_id, stimulation, logFC) %>%\n",
    "    dplyr::select(esnp, tag_snp, tag_snp_chr=snp_chr, tag_snp_pos_hg19=snp_pos_hg19, peak_id, peak_chr, peak_start, peak_end, stimulation, peak_logFC=logFC, peak_pval)"
   ]
  },
  {
   "cell_type": "code",
   "execution_count": 41,
   "id": "b9256aaa-0d30-4ec4-963f-a7e1c99614da",
   "metadata": {},
   "outputs": [
    {
     "data": {
      "text/html": [
       "<table class=\"dataframe\">\n",
       "<caption>A data.frame: 6 × 11</caption>\n",
       "<thead>\n",
       "\t<tr><th></th><th scope=col>esnp</th><th scope=col>tag_snp</th><th scope=col>tag_snp_chr</th><th scope=col>tag_snp_pos_hg19</th><th scope=col>peak_id</th><th scope=col>peak_chr</th><th scope=col>peak_start</th><th scope=col>peak_end</th><th scope=col>stimulation</th><th scope=col>peak_logFC</th><th scope=col>peak_pval</th></tr>\n",
       "\t<tr><th></th><th scope=col>&lt;chr&gt;</th><th scope=col>&lt;chr&gt;</th><th scope=col>&lt;fct&gt;</th><th scope=col>&lt;int&gt;</th><th scope=col>&lt;chr&gt;</th><th scope=col>&lt;fct&gt;</th><th scope=col>&lt;int&gt;</th><th scope=col>&lt;int&gt;</th><th scope=col>&lt;chr&gt;</th><th scope=col>&lt;dbl&gt;</th><th scope=col>&lt;dbl&gt;</th></tr>\n",
       "</thead>\n",
       "<tbody>\n",
       "\t<tr><th scope=row>1</th><td>rs1000137 </td><td>rs1560955 </td><td>7</td><td>157644534</td><td>7:157644410-157644721</td><td>7</td><td>157644410</td><td>157644721</td><td>HMGB</td><td>1.17</td><td>0.01210</td></tr>\n",
       "\t<tr><th scope=row>2</th><td>rs1000137 </td><td>rs1560955 </td><td>7</td><td>157644534</td><td>7:157644483-157644721</td><td>7</td><td>157644483</td><td>157644721</td><td>EC1h</td><td>1.97</td><td>0.01360</td></tr>\n",
       "\t<tr><th scope=row>3</th><td>rs1000137 </td><td>rs1560957 </td><td>7</td><td>157644701</td><td>7:157644410-157644721</td><td>7</td><td>157644410</td><td>157644721</td><td>HMGB</td><td>1.17</td><td>0.01210</td></tr>\n",
       "\t<tr><th scope=row>4</th><td>rs1000137 </td><td>rs1560957 </td><td>7</td><td>157644701</td><td>7:157644483-157644721</td><td>7</td><td>157644483</td><td>157644721</td><td>EC1h</td><td>1.97</td><td>0.01360</td></tr>\n",
       "\t<tr><th scope=row>5</th><td>rs10010544</td><td>rs3822001 </td><td>4</td><td> 57301750</td><td>4:57301645-57301882  </td><td>4</td><td> 57301645</td><td> 57301882</td><td>SA  </td><td>1.83</td><td>0.00711</td></tr>\n",
       "\t<tr><th scope=row>6</th><td>rs10022384</td><td>rs12642711</td><td>4</td><td> 39529146</td><td>4:39528844-39529709  </td><td>4</td><td> 39528844</td><td> 39529709</td><td>EC1h</td><td>1.03</td><td>0.00112</td></tr>\n",
       "</tbody>\n",
       "</table>\n"
      ],
      "text/latex": [
       "A data.frame: 6 × 11\n",
       "\\begin{tabular}{r|lllllllllll}\n",
       "  & esnp & tag\\_snp & tag\\_snp\\_chr & tag\\_snp\\_pos\\_hg19 & peak\\_id & peak\\_chr & peak\\_start & peak\\_end & stimulation & peak\\_logFC & peak\\_pval\\\\\n",
       "  & <chr> & <chr> & <fct> & <int> & <chr> & <fct> & <int> & <int> & <chr> & <dbl> & <dbl>\\\\\n",
       "\\hline\n",
       "\t1 & rs1000137  & rs1560955  & 7 & 157644534 & 7:157644410-157644721 & 7 & 157644410 & 157644721 & HMGB & 1.17 & 0.01210\\\\\n",
       "\t2 & rs1000137  & rs1560955  & 7 & 157644534 & 7:157644483-157644721 & 7 & 157644483 & 157644721 & EC1h & 1.97 & 0.01360\\\\\n",
       "\t3 & rs1000137  & rs1560957  & 7 & 157644701 & 7:157644410-157644721 & 7 & 157644410 & 157644721 & HMGB & 1.17 & 0.01210\\\\\n",
       "\t4 & rs1000137  & rs1560957  & 7 & 157644701 & 7:157644483-157644721 & 7 & 157644483 & 157644721 & EC1h & 1.97 & 0.01360\\\\\n",
       "\t5 & rs10010544 & rs3822001  & 4 &  57301750 & 4:57301645-57301882   & 4 &  57301645 &  57301882 & SA   & 1.83 & 0.00711\\\\\n",
       "\t6 & rs10022384 & rs12642711 & 4 &  39529146 & 4:39528844-39529709   & 4 &  39528844 &  39529709 & EC1h & 1.03 & 0.00112\\\\\n",
       "\\end{tabular}\n"
      ],
      "text/markdown": [
       "\n",
       "A data.frame: 6 × 11\n",
       "\n",
       "| <!--/--> | esnp &lt;chr&gt; | tag_snp &lt;chr&gt; | tag_snp_chr &lt;fct&gt; | tag_snp_pos_hg19 &lt;int&gt; | peak_id &lt;chr&gt; | peak_chr &lt;fct&gt; | peak_start &lt;int&gt; | peak_end &lt;int&gt; | stimulation &lt;chr&gt; | peak_logFC &lt;dbl&gt; | peak_pval &lt;dbl&gt; |\n",
       "|---|---|---|---|---|---|---|---|---|---|---|---|\n",
       "| 1 | rs1000137  | rs1560955  | 7 | 157644534 | 7:157644410-157644721 | 7 | 157644410 | 157644721 | HMGB | 1.17 | 0.01210 |\n",
       "| 2 | rs1000137  | rs1560955  | 7 | 157644534 | 7:157644483-157644721 | 7 | 157644483 | 157644721 | EC1h | 1.97 | 0.01360 |\n",
       "| 3 | rs1000137  | rs1560957  | 7 | 157644701 | 7:157644410-157644721 | 7 | 157644410 | 157644721 | HMGB | 1.17 | 0.01210 |\n",
       "| 4 | rs1000137  | rs1560957  | 7 | 157644701 | 7:157644483-157644721 | 7 | 157644483 | 157644721 | EC1h | 1.97 | 0.01360 |\n",
       "| 5 | rs10010544 | rs3822001  | 4 |  57301750 | 4:57301645-57301882   | 4 |  57301645 |  57301882 | SA   | 1.83 | 0.00711 |\n",
       "| 6 | rs10022384 | rs12642711 | 4 |  39529146 | 4:39528844-39529709   | 4 |  39528844 |  39529709 | EC1h | 1.03 | 0.00112 |\n",
       "\n"
      ],
      "text/plain": [
       "  esnp       tag_snp    tag_snp_chr tag_snp_pos_hg19 peak_id              \n",
       "1 rs1000137  rs1560955  7           157644534        7:157644410-157644721\n",
       "2 rs1000137  rs1560955  7           157644534        7:157644483-157644721\n",
       "3 rs1000137  rs1560957  7           157644701        7:157644410-157644721\n",
       "4 rs1000137  rs1560957  7           157644701        7:157644483-157644721\n",
       "5 rs10010544 rs3822001  4            57301750        4:57301645-57301882  \n",
       "6 rs10022384 rs12642711 4            39529146        4:39528844-39529709  \n",
       "  peak_chr peak_start peak_end  stimulation peak_logFC peak_pval\n",
       "1 7        157644410  157644721 HMGB        1.17       0.01210  \n",
       "2 7        157644483  157644721 EC1h        1.97       0.01360  \n",
       "3 7        157644410  157644721 HMGB        1.17       0.01210  \n",
       "4 7        157644483  157644721 EC1h        1.97       0.01360  \n",
       "5 4         57301645   57301882 SA          1.83       0.00711  \n",
       "6 4         39528844   39529709 EC1h        1.03       0.00112  "
      ]
     },
     "metadata": {},
     "output_type": "display_data"
    }
   ],
   "source": [
    "head(ram.mohan.overlaps)"
   ]
  },
  {
   "cell_type": "code",
   "execution_count": 42,
   "id": "7aea2f8e-9a09-4cde-ad41-8acafe60437a",
   "metadata": {},
   "outputs": [],
   "source": [
    "write.table(ram.mohan.overlaps, \"~/gains_team282/nikhil/functional_interpretation/lead_snps_80r2_ram_mohan_et_al_da_peaks_overlaps.tsv\", quote=F, row.names=F, sep=\"\\t\")"
   ]
  },
  {
   "cell_type": "code",
   "execution_count": 43,
   "id": "4140d3bd",
   "metadata": {},
   "outputs": [],
   "source": [
    "conditional.snps.ranges <- makeGRangesFromDataFrame(conditional.snps.hg19, keep.extra.columns=TRUE, start.field=\"pos.hg19\", end.field=\"pos.hg19\")"
   ]
  },
  {
   "cell_type": "code",
   "execution_count": 44,
   "id": "7ba52044",
   "metadata": {},
   "outputs": [],
   "source": [
    "overlaps <- findOverlaps(conditional.snps.ranges, da.peaks)"
   ]
  },
  {
   "cell_type": "code",
   "execution_count": 45,
   "id": "5cc52b61",
   "metadata": {},
   "outputs": [],
   "source": [
    "ram.mohan.conditional.overlaps <- cbind(\n",
    "    as.data.frame(conditional.snps.ranges[overlaps@from,]),\n",
    "    as.data.frame(da.peaks[overlaps@to,])\n",
    ") %>%\n",
    "    as.data.frame() %>%\n",
    "    dplyr::select(esnp=6, tag_snp=7, snp_chr=1, snp_pos_hg19=2, peak_chr=8, peak_start=9, peak_end=10, peak_pval=16, peak_id, stimulation, logFC) %>%\n",
    "    dplyr::select(esnp, tag_snp, tag_snp_chr=snp_chr, tag_snp_pos_hg19=snp_pos_hg19, peak_id, peak_chr, peak_start, peak_end, stimulation, peak_logFC=logFC, peak_pval)"
   ]
  },
  {
   "cell_type": "code",
   "execution_count": 46,
   "id": "5bfc94a7",
   "metadata": {},
   "outputs": [
    {
     "data": {
      "text/html": [
       "<table class=\"dataframe\">\n",
       "<caption>A data.frame: 6 × 11</caption>\n",
       "<thead>\n",
       "\t<tr><th></th><th scope=col>esnp</th><th scope=col>tag_snp</th><th scope=col>tag_snp_chr</th><th scope=col>tag_snp_pos_hg19</th><th scope=col>peak_id</th><th scope=col>peak_chr</th><th scope=col>peak_start</th><th scope=col>peak_end</th><th scope=col>stimulation</th><th scope=col>peak_logFC</th><th scope=col>peak_pval</th></tr>\n",
       "\t<tr><th></th><th scope=col>&lt;chr&gt;</th><th scope=col>&lt;chr&gt;</th><th scope=col>&lt;fct&gt;</th><th scope=col>&lt;int&gt;</th><th scope=col>&lt;chr&gt;</th><th scope=col>&lt;fct&gt;</th><th scope=col>&lt;int&gt;</th><th scope=col>&lt;int&gt;</th><th scope=col>&lt;chr&gt;</th><th scope=col>&lt;dbl&gt;</th><th scope=col>&lt;dbl&gt;</th></tr>\n",
       "</thead>\n",
       "<tbody>\n",
       "\t<tr><th scope=row>1</th><td>rs1000137 </td><td>rs1560955 </td><td>7</td><td>157644534</td><td>7:157644410-157644721</td><td>7</td><td>157644410</td><td>157644721</td><td>HMGB</td><td>1.17</td><td>0.01210</td></tr>\n",
       "\t<tr><th scope=row>2</th><td>rs1000137 </td><td>rs1560955 </td><td>7</td><td>157644534</td><td>7:157644483-157644721</td><td>7</td><td>157644483</td><td>157644721</td><td>EC1h</td><td>1.97</td><td>0.01360</td></tr>\n",
       "\t<tr><th scope=row>3</th><td>rs1000137 </td><td>rs1560957 </td><td>7</td><td>157644701</td><td>7:157644410-157644721</td><td>7</td><td>157644410</td><td>157644721</td><td>HMGB</td><td>1.17</td><td>0.01210</td></tr>\n",
       "\t<tr><th scope=row>4</th><td>rs1000137 </td><td>rs1560957 </td><td>7</td><td>157644701</td><td>7:157644483-157644721</td><td>7</td><td>157644483</td><td>157644721</td><td>EC1h</td><td>1.97</td><td>0.01360</td></tr>\n",
       "\t<tr><th scope=row>5</th><td>rs10007349</td><td>rs10021593</td><td>4</td><td> 25235801</td><td>4:25235394-25235874  </td><td>4</td><td> 25235394</td><td> 25235874</td><td>EC4h</td><td>1.23</td><td>0.02290</td></tr>\n",
       "\t<tr><th scope=row>6</th><td>rs10010544</td><td>rs3822001 </td><td>4</td><td> 57301750</td><td>4:57301645-57301882  </td><td>4</td><td> 57301645</td><td> 57301882</td><td>SA  </td><td>1.83</td><td>0.00711</td></tr>\n",
       "</tbody>\n",
       "</table>\n"
      ],
      "text/latex": [
       "A data.frame: 6 × 11\n",
       "\\begin{tabular}{r|lllllllllll}\n",
       "  & esnp & tag\\_snp & tag\\_snp\\_chr & tag\\_snp\\_pos\\_hg19 & peak\\_id & peak\\_chr & peak\\_start & peak\\_end & stimulation & peak\\_logFC & peak\\_pval\\\\\n",
       "  & <chr> & <chr> & <fct> & <int> & <chr> & <fct> & <int> & <int> & <chr> & <dbl> & <dbl>\\\\\n",
       "\\hline\n",
       "\t1 & rs1000137  & rs1560955  & 7 & 157644534 & 7:157644410-157644721 & 7 & 157644410 & 157644721 & HMGB & 1.17 & 0.01210\\\\\n",
       "\t2 & rs1000137  & rs1560955  & 7 & 157644534 & 7:157644483-157644721 & 7 & 157644483 & 157644721 & EC1h & 1.97 & 0.01360\\\\\n",
       "\t3 & rs1000137  & rs1560957  & 7 & 157644701 & 7:157644410-157644721 & 7 & 157644410 & 157644721 & HMGB & 1.17 & 0.01210\\\\\n",
       "\t4 & rs1000137  & rs1560957  & 7 & 157644701 & 7:157644483-157644721 & 7 & 157644483 & 157644721 & EC1h & 1.97 & 0.01360\\\\\n",
       "\t5 & rs10007349 & rs10021593 & 4 &  25235801 & 4:25235394-25235874   & 4 &  25235394 &  25235874 & EC4h & 1.23 & 0.02290\\\\\n",
       "\t6 & rs10010544 & rs3822001  & 4 &  57301750 & 4:57301645-57301882   & 4 &  57301645 &  57301882 & SA   & 1.83 & 0.00711\\\\\n",
       "\\end{tabular}\n"
      ],
      "text/markdown": [
       "\n",
       "A data.frame: 6 × 11\n",
       "\n",
       "| <!--/--> | esnp &lt;chr&gt; | tag_snp &lt;chr&gt; | tag_snp_chr &lt;fct&gt; | tag_snp_pos_hg19 &lt;int&gt; | peak_id &lt;chr&gt; | peak_chr &lt;fct&gt; | peak_start &lt;int&gt; | peak_end &lt;int&gt; | stimulation &lt;chr&gt; | peak_logFC &lt;dbl&gt; | peak_pval &lt;dbl&gt; |\n",
       "|---|---|---|---|---|---|---|---|---|---|---|---|\n",
       "| 1 | rs1000137  | rs1560955  | 7 | 157644534 | 7:157644410-157644721 | 7 | 157644410 | 157644721 | HMGB | 1.17 | 0.01210 |\n",
       "| 2 | rs1000137  | rs1560955  | 7 | 157644534 | 7:157644483-157644721 | 7 | 157644483 | 157644721 | EC1h | 1.97 | 0.01360 |\n",
       "| 3 | rs1000137  | rs1560957  | 7 | 157644701 | 7:157644410-157644721 | 7 | 157644410 | 157644721 | HMGB | 1.17 | 0.01210 |\n",
       "| 4 | rs1000137  | rs1560957  | 7 | 157644701 | 7:157644483-157644721 | 7 | 157644483 | 157644721 | EC1h | 1.97 | 0.01360 |\n",
       "| 5 | rs10007349 | rs10021593 | 4 |  25235801 | 4:25235394-25235874   | 4 |  25235394 |  25235874 | EC4h | 1.23 | 0.02290 |\n",
       "| 6 | rs10010544 | rs3822001  | 4 |  57301750 | 4:57301645-57301882   | 4 |  57301645 |  57301882 | SA   | 1.83 | 0.00711 |\n",
       "\n"
      ],
      "text/plain": [
       "  esnp       tag_snp    tag_snp_chr tag_snp_pos_hg19 peak_id              \n",
       "1 rs1000137  rs1560955  7           157644534        7:157644410-157644721\n",
       "2 rs1000137  rs1560955  7           157644534        7:157644483-157644721\n",
       "3 rs1000137  rs1560957  7           157644701        7:157644410-157644721\n",
       "4 rs1000137  rs1560957  7           157644701        7:157644483-157644721\n",
       "5 rs10007349 rs10021593 4            25235801        4:25235394-25235874  \n",
       "6 rs10010544 rs3822001  4            57301750        4:57301645-57301882  \n",
       "  peak_chr peak_start peak_end  stimulation peak_logFC peak_pval\n",
       "1 7        157644410  157644721 HMGB        1.17       0.01210  \n",
       "2 7        157644483  157644721 EC1h        1.97       0.01360  \n",
       "3 7        157644410  157644721 HMGB        1.17       0.01210  \n",
       "4 7        157644483  157644721 EC1h        1.97       0.01360  \n",
       "5 4         25235394   25235874 EC4h        1.23       0.02290  \n",
       "6 4         57301645   57301882 SA          1.83       0.00711  "
      ]
     },
     "metadata": {},
     "output_type": "display_data"
    }
   ],
   "source": [
    "head(ram.mohan.conditional.overlaps)"
   ]
  },
  {
   "cell_type": "code",
   "execution_count": 47,
   "id": "5041588a",
   "metadata": {},
   "outputs": [],
   "source": [
    "write.table(ram.mohan.conditional.overlaps, \"~/gains_team282/nikhil/functional_interpretation/conditional_snps_80r2_ram_mohan_et_al_da_peaks_overlaps.tsv\", quote=F, row.names=F, sep=\"\\t\")"
   ]
  },
  {
   "cell_type": "markdown",
   "id": "f9f51850-22d8-47a9-841b-1a2797809e1a",
   "metadata": {
    "tags": []
   },
   "source": [
    "## Overlaps with caQTL"
   ]
  },
  {
   "cell_type": "code",
   "execution_count": 48,
   "id": "d89e1c4e-e05f-46da-b510-9c6cb7ecbc3b",
   "metadata": {},
   "outputs": [],
   "source": [
    "lead.snps.ranges <- makeGRangesFromDataFrame(lead.snps.hg19, keep.extra.columns=TRUE, start.field=\"pos.hg19\", end.field=\"pos.hg19\")"
   ]
  },
  {
   "cell_type": "code",
   "execution_count": 49,
   "id": "5f8e43ab-f8b9-4fd0-af2b-52b31d0130d9",
   "metadata": {},
   "outputs": [],
   "source": [
    "ca.qtl <- makeGRangesFromDataFrame(calderon.ca.qtl, keep.extra.columns=TRUE, start.field=\"pos\", end.field=\"pos\")"
   ]
  },
  {
   "cell_type": "code",
   "execution_count": 50,
   "id": "1a5a3b64-8204-4731-88e3-14d21d4d4039",
   "metadata": {},
   "outputs": [],
   "source": [
    "overlaps <- findOverlaps(lead.snps.ranges, ca.qtl)"
   ]
  },
  {
   "cell_type": "code",
   "execution_count": 51,
   "id": "92936759-1264-46aa-9f71-cb2903341bf4",
   "metadata": {},
   "outputs": [],
   "source": [
    "ca.qtl.overlaps <- cbind(\n",
    "    as.data.frame(lead.snps.ranges[overlaps@from,]),\n",
    "    as.data.frame(ca.qtl[overlaps@to,])\n",
    ") %>%\n",
    "    as.data.frame() %>%\n",
    "    dplyr::select(esnp=6, tag_snp=7, snp_chr=1, snp_pos_hg19=2, cell, refAllele, altAllele, refCount, altCount, p, contrast_atac) %>%\n",
    "    dplyr::select(esnp, tag_snp, tag_snp_chr=snp_chr, tag_snp_pos_hg19=snp_pos_hg19, cell_type=cell, ref=refAllele, alt=altAllele, ref_count=refCount, alt_count=altCount, p, contrast_atac) %>%\n",
    "    unique()"
   ]
  },
  {
   "cell_type": "code",
   "execution_count": 52,
   "id": "a308d495-db58-432d-b242-cd36991fa519",
   "metadata": {},
   "outputs": [
    {
     "data": {
      "text/html": [
       "<table class=\"dataframe\">\n",
       "<caption>A data.frame: 6 × 11</caption>\n",
       "<thead>\n",
       "\t<tr><th></th><th scope=col>esnp</th><th scope=col>tag_snp</th><th scope=col>tag_snp_chr</th><th scope=col>tag_snp_pos_hg19</th><th scope=col>cell_type</th><th scope=col>ref</th><th scope=col>alt</th><th scope=col>ref_count</th><th scope=col>alt_count</th><th scope=col>p</th><th scope=col>contrast_atac</th></tr>\n",
       "\t<tr><th></th><th scope=col>&lt;chr&gt;</th><th scope=col>&lt;chr&gt;</th><th scope=col>&lt;fct&gt;</th><th scope=col>&lt;int&gt;</th><th scope=col>&lt;chr&gt;</th><th scope=col>&lt;chr&gt;</th><th scope=col>&lt;chr&gt;</th><th scope=col>&lt;int&gt;</th><th scope=col>&lt;int&gt;</th><th scope=col>&lt;dbl&gt;</th><th scope=col>&lt;chr&gt;</th></tr>\n",
       "</thead>\n",
       "<tbody>\n",
       "\t<tr><th scope=row>1</th><td>rs10205219 </td><td>rs4665969 </td><td>2 </td><td> 27574953</td><td>Th1_precursors   </td><td>T</td><td>C</td><td>0</td><td>5</td><td>0.06250000</td><td>Th1_precursors_S-Th1_precursors_U      </td></tr>\n",
       "\t<tr><th scope=row>14785</th><td>rs10419627 </td><td>rs9384    </td><td>19</td><td> 13010643</td><td>Immature_NK      </td><td>G</td><td>T</td><td>9</td><td>2</td><td>0.06542969</td><td>Immature_NK_U-Mature_NK_U              </td></tr>\n",
       "\t<tr><th scope=row>14787</th><td>rs10419627 </td><td>rs9384    </td><td>19</td><td> 13010643</td><td>Immature_NK      </td><td>G</td><td>T</td><td>9</td><td>2</td><td>0.06542969</td><td>Immature_NK_U-Memory_NK_U              </td></tr>\n",
       "\t<tr><th scope=row>119665</th><td>rs10790519 </td><td>rs11606532</td><td>11</td><td>122535611</td><td>Myeloid_DCs      </td><td>G</td><td>A</td><td>0</td><td>5</td><td>0.06250000</td><td>Monocytes_U-Myeloid_DCs_U              </td></tr>\n",
       "\t<tr><th scope=row>119714</th><td>rs10934592 </td><td>rs6780306 </td><td>3 </td><td>122225454</td><td>Effector_CD4pos_T</td><td>T</td><td>C</td><td>0</td><td>5</td><td>0.06250000</td><td>Effector_CD4pos_T_S-Effector_CD4pos_T_U</td></tr>\n",
       "\t<tr><th scope=row>119830</th><td>rs116374652</td><td>rs9384    </td><td>19</td><td> 13010643</td><td>Immature_NK      </td><td>G</td><td>T</td><td>9</td><td>2</td><td>0.06542969</td><td>Immature_NK_U-Mature_NK_U              </td></tr>\n",
       "</tbody>\n",
       "</table>\n"
      ],
      "text/latex": [
       "A data.frame: 6 × 11\n",
       "\\begin{tabular}{r|lllllllllll}\n",
       "  & esnp & tag\\_snp & tag\\_snp\\_chr & tag\\_snp\\_pos\\_hg19 & cell\\_type & ref & alt & ref\\_count & alt\\_count & p & contrast\\_atac\\\\\n",
       "  & <chr> & <chr> & <fct> & <int> & <chr> & <chr> & <chr> & <int> & <int> & <dbl> & <chr>\\\\\n",
       "\\hline\n",
       "\t1 & rs10205219  & rs4665969  & 2  &  27574953 & Th1\\_precursors    & T & C & 0 & 5 & 0.06250000 & Th1\\_precursors\\_S-Th1\\_precursors\\_U      \\\\\n",
       "\t14785 & rs10419627  & rs9384     & 19 &  13010643 & Immature\\_NK       & G & T & 9 & 2 & 0.06542969 & Immature\\_NK\\_U-Mature\\_NK\\_U              \\\\\n",
       "\t14787 & rs10419627  & rs9384     & 19 &  13010643 & Immature\\_NK       & G & T & 9 & 2 & 0.06542969 & Immature\\_NK\\_U-Memory\\_NK\\_U              \\\\\n",
       "\t119665 & rs10790519  & rs11606532 & 11 & 122535611 & Myeloid\\_DCs       & G & A & 0 & 5 & 0.06250000 & Monocytes\\_U-Myeloid\\_DCs\\_U              \\\\\n",
       "\t119714 & rs10934592  & rs6780306  & 3  & 122225454 & Effector\\_CD4pos\\_T & T & C & 0 & 5 & 0.06250000 & Effector\\_CD4pos\\_T\\_S-Effector\\_CD4pos\\_T\\_U\\\\\n",
       "\t119830 & rs116374652 & rs9384     & 19 &  13010643 & Immature\\_NK       & G & T & 9 & 2 & 0.06542969 & Immature\\_NK\\_U-Mature\\_NK\\_U              \\\\\n",
       "\\end{tabular}\n"
      ],
      "text/markdown": [
       "\n",
       "A data.frame: 6 × 11\n",
       "\n",
       "| <!--/--> | esnp &lt;chr&gt; | tag_snp &lt;chr&gt; | tag_snp_chr &lt;fct&gt; | tag_snp_pos_hg19 &lt;int&gt; | cell_type &lt;chr&gt; | ref &lt;chr&gt; | alt &lt;chr&gt; | ref_count &lt;int&gt; | alt_count &lt;int&gt; | p &lt;dbl&gt; | contrast_atac &lt;chr&gt; |\n",
       "|---|---|---|---|---|---|---|---|---|---|---|---|\n",
       "| 1 | rs10205219  | rs4665969  | 2  |  27574953 | Th1_precursors    | T | C | 0 | 5 | 0.06250000 | Th1_precursors_S-Th1_precursors_U       |\n",
       "| 14785 | rs10419627  | rs9384     | 19 |  13010643 | Immature_NK       | G | T | 9 | 2 | 0.06542969 | Immature_NK_U-Mature_NK_U               |\n",
       "| 14787 | rs10419627  | rs9384     | 19 |  13010643 | Immature_NK       | G | T | 9 | 2 | 0.06542969 | Immature_NK_U-Memory_NK_U               |\n",
       "| 119665 | rs10790519  | rs11606532 | 11 | 122535611 | Myeloid_DCs       | G | A | 0 | 5 | 0.06250000 | Monocytes_U-Myeloid_DCs_U               |\n",
       "| 119714 | rs10934592  | rs6780306  | 3  | 122225454 | Effector_CD4pos_T | T | C | 0 | 5 | 0.06250000 | Effector_CD4pos_T_S-Effector_CD4pos_T_U |\n",
       "| 119830 | rs116374652 | rs9384     | 19 |  13010643 | Immature_NK       | G | T | 9 | 2 | 0.06542969 | Immature_NK_U-Mature_NK_U               |\n",
       "\n"
      ],
      "text/plain": [
       "       esnp        tag_snp    tag_snp_chr tag_snp_pos_hg19 cell_type        \n",
       "1      rs10205219  rs4665969  2            27574953        Th1_precursors   \n",
       "14785  rs10419627  rs9384     19           13010643        Immature_NK      \n",
       "14787  rs10419627  rs9384     19           13010643        Immature_NK      \n",
       "119665 rs10790519  rs11606532 11          122535611        Myeloid_DCs      \n",
       "119714 rs10934592  rs6780306  3           122225454        Effector_CD4pos_T\n",
       "119830 rs116374652 rs9384     19           13010643        Immature_NK      \n",
       "       ref alt ref_count alt_count p         \n",
       "1      T   C   0         5         0.06250000\n",
       "14785  G   T   9         2         0.06542969\n",
       "14787  G   T   9         2         0.06542969\n",
       "119665 G   A   0         5         0.06250000\n",
       "119714 T   C   0         5         0.06250000\n",
       "119830 G   T   9         2         0.06542969\n",
       "       contrast_atac                          \n",
       "1      Th1_precursors_S-Th1_precursors_U      \n",
       "14785  Immature_NK_U-Mature_NK_U              \n",
       "14787  Immature_NK_U-Memory_NK_U              \n",
       "119665 Monocytes_U-Myeloid_DCs_U              \n",
       "119714 Effector_CD4pos_T_S-Effector_CD4pos_T_U\n",
       "119830 Immature_NK_U-Mature_NK_U              "
      ]
     },
     "metadata": {},
     "output_type": "display_data"
    }
   ],
   "source": [
    "head(ca.qtl.overlaps)"
   ]
  },
  {
   "cell_type": "code",
   "execution_count": 53,
   "id": "5e71d77d-84e2-4dd7-a8fc-ffee8762fb3b",
   "metadata": {},
   "outputs": [],
   "source": [
    "write.table(ca.qtl.overlaps, \"~/gains_team282/nikhil/functional_interpretation/lead_snps_80r2_calderon_et_al_ca_qtl_overlaps.tsv\", quote=F, row.names=F, sep=\"\\t\")"
   ]
  },
  {
   "cell_type": "code",
   "execution_count": 54,
   "id": "3ccb75cf",
   "metadata": {},
   "outputs": [],
   "source": [
    "conditional.snps.ranges <- makeGRangesFromDataFrame(conditional.snps.hg19, keep.extra.columns=TRUE, start.field=\"pos.hg19\", end.field=\"pos.hg19\")"
   ]
  },
  {
   "cell_type": "code",
   "execution_count": 55,
   "id": "178277f0",
   "metadata": {},
   "outputs": [],
   "source": [
    "overlaps <- findOverlaps(conditional.snps.ranges, ca.qtl)"
   ]
  },
  {
   "cell_type": "code",
   "execution_count": 56,
   "id": "377173d1",
   "metadata": {},
   "outputs": [],
   "source": [
    "ca.qtl.conditional.overlaps <- cbind(\n",
    "    as.data.frame(conditional.snps.ranges[overlaps@from,]),\n",
    "    as.data.frame(ca.qtl[overlaps@to,])\n",
    ") %>%\n",
    "    as.data.frame() %>%\n",
    "    dplyr::select(esnp=6, tag_snp=7, snp_chr=1, snp_pos_hg19=2, cell, refAllele, altAllele, refCount, altCount, p, contrast_atac) %>%\n",
    "    dplyr::select(esnp, tag_snp, tag_snp_chr=snp_chr, tag_snp_pos_hg19=snp_pos_hg19, cell_type=cell, ref=refAllele, alt=altAllele, ref_count=refCount, alt_count=altCount, p, contrast_atac) %>%\n",
    "    unique()"
   ]
  },
  {
   "cell_type": "code",
   "execution_count": 57,
   "id": "09090021",
   "metadata": {},
   "outputs": [
    {
     "data": {
      "text/html": [
       "<table class=\"dataframe\">\n",
       "<caption>A data.frame: 6 × 11</caption>\n",
       "<thead>\n",
       "\t<tr><th></th><th scope=col>esnp</th><th scope=col>tag_snp</th><th scope=col>tag_snp_chr</th><th scope=col>tag_snp_pos_hg19</th><th scope=col>cell_type</th><th scope=col>ref</th><th scope=col>alt</th><th scope=col>ref_count</th><th scope=col>alt_count</th><th scope=col>p</th><th scope=col>contrast_atac</th></tr>\n",
       "\t<tr><th></th><th scope=col>&lt;chr&gt;</th><th scope=col>&lt;chr&gt;</th><th scope=col>&lt;fct&gt;</th><th scope=col>&lt;int&gt;</th><th scope=col>&lt;chr&gt;</th><th scope=col>&lt;chr&gt;</th><th scope=col>&lt;chr&gt;</th><th scope=col>&lt;int&gt;</th><th scope=col>&lt;int&gt;</th><th scope=col>&lt;dbl&gt;</th><th scope=col>&lt;chr&gt;</th></tr>\n",
       "</thead>\n",
       "<tbody>\n",
       "\t<tr><th scope=row>1</th><td>rs10205219</td><td>rs4665969 </td><td>2 </td><td> 27574953</td><td>Th1_precursors          </td><td>T</td><td>C</td><td> 0</td><td>5</td><td>0.06250000</td><td>Th1_precursors_S-Th1_precursors_U                    </td></tr>\n",
       "\t<tr><th scope=row>14785</th><td>rs10419627</td><td>rs9384    </td><td>19</td><td> 13010643</td><td>Immature_NK             </td><td>G</td><td>T</td><td> 9</td><td>2</td><td>0.06542969</td><td>Immature_NK_U-Mature_NK_U                            </td></tr>\n",
       "\t<tr><th scope=row>14787</th><td>rs10419627</td><td>rs9384    </td><td>19</td><td> 13010643</td><td>Immature_NK             </td><td>G</td><td>T</td><td> 9</td><td>2</td><td>0.06542969</td><td>Immature_NK_U-Memory_NK_U                            </td></tr>\n",
       "\t<tr><th scope=row>119665</th><td>rs10521209</td><td>rs11647841</td><td>16</td><td> 50743331</td><td>Monocytes               </td><td>G</td><td>A</td><td> 1</td><td>7</td><td>0.07031250</td><td>Monocytes_U-Myeloid_DCs_U                            </td></tr>\n",
       "\t<tr><th scope=row>120853</th><td>rs10934592</td><td>rs6780306 </td><td>3 </td><td>122225454</td><td>Effector_CD4pos_T       </td><td>T</td><td>C</td><td> 0</td><td>5</td><td>0.06250000</td><td>Effector_CD4pos_T_S-Effector_CD4pos_T_U              </td></tr>\n",
       "\t<tr><th scope=row>120969</th><td>rs11216949</td><td>rs488141  </td><td>11</td><td>118571168</td><td>Effector_memory_CD8pos_T</td><td>A</td><td>G</td><td>10</td><td>1</td><td>0.01171875</td><td>Effector_memory_CD8pos_T_S-Effector_memory_CD8pos_T_U</td></tr>\n",
       "</tbody>\n",
       "</table>\n"
      ],
      "text/latex": [
       "A data.frame: 6 × 11\n",
       "\\begin{tabular}{r|lllllllllll}\n",
       "  & esnp & tag\\_snp & tag\\_snp\\_chr & tag\\_snp\\_pos\\_hg19 & cell\\_type & ref & alt & ref\\_count & alt\\_count & p & contrast\\_atac\\\\\n",
       "  & <chr> & <chr> & <fct> & <int> & <chr> & <chr> & <chr> & <int> & <int> & <dbl> & <chr>\\\\\n",
       "\\hline\n",
       "\t1 & rs10205219 & rs4665969  & 2  &  27574953 & Th1\\_precursors           & T & C &  0 & 5 & 0.06250000 & Th1\\_precursors\\_S-Th1\\_precursors\\_U                    \\\\\n",
       "\t14785 & rs10419627 & rs9384     & 19 &  13010643 & Immature\\_NK              & G & T &  9 & 2 & 0.06542969 & Immature\\_NK\\_U-Mature\\_NK\\_U                            \\\\\n",
       "\t14787 & rs10419627 & rs9384     & 19 &  13010643 & Immature\\_NK              & G & T &  9 & 2 & 0.06542969 & Immature\\_NK\\_U-Memory\\_NK\\_U                            \\\\\n",
       "\t119665 & rs10521209 & rs11647841 & 16 &  50743331 & Monocytes                & G & A &  1 & 7 & 0.07031250 & Monocytes\\_U-Myeloid\\_DCs\\_U                            \\\\\n",
       "\t120853 & rs10934592 & rs6780306  & 3  & 122225454 & Effector\\_CD4pos\\_T        & T & C &  0 & 5 & 0.06250000 & Effector\\_CD4pos\\_T\\_S-Effector\\_CD4pos\\_T\\_U              \\\\\n",
       "\t120969 & rs11216949 & rs488141   & 11 & 118571168 & Effector\\_memory\\_CD8pos\\_T & A & G & 10 & 1 & 0.01171875 & Effector\\_memory\\_CD8pos\\_T\\_S-Effector\\_memory\\_CD8pos\\_T\\_U\\\\\n",
       "\\end{tabular}\n"
      ],
      "text/markdown": [
       "\n",
       "A data.frame: 6 × 11\n",
       "\n",
       "| <!--/--> | esnp &lt;chr&gt; | tag_snp &lt;chr&gt; | tag_snp_chr &lt;fct&gt; | tag_snp_pos_hg19 &lt;int&gt; | cell_type &lt;chr&gt; | ref &lt;chr&gt; | alt &lt;chr&gt; | ref_count &lt;int&gt; | alt_count &lt;int&gt; | p &lt;dbl&gt; | contrast_atac &lt;chr&gt; |\n",
       "|---|---|---|---|---|---|---|---|---|---|---|---|\n",
       "| 1 | rs10205219 | rs4665969  | 2  |  27574953 | Th1_precursors           | T | C |  0 | 5 | 0.06250000 | Th1_precursors_S-Th1_precursors_U                     |\n",
       "| 14785 | rs10419627 | rs9384     | 19 |  13010643 | Immature_NK              | G | T |  9 | 2 | 0.06542969 | Immature_NK_U-Mature_NK_U                             |\n",
       "| 14787 | rs10419627 | rs9384     | 19 |  13010643 | Immature_NK              | G | T |  9 | 2 | 0.06542969 | Immature_NK_U-Memory_NK_U                             |\n",
       "| 119665 | rs10521209 | rs11647841 | 16 |  50743331 | Monocytes                | G | A |  1 | 7 | 0.07031250 | Monocytes_U-Myeloid_DCs_U                             |\n",
       "| 120853 | rs10934592 | rs6780306  | 3  | 122225454 | Effector_CD4pos_T        | T | C |  0 | 5 | 0.06250000 | Effector_CD4pos_T_S-Effector_CD4pos_T_U               |\n",
       "| 120969 | rs11216949 | rs488141   | 11 | 118571168 | Effector_memory_CD8pos_T | A | G | 10 | 1 | 0.01171875 | Effector_memory_CD8pos_T_S-Effector_memory_CD8pos_T_U |\n",
       "\n"
      ],
      "text/plain": [
       "       esnp       tag_snp    tag_snp_chr tag_snp_pos_hg19\n",
       "1      rs10205219 rs4665969  2            27574953       \n",
       "14785  rs10419627 rs9384     19           13010643       \n",
       "14787  rs10419627 rs9384     19           13010643       \n",
       "119665 rs10521209 rs11647841 16           50743331       \n",
       "120853 rs10934592 rs6780306  3           122225454       \n",
       "120969 rs11216949 rs488141   11          118571168       \n",
       "       cell_type                ref alt ref_count alt_count p         \n",
       "1      Th1_precursors           T   C    0        5         0.06250000\n",
       "14785  Immature_NK              G   T    9        2         0.06542969\n",
       "14787  Immature_NK              G   T    9        2         0.06542969\n",
       "119665 Monocytes                G   A    1        7         0.07031250\n",
       "120853 Effector_CD4pos_T        T   C    0        5         0.06250000\n",
       "120969 Effector_memory_CD8pos_T A   G   10        1         0.01171875\n",
       "       contrast_atac                                        \n",
       "1      Th1_precursors_S-Th1_precursors_U                    \n",
       "14785  Immature_NK_U-Mature_NK_U                            \n",
       "14787  Immature_NK_U-Memory_NK_U                            \n",
       "119665 Monocytes_U-Myeloid_DCs_U                            \n",
       "120853 Effector_CD4pos_T_S-Effector_CD4pos_T_U              \n",
       "120969 Effector_memory_CD8pos_T_S-Effector_memory_CD8pos_T_U"
      ]
     },
     "metadata": {},
     "output_type": "display_data"
    }
   ],
   "source": [
    "head(ca.qtl.conditional.overlaps)"
   ]
  },
  {
   "cell_type": "code",
   "execution_count": 58,
   "id": "d4ac2af1-0566-4b68-8eb0-2f8604205fd2",
   "metadata": {},
   "outputs": [],
   "source": [
    "write.table(ca.qtl.conditional.overlaps, \"~/gains_team282/nikhil/functional_interpretation/conditional_snps_80r2_calderon_et_al_ca_qtl_overlaps.tsv\", quote=F, row.names=F, sep=\"\\t\")"
   ]
  },
  {
   "cell_type": "code",
   "execution_count": null,
   "id": "2d0a7be3-8d6d-4bf9-bc6f-aab88a8a2009",
   "metadata": {},
   "outputs": [],
   "source": []
  }
 ],
 "metadata": {
  "kernelspec": {
   "display_name": "R",
   "language": "R",
   "name": "ir"
  },
  "language_info": {
   "codemirror_mode": "r",
   "file_extension": ".r",
   "mimetype": "text/x-r-source",
   "name": "R",
   "pygments_lexer": "r",
   "version": "4.0.5"
  }
 },
 "nbformat": 4,
 "nbformat_minor": 5
}
