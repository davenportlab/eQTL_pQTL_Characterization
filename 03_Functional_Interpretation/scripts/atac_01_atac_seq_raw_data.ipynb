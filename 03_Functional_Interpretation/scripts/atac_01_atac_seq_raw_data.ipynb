{
 "cells": [
  {
   "cell_type": "markdown",
   "id": "e36773fc-5d0b-4cd6-9e5c-e1eb22f87ec5",
   "metadata": {},
   "source": [
    "# ATAC-Seq Raw Data\n",
    "\n",
    "**Created**: 17 January 2022"
   ]
  },
  {
   "cell_type": "markdown",
   "id": "39dcaaf4-dc3d-4092-834b-16adf65fdbff",
   "metadata": {},
   "source": [
    "## Environment"
   ]
  },
  {
   "cell_type": "code",
   "execution_count": 1,
   "id": "e613efe5-5473-421f-990d-82b8b4558746",
   "metadata": {},
   "outputs": [
    {
     "name": "stderr",
     "output_type": "stream",
     "text": [
      "── \u001b[1mAttaching packages\u001b[22m ──────────────────────────────────────────────────────────────────────────────────────────────────────────────────────────────────────────────── tidyverse 1.3.1 ──\n",
      "\n",
      "\u001b[32m✔\u001b[39m \u001b[34mggplot2\u001b[39m 3.3.5     \u001b[32m✔\u001b[39m \u001b[34mpurrr  \u001b[39m 0.3.4\n",
      "\u001b[32m✔\u001b[39m \u001b[34mtibble \u001b[39m 3.1.6     \u001b[32m✔\u001b[39m \u001b[34mdplyr  \u001b[39m 1.0.8\n",
      "\u001b[32m✔\u001b[39m \u001b[34mtidyr  \u001b[39m 1.2.0     \u001b[32m✔\u001b[39m \u001b[34mstringr\u001b[39m 1.4.0\n",
      "\u001b[32m✔\u001b[39m \u001b[34mreadr  \u001b[39m 2.1.1     \u001b[32m✔\u001b[39m \u001b[34mforcats\u001b[39m 0.5.1\n",
      "\n",
      "── \u001b[1mConflicts\u001b[22m ─────────────────────────────────────────────────────────────────────────────────────────────────────────────────────────────────────────────────── tidyverse_conflicts() ──\n",
      "\u001b[31m✖\u001b[39m \u001b[34mdplyr\u001b[39m::\u001b[32mfilter()\u001b[39m masks \u001b[34mstats\u001b[39m::filter()\n",
      "\u001b[31m✖\u001b[39m \u001b[34mdplyr\u001b[39m::\u001b[32mlag()\u001b[39m    masks \u001b[34mstats\u001b[39m::lag()\n",
      "\n"
     ]
    }
   ],
   "source": [
    "library(tidyverse)\n",
    "\n",
    "setwd(\"~/eQTL_pQTL_Characterization/\")\n",
    "\n",
    "source(\"03_Functional_Interpretation/scripts/utils/ggplot_theme.R\")"
   ]
  },
  {
   "cell_type": "markdown",
   "id": "41fc0430-94c8-4dad-9b7d-d3c0f2c55e84",
   "metadata": {},
   "source": [
    "## Calderon *et al.*"
   ]
  },
  {
   "cell_type": "markdown",
   "id": "8eef81e7-7982-4bf0-82df-92ff456e726d",
   "metadata": {},
   "source": [
    "### Load Data"
   ]
  },
  {
   "cell_type": "code",
   "execution_count": 2,
   "id": "31e15ee7-ac8b-4214-a30c-40e406614993",
   "metadata": {},
   "outputs": [],
   "source": [
    "meta <- read.csv(\"03_Functional_Interpretation/metadata/reads_calderon_et_al_atac_seq.txt\")"
   ]
  },
  {
   "cell_type": "code",
   "execution_count": 3,
   "id": "88bbe2a3-6d83-4f59-a3f1-9f7f30a833c3",
   "metadata": {},
   "outputs": [
    {
     "data": {
      "text/html": [
       "<table class=\"dataframe\">\n",
       "<caption>A data.frame: 6 × 28</caption>\n",
       "<thead>\n",
       "\t<tr><th></th><th scope=col>Run</th><th scope=col>Assay.Type</th><th scope=col>AvgSpotLen</th><th scope=col>Bases</th><th scope=col>BioProject</th><th scope=col>BioSample</th><th scope=col>Bytes</th><th scope=col>Cell_type</th><th scope=col>Center.Name</th><th scope=col>Consent</th><th scope=col>⋯</th><th scope=col>LibrarySelection</th><th scope=col>LibrarySource</th><th scope=col>lineage</th><th scope=col>Organism</th><th scope=col>Platform</th><th scope=col>ReleaseDate</th><th scope=col>Sample.Name</th><th scope=col>source_name</th><th scope=col>SRA.Study</th><th scope=col>treatment</th></tr>\n",
       "\t<tr><th></th><th scope=col>&lt;chr&gt;</th><th scope=col>&lt;chr&gt;</th><th scope=col>&lt;int&gt;</th><th scope=col>&lt;dbl&gt;</th><th scope=col>&lt;chr&gt;</th><th scope=col>&lt;chr&gt;</th><th scope=col>&lt;dbl&gt;</th><th scope=col>&lt;chr&gt;</th><th scope=col>&lt;chr&gt;</th><th scope=col>&lt;chr&gt;</th><th scope=col>⋯</th><th scope=col>&lt;chr&gt;</th><th scope=col>&lt;chr&gt;</th><th scope=col>&lt;chr&gt;</th><th scope=col>&lt;chr&gt;</th><th scope=col>&lt;chr&gt;</th><th scope=col>&lt;chr&gt;</th><th scope=col>&lt;chr&gt;</th><th scope=col>&lt;chr&gt;</th><th scope=col>&lt;chr&gt;</th><th scope=col>&lt;chr&gt;</th></tr>\n",
       "</thead>\n",
       "<tbody>\n",
       "\t<tr><th scope=row>1</th><td>SRR7650729</td><td>ATAC-seq</td><td>130</td><td>7671684082</td><td>PRJNA484801</td><td>SAMN09769836</td><td>3235449960</td><td>Bulk_B      </td><td>GEO</td><td>public</td><td>⋯</td><td>other</td><td>GENOMIC</td><td>B  </td><td>Homo sapiens</td><td>ILLUMINA</td><td>2018-09-06T00:00:00Z</td><td>GSM3320229</td><td>primary blood</td><td>SRP156496</td><td>no_treament</td></tr>\n",
       "\t<tr><th scope=row>2</th><td>SRR7650730</td><td>ATAC-seq</td><td>130</td><td>8755083677</td><td>PRJNA484801</td><td>SAMN09769835</td><td>3691300841</td><td>Bulk_B      </td><td>GEO</td><td>public</td><td>⋯</td><td>other</td><td>GENOMIC</td><td>B  </td><td>Homo sapiens</td><td>ILLUMINA</td><td>2018-09-06T00:00:00Z</td><td>GSM3320230</td><td>primary blood</td><td>SRP156496</td><td>treatment1 </td></tr>\n",
       "\t<tr><th scope=row>3</th><td>SRR7650731</td><td>ATAC-seq</td><td>131</td><td>8483939942</td><td>PRJNA484801</td><td>SAMN09769834</td><td>3602660374</td><td>Mem_B       </td><td>GEO</td><td>public</td><td>⋯</td><td>other</td><td>GENOMIC</td><td>B  </td><td>Homo sapiens</td><td>ILLUMINA</td><td>2018-09-06T00:00:00Z</td><td>GSM3320231</td><td>primary blood</td><td>SRP156496</td><td>no_treament</td></tr>\n",
       "\t<tr><th scope=row>4</th><td>SRR7650733</td><td>ATAC-seq</td><td>132</td><td>7063118195</td><td>PRJNA484801</td><td>SAMN09769832</td><td>3012041722</td><td>Naive_B     </td><td>GEO</td><td>public</td><td>⋯</td><td>other</td><td>GENOMIC</td><td>B  </td><td>Homo sapiens</td><td>ILLUMINA</td><td>2018-09-06T00:00:00Z</td><td>GSM3320233</td><td>primary blood</td><td>SRP156496</td><td>no_treament</td></tr>\n",
       "\t<tr><th scope=row>5</th><td>SRR7650735</td><td>ATAC-seq</td><td>130</td><td>8705610661</td><td>PRJNA484801</td><td>SAMN09769830</td><td>3659122131</td><td>Plasmablasts</td><td>GEO</td><td>public</td><td>⋯</td><td>other</td><td>GENOMIC</td><td>B  </td><td>Homo sapiens</td><td>ILLUMINA</td><td>2018-09-06T00:00:00Z</td><td>GSM3320235</td><td>primary blood</td><td>SRP156496</td><td>no_treament</td></tr>\n",
       "\t<tr><th scope=row>6</th><td>SRR7650736</td><td>ATAC-seq</td><td>132</td><td>8457505958</td><td>PRJNA484801</td><td>SAMN09769829</td><td>3669541907</td><td>CD8pos_T    </td><td>GEO</td><td>public</td><td>⋯</td><td>other</td><td>GENOMIC</td><td>CD8</td><td>Homo sapiens</td><td>ILLUMINA</td><td>2018-09-06T00:00:00Z</td><td>GSM3320236</td><td>primary blood</td><td>SRP156496</td><td>no_treament</td></tr>\n",
       "</tbody>\n",
       "</table>\n"
      ],
      "text/latex": [
       "A data.frame: 6 × 28\n",
       "\\begin{tabular}{r|lllllllllllllllllllll}\n",
       "  & Run & Assay.Type & AvgSpotLen & Bases & BioProject & BioSample & Bytes & Cell\\_type & Center.Name & Consent & ⋯ & LibrarySelection & LibrarySource & lineage & Organism & Platform & ReleaseDate & Sample.Name & source\\_name & SRA.Study & treatment\\\\\n",
       "  & <chr> & <chr> & <int> & <dbl> & <chr> & <chr> & <dbl> & <chr> & <chr> & <chr> & ⋯ & <chr> & <chr> & <chr> & <chr> & <chr> & <chr> & <chr> & <chr> & <chr> & <chr>\\\\\n",
       "\\hline\n",
       "\t1 & SRR7650729 & ATAC-seq & 130 & 7671684082 & PRJNA484801 & SAMN09769836 & 3235449960 & Bulk\\_B       & GEO & public & ⋯ & other & GENOMIC & B   & Homo sapiens & ILLUMINA & 2018-09-06T00:00:00Z & GSM3320229 & primary blood & SRP156496 & no\\_treament\\\\\n",
       "\t2 & SRR7650730 & ATAC-seq & 130 & 8755083677 & PRJNA484801 & SAMN09769835 & 3691300841 & Bulk\\_B       & GEO & public & ⋯ & other & GENOMIC & B   & Homo sapiens & ILLUMINA & 2018-09-06T00:00:00Z & GSM3320230 & primary blood & SRP156496 & treatment1 \\\\\n",
       "\t3 & SRR7650731 & ATAC-seq & 131 & 8483939942 & PRJNA484801 & SAMN09769834 & 3602660374 & Mem\\_B        & GEO & public & ⋯ & other & GENOMIC & B   & Homo sapiens & ILLUMINA & 2018-09-06T00:00:00Z & GSM3320231 & primary blood & SRP156496 & no\\_treament\\\\\n",
       "\t4 & SRR7650733 & ATAC-seq & 132 & 7063118195 & PRJNA484801 & SAMN09769832 & 3012041722 & Naive\\_B      & GEO & public & ⋯ & other & GENOMIC & B   & Homo sapiens & ILLUMINA & 2018-09-06T00:00:00Z & GSM3320233 & primary blood & SRP156496 & no\\_treament\\\\\n",
       "\t5 & SRR7650735 & ATAC-seq & 130 & 8705610661 & PRJNA484801 & SAMN09769830 & 3659122131 & Plasmablasts & GEO & public & ⋯ & other & GENOMIC & B   & Homo sapiens & ILLUMINA & 2018-09-06T00:00:00Z & GSM3320235 & primary blood & SRP156496 & no\\_treament\\\\\n",
       "\t6 & SRR7650736 & ATAC-seq & 132 & 8457505958 & PRJNA484801 & SAMN09769829 & 3669541907 & CD8pos\\_T     & GEO & public & ⋯ & other & GENOMIC & CD8 & Homo sapiens & ILLUMINA & 2018-09-06T00:00:00Z & GSM3320236 & primary blood & SRP156496 & no\\_treament\\\\\n",
       "\\end{tabular}\n"
      ],
      "text/markdown": [
       "\n",
       "A data.frame: 6 × 28\n",
       "\n",
       "| <!--/--> | Run &lt;chr&gt; | Assay.Type &lt;chr&gt; | AvgSpotLen &lt;int&gt; | Bases &lt;dbl&gt; | BioProject &lt;chr&gt; | BioSample &lt;chr&gt; | Bytes &lt;dbl&gt; | Cell_type &lt;chr&gt; | Center.Name &lt;chr&gt; | Consent &lt;chr&gt; | ⋯ ⋯ | LibrarySelection &lt;chr&gt; | LibrarySource &lt;chr&gt; | lineage &lt;chr&gt; | Organism &lt;chr&gt; | Platform &lt;chr&gt; | ReleaseDate &lt;chr&gt; | Sample.Name &lt;chr&gt; | source_name &lt;chr&gt; | SRA.Study &lt;chr&gt; | treatment &lt;chr&gt; |\n",
       "|---|---|---|---|---|---|---|---|---|---|---|---|---|---|---|---|---|---|---|---|---|---|\n",
       "| 1 | SRR7650729 | ATAC-seq | 130 | 7671684082 | PRJNA484801 | SAMN09769836 | 3235449960 | Bulk_B       | GEO | public | ⋯ | other | GENOMIC | B   | Homo sapiens | ILLUMINA | 2018-09-06T00:00:00Z | GSM3320229 | primary blood | SRP156496 | no_treament |\n",
       "| 2 | SRR7650730 | ATAC-seq | 130 | 8755083677 | PRJNA484801 | SAMN09769835 | 3691300841 | Bulk_B       | GEO | public | ⋯ | other | GENOMIC | B   | Homo sapiens | ILLUMINA | 2018-09-06T00:00:00Z | GSM3320230 | primary blood | SRP156496 | treatment1  |\n",
       "| 3 | SRR7650731 | ATAC-seq | 131 | 8483939942 | PRJNA484801 | SAMN09769834 | 3602660374 | Mem_B        | GEO | public | ⋯ | other | GENOMIC | B   | Homo sapiens | ILLUMINA | 2018-09-06T00:00:00Z | GSM3320231 | primary blood | SRP156496 | no_treament |\n",
       "| 4 | SRR7650733 | ATAC-seq | 132 | 7063118195 | PRJNA484801 | SAMN09769832 | 3012041722 | Naive_B      | GEO | public | ⋯ | other | GENOMIC | B   | Homo sapiens | ILLUMINA | 2018-09-06T00:00:00Z | GSM3320233 | primary blood | SRP156496 | no_treament |\n",
       "| 5 | SRR7650735 | ATAC-seq | 130 | 8705610661 | PRJNA484801 | SAMN09769830 | 3659122131 | Plasmablasts | GEO | public | ⋯ | other | GENOMIC | B   | Homo sapiens | ILLUMINA | 2018-09-06T00:00:00Z | GSM3320235 | primary blood | SRP156496 | no_treament |\n",
       "| 6 | SRR7650736 | ATAC-seq | 132 | 8457505958 | PRJNA484801 | SAMN09769829 | 3669541907 | CD8pos_T     | GEO | public | ⋯ | other | GENOMIC | CD8 | Homo sapiens | ILLUMINA | 2018-09-06T00:00:00Z | GSM3320236 | primary blood | SRP156496 | no_treament |\n",
       "\n"
      ],
      "text/plain": [
       "  Run        Assay.Type AvgSpotLen Bases      BioProject  BioSample   \n",
       "1 SRR7650729 ATAC-seq   130        7671684082 PRJNA484801 SAMN09769836\n",
       "2 SRR7650730 ATAC-seq   130        8755083677 PRJNA484801 SAMN09769835\n",
       "3 SRR7650731 ATAC-seq   131        8483939942 PRJNA484801 SAMN09769834\n",
       "4 SRR7650733 ATAC-seq   132        7063118195 PRJNA484801 SAMN09769832\n",
       "5 SRR7650735 ATAC-seq   130        8705610661 PRJNA484801 SAMN09769830\n",
       "6 SRR7650736 ATAC-seq   132        8457505958 PRJNA484801 SAMN09769829\n",
       "  Bytes      Cell_type    Center.Name Consent ⋯ LibrarySelection LibrarySource\n",
       "1 3235449960 Bulk_B       GEO         public  ⋯ other            GENOMIC      \n",
       "2 3691300841 Bulk_B       GEO         public  ⋯ other            GENOMIC      \n",
       "3 3602660374 Mem_B        GEO         public  ⋯ other            GENOMIC      \n",
       "4 3012041722 Naive_B      GEO         public  ⋯ other            GENOMIC      \n",
       "5 3659122131 Plasmablasts GEO         public  ⋯ other            GENOMIC      \n",
       "6 3669541907 CD8pos_T     GEO         public  ⋯ other            GENOMIC      \n",
       "  lineage Organism     Platform ReleaseDate          Sample.Name source_name  \n",
       "1 B       Homo sapiens ILLUMINA 2018-09-06T00:00:00Z GSM3320229  primary blood\n",
       "2 B       Homo sapiens ILLUMINA 2018-09-06T00:00:00Z GSM3320230  primary blood\n",
       "3 B       Homo sapiens ILLUMINA 2018-09-06T00:00:00Z GSM3320231  primary blood\n",
       "4 B       Homo sapiens ILLUMINA 2018-09-06T00:00:00Z GSM3320233  primary blood\n",
       "5 B       Homo sapiens ILLUMINA 2018-09-06T00:00:00Z GSM3320235  primary blood\n",
       "6 CD8     Homo sapiens ILLUMINA 2018-09-06T00:00:00Z GSM3320236  primary blood\n",
       "  SRA.Study treatment  \n",
       "1 SRP156496 no_treament\n",
       "2 SRP156496 treatment1 \n",
       "3 SRP156496 no_treament\n",
       "4 SRP156496 no_treament\n",
       "5 SRP156496 no_treament\n",
       "6 SRP156496 no_treament"
      ]
     },
     "metadata": {},
     "output_type": "display_data"
    }
   ],
   "source": [
    "head(meta)"
   ]
  },
  {
   "cell_type": "code",
   "execution_count": 4,
   "id": "0cdff4ec-e9b3-4ff1-b9f8-b71989bcc7e6",
   "metadata": {},
   "outputs": [
    {
     "data": {
      "text/html": [
       "<style>\n",
       ".list-inline {list-style: none; margin:0; padding: 0}\n",
       ".list-inline>li {display: inline-block}\n",
       ".list-inline>li:not(:last-child)::after {content: \"\\00b7\"; padding: 0 .5ex}\n",
       "</style>\n",
       "<ol class=list-inline><li>'Run'</li><li>'Assay.Type'</li><li>'AvgSpotLen'</li><li>'Bases'</li><li>'BioProject'</li><li>'BioSample'</li><li>'Bytes'</li><li>'Cell_type'</li><li>'Center.Name'</li><li>'Consent'</li><li>'DATASTORE.filetype'</li><li>'DATASTORE.provider'</li><li>'DATASTORE.region'</li><li>'Donor'</li><li>'Experiment'</li><li>'GEO_Accession..exp.'</li><li>'Instrument'</li><li>'LibraryLayout'</li><li>'LibrarySelection'</li><li>'LibrarySource'</li><li>'lineage'</li><li>'Organism'</li><li>'Platform'</li><li>'ReleaseDate'</li><li>'Sample.Name'</li><li>'source_name'</li><li>'SRA.Study'</li><li>'treatment'</li></ol>\n"
      ],
      "text/latex": [
       "\\begin{enumerate*}\n",
       "\\item 'Run'\n",
       "\\item 'Assay.Type'\n",
       "\\item 'AvgSpotLen'\n",
       "\\item 'Bases'\n",
       "\\item 'BioProject'\n",
       "\\item 'BioSample'\n",
       "\\item 'Bytes'\n",
       "\\item 'Cell\\_type'\n",
       "\\item 'Center.Name'\n",
       "\\item 'Consent'\n",
       "\\item 'DATASTORE.filetype'\n",
       "\\item 'DATASTORE.provider'\n",
       "\\item 'DATASTORE.region'\n",
       "\\item 'Donor'\n",
       "\\item 'Experiment'\n",
       "\\item 'GEO\\_Accession..exp.'\n",
       "\\item 'Instrument'\n",
       "\\item 'LibraryLayout'\n",
       "\\item 'LibrarySelection'\n",
       "\\item 'LibrarySource'\n",
       "\\item 'lineage'\n",
       "\\item 'Organism'\n",
       "\\item 'Platform'\n",
       "\\item 'ReleaseDate'\n",
       "\\item 'Sample.Name'\n",
       "\\item 'source\\_name'\n",
       "\\item 'SRA.Study'\n",
       "\\item 'treatment'\n",
       "\\end{enumerate*}\n"
      ],
      "text/markdown": [
       "1. 'Run'\n",
       "2. 'Assay.Type'\n",
       "3. 'AvgSpotLen'\n",
       "4. 'Bases'\n",
       "5. 'BioProject'\n",
       "6. 'BioSample'\n",
       "7. 'Bytes'\n",
       "8. 'Cell_type'\n",
       "9. 'Center.Name'\n",
       "10. 'Consent'\n",
       "11. 'DATASTORE.filetype'\n",
       "12. 'DATASTORE.provider'\n",
       "13. 'DATASTORE.region'\n",
       "14. 'Donor'\n",
       "15. 'Experiment'\n",
       "16. 'GEO_Accession..exp.'\n",
       "17. 'Instrument'\n",
       "18. 'LibraryLayout'\n",
       "19. 'LibrarySelection'\n",
       "20. 'LibrarySource'\n",
       "21. 'lineage'\n",
       "22. 'Organism'\n",
       "23. 'Platform'\n",
       "24. 'ReleaseDate'\n",
       "25. 'Sample.Name'\n",
       "26. 'source_name'\n",
       "27. 'SRA.Study'\n",
       "28. 'treatment'\n",
       "\n",
       "\n"
      ],
      "text/plain": [
       " [1] \"Run\"                 \"Assay.Type\"          \"AvgSpotLen\"         \n",
       " [4] \"Bases\"               \"BioProject\"          \"BioSample\"          \n",
       " [7] \"Bytes\"               \"Cell_type\"           \"Center.Name\"        \n",
       "[10] \"Consent\"             \"DATASTORE.filetype\"  \"DATASTORE.provider\" \n",
       "[13] \"DATASTORE.region\"    \"Donor\"               \"Experiment\"         \n",
       "[16] \"GEO_Accession..exp.\" \"Instrument\"          \"LibraryLayout\"      \n",
       "[19] \"LibrarySelection\"    \"LibrarySource\"       \"lineage\"            \n",
       "[22] \"Organism\"            \"Platform\"            \"ReleaseDate\"        \n",
       "[25] \"Sample.Name\"         \"source_name\"         \"SRA.Study\"          \n",
       "[28] \"treatment\"          "
      ]
     },
     "metadata": {},
     "output_type": "display_data"
    }
   ],
   "source": [
    "colnames(meta)"
   ]
  },
  {
   "cell_type": "markdown",
   "id": "aab498a5-7eee-4ec8-905e-1653629a8beb",
   "metadata": {},
   "source": [
    "### Basic Information about Data"
   ]
  },
  {
   "cell_type": "markdown",
   "id": "7087b097-4194-44a3-ac93-10aaf8ce54b4",
   "metadata": {},
   "source": [
    "There are 175 ATAC-Seq samples from the Calderon *et al.* study."
   ]
  },
  {
   "cell_type": "code",
   "execution_count": 5,
   "id": "dbf42350-9a4a-4748-86a8-24f843894611",
   "metadata": {},
   "outputs": [
    {
     "data": {
      "text/html": [
       "175"
      ],
      "text/latex": [
       "175"
      ],
      "text/markdown": [
       "175"
      ],
      "text/plain": [
       "[1] 175"
      ]
     },
     "metadata": {},
     "output_type": "display_data"
    }
   ],
   "source": [
    "nrow(meta)"
   ]
  },
  {
   "cell_type": "markdown",
   "id": "c91b91e6-b1a9-4a23-8dc4-9da3e5a9e845",
   "metadata": {},
   "source": [
    "Most samples were run on an Illumina HiSeq 4000. Some were run on an Illumina NovaSeq 6000. All samples runs generated paired-end 76 bp reads."
   ]
  },
  {
   "cell_type": "code",
   "execution_count": 6,
   "id": "61fb4f0b-de7b-43bc-8cbd-0d2c2334ede4",
   "metadata": {},
   "outputs": [
    {
     "data": {
      "text/plain": [
       "\n",
       "  Illumina HiSeq 4000 Illumina NovaSeq 6000 \n",
       "                  159                    16 "
      ]
     },
     "metadata": {},
     "output_type": "display_data"
    },
    {
     "data": {
      "text/plain": [
       "\n",
       "PAIRED \n",
       "   175 "
      ]
     },
     "metadata": {},
     "output_type": "display_data"
    },
    {
     "data": {
      "text/plain": [
       "\n",
       "other \n",
       "  175 "
      ]
     },
     "metadata": {},
     "output_type": "display_data"
    },
    {
     "data": {
      "text/plain": [
       "\n",
       "GENOMIC \n",
       "    175 "
      ]
     },
     "metadata": {},
     "output_type": "display_data"
    },
    {
     "data": {
      "text/plain": [
       "\n",
       "ILLUMINA \n",
       "     175 "
      ]
     },
     "metadata": {},
     "output_type": "display_data"
    }
   ],
   "source": [
    "table(meta$Instrument)\n",
    "table(meta$LibraryLayout)\n",
    "table(meta$LibrarySelection)\n",
    "table(meta$LibrarySource)\n",
    "table(meta$Platform)"
   ]
  },
  {
   "cell_type": "code",
   "execution_count": 7,
   "id": "f96eb962-e311-41eb-8dba-6a34abcb4aaa",
   "metadata": {},
   "outputs": [
    {
     "data": {
      "image/png": "[encoded data removed]",
      "text/plain": [
       "plot without title"
      ]
     },
     "metadata": {
      "image/png": {
       "height": 420,
       "width": 420
      }
     },
     "output_type": "display_data"
    }
   ],
   "source": [
    "meta %>%\n",
    "    ggplot() +\n",
    "    geom_histogram(aes(x=AvgSpotLen, fill=Instrument), binwidth=10) +\n",
    "    scale_fill_brewer(palette=\"Pastel1\") +\n",
    "    ggplot_theme"
   ]
  },
  {
   "cell_type": "markdown",
   "id": "7a3cf508-7054-4431-beee-d7bd5179645d",
   "metadata": {},
   "source": [
    "There are 25 different primary cell types."
   ]
  },
  {
   "cell_type": "code",
   "execution_count": 8,
   "id": "557a7b47-e73b-4ab9-a0e1-6b1254901f61",
   "metadata": {},
   "outputs": [
    {
     "data": {
      "text/html": [
       "25"
      ],
      "text/latex": [
       "25"
      ],
      "text/markdown": [
       "25"
      ],
      "text/plain": [
       "[1] 25"
      ]
     },
     "metadata": {},
     "output_type": "display_data"
    },
    {
     "data": {
      "text/plain": [
       "\n",
       "                  Bulk_B                 CD8pos_T  Central_memory_CD8pos_T \n",
       "                       7                        7                        8 \n",
       "       Effector_CD4pos_T Effector_memory_CD8pos_T      Follicular_T_Helper \n",
       "                       7                        8                        9 \n",
       "           Gamma_delta_T              Immature_NK                Mature_NK \n",
       "                       7                        5                       10 \n",
       "                   Mem_B                Memory_NK             Memory_Teffs \n",
       "                       8                        6                        8 \n",
       "            Memory_Tregs                Monocytes              Myeloid_DCs \n",
       "                       8                        9                        3 \n",
       "                 Naive_B              Naive_CD8_T              Naive_Teffs \n",
       "                       7                        8                        9 \n",
       "             Naive_Tregs                     pDCs             Plasmablasts \n",
       "                       4                        3                        3 \n",
       "            Regulatory_T           Th1_precursors          Th17_precursors \n",
       "                       8                        8                        7 \n",
       "          Th2_precursors \n",
       "                       8 "
      ]
     },
     "metadata": {},
     "output_type": "display_data"
    }
   ],
   "source": [
    "length(unique(meta$Cell_type))\n",
    "table(meta$Cell_type)"
   ]
  },
  {
   "cell_type": "markdown",
   "id": "a288f15c-2b78-4ed4-9351-6a59ee2a3219",
   "metadata": {},
   "source": [
    "These 25 cell types belong to 6 broad cell lineages. Most samples come from CD4 T cells, followed by CD8 T Cells."
   ]
  },
  {
   "cell_type": "code",
   "execution_count": 9,
   "id": "ed45cb1d-897d-44f3-8cac-18aa644fb103",
   "metadata": {},
   "outputs": [
    {
     "data": {
      "text/html": [
       "6"
      ],
      "text/latex": [
       "6"
      ],
      "text/markdown": [
       "6"
      ],
      "text/plain": [
       "[1] 6"
      ]
     },
     "metadata": {},
     "output_type": "display_data"
    },
    {
     "data": {
      "text/plain": [
       "\n",
       "      B     CD4     CD8      GD MYELOID      NK \n",
       "     25      76      31       7      15      21 "
      ]
     },
     "metadata": {},
     "output_type": "display_data"
    }
   ],
   "source": [
    "length(unique(meta$lineage))\n",
    "table(meta$lineage)"
   ]
  },
  {
   "cell_type": "code",
   "execution_count": 10,
   "id": "fca54c71-edb6-4fb6-838c-910cfdaa1195",
   "metadata": {},
   "outputs": [
    {
     "data": {
      "text/html": [
       "<table class=\"dataframe\">\n",
       "<caption>A data.frame: 25 × 2</caption>\n",
       "<thead>\n",
       "\t<tr><th></th><th scope=col>Cell_type</th><th scope=col>lineage</th></tr>\n",
       "\t<tr><th></th><th scope=col>&lt;chr&gt;</th><th scope=col>&lt;chr&gt;</th></tr>\n",
       "</thead>\n",
       "<tbody>\n",
       "\t<tr><th scope=row>1</th><td>Bulk_B                  </td><td>B      </td></tr>\n",
       "\t<tr><th scope=row>3</th><td>Mem_B                   </td><td>B      </td></tr>\n",
       "\t<tr><th scope=row>4</th><td>Naive_B                 </td><td>B      </td></tr>\n",
       "\t<tr><th scope=row>5</th><td>Plasmablasts            </td><td>B      </td></tr>\n",
       "\t<tr><th scope=row>6</th><td>CD8pos_T                </td><td>CD8    </td></tr>\n",
       "\t<tr><th scope=row>7</th><td>Memory_Teffs            </td><td>CD4    </td></tr>\n",
       "\t<tr><th scope=row>8</th><td>Memory_Tregs            </td><td>CD4    </td></tr>\n",
       "\t<tr><th scope=row>10</th><td>Naive_Teffs             </td><td>CD4    </td></tr>\n",
       "\t<tr><th scope=row>12</th><td>Regulatory_T            </td><td>CD4    </td></tr>\n",
       "\t<tr><th scope=row>14</th><td>Th1_precursors          </td><td>CD4    </td></tr>\n",
       "\t<tr><th scope=row>16</th><td>Th17_precursors         </td><td>CD4    </td></tr>\n",
       "\t<tr><th scope=row>18</th><td>Th2_precursors          </td><td>CD4    </td></tr>\n",
       "\t<tr><th scope=row>20</th><td>Immature_NK             </td><td>NK     </td></tr>\n",
       "\t<tr><th scope=row>21</th><td>Mature_NK               </td><td>NK     </td></tr>\n",
       "\t<tr><th scope=row>23</th><td>Memory_NK               </td><td>NK     </td></tr>\n",
       "\t<tr><th scope=row>24</th><td>Monocytes               </td><td>MYELOID</td></tr>\n",
       "\t<tr><th scope=row>26</th><td>Myeloid_DCs             </td><td>MYELOID</td></tr>\n",
       "\t<tr><th scope=row>27</th><td>pDCs                    </td><td>MYELOID</td></tr>\n",
       "\t<tr><th scope=row>37</th><td>Central_memory_CD8pos_T </td><td>CD8    </td></tr>\n",
       "\t<tr><th scope=row>39</th><td>Effector_memory_CD8pos_T</td><td>CD8    </td></tr>\n",
       "\t<tr><th scope=row>41</th><td>Naive_CD8_T             </td><td>CD8    </td></tr>\n",
       "\t<tr><th scope=row>64</th><td>Gamma_delta_T           </td><td>GD     </td></tr>\n",
       "\t<tr><th scope=row>66</th><td>Effector_CD4pos_T       </td><td>CD4    </td></tr>\n",
       "\t<tr><th scope=row>67</th><td>Follicular_T_Helper     </td><td>CD4    </td></tr>\n",
       "\t<tr><th scope=row>71</th><td>Naive_Tregs             </td><td>CD4    </td></tr>\n",
       "</tbody>\n",
       "</table>\n"
      ],
      "text/latex": [
       "A data.frame: 25 × 2\n",
       "\\begin{tabular}{r|ll}\n",
       "  & Cell\\_type & lineage\\\\\n",
       "  & <chr> & <chr>\\\\\n",
       "\\hline\n",
       "\t1 & Bulk\\_B                   & B      \\\\\n",
       "\t3 & Mem\\_B                    & B      \\\\\n",
       "\t4 & Naive\\_B                  & B      \\\\\n",
       "\t5 & Plasmablasts             & B      \\\\\n",
       "\t6 & CD8pos\\_T                 & CD8    \\\\\n",
       "\t7 & Memory\\_Teffs             & CD4    \\\\\n",
       "\t8 & Memory\\_Tregs             & CD4    \\\\\n",
       "\t10 & Naive\\_Teffs              & CD4    \\\\\n",
       "\t12 & Regulatory\\_T             & CD4    \\\\\n",
       "\t14 & Th1\\_precursors           & CD4    \\\\\n",
       "\t16 & Th17\\_precursors          & CD4    \\\\\n",
       "\t18 & Th2\\_precursors           & CD4    \\\\\n",
       "\t20 & Immature\\_NK              & NK     \\\\\n",
       "\t21 & Mature\\_NK                & NK     \\\\\n",
       "\t23 & Memory\\_NK                & NK     \\\\\n",
       "\t24 & Monocytes                & MYELOID\\\\\n",
       "\t26 & Myeloid\\_DCs              & MYELOID\\\\\n",
       "\t27 & pDCs                     & MYELOID\\\\\n",
       "\t37 & Central\\_memory\\_CD8pos\\_T  & CD8    \\\\\n",
       "\t39 & Effector\\_memory\\_CD8pos\\_T & CD8    \\\\\n",
       "\t41 & Naive\\_CD8\\_T              & CD8    \\\\\n",
       "\t64 & Gamma\\_delta\\_T            & GD     \\\\\n",
       "\t66 & Effector\\_CD4pos\\_T        & CD4    \\\\\n",
       "\t67 & Follicular\\_T\\_Helper      & CD4    \\\\\n",
       "\t71 & Naive\\_Tregs              & CD4    \\\\\n",
       "\\end{tabular}\n"
      ],
      "text/markdown": [
       "\n",
       "A data.frame: 25 × 2\n",
       "\n",
       "| <!--/--> | Cell_type &lt;chr&gt; | lineage &lt;chr&gt; |\n",
       "|---|---|---|\n",
       "| 1 | Bulk_B                   | B       |\n",
       "| 3 | Mem_B                    | B       |\n",
       "| 4 | Naive_B                  | B       |\n",
       "| 5 | Plasmablasts             | B       |\n",
       "| 6 | CD8pos_T                 | CD8     |\n",
       "| 7 | Memory_Teffs             | CD4     |\n",
       "| 8 | Memory_Tregs             | CD4     |\n",
       "| 10 | Naive_Teffs              | CD4     |\n",
       "| 12 | Regulatory_T             | CD4     |\n",
       "| 14 | Th1_precursors           | CD4     |\n",
       "| 16 | Th17_precursors          | CD4     |\n",
       "| 18 | Th2_precursors           | CD4     |\n",
       "| 20 | Immature_NK              | NK      |\n",
       "| 21 | Mature_NK                | NK      |\n",
       "| 23 | Memory_NK                | NK      |\n",
       "| 24 | Monocytes                | MYELOID |\n",
       "| 26 | Myeloid_DCs              | MYELOID |\n",
       "| 27 | pDCs                     | MYELOID |\n",
       "| 37 | Central_memory_CD8pos_T  | CD8     |\n",
       "| 39 | Effector_memory_CD8pos_T | CD8     |\n",
       "| 41 | Naive_CD8_T              | CD8     |\n",
       "| 64 | Gamma_delta_T            | GD      |\n",
       "| 66 | Effector_CD4pos_T        | CD4     |\n",
       "| 67 | Follicular_T_Helper      | CD4     |\n",
       "| 71 | Naive_Tregs              | CD4     |\n",
       "\n"
      ],
      "text/plain": [
       "   Cell_type                lineage\n",
       "1  Bulk_B                   B      \n",
       "3  Mem_B                    B      \n",
       "4  Naive_B                  B      \n",
       "5  Plasmablasts             B      \n",
       "6  CD8pos_T                 CD8    \n",
       "7  Memory_Teffs             CD4    \n",
       "8  Memory_Tregs             CD4    \n",
       "10 Naive_Teffs              CD4    \n",
       "12 Regulatory_T             CD4    \n",
       "14 Th1_precursors           CD4    \n",
       "16 Th17_precursors          CD4    \n",
       "18 Th2_precursors           CD4    \n",
       "20 Immature_NK              NK     \n",
       "21 Mature_NK                NK     \n",
       "23 Memory_NK                NK     \n",
       "24 Monocytes                MYELOID\n",
       "26 Myeloid_DCs              MYELOID\n",
       "27 pDCs                     MYELOID\n",
       "37 Central_memory_CD8pos_T  CD8    \n",
       "39 Effector_memory_CD8pos_T CD8    \n",
       "41 Naive_CD8_T              CD8    \n",
       "64 Gamma_delta_T            GD     \n",
       "66 Effector_CD4pos_T        CD4    \n",
       "67 Follicular_T_Helper      CD4    \n",
       "71 Naive_Tregs              CD4    "
      ]
     },
     "metadata": {},
     "output_type": "display_data"
    }
   ],
   "source": [
    "meta %>%\n",
    "    dplyr::select(Cell_type, lineage) %>%\n",
    "    unique()"
   ]
  },
  {
   "cell_type": "markdown",
   "id": "b36bf1eb-e09d-44d1-8380-71224dea36a2",
   "metadata": {},
   "source": [
    "Samples were either unstimulated (`no_treament`) or stimulated (`treatment1` or `treatment2`). More than one treatment was used for Mature NK cells, Monocytes, Naive Effector T Cells, and Naive Regulatory T Cells."
   ]
  },
  {
   "cell_type": "code",
   "execution_count": 12,
   "id": "5215ff25-e82d-415f-8dab-789347e93d4b",
   "metadata": {},
   "outputs": [
    {
     "data": {
      "text/plain": [
       "\n",
       "no_treament  treatment1  treatment2 \n",
       "         97          71           7 "
      ]
     },
     "metadata": {},
     "output_type": "display_data"
    },
    {
     "data": {
      "text/plain": [
       "                          \n",
       "                           no_treament treatment1 treatment2\n",
       "  Bulk_B                             4          3          0\n",
       "  CD8pos_T                           4          3          0\n",
       "  Central_memory_CD8pos_T            4          4          0\n",
       "  Effector_CD4pos_T                  4          3          0\n",
       "  Effector_memory_CD8pos_T           4          4          0\n",
       "  Follicular_T_Helper                5          4          0\n",
       "  Gamma_delta_T                      4          3          0\n",
       "  Immature_NK                        5          0          0\n",
       "  Mature_NK                          4          4          2\n",
       "  Mem_B                              4          3          1\n",
       "  Memory_NK                          6          0          0\n",
       "  Memory_Teffs                       4          4          0\n",
       "  Memory_Tregs                       4          4          0\n",
       "  Monocytes                          3          4          2\n",
       "  Myeloid_DCs                        3          0          0\n",
       "  Naive_B                            4          3          0\n",
       "  Naive_CD8_T                        4          4          0\n",
       "  Naive_Teffs                        4          4          1\n",
       "  Naive_Tregs                        2          1          1\n",
       "  pDCs                               3          0          0\n",
       "  Plasmablasts                       3          0          0\n",
       "  Regulatory_T                       4          4          0\n",
       "  Th1_precursors                     4          4          0\n",
       "  Th17_precursors                    3          4          0\n",
       "  Th2_precursors                     4          4          0"
      ]
     },
     "metadata": {},
     "output_type": "display_data"
    }
   ],
   "source": [
    "table(meta$treatment)\n",
    "table(meta$Cell_type, meta$treatment)"
   ]
  },
  {
   "cell_type": "markdown",
   "id": "d189c576-c4e6-4719-a0ac-f3144c607633",
   "metadata": {},
   "source": [
    "The samples were generated from 7 donors. 4 of the donors contributed to a large number of samples."
   ]
  },
  {
   "cell_type": "code",
   "execution_count": 14,
   "id": "5b645c97-e16a-4dce-9809-84885a728cb7",
   "metadata": {},
   "outputs": [
    {
     "data": {
      "text/html": [
       "7"
      ],
      "text/latex": [
       "7"
      ],
      "text/markdown": [
       "7"
      ],
      "text/plain": [
       "[1] 7"
      ]
     },
     "metadata": {},
     "output_type": "display_data"
    },
    {
     "data": {
      "text/plain": [
       "\n",
       "1001 1002 1003 1004 1008 1010 1011 \n",
       "  42   41   39   37    8    7    1 "
      ]
     },
     "metadata": {},
     "output_type": "display_data"
    },
    {
     "data": {
      "text/html": [
       "0.908571428571429"
      ],
      "text/latex": [
       "0.908571428571429"
      ],
      "text/markdown": [
       "0.908571428571429"
      ],
      "text/plain": [
       "[1] 0.9085714"
      ]
     },
     "metadata": {},
     "output_type": "display_data"
    }
   ],
   "source": [
    "length(unique(meta$Donor))\n",
    "table(meta$Donor)\n",
    "sum(table(meta$Donor)[1:4]) / sum(table(meta$Donor))"
   ]
  },
  {
   "cell_type": "markdown",
   "id": "b0e5def3-f412-404a-8c10-7c3178de00a9",
   "metadata": {
    "tags": []
   },
   "source": [
    "## Corces *et al.*"
   ]
  },
  {
   "cell_type": "markdown",
   "id": "cf92f6fa-8efc-45b8-bae4-fbab54ea2bb4",
   "metadata": {},
   "source": [
    "### Load Data"
   ]
  },
  {
   "cell_type": "code",
   "execution_count": 32,
   "id": "212449f6-4e1f-4068-898a-3aa5c8ea60fc",
   "metadata": {},
   "outputs": [],
   "source": [
    "meta <- read.csv(\"03_Functional_Interpretation/metadata/reads_corces_et_al_atac_seq.txt\") %>%\n",
    "    dplyr::filter(Cell_type == \"CD14+ monocyte cell\")"
   ]
  },
  {
   "cell_type": "code",
   "execution_count": 33,
   "id": "d56cc9c7-7b0b-4401-9245-dcc2585a5c98",
   "metadata": {},
   "outputs": [
    {
     "data": {
      "text/html": [
       "<table class=\"dataframe\">\n",
       "<caption>A data.frame: 6 × 27</caption>\n",
       "<thead>\n",
       "\t<tr><th></th><th scope=col>Run</th><th scope=col>Assay.Type</th><th scope=col>AvgSpotLen</th><th scope=col>Bases</th><th scope=col>BioProject</th><th scope=col>BioSample</th><th scope=col>Bytes</th><th scope=col>Cell_type</th><th scope=col>Center.Name</th><th scope=col>Consent</th><th scope=col>⋯</th><th scope=col>LibraryLayout</th><th scope=col>LibrarySelection</th><th scope=col>LibrarySource</th><th scope=col>Organism</th><th scope=col>Platform</th><th scope=col>ReleaseDate</th><th scope=col>Sample.Name</th><th scope=col>sample_type</th><th scope=col>source_name</th><th scope=col>SRA.Study</th></tr>\n",
       "\t<tr><th></th><th scope=col>&lt;chr&gt;</th><th scope=col>&lt;chr&gt;</th><th scope=col>&lt;int&gt;</th><th scope=col>&lt;dbl&gt;</th><th scope=col>&lt;chr&gt;</th><th scope=col>&lt;chr&gt;</th><th scope=col>&lt;dbl&gt;</th><th scope=col>&lt;chr&gt;</th><th scope=col>&lt;chr&gt;</th><th scope=col>&lt;chr&gt;</th><th scope=col>⋯</th><th scope=col>&lt;chr&gt;</th><th scope=col>&lt;chr&gt;</th><th scope=col>&lt;chr&gt;</th><th scope=col>&lt;chr&gt;</th><th scope=col>&lt;chr&gt;</th><th scope=col>&lt;chr&gt;</th><th scope=col>&lt;chr&gt;</th><th scope=col>&lt;chr&gt;</th><th scope=col>&lt;chr&gt;</th><th scope=col>&lt;chr&gt;</th></tr>\n",
       "</thead>\n",
       "<tbody>\n",
       "\t<tr><th scope=row>1</th><td>SRR2920475</td><td>OTHER</td><td>152</td><td>1276139712</td><td>PRJNA301969</td><td>SAMN04262115</td><td> 504572193</td><td>CD14+ monocyte cell</td><td>GEO</td><td>public</td><td>⋯</td><td>PAIRED</td><td>other</td><td>GENOMIC</td><td>Homo sapiens</td><td>ILLUMINA</td><td>2016-06-01T00:00:00Z</td><td>GSM1937385</td><td>primary human blood cell from fresh sample</td><td>Mono</td><td>SRP066100</td></tr>\n",
       "\t<tr><th scope=row>2</th><td>SRR2920488</td><td>OTHER</td><td>152</td><td>2481512024</td><td>PRJNA301969</td><td>SAMN04262081</td><td>1142311304</td><td>CD14+ monocyte cell</td><td>GEO</td><td>public</td><td>⋯</td><td>PAIRED</td><td>other</td><td>GENOMIC</td><td>Homo sapiens</td><td>ILLUMINA</td><td>2016-06-01T00:00:00Z</td><td>GSM1937398</td><td>primary human blood cell from fresh sample</td><td>Mono</td><td>SRP066100</td></tr>\n",
       "\t<tr><th scope=row>3</th><td>SRR2920476</td><td>OTHER</td><td>152</td><td>1160170856</td><td>PRJNA301969</td><td>SAMN04262116</td><td> 460332567</td><td>CD14+ monocyte cell</td><td>GEO</td><td>public</td><td>⋯</td><td>PAIRED</td><td>other</td><td>GENOMIC</td><td>Homo sapiens</td><td>ILLUMINA</td><td>2016-06-01T00:00:00Z</td><td>GSM1937386</td><td>primary human blood cell from fresh sample</td><td>Mono</td><td>SRP066100</td></tr>\n",
       "\t<tr><th scope=row>4</th><td>SRR2920487</td><td>OTHER</td><td>152</td><td>2625527768</td><td>PRJNA301969</td><td>SAMN04262080</td><td>1207718672</td><td>CD14+ monocyte cell</td><td>GEO</td><td>public</td><td>⋯</td><td>PAIRED</td><td>other</td><td>GENOMIC</td><td>Homo sapiens</td><td>ILLUMINA</td><td>2016-06-01T00:00:00Z</td><td>GSM1937397</td><td>primary human blood cell from fresh sample</td><td>Mono</td><td>SRP066100</td></tr>\n",
       "\t<tr><th scope=row>5</th><td>SRR2920542</td><td>OTHER</td><td>152</td><td>5824919376</td><td>PRJNA301969</td><td>SAMN04262124</td><td>2888818006</td><td>CD14+ monocyte cell</td><td>GEO</td><td>public</td><td>⋯</td><td>PAIRED</td><td>other</td><td>GENOMIC</td><td>Homo sapiens</td><td>ILLUMINA</td><td>2016-06-01T00:00:00Z</td><td>GSM1937452</td><td>primary human blood cell from fresh sample</td><td>Mono</td><td>SRP066100</td></tr>\n",
       "\t<tr><th scope=row>6</th><td>SRR2920543</td><td>OTHER</td><td>152</td><td>7468277560</td><td>PRJNA301969</td><td>SAMN04262125</td><td>3655086815</td><td>CD14+ monocyte cell</td><td>GEO</td><td>public</td><td>⋯</td><td>PAIRED</td><td>other</td><td>GENOMIC</td><td>Homo sapiens</td><td>ILLUMINA</td><td>2016-06-01T00:00:00Z</td><td>GSM1937453</td><td>primary human blood cell from fresh sample</td><td>Mono</td><td>SRP066100</td></tr>\n",
       "</tbody>\n",
       "</table>\n"
      ],
      "text/latex": [
       "A data.frame: 6 × 27\n",
       "\\begin{tabular}{r|lllllllllllllllllllll}\n",
       "  & Run & Assay.Type & AvgSpotLen & Bases & BioProject & BioSample & Bytes & Cell\\_type & Center.Name & Consent & ⋯ & LibraryLayout & LibrarySelection & LibrarySource & Organism & Platform & ReleaseDate & Sample.Name & sample\\_type & source\\_name & SRA.Study\\\\\n",
       "  & <chr> & <chr> & <int> & <dbl> & <chr> & <chr> & <dbl> & <chr> & <chr> & <chr> & ⋯ & <chr> & <chr> & <chr> & <chr> & <chr> & <chr> & <chr> & <chr> & <chr> & <chr>\\\\\n",
       "\\hline\n",
       "\t1 & SRR2920475 & OTHER & 152 & 1276139712 & PRJNA301969 & SAMN04262115 &  504572193 & CD14+ monocyte cell & GEO & public & ⋯ & PAIRED & other & GENOMIC & Homo sapiens & ILLUMINA & 2016-06-01T00:00:00Z & GSM1937385 & primary human blood cell from fresh sample & Mono & SRP066100\\\\\n",
       "\t2 & SRR2920488 & OTHER & 152 & 2481512024 & PRJNA301969 & SAMN04262081 & 1142311304 & CD14+ monocyte cell & GEO & public & ⋯ & PAIRED & other & GENOMIC & Homo sapiens & ILLUMINA & 2016-06-01T00:00:00Z & GSM1937398 & primary human blood cell from fresh sample & Mono & SRP066100\\\\\n",
       "\t3 & SRR2920476 & OTHER & 152 & 1160170856 & PRJNA301969 & SAMN04262116 &  460332567 & CD14+ monocyte cell & GEO & public & ⋯ & PAIRED & other & GENOMIC & Homo sapiens & ILLUMINA & 2016-06-01T00:00:00Z & GSM1937386 & primary human blood cell from fresh sample & Mono & SRP066100\\\\\n",
       "\t4 & SRR2920487 & OTHER & 152 & 2625527768 & PRJNA301969 & SAMN04262080 & 1207718672 & CD14+ monocyte cell & GEO & public & ⋯ & PAIRED & other & GENOMIC & Homo sapiens & ILLUMINA & 2016-06-01T00:00:00Z & GSM1937397 & primary human blood cell from fresh sample & Mono & SRP066100\\\\\n",
       "\t5 & SRR2920542 & OTHER & 152 & 5824919376 & PRJNA301969 & SAMN04262124 & 2888818006 & CD14+ monocyte cell & GEO & public & ⋯ & PAIRED & other & GENOMIC & Homo sapiens & ILLUMINA & 2016-06-01T00:00:00Z & GSM1937452 & primary human blood cell from fresh sample & Mono & SRP066100\\\\\n",
       "\t6 & SRR2920543 & OTHER & 152 & 7468277560 & PRJNA301969 & SAMN04262125 & 3655086815 & CD14+ monocyte cell & GEO & public & ⋯ & PAIRED & other & GENOMIC & Homo sapiens & ILLUMINA & 2016-06-01T00:00:00Z & GSM1937453 & primary human blood cell from fresh sample & Mono & SRP066100\\\\\n",
       "\\end{tabular}\n"
      ],
      "text/markdown": [
       "\n",
       "A data.frame: 6 × 27\n",
       "\n",
       "| <!--/--> | Run &lt;chr&gt; | Assay.Type &lt;chr&gt; | AvgSpotLen &lt;int&gt; | Bases &lt;dbl&gt; | BioProject &lt;chr&gt; | BioSample &lt;chr&gt; | Bytes &lt;dbl&gt; | Cell_type &lt;chr&gt; | Center.Name &lt;chr&gt; | Consent &lt;chr&gt; | ⋯ ⋯ | LibraryLayout &lt;chr&gt; | LibrarySelection &lt;chr&gt; | LibrarySource &lt;chr&gt; | Organism &lt;chr&gt; | Platform &lt;chr&gt; | ReleaseDate &lt;chr&gt; | Sample.Name &lt;chr&gt; | sample_type &lt;chr&gt; | source_name &lt;chr&gt; | SRA.Study &lt;chr&gt; |\n",
       "|---|---|---|---|---|---|---|---|---|---|---|---|---|---|---|---|---|---|---|---|---|---|\n",
       "| 1 | SRR2920475 | OTHER | 152 | 1276139712 | PRJNA301969 | SAMN04262115 |  504572193 | CD14+ monocyte cell | GEO | public | ⋯ | PAIRED | other | GENOMIC | Homo sapiens | ILLUMINA | 2016-06-01T00:00:00Z | GSM1937385 | primary human blood cell from fresh sample | Mono | SRP066100 |\n",
       "| 2 | SRR2920488 | OTHER | 152 | 2481512024 | PRJNA301969 | SAMN04262081 | 1142311304 | CD14+ monocyte cell | GEO | public | ⋯ | PAIRED | other | GENOMIC | Homo sapiens | ILLUMINA | 2016-06-01T00:00:00Z | GSM1937398 | primary human blood cell from fresh sample | Mono | SRP066100 |\n",
       "| 3 | SRR2920476 | OTHER | 152 | 1160170856 | PRJNA301969 | SAMN04262116 |  460332567 | CD14+ monocyte cell | GEO | public | ⋯ | PAIRED | other | GENOMIC | Homo sapiens | ILLUMINA | 2016-06-01T00:00:00Z | GSM1937386 | primary human blood cell from fresh sample | Mono | SRP066100 |\n",
       "| 4 | SRR2920487 | OTHER | 152 | 2625527768 | PRJNA301969 | SAMN04262080 | 1207718672 | CD14+ monocyte cell | GEO | public | ⋯ | PAIRED | other | GENOMIC | Homo sapiens | ILLUMINA | 2016-06-01T00:00:00Z | GSM1937397 | primary human blood cell from fresh sample | Mono | SRP066100 |\n",
       "| 5 | SRR2920542 | OTHER | 152 | 5824919376 | PRJNA301969 | SAMN04262124 | 2888818006 | CD14+ monocyte cell | GEO | public | ⋯ | PAIRED | other | GENOMIC | Homo sapiens | ILLUMINA | 2016-06-01T00:00:00Z | GSM1937452 | primary human blood cell from fresh sample | Mono | SRP066100 |\n",
       "| 6 | SRR2920543 | OTHER | 152 | 7468277560 | PRJNA301969 | SAMN04262125 | 3655086815 | CD14+ monocyte cell | GEO | public | ⋯ | PAIRED | other | GENOMIC | Homo sapiens | ILLUMINA | 2016-06-01T00:00:00Z | GSM1937453 | primary human blood cell from fresh sample | Mono | SRP066100 |\n",
       "\n"
      ],
      "text/plain": [
       "  Run        Assay.Type AvgSpotLen Bases      BioProject  BioSample   \n",
       "1 SRR2920475 OTHER      152        1276139712 PRJNA301969 SAMN04262115\n",
       "2 SRR2920488 OTHER      152        2481512024 PRJNA301969 SAMN04262081\n",
       "3 SRR2920476 OTHER      152        1160170856 PRJNA301969 SAMN04262116\n",
       "4 SRR2920487 OTHER      152        2625527768 PRJNA301969 SAMN04262080\n",
       "5 SRR2920542 OTHER      152        5824919376 PRJNA301969 SAMN04262124\n",
       "6 SRR2920543 OTHER      152        7468277560 PRJNA301969 SAMN04262125\n",
       "  Bytes      Cell_type           Center.Name Consent ⋯ LibraryLayout\n",
       "1  504572193 CD14+ monocyte cell GEO         public  ⋯ PAIRED       \n",
       "2 1142311304 CD14+ monocyte cell GEO         public  ⋯ PAIRED       \n",
       "3  460332567 CD14+ monocyte cell GEO         public  ⋯ PAIRED       \n",
       "4 1207718672 CD14+ monocyte cell GEO         public  ⋯ PAIRED       \n",
       "5 2888818006 CD14+ monocyte cell GEO         public  ⋯ PAIRED       \n",
       "6 3655086815 CD14+ monocyte cell GEO         public  ⋯ PAIRED       \n",
       "  LibrarySelection LibrarySource Organism     Platform ReleaseDate         \n",
       "1 other            GENOMIC       Homo sapiens ILLUMINA 2016-06-01T00:00:00Z\n",
       "2 other            GENOMIC       Homo sapiens ILLUMINA 2016-06-01T00:00:00Z\n",
       "3 other            GENOMIC       Homo sapiens ILLUMINA 2016-06-01T00:00:00Z\n",
       "4 other            GENOMIC       Homo sapiens ILLUMINA 2016-06-01T00:00:00Z\n",
       "5 other            GENOMIC       Homo sapiens ILLUMINA 2016-06-01T00:00:00Z\n",
       "6 other            GENOMIC       Homo sapiens ILLUMINA 2016-06-01T00:00:00Z\n",
       "  Sample.Name sample_type                                source_name SRA.Study\n",
       "1 GSM1937385  primary human blood cell from fresh sample Mono        SRP066100\n",
       "2 GSM1937398  primary human blood cell from fresh sample Mono        SRP066100\n",
       "3 GSM1937386  primary human blood cell from fresh sample Mono        SRP066100\n",
       "4 GSM1937397  primary human blood cell from fresh sample Mono        SRP066100\n",
       "5 GSM1937452  primary human blood cell from fresh sample Mono        SRP066100\n",
       "6 GSM1937453  primary human blood cell from fresh sample Mono        SRP066100"
      ]
     },
     "metadata": {},
     "output_type": "display_data"
    }
   ],
   "source": [
    "head(meta)"
   ]
  },
  {
   "cell_type": "code",
   "execution_count": 34,
   "id": "bdcaad07-4b89-4b32-a1c4-8f3fbb6529c4",
   "metadata": {},
   "outputs": [
    {
     "data": {
      "text/html": [
       "<style>\n",
       ".list-inline {list-style: none; margin:0; padding: 0}\n",
       ".list-inline>li {display: inline-block}\n",
       ".list-inline>li:not(:last-child)::after {content: \"\\00b7\"; padding: 0 .5ex}\n",
       "</style>\n",
       "<ol class=list-inline><li>'Run'</li><li>'Assay.Type'</li><li>'AvgSpotLen'</li><li>'Bases'</li><li>'BioProject'</li><li>'BioSample'</li><li>'Bytes'</li><li>'Cell_type'</li><li>'Center.Name'</li><li>'Consent'</li><li>'DATASTORE.filetype'</li><li>'DATASTORE.provider'</li><li>'DATASTORE.region'</li><li>'donorid'</li><li>'Experiment'</li><li>'GEO_Accession..exp.'</li><li>'Instrument'</li><li>'LibraryLayout'</li><li>'LibrarySelection'</li><li>'LibrarySource'</li><li>'Organism'</li><li>'Platform'</li><li>'ReleaseDate'</li><li>'Sample.Name'</li><li>'sample_type'</li><li>'source_name'</li><li>'SRA.Study'</li></ol>\n"
      ],
      "text/latex": [
       "\\begin{enumerate*}\n",
       "\\item 'Run'\n",
       "\\item 'Assay.Type'\n",
       "\\item 'AvgSpotLen'\n",
       "\\item 'Bases'\n",
       "\\item 'BioProject'\n",
       "\\item 'BioSample'\n",
       "\\item 'Bytes'\n",
       "\\item 'Cell\\_type'\n",
       "\\item 'Center.Name'\n",
       "\\item 'Consent'\n",
       "\\item 'DATASTORE.filetype'\n",
       "\\item 'DATASTORE.provider'\n",
       "\\item 'DATASTORE.region'\n",
       "\\item 'donorid'\n",
       "\\item 'Experiment'\n",
       "\\item 'GEO\\_Accession..exp.'\n",
       "\\item 'Instrument'\n",
       "\\item 'LibraryLayout'\n",
       "\\item 'LibrarySelection'\n",
       "\\item 'LibrarySource'\n",
       "\\item 'Organism'\n",
       "\\item 'Platform'\n",
       "\\item 'ReleaseDate'\n",
       "\\item 'Sample.Name'\n",
       "\\item 'sample\\_type'\n",
       "\\item 'source\\_name'\n",
       "\\item 'SRA.Study'\n",
       "\\end{enumerate*}\n"
      ],
      "text/markdown": [
       "1. 'Run'\n",
       "2. 'Assay.Type'\n",
       "3. 'AvgSpotLen'\n",
       "4. 'Bases'\n",
       "5. 'BioProject'\n",
       "6. 'BioSample'\n",
       "7. 'Bytes'\n",
       "8. 'Cell_type'\n",
       "9. 'Center.Name'\n",
       "10. 'Consent'\n",
       "11. 'DATASTORE.filetype'\n",
       "12. 'DATASTORE.provider'\n",
       "13. 'DATASTORE.region'\n",
       "14. 'donorid'\n",
       "15. 'Experiment'\n",
       "16. 'GEO_Accession..exp.'\n",
       "17. 'Instrument'\n",
       "18. 'LibraryLayout'\n",
       "19. 'LibrarySelection'\n",
       "20. 'LibrarySource'\n",
       "21. 'Organism'\n",
       "22. 'Platform'\n",
       "23. 'ReleaseDate'\n",
       "24. 'Sample.Name'\n",
       "25. 'sample_type'\n",
       "26. 'source_name'\n",
       "27. 'SRA.Study'\n",
       "\n",
       "\n"
      ],
      "text/plain": [
       " [1] \"Run\"                 \"Assay.Type\"          \"AvgSpotLen\"         \n",
       " [4] \"Bases\"               \"BioProject\"          \"BioSample\"          \n",
       " [7] \"Bytes\"               \"Cell_type\"           \"Center.Name\"        \n",
       "[10] \"Consent\"             \"DATASTORE.filetype\"  \"DATASTORE.provider\" \n",
       "[13] \"DATASTORE.region\"    \"donorid\"             \"Experiment\"         \n",
       "[16] \"GEO_Accession..exp.\" \"Instrument\"          \"LibraryLayout\"      \n",
       "[19] \"LibrarySelection\"    \"LibrarySource\"       \"Organism\"           \n",
       "[22] \"Platform\"            \"ReleaseDate\"         \"Sample.Name\"        \n",
       "[25] \"sample_type\"         \"source_name\"         \"SRA.Study\"          "
      ]
     },
     "metadata": {},
     "output_type": "display_data"
    }
   ],
   "source": [
    "colnames(meta)"
   ]
  },
  {
   "cell_type": "markdown",
   "id": "88de1b84-9b0c-40da-adcd-1865ce00bb13",
   "metadata": {},
   "source": [
    "### Basic Information about Data"
   ]
  },
  {
   "cell_type": "markdown",
   "id": "d8c799d1-be0c-456d-87b7-8d21509ace66",
   "metadata": {},
   "source": [
    "There are 6 ATAC-Seq samples from the Corces *et al.* study."
   ]
  },
  {
   "cell_type": "code",
   "execution_count": 35,
   "id": "f4cbd73c-22f6-4c01-98e8-bfe753d42944",
   "metadata": {},
   "outputs": [
    {
     "data": {
      "text/html": [
       "6"
      ],
      "text/latex": [
       "6"
      ],
      "text/markdown": [
       "6"
      ],
      "text/plain": [
       "[1] 6"
      ]
     },
     "metadata": {},
     "output_type": "display_data"
    }
   ],
   "source": [
    "nrow(meta)"
   ]
  },
  {
   "cell_type": "markdown",
   "id": "d49e24a1-31ed-42f4-ac08-72a29a402ce6",
   "metadata": {},
   "source": [
    "NextSeq 500 was used for sequencing, with 150 bp reads."
   ]
  },
  {
   "cell_type": "code",
   "execution_count": 36,
   "id": "1dc2028d-7cbe-4b73-b7c5-375b7a38c6a6",
   "metadata": {},
   "outputs": [
    {
     "data": {
      "text/plain": [
       "\n",
       "NextSeq 500 \n",
       "          6 "
      ]
     },
     "metadata": {},
     "output_type": "display_data"
    },
    {
     "data": {
      "text/plain": [
       "\n",
       "PAIRED \n",
       "     6 "
      ]
     },
     "metadata": {},
     "output_type": "display_data"
    },
    {
     "data": {
      "text/plain": [
       "\n",
       "other \n",
       "    6 "
      ]
     },
     "metadata": {},
     "output_type": "display_data"
    },
    {
     "data": {
      "text/plain": [
       "\n",
       "GENOMIC \n",
       "      6 "
      ]
     },
     "metadata": {},
     "output_type": "display_data"
    },
    {
     "data": {
      "text/plain": [
       "\n",
       "ILLUMINA \n",
       "       6 "
      ]
     },
     "metadata": {},
     "output_type": "display_data"
    }
   ],
   "source": [
    "table(meta$Instrument)\n",
    "table(meta$LibraryLayout)\n",
    "table(meta$LibrarySelection)\n",
    "table(meta$LibrarySource)\n",
    "table(meta$Platform)"
   ]
  },
  {
   "cell_type": "code",
   "execution_count": 38,
   "id": "f736ade9-e278-462f-9104-a3f8b9511723",
   "metadata": {},
   "outputs": [
    {
     "data": {
      "text/plain": [
       "\n",
       "152 \n",
       "  6 "
      ]
     },
     "metadata": {},
     "output_type": "display_data"
    }
   ],
   "source": [
    "table(meta$AvgSpotLen)"
   ]
  },
  {
   "cell_type": "code",
   "execution_count": 37,
   "id": "5f8c9226-e2ab-4a8c-96e3-f5434d3b95b7",
   "metadata": {},
   "outputs": [
    {
     "data": {
      "image/png": "[encoded data removed]",
      "text/plain": [
       "plot without title"
      ]
     },
     "metadata": {
      "image/png": {
       "height": 420,
       "width": 420
      }
     },
     "output_type": "display_data"
    }
   ],
   "source": [
    "meta %>%\n",
    "    ggplot() +\n",
    "    geom_histogram(aes(x=AvgSpotLen, fill=Instrument), binwidth=10) +\n",
    "    scale_fill_brewer(palette=\"Pastel1\") +\n",
    "    ggplot_theme"
   ]
  },
  {
   "cell_type": "markdown",
   "id": "c018bc50-3111-48f7-a5dd-d3319083e252",
   "metadata": {},
   "source": [
    "The samples were generated from 3 donors."
   ]
  },
  {
   "cell_type": "code",
   "execution_count": 40,
   "id": "55052459-1200-4ba3-911c-c86d8c28be3e",
   "metadata": {},
   "outputs": [
    {
     "data": {
      "text/html": [
       "3"
      ],
      "text/latex": [
       "3"
      ],
      "text/markdown": [
       "3"
      ],
      "text/plain": [
       "[1] 3"
      ]
     },
     "metadata": {},
     "output_type": "display_data"
    },
    {
     "data": {
      "text/plain": [
       "\n",
       "4983 6792 7256 \n",
       "   2    2    2 "
      ]
     },
     "metadata": {},
     "output_type": "display_data"
    }
   ],
   "source": [
    "length(unique(meta$donor))\n",
    "table(meta$donor)"
   ]
  },
  {
   "cell_type": "markdown",
   "id": "0c4a07dc-c563-4f8f-a1bd-349d3208afcb",
   "metadata": {
    "tags": []
   },
   "source": [
    "## Ram-Mohan *et al.*"
   ]
  },
  {
   "cell_type": "markdown",
   "id": "10746875-1310-4759-84e4-b91e590045e0",
   "metadata": {},
   "source": [
    "### Load Data"
   ]
  },
  {
   "cell_type": "code",
   "execution_count": 15,
   "id": "63bae7c5-e350-4a10-a300-24c3a929f79a",
   "metadata": {},
   "outputs": [],
   "source": [
    "meta <- read.csv(\"03_Functional_Interpretation/metadata/reads_ram_mohan_et_al_atac_seq.txt\")"
   ]
  },
  {
   "cell_type": "code",
   "execution_count": 16,
   "id": "b8a26a57-f4b4-4a1d-b61b-afa6f9fa4dde",
   "metadata": {},
   "outputs": [
    {
     "data": {
      "text/html": [
       "<table class=\"dataframe\">\n",
       "<caption>A data.frame: 6 × 31</caption>\n",
       "<thead>\n",
       "\t<tr><th></th><th scope=col>Run</th><th scope=col>Age</th><th scope=col>Assay.Type</th><th scope=col>AvgSpotLen</th><th scope=col>Bases</th><th scope=col>BIOMATERIAL_PROVIDER</th><th scope=col>BioProject</th><th scope=col>BioSample</th><th scope=col>BioSampleModel</th><th scope=col>Bytes</th><th scope=col>⋯</th><th scope=col>LibrarySelection</th><th scope=col>LibrarySource</th><th scope=col>Organism</th><th scope=col>Platform</th><th scope=col>ReleaseDate</th><th scope=col>Sample.Name</th><th scope=col>sex</th><th scope=col>SRA.Study</th><th scope=col>tissue</th><th scope=col>treatment</th></tr>\n",
       "\t<tr><th></th><th scope=col>&lt;chr&gt;</th><th scope=col>&lt;chr&gt;</th><th scope=col>&lt;chr&gt;</th><th scope=col>&lt;int&gt;</th><th scope=col>&lt;dbl&gt;</th><th scope=col>&lt;chr&gt;</th><th scope=col>&lt;chr&gt;</th><th scope=col>&lt;chr&gt;</th><th scope=col>&lt;chr&gt;</th><th scope=col>&lt;dbl&gt;</th><th scope=col>⋯</th><th scope=col>&lt;chr&gt;</th><th scope=col>&lt;chr&gt;</th><th scope=col>&lt;chr&gt;</th><th scope=col>&lt;chr&gt;</th><th scope=col>&lt;chr&gt;</th><th scope=col>&lt;chr&gt;</th><th scope=col>&lt;chr&gt;</th><th scope=col>&lt;chr&gt;</th><th scope=col>&lt;chr&gt;</th><th scope=col>&lt;chr&gt;</th></tr>\n",
       "</thead>\n",
       "<tbody>\n",
       "\t<tr><th scope=row>1</th><td>SRR11909913</td><td>30-40</td><td>ATAC-seq</td><td>152</td><td>1639433088</td><td>Yang Lab\\, Stanford Emergency Department</td><td>PRJNA636835</td><td>SAMN15086993</td><td>Human</td><td> 631956173</td><td>⋯</td><td>other</td><td>GENOMIC</td><td>Homo sapiens</td><td>ILLUMINA</td><td>2020-06-09T00:00:00Z</td><td>LPS-D1-2 </td><td>female</td><td>SRP265675</td><td>blood</td><td>LPS challenge Donor 1-2 </td></tr>\n",
       "\t<tr><th scope=row>2</th><td>SRR11909914</td><td>30-40</td><td>ATAC-seq</td><td>152</td><td>1662692432</td><td>Yang Lab\\, Stanford Emergency Department</td><td>PRJNA636835</td><td>SAMN15086992</td><td>Human</td><td> 634797370</td><td>⋯</td><td>other</td><td>GENOMIC</td><td>Homo sapiens</td><td>ILLUMINA</td><td>2020-06-09T00:00:00Z</td><td>LPS-D1-1 </td><td>female</td><td>SRP265675</td><td>blood</td><td>LPS challenge Donor 1-1 </td></tr>\n",
       "\t<tr><th scope=row>3</th><td>SRR11909915</td><td>30-40</td><td>ATAC-seq</td><td>152</td><td>2794089232</td><td>Yang Lab\\, Stanford Emergency Department</td><td>PRJNA636835</td><td>SAMN15087059</td><td>Human</td><td>1213021149</td><td>⋯</td><td>other</td><td>GENOMIC</td><td>Homo sapiens</td><td>ILLUMINA</td><td>2020-06-09T00:00:00Z</td><td>R848-D4-2</td><td>female</td><td>SRP265675</td><td>blood</td><td>R848 challenge Donor 4-2</td></tr>\n",
       "\t<tr><th scope=row>4</th><td>SRR11909916</td><td>30-40</td><td>ATAC-seq</td><td>152</td><td>2648579632</td><td>Yang Lab\\, Stanford Emergency Department</td><td>PRJNA636835</td><td>SAMN15087058</td><td>Human</td><td>1164278902</td><td>⋯</td><td>other</td><td>GENOMIC</td><td>Homo sapiens</td><td>ILLUMINA</td><td>2020-06-09T00:00:00Z</td><td>R848-D4-1</td><td>female</td><td>SRP265675</td><td>blood</td><td>R848 challenge Donor 4-1</td></tr>\n",
       "\t<tr><th scope=row>5</th><td>SRR11909917</td><td>30-40</td><td>ATAC-seq</td><td>152</td><td>3676962992</td><td>Yang Lab\\, Stanford Emergency Department</td><td>PRJNA636835</td><td>SAMN15087057</td><td>Human</td><td>1633085552</td><td>⋯</td><td>other</td><td>GENOMIC</td><td>Homo sapiens</td><td>ILLUMINA</td><td>2020-06-09T00:00:00Z</td><td>LTA-D4-2 </td><td>female</td><td>SRP265675</td><td>blood</td><td>LTA challenge Donor 4-2 </td></tr>\n",
       "\t<tr><th scope=row>6</th><td>SRR11909918</td><td>30-40</td><td>ATAC-seq</td><td>152</td><td>2640023248</td><td>Yang Lab\\, Stanford Emergency Department</td><td>PRJNA636835</td><td>SAMN15087056</td><td>Human</td><td>1139104723</td><td>⋯</td><td>other</td><td>GENOMIC</td><td>Homo sapiens</td><td>ILLUMINA</td><td>2020-06-09T00:00:00Z</td><td>LTA-D4-1 </td><td>female</td><td>SRP265675</td><td>blood</td><td>LTA challenge Donor 4-1 </td></tr>\n",
       "</tbody>\n",
       "</table>\n"
      ],
      "text/latex": [
       "A data.frame: 6 × 31\n",
       "\\begin{tabular}{r|lllllllllllllllllllll}\n",
       "  & Run & Age & Assay.Type & AvgSpotLen & Bases & BIOMATERIAL\\_PROVIDER & BioProject & BioSample & BioSampleModel & Bytes & ⋯ & LibrarySelection & LibrarySource & Organism & Platform & ReleaseDate & Sample.Name & sex & SRA.Study & tissue & treatment\\\\\n",
       "  & <chr> & <chr> & <chr> & <int> & <dbl> & <chr> & <chr> & <chr> & <chr> & <dbl> & ⋯ & <chr> & <chr> & <chr> & <chr> & <chr> & <chr> & <chr> & <chr> & <chr> & <chr>\\\\\n",
       "\\hline\n",
       "\t1 & SRR11909913 & 30-40 & ATAC-seq & 152 & 1639433088 & Yang Lab\\textbackslash{}, Stanford Emergency Department & PRJNA636835 & SAMN15086993 & Human &  631956173 & ⋯ & other & GENOMIC & Homo sapiens & ILLUMINA & 2020-06-09T00:00:00Z & LPS-D1-2  & female & SRP265675 & blood & LPS challenge Donor 1-2 \\\\\n",
       "\t2 & SRR11909914 & 30-40 & ATAC-seq & 152 & 1662692432 & Yang Lab\\textbackslash{}, Stanford Emergency Department & PRJNA636835 & SAMN15086992 & Human &  634797370 & ⋯ & other & GENOMIC & Homo sapiens & ILLUMINA & 2020-06-09T00:00:00Z & LPS-D1-1  & female & SRP265675 & blood & LPS challenge Donor 1-1 \\\\\n",
       "\t3 & SRR11909915 & 30-40 & ATAC-seq & 152 & 2794089232 & Yang Lab\\textbackslash{}, Stanford Emergency Department & PRJNA636835 & SAMN15087059 & Human & 1213021149 & ⋯ & other & GENOMIC & Homo sapiens & ILLUMINA & 2020-06-09T00:00:00Z & R848-D4-2 & female & SRP265675 & blood & R848 challenge Donor 4-2\\\\\n",
       "\t4 & SRR11909916 & 30-40 & ATAC-seq & 152 & 2648579632 & Yang Lab\\textbackslash{}, Stanford Emergency Department & PRJNA636835 & SAMN15087058 & Human & 1164278902 & ⋯ & other & GENOMIC & Homo sapiens & ILLUMINA & 2020-06-09T00:00:00Z & R848-D4-1 & female & SRP265675 & blood & R848 challenge Donor 4-1\\\\\n",
       "\t5 & SRR11909917 & 30-40 & ATAC-seq & 152 & 3676962992 & Yang Lab\\textbackslash{}, Stanford Emergency Department & PRJNA636835 & SAMN15087057 & Human & 1633085552 & ⋯ & other & GENOMIC & Homo sapiens & ILLUMINA & 2020-06-09T00:00:00Z & LTA-D4-2  & female & SRP265675 & blood & LTA challenge Donor 4-2 \\\\\n",
       "\t6 & SRR11909918 & 30-40 & ATAC-seq & 152 & 2640023248 & Yang Lab\\textbackslash{}, Stanford Emergency Department & PRJNA636835 & SAMN15087056 & Human & 1139104723 & ⋯ & other & GENOMIC & Homo sapiens & ILLUMINA & 2020-06-09T00:00:00Z & LTA-D4-1  & female & SRP265675 & blood & LTA challenge Donor 4-1 \\\\\n",
       "\\end{tabular}\n"
      ],
      "text/markdown": [
       "\n",
       "A data.frame: 6 × 31\n",
       "\n",
       "| <!--/--> | Run &lt;chr&gt; | Age &lt;chr&gt; | Assay.Type &lt;chr&gt; | AvgSpotLen &lt;int&gt; | Bases &lt;dbl&gt; | BIOMATERIAL_PROVIDER &lt;chr&gt; | BioProject &lt;chr&gt; | BioSample &lt;chr&gt; | BioSampleModel &lt;chr&gt; | Bytes &lt;dbl&gt; | ⋯ ⋯ | LibrarySelection &lt;chr&gt; | LibrarySource &lt;chr&gt; | Organism &lt;chr&gt; | Platform &lt;chr&gt; | ReleaseDate &lt;chr&gt; | Sample.Name &lt;chr&gt; | sex &lt;chr&gt; | SRA.Study &lt;chr&gt; | tissue &lt;chr&gt; | treatment &lt;chr&gt; |\n",
       "|---|---|---|---|---|---|---|---|---|---|---|---|---|---|---|---|---|---|---|---|---|---|\n",
       "| 1 | SRR11909913 | 30-40 | ATAC-seq | 152 | 1639433088 | Yang Lab\\, Stanford Emergency Department | PRJNA636835 | SAMN15086993 | Human |  631956173 | ⋯ | other | GENOMIC | Homo sapiens | ILLUMINA | 2020-06-09T00:00:00Z | LPS-D1-2  | female | SRP265675 | blood | LPS challenge Donor 1-2  |\n",
       "| 2 | SRR11909914 | 30-40 | ATAC-seq | 152 | 1662692432 | Yang Lab\\, Stanford Emergency Department | PRJNA636835 | SAMN15086992 | Human |  634797370 | ⋯ | other | GENOMIC | Homo sapiens | ILLUMINA | 2020-06-09T00:00:00Z | LPS-D1-1  | female | SRP265675 | blood | LPS challenge Donor 1-1  |\n",
       "| 3 | SRR11909915 | 30-40 | ATAC-seq | 152 | 2794089232 | Yang Lab\\, Stanford Emergency Department | PRJNA636835 | SAMN15087059 | Human | 1213021149 | ⋯ | other | GENOMIC | Homo sapiens | ILLUMINA | 2020-06-09T00:00:00Z | R848-D4-2 | female | SRP265675 | blood | R848 challenge Donor 4-2 |\n",
       "| 4 | SRR11909916 | 30-40 | ATAC-seq | 152 | 2648579632 | Yang Lab\\, Stanford Emergency Department | PRJNA636835 | SAMN15087058 | Human | 1164278902 | ⋯ | other | GENOMIC | Homo sapiens | ILLUMINA | 2020-06-09T00:00:00Z | R848-D4-1 | female | SRP265675 | blood | R848 challenge Donor 4-1 |\n",
       "| 5 | SRR11909917 | 30-40 | ATAC-seq | 152 | 3676962992 | Yang Lab\\, Stanford Emergency Department | PRJNA636835 | SAMN15087057 | Human | 1633085552 | ⋯ | other | GENOMIC | Homo sapiens | ILLUMINA | 2020-06-09T00:00:00Z | LTA-D4-2  | female | SRP265675 | blood | LTA challenge Donor 4-2  |\n",
       "| 6 | SRR11909918 | 30-40 | ATAC-seq | 152 | 2640023248 | Yang Lab\\, Stanford Emergency Department | PRJNA636835 | SAMN15087056 | Human | 1139104723 | ⋯ | other | GENOMIC | Homo sapiens | ILLUMINA | 2020-06-09T00:00:00Z | LTA-D4-1  | female | SRP265675 | blood | LTA challenge Donor 4-1  |\n",
       "\n"
      ],
      "text/plain": [
       "  Run         Age   Assay.Type AvgSpotLen Bases     \n",
       "1 SRR11909913 30-40 ATAC-seq   152        1639433088\n",
       "2 SRR11909914 30-40 ATAC-seq   152        1662692432\n",
       "3 SRR11909915 30-40 ATAC-seq   152        2794089232\n",
       "4 SRR11909916 30-40 ATAC-seq   152        2648579632\n",
       "5 SRR11909917 30-40 ATAC-seq   152        3676962992\n",
       "6 SRR11909918 30-40 ATAC-seq   152        2640023248\n",
       "  BIOMATERIAL_PROVIDER                      BioProject  BioSample   \n",
       "1 Yang Lab\\\\, Stanford Emergency Department PRJNA636835 SAMN15086993\n",
       "2 Yang Lab\\\\, Stanford Emergency Department PRJNA636835 SAMN15086992\n",
       "3 Yang Lab\\\\, Stanford Emergency Department PRJNA636835 SAMN15087059\n",
       "4 Yang Lab\\\\, Stanford Emergency Department PRJNA636835 SAMN15087058\n",
       "5 Yang Lab\\\\, Stanford Emergency Department PRJNA636835 SAMN15087057\n",
       "6 Yang Lab\\\\, Stanford Emergency Department PRJNA636835 SAMN15087056\n",
       "  BioSampleModel Bytes      ⋯ LibrarySelection LibrarySource Organism    \n",
       "1 Human           631956173 ⋯ other            GENOMIC       Homo sapiens\n",
       "2 Human           634797370 ⋯ other            GENOMIC       Homo sapiens\n",
       "3 Human          1213021149 ⋯ other            GENOMIC       Homo sapiens\n",
       "4 Human          1164278902 ⋯ other            GENOMIC       Homo sapiens\n",
       "5 Human          1633085552 ⋯ other            GENOMIC       Homo sapiens\n",
       "6 Human          1139104723 ⋯ other            GENOMIC       Homo sapiens\n",
       "  Platform ReleaseDate          Sample.Name sex    SRA.Study tissue\n",
       "1 ILLUMINA 2020-06-09T00:00:00Z LPS-D1-2    female SRP265675 blood \n",
       "2 ILLUMINA 2020-06-09T00:00:00Z LPS-D1-1    female SRP265675 blood \n",
       "3 ILLUMINA 2020-06-09T00:00:00Z R848-D4-2   female SRP265675 blood \n",
       "4 ILLUMINA 2020-06-09T00:00:00Z R848-D4-1   female SRP265675 blood \n",
       "5 ILLUMINA 2020-06-09T00:00:00Z LTA-D4-2    female SRP265675 blood \n",
       "6 ILLUMINA 2020-06-09T00:00:00Z LTA-D4-1    female SRP265675 blood \n",
       "  treatment               \n",
       "1 LPS challenge Donor 1-2 \n",
       "2 LPS challenge Donor 1-1 \n",
       "3 R848 challenge Donor 4-2\n",
       "4 R848 challenge Donor 4-1\n",
       "5 LTA challenge Donor 4-2 \n",
       "6 LTA challenge Donor 4-1 "
      ]
     },
     "metadata": {},
     "output_type": "display_data"
    }
   ],
   "source": [
    "head(meta)"
   ]
  },
  {
   "cell_type": "code",
   "execution_count": 17,
   "id": "580b4c69-6986-4ec4-93f5-5336505ef36a",
   "metadata": {},
   "outputs": [
    {
     "data": {
      "text/html": [
       "<style>\n",
       ".list-inline {list-style: none; margin:0; padding: 0}\n",
       ".list-inline>li {display: inline-block}\n",
       ".list-inline>li:not(:last-child)::after {content: \"\\00b7\"; padding: 0 .5ex}\n",
       "</style>\n",
       "<ol class=list-inline><li>'Run'</li><li>'Age'</li><li>'Assay.Type'</li><li>'AvgSpotLen'</li><li>'Bases'</li><li>'BIOMATERIAL_PROVIDER'</li><li>'BioProject'</li><li>'BioSample'</li><li>'BioSampleModel'</li><li>'Bytes'</li><li>'Cell_type'</li><li>'Center.Name'</li><li>'Consent'</li><li>'DATASTORE.filetype'</li><li>'DATASTORE.provider'</li><li>'DATASTORE.region'</li><li>'Experiment'</li><li>'Instrument'</li><li>'Isolate'</li><li>'Library.Name'</li><li>'LibraryLayout'</li><li>'LibrarySelection'</li><li>'LibrarySource'</li><li>'Organism'</li><li>'Platform'</li><li>'ReleaseDate'</li><li>'Sample.Name'</li><li>'sex'</li><li>'SRA.Study'</li><li>'tissue'</li><li>'treatment'</li></ol>\n"
      ],
      "text/latex": [
       "\\begin{enumerate*}\n",
       "\\item 'Run'\n",
       "\\item 'Age'\n",
       "\\item 'Assay.Type'\n",
       "\\item 'AvgSpotLen'\n",
       "\\item 'Bases'\n",
       "\\item 'BIOMATERIAL\\_PROVIDER'\n",
       "\\item 'BioProject'\n",
       "\\item 'BioSample'\n",
       "\\item 'BioSampleModel'\n",
       "\\item 'Bytes'\n",
       "\\item 'Cell\\_type'\n",
       "\\item 'Center.Name'\n",
       "\\item 'Consent'\n",
       "\\item 'DATASTORE.filetype'\n",
       "\\item 'DATASTORE.provider'\n",
       "\\item 'DATASTORE.region'\n",
       "\\item 'Experiment'\n",
       "\\item 'Instrument'\n",
       "\\item 'Isolate'\n",
       "\\item 'Library.Name'\n",
       "\\item 'LibraryLayout'\n",
       "\\item 'LibrarySelection'\n",
       "\\item 'LibrarySource'\n",
       "\\item 'Organism'\n",
       "\\item 'Platform'\n",
       "\\item 'ReleaseDate'\n",
       "\\item 'Sample.Name'\n",
       "\\item 'sex'\n",
       "\\item 'SRA.Study'\n",
       "\\item 'tissue'\n",
       "\\item 'treatment'\n",
       "\\end{enumerate*}\n"
      ],
      "text/markdown": [
       "1. 'Run'\n",
       "2. 'Age'\n",
       "3. 'Assay.Type'\n",
       "4. 'AvgSpotLen'\n",
       "5. 'Bases'\n",
       "6. 'BIOMATERIAL_PROVIDER'\n",
       "7. 'BioProject'\n",
       "8. 'BioSample'\n",
       "9. 'BioSampleModel'\n",
       "10. 'Bytes'\n",
       "11. 'Cell_type'\n",
       "12. 'Center.Name'\n",
       "13. 'Consent'\n",
       "14. 'DATASTORE.filetype'\n",
       "15. 'DATASTORE.provider'\n",
       "16. 'DATASTORE.region'\n",
       "17. 'Experiment'\n",
       "18. 'Instrument'\n",
       "19. 'Isolate'\n",
       "20. 'Library.Name'\n",
       "21. 'LibraryLayout'\n",
       "22. 'LibrarySelection'\n",
       "23. 'LibrarySource'\n",
       "24. 'Organism'\n",
       "25. 'Platform'\n",
       "26. 'ReleaseDate'\n",
       "27. 'Sample.Name'\n",
       "28. 'sex'\n",
       "29. 'SRA.Study'\n",
       "30. 'tissue'\n",
       "31. 'treatment'\n",
       "\n",
       "\n"
      ],
      "text/plain": [
       " [1] \"Run\"                  \"Age\"                  \"Assay.Type\"          \n",
       " [4] \"AvgSpotLen\"           \"Bases\"                \"BIOMATERIAL_PROVIDER\"\n",
       " [7] \"BioProject\"           \"BioSample\"            \"BioSampleModel\"      \n",
       "[10] \"Bytes\"                \"Cell_type\"            \"Center.Name\"         \n",
       "[13] \"Consent\"              \"DATASTORE.filetype\"   \"DATASTORE.provider\"  \n",
       "[16] \"DATASTORE.region\"     \"Experiment\"           \"Instrument\"          \n",
       "[19] \"Isolate\"              \"Library.Name\"         \"LibraryLayout\"       \n",
       "[22] \"LibrarySelection\"     \"LibrarySource\"        \"Organism\"            \n",
       "[25] \"Platform\"             \"ReleaseDate\"          \"Sample.Name\"         \n",
       "[28] \"sex\"                  \"SRA.Study\"            \"tissue\"              \n",
       "[31] \"treatment\"           "
      ]
     },
     "metadata": {},
     "output_type": "display_data"
    }
   ],
   "source": [
    "colnames(meta)"
   ]
  },
  {
   "cell_type": "markdown",
   "id": "e16903e2-fde5-428b-bbe4-789219fe87fb",
   "metadata": {},
   "source": [
    "### Basic Information about Data"
   ]
  },
  {
   "cell_type": "markdown",
   "id": "a144b7cd-6432-40a1-8f8d-f357f2e52109",
   "metadata": {},
   "source": [
    "There are 38 ATAC-Seq samples from the Ram-Mohan *et al.* study."
   ]
  },
  {
   "cell_type": "code",
   "execution_count": 22,
   "id": "e1b259a5-ad46-48cf-8672-ece57e20294c",
   "metadata": {},
   "outputs": [
    {
     "data": {
      "text/html": [
       "38"
      ],
      "text/latex": [
       "38"
      ],
      "text/markdown": [
       "38"
      ],
      "text/plain": [
       "[1] 38"
      ]
     },
     "metadata": {},
     "output_type": "display_data"
    }
   ],
   "source": [
    "length(unique(gsub(\"-[1,2]$\", \"\", meta$Sample.Name)))"
   ]
  },
  {
   "cell_type": "markdown",
   "id": "ee48fdaf-0791-4c46-81ee-b7d5f85ae889",
   "metadata": {},
   "source": [
    "All samples were run on an Illumina HiSeq X Ten. 150 bp reads were generated."
   ]
  },
  {
   "cell_type": "code",
   "execution_count": 23,
   "id": "236213ae-3d96-45d7-a0bf-8a783b6bcd4b",
   "metadata": {},
   "outputs": [
    {
     "data": {
      "text/plain": [
       "\n",
       "HiSeq X Ten \n",
       "         76 "
      ]
     },
     "metadata": {},
     "output_type": "display_data"
    },
    {
     "data": {
      "text/plain": [
       "\n",
       "PAIRED \n",
       "    76 "
      ]
     },
     "metadata": {},
     "output_type": "display_data"
    },
    {
     "data": {
      "text/plain": [
       "\n",
       "other \n",
       "   76 "
      ]
     },
     "metadata": {},
     "output_type": "display_data"
    },
    {
     "data": {
      "text/plain": [
       "\n",
       "GENOMIC \n",
       "     76 "
      ]
     },
     "metadata": {},
     "output_type": "display_data"
    },
    {
     "data": {
      "text/plain": [
       "\n",
       "ILLUMINA \n",
       "      76 "
      ]
     },
     "metadata": {},
     "output_type": "display_data"
    }
   ],
   "source": [
    "table(meta$Instrument)\n",
    "table(meta$LibraryLayout)\n",
    "table(meta$LibrarySelection)\n",
    "table(meta$LibrarySource)\n",
    "table(meta$Platform)"
   ]
  },
  {
   "cell_type": "code",
   "execution_count": 24,
   "id": "8cf1b762-4e57-44b0-87be-e4b6c55abae2",
   "metadata": {},
   "outputs": [
    {
     "data": {
      "image/png": "[encoded data removed]",
      "text/plain": [
       "plot without title"
      ]
     },
     "metadata": {
      "image/png": {
       "height": 420,
       "width": 420
      }
     },
     "output_type": "display_data"
    }
   ],
   "source": [
    "meta %>%\n",
    "    ggplot() +\n",
    "    geom_histogram(aes(x=AvgSpotLen, fill=Instrument), binwidth=10) +\n",
    "    scale_fill_brewer(palette=\"Pastel1\") +\n",
    "    ggplot_theme"
   ]
  },
  {
   "cell_type": "markdown",
   "id": "8c3da39a-c3f2-4aa0-adc2-20359548cd85",
   "metadata": {},
   "source": [
    "The samples were generated from 7 donors. 4 of the donors contributed to a large number of samples."
   ]
  },
  {
   "cell_type": "code",
   "execution_count": 27,
   "id": "57ecf831-9630-471e-80e3-8625fd92d319",
   "metadata": {},
   "outputs": [
    {
     "data": {
      "text/html": [
       "4"
      ],
      "text/latex": [
       "4"
      ],
      "text/markdown": [
       "4"
      ],
      "text/plain": [
       "[1] 4"
      ]
     },
     "metadata": {},
     "output_type": "display_data"
    },
    {
     "data": {
      "text/plain": [
       "\n",
       "D1 D2 D3 D4 \n",
       "30 18 14 14 "
      ]
     },
     "metadata": {},
     "output_type": "display_data"
    }
   ],
   "source": [
    "length(unique(meta$Isolate))\n",
    "table(meta$Isolate)"
   ]
  },
  {
   "cell_type": "code",
   "execution_count": null,
   "id": "0caeb659-078f-4c9b-a7cb-8e4a15780d79",
   "metadata": {},
   "outputs": [],
   "source": []
  }
 ],
 "metadata": {
  "kernelspec": {
   "display_name": "R",
   "language": "R",
   "name": "ir"
  },
  "language_info": {
   "codemirror_mode": "r",
   "file_extension": ".r",
   "mimetype": "text/x-r-source",
   "name": "R",
   "pygments_lexer": "r",
   "version": "4.0.5"
  }
 },
 "nbformat": 4,
 "nbformat_minor": 5
}
