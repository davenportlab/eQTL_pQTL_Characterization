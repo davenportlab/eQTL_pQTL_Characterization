{
 "cells": [
  {
   "cell_type": "markdown",
   "id": "260693df-074c-42ea-a92b-fa6e9485affa",
   "metadata": {},
   "source": [
    "# Scissors scRNA-Seq\n",
    "\n",
    "**Created**: 18 April 2022"
   ]
  },
  {
   "cell_type": "markdown",
   "id": "9a9db22d-9765-4cc9-829c-4dfffbb2da8f",
   "metadata": {},
   "source": [
    "## Environment"
   ]
  },
  {
   "cell_type": "code",
   "execution_count": 1,
   "id": "5d1580e3-0bff-48d9-80e1-0c996e8debaf",
   "metadata": {},
   "outputs": [
    {
     "name": "stderr",
     "output_type": "stream",
     "text": [
      "Skipping install of 'Scissor' from a github remote, the SHA1 (311560a1) has not changed since last install.\n",
      "  Use `force = TRUE` to force installation\n",
      "\n"
     ]
    }
   ],
   "source": [
    "if (!requireNamespace(\"Scissors\", quietly=TRUE)) {\n",
    "    devtools::install_github(\"sunduanchen/Scissor\")\n",
    "}\n",
    "\n",
    "if (!requireNamespace(\"reticulate\", quietly=TRUE)) {\n",
    "    install.packages(\"reticulate\")\n",
    "}\n",
    "\n",
    "if (!requireNamespace(\"lubridate\", quietly=TRUE)) {\n",
    "    install.packages(\"lubridate\")\n",
    "}"
   ]
  },
  {
   "cell_type": "code",
   "execution_count": 43,
   "id": "f076e803-a7ab-4d9e-a14e-a5768340b705",
   "metadata": {},
   "outputs": [],
   "source": [
    "library(reticulate)\n",
    "library(Seurat)\n",
    "library(SeuratDisk)\n",
    "library(Scissor)\n",
    "library(tidyverse)\n",
    "library(lubridate)\n",
    "\n",
    "setwd(\"~/eQTL_pQTL_Characterization/\")\n",
    "\n",
    "source(\"03_Functional_Interpretation/scripts/utils/ggplot_theme.R\")"
   ]
  },
  {
   "cell_type": "markdown",
   "id": "7350cd57-f9b4-484c-972b-618710b96461",
   "metadata": {},
   "source": [
    "## Load Data\n",
    "\n",
    "This data is from COMBAT, which is a recent compendium of single cell RNA-seq performed on peripheral blood mononuclear cells (PBMCs). The data contains healthy donors and septic patients."
   ]
  },
  {
   "cell_type": "code",
   "execution_count": 3,
   "id": "ef30642e-902f-492a-a0a8-4d5f73c9b341",
   "metadata": {},
   "outputs": [],
   "source": [
    "scanpy <- reticulate::import(\"scanpy\")"
   ]
  },
  {
   "cell_type": "code",
   "execution_count": 4,
   "id": "e072d955-987c-4ad0-be78-50cf2d5a4e2c",
   "metadata": {},
   "outputs": [],
   "source": [
    "combat.annot <- scanpy$read_h5ad(\"/nfs/users/nfs_n/nm18/gains_team282/nikhil/data/COMBAT/COMBAT-CITESeq-EXPRESSION-ATLAS.h5ad\")"
   ]
  },
  {
   "cell_type": "code",
   "execution_count": 30,
   "id": "cb00aa6c-9f24-48dc-88c5-8b3b62e8b2df",
   "metadata": {},
   "outputs": [],
   "source": [
    "expression <- t(combat.annot$X)\n",
    "colnames(expression) <- combat.annot$obs_names$to_list()\n",
    "rownames(expression) <- combat.annot$var_names$to_list()"
   ]
  },
  {
   "cell_type": "markdown",
   "id": "a9a81c37-eedb-46af-ad14-42e1f02c0092",
   "metadata": {},
   "source": [
    "Filter to only include gene expression features and convert to a matrix that can be processed by Seurat."
   ]
  },
  {
   "cell_type": "code",
   "execution_count": 31,
   "id": "36f8a152-d041-477e-9f03-6ec947fb10e1",
   "metadata": {
    "tags": []
   },
   "outputs": [],
   "source": [
    "expression <- expression[combat.annot$var$feature_types == \"Gene Expression\",]\n",
    "rownames(expression) <- combat.annot$var$gene_ids[combat.annot$var$feature_types == \"Gene Expression\"]\n",
    "expression <- as(expression, \"CsparseMatrix\")"
   ]
  },
  {
   "cell_type": "markdown",
   "id": "d89f4e92-fc19-4151-b61f-85f11afab6c5",
   "metadata": {},
   "source": [
    "Default pre-processing recommended by Scissor before using the Seurat object."
   ]
  },
  {
   "cell_type": "code",
   "execution_count": 32,
   "id": "0a111a0d-95fe-45b0-a3a8-33d4ab31d2fa",
   "metadata": {},
   "outputs": [
    {
     "name": "stderr",
     "output_type": "stream",
     "text": [
      "Warning message:\n",
      "“The new data doesn't have the same number of features as the current data”\n",
      "Warning message:\n",
      "“Adding features not currently present in the object”\n"
     ]
    }
   ],
   "source": [
    "combat <- CreateSeuratObject(expression, min.cells=400, min.features=0)\n",
    "combat <- NormalizeData(combat, normalization.method=\"LogNormalize\", scale.factor=10000, verbose=F)\n",
    "combat <- FindVariableFeatures(combat, selection.method=\"vst\", verbose=F)\n",
    "combat <- ScaleData(combat, verbose=F)\n",
    "combat <- RunPCA(combat, features=VariableFeatures(combat), verbose=F)\n",
    "combat <- FindNeighbors(combat, dims=1:10, verbose=F)\n",
    "combat <- AddMetaData(combat, combat.annot$obs)"
   ]
  },
  {
   "cell_type": "code",
   "execution_count": null,
   "id": "38c4ec67-4e7e-4cdb-8c11-d49bdf3625df",
   "metadata": {},
   "outputs": [],
   "source": [
    "rm(combat.annot)"
   ]
  },
  {
   "cell_type": "code",
   "execution_count": 33,
   "id": "8181f324-e200-4fd2-8671-ffafc9c5df68",
   "metadata": {},
   "outputs": [],
   "source": [
    "gene.exp <- read.table(\"/lustre/scratch119/humgen/projects/gains_team282/eqtl/data/logcpm_864_20412_hla.txt\")\n",
    "sample.info <- read.table(\"/nfs/team282/data/gains_team282/Sample_info_864.txt\")\n",
    "sample.key <- read.table(\"/nfs/team282/data/gains_team282/Sample_key.txt\", header=T)\n",
    "\n",
    "colnames(gene.exp) <- gsub(\"^GA\", \"\", colnames(gene.exp))\n",
    "\n",
    "sample.info <- sample.info %>%\n",
    "    dplyr::mutate(supplier_name=gsub(\"^GA\", \"\", supplier_name)) %>%\n",
    "    dplyr::filter(supplier_name %in% colnames(gene.exp)) %>%\n",
    "    dplyr::mutate(Time.Point=as.numeric(gsub(\"^.*_\", \"\", supplier_name)))\n",
    "\n",
    "rownames(sample.info) <- sample.info$supplier_name\n",
    "sample.info <- sample.info[colnames(gene.exp),]"
   ]
  },
  {
   "cell_type": "code",
   "execution_count": 34,
   "id": "c3a95a0d-444a-436c-8e7f-b9c30f03a4e5",
   "metadata": {},
   "outputs": [
    {
     "data": {
      "text/html": [
       "<table class=\"dataframe\">\n",
       "<caption>A data.frame: 6 × 864</caption>\n",
       "<thead>\n",
       "\t<tr><th></th><th scope=col>UK02270173_3</th><th scope=col>UK15130120_3</th><th scope=col>UK58000006_3</th><th scope=col>UK47010004_3</th><th scope=col>UK42020088_5</th><th scope=col>UK47490007_3</th><th scope=col>UK02770164_3</th><th scope=col>UK02770164_5</th><th scope=col>UK02630151_3</th><th scope=col>UK42150107_1</th><th scope=col>⋯</th><th scope=col>UK59070043_3</th><th scope=col>UK59070043_5</th><th scope=col>UK02510223_3</th><th scope=col>UK02XX0336_5</th><th scope=col>UK29090086_3</th><th scope=col>UK02XX0335_1</th><th scope=col>UK02XX0334_3</th><th scope=col>UK01210130_3</th><th scope=col>UK01210130_5</th><th scope=col>UK01380125_1</th></tr>\n",
       "\t<tr><th></th><th scope=col>&lt;dbl&gt;</th><th scope=col>&lt;dbl&gt;</th><th scope=col>&lt;dbl&gt;</th><th scope=col>&lt;dbl&gt;</th><th scope=col>&lt;dbl&gt;</th><th scope=col>&lt;dbl&gt;</th><th scope=col>&lt;dbl&gt;</th><th scope=col>&lt;dbl&gt;</th><th scope=col>&lt;dbl&gt;</th><th scope=col>&lt;dbl&gt;</th><th scope=col>⋯</th><th scope=col>&lt;dbl&gt;</th><th scope=col>&lt;dbl&gt;</th><th scope=col>&lt;dbl&gt;</th><th scope=col>&lt;dbl&gt;</th><th scope=col>&lt;dbl&gt;</th><th scope=col>&lt;dbl&gt;</th><th scope=col>&lt;dbl&gt;</th><th scope=col>&lt;dbl&gt;</th><th scope=col>&lt;dbl&gt;</th><th scope=col>&lt;dbl&gt;</th></tr>\n",
       "</thead>\n",
       "<tbody>\n",
       "\t<tr><th scope=row>ENSG00000230521</th><td>0.6644339</td><td>0.58271604</td><td>0.4046756</td><td>0.20905157</td><td>0.2211571</td><td>0.4288519</td><td>0.5133516</td><td>0.57768877</td><td>0.6990766</td><td>0.3812037</td><td>⋯</td><td>0.3823184</td><td>0.5423684</td><td>0.86762630</td><td>0.73833461</td><td>0.6461583</td><td>0.1227063</td><td>0.9621386</td><td>0.65838459</td><td>1.03561474</td><td>0.4457301</td></tr>\n",
       "\t<tr><th scope=row>ENSG00000225864</th><td>0.9817872</td><td>0.43879936</td><td>0.6022344</td><td>0.92340489</td><td>0.2211571</td><td>1.1450686</td><td>0.1921362</td><td>0.57768877</td><td>0.1974851</td><td>1.2290495</td><td>⋯</td><td>0.6842527</td><td>0.8539227</td><td>0.91886777</td><td>0.12581620</td><td>0.5511865</td><td>0.4384007</td><td>0.5465139</td><td>0.40803066</td><td>0.46899151</td><td>0.3544115</td></tr>\n",
       "\t<tr><th scope=row>ENSG00000227766</th><td>1.2117156</td><td>0.30682669</td><td>0.6625010</td><td>0.79963286</td><td>0.6445686</td><td>0.3130290</td><td>0.1183231</td><td>0.16750450</td><td>0.1505900</td><td>1.0533199</td><td>⋯</td><td>0.4901384</td><td>0.4340781</td><td>0.37504164</td><td>0.04316943</td><td>0.6151905</td><td>0.3406488</td><td>0.3147798</td><td>0.43511377</td><td>0.17382742</td><td>0.1157514</td></tr>\n",
       "\t<tr><th scope=row>ENSG00000237669</th><td>0.6420763</td><td>0.69256830</td><td>0.9792012</td><td>0.69929584</td><td>0.3765156</td><td>1.0756817</td><td>0.8912050</td><td>0.60129641</td><td>0.8534668</td><td>1.0533199</td><td>⋯</td><td>1.0790156</td><td>0.6102946</td><td>1.03953331</td><td>0.97965846</td><td>0.7061683</td><td>0.7489857</td><td>0.7919934</td><td>0.85168813</td><td>0.69120049</td><td>1.0798771</td></tr>\n",
       "\t<tr><th scope=row>ENSG00000271581</th><td>2.4744895</td><td>1.33153140</td><td>1.8310464</td><td>2.47531701</td><td>1.8812042</td><td>2.0531366</td><td>0.5972544</td><td>1.00686213</td><td>1.2811361</td><td>2.4244938</td><td>⋯</td><td>2.4728831</td><td>1.5338898</td><td>1.59080138</td><td>0.62923925</td><td>1.2804253</td><td>1.4727511</td><td>1.2187650</td><td>1.46471386</td><td>1.44139443</td><td>1.1896250</td></tr>\n",
       "\t<tr><th scope=row>ENSG00000285647</th><td>0.0000000</td><td>0.03379072</td><td>0.0000000</td><td>0.05517067</td><td>0.6748270</td><td>0.0000000</td><td>0.0000000</td><td>0.03509293</td><td>0.6990766</td><td>1.6556266</td><td>⋯</td><td>3.4117627</td><td>2.4012963</td><td>0.04682116</td><td>0.00000000</td><td>0.0000000</td><td>0.4695662</td><td>0.3762952</td><td>0.07078527</td><td>0.07206309</td><td>0.4159282</td></tr>\n",
       "</tbody>\n",
       "</table>\n"
      ],
      "text/latex": [
       "A data.frame: 6 × 864\n",
       "\\begin{tabular}{r|lllllllllllllllllllll}\n",
       "  & UK02270173\\_3 & UK15130120\\_3 & UK58000006\\_3 & UK47010004\\_3 & UK42020088\\_5 & UK47490007\\_3 & UK02770164\\_3 & UK02770164\\_5 & UK02630151\\_3 & UK42150107\\_1 & ⋯ & UK59070043\\_3 & UK59070043\\_5 & UK02510223\\_3 & UK02XX0336\\_5 & UK29090086\\_3 & UK02XX0335\\_1 & UK02XX0334\\_3 & UK01210130\\_3 & UK01210130\\_5 & UK01380125\\_1\\\\\n",
       "  & <dbl> & <dbl> & <dbl> & <dbl> & <dbl> & <dbl> & <dbl> & <dbl> & <dbl> & <dbl> & ⋯ & <dbl> & <dbl> & <dbl> & <dbl> & <dbl> & <dbl> & <dbl> & <dbl> & <dbl> & <dbl>\\\\\n",
       "\\hline\n",
       "\tENSG00000230521 & 0.6644339 & 0.58271604 & 0.4046756 & 0.20905157 & 0.2211571 & 0.4288519 & 0.5133516 & 0.57768877 & 0.6990766 & 0.3812037 & ⋯ & 0.3823184 & 0.5423684 & 0.86762630 & 0.73833461 & 0.6461583 & 0.1227063 & 0.9621386 & 0.65838459 & 1.03561474 & 0.4457301\\\\\n",
       "\tENSG00000225864 & 0.9817872 & 0.43879936 & 0.6022344 & 0.92340489 & 0.2211571 & 1.1450686 & 0.1921362 & 0.57768877 & 0.1974851 & 1.2290495 & ⋯ & 0.6842527 & 0.8539227 & 0.91886777 & 0.12581620 & 0.5511865 & 0.4384007 & 0.5465139 & 0.40803066 & 0.46899151 & 0.3544115\\\\\n",
       "\tENSG00000227766 & 1.2117156 & 0.30682669 & 0.6625010 & 0.79963286 & 0.6445686 & 0.3130290 & 0.1183231 & 0.16750450 & 0.1505900 & 1.0533199 & ⋯ & 0.4901384 & 0.4340781 & 0.37504164 & 0.04316943 & 0.6151905 & 0.3406488 & 0.3147798 & 0.43511377 & 0.17382742 & 0.1157514\\\\\n",
       "\tENSG00000237669 & 0.6420763 & 0.69256830 & 0.9792012 & 0.69929584 & 0.3765156 & 1.0756817 & 0.8912050 & 0.60129641 & 0.8534668 & 1.0533199 & ⋯ & 1.0790156 & 0.6102946 & 1.03953331 & 0.97965846 & 0.7061683 & 0.7489857 & 0.7919934 & 0.85168813 & 0.69120049 & 1.0798771\\\\\n",
       "\tENSG00000271581 & 2.4744895 & 1.33153140 & 1.8310464 & 2.47531701 & 1.8812042 & 2.0531366 & 0.5972544 & 1.00686213 & 1.2811361 & 2.4244938 & ⋯ & 2.4728831 & 1.5338898 & 1.59080138 & 0.62923925 & 1.2804253 & 1.4727511 & 1.2187650 & 1.46471386 & 1.44139443 & 1.1896250\\\\\n",
       "\tENSG00000285647 & 0.0000000 & 0.03379072 & 0.0000000 & 0.05517067 & 0.6748270 & 0.0000000 & 0.0000000 & 0.03509293 & 0.6990766 & 1.6556266 & ⋯ & 3.4117627 & 2.4012963 & 0.04682116 & 0.00000000 & 0.0000000 & 0.4695662 & 0.3762952 & 0.07078527 & 0.07206309 & 0.4159282\\\\\n",
       "\\end{tabular}\n"
      ],
      "text/markdown": [
       "\n",
       "A data.frame: 6 × 864\n",
       "\n",
       "| <!--/--> | UK02270173_3 &lt;dbl&gt; | UK15130120_3 &lt;dbl&gt; | UK58000006_3 &lt;dbl&gt; | UK47010004_3 &lt;dbl&gt; | UK42020088_5 &lt;dbl&gt; | UK47490007_3 &lt;dbl&gt; | UK02770164_3 &lt;dbl&gt; | UK02770164_5 &lt;dbl&gt; | UK02630151_3 &lt;dbl&gt; | UK42150107_1 &lt;dbl&gt; | ⋯ ⋯ | UK59070043_3 &lt;dbl&gt; | UK59070043_5 &lt;dbl&gt; | UK02510223_3 &lt;dbl&gt; | UK02XX0336_5 &lt;dbl&gt; | UK29090086_3 &lt;dbl&gt; | UK02XX0335_1 &lt;dbl&gt; | UK02XX0334_3 &lt;dbl&gt; | UK01210130_3 &lt;dbl&gt; | UK01210130_5 &lt;dbl&gt; | UK01380125_1 &lt;dbl&gt; |\n",
       "|---|---|---|---|---|---|---|---|---|---|---|---|---|---|---|---|---|---|---|---|---|---|\n",
       "| ENSG00000230521 | 0.6644339 | 0.58271604 | 0.4046756 | 0.20905157 | 0.2211571 | 0.4288519 | 0.5133516 | 0.57768877 | 0.6990766 | 0.3812037 | ⋯ | 0.3823184 | 0.5423684 | 0.86762630 | 0.73833461 | 0.6461583 | 0.1227063 | 0.9621386 | 0.65838459 | 1.03561474 | 0.4457301 |\n",
       "| ENSG00000225864 | 0.9817872 | 0.43879936 | 0.6022344 | 0.92340489 | 0.2211571 | 1.1450686 | 0.1921362 | 0.57768877 | 0.1974851 | 1.2290495 | ⋯ | 0.6842527 | 0.8539227 | 0.91886777 | 0.12581620 | 0.5511865 | 0.4384007 | 0.5465139 | 0.40803066 | 0.46899151 | 0.3544115 |\n",
       "| ENSG00000227766 | 1.2117156 | 0.30682669 | 0.6625010 | 0.79963286 | 0.6445686 | 0.3130290 | 0.1183231 | 0.16750450 | 0.1505900 | 1.0533199 | ⋯ | 0.4901384 | 0.4340781 | 0.37504164 | 0.04316943 | 0.6151905 | 0.3406488 | 0.3147798 | 0.43511377 | 0.17382742 | 0.1157514 |\n",
       "| ENSG00000237669 | 0.6420763 | 0.69256830 | 0.9792012 | 0.69929584 | 0.3765156 | 1.0756817 | 0.8912050 | 0.60129641 | 0.8534668 | 1.0533199 | ⋯ | 1.0790156 | 0.6102946 | 1.03953331 | 0.97965846 | 0.7061683 | 0.7489857 | 0.7919934 | 0.85168813 | 0.69120049 | 1.0798771 |\n",
       "| ENSG00000271581 | 2.4744895 | 1.33153140 | 1.8310464 | 2.47531701 | 1.8812042 | 2.0531366 | 0.5972544 | 1.00686213 | 1.2811361 | 2.4244938 | ⋯ | 2.4728831 | 1.5338898 | 1.59080138 | 0.62923925 | 1.2804253 | 1.4727511 | 1.2187650 | 1.46471386 | 1.44139443 | 1.1896250 |\n",
       "| ENSG00000285647 | 0.0000000 | 0.03379072 | 0.0000000 | 0.05517067 | 0.6748270 | 0.0000000 | 0.0000000 | 0.03509293 | 0.6990766 | 1.6556266 | ⋯ | 3.4117627 | 2.4012963 | 0.04682116 | 0.00000000 | 0.0000000 | 0.4695662 | 0.3762952 | 0.07078527 | 0.07206309 | 0.4159282 |\n",
       "\n"
      ],
      "text/plain": [
       "                UK02270173_3 UK15130120_3 UK58000006_3 UK47010004_3\n",
       "ENSG00000230521 0.6644339    0.58271604   0.4046756    0.20905157  \n",
       "ENSG00000225864 0.9817872    0.43879936   0.6022344    0.92340489  \n",
       "ENSG00000227766 1.2117156    0.30682669   0.6625010    0.79963286  \n",
       "ENSG00000237669 0.6420763    0.69256830   0.9792012    0.69929584  \n",
       "ENSG00000271581 2.4744895    1.33153140   1.8310464    2.47531701  \n",
       "ENSG00000285647 0.0000000    0.03379072   0.0000000    0.05517067  \n",
       "                UK42020088_5 UK47490007_3 UK02770164_3 UK02770164_5\n",
       "ENSG00000230521 0.2211571    0.4288519    0.5133516    0.57768877  \n",
       "ENSG00000225864 0.2211571    1.1450686    0.1921362    0.57768877  \n",
       "ENSG00000227766 0.6445686    0.3130290    0.1183231    0.16750450  \n",
       "ENSG00000237669 0.3765156    1.0756817    0.8912050    0.60129641  \n",
       "ENSG00000271581 1.8812042    2.0531366    0.5972544    1.00686213  \n",
       "ENSG00000285647 0.6748270    0.0000000    0.0000000    0.03509293  \n",
       "                UK02630151_3 UK42150107_1 ⋯ UK59070043_3 UK59070043_5\n",
       "ENSG00000230521 0.6990766    0.3812037    ⋯ 0.3823184    0.5423684   \n",
       "ENSG00000225864 0.1974851    1.2290495    ⋯ 0.6842527    0.8539227   \n",
       "ENSG00000227766 0.1505900    1.0533199    ⋯ 0.4901384    0.4340781   \n",
       "ENSG00000237669 0.8534668    1.0533199    ⋯ 1.0790156    0.6102946   \n",
       "ENSG00000271581 1.2811361    2.4244938    ⋯ 2.4728831    1.5338898   \n",
       "ENSG00000285647 0.6990766    1.6556266    ⋯ 3.4117627    2.4012963   \n",
       "                UK02510223_3 UK02XX0336_5 UK29090086_3 UK02XX0335_1\n",
       "ENSG00000230521 0.86762630   0.73833461   0.6461583    0.1227063   \n",
       "ENSG00000225864 0.91886777   0.12581620   0.5511865    0.4384007   \n",
       "ENSG00000227766 0.37504164   0.04316943   0.6151905    0.3406488   \n",
       "ENSG00000237669 1.03953331   0.97965846   0.7061683    0.7489857   \n",
       "ENSG00000271581 1.59080138   0.62923925   1.2804253    1.4727511   \n",
       "ENSG00000285647 0.04682116   0.00000000   0.0000000    0.4695662   \n",
       "                UK02XX0334_3 UK01210130_3 UK01210130_5 UK01380125_1\n",
       "ENSG00000230521 0.9621386    0.65838459   1.03561474   0.4457301   \n",
       "ENSG00000225864 0.5465139    0.40803066   0.46899151   0.3544115   \n",
       "ENSG00000227766 0.3147798    0.43511377   0.17382742   0.1157514   \n",
       "ENSG00000237669 0.7919934    0.85168813   0.69120049   1.0798771   \n",
       "ENSG00000271581 1.2187650    1.46471386   1.44139443   1.1896250   \n",
       "ENSG00000285647 0.3762952    0.07078527   0.07206309   0.4159282   "
      ]
     },
     "metadata": {},
     "output_type": "display_data"
    }
   ],
   "source": [
    "head(gene.exp)"
   ]
  },
  {
   "cell_type": "code",
   "execution_count": 35,
   "id": "23d65335-a4f4-491f-8b1c-e99b1dd05667",
   "metadata": {},
   "outputs": [
    {
     "data": {
      "text/html": [
       "<table class=\"dataframe\">\n",
       "<caption>A data.frame: 6 × 47</caption>\n",
       "<thead>\n",
       "\t<tr><th></th><th scope=col>manual_qc</th><th scope=col>id_study_lims</th><th scope=col>name</th><th scope=col>description</th><th scope=col>sanger_sample_id</th><th scope=col>supplier_name</th><th scope=col>last_updated</th><th scope=col>id_library_lims</th><th scope=col>id_pool_lims</th><th scope=col>id_iseq_flowcell_tmp</th><th scope=col>⋯</th><th scope=col>TIN.median.</th><th scope=col>TIN.stdev.</th><th scope=col>Concentration</th><th scope=col>num_samples_per_lane</th><th scope=col>SRSUnsup</th><th scope=col>globin_rate_fromcounts</th><th scope=col>PCOutlier</th><th scope=col>OtherOutlier</th><th scope=col>GAinSID</th><th scope=col>Time.Point</th></tr>\n",
       "\t<tr><th></th><th scope=col>&lt;int&gt;</th><th scope=col>&lt;int&gt;</th><th scope=col>&lt;chr&gt;</th><th scope=col>&lt;chr&gt;</th><th scope=col>&lt;chr&gt;</th><th scope=col>&lt;chr&gt;</th><th scope=col>&lt;chr&gt;</th><th scope=col>&lt;chr&gt;</th><th scope=col>&lt;chr&gt;</th><th scope=col>&lt;int&gt;</th><th scope=col>⋯</th><th scope=col>&lt;dbl&gt;</th><th scope=col>&lt;dbl&gt;</th><th scope=col>&lt;dbl&gt;</th><th scope=col>&lt;int&gt;</th><th scope=col>&lt;int&gt;</th><th scope=col>&lt;dbl&gt;</th><th scope=col>&lt;lgl&gt;</th><th scope=col>&lt;lgl&gt;</th><th scope=col>&lt;chr&gt;</th><th scope=col>&lt;dbl&gt;</th></tr>\n",
       "</thead>\n",
       "<tbody>\n",
       "\t<tr><th scope=row>UK02270173_3</th><td>1</td><td>5890</td><td>HG_The Genomic Advances in Sepsis (GAinS) RNA-seq</td><td>Total leukocyte RNA</td><td>gains8032857</td><td>UK02270173_3</td><td>2019-09-30 21:01:38</td><td>DN548016D</td><td>NT1557159B</td><td>6930558</td><td>⋯</td><td>76.82800</td><td>23.72743</td><td>116.731</td><td>77</td><td>2</td><td>0.6790401</td><td>FALSE</td><td>FALSE</td><td>UK02270173</td><td>3</td></tr>\n",
       "\t<tr><th scope=row>UK15130120_3</th><td>1</td><td>5890</td><td>HG_The Genomic Advances in Sepsis (GAinS) RNA-seq</td><td>Total leukocyte RNA</td><td>gains8032858</td><td>UK15130120_3</td><td>2019-09-30 21:01:38</td><td>DN548016D</td><td>NT1557159B</td><td>6930559</td><td>⋯</td><td>71.49895</td><td>24.13243</td><td> 76.185</td><td>77</td><td>2</td><td>0.6826886</td><td>FALSE</td><td>FALSE</td><td>UK15130120</td><td>3</td></tr>\n",
       "\t<tr><th scope=row>UK58000006_3</th><td>1</td><td>5890</td><td>HG_The Genomic Advances in Sepsis (GAinS) RNA-seq</td><td>Total leukocyte RNA</td><td>gains8032859</td><td>UK58000006_3</td><td>2019-09-30 21:01:38</td><td>DN548016D</td><td>NT1557159B</td><td>6930560</td><td>⋯</td><td>78.07773</td><td>23.24183</td><td> 59.767</td><td>77</td><td>2</td><td>1.4290063</td><td>FALSE</td><td>FALSE</td><td>UK58000006</td><td>3</td></tr>\n",
       "\t<tr><th scope=row>UK47010004_3</th><td>1</td><td>5890</td><td>HG_The Genomic Advances in Sepsis (GAinS) RNA-seq</td><td>Total leukocyte RNA</td><td>gains8032860</td><td>UK47010004_3</td><td>2019-09-30 21:01:38</td><td>DN548016D</td><td>NT1557159B</td><td>6930561</td><td>⋯</td><td>75.05450</td><td>23.56361</td><td>105.000</td><td>77</td><td>1</td><td>0.9177558</td><td>FALSE</td><td>FALSE</td><td>UK47010004</td><td>3</td></tr>\n",
       "\t<tr><th scope=row>UK42020088_5</th><td>1</td><td>5890</td><td>HG_The Genomic Advances in Sepsis (GAinS) RNA-seq</td><td>Total leukocyte RNA</td><td>gains8032861</td><td>UK42020088_5</td><td>2019-09-30 21:01:38</td><td>DN548016D</td><td>NT1557159B</td><td>6930562</td><td>⋯</td><td>72.53810</td><td>26.03766</td><td> 87.843</td><td>77</td><td>1</td><td>0.4031685</td><td>FALSE</td><td>FALSE</td><td>UK42020088</td><td>5</td></tr>\n",
       "\t<tr><th scope=row>UK47490007_3</th><td>1</td><td>5890</td><td>HG_The Genomic Advances in Sepsis (GAinS) RNA-seq</td><td>Total leukocyte RNA</td><td>gains8032862</td><td>UK47490007_3</td><td>2019-09-30 21:01:38</td><td>DN548016D</td><td>NT1557159B</td><td>6930563</td><td>⋯</td><td>68.60305</td><td>24.27960</td><td> 67.484</td><td>77</td><td>2</td><td>1.1993500</td><td>FALSE</td><td>FALSE</td><td>UK47490007</td><td>3</td></tr>\n",
       "</tbody>\n",
       "</table>\n"
      ],
      "text/latex": [
       "A data.frame: 6 × 47\n",
       "\\begin{tabular}{r|lllllllllllllllllllll}\n",
       "  & manual\\_qc & id\\_study\\_lims & name & description & sanger\\_sample\\_id & supplier\\_name & last\\_updated & id\\_library\\_lims & id\\_pool\\_lims & id\\_iseq\\_flowcell\\_tmp & ⋯ & TIN.median. & TIN.stdev. & Concentration & num\\_samples\\_per\\_lane & SRSUnsup & globin\\_rate\\_fromcounts & PCOutlier & OtherOutlier & GAinSID & Time.Point\\\\\n",
       "  & <int> & <int> & <chr> & <chr> & <chr> & <chr> & <chr> & <chr> & <chr> & <int> & ⋯ & <dbl> & <dbl> & <dbl> & <int> & <int> & <dbl> & <lgl> & <lgl> & <chr> & <dbl>\\\\\n",
       "\\hline\n",
       "\tUK02270173\\_3 & 1 & 5890 & HG\\_The Genomic Advances in Sepsis (GAinS) RNA-seq & Total leukocyte RNA & gains8032857 & UK02270173\\_3 & 2019-09-30 21:01:38 & DN548016D & NT1557159B & 6930558 & ⋯ & 76.82800 & 23.72743 & 116.731 & 77 & 2 & 0.6790401 & FALSE & FALSE & UK02270173 & 3\\\\\n",
       "\tUK15130120\\_3 & 1 & 5890 & HG\\_The Genomic Advances in Sepsis (GAinS) RNA-seq & Total leukocyte RNA & gains8032858 & UK15130120\\_3 & 2019-09-30 21:01:38 & DN548016D & NT1557159B & 6930559 & ⋯ & 71.49895 & 24.13243 &  76.185 & 77 & 2 & 0.6826886 & FALSE & FALSE & UK15130120 & 3\\\\\n",
       "\tUK58000006\\_3 & 1 & 5890 & HG\\_The Genomic Advances in Sepsis (GAinS) RNA-seq & Total leukocyte RNA & gains8032859 & UK58000006\\_3 & 2019-09-30 21:01:38 & DN548016D & NT1557159B & 6930560 & ⋯ & 78.07773 & 23.24183 &  59.767 & 77 & 2 & 1.4290063 & FALSE & FALSE & UK58000006 & 3\\\\\n",
       "\tUK47010004\\_3 & 1 & 5890 & HG\\_The Genomic Advances in Sepsis (GAinS) RNA-seq & Total leukocyte RNA & gains8032860 & UK47010004\\_3 & 2019-09-30 21:01:38 & DN548016D & NT1557159B & 6930561 & ⋯ & 75.05450 & 23.56361 & 105.000 & 77 & 1 & 0.9177558 & FALSE & FALSE & UK47010004 & 3\\\\\n",
       "\tUK42020088\\_5 & 1 & 5890 & HG\\_The Genomic Advances in Sepsis (GAinS) RNA-seq & Total leukocyte RNA & gains8032861 & UK42020088\\_5 & 2019-09-30 21:01:38 & DN548016D & NT1557159B & 6930562 & ⋯ & 72.53810 & 26.03766 &  87.843 & 77 & 1 & 0.4031685 & FALSE & FALSE & UK42020088 & 5\\\\\n",
       "\tUK47490007\\_3 & 1 & 5890 & HG\\_The Genomic Advances in Sepsis (GAinS) RNA-seq & Total leukocyte RNA & gains8032862 & UK47490007\\_3 & 2019-09-30 21:01:38 & DN548016D & NT1557159B & 6930563 & ⋯ & 68.60305 & 24.27960 &  67.484 & 77 & 2 & 1.1993500 & FALSE & FALSE & UK47490007 & 3\\\\\n",
       "\\end{tabular}\n"
      ],
      "text/markdown": [
       "\n",
       "A data.frame: 6 × 47\n",
       "\n",
       "| <!--/--> | manual_qc &lt;int&gt; | id_study_lims &lt;int&gt; | name &lt;chr&gt; | description &lt;chr&gt; | sanger_sample_id &lt;chr&gt; | supplier_name &lt;chr&gt; | last_updated &lt;chr&gt; | id_library_lims &lt;chr&gt; | id_pool_lims &lt;chr&gt; | id_iseq_flowcell_tmp &lt;int&gt; | ⋯ ⋯ | TIN.median. &lt;dbl&gt; | TIN.stdev. &lt;dbl&gt; | Concentration &lt;dbl&gt; | num_samples_per_lane &lt;int&gt; | SRSUnsup &lt;int&gt; | globin_rate_fromcounts &lt;dbl&gt; | PCOutlier &lt;lgl&gt; | OtherOutlier &lt;lgl&gt; | GAinSID &lt;chr&gt; | Time.Point &lt;dbl&gt; |\n",
       "|---|---|---|---|---|---|---|---|---|---|---|---|---|---|---|---|---|---|---|---|---|---|\n",
       "| UK02270173_3 | 1 | 5890 | HG_The Genomic Advances in Sepsis (GAinS) RNA-seq | Total leukocyte RNA | gains8032857 | UK02270173_3 | 2019-09-30 21:01:38 | DN548016D | NT1557159B | 6930558 | ⋯ | 76.82800 | 23.72743 | 116.731 | 77 | 2 | 0.6790401 | FALSE | FALSE | UK02270173 | 3 |\n",
       "| UK15130120_3 | 1 | 5890 | HG_The Genomic Advances in Sepsis (GAinS) RNA-seq | Total leukocyte RNA | gains8032858 | UK15130120_3 | 2019-09-30 21:01:38 | DN548016D | NT1557159B | 6930559 | ⋯ | 71.49895 | 24.13243 |  76.185 | 77 | 2 | 0.6826886 | FALSE | FALSE | UK15130120 | 3 |\n",
       "| UK58000006_3 | 1 | 5890 | HG_The Genomic Advances in Sepsis (GAinS) RNA-seq | Total leukocyte RNA | gains8032859 | UK58000006_3 | 2019-09-30 21:01:38 | DN548016D | NT1557159B | 6930560 | ⋯ | 78.07773 | 23.24183 |  59.767 | 77 | 2 | 1.4290063 | FALSE | FALSE | UK58000006 | 3 |\n",
       "| UK47010004_3 | 1 | 5890 | HG_The Genomic Advances in Sepsis (GAinS) RNA-seq | Total leukocyte RNA | gains8032860 | UK47010004_3 | 2019-09-30 21:01:38 | DN548016D | NT1557159B | 6930561 | ⋯ | 75.05450 | 23.56361 | 105.000 | 77 | 1 | 0.9177558 | FALSE | FALSE | UK47010004 | 3 |\n",
       "| UK42020088_5 | 1 | 5890 | HG_The Genomic Advances in Sepsis (GAinS) RNA-seq | Total leukocyte RNA | gains8032861 | UK42020088_5 | 2019-09-30 21:01:38 | DN548016D | NT1557159B | 6930562 | ⋯ | 72.53810 | 26.03766 |  87.843 | 77 | 1 | 0.4031685 | FALSE | FALSE | UK42020088 | 5 |\n",
       "| UK47490007_3 | 1 | 5890 | HG_The Genomic Advances in Sepsis (GAinS) RNA-seq | Total leukocyte RNA | gains8032862 | UK47490007_3 | 2019-09-30 21:01:38 | DN548016D | NT1557159B | 6930563 | ⋯ | 68.60305 | 24.27960 |  67.484 | 77 | 2 | 1.1993500 | FALSE | FALSE | UK47490007 | 3 |\n",
       "\n"
      ],
      "text/plain": [
       "             manual_qc id_study_lims\n",
       "UK02270173_3 1         5890         \n",
       "UK15130120_3 1         5890         \n",
       "UK58000006_3 1         5890         \n",
       "UK47010004_3 1         5890         \n",
       "UK42020088_5 1         5890         \n",
       "UK47490007_3 1         5890         \n",
       "             name                                             \n",
       "UK02270173_3 HG_The Genomic Advances in Sepsis (GAinS) RNA-seq\n",
       "UK15130120_3 HG_The Genomic Advances in Sepsis (GAinS) RNA-seq\n",
       "UK58000006_3 HG_The Genomic Advances in Sepsis (GAinS) RNA-seq\n",
       "UK47010004_3 HG_The Genomic Advances in Sepsis (GAinS) RNA-seq\n",
       "UK42020088_5 HG_The Genomic Advances in Sepsis (GAinS) RNA-seq\n",
       "UK47490007_3 HG_The Genomic Advances in Sepsis (GAinS) RNA-seq\n",
       "             description         sanger_sample_id supplier_name\n",
       "UK02270173_3 Total leukocyte RNA gains8032857     UK02270173_3 \n",
       "UK15130120_3 Total leukocyte RNA gains8032858     UK15130120_3 \n",
       "UK58000006_3 Total leukocyte RNA gains8032859     UK58000006_3 \n",
       "UK47010004_3 Total leukocyte RNA gains8032860     UK47010004_3 \n",
       "UK42020088_5 Total leukocyte RNA gains8032861     UK42020088_5 \n",
       "UK47490007_3 Total leukocyte RNA gains8032862     UK47490007_3 \n",
       "             last_updated        id_library_lims id_pool_lims\n",
       "UK02270173_3 2019-09-30 21:01:38 DN548016D       NT1557159B  \n",
       "UK15130120_3 2019-09-30 21:01:38 DN548016D       NT1557159B  \n",
       "UK58000006_3 2019-09-30 21:01:38 DN548016D       NT1557159B  \n",
       "UK47010004_3 2019-09-30 21:01:38 DN548016D       NT1557159B  \n",
       "UK42020088_5 2019-09-30 21:01:38 DN548016D       NT1557159B  \n",
       "UK47490007_3 2019-09-30 21:01:38 DN548016D       NT1557159B  \n",
       "             id_iseq_flowcell_tmp ⋯ TIN.median. TIN.stdev. Concentration\n",
       "UK02270173_3 6930558              ⋯ 76.82800    23.72743   116.731      \n",
       "UK15130120_3 6930559              ⋯ 71.49895    24.13243    76.185      \n",
       "UK58000006_3 6930560              ⋯ 78.07773    23.24183    59.767      \n",
       "UK47010004_3 6930561              ⋯ 75.05450    23.56361   105.000      \n",
       "UK42020088_5 6930562              ⋯ 72.53810    26.03766    87.843      \n",
       "UK47490007_3 6930563              ⋯ 68.60305    24.27960    67.484      \n",
       "             num_samples_per_lane SRSUnsup globin_rate_fromcounts PCOutlier\n",
       "UK02270173_3 77                   2        0.6790401              FALSE    \n",
       "UK15130120_3 77                   2        0.6826886              FALSE    \n",
       "UK58000006_3 77                   2        1.4290063              FALSE    \n",
       "UK47010004_3 77                   1        0.9177558              FALSE    \n",
       "UK42020088_5 77                   1        0.4031685              FALSE    \n",
       "UK47490007_3 77                   2        1.1993500              FALSE    \n",
       "             OtherOutlier GAinSID    Time.Point\n",
       "UK02270173_3 FALSE        UK02270173 3         \n",
       "UK15130120_3 FALSE        UK15130120 3         \n",
       "UK58000006_3 FALSE        UK58000006 3         \n",
       "UK47010004_3 FALSE        UK47010004 3         \n",
       "UK42020088_5 FALSE        UK42020088 5         \n",
       "UK47490007_3 FALSE        UK47490007 3         "
      ]
     },
     "metadata": {},
     "output_type": "display_data"
    }
   ],
   "source": [
    "head(sample.info)"
   ]
  },
  {
   "cell_type": "code",
   "execution_count": 36,
   "id": "dc0289a0-97b4-43bb-a661-ea4ae54e42c5",
   "metadata": {},
   "outputs": [],
   "source": [
    "outcome <- read.table(\"/nfs/team282/data/gains_team282/ClinicalData/clinical_data_tsv/OUT_12jun2019.tsv\", sep=\"\\t\", header=T, quote=\"\")\n",
    "\n",
    "outcome <- outcome %>%\n",
    "    dplyr::mutate(GAinSID=stringr::str_to_upper(SubjectBarCode)) %>%\n",
    "    dplyr::mutate(GAinSID=gsub(\"^GA\", \"\", GAinSID))\n",
    "\n",
    "rownames(outcome) <- outcome$GAinSID"
   ]
  },
  {
   "cell_type": "code",
   "execution_count": 37,
   "id": "b8f1cfec-07cb-43f8-b314-b60107f81f12",
   "metadata": {},
   "outputs": [
    {
     "data": {
      "text/html": [
       "<table class=\"dataframe\">\n",
       "<caption>A data.frame: 6 × 23</caption>\n",
       "<thead>\n",
       "\t<tr><th></th><th scope=col>CenterNumber</th><th scope=col>SubjectNumber</th><th scope=col>diagnosis</th><th scope=col>study</th><th scope=col>SubjectBarCode</th><th scope=col>DICU</th><th scope=col>alivedead</th><th scope=col>dhospdis</th><th scope=col>aldead</th><th scope=col>at6Malived</th><th scope=col>⋯</th><th scope=col>failure3</th><th scope=col>unrelated3</th><th scope=col>persist3</th><th scope=col>unrelatc3</th><th scope=col>unreldesc3</th><th scope=col>AtLeastOneCause</th><th scope=col>EDTAsent</th><th scope=col>DhospICU</th><th scope=col>Birthdate</th><th scope=col>GAinSID</th></tr>\n",
       "\t<tr><th></th><th scope=col>&lt;chr&gt;</th><th scope=col>&lt;int&gt;</th><th scope=col>&lt;int&gt;</th><th scope=col>&lt;chr&gt;</th><th scope=col>&lt;chr&gt;</th><th scope=col>&lt;chr&gt;</th><th scope=col>&lt;int&gt;</th><th scope=col>&lt;chr&gt;</th><th scope=col>&lt;int&gt;</th><th scope=col>&lt;chr&gt;</th><th scope=col>⋯</th><th scope=col>&lt;chr&gt;</th><th scope=col>&lt;chr&gt;</th><th scope=col>&lt;chr&gt;</th><th scope=col>&lt;chr&gt;</th><th scope=col>&lt;chr&gt;</th><th scope=col>&lt;int&gt;</th><th scope=col>&lt;chr&gt;</th><th scope=col>&lt;chr&gt;</th><th scope=col>&lt;chr&gt;</th><th scope=col>&lt;chr&gt;</th></tr>\n",
       "</thead>\n",
       "<tbody>\n",
       "\t<tr><th scope=row>UK01310070</th><td>UK001</td><td>2</td><td>1</td><td>ALL SUBJECT</td><td>uk01310070</td><td>1/15/08 </td><td>1</td><td>4/16/08 </td><td> 2</td><td>2</td><td>⋯</td><td>0</td><td>0</td><td>1</td><td>0</td><td></td><td>1</td><td>1</td><td>12/28/07</td><td>6/15/35</td><td>UK01310070</td></tr>\n",
       "\t<tr><th scope=row>UK01150069</th><td>UK001</td><td>3</td><td>2</td><td>ALL SUBJECT</td><td>uk01150069</td><td>12/17/07</td><td>1</td><td>12/17/07</td><td> 1</td><td>1</td><td>⋯</td><td>0</td><td>0</td><td>0</td><td>0</td><td></td><td>0</td><td>1</td><td>12/14/07</td><td>9/26/26</td><td>UK01150069</td></tr>\n",
       "\t<tr><th scope=row>UK01470071</th><td>UK001</td><td>5</td><td>1</td><td>ALL SUBJECT</td><td>UK01470071</td><td>1/30/08 </td><td>1</td><td>4/20/08 </td><td> 1</td><td>1</td><td>⋯</td><td>0</td><td>0</td><td>0</td><td>0</td><td></td><td>0</td><td>1</td><td>1/4/08  </td><td>8/17/34</td><td>UK01470071</td></tr>\n",
       "\t<tr><th scope=row>UK01630072</th><td>UK001</td><td>6</td><td>1</td><td>ALL SUBJECT</td><td>UK01630072</td><td>1/7/08  </td><td>1</td><td>2/13/08 </td><td> 1</td><td>1</td><td>⋯</td><td>0</td><td>0</td><td>0</td><td>0</td><td></td><td>0</td><td>1</td><td>1/5/08  </td><td>1/20/68</td><td>UK01630072</td></tr>\n",
       "\t<tr><th scope=row>UK01950074</th><td>UK001</td><td>8</td><td>1</td><td>ALL SUBJECT</td><td>UK01950074</td><td>1/14/08 </td><td>1</td><td>4/16/08 </td><td> 1</td><td>1</td><td>⋯</td><td>0</td><td>0</td><td>0</td><td>0</td><td></td><td>0</td><td>1</td><td>1/9/08  </td><td>2/4/40 </td><td>UK01950074</td></tr>\n",
       "\t<tr><th scope=row>UK01140075</th><td>UK001</td><td>9</td><td>1</td><td>ALL SUBJECT</td><td>UK01140075</td><td>1/28/08 </td><td>2</td><td>        </td><td>NA</td><td> </td><td>⋯</td><td>0</td><td>0</td><td>0</td><td>0</td><td></td><td>1</td><td>1</td><td>1/28/08 </td><td>11/1/29</td><td>UK01140075</td></tr>\n",
       "</tbody>\n",
       "</table>\n"
      ],
      "text/latex": [
       "A data.frame: 6 × 23\n",
       "\\begin{tabular}{r|lllllllllllllllllllll}\n",
       "  & CenterNumber & SubjectNumber & diagnosis & study & SubjectBarCode & DICU & alivedead & dhospdis & aldead & at6Malived & ⋯ & failure3 & unrelated3 & persist3 & unrelatc3 & unreldesc3 & AtLeastOneCause & EDTAsent & DhospICU & Birthdate & GAinSID\\\\\n",
       "  & <chr> & <int> & <int> & <chr> & <chr> & <chr> & <int> & <chr> & <int> & <chr> & ⋯ & <chr> & <chr> & <chr> & <chr> & <chr> & <int> & <chr> & <chr> & <chr> & <chr>\\\\\n",
       "\\hline\n",
       "\tUK01310070 & UK001 & 2 & 1 & ALL SUBJECT & uk01310070 & 1/15/08  & 1 & 4/16/08  &  2 & 2 & ⋯ & 0 & 0 & 1 & 0 &  & 1 & 1 & 12/28/07 & 6/15/35 & UK01310070\\\\\n",
       "\tUK01150069 & UK001 & 3 & 2 & ALL SUBJECT & uk01150069 & 12/17/07 & 1 & 12/17/07 &  1 & 1 & ⋯ & 0 & 0 & 0 & 0 &  & 0 & 1 & 12/14/07 & 9/26/26 & UK01150069\\\\\n",
       "\tUK01470071 & UK001 & 5 & 1 & ALL SUBJECT & UK01470071 & 1/30/08  & 1 & 4/20/08  &  1 & 1 & ⋯ & 0 & 0 & 0 & 0 &  & 0 & 1 & 1/4/08   & 8/17/34 & UK01470071\\\\\n",
       "\tUK01630072 & UK001 & 6 & 1 & ALL SUBJECT & UK01630072 & 1/7/08   & 1 & 2/13/08  &  1 & 1 & ⋯ & 0 & 0 & 0 & 0 &  & 0 & 1 & 1/5/08   & 1/20/68 & UK01630072\\\\\n",
       "\tUK01950074 & UK001 & 8 & 1 & ALL SUBJECT & UK01950074 & 1/14/08  & 1 & 4/16/08  &  1 & 1 & ⋯ & 0 & 0 & 0 & 0 &  & 0 & 1 & 1/9/08   & 2/4/40  & UK01950074\\\\\n",
       "\tUK01140075 & UK001 & 9 & 1 & ALL SUBJECT & UK01140075 & 1/28/08  & 2 &          & NA &   & ⋯ & 0 & 0 & 0 & 0 &  & 1 & 1 & 1/28/08  & 11/1/29 & UK01140075\\\\\n",
       "\\end{tabular}\n"
      ],
      "text/markdown": [
       "\n",
       "A data.frame: 6 × 23\n",
       "\n",
       "| <!--/--> | CenterNumber &lt;chr&gt; | SubjectNumber &lt;int&gt; | diagnosis &lt;int&gt; | study &lt;chr&gt; | SubjectBarCode &lt;chr&gt; | DICU &lt;chr&gt; | alivedead &lt;int&gt; | dhospdis &lt;chr&gt; | aldead &lt;int&gt; | at6Malived &lt;chr&gt; | ⋯ ⋯ | failure3 &lt;chr&gt; | unrelated3 &lt;chr&gt; | persist3 &lt;chr&gt; | unrelatc3 &lt;chr&gt; | unreldesc3 &lt;chr&gt; | AtLeastOneCause &lt;int&gt; | EDTAsent &lt;chr&gt; | DhospICU &lt;chr&gt; | Birthdate &lt;chr&gt; | GAinSID &lt;chr&gt; |\n",
       "|---|---|---|---|---|---|---|---|---|---|---|---|---|---|---|---|---|---|---|---|---|---|\n",
       "| UK01310070 | UK001 | 2 | 1 | ALL SUBJECT | uk01310070 | 1/15/08  | 1 | 4/16/08  |  2 | 2 | ⋯ | 0 | 0 | 1 | 0 | <!----> | 1 | 1 | 12/28/07 | 6/15/35 | UK01310070 |\n",
       "| UK01150069 | UK001 | 3 | 2 | ALL SUBJECT | uk01150069 | 12/17/07 | 1 | 12/17/07 |  1 | 1 | ⋯ | 0 | 0 | 0 | 0 | <!----> | 0 | 1 | 12/14/07 | 9/26/26 | UK01150069 |\n",
       "| UK01470071 | UK001 | 5 | 1 | ALL SUBJECT | UK01470071 | 1/30/08  | 1 | 4/20/08  |  1 | 1 | ⋯ | 0 | 0 | 0 | 0 | <!----> | 0 | 1 | 1/4/08   | 8/17/34 | UK01470071 |\n",
       "| UK01630072 | UK001 | 6 | 1 | ALL SUBJECT | UK01630072 | 1/7/08   | 1 | 2/13/08  |  1 | 1 | ⋯ | 0 | 0 | 0 | 0 | <!----> | 0 | 1 | 1/5/08   | 1/20/68 | UK01630072 |\n",
       "| UK01950074 | UK001 | 8 | 1 | ALL SUBJECT | UK01950074 | 1/14/08  | 1 | 4/16/08  |  1 | 1 | ⋯ | 0 | 0 | 0 | 0 | <!----> | 0 | 1 | 1/9/08   | 2/4/40  | UK01950074 |\n",
       "| UK01140075 | UK001 | 9 | 1 | ALL SUBJECT | UK01140075 | 1/28/08  | 2 | <!----> | NA | <!----> | ⋯ | 0 | 0 | 0 | 0 | <!----> | 1 | 1 | 1/28/08  | 11/1/29 | UK01140075 |\n",
       "\n"
      ],
      "text/plain": [
       "           CenterNumber SubjectNumber diagnosis study       SubjectBarCode\n",
       "UK01310070 UK001        2             1         ALL SUBJECT uk01310070    \n",
       "UK01150069 UK001        3             2         ALL SUBJECT uk01150069    \n",
       "UK01470071 UK001        5             1         ALL SUBJECT UK01470071    \n",
       "UK01630072 UK001        6             1         ALL SUBJECT UK01630072    \n",
       "UK01950074 UK001        8             1         ALL SUBJECT UK01950074    \n",
       "UK01140075 UK001        9             1         ALL SUBJECT UK01140075    \n",
       "           DICU     alivedead dhospdis aldead at6Malived ⋯ failure3 unrelated3\n",
       "UK01310070 1/15/08  1         4/16/08   2     2          ⋯ 0        0         \n",
       "UK01150069 12/17/07 1         12/17/07  1     1          ⋯ 0        0         \n",
       "UK01470071 1/30/08  1         4/20/08   1     1          ⋯ 0        0         \n",
       "UK01630072 1/7/08   1         2/13/08   1     1          ⋯ 0        0         \n",
       "UK01950074 1/14/08  1         4/16/08   1     1          ⋯ 0        0         \n",
       "UK01140075 1/28/08  2                  NA                ⋯ 0        0         \n",
       "           persist3 unrelatc3 unreldesc3 AtLeastOneCause EDTAsent DhospICU\n",
       "UK01310070 1        0                    1               1        12/28/07\n",
       "UK01150069 0        0                    0               1        12/14/07\n",
       "UK01470071 0        0                    0               1        1/4/08  \n",
       "UK01630072 0        0                    0               1        1/5/08  \n",
       "UK01950074 0        0                    0               1        1/9/08  \n",
       "UK01140075 0        0                    1               1        1/28/08 \n",
       "           Birthdate GAinSID   \n",
       "UK01310070 6/15/35   UK01310070\n",
       "UK01150069 9/26/26   UK01150069\n",
       "UK01470071 8/17/34   UK01470071\n",
       "UK01630072 1/20/68   UK01630072\n",
       "UK01950074 2/4/40    UK01950074\n",
       "UK01140075 11/1/29   UK01140075"
      ]
     },
     "metadata": {},
     "output_type": "display_data"
    }
   ],
   "source": [
    "head(outcome)"
   ]
  },
  {
   "cell_type": "markdown",
   "id": "47f77d33-5136-4140-8032-38fd6e519aac",
   "metadata": {},
   "source": [
    "## Subset Patients\n",
    "\n",
    "The same patients have contributed up to three samples to the data (D1, D3, and/or D5). I have decided to choose the last time point available for each patient."
   ]
  },
  {
   "cell_type": "code",
   "execution_count": 38,
   "id": "e3cf4c51-57aa-4065-9a89-9e00d738b743",
   "metadata": {},
   "outputs": [],
   "source": [
    "sample.map <- sample.info %>%\n",
    "    dplyr::filter(GAinSID %in% outcome$GAinSID) %>%\n",
    "    dplyr::group_by(GAinSID) %>%\n",
    "    dplyr::summarize(Last.Time.Point=max(Time.Point)) %>%\n",
    "    dplyr::mutate(Sample=paste0(GAinSID, \"_\", Last.Time.Point))\n",
    "\n",
    "gene.exp <- as.matrix(gene.exp[,sample.map$Sample])\n",
    "\n",
    "cox.outcomes <- outcome[sample.map$GAinSID,] %>%\n",
    "    dplyr::mutate(Date.Hospitalized=lubridate::mdy(DhospICU), Date.Death=lubridate::mdy(M6ddeath)) %>%\n",
    "    dplyr::mutate(Endpoint=as.duration(Date.Hospitalized %--% Date.Death) / lubridate::ddays(1)) %>%\n",
    "    dplyr::mutate(Endpoint=replace(Endpoint, Endpoint > 28, NA)) %>%\n",
    "    dplyr::mutate(Status=ifelse(is.na(Endpoint), 0, 1)) %>%\n",
    "    dplyr::select(Endpoint, Status) %>%\n",
    "    dplyr::mutate(Endpoint=replace(Endpoint, is.na(Endpoint), 28)) %>%\n",
    "    dplyr::select(time=Endpoint, status=Status)"
   ]
  },
  {
   "cell_type": "code",
   "execution_count": 12,
   "id": "9076fed3-8bcd-451e-846a-6e3d624b8cb4",
   "metadata": {},
   "outputs": [
    {
     "name": "stderr",
     "output_type": "stream",
     "text": [
      "'getOption(\"repos\")' replaces Bioconductor standard repositories, see\n",
      "'?repositories' for details\n",
      "\n",
      "replacement repositories:\n",
      "    CRAN: https://cran.r-project.org\n",
      "\n",
      "\n",
      "Bioconductor version 3.12 (BiocManager 1.30.16), R 4.0.5 (2021-03-31)\n",
      "\n",
      "Installing package(s) 'preprocessCore'\n",
      "\n",
      "Old packages: 'blob', 'brew', 'broom', 'Cairo', 'caret', 'circlize', 'clipr',\n",
      "  'cluster', 'conquer', 'DEoptimR', 'dequer', 'desc', 'doParallel', 'foreach',\n",
      "  'formatR', 'gdtools', 'gert', 'gower', 'haven', 'km.ci', 'lme4', 'maptools',\n",
      "  'MASS', 'Matrix', 'mclogit', 'mgcv', 'nlme', 'nloptr', 'pbdZMQ', 'polynom',\n",
      "  'pracma', 'processx', 'quantreg', 'RcppGSL', 'RCurl', 'readr', 'readxl',\n",
      "  'recipes', 'reshape', 'Rfast', 'robust', 'robustbase', 'rrcov', 'RSQLite',\n",
      "  'survival', 'survMisc', 'svglite', 'systemfonts', 'testthat', 'tzdb', 'umap',\n",
      "  'uuid', 'waldo', 'WGCNA', 'XML'\n",
      "\n"
     ]
    }
   ],
   "source": [
    "BiocManager::install(\"preprocessCore\", configure.args=\"--disable-threading\", force = TRUE)"
   ]
  },
  {
   "cell_type": "code",
   "execution_count": 42,
   "id": "e60e3a59-d44c-4ef1-9571-de138f283e38",
   "metadata": {},
   "outputs": [
    {
     "ename": "ERROR",
     "evalue": "Error in asMethod(object): Cholmod error 'problem too large' at file ../Core/cholmod_dense.c, line 102\n",
     "output_type": "error",
     "traceback": [
      "Error in asMethod(object): Cholmod error 'problem too large' at file ../Core/cholmod_dense.c, line 102\nTraceback:\n",
      "1. Scissor(gene.exp, combat, cox.outcomes, alpha = 0.05, family = \"cox\")",
      "2. as.matrix(sc_dataset@assays$RNA@data)",
      "3. as.matrix.Matrix(sc_dataset@assays$RNA@data)",
      "4. as(x, \"matrix\")",
      "5. asMethod(object)"
     ]
    }
   ],
   "source": [
    "infos1 <- Scissor(gene.exp, combat, cox.outcomes, alpha = 0.05, family = \"cox\")"
   ]
  },
  {
   "cell_type": "code",
   "execution_count": 29,
   "id": "61d3db1d-2bac-4e3a-997e-3f547037b976",
   "metadata": {},
   "outputs": [
    {
     "name": "stdout",
     "output_type": "stream",
     "text": [
      "List of 4\n",
      " $ para       :List of 3\n",
      "  ..$ alpha : num 0.05\n",
      "  ..$ lambda: num 0.01\n",
      "  ..$ family: chr \"cox\"\n",
      " $ Coefs      : num [1:5000] 0 0 0 0 0 0 0 0 0 0 ...\n",
      " $ Scissor_pos: chr(0) \n",
      " $ Scissor_neg: chr [1:713] \"CTCTGGTTCGTACGGC-42\" \"CATATTCTCTGGAGCC-11\" \"CTAGTGAGTTCAGGCC-44\" \"GAACGGAAGGGTGTGT-12\" ...\n"
     ]
    }
   ],
   "source": [
    "str(infos1)"
   ]
  },
  {
   "cell_type": "code",
   "execution_count": 39,
   "id": "f1cc30de-1137-4536-a616-2c0e30aa175e",
   "metadata": {},
   "outputs": [
    {
     "data": {
      "text/plain": [
       "\n",
       "                     CD4-positive, alpha-beta T cell \n",
       "                                         0.007761966 \n",
       "      central memory CD4-positive, alpha-beta T cell \n",
       "                                         0.004086505 \n",
       "                           double negative thymocyte \n",
       "                                         0.007127193 \n",
       "     effector memory CD4-positive, alpha-beta T cell \n",
       "                                         0.004254502 \n",
       "                        hematopoietic precursor cell \n",
       "                                         0.005518764 \n",
       "                                innate lymphoid cell \n",
       "                                         0.006756757 \n",
       "                                       memory B cell \n",
       "                                         0.004200569 \n",
       "naive thymus-derived CD8-positive, alpha-beta T cell \n",
       "                                         0.004149378 \n",
       "                                 natural killer cell \n",
       "                                         0.004141075 \n",
       "                   peripheral blood mononuclear cell \n",
       "                                         0.015267176 \n",
       "                                         plasmablast \n",
       "                                         0.004794885 \n",
       "                                            platelet \n",
       "                                         0.004419890 \n",
       "                                   regulatory T cell \n",
       "                                         0.004372244 "
      ]
     },
     "metadata": {},
     "output_type": "display_data"
    }
   ],
   "source": [
    "freqs <- table(pbmc[[\"cell_type\"]][idx,]) / table(pbmc[[\"cell_type\"]])\n",
    "freqs[freqs > (5000 / ncol(pbmc))]"
   ]
  },
  {
   "cell_type": "code",
   "execution_count": null,
   "id": "d94938be-fc75-4337-8e4c-5e4edc9d24d3",
   "metadata": {},
   "outputs": [],
   "source": []
  }
 ],
 "metadata": {
  "kernelspec": {
   "display_name": "R",
   "language": "R",
   "name": "ir"
  },
  "language_info": {
   "codemirror_mode": "r",
   "file_extension": ".r",
   "mimetype": "text/x-r-source",
   "name": "R",
   "pygments_lexer": "r",
   "version": "4.0.5"
  }
 },
 "nbformat": 4,
 "nbformat_minor": 5
}
