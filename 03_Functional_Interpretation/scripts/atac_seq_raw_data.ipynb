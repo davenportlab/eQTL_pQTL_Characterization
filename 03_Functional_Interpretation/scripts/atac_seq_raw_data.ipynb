{
 "cells": [
  {
   "cell_type": "markdown",
   "id": "e36773fc-5d0b-4cd6-9e5c-e1eb22f87ec5",
   "metadata": {},
   "source": [
    "# ATAC-Seq Read Count\n",
    "\n",
    "**Created**: 17 January 2022"
   ]
  },
  {
   "cell_type": "markdown",
   "id": "39dcaaf4-dc3d-4092-834b-16adf65fdbff",
   "metadata": {},
   "source": [
    "## Environment"
   ]
  },
  {
   "cell_type": "code",
   "execution_count": 1,
   "id": "e613efe5-5473-421f-990d-82b8b4558746",
   "metadata": {},
   "outputs": [
    {
     "name": "stderr",
     "output_type": "stream",
     "text": [
      "── \u001b[1mAttaching packages\u001b[22m ─────────────────────────────────────────────────────────────────────────────────────────────────────────────── tidyverse 1.3.1 ──\n",
      "\n",
      "\u001b[32m✔\u001b[39m \u001b[34mggplot2\u001b[39m 3.3.5     \u001b[32m✔\u001b[39m \u001b[34mpurrr  \u001b[39m 0.3.4\n",
      "\u001b[32m✔\u001b[39m \u001b[34mtibble \u001b[39m 3.1.6     \u001b[32m✔\u001b[39m \u001b[34mdplyr  \u001b[39m 1.0.7\n",
      "\u001b[32m✔\u001b[39m \u001b[34mtidyr  \u001b[39m 1.1.4     \u001b[32m✔\u001b[39m \u001b[34mstringr\u001b[39m 1.4.0\n",
      "\u001b[32m✔\u001b[39m \u001b[34mreadr  \u001b[39m 2.1.1     \u001b[32m✔\u001b[39m \u001b[34mforcats\u001b[39m 0.5.1\n",
      "\n",
      "── \u001b[1mConflicts\u001b[22m ────────────────────────────────────────────────────────────────────────────────────────────────────────────────── tidyverse_conflicts() ──\n",
      "\u001b[31m✖\u001b[39m \u001b[34mdplyr\u001b[39m::\u001b[32mfilter()\u001b[39m masks \u001b[34mstats\u001b[39m::filter()\n",
      "\u001b[31m✖\u001b[39m \u001b[34mdplyr\u001b[39m::\u001b[32mlag()\u001b[39m    masks \u001b[34mstats\u001b[39m::lag()\n",
      "\n"
     ]
    }
   ],
   "source": [
    "library(tidyverse)\n",
    "\n",
    "setwd(\"~/eQTL_pQTL_Characterization/\")\n",
    "\n",
    "source(\"03_Functional_Interpretation/scripts/utils/ggplot_theme.R\")"
   ]
  },
  {
   "cell_type": "markdown",
   "id": "8eef81e7-7982-4bf0-82df-92ff456e726d",
   "metadata": {},
   "source": [
    "## Load Data"
   ]
  },
  {
   "cell_type": "code",
   "execution_count": 2,
   "id": "31e15ee7-ac8b-4214-a30c-40e406614993",
   "metadata": {},
   "outputs": [],
   "source": [
    "meta <- read.csv(\"03_Functional_Interpretation/metadata/reads_calderon_et_al_atac_seq.txt\")"
   ]
  },
  {
   "cell_type": "code",
   "execution_count": 3,
   "id": "88bbe2a3-6d83-4f59-a3f1-9f7f30a833c3",
   "metadata": {},
   "outputs": [
    {
     "data": {
      "text/html": [
       "<table class=\"dataframe\">\n",
       "<caption>A data.frame: 6 × 28</caption>\n",
       "<thead>\n",
       "\t<tr><th></th><th scope=col>Run</th><th scope=col>Assay.Type</th><th scope=col>AvgSpotLen</th><th scope=col>Bases</th><th scope=col>BioProject</th><th scope=col>BioSample</th><th scope=col>Bytes</th><th scope=col>Cell_type</th><th scope=col>Center.Name</th><th scope=col>Consent</th><th scope=col>⋯</th><th scope=col>LibrarySelection</th><th scope=col>LibrarySource</th><th scope=col>lineage</th><th scope=col>Organism</th><th scope=col>Platform</th><th scope=col>ReleaseDate</th><th scope=col>Sample.Name</th><th scope=col>source_name</th><th scope=col>SRA.Study</th><th scope=col>Treatment</th></tr>\n",
       "\t<tr><th></th><th scope=col>&lt;chr&gt;</th><th scope=col>&lt;chr&gt;</th><th scope=col>&lt;int&gt;</th><th scope=col>&lt;dbl&gt;</th><th scope=col>&lt;chr&gt;</th><th scope=col>&lt;chr&gt;</th><th scope=col>&lt;dbl&gt;</th><th scope=col>&lt;chr&gt;</th><th scope=col>&lt;chr&gt;</th><th scope=col>&lt;chr&gt;</th><th scope=col>⋯</th><th scope=col>&lt;chr&gt;</th><th scope=col>&lt;chr&gt;</th><th scope=col>&lt;chr&gt;</th><th scope=col>&lt;chr&gt;</th><th scope=col>&lt;chr&gt;</th><th scope=col>&lt;chr&gt;</th><th scope=col>&lt;chr&gt;</th><th scope=col>&lt;chr&gt;</th><th scope=col>&lt;chr&gt;</th><th scope=col>&lt;chr&gt;</th></tr>\n",
       "</thead>\n",
       "<tbody>\n",
       "\t<tr><th scope=row>1</th><td>SRR7650729</td><td>ATAC-seq</td><td>130</td><td>7671684082</td><td>PRJNA484801</td><td>SAMN09769836</td><td>3235449960</td><td>Bulk_B </td><td>GEO</td><td>public</td><td>⋯</td><td>other</td><td>GENOMIC</td><td>B</td><td>Homo sapiens</td><td>ILLUMINA</td><td>2018-09-06T00:00:00Z</td><td>GSM3320229</td><td>primary blood</td><td>SRP156496</td><td>no_treament</td></tr>\n",
       "\t<tr><th scope=row>2</th><td>SRR7650730</td><td>ATAC-seq</td><td>130</td><td>8755083677</td><td>PRJNA484801</td><td>SAMN09769835</td><td>3691300841</td><td>Bulk_B </td><td>GEO</td><td>public</td><td>⋯</td><td>other</td><td>GENOMIC</td><td>B</td><td>Homo sapiens</td><td>ILLUMINA</td><td>2018-09-06T00:00:00Z</td><td>GSM3320230</td><td>primary blood</td><td>SRP156496</td><td>treatment1 </td></tr>\n",
       "\t<tr><th scope=row>3</th><td>SRR7650731</td><td>ATAC-seq</td><td>131</td><td>8483939942</td><td>PRJNA484801</td><td>SAMN09769834</td><td>3602660374</td><td>Mem_B  </td><td>GEO</td><td>public</td><td>⋯</td><td>other</td><td>GENOMIC</td><td>B</td><td>Homo sapiens</td><td>ILLUMINA</td><td>2018-09-06T00:00:00Z</td><td>GSM3320231</td><td>primary blood</td><td>SRP156496</td><td>no_treament</td></tr>\n",
       "\t<tr><th scope=row>4</th><td>SRR7650732</td><td>ATAC-seq</td><td>131</td><td>7895482240</td><td>PRJNA484801</td><td>SAMN09769833</td><td>3334427072</td><td>Mem_B  </td><td>GEO</td><td>public</td><td>⋯</td><td>other</td><td>GENOMIC</td><td>B</td><td>Homo sapiens</td><td>ILLUMINA</td><td>2018-09-06T00:00:00Z</td><td>GSM3320232</td><td>primary blood</td><td>SRP156496</td><td>treatment1 </td></tr>\n",
       "\t<tr><th scope=row>5</th><td>SRR7650733</td><td>ATAC-seq</td><td>132</td><td>7063118195</td><td>PRJNA484801</td><td>SAMN09769832</td><td>3012041722</td><td>Naive_B</td><td>GEO</td><td>public</td><td>⋯</td><td>other</td><td>GENOMIC</td><td>B</td><td>Homo sapiens</td><td>ILLUMINA</td><td>2018-09-06T00:00:00Z</td><td>GSM3320233</td><td>primary blood</td><td>SRP156496</td><td>no_treament</td></tr>\n",
       "\t<tr><th scope=row>6</th><td>SRR7650734</td><td>ATAC-seq</td><td>131</td><td>9335521479</td><td>PRJNA484801</td><td>SAMN09769831</td><td>3972942953</td><td>Naive_B</td><td>GEO</td><td>public</td><td>⋯</td><td>other</td><td>GENOMIC</td><td>B</td><td>Homo sapiens</td><td>ILLUMINA</td><td>2018-09-06T00:00:00Z</td><td>GSM3320234</td><td>primary blood</td><td>SRP156496</td><td>treatment1 </td></tr>\n",
       "</tbody>\n",
       "</table>\n"
      ],
      "text/latex": [
       "A data.frame: 6 × 28\n",
       "\\begin{tabular}{r|lllllllllllllllllllll}\n",
       "  & Run & Assay.Type & AvgSpotLen & Bases & BioProject & BioSample & Bytes & Cell\\_type & Center.Name & Consent & ⋯ & LibrarySelection & LibrarySource & lineage & Organism & Platform & ReleaseDate & Sample.Name & source\\_name & SRA.Study & Treatment\\\\\n",
       "  & <chr> & <chr> & <int> & <dbl> & <chr> & <chr> & <dbl> & <chr> & <chr> & <chr> & ⋯ & <chr> & <chr> & <chr> & <chr> & <chr> & <chr> & <chr> & <chr> & <chr> & <chr>\\\\\n",
       "\\hline\n",
       "\t1 & SRR7650729 & ATAC-seq & 130 & 7671684082 & PRJNA484801 & SAMN09769836 & 3235449960 & Bulk\\_B  & GEO & public & ⋯ & other & GENOMIC & B & Homo sapiens & ILLUMINA & 2018-09-06T00:00:00Z & GSM3320229 & primary blood & SRP156496 & no\\_treament\\\\\n",
       "\t2 & SRR7650730 & ATAC-seq & 130 & 8755083677 & PRJNA484801 & SAMN09769835 & 3691300841 & Bulk\\_B  & GEO & public & ⋯ & other & GENOMIC & B & Homo sapiens & ILLUMINA & 2018-09-06T00:00:00Z & GSM3320230 & primary blood & SRP156496 & treatment1 \\\\\n",
       "\t3 & SRR7650731 & ATAC-seq & 131 & 8483939942 & PRJNA484801 & SAMN09769834 & 3602660374 & Mem\\_B   & GEO & public & ⋯ & other & GENOMIC & B & Homo sapiens & ILLUMINA & 2018-09-06T00:00:00Z & GSM3320231 & primary blood & SRP156496 & no\\_treament\\\\\n",
       "\t4 & SRR7650732 & ATAC-seq & 131 & 7895482240 & PRJNA484801 & SAMN09769833 & 3334427072 & Mem\\_B   & GEO & public & ⋯ & other & GENOMIC & B & Homo sapiens & ILLUMINA & 2018-09-06T00:00:00Z & GSM3320232 & primary blood & SRP156496 & treatment1 \\\\\n",
       "\t5 & SRR7650733 & ATAC-seq & 132 & 7063118195 & PRJNA484801 & SAMN09769832 & 3012041722 & Naive\\_B & GEO & public & ⋯ & other & GENOMIC & B & Homo sapiens & ILLUMINA & 2018-09-06T00:00:00Z & GSM3320233 & primary blood & SRP156496 & no\\_treament\\\\\n",
       "\t6 & SRR7650734 & ATAC-seq & 131 & 9335521479 & PRJNA484801 & SAMN09769831 & 3972942953 & Naive\\_B & GEO & public & ⋯ & other & GENOMIC & B & Homo sapiens & ILLUMINA & 2018-09-06T00:00:00Z & GSM3320234 & primary blood & SRP156496 & treatment1 \\\\\n",
       "\\end{tabular}\n"
      ],
      "text/markdown": [
       "\n",
       "A data.frame: 6 × 28\n",
       "\n",
       "| <!--/--> | Run &lt;chr&gt; | Assay.Type &lt;chr&gt; | AvgSpotLen &lt;int&gt; | Bases &lt;dbl&gt; | BioProject &lt;chr&gt; | BioSample &lt;chr&gt; | Bytes &lt;dbl&gt; | Cell_type &lt;chr&gt; | Center.Name &lt;chr&gt; | Consent &lt;chr&gt; | ⋯ ⋯ | LibrarySelection &lt;chr&gt; | LibrarySource &lt;chr&gt; | lineage &lt;chr&gt; | Organism &lt;chr&gt; | Platform &lt;chr&gt; | ReleaseDate &lt;chr&gt; | Sample.Name &lt;chr&gt; | source_name &lt;chr&gt; | SRA.Study &lt;chr&gt; | Treatment &lt;chr&gt; |\n",
       "|---|---|---|---|---|---|---|---|---|---|---|---|---|---|---|---|---|---|---|---|---|---|\n",
       "| 1 | SRR7650729 | ATAC-seq | 130 | 7671684082 | PRJNA484801 | SAMN09769836 | 3235449960 | Bulk_B  | GEO | public | ⋯ | other | GENOMIC | B | Homo sapiens | ILLUMINA | 2018-09-06T00:00:00Z | GSM3320229 | primary blood | SRP156496 | no_treament |\n",
       "| 2 | SRR7650730 | ATAC-seq | 130 | 8755083677 | PRJNA484801 | SAMN09769835 | 3691300841 | Bulk_B  | GEO | public | ⋯ | other | GENOMIC | B | Homo sapiens | ILLUMINA | 2018-09-06T00:00:00Z | GSM3320230 | primary blood | SRP156496 | treatment1  |\n",
       "| 3 | SRR7650731 | ATAC-seq | 131 | 8483939942 | PRJNA484801 | SAMN09769834 | 3602660374 | Mem_B   | GEO | public | ⋯ | other | GENOMIC | B | Homo sapiens | ILLUMINA | 2018-09-06T00:00:00Z | GSM3320231 | primary blood | SRP156496 | no_treament |\n",
       "| 4 | SRR7650732 | ATAC-seq | 131 | 7895482240 | PRJNA484801 | SAMN09769833 | 3334427072 | Mem_B   | GEO | public | ⋯ | other | GENOMIC | B | Homo sapiens | ILLUMINA | 2018-09-06T00:00:00Z | GSM3320232 | primary blood | SRP156496 | treatment1  |\n",
       "| 5 | SRR7650733 | ATAC-seq | 132 | 7063118195 | PRJNA484801 | SAMN09769832 | 3012041722 | Naive_B | GEO | public | ⋯ | other | GENOMIC | B | Homo sapiens | ILLUMINA | 2018-09-06T00:00:00Z | GSM3320233 | primary blood | SRP156496 | no_treament |\n",
       "| 6 | SRR7650734 | ATAC-seq | 131 | 9335521479 | PRJNA484801 | SAMN09769831 | 3972942953 | Naive_B | GEO | public | ⋯ | other | GENOMIC | B | Homo sapiens | ILLUMINA | 2018-09-06T00:00:00Z | GSM3320234 | primary blood | SRP156496 | treatment1  |\n",
       "\n"
      ],
      "text/plain": [
       "  Run        Assay.Type AvgSpotLen Bases      BioProject  BioSample   \n",
       "1 SRR7650729 ATAC-seq   130        7671684082 PRJNA484801 SAMN09769836\n",
       "2 SRR7650730 ATAC-seq   130        8755083677 PRJNA484801 SAMN09769835\n",
       "3 SRR7650731 ATAC-seq   131        8483939942 PRJNA484801 SAMN09769834\n",
       "4 SRR7650732 ATAC-seq   131        7895482240 PRJNA484801 SAMN09769833\n",
       "5 SRR7650733 ATAC-seq   132        7063118195 PRJNA484801 SAMN09769832\n",
       "6 SRR7650734 ATAC-seq   131        9335521479 PRJNA484801 SAMN09769831\n",
       "  Bytes      Cell_type Center.Name Consent ⋯ LibrarySelection LibrarySource\n",
       "1 3235449960 Bulk_B    GEO         public  ⋯ other            GENOMIC      \n",
       "2 3691300841 Bulk_B    GEO         public  ⋯ other            GENOMIC      \n",
       "3 3602660374 Mem_B     GEO         public  ⋯ other            GENOMIC      \n",
       "4 3334427072 Mem_B     GEO         public  ⋯ other            GENOMIC      \n",
       "5 3012041722 Naive_B   GEO         public  ⋯ other            GENOMIC      \n",
       "6 3972942953 Naive_B   GEO         public  ⋯ other            GENOMIC      \n",
       "  lineage Organism     Platform ReleaseDate          Sample.Name source_name  \n",
       "1 B       Homo sapiens ILLUMINA 2018-09-06T00:00:00Z GSM3320229  primary blood\n",
       "2 B       Homo sapiens ILLUMINA 2018-09-06T00:00:00Z GSM3320230  primary blood\n",
       "3 B       Homo sapiens ILLUMINA 2018-09-06T00:00:00Z GSM3320231  primary blood\n",
       "4 B       Homo sapiens ILLUMINA 2018-09-06T00:00:00Z GSM3320232  primary blood\n",
       "5 B       Homo sapiens ILLUMINA 2018-09-06T00:00:00Z GSM3320233  primary blood\n",
       "6 B       Homo sapiens ILLUMINA 2018-09-06T00:00:00Z GSM3320234  primary blood\n",
       "  SRA.Study Treatment  \n",
       "1 SRP156496 no_treament\n",
       "2 SRP156496 treatment1 \n",
       "3 SRP156496 no_treament\n",
       "4 SRP156496 treatment1 \n",
       "5 SRP156496 no_treament\n",
       "6 SRP156496 treatment1 "
      ]
     },
     "metadata": {},
     "output_type": "display_data"
    }
   ],
   "source": [
    "head(meta)"
   ]
  },
  {
   "cell_type": "code",
   "execution_count": 4,
   "id": "0cdff4ec-e9b3-4ff1-b9f8-b71989bcc7e6",
   "metadata": {},
   "outputs": [
    {
     "data": {
      "text/html": [
       "<style>\n",
       ".list-inline {list-style: none; margin:0; padding: 0}\n",
       ".list-inline>li {display: inline-block}\n",
       ".list-inline>li:not(:last-child)::after {content: \"\\00b7\"; padding: 0 .5ex}\n",
       "</style>\n",
       "<ol class=list-inline><li>'Run'</li><li>'Assay.Type'</li><li>'AvgSpotLen'</li><li>'Bases'</li><li>'BioProject'</li><li>'BioSample'</li><li>'Bytes'</li><li>'Cell_type'</li><li>'Center.Name'</li><li>'Consent'</li><li>'DATASTORE.filetype'</li><li>'DATASTORE.provider'</li><li>'DATASTORE.region'</li><li>'Donor'</li><li>'Experiment'</li><li>'GEO_Accession..exp.'</li><li>'Instrument'</li><li>'LibraryLayout'</li><li>'LibrarySelection'</li><li>'LibrarySource'</li><li>'lineage'</li><li>'Organism'</li><li>'Platform'</li><li>'ReleaseDate'</li><li>'Sample.Name'</li><li>'source_name'</li><li>'SRA.Study'</li><li>'Treatment'</li></ol>\n"
      ],
      "text/latex": [
       "\\begin{enumerate*}\n",
       "\\item 'Run'\n",
       "\\item 'Assay.Type'\n",
       "\\item 'AvgSpotLen'\n",
       "\\item 'Bases'\n",
       "\\item 'BioProject'\n",
       "\\item 'BioSample'\n",
       "\\item 'Bytes'\n",
       "\\item 'Cell\\_type'\n",
       "\\item 'Center.Name'\n",
       "\\item 'Consent'\n",
       "\\item 'DATASTORE.filetype'\n",
       "\\item 'DATASTORE.provider'\n",
       "\\item 'DATASTORE.region'\n",
       "\\item 'Donor'\n",
       "\\item 'Experiment'\n",
       "\\item 'GEO\\_Accession..exp.'\n",
       "\\item 'Instrument'\n",
       "\\item 'LibraryLayout'\n",
       "\\item 'LibrarySelection'\n",
       "\\item 'LibrarySource'\n",
       "\\item 'lineage'\n",
       "\\item 'Organism'\n",
       "\\item 'Platform'\n",
       "\\item 'ReleaseDate'\n",
       "\\item 'Sample.Name'\n",
       "\\item 'source\\_name'\n",
       "\\item 'SRA.Study'\n",
       "\\item 'Treatment'\n",
       "\\end{enumerate*}\n"
      ],
      "text/markdown": [
       "1. 'Run'\n",
       "2. 'Assay.Type'\n",
       "3. 'AvgSpotLen'\n",
       "4. 'Bases'\n",
       "5. 'BioProject'\n",
       "6. 'BioSample'\n",
       "7. 'Bytes'\n",
       "8. 'Cell_type'\n",
       "9. 'Center.Name'\n",
       "10. 'Consent'\n",
       "11. 'DATASTORE.filetype'\n",
       "12. 'DATASTORE.provider'\n",
       "13. 'DATASTORE.region'\n",
       "14. 'Donor'\n",
       "15. 'Experiment'\n",
       "16. 'GEO_Accession..exp.'\n",
       "17. 'Instrument'\n",
       "18. 'LibraryLayout'\n",
       "19. 'LibrarySelection'\n",
       "20. 'LibrarySource'\n",
       "21. 'lineage'\n",
       "22. 'Organism'\n",
       "23. 'Platform'\n",
       "24. 'ReleaseDate'\n",
       "25. 'Sample.Name'\n",
       "26. 'source_name'\n",
       "27. 'SRA.Study'\n",
       "28. 'Treatment'\n",
       "\n",
       "\n"
      ],
      "text/plain": [
       " [1] \"Run\"                 \"Assay.Type\"          \"AvgSpotLen\"         \n",
       " [4] \"Bases\"               \"BioProject\"          \"BioSample\"          \n",
       " [7] \"Bytes\"               \"Cell_type\"           \"Center.Name\"        \n",
       "[10] \"Consent\"             \"DATASTORE.filetype\"  \"DATASTORE.provider\" \n",
       "[13] \"DATASTORE.region\"    \"Donor\"               \"Experiment\"         \n",
       "[16] \"GEO_Accession..exp.\" \"Instrument\"          \"LibraryLayout\"      \n",
       "[19] \"LibrarySelection\"    \"LibrarySource\"       \"lineage\"            \n",
       "[22] \"Organism\"            \"Platform\"            \"ReleaseDate\"        \n",
       "[25] \"Sample.Name\"         \"source_name\"         \"SRA.Study\"          \n",
       "[28] \"Treatment\"          "
      ]
     },
     "metadata": {},
     "output_type": "display_data"
    }
   ],
   "source": [
    "colnames(meta)"
   ]
  },
  {
   "cell_type": "markdown",
   "id": "aab498a5-7eee-4ec8-905e-1653629a8beb",
   "metadata": {},
   "source": [
    "## Basic Information about Data"
   ]
  },
  {
   "cell_type": "markdown",
   "id": "7087b097-4194-44a3-ac93-10aaf8ce54b4",
   "metadata": {},
   "source": [
    "There are 175 ATAC-Seq samples from the Calderon *et al.* study."
   ]
  },
  {
   "cell_type": "code",
   "execution_count": 5,
   "id": "dbf42350-9a4a-4748-86a8-24f843894611",
   "metadata": {},
   "outputs": [
    {
     "data": {
      "text/html": [
       "175"
      ],
      "text/latex": [
       "175"
      ],
      "text/markdown": [
       "175"
      ],
      "text/plain": [
       "[1] 175"
      ]
     },
     "metadata": {},
     "output_type": "display_data"
    }
   ],
   "source": [
    "nrow(meta)"
   ]
  },
  {
   "cell_type": "markdown",
   "id": "c91b91e6-b1a9-4a23-8dc4-9da3e5a9e845",
   "metadata": {},
   "source": [
    "Most samples were run on an Illumina HiSeq 4000. Some were run on an Illumina NovaSeq 6000. All samples runs generated paired-end 76 bp reads."
   ]
  },
  {
   "cell_type": "code",
   "execution_count": 6,
   "id": "61fb4f0b-de7b-43bc-8cbd-0d2c2334ede4",
   "metadata": {},
   "outputs": [
    {
     "data": {
      "text/plain": [
       "\n",
       "  Illumina HiSeq 4000 Illumina NovaSeq 6000 \n",
       "                  159                    16 "
      ]
     },
     "metadata": {},
     "output_type": "display_data"
    },
    {
     "data": {
      "text/plain": [
       "\n",
       "PAIRED \n",
       "   175 "
      ]
     },
     "metadata": {},
     "output_type": "display_data"
    },
    {
     "data": {
      "text/plain": [
       "\n",
       "other \n",
       "  175 "
      ]
     },
     "metadata": {},
     "output_type": "display_data"
    },
    {
     "data": {
      "text/plain": [
       "\n",
       "GENOMIC \n",
       "    175 "
      ]
     },
     "metadata": {},
     "output_type": "display_data"
    },
    {
     "data": {
      "text/plain": [
       "\n",
       "ILLUMINA \n",
       "     175 "
      ]
     },
     "metadata": {},
     "output_type": "display_data"
    }
   ],
   "source": [
    "table(meta$Instrument)\n",
    "table(meta$LibraryLayout)\n",
    "table(meta$LibrarySelection)\n",
    "table(meta$LibrarySource)\n",
    "table(meta$Platform)"
   ]
  },
  {
   "cell_type": "code",
   "execution_count": 7,
   "id": "f96eb962-e311-41eb-8dba-6a34abcb4aaa",
   "metadata": {},
   "outputs": [
    {
     "data": {
      "image/png": "[encoded data removed]",
      "text/plain": [
       "plot without title"
      ]
     },
     "metadata": {
      "image/png": {
       "height": 420,
       "width": 420
      }
     },
     "output_type": "display_data"
    }
   ],
   "source": [
    "meta %>%\n",
    "    ggplot() +\n",
    "    geom_histogram(aes(x=AvgSpotLen, fill=Instrument), binwidth=10) +\n",
    "    scale_fill_brewer(palette=\"Pastel1\") +\n",
    "    ggplot_theme"
   ]
  },
  {
   "cell_type": "markdown",
   "id": "7a3cf508-7054-4431-beee-d7bd5179645d",
   "metadata": {},
   "source": [
    "There are 25 different primary cell types."
   ]
  },
  {
   "cell_type": "code",
   "execution_count": 10,
   "id": "557a7b47-e73b-4ab9-a0e1-6b1254901f61",
   "metadata": {},
   "outputs": [
    {
     "data": {
      "text/html": [
       "25"
      ],
      "text/latex": [
       "25"
      ],
      "text/markdown": [
       "25"
      ],
      "text/plain": [
       "[1] 25"
      ]
     },
     "metadata": {},
     "output_type": "display_data"
    },
    {
     "data": {
      "text/plain": [
       "\n",
       "                  Bulk_B                 CD8pos_T  Central_memory_CD8pos_T \n",
       "                       7                        7                        8 \n",
       "       Effector_CD4pos_T Effector_memory_CD8pos_T      Follicular_T_Helper \n",
       "                       7                        8                        9 \n",
       "           Gamma_delta_T              Immature_NK                Mature_NK \n",
       "                       7                        5                       10 \n",
       "                   Mem_B                Memory_NK             Memory_Teffs \n",
       "                       8                        6                        8 \n",
       "            Memory_Tregs                Monocytes              Myeloid_DCs \n",
       "                       8                        9                        3 \n",
       "                 Naive_B              Naive_CD8_T              Naive_Teffs \n",
       "                       7                        8                        9 \n",
       "             Naive_Tregs                     pDCs             Plasmablasts \n",
       "                       4                        3                        3 \n",
       "            Regulatory_T           Th1_precursors          Th17_precursors \n",
       "                       8                        8                        7 \n",
       "          Th2_precursors \n",
       "                       8 "
      ]
     },
     "metadata": {},
     "output_type": "display_data"
    }
   ],
   "source": [
    "length(unique(meta$Cell_type))\n",
    "table(meta$Cell_type)"
   ]
  },
  {
   "cell_type": "markdown",
   "id": "a288f15c-2b78-4ed4-9351-6a59ee2a3219",
   "metadata": {},
   "source": [
    "These 25 cell types belong to 6 broad cell lineages. Most samples come from CD4 T cells, followed by CD8 T Cells."
   ]
  },
  {
   "cell_type": "code",
   "execution_count": 11,
   "id": "ed45cb1d-897d-44f3-8cac-18aa644fb103",
   "metadata": {},
   "outputs": [
    {
     "data": {
      "text/html": [
       "6"
      ],
      "text/latex": [
       "6"
      ],
      "text/markdown": [
       "6"
      ],
      "text/plain": [
       "[1] 6"
      ]
     },
     "metadata": {},
     "output_type": "display_data"
    },
    {
     "data": {
      "text/plain": [
       "\n",
       "      B     CD4     CD8      GD MYELOID      NK \n",
       "     25      76      31       7      15      21 "
      ]
     },
     "metadata": {},
     "output_type": "display_data"
    }
   ],
   "source": [
    "length(unique(meta$lineage))\n",
    "table(meta$lineage)"
   ]
  },
  {
   "cell_type": "code",
   "execution_count": 17,
   "id": "fca54c71-edb6-4fb6-838c-910cfdaa1195",
   "metadata": {},
   "outputs": [
    {
     "data": {
      "text/html": [
       "<table class=\"dataframe\">\n",
       "<caption>A data.frame: 25 × 2</caption>\n",
       "<thead>\n",
       "\t<tr><th></th><th scope=col>Cell_type</th><th scope=col>lineage</th></tr>\n",
       "\t<tr><th></th><th scope=col>&lt;chr&gt;</th><th scope=col>&lt;chr&gt;</th></tr>\n",
       "</thead>\n",
       "<tbody>\n",
       "\t<tr><th scope=row>1</th><td>Bulk_B                  </td><td>B      </td></tr>\n",
       "\t<tr><th scope=row>3</th><td>Mem_B                   </td><td>B      </td></tr>\n",
       "\t<tr><th scope=row>5</th><td>Naive_B                 </td><td>B      </td></tr>\n",
       "\t<tr><th scope=row>7</th><td>Plasmablasts            </td><td>B      </td></tr>\n",
       "\t<tr><th scope=row>8</th><td>CD8pos_T                </td><td>CD8    </td></tr>\n",
       "\t<tr><th scope=row>10</th><td>Central_memory_CD8pos_T </td><td>CD8    </td></tr>\n",
       "\t<tr><th scope=row>12</th><td>Effector_memory_CD8pos_T</td><td>CD8    </td></tr>\n",
       "\t<tr><th scope=row>14</th><td>Naive_CD8_T             </td><td>CD8    </td></tr>\n",
       "\t<tr><th scope=row>16</th><td>Gamma_delta_T           </td><td>GD     </td></tr>\n",
       "\t<tr><th scope=row>17</th><td>Effector_CD4pos_T       </td><td>CD4    </td></tr>\n",
       "\t<tr><th scope=row>19</th><td>Follicular_T_Helper     </td><td>CD4    </td></tr>\n",
       "\t<tr><th scope=row>21</th><td>Memory_Teffs            </td><td>CD4    </td></tr>\n",
       "\t<tr><th scope=row>23</th><td>Memory_Tregs            </td><td>CD4    </td></tr>\n",
       "\t<tr><th scope=row>25</th><td>Naive_Teffs             </td><td>CD4    </td></tr>\n",
       "\t<tr><th scope=row>27</th><td>Regulatory_T            </td><td>CD4    </td></tr>\n",
       "\t<tr><th scope=row>29</th><td>Th1_precursors          </td><td>CD4    </td></tr>\n",
       "\t<tr><th scope=row>31</th><td>Th17_precursors         </td><td>CD4    </td></tr>\n",
       "\t<tr><th scope=row>33</th><td>Th2_precursors          </td><td>CD4    </td></tr>\n",
       "\t<tr><th scope=row>35</th><td>Immature_NK             </td><td>NK     </td></tr>\n",
       "\t<tr><th scope=row>36</th><td>Mature_NK               </td><td>NK     </td></tr>\n",
       "\t<tr><th scope=row>38</th><td>Memory_NK               </td><td>NK     </td></tr>\n",
       "\t<tr><th scope=row>39</th><td>Monocytes               </td><td>MYELOID</td></tr>\n",
       "\t<tr><th scope=row>41</th><td>Myeloid_DCs             </td><td>MYELOID</td></tr>\n",
       "\t<tr><th scope=row>42</th><td>pDCs                    </td><td>MYELOID</td></tr>\n",
       "\t<tr><th scope=row>144</th><td>Naive_Tregs             </td><td>CD4    </td></tr>\n",
       "</tbody>\n",
       "</table>\n"
      ],
      "text/latex": [
       "A data.frame: 25 × 2\n",
       "\\begin{tabular}{r|ll}\n",
       "  & Cell\\_type & lineage\\\\\n",
       "  & <chr> & <chr>\\\\\n",
       "\\hline\n",
       "\t1 & Bulk\\_B                   & B      \\\\\n",
       "\t3 & Mem\\_B                    & B      \\\\\n",
       "\t5 & Naive\\_B                  & B      \\\\\n",
       "\t7 & Plasmablasts             & B      \\\\\n",
       "\t8 & CD8pos\\_T                 & CD8    \\\\\n",
       "\t10 & Central\\_memory\\_CD8pos\\_T  & CD8    \\\\\n",
       "\t12 & Effector\\_memory\\_CD8pos\\_T & CD8    \\\\\n",
       "\t14 & Naive\\_CD8\\_T              & CD8    \\\\\n",
       "\t16 & Gamma\\_delta\\_T            & GD     \\\\\n",
       "\t17 & Effector\\_CD4pos\\_T        & CD4    \\\\\n",
       "\t19 & Follicular\\_T\\_Helper      & CD4    \\\\\n",
       "\t21 & Memory\\_Teffs             & CD4    \\\\\n",
       "\t23 & Memory\\_Tregs             & CD4    \\\\\n",
       "\t25 & Naive\\_Teffs              & CD4    \\\\\n",
       "\t27 & Regulatory\\_T             & CD4    \\\\\n",
       "\t29 & Th1\\_precursors           & CD4    \\\\\n",
       "\t31 & Th17\\_precursors          & CD4    \\\\\n",
       "\t33 & Th2\\_precursors           & CD4    \\\\\n",
       "\t35 & Immature\\_NK              & NK     \\\\\n",
       "\t36 & Mature\\_NK                & NK     \\\\\n",
       "\t38 & Memory\\_NK                & NK     \\\\\n",
       "\t39 & Monocytes                & MYELOID\\\\\n",
       "\t41 & Myeloid\\_DCs              & MYELOID\\\\\n",
       "\t42 & pDCs                     & MYELOID\\\\\n",
       "\t144 & Naive\\_Tregs              & CD4    \\\\\n",
       "\\end{tabular}\n"
      ],
      "text/markdown": [
       "\n",
       "A data.frame: 25 × 2\n",
       "\n",
       "| <!--/--> | Cell_type &lt;chr&gt; | lineage &lt;chr&gt; |\n",
       "|---|---|---|\n",
       "| 1 | Bulk_B                   | B       |\n",
       "| 3 | Mem_B                    | B       |\n",
       "| 5 | Naive_B                  | B       |\n",
       "| 7 | Plasmablasts             | B       |\n",
       "| 8 | CD8pos_T                 | CD8     |\n",
       "| 10 | Central_memory_CD8pos_T  | CD8     |\n",
       "| 12 | Effector_memory_CD8pos_T | CD8     |\n",
       "| 14 | Naive_CD8_T              | CD8     |\n",
       "| 16 | Gamma_delta_T            | GD      |\n",
       "| 17 | Effector_CD4pos_T        | CD4     |\n",
       "| 19 | Follicular_T_Helper      | CD4     |\n",
       "| 21 | Memory_Teffs             | CD4     |\n",
       "| 23 | Memory_Tregs             | CD4     |\n",
       "| 25 | Naive_Teffs              | CD4     |\n",
       "| 27 | Regulatory_T             | CD4     |\n",
       "| 29 | Th1_precursors           | CD4     |\n",
       "| 31 | Th17_precursors          | CD4     |\n",
       "| 33 | Th2_precursors           | CD4     |\n",
       "| 35 | Immature_NK              | NK      |\n",
       "| 36 | Mature_NK                | NK      |\n",
       "| 38 | Memory_NK                | NK      |\n",
       "| 39 | Monocytes                | MYELOID |\n",
       "| 41 | Myeloid_DCs              | MYELOID |\n",
       "| 42 | pDCs                     | MYELOID |\n",
       "| 144 | Naive_Tregs              | CD4     |\n",
       "\n"
      ],
      "text/plain": [
       "    Cell_type                lineage\n",
       "1   Bulk_B                   B      \n",
       "3   Mem_B                    B      \n",
       "5   Naive_B                  B      \n",
       "7   Plasmablasts             B      \n",
       "8   CD8pos_T                 CD8    \n",
       "10  Central_memory_CD8pos_T  CD8    \n",
       "12  Effector_memory_CD8pos_T CD8    \n",
       "14  Naive_CD8_T              CD8    \n",
       "16  Gamma_delta_T            GD     \n",
       "17  Effector_CD4pos_T        CD4    \n",
       "19  Follicular_T_Helper      CD4    \n",
       "21  Memory_Teffs             CD4    \n",
       "23  Memory_Tregs             CD4    \n",
       "25  Naive_Teffs              CD4    \n",
       "27  Regulatory_T             CD4    \n",
       "29  Th1_precursors           CD4    \n",
       "31  Th17_precursors          CD4    \n",
       "33  Th2_precursors           CD4    \n",
       "35  Immature_NK              NK     \n",
       "36  Mature_NK                NK     \n",
       "38  Memory_NK                NK     \n",
       "39  Monocytes                MYELOID\n",
       "41  Myeloid_DCs              MYELOID\n",
       "42  pDCs                     MYELOID\n",
       "144 Naive_Tregs              CD4    "
      ]
     },
     "metadata": {},
     "output_type": "display_data"
    }
   ],
   "source": [
    "meta %>%\n",
    "    dplyr::select(Cell_type, lineage) %>%\n",
    "    unique()"
   ]
  },
  {
   "cell_type": "markdown",
   "id": "b36bf1eb-e09d-44d1-8380-71224dea36a2",
   "metadata": {},
   "source": [
    "Samples were either unstimulated (`no_treament`) or stimulated (`treatment1` or `treatment2`). More than one treatment was used for Mature NK cells, Monocytes, Naive Effector T Cells, and Naive Regulatory T Cells."
   ]
  },
  {
   "cell_type": "code",
   "execution_count": 13,
   "id": "5215ff25-e82d-415f-8dab-789347e93d4b",
   "metadata": {},
   "outputs": [
    {
     "data": {
      "text/plain": [
       "\n",
       "no_treament  treatment1  treatment2 \n",
       "         97          71           7 "
      ]
     },
     "metadata": {},
     "output_type": "display_data"
    },
    {
     "data": {
      "text/plain": [
       "                          \n",
       "                           no_treament treatment1 treatment2\n",
       "  Bulk_B                             4          3          0\n",
       "  CD8pos_T                           4          3          0\n",
       "  Central_memory_CD8pos_T            4          4          0\n",
       "  Effector_CD4pos_T                  4          3          0\n",
       "  Effector_memory_CD8pos_T           4          4          0\n",
       "  Follicular_T_Helper                5          4          0\n",
       "  Gamma_delta_T                      4          3          0\n",
       "  Immature_NK                        5          0          0\n",
       "  Mature_NK                          4          4          2\n",
       "  Mem_B                              4          3          1\n",
       "  Memory_NK                          6          0          0\n",
       "  Memory_Teffs                       4          4          0\n",
       "  Memory_Tregs                       4          4          0\n",
       "  Monocytes                          3          4          2\n",
       "  Myeloid_DCs                        3          0          0\n",
       "  Naive_B                            4          3          0\n",
       "  Naive_CD8_T                        4          4          0\n",
       "  Naive_Teffs                        4          4          1\n",
       "  Naive_Tregs                        2          1          1\n",
       "  pDCs                               3          0          0\n",
       "  Plasmablasts                       3          0          0\n",
       "  Regulatory_T                       4          4          0\n",
       "  Th1_precursors                     4          4          0\n",
       "  Th17_precursors                    3          4          0\n",
       "  Th2_precursors                     4          4          0"
      ]
     },
     "metadata": {},
     "output_type": "display_data"
    }
   ],
   "source": [
    "table(meta$Treatment)\n",
    "table(meta$Cell_type, meta$Treatment)"
   ]
  },
  {
   "cell_type": "markdown",
   "id": "d189c576-c4e6-4719-a0ac-f3144c607633",
   "metadata": {},
   "source": [
    "The samples were generated from 7 donors. 4 of the donors contributed to a large number of samples."
   ]
  },
  {
   "cell_type": "code",
   "execution_count": 15,
   "id": "5b645c97-e16a-4dce-9809-84885a728cb7",
   "metadata": {},
   "outputs": [
    {
     "data": {
      "text/html": [
       "7"
      ],
      "text/latex": [
       "7"
      ],
      "text/markdown": [
       "7"
      ],
      "text/plain": [
       "[1] 7"
      ]
     },
     "metadata": {},
     "output_type": "display_data"
    },
    {
     "data": {
      "text/plain": [
       "\n",
       "1001 1002 1003 1004 1008 1010 1011 \n",
       "  42   41   39   37    8    7    1 "
      ]
     },
     "metadata": {},
     "output_type": "display_data"
    }
   ],
   "source": [
    "length(unique(meta$Donor))\n",
    "table(meta$Donor)"
   ]
  },
  {
   "cell_type": "code",
   "execution_count": null,
   "id": "474386fe-3ba1-4aa6-82d1-a4e07b7645e3",
   "metadata": {},
   "outputs": [],
   "source": []
  }
 ],
 "metadata": {
  "kernelspec": {
   "display_name": "R",
   "language": "R",
   "name": "ir"
  },
  "language_info": {
   "codemirror_mode": "r",
   "file_extension": ".r",
   "mimetype": "text/x-r-source",
   "name": "R",
   "pygments_lexer": "r",
   "version": "4.0.5"
  }
 },
 "nbformat": 4,
 "nbformat_minor": 5
}
