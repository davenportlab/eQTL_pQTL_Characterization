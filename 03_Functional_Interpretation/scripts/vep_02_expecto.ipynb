{
 "cells": [
  {
   "cell_type": "markdown",
   "id": "44598895-d393-467a-a6c3-ccb29b1aeb14",
   "metadata": {},
   "source": [
    "## QTL Expecto Analysis\n",
    "\n",
    "**Created**: 7 June 2022"
   ]
  },
  {
   "cell_type": "markdown",
   "id": "81b8724d-9b37-4a8f-8005-528a9c9cdf8e",
   "metadata": {},
   "source": [
    "## Environment"
   ]
  },
  {
   "cell_type": "code",
   "execution_count": 1,
   "id": "a4868818-8c2a-4531-9e03-762a5e3bfca8",
   "metadata": {},
   "outputs": [
    {
     "name": "stderr",
     "output_type": "stream",
     "text": [
      "── \u001b[1mAttaching packages\u001b[22m ───────────────────────────────────────────────────────────────────────────────────────────────────────────────────────────────────────────────────────────────── tidyverse 1.3.1 ──\n",
      "\n",
      "\u001b[32m✔\u001b[39m \u001b[34mggplot2\u001b[39m 3.3.5     \u001b[32m✔\u001b[39m \u001b[34mpurrr  \u001b[39m 0.3.4\n",
      "\u001b[32m✔\u001b[39m \u001b[34mtibble \u001b[39m 3.1.6     \u001b[32m✔\u001b[39m \u001b[34mdplyr  \u001b[39m 1.0.8\n",
      "\u001b[32m✔\u001b[39m \u001b[34mtidyr  \u001b[39m 1.2.0     \u001b[32m✔\u001b[39m \u001b[34mstringr\u001b[39m 1.4.0\n",
      "\u001b[32m✔\u001b[39m \u001b[34mreadr  \u001b[39m 2.1.1     \u001b[32m✔\u001b[39m \u001b[34mforcats\u001b[39m 0.5.1\n",
      "\n",
      "── \u001b[1mConflicts\u001b[22m ──────────────────────────────────────────────────────────────────────────────────────────────────────────────────────────────────────────────────────────────────── tidyverse_conflicts() ──\n",
      "\u001b[31m✖\u001b[39m \u001b[34mdplyr\u001b[39m::\u001b[32mfilter()\u001b[39m masks \u001b[34mstats\u001b[39m::filter()\n",
      "\u001b[31m✖\u001b[39m \u001b[34mdplyr\u001b[39m::\u001b[32mlag()\u001b[39m    masks \u001b[34mstats\u001b[39m::lag()\n",
      "\n",
      "\n",
      "Attaching package: ‘data.table’\n",
      "\n",
      "\n",
      "The following objects are masked from ‘package:dplyr’:\n",
      "\n",
      "    between, first, last\n",
      "\n",
      "\n",
      "The following object is masked from ‘package:purrr’:\n",
      "\n",
      "    transpose\n",
      "\n",
      "\n"
     ]
    }
   ],
   "source": [
    "library(tidyverse)\n",
    "library(data.table)\n",
    "\n",
    "setwd(\"~/eQTL_pQTL_Characterization/\")\n",
    "\n",
    "source(\"03_Functional_Interpretation/scripts/utils/ggplot_theme.R\")"
   ]
  },
  {
   "cell_type": "markdown",
   "id": "87749052-952e-4235-9887-af639da85412",
   "metadata": {},
   "source": [
    "## Load Data"
   ]
  },
  {
   "cell_type": "code",
   "execution_count": 34,
   "id": "c61e5a43-3b7e-4175-a3b8-3eb04b187c98",
   "metadata": {},
   "outputs": [],
   "source": [
    "vcf <- fread(\"~/gains_team282/nikhil/data/Expecto/a3685cc7-0fa1-4c10-8aeb-f9f7cffffe7e_qtl_hg19.vcf\") %>%\n",
    "    as.data.frame()\n",
    "\n",
    "colnames(vcf) <- c(\"chr\", \"pos\", \"snp\", \"ref\", \"alt\")"
   ]
  },
  {
   "cell_type": "code",
   "execution_count": 42,
   "id": "760130f2-4f46-4134-9361-e39c6327595e",
   "metadata": {},
   "outputs": [],
   "source": [
    "expecto <- fread(\"~/gains_team282/nikhil/data/Expecto/a3685cc7-0fa1-4c10-8aeb-f9f7cffffe7e_feature_expecto.tsv\") %>%\n",
    "    as.data.frame() %>%\n",
    "    dplyr::select(chrom=1, everything()) %>%\n",
    "    merge(vcf, ., by.x=c(\"chr\", \"pos\"), by.y=c(\"chrom\", \"position\"))"
   ]
  },
  {
   "cell_type": "code",
   "execution_count": 44,
   "id": "41859fc9-760a-49d5-8929-40488ad234ea",
   "metadata": {},
   "outputs": [
    {
     "data": {
      "text/html": [
       "<table class=\"dataframe\">\n",
       "<caption>A data.frame: 6 × 226</caption>\n",
       "<thead>\n",
       "\t<tr><th></th><th scope=col>chr</th><th scope=col>pos</th><th scope=col>snp</th><th scope=col>ref</th><th scope=col>alt</th><th scope=col>ref_allele</th><th scope=col>alt_allele</th><th scope=col>gene</th><th scope=col>Adipose Subcutaneous</th><th scope=col>Adipose Visceral Omentum</th><th scope=col>⋯</th><th scope=col>Temporal Lobe</th><th scope=col>Thoracic Aorta Endothelial Cell</th><th scope=col>Thyroid | ENCODE</th><th scope=col>Tongue</th><th scope=col>Tracheal Epithelial Cell</th><th scope=col>Umbilical Cord</th><th scope=col>Urinary Bladder</th><th scope=col>Uterine Smooth Muscle Cell</th><th scope=col>Uterus | ENCODE</th><th scope=col>Vein Endothelial Cell</th></tr>\n",
       "\t<tr><th></th><th scope=col>&lt;chr&gt;</th><th scope=col>&lt;int&gt;</th><th scope=col>&lt;chr&gt;</th><th scope=col>&lt;chr&gt;</th><th scope=col>&lt;chr&gt;</th><th scope=col>&lt;chr&gt;</th><th scope=col>&lt;chr&gt;</th><th scope=col>&lt;chr&gt;</th><th scope=col>&lt;dbl&gt;</th><th scope=col>&lt;dbl&gt;</th><th scope=col>⋯</th><th scope=col>&lt;dbl&gt;</th><th scope=col>&lt;dbl&gt;</th><th scope=col>&lt;dbl&gt;</th><th scope=col>&lt;dbl&gt;</th><th scope=col>&lt;dbl&gt;</th><th scope=col>&lt;dbl&gt;</th><th scope=col>&lt;dbl&gt;</th><th scope=col>&lt;dbl&gt;</th><th scope=col>&lt;dbl&gt;</th><th scope=col>&lt;dbl&gt;</th></tr>\n",
       "</thead>\n",
       "<tbody>\n",
       "\t<tr><th scope=row>1</th><td>chr1</td><td>100224606</td><td>rs1856404  </td><td>C</td><td>G</td><td>C</td><td>G</td><td>FRRS1  </td><td>-0.0053164959</td><td>-0.0061457157</td><td>⋯</td><td>-0.0132591724</td><td>-1.091862e-02</td><td>-0.0035233498</td><td>-0.0108458996</td><td>-0.0188245773</td><td>-0.0103046894</td><td>-0.0117738247</td><td>-0.0135203600</td><td>-0.0136202574</td><td>-0.0105422735</td></tr>\n",
       "\t<tr><th scope=row>2</th><td>chr1</td><td>100427842</td><td>rs6667554  </td><td>G</td><td>C</td><td>G</td><td>C</td><td>SLC35A3</td><td> 0.0003256798</td><td> 0.0003324747</td><td>⋯</td><td> 0.0002754927</td><td> 2.343655e-04</td><td> 0.0003899336</td><td> 0.0003474951</td><td> 0.0005524158</td><td> 0.0004670620</td><td> 0.0004462004</td><td> 0.0004855394</td><td> 0.0001429319</td><td> 0.0003037453</td></tr>\n",
       "\t<tr><th scope=row>3</th><td>chr1</td><td>100644888</td><td>rs17122019 </td><td>G</td><td>A</td><td>G</td><td>A</td><td>LRRC39 </td><td>-0.0213813782</td><td>-0.0229520798</td><td>⋯</td><td>-0.0135490894</td><td>-1.073885e-02</td><td>-0.0198827982</td><td>-0.0164791346</td><td>-0.0140150785</td><td>-0.0101581812</td><td>-0.0168492794</td><td>-0.0102800131</td><td>-0.0159051418</td><td>-0.0093977451</td></tr>\n",
       "\t<tr><th scope=row>4</th><td>chr1</td><td> 10077493</td><td>rs112151087</td><td>C</td><td>T</td><td>C</td><td>T</td><td>UBE4B  </td><td> 0.0005069971</td><td> 0.0005216599</td><td>⋯</td><td> 0.0009940863</td><td> 8.099079e-04</td><td> 0.0008097887</td><td> 0.0008544922</td><td> 0.0011070967</td><td> 0.0008628368</td><td> 0.0007957220</td><td> 0.0009953976</td><td> 0.0007995367</td><td> 0.0008517504</td></tr>\n",
       "\t<tr><th scope=row>5</th><td>chr1</td><td> 10086392</td><td>rs9661116  </td><td>G</td><td>A</td><td>G</td><td>A</td><td>UBE4B  </td><td> 0.0055696964</td><td> 0.0057829618</td><td>⋯</td><td> 0.0025037527</td><td> 2.992153e-05</td><td> 0.0043517351</td><td> 0.0017019510</td><td> 0.0015496016</td><td> 0.0015032291</td><td> 0.0029664040</td><td> 0.0012407303</td><td> 0.0040307045</td><td> 0.0009251833</td></tr>\n",
       "\t<tr><th scope=row>6</th><td>chr1</td><td>101373328</td><td>rs12040671 </td><td>A</td><td>G</td><td>A</td><td>G</td><td>SLC30A7</td><td> 0.0022004843</td><td> 0.0019416809</td><td>⋯</td><td> 0.0052421093</td><td> 5.744457e-03</td><td> 0.0027155876</td><td> 0.0035191774</td><td> 0.0043978691</td><td> 0.0033696890</td><td> 0.0032068491</td><td> 0.0042198896</td><td> 0.0040071011</td><td> 0.0057927370</td></tr>\n",
       "</tbody>\n",
       "</table>\n"
      ],
      "text/latex": [
       "A data.frame: 6 × 226\n",
       "\\begin{tabular}{r|lllllllllllllllllllll}\n",
       "  & chr & pos & snp & ref & alt & ref\\_allele & alt\\_allele & gene & Adipose Subcutaneous & Adipose Visceral Omentum & ⋯ & Temporal Lobe & Thoracic Aorta Endothelial Cell & Thyroid \\textbar{} ENCODE & Tongue & Tracheal Epithelial Cell & Umbilical Cord & Urinary Bladder & Uterine Smooth Muscle Cell & Uterus \\textbar{} ENCODE & Vein Endothelial Cell\\\\\n",
       "  & <chr> & <int> & <chr> & <chr> & <chr> & <chr> & <chr> & <chr> & <dbl> & <dbl> & ⋯ & <dbl> & <dbl> & <dbl> & <dbl> & <dbl> & <dbl> & <dbl> & <dbl> & <dbl> & <dbl>\\\\\n",
       "\\hline\n",
       "\t1 & chr1 & 100224606 & rs1856404   & C & G & C & G & FRRS1   & -0.0053164959 & -0.0061457157 & ⋯ & -0.0132591724 & -1.091862e-02 & -0.0035233498 & -0.0108458996 & -0.0188245773 & -0.0103046894 & -0.0117738247 & -0.0135203600 & -0.0136202574 & -0.0105422735\\\\\n",
       "\t2 & chr1 & 100427842 & rs6667554   & G & C & G & C & SLC35A3 &  0.0003256798 &  0.0003324747 & ⋯ &  0.0002754927 &  2.343655e-04 &  0.0003899336 &  0.0003474951 &  0.0005524158 &  0.0004670620 &  0.0004462004 &  0.0004855394 &  0.0001429319 &  0.0003037453\\\\\n",
       "\t3 & chr1 & 100644888 & rs17122019  & G & A & G & A & LRRC39  & -0.0213813782 & -0.0229520798 & ⋯ & -0.0135490894 & -1.073885e-02 & -0.0198827982 & -0.0164791346 & -0.0140150785 & -0.0101581812 & -0.0168492794 & -0.0102800131 & -0.0159051418 & -0.0093977451\\\\\n",
       "\t4 & chr1 &  10077493 & rs112151087 & C & T & C & T & UBE4B   &  0.0005069971 &  0.0005216599 & ⋯ &  0.0009940863 &  8.099079e-04 &  0.0008097887 &  0.0008544922 &  0.0011070967 &  0.0008628368 &  0.0007957220 &  0.0009953976 &  0.0007995367 &  0.0008517504\\\\\n",
       "\t5 & chr1 &  10086392 & rs9661116   & G & A & G & A & UBE4B   &  0.0055696964 &  0.0057829618 & ⋯ &  0.0025037527 &  2.992153e-05 &  0.0043517351 &  0.0017019510 &  0.0015496016 &  0.0015032291 &  0.0029664040 &  0.0012407303 &  0.0040307045 &  0.0009251833\\\\\n",
       "\t6 & chr1 & 101373328 & rs12040671  & A & G & A & G & SLC30A7 &  0.0022004843 &  0.0019416809 & ⋯ &  0.0052421093 &  5.744457e-03 &  0.0027155876 &  0.0035191774 &  0.0043978691 &  0.0033696890 &  0.0032068491 &  0.0042198896 &  0.0040071011 &  0.0057927370\\\\\n",
       "\\end{tabular}\n"
      ],
      "text/markdown": [
       "\n",
       "A data.frame: 6 × 226\n",
       "\n",
       "| <!--/--> | chr &lt;chr&gt; | pos &lt;int&gt; | snp &lt;chr&gt; | ref &lt;chr&gt; | alt &lt;chr&gt; | ref_allele &lt;chr&gt; | alt_allele &lt;chr&gt; | gene &lt;chr&gt; | Adipose Subcutaneous &lt;dbl&gt; | Adipose Visceral Omentum &lt;dbl&gt; | ⋯ ⋯ | Temporal Lobe &lt;dbl&gt; | Thoracic Aorta Endothelial Cell &lt;dbl&gt; | Thyroid | ENCODE &lt;dbl&gt; | Tongue &lt;dbl&gt; | Tracheal Epithelial Cell &lt;dbl&gt; | Umbilical Cord &lt;dbl&gt; | Urinary Bladder &lt;dbl&gt; | Uterine Smooth Muscle Cell &lt;dbl&gt; | Uterus | ENCODE &lt;dbl&gt; | Vein Endothelial Cell &lt;dbl&gt; |\n",
       "|---|---|---|---|---|---|---|---|---|---|---|---|---|---|---|---|---|---|---|---|---|---|\n",
       "| 1 | chr1 | 100224606 | rs1856404   | C | G | C | G | FRRS1   | -0.0053164959 | -0.0061457157 | ⋯ | -0.0132591724 | -1.091862e-02 | -0.0035233498 | -0.0108458996 | -0.0188245773 | -0.0103046894 | -0.0117738247 | -0.0135203600 | -0.0136202574 | -0.0105422735 |\n",
       "| 2 | chr1 | 100427842 | rs6667554   | G | C | G | C | SLC35A3 |  0.0003256798 |  0.0003324747 | ⋯ |  0.0002754927 |  2.343655e-04 |  0.0003899336 |  0.0003474951 |  0.0005524158 |  0.0004670620 |  0.0004462004 |  0.0004855394 |  0.0001429319 |  0.0003037453 |\n",
       "| 3 | chr1 | 100644888 | rs17122019  | G | A | G | A | LRRC39  | -0.0213813782 | -0.0229520798 | ⋯ | -0.0135490894 | -1.073885e-02 | -0.0198827982 | -0.0164791346 | -0.0140150785 | -0.0101581812 | -0.0168492794 | -0.0102800131 | -0.0159051418 | -0.0093977451 |\n",
       "| 4 | chr1 |  10077493 | rs112151087 | C | T | C | T | UBE4B   |  0.0005069971 |  0.0005216599 | ⋯ |  0.0009940863 |  8.099079e-04 |  0.0008097887 |  0.0008544922 |  0.0011070967 |  0.0008628368 |  0.0007957220 |  0.0009953976 |  0.0007995367 |  0.0008517504 |\n",
       "| 5 | chr1 |  10086392 | rs9661116   | G | A | G | A | UBE4B   |  0.0055696964 |  0.0057829618 | ⋯ |  0.0025037527 |  2.992153e-05 |  0.0043517351 |  0.0017019510 |  0.0015496016 |  0.0015032291 |  0.0029664040 |  0.0012407303 |  0.0040307045 |  0.0009251833 |\n",
       "| 6 | chr1 | 101373328 | rs12040671  | A | G | A | G | SLC30A7 |  0.0022004843 |  0.0019416809 | ⋯ |  0.0052421093 |  5.744457e-03 |  0.0027155876 |  0.0035191774 |  0.0043978691 |  0.0033696890 |  0.0032068491 |  0.0042198896 |  0.0040071011 |  0.0057927370 |\n",
       "\n"
      ],
      "text/plain": [
       "  chr  pos       snp         ref alt ref_allele alt_allele gene   \n",
       "1 chr1 100224606 rs1856404   C   G   C          G          FRRS1  \n",
       "2 chr1 100427842 rs6667554   G   C   G          C          SLC35A3\n",
       "3 chr1 100644888 rs17122019  G   A   G          A          LRRC39 \n",
       "4 chr1  10077493 rs112151087 C   T   C          T          UBE4B  \n",
       "5 chr1  10086392 rs9661116   G   A   G          A          UBE4B  \n",
       "6 chr1 101373328 rs12040671  A   G   A          G          SLC30A7\n",
       "  Adipose Subcutaneous Adipose Visceral Omentum ⋯ Temporal Lobe\n",
       "1 -0.0053164959        -0.0061457157            ⋯ -0.0132591724\n",
       "2  0.0003256798         0.0003324747            ⋯  0.0002754927\n",
       "3 -0.0213813782        -0.0229520798            ⋯ -0.0135490894\n",
       "4  0.0005069971         0.0005216599            ⋯  0.0009940863\n",
       "5  0.0055696964         0.0057829618            ⋯  0.0025037527\n",
       "6  0.0022004843         0.0019416809            ⋯  0.0052421093\n",
       "  Thoracic Aorta Endothelial Cell Thyroid | ENCODE Tongue       \n",
       "1 -1.091862e-02                   -0.0035233498    -0.0108458996\n",
       "2  2.343655e-04                    0.0003899336     0.0003474951\n",
       "3 -1.073885e-02                   -0.0198827982    -0.0164791346\n",
       "4  8.099079e-04                    0.0008097887     0.0008544922\n",
       "5  2.992153e-05                    0.0043517351     0.0017019510\n",
       "6  5.744457e-03                    0.0027155876     0.0035191774\n",
       "  Tracheal Epithelial Cell Umbilical Cord Urinary Bladder\n",
       "1 -0.0188245773            -0.0103046894  -0.0117738247  \n",
       "2  0.0005524158             0.0004670620   0.0004462004  \n",
       "3 -0.0140150785            -0.0101581812  -0.0168492794  \n",
       "4  0.0011070967             0.0008628368   0.0007957220  \n",
       "5  0.0015496016             0.0015032291   0.0029664040  \n",
       "6  0.0043978691             0.0033696890   0.0032068491  \n",
       "  Uterine Smooth Muscle Cell Uterus | ENCODE Vein Endothelial Cell\n",
       "1 -0.0135203600              -0.0136202574   -0.0105422735        \n",
       "2  0.0004855394               0.0001429319    0.0003037453        \n",
       "3 -0.0102800131              -0.0159051418   -0.0093977451        \n",
       "4  0.0009953976               0.0007995367    0.0008517504        \n",
       "5  0.0012407303               0.0040307045    0.0009251833        \n",
       "6  0.0042198896               0.0040071011    0.0057927370        "
      ]
     },
     "metadata": {},
     "output_type": "display_data"
    }
   ],
   "source": [
    "head(expecto)"
   ]
  },
  {
   "cell_type": "code",
   "execution_count": 54,
   "id": "cc2687b0-3489-4a31-9c2a-075142853248",
   "metadata": {},
   "outputs": [],
   "source": [
    "gene.info <- read.table(\"/nfs/team282/data/gains_team282/gene_info_864_20412_hla.txt\") %>%\n",
    "    dplyr::select(gene_id, gene_name)"
   ]
  },
  {
   "cell_type": "code",
   "execution_count": 55,
   "id": "e225999a-007c-4524-81ad-c113ba3c367a",
   "metadata": {},
   "outputs": [],
   "source": [
    "cis.eqtl <- read.table(\"~/gains_team282/eqtl/cisresults/eigenMT/ciseqtl_eigenMT_corrected.txt\") %>%\n",
    "    dplyr::filter(Sig) %>%\n",
    "    merge(gene.info, ., by.x=\"gene_id\", by.y=\"gene\")"
   ]
  },
  {
   "cell_type": "code",
   "execution_count": 56,
   "id": "bac08a45-bf29-4b2b-b6cb-1b444a6bb1c4",
   "metadata": {},
   "outputs": [
    {
     "data": {
      "text/html": [
       "<table class=\"dataframe\">\n",
       "<caption>A data.frame: 6 × 15</caption>\n",
       "<thead>\n",
       "\t<tr><th></th><th scope=col>gene_id</th><th scope=col>gene_name</th><th scope=col>snps</th><th scope=col>statistic</th><th scope=col>pvalue</th><th scope=col>beta</th><th scope=col>se</th><th scope=col>chr</th><th scope=col>SNPpos</th><th scope=col>TSS</th><th scope=col>BF</th><th scope=col>TESTS</th><th scope=col>BF.FDR</th><th scope=col>Sig</th><th scope=col>threshold</th></tr>\n",
       "\t<tr><th></th><th scope=col>&lt;chr&gt;</th><th scope=col>&lt;chr&gt;</th><th scope=col>&lt;chr&gt;</th><th scope=col>&lt;dbl&gt;</th><th scope=col>&lt;dbl&gt;</th><th scope=col>&lt;dbl&gt;</th><th scope=col>&lt;dbl&gt;</th><th scope=col>&lt;int&gt;</th><th scope=col>&lt;int&gt;</th><th scope=col>&lt;int&gt;</th><th scope=col>&lt;dbl&gt;</th><th scope=col>&lt;int&gt;</th><th scope=col>&lt;dbl&gt;</th><th scope=col>&lt;lgl&gt;</th><th scope=col>&lt;dbl&gt;</th></tr>\n",
       "</thead>\n",
       "<tbody>\n",
       "\t<tr><th scope=row>1</th><td>ENSG00000000457</td><td>SCYL3   </td><td>rs10753794</td><td> 7.037066</td><td>5.192595e-12</td><td> 0.04985873</td><td>0.007085159</td><td>1</td><td>169776143</td><td>169894267</td><td>3.608853e-09</td><td>695</td><td>1.308708e-08</td><td>TRUE</td><td>3.879445e-05</td></tr>\n",
       "\t<tr><th scope=row>2</th><td>ENSG00000000460</td><td>C1orf112</td><td>rs12410806</td><td>-5.942351</td><td>5.426681e-09</td><td>-0.07212698</td><td>0.012137784</td><td>1</td><td>169749095</td><td>169662007</td><td>4.032024e-06</td><td>743</td><td>1.160666e-05</td><td>TRUE</td><td>3.628822e-05</td></tr>\n",
       "\t<tr><th scope=row>3</th><td>ENSG00000000971</td><td>CFH     </td><td>rs12406047</td><td> 4.511592</td><td>7.515235e-06</td><td> 0.17135374</td><td>0.037980769</td><td>1</td><td>196708768</td><td>196652043</td><td>2.818213e-03</td><td>375</td><td>6.073985e-03</td><td>TRUE</td><td>7.189906e-05</td></tr>\n",
       "\t<tr><th scope=row>4</th><td>ENSG00000001036</td><td>FUCA2   </td><td>rs2496591 </td><td> 5.771056</td><td>1.272071e-08</td><td> 0.05556388</td><td>0.009628027</td><td>6</td><td>143416006</td><td>143511720</td><td>1.017657e-05</td><td>800</td><td>2.830516e-05</td><td>TRUE</td><td>3.370268e-05</td></tr>\n",
       "\t<tr><th scope=row>5</th><td>ENSG00000001167</td><td>NFYA    </td><td>rs72856259</td><td> 7.552123</td><td>1.978551e-13</td><td> 0.11980933</td><td>0.015864325</td><td>6</td><td> 41100761</td><td> 41072945</td><td>1.889516e-10</td><td>955</td><td>7.447584e-10</td><td>TRUE</td><td>2.823261e-05</td></tr>\n",
       "\t<tr><th scope=row>6</th><td>ENSG00000001460</td><td>STPG1   </td><td>rs6687210 </td><td> 5.266595</td><td>1.949343e-07</td><td> 0.09241162</td><td>0.017546749</td><td>1</td><td> 24405200</td><td> 24416934</td><td>9.668744e-05</td><td>496</td><td>2.450046e-04</td><td>TRUE</td><td>5.435916e-05</td></tr>\n",
       "</tbody>\n",
       "</table>\n"
      ],
      "text/latex": [
       "A data.frame: 6 × 15\n",
       "\\begin{tabular}{r|lllllllllllllll}\n",
       "  & gene\\_id & gene\\_name & snps & statistic & pvalue & beta & se & chr & SNPpos & TSS & BF & TESTS & BF.FDR & Sig & threshold\\\\\n",
       "  & <chr> & <chr> & <chr> & <dbl> & <dbl> & <dbl> & <dbl> & <int> & <int> & <int> & <dbl> & <int> & <dbl> & <lgl> & <dbl>\\\\\n",
       "\\hline\n",
       "\t1 & ENSG00000000457 & SCYL3    & rs10753794 &  7.037066 & 5.192595e-12 &  0.04985873 & 0.007085159 & 1 & 169776143 & 169894267 & 3.608853e-09 & 695 & 1.308708e-08 & TRUE & 3.879445e-05\\\\\n",
       "\t2 & ENSG00000000460 & C1orf112 & rs12410806 & -5.942351 & 5.426681e-09 & -0.07212698 & 0.012137784 & 1 & 169749095 & 169662007 & 4.032024e-06 & 743 & 1.160666e-05 & TRUE & 3.628822e-05\\\\\n",
       "\t3 & ENSG00000000971 & CFH      & rs12406047 &  4.511592 & 7.515235e-06 &  0.17135374 & 0.037980769 & 1 & 196708768 & 196652043 & 2.818213e-03 & 375 & 6.073985e-03 & TRUE & 7.189906e-05\\\\\n",
       "\t4 & ENSG00000001036 & FUCA2    & rs2496591  &  5.771056 & 1.272071e-08 &  0.05556388 & 0.009628027 & 6 & 143416006 & 143511720 & 1.017657e-05 & 800 & 2.830516e-05 & TRUE & 3.370268e-05\\\\\n",
       "\t5 & ENSG00000001167 & NFYA     & rs72856259 &  7.552123 & 1.978551e-13 &  0.11980933 & 0.015864325 & 6 &  41100761 &  41072945 & 1.889516e-10 & 955 & 7.447584e-10 & TRUE & 2.823261e-05\\\\\n",
       "\t6 & ENSG00000001460 & STPG1    & rs6687210  &  5.266595 & 1.949343e-07 &  0.09241162 & 0.017546749 & 1 &  24405200 &  24416934 & 9.668744e-05 & 496 & 2.450046e-04 & TRUE & 5.435916e-05\\\\\n",
       "\\end{tabular}\n"
      ],
      "text/markdown": [
       "\n",
       "A data.frame: 6 × 15\n",
       "\n",
       "| <!--/--> | gene_id &lt;chr&gt; | gene_name &lt;chr&gt; | snps &lt;chr&gt; | statistic &lt;dbl&gt; | pvalue &lt;dbl&gt; | beta &lt;dbl&gt; | se &lt;dbl&gt; | chr &lt;int&gt; | SNPpos &lt;int&gt; | TSS &lt;int&gt; | BF &lt;dbl&gt; | TESTS &lt;int&gt; | BF.FDR &lt;dbl&gt; | Sig &lt;lgl&gt; | threshold &lt;dbl&gt; |\n",
       "|---|---|---|---|---|---|---|---|---|---|---|---|---|---|---|---|\n",
       "| 1 | ENSG00000000457 | SCYL3    | rs10753794 |  7.037066 | 5.192595e-12 |  0.04985873 | 0.007085159 | 1 | 169776143 | 169894267 | 3.608853e-09 | 695 | 1.308708e-08 | TRUE | 3.879445e-05 |\n",
       "| 2 | ENSG00000000460 | C1orf112 | rs12410806 | -5.942351 | 5.426681e-09 | -0.07212698 | 0.012137784 | 1 | 169749095 | 169662007 | 4.032024e-06 | 743 | 1.160666e-05 | TRUE | 3.628822e-05 |\n",
       "| 3 | ENSG00000000971 | CFH      | rs12406047 |  4.511592 | 7.515235e-06 |  0.17135374 | 0.037980769 | 1 | 196708768 | 196652043 | 2.818213e-03 | 375 | 6.073985e-03 | TRUE | 7.189906e-05 |\n",
       "| 4 | ENSG00000001036 | FUCA2    | rs2496591  |  5.771056 | 1.272071e-08 |  0.05556388 | 0.009628027 | 6 | 143416006 | 143511720 | 1.017657e-05 | 800 | 2.830516e-05 | TRUE | 3.370268e-05 |\n",
       "| 5 | ENSG00000001167 | NFYA     | rs72856259 |  7.552123 | 1.978551e-13 |  0.11980933 | 0.015864325 | 6 |  41100761 |  41072945 | 1.889516e-10 | 955 | 7.447584e-10 | TRUE | 2.823261e-05 |\n",
       "| 6 | ENSG00000001460 | STPG1    | rs6687210  |  5.266595 | 1.949343e-07 |  0.09241162 | 0.017546749 | 1 |  24405200 |  24416934 | 9.668744e-05 | 496 | 2.450046e-04 | TRUE | 5.435916e-05 |\n",
       "\n"
      ],
      "text/plain": [
       "  gene_id         gene_name snps       statistic pvalue       beta       \n",
       "1 ENSG00000000457 SCYL3     rs10753794  7.037066 5.192595e-12  0.04985873\n",
       "2 ENSG00000000460 C1orf112  rs12410806 -5.942351 5.426681e-09 -0.07212698\n",
       "3 ENSG00000000971 CFH       rs12406047  4.511592 7.515235e-06  0.17135374\n",
       "4 ENSG00000001036 FUCA2     rs2496591   5.771056 1.272071e-08  0.05556388\n",
       "5 ENSG00000001167 NFYA      rs72856259  7.552123 1.978551e-13  0.11980933\n",
       "6 ENSG00000001460 STPG1     rs6687210   5.266595 1.949343e-07  0.09241162\n",
       "  se          chr SNPpos    TSS       BF           TESTS BF.FDR       Sig \n",
       "1 0.007085159 1   169776143 169894267 3.608853e-09 695   1.308708e-08 TRUE\n",
       "2 0.012137784 1   169749095 169662007 4.032024e-06 743   1.160666e-05 TRUE\n",
       "3 0.037980769 1   196708768 196652043 2.818213e-03 375   6.073985e-03 TRUE\n",
       "4 0.009628027 6   143416006 143511720 1.017657e-05 800   2.830516e-05 TRUE\n",
       "5 0.015864325 6    41100761  41072945 1.889516e-10 955   7.447584e-10 TRUE\n",
       "6 0.017546749 1    24405200  24416934 9.668744e-05 496   2.450046e-04 TRUE\n",
       "  threshold   \n",
       "1 3.879445e-05\n",
       "2 3.628822e-05\n",
       "3 7.189906e-05\n",
       "4 3.370268e-05\n",
       "5 2.823261e-05\n",
       "6 5.435916e-05"
      ]
     },
     "metadata": {},
     "output_type": "display_data"
    }
   ],
   "source": [
    "head(cis.eqtl)"
   ]
  },
  {
   "cell_type": "code",
   "execution_count": 80,
   "id": "f3f2cbac-d17a-4762-b562-cd5d6d997838",
   "metadata": {},
   "outputs": [
    {
     "data": {
      "image/png": "[encoded data removed]",
      "text/plain": [
       "plot without title"
      ]
     },
     "metadata": {
      "image/png": {
       "height": 420,
       "width": 420
      }
     },
     "output_type": "display_data"
    }
   ],
   "source": [
    "merge(cis.eqtl, expecto, by.x=c(\"snps\", \"gene_name\"), by.y=c(\"snp\", \"gene\")) %>%\n",
    "    dplyr::select(gene_name, beta, `Whole Blood`) %>%\n",
    "    dplyr::arrange(desc(abs(`Whole Blood`))) %>%\n",
    "    dplyr::mutate(WB = `Whole Blood`) %>%\n",
    "    dplyr::filter(abs(WB) > 0.1) %>%\n",
    "    ggplot() +\n",
    "    geom_point(aes(x=beta, y=WB)) +\n",
    "    ggplot_theme"
   ]
  },
  {
   "cell_type": "code",
   "execution_count": null,
   "id": "a8519925-93b7-4fcd-a79a-361585c30069",
   "metadata": {},
   "outputs": [],
   "source": []
  }
 ],
 "metadata": {
  "kernelspec": {
   "display_name": "R",
   "language": "R",
   "name": "ir"
  },
  "language_info": {
   "codemirror_mode": "r",
   "file_extension": ".r",
   "mimetype": "text/x-r-source",
   "name": "R",
   "pygments_lexer": "r",
   "version": "4.0.5"
  }
 },
 "nbformat": 4,
 "nbformat_minor": 5
}
