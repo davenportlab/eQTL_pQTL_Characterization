{
 "cells": [
  {
   "cell_type": "markdown",
   "id": "44598895-d393-467a-a6c3-ccb29b1aeb14",
   "metadata": {},
   "source": [
    "## QTL VEP Analyses\n",
    "\n",
    "**Created**: 6 June 2022"
   ]
  },
  {
   "cell_type": "markdown",
   "id": "81b8724d-9b37-4a8f-8005-528a9c9cdf8e",
   "metadata": {},
   "source": [
    "## Environment"
   ]
  },
  {
   "cell_type": "code",
   "execution_count": 2,
   "id": "a4868818-8c2a-4531-9e03-762a5e3bfca8",
   "metadata": {},
   "outputs": [
    {
     "name": "stderr",
     "output_type": "stream",
     "text": [
      "── \u001b[1mAttaching packages\u001b[22m ───────────────────────────────────────────────────────────────────────────────────────────────────────────────────────────────────────────────────────────────── tidyverse 1.3.1 ──\n",
      "\n",
      "\u001b[32m✔\u001b[39m \u001b[34mggplot2\u001b[39m 3.3.5     \u001b[32m✔\u001b[39m \u001b[34mpurrr  \u001b[39m 0.3.4\n",
      "\u001b[32m✔\u001b[39m \u001b[34mtibble \u001b[39m 3.1.6     \u001b[32m✔\u001b[39m \u001b[34mdplyr  \u001b[39m 1.0.8\n",
      "\u001b[32m✔\u001b[39m \u001b[34mtidyr  \u001b[39m 1.2.0     \u001b[32m✔\u001b[39m \u001b[34mstringr\u001b[39m 1.4.0\n",
      "\u001b[32m✔\u001b[39m \u001b[34mreadr  \u001b[39m 2.1.1     \u001b[32m✔\u001b[39m \u001b[34mforcats\u001b[39m 0.5.1\n",
      "\n",
      "── \u001b[1mConflicts\u001b[22m ──────────────────────────────────────────────────────────────────────────────────────────────────────────────────────────────────────────────────────────────────── tidyverse_conflicts() ──\n",
      "\u001b[31m✖\u001b[39m \u001b[34mdplyr\u001b[39m::\u001b[32mfilter()\u001b[39m masks \u001b[34mstats\u001b[39m::filter()\n",
      "\u001b[31m✖\u001b[39m \u001b[34mdplyr\u001b[39m::\u001b[32mlag()\u001b[39m    masks \u001b[34mstats\u001b[39m::lag()\n",
      "\n",
      "\n",
      "Attaching package: ‘data.table’\n",
      "\n",
      "\n",
      "The following objects are masked from ‘package:dplyr’:\n",
      "\n",
      "    between, first, last\n",
      "\n",
      "\n",
      "The following object is masked from ‘package:purrr’:\n",
      "\n",
      "    transpose\n",
      "\n",
      "\n",
      "Loading required package: GenomicRanges\n",
      "\n",
      "Loading required package: stats4\n",
      "\n",
      "Loading required package: BiocGenerics\n",
      "\n",
      "Loading required package: parallel\n",
      "\n",
      "\n",
      "Attaching package: ‘BiocGenerics’\n",
      "\n",
      "\n",
      "The following objects are masked from ‘package:parallel’:\n",
      "\n",
      "    clusterApply, clusterApplyLB, clusterCall, clusterEvalQ,\n",
      "    clusterExport, clusterMap, parApply, parCapply, parLapply,\n",
      "    parLapplyLB, parRapply, parSapply, parSapplyLB\n",
      "\n",
      "\n",
      "The following objects are masked from ‘package:dplyr’:\n",
      "\n",
      "    combine, intersect, setdiff, union\n",
      "\n",
      "\n",
      "The following objects are masked from ‘package:stats’:\n",
      "\n",
      "    IQR, mad, sd, var, xtabs\n",
      "\n",
      "\n",
      "The following objects are masked from ‘package:base’:\n",
      "\n",
      "    anyDuplicated, append, as.data.frame, basename, cbind, colnames,\n",
      "    dirname, do.call, duplicated, eval, evalq, Filter, Find, get, grep,\n",
      "    grepl, intersect, is.unsorted, lapply, Map, mapply, match, mget,\n",
      "    order, paste, pmax, pmax.int, pmin, pmin.int, Position, rank,\n",
      "    rbind, Reduce, rownames, sapply, setdiff, sort, table, tapply,\n",
      "    union, unique, unsplit, which.max, which.min\n",
      "\n",
      "\n",
      "Loading required package: S4Vectors\n",
      "\n",
      "\n",
      "Attaching package: ‘S4Vectors’\n",
      "\n",
      "\n",
      "The following objects are masked from ‘package:data.table’:\n",
      "\n",
      "    first, second\n",
      "\n",
      "\n",
      "The following objects are masked from ‘package:dplyr’:\n",
      "\n",
      "    first, rename\n",
      "\n",
      "\n",
      "The following object is masked from ‘package:tidyr’:\n",
      "\n",
      "    expand\n",
      "\n",
      "\n",
      "The following object is masked from ‘package:base’:\n",
      "\n",
      "    expand.grid\n",
      "\n",
      "\n",
      "Loading required package: IRanges\n",
      "\n",
      "\n",
      "Attaching package: ‘IRanges’\n",
      "\n",
      "\n",
      "The following object is masked from ‘package:data.table’:\n",
      "\n",
      "    shift\n",
      "\n",
      "\n",
      "The following objects are masked from ‘package:dplyr’:\n",
      "\n",
      "    collapse, desc, slice\n",
      "\n",
      "\n",
      "The following object is masked from ‘package:purrr’:\n",
      "\n",
      "    reduce\n",
      "\n",
      "\n",
      "Loading required package: GenomeInfoDb\n",
      "\n"
     ]
    }
   ],
   "source": [
    "library(tidyverse)\n",
    "library(data.table)\n",
    "library(rtracklayer)\n",
    "library(GenomicRanges)\n",
    "\n",
    "setwd(\"~/eQTL_pQTL_Characterization/\")\n",
    "\n",
    "source(\"03_Functional_Interpretation/scripts/utils/ggplot_theme.R\")"
   ]
  },
  {
   "cell_type": "markdown",
   "id": "87749052-952e-4235-9887-af639da85412",
   "metadata": {},
   "source": [
    "## Load Data"
   ]
  },
  {
   "cell_type": "code",
   "execution_count": 3,
   "id": "1ea88884-c2b8-4ea5-ba25-4a2dfa249b1e",
   "metadata": {},
   "outputs": [],
   "source": [
    "geno.bim <- fread(\"/nfs/users/nfs_n/nm18/gains_team282/Genotyping/All_genotyping_merged_filtered_b38_refiltered_rsID.bim\")\n",
    "\n",
    "colnames(geno.bim) <- c(\"chr\", \"snp\", \"cM\", \"pos\", \"minor_allele\", \"major_allele\")"
   ]
  },
  {
   "cell_type": "code",
   "execution_count": 4,
   "id": "196fdaa2-48c0-4308-a83d-a8a6aef1dee9",
   "metadata": {},
   "outputs": [
    {
     "data": {
      "text/html": [
       "<table class=\"dataframe\">\n",
       "<caption>A data.table: 6 × 6</caption>\n",
       "<thead>\n",
       "\t<tr><th scope=col>chr</th><th scope=col>snp</th><th scope=col>cM</th><th scope=col>pos</th><th scope=col>minor_allele</th><th scope=col>major_allele</th></tr>\n",
       "\t<tr><th scope=col>&lt;chr&gt;</th><th scope=col>&lt;chr&gt;</th><th scope=col>&lt;int&gt;</th><th scope=col>&lt;int&gt;</th><th scope=col>&lt;chr&gt;</th><th scope=col>&lt;chr&gt;</th></tr>\n",
       "</thead>\n",
       "<tbody>\n",
       "\t<tr><td>1</td><td>rs3131972   </td><td>0</td><td>817341</td><td>A</td><td>G</td></tr>\n",
       "\t<tr><td>1</td><td>rs546843995 </td><td>0</td><td>818053</td><td>0</td><td>G</td></tr>\n",
       "\t<tr><td>1</td><td>rs553916047 </td><td>0</td><td>818359</td><td>0</td><td>A</td></tr>\n",
       "\t<tr><td>1</td><td>1:818740_T_C</td><td>0</td><td>818740</td><td>T</td><td>C</td></tr>\n",
       "\t<tr><td>1</td><td>rs145604921 </td><td>0</td><td>819378</td><td>0</td><td>C</td></tr>\n",
       "\t<tr><td>1</td><td>rs535256652 </td><td>0</td><td>821053</td><td>0</td><td>T</td></tr>\n",
       "</tbody>\n",
       "</table>\n"
      ],
      "text/latex": [
       "A data.table: 6 × 6\n",
       "\\begin{tabular}{llllll}\n",
       " chr & snp & cM & pos & minor\\_allele & major\\_allele\\\\\n",
       " <chr> & <chr> & <int> & <int> & <chr> & <chr>\\\\\n",
       "\\hline\n",
       "\t 1 & rs3131972    & 0 & 817341 & A & G\\\\\n",
       "\t 1 & rs546843995  & 0 & 818053 & 0 & G\\\\\n",
       "\t 1 & rs553916047  & 0 & 818359 & 0 & A\\\\\n",
       "\t 1 & 1:818740\\_T\\_C & 0 & 818740 & T & C\\\\\n",
       "\t 1 & rs145604921  & 0 & 819378 & 0 & C\\\\\n",
       "\t 1 & rs535256652  & 0 & 821053 & 0 & T\\\\\n",
       "\\end{tabular}\n"
      ],
      "text/markdown": [
       "\n",
       "A data.table: 6 × 6\n",
       "\n",
       "| chr &lt;chr&gt; | snp &lt;chr&gt; | cM &lt;int&gt; | pos &lt;int&gt; | minor_allele &lt;chr&gt; | major_allele &lt;chr&gt; |\n",
       "|---|---|---|---|---|---|\n",
       "| 1 | rs3131972    | 0 | 817341 | A | G |\n",
       "| 1 | rs546843995  | 0 | 818053 | 0 | G |\n",
       "| 1 | rs553916047  | 0 | 818359 | 0 | A |\n",
       "| 1 | 1:818740_T_C | 0 | 818740 | T | C |\n",
       "| 1 | rs145604921  | 0 | 819378 | 0 | C |\n",
       "| 1 | rs535256652  | 0 | 821053 | 0 | T |\n",
       "\n"
      ],
      "text/plain": [
       "  chr snp          cM pos    minor_allele major_allele\n",
       "1 1   rs3131972    0  817341 A            G           \n",
       "2 1   rs546843995  0  818053 0            G           \n",
       "3 1   rs553916047  0  818359 0            A           \n",
       "4 1   1:818740_T_C 0  818740 T            C           \n",
       "5 1   rs145604921  0  819378 0            C           \n",
       "6 1   rs535256652  0  821053 0            T           "
      ]
     },
     "metadata": {},
     "output_type": "display_data"
    }
   ],
   "source": [
    "head(geno.bim)"
   ]
  },
  {
   "cell_type": "code",
   "execution_count": 5,
   "id": "7c5a48d5-4fe6-4b41-8aec-dcfdc9da0d58",
   "metadata": {},
   "outputs": [],
   "source": [
    "cis.eqtl <- read.table(\"~/gains_team282/eqtl/cisresults/eigenMT/ciseqtl_eigenMT_corrected.txt\") %>%\n",
    "    dplyr::filter(Sig)"
   ]
  },
  {
   "cell_type": "code",
   "execution_count": 6,
   "id": "fb1ed1f7-c0c9-4b30-b275-ddcbe1ca50ff",
   "metadata": {},
   "outputs": [
    {
     "data": {
      "text/html": [
       "<table class=\"dataframe\">\n",
       "<caption>A data.frame: 6 × 14</caption>\n",
       "<thead>\n",
       "\t<tr><th></th><th scope=col>snps</th><th scope=col>gene</th><th scope=col>statistic</th><th scope=col>pvalue</th><th scope=col>beta</th><th scope=col>se</th><th scope=col>chr</th><th scope=col>SNPpos</th><th scope=col>TSS</th><th scope=col>BF</th><th scope=col>TESTS</th><th scope=col>BF.FDR</th><th scope=col>Sig</th><th scope=col>threshold</th></tr>\n",
       "\t<tr><th></th><th scope=col>&lt;chr&gt;</th><th scope=col>&lt;chr&gt;</th><th scope=col>&lt;dbl&gt;</th><th scope=col>&lt;dbl&gt;</th><th scope=col>&lt;dbl&gt;</th><th scope=col>&lt;dbl&gt;</th><th scope=col>&lt;int&gt;</th><th scope=col>&lt;int&gt;</th><th scope=col>&lt;int&gt;</th><th scope=col>&lt;dbl&gt;</th><th scope=col>&lt;int&gt;</th><th scope=col>&lt;dbl&gt;</th><th scope=col>&lt;lgl&gt;</th><th scope=col>&lt;dbl&gt;</th></tr>\n",
       "</thead>\n",
       "<tbody>\n",
       "\t<tr><th scope=row>22</th><td>rs3131972 </td><td>ENSG00000237491</td><td> 5.643405</td><td>2.400875e-08</td><td> 0.07174216</td><td>0.012712570</td><td>1</td><td>817341</td><td>778747</td><td>7.058573e-06</td><td>294</td><td>1.993414e-05</td><td>TRUE</td><td>9.170798e-05</td></tr>\n",
       "\t<tr><th scope=row>23</th><td>rs3131972 </td><td>ENSG00000230092</td><td> 4.756587</td><td>2.329109e-06</td><td> 0.06239499</td><td>0.013117600</td><td>1</td><td>817341</td><td>817712</td><td>6.917454e-04</td><td>297</td><td>1.593483e-03</td><td>TRUE</td><td>9.078164e-05</td></tr>\n",
       "\t<tr><th scope=row>25</th><td>rs3131972 </td><td>ENSG00000225880</td><td> 6.292961</td><td>5.949542e-10</td><td> 0.10016770</td><td>0.015917420</td><td>1</td><td>817341</td><td>827522</td><td>1.767014e-07</td><td>297</td><td>5.668498e-07</td><td>TRUE</td><td>9.078164e-05</td></tr>\n",
       "\t<tr><th scope=row>28</th><td>rs2272757 </td><td>ENSG00000188976</td><td>-7.026045</td><td>4.904859e-12</td><td>-0.05107767</td><td>0.007269761</td><td>1</td><td>946247</td><td>959309</td><td>1.545031e-09</td><td>315</td><td>5.762103e-09</td><td>TRUE</td><td>8.559411e-05</td></tr>\n",
       "\t<tr><th scope=row>29</th><td>rs13303327</td><td>ENSG00000187961</td><td>-7.175012</td><td>1.845538e-12</td><td>-0.13519920</td><td>0.018843060</td><td>1</td><td>960326</td><td>960584</td><td>5.813445e-10</td><td>315</td><td>2.228468e-09</td><td>TRUE</td><td>8.559411e-05</td></tr>\n",
       "\t<tr><th scope=row>30</th><td>rs13303056</td><td>ENSG00000187583</td><td>-9.081031</td><td>1.922802e-18</td><td>-0.29633770</td><td>0.032632610</td><td>1</td><td>953778</td><td>966482</td><td>6.056826e-16</td><td>315</td><td>3.262796e-15</td><td>TRUE</td><td>8.559411e-05</td></tr>\n",
       "</tbody>\n",
       "</table>\n"
      ],
      "text/latex": [
       "A data.frame: 6 × 14\n",
       "\\begin{tabular}{r|llllllllllllll}\n",
       "  & snps & gene & statistic & pvalue & beta & se & chr & SNPpos & TSS & BF & TESTS & BF.FDR & Sig & threshold\\\\\n",
       "  & <chr> & <chr> & <dbl> & <dbl> & <dbl> & <dbl> & <int> & <int> & <int> & <dbl> & <int> & <dbl> & <lgl> & <dbl>\\\\\n",
       "\\hline\n",
       "\t22 & rs3131972  & ENSG00000237491 &  5.643405 & 2.400875e-08 &  0.07174216 & 0.012712570 & 1 & 817341 & 778747 & 7.058573e-06 & 294 & 1.993414e-05 & TRUE & 9.170798e-05\\\\\n",
       "\t23 & rs3131972  & ENSG00000230092 &  4.756587 & 2.329109e-06 &  0.06239499 & 0.013117600 & 1 & 817341 & 817712 & 6.917454e-04 & 297 & 1.593483e-03 & TRUE & 9.078164e-05\\\\\n",
       "\t25 & rs3131972  & ENSG00000225880 &  6.292961 & 5.949542e-10 &  0.10016770 & 0.015917420 & 1 & 817341 & 827522 & 1.767014e-07 & 297 & 5.668498e-07 & TRUE & 9.078164e-05\\\\\n",
       "\t28 & rs2272757  & ENSG00000188976 & -7.026045 & 4.904859e-12 & -0.05107767 & 0.007269761 & 1 & 946247 & 959309 & 1.545031e-09 & 315 & 5.762103e-09 & TRUE & 8.559411e-05\\\\\n",
       "\t29 & rs13303327 & ENSG00000187961 & -7.175012 & 1.845538e-12 & -0.13519920 & 0.018843060 & 1 & 960326 & 960584 & 5.813445e-10 & 315 & 2.228468e-09 & TRUE & 8.559411e-05\\\\\n",
       "\t30 & rs13303056 & ENSG00000187583 & -9.081031 & 1.922802e-18 & -0.29633770 & 0.032632610 & 1 & 953778 & 966482 & 6.056826e-16 & 315 & 3.262796e-15 & TRUE & 8.559411e-05\\\\\n",
       "\\end{tabular}\n"
      ],
      "text/markdown": [
       "\n",
       "A data.frame: 6 × 14\n",
       "\n",
       "| <!--/--> | snps &lt;chr&gt; | gene &lt;chr&gt; | statistic &lt;dbl&gt; | pvalue &lt;dbl&gt; | beta &lt;dbl&gt; | se &lt;dbl&gt; | chr &lt;int&gt; | SNPpos &lt;int&gt; | TSS &lt;int&gt; | BF &lt;dbl&gt; | TESTS &lt;int&gt; | BF.FDR &lt;dbl&gt; | Sig &lt;lgl&gt; | threshold &lt;dbl&gt; |\n",
       "|---|---|---|---|---|---|---|---|---|---|---|---|---|---|---|\n",
       "| 22 | rs3131972  | ENSG00000237491 |  5.643405 | 2.400875e-08 |  0.07174216 | 0.012712570 | 1 | 817341 | 778747 | 7.058573e-06 | 294 | 1.993414e-05 | TRUE | 9.170798e-05 |\n",
       "| 23 | rs3131972  | ENSG00000230092 |  4.756587 | 2.329109e-06 |  0.06239499 | 0.013117600 | 1 | 817341 | 817712 | 6.917454e-04 | 297 | 1.593483e-03 | TRUE | 9.078164e-05 |\n",
       "| 25 | rs3131972  | ENSG00000225880 |  6.292961 | 5.949542e-10 |  0.10016770 | 0.015917420 | 1 | 817341 | 827522 | 1.767014e-07 | 297 | 5.668498e-07 | TRUE | 9.078164e-05 |\n",
       "| 28 | rs2272757  | ENSG00000188976 | -7.026045 | 4.904859e-12 | -0.05107767 | 0.007269761 | 1 | 946247 | 959309 | 1.545031e-09 | 315 | 5.762103e-09 | TRUE | 8.559411e-05 |\n",
       "| 29 | rs13303327 | ENSG00000187961 | -7.175012 | 1.845538e-12 | -0.13519920 | 0.018843060 | 1 | 960326 | 960584 | 5.813445e-10 | 315 | 2.228468e-09 | TRUE | 8.559411e-05 |\n",
       "| 30 | rs13303056 | ENSG00000187583 | -9.081031 | 1.922802e-18 | -0.29633770 | 0.032632610 | 1 | 953778 | 966482 | 6.056826e-16 | 315 | 3.262796e-15 | TRUE | 8.559411e-05 |\n",
       "\n"
      ],
      "text/plain": [
       "   snps       gene            statistic pvalue       beta        se         \n",
       "22 rs3131972  ENSG00000237491  5.643405 2.400875e-08  0.07174216 0.012712570\n",
       "23 rs3131972  ENSG00000230092  4.756587 2.329109e-06  0.06239499 0.013117600\n",
       "25 rs3131972  ENSG00000225880  6.292961 5.949542e-10  0.10016770 0.015917420\n",
       "28 rs2272757  ENSG00000188976 -7.026045 4.904859e-12 -0.05107767 0.007269761\n",
       "29 rs13303327 ENSG00000187961 -7.175012 1.845538e-12 -0.13519920 0.018843060\n",
       "30 rs13303056 ENSG00000187583 -9.081031 1.922802e-18 -0.29633770 0.032632610\n",
       "   chr SNPpos TSS    BF           TESTS BF.FDR       Sig  threshold   \n",
       "22 1   817341 778747 7.058573e-06 294   1.993414e-05 TRUE 9.170798e-05\n",
       "23 1   817341 817712 6.917454e-04 297   1.593483e-03 TRUE 9.078164e-05\n",
       "25 1   817341 827522 1.767014e-07 297   5.668498e-07 TRUE 9.078164e-05\n",
       "28 1   946247 959309 1.545031e-09 315   5.762103e-09 TRUE 8.559411e-05\n",
       "29 1   960326 960584 5.813445e-10 315   2.228468e-09 TRUE 8.559411e-05\n",
       "30 1   953778 966482 6.056826e-16 315   3.262796e-15 TRUE 8.559411e-05"
      ]
     },
     "metadata": {},
     "output_type": "display_data"
    }
   ],
   "source": [
    "head(cis.eqtl)"
   ]
  },
  {
   "cell_type": "code",
   "execution_count": 7,
   "id": "f6ec918b-7e4f-49bd-8dc9-a360f8dcb700",
   "metadata": {},
   "outputs": [],
   "source": [
    "c.cis.eqtl <- readRDS(\"~/gains_team282/eqtl/cisresults/conditionalanalysis/conditional_eQTL_results_final.rds\")"
   ]
  },
  {
   "cell_type": "code",
   "execution_count": 8,
   "id": "540064fd-9b5f-4d90-9f5e-20a8affa6cb6",
   "metadata": {},
   "outputs": [
    {
     "data": {
      "text/html": [
       "<table class=\"dataframe\">\n",
       "<caption>A data.frame: 6 × 6</caption>\n",
       "<thead>\n",
       "\t<tr><th></th><th scope=col>SNP</th><th scope=col>Gene</th><th scope=col>eQTL_beta</th><th scope=col>eQTL_SE</th><th scope=col>pvalue</th><th scope=col>Number</th></tr>\n",
       "\t<tr><th></th><th scope=col>&lt;chr&gt;</th><th scope=col>&lt;chr&gt;</th><th scope=col>&lt;chr&gt;</th><th scope=col>&lt;chr&gt;</th><th scope=col>&lt;chr&gt;</th><th scope=col>&lt;int&gt;</th></tr>\n",
       "</thead>\n",
       "<tbody>\n",
       "\t<tr><th scope=row>1</th><td>rs10753794</td><td>ENSG00000000457</td><td>0.0498587312408011 </td><td>0.00708515851579373</td><td>5.19259471106013e-12</td><td>1</td></tr>\n",
       "\t<tr><th scope=row>2</th><td>rs10919255</td><td>ENSG00000000460</td><td>-0.0726264894633498</td><td>0.0136853304567293 </td><td>1.72815915933528e-07</td><td>1</td></tr>\n",
       "\t<tr><th scope=row>3</th><td>rs77006036</td><td>ENSG00000000460</td><td>0.166236949102582  </td><td>0.0334472538699365 </td><td>8.47290238610159e-07</td><td>2</td></tr>\n",
       "\t<tr><th scope=row>4</th><td>rs12406047</td><td>ENSG00000000971</td><td>0.17135374034767   </td><td>0.0379807691167313 </td><td>7.51523462853891e-06</td><td>1</td></tr>\n",
       "\t<tr><th scope=row>5</th><td>rs6696136 </td><td>ENSG00000001460</td><td>0.45884434698694   </td><td>0.0871081626842823 </td><td>1.94887370606405e-07</td><td>1</td></tr>\n",
       "\t<tr><th scope=row>6</th><td>rs6676449 </td><td>ENSG00000001460</td><td>-0.371531778822554 </td><td>0.0880672792106829 </td><td>2.8471651589813e-05 </td><td>2</td></tr>\n",
       "</tbody>\n",
       "</table>\n"
      ],
      "text/latex": [
       "A data.frame: 6 × 6\n",
       "\\begin{tabular}{r|llllll}\n",
       "  & SNP & Gene & eQTL\\_beta & eQTL\\_SE & pvalue & Number\\\\\n",
       "  & <chr> & <chr> & <chr> & <chr> & <chr> & <int>\\\\\n",
       "\\hline\n",
       "\t1 & rs10753794 & ENSG00000000457 & 0.0498587312408011  & 0.00708515851579373 & 5.19259471106013e-12 & 1\\\\\n",
       "\t2 & rs10919255 & ENSG00000000460 & -0.0726264894633498 & 0.0136853304567293  & 1.72815915933528e-07 & 1\\\\\n",
       "\t3 & rs77006036 & ENSG00000000460 & 0.166236949102582   & 0.0334472538699365  & 8.47290238610159e-07 & 2\\\\\n",
       "\t4 & rs12406047 & ENSG00000000971 & 0.17135374034767    & 0.0379807691167313  & 7.51523462853891e-06 & 1\\\\\n",
       "\t5 & rs6696136  & ENSG00000001460 & 0.45884434698694    & 0.0871081626842823  & 1.94887370606405e-07 & 1\\\\\n",
       "\t6 & rs6676449  & ENSG00000001460 & -0.371531778822554  & 0.0880672792106829  & 2.8471651589813e-05  & 2\\\\\n",
       "\\end{tabular}\n"
      ],
      "text/markdown": [
       "\n",
       "A data.frame: 6 × 6\n",
       "\n",
       "| <!--/--> | SNP &lt;chr&gt; | Gene &lt;chr&gt; | eQTL_beta &lt;chr&gt; | eQTL_SE &lt;chr&gt; | pvalue &lt;chr&gt; | Number &lt;int&gt; |\n",
       "|---|---|---|---|---|---|---|\n",
       "| 1 | rs10753794 | ENSG00000000457 | 0.0498587312408011  | 0.00708515851579373 | 5.19259471106013e-12 | 1 |\n",
       "| 2 | rs10919255 | ENSG00000000460 | -0.0726264894633498 | 0.0136853304567293  | 1.72815915933528e-07 | 1 |\n",
       "| 3 | rs77006036 | ENSG00000000460 | 0.166236949102582   | 0.0334472538699365  | 8.47290238610159e-07 | 2 |\n",
       "| 4 | rs12406047 | ENSG00000000971 | 0.17135374034767    | 0.0379807691167313  | 7.51523462853891e-06 | 1 |\n",
       "| 5 | rs6696136  | ENSG00000001460 | 0.45884434698694    | 0.0871081626842823  | 1.94887370606405e-07 | 1 |\n",
       "| 6 | rs6676449  | ENSG00000001460 | -0.371531778822554  | 0.0880672792106829  | 2.8471651589813e-05  | 2 |\n",
       "\n"
      ],
      "text/plain": [
       "  SNP        Gene            eQTL_beta           eQTL_SE            \n",
       "1 rs10753794 ENSG00000000457 0.0498587312408011  0.00708515851579373\n",
       "2 rs10919255 ENSG00000000460 -0.0726264894633498 0.0136853304567293 \n",
       "3 rs77006036 ENSG00000000460 0.166236949102582   0.0334472538699365 \n",
       "4 rs12406047 ENSG00000000971 0.17135374034767    0.0379807691167313 \n",
       "5 rs6696136  ENSG00000001460 0.45884434698694    0.0871081626842823 \n",
       "6 rs6676449  ENSG00000001460 -0.371531778822554  0.0880672792106829 \n",
       "  pvalue               Number\n",
       "1 5.19259471106013e-12 1     \n",
       "2 1.72815915933528e-07 1     \n",
       "3 8.47290238610159e-07 2     \n",
       "4 7.51523462853891e-06 1     \n",
       "5 1.94887370606405e-07 1     \n",
       "6 2.8471651589813e-05  2     "
      ]
     },
     "metadata": {},
     "output_type": "display_data"
    }
   ],
   "source": [
    "head(c.cis.eqtl)"
   ]
  },
  {
   "cell_type": "code",
   "execution_count": 9,
   "id": "cf48c3fa-8795-47f0-8dcc-1fe1fe063b67",
   "metadata": {},
   "outputs": [],
   "source": [
    "eigengenes <- read.csv(\"~/gains_team282/nikhil/expression/gene_expression/eigengenes.multiple.csv\", row.names=1)"
   ]
  },
  {
   "cell_type": "code",
   "execution_count": 10,
   "id": "a1a35d50-2651-4ae4-a217-747e67a01f52",
   "metadata": {},
   "outputs": [],
   "source": [
    "n.modules <- ncol(eigengenes)"
   ]
  },
  {
   "cell_type": "code",
   "execution_count": 11,
   "id": "6a5f7d4f-b9cc-49cc-9d87-5e1e8fa2cf7e",
   "metadata": {},
   "outputs": [],
   "source": [
    "n.snps = system(\"head -n 1 /nfs/users/nfs_n/nm18/gains_team282/nikhil/data/genotypes/eigengene_sva_genotypes.raw | sed 's/ /\\\\n/g' | wc -l\", intern=TRUE)\n",
    "n.snps = as.numeric(n.snps) - 6"
   ]
  },
  {
   "cell_type": "code",
   "execution_count": 18,
   "id": "d48db833-3eaf-4cd9-90da-2af51ba069f7",
   "metadata": {},
   "outputs": [],
   "source": [
    "mqtl <- readRDS(\"~/gains_team282/nikhil/expression/eigengene_sva/mqtl.RDS\") %>%\n",
    "    dplyr::group_by(module, qtl.locus) %>%\n",
    "    dplyr::slice_min(p, n=1, with_ties=F)"
   ]
  },
  {
   "cell_type": "code",
   "execution_count": 19,
   "id": "d9d14fc0-7310-43f9-9e00-c87ed8fa2d5e",
   "metadata": {},
   "outputs": [
    {
     "data": {
      "text/html": [
       "<style>\n",
       ".list-inline {list-style: none; margin:0; padding: 0}\n",
       ".list-inline>li {display: inline-block}\n",
       ".list-inline>li:not(:last-child)::after {content: \"\\00b7\"; padding: 0 .5ex}\n",
       "</style>\n",
       "<ol class=list-inline><li>253</li><li>12</li></ol>\n"
      ],
      "text/latex": [
       "\\begin{enumerate*}\n",
       "\\item 253\n",
       "\\item 12\n",
       "\\end{enumerate*}\n"
      ],
      "text/markdown": [
       "1. 253\n",
       "2. 12\n",
       "\n",
       "\n"
      ],
      "text/plain": [
       "[1] 253  12"
      ]
     },
     "metadata": {},
     "output_type": "display_data"
    }
   ],
   "source": [
    "dim(module.qtl)"
   ]
  },
  {
   "cell_type": "code",
   "execution_count": 14,
   "id": "e677bed8-68c1-47e0-a853-fa30e0ca0d65",
   "metadata": {},
   "outputs": [],
   "source": [
    "cis.pqtl <- readRDS(\"/nfs/users/nfs_n/nm18/gains_team282/proteomics/pqtl/pqtl_ms2019/cis_pqtl_all.RDS\") %>%\n",
    "    dplyr::filter(pQTL_pval < (5e-8) / 269) %>%\n",
    "    dplyr::group_by(Gene) %>%\n",
    "    dplyr::slice_min(pQTL_pval, n=1)"
   ]
  },
  {
   "cell_type": "code",
   "execution_count": 15,
   "id": "ff569e4d-560f-42f0-ac4f-ba407fa04ab3",
   "metadata": {},
   "outputs": [],
   "source": [
    "trans.pqtl <- readRDS(\"/nfs/users/nfs_n/nm18/gains_team282/proteomics/pqtl/pqtl_ms2019/trans_pqtl_all.RDS\") %>%\n",
    "    dplyr::filter(pQTL_pval < (5e-8) / 269) %>%\n",
    "    dplyr::group_by(pQTL_Protein, pQTL_Locus) %>%\n",
    "    dplyr::slice_min(pQTL_pval, n=1)"
   ]
  },
  {
   "cell_type": "code",
   "execution_count": 35,
   "id": "3c563c3b-8461-4fe4-bf06-4779ac67a6bd",
   "metadata": {},
   "outputs": [],
   "source": [
    "cis.eqtl.susie <- lapply(1:22, function(chr) {\n",
    "    read.table(paste0(\"~/gains_team282/nikhil/colocalization/cis_eqtl/fine_mapping/SuSiE/full/full_chr\", chr, \"_credible_sets.tsv\"), sep=\"\\t\", header=T)\n",
    "}) %>% do.call(rbind, .) %>%\n",
    "    as.data.frame() %>%\n",
    "    dplyr::filter(is.na(Notes)) %>%\n",
    "    dplyr::select(-Notes) %>%\n",
    "    dplyr::select(Gene, SNP, SNP_Prob, Credible_Set)"
   ]
  },
  {
   "cell_type": "code",
   "execution_count": 16,
   "id": "6da5c7d4-514d-4c5f-8156-08d648ca2ee9",
   "metadata": {},
   "outputs": [],
   "source": [
    "c.cis.eqtl.susie <- lapply(1:22, function(chr) {\n",
    "    read.table(paste0(\"~/gains_team282/nikhil/colocalization/cis_eqtl/fine_mapping/SuSiE/conditional/conditional_chr\", chr, \"_credible_sets.tsv\"), sep=\"\\t\", header=T)\n",
    "}) %>% do.call(rbind, .) %>%\n",
    "    as.data.frame() %>%\n",
    "    dplyr::filter(is.na(Notes)) %>%\n",
    "    dplyr::select(-Notes) %>%\n",
    "    dplyr::mutate(Signal=as.numeric(gsub(\"^.*-\", \"\", Gene))) %>%\n",
    "    dplyr::mutate(Gene=gsub(\"-.*$\", \"\", Gene)) %>%\n",
    "    dplyr::select(Gene, Signal, SNP, SNP_Prob, Credible_Set)"
   ]
  },
  {
   "cell_type": "code",
   "execution_count": 43,
   "id": "513b9a5e-0595-4c13-a3d9-b406bc0ddc58",
   "metadata": {},
   "outputs": [],
   "source": [
    "cis.pqtl.susie <- read.table(\"~/gains_team282/nikhil/colocalization/pqtl/fine_mapping/SuSiE/cis_pqtl_credible_sets.tsv\", sep=\"\\t\", header=T) %>%\n",
    "    dplyr::filter(is.na(Notes)) %>%\n",
    "    dplyr::select(-Notes)"
   ]
  },
  {
   "cell_type": "code",
   "execution_count": 45,
   "id": "de80d072-a803-4294-8a53-cc1c320bfc94",
   "metadata": {},
   "outputs": [],
   "source": [
    "trans.pqtl.susie <- read.table(\"~/gains_team282/nikhil/colocalization/pqtl/fine_mapping/SuSiE/trans_pqtl_credible_sets.tsv\", sep=\"\\t\", header=T) %>%\n",
    "    dplyr::filter(is.na(Notes)) %>%\n",
    "    dplyr::select(-Notes)"
   ]
  },
  {
   "cell_type": "code",
   "execution_count": 47,
   "id": "14cb8d87-96c6-47e2-9080-8b466a9c48d2",
   "metadata": {},
   "outputs": [],
   "source": [
    "mqtl.susie <- read.table(\"~/gains_team282/nikhil/colocalization/mqtl/fine_mapping/SuSiE/module_qtl_credible_sets.tsv\", sep=\"\\t\", header=T) %>%\n",
    "    dplyr::filter(is.na(Notes)) %>%\n",
    "    dplyr::select(-Notes)"
   ]
  },
  {
   "cell_type": "markdown",
   "id": "e769f8bd-8dbb-4763-92d3-fc0d28d9b6ee",
   "metadata": {
    "tags": []
   },
   "source": [
    "## Prepare Data as VCF File"
   ]
  },
  {
   "cell_type": "markdown",
   "id": "6eceb6ef-702c-4622-a0a6-d178f9fc3ea1",
   "metadata": {},
   "source": [
    "Start by adding all lead cis-eQTL and conditional cis-eQTL."
   ]
  },
  {
   "cell_type": "code",
   "execution_count": 69,
   "id": "35e7992b-0b0f-42b0-abea-10ffeda2f3c6",
   "metadata": {},
   "outputs": [],
   "source": [
    "all.snps <- union(cis.eqtl$snps, c.cis.eqtl$SNP)"
   ]
  },
  {
   "cell_type": "code",
   "execution_count": 70,
   "id": "148b1ab3-ca42-48f4-8973-bc93930ee7ea",
   "metadata": {},
   "outputs": [
    {
     "data": {
      "text/html": [
       "15825"
      ],
      "text/latex": [
       "15825"
      ],
      "text/markdown": [
       "15825"
      ],
      "text/plain": [
       "[1] 15825"
      ]
     },
     "metadata": {},
     "output_type": "display_data"
    }
   ],
   "source": [
    "length(all.snps)"
   ]
  },
  {
   "cell_type": "markdown",
   "id": "21294731-3251-43bf-adf7-d209cb54e78f",
   "metadata": {},
   "source": [
    "Add all lead module QTL."
   ]
  },
  {
   "cell_type": "code",
   "execution_count": 71,
   "id": "0d9e16f9-b30a-4519-b012-ed7229d92d86",
   "metadata": {},
   "outputs": [],
   "source": [
    "all.snps <- union(all.snps, module.qtl$snp)"
   ]
  },
  {
   "cell_type": "code",
   "execution_count": 72,
   "id": "8f2f1e53-f698-4ec7-8733-4e4bcb765569",
   "metadata": {},
   "outputs": [
    {
     "data": {
      "text/html": [
       "15956"
      ],
      "text/latex": [
       "15956"
      ],
      "text/markdown": [
       "15956"
      ],
      "text/plain": [
       "[1] 15956"
      ]
     },
     "metadata": {},
     "output_type": "display_data"
    }
   ],
   "source": [
    "length(all.snps)"
   ]
  },
  {
   "cell_type": "markdown",
   "id": "182256b4-d946-4da2-b07e-a17078f65f64",
   "metadata": {},
   "source": [
    "Add all lead pQTL."
   ]
  },
  {
   "cell_type": "code",
   "execution_count": 73,
   "id": "d47d59e9-2d5d-4545-84b7-b458e70bfd40",
   "metadata": {},
   "outputs": [],
   "source": [
    "all.snps <- union(all.snps, cis.pqtl$SNP)\n",
    "all.snps <- union(all.snps, trans.pqtl$SNP)"
   ]
  },
  {
   "cell_type": "code",
   "execution_count": 74,
   "id": "ef5e2a51-1996-4ab0-ad75-301fd1e5a310",
   "metadata": {},
   "outputs": [
    {
     "data": {
      "text/html": [
       "15992"
      ],
      "text/latex": [
       "15992"
      ],
      "text/markdown": [
       "15992"
      ],
      "text/plain": [
       "[1] 15992"
      ]
     },
     "metadata": {},
     "output_type": "display_data"
    }
   ],
   "source": [
    "length(all.snps)"
   ]
  },
  {
   "cell_type": "code",
   "execution_count": 26,
   "id": "a63b1265-6bcc-4db8-a2c2-49f21665cd9f",
   "metadata": {},
   "outputs": [],
   "source": [
    "vcf.contents <- geno.bim %>%\n",
    "    dplyr::mutate(snp=gsub(\":\", \"\\\\.\", snp)) %>%\n",
    "    dplyr::filter(snp %in% all.snps) %>%\n",
    "    dplyr::mutate(chr = paste0(\"chr\", chr)) %>%\n",
    "    dplyr::select(chr, pos, snp, major_allele, minor_allele)"
   ]
  },
  {
   "cell_type": "code",
   "execution_count": 27,
   "id": "355d64a2-9dc4-46e4-a670-ebb4167ef833",
   "metadata": {},
   "outputs": [
    {
     "data": {
      "text/html": [
       "<table class=\"dataframe\">\n",
       "<caption>A data.table: 6 × 5</caption>\n",
       "<thead>\n",
       "\t<tr><th scope=col>chr</th><th scope=col>pos</th><th scope=col>snp</th><th scope=col>major_allele</th><th scope=col>minor_allele</th></tr>\n",
       "\t<tr><th scope=col>&lt;chr&gt;</th><th scope=col>&lt;int&gt;</th><th scope=col>&lt;chr&gt;</th><th scope=col>&lt;chr&gt;</th><th scope=col>&lt;chr&gt;</th></tr>\n",
       "</thead>\n",
       "<tbody>\n",
       "\t<tr><td>chr1</td><td>817341</td><td>rs3131972  </td><td>G</td><td>A</td></tr>\n",
       "\t<tr><td>chr1</td><td>901149</td><td>rs28731045 </td><td>C</td><td>G</td></tr>\n",
       "\t<tr><td>chr1</td><td>918014</td><td>rs142336952</td><td>G</td><td>A</td></tr>\n",
       "\t<tr><td>chr1</td><td>946247</td><td>rs2272757  </td><td>A</td><td>G</td></tr>\n",
       "\t<tr><td>chr1</td><td>950296</td><td>rs4970377  </td><td>A</td><td>C</td></tr>\n",
       "\t<tr><td>chr1</td><td>953778</td><td>rs13303056 </td><td>C</td><td>G</td></tr>\n",
       "</tbody>\n",
       "</table>\n"
      ],
      "text/latex": [
       "A data.table: 6 × 5\n",
       "\\begin{tabular}{lllll}\n",
       " chr & pos & snp & major\\_allele & minor\\_allele\\\\\n",
       " <chr> & <int> & <chr> & <chr> & <chr>\\\\\n",
       "\\hline\n",
       "\t chr1 & 817341 & rs3131972   & G & A\\\\\n",
       "\t chr1 & 901149 & rs28731045  & C & G\\\\\n",
       "\t chr1 & 918014 & rs142336952 & G & A\\\\\n",
       "\t chr1 & 946247 & rs2272757   & A & G\\\\\n",
       "\t chr1 & 950296 & rs4970377   & A & C\\\\\n",
       "\t chr1 & 953778 & rs13303056  & C & G\\\\\n",
       "\\end{tabular}\n"
      ],
      "text/markdown": [
       "\n",
       "A data.table: 6 × 5\n",
       "\n",
       "| chr &lt;chr&gt; | pos &lt;int&gt; | snp &lt;chr&gt; | major_allele &lt;chr&gt; | minor_allele &lt;chr&gt; |\n",
       "|---|---|---|---|---|\n",
       "| chr1 | 817341 | rs3131972   | G | A |\n",
       "| chr1 | 901149 | rs28731045  | C | G |\n",
       "| chr1 | 918014 | rs142336952 | G | A |\n",
       "| chr1 | 946247 | rs2272757   | A | G |\n",
       "| chr1 | 950296 | rs4970377   | A | C |\n",
       "| chr1 | 953778 | rs13303056  | C | G |\n",
       "\n"
      ],
      "text/plain": [
       "  chr  pos    snp         major_allele minor_allele\n",
       "1 chr1 817341 rs3131972   G            A           \n",
       "2 chr1 901149 rs28731045  C            G           \n",
       "3 chr1 918014 rs142336952 G            A           \n",
       "4 chr1 946247 rs2272757   A            G           \n",
       "5 chr1 950296 rs4970377   A            C           \n",
       "6 chr1 953778 rs13303056  C            G           "
      ]
     },
     "metadata": {},
     "output_type": "display_data"
    }
   ],
   "source": [
    "head(vcf.contents)"
   ]
  },
  {
   "cell_type": "code",
   "execution_count": 28,
   "id": "1cd50fde-4147-45af-942b-bf19666e3fb4",
   "metadata": {},
   "outputs": [],
   "source": [
    "fwrite(vcf.contents, \"/nfs/users/nfs_n/nm18/gains_team282/epigenetics/vep/qtl.vcf\", sep=\"\\t\", col.names=F)"
   ]
  },
  {
   "cell_type": "code",
   "execution_count": 29,
   "id": "792911d9-69d2-4dd6-bf20-ed892e8d6de7",
   "metadata": {},
   "outputs": [],
   "source": [
    "vcf.contents.both.ref <- dplyr::bind_rows(\n",
    "    vcf.contents,\n",
    "    vcf.contents %>%\n",
    "        dplyr::mutate(temp_allele=major_allele) %>%\n",
    "        dplyr::mutate(major_allele=minor_allele) %>%\n",
    "        dplyr::mutate(minor_allele=temp_allele) %>%\n",
    "        dplyr::select(everything(), -temp_allele)\n",
    ") %>%\n",
    "    dplyr::arrange(chr, pos)"
   ]
  },
  {
   "cell_type": "code",
   "execution_count": 30,
   "id": "7589f28a-6f6f-455c-8dca-10196692e041",
   "metadata": {},
   "outputs": [
    {
     "data": {
      "text/html": [
       "<table class=\"dataframe\">\n",
       "<caption>A data.table: 6 × 5</caption>\n",
       "<thead>\n",
       "\t<tr><th scope=col>chr</th><th scope=col>pos</th><th scope=col>snp</th><th scope=col>major_allele</th><th scope=col>minor_allele</th></tr>\n",
       "\t<tr><th scope=col>&lt;chr&gt;</th><th scope=col>&lt;int&gt;</th><th scope=col>&lt;chr&gt;</th><th scope=col>&lt;chr&gt;</th><th scope=col>&lt;chr&gt;</th></tr>\n",
       "</thead>\n",
       "<tbody>\n",
       "\t<tr><td>chr1</td><td>817341</td><td>rs3131972  </td><td>G</td><td>A</td></tr>\n",
       "\t<tr><td>chr1</td><td>817341</td><td>rs3131972  </td><td>A</td><td>G</td></tr>\n",
       "\t<tr><td>chr1</td><td>901149</td><td>rs28731045 </td><td>C</td><td>G</td></tr>\n",
       "\t<tr><td>chr1</td><td>901149</td><td>rs28731045 </td><td>G</td><td>C</td></tr>\n",
       "\t<tr><td>chr1</td><td>918014</td><td>rs142336952</td><td>G</td><td>A</td></tr>\n",
       "\t<tr><td>chr1</td><td>918014</td><td>rs142336952</td><td>A</td><td>G</td></tr>\n",
       "</tbody>\n",
       "</table>\n"
      ],
      "text/latex": [
       "A data.table: 6 × 5\n",
       "\\begin{tabular}{lllll}\n",
       " chr & pos & snp & major\\_allele & minor\\_allele\\\\\n",
       " <chr> & <int> & <chr> & <chr> & <chr>\\\\\n",
       "\\hline\n",
       "\t chr1 & 817341 & rs3131972   & G & A\\\\\n",
       "\t chr1 & 817341 & rs3131972   & A & G\\\\\n",
       "\t chr1 & 901149 & rs28731045  & C & G\\\\\n",
       "\t chr1 & 901149 & rs28731045  & G & C\\\\\n",
       "\t chr1 & 918014 & rs142336952 & G & A\\\\\n",
       "\t chr1 & 918014 & rs142336952 & A & G\\\\\n",
       "\\end{tabular}\n"
      ],
      "text/markdown": [
       "\n",
       "A data.table: 6 × 5\n",
       "\n",
       "| chr &lt;chr&gt; | pos &lt;int&gt; | snp &lt;chr&gt; | major_allele &lt;chr&gt; | minor_allele &lt;chr&gt; |\n",
       "|---|---|---|---|---|\n",
       "| chr1 | 817341 | rs3131972   | G | A |\n",
       "| chr1 | 817341 | rs3131972   | A | G |\n",
       "| chr1 | 901149 | rs28731045  | C | G |\n",
       "| chr1 | 901149 | rs28731045  | G | C |\n",
       "| chr1 | 918014 | rs142336952 | G | A |\n",
       "| chr1 | 918014 | rs142336952 | A | G |\n",
       "\n"
      ],
      "text/plain": [
       "  chr  pos    snp         major_allele minor_allele\n",
       "1 chr1 817341 rs3131972   G            A           \n",
       "2 chr1 817341 rs3131972   A            G           \n",
       "3 chr1 901149 rs28731045  C            G           \n",
       "4 chr1 901149 rs28731045  G            C           \n",
       "5 chr1 918014 rs142336952 G            A           \n",
       "6 chr1 918014 rs142336952 A            G           "
      ]
     },
     "metadata": {},
     "output_type": "display_data"
    }
   ],
   "source": [
    "head(vcf.contents.both.ref)"
   ]
  },
  {
   "cell_type": "code",
   "execution_count": 31,
   "id": "84951e81-5b15-4995-8841-bd94802d98af",
   "metadata": {},
   "outputs": [],
   "source": [
    "fwrite(vcf.contents.both.ref, \"/nfs/users/nfs_n/nm18/gains_team282/epigenetics/vep/qtl_both_ref.vcf\", sep=\"\\t\", col.names=F)"
   ]
  },
  {
   "cell_type": "markdown",
   "id": "e98adeeb-cb46-4336-8e4c-facf2b811d2a",
   "metadata": {},
   "source": [
    "## Liftover for hg19 Tools"
   ]
  },
  {
   "cell_type": "code",
   "execution_count": 49,
   "id": "a0e45ad4-eb88-4703-9203-9f6c69346e4a",
   "metadata": {},
   "outputs": [],
   "source": [
    "chain <- import.chain(\"03_Functional_Interpretation/data/hg38ToHg19.over.chain\")"
   ]
  },
  {
   "cell_type": "code",
   "execution_count": 50,
   "id": "56b41d4c-67e2-4fc1-bf8a-81d92ce9b9db",
   "metadata": {},
   "outputs": [],
   "source": [
    "vcf.contents.gr <- vcf.contents %>%\n",
    "    makeGRangesFromDataFrame(seqnames.field=\"chr\", start.field=\"pos\", end.field=\"pos\", keep.extra.columns=TRUE)"
   ]
  },
  {
   "cell_type": "code",
   "execution_count": 51,
   "id": "07e0e112-7dff-4c66-866c-3e3dac9e1709",
   "metadata": {},
   "outputs": [
    {
     "data": {
      "text/plain": [
       "GRanges object with 15992 ranges and 3 metadata columns:\n",
       "          seqnames    ranges strand |         snp major_allele minor_allele\n",
       "             <Rle> <IRanges>  <Rle> | <character>  <character>  <character>\n",
       "      [1]     chr1    817341      * |   rs3131972            G            A\n",
       "      [2]     chr1    901149      * |  rs28731045            C            G\n",
       "      [3]     chr1    918014      * | rs142336952            G            A\n",
       "      [4]     chr1    946247      * |   rs2272757            A            G\n",
       "      [5]     chr1    950296      * |   rs4970377            A            C\n",
       "      ...      ...       ...    ... .         ...          ...          ...\n",
       "  [15988]    chr22  50589773      * |   rs6010023            C            T\n",
       "  [15989]    chr22  50625049      * |   rs6151429            T            C\n",
       "  [15990]    chr22  50626933      * |   rs6151415            C            A\n",
       "  [15991]    chr22  50627096      * |   rs6151413            C            A\n",
       "  [15992]    chr22  50627172      * |   rs6151412            G            A\n",
       "  -------\n",
       "  seqinfo: 22 sequences from an unspecified genome; no seqlengths"
      ]
     },
     "metadata": {},
     "output_type": "display_data"
    }
   ],
   "source": [
    "vcf.contents.gr"
   ]
  },
  {
   "cell_type": "code",
   "execution_count": 52,
   "id": "c0aa37ab-0221-4cc4-89e4-e618f5d65db8",
   "metadata": {},
   "outputs": [],
   "source": [
    "seqlevelsStyle(vcf.contents.gr) = \"UCSC\"\n",
    "vcf.contents.gr.hg19 <- unlist(liftOver(vcf.contents.gr, chain))"
   ]
  },
  {
   "cell_type": "code",
   "execution_count": 53,
   "id": "3c9d2f72-e69e-4cb6-b4c5-0765645ded58",
   "metadata": {},
   "outputs": [],
   "source": [
    "vcf.contents.hg19 <- as.data.frame(vcf.contents.gr.hg19) %>%\n",
    "    dplyr::select(seqnames, start, snp, major_allele, minor_allele)"
   ]
  },
  {
   "cell_type": "code",
   "execution_count": 54,
   "id": "d883e7c4-713b-448a-b220-3c16febb123c",
   "metadata": {},
   "outputs": [
    {
     "data": {
      "text/html": [
       "<table class=\"dataframe\">\n",
       "<caption>A data.frame: 6 × 5</caption>\n",
       "<thead>\n",
       "\t<tr><th></th><th scope=col>seqnames</th><th scope=col>start</th><th scope=col>snp</th><th scope=col>major_allele</th><th scope=col>minor_allele</th></tr>\n",
       "\t<tr><th></th><th scope=col>&lt;fct&gt;</th><th scope=col>&lt;int&gt;</th><th scope=col>&lt;chr&gt;</th><th scope=col>&lt;chr&gt;</th><th scope=col>&lt;chr&gt;</th></tr>\n",
       "</thead>\n",
       "<tbody>\n",
       "\t<tr><th scope=row>1</th><td>chr1</td><td>752721</td><td>rs3131972  </td><td>G</td><td>A</td></tr>\n",
       "\t<tr><th scope=row>2</th><td>chr1</td><td>836529</td><td>rs28731045 </td><td>C</td><td>G</td></tr>\n",
       "\t<tr><th scope=row>3</th><td>chr1</td><td>853394</td><td>rs142336952</td><td>G</td><td>A</td></tr>\n",
       "\t<tr><th scope=row>4</th><td>chr1</td><td>881627</td><td>rs2272757  </td><td>A</td><td>G</td></tr>\n",
       "\t<tr><th scope=row>5</th><td>chr1</td><td>885676</td><td>rs4970377  </td><td>A</td><td>C</td></tr>\n",
       "\t<tr><th scope=row>6</th><td>chr1</td><td>889158</td><td>rs13303056 </td><td>C</td><td>G</td></tr>\n",
       "</tbody>\n",
       "</table>\n"
      ],
      "text/latex": [
       "A data.frame: 6 × 5\n",
       "\\begin{tabular}{r|lllll}\n",
       "  & seqnames & start & snp & major\\_allele & minor\\_allele\\\\\n",
       "  & <fct> & <int> & <chr> & <chr> & <chr>\\\\\n",
       "\\hline\n",
       "\t1 & chr1 & 752721 & rs3131972   & G & A\\\\\n",
       "\t2 & chr1 & 836529 & rs28731045  & C & G\\\\\n",
       "\t3 & chr1 & 853394 & rs142336952 & G & A\\\\\n",
       "\t4 & chr1 & 881627 & rs2272757   & A & G\\\\\n",
       "\t5 & chr1 & 885676 & rs4970377   & A & C\\\\\n",
       "\t6 & chr1 & 889158 & rs13303056  & C & G\\\\\n",
       "\\end{tabular}\n"
      ],
      "text/markdown": [
       "\n",
       "A data.frame: 6 × 5\n",
       "\n",
       "| <!--/--> | seqnames &lt;fct&gt; | start &lt;int&gt; | snp &lt;chr&gt; | major_allele &lt;chr&gt; | minor_allele &lt;chr&gt; |\n",
       "|---|---|---|---|---|---|\n",
       "| 1 | chr1 | 752721 | rs3131972   | G | A |\n",
       "| 2 | chr1 | 836529 | rs28731045  | C | G |\n",
       "| 3 | chr1 | 853394 | rs142336952 | G | A |\n",
       "| 4 | chr1 | 881627 | rs2272757   | A | G |\n",
       "| 5 | chr1 | 885676 | rs4970377   | A | C |\n",
       "| 6 | chr1 | 889158 | rs13303056  | C | G |\n",
       "\n"
      ],
      "text/plain": [
       "  seqnames start  snp         major_allele minor_allele\n",
       "1 chr1     752721 rs3131972   G            A           \n",
       "2 chr1     836529 rs28731045  C            G           \n",
       "3 chr1     853394 rs142336952 G            A           \n",
       "4 chr1     881627 rs2272757   A            G           \n",
       "5 chr1     885676 rs4970377   A            C           \n",
       "6 chr1     889158 rs13303056  C            G           "
      ]
     },
     "metadata": {},
     "output_type": "display_data"
    }
   ],
   "source": [
    "head(vcf.contents.hg19)"
   ]
  },
  {
   "cell_type": "code",
   "execution_count": 55,
   "id": "8b1ca174-c5a9-4999-b8d6-13e6534c69c0",
   "metadata": {},
   "outputs": [],
   "source": [
    "fwrite(vcf.contents.hg19, \"/nfs/users/nfs_n/nm18/gains_team282/epigenetics/vep/qtl_hg19.vcf\", sep=\"\\t\", col.names=F)"
   ]
  },
  {
   "cell_type": "markdown",
   "id": "52b70ea0-7899-4694-b129-65f3ffea70f3",
   "metadata": {},
   "source": [
    "## VCF with Credible Set SNPs"
   ]
  },
  {
   "cell_type": "markdown",
   "id": "2a9c6009-31fb-4bbb-aaf4-6e93723d6e2e",
   "metadata": {},
   "source": [
    "Some tools cannot handle a lot of SNPs (such as Expecto), so only lead SNPs were used. We can also include credible set SNPs to see if the credible set SNPs identify better or more concordant effects."
   ]
  },
  {
   "cell_type": "code",
   "execution_count": 75,
   "id": "60a5a021-bb45-49f6-88dc-c44a2d8c0076",
   "metadata": {},
   "outputs": [
    {
     "data": {
      "text/html": [
       "15992"
      ],
      "text/latex": [
       "15992"
      ],
      "text/markdown": [
       "15992"
      ],
      "text/plain": [
       "[1] 15992"
      ]
     },
     "metadata": {},
     "output_type": "display_data"
    }
   ],
   "source": [
    "length(all.snps)"
   ]
  },
  {
   "cell_type": "code",
   "execution_count": 76,
   "id": "045c7e6d-6564-4b76-bfa5-27db5c4731c7",
   "metadata": {},
   "outputs": [],
   "source": [
    "all.snps <- union(all.snps, cis.eqtl.susie$SNP)\n",
    "all.snps <- union(all.snps, c.cis.eqtl.susie$SNP)"
   ]
  },
  {
   "cell_type": "code",
   "execution_count": 77,
   "id": "237088a7-4f7e-42e0-97dc-4f4790009a70",
   "metadata": {},
   "outputs": [
    {
     "data": {
      "text/html": [
       "253049"
      ],
      "text/latex": [
       "253049"
      ],
      "text/markdown": [
       "253049"
      ],
      "text/plain": [
       "[1] 253049"
      ]
     },
     "metadata": {},
     "output_type": "display_data"
    }
   ],
   "source": [
    "length(all.snps)"
   ]
  },
  {
   "cell_type": "code",
   "execution_count": 78,
   "id": "3466f9da-bb9a-4799-94f2-f062476d7308",
   "metadata": {},
   "outputs": [],
   "source": [
    "all.snps <- union(all.snps, cis.pqtl.susie$SNP)\n",
    "all.snps <- union(all.snps, trans.pqtl.susie$SNP)"
   ]
  },
  {
   "cell_type": "code",
   "execution_count": 79,
   "id": "6b196907-d898-46d4-80ed-2fbc4e9f2f4e",
   "metadata": {},
   "outputs": [
    {
     "data": {
      "text/html": [
       "253407"
      ],
      "text/latex": [
       "253407"
      ],
      "text/markdown": [
       "253407"
      ],
      "text/plain": [
       "[1] 253407"
      ]
     },
     "metadata": {},
     "output_type": "display_data"
    }
   ],
   "source": [
    "length(all.snps)"
   ]
  },
  {
   "cell_type": "code",
   "execution_count": 80,
   "id": "a77867c8-d87e-491a-9d78-378d4c9072ca",
   "metadata": {},
   "outputs": [],
   "source": [
    "all.snps <- union(all.snps, mqtl.susie$SNP)"
   ]
  },
  {
   "cell_type": "code",
   "execution_count": 81,
   "id": "f6ca7817-f68c-4746-ab3c-eb760afd3b10",
   "metadata": {},
   "outputs": [
    {
     "data": {
      "text/html": [
       "254604"
      ],
      "text/latex": [
       "254604"
      ],
      "text/markdown": [
       "254604"
      ],
      "text/plain": [
       "[1] 254604"
      ]
     },
     "metadata": {},
     "output_type": "display_data"
    }
   ],
   "source": [
    "length(all.snps)"
   ]
  },
  {
   "cell_type": "code",
   "execution_count": 82,
   "id": "356c9b56-abcc-48b0-bd81-8b8bf44f5ae7",
   "metadata": {},
   "outputs": [],
   "source": [
    "vcf.contents <- geno.bim %>%\n",
    "    dplyr::mutate(snp=gsub(\":\", \"\\\\.\", snp)) %>%\n",
    "    dplyr::filter(snp %in% all.snps) %>%\n",
    "    dplyr::mutate(chr = paste0(\"chr\", chr)) %>%\n",
    "    dplyr::select(chr, pos, snp, major_allele, minor_allele)"
   ]
  },
  {
   "cell_type": "code",
   "execution_count": 83,
   "id": "ddc4b85a-0e4e-4259-ab96-3bba1f194ada",
   "metadata": {},
   "outputs": [
    {
     "data": {
      "text/html": [
       "<table class=\"dataframe\">\n",
       "<caption>A data.table: 6 × 5</caption>\n",
       "<thead>\n",
       "\t<tr><th scope=col>chr</th><th scope=col>pos</th><th scope=col>snp</th><th scope=col>major_allele</th><th scope=col>minor_allele</th></tr>\n",
       "\t<tr><th scope=col>&lt;chr&gt;</th><th scope=col>&lt;int&gt;</th><th scope=col>&lt;chr&gt;</th><th scope=col>&lt;chr&gt;</th><th scope=col>&lt;chr&gt;</th></tr>\n",
       "</thead>\n",
       "<tbody>\n",
       "\t<tr><td>chr1</td><td>817341</td><td>rs3131972  </td><td>G</td><td>A</td></tr>\n",
       "\t<tr><td>chr1</td><td>901149</td><td>rs28731045 </td><td>C</td><td>G</td></tr>\n",
       "\t<tr><td>chr1</td><td>918014</td><td>rs142336952</td><td>G</td><td>A</td></tr>\n",
       "\t<tr><td>chr1</td><td>944296</td><td>rs6605067  </td><td>A</td><td>G</td></tr>\n",
       "\t<tr><td>chr1</td><td>944307</td><td>rs2839     </td><td>C</td><td>T</td></tr>\n",
       "\t<tr><td>chr1</td><td>946247</td><td>rs2272757  </td><td>A</td><td>G</td></tr>\n",
       "</tbody>\n",
       "</table>\n"
      ],
      "text/latex": [
       "A data.table: 6 × 5\n",
       "\\begin{tabular}{lllll}\n",
       " chr & pos & snp & major\\_allele & minor\\_allele\\\\\n",
       " <chr> & <int> & <chr> & <chr> & <chr>\\\\\n",
       "\\hline\n",
       "\t chr1 & 817341 & rs3131972   & G & A\\\\\n",
       "\t chr1 & 901149 & rs28731045  & C & G\\\\\n",
       "\t chr1 & 918014 & rs142336952 & G & A\\\\\n",
       "\t chr1 & 944296 & rs6605067   & A & G\\\\\n",
       "\t chr1 & 944307 & rs2839      & C & T\\\\\n",
       "\t chr1 & 946247 & rs2272757   & A & G\\\\\n",
       "\\end{tabular}\n"
      ],
      "text/markdown": [
       "\n",
       "A data.table: 6 × 5\n",
       "\n",
       "| chr &lt;chr&gt; | pos &lt;int&gt; | snp &lt;chr&gt; | major_allele &lt;chr&gt; | minor_allele &lt;chr&gt; |\n",
       "|---|---|---|---|---|\n",
       "| chr1 | 817341 | rs3131972   | G | A |\n",
       "| chr1 | 901149 | rs28731045  | C | G |\n",
       "| chr1 | 918014 | rs142336952 | G | A |\n",
       "| chr1 | 944296 | rs6605067   | A | G |\n",
       "| chr1 | 944307 | rs2839      | C | T |\n",
       "| chr1 | 946247 | rs2272757   | A | G |\n",
       "\n"
      ],
      "text/plain": [
       "  chr  pos    snp         major_allele minor_allele\n",
       "1 chr1 817341 rs3131972   G            A           \n",
       "2 chr1 901149 rs28731045  C            G           \n",
       "3 chr1 918014 rs142336952 G            A           \n",
       "4 chr1 944296 rs6605067   A            G           \n",
       "5 chr1 944307 rs2839      C            T           \n",
       "6 chr1 946247 rs2272757   A            G           "
      ]
     },
     "metadata": {},
     "output_type": "display_data"
    }
   ],
   "source": [
    "head(vcf.contents)"
   ]
  },
  {
   "cell_type": "code",
   "execution_count": 84,
   "id": "29ee6044-fd2d-48d3-860e-142b511be14e",
   "metadata": {},
   "outputs": [],
   "source": [
    "fwrite(vcf.contents, \"/nfs/users/nfs_n/nm18/gains_team282/epigenetics/vep/qtl_and_cs.vcf\", sep=\"\\t\", col.names=F)"
   ]
  },
  {
   "cell_type": "code",
   "execution_count": 85,
   "id": "c7797df6-e8ff-45d8-91f7-8f6ef2295a3b",
   "metadata": {},
   "outputs": [],
   "source": [
    "vcf.contents.both.ref <- dplyr::bind_rows(\n",
    "    vcf.contents,\n",
    "    vcf.contents %>%\n",
    "        dplyr::mutate(temp_allele=major_allele) %>%\n",
    "        dplyr::mutate(major_allele=minor_allele) %>%\n",
    "        dplyr::mutate(minor_allele=temp_allele) %>%\n",
    "        dplyr::select(everything(), -temp_allele)\n",
    ") %>%\n",
    "    dplyr::arrange(chr, pos)"
   ]
  },
  {
   "cell_type": "code",
   "execution_count": 86,
   "id": "4b50d38b-8aec-4a28-9292-b706b8ecd6bc",
   "metadata": {},
   "outputs": [
    {
     "data": {
      "text/html": [
       "<table class=\"dataframe\">\n",
       "<caption>A data.table: 6 × 5</caption>\n",
       "<thead>\n",
       "\t<tr><th scope=col>chr</th><th scope=col>pos</th><th scope=col>snp</th><th scope=col>major_allele</th><th scope=col>minor_allele</th></tr>\n",
       "\t<tr><th scope=col>&lt;chr&gt;</th><th scope=col>&lt;int&gt;</th><th scope=col>&lt;chr&gt;</th><th scope=col>&lt;chr&gt;</th><th scope=col>&lt;chr&gt;</th></tr>\n",
       "</thead>\n",
       "<tbody>\n",
       "\t<tr><td>chr1</td><td>817341</td><td>rs3131972  </td><td>G</td><td>A</td></tr>\n",
       "\t<tr><td>chr1</td><td>817341</td><td>rs3131972  </td><td>A</td><td>G</td></tr>\n",
       "\t<tr><td>chr1</td><td>901149</td><td>rs28731045 </td><td>C</td><td>G</td></tr>\n",
       "\t<tr><td>chr1</td><td>901149</td><td>rs28731045 </td><td>G</td><td>C</td></tr>\n",
       "\t<tr><td>chr1</td><td>918014</td><td>rs142336952</td><td>G</td><td>A</td></tr>\n",
       "\t<tr><td>chr1</td><td>918014</td><td>rs142336952</td><td>A</td><td>G</td></tr>\n",
       "</tbody>\n",
       "</table>\n"
      ],
      "text/latex": [
       "A data.table: 6 × 5\n",
       "\\begin{tabular}{lllll}\n",
       " chr & pos & snp & major\\_allele & minor\\_allele\\\\\n",
       " <chr> & <int> & <chr> & <chr> & <chr>\\\\\n",
       "\\hline\n",
       "\t chr1 & 817341 & rs3131972   & G & A\\\\\n",
       "\t chr1 & 817341 & rs3131972   & A & G\\\\\n",
       "\t chr1 & 901149 & rs28731045  & C & G\\\\\n",
       "\t chr1 & 901149 & rs28731045  & G & C\\\\\n",
       "\t chr1 & 918014 & rs142336952 & G & A\\\\\n",
       "\t chr1 & 918014 & rs142336952 & A & G\\\\\n",
       "\\end{tabular}\n"
      ],
      "text/markdown": [
       "\n",
       "A data.table: 6 × 5\n",
       "\n",
       "| chr &lt;chr&gt; | pos &lt;int&gt; | snp &lt;chr&gt; | major_allele &lt;chr&gt; | minor_allele &lt;chr&gt; |\n",
       "|---|---|---|---|---|\n",
       "| chr1 | 817341 | rs3131972   | G | A |\n",
       "| chr1 | 817341 | rs3131972   | A | G |\n",
       "| chr1 | 901149 | rs28731045  | C | G |\n",
       "| chr1 | 901149 | rs28731045  | G | C |\n",
       "| chr1 | 918014 | rs142336952 | G | A |\n",
       "| chr1 | 918014 | rs142336952 | A | G |\n",
       "\n"
      ],
      "text/plain": [
       "  chr  pos    snp         major_allele minor_allele\n",
       "1 chr1 817341 rs3131972   G            A           \n",
       "2 chr1 817341 rs3131972   A            G           \n",
       "3 chr1 901149 rs28731045  C            G           \n",
       "4 chr1 901149 rs28731045  G            C           \n",
       "5 chr1 918014 rs142336952 G            A           \n",
       "6 chr1 918014 rs142336952 A            G           "
      ]
     },
     "metadata": {},
     "output_type": "display_data"
    }
   ],
   "source": [
    "head(vcf.contents.both.ref)"
   ]
  },
  {
   "cell_type": "code",
   "execution_count": 87,
   "id": "d4332d51-0c60-41db-823e-0f6c4cf2200c",
   "metadata": {},
   "outputs": [],
   "source": [
    "fwrite(vcf.contents.both.ref, \"/nfs/users/nfs_n/nm18/gains_team282/epigenetics/vep/qtl_and_cs_both_ref.vcf\", sep=\"\\t\", col.names=F)"
   ]
  },
  {
   "cell_type": "markdown",
   "id": "4a5eab5a-3a96-4ebf-84a4-74591f214337",
   "metadata": {},
   "source": [
    "## Liftover for hg19 Tools"
   ]
  },
  {
   "cell_type": "code",
   "execution_count": 88,
   "id": "6276e0d2-ac9f-4b87-975a-fa2e9d4284f3",
   "metadata": {},
   "outputs": [],
   "source": [
    "chain <- import.chain(\"03_Functional_Interpretation/data/hg38ToHg19.over.chain\")"
   ]
  },
  {
   "cell_type": "code",
   "execution_count": 89,
   "id": "21432338-4c87-4a92-bf71-5d1cbd695daa",
   "metadata": {},
   "outputs": [],
   "source": [
    "vcf.contents.gr <- vcf.contents %>%\n",
    "    makeGRangesFromDataFrame(seqnames.field=\"chr\", start.field=\"pos\", end.field=\"pos\", keep.extra.columns=TRUE)"
   ]
  },
  {
   "cell_type": "code",
   "execution_count": 90,
   "id": "2e3f7c6f-cdb2-4615-a0e6-c70460e2ffa7",
   "metadata": {},
   "outputs": [
    {
     "data": {
      "text/plain": [
       "GRanges object with 254604 ranges and 3 metadata columns:\n",
       "           seqnames    ranges strand |         snp major_allele minor_allele\n",
       "              <Rle> <IRanges>  <Rle> | <character>  <character>  <character>\n",
       "       [1]     chr1    817341      * |   rs3131972            G            A\n",
       "       [2]     chr1    901149      * |  rs28731045            C            G\n",
       "       [3]     chr1    918014      * | rs142336952            G            A\n",
       "       [4]     chr1    944296      * |   rs6605067            A            G\n",
       "       [5]     chr1    944307      * |      rs2839            C            T\n",
       "       ...      ...       ...    ... .         ...          ...          ...\n",
       "  [254600]    chr22  50627172      * |   rs6151412            G            A\n",
       "  [254601]    chr22  50634656      * |  rs79086732            C            T\n",
       "  [254602]    chr22  50636969      * | rs151207005            G            C\n",
       "  [254603]    chr22  50641305      * |  rs76300267            A            G\n",
       "  [254604]    chr22  50643604      * | rs117983891            T            G\n",
       "  -------\n",
       "  seqinfo: 22 sequences from an unspecified genome; no seqlengths"
      ]
     },
     "metadata": {},
     "output_type": "display_data"
    }
   ],
   "source": [
    "vcf.contents.gr"
   ]
  },
  {
   "cell_type": "code",
   "execution_count": 91,
   "id": "3b543fa8-1707-4f7f-b40b-519ed109fa88",
   "metadata": {},
   "outputs": [],
   "source": [
    "seqlevelsStyle(vcf.contents.gr) = \"UCSC\"\n",
    "vcf.contents.gr.hg19 <- unlist(liftOver(vcf.contents.gr, chain))"
   ]
  },
  {
   "cell_type": "code",
   "execution_count": 92,
   "id": "fc73adba-cd96-4858-b36e-e34053b39832",
   "metadata": {},
   "outputs": [],
   "source": [
    "vcf.contents.hg19 <- as.data.frame(vcf.contents.gr.hg19) %>%\n",
    "    dplyr::select(seqnames, start, snp, major_allele, minor_allele)"
   ]
  },
  {
   "cell_type": "code",
   "execution_count": 93,
   "id": "cb6b87a6-6464-4a55-a997-86925851e1f8",
   "metadata": {},
   "outputs": [
    {
     "data": {
      "text/html": [
       "<table class=\"dataframe\">\n",
       "<caption>A data.frame: 6 × 5</caption>\n",
       "<thead>\n",
       "\t<tr><th></th><th scope=col>seqnames</th><th scope=col>start</th><th scope=col>snp</th><th scope=col>major_allele</th><th scope=col>minor_allele</th></tr>\n",
       "\t<tr><th></th><th scope=col>&lt;fct&gt;</th><th scope=col>&lt;int&gt;</th><th scope=col>&lt;chr&gt;</th><th scope=col>&lt;chr&gt;</th><th scope=col>&lt;chr&gt;</th></tr>\n",
       "</thead>\n",
       "<tbody>\n",
       "\t<tr><th scope=row>1</th><td>chr1</td><td>752721</td><td>rs3131972  </td><td>G</td><td>A</td></tr>\n",
       "\t<tr><th scope=row>2</th><td>chr1</td><td>836529</td><td>rs28731045 </td><td>C</td><td>G</td></tr>\n",
       "\t<tr><th scope=row>3</th><td>chr1</td><td>853394</td><td>rs142336952</td><td>G</td><td>A</td></tr>\n",
       "\t<tr><th scope=row>4</th><td>chr1</td><td>879676</td><td>rs6605067  </td><td>A</td><td>G</td></tr>\n",
       "\t<tr><th scope=row>5</th><td>chr1</td><td>879687</td><td>rs2839     </td><td>C</td><td>T</td></tr>\n",
       "\t<tr><th scope=row>6</th><td>chr1</td><td>881627</td><td>rs2272757  </td><td>A</td><td>G</td></tr>\n",
       "</tbody>\n",
       "</table>\n"
      ],
      "text/latex": [
       "A data.frame: 6 × 5\n",
       "\\begin{tabular}{r|lllll}\n",
       "  & seqnames & start & snp & major\\_allele & minor\\_allele\\\\\n",
       "  & <fct> & <int> & <chr> & <chr> & <chr>\\\\\n",
       "\\hline\n",
       "\t1 & chr1 & 752721 & rs3131972   & G & A\\\\\n",
       "\t2 & chr1 & 836529 & rs28731045  & C & G\\\\\n",
       "\t3 & chr1 & 853394 & rs142336952 & G & A\\\\\n",
       "\t4 & chr1 & 879676 & rs6605067   & A & G\\\\\n",
       "\t5 & chr1 & 879687 & rs2839      & C & T\\\\\n",
       "\t6 & chr1 & 881627 & rs2272757   & A & G\\\\\n",
       "\\end{tabular}\n"
      ],
      "text/markdown": [
       "\n",
       "A data.frame: 6 × 5\n",
       "\n",
       "| <!--/--> | seqnames &lt;fct&gt; | start &lt;int&gt; | snp &lt;chr&gt; | major_allele &lt;chr&gt; | minor_allele &lt;chr&gt; |\n",
       "|---|---|---|---|---|---|\n",
       "| 1 | chr1 | 752721 | rs3131972   | G | A |\n",
       "| 2 | chr1 | 836529 | rs28731045  | C | G |\n",
       "| 3 | chr1 | 853394 | rs142336952 | G | A |\n",
       "| 4 | chr1 | 879676 | rs6605067   | A | G |\n",
       "| 5 | chr1 | 879687 | rs2839      | C | T |\n",
       "| 6 | chr1 | 881627 | rs2272757   | A | G |\n",
       "\n"
      ],
      "text/plain": [
       "  seqnames start  snp         major_allele minor_allele\n",
       "1 chr1     752721 rs3131972   G            A           \n",
       "2 chr1     836529 rs28731045  C            G           \n",
       "3 chr1     853394 rs142336952 G            A           \n",
       "4 chr1     879676 rs6605067   A            G           \n",
       "5 chr1     879687 rs2839      C            T           \n",
       "6 chr1     881627 rs2272757   A            G           "
      ]
     },
     "metadata": {},
     "output_type": "display_data"
    }
   ],
   "source": [
    "head(vcf.contents.hg19)"
   ]
  },
  {
   "cell_type": "code",
   "execution_count": 94,
   "id": "2b71e266-6bb5-42ca-a600-609dd17122f5",
   "metadata": {},
   "outputs": [],
   "source": [
    "fwrite(vcf.contents.hg19, \"/nfs/users/nfs_n/nm18/gains_team282/epigenetics/vep/qtl_and_cs_hg19.vcf\", sep=\"\\t\", col.names=F)"
   ]
  },
  {
   "cell_type": "code",
   "execution_count": null,
   "id": "394af4ab-1f76-4957-b5bd-43c90a8ae71f",
   "metadata": {},
   "outputs": [],
   "source": []
  }
 ],
 "metadata": {
  "kernelspec": {
   "display_name": "R",
   "language": "R",
   "name": "ir"
  },
  "language_info": {
   "codemirror_mode": "r",
   "file_extension": ".r",
   "mimetype": "text/x-r-source",
   "name": "R",
   "pygments_lexer": "r",
   "version": "4.0.5"
  }
 },
 "nbformat": 4,
 "nbformat_minor": 5
}
