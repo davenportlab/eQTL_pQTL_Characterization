{
 "cells": [
  {
   "cell_type": "markdown",
   "id": "f0e062fc-193c-41d8-8db1-3d8f79dc8f8d",
   "metadata": {},
   "source": [
    "# RNA-Seq Read Counts\n",
    "\n",
    "**Created**: 11 January 2022"
   ]
  },
  {
   "cell_type": "markdown",
   "id": "3ace430b-786c-4cef-8144-ff25c7ef390f",
   "metadata": {
    "tags": []
   },
   "source": [
    "## Environment"
   ]
  },
  {
   "cell_type": "code",
   "execution_count": 1,
   "id": "ec2ae3d4-535c-4ba1-97a2-0c5a1b8fd086",
   "metadata": {},
   "outputs": [
    {
     "name": "stderr",
     "output_type": "stream",
     "text": [
      "── \u001b[1mAttaching packages\u001b[22m ────────────────────────────────────────────────────────────────────────────────────────────────────────── tidyverse 1.3.1 ──\n",
      "\n",
      "\u001b[32m✔\u001b[39m \u001b[34mggplot2\u001b[39m 3.3.5     \u001b[32m✔\u001b[39m \u001b[34mpurrr  \u001b[39m 0.3.4\n",
      "\u001b[32m✔\u001b[39m \u001b[34mtibble \u001b[39m 3.1.6     \u001b[32m✔\u001b[39m \u001b[34mdplyr  \u001b[39m 1.0.7\n",
      "\u001b[32m✔\u001b[39m \u001b[34mtidyr  \u001b[39m 1.1.4     \u001b[32m✔\u001b[39m \u001b[34mstringr\u001b[39m 1.4.0\n",
      "\u001b[32m✔\u001b[39m \u001b[34mreadr  \u001b[39m 2.1.1     \u001b[32m✔\u001b[39m \u001b[34mforcats\u001b[39m 0.5.1\n",
      "\n",
      "── \u001b[1mConflicts\u001b[22m ───────────────────────────────────────────────────────────────────────────────────────────────────────────── tidyverse_conflicts() ──\n",
      "\u001b[31m✖\u001b[39m \u001b[34mdplyr\u001b[39m::\u001b[32mfilter()\u001b[39m masks \u001b[34mstats\u001b[39m::filter()\n",
      "\u001b[31m✖\u001b[39m \u001b[34mdplyr\u001b[39m::\u001b[32mlag()\u001b[39m    masks \u001b[34mstats\u001b[39m::lag()\n",
      "\n",
      "\n",
      "Attaching package: ‘data.table’\n",
      "\n",
      "\n",
      "The following objects are masked from ‘package:dplyr’:\n",
      "\n",
      "    between, first, last\n",
      "\n",
      "\n",
      "The following object is masked from ‘package:purrr’:\n",
      "\n",
      "    transpose\n",
      "\n",
      "\n"
     ]
    }
   ],
   "source": [
    "library(tidyverse)\n",
    "library(data.table)\n",
    "\n",
    "setwd(\"~/eQTL_pQTL_Characterization/\")\n",
    "\n",
    "source(\"03_Functional_Interpretation/scripts/utils/ggplot_theme.R\")"
   ]
  },
  {
   "cell_type": "markdown",
   "id": "8232a45b-dcc4-4cb6-9c9c-a1a670c723ce",
   "metadata": {
    "jp-MarkdownHeadingCollapsed": true,
    "tags": []
   },
   "source": [
    "## Load Data"
   ]
  },
  {
   "cell_type": "code",
   "execution_count": 2,
   "id": "6f89d644-b02c-4f54-b198-7470dae0661a",
   "metadata": {},
   "outputs": [],
   "source": [
    "read.counts <- fread(\"~/gains_team282/epigenetics/calderon_et_al/analysis/rna_seq/gene_counts.tsv\")"
   ]
  },
  {
   "cell_type": "code",
   "execution_count": 3,
   "id": "07d5bcba-15f3-4145-8515-c933a033d8d6",
   "metadata": {},
   "outputs": [
    {
     "data": {
      "text/html": [
       "<table class=\"dataframe\">\n",
       "<caption>A data.table: 6 × 167</caption>\n",
       "<thead>\n",
       "\t<tr><th scope=col>Gene</th><th scope=col>SRR11007061</th><th scope=col>SRR11007062</th><th scope=col>SRR11007063</th><th scope=col>SRR11007064</th><th scope=col>SRR11007065</th><th scope=col>SRR11007066</th><th scope=col>SRR11007067</th><th scope=col>SRR11007068</th><th scope=col>SRR11007069</th><th scope=col>⋯</th><th scope=col>SRR7647807</th><th scope=col>SRR7647808</th><th scope=col>SRR7647809</th><th scope=col>SRR7647810</th><th scope=col>SRR7647811</th><th scope=col>SRR7647812</th><th scope=col>SRR7647813</th><th scope=col>SRR7647817</th><th scope=col>SRR7647818</th><th scope=col>SRR7647819</th></tr>\n",
       "\t<tr><th scope=col>&lt;chr&gt;</th><th scope=col>&lt;int&gt;</th><th scope=col>&lt;int&gt;</th><th scope=col>&lt;int&gt;</th><th scope=col>&lt;int&gt;</th><th scope=col>&lt;int&gt;</th><th scope=col>&lt;int&gt;</th><th scope=col>&lt;int&gt;</th><th scope=col>&lt;int&gt;</th><th scope=col>&lt;int&gt;</th><th scope=col>⋯</th><th scope=col>&lt;int&gt;</th><th scope=col>&lt;int&gt;</th><th scope=col>&lt;int&gt;</th><th scope=col>&lt;int&gt;</th><th scope=col>&lt;int&gt;</th><th scope=col>&lt;int&gt;</th><th scope=col>&lt;int&gt;</th><th scope=col>&lt;int&gt;</th><th scope=col>&lt;int&gt;</th><th scope=col>&lt;int&gt;</th></tr>\n",
       "</thead>\n",
       "<tbody>\n",
       "\t<tr><td>ENSG00000223972</td><td>0</td><td> 0</td><td>0</td><td>0</td><td>0</td><td>0</td><td>0</td><td>1</td><td>0</td><td>⋯</td><td>0</td><td>0</td><td>0</td><td>0</td><td>0</td><td>0</td><td>0</td><td>0</td><td>0</td><td>0</td></tr>\n",
       "\t<tr><td>ENSG00000227232</td><td>6</td><td>11</td><td>4</td><td>0</td><td>3</td><td>2</td><td>1</td><td>1</td><td>0</td><td>⋯</td><td>0</td><td>2</td><td>1</td><td>1</td><td>2</td><td>0</td><td>0</td><td>3</td><td>3</td><td>1</td></tr>\n",
       "\t<tr><td>ENSG00000278267</td><td>0</td><td> 2</td><td>0</td><td>0</td><td>0</td><td>0</td><td>0</td><td>1</td><td>0</td><td>⋯</td><td>0</td><td>0</td><td>0</td><td>0</td><td>0</td><td>0</td><td>0</td><td>0</td><td>0</td><td>0</td></tr>\n",
       "\t<tr><td>ENSG00000243485</td><td>0</td><td> 0</td><td>0</td><td>0</td><td>0</td><td>0</td><td>1</td><td>0</td><td>0</td><td>⋯</td><td>0</td><td>0</td><td>0</td><td>0</td><td>0</td><td>0</td><td>0</td><td>1</td><td>0</td><td>0</td></tr>\n",
       "\t<tr><td>ENSG00000284332</td><td>0</td><td> 0</td><td>0</td><td>0</td><td>0</td><td>0</td><td>0</td><td>0</td><td>0</td><td>⋯</td><td>0</td><td>0</td><td>0</td><td>0</td><td>0</td><td>0</td><td>0</td><td>0</td><td>0</td><td>0</td></tr>\n",
       "\t<tr><td>ENSG00000237613</td><td>0</td><td> 0</td><td>0</td><td>0</td><td>0</td><td>0</td><td>0</td><td>0</td><td>0</td><td>⋯</td><td>0</td><td>0</td><td>0</td><td>0</td><td>0</td><td>0</td><td>0</td><td>0</td><td>0</td><td>0</td></tr>\n",
       "</tbody>\n",
       "</table>\n"
      ],
      "text/latex": [
       "A data.table: 6 × 167\n",
       "\\begin{tabular}{lllllllllllllllllllll}\n",
       " Gene & SRR11007061 & SRR11007062 & SRR11007063 & SRR11007064 & SRR11007065 & SRR11007066 & SRR11007067 & SRR11007068 & SRR11007069 & ⋯ & SRR7647807 & SRR7647808 & SRR7647809 & SRR7647810 & SRR7647811 & SRR7647812 & SRR7647813 & SRR7647817 & SRR7647818 & SRR7647819\\\\\n",
       " <chr> & <int> & <int> & <int> & <int> & <int> & <int> & <int> & <int> & <int> & ⋯ & <int> & <int> & <int> & <int> & <int> & <int> & <int> & <int> & <int> & <int>\\\\\n",
       "\\hline\n",
       "\t ENSG00000223972 & 0 &  0 & 0 & 0 & 0 & 0 & 0 & 1 & 0 & ⋯ & 0 & 0 & 0 & 0 & 0 & 0 & 0 & 0 & 0 & 0\\\\\n",
       "\t ENSG00000227232 & 6 & 11 & 4 & 0 & 3 & 2 & 1 & 1 & 0 & ⋯ & 0 & 2 & 1 & 1 & 2 & 0 & 0 & 3 & 3 & 1\\\\\n",
       "\t ENSG00000278267 & 0 &  2 & 0 & 0 & 0 & 0 & 0 & 1 & 0 & ⋯ & 0 & 0 & 0 & 0 & 0 & 0 & 0 & 0 & 0 & 0\\\\\n",
       "\t ENSG00000243485 & 0 &  0 & 0 & 0 & 0 & 0 & 1 & 0 & 0 & ⋯ & 0 & 0 & 0 & 0 & 0 & 0 & 0 & 1 & 0 & 0\\\\\n",
       "\t ENSG00000284332 & 0 &  0 & 0 & 0 & 0 & 0 & 0 & 0 & 0 & ⋯ & 0 & 0 & 0 & 0 & 0 & 0 & 0 & 0 & 0 & 0\\\\\n",
       "\t ENSG00000237613 & 0 &  0 & 0 & 0 & 0 & 0 & 0 & 0 & 0 & ⋯ & 0 & 0 & 0 & 0 & 0 & 0 & 0 & 0 & 0 & 0\\\\\n",
       "\\end{tabular}\n"
      ],
      "text/markdown": [
       "\n",
       "A data.table: 6 × 167\n",
       "\n",
       "| Gene &lt;chr&gt; | SRR11007061 &lt;int&gt; | SRR11007062 &lt;int&gt; | SRR11007063 &lt;int&gt; | SRR11007064 &lt;int&gt; | SRR11007065 &lt;int&gt; | SRR11007066 &lt;int&gt; | SRR11007067 &lt;int&gt; | SRR11007068 &lt;int&gt; | SRR11007069 &lt;int&gt; | ⋯ ⋯ | SRR7647807 &lt;int&gt; | SRR7647808 &lt;int&gt; | SRR7647809 &lt;int&gt; | SRR7647810 &lt;int&gt; | SRR7647811 &lt;int&gt; | SRR7647812 &lt;int&gt; | SRR7647813 &lt;int&gt; | SRR7647817 &lt;int&gt; | SRR7647818 &lt;int&gt; | SRR7647819 &lt;int&gt; |\n",
       "|---|---|---|---|---|---|---|---|---|---|---|---|---|---|---|---|---|---|---|---|---|\n",
       "| ENSG00000223972 | 0 |  0 | 0 | 0 | 0 | 0 | 0 | 1 | 0 | ⋯ | 0 | 0 | 0 | 0 | 0 | 0 | 0 | 0 | 0 | 0 |\n",
       "| ENSG00000227232 | 6 | 11 | 4 | 0 | 3 | 2 | 1 | 1 | 0 | ⋯ | 0 | 2 | 1 | 1 | 2 | 0 | 0 | 3 | 3 | 1 |\n",
       "| ENSG00000278267 | 0 |  2 | 0 | 0 | 0 | 0 | 0 | 1 | 0 | ⋯ | 0 | 0 | 0 | 0 | 0 | 0 | 0 | 0 | 0 | 0 |\n",
       "| ENSG00000243485 | 0 |  0 | 0 | 0 | 0 | 0 | 1 | 0 | 0 | ⋯ | 0 | 0 | 0 | 0 | 0 | 0 | 0 | 1 | 0 | 0 |\n",
       "| ENSG00000284332 | 0 |  0 | 0 | 0 | 0 | 0 | 0 | 0 | 0 | ⋯ | 0 | 0 | 0 | 0 | 0 | 0 | 0 | 0 | 0 | 0 |\n",
       "| ENSG00000237613 | 0 |  0 | 0 | 0 | 0 | 0 | 0 | 0 | 0 | ⋯ | 0 | 0 | 0 | 0 | 0 | 0 | 0 | 0 | 0 | 0 |\n",
       "\n"
      ],
      "text/plain": [
       "  Gene            SRR11007061 SRR11007062 SRR11007063 SRR11007064 SRR11007065\n",
       "1 ENSG00000223972 0            0          0           0           0          \n",
       "2 ENSG00000227232 6           11          4           0           3          \n",
       "3 ENSG00000278267 0            2          0           0           0          \n",
       "4 ENSG00000243485 0            0          0           0           0          \n",
       "5 ENSG00000284332 0            0          0           0           0          \n",
       "6 ENSG00000237613 0            0          0           0           0          \n",
       "  SRR11007066 SRR11007067 SRR11007068 SRR11007069 ⋯ SRR7647807 SRR7647808\n",
       "1 0           0           1           0           ⋯ 0          0         \n",
       "2 2           1           1           0           ⋯ 0          2         \n",
       "3 0           0           1           0           ⋯ 0          0         \n",
       "4 0           1           0           0           ⋯ 0          0         \n",
       "5 0           0           0           0           ⋯ 0          0         \n",
       "6 0           0           0           0           ⋯ 0          0         \n",
       "  SRR7647809 SRR7647810 SRR7647811 SRR7647812 SRR7647813 SRR7647817 SRR7647818\n",
       "1 0          0          0          0          0          0          0         \n",
       "2 1          1          2          0          0          3          3         \n",
       "3 0          0          0          0          0          0          0         \n",
       "4 0          0          0          0          0          1          0         \n",
       "5 0          0          0          0          0          0          0         \n",
       "6 0          0          0          0          0          0          0         \n",
       "  SRR7647819\n",
       "1 0         \n",
       "2 1         \n",
       "3 0         \n",
       "4 0         \n",
       "5 0         \n",
       "6 0         "
      ]
     },
     "metadata": {},
     "output_type": "display_data"
    }
   ],
   "source": [
    "head(read.counts)"
   ]
  },
  {
   "cell_type": "code",
   "execution_count": 4,
   "id": "493af90f-efe4-4df3-98a6-bf7b5d686f72",
   "metadata": {},
   "outputs": [],
   "source": [
    "sample.info <- read.csv(\"03_Functional_Interpretation/metadata/reads_calderon_et_al_rna_seq.txt\")"
   ]
  },
  {
   "cell_type": "code",
   "execution_count": 5,
   "id": "d1ab771f-201e-4620-bc68-12f6a84f6d0c",
   "metadata": {},
   "outputs": [
    {
     "data": {
      "text/html": [
       "<table class=\"dataframe\">\n",
       "<caption>A data.frame: 6 × 28</caption>\n",
       "<thead>\n",
       "\t<tr><th></th><th scope=col>Run</th><th scope=col>Assay.Type</th><th scope=col>AvgSpotLen</th><th scope=col>Bases</th><th scope=col>BioProject</th><th scope=col>BioSample</th><th scope=col>Bytes</th><th scope=col>cell_type</th><th scope=col>Center.Name</th><th scope=col>Consent</th><th scope=col>⋯</th><th scope=col>LibrarySelection</th><th scope=col>LibrarySource</th><th scope=col>lineage</th><th scope=col>Organism</th><th scope=col>Platform</th><th scope=col>ReleaseDate</th><th scope=col>Sample.Name</th><th scope=col>source_name</th><th scope=col>SRA.Study</th><th scope=col>Treatment</th></tr>\n",
       "\t<tr><th></th><th scope=col>&lt;chr&gt;</th><th scope=col>&lt;chr&gt;</th><th scope=col>&lt;int&gt;</th><th scope=col>&lt;dbl&gt;</th><th scope=col>&lt;chr&gt;</th><th scope=col>&lt;chr&gt;</th><th scope=col>&lt;dbl&gt;</th><th scope=col>&lt;chr&gt;</th><th scope=col>&lt;chr&gt;</th><th scope=col>&lt;chr&gt;</th><th scope=col>⋯</th><th scope=col>&lt;chr&gt;</th><th scope=col>&lt;chr&gt;</th><th scope=col>&lt;chr&gt;</th><th scope=col>&lt;chr&gt;</th><th scope=col>&lt;chr&gt;</th><th scope=col>&lt;chr&gt;</th><th scope=col>&lt;chr&gt;</th><th scope=col>&lt;chr&gt;</th><th scope=col>&lt;chr&gt;</th><th scope=col>&lt;chr&gt;</th></tr>\n",
       "</thead>\n",
       "<tbody>\n",
       "\t<tr><th scope=row>1</th><td>SRR11007061</td><td>RNA-Seq</td><td>192</td><td> 8160479782</td><td>PRJNA484735</td><td>SAMN09768434</td><td>2579781267</td><td>CD8pos_T                </td><td>GEO</td><td>public</td><td>⋯</td><td>cDNA</td><td>TRANSCRIPTOMIC</td><td>CD8</td><td>Homo sapiens</td><td>ILLUMINA</td><td>2020-02-04T00:00:00Z</td><td>GSM3319750</td><td>primary blood</td><td>SRP156452</td><td>no_treament</td></tr>\n",
       "\t<tr><th scope=row>2</th><td>SRR11007062</td><td>RNA-Seq</td><td>195</td><td>15315982752</td><td>PRJNA484735</td><td>SAMN09768433</td><td>4836924733</td><td>CD8pos_T                </td><td>GEO</td><td>public</td><td>⋯</td><td>cDNA</td><td>TRANSCRIPTOMIC</td><td>CD8</td><td>Homo sapiens</td><td>ILLUMINA</td><td>2020-02-04T00:00:00Z</td><td>GSM3319751</td><td>primary blood</td><td>SRP156452</td><td>treatment1 </td></tr>\n",
       "\t<tr><th scope=row>3</th><td>SRR11007063</td><td>RNA-Seq</td><td>195</td><td>13128598440</td><td>PRJNA484735</td><td>SAMN09768432</td><td>4155236675</td><td>Central_memory_CD8pos_T </td><td>GEO</td><td>public</td><td>⋯</td><td>cDNA</td><td>TRANSCRIPTOMIC</td><td>CD8</td><td>Homo sapiens</td><td>ILLUMINA</td><td>2020-02-04T00:00:00Z</td><td>GSM3319752</td><td>primary blood</td><td>SRP156452</td><td>no_treament</td></tr>\n",
       "\t<tr><th scope=row>4</th><td>SRR11007064</td><td>RNA-Seq</td><td>193</td><td> 4866405615</td><td>PRJNA484735</td><td>SAMN09768431</td><td>1546902050</td><td>Central_memory_CD8pos_T </td><td>GEO</td><td>public</td><td>⋯</td><td>cDNA</td><td>TRANSCRIPTOMIC</td><td>CD8</td><td>Homo sapiens</td><td>ILLUMINA</td><td>2020-02-04T00:00:00Z</td><td>GSM3319753</td><td>primary blood</td><td>SRP156452</td><td>treatment1 </td></tr>\n",
       "\t<tr><th scope=row>5</th><td>SRR11007065</td><td>RNA-Seq</td><td>195</td><td> 9601276948</td><td>PRJNA484735</td><td>SAMN09768430</td><td>3023735003</td><td>Effector_memory_CD8pos_T</td><td>GEO</td><td>public</td><td>⋯</td><td>cDNA</td><td>TRANSCRIPTOMIC</td><td>CD8</td><td>Homo sapiens</td><td>ILLUMINA</td><td>2020-02-04T00:00:00Z</td><td>GSM3319754</td><td>primary blood</td><td>SRP156452</td><td>no_treament</td></tr>\n",
       "\t<tr><th scope=row>6</th><td>SRR11007066</td><td>RNA-Seq</td><td>196</td><td> 9273440229</td><td>PRJNA484735</td><td>SAMN09768429</td><td>2953466798</td><td>Effector_memory_CD8pos_T</td><td>GEO</td><td>public</td><td>⋯</td><td>cDNA</td><td>TRANSCRIPTOMIC</td><td>CD8</td><td>Homo sapiens</td><td>ILLUMINA</td><td>2020-02-04T00:00:00Z</td><td>GSM3319755</td><td>primary blood</td><td>SRP156452</td><td>treatment1 </td></tr>\n",
       "</tbody>\n",
       "</table>\n"
      ],
      "text/latex": [
       "A data.frame: 6 × 28\n",
       "\\begin{tabular}{r|lllllllllllllllllllll}\n",
       "  & Run & Assay.Type & AvgSpotLen & Bases & BioProject & BioSample & Bytes & cell\\_type & Center.Name & Consent & ⋯ & LibrarySelection & LibrarySource & lineage & Organism & Platform & ReleaseDate & Sample.Name & source\\_name & SRA.Study & Treatment\\\\\n",
       "  & <chr> & <chr> & <int> & <dbl> & <chr> & <chr> & <dbl> & <chr> & <chr> & <chr> & ⋯ & <chr> & <chr> & <chr> & <chr> & <chr> & <chr> & <chr> & <chr> & <chr> & <chr>\\\\\n",
       "\\hline\n",
       "\t1 & SRR11007061 & RNA-Seq & 192 &  8160479782 & PRJNA484735 & SAMN09768434 & 2579781267 & CD8pos\\_T                 & GEO & public & ⋯ & cDNA & TRANSCRIPTOMIC & CD8 & Homo sapiens & ILLUMINA & 2020-02-04T00:00:00Z & GSM3319750 & primary blood & SRP156452 & no\\_treament\\\\\n",
       "\t2 & SRR11007062 & RNA-Seq & 195 & 15315982752 & PRJNA484735 & SAMN09768433 & 4836924733 & CD8pos\\_T                 & GEO & public & ⋯ & cDNA & TRANSCRIPTOMIC & CD8 & Homo sapiens & ILLUMINA & 2020-02-04T00:00:00Z & GSM3319751 & primary blood & SRP156452 & treatment1 \\\\\n",
       "\t3 & SRR11007063 & RNA-Seq & 195 & 13128598440 & PRJNA484735 & SAMN09768432 & 4155236675 & Central\\_memory\\_CD8pos\\_T  & GEO & public & ⋯ & cDNA & TRANSCRIPTOMIC & CD8 & Homo sapiens & ILLUMINA & 2020-02-04T00:00:00Z & GSM3319752 & primary blood & SRP156452 & no\\_treament\\\\\n",
       "\t4 & SRR11007064 & RNA-Seq & 193 &  4866405615 & PRJNA484735 & SAMN09768431 & 1546902050 & Central\\_memory\\_CD8pos\\_T  & GEO & public & ⋯ & cDNA & TRANSCRIPTOMIC & CD8 & Homo sapiens & ILLUMINA & 2020-02-04T00:00:00Z & GSM3319753 & primary blood & SRP156452 & treatment1 \\\\\n",
       "\t5 & SRR11007065 & RNA-Seq & 195 &  9601276948 & PRJNA484735 & SAMN09768430 & 3023735003 & Effector\\_memory\\_CD8pos\\_T & GEO & public & ⋯ & cDNA & TRANSCRIPTOMIC & CD8 & Homo sapiens & ILLUMINA & 2020-02-04T00:00:00Z & GSM3319754 & primary blood & SRP156452 & no\\_treament\\\\\n",
       "\t6 & SRR11007066 & RNA-Seq & 196 &  9273440229 & PRJNA484735 & SAMN09768429 & 2953466798 & Effector\\_memory\\_CD8pos\\_T & GEO & public & ⋯ & cDNA & TRANSCRIPTOMIC & CD8 & Homo sapiens & ILLUMINA & 2020-02-04T00:00:00Z & GSM3319755 & primary blood & SRP156452 & treatment1 \\\\\n",
       "\\end{tabular}\n"
      ],
      "text/markdown": [
       "\n",
       "A data.frame: 6 × 28\n",
       "\n",
       "| <!--/--> | Run &lt;chr&gt; | Assay.Type &lt;chr&gt; | AvgSpotLen &lt;int&gt; | Bases &lt;dbl&gt; | BioProject &lt;chr&gt; | BioSample &lt;chr&gt; | Bytes &lt;dbl&gt; | cell_type &lt;chr&gt; | Center.Name &lt;chr&gt; | Consent &lt;chr&gt; | ⋯ ⋯ | LibrarySelection &lt;chr&gt; | LibrarySource &lt;chr&gt; | lineage &lt;chr&gt; | Organism &lt;chr&gt; | Platform &lt;chr&gt; | ReleaseDate &lt;chr&gt; | Sample.Name &lt;chr&gt; | source_name &lt;chr&gt; | SRA.Study &lt;chr&gt; | Treatment &lt;chr&gt; |\n",
       "|---|---|---|---|---|---|---|---|---|---|---|---|---|---|---|---|---|---|---|---|---|---|\n",
       "| 1 | SRR11007061 | RNA-Seq | 192 |  8160479782 | PRJNA484735 | SAMN09768434 | 2579781267 | CD8pos_T                 | GEO | public | ⋯ | cDNA | TRANSCRIPTOMIC | CD8 | Homo sapiens | ILLUMINA | 2020-02-04T00:00:00Z | GSM3319750 | primary blood | SRP156452 | no_treament |\n",
       "| 2 | SRR11007062 | RNA-Seq | 195 | 15315982752 | PRJNA484735 | SAMN09768433 | 4836924733 | CD8pos_T                 | GEO | public | ⋯ | cDNA | TRANSCRIPTOMIC | CD8 | Homo sapiens | ILLUMINA | 2020-02-04T00:00:00Z | GSM3319751 | primary blood | SRP156452 | treatment1  |\n",
       "| 3 | SRR11007063 | RNA-Seq | 195 | 13128598440 | PRJNA484735 | SAMN09768432 | 4155236675 | Central_memory_CD8pos_T  | GEO | public | ⋯ | cDNA | TRANSCRIPTOMIC | CD8 | Homo sapiens | ILLUMINA | 2020-02-04T00:00:00Z | GSM3319752 | primary blood | SRP156452 | no_treament |\n",
       "| 4 | SRR11007064 | RNA-Seq | 193 |  4866405615 | PRJNA484735 | SAMN09768431 | 1546902050 | Central_memory_CD8pos_T  | GEO | public | ⋯ | cDNA | TRANSCRIPTOMIC | CD8 | Homo sapiens | ILLUMINA | 2020-02-04T00:00:00Z | GSM3319753 | primary blood | SRP156452 | treatment1  |\n",
       "| 5 | SRR11007065 | RNA-Seq | 195 |  9601276948 | PRJNA484735 | SAMN09768430 | 3023735003 | Effector_memory_CD8pos_T | GEO | public | ⋯ | cDNA | TRANSCRIPTOMIC | CD8 | Homo sapiens | ILLUMINA | 2020-02-04T00:00:00Z | GSM3319754 | primary blood | SRP156452 | no_treament |\n",
       "| 6 | SRR11007066 | RNA-Seq | 196 |  9273440229 | PRJNA484735 | SAMN09768429 | 2953466798 | Effector_memory_CD8pos_T | GEO | public | ⋯ | cDNA | TRANSCRIPTOMIC | CD8 | Homo sapiens | ILLUMINA | 2020-02-04T00:00:00Z | GSM3319755 | primary blood | SRP156452 | treatment1  |\n",
       "\n"
      ],
      "text/plain": [
       "  Run         Assay.Type AvgSpotLen Bases       BioProject  BioSample   \n",
       "1 SRR11007061 RNA-Seq    192         8160479782 PRJNA484735 SAMN09768434\n",
       "2 SRR11007062 RNA-Seq    195        15315982752 PRJNA484735 SAMN09768433\n",
       "3 SRR11007063 RNA-Seq    195        13128598440 PRJNA484735 SAMN09768432\n",
       "4 SRR11007064 RNA-Seq    193         4866405615 PRJNA484735 SAMN09768431\n",
       "5 SRR11007065 RNA-Seq    195         9601276948 PRJNA484735 SAMN09768430\n",
       "6 SRR11007066 RNA-Seq    196         9273440229 PRJNA484735 SAMN09768429\n",
       "  Bytes      cell_type                Center.Name Consent ⋯ LibrarySelection\n",
       "1 2579781267 CD8pos_T                 GEO         public  ⋯ cDNA            \n",
       "2 4836924733 CD8pos_T                 GEO         public  ⋯ cDNA            \n",
       "3 4155236675 Central_memory_CD8pos_T  GEO         public  ⋯ cDNA            \n",
       "4 1546902050 Central_memory_CD8pos_T  GEO         public  ⋯ cDNA            \n",
       "5 3023735003 Effector_memory_CD8pos_T GEO         public  ⋯ cDNA            \n",
       "6 2953466798 Effector_memory_CD8pos_T GEO         public  ⋯ cDNA            \n",
       "  LibrarySource  lineage Organism     Platform ReleaseDate          Sample.Name\n",
       "1 TRANSCRIPTOMIC CD8     Homo sapiens ILLUMINA 2020-02-04T00:00:00Z GSM3319750 \n",
       "2 TRANSCRIPTOMIC CD8     Homo sapiens ILLUMINA 2020-02-04T00:00:00Z GSM3319751 \n",
       "3 TRANSCRIPTOMIC CD8     Homo sapiens ILLUMINA 2020-02-04T00:00:00Z GSM3319752 \n",
       "4 TRANSCRIPTOMIC CD8     Homo sapiens ILLUMINA 2020-02-04T00:00:00Z GSM3319753 \n",
       "5 TRANSCRIPTOMIC CD8     Homo sapiens ILLUMINA 2020-02-04T00:00:00Z GSM3319754 \n",
       "6 TRANSCRIPTOMIC CD8     Homo sapiens ILLUMINA 2020-02-04T00:00:00Z GSM3319755 \n",
       "  source_name   SRA.Study Treatment  \n",
       "1 primary blood SRP156452 no_treament\n",
       "2 primary blood SRP156452 treatment1 \n",
       "3 primary blood SRP156452 no_treament\n",
       "4 primary blood SRP156452 treatment1 \n",
       "5 primary blood SRP156452 no_treament\n",
       "6 primary blood SRP156452 treatment1 "
      ]
     },
     "metadata": {},
     "output_type": "display_data"
    }
   ],
   "source": [
    "head(sample.info)"
   ]
  },
  {
   "cell_type": "code",
   "execution_count": 6,
   "id": "114b8180-94db-4352-abfb-9de8663cf801",
   "metadata": {},
   "outputs": [],
   "source": [
    "bam.qc <- read.table(\"~/gains_team282/epigenetics/calderon_et_al/analysis/rna_seq/bam_qc.tsv\", sep=\"\\t\", header=TRUE)"
   ]
  },
  {
   "cell_type": "code",
   "execution_count": 7,
   "id": "39ecc1a5-1292-4fbe-b3b1-6723d5a9af3b",
   "metadata": {},
   "outputs": [
    {
     "data": {
      "text/html": [
       "<table class=\"dataframe\">\n",
       "<caption>A data.frame: 6 × 87</caption>\n",
       "<thead>\n",
       "\t<tr><th></th><th scope=col>Sample</th><th scope=col>bam.file</th><th scope=col>outfile</th><th scope=col>number.of.bases</th><th scope=col>number.of.contigs</th><th scope=col>number.of.windows</th><th scope=col>number.of.reads</th><th scope=col>number.of.mapped.reads</th><th scope=col>number.of.secondary.alignments</th><th scope=col>number.of.mapped.paired.reads..first.in.pair.</th><th scope=col>⋯</th><th scope=col>There.is.a.1.29..of.reference.with.a.coverageData..</th><th scope=col>There.is.a.1.28..of.reference.with.a.coverageData..</th><th scope=col>There.is.a.1.27..of.reference.with.a.coverageData..</th><th scope=col>There.is.a.1.26..of.reference.with.a.coverageData..</th><th scope=col>There.is.a.1.24..of.reference.with.a.coverageData..</th><th scope=col>There.is.a.1.23..of.reference.with.a.coverageData..</th><th scope=col>There.is.a.1.22..of.reference.with.a.coverageData..</th><th scope=col>There.is.a.1.21..of.reference.with.a.coverageData..</th><th scope=col>There.is.a.1.2..of.reference.with.a.coverageData..</th><th scope=col>There.is.a.1.18..of.reference.with.a.coverageData..</th></tr>\n",
       "\t<tr><th></th><th scope=col>&lt;chr&gt;</th><th scope=col>&lt;chr&gt;</th><th scope=col>&lt;chr&gt;</th><th scope=col>&lt;chr&gt;</th><th scope=col>&lt;int&gt;</th><th scope=col>&lt;int&gt;</th><th scope=col>&lt;chr&gt;</th><th scope=col>&lt;chr&gt;</th><th scope=col>&lt;chr&gt;</th><th scope=col>&lt;chr&gt;</th><th scope=col>⋯</th><th scope=col>&lt;chr&gt;</th><th scope=col>&lt;chr&gt;</th><th scope=col>&lt;chr&gt;</th><th scope=col>&lt;chr&gt;</th><th scope=col>&lt;chr&gt;</th><th scope=col>&lt;chr&gt;</th><th scope=col>&lt;chr&gt;</th><th scope=col>&lt;chr&gt;</th><th scope=col>&lt;chr&gt;</th><th scope=col>&lt;chr&gt;</th></tr>\n",
       "</thead>\n",
       "<tbody>\n",
       "\t<tr><th scope=row>1</th><td>SRR11007061</td><td>/nfs/users/nfs_n/nm18/gains_team282/epigenetics/calderon_et_al/processed/rna_seq//SRR7647769/alignment_post_qc/SRR7647769.duplicates.bam  </td><td>./bamqc//genome_results.txt</td><td>3,099,750,718 bp</td><td>194</td><td>593</td><td>134,057,859</td><td>134,057,859 (100%)</td><td>24,872,590</td><td>67,032,569</td><td>⋯</td><td>42X</td><td>43X</td><td>44X</td><td>45X</td><td>46X</td><td>47X</td><td>48X</td><td>49X</td><td>50X</td><td>51X</td></tr>\n",
       "\t<tr><th scope=row>2</th><td>SRR11007062</td><td>/nfs/users/nfs_n/nm18/gains_team282/epigenetics/calderon_et_al/processed/rna_seq//SRR7647811/alignment_post_qc/SRR7647811.duplicates.bam  </td><td>./bamqc//genome_results.txt</td><td>3,099,750,718 bp</td><td>194</td><td>593</td><td>135,516,914</td><td>135,516,914 (100%)</td><td>29,239,074</td><td>67,759,487</td><td>⋯</td><td>42X</td><td>43X</td><td>44X</td><td>45X</td><td>46X</td><td>47X</td><td>48X</td><td>49X</td><td>50X</td><td>51X</td></tr>\n",
       "\t<tr><th scope=row>3</th><td>SRR11007063</td><td>/nfs/users/nfs_n/nm18/gains_team282/epigenetics/calderon_et_al/processed/rna_seq//SRR11007099/alignment_post_qc/SRR11007099.duplicates.bam</td><td>./bamqc//genome_results.txt</td><td>3,099,750,718 bp</td><td>194</td><td>593</td><td>108,652,899</td><td>108,652,899 (100%)</td><td>70,072,583</td><td>54,340,292</td><td>⋯</td><td>42X</td><td>43X</td><td>44X</td><td>45X</td><td>46X</td><td>47X</td><td>48X</td><td>49X</td><td>50X</td><td>51X</td></tr>\n",
       "\t<tr><th scope=row>4</th><td>SRR11007064</td><td>/nfs/users/nfs_n/nm18/gains_team282/epigenetics/calderon_et_al/processed/rna_seq//SRR7647819/alignment_post_qc/SRR7647819.duplicates.bam  </td><td>./bamqc//genome_results.txt</td><td>3,099,750,718 bp</td><td>194</td><td>593</td><td>155,957,496</td><td>155,957,496 (100%)</td><td>15,678,514</td><td>77,980,567</td><td>⋯</td><td>42X</td><td>43X</td><td>44X</td><td>45X</td><td>46X</td><td>47X</td><td>48X</td><td>49X</td><td>50X</td><td>51X</td></tr>\n",
       "\t<tr><th scope=row>5</th><td>SRR11007065</td><td>/nfs/users/nfs_n/nm18/gains_team282/epigenetics/calderon_et_al/processed/rna_seq//SRR11007153/alignment_post_qc/SRR11007153.duplicates.bam</td><td>./bamqc//genome_results.txt</td><td>3,099,750,718 bp</td><td>194</td><td>593</td><td>124,164,147</td><td>124,164,147 (100%)</td><td>10,244,691</td><td>62,089,374</td><td>⋯</td><td>42X</td><td>43X</td><td>44X</td><td>45X</td><td>46X</td><td>47X</td><td>48X</td><td>49X</td><td>50X</td><td>51X</td></tr>\n",
       "\t<tr><th scope=row>6</th><td>SRR11007066</td><td>/nfs/users/nfs_n/nm18/gains_team282/epigenetics/calderon_et_al/processed/rna_seq//SRR11007065/alignment_post_qc/SRR11007065.duplicates.bam</td><td>./bamqc//genome_results.txt</td><td>3,099,750,718 bp</td><td>194</td><td>593</td><td>17,161,201 </td><td>17,161,201 (100%) </td><td>5,437,987 </td><td>8,581,394 </td><td>⋯</td><td>42X</td><td>43X</td><td>44X</td><td>45X</td><td>46X</td><td>47X</td><td>48X</td><td>49X</td><td>50X</td><td>51X</td></tr>\n",
       "</tbody>\n",
       "</table>\n"
      ],
      "text/latex": [
       "A data.frame: 6 × 87\n",
       "\\begin{tabular}{r|lllllllllllllllllllll}\n",
       "  & Sample & bam.file & outfile & number.of.bases & number.of.contigs & number.of.windows & number.of.reads & number.of.mapped.reads & number.of.secondary.alignments & number.of.mapped.paired.reads..first.in.pair. & ⋯ & There.is.a.1.29..of.reference.with.a.coverageData.. & There.is.a.1.28..of.reference.with.a.coverageData.. & There.is.a.1.27..of.reference.with.a.coverageData.. & There.is.a.1.26..of.reference.with.a.coverageData.. & There.is.a.1.24..of.reference.with.a.coverageData.. & There.is.a.1.23..of.reference.with.a.coverageData.. & There.is.a.1.22..of.reference.with.a.coverageData.. & There.is.a.1.21..of.reference.with.a.coverageData.. & There.is.a.1.2..of.reference.with.a.coverageData.. & There.is.a.1.18..of.reference.with.a.coverageData..\\\\\n",
       "  & <chr> & <chr> & <chr> & <chr> & <int> & <int> & <chr> & <chr> & <chr> & <chr> & ⋯ & <chr> & <chr> & <chr> & <chr> & <chr> & <chr> & <chr> & <chr> & <chr> & <chr>\\\\\n",
       "\\hline\n",
       "\t1 & SRR11007061 & /nfs/users/nfs\\_n/nm18/gains\\_team282/epigenetics/calderon\\_et\\_al/processed/rna\\_seq//SRR7647769/alignment\\_post\\_qc/SRR7647769.duplicates.bam   & ./bamqc//genome\\_results.txt & 3,099,750,718 bp & 194 & 593 & 134,057,859 & 134,057,859 (100\\%) & 24,872,590 & 67,032,569 & ⋯ & 42X & 43X & 44X & 45X & 46X & 47X & 48X & 49X & 50X & 51X\\\\\n",
       "\t2 & SRR11007062 & /nfs/users/nfs\\_n/nm18/gains\\_team282/epigenetics/calderon\\_et\\_al/processed/rna\\_seq//SRR7647811/alignment\\_post\\_qc/SRR7647811.duplicates.bam   & ./bamqc//genome\\_results.txt & 3,099,750,718 bp & 194 & 593 & 135,516,914 & 135,516,914 (100\\%) & 29,239,074 & 67,759,487 & ⋯ & 42X & 43X & 44X & 45X & 46X & 47X & 48X & 49X & 50X & 51X\\\\\n",
       "\t3 & SRR11007063 & /nfs/users/nfs\\_n/nm18/gains\\_team282/epigenetics/calderon\\_et\\_al/processed/rna\\_seq//SRR11007099/alignment\\_post\\_qc/SRR11007099.duplicates.bam & ./bamqc//genome\\_results.txt & 3,099,750,718 bp & 194 & 593 & 108,652,899 & 108,652,899 (100\\%) & 70,072,583 & 54,340,292 & ⋯ & 42X & 43X & 44X & 45X & 46X & 47X & 48X & 49X & 50X & 51X\\\\\n",
       "\t4 & SRR11007064 & /nfs/users/nfs\\_n/nm18/gains\\_team282/epigenetics/calderon\\_et\\_al/processed/rna\\_seq//SRR7647819/alignment\\_post\\_qc/SRR7647819.duplicates.bam   & ./bamqc//genome\\_results.txt & 3,099,750,718 bp & 194 & 593 & 155,957,496 & 155,957,496 (100\\%) & 15,678,514 & 77,980,567 & ⋯ & 42X & 43X & 44X & 45X & 46X & 47X & 48X & 49X & 50X & 51X\\\\\n",
       "\t5 & SRR11007065 & /nfs/users/nfs\\_n/nm18/gains\\_team282/epigenetics/calderon\\_et\\_al/processed/rna\\_seq//SRR11007153/alignment\\_post\\_qc/SRR11007153.duplicates.bam & ./bamqc//genome\\_results.txt & 3,099,750,718 bp & 194 & 593 & 124,164,147 & 124,164,147 (100\\%) & 10,244,691 & 62,089,374 & ⋯ & 42X & 43X & 44X & 45X & 46X & 47X & 48X & 49X & 50X & 51X\\\\\n",
       "\t6 & SRR11007066 & /nfs/users/nfs\\_n/nm18/gains\\_team282/epigenetics/calderon\\_et\\_al/processed/rna\\_seq//SRR11007065/alignment\\_post\\_qc/SRR11007065.duplicates.bam & ./bamqc//genome\\_results.txt & 3,099,750,718 bp & 194 & 593 & 17,161,201  & 17,161,201 (100\\%)  & 5,437,987  & 8,581,394  & ⋯ & 42X & 43X & 44X & 45X & 46X & 47X & 48X & 49X & 50X & 51X\\\\\n",
       "\\end{tabular}\n"
      ],
      "text/markdown": [
       "\n",
       "A data.frame: 6 × 87\n",
       "\n",
       "| <!--/--> | Sample &lt;chr&gt; | bam.file &lt;chr&gt; | outfile &lt;chr&gt; | number.of.bases &lt;chr&gt; | number.of.contigs &lt;int&gt; | number.of.windows &lt;int&gt; | number.of.reads &lt;chr&gt; | number.of.mapped.reads &lt;chr&gt; | number.of.secondary.alignments &lt;chr&gt; | number.of.mapped.paired.reads..first.in.pair. &lt;chr&gt; | ⋯ ⋯ | There.is.a.1.29..of.reference.with.a.coverageData.. &lt;chr&gt; | There.is.a.1.28..of.reference.with.a.coverageData.. &lt;chr&gt; | There.is.a.1.27..of.reference.with.a.coverageData.. &lt;chr&gt; | There.is.a.1.26..of.reference.with.a.coverageData.. &lt;chr&gt; | There.is.a.1.24..of.reference.with.a.coverageData.. &lt;chr&gt; | There.is.a.1.23..of.reference.with.a.coverageData.. &lt;chr&gt; | There.is.a.1.22..of.reference.with.a.coverageData.. &lt;chr&gt; | There.is.a.1.21..of.reference.with.a.coverageData.. &lt;chr&gt; | There.is.a.1.2..of.reference.with.a.coverageData.. &lt;chr&gt; | There.is.a.1.18..of.reference.with.a.coverageData.. &lt;chr&gt; |\n",
       "|---|---|---|---|---|---|---|---|---|---|---|---|---|---|---|---|---|---|---|---|---|---|\n",
       "| 1 | SRR11007061 | /nfs/users/nfs_n/nm18/gains_team282/epigenetics/calderon_et_al/processed/rna_seq//SRR7647769/alignment_post_qc/SRR7647769.duplicates.bam   | ./bamqc//genome_results.txt | 3,099,750,718 bp | 194 | 593 | 134,057,859 | 134,057,859 (100%) | 24,872,590 | 67,032,569 | ⋯ | 42X | 43X | 44X | 45X | 46X | 47X | 48X | 49X | 50X | 51X |\n",
       "| 2 | SRR11007062 | /nfs/users/nfs_n/nm18/gains_team282/epigenetics/calderon_et_al/processed/rna_seq//SRR7647811/alignment_post_qc/SRR7647811.duplicates.bam   | ./bamqc//genome_results.txt | 3,099,750,718 bp | 194 | 593 | 135,516,914 | 135,516,914 (100%) | 29,239,074 | 67,759,487 | ⋯ | 42X | 43X | 44X | 45X | 46X | 47X | 48X | 49X | 50X | 51X |\n",
       "| 3 | SRR11007063 | /nfs/users/nfs_n/nm18/gains_team282/epigenetics/calderon_et_al/processed/rna_seq//SRR11007099/alignment_post_qc/SRR11007099.duplicates.bam | ./bamqc//genome_results.txt | 3,099,750,718 bp | 194 | 593 | 108,652,899 | 108,652,899 (100%) | 70,072,583 | 54,340,292 | ⋯ | 42X | 43X | 44X | 45X | 46X | 47X | 48X | 49X | 50X | 51X |\n",
       "| 4 | SRR11007064 | /nfs/users/nfs_n/nm18/gains_team282/epigenetics/calderon_et_al/processed/rna_seq//SRR7647819/alignment_post_qc/SRR7647819.duplicates.bam   | ./bamqc//genome_results.txt | 3,099,750,718 bp | 194 | 593 | 155,957,496 | 155,957,496 (100%) | 15,678,514 | 77,980,567 | ⋯ | 42X | 43X | 44X | 45X | 46X | 47X | 48X | 49X | 50X | 51X |\n",
       "| 5 | SRR11007065 | /nfs/users/nfs_n/nm18/gains_team282/epigenetics/calderon_et_al/processed/rna_seq//SRR11007153/alignment_post_qc/SRR11007153.duplicates.bam | ./bamqc//genome_results.txt | 3,099,750,718 bp | 194 | 593 | 124,164,147 | 124,164,147 (100%) | 10,244,691 | 62,089,374 | ⋯ | 42X | 43X | 44X | 45X | 46X | 47X | 48X | 49X | 50X | 51X |\n",
       "| 6 | SRR11007066 | /nfs/users/nfs_n/nm18/gains_team282/epigenetics/calderon_et_al/processed/rna_seq//SRR11007065/alignment_post_qc/SRR11007065.duplicates.bam | ./bamqc//genome_results.txt | 3,099,750,718 bp | 194 | 593 | 17,161,201  | 17,161,201 (100%)  | 5,437,987  | 8,581,394  | ⋯ | 42X | 43X | 44X | 45X | 46X | 47X | 48X | 49X | 50X | 51X |\n",
       "\n"
      ],
      "text/plain": [
       "  Sample     \n",
       "1 SRR11007061\n",
       "2 SRR11007062\n",
       "3 SRR11007063\n",
       "4 SRR11007064\n",
       "5 SRR11007065\n",
       "6 SRR11007066\n",
       "  bam.file                                                                                                                                  \n",
       "1 /nfs/users/nfs_n/nm18/gains_team282/epigenetics/calderon_et_al/processed/rna_seq//SRR7647769/alignment_post_qc/SRR7647769.duplicates.bam  \n",
       "2 /nfs/users/nfs_n/nm18/gains_team282/epigenetics/calderon_et_al/processed/rna_seq//SRR7647811/alignment_post_qc/SRR7647811.duplicates.bam  \n",
       "3 /nfs/users/nfs_n/nm18/gains_team282/epigenetics/calderon_et_al/processed/rna_seq//SRR11007099/alignment_post_qc/SRR11007099.duplicates.bam\n",
       "4 /nfs/users/nfs_n/nm18/gains_team282/epigenetics/calderon_et_al/processed/rna_seq//SRR7647819/alignment_post_qc/SRR7647819.duplicates.bam  \n",
       "5 /nfs/users/nfs_n/nm18/gains_team282/epigenetics/calderon_et_al/processed/rna_seq//SRR11007153/alignment_post_qc/SRR11007153.duplicates.bam\n",
       "6 /nfs/users/nfs_n/nm18/gains_team282/epigenetics/calderon_et_al/processed/rna_seq//SRR11007065/alignment_post_qc/SRR11007065.duplicates.bam\n",
       "  outfile                     number.of.bases  number.of.contigs\n",
       "1 ./bamqc//genome_results.txt 3,099,750,718 bp 194              \n",
       "2 ./bamqc//genome_results.txt 3,099,750,718 bp 194              \n",
       "3 ./bamqc//genome_results.txt 3,099,750,718 bp 194              \n",
       "4 ./bamqc//genome_results.txt 3,099,750,718 bp 194              \n",
       "5 ./bamqc//genome_results.txt 3,099,750,718 bp 194              \n",
       "6 ./bamqc//genome_results.txt 3,099,750,718 bp 194              \n",
       "  number.of.windows number.of.reads number.of.mapped.reads\n",
       "1 593               134,057,859     134,057,859 (100%)    \n",
       "2 593               135,516,914     135,516,914 (100%)    \n",
       "3 593               108,652,899     108,652,899 (100%)    \n",
       "4 593               155,957,496     155,957,496 (100%)    \n",
       "5 593               124,164,147     124,164,147 (100%)    \n",
       "6 593               17,161,201      17,161,201 (100%)     \n",
       "  number.of.secondary.alignments number.of.mapped.paired.reads..first.in.pair.\n",
       "1 24,872,590                     67,032,569                                   \n",
       "2 29,239,074                     67,759,487                                   \n",
       "3 70,072,583                     54,340,292                                   \n",
       "4 15,678,514                     77,980,567                                   \n",
       "5 10,244,691                     62,089,374                                   \n",
       "6 5,437,987                      8,581,394                                    \n",
       "  ⋯ There.is.a.1.29..of.reference.with.a.coverageData..\n",
       "1 ⋯ 42X                                                \n",
       "2 ⋯ 42X                                                \n",
       "3 ⋯ 42X                                                \n",
       "4 ⋯ 42X                                                \n",
       "5 ⋯ 42X                                                \n",
       "6 ⋯ 42X                                                \n",
       "  There.is.a.1.28..of.reference.with.a.coverageData..\n",
       "1 43X                                                \n",
       "2 43X                                                \n",
       "3 43X                                                \n",
       "4 43X                                                \n",
       "5 43X                                                \n",
       "6 43X                                                \n",
       "  There.is.a.1.27..of.reference.with.a.coverageData..\n",
       "1 44X                                                \n",
       "2 44X                                                \n",
       "3 44X                                                \n",
       "4 44X                                                \n",
       "5 44X                                                \n",
       "6 44X                                                \n",
       "  There.is.a.1.26..of.reference.with.a.coverageData..\n",
       "1 45X                                                \n",
       "2 45X                                                \n",
       "3 45X                                                \n",
       "4 45X                                                \n",
       "5 45X                                                \n",
       "6 45X                                                \n",
       "  There.is.a.1.24..of.reference.with.a.coverageData..\n",
       "1 46X                                                \n",
       "2 46X                                                \n",
       "3 46X                                                \n",
       "4 46X                                                \n",
       "5 46X                                                \n",
       "6 46X                                                \n",
       "  There.is.a.1.23..of.reference.with.a.coverageData..\n",
       "1 47X                                                \n",
       "2 47X                                                \n",
       "3 47X                                                \n",
       "4 47X                                                \n",
       "5 47X                                                \n",
       "6 47X                                                \n",
       "  There.is.a.1.22..of.reference.with.a.coverageData..\n",
       "1 48X                                                \n",
       "2 48X                                                \n",
       "3 48X                                                \n",
       "4 48X                                                \n",
       "5 48X                                                \n",
       "6 48X                                                \n",
       "  There.is.a.1.21..of.reference.with.a.coverageData..\n",
       "1 49X                                                \n",
       "2 49X                                                \n",
       "3 49X                                                \n",
       "4 49X                                                \n",
       "5 49X                                                \n",
       "6 49X                                                \n",
       "  There.is.a.1.2..of.reference.with.a.coverageData..\n",
       "1 50X                                               \n",
       "2 50X                                               \n",
       "3 50X                                               \n",
       "4 50X                                               \n",
       "5 50X                                               \n",
       "6 50X                                               \n",
       "  There.is.a.1.18..of.reference.with.a.coverageData..\n",
       "1 51X                                                \n",
       "2 51X                                                \n",
       "3 51X                                                \n",
       "4 51X                                                \n",
       "5 51X                                                \n",
       "6 51X                                                "
      ]
     },
     "metadata": {},
     "output_type": "display_data"
    }
   ],
   "source": [
    "head(bam.qc)"
   ]
  },
  {
   "cell_type": "code",
   "execution_count": 8,
   "id": "8deca8ec-b96c-4582-a671-9ee2290bfdf4",
   "metadata": {},
   "outputs": [],
   "source": [
    "rna.seq.qc <- read.table(\"~/gains_team282/epigenetics/calderon_et_al/analysis/rna_seq/rna_seq_qc.tsv\", sep=\"\\t\", header=TRUE, fill=TRUE)"
   ]
  },
  {
   "cell_type": "code",
   "execution_count": 9,
   "id": "22fdb255-638e-42ba-88d8-3bf53a3567bf",
   "metadata": {},
   "outputs": [
    {
     "data": {
      "text/html": [
       "<table class=\"dataframe\">\n",
       "<caption>A data.frame: 6 × 25</caption>\n",
       "<thead>\n",
       "\t<tr><th></th><th scope=col>Sample</th><th scope=col>bam.file</th><th scope=col>gff.file</th><th scope=col>counting.algorithm</th><th scope=col>protocol</th><th scope=col>X5..3..bias.region.size</th><th scope=col>X5..3..bias.number.of.top.transcripts</th><th scope=col>reads.aligned..left.right.</th><th scope=col>read.pairs.aligned</th><th scope=col>total.alignments</th><th scope=col>⋯</th><th scope=col>not.aligned</th><th scope=col>SSP.estimation..fwd.rev.</th><th scope=col>exonic</th><th scope=col>intronic</th><th scope=col>intergenic</th><th scope=col>overlapping.exon</th><th scope=col>X5..bias</th><th scope=col>X3..bias</th><th scope=col>X5..3..bias</th><th scope=col>reads.at.junctions</th></tr>\n",
       "\t<tr><th></th><th scope=col>&lt;chr&gt;</th><th scope=col>&lt;chr&gt;</th><th scope=col>&lt;chr&gt;</th><th scope=col>&lt;chr&gt;</th><th scope=col>&lt;chr&gt;</th><th scope=col>&lt;int&gt;</th><th scope=col>&lt;int&gt;</th><th scope=col>&lt;chr&gt;</th><th scope=col>&lt;chr&gt;</th><th scope=col>&lt;chr&gt;</th><th scope=col>⋯</th><th scope=col>&lt;int&gt;</th><th scope=col>&lt;chr&gt;</th><th scope=col>&lt;chr&gt;</th><th scope=col>&lt;chr&gt;</th><th scope=col>&lt;chr&gt;</th><th scope=col>&lt;chr&gt;</th><th scope=col>&lt;dbl&gt;</th><th scope=col>&lt;dbl&gt;</th><th scope=col>&lt;dbl&gt;</th><th scope=col>&lt;chr&gt;</th></tr>\n",
       "</thead>\n",
       "<tbody>\n",
       "\t<tr><th scope=row>1</th><td>SRR11007061</td><td>/nfs/users/nfs_n/nm18/gains_team282/epigenetics/calderon_et_al/processed/rna_seq//SRR7647769/alignment_post_qc/SRR7647769.duplicates.bam  </td><td>/lustre/scratch118/humgen/resources/rna_seq_genomes/Homo_sapiens.GRCh38.99.gtf</td><td>uniquely-mapped-reads</td><td>non-strand-specific</td><td>100</td><td>1000</td><td>67,032,569 / 67,025,290</td><td>67,024,363</td><td>158,930,449</td><td>⋯</td><td>0</td><td>0.5 / 0.5</td><td>12,464,246 (51.3%) </td><td>8,001,694 (32.93%)</td><td>3,830,244 (15.76%)</td><td>400,001 (1.65%)</td><td>0.85</td><td>0.73</td><td>1.19</td><td>2,618,002</td></tr>\n",
       "\t<tr><th scope=row>2</th><td>SRR11007062</td><td>/nfs/users/nfs_n/nm18/gains_team282/epigenetics/calderon_et_al/processed/rna_seq//SRR7647811/alignment_post_qc/SRR7647811.duplicates.bam  </td><td>/lustre/scratch118/humgen/resources/rna_seq_genomes/Homo_sapiens.GRCh38.99.gtf</td><td>uniquely-mapped-reads</td><td>non-strand-specific</td><td>100</td><td>1000</td><td>67,759,487 / 67,757,427</td><td>67,739,955</td><td>164,755,988</td><td>⋯</td><td>0</td><td>0.5 / 0.5</td><td>2,347,542 (46.16%) </td><td>2,338,684 (45.98%)</td><td>399,697 (7.86%)   </td><td>102,308 (2.01%)</td><td>1.08</td><td>0.24</td><td>3.29</td><td>593,395  </td></tr>\n",
       "\t<tr><th scope=row>3</th><td>SRR11007063</td><td>/nfs/users/nfs_n/nm18/gains_team282/epigenetics/calderon_et_al/processed/rna_seq//SRR11007099/alignment_post_qc/SRR11007099.duplicates.bam</td><td>/lustre/scratch118/humgen/resources/rna_seq_genomes/Homo_sapiens.GRCh38.99.gtf</td><td>uniquely-mapped-reads</td><td>non-strand-specific</td><td>100</td><td>1000</td><td>54,340,292 / 54,312,607</td><td>54,307,571</td><td>178,725,482</td><td>⋯</td><td>0</td><td>0.5 / 0.5</td><td>14,118,694 (68.89%)</td><td>5,899,904 (28.79%)</td><td>476,239 (2.32%)   </td><td>382,502 (1.87%)</td><td>0.93</td><td>0.79</td><td>1.24</td><td>3,426,349</td></tr>\n",
       "\t<tr><th scope=row>4</th><td>SRR11007064</td><td>/nfs/users/nfs_n/nm18/gains_team282/epigenetics/calderon_et_al/processed/rna_seq//SRR7647819/alignment_post_qc/SRR7647819.duplicates.bam  </td><td>/lustre/scratch118/humgen/resources/rna_seq_genomes/Homo_sapiens.GRCh38.99.gtf</td><td>uniquely-mapped-reads</td><td>non-strand-specific</td><td>100</td><td>1000</td><td>77,980,567 / 77,976,929</td><td>77,959,712</td><td>171,636,010</td><td>⋯</td><td>0</td><td>0.5 / 0.5</td><td>2,402,342 (57.36%) </td><td>1,526,582 (36.45%)</td><td>259,017 (6.18%)   </td><td>105,801 (2.53%)</td><td>0.88</td><td>0.26</td><td>2.80</td><td>473,488  </td></tr>\n",
       "\t<tr><th scope=row>5</th><td>SRR11007065</td><td>/nfs/users/nfs_n/nm18/gains_team282/epigenetics/calderon_et_al/processed/rna_seq//SRR11007153/alignment_post_qc/SRR11007153.duplicates.bam</td><td>/lustre/scratch118/humgen/resources/rna_seq_genomes/Homo_sapiens.GRCh38.99.gtf</td><td>uniquely-mapped-reads</td><td>non-strand-specific</td><td>100</td><td>1000</td><td>62,089,374 / 62,074,773</td><td>62,073,617</td><td>134,408,838</td><td>⋯</td><td>0</td><td>0.5 / 0.5</td><td>16,478,134 (83.95%)</td><td>2,736,862 (13.94%)</td><td>414,042 (2.11%)   </td><td>374,243 (1.91%)</td><td>0.86</td><td>0.73</td><td>1.22</td><td>3,525,812</td></tr>\n",
       "\t<tr><th scope=row>6</th><td>SRR11007066</td><td>/nfs/users/nfs_n/nm18/gains_team282/epigenetics/calderon_et_al/processed/rna_seq//SRR11007065/alignment_post_qc/SRR11007065.duplicates.bam</td><td>/lustre/scratch118/humgen/resources/rna_seq_genomes/Homo_sapiens.GRCh38.99.gtf</td><td>uniquely-mapped-reads</td><td>non-strand-specific</td><td>100</td><td>1000</td><td>8,581,394 / 8,579,807  </td><td>8,579,774 </td><td>22,599,188 </td><td>⋯</td><td>0</td><td>0.5 / 0.5</td><td>2,040,460 (69.7%)  </td><td>768,717 (26.26%)  </td><td>118,321 (4.04%)   </td><td>92,895 (3.17%) </td><td>0.98</td><td>0.71</td><td>1.35</td><td>709,789  </td></tr>\n",
       "</tbody>\n",
       "</table>\n"
      ],
      "text/latex": [
       "A data.frame: 6 × 25\n",
       "\\begin{tabular}{r|lllllllllllllllllllll}\n",
       "  & Sample & bam.file & gff.file & counting.algorithm & protocol & X5..3..bias.region.size & X5..3..bias.number.of.top.transcripts & reads.aligned..left.right. & read.pairs.aligned & total.alignments & ⋯ & not.aligned & SSP.estimation..fwd.rev. & exonic & intronic & intergenic & overlapping.exon & X5..bias & X3..bias & X5..3..bias & reads.at.junctions\\\\\n",
       "  & <chr> & <chr> & <chr> & <chr> & <chr> & <int> & <int> & <chr> & <chr> & <chr> & ⋯ & <int> & <chr> & <chr> & <chr> & <chr> & <chr> & <dbl> & <dbl> & <dbl> & <chr>\\\\\n",
       "\\hline\n",
       "\t1 & SRR11007061 & /nfs/users/nfs\\_n/nm18/gains\\_team282/epigenetics/calderon\\_et\\_al/processed/rna\\_seq//SRR7647769/alignment\\_post\\_qc/SRR7647769.duplicates.bam   & /lustre/scratch118/humgen/resources/rna\\_seq\\_genomes/Homo\\_sapiens.GRCh38.99.gtf & uniquely-mapped-reads & non-strand-specific & 100 & 1000 & 67,032,569 / 67,025,290 & 67,024,363 & 158,930,449 & ⋯ & 0 & 0.5 / 0.5 & 12,464,246 (51.3\\%)  & 8,001,694 (32.93\\%) & 3,830,244 (15.76\\%) & 400,001 (1.65\\%) & 0.85 & 0.73 & 1.19 & 2,618,002\\\\\n",
       "\t2 & SRR11007062 & /nfs/users/nfs\\_n/nm18/gains\\_team282/epigenetics/calderon\\_et\\_al/processed/rna\\_seq//SRR7647811/alignment\\_post\\_qc/SRR7647811.duplicates.bam   & /lustre/scratch118/humgen/resources/rna\\_seq\\_genomes/Homo\\_sapiens.GRCh38.99.gtf & uniquely-mapped-reads & non-strand-specific & 100 & 1000 & 67,759,487 / 67,757,427 & 67,739,955 & 164,755,988 & ⋯ & 0 & 0.5 / 0.5 & 2,347,542 (46.16\\%)  & 2,338,684 (45.98\\%) & 399,697 (7.86\\%)    & 102,308 (2.01\\%) & 1.08 & 0.24 & 3.29 & 593,395  \\\\\n",
       "\t3 & SRR11007063 & /nfs/users/nfs\\_n/nm18/gains\\_team282/epigenetics/calderon\\_et\\_al/processed/rna\\_seq//SRR11007099/alignment\\_post\\_qc/SRR11007099.duplicates.bam & /lustre/scratch118/humgen/resources/rna\\_seq\\_genomes/Homo\\_sapiens.GRCh38.99.gtf & uniquely-mapped-reads & non-strand-specific & 100 & 1000 & 54,340,292 / 54,312,607 & 54,307,571 & 178,725,482 & ⋯ & 0 & 0.5 / 0.5 & 14,118,694 (68.89\\%) & 5,899,904 (28.79\\%) & 476,239 (2.32\\%)    & 382,502 (1.87\\%) & 0.93 & 0.79 & 1.24 & 3,426,349\\\\\n",
       "\t4 & SRR11007064 & /nfs/users/nfs\\_n/nm18/gains\\_team282/epigenetics/calderon\\_et\\_al/processed/rna\\_seq//SRR7647819/alignment\\_post\\_qc/SRR7647819.duplicates.bam   & /lustre/scratch118/humgen/resources/rna\\_seq\\_genomes/Homo\\_sapiens.GRCh38.99.gtf & uniquely-mapped-reads & non-strand-specific & 100 & 1000 & 77,980,567 / 77,976,929 & 77,959,712 & 171,636,010 & ⋯ & 0 & 0.5 / 0.5 & 2,402,342 (57.36\\%)  & 1,526,582 (36.45\\%) & 259,017 (6.18\\%)    & 105,801 (2.53\\%) & 0.88 & 0.26 & 2.80 & 473,488  \\\\\n",
       "\t5 & SRR11007065 & /nfs/users/nfs\\_n/nm18/gains\\_team282/epigenetics/calderon\\_et\\_al/processed/rna\\_seq//SRR11007153/alignment\\_post\\_qc/SRR11007153.duplicates.bam & /lustre/scratch118/humgen/resources/rna\\_seq\\_genomes/Homo\\_sapiens.GRCh38.99.gtf & uniquely-mapped-reads & non-strand-specific & 100 & 1000 & 62,089,374 / 62,074,773 & 62,073,617 & 134,408,838 & ⋯ & 0 & 0.5 / 0.5 & 16,478,134 (83.95\\%) & 2,736,862 (13.94\\%) & 414,042 (2.11\\%)    & 374,243 (1.91\\%) & 0.86 & 0.73 & 1.22 & 3,525,812\\\\\n",
       "\t6 & SRR11007066 & /nfs/users/nfs\\_n/nm18/gains\\_team282/epigenetics/calderon\\_et\\_al/processed/rna\\_seq//SRR11007065/alignment\\_post\\_qc/SRR11007065.duplicates.bam & /lustre/scratch118/humgen/resources/rna\\_seq\\_genomes/Homo\\_sapiens.GRCh38.99.gtf & uniquely-mapped-reads & non-strand-specific & 100 & 1000 & 8,581,394 / 8,579,807   & 8,579,774  & 22,599,188  & ⋯ & 0 & 0.5 / 0.5 & 2,040,460 (69.7\\%)   & 768,717 (26.26\\%)   & 118,321 (4.04\\%)    & 92,895 (3.17\\%)  & 0.98 & 0.71 & 1.35 & 709,789  \\\\\n",
       "\\end{tabular}\n"
      ],
      "text/markdown": [
       "\n",
       "A data.frame: 6 × 25\n",
       "\n",
       "| <!--/--> | Sample &lt;chr&gt; | bam.file &lt;chr&gt; | gff.file &lt;chr&gt; | counting.algorithm &lt;chr&gt; | protocol &lt;chr&gt; | X5..3..bias.region.size &lt;int&gt; | X5..3..bias.number.of.top.transcripts &lt;int&gt; | reads.aligned..left.right. &lt;chr&gt; | read.pairs.aligned &lt;chr&gt; | total.alignments &lt;chr&gt; | ⋯ ⋯ | not.aligned &lt;int&gt; | SSP.estimation..fwd.rev. &lt;chr&gt; | exonic &lt;chr&gt; | intronic &lt;chr&gt; | intergenic &lt;chr&gt; | overlapping.exon &lt;chr&gt; | X5..bias &lt;dbl&gt; | X3..bias &lt;dbl&gt; | X5..3..bias &lt;dbl&gt; | reads.at.junctions &lt;chr&gt; |\n",
       "|---|---|---|---|---|---|---|---|---|---|---|---|---|---|---|---|---|---|---|---|---|---|\n",
       "| 1 | SRR11007061 | /nfs/users/nfs_n/nm18/gains_team282/epigenetics/calderon_et_al/processed/rna_seq//SRR7647769/alignment_post_qc/SRR7647769.duplicates.bam   | /lustre/scratch118/humgen/resources/rna_seq_genomes/Homo_sapiens.GRCh38.99.gtf | uniquely-mapped-reads | non-strand-specific | 100 | 1000 | 67,032,569 / 67,025,290 | 67,024,363 | 158,930,449 | ⋯ | 0 | 0.5 / 0.5 | 12,464,246 (51.3%)  | 8,001,694 (32.93%) | 3,830,244 (15.76%) | 400,001 (1.65%) | 0.85 | 0.73 | 1.19 | 2,618,002 |\n",
       "| 2 | SRR11007062 | /nfs/users/nfs_n/nm18/gains_team282/epigenetics/calderon_et_al/processed/rna_seq//SRR7647811/alignment_post_qc/SRR7647811.duplicates.bam   | /lustre/scratch118/humgen/resources/rna_seq_genomes/Homo_sapiens.GRCh38.99.gtf | uniquely-mapped-reads | non-strand-specific | 100 | 1000 | 67,759,487 / 67,757,427 | 67,739,955 | 164,755,988 | ⋯ | 0 | 0.5 / 0.5 | 2,347,542 (46.16%)  | 2,338,684 (45.98%) | 399,697 (7.86%)    | 102,308 (2.01%) | 1.08 | 0.24 | 3.29 | 593,395   |\n",
       "| 3 | SRR11007063 | /nfs/users/nfs_n/nm18/gains_team282/epigenetics/calderon_et_al/processed/rna_seq//SRR11007099/alignment_post_qc/SRR11007099.duplicates.bam | /lustre/scratch118/humgen/resources/rna_seq_genomes/Homo_sapiens.GRCh38.99.gtf | uniquely-mapped-reads | non-strand-specific | 100 | 1000 | 54,340,292 / 54,312,607 | 54,307,571 | 178,725,482 | ⋯ | 0 | 0.5 / 0.5 | 14,118,694 (68.89%) | 5,899,904 (28.79%) | 476,239 (2.32%)    | 382,502 (1.87%) | 0.93 | 0.79 | 1.24 | 3,426,349 |\n",
       "| 4 | SRR11007064 | /nfs/users/nfs_n/nm18/gains_team282/epigenetics/calderon_et_al/processed/rna_seq//SRR7647819/alignment_post_qc/SRR7647819.duplicates.bam   | /lustre/scratch118/humgen/resources/rna_seq_genomes/Homo_sapiens.GRCh38.99.gtf | uniquely-mapped-reads | non-strand-specific | 100 | 1000 | 77,980,567 / 77,976,929 | 77,959,712 | 171,636,010 | ⋯ | 0 | 0.5 / 0.5 | 2,402,342 (57.36%)  | 1,526,582 (36.45%) | 259,017 (6.18%)    | 105,801 (2.53%) | 0.88 | 0.26 | 2.80 | 473,488   |\n",
       "| 5 | SRR11007065 | /nfs/users/nfs_n/nm18/gains_team282/epigenetics/calderon_et_al/processed/rna_seq//SRR11007153/alignment_post_qc/SRR11007153.duplicates.bam | /lustre/scratch118/humgen/resources/rna_seq_genomes/Homo_sapiens.GRCh38.99.gtf | uniquely-mapped-reads | non-strand-specific | 100 | 1000 | 62,089,374 / 62,074,773 | 62,073,617 | 134,408,838 | ⋯ | 0 | 0.5 / 0.5 | 16,478,134 (83.95%) | 2,736,862 (13.94%) | 414,042 (2.11%)    | 374,243 (1.91%) | 0.86 | 0.73 | 1.22 | 3,525,812 |\n",
       "| 6 | SRR11007066 | /nfs/users/nfs_n/nm18/gains_team282/epigenetics/calderon_et_al/processed/rna_seq//SRR11007065/alignment_post_qc/SRR11007065.duplicates.bam | /lustre/scratch118/humgen/resources/rna_seq_genomes/Homo_sapiens.GRCh38.99.gtf | uniquely-mapped-reads | non-strand-specific | 100 | 1000 | 8,581,394 / 8,579,807   | 8,579,774  | 22,599,188  | ⋯ | 0 | 0.5 / 0.5 | 2,040,460 (69.7%)   | 768,717 (26.26%)   | 118,321 (4.04%)    | 92,895 (3.17%)  | 0.98 | 0.71 | 1.35 | 709,789   |\n",
       "\n"
      ],
      "text/plain": [
       "  Sample     \n",
       "1 SRR11007061\n",
       "2 SRR11007062\n",
       "3 SRR11007063\n",
       "4 SRR11007064\n",
       "5 SRR11007065\n",
       "6 SRR11007066\n",
       "  bam.file                                                                                                                                  \n",
       "1 /nfs/users/nfs_n/nm18/gains_team282/epigenetics/calderon_et_al/processed/rna_seq//SRR7647769/alignment_post_qc/SRR7647769.duplicates.bam  \n",
       "2 /nfs/users/nfs_n/nm18/gains_team282/epigenetics/calderon_et_al/processed/rna_seq//SRR7647811/alignment_post_qc/SRR7647811.duplicates.bam  \n",
       "3 /nfs/users/nfs_n/nm18/gains_team282/epigenetics/calderon_et_al/processed/rna_seq//SRR11007099/alignment_post_qc/SRR11007099.duplicates.bam\n",
       "4 /nfs/users/nfs_n/nm18/gains_team282/epigenetics/calderon_et_al/processed/rna_seq//SRR7647819/alignment_post_qc/SRR7647819.duplicates.bam  \n",
       "5 /nfs/users/nfs_n/nm18/gains_team282/epigenetics/calderon_et_al/processed/rna_seq//SRR11007153/alignment_post_qc/SRR11007153.duplicates.bam\n",
       "6 /nfs/users/nfs_n/nm18/gains_team282/epigenetics/calderon_et_al/processed/rna_seq//SRR11007065/alignment_post_qc/SRR11007065.duplicates.bam\n",
       "  gff.file                                                                      \n",
       "1 /lustre/scratch118/humgen/resources/rna_seq_genomes/Homo_sapiens.GRCh38.99.gtf\n",
       "2 /lustre/scratch118/humgen/resources/rna_seq_genomes/Homo_sapiens.GRCh38.99.gtf\n",
       "3 /lustre/scratch118/humgen/resources/rna_seq_genomes/Homo_sapiens.GRCh38.99.gtf\n",
       "4 /lustre/scratch118/humgen/resources/rna_seq_genomes/Homo_sapiens.GRCh38.99.gtf\n",
       "5 /lustre/scratch118/humgen/resources/rna_seq_genomes/Homo_sapiens.GRCh38.99.gtf\n",
       "6 /lustre/scratch118/humgen/resources/rna_seq_genomes/Homo_sapiens.GRCh38.99.gtf\n",
       "  counting.algorithm    protocol            X5..3..bias.region.size\n",
       "1 uniquely-mapped-reads non-strand-specific 100                    \n",
       "2 uniquely-mapped-reads non-strand-specific 100                    \n",
       "3 uniquely-mapped-reads non-strand-specific 100                    \n",
       "4 uniquely-mapped-reads non-strand-specific 100                    \n",
       "5 uniquely-mapped-reads non-strand-specific 100                    \n",
       "6 uniquely-mapped-reads non-strand-specific 100                    \n",
       "  X5..3..bias.number.of.top.transcripts reads.aligned..left.right.\n",
       "1 1000                                  67,032,569 / 67,025,290   \n",
       "2 1000                                  67,759,487 / 67,757,427   \n",
       "3 1000                                  54,340,292 / 54,312,607   \n",
       "4 1000                                  77,980,567 / 77,976,929   \n",
       "5 1000                                  62,089,374 / 62,074,773   \n",
       "6 1000                                  8,581,394 / 8,579,807     \n",
       "  read.pairs.aligned total.alignments ⋯ not.aligned SSP.estimation..fwd.rev.\n",
       "1 67,024,363         158,930,449      ⋯ 0           0.5 / 0.5               \n",
       "2 67,739,955         164,755,988      ⋯ 0           0.5 / 0.5               \n",
       "3 54,307,571         178,725,482      ⋯ 0           0.5 / 0.5               \n",
       "4 77,959,712         171,636,010      ⋯ 0           0.5 / 0.5               \n",
       "5 62,073,617         134,408,838      ⋯ 0           0.5 / 0.5               \n",
       "6 8,579,774          22,599,188       ⋯ 0           0.5 / 0.5               \n",
       "  exonic              intronic           intergenic         overlapping.exon\n",
       "1 12,464,246 (51.3%)  8,001,694 (32.93%) 3,830,244 (15.76%) 400,001 (1.65%) \n",
       "2 2,347,542 (46.16%)  2,338,684 (45.98%) 399,697 (7.86%)    102,308 (2.01%) \n",
       "3 14,118,694 (68.89%) 5,899,904 (28.79%) 476,239 (2.32%)    382,502 (1.87%) \n",
       "4 2,402,342 (57.36%)  1,526,582 (36.45%) 259,017 (6.18%)    105,801 (2.53%) \n",
       "5 16,478,134 (83.95%) 2,736,862 (13.94%) 414,042 (2.11%)    374,243 (1.91%) \n",
       "6 2,040,460 (69.7%)   768,717 (26.26%)   118,321 (4.04%)    92,895 (3.17%)  \n",
       "  X5..bias X3..bias X5..3..bias reads.at.junctions\n",
       "1 0.85     0.73     1.19        2,618,002         \n",
       "2 1.08     0.24     3.29        593,395           \n",
       "3 0.93     0.79     1.24        3,426,349         \n",
       "4 0.88     0.26     2.80        473,488           \n",
       "5 0.86     0.73     1.22        3,525,812         \n",
       "6 0.98     0.71     1.35        709,789           "
      ]
     },
     "metadata": {},
     "output_type": "display_data"
    }
   ],
   "source": [
    "head(rna.seq.qc)"
   ]
  },
  {
   "cell_type": "markdown",
   "id": "45c2bd11-4d62-4226-a487-6e917909d534",
   "metadata": {
    "tags": []
   },
   "source": [
    "## Clean QC Data"
   ]
  },
  {
   "cell_type": "code",
   "execution_count": 10,
   "id": "62c82f83-0eb0-4228-a96d-a21eb6959b31",
   "metadata": {},
   "outputs": [],
   "source": [
    "bam.qc <- bam.qc %>%\n",
    "    dplyr::select(\n",
    "        Sample,\n",
    "        reads=number.of.reads,\n",
    "        mapped.bases=number.of.mapped.bases,\n",
    "        sequenced.bases=number.of.sequenced.bases,\n",
    "        secondary.alignments=number.of.secondary.alignments,\n",
    "        first.pair.mapped=number.of.mapped.paired.reads..first.in.pair.,\n",
    "        second.pair.mapped=number.of.mapped.paired.reads..second.in.pair.,\n",
    "        both.in.pair.mapped=number.of.mapped.paired.reads..both.in.pair.,\n",
    "        singletons.in.pair.mapped=number.of.mapped.paired.reads..singletons.,\n",
    "        duplicated.reads=number.of.duplicated.reads..flagged.,\n",
    "        mean.insert.size, std.insert.size, median.insert.size,\n",
    "        mean.mapping.quality,\n",
    "        GC.percentage,\n",
    "        general.error.rate, number.of.mismatches, number.of.insertions, number.of.deletions,\n",
    "        mean.coverage=mean.coverageData, std.coverage=std.coverageData\n",
    "    ) %>%\n",
    "    dplyr::mutate(reads=as.numeric(gsub(\",\", \"\", reads))) %>%\n",
    "    dplyr::mutate(mapped.bases=as.numeric(gsub(\",\", \"\", gsub(\" bp\", \"\", mapped.bases)))) %>%\n",
    "    dplyr::mutate(sequenced.bases=as.numeric(gsub(\",\", \"\", gsub(\" bp\", \"\", sequenced.bases)))) %>%\n",
    "    dplyr::mutate(secondary.alignments=as.numeric(gsub(\",\", \"\", secondary.alignments))) %>%\n",
    "    dplyr::mutate(first.pair.mapped=as.numeric(gsub(\",\", \"\", first.pair.mapped))) %>%\n",
    "    dplyr::mutate(second.pair.mapped=as.numeric(gsub(\",\", \"\", second.pair.mapped))) %>%\n",
    "    dplyr::mutate(both.in.pair.mapped=as.numeric(gsub(\",\", \"\", both.in.pair.mapped))) %>%\n",
    "    dplyr::mutate(singletons.in.pair.mapped=as.numeric(gsub(\",\", \"\", singletons.in.pair.mapped))) %>%\n",
    "    dplyr::mutate(duplicated.reads=as.numeric(gsub(\",\", \"\", duplicated.reads))) %>%\n",
    "    dplyr::mutate(mean.insert.size=as.numeric(gsub(\",\", \"\", mean.insert.size))) %>%\n",
    "    dplyr::mutate(std.insert.size=as.numeric(gsub(\",\", \"\", std.insert.size))) %>%\n",
    "    dplyr::mutate(median.insert.size=as.numeric(gsub(\",\", \"\", median.insert.size))) %>%\n",
    "    dplyr::mutate(mean.mapping.quality=as.numeric(gsub(\",\", \"\", mean.mapping.quality))) %>%\n",
    "    dplyr::mutate(GC.percentage=as.numeric(gsub(\"%\", \"\", GC.percentage)) / 100) %>%\n",
    "    dplyr::mutate(number.of.mismatches=as.numeric(gsub(\",\", \"\", number.of.mismatches))) %>%\n",
    "    dplyr::mutate(number.of.insertions=as.numeric(gsub(\",\", \"\", number.of.insertions))) %>%\n",
    "    dplyr::mutate(number.of.deletions=as.numeric(gsub(\",\", \"\", number.of.deletions))) %>%\n",
    "    dplyr::mutate(mean.coverage=as.numeric(gsub(\",\", \"\", gsub(\"X\", \"\", mean.coverage)))) %>%\n",
    "    dplyr::mutate(std.coverage=as.numeric(gsub(\",\", \"\", gsub(\"X\", \"\", std.coverage))))\n",
    "\n",
    "write.csv(bam.qc, \"~/gains_team282/epigenetics/calderon_et_al/analysis/rna_seq/bam_qc_cleaned.csv\", row.names=F)"
   ]
  },
  {
   "cell_type": "code",
   "execution_count": 11,
   "id": "43861368-039a-485b-92f4-870d187858c1",
   "metadata": {},
   "outputs": [],
   "source": [
    "rna.seq.qc <- rna.seq.qc %>%\n",
    "    dplyr::select(\n",
    "        Sample,\n",
    "        Bias.3.Prime=X3..bias, Bias.5.Prime=X5..bias, Bias.5.3.Ratio=X5..3..bias,\n",
    "        read.pairs.aligned, aligned.to.genes, ambiguous.alignments, no.feature.assigned, not.aligned,\n",
    "        exonic, intronic, intergenic, overlapping.exon, reads.at.junctions\n",
    "    ) %>%\n",
    "    dplyr::mutate(read.pairs.aligned=as.numeric(gsub(\",\", \"\", read.pairs.aligned))) %>%\n",
    "    dplyr::mutate(aligned.to.genes=as.numeric(gsub(\",\", \"\", aligned.to.genes))) %>%\n",
    "    dplyr::mutate(ambiguous.alignments=as.numeric(gsub(\",\", \"\", ambiguous.alignments))) %>%\n",
    "    dplyr::mutate(no.feature.assigned=as.numeric(gsub(\",\", \"\", no.feature.assigned))) %>%\n",
    "    dplyr::mutate(not.aligned=as.numeric(gsub(\",\", \"\", not.aligned))) %>%\n",
    "    dplyr::mutate(exonic=as.numeric(gsub(\",\", \"\", gsub(\" \\\\(.*\\\\)\", \"\", exonic)))) %>%\n",
    "    dplyr::mutate(intronic=as.numeric(gsub(\",\", \"\", gsub(\" \\\\(.*\\\\)\", \"\", intronic)))) %>%\n",
    "    dplyr::mutate(intergenic=as.numeric(gsub(\",\", \"\", gsub(\" \\\\(.*\\\\)\", \"\", intergenic)))) %>%\n",
    "    dplyr::mutate(overlapping.exon=as.numeric(gsub(\",\", \"\", gsub(\" \\\\(.*\\\\)\", \"\", overlapping.exon)))) %>%\n",
    "    dplyr::mutate(reads.at.junctions=as.numeric(gsub(\",\", \"\", reads.at.junctions)))\n",
    "\n",
    "write.csv(rna.seq.qc, \"~/gains_team282/epigenetics/calderon_et_al/analysis/rna_seq/rna_seq_qc_cleaned.csv\", row.names=F)"
   ]
  },
  {
   "cell_type": "markdown",
   "id": "13f4815e-e21d-41b4-9d44-f4c151701930",
   "metadata": {},
   "source": [
    "## Basic Alignment QC"
   ]
  },
  {
   "cell_type": "markdown",
   "id": "65eaa4f2-d351-413a-890e-2e18e5f89005",
   "metadata": {},
   "source": [
    "First, I checked the distribution of the number of reads mapped."
   ]
  },
  {
   "cell_type": "code",
   "execution_count": 12,
   "id": "16764ca4-65da-4db0-b52a-7214dc1ba3b5",
   "metadata": {},
   "outputs": [
    {
     "data": {
      "image/png": "[encoded data removed]",
      "text/plain": [
       "plot without title"
      ]
     },
     "metadata": {
      "image/png": {
       "height": 360,
       "width": 360
      }
     },
     "output_type": "display_data"
    }
   ],
   "source": [
    "options(repr.plot.width=6, repr.plot.height=6)\n",
    "\n",
    "bam.qc %>%\n",
    "    ggplot(aes(x=reads)) +\n",
    "    geom_histogram(binwidth=1e7) +\n",
    "    xlab(\"Number of Reads\") + ylab(\"Frequency\") +\n",
    "    ggplot_theme"
   ]
  },
  {
   "cell_type": "markdown",
   "id": "5d035f56-53ea-4790-ab89-e4c62e3363ef",
   "metadata": {},
   "source": [
    "Here, I checked the distribution of fragments from paired reads."
   ]
  },
  {
   "cell_type": "code",
   "execution_count": 13,
   "id": "014e0c05-a332-4f5b-9c0b-7d5c1fecd0ea",
   "metadata": {},
   "outputs": [
    {
     "data": {
      "image/png": "[encoded data removed]",
      "text/plain": [
       "plot without title"
      ]
     },
     "metadata": {
      "image/png": {
       "height": 360,
       "width": 360
      }
     },
     "output_type": "display_data"
    }
   ],
   "source": [
    "options(repr.plot.width=6, repr.plot.height=6)\n",
    "\n",
    "bam.qc %>%\n",
    "    ggplot(aes(x=both.in.pair.mapped)) +\n",
    "    geom_histogram(binwidth=1e7) +\n",
    "    xlab(\"Number of Pairs with Both Fragments Mapped\") + ylab(\"Frequency\") +\n",
    "    ggplot_theme"
   ]
  },
  {
   "cell_type": "code",
   "execution_count": 14,
   "id": "f95803fe-0a74-49b1-93ed-e925fb5d557f",
   "metadata": {},
   "outputs": [
    {
     "data": {
      "image/png": "[encoded data removed]",
      "text/plain": [
       "plot without title"
      ]
     },
     "metadata": {
      "image/png": {
       "height": 360,
       "width": 360
      }
     },
     "output_type": "display_data"
    }
   ],
   "source": [
    "options(repr.plot.width=6, repr.plot.height=6)\n",
    "\n",
    "bam.qc %>%\n",
    "    ggplot(aes(x=mean.mapping.quality)) +\n",
    "    geom_histogram(binwidth=5) +\n",
    "    xlab(\"Mean Mapping Quality\") + ylab(\"Frequency\") +\n",
    "    ggplot_theme"
   ]
  },
  {
   "cell_type": "code",
   "execution_count": 15,
   "id": "d8653c53-8654-41e8-aa01-221c20e30cfc",
   "metadata": {},
   "outputs": [
    {
     "data": {
      "image/png": "[encoded data removed]",
      "text/plain": [
       "plot without title"
      ]
     },
     "metadata": {
      "image/png": {
       "height": 360,
       "width": 360
      }
     },
     "output_type": "display_data"
    }
   ],
   "source": [
    "options(repr.plot.width=6, repr.plot.height=6)\n",
    "\n",
    "bam.qc %>%\n",
    "    ggplot(aes(x=GC.percentage)) +\n",
    "    geom_histogram(binwidth=0.05) +\n",
    "    xlab(\"GC Proportion\") + ylab(\"Frequency\") +\n",
    "    ggplot_theme"
   ]
  },
  {
   "cell_type": "code",
   "execution_count": 16,
   "id": "a04adaf0-92df-4ea3-a724-14c678f18e76",
   "metadata": {},
   "outputs": [
    {
     "data": {
      "image/png": "[encoded data removed]",
      "text/plain": [
       "plot without title"
      ]
     },
     "metadata": {
      "image/png": {
       "height": 360,
       "width": 360
      }
     },
     "output_type": "display_data"
    }
   ],
   "source": [
    "options(repr.plot.width=6, repr.plot.height=6)\n",
    "\n",
    "bam.qc %>%\n",
    "    ggplot(aes(x=mean.coverage)) +\n",
    "    geom_histogram(binwidth=5) +\n",
    "    xlab(\"Mean Coverage\") + ylab(\"Frequency\") +\n",
    "    ggplot_theme"
   ]
  },
  {
   "cell_type": "code",
   "execution_count": null,
   "id": "a00101c3-5d9c-4ee6-ad4d-84a812920969",
   "metadata": {},
   "outputs": [],
   "source": []
  }
 ],
 "metadata": {
  "kernelspec": {
   "display_name": "R",
   "language": "R",
   "name": "ir"
  },
  "language_info": {
   "codemirror_mode": "r",
   "file_extension": ".r",
   "mimetype": "text/x-r-source",
   "name": "R",
   "pygments_lexer": "r",
   "version": "4.0.5"
  }
 },
 "nbformat": 4,
 "nbformat_minor": 5
}
