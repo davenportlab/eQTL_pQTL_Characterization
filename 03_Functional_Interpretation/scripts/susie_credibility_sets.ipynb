{
 "cells": [
  {
   "cell_type": "markdown",
   "id": "c1fe7d9c-7ce4-4c92-8861-2b427ed33315",
   "metadata": {},
   "source": [
    "# SuSiE Credibility Sets\n",
    "\n",
    "**Created**: 4 February 2022"
   ]
  },
  {
   "cell_type": "markdown",
   "id": "1ef4ba46-fcd5-4439-a389-d2457fdbf708",
   "metadata": {},
   "source": [
    "## Environment"
   ]
  },
  {
   "cell_type": "code",
   "execution_count": 1,
   "id": "6db88ac2-6ac3-494a-ac11-bfcc1ad9408a",
   "metadata": {},
   "outputs": [
    {
     "name": "stderr",
     "output_type": "stream",
     "text": [
      "── \u001b[1mAttaching packages\u001b[22m ──────────────────────────────────────────────────────────────────────────────────────────────────────────────────────────────────────────────────────────────────────────── tidyverse 1.3.1 ──\n",
      "\n",
      "\u001b[32m✔\u001b[39m \u001b[34mggplot2\u001b[39m 3.3.5     \u001b[32m✔\u001b[39m \u001b[34mpurrr  \u001b[39m 0.3.4\n",
      "\u001b[32m✔\u001b[39m \u001b[34mtibble \u001b[39m 3.1.6     \u001b[32m✔\u001b[39m \u001b[34mdplyr  \u001b[39m 1.0.7\n",
      "\u001b[32m✔\u001b[39m \u001b[34mtidyr  \u001b[39m 1.1.4     \u001b[32m✔\u001b[39m \u001b[34mstringr\u001b[39m 1.4.0\n",
      "\u001b[32m✔\u001b[39m \u001b[34mreadr  \u001b[39m 2.1.1     \u001b[32m✔\u001b[39m \u001b[34mforcats\u001b[39m 0.5.1\n",
      "\n",
      "── \u001b[1mConflicts\u001b[22m ─────────────────────────────────────────────────────────────────────────────────────────────────────────────────────────────────────────────────────────────────────────────── tidyverse_conflicts() ──\n",
      "\u001b[31m✖\u001b[39m \u001b[34mdplyr\u001b[39m::\u001b[32mfilter()\u001b[39m masks \u001b[34mstats\u001b[39m::filter()\n",
      "\u001b[31m✖\u001b[39m \u001b[34mdplyr\u001b[39m::\u001b[32mlag()\u001b[39m    masks \u001b[34mstats\u001b[39m::lag()\n",
      "\n",
      "\n",
      "Attaching package: ‘data.table’\n",
      "\n",
      "\n",
      "The following objects are masked from ‘package:dplyr’:\n",
      "\n",
      "    between, first, last\n",
      "\n",
      "\n",
      "The following object is masked from ‘package:purrr’:\n",
      "\n",
      "    transpose\n",
      "\n",
      "\n"
     ]
    }
   ],
   "source": [
    "library(tidyverse)\n",
    "library(data.table)\n",
    "\n",
    "setwd(\"~/eQTL_pQTL_Characterization/\")\n",
    "\n",
    "source(\"03_Functional_Interpretation/scripts/utils/ggplot_theme.R\")"
   ]
  },
  {
   "cell_type": "markdown",
   "id": "56726afa-e178-4c9a-8495-7c7d704e0b8a",
   "metadata": {},
   "source": [
    "## Load Data"
   ]
  },
  {
   "cell_type": "code",
   "execution_count": 11,
   "id": "6a9bdb3c-1f3f-4f3d-9ae5-4c1c2bb709c2",
   "metadata": {},
   "outputs": [],
   "source": [
    "cis.eqtl <- readRDS(\"/nfs/users/nfs_n/nm18/gains_team282/eqtl/cisresults/cisqtl_all_significant.rds\") %>%\n",
    "    dplyr::mutate(snps=gsub(\"\\\\.\", \":\", snps))"
   ]
  },
  {
   "cell_type": "code",
   "execution_count": 12,
   "id": "c8d118dd-4620-4b7d-9fdd-53d86e47c510",
   "metadata": {},
   "outputs": [
    {
     "data": {
      "text/html": [
       "<table class=\"dataframe\">\n",
       "<caption>A data.table: 6 × 10</caption>\n",
       "<thead>\n",
       "\t<tr><th scope=col>snps</th><th scope=col>gene</th><th scope=col>statistic</th><th scope=col>pvalue</th><th scope=col>beta</th><th scope=col>se</th><th scope=col>chr</th><th scope=col>SNPpos</th><th scope=col>TSS</th><th scope=col>threshold</th></tr>\n",
       "\t<tr><th scope=col>&lt;chr&gt;</th><th scope=col>&lt;chr&gt;</th><th scope=col>&lt;dbl&gt;</th><th scope=col>&lt;dbl&gt;</th><th scope=col>&lt;dbl&gt;</th><th scope=col>&lt;dbl&gt;</th><th scope=col>&lt;int&gt;</th><th scope=col>&lt;int&gt;</th><th scope=col>&lt;int&gt;</th><th scope=col>&lt;dbl&gt;</th></tr>\n",
       "</thead>\n",
       "<tbody>\n",
       "\t<tr><td>rs4987343</td><td>ENSG00000000457</td><td>-4.152142</td><td>3.720893e-05</td><td>-0.04958163</td><td>0.01194122</td><td>1</td><td>169699715</td><td>169894267</td><td>3.873864e-05</td></tr>\n",
       "\t<tr><td>rs4987340</td><td>ENSG00000000457</td><td>-4.240369</td><td>2.546937e-05</td><td>-0.05063396</td><td>0.01194093</td><td>1</td><td>169700002</td><td>169894267</td><td>3.873864e-05</td></tr>\n",
       "\t<tr><td>rs2298899</td><td>ENSG00000000457</td><td> 4.176920</td><td>3.365090e-05</td><td> 0.05505924</td><td>0.01318178</td><td>1</td><td>169700591</td><td>169894267</td><td>3.873864e-05</td></tr>\n",
       "\t<tr><td>rs4987328</td><td>ENSG00000000457</td><td> 4.252010</td><td>2.432691e-05</td><td> 0.05597519</td><td>0.01316441</td><td>1</td><td>169701315</td><td>169894267</td><td>3.873864e-05</td></tr>\n",
       "\t<tr><td>rs4987327</td><td>ENSG00000000457</td><td>-4.218194</td><td>2.799604e-05</td><td>-0.05023696</td><td>0.01190959</td><td>1</td><td>169701799</td><td>169894267</td><td>3.873864e-05</td></tr>\n",
       "\t<tr><td>rs4987326</td><td>ENSG00000000457</td><td>-4.218194</td><td>2.799604e-05</td><td>-0.05023696</td><td>0.01190959</td><td>1</td><td>169701800</td><td>169894267</td><td>3.873864e-05</td></tr>\n",
       "</tbody>\n",
       "</table>\n"
      ],
      "text/latex": [
       "A data.table: 6 × 10\n",
       "\\begin{tabular}{llllllllll}\n",
       " snps & gene & statistic & pvalue & beta & se & chr & SNPpos & TSS & threshold\\\\\n",
       " <chr> & <chr> & <dbl> & <dbl> & <dbl> & <dbl> & <int> & <int> & <int> & <dbl>\\\\\n",
       "\\hline\n",
       "\t rs4987343 & ENSG00000000457 & -4.152142 & 3.720893e-05 & -0.04958163 & 0.01194122 & 1 & 169699715 & 169894267 & 3.873864e-05\\\\\n",
       "\t rs4987340 & ENSG00000000457 & -4.240369 & 2.546937e-05 & -0.05063396 & 0.01194093 & 1 & 169700002 & 169894267 & 3.873864e-05\\\\\n",
       "\t rs2298899 & ENSG00000000457 &  4.176920 & 3.365090e-05 &  0.05505924 & 0.01318178 & 1 & 169700591 & 169894267 & 3.873864e-05\\\\\n",
       "\t rs4987328 & ENSG00000000457 &  4.252010 & 2.432691e-05 &  0.05597519 & 0.01316441 & 1 & 169701315 & 169894267 & 3.873864e-05\\\\\n",
       "\t rs4987327 & ENSG00000000457 & -4.218194 & 2.799604e-05 & -0.05023696 & 0.01190959 & 1 & 169701799 & 169894267 & 3.873864e-05\\\\\n",
       "\t rs4987326 & ENSG00000000457 & -4.218194 & 2.799604e-05 & -0.05023696 & 0.01190959 & 1 & 169701800 & 169894267 & 3.873864e-05\\\\\n",
       "\\end{tabular}\n"
      ],
      "text/markdown": [
       "\n",
       "A data.table: 6 × 10\n",
       "\n",
       "| snps &lt;chr&gt; | gene &lt;chr&gt; | statistic &lt;dbl&gt; | pvalue &lt;dbl&gt; | beta &lt;dbl&gt; | se &lt;dbl&gt; | chr &lt;int&gt; | SNPpos &lt;int&gt; | TSS &lt;int&gt; | threshold &lt;dbl&gt; |\n",
       "|---|---|---|---|---|---|---|---|---|---|\n",
       "| rs4987343 | ENSG00000000457 | -4.152142 | 3.720893e-05 | -0.04958163 | 0.01194122 | 1 | 169699715 | 169894267 | 3.873864e-05 |\n",
       "| rs4987340 | ENSG00000000457 | -4.240369 | 2.546937e-05 | -0.05063396 | 0.01194093 | 1 | 169700002 | 169894267 | 3.873864e-05 |\n",
       "| rs2298899 | ENSG00000000457 |  4.176920 | 3.365090e-05 |  0.05505924 | 0.01318178 | 1 | 169700591 | 169894267 | 3.873864e-05 |\n",
       "| rs4987328 | ENSG00000000457 |  4.252010 | 2.432691e-05 |  0.05597519 | 0.01316441 | 1 | 169701315 | 169894267 | 3.873864e-05 |\n",
       "| rs4987327 | ENSG00000000457 | -4.218194 | 2.799604e-05 | -0.05023696 | 0.01190959 | 1 | 169701799 | 169894267 | 3.873864e-05 |\n",
       "| rs4987326 | ENSG00000000457 | -4.218194 | 2.799604e-05 | -0.05023696 | 0.01190959 | 1 | 169701800 | 169894267 | 3.873864e-05 |\n",
       "\n"
      ],
      "text/plain": [
       "  snps      gene            statistic pvalue       beta        se         chr\n",
       "1 rs4987343 ENSG00000000457 -4.152142 3.720893e-05 -0.04958163 0.01194122 1  \n",
       "2 rs4987340 ENSG00000000457 -4.240369 2.546937e-05 -0.05063396 0.01194093 1  \n",
       "3 rs2298899 ENSG00000000457  4.176920 3.365090e-05  0.05505924 0.01318178 1  \n",
       "4 rs4987328 ENSG00000000457  4.252010 2.432691e-05  0.05597519 0.01316441 1  \n",
       "5 rs4987327 ENSG00000000457 -4.218194 2.799604e-05 -0.05023696 0.01190959 1  \n",
       "6 rs4987326 ENSG00000000457 -4.218194 2.799604e-05 -0.05023696 0.01190959 1  \n",
       "  SNPpos    TSS       threshold   \n",
       "1 169699715 169894267 3.873864e-05\n",
       "2 169700002 169894267 3.873864e-05\n",
       "3 169700591 169894267 3.873864e-05\n",
       "4 169701315 169894267 3.873864e-05\n",
       "5 169701799 169894267 3.873864e-05\n",
       "6 169701800 169894267 3.873864e-05"
      ]
     },
     "metadata": {},
     "output_type": "display_data"
    }
   ],
   "source": [
    "head(cis.eqtl)"
   ]
  },
  {
   "cell_type": "code",
   "execution_count": 13,
   "id": "d60215df-151d-4c59-9fec-57caa51f318c",
   "metadata": {},
   "outputs": [],
   "source": [
    "geno <- fread(\"~/gains_team282/Genotyping/All_genotyping_merged_filtered_b38_refiltered_rsID.bim\") %>%\n",
    "    as.data.frame()\n",
    "colnames(geno) <- c(\"chr\", \"snp\", \"cM\", \"pos\", \"minor\", \"major\")"
   ]
  },
  {
   "cell_type": "code",
   "execution_count": 14,
   "id": "ca257e7e-3e10-4312-8bd0-2e1960cc2b1b",
   "metadata": {},
   "outputs": [
    {
     "data": {
      "text/html": [
       "<table class=\"dataframe\">\n",
       "<caption>A data.frame: 6 × 6</caption>\n",
       "<thead>\n",
       "\t<tr><th></th><th scope=col>chr</th><th scope=col>snp</th><th scope=col>cM</th><th scope=col>pos</th><th scope=col>minor</th><th scope=col>major</th></tr>\n",
       "\t<tr><th></th><th scope=col>&lt;chr&gt;</th><th scope=col>&lt;chr&gt;</th><th scope=col>&lt;int&gt;</th><th scope=col>&lt;int&gt;</th><th scope=col>&lt;chr&gt;</th><th scope=col>&lt;chr&gt;</th></tr>\n",
       "</thead>\n",
       "<tbody>\n",
       "\t<tr><th scope=row>1</th><td>1</td><td>rs3131972   </td><td>0</td><td>817341</td><td>A</td><td>G</td></tr>\n",
       "\t<tr><th scope=row>2</th><td>1</td><td>rs546843995 </td><td>0</td><td>818053</td><td>0</td><td>G</td></tr>\n",
       "\t<tr><th scope=row>3</th><td>1</td><td>rs553916047 </td><td>0</td><td>818359</td><td>0</td><td>A</td></tr>\n",
       "\t<tr><th scope=row>4</th><td>1</td><td>1:818740_T_C</td><td>0</td><td>818740</td><td>T</td><td>C</td></tr>\n",
       "\t<tr><th scope=row>5</th><td>1</td><td>rs145604921 </td><td>0</td><td>819378</td><td>0</td><td>C</td></tr>\n",
       "\t<tr><th scope=row>6</th><td>1</td><td>rs535256652 </td><td>0</td><td>821053</td><td>0</td><td>T</td></tr>\n",
       "</tbody>\n",
       "</table>\n"
      ],
      "text/latex": [
       "A data.frame: 6 × 6\n",
       "\\begin{tabular}{r|llllll}\n",
       "  & chr & snp & cM & pos & minor & major\\\\\n",
       "  & <chr> & <chr> & <int> & <int> & <chr> & <chr>\\\\\n",
       "\\hline\n",
       "\t1 & 1 & rs3131972    & 0 & 817341 & A & G\\\\\n",
       "\t2 & 1 & rs546843995  & 0 & 818053 & 0 & G\\\\\n",
       "\t3 & 1 & rs553916047  & 0 & 818359 & 0 & A\\\\\n",
       "\t4 & 1 & 1:818740\\_T\\_C & 0 & 818740 & T & C\\\\\n",
       "\t5 & 1 & rs145604921  & 0 & 819378 & 0 & C\\\\\n",
       "\t6 & 1 & rs535256652  & 0 & 821053 & 0 & T\\\\\n",
       "\\end{tabular}\n"
      ],
      "text/markdown": [
       "\n",
       "A data.frame: 6 × 6\n",
       "\n",
       "| <!--/--> | chr &lt;chr&gt; | snp &lt;chr&gt; | cM &lt;int&gt; | pos &lt;int&gt; | minor &lt;chr&gt; | major &lt;chr&gt; |\n",
       "|---|---|---|---|---|---|---|\n",
       "| 1 | 1 | rs3131972    | 0 | 817341 | A | G |\n",
       "| 2 | 1 | rs546843995  | 0 | 818053 | 0 | G |\n",
       "| 3 | 1 | rs553916047  | 0 | 818359 | 0 | A |\n",
       "| 4 | 1 | 1:818740_T_C | 0 | 818740 | T | C |\n",
       "| 5 | 1 | rs145604921  | 0 | 819378 | 0 | C |\n",
       "| 6 | 1 | rs535256652  | 0 | 821053 | 0 | T |\n",
       "\n"
      ],
      "text/plain": [
       "  chr snp          cM pos    minor major\n",
       "1 1   rs3131972    0  817341 A     G    \n",
       "2 1   rs546843995  0  818053 0     G    \n",
       "3 1   rs553916047  0  818359 0     A    \n",
       "4 1   1:818740_T_C 0  818740 T     C    \n",
       "5 1   rs145604921  0  819378 0     C    \n",
       "6 1   rs535256652  0  821053 0     T    "
      ]
     },
     "metadata": {},
     "output_type": "display_data"
    }
   ],
   "source": [
    "head(geno)"
   ]
  },
  {
   "cell_type": "code",
   "execution_count": 15,
   "id": "ce7b489c-f229-4c7b-9bcb-74291ffaebc0",
   "metadata": {},
   "outputs": [],
   "source": [
    "cis.eqtl.conditional <- readRDS(\"/nfs/users/nfs_n/nm18/gains_team282/eqtl/cisresults/conditionalanalysis/conditional_eQTL_results_final.rds\")\n",
    "\n",
    "cis.eqtl.conditional <- cis.eqtl.conditional %>%\n",
    "    dplyr::mutate(SNP=gsub(\"\\\\.\", \":\", SNP)) %>%\n",
    "    merge(., geno, by.x=\"SNP\", by.y=\"snp\") %>%\n",
    "    dplyr::select(snps=SNP, gene=Gene, pvalue, beta=eQTL_beta, se=eQTL_SE, chr, SNPpos=pos, Conditional.Number=Number) %>%\n",
    "    dplyr::mutate(pvalue=as.numeric(pvalue)) %>%\n",
    "    dplyr::mutate(beta=as.numeric(beta)) %>%\n",
    "    dplyr::mutate(se=as.numeric(se)) %>%\n",
    "    dplyr::mutate(chr=as.numeric(chr))"
   ]
  },
  {
   "cell_type": "code",
   "execution_count": 16,
   "id": "86d80355-5b64-412a-835a-24205b20fb76",
   "metadata": {},
   "outputs": [
    {
     "data": {
      "text/html": [
       "<table class=\"dataframe\">\n",
       "<caption>A data.frame: 6 × 8</caption>\n",
       "<thead>\n",
       "\t<tr><th></th><th scope=col>snps</th><th scope=col>gene</th><th scope=col>pvalue</th><th scope=col>beta</th><th scope=col>se</th><th scope=col>chr</th><th scope=col>SNPpos</th><th scope=col>Conditional.Number</th></tr>\n",
       "\t<tr><th></th><th scope=col>&lt;chr&gt;</th><th scope=col>&lt;chr&gt;</th><th scope=col>&lt;dbl&gt;</th><th scope=col>&lt;dbl&gt;</th><th scope=col>&lt;dbl&gt;</th><th scope=col>&lt;dbl&gt;</th><th scope=col>&lt;int&gt;</th><th scope=col>&lt;int&gt;</th></tr>\n",
       "</thead>\n",
       "<tbody>\n",
       "\t<tr><th scope=row>1</th><td>5:54079901_A_C</td><td>ENSG00000272416</td><td>1.905358e-05</td><td> 0.13545826</td><td>0.031504093</td><td>5</td><td> 54079901</td><td>1</td></tr>\n",
       "\t<tr><th scope=row>2</th><td>rs10000507    </td><td>ENSG00000164305</td><td>1.194703e-05</td><td>-0.05880549</td><td>0.013312181</td><td>4</td><td>184698127</td><td>1</td></tr>\n",
       "\t<tr><th scope=row>3</th><td>rs10000850    </td><td>ENSG00000128039</td><td>7.576675e-43</td><td>-0.64265343</td><td>0.043284640</td><td>4</td><td> 55634211</td><td>2</td></tr>\n",
       "\t<tr><th scope=row>4</th><td>rs1000137     </td><td>ENSG00000272839</td><td>1.261994e-13</td><td>-0.17162745</td><td>0.022657505</td><td>7</td><td>157851460</td><td>1</td></tr>\n",
       "\t<tr><th scope=row>5</th><td>rs10001795    </td><td>ENSG00000121892</td><td>2.088410e-05</td><td>-0.03630321</td><td>0.008460434</td><td>4</td><td> 40366982</td><td>4</td></tr>\n",
       "\t<tr><th scope=row>6</th><td>rs10004630    </td><td>ENSG00000170390</td><td>1.804495e-17</td><td> 0.12054523</td><td>0.013573487</td><td>4</td><td>150065588</td><td>1</td></tr>\n",
       "</tbody>\n",
       "</table>\n"
      ],
      "text/latex": [
       "A data.frame: 6 × 8\n",
       "\\begin{tabular}{r|llllllll}\n",
       "  & snps & gene & pvalue & beta & se & chr & SNPpos & Conditional.Number\\\\\n",
       "  & <chr> & <chr> & <dbl> & <dbl> & <dbl> & <dbl> & <int> & <int>\\\\\n",
       "\\hline\n",
       "\t1 & 5:54079901\\_A\\_C & ENSG00000272416 & 1.905358e-05 &  0.13545826 & 0.031504093 & 5 &  54079901 & 1\\\\\n",
       "\t2 & rs10000507     & ENSG00000164305 & 1.194703e-05 & -0.05880549 & 0.013312181 & 4 & 184698127 & 1\\\\\n",
       "\t3 & rs10000850     & ENSG00000128039 & 7.576675e-43 & -0.64265343 & 0.043284640 & 4 &  55634211 & 2\\\\\n",
       "\t4 & rs1000137      & ENSG00000272839 & 1.261994e-13 & -0.17162745 & 0.022657505 & 7 & 157851460 & 1\\\\\n",
       "\t5 & rs10001795     & ENSG00000121892 & 2.088410e-05 & -0.03630321 & 0.008460434 & 4 &  40366982 & 4\\\\\n",
       "\t6 & rs10004630     & ENSG00000170390 & 1.804495e-17 &  0.12054523 & 0.013573487 & 4 & 150065588 & 1\\\\\n",
       "\\end{tabular}\n"
      ],
      "text/markdown": [
       "\n",
       "A data.frame: 6 × 8\n",
       "\n",
       "| <!--/--> | snps &lt;chr&gt; | gene &lt;chr&gt; | pvalue &lt;dbl&gt; | beta &lt;dbl&gt; | se &lt;dbl&gt; | chr &lt;dbl&gt; | SNPpos &lt;int&gt; | Conditional.Number &lt;int&gt; |\n",
       "|---|---|---|---|---|---|---|---|---|\n",
       "| 1 | 5:54079901_A_C | ENSG00000272416 | 1.905358e-05 |  0.13545826 | 0.031504093 | 5 |  54079901 | 1 |\n",
       "| 2 | rs10000507     | ENSG00000164305 | 1.194703e-05 | -0.05880549 | 0.013312181 | 4 | 184698127 | 1 |\n",
       "| 3 | rs10000850     | ENSG00000128039 | 7.576675e-43 | -0.64265343 | 0.043284640 | 4 |  55634211 | 2 |\n",
       "| 4 | rs1000137      | ENSG00000272839 | 1.261994e-13 | -0.17162745 | 0.022657505 | 7 | 157851460 | 1 |\n",
       "| 5 | rs10001795     | ENSG00000121892 | 2.088410e-05 | -0.03630321 | 0.008460434 | 4 |  40366982 | 4 |\n",
       "| 6 | rs10004630     | ENSG00000170390 | 1.804495e-17 |  0.12054523 | 0.013573487 | 4 | 150065588 | 1 |\n",
       "\n"
      ],
      "text/plain": [
       "  snps           gene            pvalue       beta        se          chr\n",
       "1 5:54079901_A_C ENSG00000272416 1.905358e-05  0.13545826 0.031504093 5  \n",
       "2 rs10000507     ENSG00000164305 1.194703e-05 -0.05880549 0.013312181 4  \n",
       "3 rs10000850     ENSG00000128039 7.576675e-43 -0.64265343 0.043284640 4  \n",
       "4 rs1000137      ENSG00000272839 1.261994e-13 -0.17162745 0.022657505 7  \n",
       "5 rs10001795     ENSG00000121892 2.088410e-05 -0.03630321 0.008460434 4  \n",
       "6 rs10004630     ENSG00000170390 1.804495e-17  0.12054523 0.013573487 4  \n",
       "  SNPpos    Conditional.Number\n",
       "1  54079901 1                 \n",
       "2 184698127 1                 \n",
       "3  55634211 2                 \n",
       "4 157851460 1                 \n",
       "5  40366982 4                 \n",
       "6 150065588 1                 "
      ]
     },
     "metadata": {},
     "output_type": "display_data"
    }
   ],
   "source": [
    "head(cis.eqtl.conditional)"
   ]
  },
  {
   "cell_type": "code",
   "execution_count": 17,
   "id": "72835ac8-0797-4cb7-902b-755a28ff3b50",
   "metadata": {},
   "outputs": [],
   "source": [
    "susie.snps <- lapply(1:23, function(chr) {\n",
    "    read.table(paste0(\"~/gains_team282/nikhil/colocalization/cis_eqtl/fine_mapping/chr\", chr, \"_credible_sets.tsv\"), header=T, fill=T)\n",
    "}) %>% do.call(rbind, .) %>%\n",
    "    as.data.frame() %>%\n",
    "    merge(., geno, by.x=\"SNP\", by.y=\"snp\") %>%\n",
    "    dplyr::mutate(Notes = ifelse(Notes == \"\", NA, Notes)) %>%\n",
    "    dplyr::filter(is.na(Notes)) %>%\n",
    "    dplyr::mutate(chr=as.numeric(chr))"
   ]
  },
  {
   "cell_type": "code",
   "execution_count": 18,
   "id": "91913f26-a966-40ef-b7d2-0392401e4366",
   "metadata": {},
   "outputs": [
    {
     "data": {
      "text/html": [
       "<table class=\"dataframe\">\n",
       "<caption>A data.frame: 6 × 10</caption>\n",
       "<thead>\n",
       "\t<tr><th></th><th scope=col>SNP</th><th scope=col>Gene</th><th scope=col>SNP_Prob</th><th scope=col>Credible_Set</th><th scope=col>Notes</th><th scope=col>chr</th><th scope=col>cM</th><th scope=col>pos</th><th scope=col>minor</th><th scope=col>major</th></tr>\n",
       "\t<tr><th></th><th scope=col>&lt;chr&gt;</th><th scope=col>&lt;chr&gt;</th><th scope=col>&lt;dbl&gt;</th><th scope=col>&lt;int&gt;</th><th scope=col>&lt;lgl&gt;</th><th scope=col>&lt;dbl&gt;</th><th scope=col>&lt;int&gt;</th><th scope=col>&lt;int&gt;</th><th scope=col>&lt;chr&gt;</th><th scope=col>&lt;chr&gt;</th></tr>\n",
       "</thead>\n",
       "<tbody>\n",
       "\t<tr><th scope=row>1</th><td>rs10000015</td><td>ENSG00000250057</td><td>0.053858494</td><td>2</td><td>NA</td><td>4</td><td>0</td><td> 83222834</td><td>G</td><td>A</td></tr>\n",
       "\t<tr><th scope=row>2</th><td>rs10000213</td><td>ENSG00000173085</td><td>0.008833020</td><td>2</td><td>NA</td><td>4</td><td>0</td><td> 83223036</td><td>G</td><td>A</td></tr>\n",
       "\t<tr><th scope=row>3</th><td>rs10000213</td><td>ENSG00000248401</td><td>0.027143350</td><td>1</td><td>NA</td><td>4</td><td>0</td><td> 83223036</td><td>G</td><td>A</td></tr>\n",
       "\t<tr><th scope=row>4</th><td>rs10000254</td><td>ENSG00000250131</td><td>0.005345686</td><td>4</td><td>NA</td><td>4</td><td>0</td><td>177495952</td><td>A</td><td>G</td></tr>\n",
       "\t<tr><th scope=row>5</th><td>rs10000271</td><td>ENSG00000173085</td><td>0.008833020</td><td>2</td><td>NA</td><td>4</td><td>0</td><td> 83223051</td><td>G</td><td>A</td></tr>\n",
       "\t<tr><th scope=row>6</th><td>rs10000271</td><td>ENSG00000248401</td><td>0.027143350</td><td>1</td><td>NA</td><td>4</td><td>0</td><td> 83223051</td><td>G</td><td>A</td></tr>\n",
       "</tbody>\n",
       "</table>\n"
      ],
      "text/latex": [
       "A data.frame: 6 × 10\n",
       "\\begin{tabular}{r|llllllllll}\n",
       "  & SNP & Gene & SNP\\_Prob & Credible\\_Set & Notes & chr & cM & pos & minor & major\\\\\n",
       "  & <chr> & <chr> & <dbl> & <int> & <lgl> & <dbl> & <int> & <int> & <chr> & <chr>\\\\\n",
       "\\hline\n",
       "\t1 & rs10000015 & ENSG00000250057 & 0.053858494 & 2 & NA & 4 & 0 &  83222834 & G & A\\\\\n",
       "\t2 & rs10000213 & ENSG00000173085 & 0.008833020 & 2 & NA & 4 & 0 &  83223036 & G & A\\\\\n",
       "\t3 & rs10000213 & ENSG00000248401 & 0.027143350 & 1 & NA & 4 & 0 &  83223036 & G & A\\\\\n",
       "\t4 & rs10000254 & ENSG00000250131 & 0.005345686 & 4 & NA & 4 & 0 & 177495952 & A & G\\\\\n",
       "\t5 & rs10000271 & ENSG00000173085 & 0.008833020 & 2 & NA & 4 & 0 &  83223051 & G & A\\\\\n",
       "\t6 & rs10000271 & ENSG00000248401 & 0.027143350 & 1 & NA & 4 & 0 &  83223051 & G & A\\\\\n",
       "\\end{tabular}\n"
      ],
      "text/markdown": [
       "\n",
       "A data.frame: 6 × 10\n",
       "\n",
       "| <!--/--> | SNP &lt;chr&gt; | Gene &lt;chr&gt; | SNP_Prob &lt;dbl&gt; | Credible_Set &lt;int&gt; | Notes &lt;lgl&gt; | chr &lt;dbl&gt; | cM &lt;int&gt; | pos &lt;int&gt; | minor &lt;chr&gt; | major &lt;chr&gt; |\n",
       "|---|---|---|---|---|---|---|---|---|---|---|\n",
       "| 1 | rs10000015 | ENSG00000250057 | 0.053858494 | 2 | NA | 4 | 0 |  83222834 | G | A |\n",
       "| 2 | rs10000213 | ENSG00000173085 | 0.008833020 | 2 | NA | 4 | 0 |  83223036 | G | A |\n",
       "| 3 | rs10000213 | ENSG00000248401 | 0.027143350 | 1 | NA | 4 | 0 |  83223036 | G | A |\n",
       "| 4 | rs10000254 | ENSG00000250131 | 0.005345686 | 4 | NA | 4 | 0 | 177495952 | A | G |\n",
       "| 5 | rs10000271 | ENSG00000173085 | 0.008833020 | 2 | NA | 4 | 0 |  83223051 | G | A |\n",
       "| 6 | rs10000271 | ENSG00000248401 | 0.027143350 | 1 | NA | 4 | 0 |  83223051 | G | A |\n",
       "\n"
      ],
      "text/plain": [
       "  SNP        Gene            SNP_Prob    Credible_Set Notes chr cM pos      \n",
       "1 rs10000015 ENSG00000250057 0.053858494 2            NA    4   0   83222834\n",
       "2 rs10000213 ENSG00000173085 0.008833020 2            NA    4   0   83223036\n",
       "3 rs10000213 ENSG00000248401 0.027143350 1            NA    4   0   83223036\n",
       "4 rs10000254 ENSG00000250131 0.005345686 4            NA    4   0  177495952\n",
       "5 rs10000271 ENSG00000173085 0.008833020 2            NA    4   0   83223051\n",
       "6 rs10000271 ENSG00000248401 0.027143350 1            NA    4   0   83223051\n",
       "  minor major\n",
       "1 G     A    \n",
       "2 G     A    \n",
       "3 G     A    \n",
       "4 A     G    \n",
       "5 G     A    \n",
       "6 G     A    "
      ]
     },
     "metadata": {},
     "output_type": "display_data"
    }
   ],
   "source": [
    "head(susie.snps)"
   ]
  },
  {
   "cell_type": "markdown",
   "id": "8dc877b0-af99-49ca-8cb2-ffa12f1fa5eb",
   "metadata": {
    "tags": []
   },
   "source": [
    "## SuSiE Credible Sets"
   ]
  },
  {
   "cell_type": "markdown",
   "id": "331d8851-9eee-46c4-a460-7382cb8ae5fb",
   "metadata": {},
   "source": [
    "Of the 10913 eGenes detected in the cohort, 8891 have at least one credibility set."
   ]
  },
  {
   "cell_type": "code",
   "execution_count": 19,
   "id": "7443e421-64b8-457b-96b1-891332096a8f",
   "metadata": {},
   "outputs": [
    {
     "data": {
      "text/html": [
       "8891"
      ],
      "text/latex": [
       "8891"
      ],
      "text/markdown": [
       "8891"
      ],
      "text/plain": [
       "[1] 8891"
      ]
     },
     "metadata": {},
     "output_type": "display_data"
    },
    {
     "data": {
      "text/html": [
       "10913"
      ],
      "text/latex": [
       "10913"
      ],
      "text/markdown": [
       "10913"
      ],
      "text/plain": [
       "[1] 10913"
      ]
     },
     "metadata": {},
     "output_type": "display_data"
    }
   ],
   "source": [
    "length(unique(susie.snps$Gene))\n",
    "length(unique(cis.eqtl$gene))"
   ]
  },
  {
   "cell_type": "code",
   "execution_count": 49,
   "id": "a311af72-a99b-4902-907a-3fe12eec11f3",
   "metadata": {},
   "outputs": [
    {
     "data": {
      "image/png": "[encoded data removed]",
      "text/plain": [
       "plot without title"
      ]
     },
     "metadata": {
      "image/png": {
       "height": 360,
       "width": 360
      }
     },
     "output_type": "display_data"
    }
   ],
   "source": [
    "options(repr.plot.width=6, repr.plot.height=6)\n",
    "\n",
    "susie.snps %>%\n",
    "    dplyr::group_by(Gene) %>%\n",
    "    dplyr::summarize(N.CS=length(unique(Credible_Set))) %>%\n",
    "    dplyr::mutate(N.CS=factor(N.CS, levels=1:(max(N.CS)))) %>%\n",
    "    ggplot() +\n",
    "    geom_bar(aes(x=N.CS)) +\n",
    "    xlab(\"Number of Credibility Sets for eGene\") + ylab(\"Frequency\") +\n",
    "    ggplot_theme\n",
    "\n",
    "ggsave(\"03_Functional_Interpretation/results/susie_number_of_credibility_sets.svg\", width=6, height=6)"
   ]
  },
  {
   "cell_type": "markdown",
   "id": "ce3a630d-b931-43d6-9941-ae5e52b3ecc7",
   "metadata": {},
   "source": [
    "eGenes that do not have credibility sets tend to have less significant associations."
   ]
  },
  {
   "cell_type": "code",
   "execution_count": 48,
   "id": "e7ab1fee-1db3-420e-97c6-78ec526ee296",
   "metadata": {},
   "outputs": [
    {
     "data": {
      "image/png": "[encoded data removed]",
      "text/plain": [
       "plot without title"
      ]
     },
     "metadata": {
      "image/png": {
       "height": 360,
       "width": 360
      }
     },
     "output_type": "display_data"
    }
   ],
   "source": [
    "options(repr.plot.width=6, repr.plot.height=6)\n",
    "\n",
    "cis.eqtl.conditional %>%\n",
    "    dplyr::mutate(Has.CS=ifelse(gene %in% susie.snps$Gene, \"Has Credibility Set\", \"No Credibility Set\")) %>%\n",
    "    dplyr::mutate(Abs.Z.Score=abs(beta / se)) %>%\n",
    "    ggplot() +\n",
    "    geom_boxplot(aes(x=Has.CS, y=Abs.Z.Score), width=0.5, outlier.alpha=0.05) +\n",
    "    scale_y_log10() + annotation_logticks(sides=\"l\") +\n",
    "    ylab(\"|Z-Score|\") +\n",
    "    ggplot_theme +\n",
    "    theme(axis.title.x=element_blank())\n",
    "\n",
    "ggsave(\"03_Functional_Interpretation/results/susie_z_scores_by_credibility_set.svg\", width=6, height=6)"
   ]
  },
  {
   "cell_type": "markdown",
   "id": "18b4ddba-a65f-4ea9-a767-9e977b6343f8",
   "metadata": {
    "tags": []
   },
   "source": [
    "## Lead and Sentinel SNPs in Credibility Sets"
   ]
  },
  {
   "cell_type": "code",
   "execution_count": 22,
   "id": "dd691008-0e62-4fb6-ae06-9969222610f1",
   "metadata": {},
   "outputs": [
    {
     "data": {
      "text/html": [
       "10913"
      ],
      "text/latex": [
       "10913"
      ],
      "text/markdown": [
       "10913"
      ],
      "text/plain": [
       "[1] 10913"
      ]
     },
     "metadata": {},
     "output_type": "display_data"
    }
   ],
   "source": [
    "length(unique(cis.eqtl.conditional$gene))"
   ]
  },
  {
   "cell_type": "markdown",
   "id": "196bb76c-162f-427e-913b-35329b0c3768",
   "metadata": {},
   "source": [
    "For a given eGene, is the number of credibility sets detected the same as the number of conditional signals detected?"
   ]
  },
  {
   "cell_type": "code",
   "execution_count": 116,
   "id": "d3d03036-028f-49dc-8a2f-189b5a871a60",
   "metadata": {},
   "outputs": [],
   "source": [
    "cond.signals <- sapply(\n",
    "    split(cis.eqtl.conditional, cis.eqtl.conditional$gene),\n",
    "    function(locus) {\n",
    "        length(unique(locus$Conditional.Number))\n",
    "    }\n",
    ") %>% as.matrix() %>%\n",
    "    as.data.frame() %>%\n",
    "    dplyr::mutate(Gene=rownames(.)) %>%\n",
    "    dplyr::select(Gene, N.Conditional.Signals=1)"
   ]
  },
  {
   "cell_type": "code",
   "execution_count": 117,
   "id": "af4bd5ee-ce0b-46ca-ae6a-4078678dd7b3",
   "metadata": {},
   "outputs": [],
   "source": [
    "susie.cs <- sapply(\n",
    "    split(susie.snps, susie.snps$Gene),\n",
    "    function(locus) {\n",
    "        length(unique(locus$Credible_Set))\n",
    "    }\n",
    ") %>% as.matrix() %>%\n",
    "    as.data.frame() %>%\n",
    "    dplyr::mutate(Gene=rownames(.)) %>%\n",
    "    dplyr::select(Gene, N.CS=1)"
   ]
  },
  {
   "cell_type": "code",
   "execution_count": 120,
   "id": "22e84652-25ba-4368-be1e-919ce5af4a6f",
   "metadata": {},
   "outputs": [
    {
     "data": {
      "image/png": "[encoded data removed]",
      "text/plain": [
       "plot without title"
      ]
     },
     "metadata": {
      "image/png": {
       "height": 360,
       "width": 420
      }
     },
     "output_type": "display_data"
    }
   ],
   "source": [
    "options(repr.plot.width=7, repr.plot.height=6)\n",
    "\n",
    "merge(cond.signals, susie.cs, by=\"Gene\") %>%\n",
    "    dplyr::group_by(N.Conditional.Signals, N.CS) %>%\n",
    "    dplyr::summarize(N=n(), .groups=\"drop\") %>%\n",
    "    ggplot() +\n",
    "    geom_tile(aes(x=N.Conditional.Signals, y=N.CS, fill=log2(N))) +\n",
    "    xlab(\"Number of Conditional Signals\") + ylab(\"Number of Credible Sets\") +\n",
    "    ggplot_theme +\n",
    "    theme(legend.position=\"right\")\n",
    "\n",
    "ggsave(\"03_Functional_Interpretation/results/susie_overlap_of_signals_with_conditional_analysis.svg\", width=7, height=6)"
   ]
  },
  {
   "cell_type": "markdown",
   "id": "2f58b327-72ca-4265-ad52-7a9a8f63a50e",
   "metadata": {},
   "source": [
    "For a given eGene, how many of the sentinel SNPs are present in a credibility set? Of the 16468 eGene-SNP pairs, 11449 are covered by a credibility set."
   ]
  },
  {
   "cell_type": "code",
   "execution_count": 136,
   "id": "f1cf9a13-691b-4d79-8885-3271798d0ede",
   "metadata": {},
   "outputs": [
    {
     "data": {
      "text/html": [
       "11449"
      ],
      "text/latex": [
       "11449"
      ],
      "text/markdown": [
       "11449"
      ],
      "text/plain": [
       "[1] 11449"
      ]
     },
     "metadata": {},
     "output_type": "display_data"
    }
   ],
   "source": [
    "merge(\n",
    "    cis.eqtl.conditional %>%\n",
    "        dplyr::mutate(eSNP=paste0(gene, \":\", snps)),\n",
    "    susie.snps %>%\n",
    "        dplyr::mutate(eSNP=paste0(Gene, \":\", SNP)),\n",
    "    by=\"eSNP\"\n",
    ") %>%\n",
    "    nrow()"
   ]
  },
  {
   "cell_type": "code",
   "execution_count": 132,
   "id": "14759d2c-90eb-49b2-a20d-d4ea1488ab50",
   "metadata": {},
   "outputs": [
    {
     "data": {
      "text/html": [
       "16468"
      ],
      "text/latex": [
       "16468"
      ],
      "text/markdown": [
       "16468"
      ],
      "text/plain": [
       "[1] 16468"
      ]
     },
     "metadata": {},
     "output_type": "display_data"
    }
   ],
   "source": [
    "nrow(cis.eqtl.conditional)"
   ]
  },
  {
   "cell_type": "code",
   "execution_count": null,
   "id": "02aa7bd9-f5f0-43c9-9b9f-6b53ef7581eb",
   "metadata": {},
   "outputs": [],
   "source": []
  }
 ],
 "metadata": {
  "kernelspec": {
   "display_name": "R",
   "language": "R",
   "name": "ir"
  },
  "language_info": {
   "codemirror_mode": "r",
   "file_extension": ".r",
   "mimetype": "text/x-r-source",
   "name": "R",
   "pygments_lexer": "r",
   "version": "4.0.5"
  }
 },
 "nbformat": 4,
 "nbformat_minor": 5
}
