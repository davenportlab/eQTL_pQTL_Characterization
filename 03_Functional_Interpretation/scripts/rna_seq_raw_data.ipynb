{
 "cells": [
  {
   "cell_type": "markdown",
   "id": "e36773fc-5d0b-4cd6-9e5c-e1eb22f87ec5",
   "metadata": {},
   "source": [
    "# RNA-Seq Read Count\n",
    "\n",
    "**Created**: 17 January 2022"
   ]
  },
  {
   "cell_type": "markdown",
   "id": "39dcaaf4-dc3d-4092-834b-16adf65fdbff",
   "metadata": {},
   "source": [
    "## Environment"
   ]
  },
  {
   "cell_type": "code",
   "execution_count": 20,
   "id": "e613efe5-5473-421f-990d-82b8b4558746",
   "metadata": {},
   "outputs": [],
   "source": [
    "library(tidyverse)\n",
    "\n",
    "setwd(\"~/eQTL_pQTL_Characterization/\")\n",
    "\n",
    "source(\"03_Functional_Interpretation/scripts/utils/ggplot_theme.R\")"
   ]
  },
  {
   "cell_type": "markdown",
   "id": "8eef81e7-7982-4bf0-82df-92ff456e726d",
   "metadata": {},
   "source": [
    "## Load Data"
   ]
  },
  {
   "cell_type": "code",
   "execution_count": 2,
   "id": "31e15ee7-ac8b-4214-a30c-40e406614993",
   "metadata": {},
   "outputs": [],
   "source": [
    "meta <- read.csv(\"03_Functional_Interpretation/metadata/reads_calderon_et_al_rna_seq.txt\")"
   ]
  },
  {
   "cell_type": "code",
   "execution_count": 3,
   "id": "88bbe2a3-6d83-4f59-a3f1-9f7f30a833c3",
   "metadata": {},
   "outputs": [
    {
     "data": {
      "text/html": [
       "<table class=\"dataframe\">\n",
       "<caption>A data.frame: 6 × 28</caption>\n",
       "<thead>\n",
       "\t<tr><th></th><th scope=col>Run</th><th scope=col>Assay.Type</th><th scope=col>AvgSpotLen</th><th scope=col>Bases</th><th scope=col>BioProject</th><th scope=col>BioSample</th><th scope=col>Bytes</th><th scope=col>cell_type</th><th scope=col>Center.Name</th><th scope=col>Consent</th><th scope=col>⋯</th><th scope=col>LibrarySelection</th><th scope=col>LibrarySource</th><th scope=col>lineage</th><th scope=col>Organism</th><th scope=col>Platform</th><th scope=col>ReleaseDate</th><th scope=col>Sample.Name</th><th scope=col>source_name</th><th scope=col>SRA.Study</th><th scope=col>Treatment</th></tr>\n",
       "\t<tr><th></th><th scope=col>&lt;chr&gt;</th><th scope=col>&lt;chr&gt;</th><th scope=col>&lt;int&gt;</th><th scope=col>&lt;dbl&gt;</th><th scope=col>&lt;chr&gt;</th><th scope=col>&lt;chr&gt;</th><th scope=col>&lt;dbl&gt;</th><th scope=col>&lt;chr&gt;</th><th scope=col>&lt;chr&gt;</th><th scope=col>&lt;chr&gt;</th><th scope=col>⋯</th><th scope=col>&lt;chr&gt;</th><th scope=col>&lt;chr&gt;</th><th scope=col>&lt;chr&gt;</th><th scope=col>&lt;chr&gt;</th><th scope=col>&lt;chr&gt;</th><th scope=col>&lt;chr&gt;</th><th scope=col>&lt;chr&gt;</th><th scope=col>&lt;chr&gt;</th><th scope=col>&lt;chr&gt;</th><th scope=col>&lt;chr&gt;</th></tr>\n",
       "</thead>\n",
       "<tbody>\n",
       "\t<tr><th scope=row>1</th><td>SRR11007061</td><td>RNA-Seq</td><td>192</td><td> 8160479782</td><td>PRJNA484735</td><td>SAMN09768434</td><td>2579781267</td><td>CD8pos_T                </td><td>GEO</td><td>public</td><td>⋯</td><td>cDNA</td><td>TRANSCRIPTOMIC</td><td>CD8</td><td>Homo sapiens</td><td>ILLUMINA</td><td>2020-02-04T00:00:00Z</td><td>GSM3319750</td><td>primary blood</td><td>SRP156452</td><td>no_treament</td></tr>\n",
       "\t<tr><th scope=row>2</th><td>SRR11007062</td><td>RNA-Seq</td><td>195</td><td>15315982752</td><td>PRJNA484735</td><td>SAMN09768433</td><td>4836924733</td><td>CD8pos_T                </td><td>GEO</td><td>public</td><td>⋯</td><td>cDNA</td><td>TRANSCRIPTOMIC</td><td>CD8</td><td>Homo sapiens</td><td>ILLUMINA</td><td>2020-02-04T00:00:00Z</td><td>GSM3319751</td><td>primary blood</td><td>SRP156452</td><td>treatment1 </td></tr>\n",
       "\t<tr><th scope=row>3</th><td>SRR11007063</td><td>RNA-Seq</td><td>195</td><td>13128598440</td><td>PRJNA484735</td><td>SAMN09768432</td><td>4155236675</td><td>Central_memory_CD8pos_T </td><td>GEO</td><td>public</td><td>⋯</td><td>cDNA</td><td>TRANSCRIPTOMIC</td><td>CD8</td><td>Homo sapiens</td><td>ILLUMINA</td><td>2020-02-04T00:00:00Z</td><td>GSM3319752</td><td>primary blood</td><td>SRP156452</td><td>no_treament</td></tr>\n",
       "\t<tr><th scope=row>4</th><td>SRR11007064</td><td>RNA-Seq</td><td>193</td><td> 4866405615</td><td>PRJNA484735</td><td>SAMN09768431</td><td>1546902050</td><td>Central_memory_CD8pos_T </td><td>GEO</td><td>public</td><td>⋯</td><td>cDNA</td><td>TRANSCRIPTOMIC</td><td>CD8</td><td>Homo sapiens</td><td>ILLUMINA</td><td>2020-02-04T00:00:00Z</td><td>GSM3319753</td><td>primary blood</td><td>SRP156452</td><td>treatment1 </td></tr>\n",
       "\t<tr><th scope=row>5</th><td>SRR11007065</td><td>RNA-Seq</td><td>195</td><td> 9601276948</td><td>PRJNA484735</td><td>SAMN09768430</td><td>3023735003</td><td>Effector_memory_CD8pos_T</td><td>GEO</td><td>public</td><td>⋯</td><td>cDNA</td><td>TRANSCRIPTOMIC</td><td>CD8</td><td>Homo sapiens</td><td>ILLUMINA</td><td>2020-02-04T00:00:00Z</td><td>GSM3319754</td><td>primary blood</td><td>SRP156452</td><td>no_treament</td></tr>\n",
       "\t<tr><th scope=row>6</th><td>SRR11007066</td><td>RNA-Seq</td><td>196</td><td> 9273440229</td><td>PRJNA484735</td><td>SAMN09768429</td><td>2953466798</td><td>Effector_memory_CD8pos_T</td><td>GEO</td><td>public</td><td>⋯</td><td>cDNA</td><td>TRANSCRIPTOMIC</td><td>CD8</td><td>Homo sapiens</td><td>ILLUMINA</td><td>2020-02-04T00:00:00Z</td><td>GSM3319755</td><td>primary blood</td><td>SRP156452</td><td>treatment1 </td></tr>\n",
       "</tbody>\n",
       "</table>\n"
      ],
      "text/latex": [
       "A data.frame: 6 × 28\n",
       "\\begin{tabular}{r|lllllllllllllllllllll}\n",
       "  & Run & Assay.Type & AvgSpotLen & Bases & BioProject & BioSample & Bytes & cell\\_type & Center.Name & Consent & ⋯ & LibrarySelection & LibrarySource & lineage & Organism & Platform & ReleaseDate & Sample.Name & source\\_name & SRA.Study & Treatment\\\\\n",
       "  & <chr> & <chr> & <int> & <dbl> & <chr> & <chr> & <dbl> & <chr> & <chr> & <chr> & ⋯ & <chr> & <chr> & <chr> & <chr> & <chr> & <chr> & <chr> & <chr> & <chr> & <chr>\\\\\n",
       "\\hline\n",
       "\t1 & SRR11007061 & RNA-Seq & 192 &  8160479782 & PRJNA484735 & SAMN09768434 & 2579781267 & CD8pos\\_T                 & GEO & public & ⋯ & cDNA & TRANSCRIPTOMIC & CD8 & Homo sapiens & ILLUMINA & 2020-02-04T00:00:00Z & GSM3319750 & primary blood & SRP156452 & no\\_treament\\\\\n",
       "\t2 & SRR11007062 & RNA-Seq & 195 & 15315982752 & PRJNA484735 & SAMN09768433 & 4836924733 & CD8pos\\_T                 & GEO & public & ⋯ & cDNA & TRANSCRIPTOMIC & CD8 & Homo sapiens & ILLUMINA & 2020-02-04T00:00:00Z & GSM3319751 & primary blood & SRP156452 & treatment1 \\\\\n",
       "\t3 & SRR11007063 & RNA-Seq & 195 & 13128598440 & PRJNA484735 & SAMN09768432 & 4155236675 & Central\\_memory\\_CD8pos\\_T  & GEO & public & ⋯ & cDNA & TRANSCRIPTOMIC & CD8 & Homo sapiens & ILLUMINA & 2020-02-04T00:00:00Z & GSM3319752 & primary blood & SRP156452 & no\\_treament\\\\\n",
       "\t4 & SRR11007064 & RNA-Seq & 193 &  4866405615 & PRJNA484735 & SAMN09768431 & 1546902050 & Central\\_memory\\_CD8pos\\_T  & GEO & public & ⋯ & cDNA & TRANSCRIPTOMIC & CD8 & Homo sapiens & ILLUMINA & 2020-02-04T00:00:00Z & GSM3319753 & primary blood & SRP156452 & treatment1 \\\\\n",
       "\t5 & SRR11007065 & RNA-Seq & 195 &  9601276948 & PRJNA484735 & SAMN09768430 & 3023735003 & Effector\\_memory\\_CD8pos\\_T & GEO & public & ⋯ & cDNA & TRANSCRIPTOMIC & CD8 & Homo sapiens & ILLUMINA & 2020-02-04T00:00:00Z & GSM3319754 & primary blood & SRP156452 & no\\_treament\\\\\n",
       "\t6 & SRR11007066 & RNA-Seq & 196 &  9273440229 & PRJNA484735 & SAMN09768429 & 2953466798 & Effector\\_memory\\_CD8pos\\_T & GEO & public & ⋯ & cDNA & TRANSCRIPTOMIC & CD8 & Homo sapiens & ILLUMINA & 2020-02-04T00:00:00Z & GSM3319755 & primary blood & SRP156452 & treatment1 \\\\\n",
       "\\end{tabular}\n"
      ],
      "text/markdown": [
       "\n",
       "A data.frame: 6 × 28\n",
       "\n",
       "| <!--/--> | Run &lt;chr&gt; | Assay.Type &lt;chr&gt; | AvgSpotLen &lt;int&gt; | Bases &lt;dbl&gt; | BioProject &lt;chr&gt; | BioSample &lt;chr&gt; | Bytes &lt;dbl&gt; | cell_type &lt;chr&gt; | Center.Name &lt;chr&gt; | Consent &lt;chr&gt; | ⋯ ⋯ | LibrarySelection &lt;chr&gt; | LibrarySource &lt;chr&gt; | lineage &lt;chr&gt; | Organism &lt;chr&gt; | Platform &lt;chr&gt; | ReleaseDate &lt;chr&gt; | Sample.Name &lt;chr&gt; | source_name &lt;chr&gt; | SRA.Study &lt;chr&gt; | Treatment &lt;chr&gt; |\n",
       "|---|---|---|---|---|---|---|---|---|---|---|---|---|---|---|---|---|---|---|---|---|---|\n",
       "| 1 | SRR11007061 | RNA-Seq | 192 |  8160479782 | PRJNA484735 | SAMN09768434 | 2579781267 | CD8pos_T                 | GEO | public | ⋯ | cDNA | TRANSCRIPTOMIC | CD8 | Homo sapiens | ILLUMINA | 2020-02-04T00:00:00Z | GSM3319750 | primary blood | SRP156452 | no_treament |\n",
       "| 2 | SRR11007062 | RNA-Seq | 195 | 15315982752 | PRJNA484735 | SAMN09768433 | 4836924733 | CD8pos_T                 | GEO | public | ⋯ | cDNA | TRANSCRIPTOMIC | CD8 | Homo sapiens | ILLUMINA | 2020-02-04T00:00:00Z | GSM3319751 | primary blood | SRP156452 | treatment1  |\n",
       "| 3 | SRR11007063 | RNA-Seq | 195 | 13128598440 | PRJNA484735 | SAMN09768432 | 4155236675 | Central_memory_CD8pos_T  | GEO | public | ⋯ | cDNA | TRANSCRIPTOMIC | CD8 | Homo sapiens | ILLUMINA | 2020-02-04T00:00:00Z | GSM3319752 | primary blood | SRP156452 | no_treament |\n",
       "| 4 | SRR11007064 | RNA-Seq | 193 |  4866405615 | PRJNA484735 | SAMN09768431 | 1546902050 | Central_memory_CD8pos_T  | GEO | public | ⋯ | cDNA | TRANSCRIPTOMIC | CD8 | Homo sapiens | ILLUMINA | 2020-02-04T00:00:00Z | GSM3319753 | primary blood | SRP156452 | treatment1  |\n",
       "| 5 | SRR11007065 | RNA-Seq | 195 |  9601276948 | PRJNA484735 | SAMN09768430 | 3023735003 | Effector_memory_CD8pos_T | GEO | public | ⋯ | cDNA | TRANSCRIPTOMIC | CD8 | Homo sapiens | ILLUMINA | 2020-02-04T00:00:00Z | GSM3319754 | primary blood | SRP156452 | no_treament |\n",
       "| 6 | SRR11007066 | RNA-Seq | 196 |  9273440229 | PRJNA484735 | SAMN09768429 | 2953466798 | Effector_memory_CD8pos_T | GEO | public | ⋯ | cDNA | TRANSCRIPTOMIC | CD8 | Homo sapiens | ILLUMINA | 2020-02-04T00:00:00Z | GSM3319755 | primary blood | SRP156452 | treatment1  |\n",
       "\n"
      ],
      "text/plain": [
       "  Run         Assay.Type AvgSpotLen Bases       BioProject  BioSample   \n",
       "1 SRR11007061 RNA-Seq    192         8160479782 PRJNA484735 SAMN09768434\n",
       "2 SRR11007062 RNA-Seq    195        15315982752 PRJNA484735 SAMN09768433\n",
       "3 SRR11007063 RNA-Seq    195        13128598440 PRJNA484735 SAMN09768432\n",
       "4 SRR11007064 RNA-Seq    193         4866405615 PRJNA484735 SAMN09768431\n",
       "5 SRR11007065 RNA-Seq    195         9601276948 PRJNA484735 SAMN09768430\n",
       "6 SRR11007066 RNA-Seq    196         9273440229 PRJNA484735 SAMN09768429\n",
       "  Bytes      cell_type                Center.Name Consent ⋯ LibrarySelection\n",
       "1 2579781267 CD8pos_T                 GEO         public  ⋯ cDNA            \n",
       "2 4836924733 CD8pos_T                 GEO         public  ⋯ cDNA            \n",
       "3 4155236675 Central_memory_CD8pos_T  GEO         public  ⋯ cDNA            \n",
       "4 1546902050 Central_memory_CD8pos_T  GEO         public  ⋯ cDNA            \n",
       "5 3023735003 Effector_memory_CD8pos_T GEO         public  ⋯ cDNA            \n",
       "6 2953466798 Effector_memory_CD8pos_T GEO         public  ⋯ cDNA            \n",
       "  LibrarySource  lineage Organism     Platform ReleaseDate          Sample.Name\n",
       "1 TRANSCRIPTOMIC CD8     Homo sapiens ILLUMINA 2020-02-04T00:00:00Z GSM3319750 \n",
       "2 TRANSCRIPTOMIC CD8     Homo sapiens ILLUMINA 2020-02-04T00:00:00Z GSM3319751 \n",
       "3 TRANSCRIPTOMIC CD8     Homo sapiens ILLUMINA 2020-02-04T00:00:00Z GSM3319752 \n",
       "4 TRANSCRIPTOMIC CD8     Homo sapiens ILLUMINA 2020-02-04T00:00:00Z GSM3319753 \n",
       "5 TRANSCRIPTOMIC CD8     Homo sapiens ILLUMINA 2020-02-04T00:00:00Z GSM3319754 \n",
       "6 TRANSCRIPTOMIC CD8     Homo sapiens ILLUMINA 2020-02-04T00:00:00Z GSM3319755 \n",
       "  source_name   SRA.Study Treatment  \n",
       "1 primary blood SRP156452 no_treament\n",
       "2 primary blood SRP156452 treatment1 \n",
       "3 primary blood SRP156452 no_treament\n",
       "4 primary blood SRP156452 treatment1 \n",
       "5 primary blood SRP156452 no_treament\n",
       "6 primary blood SRP156452 treatment1 "
      ]
     },
     "metadata": {},
     "output_type": "display_data"
    }
   ],
   "source": [
    "head(meta)"
   ]
  },
  {
   "cell_type": "code",
   "execution_count": 5,
   "id": "0cdff4ec-e9b3-4ff1-b9f8-b71989bcc7e6",
   "metadata": {},
   "outputs": [
    {
     "data": {
      "text/html": [
       "<style>\n",
       ".list-inline {list-style: none; margin:0; padding: 0}\n",
       ".list-inline>li {display: inline-block}\n",
       ".list-inline>li:not(:last-child)::after {content: \"\\00b7\"; padding: 0 .5ex}\n",
       "</style>\n",
       "<ol class=list-inline><li>'Run'</li><li>'Assay.Type'</li><li>'AvgSpotLen'</li><li>'Bases'</li><li>'BioProject'</li><li>'BioSample'</li><li>'Bytes'</li><li>'cell_type'</li><li>'Center.Name'</li><li>'Consent'</li><li>'DATASTORE.filetype'</li><li>'DATASTORE.provider'</li><li>'DATASTORE.region'</li><li>'donor'</li><li>'Experiment'</li><li>'GEO_Accession..exp.'</li><li>'Instrument'</li><li>'LibraryLayout'</li><li>'LibrarySelection'</li><li>'LibrarySource'</li><li>'lineage'</li><li>'Organism'</li><li>'Platform'</li><li>'ReleaseDate'</li><li>'Sample.Name'</li><li>'source_name'</li><li>'SRA.Study'</li><li>'Treatment'</li></ol>\n"
      ],
      "text/latex": [
       "\\begin{enumerate*}\n",
       "\\item 'Run'\n",
       "\\item 'Assay.Type'\n",
       "\\item 'AvgSpotLen'\n",
       "\\item 'Bases'\n",
       "\\item 'BioProject'\n",
       "\\item 'BioSample'\n",
       "\\item 'Bytes'\n",
       "\\item 'cell\\_type'\n",
       "\\item 'Center.Name'\n",
       "\\item 'Consent'\n",
       "\\item 'DATASTORE.filetype'\n",
       "\\item 'DATASTORE.provider'\n",
       "\\item 'DATASTORE.region'\n",
       "\\item 'donor'\n",
       "\\item 'Experiment'\n",
       "\\item 'GEO\\_Accession..exp.'\n",
       "\\item 'Instrument'\n",
       "\\item 'LibraryLayout'\n",
       "\\item 'LibrarySelection'\n",
       "\\item 'LibrarySource'\n",
       "\\item 'lineage'\n",
       "\\item 'Organism'\n",
       "\\item 'Platform'\n",
       "\\item 'ReleaseDate'\n",
       "\\item 'Sample.Name'\n",
       "\\item 'source\\_name'\n",
       "\\item 'SRA.Study'\n",
       "\\item 'Treatment'\n",
       "\\end{enumerate*}\n"
      ],
      "text/markdown": [
       "1. 'Run'\n",
       "2. 'Assay.Type'\n",
       "3. 'AvgSpotLen'\n",
       "4. 'Bases'\n",
       "5. 'BioProject'\n",
       "6. 'BioSample'\n",
       "7. 'Bytes'\n",
       "8. 'cell_type'\n",
       "9. 'Center.Name'\n",
       "10. 'Consent'\n",
       "11. 'DATASTORE.filetype'\n",
       "12. 'DATASTORE.provider'\n",
       "13. 'DATASTORE.region'\n",
       "14. 'donor'\n",
       "15. 'Experiment'\n",
       "16. 'GEO_Accession..exp.'\n",
       "17. 'Instrument'\n",
       "18. 'LibraryLayout'\n",
       "19. 'LibrarySelection'\n",
       "20. 'LibrarySource'\n",
       "21. 'lineage'\n",
       "22. 'Organism'\n",
       "23. 'Platform'\n",
       "24. 'ReleaseDate'\n",
       "25. 'Sample.Name'\n",
       "26. 'source_name'\n",
       "27. 'SRA.Study'\n",
       "28. 'Treatment'\n",
       "\n",
       "\n"
      ],
      "text/plain": [
       " [1] \"Run\"                 \"Assay.Type\"          \"AvgSpotLen\"         \n",
       " [4] \"Bases\"               \"BioProject\"          \"BioSample\"          \n",
       " [7] \"Bytes\"               \"cell_type\"           \"Center.Name\"        \n",
       "[10] \"Consent\"             \"DATASTORE.filetype\"  \"DATASTORE.provider\" \n",
       "[13] \"DATASTORE.region\"    \"donor\"               \"Experiment\"         \n",
       "[16] \"GEO_Accession..exp.\" \"Instrument\"          \"LibraryLayout\"      \n",
       "[19] \"LibrarySelection\"    \"LibrarySource\"       \"lineage\"            \n",
       "[22] \"Organism\"            \"Platform\"            \"ReleaseDate\"        \n",
       "[25] \"Sample.Name\"         \"source_name\"         \"SRA.Study\"          \n",
       "[28] \"Treatment\"          "
      ]
     },
     "metadata": {},
     "output_type": "display_data"
    }
   ],
   "source": [
    "colnames(meta)"
   ]
  },
  {
   "cell_type": "markdown",
   "id": "aab498a5-7eee-4ec8-905e-1653629a8beb",
   "metadata": {},
   "source": [
    "## Basic Information about Data"
   ]
  },
  {
   "cell_type": "markdown",
   "id": "7087b097-4194-44a3-ac93-10aaf8ce54b4",
   "metadata": {},
   "source": [
    "There are 166 RNA-Seq samples from the Calderon *et al.* study."
   ]
  },
  {
   "cell_type": "code",
   "execution_count": 4,
   "id": "dbf42350-9a4a-4748-86a8-24f843894611",
   "metadata": {},
   "outputs": [
    {
     "data": {
      "text/html": [
       "166"
      ],
      "text/latex": [
       "166"
      ],
      "text/markdown": [
       "166"
      ],
      "text/plain": [
       "[1] 166"
      ]
     },
     "metadata": {},
     "output_type": "display_data"
    }
   ],
   "source": [
    "nrow(meta)"
   ]
  },
  {
   "cell_type": "markdown",
   "id": "c91b91e6-b1a9-4a23-8dc4-9da3e5a9e845",
   "metadata": {},
   "source": [
    "Most samples were run on an Illumina NovaSeq 6000. Some were run on an Illumina HiSeq 4000. All samples runs generated paired-end reads. Samples run on the Illumina NovaSeq 6000 generated 100 bp reads, while samples run on the Illumina HiSeq 4000 generated 76 bp reads."
   ]
  },
  {
   "cell_type": "code",
   "execution_count": 17,
   "id": "61fb4f0b-de7b-43bc-8cbd-0d2c2334ede4",
   "metadata": {},
   "outputs": [
    {
     "data": {
      "text/plain": [
       "\n",
       "  Illumina HiSeq 4000 Illumina NovaSeq 6000 \n",
       "                   19                   147 "
      ]
     },
     "metadata": {},
     "output_type": "display_data"
    },
    {
     "data": {
      "text/plain": [
       "\n",
       "PAIRED \n",
       "   166 "
      ]
     },
     "metadata": {},
     "output_type": "display_data"
    },
    {
     "data": {
      "text/plain": [
       "\n",
       "cDNA \n",
       " 166 "
      ]
     },
     "metadata": {},
     "output_type": "display_data"
    },
    {
     "data": {
      "text/plain": [
       "\n",
       "TRANSCRIPTOMIC \n",
       "           166 "
      ]
     },
     "metadata": {},
     "output_type": "display_data"
    },
    {
     "data": {
      "text/plain": [
       "\n",
       "ILLUMINA \n",
       "     166 "
      ]
     },
     "metadata": {},
     "output_type": "display_data"
    }
   ],
   "source": [
    "table(meta$Instrument)\n",
    "table(meta$LibraryLayout)\n",
    "table(meta$LibrarySelection)\n",
    "table(meta$LibrarySource)\n",
    "table(meta$Platform)"
   ]
  },
  {
   "cell_type": "code",
   "execution_count": 22,
   "id": "f96eb962-e311-41eb-8dba-6a34abcb4aaa",
   "metadata": {},
   "outputs": [
    {
     "data": {
      "image/png": "[encoded data removed]",
      "text/plain": [
       "plot without title"
      ]
     },
     "metadata": {
      "image/png": {
       "height": 420,
       "width": 420
      }
     },
     "output_type": "display_data"
    }
   ],
   "source": [
    "meta %>%\n",
    "    ggplot() +\n",
    "    geom_histogram(aes(x=AvgSpotLen, fill=Instrument), binwidth=10) +\n",
    "    scale_fill_brewer(palette=\"Pastel1\") +\n",
    "    ggplot_theme"
   ]
  },
  {
   "cell_type": "markdown",
   "id": "7a3cf508-7054-4431-beee-d7bd5179645d",
   "metadata": {},
   "source": [
    "There are 25 different primary cell types. Only 21 of them have enough samples to perform statistical tests."
   ]
  },
  {
   "cell_type": "code",
   "execution_count": 9,
   "id": "557a7b47-e73b-4ab9-a0e1-6b1254901f61",
   "metadata": {},
   "outputs": [
    {
     "data": {
      "text/html": [
       "25"
      ],
      "text/latex": [
       "25"
      ],
      "text/markdown": [
       "25"
      ],
      "text/plain": [
       "[1] 25"
      ]
     },
     "metadata": {},
     "output_type": "display_data"
    },
    {
     "data": {
      "text/plain": [
       "\n",
       "                  Bulk_B                 CD8pos_T  Central_memory_CD8pos_T \n",
       "                       7                        8                        7 \n",
       "       Effector_CD4pos_T Effector_memory_CD8pos_T      Follicular_T_Helper \n",
       "                       8                        8                        8 \n",
       "           Gamma_delta_T              Immature_NK                Mature_NK \n",
       "                       7                        1                       10 \n",
       "                   Mem_B                Memory_NK             Memory_Teffs \n",
       "                       7                        1                        8 \n",
       "            Memory_Tregs                Monocytes              Myeloid_DCs \n",
       "                       7                       12                        3 \n",
       "                 Naive_B              Naive_CD8_T              Naive_Teffs \n",
       "                       8                        8                       10 \n",
       "             Naive_Tregs                     pDCs             Plasmablasts \n",
       "                       5                        1                        1 \n",
       "            Regulatory_T           Th1_precursors          Th17_precursors \n",
       "                       7                        8                        8 \n",
       "          Th2_precursors \n",
       "                       8 "
      ]
     },
     "metadata": {},
     "output_type": "display_data"
    },
    {
     "data": {
      "text/html": [
       "21"
      ],
      "text/latex": [
       "21"
      ],
      "text/markdown": [
       "21"
      ],
      "text/plain": [
       "[1] 21"
      ]
     },
     "metadata": {},
     "output_type": "display_data"
    }
   ],
   "source": [
    "length(unique(meta$cell_type))\n",
    "table(meta$cell_type)\n",
    "sum(table(meta$cell_type) >= 3)"
   ]
  },
  {
   "cell_type": "markdown",
   "id": "a288f15c-2b78-4ed4-9351-6a59ee2a3219",
   "metadata": {},
   "source": [
    "These 25 cell types belong to 6 broad cell lineages. Most samples come from CD4 T cells, followed by CD8 T Cells."
   ]
  },
  {
   "cell_type": "code",
   "execution_count": 11,
   "id": "ed45cb1d-897d-44f3-8cac-18aa644fb103",
   "metadata": {},
   "outputs": [
    {
     "data": {
      "text/html": [
       "6"
      ],
      "text/latex": [
       "6"
      ],
      "text/markdown": [
       "6"
      ],
      "text/plain": [
       "[1] 6"
      ]
     },
     "metadata": {},
     "output_type": "display_data"
    },
    {
     "data": {
      "text/plain": [
       "\n",
       "      B     CD4     CD8      GD MYELOID      NK \n",
       "     23      77      31       7      16      12 "
      ]
     },
     "metadata": {},
     "output_type": "display_data"
    }
   ],
   "source": [
    "length(unique(meta$lineage))\n",
    "table(meta$lineage)"
   ]
  },
  {
   "cell_type": "markdown",
   "id": "b36bf1eb-e09d-44d1-8380-71224dea36a2",
   "metadata": {},
   "source": [
    "Samples were either unstimulated (`no_treament`) or stimulated (`treatment1` or `treatment2`). More than one treatment was used for Mature NK cells, Monocytes, Naive B Cells, Naive Effector T Cells, and Naive Regulatory T Cells."
   ]
  },
  {
   "cell_type": "code",
   "execution_count": 28,
   "id": "5215ff25-e82d-415f-8dab-789347e93d4b",
   "metadata": {},
   "outputs": [
    {
     "data": {
      "text/plain": [
       "\n",
       "no_treament  treatment1  treatment2 \n",
       "         83          71          12 "
      ]
     },
     "metadata": {},
     "output_type": "display_data"
    },
    {
     "data": {
      "text/plain": [
       "                          \n",
       "                           no_treament treatment1 treatment2\n",
       "  Bulk_B                             4          3          0\n",
       "  CD8pos_T                           4          4          0\n",
       "  Central_memory_CD8pos_T            3          4          0\n",
       "  Effector_CD4pos_T                  4          4          0\n",
       "  Effector_memory_CD8pos_T           4          4          0\n",
       "  Follicular_T_Helper                4          4          0\n",
       "  Gamma_delta_T                      4          3          0\n",
       "  Immature_NK                        1          0          0\n",
       "  Mature_NK                          4          4          2\n",
       "  Mem_B                              4          3          0\n",
       "  Memory_NK                          1          0          0\n",
       "  Memory_Teffs                       4          4          0\n",
       "  Memory_Tregs                       3          4          0\n",
       "  Monocytes                          4          4          4\n",
       "  Myeloid_DCs                        3          0          0\n",
       "  Naive_B                            4          2          2\n",
       "  Naive_CD8_T                        4          4          0\n",
       "  Naive_Teffs                        4          4          2\n",
       "  Naive_Tregs                        2          1          2\n",
       "  pDCs                               1          0          0\n",
       "  Plasmablasts                       1          0          0\n",
       "  Regulatory_T                       4          3          0\n",
       "  Th1_precursors                     4          4          0\n",
       "  Th17_precursors                    4          4          0\n",
       "  Th2_precursors                     4          4          0"
      ]
     },
     "metadata": {},
     "output_type": "display_data"
    }
   ],
   "source": [
    "table(meta$Treatment)\n",
    "table(meta$cell_type, meta$Treatment)"
   ]
  },
  {
   "cell_type": "markdown",
   "id": "d189c576-c4e6-4719-a0ac-f3144c607633",
   "metadata": {},
   "source": [
    "The samples were generated from 8 donors. 4 of the donors contributed to a large number of samples."
   ]
  },
  {
   "cell_type": "code",
   "execution_count": 29,
   "id": "5b645c97-e16a-4dce-9809-84885a728cb7",
   "metadata": {},
   "outputs": [
    {
     "data": {
      "text/html": [
       "8"
      ],
      "text/latex": [
       "8"
      ],
      "text/markdown": [
       "8"
      ],
      "text/plain": [
       "[1] 8"
      ]
     },
     "metadata": {},
     "output_type": "display_data"
    },
    {
     "data": {
      "text/plain": [
       "\n",
       "1001 1002 1003 1004 1008 1009 1010 1011 \n",
       "  42   35   36   34    1    5   10    3 "
      ]
     },
     "metadata": {},
     "output_type": "display_data"
    }
   ],
   "source": [
    "length(unique(meta$donor))\n",
    "table(meta$donor)"
   ]
  },
  {
   "cell_type": "code",
   "execution_count": null,
   "id": "474386fe-3ba1-4aa6-82d1-a4e07b7645e3",
   "metadata": {},
   "outputs": [],
   "source": []
  }
 ],
 "metadata": {
  "kernelspec": {
   "display_name": "R",
   "language": "R",
   "name": "ir"
  },
  "language_info": {
   "codemirror_mode": "r",
   "file_extension": ".r",
   "mimetype": "text/x-r-source",
   "name": "R",
   "pygments_lexer": "r",
   "version": "4.0.5"
  }
 },
 "nbformat": 4,
 "nbformat_minor": 5
}
