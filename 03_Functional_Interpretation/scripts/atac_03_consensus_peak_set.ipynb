{
 "cells": [
  {
   "cell_type": "markdown",
   "id": "95386c1e-e866-4d98-b1fe-b7232a2cad60",
   "metadata": {},
   "source": [
    "# Consensus Peak Set\n",
    "\n",
    "**Created**: 10 November 2021"
   ]
  },
  {
   "cell_type": "markdown",
   "id": "25d7587f-30cd-4516-824e-44e10f480f16",
   "metadata": {},
   "source": [
    "## Environment"
   ]
  },
  {
   "cell_type": "code",
   "execution_count": 1,
   "id": "cad9f30d-6ee5-46ab-97fa-4e8389d15671",
   "metadata": {},
   "outputs": [
    {
     "name": "stderr",
     "output_type": "stream",
     "text": [
      "Loading required package: Rtsne\n",
      "\n",
      "Loading required package: UpSetR\n",
      "\n",
      "Loading required namespace: patchwork\n",
      "\n"
     ]
    }
   ],
   "source": [
    "if (!require(\"Rtsne\")) {\n",
    "    install.packages(\"Rtsne\")\n",
    "}\n",
    "\n",
    "if (!require(\"UpSetR\")) {\n",
    "    install.packages(\"UpSetR\")\n",
    "}\n",
    "\n",
    "if (!requireNamespace(\"patchwork\")) {\n",
    "    install.packages(\"devtools\")\n",
    "    devtools::install_github(\"thomasp85/patchwork\")\n",
    "}"
   ]
  },
  {
   "cell_type": "code",
   "execution_count": 2,
   "id": "190c37bf-58ba-4106-84e7-6bab006cdce4",
   "metadata": {},
   "outputs": [
    {
     "name": "stderr",
     "output_type": "stream",
     "text": [
      "── \u001b[1mAttaching packages\u001b[22m ───────────────────────────────────────────────────────────────────────────────────────────────────────────────────────────────────────────────────────────────── tidyverse 1.3.1 ──\n",
      "\n",
      "\u001b[32m✔\u001b[39m \u001b[34mggplot2\u001b[39m 3.3.5     \u001b[32m✔\u001b[39m \u001b[34mpurrr  \u001b[39m 0.3.4\n",
      "\u001b[32m✔\u001b[39m \u001b[34mtibble \u001b[39m 3.1.6     \u001b[32m✔\u001b[39m \u001b[34mdplyr  \u001b[39m 1.0.8\n",
      "\u001b[32m✔\u001b[39m \u001b[34mtidyr  \u001b[39m 1.2.0     \u001b[32m✔\u001b[39m \u001b[34mstringr\u001b[39m 1.4.0\n",
      "\u001b[32m✔\u001b[39m \u001b[34mreadr  \u001b[39m 2.1.1     \u001b[32m✔\u001b[39m \u001b[34mforcats\u001b[39m 0.5.1\n",
      "\n",
      "── \u001b[1mConflicts\u001b[22m ──────────────────────────────────────────────────────────────────────────────────────────────────────────────────────────────────────────────────────────────────── tidyverse_conflicts() ──\n",
      "\u001b[31m✖\u001b[39m \u001b[34mdplyr\u001b[39m::\u001b[32mfilter()\u001b[39m masks \u001b[34mstats\u001b[39m::filter()\n",
      "\u001b[31m✖\u001b[39m \u001b[34mdplyr\u001b[39m::\u001b[32mlag()\u001b[39m    masks \u001b[34mstats\u001b[39m::lag()\n",
      "\n",
      "\n",
      "Attaching package: ‘data.table’\n",
      "\n",
      "\n",
      "The following objects are masked from ‘package:dplyr’:\n",
      "\n",
      "    between, first, last\n",
      "\n",
      "\n",
      "The following object is masked from ‘package:purrr’:\n",
      "\n",
      "    transpose\n",
      "\n",
      "\n"
     ]
    }
   ],
   "source": [
    "library(tidyverse)\n",
    "library(data.table)\n",
    "library(RColorBrewer)\n",
    "library(Rtsne)\n",
    "library(UpSetR)\n",
    "library(patchwork)\n",
    "\n",
    "setwd(\"~/eQTL_pQTL_Characterization/\")\n",
    "\n",
    "source(\"03_Functional_Interpretation/scripts/utils/ggplot_theme.R\")"
   ]
  },
  {
   "cell_type": "markdown",
   "id": "8665742a-07cc-4b01-b01b-299382a92921",
   "metadata": {},
   "source": [
    "## Load Data"
   ]
  },
  {
   "cell_type": "code",
   "execution_count": 3,
   "id": "cc3adf76-0310-41eb-9710-184b63cd56e0",
   "metadata": {},
   "outputs": [],
   "source": [
    "ia.consensus.peak.set <- fread(\"~/gains_team282/epigenetics/accessibility/analysis/atac_seq/immune/consensus_peaks.bed\")\n",
    "colnames(ia.consensus.peak.set) <- c(\"Chr\", \"Start\", \"End\", \"Peak.ID\", \"Strand\")"
   ]
  },
  {
   "cell_type": "code",
   "execution_count": 4,
   "id": "7357fec1-bd1e-4ffb-b4dd-4132318067a0",
   "metadata": {},
   "outputs": [
    {
     "data": {
      "text/html": [
       "<table class=\"dataframe\">\n",
       "<caption>A data.table: 6 × 5</caption>\n",
       "<thead>\n",
       "\t<tr><th scope=col>Chr</th><th scope=col>Start</th><th scope=col>End</th><th scope=col>Peak.ID</th><th scope=col>Strand</th></tr>\n",
       "\t<tr><th scope=col>&lt;chr&gt;</th><th scope=col>&lt;int&gt;</th><th scope=col>&lt;int&gt;</th><th scope=col>&lt;chr&gt;</th><th scope=col>&lt;chr&gt;</th></tr>\n",
       "</thead>\n",
       "<tbody>\n",
       "\t<tr><td>1</td><td>804821</td><td>805016</td><td>1:804821-805016</td><td>.</td></tr>\n",
       "\t<tr><td>1</td><td>812642</td><td>812879</td><td>1:812642-812879</td><td>.</td></tr>\n",
       "\t<tr><td>1</td><td>815224</td><td>815554</td><td>1:815224-815554</td><td>.</td></tr>\n",
       "\t<tr><td>1</td><td>817057</td><td>817622</td><td>1:817057-817622</td><td>.</td></tr>\n",
       "\t<tr><td>1</td><td>819712</td><td>820327</td><td>1:819712-820327</td><td>.</td></tr>\n",
       "\t<tr><td>1</td><td>821473</td><td>823221</td><td>1:821473-823221</td><td>.</td></tr>\n",
       "</tbody>\n",
       "</table>\n"
      ],
      "text/latex": [
       "A data.table: 6 × 5\n",
       "\\begin{tabular}{lllll}\n",
       " Chr & Start & End & Peak.ID & Strand\\\\\n",
       " <chr> & <int> & <int> & <chr> & <chr>\\\\\n",
       "\\hline\n",
       "\t 1 & 804821 & 805016 & 1:804821-805016 & .\\\\\n",
       "\t 1 & 812642 & 812879 & 1:812642-812879 & .\\\\\n",
       "\t 1 & 815224 & 815554 & 1:815224-815554 & .\\\\\n",
       "\t 1 & 817057 & 817622 & 1:817057-817622 & .\\\\\n",
       "\t 1 & 819712 & 820327 & 1:819712-820327 & .\\\\\n",
       "\t 1 & 821473 & 823221 & 1:821473-823221 & .\\\\\n",
       "\\end{tabular}\n"
      ],
      "text/markdown": [
       "\n",
       "A data.table: 6 × 5\n",
       "\n",
       "| Chr &lt;chr&gt; | Start &lt;int&gt; | End &lt;int&gt; | Peak.ID &lt;chr&gt; | Strand &lt;chr&gt; |\n",
       "|---|---|---|---|---|\n",
       "| 1 | 804821 | 805016 | 1:804821-805016 | . |\n",
       "| 1 | 812642 | 812879 | 1:812642-812879 | . |\n",
       "| 1 | 815224 | 815554 | 1:815224-815554 | . |\n",
       "| 1 | 817057 | 817622 | 1:817057-817622 | . |\n",
       "| 1 | 819712 | 820327 | 1:819712-820327 | . |\n",
       "| 1 | 821473 | 823221 | 1:821473-823221 | . |\n",
       "\n"
      ],
      "text/plain": [
       "  Chr Start  End    Peak.ID         Strand\n",
       "1 1   804821 805016 1:804821-805016 .     \n",
       "2 1   812642 812879 1:812642-812879 .     \n",
       "3 1   815224 815554 1:815224-815554 .     \n",
       "4 1   817057 817622 1:817057-817622 .     \n",
       "5 1   819712 820327 1:819712-820327 .     \n",
       "6 1   821473 823221 1:821473-823221 .     "
      ]
     },
     "metadata": {},
     "output_type": "display_data"
    }
   ],
   "source": [
    "head(ia.consensus.peak.set)"
   ]
  },
  {
   "cell_type": "code",
   "execution_count": 5,
   "id": "98066e91-80bf-4469-9be4-2e207a9b46c3",
   "metadata": {},
   "outputs": [],
   "source": [
    "rm.consensus.peak.set <- fread(\"~/gains_team282/epigenetics/accessibility/analysis/atac_seq/neutrophil/consensus_peaks.bed\")\n",
    "colnames(rm.consensus.peak.set) <- c(\"Chr\", \"Start\", \"End\", \"Peak.ID\", \"Strand\")"
   ]
  },
  {
   "cell_type": "code",
   "execution_count": 6,
   "id": "8a8e55af-afa6-4758-8628-bef50cc71b94",
   "metadata": {},
   "outputs": [
    {
     "data": {
      "text/html": [
       "<table class=\"dataframe\">\n",
       "<caption>A data.table: 6 × 5</caption>\n",
       "<thead>\n",
       "\t<tr><th scope=col>Chr</th><th scope=col>Start</th><th scope=col>End</th><th scope=col>Peak.ID</th><th scope=col>Strand</th></tr>\n",
       "\t<tr><th scope=col>&lt;chr&gt;</th><th scope=col>&lt;int&gt;</th><th scope=col>&lt;int&gt;</th><th scope=col>&lt;chr&gt;</th><th scope=col>&lt;chr&gt;</th></tr>\n",
       "</thead>\n",
       "<tbody>\n",
       "\t<tr><td>1</td><td>827317</td><td>827808</td><td>1:827317-827808</td><td>.</td></tr>\n",
       "\t<tr><td>1</td><td>869784</td><td>870190</td><td>1:869784-870190</td><td>.</td></tr>\n",
       "\t<tr><td>1</td><td>904630</td><td>904875</td><td>1:904630-904875</td><td>.</td></tr>\n",
       "\t<tr><td>1</td><td>913022</td><td>913344</td><td>1:913022-913344</td><td>.</td></tr>\n",
       "\t<tr><td>1</td><td>913595</td><td>914626</td><td>1:913595-914626</td><td>.</td></tr>\n",
       "\t<tr><td>1</td><td>918473</td><td>919352</td><td>1:918473-919352</td><td>.</td></tr>\n",
       "</tbody>\n",
       "</table>\n"
      ],
      "text/latex": [
       "A data.table: 6 × 5\n",
       "\\begin{tabular}{lllll}\n",
       " Chr & Start & End & Peak.ID & Strand\\\\\n",
       " <chr> & <int> & <int> & <chr> & <chr>\\\\\n",
       "\\hline\n",
       "\t 1 & 827317 & 827808 & 1:827317-827808 & .\\\\\n",
       "\t 1 & 869784 & 870190 & 1:869784-870190 & .\\\\\n",
       "\t 1 & 904630 & 904875 & 1:904630-904875 & .\\\\\n",
       "\t 1 & 913022 & 913344 & 1:913022-913344 & .\\\\\n",
       "\t 1 & 913595 & 914626 & 1:913595-914626 & .\\\\\n",
       "\t 1 & 918473 & 919352 & 1:918473-919352 & .\\\\\n",
       "\\end{tabular}\n"
      ],
      "text/markdown": [
       "\n",
       "A data.table: 6 × 5\n",
       "\n",
       "| Chr &lt;chr&gt; | Start &lt;int&gt; | End &lt;int&gt; | Peak.ID &lt;chr&gt; | Strand &lt;chr&gt; |\n",
       "|---|---|---|---|---|\n",
       "| 1 | 827317 | 827808 | 1:827317-827808 | . |\n",
       "| 1 | 869784 | 870190 | 1:869784-870190 | . |\n",
       "| 1 | 904630 | 904875 | 1:904630-904875 | . |\n",
       "| 1 | 913022 | 913344 | 1:913022-913344 | . |\n",
       "| 1 | 913595 | 914626 | 1:913595-914626 | . |\n",
       "| 1 | 918473 | 919352 | 1:918473-919352 | . |\n",
       "\n"
      ],
      "text/plain": [
       "  Chr Start  End    Peak.ID         Strand\n",
       "1 1   827317 827808 1:827317-827808 .     \n",
       "2 1   869784 870190 1:869784-870190 .     \n",
       "3 1   904630 904875 1:904630-904875 .     \n",
       "4 1   913022 913344 1:913022-913344 .     \n",
       "5 1   913595 914626 1:913595-914626 .     \n",
       "6 1   918473 919352 1:918473-919352 .     "
      ]
     },
     "metadata": {},
     "output_type": "display_data"
    }
   ],
   "source": [
    "head(rm.consensus.peak.set)"
   ]
  },
  {
   "cell_type": "code",
   "execution_count": 7,
   "id": "4a1a47e0-4d83-48f7-a59c-386d1a44c1f8",
   "metadata": {},
   "outputs": [],
   "source": [
    "sample.info <- read.csv(\"03_Functional_Interpretation/metadata/reads_atac_seq.txt\")\n",
    "rownames(sample.info) <- sample.info$Run\n",
    "sample.info <- sample.info %>%\n",
    "    dplyr::select(Run, Donor, Cell.Type=Cell_type, Lineage, Treatment) %>%\n",
    "    dplyr::mutate(Donor=factor(Donor), Cell.Type=factor(Cell.Type), Lineage=factor(Lineage)) %>%\n",
    "    dplyr::mutate(Treatment=recode(Treatment, no_treament=\"No_Treatment\", treatment1=\"Treatment_1\", treatment2=\"Treatment_2\"))"
   ]
  },
  {
   "cell_type": "code",
   "execution_count": 8,
   "id": "d67dea60-8551-43bc-9e23-943e96921657",
   "metadata": {},
   "outputs": [
    {
     "data": {
      "text/html": [
       "<table class=\"dataframe\">\n",
       "<caption>A data.frame: 6 × 5</caption>\n",
       "<thead>\n",
       "\t<tr><th></th><th scope=col>Run</th><th scope=col>Donor</th><th scope=col>Cell.Type</th><th scope=col>Lineage</th><th scope=col>Treatment</th></tr>\n",
       "\t<tr><th></th><th scope=col>&lt;chr&gt;</th><th scope=col>&lt;fct&gt;</th><th scope=col>&lt;fct&gt;</th><th scope=col>&lt;fct&gt;</th><th scope=col>&lt;chr&gt;</th></tr>\n",
       "</thead>\n",
       "<tbody>\n",
       "\t<tr><th scope=row>SRR2920475</th><td>SRR2920475</td><td>Corces-4983</td><td>Monocytes</td><td>MYELOID</td><td>Control</td></tr>\n",
       "\t<tr><th scope=row>SRR2920488</th><td>SRR2920488</td><td>Corces-6792</td><td>Monocytes</td><td>MYELOID</td><td>Control</td></tr>\n",
       "\t<tr><th scope=row>SRR2920476</th><td>SRR2920476</td><td>Corces-4983</td><td>Monocytes</td><td>MYELOID</td><td>Control</td></tr>\n",
       "\t<tr><th scope=row>SRR2920487</th><td>SRR2920487</td><td>Corces-6792</td><td>Monocytes</td><td>MYELOID</td><td>Control</td></tr>\n",
       "\t<tr><th scope=row>SRR2920542</th><td>SRR2920542</td><td>Corces-7256</td><td>Monocytes</td><td>MYELOID</td><td>Control</td></tr>\n",
       "\t<tr><th scope=row>SRR2920543</th><td>SRR2920543</td><td>Corces-7256</td><td>Monocytes</td><td>MYELOID</td><td>Control</td></tr>\n",
       "</tbody>\n",
       "</table>\n"
      ],
      "text/latex": [
       "A data.frame: 6 × 5\n",
       "\\begin{tabular}{r|lllll}\n",
       "  & Run & Donor & Cell.Type & Lineage & Treatment\\\\\n",
       "  & <chr> & <fct> & <fct> & <fct> & <chr>\\\\\n",
       "\\hline\n",
       "\tSRR2920475 & SRR2920475 & Corces-4983 & Monocytes & MYELOID & Control\\\\\n",
       "\tSRR2920488 & SRR2920488 & Corces-6792 & Monocytes & MYELOID & Control\\\\\n",
       "\tSRR2920476 & SRR2920476 & Corces-4983 & Monocytes & MYELOID & Control\\\\\n",
       "\tSRR2920487 & SRR2920487 & Corces-6792 & Monocytes & MYELOID & Control\\\\\n",
       "\tSRR2920542 & SRR2920542 & Corces-7256 & Monocytes & MYELOID & Control\\\\\n",
       "\tSRR2920543 & SRR2920543 & Corces-7256 & Monocytes & MYELOID & Control\\\\\n",
       "\\end{tabular}\n"
      ],
      "text/markdown": [
       "\n",
       "A data.frame: 6 × 5\n",
       "\n",
       "| <!--/--> | Run &lt;chr&gt; | Donor &lt;fct&gt; | Cell.Type &lt;fct&gt; | Lineage &lt;fct&gt; | Treatment &lt;chr&gt; |\n",
       "|---|---|---|---|---|---|\n",
       "| SRR2920475 | SRR2920475 | Corces-4983 | Monocytes | MYELOID | Control |\n",
       "| SRR2920488 | SRR2920488 | Corces-6792 | Monocytes | MYELOID | Control |\n",
       "| SRR2920476 | SRR2920476 | Corces-4983 | Monocytes | MYELOID | Control |\n",
       "| SRR2920487 | SRR2920487 | Corces-6792 | Monocytes | MYELOID | Control |\n",
       "| SRR2920542 | SRR2920542 | Corces-7256 | Monocytes | MYELOID | Control |\n",
       "| SRR2920543 | SRR2920543 | Corces-7256 | Monocytes | MYELOID | Control |\n",
       "\n"
      ],
      "text/plain": [
       "           Run        Donor       Cell.Type Lineage Treatment\n",
       "SRR2920475 SRR2920475 Corces-4983 Monocytes MYELOID Control  \n",
       "SRR2920488 SRR2920488 Corces-6792 Monocytes MYELOID Control  \n",
       "SRR2920476 SRR2920476 Corces-4983 Monocytes MYELOID Control  \n",
       "SRR2920487 SRR2920487 Corces-6792 Monocytes MYELOID Control  \n",
       "SRR2920542 SRR2920542 Corces-7256 Monocytes MYELOID Control  \n",
       "SRR2920543 SRR2920543 Corces-7256 Monocytes MYELOID Control  "
      ]
     },
     "metadata": {},
     "output_type": "display_data"
    }
   ],
   "source": [
    "head(sample.info)"
   ]
  },
  {
   "cell_type": "code",
   "execution_count": 9,
   "id": "290ad980-6691-47ce-aae7-a588b016aed5",
   "metadata": {},
   "outputs": [],
   "source": [
    "chr.lengths <- read.table(\"~/gains_team282/epigenetics/star_genome_index/chrNameLength.txt\")\n",
    "colnames(chr.lengths) <- c(\"Chr\", \"Chr.Length\")\n",
    "rownames(chr.lengths) <- chr.lengths$Chr"
   ]
  },
  {
   "cell_type": "code",
   "execution_count": 10,
   "id": "bdf91d7b-ae0c-4826-af3f-10aa1c9bf46f",
   "metadata": {},
   "outputs": [
    {
     "data": {
      "text/html": [
       "<table class=\"dataframe\">\n",
       "<caption>A data.frame: 6 × 2</caption>\n",
       "<thead>\n",
       "\t<tr><th></th><th scope=col>Chr</th><th scope=col>Chr.Length</th></tr>\n",
       "\t<tr><th></th><th scope=col>&lt;chr&gt;</th><th scope=col>&lt;int&gt;</th></tr>\n",
       "</thead>\n",
       "<tbody>\n",
       "\t<tr><th scope=row>1</th><td>1 </td><td>248956422</td></tr>\n",
       "\t<tr><th scope=row>10</th><td>10</td><td>133797422</td></tr>\n",
       "\t<tr><th scope=row>11</th><td>11</td><td>135086622</td></tr>\n",
       "\t<tr><th scope=row>12</th><td>12</td><td>133275309</td></tr>\n",
       "\t<tr><th scope=row>13</th><td>13</td><td>114364328</td></tr>\n",
       "\t<tr><th scope=row>14</th><td>14</td><td>107043718</td></tr>\n",
       "</tbody>\n",
       "</table>\n"
      ],
      "text/latex": [
       "A data.frame: 6 × 2\n",
       "\\begin{tabular}{r|ll}\n",
       "  & Chr & Chr.Length\\\\\n",
       "  & <chr> & <int>\\\\\n",
       "\\hline\n",
       "\t1 & 1  & 248956422\\\\\n",
       "\t10 & 10 & 133797422\\\\\n",
       "\t11 & 11 & 135086622\\\\\n",
       "\t12 & 12 & 133275309\\\\\n",
       "\t13 & 13 & 114364328\\\\\n",
       "\t14 & 14 & 107043718\\\\\n",
       "\\end{tabular}\n"
      ],
      "text/markdown": [
       "\n",
       "A data.frame: 6 × 2\n",
       "\n",
       "| <!--/--> | Chr &lt;chr&gt; | Chr.Length &lt;int&gt; |\n",
       "|---|---|---|\n",
       "| 1 | 1  | 248956422 |\n",
       "| 10 | 10 | 133797422 |\n",
       "| 11 | 11 | 135086622 |\n",
       "| 12 | 12 | 133275309 |\n",
       "| 13 | 13 | 114364328 |\n",
       "| 14 | 14 | 107043718 |\n",
       "\n"
      ],
      "text/plain": [
       "   Chr Chr.Length\n",
       "1  1   248956422 \n",
       "10 10  133797422 \n",
       "11 11  135086622 \n",
       "12 12  133275309 \n",
       "13 13  114364328 \n",
       "14 14  107043718 "
      ]
     },
     "metadata": {},
     "output_type": "display_data"
    }
   ],
   "source": [
    "head(chr.lengths)"
   ]
  },
  {
   "cell_type": "markdown",
   "id": "b9a6919e-c849-46b9-8389-788594d43446",
   "metadata": {},
   "source": [
    "## General Summary\n",
    "\n",
    "There are $n=296994$ peaks in the final set of the immune atlas. There are $n=58793$ in the final set of the neutrophil atlas."
   ]
  },
  {
   "cell_type": "code",
   "execution_count": 11,
   "id": "922e3ae2-35d2-4311-9f95-5ef670862f73",
   "metadata": {},
   "outputs": [
    {
     "data": {
      "text/html": [
       "296994"
      ],
      "text/latex": [
       "296994"
      ],
      "text/markdown": [
       "296994"
      ],
      "text/plain": [
       "[1] 296994"
      ]
     },
     "metadata": {},
     "output_type": "display_data"
    }
   ],
   "source": [
    "nrow(ia.consensus.peak.set)"
   ]
  },
  {
   "cell_type": "code",
   "execution_count": 12,
   "id": "422e7ae7-194c-49a0-821d-405d6d20fa05",
   "metadata": {},
   "outputs": [
    {
     "data": {
      "text/html": [
       "140923"
      ],
      "text/latex": [
       "140923"
      ],
      "text/markdown": [
       "140923"
      ],
      "text/plain": [
       "[1] 140923"
      ]
     },
     "metadata": {},
     "output_type": "display_data"
    }
   ],
   "source": [
    "nrow(rm.consensus.peak.set)"
   ]
  },
  {
   "cell_type": "markdown",
   "id": "bf82672d-f087-4ed8-8ed2-abff992c1849",
   "metadata": {},
   "source": [
    "## Peaks per Chromosome\n",
    "\n",
    "To see if there is a bias for certain chromosomes over other, I calculate the number of peaks per Mb of the chromosome. The data looks relatively consistent other than the Y chromosome, where few peaks were counted."
   ]
  },
  {
   "cell_type": "code",
   "execution_count": 13,
   "id": "3ccaf7cc-1b64-4ef9-9775-f47c536a666b",
   "metadata": {},
   "outputs": [
    {
     "data": {
      "image/png": "[encoded data removed]",
      "text/plain": [
       "plot without title"
      ]
     },
     "metadata": {
      "image/png": {
       "height": 480,
       "width": 960
      }
     },
     "output_type": "display_data"
    }
   ],
   "source": [
    "options(repr.plot.width=16, repr.plot.height=8)\n",
    "\n",
    "p1 <- ia.consensus.peak.set %>%\n",
    "    as.data.frame() %>%\n",
    "    dplyr::group_by(Chr) %>%\n",
    "    dplyr::summarize(N.Peaks=n()) %>%\n",
    "    dplyr::filter(Chr %in% c(1:22, \"X\", \"Y\")) %>%\n",
    "    dplyr::mutate(Chr=factor(Chr, levels=c(1:22, \"X\", \"Y\"))) %>%\n",
    "    merge(., chr.lengths, by=\"Chr\") %>%\n",
    "    dplyr::mutate(Normalized.N.Peaks=N.Peaks / Chr.Length * 10^6) %>%\n",
    "    ggplot() +\n",
    "    geom_bar(aes(x=Chr, y=Normalized.N.Peaks, fill=Chr), color=\"black\", stat=\"identity\") +\n",
    "    scale_fill_manual(values=colorRampPalette(brewer.pal(11, \"Spectral\"))(24)) +\n",
    "    xlab(\"Chromosome\") + ylab(\"Number of Peaks per Megabase\") +\n",
    "    guides(fill=\"none\") +\n",
    "    ggplot_theme\n",
    "\n",
    "p2 <- rm.consensus.peak.set %>%\n",
    "    as.data.frame() %>%\n",
    "    dplyr::group_by(Chr) %>%\n",
    "    dplyr::summarize(N.Peaks=n()) %>%\n",
    "    dplyr::filter(Chr %in% c(1:22, \"X\", \"Y\")) %>%\n",
    "    dplyr::mutate(Chr=factor(Chr, levels=c(1:22, \"X\", \"Y\"))) %>%\n",
    "    merge(., chr.lengths, by=\"Chr\") %>%\n",
    "    dplyr::mutate(Normalized.N.Peaks=N.Peaks / Chr.Length * 10^6) %>%\n",
    "    ggplot() +\n",
    "    geom_bar(aes(x=Chr, y=Normalized.N.Peaks, fill=Chr), color=\"black\", stat=\"identity\") +\n",
    "    scale_fill_manual(values=colorRampPalette(brewer.pal(11, \"Spectral\"))(24)) +\n",
    "    xlab(\"Chromosome\") + ylab(\"Number of Peaks per Megabase\") +\n",
    "    guides(fill=\"none\") +\n",
    "    ggplot_theme\n",
    "\n",
    "p1 + p2\n",
    "\n",
    "ggsave(\"03_Functional_Interpretation/results/consensus_peaks_per_chromosome.svg\", width=16, height=8)"
   ]
  },
  {
   "cell_type": "markdown",
   "id": "096dc658-b4a5-4261-a2c2-5c78b5cfd910",
   "metadata": {},
   "source": [
    "## Peak Width\n",
    "\n",
    "The peak size was restricted to below 3 kb. Any intersecting peaks that formed broad peaks (> 3 kb) should be pruned. The median peak size is 430. The distribution is skewed to the right, but in general the number of peaks approaching 3 kb is pretty small."
   ]
  },
  {
   "cell_type": "code",
   "execution_count": 14,
   "id": "e65f948c-8f47-4fa1-bd63-aeb1360174d3",
   "metadata": {},
   "outputs": [
    {
     "data": {
      "text/html": [
       "555"
      ],
      "text/latex": [
       "555"
      ],
      "text/markdown": [
       "555"
      ],
      "text/plain": [
       "[1] 555"
      ]
     },
     "metadata": {},
     "output_type": "display_data"
    }
   ],
   "source": [
    "ia.peak.width.data <- ia.consensus.peak.set %>%\n",
    "    as.data.frame() %>%\n",
    "    dplyr::mutate(Peak.Size=End-Start+1)\n",
    "median(ia.peak.width.data$Peak.Size)"
   ]
  },
  {
   "cell_type": "code",
   "execution_count": 15,
   "id": "b578aef2-ef5a-4816-8523-52fe529d159f",
   "metadata": {},
   "outputs": [
    {
     "data": {
      "text/html": [
       "523"
      ],
      "text/latex": [
       "523"
      ],
      "text/markdown": [
       "523"
      ],
      "text/plain": [
       "[1] 523"
      ]
     },
     "metadata": {},
     "output_type": "display_data"
    }
   ],
   "source": [
    "rm.peak.width.data <- rm.consensus.peak.set %>%\n",
    "    as.data.frame() %>%\n",
    "    dplyr::mutate(Peak.Size=End-Start+1)\n",
    "median(rm.peak.width.data$Peak.Size)"
   ]
  },
  {
   "cell_type": "code",
   "execution_count": 16,
   "id": "ce7ad52c-013f-49b4-bc82-dd2c1edc5805",
   "metadata": {},
   "outputs": [
    {
     "data": {
      "image/png": "[encoded data removed]",
      "text/plain": [
       "plot without title"
      ]
     },
     "metadata": {
      "image/png": {
       "height": 480,
       "width": 960
      }
     },
     "output_type": "display_data"
    }
   ],
   "source": [
    "options(repr.plot.width=16, repr.plot.height=8)\n",
    "\n",
    "p1 <- ia.peak.width.data %>%\n",
    "    ggplot() +\n",
    "    geom_histogram(aes(x=Peak.Size), binwidth=50, fill=\"royalblue\") +\n",
    "    geom_vline(xintercept=median(ia.peak.width.data$Peak.Size), lty=2) +\n",
    "    xlab(\"Peak Width (bp)\") + ylab(\"Frequency\") +\n",
    "    ggplot_theme\n",
    "\n",
    "p2 <- rm.peak.width.data %>%\n",
    "    ggplot() +\n",
    "    geom_histogram(aes(x=Peak.Size), binwidth=50, fill=\"royalblue\") +\n",
    "    geom_vline(xintercept=median(rm.peak.width.data$Peak.Size), lty=2) +\n",
    "    xlab(\"Peak Width (bp)\") + ylab(\"Frequency\") +\n",
    "    ggplot_theme\n",
    "\n",
    "p1 + p2\n",
    "\n",
    "ggsave(\"03_Functional_Interpretation/results/consensus_peaks_peak_width.svg\", width=16, height=8)"
   ]
  },
  {
   "cell_type": "code",
   "execution_count": null,
   "id": "92425273-154c-4235-b7a1-5ff28db4e098",
   "metadata": {},
   "outputs": [],
   "source": []
  }
 ],
 "metadata": {
  "kernelspec": {
   "display_name": "R",
   "language": "R",
   "name": "ir"
  },
  "language_info": {
   "codemirror_mode": "r",
   "file_extension": ".r",
   "mimetype": "text/x-r-source",
   "name": "R",
   "pygments_lexer": "r",
   "version": "4.0.5"
  }
 },
 "nbformat": 4,
 "nbformat_minor": 5
}
