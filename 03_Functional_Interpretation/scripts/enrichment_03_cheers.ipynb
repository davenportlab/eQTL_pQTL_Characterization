{
 "cells": [
  {
   "cell_type": "markdown",
   "id": "cb2df767-d6c8-499c-b6ef-45637881bead",
   "metadata": {
    "tags": []
   },
   "source": [
    "# CHEERS Ram-Mohan et al.\n",
    "\n",
    "**Created**: 25 March 2022"
   ]
  },
  {
   "cell_type": "markdown",
   "id": "ff5a02bf-4495-45ee-8bfa-dc97be337fb6",
   "metadata": {},
   "source": [
    "I ran my version of CHEERS on the following set of SNPs. In all cases, I included the lead SNP and any tagging SNPs ($R^2 > 0.8$).\n",
    "\n",
    "1. Lead eSNPs from Initial cis-eQTL Mapping\n",
    "2. Conditional eSNPs from cis-eQTL Mapping\n",
    "3. Conditional eSNPs that represent non-primary signals from the cis-eQTL Mapping\n",
    "3. Lead eSNPs that are sepsis-specific based on Katie's mashR analysis\n",
    "4. Lead eSNPs that are sepsis-specific and stronger in GAInS based on Katie's mashR analysis\n",
    "5. Lead eSNPs that are NOT sepsis-specific based on Katie's mashR analysis"
   ]
  },
  {
   "cell_type": "markdown",
   "id": "2367b082-0894-493f-b646-301a2274c3d2",
   "metadata": {
    "tags": []
   },
   "source": [
    "## Environment"
   ]
  },
  {
   "cell_type": "code",
   "execution_count": 1,
   "id": "013c6efe-eff9-4ef4-a36c-d3d5fb84dd9e",
   "metadata": {},
   "outputs": [
    {
     "name": "stderr",
     "output_type": "stream",
     "text": [
      "Loading required namespace: patchwork\n",
      "\n"
     ]
    }
   ],
   "source": [
    "if (!requireNamespace(\"patchwork\")) {\n",
    "    install.packages(\"devtools\")\n",
    "    devtools::install_github(\"thomasp85/patchwork\")\n",
    "}\n",
    "\n",
    "if (!requireNamespace(\"ComplexHeatmap\", quietly=TRUE)) {\n",
    "    BiocManager::install(\"ComplexHeatmap\")\n",
    "}"
   ]
  },
  {
   "cell_type": "code",
   "execution_count": 2,
   "id": "1937c453-e444-4976-97f2-72d00c9e8195",
   "metadata": {},
   "outputs": [
    {
     "name": "stderr",
     "output_type": "stream",
     "text": [
      "── \u001b[1mAttaching packages\u001b[22m ───────────────────────────────────────────────────────────────────────────────────────────────────────────────────────────────────────────────────────────────────────────── tidyverse 1.3.1 ──\n",
      "\n",
      "\u001b[32m✔\u001b[39m \u001b[34mggplot2\u001b[39m 3.3.6     \u001b[32m✔\u001b[39m \u001b[34mpurrr  \u001b[39m 0.3.4\n",
      "\u001b[32m✔\u001b[39m \u001b[34mtibble \u001b[39m 3.1.7     \u001b[32m✔\u001b[39m \u001b[34mdplyr  \u001b[39m 1.0.8\n",
      "\u001b[32m✔\u001b[39m \u001b[34mtidyr  \u001b[39m 1.2.0     \u001b[32m✔\u001b[39m \u001b[34mstringr\u001b[39m 1.4.0\n",
      "\u001b[32m✔\u001b[39m \u001b[34mreadr  \u001b[39m 2.1.1     \u001b[32m✔\u001b[39m \u001b[34mforcats\u001b[39m 0.5.1\n",
      "\n",
      "── \u001b[1mConflicts\u001b[22m ──────────────────────────────────────────────────────────────────────────────────────────────────────────────────────────────────────────────────────────────────────────────── tidyverse_conflicts() ──\n",
      "\u001b[31m✖\u001b[39m \u001b[34mdplyr\u001b[39m::\u001b[32mfilter()\u001b[39m masks \u001b[34mstats\u001b[39m::filter()\n",
      "\u001b[31m✖\u001b[39m \u001b[34mdplyr\u001b[39m::\u001b[32mlag()\u001b[39m    masks \u001b[34mstats\u001b[39m::lag()\n",
      "\n",
      "Loading required package: grid\n",
      "\n",
      "========================================\n",
      "ComplexHeatmap version 2.6.2\n",
      "Bioconductor page: http://bioconductor.org/packages/ComplexHeatmap/\n",
      "Github page: https://github.com/jokergoo/ComplexHeatmap\n",
      "Documentation: http://jokergoo.github.io/ComplexHeatmap-reference\n",
      "\n",
      "If you use it in published research, please cite:\n",
      "Gu, Z. Complex heatmaps reveal patterns and correlations in multidimensional \n",
      "  genomic data. Bioinformatics 2016.\n",
      "\n",
      "This message can be suppressed by:\n",
      "  suppressPackageStartupMessages(library(ComplexHeatmap))\n",
      "========================================\n",
      "\n",
      "\n",
      "\n",
      "Attaching package: ‘data.table’\n",
      "\n",
      "\n",
      "The following objects are masked from ‘package:dplyr’:\n",
      "\n",
      "    between, first, last\n",
      "\n",
      "\n",
      "The following object is masked from ‘package:purrr’:\n",
      "\n",
      "    transpose\n",
      "\n",
      "\n"
     ]
    }
   ],
   "source": [
    "library(tidyverse)\n",
    "library(patchwork)\n",
    "library(ComplexHeatmap)\n",
    "library(data.table)\n",
    "\n",
    "setwd(\"~/eQTL_pQTL_Characterization/\")\n",
    "\n",
    "source(\"03_Functional_Interpretation/scripts/utils/ggplot_theme.R\")"
   ]
  },
  {
   "cell_type": "markdown",
   "id": "28b7ad6f-90dc-446d-8230-414d3cded670",
   "metadata": {},
   "source": [
    "## Specific Stimulations"
   ]
  },
  {
   "cell_type": "markdown",
   "id": "782def8a-8354-4d22-90c9-1560dd9968ee",
   "metadata": {
    "tags": []
   },
   "source": [
    "### Load Data"
   ]
  },
  {
   "cell_type": "code",
   "execution_count": 3,
   "id": "ed4ddc7c-5084-4ac9-bc8d-696167c3de44",
   "metadata": {},
   "outputs": [],
   "source": [
    "lead.effects <- read.table(\n",
    "    \"~/gains_team282/epigenetics/enrichment/cheers/lead_snps_ld_disease_enrichment_observedMeanRank.txt\",\n",
    "    col.names=c(\"Condition\", \"Rank.Mean\")\n",
    ")\n",
    "conditional.effects <- read.table(\n",
    "     \"~/gains_team282/epigenetics/enrichment/cheers/conditional_snps_ld_disease_enrichment_observedMeanRank.txt\",\n",
    "    col.names=c(\"Condition\", \"Rank.Mean\")\n",
    ")\n",
    "conditional.secondary.effects <- read.table(\n",
    "     \"~/gains_team282/epigenetics/enrichment/cheers/conditional_secondary_snps_ld_disease_enrichment_observedMeanRank.txt\",\n",
    "    col.names=c(\"Condition\", \"Rank.Mean\")\n",
    ")\n",
    "non.sepsis.effects <- read.table(\n",
    "     \"~/gains_team282/epigenetics/enrichment/cheers/non_sepsis_snps_ld_disease_enrichment_observedMeanRank.txt\",\n",
    "    col.names=c(\"Condition\", \"Rank.Mean\")\n",
    ")\n",
    "sepsis.effects <- read.table(\n",
    "     \"~/gains_team282/epigenetics/enrichment/cheers/sepsis_snps_ld_disease_enrichment_observedMeanRank.txt\", \n",
    "    col.names=c(\"Condition\", \"Rank.Mean\")\n",
    ")\n",
    "sepsis.up.effects <- read.table(\n",
    "     \"~/gains_team282/epigenetics/enrichment/cheers/sepsis_up_snps_ld_disease_enrichment_observedMeanRank.txt\",\n",
    "    col.names=c(\"Condition\", \"Rank.Mean\")\n",
    ")"
   ]
  },
  {
   "cell_type": "code",
   "execution_count": 4,
   "id": "c57325e7-1359-422a-8777-a7a942be8a9f",
   "metadata": {},
   "outputs": [],
   "source": [
    "lead.p.vals <- read.table(\"~/gains_team282/epigenetics/enrichment/cheers/lead_snps_ld_disease_enrichment_pValues.txt\", col.names=c(\"Condition\", \"P.Value\"))\n",
    "conditional.p.vals <- read.table(\"~/gains_team282/epigenetics/enrichment/cheers/conditional_snps_ld_disease_enrichment_pValues.txt\", col.names=c(\"Condition\", \"P.Value\"))\n",
    "conditional.secondary.p.vals <- read.table(\"~/gains_team282/epigenetics/enrichment/cheers/conditional_secondary_snps_ld_disease_enrichment_pValues.txt\", col.names=c(\"Condition\", \"P.Value\"))\n",
    "non.sepsis.p.vals <- read.table(\"~/gains_team282/epigenetics/enrichment/cheers/non_sepsis_snps_ld_disease_enrichment_pValues.txt\", col.names=c(\"Condition\", \"P.Value\"))\n",
    "sepsis.p.vals <- read.table(\"~/gains_team282/epigenetics/enrichment/cheers/sepsis_snps_ld_disease_enrichment_pValues.txt\", col.names=c(\"Condition\", \"P.Value\"))\n",
    "sepsis.up.p.vals <- read.table(\"~/gains_team282/epigenetics/enrichment/cheers/sepsis_up_snps_ld_disease_enrichment_pValues.txt\", col.names=c(\"Condition\", \"P.Value\"))"
   ]
  },
  {
   "cell_type": "code",
   "execution_count": 5,
   "id": "28a2b8c2-ad11-4c59-a356-d7734d22a311",
   "metadata": {},
   "outputs": [],
   "source": [
    "lead.summary <- read.table(\"~/gains_team282/epigenetics/enrichment/cheers/lead_snps_ld.log\", sep=\"\\t\")\n",
    "conditional.summary <- read.table(\"~/gains_team282/epigenetics/enrichment/cheers/conditional_snps_ld.log\", sep=\"\\t\")\n",
    "conditional.secondary.summary <- read.table(\"~/gains_team282/epigenetics/enrichment/cheers/conditional_secondary_snps_ld.log\", sep=\"\\t\")\n",
    "non.sepsis.summary <- read.table(\"~/gains_team282/epigenetics/enrichment/cheers/non_sepsis_snps_ld.log\", sep=\"\\t\")\n",
    "sepsis.summary <- read.table(\"~/gains_team282/epigenetics/enrichment/cheers/sepsis_snps_ld.log\", sep=\"\\t\")\n",
    "sepsis.up.summary <- read.table(\"~/gains_team282/epigenetics/enrichment/cheers/sepsis_up_snps_ld.log\", sep=\"\\t\")"
   ]
  },
  {
   "cell_type": "markdown",
   "id": "d325754f-af3f-4d99-a542-fd7b5507936f",
   "metadata": {},
   "source": [
    "The Bonferroni-adjusted significance is adjusted based on the number of samples tested against (`nrow(lead.p.vals)`), the number of SNP lists tested (6), and the number of times the testing is done (2)."
   ]
  },
  {
   "cell_type": "code",
   "execution_count": 6,
   "id": "c5edc44c-5f95-41b1-8560-752f31bdd480",
   "metadata": {},
   "outputs": [],
   "source": [
    "critical.value <- qnorm(0.05 / (nrow(lead.p.vals) * 6 * 2), lower.tail=F)"
   ]
  },
  {
   "cell_type": "code",
   "execution_count": 7,
   "id": "8592a234-288a-48fd-bc88-5ece252a6a6d",
   "metadata": {},
   "outputs": [
    {
     "data": {
      "text/html": [
       "<table class=\"dataframe\">\n",
       "<caption>A data.frame: 6 × 3</caption>\n",
       "<thead>\n",
       "\t<tr><th></th><th scope=col>SNPs</th><th scope=col>Mean</th><th scope=col>SD</th></tr>\n",
       "\t<tr><th></th><th scope=col>&lt;chr&gt;</th><th scope=col>&lt;dbl&gt;</th><th scope=col>&lt;dbl&gt;</th></tr>\n",
       "</thead>\n",
       "<tbody>\n",
       "\t<tr><th scope=row>1</th><td>Lead cis-eQTL                 </td><td>62590</td><td> 581.1033</td></tr>\n",
       "\t<tr><th scope=row>2</th><td>Conditional cis-eQTL          </td><td>62590</td><td> 520.6573</td></tr>\n",
       "\t<tr><th scope=row>3</th><td>Conditional Secondary cis-eQTL</td><td>62590</td><td> 905.6683</td></tr>\n",
       "\t<tr><th scope=row>4</th><td>Non-Sepsis-Specific cis-eQTL  </td><td>62590</td><td> 636.1226</td></tr>\n",
       "\t<tr><th scope=row>5</th><td>Sepsis-Specific cis-eQTL      </td><td>62590</td><td>1103.1659</td></tr>\n",
       "\t<tr><th scope=row>6</th><td>Sepsis-Specific Up cis-eQTL   </td><td>62590</td><td>1848.8818</td></tr>\n",
       "</tbody>\n",
       "</table>\n"
      ],
      "text/latex": [
       "A data.frame: 6 × 3\n",
       "\\begin{tabular}{r|lll}\n",
       "  & SNPs & Mean & SD\\\\\n",
       "  & <chr> & <dbl> & <dbl>\\\\\n",
       "\\hline\n",
       "\t1 & Lead cis-eQTL                  & 62590 &  581.1033\\\\\n",
       "\t2 & Conditional cis-eQTL           & 62590 &  520.6573\\\\\n",
       "\t3 & Conditional Secondary cis-eQTL & 62590 &  905.6683\\\\\n",
       "\t4 & Non-Sepsis-Specific cis-eQTL   & 62590 &  636.1226\\\\\n",
       "\t5 & Sepsis-Specific cis-eQTL       & 62590 & 1103.1659\\\\\n",
       "\t6 & Sepsis-Specific Up cis-eQTL    & 62590 & 1848.8818\\\\\n",
       "\\end{tabular}\n"
      ],
      "text/markdown": [
       "\n",
       "A data.frame: 6 × 3\n",
       "\n",
       "| <!--/--> | SNPs &lt;chr&gt; | Mean &lt;dbl&gt; | SD &lt;dbl&gt; |\n",
       "|---|---|---|---|\n",
       "| 1 | Lead cis-eQTL                  | 62590 |  581.1033 |\n",
       "| 2 | Conditional cis-eQTL           | 62590 |  520.6573 |\n",
       "| 3 | Conditional Secondary cis-eQTL | 62590 |  905.6683 |\n",
       "| 4 | Non-Sepsis-Specific cis-eQTL   | 62590 |  636.1226 |\n",
       "| 5 | Sepsis-Specific cis-eQTL       | 62590 | 1103.1659 |\n",
       "| 6 | Sepsis-Specific Up cis-eQTL    | 62590 | 1848.8818 |\n",
       "\n"
      ],
      "text/plain": [
       "  SNPs                           Mean  SD       \n",
       "1 Lead cis-eQTL                  62590  581.1033\n",
       "2 Conditional cis-eQTL           62590  520.6573\n",
       "3 Conditional Secondary cis-eQTL 62590  905.6683\n",
       "4 Non-Sepsis-Specific cis-eQTL   62590  636.1226\n",
       "5 Sepsis-Specific cis-eQTL       62590 1103.1659\n",
       "6 Sepsis-Specific Up cis-eQTL    62590 1848.8818"
      ]
     },
     "metadata": {},
     "output_type": "display_data"
    }
   ],
   "source": [
    "stat.info <- data.frame(\n",
    "    SNPs=c(\"Lead cis-eQTL\", \"Conditional cis-eQTL\", \"Conditional Secondary cis-eQTL\", \"Non-Sepsis-Specific cis-eQTL\", \"Sepsis-Specific cis-eQTL\", \"Sepsis-Specific Up cis-eQTL\"),\n",
    "    Mean=c(lead.summary[4,2], conditional.summary[4,2], conditional.secondary.summary[4,2], non.sepsis.summary[4,2], sepsis.summary[4,2], sepsis.up.summary[4,2]),\n",
    "    SD=c(lead.summary[5,2], conditional.summary[5,2], conditional.secondary.summary[5,2], non.sepsis.summary[5,2], sepsis.summary[5,2], sepsis.up.summary[5,2])\n",
    ")\n",
    "\n",
    "head(stat.info)"
   ]
  },
  {
   "cell_type": "code",
   "execution_count": 8,
   "id": "e8a380bc-90aa-4f5d-a980-77ccfc9ce965",
   "metadata": {},
   "outputs": [
    {
     "data": {
      "text/html": [
       "<table class=\"dataframe\">\n",
       "<caption>A data.frame: 6 × 3</caption>\n",
       "<thead>\n",
       "\t<tr><th></th><th scope=col>Condition</th><th scope=col>Rank.Mean</th><th scope=col>SNPs</th></tr>\n",
       "\t<tr><th></th><th scope=col>&lt;chr&gt;</th><th scope=col>&lt;dbl&gt;</th><th scope=col>&lt;chr&gt;</th></tr>\n",
       "</thead>\n",
       "<tbody>\n",
       "\t<tr><th scope=row>1</th><td>LTA  </td><td>63657.45</td><td>Lead cis-eQTL</td></tr>\n",
       "\t<tr><th scope=row>2</th><td>LPS  </td><td>51387.24</td><td>Lead cis-eQTL</td></tr>\n",
       "\t<tr><th scope=row>3</th><td>FLAG </td><td>78224.65</td><td>Lead cis-eQTL</td></tr>\n",
       "\t<tr><th scope=row>4</th><td>R848 </td><td>74644.69</td><td>Lead cis-eQTL</td></tr>\n",
       "\t<tr><th scope=row>5</th><td>BGP  </td><td>58160.61</td><td>Lead cis-eQTL</td></tr>\n",
       "\t<tr><th scope=row>6</th><td>HMGB1</td><td>67782.31</td><td>Lead cis-eQTL</td></tr>\n",
       "</tbody>\n",
       "</table>\n"
      ],
      "text/latex": [
       "A data.frame: 6 × 3\n",
       "\\begin{tabular}{r|lll}\n",
       "  & Condition & Rank.Mean & SNPs\\\\\n",
       "  & <chr> & <dbl> & <chr>\\\\\n",
       "\\hline\n",
       "\t1 & LTA   & 63657.45 & Lead cis-eQTL\\\\\n",
       "\t2 & LPS   & 51387.24 & Lead cis-eQTL\\\\\n",
       "\t3 & FLAG  & 78224.65 & Lead cis-eQTL\\\\\n",
       "\t4 & R848  & 74644.69 & Lead cis-eQTL\\\\\n",
       "\t5 & BGP   & 58160.61 & Lead cis-eQTL\\\\\n",
       "\t6 & HMGB1 & 67782.31 & Lead cis-eQTL\\\\\n",
       "\\end{tabular}\n"
      ],
      "text/markdown": [
       "\n",
       "A data.frame: 6 × 3\n",
       "\n",
       "| <!--/--> | Condition &lt;chr&gt; | Rank.Mean &lt;dbl&gt; | SNPs &lt;chr&gt; |\n",
       "|---|---|---|---|\n",
       "| 1 | LTA   | 63657.45 | Lead cis-eQTL |\n",
       "| 2 | LPS   | 51387.24 | Lead cis-eQTL |\n",
       "| 3 | FLAG  | 78224.65 | Lead cis-eQTL |\n",
       "| 4 | R848  | 74644.69 | Lead cis-eQTL |\n",
       "| 5 | BGP   | 58160.61 | Lead cis-eQTL |\n",
       "| 6 | HMGB1 | 67782.31 | Lead cis-eQTL |\n",
       "\n"
      ],
      "text/plain": [
       "  Condition Rank.Mean SNPs         \n",
       "1 LTA       63657.45  Lead cis-eQTL\n",
       "2 LPS       51387.24  Lead cis-eQTL\n",
       "3 FLAG      78224.65  Lead cis-eQTL\n",
       "4 R848      74644.69  Lead cis-eQTL\n",
       "5 BGP       58160.61  Lead cis-eQTL\n",
       "6 HMGB1     67782.31  Lead cis-eQTL"
      ]
     },
     "metadata": {},
     "output_type": "display_data"
    }
   ],
   "source": [
    "effects <- dplyr::bind_rows(\n",
    "    lead.effects %>% dplyr::mutate(SNPs=\"Lead cis-eQTL\"),\n",
    "    conditional.effects %>% dplyr::mutate(SNPs=\"Conditional cis-eQTL\"),\n",
    "    conditional.secondary.effects %>% dplyr::mutate(SNPs=\"Conditional Secondary cis-eQTL\"),\n",
    "    non.sepsis.effects %>% dplyr::mutate(SNPs=\"Non-Sepsis-Specific cis-eQTL\"),\n",
    "    sepsis.effects %>% dplyr::mutate(SNPs=\"Sepsis-Specific cis-eQTL\"),\n",
    "    sepsis.up.effects %>% dplyr::mutate(SNPs=\"Sepsis-Specific Up cis-eQTL\")\n",
    ")\n",
    "\n",
    "head(effects)"
   ]
  },
  {
   "cell_type": "code",
   "execution_count": 9,
   "id": "160d1efe-442e-470e-94dc-02dd1c8ce252",
   "metadata": {},
   "outputs": [
    {
     "data": {
      "text/html": [
       "<table class=\"dataframe\">\n",
       "<caption>A data.frame: 6 × 3</caption>\n",
       "<thead>\n",
       "\t<tr><th></th><th scope=col>Condition</th><th scope=col>P.Value</th><th scope=col>SNPs</th></tr>\n",
       "\t<tr><th></th><th scope=col>&lt;chr&gt;</th><th scope=col>&lt;dbl&gt;</th><th scope=col>&lt;chr&gt;</th></tr>\n",
       "</thead>\n",
       "<tbody>\n",
       "\t<tr><th scope=row>1</th><td>LTA  </td><td>0.03310968</td><td>Lead cis-eQTL</td></tr>\n",
       "\t<tr><th scope=row>2</th><td>LPS  </td><td>1.00000000</td><td>Lead cis-eQTL</td></tr>\n",
       "\t<tr><th scope=row>3</th><td>FLAG </td><td>0.00000000</td><td>Lead cis-eQTL</td></tr>\n",
       "\t<tr><th scope=row>4</th><td>R848 </td><td>0.00000000</td><td>Lead cis-eQTL</td></tr>\n",
       "\t<tr><th scope=row>5</th><td>BGP  </td><td>1.00000000</td><td>Lead cis-eQTL</td></tr>\n",
       "\t<tr><th scope=row>6</th><td>HMGB1</td><td>0.00000000</td><td>Lead cis-eQTL</td></tr>\n",
       "</tbody>\n",
       "</table>\n"
      ],
      "text/latex": [
       "A data.frame: 6 × 3\n",
       "\\begin{tabular}{r|lll}\n",
       "  & Condition & P.Value & SNPs\\\\\n",
       "  & <chr> & <dbl> & <chr>\\\\\n",
       "\\hline\n",
       "\t1 & LTA   & 0.03310968 & Lead cis-eQTL\\\\\n",
       "\t2 & LPS   & 1.00000000 & Lead cis-eQTL\\\\\n",
       "\t3 & FLAG  & 0.00000000 & Lead cis-eQTL\\\\\n",
       "\t4 & R848  & 0.00000000 & Lead cis-eQTL\\\\\n",
       "\t5 & BGP   & 1.00000000 & Lead cis-eQTL\\\\\n",
       "\t6 & HMGB1 & 0.00000000 & Lead cis-eQTL\\\\\n",
       "\\end{tabular}\n"
      ],
      "text/markdown": [
       "\n",
       "A data.frame: 6 × 3\n",
       "\n",
       "| <!--/--> | Condition &lt;chr&gt; | P.Value &lt;dbl&gt; | SNPs &lt;chr&gt; |\n",
       "|---|---|---|---|\n",
       "| 1 | LTA   | 0.03310968 | Lead cis-eQTL |\n",
       "| 2 | LPS   | 1.00000000 | Lead cis-eQTL |\n",
       "| 3 | FLAG  | 0.00000000 | Lead cis-eQTL |\n",
       "| 4 | R848  | 0.00000000 | Lead cis-eQTL |\n",
       "| 5 | BGP   | 1.00000000 | Lead cis-eQTL |\n",
       "| 6 | HMGB1 | 0.00000000 | Lead cis-eQTL |\n",
       "\n"
      ],
      "text/plain": [
       "  Condition P.Value    SNPs         \n",
       "1 LTA       0.03310968 Lead cis-eQTL\n",
       "2 LPS       1.00000000 Lead cis-eQTL\n",
       "3 FLAG      0.00000000 Lead cis-eQTL\n",
       "4 R848      0.00000000 Lead cis-eQTL\n",
       "5 BGP       1.00000000 Lead cis-eQTL\n",
       "6 HMGB1     0.00000000 Lead cis-eQTL"
      ]
     },
     "metadata": {},
     "output_type": "display_data"
    }
   ],
   "source": [
    "p.vals <- dplyr::bind_rows(\n",
    "    lead.p.vals %>% dplyr::mutate(SNPs=\"Lead cis-eQTL\"),\n",
    "    conditional.p.vals %>% dplyr::mutate(SNPs=\"Conditional cis-eQTL\"),\n",
    "    conditional.secondary.p.vals %>% dplyr::mutate(SNPs=\"Conditional Secondary cis-eQTL\"),\n",
    "    non.sepsis.p.vals %>% dplyr::mutate(SNPs=\"Non-Sepsis-Specific cis-eQTL\"),\n",
    "    sepsis.p.vals %>% dplyr::mutate(SNPs=\"Sepsis-Specific cis-eQTL\"),\n",
    "    sepsis.up.p.vals %>% dplyr::mutate(SNPs=\"Sepsis-Specific Up cis-eQTL\")\n",
    ")\n",
    "\n",
    "head(p.vals)"
   ]
  },
  {
   "cell_type": "markdown",
   "id": "016555c8-f85a-49a4-a632-390a7f43ed14",
   "metadata": {
    "tags": []
   },
   "source": [
    "### Enrichment of Different SNP Lists"
   ]
  },
  {
   "cell_type": "code",
   "execution_count": 10,
   "id": "63b273ea-3505-4a19-bafb-fc027eed548b",
   "metadata": {},
   "outputs": [
    {
     "data": {
      "image/png": "[encoded data removed]",
      "text/plain": [
       "plot without title"
      ]
     },
     "metadata": {
      "image/png": {
       "height": 360,
       "width": 1500
      }
     },
     "output_type": "display_data"
    }
   ],
   "source": [
    "options(repr.plot.width=25, repr.plot.height=6)\n",
    "\n",
    "merge(effects, p.vals, by=c(\"SNPs\", \"Condition\")) %>%\n",
    "    merge(., stat.info, by=\"SNPs\") %>%\n",
    "    dplyr::mutate(SNPs=factor(SNPs, levels=c(\"Lead cis-eQTL\", \"Conditional cis-eQTL\", \"Conditional Secondary cis-eQTL\", \"Non-Sepsis-Specific cis-eQTL\", \"Sepsis-Specific cis-eQTL\", \"Sepsis-Specific Up cis-eQTL\"))) %>%\n",
    "    dplyr::mutate(Z=(Rank.Mean - Mean) / SD) %>%\n",
    "    ggplot() + \n",
    "    geom_bar(aes(x=Condition, y=Z), stat=\"identity\", width=0.5) +\n",
    "    geom_hline(aes(yintercept=critical.value), lty=2) +\n",
    "    geom_hline(aes(yintercept=0)) +\n",
    "    facet_grid(. ~ SNPs, scale=\"free_y\", space=\"free_y\") +\n",
    "    scale_fill_brewer(palette=\"Pastel1\") +\n",
    "    coord_flip() +\n",
    "    ylab(\"Z Score\") +\n",
    "    ggplot_theme +\n",
    "    theme(axis.title.y=element_blank(), strip.text.y=element_text(angle=0))\n",
    "\n",
    "ggsave(\"03_Functional_Interpretation/results/cheers_ram_mohan_et_al_all.svg\", width=25, height=6)"
   ]
  },
  {
   "cell_type": "code",
   "execution_count": 11,
   "id": "7f826a88-5503-4182-be13-c5ca5464de05",
   "metadata": {},
   "outputs": [
    {
     "data": {
      "image/png": "[encoded data removed]",
      "text/plain": [
       "plot without title"
      ]
     },
     "metadata": {
      "image/png": {
       "height": 360,
       "width": 360
      }
     },
     "output_type": "display_data"
    }
   ],
   "source": [
    "options(repr.plot.width=6, repr.plot.height=6)\n",
    "\n",
    "merge(effects, p.vals, by=c(\"SNPs\", \"Condition\")) %>%\n",
    "    merge(., stat.info, by=\"SNPs\") %>%\n",
    "    dplyr::filter(SNPs == \"Conditional cis-eQTL\") %>%\n",
    "    dplyr::mutate(Condition=factor(Condition, levels=rev(c(\"LTA\", \"LPS\", \"FLAG\", \"R848\", \"BGP\", \"HMGB1\", \"Control\")))) %>%\n",
    "    dplyr::mutate(Z=(Rank.Mean - Mean) / SD) %>%\n",
    "    ggplot() + \n",
    "    geom_bar(aes(x=Condition, y=Z), stat=\"identity\", width=0.5, fill=\"royalblue3\") +\n",
    "    geom_hline(aes(yintercept=qnorm(0.001, lower.tail=F)), lty=2) +\n",
    "    geom_hline(aes(yintercept=0)) +\n",
    "    facet_grid(. ~ SNPs, scale=\"free_y\", space=\"free_y\") +\n",
    "    scale_fill_brewer(palette=\"Pastel1\") +\n",
    "    coord_flip() +\n",
    "    ylab(\"Z Score\") +\n",
    "    ggplot_theme +\n",
    "    theme(axis.title.y=element_blank(), strip.text.y=element_text(angle=0))\n",
    "\n",
    "ggsave(\"03_Functional_Interpretation/results/cheers_ram_mohan_et_al_conditional.pdf\", width=6, height=6)"
   ]
  },
  {
   "cell_type": "markdown",
   "id": "e97e6a8a-031d-49e9-93b2-8604e36c37c1",
   "metadata": {
    "tags": []
   },
   "source": [
    "## Whole Organism Stimulation"
   ]
  },
  {
   "cell_type": "markdown",
   "id": "27c0b6c4-cfb1-43de-80a7-c19dc6c3484a",
   "metadata": {
    "tags": []
   },
   "source": [
    "### Load Data"
   ]
  },
  {
   "cell_type": "code",
   "execution_count": 12,
   "id": "6757993b-6566-4d2a-937b-2b3d38c25293",
   "metadata": {},
   "outputs": [],
   "source": [
    "lead.effects <- read.table(\n",
    "    \"~/gains_team282/epigenetics/enrichment/cheers/lead_snps_ld_WB_disease_enrichment_observedMeanRank.txt\",\n",
    "    col.names=c(\"Condition\", \"Rank.Mean\")\n",
    ")\n",
    "conditional.effects <- read.table(\n",
    "     \"~/gains_team282/epigenetics/enrichment/cheers/conditional_snps_ld_WB_disease_enrichment_observedMeanRank.txt\",\n",
    "    col.names=c(\"Condition\", \"Rank.Mean\")\n",
    ")\n",
    "conditional.secondary.effects <- read.table(\n",
    "     \"~/gains_team282/epigenetics/enrichment/cheers/conditional_secondary_snps_ld_WB_disease_enrichment_observedMeanRank.txt\",\n",
    "    col.names=c(\"Condition\", \"Rank.Mean\")\n",
    ")\n",
    "non.sepsis.effects <- read.table(\n",
    "     \"~/gains_team282/epigenetics/enrichment/cheers/non_sepsis_snps_ld_WB_disease_enrichment_observedMeanRank.txt\",\n",
    "    col.names=c(\"Condition\", \"Rank.Mean\")\n",
    ")\n",
    "sepsis.effects <- read.table(\n",
    "     \"~/gains_team282/epigenetics/enrichment/cheers/sepsis_snps_ld_WB_disease_enrichment_observedMeanRank.txt\", \n",
    "    col.names=c(\"Condition\", \"Rank.Mean\")\n",
    ")\n",
    "sepsis.up.effects <- read.table(\n",
    "     \"~/gains_team282/epigenetics/enrichment/cheers/sepsis_up_snps_ld_WB_disease_enrichment_observedMeanRank.txt\",\n",
    "    col.names=c(\"Condition\", \"Rank.Mean\")\n",
    ")"
   ]
  },
  {
   "cell_type": "code",
   "execution_count": 13,
   "id": "ae89f7aa-cb36-476c-b95f-ea820d3422e7",
   "metadata": {},
   "outputs": [],
   "source": [
    "lead.p.vals <- read.table(\"~/gains_team282/epigenetics/enrichment/cheers/lead_snps_ld_WB_disease_enrichment_pValues.txt\", col.names=c(\"Condition\", \"P.Value\"))\n",
    "conditional.p.vals <- read.table(\"~/gains_team282/epigenetics/enrichment/cheers/conditional_snps_ld_WB_disease_enrichment_pValues.txt\", col.names=c(\"Condition\", \"P.Value\"))\n",
    "conditional.secondary.p.vals <- read.table(\"~/gains_team282/epigenetics/enrichment/cheers/conditional_secondary_snps_ld_WB_disease_enrichment_pValues.txt\", col.names=c(\"Condition\", \"P.Value\"))\n",
    "non.sepsis.p.vals <- read.table(\"~/gains_team282/epigenetics/enrichment/cheers/non_sepsis_snps_ld_WB_disease_enrichment_pValues.txt\", col.names=c(\"Condition\", \"P.Value\"))\n",
    "sepsis.p.vals <- read.table(\"~/gains_team282/epigenetics/enrichment/cheers/sepsis_snps_ld_WB_disease_enrichment_pValues.txt\", col.names=c(\"Condition\", \"P.Value\"))\n",
    "sepsis.up.p.vals <- read.table(\"~/gains_team282/epigenetics/enrichment/cheers/sepsis_up_snps_ld_WB_disease_enrichment_pValues.txt\", col.names=c(\"Condition\", \"P.Value\"))"
   ]
  },
  {
   "cell_type": "code",
   "execution_count": 14,
   "id": "074bb203-ef0f-4339-a619-0d49a185e973",
   "metadata": {},
   "outputs": [],
   "source": [
    "lead.summary <- read.table(\"~/gains_team282/epigenetics/enrichment/cheers/lead_snps_ld_WB.log\", sep=\"\\t\")\n",
    "conditional.summary <- read.table(\"~/gains_team282/epigenetics/enrichment/cheers/conditional_snps_ld_WB.log\", sep=\"\\t\")\n",
    "conditional.secondary.summary <- read.table(\"~/gains_team282/epigenetics/enrichment/cheers/conditional_secondary_snps_ld_WB.log\", sep=\"\\t\")\n",
    "non.sepsis.summary <- read.table(\"~/gains_team282/epigenetics/enrichment/cheers/non_sepsis_snps_ld_WB.log\", sep=\"\\t\")\n",
    "sepsis.summary <- read.table(\"~/gains_team282/epigenetics/enrichment/cheers/sepsis_snps_ld_WB.log\", sep=\"\\t\")\n",
    "sepsis.up.summary <- read.table(\"~/gains_team282/epigenetics/enrichment/cheers/sepsis_up_snps_ld_WB.log\", sep=\"\\t\")"
   ]
  },
  {
   "cell_type": "code",
   "execution_count": 15,
   "id": "a9ddebc9-ba9d-4a98-85ef-bd6e9d62793c",
   "metadata": {},
   "outputs": [
    {
     "data": {
      "text/html": [
       "<table class=\"dataframe\">\n",
       "<caption>A data.frame: 5 × 3</caption>\n",
       "<thead>\n",
       "\t<tr><th></th><th scope=col>SNPs</th><th scope=col>Mean</th><th scope=col>SD</th></tr>\n",
       "\t<tr><th></th><th scope=col>&lt;chr&gt;</th><th scope=col>&lt;dbl&gt;</th><th scope=col>&lt;dbl&gt;</th></tr>\n",
       "</thead>\n",
       "<tbody>\n",
       "\t<tr><th scope=row>1</th><td>Lead cis-eQTL                 </td><td>62590</td><td> 576.0608</td></tr>\n",
       "\t<tr><th scope=row>2</th><td>Conditional cis-eQTL          </td><td>62590</td><td> 517.0213</td></tr>\n",
       "\t<tr><th scope=row>3</th><td>Conditional Secondary cis-eQTL</td><td>62590</td><td> 900.0328</td></tr>\n",
       "\t<tr><th scope=row>4</th><td>Non-Sepsis-Specific cis-eQTL  </td><td>62590</td><td> 631.0586</td></tr>\n",
       "\t<tr><th scope=row>5</th><td>Sepsis-Specific cis-eQTL      </td><td>62590</td><td>1089.5430</td></tr>\n",
       "</tbody>\n",
       "</table>\n"
      ],
      "text/latex": [
       "A data.frame: 5 × 3\n",
       "\\begin{tabular}{r|lll}\n",
       "  & SNPs & Mean & SD\\\\\n",
       "  & <chr> & <dbl> & <dbl>\\\\\n",
       "\\hline\n",
       "\t1 & Lead cis-eQTL                  & 62590 &  576.0608\\\\\n",
       "\t2 & Conditional cis-eQTL           & 62590 &  517.0213\\\\\n",
       "\t3 & Conditional Secondary cis-eQTL & 62590 &  900.0328\\\\\n",
       "\t4 & Non-Sepsis-Specific cis-eQTL   & 62590 &  631.0586\\\\\n",
       "\t5 & Sepsis-Specific cis-eQTL       & 62590 & 1089.5430\\\\\n",
       "\\end{tabular}\n"
      ],
      "text/markdown": [
       "\n",
       "A data.frame: 5 × 3\n",
       "\n",
       "| <!--/--> | SNPs &lt;chr&gt; | Mean &lt;dbl&gt; | SD &lt;dbl&gt; |\n",
       "|---|---|---|---|\n",
       "| 1 | Lead cis-eQTL                  | 62590 |  576.0608 |\n",
       "| 2 | Conditional cis-eQTL           | 62590 |  517.0213 |\n",
       "| 3 | Conditional Secondary cis-eQTL | 62590 |  900.0328 |\n",
       "| 4 | Non-Sepsis-Specific cis-eQTL   | 62590 |  631.0586 |\n",
       "| 5 | Sepsis-Specific cis-eQTL       | 62590 | 1089.5430 |\n",
       "\n"
      ],
      "text/plain": [
       "  SNPs                           Mean  SD       \n",
       "1 Lead cis-eQTL                  62590  576.0608\n",
       "2 Conditional cis-eQTL           62590  517.0213\n",
       "3 Conditional Secondary cis-eQTL 62590  900.0328\n",
       "4 Non-Sepsis-Specific cis-eQTL   62590  631.0586\n",
       "5 Sepsis-Specific cis-eQTL       62590 1089.5430"
      ]
     },
     "metadata": {},
     "output_type": "display_data"
    }
   ],
   "source": [
    "stat.info <- data.frame(\n",
    "    SNPs=c(\"Lead cis-eQTL\", \"Conditional cis-eQTL\", \"Conditional Secondary cis-eQTL\", \"Non-Sepsis-Specific cis-eQTL\", \"Sepsis-Specific cis-eQTL\"), #, \"Sepsis-Specific Up cis-eQTL\"),\n",
    "    Mean=c(lead.summary[4,2], conditional.summary[4,2], conditional.secondary.summary[4,2], non.sepsis.summary[4,2], sepsis.summary[4,2]), #, sepsis.up.summary[4,2]),\n",
    "    SD=c(lead.summary[5,2], conditional.summary[5,2], conditional.secondary.summary[5,2], non.sepsis.summary[5,2], sepsis.summary[5,2]) #, sepsis.up.summary[5,2])\n",
    ")\n",
    "\n",
    "head(stat.info)"
   ]
  },
  {
   "cell_type": "code",
   "execution_count": 16,
   "id": "3f244961-38bd-47b1-ba8d-190f933aec3c",
   "metadata": {},
   "outputs": [
    {
     "data": {
      "text/html": [
       "<table class=\"dataframe\">\n",
       "<caption>A data.frame: 6 × 3</caption>\n",
       "<thead>\n",
       "\t<tr><th></th><th scope=col>Condition</th><th scope=col>Rank.Mean</th><th scope=col>SNPs</th></tr>\n",
       "\t<tr><th></th><th scope=col>&lt;chr&gt;</th><th scope=col>&lt;dbl&gt;</th><th scope=col>&lt;chr&gt;</th></tr>\n",
       "</thead>\n",
       "<tbody>\n",
       "\t<tr><th scope=row>1</th><td>WB    </td><td>58890.13</td><td>Lead cis-eQTL</td></tr>\n",
       "\t<tr><th scope=row>2</th><td>SA-1  </td><td>51240.65</td><td>Lead cis-eQTL</td></tr>\n",
       "\t<tr><th scope=row>3</th><td>SA-3  </td><td>61352.12</td><td>Lead cis-eQTL</td></tr>\n",
       "\t<tr><th scope=row>4</th><td>SA-5  </td><td>64907.06</td><td>Lead cis-eQTL</td></tr>\n",
       "\t<tr><th scope=row>5</th><td>noEC1h</td><td>75703.30</td><td>Lead cis-eQTL</td></tr>\n",
       "\t<tr><th scope=row>6</th><td>noEC4h</td><td>62729.65</td><td>Lead cis-eQTL</td></tr>\n",
       "</tbody>\n",
       "</table>\n"
      ],
      "text/latex": [
       "A data.frame: 6 × 3\n",
       "\\begin{tabular}{r|lll}\n",
       "  & Condition & Rank.Mean & SNPs\\\\\n",
       "  & <chr> & <dbl> & <chr>\\\\\n",
       "\\hline\n",
       "\t1 & WB     & 58890.13 & Lead cis-eQTL\\\\\n",
       "\t2 & SA-1   & 51240.65 & Lead cis-eQTL\\\\\n",
       "\t3 & SA-3   & 61352.12 & Lead cis-eQTL\\\\\n",
       "\t4 & SA-5   & 64907.06 & Lead cis-eQTL\\\\\n",
       "\t5 & noEC1h & 75703.30 & Lead cis-eQTL\\\\\n",
       "\t6 & noEC4h & 62729.65 & Lead cis-eQTL\\\\\n",
       "\\end{tabular}\n"
      ],
      "text/markdown": [
       "\n",
       "A data.frame: 6 × 3\n",
       "\n",
       "| <!--/--> | Condition &lt;chr&gt; | Rank.Mean &lt;dbl&gt; | SNPs &lt;chr&gt; |\n",
       "|---|---|---|---|\n",
       "| 1 | WB     | 58890.13 | Lead cis-eQTL |\n",
       "| 2 | SA-1   | 51240.65 | Lead cis-eQTL |\n",
       "| 3 | SA-3   | 61352.12 | Lead cis-eQTL |\n",
       "| 4 | SA-5   | 64907.06 | Lead cis-eQTL |\n",
       "| 5 | noEC1h | 75703.30 | Lead cis-eQTL |\n",
       "| 6 | noEC4h | 62729.65 | Lead cis-eQTL |\n",
       "\n"
      ],
      "text/plain": [
       "  Condition Rank.Mean SNPs         \n",
       "1 WB        58890.13  Lead cis-eQTL\n",
       "2 SA-1      51240.65  Lead cis-eQTL\n",
       "3 SA-3      61352.12  Lead cis-eQTL\n",
       "4 SA-5      64907.06  Lead cis-eQTL\n",
       "5 noEC1h    75703.30  Lead cis-eQTL\n",
       "6 noEC4h    62729.65  Lead cis-eQTL"
      ]
     },
     "metadata": {},
     "output_type": "display_data"
    }
   ],
   "source": [
    "effects <- dplyr::bind_rows(\n",
    "    lead.effects %>% dplyr::mutate(SNPs=\"Lead cis-eQTL\"),\n",
    "    conditional.effects %>% dplyr::mutate(SNPs=\"Conditional cis-eQTL\"),\n",
    "    conditional.secondary.effects %>% dplyr::mutate(SNPs=\"Conditional Secondary cis-eQTL\"),\n",
    "    non.sepsis.effects %>% dplyr::mutate(SNPs=\"Non-Sepsis-Specific cis-eQTL\"),\n",
    "    sepsis.effects %>% dplyr::mutate(SNPs=\"Sepsis-Specific cis-eQTL\"),\n",
    "    sepsis.up.effects %>% dplyr::mutate(SNPs=\"Sepsis-Specific Up cis-eQTL\")\n",
    ")\n",
    "\n",
    "head(effects)"
   ]
  },
  {
   "cell_type": "code",
   "execution_count": 17,
   "id": "043cf1a3-2e76-4d2f-b4fc-f850e15abd19",
   "metadata": {},
   "outputs": [
    {
     "data": {
      "text/html": [
       "<table class=\"dataframe\">\n",
       "<caption>A data.frame: 6 × 3</caption>\n",
       "<thead>\n",
       "\t<tr><th></th><th scope=col>Condition</th><th scope=col>P.Value</th><th scope=col>SNPs</th></tr>\n",
       "\t<tr><th></th><th scope=col>&lt;chr&gt;</th><th scope=col>&lt;dbl&gt;</th><th scope=col>&lt;chr&gt;</th></tr>\n",
       "</thead>\n",
       "<tbody>\n",
       "\t<tr><th scope=row>1</th><td>WB    </td><td>1.000000e+00</td><td>Lead cis-eQTL</td></tr>\n",
       "\t<tr><th scope=row>2</th><td>SA-1  </td><td>1.000000e+00</td><td>Lead cis-eQTL</td></tr>\n",
       "\t<tr><th scope=row>3</th><td>SA-3  </td><td>9.841777e-01</td><td>Lead cis-eQTL</td></tr>\n",
       "\t<tr><th scope=row>4</th><td>SA-5  </td><td>2.882277e-05</td><td>Lead cis-eQTL</td></tr>\n",
       "\t<tr><th scope=row>5</th><td>noEC1h</td><td>0.000000e+00</td><td>Lead cis-eQTL</td></tr>\n",
       "\t<tr><th scope=row>6</th><td>noEC4h</td><td>4.042239e-01</td><td>Lead cis-eQTL</td></tr>\n",
       "</tbody>\n",
       "</table>\n"
      ],
      "text/latex": [
       "A data.frame: 6 × 3\n",
       "\\begin{tabular}{r|lll}\n",
       "  & Condition & P.Value & SNPs\\\\\n",
       "  & <chr> & <dbl> & <chr>\\\\\n",
       "\\hline\n",
       "\t1 & WB     & 1.000000e+00 & Lead cis-eQTL\\\\\n",
       "\t2 & SA-1   & 1.000000e+00 & Lead cis-eQTL\\\\\n",
       "\t3 & SA-3   & 9.841777e-01 & Lead cis-eQTL\\\\\n",
       "\t4 & SA-5   & 2.882277e-05 & Lead cis-eQTL\\\\\n",
       "\t5 & noEC1h & 0.000000e+00 & Lead cis-eQTL\\\\\n",
       "\t6 & noEC4h & 4.042239e-01 & Lead cis-eQTL\\\\\n",
       "\\end{tabular}\n"
      ],
      "text/markdown": [
       "\n",
       "A data.frame: 6 × 3\n",
       "\n",
       "| <!--/--> | Condition &lt;chr&gt; | P.Value &lt;dbl&gt; | SNPs &lt;chr&gt; |\n",
       "|---|---|---|---|\n",
       "| 1 | WB     | 1.000000e+00 | Lead cis-eQTL |\n",
       "| 2 | SA-1   | 1.000000e+00 | Lead cis-eQTL |\n",
       "| 3 | SA-3   | 9.841777e-01 | Lead cis-eQTL |\n",
       "| 4 | SA-5   | 2.882277e-05 | Lead cis-eQTL |\n",
       "| 5 | noEC1h | 0.000000e+00 | Lead cis-eQTL |\n",
       "| 6 | noEC4h | 4.042239e-01 | Lead cis-eQTL |\n",
       "\n"
      ],
      "text/plain": [
       "  Condition P.Value      SNPs         \n",
       "1 WB        1.000000e+00 Lead cis-eQTL\n",
       "2 SA-1      1.000000e+00 Lead cis-eQTL\n",
       "3 SA-3      9.841777e-01 Lead cis-eQTL\n",
       "4 SA-5      2.882277e-05 Lead cis-eQTL\n",
       "5 noEC1h    0.000000e+00 Lead cis-eQTL\n",
       "6 noEC4h    4.042239e-01 Lead cis-eQTL"
      ]
     },
     "metadata": {},
     "output_type": "display_data"
    }
   ],
   "source": [
    "p.vals <- dplyr::bind_rows(\n",
    "    lead.p.vals %>% dplyr::mutate(SNPs=\"Lead cis-eQTL\"),\n",
    "    conditional.p.vals %>% dplyr::mutate(SNPs=\"Conditional cis-eQTL\"),\n",
    "    conditional.secondary.p.vals %>% dplyr::mutate(SNPs=\"Conditional Secondary cis-eQTL\"),\n",
    "    non.sepsis.p.vals %>% dplyr::mutate(SNPs=\"Non-Sepsis-Specific cis-eQTL\"),\n",
    "    sepsis.p.vals %>% dplyr::mutate(SNPs=\"Sepsis-Specific cis-eQTL\"),\n",
    "    sepsis.up.p.vals %>% dplyr::mutate(SNPs=\"Sepsis-Specific Up cis-eQTL\")\n",
    ")\n",
    "\n",
    "head(p.vals)"
   ]
  },
  {
   "cell_type": "markdown",
   "id": "939c2eaf-ffbc-4d78-b84b-9cd90893ac27",
   "metadata": {
    "tags": []
   },
   "source": [
    "### Enrichment of Different SNP Lists"
   ]
  },
  {
   "cell_type": "code",
   "execution_count": 18,
   "id": "24fd2180-1fac-4cd5-a4da-76f71259920a",
   "metadata": {},
   "outputs": [
    {
     "data": {
      "image/png": "[encoded data removed]",
      "text/plain": [
       "plot without title"
      ]
     },
     "metadata": {
      "image/png": {
       "height": 360,
       "width": 1500
      }
     },
     "output_type": "display_data"
    }
   ],
   "source": [
    "options(repr.plot.width=25, repr.plot.height=6)\n",
    "\n",
    "merge(effects, p.vals, by=c(\"SNPs\", \"Condition\")) %>%\n",
    "    merge(., stat.info, by=\"SNPs\") %>%\n",
    "    dplyr::mutate(SNPs=factor(SNPs, levels=c(\"Lead cis-eQTL\", \"Conditional cis-eQTL\", \"Conditional Secondary cis-eQTL\", \"Non-Sepsis-Specific cis-eQTL\", \"Sepsis-Specific cis-eQTL\", \"Sepsis-Specific Up cis-eQTL\"))) %>%\n",
    "    dplyr::mutate(Z=(Rank.Mean - Mean) / SD) %>%\n",
    "    ggplot() + \n",
    "    geom_bar(aes(x=Condition, y=Z), stat=\"identity\", width=0.5) +\n",
    "    geom_hline(aes(yintercept=critical.value), lty=2) +\n",
    "    geom_hline(aes(yintercept=0)) +\n",
    "    facet_grid(. ~ SNPs, scale=\"free_y\", space=\"free_y\") +\n",
    "    scale_fill_brewer(palette=\"Pastel1\") +\n",
    "    coord_flip() +\n",
    "    ylab(\"Z Score\") +\n",
    "    ggplot_theme +\n",
    "    theme(axis.title.y=element_blank(), strip.text.y=element_text(angle=0))\n",
    "\n",
    "ggsave(\"03_Functional_Interpretation/results/cheers_ram_mohan_et_all_whole_organism_all.svg\", width=25, height=6)"
   ]
  },
  {
   "cell_type": "code",
   "execution_count": null,
   "id": "7ae1ed92-567f-441c-bc94-5f377681eee3",
   "metadata": {},
   "outputs": [],
   "source": []
  }
 ],
 "metadata": {
  "kernelspec": {
   "display_name": "R",
   "language": "R",
   "name": "ir"
  },
  "language_info": {
   "codemirror_mode": "r",
   "file_extension": ".r",
   "mimetype": "text/x-r-source",
   "name": "R",
   "pygments_lexer": "r",
   "version": "4.0.5"
  }
 },
 "nbformat": 4,
 "nbformat_minor": 5
}
