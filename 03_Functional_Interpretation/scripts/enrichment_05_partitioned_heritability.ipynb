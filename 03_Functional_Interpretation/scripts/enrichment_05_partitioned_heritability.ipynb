{
 "cells": [
  {
   "cell_type": "markdown",
   "id": "18f815f3-8ff2-4188-b01a-9b88347f2372",
   "metadata": {},
   "source": [
    "# Partitioned Heritability\n",
    "\n",
    "**Created**: 3 July 2022"
   ]
  },
  {
   "cell_type": "markdown",
   "id": "b7be98df-3605-44e3-8c8b-493c99c497c2",
   "metadata": {},
   "source": [
    "## Environment"
   ]
  },
  {
   "cell_type": "code",
   "execution_count": 43,
   "id": "5b026a47-942c-418e-ac25-3e657d783821",
   "metadata": {},
   "outputs": [],
   "source": [
    "library(tidyverse)\n",
    "library(ComplexHeatmap)\n",
    "library(circlize)\n",
    "\n",
    "setwd(\"~/eQTL_pQTL_Characterization/\")\n",
    "\n",
    "source(\"03_Functional_Interpretation/scripts/utils/ggplot_theme.R\")"
   ]
  },
  {
   "cell_type": "markdown",
   "id": "b56dd403-8b91-4835-82d9-2716366057da",
   "metadata": {},
   "source": [
    "## Load Data"
   ]
  },
  {
   "cell_type": "code",
   "execution_count": 44,
   "id": "460632d3-9427-4a6b-8c03-a1356557d245",
   "metadata": {},
   "outputs": [],
   "source": [
    "var.comps <- read.csv(\"~/gains_team282/epigenetics/enrichment/partitioned_heritability/variance_components.csv\")"
   ]
  },
  {
   "cell_type": "code",
   "execution_count": 45,
   "id": "ff581d5d-92aa-475f-aea0-7c7b5780303a",
   "metadata": {},
   "outputs": [
    {
     "data": {
      "text/html": [
       "<table class=\"dataframe\">\n",
       "<caption>A data.frame: 6 × 5</caption>\n",
       "<thead>\n",
       "\t<tr><th></th><th scope=col>Eigengene</th><th scope=col>Annotation</th><th scope=col>Component</th><th scope=col>Variance</th><th scope=col>Proportion</th></tr>\n",
       "\t<tr><th></th><th scope=col>&lt;chr&gt;</th><th scope=col>&lt;chr&gt;</th><th scope=col>&lt;chr&gt;</th><th scope=col>&lt;dbl&gt;</th><th scope=col>&lt;dbl&gt;</th></tr>\n",
       "</thead>\n",
       "<tbody>\n",
       "\t<tr><th scope=row>1</th><td>ME_1_1</td><td>Bulk_B-Control</td><td>Individual</td><td>5.443220e-08</td><td>1.143616e-02</td></tr>\n",
       "\t<tr><th scope=row>2</th><td>ME_1_1</td><td>Bulk_B-Control</td><td>Annotation</td><td>4.120183e-16</td><td>8.656468e-11</td></tr>\n",
       "\t<tr><th scope=row>3</th><td>ME_1_1</td><td>Bulk_B-Control</td><td>Other     </td><td>1.198100e-06</td><td>2.517198e-01</td></tr>\n",
       "\t<tr><th scope=row>4</th><td>ME_1_1</td><td>Bulk_B-Control</td><td>Residual  </td><td>3.507126e-06</td><td>7.368440e-01</td></tr>\n",
       "\t<tr><th scope=row>5</th><td>ME_2_1</td><td>Bulk_B-Control</td><td>Individual</td><td>0.000000e+00</td><td>0.000000e+00</td></tr>\n",
       "\t<tr><th scope=row>6</th><td>ME_2_1</td><td>Bulk_B-Control</td><td>Annotation</td><td>0.000000e+00</td><td>0.000000e+00</td></tr>\n",
       "</tbody>\n",
       "</table>\n"
      ],
      "text/latex": [
       "A data.frame: 6 × 5\n",
       "\\begin{tabular}{r|lllll}\n",
       "  & Eigengene & Annotation & Component & Variance & Proportion\\\\\n",
       "  & <chr> & <chr> & <chr> & <dbl> & <dbl>\\\\\n",
       "\\hline\n",
       "\t1 & ME\\_1\\_1 & Bulk\\_B-Control & Individual & 5.443220e-08 & 1.143616e-02\\\\\n",
       "\t2 & ME\\_1\\_1 & Bulk\\_B-Control & Annotation & 4.120183e-16 & 8.656468e-11\\\\\n",
       "\t3 & ME\\_1\\_1 & Bulk\\_B-Control & Other      & 1.198100e-06 & 2.517198e-01\\\\\n",
       "\t4 & ME\\_1\\_1 & Bulk\\_B-Control & Residual   & 3.507126e-06 & 7.368440e-01\\\\\n",
       "\t5 & ME\\_2\\_1 & Bulk\\_B-Control & Individual & 0.000000e+00 & 0.000000e+00\\\\\n",
       "\t6 & ME\\_2\\_1 & Bulk\\_B-Control & Annotation & 0.000000e+00 & 0.000000e+00\\\\\n",
       "\\end{tabular}\n"
      ],
      "text/markdown": [
       "\n",
       "A data.frame: 6 × 5\n",
       "\n",
       "| <!--/--> | Eigengene &lt;chr&gt; | Annotation &lt;chr&gt; | Component &lt;chr&gt; | Variance &lt;dbl&gt; | Proportion &lt;dbl&gt; |\n",
       "|---|---|---|---|---|---|\n",
       "| 1 | ME_1_1 | Bulk_B-Control | Individual | 5.443220e-08 | 1.143616e-02 |\n",
       "| 2 | ME_1_1 | Bulk_B-Control | Annotation | 4.120183e-16 | 8.656468e-11 |\n",
       "| 3 | ME_1_1 | Bulk_B-Control | Other      | 1.198100e-06 | 2.517198e-01 |\n",
       "| 4 | ME_1_1 | Bulk_B-Control | Residual   | 3.507126e-06 | 7.368440e-01 |\n",
       "| 5 | ME_2_1 | Bulk_B-Control | Individual | 0.000000e+00 | 0.000000e+00 |\n",
       "| 6 | ME_2_1 | Bulk_B-Control | Annotation | 0.000000e+00 | 0.000000e+00 |\n",
       "\n"
      ],
      "text/plain": [
       "  Eigengene Annotation     Component  Variance     Proportion  \n",
       "1 ME_1_1    Bulk_B-Control Individual 5.443220e-08 1.143616e-02\n",
       "2 ME_1_1    Bulk_B-Control Annotation 4.120183e-16 8.656468e-11\n",
       "3 ME_1_1    Bulk_B-Control Other      1.198100e-06 2.517198e-01\n",
       "4 ME_1_1    Bulk_B-Control Residual   3.507126e-06 7.368440e-01\n",
       "5 ME_2_1    Bulk_B-Control Individual 0.000000e+00 0.000000e+00\n",
       "6 ME_2_1    Bulk_B-Control Annotation 0.000000e+00 0.000000e+00"
      ]
     },
     "metadata": {},
     "output_type": "display_data"
    }
   ],
   "source": [
    "head(var.comps)"
   ]
  },
  {
   "cell_type": "code",
   "execution_count": 46,
   "id": "94dd9f6e-c924-4ffb-b2af-9359e521b56a",
   "metadata": {},
   "outputs": [],
   "source": [
    "lineages <- read.csv(\"03_Functional_Interpretation/data/Calderon_et_al_lineages.csv\") %>%\n",
    "    dplyr::bind_rows(c(\"Lineage\"=\"MYELOID\", \"Cell_Type\"=\"Neutrophils\"))"
   ]
  },
  {
   "cell_type": "code",
   "execution_count": 47,
   "id": "c670a095-f1a3-44ff-a65f-3ca7bd431ca8",
   "metadata": {},
   "outputs": [
    {
     "data": {
      "text/html": [
       "<table class=\"dataframe\">\n",
       "<caption>A data.frame: 6 × 2</caption>\n",
       "<thead>\n",
       "\t<tr><th></th><th scope=col>Lineage</th><th scope=col>Cell_Type</th></tr>\n",
       "\t<tr><th></th><th scope=col>&lt;chr&gt;</th><th scope=col>&lt;chr&gt;</th></tr>\n",
       "</thead>\n",
       "<tbody>\n",
       "\t<tr><th scope=row>1</th><td>B  </td><td>Bulk_B                 </td></tr>\n",
       "\t<tr><th scope=row>2</th><td>B  </td><td>Mem_B                  </td></tr>\n",
       "\t<tr><th scope=row>3</th><td>B  </td><td>Naive_B                </td></tr>\n",
       "\t<tr><th scope=row>4</th><td>B  </td><td>Plasmablasts           </td></tr>\n",
       "\t<tr><th scope=row>5</th><td>CD8</td><td>CD8pos_T               </td></tr>\n",
       "\t<tr><th scope=row>6</th><td>CD8</td><td>Central_memory_CD8pos_T</td></tr>\n",
       "</tbody>\n",
       "</table>\n"
      ],
      "text/latex": [
       "A data.frame: 6 × 2\n",
       "\\begin{tabular}{r|ll}\n",
       "  & Lineage & Cell\\_Type\\\\\n",
       "  & <chr> & <chr>\\\\\n",
       "\\hline\n",
       "\t1 & B   & Bulk\\_B                 \\\\\n",
       "\t2 & B   & Mem\\_B                  \\\\\n",
       "\t3 & B   & Naive\\_B                \\\\\n",
       "\t4 & B   & Plasmablasts           \\\\\n",
       "\t5 & CD8 & CD8pos\\_T               \\\\\n",
       "\t6 & CD8 & Central\\_memory\\_CD8pos\\_T\\\\\n",
       "\\end{tabular}\n"
      ],
      "text/markdown": [
       "\n",
       "A data.frame: 6 × 2\n",
       "\n",
       "| <!--/--> | Lineage &lt;chr&gt; | Cell_Type &lt;chr&gt; |\n",
       "|---|---|---|\n",
       "| 1 | B   | Bulk_B                  |\n",
       "| 2 | B   | Mem_B                   |\n",
       "| 3 | B   | Naive_B                 |\n",
       "| 4 | B   | Plasmablasts            |\n",
       "| 5 | CD8 | CD8pos_T                |\n",
       "| 6 | CD8 | Central_memory_CD8pos_T |\n",
       "\n"
      ],
      "text/plain": [
       "  Lineage Cell_Type              \n",
       "1 B       Bulk_B                 \n",
       "2 B       Mem_B                  \n",
       "3 B       Naive_B                \n",
       "4 B       Plasmablasts           \n",
       "5 CD8     CD8pos_T               \n",
       "6 CD8     Central_memory_CD8pos_T"
      ]
     },
     "metadata": {},
     "output_type": "display_data"
    }
   ],
   "source": [
    "head(lineages)"
   ]
  },
  {
   "cell_type": "markdown",
   "id": "480d9134-e95e-4977-b126-67b930af597f",
   "metadata": {},
   "source": [
    "## Heatmap of All Eigengenes"
   ]
  },
  {
   "cell_type": "code",
   "execution_count": 149,
   "id": "6e42550e-60fb-4f2a-9416-d59ed6c1aeeb",
   "metadata": {},
   "outputs": [],
   "source": [
    "control.prop.mtx <- var.comps %>%\n",
    "    dplyr::select(Annot=Annotation, everything()) %>%\n",
    "    dplyr::filter(Component == \"Annotation\") %>%\n",
    "    dplyr::filter(!grepl(\"segments\", Annot)) %>%\n",
    "    dplyr::filter(!grepl(\"cCREs\", Annot)) %>%\n",
    "    dplyr::filter(!grepl(\"Neutrophils\", Annot)) %>%\n",
    "    dplyr::filter(grepl(\"-Control\", Annot)) %>%\n",
    "    dplyr::mutate(Cell_Type = gsub(\"-.*$\", \"\", Annot)) %>%\n",
    "    dplyr::select(Eigengene, Cell_Type, Proportion) %>%\n",
    "    tidyr::spread(Cell_Type, Proportion)\n",
    "\n",
    "rownames(control.prop.mtx) <- gsub(\"_\", \" \", gsub(\"_1$\", \"\", control.prop.mtx$Eigengene))\n",
    "control.prop.mtx$Eigengene <- NULL\n",
    "control.prop.mtx <- as.matrix(control.prop.mtx)"
   ]
  },
  {
   "cell_type": "code",
   "execution_count": 150,
   "id": "7f3f2518-1cdf-4e9b-a3ec-a479c8af14b7",
   "metadata": {},
   "outputs": [],
   "source": [
    "treated.prop.mtx <- var.comps %>%\n",
    "    dplyr::select(Annot=Annotation, everything()) %>%\n",
    "    dplyr::filter(Component == \"Annotation\") %>%\n",
    "    dplyr::filter(!grepl(\"segments\", Annot)) %>%\n",
    "    dplyr::filter(!grepl(\"cCREs\", Annot)) %>%\n",
    "    dplyr::filter(!grepl(\"Neutrophils\", Annot)) %>%\n",
    "    dplyr::filter(grepl(\"-Stimulated\", Annot)) %>%\n",
    "    dplyr::mutate(Cell_Type = gsub(\"-.*$\", \"\", Annot)) %>%\n",
    "    dplyr::select(Eigengene, Cell_Type, Proportion) %>%\n",
    "    tidyr::spread(Cell_Type, Proportion)\n",
    "\n",
    "rownames(treated.prop.mtx) <- gsub(\"_\", \" \", gsub(\"_1$\", \"\", treated.prop.mtx$Eigengene))\n",
    "treated.prop.mtx$Eigengene <- NULL\n",
    "treated.prop.mtx <- as.matrix(treated.prop.mtx)"
   ]
  },
  {
   "cell_type": "code",
   "execution_count": 151,
   "id": "1f676a4a-e7be-426e-86bc-00d21032d2cb",
   "metadata": {},
   "outputs": [],
   "source": [
    "prop.mtx <- var.comps %>%\n",
    "    dplyr::select(Annot=Annotation, everything()) %>%\n",
    "    dplyr::filter(Component == \"Annotation\") %>%\n",
    "    dplyr::filter(grepl(\"Neutrophils\", Annot)) %>%\n",
    "    dplyr::mutate(Treatment = gsub(\"Neutrophils-\", \"\", Annot)) %>%\n",
    "    dplyr::select(Eigengene, Treatment, Proportion) %>%\n",
    "    tidyr::spread(Treatment, Proportion)\n",
    "\n",
    "rownames(prop.mtx) <- gsub(\"_\", \" \", gsub(\"_1$\", \"\", prop.mtx$Eigengene))\n",
    "prop.mtx$Eigengene <- NULL\n",
    "prop.mtx <- as.matrix(prop.mtx)"
   ]
  },
  {
   "cell_type": "code",
   "execution_count": 152,
   "id": "d7a370fe-a9dc-4300-8a8f-3d268fe5afbc",
   "metadata": {},
   "outputs": [],
   "source": [
    "neutrophil.map <- c(\n",
    "    \"BGP\" = \"Stimulation\", \"Control\" = \"Stimulation\", \"FLAG\" = \"Stimulation\", \"HMGB1\" = \"Stimulation\", \"LPS\" = \"Stimulation\", \"LTA\" = \"Stimulation\", \"R848\" = \"Stimulation\",\n",
    "    \"SA-1\" = \"S. aureus\", \"SA-5\" = \"S. aureus\", \"WB\" = \"S. aureus\",\n",
    "    \"EC1h\" = \"E. coli\", \"EC4h\" = \"E. coli\", \"noEC1h\" = \"E. coli\", \"noEC4h\" = \"E. coli\"\n",
    ")"
   ]
  },
  {
   "cell_type": "code",
   "execution_count": 157,
   "id": "90277eb2-b38d-459a-b451-f54d97ec754d",
   "metadata": {},
   "outputs": [
    {
     "name": "stderr",
     "output_type": "stream",
     "text": [
      "Warning message:\n",
      "“Heatmap/annotation names are duplicated: Heritability”\n",
      "Warning message:\n",
      "“Heatmap/annotation names are duplicated: Heritability, Heritability”\n"
     ]
    },
    {
     "data": {
      "text/html": [
       "<strong>png:</strong> 2"
      ],
      "text/latex": [
       "\\textbf{png:} 2"
      ],
      "text/markdown": [
       "**png:** 2"
      ],
      "text/plain": [
       "png \n",
       "  2 "
      ]
     },
     "metadata": {},
     "output_type": "display_data"
    }
   ],
   "source": [
    "options(repr.plot.width=15, repr.plot.height=24)\n",
    "\n",
    "col_fun = colorRamp2(c(0, 1), c(\"white\", \"royalblue4\"))\n",
    "\n",
    "h1 = Heatmap(\n",
    "    control.prop.mtx, name=\"Heritability\", \n",
    "    col=col_fun, show_column_dend=F, show_row_dend=F, na_col=\"white\",\n",
    "    column_split=lineages$Lineage[match(colnames(control.prop.mtx), lineages$Cell_Type)]\n",
    ")\n",
    "\n",
    "h2 = Heatmap(\n",
    "    treated.prop.mtx, name=\"Heritability\",\n",
    "    col=col_fun, show_column_dend=F, show_row_dend=F, na_col=\"white\",\n",
    "    column_split=lineages$Lineage[match(colnames(treated.prop.mtx), lineages$Cell_Type)]\n",
    ")\n",
    "\n",
    "h3 = Heatmap(\n",
    "    prop.mtx, name=\"Heritability\", \n",
    "    col=col_fun, show_column_dend=F, show_row_dend=F, na_col=\"white\",\n",
    "    column_split=neutrophil.map[colnames(prop.mtx)]\n",
    ")\n",
    "\n",
    "pdf(\"03_Functional_Interpretation/results/partitioned_heritability.pdf\", width=16, height=24)\n",
    "h1 + h2 + h3\n",
    "dev.off()"
   ]
  },
  {
   "cell_type": "code",
   "execution_count": null,
   "id": "074723b4-15d3-4f71-94c3-3fa716333647",
   "metadata": {},
   "outputs": [],
   "source": []
  }
 ],
 "metadata": {
  "kernelspec": {
   "display_name": "R",
   "language": "R",
   "name": "ir"
  },
  "language_info": {
   "codemirror_mode": "r",
   "file_extension": ".r",
   "mimetype": "text/x-r-source",
   "name": "R",
   "pygments_lexer": "r",
   "version": "4.0.5"
  }
 },
 "nbformat": 4,
 "nbformat_minor": 5
}
