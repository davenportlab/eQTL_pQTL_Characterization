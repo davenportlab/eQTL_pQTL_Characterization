{
 "cells": [
  {
   "cell_type": "markdown",
   "id": "18f815f3-8ff2-4188-b01a-9b88347f2372",
   "metadata": {},
   "source": [
    "# Partitioned Heritability\n",
    "\n",
    "**Created**: 3 July 2022"
   ]
  },
  {
   "cell_type": "markdown",
   "id": "b7be98df-3605-44e3-8c8b-493c99c497c2",
   "metadata": {},
   "source": [
    "## Environment"
   ]
  },
  {
   "cell_type": "code",
   "execution_count": 1,
   "id": "5b026a47-942c-418e-ac25-3e657d783821",
   "metadata": {},
   "outputs": [
    {
     "name": "stderr",
     "output_type": "stream",
     "text": [
      "── \u001b[1mAttaching packages\u001b[22m ───────────────────────────────────────────────────────────────────────────────────────────────────────────────────────────────────────────────────────────────────────────── tidyverse 1.3.1 ──\n",
      "\n",
      "\u001b[32m✔\u001b[39m \u001b[34mggplot2\u001b[39m 3.3.6     \u001b[32m✔\u001b[39m \u001b[34mpurrr  \u001b[39m 0.3.4\n",
      "\u001b[32m✔\u001b[39m \u001b[34mtibble \u001b[39m 3.1.7     \u001b[32m✔\u001b[39m \u001b[34mdplyr  \u001b[39m 1.0.8\n",
      "\u001b[32m✔\u001b[39m \u001b[34mtidyr  \u001b[39m 1.2.0     \u001b[32m✔\u001b[39m \u001b[34mstringr\u001b[39m 1.4.0\n",
      "\u001b[32m✔\u001b[39m \u001b[34mreadr  \u001b[39m 2.1.1     \u001b[32m✔\u001b[39m \u001b[34mforcats\u001b[39m 0.5.1\n",
      "\n",
      "── \u001b[1mConflicts\u001b[22m ──────────────────────────────────────────────────────────────────────────────────────────────────────────────────────────────────────────────────────────────────────────────── tidyverse_conflicts() ──\n",
      "\u001b[31m✖\u001b[39m \u001b[34mdplyr\u001b[39m::\u001b[32mfilter()\u001b[39m masks \u001b[34mstats\u001b[39m::filter()\n",
      "\u001b[31m✖\u001b[39m \u001b[34mdplyr\u001b[39m::\u001b[32mlag()\u001b[39m    masks \u001b[34mstats\u001b[39m::lag()\n",
      "\n",
      "Loading required package: grid\n",
      "\n",
      "========================================\n",
      "ComplexHeatmap version 2.6.2\n",
      "Bioconductor page: http://bioconductor.org/packages/ComplexHeatmap/\n",
      "Github page: https://github.com/jokergoo/ComplexHeatmap\n",
      "Documentation: http://jokergoo.github.io/ComplexHeatmap-reference\n",
      "\n",
      "If you use it in published research, please cite:\n",
      "Gu, Z. Complex heatmaps reveal patterns and correlations in multidimensional \n",
      "  genomic data. Bioinformatics 2016.\n",
      "\n",
      "This message can be suppressed by:\n",
      "  suppressPackageStartupMessages(library(ComplexHeatmap))\n",
      "========================================\n",
      "\n",
      "\n",
      "========================================\n",
      "circlize version 0.4.13\n",
      "CRAN page: https://cran.r-project.org/package=circlize\n",
      "Github page: https://github.com/jokergoo/circlize\n",
      "Documentation: https://jokergoo.github.io/circlize_book/book/\n",
      "\n",
      "If you use it in published research, please cite:\n",
      "Gu, Z. circlize implements and enhances circular visualization\n",
      "  in R. Bioinformatics 2014.\n",
      "\n",
      "This message can be suppressed by:\n",
      "  suppressPackageStartupMessages(library(circlize))\n",
      "========================================\n",
      "\n",
      "\n"
     ]
    }
   ],
   "source": [
    "library(tidyverse)\n",
    "library(ComplexHeatmap)\n",
    "library(circlize)\n",
    "\n",
    "setwd(\"~/eQTL_pQTL_Characterization/\")\n",
    "\n",
    "source(\"03_Functional_Interpretation/scripts/utils/ggplot_theme.R\")"
   ]
  },
  {
   "cell_type": "markdown",
   "id": "b56dd403-8b91-4835-82d9-2716366057da",
   "metadata": {},
   "source": [
    "## Load Data"
   ]
  },
  {
   "cell_type": "code",
   "execution_count": 2,
   "id": "460632d3-9427-4a6b-8c03-a1356557d245",
   "metadata": {},
   "outputs": [],
   "source": [
    "var.comps <- read.csv(\"~/gains_team282/epigenetics/enrichment/partitioned_heritability/variance_components.csv\")"
   ]
  },
  {
   "cell_type": "code",
   "execution_count": 3,
   "id": "ff581d5d-92aa-475f-aea0-7c7b5780303a",
   "metadata": {},
   "outputs": [
    {
     "data": {
      "text/html": [
       "<table class=\"dataframe\">\n",
       "<caption>A data.frame: 6 × 5</caption>\n",
       "<thead>\n",
       "\t<tr><th></th><th scope=col>Eigengene</th><th scope=col>Annotation</th><th scope=col>Component</th><th scope=col>Variance</th><th scope=col>Proportion</th></tr>\n",
       "\t<tr><th></th><th scope=col>&lt;chr&gt;</th><th scope=col>&lt;chr&gt;</th><th scope=col>&lt;chr&gt;</th><th scope=col>&lt;dbl&gt;</th><th scope=col>&lt;dbl&gt;</th></tr>\n",
       "</thead>\n",
       "<tbody>\n",
       "\t<tr><th scope=row>1</th><td>ME_1_1</td><td>Bulk_B-Control</td><td>Individual</td><td>5.443220e-08</td><td>1.143616e-02</td></tr>\n",
       "\t<tr><th scope=row>2</th><td>ME_1_1</td><td>Bulk_B-Control</td><td>Annotation</td><td>4.120183e-16</td><td>8.656468e-11</td></tr>\n",
       "\t<tr><th scope=row>3</th><td>ME_1_1</td><td>Bulk_B-Control</td><td>Other     </td><td>1.198100e-06</td><td>2.517198e-01</td></tr>\n",
       "\t<tr><th scope=row>4</th><td>ME_1_1</td><td>Bulk_B-Control</td><td>Residual  </td><td>3.507126e-06</td><td>7.368440e-01</td></tr>\n",
       "\t<tr><th scope=row>5</th><td>ME_2_1</td><td>Bulk_B-Control</td><td>Individual</td><td>0.000000e+00</td><td>0.000000e+00</td></tr>\n",
       "\t<tr><th scope=row>6</th><td>ME_2_1</td><td>Bulk_B-Control</td><td>Annotation</td><td>0.000000e+00</td><td>0.000000e+00</td></tr>\n",
       "</tbody>\n",
       "</table>\n"
      ],
      "text/latex": [
       "A data.frame: 6 × 5\n",
       "\\begin{tabular}{r|lllll}\n",
       "  & Eigengene & Annotation & Component & Variance & Proportion\\\\\n",
       "  & <chr> & <chr> & <chr> & <dbl> & <dbl>\\\\\n",
       "\\hline\n",
       "\t1 & ME\\_1\\_1 & Bulk\\_B-Control & Individual & 5.443220e-08 & 1.143616e-02\\\\\n",
       "\t2 & ME\\_1\\_1 & Bulk\\_B-Control & Annotation & 4.120183e-16 & 8.656468e-11\\\\\n",
       "\t3 & ME\\_1\\_1 & Bulk\\_B-Control & Other      & 1.198100e-06 & 2.517198e-01\\\\\n",
       "\t4 & ME\\_1\\_1 & Bulk\\_B-Control & Residual   & 3.507126e-06 & 7.368440e-01\\\\\n",
       "\t5 & ME\\_2\\_1 & Bulk\\_B-Control & Individual & 0.000000e+00 & 0.000000e+00\\\\\n",
       "\t6 & ME\\_2\\_1 & Bulk\\_B-Control & Annotation & 0.000000e+00 & 0.000000e+00\\\\\n",
       "\\end{tabular}\n"
      ],
      "text/markdown": [
       "\n",
       "A data.frame: 6 × 5\n",
       "\n",
       "| <!--/--> | Eigengene &lt;chr&gt; | Annotation &lt;chr&gt; | Component &lt;chr&gt; | Variance &lt;dbl&gt; | Proportion &lt;dbl&gt; |\n",
       "|---|---|---|---|---|---|\n",
       "| 1 | ME_1_1 | Bulk_B-Control | Individual | 5.443220e-08 | 1.143616e-02 |\n",
       "| 2 | ME_1_1 | Bulk_B-Control | Annotation | 4.120183e-16 | 8.656468e-11 |\n",
       "| 3 | ME_1_1 | Bulk_B-Control | Other      | 1.198100e-06 | 2.517198e-01 |\n",
       "| 4 | ME_1_1 | Bulk_B-Control | Residual   | 3.507126e-06 | 7.368440e-01 |\n",
       "| 5 | ME_2_1 | Bulk_B-Control | Individual | 0.000000e+00 | 0.000000e+00 |\n",
       "| 6 | ME_2_1 | Bulk_B-Control | Annotation | 0.000000e+00 | 0.000000e+00 |\n",
       "\n"
      ],
      "text/plain": [
       "  Eigengene Annotation     Component  Variance     Proportion  \n",
       "1 ME_1_1    Bulk_B-Control Individual 5.443220e-08 1.143616e-02\n",
       "2 ME_1_1    Bulk_B-Control Annotation 4.120183e-16 8.656468e-11\n",
       "3 ME_1_1    Bulk_B-Control Other      1.198100e-06 2.517198e-01\n",
       "4 ME_1_1    Bulk_B-Control Residual   3.507126e-06 7.368440e-01\n",
       "5 ME_2_1    Bulk_B-Control Individual 0.000000e+00 0.000000e+00\n",
       "6 ME_2_1    Bulk_B-Control Annotation 0.000000e+00 0.000000e+00"
      ]
     },
     "metadata": {},
     "output_type": "display_data"
    }
   ],
   "source": [
    "head(var.comps)"
   ]
  },
  {
   "cell_type": "code",
   "execution_count": 4,
   "id": "3a81dbfd-84d4-4e0a-b3bd-27bab13b708a",
   "metadata": {},
   "outputs": [],
   "source": [
    "annot.dir = \"/nfs/users/nfs_n/nm18/gains_team282/epigenetics/enrichment/heritability/\"\n",
    "annot.set = unique(var.comps$Annotation)\n",
    "n.snps <- lapply(annot.set, function(annot) {\n",
    "    c(\n",
    "        read.table(paste0(annot.dir, \"/\", annot, \"/n_annotation_snps.txt\"))[1, 1],\n",
    "        read.table(paste0(annot.dir, \"/\", annot, \"/n_other_snps.txt\"))[1, 1]\n",
    "    )\n",
    "}) %>%\n",
    "    do.call(rbind, .) %>%\n",
    "    as.data.frame() %>%\n",
    "    dplyr::select(SNPs.Annotation = 1, SNPs.Other = 2) %>%\n",
    "    dplyr::mutate(SNPs.Total = SNPs.Annotation + SNPs.Other)\n",
    "\n",
    "rownames(n.snps) <- annot.set"
   ]
  },
  {
   "cell_type": "code",
   "execution_count": 5,
   "id": "cbf159e8-afe0-4814-8f5a-0e04b90645ae",
   "metadata": {},
   "outputs": [
    {
     "data": {
      "text/html": [
       "<table class=\"dataframe\">\n",
       "<caption>A data.frame: 6 × 3</caption>\n",
       "<thead>\n",
       "\t<tr><th></th><th scope=col>SNPs.Annotation</th><th scope=col>SNPs.Other</th><th scope=col>SNPs.Total</th></tr>\n",
       "\t<tr><th></th><th scope=col>&lt;int&gt;</th><th scope=col>&lt;int&gt;</th><th scope=col>&lt;int&gt;</th></tr>\n",
       "</thead>\n",
       "<tbody>\n",
       "\t<tr><th scope=row>Bulk_B-Control</th><td>59881</td><td>4097145</td><td>4157026</td></tr>\n",
       "\t<tr><th scope=row>Bulk_B-Stimulated</th><td>74329</td><td>4082697</td><td>4157026</td></tr>\n",
       "\t<tr><th scope=row>CD8pos_T-Control</th><td>63797</td><td>4093229</td><td>4157026</td></tr>\n",
       "\t<tr><th scope=row>CD8pos_T-Stimulated</th><td>73627</td><td>4083399</td><td>4157026</td></tr>\n",
       "\t<tr><th scope=row>Central_memory_CD8pos_T-Control</th><td>57804</td><td>4099222</td><td>4157026</td></tr>\n",
       "\t<tr><th scope=row>Central_memory_CD8pos_T-Stimulated</th><td>73442</td><td>4083584</td><td>4157026</td></tr>\n",
       "</tbody>\n",
       "</table>\n"
      ],
      "text/latex": [
       "A data.frame: 6 × 3\n",
       "\\begin{tabular}{r|lll}\n",
       "  & SNPs.Annotation & SNPs.Other & SNPs.Total\\\\\n",
       "  & <int> & <int> & <int>\\\\\n",
       "\\hline\n",
       "\tBulk\\_B-Control & 59881 & 4097145 & 4157026\\\\\n",
       "\tBulk\\_B-Stimulated & 74329 & 4082697 & 4157026\\\\\n",
       "\tCD8pos\\_T-Control & 63797 & 4093229 & 4157026\\\\\n",
       "\tCD8pos\\_T-Stimulated & 73627 & 4083399 & 4157026\\\\\n",
       "\tCentral\\_memory\\_CD8pos\\_T-Control & 57804 & 4099222 & 4157026\\\\\n",
       "\tCentral\\_memory\\_CD8pos\\_T-Stimulated & 73442 & 4083584 & 4157026\\\\\n",
       "\\end{tabular}\n"
      ],
      "text/markdown": [
       "\n",
       "A data.frame: 6 × 3\n",
       "\n",
       "| <!--/--> | SNPs.Annotation &lt;int&gt; | SNPs.Other &lt;int&gt; | SNPs.Total &lt;int&gt; |\n",
       "|---|---|---|---|\n",
       "| Bulk_B-Control | 59881 | 4097145 | 4157026 |\n",
       "| Bulk_B-Stimulated | 74329 | 4082697 | 4157026 |\n",
       "| CD8pos_T-Control | 63797 | 4093229 | 4157026 |\n",
       "| CD8pos_T-Stimulated | 73627 | 4083399 | 4157026 |\n",
       "| Central_memory_CD8pos_T-Control | 57804 | 4099222 | 4157026 |\n",
       "| Central_memory_CD8pos_T-Stimulated | 73442 | 4083584 | 4157026 |\n",
       "\n"
      ],
      "text/plain": [
       "                                   SNPs.Annotation SNPs.Other SNPs.Total\n",
       "Bulk_B-Control                     59881           4097145    4157026   \n",
       "Bulk_B-Stimulated                  74329           4082697    4157026   \n",
       "CD8pos_T-Control                   63797           4093229    4157026   \n",
       "CD8pos_T-Stimulated                73627           4083399    4157026   \n",
       "Central_memory_CD8pos_T-Control    57804           4099222    4157026   \n",
       "Central_memory_CD8pos_T-Stimulated 73442           4083584    4157026   "
      ]
     },
     "metadata": {},
     "output_type": "display_data"
    }
   ],
   "source": [
    "head(n.snps)"
   ]
  },
  {
   "cell_type": "code",
   "execution_count": 6,
   "id": "fb1d51df-319d-4295-b091-5d96d10370e4",
   "metadata": {},
   "outputs": [],
   "source": [
    "var.comps <- merge(var.comps, n.snps, by.x=\"Annotation\", by.y=0)"
   ]
  },
  {
   "cell_type": "code",
   "execution_count": 7,
   "id": "94dd9f6e-c924-4ffb-b2af-9359e521b56a",
   "metadata": {},
   "outputs": [],
   "source": [
    "lineages <- read.csv(\"03_Functional_Interpretation/data/Calderon_et_al_lineages.csv\") %>%\n",
    "    dplyr::bind_rows(c(\"Lineage\"=\"MYELOID\", \"Cell_Type\"=\"Neutrophils\"))"
   ]
  },
  {
   "cell_type": "code",
   "execution_count": 8,
   "id": "c670a095-f1a3-44ff-a65f-3ca7bd431ca8",
   "metadata": {},
   "outputs": [
    {
     "data": {
      "text/html": [
       "<table class=\"dataframe\">\n",
       "<caption>A data.frame: 6 × 2</caption>\n",
       "<thead>\n",
       "\t<tr><th></th><th scope=col>Lineage</th><th scope=col>Cell_Type</th></tr>\n",
       "\t<tr><th></th><th scope=col>&lt;chr&gt;</th><th scope=col>&lt;chr&gt;</th></tr>\n",
       "</thead>\n",
       "<tbody>\n",
       "\t<tr><th scope=row>1</th><td>B  </td><td>Bulk_B                 </td></tr>\n",
       "\t<tr><th scope=row>2</th><td>B  </td><td>Mem_B                  </td></tr>\n",
       "\t<tr><th scope=row>3</th><td>B  </td><td>Naive_B                </td></tr>\n",
       "\t<tr><th scope=row>4</th><td>B  </td><td>Plasmablasts           </td></tr>\n",
       "\t<tr><th scope=row>5</th><td>CD8</td><td>CD8pos_T               </td></tr>\n",
       "\t<tr><th scope=row>6</th><td>CD8</td><td>Central_memory_CD8pos_T</td></tr>\n",
       "</tbody>\n",
       "</table>\n"
      ],
      "text/latex": [
       "A data.frame: 6 × 2\n",
       "\\begin{tabular}{r|ll}\n",
       "  & Lineage & Cell\\_Type\\\\\n",
       "  & <chr> & <chr>\\\\\n",
       "\\hline\n",
       "\t1 & B   & Bulk\\_B                 \\\\\n",
       "\t2 & B   & Mem\\_B                  \\\\\n",
       "\t3 & B   & Naive\\_B                \\\\\n",
       "\t4 & B   & Plasmablasts           \\\\\n",
       "\t5 & CD8 & CD8pos\\_T               \\\\\n",
       "\t6 & CD8 & Central\\_memory\\_CD8pos\\_T\\\\\n",
       "\\end{tabular}\n"
      ],
      "text/markdown": [
       "\n",
       "A data.frame: 6 × 2\n",
       "\n",
       "| <!--/--> | Lineage &lt;chr&gt; | Cell_Type &lt;chr&gt; |\n",
       "|---|---|---|\n",
       "| 1 | B   | Bulk_B                  |\n",
       "| 2 | B   | Mem_B                   |\n",
       "| 3 | B   | Naive_B                 |\n",
       "| 4 | B   | Plasmablasts            |\n",
       "| 5 | CD8 | CD8pos_T                |\n",
       "| 6 | CD8 | Central_memory_CD8pos_T |\n",
       "\n"
      ],
      "text/plain": [
       "  Lineage Cell_Type              \n",
       "1 B       Bulk_B                 \n",
       "2 B       Mem_B                  \n",
       "3 B       Naive_B                \n",
       "4 B       Plasmablasts           \n",
       "5 CD8     CD8pos_T               \n",
       "6 CD8     Central_memory_CD8pos_T"
      ]
     },
     "metadata": {},
     "output_type": "display_data"
    }
   ],
   "source": [
    "head(lineages)"
   ]
  },
  {
   "cell_type": "markdown",
   "id": "480d9134-e95e-4977-b126-67b930af597f",
   "metadata": {},
   "source": [
    "## Heatmap of All Eigengenes"
   ]
  },
  {
   "cell_type": "code",
   "execution_count": 9,
   "id": "a28fe4f7-9988-4251-aae5-36b2f7765d8d",
   "metadata": {},
   "outputs": [],
   "source": [
    "var.comps <- var.comps %>%\n",
    "    dplyr::select(Annot=Annotation, everything(), -Proportion) %>%\n",
    "    dplyr::filter(!is.na(Variance)) %>%\n",
    "    tidyr::spread(Component, Variance) %>%\n",
    "    dplyr::filter(Annotation > 0, Annotation + Other > 0) %>%\n",
    "    dplyr::mutate(Per.SNP.Enrichment = (SNPs.Total / SNPs.Annotation) * (Annotation / (Annotation + Other))) %>%\n",
    "    dplyr::mutate(Log.Enrichment = log2(Per.SNP.Enrichment))"
   ]
  },
  {
   "cell_type": "code",
   "execution_count": 10,
   "id": "e324d20b-fa06-447f-82b2-d7349930173a",
   "metadata": {},
   "outputs": [
    {
     "data": {
      "text/html": [
       "<table class=\"dataframe\">\n",
       "<caption>A data.frame: 6 × 11</caption>\n",
       "<thead>\n",
       "\t<tr><th></th><th scope=col>Annot</th><th scope=col>Eigengene</th><th scope=col>SNPs.Annotation</th><th scope=col>SNPs.Other</th><th scope=col>SNPs.Total</th><th scope=col>Annotation</th><th scope=col>Individual</th><th scope=col>Other</th><th scope=col>Residual</th><th scope=col>Per.SNP.Enrichment</th><th scope=col>Log.Enrichment</th></tr>\n",
       "\t<tr><th></th><th scope=col>&lt;chr&gt;</th><th scope=col>&lt;chr&gt;</th><th scope=col>&lt;int&gt;</th><th scope=col>&lt;int&gt;</th><th scope=col>&lt;int&gt;</th><th scope=col>&lt;dbl&gt;</th><th scope=col>&lt;dbl&gt;</th><th scope=col>&lt;dbl&gt;</th><th scope=col>&lt;dbl&gt;</th><th scope=col>&lt;dbl&gt;</th><th scope=col>&lt;dbl&gt;</th></tr>\n",
       "</thead>\n",
       "<tbody>\n",
       "\t<tr><th scope=row>1</th><td>Bulk_B-Control</td><td>ME_1_1  </td><td>59881</td><td>4097145</td><td>4157026</td><td>4.120183e-16</td><td>5.443220e-08</td><td>1.198100e-06</td><td>3.507126e-06</td><td>2.387355e-08</td><td>-25.320012</td></tr>\n",
       "\t<tr><th scope=row>2</th><td>Bulk_B-Control</td><td>ME_10_1 </td><td>59881</td><td>4097145</td><td>4157026</td><td>9.208798e-05</td><td>0.000000e+00</td><td>2.281507e-05</td><td>2.835113e-05</td><td>5.563718e+01</td><td>  5.797977</td></tr>\n",
       "\t<tr><th scope=row>3</th><td>Bulk_B-Control</td><td>ME_101_1</td><td>59881</td><td>4097145</td><td>4157026</td><td>7.681705e-05</td><td>2.565170e-04</td><td>4.501491e-13</td><td>7.481390e-05</td><td>6.942145e+01</td><td>  6.117310</td></tr>\n",
       "\t<tr><th scope=row>4</th><td>Bulk_B-Control</td><td>ME_102_1</td><td>59881</td><td>4097145</td><td>4157026</td><td>8.457279e-04</td><td>3.535808e-13</td><td>1.628466e-04</td><td>6.285881e-05</td><td>5.821252e+01</td><td>  5.863258</td></tr>\n",
       "\t<tr><th scope=row>5</th><td>Bulk_B-Control</td><td>ME_103_1</td><td>59881</td><td>4097145</td><td>4157026</td><td>1.510706e-12</td><td>1.657035e-12</td><td>5.302640e-05</td><td>9.489297e-05</td><td>1.977796e-06</td><td>-18.947675</td></tr>\n",
       "\t<tr><th scope=row>6</th><td>Bulk_B-Control</td><td>ME_104_1</td><td>59881</td><td>4097145</td><td>4157026</td><td>1.657799e-04</td><td>5.393482e-11</td><td>3.646383e-04</td><td>1.471571e-04</td><td>2.169738e+01</td><td>  4.439449</td></tr>\n",
       "</tbody>\n",
       "</table>\n"
      ],
      "text/latex": [
       "A data.frame: 6 × 11\n",
       "\\begin{tabular}{r|lllllllllll}\n",
       "  & Annot & Eigengene & SNPs.Annotation & SNPs.Other & SNPs.Total & Annotation & Individual & Other & Residual & Per.SNP.Enrichment & Log.Enrichment\\\\\n",
       "  & <chr> & <chr> & <int> & <int> & <int> & <dbl> & <dbl> & <dbl> & <dbl> & <dbl> & <dbl>\\\\\n",
       "\\hline\n",
       "\t1 & Bulk\\_B-Control & ME\\_1\\_1   & 59881 & 4097145 & 4157026 & 4.120183e-16 & 5.443220e-08 & 1.198100e-06 & 3.507126e-06 & 2.387355e-08 & -25.320012\\\\\n",
       "\t2 & Bulk\\_B-Control & ME\\_10\\_1  & 59881 & 4097145 & 4157026 & 9.208798e-05 & 0.000000e+00 & 2.281507e-05 & 2.835113e-05 & 5.563718e+01 &   5.797977\\\\\n",
       "\t3 & Bulk\\_B-Control & ME\\_101\\_1 & 59881 & 4097145 & 4157026 & 7.681705e-05 & 2.565170e-04 & 4.501491e-13 & 7.481390e-05 & 6.942145e+01 &   6.117310\\\\\n",
       "\t4 & Bulk\\_B-Control & ME\\_102\\_1 & 59881 & 4097145 & 4157026 & 8.457279e-04 & 3.535808e-13 & 1.628466e-04 & 6.285881e-05 & 5.821252e+01 &   5.863258\\\\\n",
       "\t5 & Bulk\\_B-Control & ME\\_103\\_1 & 59881 & 4097145 & 4157026 & 1.510706e-12 & 1.657035e-12 & 5.302640e-05 & 9.489297e-05 & 1.977796e-06 & -18.947675\\\\\n",
       "\t6 & Bulk\\_B-Control & ME\\_104\\_1 & 59881 & 4097145 & 4157026 & 1.657799e-04 & 5.393482e-11 & 3.646383e-04 & 1.471571e-04 & 2.169738e+01 &   4.439449\\\\\n",
       "\\end{tabular}\n"
      ],
      "text/markdown": [
       "\n",
       "A data.frame: 6 × 11\n",
       "\n",
       "| <!--/--> | Annot &lt;chr&gt; | Eigengene &lt;chr&gt; | SNPs.Annotation &lt;int&gt; | SNPs.Other &lt;int&gt; | SNPs.Total &lt;int&gt; | Annotation &lt;dbl&gt; | Individual &lt;dbl&gt; | Other &lt;dbl&gt; | Residual &lt;dbl&gt; | Per.SNP.Enrichment &lt;dbl&gt; | Log.Enrichment &lt;dbl&gt; |\n",
       "|---|---|---|---|---|---|---|---|---|---|---|---|\n",
       "| 1 | Bulk_B-Control | ME_1_1   | 59881 | 4097145 | 4157026 | 4.120183e-16 | 5.443220e-08 | 1.198100e-06 | 3.507126e-06 | 2.387355e-08 | -25.320012 |\n",
       "| 2 | Bulk_B-Control | ME_10_1  | 59881 | 4097145 | 4157026 | 9.208798e-05 | 0.000000e+00 | 2.281507e-05 | 2.835113e-05 | 5.563718e+01 |   5.797977 |\n",
       "| 3 | Bulk_B-Control | ME_101_1 | 59881 | 4097145 | 4157026 | 7.681705e-05 | 2.565170e-04 | 4.501491e-13 | 7.481390e-05 | 6.942145e+01 |   6.117310 |\n",
       "| 4 | Bulk_B-Control | ME_102_1 | 59881 | 4097145 | 4157026 | 8.457279e-04 | 3.535808e-13 | 1.628466e-04 | 6.285881e-05 | 5.821252e+01 |   5.863258 |\n",
       "| 5 | Bulk_B-Control | ME_103_1 | 59881 | 4097145 | 4157026 | 1.510706e-12 | 1.657035e-12 | 5.302640e-05 | 9.489297e-05 | 1.977796e-06 | -18.947675 |\n",
       "| 6 | Bulk_B-Control | ME_104_1 | 59881 | 4097145 | 4157026 | 1.657799e-04 | 5.393482e-11 | 3.646383e-04 | 1.471571e-04 | 2.169738e+01 |   4.439449 |\n",
       "\n"
      ],
      "text/plain": [
       "  Annot          Eigengene SNPs.Annotation SNPs.Other SNPs.Total Annotation  \n",
       "1 Bulk_B-Control ME_1_1    59881           4097145    4157026    4.120183e-16\n",
       "2 Bulk_B-Control ME_10_1   59881           4097145    4157026    9.208798e-05\n",
       "3 Bulk_B-Control ME_101_1  59881           4097145    4157026    7.681705e-05\n",
       "4 Bulk_B-Control ME_102_1  59881           4097145    4157026    8.457279e-04\n",
       "5 Bulk_B-Control ME_103_1  59881           4097145    4157026    1.510706e-12\n",
       "6 Bulk_B-Control ME_104_1  59881           4097145    4157026    1.657799e-04\n",
       "  Individual   Other        Residual     Per.SNP.Enrichment Log.Enrichment\n",
       "1 5.443220e-08 1.198100e-06 3.507126e-06 2.387355e-08       -25.320012    \n",
       "2 0.000000e+00 2.281507e-05 2.835113e-05 5.563718e+01         5.797977    \n",
       "3 2.565170e-04 4.501491e-13 7.481390e-05 6.942145e+01         6.117310    \n",
       "4 3.535808e-13 1.628466e-04 6.285881e-05 5.821252e+01         5.863258    \n",
       "5 1.657035e-12 5.302640e-05 9.489297e-05 1.977796e-06       -18.947675    \n",
       "6 5.393482e-11 3.646383e-04 1.471571e-04 2.169738e+01         4.439449    "
      ]
     },
     "metadata": {},
     "output_type": "display_data"
    }
   ],
   "source": [
    "head(var.comps)"
   ]
  },
  {
   "cell_type": "code",
   "execution_count": 11,
   "id": "0356a85d-8b5a-40ae-ad58-573871ea5e47",
   "metadata": {},
   "outputs": [],
   "source": [
    "write.csv(var.comps, \"~/gains_team282/epigenetics/enrichment/partitioned_heritability/per_snp_heritability.csv\", quote=F, row.names=F)"
   ]
  },
  {
   "cell_type": "code",
   "execution_count": 12,
   "id": "6e42550e-60fb-4f2a-9416-d59ed6c1aeeb",
   "metadata": {},
   "outputs": [],
   "source": [
    "control.prop.mtx <- var.comps %>%\n",
    "    dplyr::filter(!grepl(\"segments\", Annot)) %>%\n",
    "    dplyr::filter(!grepl(\"cCREs\", Annot)) %>%\n",
    "    dplyr::filter(!grepl(\"Neutrophils\", Annot)) %>%\n",
    "    dplyr::filter(grepl(\"-Control\", Annot)) %>%\n",
    "    dplyr::mutate(Cell_Type = gsub(\"-.*$\", \"\", Annot)) %>%\n",
    "    dplyr::select(Eigengene, Cell_Type, Log.Enrichment) %>%\n",
    "    tidyr::spread(Cell_Type, Log.Enrichment, fill=0)\n",
    "\n",
    "rownames(control.prop.mtx) <- gsub(\"_\", \" \", gsub(\"_1$\", \"\", control.prop.mtx$Eigengene))\n",
    "control.prop.mtx$Eigengene <- NULL\n",
    "control.prop.mtx <- as.matrix(control.prop.mtx)"
   ]
  },
  {
   "cell_type": "code",
   "execution_count": 13,
   "id": "7f3f2518-1cdf-4e9b-a3ec-a479c8af14b7",
   "metadata": {},
   "outputs": [],
   "source": [
    "treated.prop.mtx <- var.comps %>%\n",
    "    dplyr::filter(!grepl(\"segments\", Annot)) %>%\n",
    "    dplyr::filter(!grepl(\"cCREs\", Annot)) %>%\n",
    "    dplyr::filter(!grepl(\"Neutrophils\", Annot)) %>%\n",
    "    dplyr::filter(grepl(\"-Stimulated\", Annot)) %>%\n",
    "    dplyr::mutate(Cell_Type = gsub(\"-.*$\", \"\", Annot)) %>%\n",
    "    dplyr::select(Eigengene, Cell_Type, Log.Enrichment) %>%\n",
    "    tidyr::spread(Cell_Type, Log.Enrichment, fill=0)\n",
    "\n",
    "rownames(treated.prop.mtx) <- gsub(\"_\", \" \", gsub(\"_1$\", \"\", treated.prop.mtx$Eigengene))\n",
    "treated.prop.mtx$Eigengene <- NULL\n",
    "treated.prop.mtx <- as.matrix(treated.prop.mtx)"
   ]
  },
  {
   "cell_type": "code",
   "execution_count": 14,
   "id": "1f676a4a-e7be-426e-86bc-00d21032d2cb",
   "metadata": {},
   "outputs": [],
   "source": [
    "prop.mtx <- var.comps %>%\n",
    "    dplyr::filter(grepl(\"Neutrophils\", Annot)) %>%\n",
    "    dplyr::mutate(Treatment = gsub(\"Neutrophils-\", \"\", Annot)) %>%\n",
    "    dplyr::select(Eigengene, Treatment, Log.Enrichment) %>%\n",
    "    tidyr::spread(Treatment, Log.Enrichment, fill=0)\n",
    "\n",
    "rownames(prop.mtx) <- gsub(\"_\", \" \", gsub(\"_1$\", \"\", prop.mtx$Eigengene))\n",
    "prop.mtx$Eigengene <- NULL\n",
    "prop.mtx <- as.matrix(prop.mtx)"
   ]
  },
  {
   "cell_type": "code",
   "execution_count": 15,
   "id": "b2068c4f-5cf8-4ab3-a157-4864cc4c297a",
   "metadata": {},
   "outputs": [],
   "source": [
    "h <- hclust(dist(cbind(control.prop.mtx, treated.prop.mtx, prop.mtx)))"
   ]
  },
  {
   "cell_type": "code",
   "execution_count": 16,
   "id": "0410bba8-a260-40fd-91dc-a1e11cd14d00",
   "metadata": {},
   "outputs": [],
   "source": [
    "control.prop.mtx <- control.prop.mtx[h$order, ]\n",
    "treated.prop.mtx <- treated.prop.mtx[h$order, ]\n",
    "prop.mtx <- prop.mtx[h$order, ]"
   ]
  },
  {
   "cell_type": "code",
   "execution_count": 17,
   "id": "d7a370fe-a9dc-4300-8a8f-3d268fe5afbc",
   "metadata": {},
   "outputs": [],
   "source": [
    "neutrophil.map <- c(\n",
    "    \"BGP\" = \"Stimulation\", \"Control\" = \"Stimulation\", \"FLAG\" = \"Stimulation\", \"HMGB1\" = \"Stimulation\", \"LPS\" = \"Stimulation\", \"LTA\" = \"Stimulation\", \"R848\" = \"Stimulation\",\n",
    "    \"SA-1\" = \"S. aureus\", \"SA-5\" = \"S. aureus\", \"WB\" = \"S. aureus\",\n",
    "    \"EC1h\" = \"E. coli\", \"EC4h\" = \"E. coli\", \"noEC1h\" = \"E. coli\", \"noEC4h\" = \"E. coli\"\n",
    ")"
   ]
  },
  {
   "cell_type": "code",
   "execution_count": 19,
   "id": "90277eb2-b38d-459a-b451-f54d97ec754d",
   "metadata": {},
   "outputs": [
    {
     "name": "stderr",
     "output_type": "stream",
     "text": [
      "Warning message:\n",
      "“Heatmap/annotation names are duplicated: Enrichment”\n",
      "Warning message:\n",
      "“Heatmap/annotation names are duplicated: Enrichment, Enrichment”\n"
     ]
    },
    {
     "data": {
      "text/html": [
       "<strong>png:</strong> 2"
      ],
      "text/latex": [
       "\\textbf{png:} 2"
      ],
      "text/markdown": [
       "**png:** 2"
      ],
      "text/plain": [
       "png \n",
       "  2 "
      ]
     },
     "metadata": {},
     "output_type": "display_data"
    }
   ],
   "source": [
    "options(repr.plot.width=15, repr.plot.height=24)\n",
    "\n",
    "min.val = min(c(min(control.prop.mtx), min(treated.prop.mtx), min(prop.mtx)))\n",
    "max.val = max(c(max(control.prop.mtx), max(treated.prop.mtx), max(prop.mtx)))\n",
    "col_fun = colorRamp2(c(min.val, 0, max.val), c(\"firebrick4\", \"white\", \"royalblue4\"))\n",
    "\n",
    "h1 = Heatmap(\n",
    "    control.prop.mtx, name=\"Enrichment\", \n",
    "    col=col_fun, show_column_dend=F, cluster_rows=F, na_col=\"white\",\n",
    "    column_split=lineages$Lineage[match(colnames(control.prop.mtx), lineages$Cell_Type)]\n",
    ")\n",
    "\n",
    "h2 = Heatmap(\n",
    "    treated.prop.mtx, name=\"Enrichment\",\n",
    "    col=col_fun, show_column_dend=F, cluster_rows=F, na_col=\"white\",\n",
    "    column_split=lineages$Lineage[match(colnames(treated.prop.mtx), lineages$Cell_Type)]\n",
    ")\n",
    "\n",
    "h3 = Heatmap(\n",
    "    prop.mtx, name=\"Enrichment\", \n",
    "    col=col_fun, show_column_dend=F, cluster_rows=F, na_col=\"white\",\n",
    "    column_split=neutrophil.map[colnames(prop.mtx)]\n",
    ")\n",
    "\n",
    "pdf(\"03_Functional_Interpretation/results/partitioned_heritability.pdf\", width=15, height=24)\n",
    "h1 + h2 + h3\n",
    "dev.off()"
   ]
  },
  {
   "cell_type": "code",
   "execution_count": 29,
   "id": "074723b4-15d3-4f71-94c3-3fa716333647",
   "metadata": {},
   "outputs": [
    {
     "name": "stderr",
     "output_type": "stream",
     "text": [
      "Warning message:\n",
      "“Heatmap/annotation names are duplicated: Enrichment”\n",
      "Warning message:\n",
      "“Heatmap/annotation names are duplicated: Enrichment, Enrichment”\n"
     ]
    },
    {
     "data": {
      "text/html": [
       "<strong>png:</strong> 2"
      ],
      "text/latex": [
       "\\textbf{png:} 2"
      ],
      "text/markdown": [
       "**png:** 2"
      ],
      "text/plain": [
       "png \n",
       "  2 "
      ]
     },
     "metadata": {},
     "output_type": "display_data"
    }
   ],
   "source": [
    "options(repr.plot.width=15, repr.plot.height=24)\n",
    "\n",
    "min.val = min(c(min(control.prop.mtx), min(treated.prop.mtx), min(prop.mtx)))\n",
    "max.val = max(c(max(control.prop.mtx), max(treated.prop.mtx), max(prop.mtx)))\n",
    "col_fun = colorRamp2(c(min.val, min.val / 2, 0, max.val / 2, max.val), c(\"#44D62C\", \"#db3eb1\", \"#D22730\", \"#E0E722\", \"#4D4DFF\"))\n",
    "\n",
    "h1 = Heatmap(\n",
    "    control.prop.mtx, name=\"Enrichment\", \n",
    "    col=col_fun, show_column_dend=F, cluster_rows=F, na_col=\"white\", column_title=NULL,\n",
    "    column_split=lineages$Lineage[match(colnames(control.prop.mtx), lineages$Cell_Type)]\n",
    ")\n",
    "\n",
    "h2 = Heatmap(\n",
    "    treated.prop.mtx, name=\"Enrichment\",\n",
    "    col=col_fun, show_column_dend=F, cluster_rows=F, na_col=\"white\", column_title=NULL,\n",
    "    column_split=lineages$Lineage[match(colnames(treated.prop.mtx), lineages$Cell_Type)]\n",
    ")\n",
    "\n",
    "h3 = Heatmap(\n",
    "    prop.mtx, name=\"Enrichment\", \n",
    "    col=col_fun, show_column_dend=F, cluster_rows=F, na_col=\"white\", column_title=NULL,\n",
    "    column_split=neutrophil.map[colnames(prop.mtx)]\n",
    ")\n",
    "\n",
    "png(\"~/test.png\", width=15, height=24, units=\"in\", res=600)\n",
    "h1 + h2 + h3\n",
    "dev.off()"
   ]
  },
  {
   "cell_type": "code",
   "execution_count": null,
   "id": "cf6e3b6d-7351-44f8-ae13-a5e277f0628b",
   "metadata": {},
   "outputs": [],
   "source": []
  }
 ],
 "metadata": {
  "kernelspec": {
   "display_name": "R",
   "language": "R",
   "name": "ir"
  },
  "language_info": {
   "codemirror_mode": "r",
   "file_extension": ".r",
   "mimetype": "text/x-r-source",
   "name": "R",
   "pygments_lexer": "r",
   "version": "4.0.5"
  }
 },
 "nbformat": 4,
 "nbformat_minor": 5
}
