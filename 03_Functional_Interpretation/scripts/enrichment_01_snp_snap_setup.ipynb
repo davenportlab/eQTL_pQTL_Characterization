{
 "cells": [
  {
   "cell_type": "markdown",
   "id": "dd2e60ec-68ce-4075-909e-30ea2524f63c",
   "metadata": {},
   "source": [
    "## Genome-Wide SNP Matching Setup\n",
    "\n",
    "**Created**: 6 June 2022"
   ]
  },
  {
   "cell_type": "markdown",
   "id": "c592b35c-81f3-4b59-8561-bc6d0ae446a5",
   "metadata": {},
   "source": [
    "## Environment"
   ]
  },
  {
   "cell_type": "code",
   "execution_count": 1,
   "id": "69006d4e-562e-430b-a155-75d4186256cd",
   "metadata": {},
   "outputs": [
    {
     "name": "stderr",
     "output_type": "stream",
     "text": [
      "── \u001b[1mAttaching packages\u001b[22m ───────────────────────────────────────────────────────────────────────────────────────────────────────────────────────────────────────────────────────────────── tidyverse 1.3.1 ──\n",
      "\n",
      "\u001b[32m✔\u001b[39m \u001b[34mggplot2\u001b[39m 3.3.5     \u001b[32m✔\u001b[39m \u001b[34mpurrr  \u001b[39m 0.3.4\n",
      "\u001b[32m✔\u001b[39m \u001b[34mtibble \u001b[39m 3.1.6     \u001b[32m✔\u001b[39m \u001b[34mdplyr  \u001b[39m 1.0.8\n",
      "\u001b[32m✔\u001b[39m \u001b[34mtidyr  \u001b[39m 1.2.0     \u001b[32m✔\u001b[39m \u001b[34mstringr\u001b[39m 1.4.0\n",
      "\u001b[32m✔\u001b[39m \u001b[34mreadr  \u001b[39m 2.1.1     \u001b[32m✔\u001b[39m \u001b[34mforcats\u001b[39m 0.5.1\n",
      "\n",
      "── \u001b[1mConflicts\u001b[22m ──────────────────────────────────────────────────────────────────────────────────────────────────────────────────────────────────────────────────────────────────── tidyverse_conflicts() ──\n",
      "\u001b[31m✖\u001b[39m \u001b[34mdplyr\u001b[39m::\u001b[32mfilter()\u001b[39m masks \u001b[34mstats\u001b[39m::filter()\n",
      "\u001b[31m✖\u001b[39m \u001b[34mdplyr\u001b[39m::\u001b[32mlag()\u001b[39m    masks \u001b[34mstats\u001b[39m::lag()\n",
      "\n",
      "\n",
      "Attaching package: ‘data.table’\n",
      "\n",
      "\n",
      "The following objects are masked from ‘package:dplyr’:\n",
      "\n",
      "    between, first, last\n",
      "\n",
      "\n",
      "The following object is masked from ‘package:purrr’:\n",
      "\n",
      "    transpose\n",
      "\n",
      "\n",
      "Loading required package: GenomicRanges\n",
      "\n",
      "Loading required package: stats4\n",
      "\n",
      "Loading required package: BiocGenerics\n",
      "\n",
      "Loading required package: parallel\n",
      "\n",
      "\n",
      "Attaching package: ‘BiocGenerics’\n",
      "\n",
      "\n",
      "The following objects are masked from ‘package:parallel’:\n",
      "\n",
      "    clusterApply, clusterApplyLB, clusterCall, clusterEvalQ,\n",
      "    clusterExport, clusterMap, parApply, parCapply, parLapply,\n",
      "    parLapplyLB, parRapply, parSapply, parSapplyLB\n",
      "\n",
      "\n",
      "The following objects are masked from ‘package:dplyr’:\n",
      "\n",
      "    combine, intersect, setdiff, union\n",
      "\n",
      "\n",
      "The following objects are masked from ‘package:stats’:\n",
      "\n",
      "    IQR, mad, sd, var, xtabs\n",
      "\n",
      "\n",
      "The following objects are masked from ‘package:base’:\n",
      "\n",
      "    anyDuplicated, append, as.data.frame, basename, cbind, colnames,\n",
      "    dirname, do.call, duplicated, eval, evalq, Filter, Find, get, grep,\n",
      "    grepl, intersect, is.unsorted, lapply, Map, mapply, match, mget,\n",
      "    order, paste, pmax, pmax.int, pmin, pmin.int, Position, rank,\n",
      "    rbind, Reduce, rownames, sapply, setdiff, sort, table, tapply,\n",
      "    union, unique, unsplit, which.max, which.min\n",
      "\n",
      "\n",
      "Loading required package: S4Vectors\n",
      "\n",
      "\n",
      "Attaching package: ‘S4Vectors’\n",
      "\n",
      "\n",
      "The following objects are masked from ‘package:data.table’:\n",
      "\n",
      "    first, second\n",
      "\n",
      "\n",
      "The following objects are masked from ‘package:dplyr’:\n",
      "\n",
      "    first, rename\n",
      "\n",
      "\n",
      "The following object is masked from ‘package:tidyr’:\n",
      "\n",
      "    expand\n",
      "\n",
      "\n",
      "The following object is masked from ‘package:base’:\n",
      "\n",
      "    expand.grid\n",
      "\n",
      "\n",
      "Loading required package: IRanges\n",
      "\n",
      "\n",
      "Attaching package: ‘IRanges’\n",
      "\n",
      "\n",
      "The following object is masked from ‘package:data.table’:\n",
      "\n",
      "    shift\n",
      "\n",
      "\n",
      "The following objects are masked from ‘package:dplyr’:\n",
      "\n",
      "    collapse, desc, slice\n",
      "\n",
      "\n",
      "The following object is masked from ‘package:purrr’:\n",
      "\n",
      "    reduce\n",
      "\n",
      "\n",
      "Loading required package: GenomeInfoDb\n",
      "\n"
     ]
    }
   ],
   "source": [
    "library(tidyverse)\n",
    "library(data.table)\n",
    "library(rtracklayer)\n",
    "library(GenomicRanges)\n",
    "\n",
    "setwd(\"~/eQTL_pQTL_Characterization/\")\n",
    "\n",
    "source(\"03_Functional_Interpretation/scripts/utils/ggplot_theme.R\")"
   ]
  },
  {
   "cell_type": "markdown",
   "id": "b43b254c-e0e3-4549-905e-09254fefbcd1",
   "metadata": {},
   "source": [
    "## Load Data"
   ]
  },
  {
   "cell_type": "code",
   "execution_count": 2,
   "id": "bb049375-71c9-4298-b44b-8eea0fffb2bc",
   "metadata": {},
   "outputs": [],
   "source": [
    "cis.eqtl <- read.table(\"~/gains_team282/eqtl/cisresults/eigenMT/ciseqtl_eigenMT_corrected.txt\") %>%\n",
    "    dplyr::filter(Sig)"
   ]
  },
  {
   "cell_type": "code",
   "execution_count": 3,
   "id": "1a271a60-a110-467a-9173-b0b29c7263f6",
   "metadata": {},
   "outputs": [
    {
     "data": {
      "text/html": [
       "<table class=\"dataframe\">\n",
       "<caption>A data.frame: 6 × 14</caption>\n",
       "<thead>\n",
       "\t<tr><th></th><th scope=col>snps</th><th scope=col>gene</th><th scope=col>statistic</th><th scope=col>pvalue</th><th scope=col>beta</th><th scope=col>se</th><th scope=col>chr</th><th scope=col>SNPpos</th><th scope=col>TSS</th><th scope=col>BF</th><th scope=col>TESTS</th><th scope=col>BF.FDR</th><th scope=col>Sig</th><th scope=col>threshold</th></tr>\n",
       "\t<tr><th></th><th scope=col>&lt;chr&gt;</th><th scope=col>&lt;chr&gt;</th><th scope=col>&lt;dbl&gt;</th><th scope=col>&lt;dbl&gt;</th><th scope=col>&lt;dbl&gt;</th><th scope=col>&lt;dbl&gt;</th><th scope=col>&lt;int&gt;</th><th scope=col>&lt;int&gt;</th><th scope=col>&lt;int&gt;</th><th scope=col>&lt;dbl&gt;</th><th scope=col>&lt;int&gt;</th><th scope=col>&lt;dbl&gt;</th><th scope=col>&lt;lgl&gt;</th><th scope=col>&lt;dbl&gt;</th></tr>\n",
       "</thead>\n",
       "<tbody>\n",
       "\t<tr><th scope=row>22</th><td>rs3131972 </td><td>ENSG00000237491</td><td> 5.643405</td><td>2.400875e-08</td><td> 0.07174216</td><td>0.012712570</td><td>1</td><td>817341</td><td>778747</td><td>7.058573e-06</td><td>294</td><td>1.993414e-05</td><td>TRUE</td><td>9.170798e-05</td></tr>\n",
       "\t<tr><th scope=row>23</th><td>rs3131972 </td><td>ENSG00000230092</td><td> 4.756587</td><td>2.329109e-06</td><td> 0.06239499</td><td>0.013117600</td><td>1</td><td>817341</td><td>817712</td><td>6.917454e-04</td><td>297</td><td>1.593483e-03</td><td>TRUE</td><td>9.078164e-05</td></tr>\n",
       "\t<tr><th scope=row>25</th><td>rs3131972 </td><td>ENSG00000225880</td><td> 6.292961</td><td>5.949542e-10</td><td> 0.10016770</td><td>0.015917420</td><td>1</td><td>817341</td><td>827522</td><td>1.767014e-07</td><td>297</td><td>5.668498e-07</td><td>TRUE</td><td>9.078164e-05</td></tr>\n",
       "\t<tr><th scope=row>28</th><td>rs2272757 </td><td>ENSG00000188976</td><td>-7.026045</td><td>4.904859e-12</td><td>-0.05107767</td><td>0.007269761</td><td>1</td><td>946247</td><td>959309</td><td>1.545031e-09</td><td>315</td><td>5.762103e-09</td><td>TRUE</td><td>8.559411e-05</td></tr>\n",
       "\t<tr><th scope=row>29</th><td>rs13303327</td><td>ENSG00000187961</td><td>-7.175012</td><td>1.845538e-12</td><td>-0.13519920</td><td>0.018843060</td><td>1</td><td>960326</td><td>960584</td><td>5.813445e-10</td><td>315</td><td>2.228468e-09</td><td>TRUE</td><td>8.559411e-05</td></tr>\n",
       "\t<tr><th scope=row>30</th><td>rs13303056</td><td>ENSG00000187583</td><td>-9.081031</td><td>1.922802e-18</td><td>-0.29633770</td><td>0.032632610</td><td>1</td><td>953778</td><td>966482</td><td>6.056826e-16</td><td>315</td><td>3.262796e-15</td><td>TRUE</td><td>8.559411e-05</td></tr>\n",
       "</tbody>\n",
       "</table>\n"
      ],
      "text/latex": [
       "A data.frame: 6 × 14\n",
       "\\begin{tabular}{r|llllllllllllll}\n",
       "  & snps & gene & statistic & pvalue & beta & se & chr & SNPpos & TSS & BF & TESTS & BF.FDR & Sig & threshold\\\\\n",
       "  & <chr> & <chr> & <dbl> & <dbl> & <dbl> & <dbl> & <int> & <int> & <int> & <dbl> & <int> & <dbl> & <lgl> & <dbl>\\\\\n",
       "\\hline\n",
       "\t22 & rs3131972  & ENSG00000237491 &  5.643405 & 2.400875e-08 &  0.07174216 & 0.012712570 & 1 & 817341 & 778747 & 7.058573e-06 & 294 & 1.993414e-05 & TRUE & 9.170798e-05\\\\\n",
       "\t23 & rs3131972  & ENSG00000230092 &  4.756587 & 2.329109e-06 &  0.06239499 & 0.013117600 & 1 & 817341 & 817712 & 6.917454e-04 & 297 & 1.593483e-03 & TRUE & 9.078164e-05\\\\\n",
       "\t25 & rs3131972  & ENSG00000225880 &  6.292961 & 5.949542e-10 &  0.10016770 & 0.015917420 & 1 & 817341 & 827522 & 1.767014e-07 & 297 & 5.668498e-07 & TRUE & 9.078164e-05\\\\\n",
       "\t28 & rs2272757  & ENSG00000188976 & -7.026045 & 4.904859e-12 & -0.05107767 & 0.007269761 & 1 & 946247 & 959309 & 1.545031e-09 & 315 & 5.762103e-09 & TRUE & 8.559411e-05\\\\\n",
       "\t29 & rs13303327 & ENSG00000187961 & -7.175012 & 1.845538e-12 & -0.13519920 & 0.018843060 & 1 & 960326 & 960584 & 5.813445e-10 & 315 & 2.228468e-09 & TRUE & 8.559411e-05\\\\\n",
       "\t30 & rs13303056 & ENSG00000187583 & -9.081031 & 1.922802e-18 & -0.29633770 & 0.032632610 & 1 & 953778 & 966482 & 6.056826e-16 & 315 & 3.262796e-15 & TRUE & 8.559411e-05\\\\\n",
       "\\end{tabular}\n"
      ],
      "text/markdown": [
       "\n",
       "A data.frame: 6 × 14\n",
       "\n",
       "| <!--/--> | snps &lt;chr&gt; | gene &lt;chr&gt; | statistic &lt;dbl&gt; | pvalue &lt;dbl&gt; | beta &lt;dbl&gt; | se &lt;dbl&gt; | chr &lt;int&gt; | SNPpos &lt;int&gt; | TSS &lt;int&gt; | BF &lt;dbl&gt; | TESTS &lt;int&gt; | BF.FDR &lt;dbl&gt; | Sig &lt;lgl&gt; | threshold &lt;dbl&gt; |\n",
       "|---|---|---|---|---|---|---|---|---|---|---|---|---|---|---|\n",
       "| 22 | rs3131972  | ENSG00000237491 |  5.643405 | 2.400875e-08 |  0.07174216 | 0.012712570 | 1 | 817341 | 778747 | 7.058573e-06 | 294 | 1.993414e-05 | TRUE | 9.170798e-05 |\n",
       "| 23 | rs3131972  | ENSG00000230092 |  4.756587 | 2.329109e-06 |  0.06239499 | 0.013117600 | 1 | 817341 | 817712 | 6.917454e-04 | 297 | 1.593483e-03 | TRUE | 9.078164e-05 |\n",
       "| 25 | rs3131972  | ENSG00000225880 |  6.292961 | 5.949542e-10 |  0.10016770 | 0.015917420 | 1 | 817341 | 827522 | 1.767014e-07 | 297 | 5.668498e-07 | TRUE | 9.078164e-05 |\n",
       "| 28 | rs2272757  | ENSG00000188976 | -7.026045 | 4.904859e-12 | -0.05107767 | 0.007269761 | 1 | 946247 | 959309 | 1.545031e-09 | 315 | 5.762103e-09 | TRUE | 8.559411e-05 |\n",
       "| 29 | rs13303327 | ENSG00000187961 | -7.175012 | 1.845538e-12 | -0.13519920 | 0.018843060 | 1 | 960326 | 960584 | 5.813445e-10 | 315 | 2.228468e-09 | TRUE | 8.559411e-05 |\n",
       "| 30 | rs13303056 | ENSG00000187583 | -9.081031 | 1.922802e-18 | -0.29633770 | 0.032632610 | 1 | 953778 | 966482 | 6.056826e-16 | 315 | 3.262796e-15 | TRUE | 8.559411e-05 |\n",
       "\n"
      ],
      "text/plain": [
       "   snps       gene            statistic pvalue       beta        se         \n",
       "22 rs3131972  ENSG00000237491  5.643405 2.400875e-08  0.07174216 0.012712570\n",
       "23 rs3131972  ENSG00000230092  4.756587 2.329109e-06  0.06239499 0.013117600\n",
       "25 rs3131972  ENSG00000225880  6.292961 5.949542e-10  0.10016770 0.015917420\n",
       "28 rs2272757  ENSG00000188976 -7.026045 4.904859e-12 -0.05107767 0.007269761\n",
       "29 rs13303327 ENSG00000187961 -7.175012 1.845538e-12 -0.13519920 0.018843060\n",
       "30 rs13303056 ENSG00000187583 -9.081031 1.922802e-18 -0.29633770 0.032632610\n",
       "   chr SNPpos TSS    BF           TESTS BF.FDR       Sig  threshold   \n",
       "22 1   817341 778747 7.058573e-06 294   1.993414e-05 TRUE 9.170798e-05\n",
       "23 1   817341 817712 6.917454e-04 297   1.593483e-03 TRUE 9.078164e-05\n",
       "25 1   817341 827522 1.767014e-07 297   5.668498e-07 TRUE 9.078164e-05\n",
       "28 1   946247 959309 1.545031e-09 315   5.762103e-09 TRUE 8.559411e-05\n",
       "29 1   960326 960584 5.813445e-10 315   2.228468e-09 TRUE 8.559411e-05\n",
       "30 1   953778 966482 6.056826e-16 315   3.262796e-15 TRUE 8.559411e-05"
      ]
     },
     "metadata": {},
     "output_type": "display_data"
    }
   ],
   "source": [
    "head(cis.eqtl)"
   ]
  },
  {
   "cell_type": "code",
   "execution_count": 4,
   "id": "2bfcb240-736c-4202-a191-c28c73abae11",
   "metadata": {},
   "outputs": [],
   "source": [
    "c.cis.eqtl <- readRDS(\"~/gains_team282/eqtl/cisresults/conditionalanalysis/conditional_eQTL_results_final.rds\")"
   ]
  },
  {
   "cell_type": "code",
   "execution_count": 5,
   "id": "2a6be909-d179-4020-a9be-2521cde4c6c6",
   "metadata": {},
   "outputs": [
    {
     "data": {
      "text/html": [
       "<table class=\"dataframe\">\n",
       "<caption>A data.frame: 6 × 6</caption>\n",
       "<thead>\n",
       "\t<tr><th></th><th scope=col>SNP</th><th scope=col>Gene</th><th scope=col>eQTL_beta</th><th scope=col>eQTL_SE</th><th scope=col>pvalue</th><th scope=col>Number</th></tr>\n",
       "\t<tr><th></th><th scope=col>&lt;chr&gt;</th><th scope=col>&lt;chr&gt;</th><th scope=col>&lt;chr&gt;</th><th scope=col>&lt;chr&gt;</th><th scope=col>&lt;chr&gt;</th><th scope=col>&lt;int&gt;</th></tr>\n",
       "</thead>\n",
       "<tbody>\n",
       "\t<tr><th scope=row>1</th><td>rs10753794</td><td>ENSG00000000457</td><td>0.0498587312408011 </td><td>0.00708515851579373</td><td>5.19259471106013e-12</td><td>1</td></tr>\n",
       "\t<tr><th scope=row>2</th><td>rs10919255</td><td>ENSG00000000460</td><td>-0.0726264894633498</td><td>0.0136853304567293 </td><td>1.72815915933528e-07</td><td>1</td></tr>\n",
       "\t<tr><th scope=row>3</th><td>rs77006036</td><td>ENSG00000000460</td><td>0.166236949102582  </td><td>0.0334472538699365 </td><td>8.47290238610159e-07</td><td>2</td></tr>\n",
       "\t<tr><th scope=row>4</th><td>rs12406047</td><td>ENSG00000000971</td><td>0.17135374034767   </td><td>0.0379807691167313 </td><td>7.51523462853891e-06</td><td>1</td></tr>\n",
       "\t<tr><th scope=row>5</th><td>rs6696136 </td><td>ENSG00000001460</td><td>0.45884434698694   </td><td>0.0871081626842823 </td><td>1.94887370606405e-07</td><td>1</td></tr>\n",
       "\t<tr><th scope=row>6</th><td>rs6676449 </td><td>ENSG00000001460</td><td>-0.371531778822554 </td><td>0.0880672792106829 </td><td>2.8471651589813e-05 </td><td>2</td></tr>\n",
       "</tbody>\n",
       "</table>\n"
      ],
      "text/latex": [
       "A data.frame: 6 × 6\n",
       "\\begin{tabular}{r|llllll}\n",
       "  & SNP & Gene & eQTL\\_beta & eQTL\\_SE & pvalue & Number\\\\\n",
       "  & <chr> & <chr> & <chr> & <chr> & <chr> & <int>\\\\\n",
       "\\hline\n",
       "\t1 & rs10753794 & ENSG00000000457 & 0.0498587312408011  & 0.00708515851579373 & 5.19259471106013e-12 & 1\\\\\n",
       "\t2 & rs10919255 & ENSG00000000460 & -0.0726264894633498 & 0.0136853304567293  & 1.72815915933528e-07 & 1\\\\\n",
       "\t3 & rs77006036 & ENSG00000000460 & 0.166236949102582   & 0.0334472538699365  & 8.47290238610159e-07 & 2\\\\\n",
       "\t4 & rs12406047 & ENSG00000000971 & 0.17135374034767    & 0.0379807691167313  & 7.51523462853891e-06 & 1\\\\\n",
       "\t5 & rs6696136  & ENSG00000001460 & 0.45884434698694    & 0.0871081626842823  & 1.94887370606405e-07 & 1\\\\\n",
       "\t6 & rs6676449  & ENSG00000001460 & -0.371531778822554  & 0.0880672792106829  & 2.8471651589813e-05  & 2\\\\\n",
       "\\end{tabular}\n"
      ],
      "text/markdown": [
       "\n",
       "A data.frame: 6 × 6\n",
       "\n",
       "| <!--/--> | SNP &lt;chr&gt; | Gene &lt;chr&gt; | eQTL_beta &lt;chr&gt; | eQTL_SE &lt;chr&gt; | pvalue &lt;chr&gt; | Number &lt;int&gt; |\n",
       "|---|---|---|---|---|---|---|\n",
       "| 1 | rs10753794 | ENSG00000000457 | 0.0498587312408011  | 0.00708515851579373 | 5.19259471106013e-12 | 1 |\n",
       "| 2 | rs10919255 | ENSG00000000460 | -0.0726264894633498 | 0.0136853304567293  | 1.72815915933528e-07 | 1 |\n",
       "| 3 | rs77006036 | ENSG00000000460 | 0.166236949102582   | 0.0334472538699365  | 8.47290238610159e-07 | 2 |\n",
       "| 4 | rs12406047 | ENSG00000000971 | 0.17135374034767    | 0.0379807691167313  | 7.51523462853891e-06 | 1 |\n",
       "| 5 | rs6696136  | ENSG00000001460 | 0.45884434698694    | 0.0871081626842823  | 1.94887370606405e-07 | 1 |\n",
       "| 6 | rs6676449  | ENSG00000001460 | -0.371531778822554  | 0.0880672792106829  | 2.8471651589813e-05  | 2 |\n",
       "\n"
      ],
      "text/plain": [
       "  SNP        Gene            eQTL_beta           eQTL_SE            \n",
       "1 rs10753794 ENSG00000000457 0.0498587312408011  0.00708515851579373\n",
       "2 rs10919255 ENSG00000000460 -0.0726264894633498 0.0136853304567293 \n",
       "3 rs77006036 ENSG00000000460 0.166236949102582   0.0334472538699365 \n",
       "4 rs12406047 ENSG00000000971 0.17135374034767    0.0379807691167313 \n",
       "5 rs6696136  ENSG00000001460 0.45884434698694    0.0871081626842823 \n",
       "6 rs6676449  ENSG00000001460 -0.371531778822554  0.0880672792106829 \n",
       "  pvalue               Number\n",
       "1 5.19259471106013e-12 1     \n",
       "2 1.72815915933528e-07 1     \n",
       "3 8.47290238610159e-07 2     \n",
       "4 7.51523462853891e-06 1     \n",
       "5 1.94887370606405e-07 1     \n",
       "6 2.8471651589813e-05  2     "
      ]
     },
     "metadata": {},
     "output_type": "display_data"
    }
   ],
   "source": [
    "head(c.cis.eqtl)"
   ]
  },
  {
   "cell_type": "code",
   "execution_count": 6,
   "id": "45f00a1a-f429-4b9b-96fd-3ce25ff3d6d9",
   "metadata": {},
   "outputs": [],
   "source": [
    "ld.tags <- read.table(\"~/gains_team282/nikhil/colocalization/cis_eqtl/fine_mapping/LD/lead_snps.80r2.tags.tsv\", header=TRUE) %>%\n",
    "    dplyr::mutate(NTAG = NTAG + 1)"
   ]
  },
  {
   "cell_type": "code",
   "execution_count": 7,
   "id": "c700b22c-07c5-4e93-8708-e3eb4eac5078",
   "metadata": {},
   "outputs": [
    {
     "data": {
      "text/html": [
       "<table class=\"dataframe\">\n",
       "<caption>A data.frame: 6 × 8</caption>\n",
       "<thead>\n",
       "\t<tr><th></th><th scope=col>SNP</th><th scope=col>CHR</th><th scope=col>BP</th><th scope=col>NTAG</th><th scope=col>LEFT</th><th scope=col>RIGHT</th><th scope=col>KBSPAN</th><th scope=col>TAGS</th></tr>\n",
       "\t<tr><th></th><th scope=col>&lt;chr&gt;</th><th scope=col>&lt;int&gt;</th><th scope=col>&lt;int&gt;</th><th scope=col>&lt;dbl&gt;</th><th scope=col>&lt;int&gt;</th><th scope=col>&lt;int&gt;</th><th scope=col>&lt;dbl&gt;</th><th scope=col>&lt;chr&gt;</th></tr>\n",
       "</thead>\n",
       "<tbody>\n",
       "\t<tr><th scope=row>1</th><td>rs3131972 </td><td>1</td><td> 817341</td><td> 1</td><td> 817341</td><td> 817341</td><td> 0.001</td><td>NONE                                                                                                                                                                                                                                                                                                                                            </td></tr>\n",
       "\t<tr><th scope=row>2</th><td>rs2272757 </td><td>1</td><td> 946247</td><td> 1</td><td> 946247</td><td> 946247</td><td> 0.001</td><td>NONE                                                                                                                                                                                                                                                                                                                                            </td></tr>\n",
       "\t<tr><th scope=row>3</th><td>rs13303056</td><td>1</td><td> 953778</td><td>34</td><td> 941119</td><td> 966227</td><td>25.109</td><td>rs4372192|rs6605067|rs2839|rs3748592|rs2340582|rs4246503|rs4970377|rs4970452|rs4970376|rs4970375|rs3748595|rs3828047|rs3748596|rs3748597|rs13302945|rs3828049|rs13303206|rs13303051|rs13302957|rs13303227|rs4970371|rs6605069|rs4970445|rs28393498|rs4970441|rs13303229|rs6696971|rs41285808|rs4970435|rs4970434|rs9697711|rs13303351|rs13302996</td></tr>\n",
       "\t<tr><th scope=row>4</th><td>rs13303327</td><td>1</td><td> 960326</td><td> 5</td><td> 951408</td><td> 966179</td><td>14.772</td><td>rs10465242|rs13303010|rs3935066|rs13303160                                                                                                                                                                                                                                                                                                      </td></tr>\n",
       "\t<tr><th scope=row>5</th><td>rs13303033</td><td>1</td><td> 979560</td><td> 4</td><td> 979560</td><td> 983193</td><td> 3.634</td><td>rs6694632|rs13303118|rs2341354                                                                                                                                                                                                                                                                                                                  </td></tr>\n",
       "\t<tr><th scope=row>6</th><td>rs3128117 </td><td>1</td><td>1009184</td><td> 1</td><td>1009184</td><td>1009184</td><td> 0.001</td><td>NONE                                                                                                                                                                                                                                                                                                                                            </td></tr>\n",
       "</tbody>\n",
       "</table>\n"
      ],
      "text/latex": [
       "A data.frame: 6 × 8\n",
       "\\begin{tabular}{r|llllllll}\n",
       "  & SNP & CHR & BP & NTAG & LEFT & RIGHT & KBSPAN & TAGS\\\\\n",
       "  & <chr> & <int> & <int> & <dbl> & <int> & <int> & <dbl> & <chr>\\\\\n",
       "\\hline\n",
       "\t1 & rs3131972  & 1 &  817341 &  1 &  817341 &  817341 &  0.001 & NONE                                                                                                                                                                                                                                                                                                                                            \\\\\n",
       "\t2 & rs2272757  & 1 &  946247 &  1 &  946247 &  946247 &  0.001 & NONE                                                                                                                                                                                                                                                                                                                                            \\\\\n",
       "\t3 & rs13303056 & 1 &  953778 & 34 &  941119 &  966227 & 25.109 & rs4372192\\textbar{}rs6605067\\textbar{}rs2839\\textbar{}rs3748592\\textbar{}rs2340582\\textbar{}rs4246503\\textbar{}rs4970377\\textbar{}rs4970452\\textbar{}rs4970376\\textbar{}rs4970375\\textbar{}rs3748595\\textbar{}rs3828047\\textbar{}rs3748596\\textbar{}rs3748597\\textbar{}rs13302945\\textbar{}rs3828049\\textbar{}rs13303206\\textbar{}rs13303051\\textbar{}rs13302957\\textbar{}rs13303227\\textbar{}rs4970371\\textbar{}rs6605069\\textbar{}rs4970445\\textbar{}rs28393498\\textbar{}rs4970441\\textbar{}rs13303229\\textbar{}rs6696971\\textbar{}rs41285808\\textbar{}rs4970435\\textbar{}rs4970434\\textbar{}rs9697711\\textbar{}rs13303351\\textbar{}rs13302996\\\\\n",
       "\t4 & rs13303327 & 1 &  960326 &  5 &  951408 &  966179 & 14.772 & rs10465242\\textbar{}rs13303010\\textbar{}rs3935066\\textbar{}rs13303160                                                                                                                                                                                                                                                                                                      \\\\\n",
       "\t5 & rs13303033 & 1 &  979560 &  4 &  979560 &  983193 &  3.634 & rs6694632\\textbar{}rs13303118\\textbar{}rs2341354                                                                                                                                                                                                                                                                                                                  \\\\\n",
       "\t6 & rs3128117  & 1 & 1009184 &  1 & 1009184 & 1009184 &  0.001 & NONE                                                                                                                                                                                                                                                                                                                                            \\\\\n",
       "\\end{tabular}\n"
      ],
      "text/markdown": [
       "\n",
       "A data.frame: 6 × 8\n",
       "\n",
       "| <!--/--> | SNP &lt;chr&gt; | CHR &lt;int&gt; | BP &lt;int&gt; | NTAG &lt;dbl&gt; | LEFT &lt;int&gt; | RIGHT &lt;int&gt; | KBSPAN &lt;dbl&gt; | TAGS &lt;chr&gt; |\n",
       "|---|---|---|---|---|---|---|---|---|\n",
       "| 1 | rs3131972  | 1 |  817341 |  1 |  817341 |  817341 |  0.001 | NONE                                                                                                                                                                                                                                                                                                                                             |\n",
       "| 2 | rs2272757  | 1 |  946247 |  1 |  946247 |  946247 |  0.001 | NONE                                                                                                                                                                                                                                                                                                                                             |\n",
       "| 3 | rs13303056 | 1 |  953778 | 34 |  941119 |  966227 | 25.109 | rs4372192|rs6605067|rs2839|rs3748592|rs2340582|rs4246503|rs4970377|rs4970452|rs4970376|rs4970375|rs3748595|rs3828047|rs3748596|rs3748597|rs13302945|rs3828049|rs13303206|rs13303051|rs13302957|rs13303227|rs4970371|rs6605069|rs4970445|rs28393498|rs4970441|rs13303229|rs6696971|rs41285808|rs4970435|rs4970434|rs9697711|rs13303351|rs13302996 |\n",
       "| 4 | rs13303327 | 1 |  960326 |  5 |  951408 |  966179 | 14.772 | rs10465242|rs13303010|rs3935066|rs13303160                                                                                                                                                                                                                                                                                                       |\n",
       "| 5 | rs13303033 | 1 |  979560 |  4 |  979560 |  983193 |  3.634 | rs6694632|rs13303118|rs2341354                                                                                                                                                                                                                                                                                                                   |\n",
       "| 6 | rs3128117  | 1 | 1009184 |  1 | 1009184 | 1009184 |  0.001 | NONE                                                                                                                                                                                                                                                                                                                                             |\n",
       "\n"
      ],
      "text/plain": [
       "  SNP        CHR BP      NTAG LEFT    RIGHT   KBSPAN\n",
       "1 rs3131972  1    817341  1    817341  817341  0.001\n",
       "2 rs2272757  1    946247  1    946247  946247  0.001\n",
       "3 rs13303056 1    953778 34    941119  966227 25.109\n",
       "4 rs13303327 1    960326  5    951408  966179 14.772\n",
       "5 rs13303033 1    979560  4    979560  983193  3.634\n",
       "6 rs3128117  1   1009184  1   1009184 1009184  0.001\n",
       "  TAGS                                                                                                                                                                                                                                                                                                                                            \n",
       "1 NONE                                                                                                                                                                                                                                                                                                                                            \n",
       "2 NONE                                                                                                                                                                                                                                                                                                                                            \n",
       "3 rs4372192|rs6605067|rs2839|rs3748592|rs2340582|rs4246503|rs4970377|rs4970452|rs4970376|rs4970375|rs3748595|rs3828047|rs3748596|rs3748597|rs13302945|rs3828049|rs13303206|rs13303051|rs13302957|rs13303227|rs4970371|rs6605069|rs4970445|rs28393498|rs4970441|rs13303229|rs6696971|rs41285808|rs4970435|rs4970434|rs9697711|rs13303351|rs13302996\n",
       "4 rs10465242|rs13303010|rs3935066|rs13303160                                                                                                                                                                                                                                                                                                      \n",
       "5 rs6694632|rs13303118|rs2341354                                                                                                                                                                                                                                                                                                                  \n",
       "6 NONE                                                                                                                                                                                                                                                                                                                                            "
      ]
     },
     "metadata": {},
     "output_type": "display_data"
    }
   ],
   "source": [
    "head(ld.tags)"
   ]
  },
  {
   "cell_type": "code",
   "execution_count": 8,
   "id": "30c40854-a3f1-4e04-bec9-3aa440c0b71b",
   "metadata": {},
   "outputs": [],
   "source": [
    "c.ld.tags <- read.table(\"~/gains_team282/nikhil/colocalization/cis_eqtl/fine_mapping/LD/conditional_snps.80r2.tags.tsv\", header=TRUE) %>%\n",
    "    dplyr::mutate(NTAG = NTAG + 1)"
   ]
  },
  {
   "cell_type": "code",
   "execution_count": 9,
   "id": "c37c6044-cbe5-4958-9c69-e0c847922707",
   "metadata": {},
   "outputs": [
    {
     "data": {
      "text/html": [
       "<table class=\"dataframe\">\n",
       "<caption>A data.frame: 6 × 8</caption>\n",
       "<thead>\n",
       "\t<tr><th></th><th scope=col>SNP</th><th scope=col>CHR</th><th scope=col>BP</th><th scope=col>NTAG</th><th scope=col>LEFT</th><th scope=col>RIGHT</th><th scope=col>KBSPAN</th><th scope=col>TAGS</th></tr>\n",
       "\t<tr><th></th><th scope=col>&lt;chr&gt;</th><th scope=col>&lt;int&gt;</th><th scope=col>&lt;int&gt;</th><th scope=col>&lt;dbl&gt;</th><th scope=col>&lt;int&gt;</th><th scope=col>&lt;int&gt;</th><th scope=col>&lt;dbl&gt;</th><th scope=col>&lt;chr&gt;</th></tr>\n",
       "</thead>\n",
       "<tbody>\n",
       "\t<tr><th scope=row>1</th><td>rs3131972  </td><td>1</td><td>817341</td><td> 1</td><td>817341</td><td>817341</td><td> 0.001</td><td>NONE                                                                                                                                                                                                                                                                                                                                             </td></tr>\n",
       "\t<tr><th scope=row>2</th><td>rs28731045 </td><td>1</td><td>901149</td><td> 8</td><td>898547</td><td>903175</td><td> 4.629</td><td>rs28593608|rs28385272|rs4422949|rs28570054|rs72890788|rs4970384|rs4970383                                                                                                                                                                                                                                                                        </td></tr>\n",
       "\t<tr><th scope=row>3</th><td>rs142336952</td><td>1</td><td>918014</td><td> 1</td><td>918014</td><td>918014</td><td> 0.001</td><td>NONE                                                                                                                                                                                                                                                                                                                                             </td></tr>\n",
       "\t<tr><th scope=row>4</th><td>rs2272757  </td><td>1</td><td>946247</td><td> 1</td><td>946247</td><td>946247</td><td> 0.001</td><td>NONE                                                                                                                                                                                                                                                                                                                                             </td></tr>\n",
       "\t<tr><th scope=row>5</th><td>rs4970377  </td><td>1</td><td>950296</td><td>34</td><td>941119</td><td>966227</td><td>25.109</td><td>rs4372192|rs6605067|rs2839|rs3748592|rs2340582|rs4246503|rs4970452|rs4970376|rs4970375|rs3748595|rs3828047|rs3748596|rs3748597|rs13303056|rs13302945|rs3828049|rs13303206|rs13303051|rs13302957|rs13303227|rs4970371|rs6605069|rs4970445|rs28393498|rs4970441|rs13303229|rs6696971|rs41285808|rs4970435|rs4970434|rs9697711|rs13303351|rs13302996</td></tr>\n",
       "\t<tr><th scope=row>6</th><td>rs13303056 </td><td>1</td><td>953778</td><td>34</td><td>941119</td><td>966227</td><td>25.109</td><td>rs4372192|rs6605067|rs2839|rs3748592|rs2340582|rs4246503|rs4970377|rs4970452|rs4970376|rs4970375|rs3748595|rs3828047|rs3748596|rs3748597|rs13302945|rs3828049|rs13303206|rs13303051|rs13302957|rs13303227|rs4970371|rs6605069|rs4970445|rs28393498|rs4970441|rs13303229|rs6696971|rs41285808|rs4970435|rs4970434|rs9697711|rs13303351|rs13302996 </td></tr>\n",
       "</tbody>\n",
       "</table>\n"
      ],
      "text/latex": [
       "A data.frame: 6 × 8\n",
       "\\begin{tabular}{r|llllllll}\n",
       "  & SNP & CHR & BP & NTAG & LEFT & RIGHT & KBSPAN & TAGS\\\\\n",
       "  & <chr> & <int> & <int> & <dbl> & <int> & <int> & <dbl> & <chr>\\\\\n",
       "\\hline\n",
       "\t1 & rs3131972   & 1 & 817341 &  1 & 817341 & 817341 &  0.001 & NONE                                                                                                                                                                                                                                                                                                                                             \\\\\n",
       "\t2 & rs28731045  & 1 & 901149 &  8 & 898547 & 903175 &  4.629 & rs28593608\\textbar{}rs28385272\\textbar{}rs4422949\\textbar{}rs28570054\\textbar{}rs72890788\\textbar{}rs4970384\\textbar{}rs4970383                                                                                                                                                                                                                                                                        \\\\\n",
       "\t3 & rs142336952 & 1 & 918014 &  1 & 918014 & 918014 &  0.001 & NONE                                                                                                                                                                                                                                                                                                                                             \\\\\n",
       "\t4 & rs2272757   & 1 & 946247 &  1 & 946247 & 946247 &  0.001 & NONE                                                                                                                                                                                                                                                                                                                                             \\\\\n",
       "\t5 & rs4970377   & 1 & 950296 & 34 & 941119 & 966227 & 25.109 & rs4372192\\textbar{}rs6605067\\textbar{}rs2839\\textbar{}rs3748592\\textbar{}rs2340582\\textbar{}rs4246503\\textbar{}rs4970452\\textbar{}rs4970376\\textbar{}rs4970375\\textbar{}rs3748595\\textbar{}rs3828047\\textbar{}rs3748596\\textbar{}rs3748597\\textbar{}rs13303056\\textbar{}rs13302945\\textbar{}rs3828049\\textbar{}rs13303206\\textbar{}rs13303051\\textbar{}rs13302957\\textbar{}rs13303227\\textbar{}rs4970371\\textbar{}rs6605069\\textbar{}rs4970445\\textbar{}rs28393498\\textbar{}rs4970441\\textbar{}rs13303229\\textbar{}rs6696971\\textbar{}rs41285808\\textbar{}rs4970435\\textbar{}rs4970434\\textbar{}rs9697711\\textbar{}rs13303351\\textbar{}rs13302996\\\\\n",
       "\t6 & rs13303056  & 1 & 953778 & 34 & 941119 & 966227 & 25.109 & rs4372192\\textbar{}rs6605067\\textbar{}rs2839\\textbar{}rs3748592\\textbar{}rs2340582\\textbar{}rs4246503\\textbar{}rs4970377\\textbar{}rs4970452\\textbar{}rs4970376\\textbar{}rs4970375\\textbar{}rs3748595\\textbar{}rs3828047\\textbar{}rs3748596\\textbar{}rs3748597\\textbar{}rs13302945\\textbar{}rs3828049\\textbar{}rs13303206\\textbar{}rs13303051\\textbar{}rs13302957\\textbar{}rs13303227\\textbar{}rs4970371\\textbar{}rs6605069\\textbar{}rs4970445\\textbar{}rs28393498\\textbar{}rs4970441\\textbar{}rs13303229\\textbar{}rs6696971\\textbar{}rs41285808\\textbar{}rs4970435\\textbar{}rs4970434\\textbar{}rs9697711\\textbar{}rs13303351\\textbar{}rs13302996 \\\\\n",
       "\\end{tabular}\n"
      ],
      "text/markdown": [
       "\n",
       "A data.frame: 6 × 8\n",
       "\n",
       "| <!--/--> | SNP &lt;chr&gt; | CHR &lt;int&gt; | BP &lt;int&gt; | NTAG &lt;dbl&gt; | LEFT &lt;int&gt; | RIGHT &lt;int&gt; | KBSPAN &lt;dbl&gt; | TAGS &lt;chr&gt; |\n",
       "|---|---|---|---|---|---|---|---|---|\n",
       "| 1 | rs3131972   | 1 | 817341 |  1 | 817341 | 817341 |  0.001 | NONE                                                                                                                                                                                                                                                                                                                                              |\n",
       "| 2 | rs28731045  | 1 | 901149 |  8 | 898547 | 903175 |  4.629 | rs28593608|rs28385272|rs4422949|rs28570054|rs72890788|rs4970384|rs4970383                                                                                                                                                                                                                                                                         |\n",
       "| 3 | rs142336952 | 1 | 918014 |  1 | 918014 | 918014 |  0.001 | NONE                                                                                                                                                                                                                                                                                                                                              |\n",
       "| 4 | rs2272757   | 1 | 946247 |  1 | 946247 | 946247 |  0.001 | NONE                                                                                                                                                                                                                                                                                                                                              |\n",
       "| 5 | rs4970377   | 1 | 950296 | 34 | 941119 | 966227 | 25.109 | rs4372192|rs6605067|rs2839|rs3748592|rs2340582|rs4246503|rs4970452|rs4970376|rs4970375|rs3748595|rs3828047|rs3748596|rs3748597|rs13303056|rs13302945|rs3828049|rs13303206|rs13303051|rs13302957|rs13303227|rs4970371|rs6605069|rs4970445|rs28393498|rs4970441|rs13303229|rs6696971|rs41285808|rs4970435|rs4970434|rs9697711|rs13303351|rs13302996 |\n",
       "| 6 | rs13303056  | 1 | 953778 | 34 | 941119 | 966227 | 25.109 | rs4372192|rs6605067|rs2839|rs3748592|rs2340582|rs4246503|rs4970377|rs4970452|rs4970376|rs4970375|rs3748595|rs3828047|rs3748596|rs3748597|rs13302945|rs3828049|rs13303206|rs13303051|rs13302957|rs13303227|rs4970371|rs6605069|rs4970445|rs28393498|rs4970441|rs13303229|rs6696971|rs41285808|rs4970435|rs4970434|rs9697711|rs13303351|rs13302996  |\n",
       "\n"
      ],
      "text/plain": [
       "  SNP         CHR BP     NTAG LEFT   RIGHT  KBSPAN\n",
       "1 rs3131972   1   817341  1   817341 817341  0.001\n",
       "2 rs28731045  1   901149  8   898547 903175  4.629\n",
       "3 rs142336952 1   918014  1   918014 918014  0.001\n",
       "4 rs2272757   1   946247  1   946247 946247  0.001\n",
       "5 rs4970377   1   950296 34   941119 966227 25.109\n",
       "6 rs13303056  1   953778 34   941119 966227 25.109\n",
       "  TAGS                                                                                                                                                                                                                                                                                                                                             \n",
       "1 NONE                                                                                                                                                                                                                                                                                                                                             \n",
       "2 rs28593608|rs28385272|rs4422949|rs28570054|rs72890788|rs4970384|rs4970383                                                                                                                                                                                                                                                                        \n",
       "3 NONE                                                                                                                                                                                                                                                                                                                                             \n",
       "4 NONE                                                                                                                                                                                                                                                                                                                                             \n",
       "5 rs4372192|rs6605067|rs2839|rs3748592|rs2340582|rs4246503|rs4970452|rs4970376|rs4970375|rs3748595|rs3828047|rs3748596|rs3748597|rs13303056|rs13302945|rs3828049|rs13303206|rs13303051|rs13302957|rs13303227|rs4970371|rs6605069|rs4970445|rs28393498|rs4970441|rs13303229|rs6696971|rs41285808|rs4970435|rs4970434|rs9697711|rs13303351|rs13302996\n",
       "6 rs4372192|rs6605067|rs2839|rs3748592|rs2340582|rs4246503|rs4970377|rs4970452|rs4970376|rs4970375|rs3748595|rs3828047|rs3748596|rs3748597|rs13302945|rs3828049|rs13303206|rs13303051|rs13302957|rs13303227|rs4970371|rs6605069|rs4970445|rs28393498|rs4970441|rs13303229|rs6696971|rs41285808|rs4970435|rs4970434|rs9697711|rs13303351|rs13302996 "
      ]
     },
     "metadata": {},
     "output_type": "display_data"
    }
   ],
   "source": [
    "head(c.ld.tags)"
   ]
  },
  {
   "cell_type": "markdown",
   "id": "830597c0-8c53-43ab-af30-a4eeddbd3de8",
   "metadata": {},
   "source": [
    "## SNPsnap"
   ]
  },
  {
   "cell_type": "markdown",
   "id": "888669bd-d219-4437-babb-c3645226c037",
   "metadata": {},
   "source": [
    "Use the [SNPsnap Web Server](https://data.broadinstitute.org/mpg/snpsnap/) to identify matching SNPs using the European 1000 Genomes population. Sample 10,000 SNPs for each SNP."
   ]
  },
  {
   "cell_type": "code",
   "execution_count": 10,
   "id": "f905a82c-7f87-4e7c-8ccd-a52743fcf70d",
   "metadata": {},
   "outputs": [],
   "source": [
    "all.snps <- union(cis.eqtl$snps, c.cis.eqtl$SNP)\n",
    "all.snps <- gsub(\"_.*$\", \"\", gsub(\"\\\\.\", \":\", all.snps))"
   ]
  },
  {
   "cell_type": "code",
   "execution_count": 11,
   "id": "2e10f303-f81b-4153-a2c8-55fd1544c6d4",
   "metadata": {},
   "outputs": [
    {
     "data": {
      "text/html": [
       "15825"
      ],
      "text/latex": [
       "15825"
      ],
      "text/markdown": [
       "15825"
      ],
      "text/plain": [
       "[1] 15825"
      ]
     },
     "metadata": {},
     "output_type": "display_data"
    }
   ],
   "source": [
    "length(all.snps)"
   ]
  },
  {
   "cell_type": "code",
   "execution_count": 12,
   "id": "a1483b8e-4192-4158-b766-3f825f3bd498",
   "metadata": {},
   "outputs": [],
   "source": [
    "write.table(all.snps, \"~/gains_team282/epigenetics/enrichment/snp_snap/all_cis_eqtl_snps.txt\", quote=F, row.names=F, col.names=F)"
   ]
  }
 ],
 "metadata": {
  "kernelspec": {
   "display_name": "R",
   "language": "R",
   "name": "ir"
  },
  "language_info": {
   "codemirror_mode": "r",
   "file_extension": ".r",
   "mimetype": "text/x-r-source",
   "name": "R",
   "pygments_lexer": "r",
   "version": "4.0.5"
  }
 },
 "nbformat": 4,
 "nbformat_minor": 5
}
