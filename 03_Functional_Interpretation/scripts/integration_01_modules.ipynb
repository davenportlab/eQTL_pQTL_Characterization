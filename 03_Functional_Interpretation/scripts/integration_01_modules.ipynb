{
 "cells": [
  {
   "cell_type": "markdown",
   "id": "0b5d69e0-e619-4745-bbf6-0bd065dc9334",
   "metadata": {},
   "source": [
    "# Integration\n",
    "\n",
    "**Created**: 28 June 2022"
   ]
  },
  {
   "cell_type": "markdown",
   "id": "56a76348-82ed-4b03-94f7-3e7b3a962a36",
   "metadata": {
    "tags": []
   },
   "source": [
    "## Environment"
   ]
  },
  {
   "cell_type": "code",
   "execution_count": 1,
   "id": "9671e152-8e0b-4a43-8db6-d704f7d86b5d",
   "metadata": {},
   "outputs": [
    {
     "name": "stderr",
     "output_type": "stream",
     "text": [
      "── \u001b[1mAttaching packages\u001b[22m ───────────────────────────────────────────────────────────────────────────────────────────────────────────────────────────────────────────────────────────────────────────── tidyverse 1.3.1 ──\n",
      "\n",
      "\u001b[32m✔\u001b[39m \u001b[34mggplot2\u001b[39m 3.3.6     \u001b[32m✔\u001b[39m \u001b[34mpurrr  \u001b[39m 0.3.4\n",
      "\u001b[32m✔\u001b[39m \u001b[34mtibble \u001b[39m 3.1.7     \u001b[32m✔\u001b[39m \u001b[34mdplyr  \u001b[39m 1.0.8\n",
      "\u001b[32m✔\u001b[39m \u001b[34mtidyr  \u001b[39m 1.2.0     \u001b[32m✔\u001b[39m \u001b[34mstringr\u001b[39m 1.4.0\n",
      "\u001b[32m✔\u001b[39m \u001b[34mreadr  \u001b[39m 2.1.1     \u001b[32m✔\u001b[39m \u001b[34mforcats\u001b[39m 0.5.1\n",
      "\n",
      "── \u001b[1mConflicts\u001b[22m ──────────────────────────────────────────────────────────────────────────────────────────────────────────────────────────────────────────────────────────────────────────────── tidyverse_conflicts() ──\n",
      "\u001b[31m✖\u001b[39m \u001b[34mdplyr\u001b[39m::\u001b[32mfilter()\u001b[39m masks \u001b[34mstats\u001b[39m::filter()\n",
      "\u001b[31m✖\u001b[39m \u001b[34mdplyr\u001b[39m::\u001b[32mlag()\u001b[39m    masks \u001b[34mstats\u001b[39m::lag()\n",
      "\n",
      "\n",
      "Attaching package: ‘data.table’\n",
      "\n",
      "\n",
      "The following objects are masked from ‘package:dplyr’:\n",
      "\n",
      "    between, first, last\n",
      "\n",
      "\n",
      "The following object is masked from ‘package:purrr’:\n",
      "\n",
      "    transpose\n",
      "\n",
      "\n",
      "========================================\n",
      "circlize version 0.4.13\n",
      "CRAN page: https://cran.r-project.org/package=circlize\n",
      "Github page: https://github.com/jokergoo/circlize\n",
      "Documentation: https://jokergoo.github.io/circlize_book/book/\n",
      "\n",
      "If you use it in published research, please cite:\n",
      "Gu, Z. circlize implements and enhances circular visualization\n",
      "  in R. Bioinformatics 2014.\n",
      "\n",
      "This message can be suppressed by:\n",
      "  suppressPackageStartupMessages(library(circlize))\n",
      "========================================\n",
      "\n",
      "\n"
     ]
    }
   ],
   "source": [
    "library(tidyverse)\n",
    "library(ggrepel)\n",
    "library(data.table)\n",
    "library(patchwork)\n",
    "library(circlize)\n",
    "\n",
    "setwd(\"~/eQTL_pQTL_Characterization/\")\n",
    "\n",
    "source(\"03_Functional_Interpretation/scripts/utils/ggplot_theme.R\")"
   ]
  },
  {
   "cell_type": "markdown",
   "id": "2e6ce567-55f5-4ee8-9e6b-927abd78e46e",
   "metadata": {
    "tags": []
   },
   "source": [
    "## Load Data"
   ]
  },
  {
   "cell_type": "code",
   "execution_count": 2,
   "id": "70100c8b-349f-450e-9229-b7b6840bc906",
   "metadata": {},
   "outputs": [],
   "source": [
    "gene.info <- read.table(\"/nfs/team282/data/gains_team282/gene_info_864_20412_hla.txt\")"
   ]
  },
  {
   "cell_type": "code",
   "execution_count": 3,
   "id": "e5cdde13-e49c-42cf-89d2-c007d132fc01",
   "metadata": {},
   "outputs": [
    {
     "data": {
      "text/html": [
       "<table class=\"dataframe\">\n",
       "<caption>A data.frame: 6 × 27</caption>\n",
       "<thead>\n",
       "\t<tr><th></th><th scope=col>seqnames</th><th scope=col>start</th><th scope=col>end</th><th scope=col>width</th><th scope=col>strand</th><th scope=col>source</th><th scope=col>type</th><th scope=col>score</th><th scope=col>phase</th><th scope=col>gene_id</th><th scope=col>⋯</th><th scope=col>transcript_source</th><th scope=col>transcript_biotype</th><th scope=col>tag</th><th scope=col>transcript_support_level</th><th scope=col>exon_number</th><th scope=col>exon_id</th><th scope=col>exon_version</th><th scope=col>protein_id</th><th scope=col>protein_version</th><th scope=col>ccds_id</th></tr>\n",
       "\t<tr><th></th><th scope=col>&lt;chr&gt;</th><th scope=col>&lt;int&gt;</th><th scope=col>&lt;int&gt;</th><th scope=col>&lt;int&gt;</th><th scope=col>&lt;chr&gt;</th><th scope=col>&lt;chr&gt;</th><th scope=col>&lt;chr&gt;</th><th scope=col>&lt;lgl&gt;</th><th scope=col>&lt;lgl&gt;</th><th scope=col>&lt;chr&gt;</th><th scope=col>⋯</th><th scope=col>&lt;lgl&gt;</th><th scope=col>&lt;lgl&gt;</th><th scope=col>&lt;lgl&gt;</th><th scope=col>&lt;lgl&gt;</th><th scope=col>&lt;lgl&gt;</th><th scope=col>&lt;lgl&gt;</th><th scope=col>&lt;lgl&gt;</th><th scope=col>&lt;lgl&gt;</th><th scope=col>&lt;lgl&gt;</th><th scope=col>&lt;lgl&gt;</th></tr>\n",
       "</thead>\n",
       "<tbody>\n",
       "\t<tr><th scope=row>ENSG00000230521</th><td>6</td><td>29887294</td><td>29888268</td><td> 975</td><td>-</td><td>havana</td><td>gene</td><td>NA</td><td>NA</td><td>ENSG00000230521</td><td>⋯</td><td>NA</td><td>NA</td><td>NA</td><td>NA</td><td>NA</td><td>NA</td><td>NA</td><td>NA</td><td>NA</td><td>NA</td></tr>\n",
       "\t<tr><th scope=row>ENSG00000225864</th><td>6</td><td>29722981</td><td>29723971</td><td> 991</td><td>-</td><td>havana</td><td>gene</td><td>NA</td><td>NA</td><td>ENSG00000225864</td><td>⋯</td><td>NA</td><td>NA</td><td>NA</td><td>NA</td><td>NA</td><td>NA</td><td>NA</td><td>NA</td><td>NA</td><td>NA</td></tr>\n",
       "\t<tr><th scope=row>ENSG00000227766</th><td>6</td><td>29942075</td><td>29943067</td><td> 993</td><td>-</td><td>havana</td><td>gene</td><td>NA</td><td>NA</td><td>ENSG00000227766</td><td>⋯</td><td>NA</td><td>NA</td><td>NA</td><td>NA</td><td>NA</td><td>NA</td><td>NA</td><td>NA</td><td>NA</td><td>NA</td></tr>\n",
       "\t<tr><th scope=row>ENSG00000237669</th><td>6</td><td>30006121</td><td>30007116</td><td> 996</td><td>-</td><td>havana</td><td>gene</td><td>NA</td><td>NA</td><td>ENSG00000237669</td><td>⋯</td><td>NA</td><td>NA</td><td>NA</td><td>NA</td><td>NA</td><td>NA</td><td>NA</td><td>NA</td><td>NA</td><td>NA</td></tr>\n",
       "\t<tr><th scope=row>ENSG00000271581</th><td>6</td><td>31356647</td><td>31357637</td><td> 991</td><td>+</td><td>havana</td><td>gene</td><td>NA</td><td>NA</td><td>ENSG00000271581</td><td>⋯</td><td>NA</td><td>NA</td><td>NA</td><td>NA</td><td>NA</td><td>NA</td><td>NA</td><td>NA</td><td>NA</td><td>NA</td></tr>\n",
       "\t<tr><th scope=row>ENSG00000285647</th><td>6</td><td>31367057</td><td>31376088</td><td>9032</td><td>+</td><td>havana</td><td>gene</td><td>NA</td><td>NA</td><td>ENSG00000285647</td><td>⋯</td><td>NA</td><td>NA</td><td>NA</td><td>NA</td><td>NA</td><td>NA</td><td>NA</td><td>NA</td><td>NA</td><td>NA</td></tr>\n",
       "</tbody>\n",
       "</table>\n"
      ],
      "text/latex": [
       "A data.frame: 6 × 27\n",
       "\\begin{tabular}{r|lllllllllllllllllllll}\n",
       "  & seqnames & start & end & width & strand & source & type & score & phase & gene\\_id & ⋯ & transcript\\_source & transcript\\_biotype & tag & transcript\\_support\\_level & exon\\_number & exon\\_id & exon\\_version & protein\\_id & protein\\_version & ccds\\_id\\\\\n",
       "  & <chr> & <int> & <int> & <int> & <chr> & <chr> & <chr> & <lgl> & <lgl> & <chr> & ⋯ & <lgl> & <lgl> & <lgl> & <lgl> & <lgl> & <lgl> & <lgl> & <lgl> & <lgl> & <lgl>\\\\\n",
       "\\hline\n",
       "\tENSG00000230521 & 6 & 29887294 & 29888268 &  975 & - & havana & gene & NA & NA & ENSG00000230521 & ⋯ & NA & NA & NA & NA & NA & NA & NA & NA & NA & NA\\\\\n",
       "\tENSG00000225864 & 6 & 29722981 & 29723971 &  991 & - & havana & gene & NA & NA & ENSG00000225864 & ⋯ & NA & NA & NA & NA & NA & NA & NA & NA & NA & NA\\\\\n",
       "\tENSG00000227766 & 6 & 29942075 & 29943067 &  993 & - & havana & gene & NA & NA & ENSG00000227766 & ⋯ & NA & NA & NA & NA & NA & NA & NA & NA & NA & NA\\\\\n",
       "\tENSG00000237669 & 6 & 30006121 & 30007116 &  996 & - & havana & gene & NA & NA & ENSG00000237669 & ⋯ & NA & NA & NA & NA & NA & NA & NA & NA & NA & NA\\\\\n",
       "\tENSG00000271581 & 6 & 31356647 & 31357637 &  991 & + & havana & gene & NA & NA & ENSG00000271581 & ⋯ & NA & NA & NA & NA & NA & NA & NA & NA & NA & NA\\\\\n",
       "\tENSG00000285647 & 6 & 31367057 & 31376088 & 9032 & + & havana & gene & NA & NA & ENSG00000285647 & ⋯ & NA & NA & NA & NA & NA & NA & NA & NA & NA & NA\\\\\n",
       "\\end{tabular}\n"
      ],
      "text/markdown": [
       "\n",
       "A data.frame: 6 × 27\n",
       "\n",
       "| <!--/--> | seqnames &lt;chr&gt; | start &lt;int&gt; | end &lt;int&gt; | width &lt;int&gt; | strand &lt;chr&gt; | source &lt;chr&gt; | type &lt;chr&gt; | score &lt;lgl&gt; | phase &lt;lgl&gt; | gene_id &lt;chr&gt; | ⋯ ⋯ | transcript_source &lt;lgl&gt; | transcript_biotype &lt;lgl&gt; | tag &lt;lgl&gt; | transcript_support_level &lt;lgl&gt; | exon_number &lt;lgl&gt; | exon_id &lt;lgl&gt; | exon_version &lt;lgl&gt; | protein_id &lt;lgl&gt; | protein_version &lt;lgl&gt; | ccds_id &lt;lgl&gt; |\n",
       "|---|---|---|---|---|---|---|---|---|---|---|---|---|---|---|---|---|---|---|---|---|---|\n",
       "| ENSG00000230521 | 6 | 29887294 | 29888268 |  975 | - | havana | gene | NA | NA | ENSG00000230521 | ⋯ | NA | NA | NA | NA | NA | NA | NA | NA | NA | NA |\n",
       "| ENSG00000225864 | 6 | 29722981 | 29723971 |  991 | - | havana | gene | NA | NA | ENSG00000225864 | ⋯ | NA | NA | NA | NA | NA | NA | NA | NA | NA | NA |\n",
       "| ENSG00000227766 | 6 | 29942075 | 29943067 |  993 | - | havana | gene | NA | NA | ENSG00000227766 | ⋯ | NA | NA | NA | NA | NA | NA | NA | NA | NA | NA |\n",
       "| ENSG00000237669 | 6 | 30006121 | 30007116 |  996 | - | havana | gene | NA | NA | ENSG00000237669 | ⋯ | NA | NA | NA | NA | NA | NA | NA | NA | NA | NA |\n",
       "| ENSG00000271581 | 6 | 31356647 | 31357637 |  991 | + | havana | gene | NA | NA | ENSG00000271581 | ⋯ | NA | NA | NA | NA | NA | NA | NA | NA | NA | NA |\n",
       "| ENSG00000285647 | 6 | 31367057 | 31376088 | 9032 | + | havana | gene | NA | NA | ENSG00000285647 | ⋯ | NA | NA | NA | NA | NA | NA | NA | NA | NA | NA |\n",
       "\n"
      ],
      "text/plain": [
       "                seqnames start    end      width strand source type score phase\n",
       "ENSG00000230521 6        29887294 29888268  975  -      havana gene NA    NA   \n",
       "ENSG00000225864 6        29722981 29723971  991  -      havana gene NA    NA   \n",
       "ENSG00000227766 6        29942075 29943067  993  -      havana gene NA    NA   \n",
       "ENSG00000237669 6        30006121 30007116  996  -      havana gene NA    NA   \n",
       "ENSG00000271581 6        31356647 31357637  991  +      havana gene NA    NA   \n",
       "ENSG00000285647 6        31367057 31376088 9032  +      havana gene NA    NA   \n",
       "                gene_id         ⋯ transcript_source transcript_biotype tag\n",
       "ENSG00000230521 ENSG00000230521 ⋯ NA                NA                 NA \n",
       "ENSG00000225864 ENSG00000225864 ⋯ NA                NA                 NA \n",
       "ENSG00000227766 ENSG00000227766 ⋯ NA                NA                 NA \n",
       "ENSG00000237669 ENSG00000237669 ⋯ NA                NA                 NA \n",
       "ENSG00000271581 ENSG00000271581 ⋯ NA                NA                 NA \n",
       "ENSG00000285647 ENSG00000285647 ⋯ NA                NA                 NA \n",
       "                transcript_support_level exon_number exon_id exon_version\n",
       "ENSG00000230521 NA                       NA          NA      NA          \n",
       "ENSG00000225864 NA                       NA          NA      NA          \n",
       "ENSG00000227766 NA                       NA          NA      NA          \n",
       "ENSG00000237669 NA                       NA          NA      NA          \n",
       "ENSG00000271581 NA                       NA          NA      NA          \n",
       "ENSG00000285647 NA                       NA          NA      NA          \n",
       "                protein_id protein_version ccds_id\n",
       "ENSG00000230521 NA         NA              NA     \n",
       "ENSG00000225864 NA         NA              NA     \n",
       "ENSG00000227766 NA         NA              NA     \n",
       "ENSG00000237669 NA         NA              NA     \n",
       "ENSG00000271581 NA         NA              NA     \n",
       "ENSG00000285647 NA         NA              NA     "
      ]
     },
     "metadata": {},
     "output_type": "display_data"
    }
   ],
   "source": [
    "head(gene.info)"
   ]
  },
  {
   "cell_type": "code",
   "execution_count": 4,
   "id": "f161b45a-de9e-4405-a398-fb6c2a662d0d",
   "metadata": {},
   "outputs": [],
   "source": [
    "modules <- read.csv(\"~/gains_team282/nikhil/expression/gene_expression/modules.csv\") %>%\n",
    "    merge(., gene.info, by.x=\"Gene\", by.y=0)"
   ]
  },
  {
   "cell_type": "code",
   "execution_count": 5,
   "id": "2b663db2-8489-4182-9936-e9223f5815a4",
   "metadata": {},
   "outputs": [
    {
     "data": {
      "text/html": [
       "<table class=\"dataframe\">\n",
       "<caption>A data.frame: 6 × 29</caption>\n",
       "<thead>\n",
       "\t<tr><th></th><th scope=col>Gene</th><th scope=col>Module</th><th scope=col>seqnames</th><th scope=col>start</th><th scope=col>end</th><th scope=col>width</th><th scope=col>strand</th><th scope=col>source</th><th scope=col>type</th><th scope=col>score</th><th scope=col>⋯</th><th scope=col>transcript_source</th><th scope=col>transcript_biotype</th><th scope=col>tag</th><th scope=col>transcript_support_level</th><th scope=col>exon_number</th><th scope=col>exon_id</th><th scope=col>exon_version</th><th scope=col>protein_id</th><th scope=col>protein_version</th><th scope=col>ccds_id</th></tr>\n",
       "\t<tr><th></th><th scope=col>&lt;chr&gt;</th><th scope=col>&lt;chr&gt;</th><th scope=col>&lt;chr&gt;</th><th scope=col>&lt;int&gt;</th><th scope=col>&lt;int&gt;</th><th scope=col>&lt;int&gt;</th><th scope=col>&lt;chr&gt;</th><th scope=col>&lt;chr&gt;</th><th scope=col>&lt;chr&gt;</th><th scope=col>&lt;lgl&gt;</th><th scope=col>⋯</th><th scope=col>&lt;lgl&gt;</th><th scope=col>&lt;lgl&gt;</th><th scope=col>&lt;lgl&gt;</th><th scope=col>&lt;lgl&gt;</th><th scope=col>&lt;lgl&gt;</th><th scope=col>&lt;lgl&gt;</th><th scope=col>&lt;lgl&gt;</th><th scope=col>&lt;lgl&gt;</th><th scope=col>&lt;lgl&gt;</th><th scope=col>&lt;lgl&gt;</th></tr>\n",
       "</thead>\n",
       "<tbody>\n",
       "\t<tr><th scope=row>1</th><td>ENSG00000000003</td><td>Module_13</td><td>X </td><td>100627108</td><td>100639991</td><td> 12884</td><td>-</td><td>ensembl_havana</td><td>gene</td><td>NA</td><td>⋯</td><td>NA</td><td>NA</td><td>NA</td><td>NA</td><td>NA</td><td>NA</td><td>NA</td><td>NA</td><td>NA</td><td>NA</td></tr>\n",
       "\t<tr><th scope=row>2</th><td>ENSG00000000419</td><td>Module_2 </td><td>20</td><td> 50934867</td><td> 50958555</td><td> 23689</td><td>-</td><td>ensembl_havana</td><td>gene</td><td>NA</td><td>⋯</td><td>NA</td><td>NA</td><td>NA</td><td>NA</td><td>NA</td><td>NA</td><td>NA</td><td>NA</td><td>NA</td><td>NA</td></tr>\n",
       "\t<tr><th scope=row>3</th><td>ENSG00000000457</td><td>Module_2 </td><td>1 </td><td>169849631</td><td>169894267</td><td> 44637</td><td>-</td><td>ensembl_havana</td><td>gene</td><td>NA</td><td>⋯</td><td>NA</td><td>NA</td><td>NA</td><td>NA</td><td>NA</td><td>NA</td><td>NA</td><td>NA</td><td>NA</td><td>NA</td></tr>\n",
       "\t<tr><th scope=row>4</th><td>ENSG00000000460</td><td>Module_6 </td><td>1 </td><td>169662007</td><td>169854080</td><td>192074</td><td>+</td><td>ensembl_havana</td><td>gene</td><td>NA</td><td>⋯</td><td>NA</td><td>NA</td><td>NA</td><td>NA</td><td>NA</td><td>NA</td><td>NA</td><td>NA</td><td>NA</td><td>NA</td></tr>\n",
       "\t<tr><th scope=row>5</th><td>ENSG00000000938</td><td>Module_15</td><td>1 </td><td> 27612064</td><td> 27635185</td><td> 23122</td><td>-</td><td>ensembl_havana</td><td>gene</td><td>NA</td><td>⋯</td><td>NA</td><td>NA</td><td>NA</td><td>NA</td><td>NA</td><td>NA</td><td>NA</td><td>NA</td><td>NA</td><td>NA</td></tr>\n",
       "\t<tr><th scope=row>6</th><td>ENSG00000000971</td><td>Module_5 </td><td>1 </td><td>196652043</td><td>196747504</td><td> 95462</td><td>+</td><td>ensembl_havana</td><td>gene</td><td>NA</td><td>⋯</td><td>NA</td><td>NA</td><td>NA</td><td>NA</td><td>NA</td><td>NA</td><td>NA</td><td>NA</td><td>NA</td><td>NA</td></tr>\n",
       "</tbody>\n",
       "</table>\n"
      ],
      "text/latex": [
       "A data.frame: 6 × 29\n",
       "\\begin{tabular}{r|lllllllllllllllllllll}\n",
       "  & Gene & Module & seqnames & start & end & width & strand & source & type & score & ⋯ & transcript\\_source & transcript\\_biotype & tag & transcript\\_support\\_level & exon\\_number & exon\\_id & exon\\_version & protein\\_id & protein\\_version & ccds\\_id\\\\\n",
       "  & <chr> & <chr> & <chr> & <int> & <int> & <int> & <chr> & <chr> & <chr> & <lgl> & ⋯ & <lgl> & <lgl> & <lgl> & <lgl> & <lgl> & <lgl> & <lgl> & <lgl> & <lgl> & <lgl>\\\\\n",
       "\\hline\n",
       "\t1 & ENSG00000000003 & Module\\_13 & X  & 100627108 & 100639991 &  12884 & - & ensembl\\_havana & gene & NA & ⋯ & NA & NA & NA & NA & NA & NA & NA & NA & NA & NA\\\\\n",
       "\t2 & ENSG00000000419 & Module\\_2  & 20 &  50934867 &  50958555 &  23689 & - & ensembl\\_havana & gene & NA & ⋯ & NA & NA & NA & NA & NA & NA & NA & NA & NA & NA\\\\\n",
       "\t3 & ENSG00000000457 & Module\\_2  & 1  & 169849631 & 169894267 &  44637 & - & ensembl\\_havana & gene & NA & ⋯ & NA & NA & NA & NA & NA & NA & NA & NA & NA & NA\\\\\n",
       "\t4 & ENSG00000000460 & Module\\_6  & 1  & 169662007 & 169854080 & 192074 & + & ensembl\\_havana & gene & NA & ⋯ & NA & NA & NA & NA & NA & NA & NA & NA & NA & NA\\\\\n",
       "\t5 & ENSG00000000938 & Module\\_15 & 1  &  27612064 &  27635185 &  23122 & - & ensembl\\_havana & gene & NA & ⋯ & NA & NA & NA & NA & NA & NA & NA & NA & NA & NA\\\\\n",
       "\t6 & ENSG00000000971 & Module\\_5  & 1  & 196652043 & 196747504 &  95462 & + & ensembl\\_havana & gene & NA & ⋯ & NA & NA & NA & NA & NA & NA & NA & NA & NA & NA\\\\\n",
       "\\end{tabular}\n"
      ],
      "text/markdown": [
       "\n",
       "A data.frame: 6 × 29\n",
       "\n",
       "| <!--/--> | Gene &lt;chr&gt; | Module &lt;chr&gt; | seqnames &lt;chr&gt; | start &lt;int&gt; | end &lt;int&gt; | width &lt;int&gt; | strand &lt;chr&gt; | source &lt;chr&gt; | type &lt;chr&gt; | score &lt;lgl&gt; | ⋯ ⋯ | transcript_source &lt;lgl&gt; | transcript_biotype &lt;lgl&gt; | tag &lt;lgl&gt; | transcript_support_level &lt;lgl&gt; | exon_number &lt;lgl&gt; | exon_id &lt;lgl&gt; | exon_version &lt;lgl&gt; | protein_id &lt;lgl&gt; | protein_version &lt;lgl&gt; | ccds_id &lt;lgl&gt; |\n",
       "|---|---|---|---|---|---|---|---|---|---|---|---|---|---|---|---|---|---|---|---|---|---|\n",
       "| 1 | ENSG00000000003 | Module_13 | X  | 100627108 | 100639991 |  12884 | - | ensembl_havana | gene | NA | ⋯ | NA | NA | NA | NA | NA | NA | NA | NA | NA | NA |\n",
       "| 2 | ENSG00000000419 | Module_2  | 20 |  50934867 |  50958555 |  23689 | - | ensembl_havana | gene | NA | ⋯ | NA | NA | NA | NA | NA | NA | NA | NA | NA | NA |\n",
       "| 3 | ENSG00000000457 | Module_2  | 1  | 169849631 | 169894267 |  44637 | - | ensembl_havana | gene | NA | ⋯ | NA | NA | NA | NA | NA | NA | NA | NA | NA | NA |\n",
       "| 4 | ENSG00000000460 | Module_6  | 1  | 169662007 | 169854080 | 192074 | + | ensembl_havana | gene | NA | ⋯ | NA | NA | NA | NA | NA | NA | NA | NA | NA | NA |\n",
       "| 5 | ENSG00000000938 | Module_15 | 1  |  27612064 |  27635185 |  23122 | - | ensembl_havana | gene | NA | ⋯ | NA | NA | NA | NA | NA | NA | NA | NA | NA | NA |\n",
       "| 6 | ENSG00000000971 | Module_5  | 1  | 196652043 | 196747504 |  95462 | + | ensembl_havana | gene | NA | ⋯ | NA | NA | NA | NA | NA | NA | NA | NA | NA | NA |\n",
       "\n"
      ],
      "text/plain": [
       "  Gene            Module    seqnames start     end       width  strand\n",
       "1 ENSG00000000003 Module_13 X        100627108 100639991  12884 -     \n",
       "2 ENSG00000000419 Module_2  20        50934867  50958555  23689 -     \n",
       "3 ENSG00000000457 Module_2  1        169849631 169894267  44637 -     \n",
       "4 ENSG00000000460 Module_6  1        169662007 169854080 192074 +     \n",
       "5 ENSG00000000938 Module_15 1         27612064  27635185  23122 -     \n",
       "6 ENSG00000000971 Module_5  1        196652043 196747504  95462 +     \n",
       "  source         type score ⋯ transcript_source transcript_biotype tag\n",
       "1 ensembl_havana gene NA    ⋯ NA                NA                 NA \n",
       "2 ensembl_havana gene NA    ⋯ NA                NA                 NA \n",
       "3 ensembl_havana gene NA    ⋯ NA                NA                 NA \n",
       "4 ensembl_havana gene NA    ⋯ NA                NA                 NA \n",
       "5 ensembl_havana gene NA    ⋯ NA                NA                 NA \n",
       "6 ensembl_havana gene NA    ⋯ NA                NA                 NA \n",
       "  transcript_support_level exon_number exon_id exon_version protein_id\n",
       "1 NA                       NA          NA      NA           NA        \n",
       "2 NA                       NA          NA      NA           NA        \n",
       "3 NA                       NA          NA      NA           NA        \n",
       "4 NA                       NA          NA      NA           NA        \n",
       "5 NA                       NA          NA      NA           NA        \n",
       "6 NA                       NA          NA      NA           NA        \n",
       "  protein_version ccds_id\n",
       "1 NA              NA     \n",
       "2 NA              NA     \n",
       "3 NA              NA     \n",
       "4 NA              NA     \n",
       "5 NA              NA     \n",
       "6 NA              NA     "
      ]
     },
     "metadata": {},
     "output_type": "display_data"
    }
   ],
   "source": [
    "head(modules)"
   ]
  },
  {
   "cell_type": "code",
   "execution_count": 6,
   "id": "bb58378d-9682-4a4d-8dfb-fd9c8e22801d",
   "metadata": {},
   "outputs": [],
   "source": [
    "coloc.eqtl.mqtl <- read.csv(\"~/gains_team282/nikhil/colocalization/cis_eqtl_module_qtl.csv\")"
   ]
  },
  {
   "cell_type": "code",
   "execution_count": 7,
   "id": "fc1681b5-0000-4ce1-921b-1f1f3df863ec",
   "metadata": {},
   "outputs": [
    {
     "data": {
      "text/html": [
       "<table class=\"dataframe\">\n",
       "<caption>A data.frame: 6 × 11</caption>\n",
       "<thead>\n",
       "\t<tr><th></th><th scope=col>nsnps</th><th scope=col>PP.H0.abf</th><th scope=col>PP.H1.abf</th><th scope=col>PP.H2.abf</th><th scope=col>PP.H3.abf</th><th scope=col>PP.H4.abf</th><th scope=col>Gene</th><th scope=col>eQTL.Signal</th><th scope=col>Eigengene</th><th scope=col>Module.QTL</th><th scope=col>Coloc.Factor</th></tr>\n",
       "\t<tr><th></th><th scope=col>&lt;int&gt;</th><th scope=col>&lt;dbl&gt;</th><th scope=col>&lt;dbl&gt;</th><th scope=col>&lt;dbl&gt;</th><th scope=col>&lt;dbl&gt;</th><th scope=col>&lt;dbl&gt;</th><th scope=col>&lt;chr&gt;</th><th scope=col>&lt;int&gt;</th><th scope=col>&lt;chr&gt;</th><th scope=col>&lt;chr&gt;</th><th scope=col>&lt;dbl&gt;</th></tr>\n",
       "</thead>\n",
       "<tbody>\n",
       "\t<tr><th scope=row>1</th><td>1725</td><td>1.325296e-105</td><td> 3.679035e-80</td><td>3.602294e-29</td><td>0</td><td>1</td><td>ENSG00000142089</td><td>1</td><td>ME_106_2</td><td>ME_106_2-11:1-1332794</td><td>1</td></tr>\n",
       "\t<tr><th scope=row>2</th><td>1706</td><td>2.701629e-145</td><td>1.739698e-110</td><td>1.552930e-38</td><td>0</td><td>1</td><td>ENSG00000251661</td><td>2</td><td>ME_106_2</td><td>ME_106_2-11:1-1332794</td><td>1</td></tr>\n",
       "\t<tr><th scope=row>3</th><td>1695</td><td>9.885529e-160</td><td>1.739698e-110</td><td>5.682324e-53</td><td>0</td><td>1</td><td>ENSG00000254910</td><td>2</td><td>ME_106_2</td><td>ME_106_2-11:1-1332794</td><td>1</td></tr>\n",
       "\t<tr><th scope=row>4</th><td>1695</td><td> 1.538896e-98</td><td> 3.679035e-80</td><td>4.182879e-22</td><td>0</td><td>1</td><td>ENSG00000254910</td><td>3</td><td>ME_106_2</td><td>ME_106_2-11:1-1332794</td><td>1</td></tr>\n",
       "\t<tr><th scope=row>5</th><td>1724</td><td>2.803508e-134</td><td>1.739698e-110</td><td>1.611491e-27</td><td>0</td><td>1</td><td>ENSG00000255328</td><td>3</td><td>ME_106_2</td><td>ME_106_2-11:1-1332794</td><td>1</td></tr>\n",
       "\t<tr><th scope=row>6</th><td>1722</td><td>1.886565e-163</td><td>1.739698e-110</td><td>1.084421e-56</td><td>0</td><td>1</td><td>ENSG00000270030</td><td>1</td><td>ME_106_2</td><td>ME_106_2-11:1-1332794</td><td>1</td></tr>\n",
       "</tbody>\n",
       "</table>\n"
      ],
      "text/latex": [
       "A data.frame: 6 × 11\n",
       "\\begin{tabular}{r|lllllllllll}\n",
       "  & nsnps & PP.H0.abf & PP.H1.abf & PP.H2.abf & PP.H3.abf & PP.H4.abf & Gene & eQTL.Signal & Eigengene & Module.QTL & Coloc.Factor\\\\\n",
       "  & <int> & <dbl> & <dbl> & <dbl> & <dbl> & <dbl> & <chr> & <int> & <chr> & <chr> & <dbl>\\\\\n",
       "\\hline\n",
       "\t1 & 1725 & 1.325296e-105 &  3.679035e-80 & 3.602294e-29 & 0 & 1 & ENSG00000142089 & 1 & ME\\_106\\_2 & ME\\_106\\_2-11:1-1332794 & 1\\\\\n",
       "\t2 & 1706 & 2.701629e-145 & 1.739698e-110 & 1.552930e-38 & 0 & 1 & ENSG00000251661 & 2 & ME\\_106\\_2 & ME\\_106\\_2-11:1-1332794 & 1\\\\\n",
       "\t3 & 1695 & 9.885529e-160 & 1.739698e-110 & 5.682324e-53 & 0 & 1 & ENSG00000254910 & 2 & ME\\_106\\_2 & ME\\_106\\_2-11:1-1332794 & 1\\\\\n",
       "\t4 & 1695 &  1.538896e-98 &  3.679035e-80 & 4.182879e-22 & 0 & 1 & ENSG00000254910 & 3 & ME\\_106\\_2 & ME\\_106\\_2-11:1-1332794 & 1\\\\\n",
       "\t5 & 1724 & 2.803508e-134 & 1.739698e-110 & 1.611491e-27 & 0 & 1 & ENSG00000255328 & 3 & ME\\_106\\_2 & ME\\_106\\_2-11:1-1332794 & 1\\\\\n",
       "\t6 & 1722 & 1.886565e-163 & 1.739698e-110 & 1.084421e-56 & 0 & 1 & ENSG00000270030 & 1 & ME\\_106\\_2 & ME\\_106\\_2-11:1-1332794 & 1\\\\\n",
       "\\end{tabular}\n"
      ],
      "text/markdown": [
       "\n",
       "A data.frame: 6 × 11\n",
       "\n",
       "| <!--/--> | nsnps &lt;int&gt; | PP.H0.abf &lt;dbl&gt; | PP.H1.abf &lt;dbl&gt; | PP.H2.abf &lt;dbl&gt; | PP.H3.abf &lt;dbl&gt; | PP.H4.abf &lt;dbl&gt; | Gene &lt;chr&gt; | eQTL.Signal &lt;int&gt; | Eigengene &lt;chr&gt; | Module.QTL &lt;chr&gt; | Coloc.Factor &lt;dbl&gt; |\n",
       "|---|---|---|---|---|---|---|---|---|---|---|---|\n",
       "| 1 | 1725 | 1.325296e-105 |  3.679035e-80 | 3.602294e-29 | 0 | 1 | ENSG00000142089 | 1 | ME_106_2 | ME_106_2-11:1-1332794 | 1 |\n",
       "| 2 | 1706 | 2.701629e-145 | 1.739698e-110 | 1.552930e-38 | 0 | 1 | ENSG00000251661 | 2 | ME_106_2 | ME_106_2-11:1-1332794 | 1 |\n",
       "| 3 | 1695 | 9.885529e-160 | 1.739698e-110 | 5.682324e-53 | 0 | 1 | ENSG00000254910 | 2 | ME_106_2 | ME_106_2-11:1-1332794 | 1 |\n",
       "| 4 | 1695 |  1.538896e-98 |  3.679035e-80 | 4.182879e-22 | 0 | 1 | ENSG00000254910 | 3 | ME_106_2 | ME_106_2-11:1-1332794 | 1 |\n",
       "| 5 | 1724 | 2.803508e-134 | 1.739698e-110 | 1.611491e-27 | 0 | 1 | ENSG00000255328 | 3 | ME_106_2 | ME_106_2-11:1-1332794 | 1 |\n",
       "| 6 | 1722 | 1.886565e-163 | 1.739698e-110 | 1.084421e-56 | 0 | 1 | ENSG00000270030 | 1 | ME_106_2 | ME_106_2-11:1-1332794 | 1 |\n",
       "\n"
      ],
      "text/plain": [
       "  nsnps PP.H0.abf     PP.H1.abf     PP.H2.abf    PP.H3.abf PP.H4.abf\n",
       "1 1725  1.325296e-105  3.679035e-80 3.602294e-29 0         1        \n",
       "2 1706  2.701629e-145 1.739698e-110 1.552930e-38 0         1        \n",
       "3 1695  9.885529e-160 1.739698e-110 5.682324e-53 0         1        \n",
       "4 1695   1.538896e-98  3.679035e-80 4.182879e-22 0         1        \n",
       "5 1724  2.803508e-134 1.739698e-110 1.611491e-27 0         1        \n",
       "6 1722  1.886565e-163 1.739698e-110 1.084421e-56 0         1        \n",
       "  Gene            eQTL.Signal Eigengene Module.QTL            Coloc.Factor\n",
       "1 ENSG00000142089 1           ME_106_2  ME_106_2-11:1-1332794 1           \n",
       "2 ENSG00000251661 2           ME_106_2  ME_106_2-11:1-1332794 1           \n",
       "3 ENSG00000254910 2           ME_106_2  ME_106_2-11:1-1332794 1           \n",
       "4 ENSG00000254910 3           ME_106_2  ME_106_2-11:1-1332794 1           \n",
       "5 ENSG00000255328 3           ME_106_2  ME_106_2-11:1-1332794 1           \n",
       "6 ENSG00000270030 1           ME_106_2  ME_106_2-11:1-1332794 1           "
      ]
     },
     "metadata": {},
     "output_type": "display_data"
    }
   ],
   "source": [
    "head(coloc.eqtl.mqtl)"
   ]
  },
  {
   "cell_type": "code",
   "execution_count": 8,
   "id": "64f3c340-6d10-4730-b160-00dc8e96125a",
   "metadata": {},
   "outputs": [],
   "source": [
    "geno.bim <- fread(\"~/gains_team282/Genotyping/All_genotyping_merged_filtered_b38_refiltered_rsID.bim\") %>%\n",
    "    as.data.frame()\n",
    "\n",
    "colnames(geno.bim) <- c(\"Chr\", \"SNP\", \"cM\", \"Pos\", \"Minor\", \"Major\")"
   ]
  },
  {
   "cell_type": "code",
   "execution_count": 9,
   "id": "d9052886-b75d-4e71-80e4-ca647654b091",
   "metadata": {},
   "outputs": [
    {
     "data": {
      "text/html": [
       "<table class=\"dataframe\">\n",
       "<caption>A data.frame: 6 × 6</caption>\n",
       "<thead>\n",
       "\t<tr><th></th><th scope=col>Chr</th><th scope=col>SNP</th><th scope=col>cM</th><th scope=col>Pos</th><th scope=col>Minor</th><th scope=col>Major</th></tr>\n",
       "\t<tr><th></th><th scope=col>&lt;chr&gt;</th><th scope=col>&lt;chr&gt;</th><th scope=col>&lt;int&gt;</th><th scope=col>&lt;int&gt;</th><th scope=col>&lt;chr&gt;</th><th scope=col>&lt;chr&gt;</th></tr>\n",
       "</thead>\n",
       "<tbody>\n",
       "\t<tr><th scope=row>1</th><td>1</td><td>rs3131972   </td><td>0</td><td>817341</td><td>A</td><td>G</td></tr>\n",
       "\t<tr><th scope=row>2</th><td>1</td><td>rs546843995 </td><td>0</td><td>818053</td><td>0</td><td>G</td></tr>\n",
       "\t<tr><th scope=row>3</th><td>1</td><td>rs553916047 </td><td>0</td><td>818359</td><td>0</td><td>A</td></tr>\n",
       "\t<tr><th scope=row>4</th><td>1</td><td>1:818740_T_C</td><td>0</td><td>818740</td><td>T</td><td>C</td></tr>\n",
       "\t<tr><th scope=row>5</th><td>1</td><td>rs145604921 </td><td>0</td><td>819378</td><td>0</td><td>C</td></tr>\n",
       "\t<tr><th scope=row>6</th><td>1</td><td>rs535256652 </td><td>0</td><td>821053</td><td>0</td><td>T</td></tr>\n",
       "</tbody>\n",
       "</table>\n"
      ],
      "text/latex": [
       "A data.frame: 6 × 6\n",
       "\\begin{tabular}{r|llllll}\n",
       "  & Chr & SNP & cM & Pos & Minor & Major\\\\\n",
       "  & <chr> & <chr> & <int> & <int> & <chr> & <chr>\\\\\n",
       "\\hline\n",
       "\t1 & 1 & rs3131972    & 0 & 817341 & A & G\\\\\n",
       "\t2 & 1 & rs546843995  & 0 & 818053 & 0 & G\\\\\n",
       "\t3 & 1 & rs553916047  & 0 & 818359 & 0 & A\\\\\n",
       "\t4 & 1 & 1:818740\\_T\\_C & 0 & 818740 & T & C\\\\\n",
       "\t5 & 1 & rs145604921  & 0 & 819378 & 0 & C\\\\\n",
       "\t6 & 1 & rs535256652  & 0 & 821053 & 0 & T\\\\\n",
       "\\end{tabular}\n"
      ],
      "text/markdown": [
       "\n",
       "A data.frame: 6 × 6\n",
       "\n",
       "| <!--/--> | Chr &lt;chr&gt; | SNP &lt;chr&gt; | cM &lt;int&gt; | Pos &lt;int&gt; | Minor &lt;chr&gt; | Major &lt;chr&gt; |\n",
       "|---|---|---|---|---|---|---|\n",
       "| 1 | 1 | rs3131972    | 0 | 817341 | A | G |\n",
       "| 2 | 1 | rs546843995  | 0 | 818053 | 0 | G |\n",
       "| 3 | 1 | rs553916047  | 0 | 818359 | 0 | A |\n",
       "| 4 | 1 | 1:818740_T_C | 0 | 818740 | T | C |\n",
       "| 5 | 1 | rs145604921  | 0 | 819378 | 0 | C |\n",
       "| 6 | 1 | rs535256652  | 0 | 821053 | 0 | T |\n",
       "\n"
      ],
      "text/plain": [
       "  Chr SNP          cM Pos    Minor Major\n",
       "1 1   rs3131972    0  817341 A     G    \n",
       "2 1   rs546843995  0  818053 0     G    \n",
       "3 1   rs553916047  0  818359 0     A    \n",
       "4 1   1:818740_T_C 0  818740 T     C    \n",
       "5 1   rs145604921  0  819378 0     C    \n",
       "6 1   rs535256652  0  821053 0     T    "
      ]
     },
     "metadata": {},
     "output_type": "display_data"
    }
   ],
   "source": [
    "head(geno.bim)"
   ]
  },
  {
   "cell_type": "code",
   "execution_count": 10,
   "id": "3fe7a8dc-e04a-4a2f-b38f-6fc9ad5eba86",
   "metadata": {},
   "outputs": [],
   "source": [
    "c.cis.eqtl <- readRDS(\"~/gains_team282/eqtl/cisresults/conditionalanalysis/conditional_eQTL_results_final.rds\")"
   ]
  },
  {
   "cell_type": "code",
   "execution_count": 11,
   "id": "972481f9-8e0c-4f1e-b5b8-fd9a6aedc347",
   "metadata": {},
   "outputs": [
    {
     "data": {
      "text/html": [
       "<table class=\"dataframe\">\n",
       "<caption>A data.frame: 6 × 6</caption>\n",
       "<thead>\n",
       "\t<tr><th></th><th scope=col>SNP</th><th scope=col>Gene</th><th scope=col>eQTL_beta</th><th scope=col>eQTL_SE</th><th scope=col>pvalue</th><th scope=col>Number</th></tr>\n",
       "\t<tr><th></th><th scope=col>&lt;chr&gt;</th><th scope=col>&lt;chr&gt;</th><th scope=col>&lt;chr&gt;</th><th scope=col>&lt;chr&gt;</th><th scope=col>&lt;chr&gt;</th><th scope=col>&lt;int&gt;</th></tr>\n",
       "</thead>\n",
       "<tbody>\n",
       "\t<tr><th scope=row>1</th><td>rs10753794</td><td>ENSG00000000457</td><td>0.0498587312408011 </td><td>0.00708515851579373</td><td>5.19259471106013e-12</td><td>1</td></tr>\n",
       "\t<tr><th scope=row>2</th><td>rs10919255</td><td>ENSG00000000460</td><td>-0.0726264894633498</td><td>0.0136853304567293 </td><td>1.72815915933528e-07</td><td>1</td></tr>\n",
       "\t<tr><th scope=row>3</th><td>rs77006036</td><td>ENSG00000000460</td><td>0.166236949102582  </td><td>0.0334472538699365 </td><td>8.47290238610159e-07</td><td>2</td></tr>\n",
       "\t<tr><th scope=row>4</th><td>rs12406047</td><td>ENSG00000000971</td><td>0.17135374034767   </td><td>0.0379807691167313 </td><td>7.51523462853891e-06</td><td>1</td></tr>\n",
       "\t<tr><th scope=row>5</th><td>rs6696136 </td><td>ENSG00000001460</td><td>0.45884434698694   </td><td>0.0871081626842823 </td><td>1.94887370606405e-07</td><td>1</td></tr>\n",
       "\t<tr><th scope=row>6</th><td>rs6676449 </td><td>ENSG00000001460</td><td>-0.371531778822554 </td><td>0.0880672792106829 </td><td>2.8471651589813e-05 </td><td>2</td></tr>\n",
       "</tbody>\n",
       "</table>\n"
      ],
      "text/latex": [
       "A data.frame: 6 × 6\n",
       "\\begin{tabular}{r|llllll}\n",
       "  & SNP & Gene & eQTL\\_beta & eQTL\\_SE & pvalue & Number\\\\\n",
       "  & <chr> & <chr> & <chr> & <chr> & <chr> & <int>\\\\\n",
       "\\hline\n",
       "\t1 & rs10753794 & ENSG00000000457 & 0.0498587312408011  & 0.00708515851579373 & 5.19259471106013e-12 & 1\\\\\n",
       "\t2 & rs10919255 & ENSG00000000460 & -0.0726264894633498 & 0.0136853304567293  & 1.72815915933528e-07 & 1\\\\\n",
       "\t3 & rs77006036 & ENSG00000000460 & 0.166236949102582   & 0.0334472538699365  & 8.47290238610159e-07 & 2\\\\\n",
       "\t4 & rs12406047 & ENSG00000000971 & 0.17135374034767    & 0.0379807691167313  & 7.51523462853891e-06 & 1\\\\\n",
       "\t5 & rs6696136  & ENSG00000001460 & 0.45884434698694    & 0.0871081626842823  & 1.94887370606405e-07 & 1\\\\\n",
       "\t6 & rs6676449  & ENSG00000001460 & -0.371531778822554  & 0.0880672792106829  & 2.8471651589813e-05  & 2\\\\\n",
       "\\end{tabular}\n"
      ],
      "text/markdown": [
       "\n",
       "A data.frame: 6 × 6\n",
       "\n",
       "| <!--/--> | SNP &lt;chr&gt; | Gene &lt;chr&gt; | eQTL_beta &lt;chr&gt; | eQTL_SE &lt;chr&gt; | pvalue &lt;chr&gt; | Number &lt;int&gt; |\n",
       "|---|---|---|---|---|---|---|\n",
       "| 1 | rs10753794 | ENSG00000000457 | 0.0498587312408011  | 0.00708515851579373 | 5.19259471106013e-12 | 1 |\n",
       "| 2 | rs10919255 | ENSG00000000460 | -0.0726264894633498 | 0.0136853304567293  | 1.72815915933528e-07 | 1 |\n",
       "| 3 | rs77006036 | ENSG00000000460 | 0.166236949102582   | 0.0334472538699365  | 8.47290238610159e-07 | 2 |\n",
       "| 4 | rs12406047 | ENSG00000000971 | 0.17135374034767    | 0.0379807691167313  | 7.51523462853891e-06 | 1 |\n",
       "| 5 | rs6696136  | ENSG00000001460 | 0.45884434698694    | 0.0871081626842823  | 1.94887370606405e-07 | 1 |\n",
       "| 6 | rs6676449  | ENSG00000001460 | -0.371531778822554  | 0.0880672792106829  | 2.8471651589813e-05  | 2 |\n",
       "\n"
      ],
      "text/plain": [
       "  SNP        Gene            eQTL_beta           eQTL_SE            \n",
       "1 rs10753794 ENSG00000000457 0.0498587312408011  0.00708515851579373\n",
       "2 rs10919255 ENSG00000000460 -0.0726264894633498 0.0136853304567293 \n",
       "3 rs77006036 ENSG00000000460 0.166236949102582   0.0334472538699365 \n",
       "4 rs12406047 ENSG00000000971 0.17135374034767    0.0379807691167313 \n",
       "5 rs6696136  ENSG00000001460 0.45884434698694    0.0871081626842823 \n",
       "6 rs6676449  ENSG00000001460 -0.371531778822554  0.0880672792106829 \n",
       "  pvalue               Number\n",
       "1 5.19259471106013e-12 1     \n",
       "2 1.72815915933528e-07 1     \n",
       "3 8.47290238610159e-07 2     \n",
       "4 7.51523462853891e-06 1     \n",
       "5 1.94887370606405e-07 1     \n",
       "6 2.8471651589813e-05  2     "
      ]
     },
     "metadata": {},
     "output_type": "display_data"
    }
   ],
   "source": [
    "head(c.cis.eqtl)"
   ]
  },
  {
   "cell_type": "code",
   "execution_count": 12,
   "id": "1776baf0-4b2d-4dc7-bd39-91b899e1ef7e",
   "metadata": {},
   "outputs": [],
   "source": [
    "vep <- fread(\"~/gains_team282/epigenetics/vep/ensembl_vep/qtl_vep_output.tsv\", sep=\"\\t\", na.strings=\"\") %>%\n",
    "    as.data.frame()"
   ]
  },
  {
   "cell_type": "code",
   "execution_count": 13,
   "id": "4efb7249-10fe-4c83-a1d8-f4a96c4012bf",
   "metadata": {},
   "outputs": [
    {
     "data": {
      "text/html": [
       "<table class=\"dataframe\">\n",
       "<caption>A data.frame: 6 × 110</caption>\n",
       "<thead>\n",
       "\t<tr><th></th><th scope=col>CHROM</th><th scope=col>POS</th><th scope=col>ID</th><th scope=col>REF</th><th scope=col>ALT</th><th scope=col>Allele</th><th scope=col>Consequence</th><th scope=col>IMPACT</th><th scope=col>SYMBOL</th><th scope=col>Gene</th><th scope=col>⋯</th><th scope=col>REVEL</th><th scope=col>SpliceAI_pred_DP_AG</th><th scope=col>SpliceAI_pred_DP_AL</th><th scope=col>SpliceAI_pred_DP_DG</th><th scope=col>SpliceAI_pred_DP_DL</th><th scope=col>SpliceAI_pred_DS_AG</th><th scope=col>SpliceAI_pred_DS_AL</th><th scope=col>SpliceAI_pred_DS_DG</th><th scope=col>SpliceAI_pred_DS_DL</th><th scope=col>SpliceAI_pred_SYMBOL</th></tr>\n",
       "\t<tr><th></th><th scope=col>&lt;int&gt;</th><th scope=col>&lt;int&gt;</th><th scope=col>&lt;chr&gt;</th><th scope=col>&lt;chr&gt;</th><th scope=col>&lt;chr&gt;</th><th scope=col>&lt;chr&gt;</th><th scope=col>&lt;chr&gt;</th><th scope=col>&lt;chr&gt;</th><th scope=col>&lt;chr&gt;</th><th scope=col>&lt;chr&gt;</th><th scope=col>⋯</th><th scope=col>&lt;dbl&gt;</th><th scope=col>&lt;int&gt;</th><th scope=col>&lt;int&gt;</th><th scope=col>&lt;int&gt;</th><th scope=col>&lt;int&gt;</th><th scope=col>&lt;dbl&gt;</th><th scope=col>&lt;dbl&gt;</th><th scope=col>&lt;dbl&gt;</th><th scope=col>&lt;dbl&gt;</th><th scope=col>&lt;chr&gt;</th></tr>\n",
       "</thead>\n",
       "<tbody>\n",
       "\t<tr><th scope=row>1</th><td>1</td><td>817341</td><td>rs3131972</td><td>G</td><td>A</td><td>A</td><td>upstream_gene_variant                       </td><td>MODIFIER</td><td>FAM87B</td><td>ENSG00000177757</td><td>⋯</td><td>NA</td><td>NA</td><td>NA</td><td>NA</td><td>NA</td><td>NA</td><td>NA</td><td>NA</td><td>NA</td><td>NA</td></tr>\n",
       "\t<tr><th scope=row>2</th><td>1</td><td>817341</td><td>rs3131972</td><td>G</td><td>A</td><td>A</td><td>intron_variant&amp;non_coding_transcript_variant</td><td>MODIFIER</td><td><span style=white-space:pre-wrap>NA    </span></td><td>ENSG00000230092</td><td>⋯</td><td>NA</td><td>NA</td><td>NA</td><td>NA</td><td>NA</td><td>NA</td><td>NA</td><td>NA</td><td>NA</td><td>NA</td></tr>\n",
       "\t<tr><th scope=row>3</th><td>1</td><td>817341</td><td>rs3131972</td><td>G</td><td>A</td><td>A</td><td>intron_variant&amp;non_coding_transcript_variant</td><td>MODIFIER</td><td><span style=white-space:pre-wrap>NA    </span></td><td>ENSG00000230021</td><td>⋯</td><td>NA</td><td>NA</td><td>NA</td><td>NA</td><td>NA</td><td>NA</td><td>NA</td><td>NA</td><td>NA</td><td>NA</td></tr>\n",
       "\t<tr><th scope=row>4</th><td>1</td><td>817341</td><td>rs3131972</td><td>G</td><td>A</td><td>A</td><td>intron_variant&amp;non_coding_transcript_variant</td><td>MODIFIER</td><td><span style=white-space:pre-wrap>NA    </span></td><td>ENSG00000230021</td><td>⋯</td><td>NA</td><td>NA</td><td>NA</td><td>NA</td><td>NA</td><td>NA</td><td>NA</td><td>NA</td><td>NA</td><td>NA</td></tr>\n",
       "\t<tr><th scope=row>5</th><td>1</td><td>817341</td><td>rs3131972</td><td>G</td><td>A</td><td>A</td><td>regulatory_region_variant                   </td><td>MODIFIER</td><td>NA    </td><td>NA             </td><td>⋯</td><td>NA</td><td>NA</td><td>NA</td><td>NA</td><td>NA</td><td>NA</td><td>NA</td><td>NA</td><td>NA</td><td>NA</td></tr>\n",
       "\t<tr><th scope=row>6</th><td>1</td><td>817341</td><td>rs3131972</td><td>G</td><td>A</td><td>A</td><td>TF_binding_site_variant                     </td><td>MODIFIER</td><td>NA    </td><td>NA             </td><td>⋯</td><td>NA</td><td>NA</td><td>NA</td><td>NA</td><td>NA</td><td>NA</td><td>NA</td><td>NA</td><td>NA</td><td>NA</td></tr>\n",
       "</tbody>\n",
       "</table>\n"
      ],
      "text/latex": [
       "A data.frame: 6 × 110\n",
       "\\begin{tabular}{r|lllllllllllllllllllll}\n",
       "  & CHROM & POS & ID & REF & ALT & Allele & Consequence & IMPACT & SYMBOL & Gene & ⋯ & REVEL & SpliceAI\\_pred\\_DP\\_AG & SpliceAI\\_pred\\_DP\\_AL & SpliceAI\\_pred\\_DP\\_DG & SpliceAI\\_pred\\_DP\\_DL & SpliceAI\\_pred\\_DS\\_AG & SpliceAI\\_pred\\_DS\\_AL & SpliceAI\\_pred\\_DS\\_DG & SpliceAI\\_pred\\_DS\\_DL & SpliceAI\\_pred\\_SYMBOL\\\\\n",
       "  & <int> & <int> & <chr> & <chr> & <chr> & <chr> & <chr> & <chr> & <chr> & <chr> & ⋯ & <dbl> & <int> & <int> & <int> & <int> & <dbl> & <dbl> & <dbl> & <dbl> & <chr>\\\\\n",
       "\\hline\n",
       "\t1 & 1 & 817341 & rs3131972 & G & A & A & upstream\\_gene\\_variant                        & MODIFIER & FAM87B & ENSG00000177757 & ⋯ & NA & NA & NA & NA & NA & NA & NA & NA & NA & NA\\\\\n",
       "\t2 & 1 & 817341 & rs3131972 & G & A & A & intron\\_variant\\&non\\_coding\\_transcript\\_variant & MODIFIER & NA     & ENSG00000230092 & ⋯ & NA & NA & NA & NA & NA & NA & NA & NA & NA & NA\\\\\n",
       "\t3 & 1 & 817341 & rs3131972 & G & A & A & intron\\_variant\\&non\\_coding\\_transcript\\_variant & MODIFIER & NA     & ENSG00000230021 & ⋯ & NA & NA & NA & NA & NA & NA & NA & NA & NA & NA\\\\\n",
       "\t4 & 1 & 817341 & rs3131972 & G & A & A & intron\\_variant\\&non\\_coding\\_transcript\\_variant & MODIFIER & NA     & ENSG00000230021 & ⋯ & NA & NA & NA & NA & NA & NA & NA & NA & NA & NA\\\\\n",
       "\t5 & 1 & 817341 & rs3131972 & G & A & A & regulatory\\_region\\_variant                    & MODIFIER & NA     & NA              & ⋯ & NA & NA & NA & NA & NA & NA & NA & NA & NA & NA\\\\\n",
       "\t6 & 1 & 817341 & rs3131972 & G & A & A & TF\\_binding\\_site\\_variant                      & MODIFIER & NA     & NA              & ⋯ & NA & NA & NA & NA & NA & NA & NA & NA & NA & NA\\\\\n",
       "\\end{tabular}\n"
      ],
      "text/markdown": [
       "\n",
       "A data.frame: 6 × 110\n",
       "\n",
       "| <!--/--> | CHROM &lt;int&gt; | POS &lt;int&gt; | ID &lt;chr&gt; | REF &lt;chr&gt; | ALT &lt;chr&gt; | Allele &lt;chr&gt; | Consequence &lt;chr&gt; | IMPACT &lt;chr&gt; | SYMBOL &lt;chr&gt; | Gene &lt;chr&gt; | ⋯ ⋯ | REVEL &lt;dbl&gt; | SpliceAI_pred_DP_AG &lt;int&gt; | SpliceAI_pred_DP_AL &lt;int&gt; | SpliceAI_pred_DP_DG &lt;int&gt; | SpliceAI_pred_DP_DL &lt;int&gt; | SpliceAI_pred_DS_AG &lt;dbl&gt; | SpliceAI_pred_DS_AL &lt;dbl&gt; | SpliceAI_pred_DS_DG &lt;dbl&gt; | SpliceAI_pred_DS_DL &lt;dbl&gt; | SpliceAI_pred_SYMBOL &lt;chr&gt; |\n",
       "|---|---|---|---|---|---|---|---|---|---|---|---|---|---|---|---|---|---|---|---|---|---|\n",
       "| 1 | 1 | 817341 | rs3131972 | G | A | A | upstream_gene_variant                        | MODIFIER | FAM87B | ENSG00000177757 | ⋯ | NA | NA | NA | NA | NA | NA | NA | NA | NA | NA |\n",
       "| 2 | 1 | 817341 | rs3131972 | G | A | A | intron_variant&amp;non_coding_transcript_variant | MODIFIER | NA     | ENSG00000230092 | ⋯ | NA | NA | NA | NA | NA | NA | NA | NA | NA | NA |\n",
       "| 3 | 1 | 817341 | rs3131972 | G | A | A | intron_variant&amp;non_coding_transcript_variant | MODIFIER | NA     | ENSG00000230021 | ⋯ | NA | NA | NA | NA | NA | NA | NA | NA | NA | NA |\n",
       "| 4 | 1 | 817341 | rs3131972 | G | A | A | intron_variant&amp;non_coding_transcript_variant | MODIFIER | NA     | ENSG00000230021 | ⋯ | NA | NA | NA | NA | NA | NA | NA | NA | NA | NA |\n",
       "| 5 | 1 | 817341 | rs3131972 | G | A | A | regulatory_region_variant                    | MODIFIER | NA     | NA              | ⋯ | NA | NA | NA | NA | NA | NA | NA | NA | NA | NA |\n",
       "| 6 | 1 | 817341 | rs3131972 | G | A | A | TF_binding_site_variant                      | MODIFIER | NA     | NA              | ⋯ | NA | NA | NA | NA | NA | NA | NA | NA | NA | NA |\n",
       "\n"
      ],
      "text/plain": [
       "  CHROM POS    ID        REF ALT Allele\n",
       "1 1     817341 rs3131972 G   A   A     \n",
       "2 1     817341 rs3131972 G   A   A     \n",
       "3 1     817341 rs3131972 G   A   A     \n",
       "4 1     817341 rs3131972 G   A   A     \n",
       "5 1     817341 rs3131972 G   A   A     \n",
       "6 1     817341 rs3131972 G   A   A     \n",
       "  Consequence                                  IMPACT   SYMBOL Gene           \n",
       "1 upstream_gene_variant                        MODIFIER FAM87B ENSG00000177757\n",
       "2 intron_variant&non_coding_transcript_variant MODIFIER NA     ENSG00000230092\n",
       "3 intron_variant&non_coding_transcript_variant MODIFIER NA     ENSG00000230021\n",
       "4 intron_variant&non_coding_transcript_variant MODIFIER NA     ENSG00000230021\n",
       "5 regulatory_region_variant                    MODIFIER NA     NA             \n",
       "6 TF_binding_site_variant                      MODIFIER NA     NA             \n",
       "  ⋯ REVEL SpliceAI_pred_DP_AG SpliceAI_pred_DP_AL SpliceAI_pred_DP_DG\n",
       "1 ⋯ NA    NA                  NA                  NA                 \n",
       "2 ⋯ NA    NA                  NA                  NA                 \n",
       "3 ⋯ NA    NA                  NA                  NA                 \n",
       "4 ⋯ NA    NA                  NA                  NA                 \n",
       "5 ⋯ NA    NA                  NA                  NA                 \n",
       "6 ⋯ NA    NA                  NA                  NA                 \n",
       "  SpliceAI_pred_DP_DL SpliceAI_pred_DS_AG SpliceAI_pred_DS_AL\n",
       "1 NA                  NA                  NA                 \n",
       "2 NA                  NA                  NA                 \n",
       "3 NA                  NA                  NA                 \n",
       "4 NA                  NA                  NA                 \n",
       "5 NA                  NA                  NA                 \n",
       "6 NA                  NA                  NA                 \n",
       "  SpliceAI_pred_DS_DG SpliceAI_pred_DS_DL SpliceAI_pred_SYMBOL\n",
       "1 NA                  NA                  NA                  \n",
       "2 NA                  NA                  NA                  \n",
       "3 NA                  NA                  NA                  \n",
       "4 NA                  NA                  NA                  \n",
       "5 NA                  NA                  NA                  \n",
       "6 NA                  NA                  NA                  "
      ]
     },
     "metadata": {},
     "output_type": "display_data"
    }
   ],
   "source": [
    "head(vep)"
   ]
  },
  {
   "cell_type": "code",
   "execution_count": 14,
   "id": "bcbe7aa9-4323-4955-9838-fd1a2df9b9f7",
   "metadata": {},
   "outputs": [],
   "source": [
    "files.dir <- \"/nfs/users/nfs_n/nm18/gains_team282/epigenetics/enrichment/go_shifter/conditional_snps_ld/\"\n",
    "files <- list.files(files.dir)\n",
    "files <- files[grepl(\"overlap_scores\", files)]\n",
    "\n",
    "overlap.scores <- lapply(files, function(file) {\n",
    "    fread(paste0(files.dir, \"/\", file)) %>%\n",
    "        as.data.frame() %>%\n",
    "        dplyr::mutate(Group=gsub(\"conditional_snps_ld_\", \"\", gsub(\"_overlap_scores.tsv\", \"\", file)))\n",
    "}) %>%\n",
    "    do.call(rbind, .) %>%\n",
    "    dplyr::filter(Overlap == 1)"
   ]
  },
  {
   "cell_type": "code",
   "execution_count": 15,
   "id": "39e1ab28-f1c0-4d12-bb2c-31af8623731e",
   "metadata": {},
   "outputs": [],
   "source": [
    "loci <- read.table(\"/nfs/users/nfs_n/nm18/gains_team282/epigenetics/enrichment/go_shifter/snp_lists/conditional_snps_ld.txt\", header=T)"
   ]
  },
  {
   "cell_type": "code",
   "execution_count": 16,
   "id": "d4248ba1-fdb3-4ad2-8064-96a95ccaaa9a",
   "metadata": {},
   "outputs": [],
   "source": [
    "snp.h2 <- read.csv(\"~/gains_team282/epigenetics/enrichment/partitioned_heritability/per_snp_heritability.csv\")"
   ]
  },
  {
   "cell_type": "code",
   "execution_count": 17,
   "id": "c137d625-1ee4-4998-9c9e-efecfb2c52b9",
   "metadata": {},
   "outputs": [
    {
     "data": {
      "text/html": [
       "<table class=\"dataframe\">\n",
       "<caption>A data.frame: 6 × 11</caption>\n",
       "<thead>\n",
       "\t<tr><th></th><th scope=col>Annot</th><th scope=col>Eigengene</th><th scope=col>SNPs.Annotation</th><th scope=col>SNPs.Other</th><th scope=col>SNPs.Total</th><th scope=col>Annotation</th><th scope=col>Individual</th><th scope=col>Other</th><th scope=col>Residual</th><th scope=col>Per.SNP.Enrichment</th><th scope=col>Log.Enrichment</th></tr>\n",
       "\t<tr><th></th><th scope=col>&lt;chr&gt;</th><th scope=col>&lt;chr&gt;</th><th scope=col>&lt;int&gt;</th><th scope=col>&lt;int&gt;</th><th scope=col>&lt;int&gt;</th><th scope=col>&lt;dbl&gt;</th><th scope=col>&lt;dbl&gt;</th><th scope=col>&lt;dbl&gt;</th><th scope=col>&lt;dbl&gt;</th><th scope=col>&lt;dbl&gt;</th><th scope=col>&lt;dbl&gt;</th></tr>\n",
       "</thead>\n",
       "<tbody>\n",
       "\t<tr><th scope=row>1</th><td>Bulk_B-Control</td><td>ME_1_1  </td><td>59881</td><td>4097145</td><td>4157026</td><td>4.120183e-16</td><td>5.443220e-08</td><td>1.198100e-06</td><td>3.507126e-06</td><td>2.387355e-08</td><td>-25.320012</td></tr>\n",
       "\t<tr><th scope=row>2</th><td>Bulk_B-Control</td><td>ME_10_1 </td><td>59881</td><td>4097145</td><td>4157026</td><td>9.208798e-05</td><td>0.000000e+00</td><td>2.281507e-05</td><td>2.835113e-05</td><td>5.563718e+01</td><td>  5.797977</td></tr>\n",
       "\t<tr><th scope=row>3</th><td>Bulk_B-Control</td><td>ME_101_1</td><td>59881</td><td>4097145</td><td>4157026</td><td>7.681705e-05</td><td>2.565170e-04</td><td>4.501491e-13</td><td>7.481390e-05</td><td>6.942145e+01</td><td>  6.117310</td></tr>\n",
       "\t<tr><th scope=row>4</th><td>Bulk_B-Control</td><td>ME_102_1</td><td>59881</td><td>4097145</td><td>4157026</td><td>8.457279e-04</td><td>3.535808e-13</td><td>1.628466e-04</td><td>6.285881e-05</td><td>5.821252e+01</td><td>  5.863258</td></tr>\n",
       "\t<tr><th scope=row>5</th><td>Bulk_B-Control</td><td>ME_103_1</td><td>59881</td><td>4097145</td><td>4157026</td><td>1.510706e-12</td><td>1.657035e-12</td><td>5.302640e-05</td><td>9.489297e-05</td><td>1.977796e-06</td><td>-18.947675</td></tr>\n",
       "\t<tr><th scope=row>6</th><td>Bulk_B-Control</td><td>ME_104_1</td><td>59881</td><td>4097145</td><td>4157026</td><td>1.657799e-04</td><td>5.393482e-11</td><td>3.646383e-04</td><td>1.471571e-04</td><td>2.169738e+01</td><td>  4.439449</td></tr>\n",
       "</tbody>\n",
       "</table>\n"
      ],
      "text/latex": [
       "A data.frame: 6 × 11\n",
       "\\begin{tabular}{r|lllllllllll}\n",
       "  & Annot & Eigengene & SNPs.Annotation & SNPs.Other & SNPs.Total & Annotation & Individual & Other & Residual & Per.SNP.Enrichment & Log.Enrichment\\\\\n",
       "  & <chr> & <chr> & <int> & <int> & <int> & <dbl> & <dbl> & <dbl> & <dbl> & <dbl> & <dbl>\\\\\n",
       "\\hline\n",
       "\t1 & Bulk\\_B-Control & ME\\_1\\_1   & 59881 & 4097145 & 4157026 & 4.120183e-16 & 5.443220e-08 & 1.198100e-06 & 3.507126e-06 & 2.387355e-08 & -25.320012\\\\\n",
       "\t2 & Bulk\\_B-Control & ME\\_10\\_1  & 59881 & 4097145 & 4157026 & 9.208798e-05 & 0.000000e+00 & 2.281507e-05 & 2.835113e-05 & 5.563718e+01 &   5.797977\\\\\n",
       "\t3 & Bulk\\_B-Control & ME\\_101\\_1 & 59881 & 4097145 & 4157026 & 7.681705e-05 & 2.565170e-04 & 4.501491e-13 & 7.481390e-05 & 6.942145e+01 &   6.117310\\\\\n",
       "\t4 & Bulk\\_B-Control & ME\\_102\\_1 & 59881 & 4097145 & 4157026 & 8.457279e-04 & 3.535808e-13 & 1.628466e-04 & 6.285881e-05 & 5.821252e+01 &   5.863258\\\\\n",
       "\t5 & Bulk\\_B-Control & ME\\_103\\_1 & 59881 & 4097145 & 4157026 & 1.510706e-12 & 1.657035e-12 & 5.302640e-05 & 9.489297e-05 & 1.977796e-06 & -18.947675\\\\\n",
       "\t6 & Bulk\\_B-Control & ME\\_104\\_1 & 59881 & 4097145 & 4157026 & 1.657799e-04 & 5.393482e-11 & 3.646383e-04 & 1.471571e-04 & 2.169738e+01 &   4.439449\\\\\n",
       "\\end{tabular}\n"
      ],
      "text/markdown": [
       "\n",
       "A data.frame: 6 × 11\n",
       "\n",
       "| <!--/--> | Annot &lt;chr&gt; | Eigengene &lt;chr&gt; | SNPs.Annotation &lt;int&gt; | SNPs.Other &lt;int&gt; | SNPs.Total &lt;int&gt; | Annotation &lt;dbl&gt; | Individual &lt;dbl&gt; | Other &lt;dbl&gt; | Residual &lt;dbl&gt; | Per.SNP.Enrichment &lt;dbl&gt; | Log.Enrichment &lt;dbl&gt; |\n",
       "|---|---|---|---|---|---|---|---|---|---|---|---|\n",
       "| 1 | Bulk_B-Control | ME_1_1   | 59881 | 4097145 | 4157026 | 4.120183e-16 | 5.443220e-08 | 1.198100e-06 | 3.507126e-06 | 2.387355e-08 | -25.320012 |\n",
       "| 2 | Bulk_B-Control | ME_10_1  | 59881 | 4097145 | 4157026 | 9.208798e-05 | 0.000000e+00 | 2.281507e-05 | 2.835113e-05 | 5.563718e+01 |   5.797977 |\n",
       "| 3 | Bulk_B-Control | ME_101_1 | 59881 | 4097145 | 4157026 | 7.681705e-05 | 2.565170e-04 | 4.501491e-13 | 7.481390e-05 | 6.942145e+01 |   6.117310 |\n",
       "| 4 | Bulk_B-Control | ME_102_1 | 59881 | 4097145 | 4157026 | 8.457279e-04 | 3.535808e-13 | 1.628466e-04 | 6.285881e-05 | 5.821252e+01 |   5.863258 |\n",
       "| 5 | Bulk_B-Control | ME_103_1 | 59881 | 4097145 | 4157026 | 1.510706e-12 | 1.657035e-12 | 5.302640e-05 | 9.489297e-05 | 1.977796e-06 | -18.947675 |\n",
       "| 6 | Bulk_B-Control | ME_104_1 | 59881 | 4097145 | 4157026 | 1.657799e-04 | 5.393482e-11 | 3.646383e-04 | 1.471571e-04 | 2.169738e+01 |   4.439449 |\n",
       "\n"
      ],
      "text/plain": [
       "  Annot          Eigengene SNPs.Annotation SNPs.Other SNPs.Total Annotation  \n",
       "1 Bulk_B-Control ME_1_1    59881           4097145    4157026    4.120183e-16\n",
       "2 Bulk_B-Control ME_10_1   59881           4097145    4157026    9.208798e-05\n",
       "3 Bulk_B-Control ME_101_1  59881           4097145    4157026    7.681705e-05\n",
       "4 Bulk_B-Control ME_102_1  59881           4097145    4157026    8.457279e-04\n",
       "5 Bulk_B-Control ME_103_1  59881           4097145    4157026    1.510706e-12\n",
       "6 Bulk_B-Control ME_104_1  59881           4097145    4157026    1.657799e-04\n",
       "  Individual   Other        Residual     Per.SNP.Enrichment Log.Enrichment\n",
       "1 5.443220e-08 1.198100e-06 3.507126e-06 2.387355e-08       -25.320012    \n",
       "2 0.000000e+00 2.281507e-05 2.835113e-05 5.563718e+01         5.797977    \n",
       "3 2.565170e-04 4.501491e-13 7.481390e-05 6.942145e+01         6.117310    \n",
       "4 3.535808e-13 1.628466e-04 6.285881e-05 5.821252e+01         5.863258    \n",
       "5 1.657035e-12 5.302640e-05 9.489297e-05 1.977796e-06       -18.947675    \n",
       "6 5.393482e-11 3.646383e-04 1.471571e-04 2.169738e+01         4.439449    "
      ]
     },
     "metadata": {},
     "output_type": "display_data"
    }
   ],
   "source": [
    "head(snp.h2)"
   ]
  },
  {
   "cell_type": "code",
   "execution_count": 18,
   "id": "a01f8e33-781d-4944-a6c0-bc74584d7f5d",
   "metadata": {},
   "outputs": [],
   "source": [
    "lineages <- read.csv(\"03_Functional_Interpretation/data/Calderon_et_al_lineages.csv\") %>%\n",
    "    dplyr::bind_rows(c(\"Lineage\"=\"MYELOID\", \"Cell_Type\"=\"Neutrophils\"))"
   ]
  },
  {
   "cell_type": "code",
   "execution_count": 19,
   "id": "b64c2772-8de4-4ff0-a6c7-c04c892254c6",
   "metadata": {},
   "outputs": [
    {
     "data": {
      "text/html": [
       "<table class=\"dataframe\">\n",
       "<caption>A data.frame: 6 × 2</caption>\n",
       "<thead>\n",
       "\t<tr><th></th><th scope=col>Lineage</th><th scope=col>Cell_Type</th></tr>\n",
       "\t<tr><th></th><th scope=col>&lt;chr&gt;</th><th scope=col>&lt;chr&gt;</th></tr>\n",
       "</thead>\n",
       "<tbody>\n",
       "\t<tr><th scope=row>1</th><td>B  </td><td>Bulk_B                 </td></tr>\n",
       "\t<tr><th scope=row>2</th><td>B  </td><td>Mem_B                  </td></tr>\n",
       "\t<tr><th scope=row>3</th><td>B  </td><td>Naive_B                </td></tr>\n",
       "\t<tr><th scope=row>4</th><td>B  </td><td>Plasmablasts           </td></tr>\n",
       "\t<tr><th scope=row>5</th><td>CD8</td><td>CD8pos_T               </td></tr>\n",
       "\t<tr><th scope=row>6</th><td>CD8</td><td>Central_memory_CD8pos_T</td></tr>\n",
       "</tbody>\n",
       "</table>\n"
      ],
      "text/latex": [
       "A data.frame: 6 × 2\n",
       "\\begin{tabular}{r|ll}\n",
       "  & Lineage & Cell\\_Type\\\\\n",
       "  & <chr> & <chr>\\\\\n",
       "\\hline\n",
       "\t1 & B   & Bulk\\_B                 \\\\\n",
       "\t2 & B   & Mem\\_B                  \\\\\n",
       "\t3 & B   & Naive\\_B                \\\\\n",
       "\t4 & B   & Plasmablasts           \\\\\n",
       "\t5 & CD8 & CD8pos\\_T               \\\\\n",
       "\t6 & CD8 & Central\\_memory\\_CD8pos\\_T\\\\\n",
       "\\end{tabular}\n"
      ],
      "text/markdown": [
       "\n",
       "A data.frame: 6 × 2\n",
       "\n",
       "| <!--/--> | Lineage &lt;chr&gt; | Cell_Type &lt;chr&gt; |\n",
       "|---|---|---|\n",
       "| 1 | B   | Bulk_B                  |\n",
       "| 2 | B   | Mem_B                   |\n",
       "| 3 | B   | Naive_B                 |\n",
       "| 4 | B   | Plasmablasts            |\n",
       "| 5 | CD8 | CD8pos_T                |\n",
       "| 6 | CD8 | Central_memory_CD8pos_T |\n",
       "\n"
      ],
      "text/plain": [
       "  Lineage Cell_Type              \n",
       "1 B       Bulk_B                 \n",
       "2 B       Mem_B                  \n",
       "3 B       Naive_B                \n",
       "4 B       Plasmablasts           \n",
       "5 CD8     CD8pos_T               \n",
       "6 CD8     Central_memory_CD8pos_T"
      ]
     },
     "metadata": {},
     "output_type": "display_data"
    }
   ],
   "source": [
    "head(lineages)"
   ]
  },
  {
   "cell_type": "markdown",
   "id": "5dd1f1e5-8053-409e-980d-e450ba1ee040",
   "metadata": {
    "jp-MarkdownHeadingCollapsed": true,
    "tags": []
   },
   "source": [
    "## Module 101"
   ]
  },
  {
   "cell_type": "markdown",
   "id": "4f9790ab-aea4-4a72-b53a-cdaf1c241125",
   "metadata": {},
   "source": [
    "The Chr 12 module QTL for module 101 is associated with lymphocyte and eosinophil count. It contains very fewe genes, none of which are particularly easy to interpret:\n",
    "1. SUOX - sulfite oxidase - enzyme in amino acid biochemistry\n",
    "2. TMEM50A - transmembrane protein 50A - tightly linked to RH haplotypes\n",
    "3. RHD - Rh Blood Group D antigen\n",
    "4. RPS26 - Member of the ribosomal 40S subunit"
   ]
  },
  {
   "cell_type": "code",
   "execution_count": 20,
   "id": "d1594149-ec3b-47eb-a212-d39e39b448e7",
   "metadata": {},
   "outputs": [
    {
     "data": {
      "text/html": [
       "<table class=\"dataframe\">\n",
       "<caption>A data.frame: 11 × 5</caption>\n",
       "<thead>\n",
       "\t<tr><th scope=col>Gene</th><th scope=col>Module</th><th scope=col>seqnames</th><th scope=col>gene_name</th><th scope=col>gene_biotype</th></tr>\n",
       "\t<tr><th scope=col>&lt;chr&gt;</th><th scope=col>&lt;chr&gt;</th><th scope=col>&lt;chr&gt;</th><th scope=col>&lt;chr&gt;</th><th scope=col>&lt;chr&gt;</th></tr>\n",
       "</thead>\n",
       "<tbody>\n",
       "\t<tr><td>ENSG00000139531</td><td>Module_101</td><td>12</td><td>SUOX      </td><td>protein_coding                  </td></tr>\n",
       "\t<tr><td>ENSG00000183726</td><td>Module_101</td><td>1 </td><td>TMEM50A   </td><td>protein_coding                  </td></tr>\n",
       "\t<tr><td>ENSG00000187010</td><td>Module_101</td><td>1 </td><td>RHD       </td><td>protein_coding                  </td></tr>\n",
       "\t<tr><td>ENSG00000196656</td><td>Module_101</td><td>4 </td><td>AC004057.1</td><td>transcribed_processed_pseudogene</td></tr>\n",
       "\t<tr><td>ENSG00000197728</td><td>Module_101</td><td>12</td><td>RPS26     </td><td>protein_coding                  </td></tr>\n",
       "\t<tr><td>ENSG00000224183</td><td>Module_101</td><td>1 </td><td>SDHDP6    </td><td>processed_pseudogene            </td></tr>\n",
       "\t<tr><td>ENSG00000230426</td><td>Module_101</td><td>1 </td><td>ERVMER61-1</td><td>lncRNA                          </td></tr>\n",
       "\t<tr><td>ENSG00000250222</td><td>Module_101</td><td>5 </td><td>AC008443.5</td><td>lncRNA                          </td></tr>\n",
       "\t<tr><td>ENSG00000261349</td><td>Module_101</td><td>1 </td><td>AL031432.2</td><td>unprocessed_pseudogene          </td></tr>\n",
       "\t<tr><td>ENSG00000270055</td><td>Module_101</td><td>15</td><td>AC127502.2</td><td>lncRNA                          </td></tr>\n",
       "\t<tr><td>ENSG00000273189</td><td>Module_101</td><td>19</td><td>AC010619.3</td><td>lncRNA                          </td></tr>\n",
       "</tbody>\n",
       "</table>\n"
      ],
      "text/latex": [
       "A data.frame: 11 × 5\n",
       "\\begin{tabular}{lllll}\n",
       " Gene & Module & seqnames & gene\\_name & gene\\_biotype\\\\\n",
       " <chr> & <chr> & <chr> & <chr> & <chr>\\\\\n",
       "\\hline\n",
       "\t ENSG00000139531 & Module\\_101 & 12 & SUOX       & protein\\_coding                  \\\\\n",
       "\t ENSG00000183726 & Module\\_101 & 1  & TMEM50A    & protein\\_coding                  \\\\\n",
       "\t ENSG00000187010 & Module\\_101 & 1  & RHD        & protein\\_coding                  \\\\\n",
       "\t ENSG00000196656 & Module\\_101 & 4  & AC004057.1 & transcribed\\_processed\\_pseudogene\\\\\n",
       "\t ENSG00000197728 & Module\\_101 & 12 & RPS26      & protein\\_coding                  \\\\\n",
       "\t ENSG00000224183 & Module\\_101 & 1  & SDHDP6     & processed\\_pseudogene            \\\\\n",
       "\t ENSG00000230426 & Module\\_101 & 1  & ERVMER61-1 & lncRNA                          \\\\\n",
       "\t ENSG00000250222 & Module\\_101 & 5  & AC008443.5 & lncRNA                          \\\\\n",
       "\t ENSG00000261349 & Module\\_101 & 1  & AL031432.2 & unprocessed\\_pseudogene          \\\\\n",
       "\t ENSG00000270055 & Module\\_101 & 15 & AC127502.2 & lncRNA                          \\\\\n",
       "\t ENSG00000273189 & Module\\_101 & 19 & AC010619.3 & lncRNA                          \\\\\n",
       "\\end{tabular}\n"
      ],
      "text/markdown": [
       "\n",
       "A data.frame: 11 × 5\n",
       "\n",
       "| Gene &lt;chr&gt; | Module &lt;chr&gt; | seqnames &lt;chr&gt; | gene_name &lt;chr&gt; | gene_biotype &lt;chr&gt; |\n",
       "|---|---|---|---|---|\n",
       "| ENSG00000139531 | Module_101 | 12 | SUOX       | protein_coding                   |\n",
       "| ENSG00000183726 | Module_101 | 1  | TMEM50A    | protein_coding                   |\n",
       "| ENSG00000187010 | Module_101 | 1  | RHD        | protein_coding                   |\n",
       "| ENSG00000196656 | Module_101 | 4  | AC004057.1 | transcribed_processed_pseudogene |\n",
       "| ENSG00000197728 | Module_101 | 12 | RPS26      | protein_coding                   |\n",
       "| ENSG00000224183 | Module_101 | 1  | SDHDP6     | processed_pseudogene             |\n",
       "| ENSG00000230426 | Module_101 | 1  | ERVMER61-1 | lncRNA                           |\n",
       "| ENSG00000250222 | Module_101 | 5  | AC008443.5 | lncRNA                           |\n",
       "| ENSG00000261349 | Module_101 | 1  | AL031432.2 | unprocessed_pseudogene           |\n",
       "| ENSG00000270055 | Module_101 | 15 | AC127502.2 | lncRNA                           |\n",
       "| ENSG00000273189 | Module_101 | 19 | AC010619.3 | lncRNA                           |\n",
       "\n"
      ],
      "text/plain": [
       "   Gene            Module     seqnames gene_name \n",
       "1  ENSG00000139531 Module_101 12       SUOX      \n",
       "2  ENSG00000183726 Module_101 1        TMEM50A   \n",
       "3  ENSG00000187010 Module_101 1        RHD       \n",
       "4  ENSG00000196656 Module_101 4        AC004057.1\n",
       "5  ENSG00000197728 Module_101 12       RPS26     \n",
       "6  ENSG00000224183 Module_101 1        SDHDP6    \n",
       "7  ENSG00000230426 Module_101 1        ERVMER61-1\n",
       "8  ENSG00000250222 Module_101 5        AC008443.5\n",
       "9  ENSG00000261349 Module_101 1        AL031432.2\n",
       "10 ENSG00000270055 Module_101 15       AC127502.2\n",
       "11 ENSG00000273189 Module_101 19       AC010619.3\n",
       "   gene_biotype                    \n",
       "1  protein_coding                  \n",
       "2  protein_coding                  \n",
       "3  protein_coding                  \n",
       "4  transcribed_processed_pseudogene\n",
       "5  protein_coding                  \n",
       "6  processed_pseudogene            \n",
       "7  lncRNA                          \n",
       "8  lncRNA                          \n",
       "9  unprocessed_pseudogene          \n",
       "10 lncRNA                          \n",
       "11 lncRNA                          "
      ]
     },
     "metadata": {},
     "output_type": "display_data"
    }
   ],
   "source": [
    "modules %>%\n",
    "    dplyr::filter(Module == \"Module_101\") %>%\n",
    "    dplyr::select(Gene, Module, seqnames, gene_name, gene_biotype)"
   ]
  },
  {
   "cell_type": "markdown",
   "id": "b0a27779-16f8-4e7a-a620-64b4fda0ef7b",
   "metadata": {},
   "source": [
    "The following genes colocalise with the module QTL on chromosome 12 and are a part of the module:\n",
    "1. SUOX\n",
    "2. RPS26\n",
    "\n",
    "The following colocalises but is not in the module:\n",
    "1. GDF11 - TGF beta ligand that activates SMAD family"
   ]
  },
  {
   "cell_type": "code",
   "execution_count": 21,
   "id": "a3605316-55e7-47fe-9e96-5ee651ed58c7",
   "metadata": {},
   "outputs": [
    {
     "data": {
      "text/html": [
       "<table class=\"dataframe\">\n",
       "<caption>A data.frame: 3 × 2</caption>\n",
       "<thead>\n",
       "\t<tr><th scope=col>Gene</th><th scope=col>gene_name</th></tr>\n",
       "\t<tr><th scope=col>&lt;chr&gt;</th><th scope=col>&lt;chr&gt;</th></tr>\n",
       "</thead>\n",
       "<tbody>\n",
       "\t<tr><td>ENSG00000135414</td><td>GDF11</td></tr>\n",
       "\t<tr><td>ENSG00000139531</td><td>SUOX </td></tr>\n",
       "\t<tr><td>ENSG00000197728</td><td>RPS26</td></tr>\n",
       "</tbody>\n",
       "</table>\n"
      ],
      "text/latex": [
       "A data.frame: 3 × 2\n",
       "\\begin{tabular}{ll}\n",
       " Gene & gene\\_name\\\\\n",
       " <chr> & <chr>\\\\\n",
       "\\hline\n",
       "\t ENSG00000135414 & GDF11\\\\\n",
       "\t ENSG00000139531 & SUOX \\\\\n",
       "\t ENSG00000197728 & RPS26\\\\\n",
       "\\end{tabular}\n"
      ],
      "text/markdown": [
       "\n",
       "A data.frame: 3 × 2\n",
       "\n",
       "| Gene &lt;chr&gt; | gene_name &lt;chr&gt; |\n",
       "|---|---|\n",
       "| ENSG00000135414 | GDF11 |\n",
       "| ENSG00000139531 | SUOX  |\n",
       "| ENSG00000197728 | RPS26 |\n",
       "\n"
      ],
      "text/plain": [
       "  Gene            gene_name\n",
       "1 ENSG00000135414 GDF11    \n",
       "2 ENSG00000139531 SUOX     \n",
       "3 ENSG00000197728 RPS26    "
      ]
     },
     "metadata": {},
     "output_type": "display_data"
    }
   ],
   "source": [
    "coloc.eqtl.mqtl %>%\n",
    "    dplyr::filter(grepl(\"ME_101_[0-9]-12\", Module.QTL)) %>%\n",
    "    dplyr::count(Gene) %>%\n",
    "    merge(., gene.info, by.x=\"Gene\", by.y=\"gene_id\") %>%\n",
    "    dplyr::select(Gene, gene_name)"
   ]
  },
  {
   "cell_type": "markdown",
   "id": "5b0265ee-33af-432a-97db-aaf2328e2039",
   "metadata": {},
   "source": [
    "Take ME_101_1 as an example. Contains 1 CS with 6 SNPs.\n",
    "1. rs1131017 - The SNP with the highest PIP is a 5' UTR variant in RPS26.\n",
    "2. rs10876864 - The SNP with the second highest PIP is in an accessible region near IKZF4. However, IKZF4 has a cis-eqtl that did not colocalise."
   ]
  },
  {
   "cell_type": "code",
   "execution_count": 22,
   "id": "58d08847-f908-4874-84a1-ed6a79fd1114",
   "metadata": {},
   "outputs": [],
   "source": [
    "susie <- fread(\"~/gains_team282/nikhil/colocalization/mqtl/fine_mapping/SuSiE/module_qtl_credible_sets.tsv\")"
   ]
  },
  {
   "cell_type": "code",
   "execution_count": 23,
   "id": "116966e5-bd6d-4d16-9ed6-fef38d5d023a",
   "metadata": {},
   "outputs": [
    {
     "data": {
      "text/html": [
       "<table class=\"dataframe\">\n",
       "<caption>A data.table: 6 × 5</caption>\n",
       "<thead>\n",
       "\t<tr><th scope=col>Gene</th><th scope=col>SNP</th><th scope=col>SNP_Prob</th><th scope=col>Credible_Set</th><th scope=col>Notes</th></tr>\n",
       "\t<tr><th scope=col>&lt;chr&gt;</th><th scope=col>&lt;chr&gt;</th><th scope=col>&lt;dbl&gt;</th><th scope=col>&lt;int&gt;</th><th scope=col>&lt;chr&gt;</th></tr>\n",
       "</thead>\n",
       "<tbody>\n",
       "\t<tr><td>ME_101_1-12:54985643-57100037</td><td>rs1131017 </td><td>0.61704516</td><td>1</td><td>NA</td></tr>\n",
       "\t<tr><td>ME_101_1-12:54985643-57100037</td><td>rs10876864</td><td>0.24300396</td><td>1</td><td>NA</td></tr>\n",
       "\t<tr><td>ME_101_1-12:54985643-57100037</td><td>rs705700  </td><td>0.02947028</td><td>1</td><td>NA</td></tr>\n",
       "\t<tr><td>ME_101_1-12:54985643-57100037</td><td>rs773114  </td><td>0.02720337</td><td>1</td><td>NA</td></tr>\n",
       "\t<tr><td>ME_101_1-12:54985643-57100037</td><td>rs1873914 </td><td>0.02720337</td><td>1</td><td>NA</td></tr>\n",
       "\t<tr><td>ME_101_1-12:54985643-57100037</td><td>rs705699  </td><td>0.02453304</td><td>1</td><td>NA</td></tr>\n",
       "</tbody>\n",
       "</table>\n"
      ],
      "text/latex": [
       "A data.table: 6 × 5\n",
       "\\begin{tabular}{lllll}\n",
       " Gene & SNP & SNP\\_Prob & Credible\\_Set & Notes\\\\\n",
       " <chr> & <chr> & <dbl> & <int> & <chr>\\\\\n",
       "\\hline\n",
       "\t ME\\_101\\_1-12:54985643-57100037 & rs1131017  & 0.61704516 & 1 & NA\\\\\n",
       "\t ME\\_101\\_1-12:54985643-57100037 & rs10876864 & 0.24300396 & 1 & NA\\\\\n",
       "\t ME\\_101\\_1-12:54985643-57100037 & rs705700   & 0.02947028 & 1 & NA\\\\\n",
       "\t ME\\_101\\_1-12:54985643-57100037 & rs773114   & 0.02720337 & 1 & NA\\\\\n",
       "\t ME\\_101\\_1-12:54985643-57100037 & rs1873914  & 0.02720337 & 1 & NA\\\\\n",
       "\t ME\\_101\\_1-12:54985643-57100037 & rs705699   & 0.02453304 & 1 & NA\\\\\n",
       "\\end{tabular}\n"
      ],
      "text/markdown": [
       "\n",
       "A data.table: 6 × 5\n",
       "\n",
       "| Gene &lt;chr&gt; | SNP &lt;chr&gt; | SNP_Prob &lt;dbl&gt; | Credible_Set &lt;int&gt; | Notes &lt;chr&gt; |\n",
       "|---|---|---|---|---|\n",
       "| ME_101_1-12:54985643-57100037 | rs1131017  | 0.61704516 | 1 | NA |\n",
       "| ME_101_1-12:54985643-57100037 | rs10876864 | 0.24300396 | 1 | NA |\n",
       "| ME_101_1-12:54985643-57100037 | rs705700   | 0.02947028 | 1 | NA |\n",
       "| ME_101_1-12:54985643-57100037 | rs773114   | 0.02720337 | 1 | NA |\n",
       "| ME_101_1-12:54985643-57100037 | rs1873914  | 0.02720337 | 1 | NA |\n",
       "| ME_101_1-12:54985643-57100037 | rs705699   | 0.02453304 | 1 | NA |\n",
       "\n"
      ],
      "text/plain": [
       "  Gene                          SNP        SNP_Prob   Credible_Set Notes\n",
       "1 ME_101_1-12:54985643-57100037 rs1131017  0.61704516 1            NA   \n",
       "2 ME_101_1-12:54985643-57100037 rs10876864 0.24300396 1            NA   \n",
       "3 ME_101_1-12:54985643-57100037 rs705700   0.02947028 1            NA   \n",
       "4 ME_101_1-12:54985643-57100037 rs773114   0.02720337 1            NA   \n",
       "5 ME_101_1-12:54985643-57100037 rs1873914  0.02720337 1            NA   \n",
       "6 ME_101_1-12:54985643-57100037 rs705699   0.02453304 1            NA   "
      ]
     },
     "metadata": {},
     "output_type": "display_data"
    }
   ],
   "source": [
    "susie %>%\n",
    "    dplyr::filter(grepl(\"ME_101_1-12\", Gene))"
   ]
  },
  {
   "cell_type": "code",
   "execution_count": 24,
   "id": "2aa860bb-c5f0-490c-9657-575eda457326",
   "metadata": {},
   "outputs": [
    {
     "data": {
      "text/html": [
       "TRUE"
      ],
      "text/latex": [
       "TRUE"
      ],
      "text/markdown": [
       "TRUE"
      ],
      "text/plain": [
       "[1] TRUE"
      ]
     },
     "metadata": {},
     "output_type": "display_data"
    }
   ],
   "source": [
    "\"ENSG00000123411\" %in% rownames(gene.info)"
   ]
  },
  {
   "cell_type": "markdown",
   "id": "ec78c271-2992-4ed4-8c52-c23fbe9e3707",
   "metadata": {},
   "source": [
    "eQTL for RPS26"
   ]
  },
  {
   "cell_type": "code",
   "execution_count": 25,
   "id": "fd9764db-3716-49f1-9520-28637f74e7d6",
   "metadata": {},
   "outputs": [
    {
     "data": {
      "text/html": [
       "<table class=\"dataframe\">\n",
       "<caption>A data.frame: 1 × 6</caption>\n",
       "<thead>\n",
       "\t<tr><th scope=col>SNP</th><th scope=col>Gene</th><th scope=col>eQTL_beta</th><th scope=col>eQTL_SE</th><th scope=col>pvalue</th><th scope=col>Number</th></tr>\n",
       "\t<tr><th scope=col>&lt;chr&gt;</th><th scope=col>&lt;chr&gt;</th><th scope=col>&lt;chr&gt;</th><th scope=col>&lt;chr&gt;</th><th scope=col>&lt;chr&gt;</th><th scope=col>&lt;int&gt;</th></tr>\n",
       "</thead>\n",
       "<tbody>\n",
       "\t<tr><td>rs1131017</td><td>ENSG00000197728</td><td>1.00598089845071</td><td>0.0146830170566902</td><td>6.8895400691918e-293</td><td>1</td></tr>\n",
       "</tbody>\n",
       "</table>\n"
      ],
      "text/latex": [
       "A data.frame: 1 × 6\n",
       "\\begin{tabular}{llllll}\n",
       " SNP & Gene & eQTL\\_beta & eQTL\\_SE & pvalue & Number\\\\\n",
       " <chr> & <chr> & <chr> & <chr> & <chr> & <int>\\\\\n",
       "\\hline\n",
       "\t rs1131017 & ENSG00000197728 & 1.00598089845071 & 0.0146830170566902 & 6.8895400691918e-293 & 1\\\\\n",
       "\\end{tabular}\n"
      ],
      "text/markdown": [
       "\n",
       "A data.frame: 1 × 6\n",
       "\n",
       "| SNP &lt;chr&gt; | Gene &lt;chr&gt; | eQTL_beta &lt;chr&gt; | eQTL_SE &lt;chr&gt; | pvalue &lt;chr&gt; | Number &lt;int&gt; |\n",
       "|---|---|---|---|---|---|\n",
       "| rs1131017 | ENSG00000197728 | 1.00598089845071 | 0.0146830170566902 | 6.8895400691918e-293 | 1 |\n",
       "\n"
      ],
      "text/plain": [
       "  SNP       Gene            eQTL_beta        eQTL_SE           \n",
       "1 rs1131017 ENSG00000197728 1.00598089845071 0.0146830170566902\n",
       "  pvalue               Number\n",
       "1 6.8895400691918e-293 1     "
      ]
     },
     "metadata": {},
     "output_type": "display_data"
    },
    {
     "data": {
      "text/html": [
       "<table class=\"dataframe\">\n",
       "<caption>A data.frame: 1 × 6</caption>\n",
       "<thead>\n",
       "\t<tr><th scope=col>Chr</th><th scope=col>SNP</th><th scope=col>cM</th><th scope=col>Pos</th><th scope=col>Minor</th><th scope=col>Major</th></tr>\n",
       "\t<tr><th scope=col>&lt;chr&gt;</th><th scope=col>&lt;chr&gt;</th><th scope=col>&lt;int&gt;</th><th scope=col>&lt;int&gt;</th><th scope=col>&lt;chr&gt;</th><th scope=col>&lt;chr&gt;</th></tr>\n",
       "</thead>\n",
       "<tbody>\n",
       "\t<tr><td>12</td><td>rs1131017</td><td>0</td><td>56042145</td><td>C</td><td>G</td></tr>\n",
       "</tbody>\n",
       "</table>\n"
      ],
      "text/latex": [
       "A data.frame: 1 × 6\n",
       "\\begin{tabular}{llllll}\n",
       " Chr & SNP & cM & Pos & Minor & Major\\\\\n",
       " <chr> & <chr> & <int> & <int> & <chr> & <chr>\\\\\n",
       "\\hline\n",
       "\t 12 & rs1131017 & 0 & 56042145 & C & G\\\\\n",
       "\\end{tabular}\n"
      ],
      "text/markdown": [
       "\n",
       "A data.frame: 1 × 6\n",
       "\n",
       "| Chr &lt;chr&gt; | SNP &lt;chr&gt; | cM &lt;int&gt; | Pos &lt;int&gt; | Minor &lt;chr&gt; | Major &lt;chr&gt; |\n",
       "|---|---|---|---|---|---|\n",
       "| 12 | rs1131017 | 0 | 56042145 | C | G |\n",
       "\n"
      ],
      "text/plain": [
       "  Chr SNP       cM Pos      Minor Major\n",
       "1 12  rs1131017 0  56042145 C     G    "
      ]
     },
     "metadata": {},
     "output_type": "display_data"
    }
   ],
   "source": [
    "c.cis.eqtl %>%\n",
    "    dplyr::filter(SNP == \"rs1131017\")\n",
    "\n",
    "geno.bim %>%\n",
    "    dplyr::filter(SNP == \"rs1131017\")"
   ]
  },
  {
   "cell_type": "markdown",
   "id": "7086fdda-2411-4f99-821a-e6fdd8ca3c5f",
   "metadata": {},
   "source": [
    "Locus is enriched in some neutrophil subsets."
   ]
  },
  {
   "cell_type": "code",
   "execution_count": 26,
   "id": "7dd47fff-9cf8-4307-b204-440da43ade3e",
   "metadata": {},
   "outputs": [
    {
     "data": {
      "image/png": "[encoded data removed]",
      "text/plain": [
       "plot without title"
      ]
     },
     "metadata": {
      "image/png": {
       "height": 240,
       "width": 480
      }
     },
     "output_type": "display_data"
    }
   ],
   "source": [
    "options(repr.plot.width=8, repr.plot.height=4)\n",
    "\n",
    "plot.data <- loci %>%\n",
    "    dplyr::filter(SNP == \"rs1131017\") %>%\n",
    "    merge(., overlap.scores, by=\"Locus\") %>%\n",
    "    dplyr::arrange(Overlap_Score) %>%\n",
    "    dplyr::select(Group, Overlap_Score) %>%\n",
    "    dplyr::group_by(Group) %>%\n",
    "    dplyr::summarize(Mean_Overlap_Score=mean(Overlap_Score)) %>%\n",
    "    dplyr::mutate(Neutrophils = c(\"No\", \"Yes\")[as.numeric(grepl(\"Neutrophil\", Group)) + 1])\n",
    "    \n",
    "plot.data %>%\n",
    "    ggplot(aes(x=\"Module 101\", y=Mean_Overlap_Score, fill=Neutrophils)) +\n",
    "    geom_dotplot(binaxis=\"y\", stackdir=\"center\", binwidth=0.025) +\n",
    "    scale_fill_brewer(palette=\"Pastel1\") + \n",
    "    ylim(0, 1) + ylab(\"Mean Overlap Score\") +\n",
    "    coord_flip() +\n",
    "    ggplot_theme +\n",
    "    theme(axis.title.y=element_blank())\n",
    "\n",
    "ggsave(\"03_Functional_Interpretation/results/integration_module_101_goshifter.pdf\", width=8, height=4)"
   ]
  },
  {
   "cell_type": "markdown",
   "id": "a5138d5e-5158-4e23-804b-55527fdbcdb1",
   "metadata": {},
   "source": [
    "VEP: "
   ]
  },
  {
   "cell_type": "code",
   "execution_count": 27,
   "id": "a9964077-1b98-4f6a-bc93-1c18d733a460",
   "metadata": {},
   "outputs": [
    {
     "data": {
      "text/html": [
       "<table class=\"dataframe\">\n",
       "<caption>A data.frame: 2 × 12</caption>\n",
       "<thead>\n",
       "\t<tr><th scope=col>CHROM</th><th scope=col>POS</th><th scope=col>ID</th><th scope=col>REF</th><th scope=col>ALT</th><th scope=col>Allele</th><th scope=col>Consequence</th><th scope=col>MOTIF_NAME</th><th scope=col>MOTIF_POS</th><th scope=col>HIGH_INF_POS</th><th scope=col>MOTIF_SCORE_CHANGE</th><th scope=col>TRANSCRIPTION_FACTORS</th></tr>\n",
       "\t<tr><th scope=col>&lt;int&gt;</th><th scope=col>&lt;int&gt;</th><th scope=col>&lt;chr&gt;</th><th scope=col>&lt;chr&gt;</th><th scope=col>&lt;chr&gt;</th><th scope=col>&lt;chr&gt;</th><th scope=col>&lt;chr&gt;</th><th scope=col>&lt;chr&gt;</th><th scope=col>&lt;int&gt;</th><th scope=col>&lt;chr&gt;</th><th scope=col>&lt;dbl&gt;</th><th scope=col>&lt;chr&gt;</th></tr>\n",
       "</thead>\n",
       "<tbody>\n",
       "\t<tr><td>12</td><td>56042145</td><td>rs1131017</td><td>G</td><td>C</td><td>C</td><td>TF_binding_site_variant</td><td>ENSPFM0212</td><td>4</td><td>Y</td><td> 0.000</td><td>GATA3&amp;GATA5&amp;GATA4</td></tr>\n",
       "\t<tr><td>12</td><td>56042145</td><td>rs1131017</td><td>C</td><td>G</td><td>G</td><td>TF_binding_site_variant</td><td>ENSPFM0212</td><td>4</td><td>Y</td><td>-0.169</td><td>GATA3&amp;GATA5&amp;GATA4</td></tr>\n",
       "</tbody>\n",
       "</table>\n"
      ],
      "text/latex": [
       "A data.frame: 2 × 12\n",
       "\\begin{tabular}{llllllllllll}\n",
       " CHROM & POS & ID & REF & ALT & Allele & Consequence & MOTIF\\_NAME & MOTIF\\_POS & HIGH\\_INF\\_POS & MOTIF\\_SCORE\\_CHANGE & TRANSCRIPTION\\_FACTORS\\\\\n",
       " <int> & <int> & <chr> & <chr> & <chr> & <chr> & <chr> & <chr> & <int> & <chr> & <dbl> & <chr>\\\\\n",
       "\\hline\n",
       "\t 12 & 56042145 & rs1131017 & G & C & C & TF\\_binding\\_site\\_variant & ENSPFM0212 & 4 & Y &  0.000 & GATA3\\&GATA5\\&GATA4\\\\\n",
       "\t 12 & 56042145 & rs1131017 & C & G & G & TF\\_binding\\_site\\_variant & ENSPFM0212 & 4 & Y & -0.169 & GATA3\\&GATA5\\&GATA4\\\\\n",
       "\\end{tabular}\n"
      ],
      "text/markdown": [
       "\n",
       "A data.frame: 2 × 12\n",
       "\n",
       "| CHROM &lt;int&gt; | POS &lt;int&gt; | ID &lt;chr&gt; | REF &lt;chr&gt; | ALT &lt;chr&gt; | Allele &lt;chr&gt; | Consequence &lt;chr&gt; | MOTIF_NAME &lt;chr&gt; | MOTIF_POS &lt;int&gt; | HIGH_INF_POS &lt;chr&gt; | MOTIF_SCORE_CHANGE &lt;dbl&gt; | TRANSCRIPTION_FACTORS &lt;chr&gt; |\n",
       "|---|---|---|---|---|---|---|---|---|---|---|---|\n",
       "| 12 | 56042145 | rs1131017 | G | C | C | TF_binding_site_variant | ENSPFM0212 | 4 | Y |  0.000 | GATA3&amp;GATA5&amp;GATA4 |\n",
       "| 12 | 56042145 | rs1131017 | C | G | G | TF_binding_site_variant | ENSPFM0212 | 4 | Y | -0.169 | GATA3&amp;GATA5&amp;GATA4 |\n",
       "\n"
      ],
      "text/plain": [
       "  CHROM POS      ID        REF ALT Allele Consequence             MOTIF_NAME\n",
       "1 12    56042145 rs1131017 G   C   C      TF_binding_site_variant ENSPFM0212\n",
       "2 12    56042145 rs1131017 C   G   G      TF_binding_site_variant ENSPFM0212\n",
       "  MOTIF_POS HIGH_INF_POS MOTIF_SCORE_CHANGE TRANSCRIPTION_FACTORS\n",
       "1 4         Y             0.000             GATA3&GATA5&GATA4    \n",
       "2 4         Y            -0.169             GATA3&GATA5&GATA4    "
      ]
     },
     "metadata": {},
     "output_type": "display_data"
    }
   ],
   "source": [
    "vep %>%\n",
    "    dplyr::filter(ID == \"rs1131017\") %>%\n",
    "    dplyr::filter(Consequence == \"TF_binding_site_variant\") %>%\n",
    "    dplyr::select(CHROM, POS, ID, REF, ALT, Allele, Consequence, MOTIF_NAME, MOTIF_POS, HIGH_INF_POS, MOTIF_SCORE_CHANGE, TRANSCRIPTION_FACTORS)"
   ]
  },
  {
   "cell_type": "markdown",
   "id": "2700f114-74dd-4aa8-8162-a0d99c3f8734",
   "metadata": {
    "jp-MarkdownHeadingCollapsed": true,
    "tags": []
   },
   "source": [
    "## Module 103"
   ]
  },
  {
   "cell_type": "code",
   "execution_count": 28,
   "id": "36f5c13c-6bf1-40e4-9c7b-bbf997afa969",
   "metadata": {},
   "outputs": [
    {
     "data": {
      "text/html": [
       "<table class=\"dataframe\">\n",
       "<caption>A data.frame: 11 × 5</caption>\n",
       "<thead>\n",
       "\t<tr><th scope=col>Gene</th><th scope=col>Module</th><th scope=col>seqnames</th><th scope=col>gene_name</th><th scope=col>gene_biotype</th></tr>\n",
       "\t<tr><th scope=col>&lt;chr&gt;</th><th scope=col>&lt;chr&gt;</th><th scope=col>&lt;chr&gt;</th><th scope=col>&lt;chr&gt;</th><th scope=col>&lt;chr&gt;</th></tr>\n",
       "</thead>\n",
       "<tbody>\n",
       "\t<tr><td>ENSG00000090382</td><td>Module_103</td><td>12</td><td>LYZ       </td><td>protein_coding</td></tr>\n",
       "\t<tr><td>ENSG00000117242</td><td>Module_103</td><td>1 </td><td>PINK1-AS  </td><td>lncRNA        </td></tr>\n",
       "\t<tr><td>ENSG00000127337</td><td>Module_103</td><td>12</td><td>YEATS4    </td><td>protein_coding</td></tr>\n",
       "\t<tr><td>ENSG00000158445</td><td>Module_103</td><td>20</td><td>KCNB1     </td><td>protein_coding</td></tr>\n",
       "\t<tr><td>ENSG00000166900</td><td>Module_103</td><td>11</td><td>STX3      </td><td>protein_coding</td></tr>\n",
       "\t<tr><td>ENSG00000188895</td><td>Module_103</td><td>17</td><td>MSL1      </td><td>protein_coding</td></tr>\n",
       "\t<tr><td>ENSG00000257764</td><td>Module_103</td><td>12</td><td>AC020656.1</td><td>lncRNA        </td></tr>\n",
       "\t<tr><td>ENSG00000268618</td><td>Module_103</td><td>19</td><td>AC092316.1</td><td>lncRNA        </td></tr>\n",
       "\t<tr><td>ENSG00000271821</td><td>Module_103</td><td>6 </td><td>AL662844.3</td><td>lncRNA        </td></tr>\n",
       "\t<tr><td>ENSG00000274979</td><td>Module_103</td><td>12</td><td>AC020656.2</td><td>lncRNA        </td></tr>\n",
       "\t<tr><td>ENSG00000279199</td><td>Module_103</td><td>17</td><td>AC068669.1</td><td>TEC           </td></tr>\n",
       "</tbody>\n",
       "</table>\n"
      ],
      "text/latex": [
       "A data.frame: 11 × 5\n",
       "\\begin{tabular}{lllll}\n",
       " Gene & Module & seqnames & gene\\_name & gene\\_biotype\\\\\n",
       " <chr> & <chr> & <chr> & <chr> & <chr>\\\\\n",
       "\\hline\n",
       "\t ENSG00000090382 & Module\\_103 & 12 & LYZ        & protein\\_coding\\\\\n",
       "\t ENSG00000117242 & Module\\_103 & 1  & PINK1-AS   & lncRNA        \\\\\n",
       "\t ENSG00000127337 & Module\\_103 & 12 & YEATS4     & protein\\_coding\\\\\n",
       "\t ENSG00000158445 & Module\\_103 & 20 & KCNB1      & protein\\_coding\\\\\n",
       "\t ENSG00000166900 & Module\\_103 & 11 & STX3       & protein\\_coding\\\\\n",
       "\t ENSG00000188895 & Module\\_103 & 17 & MSL1       & protein\\_coding\\\\\n",
       "\t ENSG00000257764 & Module\\_103 & 12 & AC020656.1 & lncRNA        \\\\\n",
       "\t ENSG00000268618 & Module\\_103 & 19 & AC092316.1 & lncRNA        \\\\\n",
       "\t ENSG00000271821 & Module\\_103 & 6  & AL662844.3 & lncRNA        \\\\\n",
       "\t ENSG00000274979 & Module\\_103 & 12 & AC020656.2 & lncRNA        \\\\\n",
       "\t ENSG00000279199 & Module\\_103 & 17 & AC068669.1 & TEC           \\\\\n",
       "\\end{tabular}\n"
      ],
      "text/markdown": [
       "\n",
       "A data.frame: 11 × 5\n",
       "\n",
       "| Gene &lt;chr&gt; | Module &lt;chr&gt; | seqnames &lt;chr&gt; | gene_name &lt;chr&gt; | gene_biotype &lt;chr&gt; |\n",
       "|---|---|---|---|---|\n",
       "| ENSG00000090382 | Module_103 | 12 | LYZ        | protein_coding |\n",
       "| ENSG00000117242 | Module_103 | 1  | PINK1-AS   | lncRNA         |\n",
       "| ENSG00000127337 | Module_103 | 12 | YEATS4     | protein_coding |\n",
       "| ENSG00000158445 | Module_103 | 20 | KCNB1      | protein_coding |\n",
       "| ENSG00000166900 | Module_103 | 11 | STX3       | protein_coding |\n",
       "| ENSG00000188895 | Module_103 | 17 | MSL1       | protein_coding |\n",
       "| ENSG00000257764 | Module_103 | 12 | AC020656.1 | lncRNA         |\n",
       "| ENSG00000268618 | Module_103 | 19 | AC092316.1 | lncRNA         |\n",
       "| ENSG00000271821 | Module_103 | 6  | AL662844.3 | lncRNA         |\n",
       "| ENSG00000274979 | Module_103 | 12 | AC020656.2 | lncRNA         |\n",
       "| ENSG00000279199 | Module_103 | 17 | AC068669.1 | TEC            |\n",
       "\n"
      ],
      "text/plain": [
       "   Gene            Module     seqnames gene_name  gene_biotype  \n",
       "1  ENSG00000090382 Module_103 12       LYZ        protein_coding\n",
       "2  ENSG00000117242 Module_103 1        PINK1-AS   lncRNA        \n",
       "3  ENSG00000127337 Module_103 12       YEATS4     protein_coding\n",
       "4  ENSG00000158445 Module_103 20       KCNB1      protein_coding\n",
       "5  ENSG00000166900 Module_103 11       STX3       protein_coding\n",
       "6  ENSG00000188895 Module_103 17       MSL1       protein_coding\n",
       "7  ENSG00000257764 Module_103 12       AC020656.1 lncRNA        \n",
       "8  ENSG00000268618 Module_103 19       AC092316.1 lncRNA        \n",
       "9  ENSG00000271821 Module_103 6        AL662844.3 lncRNA        \n",
       "10 ENSG00000274979 Module_103 12       AC020656.2 lncRNA        \n",
       "11 ENSG00000279199 Module_103 17       AC068669.1 TEC           "
      ]
     },
     "metadata": {},
     "output_type": "display_data"
    }
   ],
   "source": [
    "modules %>%\n",
    "    dplyr::filter(Module == \"Module_103\") %>%\n",
    "    dplyr::select(Gene, Module, seqnames, gene_name, gene_biotype)"
   ]
  },
  {
   "cell_type": "code",
   "execution_count": 29,
   "id": "e7391c75-34b5-4275-b045-628da73f8401",
   "metadata": {},
   "outputs": [
    {
     "data": {
      "text/html": [
       "<table class=\"dataframe\">\n",
       "<caption>A data.frame: 4 × 2</caption>\n",
       "<thead>\n",
       "\t<tr><th scope=col>Gene</th><th scope=col>gene_name</th></tr>\n",
       "\t<tr><th scope=col>&lt;chr&gt;</th><th scope=col>&lt;chr&gt;</th></tr>\n",
       "</thead>\n",
       "<tbody>\n",
       "\t<tr><td>ENSG00000090382</td><td>LYZ       </td></tr>\n",
       "\t<tr><td>ENSG00000127337</td><td>YEATS4    </td></tr>\n",
       "\t<tr><td>ENSG00000257764</td><td>AC020656.1</td></tr>\n",
       "\t<tr><td>ENSG00000274979</td><td>AC020656.2</td></tr>\n",
       "</tbody>\n",
       "</table>\n"
      ],
      "text/latex": [
       "A data.frame: 4 × 2\n",
       "\\begin{tabular}{ll}\n",
       " Gene & gene\\_name\\\\\n",
       " <chr> & <chr>\\\\\n",
       "\\hline\n",
       "\t ENSG00000090382 & LYZ       \\\\\n",
       "\t ENSG00000127337 & YEATS4    \\\\\n",
       "\t ENSG00000257764 & AC020656.1\\\\\n",
       "\t ENSG00000274979 & AC020656.2\\\\\n",
       "\\end{tabular}\n"
      ],
      "text/markdown": [
       "\n",
       "A data.frame: 4 × 2\n",
       "\n",
       "| Gene &lt;chr&gt; | gene_name &lt;chr&gt; |\n",
       "|---|---|\n",
       "| ENSG00000090382 | LYZ        |\n",
       "| ENSG00000127337 | YEATS4     |\n",
       "| ENSG00000257764 | AC020656.1 |\n",
       "| ENSG00000274979 | AC020656.2 |\n",
       "\n"
      ],
      "text/plain": [
       "  Gene            gene_name \n",
       "1 ENSG00000090382 LYZ       \n",
       "2 ENSG00000127337 YEATS4    \n",
       "3 ENSG00000257764 AC020656.1\n",
       "4 ENSG00000274979 AC020656.2"
      ]
     },
     "metadata": {},
     "output_type": "display_data"
    }
   ],
   "source": [
    "coloc.eqtl.mqtl %>%\n",
    "    dplyr::filter(grepl(\"ME_103_[0-9]-12\", Module.QTL)) %>%\n",
    "    dplyr::count(Gene) %>%\n",
    "    merge(., gene.info, by.x=\"Gene\", by.y=\"gene_id\") %>%\n",
    "    dplyr::select(Gene, gene_name)"
   ]
  },
  {
   "cell_type": "code",
   "execution_count": 30,
   "id": "2500f180-1be1-4a66-a872-02aaf4447ced",
   "metadata": {},
   "outputs": [],
   "source": [
    "susie <- fread(\"~/gains_team282/nikhil/colocalization/mqtl/fine_mapping/SuSiE/module_qtl_credible_sets.tsv\")"
   ]
  },
  {
   "cell_type": "code",
   "execution_count": 31,
   "id": "16b969fe-c92a-47e8-86a1-724ea14e3cba",
   "metadata": {},
   "outputs": [
    {
     "data": {
      "text/html": [
       "<table class=\"dataframe\">\n",
       "<caption>A data.table: 14 × 5</caption>\n",
       "<thead>\n",
       "\t<tr><th scope=col>Gene</th><th scope=col>SNP</th><th scope=col>SNP_Prob</th><th scope=col>Credible_Set</th><th scope=col>Notes</th></tr>\n",
       "\t<tr><th scope=col>&lt;chr&gt;</th><th scope=col>&lt;chr&gt;</th><th scope=col>&lt;dbl&gt;</th><th scope=col>&lt;int&gt;</th><th scope=col>&lt;chr&gt;</th></tr>\n",
       "</thead>\n",
       "<tbody>\n",
       "\t<tr><td>ME_103_1-12:68275923-70376531</td><td>rs11177599</td><td>0.23951644</td><td>1</td><td>NA</td></tr>\n",
       "\t<tr><td>ME_103_1-12:68275923-70376531</td><td>rs4761233 </td><td>0.21005009</td><td>1</td><td>NA</td></tr>\n",
       "\t<tr><td>ME_103_1-12:68275923-70376531</td><td>rs4761234 </td><td>0.20778252</td><td>1</td><td>NA</td></tr>\n",
       "\t<tr><td>ME_103_1-12:68275923-70376531</td><td>rs57954211</td><td>0.05419821</td><td>1</td><td>NA</td></tr>\n",
       "\t<tr><td>ME_103_1-12:68275923-70376531</td><td>rs12819406</td><td>0.05096581</td><td>1</td><td>NA</td></tr>\n",
       "\t<tr><td>ME_103_1-12:68275923-70376531</td><td>rs12370042</td><td>0.02803082</td><td>1</td><td>NA</td></tr>\n",
       "\t<tr><td>ME_103_1-12:68275923-70376531</td><td>rs10878957</td><td>0.02579508</td><td>1</td><td>NA</td></tr>\n",
       "\t<tr><td>ME_103_1-12:68275923-70376531</td><td>rs4274230 </td><td>0.02579508</td><td>1</td><td>NA</td></tr>\n",
       "\t<tr><td>ME_103_1-12:68275923-70376531</td><td>rs4761154 </td><td>0.02579508</td><td>1</td><td>NA</td></tr>\n",
       "\t<tr><td>ME_103_1-12:68275923-70376531</td><td>rs4761231 </td><td>0.02579508</td><td>1</td><td>NA</td></tr>\n",
       "\t<tr><td>ME_103_1-12:68275923-70376531</td><td>rs12425153</td><td>0.02579508</td><td>1</td><td>NA</td></tr>\n",
       "\t<tr><td>ME_103_1-12:68275923-70376531</td><td>rs2168028 </td><td>0.02393445</td><td>1</td><td>NA</td></tr>\n",
       "\t<tr><td>ME_103_1-12:68275923-70376531</td><td>rs10878964</td><td>0.02393445</td><td>1</td><td>NA</td></tr>\n",
       "\t<tr><td>ME_103_1-12:68275923-70376531</td><td>rs1598543 </td><td>0.02250048</td><td>1</td><td>NA</td></tr>\n",
       "</tbody>\n",
       "</table>\n"
      ],
      "text/latex": [
       "A data.table: 14 × 5\n",
       "\\begin{tabular}{lllll}\n",
       " Gene & SNP & SNP\\_Prob & Credible\\_Set & Notes\\\\\n",
       " <chr> & <chr> & <dbl> & <int> & <chr>\\\\\n",
       "\\hline\n",
       "\t ME\\_103\\_1-12:68275923-70376531 & rs11177599 & 0.23951644 & 1 & NA\\\\\n",
       "\t ME\\_103\\_1-12:68275923-70376531 & rs4761233  & 0.21005009 & 1 & NA\\\\\n",
       "\t ME\\_103\\_1-12:68275923-70376531 & rs4761234  & 0.20778252 & 1 & NA\\\\\n",
       "\t ME\\_103\\_1-12:68275923-70376531 & rs57954211 & 0.05419821 & 1 & NA\\\\\n",
       "\t ME\\_103\\_1-12:68275923-70376531 & rs12819406 & 0.05096581 & 1 & NA\\\\\n",
       "\t ME\\_103\\_1-12:68275923-70376531 & rs12370042 & 0.02803082 & 1 & NA\\\\\n",
       "\t ME\\_103\\_1-12:68275923-70376531 & rs10878957 & 0.02579508 & 1 & NA\\\\\n",
       "\t ME\\_103\\_1-12:68275923-70376531 & rs4274230  & 0.02579508 & 1 & NA\\\\\n",
       "\t ME\\_103\\_1-12:68275923-70376531 & rs4761154  & 0.02579508 & 1 & NA\\\\\n",
       "\t ME\\_103\\_1-12:68275923-70376531 & rs4761231  & 0.02579508 & 1 & NA\\\\\n",
       "\t ME\\_103\\_1-12:68275923-70376531 & rs12425153 & 0.02579508 & 1 & NA\\\\\n",
       "\t ME\\_103\\_1-12:68275923-70376531 & rs2168028  & 0.02393445 & 1 & NA\\\\\n",
       "\t ME\\_103\\_1-12:68275923-70376531 & rs10878964 & 0.02393445 & 1 & NA\\\\\n",
       "\t ME\\_103\\_1-12:68275923-70376531 & rs1598543  & 0.02250048 & 1 & NA\\\\\n",
       "\\end{tabular}\n"
      ],
      "text/markdown": [
       "\n",
       "A data.table: 14 × 5\n",
       "\n",
       "| Gene &lt;chr&gt; | SNP &lt;chr&gt; | SNP_Prob &lt;dbl&gt; | Credible_Set &lt;int&gt; | Notes &lt;chr&gt; |\n",
       "|---|---|---|---|---|\n",
       "| ME_103_1-12:68275923-70376531 | rs11177599 | 0.23951644 | 1 | NA |\n",
       "| ME_103_1-12:68275923-70376531 | rs4761233  | 0.21005009 | 1 | NA |\n",
       "| ME_103_1-12:68275923-70376531 | rs4761234  | 0.20778252 | 1 | NA |\n",
       "| ME_103_1-12:68275923-70376531 | rs57954211 | 0.05419821 | 1 | NA |\n",
       "| ME_103_1-12:68275923-70376531 | rs12819406 | 0.05096581 | 1 | NA |\n",
       "| ME_103_1-12:68275923-70376531 | rs12370042 | 0.02803082 | 1 | NA |\n",
       "| ME_103_1-12:68275923-70376531 | rs10878957 | 0.02579508 | 1 | NA |\n",
       "| ME_103_1-12:68275923-70376531 | rs4274230  | 0.02579508 | 1 | NA |\n",
       "| ME_103_1-12:68275923-70376531 | rs4761154  | 0.02579508 | 1 | NA |\n",
       "| ME_103_1-12:68275923-70376531 | rs4761231  | 0.02579508 | 1 | NA |\n",
       "| ME_103_1-12:68275923-70376531 | rs12425153 | 0.02579508 | 1 | NA |\n",
       "| ME_103_1-12:68275923-70376531 | rs2168028  | 0.02393445 | 1 | NA |\n",
       "| ME_103_1-12:68275923-70376531 | rs10878964 | 0.02393445 | 1 | NA |\n",
       "| ME_103_1-12:68275923-70376531 | rs1598543  | 0.02250048 | 1 | NA |\n",
       "\n"
      ],
      "text/plain": [
       "   Gene                          SNP        SNP_Prob   Credible_Set Notes\n",
       "1  ME_103_1-12:68275923-70376531 rs11177599 0.23951644 1            NA   \n",
       "2  ME_103_1-12:68275923-70376531 rs4761233  0.21005009 1            NA   \n",
       "3  ME_103_1-12:68275923-70376531 rs4761234  0.20778252 1            NA   \n",
       "4  ME_103_1-12:68275923-70376531 rs57954211 0.05419821 1            NA   \n",
       "5  ME_103_1-12:68275923-70376531 rs12819406 0.05096581 1            NA   \n",
       "6  ME_103_1-12:68275923-70376531 rs12370042 0.02803082 1            NA   \n",
       "7  ME_103_1-12:68275923-70376531 rs10878957 0.02579508 1            NA   \n",
       "8  ME_103_1-12:68275923-70376531 rs4274230  0.02579508 1            NA   \n",
       "9  ME_103_1-12:68275923-70376531 rs4761154  0.02579508 1            NA   \n",
       "10 ME_103_1-12:68275923-70376531 rs4761231  0.02579508 1            NA   \n",
       "11 ME_103_1-12:68275923-70376531 rs12425153 0.02579508 1            NA   \n",
       "12 ME_103_1-12:68275923-70376531 rs2168028  0.02393445 1            NA   \n",
       "13 ME_103_1-12:68275923-70376531 rs10878964 0.02393445 1            NA   \n",
       "14 ME_103_1-12:68275923-70376531 rs1598543  0.02250048 1            NA   "
      ]
     },
     "metadata": {},
     "output_type": "display_data"
    }
   ],
   "source": [
    "susie %>%\n",
    "    dplyr::filter(grepl(\"ME_103_1-12\", Gene))"
   ]
  },
  {
   "cell_type": "code",
   "execution_count": 32,
   "id": "489ef039-1656-4c67-a8ff-46f035edc577",
   "metadata": {},
   "outputs": [
    {
     "data": {
      "text/html": [
       "<table class=\"dataframe\">\n",
       "<caption>A data.frame: 2 × 6</caption>\n",
       "<thead>\n",
       "\t<tr><th scope=col>SNP</th><th scope=col>Gene</th><th scope=col>eQTL_beta</th><th scope=col>eQTL_SE</th><th scope=col>pvalue</th><th scope=col>Number</th></tr>\n",
       "\t<tr><th scope=col>&lt;chr&gt;</th><th scope=col>&lt;chr&gt;</th><th scope=col>&lt;chr&gt;</th><th scope=col>&lt;chr&gt;</th><th scope=col>&lt;chr&gt;</th><th scope=col>&lt;int&gt;</th></tr>\n",
       "</thead>\n",
       "<tbody>\n",
       "\t<tr><td>rs4761234</td><td>ENSG00000090382</td><td>-0.44810367083151 </td><td>0.0295631162600982</td><td>1.51410781354003e-44</td><td>1</td></tr>\n",
       "\t<tr><td>rs4761234</td><td>ENSG00000274979</td><td>-0.274658772521897</td><td>0.0136118319028611</td><td>5.08860273133621e-70</td><td>1</td></tr>\n",
       "</tbody>\n",
       "</table>\n"
      ],
      "text/latex": [
       "A data.frame: 2 × 6\n",
       "\\begin{tabular}{llllll}\n",
       " SNP & Gene & eQTL\\_beta & eQTL\\_SE & pvalue & Number\\\\\n",
       " <chr> & <chr> & <chr> & <chr> & <chr> & <int>\\\\\n",
       "\\hline\n",
       "\t rs4761234 & ENSG00000090382 & -0.44810367083151  & 0.0295631162600982 & 1.51410781354003e-44 & 1\\\\\n",
       "\t rs4761234 & ENSG00000274979 & -0.274658772521897 & 0.0136118319028611 & 5.08860273133621e-70 & 1\\\\\n",
       "\\end{tabular}\n"
      ],
      "text/markdown": [
       "\n",
       "A data.frame: 2 × 6\n",
       "\n",
       "| SNP &lt;chr&gt; | Gene &lt;chr&gt; | eQTL_beta &lt;chr&gt; | eQTL_SE &lt;chr&gt; | pvalue &lt;chr&gt; | Number &lt;int&gt; |\n",
       "|---|---|---|---|---|---|\n",
       "| rs4761234 | ENSG00000090382 | -0.44810367083151  | 0.0295631162600982 | 1.51410781354003e-44 | 1 |\n",
       "| rs4761234 | ENSG00000274979 | -0.274658772521897 | 0.0136118319028611 | 5.08860273133621e-70 | 1 |\n",
       "\n"
      ],
      "text/plain": [
       "  SNP       Gene            eQTL_beta          eQTL_SE           \n",
       "1 rs4761234 ENSG00000090382 -0.44810367083151  0.0295631162600982\n",
       "2 rs4761234 ENSG00000274979 -0.274658772521897 0.0136118319028611\n",
       "  pvalue               Number\n",
       "1 1.51410781354003e-44 1     \n",
       "2 5.08860273133621e-70 1     "
      ]
     },
     "metadata": {},
     "output_type": "display_data"
    },
    {
     "data": {
      "text/html": [
       "<table class=\"dataframe\">\n",
       "<caption>A data.frame: 1 × 6</caption>\n",
       "<thead>\n",
       "\t<tr><th scope=col>Chr</th><th scope=col>SNP</th><th scope=col>cM</th><th scope=col>Pos</th><th scope=col>Minor</th><th scope=col>Major</th></tr>\n",
       "\t<tr><th scope=col>&lt;chr&gt;</th><th scope=col>&lt;chr&gt;</th><th scope=col>&lt;int&gt;</th><th scope=col>&lt;int&gt;</th><th scope=col>&lt;chr&gt;</th><th scope=col>&lt;chr&gt;</th></tr>\n",
       "</thead>\n",
       "<tbody>\n",
       "\t<tr><td>12</td><td>rs4761234</td><td>0</td><td>69338325</td><td>C</td><td>T</td></tr>\n",
       "</tbody>\n",
       "</table>\n"
      ],
      "text/latex": [
       "A data.frame: 1 × 6\n",
       "\\begin{tabular}{llllll}\n",
       " Chr & SNP & cM & Pos & Minor & Major\\\\\n",
       " <chr> & <chr> & <int> & <int> & <chr> & <chr>\\\\\n",
       "\\hline\n",
       "\t 12 & rs4761234 & 0 & 69338325 & C & T\\\\\n",
       "\\end{tabular}\n"
      ],
      "text/markdown": [
       "\n",
       "A data.frame: 1 × 6\n",
       "\n",
       "| Chr &lt;chr&gt; | SNP &lt;chr&gt; | cM &lt;int&gt; | Pos &lt;int&gt; | Minor &lt;chr&gt; | Major &lt;chr&gt; |\n",
       "|---|---|---|---|---|---|\n",
       "| 12 | rs4761234 | 0 | 69338325 | C | T |\n",
       "\n"
      ],
      "text/plain": [
       "  Chr SNP       cM Pos      Minor Major\n",
       "1 12  rs4761234 0  69338325 C     T    "
      ]
     },
     "metadata": {},
     "output_type": "display_data"
    }
   ],
   "source": [
    "c.cis.eqtl %>%\n",
    "    dplyr::filter(SNP == \"rs4761234\")\n",
    "\n",
    "geno.bim %>%\n",
    "    dplyr::filter(SNP == \"rs4761234\")"
   ]
  },
  {
   "cell_type": "code",
   "execution_count": 33,
   "id": "d75857ae-5eca-4c8e-89fc-b39c39aee84a",
   "metadata": {},
   "outputs": [
    {
     "data": {
      "image/png": "[encoded data removed]",
      "text/plain": [
       "plot without title"
      ]
     },
     "metadata": {
      "image/png": {
       "height": 240,
       "width": 480
      }
     },
     "output_type": "display_data"
    }
   ],
   "source": [
    "options(repr.plot.width=8, repr.plot.height=4)\n",
    "\n",
    "plot.data <- loci %>%\n",
    "    dplyr::filter(SNP == \"rs4761234\") %>%\n",
    "    merge(., overlap.scores, by=\"Locus\") %>%\n",
    "    dplyr::arrange(Overlap_Score) %>%\n",
    "    dplyr::select(Group, Overlap_Score) %>%\n",
    "    dplyr::group_by(Group) %>%\n",
    "    dplyr::summarize(Mean_Overlap_Score=mean(Overlap_Score)) %>%\n",
    "    dplyr::mutate(Neutrophils = c(\"No\", \"Yes\")[as.numeric(grepl(\"Neutrophil\", Group)) + 1])\n",
    "    \n",
    "plot.data %>%\n",
    "    ggplot(aes(x=\"Module 103\", y=Mean_Overlap_Score, fill=Neutrophils)) +\n",
    "    geom_dotplot(binaxis=\"y\", stackdir=\"center\", binwidth=0.025) +\n",
    "    scale_fill_brewer(palette=\"Pastel1\") + \n",
    "    ylim(0, 1) + ylab(\"Mean Overlap Score\") +\n",
    "    coord_flip() +\n",
    "    ggplot_theme +\n",
    "    theme(axis.title.y=element_blank())"
   ]
  },
  {
   "cell_type": "code",
   "execution_count": 34,
   "id": "6a12567c-ba1c-42e2-adc9-01f079f90257",
   "metadata": {},
   "outputs": [
    {
     "data": {
      "text/html": [
       "<table class=\"dataframe\">\n",
       "<caption>A data.frame: 2 × 12</caption>\n",
       "<thead>\n",
       "\t<tr><th scope=col>CHROM</th><th scope=col>POS</th><th scope=col>ID</th><th scope=col>REF</th><th scope=col>ALT</th><th scope=col>Allele</th><th scope=col>Consequence</th><th scope=col>MOTIF_NAME</th><th scope=col>MOTIF_POS</th><th scope=col>HIGH_INF_POS</th><th scope=col>MOTIF_SCORE_CHANGE</th><th scope=col>TRANSCRIPTION_FACTORS</th></tr>\n",
       "\t<tr><th scope=col>&lt;int&gt;</th><th scope=col>&lt;int&gt;</th><th scope=col>&lt;chr&gt;</th><th scope=col>&lt;chr&gt;</th><th scope=col>&lt;chr&gt;</th><th scope=col>&lt;chr&gt;</th><th scope=col>&lt;chr&gt;</th><th scope=col>&lt;chr&gt;</th><th scope=col>&lt;int&gt;</th><th scope=col>&lt;chr&gt;</th><th scope=col>&lt;dbl&gt;</th><th scope=col>&lt;chr&gt;</th></tr>\n",
       "</thead>\n",
       "<tbody>\n",
       "\t<tr><td>12</td><td>69338325</td><td>rs4761234</td><td>T</td><td>C</td><td>C</td><td>TF_binding_site_variant</td><td>ENSPFM0289</td><td>9</td><td>Y</td><td>-0.059</td><td>HNF4A</td></tr>\n",
       "\t<tr><td>12</td><td>69338325</td><td>rs4761234</td><td>C</td><td>T</td><td>T</td><td>TF_binding_site_variant</td><td>ENSPFM0289</td><td>9</td><td>Y</td><td> 0.000</td><td>HNF4A</td></tr>\n",
       "</tbody>\n",
       "</table>\n"
      ],
      "text/latex": [
       "A data.frame: 2 × 12\n",
       "\\begin{tabular}{llllllllllll}\n",
       " CHROM & POS & ID & REF & ALT & Allele & Consequence & MOTIF\\_NAME & MOTIF\\_POS & HIGH\\_INF\\_POS & MOTIF\\_SCORE\\_CHANGE & TRANSCRIPTION\\_FACTORS\\\\\n",
       " <int> & <int> & <chr> & <chr> & <chr> & <chr> & <chr> & <chr> & <int> & <chr> & <dbl> & <chr>\\\\\n",
       "\\hline\n",
       "\t 12 & 69338325 & rs4761234 & T & C & C & TF\\_binding\\_site\\_variant & ENSPFM0289 & 9 & Y & -0.059 & HNF4A\\\\\n",
       "\t 12 & 69338325 & rs4761234 & C & T & T & TF\\_binding\\_site\\_variant & ENSPFM0289 & 9 & Y &  0.000 & HNF4A\\\\\n",
       "\\end{tabular}\n"
      ],
      "text/markdown": [
       "\n",
       "A data.frame: 2 × 12\n",
       "\n",
       "| CHROM &lt;int&gt; | POS &lt;int&gt; | ID &lt;chr&gt; | REF &lt;chr&gt; | ALT &lt;chr&gt; | Allele &lt;chr&gt; | Consequence &lt;chr&gt; | MOTIF_NAME &lt;chr&gt; | MOTIF_POS &lt;int&gt; | HIGH_INF_POS &lt;chr&gt; | MOTIF_SCORE_CHANGE &lt;dbl&gt; | TRANSCRIPTION_FACTORS &lt;chr&gt; |\n",
       "|---|---|---|---|---|---|---|---|---|---|---|---|\n",
       "| 12 | 69338325 | rs4761234 | T | C | C | TF_binding_site_variant | ENSPFM0289 | 9 | Y | -0.059 | HNF4A |\n",
       "| 12 | 69338325 | rs4761234 | C | T | T | TF_binding_site_variant | ENSPFM0289 | 9 | Y |  0.000 | HNF4A |\n",
       "\n"
      ],
      "text/plain": [
       "  CHROM POS      ID        REF ALT Allele Consequence             MOTIF_NAME\n",
       "1 12    69338325 rs4761234 T   C   C      TF_binding_site_variant ENSPFM0289\n",
       "2 12    69338325 rs4761234 C   T   T      TF_binding_site_variant ENSPFM0289\n",
       "  MOTIF_POS HIGH_INF_POS MOTIF_SCORE_CHANGE TRANSCRIPTION_FACTORS\n",
       "1 9         Y            -0.059             HNF4A                \n",
       "2 9         Y             0.000             HNF4A                "
      ]
     },
     "metadata": {},
     "output_type": "display_data"
    }
   ],
   "source": [
    "vep %>%\n",
    "    dplyr::filter(ID == \"rs4761234\") %>%\n",
    "    dplyr::filter(Consequence == \"TF_binding_site_variant\") %>%\n",
    "    dplyr::select(CHROM, POS, ID, REF, ALT, Allele, Consequence, MOTIF_NAME, MOTIF_POS, HIGH_INF_POS, MOTIF_SCORE_CHANGE, TRANSCRIPTION_FACTORS)"
   ]
  },
  {
   "cell_type": "markdown",
   "id": "17219bbf-f3a5-49e0-9223-d3e06f5be3d2",
   "metadata": {
    "jp-MarkdownHeadingCollapsed": true,
    "tags": []
   },
   "source": [
    "## Module 88"
   ]
  },
  {
   "cell_type": "code",
   "execution_count": 35,
   "id": "7cd2f522-9d77-4808-a981-ab5f005d9a96",
   "metadata": {},
   "outputs": [
    {
     "data": {
      "text/html": [
       "<table class=\"dataframe\">\n",
       "<caption>A data.frame: 14 × 5</caption>\n",
       "<thead>\n",
       "\t<tr><th scope=col>Gene</th><th scope=col>Module</th><th scope=col>seqnames</th><th scope=col>gene_name</th><th scope=col>gene_biotype</th></tr>\n",
       "\t<tr><th scope=col>&lt;chr&gt;</th><th scope=col>&lt;chr&gt;</th><th scope=col>&lt;chr&gt;</th><th scope=col>&lt;chr&gt;</th><th scope=col>&lt;chr&gt;</th></tr>\n",
       "</thead>\n",
       "<tbody>\n",
       "\t<tr><td>ENSG00000105668</td><td>Module_88</td><td>19</td><td>UPK1A     </td><td>protein_coding                    </td></tr>\n",
       "\t<tr><td>ENSG00000146556</td><td>Module_88</td><td>2 </td><td>WASH2P    </td><td>transcribed_unprocessed_pseudogene</td></tr>\n",
       "\t<tr><td>ENSG00000165309</td><td>Module_88</td><td>10</td><td>ARMC3     </td><td>protein_coding                    </td></tr>\n",
       "\t<tr><td>ENSG00000175509</td><td>Module_88</td><td>2 </td><td>AL078621.2</td><td>processed_pseudogene              </td></tr>\n",
       "\t<tr><td>ENSG00000182484</td><td>Module_88</td><td>X </td><td>WASH6P    </td><td>transcribed_unprocessed_pseudogene</td></tr>\n",
       "\t<tr><td>ENSG00000184319</td><td>Module_88</td><td>22</td><td>RPL23AP82 </td><td>transcribed_unprocessed_pseudogene</td></tr>\n",
       "\t<tr><td>ENSG00000227359</td><td>Module_88</td><td>2 </td><td>AC017074.1</td><td>lncRNA                            </td></tr>\n",
       "\t<tr><td>ENSG00000228857</td><td>Module_88</td><td>2 </td><td>AC104653.1</td><td>lncRNA                            </td></tr>\n",
       "\t<tr><td>ENSG00000236397</td><td>Module_88</td><td>2 </td><td>DDX11L2   </td><td>unprocessed_pseudogene            </td></tr>\n",
       "\t<tr><td>ENSG00000239900</td><td>Module_88</td><td>22</td><td>ADSL      </td><td>protein_coding                    </td></tr>\n",
       "\t<tr><td>ENSG00000240356</td><td>Module_88</td><td>2 </td><td>RPL23AP7  </td><td>transcribed_processed_pseudogene  </td></tr>\n",
       "\t<tr><td>ENSG00000255002</td><td>Module_88</td><td>14</td><td>LINC02324 </td><td>lncRNA                            </td></tr>\n",
       "\t<tr><td>ENSG00000279267</td><td>Module_88</td><td>2 </td><td>AL078621.3</td><td>TEC                               </td></tr>\n",
       "\t<tr><td>ENSG00000279928</td><td>Module_88</td><td>1 </td><td>FO538757.1</td><td>unprocessed_pseudogene            </td></tr>\n",
       "</tbody>\n",
       "</table>\n"
      ],
      "text/latex": [
       "A data.frame: 14 × 5\n",
       "\\begin{tabular}{lllll}\n",
       " Gene & Module & seqnames & gene\\_name & gene\\_biotype\\\\\n",
       " <chr> & <chr> & <chr> & <chr> & <chr>\\\\\n",
       "\\hline\n",
       "\t ENSG00000105668 & Module\\_88 & 19 & UPK1A      & protein\\_coding                    \\\\\n",
       "\t ENSG00000146556 & Module\\_88 & 2  & WASH2P     & transcribed\\_unprocessed\\_pseudogene\\\\\n",
       "\t ENSG00000165309 & Module\\_88 & 10 & ARMC3      & protein\\_coding                    \\\\\n",
       "\t ENSG00000175509 & Module\\_88 & 2  & AL078621.2 & processed\\_pseudogene              \\\\\n",
       "\t ENSG00000182484 & Module\\_88 & X  & WASH6P     & transcribed\\_unprocessed\\_pseudogene\\\\\n",
       "\t ENSG00000184319 & Module\\_88 & 22 & RPL23AP82  & transcribed\\_unprocessed\\_pseudogene\\\\\n",
       "\t ENSG00000227359 & Module\\_88 & 2  & AC017074.1 & lncRNA                            \\\\\n",
       "\t ENSG00000228857 & Module\\_88 & 2  & AC104653.1 & lncRNA                            \\\\\n",
       "\t ENSG00000236397 & Module\\_88 & 2  & DDX11L2    & unprocessed\\_pseudogene            \\\\\n",
       "\t ENSG00000239900 & Module\\_88 & 22 & ADSL       & protein\\_coding                    \\\\\n",
       "\t ENSG00000240356 & Module\\_88 & 2  & RPL23AP7   & transcribed\\_processed\\_pseudogene  \\\\\n",
       "\t ENSG00000255002 & Module\\_88 & 14 & LINC02324  & lncRNA                            \\\\\n",
       "\t ENSG00000279267 & Module\\_88 & 2  & AL078621.3 & TEC                               \\\\\n",
       "\t ENSG00000279928 & Module\\_88 & 1  & FO538757.1 & unprocessed\\_pseudogene            \\\\\n",
       "\\end{tabular}\n"
      ],
      "text/markdown": [
       "\n",
       "A data.frame: 14 × 5\n",
       "\n",
       "| Gene &lt;chr&gt; | Module &lt;chr&gt; | seqnames &lt;chr&gt; | gene_name &lt;chr&gt; | gene_biotype &lt;chr&gt; |\n",
       "|---|---|---|---|---|\n",
       "| ENSG00000105668 | Module_88 | 19 | UPK1A      | protein_coding                     |\n",
       "| ENSG00000146556 | Module_88 | 2  | WASH2P     | transcribed_unprocessed_pseudogene |\n",
       "| ENSG00000165309 | Module_88 | 10 | ARMC3      | protein_coding                     |\n",
       "| ENSG00000175509 | Module_88 | 2  | AL078621.2 | processed_pseudogene               |\n",
       "| ENSG00000182484 | Module_88 | X  | WASH6P     | transcribed_unprocessed_pseudogene |\n",
       "| ENSG00000184319 | Module_88 | 22 | RPL23AP82  | transcribed_unprocessed_pseudogene |\n",
       "| ENSG00000227359 | Module_88 | 2  | AC017074.1 | lncRNA                             |\n",
       "| ENSG00000228857 | Module_88 | 2  | AC104653.1 | lncRNA                             |\n",
       "| ENSG00000236397 | Module_88 | 2  | DDX11L2    | unprocessed_pseudogene             |\n",
       "| ENSG00000239900 | Module_88 | 22 | ADSL       | protein_coding                     |\n",
       "| ENSG00000240356 | Module_88 | 2  | RPL23AP7   | transcribed_processed_pseudogene   |\n",
       "| ENSG00000255002 | Module_88 | 14 | LINC02324  | lncRNA                             |\n",
       "| ENSG00000279267 | Module_88 | 2  | AL078621.3 | TEC                                |\n",
       "| ENSG00000279928 | Module_88 | 1  | FO538757.1 | unprocessed_pseudogene             |\n",
       "\n"
      ],
      "text/plain": [
       "   Gene            Module    seqnames gene_name \n",
       "1  ENSG00000105668 Module_88 19       UPK1A     \n",
       "2  ENSG00000146556 Module_88 2        WASH2P    \n",
       "3  ENSG00000165309 Module_88 10       ARMC3     \n",
       "4  ENSG00000175509 Module_88 2        AL078621.2\n",
       "5  ENSG00000182484 Module_88 X        WASH6P    \n",
       "6  ENSG00000184319 Module_88 22       RPL23AP82 \n",
       "7  ENSG00000227359 Module_88 2        AC017074.1\n",
       "8  ENSG00000228857 Module_88 2        AC104653.1\n",
       "9  ENSG00000236397 Module_88 2        DDX11L2   \n",
       "10 ENSG00000239900 Module_88 22       ADSL      \n",
       "11 ENSG00000240356 Module_88 2        RPL23AP7  \n",
       "12 ENSG00000255002 Module_88 14       LINC02324 \n",
       "13 ENSG00000279267 Module_88 2        AL078621.3\n",
       "14 ENSG00000279928 Module_88 1        FO538757.1\n",
       "   gene_biotype                      \n",
       "1  protein_coding                    \n",
       "2  transcribed_unprocessed_pseudogene\n",
       "3  protein_coding                    \n",
       "4  processed_pseudogene              \n",
       "5  transcribed_unprocessed_pseudogene\n",
       "6  transcribed_unprocessed_pseudogene\n",
       "7  lncRNA                            \n",
       "8  lncRNA                            \n",
       "9  unprocessed_pseudogene            \n",
       "10 protein_coding                    \n",
       "11 transcribed_processed_pseudogene  \n",
       "12 lncRNA                            \n",
       "13 TEC                               \n",
       "14 unprocessed_pseudogene            "
      ]
     },
     "metadata": {},
     "output_type": "display_data"
    }
   ],
   "source": [
    "modules %>%\n",
    "    dplyr::filter(Module == \"Module_88\") %>%\n",
    "    dplyr::select(Gene, Module, seqnames, gene_name, gene_biotype)"
   ]
  },
  {
   "cell_type": "code",
   "execution_count": 36,
   "id": "5448faed-0d3b-4ac6-91f5-eb8334514f62",
   "metadata": {},
   "outputs": [
    {
     "data": {
      "text/html": [
       "<table class=\"dataframe\">\n",
       "<caption>A data.frame: 0 × 2</caption>\n",
       "<thead>\n",
       "\t<tr><th scope=col>Gene</th><th scope=col>gene_name</th></tr>\n",
       "\t<tr><th scope=col>&lt;chr&gt;</th><th scope=col>&lt;chr&gt;</th></tr>\n",
       "</thead>\n",
       "<tbody>\n",
       "</tbody>\n",
       "</table>\n"
      ],
      "text/latex": [
       "A data.frame: 0 × 2\n",
       "\\begin{tabular}{ll}\n",
       " Gene & gene\\_name\\\\\n",
       " <chr> & <chr>\\\\\n",
       "\\hline\n",
       "\\end{tabular}\n"
      ],
      "text/markdown": [
       "\n",
       "A data.frame: 0 × 2\n",
       "\n",
       "| Gene &lt;chr&gt; | gene_name &lt;chr&gt; |\n",
       "|---|---|\n",
       "\n"
      ],
      "text/plain": [
       "     Gene gene_name"
      ]
     },
     "metadata": {},
     "output_type": "display_data"
    }
   ],
   "source": [
    "coloc.eqtl.mqtl %>%\n",
    "    dplyr::filter(grepl(\"ME_88_[0-9]-14\", Module.QTL)) %>%\n",
    "    dplyr::count(Gene) %>%\n",
    "    merge(., gene.info, by.x=\"Gene\", by.y=\"gene_id\") %>%\n",
    "    dplyr::select(Gene, gene_name)"
   ]
  },
  {
   "cell_type": "code",
   "execution_count": 37,
   "id": "34d6d6e0-408a-4ebc-9236-05ba14b6ac7b",
   "metadata": {},
   "outputs": [],
   "source": [
    "susie <- fread(\"~/gains_team282/nikhil/colocalization/mqtl/fine_mapping/SuSiE/module_qtl_credible_sets.tsv\")"
   ]
  },
  {
   "cell_type": "code",
   "execution_count": 38,
   "id": "22de3ab0-3d2c-4b5e-9b73-eca7f80a3056",
   "metadata": {},
   "outputs": [
    {
     "data": {
      "text/html": [
       "<table class=\"dataframe\">\n",
       "<caption>A data.table: 13 × 5</caption>\n",
       "<thead>\n",
       "\t<tr><th scope=col>Gene</th><th scope=col>SNP</th><th scope=col>SNP_Prob</th><th scope=col>Credible_Set</th><th scope=col>Notes</th></tr>\n",
       "\t<tr><th scope=col>&lt;chr&gt;</th><th scope=col>&lt;chr&gt;</th><th scope=col>&lt;dbl&gt;</th><th scope=col>&lt;int&gt;</th><th scope=col>&lt;chr&gt;</th></tr>\n",
       "</thead>\n",
       "<tbody>\n",
       "\t<tr><td>ME_88_5-14:64291924-66448148</td><td>rs2127870  </td><td>0.61226567</td><td>1</td><td>NA</td></tr>\n",
       "\t<tr><td>ME_88_5-14:64291924-66448148</td><td>rs11158588 </td><td>0.21629616</td><td>1</td><td>NA</td></tr>\n",
       "\t<tr><td>ME_88_5-14:64291924-66448148</td><td>rs9635249  </td><td>0.12456752</td><td>1</td><td>NA</td></tr>\n",
       "\t<tr><td>ME_88_5-14:64291924-66448148</td><td>rs28660318 </td><td>0.30406418</td><td>2</td><td>NA</td></tr>\n",
       "\t<tr><td>ME_88_5-14:64291924-66448148</td><td>rs59307701 </td><td>0.30406418</td><td>2</td><td>NA</td></tr>\n",
       "\t<tr><td>ME_88_5-14:64291924-66448148</td><td>rs74782623 </td><td>0.06223113</td><td>2</td><td>NA</td></tr>\n",
       "\t<tr><td>ME_88_5-14:64291924-66448148</td><td>rs74641092 </td><td>0.06223113</td><td>2</td><td>NA</td></tr>\n",
       "\t<tr><td>ME_88_5-14:64291924-66448148</td><td>rs28698923 </td><td>0.04244736</td><td>2</td><td>NA</td></tr>\n",
       "\t<tr><td>ME_88_5-14:64291924-66448148</td><td>rs77231001 </td><td>0.04244736</td><td>2</td><td>NA</td></tr>\n",
       "\t<tr><td>ME_88_5-14:64291924-66448148</td><td>rs28440787 </td><td>0.04244736</td><td>2</td><td>NA</td></tr>\n",
       "\t<tr><td>ME_88_5-14:64291924-66448148</td><td>rs151123193</td><td>0.04244736</td><td>2</td><td>NA</td></tr>\n",
       "\t<tr><td>ME_88_5-14:64291924-66448148</td><td>rs10133129 </td><td>0.04158987</td><td>2</td><td>NA</td></tr>\n",
       "\t<tr><td>ME_88_5-14:64291924-66448148</td><td>rs10144720 </td><td>0.03391159</td><td>2</td><td>NA</td></tr>\n",
       "</tbody>\n",
       "</table>\n"
      ],
      "text/latex": [
       "A data.table: 13 × 5\n",
       "\\begin{tabular}{lllll}\n",
       " Gene & SNP & SNP\\_Prob & Credible\\_Set & Notes\\\\\n",
       " <chr> & <chr> & <dbl> & <int> & <chr>\\\\\n",
       "\\hline\n",
       "\t ME\\_88\\_5-14:64291924-66448148 & rs2127870   & 0.61226567 & 1 & NA\\\\\n",
       "\t ME\\_88\\_5-14:64291924-66448148 & rs11158588  & 0.21629616 & 1 & NA\\\\\n",
       "\t ME\\_88\\_5-14:64291924-66448148 & rs9635249   & 0.12456752 & 1 & NA\\\\\n",
       "\t ME\\_88\\_5-14:64291924-66448148 & rs28660318  & 0.30406418 & 2 & NA\\\\\n",
       "\t ME\\_88\\_5-14:64291924-66448148 & rs59307701  & 0.30406418 & 2 & NA\\\\\n",
       "\t ME\\_88\\_5-14:64291924-66448148 & rs74782623  & 0.06223113 & 2 & NA\\\\\n",
       "\t ME\\_88\\_5-14:64291924-66448148 & rs74641092  & 0.06223113 & 2 & NA\\\\\n",
       "\t ME\\_88\\_5-14:64291924-66448148 & rs28698923  & 0.04244736 & 2 & NA\\\\\n",
       "\t ME\\_88\\_5-14:64291924-66448148 & rs77231001  & 0.04244736 & 2 & NA\\\\\n",
       "\t ME\\_88\\_5-14:64291924-66448148 & rs28440787  & 0.04244736 & 2 & NA\\\\\n",
       "\t ME\\_88\\_5-14:64291924-66448148 & rs151123193 & 0.04244736 & 2 & NA\\\\\n",
       "\t ME\\_88\\_5-14:64291924-66448148 & rs10133129  & 0.04158987 & 2 & NA\\\\\n",
       "\t ME\\_88\\_5-14:64291924-66448148 & rs10144720  & 0.03391159 & 2 & NA\\\\\n",
       "\\end{tabular}\n"
      ],
      "text/markdown": [
       "\n",
       "A data.table: 13 × 5\n",
       "\n",
       "| Gene &lt;chr&gt; | SNP &lt;chr&gt; | SNP_Prob &lt;dbl&gt; | Credible_Set &lt;int&gt; | Notes &lt;chr&gt; |\n",
       "|---|---|---|---|---|\n",
       "| ME_88_5-14:64291924-66448148 | rs2127870   | 0.61226567 | 1 | NA |\n",
       "| ME_88_5-14:64291924-66448148 | rs11158588  | 0.21629616 | 1 | NA |\n",
       "| ME_88_5-14:64291924-66448148 | rs9635249   | 0.12456752 | 1 | NA |\n",
       "| ME_88_5-14:64291924-66448148 | rs28660318  | 0.30406418 | 2 | NA |\n",
       "| ME_88_5-14:64291924-66448148 | rs59307701  | 0.30406418 | 2 | NA |\n",
       "| ME_88_5-14:64291924-66448148 | rs74782623  | 0.06223113 | 2 | NA |\n",
       "| ME_88_5-14:64291924-66448148 | rs74641092  | 0.06223113 | 2 | NA |\n",
       "| ME_88_5-14:64291924-66448148 | rs28698923  | 0.04244736 | 2 | NA |\n",
       "| ME_88_5-14:64291924-66448148 | rs77231001  | 0.04244736 | 2 | NA |\n",
       "| ME_88_5-14:64291924-66448148 | rs28440787  | 0.04244736 | 2 | NA |\n",
       "| ME_88_5-14:64291924-66448148 | rs151123193 | 0.04244736 | 2 | NA |\n",
       "| ME_88_5-14:64291924-66448148 | rs10133129  | 0.04158987 | 2 | NA |\n",
       "| ME_88_5-14:64291924-66448148 | rs10144720  | 0.03391159 | 2 | NA |\n",
       "\n"
      ],
      "text/plain": [
       "   Gene                         SNP         SNP_Prob   Credible_Set Notes\n",
       "1  ME_88_5-14:64291924-66448148 rs2127870   0.61226567 1            NA   \n",
       "2  ME_88_5-14:64291924-66448148 rs11158588  0.21629616 1            NA   \n",
       "3  ME_88_5-14:64291924-66448148 rs9635249   0.12456752 1            NA   \n",
       "4  ME_88_5-14:64291924-66448148 rs28660318  0.30406418 2            NA   \n",
       "5  ME_88_5-14:64291924-66448148 rs59307701  0.30406418 2            NA   \n",
       "6  ME_88_5-14:64291924-66448148 rs74782623  0.06223113 2            NA   \n",
       "7  ME_88_5-14:64291924-66448148 rs74641092  0.06223113 2            NA   \n",
       "8  ME_88_5-14:64291924-66448148 rs28698923  0.04244736 2            NA   \n",
       "9  ME_88_5-14:64291924-66448148 rs77231001  0.04244736 2            NA   \n",
       "10 ME_88_5-14:64291924-66448148 rs28440787  0.04244736 2            NA   \n",
       "11 ME_88_5-14:64291924-66448148 rs151123193 0.04244736 2            NA   \n",
       "12 ME_88_5-14:64291924-66448148 rs10133129  0.04158987 2            NA   \n",
       "13 ME_88_5-14:64291924-66448148 rs10144720  0.03391159 2            NA   "
      ]
     },
     "metadata": {},
     "output_type": "display_data"
    }
   ],
   "source": [
    "susie %>%\n",
    "    dplyr::filter(grepl(\"ME_88_5-14\", Gene))"
   ]
  },
  {
   "cell_type": "code",
   "execution_count": 39,
   "id": "fad4efe8-9b21-431f-8692-4239a6a712c7",
   "metadata": {},
   "outputs": [
    {
     "data": {
      "text/html": [
       "<table class=\"dataframe\">\n",
       "<caption>A data.frame: 1 × 6</caption>\n",
       "<thead>\n",
       "\t<tr><th scope=col>SNP</th><th scope=col>Gene</th><th scope=col>eQTL_beta</th><th scope=col>eQTL_SE</th><th scope=col>pvalue</th><th scope=col>Number</th></tr>\n",
       "\t<tr><th scope=col>&lt;chr&gt;</th><th scope=col>&lt;chr&gt;</th><th scope=col>&lt;chr&gt;</th><th scope=col>&lt;chr&gt;</th><th scope=col>&lt;chr&gt;</th><th scope=col>&lt;int&gt;</th></tr>\n",
       "</thead>\n",
       "<tbody>\n",
       "\t<tr><td>rs28660318</td><td>ENSG00000255002</td><td>-0.454490602330296</td><td>0.0357110064865666</td><td>2.69946866052341e-33</td><td>1</td></tr>\n",
       "</tbody>\n",
       "</table>\n"
      ],
      "text/latex": [
       "A data.frame: 1 × 6\n",
       "\\begin{tabular}{llllll}\n",
       " SNP & Gene & eQTL\\_beta & eQTL\\_SE & pvalue & Number\\\\\n",
       " <chr> & <chr> & <chr> & <chr> & <chr> & <int>\\\\\n",
       "\\hline\n",
       "\t rs28660318 & ENSG00000255002 & -0.454490602330296 & 0.0357110064865666 & 2.69946866052341e-33 & 1\\\\\n",
       "\\end{tabular}\n"
      ],
      "text/markdown": [
       "\n",
       "A data.frame: 1 × 6\n",
       "\n",
       "| SNP &lt;chr&gt; | Gene &lt;chr&gt; | eQTL_beta &lt;chr&gt; | eQTL_SE &lt;chr&gt; | pvalue &lt;chr&gt; | Number &lt;int&gt; |\n",
       "|---|---|---|---|---|---|\n",
       "| rs28660318 | ENSG00000255002 | -0.454490602330296 | 0.0357110064865666 | 2.69946866052341e-33 | 1 |\n",
       "\n"
      ],
      "text/plain": [
       "  SNP        Gene            eQTL_beta          eQTL_SE           \n",
       "1 rs28660318 ENSG00000255002 -0.454490602330296 0.0357110064865666\n",
       "  pvalue               Number\n",
       "1 2.69946866052341e-33 1     "
      ]
     },
     "metadata": {},
     "output_type": "display_data"
    },
    {
     "data": {
      "text/html": [
       "<table class=\"dataframe\">\n",
       "<caption>A data.frame: 1 × 6</caption>\n",
       "<thead>\n",
       "\t<tr><th scope=col>Chr</th><th scope=col>SNP</th><th scope=col>cM</th><th scope=col>Pos</th><th scope=col>Minor</th><th scope=col>Major</th></tr>\n",
       "\t<tr><th scope=col>&lt;chr&gt;</th><th scope=col>&lt;chr&gt;</th><th scope=col>&lt;int&gt;</th><th scope=col>&lt;int&gt;</th><th scope=col>&lt;chr&gt;</th><th scope=col>&lt;chr&gt;</th></tr>\n",
       "</thead>\n",
       "<tbody>\n",
       "\t<tr><td>14</td><td>rs28660318</td><td>0</td><td>65216821</td><td>T</td><td>C</td></tr>\n",
       "</tbody>\n",
       "</table>\n"
      ],
      "text/latex": [
       "A data.frame: 1 × 6\n",
       "\\begin{tabular}{llllll}\n",
       " Chr & SNP & cM & Pos & Minor & Major\\\\\n",
       " <chr> & <chr> & <int> & <int> & <chr> & <chr>\\\\\n",
       "\\hline\n",
       "\t 14 & rs28660318 & 0 & 65216821 & T & C\\\\\n",
       "\\end{tabular}\n"
      ],
      "text/markdown": [
       "\n",
       "A data.frame: 1 × 6\n",
       "\n",
       "| Chr &lt;chr&gt; | SNP &lt;chr&gt; | cM &lt;int&gt; | Pos &lt;int&gt; | Minor &lt;chr&gt; | Major &lt;chr&gt; |\n",
       "|---|---|---|---|---|---|\n",
       "| 14 | rs28660318 | 0 | 65216821 | T | C |\n",
       "\n"
      ],
      "text/plain": [
       "  Chr SNP        cM Pos      Minor Major\n",
       "1 14  rs28660318 0  65216821 T     C    "
      ]
     },
     "metadata": {},
     "output_type": "display_data"
    }
   ],
   "source": [
    "c.cis.eqtl %>%\n",
    "    dplyr::filter(SNP == \"rs28660318\")\n",
    "\n",
    "geno.bim %>%\n",
    "    dplyr::filter(SNP == \"rs28660318\")"
   ]
  },
  {
   "cell_type": "code",
   "execution_count": 40,
   "id": "60a49286-fb82-40ca-ab8c-19de43fd6017",
   "metadata": {},
   "outputs": [
    {
     "data": {
      "image/png": "[encoded data removed]",
      "text/plain": [
       "plot without title"
      ]
     },
     "metadata": {
      "image/png": {
       "height": 240,
       "width": 480
      }
     },
     "output_type": "display_data"
    }
   ],
   "source": [
    "options(repr.plot.width=8, repr.plot.height=4)\n",
    "\n",
    "plot.data <- loci %>%\n",
    "    dplyr::filter(SNP == \"rs28660318\") %>%\n",
    "    merge(., overlap.scores, by=\"Locus\") %>%\n",
    "    dplyr::arrange(Overlap_Score) %>%\n",
    "    dplyr::select(Group, Overlap_Score) %>%\n",
    "    dplyr::group_by(Group) %>%\n",
    "    dplyr::summarize(Mean_Overlap_Score=mean(Overlap_Score)) %>%\n",
    "    dplyr::mutate(Neutrophils = c(\"No\", \"Yes\")[as.numeric(grepl(\"Neutrophil\", Group)) + 1])\n",
    "    \n",
    "plot.data %>%\n",
    "    ggplot(aes(x=\"Module 88\", y=Mean_Overlap_Score, fill=Neutrophils)) +\n",
    "    geom_dotplot(binaxis=\"y\", stackdir=\"center\", binwidth=0.025) +\n",
    "    scale_fill_brewer(palette=\"Pastel1\") + \n",
    "    ylim(0, 1) + ylab(\"Mean Overlap Score\") +\n",
    "    coord_flip() +\n",
    "    ggplot_theme +\n",
    "    theme(axis.title.y=element_blank())"
   ]
  },
  {
   "cell_type": "code",
   "execution_count": 41,
   "id": "68600c6d-e86a-4131-8cb6-f6017b67bac6",
   "metadata": {},
   "outputs": [
    {
     "data": {
      "text/html": [
       "<table class=\"dataframe\">\n",
       "<caption>A data.frame: 0 × 12</caption>\n",
       "<thead>\n",
       "\t<tr><th scope=col>CHROM</th><th scope=col>POS</th><th scope=col>ID</th><th scope=col>REF</th><th scope=col>ALT</th><th scope=col>Allele</th><th scope=col>Consequence</th><th scope=col>MOTIF_NAME</th><th scope=col>MOTIF_POS</th><th scope=col>HIGH_INF_POS</th><th scope=col>MOTIF_SCORE_CHANGE</th><th scope=col>TRANSCRIPTION_FACTORS</th></tr>\n",
       "\t<tr><th scope=col>&lt;int&gt;</th><th scope=col>&lt;int&gt;</th><th scope=col>&lt;chr&gt;</th><th scope=col>&lt;chr&gt;</th><th scope=col>&lt;chr&gt;</th><th scope=col>&lt;chr&gt;</th><th scope=col>&lt;chr&gt;</th><th scope=col>&lt;chr&gt;</th><th scope=col>&lt;int&gt;</th><th scope=col>&lt;chr&gt;</th><th scope=col>&lt;dbl&gt;</th><th scope=col>&lt;chr&gt;</th></tr>\n",
       "</thead>\n",
       "<tbody>\n",
       "</tbody>\n",
       "</table>\n"
      ],
      "text/latex": [
       "A data.frame: 0 × 12\n",
       "\\begin{tabular}{llllllllllll}\n",
       " CHROM & POS & ID & REF & ALT & Allele & Consequence & MOTIF\\_NAME & MOTIF\\_POS & HIGH\\_INF\\_POS & MOTIF\\_SCORE\\_CHANGE & TRANSCRIPTION\\_FACTORS\\\\\n",
       " <int> & <int> & <chr> & <chr> & <chr> & <chr> & <chr> & <chr> & <int> & <chr> & <dbl> & <chr>\\\\\n",
       "\\hline\n",
       "\\end{tabular}\n"
      ],
      "text/markdown": [
       "\n",
       "A data.frame: 0 × 12\n",
       "\n",
       "| CHROM &lt;int&gt; | POS &lt;int&gt; | ID &lt;chr&gt; | REF &lt;chr&gt; | ALT &lt;chr&gt; | Allele &lt;chr&gt; | Consequence &lt;chr&gt; | MOTIF_NAME &lt;chr&gt; | MOTIF_POS &lt;int&gt; | HIGH_INF_POS &lt;chr&gt; | MOTIF_SCORE_CHANGE &lt;dbl&gt; | TRANSCRIPTION_FACTORS &lt;chr&gt; |\n",
       "|---|---|---|---|---|---|---|---|---|---|---|---|\n",
       "\n"
      ],
      "text/plain": [
       "     CHROM POS ID REF ALT Allele Consequence MOTIF_NAME MOTIF_POS HIGH_INF_POS\n",
       "     MOTIF_SCORE_CHANGE TRANSCRIPTION_FACTORS"
      ]
     },
     "metadata": {},
     "output_type": "display_data"
    }
   ],
   "source": [
    "vep %>%\n",
    "    dplyr::filter(ID == \"rs28660318\") %>%\n",
    "    dplyr::filter(Consequence == \"TF_binding_site_variant\") %>%\n",
    "    dplyr::select(CHROM, POS, ID, REF, ALT, Allele, Consequence, MOTIF_NAME, MOTIF_POS, HIGH_INF_POS, MOTIF_SCORE_CHANGE, TRANSCRIPTION_FACTORS)"
   ]
  },
  {
   "cell_type": "markdown",
   "id": "1750f7d8-8439-4f91-83a0-3ad4463afceb",
   "metadata": {
    "jp-MarkdownHeadingCollapsed": true,
    "tags": []
   },
   "source": [
    "## Module 63"
   ]
  },
  {
   "cell_type": "code",
   "execution_count": 42,
   "id": "06827a44-569f-48fb-8197-b7617594d80f",
   "metadata": {},
   "outputs": [
    {
     "data": {
      "text/html": [
       "<table class=\"dataframe\">\n",
       "<caption>A data.frame: 39 × 5</caption>\n",
       "<thead>\n",
       "\t<tr><th scope=col>Gene</th><th scope=col>Module</th><th scope=col>seqnames</th><th scope=col>gene_name</th><th scope=col>gene_biotype</th></tr>\n",
       "\t<tr><th scope=col>&lt;chr&gt;</th><th scope=col>&lt;chr&gt;</th><th scope=col>&lt;chr&gt;</th><th scope=col>&lt;chr&gt;</th><th scope=col>&lt;chr&gt;</th></tr>\n",
       "</thead>\n",
       "<tbody>\n",
       "\t<tr><td>ENSG00000007062</td><td>Module_63</td><td>4 </td><td>PROM1   </td><td>protein_coding</td></tr>\n",
       "\t<tr><td>ENSG00000067445</td><td>Module_63</td><td>X </td><td>TRO     </td><td>protein_coding</td></tr>\n",
       "\t<tr><td>ENSG00000088305</td><td>Module_63</td><td>20</td><td>DNMT3B  </td><td>protein_coding</td></tr>\n",
       "\t<tr><td>ENSG00000088882</td><td>Module_63</td><td>20</td><td>CPXM1   </td><td>protein_coding</td></tr>\n",
       "\t<tr><td>ENSG00000101200</td><td>Module_63</td><td>20</td><td>AVP     </td><td>protein_coding</td></tr>\n",
       "\t<tr><td>ENSG00000112414</td><td>Module_63</td><td>6 </td><td>ADGRG6  </td><td>protein_coding</td></tr>\n",
       "\t<tr><td>ENSG00000113389</td><td>Module_63</td><td>5 </td><td>NPR3    </td><td>protein_coding</td></tr>\n",
       "\t<tr><td>ENSG00000113657</td><td>Module_63</td><td>5 </td><td>DPYSL3  </td><td>protein_coding</td></tr>\n",
       "\t<tr><td>ENSG00000117400</td><td>Module_63</td><td>1 </td><td>MPL     </td><td>protein_coding</td></tr>\n",
       "\t<tr><td>ENSG00000121053</td><td>Module_63</td><td>17</td><td>EPX     </td><td>protein_coding</td></tr>\n",
       "\t<tr><td>ENSG00000124006</td><td>Module_63</td><td>2 </td><td>OBSL1   </td><td>protein_coding</td></tr>\n",
       "\t<tr><td>ENSG00000128040</td><td>Module_63</td><td>4 </td><td>SPINK2  </td><td>protein_coding</td></tr>\n",
       "\t<tr><td>ENSG00000128322</td><td>Module_63</td><td>22</td><td>IGLL1   </td><td>protein_coding</td></tr>\n",
       "\t<tr><td>ENSG00000128602</td><td>Module_63</td><td>7 </td><td>SMO     </td><td>protein_coding</td></tr>\n",
       "\t<tr><td>ENSG00000134323</td><td>Module_63</td><td>2 </td><td>MYCN    </td><td>protein_coding</td></tr>\n",
       "\t<tr><td>ENSG00000134508</td><td>Module_63</td><td>18</td><td>CABLES1 </td><td>protein_coding</td></tr>\n",
       "\t<tr><td>ENSG00000138669</td><td>Module_63</td><td>4 </td><td>PRKG2   </td><td>protein_coding</td></tr>\n",
       "\t<tr><td>ENSG00000149257</td><td>Module_63</td><td>11</td><td>SERPINH1</td><td>protein_coding</td></tr>\n",
       "\t<tr><td>ENSG00000152377</td><td>Module_63</td><td>5 </td><td>SPOCK1  </td><td>protein_coding</td></tr>\n",
       "\t<tr><td>ENSG00000152953</td><td>Module_63</td><td>4 </td><td>STK32B  </td><td>protein_coding</td></tr>\n",
       "\t<tr><td>ENSG00000155792</td><td>Module_63</td><td>8 </td><td>DEPTOR  </td><td>protein_coding</td></tr>\n",
       "\t<tr><td>ENSG00000156575</td><td>Module_63</td><td>11</td><td>PRG3    </td><td>protein_coding</td></tr>\n",
       "\t<tr><td>ENSG00000157110</td><td>Module_63</td><td>8 </td><td>RBPMS   </td><td>protein_coding</td></tr>\n",
       "\t<tr><td>ENSG00000160469</td><td>Module_63</td><td>19</td><td>BRSK1   </td><td>protein_coding</td></tr>\n",
       "\t<tr><td>ENSG00000163737</td><td>Module_63</td><td>4 </td><td>PF4     </td><td>protein_coding</td></tr>\n",
       "\t<tr><td>ENSG00000164929</td><td>Module_63</td><td>8 </td><td>BAALC   </td><td>protein_coding</td></tr>\n",
       "\t<tr><td>ENSG00000164946</td><td>Module_63</td><td>9 </td><td>FREM1   </td><td>protein_coding</td></tr>\n",
       "\t<tr><td>ENSG00000168569</td><td>Module_63</td><td>11</td><td>TMEM223 </td><td>protein_coding</td></tr>\n",
       "\t<tr><td>ENSG00000170891</td><td>Module_63</td><td>4 </td><td>CYTL1   </td><td>protein_coding</td></tr>\n",
       "\t<tr><td>ENSG00000172247</td><td>Module_63</td><td>11</td><td>C1QTNF4 </td><td>protein_coding</td></tr>\n",
       "\t<tr><td>ENSG00000174059</td><td>Module_63</td><td>1 </td><td>CD34    </td><td>protein_coding</td></tr>\n",
       "\t<tr><td>ENSG00000174233</td><td>Module_63</td><td>12</td><td>ADCY6   </td><td>protein_coding</td></tr>\n",
       "\t<tr><td>ENSG00000176994</td><td>Module_63</td><td>17</td><td>SMCR8   </td><td>protein_coding</td></tr>\n",
       "\t<tr><td>ENSG00000178342</td><td>Module_63</td><td>18</td><td>KCNG2   </td><td>protein_coding</td></tr>\n",
       "\t<tr><td>ENSG00000183496</td><td>Module_63</td><td>15</td><td>MEX3B   </td><td>protein_coding</td></tr>\n",
       "\t<tr><td>ENSG00000185198</td><td>Module_63</td><td>19</td><td>PRSS57  </td><td>protein_coding</td></tr>\n",
       "\t<tr><td>ENSG00000198795</td><td>Module_63</td><td>18</td><td>ZNF521  </td><td>protein_coding</td></tr>\n",
       "\t<tr><td>ENSG00000205593</td><td>Module_63</td><td>22</td><td>DENND6B </td><td>protein_coding</td></tr>\n",
       "\t<tr><td>ENSG00000251322</td><td>Module_63</td><td>22</td><td>SHANK3  </td><td>protein_coding</td></tr>\n",
       "</tbody>\n",
       "</table>\n"
      ],
      "text/latex": [
       "A data.frame: 39 × 5\n",
       "\\begin{tabular}{lllll}\n",
       " Gene & Module & seqnames & gene\\_name & gene\\_biotype\\\\\n",
       " <chr> & <chr> & <chr> & <chr> & <chr>\\\\\n",
       "\\hline\n",
       "\t ENSG00000007062 & Module\\_63 & 4  & PROM1    & protein\\_coding\\\\\n",
       "\t ENSG00000067445 & Module\\_63 & X  & TRO      & protein\\_coding\\\\\n",
       "\t ENSG00000088305 & Module\\_63 & 20 & DNMT3B   & protein\\_coding\\\\\n",
       "\t ENSG00000088882 & Module\\_63 & 20 & CPXM1    & protein\\_coding\\\\\n",
       "\t ENSG00000101200 & Module\\_63 & 20 & AVP      & protein\\_coding\\\\\n",
       "\t ENSG00000112414 & Module\\_63 & 6  & ADGRG6   & protein\\_coding\\\\\n",
       "\t ENSG00000113389 & Module\\_63 & 5  & NPR3     & protein\\_coding\\\\\n",
       "\t ENSG00000113657 & Module\\_63 & 5  & DPYSL3   & protein\\_coding\\\\\n",
       "\t ENSG00000117400 & Module\\_63 & 1  & MPL      & protein\\_coding\\\\\n",
       "\t ENSG00000121053 & Module\\_63 & 17 & EPX      & protein\\_coding\\\\\n",
       "\t ENSG00000124006 & Module\\_63 & 2  & OBSL1    & protein\\_coding\\\\\n",
       "\t ENSG00000128040 & Module\\_63 & 4  & SPINK2   & protein\\_coding\\\\\n",
       "\t ENSG00000128322 & Module\\_63 & 22 & IGLL1    & protein\\_coding\\\\\n",
       "\t ENSG00000128602 & Module\\_63 & 7  & SMO      & protein\\_coding\\\\\n",
       "\t ENSG00000134323 & Module\\_63 & 2  & MYCN     & protein\\_coding\\\\\n",
       "\t ENSG00000134508 & Module\\_63 & 18 & CABLES1  & protein\\_coding\\\\\n",
       "\t ENSG00000138669 & Module\\_63 & 4  & PRKG2    & protein\\_coding\\\\\n",
       "\t ENSG00000149257 & Module\\_63 & 11 & SERPINH1 & protein\\_coding\\\\\n",
       "\t ENSG00000152377 & Module\\_63 & 5  & SPOCK1   & protein\\_coding\\\\\n",
       "\t ENSG00000152953 & Module\\_63 & 4  & STK32B   & protein\\_coding\\\\\n",
       "\t ENSG00000155792 & Module\\_63 & 8  & DEPTOR   & protein\\_coding\\\\\n",
       "\t ENSG00000156575 & Module\\_63 & 11 & PRG3     & protein\\_coding\\\\\n",
       "\t ENSG00000157110 & Module\\_63 & 8  & RBPMS    & protein\\_coding\\\\\n",
       "\t ENSG00000160469 & Module\\_63 & 19 & BRSK1    & protein\\_coding\\\\\n",
       "\t ENSG00000163737 & Module\\_63 & 4  & PF4      & protein\\_coding\\\\\n",
       "\t ENSG00000164929 & Module\\_63 & 8  & BAALC    & protein\\_coding\\\\\n",
       "\t ENSG00000164946 & Module\\_63 & 9  & FREM1    & protein\\_coding\\\\\n",
       "\t ENSG00000168569 & Module\\_63 & 11 & TMEM223  & protein\\_coding\\\\\n",
       "\t ENSG00000170891 & Module\\_63 & 4  & CYTL1    & protein\\_coding\\\\\n",
       "\t ENSG00000172247 & Module\\_63 & 11 & C1QTNF4  & protein\\_coding\\\\\n",
       "\t ENSG00000174059 & Module\\_63 & 1  & CD34     & protein\\_coding\\\\\n",
       "\t ENSG00000174233 & Module\\_63 & 12 & ADCY6    & protein\\_coding\\\\\n",
       "\t ENSG00000176994 & Module\\_63 & 17 & SMCR8    & protein\\_coding\\\\\n",
       "\t ENSG00000178342 & Module\\_63 & 18 & KCNG2    & protein\\_coding\\\\\n",
       "\t ENSG00000183496 & Module\\_63 & 15 & MEX3B    & protein\\_coding\\\\\n",
       "\t ENSG00000185198 & Module\\_63 & 19 & PRSS57   & protein\\_coding\\\\\n",
       "\t ENSG00000198795 & Module\\_63 & 18 & ZNF521   & protein\\_coding\\\\\n",
       "\t ENSG00000205593 & Module\\_63 & 22 & DENND6B  & protein\\_coding\\\\\n",
       "\t ENSG00000251322 & Module\\_63 & 22 & SHANK3   & protein\\_coding\\\\\n",
       "\\end{tabular}\n"
      ],
      "text/markdown": [
       "\n",
       "A data.frame: 39 × 5\n",
       "\n",
       "| Gene &lt;chr&gt; | Module &lt;chr&gt; | seqnames &lt;chr&gt; | gene_name &lt;chr&gt; | gene_biotype &lt;chr&gt; |\n",
       "|---|---|---|---|---|\n",
       "| ENSG00000007062 | Module_63 | 4  | PROM1    | protein_coding |\n",
       "| ENSG00000067445 | Module_63 | X  | TRO      | protein_coding |\n",
       "| ENSG00000088305 | Module_63 | 20 | DNMT3B   | protein_coding |\n",
       "| ENSG00000088882 | Module_63 | 20 | CPXM1    | protein_coding |\n",
       "| ENSG00000101200 | Module_63 | 20 | AVP      | protein_coding |\n",
       "| ENSG00000112414 | Module_63 | 6  | ADGRG6   | protein_coding |\n",
       "| ENSG00000113389 | Module_63 | 5  | NPR3     | protein_coding |\n",
       "| ENSG00000113657 | Module_63 | 5  | DPYSL3   | protein_coding |\n",
       "| ENSG00000117400 | Module_63 | 1  | MPL      | protein_coding |\n",
       "| ENSG00000121053 | Module_63 | 17 | EPX      | protein_coding |\n",
       "| ENSG00000124006 | Module_63 | 2  | OBSL1    | protein_coding |\n",
       "| ENSG00000128040 | Module_63 | 4  | SPINK2   | protein_coding |\n",
       "| ENSG00000128322 | Module_63 | 22 | IGLL1    | protein_coding |\n",
       "| ENSG00000128602 | Module_63 | 7  | SMO      | protein_coding |\n",
       "| ENSG00000134323 | Module_63 | 2  | MYCN     | protein_coding |\n",
       "| ENSG00000134508 | Module_63 | 18 | CABLES1  | protein_coding |\n",
       "| ENSG00000138669 | Module_63 | 4  | PRKG2    | protein_coding |\n",
       "| ENSG00000149257 | Module_63 | 11 | SERPINH1 | protein_coding |\n",
       "| ENSG00000152377 | Module_63 | 5  | SPOCK1   | protein_coding |\n",
       "| ENSG00000152953 | Module_63 | 4  | STK32B   | protein_coding |\n",
       "| ENSG00000155792 | Module_63 | 8  | DEPTOR   | protein_coding |\n",
       "| ENSG00000156575 | Module_63 | 11 | PRG3     | protein_coding |\n",
       "| ENSG00000157110 | Module_63 | 8  | RBPMS    | protein_coding |\n",
       "| ENSG00000160469 | Module_63 | 19 | BRSK1    | protein_coding |\n",
       "| ENSG00000163737 | Module_63 | 4  | PF4      | protein_coding |\n",
       "| ENSG00000164929 | Module_63 | 8  | BAALC    | protein_coding |\n",
       "| ENSG00000164946 | Module_63 | 9  | FREM1    | protein_coding |\n",
       "| ENSG00000168569 | Module_63 | 11 | TMEM223  | protein_coding |\n",
       "| ENSG00000170891 | Module_63 | 4  | CYTL1    | protein_coding |\n",
       "| ENSG00000172247 | Module_63 | 11 | C1QTNF4  | protein_coding |\n",
       "| ENSG00000174059 | Module_63 | 1  | CD34     | protein_coding |\n",
       "| ENSG00000174233 | Module_63 | 12 | ADCY6    | protein_coding |\n",
       "| ENSG00000176994 | Module_63 | 17 | SMCR8    | protein_coding |\n",
       "| ENSG00000178342 | Module_63 | 18 | KCNG2    | protein_coding |\n",
       "| ENSG00000183496 | Module_63 | 15 | MEX3B    | protein_coding |\n",
       "| ENSG00000185198 | Module_63 | 19 | PRSS57   | protein_coding |\n",
       "| ENSG00000198795 | Module_63 | 18 | ZNF521   | protein_coding |\n",
       "| ENSG00000205593 | Module_63 | 22 | DENND6B  | protein_coding |\n",
       "| ENSG00000251322 | Module_63 | 22 | SHANK3   | protein_coding |\n",
       "\n"
      ],
      "text/plain": [
       "   Gene            Module    seqnames gene_name gene_biotype  \n",
       "1  ENSG00000007062 Module_63 4        PROM1     protein_coding\n",
       "2  ENSG00000067445 Module_63 X        TRO       protein_coding\n",
       "3  ENSG00000088305 Module_63 20       DNMT3B    protein_coding\n",
       "4  ENSG00000088882 Module_63 20       CPXM1     protein_coding\n",
       "5  ENSG00000101200 Module_63 20       AVP       protein_coding\n",
       "6  ENSG00000112414 Module_63 6        ADGRG6    protein_coding\n",
       "7  ENSG00000113389 Module_63 5        NPR3      protein_coding\n",
       "8  ENSG00000113657 Module_63 5        DPYSL3    protein_coding\n",
       "9  ENSG00000117400 Module_63 1        MPL       protein_coding\n",
       "10 ENSG00000121053 Module_63 17       EPX       protein_coding\n",
       "11 ENSG00000124006 Module_63 2        OBSL1     protein_coding\n",
       "12 ENSG00000128040 Module_63 4        SPINK2    protein_coding\n",
       "13 ENSG00000128322 Module_63 22       IGLL1     protein_coding\n",
       "14 ENSG00000128602 Module_63 7        SMO       protein_coding\n",
       "15 ENSG00000134323 Module_63 2        MYCN      protein_coding\n",
       "16 ENSG00000134508 Module_63 18       CABLES1   protein_coding\n",
       "17 ENSG00000138669 Module_63 4        PRKG2     protein_coding\n",
       "18 ENSG00000149257 Module_63 11       SERPINH1  protein_coding\n",
       "19 ENSG00000152377 Module_63 5        SPOCK1    protein_coding\n",
       "20 ENSG00000152953 Module_63 4        STK32B    protein_coding\n",
       "21 ENSG00000155792 Module_63 8        DEPTOR    protein_coding\n",
       "22 ENSG00000156575 Module_63 11       PRG3      protein_coding\n",
       "23 ENSG00000157110 Module_63 8        RBPMS     protein_coding\n",
       "24 ENSG00000160469 Module_63 19       BRSK1     protein_coding\n",
       "25 ENSG00000163737 Module_63 4        PF4       protein_coding\n",
       "26 ENSG00000164929 Module_63 8        BAALC     protein_coding\n",
       "27 ENSG00000164946 Module_63 9        FREM1     protein_coding\n",
       "28 ENSG00000168569 Module_63 11       TMEM223   protein_coding\n",
       "29 ENSG00000170891 Module_63 4        CYTL1     protein_coding\n",
       "30 ENSG00000172247 Module_63 11       C1QTNF4   protein_coding\n",
       "31 ENSG00000174059 Module_63 1        CD34      protein_coding\n",
       "32 ENSG00000174233 Module_63 12       ADCY6     protein_coding\n",
       "33 ENSG00000176994 Module_63 17       SMCR8     protein_coding\n",
       "34 ENSG00000178342 Module_63 18       KCNG2     protein_coding\n",
       "35 ENSG00000183496 Module_63 15       MEX3B     protein_coding\n",
       "36 ENSG00000185198 Module_63 19       PRSS57    protein_coding\n",
       "37 ENSG00000198795 Module_63 18       ZNF521    protein_coding\n",
       "38 ENSG00000205593 Module_63 22       DENND6B   protein_coding\n",
       "39 ENSG00000251322 Module_63 22       SHANK3    protein_coding"
      ]
     },
     "metadata": {},
     "output_type": "display_data"
    }
   ],
   "source": [
    "modules %>%\n",
    "    dplyr::filter(Module == \"Module_63\") %>%\n",
    "    dplyr::select(Gene, Module, seqnames, gene_name, gene_biotype) %>%\n",
    "    dplyr::filter(gene_biotype == \"protein_coding\") "
   ]
  },
  {
   "cell_type": "code",
   "execution_count": 43,
   "id": "9a356083-0f83-494d-8937-3e72cc81c317",
   "metadata": {},
   "outputs": [
    {
     "data": {
      "text/html": [
       "<table class=\"dataframe\">\n",
       "<caption>A data.frame: 1 × 2</caption>\n",
       "<thead>\n",
       "\t<tr><th scope=col>Gene</th><th scope=col>gene_name</th></tr>\n",
       "\t<tr><th scope=col>&lt;chr&gt;</th><th scope=col>&lt;chr&gt;</th></tr>\n",
       "</thead>\n",
       "<tbody>\n",
       "\t<tr><td>ENSG00000030066</td><td>NUP160</td></tr>\n",
       "</tbody>\n",
       "</table>\n"
      ],
      "text/latex": [
       "A data.frame: 1 × 2\n",
       "\\begin{tabular}{ll}\n",
       " Gene & gene\\_name\\\\\n",
       " <chr> & <chr>\\\\\n",
       "\\hline\n",
       "\t ENSG00000030066 & NUP160\\\\\n",
       "\\end{tabular}\n"
      ],
      "text/markdown": [
       "\n",
       "A data.frame: 1 × 2\n",
       "\n",
       "| Gene &lt;chr&gt; | gene_name &lt;chr&gt; |\n",
       "|---|---|\n",
       "| ENSG00000030066 | NUP160 |\n",
       "\n"
      ],
      "text/plain": [
       "  Gene            gene_name\n",
       "1 ENSG00000030066 NUP160   "
      ]
     },
     "metadata": {},
     "output_type": "display_data"
    }
   ],
   "source": [
    "coloc.eqtl.mqtl %>%\n",
    "    dplyr::filter(grepl(\"ME_63_[0-9]-11\", Module.QTL)) %>%\n",
    "    dplyr::count(Gene) %>%\n",
    "    merge(., gene.info, by.x=\"Gene\", by.y=\"gene_id\") %>%\n",
    "    dplyr::select(Gene, gene_name)"
   ]
  },
  {
   "cell_type": "code",
   "execution_count": 44,
   "id": "d3a37e5b-926c-48e6-bb96-2378cd0518b0",
   "metadata": {},
   "outputs": [],
   "source": [
    "susie <- fread(\"~/gains_team282/nikhil/colocalization/mqtl/fine_mapping/SuSiE/module_qtl_credible_sets.tsv\")"
   ]
  },
  {
   "cell_type": "code",
   "execution_count": 45,
   "id": "145fcb6b-7e95-4a1b-80a7-3d7022542a4f",
   "metadata": {},
   "outputs": [
    {
     "data": {
      "text/html": [
       "<table class=\"dataframe\">\n",
       "<caption>A data.table: 111 × 5</caption>\n",
       "<thead>\n",
       "\t<tr><th scope=col>Gene</th><th scope=col>SNP</th><th scope=col>SNP_Prob</th><th scope=col>Credible_Set</th><th scope=col>Notes</th></tr>\n",
       "\t<tr><th scope=col>&lt;chr&gt;</th><th scope=col>&lt;chr&gt;</th><th scope=col>&lt;dbl&gt;</th><th scope=col>&lt;int&gt;</th><th scope=col>&lt;chr&gt;</th></tr>\n",
       "</thead>\n",
       "<tbody>\n",
       "\t<tr><td>ME_63_4-11:46459981-48629440</td><td>rs7950696 </td><td>0.069972553</td><td>1</td><td>NA</td></tr>\n",
       "\t<tr><td>ME_63_4-11:46459981-48629440</td><td>rs10838732</td><td>0.054876904</td><td>1</td><td>NA</td></tr>\n",
       "\t<tr><td>ME_63_4-11:46459981-48629440</td><td>rs6485763 </td><td>0.054876904</td><td>1</td><td>NA</td></tr>\n",
       "\t<tr><td>ME_63_4-11:46459981-48629440</td><td>rs7945312 </td><td>0.054876904</td><td>1</td><td>NA</td></tr>\n",
       "\t<tr><td>ME_63_4-11:46459981-48629440</td><td>rs10742814</td><td>0.047934393</td><td>1</td><td>NA</td></tr>\n",
       "\t<tr><td>ME_63_4-11:46459981-48629440</td><td>rs2203712 </td><td>0.045260714</td><td>1</td><td>NA</td></tr>\n",
       "\t<tr><td>ME_63_4-11:46459981-48629440</td><td>rs11039280</td><td>0.045260714</td><td>1</td><td>NA</td></tr>\n",
       "\t<tr><td>ME_63_4-11:46459981-48629440</td><td>rs12226590</td><td>0.045260714</td><td>1</td><td>NA</td></tr>\n",
       "\t<tr><td>ME_63_4-11:46459981-48629440</td><td>rs2242081 </td><td>0.042726491</td><td>1</td><td>NA</td></tr>\n",
       "\t<tr><td>ME_63_4-11:46459981-48629440</td><td>rs3740699 </td><td>0.033951161</td><td>1</td><td>NA</td></tr>\n",
       "\t<tr><td>ME_63_4-11:46459981-48629440</td><td>rs4543938 </td><td>0.013919481</td><td>1</td><td>NA</td></tr>\n",
       "\t<tr><td>ME_63_4-11:46459981-48629440</td><td>rs4752858 </td><td>0.013919481</td><td>1</td><td>NA</td></tr>\n",
       "\t<tr><td>ME_63_4-11:46459981-48629440</td><td>rs4539273 </td><td>0.013773127</td><td>1</td><td>NA</td></tr>\n",
       "\t<tr><td>ME_63_4-11:46459981-48629440</td><td>rs12362318</td><td>0.013444807</td><td>1</td><td>NA</td></tr>\n",
       "\t<tr><td>ME_63_4-11:46459981-48629440</td><td>rs10838741</td><td>0.013444807</td><td>1</td><td>NA</td></tr>\n",
       "\t<tr><td>ME_63_4-11:46459981-48629440</td><td>rs74608150</td><td>0.013299565</td><td>1</td><td>NA</td></tr>\n",
       "\t<tr><td>ME_63_4-11:46459981-48629440</td><td>rs7107792 </td><td>0.012442150</td><td>1</td><td>NA</td></tr>\n",
       "\t<tr><td>ME_63_4-11:46459981-48629440</td><td>rs10838739</td><td>0.012442150</td><td>1</td><td>NA</td></tr>\n",
       "\t<tr><td>ME_63_4-11:46459981-48629440</td><td>rs10838740</td><td>0.011370447</td><td>1</td><td>NA</td></tr>\n",
       "\t<tr><td>ME_63_4-11:46459981-48629440</td><td>rs2869024 </td><td>0.011172335</td><td>1</td><td>NA</td></tr>\n",
       "\t<tr><td>ME_63_4-11:46459981-48629440</td><td>rs7103013 </td><td>0.011172335</td><td>1</td><td>NA</td></tr>\n",
       "\t<tr><td>ME_63_4-11:46459981-48629440</td><td>rs7119517 </td><td>0.011172335</td><td>1</td><td>NA</td></tr>\n",
       "\t<tr><td>ME_63_4-11:46459981-48629440</td><td>rs7129797 </td><td>0.009484700</td><td>1</td><td>NA</td></tr>\n",
       "\t<tr><td>ME_63_4-11:46459981-48629440</td><td>rs7107922 </td><td>0.009484700</td><td>1</td><td>NA</td></tr>\n",
       "\t<tr><td>ME_63_4-11:46459981-48629440</td><td>rs7933184 </td><td>0.009137238</td><td>1</td><td>NA</td></tr>\n",
       "\t<tr><td>ME_63_4-11:46459981-48629440</td><td>rs11039329</td><td>0.009137238</td><td>1</td><td>NA</td></tr>\n",
       "\t<tr><td>ME_63_4-11:46459981-48629440</td><td>rs10742817</td><td>0.009137238</td><td>1</td><td>NA</td></tr>\n",
       "\t<tr><td>ME_63_4-11:46459981-48629440</td><td>rs7116970 </td><td>0.009054229</td><td>1</td><td>NA</td></tr>\n",
       "\t<tr><td>ME_63_4-11:46459981-48629440</td><td>rs4752860 </td><td>0.008912028</td><td>1</td><td>NA</td></tr>\n",
       "\t<tr><td>ME_63_4-11:46459981-48629440</td><td>rs11039336</td><td>0.008912028</td><td>1</td><td>NA</td></tr>\n",
       "\t<tr><td>⋮</td><td>⋮</td><td>⋮</td><td>⋮</td><td>⋮</td></tr>\n",
       "\t<tr><td>ME_63_4-11:46459981-48629440</td><td>rs7129237 </td><td>0.005548785</td><td>1</td><td>NA</td></tr>\n",
       "\t<tr><td>ME_63_4-11:46459981-48629440</td><td>rs61895760</td><td>0.005548785</td><td>1</td><td>NA</td></tr>\n",
       "\t<tr><td>ME_63_4-11:46459981-48629440</td><td>rs10838763</td><td>0.005548785</td><td>1</td><td>NA</td></tr>\n",
       "\t<tr><td>ME_63_4-11:46459981-48629440</td><td>rs7114813 </td><td>0.005548785</td><td>1</td><td>NA</td></tr>\n",
       "\t<tr><td>ME_63_4-11:46459981-48629440</td><td>rs10838767</td><td>0.005548785</td><td>1</td><td>NA</td></tr>\n",
       "\t<tr><td>ME_63_4-11:46459981-48629440</td><td>rs754434  </td><td>0.005548785</td><td>1</td><td>NA</td></tr>\n",
       "\t<tr><td>ME_63_4-11:46459981-48629440</td><td>rs10838768</td><td>0.005548785</td><td>1</td><td>NA</td></tr>\n",
       "\t<tr><td>ME_63_4-11:46459981-48629440</td><td>rs11039376</td><td>0.005435730</td><td>1</td><td>NA</td></tr>\n",
       "\t<tr><td>ME_63_4-11:46459981-48629440</td><td>rs7942074 </td><td>0.005356953</td><td>1</td><td>NA</td></tr>\n",
       "\t<tr><td>ME_63_4-11:46459981-48629440</td><td>rs12785949</td><td>0.005329317</td><td>1</td><td>NA</td></tr>\n",
       "\t<tr><td>ME_63_4-11:46459981-48629440</td><td>rs2869534 </td><td>0.005329317</td><td>1</td><td>NA</td></tr>\n",
       "\t<tr><td>ME_63_4-11:46459981-48629440</td><td>rs10838751</td><td>0.005329317</td><td>1</td><td>NA</td></tr>\n",
       "\t<tr><td>ME_63_4-11:46459981-48629440</td><td>rs7102205 </td><td>0.005329317</td><td>1</td><td>NA</td></tr>\n",
       "\t<tr><td>ME_63_4-11:46459981-48629440</td><td>rs1483988 </td><td>0.005247939</td><td>1</td><td>NA</td></tr>\n",
       "\t<tr><td>ME_63_4-11:46459981-48629440</td><td>rs4752792 </td><td>0.004817172</td><td>1</td><td>NA</td></tr>\n",
       "\t<tr><td>ME_63_4-11:46459981-48629440</td><td>rs10838769</td><td>0.004817172</td><td>1</td><td>NA</td></tr>\n",
       "\t<tr><td>ME_63_4-11:46459981-48629440</td><td>rs7115228 </td><td>0.004817172</td><td>1</td><td>NA</td></tr>\n",
       "\t<tr><td>ME_63_4-11:46459981-48629440</td><td>rs10838771</td><td>0.004817172</td><td>1</td><td>NA</td></tr>\n",
       "\t<tr><td>ME_63_4-11:46459981-48629440</td><td>rs1563820 </td><td>0.004817172</td><td>1</td><td>NA</td></tr>\n",
       "\t<tr><td>ME_63_4-11:46459981-48629440</td><td>rs28617307</td><td>0.004817172</td><td>1</td><td>NA</td></tr>\n",
       "\t<tr><td>ME_63_4-11:46459981-48629440</td><td>rs4752796 </td><td>0.004817172</td><td>1</td><td>NA</td></tr>\n",
       "\t<tr><td>ME_63_4-11:46459981-48629440</td><td>rs7122182 </td><td>0.004817172</td><td>1</td><td>NA</td></tr>\n",
       "\t<tr><td>ME_63_4-11:46459981-48629440</td><td>rs7948468 </td><td>0.004817172</td><td>1</td><td>NA</td></tr>\n",
       "\t<tr><td>ME_63_4-11:46459981-48629440</td><td>rs7123952 </td><td>0.004713256</td><td>1</td><td>NA</td></tr>\n",
       "\t<tr><td>ME_63_4-11:46459981-48629440</td><td>rs10838775</td><td>0.004713256</td><td>1</td><td>NA</td></tr>\n",
       "\t<tr><td>ME_63_4-11:46459981-48629440</td><td>rs10769299</td><td>0.004691724</td><td>1</td><td>NA</td></tr>\n",
       "\t<tr><td>ME_63_4-11:46459981-48629440</td><td>rs3816605 </td><td>0.004674461</td><td>1</td><td>NA</td></tr>\n",
       "\t<tr><td>ME_63_4-11:46459981-48629440</td><td>rs7943213 </td><td>0.004431125</td><td>1</td><td>NA</td></tr>\n",
       "\t<tr><td>ME_63_4-11:46459981-48629440</td><td>rs11039432</td><td>0.004414568</td><td>1</td><td>NA</td></tr>\n",
       "\t<tr><td>ME_63_4-11:46459981-48629440</td><td>rs2170815 </td><td>0.004414568</td><td>1</td><td>NA</td></tr>\n",
       "</tbody>\n",
       "</table>\n"
      ],
      "text/latex": [
       "A data.table: 111 × 5\n",
       "\\begin{tabular}{lllll}\n",
       " Gene & SNP & SNP\\_Prob & Credible\\_Set & Notes\\\\\n",
       " <chr> & <chr> & <dbl> & <int> & <chr>\\\\\n",
       "\\hline\n",
       "\t ME\\_63\\_4-11:46459981-48629440 & rs7950696  & 0.069972553 & 1 & NA\\\\\n",
       "\t ME\\_63\\_4-11:46459981-48629440 & rs10838732 & 0.054876904 & 1 & NA\\\\\n",
       "\t ME\\_63\\_4-11:46459981-48629440 & rs6485763  & 0.054876904 & 1 & NA\\\\\n",
       "\t ME\\_63\\_4-11:46459981-48629440 & rs7945312  & 0.054876904 & 1 & NA\\\\\n",
       "\t ME\\_63\\_4-11:46459981-48629440 & rs10742814 & 0.047934393 & 1 & NA\\\\\n",
       "\t ME\\_63\\_4-11:46459981-48629440 & rs2203712  & 0.045260714 & 1 & NA\\\\\n",
       "\t ME\\_63\\_4-11:46459981-48629440 & rs11039280 & 0.045260714 & 1 & NA\\\\\n",
       "\t ME\\_63\\_4-11:46459981-48629440 & rs12226590 & 0.045260714 & 1 & NA\\\\\n",
       "\t ME\\_63\\_4-11:46459981-48629440 & rs2242081  & 0.042726491 & 1 & NA\\\\\n",
       "\t ME\\_63\\_4-11:46459981-48629440 & rs3740699  & 0.033951161 & 1 & NA\\\\\n",
       "\t ME\\_63\\_4-11:46459981-48629440 & rs4543938  & 0.013919481 & 1 & NA\\\\\n",
       "\t ME\\_63\\_4-11:46459981-48629440 & rs4752858  & 0.013919481 & 1 & NA\\\\\n",
       "\t ME\\_63\\_4-11:46459981-48629440 & rs4539273  & 0.013773127 & 1 & NA\\\\\n",
       "\t ME\\_63\\_4-11:46459981-48629440 & rs12362318 & 0.013444807 & 1 & NA\\\\\n",
       "\t ME\\_63\\_4-11:46459981-48629440 & rs10838741 & 0.013444807 & 1 & NA\\\\\n",
       "\t ME\\_63\\_4-11:46459981-48629440 & rs74608150 & 0.013299565 & 1 & NA\\\\\n",
       "\t ME\\_63\\_4-11:46459981-48629440 & rs7107792  & 0.012442150 & 1 & NA\\\\\n",
       "\t ME\\_63\\_4-11:46459981-48629440 & rs10838739 & 0.012442150 & 1 & NA\\\\\n",
       "\t ME\\_63\\_4-11:46459981-48629440 & rs10838740 & 0.011370447 & 1 & NA\\\\\n",
       "\t ME\\_63\\_4-11:46459981-48629440 & rs2869024  & 0.011172335 & 1 & NA\\\\\n",
       "\t ME\\_63\\_4-11:46459981-48629440 & rs7103013  & 0.011172335 & 1 & NA\\\\\n",
       "\t ME\\_63\\_4-11:46459981-48629440 & rs7119517  & 0.011172335 & 1 & NA\\\\\n",
       "\t ME\\_63\\_4-11:46459981-48629440 & rs7129797  & 0.009484700 & 1 & NA\\\\\n",
       "\t ME\\_63\\_4-11:46459981-48629440 & rs7107922  & 0.009484700 & 1 & NA\\\\\n",
       "\t ME\\_63\\_4-11:46459981-48629440 & rs7933184  & 0.009137238 & 1 & NA\\\\\n",
       "\t ME\\_63\\_4-11:46459981-48629440 & rs11039329 & 0.009137238 & 1 & NA\\\\\n",
       "\t ME\\_63\\_4-11:46459981-48629440 & rs10742817 & 0.009137238 & 1 & NA\\\\\n",
       "\t ME\\_63\\_4-11:46459981-48629440 & rs7116970  & 0.009054229 & 1 & NA\\\\\n",
       "\t ME\\_63\\_4-11:46459981-48629440 & rs4752860  & 0.008912028 & 1 & NA\\\\\n",
       "\t ME\\_63\\_4-11:46459981-48629440 & rs11039336 & 0.008912028 & 1 & NA\\\\\n",
       "\t ⋮ & ⋮ & ⋮ & ⋮ & ⋮\\\\\n",
       "\t ME\\_63\\_4-11:46459981-48629440 & rs7129237  & 0.005548785 & 1 & NA\\\\\n",
       "\t ME\\_63\\_4-11:46459981-48629440 & rs61895760 & 0.005548785 & 1 & NA\\\\\n",
       "\t ME\\_63\\_4-11:46459981-48629440 & rs10838763 & 0.005548785 & 1 & NA\\\\\n",
       "\t ME\\_63\\_4-11:46459981-48629440 & rs7114813  & 0.005548785 & 1 & NA\\\\\n",
       "\t ME\\_63\\_4-11:46459981-48629440 & rs10838767 & 0.005548785 & 1 & NA\\\\\n",
       "\t ME\\_63\\_4-11:46459981-48629440 & rs754434   & 0.005548785 & 1 & NA\\\\\n",
       "\t ME\\_63\\_4-11:46459981-48629440 & rs10838768 & 0.005548785 & 1 & NA\\\\\n",
       "\t ME\\_63\\_4-11:46459981-48629440 & rs11039376 & 0.005435730 & 1 & NA\\\\\n",
       "\t ME\\_63\\_4-11:46459981-48629440 & rs7942074  & 0.005356953 & 1 & NA\\\\\n",
       "\t ME\\_63\\_4-11:46459981-48629440 & rs12785949 & 0.005329317 & 1 & NA\\\\\n",
       "\t ME\\_63\\_4-11:46459981-48629440 & rs2869534  & 0.005329317 & 1 & NA\\\\\n",
       "\t ME\\_63\\_4-11:46459981-48629440 & rs10838751 & 0.005329317 & 1 & NA\\\\\n",
       "\t ME\\_63\\_4-11:46459981-48629440 & rs7102205  & 0.005329317 & 1 & NA\\\\\n",
       "\t ME\\_63\\_4-11:46459981-48629440 & rs1483988  & 0.005247939 & 1 & NA\\\\\n",
       "\t ME\\_63\\_4-11:46459981-48629440 & rs4752792  & 0.004817172 & 1 & NA\\\\\n",
       "\t ME\\_63\\_4-11:46459981-48629440 & rs10838769 & 0.004817172 & 1 & NA\\\\\n",
       "\t ME\\_63\\_4-11:46459981-48629440 & rs7115228  & 0.004817172 & 1 & NA\\\\\n",
       "\t ME\\_63\\_4-11:46459981-48629440 & rs10838771 & 0.004817172 & 1 & NA\\\\\n",
       "\t ME\\_63\\_4-11:46459981-48629440 & rs1563820  & 0.004817172 & 1 & NA\\\\\n",
       "\t ME\\_63\\_4-11:46459981-48629440 & rs28617307 & 0.004817172 & 1 & NA\\\\\n",
       "\t ME\\_63\\_4-11:46459981-48629440 & rs4752796  & 0.004817172 & 1 & NA\\\\\n",
       "\t ME\\_63\\_4-11:46459981-48629440 & rs7122182  & 0.004817172 & 1 & NA\\\\\n",
       "\t ME\\_63\\_4-11:46459981-48629440 & rs7948468  & 0.004817172 & 1 & NA\\\\\n",
       "\t ME\\_63\\_4-11:46459981-48629440 & rs7123952  & 0.004713256 & 1 & NA\\\\\n",
       "\t ME\\_63\\_4-11:46459981-48629440 & rs10838775 & 0.004713256 & 1 & NA\\\\\n",
       "\t ME\\_63\\_4-11:46459981-48629440 & rs10769299 & 0.004691724 & 1 & NA\\\\\n",
       "\t ME\\_63\\_4-11:46459981-48629440 & rs3816605  & 0.004674461 & 1 & NA\\\\\n",
       "\t ME\\_63\\_4-11:46459981-48629440 & rs7943213  & 0.004431125 & 1 & NA\\\\\n",
       "\t ME\\_63\\_4-11:46459981-48629440 & rs11039432 & 0.004414568 & 1 & NA\\\\\n",
       "\t ME\\_63\\_4-11:46459981-48629440 & rs2170815  & 0.004414568 & 1 & NA\\\\\n",
       "\\end{tabular}\n"
      ],
      "text/markdown": [
       "\n",
       "A data.table: 111 × 5\n",
       "\n",
       "| Gene &lt;chr&gt; | SNP &lt;chr&gt; | SNP_Prob &lt;dbl&gt; | Credible_Set &lt;int&gt; | Notes &lt;chr&gt; |\n",
       "|---|---|---|---|---|\n",
       "| ME_63_4-11:46459981-48629440 | rs7950696  | 0.069972553 | 1 | NA |\n",
       "| ME_63_4-11:46459981-48629440 | rs10838732 | 0.054876904 | 1 | NA |\n",
       "| ME_63_4-11:46459981-48629440 | rs6485763  | 0.054876904 | 1 | NA |\n",
       "| ME_63_4-11:46459981-48629440 | rs7945312  | 0.054876904 | 1 | NA |\n",
       "| ME_63_4-11:46459981-48629440 | rs10742814 | 0.047934393 | 1 | NA |\n",
       "| ME_63_4-11:46459981-48629440 | rs2203712  | 0.045260714 | 1 | NA |\n",
       "| ME_63_4-11:46459981-48629440 | rs11039280 | 0.045260714 | 1 | NA |\n",
       "| ME_63_4-11:46459981-48629440 | rs12226590 | 0.045260714 | 1 | NA |\n",
       "| ME_63_4-11:46459981-48629440 | rs2242081  | 0.042726491 | 1 | NA |\n",
       "| ME_63_4-11:46459981-48629440 | rs3740699  | 0.033951161 | 1 | NA |\n",
       "| ME_63_4-11:46459981-48629440 | rs4543938  | 0.013919481 | 1 | NA |\n",
       "| ME_63_4-11:46459981-48629440 | rs4752858  | 0.013919481 | 1 | NA |\n",
       "| ME_63_4-11:46459981-48629440 | rs4539273  | 0.013773127 | 1 | NA |\n",
       "| ME_63_4-11:46459981-48629440 | rs12362318 | 0.013444807 | 1 | NA |\n",
       "| ME_63_4-11:46459981-48629440 | rs10838741 | 0.013444807 | 1 | NA |\n",
       "| ME_63_4-11:46459981-48629440 | rs74608150 | 0.013299565 | 1 | NA |\n",
       "| ME_63_4-11:46459981-48629440 | rs7107792  | 0.012442150 | 1 | NA |\n",
       "| ME_63_4-11:46459981-48629440 | rs10838739 | 0.012442150 | 1 | NA |\n",
       "| ME_63_4-11:46459981-48629440 | rs10838740 | 0.011370447 | 1 | NA |\n",
       "| ME_63_4-11:46459981-48629440 | rs2869024  | 0.011172335 | 1 | NA |\n",
       "| ME_63_4-11:46459981-48629440 | rs7103013  | 0.011172335 | 1 | NA |\n",
       "| ME_63_4-11:46459981-48629440 | rs7119517  | 0.011172335 | 1 | NA |\n",
       "| ME_63_4-11:46459981-48629440 | rs7129797  | 0.009484700 | 1 | NA |\n",
       "| ME_63_4-11:46459981-48629440 | rs7107922  | 0.009484700 | 1 | NA |\n",
       "| ME_63_4-11:46459981-48629440 | rs7933184  | 0.009137238 | 1 | NA |\n",
       "| ME_63_4-11:46459981-48629440 | rs11039329 | 0.009137238 | 1 | NA |\n",
       "| ME_63_4-11:46459981-48629440 | rs10742817 | 0.009137238 | 1 | NA |\n",
       "| ME_63_4-11:46459981-48629440 | rs7116970  | 0.009054229 | 1 | NA |\n",
       "| ME_63_4-11:46459981-48629440 | rs4752860  | 0.008912028 | 1 | NA |\n",
       "| ME_63_4-11:46459981-48629440 | rs11039336 | 0.008912028 | 1 | NA |\n",
       "| ⋮ | ⋮ | ⋮ | ⋮ | ⋮ |\n",
       "| ME_63_4-11:46459981-48629440 | rs7129237  | 0.005548785 | 1 | NA |\n",
       "| ME_63_4-11:46459981-48629440 | rs61895760 | 0.005548785 | 1 | NA |\n",
       "| ME_63_4-11:46459981-48629440 | rs10838763 | 0.005548785 | 1 | NA |\n",
       "| ME_63_4-11:46459981-48629440 | rs7114813  | 0.005548785 | 1 | NA |\n",
       "| ME_63_4-11:46459981-48629440 | rs10838767 | 0.005548785 | 1 | NA |\n",
       "| ME_63_4-11:46459981-48629440 | rs754434   | 0.005548785 | 1 | NA |\n",
       "| ME_63_4-11:46459981-48629440 | rs10838768 | 0.005548785 | 1 | NA |\n",
       "| ME_63_4-11:46459981-48629440 | rs11039376 | 0.005435730 | 1 | NA |\n",
       "| ME_63_4-11:46459981-48629440 | rs7942074  | 0.005356953 | 1 | NA |\n",
       "| ME_63_4-11:46459981-48629440 | rs12785949 | 0.005329317 | 1 | NA |\n",
       "| ME_63_4-11:46459981-48629440 | rs2869534  | 0.005329317 | 1 | NA |\n",
       "| ME_63_4-11:46459981-48629440 | rs10838751 | 0.005329317 | 1 | NA |\n",
       "| ME_63_4-11:46459981-48629440 | rs7102205  | 0.005329317 | 1 | NA |\n",
       "| ME_63_4-11:46459981-48629440 | rs1483988  | 0.005247939 | 1 | NA |\n",
       "| ME_63_4-11:46459981-48629440 | rs4752792  | 0.004817172 | 1 | NA |\n",
       "| ME_63_4-11:46459981-48629440 | rs10838769 | 0.004817172 | 1 | NA |\n",
       "| ME_63_4-11:46459981-48629440 | rs7115228  | 0.004817172 | 1 | NA |\n",
       "| ME_63_4-11:46459981-48629440 | rs10838771 | 0.004817172 | 1 | NA |\n",
       "| ME_63_4-11:46459981-48629440 | rs1563820  | 0.004817172 | 1 | NA |\n",
       "| ME_63_4-11:46459981-48629440 | rs28617307 | 0.004817172 | 1 | NA |\n",
       "| ME_63_4-11:46459981-48629440 | rs4752796  | 0.004817172 | 1 | NA |\n",
       "| ME_63_4-11:46459981-48629440 | rs7122182  | 0.004817172 | 1 | NA |\n",
       "| ME_63_4-11:46459981-48629440 | rs7948468  | 0.004817172 | 1 | NA |\n",
       "| ME_63_4-11:46459981-48629440 | rs7123952  | 0.004713256 | 1 | NA |\n",
       "| ME_63_4-11:46459981-48629440 | rs10838775 | 0.004713256 | 1 | NA |\n",
       "| ME_63_4-11:46459981-48629440 | rs10769299 | 0.004691724 | 1 | NA |\n",
       "| ME_63_4-11:46459981-48629440 | rs3816605  | 0.004674461 | 1 | NA |\n",
       "| ME_63_4-11:46459981-48629440 | rs7943213  | 0.004431125 | 1 | NA |\n",
       "| ME_63_4-11:46459981-48629440 | rs11039432 | 0.004414568 | 1 | NA |\n",
       "| ME_63_4-11:46459981-48629440 | rs2170815  | 0.004414568 | 1 | NA |\n",
       "\n"
      ],
      "text/plain": [
       "    Gene                         SNP        SNP_Prob    Credible_Set Notes\n",
       "1   ME_63_4-11:46459981-48629440 rs7950696  0.069972553 1            NA   \n",
       "2   ME_63_4-11:46459981-48629440 rs10838732 0.054876904 1            NA   \n",
       "3   ME_63_4-11:46459981-48629440 rs6485763  0.054876904 1            NA   \n",
       "4   ME_63_4-11:46459981-48629440 rs7945312  0.054876904 1            NA   \n",
       "5   ME_63_4-11:46459981-48629440 rs10742814 0.047934393 1            NA   \n",
       "6   ME_63_4-11:46459981-48629440 rs2203712  0.045260714 1            NA   \n",
       "7   ME_63_4-11:46459981-48629440 rs11039280 0.045260714 1            NA   \n",
       "8   ME_63_4-11:46459981-48629440 rs12226590 0.045260714 1            NA   \n",
       "9   ME_63_4-11:46459981-48629440 rs2242081  0.042726491 1            NA   \n",
       "10  ME_63_4-11:46459981-48629440 rs3740699  0.033951161 1            NA   \n",
       "11  ME_63_4-11:46459981-48629440 rs4543938  0.013919481 1            NA   \n",
       "12  ME_63_4-11:46459981-48629440 rs4752858  0.013919481 1            NA   \n",
       "13  ME_63_4-11:46459981-48629440 rs4539273  0.013773127 1            NA   \n",
       "14  ME_63_4-11:46459981-48629440 rs12362318 0.013444807 1            NA   \n",
       "15  ME_63_4-11:46459981-48629440 rs10838741 0.013444807 1            NA   \n",
       "16  ME_63_4-11:46459981-48629440 rs74608150 0.013299565 1            NA   \n",
       "17  ME_63_4-11:46459981-48629440 rs7107792  0.012442150 1            NA   \n",
       "18  ME_63_4-11:46459981-48629440 rs10838739 0.012442150 1            NA   \n",
       "19  ME_63_4-11:46459981-48629440 rs10838740 0.011370447 1            NA   \n",
       "20  ME_63_4-11:46459981-48629440 rs2869024  0.011172335 1            NA   \n",
       "21  ME_63_4-11:46459981-48629440 rs7103013  0.011172335 1            NA   \n",
       "22  ME_63_4-11:46459981-48629440 rs7119517  0.011172335 1            NA   \n",
       "23  ME_63_4-11:46459981-48629440 rs7129797  0.009484700 1            NA   \n",
       "24  ME_63_4-11:46459981-48629440 rs7107922  0.009484700 1            NA   \n",
       "25  ME_63_4-11:46459981-48629440 rs7933184  0.009137238 1            NA   \n",
       "26  ME_63_4-11:46459981-48629440 rs11039329 0.009137238 1            NA   \n",
       "27  ME_63_4-11:46459981-48629440 rs10742817 0.009137238 1            NA   \n",
       "28  ME_63_4-11:46459981-48629440 rs7116970  0.009054229 1            NA   \n",
       "29  ME_63_4-11:46459981-48629440 rs4752860  0.008912028 1            NA   \n",
       "30  ME_63_4-11:46459981-48629440 rs11039336 0.008912028 1            NA   \n",
       "⋮   ⋮                            ⋮          ⋮           ⋮            ⋮    \n",
       "82  ME_63_4-11:46459981-48629440 rs7129237  0.005548785 1            NA   \n",
       "83  ME_63_4-11:46459981-48629440 rs61895760 0.005548785 1            NA   \n",
       "84  ME_63_4-11:46459981-48629440 rs10838763 0.005548785 1            NA   \n",
       "85  ME_63_4-11:46459981-48629440 rs7114813  0.005548785 1            NA   \n",
       "86  ME_63_4-11:46459981-48629440 rs10838767 0.005548785 1            NA   \n",
       "87  ME_63_4-11:46459981-48629440 rs754434   0.005548785 1            NA   \n",
       "88  ME_63_4-11:46459981-48629440 rs10838768 0.005548785 1            NA   \n",
       "89  ME_63_4-11:46459981-48629440 rs11039376 0.005435730 1            NA   \n",
       "90  ME_63_4-11:46459981-48629440 rs7942074  0.005356953 1            NA   \n",
       "91  ME_63_4-11:46459981-48629440 rs12785949 0.005329317 1            NA   \n",
       "92  ME_63_4-11:46459981-48629440 rs2869534  0.005329317 1            NA   \n",
       "93  ME_63_4-11:46459981-48629440 rs10838751 0.005329317 1            NA   \n",
       "94  ME_63_4-11:46459981-48629440 rs7102205  0.005329317 1            NA   \n",
       "95  ME_63_4-11:46459981-48629440 rs1483988  0.005247939 1            NA   \n",
       "96  ME_63_4-11:46459981-48629440 rs4752792  0.004817172 1            NA   \n",
       "97  ME_63_4-11:46459981-48629440 rs10838769 0.004817172 1            NA   \n",
       "98  ME_63_4-11:46459981-48629440 rs7115228  0.004817172 1            NA   \n",
       "99  ME_63_4-11:46459981-48629440 rs10838771 0.004817172 1            NA   \n",
       "100 ME_63_4-11:46459981-48629440 rs1563820  0.004817172 1            NA   \n",
       "101 ME_63_4-11:46459981-48629440 rs28617307 0.004817172 1            NA   \n",
       "102 ME_63_4-11:46459981-48629440 rs4752796  0.004817172 1            NA   \n",
       "103 ME_63_4-11:46459981-48629440 rs7122182  0.004817172 1            NA   \n",
       "104 ME_63_4-11:46459981-48629440 rs7948468  0.004817172 1            NA   \n",
       "105 ME_63_4-11:46459981-48629440 rs7123952  0.004713256 1            NA   \n",
       "106 ME_63_4-11:46459981-48629440 rs10838775 0.004713256 1            NA   \n",
       "107 ME_63_4-11:46459981-48629440 rs10769299 0.004691724 1            NA   \n",
       "108 ME_63_4-11:46459981-48629440 rs3816605  0.004674461 1            NA   \n",
       "109 ME_63_4-11:46459981-48629440 rs7943213  0.004431125 1            NA   \n",
       "110 ME_63_4-11:46459981-48629440 rs11039432 0.004414568 1            NA   \n",
       "111 ME_63_4-11:46459981-48629440 rs2170815  0.004414568 1            NA   "
      ]
     },
     "metadata": {},
     "output_type": "display_data"
    }
   ],
   "source": [
    "susie %>%\n",
    "    dplyr::filter(grepl(\"ME_63_4-11\", Gene))"
   ]
  },
  {
   "cell_type": "code",
   "execution_count": 46,
   "id": "7776dab4-9b98-46b3-be36-24b818b2cdfd",
   "metadata": {},
   "outputs": [
    {
     "data": {
      "text/html": [
       "<table class=\"dataframe\">\n",
       "<caption>A data.frame: 1 × 6</caption>\n",
       "<thead>\n",
       "\t<tr><th scope=col>SNP</th><th scope=col>Gene</th><th scope=col>eQTL_beta</th><th scope=col>eQTL_SE</th><th scope=col>pvalue</th><th scope=col>Number</th></tr>\n",
       "\t<tr><th scope=col>&lt;chr&gt;</th><th scope=col>&lt;chr&gt;</th><th scope=col>&lt;chr&gt;</th><th scope=col>&lt;chr&gt;</th><th scope=col>&lt;chr&gt;</th><th scope=col>&lt;int&gt;</th></tr>\n",
       "</thead>\n",
       "<tbody>\n",
       "\t<tr><td>rs7950696</td><td>ENSG00000030066</td><td>0.0350849853231444</td><td>0.00764587150090268</td><td>5.49093434580727e-06</td><td>1</td></tr>\n",
       "</tbody>\n",
       "</table>\n"
      ],
      "text/latex": [
       "A data.frame: 1 × 6\n",
       "\\begin{tabular}{llllll}\n",
       " SNP & Gene & eQTL\\_beta & eQTL\\_SE & pvalue & Number\\\\\n",
       " <chr> & <chr> & <chr> & <chr> & <chr> & <int>\\\\\n",
       "\\hline\n",
       "\t rs7950696 & ENSG00000030066 & 0.0350849853231444 & 0.00764587150090268 & 5.49093434580727e-06 & 1\\\\\n",
       "\\end{tabular}\n"
      ],
      "text/markdown": [
       "\n",
       "A data.frame: 1 × 6\n",
       "\n",
       "| SNP &lt;chr&gt; | Gene &lt;chr&gt; | eQTL_beta &lt;chr&gt; | eQTL_SE &lt;chr&gt; | pvalue &lt;chr&gt; | Number &lt;int&gt; |\n",
       "|---|---|---|---|---|---|\n",
       "| rs7950696 | ENSG00000030066 | 0.0350849853231444 | 0.00764587150090268 | 5.49093434580727e-06 | 1 |\n",
       "\n"
      ],
      "text/plain": [
       "  SNP       Gene            eQTL_beta          eQTL_SE            \n",
       "1 rs7950696 ENSG00000030066 0.0350849853231444 0.00764587150090268\n",
       "  pvalue               Number\n",
       "1 5.49093434580727e-06 1     "
      ]
     },
     "metadata": {},
     "output_type": "display_data"
    },
    {
     "data": {
      "text/html": [
       "<table class=\"dataframe\">\n",
       "<caption>A data.frame: 1 × 6</caption>\n",
       "<thead>\n",
       "\t<tr><th scope=col>Chr</th><th scope=col>SNP</th><th scope=col>cM</th><th scope=col>Pos</th><th scope=col>Minor</th><th scope=col>Major</th></tr>\n",
       "\t<tr><th scope=col>&lt;chr&gt;</th><th scope=col>&lt;chr&gt;</th><th scope=col>&lt;int&gt;</th><th scope=col>&lt;int&gt;</th><th scope=col>&lt;chr&gt;</th><th scope=col>&lt;chr&gt;</th></tr>\n",
       "</thead>\n",
       "<tbody>\n",
       "\t<tr><td>11</td><td>rs7950696</td><td>0</td><td>47459981</td><td>C</td><td>T</td></tr>\n",
       "</tbody>\n",
       "</table>\n"
      ],
      "text/latex": [
       "A data.frame: 1 × 6\n",
       "\\begin{tabular}{llllll}\n",
       " Chr & SNP & cM & Pos & Minor & Major\\\\\n",
       " <chr> & <chr> & <int> & <int> & <chr> & <chr>\\\\\n",
       "\\hline\n",
       "\t 11 & rs7950696 & 0 & 47459981 & C & T\\\\\n",
       "\\end{tabular}\n"
      ],
      "text/markdown": [
       "\n",
       "A data.frame: 1 × 6\n",
       "\n",
       "| Chr &lt;chr&gt; | SNP &lt;chr&gt; | cM &lt;int&gt; | Pos &lt;int&gt; | Minor &lt;chr&gt; | Major &lt;chr&gt; |\n",
       "|---|---|---|---|---|---|\n",
       "| 11 | rs7950696 | 0 | 47459981 | C | T |\n",
       "\n"
      ],
      "text/plain": [
       "  Chr SNP       cM Pos      Minor Major\n",
       "1 11  rs7950696 0  47459981 C     T    "
      ]
     },
     "metadata": {},
     "output_type": "display_data"
    }
   ],
   "source": [
    "c.cis.eqtl %>%\n",
    "    dplyr::filter(SNP == \"rs7950696\")\n",
    "\n",
    "geno.bim %>%\n",
    "    dplyr::filter(SNP == \"rs7950696\")"
   ]
  },
  {
   "cell_type": "code",
   "execution_count": 47,
   "id": "187eb3ae-e9a9-47ed-b6c9-a22279199224",
   "metadata": {},
   "outputs": [
    {
     "data": {
      "image/png": "[encoded data removed]",
      "text/plain": [
       "plot without title"
      ]
     },
     "metadata": {
      "image/png": {
       "height": 240,
       "width": 480
      }
     },
     "output_type": "display_data"
    }
   ],
   "source": [
    "options(repr.plot.width=8, repr.plot.height=4)\n",
    "\n",
    "plot.data <- loci %>%\n",
    "    dplyr::filter(SNP == \"rs7950696\") %>%\n",
    "    merge(., overlap.scores, by=\"Locus\") %>%\n",
    "    dplyr::arrange(Overlap_Score) %>%\n",
    "    dplyr::select(Group, Overlap_Score) %>%\n",
    "    dplyr::group_by(Group) %>%\n",
    "    dplyr::summarize(Mean_Overlap_Score=mean(Overlap_Score)) %>%\n",
    "    dplyr::mutate(Neutrophils = c(\"No\", \"Yes\")[as.numeric(grepl(\"Neutrophil\", Group)) + 1])\n",
    "    \n",
    "plot.data %>%\n",
    "    ggplot(aes(x=\"Module 63\", y=Mean_Overlap_Score, fill=Neutrophils)) +\n",
    "    geom_dotplot(binaxis=\"y\", stackdir=\"center\", binwidth=0.025) +\n",
    "    scale_fill_brewer(palette=\"Pastel1\") + \n",
    "    ylim(0, 1) + ylab(\"Mean Overlap Score\") +\n",
    "    coord_flip() +\n",
    "    ggplot_theme +\n",
    "    theme(axis.title.y=element_blank())"
   ]
  },
  {
   "cell_type": "code",
   "execution_count": 48,
   "id": "dbd5f3c7-e438-4e45-b7bf-b340ce0dbc37",
   "metadata": {
    "tags": []
   },
   "outputs": [
    {
     "data": {
      "text/html": [
       "<table class=\"dataframe\">\n",
       "<caption>A data.frame: 0 × 12</caption>\n",
       "<thead>\n",
       "\t<tr><th scope=col>CHROM</th><th scope=col>POS</th><th scope=col>ID</th><th scope=col>REF</th><th scope=col>ALT</th><th scope=col>Allele</th><th scope=col>Consequence</th><th scope=col>MOTIF_NAME</th><th scope=col>MOTIF_POS</th><th scope=col>HIGH_INF_POS</th><th scope=col>MOTIF_SCORE_CHANGE</th><th scope=col>TRANSCRIPTION_FACTORS</th></tr>\n",
       "\t<tr><th scope=col>&lt;int&gt;</th><th scope=col>&lt;int&gt;</th><th scope=col>&lt;chr&gt;</th><th scope=col>&lt;chr&gt;</th><th scope=col>&lt;chr&gt;</th><th scope=col>&lt;chr&gt;</th><th scope=col>&lt;chr&gt;</th><th scope=col>&lt;chr&gt;</th><th scope=col>&lt;int&gt;</th><th scope=col>&lt;chr&gt;</th><th scope=col>&lt;dbl&gt;</th><th scope=col>&lt;chr&gt;</th></tr>\n",
       "</thead>\n",
       "<tbody>\n",
       "</tbody>\n",
       "</table>\n"
      ],
      "text/latex": [
       "A data.frame: 0 × 12\n",
       "\\begin{tabular}{llllllllllll}\n",
       " CHROM & POS & ID & REF & ALT & Allele & Consequence & MOTIF\\_NAME & MOTIF\\_POS & HIGH\\_INF\\_POS & MOTIF\\_SCORE\\_CHANGE & TRANSCRIPTION\\_FACTORS\\\\\n",
       " <int> & <int> & <chr> & <chr> & <chr> & <chr> & <chr> & <chr> & <int> & <chr> & <dbl> & <chr>\\\\\n",
       "\\hline\n",
       "\\end{tabular}\n"
      ],
      "text/markdown": [
       "\n",
       "A data.frame: 0 × 12\n",
       "\n",
       "| CHROM &lt;int&gt; | POS &lt;int&gt; | ID &lt;chr&gt; | REF &lt;chr&gt; | ALT &lt;chr&gt; | Allele &lt;chr&gt; | Consequence &lt;chr&gt; | MOTIF_NAME &lt;chr&gt; | MOTIF_POS &lt;int&gt; | HIGH_INF_POS &lt;chr&gt; | MOTIF_SCORE_CHANGE &lt;dbl&gt; | TRANSCRIPTION_FACTORS &lt;chr&gt; |\n",
       "|---|---|---|---|---|---|---|---|---|---|---|---|\n",
       "\n"
      ],
      "text/plain": [
       "     CHROM POS ID REF ALT Allele Consequence MOTIF_NAME MOTIF_POS HIGH_INF_POS\n",
       "     MOTIF_SCORE_CHANGE TRANSCRIPTION_FACTORS"
      ]
     },
     "metadata": {},
     "output_type": "display_data"
    }
   ],
   "source": [
    "vep %>%\n",
    "    dplyr::filter(ID == \"rs7950696\") %>%\n",
    "    dplyr::filter(Consequence == \"TF_binding_site_variant\") %>%\n",
    "    dplyr::select(CHROM, POS, ID, REF, ALT, Allele, Consequence, MOTIF_NAME, MOTIF_POS, HIGH_INF_POS, MOTIF_SCORE_CHANGE, TRANSCRIPTION_FACTORS)"
   ]
  },
  {
   "cell_type": "markdown",
   "id": "6cbc9b82-b1a8-48d8-bd10-13791f2ed797",
   "metadata": {
    "jp-MarkdownHeadingCollapsed": true,
    "tags": []
   },
   "source": [
    "## Module 51"
   ]
  },
  {
   "cell_type": "code",
   "execution_count": 49,
   "id": "4e20af32-1464-4dac-9168-5816dc067185",
   "metadata": {},
   "outputs": [
    {
     "data": {
      "text/html": [
       "<table class=\"dataframe\">\n",
       "<caption>A data.frame: 71 × 5</caption>\n",
       "<thead>\n",
       "\t<tr><th scope=col>Gene</th><th scope=col>Module</th><th scope=col>seqnames</th><th scope=col>gene_name</th><th scope=col>gene_biotype</th></tr>\n",
       "\t<tr><th scope=col>&lt;chr&gt;</th><th scope=col>&lt;chr&gt;</th><th scope=col>&lt;chr&gt;</th><th scope=col>&lt;chr&gt;</th><th scope=col>&lt;chr&gt;</th></tr>\n",
       "</thead>\n",
       "<tbody>\n",
       "\t<tr><td>ENSG00000006831</td><td>Module_51</td><td>12</td><td>ADIPOR2 </td><td>protein_coding</td></tr>\n",
       "\t<tr><td>ENSG00000054611</td><td>Module_51</td><td>22</td><td>TBC1D22A</td><td>protein_coding</td></tr>\n",
       "\t<tr><td>ENSG00000067225</td><td>Module_51</td><td>15</td><td>PKM     </td><td>protein_coding</td></tr>\n",
       "\t<tr><td>ENSG00000070759</td><td>Module_51</td><td>1 </td><td>TESK2   </td><td>protein_coding</td></tr>\n",
       "\t<tr><td>ENSG00000074800</td><td>Module_51</td><td>1 </td><td>ENO1    </td><td>protein_coding</td></tr>\n",
       "\t<tr><td>ENSG00000099849</td><td>Module_51</td><td>11</td><td>RASSF7  </td><td>protein_coding</td></tr>\n",
       "\t<tr><td>ENSG00000100281</td><td>Module_51</td><td>22</td><td>HMGXB4  </td><td>protein_coding</td></tr>\n",
       "\t<tr><td>ENSG00000100644</td><td>Module_51</td><td>14</td><td>HIF1A   </td><td>protein_coding</td></tr>\n",
       "\t<tr><td>ENSG00000101216</td><td>Module_51</td><td>20</td><td>GMEB2   </td><td>protein_coding</td></tr>\n",
       "\t<tr><td>ENSG00000102144</td><td>Module_51</td><td>X </td><td>PGK1    </td><td>protein_coding</td></tr>\n",
       "\t<tr><td>ENSG00000104765</td><td>Module_51</td><td>8 </td><td>BNIP3L  </td><td>protein_coding</td></tr>\n",
       "\t<tr><td>ENSG00000106991</td><td>Module_51</td><td>9 </td><td>ENG     </td><td>protein_coding</td></tr>\n",
       "\t<tr><td>ENSG00000108840</td><td>Module_51</td><td>17</td><td>HDAC5   </td><td>protein_coding</td></tr>\n",
       "\t<tr><td>ENSG00000109107</td><td>Module_51</td><td>17</td><td>ALDOC   </td><td>protein_coding</td></tr>\n",
       "\t<tr><td>ENSG00000109113</td><td>Module_51</td><td>17</td><td>RAB34   </td><td>protein_coding</td></tr>\n",
       "\t<tr><td>ENSG00000109771</td><td>Module_51</td><td>4 </td><td>LRP2BP  </td><td>protein_coding</td></tr>\n",
       "\t<tr><td>ENSG00000109775</td><td>Module_51</td><td>4 </td><td>UFSP2   </td><td>protein_coding</td></tr>\n",
       "\t<tr><td>ENSG00000111640</td><td>Module_51</td><td>12</td><td>GAPDH   </td><td>protein_coding</td></tr>\n",
       "\t<tr><td>ENSG00000111669</td><td>Module_51</td><td>12</td><td>TPI1    </td><td>protein_coding</td></tr>\n",
       "\t<tr><td>ENSG00000115548</td><td>Module_51</td><td>2 </td><td>KDM3A   </td><td>protein_coding</td></tr>\n",
       "\t<tr><td>ENSG00000117000</td><td>Module_51</td><td>1 </td><td>RLF     </td><td>protein_coding</td></tr>\n",
       "\t<tr><td>ENSG00000118816</td><td>Module_51</td><td>4 </td><td>CCNI    </td><td>protein_coding</td></tr>\n",
       "\t<tr><td>ENSG00000122512</td><td>Module_51</td><td>7 </td><td>PMS2    </td><td>protein_coding</td></tr>\n",
       "\t<tr><td>ENSG00000122674</td><td>Module_51</td><td>7 </td><td>CCZ1    </td><td>protein_coding</td></tr>\n",
       "\t<tr><td>ENSG00000122884</td><td>Module_51</td><td>10</td><td>P4HA1   </td><td>protein_coding</td></tr>\n",
       "\t<tr><td>ENSG00000125968</td><td>Module_51</td><td>20</td><td>ID1     </td><td>protein_coding</td></tr>\n",
       "\t<tr><td>ENSG00000127663</td><td>Module_51</td><td>19</td><td>KDM4B   </td><td>protein_coding</td></tr>\n",
       "\t<tr><td>ENSG00000129534</td><td>Module_51</td><td>14</td><td>MIS18BP1</td><td>protein_coding</td></tr>\n",
       "\t<tr><td>ENSG00000131899</td><td>Module_51</td><td>17</td><td>LLGL1   </td><td>protein_coding</td></tr>\n",
       "\t<tr><td>ENSG00000134247</td><td>Module_51</td><td>1 </td><td>PTGFRN  </td><td>protein_coding</td></tr>\n",
       "\t<tr><td>⋮</td><td>⋮</td><td>⋮</td><td>⋮</td><td>⋮</td></tr>\n",
       "\t<tr><td>ENSG00000155026</td><td>Module_51</td><td>7 </td><td>RSPH10B   </td><td>protein_coding</td></tr>\n",
       "\t<tr><td>ENSG00000158669</td><td>Module_51</td><td>8 </td><td>GPAT4     </td><td>protein_coding</td></tr>\n",
       "\t<tr><td>ENSG00000162433</td><td>Module_51</td><td>1 </td><td>AK4       </td><td>protein_coding</td></tr>\n",
       "\t<tr><td>ENSG00000163293</td><td>Module_51</td><td>4 </td><td>NIPAL1    </td><td>protein_coding</td></tr>\n",
       "\t<tr><td>ENSG00000163872</td><td>Module_51</td><td>3 </td><td>YEATS2    </td><td>protein_coding</td></tr>\n",
       "\t<tr><td>ENSG00000165195</td><td>Module_51</td><td>X </td><td>PIGA      </td><td>protein_coding</td></tr>\n",
       "\t<tr><td>ENSG00000167468</td><td>Module_51</td><td>19</td><td>GPX4      </td><td>protein_coding</td></tr>\n",
       "\t<tr><td>ENSG00000167930</td><td>Module_51</td><td>16</td><td>FAM234A   </td><td>protein_coding</td></tr>\n",
       "\t<tr><td>ENSG00000169019</td><td>Module_51</td><td>4 </td><td>COMMD8    </td><td>protein_coding</td></tr>\n",
       "\t<tr><td>ENSG00000169402</td><td>Module_51</td><td>7 </td><td>RSPH10B2  </td><td>protein_coding</td></tr>\n",
       "\t<tr><td>ENSG00000169764</td><td>Module_51</td><td>2 </td><td>UGP2      </td><td>protein_coding</td></tr>\n",
       "\t<tr><td>ENSG00000170004</td><td>Module_51</td><td>17</td><td>CHD3      </td><td>protein_coding</td></tr>\n",
       "\t<tr><td>ENSG00000170379</td><td>Module_51</td><td>7 </td><td>TCAF2     </td><td>protein_coding</td></tr>\n",
       "\t<tr><td>ENSG00000170448</td><td>Module_51</td><td>4 </td><td>NFXL1     </td><td>protein_coding</td></tr>\n",
       "\t<tr><td>ENSG00000170949</td><td>Module_51</td><td>19</td><td>ZNF160    </td><td>protein_coding</td></tr>\n",
       "\t<tr><td>ENSG00000171051</td><td>Module_51</td><td>19</td><td>FPR1      </td><td>protein_coding</td></tr>\n",
       "\t<tr><td>ENSG00000171314</td><td>Module_51</td><td>10</td><td>PGAM1     </td><td>protein_coding</td></tr>\n",
       "\t<tr><td>ENSG00000171729</td><td>Module_51</td><td>1 </td><td>TMEM51    </td><td>protein_coding</td></tr>\n",
       "\t<tr><td>ENSG00000175105</td><td>Module_51</td><td>3 </td><td>ZNF654    </td><td>protein_coding</td></tr>\n",
       "\t<tr><td>ENSG00000176171</td><td>Module_51</td><td>10</td><td>BNIP3     </td><td>protein_coding</td></tr>\n",
       "\t<tr><td>ENSG00000177853</td><td>Module_51</td><td>10</td><td>ZNF518A   </td><td>protein_coding</td></tr>\n",
       "\t<tr><td>ENSG00000186352</td><td>Module_51</td><td>4 </td><td>ANKRD37   </td><td>protein_coding</td></tr>\n",
       "\t<tr><td>ENSG00000187535</td><td>Module_51</td><td>16</td><td>IFT140    </td><td>protein_coding</td></tr>\n",
       "\t<tr><td>ENSG00000188994</td><td>Module_51</td><td>6 </td><td>ZNF292    </td><td>protein_coding</td></tr>\n",
       "\t<tr><td>ENSG00000197712</td><td>Module_51</td><td>4 </td><td>FAM114A1  </td><td>protein_coding</td></tr>\n",
       "\t<tr><td>ENSG00000198816</td><td>Module_51</td><td>19</td><td>ZNF358    </td><td>protein_coding</td></tr>\n",
       "\t<tr><td>ENSG00000240972</td><td>Module_51</td><td>22</td><td>MIF       </td><td>protein_coding</td></tr>\n",
       "\t<tr><td>ENSG00000244405</td><td>Module_51</td><td>3 </td><td>ETV5      </td><td>protein_coding</td></tr>\n",
       "\t<tr><td>ENSG00000269343</td><td>Module_51</td><td>19</td><td>ZNF587B   </td><td>protein_coding</td></tr>\n",
       "\t<tr><td>ENSG00000282936</td><td>Module_51</td><td>17</td><td>AC004706.3</td><td>protein_coding</td></tr>\n",
       "</tbody>\n",
       "</table>\n"
      ],
      "text/latex": [
       "A data.frame: 71 × 5\n",
       "\\begin{tabular}{lllll}\n",
       " Gene & Module & seqnames & gene\\_name & gene\\_biotype\\\\\n",
       " <chr> & <chr> & <chr> & <chr> & <chr>\\\\\n",
       "\\hline\n",
       "\t ENSG00000006831 & Module\\_51 & 12 & ADIPOR2  & protein\\_coding\\\\\n",
       "\t ENSG00000054611 & Module\\_51 & 22 & TBC1D22A & protein\\_coding\\\\\n",
       "\t ENSG00000067225 & Module\\_51 & 15 & PKM      & protein\\_coding\\\\\n",
       "\t ENSG00000070759 & Module\\_51 & 1  & TESK2    & protein\\_coding\\\\\n",
       "\t ENSG00000074800 & Module\\_51 & 1  & ENO1     & protein\\_coding\\\\\n",
       "\t ENSG00000099849 & Module\\_51 & 11 & RASSF7   & protein\\_coding\\\\\n",
       "\t ENSG00000100281 & Module\\_51 & 22 & HMGXB4   & protein\\_coding\\\\\n",
       "\t ENSG00000100644 & Module\\_51 & 14 & HIF1A    & protein\\_coding\\\\\n",
       "\t ENSG00000101216 & Module\\_51 & 20 & GMEB2    & protein\\_coding\\\\\n",
       "\t ENSG00000102144 & Module\\_51 & X  & PGK1     & protein\\_coding\\\\\n",
       "\t ENSG00000104765 & Module\\_51 & 8  & BNIP3L   & protein\\_coding\\\\\n",
       "\t ENSG00000106991 & Module\\_51 & 9  & ENG      & protein\\_coding\\\\\n",
       "\t ENSG00000108840 & Module\\_51 & 17 & HDAC5    & protein\\_coding\\\\\n",
       "\t ENSG00000109107 & Module\\_51 & 17 & ALDOC    & protein\\_coding\\\\\n",
       "\t ENSG00000109113 & Module\\_51 & 17 & RAB34    & protein\\_coding\\\\\n",
       "\t ENSG00000109771 & Module\\_51 & 4  & LRP2BP   & protein\\_coding\\\\\n",
       "\t ENSG00000109775 & Module\\_51 & 4  & UFSP2    & protein\\_coding\\\\\n",
       "\t ENSG00000111640 & Module\\_51 & 12 & GAPDH    & protein\\_coding\\\\\n",
       "\t ENSG00000111669 & Module\\_51 & 12 & TPI1     & protein\\_coding\\\\\n",
       "\t ENSG00000115548 & Module\\_51 & 2  & KDM3A    & protein\\_coding\\\\\n",
       "\t ENSG00000117000 & Module\\_51 & 1  & RLF      & protein\\_coding\\\\\n",
       "\t ENSG00000118816 & Module\\_51 & 4  & CCNI     & protein\\_coding\\\\\n",
       "\t ENSG00000122512 & Module\\_51 & 7  & PMS2     & protein\\_coding\\\\\n",
       "\t ENSG00000122674 & Module\\_51 & 7  & CCZ1     & protein\\_coding\\\\\n",
       "\t ENSG00000122884 & Module\\_51 & 10 & P4HA1    & protein\\_coding\\\\\n",
       "\t ENSG00000125968 & Module\\_51 & 20 & ID1      & protein\\_coding\\\\\n",
       "\t ENSG00000127663 & Module\\_51 & 19 & KDM4B    & protein\\_coding\\\\\n",
       "\t ENSG00000129534 & Module\\_51 & 14 & MIS18BP1 & protein\\_coding\\\\\n",
       "\t ENSG00000131899 & Module\\_51 & 17 & LLGL1    & protein\\_coding\\\\\n",
       "\t ENSG00000134247 & Module\\_51 & 1  & PTGFRN   & protein\\_coding\\\\\n",
       "\t ⋮ & ⋮ & ⋮ & ⋮ & ⋮\\\\\n",
       "\t ENSG00000155026 & Module\\_51 & 7  & RSPH10B    & protein\\_coding\\\\\n",
       "\t ENSG00000158669 & Module\\_51 & 8  & GPAT4      & protein\\_coding\\\\\n",
       "\t ENSG00000162433 & Module\\_51 & 1  & AK4        & protein\\_coding\\\\\n",
       "\t ENSG00000163293 & Module\\_51 & 4  & NIPAL1     & protein\\_coding\\\\\n",
       "\t ENSG00000163872 & Module\\_51 & 3  & YEATS2     & protein\\_coding\\\\\n",
       "\t ENSG00000165195 & Module\\_51 & X  & PIGA       & protein\\_coding\\\\\n",
       "\t ENSG00000167468 & Module\\_51 & 19 & GPX4       & protein\\_coding\\\\\n",
       "\t ENSG00000167930 & Module\\_51 & 16 & FAM234A    & protein\\_coding\\\\\n",
       "\t ENSG00000169019 & Module\\_51 & 4  & COMMD8     & protein\\_coding\\\\\n",
       "\t ENSG00000169402 & Module\\_51 & 7  & RSPH10B2   & protein\\_coding\\\\\n",
       "\t ENSG00000169764 & Module\\_51 & 2  & UGP2       & protein\\_coding\\\\\n",
       "\t ENSG00000170004 & Module\\_51 & 17 & CHD3       & protein\\_coding\\\\\n",
       "\t ENSG00000170379 & Module\\_51 & 7  & TCAF2      & protein\\_coding\\\\\n",
       "\t ENSG00000170448 & Module\\_51 & 4  & NFXL1      & protein\\_coding\\\\\n",
       "\t ENSG00000170949 & Module\\_51 & 19 & ZNF160     & protein\\_coding\\\\\n",
       "\t ENSG00000171051 & Module\\_51 & 19 & FPR1       & protein\\_coding\\\\\n",
       "\t ENSG00000171314 & Module\\_51 & 10 & PGAM1      & protein\\_coding\\\\\n",
       "\t ENSG00000171729 & Module\\_51 & 1  & TMEM51     & protein\\_coding\\\\\n",
       "\t ENSG00000175105 & Module\\_51 & 3  & ZNF654     & protein\\_coding\\\\\n",
       "\t ENSG00000176171 & Module\\_51 & 10 & BNIP3      & protein\\_coding\\\\\n",
       "\t ENSG00000177853 & Module\\_51 & 10 & ZNF518A    & protein\\_coding\\\\\n",
       "\t ENSG00000186352 & Module\\_51 & 4  & ANKRD37    & protein\\_coding\\\\\n",
       "\t ENSG00000187535 & Module\\_51 & 16 & IFT140     & protein\\_coding\\\\\n",
       "\t ENSG00000188994 & Module\\_51 & 6  & ZNF292     & protein\\_coding\\\\\n",
       "\t ENSG00000197712 & Module\\_51 & 4  & FAM114A1   & protein\\_coding\\\\\n",
       "\t ENSG00000198816 & Module\\_51 & 19 & ZNF358     & protein\\_coding\\\\\n",
       "\t ENSG00000240972 & Module\\_51 & 22 & MIF        & protein\\_coding\\\\\n",
       "\t ENSG00000244405 & Module\\_51 & 3  & ETV5       & protein\\_coding\\\\\n",
       "\t ENSG00000269343 & Module\\_51 & 19 & ZNF587B    & protein\\_coding\\\\\n",
       "\t ENSG00000282936 & Module\\_51 & 17 & AC004706.3 & protein\\_coding\\\\\n",
       "\\end{tabular}\n"
      ],
      "text/markdown": [
       "\n",
       "A data.frame: 71 × 5\n",
       "\n",
       "| Gene &lt;chr&gt; | Module &lt;chr&gt; | seqnames &lt;chr&gt; | gene_name &lt;chr&gt; | gene_biotype &lt;chr&gt; |\n",
       "|---|---|---|---|---|\n",
       "| ENSG00000006831 | Module_51 | 12 | ADIPOR2  | protein_coding |\n",
       "| ENSG00000054611 | Module_51 | 22 | TBC1D22A | protein_coding |\n",
       "| ENSG00000067225 | Module_51 | 15 | PKM      | protein_coding |\n",
       "| ENSG00000070759 | Module_51 | 1  | TESK2    | protein_coding |\n",
       "| ENSG00000074800 | Module_51 | 1  | ENO1     | protein_coding |\n",
       "| ENSG00000099849 | Module_51 | 11 | RASSF7   | protein_coding |\n",
       "| ENSG00000100281 | Module_51 | 22 | HMGXB4   | protein_coding |\n",
       "| ENSG00000100644 | Module_51 | 14 | HIF1A    | protein_coding |\n",
       "| ENSG00000101216 | Module_51 | 20 | GMEB2    | protein_coding |\n",
       "| ENSG00000102144 | Module_51 | X  | PGK1     | protein_coding |\n",
       "| ENSG00000104765 | Module_51 | 8  | BNIP3L   | protein_coding |\n",
       "| ENSG00000106991 | Module_51 | 9  | ENG      | protein_coding |\n",
       "| ENSG00000108840 | Module_51 | 17 | HDAC5    | protein_coding |\n",
       "| ENSG00000109107 | Module_51 | 17 | ALDOC    | protein_coding |\n",
       "| ENSG00000109113 | Module_51 | 17 | RAB34    | protein_coding |\n",
       "| ENSG00000109771 | Module_51 | 4  | LRP2BP   | protein_coding |\n",
       "| ENSG00000109775 | Module_51 | 4  | UFSP2    | protein_coding |\n",
       "| ENSG00000111640 | Module_51 | 12 | GAPDH    | protein_coding |\n",
       "| ENSG00000111669 | Module_51 | 12 | TPI1     | protein_coding |\n",
       "| ENSG00000115548 | Module_51 | 2  | KDM3A    | protein_coding |\n",
       "| ENSG00000117000 | Module_51 | 1  | RLF      | protein_coding |\n",
       "| ENSG00000118816 | Module_51 | 4  | CCNI     | protein_coding |\n",
       "| ENSG00000122512 | Module_51 | 7  | PMS2     | protein_coding |\n",
       "| ENSG00000122674 | Module_51 | 7  | CCZ1     | protein_coding |\n",
       "| ENSG00000122884 | Module_51 | 10 | P4HA1    | protein_coding |\n",
       "| ENSG00000125968 | Module_51 | 20 | ID1      | protein_coding |\n",
       "| ENSG00000127663 | Module_51 | 19 | KDM4B    | protein_coding |\n",
       "| ENSG00000129534 | Module_51 | 14 | MIS18BP1 | protein_coding |\n",
       "| ENSG00000131899 | Module_51 | 17 | LLGL1    | protein_coding |\n",
       "| ENSG00000134247 | Module_51 | 1  | PTGFRN   | protein_coding |\n",
       "| ⋮ | ⋮ | ⋮ | ⋮ | ⋮ |\n",
       "| ENSG00000155026 | Module_51 | 7  | RSPH10B    | protein_coding |\n",
       "| ENSG00000158669 | Module_51 | 8  | GPAT4      | protein_coding |\n",
       "| ENSG00000162433 | Module_51 | 1  | AK4        | protein_coding |\n",
       "| ENSG00000163293 | Module_51 | 4  | NIPAL1     | protein_coding |\n",
       "| ENSG00000163872 | Module_51 | 3  | YEATS2     | protein_coding |\n",
       "| ENSG00000165195 | Module_51 | X  | PIGA       | protein_coding |\n",
       "| ENSG00000167468 | Module_51 | 19 | GPX4       | protein_coding |\n",
       "| ENSG00000167930 | Module_51 | 16 | FAM234A    | protein_coding |\n",
       "| ENSG00000169019 | Module_51 | 4  | COMMD8     | protein_coding |\n",
       "| ENSG00000169402 | Module_51 | 7  | RSPH10B2   | protein_coding |\n",
       "| ENSG00000169764 | Module_51 | 2  | UGP2       | protein_coding |\n",
       "| ENSG00000170004 | Module_51 | 17 | CHD3       | protein_coding |\n",
       "| ENSG00000170379 | Module_51 | 7  | TCAF2      | protein_coding |\n",
       "| ENSG00000170448 | Module_51 | 4  | NFXL1      | protein_coding |\n",
       "| ENSG00000170949 | Module_51 | 19 | ZNF160     | protein_coding |\n",
       "| ENSG00000171051 | Module_51 | 19 | FPR1       | protein_coding |\n",
       "| ENSG00000171314 | Module_51 | 10 | PGAM1      | protein_coding |\n",
       "| ENSG00000171729 | Module_51 | 1  | TMEM51     | protein_coding |\n",
       "| ENSG00000175105 | Module_51 | 3  | ZNF654     | protein_coding |\n",
       "| ENSG00000176171 | Module_51 | 10 | BNIP3      | protein_coding |\n",
       "| ENSG00000177853 | Module_51 | 10 | ZNF518A    | protein_coding |\n",
       "| ENSG00000186352 | Module_51 | 4  | ANKRD37    | protein_coding |\n",
       "| ENSG00000187535 | Module_51 | 16 | IFT140     | protein_coding |\n",
       "| ENSG00000188994 | Module_51 | 6  | ZNF292     | protein_coding |\n",
       "| ENSG00000197712 | Module_51 | 4  | FAM114A1   | protein_coding |\n",
       "| ENSG00000198816 | Module_51 | 19 | ZNF358     | protein_coding |\n",
       "| ENSG00000240972 | Module_51 | 22 | MIF        | protein_coding |\n",
       "| ENSG00000244405 | Module_51 | 3  | ETV5       | protein_coding |\n",
       "| ENSG00000269343 | Module_51 | 19 | ZNF587B    | protein_coding |\n",
       "| ENSG00000282936 | Module_51 | 17 | AC004706.3 | protein_coding |\n",
       "\n"
      ],
      "text/plain": [
       "   Gene            Module    seqnames gene_name  gene_biotype  \n",
       "1  ENSG00000006831 Module_51 12       ADIPOR2    protein_coding\n",
       "2  ENSG00000054611 Module_51 22       TBC1D22A   protein_coding\n",
       "3  ENSG00000067225 Module_51 15       PKM        protein_coding\n",
       "4  ENSG00000070759 Module_51 1        TESK2      protein_coding\n",
       "5  ENSG00000074800 Module_51 1        ENO1       protein_coding\n",
       "6  ENSG00000099849 Module_51 11       RASSF7     protein_coding\n",
       "7  ENSG00000100281 Module_51 22       HMGXB4     protein_coding\n",
       "8  ENSG00000100644 Module_51 14       HIF1A      protein_coding\n",
       "9  ENSG00000101216 Module_51 20       GMEB2      protein_coding\n",
       "10 ENSG00000102144 Module_51 X        PGK1       protein_coding\n",
       "11 ENSG00000104765 Module_51 8        BNIP3L     protein_coding\n",
       "12 ENSG00000106991 Module_51 9        ENG        protein_coding\n",
       "13 ENSG00000108840 Module_51 17       HDAC5      protein_coding\n",
       "14 ENSG00000109107 Module_51 17       ALDOC      protein_coding\n",
       "15 ENSG00000109113 Module_51 17       RAB34      protein_coding\n",
       "16 ENSG00000109771 Module_51 4        LRP2BP     protein_coding\n",
       "17 ENSG00000109775 Module_51 4        UFSP2      protein_coding\n",
       "18 ENSG00000111640 Module_51 12       GAPDH      protein_coding\n",
       "19 ENSG00000111669 Module_51 12       TPI1       protein_coding\n",
       "20 ENSG00000115548 Module_51 2        KDM3A      protein_coding\n",
       "21 ENSG00000117000 Module_51 1        RLF        protein_coding\n",
       "22 ENSG00000118816 Module_51 4        CCNI       protein_coding\n",
       "23 ENSG00000122512 Module_51 7        PMS2       protein_coding\n",
       "24 ENSG00000122674 Module_51 7        CCZ1       protein_coding\n",
       "25 ENSG00000122884 Module_51 10       P4HA1      protein_coding\n",
       "26 ENSG00000125968 Module_51 20       ID1        protein_coding\n",
       "27 ENSG00000127663 Module_51 19       KDM4B      protein_coding\n",
       "28 ENSG00000129534 Module_51 14       MIS18BP1   protein_coding\n",
       "29 ENSG00000131899 Module_51 17       LLGL1      protein_coding\n",
       "30 ENSG00000134247 Module_51 1        PTGFRN     protein_coding\n",
       "⋮  ⋮               ⋮         ⋮        ⋮          ⋮             \n",
       "42 ENSG00000155026 Module_51 7        RSPH10B    protein_coding\n",
       "43 ENSG00000158669 Module_51 8        GPAT4      protein_coding\n",
       "44 ENSG00000162433 Module_51 1        AK4        protein_coding\n",
       "45 ENSG00000163293 Module_51 4        NIPAL1     protein_coding\n",
       "46 ENSG00000163872 Module_51 3        YEATS2     protein_coding\n",
       "47 ENSG00000165195 Module_51 X        PIGA       protein_coding\n",
       "48 ENSG00000167468 Module_51 19       GPX4       protein_coding\n",
       "49 ENSG00000167930 Module_51 16       FAM234A    protein_coding\n",
       "50 ENSG00000169019 Module_51 4        COMMD8     protein_coding\n",
       "51 ENSG00000169402 Module_51 7        RSPH10B2   protein_coding\n",
       "52 ENSG00000169764 Module_51 2        UGP2       protein_coding\n",
       "53 ENSG00000170004 Module_51 17       CHD3       protein_coding\n",
       "54 ENSG00000170379 Module_51 7        TCAF2      protein_coding\n",
       "55 ENSG00000170448 Module_51 4        NFXL1      protein_coding\n",
       "56 ENSG00000170949 Module_51 19       ZNF160     protein_coding\n",
       "57 ENSG00000171051 Module_51 19       FPR1       protein_coding\n",
       "58 ENSG00000171314 Module_51 10       PGAM1      protein_coding\n",
       "59 ENSG00000171729 Module_51 1        TMEM51     protein_coding\n",
       "60 ENSG00000175105 Module_51 3        ZNF654     protein_coding\n",
       "61 ENSG00000176171 Module_51 10       BNIP3      protein_coding\n",
       "62 ENSG00000177853 Module_51 10       ZNF518A    protein_coding\n",
       "63 ENSG00000186352 Module_51 4        ANKRD37    protein_coding\n",
       "64 ENSG00000187535 Module_51 16       IFT140     protein_coding\n",
       "65 ENSG00000188994 Module_51 6        ZNF292     protein_coding\n",
       "66 ENSG00000197712 Module_51 4        FAM114A1   protein_coding\n",
       "67 ENSG00000198816 Module_51 19       ZNF358     protein_coding\n",
       "68 ENSG00000240972 Module_51 22       MIF        protein_coding\n",
       "69 ENSG00000244405 Module_51 3        ETV5       protein_coding\n",
       "70 ENSG00000269343 Module_51 19       ZNF587B    protein_coding\n",
       "71 ENSG00000282936 Module_51 17       AC004706.3 protein_coding"
      ]
     },
     "metadata": {},
     "output_type": "display_data"
    }
   ],
   "source": [
    "modules %>%\n",
    "    dplyr::filter(Module == \"Module_51\") %>%\n",
    "    dplyr::select(Gene, Module, seqnames, gene_name, gene_biotype) %>%\n",
    "    dplyr::filter(gene_biotype == \"protein_coding\") "
   ]
  },
  {
   "cell_type": "code",
   "execution_count": 50,
   "id": "71c11803-0f6f-44bf-adef-9a17ca1588fa",
   "metadata": {},
   "outputs": [
    {
     "data": {
      "text/html": [
       "<table class=\"dataframe\">\n",
       "<caption>A data.frame: 6 × 11</caption>\n",
       "<thead>\n",
       "\t<tr><th></th><th scope=col>nsnps</th><th scope=col>PP.H0.abf</th><th scope=col>PP.H1.abf</th><th scope=col>PP.H2.abf</th><th scope=col>PP.H3.abf</th><th scope=col>PP.H4.abf</th><th scope=col>Gene</th><th scope=col>eQTL.Signal</th><th scope=col>Eigengene</th><th scope=col>Module.QTL</th><th scope=col>Coloc.Factor</th></tr>\n",
       "\t<tr><th></th><th scope=col>&lt;int&gt;</th><th scope=col>&lt;dbl&gt;</th><th scope=col>&lt;dbl&gt;</th><th scope=col>&lt;dbl&gt;</th><th scope=col>&lt;dbl&gt;</th><th scope=col>&lt;dbl&gt;</th><th scope=col>&lt;chr&gt;</th><th scope=col>&lt;int&gt;</th><th scope=col>&lt;chr&gt;</th><th scope=col>&lt;chr&gt;</th><th scope=col>&lt;dbl&gt;</th></tr>\n",
       "</thead>\n",
       "<tbody>\n",
       "\t<tr><th scope=row>1</th><td>3068</td><td> 2.469761e-70</td><td>1.451496e-13</td><td> 6.769304e-59</td><td>0.03882250</td><td>0.9611775</td><td>ENSG00000163293</td><td>1</td><td>ME_51_2</td><td>ME_51_2-4:46822874-48948369</td><td>0.9611775</td></tr>\n",
       "\t<tr><th scope=row>2</th><td>3155</td><td>3.428261e-118</td><td>1.509323e-13</td><td>9.396431e-107</td><td>0.04040904</td><td>0.9595910</td><td>ENSG00000259959</td><td>1</td><td>ME_51_2</td><td>ME_51_2-4:46822874-48948369</td><td>0.9595910</td></tr>\n",
       "\t<tr><th scope=row>3</th><td>3066</td><td>5.827727e-200</td><td>1.550697e-13</td><td>1.597307e-188</td><td>0.04154419</td><td>0.9584558</td><td>ENSG00000170448</td><td>1</td><td>ME_51_2</td><td>ME_51_2-4:46822874-48948369</td><td>0.9584558</td></tr>\n",
       "\t<tr><th scope=row>4</th><td>3151</td><td> 1.531359e-73</td><td>1.608272e-13</td><td> 4.197262e-62</td><td>0.04312384</td><td>0.9568762</td><td>ENSG00000145244</td><td>1</td><td>ME_51_2</td><td>ME_51_2-4:46822874-48948369</td><td>0.9568762</td></tr>\n",
       "\t<tr><th scope=row>5</th><td>2864</td><td> 8.152179e-23</td><td>1.616533e-13</td><td> 2.234410e-11</td><td>0.04335049</td><td>0.9566495</td><td>ENSG00000169019</td><td>2</td><td>ME_51_2</td><td>ME_51_2-4:46822874-48948369</td><td>0.9566495</td></tr>\n",
       "\t<tr><th scope=row>6</th><td>2896</td><td> 2.990630e-26</td><td>1.638223e-13</td><td> 8.196939e-15</td><td>0.04394558</td><td>0.9560544</td><td>ENSG00000145246</td><td>2</td><td>ME_51_2</td><td>ME_51_2-4:46822874-48948369</td><td>0.9560544</td></tr>\n",
       "</tbody>\n",
       "</table>\n"
      ],
      "text/latex": [
       "A data.frame: 6 × 11\n",
       "\\begin{tabular}{r|lllllllllll}\n",
       "  & nsnps & PP.H0.abf & PP.H1.abf & PP.H2.abf & PP.H3.abf & PP.H4.abf & Gene & eQTL.Signal & Eigengene & Module.QTL & Coloc.Factor\\\\\n",
       "  & <int> & <dbl> & <dbl> & <dbl> & <dbl> & <dbl> & <chr> & <int> & <chr> & <chr> & <dbl>\\\\\n",
       "\\hline\n",
       "\t1 & 3068 &  2.469761e-70 & 1.451496e-13 &  6.769304e-59 & 0.03882250 & 0.9611775 & ENSG00000163293 & 1 & ME\\_51\\_2 & ME\\_51\\_2-4:46822874-48948369 & 0.9611775\\\\\n",
       "\t2 & 3155 & 3.428261e-118 & 1.509323e-13 & 9.396431e-107 & 0.04040904 & 0.9595910 & ENSG00000259959 & 1 & ME\\_51\\_2 & ME\\_51\\_2-4:46822874-48948369 & 0.9595910\\\\\n",
       "\t3 & 3066 & 5.827727e-200 & 1.550697e-13 & 1.597307e-188 & 0.04154419 & 0.9584558 & ENSG00000170448 & 1 & ME\\_51\\_2 & ME\\_51\\_2-4:46822874-48948369 & 0.9584558\\\\\n",
       "\t4 & 3151 &  1.531359e-73 & 1.608272e-13 &  4.197262e-62 & 0.04312384 & 0.9568762 & ENSG00000145244 & 1 & ME\\_51\\_2 & ME\\_51\\_2-4:46822874-48948369 & 0.9568762\\\\\n",
       "\t5 & 2864 &  8.152179e-23 & 1.616533e-13 &  2.234410e-11 & 0.04335049 & 0.9566495 & ENSG00000169019 & 2 & ME\\_51\\_2 & ME\\_51\\_2-4:46822874-48948369 & 0.9566495\\\\\n",
       "\t6 & 2896 &  2.990630e-26 & 1.638223e-13 &  8.196939e-15 & 0.04394558 & 0.9560544 & ENSG00000145246 & 2 & ME\\_51\\_2 & ME\\_51\\_2-4:46822874-48948369 & 0.9560544\\\\\n",
       "\\end{tabular}\n"
      ],
      "text/markdown": [
       "\n",
       "A data.frame: 6 × 11\n",
       "\n",
       "| <!--/--> | nsnps &lt;int&gt; | PP.H0.abf &lt;dbl&gt; | PP.H1.abf &lt;dbl&gt; | PP.H2.abf &lt;dbl&gt; | PP.H3.abf &lt;dbl&gt; | PP.H4.abf &lt;dbl&gt; | Gene &lt;chr&gt; | eQTL.Signal &lt;int&gt; | Eigengene &lt;chr&gt; | Module.QTL &lt;chr&gt; | Coloc.Factor &lt;dbl&gt; |\n",
       "|---|---|---|---|---|---|---|---|---|---|---|---|\n",
       "| 1 | 3068 |  2.469761e-70 | 1.451496e-13 |  6.769304e-59 | 0.03882250 | 0.9611775 | ENSG00000163293 | 1 | ME_51_2 | ME_51_2-4:46822874-48948369 | 0.9611775 |\n",
       "| 2 | 3155 | 3.428261e-118 | 1.509323e-13 | 9.396431e-107 | 0.04040904 | 0.9595910 | ENSG00000259959 | 1 | ME_51_2 | ME_51_2-4:46822874-48948369 | 0.9595910 |\n",
       "| 3 | 3066 | 5.827727e-200 | 1.550697e-13 | 1.597307e-188 | 0.04154419 | 0.9584558 | ENSG00000170448 | 1 | ME_51_2 | ME_51_2-4:46822874-48948369 | 0.9584558 |\n",
       "| 4 | 3151 |  1.531359e-73 | 1.608272e-13 |  4.197262e-62 | 0.04312384 | 0.9568762 | ENSG00000145244 | 1 | ME_51_2 | ME_51_2-4:46822874-48948369 | 0.9568762 |\n",
       "| 5 | 2864 |  8.152179e-23 | 1.616533e-13 |  2.234410e-11 | 0.04335049 | 0.9566495 | ENSG00000169019 | 2 | ME_51_2 | ME_51_2-4:46822874-48948369 | 0.9566495 |\n",
       "| 6 | 2896 |  2.990630e-26 | 1.638223e-13 |  8.196939e-15 | 0.04394558 | 0.9560544 | ENSG00000145246 | 2 | ME_51_2 | ME_51_2-4:46822874-48948369 | 0.9560544 |\n",
       "\n"
      ],
      "text/plain": [
       "  nsnps PP.H0.abf     PP.H1.abf    PP.H2.abf     PP.H3.abf  PP.H4.abf\n",
       "1 3068   2.469761e-70 1.451496e-13  6.769304e-59 0.03882250 0.9611775\n",
       "2 3155  3.428261e-118 1.509323e-13 9.396431e-107 0.04040904 0.9595910\n",
       "3 3066  5.827727e-200 1.550697e-13 1.597307e-188 0.04154419 0.9584558\n",
       "4 3151   1.531359e-73 1.608272e-13  4.197262e-62 0.04312384 0.9568762\n",
       "5 2864   8.152179e-23 1.616533e-13  2.234410e-11 0.04335049 0.9566495\n",
       "6 2896   2.990630e-26 1.638223e-13  8.196939e-15 0.04394558 0.9560544\n",
       "  Gene            eQTL.Signal Eigengene Module.QTL                 \n",
       "1 ENSG00000163293 1           ME_51_2   ME_51_2-4:46822874-48948369\n",
       "2 ENSG00000259959 1           ME_51_2   ME_51_2-4:46822874-48948369\n",
       "3 ENSG00000170448 1           ME_51_2   ME_51_2-4:46822874-48948369\n",
       "4 ENSG00000145244 1           ME_51_2   ME_51_2-4:46822874-48948369\n",
       "5 ENSG00000169019 2           ME_51_2   ME_51_2-4:46822874-48948369\n",
       "6 ENSG00000145246 2           ME_51_2   ME_51_2-4:46822874-48948369\n",
       "  Coloc.Factor\n",
       "1 0.9611775   \n",
       "2 0.9595910   \n",
       "3 0.9584558   \n",
       "4 0.9568762   \n",
       "5 0.9566495   \n",
       "6 0.9560544   "
      ]
     },
     "metadata": {},
     "output_type": "display_data"
    }
   ],
   "source": [
    "coloc.eqtl.mqtl %>%\n",
    "    dplyr::filter(grepl(\"ME_51_[0-9]\", Module.QTL)) %>%\n",
    "    head()"
   ]
  },
  {
   "cell_type": "code",
   "execution_count": 51,
   "id": "46772c41-a49c-46ad-9372-d16405818ad7",
   "metadata": {},
   "outputs": [
    {
     "data": {
      "text/html": [
       "<table class=\"dataframe\">\n",
       "<caption>A data.frame: 7 × 2</caption>\n",
       "<thead>\n",
       "\t<tr><th scope=col>Gene</th><th scope=col>gene_name</th></tr>\n",
       "\t<tr><th scope=col>&lt;chr&gt;</th><th scope=col>&lt;chr&gt;</th></tr>\n",
       "</thead>\n",
       "<tbody>\n",
       "\t<tr><td>ENSG00000135605</td><td>TEC       </td></tr>\n",
       "\t<tr><td>ENSG00000145244</td><td>CORIN     </td></tr>\n",
       "\t<tr><td>ENSG00000145246</td><td>ATP10D    </td></tr>\n",
       "\t<tr><td>ENSG00000163293</td><td>NIPAL1    </td></tr>\n",
       "\t<tr><td>ENSG00000169019</td><td>COMMD8    </td></tr>\n",
       "\t<tr><td>ENSG00000170448</td><td>NFXL1     </td></tr>\n",
       "\t<tr><td>ENSG00000259959</td><td>AC107068.1</td></tr>\n",
       "</tbody>\n",
       "</table>\n"
      ],
      "text/latex": [
       "A data.frame: 7 × 2\n",
       "\\begin{tabular}{ll}\n",
       " Gene & gene\\_name\\\\\n",
       " <chr> & <chr>\\\\\n",
       "\\hline\n",
       "\t ENSG00000135605 & TEC       \\\\\n",
       "\t ENSG00000145244 & CORIN     \\\\\n",
       "\t ENSG00000145246 & ATP10D    \\\\\n",
       "\t ENSG00000163293 & NIPAL1    \\\\\n",
       "\t ENSG00000169019 & COMMD8    \\\\\n",
       "\t ENSG00000170448 & NFXL1     \\\\\n",
       "\t ENSG00000259959 & AC107068.1\\\\\n",
       "\\end{tabular}\n"
      ],
      "text/markdown": [
       "\n",
       "A data.frame: 7 × 2\n",
       "\n",
       "| Gene &lt;chr&gt; | gene_name &lt;chr&gt; |\n",
       "|---|---|\n",
       "| ENSG00000135605 | TEC        |\n",
       "| ENSG00000145244 | CORIN      |\n",
       "| ENSG00000145246 | ATP10D     |\n",
       "| ENSG00000163293 | NIPAL1     |\n",
       "| ENSG00000169019 | COMMD8     |\n",
       "| ENSG00000170448 | NFXL1      |\n",
       "| ENSG00000259959 | AC107068.1 |\n",
       "\n"
      ],
      "text/plain": [
       "  Gene            gene_name \n",
       "1 ENSG00000135605 TEC       \n",
       "2 ENSG00000145244 CORIN     \n",
       "3 ENSG00000145246 ATP10D    \n",
       "4 ENSG00000163293 NIPAL1    \n",
       "5 ENSG00000169019 COMMD8    \n",
       "6 ENSG00000170448 NFXL1     \n",
       "7 ENSG00000259959 AC107068.1"
      ]
     },
     "metadata": {},
     "output_type": "display_data"
    }
   ],
   "source": [
    "coloc.eqtl.mqtl %>%\n",
    "    dplyr::filter(grepl(\"ME_51_[0-9]\", Module.QTL)) %>%\n",
    "    dplyr::count(Gene) %>%\n",
    "    merge(., gene.info, by.x=\"Gene\", by.y=\"gene_id\") %>%\n",
    "    dplyr::select(Gene, gene_name)"
   ]
  },
  {
   "cell_type": "code",
   "execution_count": 52,
   "id": "925efd0f-40cb-4696-8ef5-0c158370a1b7",
   "metadata": {},
   "outputs": [],
   "source": [
    "susie <- fread(\"~/gains_team282/nikhil/colocalization/mqtl/fine_mapping/SuSiE/module_qtl_credible_sets.tsv\")"
   ]
  },
  {
   "cell_type": "code",
   "execution_count": 53,
   "id": "68e2c600-c7d6-4df1-8858-02ab68510c5b",
   "metadata": {},
   "outputs": [
    {
     "data": {
      "text/html": [
       "<table class=\"dataframe\">\n",
       "<caption>A data.table: 39 × 5</caption>\n",
       "<thead>\n",
       "\t<tr><th scope=col>Gene</th><th scope=col>SNP</th><th scope=col>SNP_Prob</th><th scope=col>Credible_Set</th><th scope=col>Notes</th></tr>\n",
       "\t<tr><th scope=col>&lt;chr&gt;</th><th scope=col>&lt;chr&gt;</th><th scope=col>&lt;dbl&gt;</th><th scope=col>&lt;int&gt;</th><th scope=col>&lt;chr&gt;</th></tr>\n",
       "</thead>\n",
       "<tbody>\n",
       "\t<tr><td>ME_51_2-4:46822874-48948369</td><td>rs6811177 </td><td>0.05341723</td><td>1</td><td>NA</td></tr>\n",
       "\t<tr><td>ME_51_2-4:46822874-48948369</td><td>rs6447587 </td><td>0.03871439</td><td>1</td><td>NA</td></tr>\n",
       "\t<tr><td>ME_51_2-4:46822874-48948369</td><td>rs12651301</td><td>0.03070206</td><td>1</td><td>NA</td></tr>\n",
       "\t<tr><td>ME_51_2-4:46822874-48948369</td><td>rs9994561 </td><td>0.03070206</td><td>1</td><td>NA</td></tr>\n",
       "\t<tr><td>ME_51_2-4:46822874-48948369</td><td>rs1822030 </td><td>0.03070206</td><td>1</td><td>NA</td></tr>\n",
       "\t<tr><td>ME_51_2-4:46822874-48948369</td><td>rs28395298</td><td>0.03070206</td><td>1</td><td>NA</td></tr>\n",
       "\t<tr><td>ME_51_2-4:46822874-48948369</td><td>rs28636596</td><td>0.03070206</td><td>1</td><td>NA</td></tr>\n",
       "\t<tr><td>ME_51_2-4:46822874-48948369</td><td>rs28460483</td><td>0.03070206</td><td>1</td><td>NA</td></tr>\n",
       "\t<tr><td>ME_51_2-4:46822874-48948369</td><td>rs1371729 </td><td>0.02915220</td><td>1</td><td>NA</td></tr>\n",
       "\t<tr><td>ME_51_2-4:46822874-48948369</td><td>rs9995122 </td><td>0.02872109</td><td>1</td><td>NA</td></tr>\n",
       "\t<tr><td>ME_51_2-4:46822874-48948369</td><td>rs10028155</td><td>0.02306814</td><td>1</td><td>NA</td></tr>\n",
       "\t<tr><td>ME_51_2-4:46822874-48948369</td><td>rs2033893 </td><td>0.02293540</td><td>1</td><td>NA</td></tr>\n",
       "\t<tr><td>ME_51_2-4:46822874-48948369</td><td>rs1062858 </td><td>0.02225818</td><td>1</td><td>NA</td></tr>\n",
       "\t<tr><td>ME_51_2-4:46822874-48948369</td><td>rs56001837</td><td>0.02225818</td><td>1</td><td>NA</td></tr>\n",
       "\t<tr><td>ME_51_2-4:46822874-48948369</td><td>rs1371731 </td><td>0.02225818</td><td>1</td><td>NA</td></tr>\n",
       "\t<tr><td>ME_51_2-4:46822874-48948369</td><td>rs17463666</td><td>0.02225818</td><td>1</td><td>NA</td></tr>\n",
       "\t<tr><td>ME_51_2-4:46822874-48948369</td><td>rs12504018</td><td>0.02225818</td><td>1</td><td>NA</td></tr>\n",
       "\t<tr><td>ME_51_2-4:46822874-48948369</td><td>rs28573115</td><td>0.02225818</td><td>1</td><td>NA</td></tr>\n",
       "\t<tr><td>ME_51_2-4:46822874-48948369</td><td>rs4565052 </td><td>0.02225818</td><td>1</td><td>NA</td></tr>\n",
       "\t<tr><td>ME_51_2-4:46822874-48948369</td><td>rs12641871</td><td>0.02225818</td><td>1</td><td>NA</td></tr>\n",
       "\t<tr><td>ME_51_2-4:46822874-48948369</td><td>rs12186152</td><td>0.02225818</td><td>1</td><td>NA</td></tr>\n",
       "\t<tr><td>ME_51_2-4:46822874-48948369</td><td>rs6833758 </td><td>0.02225818</td><td>1</td><td>NA</td></tr>\n",
       "\t<tr><td>ME_51_2-4:46822874-48948369</td><td>rs6447589 </td><td>0.02225818</td><td>1</td><td>NA</td></tr>\n",
       "\t<tr><td>ME_51_2-4:46822874-48948369</td><td>rs12506632</td><td>0.02225818</td><td>1</td><td>NA</td></tr>\n",
       "\t<tr><td>ME_51_2-4:46822874-48948369</td><td>rs12507439</td><td>0.02225818</td><td>1</td><td>NA</td></tr>\n",
       "\t<tr><td>ME_51_2-4:46822874-48948369</td><td>rs12510002</td><td>0.02225818</td><td>1</td><td>NA</td></tr>\n",
       "\t<tr><td>ME_51_2-4:46822874-48948369</td><td>rs28583602</td><td>0.02225818</td><td>1</td><td>NA</td></tr>\n",
       "\t<tr><td>ME_51_2-4:46822874-48948369</td><td>rs10938504</td><td>0.02225818</td><td>1</td><td>NA</td></tr>\n",
       "\t<tr><td>ME_51_2-4:46822874-48948369</td><td>rs1440228 </td><td>0.02225818</td><td>1</td><td>NA</td></tr>\n",
       "\t<tr><td>ME_51_2-4:46822874-48948369</td><td>rs8180146 </td><td>0.02225818</td><td>1</td><td>NA</td></tr>\n",
       "\t<tr><td>ME_51_2-4:46822874-48948369</td><td>rs978094  </td><td>0.02161151</td><td>1</td><td>NA</td></tr>\n",
       "\t<tr><td>ME_51_2-4:46822874-48948369</td><td>rs28412313</td><td>0.02161151</td><td>1</td><td>NA</td></tr>\n",
       "\t<tr><td>ME_51_2-4:46822874-48948369</td><td>rs2289435 </td><td>0.02161151</td><td>1</td><td>NA</td></tr>\n",
       "\t<tr><td>ME_51_2-4:46822874-48948369</td><td>rs9997555 </td><td>0.02161151</td><td>1</td><td>NA</td></tr>\n",
       "\t<tr><td>ME_51_2-4:46822874-48948369</td><td>rs6858440 </td><td>0.02021293</td><td>1</td><td>NA</td></tr>\n",
       "\t<tr><td>ME_51_2-4:46822874-48948369</td><td>rs6823184 </td><td>0.02016527</td><td>1</td><td>NA</td></tr>\n",
       "\t<tr><td>ME_51_2-4:46822874-48948369</td><td>rs1866689 </td><td>0.01955055</td><td>1</td><td>NA</td></tr>\n",
       "\t<tr><td>ME_51_2-4:46822874-48948369</td><td>rs6823698 </td><td>0.01839322</td><td>1</td><td>NA</td></tr>\n",
       "\t<tr><td>ME_51_2-4:46822874-48948369</td><td>rs10938505</td><td>0.01681451</td><td>1</td><td>NA</td></tr>\n",
       "</tbody>\n",
       "</table>\n"
      ],
      "text/latex": [
       "A data.table: 39 × 5\n",
       "\\begin{tabular}{lllll}\n",
       " Gene & SNP & SNP\\_Prob & Credible\\_Set & Notes\\\\\n",
       " <chr> & <chr> & <dbl> & <int> & <chr>\\\\\n",
       "\\hline\n",
       "\t ME\\_51\\_2-4:46822874-48948369 & rs6811177  & 0.05341723 & 1 & NA\\\\\n",
       "\t ME\\_51\\_2-4:46822874-48948369 & rs6447587  & 0.03871439 & 1 & NA\\\\\n",
       "\t ME\\_51\\_2-4:46822874-48948369 & rs12651301 & 0.03070206 & 1 & NA\\\\\n",
       "\t ME\\_51\\_2-4:46822874-48948369 & rs9994561  & 0.03070206 & 1 & NA\\\\\n",
       "\t ME\\_51\\_2-4:46822874-48948369 & rs1822030  & 0.03070206 & 1 & NA\\\\\n",
       "\t ME\\_51\\_2-4:46822874-48948369 & rs28395298 & 0.03070206 & 1 & NA\\\\\n",
       "\t ME\\_51\\_2-4:46822874-48948369 & rs28636596 & 0.03070206 & 1 & NA\\\\\n",
       "\t ME\\_51\\_2-4:46822874-48948369 & rs28460483 & 0.03070206 & 1 & NA\\\\\n",
       "\t ME\\_51\\_2-4:46822874-48948369 & rs1371729  & 0.02915220 & 1 & NA\\\\\n",
       "\t ME\\_51\\_2-4:46822874-48948369 & rs9995122  & 0.02872109 & 1 & NA\\\\\n",
       "\t ME\\_51\\_2-4:46822874-48948369 & rs10028155 & 0.02306814 & 1 & NA\\\\\n",
       "\t ME\\_51\\_2-4:46822874-48948369 & rs2033893  & 0.02293540 & 1 & NA\\\\\n",
       "\t ME\\_51\\_2-4:46822874-48948369 & rs1062858  & 0.02225818 & 1 & NA\\\\\n",
       "\t ME\\_51\\_2-4:46822874-48948369 & rs56001837 & 0.02225818 & 1 & NA\\\\\n",
       "\t ME\\_51\\_2-4:46822874-48948369 & rs1371731  & 0.02225818 & 1 & NA\\\\\n",
       "\t ME\\_51\\_2-4:46822874-48948369 & rs17463666 & 0.02225818 & 1 & NA\\\\\n",
       "\t ME\\_51\\_2-4:46822874-48948369 & rs12504018 & 0.02225818 & 1 & NA\\\\\n",
       "\t ME\\_51\\_2-4:46822874-48948369 & rs28573115 & 0.02225818 & 1 & NA\\\\\n",
       "\t ME\\_51\\_2-4:46822874-48948369 & rs4565052  & 0.02225818 & 1 & NA\\\\\n",
       "\t ME\\_51\\_2-4:46822874-48948369 & rs12641871 & 0.02225818 & 1 & NA\\\\\n",
       "\t ME\\_51\\_2-4:46822874-48948369 & rs12186152 & 0.02225818 & 1 & NA\\\\\n",
       "\t ME\\_51\\_2-4:46822874-48948369 & rs6833758  & 0.02225818 & 1 & NA\\\\\n",
       "\t ME\\_51\\_2-4:46822874-48948369 & rs6447589  & 0.02225818 & 1 & NA\\\\\n",
       "\t ME\\_51\\_2-4:46822874-48948369 & rs12506632 & 0.02225818 & 1 & NA\\\\\n",
       "\t ME\\_51\\_2-4:46822874-48948369 & rs12507439 & 0.02225818 & 1 & NA\\\\\n",
       "\t ME\\_51\\_2-4:46822874-48948369 & rs12510002 & 0.02225818 & 1 & NA\\\\\n",
       "\t ME\\_51\\_2-4:46822874-48948369 & rs28583602 & 0.02225818 & 1 & NA\\\\\n",
       "\t ME\\_51\\_2-4:46822874-48948369 & rs10938504 & 0.02225818 & 1 & NA\\\\\n",
       "\t ME\\_51\\_2-4:46822874-48948369 & rs1440228  & 0.02225818 & 1 & NA\\\\\n",
       "\t ME\\_51\\_2-4:46822874-48948369 & rs8180146  & 0.02225818 & 1 & NA\\\\\n",
       "\t ME\\_51\\_2-4:46822874-48948369 & rs978094   & 0.02161151 & 1 & NA\\\\\n",
       "\t ME\\_51\\_2-4:46822874-48948369 & rs28412313 & 0.02161151 & 1 & NA\\\\\n",
       "\t ME\\_51\\_2-4:46822874-48948369 & rs2289435  & 0.02161151 & 1 & NA\\\\\n",
       "\t ME\\_51\\_2-4:46822874-48948369 & rs9997555  & 0.02161151 & 1 & NA\\\\\n",
       "\t ME\\_51\\_2-4:46822874-48948369 & rs6858440  & 0.02021293 & 1 & NA\\\\\n",
       "\t ME\\_51\\_2-4:46822874-48948369 & rs6823184  & 0.02016527 & 1 & NA\\\\\n",
       "\t ME\\_51\\_2-4:46822874-48948369 & rs1866689  & 0.01955055 & 1 & NA\\\\\n",
       "\t ME\\_51\\_2-4:46822874-48948369 & rs6823698  & 0.01839322 & 1 & NA\\\\\n",
       "\t ME\\_51\\_2-4:46822874-48948369 & rs10938505 & 0.01681451 & 1 & NA\\\\\n",
       "\\end{tabular}\n"
      ],
      "text/markdown": [
       "\n",
       "A data.table: 39 × 5\n",
       "\n",
       "| Gene &lt;chr&gt; | SNP &lt;chr&gt; | SNP_Prob &lt;dbl&gt; | Credible_Set &lt;int&gt; | Notes &lt;chr&gt; |\n",
       "|---|---|---|---|---|\n",
       "| ME_51_2-4:46822874-48948369 | rs6811177  | 0.05341723 | 1 | NA |\n",
       "| ME_51_2-4:46822874-48948369 | rs6447587  | 0.03871439 | 1 | NA |\n",
       "| ME_51_2-4:46822874-48948369 | rs12651301 | 0.03070206 | 1 | NA |\n",
       "| ME_51_2-4:46822874-48948369 | rs9994561  | 0.03070206 | 1 | NA |\n",
       "| ME_51_2-4:46822874-48948369 | rs1822030  | 0.03070206 | 1 | NA |\n",
       "| ME_51_2-4:46822874-48948369 | rs28395298 | 0.03070206 | 1 | NA |\n",
       "| ME_51_2-4:46822874-48948369 | rs28636596 | 0.03070206 | 1 | NA |\n",
       "| ME_51_2-4:46822874-48948369 | rs28460483 | 0.03070206 | 1 | NA |\n",
       "| ME_51_2-4:46822874-48948369 | rs1371729  | 0.02915220 | 1 | NA |\n",
       "| ME_51_2-4:46822874-48948369 | rs9995122  | 0.02872109 | 1 | NA |\n",
       "| ME_51_2-4:46822874-48948369 | rs10028155 | 0.02306814 | 1 | NA |\n",
       "| ME_51_2-4:46822874-48948369 | rs2033893  | 0.02293540 | 1 | NA |\n",
       "| ME_51_2-4:46822874-48948369 | rs1062858  | 0.02225818 | 1 | NA |\n",
       "| ME_51_2-4:46822874-48948369 | rs56001837 | 0.02225818 | 1 | NA |\n",
       "| ME_51_2-4:46822874-48948369 | rs1371731  | 0.02225818 | 1 | NA |\n",
       "| ME_51_2-4:46822874-48948369 | rs17463666 | 0.02225818 | 1 | NA |\n",
       "| ME_51_2-4:46822874-48948369 | rs12504018 | 0.02225818 | 1 | NA |\n",
       "| ME_51_2-4:46822874-48948369 | rs28573115 | 0.02225818 | 1 | NA |\n",
       "| ME_51_2-4:46822874-48948369 | rs4565052  | 0.02225818 | 1 | NA |\n",
       "| ME_51_2-4:46822874-48948369 | rs12641871 | 0.02225818 | 1 | NA |\n",
       "| ME_51_2-4:46822874-48948369 | rs12186152 | 0.02225818 | 1 | NA |\n",
       "| ME_51_2-4:46822874-48948369 | rs6833758  | 0.02225818 | 1 | NA |\n",
       "| ME_51_2-4:46822874-48948369 | rs6447589  | 0.02225818 | 1 | NA |\n",
       "| ME_51_2-4:46822874-48948369 | rs12506632 | 0.02225818 | 1 | NA |\n",
       "| ME_51_2-4:46822874-48948369 | rs12507439 | 0.02225818 | 1 | NA |\n",
       "| ME_51_2-4:46822874-48948369 | rs12510002 | 0.02225818 | 1 | NA |\n",
       "| ME_51_2-4:46822874-48948369 | rs28583602 | 0.02225818 | 1 | NA |\n",
       "| ME_51_2-4:46822874-48948369 | rs10938504 | 0.02225818 | 1 | NA |\n",
       "| ME_51_2-4:46822874-48948369 | rs1440228  | 0.02225818 | 1 | NA |\n",
       "| ME_51_2-4:46822874-48948369 | rs8180146  | 0.02225818 | 1 | NA |\n",
       "| ME_51_2-4:46822874-48948369 | rs978094   | 0.02161151 | 1 | NA |\n",
       "| ME_51_2-4:46822874-48948369 | rs28412313 | 0.02161151 | 1 | NA |\n",
       "| ME_51_2-4:46822874-48948369 | rs2289435  | 0.02161151 | 1 | NA |\n",
       "| ME_51_2-4:46822874-48948369 | rs9997555  | 0.02161151 | 1 | NA |\n",
       "| ME_51_2-4:46822874-48948369 | rs6858440  | 0.02021293 | 1 | NA |\n",
       "| ME_51_2-4:46822874-48948369 | rs6823184  | 0.02016527 | 1 | NA |\n",
       "| ME_51_2-4:46822874-48948369 | rs1866689  | 0.01955055 | 1 | NA |\n",
       "| ME_51_2-4:46822874-48948369 | rs6823698  | 0.01839322 | 1 | NA |\n",
       "| ME_51_2-4:46822874-48948369 | rs10938505 | 0.01681451 | 1 | NA |\n",
       "\n"
      ],
      "text/plain": [
       "   Gene                        SNP        SNP_Prob   Credible_Set Notes\n",
       "1  ME_51_2-4:46822874-48948369 rs6811177  0.05341723 1            NA   \n",
       "2  ME_51_2-4:46822874-48948369 rs6447587  0.03871439 1            NA   \n",
       "3  ME_51_2-4:46822874-48948369 rs12651301 0.03070206 1            NA   \n",
       "4  ME_51_2-4:46822874-48948369 rs9994561  0.03070206 1            NA   \n",
       "5  ME_51_2-4:46822874-48948369 rs1822030  0.03070206 1            NA   \n",
       "6  ME_51_2-4:46822874-48948369 rs28395298 0.03070206 1            NA   \n",
       "7  ME_51_2-4:46822874-48948369 rs28636596 0.03070206 1            NA   \n",
       "8  ME_51_2-4:46822874-48948369 rs28460483 0.03070206 1            NA   \n",
       "9  ME_51_2-4:46822874-48948369 rs1371729  0.02915220 1            NA   \n",
       "10 ME_51_2-4:46822874-48948369 rs9995122  0.02872109 1            NA   \n",
       "11 ME_51_2-4:46822874-48948369 rs10028155 0.02306814 1            NA   \n",
       "12 ME_51_2-4:46822874-48948369 rs2033893  0.02293540 1            NA   \n",
       "13 ME_51_2-4:46822874-48948369 rs1062858  0.02225818 1            NA   \n",
       "14 ME_51_2-4:46822874-48948369 rs56001837 0.02225818 1            NA   \n",
       "15 ME_51_2-4:46822874-48948369 rs1371731  0.02225818 1            NA   \n",
       "16 ME_51_2-4:46822874-48948369 rs17463666 0.02225818 1            NA   \n",
       "17 ME_51_2-4:46822874-48948369 rs12504018 0.02225818 1            NA   \n",
       "18 ME_51_2-4:46822874-48948369 rs28573115 0.02225818 1            NA   \n",
       "19 ME_51_2-4:46822874-48948369 rs4565052  0.02225818 1            NA   \n",
       "20 ME_51_2-4:46822874-48948369 rs12641871 0.02225818 1            NA   \n",
       "21 ME_51_2-4:46822874-48948369 rs12186152 0.02225818 1            NA   \n",
       "22 ME_51_2-4:46822874-48948369 rs6833758  0.02225818 1            NA   \n",
       "23 ME_51_2-4:46822874-48948369 rs6447589  0.02225818 1            NA   \n",
       "24 ME_51_2-4:46822874-48948369 rs12506632 0.02225818 1            NA   \n",
       "25 ME_51_2-4:46822874-48948369 rs12507439 0.02225818 1            NA   \n",
       "26 ME_51_2-4:46822874-48948369 rs12510002 0.02225818 1            NA   \n",
       "27 ME_51_2-4:46822874-48948369 rs28583602 0.02225818 1            NA   \n",
       "28 ME_51_2-4:46822874-48948369 rs10938504 0.02225818 1            NA   \n",
       "29 ME_51_2-4:46822874-48948369 rs1440228  0.02225818 1            NA   \n",
       "30 ME_51_2-4:46822874-48948369 rs8180146  0.02225818 1            NA   \n",
       "31 ME_51_2-4:46822874-48948369 rs978094   0.02161151 1            NA   \n",
       "32 ME_51_2-4:46822874-48948369 rs28412313 0.02161151 1            NA   \n",
       "33 ME_51_2-4:46822874-48948369 rs2289435  0.02161151 1            NA   \n",
       "34 ME_51_2-4:46822874-48948369 rs9997555  0.02161151 1            NA   \n",
       "35 ME_51_2-4:46822874-48948369 rs6858440  0.02021293 1            NA   \n",
       "36 ME_51_2-4:46822874-48948369 rs6823184  0.02016527 1            NA   \n",
       "37 ME_51_2-4:46822874-48948369 rs1866689  0.01955055 1            NA   \n",
       "38 ME_51_2-4:46822874-48948369 rs6823698  0.01839322 1            NA   \n",
       "39 ME_51_2-4:46822874-48948369 rs10938505 0.01681451 1            NA   "
      ]
     },
     "metadata": {},
     "output_type": "display_data"
    }
   ],
   "source": [
    "susie %>%\n",
    "    dplyr::filter(grepl(\"ME_51_2\", Gene))"
   ]
  },
  {
   "cell_type": "code",
   "execution_count": 54,
   "id": "fedd9c2e-a3fc-462c-90ad-1179794dba45",
   "metadata": {},
   "outputs": [
    {
     "data": {
      "text/html": [
       "<table class=\"dataframe\">\n",
       "<caption>A data.frame: 3 × 6</caption>\n",
       "<thead>\n",
       "\t<tr><th scope=col>SNP</th><th scope=col>Gene</th><th scope=col>eQTL_beta</th><th scope=col>eQTL_SE</th><th scope=col>pvalue</th><th scope=col>Number</th></tr>\n",
       "\t<tr><th scope=col>&lt;chr&gt;</th><th scope=col>&lt;chr&gt;</th><th scope=col>&lt;chr&gt;</th><th scope=col>&lt;chr&gt;</th><th scope=col>&lt;chr&gt;</th><th scope=col>&lt;int&gt;</th></tr>\n",
       "</thead>\n",
       "<tbody>\n",
       "\t<tr><td>rs7436716 </td><td>ENSG00000169019</td><td>-0.11594590847671  </td><td>0.0112144731179699</td><td>2.97895467179934e-23</td><td>1</td></tr>\n",
       "\t<tr><td>rs1371729 </td><td>ENSG00000169019</td><td>0.0833905506387308 </td><td>0.0102168028026016</td><td>2.55481202687362e-15</td><td>2</td></tr>\n",
       "\t<tr><td>rs34096542</td><td>ENSG00000169019</td><td>-0.0869803922817651</td><td>0.0174472681909221</td><td>7.57908736096564e-07</td><td>3</td></tr>\n",
       "</tbody>\n",
       "</table>\n"
      ],
      "text/latex": [
       "A data.frame: 3 × 6\n",
       "\\begin{tabular}{llllll}\n",
       " SNP & Gene & eQTL\\_beta & eQTL\\_SE & pvalue & Number\\\\\n",
       " <chr> & <chr> & <chr> & <chr> & <chr> & <int>\\\\\n",
       "\\hline\n",
       "\t rs7436716  & ENSG00000169019 & -0.11594590847671   & 0.0112144731179699 & 2.97895467179934e-23 & 1\\\\\n",
       "\t rs1371729  & ENSG00000169019 & 0.0833905506387308  & 0.0102168028026016 & 2.55481202687362e-15 & 2\\\\\n",
       "\t rs34096542 & ENSG00000169019 & -0.0869803922817651 & 0.0174472681909221 & 7.57908736096564e-07 & 3\\\\\n",
       "\\end{tabular}\n"
      ],
      "text/markdown": [
       "\n",
       "A data.frame: 3 × 6\n",
       "\n",
       "| SNP &lt;chr&gt; | Gene &lt;chr&gt; | eQTL_beta &lt;chr&gt; | eQTL_SE &lt;chr&gt; | pvalue &lt;chr&gt; | Number &lt;int&gt; |\n",
       "|---|---|---|---|---|---|\n",
       "| rs7436716  | ENSG00000169019 | -0.11594590847671   | 0.0112144731179699 | 2.97895467179934e-23 | 1 |\n",
       "| rs1371729  | ENSG00000169019 | 0.0833905506387308  | 0.0102168028026016 | 2.55481202687362e-15 | 2 |\n",
       "| rs34096542 | ENSG00000169019 | -0.0869803922817651 | 0.0174472681909221 | 7.57908736096564e-07 | 3 |\n",
       "\n"
      ],
      "text/plain": [
       "  SNP        Gene            eQTL_beta           eQTL_SE           \n",
       "1 rs7436716  ENSG00000169019 -0.11594590847671   0.0112144731179699\n",
       "2 rs1371729  ENSG00000169019 0.0833905506387308  0.0102168028026016\n",
       "3 rs34096542 ENSG00000169019 -0.0869803922817651 0.0174472681909221\n",
       "  pvalue               Number\n",
       "1 2.97895467179934e-23 1     \n",
       "2 2.55481202687362e-15 2     \n",
       "3 7.57908736096564e-07 3     "
      ]
     },
     "metadata": {},
     "output_type": "display_data"
    }
   ],
   "source": [
    "c.cis.eqtl %>%\n",
    "    dplyr::filter(Gene == \"ENSG00000169019\")"
   ]
  },
  {
   "cell_type": "code",
   "execution_count": 55,
   "id": "01cfa9ed-c219-49bb-9704-eb30d973e135",
   "metadata": {},
   "outputs": [
    {
     "data": {
      "text/html": [
       "<table class=\"dataframe\">\n",
       "<caption>A data.frame: 1 × 6</caption>\n",
       "<thead>\n",
       "\t<tr><th scope=col>SNP</th><th scope=col>Gene</th><th scope=col>eQTL_beta</th><th scope=col>eQTL_SE</th><th scope=col>pvalue</th><th scope=col>Number</th></tr>\n",
       "\t<tr><th scope=col>&lt;chr&gt;</th><th scope=col>&lt;chr&gt;</th><th scope=col>&lt;chr&gt;</th><th scope=col>&lt;chr&gt;</th><th scope=col>&lt;chr&gt;</th><th scope=col>&lt;int&gt;</th></tr>\n",
       "</thead>\n",
       "<tbody>\n",
       "\t<tr><td>rs1371729</td><td>ENSG00000169019</td><td>0.0833905506387308</td><td>0.0102168028026016</td><td>2.55481202687362e-15</td><td>2</td></tr>\n",
       "</tbody>\n",
       "</table>\n"
      ],
      "text/latex": [
       "A data.frame: 1 × 6\n",
       "\\begin{tabular}{llllll}\n",
       " SNP & Gene & eQTL\\_beta & eQTL\\_SE & pvalue & Number\\\\\n",
       " <chr> & <chr> & <chr> & <chr> & <chr> & <int>\\\\\n",
       "\\hline\n",
       "\t rs1371729 & ENSG00000169019 & 0.0833905506387308 & 0.0102168028026016 & 2.55481202687362e-15 & 2\\\\\n",
       "\\end{tabular}\n"
      ],
      "text/markdown": [
       "\n",
       "A data.frame: 1 × 6\n",
       "\n",
       "| SNP &lt;chr&gt; | Gene &lt;chr&gt; | eQTL_beta &lt;chr&gt; | eQTL_SE &lt;chr&gt; | pvalue &lt;chr&gt; | Number &lt;int&gt; |\n",
       "|---|---|---|---|---|---|\n",
       "| rs1371729 | ENSG00000169019 | 0.0833905506387308 | 0.0102168028026016 | 2.55481202687362e-15 | 2 |\n",
       "\n"
      ],
      "text/plain": [
       "  SNP       Gene            eQTL_beta          eQTL_SE           \n",
       "1 rs1371729 ENSG00000169019 0.0833905506387308 0.0102168028026016\n",
       "  pvalue               Number\n",
       "1 2.55481202687362e-15 2     "
      ]
     },
     "metadata": {},
     "output_type": "display_data"
    },
    {
     "data": {
      "text/html": [
       "<table class=\"dataframe\">\n",
       "<caption>A data.frame: 1 × 6</caption>\n",
       "<thead>\n",
       "\t<tr><th scope=col>Chr</th><th scope=col>SNP</th><th scope=col>cM</th><th scope=col>Pos</th><th scope=col>Minor</th><th scope=col>Major</th></tr>\n",
       "\t<tr><th scope=col>&lt;chr&gt;</th><th scope=col>&lt;chr&gt;</th><th scope=col>&lt;int&gt;</th><th scope=col>&lt;int&gt;</th><th scope=col>&lt;chr&gt;</th><th scope=col>&lt;chr&gt;</th></tr>\n",
       "</thead>\n",
       "<tbody>\n",
       "\t<tr><td>4</td><td>rs1371729</td><td>0</td><td>47948370</td><td>G</td><td>A</td></tr>\n",
       "</tbody>\n",
       "</table>\n"
      ],
      "text/latex": [
       "A data.frame: 1 × 6\n",
       "\\begin{tabular}{llllll}\n",
       " Chr & SNP & cM & Pos & Minor & Major\\\\\n",
       " <chr> & <chr> & <int> & <int> & <chr> & <chr>\\\\\n",
       "\\hline\n",
       "\t 4 & rs1371729 & 0 & 47948370 & G & A\\\\\n",
       "\\end{tabular}\n"
      ],
      "text/markdown": [
       "\n",
       "A data.frame: 1 × 6\n",
       "\n",
       "| Chr &lt;chr&gt; | SNP &lt;chr&gt; | cM &lt;int&gt; | Pos &lt;int&gt; | Minor &lt;chr&gt; | Major &lt;chr&gt; |\n",
       "|---|---|---|---|---|---|\n",
       "| 4 | rs1371729 | 0 | 47948370 | G | A |\n",
       "\n"
      ],
      "text/plain": [
       "  Chr SNP       cM Pos      Minor Major\n",
       "1 4   rs1371729 0  47948370 G     A    "
      ]
     },
     "metadata": {},
     "output_type": "display_data"
    }
   ],
   "source": [
    "c.cis.eqtl %>%\n",
    "    dplyr::filter(SNP == \"rs1371729\")\n",
    "\n",
    "geno.bim %>%\n",
    "    dplyr::filter(SNP == \"rs1371729\")"
   ]
  },
  {
   "cell_type": "code",
   "execution_count": 56,
   "id": "ec465540-2cf0-4c2b-ae1c-7e2079031561",
   "metadata": {},
   "outputs": [
    {
     "data": {
      "image/png": "[encoded data removed]",
      "text/plain": [
       "plot without title"
      ]
     },
     "metadata": {
      "image/png": {
       "height": 240,
       "width": 480
      }
     },
     "output_type": "display_data"
    }
   ],
   "source": [
    "options(repr.plot.width=8, repr.plot.height=4)\n",
    "\n",
    "plot.data <- loci %>%\n",
    "    dplyr::filter(SNP == \"rs1371729\") %>%\n",
    "    merge(., overlap.scores, by=\"Locus\") %>%\n",
    "    dplyr::arrange(Overlap_Score) %>%\n",
    "    dplyr::select(Group, Overlap_Score) %>%\n",
    "    dplyr::group_by(Group) %>%\n",
    "    dplyr::summarize(Mean_Overlap_Score=mean(Overlap_Score)) %>%\n",
    "    dplyr::mutate(Neutrophils = c(\"No\", \"Yes\")[as.numeric(grepl(\"Neutrophil\", Group)) + 1])\n",
    "    \n",
    "plot.data %>%\n",
    "    ggplot(aes(x=\"Module 51\", y=Mean_Overlap_Score, fill=Neutrophils)) +\n",
    "    geom_dotplot(binaxis=\"y\", stackdir=\"center\", binwidth=0.025) +\n",
    "    scale_fill_brewer(palette=\"Pastel1\") + \n",
    "    ylim(0, 1) + ylab(\"Mean Overlap Score\") +\n",
    "    coord_flip() +\n",
    "    ggplot_theme +\n",
    "    theme(axis.title.y=element_blank())"
   ]
  },
  {
   "cell_type": "code",
   "execution_count": 57,
   "id": "9bcd5c35-b3f9-4b27-868d-e57e49266988",
   "metadata": {
    "tags": []
   },
   "outputs": [
    {
     "data": {
      "text/html": [
       "<table class=\"dataframe\">\n",
       "<caption>A data.frame: 0 × 12</caption>\n",
       "<thead>\n",
       "\t<tr><th scope=col>CHROM</th><th scope=col>POS</th><th scope=col>ID</th><th scope=col>REF</th><th scope=col>ALT</th><th scope=col>Allele</th><th scope=col>Consequence</th><th scope=col>MOTIF_NAME</th><th scope=col>MOTIF_POS</th><th scope=col>HIGH_INF_POS</th><th scope=col>MOTIF_SCORE_CHANGE</th><th scope=col>TRANSCRIPTION_FACTORS</th></tr>\n",
       "\t<tr><th scope=col>&lt;int&gt;</th><th scope=col>&lt;int&gt;</th><th scope=col>&lt;chr&gt;</th><th scope=col>&lt;chr&gt;</th><th scope=col>&lt;chr&gt;</th><th scope=col>&lt;chr&gt;</th><th scope=col>&lt;chr&gt;</th><th scope=col>&lt;chr&gt;</th><th scope=col>&lt;int&gt;</th><th scope=col>&lt;chr&gt;</th><th scope=col>&lt;dbl&gt;</th><th scope=col>&lt;chr&gt;</th></tr>\n",
       "</thead>\n",
       "<tbody>\n",
       "</tbody>\n",
       "</table>\n"
      ],
      "text/latex": [
       "A data.frame: 0 × 12\n",
       "\\begin{tabular}{llllllllllll}\n",
       " CHROM & POS & ID & REF & ALT & Allele & Consequence & MOTIF\\_NAME & MOTIF\\_POS & HIGH\\_INF\\_POS & MOTIF\\_SCORE\\_CHANGE & TRANSCRIPTION\\_FACTORS\\\\\n",
       " <int> & <int> & <chr> & <chr> & <chr> & <chr> & <chr> & <chr> & <int> & <chr> & <dbl> & <chr>\\\\\n",
       "\\hline\n",
       "\\end{tabular}\n"
      ],
      "text/markdown": [
       "\n",
       "A data.frame: 0 × 12\n",
       "\n",
       "| CHROM &lt;int&gt; | POS &lt;int&gt; | ID &lt;chr&gt; | REF &lt;chr&gt; | ALT &lt;chr&gt; | Allele &lt;chr&gt; | Consequence &lt;chr&gt; | MOTIF_NAME &lt;chr&gt; | MOTIF_POS &lt;int&gt; | HIGH_INF_POS &lt;chr&gt; | MOTIF_SCORE_CHANGE &lt;dbl&gt; | TRANSCRIPTION_FACTORS &lt;chr&gt; |\n",
       "|---|---|---|---|---|---|---|---|---|---|---|---|\n",
       "\n"
      ],
      "text/plain": [
       "     CHROM POS ID REF ALT Allele Consequence MOTIF_NAME MOTIF_POS HIGH_INF_POS\n",
       "     MOTIF_SCORE_CHANGE TRANSCRIPTION_FACTORS"
      ]
     },
     "metadata": {},
     "output_type": "display_data"
    }
   ],
   "source": [
    "vep %>%\n",
    "    dplyr::filter(ID == \"rs1371729\") %>%\n",
    "    dplyr::filter(Consequence == \"TF_binding_site_variant\") %>%\n",
    "    dplyr::select(CHROM, POS, ID, REF, ALT, Allele, Consequence, MOTIF_NAME, MOTIF_POS, HIGH_INF_POS, MOTIF_SCORE_CHANGE, TRANSCRIPTION_FACTORS)"
   ]
  },
  {
   "cell_type": "markdown",
   "id": "e0f0d9c3-eb49-4135-a179-5b1d8d1de928",
   "metadata": {
    "tags": []
   },
   "source": [
    "## Module 92"
   ]
  },
  {
   "cell_type": "markdown",
   "id": "286f6913-c79d-4764-9bac-a3df92ce6342",
   "metadata": {},
   "source": [
    "Nice module as an example - butyrophilins and MHC class I molecules."
   ]
  },
  {
   "cell_type": "code",
   "execution_count": 58,
   "id": "e321d6a7-d18b-455c-9a25-7930561391c2",
   "metadata": {},
   "outputs": [
    {
     "data": {
      "text/html": [
       "<table class=\"dataframe\">\n",
       "<caption>A data.frame: 10 × 5</caption>\n",
       "<thead>\n",
       "\t<tr><th scope=col>Gene</th><th scope=col>Module</th><th scope=col>seqnames</th><th scope=col>gene_name</th><th scope=col>gene_biotype</th></tr>\n",
       "\t<tr><th scope=col>&lt;chr&gt;</th><th scope=col>&lt;chr&gt;</th><th scope=col>&lt;chr&gt;</th><th scope=col>&lt;chr&gt;</th><th scope=col>&lt;chr&gt;</th></tr>\n",
       "</thead>\n",
       "<tbody>\n",
       "\t<tr><td>ENSG00000026950</td><td>Module_92</td><td>6 </td><td>BTN3A1</td><td>protein_coding</td></tr>\n",
       "\t<tr><td>ENSG00000111801</td><td>Module_92</td><td>6 </td><td>BTN3A3</td><td>protein_coding</td></tr>\n",
       "\t<tr><td>ENSG00000112763</td><td>Module_92</td><td>6 </td><td>BTN2A1</td><td>protein_coding</td></tr>\n",
       "\t<tr><td>ENSG00000124508</td><td>Module_92</td><td>6 </td><td>BTN2A2</td><td>protein_coding</td></tr>\n",
       "\t<tr><td>ENSG00000140853</td><td>Module_92</td><td>16</td><td>NLRC5 </td><td>protein_coding</td></tr>\n",
       "\t<tr><td>ENSG00000166710</td><td>Module_92</td><td>15</td><td>B2M   </td><td>protein_coding</td></tr>\n",
       "\t<tr><td>ENSG00000186470</td><td>Module_92</td><td>6 </td><td>BTN3A2</td><td>protein_coding</td></tr>\n",
       "\t<tr><td>ENSG00000204525</td><td>Module_92</td><td>6 </td><td>HLA-C </td><td>protein_coding</td></tr>\n",
       "\t<tr><td>ENSG00000204592</td><td>Module_92</td><td>6 </td><td>HLA-E </td><td>protein_coding</td></tr>\n",
       "\t<tr><td>ENSG00000234745</td><td>Module_92</td><td>6 </td><td>HLA-B </td><td>protein_coding</td></tr>\n",
       "</tbody>\n",
       "</table>\n"
      ],
      "text/latex": [
       "A data.frame: 10 × 5\n",
       "\\begin{tabular}{lllll}\n",
       " Gene & Module & seqnames & gene\\_name & gene\\_biotype\\\\\n",
       " <chr> & <chr> & <chr> & <chr> & <chr>\\\\\n",
       "\\hline\n",
       "\t ENSG00000026950 & Module\\_92 & 6  & BTN3A1 & protein\\_coding\\\\\n",
       "\t ENSG00000111801 & Module\\_92 & 6  & BTN3A3 & protein\\_coding\\\\\n",
       "\t ENSG00000112763 & Module\\_92 & 6  & BTN2A1 & protein\\_coding\\\\\n",
       "\t ENSG00000124508 & Module\\_92 & 6  & BTN2A2 & protein\\_coding\\\\\n",
       "\t ENSG00000140853 & Module\\_92 & 16 & NLRC5  & protein\\_coding\\\\\n",
       "\t ENSG00000166710 & Module\\_92 & 15 & B2M    & protein\\_coding\\\\\n",
       "\t ENSG00000186470 & Module\\_92 & 6  & BTN3A2 & protein\\_coding\\\\\n",
       "\t ENSG00000204525 & Module\\_92 & 6  & HLA-C  & protein\\_coding\\\\\n",
       "\t ENSG00000204592 & Module\\_92 & 6  & HLA-E  & protein\\_coding\\\\\n",
       "\t ENSG00000234745 & Module\\_92 & 6  & HLA-B  & protein\\_coding\\\\\n",
       "\\end{tabular}\n"
      ],
      "text/markdown": [
       "\n",
       "A data.frame: 10 × 5\n",
       "\n",
       "| Gene &lt;chr&gt; | Module &lt;chr&gt; | seqnames &lt;chr&gt; | gene_name &lt;chr&gt; | gene_biotype &lt;chr&gt; |\n",
       "|---|---|---|---|---|\n",
       "| ENSG00000026950 | Module_92 | 6  | BTN3A1 | protein_coding |\n",
       "| ENSG00000111801 | Module_92 | 6  | BTN3A3 | protein_coding |\n",
       "| ENSG00000112763 | Module_92 | 6  | BTN2A1 | protein_coding |\n",
       "| ENSG00000124508 | Module_92 | 6  | BTN2A2 | protein_coding |\n",
       "| ENSG00000140853 | Module_92 | 16 | NLRC5  | protein_coding |\n",
       "| ENSG00000166710 | Module_92 | 15 | B2M    | protein_coding |\n",
       "| ENSG00000186470 | Module_92 | 6  | BTN3A2 | protein_coding |\n",
       "| ENSG00000204525 | Module_92 | 6  | HLA-C  | protein_coding |\n",
       "| ENSG00000204592 | Module_92 | 6  | HLA-E  | protein_coding |\n",
       "| ENSG00000234745 | Module_92 | 6  | HLA-B  | protein_coding |\n",
       "\n"
      ],
      "text/plain": [
       "   Gene            Module    seqnames gene_name gene_biotype  \n",
       "1  ENSG00000026950 Module_92 6        BTN3A1    protein_coding\n",
       "2  ENSG00000111801 Module_92 6        BTN3A3    protein_coding\n",
       "3  ENSG00000112763 Module_92 6        BTN2A1    protein_coding\n",
       "4  ENSG00000124508 Module_92 6        BTN2A2    protein_coding\n",
       "5  ENSG00000140853 Module_92 16       NLRC5     protein_coding\n",
       "6  ENSG00000166710 Module_92 15       B2M       protein_coding\n",
       "7  ENSG00000186470 Module_92 6        BTN3A2    protein_coding\n",
       "8  ENSG00000204525 Module_92 6        HLA-C     protein_coding\n",
       "9  ENSG00000204592 Module_92 6        HLA-E     protein_coding\n",
       "10 ENSG00000234745 Module_92 6        HLA-B     protein_coding"
      ]
     },
     "metadata": {},
     "output_type": "display_data"
    }
   ],
   "source": [
    "modules %>%\n",
    "    dplyr::filter(Module == \"Module_92\") %>%\n",
    "    dplyr::select(Gene, Module, seqnames, gene_name, gene_biotype) %>%\n",
    "    dplyr::filter(gene_biotype == \"protein_coding\") "
   ]
  },
  {
   "cell_type": "markdown",
   "id": "855f3294-e6d7-4901-ac9b-4268fc24c84a",
   "metadata": {},
   "source": [
    "Colocalisation with:\n",
    "1. NLRC5 - interesting, only one on chr 16 other than the lncRNA\n",
    "2. BTN3A2\n",
    "3. HLA-C\n",
    "4. HCG11"
   ]
  },
  {
   "cell_type": "code",
   "execution_count": 59,
   "id": "5e8045c9-01e5-4fbf-b29f-3ce149df7779",
   "metadata": {},
   "outputs": [
    {
     "data": {
      "text/html": [
       "<table class=\"dataframe\">\n",
       "<caption>A data.frame: 9 × 11</caption>\n",
       "<thead>\n",
       "\t<tr><th scope=col>nsnps</th><th scope=col>PP.H0.abf</th><th scope=col>PP.H1.abf</th><th scope=col>PP.H2.abf</th><th scope=col>PP.H3.abf</th><th scope=col>PP.H4.abf</th><th scope=col>Gene</th><th scope=col>eQTL.Signal</th><th scope=col>Eigengene</th><th scope=col>Module.QTL</th><th scope=col>Coloc.Factor</th></tr>\n",
       "\t<tr><th scope=col>&lt;int&gt;</th><th scope=col>&lt;dbl&gt;</th><th scope=col>&lt;dbl&gt;</th><th scope=col>&lt;dbl&gt;</th><th scope=col>&lt;dbl&gt;</th><th scope=col>&lt;dbl&gt;</th><th scope=col>&lt;chr&gt;</th><th scope=col>&lt;int&gt;</th><th scope=col>&lt;chr&gt;</th><th scope=col>&lt;chr&gt;</th><th scope=col>&lt;dbl&gt;</th></tr>\n",
       "</thead>\n",
       "<tbody>\n",
       "\t<tr><td> 2720</td><td>3.892711e-161</td><td>1.748027e-111</td><td> 2.226917e-53</td><td>0.000000e+00</td><td>1.0000000</td><td>ENSG00000140853</td><td>1</td><td>ME_92_3</td><td>ME_92_3-16:56024670-58024669</td><td>1.0000000</td></tr>\n",
       "\t<tr><td> 2761</td><td>1.284284e-194</td><td>1.748027e-111</td><td> 7.347051e-87</td><td>0.000000e+00</td><td>1.0000000</td><td>ENSG00000259922</td><td>1</td><td>ME_92_3</td><td>ME_92_3-16:56024670-58024669</td><td>1.0000000</td></tr>\n",
       "\t<tr><td> 2720</td><td> 3.827403e-74</td><td> 1.718700e-24</td><td> 2.226920e-53</td><td>1.096923e-09</td><td>1.0000000</td><td>ENSG00000140853</td><td>1</td><td>ME_92_5</td><td>ME_92_5-16:56024670-58024669</td><td>1.0000000</td></tr>\n",
       "\t<tr><td> 2761</td><td>1.262738e-107</td><td> 1.718700e-24</td><td> 7.347059e-87</td><td>1.096923e-09</td><td>1.0000000</td><td>ENSG00000259922</td><td>1</td><td>ME_92_5</td><td>ME_92_5-16:56024670-58024669</td><td>1.0000000</td></tr>\n",
       "\t<tr><td>12469</td><td> 3.621524e-60</td><td> 1.327830e-19</td><td> 1.356337e-44</td><td>1.949591e-06</td><td>0.9999981</td><td>ENSG00000204525</td><td>1</td><td>ME_92_2</td><td>ME_92_2-6:29991224-32464002 </td><td>0.9999981</td></tr>\n",
       "\t<tr><td> 2720</td><td> 2.335427e-68</td><td> 1.048726e-18</td><td> 2.335218e-53</td><td>4.868152e-05</td><td>0.9999513</td><td>ENSG00000140853</td><td>1</td><td>ME_92_1</td><td>ME_92_1-16:56024670-58024669</td><td>0.9999513</td></tr>\n",
       "\t<tr><td> 2761</td><td>7.705046e-102</td><td> 1.048726e-18</td><td> 7.704359e-87</td><td>4.868152e-05</td><td>0.9999513</td><td>ENSG00000259922</td><td>1</td><td>ME_92_1</td><td>ME_92_1-16:56024670-58024669</td><td>0.9999513</td></tr>\n",
       "\t<tr><td> 4737</td><td> 4.609604e-11</td><td> 9.536110e-07</td><td> 2.608432e-07</td><td>4.400591e-03</td><td>0.9955982</td><td>ENSG00000228223</td><td>1</td><td>ME_92_4</td><td>ME_92_4-6:25175638-28307054 </td><td>0.9955994</td></tr>\n",
       "\t<tr><td> 4626</td><td>1.071670e-192</td><td> 9.092253e-11</td><td>7.077794e-184</td><td>5.910848e-02</td><td>0.9408915</td><td>ENSG00000186470</td><td>1</td><td>ME_92_5</td><td>ME_92_5-6:25175638-28307054 </td><td>0.9408915</td></tr>\n",
       "</tbody>\n",
       "</table>\n"
      ],
      "text/latex": [
       "A data.frame: 9 × 11\n",
       "\\begin{tabular}{lllllllllll}\n",
       " nsnps & PP.H0.abf & PP.H1.abf & PP.H2.abf & PP.H3.abf & PP.H4.abf & Gene & eQTL.Signal & Eigengene & Module.QTL & Coloc.Factor\\\\\n",
       " <int> & <dbl> & <dbl> & <dbl> & <dbl> & <dbl> & <chr> & <int> & <chr> & <chr> & <dbl>\\\\\n",
       "\\hline\n",
       "\t  2720 & 3.892711e-161 & 1.748027e-111 &  2.226917e-53 & 0.000000e+00 & 1.0000000 & ENSG00000140853 & 1 & ME\\_92\\_3 & ME\\_92\\_3-16:56024670-58024669 & 1.0000000\\\\\n",
       "\t  2761 & 1.284284e-194 & 1.748027e-111 &  7.347051e-87 & 0.000000e+00 & 1.0000000 & ENSG00000259922 & 1 & ME\\_92\\_3 & ME\\_92\\_3-16:56024670-58024669 & 1.0000000\\\\\n",
       "\t  2720 &  3.827403e-74 &  1.718700e-24 &  2.226920e-53 & 1.096923e-09 & 1.0000000 & ENSG00000140853 & 1 & ME\\_92\\_5 & ME\\_92\\_5-16:56024670-58024669 & 1.0000000\\\\\n",
       "\t  2761 & 1.262738e-107 &  1.718700e-24 &  7.347059e-87 & 1.096923e-09 & 1.0000000 & ENSG00000259922 & 1 & ME\\_92\\_5 & ME\\_92\\_5-16:56024670-58024669 & 1.0000000\\\\\n",
       "\t 12469 &  3.621524e-60 &  1.327830e-19 &  1.356337e-44 & 1.949591e-06 & 0.9999981 & ENSG00000204525 & 1 & ME\\_92\\_2 & ME\\_92\\_2-6:29991224-32464002  & 0.9999981\\\\\n",
       "\t  2720 &  2.335427e-68 &  1.048726e-18 &  2.335218e-53 & 4.868152e-05 & 0.9999513 & ENSG00000140853 & 1 & ME\\_92\\_1 & ME\\_92\\_1-16:56024670-58024669 & 0.9999513\\\\\n",
       "\t  2761 & 7.705046e-102 &  1.048726e-18 &  7.704359e-87 & 4.868152e-05 & 0.9999513 & ENSG00000259922 & 1 & ME\\_92\\_1 & ME\\_92\\_1-16:56024670-58024669 & 0.9999513\\\\\n",
       "\t  4737 &  4.609604e-11 &  9.536110e-07 &  2.608432e-07 & 4.400591e-03 & 0.9955982 & ENSG00000228223 & 1 & ME\\_92\\_4 & ME\\_92\\_4-6:25175638-28307054  & 0.9955994\\\\\n",
       "\t  4626 & 1.071670e-192 &  9.092253e-11 & 7.077794e-184 & 5.910848e-02 & 0.9408915 & ENSG00000186470 & 1 & ME\\_92\\_5 & ME\\_92\\_5-6:25175638-28307054  & 0.9408915\\\\\n",
       "\\end{tabular}\n"
      ],
      "text/markdown": [
       "\n",
       "A data.frame: 9 × 11\n",
       "\n",
       "| nsnps &lt;int&gt; | PP.H0.abf &lt;dbl&gt; | PP.H1.abf &lt;dbl&gt; | PP.H2.abf &lt;dbl&gt; | PP.H3.abf &lt;dbl&gt; | PP.H4.abf &lt;dbl&gt; | Gene &lt;chr&gt; | eQTL.Signal &lt;int&gt; | Eigengene &lt;chr&gt; | Module.QTL &lt;chr&gt; | Coloc.Factor &lt;dbl&gt; |\n",
       "|---|---|---|---|---|---|---|---|---|---|---|\n",
       "|  2720 | 3.892711e-161 | 1.748027e-111 |  2.226917e-53 | 0.000000e+00 | 1.0000000 | ENSG00000140853 | 1 | ME_92_3 | ME_92_3-16:56024670-58024669 | 1.0000000 |\n",
       "|  2761 | 1.284284e-194 | 1.748027e-111 |  7.347051e-87 | 0.000000e+00 | 1.0000000 | ENSG00000259922 | 1 | ME_92_3 | ME_92_3-16:56024670-58024669 | 1.0000000 |\n",
       "|  2720 |  3.827403e-74 |  1.718700e-24 |  2.226920e-53 | 1.096923e-09 | 1.0000000 | ENSG00000140853 | 1 | ME_92_5 | ME_92_5-16:56024670-58024669 | 1.0000000 |\n",
       "|  2761 | 1.262738e-107 |  1.718700e-24 |  7.347059e-87 | 1.096923e-09 | 1.0000000 | ENSG00000259922 | 1 | ME_92_5 | ME_92_5-16:56024670-58024669 | 1.0000000 |\n",
       "| 12469 |  3.621524e-60 |  1.327830e-19 |  1.356337e-44 | 1.949591e-06 | 0.9999981 | ENSG00000204525 | 1 | ME_92_2 | ME_92_2-6:29991224-32464002  | 0.9999981 |\n",
       "|  2720 |  2.335427e-68 |  1.048726e-18 |  2.335218e-53 | 4.868152e-05 | 0.9999513 | ENSG00000140853 | 1 | ME_92_1 | ME_92_1-16:56024670-58024669 | 0.9999513 |\n",
       "|  2761 | 7.705046e-102 |  1.048726e-18 |  7.704359e-87 | 4.868152e-05 | 0.9999513 | ENSG00000259922 | 1 | ME_92_1 | ME_92_1-16:56024670-58024669 | 0.9999513 |\n",
       "|  4737 |  4.609604e-11 |  9.536110e-07 |  2.608432e-07 | 4.400591e-03 | 0.9955982 | ENSG00000228223 | 1 | ME_92_4 | ME_92_4-6:25175638-28307054  | 0.9955994 |\n",
       "|  4626 | 1.071670e-192 |  9.092253e-11 | 7.077794e-184 | 5.910848e-02 | 0.9408915 | ENSG00000186470 | 1 | ME_92_5 | ME_92_5-6:25175638-28307054  | 0.9408915 |\n",
       "\n"
      ],
      "text/plain": [
       "  nsnps PP.H0.abf     PP.H1.abf     PP.H2.abf     PP.H3.abf    PP.H4.abf\n",
       "1  2720 3.892711e-161 1.748027e-111  2.226917e-53 0.000000e+00 1.0000000\n",
       "2  2761 1.284284e-194 1.748027e-111  7.347051e-87 0.000000e+00 1.0000000\n",
       "3  2720  3.827403e-74  1.718700e-24  2.226920e-53 1.096923e-09 1.0000000\n",
       "4  2761 1.262738e-107  1.718700e-24  7.347059e-87 1.096923e-09 1.0000000\n",
       "5 12469  3.621524e-60  1.327830e-19  1.356337e-44 1.949591e-06 0.9999981\n",
       "6  2720  2.335427e-68  1.048726e-18  2.335218e-53 4.868152e-05 0.9999513\n",
       "7  2761 7.705046e-102  1.048726e-18  7.704359e-87 4.868152e-05 0.9999513\n",
       "8  4737  4.609604e-11  9.536110e-07  2.608432e-07 4.400591e-03 0.9955982\n",
       "9  4626 1.071670e-192  9.092253e-11 7.077794e-184 5.910848e-02 0.9408915\n",
       "  Gene            eQTL.Signal Eigengene Module.QTL                  \n",
       "1 ENSG00000140853 1           ME_92_3   ME_92_3-16:56024670-58024669\n",
       "2 ENSG00000259922 1           ME_92_3   ME_92_3-16:56024670-58024669\n",
       "3 ENSG00000140853 1           ME_92_5   ME_92_5-16:56024670-58024669\n",
       "4 ENSG00000259922 1           ME_92_5   ME_92_5-16:56024670-58024669\n",
       "5 ENSG00000204525 1           ME_92_2   ME_92_2-6:29991224-32464002 \n",
       "6 ENSG00000140853 1           ME_92_1   ME_92_1-16:56024670-58024669\n",
       "7 ENSG00000259922 1           ME_92_1   ME_92_1-16:56024670-58024669\n",
       "8 ENSG00000228223 1           ME_92_4   ME_92_4-6:25175638-28307054 \n",
       "9 ENSG00000186470 1           ME_92_5   ME_92_5-6:25175638-28307054 \n",
       "  Coloc.Factor\n",
       "1 1.0000000   \n",
       "2 1.0000000   \n",
       "3 1.0000000   \n",
       "4 1.0000000   \n",
       "5 0.9999981   \n",
       "6 0.9999513   \n",
       "7 0.9999513   \n",
       "8 0.9955994   \n",
       "9 0.9408915   "
      ]
     },
     "metadata": {},
     "output_type": "display_data"
    }
   ],
   "source": [
    "coloc.eqtl.mqtl %>%\n",
    "    dplyr::filter(grepl(\"ME_92_[0-9]\", Module.QTL))"
   ]
  },
  {
   "cell_type": "code",
   "execution_count": 60,
   "id": "083b6a47-3442-4073-9db5-58cddd13d6e7",
   "metadata": {},
   "outputs": [
    {
     "data": {
      "text/html": [
       "<table class=\"dataframe\">\n",
       "<caption>A data.frame: 5 × 2</caption>\n",
       "<thead>\n",
       "\t<tr><th scope=col>Gene</th><th scope=col>gene_name</th></tr>\n",
       "\t<tr><th scope=col>&lt;chr&gt;</th><th scope=col>&lt;chr&gt;</th></tr>\n",
       "</thead>\n",
       "<tbody>\n",
       "\t<tr><td>ENSG00000140853</td><td>NLRC5     </td></tr>\n",
       "\t<tr><td>ENSG00000186470</td><td>BTN3A2    </td></tr>\n",
       "\t<tr><td>ENSG00000204525</td><td>HLA-C     </td></tr>\n",
       "\t<tr><td>ENSG00000228223</td><td>HCG11     </td></tr>\n",
       "\t<tr><td>ENSG00000259922</td><td>AC023825.1</td></tr>\n",
       "</tbody>\n",
       "</table>\n"
      ],
      "text/latex": [
       "A data.frame: 5 × 2\n",
       "\\begin{tabular}{ll}\n",
       " Gene & gene\\_name\\\\\n",
       " <chr> & <chr>\\\\\n",
       "\\hline\n",
       "\t ENSG00000140853 & NLRC5     \\\\\n",
       "\t ENSG00000186470 & BTN3A2    \\\\\n",
       "\t ENSG00000204525 & HLA-C     \\\\\n",
       "\t ENSG00000228223 & HCG11     \\\\\n",
       "\t ENSG00000259922 & AC023825.1\\\\\n",
       "\\end{tabular}\n"
      ],
      "text/markdown": [
       "\n",
       "A data.frame: 5 × 2\n",
       "\n",
       "| Gene &lt;chr&gt; | gene_name &lt;chr&gt; |\n",
       "|---|---|\n",
       "| ENSG00000140853 | NLRC5      |\n",
       "| ENSG00000186470 | BTN3A2     |\n",
       "| ENSG00000204525 | HLA-C      |\n",
       "| ENSG00000228223 | HCG11      |\n",
       "| ENSG00000259922 | AC023825.1 |\n",
       "\n"
      ],
      "text/plain": [
       "  Gene            gene_name \n",
       "1 ENSG00000140853 NLRC5     \n",
       "2 ENSG00000186470 BTN3A2    \n",
       "3 ENSG00000204525 HLA-C     \n",
       "4 ENSG00000228223 HCG11     \n",
       "5 ENSG00000259922 AC023825.1"
      ]
     },
     "metadata": {},
     "output_type": "display_data"
    }
   ],
   "source": [
    "coloc.eqtl.mqtl %>%\n",
    "    dplyr::filter(grepl(\"ME_92_[0-9]\", Module.QTL)) %>%\n",
    "    dplyr::count(Gene) %>%\n",
    "    merge(., gene.info, by.x=\"Gene\", by.y=\"gene_id\") %>%\n",
    "    dplyr::select(Gene, gene_name)"
   ]
  },
  {
   "cell_type": "markdown",
   "id": "057693a3-d88b-4ac1-8c17-50bf92c32267",
   "metadata": {},
   "source": [
    "Take ME_92_1 as an example:\n",
    "1. CS 1 for rs821470\n",
    "2. CS 2 for rs12373120"
   ]
  },
  {
   "cell_type": "code",
   "execution_count": 61,
   "id": "f191821c-bfdd-4967-aeaa-8d7e6fc09d26",
   "metadata": {},
   "outputs": [],
   "source": [
    "susie <- fread(\"~/gains_team282/nikhil/colocalization/mqtl/fine_mapping/SuSiE/module_qtl_credible_sets.tsv\")"
   ]
  },
  {
   "cell_type": "code",
   "execution_count": 62,
   "id": "75dfda18-ee04-447a-a06f-6c505175ce61",
   "metadata": {},
   "outputs": [
    {
     "data": {
      "text/html": [
       "<table class=\"dataframe\">\n",
       "<caption>A data.table: 2 × 5</caption>\n",
       "<thead>\n",
       "\t<tr><th scope=col>Gene</th><th scope=col>SNP</th><th scope=col>SNP_Prob</th><th scope=col>Credible_Set</th><th scope=col>Notes</th></tr>\n",
       "\t<tr><th scope=col>&lt;chr&gt;</th><th scope=col>&lt;chr&gt;</th><th scope=col>&lt;dbl&gt;</th><th scope=col>&lt;int&gt;</th><th scope=col>&lt;chr&gt;</th></tr>\n",
       "</thead>\n",
       "<tbody>\n",
       "\t<tr><td>ME_92_1-16:56024670-58024669</td><td>rs821470  </td><td>0.9902365</td><td>1</td><td>NA</td></tr>\n",
       "\t<tr><td>ME_92_1-16:56024670-58024669</td><td>rs12373120</td><td>0.9895280</td><td>2</td><td>NA</td></tr>\n",
       "</tbody>\n",
       "</table>\n"
      ],
      "text/latex": [
       "A data.table: 2 × 5\n",
       "\\begin{tabular}{lllll}\n",
       " Gene & SNP & SNP\\_Prob & Credible\\_Set & Notes\\\\\n",
       " <chr> & <chr> & <dbl> & <int> & <chr>\\\\\n",
       "\\hline\n",
       "\t ME\\_92\\_1-16:56024670-58024669 & rs821470   & 0.9902365 & 1 & NA\\\\\n",
       "\t ME\\_92\\_1-16:56024670-58024669 & rs12373120 & 0.9895280 & 2 & NA\\\\\n",
       "\\end{tabular}\n"
      ],
      "text/markdown": [
       "\n",
       "A data.table: 2 × 5\n",
       "\n",
       "| Gene &lt;chr&gt; | SNP &lt;chr&gt; | SNP_Prob &lt;dbl&gt; | Credible_Set &lt;int&gt; | Notes &lt;chr&gt; |\n",
       "|---|---|---|---|---|\n",
       "| ME_92_1-16:56024670-58024669 | rs821470   | 0.9902365 | 1 | NA |\n",
       "| ME_92_1-16:56024670-58024669 | rs12373120 | 0.9895280 | 2 | NA |\n",
       "\n"
      ],
      "text/plain": [
       "  Gene                         SNP        SNP_Prob  Credible_Set Notes\n",
       "1 ME_92_1-16:56024670-58024669 rs821470   0.9902365 1            NA   \n",
       "2 ME_92_1-16:56024670-58024669 rs12373120 0.9895280 2            NA   "
      ]
     },
     "metadata": {},
     "output_type": "display_data"
    }
   ],
   "source": [
    "susie %>%\n",
    "    dplyr::filter(grepl(\"ME_92_1-16\", Gene))"
   ]
  },
  {
   "cell_type": "code",
   "execution_count": 63,
   "id": "45fa6a29-beb7-4def-ac15-04b62f07f809",
   "metadata": {},
   "outputs": [
    {
     "data": {
      "text/html": [
       "<table class=\"dataframe\">\n",
       "<caption>A data.frame: 2 × 6</caption>\n",
       "<thead>\n",
       "\t<tr><th scope=col>SNP</th><th scope=col>Gene</th><th scope=col>eQTL_beta</th><th scope=col>eQTL_SE</th><th scope=col>pvalue</th><th scope=col>Number</th></tr>\n",
       "\t<tr><th scope=col>&lt;chr&gt;</th><th scope=col>&lt;chr&gt;</th><th scope=col>&lt;chr&gt;</th><th scope=col>&lt;chr&gt;</th><th scope=col>&lt;chr&gt;</th><th scope=col>&lt;int&gt;</th></tr>\n",
       "</thead>\n",
       "<tbody>\n",
       "\t<tr><td>rs821470</td><td>ENSG00000140853</td><td>0.292067732490055</td><td>0.0179967419145994</td><td>1.91167944970489e-49</td><td>1</td></tr>\n",
       "\t<tr><td>rs821470</td><td>ENSG00000259922</td><td>0.231214169552342</td><td>0.0111092443180736</td><td>3.05440261515983e-73</td><td>1</td></tr>\n",
       "</tbody>\n",
       "</table>\n"
      ],
      "text/latex": [
       "A data.frame: 2 × 6\n",
       "\\begin{tabular}{llllll}\n",
       " SNP & Gene & eQTL\\_beta & eQTL\\_SE & pvalue & Number\\\\\n",
       " <chr> & <chr> & <chr> & <chr> & <chr> & <int>\\\\\n",
       "\\hline\n",
       "\t rs821470 & ENSG00000140853 & 0.292067732490055 & 0.0179967419145994 & 1.91167944970489e-49 & 1\\\\\n",
       "\t rs821470 & ENSG00000259922 & 0.231214169552342 & 0.0111092443180736 & 3.05440261515983e-73 & 1\\\\\n",
       "\\end{tabular}\n"
      ],
      "text/markdown": [
       "\n",
       "A data.frame: 2 × 6\n",
       "\n",
       "| SNP &lt;chr&gt; | Gene &lt;chr&gt; | eQTL_beta &lt;chr&gt; | eQTL_SE &lt;chr&gt; | pvalue &lt;chr&gt; | Number &lt;int&gt; |\n",
       "|---|---|---|---|---|---|\n",
       "| rs821470 | ENSG00000140853 | 0.292067732490055 | 0.0179967419145994 | 1.91167944970489e-49 | 1 |\n",
       "| rs821470 | ENSG00000259922 | 0.231214169552342 | 0.0111092443180736 | 3.05440261515983e-73 | 1 |\n",
       "\n"
      ],
      "text/plain": [
       "  SNP      Gene            eQTL_beta         eQTL_SE           \n",
       "1 rs821470 ENSG00000140853 0.292067732490055 0.0179967419145994\n",
       "2 rs821470 ENSG00000259922 0.231214169552342 0.0111092443180736\n",
       "  pvalue               Number\n",
       "1 1.91167944970489e-49 1     \n",
       "2 3.05440261515983e-73 1     "
      ]
     },
     "metadata": {},
     "output_type": "display_data"
    },
    {
     "data": {
      "text/html": [
       "<table class=\"dataframe\">\n",
       "<caption>A data.frame: 1 × 6</caption>\n",
       "<thead>\n",
       "\t<tr><th scope=col>Chr</th><th scope=col>SNP</th><th scope=col>cM</th><th scope=col>Pos</th><th scope=col>Minor</th><th scope=col>Major</th></tr>\n",
       "\t<tr><th scope=col>&lt;chr&gt;</th><th scope=col>&lt;chr&gt;</th><th scope=col>&lt;int&gt;</th><th scope=col>&lt;int&gt;</th><th scope=col>&lt;chr&gt;</th><th scope=col>&lt;chr&gt;</th></tr>\n",
       "</thead>\n",
       "<tbody>\n",
       "\t<tr><td>16</td><td>rs821470</td><td>0</td><td>57024670</td><td>G</td><td>A</td></tr>\n",
       "</tbody>\n",
       "</table>\n"
      ],
      "text/latex": [
       "A data.frame: 1 × 6\n",
       "\\begin{tabular}{llllll}\n",
       " Chr & SNP & cM & Pos & Minor & Major\\\\\n",
       " <chr> & <chr> & <int> & <int> & <chr> & <chr>\\\\\n",
       "\\hline\n",
       "\t 16 & rs821470 & 0 & 57024670 & G & A\\\\\n",
       "\\end{tabular}\n"
      ],
      "text/markdown": [
       "\n",
       "A data.frame: 1 × 6\n",
       "\n",
       "| Chr &lt;chr&gt; | SNP &lt;chr&gt; | cM &lt;int&gt; | Pos &lt;int&gt; | Minor &lt;chr&gt; | Major &lt;chr&gt; |\n",
       "|---|---|---|---|---|---|\n",
       "| 16 | rs821470 | 0 | 57024670 | G | A |\n",
       "\n"
      ],
      "text/plain": [
       "  Chr SNP      cM Pos      Minor Major\n",
       "1 16  rs821470 0  57024670 G     A    "
      ]
     },
     "metadata": {},
     "output_type": "display_data"
    }
   ],
   "source": [
    "c.cis.eqtl %>%\n",
    "    dplyr::filter(SNP == \"rs821470\")\n",
    "\n",
    "geno.bim %>%\n",
    "    dplyr::filter(SNP == \"rs821470\")"
   ]
  },
  {
   "cell_type": "code",
   "execution_count": 64,
   "id": "7368af50-a181-4e75-992d-ec5f0977c9c4",
   "metadata": {},
   "outputs": [
    {
     "data": {
      "text/html": [
       "<table class=\"dataframe\">\n",
       "<caption>A tibble: 5 × 2</caption>\n",
       "<thead>\n",
       "\t<tr><th scope=col>Group</th><th scope=col>Mean_Overlap_Score</th></tr>\n",
       "\t<tr><th scope=col>&lt;chr&gt;</th><th scope=col>&lt;dbl&gt;</th></tr>\n",
       "</thead>\n",
       "<tbody>\n",
       "\t<tr><td>Effector_memory_CD8pos_T-Control</td><td>0.5054505</td></tr>\n",
       "\t<tr><td>Immature_NK-Control             </td><td>0.9625963</td></tr>\n",
       "\t<tr><td>Memory_Teffs-Control            </td><td>0.5094509</td></tr>\n",
       "\t<tr><td>Regulatory_T-Control            </td><td>0.3865387</td></tr>\n",
       "\t<tr><td>Th17_precursors-Control         </td><td>0.6851685</td></tr>\n",
       "</tbody>\n",
       "</table>\n"
      ],
      "text/latex": [
       "A tibble: 5 × 2\n",
       "\\begin{tabular}{ll}\n",
       " Group & Mean\\_Overlap\\_Score\\\\\n",
       " <chr> & <dbl>\\\\\n",
       "\\hline\n",
       "\t Effector\\_memory\\_CD8pos\\_T-Control & 0.5054505\\\\\n",
       "\t Immature\\_NK-Control              & 0.9625963\\\\\n",
       "\t Memory\\_Teffs-Control             & 0.5094509\\\\\n",
       "\t Regulatory\\_T-Control             & 0.3865387\\\\\n",
       "\t Th17\\_precursors-Control          & 0.6851685\\\\\n",
       "\\end{tabular}\n"
      ],
      "text/markdown": [
       "\n",
       "A tibble: 5 × 2\n",
       "\n",
       "| Group &lt;chr&gt; | Mean_Overlap_Score &lt;dbl&gt; |\n",
       "|---|---|\n",
       "| Effector_memory_CD8pos_T-Control | 0.5054505 |\n",
       "| Immature_NK-Control              | 0.9625963 |\n",
       "| Memory_Teffs-Control             | 0.5094509 |\n",
       "| Regulatory_T-Control             | 0.3865387 |\n",
       "| Th17_precursors-Control          | 0.6851685 |\n",
       "\n"
      ],
      "text/plain": [
       "  Group                            Mean_Overlap_Score\n",
       "1 Effector_memory_CD8pos_T-Control 0.5054505         \n",
       "2 Immature_NK-Control              0.9625963         \n",
       "3 Memory_Teffs-Control             0.5094509         \n",
       "4 Regulatory_T-Control             0.3865387         \n",
       "5 Th17_precursors-Control          0.6851685         "
      ]
     },
     "metadata": {},
     "output_type": "display_data"
    }
   ],
   "source": [
    "loci %>%\n",
    "    dplyr::filter(SNP == \"rs821470\") %>%\n",
    "    merge(., overlap.scores, by=\"Locus\") %>%\n",
    "    dplyr::arrange(Overlap_Score) %>%\n",
    "    dplyr::select(Group, Overlap_Score) %>%\n",
    "    dplyr::group_by(Group) %>%\n",
    "    dplyr::summarize(Mean_Overlap_Score=mean(Overlap_Score))"
   ]
  },
  {
   "cell_type": "code",
   "execution_count": 65,
   "id": "751b0a77-881f-476c-8bc6-5b63fcb8a719",
   "metadata": {},
   "outputs": [
    {
     "data": {
      "image/png": "[encoded data removed]",
      "text/plain": [
       "plot without title"
      ]
     },
     "metadata": {
      "image/png": {
       "height": 210,
       "width": 480
      }
     },
     "output_type": "display_data"
    }
   ],
   "source": [
    "options(repr.plot.width=8, repr.plot.height=3.5)\n",
    "\n",
    "plot.data <- loci %>%\n",
    "    dplyr::filter(SNP == \"rs821470\") %>%\n",
    "    merge(., overlap.scores, by=\"Locus\") %>%\n",
    "    dplyr::arrange(Overlap_Score) %>%\n",
    "    dplyr::select(Group, Overlap_Score) %>%\n",
    "    dplyr::group_by(Group) %>%\n",
    "    dplyr::summarize(Mean_Overlap_Score=mean(Overlap_Score))\n",
    "    \n",
    "plot.data %>%\n",
    "    ggplot(aes(x=\"Module 92\", y=Mean_Overlap_Score)) +\n",
    "    geom_point(size=I(4), pch=21, fill=\"steelblue3\") +\n",
    "    geom_text_repel(aes(label=Group), box.padding = unit(1, \"lines\"),\n",
    "    point.padding = unit(1, \"lines\")) +\n",
    "    ylim(0, 1) + ylab(\"Mean Overlap Score\") +\n",
    "    coord_flip() +\n",
    "    ggplot_theme +\n",
    "    theme(axis.title.y=element_blank())\n",
    "\n",
    "ggsave(\"03_Functional_Interpretation/results/integration_module_92_goshifter.pdf\", width=8, height=4)"
   ]
  },
  {
   "cell_type": "code",
   "execution_count": 66,
   "id": "a8df12c1-5769-47ca-a407-c481b3c67a27",
   "metadata": {},
   "outputs": [
    {
     "data": {
      "text/html": [
       "<table class=\"dataframe\">\n",
       "<caption>A data.frame: 2 × 10</caption>\n",
       "<thead>\n",
       "\t<tr><th scope=col>CHROM</th><th scope=col>POS</th><th scope=col>ID</th><th scope=col>REF</th><th scope=col>ALT</th><th scope=col>Allele</th><th scope=col>Consequence</th><th scope=col>Feature</th><th scope=col>Feature_type</th><th scope=col>BIOTYPE</th></tr>\n",
       "\t<tr><th scope=col>&lt;int&gt;</th><th scope=col>&lt;int&gt;</th><th scope=col>&lt;chr&gt;</th><th scope=col>&lt;chr&gt;</th><th scope=col>&lt;chr&gt;</th><th scope=col>&lt;chr&gt;</th><th scope=col>&lt;chr&gt;</th><th scope=col>&lt;chr&gt;</th><th scope=col>&lt;chr&gt;</th><th scope=col>&lt;chr&gt;</th></tr>\n",
       "</thead>\n",
       "<tbody>\n",
       "\t<tr><td>16</td><td>57024670</td><td>rs821470</td><td>A</td><td>G</td><td>G</td><td>regulatory_region_variant</td><td>ENSR00001002118</td><td>RegulatoryFeature</td><td>promoter_flanking_region</td></tr>\n",
       "\t<tr><td>16</td><td>57024670</td><td>rs821470</td><td>G</td><td>A</td><td>A</td><td>regulatory_region_variant</td><td>ENSR00001002118</td><td>RegulatoryFeature</td><td>promoter_flanking_region</td></tr>\n",
       "</tbody>\n",
       "</table>\n"
      ],
      "text/latex": [
       "A data.frame: 2 × 10\n",
       "\\begin{tabular}{llllllllll}\n",
       " CHROM & POS & ID & REF & ALT & Allele & Consequence & Feature & Feature\\_type & BIOTYPE\\\\\n",
       " <int> & <int> & <chr> & <chr> & <chr> & <chr> & <chr> & <chr> & <chr> & <chr>\\\\\n",
       "\\hline\n",
       "\t 16 & 57024670 & rs821470 & A & G & G & regulatory\\_region\\_variant & ENSR00001002118 & RegulatoryFeature & promoter\\_flanking\\_region\\\\\n",
       "\t 16 & 57024670 & rs821470 & G & A & A & regulatory\\_region\\_variant & ENSR00001002118 & RegulatoryFeature & promoter\\_flanking\\_region\\\\\n",
       "\\end{tabular}\n"
      ],
      "text/markdown": [
       "\n",
       "A data.frame: 2 × 10\n",
       "\n",
       "| CHROM &lt;int&gt; | POS &lt;int&gt; | ID &lt;chr&gt; | REF &lt;chr&gt; | ALT &lt;chr&gt; | Allele &lt;chr&gt; | Consequence &lt;chr&gt; | Feature &lt;chr&gt; | Feature_type &lt;chr&gt; | BIOTYPE &lt;chr&gt; |\n",
       "|---|---|---|---|---|---|---|---|---|---|\n",
       "| 16 | 57024670 | rs821470 | A | G | G | regulatory_region_variant | ENSR00001002118 | RegulatoryFeature | promoter_flanking_region |\n",
       "| 16 | 57024670 | rs821470 | G | A | A | regulatory_region_variant | ENSR00001002118 | RegulatoryFeature | promoter_flanking_region |\n",
       "\n"
      ],
      "text/plain": [
       "  CHROM POS      ID       REF ALT Allele Consequence              \n",
       "1 16    57024670 rs821470 A   G   G      regulatory_region_variant\n",
       "2 16    57024670 rs821470 G   A   A      regulatory_region_variant\n",
       "  Feature         Feature_type      BIOTYPE                 \n",
       "1 ENSR00001002118 RegulatoryFeature promoter_flanking_region\n",
       "2 ENSR00001002118 RegulatoryFeature promoter_flanking_region"
      ]
     },
     "metadata": {},
     "output_type": "display_data"
    }
   ],
   "source": [
    "vep %>%\n",
    "    dplyr::filter(ID == \"rs821470\", Consequence == \"regulatory_region_variant\") %>%\n",
    "    dplyr::select(CHROM, POS, ID, REF, ALT, Allele, Consequence, Feature, Feature_type, BIOTYPE)"
   ]
  },
  {
   "cell_type": "code",
   "execution_count": 67,
   "id": "ec3ae01c-7092-4f04-896c-00c074a2f49a",
   "metadata": {},
   "outputs": [],
   "source": [
    "neutrophil.map <- c(\n",
    "    \"BGP\" = \"Stimulation\", \"Control\" = \"Stimulation\", \"FLAG\" = \"Stimulation\", \"HMGB1\" = \"Stimulation\", \"LPS\" = \"Stimulation\", \"LTA\" = \"Stimulation\", \"R848\" = \"Stimulation\",\n",
    "    \"SA-1\" = \"S. aureus\", \"SA-5\" = \"S. aureus\", \"WB\" = \"S. aureus\",\n",
    "    \"EC1h\" = \"E. coli\", \"EC4h\" = \"E. coli\", \"noEC1h\" = \"E. coli\", \"noEC4h\" = \"E. coli\"\n",
    ")"
   ]
  },
  {
   "cell_type": "code",
   "execution_count": 68,
   "id": "fe151606-313e-43d5-bc34-bac168cdfa85",
   "metadata": {},
   "outputs": [
    {
     "data": {
      "text/html": [
       "<table class=\"dataframe\">\n",
       "<caption>A data.frame: 6 × 11</caption>\n",
       "<thead>\n",
       "\t<tr><th></th><th scope=col>Annot</th><th scope=col>Eigengene</th><th scope=col>SNPs.Annotation</th><th scope=col>SNPs.Other</th><th scope=col>SNPs.Total</th><th scope=col>Annotation</th><th scope=col>Individual</th><th scope=col>Other</th><th scope=col>Residual</th><th scope=col>Per.SNP.Enrichment</th><th scope=col>Log.Enrichment</th></tr>\n",
       "\t<tr><th></th><th scope=col>&lt;chr&gt;</th><th scope=col>&lt;chr&gt;</th><th scope=col>&lt;int&gt;</th><th scope=col>&lt;int&gt;</th><th scope=col>&lt;int&gt;</th><th scope=col>&lt;dbl&gt;</th><th scope=col>&lt;dbl&gt;</th><th scope=col>&lt;dbl&gt;</th><th scope=col>&lt;dbl&gt;</th><th scope=col>&lt;dbl&gt;</th><th scope=col>&lt;dbl&gt;</th></tr>\n",
       "</thead>\n",
       "<tbody>\n",
       "\t<tr><th scope=row>1</th><td>Bulk_B-Control</td><td>ME_1_1  </td><td>59881</td><td>4097145</td><td>4157026</td><td>4.120183e-16</td><td>5.443220e-08</td><td>1.198100e-06</td><td>3.507126e-06</td><td>2.387355e-08</td><td>-25.320012</td></tr>\n",
       "\t<tr><th scope=row>2</th><td>Bulk_B-Control</td><td>ME_10_1 </td><td>59881</td><td>4097145</td><td>4157026</td><td>9.208798e-05</td><td>0.000000e+00</td><td>2.281507e-05</td><td>2.835113e-05</td><td>5.563718e+01</td><td>  5.797977</td></tr>\n",
       "\t<tr><th scope=row>3</th><td>Bulk_B-Control</td><td>ME_101_1</td><td>59881</td><td>4097145</td><td>4157026</td><td>7.681705e-05</td><td>2.565170e-04</td><td>4.501491e-13</td><td>7.481390e-05</td><td>6.942145e+01</td><td>  6.117310</td></tr>\n",
       "\t<tr><th scope=row>4</th><td>Bulk_B-Control</td><td>ME_102_1</td><td>59881</td><td>4097145</td><td>4157026</td><td>8.457279e-04</td><td>3.535808e-13</td><td>1.628466e-04</td><td>6.285881e-05</td><td>5.821252e+01</td><td>  5.863258</td></tr>\n",
       "\t<tr><th scope=row>5</th><td>Bulk_B-Control</td><td>ME_103_1</td><td>59881</td><td>4097145</td><td>4157026</td><td>1.510706e-12</td><td>1.657035e-12</td><td>5.302640e-05</td><td>9.489297e-05</td><td>1.977796e-06</td><td>-18.947675</td></tr>\n",
       "\t<tr><th scope=row>6</th><td>Bulk_B-Control</td><td>ME_104_1</td><td>59881</td><td>4097145</td><td>4157026</td><td>1.657799e-04</td><td>5.393482e-11</td><td>3.646383e-04</td><td>1.471571e-04</td><td>2.169738e+01</td><td>  4.439449</td></tr>\n",
       "</tbody>\n",
       "</table>\n"
      ],
      "text/latex": [
       "A data.frame: 6 × 11\n",
       "\\begin{tabular}{r|lllllllllll}\n",
       "  & Annot & Eigengene & SNPs.Annotation & SNPs.Other & SNPs.Total & Annotation & Individual & Other & Residual & Per.SNP.Enrichment & Log.Enrichment\\\\\n",
       "  & <chr> & <chr> & <int> & <int> & <int> & <dbl> & <dbl> & <dbl> & <dbl> & <dbl> & <dbl>\\\\\n",
       "\\hline\n",
       "\t1 & Bulk\\_B-Control & ME\\_1\\_1   & 59881 & 4097145 & 4157026 & 4.120183e-16 & 5.443220e-08 & 1.198100e-06 & 3.507126e-06 & 2.387355e-08 & -25.320012\\\\\n",
       "\t2 & Bulk\\_B-Control & ME\\_10\\_1  & 59881 & 4097145 & 4157026 & 9.208798e-05 & 0.000000e+00 & 2.281507e-05 & 2.835113e-05 & 5.563718e+01 &   5.797977\\\\\n",
       "\t3 & Bulk\\_B-Control & ME\\_101\\_1 & 59881 & 4097145 & 4157026 & 7.681705e-05 & 2.565170e-04 & 4.501491e-13 & 7.481390e-05 & 6.942145e+01 &   6.117310\\\\\n",
       "\t4 & Bulk\\_B-Control & ME\\_102\\_1 & 59881 & 4097145 & 4157026 & 8.457279e-04 & 3.535808e-13 & 1.628466e-04 & 6.285881e-05 & 5.821252e+01 &   5.863258\\\\\n",
       "\t5 & Bulk\\_B-Control & ME\\_103\\_1 & 59881 & 4097145 & 4157026 & 1.510706e-12 & 1.657035e-12 & 5.302640e-05 & 9.489297e-05 & 1.977796e-06 & -18.947675\\\\\n",
       "\t6 & Bulk\\_B-Control & ME\\_104\\_1 & 59881 & 4097145 & 4157026 & 1.657799e-04 & 5.393482e-11 & 3.646383e-04 & 1.471571e-04 & 2.169738e+01 &   4.439449\\\\\n",
       "\\end{tabular}\n"
      ],
      "text/markdown": [
       "\n",
       "A data.frame: 6 × 11\n",
       "\n",
       "| <!--/--> | Annot &lt;chr&gt; | Eigengene &lt;chr&gt; | SNPs.Annotation &lt;int&gt; | SNPs.Other &lt;int&gt; | SNPs.Total &lt;int&gt; | Annotation &lt;dbl&gt; | Individual &lt;dbl&gt; | Other &lt;dbl&gt; | Residual &lt;dbl&gt; | Per.SNP.Enrichment &lt;dbl&gt; | Log.Enrichment &lt;dbl&gt; |\n",
       "|---|---|---|---|---|---|---|---|---|---|---|---|\n",
       "| 1 | Bulk_B-Control | ME_1_1   | 59881 | 4097145 | 4157026 | 4.120183e-16 | 5.443220e-08 | 1.198100e-06 | 3.507126e-06 | 2.387355e-08 | -25.320012 |\n",
       "| 2 | Bulk_B-Control | ME_10_1  | 59881 | 4097145 | 4157026 | 9.208798e-05 | 0.000000e+00 | 2.281507e-05 | 2.835113e-05 | 5.563718e+01 |   5.797977 |\n",
       "| 3 | Bulk_B-Control | ME_101_1 | 59881 | 4097145 | 4157026 | 7.681705e-05 | 2.565170e-04 | 4.501491e-13 | 7.481390e-05 | 6.942145e+01 |   6.117310 |\n",
       "| 4 | Bulk_B-Control | ME_102_1 | 59881 | 4097145 | 4157026 | 8.457279e-04 | 3.535808e-13 | 1.628466e-04 | 6.285881e-05 | 5.821252e+01 |   5.863258 |\n",
       "| 5 | Bulk_B-Control | ME_103_1 | 59881 | 4097145 | 4157026 | 1.510706e-12 | 1.657035e-12 | 5.302640e-05 | 9.489297e-05 | 1.977796e-06 | -18.947675 |\n",
       "| 6 | Bulk_B-Control | ME_104_1 | 59881 | 4097145 | 4157026 | 1.657799e-04 | 5.393482e-11 | 3.646383e-04 | 1.471571e-04 | 2.169738e+01 |   4.439449 |\n",
       "\n"
      ],
      "text/plain": [
       "  Annot          Eigengene SNPs.Annotation SNPs.Other SNPs.Total Annotation  \n",
       "1 Bulk_B-Control ME_1_1    59881           4097145    4157026    4.120183e-16\n",
       "2 Bulk_B-Control ME_10_1   59881           4097145    4157026    9.208798e-05\n",
       "3 Bulk_B-Control ME_101_1  59881           4097145    4157026    7.681705e-05\n",
       "4 Bulk_B-Control ME_102_1  59881           4097145    4157026    8.457279e-04\n",
       "5 Bulk_B-Control ME_103_1  59881           4097145    4157026    1.510706e-12\n",
       "6 Bulk_B-Control ME_104_1  59881           4097145    4157026    1.657799e-04\n",
       "  Individual   Other        Residual     Per.SNP.Enrichment Log.Enrichment\n",
       "1 5.443220e-08 1.198100e-06 3.507126e-06 2.387355e-08       -25.320012    \n",
       "2 0.000000e+00 2.281507e-05 2.835113e-05 5.563718e+01         5.797977    \n",
       "3 2.565170e-04 4.501491e-13 7.481390e-05 6.942145e+01         6.117310    \n",
       "4 3.535808e-13 1.628466e-04 6.285881e-05 5.821252e+01         5.863258    \n",
       "5 1.657035e-12 5.302640e-05 9.489297e-05 1.977796e-06       -18.947675    \n",
       "6 5.393482e-11 3.646383e-04 1.471571e-04 2.169738e+01         4.439449    "
      ]
     },
     "metadata": {},
     "output_type": "display_data"
    }
   ],
   "source": [
    "snp.h2 %>%\n",
    "    head()"
   ]
  },
  {
   "cell_type": "code",
   "execution_count": 69,
   "id": "1820dcb2-c634-485a-8215-c38fa91c2a41",
   "metadata": {},
   "outputs": [
    {
     "name": "stderr",
     "output_type": "stream",
     "text": [
      "`stat_bin()` using `bins = 30`. Pick better value with `binwidth`.\n",
      "\n"
     ]
    },
    {
     "data": {
      "image/png": "[encoded data removed]",
      "text/plain": [
       "plot without title"
      ]
     },
     "metadata": {
      "image/png": {
       "height": 210,
       "width": 480
      }
     },
     "output_type": "display_data"
    }
   ],
   "source": [
    "snp.h2 %>%\n",
    "    dplyr::filter(Eigengene == \"ME_92_1\") %>%\n",
    "    dplyr::mutate(h2g = 1 - ((Residual + Individual) / (Annotation + Individual + Other + Residual))) %>%\n",
    "    ggplot() +\n",
    "    geom_histogram(aes(x=h2g)) +\n",
    "    ggplot_theme"
   ]
  },
  {
   "cell_type": "code",
   "execution_count": 77,
   "id": "927a17c1-4cb2-4cec-9a8b-ce93eda29c5b",
   "metadata": {},
   "outputs": [
    {
     "data": {
      "image/png": "[encoded data removed]",
      "text/plain": [
       "plot without title"
      ]
     },
     "metadata": {
      "image/png": {
       "height": 900,
       "width": 360
      }
     },
     "output_type": "display_data"
    }
   ],
   "source": [
    "options(repr.plot.width=6, repr.plot.height=15)\n",
    "\n",
    "plot.data <- snp.h2 %>%\n",
    "    dplyr::filter(Eigengene == \"ME_92_1\") %>%\n",
    "    dplyr::filter(!grepl(\"segments\", Annot)) %>%\n",
    "    dplyr::filter(!grepl(\"cCREs\", Annot)) %>%\n",
    "    dplyr::filter(!grepl(\"Neutrophils\", Annot)) %>%\n",
    "    dplyr::mutate(Cell_Type=gsub(\"-.*$\", \"\", Annot)) %>%\n",
    "    dplyr::mutate(Condition=gsub(\"^.*-\", \"\", Annot)) %>%\n",
    "    merge(., lineages, by=\"Cell_Type\")\n",
    "\n",
    "plot.data %>%\n",
    "    ggplot() +\n",
    "    geom_tile(aes(x=Condition, y=Cell_Type, fill=Log.Enrichment)) +\n",
    "    geom_text(aes(x=Condition, y=Cell_Type, label=round(Log.Enrichment, 2)), color=\"white\", size=5) +\n",
    "    scale_fill_gradient2(low=\"firebrick4\", mid=\"white\", high=\"royalblue4\", midpoint=0, limits=c(-9, 9)) +\n",
    "    facet_grid(Lineage ~ ., scale=\"free\", space=\"free\") +\n",
    "    ggplot_theme +\n",
    "    theme(axis.title=element_blank())\n",
    "\n",
    "ggsave(\"03_Functional_Interpretation/results/integration_module_92_immune_heritability.pdf\", width=6, height=15)"
   ]
  },
  {
   "cell_type": "code",
   "execution_count": 79,
   "id": "0ae60487-5e53-470d-8315-6bf3407b0532",
   "metadata": {},
   "outputs": [
    {
     "data": {
      "image/png": "[encoded data removed]",
      "text/plain": [
       "plot without title"
      ]
     },
     "metadata": {
      "image/png": {
       "height": 480,
       "width": 180
      }
     },
     "output_type": "display_data"
    }
   ],
   "source": [
    "options(repr.plot.width=3, repr.plot.height=8)\n",
    "\n",
    "plot.data <- snp.h2 %>%\n",
    "    dplyr::filter(Eigengene == \"ME_92_1\") %>%\n",
    "    dplyr::filter(!grepl(\"segments\", Annot)) %>%\n",
    "    dplyr::filter(!grepl(\"cCREs\", Annot)) %>%\n",
    "    dplyr::filter(grepl(\"Neutrophils\", Annot)) %>%\n",
    "    dplyr::mutate(Condition=gsub(\"Neutrophils-\", \"\", Annot)) %>%\n",
    "    dplyr::mutate(Group=neutrophil.map[Condition])\n",
    "\n",
    "plot.data %>%\n",
    "    ggplot() +\n",
    "    geom_tile(aes(x=\"Neutrophil\", y=Condition, fill=Log.Enrichment)) +\n",
    "    geom_text(aes(x=\"Neutrophil\", y=Condition, label=round(Log.Enrichment, 2)), color=\"white\", size=5) +\n",
    "    scale_fill_gradient2(low=\"firebrick4\", mid=\"white\", high=\"royalblue4\", midpoint=0, limits=c(-9, 9)) +\n",
    "    facet_grid(Group ~ ., scale=\"free\", space=\"free\") +\n",
    "    ggplot_theme +\n",
    "    theme(axis.title=element_blank())\n",
    "\n",
    "ggsave(\"03_Functional_Interpretation/results/integration_module_92_neutrophil_heritability.pdf\", width=3, height=8)"
   ]
  },
  {
   "cell_type": "code",
   "execution_count": null,
   "id": "bf61d992-74bb-4ff1-9c34-572b482cac4a",
   "metadata": {},
   "outputs": [],
   "source": []
  }
 ],
 "metadata": {
  "kernelspec": {
   "display_name": "R",
   "language": "R",
   "name": "ir"
  },
  "language_info": {
   "codemirror_mode": "r",
   "file_extension": ".r",
   "mimetype": "text/x-r-source",
   "name": "R",
   "pygments_lexer": "r",
   "version": "4.0.5"
  }
 },
 "nbformat": 4,
 "nbformat_minor": 5
}
