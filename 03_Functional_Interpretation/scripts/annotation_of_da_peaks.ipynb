{
 "cells": [
  {
   "cell_type": "markdown",
   "id": "62c8ff5c-1398-4ebe-89ba-1790fd7ac25b",
   "metadata": {},
   "source": [
    "# Annotation of DA Peaks\n",
    "\n",
    "**Created**: 27 January 2021"
   ]
  },
  {
   "cell_type": "markdown",
   "id": "d877360b-0033-4b96-9efb-9ee7eaf11c1b",
   "metadata": {},
   "source": [
    "## Environment"
   ]
  },
  {
   "cell_type": "code",
   "execution_count": 1,
   "id": "1c5fb5eb-0d6f-440a-b9b0-798aa7c197b9",
   "metadata": {},
   "outputs": [],
   "source": [
    "if (!requireNamespace(\"ComplexHeatmap\", quietly=T)) {\n",
    "    BiocManager::install(\"ComplexHeatmap\")\n",
    "}"
   ]
  },
  {
   "cell_type": "code",
   "execution_count": 2,
   "id": "a6ad52f6-f1d1-4c9b-829d-53c5d0bb5a70",
   "metadata": {},
   "outputs": [
    {
     "name": "stderr",
     "output_type": "stream",
     "text": [
      "── \u001b[1mAttaching packages\u001b[22m ──────────────────────────────────────────────────────────────────────────────────────────────────────────────────────────────────────────────────────────────────────────── tidyverse 1.3.1 ──\n",
      "\n",
      "\u001b[32m✔\u001b[39m \u001b[34mggplot2\u001b[39m 3.3.5     \u001b[32m✔\u001b[39m \u001b[34mpurrr  \u001b[39m 0.3.4\n",
      "\u001b[32m✔\u001b[39m \u001b[34mtibble \u001b[39m 3.1.6     \u001b[32m✔\u001b[39m \u001b[34mdplyr  \u001b[39m 1.0.7\n",
      "\u001b[32m✔\u001b[39m \u001b[34mtidyr  \u001b[39m 1.1.4     \u001b[32m✔\u001b[39m \u001b[34mstringr\u001b[39m 1.4.0\n",
      "\u001b[32m✔\u001b[39m \u001b[34mreadr  \u001b[39m 2.1.1     \u001b[32m✔\u001b[39m \u001b[34mforcats\u001b[39m 0.5.1\n",
      "\n",
      "── \u001b[1mConflicts\u001b[22m ─────────────────────────────────────────────────────────────────────────────────────────────────────────────────────────────────────────────────────────────────────────────── tidyverse_conflicts() ──\n",
      "\u001b[31m✖\u001b[39m \u001b[34mdplyr\u001b[39m::\u001b[32mfilter()\u001b[39m masks \u001b[34mstats\u001b[39m::filter()\n",
      "\u001b[31m✖\u001b[39m \u001b[34mdplyr\u001b[39m::\u001b[32mlag()\u001b[39m    masks \u001b[34mstats\u001b[39m::lag()\n",
      "\n",
      "\n",
      "Attaching package: ‘data.table’\n",
      "\n",
      "\n",
      "The following objects are masked from ‘package:dplyr’:\n",
      "\n",
      "    between, first, last\n",
      "\n",
      "\n",
      "The following object is masked from ‘package:purrr’:\n",
      "\n",
      "    transpose\n",
      "\n",
      "\n",
      "Loading required package: grid\n",
      "\n",
      "========================================\n",
      "ComplexHeatmap version 2.6.2\n",
      "Bioconductor page: http://bioconductor.org/packages/ComplexHeatmap/\n",
      "Github page: https://github.com/jokergoo/ComplexHeatmap\n",
      "Documentation: http://jokergoo.github.io/ComplexHeatmap-reference\n",
      "\n",
      "If you use it in published research, please cite:\n",
      "Gu, Z. Complex heatmaps reveal patterns and correlations in multidimensional \n",
      "  genomic data. Bioinformatics 2016.\n",
      "\n",
      "This message can be suppressed by:\n",
      "  suppressPackageStartupMessages(library(ComplexHeatmap))\n",
      "========================================\n",
      "\n",
      "\n"
     ]
    }
   ],
   "source": [
    "library(tidyverse)\n",
    "library(data.table)\n",
    "library(RColorBrewer)\n",
    "library(ComplexHeatmap)\n",
    "\n",
    "setwd(\"~/eQTL_pQTL_Characterization/\")\n",
    "\n",
    "source(\"03_Functional_Interpretation/scripts/utils/ggplot_theme.R\")"
   ]
  },
  {
   "cell_type": "markdown",
   "id": "c4132185-10f6-4bdf-ab78-3048699bcc6e",
   "metadata": {},
   "source": [
    "## Load Data"
   ]
  },
  {
   "cell_type": "code",
   "execution_count": 3,
   "id": "2aec6e09-15f4-44cb-be9e-078b7557cd2a",
   "metadata": {},
   "outputs": [],
   "source": [
    "ia.homer.annot <- fread(\"~/gains_team282/epigenetics/accessibility/analysis/atac_seq/immune_atlas/homer/homer_peak_annotation.txt\", sep=\"\\t\")\n",
    "\n",
    "colnames(ia.homer.annot)[1] <- \"PeakID\"\n",
    "colnames(ia.homer.annot) <- make.names(colnames(ia.homer.annot))"
   ]
  },
  {
   "cell_type": "code",
   "execution_count": 4,
   "id": "56c12763-dfe6-4841-a651-54aff5fcea8f",
   "metadata": {},
   "outputs": [
    {
     "data": {
      "text/html": [
       "<table class=\"dataframe\">\n",
       "<caption>A data.table: 6 × 19</caption>\n",
       "<thead>\n",
       "\t<tr><th scope=col>PeakID</th><th scope=col>Chr</th><th scope=col>Start</th><th scope=col>End</th><th scope=col>Strand</th><th scope=col>Peak.Score</th><th scope=col>Focus.Ratio.Region.Size</th><th scope=col>Annotation</th><th scope=col>Detailed.Annotation</th><th scope=col>Distance.to.TSS</th><th scope=col>Nearest.PromoterID</th><th scope=col>Entrez.ID</th><th scope=col>Nearest.Unigene</th><th scope=col>Nearest.Refseq</th><th scope=col>Nearest.Ensembl</th><th scope=col>Gene.Name</th><th scope=col>Gene.Alias</th><th scope=col>Gene.Description</th><th scope=col>Gene.Type</th></tr>\n",
       "\t<tr><th scope=col>&lt;chr&gt;</th><th scope=col>&lt;chr&gt;</th><th scope=col>&lt;int&gt;</th><th scope=col>&lt;int&gt;</th><th scope=col>&lt;chr&gt;</th><th scope=col>&lt;int&gt;</th><th scope=col>&lt;lgl&gt;</th><th scope=col>&lt;chr&gt;</th><th scope=col>&lt;chr&gt;</th><th scope=col>&lt;int&gt;</th><th scope=col>&lt;chr&gt;</th><th scope=col>&lt;chr&gt;</th><th scope=col>&lt;chr&gt;</th><th scope=col>&lt;lgl&gt;</th><th scope=col>&lt;lgl&gt;</th><th scope=col>&lt;chr&gt;</th><th scope=col>&lt;lgl&gt;</th><th scope=col>&lt;lgl&gt;</th><th scope=col>&lt;chr&gt;</th></tr>\n",
       "</thead>\n",
       "<tbody>\n",
       "\t<tr><td>17:21978952-21981777  </td><td>17        </td><td> 21978953</td><td> 21981777</td><td>+</td><td>580</td><td>NA</td><td>Intergenic                    </td><td>Intergenic                          </td><td> 76390</td><td>ENST00000580930</td><td>ENSG00000265233</td><td>ENST00000580930</td><td>NA</td><td>NA</td><td>ABBA01006766.1</td><td>NA</td><td>NA</td><td>processed_pseudogene              </td></tr>\n",
       "\t<tr><td>5:134926368-134928589 </td><td>5         </td><td>134926369</td><td>134928589</td><td>+</td><td>567</td><td>NA</td><td>promoter-TSS (ENST00000580862)</td><td>miRNA-promoter-TSS (ENST00000580862)</td><td>   557</td><td>ENST00000498999</td><td>ENSG00000247627</td><td>ENST00000498999</td><td>NA</td><td>NA</td><td>MTND4P12      </td><td>NA</td><td>NA</td><td>processed_pseudogene              </td></tr>\n",
       "\t<tr><td>16:34062456-34064987  </td><td>16        </td><td> 34062457</td><td> 34064987</td><td>+</td><td>537</td><td>NA</td><td>Intergenic                    </td><td>Intergenic                          </td><td> 12582</td><td>ENST00000566112</td><td>ENSG00000261197</td><td>ENST00000566112</td><td>NA</td><td>NA</td><td>AC133561.3    </td><td>NA</td><td>NA</td><td>processed_pseudogene              </td></tr>\n",
       "\t<tr><td>17:21968722-21970936  </td><td>17        </td><td> 21968723</td><td> 21970936</td><td>+</td><td>504</td><td>NA</td><td>Intergenic                    </td><td>Intergenic                          </td><td> 86926</td><td>ENST00000580930</td><td>ENSG00000265233</td><td>ENST00000580930</td><td>NA</td><td>NA</td><td>ABBA01006766.1</td><td>NA</td><td>NA</td><td>processed_pseudogene              </td></tr>\n",
       "\t<tr><td>KI270589.1:41516-44446</td><td>KI270589.1</td><td>    41517</td><td>    44446</td><td>+</td><td>498</td><td>NA</td><td>NA                            </td><td>NA                                  </td><td>    NA</td><td>NA             </td><td>               </td><td>               </td><td>NA</td><td>NA</td><td>              </td><td>NA</td><td>NA</td><td>                                  </td></tr>\n",
       "\t<tr><td>20:28643673-28646161  </td><td>20        </td><td> 28643674</td><td> 28646161</td><td>+</td><td>478</td><td>NA</td><td>Intergenic                    </td><td>Intergenic                          </td><td>-42074</td><td>ENST00000651774</td><td>ENSG00000282826</td><td>ENST00000650751</td><td>NA</td><td>NA</td><td>FRG1CP        </td><td>NA</td><td>NA</td><td>transcribed_unprocessed_pseudogene</td></tr>\n",
       "</tbody>\n",
       "</table>\n"
      ],
      "text/latex": [
       "A data.table: 6 × 19\n",
       "\\begin{tabular}{lllllllllllllllllll}\n",
       " PeakID & Chr & Start & End & Strand & Peak.Score & Focus.Ratio.Region.Size & Annotation & Detailed.Annotation & Distance.to.TSS & Nearest.PromoterID & Entrez.ID & Nearest.Unigene & Nearest.Refseq & Nearest.Ensembl & Gene.Name & Gene.Alias & Gene.Description & Gene.Type\\\\\n",
       " <chr> & <chr> & <int> & <int> & <chr> & <int> & <lgl> & <chr> & <chr> & <int> & <chr> & <chr> & <chr> & <lgl> & <lgl> & <chr> & <lgl> & <lgl> & <chr>\\\\\n",
       "\\hline\n",
       "\t 17:21978952-21981777   & 17         &  21978953 &  21981777 & + & 580 & NA & Intergenic                     & Intergenic                           &  76390 & ENST00000580930 & ENSG00000265233 & ENST00000580930 & NA & NA & ABBA01006766.1 & NA & NA & processed\\_pseudogene              \\\\\n",
       "\t 5:134926368-134928589  & 5          & 134926369 & 134928589 & + & 567 & NA & promoter-TSS (ENST00000580862) & miRNA-promoter-TSS (ENST00000580862) &    557 & ENST00000498999 & ENSG00000247627 & ENST00000498999 & NA & NA & MTND4P12       & NA & NA & processed\\_pseudogene              \\\\\n",
       "\t 16:34062456-34064987   & 16         &  34062457 &  34064987 & + & 537 & NA & Intergenic                     & Intergenic                           &  12582 & ENST00000566112 & ENSG00000261197 & ENST00000566112 & NA & NA & AC133561.3     & NA & NA & processed\\_pseudogene              \\\\\n",
       "\t 17:21968722-21970936   & 17         &  21968723 &  21970936 & + & 504 & NA & Intergenic                     & Intergenic                           &  86926 & ENST00000580930 & ENSG00000265233 & ENST00000580930 & NA & NA & ABBA01006766.1 & NA & NA & processed\\_pseudogene              \\\\\n",
       "\t KI270589.1:41516-44446 & KI270589.1 &     41517 &     44446 & + & 498 & NA & NA                             & NA                                   &     NA & NA              &                 &                 & NA & NA &                & NA & NA &                                   \\\\\n",
       "\t 20:28643673-28646161   & 20         &  28643674 &  28646161 & + & 478 & NA & Intergenic                     & Intergenic                           & -42074 & ENST00000651774 & ENSG00000282826 & ENST00000650751 & NA & NA & FRG1CP         & NA & NA & transcribed\\_unprocessed\\_pseudogene\\\\\n",
       "\\end{tabular}\n"
      ],
      "text/markdown": [
       "\n",
       "A data.table: 6 × 19\n",
       "\n",
       "| PeakID &lt;chr&gt; | Chr &lt;chr&gt; | Start &lt;int&gt; | End &lt;int&gt; | Strand &lt;chr&gt; | Peak.Score &lt;int&gt; | Focus.Ratio.Region.Size &lt;lgl&gt; | Annotation &lt;chr&gt; | Detailed.Annotation &lt;chr&gt; | Distance.to.TSS &lt;int&gt; | Nearest.PromoterID &lt;chr&gt; | Entrez.ID &lt;chr&gt; | Nearest.Unigene &lt;chr&gt; | Nearest.Refseq &lt;lgl&gt; | Nearest.Ensembl &lt;lgl&gt; | Gene.Name &lt;chr&gt; | Gene.Alias &lt;lgl&gt; | Gene.Description &lt;lgl&gt; | Gene.Type &lt;chr&gt; |\n",
       "|---|---|---|---|---|---|---|---|---|---|---|---|---|---|---|---|---|---|---|\n",
       "| 17:21978952-21981777   | 17         |  21978953 |  21981777 | + | 580 | NA | Intergenic                     | Intergenic                           |  76390 | ENST00000580930 | ENSG00000265233 | ENST00000580930 | NA | NA | ABBA01006766.1 | NA | NA | processed_pseudogene               |\n",
       "| 5:134926368-134928589  | 5          | 134926369 | 134928589 | + | 567 | NA | promoter-TSS (ENST00000580862) | miRNA-promoter-TSS (ENST00000580862) |    557 | ENST00000498999 | ENSG00000247627 | ENST00000498999 | NA | NA | MTND4P12       | NA | NA | processed_pseudogene               |\n",
       "| 16:34062456-34064987   | 16         |  34062457 |  34064987 | + | 537 | NA | Intergenic                     | Intergenic                           |  12582 | ENST00000566112 | ENSG00000261197 | ENST00000566112 | NA | NA | AC133561.3     | NA | NA | processed_pseudogene               |\n",
       "| 17:21968722-21970936   | 17         |  21968723 |  21970936 | + | 504 | NA | Intergenic                     | Intergenic                           |  86926 | ENST00000580930 | ENSG00000265233 | ENST00000580930 | NA | NA | ABBA01006766.1 | NA | NA | processed_pseudogene               |\n",
       "| KI270589.1:41516-44446 | KI270589.1 |     41517 |     44446 | + | 498 | NA | NA                             | NA                                   |     NA | NA              | <!----> | <!----> | NA | NA | <!----> | NA | NA | <!----> |\n",
       "| 20:28643673-28646161   | 20         |  28643674 |  28646161 | + | 478 | NA | Intergenic                     | Intergenic                           | -42074 | ENST00000651774 | ENSG00000282826 | ENST00000650751 | NA | NA | FRG1CP         | NA | NA | transcribed_unprocessed_pseudogene |\n",
       "\n"
      ],
      "text/plain": [
       "  PeakID                 Chr        Start     End       Strand Peak.Score\n",
       "1 17:21978952-21981777   17          21978953  21981777 +      580       \n",
       "2 5:134926368-134928589  5          134926369 134928589 +      567       \n",
       "3 16:34062456-34064987   16          34062457  34064987 +      537       \n",
       "4 17:21968722-21970936   17          21968723  21970936 +      504       \n",
       "5 KI270589.1:41516-44446 KI270589.1     41517     44446 +      498       \n",
       "6 20:28643673-28646161   20          28643674  28646161 +      478       \n",
       "  Focus.Ratio.Region.Size Annotation                    \n",
       "1 NA                      Intergenic                    \n",
       "2 NA                      promoter-TSS (ENST00000580862)\n",
       "3 NA                      Intergenic                    \n",
       "4 NA                      Intergenic                    \n",
       "5 NA                      NA                            \n",
       "6 NA                      Intergenic                    \n",
       "  Detailed.Annotation                  Distance.to.TSS Nearest.PromoterID\n",
       "1 Intergenic                            76390          ENST00000580930   \n",
       "2 miRNA-promoter-TSS (ENST00000580862)    557          ENST00000498999   \n",
       "3 Intergenic                            12582          ENST00000566112   \n",
       "4 Intergenic                            86926          ENST00000580930   \n",
       "5 NA                                       NA          NA                \n",
       "6 Intergenic                           -42074          ENST00000651774   \n",
       "  Entrez.ID       Nearest.Unigene Nearest.Refseq Nearest.Ensembl Gene.Name     \n",
       "1 ENSG00000265233 ENST00000580930 NA             NA              ABBA01006766.1\n",
       "2 ENSG00000247627 ENST00000498999 NA             NA              MTND4P12      \n",
       "3 ENSG00000261197 ENST00000566112 NA             NA              AC133561.3    \n",
       "4 ENSG00000265233 ENST00000580930 NA             NA              ABBA01006766.1\n",
       "5                                 NA             NA                            \n",
       "6 ENSG00000282826 ENST00000650751 NA             NA              FRG1CP        \n",
       "  Gene.Alias Gene.Description Gene.Type                         \n",
       "1 NA         NA               processed_pseudogene              \n",
       "2 NA         NA               processed_pseudogene              \n",
       "3 NA         NA               processed_pseudogene              \n",
       "4 NA         NA               processed_pseudogene              \n",
       "5 NA         NA                                                 \n",
       "6 NA         NA               transcribed_unprocessed_pseudogene"
      ]
     },
     "metadata": {},
     "output_type": "display_data"
    }
   ],
   "source": [
    "head(ia.homer.annot)"
   ]
  },
  {
   "cell_type": "code",
   "execution_count": 5,
   "id": "27afbf8e-17e1-45ac-8db2-dda6f383fe05",
   "metadata": {},
   "outputs": [],
   "source": [
    "rm.homer.annot <- fread(\"~/gains_team282/epigenetics/accessibility/analysis/atac_seq/neutrophil_atlas/homer/homer_peak_annotation.txt\", sep=\"\\t\")\n",
    "\n",
    "colnames(rm.homer.annot)[1] <- \"PeakID\"\n",
    "colnames(rm.homer.annot) <- make.names(colnames(rm.homer.annot))"
   ]
  },
  {
   "cell_type": "code",
   "execution_count": 6,
   "id": "b6d7afaa-60fe-4864-bb55-938268378367",
   "metadata": {},
   "outputs": [
    {
     "data": {
      "text/html": [
       "<table class=\"dataframe\">\n",
       "<caption>A data.table: 6 × 19</caption>\n",
       "<thead>\n",
       "\t<tr><th scope=col>PeakID</th><th scope=col>Chr</th><th scope=col>Start</th><th scope=col>End</th><th scope=col>Strand</th><th scope=col>Peak.Score</th><th scope=col>Focus.Ratio.Region.Size</th><th scope=col>Annotation</th><th scope=col>Detailed.Annotation</th><th scope=col>Distance.to.TSS</th><th scope=col>Nearest.PromoterID</th><th scope=col>Entrez.ID</th><th scope=col>Nearest.Unigene</th><th scope=col>Nearest.Refseq</th><th scope=col>Nearest.Ensembl</th><th scope=col>Gene.Name</th><th scope=col>Gene.Alias</th><th scope=col>Gene.Description</th><th scope=col>Gene.Type</th></tr>\n",
       "\t<tr><th scope=col>&lt;chr&gt;</th><th scope=col>&lt;chr&gt;</th><th scope=col>&lt;int&gt;</th><th scope=col>&lt;int&gt;</th><th scope=col>&lt;chr&gt;</th><th scope=col>&lt;int&gt;</th><th scope=col>&lt;lgl&gt;</th><th scope=col>&lt;chr&gt;</th><th scope=col>&lt;chr&gt;</th><th scope=col>&lt;int&gt;</th><th scope=col>&lt;chr&gt;</th><th scope=col>&lt;chr&gt;</th><th scope=col>&lt;chr&gt;</th><th scope=col>&lt;lgl&gt;</th><th scope=col>&lt;lgl&gt;</th><th scope=col>&lt;chr&gt;</th><th scope=col>&lt;lgl&gt;</th><th scope=col>&lt;lgl&gt;</th><th scope=col>&lt;chr&gt;</th></tr>\n",
       "</thead>\n",
       "<tbody>\n",
       "\t<tr><td>17:21978952-21981777    </td><td>17        </td><td> 21978953</td><td> 21981777</td><td>+</td><td>580</td><td>NA</td><td>Intergenic                    </td><td>Intergenic                          </td><td>76390</td><td>ENST00000580930</td><td>ENSG00000265233</td><td>ENST00000580930</td><td>NA</td><td>NA</td><td>ABBA01006766.1</td><td>NA</td><td>NA</td><td>processed_pseudogene</td></tr>\n",
       "\t<tr><td>5:134926368-134928589   </td><td>5         </td><td>134926369</td><td>134928589</td><td>+</td><td>567</td><td>NA</td><td>promoter-TSS (ENST00000580862)</td><td>miRNA-promoter-TSS (ENST00000580862)</td><td>  557</td><td>ENST00000498999</td><td>ENSG00000247627</td><td>ENST00000498999</td><td>NA</td><td>NA</td><td>MTND4P12      </td><td>NA</td><td>NA</td><td>processed_pseudogene</td></tr>\n",
       "\t<tr><td>16:34062456-34064987    </td><td>16        </td><td> 34062457</td><td> 34064987</td><td>+</td><td>537</td><td>NA</td><td>Intergenic                    </td><td>Intergenic                          </td><td>12582</td><td>ENST00000566112</td><td>ENSG00000261197</td><td>ENST00000566112</td><td>NA</td><td>NA</td><td>AC133561.3    </td><td>NA</td><td>NA</td><td>processed_pseudogene</td></tr>\n",
       "\t<tr><td>17:21968722-21970936    </td><td>17        </td><td> 21968723</td><td> 21970936</td><td>+</td><td>504</td><td>NA</td><td>Intergenic                    </td><td>Intergenic                          </td><td>86926</td><td>ENST00000580930</td><td>ENSG00000265233</td><td>ENST00000580930</td><td>NA</td><td>NA</td><td>ABBA01006766.1</td><td>NA</td><td>NA</td><td>processed_pseudogene</td></tr>\n",
       "\t<tr><td>KI270589.1:41516-44446  </td><td>KI270589.1</td><td>    41517</td><td>    44446</td><td>+</td><td>498</td><td>NA</td><td>NA                            </td><td>NA                                  </td><td>   NA</td><td>NA             </td><td>               </td><td>               </td><td>NA</td><td>NA</td><td>              </td><td>NA</td><td>NA</td><td>                    </td></tr>\n",
       "\t<tr><td>KI270730.1:107958-110275</td><td>KI270730.1</td><td>   107959</td><td>   110275</td><td>+</td><td>478</td><td>NA</td><td>NA                            </td><td>NA                                  </td><td>   NA</td><td>NA             </td><td>               </td><td>               </td><td>NA</td><td>NA</td><td>              </td><td>NA</td><td>NA</td><td>                    </td></tr>\n",
       "</tbody>\n",
       "</table>\n"
      ],
      "text/latex": [
       "A data.table: 6 × 19\n",
       "\\begin{tabular}{lllllllllllllllllll}\n",
       " PeakID & Chr & Start & End & Strand & Peak.Score & Focus.Ratio.Region.Size & Annotation & Detailed.Annotation & Distance.to.TSS & Nearest.PromoterID & Entrez.ID & Nearest.Unigene & Nearest.Refseq & Nearest.Ensembl & Gene.Name & Gene.Alias & Gene.Description & Gene.Type\\\\\n",
       " <chr> & <chr> & <int> & <int> & <chr> & <int> & <lgl> & <chr> & <chr> & <int> & <chr> & <chr> & <chr> & <lgl> & <lgl> & <chr> & <lgl> & <lgl> & <chr>\\\\\n",
       "\\hline\n",
       "\t 17:21978952-21981777     & 17         &  21978953 &  21981777 & + & 580 & NA & Intergenic                     & Intergenic                           & 76390 & ENST00000580930 & ENSG00000265233 & ENST00000580930 & NA & NA & ABBA01006766.1 & NA & NA & processed\\_pseudogene\\\\\n",
       "\t 5:134926368-134928589    & 5          & 134926369 & 134928589 & + & 567 & NA & promoter-TSS (ENST00000580862) & miRNA-promoter-TSS (ENST00000580862) &   557 & ENST00000498999 & ENSG00000247627 & ENST00000498999 & NA & NA & MTND4P12       & NA & NA & processed\\_pseudogene\\\\\n",
       "\t 16:34062456-34064987     & 16         &  34062457 &  34064987 & + & 537 & NA & Intergenic                     & Intergenic                           & 12582 & ENST00000566112 & ENSG00000261197 & ENST00000566112 & NA & NA & AC133561.3     & NA & NA & processed\\_pseudogene\\\\\n",
       "\t 17:21968722-21970936     & 17         &  21968723 &  21970936 & + & 504 & NA & Intergenic                     & Intergenic                           & 86926 & ENST00000580930 & ENSG00000265233 & ENST00000580930 & NA & NA & ABBA01006766.1 & NA & NA & processed\\_pseudogene\\\\\n",
       "\t KI270589.1:41516-44446   & KI270589.1 &     41517 &     44446 & + & 498 & NA & NA                             & NA                                   &    NA & NA              &                 &                 & NA & NA &                & NA & NA &                     \\\\\n",
       "\t KI270730.1:107958-110275 & KI270730.1 &    107959 &    110275 & + & 478 & NA & NA                             & NA                                   &    NA & NA              &                 &                 & NA & NA &                & NA & NA &                     \\\\\n",
       "\\end{tabular}\n"
      ],
      "text/markdown": [
       "\n",
       "A data.table: 6 × 19\n",
       "\n",
       "| PeakID &lt;chr&gt; | Chr &lt;chr&gt; | Start &lt;int&gt; | End &lt;int&gt; | Strand &lt;chr&gt; | Peak.Score &lt;int&gt; | Focus.Ratio.Region.Size &lt;lgl&gt; | Annotation &lt;chr&gt; | Detailed.Annotation &lt;chr&gt; | Distance.to.TSS &lt;int&gt; | Nearest.PromoterID &lt;chr&gt; | Entrez.ID &lt;chr&gt; | Nearest.Unigene &lt;chr&gt; | Nearest.Refseq &lt;lgl&gt; | Nearest.Ensembl &lt;lgl&gt; | Gene.Name &lt;chr&gt; | Gene.Alias &lt;lgl&gt; | Gene.Description &lt;lgl&gt; | Gene.Type &lt;chr&gt; |\n",
       "|---|---|---|---|---|---|---|---|---|---|---|---|---|---|---|---|---|---|---|\n",
       "| 17:21978952-21981777     | 17         |  21978953 |  21981777 | + | 580 | NA | Intergenic                     | Intergenic                           | 76390 | ENST00000580930 | ENSG00000265233 | ENST00000580930 | NA | NA | ABBA01006766.1 | NA | NA | processed_pseudogene |\n",
       "| 5:134926368-134928589    | 5          | 134926369 | 134928589 | + | 567 | NA | promoter-TSS (ENST00000580862) | miRNA-promoter-TSS (ENST00000580862) |   557 | ENST00000498999 | ENSG00000247627 | ENST00000498999 | NA | NA | MTND4P12       | NA | NA | processed_pseudogene |\n",
       "| 16:34062456-34064987     | 16         |  34062457 |  34064987 | + | 537 | NA | Intergenic                     | Intergenic                           | 12582 | ENST00000566112 | ENSG00000261197 | ENST00000566112 | NA | NA | AC133561.3     | NA | NA | processed_pseudogene |\n",
       "| 17:21968722-21970936     | 17         |  21968723 |  21970936 | + | 504 | NA | Intergenic                     | Intergenic                           | 86926 | ENST00000580930 | ENSG00000265233 | ENST00000580930 | NA | NA | ABBA01006766.1 | NA | NA | processed_pseudogene |\n",
       "| KI270589.1:41516-44446   | KI270589.1 |     41517 |     44446 | + | 498 | NA | NA                             | NA                                   |    NA | NA              | <!----> | <!----> | NA | NA | <!----> | NA | NA | <!----> |\n",
       "| KI270730.1:107958-110275 | KI270730.1 |    107959 |    110275 | + | 478 | NA | NA                             | NA                                   |    NA | NA              | <!----> | <!----> | NA | NA | <!----> | NA | NA | <!----> |\n",
       "\n"
      ],
      "text/plain": [
       "  PeakID                   Chr        Start     End       Strand Peak.Score\n",
       "1 17:21978952-21981777     17          21978953  21981777 +      580       \n",
       "2 5:134926368-134928589    5          134926369 134928589 +      567       \n",
       "3 16:34062456-34064987     16          34062457  34064987 +      537       \n",
       "4 17:21968722-21970936     17          21968723  21970936 +      504       \n",
       "5 KI270589.1:41516-44446   KI270589.1     41517     44446 +      498       \n",
       "6 KI270730.1:107958-110275 KI270730.1    107959    110275 +      478       \n",
       "  Focus.Ratio.Region.Size Annotation                    \n",
       "1 NA                      Intergenic                    \n",
       "2 NA                      promoter-TSS (ENST00000580862)\n",
       "3 NA                      Intergenic                    \n",
       "4 NA                      Intergenic                    \n",
       "5 NA                      NA                            \n",
       "6 NA                      NA                            \n",
       "  Detailed.Annotation                  Distance.to.TSS Nearest.PromoterID\n",
       "1 Intergenic                           76390           ENST00000580930   \n",
       "2 miRNA-promoter-TSS (ENST00000580862)   557           ENST00000498999   \n",
       "3 Intergenic                           12582           ENST00000566112   \n",
       "4 Intergenic                           86926           ENST00000580930   \n",
       "5 NA                                      NA           NA                \n",
       "6 NA                                      NA           NA                \n",
       "  Entrez.ID       Nearest.Unigene Nearest.Refseq Nearest.Ensembl Gene.Name     \n",
       "1 ENSG00000265233 ENST00000580930 NA             NA              ABBA01006766.1\n",
       "2 ENSG00000247627 ENST00000498999 NA             NA              MTND4P12      \n",
       "3 ENSG00000261197 ENST00000566112 NA             NA              AC133561.3    \n",
       "4 ENSG00000265233 ENST00000580930 NA             NA              ABBA01006766.1\n",
       "5                                 NA             NA                            \n",
       "6                                 NA             NA                            \n",
       "  Gene.Alias Gene.Description Gene.Type           \n",
       "1 NA         NA               processed_pseudogene\n",
       "2 NA         NA               processed_pseudogene\n",
       "3 NA         NA               processed_pseudogene\n",
       "4 NA         NA               processed_pseudogene\n",
       "5 NA         NA                                   \n",
       "6 NA         NA                                   "
      ]
     },
     "metadata": {},
     "output_type": "display_data"
    }
   ],
   "source": [
    "head(rm.homer.annot)"
   ]
  },
  {
   "cell_type": "code",
   "execution_count": 7,
   "id": "9c3995ee-5714-4e8e-a277-2e8ecbbac71f",
   "metadata": {},
   "outputs": [],
   "source": [
    "ia.da.peaks <- read.csv(\"~/gains_team282/epigenetics/accessibility/analysis/atac_seq/da_peak_ia_set.csv\", row.names=1)"
   ]
  },
  {
   "cell_type": "code",
   "execution_count": 8,
   "id": "8b1a9187-713d-4113-90f4-0bbb9a8e90d3",
   "metadata": {},
   "outputs": [
    {
     "data": {
      "text/html": [
       "<table class=\"dataframe\">\n",
       "<caption>A data.frame: 6 × 12</caption>\n",
       "<thead>\n",
       "\t<tr><th></th><th scope=col>Contrast</th><th scope=col>Cell.Type</th><th scope=col>Peak.ID</th><th scope=col>Peak.Chr</th><th scope=col>Peak.Start</th><th scope=col>Peak.End</th><th scope=col>logFC</th><th scope=col>AveExpr</th><th scope=col>t</th><th scope=col>P.Value</th><th scope=col>adj.P.Val</th><th scope=col>B</th></tr>\n",
       "\t<tr><th></th><th scope=col>&lt;chr&gt;</th><th scope=col>&lt;chr&gt;</th><th scope=col>&lt;chr&gt;</th><th scope=col>&lt;chr&gt;</th><th scope=col>&lt;int&gt;</th><th scope=col>&lt;int&gt;</th><th scope=col>&lt;dbl&gt;</th><th scope=col>&lt;dbl&gt;</th><th scope=col>&lt;dbl&gt;</th><th scope=col>&lt;dbl&gt;</th><th scope=col>&lt;dbl&gt;</th><th scope=col>&lt;dbl&gt;</th></tr>\n",
       "</thead>\n",
       "<tbody>\n",
       "\t<tr><th scope=row>1</th><td>Bulk_B_Stimulated-Bulk_B_Baseline</td><td>Bulk_B</td><td>9:99471421-99473127 </td><td>9 </td><td>99471421</td><td>99473127</td><td>4.595518</td><td>0.7066744</td><td>11.638235</td><td>1.796624e-23</td><td>9.354896e-18</td><td>40.81007</td></tr>\n",
       "\t<tr><th scope=row>2</th><td>Bulk_B_Stimulated-Bulk_B_Baseline</td><td>Bulk_B</td><td>10:90977111-90978775</td><td>10</td><td>90977111</td><td>90978775</td><td>3.274519</td><td>1.2295123</td><td>11.180137</td><td>3.607667e-22</td><td>9.392434e-17</td><td>38.71995</td></tr>\n",
       "\t<tr><th scope=row>3</th><td>Bulk_B_Stimulated-Bulk_B_Baseline</td><td>Bulk_B</td><td>21:14559004-14559721</td><td>21</td><td>14559004</td><td>14559721</td><td>4.160939</td><td>0.4478270</td><td>10.342869</td><td>8.255022e-20</td><td>1.432777e-14</td><td>33.07684</td></tr>\n",
       "\t<tr><th scope=row>4</th><td>Bulk_B_Stimulated-Bulk_B_Baseline</td><td>Bulk_B</td><td>10:5830337-5831542  </td><td>10</td><td> 5830337</td><td> 5831542</td><td>3.072278</td><td>1.2447989</td><td>10.213600</td><td>1.895638e-19</td><td>2.467614e-14</td><td>32.83041</td></tr>\n",
       "\t<tr><th scope=row>5</th><td>Bulk_B_Stimulated-Bulk_B_Baseline</td><td>Bulk_B</td><td>13:50244295-50245833</td><td>13</td><td>50244295</td><td>50245833</td><td>3.775304</td><td>3.1500103</td><td> 9.782001</td><td>2.987349e-18</td><td>3.110983e-13</td><td>30.50595</td></tr>\n",
       "\t<tr><th scope=row>6</th><td>Bulk_B_Stimulated-Bulk_B_Baseline</td><td>Bulk_B</td><td>16:19293854-19294928</td><td>16</td><td>19293854</td><td>19294928</td><td>5.096038</td><td>1.0018183</td><td> 9.643369</td><td>7.195948e-18</td><td>6.244800e-13</td><td>28.86840</td></tr>\n",
       "</tbody>\n",
       "</table>\n"
      ],
      "text/latex": [
       "A data.frame: 6 × 12\n",
       "\\begin{tabular}{r|llllllllllll}\n",
       "  & Contrast & Cell.Type & Peak.ID & Peak.Chr & Peak.Start & Peak.End & logFC & AveExpr & t & P.Value & adj.P.Val & B\\\\\n",
       "  & <chr> & <chr> & <chr> & <chr> & <int> & <int> & <dbl> & <dbl> & <dbl> & <dbl> & <dbl> & <dbl>\\\\\n",
       "\\hline\n",
       "\t1 & Bulk\\_B\\_Stimulated-Bulk\\_B\\_Baseline & Bulk\\_B & 9:99471421-99473127  & 9  & 99471421 & 99473127 & 4.595518 & 0.7066744 & 11.638235 & 1.796624e-23 & 9.354896e-18 & 40.81007\\\\\n",
       "\t2 & Bulk\\_B\\_Stimulated-Bulk\\_B\\_Baseline & Bulk\\_B & 10:90977111-90978775 & 10 & 90977111 & 90978775 & 3.274519 & 1.2295123 & 11.180137 & 3.607667e-22 & 9.392434e-17 & 38.71995\\\\\n",
       "\t3 & Bulk\\_B\\_Stimulated-Bulk\\_B\\_Baseline & Bulk\\_B & 21:14559004-14559721 & 21 & 14559004 & 14559721 & 4.160939 & 0.4478270 & 10.342869 & 8.255022e-20 & 1.432777e-14 & 33.07684\\\\\n",
       "\t4 & Bulk\\_B\\_Stimulated-Bulk\\_B\\_Baseline & Bulk\\_B & 10:5830337-5831542   & 10 &  5830337 &  5831542 & 3.072278 & 1.2447989 & 10.213600 & 1.895638e-19 & 2.467614e-14 & 32.83041\\\\\n",
       "\t5 & Bulk\\_B\\_Stimulated-Bulk\\_B\\_Baseline & Bulk\\_B & 13:50244295-50245833 & 13 & 50244295 & 50245833 & 3.775304 & 3.1500103 &  9.782001 & 2.987349e-18 & 3.110983e-13 & 30.50595\\\\\n",
       "\t6 & Bulk\\_B\\_Stimulated-Bulk\\_B\\_Baseline & Bulk\\_B & 16:19293854-19294928 & 16 & 19293854 & 19294928 & 5.096038 & 1.0018183 &  9.643369 & 7.195948e-18 & 6.244800e-13 & 28.86840\\\\\n",
       "\\end{tabular}\n"
      ],
      "text/markdown": [
       "\n",
       "A data.frame: 6 × 12\n",
       "\n",
       "| <!--/--> | Contrast &lt;chr&gt; | Cell.Type &lt;chr&gt; | Peak.ID &lt;chr&gt; | Peak.Chr &lt;chr&gt; | Peak.Start &lt;int&gt; | Peak.End &lt;int&gt; | logFC &lt;dbl&gt; | AveExpr &lt;dbl&gt; | t &lt;dbl&gt; | P.Value &lt;dbl&gt; | adj.P.Val &lt;dbl&gt; | B &lt;dbl&gt; |\n",
       "|---|---|---|---|---|---|---|---|---|---|---|---|---|\n",
       "| 1 | Bulk_B_Stimulated-Bulk_B_Baseline | Bulk_B | 9:99471421-99473127  | 9  | 99471421 | 99473127 | 4.595518 | 0.7066744 | 11.638235 | 1.796624e-23 | 9.354896e-18 | 40.81007 |\n",
       "| 2 | Bulk_B_Stimulated-Bulk_B_Baseline | Bulk_B | 10:90977111-90978775 | 10 | 90977111 | 90978775 | 3.274519 | 1.2295123 | 11.180137 | 3.607667e-22 | 9.392434e-17 | 38.71995 |\n",
       "| 3 | Bulk_B_Stimulated-Bulk_B_Baseline | Bulk_B | 21:14559004-14559721 | 21 | 14559004 | 14559721 | 4.160939 | 0.4478270 | 10.342869 | 8.255022e-20 | 1.432777e-14 | 33.07684 |\n",
       "| 4 | Bulk_B_Stimulated-Bulk_B_Baseline | Bulk_B | 10:5830337-5831542   | 10 |  5830337 |  5831542 | 3.072278 | 1.2447989 | 10.213600 | 1.895638e-19 | 2.467614e-14 | 32.83041 |\n",
       "| 5 | Bulk_B_Stimulated-Bulk_B_Baseline | Bulk_B | 13:50244295-50245833 | 13 | 50244295 | 50245833 | 3.775304 | 3.1500103 |  9.782001 | 2.987349e-18 | 3.110983e-13 | 30.50595 |\n",
       "| 6 | Bulk_B_Stimulated-Bulk_B_Baseline | Bulk_B | 16:19293854-19294928 | 16 | 19293854 | 19294928 | 5.096038 | 1.0018183 |  9.643369 | 7.195948e-18 | 6.244800e-13 | 28.86840 |\n",
       "\n"
      ],
      "text/plain": [
       "  Contrast                          Cell.Type Peak.ID              Peak.Chr\n",
       "1 Bulk_B_Stimulated-Bulk_B_Baseline Bulk_B    9:99471421-99473127  9       \n",
       "2 Bulk_B_Stimulated-Bulk_B_Baseline Bulk_B    10:90977111-90978775 10      \n",
       "3 Bulk_B_Stimulated-Bulk_B_Baseline Bulk_B    21:14559004-14559721 21      \n",
       "4 Bulk_B_Stimulated-Bulk_B_Baseline Bulk_B    10:5830337-5831542   10      \n",
       "5 Bulk_B_Stimulated-Bulk_B_Baseline Bulk_B    13:50244295-50245833 13      \n",
       "6 Bulk_B_Stimulated-Bulk_B_Baseline Bulk_B    16:19293854-19294928 16      \n",
       "  Peak.Start Peak.End logFC    AveExpr   t         P.Value      adj.P.Val   \n",
       "1 99471421   99473127 4.595518 0.7066744 11.638235 1.796624e-23 9.354896e-18\n",
       "2 90977111   90978775 3.274519 1.2295123 11.180137 3.607667e-22 9.392434e-17\n",
       "3 14559004   14559721 4.160939 0.4478270 10.342869 8.255022e-20 1.432777e-14\n",
       "4  5830337    5831542 3.072278 1.2447989 10.213600 1.895638e-19 2.467614e-14\n",
       "5 50244295   50245833 3.775304 3.1500103  9.782001 2.987349e-18 3.110983e-13\n",
       "6 19293854   19294928 5.096038 1.0018183  9.643369 7.195948e-18 6.244800e-13\n",
       "  B       \n",
       "1 40.81007\n",
       "2 38.71995\n",
       "3 33.07684\n",
       "4 32.83041\n",
       "5 30.50595\n",
       "6 28.86840"
      ]
     },
     "metadata": {},
     "output_type": "display_data"
    }
   ],
   "source": [
    "head(ia.da.peaks)"
   ]
  },
  {
   "cell_type": "code",
   "execution_count": 9,
   "id": "05e0b72f-87cd-479d-9a5d-57f4dfb6f0f1",
   "metadata": {},
   "outputs": [],
   "source": [
    "rm.da.peaks <- read.csv(\"~/gains_team282/epigenetics/accessibility/analysis/atac_seq/da_peak_rm_set.csv\", row.names=1)"
   ]
  },
  {
   "cell_type": "code",
   "execution_count": 10,
   "id": "f34ea0b6-eff2-451b-8445-fb1718776f14",
   "metadata": {},
   "outputs": [
    {
     "data": {
      "text/html": [
       "<table class=\"dataframe\">\n",
       "<caption>A data.frame: 6 × 12</caption>\n",
       "<thead>\n",
       "\t<tr><th></th><th scope=col>Contrast</th><th scope=col>Treatment</th><th scope=col>Peak.ID</th><th scope=col>Peak.Chr</th><th scope=col>Peak.Start</th><th scope=col>Peak.End</th><th scope=col>logFC</th><th scope=col>AveExpr</th><th scope=col>t</th><th scope=col>P.Value</th><th scope=col>adj.P.Val</th><th scope=col>B</th></tr>\n",
       "\t<tr><th></th><th scope=col>&lt;chr&gt;</th><th scope=col>&lt;chr&gt;</th><th scope=col>&lt;chr&gt;</th><th scope=col>&lt;chr&gt;</th><th scope=col>&lt;int&gt;</th><th scope=col>&lt;int&gt;</th><th scope=col>&lt;dbl&gt;</th><th scope=col>&lt;dbl&gt;</th><th scope=col>&lt;dbl&gt;</th><th scope=col>&lt;dbl&gt;</th><th scope=col>&lt;dbl&gt;</th><th scope=col>&lt;dbl&gt;</th></tr>\n",
       "</thead>\n",
       "<tbody>\n",
       "\t<tr><th scope=row>1</th><td>BGP-Baseline</td><td>BGP</td><td>KI270544.1:31-1184   </td><td>KI270544.1</td><td>       31</td><td>     1184</td><td>-1.447298</td><td>3.947764</td><td>-9.070917</td><td>7.083231e-17</td><td>7.838988e-12</td><td>27.668634</td></tr>\n",
       "\t<tr><th scope=row>2</th><td>BGP-Baseline</td><td>BGP</td><td>12:37245731-37247489 </td><td>12        </td><td> 37245731</td><td> 37247489</td><td>-1.078930</td><td>3.817478</td><td>-7.113044</td><td>1.610547e-11</td><td>5.320069e-07</td><td>15.794319</td></tr>\n",
       "\t<tr><th scope=row>3</th><td>BGP-Baseline</td><td>BGP</td><td>9:131697297-131699134</td><td>9         </td><td>131697297</td><td>131699134</td><td> 1.213276</td><td>3.099338</td><td> 6.220933</td><td>2.495496e-09</td><td>5.640150e-05</td><td>10.932631</td></tr>\n",
       "\t<tr><th scope=row>4</th><td>BGP-Baseline</td><td>BGP</td><td>2:121609869-121612518</td><td>2         </td><td>121609869</td><td>121612518</td><td>-1.221984</td><td>3.134198</td><td>-6.165224</td><td>3.370620e-09</td><td>7.035032e-05</td><td>10.641068</td></tr>\n",
       "\t<tr><th scope=row>5</th><td>BGP-Baseline</td><td>BGP</td><td>17:81148442-81151179 </td><td>17        </td><td> 81148442</td><td> 81151179</td><td> 1.092273</td><td>3.579900</td><td> 6.001654</td><td>8.063875e-09</td><td>1.505578e-04</td><td> 9.847272</td></tr>\n",
       "\t<tr><th scope=row>6</th><td>BGP-Baseline</td><td>BGP</td><td>12:35748889-35750185 </td><td>12        </td><td> 35748889</td><td> 35750185</td><td>-1.467389</td><td>1.874208</td><td>-5.688442</td><td>4.099651e-08</td><td>7.041970e-04</td><td> 8.144965</td></tr>\n",
       "</tbody>\n",
       "</table>\n"
      ],
      "text/latex": [
       "A data.frame: 6 × 12\n",
       "\\begin{tabular}{r|llllllllllll}\n",
       "  & Contrast & Treatment & Peak.ID & Peak.Chr & Peak.Start & Peak.End & logFC & AveExpr & t & P.Value & adj.P.Val & B\\\\\n",
       "  & <chr> & <chr> & <chr> & <chr> & <int> & <int> & <dbl> & <dbl> & <dbl> & <dbl> & <dbl> & <dbl>\\\\\n",
       "\\hline\n",
       "\t1 & BGP-Baseline & BGP & KI270544.1:31-1184    & KI270544.1 &        31 &      1184 & -1.447298 & 3.947764 & -9.070917 & 7.083231e-17 & 7.838988e-12 & 27.668634\\\\\n",
       "\t2 & BGP-Baseline & BGP & 12:37245731-37247489  & 12         &  37245731 &  37247489 & -1.078930 & 3.817478 & -7.113044 & 1.610547e-11 & 5.320069e-07 & 15.794319\\\\\n",
       "\t3 & BGP-Baseline & BGP & 9:131697297-131699134 & 9          & 131697297 & 131699134 &  1.213276 & 3.099338 &  6.220933 & 2.495496e-09 & 5.640150e-05 & 10.932631\\\\\n",
       "\t4 & BGP-Baseline & BGP & 2:121609869-121612518 & 2          & 121609869 & 121612518 & -1.221984 & 3.134198 & -6.165224 & 3.370620e-09 & 7.035032e-05 & 10.641068\\\\\n",
       "\t5 & BGP-Baseline & BGP & 17:81148442-81151179  & 17         &  81148442 &  81151179 &  1.092273 & 3.579900 &  6.001654 & 8.063875e-09 & 1.505578e-04 &  9.847272\\\\\n",
       "\t6 & BGP-Baseline & BGP & 12:35748889-35750185  & 12         &  35748889 &  35750185 & -1.467389 & 1.874208 & -5.688442 & 4.099651e-08 & 7.041970e-04 &  8.144965\\\\\n",
       "\\end{tabular}\n"
      ],
      "text/markdown": [
       "\n",
       "A data.frame: 6 × 12\n",
       "\n",
       "| <!--/--> | Contrast &lt;chr&gt; | Treatment &lt;chr&gt; | Peak.ID &lt;chr&gt; | Peak.Chr &lt;chr&gt; | Peak.Start &lt;int&gt; | Peak.End &lt;int&gt; | logFC &lt;dbl&gt; | AveExpr &lt;dbl&gt; | t &lt;dbl&gt; | P.Value &lt;dbl&gt; | adj.P.Val &lt;dbl&gt; | B &lt;dbl&gt; |\n",
       "|---|---|---|---|---|---|---|---|---|---|---|---|---|\n",
       "| 1 | BGP-Baseline | BGP | KI270544.1:31-1184    | KI270544.1 |        31 |      1184 | -1.447298 | 3.947764 | -9.070917 | 7.083231e-17 | 7.838988e-12 | 27.668634 |\n",
       "| 2 | BGP-Baseline | BGP | 12:37245731-37247489  | 12         |  37245731 |  37247489 | -1.078930 | 3.817478 | -7.113044 | 1.610547e-11 | 5.320069e-07 | 15.794319 |\n",
       "| 3 | BGP-Baseline | BGP | 9:131697297-131699134 | 9          | 131697297 | 131699134 |  1.213276 | 3.099338 |  6.220933 | 2.495496e-09 | 5.640150e-05 | 10.932631 |\n",
       "| 4 | BGP-Baseline | BGP | 2:121609869-121612518 | 2          | 121609869 | 121612518 | -1.221984 | 3.134198 | -6.165224 | 3.370620e-09 | 7.035032e-05 | 10.641068 |\n",
       "| 5 | BGP-Baseline | BGP | 17:81148442-81151179  | 17         |  81148442 |  81151179 |  1.092273 | 3.579900 |  6.001654 | 8.063875e-09 | 1.505578e-04 |  9.847272 |\n",
       "| 6 | BGP-Baseline | BGP | 12:35748889-35750185  | 12         |  35748889 |  35750185 | -1.467389 | 1.874208 | -5.688442 | 4.099651e-08 | 7.041970e-04 |  8.144965 |\n",
       "\n"
      ],
      "text/plain": [
       "  Contrast     Treatment Peak.ID               Peak.Chr   Peak.Start Peak.End \n",
       "1 BGP-Baseline BGP       KI270544.1:31-1184    KI270544.1        31       1184\n",
       "2 BGP-Baseline BGP       12:37245731-37247489  12          37245731   37247489\n",
       "3 BGP-Baseline BGP       9:131697297-131699134 9          131697297  131699134\n",
       "4 BGP-Baseline BGP       2:121609869-121612518 2          121609869  121612518\n",
       "5 BGP-Baseline BGP       17:81148442-81151179  17          81148442   81151179\n",
       "6 BGP-Baseline BGP       12:35748889-35750185  12          35748889   35750185\n",
       "  logFC     AveExpr  t         P.Value      adj.P.Val    B        \n",
       "1 -1.447298 3.947764 -9.070917 7.083231e-17 7.838988e-12 27.668634\n",
       "2 -1.078930 3.817478 -7.113044 1.610547e-11 5.320069e-07 15.794319\n",
       "3  1.213276 3.099338  6.220933 2.495496e-09 5.640150e-05 10.932631\n",
       "4 -1.221984 3.134198 -6.165224 3.370620e-09 7.035032e-05 10.641068\n",
       "5  1.092273 3.579900  6.001654 8.063875e-09 1.505578e-04  9.847272\n",
       "6 -1.467389 1.874208 -5.688442 4.099651e-08 7.041970e-04  8.144965"
      ]
     },
     "metadata": {},
     "output_type": "display_data"
    }
   ],
   "source": [
    "head(rm.da.peaks)"
   ]
  },
  {
   "cell_type": "code",
   "execution_count": 11,
   "id": "5bea7574-3bf2-4c49-9b56-ffe4e2a289da",
   "metadata": {},
   "outputs": [],
   "source": [
    "ia.up.enriched.motifs <- lapply(unique(ia.da.peaks$Cell.Type), function(cell.type) {\n",
    "\n",
    "    file.path = paste0(\"~/gains_team282/epigenetics/accessibility/analysis/atac_seq/immune_atlas/homer/\", cell.type, \"/\", cell.type, \".up.enrichment.tsv\")\n",
    "\n",
    "    if (file.info(file.path)$size == 0) {\n",
    "        return(data.frame())\n",
    "    }\n",
    "    \n",
    "    read.table(file.path, sep=\"\\t\", comment.char=\"#\", header=T) %>%\n",
    "        dplyr::mutate(Factor=gsub(\"^[^.]+\\\\.[^.]+\\\\.\", \"\", ALT_ID)) %>%\n",
    "        dplyr::mutate(Cell.Type=cell.type) %>%\n",
    "        dplyr::select(Cell.Type, Factor, everything(), -DB)\n",
    "})\n",
    "ia.up.enriched.motifs <- do.call(rbind, ia.up.enriched.motifs)"
   ]
  },
  {
   "cell_type": "code",
   "execution_count": 13,
   "id": "7e29259e-5810-485d-8048-435b7a39ac81",
   "metadata": {},
   "outputs": [
    {
     "data": {
      "text/html": [
       "<table class=\"dataframe\">\n",
       "<caption>A data.frame: 6 × 18</caption>\n",
       "<thead>\n",
       "\t<tr><th></th><th scope=col>Cell.Type</th><th scope=col>Factor</th><th scope=col>RANK</th><th scope=col>ID</th><th scope=col>ALT_ID</th><th scope=col>CONSENSUS</th><th scope=col>TP</th><th scope=col>TP.</th><th scope=col>FP</th><th scope=col>FP.</th><th scope=col>ENR_RATIO</th><th scope=col>SCORE_THR</th><th scope=col>PVALUE</th><th scope=col>LOG_PVALUE</th><th scope=col>EVALUE</th><th scope=col>LOG_EVALUE</th><th scope=col>QVALUE</th><th scope=col>LOG_QVALUE</th></tr>\n",
       "\t<tr><th></th><th scope=col>&lt;chr&gt;</th><th scope=col>&lt;chr&gt;</th><th scope=col>&lt;int&gt;</th><th scope=col>&lt;chr&gt;</th><th scope=col>&lt;chr&gt;</th><th scope=col>&lt;chr&gt;</th><th scope=col>&lt;int&gt;</th><th scope=col>&lt;dbl&gt;</th><th scope=col>&lt;int&gt;</th><th scope=col>&lt;dbl&gt;</th><th scope=col>&lt;dbl&gt;</th><th scope=col>&lt;dbl&gt;</th><th scope=col>&lt;dbl&gt;</th><th scope=col>&lt;dbl&gt;</th><th scope=col>&lt;dbl&gt;</th><th scope=col>&lt;dbl&gt;</th><th scope=col>&lt;dbl&gt;</th><th scope=col>&lt;dbl&gt;</th></tr>\n",
       "</thead>\n",
       "<tbody>\n",
       "\t<tr><th scope=row>1</th><td>Bulk_B</td><td>ZNF460     </td><td>1</td><td>MA1596.1</td><td>MA1596.1.ZNF460     </td><td>GCCTCMGCCTCCCRAG</td><td>447</td><td>23.31</td><td>  4</td><td> 0.21</td><td>89.60</td><td>18</td><td>1.14e-126</td><td>-289.99</td><td>9.57e-124</td><td>-283.26</td><td>5.22e-124</td><td>-283.87</td></tr>\n",
       "\t<tr><th scope=row>2</th><td>Bulk_B</td><td>ZNF135     </td><td>2</td><td>MA1587.1</td><td>MA1587.1.ZNF135     </td><td>CCTCGACCTCCYRR  </td><td>577</td><td>30.08</td><td> 49</td><td> 2.55</td><td>11.60</td><td>12</td><td>5.05e-115</td><td>-263.18</td><td>4.23e-112</td><td>-256.45</td><td>1.15e-112</td><td>-257.75</td></tr>\n",
       "\t<tr><th scope=row>3</th><td>Bulk_B</td><td>FOSL2::JUNB</td><td>3</td><td>MA1138.1</td><td>MA1138.1.FOSL2::JUNB</td><td>KRTGASTCAT      </td><td>661</td><td>34.46</td><td>155</td><td> 8.08</td><td> 4.24</td><td>12</td><td> 9.52e-75</td><td>-170.44</td><td> 7.98e-72</td><td>-163.71</td><td> 1.45e-72</td><td>-165.41</td></tr>\n",
       "\t<tr><th scope=row>4</th><td>Bulk_B</td><td>FOSB::JUNB </td><td>4</td><td>MA1135.1</td><td>MA1135.1.FOSB::JUNB </td><td>KRTGASTCAT      </td><td>592</td><td>30.87</td><td>124</td><td> 6.47</td><td> 4.74</td><td>12</td><td> 1.25e-73</td><td>-167.87</td><td> 1.05e-70</td><td>-161.14</td><td> 1.43e-71</td><td>-163.13</td></tr>\n",
       "\t<tr><th scope=row>5</th><td>Bulk_B</td><td>FOSL1      </td><td>5</td><td>MA0477.2</td><td>MA0477.2.FOSL1      </td><td>NNATGACTCATNN   </td><td>639</td><td>33.32</td><td>156</td><td> 8.13</td><td> 4.08</td><td>12</td><td> 8.76e-70</td><td>-159.01</td><td> 7.34e-67</td><td>-152.28</td><td> 8.01e-68</td><td>-154.49</td></tr>\n",
       "\t<tr><th scope=row>6</th><td>Bulk_B</td><td>Atf3       </td><td>6</td><td>MA2036.1</td><td>MA2036.1.Atf3       </td><td>NRTGACTCABN     </td><td>755</td><td>39.36</td><td>230</td><td>11.99</td><td> 3.27</td><td>12</td><td> 2.00e-65</td><td>-148.97</td><td> 1.68e-62</td><td>-142.24</td><td> 1.53e-63</td><td>-144.64</td></tr>\n",
       "</tbody>\n",
       "</table>\n"
      ],
      "text/latex": [
       "A data.frame: 6 × 18\n",
       "\\begin{tabular}{r|llllllllllllllllll}\n",
       "  & Cell.Type & Factor & RANK & ID & ALT\\_ID & CONSENSUS & TP & TP. & FP & FP. & ENR\\_RATIO & SCORE\\_THR & PVALUE & LOG\\_PVALUE & EVALUE & LOG\\_EVALUE & QVALUE & LOG\\_QVALUE\\\\\n",
       "  & <chr> & <chr> & <int> & <chr> & <chr> & <chr> & <int> & <dbl> & <int> & <dbl> & <dbl> & <dbl> & <dbl> & <dbl> & <dbl> & <dbl> & <dbl> & <dbl>\\\\\n",
       "\\hline\n",
       "\t1 & Bulk\\_B & ZNF460      & 1 & MA1596.1 & MA1596.1.ZNF460      & GCCTCMGCCTCCCRAG & 447 & 23.31 &   4 &  0.21 & 89.60 & 18 & 1.14e-126 & -289.99 & 9.57e-124 & -283.26 & 5.22e-124 & -283.87\\\\\n",
       "\t2 & Bulk\\_B & ZNF135      & 2 & MA1587.1 & MA1587.1.ZNF135      & CCTCGACCTCCYRR   & 577 & 30.08 &  49 &  2.55 & 11.60 & 12 & 5.05e-115 & -263.18 & 4.23e-112 & -256.45 & 1.15e-112 & -257.75\\\\\n",
       "\t3 & Bulk\\_B & FOSL2::JUNB & 3 & MA1138.1 & MA1138.1.FOSL2::JUNB & KRTGASTCAT       & 661 & 34.46 & 155 &  8.08 &  4.24 & 12 &  9.52e-75 & -170.44 &  7.98e-72 & -163.71 &  1.45e-72 & -165.41\\\\\n",
       "\t4 & Bulk\\_B & FOSB::JUNB  & 4 & MA1135.1 & MA1135.1.FOSB::JUNB  & KRTGASTCAT       & 592 & 30.87 & 124 &  6.47 &  4.74 & 12 &  1.25e-73 & -167.87 &  1.05e-70 & -161.14 &  1.43e-71 & -163.13\\\\\n",
       "\t5 & Bulk\\_B & FOSL1       & 5 & MA0477.2 & MA0477.2.FOSL1       & NNATGACTCATNN    & 639 & 33.32 & 156 &  8.13 &  4.08 & 12 &  8.76e-70 & -159.01 &  7.34e-67 & -152.28 &  8.01e-68 & -154.49\\\\\n",
       "\t6 & Bulk\\_B & Atf3        & 6 & MA2036.1 & MA2036.1.Atf3        & NRTGACTCABN      & 755 & 39.36 & 230 & 11.99 &  3.27 & 12 &  2.00e-65 & -148.97 &  1.68e-62 & -142.24 &  1.53e-63 & -144.64\\\\\n",
       "\\end{tabular}\n"
      ],
      "text/markdown": [
       "\n",
       "A data.frame: 6 × 18\n",
       "\n",
       "| <!--/--> | Cell.Type &lt;chr&gt; | Factor &lt;chr&gt; | RANK &lt;int&gt; | ID &lt;chr&gt; | ALT_ID &lt;chr&gt; | CONSENSUS &lt;chr&gt; | TP &lt;int&gt; | TP. &lt;dbl&gt; | FP &lt;int&gt; | FP. &lt;dbl&gt; | ENR_RATIO &lt;dbl&gt; | SCORE_THR &lt;dbl&gt; | PVALUE &lt;dbl&gt; | LOG_PVALUE &lt;dbl&gt; | EVALUE &lt;dbl&gt; | LOG_EVALUE &lt;dbl&gt; | QVALUE &lt;dbl&gt; | LOG_QVALUE &lt;dbl&gt; |\n",
       "|---|---|---|---|---|---|---|---|---|---|---|---|---|---|---|---|---|---|---|\n",
       "| 1 | Bulk_B | ZNF460      | 1 | MA1596.1 | MA1596.1.ZNF460      | GCCTCMGCCTCCCRAG | 447 | 23.31 |   4 |  0.21 | 89.60 | 18 | 1.14e-126 | -289.99 | 9.57e-124 | -283.26 | 5.22e-124 | -283.87 |\n",
       "| 2 | Bulk_B | ZNF135      | 2 | MA1587.1 | MA1587.1.ZNF135      | CCTCGACCTCCYRR   | 577 | 30.08 |  49 |  2.55 | 11.60 | 12 | 5.05e-115 | -263.18 | 4.23e-112 | -256.45 | 1.15e-112 | -257.75 |\n",
       "| 3 | Bulk_B | FOSL2::JUNB | 3 | MA1138.1 | MA1138.1.FOSL2::JUNB | KRTGASTCAT       | 661 | 34.46 | 155 |  8.08 |  4.24 | 12 |  9.52e-75 | -170.44 |  7.98e-72 | -163.71 |  1.45e-72 | -165.41 |\n",
       "| 4 | Bulk_B | FOSB::JUNB  | 4 | MA1135.1 | MA1135.1.FOSB::JUNB  | KRTGASTCAT       | 592 | 30.87 | 124 |  6.47 |  4.74 | 12 |  1.25e-73 | -167.87 |  1.05e-70 | -161.14 |  1.43e-71 | -163.13 |\n",
       "| 5 | Bulk_B | FOSL1       | 5 | MA0477.2 | MA0477.2.FOSL1       | NNATGACTCATNN    | 639 | 33.32 | 156 |  8.13 |  4.08 | 12 |  8.76e-70 | -159.01 |  7.34e-67 | -152.28 |  8.01e-68 | -154.49 |\n",
       "| 6 | Bulk_B | Atf3        | 6 | MA2036.1 | MA2036.1.Atf3        | NRTGACTCABN      | 755 | 39.36 | 230 | 11.99 |  3.27 | 12 |  2.00e-65 | -148.97 |  1.68e-62 | -142.24 |  1.53e-63 | -144.64 |\n",
       "\n"
      ],
      "text/plain": [
       "  Cell.Type Factor      RANK ID       ALT_ID               CONSENSUS        TP \n",
       "1 Bulk_B    ZNF460      1    MA1596.1 MA1596.1.ZNF460      GCCTCMGCCTCCCRAG 447\n",
       "2 Bulk_B    ZNF135      2    MA1587.1 MA1587.1.ZNF135      CCTCGACCTCCYRR   577\n",
       "3 Bulk_B    FOSL2::JUNB 3    MA1138.1 MA1138.1.FOSL2::JUNB KRTGASTCAT       661\n",
       "4 Bulk_B    FOSB::JUNB  4    MA1135.1 MA1135.1.FOSB::JUNB  KRTGASTCAT       592\n",
       "5 Bulk_B    FOSL1       5    MA0477.2 MA0477.2.FOSL1       NNATGACTCATNN    639\n",
       "6 Bulk_B    Atf3        6    MA2036.1 MA2036.1.Atf3        NRTGACTCABN      755\n",
       "  TP.   FP  FP.   ENR_RATIO SCORE_THR PVALUE    LOG_PVALUE EVALUE    LOG_EVALUE\n",
       "1 23.31   4  0.21 89.60     18        1.14e-126 -289.99    9.57e-124 -283.26   \n",
       "2 30.08  49  2.55 11.60     12        5.05e-115 -263.18    4.23e-112 -256.45   \n",
       "3 34.46 155  8.08  4.24     12         9.52e-75 -170.44     7.98e-72 -163.71   \n",
       "4 30.87 124  6.47  4.74     12         1.25e-73 -167.87     1.05e-70 -161.14   \n",
       "5 33.32 156  8.13  4.08     12         8.76e-70 -159.01     7.34e-67 -152.28   \n",
       "6 39.36 230 11.99  3.27     12         2.00e-65 -148.97     1.68e-62 -142.24   \n",
       "  QVALUE    LOG_QVALUE\n",
       "1 5.22e-124 -283.87   \n",
       "2 1.15e-112 -257.75   \n",
       "3  1.45e-72 -165.41   \n",
       "4  1.43e-71 -163.13   \n",
       "5  8.01e-68 -154.49   \n",
       "6  1.53e-63 -144.64   "
      ]
     },
     "metadata": {},
     "output_type": "display_data"
    }
   ],
   "source": [
    "head(ia.up.enriched.motifs)"
   ]
  },
  {
   "cell_type": "code",
   "execution_count": 14,
   "id": "d2b84be3-8d98-4974-84ad-5242fa72576f",
   "metadata": {},
   "outputs": [],
   "source": [
    "rm.up.enriched.motifs <- lapply(unique(rm.da.peaks$Treatment), function(treatment) {\n",
    "\n",
    "    file.path = paste0(\"~/gains_team282/epigenetics/accessibility/analysis/atac_seq/neutrophil_atlas/homer/\", treatment, \"/\", treatment, \".up.enrichment.tsv\")\n",
    "\n",
    "    if (file.info(file.path)$size == 0) {\n",
    "        return(data.frame())\n",
    "    }\n",
    "    \n",
    "    read.table(file.path, sep=\"\\t\", comment.char=\"#\", header=T) %>%\n",
    "        dplyr::mutate(Factor=gsub(\"^[^.]+\\\\.[^.]+\\\\.\", \"\", ALT_ID)) %>%\n",
    "        dplyr::mutate(Treatment=treatment) %>%\n",
    "        dplyr::select(Treatment, Factor, everything(), -DB)\n",
    "})\n",
    "rm.up.enriched.motifs <- do.call(rbind, rm.up.enriched.motifs)"
   ]
  },
  {
   "cell_type": "code",
   "execution_count": 15,
   "id": "c35f7d38-f1b5-4e03-856c-05be7bb975d5",
   "metadata": {},
   "outputs": [
    {
     "data": {
      "text/html": [
       "<table class=\"dataframe\">\n",
       "<caption>A data.frame: 6 × 18</caption>\n",
       "<thead>\n",
       "\t<tr><th></th><th scope=col>Treatment</th><th scope=col>Factor</th><th scope=col>RANK</th><th scope=col>ID</th><th scope=col>ALT_ID</th><th scope=col>CONSENSUS</th><th scope=col>TP</th><th scope=col>TP.</th><th scope=col>FP</th><th scope=col>FP.</th><th scope=col>ENR_RATIO</th><th scope=col>SCORE_THR</th><th scope=col>PVALUE</th><th scope=col>LOG_PVALUE</th><th scope=col>EVALUE</th><th scope=col>LOG_EVALUE</th><th scope=col>QVALUE</th><th scope=col>LOG_QVALUE</th></tr>\n",
       "\t<tr><th></th><th scope=col>&lt;chr&gt;</th><th scope=col>&lt;chr&gt;</th><th scope=col>&lt;int&gt;</th><th scope=col>&lt;chr&gt;</th><th scope=col>&lt;chr&gt;</th><th scope=col>&lt;chr&gt;</th><th scope=col>&lt;int&gt;</th><th scope=col>&lt;dbl&gt;</th><th scope=col>&lt;int&gt;</th><th scope=col>&lt;dbl&gt;</th><th scope=col>&lt;dbl&gt;</th><th scope=col>&lt;dbl&gt;</th><th scope=col>&lt;dbl&gt;</th><th scope=col>&lt;dbl&gt;</th><th scope=col>&lt;dbl&gt;</th><th scope=col>&lt;dbl&gt;</th><th scope=col>&lt;dbl&gt;</th><th scope=col>&lt;dbl&gt;</th></tr>\n",
       "</thead>\n",
       "<tbody>\n",
       "\t<tr><th scope=row>1</th><td>WB</td><td>ZNF460 </td><td>1</td><td>MA1596.1</td><td>MA1596.1.ZNF460 </td><td>GCCTCMGCCTCCCRAG</td><td>307</td><td>39.92</td><td>23</td><td>2.99</td><td>12.80</td><td>14</td><td>1.92e-79</td><td>-181.25</td><td>1.61e-76</td><td>-174.52</td><td>6.83e-77</td><td>-175.38</td></tr>\n",
       "\t<tr><th scope=row>2</th><td>WB</td><td>ZKSCAN5</td><td>2</td><td>MA1652.1</td><td>MA1652.1.ZKSCAN5</td><td>NNRGGARGTGAGRR  </td><td>262</td><td>34.07</td><td> 8</td><td>1.04</td><td>29.20</td><td>16</td><td>2.87e-78</td><td>-178.55</td><td>2.41e-75</td><td>-171.82</td><td>5.11e-76</td><td>-173.37</td></tr>\n",
       "\t<tr><th scope=row>3</th><td>WB</td><td>ZNF135 </td><td>3</td><td>MA1587.1</td><td>MA1587.1.ZNF135 </td><td>CCTCGACCTCCYRR  </td><td>288</td><td>37.45</td><td>19</td><td>2.47</td><td>14.40</td><td>14</td><td>5.21e-76</td><td>-173.35</td><td>4.37e-73</td><td>-166.61</td><td>6.19e-74</td><td>-168.57</td></tr>\n",
       "\t<tr><th scope=row>4</th><td>WB</td><td>Elf5   </td><td>4</td><td>MA0136.3</td><td>MA0136.3.Elf5   </td><td>RVAAGGAAGTNN    </td><td>367</td><td>47.72</td><td>68</td><td>8.84</td><td> 5.33</td><td>13</td><td>9.71e-69</td><td>-156.60</td><td>8.14e-66</td><td>-149.87</td><td>8.65e-67</td><td>-152.12</td></tr>\n",
       "\t<tr><th scope=row>5</th><td>WB</td><td>RBPJ   </td><td>5</td><td>MA1116.1</td><td>MA1116.1.RBPJ   </td><td>BVTGGGAANN      </td><td>317</td><td>41.22</td><td>43</td><td>5.59</td><td> 7.23</td><td>13</td><td>5.96e-67</td><td>-152.49</td><td>5.00e-64</td><td>-145.76</td><td>4.25e-65</td><td>-148.22</td></tr>\n",
       "\t<tr><th scope=row>6</th><td>WB</td><td>ELF1   </td><td>6</td><td>MA0473.3</td><td>MA0473.3.ELF1   </td><td>RDVCAGGAAGTGVN  </td><td>293</td><td>38.10</td><td>36</td><td>4.68</td><td> 7.95</td><td>14</td><td>1.95e-63</td><td>-144.39</td><td>1.64e-60</td><td>-137.66</td><td>1.16e-61</td><td>-140.31</td></tr>\n",
       "</tbody>\n",
       "</table>\n"
      ],
      "text/latex": [
       "A data.frame: 6 × 18\n",
       "\\begin{tabular}{r|llllllllllllllllll}\n",
       "  & Treatment & Factor & RANK & ID & ALT\\_ID & CONSENSUS & TP & TP. & FP & FP. & ENR\\_RATIO & SCORE\\_THR & PVALUE & LOG\\_PVALUE & EVALUE & LOG\\_EVALUE & QVALUE & LOG\\_QVALUE\\\\\n",
       "  & <chr> & <chr> & <int> & <chr> & <chr> & <chr> & <int> & <dbl> & <int> & <dbl> & <dbl> & <dbl> & <dbl> & <dbl> & <dbl> & <dbl> & <dbl> & <dbl>\\\\\n",
       "\\hline\n",
       "\t1 & WB & ZNF460  & 1 & MA1596.1 & MA1596.1.ZNF460  & GCCTCMGCCTCCCRAG & 307 & 39.92 & 23 & 2.99 & 12.80 & 14 & 1.92e-79 & -181.25 & 1.61e-76 & -174.52 & 6.83e-77 & -175.38\\\\\n",
       "\t2 & WB & ZKSCAN5 & 2 & MA1652.1 & MA1652.1.ZKSCAN5 & NNRGGARGTGAGRR   & 262 & 34.07 &  8 & 1.04 & 29.20 & 16 & 2.87e-78 & -178.55 & 2.41e-75 & -171.82 & 5.11e-76 & -173.37\\\\\n",
       "\t3 & WB & ZNF135  & 3 & MA1587.1 & MA1587.1.ZNF135  & CCTCGACCTCCYRR   & 288 & 37.45 & 19 & 2.47 & 14.40 & 14 & 5.21e-76 & -173.35 & 4.37e-73 & -166.61 & 6.19e-74 & -168.57\\\\\n",
       "\t4 & WB & Elf5    & 4 & MA0136.3 & MA0136.3.Elf5    & RVAAGGAAGTNN     & 367 & 47.72 & 68 & 8.84 &  5.33 & 13 & 9.71e-69 & -156.60 & 8.14e-66 & -149.87 & 8.65e-67 & -152.12\\\\\n",
       "\t5 & WB & RBPJ    & 5 & MA1116.1 & MA1116.1.RBPJ    & BVTGGGAANN       & 317 & 41.22 & 43 & 5.59 &  7.23 & 13 & 5.96e-67 & -152.49 & 5.00e-64 & -145.76 & 4.25e-65 & -148.22\\\\\n",
       "\t6 & WB & ELF1    & 6 & MA0473.3 & MA0473.3.ELF1    & RDVCAGGAAGTGVN   & 293 & 38.10 & 36 & 4.68 &  7.95 & 14 & 1.95e-63 & -144.39 & 1.64e-60 & -137.66 & 1.16e-61 & -140.31\\\\\n",
       "\\end{tabular}\n"
      ],
      "text/markdown": [
       "\n",
       "A data.frame: 6 × 18\n",
       "\n",
       "| <!--/--> | Treatment &lt;chr&gt; | Factor &lt;chr&gt; | RANK &lt;int&gt; | ID &lt;chr&gt; | ALT_ID &lt;chr&gt; | CONSENSUS &lt;chr&gt; | TP &lt;int&gt; | TP. &lt;dbl&gt; | FP &lt;int&gt; | FP. &lt;dbl&gt; | ENR_RATIO &lt;dbl&gt; | SCORE_THR &lt;dbl&gt; | PVALUE &lt;dbl&gt; | LOG_PVALUE &lt;dbl&gt; | EVALUE &lt;dbl&gt; | LOG_EVALUE &lt;dbl&gt; | QVALUE &lt;dbl&gt; | LOG_QVALUE &lt;dbl&gt; |\n",
       "|---|---|---|---|---|---|---|---|---|---|---|---|---|---|---|---|---|---|---|\n",
       "| 1 | WB | ZNF460  | 1 | MA1596.1 | MA1596.1.ZNF460  | GCCTCMGCCTCCCRAG | 307 | 39.92 | 23 | 2.99 | 12.80 | 14 | 1.92e-79 | -181.25 | 1.61e-76 | -174.52 | 6.83e-77 | -175.38 |\n",
       "| 2 | WB | ZKSCAN5 | 2 | MA1652.1 | MA1652.1.ZKSCAN5 | NNRGGARGTGAGRR   | 262 | 34.07 |  8 | 1.04 | 29.20 | 16 | 2.87e-78 | -178.55 | 2.41e-75 | -171.82 | 5.11e-76 | -173.37 |\n",
       "| 3 | WB | ZNF135  | 3 | MA1587.1 | MA1587.1.ZNF135  | CCTCGACCTCCYRR   | 288 | 37.45 | 19 | 2.47 | 14.40 | 14 | 5.21e-76 | -173.35 | 4.37e-73 | -166.61 | 6.19e-74 | -168.57 |\n",
       "| 4 | WB | Elf5    | 4 | MA0136.3 | MA0136.3.Elf5    | RVAAGGAAGTNN     | 367 | 47.72 | 68 | 8.84 |  5.33 | 13 | 9.71e-69 | -156.60 | 8.14e-66 | -149.87 | 8.65e-67 | -152.12 |\n",
       "| 5 | WB | RBPJ    | 5 | MA1116.1 | MA1116.1.RBPJ    | BVTGGGAANN       | 317 | 41.22 | 43 | 5.59 |  7.23 | 13 | 5.96e-67 | -152.49 | 5.00e-64 | -145.76 | 4.25e-65 | -148.22 |\n",
       "| 6 | WB | ELF1    | 6 | MA0473.3 | MA0473.3.ELF1    | RDVCAGGAAGTGVN   | 293 | 38.10 | 36 | 4.68 |  7.95 | 14 | 1.95e-63 | -144.39 | 1.64e-60 | -137.66 | 1.16e-61 | -140.31 |\n",
       "\n"
      ],
      "text/plain": [
       "  Treatment Factor  RANK ID       ALT_ID           CONSENSUS        TP  TP.  \n",
       "1 WB        ZNF460  1    MA1596.1 MA1596.1.ZNF460  GCCTCMGCCTCCCRAG 307 39.92\n",
       "2 WB        ZKSCAN5 2    MA1652.1 MA1652.1.ZKSCAN5 NNRGGARGTGAGRR   262 34.07\n",
       "3 WB        ZNF135  3    MA1587.1 MA1587.1.ZNF135  CCTCGACCTCCYRR   288 37.45\n",
       "4 WB        Elf5    4    MA0136.3 MA0136.3.Elf5    RVAAGGAAGTNN     367 47.72\n",
       "5 WB        RBPJ    5    MA1116.1 MA1116.1.RBPJ    BVTGGGAANN       317 41.22\n",
       "6 WB        ELF1    6    MA0473.3 MA0473.3.ELF1    RDVCAGGAAGTGVN   293 38.10\n",
       "  FP FP.  ENR_RATIO SCORE_THR PVALUE   LOG_PVALUE EVALUE   LOG_EVALUE QVALUE  \n",
       "1 23 2.99 12.80     14        1.92e-79 -181.25    1.61e-76 -174.52    6.83e-77\n",
       "2  8 1.04 29.20     16        2.87e-78 -178.55    2.41e-75 -171.82    5.11e-76\n",
       "3 19 2.47 14.40     14        5.21e-76 -173.35    4.37e-73 -166.61    6.19e-74\n",
       "4 68 8.84  5.33     13        9.71e-69 -156.60    8.14e-66 -149.87    8.65e-67\n",
       "5 43 5.59  7.23     13        5.96e-67 -152.49    5.00e-64 -145.76    4.25e-65\n",
       "6 36 4.68  7.95     14        1.95e-63 -144.39    1.64e-60 -137.66    1.16e-61\n",
       "  LOG_QVALUE\n",
       "1 -175.38   \n",
       "2 -173.37   \n",
       "3 -168.57   \n",
       "4 -152.12   \n",
       "5 -148.22   \n",
       "6 -140.31   "
      ]
     },
     "metadata": {},
     "output_type": "display_data"
    }
   ],
   "source": [
    "head(rm.up.enriched.motifs)"
   ]
  },
  {
   "cell_type": "code",
   "execution_count": 20,
   "id": "3f943832-41b2-482c-b4a6-fcb28390d563",
   "metadata": {},
   "outputs": [],
   "source": [
    "ia.down.enriched.motifs <- lapply(unique(ia.da.peaks$Cell.Type), function(cell.type) {\n",
    "\n",
    "    file.path = paste0(\"~/gains_team282/epigenetics/accessibility/analysis/atac_seq/immune_atlas/homer/\", cell.type, \"/\", cell.type, \".down.enrichment.tsv\")\n",
    "\n",
    "    if (file.info(file.path)$size == 0) {\n",
    "        return(data.frame())\n",
    "    }\n",
    "    \n",
    "    read.table(file.path, sep=\"\\t\", comment.char=\"#\", header=T) %>%\n",
    "        dplyr::mutate(Factor=gsub(\"^[^.]+\\\\.[^.]+\\\\.\", \"\", ALT_ID)) %>%\n",
    "        dplyr::mutate(Cell.Type=cell.type) %>%\n",
    "        dplyr::select(Cell.Type, Factor, everything(), -DB)\n",
    "})\n",
    "ia.down.enriched.motifs <- do.call(rbind, ia.down.enriched.motifs)"
   ]
  },
  {
   "cell_type": "code",
   "execution_count": 21,
   "id": "b8f67653-9cf8-4cee-a414-db7fe0f3a0fb",
   "metadata": {},
   "outputs": [
    {
     "data": {
      "text/html": [
       "<table class=\"dataframe\">\n",
       "<caption>A data.frame: 6 × 18</caption>\n",
       "<thead>\n",
       "\t<tr><th></th><th scope=col>Cell.Type</th><th scope=col>Factor</th><th scope=col>RANK</th><th scope=col>ID</th><th scope=col>ALT_ID</th><th scope=col>CONSENSUS</th><th scope=col>TP</th><th scope=col>TP.</th><th scope=col>FP</th><th scope=col>FP.</th><th scope=col>ENR_RATIO</th><th scope=col>SCORE_THR</th><th scope=col>PVALUE</th><th scope=col>LOG_PVALUE</th><th scope=col>EVALUE</th><th scope=col>LOG_EVALUE</th><th scope=col>QVALUE</th><th scope=col>LOG_QVALUE</th></tr>\n",
       "\t<tr><th></th><th scope=col>&lt;chr&gt;</th><th scope=col>&lt;chr&gt;</th><th scope=col>&lt;int&gt;</th><th scope=col>&lt;chr&gt;</th><th scope=col>&lt;chr&gt;</th><th scope=col>&lt;chr&gt;</th><th scope=col>&lt;int&gt;</th><th scope=col>&lt;dbl&gt;</th><th scope=col>&lt;int&gt;</th><th scope=col>&lt;dbl&gt;</th><th scope=col>&lt;dbl&gt;</th><th scope=col>&lt;dbl&gt;</th><th scope=col>&lt;dbl&gt;</th><th scope=col>&lt;dbl&gt;</th><th scope=col>&lt;dbl&gt;</th><th scope=col>&lt;dbl&gt;</th><th scope=col>&lt;dbl&gt;</th><th scope=col>&lt;dbl&gt;</th></tr>\n",
       "</thead>\n",
       "<tbody>\n",
       "\t<tr><th scope=row>1</th><td>Bulk_B</td><td>ZNF460</td><td>1</td><td>MA1596.1</td><td>MA1596.1.ZNF460</td><td>GCCTCMGCCTCCCRAG</td><td> 66</td><td>34.55</td><td>  3</td><td> 1.57</td><td>16.80</td><td>15.0</td><td>1.74e-19</td><td>-43.19</td><td>1.46e-16</td><td>-36.46</td><td>1.21e-16</td><td>-36.65</td></tr>\n",
       "\t<tr><th scope=row>2</th><td>Bulk_B</td><td>ZNF135</td><td>2</td><td>MA1587.1</td><td>MA1587.1.ZNF135</td><td>CCTCGACCTCCYRR  </td><td> 97</td><td>50.79</td><td> 23</td><td>12.04</td><td> 4.08</td><td> 8.9</td><td>7.33e-17</td><td>-37.15</td><td>6.14e-14</td><td>-30.42</td><td>2.55e-14</td><td>-31.30</td></tr>\n",
       "\t<tr><th scope=row>3</th><td>Bulk_B</td><td>ELF3  </td><td>3</td><td>MA0640.2</td><td>MA0640.2.ELF3  </td><td>NNCCACTTCCTGNT  </td><td> 91</td><td>47.64</td><td> 39</td><td>20.42</td><td> 2.30</td><td>10.0</td><td>1.34e-08</td><td>-18.13</td><td>1.12e-05</td><td>-11.40</td><td>2.64e-06</td><td>-12.85</td></tr>\n",
       "\t<tr><th scope=row>4</th><td>Bulk_B</td><td>ELF1  </td><td>4</td><td>MA0473.3</td><td>MA0473.3.ELF1  </td><td>RDVCAGGAAGTGVN  </td><td> 92</td><td>48.17</td><td> 40</td><td>20.94</td><td> 2.27</td><td>10.0</td><td>1.52e-08</td><td>-18.00</td><td>1.27e-05</td><td>-11.27</td><td>2.64e-06</td><td>-12.85</td></tr>\n",
       "\t<tr><th scope=row>5</th><td>Bulk_B</td><td>SP2   </td><td>5</td><td>MA0516.3</td><td>MA0516.3.SP2   </td><td>GGGGCGGGG       </td><td> 76</td><td>39.79</td><td> 28</td><td>14.66</td><td> 2.66</td><td> 9.9</td><td>2.18e-08</td><td>-17.64</td><td>1.82e-05</td><td>-10.91</td><td>3.03e-06</td><td>-12.71</td></tr>\n",
       "\t<tr><th scope=row>6</th><td>Bulk_B</td><td>ZNF281</td><td>6</td><td>MA1630.2</td><td>MA1630.2.ZNF281</td><td>GGGGGAGGGGVV    </td><td>159</td><td>83.25</td><td>111</td><td>58.12</td><td> 1.43</td><td> 2.1</td><td>4.57e-08</td><td>-16.90</td><td>3.83e-05</td><td>-10.17</td><td>5.30e-06</td><td>-12.15</td></tr>\n",
       "</tbody>\n",
       "</table>\n"
      ],
      "text/latex": [
       "A data.frame: 6 × 18\n",
       "\\begin{tabular}{r|llllllllllllllllll}\n",
       "  & Cell.Type & Factor & RANK & ID & ALT\\_ID & CONSENSUS & TP & TP. & FP & FP. & ENR\\_RATIO & SCORE\\_THR & PVALUE & LOG\\_PVALUE & EVALUE & LOG\\_EVALUE & QVALUE & LOG\\_QVALUE\\\\\n",
       "  & <chr> & <chr> & <int> & <chr> & <chr> & <chr> & <int> & <dbl> & <int> & <dbl> & <dbl> & <dbl> & <dbl> & <dbl> & <dbl> & <dbl> & <dbl> & <dbl>\\\\\n",
       "\\hline\n",
       "\t1 & Bulk\\_B & ZNF460 & 1 & MA1596.1 & MA1596.1.ZNF460 & GCCTCMGCCTCCCRAG &  66 & 34.55 &   3 &  1.57 & 16.80 & 15.0 & 1.74e-19 & -43.19 & 1.46e-16 & -36.46 & 1.21e-16 & -36.65\\\\\n",
       "\t2 & Bulk\\_B & ZNF135 & 2 & MA1587.1 & MA1587.1.ZNF135 & CCTCGACCTCCYRR   &  97 & 50.79 &  23 & 12.04 &  4.08 &  8.9 & 7.33e-17 & -37.15 & 6.14e-14 & -30.42 & 2.55e-14 & -31.30\\\\\n",
       "\t3 & Bulk\\_B & ELF3   & 3 & MA0640.2 & MA0640.2.ELF3   & NNCCACTTCCTGNT   &  91 & 47.64 &  39 & 20.42 &  2.30 & 10.0 & 1.34e-08 & -18.13 & 1.12e-05 & -11.40 & 2.64e-06 & -12.85\\\\\n",
       "\t4 & Bulk\\_B & ELF1   & 4 & MA0473.3 & MA0473.3.ELF1   & RDVCAGGAAGTGVN   &  92 & 48.17 &  40 & 20.94 &  2.27 & 10.0 & 1.52e-08 & -18.00 & 1.27e-05 & -11.27 & 2.64e-06 & -12.85\\\\\n",
       "\t5 & Bulk\\_B & SP2    & 5 & MA0516.3 & MA0516.3.SP2    & GGGGCGGGG        &  76 & 39.79 &  28 & 14.66 &  2.66 &  9.9 & 2.18e-08 & -17.64 & 1.82e-05 & -10.91 & 3.03e-06 & -12.71\\\\\n",
       "\t6 & Bulk\\_B & ZNF281 & 6 & MA1630.2 & MA1630.2.ZNF281 & GGGGGAGGGGVV     & 159 & 83.25 & 111 & 58.12 &  1.43 &  2.1 & 4.57e-08 & -16.90 & 3.83e-05 & -10.17 & 5.30e-06 & -12.15\\\\\n",
       "\\end{tabular}\n"
      ],
      "text/markdown": [
       "\n",
       "A data.frame: 6 × 18\n",
       "\n",
       "| <!--/--> | Cell.Type &lt;chr&gt; | Factor &lt;chr&gt; | RANK &lt;int&gt; | ID &lt;chr&gt; | ALT_ID &lt;chr&gt; | CONSENSUS &lt;chr&gt; | TP &lt;int&gt; | TP. &lt;dbl&gt; | FP &lt;int&gt; | FP. &lt;dbl&gt; | ENR_RATIO &lt;dbl&gt; | SCORE_THR &lt;dbl&gt; | PVALUE &lt;dbl&gt; | LOG_PVALUE &lt;dbl&gt; | EVALUE &lt;dbl&gt; | LOG_EVALUE &lt;dbl&gt; | QVALUE &lt;dbl&gt; | LOG_QVALUE &lt;dbl&gt; |\n",
       "|---|---|---|---|---|---|---|---|---|---|---|---|---|---|---|---|---|---|---|\n",
       "| 1 | Bulk_B | ZNF460 | 1 | MA1596.1 | MA1596.1.ZNF460 | GCCTCMGCCTCCCRAG |  66 | 34.55 |   3 |  1.57 | 16.80 | 15.0 | 1.74e-19 | -43.19 | 1.46e-16 | -36.46 | 1.21e-16 | -36.65 |\n",
       "| 2 | Bulk_B | ZNF135 | 2 | MA1587.1 | MA1587.1.ZNF135 | CCTCGACCTCCYRR   |  97 | 50.79 |  23 | 12.04 |  4.08 |  8.9 | 7.33e-17 | -37.15 | 6.14e-14 | -30.42 | 2.55e-14 | -31.30 |\n",
       "| 3 | Bulk_B | ELF3   | 3 | MA0640.2 | MA0640.2.ELF3   | NNCCACTTCCTGNT   |  91 | 47.64 |  39 | 20.42 |  2.30 | 10.0 | 1.34e-08 | -18.13 | 1.12e-05 | -11.40 | 2.64e-06 | -12.85 |\n",
       "| 4 | Bulk_B | ELF1   | 4 | MA0473.3 | MA0473.3.ELF1   | RDVCAGGAAGTGVN   |  92 | 48.17 |  40 | 20.94 |  2.27 | 10.0 | 1.52e-08 | -18.00 | 1.27e-05 | -11.27 | 2.64e-06 | -12.85 |\n",
       "| 5 | Bulk_B | SP2    | 5 | MA0516.3 | MA0516.3.SP2    | GGGGCGGGG        |  76 | 39.79 |  28 | 14.66 |  2.66 |  9.9 | 2.18e-08 | -17.64 | 1.82e-05 | -10.91 | 3.03e-06 | -12.71 |\n",
       "| 6 | Bulk_B | ZNF281 | 6 | MA1630.2 | MA1630.2.ZNF281 | GGGGGAGGGGVV     | 159 | 83.25 | 111 | 58.12 |  1.43 |  2.1 | 4.57e-08 | -16.90 | 3.83e-05 | -10.17 | 5.30e-06 | -12.15 |\n",
       "\n"
      ],
      "text/plain": [
       "  Cell.Type Factor RANK ID       ALT_ID          CONSENSUS        TP  TP.   FP \n",
       "1 Bulk_B    ZNF460 1    MA1596.1 MA1596.1.ZNF460 GCCTCMGCCTCCCRAG  66 34.55   3\n",
       "2 Bulk_B    ZNF135 2    MA1587.1 MA1587.1.ZNF135 CCTCGACCTCCYRR    97 50.79  23\n",
       "3 Bulk_B    ELF3   3    MA0640.2 MA0640.2.ELF3   NNCCACTTCCTGNT    91 47.64  39\n",
       "4 Bulk_B    ELF1   4    MA0473.3 MA0473.3.ELF1   RDVCAGGAAGTGVN    92 48.17  40\n",
       "5 Bulk_B    SP2    5    MA0516.3 MA0516.3.SP2    GGGGCGGGG         76 39.79  28\n",
       "6 Bulk_B    ZNF281 6    MA1630.2 MA1630.2.ZNF281 GGGGGAGGGGVV     159 83.25 111\n",
       "  FP.   ENR_RATIO SCORE_THR PVALUE   LOG_PVALUE EVALUE   LOG_EVALUE QVALUE  \n",
       "1  1.57 16.80     15.0      1.74e-19 -43.19     1.46e-16 -36.46     1.21e-16\n",
       "2 12.04  4.08      8.9      7.33e-17 -37.15     6.14e-14 -30.42     2.55e-14\n",
       "3 20.42  2.30     10.0      1.34e-08 -18.13     1.12e-05 -11.40     2.64e-06\n",
       "4 20.94  2.27     10.0      1.52e-08 -18.00     1.27e-05 -11.27     2.64e-06\n",
       "5 14.66  2.66      9.9      2.18e-08 -17.64     1.82e-05 -10.91     3.03e-06\n",
       "6 58.12  1.43      2.1      4.57e-08 -16.90     3.83e-05 -10.17     5.30e-06\n",
       "  LOG_QVALUE\n",
       "1 -36.65    \n",
       "2 -31.30    \n",
       "3 -12.85    \n",
       "4 -12.85    \n",
       "5 -12.71    \n",
       "6 -12.15    "
      ]
     },
     "metadata": {},
     "output_type": "display_data"
    }
   ],
   "source": [
    "head(ia.down.enriched.motifs)"
   ]
  },
  {
   "cell_type": "code",
   "execution_count": 22,
   "id": "97a00ed4-c7ef-476f-9108-342a41fe7797",
   "metadata": {},
   "outputs": [],
   "source": [
    "rm.down.enriched.motifs <- lapply(unique(rm.da.peaks$Treatment), function(treatment) {\n",
    "\n",
    "    file.path = paste0(\"~/gains_team282/epigenetics/accessibility/analysis/atac_seq/neutrophil_atlas/homer/\", treatment, \"/\", treatment, \".down.enrichment.tsv\")\n",
    "\n",
    "    if (file.info(file.path)$size == 0) {\n",
    "        return(data.frame())\n",
    "    }\n",
    "    \n",
    "    read.table(file.path, sep=\"\\t\", comment.char=\"#\", header=T) %>%\n",
    "        dplyr::mutate(Factor=gsub(\"^[^.]+\\\\.[^.]+\\\\.\", \"\", ALT_ID)) %>%\n",
    "        dplyr::mutate(Treatment=treatment) %>%\n",
    "        dplyr::select(Treatment, Factor, everything(), -DB)\n",
    "})\n",
    "rm.down.enriched.motifs <- do.call(rbind, rm.down.enriched.motifs)"
   ]
  },
  {
   "cell_type": "code",
   "execution_count": 23,
   "id": "df4706bb-89c3-457c-b121-40dcde5c4363",
   "metadata": {},
   "outputs": [
    {
     "data": {
      "text/html": [
       "<table class=\"dataframe\">\n",
       "<caption>A data.frame: 1 × 18</caption>\n",
       "<thead>\n",
       "\t<tr><th></th><th scope=col>Treatment</th><th scope=col>Factor</th><th scope=col>RANK</th><th scope=col>ID</th><th scope=col>ALT_ID</th><th scope=col>CONSENSUS</th><th scope=col>TP</th><th scope=col>TP.</th><th scope=col>FP</th><th scope=col>FP.</th><th scope=col>ENR_RATIO</th><th scope=col>SCORE_THR</th><th scope=col>PVALUE</th><th scope=col>LOG_PVALUE</th><th scope=col>EVALUE</th><th scope=col>LOG_EVALUE</th><th scope=col>QVALUE</th><th scope=col>LOG_QVALUE</th></tr>\n",
       "\t<tr><th></th><th scope=col>&lt;chr&gt;</th><th scope=col>&lt;chr&gt;</th><th scope=col>&lt;int&gt;</th><th scope=col>&lt;chr&gt;</th><th scope=col>&lt;chr&gt;</th><th scope=col>&lt;chr&gt;</th><th scope=col>&lt;int&gt;</th><th scope=col>&lt;dbl&gt;</th><th scope=col>&lt;int&gt;</th><th scope=col>&lt;dbl&gt;</th><th scope=col>&lt;int&gt;</th><th scope=col>&lt;int&gt;</th><th scope=col>&lt;dbl&gt;</th><th scope=col>&lt;dbl&gt;</th><th scope=col>&lt;dbl&gt;</th><th scope=col>&lt;dbl&gt;</th><th scope=col>&lt;dbl&gt;</th><th scope=col>&lt;dbl&gt;</th></tr>\n",
       "</thead>\n",
       "<tbody>\n",
       "\t<tr><th scope=row>1</th><td>WB</td><td>MEF2A</td><td>1</td><td>MA0052.4</td><td>MA0052.4.MEF2A</td><td>DDCTAAAAATAGMHH</td><td>16</td><td>17.02</td><td>0</td><td>0</td><td>17</td><td>14</td><td>1.63e-05</td><td>-11.02</td><td>0.0137</td><td>-4.29</td><td>0.0137</td><td>-4.29</td></tr>\n",
       "</tbody>\n",
       "</table>\n"
      ],
      "text/latex": [
       "A data.frame: 1 × 18\n",
       "\\begin{tabular}{r|llllllllllllllllll}\n",
       "  & Treatment & Factor & RANK & ID & ALT\\_ID & CONSENSUS & TP & TP. & FP & FP. & ENR\\_RATIO & SCORE\\_THR & PVALUE & LOG\\_PVALUE & EVALUE & LOG\\_EVALUE & QVALUE & LOG\\_QVALUE\\\\\n",
       "  & <chr> & <chr> & <int> & <chr> & <chr> & <chr> & <int> & <dbl> & <int> & <dbl> & <int> & <int> & <dbl> & <dbl> & <dbl> & <dbl> & <dbl> & <dbl>\\\\\n",
       "\\hline\n",
       "\t1 & WB & MEF2A & 1 & MA0052.4 & MA0052.4.MEF2A & DDCTAAAAATAGMHH & 16 & 17.02 & 0 & 0 & 17 & 14 & 1.63e-05 & -11.02 & 0.0137 & -4.29 & 0.0137 & -4.29\\\\\n",
       "\\end{tabular}\n"
      ],
      "text/markdown": [
       "\n",
       "A data.frame: 1 × 18\n",
       "\n",
       "| <!--/--> | Treatment &lt;chr&gt; | Factor &lt;chr&gt; | RANK &lt;int&gt; | ID &lt;chr&gt; | ALT_ID &lt;chr&gt; | CONSENSUS &lt;chr&gt; | TP &lt;int&gt; | TP. &lt;dbl&gt; | FP &lt;int&gt; | FP. &lt;dbl&gt; | ENR_RATIO &lt;int&gt; | SCORE_THR &lt;int&gt; | PVALUE &lt;dbl&gt; | LOG_PVALUE &lt;dbl&gt; | EVALUE &lt;dbl&gt; | LOG_EVALUE &lt;dbl&gt; | QVALUE &lt;dbl&gt; | LOG_QVALUE &lt;dbl&gt; |\n",
       "|---|---|---|---|---|---|---|---|---|---|---|---|---|---|---|---|---|---|---|\n",
       "| 1 | WB | MEF2A | 1 | MA0052.4 | MA0052.4.MEF2A | DDCTAAAAATAGMHH | 16 | 17.02 | 0 | 0 | 17 | 14 | 1.63e-05 | -11.02 | 0.0137 | -4.29 | 0.0137 | -4.29 |\n",
       "\n"
      ],
      "text/plain": [
       "  Treatment Factor RANK ID       ALT_ID         CONSENSUS       TP TP.   FP FP.\n",
       "1 WB        MEF2A  1    MA0052.4 MA0052.4.MEF2A DDCTAAAAATAGMHH 16 17.02 0  0  \n",
       "  ENR_RATIO SCORE_THR PVALUE   LOG_PVALUE EVALUE LOG_EVALUE QVALUE LOG_QVALUE\n",
       "1 17        14        1.63e-05 -11.02     0.0137 -4.29      0.0137 -4.29     "
      ]
     },
     "metadata": {},
     "output_type": "display_data"
    }
   ],
   "source": [
    "head(rm.down.enriched.motifs)"
   ]
  },
  {
   "cell_type": "markdown",
   "id": "3dee07c6-9917-436c-a1a9-e2c3bc54dd83",
   "metadata": {},
   "source": [
    "## Basic Characteristics of Peaks"
   ]
  },
  {
   "cell_type": "markdown",
   "id": "2be80428-17f0-4adb-ab7c-0bdb225acef1",
   "metadata": {},
   "source": [
    "Both the immune atlas and neutorphil atlas use the same underlying consensus peak set. Therefore, `ia.homer.annot` is the same as `rm.homer.annot`. I only need to analyze one of these."
   ]
  },
  {
   "cell_type": "code",
   "execution_count": 26,
   "id": "b1e8fc8b-4a3a-4393-a89b-500506d1b680",
   "metadata": {},
   "outputs": [
    {
     "data": {
      "image/png": "[encoded data removed]",
      "text/plain": [
       "plot without title"
      ]
     },
     "metadata": {
      "image/png": {
       "height": 480,
       "width": 480
      }
     },
     "output_type": "display_data"
    }
   ],
   "source": [
    "options(repr.plot.width=8, repr.plot.height=8)\n",
    "\n",
    "ia.homer.annot %>%\n",
    "    dplyr::filter(!is.na(Annotation)) %>%\n",
    "    dplyr::mutate(Annotation.Simple=gsub(\" \\\\(.*\\\\)\", \"\", Annotation)) %>%\n",
    "    dplyr::group_by(Annotation.Simple) %>%\n",
    "    dplyr::summarize(Frequency=n()) %>%\n",
    "    dplyr::mutate(Annotation.Simple=plyr::revalue(Annotation.Simple, c(\"exon\"=\"Exon\", \"intron\"=\"Intron\", \"promoter-TSS\"=\"Promoter-TSS\"))) %>%\n",
    "    ggplot() +\n",
    "    geom_bar(aes(x=Annotation.Simple, y=Frequency, fill=Annotation.Simple), stat=\"identity\") +\n",
    "    xlab(\"Simple Peak Annotation\") +\n",
    "    scale_fill_brewer(palette=\"Pastel1\") + guides(fill=\"none\") +\n",
    "    ggplot_theme\n",
    "\n",
    "ggsave(\"03_Functional_Interpretation/results/homer_simple_peak_annotation.svg\", width=8, height=8)"
   ]
  },
  {
   "cell_type": "code",
   "execution_count": 27,
   "id": "45288f28-b515-444e-b008-3eafbea752a8",
   "metadata": {},
   "outputs": [
    {
     "data": {
      "image/png": "[encoded data removed]",
      "text/plain": [
       "plot without title"
      ]
     },
     "metadata": {
      "image/png": {
       "height": 720,
       "width": 720
      }
     },
     "output_type": "display_data"
    }
   ],
   "source": [
    "options(repr.plot.width=12, repr.plot.height=12)\n",
    "\n",
    "ia.homer.annot %>%\n",
    "    dplyr::filter(!is.na(Annotation)) %>%\n",
    "    dplyr::mutate(Annotation.Simple=gsub(\" \\\\(.*\\\\)\", \"\", Annotation)) %>%\n",
    "    merge(., ia.da.peaks, by.x=\"PeakID\", by.y=\"Peak.ID\") %>%\n",
    "    dplyr::mutate(Annotation.Simple=plyr::revalue(Annotation.Simple, c(\"exon\"=\"Exon\", \"intron\"=\"Intron\", \"promoter-TSS\"=\"Promoter-TSS\"))) %>%\n",
    "    ggplot() +\n",
    "    geom_bar(aes(x=Annotation.Simple, fill=Annotation.Simple)) +\n",
    "    xlab(\"Simple Peak Annotation\") + ylab(\"Frequency\") +\n",
    "    scale_fill_brewer(palette=\"Pastel1\") + guides(fill=\"none\") +\n",
    "    facet_wrap(Cell.Type~.) +\n",
    "    ggplot_theme +\n",
    "    theme(axis.text.x=element_text(angle=90, hjust=1, vjust=0.5))\n",
    "\n",
    "ggsave(\"03_Functional_Interpretation/results/homer_simple_peak_annotation_cell_type.svg\", width=12, height=12)"
   ]
  },
  {
   "cell_type": "markdown",
   "id": "c0bdd1e1-9aec-4f60-a5bc-9d069e40469f",
   "metadata": {},
   "source": [
    "## Known Motifs in Neutrophils"
   ]
  },
  {
   "cell_type": "markdown",
   "id": "c54dabcd-03e5-463a-a9a5-e735e081f7c9",
   "metadata": {},
   "source": [
    "SEA from the MEME suite checks for the enrichment of motifs in a set of sequences. I used all the transcription factors for vertebrates from JASPAR as input. I tested for motifs in both more accessible peaks and less accessible peaks. These could highlight transcription factors that drive downstream gene expression."
   ]
  },
  {
   "cell_type": "code",
   "execution_count": 28,
   "id": "7699bba5-e86d-4d80-98cd-752d7860d5d7",
   "metadata": {},
   "outputs": [
    {
     "data": {
      "text/html": [
       "<strong>png:</strong> 2"
      ],
      "text/latex": [
       "\\textbf{png:} 2"
      ],
      "text/markdown": [
       "**png:** 2"
      ],
      "text/plain": [
       "png \n",
       "  2 "
      ]
     },
     "metadata": {},
     "output_type": "display_data"
    }
   ],
   "source": [
    "colors <- colorRampPalette(brewer.pal(9, \"Reds\"))(101)\n",
    "\n",
    "plot.mtx <- rm.up.enriched.motifs %>%\n",
    "    dplyr::mutate(Log2.Enr.Ratio=log2(ENR_RATIO)) %>%\n",
    "    dplyr::filter(QVALUE < 0.001) %>%\n",
    "    dplyr::filter(Log2.Enr.Ratio >= 1) %>%\n",
    "    dplyr::select(ALT_ID, Treatment, Log2.Enr.Ratio) %>%\n",
    "    tidyr::spread(ALT_ID, Log2.Enr.Ratio) %>%\n",
    "    replace(is.na(.), 0)\n",
    "\n",
    "rownames(plot.mtx) <- plot.mtx$Treatment\n",
    "plot.mtx <- as.matrix(plot.mtx[,-1])\n",
    "\n",
    "svg(\"03_Functional_Interpretation/results/enriched_motifs_more_accessible_rm.svg\", width=18, height=3)\n",
    "Heatmap(plot.mtx, col=colors, heatmap_legend_param=list(\n",
    "    title=bquote(\"Log\"[2]*\"(Fold Enrichment)\")\n",
    "))\n",
    "dev.off()"
   ]
  },
  {
   "cell_type": "markdown",
   "id": "66447d9b-8511-406e-beb3-d45fd909a391",
   "metadata": {},
   "source": [
    "![](../results/enriched_motifs_more_accessible_rm.svg)"
   ]
  },
  {
   "cell_type": "markdown",
   "id": "79d59f58-9eec-4b7e-8aa5-b940d414c80c",
   "metadata": {},
   "source": [
    "## Known Motifs in Immune Atlas"
   ]
  },
  {
   "cell_type": "markdown",
   "id": "cb40d641-9586-4182-a99e-2f899685deb1",
   "metadata": {},
   "source": [
    "SEA from the MEME suite checks for the enrichment of motifs in a set of sequences. I used all the transcription factors for vertebrates from JASPAR as input. I tested for motifs in both more accessible peaks and less accessible peaks. These could highlight transcription factors that drive downstream gene expression."
   ]
  },
  {
   "cell_type": "code",
   "execution_count": 31,
   "id": "9bdc1999-0f63-4470-9952-aef819497a0b",
   "metadata": {},
   "outputs": [
    {
     "data": {
      "text/html": [
       "<strong>png:</strong> 2"
      ],
      "text/latex": [
       "\\textbf{png:} 2"
      ],
      "text/markdown": [
       "**png:** 2"
      ],
      "text/plain": [
       "png \n",
       "  2 "
      ]
     },
     "metadata": {},
     "output_type": "display_data"
    }
   ],
   "source": [
    "colors <- colorRampPalette(brewer.pal(9, \"Reds\"))(101)\n",
    "\n",
    "plot.mtx <- ia.up.enriched.motifs %>%\n",
    "    dplyr::mutate(Log2.Enr.Ratio=log2(ENR_RATIO)) %>%\n",
    "    dplyr::filter(QVALUE < 0.001) %>%\n",
    "    dplyr::filter(Log2.Enr.Ratio >= 1) %>%\n",
    "    dplyr::select(ALT_ID, Cell.Type, Log2.Enr.Ratio) %>%\n",
    "    tidyr::spread(ALT_ID, Log2.Enr.Ratio) %>%\n",
    "    replace(is.na(.), 0)\n",
    "\n",
    "rownames(plot.mtx) <- plot.mtx$Cell.Type\n",
    "plot.mtx <- as.matrix(plot.mtx[,-1])\n",
    "\n",
    "svg(\"03_Functional_Interpretation/results/enriched_motifs_more_accessible_ia.svg\", width=30, height=5.5)\n",
    "Heatmap(plot.mtx, col=colors, heatmap_legend_param=list(\n",
    "    title=bquote(\"Log\"[2]*\"(Fold Enrichment)\")\n",
    "))\n",
    "dev.off()"
   ]
  },
  {
   "cell_type": "markdown",
   "id": "667cfcbe-b637-40b1-b6de-cea1ea641740",
   "metadata": {},
   "source": [
    "![](../results/enriched_motifs_more_accessible_ia.svg)"
   ]
  },
  {
   "cell_type": "code",
   "execution_count": 32,
   "id": "01c0ca50-445f-4bc9-8492-5c61559e20a9",
   "metadata": {},
   "outputs": [
    {
     "data": {
      "text/html": [
       "<strong>png:</strong> 2"
      ],
      "text/latex": [
       "\\textbf{png:} 2"
      ],
      "text/markdown": [
       "**png:** 2"
      ],
      "text/plain": [
       "png \n",
       "  2 "
      ]
     },
     "metadata": {},
     "output_type": "display_data"
    }
   ],
   "source": [
    "colors <- colorRampPalette(brewer.pal(9, \"Blues\"))(101)\n",
    "\n",
    "plot.mtx <- ia.down.enriched.motifs %>%\n",
    "    dplyr::mutate(Log2.Enr.Ratio=log2(ENR_RATIO)) %>%\n",
    "    dplyr::filter(QVALUE < 0.001) %>%\n",
    "    dplyr::filter(Log2.Enr.Ratio >= 1) %>%\n",
    "    dplyr::select(ALT_ID, Cell.Type, Log2.Enr.Ratio) %>%\n",
    "    tidyr::spread(ALT_ID, Log2.Enr.Ratio) %>%\n",
    "    replace(is.na(.), 0)\n",
    "\n",
    "rownames(plot.mtx) <- plot.mtx$Cell.Type\n",
    "plot.mtx <- as.matrix(plot.mtx[,-1])\n",
    "\n",
    "svg(\"03_Functional_Interpretation/results/enriched_motifs_less_accessible_ia.svg\", width=30, height=5.5)\n",
    "Heatmap(plot.mtx, col=colors, heatmap_legend_param=list(\n",
    "    title=bquote(\"Log\"[2]*\"(Fold Enrichment)\")\n",
    "))\n",
    "dev.off()"
   ]
  },
  {
   "cell_type": "markdown",
   "id": "21bd31ee-536d-486e-bcde-2130f7ed67a8",
   "metadata": {},
   "source": [
    "![](../results/enriched_motifs_less_accessible_ia.svg)"
   ]
  },
  {
   "cell_type": "code",
   "execution_count": null,
   "id": "c88209d7-6082-4346-8c01-77d08bb781ea",
   "metadata": {},
   "outputs": [],
   "source": []
  }
 ],
 "metadata": {
  "kernelspec": {
   "display_name": "R",
   "language": "R",
   "name": "ir"
  },
  "language_info": {
   "codemirror_mode": "r",
   "file_extension": ".r",
   "mimetype": "text/x-r-source",
   "name": "R",
   "pygments_lexer": "r",
   "version": "4.0.5"
  }
 },
 "nbformat": 4,
 "nbformat_minor": 5
}
