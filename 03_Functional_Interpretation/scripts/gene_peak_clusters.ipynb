{
 "cells": [
  {
   "cell_type": "markdown",
   "id": "403a24eb-c76d-4650-a245-906289da3fd8",
   "metadata": {},
   "source": [
    "# Gene-Peak Clusters\n",
    "\n",
    "**Created**: 19 January 2022"
   ]
  },
  {
   "cell_type": "markdown",
   "id": "af2aeb1c-0a15-4e12-a5dd-115bc5b84ed5",
   "metadata": {},
   "source": [
    "## Environment"
   ]
  },
  {
   "cell_type": "code",
   "execution_count": 24,
   "id": "52e76457-c384-4516-9d22-26e82e817e79",
   "metadata": {},
   "outputs": [],
   "source": [
    "if (!requireNamespace(\"rtracklayer\", quietly=T)) {\n",
    "    install.packages(\"rtracklayer\")\n",
    "}\n",
    "\n",
    "if (!requireNamespace(\"ComplexHeatmap\", quietly=TRUE)) {\n",
    "    BiocManager::install(\"ComplexHeatmap\")\n",
    "}"
   ]
  },
  {
   "cell_type": "code",
   "execution_count": 25,
   "id": "88480420-6830-4dc0-afe5-6c3ed0c2b881",
   "metadata": {},
   "outputs": [],
   "source": [
    "library(tidyverse)\n",
    "library(RColorBrewer)\n",
    "library(data.table)\n",
    "library(rtracklayer)\n",
    "library(ComplexHeatmap)\n",
    "\n",
    "setwd(\"~/eQTL_pQTL_Characterization/\")\n",
    "\n",
    "source(\"03_Functional_Interpretation/scripts/utils/ggplot_theme.R\")"
   ]
  },
  {
   "cell_type": "markdown",
   "id": "3d0b0262-af26-4f79-95b3-385ca3852883",
   "metadata": {},
   "source": [
    "## Load Data"
   ]
  },
  {
   "cell_type": "code",
   "execution_count": 27,
   "id": "bdd381f2-c4a2-4bd5-a8d4-7ddc5975c135",
   "metadata": {},
   "outputs": [],
   "source": [
    "peaks <- fread(\"~/gains_team282/epigenetics/calderon_et_al/analysis/atac_seq/peak_counts.tsv\", sep=\"\\t\")"
   ]
  },
  {
   "cell_type": "code",
   "execution_count": 28,
   "id": "4f0cfa18-81e6-421f-be1c-47b7b66b2707",
   "metadata": {},
   "outputs": [
    {
     "data": {
      "text/html": [
       "<table class=\"dataframe\">\n",
       "<caption>A data.table: 6 × 180</caption>\n",
       "<thead>\n",
       "\t<tr><th scope=col>GeneID</th><th scope=col>Chr</th><th scope=col>Start</th><th scope=col>End</th><th scope=col>Strand</th><th scope=col>SRR7650746.filtered.bam</th><th scope=col>SRR7650847.filtered.bam</th><th scope=col>SRR7650752.filtered.bam</th><th scope=col>SRR7650828.filtered.bam</th><th scope=col>SRR7650841.filtered.bam</th><th scope=col>⋯</th><th scope=col>SRR7650809.filtered.bam</th><th scope=col>SRR7650846.filtered.bam</th><th scope=col>SRR7650844.filtered.bam</th><th scope=col>SRR7650801.filtered.bam</th><th scope=col>SRR7650843.filtered.bam</th><th scope=col>SRR7650849.filtered.bam</th><th scope=col>SRR7650811.filtered.bam</th><th scope=col>SRR7650826.filtered.bam</th><th scope=col>SRR7650831.filtered.bam</th><th scope=col>SRR7650770.filtered.bam</th></tr>\n",
       "\t<tr><th scope=col>&lt;chr&gt;</th><th scope=col>&lt;chr&gt;</th><th scope=col>&lt;int&gt;</th><th scope=col>&lt;int&gt;</th><th scope=col>&lt;chr&gt;</th><th scope=col>&lt;int&gt;</th><th scope=col>&lt;int&gt;</th><th scope=col>&lt;int&gt;</th><th scope=col>&lt;int&gt;</th><th scope=col>&lt;int&gt;</th><th scope=col>⋯</th><th scope=col>&lt;int&gt;</th><th scope=col>&lt;int&gt;</th><th scope=col>&lt;int&gt;</th><th scope=col>&lt;int&gt;</th><th scope=col>&lt;int&gt;</th><th scope=col>&lt;int&gt;</th><th scope=col>&lt;int&gt;</th><th scope=col>&lt;int&gt;</th><th scope=col>&lt;int&gt;</th><th scope=col>&lt;int&gt;</th></tr>\n",
       "</thead>\n",
       "<tbody>\n",
       "\t<tr><td>1:23224-23849</td><td>1</td><td>23224</td><td>23849</td><td>+</td><td> 13</td><td>  6</td><td> 29</td><td>  8</td><td>  6</td><td>⋯</td><td>30</td><td>  6</td><td>  3</td><td> 10</td><td>  4</td><td>13</td><td>  6</td><td>  4</td><td> 10</td><td> 10</td></tr>\n",
       "\t<tr><td>1:24025-26778</td><td>1</td><td>24025</td><td>26778</td><td>+</td><td> 55</td><td> 32</td><td> 66</td><td> 52</td><td> 32</td><td>⋯</td><td>76</td><td> 47</td><td> 30</td><td> 80</td><td> 36</td><td>41</td><td> 76</td><td> 53</td><td> 68</td><td> 45</td></tr>\n",
       "\t<tr><td>1:28524-30136</td><td>1</td><td>28524</td><td>30136</td><td>+</td><td>615</td><td>232</td><td>869</td><td>323</td><td>288</td><td>⋯</td><td>99</td><td>132</td><td>300</td><td>530</td><td>284</td><td>64</td><td>425</td><td>335</td><td>320</td><td>307</td></tr>\n",
       "\t<tr><td>1:30354-30875</td><td>1</td><td>30354</td><td>30875</td><td>+</td><td> 13</td><td>  4</td><td> 14</td><td> 11</td><td>  3</td><td>⋯</td><td>12</td><td>  3</td><td>  0</td><td> 12</td><td>  2</td><td> 3</td><td>  8</td><td>  8</td><td>  5</td><td> 10</td></tr>\n",
       "\t<tr><td>1:31109-31894</td><td>1</td><td>31109</td><td>31894</td><td>+</td><td> 16</td><td> 16</td><td> 48</td><td> 17</td><td>  3</td><td>⋯</td><td>16</td><td> 10</td><td>  4</td><td> 24</td><td>  4</td><td>11</td><td> 27</td><td> 11</td><td> 17</td><td> 18</td></tr>\n",
       "\t<tr><td>1:32151-32330</td><td>1</td><td>32151</td><td>32330</td><td>+</td><td>  3</td><td>  4</td><td>  7</td><td>  5</td><td>  2</td><td>⋯</td><td> 6</td><td>  2</td><td>  0</td><td>  3</td><td>  2</td><td> 2</td><td>  1</td><td>  5</td><td>  8</td><td>  6</td></tr>\n",
       "</tbody>\n",
       "</table>\n"
      ],
      "text/latex": [
       "A data.table: 6 × 180\n",
       "\\begin{tabular}{lllllllllllllllllllll}\n",
       " GeneID & Chr & Start & End & Strand & SRR7650746.filtered.bam & SRR7650847.filtered.bam & SRR7650752.filtered.bam & SRR7650828.filtered.bam & SRR7650841.filtered.bam & ⋯ & SRR7650809.filtered.bam & SRR7650846.filtered.bam & SRR7650844.filtered.bam & SRR7650801.filtered.bam & SRR7650843.filtered.bam & SRR7650849.filtered.bam & SRR7650811.filtered.bam & SRR7650826.filtered.bam & SRR7650831.filtered.bam & SRR7650770.filtered.bam\\\\\n",
       " <chr> & <chr> & <int> & <int> & <chr> & <int> & <int> & <int> & <int> & <int> & ⋯ & <int> & <int> & <int> & <int> & <int> & <int> & <int> & <int> & <int> & <int>\\\\\n",
       "\\hline\n",
       "\t 1:23224-23849 & 1 & 23224 & 23849 & + &  13 &   6 &  29 &   8 &   6 & ⋯ & 30 &   6 &   3 &  10 &   4 & 13 &   6 &   4 &  10 &  10\\\\\n",
       "\t 1:24025-26778 & 1 & 24025 & 26778 & + &  55 &  32 &  66 &  52 &  32 & ⋯ & 76 &  47 &  30 &  80 &  36 & 41 &  76 &  53 &  68 &  45\\\\\n",
       "\t 1:28524-30136 & 1 & 28524 & 30136 & + & 615 & 232 & 869 & 323 & 288 & ⋯ & 99 & 132 & 300 & 530 & 284 & 64 & 425 & 335 & 320 & 307\\\\\n",
       "\t 1:30354-30875 & 1 & 30354 & 30875 & + &  13 &   4 &  14 &  11 &   3 & ⋯ & 12 &   3 &   0 &  12 &   2 &  3 &   8 &   8 &   5 &  10\\\\\n",
       "\t 1:31109-31894 & 1 & 31109 & 31894 & + &  16 &  16 &  48 &  17 &   3 & ⋯ & 16 &  10 &   4 &  24 &   4 & 11 &  27 &  11 &  17 &  18\\\\\n",
       "\t 1:32151-32330 & 1 & 32151 & 32330 & + &   3 &   4 &   7 &   5 &   2 & ⋯ &  6 &   2 &   0 &   3 &   2 &  2 &   1 &   5 &   8 &   6\\\\\n",
       "\\end{tabular}\n"
      ],
      "text/markdown": [
       "\n",
       "A data.table: 6 × 180\n",
       "\n",
       "| GeneID &lt;chr&gt; | Chr &lt;chr&gt; | Start &lt;int&gt; | End &lt;int&gt; | Strand &lt;chr&gt; | SRR7650746.filtered.bam &lt;int&gt; | SRR7650847.filtered.bam &lt;int&gt; | SRR7650752.filtered.bam &lt;int&gt; | SRR7650828.filtered.bam &lt;int&gt; | SRR7650841.filtered.bam &lt;int&gt; | ⋯ ⋯ | SRR7650809.filtered.bam &lt;int&gt; | SRR7650846.filtered.bam &lt;int&gt; | SRR7650844.filtered.bam &lt;int&gt; | SRR7650801.filtered.bam &lt;int&gt; | SRR7650843.filtered.bam &lt;int&gt; | SRR7650849.filtered.bam &lt;int&gt; | SRR7650811.filtered.bam &lt;int&gt; | SRR7650826.filtered.bam &lt;int&gt; | SRR7650831.filtered.bam &lt;int&gt; | SRR7650770.filtered.bam &lt;int&gt; |\n",
       "|---|---|---|---|---|---|---|---|---|---|---|---|---|---|---|---|---|---|---|---|---|\n",
       "| 1:23224-23849 | 1 | 23224 | 23849 | + |  13 |   6 |  29 |   8 |   6 | ⋯ | 30 |   6 |   3 |  10 |   4 | 13 |   6 |   4 |  10 |  10 |\n",
       "| 1:24025-26778 | 1 | 24025 | 26778 | + |  55 |  32 |  66 |  52 |  32 | ⋯ | 76 |  47 |  30 |  80 |  36 | 41 |  76 |  53 |  68 |  45 |\n",
       "| 1:28524-30136 | 1 | 28524 | 30136 | + | 615 | 232 | 869 | 323 | 288 | ⋯ | 99 | 132 | 300 | 530 | 284 | 64 | 425 | 335 | 320 | 307 |\n",
       "| 1:30354-30875 | 1 | 30354 | 30875 | + |  13 |   4 |  14 |  11 |   3 | ⋯ | 12 |   3 |   0 |  12 |   2 |  3 |   8 |   8 |   5 |  10 |\n",
       "| 1:31109-31894 | 1 | 31109 | 31894 | + |  16 |  16 |  48 |  17 |   3 | ⋯ | 16 |  10 |   4 |  24 |   4 | 11 |  27 |  11 |  17 |  18 |\n",
       "| 1:32151-32330 | 1 | 32151 | 32330 | + |   3 |   4 |   7 |   5 |   2 | ⋯ |  6 |   2 |   0 |   3 |   2 |  2 |   1 |   5 |   8 |   6 |\n",
       "\n"
      ],
      "text/plain": [
       "  GeneID        Chr Start End   Strand SRR7650746.filtered.bam\n",
       "1 1:23224-23849 1   23224 23849 +       13                    \n",
       "2 1:24025-26778 1   24025 26778 +       55                    \n",
       "3 1:28524-30136 1   28524 30136 +      615                    \n",
       "4 1:30354-30875 1   30354 30875 +       13                    \n",
       "5 1:31109-31894 1   31109 31894 +       16                    \n",
       "6 1:32151-32330 1   32151 32330 +        3                    \n",
       "  SRR7650847.filtered.bam SRR7650752.filtered.bam SRR7650828.filtered.bam\n",
       "1   6                      29                       8                    \n",
       "2  32                      66                      52                    \n",
       "3 232                     869                     323                    \n",
       "4   4                      14                      11                    \n",
       "5  16                      48                      17                    \n",
       "6   4                       7                       5                    \n",
       "  SRR7650841.filtered.bam ⋯ SRR7650809.filtered.bam SRR7650846.filtered.bam\n",
       "1   6                     ⋯ 30                        6                    \n",
       "2  32                     ⋯ 76                       47                    \n",
       "3 288                     ⋯ 99                      132                    \n",
       "4   3                     ⋯ 12                        3                    \n",
       "5   3                     ⋯ 16                       10                    \n",
       "6   2                     ⋯  6                        2                    \n",
       "  SRR7650844.filtered.bam SRR7650801.filtered.bam SRR7650843.filtered.bam\n",
       "1   3                      10                       4                    \n",
       "2  30                      80                      36                    \n",
       "3 300                     530                     284                    \n",
       "4   0                      12                       2                    \n",
       "5   4                      24                       4                    \n",
       "6   0                       3                       2                    \n",
       "  SRR7650849.filtered.bam SRR7650811.filtered.bam SRR7650826.filtered.bam\n",
       "1 13                        6                       4                    \n",
       "2 41                       76                      53                    \n",
       "3 64                      425                     335                    \n",
       "4  3                        8                       8                    \n",
       "5 11                       27                      11                    \n",
       "6  2                        1                       5                    \n",
       "  SRR7650831.filtered.bam SRR7650770.filtered.bam\n",
       "1  10                      10                    \n",
       "2  68                      45                    \n",
       "3 320                     307                    \n",
       "4   5                      10                    \n",
       "5  17                      18                    \n",
       "6   8                       6                    "
      ]
     },
     "metadata": {},
     "output_type": "display_data"
    }
   ],
   "source": [
    "head(peaks)"
   ]
  },
  {
   "cell_type": "code",
   "execution_count": 5,
   "id": "e868273f-8a55-48a8-a8d2-ad0a0362fd3b",
   "metadata": {},
   "outputs": [
    {
     "data": {
      "text/html": [
       "<table class=\"dataframe\">\n",
       "<caption>A data.frame: 6 × 4</caption>\n",
       "<thead>\n",
       "\t<tr><th></th><th scope=col>Peak.ID</th><th scope=col>Peak.Chr</th><th scope=col>Peak.Start</th><th scope=col>Peak.End</th></tr>\n",
       "\t<tr><th></th><th scope=col>&lt;chr&gt;</th><th scope=col>&lt;chr&gt;</th><th scope=col>&lt;chr&gt;</th><th scope=col>&lt;chr&gt;</th></tr>\n",
       "</thead>\n",
       "<tbody>\n",
       "\t<tr><th scope=row>1</th><td>1:24025-26778  </td><td>1</td><td>24025 </td><td>26778 </td></tr>\n",
       "\t<tr><th scope=row>2</th><td>1:28524-30136  </td><td>1</td><td>28524 </td><td>30136 </td></tr>\n",
       "\t<tr><th scope=row>3</th><td>1:39133-40497  </td><td>1</td><td>39133 </td><td>40497 </td></tr>\n",
       "\t<tr><th scope=row>4</th><td>1:131043-132635</td><td>1</td><td>131043</td><td>132635</td></tr>\n",
       "\t<tr><th scope=row>5</th><td>1:132691-134636</td><td>1</td><td>132691</td><td>134636</td></tr>\n",
       "\t<tr><th scope=row>6</th><td>1:194914-197668</td><td>1</td><td>194914</td><td>197668</td></tr>\n",
       "</tbody>\n",
       "</table>\n"
      ],
      "text/latex": [
       "A data.frame: 6 × 4\n",
       "\\begin{tabular}{r|llll}\n",
       "  & Peak.ID & Peak.Chr & Peak.Start & Peak.End\\\\\n",
       "  & <chr> & <chr> & <chr> & <chr>\\\\\n",
       "\\hline\n",
       "\t1 & 1:24025-26778   & 1 & 24025  & 26778 \\\\\n",
       "\t2 & 1:28524-30136   & 1 & 28524  & 30136 \\\\\n",
       "\t3 & 1:39133-40497   & 1 & 39133  & 40497 \\\\\n",
       "\t4 & 1:131043-132635 & 1 & 131043 & 132635\\\\\n",
       "\t5 & 1:132691-134636 & 1 & 132691 & 134636\\\\\n",
       "\t6 & 1:194914-197668 & 1 & 194914 & 197668\\\\\n",
       "\\end{tabular}\n"
      ],
      "text/markdown": [
       "\n",
       "A data.frame: 6 × 4\n",
       "\n",
       "| <!--/--> | Peak.ID &lt;chr&gt; | Peak.Chr &lt;chr&gt; | Peak.Start &lt;chr&gt; | Peak.End &lt;chr&gt; |\n",
       "|---|---|---|---|---|\n",
       "| 1 | 1:24025-26778   | 1 | 24025  | 26778  |\n",
       "| 2 | 1:28524-30136   | 1 | 28524  | 30136  |\n",
       "| 3 | 1:39133-40497   | 1 | 39133  | 40497  |\n",
       "| 4 | 1:131043-132635 | 1 | 131043 | 132635 |\n",
       "| 5 | 1:132691-134636 | 1 | 132691 | 134636 |\n",
       "| 6 | 1:194914-197668 | 1 | 194914 | 197668 |\n",
       "\n"
      ],
      "text/plain": [
       "  Peak.ID         Peak.Chr Peak.Start Peak.End\n",
       "1 1:24025-26778   1        24025      26778   \n",
       "2 1:28524-30136   1        28524      30136   \n",
       "3 1:39133-40497   1        39133      40497   \n",
       "4 1:131043-132635 1        131043     132635  \n",
       "5 1:132691-134636 1        132691     134636  \n",
       "6 1:194914-197668 1        194914     197668  "
      ]
     },
     "metadata": {},
     "output_type": "display_data"
    }
   ],
   "source": [
    "id.split.1 <- do.call(rbind, strsplit(rownames(peaks), \":\"))\n",
    "id.split.2 <- do.call(rbind, strsplit(id.split.1[,2], \"-\"))\n",
    "\n",
    "peaks.info <- as.data.frame(cbind(rownames(peaks), id.split.1[,1], id.split.2))\n",
    "colnames(peaks.info) <- c(\"Peak.ID\", \"Peak.Chr\", \"Peak.Start\", \"Peak.End\")\n",
    "\n",
    "head(peaks.info)"
   ]
  },
  {
   "cell_type": "code",
   "execution_count": 6,
   "id": "77ef0619-fddc-44a4-8f26-cb4d3c5645ab",
   "metadata": {},
   "outputs": [],
   "source": [
    "atac.seq.metadata <- read.csv(\"03_Functional_Interpretation/metadata/reads_calderon_et_al_atac_seq.txt\")"
   ]
  },
  {
   "cell_type": "code",
   "execution_count": 7,
   "id": "ca845910-22f7-4956-b3f7-c922fff7e42e",
   "metadata": {},
   "outputs": [
    {
     "data": {
      "text/html": [
       "<table class=\"dataframe\">\n",
       "<caption>A data.frame: 6 × 28</caption>\n",
       "<thead>\n",
       "\t<tr><th></th><th scope=col>Run</th><th scope=col>Assay.Type</th><th scope=col>AvgSpotLen</th><th scope=col>Bases</th><th scope=col>BioProject</th><th scope=col>BioSample</th><th scope=col>Bytes</th><th scope=col>Cell_type</th><th scope=col>Center.Name</th><th scope=col>Consent</th><th scope=col>⋯</th><th scope=col>LibrarySelection</th><th scope=col>LibrarySource</th><th scope=col>lineage</th><th scope=col>Organism</th><th scope=col>Platform</th><th scope=col>ReleaseDate</th><th scope=col>Sample.Name</th><th scope=col>source_name</th><th scope=col>SRA.Study</th><th scope=col>Treatment</th></tr>\n",
       "\t<tr><th></th><th scope=col>&lt;chr&gt;</th><th scope=col>&lt;chr&gt;</th><th scope=col>&lt;int&gt;</th><th scope=col>&lt;dbl&gt;</th><th scope=col>&lt;chr&gt;</th><th scope=col>&lt;chr&gt;</th><th scope=col>&lt;dbl&gt;</th><th scope=col>&lt;chr&gt;</th><th scope=col>&lt;chr&gt;</th><th scope=col>&lt;chr&gt;</th><th scope=col>⋯</th><th scope=col>&lt;chr&gt;</th><th scope=col>&lt;chr&gt;</th><th scope=col>&lt;chr&gt;</th><th scope=col>&lt;chr&gt;</th><th scope=col>&lt;chr&gt;</th><th scope=col>&lt;chr&gt;</th><th scope=col>&lt;chr&gt;</th><th scope=col>&lt;chr&gt;</th><th scope=col>&lt;chr&gt;</th><th scope=col>&lt;chr&gt;</th></tr>\n",
       "</thead>\n",
       "<tbody>\n",
       "\t<tr><th scope=row>1</th><td>SRR7650729</td><td>ATAC-seq</td><td>130</td><td>7671684082</td><td>PRJNA484801</td><td>SAMN09769836</td><td>3235449960</td><td>Bulk_B </td><td>GEO</td><td>public</td><td>⋯</td><td>other</td><td>GENOMIC</td><td>B</td><td>Homo sapiens</td><td>ILLUMINA</td><td>2018-09-06T00:00:00Z</td><td>GSM3320229</td><td>primary blood</td><td>SRP156496</td><td>no_treament</td></tr>\n",
       "\t<tr><th scope=row>2</th><td>SRR7650730</td><td>ATAC-seq</td><td>130</td><td>8755083677</td><td>PRJNA484801</td><td>SAMN09769835</td><td>3691300841</td><td>Bulk_B </td><td>GEO</td><td>public</td><td>⋯</td><td>other</td><td>GENOMIC</td><td>B</td><td>Homo sapiens</td><td>ILLUMINA</td><td>2018-09-06T00:00:00Z</td><td>GSM3320230</td><td>primary blood</td><td>SRP156496</td><td>treatment1 </td></tr>\n",
       "\t<tr><th scope=row>3</th><td>SRR7650731</td><td>ATAC-seq</td><td>131</td><td>8483939942</td><td>PRJNA484801</td><td>SAMN09769834</td><td>3602660374</td><td>Mem_B  </td><td>GEO</td><td>public</td><td>⋯</td><td>other</td><td>GENOMIC</td><td>B</td><td>Homo sapiens</td><td>ILLUMINA</td><td>2018-09-06T00:00:00Z</td><td>GSM3320231</td><td>primary blood</td><td>SRP156496</td><td>no_treament</td></tr>\n",
       "\t<tr><th scope=row>4</th><td>SRR7650732</td><td>ATAC-seq</td><td>131</td><td>7895482240</td><td>PRJNA484801</td><td>SAMN09769833</td><td>3334427072</td><td>Mem_B  </td><td>GEO</td><td>public</td><td>⋯</td><td>other</td><td>GENOMIC</td><td>B</td><td>Homo sapiens</td><td>ILLUMINA</td><td>2018-09-06T00:00:00Z</td><td>GSM3320232</td><td>primary blood</td><td>SRP156496</td><td>treatment1 </td></tr>\n",
       "\t<tr><th scope=row>5</th><td>SRR7650733</td><td>ATAC-seq</td><td>132</td><td>7063118195</td><td>PRJNA484801</td><td>SAMN09769832</td><td>3012041722</td><td>Naive_B</td><td>GEO</td><td>public</td><td>⋯</td><td>other</td><td>GENOMIC</td><td>B</td><td>Homo sapiens</td><td>ILLUMINA</td><td>2018-09-06T00:00:00Z</td><td>GSM3320233</td><td>primary blood</td><td>SRP156496</td><td>no_treament</td></tr>\n",
       "\t<tr><th scope=row>6</th><td>SRR7650734</td><td>ATAC-seq</td><td>131</td><td>9335521479</td><td>PRJNA484801</td><td>SAMN09769831</td><td>3972942953</td><td>Naive_B</td><td>GEO</td><td>public</td><td>⋯</td><td>other</td><td>GENOMIC</td><td>B</td><td>Homo sapiens</td><td>ILLUMINA</td><td>2018-09-06T00:00:00Z</td><td>GSM3320234</td><td>primary blood</td><td>SRP156496</td><td>treatment1 </td></tr>\n",
       "</tbody>\n",
       "</table>\n"
      ],
      "text/latex": [
       "A data.frame: 6 × 28\n",
       "\\begin{tabular}{r|lllllllllllllllllllll}\n",
       "  & Run & Assay.Type & AvgSpotLen & Bases & BioProject & BioSample & Bytes & Cell\\_type & Center.Name & Consent & ⋯ & LibrarySelection & LibrarySource & lineage & Organism & Platform & ReleaseDate & Sample.Name & source\\_name & SRA.Study & Treatment\\\\\n",
       "  & <chr> & <chr> & <int> & <dbl> & <chr> & <chr> & <dbl> & <chr> & <chr> & <chr> & ⋯ & <chr> & <chr> & <chr> & <chr> & <chr> & <chr> & <chr> & <chr> & <chr> & <chr>\\\\\n",
       "\\hline\n",
       "\t1 & SRR7650729 & ATAC-seq & 130 & 7671684082 & PRJNA484801 & SAMN09769836 & 3235449960 & Bulk\\_B  & GEO & public & ⋯ & other & GENOMIC & B & Homo sapiens & ILLUMINA & 2018-09-06T00:00:00Z & GSM3320229 & primary blood & SRP156496 & no\\_treament\\\\\n",
       "\t2 & SRR7650730 & ATAC-seq & 130 & 8755083677 & PRJNA484801 & SAMN09769835 & 3691300841 & Bulk\\_B  & GEO & public & ⋯ & other & GENOMIC & B & Homo sapiens & ILLUMINA & 2018-09-06T00:00:00Z & GSM3320230 & primary blood & SRP156496 & treatment1 \\\\\n",
       "\t3 & SRR7650731 & ATAC-seq & 131 & 8483939942 & PRJNA484801 & SAMN09769834 & 3602660374 & Mem\\_B   & GEO & public & ⋯ & other & GENOMIC & B & Homo sapiens & ILLUMINA & 2018-09-06T00:00:00Z & GSM3320231 & primary blood & SRP156496 & no\\_treament\\\\\n",
       "\t4 & SRR7650732 & ATAC-seq & 131 & 7895482240 & PRJNA484801 & SAMN09769833 & 3334427072 & Mem\\_B   & GEO & public & ⋯ & other & GENOMIC & B & Homo sapiens & ILLUMINA & 2018-09-06T00:00:00Z & GSM3320232 & primary blood & SRP156496 & treatment1 \\\\\n",
       "\t5 & SRR7650733 & ATAC-seq & 132 & 7063118195 & PRJNA484801 & SAMN09769832 & 3012041722 & Naive\\_B & GEO & public & ⋯ & other & GENOMIC & B & Homo sapiens & ILLUMINA & 2018-09-06T00:00:00Z & GSM3320233 & primary blood & SRP156496 & no\\_treament\\\\\n",
       "\t6 & SRR7650734 & ATAC-seq & 131 & 9335521479 & PRJNA484801 & SAMN09769831 & 3972942953 & Naive\\_B & GEO & public & ⋯ & other & GENOMIC & B & Homo sapiens & ILLUMINA & 2018-09-06T00:00:00Z & GSM3320234 & primary blood & SRP156496 & treatment1 \\\\\n",
       "\\end{tabular}\n"
      ],
      "text/markdown": [
       "\n",
       "A data.frame: 6 × 28\n",
       "\n",
       "| <!--/--> | Run &lt;chr&gt; | Assay.Type &lt;chr&gt; | AvgSpotLen &lt;int&gt; | Bases &lt;dbl&gt; | BioProject &lt;chr&gt; | BioSample &lt;chr&gt; | Bytes &lt;dbl&gt; | Cell_type &lt;chr&gt; | Center.Name &lt;chr&gt; | Consent &lt;chr&gt; | ⋯ ⋯ | LibrarySelection &lt;chr&gt; | LibrarySource &lt;chr&gt; | lineage &lt;chr&gt; | Organism &lt;chr&gt; | Platform &lt;chr&gt; | ReleaseDate &lt;chr&gt; | Sample.Name &lt;chr&gt; | source_name &lt;chr&gt; | SRA.Study &lt;chr&gt; | Treatment &lt;chr&gt; |\n",
       "|---|---|---|---|---|---|---|---|---|---|---|---|---|---|---|---|---|---|---|---|---|---|\n",
       "| 1 | SRR7650729 | ATAC-seq | 130 | 7671684082 | PRJNA484801 | SAMN09769836 | 3235449960 | Bulk_B  | GEO | public | ⋯ | other | GENOMIC | B | Homo sapiens | ILLUMINA | 2018-09-06T00:00:00Z | GSM3320229 | primary blood | SRP156496 | no_treament |\n",
       "| 2 | SRR7650730 | ATAC-seq | 130 | 8755083677 | PRJNA484801 | SAMN09769835 | 3691300841 | Bulk_B  | GEO | public | ⋯ | other | GENOMIC | B | Homo sapiens | ILLUMINA | 2018-09-06T00:00:00Z | GSM3320230 | primary blood | SRP156496 | treatment1  |\n",
       "| 3 | SRR7650731 | ATAC-seq | 131 | 8483939942 | PRJNA484801 | SAMN09769834 | 3602660374 | Mem_B   | GEO | public | ⋯ | other | GENOMIC | B | Homo sapiens | ILLUMINA | 2018-09-06T00:00:00Z | GSM3320231 | primary blood | SRP156496 | no_treament |\n",
       "| 4 | SRR7650732 | ATAC-seq | 131 | 7895482240 | PRJNA484801 | SAMN09769833 | 3334427072 | Mem_B   | GEO | public | ⋯ | other | GENOMIC | B | Homo sapiens | ILLUMINA | 2018-09-06T00:00:00Z | GSM3320232 | primary blood | SRP156496 | treatment1  |\n",
       "| 5 | SRR7650733 | ATAC-seq | 132 | 7063118195 | PRJNA484801 | SAMN09769832 | 3012041722 | Naive_B | GEO | public | ⋯ | other | GENOMIC | B | Homo sapiens | ILLUMINA | 2018-09-06T00:00:00Z | GSM3320233 | primary blood | SRP156496 | no_treament |\n",
       "| 6 | SRR7650734 | ATAC-seq | 131 | 9335521479 | PRJNA484801 | SAMN09769831 | 3972942953 | Naive_B | GEO | public | ⋯ | other | GENOMIC | B | Homo sapiens | ILLUMINA | 2018-09-06T00:00:00Z | GSM3320234 | primary blood | SRP156496 | treatment1  |\n",
       "\n"
      ],
      "text/plain": [
       "  Run        Assay.Type AvgSpotLen Bases      BioProject  BioSample   \n",
       "1 SRR7650729 ATAC-seq   130        7671684082 PRJNA484801 SAMN09769836\n",
       "2 SRR7650730 ATAC-seq   130        8755083677 PRJNA484801 SAMN09769835\n",
       "3 SRR7650731 ATAC-seq   131        8483939942 PRJNA484801 SAMN09769834\n",
       "4 SRR7650732 ATAC-seq   131        7895482240 PRJNA484801 SAMN09769833\n",
       "5 SRR7650733 ATAC-seq   132        7063118195 PRJNA484801 SAMN09769832\n",
       "6 SRR7650734 ATAC-seq   131        9335521479 PRJNA484801 SAMN09769831\n",
       "  Bytes      Cell_type Center.Name Consent ⋯ LibrarySelection LibrarySource\n",
       "1 3235449960 Bulk_B    GEO         public  ⋯ other            GENOMIC      \n",
       "2 3691300841 Bulk_B    GEO         public  ⋯ other            GENOMIC      \n",
       "3 3602660374 Mem_B     GEO         public  ⋯ other            GENOMIC      \n",
       "4 3334427072 Mem_B     GEO         public  ⋯ other            GENOMIC      \n",
       "5 3012041722 Naive_B   GEO         public  ⋯ other            GENOMIC      \n",
       "6 3972942953 Naive_B   GEO         public  ⋯ other            GENOMIC      \n",
       "  lineage Organism     Platform ReleaseDate          Sample.Name source_name  \n",
       "1 B       Homo sapiens ILLUMINA 2018-09-06T00:00:00Z GSM3320229  primary blood\n",
       "2 B       Homo sapiens ILLUMINA 2018-09-06T00:00:00Z GSM3320230  primary blood\n",
       "3 B       Homo sapiens ILLUMINA 2018-09-06T00:00:00Z GSM3320231  primary blood\n",
       "4 B       Homo sapiens ILLUMINA 2018-09-06T00:00:00Z GSM3320232  primary blood\n",
       "5 B       Homo sapiens ILLUMINA 2018-09-06T00:00:00Z GSM3320233  primary blood\n",
       "6 B       Homo sapiens ILLUMINA 2018-09-06T00:00:00Z GSM3320234  primary blood\n",
       "  SRA.Study Treatment  \n",
       "1 SRP156496 no_treament\n",
       "2 SRP156496 treatment1 \n",
       "3 SRP156496 no_treament\n",
       "4 SRP156496 treatment1 \n",
       "5 SRP156496 no_treament\n",
       "6 SRP156496 treatment1 "
      ]
     },
     "metadata": {},
     "output_type": "display_data"
    }
   ],
   "source": [
    "head(atac.seq.metadata)"
   ]
  },
  {
   "cell_type": "code",
   "execution_count": 8,
   "id": "0ce1c100-5d6d-4d78-8947-4721220c5998",
   "metadata": {},
   "outputs": [],
   "source": [
    "genes <- read.csv(\"~/gains_team282/epigenetics/calderon_et_al/analysis/rna_seq/counts_normalized.csv\", row.names=1, stringsAsFactors=F)"
   ]
  },
  {
   "cell_type": "code",
   "execution_count": 9,
   "id": "0236db1e-0245-45a9-ab1d-4a483480acc3",
   "metadata": {},
   "outputs": [
    {
     "data": {
      "text/html": [
       "<table class=\"dataframe\">\n",
       "<caption>A data.frame: 6 × 165</caption>\n",
       "<thead>\n",
       "\t<tr><th></th><th scope=col>SRR11007187</th><th scope=col>SRR11007186</th><th scope=col>SRR7647733</th><th scope=col>SRR11007183</th><th scope=col>SRR11007177</th><th scope=col>SRR11007062</th><th scope=col>SRR7647801</th><th scope=col>SRR7647731</th><th scope=col>SRR11007089</th><th scope=col>SRR11007061</th><th scope=col>⋯</th><th scope=col>SRR11007105</th><th scope=col>SRR11007169</th><th scope=col>SRR11007182</th><th scope=col>SRR7647655</th><th scope=col>SRR11007094</th><th scope=col>SRR7647697</th><th scope=col>SRR11007106</th><th scope=col>SRR7647660</th><th scope=col>SRR7647768</th><th scope=col>SRR11007097</th></tr>\n",
       "\t<tr><th></th><th scope=col>&lt;dbl&gt;</th><th scope=col>&lt;dbl&gt;</th><th scope=col>&lt;dbl&gt;</th><th scope=col>&lt;dbl&gt;</th><th scope=col>&lt;dbl&gt;</th><th scope=col>&lt;dbl&gt;</th><th scope=col>&lt;dbl&gt;</th><th scope=col>&lt;dbl&gt;</th><th scope=col>&lt;dbl&gt;</th><th scope=col>&lt;dbl&gt;</th><th scope=col>⋯</th><th scope=col>&lt;dbl&gt;</th><th scope=col>&lt;dbl&gt;</th><th scope=col>&lt;dbl&gt;</th><th scope=col>&lt;dbl&gt;</th><th scope=col>&lt;dbl&gt;</th><th scope=col>&lt;dbl&gt;</th><th scope=col>&lt;dbl&gt;</th><th scope=col>&lt;dbl&gt;</th><th scope=col>&lt;dbl&gt;</th><th scope=col>&lt;dbl&gt;</th></tr>\n",
       "</thead>\n",
       "<tbody>\n",
       "\t<tr><th scope=row>ENSG00000223972</th><td>-4.373643</td><td>-4.9524289</td><td>-4.698456</td><td>-5.8748841</td><td>-5.689776</td><td>-7.221049</td><td>-4.344822</td><td>-3.579351</td><td>-6.719863</td><td>-6.040948</td><td>⋯</td><td>-6.093293</td><td>-5.567996</td><td>-5.0025744</td><td>-5.928265</td><td>-2.870949</td><td>-5.265528</td><td>-5.834175</td><td>-3.114331</td><td>-4.171178</td><td>-3.837762</td></tr>\n",
       "\t<tr><th scope=row>ENSG00000227232</th><td>-4.597347</td><td>-0.7838148</td><td>-3.808940</td><td>-0.2159444</td><td>-5.913479</td><td>-3.861321</td><td>-3.702782</td><td>-2.689835</td><td>-4.424265</td><td>-3.504342</td><td>⋯</td><td>-2.915984</td><td>-3.469771</td><td> 0.1999871</td><td>-2.337211</td><td>-2.318576</td><td>-1.701197</td><td>-1.602419</td><td>-1.956236</td><td>-2.809919</td><td>-4.360893</td></tr>\n",
       "\t<tr><th scope=row>ENSG00000240361</th><td>-4.115854</td><td>-4.6946401</td><td>-4.684772</td><td>-5.6170953</td><td>-5.431987</td><td>-4.225502</td><td>-4.374263</td><td>-1.980705</td><td>-6.531671</td><td>-5.852756</td><td>⋯</td><td>-5.897970</td><td>-5.310207</td><td>-4.7447855</td><td>-5.740073</td><td>-2.320187</td><td>-5.070206</td><td>-5.638853</td><td>-2.926139</td><td>-3.913390</td><td>-3.642439</td></tr>\n",
       "\t<tr><th scope=row>ENSG00000238009</th><td>-4.471617</td><td>-5.0504023</td><td>-4.815500</td><td>-4.3878950</td><td>-5.787749</td><td>-7.659453</td><td>-3.848383</td><td>-3.696395</td><td>-7.158266</td><td>-6.479352</td><td>⋯</td><td>-2.903252</td><td>-5.665969</td><td>-5.1005477</td><td>-4.781706</td><td>-1.724390</td><td>-2.923484</td><td>-5.814059</td><td>-3.552734</td><td>-4.269152</td><td>-3.817646</td></tr>\n",
       "\t<tr><th scope=row>ENSG00000233750</th><td>-4.311496</td><td>-4.8902815</td><td>-4.867449</td><td>-5.8127367</td><td>-5.627628</td><td>-7.442411</td><td>-2.275005</td><td>-3.748344</td><td>-6.941225</td><td>-6.262310</td><td>⋯</td><td>-3.733449</td><td>-5.505848</td><td>-4.9404269</td><td>-4.564664</td><td>-3.577738</td><td>-5.227613</td><td>-5.796260</td><td>-3.335693</td><td>-4.109031</td><td>-3.799846</td></tr>\n",
       "\t<tr><th scope=row>ENSG00000268903</th><td>-4.708663</td><td>-5.2874484</td><td>-4.940078</td><td>-6.2099036</td><td>-6.024795</td><td>-5.727305</td><td>-1.905618</td><td>-1.013619</td><td>-5.226119</td><td>-1.288470</td><td>⋯</td><td>-6.261876</td><td>-5.903015</td><td>-5.3375938</td><td>-4.071951</td><td>-2.904452</td><td>-5.434112</td><td>-6.002759</td><td>-4.427942</td><td>-4.506198</td><td>-4.006345</td></tr>\n",
       "</tbody>\n",
       "</table>\n"
      ],
      "text/latex": [
       "A data.frame: 6 × 165\n",
       "\\begin{tabular}{r|lllllllllllllllllllll}\n",
       "  & SRR11007187 & SRR11007186 & SRR7647733 & SRR11007183 & SRR11007177 & SRR11007062 & SRR7647801 & SRR7647731 & SRR11007089 & SRR11007061 & ⋯ & SRR11007105 & SRR11007169 & SRR11007182 & SRR7647655 & SRR11007094 & SRR7647697 & SRR11007106 & SRR7647660 & SRR7647768 & SRR11007097\\\\\n",
       "  & <dbl> & <dbl> & <dbl> & <dbl> & <dbl> & <dbl> & <dbl> & <dbl> & <dbl> & <dbl> & ⋯ & <dbl> & <dbl> & <dbl> & <dbl> & <dbl> & <dbl> & <dbl> & <dbl> & <dbl> & <dbl>\\\\\n",
       "\\hline\n",
       "\tENSG00000223972 & -4.373643 & -4.9524289 & -4.698456 & -5.8748841 & -5.689776 & -7.221049 & -4.344822 & -3.579351 & -6.719863 & -6.040948 & ⋯ & -6.093293 & -5.567996 & -5.0025744 & -5.928265 & -2.870949 & -5.265528 & -5.834175 & -3.114331 & -4.171178 & -3.837762\\\\\n",
       "\tENSG00000227232 & -4.597347 & -0.7838148 & -3.808940 & -0.2159444 & -5.913479 & -3.861321 & -3.702782 & -2.689835 & -4.424265 & -3.504342 & ⋯ & -2.915984 & -3.469771 &  0.1999871 & -2.337211 & -2.318576 & -1.701197 & -1.602419 & -1.956236 & -2.809919 & -4.360893\\\\\n",
       "\tENSG00000240361 & -4.115854 & -4.6946401 & -4.684772 & -5.6170953 & -5.431987 & -4.225502 & -4.374263 & -1.980705 & -6.531671 & -5.852756 & ⋯ & -5.897970 & -5.310207 & -4.7447855 & -5.740073 & -2.320187 & -5.070206 & -5.638853 & -2.926139 & -3.913390 & -3.642439\\\\\n",
       "\tENSG00000238009 & -4.471617 & -5.0504023 & -4.815500 & -4.3878950 & -5.787749 & -7.659453 & -3.848383 & -3.696395 & -7.158266 & -6.479352 & ⋯ & -2.903252 & -5.665969 & -5.1005477 & -4.781706 & -1.724390 & -2.923484 & -5.814059 & -3.552734 & -4.269152 & -3.817646\\\\\n",
       "\tENSG00000233750 & -4.311496 & -4.8902815 & -4.867449 & -5.8127367 & -5.627628 & -7.442411 & -2.275005 & -3.748344 & -6.941225 & -6.262310 & ⋯ & -3.733449 & -5.505848 & -4.9404269 & -4.564664 & -3.577738 & -5.227613 & -5.796260 & -3.335693 & -4.109031 & -3.799846\\\\\n",
       "\tENSG00000268903 & -4.708663 & -5.2874484 & -4.940078 & -6.2099036 & -6.024795 & -5.727305 & -1.905618 & -1.013619 & -5.226119 & -1.288470 & ⋯ & -6.261876 & -5.903015 & -5.3375938 & -4.071951 & -2.904452 & -5.434112 & -6.002759 & -4.427942 & -4.506198 & -4.006345\\\\\n",
       "\\end{tabular}\n"
      ],
      "text/markdown": [
       "\n",
       "A data.frame: 6 × 165\n",
       "\n",
       "| <!--/--> | SRR11007187 &lt;dbl&gt; | SRR11007186 &lt;dbl&gt; | SRR7647733 &lt;dbl&gt; | SRR11007183 &lt;dbl&gt; | SRR11007177 &lt;dbl&gt; | SRR11007062 &lt;dbl&gt; | SRR7647801 &lt;dbl&gt; | SRR7647731 &lt;dbl&gt; | SRR11007089 &lt;dbl&gt; | SRR11007061 &lt;dbl&gt; | ⋯ ⋯ | SRR11007105 &lt;dbl&gt; | SRR11007169 &lt;dbl&gt; | SRR11007182 &lt;dbl&gt; | SRR7647655 &lt;dbl&gt; | SRR11007094 &lt;dbl&gt; | SRR7647697 &lt;dbl&gt; | SRR11007106 &lt;dbl&gt; | SRR7647660 &lt;dbl&gt; | SRR7647768 &lt;dbl&gt; | SRR11007097 &lt;dbl&gt; |\n",
       "|---|---|---|---|---|---|---|---|---|---|---|---|---|---|---|---|---|---|---|---|---|---|\n",
       "| ENSG00000223972 | -4.373643 | -4.9524289 | -4.698456 | -5.8748841 | -5.689776 | -7.221049 | -4.344822 | -3.579351 | -6.719863 | -6.040948 | ⋯ | -6.093293 | -5.567996 | -5.0025744 | -5.928265 | -2.870949 | -5.265528 | -5.834175 | -3.114331 | -4.171178 | -3.837762 |\n",
       "| ENSG00000227232 | -4.597347 | -0.7838148 | -3.808940 | -0.2159444 | -5.913479 | -3.861321 | -3.702782 | -2.689835 | -4.424265 | -3.504342 | ⋯ | -2.915984 | -3.469771 |  0.1999871 | -2.337211 | -2.318576 | -1.701197 | -1.602419 | -1.956236 | -2.809919 | -4.360893 |\n",
       "| ENSG00000240361 | -4.115854 | -4.6946401 | -4.684772 | -5.6170953 | -5.431987 | -4.225502 | -4.374263 | -1.980705 | -6.531671 | -5.852756 | ⋯ | -5.897970 | -5.310207 | -4.7447855 | -5.740073 | -2.320187 | -5.070206 | -5.638853 | -2.926139 | -3.913390 | -3.642439 |\n",
       "| ENSG00000238009 | -4.471617 | -5.0504023 | -4.815500 | -4.3878950 | -5.787749 | -7.659453 | -3.848383 | -3.696395 | -7.158266 | -6.479352 | ⋯ | -2.903252 | -5.665969 | -5.1005477 | -4.781706 | -1.724390 | -2.923484 | -5.814059 | -3.552734 | -4.269152 | -3.817646 |\n",
       "| ENSG00000233750 | -4.311496 | -4.8902815 | -4.867449 | -5.8127367 | -5.627628 | -7.442411 | -2.275005 | -3.748344 | -6.941225 | -6.262310 | ⋯ | -3.733449 | -5.505848 | -4.9404269 | -4.564664 | -3.577738 | -5.227613 | -5.796260 | -3.335693 | -4.109031 | -3.799846 |\n",
       "| ENSG00000268903 | -4.708663 | -5.2874484 | -4.940078 | -6.2099036 | -6.024795 | -5.727305 | -1.905618 | -1.013619 | -5.226119 | -1.288470 | ⋯ | -6.261876 | -5.903015 | -5.3375938 | -4.071951 | -2.904452 | -5.434112 | -6.002759 | -4.427942 | -4.506198 | -4.006345 |\n",
       "\n"
      ],
      "text/plain": [
       "                SRR11007187 SRR11007186 SRR7647733 SRR11007183 SRR11007177\n",
       "ENSG00000223972 -4.373643   -4.9524289  -4.698456  -5.8748841  -5.689776  \n",
       "ENSG00000227232 -4.597347   -0.7838148  -3.808940  -0.2159444  -5.913479  \n",
       "ENSG00000240361 -4.115854   -4.6946401  -4.684772  -5.6170953  -5.431987  \n",
       "ENSG00000238009 -4.471617   -5.0504023  -4.815500  -4.3878950  -5.787749  \n",
       "ENSG00000233750 -4.311496   -4.8902815  -4.867449  -5.8127367  -5.627628  \n",
       "ENSG00000268903 -4.708663   -5.2874484  -4.940078  -6.2099036  -6.024795  \n",
       "                SRR11007062 SRR7647801 SRR7647731 SRR11007089 SRR11007061 ⋯\n",
       "ENSG00000223972 -7.221049   -4.344822  -3.579351  -6.719863   -6.040948   ⋯\n",
       "ENSG00000227232 -3.861321   -3.702782  -2.689835  -4.424265   -3.504342   ⋯\n",
       "ENSG00000240361 -4.225502   -4.374263  -1.980705  -6.531671   -5.852756   ⋯\n",
       "ENSG00000238009 -7.659453   -3.848383  -3.696395  -7.158266   -6.479352   ⋯\n",
       "ENSG00000233750 -7.442411   -2.275005  -3.748344  -6.941225   -6.262310   ⋯\n",
       "ENSG00000268903 -5.727305   -1.905618  -1.013619  -5.226119   -1.288470   ⋯\n",
       "                SRR11007105 SRR11007169 SRR11007182 SRR7647655 SRR11007094\n",
       "ENSG00000223972 -6.093293   -5.567996   -5.0025744  -5.928265  -2.870949  \n",
       "ENSG00000227232 -2.915984   -3.469771    0.1999871  -2.337211  -2.318576  \n",
       "ENSG00000240361 -5.897970   -5.310207   -4.7447855  -5.740073  -2.320187  \n",
       "ENSG00000238009 -2.903252   -5.665969   -5.1005477  -4.781706  -1.724390  \n",
       "ENSG00000233750 -3.733449   -5.505848   -4.9404269  -4.564664  -3.577738  \n",
       "ENSG00000268903 -6.261876   -5.903015   -5.3375938  -4.071951  -2.904452  \n",
       "                SRR7647697 SRR11007106 SRR7647660 SRR7647768 SRR11007097\n",
       "ENSG00000223972 -5.265528  -5.834175   -3.114331  -4.171178  -3.837762  \n",
       "ENSG00000227232 -1.701197  -1.602419   -1.956236  -2.809919  -4.360893  \n",
       "ENSG00000240361 -5.070206  -5.638853   -2.926139  -3.913390  -3.642439  \n",
       "ENSG00000238009 -2.923484  -5.814059   -3.552734  -4.269152  -3.817646  \n",
       "ENSG00000233750 -5.227613  -5.796260   -3.335693  -4.109031  -3.799846  \n",
       "ENSG00000268903 -5.434112  -6.002759   -4.427942  -4.506198  -4.006345  "
      ]
     },
     "metadata": {},
     "output_type": "display_data"
    }
   ],
   "source": [
    "head(genes)"
   ]
  },
  {
   "cell_type": "code",
   "execution_count": 10,
   "id": "cd96ed78-06b5-4ec5-9ee1-3aa1abfbc2a7",
   "metadata": {},
   "outputs": [],
   "source": [
    "genes.info <- import(\"/lustre/scratch118/humgen/resources/rna_seq_genomes/Homo_sapiens.GRCh38.99.gtf\")"
   ]
  },
  {
   "cell_type": "code",
   "execution_count": 11,
   "id": "9442847b-4c3d-4698-9802-f4756bcb979d",
   "metadata": {},
   "outputs": [
    {
     "data": {
      "text/html": [
       "<table class=\"dataframe\">\n",
       "<caption>A data.frame: 6 × 8</caption>\n",
       "<thead>\n",
       "\t<tr><th></th><th scope=col>Gene.ID</th><th scope=col>Chr</th><th scope=col>Start</th><th scope=col>End</th><th scope=col>Width</th><th scope=col>Strand</th><th scope=col>Gene.Name</th><th scope=col>Gene.Biotype</th></tr>\n",
       "\t<tr><th></th><th scope=col>&lt;chr&gt;</th><th scope=col>&lt;fct&gt;</th><th scope=col>&lt;int&gt;</th><th scope=col>&lt;int&gt;</th><th scope=col>&lt;int&gt;</th><th scope=col>&lt;fct&gt;</th><th scope=col>&lt;chr&gt;</th><th scope=col>&lt;chr&gt;</th></tr>\n",
       "</thead>\n",
       "<tbody>\n",
       "\t<tr><th scope=row>1</th><td>ENSG00000223972</td><td>1</td><td> 11869</td><td> 14409</td><td> 2541</td><td>+</td><td>DDX11L1   </td><td>transcribed_unprocessed_pseudogene</td></tr>\n",
       "\t<tr><th scope=row>2</th><td>ENSG00000227232</td><td>1</td><td> 14404</td><td> 29570</td><td>15167</td><td>-</td><td>WASH7P    </td><td>unprocessed_pseudogene            </td></tr>\n",
       "\t<tr><th scope=row>3</th><td>ENSG00000240361</td><td>1</td><td> 57598</td><td> 64116</td><td> 6519</td><td>+</td><td>OR4G11P   </td><td>transcribed_unprocessed_pseudogene</td></tr>\n",
       "\t<tr><th scope=row>4</th><td>ENSG00000238009</td><td>1</td><td> 89295</td><td>133723</td><td>44429</td><td>-</td><td>AL627309.1</td><td>lncRNA                            </td></tr>\n",
       "\t<tr><th scope=row>5</th><td>ENSG00000233750</td><td>1</td><td>131025</td><td>134836</td><td> 3812</td><td>+</td><td>CICP27    </td><td>processed_pseudogene              </td></tr>\n",
       "\t<tr><th scope=row>6</th><td>ENSG00000268903</td><td>1</td><td>135141</td><td>135895</td><td>  755</td><td>-</td><td>AL627309.6</td><td>processed_pseudogene              </td></tr>\n",
       "</tbody>\n",
       "</table>\n"
      ],
      "text/latex": [
       "A data.frame: 6 × 8\n",
       "\\begin{tabular}{r|llllllll}\n",
       "  & Gene.ID & Chr & Start & End & Width & Strand & Gene.Name & Gene.Biotype\\\\\n",
       "  & <chr> & <fct> & <int> & <int> & <int> & <fct> & <chr> & <chr>\\\\\n",
       "\\hline\n",
       "\t1 & ENSG00000223972 & 1 &  11869 &  14409 &  2541 & + & DDX11L1    & transcribed\\_unprocessed\\_pseudogene\\\\\n",
       "\t2 & ENSG00000227232 & 1 &  14404 &  29570 & 15167 & - & WASH7P     & unprocessed\\_pseudogene            \\\\\n",
       "\t3 & ENSG00000240361 & 1 &  57598 &  64116 &  6519 & + & OR4G11P    & transcribed\\_unprocessed\\_pseudogene\\\\\n",
       "\t4 & ENSG00000238009 & 1 &  89295 & 133723 & 44429 & - & AL627309.1 & lncRNA                            \\\\\n",
       "\t5 & ENSG00000233750 & 1 & 131025 & 134836 &  3812 & + & CICP27     & processed\\_pseudogene              \\\\\n",
       "\t6 & ENSG00000268903 & 1 & 135141 & 135895 &   755 & - & AL627309.6 & processed\\_pseudogene              \\\\\n",
       "\\end{tabular}\n"
      ],
      "text/markdown": [
       "\n",
       "A data.frame: 6 × 8\n",
       "\n",
       "| <!--/--> | Gene.ID &lt;chr&gt; | Chr &lt;fct&gt; | Start &lt;int&gt; | End &lt;int&gt; | Width &lt;int&gt; | Strand &lt;fct&gt; | Gene.Name &lt;chr&gt; | Gene.Biotype &lt;chr&gt; |\n",
       "|---|---|---|---|---|---|---|---|---|\n",
       "| 1 | ENSG00000223972 | 1 |  11869 |  14409 |  2541 | + | DDX11L1    | transcribed_unprocessed_pseudogene |\n",
       "| 2 | ENSG00000227232 | 1 |  14404 |  29570 | 15167 | - | WASH7P     | unprocessed_pseudogene             |\n",
       "| 3 | ENSG00000240361 | 1 |  57598 |  64116 |  6519 | + | OR4G11P    | transcribed_unprocessed_pseudogene |\n",
       "| 4 | ENSG00000238009 | 1 |  89295 | 133723 | 44429 | - | AL627309.1 | lncRNA                             |\n",
       "| 5 | ENSG00000233750 | 1 | 131025 | 134836 |  3812 | + | CICP27     | processed_pseudogene               |\n",
       "| 6 | ENSG00000268903 | 1 | 135141 | 135895 |   755 | - | AL627309.6 | processed_pseudogene               |\n",
       "\n"
      ],
      "text/plain": [
       "  Gene.ID         Chr Start  End    Width Strand Gene.Name \n",
       "1 ENSG00000223972 1    11869  14409  2541 +      DDX11L1   \n",
       "2 ENSG00000227232 1    14404  29570 15167 -      WASH7P    \n",
       "3 ENSG00000240361 1    57598  64116  6519 +      OR4G11P   \n",
       "4 ENSG00000238009 1    89295 133723 44429 -      AL627309.1\n",
       "5 ENSG00000233750 1   131025 134836  3812 +      CICP27    \n",
       "6 ENSG00000268903 1   135141 135895   755 -      AL627309.6\n",
       "  Gene.Biotype                      \n",
       "1 transcribed_unprocessed_pseudogene\n",
       "2 unprocessed_pseudogene            \n",
       "3 transcribed_unprocessed_pseudogene\n",
       "4 lncRNA                            \n",
       "5 processed_pseudogene              \n",
       "6 processed_pseudogene              "
      ]
     },
     "metadata": {},
     "output_type": "display_data"
    }
   ],
   "source": [
    "genes.info <- as.data.frame(genes.info) %>%\n",
    "    dplyr::filter(gene_id %in% rownames(genes)) %>%\n",
    "    dplyr::filter(type == \"gene\") %>%\n",
    "    dplyr::select(Gene.ID=gene_id, Chr=seqnames, Start=start, End=end, Width=width, Strand=strand, Gene.Name=gene_name, Gene.Biotype=gene_biotype)\n",
    "\n",
    "head(genes.info)"
   ]
  },
  {
   "cell_type": "code",
   "execution_count": 12,
   "id": "e66011cc-8727-4eba-a7d6-5a0934eed40a",
   "metadata": {},
   "outputs": [],
   "source": [
    "rna.seq.metadata <- read.csv(\"03_Functional_Interpretation/metadata/reads_calderon_et_al_rna_seq.txt\")"
   ]
  },
  {
   "cell_type": "code",
   "execution_count": 13,
   "id": "bcbba0b7-f190-446e-9310-7d06f3eb324c",
   "metadata": {},
   "outputs": [
    {
     "data": {
      "text/html": [
       "<table class=\"dataframe\">\n",
       "<caption>A data.frame: 6 × 28</caption>\n",
       "<thead>\n",
       "\t<tr><th></th><th scope=col>Run</th><th scope=col>Assay.Type</th><th scope=col>AvgSpotLen</th><th scope=col>Bases</th><th scope=col>BioProject</th><th scope=col>BioSample</th><th scope=col>Bytes</th><th scope=col>cell_type</th><th scope=col>Center.Name</th><th scope=col>Consent</th><th scope=col>⋯</th><th scope=col>LibrarySelection</th><th scope=col>LibrarySource</th><th scope=col>lineage</th><th scope=col>Organism</th><th scope=col>Platform</th><th scope=col>ReleaseDate</th><th scope=col>Sample.Name</th><th scope=col>source_name</th><th scope=col>SRA.Study</th><th scope=col>Treatment</th></tr>\n",
       "\t<tr><th></th><th scope=col>&lt;chr&gt;</th><th scope=col>&lt;chr&gt;</th><th scope=col>&lt;int&gt;</th><th scope=col>&lt;dbl&gt;</th><th scope=col>&lt;chr&gt;</th><th scope=col>&lt;chr&gt;</th><th scope=col>&lt;dbl&gt;</th><th scope=col>&lt;chr&gt;</th><th scope=col>&lt;chr&gt;</th><th scope=col>&lt;chr&gt;</th><th scope=col>⋯</th><th scope=col>&lt;chr&gt;</th><th scope=col>&lt;chr&gt;</th><th scope=col>&lt;chr&gt;</th><th scope=col>&lt;chr&gt;</th><th scope=col>&lt;chr&gt;</th><th scope=col>&lt;chr&gt;</th><th scope=col>&lt;chr&gt;</th><th scope=col>&lt;chr&gt;</th><th scope=col>&lt;chr&gt;</th><th scope=col>&lt;chr&gt;</th></tr>\n",
       "</thead>\n",
       "<tbody>\n",
       "\t<tr><th scope=row>1</th><td>SRR11007061</td><td>RNA-Seq</td><td>192</td><td> 8160479782</td><td>PRJNA484735</td><td>SAMN09768434</td><td>2579781267</td><td>CD8pos_T                </td><td>GEO</td><td>public</td><td>⋯</td><td>cDNA</td><td>TRANSCRIPTOMIC</td><td>CD8</td><td>Homo sapiens</td><td>ILLUMINA</td><td>2020-02-04T00:00:00Z</td><td>GSM3319750</td><td>primary blood</td><td>SRP156452</td><td>no_treament</td></tr>\n",
       "\t<tr><th scope=row>2</th><td>SRR11007062</td><td>RNA-Seq</td><td>195</td><td>15315982752</td><td>PRJNA484735</td><td>SAMN09768433</td><td>4836924733</td><td>CD8pos_T                </td><td>GEO</td><td>public</td><td>⋯</td><td>cDNA</td><td>TRANSCRIPTOMIC</td><td>CD8</td><td>Homo sapiens</td><td>ILLUMINA</td><td>2020-02-04T00:00:00Z</td><td>GSM3319751</td><td>primary blood</td><td>SRP156452</td><td>treatment1 </td></tr>\n",
       "\t<tr><th scope=row>3</th><td>SRR11007063</td><td>RNA-Seq</td><td>195</td><td>13128598440</td><td>PRJNA484735</td><td>SAMN09768432</td><td>4155236675</td><td>Central_memory_CD8pos_T </td><td>GEO</td><td>public</td><td>⋯</td><td>cDNA</td><td>TRANSCRIPTOMIC</td><td>CD8</td><td>Homo sapiens</td><td>ILLUMINA</td><td>2020-02-04T00:00:00Z</td><td>GSM3319752</td><td>primary blood</td><td>SRP156452</td><td>no_treament</td></tr>\n",
       "\t<tr><th scope=row>4</th><td>SRR11007064</td><td>RNA-Seq</td><td>193</td><td> 4866405615</td><td>PRJNA484735</td><td>SAMN09768431</td><td>1546902050</td><td>Central_memory_CD8pos_T </td><td>GEO</td><td>public</td><td>⋯</td><td>cDNA</td><td>TRANSCRIPTOMIC</td><td>CD8</td><td>Homo sapiens</td><td>ILLUMINA</td><td>2020-02-04T00:00:00Z</td><td>GSM3319753</td><td>primary blood</td><td>SRP156452</td><td>treatment1 </td></tr>\n",
       "\t<tr><th scope=row>5</th><td>SRR11007065</td><td>RNA-Seq</td><td>195</td><td> 9601276948</td><td>PRJNA484735</td><td>SAMN09768430</td><td>3023735003</td><td>Effector_memory_CD8pos_T</td><td>GEO</td><td>public</td><td>⋯</td><td>cDNA</td><td>TRANSCRIPTOMIC</td><td>CD8</td><td>Homo sapiens</td><td>ILLUMINA</td><td>2020-02-04T00:00:00Z</td><td>GSM3319754</td><td>primary blood</td><td>SRP156452</td><td>no_treament</td></tr>\n",
       "\t<tr><th scope=row>6</th><td>SRR11007066</td><td>RNA-Seq</td><td>196</td><td> 9273440229</td><td>PRJNA484735</td><td>SAMN09768429</td><td>2953466798</td><td>Effector_memory_CD8pos_T</td><td>GEO</td><td>public</td><td>⋯</td><td>cDNA</td><td>TRANSCRIPTOMIC</td><td>CD8</td><td>Homo sapiens</td><td>ILLUMINA</td><td>2020-02-04T00:00:00Z</td><td>GSM3319755</td><td>primary blood</td><td>SRP156452</td><td>treatment1 </td></tr>\n",
       "</tbody>\n",
       "</table>\n"
      ],
      "text/latex": [
       "A data.frame: 6 × 28\n",
       "\\begin{tabular}{r|lllllllllllllllllllll}\n",
       "  & Run & Assay.Type & AvgSpotLen & Bases & BioProject & BioSample & Bytes & cell\\_type & Center.Name & Consent & ⋯ & LibrarySelection & LibrarySource & lineage & Organism & Platform & ReleaseDate & Sample.Name & source\\_name & SRA.Study & Treatment\\\\\n",
       "  & <chr> & <chr> & <int> & <dbl> & <chr> & <chr> & <dbl> & <chr> & <chr> & <chr> & ⋯ & <chr> & <chr> & <chr> & <chr> & <chr> & <chr> & <chr> & <chr> & <chr> & <chr>\\\\\n",
       "\\hline\n",
       "\t1 & SRR11007061 & RNA-Seq & 192 &  8160479782 & PRJNA484735 & SAMN09768434 & 2579781267 & CD8pos\\_T                 & GEO & public & ⋯ & cDNA & TRANSCRIPTOMIC & CD8 & Homo sapiens & ILLUMINA & 2020-02-04T00:00:00Z & GSM3319750 & primary blood & SRP156452 & no\\_treament\\\\\n",
       "\t2 & SRR11007062 & RNA-Seq & 195 & 15315982752 & PRJNA484735 & SAMN09768433 & 4836924733 & CD8pos\\_T                 & GEO & public & ⋯ & cDNA & TRANSCRIPTOMIC & CD8 & Homo sapiens & ILLUMINA & 2020-02-04T00:00:00Z & GSM3319751 & primary blood & SRP156452 & treatment1 \\\\\n",
       "\t3 & SRR11007063 & RNA-Seq & 195 & 13128598440 & PRJNA484735 & SAMN09768432 & 4155236675 & Central\\_memory\\_CD8pos\\_T  & GEO & public & ⋯ & cDNA & TRANSCRIPTOMIC & CD8 & Homo sapiens & ILLUMINA & 2020-02-04T00:00:00Z & GSM3319752 & primary blood & SRP156452 & no\\_treament\\\\\n",
       "\t4 & SRR11007064 & RNA-Seq & 193 &  4866405615 & PRJNA484735 & SAMN09768431 & 1546902050 & Central\\_memory\\_CD8pos\\_T  & GEO & public & ⋯ & cDNA & TRANSCRIPTOMIC & CD8 & Homo sapiens & ILLUMINA & 2020-02-04T00:00:00Z & GSM3319753 & primary blood & SRP156452 & treatment1 \\\\\n",
       "\t5 & SRR11007065 & RNA-Seq & 195 &  9601276948 & PRJNA484735 & SAMN09768430 & 3023735003 & Effector\\_memory\\_CD8pos\\_T & GEO & public & ⋯ & cDNA & TRANSCRIPTOMIC & CD8 & Homo sapiens & ILLUMINA & 2020-02-04T00:00:00Z & GSM3319754 & primary blood & SRP156452 & no\\_treament\\\\\n",
       "\t6 & SRR11007066 & RNA-Seq & 196 &  9273440229 & PRJNA484735 & SAMN09768429 & 2953466798 & Effector\\_memory\\_CD8pos\\_T & GEO & public & ⋯ & cDNA & TRANSCRIPTOMIC & CD8 & Homo sapiens & ILLUMINA & 2020-02-04T00:00:00Z & GSM3319755 & primary blood & SRP156452 & treatment1 \\\\\n",
       "\\end{tabular}\n"
      ],
      "text/markdown": [
       "\n",
       "A data.frame: 6 × 28\n",
       "\n",
       "| <!--/--> | Run &lt;chr&gt; | Assay.Type &lt;chr&gt; | AvgSpotLen &lt;int&gt; | Bases &lt;dbl&gt; | BioProject &lt;chr&gt; | BioSample &lt;chr&gt; | Bytes &lt;dbl&gt; | cell_type &lt;chr&gt; | Center.Name &lt;chr&gt; | Consent &lt;chr&gt; | ⋯ ⋯ | LibrarySelection &lt;chr&gt; | LibrarySource &lt;chr&gt; | lineage &lt;chr&gt; | Organism &lt;chr&gt; | Platform &lt;chr&gt; | ReleaseDate &lt;chr&gt; | Sample.Name &lt;chr&gt; | source_name &lt;chr&gt; | SRA.Study &lt;chr&gt; | Treatment &lt;chr&gt; |\n",
       "|---|---|---|---|---|---|---|---|---|---|---|---|---|---|---|---|---|---|---|---|---|---|\n",
       "| 1 | SRR11007061 | RNA-Seq | 192 |  8160479782 | PRJNA484735 | SAMN09768434 | 2579781267 | CD8pos_T                 | GEO | public | ⋯ | cDNA | TRANSCRIPTOMIC | CD8 | Homo sapiens | ILLUMINA | 2020-02-04T00:00:00Z | GSM3319750 | primary blood | SRP156452 | no_treament |\n",
       "| 2 | SRR11007062 | RNA-Seq | 195 | 15315982752 | PRJNA484735 | SAMN09768433 | 4836924733 | CD8pos_T                 | GEO | public | ⋯ | cDNA | TRANSCRIPTOMIC | CD8 | Homo sapiens | ILLUMINA | 2020-02-04T00:00:00Z | GSM3319751 | primary blood | SRP156452 | treatment1  |\n",
       "| 3 | SRR11007063 | RNA-Seq | 195 | 13128598440 | PRJNA484735 | SAMN09768432 | 4155236675 | Central_memory_CD8pos_T  | GEO | public | ⋯ | cDNA | TRANSCRIPTOMIC | CD8 | Homo sapiens | ILLUMINA | 2020-02-04T00:00:00Z | GSM3319752 | primary blood | SRP156452 | no_treament |\n",
       "| 4 | SRR11007064 | RNA-Seq | 193 |  4866405615 | PRJNA484735 | SAMN09768431 | 1546902050 | Central_memory_CD8pos_T  | GEO | public | ⋯ | cDNA | TRANSCRIPTOMIC | CD8 | Homo sapiens | ILLUMINA | 2020-02-04T00:00:00Z | GSM3319753 | primary blood | SRP156452 | treatment1  |\n",
       "| 5 | SRR11007065 | RNA-Seq | 195 |  9601276948 | PRJNA484735 | SAMN09768430 | 3023735003 | Effector_memory_CD8pos_T | GEO | public | ⋯ | cDNA | TRANSCRIPTOMIC | CD8 | Homo sapiens | ILLUMINA | 2020-02-04T00:00:00Z | GSM3319754 | primary blood | SRP156452 | no_treament |\n",
       "| 6 | SRR11007066 | RNA-Seq | 196 |  9273440229 | PRJNA484735 | SAMN09768429 | 2953466798 | Effector_memory_CD8pos_T | GEO | public | ⋯ | cDNA | TRANSCRIPTOMIC | CD8 | Homo sapiens | ILLUMINA | 2020-02-04T00:00:00Z | GSM3319755 | primary blood | SRP156452 | treatment1  |\n",
       "\n"
      ],
      "text/plain": [
       "  Run         Assay.Type AvgSpotLen Bases       BioProject  BioSample   \n",
       "1 SRR11007061 RNA-Seq    192         8160479782 PRJNA484735 SAMN09768434\n",
       "2 SRR11007062 RNA-Seq    195        15315982752 PRJNA484735 SAMN09768433\n",
       "3 SRR11007063 RNA-Seq    195        13128598440 PRJNA484735 SAMN09768432\n",
       "4 SRR11007064 RNA-Seq    193         4866405615 PRJNA484735 SAMN09768431\n",
       "5 SRR11007065 RNA-Seq    195         9601276948 PRJNA484735 SAMN09768430\n",
       "6 SRR11007066 RNA-Seq    196         9273440229 PRJNA484735 SAMN09768429\n",
       "  Bytes      cell_type                Center.Name Consent ⋯ LibrarySelection\n",
       "1 2579781267 CD8pos_T                 GEO         public  ⋯ cDNA            \n",
       "2 4836924733 CD8pos_T                 GEO         public  ⋯ cDNA            \n",
       "3 4155236675 Central_memory_CD8pos_T  GEO         public  ⋯ cDNA            \n",
       "4 1546902050 Central_memory_CD8pos_T  GEO         public  ⋯ cDNA            \n",
       "5 3023735003 Effector_memory_CD8pos_T GEO         public  ⋯ cDNA            \n",
       "6 2953466798 Effector_memory_CD8pos_T GEO         public  ⋯ cDNA            \n",
       "  LibrarySource  lineage Organism     Platform ReleaseDate          Sample.Name\n",
       "1 TRANSCRIPTOMIC CD8     Homo sapiens ILLUMINA 2020-02-04T00:00:00Z GSM3319750 \n",
       "2 TRANSCRIPTOMIC CD8     Homo sapiens ILLUMINA 2020-02-04T00:00:00Z GSM3319751 \n",
       "3 TRANSCRIPTOMIC CD8     Homo sapiens ILLUMINA 2020-02-04T00:00:00Z GSM3319752 \n",
       "4 TRANSCRIPTOMIC CD8     Homo sapiens ILLUMINA 2020-02-04T00:00:00Z GSM3319753 \n",
       "5 TRANSCRIPTOMIC CD8     Homo sapiens ILLUMINA 2020-02-04T00:00:00Z GSM3319754 \n",
       "6 TRANSCRIPTOMIC CD8     Homo sapiens ILLUMINA 2020-02-04T00:00:00Z GSM3319755 \n",
       "  source_name   SRA.Study Treatment  \n",
       "1 primary blood SRP156452 no_treament\n",
       "2 primary blood SRP156452 treatment1 \n",
       "3 primary blood SRP156452 no_treament\n",
       "4 primary blood SRP156452 treatment1 \n",
       "5 primary blood SRP156452 no_treament\n",
       "6 primary blood SRP156452 treatment1 "
      ]
     },
     "metadata": {},
     "output_type": "display_data"
    }
   ],
   "source": [
    "head(rna.seq.metadata)"
   ]
  },
  {
   "cell_type": "markdown",
   "id": "9486e70d-21e7-4209-89fa-68b6c24beee0",
   "metadata": {},
   "source": [
    "## Find Overlapping Samples"
   ]
  },
  {
   "cell_type": "markdown",
   "id": "c75dc8e5-c627-4dcc-b329-b1a36daf6228",
   "metadata": {},
   "source": [
    "A sample is uniquely identified given the donor, cell type, and treatment. I will use this to map runs between the two data modalities."
   ]
  },
  {
   "cell_type": "code",
   "execution_count": 14,
   "id": "88958649-afe3-4743-9bc3-32578bebc20f",
   "metadata": {},
   "outputs": [],
   "source": [
    "sample.map <- merge(\n",
    "    atac.seq.metadata %>%\n",
    "        dplyr::mutate(Treatment=plyr::revalue(Treatment, c(\"no_treament\"=\"No_Treatment\", \"treatment1\"=\"Treatment_1\", \"treatment2\"=\"Treatment_2\"))) %>%\n",
    "        dplyr::mutate(ID=paste0(Donor, \":\", Cell_type, \":\", Treatment)) %>%\n",
    "        dplyr::select(ID, ATAC.Seq.ID=Run),\n",
    "    rna.seq.metadata %>%\n",
    "        dplyr::mutate(Treatment=plyr::revalue(Treatment, c(\"no_treament\"=\"No_Treatment\", \"treatment1\"=\"Treatment_1\", \"treatment2\"=\"Treatment_2\"))) %>%\n",
    "        dplyr::mutate(ID=paste0(donor, \":\", cell_type, \":\", Treatment)) %>%\n",
    "        dplyr::select(ID, RNA.Seq.ID=Run),\n",
    "    by=\"ID\"\n",
    ") %>%\n",
    "    dplyr::filter(ATAC.Seq.ID %in% colnames(peaks)) %>%\n",
    "    dplyr::filter(RNA.Seq.ID %in% colnames(genes))"
   ]
  },
  {
   "cell_type": "markdown",
   "id": "01009f22-4b74-47f7-89c3-331f02b930a5",
   "metadata": {},
   "source": [
    "Reorder peak counts and gene counts by sample map so that the matrices are directly comparable."
   ]
  },
  {
   "cell_type": "code",
   "execution_count": 15,
   "id": "1abab67a-52db-4ad6-9d05-3e3573a59275",
   "metadata": {},
   "outputs": [
    {
     "data": {
      "text/html": [
       "<table class=\"dataframe\">\n",
       "<caption>A data.frame: 6 × 3</caption>\n",
       "<thead>\n",
       "\t<tr><th></th><th scope=col>ID</th><th scope=col>ATAC.Seq.ID</th><th scope=col>RNA.Seq.ID</th></tr>\n",
       "\t<tr><th></th><th scope=col>&lt;chr&gt;</th><th scope=col>&lt;chr&gt;</th><th scope=col>&lt;chr&gt;</th></tr>\n",
       "</thead>\n",
       "<tbody>\n",
       "\t<tr><th scope=row>1</th><td>1001:Bulk_B:No_Treatment                 </td><td>SRR7650729</td><td>SRR7647654 </td></tr>\n",
       "\t<tr><th scope=row>2</th><td>1001:Bulk_B:Treatment_1                  </td><td>SRR7650730</td><td>SRR7647655 </td></tr>\n",
       "\t<tr><th scope=row>3</th><td>1001:CD8pos_T:No_Treatment               </td><td>SRR7650736</td><td>SRR11007061</td></tr>\n",
       "\t<tr><th scope=row>4</th><td>1001:CD8pos_T:Treatment_1                </td><td>SRR7650737</td><td>SRR11007062</td></tr>\n",
       "\t<tr><th scope=row>5</th><td>1001:Central_memory_CD8pos_T:No_Treatment</td><td>SRR7650738</td><td>SRR11007063</td></tr>\n",
       "\t<tr><th scope=row>6</th><td>1001:Central_memory_CD8pos_T:Treatment_1 </td><td>SRR7650739</td><td>SRR11007064</td></tr>\n",
       "</tbody>\n",
       "</table>\n"
      ],
      "text/latex": [
       "A data.frame: 6 × 3\n",
       "\\begin{tabular}{r|lll}\n",
       "  & ID & ATAC.Seq.ID & RNA.Seq.ID\\\\\n",
       "  & <chr> & <chr> & <chr>\\\\\n",
       "\\hline\n",
       "\t1 & 1001:Bulk\\_B:No\\_Treatment                  & SRR7650729 & SRR7647654 \\\\\n",
       "\t2 & 1001:Bulk\\_B:Treatment\\_1                   & SRR7650730 & SRR7647655 \\\\\n",
       "\t3 & 1001:CD8pos\\_T:No\\_Treatment                & SRR7650736 & SRR11007061\\\\\n",
       "\t4 & 1001:CD8pos\\_T:Treatment\\_1                 & SRR7650737 & SRR11007062\\\\\n",
       "\t5 & 1001:Central\\_memory\\_CD8pos\\_T:No\\_Treatment & SRR7650738 & SRR11007063\\\\\n",
       "\t6 & 1001:Central\\_memory\\_CD8pos\\_T:Treatment\\_1  & SRR7650739 & SRR11007064\\\\\n",
       "\\end{tabular}\n"
      ],
      "text/markdown": [
       "\n",
       "A data.frame: 6 × 3\n",
       "\n",
       "| <!--/--> | ID &lt;chr&gt; | ATAC.Seq.ID &lt;chr&gt; | RNA.Seq.ID &lt;chr&gt; |\n",
       "|---|---|---|---|\n",
       "| 1 | 1001:Bulk_B:No_Treatment                  | SRR7650729 | SRR7647654  |\n",
       "| 2 | 1001:Bulk_B:Treatment_1                   | SRR7650730 | SRR7647655  |\n",
       "| 3 | 1001:CD8pos_T:No_Treatment                | SRR7650736 | SRR11007061 |\n",
       "| 4 | 1001:CD8pos_T:Treatment_1                 | SRR7650737 | SRR11007062 |\n",
       "| 5 | 1001:Central_memory_CD8pos_T:No_Treatment | SRR7650738 | SRR11007063 |\n",
       "| 6 | 1001:Central_memory_CD8pos_T:Treatment_1  | SRR7650739 | SRR11007064 |\n",
       "\n"
      ],
      "text/plain": [
       "  ID                                        ATAC.Seq.ID RNA.Seq.ID \n",
       "1 1001:Bulk_B:No_Treatment                  SRR7650729  SRR7647654 \n",
       "2 1001:Bulk_B:Treatment_1                   SRR7650730  SRR7647655 \n",
       "3 1001:CD8pos_T:No_Treatment                SRR7650736  SRR11007061\n",
       "4 1001:CD8pos_T:Treatment_1                 SRR7650737  SRR11007062\n",
       "5 1001:Central_memory_CD8pos_T:No_Treatment SRR7650738  SRR11007063\n",
       "6 1001:Central_memory_CD8pos_T:Treatment_1  SRR7650739  SRR11007064"
      ]
     },
     "metadata": {},
     "output_type": "display_data"
    }
   ],
   "source": [
    "head(sample.map)"
   ]
  },
  {
   "cell_type": "code",
   "execution_count": 16,
   "id": "62fa2ca5-c231-4f03-8569-c898793604ec",
   "metadata": {},
   "outputs": [],
   "source": [
    "peaks <- peaks[, sample.map$ATAC.Seq.ID]\n",
    "colnames(peaks) <- sample.map$ID"
   ]
  },
  {
   "cell_type": "code",
   "execution_count": 17,
   "id": "2cac0e28-1de0-4543-856d-9dc7ca573ae4",
   "metadata": {},
   "outputs": [],
   "source": [
    "genes <- genes[, sample.map$RNA.Seq.ID]\n",
    "colnames(genes) <- sample.map$ID"
   ]
  },
  {
   "cell_type": "markdown",
   "id": "af0a1b9b-299a-4c46-9334-611e76a8152f",
   "metadata": {},
   "source": [
    "## Peaks near Gene TSS"
   ]
  },
  {
   "cell_type": "markdown",
   "id": "a3355286-796a-484c-998e-a88662578e6b",
   "metadata": {},
   "source": [
    "We define the *cis* region to be the 1 Mb region flanking the transcription start site (TSS) of a gene. I will identify peaks that are in the 1 Mb region around each gene."
   ]
  },
  {
   "cell_type": "code",
   "execution_count": 18,
   "id": "89167108-0851-4231-9542-5d70bc53908a",
   "metadata": {},
   "outputs": [],
   "source": [
    "peaks.ranges <- peaks.info %>%\n",
    "    dplyr::filter(Peak.Chr %in% genes.info$Chr) %>%\n",
    "    makeGRangesFromDataFrame(\n",
    "        df=.,\n",
    "        seqnames.field=\"Peak.Chr\",\n",
    "        start.field=\"Peak.Start\",\n",
    "        end.field=\"Peak.End\",\n",
    "        keep.extra.columns=TRUE\n",
    "    )"
   ]
  },
  {
   "cell_type": "code",
   "execution_count": 19,
   "id": "8da6205b-a0a9-4be8-91e7-b0f9a7a52fbd",
   "metadata": {},
   "outputs": [],
   "source": [
    "cis.ranges <- genes.info %>%\n",
    "    dplyr::filter(Chr %in% peaks.info$Peak.Chr) %>%\n",
    "    dplyr::mutate(TSS=ifelse(Strand == \"+\", Start, End)) %>%\n",
    "    dplyr::mutate(Cis.Start=TSS - (10^6 - 1)) %>%\n",
    "    dplyr::mutate(Cis.Start=ifelse(Cis.Start < 1, 1, Cis.Start)) %>%\n",
    "    dplyr::mutate(Cis.End=TSS + (10^6)) %>%\n",
    "    dplyr::mutate(Cis.End=ifelse(Cis.End < 1, 1, Cis.End)) %>%\n",
    "    makeGRangesFromDataFrame(\n",
    "        df=.,\n",
    "        seqnames.field=\"Chr\",\n",
    "        start.field=\"Cis.Start\",\n",
    "        end.field=\"Cis.End\",\n",
    "        keep.extra.columns=TRUE\n",
    "    )"
   ]
  },
  {
   "cell_type": "code",
   "execution_count": 20,
   "id": "3ce1b4bb-aaa0-4b11-8348-15bec698df52",
   "metadata": {},
   "outputs": [],
   "source": [
    "cis.eqtl <- readRDS(\"~/gains_team282/eqtl/cisresults/cisqtl_all_significant.rds\")"
   ]
  },
  {
   "cell_type": "code",
   "execution_count": 21,
   "id": "35a71b29-92e8-4a0f-9c5a-5a6549dbc2b3",
   "metadata": {},
   "outputs": [],
   "source": [
    "gene.idx <- which(cis.ranges$Gene.Name == \"AGPAT4\")\n",
    "gene.id <- mcols(cis.ranges[gene.idx,])[,\"Gene.ID\"]"
   ]
  },
  {
   "cell_type": "code",
   "execution_count": 22,
   "id": "6bb699c0-d5a4-4c16-b310-c6c6ffb84508",
   "metadata": {},
   "outputs": [],
   "source": [
    "overlaps <- findOverlaps(cis.ranges, peaks.ranges) %>%\n",
    "    as.data.frame() %>%\n",
    "    dplyr::filter(queryHits == gene.idx)"
   ]
  },
  {
   "cell_type": "code",
   "execution_count": 23,
   "id": "67e85c8a-f8bf-40f7-be42-7ea5c2376e6f",
   "metadata": {},
   "outputs": [
    {
     "data": {
      "image/png": "[encoded data removed]",
      "text/plain": [
       "plot without title"
      ]
     },
     "metadata": {
      "image/png": {
       "height": 420,
       "width": 420
      }
     },
     "output_type": "display_data"
    }
   ],
   "source": [
    "peak.ids <- mcols(peaks.ranges[overlaps$subjectHits,])[,\"Peak.ID\"]\n",
    "\n",
    "cor.mtx.all <- cor(t(rbind(\n",
    "    peaks[peak.ids, sample.map$ID[grepl(\"Monocyte\", sample.map$ID)]],\n",
    "    genes[gene.idx, sample.map$ID[grepl(\"Monocyte\", sample.map$ID)]]\n",
    ")), method=\"kendall\")\n",
    "\n",
    "cor.mtx <- cor.mtx.all[peak.ids, peak.ids]\n",
    "\n",
    "cor.mtx.gene <- cor.mtx.all[gene.id, peak.ids, drop=F]\n",
    "\n",
    "colors <- colorRampPalette(rev(brewer.pal(11, \"RdBu\")))(101)\n",
    "h1 <- Heatmap(cor.mtx, col=colors, heatmap_legend_param=list(\n",
    "    title=bquote(rho), at=c(-1, 0, 1)\n",
    "))\n",
    "h2 <- Heatmap(cor.mtx.gene, col=colors, heatmap_legend_param=list(\n",
    "    title=bquote(rho), at=c(-1, 0, 1)\n",
    "))\n",
    "h1 %v% h2"
   ]
  },
  {
   "cell_type": "code",
   "execution_count": 105,
   "id": "e6fd5611-80cc-4859-8537-a3d0bde488cd",
   "metadata": {},
   "outputs": [
    {
     "data": {
      "text/html": [
       "<table class=\"dataframe\">\n",
       "<caption>A data.table: 0 × 10</caption>\n",
       "<thead>\n",
       "\t<tr><th scope=col>snps</th><th scope=col>gene</th><th scope=col>statistic</th><th scope=col>pvalue</th><th scope=col>beta</th><th scope=col>se</th><th scope=col>chr</th><th scope=col>SNPpos</th><th scope=col>TSS</th><th scope=col>threshold</th></tr>\n",
       "\t<tr><th scope=col>&lt;chr&gt;</th><th scope=col>&lt;chr&gt;</th><th scope=col>&lt;dbl&gt;</th><th scope=col>&lt;dbl&gt;</th><th scope=col>&lt;dbl&gt;</th><th scope=col>&lt;dbl&gt;</th><th scope=col>&lt;int&gt;</th><th scope=col>&lt;int&gt;</th><th scope=col>&lt;int&gt;</th><th scope=col>&lt;dbl&gt;</th></tr>\n",
       "</thead>\n",
       "<tbody>\n",
       "</tbody>\n",
       "</table>\n"
      ],
      "text/latex": [
       "A data.table: 0 × 10\n",
       "\\begin{tabular}{llllllllll}\n",
       " snps & gene & statistic & pvalue & beta & se & chr & SNPpos & TSS & threshold\\\\\n",
       " <chr> & <chr> & <dbl> & <dbl> & <dbl> & <dbl> & <int> & <int> & <int> & <dbl>\\\\\n",
       "\\hline\n",
       "\\end{tabular}\n"
      ],
      "text/markdown": [
       "\n",
       "A data.table: 0 × 10\n",
       "\n",
       "| snps &lt;chr&gt; | gene &lt;chr&gt; | statistic &lt;dbl&gt; | pvalue &lt;dbl&gt; | beta &lt;dbl&gt; | se &lt;dbl&gt; | chr &lt;int&gt; | SNPpos &lt;int&gt; | TSS &lt;int&gt; | threshold &lt;dbl&gt; |\n",
       "|---|---|---|---|---|---|---|---|---|---|\n",
       "\n"
      ],
      "text/plain": [
       "     snps gene statistic pvalue beta se chr SNPpos TSS threshold"
      ]
     },
     "metadata": {},
     "output_type": "display_data"
    }
   ],
   "source": [
    "cis.eqtl %>%\n",
    "    dplyr::filter(chr==14) %>%\n",
    "    dplyr::filter(SNPpos >= 22847665) %>%\n",
    "    dplyr::filter(SNPpos <= 22850275)"
   ]
  },
  {
   "cell_type": "code",
   "execution_count": 88,
   "id": "f4016fb0-ec1b-4c18-b13a-fe04acca7609",
   "metadata": {},
   "outputs": [],
   "source": [
    "da.peaks <- read.csv(\"~/gains_team282/epigenetics/calderon_et_al/analysis/atac_seq/da_peak_set.csv\", row.names=1)"
   ]
  },
  {
   "cell_type": "code",
   "execution_count": 60,
   "id": "75aed582-709f-4383-af16-cd4b740834cb",
   "metadata": {},
   "outputs": [
    {
     "data": {
      "text/html": [
       "<table class=\"dataframe\">\n",
       "<caption>A data.frame: 18 × 12</caption>\n",
       "<thead>\n",
       "\t<tr><th scope=col>Contrast</th><th scope=col>Cell.Type</th><th scope=col>Peak.ID</th><th scope=col>Peak.Chr</th><th scope=col>Peak.Start</th><th scope=col>Peak.End</th><th scope=col>logFC</th><th scope=col>AveExpr</th><th scope=col>t</th><th scope=col>P.Value</th><th scope=col>adj.P.Val</th><th scope=col>B</th></tr>\n",
       "\t<tr><th scope=col>&lt;chr&gt;</th><th scope=col>&lt;chr&gt;</th><th scope=col>&lt;chr&gt;</th><th scope=col>&lt;chr&gt;</th><th scope=col>&lt;int&gt;</th><th scope=col>&lt;int&gt;</th><th scope=col>&lt;dbl&gt;</th><th scope=col>&lt;dbl&gt;</th><th scope=col>&lt;dbl&gt;</th><th scope=col>&lt;dbl&gt;</th><th scope=col>&lt;dbl&gt;</th><th scope=col>&lt;dbl&gt;</th></tr>\n",
       "</thead>\n",
       "<tbody>\n",
       "\t<tr><td>Monocytes_Stimulated-Monocytes_Baseline</td><td>Monocytes</td><td>14:22850378-22852159 </td><td>14</td><td> 22850378</td><td> 22852159</td><td> 2.245294</td><td>1.8136113</td><td> 6.872552</td><td>1.886279e-10</td><td>7.002811e-06</td><td>12.225601</td></tr>\n",
       "\t<tr><td>Monocytes_Stimulated-Monocytes_Baseline</td><td>Monocytes</td><td>12:24718000-24720180 </td><td>12</td><td> 24718000</td><td> 24720180</td><td> 2.213399</td><td>2.0312811</td><td> 5.347850</td><td>3.517275e-07</td><td>2.176314e-03</td><td> 5.837434</td></tr>\n",
       "\t<tr><td>Monocytes_Stimulated-Monocytes_Baseline</td><td>Monocytes</td><td>6:161127967-161130430</td><td>6 </td><td>161127967</td><td>161130430</td><td> 1.793257</td><td>2.2065711</td><td> 5.258303</td><td>5.293406e-07</td><td>2.456471e-03</td><td> 5.490682</td></tr>\n",
       "\t<tr><td>Monocytes_Stimulated-Monocytes_Baseline</td><td>Monocytes</td><td>2:224909644-224910820</td><td>2 </td><td>224909644</td><td>224910820</td><td>-1.704316</td><td>0.8492639</td><td>-5.667854</td><td>7.894515e-08</td><td>7.327097e-04</td><td> 7.105455</td></tr>\n",
       "\t<tr><td>Monocytes_Stimulated-Monocytes_Baseline</td><td>Monocytes</td><td>4:102257459-102259450</td><td>4 </td><td>102257459</td><td>102259450</td><td> 1.620826</td><td>1.5655494</td><td> 4.888759</td><td>2.732540e-06</td><td>5.838769e-03</td><td> 4.099729</td></tr>\n",
       "\t<tr><td>Monocytes_Stimulated-Monocytes_Baseline</td><td>Monocytes</td><td>5:172756712-172758992</td><td>5 </td><td>172756712</td><td>172758992</td><td> 1.602480</td><td>2.2825984</td><td> 4.911548</td><td>2.474905e-06</td><td>5.838769e-03</td><td> 4.183570</td></tr>\n",
       "\t<tr><td>Monocytes_Stimulated-Monocytes_Baseline</td><td>Monocytes</td><td>14:22847665-22850275 </td><td>14</td><td> 22847665</td><td> 22850275</td><td> 1.560427</td><td>2.2247934</td><td> 4.884901</td><td>2.778667e-06</td><td>5.838769e-03</td><td> 4.085557</td></tr>\n",
       "\t<tr><td>Monocytes_Stimulated-Monocytes_Baseline</td><td>Monocytes</td><td>2:45567348-45568870  </td><td>2 </td><td> 45567348</td><td> 45568870</td><td>-1.417317</td><td>1.6191457</td><td>-5.208073</td><td>6.645296e-07</td><td>2.741185e-03</td><td> 5.297791</td></tr>\n",
       "\t<tr><td>Monocytes_Stimulated-Monocytes_Baseline</td><td>Monocytes</td><td>20:53899144-53900919 </td><td>20</td><td> 53899144</td><td> 53900919</td><td> 1.387695</td><td>1.8421087</td><td> 4.910602</td><td>2.485113e-06</td><td>5.838769e-03</td><td> 4.180085</td></tr>\n",
       "\t<tr><td>Monocytes_Stimulated-Monocytes_Baseline</td><td>Monocytes</td><td>11:63565965-63567973 </td><td>11</td><td> 63565965</td><td> 63567973</td><td>-1.362869</td><td>3.3295030</td><td>-4.737159</td><td>5.240708e-06</td><td>9.728064e-03</td><td> 3.548720</td></tr>\n",
       "\t<tr><td>Monocytes_Stimulated-Monocytes_Baseline</td><td>Monocytes</td><td>21:5064786-5066205   </td><td>21</td><td>  5064786</td><td>  5066205</td><td>-1.343150</td><td>0.8652113</td><td>-5.396550</td><td>2.811245e-07</td><td>2.087350e-03</td><td> 6.027537</td></tr>\n",
       "\t<tr><td>Monocytes_Stimulated-Monocytes_Baseline</td><td>Monocytes</td><td>1:169604414-169605629</td><td>1 </td><td>169604414</td><td>169605629</td><td>-1.274613</td><td>1.4573446</td><td>-4.880604</td><td>2.830918e-06</td><td>5.838769e-03</td><td> 4.069787</td></tr>\n",
       "\t<tr><td>Monocytes_Stimulated-Monocytes_Baseline</td><td>Monocytes</td><td>12:14384124-14385822 </td><td>12</td><td> 14384124</td><td> 14385822</td><td>-1.257956</td><td>1.6556009</td><td>-5.183531</td><td>7.422799e-07</td><td>2.755714e-03</td><td> 5.203969</td></tr>\n",
       "\t<tr><td>Monocytes_Stimulated-Monocytes_Baseline</td><td>Monocytes</td><td>4:16000671-16002125  </td><td>4 </td><td> 16000671</td><td> 16002125</td><td>-1.092134</td><td>1.6577523</td><td>-5.047459</td><td>1.362786e-06</td><td>4.216120e-03</td><td> 4.688974</td></tr>\n",
       "\t<tr><td>Monocytes_Stimulated-Monocytes_Baseline</td><td>Monocytes</td><td>2:84515600-84516925  </td><td>2 </td><td> 84515600</td><td> 84516925</td><td>-1.070993</td><td>2.3476959</td><td>-5.134787</td><td>9.238240e-07</td><td>3.117906e-03</td><td> 5.018471</td></tr>\n",
       "\t<tr><td>Monocytes_Stimulated-Monocytes_Baseline</td><td>Monocytes</td><td>15:45429986-45430995 </td><td>15</td><td> 45429986</td><td> 45430995</td><td> 1.069267</td><td>1.3472968</td><td> 5.856412</td><td>3.197877e-08</td><td>5.936060e-04</td><td> 7.872601</td></tr>\n",
       "\t<tr><td>Monocytes_Stimulated-Monocytes_Baseline</td><td>Monocytes</td><td>11:45338605-45340714 </td><td>11</td><td> 45338605</td><td> 45340714</td><td>-1.012232</td><td>1.9896345</td><td>-5.740888</td><td>5.574131e-08</td><td>6.897987e-04</td><td> 7.400899</td></tr>\n",
       "\t<tr><td>Monocytes_Stimulated-Monocytes_Baseline</td><td>Monocytes</td><td>17:68257065-68260058 </td><td>17</td><td> 68257065</td><td> 68260058</td><td>-1.007378</td><td>2.7696101</td><td>-4.903202</td><td>2.566402e-06</td><td>5.838769e-03</td><td> 4.152834</td></tr>\n",
       "</tbody>\n",
       "</table>\n"
      ],
      "text/latex": [
       "A data.frame: 18 × 12\n",
       "\\begin{tabular}{llllllllllll}\n",
       " Contrast & Cell.Type & Peak.ID & Peak.Chr & Peak.Start & Peak.End & logFC & AveExpr & t & P.Value & adj.P.Val & B\\\\\n",
       " <chr> & <chr> & <chr> & <chr> & <int> & <int> & <dbl> & <dbl> & <dbl> & <dbl> & <dbl> & <dbl>\\\\\n",
       "\\hline\n",
       "\t Monocytes\\_Stimulated-Monocytes\\_Baseline & Monocytes & 14:22850378-22852159  & 14 &  22850378 &  22852159 &  2.245294 & 1.8136113 &  6.872552 & 1.886279e-10 & 7.002811e-06 & 12.225601\\\\\n",
       "\t Monocytes\\_Stimulated-Monocytes\\_Baseline & Monocytes & 12:24718000-24720180  & 12 &  24718000 &  24720180 &  2.213399 & 2.0312811 &  5.347850 & 3.517275e-07 & 2.176314e-03 &  5.837434\\\\\n",
       "\t Monocytes\\_Stimulated-Monocytes\\_Baseline & Monocytes & 6:161127967-161130430 & 6  & 161127967 & 161130430 &  1.793257 & 2.2065711 &  5.258303 & 5.293406e-07 & 2.456471e-03 &  5.490682\\\\\n",
       "\t Monocytes\\_Stimulated-Monocytes\\_Baseline & Monocytes & 2:224909644-224910820 & 2  & 224909644 & 224910820 & -1.704316 & 0.8492639 & -5.667854 & 7.894515e-08 & 7.327097e-04 &  7.105455\\\\\n",
       "\t Monocytes\\_Stimulated-Monocytes\\_Baseline & Monocytes & 4:102257459-102259450 & 4  & 102257459 & 102259450 &  1.620826 & 1.5655494 &  4.888759 & 2.732540e-06 & 5.838769e-03 &  4.099729\\\\\n",
       "\t Monocytes\\_Stimulated-Monocytes\\_Baseline & Monocytes & 5:172756712-172758992 & 5  & 172756712 & 172758992 &  1.602480 & 2.2825984 &  4.911548 & 2.474905e-06 & 5.838769e-03 &  4.183570\\\\\n",
       "\t Monocytes\\_Stimulated-Monocytes\\_Baseline & Monocytes & 14:22847665-22850275  & 14 &  22847665 &  22850275 &  1.560427 & 2.2247934 &  4.884901 & 2.778667e-06 & 5.838769e-03 &  4.085557\\\\\n",
       "\t Monocytes\\_Stimulated-Monocytes\\_Baseline & Monocytes & 2:45567348-45568870   & 2  &  45567348 &  45568870 & -1.417317 & 1.6191457 & -5.208073 & 6.645296e-07 & 2.741185e-03 &  5.297791\\\\\n",
       "\t Monocytes\\_Stimulated-Monocytes\\_Baseline & Monocytes & 20:53899144-53900919  & 20 &  53899144 &  53900919 &  1.387695 & 1.8421087 &  4.910602 & 2.485113e-06 & 5.838769e-03 &  4.180085\\\\\n",
       "\t Monocytes\\_Stimulated-Monocytes\\_Baseline & Monocytes & 11:63565965-63567973  & 11 &  63565965 &  63567973 & -1.362869 & 3.3295030 & -4.737159 & 5.240708e-06 & 9.728064e-03 &  3.548720\\\\\n",
       "\t Monocytes\\_Stimulated-Monocytes\\_Baseline & Monocytes & 21:5064786-5066205    & 21 &   5064786 &   5066205 & -1.343150 & 0.8652113 & -5.396550 & 2.811245e-07 & 2.087350e-03 &  6.027537\\\\\n",
       "\t Monocytes\\_Stimulated-Monocytes\\_Baseline & Monocytes & 1:169604414-169605629 & 1  & 169604414 & 169605629 & -1.274613 & 1.4573446 & -4.880604 & 2.830918e-06 & 5.838769e-03 &  4.069787\\\\\n",
       "\t Monocytes\\_Stimulated-Monocytes\\_Baseline & Monocytes & 12:14384124-14385822  & 12 &  14384124 &  14385822 & -1.257956 & 1.6556009 & -5.183531 & 7.422799e-07 & 2.755714e-03 &  5.203969\\\\\n",
       "\t Monocytes\\_Stimulated-Monocytes\\_Baseline & Monocytes & 4:16000671-16002125   & 4  &  16000671 &  16002125 & -1.092134 & 1.6577523 & -5.047459 & 1.362786e-06 & 4.216120e-03 &  4.688974\\\\\n",
       "\t Monocytes\\_Stimulated-Monocytes\\_Baseline & Monocytes & 2:84515600-84516925   & 2  &  84515600 &  84516925 & -1.070993 & 2.3476959 & -5.134787 & 9.238240e-07 & 3.117906e-03 &  5.018471\\\\\n",
       "\t Monocytes\\_Stimulated-Monocytes\\_Baseline & Monocytes & 15:45429986-45430995  & 15 &  45429986 &  45430995 &  1.069267 & 1.3472968 &  5.856412 & 3.197877e-08 & 5.936060e-04 &  7.872601\\\\\n",
       "\t Monocytes\\_Stimulated-Monocytes\\_Baseline & Monocytes & 11:45338605-45340714  & 11 &  45338605 &  45340714 & -1.012232 & 1.9896345 & -5.740888 & 5.574131e-08 & 6.897987e-04 &  7.400899\\\\\n",
       "\t Monocytes\\_Stimulated-Monocytes\\_Baseline & Monocytes & 17:68257065-68260058  & 17 &  68257065 &  68260058 & -1.007378 & 2.7696101 & -4.903202 & 2.566402e-06 & 5.838769e-03 &  4.152834\\\\\n",
       "\\end{tabular}\n"
      ],
      "text/markdown": [
       "\n",
       "A data.frame: 18 × 12\n",
       "\n",
       "| Contrast &lt;chr&gt; | Cell.Type &lt;chr&gt; | Peak.ID &lt;chr&gt; | Peak.Chr &lt;chr&gt; | Peak.Start &lt;int&gt; | Peak.End &lt;int&gt; | logFC &lt;dbl&gt; | AveExpr &lt;dbl&gt; | t &lt;dbl&gt; | P.Value &lt;dbl&gt; | adj.P.Val &lt;dbl&gt; | B &lt;dbl&gt; |\n",
       "|---|---|---|---|---|---|---|---|---|---|---|---|\n",
       "| Monocytes_Stimulated-Monocytes_Baseline | Monocytes | 14:22850378-22852159  | 14 |  22850378 |  22852159 |  2.245294 | 1.8136113 |  6.872552 | 1.886279e-10 | 7.002811e-06 | 12.225601 |\n",
       "| Monocytes_Stimulated-Monocytes_Baseline | Monocytes | 12:24718000-24720180  | 12 |  24718000 |  24720180 |  2.213399 | 2.0312811 |  5.347850 | 3.517275e-07 | 2.176314e-03 |  5.837434 |\n",
       "| Monocytes_Stimulated-Monocytes_Baseline | Monocytes | 6:161127967-161130430 | 6  | 161127967 | 161130430 |  1.793257 | 2.2065711 |  5.258303 | 5.293406e-07 | 2.456471e-03 |  5.490682 |\n",
       "| Monocytes_Stimulated-Monocytes_Baseline | Monocytes | 2:224909644-224910820 | 2  | 224909644 | 224910820 | -1.704316 | 0.8492639 | -5.667854 | 7.894515e-08 | 7.327097e-04 |  7.105455 |\n",
       "| Monocytes_Stimulated-Monocytes_Baseline | Monocytes | 4:102257459-102259450 | 4  | 102257459 | 102259450 |  1.620826 | 1.5655494 |  4.888759 | 2.732540e-06 | 5.838769e-03 |  4.099729 |\n",
       "| Monocytes_Stimulated-Monocytes_Baseline | Monocytes | 5:172756712-172758992 | 5  | 172756712 | 172758992 |  1.602480 | 2.2825984 |  4.911548 | 2.474905e-06 | 5.838769e-03 |  4.183570 |\n",
       "| Monocytes_Stimulated-Monocytes_Baseline | Monocytes | 14:22847665-22850275  | 14 |  22847665 |  22850275 |  1.560427 | 2.2247934 |  4.884901 | 2.778667e-06 | 5.838769e-03 |  4.085557 |\n",
       "| Monocytes_Stimulated-Monocytes_Baseline | Monocytes | 2:45567348-45568870   | 2  |  45567348 |  45568870 | -1.417317 | 1.6191457 | -5.208073 | 6.645296e-07 | 2.741185e-03 |  5.297791 |\n",
       "| Monocytes_Stimulated-Monocytes_Baseline | Monocytes | 20:53899144-53900919  | 20 |  53899144 |  53900919 |  1.387695 | 1.8421087 |  4.910602 | 2.485113e-06 | 5.838769e-03 |  4.180085 |\n",
       "| Monocytes_Stimulated-Monocytes_Baseline | Monocytes | 11:63565965-63567973  | 11 |  63565965 |  63567973 | -1.362869 | 3.3295030 | -4.737159 | 5.240708e-06 | 9.728064e-03 |  3.548720 |\n",
       "| Monocytes_Stimulated-Monocytes_Baseline | Monocytes | 21:5064786-5066205    | 21 |   5064786 |   5066205 | -1.343150 | 0.8652113 | -5.396550 | 2.811245e-07 | 2.087350e-03 |  6.027537 |\n",
       "| Monocytes_Stimulated-Monocytes_Baseline | Monocytes | 1:169604414-169605629 | 1  | 169604414 | 169605629 | -1.274613 | 1.4573446 | -4.880604 | 2.830918e-06 | 5.838769e-03 |  4.069787 |\n",
       "| Monocytes_Stimulated-Monocytes_Baseline | Monocytes | 12:14384124-14385822  | 12 |  14384124 |  14385822 | -1.257956 | 1.6556009 | -5.183531 | 7.422799e-07 | 2.755714e-03 |  5.203969 |\n",
       "| Monocytes_Stimulated-Monocytes_Baseline | Monocytes | 4:16000671-16002125   | 4  |  16000671 |  16002125 | -1.092134 | 1.6577523 | -5.047459 | 1.362786e-06 | 4.216120e-03 |  4.688974 |\n",
       "| Monocytes_Stimulated-Monocytes_Baseline | Monocytes | 2:84515600-84516925   | 2  |  84515600 |  84516925 | -1.070993 | 2.3476959 | -5.134787 | 9.238240e-07 | 3.117906e-03 |  5.018471 |\n",
       "| Monocytes_Stimulated-Monocytes_Baseline | Monocytes | 15:45429986-45430995  | 15 |  45429986 |  45430995 |  1.069267 | 1.3472968 |  5.856412 | 3.197877e-08 | 5.936060e-04 |  7.872601 |\n",
       "| Monocytes_Stimulated-Monocytes_Baseline | Monocytes | 11:45338605-45340714  | 11 |  45338605 |  45340714 | -1.012232 | 1.9896345 | -5.740888 | 5.574131e-08 | 6.897987e-04 |  7.400899 |\n",
       "| Monocytes_Stimulated-Monocytes_Baseline | Monocytes | 17:68257065-68260058  | 17 |  68257065 |  68260058 | -1.007378 | 2.7696101 | -4.903202 | 2.566402e-06 | 5.838769e-03 |  4.152834 |\n",
       "\n"
      ],
      "text/plain": [
       "   Contrast                                Cell.Type Peak.ID              \n",
       "1  Monocytes_Stimulated-Monocytes_Baseline Monocytes 14:22850378-22852159 \n",
       "2  Monocytes_Stimulated-Monocytes_Baseline Monocytes 12:24718000-24720180 \n",
       "3  Monocytes_Stimulated-Monocytes_Baseline Monocytes 6:161127967-161130430\n",
       "4  Monocytes_Stimulated-Monocytes_Baseline Monocytes 2:224909644-224910820\n",
       "5  Monocytes_Stimulated-Monocytes_Baseline Monocytes 4:102257459-102259450\n",
       "6  Monocytes_Stimulated-Monocytes_Baseline Monocytes 5:172756712-172758992\n",
       "7  Monocytes_Stimulated-Monocytes_Baseline Monocytes 14:22847665-22850275 \n",
       "8  Monocytes_Stimulated-Monocytes_Baseline Monocytes 2:45567348-45568870  \n",
       "9  Monocytes_Stimulated-Monocytes_Baseline Monocytes 20:53899144-53900919 \n",
       "10 Monocytes_Stimulated-Monocytes_Baseline Monocytes 11:63565965-63567973 \n",
       "11 Monocytes_Stimulated-Monocytes_Baseline Monocytes 21:5064786-5066205   \n",
       "12 Monocytes_Stimulated-Monocytes_Baseline Monocytes 1:169604414-169605629\n",
       "13 Monocytes_Stimulated-Monocytes_Baseline Monocytes 12:14384124-14385822 \n",
       "14 Monocytes_Stimulated-Monocytes_Baseline Monocytes 4:16000671-16002125  \n",
       "15 Monocytes_Stimulated-Monocytes_Baseline Monocytes 2:84515600-84516925  \n",
       "16 Monocytes_Stimulated-Monocytes_Baseline Monocytes 15:45429986-45430995 \n",
       "17 Monocytes_Stimulated-Monocytes_Baseline Monocytes 11:45338605-45340714 \n",
       "18 Monocytes_Stimulated-Monocytes_Baseline Monocytes 17:68257065-68260058 \n",
       "   Peak.Chr Peak.Start Peak.End  logFC     AveExpr   t         P.Value     \n",
       "1  14        22850378   22852159  2.245294 1.8136113  6.872552 1.886279e-10\n",
       "2  12        24718000   24720180  2.213399 2.0312811  5.347850 3.517275e-07\n",
       "3  6        161127967  161130430  1.793257 2.2065711  5.258303 5.293406e-07\n",
       "4  2        224909644  224910820 -1.704316 0.8492639 -5.667854 7.894515e-08\n",
       "5  4        102257459  102259450  1.620826 1.5655494  4.888759 2.732540e-06\n",
       "6  5        172756712  172758992  1.602480 2.2825984  4.911548 2.474905e-06\n",
       "7  14        22847665   22850275  1.560427 2.2247934  4.884901 2.778667e-06\n",
       "8  2         45567348   45568870 -1.417317 1.6191457 -5.208073 6.645296e-07\n",
       "9  20        53899144   53900919  1.387695 1.8421087  4.910602 2.485113e-06\n",
       "10 11        63565965   63567973 -1.362869 3.3295030 -4.737159 5.240708e-06\n",
       "11 21         5064786    5066205 -1.343150 0.8652113 -5.396550 2.811245e-07\n",
       "12 1        169604414  169605629 -1.274613 1.4573446 -4.880604 2.830918e-06\n",
       "13 12        14384124   14385822 -1.257956 1.6556009 -5.183531 7.422799e-07\n",
       "14 4         16000671   16002125 -1.092134 1.6577523 -5.047459 1.362786e-06\n",
       "15 2         84515600   84516925 -1.070993 2.3476959 -5.134787 9.238240e-07\n",
       "16 15        45429986   45430995  1.069267 1.3472968  5.856412 3.197877e-08\n",
       "17 11        45338605   45340714 -1.012232 1.9896345 -5.740888 5.574131e-08\n",
       "18 17        68257065   68260058 -1.007378 2.7696101 -4.903202 2.566402e-06\n",
       "   adj.P.Val    B        \n",
       "1  7.002811e-06 12.225601\n",
       "2  2.176314e-03  5.837434\n",
       "3  2.456471e-03  5.490682\n",
       "4  7.327097e-04  7.105455\n",
       "5  5.838769e-03  4.099729\n",
       "6  5.838769e-03  4.183570\n",
       "7  5.838769e-03  4.085557\n",
       "8  2.741185e-03  5.297791\n",
       "9  5.838769e-03  4.180085\n",
       "10 9.728064e-03  3.548720\n",
       "11 2.087350e-03  6.027537\n",
       "12 5.838769e-03  4.069787\n",
       "13 2.755714e-03  5.203969\n",
       "14 4.216120e-03  4.688974\n",
       "15 3.117906e-03  5.018471\n",
       "16 5.936060e-04  7.872601\n",
       "17 6.897987e-04  7.400899\n",
       "18 5.838769e-03  4.152834"
      ]
     },
     "metadata": {},
     "output_type": "display_data"
    }
   ],
   "source": [
    "da.peaks %>%\n",
    "    dplyr::filter(Cell.Type==\"Monocytes\") %>%\n",
    "    dplyr::arrange(desc(abs(logFC)))"
   ]
  },
  {
   "cell_type": "code",
   "execution_count": null,
   "id": "2ff0ceb0-03d2-408a-ac15-25ea89066bcc",
   "metadata": {},
   "outputs": [],
   "source": []
  }
 ],
 "metadata": {
  "kernelspec": {
   "display_name": "R",
   "language": "R",
   "name": "ir"
  },
  "language_info": {
   "codemirror_mode": "r",
   "file_extension": ".r",
   "mimetype": "text/x-r-source",
   "name": "R",
   "pygments_lexer": "r",
   "version": "4.0.5"
  }
 },
 "nbformat": 4,
 "nbformat_minor": 5
}
