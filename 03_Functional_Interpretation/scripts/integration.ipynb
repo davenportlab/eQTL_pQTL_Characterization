{
 "cells": [
  {
   "cell_type": "markdown",
   "id": "0b5d69e0-e619-4745-bbf6-0bd065dc9334",
   "metadata": {},
   "source": [
    "# Integration\n",
    "\n",
    "**Created**: 28 June 2022"
   ]
  },
  {
   "cell_type": "markdown",
   "id": "56a76348-82ed-4b03-94f7-3e7b3a962a36",
   "metadata": {},
   "source": [
    "## Environment"
   ]
  },
  {
   "cell_type": "code",
   "execution_count": 1,
   "id": "9671e152-8e0b-4a43-8db6-d704f7d86b5d",
   "metadata": {},
   "outputs": [
    {
     "name": "stderr",
     "output_type": "stream",
     "text": [
      "── \u001b[1mAttaching packages\u001b[22m ───────────────────────────────────────────────────────────────────────────────────────────────────────────────────────────────────────────────────────────────────────────── tidyverse 1.3.1 ──\n",
      "\n",
      "\u001b[32m✔\u001b[39m \u001b[34mggplot2\u001b[39m 3.3.6     \u001b[32m✔\u001b[39m \u001b[34mpurrr  \u001b[39m 0.3.4\n",
      "\u001b[32m✔\u001b[39m \u001b[34mtibble \u001b[39m 3.1.7     \u001b[32m✔\u001b[39m \u001b[34mdplyr  \u001b[39m 1.0.8\n",
      "\u001b[32m✔\u001b[39m \u001b[34mtidyr  \u001b[39m 1.2.0     \u001b[32m✔\u001b[39m \u001b[34mstringr\u001b[39m 1.4.0\n",
      "\u001b[32m✔\u001b[39m \u001b[34mreadr  \u001b[39m 2.1.1     \u001b[32m✔\u001b[39m \u001b[34mforcats\u001b[39m 0.5.1\n",
      "\n",
      "── \u001b[1mConflicts\u001b[22m ──────────────────────────────────────────────────────────────────────────────────────────────────────────────────────────────────────────────────────────────────────────────── tidyverse_conflicts() ──\n",
      "\u001b[31m✖\u001b[39m \u001b[34mdplyr\u001b[39m::\u001b[32mfilter()\u001b[39m masks \u001b[34mstats\u001b[39m::filter()\n",
      "\u001b[31m✖\u001b[39m \u001b[34mdplyr\u001b[39m::\u001b[32mlag()\u001b[39m    masks \u001b[34mstats\u001b[39m::lag()\n",
      "\n",
      "\n",
      "Attaching package: ‘data.table’\n",
      "\n",
      "\n",
      "The following objects are masked from ‘package:dplyr’:\n",
      "\n",
      "    between, first, last\n",
      "\n",
      "\n",
      "The following object is masked from ‘package:purrr’:\n",
      "\n",
      "    transpose\n",
      "\n",
      "\n"
     ]
    }
   ],
   "source": [
    "library(tidyverse)\n",
    "library(data.table)\n",
    "\n",
    "setwd(\"~/eQTL_pQTL_Characterization/\")\n",
    "\n",
    "source(\"03_Functional_Interpretation/scripts/utils/ggplot_theme.R\")"
   ]
  },
  {
   "cell_type": "markdown",
   "id": "2e6ce567-55f5-4ee8-9e6b-927abd78e46e",
   "metadata": {},
   "source": [
    "## Load Data"
   ]
  },
  {
   "cell_type": "code",
   "execution_count": 2,
   "id": "70100c8b-349f-450e-9229-b7b6840bc906",
   "metadata": {},
   "outputs": [],
   "source": [
    "gene.info <- read.table(\"/nfs/team282/data/gains_team282/gene_info_864_20412_hla.txt\")"
   ]
  },
  {
   "cell_type": "code",
   "execution_count": 3,
   "id": "e5cdde13-e49c-42cf-89d2-c007d132fc01",
   "metadata": {},
   "outputs": [
    {
     "data": {
      "text/html": [
       "<table class=\"dataframe\">\n",
       "<caption>A data.frame: 6 × 27</caption>\n",
       "<thead>\n",
       "\t<tr><th></th><th scope=col>seqnames</th><th scope=col>start</th><th scope=col>end</th><th scope=col>width</th><th scope=col>strand</th><th scope=col>source</th><th scope=col>type</th><th scope=col>score</th><th scope=col>phase</th><th scope=col>gene_id</th><th scope=col>⋯</th><th scope=col>transcript_source</th><th scope=col>transcript_biotype</th><th scope=col>tag</th><th scope=col>transcript_support_level</th><th scope=col>exon_number</th><th scope=col>exon_id</th><th scope=col>exon_version</th><th scope=col>protein_id</th><th scope=col>protein_version</th><th scope=col>ccds_id</th></tr>\n",
       "\t<tr><th></th><th scope=col>&lt;chr&gt;</th><th scope=col>&lt;int&gt;</th><th scope=col>&lt;int&gt;</th><th scope=col>&lt;int&gt;</th><th scope=col>&lt;chr&gt;</th><th scope=col>&lt;chr&gt;</th><th scope=col>&lt;chr&gt;</th><th scope=col>&lt;lgl&gt;</th><th scope=col>&lt;lgl&gt;</th><th scope=col>&lt;chr&gt;</th><th scope=col>⋯</th><th scope=col>&lt;lgl&gt;</th><th scope=col>&lt;lgl&gt;</th><th scope=col>&lt;lgl&gt;</th><th scope=col>&lt;lgl&gt;</th><th scope=col>&lt;lgl&gt;</th><th scope=col>&lt;lgl&gt;</th><th scope=col>&lt;lgl&gt;</th><th scope=col>&lt;lgl&gt;</th><th scope=col>&lt;lgl&gt;</th><th scope=col>&lt;lgl&gt;</th></tr>\n",
       "</thead>\n",
       "<tbody>\n",
       "\t<tr><th scope=row>ENSG00000230521</th><td>6</td><td>29887294</td><td>29888268</td><td> 975</td><td>-</td><td>havana</td><td>gene</td><td>NA</td><td>NA</td><td>ENSG00000230521</td><td>⋯</td><td>NA</td><td>NA</td><td>NA</td><td>NA</td><td>NA</td><td>NA</td><td>NA</td><td>NA</td><td>NA</td><td>NA</td></tr>\n",
       "\t<tr><th scope=row>ENSG00000225864</th><td>6</td><td>29722981</td><td>29723971</td><td> 991</td><td>-</td><td>havana</td><td>gene</td><td>NA</td><td>NA</td><td>ENSG00000225864</td><td>⋯</td><td>NA</td><td>NA</td><td>NA</td><td>NA</td><td>NA</td><td>NA</td><td>NA</td><td>NA</td><td>NA</td><td>NA</td></tr>\n",
       "\t<tr><th scope=row>ENSG00000227766</th><td>6</td><td>29942075</td><td>29943067</td><td> 993</td><td>-</td><td>havana</td><td>gene</td><td>NA</td><td>NA</td><td>ENSG00000227766</td><td>⋯</td><td>NA</td><td>NA</td><td>NA</td><td>NA</td><td>NA</td><td>NA</td><td>NA</td><td>NA</td><td>NA</td><td>NA</td></tr>\n",
       "\t<tr><th scope=row>ENSG00000237669</th><td>6</td><td>30006121</td><td>30007116</td><td> 996</td><td>-</td><td>havana</td><td>gene</td><td>NA</td><td>NA</td><td>ENSG00000237669</td><td>⋯</td><td>NA</td><td>NA</td><td>NA</td><td>NA</td><td>NA</td><td>NA</td><td>NA</td><td>NA</td><td>NA</td><td>NA</td></tr>\n",
       "\t<tr><th scope=row>ENSG00000271581</th><td>6</td><td>31356647</td><td>31357637</td><td> 991</td><td>+</td><td>havana</td><td>gene</td><td>NA</td><td>NA</td><td>ENSG00000271581</td><td>⋯</td><td>NA</td><td>NA</td><td>NA</td><td>NA</td><td>NA</td><td>NA</td><td>NA</td><td>NA</td><td>NA</td><td>NA</td></tr>\n",
       "\t<tr><th scope=row>ENSG00000285647</th><td>6</td><td>31367057</td><td>31376088</td><td>9032</td><td>+</td><td>havana</td><td>gene</td><td>NA</td><td>NA</td><td>ENSG00000285647</td><td>⋯</td><td>NA</td><td>NA</td><td>NA</td><td>NA</td><td>NA</td><td>NA</td><td>NA</td><td>NA</td><td>NA</td><td>NA</td></tr>\n",
       "</tbody>\n",
       "</table>\n"
      ],
      "text/latex": [
       "A data.frame: 6 × 27\n",
       "\\begin{tabular}{r|lllllllllllllllllllll}\n",
       "  & seqnames & start & end & width & strand & source & type & score & phase & gene\\_id & ⋯ & transcript\\_source & transcript\\_biotype & tag & transcript\\_support\\_level & exon\\_number & exon\\_id & exon\\_version & protein\\_id & protein\\_version & ccds\\_id\\\\\n",
       "  & <chr> & <int> & <int> & <int> & <chr> & <chr> & <chr> & <lgl> & <lgl> & <chr> & ⋯ & <lgl> & <lgl> & <lgl> & <lgl> & <lgl> & <lgl> & <lgl> & <lgl> & <lgl> & <lgl>\\\\\n",
       "\\hline\n",
       "\tENSG00000230521 & 6 & 29887294 & 29888268 &  975 & - & havana & gene & NA & NA & ENSG00000230521 & ⋯ & NA & NA & NA & NA & NA & NA & NA & NA & NA & NA\\\\\n",
       "\tENSG00000225864 & 6 & 29722981 & 29723971 &  991 & - & havana & gene & NA & NA & ENSG00000225864 & ⋯ & NA & NA & NA & NA & NA & NA & NA & NA & NA & NA\\\\\n",
       "\tENSG00000227766 & 6 & 29942075 & 29943067 &  993 & - & havana & gene & NA & NA & ENSG00000227766 & ⋯ & NA & NA & NA & NA & NA & NA & NA & NA & NA & NA\\\\\n",
       "\tENSG00000237669 & 6 & 30006121 & 30007116 &  996 & - & havana & gene & NA & NA & ENSG00000237669 & ⋯ & NA & NA & NA & NA & NA & NA & NA & NA & NA & NA\\\\\n",
       "\tENSG00000271581 & 6 & 31356647 & 31357637 &  991 & + & havana & gene & NA & NA & ENSG00000271581 & ⋯ & NA & NA & NA & NA & NA & NA & NA & NA & NA & NA\\\\\n",
       "\tENSG00000285647 & 6 & 31367057 & 31376088 & 9032 & + & havana & gene & NA & NA & ENSG00000285647 & ⋯ & NA & NA & NA & NA & NA & NA & NA & NA & NA & NA\\\\\n",
       "\\end{tabular}\n"
      ],
      "text/markdown": [
       "\n",
       "A data.frame: 6 × 27\n",
       "\n",
       "| <!--/--> | seqnames &lt;chr&gt; | start &lt;int&gt; | end &lt;int&gt; | width &lt;int&gt; | strand &lt;chr&gt; | source &lt;chr&gt; | type &lt;chr&gt; | score &lt;lgl&gt; | phase &lt;lgl&gt; | gene_id &lt;chr&gt; | ⋯ ⋯ | transcript_source &lt;lgl&gt; | transcript_biotype &lt;lgl&gt; | tag &lt;lgl&gt; | transcript_support_level &lt;lgl&gt; | exon_number &lt;lgl&gt; | exon_id &lt;lgl&gt; | exon_version &lt;lgl&gt; | protein_id &lt;lgl&gt; | protein_version &lt;lgl&gt; | ccds_id &lt;lgl&gt; |\n",
       "|---|---|---|---|---|---|---|---|---|---|---|---|---|---|---|---|---|---|---|---|---|---|\n",
       "| ENSG00000230521 | 6 | 29887294 | 29888268 |  975 | - | havana | gene | NA | NA | ENSG00000230521 | ⋯ | NA | NA | NA | NA | NA | NA | NA | NA | NA | NA |\n",
       "| ENSG00000225864 | 6 | 29722981 | 29723971 |  991 | - | havana | gene | NA | NA | ENSG00000225864 | ⋯ | NA | NA | NA | NA | NA | NA | NA | NA | NA | NA |\n",
       "| ENSG00000227766 | 6 | 29942075 | 29943067 |  993 | - | havana | gene | NA | NA | ENSG00000227766 | ⋯ | NA | NA | NA | NA | NA | NA | NA | NA | NA | NA |\n",
       "| ENSG00000237669 | 6 | 30006121 | 30007116 |  996 | - | havana | gene | NA | NA | ENSG00000237669 | ⋯ | NA | NA | NA | NA | NA | NA | NA | NA | NA | NA |\n",
       "| ENSG00000271581 | 6 | 31356647 | 31357637 |  991 | + | havana | gene | NA | NA | ENSG00000271581 | ⋯ | NA | NA | NA | NA | NA | NA | NA | NA | NA | NA |\n",
       "| ENSG00000285647 | 6 | 31367057 | 31376088 | 9032 | + | havana | gene | NA | NA | ENSG00000285647 | ⋯ | NA | NA | NA | NA | NA | NA | NA | NA | NA | NA |\n",
       "\n"
      ],
      "text/plain": [
       "                seqnames start    end      width strand source type score phase\n",
       "ENSG00000230521 6        29887294 29888268  975  -      havana gene NA    NA   \n",
       "ENSG00000225864 6        29722981 29723971  991  -      havana gene NA    NA   \n",
       "ENSG00000227766 6        29942075 29943067  993  -      havana gene NA    NA   \n",
       "ENSG00000237669 6        30006121 30007116  996  -      havana gene NA    NA   \n",
       "ENSG00000271581 6        31356647 31357637  991  +      havana gene NA    NA   \n",
       "ENSG00000285647 6        31367057 31376088 9032  +      havana gene NA    NA   \n",
       "                gene_id         ⋯ transcript_source transcript_biotype tag\n",
       "ENSG00000230521 ENSG00000230521 ⋯ NA                NA                 NA \n",
       "ENSG00000225864 ENSG00000225864 ⋯ NA                NA                 NA \n",
       "ENSG00000227766 ENSG00000227766 ⋯ NA                NA                 NA \n",
       "ENSG00000237669 ENSG00000237669 ⋯ NA                NA                 NA \n",
       "ENSG00000271581 ENSG00000271581 ⋯ NA                NA                 NA \n",
       "ENSG00000285647 ENSG00000285647 ⋯ NA                NA                 NA \n",
       "                transcript_support_level exon_number exon_id exon_version\n",
       "ENSG00000230521 NA                       NA          NA      NA          \n",
       "ENSG00000225864 NA                       NA          NA      NA          \n",
       "ENSG00000227766 NA                       NA          NA      NA          \n",
       "ENSG00000237669 NA                       NA          NA      NA          \n",
       "ENSG00000271581 NA                       NA          NA      NA          \n",
       "ENSG00000285647 NA                       NA          NA      NA          \n",
       "                protein_id protein_version ccds_id\n",
       "ENSG00000230521 NA         NA              NA     \n",
       "ENSG00000225864 NA         NA              NA     \n",
       "ENSG00000227766 NA         NA              NA     \n",
       "ENSG00000237669 NA         NA              NA     \n",
       "ENSG00000271581 NA         NA              NA     \n",
       "ENSG00000285647 NA         NA              NA     "
      ]
     },
     "metadata": {},
     "output_type": "display_data"
    }
   ],
   "source": [
    "head(gene.info)"
   ]
  },
  {
   "cell_type": "code",
   "execution_count": 4,
   "id": "f161b45a-de9e-4405-a398-fb6c2a662d0d",
   "metadata": {},
   "outputs": [],
   "source": [
    "modules <- read.csv(\"~/gains_team282/nikhil/expression/gene_expression/modules.csv\") %>%\n",
    "    merge(., gene.info, by.x=\"Gene\", by.y=0)"
   ]
  },
  {
   "cell_type": "code",
   "execution_count": 5,
   "id": "2b663db2-8489-4182-9936-e9223f5815a4",
   "metadata": {},
   "outputs": [
    {
     "data": {
      "text/html": [
       "<table class=\"dataframe\">\n",
       "<caption>A data.frame: 6 × 29</caption>\n",
       "<thead>\n",
       "\t<tr><th></th><th scope=col>Gene</th><th scope=col>Module</th><th scope=col>seqnames</th><th scope=col>start</th><th scope=col>end</th><th scope=col>width</th><th scope=col>strand</th><th scope=col>source</th><th scope=col>type</th><th scope=col>score</th><th scope=col>⋯</th><th scope=col>transcript_source</th><th scope=col>transcript_biotype</th><th scope=col>tag</th><th scope=col>transcript_support_level</th><th scope=col>exon_number</th><th scope=col>exon_id</th><th scope=col>exon_version</th><th scope=col>protein_id</th><th scope=col>protein_version</th><th scope=col>ccds_id</th></tr>\n",
       "\t<tr><th></th><th scope=col>&lt;chr&gt;</th><th scope=col>&lt;chr&gt;</th><th scope=col>&lt;chr&gt;</th><th scope=col>&lt;int&gt;</th><th scope=col>&lt;int&gt;</th><th scope=col>&lt;int&gt;</th><th scope=col>&lt;chr&gt;</th><th scope=col>&lt;chr&gt;</th><th scope=col>&lt;chr&gt;</th><th scope=col>&lt;lgl&gt;</th><th scope=col>⋯</th><th scope=col>&lt;lgl&gt;</th><th scope=col>&lt;lgl&gt;</th><th scope=col>&lt;lgl&gt;</th><th scope=col>&lt;lgl&gt;</th><th scope=col>&lt;lgl&gt;</th><th scope=col>&lt;lgl&gt;</th><th scope=col>&lt;lgl&gt;</th><th scope=col>&lt;lgl&gt;</th><th scope=col>&lt;lgl&gt;</th><th scope=col>&lt;lgl&gt;</th></tr>\n",
       "</thead>\n",
       "<tbody>\n",
       "\t<tr><th scope=row>1</th><td>ENSG00000000003</td><td>Module_13</td><td>X </td><td>100627108</td><td>100639991</td><td> 12884</td><td>-</td><td>ensembl_havana</td><td>gene</td><td>NA</td><td>⋯</td><td>NA</td><td>NA</td><td>NA</td><td>NA</td><td>NA</td><td>NA</td><td>NA</td><td>NA</td><td>NA</td><td>NA</td></tr>\n",
       "\t<tr><th scope=row>2</th><td>ENSG00000000419</td><td>Module_2 </td><td>20</td><td> 50934867</td><td> 50958555</td><td> 23689</td><td>-</td><td>ensembl_havana</td><td>gene</td><td>NA</td><td>⋯</td><td>NA</td><td>NA</td><td>NA</td><td>NA</td><td>NA</td><td>NA</td><td>NA</td><td>NA</td><td>NA</td><td>NA</td></tr>\n",
       "\t<tr><th scope=row>3</th><td>ENSG00000000457</td><td>Module_2 </td><td>1 </td><td>169849631</td><td>169894267</td><td> 44637</td><td>-</td><td>ensembl_havana</td><td>gene</td><td>NA</td><td>⋯</td><td>NA</td><td>NA</td><td>NA</td><td>NA</td><td>NA</td><td>NA</td><td>NA</td><td>NA</td><td>NA</td><td>NA</td></tr>\n",
       "\t<tr><th scope=row>4</th><td>ENSG00000000460</td><td>Module_6 </td><td>1 </td><td>169662007</td><td>169854080</td><td>192074</td><td>+</td><td>ensembl_havana</td><td>gene</td><td>NA</td><td>⋯</td><td>NA</td><td>NA</td><td>NA</td><td>NA</td><td>NA</td><td>NA</td><td>NA</td><td>NA</td><td>NA</td><td>NA</td></tr>\n",
       "\t<tr><th scope=row>5</th><td>ENSG00000000938</td><td>Module_15</td><td>1 </td><td> 27612064</td><td> 27635185</td><td> 23122</td><td>-</td><td>ensembl_havana</td><td>gene</td><td>NA</td><td>⋯</td><td>NA</td><td>NA</td><td>NA</td><td>NA</td><td>NA</td><td>NA</td><td>NA</td><td>NA</td><td>NA</td><td>NA</td></tr>\n",
       "\t<tr><th scope=row>6</th><td>ENSG00000000971</td><td>Module_5 </td><td>1 </td><td>196652043</td><td>196747504</td><td> 95462</td><td>+</td><td>ensembl_havana</td><td>gene</td><td>NA</td><td>⋯</td><td>NA</td><td>NA</td><td>NA</td><td>NA</td><td>NA</td><td>NA</td><td>NA</td><td>NA</td><td>NA</td><td>NA</td></tr>\n",
       "</tbody>\n",
       "</table>\n"
      ],
      "text/latex": [
       "A data.frame: 6 × 29\n",
       "\\begin{tabular}{r|lllllllllllllllllllll}\n",
       "  & Gene & Module & seqnames & start & end & width & strand & source & type & score & ⋯ & transcript\\_source & transcript\\_biotype & tag & transcript\\_support\\_level & exon\\_number & exon\\_id & exon\\_version & protein\\_id & protein\\_version & ccds\\_id\\\\\n",
       "  & <chr> & <chr> & <chr> & <int> & <int> & <int> & <chr> & <chr> & <chr> & <lgl> & ⋯ & <lgl> & <lgl> & <lgl> & <lgl> & <lgl> & <lgl> & <lgl> & <lgl> & <lgl> & <lgl>\\\\\n",
       "\\hline\n",
       "\t1 & ENSG00000000003 & Module\\_13 & X  & 100627108 & 100639991 &  12884 & - & ensembl\\_havana & gene & NA & ⋯ & NA & NA & NA & NA & NA & NA & NA & NA & NA & NA\\\\\n",
       "\t2 & ENSG00000000419 & Module\\_2  & 20 &  50934867 &  50958555 &  23689 & - & ensembl\\_havana & gene & NA & ⋯ & NA & NA & NA & NA & NA & NA & NA & NA & NA & NA\\\\\n",
       "\t3 & ENSG00000000457 & Module\\_2  & 1  & 169849631 & 169894267 &  44637 & - & ensembl\\_havana & gene & NA & ⋯ & NA & NA & NA & NA & NA & NA & NA & NA & NA & NA\\\\\n",
       "\t4 & ENSG00000000460 & Module\\_6  & 1  & 169662007 & 169854080 & 192074 & + & ensembl\\_havana & gene & NA & ⋯ & NA & NA & NA & NA & NA & NA & NA & NA & NA & NA\\\\\n",
       "\t5 & ENSG00000000938 & Module\\_15 & 1  &  27612064 &  27635185 &  23122 & - & ensembl\\_havana & gene & NA & ⋯ & NA & NA & NA & NA & NA & NA & NA & NA & NA & NA\\\\\n",
       "\t6 & ENSG00000000971 & Module\\_5  & 1  & 196652043 & 196747504 &  95462 & + & ensembl\\_havana & gene & NA & ⋯ & NA & NA & NA & NA & NA & NA & NA & NA & NA & NA\\\\\n",
       "\\end{tabular}\n"
      ],
      "text/markdown": [
       "\n",
       "A data.frame: 6 × 29\n",
       "\n",
       "| <!--/--> | Gene &lt;chr&gt; | Module &lt;chr&gt; | seqnames &lt;chr&gt; | start &lt;int&gt; | end &lt;int&gt; | width &lt;int&gt; | strand &lt;chr&gt; | source &lt;chr&gt; | type &lt;chr&gt; | score &lt;lgl&gt; | ⋯ ⋯ | transcript_source &lt;lgl&gt; | transcript_biotype &lt;lgl&gt; | tag &lt;lgl&gt; | transcript_support_level &lt;lgl&gt; | exon_number &lt;lgl&gt; | exon_id &lt;lgl&gt; | exon_version &lt;lgl&gt; | protein_id &lt;lgl&gt; | protein_version &lt;lgl&gt; | ccds_id &lt;lgl&gt; |\n",
       "|---|---|---|---|---|---|---|---|---|---|---|---|---|---|---|---|---|---|---|---|---|---|\n",
       "| 1 | ENSG00000000003 | Module_13 | X  | 100627108 | 100639991 |  12884 | - | ensembl_havana | gene | NA | ⋯ | NA | NA | NA | NA | NA | NA | NA | NA | NA | NA |\n",
       "| 2 | ENSG00000000419 | Module_2  | 20 |  50934867 |  50958555 |  23689 | - | ensembl_havana | gene | NA | ⋯ | NA | NA | NA | NA | NA | NA | NA | NA | NA | NA |\n",
       "| 3 | ENSG00000000457 | Module_2  | 1  | 169849631 | 169894267 |  44637 | - | ensembl_havana | gene | NA | ⋯ | NA | NA | NA | NA | NA | NA | NA | NA | NA | NA |\n",
       "| 4 | ENSG00000000460 | Module_6  | 1  | 169662007 | 169854080 | 192074 | + | ensembl_havana | gene | NA | ⋯ | NA | NA | NA | NA | NA | NA | NA | NA | NA | NA |\n",
       "| 5 | ENSG00000000938 | Module_15 | 1  |  27612064 |  27635185 |  23122 | - | ensembl_havana | gene | NA | ⋯ | NA | NA | NA | NA | NA | NA | NA | NA | NA | NA |\n",
       "| 6 | ENSG00000000971 | Module_5  | 1  | 196652043 | 196747504 |  95462 | + | ensembl_havana | gene | NA | ⋯ | NA | NA | NA | NA | NA | NA | NA | NA | NA | NA |\n",
       "\n"
      ],
      "text/plain": [
       "  Gene            Module    seqnames start     end       width  strand\n",
       "1 ENSG00000000003 Module_13 X        100627108 100639991  12884 -     \n",
       "2 ENSG00000000419 Module_2  20        50934867  50958555  23689 -     \n",
       "3 ENSG00000000457 Module_2  1        169849631 169894267  44637 -     \n",
       "4 ENSG00000000460 Module_6  1        169662007 169854080 192074 +     \n",
       "5 ENSG00000000938 Module_15 1         27612064  27635185  23122 -     \n",
       "6 ENSG00000000971 Module_5  1        196652043 196747504  95462 +     \n",
       "  source         type score ⋯ transcript_source transcript_biotype tag\n",
       "1 ensembl_havana gene NA    ⋯ NA                NA                 NA \n",
       "2 ensembl_havana gene NA    ⋯ NA                NA                 NA \n",
       "3 ensembl_havana gene NA    ⋯ NA                NA                 NA \n",
       "4 ensembl_havana gene NA    ⋯ NA                NA                 NA \n",
       "5 ensembl_havana gene NA    ⋯ NA                NA                 NA \n",
       "6 ensembl_havana gene NA    ⋯ NA                NA                 NA \n",
       "  transcript_support_level exon_number exon_id exon_version protein_id\n",
       "1 NA                       NA          NA      NA           NA        \n",
       "2 NA                       NA          NA      NA           NA        \n",
       "3 NA                       NA          NA      NA           NA        \n",
       "4 NA                       NA          NA      NA           NA        \n",
       "5 NA                       NA          NA      NA           NA        \n",
       "6 NA                       NA          NA      NA           NA        \n",
       "  protein_version ccds_id\n",
       "1 NA              NA     \n",
       "2 NA              NA     \n",
       "3 NA              NA     \n",
       "4 NA              NA     \n",
       "5 NA              NA     \n",
       "6 NA              NA     "
      ]
     },
     "metadata": {},
     "output_type": "display_data"
    }
   ],
   "source": [
    "head(modules)"
   ]
  },
  {
   "cell_type": "code",
   "execution_count": 7,
   "id": "bb58378d-9682-4a4d-8dfb-fd9c8e22801d",
   "metadata": {},
   "outputs": [],
   "source": [
    "coloc.eqtl.mqtl <- read.csv(\"~/gains_team282/nikhil/colocalization/cis_eqtl_module_qtl.csv\")"
   ]
  },
  {
   "cell_type": "code",
   "execution_count": 8,
   "id": "fc1681b5-0000-4ce1-921b-1f1f3df863ec",
   "metadata": {},
   "outputs": [
    {
     "data": {
      "text/html": [
       "<table class=\"dataframe\">\n",
       "<caption>A data.frame: 6 × 11</caption>\n",
       "<thead>\n",
       "\t<tr><th></th><th scope=col>nsnps</th><th scope=col>PP.H0.abf</th><th scope=col>PP.H1.abf</th><th scope=col>PP.H2.abf</th><th scope=col>PP.H3.abf</th><th scope=col>PP.H4.abf</th><th scope=col>Gene</th><th scope=col>eQTL.Signal</th><th scope=col>Eigengene</th><th scope=col>Module.QTL</th><th scope=col>Coloc.Factor</th></tr>\n",
       "\t<tr><th></th><th scope=col>&lt;int&gt;</th><th scope=col>&lt;dbl&gt;</th><th scope=col>&lt;dbl&gt;</th><th scope=col>&lt;dbl&gt;</th><th scope=col>&lt;dbl&gt;</th><th scope=col>&lt;dbl&gt;</th><th scope=col>&lt;chr&gt;</th><th scope=col>&lt;int&gt;</th><th scope=col>&lt;chr&gt;</th><th scope=col>&lt;chr&gt;</th><th scope=col>&lt;dbl&gt;</th></tr>\n",
       "</thead>\n",
       "<tbody>\n",
       "\t<tr><th scope=row>1</th><td>1725</td><td>1.325296e-105</td><td> 3.679035e-80</td><td>3.602294e-29</td><td>0</td><td>1</td><td>ENSG00000142089</td><td>1</td><td>ME_106_2</td><td>ME_106_2-11:1-1332794</td><td>1</td></tr>\n",
       "\t<tr><th scope=row>2</th><td>1706</td><td>2.701629e-145</td><td>1.739698e-110</td><td>1.552930e-38</td><td>0</td><td>1</td><td>ENSG00000251661</td><td>2</td><td>ME_106_2</td><td>ME_106_2-11:1-1332794</td><td>1</td></tr>\n",
       "\t<tr><th scope=row>3</th><td>1695</td><td>9.885529e-160</td><td>1.739698e-110</td><td>5.682324e-53</td><td>0</td><td>1</td><td>ENSG00000254910</td><td>2</td><td>ME_106_2</td><td>ME_106_2-11:1-1332794</td><td>1</td></tr>\n",
       "\t<tr><th scope=row>4</th><td>1695</td><td> 1.538896e-98</td><td> 3.679035e-80</td><td>4.182879e-22</td><td>0</td><td>1</td><td>ENSG00000254910</td><td>3</td><td>ME_106_2</td><td>ME_106_2-11:1-1332794</td><td>1</td></tr>\n",
       "\t<tr><th scope=row>5</th><td>1724</td><td>2.803508e-134</td><td>1.739698e-110</td><td>1.611491e-27</td><td>0</td><td>1</td><td>ENSG00000255328</td><td>3</td><td>ME_106_2</td><td>ME_106_2-11:1-1332794</td><td>1</td></tr>\n",
       "\t<tr><th scope=row>6</th><td>1722</td><td>1.886565e-163</td><td>1.739698e-110</td><td>1.084421e-56</td><td>0</td><td>1</td><td>ENSG00000270030</td><td>1</td><td>ME_106_2</td><td>ME_106_2-11:1-1332794</td><td>1</td></tr>\n",
       "</tbody>\n",
       "</table>\n"
      ],
      "text/latex": [
       "A data.frame: 6 × 11\n",
       "\\begin{tabular}{r|lllllllllll}\n",
       "  & nsnps & PP.H0.abf & PP.H1.abf & PP.H2.abf & PP.H3.abf & PP.H4.abf & Gene & eQTL.Signal & Eigengene & Module.QTL & Coloc.Factor\\\\\n",
       "  & <int> & <dbl> & <dbl> & <dbl> & <dbl> & <dbl> & <chr> & <int> & <chr> & <chr> & <dbl>\\\\\n",
       "\\hline\n",
       "\t1 & 1725 & 1.325296e-105 &  3.679035e-80 & 3.602294e-29 & 0 & 1 & ENSG00000142089 & 1 & ME\\_106\\_2 & ME\\_106\\_2-11:1-1332794 & 1\\\\\n",
       "\t2 & 1706 & 2.701629e-145 & 1.739698e-110 & 1.552930e-38 & 0 & 1 & ENSG00000251661 & 2 & ME\\_106\\_2 & ME\\_106\\_2-11:1-1332794 & 1\\\\\n",
       "\t3 & 1695 & 9.885529e-160 & 1.739698e-110 & 5.682324e-53 & 0 & 1 & ENSG00000254910 & 2 & ME\\_106\\_2 & ME\\_106\\_2-11:1-1332794 & 1\\\\\n",
       "\t4 & 1695 &  1.538896e-98 &  3.679035e-80 & 4.182879e-22 & 0 & 1 & ENSG00000254910 & 3 & ME\\_106\\_2 & ME\\_106\\_2-11:1-1332794 & 1\\\\\n",
       "\t5 & 1724 & 2.803508e-134 & 1.739698e-110 & 1.611491e-27 & 0 & 1 & ENSG00000255328 & 3 & ME\\_106\\_2 & ME\\_106\\_2-11:1-1332794 & 1\\\\\n",
       "\t6 & 1722 & 1.886565e-163 & 1.739698e-110 & 1.084421e-56 & 0 & 1 & ENSG00000270030 & 1 & ME\\_106\\_2 & ME\\_106\\_2-11:1-1332794 & 1\\\\\n",
       "\\end{tabular}\n"
      ],
      "text/markdown": [
       "\n",
       "A data.frame: 6 × 11\n",
       "\n",
       "| <!--/--> | nsnps &lt;int&gt; | PP.H0.abf &lt;dbl&gt; | PP.H1.abf &lt;dbl&gt; | PP.H2.abf &lt;dbl&gt; | PP.H3.abf &lt;dbl&gt; | PP.H4.abf &lt;dbl&gt; | Gene &lt;chr&gt; | eQTL.Signal &lt;int&gt; | Eigengene &lt;chr&gt; | Module.QTL &lt;chr&gt; | Coloc.Factor &lt;dbl&gt; |\n",
       "|---|---|---|---|---|---|---|---|---|---|---|---|\n",
       "| 1 | 1725 | 1.325296e-105 |  3.679035e-80 | 3.602294e-29 | 0 | 1 | ENSG00000142089 | 1 | ME_106_2 | ME_106_2-11:1-1332794 | 1 |\n",
       "| 2 | 1706 | 2.701629e-145 | 1.739698e-110 | 1.552930e-38 | 0 | 1 | ENSG00000251661 | 2 | ME_106_2 | ME_106_2-11:1-1332794 | 1 |\n",
       "| 3 | 1695 | 9.885529e-160 | 1.739698e-110 | 5.682324e-53 | 0 | 1 | ENSG00000254910 | 2 | ME_106_2 | ME_106_2-11:1-1332794 | 1 |\n",
       "| 4 | 1695 |  1.538896e-98 |  3.679035e-80 | 4.182879e-22 | 0 | 1 | ENSG00000254910 | 3 | ME_106_2 | ME_106_2-11:1-1332794 | 1 |\n",
       "| 5 | 1724 | 2.803508e-134 | 1.739698e-110 | 1.611491e-27 | 0 | 1 | ENSG00000255328 | 3 | ME_106_2 | ME_106_2-11:1-1332794 | 1 |\n",
       "| 6 | 1722 | 1.886565e-163 | 1.739698e-110 | 1.084421e-56 | 0 | 1 | ENSG00000270030 | 1 | ME_106_2 | ME_106_2-11:1-1332794 | 1 |\n",
       "\n"
      ],
      "text/plain": [
       "  nsnps PP.H0.abf     PP.H1.abf     PP.H2.abf    PP.H3.abf PP.H4.abf\n",
       "1 1725  1.325296e-105  3.679035e-80 3.602294e-29 0         1        \n",
       "2 1706  2.701629e-145 1.739698e-110 1.552930e-38 0         1        \n",
       "3 1695  9.885529e-160 1.739698e-110 5.682324e-53 0         1        \n",
       "4 1695   1.538896e-98  3.679035e-80 4.182879e-22 0         1        \n",
       "5 1724  2.803508e-134 1.739698e-110 1.611491e-27 0         1        \n",
       "6 1722  1.886565e-163 1.739698e-110 1.084421e-56 0         1        \n",
       "  Gene            eQTL.Signal Eigengene Module.QTL            Coloc.Factor\n",
       "1 ENSG00000142089 1           ME_106_2  ME_106_2-11:1-1332794 1           \n",
       "2 ENSG00000251661 2           ME_106_2  ME_106_2-11:1-1332794 1           \n",
       "3 ENSG00000254910 2           ME_106_2  ME_106_2-11:1-1332794 1           \n",
       "4 ENSG00000254910 3           ME_106_2  ME_106_2-11:1-1332794 1           \n",
       "5 ENSG00000255328 3           ME_106_2  ME_106_2-11:1-1332794 1           \n",
       "6 ENSG00000270030 1           ME_106_2  ME_106_2-11:1-1332794 1           "
      ]
     },
     "metadata": {},
     "output_type": "display_data"
    }
   ],
   "source": [
    "head(coloc.eqtl.mqtl)"
   ]
  },
  {
   "cell_type": "code",
   "execution_count": 38,
   "id": "1f887ce3-c87f-49cd-b28d-29f96236882d",
   "metadata": {},
   "outputs": [],
   "source": [
    "cis.eqtl <- readRDS(\"~/gains_team282/eqtl/cisresults/ciseqtl_all.rds\")"
   ]
  },
  {
   "cell_type": "code",
   "execution_count": 39,
   "id": "b5f2ea01-305f-4eab-8064-ce4f18d25e3b",
   "metadata": {},
   "outputs": [
    {
     "data": {
      "text/html": [
       "<table class=\"dataframe\">\n",
       "<caption>A data.table: 6 × 10</caption>\n",
       "<thead>\n",
       "\t<tr><th scope=col>snps</th><th scope=col>gene</th><th scope=col>statistic</th><th scope=col>pvalue</th><th scope=col>beta</th><th scope=col>se</th><th scope=col>chr</th><th scope=col>SNPpos</th><th scope=col>TSS</th><th scope=col>threshold</th></tr>\n",
       "\t<tr><th scope=col>&lt;chr&gt;</th><th scope=col>&lt;chr&gt;</th><th scope=col>&lt;dbl&gt;</th><th scope=col>&lt;dbl&gt;</th><th scope=col>&lt;dbl&gt;</th><th scope=col>&lt;dbl&gt;</th><th scope=col>&lt;int&gt;</th><th scope=col>&lt;int&gt;</th><th scope=col>&lt;int&gt;</th><th scope=col>&lt;dbl&gt;</th></tr>\n",
       "</thead>\n",
       "<tbody>\n",
       "\t<tr><td>rs114383479</td><td>ENSG00000000457</td><td>-0.06041776</td><td>0.9518546</td><td>-0.001449258</td><td>0.02398729</td><td>1</td><td>168894411</td><td>169894267</td><td>3.879445e-05</td></tr>\n",
       "\t<tr><td>rs4656623  </td><td>ENSG00000000457</td><td>-0.27193507</td><td>0.7856788</td><td>-0.003581294</td><td>0.01316967</td><td>1</td><td>168894562</td><td>169894267</td><td>3.879445e-05</td></tr>\n",
       "\t<tr><td>rs74123028 </td><td>ENSG00000000457</td><td>-0.33215439</td><td>0.7398440</td><td>-0.010030780</td><td>0.03019915</td><td>1</td><td>168894650</td><td>169894267</td><td>3.879445e-05</td></tr>\n",
       "\t<tr><td>rs74123029 </td><td>ENSG00000000457</td><td>-0.33215439</td><td>0.7398440</td><td>-0.010030780</td><td>0.03019915</td><td>1</td><td>168894789</td><td>169894267</td><td>3.879445e-05</td></tr>\n",
       "\t<tr><td>rs74123030 </td><td>ENSG00000000457</td><td>-0.33215439</td><td>0.7398440</td><td>-0.010030780</td><td>0.03019915</td><td>1</td><td>168894934</td><td>169894267</td><td>3.879445e-05</td></tr>\n",
       "\t<tr><td>rs74123031 </td><td>ENSG00000000457</td><td>-0.33215439</td><td>0.7398440</td><td>-0.010030780</td><td>0.03019915</td><td>1</td><td>168894958</td><td>169894267</td><td>3.879445e-05</td></tr>\n",
       "</tbody>\n",
       "</table>\n"
      ],
      "text/latex": [
       "A data.table: 6 × 10\n",
       "\\begin{tabular}{llllllllll}\n",
       " snps & gene & statistic & pvalue & beta & se & chr & SNPpos & TSS & threshold\\\\\n",
       " <chr> & <chr> & <dbl> & <dbl> & <dbl> & <dbl> & <int> & <int> & <int> & <dbl>\\\\\n",
       "\\hline\n",
       "\t rs114383479 & ENSG00000000457 & -0.06041776 & 0.9518546 & -0.001449258 & 0.02398729 & 1 & 168894411 & 169894267 & 3.879445e-05\\\\\n",
       "\t rs4656623   & ENSG00000000457 & -0.27193507 & 0.7856788 & -0.003581294 & 0.01316967 & 1 & 168894562 & 169894267 & 3.879445e-05\\\\\n",
       "\t rs74123028  & ENSG00000000457 & -0.33215439 & 0.7398440 & -0.010030780 & 0.03019915 & 1 & 168894650 & 169894267 & 3.879445e-05\\\\\n",
       "\t rs74123029  & ENSG00000000457 & -0.33215439 & 0.7398440 & -0.010030780 & 0.03019915 & 1 & 168894789 & 169894267 & 3.879445e-05\\\\\n",
       "\t rs74123030  & ENSG00000000457 & -0.33215439 & 0.7398440 & -0.010030780 & 0.03019915 & 1 & 168894934 & 169894267 & 3.879445e-05\\\\\n",
       "\t rs74123031  & ENSG00000000457 & -0.33215439 & 0.7398440 & -0.010030780 & 0.03019915 & 1 & 168894958 & 169894267 & 3.879445e-05\\\\\n",
       "\\end{tabular}\n"
      ],
      "text/markdown": [
       "\n",
       "A data.table: 6 × 10\n",
       "\n",
       "| snps &lt;chr&gt; | gene &lt;chr&gt; | statistic &lt;dbl&gt; | pvalue &lt;dbl&gt; | beta &lt;dbl&gt; | se &lt;dbl&gt; | chr &lt;int&gt; | SNPpos &lt;int&gt; | TSS &lt;int&gt; | threshold &lt;dbl&gt; |\n",
       "|---|---|---|---|---|---|---|---|---|---|\n",
       "| rs114383479 | ENSG00000000457 | -0.06041776 | 0.9518546 | -0.001449258 | 0.02398729 | 1 | 168894411 | 169894267 | 3.879445e-05 |\n",
       "| rs4656623   | ENSG00000000457 | -0.27193507 | 0.7856788 | -0.003581294 | 0.01316967 | 1 | 168894562 | 169894267 | 3.879445e-05 |\n",
       "| rs74123028  | ENSG00000000457 | -0.33215439 | 0.7398440 | -0.010030780 | 0.03019915 | 1 | 168894650 | 169894267 | 3.879445e-05 |\n",
       "| rs74123029  | ENSG00000000457 | -0.33215439 | 0.7398440 | -0.010030780 | 0.03019915 | 1 | 168894789 | 169894267 | 3.879445e-05 |\n",
       "| rs74123030  | ENSG00000000457 | -0.33215439 | 0.7398440 | -0.010030780 | 0.03019915 | 1 | 168894934 | 169894267 | 3.879445e-05 |\n",
       "| rs74123031  | ENSG00000000457 | -0.33215439 | 0.7398440 | -0.010030780 | 0.03019915 | 1 | 168894958 | 169894267 | 3.879445e-05 |\n",
       "\n"
      ],
      "text/plain": [
       "  snps        gene            statistic   pvalue    beta         se         chr\n",
       "1 rs114383479 ENSG00000000457 -0.06041776 0.9518546 -0.001449258 0.02398729 1  \n",
       "2 rs4656623   ENSG00000000457 -0.27193507 0.7856788 -0.003581294 0.01316967 1  \n",
       "3 rs74123028  ENSG00000000457 -0.33215439 0.7398440 -0.010030780 0.03019915 1  \n",
       "4 rs74123029  ENSG00000000457 -0.33215439 0.7398440 -0.010030780 0.03019915 1  \n",
       "5 rs74123030  ENSG00000000457 -0.33215439 0.7398440 -0.010030780 0.03019915 1  \n",
       "6 rs74123031  ENSG00000000457 -0.33215439 0.7398440 -0.010030780 0.03019915 1  \n",
       "  SNPpos    TSS       threshold   \n",
       "1 168894411 169894267 3.879445e-05\n",
       "2 168894562 169894267 3.879445e-05\n",
       "3 168894650 169894267 3.879445e-05\n",
       "4 168894789 169894267 3.879445e-05\n",
       "5 168894934 169894267 3.879445e-05\n",
       "6 168894958 169894267 3.879445e-05"
      ]
     },
     "metadata": {},
     "output_type": "display_data"
    }
   ],
   "source": [
    "head(cis.eqtl)"
   ]
  },
  {
   "cell_type": "markdown",
   "id": "5dd1f1e5-8053-409e-980d-e450ba1ee040",
   "metadata": {},
   "source": [
    "## Module 101"
   ]
  },
  {
   "cell_type": "markdown",
   "id": "4f9790ab-aea4-4a72-b53a-cdaf1c241125",
   "metadata": {},
   "source": [
    "The Chr 12 module QTL for module 101 is associated with lymphocyte and eosinophil count. It contains very fewe genes, none of which are particularly easy to interpret:\n",
    "1. SUOX - sulfite oxidase - enzyme in amino acid biochemistry\n",
    "2. TMEM50A - transmembrane protein 50A - tightly linked to RH haplotypes\n",
    "3. RHD - Rh Blood Group D antigen\n",
    "4. RPS26 - Member of the ribosomal 40S subunit"
   ]
  },
  {
   "cell_type": "code",
   "execution_count": 29,
   "id": "d1594149-ec3b-47eb-a212-d39e39b448e7",
   "metadata": {},
   "outputs": [
    {
     "data": {
      "text/html": [
       "<table class=\"dataframe\">\n",
       "<caption>A data.frame: 11 × 5</caption>\n",
       "<thead>\n",
       "\t<tr><th scope=col>Gene</th><th scope=col>Module</th><th scope=col>seqnames</th><th scope=col>gene_name</th><th scope=col>gene_biotype</th></tr>\n",
       "\t<tr><th scope=col>&lt;chr&gt;</th><th scope=col>&lt;chr&gt;</th><th scope=col>&lt;chr&gt;</th><th scope=col>&lt;chr&gt;</th><th scope=col>&lt;chr&gt;</th></tr>\n",
       "</thead>\n",
       "<tbody>\n",
       "\t<tr><td>ENSG00000139531</td><td>Module_101</td><td>12</td><td>SUOX      </td><td>protein_coding                  </td></tr>\n",
       "\t<tr><td>ENSG00000183726</td><td>Module_101</td><td>1 </td><td>TMEM50A   </td><td>protein_coding                  </td></tr>\n",
       "\t<tr><td>ENSG00000187010</td><td>Module_101</td><td>1 </td><td>RHD       </td><td>protein_coding                  </td></tr>\n",
       "\t<tr><td>ENSG00000196656</td><td>Module_101</td><td>4 </td><td>AC004057.1</td><td>transcribed_processed_pseudogene</td></tr>\n",
       "\t<tr><td>ENSG00000197728</td><td>Module_101</td><td>12</td><td>RPS26     </td><td>protein_coding                  </td></tr>\n",
       "\t<tr><td>ENSG00000224183</td><td>Module_101</td><td>1 </td><td>SDHDP6    </td><td>processed_pseudogene            </td></tr>\n",
       "\t<tr><td>ENSG00000230426</td><td>Module_101</td><td>1 </td><td>ERVMER61-1</td><td>lncRNA                          </td></tr>\n",
       "\t<tr><td>ENSG00000250222</td><td>Module_101</td><td>5 </td><td>AC008443.5</td><td>lncRNA                          </td></tr>\n",
       "\t<tr><td>ENSG00000261349</td><td>Module_101</td><td>1 </td><td>AL031432.2</td><td>unprocessed_pseudogene          </td></tr>\n",
       "\t<tr><td>ENSG00000270055</td><td>Module_101</td><td>15</td><td>AC127502.2</td><td>lncRNA                          </td></tr>\n",
       "\t<tr><td>ENSG00000273189</td><td>Module_101</td><td>19</td><td>AC010619.3</td><td>lncRNA                          </td></tr>\n",
       "</tbody>\n",
       "</table>\n"
      ],
      "text/latex": [
       "A data.frame: 11 × 5\n",
       "\\begin{tabular}{lllll}\n",
       " Gene & Module & seqnames & gene\\_name & gene\\_biotype\\\\\n",
       " <chr> & <chr> & <chr> & <chr> & <chr>\\\\\n",
       "\\hline\n",
       "\t ENSG00000139531 & Module\\_101 & 12 & SUOX       & protein\\_coding                  \\\\\n",
       "\t ENSG00000183726 & Module\\_101 & 1  & TMEM50A    & protein\\_coding                  \\\\\n",
       "\t ENSG00000187010 & Module\\_101 & 1  & RHD        & protein\\_coding                  \\\\\n",
       "\t ENSG00000196656 & Module\\_101 & 4  & AC004057.1 & transcribed\\_processed\\_pseudogene\\\\\n",
       "\t ENSG00000197728 & Module\\_101 & 12 & RPS26      & protein\\_coding                  \\\\\n",
       "\t ENSG00000224183 & Module\\_101 & 1  & SDHDP6     & processed\\_pseudogene            \\\\\n",
       "\t ENSG00000230426 & Module\\_101 & 1  & ERVMER61-1 & lncRNA                          \\\\\n",
       "\t ENSG00000250222 & Module\\_101 & 5  & AC008443.5 & lncRNA                          \\\\\n",
       "\t ENSG00000261349 & Module\\_101 & 1  & AL031432.2 & unprocessed\\_pseudogene          \\\\\n",
       "\t ENSG00000270055 & Module\\_101 & 15 & AC127502.2 & lncRNA                          \\\\\n",
       "\t ENSG00000273189 & Module\\_101 & 19 & AC010619.3 & lncRNA                          \\\\\n",
       "\\end{tabular}\n"
      ],
      "text/markdown": [
       "\n",
       "A data.frame: 11 × 5\n",
       "\n",
       "| Gene &lt;chr&gt; | Module &lt;chr&gt; | seqnames &lt;chr&gt; | gene_name &lt;chr&gt; | gene_biotype &lt;chr&gt; |\n",
       "|---|---|---|---|---|\n",
       "| ENSG00000139531 | Module_101 | 12 | SUOX       | protein_coding                   |\n",
       "| ENSG00000183726 | Module_101 | 1  | TMEM50A    | protein_coding                   |\n",
       "| ENSG00000187010 | Module_101 | 1  | RHD        | protein_coding                   |\n",
       "| ENSG00000196656 | Module_101 | 4  | AC004057.1 | transcribed_processed_pseudogene |\n",
       "| ENSG00000197728 | Module_101 | 12 | RPS26      | protein_coding                   |\n",
       "| ENSG00000224183 | Module_101 | 1  | SDHDP6     | processed_pseudogene             |\n",
       "| ENSG00000230426 | Module_101 | 1  | ERVMER61-1 | lncRNA                           |\n",
       "| ENSG00000250222 | Module_101 | 5  | AC008443.5 | lncRNA                           |\n",
       "| ENSG00000261349 | Module_101 | 1  | AL031432.2 | unprocessed_pseudogene           |\n",
       "| ENSG00000270055 | Module_101 | 15 | AC127502.2 | lncRNA                           |\n",
       "| ENSG00000273189 | Module_101 | 19 | AC010619.3 | lncRNA                           |\n",
       "\n"
      ],
      "text/plain": [
       "   Gene            Module     seqnames gene_name \n",
       "1  ENSG00000139531 Module_101 12       SUOX      \n",
       "2  ENSG00000183726 Module_101 1        TMEM50A   \n",
       "3  ENSG00000187010 Module_101 1        RHD       \n",
       "4  ENSG00000196656 Module_101 4        AC004057.1\n",
       "5  ENSG00000197728 Module_101 12       RPS26     \n",
       "6  ENSG00000224183 Module_101 1        SDHDP6    \n",
       "7  ENSG00000230426 Module_101 1        ERVMER61-1\n",
       "8  ENSG00000250222 Module_101 5        AC008443.5\n",
       "9  ENSG00000261349 Module_101 1        AL031432.2\n",
       "10 ENSG00000270055 Module_101 15       AC127502.2\n",
       "11 ENSG00000273189 Module_101 19       AC010619.3\n",
       "   gene_biotype                    \n",
       "1  protein_coding                  \n",
       "2  protein_coding                  \n",
       "3  protein_coding                  \n",
       "4  transcribed_processed_pseudogene\n",
       "5  protein_coding                  \n",
       "6  processed_pseudogene            \n",
       "7  lncRNA                          \n",
       "8  lncRNA                          \n",
       "9  unprocessed_pseudogene          \n",
       "10 lncRNA                          \n",
       "11 lncRNA                          "
      ]
     },
     "metadata": {},
     "output_type": "display_data"
    }
   ],
   "source": [
    "modules %>%\n",
    "    dplyr::filter(Module == \"Module_101\") %>%\n",
    "    dplyr::select(Gene, Module, seqnames, gene_name, gene_biotype)"
   ]
  },
  {
   "cell_type": "markdown",
   "id": "b0a27779-16f8-4e7a-a620-64b4fda0ef7b",
   "metadata": {},
   "source": [
    "The following genes colocalise with the module QTL on chromosome 12 and are a part of the module:\n",
    "1. SUOX\n",
    "2. RPS26\n",
    "\n",
    "The following colocalises but is not in the module:\n",
    "1. GDF11 - TGF beta ligand that activates SMAD family"
   ]
  },
  {
   "cell_type": "code",
   "execution_count": 32,
   "id": "a3605316-55e7-47fe-9e96-5ee651ed58c7",
   "metadata": {},
   "outputs": [
    {
     "data": {
      "text/html": [
       "<table class=\"dataframe\">\n",
       "<caption>A data.frame: 3 × 2</caption>\n",
       "<thead>\n",
       "\t<tr><th scope=col>Gene</th><th scope=col>gene_name</th></tr>\n",
       "\t<tr><th scope=col>&lt;chr&gt;</th><th scope=col>&lt;chr&gt;</th></tr>\n",
       "</thead>\n",
       "<tbody>\n",
       "\t<tr><td>ENSG00000135414</td><td>GDF11</td></tr>\n",
       "\t<tr><td>ENSG00000139531</td><td>SUOX </td></tr>\n",
       "\t<tr><td>ENSG00000197728</td><td>RPS26</td></tr>\n",
       "</tbody>\n",
       "</table>\n"
      ],
      "text/latex": [
       "A data.frame: 3 × 2\n",
       "\\begin{tabular}{ll}\n",
       " Gene & gene\\_name\\\\\n",
       " <chr> & <chr>\\\\\n",
       "\\hline\n",
       "\t ENSG00000135414 & GDF11\\\\\n",
       "\t ENSG00000139531 & SUOX \\\\\n",
       "\t ENSG00000197728 & RPS26\\\\\n",
       "\\end{tabular}\n"
      ],
      "text/markdown": [
       "\n",
       "A data.frame: 3 × 2\n",
       "\n",
       "| Gene &lt;chr&gt; | gene_name &lt;chr&gt; |\n",
       "|---|---|\n",
       "| ENSG00000135414 | GDF11 |\n",
       "| ENSG00000139531 | SUOX  |\n",
       "| ENSG00000197728 | RPS26 |\n",
       "\n"
      ],
      "text/plain": [
       "  Gene            gene_name\n",
       "1 ENSG00000135414 GDF11    \n",
       "2 ENSG00000139531 SUOX     \n",
       "3 ENSG00000197728 RPS26    "
      ]
     },
     "metadata": {},
     "output_type": "display_data"
    }
   ],
   "source": [
    "coloc.eqtl.mqtl %>%\n",
    "    dplyr::filter(grepl(\"ME_101_[0-9]-12\", Module.QTL)) %>%\n",
    "    dplyr::count(Gene) %>%\n",
    "    merge(., gene.info, by.x=\"Gene\", by.y=\"gene_id\") %>%\n",
    "    dplyr::select(Gene, gene_name)"
   ]
  },
  {
   "cell_type": "markdown",
   "id": "5b0265ee-33af-432a-97db-aaf2328e2039",
   "metadata": {},
   "source": [
    "Take ME_101_1 as an example. Contains 1 CS with 6 SNPs.\n",
    "1. rs1131017 - The SNP with the highest PIP is a 5' UTR variant in RPS26.\n",
    "2. rs10876864 - The SNP with the second highest PIP is in an accessible region near IKZF4. However, IKZF4 has a cis-eqtl that did not colocalise."
   ]
  },
  {
   "cell_type": "code",
   "execution_count": 33,
   "id": "58d08847-f908-4874-84a1-ed6a79fd1114",
   "metadata": {},
   "outputs": [],
   "source": [
    "susie <- fread(\"~/gains_team282/nikhil/colocalization/mqtl/fine_mapping/SuSiE/module_qtl_credible_sets.tsv\")"
   ]
  },
  {
   "cell_type": "code",
   "execution_count": 36,
   "id": "116966e5-bd6d-4d16-9ed6-fef38d5d023a",
   "metadata": {},
   "outputs": [
    {
     "data": {
      "text/html": [
       "<table class=\"dataframe\">\n",
       "<caption>A data.table: 6 × 5</caption>\n",
       "<thead>\n",
       "\t<tr><th scope=col>Gene</th><th scope=col>SNP</th><th scope=col>SNP_Prob</th><th scope=col>Credible_Set</th><th scope=col>Notes</th></tr>\n",
       "\t<tr><th scope=col>&lt;chr&gt;</th><th scope=col>&lt;chr&gt;</th><th scope=col>&lt;dbl&gt;</th><th scope=col>&lt;int&gt;</th><th scope=col>&lt;chr&gt;</th></tr>\n",
       "</thead>\n",
       "<tbody>\n",
       "\t<tr><td>ME_101_1-12:54985643-57100037</td><td>rs1131017 </td><td>0.61704516</td><td>1</td><td>NA</td></tr>\n",
       "\t<tr><td>ME_101_1-12:54985643-57100037</td><td>rs10876864</td><td>0.24300396</td><td>1</td><td>NA</td></tr>\n",
       "\t<tr><td>ME_101_1-12:54985643-57100037</td><td>rs705700  </td><td>0.02947028</td><td>1</td><td>NA</td></tr>\n",
       "\t<tr><td>ME_101_1-12:54985643-57100037</td><td>rs773114  </td><td>0.02720337</td><td>1</td><td>NA</td></tr>\n",
       "\t<tr><td>ME_101_1-12:54985643-57100037</td><td>rs1873914 </td><td>0.02720337</td><td>1</td><td>NA</td></tr>\n",
       "\t<tr><td>ME_101_1-12:54985643-57100037</td><td>rs705699  </td><td>0.02453304</td><td>1</td><td>NA</td></tr>\n",
       "</tbody>\n",
       "</table>\n"
      ],
      "text/latex": [
       "A data.table: 6 × 5\n",
       "\\begin{tabular}{lllll}\n",
       " Gene & SNP & SNP\\_Prob & Credible\\_Set & Notes\\\\\n",
       " <chr> & <chr> & <dbl> & <int> & <chr>\\\\\n",
       "\\hline\n",
       "\t ME\\_101\\_1-12:54985643-57100037 & rs1131017  & 0.61704516 & 1 & NA\\\\\n",
       "\t ME\\_101\\_1-12:54985643-57100037 & rs10876864 & 0.24300396 & 1 & NA\\\\\n",
       "\t ME\\_101\\_1-12:54985643-57100037 & rs705700   & 0.02947028 & 1 & NA\\\\\n",
       "\t ME\\_101\\_1-12:54985643-57100037 & rs773114   & 0.02720337 & 1 & NA\\\\\n",
       "\t ME\\_101\\_1-12:54985643-57100037 & rs1873914  & 0.02720337 & 1 & NA\\\\\n",
       "\t ME\\_101\\_1-12:54985643-57100037 & rs705699   & 0.02453304 & 1 & NA\\\\\n",
       "\\end{tabular}\n"
      ],
      "text/markdown": [
       "\n",
       "A data.table: 6 × 5\n",
       "\n",
       "| Gene &lt;chr&gt; | SNP &lt;chr&gt; | SNP_Prob &lt;dbl&gt; | Credible_Set &lt;int&gt; | Notes &lt;chr&gt; |\n",
       "|---|---|---|---|---|\n",
       "| ME_101_1-12:54985643-57100037 | rs1131017  | 0.61704516 | 1 | NA |\n",
       "| ME_101_1-12:54985643-57100037 | rs10876864 | 0.24300396 | 1 | NA |\n",
       "| ME_101_1-12:54985643-57100037 | rs705700   | 0.02947028 | 1 | NA |\n",
       "| ME_101_1-12:54985643-57100037 | rs773114   | 0.02720337 | 1 | NA |\n",
       "| ME_101_1-12:54985643-57100037 | rs1873914  | 0.02720337 | 1 | NA |\n",
       "| ME_101_1-12:54985643-57100037 | rs705699   | 0.02453304 | 1 | NA |\n",
       "\n"
      ],
      "text/plain": [
       "  Gene                          SNP        SNP_Prob   Credible_Set Notes\n",
       "1 ME_101_1-12:54985643-57100037 rs1131017  0.61704516 1            NA   \n",
       "2 ME_101_1-12:54985643-57100037 rs10876864 0.24300396 1            NA   \n",
       "3 ME_101_1-12:54985643-57100037 rs705700   0.02947028 1            NA   \n",
       "4 ME_101_1-12:54985643-57100037 rs773114   0.02720337 1            NA   \n",
       "5 ME_101_1-12:54985643-57100037 rs1873914  0.02720337 1            NA   \n",
       "6 ME_101_1-12:54985643-57100037 rs705699   0.02453304 1            NA   "
      ]
     },
     "metadata": {},
     "output_type": "display_data"
    }
   ],
   "source": [
    "susie %>%\n",
    "    dplyr::filter(grepl(\"ME_101_1-12\", Gene))"
   ]
  },
  {
   "cell_type": "code",
   "execution_count": 37,
   "id": "2aa860bb-c5f0-490c-9657-575eda457326",
   "metadata": {},
   "outputs": [
    {
     "data": {
      "text/html": [
       "TRUE"
      ],
      "text/latex": [
       "TRUE"
      ],
      "text/markdown": [
       "TRUE"
      ],
      "text/plain": [
       "[1] TRUE"
      ]
     },
     "metadata": {},
     "output_type": "display_data"
    }
   ],
   "source": [
    "\"ENSG00000123411\" %in% rownames(gene.info)"
   ]
  },
  {
   "cell_type": "code",
   "execution_count": 40,
   "id": "2e3dcb52-1cad-4e13-9cad-9337e3ee15ab",
   "metadata": {},
   "outputs": [
    {
     "data": {
      "text/html": [
       "TRUE"
      ],
      "text/latex": [
       "TRUE"
      ],
      "text/markdown": [
       "TRUE"
      ],
      "text/plain": [
       "[1] TRUE"
      ]
     },
     "metadata": {},
     "output_type": "display_data"
    }
   ],
   "source": [
    "\"ENSG00000123411\" %in% cis.eqtl$gene"
   ]
  },
  {
   "cell_type": "code",
   "execution_count": null,
   "id": "99db60de-319d-43f7-a707-e46390821db5",
   "metadata": {},
   "outputs": [],
   "source": []
  }
 ],
 "metadata": {
  "kernelspec": {
   "display_name": "R",
   "language": "R",
   "name": "ir"
  },
  "language_info": {
   "codemirror_mode": "r",
   "file_extension": ".r",
   "mimetype": "text/x-r-source",
   "name": "R",
   "pygments_lexer": "r",
   "version": "4.0.5"
  }
 },
 "nbformat": 4,
 "nbformat_minor": 5
}
