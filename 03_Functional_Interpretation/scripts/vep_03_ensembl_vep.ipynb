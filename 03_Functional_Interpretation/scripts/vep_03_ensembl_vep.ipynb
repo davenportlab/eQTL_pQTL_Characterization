{
 "cells": [
  {
   "cell_type": "markdown",
   "id": "44598895-d393-467a-a6c3-ccb29b1aeb14",
   "metadata": {},
   "source": [
    "## QTL Ensembl VEP\n",
    "\n",
    "**Created**: 10 June 2022"
   ]
  },
  {
   "cell_type": "markdown",
   "id": "81b8724d-9b37-4a8f-8005-528a9c9cdf8e",
   "metadata": {},
   "source": [
    "## Environment"
   ]
  },
  {
   "cell_type": "code",
   "execution_count": 1,
   "id": "a4868818-8c2a-4531-9e03-762a5e3bfca8",
   "metadata": {},
   "outputs": [
    {
     "name": "stderr",
     "output_type": "stream",
     "text": [
      "── \u001b[1mAttaching packages\u001b[22m ───────────────────────────────────────────────────────────────────────────────────────────────────────────────────────────────────────────────────────────────────────────── tidyverse 1.3.1 ──\n",
      "\n",
      "\u001b[32m✔\u001b[39m \u001b[34mggplot2\u001b[39m 3.3.6     \u001b[32m✔\u001b[39m \u001b[34mpurrr  \u001b[39m 0.3.4\n",
      "\u001b[32m✔\u001b[39m \u001b[34mtibble \u001b[39m 3.1.7     \u001b[32m✔\u001b[39m \u001b[34mdplyr  \u001b[39m 1.0.8\n",
      "\u001b[32m✔\u001b[39m \u001b[34mtidyr  \u001b[39m 1.2.0     \u001b[32m✔\u001b[39m \u001b[34mstringr\u001b[39m 1.4.0\n",
      "\u001b[32m✔\u001b[39m \u001b[34mreadr  \u001b[39m 2.1.1     \u001b[32m✔\u001b[39m \u001b[34mforcats\u001b[39m 0.5.1\n",
      "\n",
      "── \u001b[1mConflicts\u001b[22m ──────────────────────────────────────────────────────────────────────────────────────────────────────────────────────────────────────────────────────────────────────────────── tidyverse_conflicts() ──\n",
      "\u001b[31m✖\u001b[39m \u001b[34mdplyr\u001b[39m::\u001b[32mfilter()\u001b[39m masks \u001b[34mstats\u001b[39m::filter()\n",
      "\u001b[31m✖\u001b[39m \u001b[34mdplyr\u001b[39m::\u001b[32mlag()\u001b[39m    masks \u001b[34mstats\u001b[39m::lag()\n",
      "\n",
      "\n",
      "Attaching package: ‘data.table’\n",
      "\n",
      "\n",
      "The following objects are masked from ‘package:dplyr’:\n",
      "\n",
      "    between, first, last\n",
      "\n",
      "\n",
      "The following object is masked from ‘package:purrr’:\n",
      "\n",
      "    transpose\n",
      "\n",
      "\n"
     ]
    }
   ],
   "source": [
    "library(tidyverse)\n",
    "library(data.table)\n",
    "library(patchwork)\n",
    "\n",
    "setwd(\"~/eQTL_pQTL_Characterization/\")\n",
    "\n",
    "source(\"03_Functional_Interpretation/scripts/utils/ggplot_theme.R\")"
   ]
  },
  {
   "cell_type": "markdown",
   "id": "87749052-952e-4235-9887-af639da85412",
   "metadata": {},
   "source": [
    "## Load VEP Data"
   ]
  },
  {
   "cell_type": "code",
   "execution_count": 2,
   "id": "760130f2-4f46-4134-9361-e39c6327595e",
   "metadata": {},
   "outputs": [],
   "source": [
    "vep <- fread(\"~/gains_team282/epigenetics/vep/ensembl_vep/qtl_vep_output.tsv\", sep=\"\\t\", na.strings=\"\") %>%\n",
    "    as.data.frame()"
   ]
  },
  {
   "cell_type": "markdown",
   "id": "a7dfaa55-e723-4d46-a03b-05fa6066ccea",
   "metadata": {},
   "source": [
    "VEP results are uniquely indexed by SNP (`ID`), allele (`Allele`), and affected feature (`Feature`). There can be multiple consequences per feature, that are all combined together. I will split these based on the consequence so that the new data frame is uniquely indexed by `ID`, `Allele`, `Feature`, and `Consequence`."
   ]
  },
  {
   "cell_type": "code",
   "execution_count": 3,
   "id": "0d61655f-79dd-4a2c-a47b-c66987d18c2b",
   "metadata": {},
   "outputs": [],
   "source": [
    "vep <- vep %>%\n",
    "    separate_rows(Consequence, sep=\"&\")"
   ]
  },
  {
   "cell_type": "markdown",
   "id": "887e7d5a-1a70-4f12-b50b-16a5663a2bed",
   "metadata": {},
   "source": [
    "For input into VEP, I had included both versions of the SNP (with both alleles as effect alleles) to get all possible annoations."
   ]
  },
  {
   "cell_type": "code",
   "execution_count": 4,
   "id": "8dc22706-74e5-46c5-beb0-9a36c5a2fbba",
   "metadata": {},
   "outputs": [],
   "source": [
    "ref.map <- read.table(\"~/gains_team282/epigenetics/vep/ensembl_vep/qtl_ref_alleles.tsv\") %>%\n",
    "    dplyr::select(ID=3, dbSNP_Ref=4)"
   ]
  },
  {
   "cell_type": "markdown",
   "id": "12b087da-c967-490e-9b3e-f8990968779a",
   "metadata": {
    "tags": []
   },
   "source": [
    "## Load QTL Data"
   ]
  },
  {
   "cell_type": "code",
   "execution_count": 5,
   "id": "cc2687b0-3489-4a31-9c2a-075142853248",
   "metadata": {},
   "outputs": [],
   "source": [
    "gene.info <- read.table(\"/nfs/team282/data/gains_team282/gene_info_864_20412_hla.txt\") %>%\n",
    "    dplyr::select(gene_id, gene_name)"
   ]
  },
  {
   "cell_type": "code",
   "execution_count": 6,
   "id": "59a81ba4-7f52-4b63-9660-b7aa28c73d2f",
   "metadata": {},
   "outputs": [],
   "source": [
    "c.cis.eqtl <- readRDS(\"~/gains_team282/eqtl/cisresults/conditionalanalysis/conditional_eQTL_results_final.rds\") %>%\n",
    "    merge(gene.info, ., by.x=\"gene_id\", by.y=\"Gene\")"
   ]
  },
  {
   "cell_type": "code",
   "execution_count": 7,
   "id": "3a561bbe-e578-43e4-8d99-57f41238f24a",
   "metadata": {},
   "outputs": [
    {
     "data": {
      "text/html": [
       "<table class=\"dataframe\">\n",
       "<caption>A data.frame: 6 × 7</caption>\n",
       "<thead>\n",
       "\t<tr><th></th><th scope=col>gene_id</th><th scope=col>gene_name</th><th scope=col>SNP</th><th scope=col>eQTL_beta</th><th scope=col>eQTL_SE</th><th scope=col>pvalue</th><th scope=col>Number</th></tr>\n",
       "\t<tr><th></th><th scope=col>&lt;chr&gt;</th><th scope=col>&lt;chr&gt;</th><th scope=col>&lt;chr&gt;</th><th scope=col>&lt;chr&gt;</th><th scope=col>&lt;chr&gt;</th><th scope=col>&lt;chr&gt;</th><th scope=col>&lt;int&gt;</th></tr>\n",
       "</thead>\n",
       "<tbody>\n",
       "\t<tr><th scope=row>1</th><td>ENSG00000000457</td><td>SCYL3   </td><td>rs10753794</td><td>0.0498587312408011 </td><td>0.00708515851579373</td><td>5.19259471106013e-12</td><td>1</td></tr>\n",
       "\t<tr><th scope=row>2</th><td>ENSG00000000460</td><td>C1orf112</td><td>rs10919255</td><td>-0.0726264894633498</td><td>0.0136853304567293 </td><td>1.72815915933528e-07</td><td>1</td></tr>\n",
       "\t<tr><th scope=row>3</th><td>ENSG00000000460</td><td>C1orf112</td><td>rs77006036</td><td>0.166236949102582  </td><td>0.0334472538699365 </td><td>8.47290238610159e-07</td><td>2</td></tr>\n",
       "\t<tr><th scope=row>4</th><td>ENSG00000000971</td><td>CFH     </td><td>rs12406047</td><td>0.17135374034767   </td><td>0.0379807691167313 </td><td>7.51523462853891e-06</td><td>1</td></tr>\n",
       "\t<tr><th scope=row>5</th><td>ENSG00000001036</td><td>FUCA2   </td><td>rs2496591 </td><td>0.055563884637757  </td><td>0.00962802684955264</td><td>1.2720712155449e-08 </td><td>1</td></tr>\n",
       "\t<tr><th scope=row>6</th><td>ENSG00000001167</td><td>NFYA    </td><td>rs72856259</td><td>0.119809332267369  </td><td>0.0158643249832696 </td><td>1.97855077155375e-13</td><td>1</td></tr>\n",
       "</tbody>\n",
       "</table>\n"
      ],
      "text/latex": [
       "A data.frame: 6 × 7\n",
       "\\begin{tabular}{r|lllllll}\n",
       "  & gene\\_id & gene\\_name & SNP & eQTL\\_beta & eQTL\\_SE & pvalue & Number\\\\\n",
       "  & <chr> & <chr> & <chr> & <chr> & <chr> & <chr> & <int>\\\\\n",
       "\\hline\n",
       "\t1 & ENSG00000000457 & SCYL3    & rs10753794 & 0.0498587312408011  & 0.00708515851579373 & 5.19259471106013e-12 & 1\\\\\n",
       "\t2 & ENSG00000000460 & C1orf112 & rs10919255 & -0.0726264894633498 & 0.0136853304567293  & 1.72815915933528e-07 & 1\\\\\n",
       "\t3 & ENSG00000000460 & C1orf112 & rs77006036 & 0.166236949102582   & 0.0334472538699365  & 8.47290238610159e-07 & 2\\\\\n",
       "\t4 & ENSG00000000971 & CFH      & rs12406047 & 0.17135374034767    & 0.0379807691167313  & 7.51523462853891e-06 & 1\\\\\n",
       "\t5 & ENSG00000001036 & FUCA2    & rs2496591  & 0.055563884637757   & 0.00962802684955264 & 1.2720712155449e-08  & 1\\\\\n",
       "\t6 & ENSG00000001167 & NFYA     & rs72856259 & 0.119809332267369   & 0.0158643249832696  & 1.97855077155375e-13 & 1\\\\\n",
       "\\end{tabular}\n"
      ],
      "text/markdown": [
       "\n",
       "A data.frame: 6 × 7\n",
       "\n",
       "| <!--/--> | gene_id &lt;chr&gt; | gene_name &lt;chr&gt; | SNP &lt;chr&gt; | eQTL_beta &lt;chr&gt; | eQTL_SE &lt;chr&gt; | pvalue &lt;chr&gt; | Number &lt;int&gt; |\n",
       "|---|---|---|---|---|---|---|---|\n",
       "| 1 | ENSG00000000457 | SCYL3    | rs10753794 | 0.0498587312408011  | 0.00708515851579373 | 5.19259471106013e-12 | 1 |\n",
       "| 2 | ENSG00000000460 | C1orf112 | rs10919255 | -0.0726264894633498 | 0.0136853304567293  | 1.72815915933528e-07 | 1 |\n",
       "| 3 | ENSG00000000460 | C1orf112 | rs77006036 | 0.166236949102582   | 0.0334472538699365  | 8.47290238610159e-07 | 2 |\n",
       "| 4 | ENSG00000000971 | CFH      | rs12406047 | 0.17135374034767    | 0.0379807691167313  | 7.51523462853891e-06 | 1 |\n",
       "| 5 | ENSG00000001036 | FUCA2    | rs2496591  | 0.055563884637757   | 0.00962802684955264 | 1.2720712155449e-08  | 1 |\n",
       "| 6 | ENSG00000001167 | NFYA     | rs72856259 | 0.119809332267369   | 0.0158643249832696  | 1.97855077155375e-13 | 1 |\n",
       "\n"
      ],
      "text/plain": [
       "  gene_id         gene_name SNP        eQTL_beta           eQTL_SE            \n",
       "1 ENSG00000000457 SCYL3     rs10753794 0.0498587312408011  0.00708515851579373\n",
       "2 ENSG00000000460 C1orf112  rs10919255 -0.0726264894633498 0.0136853304567293 \n",
       "3 ENSG00000000460 C1orf112  rs77006036 0.166236949102582   0.0334472538699365 \n",
       "4 ENSG00000000971 CFH       rs12406047 0.17135374034767    0.0379807691167313 \n",
       "5 ENSG00000001036 FUCA2     rs2496591  0.055563884637757   0.00962802684955264\n",
       "6 ENSG00000001167 NFYA      rs72856259 0.119809332267369   0.0158643249832696 \n",
       "  pvalue               Number\n",
       "1 5.19259471106013e-12 1     \n",
       "2 1.72815915933528e-07 1     \n",
       "3 8.47290238610159e-07 2     \n",
       "4 7.51523462853891e-06 1     \n",
       "5 1.2720712155449e-08  1     \n",
       "6 1.97855077155375e-13 1     "
      ]
     },
     "metadata": {},
     "output_type": "display_data"
    }
   ],
   "source": [
    "head(c.cis.eqtl)"
   ]
  },
  {
   "cell_type": "code",
   "execution_count": 8,
   "id": "d121fd87-7cc5-4453-abf9-1f4aadf4f563",
   "metadata": {},
   "outputs": [
    {
     "data": {
      "text/html": [
       "<style>\n",
       ".list-inline {list-style: none; margin:0; padding: 0}\n",
       ".list-inline>li {display: inline-block}\n",
       ".list-inline>li:not(:last-child)::after {content: \"\\00b7\"; padding: 0 .5ex}\n",
       "</style>\n",
       "<ol class=list-inline><li>16054</li><li>7</li></ol>\n"
      ],
      "text/latex": [
       "\\begin{enumerate*}\n",
       "\\item 16054\n",
       "\\item 7\n",
       "\\end{enumerate*}\n"
      ],
      "text/markdown": [
       "1. 16054\n",
       "2. 7\n",
       "\n",
       "\n"
      ],
      "text/plain": [
       "[1] 16054     7"
      ]
     },
     "metadata": {},
     "output_type": "display_data"
    }
   ],
   "source": [
    "dim(c.cis.eqtl)"
   ]
  },
  {
   "cell_type": "code",
   "execution_count": 9,
   "id": "a8519925-93b7-4fcd-a79a-361585c30069",
   "metadata": {},
   "outputs": [],
   "source": [
    "mqtl <- readRDS(\"~/gains_team282/nikhil/expression/eigengene_sva/mqtl.RDS\") %>%\n",
    "    dplyr::group_by(module, qtl.locus) %>%\n",
    "    dplyr::slice_min(p, n=1, with_ties=F)"
   ]
  },
  {
   "cell_type": "code",
   "execution_count": 10,
   "id": "24c8672a-3c22-4b9e-a174-defa3fad9ab3",
   "metadata": {},
   "outputs": [
    {
     "data": {
      "text/html": [
       "<table class=\"dataframe\">\n",
       "<caption>A grouped_df: 6 × 12</caption>\n",
       "<thead>\n",
       "\t<tr><th scope=col>snp</th><th scope=col>beta</th><th scope=col>se</th><th scope=col>t</th><th scope=col>p</th><th scope=col>module.qtl</th><th scope=col>module</th><th scope=col>pc</th><th scope=col>qtl.locus</th><th scope=col>qtl.locus.chr</th><th scope=col>qtl.locus.start</th><th scope=col>qtl.locus.end</th></tr>\n",
       "\t<tr><th scope=col>&lt;chr&gt;</th><th scope=col>&lt;dbl&gt;</th><th scope=col>&lt;dbl&gt;</th><th scope=col>&lt;dbl&gt;</th><th scope=col>&lt;dbl&gt;</th><th scope=col>&lt;chr&gt;</th><th scope=col>&lt;chr&gt;</th><th scope=col>&lt;chr&gt;</th><th scope=col>&lt;chr&gt;</th><th scope=col>&lt;chr&gt;</th><th scope=col>&lt;dbl&gt;</th><th scope=col>&lt;dbl&gt;</th></tr>\n",
       "</thead>\n",
       "<tbody>\n",
       "\t<tr><td>rs16866400</td><td>-0.01081391</td><td>0.0016948840</td><td> -6.380325</td><td> 3.197894e-10</td><td>ME_100_4-2:177556567-179584183</td><td>ME_100</td><td>4</td><td>2:177556567-179584183</td><td>2 </td><td>177556567</td><td>179584183</td></tr>\n",
       "\t<tr><td>rs582717  </td><td>-0.02334898</td><td>0.0014724757</td><td>-15.856953</td><td> 7.745374e-48</td><td>ME_101_2-1:24243590-26454176  </td><td>ME_101</td><td>2</td><td>1:24243590-26454176  </td><td>1 </td><td> 24243590</td><td> 26454176</td></tr>\n",
       "\t<tr><td>rs1131017 </td><td> 0.02409859</td><td>0.0008054830</td><td> 29.918193</td><td>7.188768e-121</td><td>ME_101_3-12:54985643-57100037 </td><td>ME_101</td><td>3</td><td>12:54985643-57100037 </td><td>12</td><td> 54985643</td><td> 57100037</td></tr>\n",
       "\t<tr><td>rs12442141</td><td> 0.04014834</td><td>0.0033260563</td><td> 12.070853</td><td> 1.789047e-30</td><td>ME_101_5-15:30215896-32681425 </td><td>ME_101</td><td>5</td><td>15:30215896-32681425 </td><td>15</td><td> 30215896</td><td> 32681425</td></tr>\n",
       "\t<tr><td>rs629329  </td><td> 0.02986714</td><td>0.0014708263</td><td> 20.306367</td><td> 5.848637e-71</td><td>ME_102_1-17:17145294-19676395 </td><td>ME_102</td><td>1</td><td>17:17145294-19676395 </td><td>17</td><td> 17145294</td><td> 19676395</td></tr>\n",
       "\t<tr><td>rs4761234 </td><td> 0.01989013</td><td>0.0005288609</td><td> 37.609373</td><td>8.488460e-164</td><td>ME_103_3-12:68275923-70376531 </td><td>ME_103</td><td>3</td><td>12:68275923-70376531 </td><td>12</td><td> 68275923</td><td> 70376531</td></tr>\n",
       "</tbody>\n",
       "</table>\n"
      ],
      "text/latex": [
       "A grouped\\_df: 6 × 12\n",
       "\\begin{tabular}{llllllllllll}\n",
       " snp & beta & se & t & p & module.qtl & module & pc & qtl.locus & qtl.locus.chr & qtl.locus.start & qtl.locus.end\\\\\n",
       " <chr> & <dbl> & <dbl> & <dbl> & <dbl> & <chr> & <chr> & <chr> & <chr> & <chr> & <dbl> & <dbl>\\\\\n",
       "\\hline\n",
       "\t rs16866400 & -0.01081391 & 0.0016948840 &  -6.380325 &  3.197894e-10 & ME\\_100\\_4-2:177556567-179584183 & ME\\_100 & 4 & 2:177556567-179584183 & 2  & 177556567 & 179584183\\\\\n",
       "\t rs582717   & -0.02334898 & 0.0014724757 & -15.856953 &  7.745374e-48 & ME\\_101\\_2-1:24243590-26454176   & ME\\_101 & 2 & 1:24243590-26454176   & 1  &  24243590 &  26454176\\\\\n",
       "\t rs1131017  &  0.02409859 & 0.0008054830 &  29.918193 & 7.188768e-121 & ME\\_101\\_3-12:54985643-57100037  & ME\\_101 & 3 & 12:54985643-57100037  & 12 &  54985643 &  57100037\\\\\n",
       "\t rs12442141 &  0.04014834 & 0.0033260563 &  12.070853 &  1.789047e-30 & ME\\_101\\_5-15:30215896-32681425  & ME\\_101 & 5 & 15:30215896-32681425  & 15 &  30215896 &  32681425\\\\\n",
       "\t rs629329   &  0.02986714 & 0.0014708263 &  20.306367 &  5.848637e-71 & ME\\_102\\_1-17:17145294-19676395  & ME\\_102 & 1 & 17:17145294-19676395  & 17 &  17145294 &  19676395\\\\\n",
       "\t rs4761234  &  0.01989013 & 0.0005288609 &  37.609373 & 8.488460e-164 & ME\\_103\\_3-12:68275923-70376531  & ME\\_103 & 3 & 12:68275923-70376531  & 12 &  68275923 &  70376531\\\\\n",
       "\\end{tabular}\n"
      ],
      "text/markdown": [
       "\n",
       "A grouped_df: 6 × 12\n",
       "\n",
       "| snp &lt;chr&gt; | beta &lt;dbl&gt; | se &lt;dbl&gt; | t &lt;dbl&gt; | p &lt;dbl&gt; | module.qtl &lt;chr&gt; | module &lt;chr&gt; | pc &lt;chr&gt; | qtl.locus &lt;chr&gt; | qtl.locus.chr &lt;chr&gt; | qtl.locus.start &lt;dbl&gt; | qtl.locus.end &lt;dbl&gt; |\n",
       "|---|---|---|---|---|---|---|---|---|---|---|---|\n",
       "| rs16866400 | -0.01081391 | 0.0016948840 |  -6.380325 |  3.197894e-10 | ME_100_4-2:177556567-179584183 | ME_100 | 4 | 2:177556567-179584183 | 2  | 177556567 | 179584183 |\n",
       "| rs582717   | -0.02334898 | 0.0014724757 | -15.856953 |  7.745374e-48 | ME_101_2-1:24243590-26454176   | ME_101 | 2 | 1:24243590-26454176   | 1  |  24243590 |  26454176 |\n",
       "| rs1131017  |  0.02409859 | 0.0008054830 |  29.918193 | 7.188768e-121 | ME_101_3-12:54985643-57100037  | ME_101 | 3 | 12:54985643-57100037  | 12 |  54985643 |  57100037 |\n",
       "| rs12442141 |  0.04014834 | 0.0033260563 |  12.070853 |  1.789047e-30 | ME_101_5-15:30215896-32681425  | ME_101 | 5 | 15:30215896-32681425  | 15 |  30215896 |  32681425 |\n",
       "| rs629329   |  0.02986714 | 0.0014708263 |  20.306367 |  5.848637e-71 | ME_102_1-17:17145294-19676395  | ME_102 | 1 | 17:17145294-19676395  | 17 |  17145294 |  19676395 |\n",
       "| rs4761234  |  0.01989013 | 0.0005288609 |  37.609373 | 8.488460e-164 | ME_103_3-12:68275923-70376531  | ME_103 | 3 | 12:68275923-70376531  | 12 |  68275923 |  70376531 |\n",
       "\n"
      ],
      "text/plain": [
       "  snp        beta        se           t          p            \n",
       "1 rs16866400 -0.01081391 0.0016948840  -6.380325  3.197894e-10\n",
       "2 rs582717   -0.02334898 0.0014724757 -15.856953  7.745374e-48\n",
       "3 rs1131017   0.02409859 0.0008054830  29.918193 7.188768e-121\n",
       "4 rs12442141  0.04014834 0.0033260563  12.070853  1.789047e-30\n",
       "5 rs629329    0.02986714 0.0014708263  20.306367  5.848637e-71\n",
       "6 rs4761234   0.01989013 0.0005288609  37.609373 8.488460e-164\n",
       "  module.qtl                     module pc qtl.locus             qtl.locus.chr\n",
       "1 ME_100_4-2:177556567-179584183 ME_100 4  2:177556567-179584183 2            \n",
       "2 ME_101_2-1:24243590-26454176   ME_101 2  1:24243590-26454176   1            \n",
       "3 ME_101_3-12:54985643-57100037  ME_101 3  12:54985643-57100037  12           \n",
       "4 ME_101_5-15:30215896-32681425  ME_101 5  15:30215896-32681425  15           \n",
       "5 ME_102_1-17:17145294-19676395  ME_102 1  17:17145294-19676395  17           \n",
       "6 ME_103_3-12:68275923-70376531  ME_103 3  12:68275923-70376531  12           \n",
       "  qtl.locus.start qtl.locus.end\n",
       "1 177556567       179584183    \n",
       "2  24243590        26454176    \n",
       "3  54985643        57100037    \n",
       "4  30215896        32681425    \n",
       "5  17145294        19676395    \n",
       "6  68275923        70376531    "
      ]
     },
     "metadata": {},
     "output_type": "display_data"
    }
   ],
   "source": [
    "head(mqtl)"
   ]
  },
  {
   "cell_type": "code",
   "execution_count": 11,
   "id": "95f0d85f-56d8-4164-95f4-d524e26ac166",
   "metadata": {},
   "outputs": [],
   "source": [
    "cis.pqtl <- readRDS(\"/nfs/users/nfs_n/nm18/gains_team282/proteomics/pqtl/pqtl_ms2019/cis_pqtl_all.RDS\") %>%\n",
    "    dplyr::filter(pQTL_pval < (5e-8) / 269) %>%\n",
    "    dplyr::group_by(Gene) %>%\n",
    "    dplyr::slice_min(pQTL_pval, n=1, with_ties=F)"
   ]
  },
  {
   "cell_type": "code",
   "execution_count": 12,
   "id": "38af7e8a-159e-4f97-a1d8-903b39c13d93",
   "metadata": {},
   "outputs": [],
   "source": [
    "trans.pqtl <- readRDS(\"/nfs/users/nfs_n/nm18/gains_team282/proteomics/pqtl/pqtl_ms2019/trans_pqtl_all.RDS\") %>%\n",
    "    dplyr::filter(pQTL_pval < (5e-8) / 269) %>%\n",
    "    dplyr::group_by(pQTL_Protein, pQTL_Locus) %>%\n",
    "    dplyr::slice_min(pQTL_pval, n=1, with_ties=F)"
   ]
  },
  {
   "cell_type": "code",
   "execution_count": 13,
   "id": "94557708-4788-4bce-bf0e-8c5463a3f5cc",
   "metadata": {},
   "outputs": [
    {
     "data": {
      "text/html": [
       "<table class=\"dataframe\">\n",
       "<caption>A grouped_df: 6 × 9</caption>\n",
       "<thead>\n",
       "\t<tr><th scope=col>SNP</th><th scope=col>Chr</th><th scope=col>Position</th><th scope=col>pQTL_beta</th><th scope=col>pQTL_SE</th><th scope=col>pQTL_t</th><th scope=col>pQTL_pval</th><th scope=col>pQTL_Protein</th><th scope=col>Gene</th></tr>\n",
       "\t<tr><th scope=col>&lt;chr&gt;</th><th scope=col>&lt;int&gt;</th><th scope=col>&lt;int&gt;</th><th scope=col>&lt;dbl&gt;</th><th scope=col>&lt;dbl&gt;</th><th scope=col>&lt;dbl&gt;</th><th scope=col>&lt;dbl&gt;</th><th scope=col>&lt;chr&gt;</th><th scope=col>&lt;chr&gt;</th></tr>\n",
       "</thead>\n",
       "<tbody>\n",
       "\t<tr><td>rs529541 </td><td> 1</td><td>196750586</td><td>-0.24905935</td><td>0.01325800</td><td>-18.785585</td><td>1.642588e-67</td><td>P08603</td><td>ENSG00000000971</td></tr>\n",
       "\t<tr><td>rs854572 </td><td> 7</td><td> 95325384</td><td> 0.18402863</td><td>0.01585951</td><td> 11.603674</td><td>3.259335e-29</td><td>P27169</td><td>ENSG00000005421</td></tr>\n",
       "\t<tr><td>rs6073958</td><td>20</td><td> 45923216</td><td>-0.14494261</td><td>0.01847291</td><td> -7.846223</td><td>8.488455e-15</td><td>P55058</td><td>ENSG00000100979</td></tr>\n",
       "\t<tr><td>rs7815785</td><td> 8</td><td> 17872829</td><td>-0.22225713</td><td>0.02073768</td><td>-10.717549</td><td>2.077001e-25</td><td>Q08830</td><td>ENSG00000104760</td></tr>\n",
       "\t<tr><td>rs1648722</td><td> 3</td><td>186731200</td><td>-0.06974747</td><td>0.01034678</td><td> -6.740986</td><td>2.709794e-11</td><td>P01042</td><td>ENSG00000113889</td></tr>\n",
       "\t<tr><td>rs9898   </td><td> 3</td><td>186672838</td><td> 0.13927636</td><td>0.01226248</td><td> 11.357931</td><td>2.911146e-28</td><td>P04196</td><td>ENSG00000113905</td></tr>\n",
       "</tbody>\n",
       "</table>\n"
      ],
      "text/latex": [
       "A grouped\\_df: 6 × 9\n",
       "\\begin{tabular}{lllllllll}\n",
       " SNP & Chr & Position & pQTL\\_beta & pQTL\\_SE & pQTL\\_t & pQTL\\_pval & pQTL\\_Protein & Gene\\\\\n",
       " <chr> & <int> & <int> & <dbl> & <dbl> & <dbl> & <dbl> & <chr> & <chr>\\\\\n",
       "\\hline\n",
       "\t rs529541  &  1 & 196750586 & -0.24905935 & 0.01325800 & -18.785585 & 1.642588e-67 & P08603 & ENSG00000000971\\\\\n",
       "\t rs854572  &  7 &  95325384 &  0.18402863 & 0.01585951 &  11.603674 & 3.259335e-29 & P27169 & ENSG00000005421\\\\\n",
       "\t rs6073958 & 20 &  45923216 & -0.14494261 & 0.01847291 &  -7.846223 & 8.488455e-15 & P55058 & ENSG00000100979\\\\\n",
       "\t rs7815785 &  8 &  17872829 & -0.22225713 & 0.02073768 & -10.717549 & 2.077001e-25 & Q08830 & ENSG00000104760\\\\\n",
       "\t rs1648722 &  3 & 186731200 & -0.06974747 & 0.01034678 &  -6.740986 & 2.709794e-11 & P01042 & ENSG00000113889\\\\\n",
       "\t rs9898    &  3 & 186672838 &  0.13927636 & 0.01226248 &  11.357931 & 2.911146e-28 & P04196 & ENSG00000113905\\\\\n",
       "\\end{tabular}\n"
      ],
      "text/markdown": [
       "\n",
       "A grouped_df: 6 × 9\n",
       "\n",
       "| SNP &lt;chr&gt; | Chr &lt;int&gt; | Position &lt;int&gt; | pQTL_beta &lt;dbl&gt; | pQTL_SE &lt;dbl&gt; | pQTL_t &lt;dbl&gt; | pQTL_pval &lt;dbl&gt; | pQTL_Protein &lt;chr&gt; | Gene &lt;chr&gt; |\n",
       "|---|---|---|---|---|---|---|---|---|\n",
       "| rs529541  |  1 | 196750586 | -0.24905935 | 0.01325800 | -18.785585 | 1.642588e-67 | P08603 | ENSG00000000971 |\n",
       "| rs854572  |  7 |  95325384 |  0.18402863 | 0.01585951 |  11.603674 | 3.259335e-29 | P27169 | ENSG00000005421 |\n",
       "| rs6073958 | 20 |  45923216 | -0.14494261 | 0.01847291 |  -7.846223 | 8.488455e-15 | P55058 | ENSG00000100979 |\n",
       "| rs7815785 |  8 |  17872829 | -0.22225713 | 0.02073768 | -10.717549 | 2.077001e-25 | Q08830 | ENSG00000104760 |\n",
       "| rs1648722 |  3 | 186731200 | -0.06974747 | 0.01034678 |  -6.740986 | 2.709794e-11 | P01042 | ENSG00000113889 |\n",
       "| rs9898    |  3 | 186672838 |  0.13927636 | 0.01226248 |  11.357931 | 2.911146e-28 | P04196 | ENSG00000113905 |\n",
       "\n"
      ],
      "text/plain": [
       "  SNP       Chr Position  pQTL_beta   pQTL_SE    pQTL_t     pQTL_pval   \n",
       "1 rs529541   1  196750586 -0.24905935 0.01325800 -18.785585 1.642588e-67\n",
       "2 rs854572   7   95325384  0.18402863 0.01585951  11.603674 3.259335e-29\n",
       "3 rs6073958 20   45923216 -0.14494261 0.01847291  -7.846223 8.488455e-15\n",
       "4 rs7815785  8   17872829 -0.22225713 0.02073768 -10.717549 2.077001e-25\n",
       "5 rs1648722  3  186731200 -0.06974747 0.01034678  -6.740986 2.709794e-11\n",
       "6 rs9898     3  186672838  0.13927636 0.01226248  11.357931 2.911146e-28\n",
       "  pQTL_Protein Gene           \n",
       "1 P08603       ENSG00000000971\n",
       "2 P27169       ENSG00000005421\n",
       "3 P55058       ENSG00000100979\n",
       "4 Q08830       ENSG00000104760\n",
       "5 P01042       ENSG00000113889\n",
       "6 P04196       ENSG00000113905"
      ]
     },
     "metadata": {},
     "output_type": "display_data"
    }
   ],
   "source": [
    "head(cis.pqtl)"
   ]
  },
  {
   "cell_type": "code",
   "execution_count": 14,
   "id": "d80c4593-add9-49f9-a0d7-bb0402812dab",
   "metadata": {},
   "outputs": [
    {
     "data": {
      "text/html": [
       "<table class=\"dataframe\">\n",
       "<caption>A grouped_df: 6 × 9</caption>\n",
       "<thead>\n",
       "\t<tr><th scope=col>SNP</th><th scope=col>Chr</th><th scope=col>Position</th><th scope=col>pQTL_beta</th><th scope=col>pQTL_SE</th><th scope=col>pQTL_t</th><th scope=col>pQTL_pval</th><th scope=col>pQTL_Protein</th><th scope=col>pQTL_Locus</th></tr>\n",
       "\t<tr><th scope=col>&lt;chr&gt;</th><th scope=col>&lt;int&gt;</th><th scope=col>&lt;int&gt;</th><th scope=col>&lt;dbl&gt;</th><th scope=col>&lt;dbl&gt;</th><th scope=col>&lt;dbl&gt;</th><th scope=col>&lt;dbl&gt;</th><th scope=col>&lt;chr&gt;</th><th scope=col>&lt;chr&gt;</th></tr>\n",
       "</thead>\n",
       "<tbody>\n",
       "\t<tr><td>rs11846959</td><td>14</td><td>94379979</td><td>-0.3065649</td><td>0.01614662</td><td>-18.986322</td><td>3.309735e-69</td><td>P00751</td><td>pQTL_1</td></tr>\n",
       "\t<tr><td>rs11846959</td><td>14</td><td>94379979</td><td>-0.2137874</td><td>0.01793464</td><td>-11.920362</td><td>6.923034e-31</td><td>P02787</td><td>pQTL_1</td></tr>\n",
       "\t<tr><td>rs9302635 </td><td>16</td><td>72110275</td><td> 0.1145890</td><td>0.01466176</td><td>  7.815500</td><td>1.200982e-14</td><td>P10909</td><td>pQTL_1</td></tr>\n",
       "\t<tr><td>rs9302635 </td><td>16</td><td>72110275</td><td> 0.1319606</td><td>0.01429908</td><td>  9.228609</td><td>1.454631e-19</td><td>P19827</td><td>pQTL_1</td></tr>\n",
       "\t<tr><td>rs16917722</td><td> 8</td><td>95461382</td><td>-0.4991650</td><td>0.06949047</td><td> -7.183215</td><td>1.673847e-12</td><td>P35858</td><td>pQTL_1</td></tr>\n",
       "\t<tr><td>rs28929474</td><td>14</td><td>94378610</td><td> 0.5651334</td><td>0.07657069</td><td>  7.380545</td><td>3.282674e-13</td><td>Q92954</td><td>pQTL_1</td></tr>\n",
       "</tbody>\n",
       "</table>\n"
      ],
      "text/latex": [
       "A grouped\\_df: 6 × 9\n",
       "\\begin{tabular}{lllllllll}\n",
       " SNP & Chr & Position & pQTL\\_beta & pQTL\\_SE & pQTL\\_t & pQTL\\_pval & pQTL\\_Protein & pQTL\\_Locus\\\\\n",
       " <chr> & <int> & <int> & <dbl> & <dbl> & <dbl> & <dbl> & <chr> & <chr>\\\\\n",
       "\\hline\n",
       "\t rs11846959 & 14 & 94379979 & -0.3065649 & 0.01614662 & -18.986322 & 3.309735e-69 & P00751 & pQTL\\_1\\\\\n",
       "\t rs11846959 & 14 & 94379979 & -0.2137874 & 0.01793464 & -11.920362 & 6.923034e-31 & P02787 & pQTL\\_1\\\\\n",
       "\t rs9302635  & 16 & 72110275 &  0.1145890 & 0.01466176 &   7.815500 & 1.200982e-14 & P10909 & pQTL\\_1\\\\\n",
       "\t rs9302635  & 16 & 72110275 &  0.1319606 & 0.01429908 &   9.228609 & 1.454631e-19 & P19827 & pQTL\\_1\\\\\n",
       "\t rs16917722 &  8 & 95461382 & -0.4991650 & 0.06949047 &  -7.183215 & 1.673847e-12 & P35858 & pQTL\\_1\\\\\n",
       "\t rs28929474 & 14 & 94378610 &  0.5651334 & 0.07657069 &   7.380545 & 3.282674e-13 & Q92954 & pQTL\\_1\\\\\n",
       "\\end{tabular}\n"
      ],
      "text/markdown": [
       "\n",
       "A grouped_df: 6 × 9\n",
       "\n",
       "| SNP &lt;chr&gt; | Chr &lt;int&gt; | Position &lt;int&gt; | pQTL_beta &lt;dbl&gt; | pQTL_SE &lt;dbl&gt; | pQTL_t &lt;dbl&gt; | pQTL_pval &lt;dbl&gt; | pQTL_Protein &lt;chr&gt; | pQTL_Locus &lt;chr&gt; |\n",
       "|---|---|---|---|---|---|---|---|---|\n",
       "| rs11846959 | 14 | 94379979 | -0.3065649 | 0.01614662 | -18.986322 | 3.309735e-69 | P00751 | pQTL_1 |\n",
       "| rs11846959 | 14 | 94379979 | -0.2137874 | 0.01793464 | -11.920362 | 6.923034e-31 | P02787 | pQTL_1 |\n",
       "| rs9302635  | 16 | 72110275 |  0.1145890 | 0.01466176 |   7.815500 | 1.200982e-14 | P10909 | pQTL_1 |\n",
       "| rs9302635  | 16 | 72110275 |  0.1319606 | 0.01429908 |   9.228609 | 1.454631e-19 | P19827 | pQTL_1 |\n",
       "| rs16917722 |  8 | 95461382 | -0.4991650 | 0.06949047 |  -7.183215 | 1.673847e-12 | P35858 | pQTL_1 |\n",
       "| rs28929474 | 14 | 94378610 |  0.5651334 | 0.07657069 |   7.380545 | 3.282674e-13 | Q92954 | pQTL_1 |\n",
       "\n"
      ],
      "text/plain": [
       "  SNP        Chr Position pQTL_beta  pQTL_SE    pQTL_t     pQTL_pval   \n",
       "1 rs11846959 14  94379979 -0.3065649 0.01614662 -18.986322 3.309735e-69\n",
       "2 rs11846959 14  94379979 -0.2137874 0.01793464 -11.920362 6.923034e-31\n",
       "3 rs9302635  16  72110275  0.1145890 0.01466176   7.815500 1.200982e-14\n",
       "4 rs9302635  16  72110275  0.1319606 0.01429908   9.228609 1.454631e-19\n",
       "5 rs16917722  8  95461382 -0.4991650 0.06949047  -7.183215 1.673847e-12\n",
       "6 rs28929474 14  94378610  0.5651334 0.07657069   7.380545 3.282674e-13\n",
       "  pQTL_Protein pQTL_Locus\n",
       "1 P00751       pQTL_1    \n",
       "2 P02787       pQTL_1    \n",
       "3 P10909       pQTL_1    \n",
       "4 P19827       pQTL_1    \n",
       "5 P35858       pQTL_1    \n",
       "6 Q92954       pQTL_1    "
      ]
     },
     "metadata": {},
     "output_type": "display_data"
    }
   ],
   "source": [
    "head(trans.pqtl)"
   ]
  },
  {
   "cell_type": "markdown",
   "id": "c77ce625-5566-40cf-a16c-3b0df2a1c044",
   "metadata": {
    "tags": []
   },
   "source": [
    "## Cis-eQTL"
   ]
  },
  {
   "cell_type": "markdown",
   "id": "2bcf1a8e-1556-49d9-b87d-b0cd239faacc",
   "metadata": {},
   "source": [
    "Tables on these features are provided by [McLaren *et al.*](https://doi.org/10.1186/s13059-016-0974-4)."
   ]
  },
  {
   "cell_type": "code",
   "execution_count": 15,
   "id": "b9c5d926-9220-4a28-810b-63ca2514ed3b",
   "metadata": {},
   "outputs": [],
   "source": [
    "c.cis.eqtl.vep <- merge(vep, c.cis.eqtl, by.x=\"ID\", by.y=\"SNP\") %>%\n",
    "    dplyr::select(\n",
    "        ID, Allele, Feature, Consequence,                                    # Index variables\n",
    "        CHROM, POS, REF, ALT,                                                # Variant information\n",
    "        eGene=gene_id,                                                       # Cis-eQTL information\n",
    "        Gene, Feature_type, BIOTYPE,                                         # Gene and transcript information\n",
    "        ENSP, UNIPARC, SIFT, PolyPhen,                                       # Protein information\n",
    "        MOTIF_NAME, TRANSCRIPTION_FACTORS, HIGH_INF_POS, MOTIF_SCORE_CHANGE, # Transcription factor information\n",
    "        CLIN_SIG                                                             # Literature annotations\n",
    "    )"
   ]
  },
  {
   "cell_type": "markdown",
   "id": "df836932-b0d1-4267-9f2a-0bfb83da7f42",
   "metadata": {},
   "source": [
    "All 14,938 unique lead conditional cis-eQTL have at least one VEP annotation."
   ]
  },
  {
   "cell_type": "code",
   "execution_count": 16,
   "id": "bcbc1f8b-77b8-4faa-b761-5ef8669d201e",
   "metadata": {},
   "outputs": [
    {
     "data": {
      "text/html": [
       "14938"
      ],
      "text/latex": [
       "14938"
      ],
      "text/markdown": [
       "14938"
      ],
      "text/plain": [
       "[1] 14938"
      ]
     },
     "metadata": {},
     "output_type": "display_data"
    },
    {
     "data": {
      "text/html": [
       "14938"
      ],
      "text/latex": [
       "14938"
      ],
      "text/markdown": [
       "14938"
      ],
      "text/plain": [
       "[1] 14938"
      ]
     },
     "metadata": {},
     "output_type": "display_data"
    }
   ],
   "source": [
    "c.cis.eqtl.vep %>%\n",
    "    dplyr::count(ID) %>%\n",
    "    nrow()\n",
    "\n",
    "c.cis.eqtl %>%\n",
    "    dplyr::count(SNP) %>%\n",
    "    nrow()"
   ]
  },
  {
   "cell_type": "markdown",
   "id": "a2f5f987-f000-431f-b165-3d17b001a238",
   "metadata": {},
   "source": [
    "Most variants had a predicted consequence on one gene. Surprisingly, many of the predicted consequences were not for the actual eGene. Only 6351 (44.4%) of variants had a predicted consequence on the eGene."
   ]
  },
  {
   "cell_type": "code",
   "execution_count": 17,
   "id": "4ee1998e-fe70-45e7-8d0f-f54df36e7b41",
   "metadata": {},
   "outputs": [
    {
     "data": {
      "image/png": "[encoded data removed]",
      "text/plain": [
       "plot without title"
      ]
     },
     "metadata": {
      "image/png": {
       "height": 420,
       "width": 360
      }
     },
     "output_type": "display_data"
    }
   ],
   "source": [
    "options(repr.plot.width=6, repr.plot.height=7)\n",
    "\n",
    "c.cis.eqtl.vep %>%\n",
    "    dplyr::filter(Feature_type == \"Transcript\") %>%\n",
    "    dplyr::select(ID, Gene, eGene) %>%\n",
    "    unique() %>%\n",
    "    dplyr::group_by(ID, eGene) %>%\n",
    "    dplyr::summarize(Matches = c(\"No\", \"Yes\")[as.numeric(any(eGene == Gene)) + 1], n=n(), .groups=\"drop\") %>%\n",
    "    dplyr::mutate(n=factor(n, levels=1:max(n))) %>%\n",
    "    dplyr::count(n, Matches, name=\"Frequency\") %>%\n",
    "    ggplot() +\n",
    "    geom_bar(aes(x=n, y=Frequency, fill=Matches), stat=\"identity\") +\n",
    "    scale_fill_brewer(\"eGene Present\", palette=\"Pastel1\") +\n",
    "    xlab(\"Number of Genes\") + ylab(\"Frequency\") +\n",
    "    ggplot_theme\n",
    "\n",
    "ggsave(\"03_Functional_Interpretation/results/ensembl_vep_n_genes.pdf\", width=8, height=9)"
   ]
  },
  {
   "cell_type": "code",
   "execution_count": 18,
   "id": "ace45e57-fbbd-41c9-8681-b802fff374d5",
   "metadata": {},
   "outputs": [
    {
     "name": "stderr",
     "output_type": "stream",
     "text": [
      "\u001b[1m\u001b[22mStoring counts in `nn`, as `n` already present in input\n",
      "\u001b[36mℹ\u001b[39m Use `name = \"new_name\"` to pick a new name.\n"
     ]
    },
    {
     "data": {
      "text/html": [
       "<table class=\"dataframe\">\n",
       "<caption>A data.frame: 9 × 4</caption>\n",
       "<thead>\n",
       "\t<tr><th scope=col>n</th><th scope=col>nn</th><th scope=col>total</th><th scope=col>prop</th></tr>\n",
       "\t<tr><th scope=col>&lt;int&gt;</th><th scope=col>&lt;int&gt;</th><th scope=col>&lt;int&gt;</th><th scope=col>&lt;dbl&gt;</th></tr>\n",
       "</thead>\n",
       "<tbody>\n",
       "\t<tr><td>1</td><td>8121</td><td>14319</td><td>0.5671485439</td></tr>\n",
       "\t<tr><td>2</td><td>4122</td><td>14319</td><td>0.2878692646</td></tr>\n",
       "\t<tr><td>3</td><td>1462</td><td>14319</td><td>0.1021021021</td></tr>\n",
       "\t<tr><td>4</td><td> 411</td><td>14319</td><td>0.0287031217</td></tr>\n",
       "\t<tr><td>5</td><td> 138</td><td>14319</td><td>0.0096375445</td></tr>\n",
       "\t<tr><td>6</td><td>  36</td><td>14319</td><td>0.0025141420</td></tr>\n",
       "\t<tr><td>7</td><td>  18</td><td>14319</td><td>0.0012570710</td></tr>\n",
       "\t<tr><td>8</td><td>   7</td><td>14319</td><td>0.0004888610</td></tr>\n",
       "\t<tr><td>9</td><td>   4</td><td>14319</td><td>0.0002793491</td></tr>\n",
       "</tbody>\n",
       "</table>\n"
      ],
      "text/latex": [
       "A data.frame: 9 × 4\n",
       "\\begin{tabular}{llll}\n",
       " n & nn & total & prop\\\\\n",
       " <int> & <int> & <int> & <dbl>\\\\\n",
       "\\hline\n",
       "\t 1 & 8121 & 14319 & 0.5671485439\\\\\n",
       "\t 2 & 4122 & 14319 & 0.2878692646\\\\\n",
       "\t 3 & 1462 & 14319 & 0.1021021021\\\\\n",
       "\t 4 &  411 & 14319 & 0.0287031217\\\\\n",
       "\t 5 &  138 & 14319 & 0.0096375445\\\\\n",
       "\t 6 &   36 & 14319 & 0.0025141420\\\\\n",
       "\t 7 &   18 & 14319 & 0.0012570710\\\\\n",
       "\t 8 &    7 & 14319 & 0.0004888610\\\\\n",
       "\t 9 &    4 & 14319 & 0.0002793491\\\\\n",
       "\\end{tabular}\n"
      ],
      "text/markdown": [
       "\n",
       "A data.frame: 9 × 4\n",
       "\n",
       "| n &lt;int&gt; | nn &lt;int&gt; | total &lt;int&gt; | prop &lt;dbl&gt; |\n",
       "|---|---|---|---|\n",
       "| 1 | 8121 | 14319 | 0.5671485439 |\n",
       "| 2 | 4122 | 14319 | 0.2878692646 |\n",
       "| 3 | 1462 | 14319 | 0.1021021021 |\n",
       "| 4 |  411 | 14319 | 0.0287031217 |\n",
       "| 5 |  138 | 14319 | 0.0096375445 |\n",
       "| 6 |   36 | 14319 | 0.0025141420 |\n",
       "| 7 |   18 | 14319 | 0.0012570710 |\n",
       "| 8 |    7 | 14319 | 0.0004888610 |\n",
       "| 9 |    4 | 14319 | 0.0002793491 |\n",
       "\n"
      ],
      "text/plain": [
       "  n nn   total prop        \n",
       "1 1 8121 14319 0.5671485439\n",
       "2 2 4122 14319 0.2878692646\n",
       "3 3 1462 14319 0.1021021021\n",
       "4 4  411 14319 0.0287031217\n",
       "5 5  138 14319 0.0096375445\n",
       "6 6   36 14319 0.0025141420\n",
       "7 7   18 14319 0.0012570710\n",
       "8 8    7 14319 0.0004888610\n",
       "9 9    4 14319 0.0002793491"
      ]
     },
     "metadata": {},
     "output_type": "display_data"
    }
   ],
   "source": [
    "c.cis.eqtl.vep %>%\n",
    "    dplyr::filter(Feature_type == \"Transcript\") %>%\n",
    "    dplyr::select(ID, Gene, eGene) %>%\n",
    "    unique() %>%\n",
    "    dplyr::count(ID, eGene) %>%\n",
    "    dplyr::count(n) %>%\n",
    "    dplyr::mutate(total = sum(nn)) %>%\n",
    "    dplyr::mutate(prop = nn / total)"
   ]
  },
  {
   "cell_type": "code",
   "execution_count": 19,
   "id": "73dff4a4-d145-4054-b874-568845a492f0",
   "metadata": {},
   "outputs": [
    {
     "data": {
      "text/html": [
       "<table class=\"dataframe\">\n",
       "<caption>A tibble: 2 × 3</caption>\n",
       "<thead>\n",
       "\t<tr><th scope=col>Matches</th><th scope=col>n</th><th scope=col>Prop</th></tr>\n",
       "\t<tr><th scope=col>&lt;lgl&gt;</th><th scope=col>&lt;int&gt;</th><th scope=col>&lt;dbl&gt;</th></tr>\n",
       "</thead>\n",
       "<tbody>\n",
       "\t<tr><td>FALSE</td><td>7968</td><td>0.5564634</td></tr>\n",
       "\t<tr><td> TRUE</td><td>6351</td><td>0.4435366</td></tr>\n",
       "</tbody>\n",
       "</table>\n"
      ],
      "text/latex": [
       "A tibble: 2 × 3\n",
       "\\begin{tabular}{lll}\n",
       " Matches & n & Prop\\\\\n",
       " <lgl> & <int> & <dbl>\\\\\n",
       "\\hline\n",
       "\t FALSE & 7968 & 0.5564634\\\\\n",
       "\t  TRUE & 6351 & 0.4435366\\\\\n",
       "\\end{tabular}\n"
      ],
      "text/markdown": [
       "\n",
       "A tibble: 2 × 3\n",
       "\n",
       "| Matches &lt;lgl&gt; | n &lt;int&gt; | Prop &lt;dbl&gt; |\n",
       "|---|---|---|\n",
       "| FALSE | 7968 | 0.5564634 |\n",
       "|  TRUE | 6351 | 0.4435366 |\n",
       "\n"
      ],
      "text/plain": [
       "  Matches n    Prop     \n",
       "1 FALSE   7968 0.5564634\n",
       "2  TRUE   6351 0.4435366"
      ]
     },
     "metadata": {},
     "output_type": "display_data"
    }
   ],
   "source": [
    "c.cis.eqtl.vep %>%\n",
    "    dplyr::filter(Feature_type == \"Transcript\") %>%\n",
    "    dplyr::select(ID, eGene, Gene) %>%\n",
    "    dplyr::group_by(ID, eGene) %>%\n",
    "    dplyr::summarize(Matches = any(eGene == Gene), .groups=\"drop\") %>%\n",
    "    dplyr::count(Matches) %>%\n",
    "    dplyr::mutate(Prop=n / sum(n))"
   ]
  },
  {
   "cell_type": "markdown",
   "id": "9a170933-0c24-4752-92ca-2c58322ee6af",
   "metadata": {},
   "source": [
    "Why? Maybe those variants are falling in regulatory regions that are not annotated with a gene?"
   ]
  },
  {
   "cell_type": "code",
   "execution_count": 20,
   "id": "39e380e7-6af4-4a3d-9b89-658e7f4348d6",
   "metadata": {},
   "outputs": [
    {
     "data": {
      "image/png": "[encoded data removed]",
      "text/plain": [
       "plot without title"
      ]
     },
     "metadata": {
      "image/png": {
       "height": 540,
       "width": 720
      }
     },
     "output_type": "display_data"
    }
   ],
   "source": [
    "options(repr.plot.width=12, repr.plot.height=9)\n",
    "\n",
    "p1 <- c.cis.eqtl.vep %>%\n",
    "    dplyr::filter(Feature_type == \"RegulatoryFeature\") %>%\n",
    "    dplyr::select(ID, Feature) %>%\n",
    "    unique() %>%\n",
    "    dplyr::count(ID) %>%\n",
    "    dplyr::mutate(n=factor(n, levels=1:max(n))) %>%\n",
    "    ggplot() +\n",
    "    geom_bar(aes(x=n), fill=\"lightsteelblue2\") +\n",
    "    xlab(\"Number of Regulatory Features\") + ylab(\"Number of Variants\") +\n",
    "    ggplot_theme\n",
    "\n",
    "p2 <- c.cis.eqtl.vep %>%\n",
    "    dplyr::filter(Feature_type == \"RegulatoryFeature\") %>%\n",
    "    dplyr::select(ID, Feature, BIOTYPE) %>%\n",
    "    unique() %>%\n",
    "    ggplot() +\n",
    "    geom_bar(aes(x=BIOTYPE, fill=BIOTYPE)) +\n",
    "    guides(fill=\"none\") + ylab(\"Number of Regulatory Features\") +\n",
    "    scale_fill_brewer(palette=\"Pastel2\") +\n",
    "    ggplot_theme +\n",
    "    theme(axis.text.x=element_text(angle=30, hjust=1), axis.title.x=element_blank())\n",
    "\n",
    "p1 + p2 + patchwork::plot_layout(widths=c(1, 3))\n",
    "\n",
    "ggsave(\"03_Functional_Interpretation/results/ensembl_vep_n_regulatory_features.pdf\", width=12, height=9)"
   ]
  },
  {
   "cell_type": "code",
   "execution_count": 21,
   "id": "f05b9c0f-89e3-41cf-b1aa-135d645287f1",
   "metadata": {},
   "outputs": [
    {
     "name": "stderr",
     "output_type": "stream",
     "text": [
      "\u001b[1m\u001b[22mStoring counts in `nn`, as `n` already present in input\n",
      "\u001b[36mℹ\u001b[39m Use `name = \"new_name\"` to pick a new name.\n"
     ]
    },
    {
     "data": {
      "text/html": [
       "<table class=\"dataframe\">\n",
       "<caption>A data.frame: 2 × 4</caption>\n",
       "<thead>\n",
       "\t<tr><th scope=col>n</th><th scope=col>nn</th><th scope=col>total</th><th scope=col>prop</th></tr>\n",
       "\t<tr><th scope=col>&lt;int&gt;</th><th scope=col>&lt;int&gt;</th><th scope=col>&lt;int&gt;</th><th scope=col>&lt;dbl&gt;</th></tr>\n",
       "</thead>\n",
       "<tbody>\n",
       "\t<tr><td>1</td><td>4326</td><td>4687</td><td>0.92297845</td></tr>\n",
       "\t<tr><td>2</td><td> 361</td><td>4687</td><td>0.07702155</td></tr>\n",
       "</tbody>\n",
       "</table>\n"
      ],
      "text/latex": [
       "A data.frame: 2 × 4\n",
       "\\begin{tabular}{llll}\n",
       " n & nn & total & prop\\\\\n",
       " <int> & <int> & <int> & <dbl>\\\\\n",
       "\\hline\n",
       "\t 1 & 4326 & 4687 & 0.92297845\\\\\n",
       "\t 2 &  361 & 4687 & 0.07702155\\\\\n",
       "\\end{tabular}\n"
      ],
      "text/markdown": [
       "\n",
       "A data.frame: 2 × 4\n",
       "\n",
       "| n &lt;int&gt; | nn &lt;int&gt; | total &lt;int&gt; | prop &lt;dbl&gt; |\n",
       "|---|---|---|---|\n",
       "| 1 | 4326 | 4687 | 0.92297845 |\n",
       "| 2 |  361 | 4687 | 0.07702155 |\n",
       "\n"
      ],
      "text/plain": [
       "  n nn   total prop      \n",
       "1 1 4326 4687  0.92297845\n",
       "2 2  361 4687  0.07702155"
      ]
     },
     "metadata": {},
     "output_type": "display_data"
    }
   ],
   "source": [
    "c.cis.eqtl.vep %>%\n",
    "    dplyr::filter(Feature_type == \"RegulatoryFeature\") %>%\n",
    "    dplyr::select(ID, Feature) %>%\n",
    "    unique() %>%\n",
    "    dplyr::count(ID) %>%\n",
    "    dplyr::count(n) %>%\n",
    "    dplyr::mutate(total=sum(nn)) %>%\n",
    "    dplyr::mutate(prop=nn / total)"
   ]
  },
  {
   "cell_type": "code",
   "execution_count": 22,
   "id": "8834c39a-2e4f-4328-855d-f70fd3a8f907",
   "metadata": {},
   "outputs": [
    {
     "data": {
      "text/html": [
       "<table class=\"dataframe\">\n",
       "<caption>A data.frame: 6 × 4</caption>\n",
       "<thead>\n",
       "\t<tr><th scope=col>BIOTYPE</th><th scope=col>n</th><th scope=col>total</th><th scope=col>prop</th></tr>\n",
       "\t<tr><th scope=col>&lt;chr&gt;</th><th scope=col>&lt;int&gt;</th><th scope=col>&lt;int&gt;</th><th scope=col>&lt;dbl&gt;</th></tr>\n",
       "</thead>\n",
       "<tbody>\n",
       "\t<tr><td>CTCF_binding_site       </td><td> 869</td><td>5048</td><td>0.17214739</td></tr>\n",
       "\t<tr><td>enhancer                </td><td> 321</td><td>5048</td><td>0.06358954</td></tr>\n",
       "\t<tr><td>open_chromatin_region   </td><td> 185</td><td>5048</td><td>0.03664818</td></tr>\n",
       "\t<tr><td>promoter                </td><td>1787</td><td>5048</td><td>0.35400158</td></tr>\n",
       "\t<tr><td>promoter_flanking_region</td><td>1798</td><td>5048</td><td>0.35618067</td></tr>\n",
       "\t<tr><td>TF_binding_site         </td><td>  88</td><td>5048</td><td>0.01743265</td></tr>\n",
       "</tbody>\n",
       "</table>\n"
      ],
      "text/latex": [
       "A data.frame: 6 × 4\n",
       "\\begin{tabular}{llll}\n",
       " BIOTYPE & n & total & prop\\\\\n",
       " <chr> & <int> & <int> & <dbl>\\\\\n",
       "\\hline\n",
       "\t CTCF\\_binding\\_site        &  869 & 5048 & 0.17214739\\\\\n",
       "\t enhancer                 &  321 & 5048 & 0.06358954\\\\\n",
       "\t open\\_chromatin\\_region    &  185 & 5048 & 0.03664818\\\\\n",
       "\t promoter                 & 1787 & 5048 & 0.35400158\\\\\n",
       "\t promoter\\_flanking\\_region & 1798 & 5048 & 0.35618067\\\\\n",
       "\t TF\\_binding\\_site          &   88 & 5048 & 0.01743265\\\\\n",
       "\\end{tabular}\n"
      ],
      "text/markdown": [
       "\n",
       "A data.frame: 6 × 4\n",
       "\n",
       "| BIOTYPE &lt;chr&gt; | n &lt;int&gt; | total &lt;int&gt; | prop &lt;dbl&gt; |\n",
       "|---|---|---|---|\n",
       "| CTCF_binding_site        |  869 | 5048 | 0.17214739 |\n",
       "| enhancer                 |  321 | 5048 | 0.06358954 |\n",
       "| open_chromatin_region    |  185 | 5048 | 0.03664818 |\n",
       "| promoter                 | 1787 | 5048 | 0.35400158 |\n",
       "| promoter_flanking_region | 1798 | 5048 | 0.35618067 |\n",
       "| TF_binding_site          |   88 | 5048 | 0.01743265 |\n",
       "\n"
      ],
      "text/plain": [
       "  BIOTYPE                  n    total prop      \n",
       "1 CTCF_binding_site         869 5048  0.17214739\n",
       "2 enhancer                  321 5048  0.06358954\n",
       "3 open_chromatin_region     185 5048  0.03664818\n",
       "4 promoter                 1787 5048  0.35400158\n",
       "5 promoter_flanking_region 1798 5048  0.35618067\n",
       "6 TF_binding_site            88 5048  0.01743265"
      ]
     },
     "metadata": {},
     "output_type": "display_data"
    }
   ],
   "source": [
    "c.cis.eqtl.vep %>%\n",
    "    dplyr::filter(Feature_type == \"RegulatoryFeature\") %>%\n",
    "    dplyr::select(ID, Feature, BIOTYPE) %>%\n",
    "    unique() %>%\n",
    "    dplyr::count(BIOTYPE) %>%\n",
    "    dplyr::mutate(total=sum(n)) %>%\n",
    "    dplyr::mutate(prop=n / total)"
   ]
  },
  {
   "cell_type": "markdown",
   "id": "a469b6cf-84d5-4264-8f6d-c3fe11d31578",
   "metadata": {},
   "source": [
    "Some variants are also in motifs. There are 639 motif-modifying variants. These affect 259 motifs, spread across 1716 unique genomic features across the genome."
   ]
  },
  {
   "cell_type": "code",
   "execution_count": 23,
   "id": "99c5df55-ac45-43d5-bd0f-33912da607cc",
   "metadata": {},
   "outputs": [
    {
     "data": {
      "text/html": [
       "639"
      ],
      "text/latex": [
       "639"
      ],
      "text/markdown": [
       "639"
      ],
      "text/plain": [
       "[1] 639"
      ]
     },
     "metadata": {},
     "output_type": "display_data"
    }
   ],
   "source": [
    "c.cis.eqtl.vep %>%\n",
    "    dplyr::filter(Feature_type == \"MotifFeature\") %>%\n",
    "    merge(., ref.map, by=\"ID\") %>%\n",
    "    dplyr::filter(REF == dbSNP_Ref) %>%\n",
    "    dplyr::count(ID) %>%\n",
    "    nrow()"
   ]
  },
  {
   "cell_type": "code",
   "execution_count": 24,
   "id": "fb2133a1-cf93-4b5a-9b0f-cdc156ce7e34",
   "metadata": {},
   "outputs": [
    {
     "data": {
      "text/html": [
       "259"
      ],
      "text/latex": [
       "259"
      ],
      "text/markdown": [
       "259"
      ],
      "text/plain": [
       "[1] 259"
      ]
     },
     "metadata": {},
     "output_type": "display_data"
    }
   ],
   "source": [
    "c.cis.eqtl.vep %>%\n",
    "    dplyr::filter(Feature_type == \"MotifFeature\") %>%\n",
    "    merge(., ref.map, by=\"ID\") %>%\n",
    "    dplyr::filter(REF == dbSNP_Ref) %>%\n",
    "    dplyr::count(MOTIF_NAME) %>%\n",
    "    nrow()"
   ]
  },
  {
   "cell_type": "code",
   "execution_count": 25,
   "id": "addc60f9-6aab-4f19-be57-96fefa0a76db",
   "metadata": {},
   "outputs": [
    {
     "data": {
      "text/html": [
       "1716"
      ],
      "text/latex": [
       "1716"
      ],
      "text/markdown": [
       "1716"
      ],
      "text/plain": [
       "[1] 1716"
      ]
     },
     "metadata": {},
     "output_type": "display_data"
    }
   ],
   "source": [
    "c.cis.eqtl.vep %>%\n",
    "    dplyr::filter(Feature_type == \"MotifFeature\") %>%\n",
    "    merge(., ref.map, by=\"ID\") %>%\n",
    "    dplyr::filter(REF == dbSNP_Ref) %>%\n",
    "    dplyr::count(Feature) %>%\n",
    "    nrow()"
   ]
  },
  {
   "cell_type": "code",
   "execution_count": 28,
   "id": "7d8f3591-fa32-471d-ac2e-82e102cc29f5",
   "metadata": {},
   "outputs": [
    {
     "data": {
      "image/png": "[encoded data removed]",
      "text/plain": [
       "plot without title"
      ]
     },
     "metadata": {
      "image/png": {
       "height": 360,
       "width": 360
      }
     },
     "output_type": "display_data"
    }
   ],
   "source": [
    "options(repr.plot.width=6, repr.plot.height=6)\n",
    "\n",
    "c.cis.eqtl.vep %>%\n",
    "    dplyr::filter(Feature_type == \"MotifFeature\") %>%\n",
    "    merge(., ref.map, by=\"ID\") %>%\n",
    "    dplyr::filter(REF == dbSNP_Ref) %>%\n",
    "    ggplot() +\n",
    "    geom_histogram(aes(x=MOTIF_SCORE_CHANGE), binwidth=0.01, fill=\"royalblue4\") +\n",
    "    xlab(\"Motif Score Change\") + ylab(\"Frequency\") +\n",
    "    ggplot_theme\n",
    "\n",
    "ggsave(\"03_Functional_Interpretation/results/ensembl_vep_motif_score_change.pdf\", width=6, height=6)"
   ]
  },
  {
   "cell_type": "markdown",
   "id": "b9b4f40a-abc9-47a4-98f4-6838f5ea7871",
   "metadata": {
    "tags": []
   },
   "source": [
    "## Module QTL"
   ]
  },
  {
   "cell_type": "markdown",
   "id": "c2a1d4b6-3a09-40b0-98c9-d5746d2f208c",
   "metadata": {},
   "source": [
    "Tables on these features are provided by [McLaren *et al.*](https://doi.org/10.1186/s13059-016-0974-4)."
   ]
  },
  {
   "cell_type": "code",
   "execution_count": 29,
   "id": "0ac6e3d0-a055-42ec-bce2-8a58f9a6c1e2",
   "metadata": {},
   "outputs": [],
   "source": [
    "mqtl.vep <- merge(vep, mqtl, by.x=\"ID\", by.y=\"snp\") %>%\n",
    "    dplyr::select(\n",
    "        ID, Allele, Feature, Consequence,                                    # Index variables\n",
    "        CHROM, POS, REF, ALT,                                                # Variant information\n",
    "        module.qtl, module, pc, qtl.locus,                                   # Module QTL information\n",
    "        Gene, Feature_type, BIOTYPE,                                         # Gene and transcript information\n",
    "        ENSP, UNIPARC, SIFT, PolyPhen,                                       # Protein information\n",
    "        MOTIF_NAME, TRANSCRIPTION_FACTORS, HIGH_INF_POS, MOTIF_SCORE_CHANGE, # Transcription factor information\n",
    "        CLIN_SIG                                                             # Literature annotations\n",
    "    )"
   ]
  },
  {
   "cell_type": "markdown",
   "id": "c38ee8d3-8c97-4345-acfa-f426b10c7463",
   "metadata": {},
   "source": [
    "Of the 76 unique lead module QTL variants, one variant does not have a predicted consequence."
   ]
  },
  {
   "cell_type": "code",
   "execution_count": 30,
   "id": "1e5d16b7-7741-4ad5-8280-9bcbfba2f666",
   "metadata": {},
   "outputs": [
    {
     "data": {
      "text/html": [
       "75"
      ],
      "text/latex": [
       "75"
      ],
      "text/markdown": [
       "75"
      ],
      "text/plain": [
       "[1] 75"
      ]
     },
     "metadata": {},
     "output_type": "display_data"
    },
    {
     "data": {
      "text/html": [
       "76"
      ],
      "text/latex": [
       "76"
      ],
      "text/markdown": [
       "76"
      ],
      "text/plain": [
       "[1] 76"
      ]
     },
     "metadata": {},
     "output_type": "display_data"
    }
   ],
   "source": [
    "mqtl.vep %>%\n",
    "    dplyr::count(ID) %>%\n",
    "    nrow()\n",
    "\n",
    "mqtl %>%\n",
    "    dplyr::count(snp) %>%\n",
    "    nrow()"
   ]
  },
  {
   "cell_type": "markdown",
   "id": "d295265a-e015-48c2-9c6f-8996b23bf266",
   "metadata": {},
   "source": [
    "Variants were predicted to affect between 1 and 4 genes."
   ]
  },
  {
   "cell_type": "code",
   "execution_count": 32,
   "id": "12be4eb4-f17d-4a9c-9043-d1c5a168a863",
   "metadata": {},
   "outputs": [
    {
     "data": {
      "image/png": "[encoded data removed]",
      "text/plain": [
       "plot without title"
      ]
     },
     "metadata": {
      "image/png": {
       "height": 360,
       "width": 360
      }
     },
     "output_type": "display_data"
    }
   ],
   "source": [
    "options(repr.plot.width=6, repr.plot.height=6)\n",
    "\n",
    "mqtl.vep %>%\n",
    "    dplyr::filter(Feature_type == \"Transcript\") %>%\n",
    "    dplyr::select(ID, Gene) %>%\n",
    "    unique() %>%\n",
    "    dplyr::count(ID) %>%\n",
    "    dplyr::mutate(n=factor(n, levels=1:max(n))) %>%\n",
    "    dplyr::count(n, name=\"Frequency\") %>%\n",
    "    ggplot() +\n",
    "    geom_bar(aes(x=n, y=Frequency), stat=\"identity\", fill=\"lightsteelblue2\") +\n",
    "    xlab(\"Number of Genes\") + ylab(\"Frequency\") +\n",
    "    ggplot_theme\n",
    "\n",
    "ggsave(\"03_Functional_Interpretation/results/ensembl_vep_mqtl_n_genes.pdf\", width=6, height=6)"
   ]
  },
  {
   "cell_type": "code",
   "execution_count": 33,
   "id": "af36b00e-4b42-4f29-8cac-b17eff92ec4a",
   "metadata": {},
   "outputs": [
    {
     "name": "stderr",
     "output_type": "stream",
     "text": [
      "\u001b[1m\u001b[22mStoring counts in `nn`, as `n` already present in input\n",
      "\u001b[36mℹ\u001b[39m Use `name = \"new_name\"` to pick a new name.\n"
     ]
    },
    {
     "data": {
      "text/html": [
       "<table class=\"dataframe\">\n",
       "<caption>A data.frame: 4 × 4</caption>\n",
       "<thead>\n",
       "\t<tr><th scope=col>n</th><th scope=col>nn</th><th scope=col>total</th><th scope=col>prop</th></tr>\n",
       "\t<tr><th scope=col>&lt;int&gt;</th><th scope=col>&lt;int&gt;</th><th scope=col>&lt;int&gt;</th><th scope=col>&lt;dbl&gt;</th></tr>\n",
       "</thead>\n",
       "<tbody>\n",
       "\t<tr><td>1</td><td>36</td><td>64</td><td>0.562500</td></tr>\n",
       "\t<tr><td>2</td><td>19</td><td>64</td><td>0.296875</td></tr>\n",
       "\t<tr><td>3</td><td> 6</td><td>64</td><td>0.093750</td></tr>\n",
       "\t<tr><td>4</td><td> 3</td><td>64</td><td>0.046875</td></tr>\n",
       "</tbody>\n",
       "</table>\n"
      ],
      "text/latex": [
       "A data.frame: 4 × 4\n",
       "\\begin{tabular}{llll}\n",
       " n & nn & total & prop\\\\\n",
       " <int> & <int> & <int> & <dbl>\\\\\n",
       "\\hline\n",
       "\t 1 & 36 & 64 & 0.562500\\\\\n",
       "\t 2 & 19 & 64 & 0.296875\\\\\n",
       "\t 3 &  6 & 64 & 0.093750\\\\\n",
       "\t 4 &  3 & 64 & 0.046875\\\\\n",
       "\\end{tabular}\n"
      ],
      "text/markdown": [
       "\n",
       "A data.frame: 4 × 4\n",
       "\n",
       "| n &lt;int&gt; | nn &lt;int&gt; | total &lt;int&gt; | prop &lt;dbl&gt; |\n",
       "|---|---|---|---|\n",
       "| 1 | 36 | 64 | 0.562500 |\n",
       "| 2 | 19 | 64 | 0.296875 |\n",
       "| 3 |  6 | 64 | 0.093750 |\n",
       "| 4 |  3 | 64 | 0.046875 |\n",
       "\n"
      ],
      "text/plain": [
       "  n nn total prop    \n",
       "1 1 36 64    0.562500\n",
       "2 2 19 64    0.296875\n",
       "3 3  6 64    0.093750\n",
       "4 4  3 64    0.046875"
      ]
     },
     "metadata": {},
     "output_type": "display_data"
    }
   ],
   "source": [
    "mqtl.vep %>%\n",
    "    dplyr::filter(Feature_type == \"Transcript\") %>%\n",
    "    dplyr::select(ID, Gene) %>%\n",
    "    unique() %>%\n",
    "    dplyr::count(ID) %>%\n",
    "    dplyr::count(n) %>%\n",
    "    dplyr::mutate(total = sum(nn)) %>%\n",
    "    dplyr::mutate(prop = nn / total)"
   ]
  },
  {
   "cell_type": "markdown",
   "id": "403816bc-a612-4b8f-a65a-87410fb082d7",
   "metadata": {},
   "source": [
    "Why? Maybe those variants are falling in regulatory regions that are not annotated with a gene?"
   ]
  },
  {
   "cell_type": "code",
   "execution_count": 35,
   "id": "43806b53-309c-4960-ab7c-0f64e3c95129",
   "metadata": {},
   "outputs": [
    {
     "data": {
      "image/png": "[encoded data removed]",
      "text/plain": [
       "plot without title"
      ]
     },
     "metadata": {
      "image/png": {
       "height": 540,
       "width": 720
      }
     },
     "output_type": "display_data"
    }
   ],
   "source": [
    "options(repr.plot.width=12, repr.plot.height=9)\n",
    "\n",
    "p1 <- mqtl.vep %>%\n",
    "    dplyr::filter(Feature_type == \"RegulatoryFeature\") %>%\n",
    "    dplyr::select(ID, Feature) %>%\n",
    "    unique() %>%\n",
    "    dplyr::count(ID) %>%\n",
    "    dplyr::mutate(n=factor(n, levels=1:max(n))) %>%\n",
    "    ggplot() +\n",
    "    geom_bar(aes(x=n), fill=\"lightsteelblue2\") +\n",
    "    xlab(\"Number of Regulatory Features\") + ylab(\"Number of Variants\") +\n",
    "    ggplot_theme\n",
    "\n",
    "p2 <- mqtl.vep %>%\n",
    "    dplyr::filter(Feature_type == \"RegulatoryFeature\") %>%\n",
    "    dplyr::select(ID, Feature, BIOTYPE) %>%\n",
    "    unique() %>%\n",
    "    ggplot() +\n",
    "    geom_bar(aes(x=BIOTYPE, fill=BIOTYPE)) +\n",
    "    guides(fill=\"none\") + ylab(\"Number of Regulatory Features\") +\n",
    "    scale_fill_brewer(palette=\"Pastel2\") +\n",
    "    ggplot_theme +\n",
    "    theme(axis.text.x=element_text(angle=30, hjust=1), axis.title.x=element_blank())\n",
    "\n",
    "p1 + p2 + patchwork::plot_layout(widths=c(1, 3))\n",
    "\n",
    "ggsave(\"03_Functional_Interpretation/results/ensembl_vep_mqtl_n_regulatory_features.pdf\", width=12, height=9)"
   ]
  },
  {
   "cell_type": "code",
   "execution_count": 32,
   "id": "730f5252-4911-4e5a-9ebf-bbda9166fc37",
   "metadata": {},
   "outputs": [
    {
     "name": "stderr",
     "output_type": "stream",
     "text": [
      "\u001b[1m\u001b[22mStoring counts in `nn`, as `n` already present in input\n",
      "\u001b[36mℹ\u001b[39m Use `name = \"new_name\"` to pick a new name.\n"
     ]
    },
    {
     "data": {
      "text/html": [
       "<table class=\"dataframe\">\n",
       "<caption>A data.frame: 2 × 4</caption>\n",
       "<thead>\n",
       "\t<tr><th scope=col>n</th><th scope=col>nn</th><th scope=col>total</th><th scope=col>prop</th></tr>\n",
       "\t<tr><th scope=col>&lt;int&gt;</th><th scope=col>&lt;int&gt;</th><th scope=col>&lt;int&gt;</th><th scope=col>&lt;dbl&gt;</th></tr>\n",
       "</thead>\n",
       "<tbody>\n",
       "\t<tr><td>1</td><td>22</td><td>27</td><td>0.8148148</td></tr>\n",
       "\t<tr><td>2</td><td> 5</td><td>27</td><td>0.1851852</td></tr>\n",
       "</tbody>\n",
       "</table>\n"
      ],
      "text/latex": [
       "A data.frame: 2 × 4\n",
       "\\begin{tabular}{llll}\n",
       " n & nn & total & prop\\\\\n",
       " <int> & <int> & <int> & <dbl>\\\\\n",
       "\\hline\n",
       "\t 1 & 22 & 27 & 0.8148148\\\\\n",
       "\t 2 &  5 & 27 & 0.1851852\\\\\n",
       "\\end{tabular}\n"
      ],
      "text/markdown": [
       "\n",
       "A data.frame: 2 × 4\n",
       "\n",
       "| n &lt;int&gt; | nn &lt;int&gt; | total &lt;int&gt; | prop &lt;dbl&gt; |\n",
       "|---|---|---|---|\n",
       "| 1 | 22 | 27 | 0.8148148 |\n",
       "| 2 |  5 | 27 | 0.1851852 |\n",
       "\n"
      ],
      "text/plain": [
       "  n nn total prop     \n",
       "1 1 22 27    0.8148148\n",
       "2 2  5 27    0.1851852"
      ]
     },
     "metadata": {},
     "output_type": "display_data"
    }
   ],
   "source": [
    "mqtl.vep %>%\n",
    "    dplyr::filter(Feature_type == \"RegulatoryFeature\") %>%\n",
    "    dplyr::select(ID, Feature) %>%\n",
    "    unique() %>%\n",
    "    dplyr::count(ID) %>%\n",
    "    dplyr::count(n) %>%\n",
    "    dplyr::mutate(total=sum(nn)) %>%\n",
    "    dplyr::mutate(prop=nn / total)"
   ]
  },
  {
   "cell_type": "code",
   "execution_count": 33,
   "id": "f63fc7a5-1a93-439e-91b2-154e9436da77",
   "metadata": {},
   "outputs": [
    {
     "data": {
      "text/html": [
       "<table class=\"dataframe\">\n",
       "<caption>A data.frame: 6 × 4</caption>\n",
       "<thead>\n",
       "\t<tr><th scope=col>BIOTYPE</th><th scope=col>n</th><th scope=col>total</th><th scope=col>prop</th></tr>\n",
       "\t<tr><th scope=col>&lt;chr&gt;</th><th scope=col>&lt;int&gt;</th><th scope=col>&lt;int&gt;</th><th scope=col>&lt;dbl&gt;</th></tr>\n",
       "</thead>\n",
       "<tbody>\n",
       "\t<tr><td>CTCF_binding_site       </td><td> 6</td><td>32</td><td>0.18750</td></tr>\n",
       "\t<tr><td>enhancer                </td><td> 3</td><td>32</td><td>0.09375</td></tr>\n",
       "\t<tr><td>open_chromatin_region   </td><td> 1</td><td>32</td><td>0.03125</td></tr>\n",
       "\t<tr><td>promoter                </td><td>16</td><td>32</td><td>0.50000</td></tr>\n",
       "\t<tr><td>promoter_flanking_region</td><td> 5</td><td>32</td><td>0.15625</td></tr>\n",
       "\t<tr><td>TF_binding_site         </td><td> 1</td><td>32</td><td>0.03125</td></tr>\n",
       "</tbody>\n",
       "</table>\n"
      ],
      "text/latex": [
       "A data.frame: 6 × 4\n",
       "\\begin{tabular}{llll}\n",
       " BIOTYPE & n & total & prop\\\\\n",
       " <chr> & <int> & <int> & <dbl>\\\\\n",
       "\\hline\n",
       "\t CTCF\\_binding\\_site        &  6 & 32 & 0.18750\\\\\n",
       "\t enhancer                 &  3 & 32 & 0.09375\\\\\n",
       "\t open\\_chromatin\\_region    &  1 & 32 & 0.03125\\\\\n",
       "\t promoter                 & 16 & 32 & 0.50000\\\\\n",
       "\t promoter\\_flanking\\_region &  5 & 32 & 0.15625\\\\\n",
       "\t TF\\_binding\\_site          &  1 & 32 & 0.03125\\\\\n",
       "\\end{tabular}\n"
      ],
      "text/markdown": [
       "\n",
       "A data.frame: 6 × 4\n",
       "\n",
       "| BIOTYPE &lt;chr&gt; | n &lt;int&gt; | total &lt;int&gt; | prop &lt;dbl&gt; |\n",
       "|---|---|---|---|\n",
       "| CTCF_binding_site        |  6 | 32 | 0.18750 |\n",
       "| enhancer                 |  3 | 32 | 0.09375 |\n",
       "| open_chromatin_region    |  1 | 32 | 0.03125 |\n",
       "| promoter                 | 16 | 32 | 0.50000 |\n",
       "| promoter_flanking_region |  5 | 32 | 0.15625 |\n",
       "| TF_binding_site          |  1 | 32 | 0.03125 |\n",
       "\n"
      ],
      "text/plain": [
       "  BIOTYPE                  n  total prop   \n",
       "1 CTCF_binding_site         6 32    0.18750\n",
       "2 enhancer                  3 32    0.09375\n",
       "3 open_chromatin_region     1 32    0.03125\n",
       "4 promoter                 16 32    0.50000\n",
       "5 promoter_flanking_region  5 32    0.15625\n",
       "6 TF_binding_site           1 32    0.03125"
      ]
     },
     "metadata": {},
     "output_type": "display_data"
    }
   ],
   "source": [
    "mqtl.vep %>%\n",
    "    dplyr::filter(Feature_type == \"RegulatoryFeature\") %>%\n",
    "    dplyr::select(ID, Feature, BIOTYPE) %>%\n",
    "    unique() %>%\n",
    "    dplyr::count(BIOTYPE) %>%\n",
    "    dplyr::mutate(total=sum(n)) %>%\n",
    "    dplyr::mutate(prop=n / total)"
   ]
  },
  {
   "cell_type": "markdown",
   "id": "aa7b3457-30b7-45d6-80ae-3f498b253d7b",
   "metadata": {},
   "source": [
    "Some variants are also in motifs. There are 8 motif-modifying variants. These affect 12 motifs for 12 different features."
   ]
  },
  {
   "cell_type": "code",
   "execution_count": 34,
   "id": "1d0afc53-7648-476a-a3b3-72a62311165d",
   "metadata": {},
   "outputs": [
    {
     "data": {
      "text/html": [
       "8"
      ],
      "text/latex": [
       "8"
      ],
      "text/markdown": [
       "8"
      ],
      "text/plain": [
       "[1] 8"
      ]
     },
     "metadata": {},
     "output_type": "display_data"
    }
   ],
   "source": [
    "mqtl.vep %>%\n",
    "    dplyr::filter(Feature_type == \"MotifFeature\") %>%\n",
    "    merge(., ref.map, by=\"ID\") %>%\n",
    "    dplyr::filter(REF == dbSNP_Ref) %>%\n",
    "    dplyr::count(ID) %>%\n",
    "    nrow()"
   ]
  },
  {
   "cell_type": "code",
   "execution_count": 35,
   "id": "747893c6-da6a-4d06-81c4-bad156d0f857",
   "metadata": {},
   "outputs": [
    {
     "data": {
      "text/html": [
       "12"
      ],
      "text/latex": [
       "12"
      ],
      "text/markdown": [
       "12"
      ],
      "text/plain": [
       "[1] 12"
      ]
     },
     "metadata": {},
     "output_type": "display_data"
    }
   ],
   "source": [
    "mqtl.vep %>%\n",
    "    dplyr::filter(Feature_type == \"MotifFeature\") %>%\n",
    "    merge(., ref.map, by=\"ID\") %>%\n",
    "    dplyr::filter(REF == dbSNP_Ref) %>%\n",
    "    dplyr::count(MOTIF_NAME) %>%\n",
    "    nrow()"
   ]
  },
  {
   "cell_type": "code",
   "execution_count": 36,
   "id": "02b42b0f-2a0f-4cd3-bbfd-8509b542590c",
   "metadata": {},
   "outputs": [
    {
     "data": {
      "text/html": [
       "12"
      ],
      "text/latex": [
       "12"
      ],
      "text/markdown": [
       "12"
      ],
      "text/plain": [
       "[1] 12"
      ]
     },
     "metadata": {},
     "output_type": "display_data"
    }
   ],
   "source": [
    "mqtl.vep %>%\n",
    "    dplyr::filter(Feature_type == \"MotifFeature\") %>%\n",
    "    merge(., ref.map, by=\"ID\") %>%\n",
    "    dplyr::filter(REF == dbSNP_Ref) %>%\n",
    "    dplyr::count(Feature) %>%\n",
    "    nrow()"
   ]
  },
  {
   "cell_type": "code",
   "execution_count": 64,
   "id": "76eedb79-b265-4412-b737-8641ac692c59",
   "metadata": {},
   "outputs": [
    {
     "data": {
      "text/html": [
       "<table class=\"dataframe\">\n",
       "<caption>A data.frame: 12 × 7</caption>\n",
       "<thead>\n",
       "\t<tr><th scope=col>ID</th><th scope=col>module.qtl</th><th scope=col>Feature</th><th scope=col>MOTIF_NAME</th><th scope=col>TRANSCRIPTION_FACTORS</th><th scope=col>HIGH_INF_POS</th><th scope=col>MOTIF_SCORE_CHANGE</th></tr>\n",
       "\t<tr><th scope=col>&lt;chr&gt;</th><th scope=col>&lt;chr&gt;</th><th scope=col>&lt;chr&gt;</th><th scope=col>&lt;chr&gt;</th><th scope=col>&lt;chr&gt;</th><th scope=col>&lt;chr&gt;</th><th scope=col>&lt;dbl&gt;</th></tr>\n",
       "</thead>\n",
       "<tbody>\n",
       "\t<tr><td>rs1131017 </td><td>ME_101_3-12:54985643-57100037</td><td>ENSM00206477208</td><td>ENSPFM0212</td><td><span style=white-space:pre-wrap>GATA3&amp;GATA5&amp;GATA4                                                                                                  </span></td><td>Y</td><td>-0.169</td></tr>\n",
       "\t<tr><td>rs4761234 </td><td>ME_103_3-12:68275923-70376531</td><td>ENSM00522191985</td><td>ENSPFM0289</td><td>HNF4A                                                                                                              </td><td>Y</td><td>-0.059</td></tr>\n",
       "\t<tr><td>rs1132812 </td><td>ME_61_3-16:29176355-31186829 </td><td>ENSM00522283907</td><td>ENSPFM0139</td><td><span style=white-space:pre-wrap>ETV2::DLX3&amp;HOXB2::ELF1&amp;HOXB2::ELK3                                                                                 </span></td><td>N</td><td>-0.015</td></tr>\n",
       "\t<tr><td>rs1023252 </td><td>ME_62_4-1:10790946-12845916  </td><td>ENSM00523275582</td><td>ENSPFM0238</td><td>GCM1::MAX                                                                                                          </td><td>N</td><td>-0.028</td></tr>\n",
       "\t<tr><td>rs1023252 </td><td><span style=white-space:pre-wrap>ME_62_4-1:10790946-12845916  </span></td><td>ENSM00200080579</td><td>ENSPFM0120</td><td><span style=white-space:pre-wrap>ERF::MAX&amp;FLI1::MAX                                                                                                 </span></td><td>N</td><td>-0.025</td></tr>\n",
       "\t<tr><td>rs1023252 </td><td>ME_62_4-1:10790946-12845916  </td><td>ENSM00523627421</td><td>ENSPFM0401</td><td>MYBL1::MAX                                                                                                         </td><td>N</td><td>-0.018</td></tr>\n",
       "\t<tr><td>rs1023252 </td><td>ME_62_4-1:10790946-12845916  </td><td>ENSM00200213036</td><td>ENSPFM0564</td><td>TEAD4::MAX                                                                                                         </td><td>N</td><td>-0.027</td></tr>\n",
       "\t<tr><td>rs7191618 </td><td>ME_91_2-16:27319469-29953394 </td><td>ENSM00525404278</td><td>ENSPFM0150</td><td>ETV2::HOXA2&amp;FLI1::DLX2&amp;HOXB2::ELF1&amp;HOXB2::ELK3&amp;ETV2::DRGX&amp;ELK1::HOXA1&amp;FLI1::DRGX&amp;ETV5::DRGX&amp;ETV5::HOXA2&amp;HOXB2::ELK1</td><td>N</td><td> 0.016</td></tr>\n",
       "\t<tr><td>rs11130192</td><td>ME_94_5-3:47689679-50854451  </td><td>ENSM00148106969</td><td>ENSPFM0451</td><td>POU2F1::ELK1                                                                                                       </td><td>Y</td><td>-0.094</td></tr>\n",
       "\t<tr><td>rs11130192</td><td>ME_94_5-3:47689679-50854451  </td><td>ENSM00178560258</td><td>ENSPFM0573</td><td>TEAD4::RFX5                                                                                                        </td><td>N</td><td> 0.001</td></tr>\n",
       "\t<tr><td>rs4759187 </td><td>ME_96_1-12:54681479-56681478 </td><td>ENSM00199696873</td><td>ENSPFM0595</td><td>TFAP2C::MAX                                                                                                        </td><td>N</td><td>-0.008</td></tr>\n",
       "\t<tr><td>rs13430254</td><td><span style=white-space:pre-wrap>ME_97_5-2:71210372-73281337  </span></td><td>ENSM00205211818</td><td>ENSPFM0134</td><td><span style=white-space:pre-wrap>ETV2::CEBPD&amp;ETV2::TEF&amp;ERF::CEBPD&amp;ELK1::TEF&amp;FLI1::CEBPB&amp;FLI1::CEBPD&amp;ETV5::CEBPD                                     </span></td><td>N</td><td> 0.071</td></tr>\n",
       "</tbody>\n",
       "</table>\n"
      ],
      "text/latex": [
       "A data.frame: 12 × 7\n",
       "\\begin{tabular}{lllllll}\n",
       " ID & module.qtl & Feature & MOTIF\\_NAME & TRANSCRIPTION\\_FACTORS & HIGH\\_INF\\_POS & MOTIF\\_SCORE\\_CHANGE\\\\\n",
       " <chr> & <chr> & <chr> & <chr> & <chr> & <chr> & <dbl>\\\\\n",
       "\\hline\n",
       "\t rs1131017  & ME\\_101\\_3-12:54985643-57100037 & ENSM00206477208 & ENSPFM0212 & GATA3\\&GATA5\\&GATA4                                                                                                   & Y & -0.169\\\\\n",
       "\t rs4761234  & ME\\_103\\_3-12:68275923-70376531 & ENSM00522191985 & ENSPFM0289 & HNF4A                                                                                                               & Y & -0.059\\\\\n",
       "\t rs1132812  & ME\\_61\\_3-16:29176355-31186829  & ENSM00522283907 & ENSPFM0139 & ETV2::DLX3\\&HOXB2::ELF1\\&HOXB2::ELK3                                                                                  & N & -0.015\\\\\n",
       "\t rs1023252  & ME\\_62\\_4-1:10790946-12845916   & ENSM00523275582 & ENSPFM0238 & GCM1::MAX                                                                                                           & N & -0.028\\\\\n",
       "\t rs1023252  & ME\\_62\\_4-1:10790946-12845916   & ENSM00200080579 & ENSPFM0120 & ERF::MAX\\&FLI1::MAX                                                                                                  & N & -0.025\\\\\n",
       "\t rs1023252  & ME\\_62\\_4-1:10790946-12845916   & ENSM00523627421 & ENSPFM0401 & MYBL1::MAX                                                                                                          & N & -0.018\\\\\n",
       "\t rs1023252  & ME\\_62\\_4-1:10790946-12845916   & ENSM00200213036 & ENSPFM0564 & TEAD4::MAX                                                                                                          & N & -0.027\\\\\n",
       "\t rs7191618  & ME\\_91\\_2-16:27319469-29953394  & ENSM00525404278 & ENSPFM0150 & ETV2::HOXA2\\&FLI1::DLX2\\&HOXB2::ELF1\\&HOXB2::ELK3\\&ETV2::DRGX\\&ELK1::HOXA1\\&FLI1::DRGX\\&ETV5::DRGX\\&ETV5::HOXA2\\&HOXB2::ELK1 & N &  0.016\\\\\n",
       "\t rs11130192 & ME\\_94\\_5-3:47689679-50854451   & ENSM00148106969 & ENSPFM0451 & POU2F1::ELK1                                                                                                        & Y & -0.094\\\\\n",
       "\t rs11130192 & ME\\_94\\_5-3:47689679-50854451   & ENSM00178560258 & ENSPFM0573 & TEAD4::RFX5                                                                                                         & N &  0.001\\\\\n",
       "\t rs4759187  & ME\\_96\\_1-12:54681479-56681478  & ENSM00199696873 & ENSPFM0595 & TFAP2C::MAX                                                                                                         & N & -0.008\\\\\n",
       "\t rs13430254 & ME\\_97\\_5-2:71210372-73281337   & ENSM00205211818 & ENSPFM0134 & ETV2::CEBPD\\&ETV2::TEF\\&ERF::CEBPD\\&ELK1::TEF\\&FLI1::CEBPB\\&FLI1::CEBPD\\&ETV5::CEBPD                                      & N &  0.071\\\\\n",
       "\\end{tabular}\n"
      ],
      "text/markdown": [
       "\n",
       "A data.frame: 12 × 7\n",
       "\n",
       "| ID &lt;chr&gt; | module.qtl &lt;chr&gt; | Feature &lt;chr&gt; | MOTIF_NAME &lt;chr&gt; | TRANSCRIPTION_FACTORS &lt;chr&gt; | HIGH_INF_POS &lt;chr&gt; | MOTIF_SCORE_CHANGE &lt;dbl&gt; |\n",
       "|---|---|---|---|---|---|---|\n",
       "| rs1131017  | ME_101_3-12:54985643-57100037 | ENSM00206477208 | ENSPFM0212 | GATA3&amp;GATA5&amp;GATA4                                                                                                   | Y | -0.169 |\n",
       "| rs4761234  | ME_103_3-12:68275923-70376531 | ENSM00522191985 | ENSPFM0289 | HNF4A                                                                                                               | Y | -0.059 |\n",
       "| rs1132812  | ME_61_3-16:29176355-31186829  | ENSM00522283907 | ENSPFM0139 | ETV2::DLX3&amp;HOXB2::ELF1&amp;HOXB2::ELK3                                                                                  | N | -0.015 |\n",
       "| rs1023252  | ME_62_4-1:10790946-12845916   | ENSM00523275582 | ENSPFM0238 | GCM1::MAX                                                                                                           | N | -0.028 |\n",
       "| rs1023252  | ME_62_4-1:10790946-12845916   | ENSM00200080579 | ENSPFM0120 | ERF::MAX&amp;FLI1::MAX                                                                                                  | N | -0.025 |\n",
       "| rs1023252  | ME_62_4-1:10790946-12845916   | ENSM00523627421 | ENSPFM0401 | MYBL1::MAX                                                                                                          | N | -0.018 |\n",
       "| rs1023252  | ME_62_4-1:10790946-12845916   | ENSM00200213036 | ENSPFM0564 | TEAD4::MAX                                                                                                          | N | -0.027 |\n",
       "| rs7191618  | ME_91_2-16:27319469-29953394  | ENSM00525404278 | ENSPFM0150 | ETV2::HOXA2&amp;FLI1::DLX2&amp;HOXB2::ELF1&amp;HOXB2::ELK3&amp;ETV2::DRGX&amp;ELK1::HOXA1&amp;FLI1::DRGX&amp;ETV5::DRGX&amp;ETV5::HOXA2&amp;HOXB2::ELK1 | N |  0.016 |\n",
       "| rs11130192 | ME_94_5-3:47689679-50854451   | ENSM00148106969 | ENSPFM0451 | POU2F1::ELK1                                                                                                        | Y | -0.094 |\n",
       "| rs11130192 | ME_94_5-3:47689679-50854451   | ENSM00178560258 | ENSPFM0573 | TEAD4::RFX5                                                                                                         | N |  0.001 |\n",
       "| rs4759187  | ME_96_1-12:54681479-56681478  | ENSM00199696873 | ENSPFM0595 | TFAP2C::MAX                                                                                                         | N | -0.008 |\n",
       "| rs13430254 | ME_97_5-2:71210372-73281337   | ENSM00205211818 | ENSPFM0134 | ETV2::CEBPD&amp;ETV2::TEF&amp;ERF::CEBPD&amp;ELK1::TEF&amp;FLI1::CEBPB&amp;FLI1::CEBPD&amp;ETV5::CEBPD                                      | N |  0.071 |\n",
       "\n"
      ],
      "text/plain": [
       "   ID         module.qtl                    Feature         MOTIF_NAME\n",
       "1  rs1131017  ME_101_3-12:54985643-57100037 ENSM00206477208 ENSPFM0212\n",
       "2  rs4761234  ME_103_3-12:68275923-70376531 ENSM00522191985 ENSPFM0289\n",
       "3  rs1132812  ME_61_3-16:29176355-31186829  ENSM00522283907 ENSPFM0139\n",
       "4  rs1023252  ME_62_4-1:10790946-12845916   ENSM00523275582 ENSPFM0238\n",
       "5  rs1023252  ME_62_4-1:10790946-12845916   ENSM00200080579 ENSPFM0120\n",
       "6  rs1023252  ME_62_4-1:10790946-12845916   ENSM00523627421 ENSPFM0401\n",
       "7  rs1023252  ME_62_4-1:10790946-12845916   ENSM00200213036 ENSPFM0564\n",
       "8  rs7191618  ME_91_2-16:27319469-29953394  ENSM00525404278 ENSPFM0150\n",
       "9  rs11130192 ME_94_5-3:47689679-50854451   ENSM00148106969 ENSPFM0451\n",
       "10 rs11130192 ME_94_5-3:47689679-50854451   ENSM00178560258 ENSPFM0573\n",
       "11 rs4759187  ME_96_1-12:54681479-56681478  ENSM00199696873 ENSPFM0595\n",
       "12 rs13430254 ME_97_5-2:71210372-73281337   ENSM00205211818 ENSPFM0134\n",
       "   TRANSCRIPTION_FACTORS                                                                                              \n",
       "1  GATA3&GATA5&GATA4                                                                                                  \n",
       "2  HNF4A                                                                                                              \n",
       "3  ETV2::DLX3&HOXB2::ELF1&HOXB2::ELK3                                                                                 \n",
       "4  GCM1::MAX                                                                                                          \n",
       "5  ERF::MAX&FLI1::MAX                                                                                                 \n",
       "6  MYBL1::MAX                                                                                                         \n",
       "7  TEAD4::MAX                                                                                                         \n",
       "8  ETV2::HOXA2&FLI1::DLX2&HOXB2::ELF1&HOXB2::ELK3&ETV2::DRGX&ELK1::HOXA1&FLI1::DRGX&ETV5::DRGX&ETV5::HOXA2&HOXB2::ELK1\n",
       "9  POU2F1::ELK1                                                                                                       \n",
       "10 TEAD4::RFX5                                                                                                        \n",
       "11 TFAP2C::MAX                                                                                                        \n",
       "12 ETV2::CEBPD&ETV2::TEF&ERF::CEBPD&ELK1::TEF&FLI1::CEBPB&FLI1::CEBPD&ETV5::CEBPD                                     \n",
       "   HIGH_INF_POS MOTIF_SCORE_CHANGE\n",
       "1  Y            -0.169            \n",
       "2  Y            -0.059            \n",
       "3  N            -0.015            \n",
       "4  N            -0.028            \n",
       "5  N            -0.025            \n",
       "6  N            -0.018            \n",
       "7  N            -0.027            \n",
       "8  N             0.016            \n",
       "9  Y            -0.094            \n",
       "10 N             0.001            \n",
       "11 N            -0.008            \n",
       "12 N             0.071            "
      ]
     },
     "metadata": {},
     "output_type": "display_data"
    }
   ],
   "source": [
    "mqtl.vep %>%\n",
    "    dplyr::filter(Feature_type == \"MotifFeature\") %>%\n",
    "    merge(., ref.map, by=\"ID\") %>%\n",
    "    dplyr::filter(REF == dbSNP_Ref) %>%\n",
    "    dplyr::select(ID, module.qtl, Feature, MOTIF_NAME, TRANSCRIPTION_FACTORS, HIGH_INF_POS, MOTIF_SCORE_CHANGE) %>%\n",
    "    dplyr::arrange(module.qtl)"
   ]
  },
  {
   "cell_type": "markdown",
   "id": "6b7bf053-601d-4039-87b7-46ea5a4c243a",
   "metadata": {
    "tags": []
   },
   "source": [
    "## Cis-pQTL"
   ]
  },
  {
   "cell_type": "markdown",
   "id": "160858e7-e3f9-48d3-981e-d5ac6f09b75b",
   "metadata": {},
   "source": [
    "Tables on these features are provided by [McLaren *et al.*](https://doi.org/10.1186/s13059-016-0974-4)."
   ]
  },
  {
   "cell_type": "code",
   "execution_count": 38,
   "id": "96643cc7-b00f-4c24-b4d8-f4b4ecfaebc5",
   "metadata": {},
   "outputs": [],
   "source": [
    "cis.pqtl.vep <- merge(vep, cis.pqtl, by.x=\"ID\", by.y=\"SNP\") %>%\n",
    "    dplyr::select(\n",
    "        ID, Allele, Feature, Consequence,                                    # Index variables\n",
    "        CHROM, POS, REF, ALT,                                                # Variant information\n",
    "        pGene=Gene.y,                                                        # pQTL information\n",
    "        Gene=Gene.x, Feature_type, BIOTYPE,                                  # Gene and transcript information\n",
    "        ENSP, UNIPARC, SIFT, PolyPhen,                                       # Protein information\n",
    "        MOTIF_NAME, TRANSCRIPTION_FACTORS, HIGH_INF_POS, MOTIF_SCORE_CHANGE, # Transcription factor information\n",
    "        CLIN_SIG                                                             # Literature annotations\n",
    "    )"
   ]
  },
  {
   "cell_type": "markdown",
   "id": "27bb429d-01d4-4d0e-bedb-9e2c10328baf",
   "metadata": {},
   "source": [
    "All 23 lead pQTL variants had a predicted consequence."
   ]
  },
  {
   "cell_type": "code",
   "execution_count": 39,
   "id": "19a423bb-8192-413c-a015-676c8799390b",
   "metadata": {},
   "outputs": [
    {
     "data": {
      "text/html": [
       "23"
      ],
      "text/latex": [
       "23"
      ],
      "text/markdown": [
       "23"
      ],
      "text/plain": [
       "[1] 23"
      ]
     },
     "metadata": {},
     "output_type": "display_data"
    },
    {
     "data": {
      "text/html": [
       "23"
      ],
      "text/latex": [
       "23"
      ],
      "text/markdown": [
       "23"
      ],
      "text/plain": [
       "[1] 23"
      ]
     },
     "metadata": {},
     "output_type": "display_data"
    }
   ],
   "source": [
    "cis.pqtl.vep %>%\n",
    "    dplyr::count(ID) %>%\n",
    "    nrow()\n",
    "\n",
    "cis.pqtl %>%\n",
    "    dplyr::count(SNP) %>%\n",
    "    nrow()"
   ]
  },
  {
   "cell_type": "markdown",
   "id": "436dc8d4-4241-498b-8499-20c1794c871b",
   "metadata": {},
   "source": [
    "Most variants had a predicted consequence on one gene. Surprisingly, many of the predicted consequences were not for the actual eGene. Only 6351 (44.4%) of variants had a predicted consequence on the eGene."
   ]
  },
  {
   "cell_type": "code",
   "execution_count": 40,
   "id": "1fdd3eef-f9fd-4ad8-977e-664dedcc8987",
   "metadata": {},
   "outputs": [
    {
     "data": {
      "image/png": "[encoded data removed]",
      "text/plain": [
       "plot without title"
      ]
     },
     "metadata": {
      "image/png": {
       "height": 540,
       "width": 480
      }
     },
     "output_type": "display_data"
    }
   ],
   "source": [
    "options(repr.plot.width=8, repr.plot.height=9)\n",
    "\n",
    "cis.pqtl.vep %>%\n",
    "    dplyr::filter(Feature_type == \"Transcript\") %>%\n",
    "    dplyr::select(ID, Gene, pGene) %>%\n",
    "    unique() %>%\n",
    "    dplyr::group_by(ID, pGene) %>%\n",
    "    dplyr::summarize(Matches = c(\"No\", \"Yes\")[as.numeric(any(pGene == Gene)) + 1], n=n(), .groups=\"drop\") %>%\n",
    "    dplyr::mutate(n=factor(n, levels=1:max(n))) %>%\n",
    "    dplyr::count(n, Matches, name=\"Frequency\") %>%\n",
    "    ggplot() +\n",
    "    geom_bar(aes(x=n, y=Frequency, fill=Matches), stat=\"identity\") +\n",
    "    scale_fill_brewer(\"eGene Present\", palette=\"Pastel1\") +\n",
    "    xlab(\"Number of Genes\") + ylab(\"Frequency\") +\n",
    "    ggplot_theme\n",
    "\n",
    "# ggsave(\"03_Functional_Interpretation/results/ensembl_vep_n_genes.svg\", width=8, height=9)"
   ]
  },
  {
   "cell_type": "code",
   "execution_count": 41,
   "id": "1c73cc23-17e7-44e5-a74c-d9bcd08b268c",
   "metadata": {},
   "outputs": [
    {
     "name": "stderr",
     "output_type": "stream",
     "text": [
      "\u001b[1m\u001b[22mStoring counts in `nn`, as `n` already present in input\n",
      "\u001b[36mℹ\u001b[39m Use `name = \"new_name\"` to pick a new name.\n"
     ]
    },
    {
     "data": {
      "text/html": [
       "<table class=\"dataframe\">\n",
       "<caption>A data.frame: 3 × 4</caption>\n",
       "<thead>\n",
       "\t<tr><th scope=col>n</th><th scope=col>nn</th><th scope=col>total</th><th scope=col>prop</th></tr>\n",
       "\t<tr><th scope=col>&lt;int&gt;</th><th scope=col>&lt;int&gt;</th><th scope=col>&lt;int&gt;</th><th scope=col>&lt;dbl&gt;</th></tr>\n",
       "</thead>\n",
       "<tbody>\n",
       "\t<tr><td>1</td><td>13</td><td>21</td><td>0.61904762</td></tr>\n",
       "\t<tr><td>2</td><td> 7</td><td>21</td><td>0.33333333</td></tr>\n",
       "\t<tr><td>4</td><td> 1</td><td>21</td><td>0.04761905</td></tr>\n",
       "</tbody>\n",
       "</table>\n"
      ],
      "text/latex": [
       "A data.frame: 3 × 4\n",
       "\\begin{tabular}{llll}\n",
       " n & nn & total & prop\\\\\n",
       " <int> & <int> & <int> & <dbl>\\\\\n",
       "\\hline\n",
       "\t 1 & 13 & 21 & 0.61904762\\\\\n",
       "\t 2 &  7 & 21 & 0.33333333\\\\\n",
       "\t 4 &  1 & 21 & 0.04761905\\\\\n",
       "\\end{tabular}\n"
      ],
      "text/markdown": [
       "\n",
       "A data.frame: 3 × 4\n",
       "\n",
       "| n &lt;int&gt; | nn &lt;int&gt; | total &lt;int&gt; | prop &lt;dbl&gt; |\n",
       "|---|---|---|---|\n",
       "| 1 | 13 | 21 | 0.61904762 |\n",
       "| 2 |  7 | 21 | 0.33333333 |\n",
       "| 4 |  1 | 21 | 0.04761905 |\n",
       "\n"
      ],
      "text/plain": [
       "  n nn total prop      \n",
       "1 1 13 21    0.61904762\n",
       "2 2  7 21    0.33333333\n",
       "3 4  1 21    0.04761905"
      ]
     },
     "metadata": {},
     "output_type": "display_data"
    }
   ],
   "source": [
    "cis.pqtl.vep %>%\n",
    "    dplyr::filter(Feature_type == \"Transcript\") %>%\n",
    "    dplyr::select(ID, Gene) %>%\n",
    "    unique() %>%\n",
    "    dplyr::count(ID) %>%\n",
    "    dplyr::count(n) %>%\n",
    "    dplyr::mutate(total = sum(nn)) %>%\n",
    "    dplyr::mutate(prop = nn / total)"
   ]
  },
  {
   "cell_type": "code",
   "execution_count": 42,
   "id": "d94b924a-29fe-4a86-b363-ecec8c0cfc04",
   "metadata": {},
   "outputs": [
    {
     "data": {
      "text/html": [
       "<table class=\"dataframe\">\n",
       "<caption>A tibble: 2 × 3</caption>\n",
       "<thead>\n",
       "\t<tr><th scope=col>Matches</th><th scope=col>n</th><th scope=col>Prop</th></tr>\n",
       "\t<tr><th scope=col>&lt;lgl&gt;</th><th scope=col>&lt;int&gt;</th><th scope=col>&lt;dbl&gt;</th></tr>\n",
       "</thead>\n",
       "<tbody>\n",
       "\t<tr><td>FALSE</td><td> 6</td><td>0.2857143</td></tr>\n",
       "\t<tr><td> TRUE</td><td>15</td><td>0.7142857</td></tr>\n",
       "</tbody>\n",
       "</table>\n"
      ],
      "text/latex": [
       "A tibble: 2 × 3\n",
       "\\begin{tabular}{lll}\n",
       " Matches & n & Prop\\\\\n",
       " <lgl> & <int> & <dbl>\\\\\n",
       "\\hline\n",
       "\t FALSE &  6 & 0.2857143\\\\\n",
       "\t  TRUE & 15 & 0.7142857\\\\\n",
       "\\end{tabular}\n"
      ],
      "text/markdown": [
       "\n",
       "A tibble: 2 × 3\n",
       "\n",
       "| Matches &lt;lgl&gt; | n &lt;int&gt; | Prop &lt;dbl&gt; |\n",
       "|---|---|---|\n",
       "| FALSE |  6 | 0.2857143 |\n",
       "|  TRUE | 15 | 0.7142857 |\n",
       "\n"
      ],
      "text/plain": [
       "  Matches n  Prop     \n",
       "1 FALSE    6 0.2857143\n",
       "2  TRUE   15 0.7142857"
      ]
     },
     "metadata": {},
     "output_type": "display_data"
    }
   ],
   "source": [
    "cis.pqtl.vep %>%\n",
    "    dplyr::filter(Feature_type == \"Transcript\") %>%\n",
    "    dplyr::select(ID, pGene, Gene) %>%\n",
    "    dplyr::group_by(ID, pGene) %>%\n",
    "    dplyr::summarize(Matches = any(pGene == Gene), .groups=\"drop\") %>%\n",
    "    dplyr::count(Matches) %>%\n",
    "    dplyr::mutate(Prop=n / sum(n))"
   ]
  },
  {
   "cell_type": "markdown",
   "id": "c6607025-0d11-43d6-953e-4f4a09ae8296",
   "metadata": {},
   "source": [
    "Why? Maybe those variants are falling in regulatory regions that are not annotated with a gene?"
   ]
  },
  {
   "cell_type": "code",
   "execution_count": 43,
   "id": "17ef68a8-5508-4fea-bc52-d7da379909d4",
   "metadata": {},
   "outputs": [
    {
     "data": {
      "image/png": "[encoded data removed]",
      "text/plain": [
       "plot without title"
      ]
     },
     "metadata": {
      "image/png": {
       "height": 540,
       "width": 720
      }
     },
     "output_type": "display_data"
    }
   ],
   "source": [
    "options(repr.plot.width=12, repr.plot.height=9)\n",
    "\n",
    "p1 <- cis.pqtl.vep %>%\n",
    "    dplyr::filter(Feature_type == \"RegulatoryFeature\") %>%\n",
    "    dplyr::select(ID, Feature) %>%\n",
    "    unique() %>%\n",
    "    dplyr::count(ID) %>%\n",
    "    dplyr::mutate(n=factor(n, levels=1:max(n))) %>%\n",
    "    ggplot() +\n",
    "    geom_bar(aes(x=n), fill=\"lightsteelblue2\") +\n",
    "    xlab(\"Number of Regulatory Features\") + ylab(\"Number of Variants\") +\n",
    "    ggplot_theme\n",
    "\n",
    "p2 <- cis.pqtl.vep %>%\n",
    "    dplyr::filter(Feature_type == \"RegulatoryFeature\") %>%\n",
    "    dplyr::select(ID, Feature, BIOTYPE) %>%\n",
    "    unique() %>%\n",
    "    ggplot() +\n",
    "    geom_bar(aes(x=BIOTYPE, fill=BIOTYPE)) +\n",
    "    guides(fill=\"none\") + ylab(\"Number of Regulatory Features\") +\n",
    "    scale_fill_brewer(palette=\"Pastel2\") +\n",
    "    ggplot_theme +\n",
    "    theme(axis.text.x=element_text(angle=30, hjust=1), axis.title.x=element_blank())\n",
    "\n",
    "p1 + p2 + patchwork::plot_layout(widths=c(1, 3))\n",
    "\n",
    "# ggsave(\"03_Functional_Interpretation/results/ensembl_vep_n_regulatory_features.svg\", width=12, height=9)"
   ]
  },
  {
   "cell_type": "code",
   "execution_count": 44,
   "id": "cecf845f-0301-4cea-84e6-63a8812004dd",
   "metadata": {},
   "outputs": [
    {
     "name": "stderr",
     "output_type": "stream",
     "text": [
      "\u001b[1m\u001b[22mStoring counts in `nn`, as `n` already present in input\n",
      "\u001b[36mℹ\u001b[39m Use `name = \"new_name\"` to pick a new name.\n"
     ]
    },
    {
     "data": {
      "text/html": [
       "<table class=\"dataframe\">\n",
       "<caption>A data.frame: 2 × 4</caption>\n",
       "<thead>\n",
       "\t<tr><th scope=col>n</th><th scope=col>nn</th><th scope=col>total</th><th scope=col>prop</th></tr>\n",
       "\t<tr><th scope=col>&lt;int&gt;</th><th scope=col>&lt;int&gt;</th><th scope=col>&lt;int&gt;</th><th scope=col>&lt;dbl&gt;</th></tr>\n",
       "</thead>\n",
       "<tbody>\n",
       "\t<tr><td>1</td><td>4</td><td>6</td><td>0.6666667</td></tr>\n",
       "\t<tr><td>2</td><td>2</td><td>6</td><td>0.3333333</td></tr>\n",
       "</tbody>\n",
       "</table>\n"
      ],
      "text/latex": [
       "A data.frame: 2 × 4\n",
       "\\begin{tabular}{llll}\n",
       " n & nn & total & prop\\\\\n",
       " <int> & <int> & <int> & <dbl>\\\\\n",
       "\\hline\n",
       "\t 1 & 4 & 6 & 0.6666667\\\\\n",
       "\t 2 & 2 & 6 & 0.3333333\\\\\n",
       "\\end{tabular}\n"
      ],
      "text/markdown": [
       "\n",
       "A data.frame: 2 × 4\n",
       "\n",
       "| n &lt;int&gt; | nn &lt;int&gt; | total &lt;int&gt; | prop &lt;dbl&gt; |\n",
       "|---|---|---|---|\n",
       "| 1 | 4 | 6 | 0.6666667 |\n",
       "| 2 | 2 | 6 | 0.3333333 |\n",
       "\n"
      ],
      "text/plain": [
       "  n nn total prop     \n",
       "1 1 4  6     0.6666667\n",
       "2 2 2  6     0.3333333"
      ]
     },
     "metadata": {},
     "output_type": "display_data"
    }
   ],
   "source": [
    "cis.pqtl.vep %>%\n",
    "    dplyr::filter(Feature_type == \"RegulatoryFeature\") %>%\n",
    "    dplyr::select(ID, Feature) %>%\n",
    "    unique() %>%\n",
    "    dplyr::count(ID) %>%\n",
    "    dplyr::count(n) %>%\n",
    "    dplyr::mutate(total=sum(nn)) %>%\n",
    "    dplyr::mutate(prop=nn / total)"
   ]
  },
  {
   "cell_type": "code",
   "execution_count": 45,
   "id": "cc06d8d9-70cd-42fe-87ec-c0313e770c93",
   "metadata": {},
   "outputs": [
    {
     "data": {
      "text/html": [
       "<table class=\"dataframe\">\n",
       "<caption>A data.frame: 2 × 4</caption>\n",
       "<thead>\n",
       "\t<tr><th scope=col>BIOTYPE</th><th scope=col>n</th><th scope=col>total</th><th scope=col>prop</th></tr>\n",
       "\t<tr><th scope=col>&lt;chr&gt;</th><th scope=col>&lt;int&gt;</th><th scope=col>&lt;int&gt;</th><th scope=col>&lt;dbl&gt;</th></tr>\n",
       "</thead>\n",
       "<tbody>\n",
       "\t<tr><td>CTCF_binding_site       </td><td>2</td><td>8</td><td>0.25</td></tr>\n",
       "\t<tr><td>promoter_flanking_region</td><td>6</td><td>8</td><td>0.75</td></tr>\n",
       "</tbody>\n",
       "</table>\n"
      ],
      "text/latex": [
       "A data.frame: 2 × 4\n",
       "\\begin{tabular}{llll}\n",
       " BIOTYPE & n & total & prop\\\\\n",
       " <chr> & <int> & <int> & <dbl>\\\\\n",
       "\\hline\n",
       "\t CTCF\\_binding\\_site        & 2 & 8 & 0.25\\\\\n",
       "\t promoter\\_flanking\\_region & 6 & 8 & 0.75\\\\\n",
       "\\end{tabular}\n"
      ],
      "text/markdown": [
       "\n",
       "A data.frame: 2 × 4\n",
       "\n",
       "| BIOTYPE &lt;chr&gt; | n &lt;int&gt; | total &lt;int&gt; | prop &lt;dbl&gt; |\n",
       "|---|---|---|---|\n",
       "| CTCF_binding_site        | 2 | 8 | 0.25 |\n",
       "| promoter_flanking_region | 6 | 8 | 0.75 |\n",
       "\n"
      ],
      "text/plain": [
       "  BIOTYPE                  n total prop\n",
       "1 CTCF_binding_site        2 8     0.25\n",
       "2 promoter_flanking_region 6 8     0.75"
      ]
     },
     "metadata": {},
     "output_type": "display_data"
    }
   ],
   "source": [
    "cis.pqtl.vep %>%\n",
    "    dplyr::filter(Feature_type == \"RegulatoryFeature\") %>%\n",
    "    dplyr::select(ID, Feature, BIOTYPE) %>%\n",
    "    unique() %>%\n",
    "    dplyr::count(BIOTYPE) %>%\n",
    "    dplyr::mutate(total=sum(n)) %>%\n",
    "    dplyr::mutate(prop=n / total)"
   ]
  },
  {
   "cell_type": "markdown",
   "id": "1d73db07-9fc7-4e10-8704-ecfd5a269caa",
   "metadata": {},
   "source": [
    "Some variants are also in motifs."
   ]
  },
  {
   "cell_type": "code",
   "execution_count": 46,
   "id": "65b1f072-b926-4381-bbec-b550e61e4cae",
   "metadata": {},
   "outputs": [
    {
     "data": {
      "text/html": [
       "<table class=\"dataframe\">\n",
       "<caption>A data.frame: 3 × 2</caption>\n",
       "<thead>\n",
       "\t<tr><th scope=col>Feature_type</th><th scope=col>n</th></tr>\n",
       "\t<tr><th scope=col>&lt;chr&gt;</th><th scope=col>&lt;int&gt;</th></tr>\n",
       "</thead>\n",
       "<tbody>\n",
       "\t<tr><td>RegulatoryFeature</td><td> 16</td></tr>\n",
       "\t<tr><td>Transcript       </td><td>476</td></tr>\n",
       "\t<tr><td>NA               </td><td>  4</td></tr>\n",
       "</tbody>\n",
       "</table>\n"
      ],
      "text/latex": [
       "A data.frame: 3 × 2\n",
       "\\begin{tabular}{ll}\n",
       " Feature\\_type & n\\\\\n",
       " <chr> & <int>\\\\\n",
       "\\hline\n",
       "\t RegulatoryFeature &  16\\\\\n",
       "\t Transcript        & 476\\\\\n",
       "\t NA                &   4\\\\\n",
       "\\end{tabular}\n"
      ],
      "text/markdown": [
       "\n",
       "A data.frame: 3 × 2\n",
       "\n",
       "| Feature_type &lt;chr&gt; | n &lt;int&gt; |\n",
       "|---|---|\n",
       "| RegulatoryFeature |  16 |\n",
       "| Transcript        | 476 |\n",
       "| NA                |   4 |\n",
       "\n"
      ],
      "text/plain": [
       "  Feature_type      n  \n",
       "1 RegulatoryFeature  16\n",
       "2 Transcript        476\n",
       "3 NA                  4"
      ]
     },
     "metadata": {},
     "output_type": "display_data"
    }
   ],
   "source": [
    "cis.pqtl.vep %>%\n",
    "    dplyr::count(Feature_type)"
   ]
  },
  {
   "cell_type": "markdown",
   "id": "94bffc05-8e1d-422e-b434-e6a6f936911b",
   "metadata": {
    "tags": []
   },
   "source": [
    "## Trans-pQTL"
   ]
  },
  {
   "cell_type": "markdown",
   "id": "71d4fe05-f529-41c9-8a09-aea610f56b7a",
   "metadata": {},
   "source": [
    "Tables on these features are provided by [McLaren *et al.*](https://doi.org/10.1186/s13059-016-0974-4)."
   ]
  },
  {
   "cell_type": "code",
   "execution_count": 50,
   "id": "d0e2388b-6e7d-4785-9322-13454b922d6c",
   "metadata": {},
   "outputs": [],
   "source": [
    "trans.pqtl.vep <- merge(vep, trans.pqtl, by.x=\"ID\", by.y=\"SNP\") %>%\n",
    "    dplyr::select(\n",
    "        ID, Allele, Feature, Consequence,                                    # Index variables\n",
    "        CHROM, POS, REF, ALT,                                                # Variant information\n",
    "        pGene=pQTL_Protein,                                                  # pQTL information\n",
    "        Gene=Gene, Feature_type, BIOTYPE,                                    # Gene and transcript information\n",
    "        ENSP, UNIPARC, SIFT, PolyPhen,                                       # Protein information\n",
    "        MOTIF_NAME, TRANSCRIPTION_FACTORS, HIGH_INF_POS, MOTIF_SCORE_CHANGE, # Transcription factor information\n",
    "        CLIN_SIG                                                             # Literature annotations\n",
    "    )"
   ]
  },
  {
   "cell_type": "markdown",
   "id": "119c8b1e-ca97-43a8-9f20-f2a1b9852ee4",
   "metadata": {},
   "source": [
    "4 of the 6 trans-pQTL have a predicted consequence"
   ]
  },
  {
   "cell_type": "code",
   "execution_count": 51,
   "id": "8458fc47-da61-4b2d-a31f-0a660379b44f",
   "metadata": {},
   "outputs": [
    {
     "data": {
      "text/html": [
       "4"
      ],
      "text/latex": [
       "4"
      ],
      "text/markdown": [
       "4"
      ],
      "text/plain": [
       "[1] 4"
      ]
     },
     "metadata": {},
     "output_type": "display_data"
    },
    {
     "data": {
      "text/html": [
       "6"
      ],
      "text/latex": [
       "6"
      ],
      "text/markdown": [
       "6"
      ],
      "text/plain": [
       "[1] 6"
      ]
     },
     "metadata": {},
     "output_type": "display_data"
    }
   ],
   "source": [
    "trans.pqtl.vep %>%\n",
    "    dplyr::count(ID) %>%\n",
    "    nrow()\n",
    "\n",
    "trans.pqtl %>%\n",
    "    dplyr::count(SNP) %>%\n",
    "    nrow()"
   ]
  },
  {
   "cell_type": "code",
   "execution_count": 59,
   "id": "9ab35828-3828-4a57-ae68-a3318bd47c96",
   "metadata": {},
   "outputs": [
    {
     "data": {
      "text/html": [
       "<table class=\"dataframe\">\n",
       "<caption>A data.frame: 22 × 5</caption>\n",
       "<thead>\n",
       "\t<tr><th scope=col>CHROM</th><th scope=col>pGene</th><th scope=col>ID</th><th scope=col>Gene</th><th scope=col>Consequence</th></tr>\n",
       "\t<tr><th scope=col>&lt;int&gt;</th><th scope=col>&lt;chr&gt;</th><th scope=col>&lt;chr&gt;</th><th scope=col>&lt;chr&gt;</th><th scope=col>&lt;chr&gt;</th></tr>\n",
       "</thead>\n",
       "<tbody>\n",
       "\t<tr><td> 8</td><td>P35858</td><td>rs16917722</td><td>ENSG00000253773</td><td>intron_variant               </td></tr>\n",
       "\t<tr><td> 8</td><td>P35858</td><td>rs16917722</td><td>ENSG00000253773</td><td>non_coding_transcript_variant</td></tr>\n",
       "\t<tr><td>14</td><td>P00751</td><td>rs11846959</td><td>ENSG00000197249</td><td>intron_variant               </td></tr>\n",
       "\t<tr><td>14</td><td>P02787</td><td>rs11846959</td><td>ENSG00000197249</td><td>intron_variant               </td></tr>\n",
       "\t<tr><td>14</td><td>P00751</td><td>rs11846959</td><td>ENSG00000197249</td><td>NMD_transcript_variant       </td></tr>\n",
       "\t<tr><td>14</td><td>P02787</td><td>rs11846959</td><td>ENSG00000197249</td><td>NMD_transcript_variant       </td></tr>\n",
       "\t<tr><td>14</td><td>P00751</td><td>rs11846959</td><td>ENSG00000197249</td><td>downstream_gene_variant      </td></tr>\n",
       "\t<tr><td>14</td><td>P02787</td><td>rs11846959</td><td>ENSG00000197249</td><td>downstream_gene_variant      </td></tr>\n",
       "\t<tr><td>14</td><td>Q92954</td><td>rs28929474</td><td>ENSG00000197249</td><td>missense_variant             </td></tr>\n",
       "\t<tr><td>14</td><td>Q92954</td><td>rs28929474</td><td>ENSG00000197249</td><td>downstream_gene_variant      </td></tr>\n",
       "\t<tr><td>14</td><td>Q92954</td><td>rs28929474</td><td>ENSG00000197249</td><td>3_prime_UTR_variant          </td></tr>\n",
       "\t<tr><td>14</td><td>Q92954</td><td>rs28929474</td><td>ENSG00000197249</td><td>NMD_transcript_variant       </td></tr>\n",
       "\t<tr><td>16</td><td>P10909</td><td>rs9302635 </td><td>ENSG00000118557</td><td>downstream_gene_variant      </td></tr>\n",
       "\t<tr><td>16</td><td>P19827</td><td>rs9302635 </td><td>ENSG00000118557</td><td>downstream_gene_variant      </td></tr>\n",
       "\t<tr><td>16</td><td>P10909</td><td>rs9302635 </td><td>ENSG00000140829</td><td>non_coding_transcript_variant</td></tr>\n",
       "\t<tr><td>16</td><td>P19827</td><td>rs9302635 </td><td>ENSG00000140829</td><td>non_coding_transcript_variant</td></tr>\n",
       "\t<tr><td>16</td><td>P10909</td><td>rs9302635 </td><td>ENSG00000140829</td><td>intron_variant               </td></tr>\n",
       "\t<tr><td>16</td><td>P19827</td><td>rs9302635 </td><td>ENSG00000140829</td><td>intron_variant               </td></tr>\n",
       "\t<tr><td>16</td><td>P10909</td><td>rs9302635 </td><td>ENSG00000140829</td><td>downstream_gene_variant      </td></tr>\n",
       "\t<tr><td>16</td><td>P19827</td><td>rs9302635 </td><td>ENSG00000140829</td><td>downstream_gene_variant      </td></tr>\n",
       "\t<tr><td>16</td><td>P10909</td><td>rs9302635 </td><td>ENSG00000140829</td><td>NMD_transcript_variant       </td></tr>\n",
       "\t<tr><td>16</td><td>P19827</td><td>rs9302635 </td><td>ENSG00000140829</td><td>NMD_transcript_variant       </td></tr>\n",
       "</tbody>\n",
       "</table>\n"
      ],
      "text/latex": [
       "A data.frame: 22 × 5\n",
       "\\begin{tabular}{lllll}\n",
       " CHROM & pGene & ID & Gene & Consequence\\\\\n",
       " <int> & <chr> & <chr> & <chr> & <chr>\\\\\n",
       "\\hline\n",
       "\t  8 & P35858 & rs16917722 & ENSG00000253773 & intron\\_variant               \\\\\n",
       "\t  8 & P35858 & rs16917722 & ENSG00000253773 & non\\_coding\\_transcript\\_variant\\\\\n",
       "\t 14 & P00751 & rs11846959 & ENSG00000197249 & intron\\_variant               \\\\\n",
       "\t 14 & P02787 & rs11846959 & ENSG00000197249 & intron\\_variant               \\\\\n",
       "\t 14 & P00751 & rs11846959 & ENSG00000197249 & NMD\\_transcript\\_variant       \\\\\n",
       "\t 14 & P02787 & rs11846959 & ENSG00000197249 & NMD\\_transcript\\_variant       \\\\\n",
       "\t 14 & P00751 & rs11846959 & ENSG00000197249 & downstream\\_gene\\_variant      \\\\\n",
       "\t 14 & P02787 & rs11846959 & ENSG00000197249 & downstream\\_gene\\_variant      \\\\\n",
       "\t 14 & Q92954 & rs28929474 & ENSG00000197249 & missense\\_variant             \\\\\n",
       "\t 14 & Q92954 & rs28929474 & ENSG00000197249 & downstream\\_gene\\_variant      \\\\\n",
       "\t 14 & Q92954 & rs28929474 & ENSG00000197249 & 3\\_prime\\_UTR\\_variant          \\\\\n",
       "\t 14 & Q92954 & rs28929474 & ENSG00000197249 & NMD\\_transcript\\_variant       \\\\\n",
       "\t 16 & P10909 & rs9302635  & ENSG00000118557 & downstream\\_gene\\_variant      \\\\\n",
       "\t 16 & P19827 & rs9302635  & ENSG00000118557 & downstream\\_gene\\_variant      \\\\\n",
       "\t 16 & P10909 & rs9302635  & ENSG00000140829 & non\\_coding\\_transcript\\_variant\\\\\n",
       "\t 16 & P19827 & rs9302635  & ENSG00000140829 & non\\_coding\\_transcript\\_variant\\\\\n",
       "\t 16 & P10909 & rs9302635  & ENSG00000140829 & intron\\_variant               \\\\\n",
       "\t 16 & P19827 & rs9302635  & ENSG00000140829 & intron\\_variant               \\\\\n",
       "\t 16 & P10909 & rs9302635  & ENSG00000140829 & downstream\\_gene\\_variant      \\\\\n",
       "\t 16 & P19827 & rs9302635  & ENSG00000140829 & downstream\\_gene\\_variant      \\\\\n",
       "\t 16 & P10909 & rs9302635  & ENSG00000140829 & NMD\\_transcript\\_variant       \\\\\n",
       "\t 16 & P19827 & rs9302635  & ENSG00000140829 & NMD\\_transcript\\_variant       \\\\\n",
       "\\end{tabular}\n"
      ],
      "text/markdown": [
       "\n",
       "A data.frame: 22 × 5\n",
       "\n",
       "| CHROM &lt;int&gt; | pGene &lt;chr&gt; | ID &lt;chr&gt; | Gene &lt;chr&gt; | Consequence &lt;chr&gt; |\n",
       "|---|---|---|---|---|\n",
       "|  8 | P35858 | rs16917722 | ENSG00000253773 | intron_variant                |\n",
       "|  8 | P35858 | rs16917722 | ENSG00000253773 | non_coding_transcript_variant |\n",
       "| 14 | P00751 | rs11846959 | ENSG00000197249 | intron_variant                |\n",
       "| 14 | P02787 | rs11846959 | ENSG00000197249 | intron_variant                |\n",
       "| 14 | P00751 | rs11846959 | ENSG00000197249 | NMD_transcript_variant        |\n",
       "| 14 | P02787 | rs11846959 | ENSG00000197249 | NMD_transcript_variant        |\n",
       "| 14 | P00751 | rs11846959 | ENSG00000197249 | downstream_gene_variant       |\n",
       "| 14 | P02787 | rs11846959 | ENSG00000197249 | downstream_gene_variant       |\n",
       "| 14 | Q92954 | rs28929474 | ENSG00000197249 | missense_variant              |\n",
       "| 14 | Q92954 | rs28929474 | ENSG00000197249 | downstream_gene_variant       |\n",
       "| 14 | Q92954 | rs28929474 | ENSG00000197249 | 3_prime_UTR_variant           |\n",
       "| 14 | Q92954 | rs28929474 | ENSG00000197249 | NMD_transcript_variant        |\n",
       "| 16 | P10909 | rs9302635  | ENSG00000118557 | downstream_gene_variant       |\n",
       "| 16 | P19827 | rs9302635  | ENSG00000118557 | downstream_gene_variant       |\n",
       "| 16 | P10909 | rs9302635  | ENSG00000140829 | non_coding_transcript_variant |\n",
       "| 16 | P19827 | rs9302635  | ENSG00000140829 | non_coding_transcript_variant |\n",
       "| 16 | P10909 | rs9302635  | ENSG00000140829 | intron_variant                |\n",
       "| 16 | P19827 | rs9302635  | ENSG00000140829 | intron_variant                |\n",
       "| 16 | P10909 | rs9302635  | ENSG00000140829 | downstream_gene_variant       |\n",
       "| 16 | P19827 | rs9302635  | ENSG00000140829 | downstream_gene_variant       |\n",
       "| 16 | P10909 | rs9302635  | ENSG00000140829 | NMD_transcript_variant        |\n",
       "| 16 | P19827 | rs9302635  | ENSG00000140829 | NMD_transcript_variant        |\n",
       "\n"
      ],
      "text/plain": [
       "   CHROM pGene  ID         Gene            Consequence                  \n",
       "1   8    P35858 rs16917722 ENSG00000253773 intron_variant               \n",
       "2   8    P35858 rs16917722 ENSG00000253773 non_coding_transcript_variant\n",
       "3  14    P00751 rs11846959 ENSG00000197249 intron_variant               \n",
       "4  14    P02787 rs11846959 ENSG00000197249 intron_variant               \n",
       "5  14    P00751 rs11846959 ENSG00000197249 NMD_transcript_variant       \n",
       "6  14    P02787 rs11846959 ENSG00000197249 NMD_transcript_variant       \n",
       "7  14    P00751 rs11846959 ENSG00000197249 downstream_gene_variant      \n",
       "8  14    P02787 rs11846959 ENSG00000197249 downstream_gene_variant      \n",
       "9  14    Q92954 rs28929474 ENSG00000197249 missense_variant             \n",
       "10 14    Q92954 rs28929474 ENSG00000197249 downstream_gene_variant      \n",
       "11 14    Q92954 rs28929474 ENSG00000197249 3_prime_UTR_variant          \n",
       "12 14    Q92954 rs28929474 ENSG00000197249 NMD_transcript_variant       \n",
       "13 16    P10909 rs9302635  ENSG00000118557 downstream_gene_variant      \n",
       "14 16    P19827 rs9302635  ENSG00000118557 downstream_gene_variant      \n",
       "15 16    P10909 rs9302635  ENSG00000140829 non_coding_transcript_variant\n",
       "16 16    P19827 rs9302635  ENSG00000140829 non_coding_transcript_variant\n",
       "17 16    P10909 rs9302635  ENSG00000140829 intron_variant               \n",
       "18 16    P19827 rs9302635  ENSG00000140829 intron_variant               \n",
       "19 16    P10909 rs9302635  ENSG00000140829 downstream_gene_variant      \n",
       "20 16    P19827 rs9302635  ENSG00000140829 downstream_gene_variant      \n",
       "21 16    P10909 rs9302635  ENSG00000140829 NMD_transcript_variant       \n",
       "22 16    P19827 rs9302635  ENSG00000140829 NMD_transcript_variant       "
      ]
     },
     "metadata": {},
     "output_type": "display_data"
    }
   ],
   "source": [
    "trans.pqtl.vep %>%\n",
    "    dplyr::filter(Feature_type == \"Transcript\") %>%\n",
    "    dplyr::select(CHROM, pGene, ID, Gene, Consequence) %>%\n",
    "    unique() %>%\n",
    "    dplyr::arrange(CHROM, Gene)"
   ]
  },
  {
   "cell_type": "code",
   "execution_count": 63,
   "id": "e977482b-6b90-42c7-951c-66cd233547e2",
   "metadata": {},
   "outputs": [
    {
     "data": {
      "text/html": [
       "<table class=\"dataframe\">\n",
       "<caption>A data.frame: 1 × 2</caption>\n",
       "<thead>\n",
       "\t<tr><th scope=col>Feature_type</th><th scope=col>n</th></tr>\n",
       "\t<tr><th scope=col>&lt;chr&gt;</th><th scope=col>&lt;int&gt;</th></tr>\n",
       "</thead>\n",
       "<tbody>\n",
       "\t<tr><td>Transcript</td><td>172</td></tr>\n",
       "</tbody>\n",
       "</table>\n"
      ],
      "text/latex": [
       "A data.frame: 1 × 2\n",
       "\\begin{tabular}{ll}\n",
       " Feature\\_type & n\\\\\n",
       " <chr> & <int>\\\\\n",
       "\\hline\n",
       "\t Transcript & 172\\\\\n",
       "\\end{tabular}\n"
      ],
      "text/markdown": [
       "\n",
       "A data.frame: 1 × 2\n",
       "\n",
       "| Feature_type &lt;chr&gt; | n &lt;int&gt; |\n",
       "|---|---|\n",
       "| Transcript | 172 |\n",
       "\n"
      ],
      "text/plain": [
       "  Feature_type n  \n",
       "1 Transcript   172"
      ]
     },
     "metadata": {},
     "output_type": "display_data"
    }
   ],
   "source": [
    "trans.pqtl.vep %>%\n",
    "    dplyr::count(Feature_type)"
   ]
  },
  {
   "cell_type": "code",
   "execution_count": null,
   "id": "b52b7ba7-05ba-4db8-982d-09f743da599c",
   "metadata": {},
   "outputs": [],
   "source": []
  }
 ],
 "metadata": {
  "kernelspec": {
   "display_name": "R",
   "language": "R",
   "name": "ir"
  },
  "language_info": {
   "codemirror_mode": "r",
   "file_extension": ".r",
   "mimetype": "text/x-r-source",
   "name": "R",
   "pygments_lexer": "r",
   "version": "4.0.5"
  }
 },
 "nbformat": 4,
 "nbformat_minor": 5
}
