{
 "cells": [
  {
   "cell_type": "markdown",
   "id": "6bad966e-e9ce-40d4-9384-ea315bf090ff",
   "metadata": {},
   "source": [
    "# Differential Peak Shape\n",
    "\n",
    "**Created**: 24 April 2022"
   ]
  },
  {
   "cell_type": "markdown",
   "id": "e7ef08b9-7969-442a-b637-436037a5dd02",
   "metadata": {},
   "source": [
    "## Environment"
   ]
  },
  {
   "cell_type": "code",
   "execution_count": 1,
   "id": "20a7c265-01ba-46ea-bcc6-e8b8913b68f6",
   "metadata": {},
   "outputs": [],
   "source": [
    "if (!requireNamespace(\"limma\", quietly=TRUE)) {\n",
    "    BiocManager::install(\"limma\")\n",
    "}"
   ]
  },
  {
   "cell_type": "code",
   "execution_count": 2,
   "id": "23046242-0ea5-4179-8cbc-e1dd4db840d8",
   "metadata": {},
   "outputs": [
    {
     "name": "stderr",
     "output_type": "stream",
     "text": [
      "── \u001b[1mAttaching packages\u001b[22m ───────────────────────────────────────────────────────────────────────────────────────────── tidyverse 1.3.1 ──\n",
      "\n",
      "\u001b[32m✔\u001b[39m \u001b[34mggplot2\u001b[39m 3.3.5     \u001b[32m✔\u001b[39m \u001b[34mpurrr  \u001b[39m 0.3.4\n",
      "\u001b[32m✔\u001b[39m \u001b[34mtibble \u001b[39m 3.1.6     \u001b[32m✔\u001b[39m \u001b[34mdplyr  \u001b[39m 1.0.8\n",
      "\u001b[32m✔\u001b[39m \u001b[34mtidyr  \u001b[39m 1.2.0     \u001b[32m✔\u001b[39m \u001b[34mstringr\u001b[39m 1.4.0\n",
      "\u001b[32m✔\u001b[39m \u001b[34mreadr  \u001b[39m 2.1.1     \u001b[32m✔\u001b[39m \u001b[34mforcats\u001b[39m 0.5.1\n",
      "\n",
      "── \u001b[1mConflicts\u001b[22m ──────────────────────────────────────────────────────────────────────────────────────────────── tidyverse_conflicts() ──\n",
      "\u001b[31m✖\u001b[39m \u001b[34mdplyr\u001b[39m::\u001b[32mfilter()\u001b[39m masks \u001b[34mstats\u001b[39m::filter()\n",
      "\u001b[31m✖\u001b[39m \u001b[34mdplyr\u001b[39m::\u001b[32mlag()\u001b[39m    masks \u001b[34mstats\u001b[39m::lag()\n",
      "\n",
      "\n",
      "Attaching package: ‘data.table’\n",
      "\n",
      "\n",
      "The following objects are masked from ‘package:dplyr’:\n",
      "\n",
      "    between, first, last\n",
      "\n",
      "\n",
      "The following object is masked from ‘package:purrr’:\n",
      "\n",
      "    transpose\n",
      "\n",
      "\n"
     ]
    }
   ],
   "source": [
    "library(tidyverse)\n",
    "library(data.table)\n",
    "library(limma)\n",
    "\n",
    "setwd(\"~/eQTL_pQTL_Characterization/\")\n",
    "\n",
    "source(\"03_Functional_Interpretation/scripts/utils/ggplot_theme.R\")"
   ]
  },
  {
   "cell_type": "markdown",
   "id": "f2dedcb7-0014-4605-8238-f4fa5841bcb2",
   "metadata": {},
   "source": [
    "## Load Data"
   ]
  },
  {
   "cell_type": "code",
   "execution_count": 3,
   "id": "68ffde4e-5300-4529-8b1f-b3aa64800fb9",
   "metadata": {},
   "outputs": [],
   "source": [
    "shape.features <- fread(\"/nfs/users/nfs_n/nm18/gains_team282/epigenetics/regulation/immune/shape_features/consensus_shape_features.csv\")"
   ]
  },
  {
   "cell_type": "code",
   "execution_count": 4,
   "id": "0b973c38-8a68-4db5-9c97-931b7f7d484f",
   "metadata": {},
   "outputs": [
    {
     "data": {
      "text/html": [
       "<style>\n",
       ".list-inline {list-style: none; margin:0; padding: 0}\n",
       ".list-inline>li {display: inline-block}\n",
       ".list-inline>li:not(:last-child)::after {content: \"\\00b7\"; padding: 0 .5ex}\n",
       "</style>\n",
       "<ol class=list-inline><li>181</li><li>296576</li></ol>\n"
      ],
      "text/latex": [
       "\\begin{enumerate*}\n",
       "\\item 181\n",
       "\\item 296576\n",
       "\\end{enumerate*}\n"
      ],
      "text/markdown": [
       "1. 181\n",
       "2. 296576\n",
       "\n",
       "\n"
      ],
      "text/plain": [
       "[1]    181 296576"
      ]
     },
     "metadata": {},
     "output_type": "display_data"
    }
   ],
   "source": [
    "dim(shape.features)"
   ]
  },
  {
   "cell_type": "code",
   "execution_count": 5,
   "id": "5fd51eb2-cec3-4ecd-a76e-e7ba599b6610",
   "metadata": {},
   "outputs": [],
   "source": [
    "tss.enrichment.scores <- read.table(\"/nfs/users/nfs_n/nm18/gains_team282/epigenetics/accessibility/analysis/atac_seq/tss_enrichment_scores.tsv\", header=T)"
   ]
  },
  {
   "cell_type": "code",
   "execution_count": 6,
   "id": "a41b7094-cf7f-4a31-8a99-b5be9c0cc0d1",
   "metadata": {},
   "outputs": [
    {
     "data": {
      "text/html": [
       "<table class=\"dataframe\">\n",
       "<caption>A data.frame: 6 × 2</caption>\n",
       "<thead>\n",
       "\t<tr><th></th><th scope=col>Sample</th><th scope=col>TSS_Enrichment_Score</th></tr>\n",
       "\t<tr><th></th><th scope=col>&lt;chr&gt;</th><th scope=col>&lt;dbl&gt;</th></tr>\n",
       "</thead>\n",
       "<tbody>\n",
       "\t<tr><th scope=row>1</th><td>Calderon-1001-Memory_Teffs-Control                </td><td>35.71484</td></tr>\n",
       "\t<tr><th scope=row>2</th><td>Calderon-1001-Myeloid_DCs-Control                 </td><td>24.90297</td></tr>\n",
       "\t<tr><th scope=row>3</th><td>Calderon-1003-CD8pos_T-Treatment_1                </td><td>24.91672</td></tr>\n",
       "\t<tr><th scope=row>4</th><td>Calderon-1001-Regulatory_T-Control                </td><td>30.79065</td></tr>\n",
       "\t<tr><th scope=row>5</th><td>Calderon-1003-Effector_memory_CD8pos_T-Treatment_1</td><td>31.39529</td></tr>\n",
       "\t<tr><th scope=row>6</th><td>Calderon-1001-Memory_Tregs-Control                </td><td>35.20552</td></tr>\n",
       "</tbody>\n",
       "</table>\n"
      ],
      "text/latex": [
       "A data.frame: 6 × 2\n",
       "\\begin{tabular}{r|ll}\n",
       "  & Sample & TSS\\_Enrichment\\_Score\\\\\n",
       "  & <chr> & <dbl>\\\\\n",
       "\\hline\n",
       "\t1 & Calderon-1001-Memory\\_Teffs-Control                 & 35.71484\\\\\n",
       "\t2 & Calderon-1001-Myeloid\\_DCs-Control                  & 24.90297\\\\\n",
       "\t3 & Calderon-1003-CD8pos\\_T-Treatment\\_1                 & 24.91672\\\\\n",
       "\t4 & Calderon-1001-Regulatory\\_T-Control                 & 30.79065\\\\\n",
       "\t5 & Calderon-1003-Effector\\_memory\\_CD8pos\\_T-Treatment\\_1 & 31.39529\\\\\n",
       "\t6 & Calderon-1001-Memory\\_Tregs-Control                 & 35.20552\\\\\n",
       "\\end{tabular}\n"
      ],
      "text/markdown": [
       "\n",
       "A data.frame: 6 × 2\n",
       "\n",
       "| <!--/--> | Sample &lt;chr&gt; | TSS_Enrichment_Score &lt;dbl&gt; |\n",
       "|---|---|---|\n",
       "| 1 | Calderon-1001-Memory_Teffs-Control                 | 35.71484 |\n",
       "| 2 | Calderon-1001-Myeloid_DCs-Control                  | 24.90297 |\n",
       "| 3 | Calderon-1003-CD8pos_T-Treatment_1                 | 24.91672 |\n",
       "| 4 | Calderon-1001-Regulatory_T-Control                 | 30.79065 |\n",
       "| 5 | Calderon-1003-Effector_memory_CD8pos_T-Treatment_1 | 31.39529 |\n",
       "| 6 | Calderon-1001-Memory_Tregs-Control                 | 35.20552 |\n",
       "\n"
      ],
      "text/plain": [
       "  Sample                                             TSS_Enrichment_Score\n",
       "1 Calderon-1001-Memory_Teffs-Control                 35.71484            \n",
       "2 Calderon-1001-Myeloid_DCs-Control                  24.90297            \n",
       "3 Calderon-1003-CD8pos_T-Treatment_1                 24.91672            \n",
       "4 Calderon-1001-Regulatory_T-Control                 30.79065            \n",
       "5 Calderon-1003-Effector_memory_CD8pos_T-Treatment_1 31.39529            \n",
       "6 Calderon-1001-Memory_Tregs-Control                 35.20552            "
      ]
     },
     "metadata": {},
     "output_type": "display_data"
    }
   ],
   "source": [
    "head(tss.enrichment.scores)"
   ]
  },
  {
   "cell_type": "code",
   "execution_count": 7,
   "id": "f44dae83-b4ef-4c04-879d-06872fc654c3",
   "metadata": {},
   "outputs": [],
   "source": [
    "atac.meta <- read.csv(\"/nfs/users/nfs_n/nm18/eQTL_pQTL_Characterization/03_Functional_Interpretation/metadata/reads_atac_seq.txt\")"
   ]
  },
  {
   "cell_type": "code",
   "execution_count": 8,
   "id": "ee30a4c3-5187-4d42-941a-d11155acee46",
   "metadata": {},
   "outputs": [
    {
     "data": {
      "text/html": [
       "<table class=\"dataframe\">\n",
       "<caption>A data.frame: 6 × 27</caption>\n",
       "<thead>\n",
       "\t<tr><th></th><th scope=col>Run</th><th scope=col>Group.ID</th><th scope=col>Sample.ID</th><th scope=col>Donor</th><th scope=col>Lineage</th><th scope=col>Cell_type</th><th scope=col>Stimulated</th><th scope=col>Treatment</th><th scope=col>Replicate</th><th scope=col>Assay.Type</th><th scope=col>⋯</th><th scope=col>Experiment</th><th scope=col>Instrument</th><th scope=col>LibraryLayout</th><th scope=col>LibrarySelection</th><th scope=col>LibrarySource</th><th scope=col>Organism</th><th scope=col>Platform</th><th scope=col>ReleaseDate</th><th scope=col>Sample.Name</th><th scope=col>SRA.Study</th></tr>\n",
       "\t<tr><th></th><th scope=col>&lt;chr&gt;</th><th scope=col>&lt;chr&gt;</th><th scope=col>&lt;chr&gt;</th><th scope=col>&lt;chr&gt;</th><th scope=col>&lt;chr&gt;</th><th scope=col>&lt;chr&gt;</th><th scope=col>&lt;lgl&gt;</th><th scope=col>&lt;chr&gt;</th><th scope=col>&lt;int&gt;</th><th scope=col>&lt;chr&gt;</th><th scope=col>⋯</th><th scope=col>&lt;chr&gt;</th><th scope=col>&lt;chr&gt;</th><th scope=col>&lt;chr&gt;</th><th scope=col>&lt;chr&gt;</th><th scope=col>&lt;chr&gt;</th><th scope=col>&lt;chr&gt;</th><th scope=col>&lt;chr&gt;</th><th scope=col>&lt;chr&gt;</th><th scope=col>&lt;chr&gt;</th><th scope=col>&lt;chr&gt;</th></tr>\n",
       "</thead>\n",
       "<tbody>\n",
       "\t<tr><th scope=row>1</th><td>SRR2920475</td><td>Corces-4983-Monocytes-Control</td><td>Corces-4983-Monocytes-Control-1</td><td>Corces-4983</td><td>MYELOID</td><td>Monocytes</td><td>FALSE</td><td>Control</td><td>1</td><td>ATAC-Seq</td><td>⋯</td><td>SRX1427798</td><td>NextSeq 500</td><td>PAIRED</td><td>other</td><td>GENOMIC</td><td>Homo sapiens</td><td>ILLUMINA</td><td>2016-06-01T00:00:00Z</td><td>GSM1937385</td><td>SRP066100</td></tr>\n",
       "\t<tr><th scope=row>2</th><td>SRR2920488</td><td>Corces-6792-Monocytes-Control</td><td>Corces-6792-Monocytes-Control-1</td><td>Corces-6792</td><td>MYELOID</td><td>Monocytes</td><td>FALSE</td><td>Control</td><td>1</td><td>ATAC-Seq</td><td>⋯</td><td>SRX1427811</td><td>NextSeq 500</td><td>PAIRED</td><td>other</td><td>GENOMIC</td><td>Homo sapiens</td><td>ILLUMINA</td><td>2016-06-01T00:00:00Z</td><td>GSM1937398</td><td>SRP066100</td></tr>\n",
       "\t<tr><th scope=row>3</th><td>SRR2920476</td><td>Corces-4983-Monocytes-Control</td><td>Corces-4983-Monocytes-Control-2</td><td>Corces-4983</td><td>MYELOID</td><td>Monocytes</td><td>FALSE</td><td>Control</td><td>2</td><td>ATAC-Seq</td><td>⋯</td><td>SRX1427799</td><td>NextSeq 500</td><td>PAIRED</td><td>other</td><td>GENOMIC</td><td>Homo sapiens</td><td>ILLUMINA</td><td>2016-06-01T00:00:00Z</td><td>GSM1937386</td><td>SRP066100</td></tr>\n",
       "\t<tr><th scope=row>4</th><td>SRR2920487</td><td>Corces-6792-Monocytes-Control</td><td>Corces-6792-Monocytes-Control-2</td><td>Corces-6792</td><td>MYELOID</td><td>Monocytes</td><td>FALSE</td><td>Control</td><td>2</td><td>ATAC-Seq</td><td>⋯</td><td>SRX1427810</td><td>NextSeq 500</td><td>PAIRED</td><td>other</td><td>GENOMIC</td><td>Homo sapiens</td><td>ILLUMINA</td><td>2016-06-01T00:00:00Z</td><td>GSM1937397</td><td>SRP066100</td></tr>\n",
       "\t<tr><th scope=row>5</th><td>SRR2920542</td><td>Corces-7256-Monocytes-Control</td><td>Corces-7256-Monocytes-Control-1</td><td>Corces-7256</td><td>MYELOID</td><td>Monocytes</td><td>FALSE</td><td>Control</td><td>1</td><td>ATAC-Seq</td><td>⋯</td><td>SRX1427865</td><td>NextSeq 500</td><td>PAIRED</td><td>other</td><td>GENOMIC</td><td>Homo sapiens</td><td>ILLUMINA</td><td>2016-06-01T00:00:00Z</td><td>GSM1937452</td><td>SRP066100</td></tr>\n",
       "\t<tr><th scope=row>6</th><td>SRR2920543</td><td>Corces-7256-Monocytes-Control</td><td>Corces-7256-Monocytes-Control-2</td><td>Corces-7256</td><td>MYELOID</td><td>Monocytes</td><td>FALSE</td><td>Control</td><td>2</td><td>ATAC-Seq</td><td>⋯</td><td>SRX1427866</td><td>NextSeq 500</td><td>PAIRED</td><td>other</td><td>GENOMIC</td><td>Homo sapiens</td><td>ILLUMINA</td><td>2016-06-01T00:00:00Z</td><td>GSM1937453</td><td>SRP066100</td></tr>\n",
       "</tbody>\n",
       "</table>\n"
      ],
      "text/latex": [
       "A data.frame: 6 × 27\n",
       "\\begin{tabular}{r|lllllllllllllllllllll}\n",
       "  & Run & Group.ID & Sample.ID & Donor & Lineage & Cell\\_type & Stimulated & Treatment & Replicate & Assay.Type & ⋯ & Experiment & Instrument & LibraryLayout & LibrarySelection & LibrarySource & Organism & Platform & ReleaseDate & Sample.Name & SRA.Study\\\\\n",
       "  & <chr> & <chr> & <chr> & <chr> & <chr> & <chr> & <lgl> & <chr> & <int> & <chr> & ⋯ & <chr> & <chr> & <chr> & <chr> & <chr> & <chr> & <chr> & <chr> & <chr> & <chr>\\\\\n",
       "\\hline\n",
       "\t1 & SRR2920475 & Corces-4983-Monocytes-Control & Corces-4983-Monocytes-Control-1 & Corces-4983 & MYELOID & Monocytes & FALSE & Control & 1 & ATAC-Seq & ⋯ & SRX1427798 & NextSeq 500 & PAIRED & other & GENOMIC & Homo sapiens & ILLUMINA & 2016-06-01T00:00:00Z & GSM1937385 & SRP066100\\\\\n",
       "\t2 & SRR2920488 & Corces-6792-Monocytes-Control & Corces-6792-Monocytes-Control-1 & Corces-6792 & MYELOID & Monocytes & FALSE & Control & 1 & ATAC-Seq & ⋯ & SRX1427811 & NextSeq 500 & PAIRED & other & GENOMIC & Homo sapiens & ILLUMINA & 2016-06-01T00:00:00Z & GSM1937398 & SRP066100\\\\\n",
       "\t3 & SRR2920476 & Corces-4983-Monocytes-Control & Corces-4983-Monocytes-Control-2 & Corces-4983 & MYELOID & Monocytes & FALSE & Control & 2 & ATAC-Seq & ⋯ & SRX1427799 & NextSeq 500 & PAIRED & other & GENOMIC & Homo sapiens & ILLUMINA & 2016-06-01T00:00:00Z & GSM1937386 & SRP066100\\\\\n",
       "\t4 & SRR2920487 & Corces-6792-Monocytes-Control & Corces-6792-Monocytes-Control-2 & Corces-6792 & MYELOID & Monocytes & FALSE & Control & 2 & ATAC-Seq & ⋯ & SRX1427810 & NextSeq 500 & PAIRED & other & GENOMIC & Homo sapiens & ILLUMINA & 2016-06-01T00:00:00Z & GSM1937397 & SRP066100\\\\\n",
       "\t5 & SRR2920542 & Corces-7256-Monocytes-Control & Corces-7256-Monocytes-Control-1 & Corces-7256 & MYELOID & Monocytes & FALSE & Control & 1 & ATAC-Seq & ⋯ & SRX1427865 & NextSeq 500 & PAIRED & other & GENOMIC & Homo sapiens & ILLUMINA & 2016-06-01T00:00:00Z & GSM1937452 & SRP066100\\\\\n",
       "\t6 & SRR2920543 & Corces-7256-Monocytes-Control & Corces-7256-Monocytes-Control-2 & Corces-7256 & MYELOID & Monocytes & FALSE & Control & 2 & ATAC-Seq & ⋯ & SRX1427866 & NextSeq 500 & PAIRED & other & GENOMIC & Homo sapiens & ILLUMINA & 2016-06-01T00:00:00Z & GSM1937453 & SRP066100\\\\\n",
       "\\end{tabular}\n"
      ],
      "text/markdown": [
       "\n",
       "A data.frame: 6 × 27\n",
       "\n",
       "| <!--/--> | Run &lt;chr&gt; | Group.ID &lt;chr&gt; | Sample.ID &lt;chr&gt; | Donor &lt;chr&gt; | Lineage &lt;chr&gt; | Cell_type &lt;chr&gt; | Stimulated &lt;lgl&gt; | Treatment &lt;chr&gt; | Replicate &lt;int&gt; | Assay.Type &lt;chr&gt; | ⋯ ⋯ | Experiment &lt;chr&gt; | Instrument &lt;chr&gt; | LibraryLayout &lt;chr&gt; | LibrarySelection &lt;chr&gt; | LibrarySource &lt;chr&gt; | Organism &lt;chr&gt; | Platform &lt;chr&gt; | ReleaseDate &lt;chr&gt; | Sample.Name &lt;chr&gt; | SRA.Study &lt;chr&gt; |\n",
       "|---|---|---|---|---|---|---|---|---|---|---|---|---|---|---|---|---|---|---|---|---|---|\n",
       "| 1 | SRR2920475 | Corces-4983-Monocytes-Control | Corces-4983-Monocytes-Control-1 | Corces-4983 | MYELOID | Monocytes | FALSE | Control | 1 | ATAC-Seq | ⋯ | SRX1427798 | NextSeq 500 | PAIRED | other | GENOMIC | Homo sapiens | ILLUMINA | 2016-06-01T00:00:00Z | GSM1937385 | SRP066100 |\n",
       "| 2 | SRR2920488 | Corces-6792-Monocytes-Control | Corces-6792-Monocytes-Control-1 | Corces-6792 | MYELOID | Monocytes | FALSE | Control | 1 | ATAC-Seq | ⋯ | SRX1427811 | NextSeq 500 | PAIRED | other | GENOMIC | Homo sapiens | ILLUMINA | 2016-06-01T00:00:00Z | GSM1937398 | SRP066100 |\n",
       "| 3 | SRR2920476 | Corces-4983-Monocytes-Control | Corces-4983-Monocytes-Control-2 | Corces-4983 | MYELOID | Monocytes | FALSE | Control | 2 | ATAC-Seq | ⋯ | SRX1427799 | NextSeq 500 | PAIRED | other | GENOMIC | Homo sapiens | ILLUMINA | 2016-06-01T00:00:00Z | GSM1937386 | SRP066100 |\n",
       "| 4 | SRR2920487 | Corces-6792-Monocytes-Control | Corces-6792-Monocytes-Control-2 | Corces-6792 | MYELOID | Monocytes | FALSE | Control | 2 | ATAC-Seq | ⋯ | SRX1427810 | NextSeq 500 | PAIRED | other | GENOMIC | Homo sapiens | ILLUMINA | 2016-06-01T00:00:00Z | GSM1937397 | SRP066100 |\n",
       "| 5 | SRR2920542 | Corces-7256-Monocytes-Control | Corces-7256-Monocytes-Control-1 | Corces-7256 | MYELOID | Monocytes | FALSE | Control | 1 | ATAC-Seq | ⋯ | SRX1427865 | NextSeq 500 | PAIRED | other | GENOMIC | Homo sapiens | ILLUMINA | 2016-06-01T00:00:00Z | GSM1937452 | SRP066100 |\n",
       "| 6 | SRR2920543 | Corces-7256-Monocytes-Control | Corces-7256-Monocytes-Control-2 | Corces-7256 | MYELOID | Monocytes | FALSE | Control | 2 | ATAC-Seq | ⋯ | SRX1427866 | NextSeq 500 | PAIRED | other | GENOMIC | Homo sapiens | ILLUMINA | 2016-06-01T00:00:00Z | GSM1937453 | SRP066100 |\n",
       "\n"
      ],
      "text/plain": [
       "  Run        Group.ID                      Sample.ID                      \n",
       "1 SRR2920475 Corces-4983-Monocytes-Control Corces-4983-Monocytes-Control-1\n",
       "2 SRR2920488 Corces-6792-Monocytes-Control Corces-6792-Monocytes-Control-1\n",
       "3 SRR2920476 Corces-4983-Monocytes-Control Corces-4983-Monocytes-Control-2\n",
       "4 SRR2920487 Corces-6792-Monocytes-Control Corces-6792-Monocytes-Control-2\n",
       "5 SRR2920542 Corces-7256-Monocytes-Control Corces-7256-Monocytes-Control-1\n",
       "6 SRR2920543 Corces-7256-Monocytes-Control Corces-7256-Monocytes-Control-2\n",
       "  Donor       Lineage Cell_type Stimulated Treatment Replicate Assay.Type ⋯\n",
       "1 Corces-4983 MYELOID Monocytes FALSE      Control   1         ATAC-Seq   ⋯\n",
       "2 Corces-6792 MYELOID Monocytes FALSE      Control   1         ATAC-Seq   ⋯\n",
       "3 Corces-4983 MYELOID Monocytes FALSE      Control   2         ATAC-Seq   ⋯\n",
       "4 Corces-6792 MYELOID Monocytes FALSE      Control   2         ATAC-Seq   ⋯\n",
       "5 Corces-7256 MYELOID Monocytes FALSE      Control   1         ATAC-Seq   ⋯\n",
       "6 Corces-7256 MYELOID Monocytes FALSE      Control   2         ATAC-Seq   ⋯\n",
       "  Experiment Instrument  LibraryLayout LibrarySelection LibrarySource\n",
       "1 SRX1427798 NextSeq 500 PAIRED        other            GENOMIC      \n",
       "2 SRX1427811 NextSeq 500 PAIRED        other            GENOMIC      \n",
       "3 SRX1427799 NextSeq 500 PAIRED        other            GENOMIC      \n",
       "4 SRX1427810 NextSeq 500 PAIRED        other            GENOMIC      \n",
       "5 SRX1427865 NextSeq 500 PAIRED        other            GENOMIC      \n",
       "6 SRX1427866 NextSeq 500 PAIRED        other            GENOMIC      \n",
       "  Organism     Platform ReleaseDate          Sample.Name SRA.Study\n",
       "1 Homo sapiens ILLUMINA 2016-06-01T00:00:00Z GSM1937385  SRP066100\n",
       "2 Homo sapiens ILLUMINA 2016-06-01T00:00:00Z GSM1937398  SRP066100\n",
       "3 Homo sapiens ILLUMINA 2016-06-01T00:00:00Z GSM1937386  SRP066100\n",
       "4 Homo sapiens ILLUMINA 2016-06-01T00:00:00Z GSM1937397  SRP066100\n",
       "5 Homo sapiens ILLUMINA 2016-06-01T00:00:00Z GSM1937452  SRP066100\n",
       "6 Homo sapiens ILLUMINA 2016-06-01T00:00:00Z GSM1937453  SRP066100"
      ]
     },
     "metadata": {},
     "output_type": "display_data"
    }
   ],
   "source": [
    "head(atac.meta)"
   ]
  },
  {
   "cell_type": "code",
   "execution_count": 9,
   "id": "db0a9769-86f2-49db-9dc1-df038590a596",
   "metadata": {},
   "outputs": [],
   "source": [
    "data.mtx <- atac.meta %>%\n",
    "    dplyr::select(Group.ID, Donor, Cell_type, Stimulated) %>%\n",
    "    dplyr::mutate(Stimulated=ifelse(Stimulated, \"Stimulated\", \"Control\")) %>%\n",
    "    dplyr::mutate(Group=interaction(Cell_type, Stimulated)) %>%\n",
    "    dplyr::select(Group.ID, Donor, Group) %>%\n",
    "    merge(., tss.enrichment.scores, by.x=\"Group.ID\", by.y=\"Sample\") %>%\n",
    "    merge(., shape.features, by.x=\"Group.ID\", by.y=\"Sample\") %>%\n",
    "    dplyr::mutate(Donor=as.character(Donor), Group=as.character(Group))"
   ]
  },
  {
   "cell_type": "code",
   "execution_count": 10,
   "id": "d2a0eaaa-6b94-40c8-bd01-0bdf19d20346",
   "metadata": {},
   "outputs": [
    {
     "data": {
      "text/html": [
       "<table class=\"dataframe\">\n",
       "<caption>A data.frame: 6 × 10</caption>\n",
       "<thead>\n",
       "\t<tr><th></th><th scope=col>Group.ID</th><th scope=col>Donor</th><th scope=col>Group</th><th scope=col>TSS_Enrichment_Score</th><th scope=col>1:804821-805016</th><th scope=col>1:812642-812879</th><th scope=col>1:815224-815554</th><th scope=col>1:817057-817622</th><th scope=col>1:819712-820327</th><th scope=col>1:821473-823221</th></tr>\n",
       "\t<tr><th></th><th scope=col>&lt;chr&gt;</th><th scope=col>&lt;chr&gt;</th><th scope=col>&lt;chr&gt;</th><th scope=col>&lt;dbl&gt;</th><th scope=col>&lt;dbl&gt;</th><th scope=col>&lt;dbl&gt;</th><th scope=col>&lt;dbl&gt;</th><th scope=col>&lt;dbl&gt;</th><th scope=col>&lt;dbl&gt;</th><th scope=col>&lt;dbl&gt;</th></tr>\n",
       "</thead>\n",
       "<tbody>\n",
       "\t<tr><th scope=row>1</th><td>Calderon-1001-Bulk_B-Control                     </td><td>Calderon-1001</td><td>Bulk_B.Control                    </td><td>24.89519</td><td>-0.006061507</td><td>0.009388944</td><td>0.006259146</td><td>0.005349278</td><td>-0.008032666</td><td>0.006808657</td></tr>\n",
       "\t<tr><th scope=row>2</th><td>Calderon-1001-Bulk_B-Treatment_1                 </td><td>Calderon-1001</td><td>Bulk_B.Stimulated                 </td><td>26.17991</td><td>-0.006267462</td><td>0.009388944</td><td>0.005507453</td><td>0.005072293</td><td>-0.008686196</td><td>0.004151319</td></tr>\n",
       "\t<tr><th scope=row>3</th><td>Calderon-1001-CD8pos_T-Control                   </td><td>Calderon-1001</td><td>CD8pos_T.Control                  </td><td>25.17192</td><td>-0.005631485</td><td>0.011452513</td><td>0.006208227</td><td>0.006237442</td><td>-0.008749866</td><td>0.006613037</td></tr>\n",
       "\t<tr><th scope=row>4</th><td>Calderon-1001-CD8pos_T-Treatment_1               </td><td>Calderon-1001</td><td>CD8pos_T.Stimulated               </td><td>22.44896</td><td>-0.006457613</td><td>0.011891087</td><td>0.005507453</td><td>0.006234437</td><td>-0.008696625</td><td>0.004895769</td></tr>\n",
       "\t<tr><th scope=row>5</th><td>Calderon-1001-Central_memory_CD8pos_T-Control    </td><td>Calderon-1001</td><td>Central_memory_CD8pos_T.Control   </td><td>27.64371</td><td>-0.006437052</td><td>0.009388944</td><td>0.005507453</td><td>0.005370726</td><td>-0.008744195</td><td>0.006477123</td></tr>\n",
       "\t<tr><th scope=row>6</th><td>Calderon-1001-Central_memory_CD8pos_T-Treatment_1</td><td>Calderon-1001</td><td>Central_memory_CD8pos_T.Stimulated</td><td>21.34979</td><td>-0.005631485</td><td>0.014635136</td><td>0.005507453</td><td>0.006065289</td><td>-0.008054893</td><td>0.005115541</td></tr>\n",
       "</tbody>\n",
       "</table>\n"
      ],
      "text/latex": [
       "A data.frame: 6 × 10\n",
       "\\begin{tabular}{r|llllllllll}\n",
       "  & Group.ID & Donor & Group & TSS\\_Enrichment\\_Score & 1:804821-805016 & 1:812642-812879 & 1:815224-815554 & 1:817057-817622 & 1:819712-820327 & 1:821473-823221\\\\\n",
       "  & <chr> & <chr> & <chr> & <dbl> & <dbl> & <dbl> & <dbl> & <dbl> & <dbl> & <dbl>\\\\\n",
       "\\hline\n",
       "\t1 & Calderon-1001-Bulk\\_B-Control                      & Calderon-1001 & Bulk\\_B.Control                     & 24.89519 & -0.006061507 & 0.009388944 & 0.006259146 & 0.005349278 & -0.008032666 & 0.006808657\\\\\n",
       "\t2 & Calderon-1001-Bulk\\_B-Treatment\\_1                  & Calderon-1001 & Bulk\\_B.Stimulated                  & 26.17991 & -0.006267462 & 0.009388944 & 0.005507453 & 0.005072293 & -0.008686196 & 0.004151319\\\\\n",
       "\t3 & Calderon-1001-CD8pos\\_T-Control                    & Calderon-1001 & CD8pos\\_T.Control                   & 25.17192 & -0.005631485 & 0.011452513 & 0.006208227 & 0.006237442 & -0.008749866 & 0.006613037\\\\\n",
       "\t4 & Calderon-1001-CD8pos\\_T-Treatment\\_1                & Calderon-1001 & CD8pos\\_T.Stimulated                & 22.44896 & -0.006457613 & 0.011891087 & 0.005507453 & 0.006234437 & -0.008696625 & 0.004895769\\\\\n",
       "\t5 & Calderon-1001-Central\\_memory\\_CD8pos\\_T-Control     & Calderon-1001 & Central\\_memory\\_CD8pos\\_T.Control    & 27.64371 & -0.006437052 & 0.009388944 & 0.005507453 & 0.005370726 & -0.008744195 & 0.006477123\\\\\n",
       "\t6 & Calderon-1001-Central\\_memory\\_CD8pos\\_T-Treatment\\_1 & Calderon-1001 & Central\\_memory\\_CD8pos\\_T.Stimulated & 21.34979 & -0.005631485 & 0.014635136 & 0.005507453 & 0.006065289 & -0.008054893 & 0.005115541\\\\\n",
       "\\end{tabular}\n"
      ],
      "text/markdown": [
       "\n",
       "A data.frame: 6 × 10\n",
       "\n",
       "| <!--/--> | Group.ID &lt;chr&gt; | Donor &lt;chr&gt; | Group &lt;chr&gt; | TSS_Enrichment_Score &lt;dbl&gt; | 1:804821-805016 &lt;dbl&gt; | 1:812642-812879 &lt;dbl&gt; | 1:815224-815554 &lt;dbl&gt; | 1:817057-817622 &lt;dbl&gt; | 1:819712-820327 &lt;dbl&gt; | 1:821473-823221 &lt;dbl&gt; |\n",
       "|---|---|---|---|---|---|---|---|---|---|---|\n",
       "| 1 | Calderon-1001-Bulk_B-Control                      | Calderon-1001 | Bulk_B.Control                     | 24.89519 | -0.006061507 | 0.009388944 | 0.006259146 | 0.005349278 | -0.008032666 | 0.006808657 |\n",
       "| 2 | Calderon-1001-Bulk_B-Treatment_1                  | Calderon-1001 | Bulk_B.Stimulated                  | 26.17991 | -0.006267462 | 0.009388944 | 0.005507453 | 0.005072293 | -0.008686196 | 0.004151319 |\n",
       "| 3 | Calderon-1001-CD8pos_T-Control                    | Calderon-1001 | CD8pos_T.Control                   | 25.17192 | -0.005631485 | 0.011452513 | 0.006208227 | 0.006237442 | -0.008749866 | 0.006613037 |\n",
       "| 4 | Calderon-1001-CD8pos_T-Treatment_1                | Calderon-1001 | CD8pos_T.Stimulated                | 22.44896 | -0.006457613 | 0.011891087 | 0.005507453 | 0.006234437 | -0.008696625 | 0.004895769 |\n",
       "| 5 | Calderon-1001-Central_memory_CD8pos_T-Control     | Calderon-1001 | Central_memory_CD8pos_T.Control    | 27.64371 | -0.006437052 | 0.009388944 | 0.005507453 | 0.005370726 | -0.008744195 | 0.006477123 |\n",
       "| 6 | Calderon-1001-Central_memory_CD8pos_T-Treatment_1 | Calderon-1001 | Central_memory_CD8pos_T.Stimulated | 21.34979 | -0.005631485 | 0.014635136 | 0.005507453 | 0.006065289 | -0.008054893 | 0.005115541 |\n",
       "\n"
      ],
      "text/plain": [
       "  Group.ID                                          Donor        \n",
       "1 Calderon-1001-Bulk_B-Control                      Calderon-1001\n",
       "2 Calderon-1001-Bulk_B-Treatment_1                  Calderon-1001\n",
       "3 Calderon-1001-CD8pos_T-Control                    Calderon-1001\n",
       "4 Calderon-1001-CD8pos_T-Treatment_1                Calderon-1001\n",
       "5 Calderon-1001-Central_memory_CD8pos_T-Control     Calderon-1001\n",
       "6 Calderon-1001-Central_memory_CD8pos_T-Treatment_1 Calderon-1001\n",
       "  Group                              TSS_Enrichment_Score 1:804821-805016\n",
       "1 Bulk_B.Control                     24.89519             -0.006061507   \n",
       "2 Bulk_B.Stimulated                  26.17991             -0.006267462   \n",
       "3 CD8pos_T.Control                   25.17192             -0.005631485   \n",
       "4 CD8pos_T.Stimulated                22.44896             -0.006457613   \n",
       "5 Central_memory_CD8pos_T.Control    27.64371             -0.006437052   \n",
       "6 Central_memory_CD8pos_T.Stimulated 21.34979             -0.005631485   \n",
       "  1:812642-812879 1:815224-815554 1:817057-817622 1:819712-820327\n",
       "1 0.009388944     0.006259146     0.005349278     -0.008032666   \n",
       "2 0.009388944     0.005507453     0.005072293     -0.008686196   \n",
       "3 0.011452513     0.006208227     0.006237442     -0.008749866   \n",
       "4 0.011891087     0.005507453     0.006234437     -0.008696625   \n",
       "5 0.009388944     0.005507453     0.005370726     -0.008744195   \n",
       "6 0.014635136     0.005507453     0.006065289     -0.008054893   \n",
       "  1:821473-823221\n",
       "1 0.006808657    \n",
       "2 0.004151319    \n",
       "3 0.006613037    \n",
       "4 0.004895769    \n",
       "5 0.006477123    \n",
       "6 0.005115541    "
      ]
     },
     "metadata": {},
     "output_type": "display_data"
    }
   ],
   "source": [
    "head(data.mtx[,1:10])"
   ]
  },
  {
   "cell_type": "markdown",
   "id": "3235f125-7957-4df1-b881-3c90f90ba4b0",
   "metadata": {},
   "source": [
    "Not all cell types have both control and stimulated conditions. We need both to fit the linear model. Remove any groups that are missing either control or stimulated samples."
   ]
  },
  {
   "cell_type": "code",
   "execution_count": 11,
   "id": "754dec7f-853e-4cd4-a838-39a79d7ceab8",
   "metadata": {},
   "outputs": [],
   "source": [
    "both.treatments <- (paste0(unique(atac.meta$Cell_type), \".Control\") %in% data.mtx$Group) & (paste0(unique(atac.meta$Cell_type), \".Stimulated\") %in% data.mtx$Group)\n",
    "cell.types <- unique(atac.meta$Cell_type)[both.treatments]\n",
    "data.mtx <- data.mtx[gsub(\"\\\\..*\", \"\", data.mtx$Group) %in% cell.types,]"
   ]
  },
  {
   "cell_type": "code",
   "execution_count": 12,
   "id": "0d8329eb-d28b-46b8-a230-fb5b2f2a1a36",
   "metadata": {},
   "outputs": [],
   "source": [
    "data.mtx <- data.mtx %>%\n",
    "    dplyr::mutate(Donor=factor(Donor), Group=factor(Group))\n",
    "\n",
    "group <- data.mtx$Group\n",
    "donor <- data.mtx$Donor\n",
    "tss.score <- data.mtx$TSS_Enrichment_Score\n",
    "\n",
    "shape.features <- data.mtx[,-(1:4)]"
   ]
  },
  {
   "cell_type": "markdown",
   "id": "166262c7-7827-46c6-bfe6-4cfbdeafdc53",
   "metadata": {},
   "source": [
    "## Linear Model"
   ]
  },
  {
   "cell_type": "code",
   "execution_count": 13,
   "id": "c986a861-634a-462b-8987-a2cb9511b33f",
   "metadata": {},
   "outputs": [],
   "source": [
    "design <- model.matrix( ~ 0 + group + donor + tss.score)"
   ]
  },
  {
   "cell_type": "code",
   "execution_count": 14,
   "id": "06a6deac-1694-4c9a-98bc-b2c9482df801",
   "metadata": {},
   "outputs": [],
   "source": [
    "fit <- lmFit(t(shape.features), design)"
   ]
  },
  {
   "cell_type": "markdown",
   "id": "a71f27b8-4bb2-4e02-b386-09f09407e60e",
   "metadata": {},
   "source": [
    "Create contrasts to compare stimulated cell types against control cell types."
   ]
  },
  {
   "cell_type": "code",
   "execution_count": 15,
   "id": "f37dffe6-69a1-4181-9315-28132cd0998f",
   "metadata": {},
   "outputs": [],
   "source": [
    "group.contrasts <- matrix(0, nrow=ncol(design), ncol=length(cell.types))\n",
    "rownames(group.contrasts) <- colnames(design)\n",
    "colnames(group.contrasts) <- cell.types"
   ]
  },
  {
   "cell_type": "code",
   "execution_count": 16,
   "id": "7099f8d2-c4c1-4a16-8af0-5b49b7c46212",
   "metadata": {},
   "outputs": [],
   "source": [
    "for (cell.type in cell.types) {\n",
    "    \n",
    "    group.contrasts[paste0(\"group\", cell.type, \".Control\"), cell.type] = -1\n",
    "    group.contrasts[paste0(\"group\", cell.type, \".Stimulated\"), cell.type] = 1\n",
    "}"
   ]
  },
  {
   "cell_type": "markdown",
   "id": "65474aef-24f4-412b-b1b5-9096ba30f9a8",
   "metadata": {},
   "source": [
    "Run a simple linear model across all the peaks."
   ]
  },
  {
   "cell_type": "code",
   "execution_count": 17,
   "id": "dcb7d594-567f-461b-bfd5-d443126c3afe",
   "metadata": {},
   "outputs": [],
   "source": [
    "da.peaks <- rbindlist(lapply(1:ncol(group.contrasts), function(i) {\n",
    "    de.res = eBayes(contrasts.fit(fit, group.contrasts[,i]))\n",
    "    de.res.table = topTable(de.res, sort.by=\"p\", n=Inf)\n",
    "    \n",
    "    contrast.cell.type = colnames(group.contrasts)[i]\n",
    "\n",
    "    de.res.table %>%\n",
    "        dplyr::mutate(Cell.Type=contrast.cell.type) %>%\n",
    "        dplyr::mutate(Peak.ID=rownames(.)) %>%\n",
    "        dplyr::mutate(Peak.Chr=sapply(strsplit(Peak.ID, \":\"), function(x) { x[1] })) %>%\n",
    "        dplyr::mutate(Peak.Coords=sapply(strsplit(Peak.ID, \":\"), function(x) { x[2] })) %>%\n",
    "        dplyr::mutate(Peak.Start=as.numeric(sapply(strsplit(Peak.Coords, \"-\"), function(x) { x[1] }))) %>%\n",
    "        dplyr::mutate(Peak.End=as.numeric(sapply(strsplit(Peak.Coords, \"-\"), function(x) { x[2] }))) %>%\n",
    "        dplyr::select(Cell.Type, Peak.ID, Peak.Chr, Peak.Start, Peak.End, logFC, AveExpr, t, P.Value, adj.P.Val, B)\n",
    "}))"
   ]
  },
  {
   "cell_type": "code",
   "execution_count": 18,
   "id": "8468397c-1e73-482d-a50e-baa3f84eb19c",
   "metadata": {},
   "outputs": [],
   "source": [
    "da.peak.set <- da.peaks %>%\n",
    "    dplyr::filter(adj.P.Val < 0.01)"
   ]
  },
  {
   "cell_type": "code",
   "execution_count": 19,
   "id": "a5b35fc0-0c87-4a37-a9c4-9d34a916684d",
   "metadata": {},
   "outputs": [
    {
     "data": {
      "text/html": [
       "202163"
      ],
      "text/latex": [
       "202163"
      ],
      "text/markdown": [
       "202163"
      ],
      "text/plain": [
       "[1] 202163"
      ]
     },
     "metadata": {},
     "output_type": "display_data"
    }
   ],
   "source": [
    "length(unique(da.peak.set$Peak.ID))"
   ]
  },
  {
   "cell_type": "code",
   "execution_count": 20,
   "id": "6758261c-f0e5-47e6-b778-e9df3c0991d6",
   "metadata": {},
   "outputs": [
    {
     "data": {
      "text/plain": [
       "\n",
       "                  Bulk_B                 CD8pos_T  Central_memory_CD8pos_T \n",
       "                    7751                     5951                    14640 \n",
       "       Effector_CD4pos_T Effector_memory_CD8pos_T      Follicular_T_Helper \n",
       "                   10955                    12138                    11099 \n",
       "           Gamma_delta_T                Mature_NK                    Mem_B \n",
       "                    8650                     7303                    10402 \n",
       "            Memory_Teffs             Memory_Tregs                Monocytes \n",
       "                   14798                    11302                     4778 \n",
       "                 Naive_B              Naive_CD8_T              Naive_Teffs \n",
       "                    7017                     6257                    13365 \n",
       "             Naive_Tregs             Regulatory_T           Th1_precursors \n",
       "                    1658                    15571                    18368 \n",
       "         Th17_precursors           Th2_precursors \n",
       "                    7362                    13853 "
      ]
     },
     "metadata": {},
     "output_type": "display_data"
    }
   ],
   "source": [
    "table(da.peak.set$Cell.Type)"
   ]
  },
  {
   "cell_type": "code",
   "execution_count": 21,
   "id": "5db952d4-52b9-48ed-9505-8145d77d98ab",
   "metadata": {},
   "outputs": [
    {
     "data": {
      "text/html": [
       "<table class=\"dataframe\">\n",
       "<caption>A data.table: 6 × 11</caption>\n",
       "<thead>\n",
       "\t<tr><th scope=col>Cell.Type</th><th scope=col>Peak.ID</th><th scope=col>Peak.Chr</th><th scope=col>Peak.Start</th><th scope=col>Peak.End</th><th scope=col>logFC</th><th scope=col>AveExpr</th><th scope=col>t</th><th scope=col>P.Value</th><th scope=col>adj.P.Val</th><th scope=col>B</th></tr>\n",
       "\t<tr><th scope=col>&lt;chr&gt;</th><th scope=col>&lt;chr&gt;</th><th scope=col>&lt;chr&gt;</th><th scope=col>&lt;dbl&gt;</th><th scope=col>&lt;dbl&gt;</th><th scope=col>&lt;dbl&gt;</th><th scope=col>&lt;dbl&gt;</th><th scope=col>&lt;dbl&gt;</th><th scope=col>&lt;dbl&gt;</th><th scope=col>&lt;dbl&gt;</th><th scope=col>&lt;dbl&gt;</th></tr>\n",
       "</thead>\n",
       "<tbody>\n",
       "\t<tr><td>Monocytes</td><td>20:1621268-1621665    </td><td>20</td><td>  1621268</td><td>  1621665</td><td>-0.46757576</td><td> 0.0006487178</td><td>-12.257109</td><td>9.291093e-23</td><td>2.755506e-17</td><td>41.13771</td></tr>\n",
       "\t<tr><td>Monocytes</td><td>12:109845022-109847993</td><td>12</td><td>109845022</td><td>109847993</td><td>-0.02110393</td><td>-0.0043939766</td><td>-10.515470</td><td>1.235845e-18</td><td>1.832604e-13</td><td>31.70630</td></tr>\n",
       "\t<tr><td>Monocytes</td><td>2:156331680-156333649 </td><td>2 </td><td>156331680</td><td>156333649</td><td>-0.02528340</td><td>-0.0117342065</td><td>-10.349613</td><td>3.060158e-18</td><td>3.025221e-13</td><td>30.80634</td></tr>\n",
       "\t<tr><td>Monocytes</td><td>17:28727663-28729453  </td><td>17</td><td> 28727663</td><td> 28729453</td><td>-0.01725488</td><td> 0.0134920019</td><td> -9.550207</td><td>2.394571e-16</td><td>1.775425e-11</td><td>26.48137</td></tr>\n",
       "\t<tr><td>Monocytes</td><td>10:132570571-132572954</td><td>10</td><td>132570571</td><td>132572954</td><td> 0.01682975</td><td>-0.0119656040</td><td>  9.469500</td><td>3.712591e-16</td><td>2.202123e-11</td><td>26.04663</td></tr>\n",
       "\t<tr><td>Monocytes</td><td>1:151762655-151764357 </td><td>1 </td><td>151762655</td><td>151764357</td><td> 0.01106495</td><td>-0.0057469328</td><td>  9.377035</td><td>6.132640e-16</td><td>3.031313e-11</td><td>25.54913</td></tr>\n",
       "</tbody>\n",
       "</table>\n"
      ],
      "text/latex": [
       "A data.table: 6 × 11\n",
       "\\begin{tabular}{lllllllllll}\n",
       " Cell.Type & Peak.ID & Peak.Chr & Peak.Start & Peak.End & logFC & AveExpr & t & P.Value & adj.P.Val & B\\\\\n",
       " <chr> & <chr> & <chr> & <dbl> & <dbl> & <dbl> & <dbl> & <dbl> & <dbl> & <dbl> & <dbl>\\\\\n",
       "\\hline\n",
       "\t Monocytes & 20:1621268-1621665     & 20 &   1621268 &   1621665 & -0.46757576 &  0.0006487178 & -12.257109 & 9.291093e-23 & 2.755506e-17 & 41.13771\\\\\n",
       "\t Monocytes & 12:109845022-109847993 & 12 & 109845022 & 109847993 & -0.02110393 & -0.0043939766 & -10.515470 & 1.235845e-18 & 1.832604e-13 & 31.70630\\\\\n",
       "\t Monocytes & 2:156331680-156333649  & 2  & 156331680 & 156333649 & -0.02528340 & -0.0117342065 & -10.349613 & 3.060158e-18 & 3.025221e-13 & 30.80634\\\\\n",
       "\t Monocytes & 17:28727663-28729453   & 17 &  28727663 &  28729453 & -0.01725488 &  0.0134920019 &  -9.550207 & 2.394571e-16 & 1.775425e-11 & 26.48137\\\\\n",
       "\t Monocytes & 10:132570571-132572954 & 10 & 132570571 & 132572954 &  0.01682975 & -0.0119656040 &   9.469500 & 3.712591e-16 & 2.202123e-11 & 26.04663\\\\\n",
       "\t Monocytes & 1:151762655-151764357  & 1  & 151762655 & 151764357 &  0.01106495 & -0.0057469328 &   9.377035 & 6.132640e-16 & 3.031313e-11 & 25.54913\\\\\n",
       "\\end{tabular}\n"
      ],
      "text/markdown": [
       "\n",
       "A data.table: 6 × 11\n",
       "\n",
       "| Cell.Type &lt;chr&gt; | Peak.ID &lt;chr&gt; | Peak.Chr &lt;chr&gt; | Peak.Start &lt;dbl&gt; | Peak.End &lt;dbl&gt; | logFC &lt;dbl&gt; | AveExpr &lt;dbl&gt; | t &lt;dbl&gt; | P.Value &lt;dbl&gt; | adj.P.Val &lt;dbl&gt; | B &lt;dbl&gt; |\n",
       "|---|---|---|---|---|---|---|---|---|---|---|\n",
       "| Monocytes | 20:1621268-1621665     | 20 |   1621268 |   1621665 | -0.46757576 |  0.0006487178 | -12.257109 | 9.291093e-23 | 2.755506e-17 | 41.13771 |\n",
       "| Monocytes | 12:109845022-109847993 | 12 | 109845022 | 109847993 | -0.02110393 | -0.0043939766 | -10.515470 | 1.235845e-18 | 1.832604e-13 | 31.70630 |\n",
       "| Monocytes | 2:156331680-156333649  | 2  | 156331680 | 156333649 | -0.02528340 | -0.0117342065 | -10.349613 | 3.060158e-18 | 3.025221e-13 | 30.80634 |\n",
       "| Monocytes | 17:28727663-28729453   | 17 |  28727663 |  28729453 | -0.01725488 |  0.0134920019 |  -9.550207 | 2.394571e-16 | 1.775425e-11 | 26.48137 |\n",
       "| Monocytes | 10:132570571-132572954 | 10 | 132570571 | 132572954 |  0.01682975 | -0.0119656040 |   9.469500 | 3.712591e-16 | 2.202123e-11 | 26.04663 |\n",
       "| Monocytes | 1:151762655-151764357  | 1  | 151762655 | 151764357 |  0.01106495 | -0.0057469328 |   9.377035 | 6.132640e-16 | 3.031313e-11 | 25.54913 |\n",
       "\n"
      ],
      "text/plain": [
       "  Cell.Type Peak.ID                Peak.Chr Peak.Start Peak.End  logFC      \n",
       "1 Monocytes 20:1621268-1621665     20         1621268    1621665 -0.46757576\n",
       "2 Monocytes 12:109845022-109847993 12       109845022  109847993 -0.02110393\n",
       "3 Monocytes 2:156331680-156333649  2        156331680  156333649 -0.02528340\n",
       "4 Monocytes 17:28727663-28729453   17        28727663   28729453 -0.01725488\n",
       "5 Monocytes 10:132570571-132572954 10       132570571  132572954  0.01682975\n",
       "6 Monocytes 1:151762655-151764357  1        151762655  151764357  0.01106495\n",
       "  AveExpr       t          P.Value      adj.P.Val    B       \n",
       "1  0.0006487178 -12.257109 9.291093e-23 2.755506e-17 41.13771\n",
       "2 -0.0043939766 -10.515470 1.235845e-18 1.832604e-13 31.70630\n",
       "3 -0.0117342065 -10.349613 3.060158e-18 3.025221e-13 30.80634\n",
       "4  0.0134920019  -9.550207 2.394571e-16 1.775425e-11 26.48137\n",
       "5 -0.0119656040   9.469500 3.712591e-16 2.202123e-11 26.04663\n",
       "6 -0.0057469328   9.377035 6.132640e-16 3.031313e-11 25.54913"
      ]
     },
     "metadata": {},
     "output_type": "display_data"
    }
   ],
   "source": [
    "head(da.peak.set)"
   ]
  },
  {
   "cell_type": "code",
   "execution_count": 26,
   "id": "93d17d58-c008-43ff-adbc-221d80b67a65",
   "metadata": {},
   "outputs": [],
   "source": [
    "write.csv(da.peak.set, \"/nfs/users/nfs_n/nm18/gains_team282/epigenetics/regulation/immune/ds_peaks.csv\", quote=F, row.names=F)"
   ]
  },
  {
   "cell_type": "code",
   "execution_count": null,
   "id": "eb407ad7-bd53-4f47-99f8-62e724adb362",
   "metadata": {},
   "outputs": [],
   "source": []
  }
 ],
 "metadata": {
  "kernelspec": {
   "display_name": "R",
   "language": "R",
   "name": "ir"
  },
  "language_info": {
   "codemirror_mode": "r",
   "file_extension": ".r",
   "mimetype": "text/x-r-source",
   "name": "R",
   "pygments_lexer": "r",
   "version": "4.0.5"
  }
 },
 "nbformat": 4,
 "nbformat_minor": 5
}
