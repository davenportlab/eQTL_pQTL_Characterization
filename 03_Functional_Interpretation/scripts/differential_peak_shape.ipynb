{
 "cells": [
  {
   "cell_type": "markdown",
   "id": "6bad966e-e9ce-40d4-9384-ea315bf090ff",
   "metadata": {},
   "source": [
    "# Differential Peak Shape\n",
    "\n",
    "**Created**: 24 April 2022"
   ]
  },
  {
   "cell_type": "markdown",
   "id": "e7ef08b9-7969-442a-b637-436037a5dd02",
   "metadata": {},
   "source": [
    "## Environment"
   ]
  },
  {
   "cell_type": "code",
   "execution_count": 1,
   "id": "23046242-0ea5-4179-8cbc-e1dd4db840d8",
   "metadata": {},
   "outputs": [
    {
     "name": "stderr",
     "output_type": "stream",
     "text": [
      "── \u001b[1mAttaching packages\u001b[22m ───────────────────────────────────────────────────────────────────────────────────────────────────────────────────────────────────────────────────────────────── tidyverse 1.3.1 ──\n",
      "\n",
      "\u001b[32m✔\u001b[39m \u001b[34mggplot2\u001b[39m 3.3.5     \u001b[32m✔\u001b[39m \u001b[34mpurrr  \u001b[39m 0.3.4\n",
      "\u001b[32m✔\u001b[39m \u001b[34mtibble \u001b[39m 3.1.6     \u001b[32m✔\u001b[39m \u001b[34mdplyr  \u001b[39m 1.0.8\n",
      "\u001b[32m✔\u001b[39m \u001b[34mtidyr  \u001b[39m 1.2.0     \u001b[32m✔\u001b[39m \u001b[34mstringr\u001b[39m 1.4.0\n",
      "\u001b[32m✔\u001b[39m \u001b[34mreadr  \u001b[39m 2.1.1     \u001b[32m✔\u001b[39m \u001b[34mforcats\u001b[39m 0.5.1\n",
      "\n",
      "── \u001b[1mConflicts\u001b[22m ──────────────────────────────────────────────────────────────────────────────────────────────────────────────────────────────────────────────────────────────────── tidyverse_conflicts() ──\n",
      "\u001b[31m✖\u001b[39m \u001b[34mdplyr\u001b[39m::\u001b[32mfilter()\u001b[39m masks \u001b[34mstats\u001b[39m::filter()\n",
      "\u001b[31m✖\u001b[39m \u001b[34mdplyr\u001b[39m::\u001b[32mlag()\u001b[39m    masks \u001b[34mstats\u001b[39m::lag()\n",
      "\n",
      "\n",
      "Attaching package: ‘data.table’\n",
      "\n",
      "\n",
      "The following objects are masked from ‘package:dplyr’:\n",
      "\n",
      "    between, first, last\n",
      "\n",
      "\n",
      "The following object is masked from ‘package:purrr’:\n",
      "\n",
      "    transpose\n",
      "\n",
      "\n"
     ]
    }
   ],
   "source": [
    "library(tidyverse)\n",
    "library(data.table)\n",
    "\n",
    "setwd(\"~/eQTL_pQTL_Characterization/\")\n",
    "\n",
    "source(\"03_Functional_Interpretation/scripts/utils/ggplot_theme.R\")"
   ]
  },
  {
   "cell_type": "markdown",
   "id": "f2dedcb7-0014-4605-8238-f4fa5841bcb2",
   "metadata": {},
   "source": [
    "## Load Data"
   ]
  },
  {
   "cell_type": "code",
   "execution_count": 14,
   "id": "ccc3d724-bcf1-4096-9e45-ea3834252e95",
   "metadata": {},
   "outputs": [],
   "source": [
    "shape.features.dir <- \"/nfs/users/nfs_n/nm18/gains_team282/epigenetics/regulation/immune/shape_features/\"\n",
    "\n",
    "shape.features <- do.call(rbind, lapply(list.files(shape.features.dir, pattern=\"*consensus_shape_features.csv\"), function(file.name) {\n",
    "    fread(paste0(shape.features.dir, file.name))\n",
    "}))"
   ]
  },
  {
   "cell_type": "code",
   "execution_count": 15,
   "id": "08607364-aca7-4448-ac28-e134a1bf41a8",
   "metadata": {},
   "outputs": [
    {
     "data": {
      "text/html": [
       "<style>\n",
       ".list-inline {list-style: none; margin:0; padding: 0}\n",
       ".list-inline>li {display: inline-block}\n",
       ".list-inline>li:not(:last-child)::after {content: \"\\00b7\"; padding: 0 .5ex}\n",
       "</style>\n",
       "<ol class=list-inline><li>171</li><li>296576</li></ol>\n"
      ],
      "text/latex": [
       "\\begin{enumerate*}\n",
       "\\item 171\n",
       "\\item 296576\n",
       "\\end{enumerate*}\n"
      ],
      "text/markdown": [
       "1. 171\n",
       "2. 296576\n",
       "\n",
       "\n"
      ],
      "text/plain": [
       "[1]    171 296576"
      ]
     },
     "metadata": {},
     "output_type": "display_data"
    }
   ],
   "source": [
    "dim(shape.features)"
   ]
  },
  {
   "cell_type": "code",
   "execution_count": 18,
   "id": "5fd51eb2-cec3-4ecd-a76e-e7ba599b6610",
   "metadata": {},
   "outputs": [],
   "source": [
    "tss.enrichment.scores <- read.table(\"/nfs/users/nfs_n/nm18/gains_team282/epigenetics/accessibility/analysis/atac_seq/tss_enrichment_scores.tsv\", header=T)"
   ]
  },
  {
   "cell_type": "code",
   "execution_count": 19,
   "id": "a41b7094-cf7f-4a31-8a99-b5be9c0cc0d1",
   "metadata": {},
   "outputs": [
    {
     "data": {
      "text/html": [
       "<table class=\"dataframe\">\n",
       "<caption>A data.frame: 6 × 2</caption>\n",
       "<thead>\n",
       "\t<tr><th></th><th scope=col>Sample</th><th scope=col>TSS_Enrichment_Score</th></tr>\n",
       "\t<tr><th></th><th scope=col>&lt;chr&gt;</th><th scope=col>&lt;dbl&gt;</th></tr>\n",
       "</thead>\n",
       "<tbody>\n",
       "\t<tr><th scope=row>1</th><td>Calderon-1001-Memory_Teffs-Control                </td><td>35.71484</td></tr>\n",
       "\t<tr><th scope=row>2</th><td>Calderon-1001-Myeloid_DCs-Control                 </td><td>24.90297</td></tr>\n",
       "\t<tr><th scope=row>3</th><td>Calderon-1003-CD8pos_T-Treatment_1                </td><td>24.91672</td></tr>\n",
       "\t<tr><th scope=row>4</th><td>Calderon-1001-Regulatory_T-Control                </td><td>30.79065</td></tr>\n",
       "\t<tr><th scope=row>5</th><td>Calderon-1003-Effector_memory_CD8pos_T-Treatment_1</td><td>31.39529</td></tr>\n",
       "\t<tr><th scope=row>6</th><td>Calderon-1001-Memory_Tregs-Control                </td><td>35.20552</td></tr>\n",
       "</tbody>\n",
       "</table>\n"
      ],
      "text/latex": [
       "A data.frame: 6 × 2\n",
       "\\begin{tabular}{r|ll}\n",
       "  & Sample & TSS\\_Enrichment\\_Score\\\\\n",
       "  & <chr> & <dbl>\\\\\n",
       "\\hline\n",
       "\t1 & Calderon-1001-Memory\\_Teffs-Control                 & 35.71484\\\\\n",
       "\t2 & Calderon-1001-Myeloid\\_DCs-Control                  & 24.90297\\\\\n",
       "\t3 & Calderon-1003-CD8pos\\_T-Treatment\\_1                 & 24.91672\\\\\n",
       "\t4 & Calderon-1001-Regulatory\\_T-Control                 & 30.79065\\\\\n",
       "\t5 & Calderon-1003-Effector\\_memory\\_CD8pos\\_T-Treatment\\_1 & 31.39529\\\\\n",
       "\t6 & Calderon-1001-Memory\\_Tregs-Control                 & 35.20552\\\\\n",
       "\\end{tabular}\n"
      ],
      "text/markdown": [
       "\n",
       "A data.frame: 6 × 2\n",
       "\n",
       "| <!--/--> | Sample &lt;chr&gt; | TSS_Enrichment_Score &lt;dbl&gt; |\n",
       "|---|---|---|\n",
       "| 1 | Calderon-1001-Memory_Teffs-Control                 | 35.71484 |\n",
       "| 2 | Calderon-1001-Myeloid_DCs-Control                  | 24.90297 |\n",
       "| 3 | Calderon-1003-CD8pos_T-Treatment_1                 | 24.91672 |\n",
       "| 4 | Calderon-1001-Regulatory_T-Control                 | 30.79065 |\n",
       "| 5 | Calderon-1003-Effector_memory_CD8pos_T-Treatment_1 | 31.39529 |\n",
       "| 6 | Calderon-1001-Memory_Tregs-Control                 | 35.20552 |\n",
       "\n"
      ],
      "text/plain": [
       "  Sample                                             TSS_Enrichment_Score\n",
       "1 Calderon-1001-Memory_Teffs-Control                 35.71484            \n",
       "2 Calderon-1001-Myeloid_DCs-Control                  24.90297            \n",
       "3 Calderon-1003-CD8pos_T-Treatment_1                 24.91672            \n",
       "4 Calderon-1001-Regulatory_T-Control                 30.79065            \n",
       "5 Calderon-1003-Effector_memory_CD8pos_T-Treatment_1 31.39529            \n",
       "6 Calderon-1001-Memory_Tregs-Control                 35.20552            "
      ]
     },
     "metadata": {},
     "output_type": "display_data"
    }
   ],
   "source": [
    "head(tss.enrichment.scores)"
   ]
  },
  {
   "cell_type": "code",
   "execution_count": 22,
   "id": "f44dae83-b4ef-4c04-879d-06872fc654c3",
   "metadata": {},
   "outputs": [],
   "source": [
    "atac.meta <- read.csv(\"/nfs/users/nfs_n/nm18/eQTL_pQTL_Characterization/03_Functional_Interpretation/metadata/reads_atac_seq.txt\")"
   ]
  },
  {
   "cell_type": "code",
   "execution_count": 23,
   "id": "ee30a4c3-5187-4d42-941a-d11155acee46",
   "metadata": {},
   "outputs": [
    {
     "data": {
      "text/html": [
       "<table class=\"dataframe\">\n",
       "<caption>A data.frame: 6 × 27</caption>\n",
       "<thead>\n",
       "\t<tr><th></th><th scope=col>Run</th><th scope=col>Group.ID</th><th scope=col>Sample.ID</th><th scope=col>Donor</th><th scope=col>Lineage</th><th scope=col>Cell_type</th><th scope=col>Stimulated</th><th scope=col>Treatment</th><th scope=col>Replicate</th><th scope=col>Assay.Type</th><th scope=col>⋯</th><th scope=col>Experiment</th><th scope=col>Instrument</th><th scope=col>LibraryLayout</th><th scope=col>LibrarySelection</th><th scope=col>LibrarySource</th><th scope=col>Organism</th><th scope=col>Platform</th><th scope=col>ReleaseDate</th><th scope=col>Sample.Name</th><th scope=col>SRA.Study</th></tr>\n",
       "\t<tr><th></th><th scope=col>&lt;chr&gt;</th><th scope=col>&lt;chr&gt;</th><th scope=col>&lt;chr&gt;</th><th scope=col>&lt;chr&gt;</th><th scope=col>&lt;chr&gt;</th><th scope=col>&lt;chr&gt;</th><th scope=col>&lt;lgl&gt;</th><th scope=col>&lt;chr&gt;</th><th scope=col>&lt;int&gt;</th><th scope=col>&lt;chr&gt;</th><th scope=col>⋯</th><th scope=col>&lt;chr&gt;</th><th scope=col>&lt;chr&gt;</th><th scope=col>&lt;chr&gt;</th><th scope=col>&lt;chr&gt;</th><th scope=col>&lt;chr&gt;</th><th scope=col>&lt;chr&gt;</th><th scope=col>&lt;chr&gt;</th><th scope=col>&lt;chr&gt;</th><th scope=col>&lt;chr&gt;</th><th scope=col>&lt;chr&gt;</th></tr>\n",
       "</thead>\n",
       "<tbody>\n",
       "\t<tr><th scope=row>1</th><td>SRR2920475</td><td>Corces-4983-Monocytes-Control</td><td>Corces-4983-Monocytes-Control-1</td><td>Corces-4983</td><td>MYELOID</td><td>Monocytes</td><td>FALSE</td><td>Control</td><td>1</td><td>ATAC-Seq</td><td>⋯</td><td>SRX1427798</td><td>NextSeq 500</td><td>PAIRED</td><td>other</td><td>GENOMIC</td><td>Homo sapiens</td><td>ILLUMINA</td><td>2016-06-01T00:00:00Z</td><td>GSM1937385</td><td>SRP066100</td></tr>\n",
       "\t<tr><th scope=row>2</th><td>SRR2920488</td><td>Corces-6792-Monocytes-Control</td><td>Corces-6792-Monocytes-Control-1</td><td>Corces-6792</td><td>MYELOID</td><td>Monocytes</td><td>FALSE</td><td>Control</td><td>1</td><td>ATAC-Seq</td><td>⋯</td><td>SRX1427811</td><td>NextSeq 500</td><td>PAIRED</td><td>other</td><td>GENOMIC</td><td>Homo sapiens</td><td>ILLUMINA</td><td>2016-06-01T00:00:00Z</td><td>GSM1937398</td><td>SRP066100</td></tr>\n",
       "\t<tr><th scope=row>3</th><td>SRR2920476</td><td>Corces-4983-Monocytes-Control</td><td>Corces-4983-Monocytes-Control-2</td><td>Corces-4983</td><td>MYELOID</td><td>Monocytes</td><td>FALSE</td><td>Control</td><td>2</td><td>ATAC-Seq</td><td>⋯</td><td>SRX1427799</td><td>NextSeq 500</td><td>PAIRED</td><td>other</td><td>GENOMIC</td><td>Homo sapiens</td><td>ILLUMINA</td><td>2016-06-01T00:00:00Z</td><td>GSM1937386</td><td>SRP066100</td></tr>\n",
       "\t<tr><th scope=row>4</th><td>SRR2920487</td><td>Corces-6792-Monocytes-Control</td><td>Corces-6792-Monocytes-Control-2</td><td>Corces-6792</td><td>MYELOID</td><td>Monocytes</td><td>FALSE</td><td>Control</td><td>2</td><td>ATAC-Seq</td><td>⋯</td><td>SRX1427810</td><td>NextSeq 500</td><td>PAIRED</td><td>other</td><td>GENOMIC</td><td>Homo sapiens</td><td>ILLUMINA</td><td>2016-06-01T00:00:00Z</td><td>GSM1937397</td><td>SRP066100</td></tr>\n",
       "\t<tr><th scope=row>5</th><td>SRR2920542</td><td>Corces-7256-Monocytes-Control</td><td>Corces-7256-Monocytes-Control-1</td><td>Corces-7256</td><td>MYELOID</td><td>Monocytes</td><td>FALSE</td><td>Control</td><td>1</td><td>ATAC-Seq</td><td>⋯</td><td>SRX1427865</td><td>NextSeq 500</td><td>PAIRED</td><td>other</td><td>GENOMIC</td><td>Homo sapiens</td><td>ILLUMINA</td><td>2016-06-01T00:00:00Z</td><td>GSM1937452</td><td>SRP066100</td></tr>\n",
       "\t<tr><th scope=row>6</th><td>SRR2920543</td><td>Corces-7256-Monocytes-Control</td><td>Corces-7256-Monocytes-Control-2</td><td>Corces-7256</td><td>MYELOID</td><td>Monocytes</td><td>FALSE</td><td>Control</td><td>2</td><td>ATAC-Seq</td><td>⋯</td><td>SRX1427866</td><td>NextSeq 500</td><td>PAIRED</td><td>other</td><td>GENOMIC</td><td>Homo sapiens</td><td>ILLUMINA</td><td>2016-06-01T00:00:00Z</td><td>GSM1937453</td><td>SRP066100</td></tr>\n",
       "</tbody>\n",
       "</table>\n"
      ],
      "text/latex": [
       "A data.frame: 6 × 27\n",
       "\\begin{tabular}{r|lllllllllllllllllllll}\n",
       "  & Run & Group.ID & Sample.ID & Donor & Lineage & Cell\\_type & Stimulated & Treatment & Replicate & Assay.Type & ⋯ & Experiment & Instrument & LibraryLayout & LibrarySelection & LibrarySource & Organism & Platform & ReleaseDate & Sample.Name & SRA.Study\\\\\n",
       "  & <chr> & <chr> & <chr> & <chr> & <chr> & <chr> & <lgl> & <chr> & <int> & <chr> & ⋯ & <chr> & <chr> & <chr> & <chr> & <chr> & <chr> & <chr> & <chr> & <chr> & <chr>\\\\\n",
       "\\hline\n",
       "\t1 & SRR2920475 & Corces-4983-Monocytes-Control & Corces-4983-Monocytes-Control-1 & Corces-4983 & MYELOID & Monocytes & FALSE & Control & 1 & ATAC-Seq & ⋯ & SRX1427798 & NextSeq 500 & PAIRED & other & GENOMIC & Homo sapiens & ILLUMINA & 2016-06-01T00:00:00Z & GSM1937385 & SRP066100\\\\\n",
       "\t2 & SRR2920488 & Corces-6792-Monocytes-Control & Corces-6792-Monocytes-Control-1 & Corces-6792 & MYELOID & Monocytes & FALSE & Control & 1 & ATAC-Seq & ⋯ & SRX1427811 & NextSeq 500 & PAIRED & other & GENOMIC & Homo sapiens & ILLUMINA & 2016-06-01T00:00:00Z & GSM1937398 & SRP066100\\\\\n",
       "\t3 & SRR2920476 & Corces-4983-Monocytes-Control & Corces-4983-Monocytes-Control-2 & Corces-4983 & MYELOID & Monocytes & FALSE & Control & 2 & ATAC-Seq & ⋯ & SRX1427799 & NextSeq 500 & PAIRED & other & GENOMIC & Homo sapiens & ILLUMINA & 2016-06-01T00:00:00Z & GSM1937386 & SRP066100\\\\\n",
       "\t4 & SRR2920487 & Corces-6792-Monocytes-Control & Corces-6792-Monocytes-Control-2 & Corces-6792 & MYELOID & Monocytes & FALSE & Control & 2 & ATAC-Seq & ⋯ & SRX1427810 & NextSeq 500 & PAIRED & other & GENOMIC & Homo sapiens & ILLUMINA & 2016-06-01T00:00:00Z & GSM1937397 & SRP066100\\\\\n",
       "\t5 & SRR2920542 & Corces-7256-Monocytes-Control & Corces-7256-Monocytes-Control-1 & Corces-7256 & MYELOID & Monocytes & FALSE & Control & 1 & ATAC-Seq & ⋯ & SRX1427865 & NextSeq 500 & PAIRED & other & GENOMIC & Homo sapiens & ILLUMINA & 2016-06-01T00:00:00Z & GSM1937452 & SRP066100\\\\\n",
       "\t6 & SRR2920543 & Corces-7256-Monocytes-Control & Corces-7256-Monocytes-Control-2 & Corces-7256 & MYELOID & Monocytes & FALSE & Control & 2 & ATAC-Seq & ⋯ & SRX1427866 & NextSeq 500 & PAIRED & other & GENOMIC & Homo sapiens & ILLUMINA & 2016-06-01T00:00:00Z & GSM1937453 & SRP066100\\\\\n",
       "\\end{tabular}\n"
      ],
      "text/markdown": [
       "\n",
       "A data.frame: 6 × 27\n",
       "\n",
       "| <!--/--> | Run &lt;chr&gt; | Group.ID &lt;chr&gt; | Sample.ID &lt;chr&gt; | Donor &lt;chr&gt; | Lineage &lt;chr&gt; | Cell_type &lt;chr&gt; | Stimulated &lt;lgl&gt; | Treatment &lt;chr&gt; | Replicate &lt;int&gt; | Assay.Type &lt;chr&gt; | ⋯ ⋯ | Experiment &lt;chr&gt; | Instrument &lt;chr&gt; | LibraryLayout &lt;chr&gt; | LibrarySelection &lt;chr&gt; | LibrarySource &lt;chr&gt; | Organism &lt;chr&gt; | Platform &lt;chr&gt; | ReleaseDate &lt;chr&gt; | Sample.Name &lt;chr&gt; | SRA.Study &lt;chr&gt; |\n",
       "|---|---|---|---|---|---|---|---|---|---|---|---|---|---|---|---|---|---|---|---|---|---|\n",
       "| 1 | SRR2920475 | Corces-4983-Monocytes-Control | Corces-4983-Monocytes-Control-1 | Corces-4983 | MYELOID | Monocytes | FALSE | Control | 1 | ATAC-Seq | ⋯ | SRX1427798 | NextSeq 500 | PAIRED | other | GENOMIC | Homo sapiens | ILLUMINA | 2016-06-01T00:00:00Z | GSM1937385 | SRP066100 |\n",
       "| 2 | SRR2920488 | Corces-6792-Monocytes-Control | Corces-6792-Monocytes-Control-1 | Corces-6792 | MYELOID | Monocytes | FALSE | Control | 1 | ATAC-Seq | ⋯ | SRX1427811 | NextSeq 500 | PAIRED | other | GENOMIC | Homo sapiens | ILLUMINA | 2016-06-01T00:00:00Z | GSM1937398 | SRP066100 |\n",
       "| 3 | SRR2920476 | Corces-4983-Monocytes-Control | Corces-4983-Monocytes-Control-2 | Corces-4983 | MYELOID | Monocytes | FALSE | Control | 2 | ATAC-Seq | ⋯ | SRX1427799 | NextSeq 500 | PAIRED | other | GENOMIC | Homo sapiens | ILLUMINA | 2016-06-01T00:00:00Z | GSM1937386 | SRP066100 |\n",
       "| 4 | SRR2920487 | Corces-6792-Monocytes-Control | Corces-6792-Monocytes-Control-2 | Corces-6792 | MYELOID | Monocytes | FALSE | Control | 2 | ATAC-Seq | ⋯ | SRX1427810 | NextSeq 500 | PAIRED | other | GENOMIC | Homo sapiens | ILLUMINA | 2016-06-01T00:00:00Z | GSM1937397 | SRP066100 |\n",
       "| 5 | SRR2920542 | Corces-7256-Monocytes-Control | Corces-7256-Monocytes-Control-1 | Corces-7256 | MYELOID | Monocytes | FALSE | Control | 1 | ATAC-Seq | ⋯ | SRX1427865 | NextSeq 500 | PAIRED | other | GENOMIC | Homo sapiens | ILLUMINA | 2016-06-01T00:00:00Z | GSM1937452 | SRP066100 |\n",
       "| 6 | SRR2920543 | Corces-7256-Monocytes-Control | Corces-7256-Monocytes-Control-2 | Corces-7256 | MYELOID | Monocytes | FALSE | Control | 2 | ATAC-Seq | ⋯ | SRX1427866 | NextSeq 500 | PAIRED | other | GENOMIC | Homo sapiens | ILLUMINA | 2016-06-01T00:00:00Z | GSM1937453 | SRP066100 |\n",
       "\n"
      ],
      "text/plain": [
       "  Run        Group.ID                      Sample.ID                      \n",
       "1 SRR2920475 Corces-4983-Monocytes-Control Corces-4983-Monocytes-Control-1\n",
       "2 SRR2920488 Corces-6792-Monocytes-Control Corces-6792-Monocytes-Control-1\n",
       "3 SRR2920476 Corces-4983-Monocytes-Control Corces-4983-Monocytes-Control-2\n",
       "4 SRR2920487 Corces-6792-Monocytes-Control Corces-6792-Monocytes-Control-2\n",
       "5 SRR2920542 Corces-7256-Monocytes-Control Corces-7256-Monocytes-Control-1\n",
       "6 SRR2920543 Corces-7256-Monocytes-Control Corces-7256-Monocytes-Control-2\n",
       "  Donor       Lineage Cell_type Stimulated Treatment Replicate Assay.Type ⋯\n",
       "1 Corces-4983 MYELOID Monocytes FALSE      Control   1         ATAC-Seq   ⋯\n",
       "2 Corces-6792 MYELOID Monocytes FALSE      Control   1         ATAC-Seq   ⋯\n",
       "3 Corces-4983 MYELOID Monocytes FALSE      Control   2         ATAC-Seq   ⋯\n",
       "4 Corces-6792 MYELOID Monocytes FALSE      Control   2         ATAC-Seq   ⋯\n",
       "5 Corces-7256 MYELOID Monocytes FALSE      Control   1         ATAC-Seq   ⋯\n",
       "6 Corces-7256 MYELOID Monocytes FALSE      Control   2         ATAC-Seq   ⋯\n",
       "  Experiment Instrument  LibraryLayout LibrarySelection LibrarySource\n",
       "1 SRX1427798 NextSeq 500 PAIRED        other            GENOMIC      \n",
       "2 SRX1427811 NextSeq 500 PAIRED        other            GENOMIC      \n",
       "3 SRX1427799 NextSeq 500 PAIRED        other            GENOMIC      \n",
       "4 SRX1427810 NextSeq 500 PAIRED        other            GENOMIC      \n",
       "5 SRX1427865 NextSeq 500 PAIRED        other            GENOMIC      \n",
       "6 SRX1427866 NextSeq 500 PAIRED        other            GENOMIC      \n",
       "  Organism     Platform ReleaseDate          Sample.Name SRA.Study\n",
       "1 Homo sapiens ILLUMINA 2016-06-01T00:00:00Z GSM1937385  SRP066100\n",
       "2 Homo sapiens ILLUMINA 2016-06-01T00:00:00Z GSM1937398  SRP066100\n",
       "3 Homo sapiens ILLUMINA 2016-06-01T00:00:00Z GSM1937386  SRP066100\n",
       "4 Homo sapiens ILLUMINA 2016-06-01T00:00:00Z GSM1937397  SRP066100\n",
       "5 Homo sapiens ILLUMINA 2016-06-01T00:00:00Z GSM1937452  SRP066100\n",
       "6 Homo sapiens ILLUMINA 2016-06-01T00:00:00Z GSM1937453  SRP066100"
      ]
     },
     "metadata": {},
     "output_type": "display_data"
    }
   ],
   "source": [
    "head(atac.meta)"
   ]
  },
  {
   "cell_type": "code",
   "execution_count": 44,
   "id": "db0a9769-86f2-49db-9dc1-df038590a596",
   "metadata": {},
   "outputs": [],
   "source": [
    "data.mtx <- atac.meta %>%\n",
    "    dplyr::select(Group.ID, Donor, Cell_type, Stimulated) %>%\n",
    "    dplyr::mutate(Stimulated=ifelse(Stimulated, \"Stimulated\", \"Control\")) %>%\n",
    "    dplyr::mutate(Group=interaction(Cell_type, Stimulated)) %>%\n",
    "    dplyr::select(Group.ID, Donor, Group) %>%\n",
    "    merge(., tss.enrichment.scores, by.x=\"Group.ID\", by.y=\"Sample\") %>%\n",
    "    merge(., shape.features, by.x=\"Group.ID\", by.y=\"Sample\")"
   ]
  },
  {
   "cell_type": "code",
   "execution_count": 45,
   "id": "d2a0eaaa-6b94-40c8-bd01-0bdf19d20346",
   "metadata": {},
   "outputs": [
    {
     "data": {
      "text/html": [
       "<table class=\"dataframe\">\n",
       "<caption>A data.frame: 6 × 10</caption>\n",
       "<thead>\n",
       "\t<tr><th></th><th scope=col>Group.ID</th><th scope=col>Donor</th><th scope=col>Group</th><th scope=col>TSS_Enrichment_Score</th><th scope=col>1:804821-805016</th><th scope=col>1:812642-812879</th><th scope=col>1:815224-815554</th><th scope=col>1:817057-817622</th><th scope=col>1:819712-820327</th><th scope=col>1:821473-823221</th></tr>\n",
       "\t<tr><th></th><th scope=col>&lt;chr&gt;</th><th scope=col>&lt;chr&gt;</th><th scope=col>&lt;fct&gt;</th><th scope=col>&lt;dbl&gt;</th><th scope=col>&lt;dbl&gt;</th><th scope=col>&lt;dbl&gt;</th><th scope=col>&lt;dbl&gt;</th><th scope=col>&lt;dbl&gt;</th><th scope=col>&lt;dbl&gt;</th><th scope=col>&lt;dbl&gt;</th></tr>\n",
       "</thead>\n",
       "<tbody>\n",
       "\t<tr><th scope=row>1</th><td>Calderon-1001-Bulk_B-Control                     </td><td>Calderon-1001</td><td>Bulk_B.Control                    </td><td>24.89519</td><td>-0.1423596</td><td> 0.07229998</td><td> 0.91331133</td><td> 0.088479460</td><td>-0.06979769</td><td>-0.0746096</td></tr>\n",
       "\t<tr><th scope=row>2</th><td>Calderon-1001-Bulk_B-Treatment_1                 </td><td>Calderon-1001</td><td>Bulk_B.Stimulated                 </td><td>26.17991</td><td>-0.1712491</td><td> 0.07229998</td><td>-0.18299406</td><td> 0.100023190</td><td>-0.05612937</td><td>-0.1170483</td></tr>\n",
       "\t<tr><th scope=row>3</th><td>Calderon-1001-Central_memory_CD8pos_T-Control    </td><td>Calderon-1001</td><td>Central_memory_CD8pos_T.Control   </td><td>27.64371</td><td> 0.0690419</td><td> 0.17290578</td><td> 0.07028024</td><td> 0.095439393</td><td>-0.14628528</td><td>-0.1383488</td></tr>\n",
       "\t<tr><th scope=row>4</th><td>Calderon-1001-Central_memory_CD8pos_T-Treatment_1</td><td>Calderon-1001</td><td>Central_memory_CD8pos_T.Stimulated</td><td>21.34979</td><td>-0.1054197</td><td> 0.26552140</td><td> 0.07028024</td><td> 0.194753166</td><td>-0.11220044</td><td>-0.1140524</td></tr>\n",
       "\t<tr><th scope=row>5</th><td>Calderon-1001-Effector_CD4pos_T-Control          </td><td>Calderon-1001</td><td>Effector_CD4pos_T.Control         </td><td>32.60889</td><td> 0.9257329</td><td>-0.17381919</td><td> 0.14926360</td><td>-0.002967073</td><td> 0.09602181</td><td>-0.1542764</td></tr>\n",
       "\t<tr><th scope=row>6</th><td>Calderon-1001-Effector_CD4pos_T-Treatment_1      </td><td>Calderon-1001</td><td>Effector_CD4pos_T.Stimulated      </td><td>25.63847</td><td>-0.1668195</td><td>-0.19535193</td><td> 0.50041493</td><td> 0.001737872</td><td> 0.05777375</td><td>-0.1302668</td></tr>\n",
       "</tbody>\n",
       "</table>\n"
      ],
      "text/latex": [
       "A data.frame: 6 × 10\n",
       "\\begin{tabular}{r|llllllllll}\n",
       "  & Group.ID & Donor & Group & TSS\\_Enrichment\\_Score & 1:804821-805016 & 1:812642-812879 & 1:815224-815554 & 1:817057-817622 & 1:819712-820327 & 1:821473-823221\\\\\n",
       "  & <chr> & <chr> & <fct> & <dbl> & <dbl> & <dbl> & <dbl> & <dbl> & <dbl> & <dbl>\\\\\n",
       "\\hline\n",
       "\t1 & Calderon-1001-Bulk\\_B-Control                      & Calderon-1001 & Bulk\\_B.Control                     & 24.89519 & -0.1423596 &  0.07229998 &  0.91331133 &  0.088479460 & -0.06979769 & -0.0746096\\\\\n",
       "\t2 & Calderon-1001-Bulk\\_B-Treatment\\_1                  & Calderon-1001 & Bulk\\_B.Stimulated                  & 26.17991 & -0.1712491 &  0.07229998 & -0.18299406 &  0.100023190 & -0.05612937 & -0.1170483\\\\\n",
       "\t3 & Calderon-1001-Central\\_memory\\_CD8pos\\_T-Control     & Calderon-1001 & Central\\_memory\\_CD8pos\\_T.Control    & 27.64371 &  0.0690419 &  0.17290578 &  0.07028024 &  0.095439393 & -0.14628528 & -0.1383488\\\\\n",
       "\t4 & Calderon-1001-Central\\_memory\\_CD8pos\\_T-Treatment\\_1 & Calderon-1001 & Central\\_memory\\_CD8pos\\_T.Stimulated & 21.34979 & -0.1054197 &  0.26552140 &  0.07028024 &  0.194753166 & -0.11220044 & -0.1140524\\\\\n",
       "\t5 & Calderon-1001-Effector\\_CD4pos\\_T-Control           & Calderon-1001 & Effector\\_CD4pos\\_T.Control          & 32.60889 &  0.9257329 & -0.17381919 &  0.14926360 & -0.002967073 &  0.09602181 & -0.1542764\\\\\n",
       "\t6 & Calderon-1001-Effector\\_CD4pos\\_T-Treatment\\_1       & Calderon-1001 & Effector\\_CD4pos\\_T.Stimulated       & 25.63847 & -0.1668195 & -0.19535193 &  0.50041493 &  0.001737872 &  0.05777375 & -0.1302668\\\\\n",
       "\\end{tabular}\n"
      ],
      "text/markdown": [
       "\n",
       "A data.frame: 6 × 10\n",
       "\n",
       "| <!--/--> | Group.ID &lt;chr&gt; | Donor &lt;chr&gt; | Group &lt;fct&gt; | TSS_Enrichment_Score &lt;dbl&gt; | 1:804821-805016 &lt;dbl&gt; | 1:812642-812879 &lt;dbl&gt; | 1:815224-815554 &lt;dbl&gt; | 1:817057-817622 &lt;dbl&gt; | 1:819712-820327 &lt;dbl&gt; | 1:821473-823221 &lt;dbl&gt; |\n",
       "|---|---|---|---|---|---|---|---|---|---|---|\n",
       "| 1 | Calderon-1001-Bulk_B-Control                      | Calderon-1001 | Bulk_B.Control                     | 24.89519 | -0.1423596 |  0.07229998 |  0.91331133 |  0.088479460 | -0.06979769 | -0.0746096 |\n",
       "| 2 | Calderon-1001-Bulk_B-Treatment_1                  | Calderon-1001 | Bulk_B.Stimulated                  | 26.17991 | -0.1712491 |  0.07229998 | -0.18299406 |  0.100023190 | -0.05612937 | -0.1170483 |\n",
       "| 3 | Calderon-1001-Central_memory_CD8pos_T-Control     | Calderon-1001 | Central_memory_CD8pos_T.Control    | 27.64371 |  0.0690419 |  0.17290578 |  0.07028024 |  0.095439393 | -0.14628528 | -0.1383488 |\n",
       "| 4 | Calderon-1001-Central_memory_CD8pos_T-Treatment_1 | Calderon-1001 | Central_memory_CD8pos_T.Stimulated | 21.34979 | -0.1054197 |  0.26552140 |  0.07028024 |  0.194753166 | -0.11220044 | -0.1140524 |\n",
       "| 5 | Calderon-1001-Effector_CD4pos_T-Control           | Calderon-1001 | Effector_CD4pos_T.Control          | 32.60889 |  0.9257329 | -0.17381919 |  0.14926360 | -0.002967073 |  0.09602181 | -0.1542764 |\n",
       "| 6 | Calderon-1001-Effector_CD4pos_T-Treatment_1       | Calderon-1001 | Effector_CD4pos_T.Stimulated       | 25.63847 | -0.1668195 | -0.19535193 |  0.50041493 |  0.001737872 |  0.05777375 | -0.1302668 |\n",
       "\n"
      ],
      "text/plain": [
       "  Group.ID                                          Donor        \n",
       "1 Calderon-1001-Bulk_B-Control                      Calderon-1001\n",
       "2 Calderon-1001-Bulk_B-Treatment_1                  Calderon-1001\n",
       "3 Calderon-1001-Central_memory_CD8pos_T-Control     Calderon-1001\n",
       "4 Calderon-1001-Central_memory_CD8pos_T-Treatment_1 Calderon-1001\n",
       "5 Calderon-1001-Effector_CD4pos_T-Control           Calderon-1001\n",
       "6 Calderon-1001-Effector_CD4pos_T-Treatment_1       Calderon-1001\n",
       "  Group                              TSS_Enrichment_Score 1:804821-805016\n",
       "1 Bulk_B.Control                     24.89519             -0.1423596     \n",
       "2 Bulk_B.Stimulated                  26.17991             -0.1712491     \n",
       "3 Central_memory_CD8pos_T.Control    27.64371              0.0690419     \n",
       "4 Central_memory_CD8pos_T.Stimulated 21.34979             -0.1054197     \n",
       "5 Effector_CD4pos_T.Control          32.60889              0.9257329     \n",
       "6 Effector_CD4pos_T.Stimulated       25.63847             -0.1668195     \n",
       "  1:812642-812879 1:815224-815554 1:817057-817622 1:819712-820327\n",
       "1  0.07229998      0.91331133      0.088479460    -0.06979769    \n",
       "2  0.07229998     -0.18299406      0.100023190    -0.05612937    \n",
       "3  0.17290578      0.07028024      0.095439393    -0.14628528    \n",
       "4  0.26552140      0.07028024      0.194753166    -0.11220044    \n",
       "5 -0.17381919      0.14926360     -0.002967073     0.09602181    \n",
       "6 -0.19535193      0.50041493      0.001737872     0.05777375    \n",
       "  1:821473-823221\n",
       "1 -0.0746096     \n",
       "2 -0.1170483     \n",
       "3 -0.1383488     \n",
       "4 -0.1140524     \n",
       "5 -0.1542764     \n",
       "6 -0.1302668     "
      ]
     },
     "metadata": {},
     "output_type": "display_data"
    }
   ],
   "source": [
    "head(data.mtx[,1:10])"
   ]
  },
  {
   "cell_type": "markdown",
   "id": "166262c7-7827-46c6-bfe6-4cfbdeafdc53",
   "metadata": {},
   "source": [
    "## Linear Model"
   ]
  },
  {
   "cell_type": "code",
   "execution_count": 46,
   "id": "e1cfe114-5ca7-465c-a7c0-554f0b2d5808",
   "metadata": {},
   "outputs": [
    {
     "data": {
      "text/plain": [
       "\n",
       "Call:\n",
       "lm(formula = f, data = data.mtx)\n",
       "\n",
       "Coefficients:\n",
       "                             (Intercept)  \n",
       "                               0.1911797  \n",
       "                      DonorCalderon-1002  \n",
       "                              -0.2783306  \n",
       "                      DonorCalderon-1003  \n",
       "                              -0.0844372  \n",
       "                      DonorCalderon-1004  \n",
       "                              -0.0185201  \n",
       "                      DonorCalderon-1008  \n",
       "                              -0.3055371  \n",
       "                      DonorCalderon-1010  \n",
       "                              -0.3608206  \n",
       "                      DonorCalderon-1011  \n",
       "                               0.2420579  \n",
       "                        DonorCorces-4983  \n",
       "                              -0.0288141  \n",
       "                        DonorCorces-6792  \n",
       "                              -0.0322506  \n",
       "                        DonorCorces-7256  \n",
       "                              -0.0306085  \n",
       "                    TSS_Enrichment_Score  \n",
       "                              -0.0004311  \n",
       "    GroupCentral_memory_CD8pos_T.Control  \n",
       "                              -0.2432190  \n",
       "          GroupEffector_CD4pos_T.Control  \n",
       "                               0.0302904  \n",
       "   GroupEffector_memory_CD8pos_T.Control  \n",
       "                              -0.0986931  \n",
       "        GroupFollicular_T_Helper.Control  \n",
       "                               0.0269251  \n",
       "              GroupGamma_delta_T.Control  \n",
       "                               0.0669672  \n",
       "                GroupImmature_NK.Control  \n",
       "                              -0.0433331  \n",
       "                  GroupMature_NK.Control  \n",
       "                              -0.1419651  \n",
       "                      GroupMem_B.Control  \n",
       "                              -0.2180109  \n",
       "                  GroupMemory_NK.Control  \n",
       "                              -0.0085348  \n",
       "               GroupMemory_Teffs.Control  \n",
       "                               0.0478428  \n",
       "               GroupMemory_Tregs.Control  \n",
       "                              -0.2198975  \n",
       "                  GroupMonocytes.Control  \n",
       "                              -0.0771798  \n",
       "                GroupMyeloid_DCs.Control  \n",
       "                               0.0092189  \n",
       "                    GroupNaive_B.Control  \n",
       "                               0.0151385  \n",
       "                GroupNaive_CD8_T.Control  \n",
       "                              -0.1855361  \n",
       "                GroupNaive_Teffs.Control  \n",
       "                              -0.0014473  \n",
       "                GroupNaive_Tregs.Control  \n",
       "                               0.2529596  \n",
       "                       GrouppDCs.Control  \n",
       "                               0.0088413  \n",
       "               GroupPlasmablasts.Control  \n",
       "                               0.0275140  \n",
       "               GroupRegulatory_T.Control  \n",
       "                              -0.1388017  \n",
       "             GroupTh1_precursors.Control  \n",
       "                              -0.2225209  \n",
       "            GroupTh17_precursors.Control  \n",
       "                              -0.3841516  \n",
       "             GroupTh2_precursors.Control  \n",
       "                              -0.2967545  \n",
       "                  GroupBulk_B.Stimulated  \n",
       "                              -0.1813044  \n",
       " GroupCentral_memory_CD8pos_T.Stimulated  \n",
       "                               0.0668305  \n",
       "       GroupEffector_CD4pos_T.Stimulated  \n",
       "                              -0.2186909  \n",
       "GroupEffector_memory_CD8pos_T.Stimulated  \n",
       "                              -0.0715003  \n",
       "     GroupFollicular_T_Helper.Stimulated  \n",
       "                              -0.1674178  \n",
       "           GroupGamma_delta_T.Stimulated  \n",
       "                              -0.2606400  \n",
       "               GroupMature_NK.Stimulated  \n",
       "                               0.0316934  \n",
       "                   GroupMem_B.Stimulated  \n",
       "                               0.1243920  \n",
       "            GroupMemory_Teffs.Stimulated  \n",
       "                              -0.2211795  \n",
       "            GroupMemory_Tregs.Stimulated  \n",
       "                               0.0443099  \n",
       "               GroupMonocytes.Stimulated  \n",
       "                              -0.0893192  \n",
       "                 GroupNaive_B.Stimulated  \n",
       "                              -0.1987636  \n",
       "             GroupNaive_CD8_T.Stimulated  \n",
       "                               0.0058920  \n",
       "             GroupNaive_Teffs.Stimulated  \n",
       "                              -0.2255028  \n",
       "             GroupNaive_Tregs.Stimulated  \n",
       "                              -0.2761663  \n",
       "            GroupRegulatory_T.Stimulated  \n",
       "                              -0.0358224  \n",
       "          GroupTh1_precursors.Stimulated  \n",
       "                               0.0500464  \n",
       "         GroupTh17_precursors.Stimulated  \n",
       "                               0.1385012  \n",
       "          GroupTh2_precursors.Stimulated  \n",
       "                               0.1203086  \n"
      ]
     },
     "metadata": {},
     "output_type": "display_data"
    }
   ],
   "source": [
    "f <- as.formula(paste0(\"`1:804821-805016`\", \"~Donor+TSS_Enrichment_Score+Group\"))\n",
    "lm(f, data=data.mtx)"
   ]
  },
  {
   "cell_type": "code",
   "execution_count": 40,
   "id": "f37dffe6-69a1-4181-9315-28132cd0998f",
   "metadata": {},
   "outputs": [
    {
     "name": "stderr",
     "output_type": "stream",
     "text": [
      "`stat_bin()` using `bins = 30`. Pick better value with `binwidth`.\n",
      "\n"
     ]
    },
    {
     "data": {
      "image/png": "[encoded data removed]",
      "text/plain": [
       "plot without title"
      ]
     },
     "metadata": {
      "image/png": {
       "height": 420,
       "width": 420
      }
     },
     "output_type": "display_data"
    }
   ],
   "source": [
    "qplot(data.mtx[,\"1:804821-805016\"])"
   ]
  },
  {
   "cell_type": "code",
   "execution_count": null,
   "id": "7099f8d2-c4c1-4a16-8af0-5b49b7c46212",
   "metadata": {},
   "outputs": [],
   "source": []
  }
 ],
 "metadata": {
  "kernelspec": {
   "display_name": "R",
   "language": "R",
   "name": "ir"
  },
  "language_info": {
   "codemirror_mode": "r",
   "file_extension": ".r",
   "mimetype": "text/x-r-source",
   "name": "R",
   "pygments_lexer": "r",
   "version": "4.0.5"
  }
 },
 "nbformat": 4,
 "nbformat_minor": 5
}
