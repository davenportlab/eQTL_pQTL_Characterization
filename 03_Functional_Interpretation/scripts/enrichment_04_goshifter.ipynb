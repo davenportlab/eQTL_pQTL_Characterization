{
 "cells": [
  {
   "cell_type": "markdown",
   "id": "cb2df767-d6c8-499c-b6ef-45637881bead",
   "metadata": {
    "tags": []
   },
   "source": [
    "# GoShifter\n",
    "\n",
    "**Created**: 1 July 2022"
   ]
  },
  {
   "cell_type": "markdown",
   "id": "2367b082-0894-493f-b646-301a2274c3d2",
   "metadata": {
    "tags": []
   },
   "source": [
    "## Environment"
   ]
  },
  {
   "cell_type": "code",
   "execution_count": 1,
   "id": "1937c453-e444-4976-97f2-72d00c9e8195",
   "metadata": {},
   "outputs": [
    {
     "name": "stderr",
     "output_type": "stream",
     "text": [
      "── \u001b[1mAttaching packages\u001b[22m ───────────────────────────────────────────────────────────────────────────────────────────────────────────────────────────────────────────────────────────────────────────── tidyverse 1.3.1 ──\n",
      "\n",
      "\u001b[32m✔\u001b[39m \u001b[34mggplot2\u001b[39m 3.3.6     \u001b[32m✔\u001b[39m \u001b[34mpurrr  \u001b[39m 0.3.4\n",
      "\u001b[32m✔\u001b[39m \u001b[34mtibble \u001b[39m 3.1.7     \u001b[32m✔\u001b[39m \u001b[34mdplyr  \u001b[39m 1.0.8\n",
      "\u001b[32m✔\u001b[39m \u001b[34mtidyr  \u001b[39m 1.2.0     \u001b[32m✔\u001b[39m \u001b[34mstringr\u001b[39m 1.4.0\n",
      "\u001b[32m✔\u001b[39m \u001b[34mreadr  \u001b[39m 2.1.1     \u001b[32m✔\u001b[39m \u001b[34mforcats\u001b[39m 0.5.1\n",
      "\n",
      "── \u001b[1mConflicts\u001b[22m ──────────────────────────────────────────────────────────────────────────────────────────────────────────────────────────────────────────────────────────────────────────────── tidyverse_conflicts() ──\n",
      "\u001b[31m✖\u001b[39m \u001b[34mdplyr\u001b[39m::\u001b[32mfilter()\u001b[39m masks \u001b[34mstats\u001b[39m::filter()\n",
      "\u001b[31m✖\u001b[39m \u001b[34mdplyr\u001b[39m::\u001b[32mlag()\u001b[39m    masks \u001b[34mstats\u001b[39m::lag()\n",
      "\n",
      "\n",
      "Attaching package: ‘data.table’\n",
      "\n",
      "\n",
      "The following objects are masked from ‘package:dplyr’:\n",
      "\n",
      "    between, first, last\n",
      "\n",
      "\n",
      "The following object is masked from ‘package:purrr’:\n",
      "\n",
      "    transpose\n",
      "\n",
      "\n",
      "Loading required package: grid\n",
      "\n",
      "========================================\n",
      "ComplexHeatmap version 2.6.2\n",
      "Bioconductor page: http://bioconductor.org/packages/ComplexHeatmap/\n",
      "Github page: https://github.com/jokergoo/ComplexHeatmap\n",
      "Documentation: http://jokergoo.github.io/ComplexHeatmap-reference\n",
      "\n",
      "If you use it in published research, please cite:\n",
      "Gu, Z. Complex heatmaps reveal patterns and correlations in multidimensional \n",
      "  genomic data. Bioinformatics 2016.\n",
      "\n",
      "This message can be suppressed by:\n",
      "  suppressPackageStartupMessages(library(ComplexHeatmap))\n",
      "========================================\n",
      "\n",
      "\n",
      "========================================\n",
      "circlize version 0.4.13\n",
      "CRAN page: https://cran.r-project.org/package=circlize\n",
      "Github page: https://github.com/jokergoo/circlize\n",
      "Documentation: https://jokergoo.github.io/circlize_book/book/\n",
      "\n",
      "If you use it in published research, please cite:\n",
      "Gu, Z. circlize implements and enhances circular visualization\n",
      "  in R. Bioinformatics 2014.\n",
      "\n",
      "This message can be suppressed by:\n",
      "  suppressPackageStartupMessages(library(circlize))\n",
      "========================================\n",
      "\n",
      "\n"
     ]
    }
   ],
   "source": [
    "library(tidyverse)\n",
    "library(data.table)\n",
    "library(ComplexHeatmap)\n",
    "library(circlize)\n",
    "\n",
    "setwd(\"~/eQTL_pQTL_Characterization/\")\n",
    "\n",
    "source(\"03_Functional_Interpretation/scripts/utils/ggplot_theme.R\")"
   ]
  },
  {
   "cell_type": "markdown",
   "id": "782def8a-8354-4d22-90c9-1560dd9968ee",
   "metadata": {
    "tags": []
   },
   "source": [
    "## Load Data"
   ]
  },
  {
   "cell_type": "code",
   "execution_count": 141,
   "id": "82bb73a7-3cde-47fc-8bef-9b3316f69904",
   "metadata": {},
   "outputs": [],
   "source": [
    "meta <- read.csv(\"03_Functional_Interpretation/metadata/reads_atac_seq.txt\")"
   ]
  },
  {
   "cell_type": "code",
   "execution_count": 2,
   "id": "81dd537f-431c-4cf8-ab8c-1d5da58916f2",
   "metadata": {},
   "outputs": [],
   "source": [
    "files.dir <- \"/nfs/users/nfs_n/nm18/gains_team282/epigenetics/enrichment/go_shifter/conditional_snps_ld/\"\n",
    "files <- list.files(files.dir)\n",
    "files <- files[grepl(\"overlap_scores\", files)]\n",
    "\n",
    "overlap.scores <- lapply(files, function(file) {\n",
    "    fread(paste0(files.dir, \"/\", file)) %>%\n",
    "        as.data.frame() %>%\n",
    "        dplyr::mutate(Group=gsub(\"conditional_snps_ld_\", \"\", gsub(\"_overlap_scores.tsv\", \"\", file)))\n",
    "}) %>%\n",
    "    do.call(rbind, .) %>%\n",
    "    dplyr::mutate(Overlap_Score=ifelse(Overlap == 1, Overlap_Score, 1))"
   ]
  },
  {
   "cell_type": "code",
   "execution_count": 3,
   "id": "b6751642-fa0f-47f5-8c36-aaaf51526c04",
   "metadata": {},
   "outputs": [],
   "source": [
    "loci <- read.table(\"/nfs/users/nfs_n/nm18/gains_team282/epigenetics/enrichment/go_shifter/snp_lists/conditional_snps_ld.txt\", header=T)"
   ]
  },
  {
   "cell_type": "code",
   "execution_count": 4,
   "id": "8c5a93e9-9017-4a8b-9ffc-b01c7bb92caa",
   "metadata": {},
   "outputs": [],
   "source": [
    "c.cis.eqtl <- read.table(\"/nfs/users/nfs_n/nm18/gains_team282/eqtl/cisresults/conditionalanalysis/conditional_eQTL_results_final.txt\")"
   ]
  },
  {
   "cell_type": "code",
   "execution_count": 22,
   "id": "16042ab8-15a4-4de7-8d01-84f8c435611d",
   "metadata": {},
   "outputs": [],
   "source": [
    "gene.info <- read.table(\"/nfs/team282/data/gains_team282/gene_info_864_20412_hla.txt\") %>%\n",
    "    dplyr::select(gene_id, gene_name)"
   ]
  },
  {
   "cell_type": "markdown",
   "id": "f17a59e7-3b3a-48bf-9f1e-b02ce7ac9e23",
   "metadata": {
    "tags": []
   },
   "source": [
    "## Identify Specificity of Peaks"
   ]
  },
  {
   "cell_type": "markdown",
   "id": "3cee2cf2-d4ae-46a8-b650-2341ed547812",
   "metadata": {},
   "source": [
    "The \"overlap score\" is the probability that an observed overlap for a locus would occur by chance. It is calculated empirically by GoShifter based on how many permutations also generate the overlap. Thus, a lower overlap score suggests that the overlap occuring in the observed annotation is more unique.\n",
    "\n",
    "I take the complementary score (so that more interesting loci have higher values). I then use the specificity method implemented in CHEERS (Euclidean normalisation) to identify peaks that are uniquely important to one anno"
   ]
  },
  {
   "cell_type": "code",
   "execution_count": 5,
   "id": "89f4f1ab-b93a-418d-8935-5cba5e5c79e8",
   "metadata": {},
   "outputs": [],
   "source": [
    "score.mtx <- overlap.scores %>%\n",
    "    dplyr::select(Locus, Group, Overlap_Score) %>%\n",
    "    tidyr::spread(Group, Overlap_Score)\n",
    "\n",
    "rownames(score.mtx) <- score.mtx$Locus\n",
    "score.mtx$Locus <- NULL\n",
    "score.mtx <- 1 - as.matrix(score.mtx)\n",
    "\n",
    "score.mtx <- score.mtx[rowSums(score.mtx) != 0, ]"
   ]
  },
  {
   "cell_type": "code",
   "execution_count": 192,
   "id": "a9d33640-a8f2-4705-988e-a19d0222e887",
   "metadata": {},
   "outputs": [
    {
     "data": {
      "text/html": [
       "<strong>png:</strong> 2"
      ],
      "text/latex": [
       "\\textbf{png:} 2"
      ],
      "text/markdown": [
       "**png:** 2"
      ],
      "text/plain": [
       "png \n",
       "  2 "
      ]
     },
     "metadata": {},
     "output_type": "display_data"
    }
   ],
   "source": [
    "options(repr.plot.width=18, repr.plot.height=24)\n",
    "\n",
    "col_fun = colorRamp2(c(0, 1), c(\"white\", \"royalblue4\"))\n",
    "\n",
    "ht = Heatmap(\n",
    "    score.mtx, name=\"Score\", \n",
    "    use_raster=TRUE, col=col_fun,\n",
    "    show_row_dend=F, show_column_dend=F, show_row_names=F,\n",
    "    column_names_max_height = max_text_width(\n",
    "        colnames(specificity.mtx), \n",
    "        gp = gpar(fontsize = 12)\n",
    "    ),\n",
    "    column_names_rot = 45, column_title=NULL,\n",
    ")\n",
    "\n",
    "pdf(\"04_Expression/results/goshifter_score_matrix.pdf\", width=18, height=24)\n",
    "draw(ht, padding = unit(c(4, 30, 2, 2), \"mm\"))\n",
    "dev.off()"
   ]
  },
  {
   "cell_type": "markdown",
   "id": "9724d658-57a0-41f3-9449-1ed1086c0bbf",
   "metadata": {},
   "source": [
    "Take the Euclidean norm of each row."
   ]
  },
  {
   "cell_type": "code",
   "execution_count": null,
   "id": "0c25fa81-b495-451a-bfcc-2a2afbba3d34",
   "metadata": {},
   "outputs": [],
   "source": []
  }
 ],
 "metadata": {
  "kernelspec": {
   "display_name": "R",
   "language": "R",
   "name": "ir"
  },
  "language_info": {
   "codemirror_mode": "r",
   "file_extension": ".r",
   "mimetype": "text/x-r-source",
   "name": "R",
   "pygments_lexer": "r",
   "version": "4.0.5"
  }
 },
 "nbformat": 4,
 "nbformat_minor": 5
}
