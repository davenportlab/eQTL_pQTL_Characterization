{
 "cells": [
  {
   "cell_type": "markdown",
   "id": "a41b8a23-ebab-460c-a926-d5f77db3ad03",
   "metadata": {},
   "source": [
    "# Process Metadata\n",
    "\n",
    "**Created**: 28 January 2022"
   ]
  },
  {
   "cell_type": "markdown",
   "id": "804c746f-ddba-4307-bbea-dd4f8d6b514b",
   "metadata": {},
   "source": [
    "## Environment"
   ]
  },
  {
   "cell_type": "code",
   "execution_count": 1,
   "id": "0e5cac9a-2e16-4808-9736-d05be695b503",
   "metadata": {},
   "outputs": [
    {
     "name": "stderr",
     "output_type": "stream",
     "text": [
      "── \u001b[1mAttaching packages\u001b[22m ──────────────────────────────────────────────────────────────────────────────────────────────────────────────────────────────────────────────────────────────────────────── tidyverse 1.3.1 ──\n",
      "\n",
      "\u001b[32m✔\u001b[39m \u001b[34mggplot2\u001b[39m 3.3.5     \u001b[32m✔\u001b[39m \u001b[34mpurrr  \u001b[39m 0.3.4\n",
      "\u001b[32m✔\u001b[39m \u001b[34mtibble \u001b[39m 3.1.6     \u001b[32m✔\u001b[39m \u001b[34mdplyr  \u001b[39m 1.0.7\n",
      "\u001b[32m✔\u001b[39m \u001b[34mtidyr  \u001b[39m 1.1.4     \u001b[32m✔\u001b[39m \u001b[34mstringr\u001b[39m 1.4.0\n",
      "\u001b[32m✔\u001b[39m \u001b[34mreadr  \u001b[39m 2.1.1     \u001b[32m✔\u001b[39m \u001b[34mforcats\u001b[39m 0.5.1\n",
      "\n",
      "── \u001b[1mConflicts\u001b[22m ─────────────────────────────────────────────────────────────────────────────────────────────────────────────────────────────────────────────────────────────────────────────── tidyverse_conflicts() ──\n",
      "\u001b[31m✖\u001b[39m \u001b[34mdplyr\u001b[39m::\u001b[32mfilter()\u001b[39m masks \u001b[34mstats\u001b[39m::filter()\n",
      "\u001b[31m✖\u001b[39m \u001b[34mdplyr\u001b[39m::\u001b[32mlag()\u001b[39m    masks \u001b[34mstats\u001b[39m::lag()\n",
      "\n"
     ]
    }
   ],
   "source": [
    "library(tidyverse)\n",
    "\n",
    "setwd(\"~/eQTL_pQTL_Characterization/\")\n",
    "\n",
    "source(\"03_Functional_Interpretation/scripts/utils/ggplot_theme.R\")"
   ]
  },
  {
   "cell_type": "markdown",
   "id": "7d33c50d-eb55-4054-96ff-ef4750ab303b",
   "metadata": {
    "jp-MarkdownHeadingCollapsed": true,
    "tags": []
   },
   "source": [
    "## Load Data"
   ]
  },
  {
   "cell_type": "code",
   "execution_count": 2,
   "id": "d9664dea-07a6-482d-adc8-45a9690b16b2",
   "metadata": {},
   "outputs": [],
   "source": [
    "corces.rna <- read.csv(\"03_Functional_Interpretation/metadata/reads_corces_et_al_rna_seq.txt\")"
   ]
  },
  {
   "cell_type": "code",
   "execution_count": 3,
   "id": "2f2f5a93-1f1e-47d0-bba3-c0e701d617ed",
   "metadata": {},
   "outputs": [
    {
     "data": {
      "text/html": [
       "<table class=\"dataframe\">\n",
       "<caption>A data.frame: 6 × 27</caption>\n",
       "<thead>\n",
       "\t<tr><th></th><th scope=col>Run</th><th scope=col>Assay.Type</th><th scope=col>AvgSpotLen</th><th scope=col>Bases</th><th scope=col>BioProject</th><th scope=col>BioSample</th><th scope=col>Bytes</th><th scope=col>Cell_type</th><th scope=col>Center.Name</th><th scope=col>Consent</th><th scope=col>⋯</th><th scope=col>LibraryLayout</th><th scope=col>LibrarySelection</th><th scope=col>LibrarySource</th><th scope=col>Organism</th><th scope=col>Platform</th><th scope=col>ReleaseDate</th><th scope=col>Sample.Name</th><th scope=col>sample_type</th><th scope=col>source_name</th><th scope=col>SRA.Study</th></tr>\n",
       "\t<tr><th></th><th scope=col>&lt;chr&gt;</th><th scope=col>&lt;chr&gt;</th><th scope=col>&lt;int&gt;</th><th scope=col>&lt;dbl&gt;</th><th scope=col>&lt;chr&gt;</th><th scope=col>&lt;chr&gt;</th><th scope=col>&lt;dbl&gt;</th><th scope=col>&lt;chr&gt;</th><th scope=col>&lt;chr&gt;</th><th scope=col>&lt;chr&gt;</th><th scope=col>⋯</th><th scope=col>&lt;chr&gt;</th><th scope=col>&lt;chr&gt;</th><th scope=col>&lt;chr&gt;</th><th scope=col>&lt;chr&gt;</th><th scope=col>&lt;chr&gt;</th><th scope=col>&lt;chr&gt;</th><th scope=col>&lt;chr&gt;</th><th scope=col>&lt;chr&gt;</th><th scope=col>&lt;chr&gt;</th><th scope=col>&lt;chr&gt;</th></tr>\n",
       "</thead>\n",
       "<tbody>\n",
       "\t<tr><th scope=row>1</th><td>SRR2753073</td><td>RNA-Seq</td><td>152</td><td>2499434952</td><td>PRJNA299579</td><td>SAMN04202270</td><td> 917802411</td><td>CD19+CD20+ B cell        </td><td>GEO</td><td>public</td><td>⋯</td><td>PAIRED</td><td>cDNA</td><td>TRANSCRIPTOMIC</td><td>Homo sapiens</td><td>ILLUMINA</td><td>2016-06-01T00:00:00Z</td><td>GSM1915578</td><td>primary human blood cell from fresh sample</td><td>Bcell   </td><td>SRP065216</td></tr>\n",
       "\t<tr><th scope=row>2</th><td>SRR2753074</td><td>RNA-Seq</td><td>152</td><td>3466260440</td><td>PRJNA299579</td><td>SAMN04202271</td><td>1271795980</td><td>CD4+ T cell              </td><td>GEO</td><td>public</td><td>⋯</td><td>PAIRED</td><td>cDNA</td><td>TRANSCRIPTOMIC</td><td>Homo sapiens</td><td>ILLUMINA</td><td>2016-06-01T00:00:00Z</td><td>GSM1915579</td><td>primary human blood cell from fresh sample</td><td>CD4Tcell</td><td>SRP065216</td></tr>\n",
       "\t<tr><th scope=row>3</th><td>SRR2753075</td><td>RNA-Seq</td><td>152</td><td>2741578704</td><td>PRJNA299579</td><td>SAMN04202272</td><td>1021980377</td><td>CD8+ T cell              </td><td>GEO</td><td>public</td><td>⋯</td><td>PAIRED</td><td>cDNA</td><td>TRANSCRIPTOMIC</td><td>Homo sapiens</td><td>ILLUMINA</td><td>2016-06-01T00:00:00Z</td><td>GSM1915580</td><td>primary human blood cell from fresh sample</td><td>CD8Tcell</td><td>SRP065216</td></tr>\n",
       "\t<tr><th scope=row>4</th><td>SRR2753076</td><td>RNA-Seq</td><td>152</td><td>2126469056</td><td>PRJNA299579</td><td>SAMN04202273</td><td> 780195374</td><td>CD56+ natural killer cell</td><td>GEO</td><td>public</td><td>⋯</td><td>PAIRED</td><td>cDNA</td><td>TRANSCRIPTOMIC</td><td>Homo sapiens</td><td>ILLUMINA</td><td>2016-06-01T00:00:00Z</td><td>GSM1915581</td><td>primary human blood cell from fresh sample</td><td>NKcell  </td><td>SRP065216</td></tr>\n",
       "\t<tr><th scope=row>5</th><td>SRR2753077</td><td>RNA-Seq</td><td>152</td><td>5392149384</td><td>PRJNA299579</td><td>SAMN04202274</td><td>2031941214</td><td>CD19+CD20+ B cell        </td><td>GEO</td><td>public</td><td>⋯</td><td>PAIRED</td><td>cDNA</td><td>TRANSCRIPTOMIC</td><td>Homo sapiens</td><td>ILLUMINA</td><td>2016-06-01T00:00:00Z</td><td>GSM1915582</td><td>primary human blood cell from fresh sample</td><td>Bcell   </td><td>SRP065216</td></tr>\n",
       "\t<tr><th scope=row>6</th><td>SRR2753078</td><td>RNA-Seq</td><td>152</td><td>5504681216</td><td>PRJNA299579</td><td>SAMN04202275</td><td>2020270092</td><td>CD4+ T cell              </td><td>GEO</td><td>public</td><td>⋯</td><td>PAIRED</td><td>cDNA</td><td>TRANSCRIPTOMIC</td><td>Homo sapiens</td><td>ILLUMINA</td><td>2016-06-01T00:00:00Z</td><td>GSM1915583</td><td>primary human blood cell from fresh sample</td><td>CD4Tcell</td><td>SRP065216</td></tr>\n",
       "</tbody>\n",
       "</table>\n"
      ],
      "text/latex": [
       "A data.frame: 6 × 27\n",
       "\\begin{tabular}{r|lllllllllllllllllllll}\n",
       "  & Run & Assay.Type & AvgSpotLen & Bases & BioProject & BioSample & Bytes & Cell\\_type & Center.Name & Consent & ⋯ & LibraryLayout & LibrarySelection & LibrarySource & Organism & Platform & ReleaseDate & Sample.Name & sample\\_type & source\\_name & SRA.Study\\\\\n",
       "  & <chr> & <chr> & <int> & <dbl> & <chr> & <chr> & <dbl> & <chr> & <chr> & <chr> & ⋯ & <chr> & <chr> & <chr> & <chr> & <chr> & <chr> & <chr> & <chr> & <chr> & <chr>\\\\\n",
       "\\hline\n",
       "\t1 & SRR2753073 & RNA-Seq & 152 & 2499434952 & PRJNA299579 & SAMN04202270 &  917802411 & CD19+CD20+ B cell         & GEO & public & ⋯ & PAIRED & cDNA & TRANSCRIPTOMIC & Homo sapiens & ILLUMINA & 2016-06-01T00:00:00Z & GSM1915578 & primary human blood cell from fresh sample & Bcell    & SRP065216\\\\\n",
       "\t2 & SRR2753074 & RNA-Seq & 152 & 3466260440 & PRJNA299579 & SAMN04202271 & 1271795980 & CD4+ T cell               & GEO & public & ⋯ & PAIRED & cDNA & TRANSCRIPTOMIC & Homo sapiens & ILLUMINA & 2016-06-01T00:00:00Z & GSM1915579 & primary human blood cell from fresh sample & CD4Tcell & SRP065216\\\\\n",
       "\t3 & SRR2753075 & RNA-Seq & 152 & 2741578704 & PRJNA299579 & SAMN04202272 & 1021980377 & CD8+ T cell               & GEO & public & ⋯ & PAIRED & cDNA & TRANSCRIPTOMIC & Homo sapiens & ILLUMINA & 2016-06-01T00:00:00Z & GSM1915580 & primary human blood cell from fresh sample & CD8Tcell & SRP065216\\\\\n",
       "\t4 & SRR2753076 & RNA-Seq & 152 & 2126469056 & PRJNA299579 & SAMN04202273 &  780195374 & CD56+ natural killer cell & GEO & public & ⋯ & PAIRED & cDNA & TRANSCRIPTOMIC & Homo sapiens & ILLUMINA & 2016-06-01T00:00:00Z & GSM1915581 & primary human blood cell from fresh sample & NKcell   & SRP065216\\\\\n",
       "\t5 & SRR2753077 & RNA-Seq & 152 & 5392149384 & PRJNA299579 & SAMN04202274 & 2031941214 & CD19+CD20+ B cell         & GEO & public & ⋯ & PAIRED & cDNA & TRANSCRIPTOMIC & Homo sapiens & ILLUMINA & 2016-06-01T00:00:00Z & GSM1915582 & primary human blood cell from fresh sample & Bcell    & SRP065216\\\\\n",
       "\t6 & SRR2753078 & RNA-Seq & 152 & 5504681216 & PRJNA299579 & SAMN04202275 & 2020270092 & CD4+ T cell               & GEO & public & ⋯ & PAIRED & cDNA & TRANSCRIPTOMIC & Homo sapiens & ILLUMINA & 2016-06-01T00:00:00Z & GSM1915583 & primary human blood cell from fresh sample & CD4Tcell & SRP065216\\\\\n",
       "\\end{tabular}\n"
      ],
      "text/markdown": [
       "\n",
       "A data.frame: 6 × 27\n",
       "\n",
       "| <!--/--> | Run &lt;chr&gt; | Assay.Type &lt;chr&gt; | AvgSpotLen &lt;int&gt; | Bases &lt;dbl&gt; | BioProject &lt;chr&gt; | BioSample &lt;chr&gt; | Bytes &lt;dbl&gt; | Cell_type &lt;chr&gt; | Center.Name &lt;chr&gt; | Consent &lt;chr&gt; | ⋯ ⋯ | LibraryLayout &lt;chr&gt; | LibrarySelection &lt;chr&gt; | LibrarySource &lt;chr&gt; | Organism &lt;chr&gt; | Platform &lt;chr&gt; | ReleaseDate &lt;chr&gt; | Sample.Name &lt;chr&gt; | sample_type &lt;chr&gt; | source_name &lt;chr&gt; | SRA.Study &lt;chr&gt; |\n",
       "|---|---|---|---|---|---|---|---|---|---|---|---|---|---|---|---|---|---|---|---|---|---|\n",
       "| 1 | SRR2753073 | RNA-Seq | 152 | 2499434952 | PRJNA299579 | SAMN04202270 |  917802411 | CD19+CD20+ B cell         | GEO | public | ⋯ | PAIRED | cDNA | TRANSCRIPTOMIC | Homo sapiens | ILLUMINA | 2016-06-01T00:00:00Z | GSM1915578 | primary human blood cell from fresh sample | Bcell    | SRP065216 |\n",
       "| 2 | SRR2753074 | RNA-Seq | 152 | 3466260440 | PRJNA299579 | SAMN04202271 | 1271795980 | CD4+ T cell               | GEO | public | ⋯ | PAIRED | cDNA | TRANSCRIPTOMIC | Homo sapiens | ILLUMINA | 2016-06-01T00:00:00Z | GSM1915579 | primary human blood cell from fresh sample | CD4Tcell | SRP065216 |\n",
       "| 3 | SRR2753075 | RNA-Seq | 152 | 2741578704 | PRJNA299579 | SAMN04202272 | 1021980377 | CD8+ T cell               | GEO | public | ⋯ | PAIRED | cDNA | TRANSCRIPTOMIC | Homo sapiens | ILLUMINA | 2016-06-01T00:00:00Z | GSM1915580 | primary human blood cell from fresh sample | CD8Tcell | SRP065216 |\n",
       "| 4 | SRR2753076 | RNA-Seq | 152 | 2126469056 | PRJNA299579 | SAMN04202273 |  780195374 | CD56+ natural killer cell | GEO | public | ⋯ | PAIRED | cDNA | TRANSCRIPTOMIC | Homo sapiens | ILLUMINA | 2016-06-01T00:00:00Z | GSM1915581 | primary human blood cell from fresh sample | NKcell   | SRP065216 |\n",
       "| 5 | SRR2753077 | RNA-Seq | 152 | 5392149384 | PRJNA299579 | SAMN04202274 | 2031941214 | CD19+CD20+ B cell         | GEO | public | ⋯ | PAIRED | cDNA | TRANSCRIPTOMIC | Homo sapiens | ILLUMINA | 2016-06-01T00:00:00Z | GSM1915582 | primary human blood cell from fresh sample | Bcell    | SRP065216 |\n",
       "| 6 | SRR2753078 | RNA-Seq | 152 | 5504681216 | PRJNA299579 | SAMN04202275 | 2020270092 | CD4+ T cell               | GEO | public | ⋯ | PAIRED | cDNA | TRANSCRIPTOMIC | Homo sapiens | ILLUMINA | 2016-06-01T00:00:00Z | GSM1915583 | primary human blood cell from fresh sample | CD4Tcell | SRP065216 |\n",
       "\n"
      ],
      "text/plain": [
       "  Run        Assay.Type AvgSpotLen Bases      BioProject  BioSample   \n",
       "1 SRR2753073 RNA-Seq    152        2499434952 PRJNA299579 SAMN04202270\n",
       "2 SRR2753074 RNA-Seq    152        3466260440 PRJNA299579 SAMN04202271\n",
       "3 SRR2753075 RNA-Seq    152        2741578704 PRJNA299579 SAMN04202272\n",
       "4 SRR2753076 RNA-Seq    152        2126469056 PRJNA299579 SAMN04202273\n",
       "5 SRR2753077 RNA-Seq    152        5392149384 PRJNA299579 SAMN04202274\n",
       "6 SRR2753078 RNA-Seq    152        5504681216 PRJNA299579 SAMN04202275\n",
       "  Bytes      Cell_type                 Center.Name Consent ⋯ LibraryLayout\n",
       "1  917802411 CD19+CD20+ B cell         GEO         public  ⋯ PAIRED       \n",
       "2 1271795980 CD4+ T cell               GEO         public  ⋯ PAIRED       \n",
       "3 1021980377 CD8+ T cell               GEO         public  ⋯ PAIRED       \n",
       "4  780195374 CD56+ natural killer cell GEO         public  ⋯ PAIRED       \n",
       "5 2031941214 CD19+CD20+ B cell         GEO         public  ⋯ PAIRED       \n",
       "6 2020270092 CD4+ T cell               GEO         public  ⋯ PAIRED       \n",
       "  LibrarySelection LibrarySource  Organism     Platform ReleaseDate         \n",
       "1 cDNA             TRANSCRIPTOMIC Homo sapiens ILLUMINA 2016-06-01T00:00:00Z\n",
       "2 cDNA             TRANSCRIPTOMIC Homo sapiens ILLUMINA 2016-06-01T00:00:00Z\n",
       "3 cDNA             TRANSCRIPTOMIC Homo sapiens ILLUMINA 2016-06-01T00:00:00Z\n",
       "4 cDNA             TRANSCRIPTOMIC Homo sapiens ILLUMINA 2016-06-01T00:00:00Z\n",
       "5 cDNA             TRANSCRIPTOMIC Homo sapiens ILLUMINA 2016-06-01T00:00:00Z\n",
       "6 cDNA             TRANSCRIPTOMIC Homo sapiens ILLUMINA 2016-06-01T00:00:00Z\n",
       "  Sample.Name sample_type                                source_name SRA.Study\n",
       "1 GSM1915578  primary human blood cell from fresh sample Bcell       SRP065216\n",
       "2 GSM1915579  primary human blood cell from fresh sample CD4Tcell    SRP065216\n",
       "3 GSM1915580  primary human blood cell from fresh sample CD8Tcell    SRP065216\n",
       "4 GSM1915581  primary human blood cell from fresh sample NKcell      SRP065216\n",
       "5 GSM1915582  primary human blood cell from fresh sample Bcell       SRP065216\n",
       "6 GSM1915583  primary human blood cell from fresh sample CD4Tcell    SRP065216"
      ]
     },
     "metadata": {},
     "output_type": "display_data"
    }
   ],
   "source": [
    "head(corces.rna)"
   ]
  },
  {
   "cell_type": "code",
   "execution_count": 4,
   "id": "c54ee541-aaf5-4861-be3e-10e92e7dd41c",
   "metadata": {},
   "outputs": [],
   "source": [
    "corces.atac <- read.csv(\"03_Functional_Interpretation/metadata/reads_corces_et_al_atac_seq.txt\")"
   ]
  },
  {
   "cell_type": "code",
   "execution_count": 5,
   "id": "5ff6440b-9c8c-47ae-b657-9972e7916fd3",
   "metadata": {},
   "outputs": [
    {
     "data": {
      "text/html": [
       "<table class=\"dataframe\">\n",
       "<caption>A data.frame: 6 × 27</caption>\n",
       "<thead>\n",
       "\t<tr><th></th><th scope=col>Run</th><th scope=col>Assay.Type</th><th scope=col>AvgSpotLen</th><th scope=col>Bases</th><th scope=col>BioProject</th><th scope=col>BioSample</th><th scope=col>Bytes</th><th scope=col>Cell_type</th><th scope=col>Center.Name</th><th scope=col>Consent</th><th scope=col>⋯</th><th scope=col>LibraryLayout</th><th scope=col>LibrarySelection</th><th scope=col>LibrarySource</th><th scope=col>Organism</th><th scope=col>Platform</th><th scope=col>ReleaseDate</th><th scope=col>Sample.Name</th><th scope=col>sample_type</th><th scope=col>source_name</th><th scope=col>SRA.Study</th></tr>\n",
       "\t<tr><th></th><th scope=col>&lt;chr&gt;</th><th scope=col>&lt;chr&gt;</th><th scope=col>&lt;int&gt;</th><th scope=col>&lt;dbl&gt;</th><th scope=col>&lt;chr&gt;</th><th scope=col>&lt;chr&gt;</th><th scope=col>&lt;dbl&gt;</th><th scope=col>&lt;chr&gt;</th><th scope=col>&lt;chr&gt;</th><th scope=col>&lt;chr&gt;</th><th scope=col>⋯</th><th scope=col>&lt;chr&gt;</th><th scope=col>&lt;chr&gt;</th><th scope=col>&lt;chr&gt;</th><th scope=col>&lt;chr&gt;</th><th scope=col>&lt;chr&gt;</th><th scope=col>&lt;chr&gt;</th><th scope=col>&lt;chr&gt;</th><th scope=col>&lt;chr&gt;</th><th scope=col>&lt;chr&gt;</th><th scope=col>&lt;chr&gt;</th></tr>\n",
       "</thead>\n",
       "<tbody>\n",
       "\t<tr><th scope=row>1</th><td>SRR2920469</td><td>OTHER</td><td>152</td><td>1257813224</td><td>PRJNA301969</td><td>SAMN04262109</td><td>498852967</td><td>common myeloid progenitor cell         </td><td>GEO</td><td>public</td><td>⋯</td><td>PAIRED</td><td>other</td><td>GENOMIC</td><td>Homo sapiens</td><td>ILLUMINA</td><td>2016-06-01T00:00:00Z</td><td>GSM1937379</td><td>primary human blood cell from fresh sample</td><td>CMP </td><td>SRP066100</td></tr>\n",
       "\t<tr><th scope=row>2</th><td>SRR2920470</td><td>OTHER</td><td>152</td><td>1455210456</td><td>PRJNA301969</td><td>SAMN04262110</td><td>571808638</td><td>common myeloid progenitor cell         </td><td>GEO</td><td>public</td><td>⋯</td><td>PAIRED</td><td>other</td><td>GENOMIC</td><td>Homo sapiens</td><td>ILLUMINA</td><td>2016-06-01T00:00:00Z</td><td>GSM1937380</td><td>primary human blood cell from fresh sample</td><td>CMP </td><td>SRP066100</td></tr>\n",
       "\t<tr><th scope=row>3</th><td>SRR2920473</td><td>OTHER</td><td>152</td><td>1329950600</td><td>PRJNA301969</td><td>SAMN04262113</td><td>527992127</td><td>megakaryocyte erythroid progenitor cell</td><td>GEO</td><td>public</td><td>⋯</td><td>PAIRED</td><td>other</td><td>GENOMIC</td><td>Homo sapiens</td><td>ILLUMINA</td><td>2016-06-01T00:00:00Z</td><td>GSM1937383</td><td>primary human blood cell from fresh sample</td><td>MEP </td><td>SRP066100</td></tr>\n",
       "\t<tr><th scope=row>4</th><td>SRR2920475</td><td>OTHER</td><td>152</td><td>1276139712</td><td>PRJNA301969</td><td>SAMN04262115</td><td>504572193</td><td>CD14+ monocyte cell                    </td><td>GEO</td><td>public</td><td>⋯</td><td>PAIRED</td><td>other</td><td>GENOMIC</td><td>Homo sapiens</td><td>ILLUMINA</td><td>2016-06-01T00:00:00Z</td><td>GSM1937385</td><td>primary human blood cell from fresh sample</td><td>Mono</td><td>SRP066100</td></tr>\n",
       "\t<tr><th scope=row>5</th><td>SRR2920478</td><td>OTHER</td><td>152</td><td>1200138344</td><td>PRJNA301969</td><td>SAMN04262118</td><td>551707268</td><td>hematopoietic stem cell                </td><td>GEO</td><td>public</td><td>⋯</td><td>PAIRED</td><td>other</td><td>GENOMIC</td><td>Homo sapiens</td><td>ILLUMINA</td><td>2016-06-01T00:00:00Z</td><td>GSM1937388</td><td>primary human blood cell from fresh sample</td><td>HSC </td><td>SRP066100</td></tr>\n",
       "\t<tr><th scope=row>6</th><td>SRR2920479</td><td>OTHER</td><td>152</td><td>1077631056</td><td>PRJNA301969</td><td>SAMN04262119</td><td>495254398</td><td>multipotent progenitor cell            </td><td>GEO</td><td>public</td><td>⋯</td><td>PAIRED</td><td>other</td><td>GENOMIC</td><td>Homo sapiens</td><td>ILLUMINA</td><td>2016-06-01T00:00:00Z</td><td>GSM1937389</td><td>primary human blood cell from fresh sample</td><td>MPP </td><td>SRP066100</td></tr>\n",
       "</tbody>\n",
       "</table>\n"
      ],
      "text/latex": [
       "A data.frame: 6 × 27\n",
       "\\begin{tabular}{r|lllllllllllllllllllll}\n",
       "  & Run & Assay.Type & AvgSpotLen & Bases & BioProject & BioSample & Bytes & Cell\\_type & Center.Name & Consent & ⋯ & LibraryLayout & LibrarySelection & LibrarySource & Organism & Platform & ReleaseDate & Sample.Name & sample\\_type & source\\_name & SRA.Study\\\\\n",
       "  & <chr> & <chr> & <int> & <dbl> & <chr> & <chr> & <dbl> & <chr> & <chr> & <chr> & ⋯ & <chr> & <chr> & <chr> & <chr> & <chr> & <chr> & <chr> & <chr> & <chr> & <chr>\\\\\n",
       "\\hline\n",
       "\t1 & SRR2920469 & OTHER & 152 & 1257813224 & PRJNA301969 & SAMN04262109 & 498852967 & common myeloid progenitor cell          & GEO & public & ⋯ & PAIRED & other & GENOMIC & Homo sapiens & ILLUMINA & 2016-06-01T00:00:00Z & GSM1937379 & primary human blood cell from fresh sample & CMP  & SRP066100\\\\\n",
       "\t2 & SRR2920470 & OTHER & 152 & 1455210456 & PRJNA301969 & SAMN04262110 & 571808638 & common myeloid progenitor cell          & GEO & public & ⋯ & PAIRED & other & GENOMIC & Homo sapiens & ILLUMINA & 2016-06-01T00:00:00Z & GSM1937380 & primary human blood cell from fresh sample & CMP  & SRP066100\\\\\n",
       "\t3 & SRR2920473 & OTHER & 152 & 1329950600 & PRJNA301969 & SAMN04262113 & 527992127 & megakaryocyte erythroid progenitor cell & GEO & public & ⋯ & PAIRED & other & GENOMIC & Homo sapiens & ILLUMINA & 2016-06-01T00:00:00Z & GSM1937383 & primary human blood cell from fresh sample & MEP  & SRP066100\\\\\n",
       "\t4 & SRR2920475 & OTHER & 152 & 1276139712 & PRJNA301969 & SAMN04262115 & 504572193 & CD14+ monocyte cell                     & GEO & public & ⋯ & PAIRED & other & GENOMIC & Homo sapiens & ILLUMINA & 2016-06-01T00:00:00Z & GSM1937385 & primary human blood cell from fresh sample & Mono & SRP066100\\\\\n",
       "\t5 & SRR2920478 & OTHER & 152 & 1200138344 & PRJNA301969 & SAMN04262118 & 551707268 & hematopoietic stem cell                 & GEO & public & ⋯ & PAIRED & other & GENOMIC & Homo sapiens & ILLUMINA & 2016-06-01T00:00:00Z & GSM1937388 & primary human blood cell from fresh sample & HSC  & SRP066100\\\\\n",
       "\t6 & SRR2920479 & OTHER & 152 & 1077631056 & PRJNA301969 & SAMN04262119 & 495254398 & multipotent progenitor cell             & GEO & public & ⋯ & PAIRED & other & GENOMIC & Homo sapiens & ILLUMINA & 2016-06-01T00:00:00Z & GSM1937389 & primary human blood cell from fresh sample & MPP  & SRP066100\\\\\n",
       "\\end{tabular}\n"
      ],
      "text/markdown": [
       "\n",
       "A data.frame: 6 × 27\n",
       "\n",
       "| <!--/--> | Run &lt;chr&gt; | Assay.Type &lt;chr&gt; | AvgSpotLen &lt;int&gt; | Bases &lt;dbl&gt; | BioProject &lt;chr&gt; | BioSample &lt;chr&gt; | Bytes &lt;dbl&gt; | Cell_type &lt;chr&gt; | Center.Name &lt;chr&gt; | Consent &lt;chr&gt; | ⋯ ⋯ | LibraryLayout &lt;chr&gt; | LibrarySelection &lt;chr&gt; | LibrarySource &lt;chr&gt; | Organism &lt;chr&gt; | Platform &lt;chr&gt; | ReleaseDate &lt;chr&gt; | Sample.Name &lt;chr&gt; | sample_type &lt;chr&gt; | source_name &lt;chr&gt; | SRA.Study &lt;chr&gt; |\n",
       "|---|---|---|---|---|---|---|---|---|---|---|---|---|---|---|---|---|---|---|---|---|---|\n",
       "| 1 | SRR2920469 | OTHER | 152 | 1257813224 | PRJNA301969 | SAMN04262109 | 498852967 | common myeloid progenitor cell          | GEO | public | ⋯ | PAIRED | other | GENOMIC | Homo sapiens | ILLUMINA | 2016-06-01T00:00:00Z | GSM1937379 | primary human blood cell from fresh sample | CMP  | SRP066100 |\n",
       "| 2 | SRR2920470 | OTHER | 152 | 1455210456 | PRJNA301969 | SAMN04262110 | 571808638 | common myeloid progenitor cell          | GEO | public | ⋯ | PAIRED | other | GENOMIC | Homo sapiens | ILLUMINA | 2016-06-01T00:00:00Z | GSM1937380 | primary human blood cell from fresh sample | CMP  | SRP066100 |\n",
       "| 3 | SRR2920473 | OTHER | 152 | 1329950600 | PRJNA301969 | SAMN04262113 | 527992127 | megakaryocyte erythroid progenitor cell | GEO | public | ⋯ | PAIRED | other | GENOMIC | Homo sapiens | ILLUMINA | 2016-06-01T00:00:00Z | GSM1937383 | primary human blood cell from fresh sample | MEP  | SRP066100 |\n",
       "| 4 | SRR2920475 | OTHER | 152 | 1276139712 | PRJNA301969 | SAMN04262115 | 504572193 | CD14+ monocyte cell                     | GEO | public | ⋯ | PAIRED | other | GENOMIC | Homo sapiens | ILLUMINA | 2016-06-01T00:00:00Z | GSM1937385 | primary human blood cell from fresh sample | Mono | SRP066100 |\n",
       "| 5 | SRR2920478 | OTHER | 152 | 1200138344 | PRJNA301969 | SAMN04262118 | 551707268 | hematopoietic stem cell                 | GEO | public | ⋯ | PAIRED | other | GENOMIC | Homo sapiens | ILLUMINA | 2016-06-01T00:00:00Z | GSM1937388 | primary human blood cell from fresh sample | HSC  | SRP066100 |\n",
       "| 6 | SRR2920479 | OTHER | 152 | 1077631056 | PRJNA301969 | SAMN04262119 | 495254398 | multipotent progenitor cell             | GEO | public | ⋯ | PAIRED | other | GENOMIC | Homo sapiens | ILLUMINA | 2016-06-01T00:00:00Z | GSM1937389 | primary human blood cell from fresh sample | MPP  | SRP066100 |\n",
       "\n"
      ],
      "text/plain": [
       "  Run        Assay.Type AvgSpotLen Bases      BioProject  BioSample   \n",
       "1 SRR2920469 OTHER      152        1257813224 PRJNA301969 SAMN04262109\n",
       "2 SRR2920470 OTHER      152        1455210456 PRJNA301969 SAMN04262110\n",
       "3 SRR2920473 OTHER      152        1329950600 PRJNA301969 SAMN04262113\n",
       "4 SRR2920475 OTHER      152        1276139712 PRJNA301969 SAMN04262115\n",
       "5 SRR2920478 OTHER      152        1200138344 PRJNA301969 SAMN04262118\n",
       "6 SRR2920479 OTHER      152        1077631056 PRJNA301969 SAMN04262119\n",
       "  Bytes     Cell_type                               Center.Name Consent ⋯\n",
       "1 498852967 common myeloid progenitor cell          GEO         public  ⋯\n",
       "2 571808638 common myeloid progenitor cell          GEO         public  ⋯\n",
       "3 527992127 megakaryocyte erythroid progenitor cell GEO         public  ⋯\n",
       "4 504572193 CD14+ monocyte cell                     GEO         public  ⋯\n",
       "5 551707268 hematopoietic stem cell                 GEO         public  ⋯\n",
       "6 495254398 multipotent progenitor cell             GEO         public  ⋯\n",
       "  LibraryLayout LibrarySelection LibrarySource Organism     Platform\n",
       "1 PAIRED        other            GENOMIC       Homo sapiens ILLUMINA\n",
       "2 PAIRED        other            GENOMIC       Homo sapiens ILLUMINA\n",
       "3 PAIRED        other            GENOMIC       Homo sapiens ILLUMINA\n",
       "4 PAIRED        other            GENOMIC       Homo sapiens ILLUMINA\n",
       "5 PAIRED        other            GENOMIC       Homo sapiens ILLUMINA\n",
       "6 PAIRED        other            GENOMIC       Homo sapiens ILLUMINA\n",
       "  ReleaseDate          Sample.Name sample_type                               \n",
       "1 2016-06-01T00:00:00Z GSM1937379  primary human blood cell from fresh sample\n",
       "2 2016-06-01T00:00:00Z GSM1937380  primary human blood cell from fresh sample\n",
       "3 2016-06-01T00:00:00Z GSM1937383  primary human blood cell from fresh sample\n",
       "4 2016-06-01T00:00:00Z GSM1937385  primary human blood cell from fresh sample\n",
       "5 2016-06-01T00:00:00Z GSM1937388  primary human blood cell from fresh sample\n",
       "6 2016-06-01T00:00:00Z GSM1937389  primary human blood cell from fresh sample\n",
       "  source_name SRA.Study\n",
       "1 CMP         SRP066100\n",
       "2 CMP         SRP066100\n",
       "3 MEP         SRP066100\n",
       "4 Mono        SRP066100\n",
       "5 HSC         SRP066100\n",
       "6 MPP         SRP066100"
      ]
     },
     "metadata": {},
     "output_type": "display_data"
    }
   ],
   "source": [
    "head(corces.atac)"
   ]
  },
  {
   "cell_type": "code",
   "execution_count": 6,
   "id": "833ce262-1c2a-4f52-88f1-90544120884c",
   "metadata": {},
   "outputs": [],
   "source": [
    "calderon.rna <- read.csv(\"03_Functional_Interpretation/metadata/reads_calderon_et_al_rna_seq.txt\")"
   ]
  },
  {
   "cell_type": "code",
   "execution_count": 7,
   "id": "eebe7fd7-55a0-4c8f-a354-51ce764b5688",
   "metadata": {},
   "outputs": [
    {
     "data": {
      "text/html": [
       "<table class=\"dataframe\">\n",
       "<caption>A data.frame: 6 × 28</caption>\n",
       "<thead>\n",
       "\t<tr><th></th><th scope=col>Run</th><th scope=col>Assay.Type</th><th scope=col>AvgSpotLen</th><th scope=col>Bases</th><th scope=col>BioProject</th><th scope=col>BioSample</th><th scope=col>Bytes</th><th scope=col>Cell_type</th><th scope=col>Center.Name</th><th scope=col>Consent</th><th scope=col>⋯</th><th scope=col>LibrarySelection</th><th scope=col>LibrarySource</th><th scope=col>lineage</th><th scope=col>Organism</th><th scope=col>Platform</th><th scope=col>ReleaseDate</th><th scope=col>Sample.Name</th><th scope=col>source_name</th><th scope=col>SRA.Study</th><th scope=col>treatment</th></tr>\n",
       "\t<tr><th></th><th scope=col>&lt;chr&gt;</th><th scope=col>&lt;chr&gt;</th><th scope=col>&lt;int&gt;</th><th scope=col>&lt;dbl&gt;</th><th scope=col>&lt;chr&gt;</th><th scope=col>&lt;chr&gt;</th><th scope=col>&lt;dbl&gt;</th><th scope=col>&lt;chr&gt;</th><th scope=col>&lt;chr&gt;</th><th scope=col>&lt;chr&gt;</th><th scope=col>⋯</th><th scope=col>&lt;chr&gt;</th><th scope=col>&lt;chr&gt;</th><th scope=col>&lt;chr&gt;</th><th scope=col>&lt;chr&gt;</th><th scope=col>&lt;chr&gt;</th><th scope=col>&lt;chr&gt;</th><th scope=col>&lt;chr&gt;</th><th scope=col>&lt;chr&gt;</th><th scope=col>&lt;chr&gt;</th><th scope=col>&lt;chr&gt;</th></tr>\n",
       "</thead>\n",
       "<tbody>\n",
       "\t<tr><th scope=row>1</th><td>SRR11007061</td><td>RNA-Seq</td><td>192</td><td> 8160479782</td><td>PRJNA484735</td><td>SAMN09768434</td><td>2579781267</td><td>CD8pos_T                </td><td>GEO</td><td>public</td><td>⋯</td><td>cDNA</td><td>TRANSCRIPTOMIC</td><td>CD8</td><td>Homo sapiens</td><td>ILLUMINA</td><td>2020-02-04T00:00:00Z</td><td>GSM3319750</td><td>primary blood</td><td>SRP156452</td><td>no_treament</td></tr>\n",
       "\t<tr><th scope=row>2</th><td>SRR11007062</td><td>RNA-Seq</td><td>195</td><td>15315982752</td><td>PRJNA484735</td><td>SAMN09768433</td><td>4836924733</td><td>CD8pos_T                </td><td>GEO</td><td>public</td><td>⋯</td><td>cDNA</td><td>TRANSCRIPTOMIC</td><td>CD8</td><td>Homo sapiens</td><td>ILLUMINA</td><td>2020-02-04T00:00:00Z</td><td>GSM3319751</td><td>primary blood</td><td>SRP156452</td><td>treatment1 </td></tr>\n",
       "\t<tr><th scope=row>3</th><td>SRR11007063</td><td>RNA-Seq</td><td>195</td><td>13128598440</td><td>PRJNA484735</td><td>SAMN09768432</td><td>4155236675</td><td>Central_memory_CD8pos_T </td><td>GEO</td><td>public</td><td>⋯</td><td>cDNA</td><td>TRANSCRIPTOMIC</td><td>CD8</td><td>Homo sapiens</td><td>ILLUMINA</td><td>2020-02-04T00:00:00Z</td><td>GSM3319752</td><td>primary blood</td><td>SRP156452</td><td>no_treament</td></tr>\n",
       "\t<tr><th scope=row>4</th><td>SRR11007064</td><td>RNA-Seq</td><td>193</td><td> 4866405615</td><td>PRJNA484735</td><td>SAMN09768431</td><td>1546902050</td><td>Central_memory_CD8pos_T </td><td>GEO</td><td>public</td><td>⋯</td><td>cDNA</td><td>TRANSCRIPTOMIC</td><td>CD8</td><td>Homo sapiens</td><td>ILLUMINA</td><td>2020-02-04T00:00:00Z</td><td>GSM3319753</td><td>primary blood</td><td>SRP156452</td><td>treatment1 </td></tr>\n",
       "\t<tr><th scope=row>5</th><td>SRR11007065</td><td>RNA-Seq</td><td>195</td><td> 9601276948</td><td>PRJNA484735</td><td>SAMN09768430</td><td>3023735003</td><td>Effector_memory_CD8pos_T</td><td>GEO</td><td>public</td><td>⋯</td><td>cDNA</td><td>TRANSCRIPTOMIC</td><td>CD8</td><td>Homo sapiens</td><td>ILLUMINA</td><td>2020-02-04T00:00:00Z</td><td>GSM3319754</td><td>primary blood</td><td>SRP156452</td><td>no_treament</td></tr>\n",
       "\t<tr><th scope=row>6</th><td>SRR11007066</td><td>RNA-Seq</td><td>196</td><td> 9273440229</td><td>PRJNA484735</td><td>SAMN09768429</td><td>2953466798</td><td>Effector_memory_CD8pos_T</td><td>GEO</td><td>public</td><td>⋯</td><td>cDNA</td><td>TRANSCRIPTOMIC</td><td>CD8</td><td>Homo sapiens</td><td>ILLUMINA</td><td>2020-02-04T00:00:00Z</td><td>GSM3319755</td><td>primary blood</td><td>SRP156452</td><td>treatment1 </td></tr>\n",
       "</tbody>\n",
       "</table>\n"
      ],
      "text/latex": [
       "A data.frame: 6 × 28\n",
       "\\begin{tabular}{r|lllllllllllllllllllll}\n",
       "  & Run & Assay.Type & AvgSpotLen & Bases & BioProject & BioSample & Bytes & Cell\\_type & Center.Name & Consent & ⋯ & LibrarySelection & LibrarySource & lineage & Organism & Platform & ReleaseDate & Sample.Name & source\\_name & SRA.Study & treatment\\\\\n",
       "  & <chr> & <chr> & <int> & <dbl> & <chr> & <chr> & <dbl> & <chr> & <chr> & <chr> & ⋯ & <chr> & <chr> & <chr> & <chr> & <chr> & <chr> & <chr> & <chr> & <chr> & <chr>\\\\\n",
       "\\hline\n",
       "\t1 & SRR11007061 & RNA-Seq & 192 &  8160479782 & PRJNA484735 & SAMN09768434 & 2579781267 & CD8pos\\_T                 & GEO & public & ⋯ & cDNA & TRANSCRIPTOMIC & CD8 & Homo sapiens & ILLUMINA & 2020-02-04T00:00:00Z & GSM3319750 & primary blood & SRP156452 & no\\_treament\\\\\n",
       "\t2 & SRR11007062 & RNA-Seq & 195 & 15315982752 & PRJNA484735 & SAMN09768433 & 4836924733 & CD8pos\\_T                 & GEO & public & ⋯ & cDNA & TRANSCRIPTOMIC & CD8 & Homo sapiens & ILLUMINA & 2020-02-04T00:00:00Z & GSM3319751 & primary blood & SRP156452 & treatment1 \\\\\n",
       "\t3 & SRR11007063 & RNA-Seq & 195 & 13128598440 & PRJNA484735 & SAMN09768432 & 4155236675 & Central\\_memory\\_CD8pos\\_T  & GEO & public & ⋯ & cDNA & TRANSCRIPTOMIC & CD8 & Homo sapiens & ILLUMINA & 2020-02-04T00:00:00Z & GSM3319752 & primary blood & SRP156452 & no\\_treament\\\\\n",
       "\t4 & SRR11007064 & RNA-Seq & 193 &  4866405615 & PRJNA484735 & SAMN09768431 & 1546902050 & Central\\_memory\\_CD8pos\\_T  & GEO & public & ⋯ & cDNA & TRANSCRIPTOMIC & CD8 & Homo sapiens & ILLUMINA & 2020-02-04T00:00:00Z & GSM3319753 & primary blood & SRP156452 & treatment1 \\\\\n",
       "\t5 & SRR11007065 & RNA-Seq & 195 &  9601276948 & PRJNA484735 & SAMN09768430 & 3023735003 & Effector\\_memory\\_CD8pos\\_T & GEO & public & ⋯ & cDNA & TRANSCRIPTOMIC & CD8 & Homo sapiens & ILLUMINA & 2020-02-04T00:00:00Z & GSM3319754 & primary blood & SRP156452 & no\\_treament\\\\\n",
       "\t6 & SRR11007066 & RNA-Seq & 196 &  9273440229 & PRJNA484735 & SAMN09768429 & 2953466798 & Effector\\_memory\\_CD8pos\\_T & GEO & public & ⋯ & cDNA & TRANSCRIPTOMIC & CD8 & Homo sapiens & ILLUMINA & 2020-02-04T00:00:00Z & GSM3319755 & primary blood & SRP156452 & treatment1 \\\\\n",
       "\\end{tabular}\n"
      ],
      "text/markdown": [
       "\n",
       "A data.frame: 6 × 28\n",
       "\n",
       "| <!--/--> | Run &lt;chr&gt; | Assay.Type &lt;chr&gt; | AvgSpotLen &lt;int&gt; | Bases &lt;dbl&gt; | BioProject &lt;chr&gt; | BioSample &lt;chr&gt; | Bytes &lt;dbl&gt; | Cell_type &lt;chr&gt; | Center.Name &lt;chr&gt; | Consent &lt;chr&gt; | ⋯ ⋯ | LibrarySelection &lt;chr&gt; | LibrarySource &lt;chr&gt; | lineage &lt;chr&gt; | Organism &lt;chr&gt; | Platform &lt;chr&gt; | ReleaseDate &lt;chr&gt; | Sample.Name &lt;chr&gt; | source_name &lt;chr&gt; | SRA.Study &lt;chr&gt; | treatment &lt;chr&gt; |\n",
       "|---|---|---|---|---|---|---|---|---|---|---|---|---|---|---|---|---|---|---|---|---|---|\n",
       "| 1 | SRR11007061 | RNA-Seq | 192 |  8160479782 | PRJNA484735 | SAMN09768434 | 2579781267 | CD8pos_T                 | GEO | public | ⋯ | cDNA | TRANSCRIPTOMIC | CD8 | Homo sapiens | ILLUMINA | 2020-02-04T00:00:00Z | GSM3319750 | primary blood | SRP156452 | no_treament |\n",
       "| 2 | SRR11007062 | RNA-Seq | 195 | 15315982752 | PRJNA484735 | SAMN09768433 | 4836924733 | CD8pos_T                 | GEO | public | ⋯ | cDNA | TRANSCRIPTOMIC | CD8 | Homo sapiens | ILLUMINA | 2020-02-04T00:00:00Z | GSM3319751 | primary blood | SRP156452 | treatment1  |\n",
       "| 3 | SRR11007063 | RNA-Seq | 195 | 13128598440 | PRJNA484735 | SAMN09768432 | 4155236675 | Central_memory_CD8pos_T  | GEO | public | ⋯ | cDNA | TRANSCRIPTOMIC | CD8 | Homo sapiens | ILLUMINA | 2020-02-04T00:00:00Z | GSM3319752 | primary blood | SRP156452 | no_treament |\n",
       "| 4 | SRR11007064 | RNA-Seq | 193 |  4866405615 | PRJNA484735 | SAMN09768431 | 1546902050 | Central_memory_CD8pos_T  | GEO | public | ⋯ | cDNA | TRANSCRIPTOMIC | CD8 | Homo sapiens | ILLUMINA | 2020-02-04T00:00:00Z | GSM3319753 | primary blood | SRP156452 | treatment1  |\n",
       "| 5 | SRR11007065 | RNA-Seq | 195 |  9601276948 | PRJNA484735 | SAMN09768430 | 3023735003 | Effector_memory_CD8pos_T | GEO | public | ⋯ | cDNA | TRANSCRIPTOMIC | CD8 | Homo sapiens | ILLUMINA | 2020-02-04T00:00:00Z | GSM3319754 | primary blood | SRP156452 | no_treament |\n",
       "| 6 | SRR11007066 | RNA-Seq | 196 |  9273440229 | PRJNA484735 | SAMN09768429 | 2953466798 | Effector_memory_CD8pos_T | GEO | public | ⋯ | cDNA | TRANSCRIPTOMIC | CD8 | Homo sapiens | ILLUMINA | 2020-02-04T00:00:00Z | GSM3319755 | primary blood | SRP156452 | treatment1  |\n",
       "\n"
      ],
      "text/plain": [
       "  Run         Assay.Type AvgSpotLen Bases       BioProject  BioSample   \n",
       "1 SRR11007061 RNA-Seq    192         8160479782 PRJNA484735 SAMN09768434\n",
       "2 SRR11007062 RNA-Seq    195        15315982752 PRJNA484735 SAMN09768433\n",
       "3 SRR11007063 RNA-Seq    195        13128598440 PRJNA484735 SAMN09768432\n",
       "4 SRR11007064 RNA-Seq    193         4866405615 PRJNA484735 SAMN09768431\n",
       "5 SRR11007065 RNA-Seq    195         9601276948 PRJNA484735 SAMN09768430\n",
       "6 SRR11007066 RNA-Seq    196         9273440229 PRJNA484735 SAMN09768429\n",
       "  Bytes      Cell_type                Center.Name Consent ⋯ LibrarySelection\n",
       "1 2579781267 CD8pos_T                 GEO         public  ⋯ cDNA            \n",
       "2 4836924733 CD8pos_T                 GEO         public  ⋯ cDNA            \n",
       "3 4155236675 Central_memory_CD8pos_T  GEO         public  ⋯ cDNA            \n",
       "4 1546902050 Central_memory_CD8pos_T  GEO         public  ⋯ cDNA            \n",
       "5 3023735003 Effector_memory_CD8pos_T GEO         public  ⋯ cDNA            \n",
       "6 2953466798 Effector_memory_CD8pos_T GEO         public  ⋯ cDNA            \n",
       "  LibrarySource  lineage Organism     Platform ReleaseDate          Sample.Name\n",
       "1 TRANSCRIPTOMIC CD8     Homo sapiens ILLUMINA 2020-02-04T00:00:00Z GSM3319750 \n",
       "2 TRANSCRIPTOMIC CD8     Homo sapiens ILLUMINA 2020-02-04T00:00:00Z GSM3319751 \n",
       "3 TRANSCRIPTOMIC CD8     Homo sapiens ILLUMINA 2020-02-04T00:00:00Z GSM3319752 \n",
       "4 TRANSCRIPTOMIC CD8     Homo sapiens ILLUMINA 2020-02-04T00:00:00Z GSM3319753 \n",
       "5 TRANSCRIPTOMIC CD8     Homo sapiens ILLUMINA 2020-02-04T00:00:00Z GSM3319754 \n",
       "6 TRANSCRIPTOMIC CD8     Homo sapiens ILLUMINA 2020-02-04T00:00:00Z GSM3319755 \n",
       "  source_name   SRA.Study treatment  \n",
       "1 primary blood SRP156452 no_treament\n",
       "2 primary blood SRP156452 treatment1 \n",
       "3 primary blood SRP156452 no_treament\n",
       "4 primary blood SRP156452 treatment1 \n",
       "5 primary blood SRP156452 no_treament\n",
       "6 primary blood SRP156452 treatment1 "
      ]
     },
     "metadata": {},
     "output_type": "display_data"
    }
   ],
   "source": [
    "head(calderon.rna)"
   ]
  },
  {
   "cell_type": "code",
   "execution_count": 8,
   "id": "68bdb977-56e7-4b26-87cf-fca9e4c40eaf",
   "metadata": {},
   "outputs": [],
   "source": [
    "calderon.atac <- read.csv(\"03_Functional_Interpretation/metadata/reads_calderon_et_al_atac_seq.txt\")"
   ]
  },
  {
   "cell_type": "code",
   "execution_count": 9,
   "id": "6e6dfbe2-c249-41f5-a3b1-3ea2d22ceda9",
   "metadata": {},
   "outputs": [
    {
     "data": {
      "text/html": [
       "<table class=\"dataframe\">\n",
       "<caption>A data.frame: 6 × 28</caption>\n",
       "<thead>\n",
       "\t<tr><th></th><th scope=col>Run</th><th scope=col>Assay.Type</th><th scope=col>AvgSpotLen</th><th scope=col>Bases</th><th scope=col>BioProject</th><th scope=col>BioSample</th><th scope=col>Bytes</th><th scope=col>Cell_type</th><th scope=col>Center.Name</th><th scope=col>Consent</th><th scope=col>⋯</th><th scope=col>LibrarySelection</th><th scope=col>LibrarySource</th><th scope=col>lineage</th><th scope=col>Organism</th><th scope=col>Platform</th><th scope=col>ReleaseDate</th><th scope=col>Sample.Name</th><th scope=col>source_name</th><th scope=col>SRA.Study</th><th scope=col>treatment</th></tr>\n",
       "\t<tr><th></th><th scope=col>&lt;chr&gt;</th><th scope=col>&lt;chr&gt;</th><th scope=col>&lt;int&gt;</th><th scope=col>&lt;dbl&gt;</th><th scope=col>&lt;chr&gt;</th><th scope=col>&lt;chr&gt;</th><th scope=col>&lt;dbl&gt;</th><th scope=col>&lt;chr&gt;</th><th scope=col>&lt;chr&gt;</th><th scope=col>&lt;chr&gt;</th><th scope=col>⋯</th><th scope=col>&lt;chr&gt;</th><th scope=col>&lt;chr&gt;</th><th scope=col>&lt;chr&gt;</th><th scope=col>&lt;chr&gt;</th><th scope=col>&lt;chr&gt;</th><th scope=col>&lt;chr&gt;</th><th scope=col>&lt;chr&gt;</th><th scope=col>&lt;chr&gt;</th><th scope=col>&lt;chr&gt;</th><th scope=col>&lt;chr&gt;</th></tr>\n",
       "</thead>\n",
       "<tbody>\n",
       "\t<tr><th scope=row>1</th><td>SRR7650729</td><td>ATAC-seq</td><td>130</td><td>7671684082</td><td>PRJNA484801</td><td>SAMN09769836</td><td>3235449960</td><td>Bulk_B      </td><td>GEO</td><td>public</td><td>⋯</td><td>other</td><td>GENOMIC</td><td>B  </td><td>Homo sapiens</td><td>ILLUMINA</td><td>2018-09-06T00:00:00Z</td><td>GSM3320229</td><td>primary blood</td><td>SRP156496</td><td>no_treament</td></tr>\n",
       "\t<tr><th scope=row>2</th><td>SRR7650730</td><td>ATAC-seq</td><td>130</td><td>8755083677</td><td>PRJNA484801</td><td>SAMN09769835</td><td>3691300841</td><td>Bulk_B      </td><td>GEO</td><td>public</td><td>⋯</td><td>other</td><td>GENOMIC</td><td>B  </td><td>Homo sapiens</td><td>ILLUMINA</td><td>2018-09-06T00:00:00Z</td><td>GSM3320230</td><td>primary blood</td><td>SRP156496</td><td>treatment1 </td></tr>\n",
       "\t<tr><th scope=row>3</th><td>SRR7650731</td><td>ATAC-seq</td><td>131</td><td>8483939942</td><td>PRJNA484801</td><td>SAMN09769834</td><td>3602660374</td><td>Mem_B       </td><td>GEO</td><td>public</td><td>⋯</td><td>other</td><td>GENOMIC</td><td>B  </td><td>Homo sapiens</td><td>ILLUMINA</td><td>2018-09-06T00:00:00Z</td><td>GSM3320231</td><td>primary blood</td><td>SRP156496</td><td>no_treament</td></tr>\n",
       "\t<tr><th scope=row>4</th><td>SRR7650733</td><td>ATAC-seq</td><td>132</td><td>7063118195</td><td>PRJNA484801</td><td>SAMN09769832</td><td>3012041722</td><td>Naive_B     </td><td>GEO</td><td>public</td><td>⋯</td><td>other</td><td>GENOMIC</td><td>B  </td><td>Homo sapiens</td><td>ILLUMINA</td><td>2018-09-06T00:00:00Z</td><td>GSM3320233</td><td>primary blood</td><td>SRP156496</td><td>no_treament</td></tr>\n",
       "\t<tr><th scope=row>5</th><td>SRR7650735</td><td>ATAC-seq</td><td>130</td><td>8705610661</td><td>PRJNA484801</td><td>SAMN09769830</td><td>3659122131</td><td>Plasmablasts</td><td>GEO</td><td>public</td><td>⋯</td><td>other</td><td>GENOMIC</td><td>B  </td><td>Homo sapiens</td><td>ILLUMINA</td><td>2018-09-06T00:00:00Z</td><td>GSM3320235</td><td>primary blood</td><td>SRP156496</td><td>no_treament</td></tr>\n",
       "\t<tr><th scope=row>6</th><td>SRR7650736</td><td>ATAC-seq</td><td>132</td><td>8457505958</td><td>PRJNA484801</td><td>SAMN09769829</td><td>3669541907</td><td>CD8pos_T    </td><td>GEO</td><td>public</td><td>⋯</td><td>other</td><td>GENOMIC</td><td>CD8</td><td>Homo sapiens</td><td>ILLUMINA</td><td>2018-09-06T00:00:00Z</td><td>GSM3320236</td><td>primary blood</td><td>SRP156496</td><td>no_treament</td></tr>\n",
       "</tbody>\n",
       "</table>\n"
      ],
      "text/latex": [
       "A data.frame: 6 × 28\n",
       "\\begin{tabular}{r|lllllllllllllllllllll}\n",
       "  & Run & Assay.Type & AvgSpotLen & Bases & BioProject & BioSample & Bytes & Cell\\_type & Center.Name & Consent & ⋯ & LibrarySelection & LibrarySource & lineage & Organism & Platform & ReleaseDate & Sample.Name & source\\_name & SRA.Study & treatment\\\\\n",
       "  & <chr> & <chr> & <int> & <dbl> & <chr> & <chr> & <dbl> & <chr> & <chr> & <chr> & ⋯ & <chr> & <chr> & <chr> & <chr> & <chr> & <chr> & <chr> & <chr> & <chr> & <chr>\\\\\n",
       "\\hline\n",
       "\t1 & SRR7650729 & ATAC-seq & 130 & 7671684082 & PRJNA484801 & SAMN09769836 & 3235449960 & Bulk\\_B       & GEO & public & ⋯ & other & GENOMIC & B   & Homo sapiens & ILLUMINA & 2018-09-06T00:00:00Z & GSM3320229 & primary blood & SRP156496 & no\\_treament\\\\\n",
       "\t2 & SRR7650730 & ATAC-seq & 130 & 8755083677 & PRJNA484801 & SAMN09769835 & 3691300841 & Bulk\\_B       & GEO & public & ⋯ & other & GENOMIC & B   & Homo sapiens & ILLUMINA & 2018-09-06T00:00:00Z & GSM3320230 & primary blood & SRP156496 & treatment1 \\\\\n",
       "\t3 & SRR7650731 & ATAC-seq & 131 & 8483939942 & PRJNA484801 & SAMN09769834 & 3602660374 & Mem\\_B        & GEO & public & ⋯ & other & GENOMIC & B   & Homo sapiens & ILLUMINA & 2018-09-06T00:00:00Z & GSM3320231 & primary blood & SRP156496 & no\\_treament\\\\\n",
       "\t4 & SRR7650733 & ATAC-seq & 132 & 7063118195 & PRJNA484801 & SAMN09769832 & 3012041722 & Naive\\_B      & GEO & public & ⋯ & other & GENOMIC & B   & Homo sapiens & ILLUMINA & 2018-09-06T00:00:00Z & GSM3320233 & primary blood & SRP156496 & no\\_treament\\\\\n",
       "\t5 & SRR7650735 & ATAC-seq & 130 & 8705610661 & PRJNA484801 & SAMN09769830 & 3659122131 & Plasmablasts & GEO & public & ⋯ & other & GENOMIC & B   & Homo sapiens & ILLUMINA & 2018-09-06T00:00:00Z & GSM3320235 & primary blood & SRP156496 & no\\_treament\\\\\n",
       "\t6 & SRR7650736 & ATAC-seq & 132 & 8457505958 & PRJNA484801 & SAMN09769829 & 3669541907 & CD8pos\\_T     & GEO & public & ⋯ & other & GENOMIC & CD8 & Homo sapiens & ILLUMINA & 2018-09-06T00:00:00Z & GSM3320236 & primary blood & SRP156496 & no\\_treament\\\\\n",
       "\\end{tabular}\n"
      ],
      "text/markdown": [
       "\n",
       "A data.frame: 6 × 28\n",
       "\n",
       "| <!--/--> | Run &lt;chr&gt; | Assay.Type &lt;chr&gt; | AvgSpotLen &lt;int&gt; | Bases &lt;dbl&gt; | BioProject &lt;chr&gt; | BioSample &lt;chr&gt; | Bytes &lt;dbl&gt; | Cell_type &lt;chr&gt; | Center.Name &lt;chr&gt; | Consent &lt;chr&gt; | ⋯ ⋯ | LibrarySelection &lt;chr&gt; | LibrarySource &lt;chr&gt; | lineage &lt;chr&gt; | Organism &lt;chr&gt; | Platform &lt;chr&gt; | ReleaseDate &lt;chr&gt; | Sample.Name &lt;chr&gt; | source_name &lt;chr&gt; | SRA.Study &lt;chr&gt; | treatment &lt;chr&gt; |\n",
       "|---|---|---|---|---|---|---|---|---|---|---|---|---|---|---|---|---|---|---|---|---|---|\n",
       "| 1 | SRR7650729 | ATAC-seq | 130 | 7671684082 | PRJNA484801 | SAMN09769836 | 3235449960 | Bulk_B       | GEO | public | ⋯ | other | GENOMIC | B   | Homo sapiens | ILLUMINA | 2018-09-06T00:00:00Z | GSM3320229 | primary blood | SRP156496 | no_treament |\n",
       "| 2 | SRR7650730 | ATAC-seq | 130 | 8755083677 | PRJNA484801 | SAMN09769835 | 3691300841 | Bulk_B       | GEO | public | ⋯ | other | GENOMIC | B   | Homo sapiens | ILLUMINA | 2018-09-06T00:00:00Z | GSM3320230 | primary blood | SRP156496 | treatment1  |\n",
       "| 3 | SRR7650731 | ATAC-seq | 131 | 8483939942 | PRJNA484801 | SAMN09769834 | 3602660374 | Mem_B        | GEO | public | ⋯ | other | GENOMIC | B   | Homo sapiens | ILLUMINA | 2018-09-06T00:00:00Z | GSM3320231 | primary blood | SRP156496 | no_treament |\n",
       "| 4 | SRR7650733 | ATAC-seq | 132 | 7063118195 | PRJNA484801 | SAMN09769832 | 3012041722 | Naive_B      | GEO | public | ⋯ | other | GENOMIC | B   | Homo sapiens | ILLUMINA | 2018-09-06T00:00:00Z | GSM3320233 | primary blood | SRP156496 | no_treament |\n",
       "| 5 | SRR7650735 | ATAC-seq | 130 | 8705610661 | PRJNA484801 | SAMN09769830 | 3659122131 | Plasmablasts | GEO | public | ⋯ | other | GENOMIC | B   | Homo sapiens | ILLUMINA | 2018-09-06T00:00:00Z | GSM3320235 | primary blood | SRP156496 | no_treament |\n",
       "| 6 | SRR7650736 | ATAC-seq | 132 | 8457505958 | PRJNA484801 | SAMN09769829 | 3669541907 | CD8pos_T     | GEO | public | ⋯ | other | GENOMIC | CD8 | Homo sapiens | ILLUMINA | 2018-09-06T00:00:00Z | GSM3320236 | primary blood | SRP156496 | no_treament |\n",
       "\n"
      ],
      "text/plain": [
       "  Run        Assay.Type AvgSpotLen Bases      BioProject  BioSample   \n",
       "1 SRR7650729 ATAC-seq   130        7671684082 PRJNA484801 SAMN09769836\n",
       "2 SRR7650730 ATAC-seq   130        8755083677 PRJNA484801 SAMN09769835\n",
       "3 SRR7650731 ATAC-seq   131        8483939942 PRJNA484801 SAMN09769834\n",
       "4 SRR7650733 ATAC-seq   132        7063118195 PRJNA484801 SAMN09769832\n",
       "5 SRR7650735 ATAC-seq   130        8705610661 PRJNA484801 SAMN09769830\n",
       "6 SRR7650736 ATAC-seq   132        8457505958 PRJNA484801 SAMN09769829\n",
       "  Bytes      Cell_type    Center.Name Consent ⋯ LibrarySelection LibrarySource\n",
       "1 3235449960 Bulk_B       GEO         public  ⋯ other            GENOMIC      \n",
       "2 3691300841 Bulk_B       GEO         public  ⋯ other            GENOMIC      \n",
       "3 3602660374 Mem_B        GEO         public  ⋯ other            GENOMIC      \n",
       "4 3012041722 Naive_B      GEO         public  ⋯ other            GENOMIC      \n",
       "5 3659122131 Plasmablasts GEO         public  ⋯ other            GENOMIC      \n",
       "6 3669541907 CD8pos_T     GEO         public  ⋯ other            GENOMIC      \n",
       "  lineage Organism     Platform ReleaseDate          Sample.Name source_name  \n",
       "1 B       Homo sapiens ILLUMINA 2018-09-06T00:00:00Z GSM3320229  primary blood\n",
       "2 B       Homo sapiens ILLUMINA 2018-09-06T00:00:00Z GSM3320230  primary blood\n",
       "3 B       Homo sapiens ILLUMINA 2018-09-06T00:00:00Z GSM3320231  primary blood\n",
       "4 B       Homo sapiens ILLUMINA 2018-09-06T00:00:00Z GSM3320233  primary blood\n",
       "5 B       Homo sapiens ILLUMINA 2018-09-06T00:00:00Z GSM3320235  primary blood\n",
       "6 CD8     Homo sapiens ILLUMINA 2018-09-06T00:00:00Z GSM3320236  primary blood\n",
       "  SRA.Study treatment  \n",
       "1 SRP156496 no_treament\n",
       "2 SRP156496 treatment1 \n",
       "3 SRP156496 no_treament\n",
       "4 SRP156496 no_treament\n",
       "5 SRP156496 no_treament\n",
       "6 SRP156496 no_treament"
      ]
     },
     "metadata": {},
     "output_type": "display_data"
    }
   ],
   "source": [
    "head(calderon.atac)"
   ]
  },
  {
   "cell_type": "code",
   "execution_count": 10,
   "id": "dc972c8c-fcb8-4cd9-a2cf-ae4ff22fd38c",
   "metadata": {},
   "outputs": [],
   "source": [
    "ram.mohan.rna <- read.csv(\"03_Functional_Interpretation/metadata/reads_ram_mohan_et_al_rna_seq.txt\")"
   ]
  },
  {
   "cell_type": "code",
   "execution_count": 11,
   "id": "86364a76-8a4e-4b4c-97c5-47c0b46bbadd",
   "metadata": {},
   "outputs": [
    {
     "data": {
      "text/html": [
       "<table class=\"dataframe\">\n",
       "<caption>A data.frame: 6 × 26</caption>\n",
       "<thead>\n",
       "\t<tr><th></th><th scope=col>Run</th><th scope=col>Assay.Type</th><th scope=col>AvgSpotLen</th><th scope=col>Bases</th><th scope=col>BioProject</th><th scope=col>BioSample</th><th scope=col>Bytes</th><th scope=col>Cell_type</th><th scope=col>Center.Name</th><th scope=col>Consent</th><th scope=col>⋯</th><th scope=col>LibraryLayout</th><th scope=col>LibrarySelection</th><th scope=col>LibrarySource</th><th scope=col>Organism</th><th scope=col>Platform</th><th scope=col>ReleaseDate</th><th scope=col>Sample.Name</th><th scope=col>source_name</th><th scope=col>SRA.Study</th><th scope=col>time</th></tr>\n",
       "\t<tr><th></th><th scope=col>&lt;chr&gt;</th><th scope=col>&lt;chr&gt;</th><th scope=col>&lt;int&gt;</th><th scope=col>&lt;dbl&gt;</th><th scope=col>&lt;chr&gt;</th><th scope=col>&lt;chr&gt;</th><th scope=col>&lt;dbl&gt;</th><th scope=col>&lt;chr&gt;</th><th scope=col>&lt;chr&gt;</th><th scope=col>&lt;chr&gt;</th><th scope=col>⋯</th><th scope=col>&lt;chr&gt;</th><th scope=col>&lt;chr&gt;</th><th scope=col>&lt;chr&gt;</th><th scope=col>&lt;chr&gt;</th><th scope=col>&lt;chr&gt;</th><th scope=col>&lt;chr&gt;</th><th scope=col>&lt;chr&gt;</th><th scope=col>&lt;chr&gt;</th><th scope=col>&lt;chr&gt;</th><th scope=col>&lt;chr&gt;</th></tr>\n",
       "</thead>\n",
       "<tbody>\n",
       "\t<tr><th scope=row>1</th><td>SRR12112610</td><td>RNA-Seq</td><td>76</td><td>5107899048</td><td>PRJNA642891</td><td>SAMN15401057</td><td>2072637651</td><td>neutrophils</td><td>GEO</td><td>public</td><td>⋯</td><td>PAIRED</td><td>cDNA</td><td>TRANSCRIPTOMIC</td><td>Homo sapiens</td><td>ILLUMINA</td><td>2020-06-30T00:00:00Z</td><td>GSM4646431</td><td>Escherichia coli challenged neutrophils\\, 1 hour</td><td>SRP269266</td><td>1 hour </td></tr>\n",
       "\t<tr><th scope=row>2</th><td>SRR12112611</td><td>RNA-Seq</td><td>76</td><td>5107899048</td><td>PRJNA642891</td><td>SAMN15401056</td><td>2201380439</td><td>neutrophils</td><td>GEO</td><td>public</td><td>⋯</td><td>PAIRED</td><td>cDNA</td><td>TRANSCRIPTOMIC</td><td>Homo sapiens</td><td>ILLUMINA</td><td>2020-06-30T00:00:00Z</td><td>GSM4646432</td><td>Escherichia coli challenged neutrophils\\, 1 hour</td><td>SRP269266</td><td>1 hour </td></tr>\n",
       "\t<tr><th scope=row>3</th><td>SRR12112612</td><td>RNA-Seq</td><td>76</td><td>4580138632</td><td>PRJNA642891</td><td>SAMN15401055</td><td>1847732843</td><td>neutrophils</td><td>GEO</td><td>public</td><td>⋯</td><td>PAIRED</td><td>cDNA</td><td>TRANSCRIPTOMIC</td><td>Homo sapiens</td><td>ILLUMINA</td><td>2020-06-30T00:00:00Z</td><td>GSM4646433</td><td>Escherichia coli challenged neutrophils\\, 4 hour</td><td>SRP269266</td><td>4 hours</td></tr>\n",
       "\t<tr><th scope=row>4</th><td>SRR12112613</td><td>RNA-Seq</td><td>76</td><td>4580138632</td><td>PRJNA642891</td><td>SAMN15401054</td><td>1999008265</td><td>neutrophils</td><td>GEO</td><td>public</td><td>⋯</td><td>PAIRED</td><td>cDNA</td><td>TRANSCRIPTOMIC</td><td>Homo sapiens</td><td>ILLUMINA</td><td>2020-06-30T00:00:00Z</td><td>GSM4646434</td><td>Escherichia coli challenged neutrophils\\, 4 hour</td><td>SRP269266</td><td>4 hours</td></tr>\n",
       "\t<tr><th scope=row>5</th><td>SRR12112614</td><td>RNA-Seq</td><td>76</td><td>5331949328</td><td>PRJNA642891</td><td>SAMN15401053</td><td>2221711770</td><td>neutrophils</td><td>GEO</td><td>public</td><td>⋯</td><td>PAIRED</td><td>cDNA</td><td>TRANSCRIPTOMIC</td><td>Homo sapiens</td><td>ILLUMINA</td><td>2020-06-30T00:00:00Z</td><td>GSM4646435</td><td>Healthy untreated neutrophils\\, 1 hour          </td><td>SRP269266</td><td>1 hour </td></tr>\n",
       "\t<tr><th scope=row>6</th><td>SRR12112615</td><td>RNA-Seq</td><td>76</td><td>5331949328</td><td>PRJNA642891</td><td>SAMN15401052</td><td>2324125471</td><td>neutrophils</td><td>GEO</td><td>public</td><td>⋯</td><td>PAIRED</td><td>cDNA</td><td>TRANSCRIPTOMIC</td><td>Homo sapiens</td><td>ILLUMINA</td><td>2020-06-30T00:00:00Z</td><td>GSM4646436</td><td>Healthy untreated neutrophils\\, 1 hour          </td><td>SRP269266</td><td>1 hour </td></tr>\n",
       "</tbody>\n",
       "</table>\n"
      ],
      "text/latex": [
       "A data.frame: 6 × 26\n",
       "\\begin{tabular}{r|lllllllllllllllllllll}\n",
       "  & Run & Assay.Type & AvgSpotLen & Bases & BioProject & BioSample & Bytes & Cell\\_type & Center.Name & Consent & ⋯ & LibraryLayout & LibrarySelection & LibrarySource & Organism & Platform & ReleaseDate & Sample.Name & source\\_name & SRA.Study & time\\\\\n",
       "  & <chr> & <chr> & <int> & <dbl> & <chr> & <chr> & <dbl> & <chr> & <chr> & <chr> & ⋯ & <chr> & <chr> & <chr> & <chr> & <chr> & <chr> & <chr> & <chr> & <chr> & <chr>\\\\\n",
       "\\hline\n",
       "\t1 & SRR12112610 & RNA-Seq & 76 & 5107899048 & PRJNA642891 & SAMN15401057 & 2072637651 & neutrophils & GEO & public & ⋯ & PAIRED & cDNA & TRANSCRIPTOMIC & Homo sapiens & ILLUMINA & 2020-06-30T00:00:00Z & GSM4646431 & Escherichia coli challenged neutrophils\\textbackslash{}, 1 hour & SRP269266 & 1 hour \\\\\n",
       "\t2 & SRR12112611 & RNA-Seq & 76 & 5107899048 & PRJNA642891 & SAMN15401056 & 2201380439 & neutrophils & GEO & public & ⋯ & PAIRED & cDNA & TRANSCRIPTOMIC & Homo sapiens & ILLUMINA & 2020-06-30T00:00:00Z & GSM4646432 & Escherichia coli challenged neutrophils\\textbackslash{}, 1 hour & SRP269266 & 1 hour \\\\\n",
       "\t3 & SRR12112612 & RNA-Seq & 76 & 4580138632 & PRJNA642891 & SAMN15401055 & 1847732843 & neutrophils & GEO & public & ⋯ & PAIRED & cDNA & TRANSCRIPTOMIC & Homo sapiens & ILLUMINA & 2020-06-30T00:00:00Z & GSM4646433 & Escherichia coli challenged neutrophils\\textbackslash{}, 4 hour & SRP269266 & 4 hours\\\\\n",
       "\t4 & SRR12112613 & RNA-Seq & 76 & 4580138632 & PRJNA642891 & SAMN15401054 & 1999008265 & neutrophils & GEO & public & ⋯ & PAIRED & cDNA & TRANSCRIPTOMIC & Homo sapiens & ILLUMINA & 2020-06-30T00:00:00Z & GSM4646434 & Escherichia coli challenged neutrophils\\textbackslash{}, 4 hour & SRP269266 & 4 hours\\\\\n",
       "\t5 & SRR12112614 & RNA-Seq & 76 & 5331949328 & PRJNA642891 & SAMN15401053 & 2221711770 & neutrophils & GEO & public & ⋯ & PAIRED & cDNA & TRANSCRIPTOMIC & Homo sapiens & ILLUMINA & 2020-06-30T00:00:00Z & GSM4646435 & Healthy untreated neutrophils\\textbackslash{}, 1 hour           & SRP269266 & 1 hour \\\\\n",
       "\t6 & SRR12112615 & RNA-Seq & 76 & 5331949328 & PRJNA642891 & SAMN15401052 & 2324125471 & neutrophils & GEO & public & ⋯ & PAIRED & cDNA & TRANSCRIPTOMIC & Homo sapiens & ILLUMINA & 2020-06-30T00:00:00Z & GSM4646436 & Healthy untreated neutrophils\\textbackslash{}, 1 hour           & SRP269266 & 1 hour \\\\\n",
       "\\end{tabular}\n"
      ],
      "text/markdown": [
       "\n",
       "A data.frame: 6 × 26\n",
       "\n",
       "| <!--/--> | Run &lt;chr&gt; | Assay.Type &lt;chr&gt; | AvgSpotLen &lt;int&gt; | Bases &lt;dbl&gt; | BioProject &lt;chr&gt; | BioSample &lt;chr&gt; | Bytes &lt;dbl&gt; | Cell_type &lt;chr&gt; | Center.Name &lt;chr&gt; | Consent &lt;chr&gt; | ⋯ ⋯ | LibraryLayout &lt;chr&gt; | LibrarySelection &lt;chr&gt; | LibrarySource &lt;chr&gt; | Organism &lt;chr&gt; | Platform &lt;chr&gt; | ReleaseDate &lt;chr&gt; | Sample.Name &lt;chr&gt; | source_name &lt;chr&gt; | SRA.Study &lt;chr&gt; | time &lt;chr&gt; |\n",
       "|---|---|---|---|---|---|---|---|---|---|---|---|---|---|---|---|---|---|---|---|---|---|\n",
       "| 1 | SRR12112610 | RNA-Seq | 76 | 5107899048 | PRJNA642891 | SAMN15401057 | 2072637651 | neutrophils | GEO | public | ⋯ | PAIRED | cDNA | TRANSCRIPTOMIC | Homo sapiens | ILLUMINA | 2020-06-30T00:00:00Z | GSM4646431 | Escherichia coli challenged neutrophils\\, 1 hour | SRP269266 | 1 hour  |\n",
       "| 2 | SRR12112611 | RNA-Seq | 76 | 5107899048 | PRJNA642891 | SAMN15401056 | 2201380439 | neutrophils | GEO | public | ⋯ | PAIRED | cDNA | TRANSCRIPTOMIC | Homo sapiens | ILLUMINA | 2020-06-30T00:00:00Z | GSM4646432 | Escherichia coli challenged neutrophils\\, 1 hour | SRP269266 | 1 hour  |\n",
       "| 3 | SRR12112612 | RNA-Seq | 76 | 4580138632 | PRJNA642891 | SAMN15401055 | 1847732843 | neutrophils | GEO | public | ⋯ | PAIRED | cDNA | TRANSCRIPTOMIC | Homo sapiens | ILLUMINA | 2020-06-30T00:00:00Z | GSM4646433 | Escherichia coli challenged neutrophils\\, 4 hour | SRP269266 | 4 hours |\n",
       "| 4 | SRR12112613 | RNA-Seq | 76 | 4580138632 | PRJNA642891 | SAMN15401054 | 1999008265 | neutrophils | GEO | public | ⋯ | PAIRED | cDNA | TRANSCRIPTOMIC | Homo sapiens | ILLUMINA | 2020-06-30T00:00:00Z | GSM4646434 | Escherichia coli challenged neutrophils\\, 4 hour | SRP269266 | 4 hours |\n",
       "| 5 | SRR12112614 | RNA-Seq | 76 | 5331949328 | PRJNA642891 | SAMN15401053 | 2221711770 | neutrophils | GEO | public | ⋯ | PAIRED | cDNA | TRANSCRIPTOMIC | Homo sapiens | ILLUMINA | 2020-06-30T00:00:00Z | GSM4646435 | Healthy untreated neutrophils\\, 1 hour           | SRP269266 | 1 hour  |\n",
       "| 6 | SRR12112615 | RNA-Seq | 76 | 5331949328 | PRJNA642891 | SAMN15401052 | 2324125471 | neutrophils | GEO | public | ⋯ | PAIRED | cDNA | TRANSCRIPTOMIC | Homo sapiens | ILLUMINA | 2020-06-30T00:00:00Z | GSM4646436 | Healthy untreated neutrophils\\, 1 hour           | SRP269266 | 1 hour  |\n",
       "\n"
      ],
      "text/plain": [
       "  Run         Assay.Type AvgSpotLen Bases      BioProject  BioSample   \n",
       "1 SRR12112610 RNA-Seq    76         5107899048 PRJNA642891 SAMN15401057\n",
       "2 SRR12112611 RNA-Seq    76         5107899048 PRJNA642891 SAMN15401056\n",
       "3 SRR12112612 RNA-Seq    76         4580138632 PRJNA642891 SAMN15401055\n",
       "4 SRR12112613 RNA-Seq    76         4580138632 PRJNA642891 SAMN15401054\n",
       "5 SRR12112614 RNA-Seq    76         5331949328 PRJNA642891 SAMN15401053\n",
       "6 SRR12112615 RNA-Seq    76         5331949328 PRJNA642891 SAMN15401052\n",
       "  Bytes      Cell_type   Center.Name Consent ⋯ LibraryLayout LibrarySelection\n",
       "1 2072637651 neutrophils GEO         public  ⋯ PAIRED        cDNA            \n",
       "2 2201380439 neutrophils GEO         public  ⋯ PAIRED        cDNA            \n",
       "3 1847732843 neutrophils GEO         public  ⋯ PAIRED        cDNA            \n",
       "4 1999008265 neutrophils GEO         public  ⋯ PAIRED        cDNA            \n",
       "5 2221711770 neutrophils GEO         public  ⋯ PAIRED        cDNA            \n",
       "6 2324125471 neutrophils GEO         public  ⋯ PAIRED        cDNA            \n",
       "  LibrarySource  Organism     Platform ReleaseDate          Sample.Name\n",
       "1 TRANSCRIPTOMIC Homo sapiens ILLUMINA 2020-06-30T00:00:00Z GSM4646431 \n",
       "2 TRANSCRIPTOMIC Homo sapiens ILLUMINA 2020-06-30T00:00:00Z GSM4646432 \n",
       "3 TRANSCRIPTOMIC Homo sapiens ILLUMINA 2020-06-30T00:00:00Z GSM4646433 \n",
       "4 TRANSCRIPTOMIC Homo sapiens ILLUMINA 2020-06-30T00:00:00Z GSM4646434 \n",
       "5 TRANSCRIPTOMIC Homo sapiens ILLUMINA 2020-06-30T00:00:00Z GSM4646435 \n",
       "6 TRANSCRIPTOMIC Homo sapiens ILLUMINA 2020-06-30T00:00:00Z GSM4646436 \n",
       "  source_name                                       SRA.Study time   \n",
       "1 Escherichia coli challenged neutrophils\\\\, 1 hour SRP269266 1 hour \n",
       "2 Escherichia coli challenged neutrophils\\\\, 1 hour SRP269266 1 hour \n",
       "3 Escherichia coli challenged neutrophils\\\\, 4 hour SRP269266 4 hours\n",
       "4 Escherichia coli challenged neutrophils\\\\, 4 hour SRP269266 4 hours\n",
       "5 Healthy untreated neutrophils\\\\, 1 hour           SRP269266 1 hour \n",
       "6 Healthy untreated neutrophils\\\\, 1 hour           SRP269266 1 hour "
      ]
     },
     "metadata": {},
     "output_type": "display_data"
    }
   ],
   "source": [
    "head(ram.mohan.rna)"
   ]
  },
  {
   "cell_type": "code",
   "execution_count": 12,
   "id": "05a2ccae-0c7a-4610-8709-0109839f5e38",
   "metadata": {},
   "outputs": [],
   "source": [
    "ram.mohan.atac <- read.csv(\"03_Functional_Interpretation/metadata/reads_ram_mohan_et_al_atac_seq.txt\")"
   ]
  },
  {
   "cell_type": "code",
   "execution_count": 13,
   "id": "ac4f6d34-5c96-417b-a98f-5013c9eb4423",
   "metadata": {},
   "outputs": [
    {
     "data": {
      "text/html": [
       "<table class=\"dataframe\">\n",
       "<caption>A data.frame: 6 × 31</caption>\n",
       "<thead>\n",
       "\t<tr><th></th><th scope=col>Run</th><th scope=col>Age</th><th scope=col>Assay.Type</th><th scope=col>AvgSpotLen</th><th scope=col>Bases</th><th scope=col>BIOMATERIAL_PROVIDER</th><th scope=col>BioProject</th><th scope=col>BioSample</th><th scope=col>BioSampleModel</th><th scope=col>Bytes</th><th scope=col>⋯</th><th scope=col>LibrarySelection</th><th scope=col>LibrarySource</th><th scope=col>Organism</th><th scope=col>Platform</th><th scope=col>ReleaseDate</th><th scope=col>Sample.Name</th><th scope=col>sex</th><th scope=col>SRA.Study</th><th scope=col>tissue</th><th scope=col>treatment</th></tr>\n",
       "\t<tr><th></th><th scope=col>&lt;chr&gt;</th><th scope=col>&lt;chr&gt;</th><th scope=col>&lt;chr&gt;</th><th scope=col>&lt;int&gt;</th><th scope=col>&lt;dbl&gt;</th><th scope=col>&lt;chr&gt;</th><th scope=col>&lt;chr&gt;</th><th scope=col>&lt;chr&gt;</th><th scope=col>&lt;chr&gt;</th><th scope=col>&lt;dbl&gt;</th><th scope=col>⋯</th><th scope=col>&lt;chr&gt;</th><th scope=col>&lt;chr&gt;</th><th scope=col>&lt;chr&gt;</th><th scope=col>&lt;chr&gt;</th><th scope=col>&lt;chr&gt;</th><th scope=col>&lt;chr&gt;</th><th scope=col>&lt;chr&gt;</th><th scope=col>&lt;chr&gt;</th><th scope=col>&lt;chr&gt;</th><th scope=col>&lt;chr&gt;</th></tr>\n",
       "</thead>\n",
       "<tbody>\n",
       "\t<tr><th scope=row>1</th><td>SRR11909913</td><td>30-40</td><td>ATAC-seq</td><td>152</td><td>1639433088</td><td>Yang Lab\\, Stanford Emergency Department</td><td>PRJNA636835</td><td>SAMN15086993</td><td>Human</td><td> 631956173</td><td>⋯</td><td>other</td><td>GENOMIC</td><td>Homo sapiens</td><td>ILLUMINA</td><td>2020-06-09T00:00:00Z</td><td>LPS-D1-2 </td><td>female</td><td>SRP265675</td><td>blood</td><td>LPS challenge Donor 1-2 </td></tr>\n",
       "\t<tr><th scope=row>2</th><td>SRR11909914</td><td>30-40</td><td>ATAC-seq</td><td>152</td><td>1662692432</td><td>Yang Lab\\, Stanford Emergency Department</td><td>PRJNA636835</td><td>SAMN15086992</td><td>Human</td><td> 634797370</td><td>⋯</td><td>other</td><td>GENOMIC</td><td>Homo sapiens</td><td>ILLUMINA</td><td>2020-06-09T00:00:00Z</td><td>LPS-D1-1 </td><td>female</td><td>SRP265675</td><td>blood</td><td>LPS challenge Donor 1-1 </td></tr>\n",
       "\t<tr><th scope=row>3</th><td>SRR11909915</td><td>30-40</td><td>ATAC-seq</td><td>152</td><td>2794089232</td><td>Yang Lab\\, Stanford Emergency Department</td><td>PRJNA636835</td><td>SAMN15087059</td><td>Human</td><td>1213021149</td><td>⋯</td><td>other</td><td>GENOMIC</td><td>Homo sapiens</td><td>ILLUMINA</td><td>2020-06-09T00:00:00Z</td><td>R848-D4-2</td><td>female</td><td>SRP265675</td><td>blood</td><td>R848 challenge Donor 4-2</td></tr>\n",
       "\t<tr><th scope=row>4</th><td>SRR11909916</td><td>30-40</td><td>ATAC-seq</td><td>152</td><td>2648579632</td><td>Yang Lab\\, Stanford Emergency Department</td><td>PRJNA636835</td><td>SAMN15087058</td><td>Human</td><td>1164278902</td><td>⋯</td><td>other</td><td>GENOMIC</td><td>Homo sapiens</td><td>ILLUMINA</td><td>2020-06-09T00:00:00Z</td><td>R848-D4-1</td><td>female</td><td>SRP265675</td><td>blood</td><td>R848 challenge Donor 4-1</td></tr>\n",
       "\t<tr><th scope=row>5</th><td>SRR11909917</td><td>30-40</td><td>ATAC-seq</td><td>152</td><td>3676962992</td><td>Yang Lab\\, Stanford Emergency Department</td><td>PRJNA636835</td><td>SAMN15087057</td><td>Human</td><td>1633085552</td><td>⋯</td><td>other</td><td>GENOMIC</td><td>Homo sapiens</td><td>ILLUMINA</td><td>2020-06-09T00:00:00Z</td><td>LTA-D4-2 </td><td>female</td><td>SRP265675</td><td>blood</td><td>LTA challenge Donor 4-2 </td></tr>\n",
       "\t<tr><th scope=row>6</th><td>SRR11909918</td><td>30-40</td><td>ATAC-seq</td><td>152</td><td>2640023248</td><td>Yang Lab\\, Stanford Emergency Department</td><td>PRJNA636835</td><td>SAMN15087056</td><td>Human</td><td>1139104723</td><td>⋯</td><td>other</td><td>GENOMIC</td><td>Homo sapiens</td><td>ILLUMINA</td><td>2020-06-09T00:00:00Z</td><td>LTA-D4-1 </td><td>female</td><td>SRP265675</td><td>blood</td><td>LTA challenge Donor 4-1 </td></tr>\n",
       "</tbody>\n",
       "</table>\n"
      ],
      "text/latex": [
       "A data.frame: 6 × 31\n",
       "\\begin{tabular}{r|lllllllllllllllllllll}\n",
       "  & Run & Age & Assay.Type & AvgSpotLen & Bases & BIOMATERIAL\\_PROVIDER & BioProject & BioSample & BioSampleModel & Bytes & ⋯ & LibrarySelection & LibrarySource & Organism & Platform & ReleaseDate & Sample.Name & sex & SRA.Study & tissue & treatment\\\\\n",
       "  & <chr> & <chr> & <chr> & <int> & <dbl> & <chr> & <chr> & <chr> & <chr> & <dbl> & ⋯ & <chr> & <chr> & <chr> & <chr> & <chr> & <chr> & <chr> & <chr> & <chr> & <chr>\\\\\n",
       "\\hline\n",
       "\t1 & SRR11909913 & 30-40 & ATAC-seq & 152 & 1639433088 & Yang Lab\\textbackslash{}, Stanford Emergency Department & PRJNA636835 & SAMN15086993 & Human &  631956173 & ⋯ & other & GENOMIC & Homo sapiens & ILLUMINA & 2020-06-09T00:00:00Z & LPS-D1-2  & female & SRP265675 & blood & LPS challenge Donor 1-2 \\\\\n",
       "\t2 & SRR11909914 & 30-40 & ATAC-seq & 152 & 1662692432 & Yang Lab\\textbackslash{}, Stanford Emergency Department & PRJNA636835 & SAMN15086992 & Human &  634797370 & ⋯ & other & GENOMIC & Homo sapiens & ILLUMINA & 2020-06-09T00:00:00Z & LPS-D1-1  & female & SRP265675 & blood & LPS challenge Donor 1-1 \\\\\n",
       "\t3 & SRR11909915 & 30-40 & ATAC-seq & 152 & 2794089232 & Yang Lab\\textbackslash{}, Stanford Emergency Department & PRJNA636835 & SAMN15087059 & Human & 1213021149 & ⋯ & other & GENOMIC & Homo sapiens & ILLUMINA & 2020-06-09T00:00:00Z & R848-D4-2 & female & SRP265675 & blood & R848 challenge Donor 4-2\\\\\n",
       "\t4 & SRR11909916 & 30-40 & ATAC-seq & 152 & 2648579632 & Yang Lab\\textbackslash{}, Stanford Emergency Department & PRJNA636835 & SAMN15087058 & Human & 1164278902 & ⋯ & other & GENOMIC & Homo sapiens & ILLUMINA & 2020-06-09T00:00:00Z & R848-D4-1 & female & SRP265675 & blood & R848 challenge Donor 4-1\\\\\n",
       "\t5 & SRR11909917 & 30-40 & ATAC-seq & 152 & 3676962992 & Yang Lab\\textbackslash{}, Stanford Emergency Department & PRJNA636835 & SAMN15087057 & Human & 1633085552 & ⋯ & other & GENOMIC & Homo sapiens & ILLUMINA & 2020-06-09T00:00:00Z & LTA-D4-2  & female & SRP265675 & blood & LTA challenge Donor 4-2 \\\\\n",
       "\t6 & SRR11909918 & 30-40 & ATAC-seq & 152 & 2640023248 & Yang Lab\\textbackslash{}, Stanford Emergency Department & PRJNA636835 & SAMN15087056 & Human & 1139104723 & ⋯ & other & GENOMIC & Homo sapiens & ILLUMINA & 2020-06-09T00:00:00Z & LTA-D4-1  & female & SRP265675 & blood & LTA challenge Donor 4-1 \\\\\n",
       "\\end{tabular}\n"
      ],
      "text/markdown": [
       "\n",
       "A data.frame: 6 × 31\n",
       "\n",
       "| <!--/--> | Run &lt;chr&gt; | Age &lt;chr&gt; | Assay.Type &lt;chr&gt; | AvgSpotLen &lt;int&gt; | Bases &lt;dbl&gt; | BIOMATERIAL_PROVIDER &lt;chr&gt; | BioProject &lt;chr&gt; | BioSample &lt;chr&gt; | BioSampleModel &lt;chr&gt; | Bytes &lt;dbl&gt; | ⋯ ⋯ | LibrarySelection &lt;chr&gt; | LibrarySource &lt;chr&gt; | Organism &lt;chr&gt; | Platform &lt;chr&gt; | ReleaseDate &lt;chr&gt; | Sample.Name &lt;chr&gt; | sex &lt;chr&gt; | SRA.Study &lt;chr&gt; | tissue &lt;chr&gt; | treatment &lt;chr&gt; |\n",
       "|---|---|---|---|---|---|---|---|---|---|---|---|---|---|---|---|---|---|---|---|---|---|\n",
       "| 1 | SRR11909913 | 30-40 | ATAC-seq | 152 | 1639433088 | Yang Lab\\, Stanford Emergency Department | PRJNA636835 | SAMN15086993 | Human |  631956173 | ⋯ | other | GENOMIC | Homo sapiens | ILLUMINA | 2020-06-09T00:00:00Z | LPS-D1-2  | female | SRP265675 | blood | LPS challenge Donor 1-2  |\n",
       "| 2 | SRR11909914 | 30-40 | ATAC-seq | 152 | 1662692432 | Yang Lab\\, Stanford Emergency Department | PRJNA636835 | SAMN15086992 | Human |  634797370 | ⋯ | other | GENOMIC | Homo sapiens | ILLUMINA | 2020-06-09T00:00:00Z | LPS-D1-1  | female | SRP265675 | blood | LPS challenge Donor 1-1  |\n",
       "| 3 | SRR11909915 | 30-40 | ATAC-seq | 152 | 2794089232 | Yang Lab\\, Stanford Emergency Department | PRJNA636835 | SAMN15087059 | Human | 1213021149 | ⋯ | other | GENOMIC | Homo sapiens | ILLUMINA | 2020-06-09T00:00:00Z | R848-D4-2 | female | SRP265675 | blood | R848 challenge Donor 4-2 |\n",
       "| 4 | SRR11909916 | 30-40 | ATAC-seq | 152 | 2648579632 | Yang Lab\\, Stanford Emergency Department | PRJNA636835 | SAMN15087058 | Human | 1164278902 | ⋯ | other | GENOMIC | Homo sapiens | ILLUMINA | 2020-06-09T00:00:00Z | R848-D4-1 | female | SRP265675 | blood | R848 challenge Donor 4-1 |\n",
       "| 5 | SRR11909917 | 30-40 | ATAC-seq | 152 | 3676962992 | Yang Lab\\, Stanford Emergency Department | PRJNA636835 | SAMN15087057 | Human | 1633085552 | ⋯ | other | GENOMIC | Homo sapiens | ILLUMINA | 2020-06-09T00:00:00Z | LTA-D4-2  | female | SRP265675 | blood | LTA challenge Donor 4-2  |\n",
       "| 6 | SRR11909918 | 30-40 | ATAC-seq | 152 | 2640023248 | Yang Lab\\, Stanford Emergency Department | PRJNA636835 | SAMN15087056 | Human | 1139104723 | ⋯ | other | GENOMIC | Homo sapiens | ILLUMINA | 2020-06-09T00:00:00Z | LTA-D4-1  | female | SRP265675 | blood | LTA challenge Donor 4-1  |\n",
       "\n"
      ],
      "text/plain": [
       "  Run         Age   Assay.Type AvgSpotLen Bases     \n",
       "1 SRR11909913 30-40 ATAC-seq   152        1639433088\n",
       "2 SRR11909914 30-40 ATAC-seq   152        1662692432\n",
       "3 SRR11909915 30-40 ATAC-seq   152        2794089232\n",
       "4 SRR11909916 30-40 ATAC-seq   152        2648579632\n",
       "5 SRR11909917 30-40 ATAC-seq   152        3676962992\n",
       "6 SRR11909918 30-40 ATAC-seq   152        2640023248\n",
       "  BIOMATERIAL_PROVIDER                      BioProject  BioSample   \n",
       "1 Yang Lab\\\\, Stanford Emergency Department PRJNA636835 SAMN15086993\n",
       "2 Yang Lab\\\\, Stanford Emergency Department PRJNA636835 SAMN15086992\n",
       "3 Yang Lab\\\\, Stanford Emergency Department PRJNA636835 SAMN15087059\n",
       "4 Yang Lab\\\\, Stanford Emergency Department PRJNA636835 SAMN15087058\n",
       "5 Yang Lab\\\\, Stanford Emergency Department PRJNA636835 SAMN15087057\n",
       "6 Yang Lab\\\\, Stanford Emergency Department PRJNA636835 SAMN15087056\n",
       "  BioSampleModel Bytes      ⋯ LibrarySelection LibrarySource Organism    \n",
       "1 Human           631956173 ⋯ other            GENOMIC       Homo sapiens\n",
       "2 Human           634797370 ⋯ other            GENOMIC       Homo sapiens\n",
       "3 Human          1213021149 ⋯ other            GENOMIC       Homo sapiens\n",
       "4 Human          1164278902 ⋯ other            GENOMIC       Homo sapiens\n",
       "5 Human          1633085552 ⋯ other            GENOMIC       Homo sapiens\n",
       "6 Human          1139104723 ⋯ other            GENOMIC       Homo sapiens\n",
       "  Platform ReleaseDate          Sample.Name sex    SRA.Study tissue\n",
       "1 ILLUMINA 2020-06-09T00:00:00Z LPS-D1-2    female SRP265675 blood \n",
       "2 ILLUMINA 2020-06-09T00:00:00Z LPS-D1-1    female SRP265675 blood \n",
       "3 ILLUMINA 2020-06-09T00:00:00Z R848-D4-2   female SRP265675 blood \n",
       "4 ILLUMINA 2020-06-09T00:00:00Z R848-D4-1   female SRP265675 blood \n",
       "5 ILLUMINA 2020-06-09T00:00:00Z LTA-D4-2    female SRP265675 blood \n",
       "6 ILLUMINA 2020-06-09T00:00:00Z LTA-D4-1    female SRP265675 blood \n",
       "  treatment               \n",
       "1 LPS challenge Donor 1-2 \n",
       "2 LPS challenge Donor 1-1 \n",
       "3 R848 challenge Donor 4-2\n",
       "4 R848 challenge Donor 4-1\n",
       "5 LTA challenge Donor 4-2 \n",
       "6 LTA challenge Donor 4-1 "
      ]
     },
     "metadata": {},
     "output_type": "display_data"
    }
   ],
   "source": [
    "head(ram.mohan.atac)"
   ]
  },
  {
   "cell_type": "markdown",
   "id": "f8f2c0a4-d87a-4efc-aa66-cfecd6d4973e",
   "metadata": {},
   "source": [
    "## Generate RNA-Seq Metadata"
   ]
  },
  {
   "cell_type": "markdown",
   "id": "7e12cefa-88a3-4d5e-9c86-f26ada49fdfb",
   "metadata": {},
   "source": [
    "These are the common fields across all three studies."
   ]
  },
  {
   "cell_type": "code",
   "execution_count": 14,
   "id": "3e301ba1-400f-4557-b944-ec12dd7b7a83",
   "metadata": {},
   "outputs": [],
   "source": [
    "common.fields <- Reduce(intersect, list(colnames(corces.rna), colnames(calderon.rna), colnames(ram.mohan.rna)))"
   ]
  },
  {
   "cell_type": "markdown",
   "id": "375be24c-ef88-4354-9a7c-911ddb14b26a",
   "metadata": {},
   "source": [
    "We are only interested in Monocytes from the Corces *et al.* study."
   ]
  },
  {
   "cell_type": "code",
   "execution_count": 15,
   "id": "a887bf42-da9f-45dc-924f-3b1a4175eee5",
   "metadata": {},
   "outputs": [],
   "source": [
    "replicates <- function(x) {\n",
    "    freqs <- as.list(rep(0, length(unique(x))))\n",
    "    names(freqs) <- unique(x)\n",
    "    out.vec <- list()\n",
    "    for (i in x) {\n",
    "        freqs[[i]] <- freqs[[i]] + 1\n",
    "        out.vec[[length(out.vec) + 1]] <- freqs[[i]]\n",
    "    }\n",
    "    return(unlist(out.vec))\n",
    "}"
   ]
  },
  {
   "cell_type": "code",
   "execution_count": 16,
   "id": "7f3fd81d-6546-48b9-b165-3db091e4df00",
   "metadata": {},
   "outputs": [],
   "source": [
    "monocytes.idx <- grepl(\"monocyte\", corces.rna$Cell_type)\n",
    "\n",
    "corces.rna.update <- cbind(\n",
    "    corces.rna[monocytes.idx, common.fields],\n",
    "    corces.rna[monocytes.idx, setdiff(colnames(corces.rna), common.fields)] %>%\n",
    "        dplyr::mutate(Lineage=\"MYELOID\") %>%\n",
    "        dplyr::mutate(Donor=paste0(\"Corces-\", donorid)) %>%\n",
    "        dplyr::mutate(Stimulated=F) %>%\n",
    "        dplyr::mutate(Treatment=\"Control\") %>%\n",
    "        dplyr::mutate(Replicate=replicates(Donor)) %>%\n",
    "        dplyr::select(Lineage, Donor, Stimulated, Treatment, Replicate)\n",
    ") %>%\n",
    "    dplyr::mutate(Cell_type=\"Monocytes\")"
   ]
  },
  {
   "cell_type": "code",
   "execution_count": 17,
   "id": "09cb6e42-4342-4a5d-a438-0d6d944543e7",
   "metadata": {},
   "outputs": [],
   "source": [
    "calderon.rna.update <- cbind(\n",
    "    calderon.rna[, common.fields],\n",
    "    calderon.rna[, setdiff(colnames(calderon.rna), common.fields)] %>%\n",
    "        dplyr::mutate(Donor=paste0(\"Calderon-\", Donor)) %>%\n",
    "        dplyr::mutate(Stimulated=treatment!=\"no_treament\") %>%\n",
    "        dplyr::mutate(Treatment=treatment) %>%\n",
    "        dplyr::mutate(Treatment=plyr::revalue(Treatment, c(\"no_treament\"=\"Control\", \"treatment1\"=\"Treatment_1\", \"treatment2\"=\"Treatment_2\"))) %>%\n",
    "        dplyr::mutate(Replicate=1) %>%\n",
    "        dplyr::select(Lineage=lineage, Donor, Stimulated, Treatment, Replicate)\n",
    ")"
   ]
  },
  {
   "cell_type": "code",
   "execution_count": 18,
   "id": "f4fe63ab-176c-4535-8ebe-a3f19f1d1ad5",
   "metadata": {},
   "outputs": [],
   "source": [
    "ram.mohan.rna.update <- cbind(\n",
    "    ram.mohan.rna[, common.fields],\n",
    "    ram.mohan.rna[, setdiff(colnames(ram.mohan.rna), common.fields), drop=F] %>%\n",
    "        dplyr::mutate(Lineage=\"MYELOID\") %>%\n",
    "        dplyr::mutate(Donor=paste0(\"Ram-Mohan-D1\")) %>%\n",
    "        dplyr::mutate(Treatment=gsub(\" hours?\", \"\", time)) %>%\n",
    "        dplyr::mutate(Replicate=replicates(Treatment)) %>%\n",
    "        dplyr::select(Lineage, Donor, Treatment, Replicate)\n",
    ") %>%\n",
    "    dplyr::mutate(Cell_type=\"Neutrophils\") %>%\n",
    "    dplyr::mutate(Treatment=ifelse(grepl(\"^Healthy\", source_name), paste0(\"noECh\", Treatment), paste0(\"ECh\", Treatment))) %>%\n",
    "    dplyr::mutate(Stimulated=grepl(\"^EC\", Treatment)) %>%\n",
    "    dplyr::select(everything(), Lineage, Donor, Stimulated, Treatment, Replicate)"
   ]
  },
  {
   "cell_type": "code",
   "execution_count": 19,
   "id": "c37be432-1e20-486f-9be3-3d67bda83502",
   "metadata": {},
   "outputs": [],
   "source": [
    "rna <- rbind(corces.rna.update, calderon.rna.update, ram.mohan.rna.update) %>%\n",
    "    dplyr::mutate(Group.ID=paste0(Donor, \"-\", Cell_type, \"-\", Treatment)) %>%\n",
    "    dplyr::mutate(Sample.ID=paste0(Group.ID, \"-\", Replicate)) %>%\n",
    "    dplyr::select(Run, Group.ID, Sample.ID, Donor, Lineage, Cell_type, Stimulated, Treatment, Replicate, everything(), -DATASTORE.filetype, -DATASTORE.provider, -DATASTORE.region)"
   ]
  },
  {
   "cell_type": "code",
   "execution_count": 20,
   "id": "90026ebf-3593-4d80-8788-460fda3136ab",
   "metadata": {},
   "outputs": [
    {
     "data": {
      "text/html": [
       "<table class=\"dataframe\">\n",
       "<caption>A data.frame: 6 × 29</caption>\n",
       "<thead>\n",
       "\t<tr><th></th><th scope=col>Run</th><th scope=col>Group.ID</th><th scope=col>Sample.ID</th><th scope=col>Donor</th><th scope=col>Lineage</th><th scope=col>Cell_type</th><th scope=col>Stimulated</th><th scope=col>Treatment</th><th scope=col>Replicate</th><th scope=col>Assay.Type</th><th scope=col>⋯</th><th scope=col>Instrument</th><th scope=col>LibraryLayout</th><th scope=col>LibrarySelection</th><th scope=col>LibrarySource</th><th scope=col>Organism</th><th scope=col>Platform</th><th scope=col>ReleaseDate</th><th scope=col>Sample.Name</th><th scope=col>source_name</th><th scope=col>SRA.Study</th></tr>\n",
       "\t<tr><th></th><th scope=col>&lt;chr&gt;</th><th scope=col>&lt;chr&gt;</th><th scope=col>&lt;chr&gt;</th><th scope=col>&lt;chr&gt;</th><th scope=col>&lt;chr&gt;</th><th scope=col>&lt;chr&gt;</th><th scope=col>&lt;lgl&gt;</th><th scope=col>&lt;chr&gt;</th><th scope=col>&lt;dbl&gt;</th><th scope=col>&lt;chr&gt;</th><th scope=col>⋯</th><th scope=col>&lt;chr&gt;</th><th scope=col>&lt;chr&gt;</th><th scope=col>&lt;chr&gt;</th><th scope=col>&lt;chr&gt;</th><th scope=col>&lt;chr&gt;</th><th scope=col>&lt;chr&gt;</th><th scope=col>&lt;chr&gt;</th><th scope=col>&lt;chr&gt;</th><th scope=col>&lt;chr&gt;</th><th scope=col>&lt;chr&gt;</th></tr>\n",
       "</thead>\n",
       "<tbody>\n",
       "\t<tr><th scope=row>22</th><td>SRR2753094 </td><td>Corces-5852-Monocytes-Control     </td><td>Corces-5852-Monocytes-Control-1     </td><td>Corces-5852  </td><td>MYELOID</td><td>Monocytes</td><td>FALSE</td><td>Control    </td><td>1</td><td>RNA-Seq</td><td>⋯</td><td>NextSeq 500          </td><td>PAIRED</td><td>cDNA</td><td>TRANSCRIPTOMIC</td><td>Homo sapiens</td><td>ILLUMINA</td><td>2016-06-01T00:00:00Z</td><td>GSM1915599</td><td>Mono         </td><td>SRP065216</td></tr>\n",
       "\t<tr><th scope=row>28</th><td>SRR2753100 </td><td>Corces-6792-Monocytes-Control     </td><td>Corces-6792-Monocytes-Control-1     </td><td>Corces-6792  </td><td>MYELOID</td><td>Monocytes</td><td>FALSE</td><td>Control    </td><td>1</td><td>RNA-Seq</td><td>⋯</td><td>NextSeq 500          </td><td>PAIRED</td><td>cDNA</td><td>TRANSCRIPTOMIC</td><td>Homo sapiens</td><td>ILLUMINA</td><td>2016-06-01T00:00:00Z</td><td>GSM1915605</td><td>Mono         </td><td>SRP065216</td></tr>\n",
       "\t<tr><th scope=row>37</th><td>SRR2753109 </td><td>Corces-7256-Monocytes-Control     </td><td>Corces-7256-Monocytes-Control-1     </td><td>Corces-7256  </td><td>MYELOID</td><td>Monocytes</td><td>FALSE</td><td>Control    </td><td>1</td><td>RNA-Seq</td><td>⋯</td><td>NextSeq 500          </td><td>PAIRED</td><td>cDNA</td><td>TRANSCRIPTOMIC</td><td>Homo sapiens</td><td>ILLUMINA</td><td>2016-06-01T00:00:00Z</td><td>GSM1915614</td><td>Mono         </td><td>SRP065216</td></tr>\n",
       "\t<tr><th scope=row>47</th><td>SRR2753119 </td><td>Corces-7653-Monocytes-Control     </td><td>Corces-7653-Monocytes-Control-1     </td><td>Corces-7653  </td><td>MYELOID</td><td>Monocytes</td><td>FALSE</td><td>Control    </td><td>1</td><td>RNA-Seq</td><td>⋯</td><td>NextSeq 500          </td><td>PAIRED</td><td>cDNA</td><td>TRANSCRIPTOMIC</td><td>Homo sapiens</td><td>ILLUMINA</td><td>2016-06-01T00:00:00Z</td><td>GSM1915624</td><td>Mono         </td><td>SRP065216</td></tr>\n",
       "\t<tr><th scope=row>1</th><td>SRR11007061</td><td>Calderon-1001-CD8pos_T-Control    </td><td>Calderon-1001-CD8pos_T-Control-1    </td><td>Calderon-1001</td><td>CD8    </td><td>CD8pos_T </td><td>FALSE</td><td>Control    </td><td>1</td><td>RNA-Seq</td><td>⋯</td><td>Illumina NovaSeq 6000</td><td>PAIRED</td><td>cDNA</td><td>TRANSCRIPTOMIC</td><td>Homo sapiens</td><td>ILLUMINA</td><td>2020-02-04T00:00:00Z</td><td>GSM3319750</td><td>primary blood</td><td>SRP156452</td></tr>\n",
       "\t<tr><th scope=row>2</th><td>SRR11007062</td><td>Calderon-1001-CD8pos_T-Treatment_1</td><td>Calderon-1001-CD8pos_T-Treatment_1-1</td><td>Calderon-1001</td><td>CD8    </td><td>CD8pos_T </td><td> TRUE</td><td>Treatment_1</td><td>1</td><td>RNA-Seq</td><td>⋯</td><td>Illumina NovaSeq 6000</td><td>PAIRED</td><td>cDNA</td><td>TRANSCRIPTOMIC</td><td>Homo sapiens</td><td>ILLUMINA</td><td>2020-02-04T00:00:00Z</td><td>GSM3319751</td><td>primary blood</td><td>SRP156452</td></tr>\n",
       "</tbody>\n",
       "</table>\n"
      ],
      "text/latex": [
       "A data.frame: 6 × 29\n",
       "\\begin{tabular}{r|lllllllllllllllllllll}\n",
       "  & Run & Group.ID & Sample.ID & Donor & Lineage & Cell\\_type & Stimulated & Treatment & Replicate & Assay.Type & ⋯ & Instrument & LibraryLayout & LibrarySelection & LibrarySource & Organism & Platform & ReleaseDate & Sample.Name & source\\_name & SRA.Study\\\\\n",
       "  & <chr> & <chr> & <chr> & <chr> & <chr> & <chr> & <lgl> & <chr> & <dbl> & <chr> & ⋯ & <chr> & <chr> & <chr> & <chr> & <chr> & <chr> & <chr> & <chr> & <chr> & <chr>\\\\\n",
       "\\hline\n",
       "\t22 & SRR2753094  & Corces-5852-Monocytes-Control      & Corces-5852-Monocytes-Control-1      & Corces-5852   & MYELOID & Monocytes & FALSE & Control     & 1 & RNA-Seq & ⋯ & NextSeq 500           & PAIRED & cDNA & TRANSCRIPTOMIC & Homo sapiens & ILLUMINA & 2016-06-01T00:00:00Z & GSM1915599 & Mono          & SRP065216\\\\\n",
       "\t28 & SRR2753100  & Corces-6792-Monocytes-Control      & Corces-6792-Monocytes-Control-1      & Corces-6792   & MYELOID & Monocytes & FALSE & Control     & 1 & RNA-Seq & ⋯ & NextSeq 500           & PAIRED & cDNA & TRANSCRIPTOMIC & Homo sapiens & ILLUMINA & 2016-06-01T00:00:00Z & GSM1915605 & Mono          & SRP065216\\\\\n",
       "\t37 & SRR2753109  & Corces-7256-Monocytes-Control      & Corces-7256-Monocytes-Control-1      & Corces-7256   & MYELOID & Monocytes & FALSE & Control     & 1 & RNA-Seq & ⋯ & NextSeq 500           & PAIRED & cDNA & TRANSCRIPTOMIC & Homo sapiens & ILLUMINA & 2016-06-01T00:00:00Z & GSM1915614 & Mono          & SRP065216\\\\\n",
       "\t47 & SRR2753119  & Corces-7653-Monocytes-Control      & Corces-7653-Monocytes-Control-1      & Corces-7653   & MYELOID & Monocytes & FALSE & Control     & 1 & RNA-Seq & ⋯ & NextSeq 500           & PAIRED & cDNA & TRANSCRIPTOMIC & Homo sapiens & ILLUMINA & 2016-06-01T00:00:00Z & GSM1915624 & Mono          & SRP065216\\\\\n",
       "\t1 & SRR11007061 & Calderon-1001-CD8pos\\_T-Control     & Calderon-1001-CD8pos\\_T-Control-1     & Calderon-1001 & CD8     & CD8pos\\_T  & FALSE & Control     & 1 & RNA-Seq & ⋯ & Illumina NovaSeq 6000 & PAIRED & cDNA & TRANSCRIPTOMIC & Homo sapiens & ILLUMINA & 2020-02-04T00:00:00Z & GSM3319750 & primary blood & SRP156452\\\\\n",
       "\t2 & SRR11007062 & Calderon-1001-CD8pos\\_T-Treatment\\_1 & Calderon-1001-CD8pos\\_T-Treatment\\_1-1 & Calderon-1001 & CD8     & CD8pos\\_T  &  TRUE & Treatment\\_1 & 1 & RNA-Seq & ⋯ & Illumina NovaSeq 6000 & PAIRED & cDNA & TRANSCRIPTOMIC & Homo sapiens & ILLUMINA & 2020-02-04T00:00:00Z & GSM3319751 & primary blood & SRP156452\\\\\n",
       "\\end{tabular}\n"
      ],
      "text/markdown": [
       "\n",
       "A data.frame: 6 × 29\n",
       "\n",
       "| <!--/--> | Run &lt;chr&gt; | Group.ID &lt;chr&gt; | Sample.ID &lt;chr&gt; | Donor &lt;chr&gt; | Lineage &lt;chr&gt; | Cell_type &lt;chr&gt; | Stimulated &lt;lgl&gt; | Treatment &lt;chr&gt; | Replicate &lt;dbl&gt; | Assay.Type &lt;chr&gt; | ⋯ ⋯ | Instrument &lt;chr&gt; | LibraryLayout &lt;chr&gt; | LibrarySelection &lt;chr&gt; | LibrarySource &lt;chr&gt; | Organism &lt;chr&gt; | Platform &lt;chr&gt; | ReleaseDate &lt;chr&gt; | Sample.Name &lt;chr&gt; | source_name &lt;chr&gt; | SRA.Study &lt;chr&gt; |\n",
       "|---|---|---|---|---|---|---|---|---|---|---|---|---|---|---|---|---|---|---|---|---|---|\n",
       "| 22 | SRR2753094  | Corces-5852-Monocytes-Control      | Corces-5852-Monocytes-Control-1      | Corces-5852   | MYELOID | Monocytes | FALSE | Control     | 1 | RNA-Seq | ⋯ | NextSeq 500           | PAIRED | cDNA | TRANSCRIPTOMIC | Homo sapiens | ILLUMINA | 2016-06-01T00:00:00Z | GSM1915599 | Mono          | SRP065216 |\n",
       "| 28 | SRR2753100  | Corces-6792-Monocytes-Control      | Corces-6792-Monocytes-Control-1      | Corces-6792   | MYELOID | Monocytes | FALSE | Control     | 1 | RNA-Seq | ⋯ | NextSeq 500           | PAIRED | cDNA | TRANSCRIPTOMIC | Homo sapiens | ILLUMINA | 2016-06-01T00:00:00Z | GSM1915605 | Mono          | SRP065216 |\n",
       "| 37 | SRR2753109  | Corces-7256-Monocytes-Control      | Corces-7256-Monocytes-Control-1      | Corces-7256   | MYELOID | Monocytes | FALSE | Control     | 1 | RNA-Seq | ⋯ | NextSeq 500           | PAIRED | cDNA | TRANSCRIPTOMIC | Homo sapiens | ILLUMINA | 2016-06-01T00:00:00Z | GSM1915614 | Mono          | SRP065216 |\n",
       "| 47 | SRR2753119  | Corces-7653-Monocytes-Control      | Corces-7653-Monocytes-Control-1      | Corces-7653   | MYELOID | Monocytes | FALSE | Control     | 1 | RNA-Seq | ⋯ | NextSeq 500           | PAIRED | cDNA | TRANSCRIPTOMIC | Homo sapiens | ILLUMINA | 2016-06-01T00:00:00Z | GSM1915624 | Mono          | SRP065216 |\n",
       "| 1 | SRR11007061 | Calderon-1001-CD8pos_T-Control     | Calderon-1001-CD8pos_T-Control-1     | Calderon-1001 | CD8     | CD8pos_T  | FALSE | Control     | 1 | RNA-Seq | ⋯ | Illumina NovaSeq 6000 | PAIRED | cDNA | TRANSCRIPTOMIC | Homo sapiens | ILLUMINA | 2020-02-04T00:00:00Z | GSM3319750 | primary blood | SRP156452 |\n",
       "| 2 | SRR11007062 | Calderon-1001-CD8pos_T-Treatment_1 | Calderon-1001-CD8pos_T-Treatment_1-1 | Calderon-1001 | CD8     | CD8pos_T  |  TRUE | Treatment_1 | 1 | RNA-Seq | ⋯ | Illumina NovaSeq 6000 | PAIRED | cDNA | TRANSCRIPTOMIC | Homo sapiens | ILLUMINA | 2020-02-04T00:00:00Z | GSM3319751 | primary blood | SRP156452 |\n",
       "\n"
      ],
      "text/plain": [
       "   Run         Group.ID                          \n",
       "22 SRR2753094  Corces-5852-Monocytes-Control     \n",
       "28 SRR2753100  Corces-6792-Monocytes-Control     \n",
       "37 SRR2753109  Corces-7256-Monocytes-Control     \n",
       "47 SRR2753119  Corces-7653-Monocytes-Control     \n",
       "1  SRR11007061 Calderon-1001-CD8pos_T-Control    \n",
       "2  SRR11007062 Calderon-1001-CD8pos_T-Treatment_1\n",
       "   Sample.ID                            Donor         Lineage Cell_type\n",
       "22 Corces-5852-Monocytes-Control-1      Corces-5852   MYELOID Monocytes\n",
       "28 Corces-6792-Monocytes-Control-1      Corces-6792   MYELOID Monocytes\n",
       "37 Corces-7256-Monocytes-Control-1      Corces-7256   MYELOID Monocytes\n",
       "47 Corces-7653-Monocytes-Control-1      Corces-7653   MYELOID Monocytes\n",
       "1  Calderon-1001-CD8pos_T-Control-1     Calderon-1001 CD8     CD8pos_T \n",
       "2  Calderon-1001-CD8pos_T-Treatment_1-1 Calderon-1001 CD8     CD8pos_T \n",
       "   Stimulated Treatment   Replicate Assay.Type ⋯ Instrument           \n",
       "22 FALSE      Control     1         RNA-Seq    ⋯ NextSeq 500          \n",
       "28 FALSE      Control     1         RNA-Seq    ⋯ NextSeq 500          \n",
       "37 FALSE      Control     1         RNA-Seq    ⋯ NextSeq 500          \n",
       "47 FALSE      Control     1         RNA-Seq    ⋯ NextSeq 500          \n",
       "1  FALSE      Control     1         RNA-Seq    ⋯ Illumina NovaSeq 6000\n",
       "2   TRUE      Treatment_1 1         RNA-Seq    ⋯ Illumina NovaSeq 6000\n",
       "   LibraryLayout LibrarySelection LibrarySource  Organism     Platform\n",
       "22 PAIRED        cDNA             TRANSCRIPTOMIC Homo sapiens ILLUMINA\n",
       "28 PAIRED        cDNA             TRANSCRIPTOMIC Homo sapiens ILLUMINA\n",
       "37 PAIRED        cDNA             TRANSCRIPTOMIC Homo sapiens ILLUMINA\n",
       "47 PAIRED        cDNA             TRANSCRIPTOMIC Homo sapiens ILLUMINA\n",
       "1  PAIRED        cDNA             TRANSCRIPTOMIC Homo sapiens ILLUMINA\n",
       "2  PAIRED        cDNA             TRANSCRIPTOMIC Homo sapiens ILLUMINA\n",
       "   ReleaseDate          Sample.Name source_name   SRA.Study\n",
       "22 2016-06-01T00:00:00Z GSM1915599  Mono          SRP065216\n",
       "28 2016-06-01T00:00:00Z GSM1915605  Mono          SRP065216\n",
       "37 2016-06-01T00:00:00Z GSM1915614  Mono          SRP065216\n",
       "47 2016-06-01T00:00:00Z GSM1915624  Mono          SRP065216\n",
       "1  2020-02-04T00:00:00Z GSM3319750  primary blood SRP156452\n",
       "2  2020-02-04T00:00:00Z GSM3319751  primary blood SRP156452"
      ]
     },
     "metadata": {},
     "output_type": "display_data"
    }
   ],
   "source": [
    "head(rna)"
   ]
  },
  {
   "cell_type": "code",
   "execution_count": 21,
   "id": "fde5042a-0f05-487f-8178-86b5572e1c2f",
   "metadata": {},
   "outputs": [],
   "source": [
    "write.csv(rna, \"03_Functional_Interpretation/metadata/reads_rna_seq.txt\", row.names=F, quote=F)"
   ]
  },
  {
   "cell_type": "markdown",
   "id": "ae8578f5-6700-4716-9dff-2bf8a2f4d9f0",
   "metadata": {
    "tags": []
   },
   "source": [
    "## Generate ATAC-Seq Metadata"
   ]
  },
  {
   "cell_type": "markdown",
   "id": "422c5240-586a-471c-ac7c-af726c6bf636",
   "metadata": {},
   "source": [
    "These are the common fields across all three studies."
   ]
  },
  {
   "cell_type": "code",
   "execution_count": 22,
   "id": "286acef8-7202-4f88-875e-227209131980",
   "metadata": {},
   "outputs": [],
   "source": [
    "common.fields <- Reduce(intersect, list(colnames(corces.atac), colnames(calderon.atac), colnames(ram.mohan.atac)))"
   ]
  },
  {
   "cell_type": "markdown",
   "id": "1d90134b-e4e0-4a74-a034-26a15aae25ca",
   "metadata": {},
   "source": [
    "We are only interested in Monocytes from the Corces *et al.* study."
   ]
  },
  {
   "cell_type": "code",
   "execution_count": 23,
   "id": "16323978-daae-4d93-a3d1-086e05eeede8",
   "metadata": {},
   "outputs": [],
   "source": [
    "replicates <- function(x) {\n",
    "    freqs <- as.list(rep(0, length(unique(x))))\n",
    "    names(freqs) <- unique(x)\n",
    "    out.vec <- list()\n",
    "    for (i in x) {\n",
    "        freqs[[i]] <- freqs[[i]] + 1\n",
    "        out.vec[[length(out.vec) + 1]] <- freqs[[i]]\n",
    "    }\n",
    "    return(unlist(out.vec))\n",
    "}"
   ]
  },
  {
   "cell_type": "code",
   "execution_count": 24,
   "id": "8383d45e-32c7-4853-8799-38b1a173e01e",
   "metadata": {},
   "outputs": [],
   "source": [
    "monocytes.idx <- grepl(\"monocyte\", corces.atac$Cell_type)\n",
    "\n",
    "corces.atac.update <- cbind(\n",
    "    corces.atac[monocytes.idx, common.fields],\n",
    "    corces.atac[monocytes.idx, setdiff(colnames(corces.atac), common.fields)] %>%\n",
    "        dplyr::mutate(Lineage=\"MYELOID\") %>%\n",
    "        dplyr::mutate(Donor=paste0(\"Corces-\", donorid)) %>%\n",
    "        dplyr::mutate(Stimulated=F) %>%\n",
    "        dplyr::mutate(Treatment=\"Control\") %>%\n",
    "        dplyr::mutate(Replicate=replicates(Donor)) %>%\n",
    "        dplyr::select(Lineage, Donor, Stimulated, Treatment, Replicate)\n",
    ") %>%\n",
    "    dplyr::mutate(Assay.Type=\"ATAC-Seq\") %>%\n",
    "    dplyr::mutate(Cell_type=\"Monocytes\")"
   ]
  },
  {
   "cell_type": "code",
   "execution_count": 25,
   "id": "871c8c07-0bab-4cf0-8136-8e8aa11e8075",
   "metadata": {},
   "outputs": [],
   "source": [
    "calderon.atac.update <- cbind(\n",
    "    calderon.atac[, common.fields],\n",
    "    calderon.atac[, setdiff(colnames(calderon.atac), common.fields)] %>%\n",
    "        dplyr::mutate(Donor=paste0(\"Calderon-\", Donor)) %>%\n",
    "        dplyr::mutate(Stimulated=treatment!=\"no_treament\") %>%\n",
    "        dplyr::mutate(Treatment=treatment) %>%\n",
    "        dplyr::mutate(Treatment=plyr::revalue(Treatment, c(\"no_treament\"=\"Control\", \"treatment1\"=\"Treatment_1\", \"treatment2\"=\"Treatment_2\"))) %>%\n",
    "        dplyr::mutate(Replicate=1) %>%\n",
    "        dplyr::select(Lineage=lineage, Donor, Stimulated, Treatment, Replicate)\n",
    ") %>%\n",
    "    dplyr::mutate(Assay.Type=\"ATAC-Seq\")"
   ]
  },
  {
   "cell_type": "code",
   "execution_count": 26,
   "id": "9825d776-3409-4c71-b486-6faca476e814",
   "metadata": {},
   "outputs": [],
   "source": [
    "ram.mohan.atac.update <- cbind(\n",
    "    ram.mohan.atac[, common.fields],\n",
    "    ram.mohan.atac[, setdiff(colnames(ram.mohan.atac), common.fields)] %>%\n",
    "        dplyr::mutate(Lineage=\"MYELOID\") %>%\n",
    "        dplyr::mutate(Donor=paste0(\"Ram-Mohan-\", Isolate)) %>%\n",
    "        dplyr::mutate(Stimulated=!grepl(\"^Control\", treatment) & !grepl(\"^noEC\", treatment)) %>%\n",
    "        dplyr::mutate(Treatment=gsub(\"-.*-.*\", \"\", Library.Name)) %>%\n",
    "        dplyr::mutate(Treatment=plyr::revalue(Treatment, c(\"CTRL\"=\"Control\"))) %>%\n",
    "        dplyr::mutate(Treatment=ifelse(Treatment == \"SA\", paste0(\"SA-\", gsub(\"-.$\", \"\", gsub(\"^SA-D.-10-\", \"\", Library.Name))), Treatment)) %>%\n",
    "        dplyr::mutate(Replicate=as.numeric(gsub(\".*-.*-\", \"\", Library.Name))) %>%\n",
    "        dplyr::select(Lineage, Donor, Stimulated, Treatment, Replicate)\n",
    ") %>%\n",
    "    dplyr::mutate(Assay.Type=\"ATAC-Seq\") %>%\n",
    "    dplyr::mutate(Cell_type=\"Neutrophils\")"
   ]
  },
  {
   "cell_type": "code",
   "execution_count": 27,
   "id": "14e5dd02-d0e3-4e8d-bb96-e00d39b6d257",
   "metadata": {},
   "outputs": [],
   "source": [
    "atac <- rbind(corces.atac.update, calderon.atac.update, ram.mohan.atac.update) %>%\n",
    "    dplyr::mutate(Group.ID=paste0(Donor, \"-\", Cell_type, \"-\", Treatment)) %>%\n",
    "    dplyr::mutate(Sample.ID=paste0(Group.ID, \"-\", Replicate)) %>%\n",
    "    dplyr::select(Run, Group.ID, Sample.ID, Donor, Lineage, Cell_type, Stimulated, Treatment, Replicate, everything(), -DATASTORE.filetype, -DATASTORE.provider, -DATASTORE.region)"
   ]
  },
  {
   "cell_type": "code",
   "execution_count": 28,
   "id": "8fb7226c-79bb-4a67-bcde-09afd4ba1f72",
   "metadata": {},
   "outputs": [
    {
     "data": {
      "text/html": [
       "<table class=\"dataframe\">\n",
       "<caption>A data.frame: 6 × 27</caption>\n",
       "<thead>\n",
       "\t<tr><th></th><th scope=col>Run</th><th scope=col>Group.ID</th><th scope=col>Sample.ID</th><th scope=col>Donor</th><th scope=col>Lineage</th><th scope=col>Cell_type</th><th scope=col>Stimulated</th><th scope=col>Treatment</th><th scope=col>Replicate</th><th scope=col>Assay.Type</th><th scope=col>⋯</th><th scope=col>Experiment</th><th scope=col>Instrument</th><th scope=col>LibraryLayout</th><th scope=col>LibrarySelection</th><th scope=col>LibrarySource</th><th scope=col>Organism</th><th scope=col>Platform</th><th scope=col>ReleaseDate</th><th scope=col>Sample.Name</th><th scope=col>SRA.Study</th></tr>\n",
       "\t<tr><th></th><th scope=col>&lt;chr&gt;</th><th scope=col>&lt;chr&gt;</th><th scope=col>&lt;chr&gt;</th><th scope=col>&lt;chr&gt;</th><th scope=col>&lt;chr&gt;</th><th scope=col>&lt;chr&gt;</th><th scope=col>&lt;lgl&gt;</th><th scope=col>&lt;chr&gt;</th><th scope=col>&lt;dbl&gt;</th><th scope=col>&lt;chr&gt;</th><th scope=col>⋯</th><th scope=col>&lt;chr&gt;</th><th scope=col>&lt;chr&gt;</th><th scope=col>&lt;chr&gt;</th><th scope=col>&lt;chr&gt;</th><th scope=col>&lt;chr&gt;</th><th scope=col>&lt;chr&gt;</th><th scope=col>&lt;chr&gt;</th><th scope=col>&lt;chr&gt;</th><th scope=col>&lt;chr&gt;</th><th scope=col>&lt;chr&gt;</th></tr>\n",
       "</thead>\n",
       "<tbody>\n",
       "\t<tr><th scope=row>4</th><td>SRR2920475</td><td>Corces-4983-Monocytes-Control</td><td>Corces-4983-Monocytes-Control-1</td><td>Corces-4983</td><td>MYELOID</td><td>Monocytes</td><td>FALSE</td><td>Control</td><td>1</td><td>ATAC-Seq</td><td>⋯</td><td>SRX1427798</td><td>NextSeq 500</td><td>PAIRED</td><td>other</td><td>GENOMIC</td><td>Homo sapiens</td><td>ILLUMINA</td><td>2016-06-01T00:00:00Z</td><td>GSM1937385</td><td>SRP066100</td></tr>\n",
       "\t<tr><th scope=row>9</th><td>SRR2920488</td><td>Corces-6792-Monocytes-Control</td><td>Corces-6792-Monocytes-Control-1</td><td>Corces-6792</td><td>MYELOID</td><td>Monocytes</td><td>FALSE</td><td>Control</td><td>1</td><td>ATAC-Seq</td><td>⋯</td><td>SRX1427811</td><td>NextSeq 500</td><td>PAIRED</td><td>other</td><td>GENOMIC</td><td>Homo sapiens</td><td>ILLUMINA</td><td>2016-06-01T00:00:00Z</td><td>GSM1937398</td><td>SRP066100</td></tr>\n",
       "\t<tr><th scope=row>71</th><td>SRR2920476</td><td>Corces-4983-Monocytes-Control</td><td>Corces-4983-Monocytes-Control-2</td><td>Corces-4983</td><td>MYELOID</td><td>Monocytes</td><td>FALSE</td><td>Control</td><td>2</td><td>ATAC-Seq</td><td>⋯</td><td>SRX1427799</td><td>NextSeq 500</td><td>PAIRED</td><td>other</td><td>GENOMIC</td><td>Homo sapiens</td><td>ILLUMINA</td><td>2016-06-01T00:00:00Z</td><td>GSM1937386</td><td>SRP066100</td></tr>\n",
       "\t<tr><th scope=row>78</th><td>SRR2920487</td><td>Corces-6792-Monocytes-Control</td><td>Corces-6792-Monocytes-Control-2</td><td>Corces-6792</td><td>MYELOID</td><td>Monocytes</td><td>FALSE</td><td>Control</td><td>2</td><td>ATAC-Seq</td><td>⋯</td><td>SRX1427810</td><td>NextSeq 500</td><td>PAIRED</td><td>other</td><td>GENOMIC</td><td>Homo sapiens</td><td>ILLUMINA</td><td>2016-06-01T00:00:00Z</td><td>GSM1937397</td><td>SRP066100</td></tr>\n",
       "\t<tr><th scope=row>106</th><td>SRR2920542</td><td>Corces-7256-Monocytes-Control</td><td>Corces-7256-Monocytes-Control-1</td><td>Corces-7256</td><td>MYELOID</td><td>Monocytes</td><td>FALSE</td><td>Control</td><td>1</td><td>ATAC-Seq</td><td>⋯</td><td>SRX1427865</td><td>NextSeq 500</td><td>PAIRED</td><td>other</td><td>GENOMIC</td><td>Homo sapiens</td><td>ILLUMINA</td><td>2016-06-01T00:00:00Z</td><td>GSM1937452</td><td>SRP066100</td></tr>\n",
       "\t<tr><th scope=row>107</th><td>SRR2920543</td><td>Corces-7256-Monocytes-Control</td><td>Corces-7256-Monocytes-Control-2</td><td>Corces-7256</td><td>MYELOID</td><td>Monocytes</td><td>FALSE</td><td>Control</td><td>2</td><td>ATAC-Seq</td><td>⋯</td><td>SRX1427866</td><td>NextSeq 500</td><td>PAIRED</td><td>other</td><td>GENOMIC</td><td>Homo sapiens</td><td>ILLUMINA</td><td>2016-06-01T00:00:00Z</td><td>GSM1937453</td><td>SRP066100</td></tr>\n",
       "</tbody>\n",
       "</table>\n"
      ],
      "text/latex": [
       "A data.frame: 6 × 27\n",
       "\\begin{tabular}{r|lllllllllllllllllllll}\n",
       "  & Run & Group.ID & Sample.ID & Donor & Lineage & Cell\\_type & Stimulated & Treatment & Replicate & Assay.Type & ⋯ & Experiment & Instrument & LibraryLayout & LibrarySelection & LibrarySource & Organism & Platform & ReleaseDate & Sample.Name & SRA.Study\\\\\n",
       "  & <chr> & <chr> & <chr> & <chr> & <chr> & <chr> & <lgl> & <chr> & <dbl> & <chr> & ⋯ & <chr> & <chr> & <chr> & <chr> & <chr> & <chr> & <chr> & <chr> & <chr> & <chr>\\\\\n",
       "\\hline\n",
       "\t4 & SRR2920475 & Corces-4983-Monocytes-Control & Corces-4983-Monocytes-Control-1 & Corces-4983 & MYELOID & Monocytes & FALSE & Control & 1 & ATAC-Seq & ⋯ & SRX1427798 & NextSeq 500 & PAIRED & other & GENOMIC & Homo sapiens & ILLUMINA & 2016-06-01T00:00:00Z & GSM1937385 & SRP066100\\\\\n",
       "\t9 & SRR2920488 & Corces-6792-Monocytes-Control & Corces-6792-Monocytes-Control-1 & Corces-6792 & MYELOID & Monocytes & FALSE & Control & 1 & ATAC-Seq & ⋯ & SRX1427811 & NextSeq 500 & PAIRED & other & GENOMIC & Homo sapiens & ILLUMINA & 2016-06-01T00:00:00Z & GSM1937398 & SRP066100\\\\\n",
       "\t71 & SRR2920476 & Corces-4983-Monocytes-Control & Corces-4983-Monocytes-Control-2 & Corces-4983 & MYELOID & Monocytes & FALSE & Control & 2 & ATAC-Seq & ⋯ & SRX1427799 & NextSeq 500 & PAIRED & other & GENOMIC & Homo sapiens & ILLUMINA & 2016-06-01T00:00:00Z & GSM1937386 & SRP066100\\\\\n",
       "\t78 & SRR2920487 & Corces-6792-Monocytes-Control & Corces-6792-Monocytes-Control-2 & Corces-6792 & MYELOID & Monocytes & FALSE & Control & 2 & ATAC-Seq & ⋯ & SRX1427810 & NextSeq 500 & PAIRED & other & GENOMIC & Homo sapiens & ILLUMINA & 2016-06-01T00:00:00Z & GSM1937397 & SRP066100\\\\\n",
       "\t106 & SRR2920542 & Corces-7256-Monocytes-Control & Corces-7256-Monocytes-Control-1 & Corces-7256 & MYELOID & Monocytes & FALSE & Control & 1 & ATAC-Seq & ⋯ & SRX1427865 & NextSeq 500 & PAIRED & other & GENOMIC & Homo sapiens & ILLUMINA & 2016-06-01T00:00:00Z & GSM1937452 & SRP066100\\\\\n",
       "\t107 & SRR2920543 & Corces-7256-Monocytes-Control & Corces-7256-Monocytes-Control-2 & Corces-7256 & MYELOID & Monocytes & FALSE & Control & 2 & ATAC-Seq & ⋯ & SRX1427866 & NextSeq 500 & PAIRED & other & GENOMIC & Homo sapiens & ILLUMINA & 2016-06-01T00:00:00Z & GSM1937453 & SRP066100\\\\\n",
       "\\end{tabular}\n"
      ],
      "text/markdown": [
       "\n",
       "A data.frame: 6 × 27\n",
       "\n",
       "| <!--/--> | Run &lt;chr&gt; | Group.ID &lt;chr&gt; | Sample.ID &lt;chr&gt; | Donor &lt;chr&gt; | Lineage &lt;chr&gt; | Cell_type &lt;chr&gt; | Stimulated &lt;lgl&gt; | Treatment &lt;chr&gt; | Replicate &lt;dbl&gt; | Assay.Type &lt;chr&gt; | ⋯ ⋯ | Experiment &lt;chr&gt; | Instrument &lt;chr&gt; | LibraryLayout &lt;chr&gt; | LibrarySelection &lt;chr&gt; | LibrarySource &lt;chr&gt; | Organism &lt;chr&gt; | Platform &lt;chr&gt; | ReleaseDate &lt;chr&gt; | Sample.Name &lt;chr&gt; | SRA.Study &lt;chr&gt; |\n",
       "|---|---|---|---|---|---|---|---|---|---|---|---|---|---|---|---|---|---|---|---|---|---|\n",
       "| 4 | SRR2920475 | Corces-4983-Monocytes-Control | Corces-4983-Monocytes-Control-1 | Corces-4983 | MYELOID | Monocytes | FALSE | Control | 1 | ATAC-Seq | ⋯ | SRX1427798 | NextSeq 500 | PAIRED | other | GENOMIC | Homo sapiens | ILLUMINA | 2016-06-01T00:00:00Z | GSM1937385 | SRP066100 |\n",
       "| 9 | SRR2920488 | Corces-6792-Monocytes-Control | Corces-6792-Monocytes-Control-1 | Corces-6792 | MYELOID | Monocytes | FALSE | Control | 1 | ATAC-Seq | ⋯ | SRX1427811 | NextSeq 500 | PAIRED | other | GENOMIC | Homo sapiens | ILLUMINA | 2016-06-01T00:00:00Z | GSM1937398 | SRP066100 |\n",
       "| 71 | SRR2920476 | Corces-4983-Monocytes-Control | Corces-4983-Monocytes-Control-2 | Corces-4983 | MYELOID | Monocytes | FALSE | Control | 2 | ATAC-Seq | ⋯ | SRX1427799 | NextSeq 500 | PAIRED | other | GENOMIC | Homo sapiens | ILLUMINA | 2016-06-01T00:00:00Z | GSM1937386 | SRP066100 |\n",
       "| 78 | SRR2920487 | Corces-6792-Monocytes-Control | Corces-6792-Monocytes-Control-2 | Corces-6792 | MYELOID | Monocytes | FALSE | Control | 2 | ATAC-Seq | ⋯ | SRX1427810 | NextSeq 500 | PAIRED | other | GENOMIC | Homo sapiens | ILLUMINA | 2016-06-01T00:00:00Z | GSM1937397 | SRP066100 |\n",
       "| 106 | SRR2920542 | Corces-7256-Monocytes-Control | Corces-7256-Monocytes-Control-1 | Corces-7256 | MYELOID | Monocytes | FALSE | Control | 1 | ATAC-Seq | ⋯ | SRX1427865 | NextSeq 500 | PAIRED | other | GENOMIC | Homo sapiens | ILLUMINA | 2016-06-01T00:00:00Z | GSM1937452 | SRP066100 |\n",
       "| 107 | SRR2920543 | Corces-7256-Monocytes-Control | Corces-7256-Monocytes-Control-2 | Corces-7256 | MYELOID | Monocytes | FALSE | Control | 2 | ATAC-Seq | ⋯ | SRX1427866 | NextSeq 500 | PAIRED | other | GENOMIC | Homo sapiens | ILLUMINA | 2016-06-01T00:00:00Z | GSM1937453 | SRP066100 |\n",
       "\n"
      ],
      "text/plain": [
       "    Run        Group.ID                      Sample.ID                      \n",
       "4   SRR2920475 Corces-4983-Monocytes-Control Corces-4983-Monocytes-Control-1\n",
       "9   SRR2920488 Corces-6792-Monocytes-Control Corces-6792-Monocytes-Control-1\n",
       "71  SRR2920476 Corces-4983-Monocytes-Control Corces-4983-Monocytes-Control-2\n",
       "78  SRR2920487 Corces-6792-Monocytes-Control Corces-6792-Monocytes-Control-2\n",
       "106 SRR2920542 Corces-7256-Monocytes-Control Corces-7256-Monocytes-Control-1\n",
       "107 SRR2920543 Corces-7256-Monocytes-Control Corces-7256-Monocytes-Control-2\n",
       "    Donor       Lineage Cell_type Stimulated Treatment Replicate Assay.Type ⋯\n",
       "4   Corces-4983 MYELOID Monocytes FALSE      Control   1         ATAC-Seq   ⋯\n",
       "9   Corces-6792 MYELOID Monocytes FALSE      Control   1         ATAC-Seq   ⋯\n",
       "71  Corces-4983 MYELOID Monocytes FALSE      Control   2         ATAC-Seq   ⋯\n",
       "78  Corces-6792 MYELOID Monocytes FALSE      Control   2         ATAC-Seq   ⋯\n",
       "106 Corces-7256 MYELOID Monocytes FALSE      Control   1         ATAC-Seq   ⋯\n",
       "107 Corces-7256 MYELOID Monocytes FALSE      Control   2         ATAC-Seq   ⋯\n",
       "    Experiment Instrument  LibraryLayout LibrarySelection LibrarySource\n",
       "4   SRX1427798 NextSeq 500 PAIRED        other            GENOMIC      \n",
       "9   SRX1427811 NextSeq 500 PAIRED        other            GENOMIC      \n",
       "71  SRX1427799 NextSeq 500 PAIRED        other            GENOMIC      \n",
       "78  SRX1427810 NextSeq 500 PAIRED        other            GENOMIC      \n",
       "106 SRX1427865 NextSeq 500 PAIRED        other            GENOMIC      \n",
       "107 SRX1427866 NextSeq 500 PAIRED        other            GENOMIC      \n",
       "    Organism     Platform ReleaseDate          Sample.Name SRA.Study\n",
       "4   Homo sapiens ILLUMINA 2016-06-01T00:00:00Z GSM1937385  SRP066100\n",
       "9   Homo sapiens ILLUMINA 2016-06-01T00:00:00Z GSM1937398  SRP066100\n",
       "71  Homo sapiens ILLUMINA 2016-06-01T00:00:00Z GSM1937386  SRP066100\n",
       "78  Homo sapiens ILLUMINA 2016-06-01T00:00:00Z GSM1937397  SRP066100\n",
       "106 Homo sapiens ILLUMINA 2016-06-01T00:00:00Z GSM1937452  SRP066100\n",
       "107 Homo sapiens ILLUMINA 2016-06-01T00:00:00Z GSM1937453  SRP066100"
      ]
     },
     "metadata": {},
     "output_type": "display_data"
    }
   ],
   "source": [
    "head(atac)"
   ]
  },
  {
   "cell_type": "code",
   "execution_count": 29,
   "id": "1c3420cc-aa27-4b6a-ac88-2b6be867e9ae",
   "metadata": {},
   "outputs": [],
   "source": [
    "write.csv(atac, \"03_Functional_Interpretation/metadata/reads_atac_seq.txt\", row.names=F, quote=F)"
   ]
  },
  {
   "cell_type": "code",
   "execution_count": null,
   "id": "b421d3ec-9b12-4314-9834-1890f3aa3032",
   "metadata": {},
   "outputs": [],
   "source": []
  }
 ],
 "metadata": {
  "kernelspec": {
   "display_name": "R",
   "language": "R",
   "name": "ir"
  },
  "language_info": {
   "codemirror_mode": "r",
   "file_extension": ".r",
   "mimetype": "text/x-r-source",
   "name": "R",
   "pygments_lexer": "r",
   "version": "4.0.5"
  }
 },
 "nbformat": 4,
 "nbformat_minor": 5
}
