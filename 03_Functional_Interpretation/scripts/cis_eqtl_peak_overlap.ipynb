{
 "cells": [
  {
   "cell_type": "markdown",
   "id": "e730ccc2-9a2a-40cd-b566-01c7b35f4137",
   "metadata": {},
   "source": [
    "# Cis-eQTL Peak Overlap\n",
    "\n",
    "**Created**: 14 December 2021"
   ]
  },
  {
   "cell_type": "markdown",
   "id": "ad84c6ff-2e0d-4617-bf33-8cadee58bd01",
   "metadata": {
    "jp-MarkdownHeadingCollapsed": true,
    "tags": []
   },
   "source": [
    "## Environment"
   ]
  },
  {
   "cell_type": "code",
   "execution_count": 1,
   "id": "17e4e101-9315-4af2-a6bb-3fa92232e4b0",
   "metadata": {},
   "outputs": [],
   "source": [
    "rm(list=ls())"
   ]
  },
  {
   "cell_type": "code",
   "execution_count": 2,
   "id": "3d68d390-91e8-4b4a-acb6-b7ad3dc202de",
   "metadata": {},
   "outputs": [
    {
     "name": "stderr",
     "output_type": "stream",
     "text": [
      "Warning message in system(\"timedatectl\", intern = TRUE):\n",
      "“running command 'timedatectl' had status 1”\n",
      "── \u001b[1mAttaching packages\u001b[22m ────────────────────────────────────────────────────────────────────────────────────────────────────────── tidyverse 1.3.1 ──\n",
      "\n",
      "\u001b[32m✔\u001b[39m \u001b[34mggplot2\u001b[39m 3.3.5     \u001b[32m✔\u001b[39m \u001b[34mpurrr  \u001b[39m 0.3.4\n",
      "\u001b[32m✔\u001b[39m \u001b[34mtibble \u001b[39m 3.1.6     \u001b[32m✔\u001b[39m \u001b[34mdplyr  \u001b[39m 1.0.7\n",
      "\u001b[32m✔\u001b[39m \u001b[34mtidyr  \u001b[39m 1.1.4     \u001b[32m✔\u001b[39m \u001b[34mstringr\u001b[39m 1.4.0\n",
      "\u001b[32m✔\u001b[39m \u001b[34mreadr  \u001b[39m 2.1.1     \u001b[32m✔\u001b[39m \u001b[34mforcats\u001b[39m 0.5.1\n",
      "\n",
      "── \u001b[1mConflicts\u001b[22m ───────────────────────────────────────────────────────────────────────────────────────────────────────────── tidyverse_conflicts() ──\n",
      "\u001b[31m✖\u001b[39m \u001b[34mdplyr\u001b[39m::\u001b[32mfilter()\u001b[39m masks \u001b[34mstats\u001b[39m::filter()\n",
      "\u001b[31m✖\u001b[39m \u001b[34mdplyr\u001b[39m::\u001b[32mlag()\u001b[39m    masks \u001b[34mstats\u001b[39m::lag()\n",
      "\n",
      "\n",
      "Attaching package: ‘data.table’\n",
      "\n",
      "\n",
      "The following objects are masked from ‘package:dplyr’:\n",
      "\n",
      "    between, first, last\n",
      "\n",
      "\n",
      "The following object is masked from ‘package:purrr’:\n",
      "\n",
      "    transpose\n",
      "\n",
      "\n",
      "Loading required package: stats4\n",
      "\n",
      "Loading required package: BiocGenerics\n",
      "\n",
      "Loading required package: parallel\n",
      "\n",
      "\n",
      "Attaching package: ‘BiocGenerics’\n",
      "\n",
      "\n",
      "The following objects are masked from ‘package:parallel’:\n",
      "\n",
      "    clusterApply, clusterApplyLB, clusterCall, clusterEvalQ,\n",
      "    clusterExport, clusterMap, parApply, parCapply, parLapply,\n",
      "    parLapplyLB, parRapply, parSapply, parSapplyLB\n",
      "\n",
      "\n",
      "The following objects are masked from ‘package:dplyr’:\n",
      "\n",
      "    combine, intersect, setdiff, union\n",
      "\n",
      "\n",
      "The following objects are masked from ‘package:stats’:\n",
      "\n",
      "    IQR, mad, sd, var, xtabs\n",
      "\n",
      "\n",
      "The following objects are masked from ‘package:base’:\n",
      "\n",
      "    anyDuplicated, append, as.data.frame, basename, cbind, colnames,\n",
      "    dirname, do.call, duplicated, eval, evalq, Filter, Find, get, grep,\n",
      "    grepl, intersect, is.unsorted, lapply, Map, mapply, match, mget,\n",
      "    order, paste, pmax, pmax.int, pmin, pmin.int, Position, rank,\n",
      "    rbind, Reduce, rownames, sapply, setdiff, sort, table, tapply,\n",
      "    union, unique, unsplit, which.max, which.min\n",
      "\n",
      "\n",
      "Loading required package: S4Vectors\n",
      "\n",
      "\n",
      "Attaching package: ‘S4Vectors’\n",
      "\n",
      "\n",
      "The following objects are masked from ‘package:data.table’:\n",
      "\n",
      "    first, second\n",
      "\n",
      "\n",
      "The following objects are masked from ‘package:dplyr’:\n",
      "\n",
      "    first, rename\n",
      "\n",
      "\n",
      "The following object is masked from ‘package:tidyr’:\n",
      "\n",
      "    expand\n",
      "\n",
      "\n",
      "The following object is masked from ‘package:base’:\n",
      "\n",
      "    expand.grid\n",
      "\n",
      "\n",
      "Loading required package: IRanges\n",
      "\n",
      "\n",
      "Attaching package: ‘IRanges’\n",
      "\n",
      "\n",
      "The following object is masked from ‘package:data.table’:\n",
      "\n",
      "    shift\n",
      "\n",
      "\n",
      "The following objects are masked from ‘package:dplyr’:\n",
      "\n",
      "    collapse, desc, slice\n",
      "\n",
      "\n",
      "The following object is masked from ‘package:purrr’:\n",
      "\n",
      "    reduce\n",
      "\n",
      "\n",
      "Loading required package: GenomeInfoDb\n",
      "\n"
     ]
    }
   ],
   "source": [
    "library(tidyverse)\n",
    "library(data.table)\n",
    "library(GenomicRanges)\n",
    "\n",
    "setwd(\"~/eQTL_pQTL_Characterization\")\n",
    "\n",
    "source(\"03_Functional_Interpretation/scripts/utils/ggplot_theme.R\")"
   ]
  },
  {
   "cell_type": "markdown",
   "id": "9f41b135-c87c-4ba5-a681-a46895db40bd",
   "metadata": {},
   "source": [
    "## Load Data"
   ]
  },
  {
   "cell_type": "code",
   "execution_count": 3,
   "id": "d9547e08-6340-4f1c-8381-cbe71f4fa558",
   "metadata": {},
   "outputs": [],
   "source": [
    "cis.eqtl <- readRDS(\"/nfs/users/nfs_n/nm18/gains_team282/eqtl/cisresults/cisqtl_all_significant.rds\")"
   ]
  },
  {
   "cell_type": "code",
   "execution_count": 4,
   "id": "f12c3acb-e5cb-425c-8fc5-52545630e251",
   "metadata": {},
   "outputs": [
    {
     "data": {
      "text/html": [
       "<table class=\"dataframe\">\n",
       "<caption>A data.table: 6 × 10</caption>\n",
       "<thead>\n",
       "\t<tr><th scope=col>snps</th><th scope=col>gene</th><th scope=col>statistic</th><th scope=col>pvalue</th><th scope=col>beta</th><th scope=col>se</th><th scope=col>chr</th><th scope=col>SNPpos</th><th scope=col>TSS</th><th scope=col>threshold</th></tr>\n",
       "\t<tr><th scope=col>&lt;chr&gt;</th><th scope=col>&lt;chr&gt;</th><th scope=col>&lt;dbl&gt;</th><th scope=col>&lt;dbl&gt;</th><th scope=col>&lt;dbl&gt;</th><th scope=col>&lt;dbl&gt;</th><th scope=col>&lt;int&gt;</th><th scope=col>&lt;int&gt;</th><th scope=col>&lt;int&gt;</th><th scope=col>&lt;dbl&gt;</th></tr>\n",
       "</thead>\n",
       "<tbody>\n",
       "\t<tr><td>rs4987343</td><td>ENSG00000000457</td><td>-4.152142</td><td>3.720893e-05</td><td>-0.04958163</td><td>0.01194122</td><td>1</td><td>169699715</td><td>169894267</td><td>3.873864e-05</td></tr>\n",
       "\t<tr><td>rs4987340</td><td>ENSG00000000457</td><td>-4.240369</td><td>2.546937e-05</td><td>-0.05063396</td><td>0.01194093</td><td>1</td><td>169700002</td><td>169894267</td><td>3.873864e-05</td></tr>\n",
       "\t<tr><td>rs2298899</td><td>ENSG00000000457</td><td> 4.176920</td><td>3.365090e-05</td><td> 0.05505924</td><td>0.01318178</td><td>1</td><td>169700591</td><td>169894267</td><td>3.873864e-05</td></tr>\n",
       "\t<tr><td>rs4987328</td><td>ENSG00000000457</td><td> 4.252010</td><td>2.432691e-05</td><td> 0.05597519</td><td>0.01316441</td><td>1</td><td>169701315</td><td>169894267</td><td>3.873864e-05</td></tr>\n",
       "\t<tr><td>rs4987327</td><td>ENSG00000000457</td><td>-4.218194</td><td>2.799604e-05</td><td>-0.05023696</td><td>0.01190959</td><td>1</td><td>169701799</td><td>169894267</td><td>3.873864e-05</td></tr>\n",
       "\t<tr><td>rs4987326</td><td>ENSG00000000457</td><td>-4.218194</td><td>2.799604e-05</td><td>-0.05023696</td><td>0.01190959</td><td>1</td><td>169701800</td><td>169894267</td><td>3.873864e-05</td></tr>\n",
       "</tbody>\n",
       "</table>\n"
      ],
      "text/latex": [
       "A data.table: 6 × 10\n",
       "\\begin{tabular}{llllllllll}\n",
       " snps & gene & statistic & pvalue & beta & se & chr & SNPpos & TSS & threshold\\\\\n",
       " <chr> & <chr> & <dbl> & <dbl> & <dbl> & <dbl> & <int> & <int> & <int> & <dbl>\\\\\n",
       "\\hline\n",
       "\t rs4987343 & ENSG00000000457 & -4.152142 & 3.720893e-05 & -0.04958163 & 0.01194122 & 1 & 169699715 & 169894267 & 3.873864e-05\\\\\n",
       "\t rs4987340 & ENSG00000000457 & -4.240369 & 2.546937e-05 & -0.05063396 & 0.01194093 & 1 & 169700002 & 169894267 & 3.873864e-05\\\\\n",
       "\t rs2298899 & ENSG00000000457 &  4.176920 & 3.365090e-05 &  0.05505924 & 0.01318178 & 1 & 169700591 & 169894267 & 3.873864e-05\\\\\n",
       "\t rs4987328 & ENSG00000000457 &  4.252010 & 2.432691e-05 &  0.05597519 & 0.01316441 & 1 & 169701315 & 169894267 & 3.873864e-05\\\\\n",
       "\t rs4987327 & ENSG00000000457 & -4.218194 & 2.799604e-05 & -0.05023696 & 0.01190959 & 1 & 169701799 & 169894267 & 3.873864e-05\\\\\n",
       "\t rs4987326 & ENSG00000000457 & -4.218194 & 2.799604e-05 & -0.05023696 & 0.01190959 & 1 & 169701800 & 169894267 & 3.873864e-05\\\\\n",
       "\\end{tabular}\n"
      ],
      "text/markdown": [
       "\n",
       "A data.table: 6 × 10\n",
       "\n",
       "| snps &lt;chr&gt; | gene &lt;chr&gt; | statistic &lt;dbl&gt; | pvalue &lt;dbl&gt; | beta &lt;dbl&gt; | se &lt;dbl&gt; | chr &lt;int&gt; | SNPpos &lt;int&gt; | TSS &lt;int&gt; | threshold &lt;dbl&gt; |\n",
       "|---|---|---|---|---|---|---|---|---|---|\n",
       "| rs4987343 | ENSG00000000457 | -4.152142 | 3.720893e-05 | -0.04958163 | 0.01194122 | 1 | 169699715 | 169894267 | 3.873864e-05 |\n",
       "| rs4987340 | ENSG00000000457 | -4.240369 | 2.546937e-05 | -0.05063396 | 0.01194093 | 1 | 169700002 | 169894267 | 3.873864e-05 |\n",
       "| rs2298899 | ENSG00000000457 |  4.176920 | 3.365090e-05 |  0.05505924 | 0.01318178 | 1 | 169700591 | 169894267 | 3.873864e-05 |\n",
       "| rs4987328 | ENSG00000000457 |  4.252010 | 2.432691e-05 |  0.05597519 | 0.01316441 | 1 | 169701315 | 169894267 | 3.873864e-05 |\n",
       "| rs4987327 | ENSG00000000457 | -4.218194 | 2.799604e-05 | -0.05023696 | 0.01190959 | 1 | 169701799 | 169894267 | 3.873864e-05 |\n",
       "| rs4987326 | ENSG00000000457 | -4.218194 | 2.799604e-05 | -0.05023696 | 0.01190959 | 1 | 169701800 | 169894267 | 3.873864e-05 |\n",
       "\n"
      ],
      "text/plain": [
       "  snps      gene            statistic pvalue       beta        se         chr\n",
       "1 rs4987343 ENSG00000000457 -4.152142 3.720893e-05 -0.04958163 0.01194122 1  \n",
       "2 rs4987340 ENSG00000000457 -4.240369 2.546937e-05 -0.05063396 0.01194093 1  \n",
       "3 rs2298899 ENSG00000000457  4.176920 3.365090e-05  0.05505924 0.01318178 1  \n",
       "4 rs4987328 ENSG00000000457  4.252010 2.432691e-05  0.05597519 0.01316441 1  \n",
       "5 rs4987327 ENSG00000000457 -4.218194 2.799604e-05 -0.05023696 0.01190959 1  \n",
       "6 rs4987326 ENSG00000000457 -4.218194 2.799604e-05 -0.05023696 0.01190959 1  \n",
       "  SNPpos    TSS       threshold   \n",
       "1 169699715 169894267 3.873864e-05\n",
       "2 169700002 169894267 3.873864e-05\n",
       "3 169700591 169894267 3.873864e-05\n",
       "4 169701315 169894267 3.873864e-05\n",
       "5 169701799 169894267 3.873864e-05\n",
       "6 169701800 169894267 3.873864e-05"
      ]
     },
     "metadata": {},
     "output_type": "display_data"
    }
   ],
   "source": [
    "head(cis.eqtl)"
   ]
  },
  {
   "cell_type": "code",
   "execution_count": 5,
   "id": "fa1f9429-067b-4966-9699-17d1985460c0",
   "metadata": {},
   "outputs": [],
   "source": [
    "geno <- fread(\"~/gains_team282/Genotyping/All_genotyping_merged_filtered_b38_refiltered_rsID.bim\")\n",
    "colnames(geno) <- c(\"chr\", \"snp\", \"cM\", \"pos\", \"minor\", \"major\")"
   ]
  },
  {
   "cell_type": "code",
   "execution_count": 6,
   "id": "90a0b978-63f1-4ef6-8cc0-3d5f7a92443a",
   "metadata": {},
   "outputs": [
    {
     "data": {
      "text/html": [
       "<table class=\"dataframe\">\n",
       "<caption>A data.table: 6 × 6</caption>\n",
       "<thead>\n",
       "\t<tr><th scope=col>chr</th><th scope=col>snp</th><th scope=col>cM</th><th scope=col>pos</th><th scope=col>minor</th><th scope=col>major</th></tr>\n",
       "\t<tr><th scope=col>&lt;chr&gt;</th><th scope=col>&lt;chr&gt;</th><th scope=col>&lt;int&gt;</th><th scope=col>&lt;int&gt;</th><th scope=col>&lt;chr&gt;</th><th scope=col>&lt;chr&gt;</th></tr>\n",
       "</thead>\n",
       "<tbody>\n",
       "\t<tr><td>1</td><td>rs3131972   </td><td>0</td><td>817341</td><td>A</td><td>G</td></tr>\n",
       "\t<tr><td>1</td><td>rs546843995 </td><td>0</td><td>818053</td><td>0</td><td>G</td></tr>\n",
       "\t<tr><td>1</td><td>rs553916047 </td><td>0</td><td>818359</td><td>0</td><td>A</td></tr>\n",
       "\t<tr><td>1</td><td>1:818740_T_C</td><td>0</td><td>818740</td><td>T</td><td>C</td></tr>\n",
       "\t<tr><td>1</td><td>rs145604921 </td><td>0</td><td>819378</td><td>0</td><td>C</td></tr>\n",
       "\t<tr><td>1</td><td>rs535256652 </td><td>0</td><td>821053</td><td>0</td><td>T</td></tr>\n",
       "</tbody>\n",
       "</table>\n"
      ],
      "text/latex": [
       "A data.table: 6 × 6\n",
       "\\begin{tabular}{llllll}\n",
       " chr & snp & cM & pos & minor & major\\\\\n",
       " <chr> & <chr> & <int> & <int> & <chr> & <chr>\\\\\n",
       "\\hline\n",
       "\t 1 & rs3131972    & 0 & 817341 & A & G\\\\\n",
       "\t 1 & rs546843995  & 0 & 818053 & 0 & G\\\\\n",
       "\t 1 & rs553916047  & 0 & 818359 & 0 & A\\\\\n",
       "\t 1 & 1:818740\\_T\\_C & 0 & 818740 & T & C\\\\\n",
       "\t 1 & rs145604921  & 0 & 819378 & 0 & C\\\\\n",
       "\t 1 & rs535256652  & 0 & 821053 & 0 & T\\\\\n",
       "\\end{tabular}\n"
      ],
      "text/markdown": [
       "\n",
       "A data.table: 6 × 6\n",
       "\n",
       "| chr &lt;chr&gt; | snp &lt;chr&gt; | cM &lt;int&gt; | pos &lt;int&gt; | minor &lt;chr&gt; | major &lt;chr&gt; |\n",
       "|---|---|---|---|---|---|\n",
       "| 1 | rs3131972    | 0 | 817341 | A | G |\n",
       "| 1 | rs546843995  | 0 | 818053 | 0 | G |\n",
       "| 1 | rs553916047  | 0 | 818359 | 0 | A |\n",
       "| 1 | 1:818740_T_C | 0 | 818740 | T | C |\n",
       "| 1 | rs145604921  | 0 | 819378 | 0 | C |\n",
       "| 1 | rs535256652  | 0 | 821053 | 0 | T |\n",
       "\n"
      ],
      "text/plain": [
       "  chr snp          cM pos    minor major\n",
       "1 1   rs3131972    0  817341 A     G    \n",
       "2 1   rs546843995  0  818053 0     G    \n",
       "3 1   rs553916047  0  818359 0     A    \n",
       "4 1   1:818740_T_C 0  818740 T     C    \n",
       "5 1   rs145604921  0  819378 0     C    \n",
       "6 1   rs535256652  0  821053 0     T    "
      ]
     },
     "metadata": {},
     "output_type": "display_data"
    }
   ],
   "source": [
    "head(geno)"
   ]
  },
  {
   "cell_type": "code",
   "execution_count": 7,
   "id": "cca4a610-e130-4091-9c06-db0aedde36ea",
   "metadata": {},
   "outputs": [
    {
     "name": "stderr",
     "output_type": "stream",
     "text": [
      "Warning message in gzfile(file, \"rb\"):\n",
      "“cannot open compressed file '/nfs/users/nfs_n/nm18/gains_team282/eqtl/cisresults/conditionalanalysis/conditional_eQTL_results_final.rds', probable reason 'No such file or directory'”\n"
     ]
    },
    {
     "ename": "ERROR",
     "evalue": "Error in gzfile(file, \"rb\"): cannot open the connection\n",
     "output_type": "error",
     "traceback": [
      "Error in gzfile(file, \"rb\"): cannot open the connection\nTraceback:\n",
      "1. readRDS(\"/nfs/users/nfs_n/nm18/gains_team282/eqtl/cisresults/conditionalanalysis/conditional_eQTL_results_final.rds\")",
      "2. gzfile(file, \"rb\")"
     ]
    }
   ],
   "source": [
    "cis.eqtl.conditional <- readRDS(\"/nfs/users/nfs_n/nm18/gains_team282/eqtl/cisresults/conditionalanalysis/conditional_eQTL_results_final.rds\")\n",
    "cis.eqtl.conditional <- merge(cis.eqtl.conditional, geno, by.x=\"SNP\", by.y=\"snp\") %>%\n",
    "    dplyr::select(snps=SNP, gene=Gene, pvalue, beta=eQTL_beta, se=eQTL_SE, chr, SNPpos=pos) %>%\n",
    "    dplyr::mutate(pvalue=as.numeric(pvalue)) %>%\n",
    "    dplyr::mutate(beta=as.numeric(beta)) %>%\n",
    "    dplyr::mutate(se=as.numeric(se)) %>%\n",
    "    dplyr::mutate(chr=as.numeric(chr))"
   ]
  },
  {
   "cell_type": "code",
   "execution_count": null,
   "id": "6c90dee1-7abc-4b8f-8011-e7e36dc18172",
   "metadata": {},
   "outputs": [],
   "source": [
    "head(cis.eqtl.conditional)"
   ]
  },
  {
   "cell_type": "code",
   "execution_count": 7,
   "id": "c0240f96-b6c6-47cf-b5bc-d255d7116e8d",
   "metadata": {},
   "outputs": [],
   "source": [
    "da.peaks <- read.csv(\"~/gains_team282/epigenetics/calderon_et_al/analysis/atac_seq/da_peak_set.csv\", row.names=1)"
   ]
  },
  {
   "cell_type": "code",
   "execution_count": 8,
   "id": "fbf04c92-9cf7-435b-acb6-e3df36269de9",
   "metadata": {},
   "outputs": [
    {
     "data": {
      "text/html": [
       "<table class=\"dataframe\">\n",
       "<caption>A data.frame: 6 × 12</caption>\n",
       "<thead>\n",
       "\t<tr><th></th><th scope=col>Contrast</th><th scope=col>Cell.Type</th><th scope=col>Peak.ID</th><th scope=col>Peak.Chr</th><th scope=col>Peak.Start</th><th scope=col>Peak.End</th><th scope=col>logFC</th><th scope=col>AveExpr</th><th scope=col>t</th><th scope=col>P.Value</th><th scope=col>adj.P.Val</th><th scope=col>B</th></tr>\n",
       "\t<tr><th></th><th scope=col>&lt;chr&gt;</th><th scope=col>&lt;chr&gt;</th><th scope=col>&lt;chr&gt;</th><th scope=col>&lt;chr&gt;</th><th scope=col>&lt;int&gt;</th><th scope=col>&lt;int&gt;</th><th scope=col>&lt;dbl&gt;</th><th scope=col>&lt;dbl&gt;</th><th scope=col>&lt;dbl&gt;</th><th scope=col>&lt;dbl&gt;</th><th scope=col>&lt;dbl&gt;</th><th scope=col>&lt;dbl&gt;</th></tr>\n",
       "</thead>\n",
       "<tbody>\n",
       "\t<tr><th scope=row>1</th><td>Bulk_B_Stimulated-Bulk_B_Baseline</td><td>Bulk_B</td><td>13:50244295-50246227 </td><td>13</td><td> 50244295</td><td> 50246227</td><td>4.053709</td><td>2.280926</td><td>11.056577</td><td>7.723960e-21</td><td>2.867520e-16</td><td>36.11013</td></tr>\n",
       "\t<tr><th scope=row>2</th><td>Bulk_B_Stimulated-Bulk_B_Baseline</td><td>Bulk_B</td><td>13:79450967-79452794 </td><td>13</td><td> 79450967</td><td> 79452794</td><td>3.703510</td><td>2.335001</td><td>10.812724</td><td>3.301762e-20</td><td>6.128896e-16</td><td>34.73833</td></tr>\n",
       "\t<tr><th scope=row>3</th><td>Bulk_B_Stimulated-Bulk_B_Baseline</td><td>Bulk_B</td><td>4:38729764-38731699  </td><td>4 </td><td> 38729764</td><td> 38731699</td><td>2.365172</td><td>1.948665</td><td>10.304645</td><td>6.751549e-19</td><td>8.355042e-15</td><td>31.88534</td></tr>\n",
       "\t<tr><th scope=row>4</th><td>Bulk_B_Stimulated-Bulk_B_Baseline</td><td>Bulk_B</td><td>7:140375586-140377343</td><td>7 </td><td>140375586</td><td>140377343</td><td>3.771741</td><td>2.267945</td><td> 9.507091</td><td>7.405967e-17</td><td>6.500545e-13</td><td>27.43701</td></tr>\n",
       "\t<tr><th scope=row>5</th><td>Bulk_B_Stimulated-Bulk_B_Baseline</td><td>Bulk_B</td><td>10:7192213-7194489   </td><td>10</td><td>  7192213</td><td>  7194489</td><td>2.749342</td><td>2.428912</td><td> 9.478473</td><td>8.754943e-17</td><td>6.500545e-13</td><td>27.27842</td></tr>\n",
       "\t<tr><th scope=row>6</th><td>Bulk_B_Stimulated-Bulk_B_Baseline</td><td>Bulk_B</td><td>3:71225746-71227945  </td><td>3 </td><td> 71225746</td><td> 71227945</td><td>2.319326</td><td>3.224110</td><td> 9.424543</td><td>1.199727e-16</td><td>7.423311e-13</td><td>26.97981</td></tr>\n",
       "</tbody>\n",
       "</table>\n"
      ],
      "text/latex": [
       "A data.frame: 6 × 12\n",
       "\\begin{tabular}{r|llllllllllll}\n",
       "  & Contrast & Cell.Type & Peak.ID & Peak.Chr & Peak.Start & Peak.End & logFC & AveExpr & t & P.Value & adj.P.Val & B\\\\\n",
       "  & <chr> & <chr> & <chr> & <chr> & <int> & <int> & <dbl> & <dbl> & <dbl> & <dbl> & <dbl> & <dbl>\\\\\n",
       "\\hline\n",
       "\t1 & Bulk\\_B\\_Stimulated-Bulk\\_B\\_Baseline & Bulk\\_B & 13:50244295-50246227  & 13 &  50244295 &  50246227 & 4.053709 & 2.280926 & 11.056577 & 7.723960e-21 & 2.867520e-16 & 36.11013\\\\\n",
       "\t2 & Bulk\\_B\\_Stimulated-Bulk\\_B\\_Baseline & Bulk\\_B & 13:79450967-79452794  & 13 &  79450967 &  79452794 & 3.703510 & 2.335001 & 10.812724 & 3.301762e-20 & 6.128896e-16 & 34.73833\\\\\n",
       "\t3 & Bulk\\_B\\_Stimulated-Bulk\\_B\\_Baseline & Bulk\\_B & 4:38729764-38731699   & 4  &  38729764 &  38731699 & 2.365172 & 1.948665 & 10.304645 & 6.751549e-19 & 8.355042e-15 & 31.88534\\\\\n",
       "\t4 & Bulk\\_B\\_Stimulated-Bulk\\_B\\_Baseline & Bulk\\_B & 7:140375586-140377343 & 7  & 140375586 & 140377343 & 3.771741 & 2.267945 &  9.507091 & 7.405967e-17 & 6.500545e-13 & 27.43701\\\\\n",
       "\t5 & Bulk\\_B\\_Stimulated-Bulk\\_B\\_Baseline & Bulk\\_B & 10:7192213-7194489    & 10 &   7192213 &   7194489 & 2.749342 & 2.428912 &  9.478473 & 8.754943e-17 & 6.500545e-13 & 27.27842\\\\\n",
       "\t6 & Bulk\\_B\\_Stimulated-Bulk\\_B\\_Baseline & Bulk\\_B & 3:71225746-71227945   & 3  &  71225746 &  71227945 & 2.319326 & 3.224110 &  9.424543 & 1.199727e-16 & 7.423311e-13 & 26.97981\\\\\n",
       "\\end{tabular}\n"
      ],
      "text/markdown": [
       "\n",
       "A data.frame: 6 × 12\n",
       "\n",
       "| <!--/--> | Contrast &lt;chr&gt; | Cell.Type &lt;chr&gt; | Peak.ID &lt;chr&gt; | Peak.Chr &lt;chr&gt; | Peak.Start &lt;int&gt; | Peak.End &lt;int&gt; | logFC &lt;dbl&gt; | AveExpr &lt;dbl&gt; | t &lt;dbl&gt; | P.Value &lt;dbl&gt; | adj.P.Val &lt;dbl&gt; | B &lt;dbl&gt; |\n",
       "|---|---|---|---|---|---|---|---|---|---|---|---|---|\n",
       "| 1 | Bulk_B_Stimulated-Bulk_B_Baseline | Bulk_B | 13:50244295-50246227  | 13 |  50244295 |  50246227 | 4.053709 | 2.280926 | 11.056577 | 7.723960e-21 | 2.867520e-16 | 36.11013 |\n",
       "| 2 | Bulk_B_Stimulated-Bulk_B_Baseline | Bulk_B | 13:79450967-79452794  | 13 |  79450967 |  79452794 | 3.703510 | 2.335001 | 10.812724 | 3.301762e-20 | 6.128896e-16 | 34.73833 |\n",
       "| 3 | Bulk_B_Stimulated-Bulk_B_Baseline | Bulk_B | 4:38729764-38731699   | 4  |  38729764 |  38731699 | 2.365172 | 1.948665 | 10.304645 | 6.751549e-19 | 8.355042e-15 | 31.88534 |\n",
       "| 4 | Bulk_B_Stimulated-Bulk_B_Baseline | Bulk_B | 7:140375586-140377343 | 7  | 140375586 | 140377343 | 3.771741 | 2.267945 |  9.507091 | 7.405967e-17 | 6.500545e-13 | 27.43701 |\n",
       "| 5 | Bulk_B_Stimulated-Bulk_B_Baseline | Bulk_B | 10:7192213-7194489    | 10 |   7192213 |   7194489 | 2.749342 | 2.428912 |  9.478473 | 8.754943e-17 | 6.500545e-13 | 27.27842 |\n",
       "| 6 | Bulk_B_Stimulated-Bulk_B_Baseline | Bulk_B | 3:71225746-71227945   | 3  |  71225746 |  71227945 | 2.319326 | 3.224110 |  9.424543 | 1.199727e-16 | 7.423311e-13 | 26.97981 |\n",
       "\n"
      ],
      "text/plain": [
       "  Contrast                          Cell.Type Peak.ID               Peak.Chr\n",
       "1 Bulk_B_Stimulated-Bulk_B_Baseline Bulk_B    13:50244295-50246227  13      \n",
       "2 Bulk_B_Stimulated-Bulk_B_Baseline Bulk_B    13:79450967-79452794  13      \n",
       "3 Bulk_B_Stimulated-Bulk_B_Baseline Bulk_B    4:38729764-38731699   4       \n",
       "4 Bulk_B_Stimulated-Bulk_B_Baseline Bulk_B    7:140375586-140377343 7       \n",
       "5 Bulk_B_Stimulated-Bulk_B_Baseline Bulk_B    10:7192213-7194489    10      \n",
       "6 Bulk_B_Stimulated-Bulk_B_Baseline Bulk_B    3:71225746-71227945   3       \n",
       "  Peak.Start Peak.End  logFC    AveExpr  t         P.Value      adj.P.Val   \n",
       "1  50244295   50246227 4.053709 2.280926 11.056577 7.723960e-21 2.867520e-16\n",
       "2  79450967   79452794 3.703510 2.335001 10.812724 3.301762e-20 6.128896e-16\n",
       "3  38729764   38731699 2.365172 1.948665 10.304645 6.751549e-19 8.355042e-15\n",
       "4 140375586  140377343 3.771741 2.267945  9.507091 7.405967e-17 6.500545e-13\n",
       "5   7192213    7194489 2.749342 2.428912  9.478473 8.754943e-17 6.500545e-13\n",
       "6  71225746   71227945 2.319326 3.224110  9.424543 1.199727e-16 7.423311e-13\n",
       "  B       \n",
       "1 36.11013\n",
       "2 34.73833\n",
       "3 31.88534\n",
       "4 27.43701\n",
       "5 27.27842\n",
       "6 26.97981"
      ]
     },
     "metadata": {},
     "output_type": "display_data"
    }
   ],
   "source": [
    "head(da.peaks)"
   ]
  },
  {
   "cell_type": "code",
   "execution_count": 9,
   "id": "97509b03-4b70-47f7-a10b-e42166213711",
   "metadata": {},
   "outputs": [],
   "source": [
    "de.genes <- read.csv(\"~/gains_team282/epigenetics/calderon_et_al/analysis/rna_seq/de_genes_set.csv\", row.names=1)"
   ]
  },
  {
   "cell_type": "code",
   "execution_count": 10,
   "id": "263ec0e7-1d52-45be-a02f-4d9551757f91",
   "metadata": {},
   "outputs": [
    {
     "data": {
      "text/html": [
       "<table class=\"dataframe\">\n",
       "<caption>A data.frame: 6 × 9</caption>\n",
       "<thead>\n",
       "\t<tr><th></th><th scope=col>Contrast</th><th scope=col>Cell.Type</th><th scope=col>Gene.ID</th><th scope=col>logFC</th><th scope=col>AveExpr</th><th scope=col>t</th><th scope=col>P.Value</th><th scope=col>adj.P.Val</th><th scope=col>B</th></tr>\n",
       "\t<tr><th></th><th scope=col>&lt;chr&gt;</th><th scope=col>&lt;chr&gt;</th><th scope=col>&lt;chr&gt;</th><th scope=col>&lt;dbl&gt;</th><th scope=col>&lt;dbl&gt;</th><th scope=col>&lt;dbl&gt;</th><th scope=col>&lt;dbl&gt;</th><th scope=col>&lt;dbl&gt;</th><th scope=col>&lt;dbl&gt;</th></tr>\n",
       "</thead>\n",
       "<tbody>\n",
       "\t<tr><th scope=row>1</th><td>Bulk_B_Stimulated-Bulk_B_Baseline</td><td>Bulk_B</td><td>ENSG00000067082</td><td> -5.137500</td><td>9.255126</td><td>-9.215769</td><td>8.611657e-16</td><td>4.475873e-12</td><td>22.99601</td></tr>\n",
       "\t<tr><th scope=row>2</th><td>Bulk_B_Stimulated-Bulk_B_Baseline</td><td>Bulk_B</td><td>ENSG00000120129</td><td>-10.268197</td><td>8.818804</td><td>-9.202244</td><td>9.286043e-16</td><td>4.475873e-12</td><td>22.93219</td></tr>\n",
       "\t<tr><th scope=row>3</th><td>Bulk_B_Stimulated-Bulk_B_Baseline</td><td>Bulk_B</td><td>ENSG00000157514</td><td> -9.374873</td><td>8.953758</td><td>-8.388880</td><td>8.290944e-14</td><td>2.664157e-10</td><td>19.11377</td></tr>\n",
       "\t<tr><th scope=row>4</th><td>Bulk_B_Stimulated-Bulk_B_Baseline</td><td>Bulk_B</td><td>ENSG00000170345</td><td>-10.895583</td><td>5.741174</td><td>-8.301233</td><td>1.337386e-13</td><td>3.223101e-10</td><td>18.70556</td></tr>\n",
       "\t<tr><th scope=row>5</th><td>Bulk_B_Stimulated-Bulk_B_Baseline</td><td>Bulk_B</td><td>ENSG00000222041</td><td>  6.292815</td><td>5.567182</td><td> 7.045655</td><td>1.056826e-10</td><td>2.037560e-07</td><td>12.97972</td></tr>\n",
       "\t<tr><th scope=row>6</th><td>Bulk_B_Stimulated-Bulk_B_Baseline</td><td>Bulk_B</td><td>ENSG00000102962</td><td> 13.540850</td><td>4.331194</td><td> 6.641714</td><td>8.273168e-10</td><td>1.205723e-06</td><td>11.20495</td></tr>\n",
       "</tbody>\n",
       "</table>\n"
      ],
      "text/latex": [
       "A data.frame: 6 × 9\n",
       "\\begin{tabular}{r|lllllllll}\n",
       "  & Contrast & Cell.Type & Gene.ID & logFC & AveExpr & t & P.Value & adj.P.Val & B\\\\\n",
       "  & <chr> & <chr> & <chr> & <dbl> & <dbl> & <dbl> & <dbl> & <dbl> & <dbl>\\\\\n",
       "\\hline\n",
       "\t1 & Bulk\\_B\\_Stimulated-Bulk\\_B\\_Baseline & Bulk\\_B & ENSG00000067082 &  -5.137500 & 9.255126 & -9.215769 & 8.611657e-16 & 4.475873e-12 & 22.99601\\\\\n",
       "\t2 & Bulk\\_B\\_Stimulated-Bulk\\_B\\_Baseline & Bulk\\_B & ENSG00000120129 & -10.268197 & 8.818804 & -9.202244 & 9.286043e-16 & 4.475873e-12 & 22.93219\\\\\n",
       "\t3 & Bulk\\_B\\_Stimulated-Bulk\\_B\\_Baseline & Bulk\\_B & ENSG00000157514 &  -9.374873 & 8.953758 & -8.388880 & 8.290944e-14 & 2.664157e-10 & 19.11377\\\\\n",
       "\t4 & Bulk\\_B\\_Stimulated-Bulk\\_B\\_Baseline & Bulk\\_B & ENSG00000170345 & -10.895583 & 5.741174 & -8.301233 & 1.337386e-13 & 3.223101e-10 & 18.70556\\\\\n",
       "\t5 & Bulk\\_B\\_Stimulated-Bulk\\_B\\_Baseline & Bulk\\_B & ENSG00000222041 &   6.292815 & 5.567182 &  7.045655 & 1.056826e-10 & 2.037560e-07 & 12.97972\\\\\n",
       "\t6 & Bulk\\_B\\_Stimulated-Bulk\\_B\\_Baseline & Bulk\\_B & ENSG00000102962 &  13.540850 & 4.331194 &  6.641714 & 8.273168e-10 & 1.205723e-06 & 11.20495\\\\\n",
       "\\end{tabular}\n"
      ],
      "text/markdown": [
       "\n",
       "A data.frame: 6 × 9\n",
       "\n",
       "| <!--/--> | Contrast &lt;chr&gt; | Cell.Type &lt;chr&gt; | Gene.ID &lt;chr&gt; | logFC &lt;dbl&gt; | AveExpr &lt;dbl&gt; | t &lt;dbl&gt; | P.Value &lt;dbl&gt; | adj.P.Val &lt;dbl&gt; | B &lt;dbl&gt; |\n",
       "|---|---|---|---|---|---|---|---|---|---|\n",
       "| 1 | Bulk_B_Stimulated-Bulk_B_Baseline | Bulk_B | ENSG00000067082 |  -5.137500 | 9.255126 | -9.215769 | 8.611657e-16 | 4.475873e-12 | 22.99601 |\n",
       "| 2 | Bulk_B_Stimulated-Bulk_B_Baseline | Bulk_B | ENSG00000120129 | -10.268197 | 8.818804 | -9.202244 | 9.286043e-16 | 4.475873e-12 | 22.93219 |\n",
       "| 3 | Bulk_B_Stimulated-Bulk_B_Baseline | Bulk_B | ENSG00000157514 |  -9.374873 | 8.953758 | -8.388880 | 8.290944e-14 | 2.664157e-10 | 19.11377 |\n",
       "| 4 | Bulk_B_Stimulated-Bulk_B_Baseline | Bulk_B | ENSG00000170345 | -10.895583 | 5.741174 | -8.301233 | 1.337386e-13 | 3.223101e-10 | 18.70556 |\n",
       "| 5 | Bulk_B_Stimulated-Bulk_B_Baseline | Bulk_B | ENSG00000222041 |   6.292815 | 5.567182 |  7.045655 | 1.056826e-10 | 2.037560e-07 | 12.97972 |\n",
       "| 6 | Bulk_B_Stimulated-Bulk_B_Baseline | Bulk_B | ENSG00000102962 |  13.540850 | 4.331194 |  6.641714 | 8.273168e-10 | 1.205723e-06 | 11.20495 |\n",
       "\n"
      ],
      "text/plain": [
       "  Contrast                          Cell.Type Gene.ID         logFC     \n",
       "1 Bulk_B_Stimulated-Bulk_B_Baseline Bulk_B    ENSG00000067082  -5.137500\n",
       "2 Bulk_B_Stimulated-Bulk_B_Baseline Bulk_B    ENSG00000120129 -10.268197\n",
       "3 Bulk_B_Stimulated-Bulk_B_Baseline Bulk_B    ENSG00000157514  -9.374873\n",
       "4 Bulk_B_Stimulated-Bulk_B_Baseline Bulk_B    ENSG00000170345 -10.895583\n",
       "5 Bulk_B_Stimulated-Bulk_B_Baseline Bulk_B    ENSG00000222041   6.292815\n",
       "6 Bulk_B_Stimulated-Bulk_B_Baseline Bulk_B    ENSG00000102962  13.540850\n",
       "  AveExpr  t         P.Value      adj.P.Val    B       \n",
       "1 9.255126 -9.215769 8.611657e-16 4.475873e-12 22.99601\n",
       "2 8.818804 -9.202244 9.286043e-16 4.475873e-12 22.93219\n",
       "3 8.953758 -8.388880 8.290944e-14 2.664157e-10 19.11377\n",
       "4 5.741174 -8.301233 1.337386e-13 3.223101e-10 18.70556\n",
       "5 5.567182  7.045655 1.056826e-10 2.037560e-07 12.97972\n",
       "6 4.331194  6.641714 8.273168e-10 1.205723e-06 11.20495"
      ]
     },
     "metadata": {},
     "output_type": "display_data"
    }
   ],
   "source": [
    "head(de.genes)"
   ]
  },
  {
   "cell_type": "markdown",
   "id": "636412d9-373a-4549-a179-350bb4806be8",
   "metadata": {
    "tags": []
   },
   "source": [
    "## Overlap of Sentinel cis-eQTL\n",
    "\n",
    "First, I'll start by testing the lead SNP for each gene for overlap with DA peaks. These peaks are derived from the initial pass analysis of cis-eQTL (not the conditional analysis). A sentinel SNP is the SNP with the highest p-value for a given location, representing the SNP with the highest evidence for association with the expression of the cognate gene."
   ]
  },
  {
   "cell_type": "code",
   "execution_count": 11,
   "id": "1dfcd576-71ac-41a1-bedf-85d5953ee383",
   "metadata": {},
   "outputs": [],
   "source": [
    "da.peak.ranges = GRanges(\n",
    "    seqnames=da.peaks$Peak.Chr,\n",
    "    ranges=IRanges(\n",
    "        start=da.peaks$Peak.Start,\n",
    "        end=da.peaks$Peak.End\n",
    "    ),\n",
    "    strand=rep(\"*\", nrow(da.peaks))\n",
    ")\n",
    "mcols(da.peak.ranges) <- da.peaks[,c(\"Peak.ID\", \"Cell.Type\", \"logFC\", \"adj.P.Val\")]"
   ]
  },
  {
   "cell_type": "code",
   "execution_count": 12,
   "id": "89667bbc-18ef-49cd-95f7-f6da46929974",
   "metadata": {},
   "outputs": [
    {
     "data": {
      "text/plain": [
       "GRanges object with 40825 ranges and 4 metadata columns:\n",
       "          seqnames              ranges strand |               Peak.ID\n",
       "             <Rle>           <IRanges>  <Rle> |           <character>\n",
       "      [1]       13   50244295-50246227      * |  13:50244295-50246227\n",
       "      [2]       13   79450967-79452794      * |  13:79450967-79452794\n",
       "      [3]        4   38729764-38731699      * |   4:38729764-38731699\n",
       "      [4]        7 140375586-140377343      * | 7:140375586-140377343\n",
       "      [5]       10     7192213-7194489      * |    10:7192213-7194489\n",
       "      ...      ...                 ...    ... .                   ...\n",
       "  [40821]       16       159258-161530      * |      16:159258-161530\n",
       "  [40822]        5   10419748-10421394      * |   5:10419748-10421394\n",
       "  [40823]        5   49182198-49183584      * |   5:49182198-49183584\n",
       "  [40824]       17   79415444-79417470      * |  17:79415444-79417470\n",
       "  [40825]        9 137542676-137544760      * | 9:137542676-137544760\n",
       "               Cell.Type     logFC   adj.P.Val\n",
       "             <character> <numeric>   <numeric>\n",
       "      [1]         Bulk_B   4.05371 2.86752e-16\n",
       "      [2]         Bulk_B   3.70351 6.12890e-16\n",
       "      [3]         Bulk_B   2.36517 8.35504e-15\n",
       "      [4]         Bulk_B   3.77174 6.50054e-13\n",
       "      [5]         Bulk_B   2.74934 6.50054e-13\n",
       "      ...            ...       ...         ...\n",
       "  [40821] Th2_precursors  -1.07253  0.00997018\n",
       "  [40822] Th2_precursors   1.16157  0.00997018\n",
       "  [40823] Th2_precursors  -1.09881  0.00997018\n",
       "  [40824] Th2_precursors  -1.30122  0.00998597\n",
       "  [40825] Th2_precursors  -1.15240  0.00998909\n",
       "  -------\n",
       "  seqinfo: 54 sequences from an unspecified genome; no seqlengths"
      ]
     },
     "metadata": {},
     "output_type": "display_data"
    }
   ],
   "source": [
    "da.peak.ranges"
   ]
  },
  {
   "cell_type": "code",
   "execution_count": 13,
   "id": "aeb35272-46ce-48e7-b51f-c7d3648893d3",
   "metadata": {},
   "outputs": [],
   "source": [
    "cis.eqtl.sentinel <- cis.eqtl %>%\n",
    "    dplyr::group_by(gene) %>%\n",
    "    dplyr::slice_min(order_by=pvalue, n=1)\n",
    "\n",
    "cis.eqtl.sentinel.ranges = GRanges(\n",
    "    seqnames=cis.eqtl.sentinel$chr,\n",
    "    ranges=IRanges(\n",
    "        start=cis.eqtl.sentinel$SNPpos,\n",
    "        end=cis.eqtl.sentinel$SNPpos\n",
    "    ),\n",
    "    strand=rep(\"*\", nrow(cis.eqtl.sentinel))\n",
    ")\n",
    "mcols(cis.eqtl.sentinel.ranges) <- cis.eqtl.sentinel[,c(\"gene\", \"TSS\", \"beta\", \"pvalue\")]"
   ]
  },
  {
   "cell_type": "code",
   "execution_count": 14,
   "id": "76058010-8449-4137-9152-25d5abdc6320",
   "metadata": {},
   "outputs": [
    {
     "data": {
      "text/plain": [
       "GRanges object with 17358 ranges and 4 metadata columns:\n",
       "          seqnames    ranges strand |            gene       TSS       beta\n",
       "             <Rle> <IRanges>  <Rle> |     <character> <integer>  <numeric>\n",
       "      [1]        1 169776143      * | ENSG00000000457 169894267  0.0501318\n",
       "      [2]        1 169776312      * | ENSG00000000457 169894267  0.0501318\n",
       "      [3]        1 169749095      * | ENSG00000000460 169662007 -0.0719696\n",
       "      [4]        1 196708768      * | ENSG00000000971 196652043  0.1713546\n",
       "      [5]        1 196726612      * | ENSG00000000971 196652043  0.1713546\n",
       "      ...      ...       ...    ... .             ...       ...        ...\n",
       "  [17354]       11  78283443      * | ENSG00000288538  78223815  -0.246467\n",
       "  [17355]       11  78284097      * | ENSG00000288538  78223815  -0.246467\n",
       "  [17356]        1 186609504      * | ENSG00000288562 186624700   0.108611\n",
       "  [17357]        1 186617709      * | ENSG00000288562 186624700   0.108611\n",
       "  [17358]        1  43916852      * | ENSG00000288573  43946551  -0.032342\n",
       "               pvalue\n",
       "            <numeric>\n",
       "      [1] 4.86024e-12\n",
       "      [2] 4.86024e-12\n",
       "      [3] 6.26471e-09\n",
       "      [4] 7.63523e-06\n",
       "      [5] 7.63523e-06\n",
       "      ...         ...\n",
       "  [17354] 1.97142e-35\n",
       "  [17355] 1.97142e-35\n",
       "  [17356] 2.76362e-05\n",
       "  [17357] 2.76362e-05\n",
       "  [17358] 3.24134e-06\n",
       "  -------\n",
       "  seqinfo: 23 sequences from an unspecified genome; no seqlengths"
      ]
     },
     "metadata": {},
     "output_type": "display_data"
    }
   ],
   "source": [
    "cis.eqtl.sentinel.ranges"
   ]
  },
  {
   "cell_type": "code",
   "execution_count": 15,
   "id": "7f88add9-3727-4bf3-bd5b-93f91ba3f1c0",
   "metadata": {},
   "outputs": [
    {
     "name": "stderr",
     "output_type": "stream",
     "text": [
      "Warning message in .Seqinfo.mergexy(x, y):\n",
      "“Each of the 2 combined objects has sequence levels not in the other:\n",
      "  - in 'x': 23\n",
      "  - in 'y': X, KI270733.1, KI270714.1, GL000220.1, KI270731.1, KI270538.1, KI270465.1, GL000194.1, KI270711.1, Y, KI270728.1, GL000225.1, KI270709.1, KI270744.1, GL000216.2, GL000205.2, GL000195.1, GL000219.1, KI270722.1, GL000009.2, KI270723.1, KI270751.1, KI270750.1, KI270706.1, KI270438.1, KI270736.1, KI270730.1, KI270442.1, KI270737.1, KI270756.1, KI270322.1, KI270727.1\n",
      "  Make sure to always combine/compare objects based on the same reference\n",
      "  genome (use suppressWarnings() to suppress this warning).”\n"
     ]
    }
   ],
   "source": [
    "overlaps <- findOverlaps(cis.eqtl.sentinel.ranges, da.peak.ranges)"
   ]
  },
  {
   "cell_type": "code",
   "execution_count": 16,
   "id": "dfc90751-362b-4f49-bb66-3f355a364fda",
   "metadata": {},
   "outputs": [],
   "source": [
    "overlap.set <- dplyr::bind_cols(\n",
    "    as.data.frame(cis.eqtl.sentinel.ranges[overlaps@from, ]) %>%\n",
    "        dplyr::select(SNP.Chr=seqnames, SNP.Pos=start, eQTL.Gene=gene, eQTL.TSS=TSS, eQTL.Beta=beta, eQTL.P=pvalue),\n",
    "    as.data.frame(da.peak.ranges[overlaps@to, ]) %>%\n",
    "        dplyr::select(Peak.ID=Peak.ID, Peak.Chr=seqnames, Peak.Start=start, Peak.End=end, Peak.Width=width, Peak.Cell.Type=Cell.Type, Peak.Log.FC=logFC, Peak.P=adj.P.Val)\n",
    ")"
   ]
  },
  {
   "cell_type": "code",
   "execution_count": 17,
   "id": "0b4e3baa-3269-466f-9e0b-4a299230aefc",
   "metadata": {},
   "outputs": [
    {
     "data": {
      "text/html": [
       "214"
      ],
      "text/latex": [
       "214"
      ],
      "text/markdown": [
       "214"
      ],
      "text/plain": [
       "[1] 214"
      ]
     },
     "metadata": {},
     "output_type": "display_data"
    }
   ],
   "source": [
    "length(unique(overlap.set$Peak.ID))"
   ]
  },
  {
   "cell_type": "code",
   "execution_count": 18,
   "id": "4e3b1142-d7b3-41e7-bcca-53b24f2cd098",
   "metadata": {},
   "outputs": [
    {
     "data": {
      "text/html": [
       "262"
      ],
      "text/latex": [
       "262"
      ],
      "text/markdown": [
       "262"
      ],
      "text/plain": [
       "[1] 262"
      ]
     },
     "metadata": {},
     "output_type": "display_data"
    }
   ],
   "source": [
    "length(unique(paste0(overlap.set$SNP.Chr, \":\", overlap.set$SNP.Pos)))"
   ]
  },
  {
   "cell_type": "code",
   "execution_count": 19,
   "id": "4804cd4f-92ce-4be2-b835-9667399c9bc5",
   "metadata": {},
   "outputs": [
    {
     "data": {
      "text/html": [
       "233"
      ],
      "text/latex": [
       "233"
      ],
      "text/markdown": [
       "233"
      ],
      "text/plain": [
       "[1] 233"
      ]
     },
     "metadata": {},
     "output_type": "display_data"
    }
   ],
   "source": [
    "length(unique(overlap.set$eQTL.Gene))"
   ]
  },
  {
   "cell_type": "markdown",
   "id": "e3c82056-975e-49b7-bab3-1ae116108537",
   "metadata": {
    "tags": []
   },
   "source": [
    "## Overlap of All Significant cis-eQTL\n",
    "\n",
    "I'll test all significant SNPs for each gene for overlap with DA peaks. These peaks are derived from the initial pass analysis of cis-eQTL (not the conditional analysis)."
   ]
  },
  {
   "cell_type": "code",
   "execution_count": 20,
   "id": "e9192764-64f1-46ad-a32e-56dc74168d83",
   "metadata": {},
   "outputs": [],
   "source": [
    "da.peak.ranges = GRanges(\n",
    "    seqnames=da.peaks$Peak.Chr,\n",
    "    ranges=IRanges(\n",
    "        start=da.peaks$Peak.Start,\n",
    "        end=da.peaks$Peak.End\n",
    "    ),\n",
    "    strand=rep(\"*\", nrow(da.peaks))\n",
    ")\n",
    "mcols(da.peak.ranges) <- da.peaks[,c(\"Peak.ID\", \"Cell.Type\", \"logFC\", \"adj.P.Val\")]"
   ]
  },
  {
   "cell_type": "code",
   "execution_count": 21,
   "id": "e28ceb85-989d-41a3-90bf-989200b2864b",
   "metadata": {},
   "outputs": [
    {
     "data": {
      "text/plain": [
       "GRanges object with 40825 ranges and 4 metadata columns:\n",
       "          seqnames              ranges strand |               Peak.ID\n",
       "             <Rle>           <IRanges>  <Rle> |           <character>\n",
       "      [1]       13   50244295-50246227      * |  13:50244295-50246227\n",
       "      [2]       13   79450967-79452794      * |  13:79450967-79452794\n",
       "      [3]        4   38729764-38731699      * |   4:38729764-38731699\n",
       "      [4]        7 140375586-140377343      * | 7:140375586-140377343\n",
       "      [5]       10     7192213-7194489      * |    10:7192213-7194489\n",
       "      ...      ...                 ...    ... .                   ...\n",
       "  [40821]       16       159258-161530      * |      16:159258-161530\n",
       "  [40822]        5   10419748-10421394      * |   5:10419748-10421394\n",
       "  [40823]        5   49182198-49183584      * |   5:49182198-49183584\n",
       "  [40824]       17   79415444-79417470      * |  17:79415444-79417470\n",
       "  [40825]        9 137542676-137544760      * | 9:137542676-137544760\n",
       "               Cell.Type     logFC   adj.P.Val\n",
       "             <character> <numeric>   <numeric>\n",
       "      [1]         Bulk_B   4.05371 2.86752e-16\n",
       "      [2]         Bulk_B   3.70351 6.12890e-16\n",
       "      [3]         Bulk_B   2.36517 8.35504e-15\n",
       "      [4]         Bulk_B   3.77174 6.50054e-13\n",
       "      [5]         Bulk_B   2.74934 6.50054e-13\n",
       "      ...            ...       ...         ...\n",
       "  [40821] Th2_precursors  -1.07253  0.00997018\n",
       "  [40822] Th2_precursors   1.16157  0.00997018\n",
       "  [40823] Th2_precursors  -1.09881  0.00997018\n",
       "  [40824] Th2_precursors  -1.30122  0.00998597\n",
       "  [40825] Th2_precursors  -1.15240  0.00998909\n",
       "  -------\n",
       "  seqinfo: 54 sequences from an unspecified genome; no seqlengths"
      ]
     },
     "metadata": {},
     "output_type": "display_data"
    }
   ],
   "source": [
    "da.peak.ranges"
   ]
  },
  {
   "cell_type": "code",
   "execution_count": 22,
   "id": "cba8cb7e-3e79-40db-9a27-57970767ec2d",
   "metadata": {},
   "outputs": [],
   "source": [
    "cis.eqtl.ranges = GRanges(\n",
    "    seqnames=cis.eqtl$chr,\n",
    "    ranges=IRanges(\n",
    "        start=cis.eqtl$SNPpos,\n",
    "        end=cis.eqtl$SNPpos\n",
    "    ),\n",
    "    strand=rep(\"*\", nrow(cis.eqtl))\n",
    ")\n",
    "mcols(cis.eqtl.ranges) <- cis.eqtl[,c(\"gene\", \"TSS\", \"beta\", \"pvalue\")]"
   ]
  },
  {
   "cell_type": "code",
   "execution_count": 23,
   "id": "59522f61-e8c3-4016-ae03-44e751e58d0f",
   "metadata": {},
   "outputs": [
    {
     "data": {
      "text/plain": [
       "GRanges object with 1549870 ranges and 4 metadata columns:\n",
       "            seqnames    ranges strand |            gene       TSS       beta\n",
       "               <Rle> <IRanges>  <Rle> |     <character> <integer>  <numeric>\n",
       "        [1]        1 169699715      * | ENSG00000000457 169894267 -0.0500981\n",
       "        [2]        1 169700002      * | ENSG00000000457 169894267 -0.0511467\n",
       "        [3]        1 169700591      * | ENSG00000000457 169894267  0.0550335\n",
       "        [4]        1 169701315      * | ENSG00000000457 169894267  0.0559498\n",
       "        [5]        1 169701799      * | ENSG00000000457 169894267 -0.0508388\n",
       "        ...      ...       ...    ... .             ...       ...        ...\n",
       "  [1549866]        9 125750069      * | ENSG00000287782 125426169  0.0281611\n",
       "  [1549867]        9 125760087      * | ENSG00000287782 125426169  0.0281267\n",
       "  [1549868]        9 125760246      * | ENSG00000287782 125426169  0.0281267\n",
       "  [1549869]        9 125824786      * | ENSG00000287782 125426169  0.0277634\n",
       "  [1549870]        9 125831191      * | ENSG00000287782 125426169  0.0277283\n",
       "                 pvalue\n",
       "              <numeric>\n",
       "        [1] 3.33058e-05\n",
       "        [2] 2.28057e-05\n",
       "        [3] 3.66041e-05\n",
       "        [4] 2.65393e-05\n",
       "        [5] 2.42465e-05\n",
       "        ...         ...\n",
       "  [1549866] 3.54251e-05\n",
       "  [1549867] 3.49415e-05\n",
       "  [1549868] 3.49415e-05\n",
       "  [1549869] 4.22422e-05\n",
       "  [1549870] 4.22727e-05\n",
       "  -------\n",
       "  seqinfo: 23 sequences from an unspecified genome; no seqlengths"
      ]
     },
     "metadata": {},
     "output_type": "display_data"
    }
   ],
   "source": [
    "cis.eqtl.ranges"
   ]
  },
  {
   "cell_type": "code",
   "execution_count": 24,
   "id": "311526d0-7e0e-4350-97da-cb85d3821c79",
   "metadata": {},
   "outputs": [
    {
     "name": "stderr",
     "output_type": "stream",
     "text": [
      "Warning message in .Seqinfo.mergexy(x, y):\n",
      "“Each of the 2 combined objects has sequence levels not in the other:\n",
      "  - in 'x': 23\n",
      "  - in 'y': X, KI270733.1, KI270714.1, GL000220.1, KI270731.1, KI270538.1, KI270465.1, GL000194.1, KI270711.1, Y, KI270728.1, GL000225.1, KI270709.1, KI270744.1, GL000216.2, GL000205.2, GL000195.1, GL000219.1, KI270722.1, GL000009.2, KI270723.1, KI270751.1, KI270750.1, KI270706.1, KI270438.1, KI270736.1, KI270730.1, KI270442.1, KI270737.1, KI270756.1, KI270322.1, KI270727.1\n",
      "  Make sure to always combine/compare objects based on the same reference\n",
      "  genome (use suppressWarnings() to suppress this warning).”\n"
     ]
    }
   ],
   "source": [
    "overlaps <- findOverlaps(cis.eqtl.ranges, da.peak.ranges)"
   ]
  },
  {
   "cell_type": "code",
   "execution_count": 25,
   "id": "f94c9f08-726f-4723-b16d-2d036122e632",
   "metadata": {},
   "outputs": [],
   "source": [
    "overlap.set <- dplyr::bind_cols(\n",
    "    as.data.frame(cis.eqtl.ranges[overlaps@from, ]) %>%\n",
    "        dplyr::select(SNP.Chr=seqnames, SNP.Pos=start, eQTL.Gene=gene, eQTL.TSS=TSS, eQTL.Beta=beta, eQTL.P=pvalue),\n",
    "    as.data.frame(da.peak.ranges[overlaps@to, ]) %>%\n",
    "        dplyr::select(Peak.ID=Peak.ID, Peak.Chr=seqnames, Peak.Start=start, Peak.End=end, Peak.Width=width, Peak.Cell.Type=Cell.Type, Peak.Log.FC=logFC, Peak.P=adj.P.Val)\n",
    ")"
   ]
  },
  {
   "cell_type": "markdown",
   "id": "f5aad894-2b6a-4c70-8f98-a30dfd772663",
   "metadata": {},
   "source": [
    "There are 3124 unique peaks that have a significant eSNP."
   ]
  },
  {
   "cell_type": "code",
   "execution_count": 26,
   "id": "81544d3b-b2eb-4cb5-b786-60ed1000ec79",
   "metadata": {},
   "outputs": [
    {
     "data": {
      "text/html": [
       "3124"
      ],
      "text/latex": [
       "3124"
      ],
      "text/markdown": [
       "3124"
      ],
      "text/plain": [
       "[1] 3124"
      ]
     },
     "metadata": {},
     "output_type": "display_data"
    }
   ],
   "source": [
    "length(unique(overlap.set$Peak.ID))"
   ]
  },
  {
   "cell_type": "markdown",
   "id": "6f4ca3c5-b30b-42a2-b3c7-bd83333a4d4b",
   "metadata": {},
   "source": [
    "There are 9665 eSNPs that overlap with at least one DA peak."
   ]
  },
  {
   "cell_type": "code",
   "execution_count": 27,
   "id": "7fc503f5-94f0-4c2d-bfae-54e061816e4b",
   "metadata": {},
   "outputs": [
    {
     "data": {
      "text/html": [
       "9665"
      ],
      "text/latex": [
       "9665"
      ],
      "text/markdown": [
       "9665"
      ],
      "text/plain": [
       "[1] 9665"
      ]
     },
     "metadata": {},
     "output_type": "display_data"
    }
   ],
   "source": [
    "length(unique(paste0(overlap.set$SNP.Chr, \":\", overlap.set$SNP.Pos)))"
   ]
  },
  {
   "cell_type": "markdown",
   "id": "f594c49a-fefe-493b-840f-85a7d04e8425",
   "metadata": {},
   "source": [
    "There are 3958 eGenes that have at least one eSNP present in at least one DA peak."
   ]
  },
  {
   "cell_type": "code",
   "execution_count": 28,
   "id": "74c384b3-8864-43a1-b1c0-4e0462df9ccf",
   "metadata": {},
   "outputs": [
    {
     "data": {
      "text/html": [
       "3958"
      ],
      "text/latex": [
       "3958"
      ],
      "text/markdown": [
       "3958"
      ],
      "text/plain": [
       "[1] 3958"
      ]
     },
     "metadata": {},
     "output_type": "display_data"
    }
   ],
   "source": [
    "length(unique(overlap.set$eQTL.Gene))"
   ]
  },
  {
   "cell_type": "code",
   "execution_count": 69,
   "id": "a9ea6677-ecd6-4293-a9b9-2c047e1485dd",
   "metadata": {},
   "outputs": [
    {
     "data": {
      "text/html": [
       "<table class=\"dataframe\">\n",
       "<caption>A data.frame: 20 × 4</caption>\n",
       "<thead>\n",
       "\t<tr><th scope=col>Cell.Type</th><th scope=col>DA.Peak.Count</th><th scope=col>Overlap.Count</th><th scope=col>Proportion</th></tr>\n",
       "\t<tr><th scope=col>&lt;fct&gt;</th><th scope=col>&lt;int&gt;</th><th scope=col>&lt;int&gt;</th><th scope=col>&lt;dbl&gt;</th></tr>\n",
       "</thead>\n",
       "<tbody>\n",
       "\t<tr><td>Mature_NK               </td><td>  91</td><td>  32</td><td>0.3516484</td></tr>\n",
       "\t<tr><td>Effector_CD4pos_T       </td><td>3465</td><td>1157</td><td>0.3339105</td></tr>\n",
       "\t<tr><td>Monocytes               </td><td>  18</td><td>   6</td><td>0.3333333</td></tr>\n",
       "\t<tr><td>Regulatory_T            </td><td>1682</td><td> 560</td><td>0.3329370</td></tr>\n",
       "\t<tr><td>Naive_Teffs             </td><td>4025</td><td>1327</td><td>0.3296894</td></tr>\n",
       "\t<tr><td>Follicular_T_Helper     </td><td>2921</td><td> 941</td><td>0.3221499</td></tr>\n",
       "\t<tr><td>Effector_memory_CD8pos_T</td><td>2410</td><td> 773</td><td>0.3207469</td></tr>\n",
       "\t<tr><td>Memory_Tregs            </td><td>1073</td><td> 344</td><td>0.3205965</td></tr>\n",
       "\t<tr><td>Memory_Teffs            </td><td>4209</td><td>1344</td><td>0.3193158</td></tr>\n",
       "\t<tr><td>Naive_Tregs             </td><td> 145</td><td>  46</td><td>0.3172414</td></tr>\n",
       "\t<tr><td>Th17_precursors         </td><td>3525</td><td>1100</td><td>0.3120567</td></tr>\n",
       "\t<tr><td>Th1_precursors          </td><td>4045</td><td>1250</td><td>0.3090235</td></tr>\n",
       "\t<tr><td>Central_memory_CD8pos_T </td><td>2346</td><td> 724</td><td>0.3086104</td></tr>\n",
       "\t<tr><td>CD8pos_T                </td><td>2245</td><td> 692</td><td>0.3082405</td></tr>\n",
       "\t<tr><td>Gamma_delta_T           </td><td>1100</td><td> 332</td><td>0.3018182</td></tr>\n",
       "\t<tr><td>Naive_CD8_T             </td><td> 859</td><td> 256</td><td>0.2980210</td></tr>\n",
       "\t<tr><td>Th2_precursors          </td><td>4286</td><td>1260</td><td>0.2939804</td></tr>\n",
       "\t<tr><td>Naive_B                 </td><td>1141</td><td> 331</td><td>0.2900964</td></tr>\n",
       "\t<tr><td>Bulk_B                  </td><td> 689</td><td> 193</td><td>0.2801161</td></tr>\n",
       "\t<tr><td>Mem_B                   </td><td> 550</td><td> 143</td><td>0.2600000</td></tr>\n",
       "</tbody>\n",
       "</table>\n"
      ],
      "text/latex": [
       "A data.frame: 20 × 4\n",
       "\\begin{tabular}{llll}\n",
       " Cell.Type & DA.Peak.Count & Overlap.Count & Proportion\\\\\n",
       " <fct> & <int> & <int> & <dbl>\\\\\n",
       "\\hline\n",
       "\t Mature\\_NK                &   91 &   32 & 0.3516484\\\\\n",
       "\t Effector\\_CD4pos\\_T        & 3465 & 1157 & 0.3339105\\\\\n",
       "\t Monocytes                &   18 &    6 & 0.3333333\\\\\n",
       "\t Regulatory\\_T             & 1682 &  560 & 0.3329370\\\\\n",
       "\t Naive\\_Teffs              & 4025 & 1327 & 0.3296894\\\\\n",
       "\t Follicular\\_T\\_Helper      & 2921 &  941 & 0.3221499\\\\\n",
       "\t Effector\\_memory\\_CD8pos\\_T & 2410 &  773 & 0.3207469\\\\\n",
       "\t Memory\\_Tregs             & 1073 &  344 & 0.3205965\\\\\n",
       "\t Memory\\_Teffs             & 4209 & 1344 & 0.3193158\\\\\n",
       "\t Naive\\_Tregs              &  145 &   46 & 0.3172414\\\\\n",
       "\t Th17\\_precursors          & 3525 & 1100 & 0.3120567\\\\\n",
       "\t Th1\\_precursors           & 4045 & 1250 & 0.3090235\\\\\n",
       "\t Central\\_memory\\_CD8pos\\_T  & 2346 &  724 & 0.3086104\\\\\n",
       "\t CD8pos\\_T                 & 2245 &  692 & 0.3082405\\\\\n",
       "\t Gamma\\_delta\\_T            & 1100 &  332 & 0.3018182\\\\\n",
       "\t Naive\\_CD8\\_T              &  859 &  256 & 0.2980210\\\\\n",
       "\t Th2\\_precursors           & 4286 & 1260 & 0.2939804\\\\\n",
       "\t Naive\\_B                  & 1141 &  331 & 0.2900964\\\\\n",
       "\t Bulk\\_B                   &  689 &  193 & 0.2801161\\\\\n",
       "\t Mem\\_B                    &  550 &  143 & 0.2600000\\\\\n",
       "\\end{tabular}\n"
      ],
      "text/markdown": [
       "\n",
       "A data.frame: 20 × 4\n",
       "\n",
       "| Cell.Type &lt;fct&gt; | DA.Peak.Count &lt;int&gt; | Overlap.Count &lt;int&gt; | Proportion &lt;dbl&gt; |\n",
       "|---|---|---|---|\n",
       "| Mature_NK                |   91 |   32 | 0.3516484 |\n",
       "| Effector_CD4pos_T        | 3465 | 1157 | 0.3339105 |\n",
       "| Monocytes                |   18 |    6 | 0.3333333 |\n",
       "| Regulatory_T             | 1682 |  560 | 0.3329370 |\n",
       "| Naive_Teffs              | 4025 | 1327 | 0.3296894 |\n",
       "| Follicular_T_Helper      | 2921 |  941 | 0.3221499 |\n",
       "| Effector_memory_CD8pos_T | 2410 |  773 | 0.3207469 |\n",
       "| Memory_Tregs             | 1073 |  344 | 0.3205965 |\n",
       "| Memory_Teffs             | 4209 | 1344 | 0.3193158 |\n",
       "| Naive_Tregs              |  145 |   46 | 0.3172414 |\n",
       "| Th17_precursors          | 3525 | 1100 | 0.3120567 |\n",
       "| Th1_precursors           | 4045 | 1250 | 0.3090235 |\n",
       "| Central_memory_CD8pos_T  | 2346 |  724 | 0.3086104 |\n",
       "| CD8pos_T                 | 2245 |  692 | 0.3082405 |\n",
       "| Gamma_delta_T            | 1100 |  332 | 0.3018182 |\n",
       "| Naive_CD8_T              |  859 |  256 | 0.2980210 |\n",
       "| Th2_precursors           | 4286 | 1260 | 0.2939804 |\n",
       "| Naive_B                  | 1141 |  331 | 0.2900964 |\n",
       "| Bulk_B                   |  689 |  193 | 0.2801161 |\n",
       "| Mem_B                    |  550 |  143 | 0.2600000 |\n",
       "\n"
      ],
      "text/plain": [
       "   Cell.Type                DA.Peak.Count Overlap.Count Proportion\n",
       "1  Mature_NK                  91            32          0.3516484 \n",
       "2  Effector_CD4pos_T        3465          1157          0.3339105 \n",
       "3  Monocytes                  18             6          0.3333333 \n",
       "4  Regulatory_T             1682           560          0.3329370 \n",
       "5  Naive_Teffs              4025          1327          0.3296894 \n",
       "6  Follicular_T_Helper      2921           941          0.3221499 \n",
       "7  Effector_memory_CD8pos_T 2410           773          0.3207469 \n",
       "8  Memory_Tregs             1073           344          0.3205965 \n",
       "9  Memory_Teffs             4209          1344          0.3193158 \n",
       "10 Naive_Tregs               145            46          0.3172414 \n",
       "11 Th17_precursors          3525          1100          0.3120567 \n",
       "12 Th1_precursors           4045          1250          0.3090235 \n",
       "13 Central_memory_CD8pos_T  2346           724          0.3086104 \n",
       "14 CD8pos_T                 2245           692          0.3082405 \n",
       "15 Gamma_delta_T            1100           332          0.3018182 \n",
       "16 Naive_CD8_T               859           256          0.2980210 \n",
       "17 Th2_precursors           4286          1260          0.2939804 \n",
       "18 Naive_B                  1141           331          0.2900964 \n",
       "19 Bulk_B                    689           193          0.2801161 \n",
       "20 Mem_B                     550           143          0.2600000 "
      ]
     },
     "metadata": {},
     "output_type": "display_data"
    }
   ],
   "source": [
    "da.peak.freqs <- as.data.frame(table(da.peaks$Cell.Type)) %>%\n",
    "    dplyr::select(Cell.Type=1, DA.Peak.Count=2)\n",
    "\n",
    "overlap.set.peaks <- overlap.set %>%\n",
    "    dplyr::select(Peak.ID, Peak.Cell.Type) %>%\n",
    "    unique()\n",
    "overlap.freqs <- as.data.frame(table(overlap.set.peaks$Peak.Cell.Type)) %>%\n",
    "    dplyr::select(Cell.Type=1, Overlap.Count=2) \n",
    "\n",
    "merge(da.peak.freqs, overlap.freqs, by=\"Cell.Type\") %>%\n",
    "    dplyr::mutate(Proportion=Overlap.Count / DA.Peak.Count) %>%\n",
    "    dplyr::arrange(desc(Proportion))"
   ]
  },
  {
   "cell_type": "markdown",
   "id": "d6be968f-599b-4df6-a551-bf47f8c08c9c",
   "metadata": {},
   "source": [
    "## Overlap of Sentinel cis-eQTL (Conditional Analysis)\n",
    "\n",
    "I can combine the sentinel SNP at each locus with SNPs identified after conditional analysis (conditioning on the sentinel SNP to identify multiple signals)."
   ]
  },
  {
   "cell_type": "code",
   "execution_count": 92,
   "id": "59a222a8-cba1-4c69-8582-4e27cd1ace46",
   "metadata": {},
   "outputs": [],
   "source": [
    "da.peak.ranges = GRanges(\n",
    "    seqnames=da.peaks$Peak.Chr,\n",
    "    ranges=IRanges(\n",
    "        start=da.peaks$Peak.Start,\n",
    "        end=da.peaks$Peak.End\n",
    "    ),\n",
    "    strand=rep(\"*\", nrow(da.peaks))\n",
    ")\n",
    "mcols(da.peak.ranges) <- da.peaks[,c(\"Peak.ID\", \"Cell.Type\", \"logFC\", \"adj.P.Val\")]"
   ]
  },
  {
   "cell_type": "code",
   "execution_count": 93,
   "id": "266412f5-7354-45de-a1ae-4d8e89553b2d",
   "metadata": {},
   "outputs": [
    {
     "data": {
      "text/plain": [
       "GRanges object with 40825 ranges and 4 metadata columns:\n",
       "          seqnames              ranges strand |               Peak.ID\n",
       "             <Rle>           <IRanges>  <Rle> |           <character>\n",
       "      [1]       13   50244295-50246227      * |  13:50244295-50246227\n",
       "      [2]       13   79450967-79452794      * |  13:79450967-79452794\n",
       "      [3]        4   38729764-38731699      * |   4:38729764-38731699\n",
       "      [4]        7 140375586-140377343      * | 7:140375586-140377343\n",
       "      [5]       10     7192213-7194489      * |    10:7192213-7194489\n",
       "      ...      ...                 ...    ... .                   ...\n",
       "  [40821]       16       159258-161530      * |      16:159258-161530\n",
       "  [40822]        5   10419748-10421394      * |   5:10419748-10421394\n",
       "  [40823]        5   49182198-49183584      * |   5:49182198-49183584\n",
       "  [40824]       17   79415444-79417470      * |  17:79415444-79417470\n",
       "  [40825]        9 137542676-137544760      * | 9:137542676-137544760\n",
       "               Cell.Type     logFC   adj.P.Val\n",
       "             <character> <numeric>   <numeric>\n",
       "      [1]         Bulk_B   4.05371 2.86752e-16\n",
       "      [2]         Bulk_B   3.70351 6.12890e-16\n",
       "      [3]         Bulk_B   2.36517 8.35504e-15\n",
       "      [4]         Bulk_B   3.77174 6.50054e-13\n",
       "      [5]         Bulk_B   2.74934 6.50054e-13\n",
       "      ...            ...       ...         ...\n",
       "  [40821] Th2_precursors  -1.07253  0.00997018\n",
       "  [40822] Th2_precursors   1.16157  0.00997018\n",
       "  [40823] Th2_precursors  -1.09881  0.00997018\n",
       "  [40824] Th2_precursors  -1.30122  0.00998597\n",
       "  [40825] Th2_precursors  -1.15240  0.00998909\n",
       "  -------\n",
       "  seqinfo: 54 sequences from an unspecified genome; no seqlengths"
      ]
     },
     "metadata": {},
     "output_type": "display_data"
    }
   ],
   "source": [
    "da.peak.ranges"
   ]
  },
  {
   "cell_type": "code",
   "execution_count": 102,
   "id": "eb8c8f89-49b5-49f4-8e1d-3a498c94cc9a",
   "metadata": {},
   "outputs": [],
   "source": [
    "cis.eqtl.sentinel <- dplyr::bind_rows(\n",
    "    cis.eqtl %>%\n",
    "        dplyr::group_by(gene) %>%\n",
    "        dplyr::slice_min(order_by=pvalue, n=1),\n",
    "    cis.eqtl.conditional\n",
    ")\n",
    "\n",
    "cis.eqtl.sentinel.ranges = GRanges(\n",
    "    seqnames=cis.eqtl.sentinel$chr,\n",
    "    ranges=IRanges(\n",
    "        start=cis.eqtl.sentinel$SNPpos,\n",
    "        end=cis.eqtl.sentinel$SNPpos\n",
    "    ),\n",
    "    strand=rep(\"*\", nrow(cis.eqtl.sentinel))\n",
    ")\n",
    "mcols(cis.eqtl.sentinel.ranges) <- cis.eqtl.sentinel[,c(\"gene\", \"beta\", \"pvalue\")]"
   ]
  },
  {
   "cell_type": "code",
   "execution_count": 104,
   "id": "0f92bd08-1bf6-4bd0-b7f1-882e205ba87b",
   "metadata": {},
   "outputs": [
    {
     "data": {
      "text/plain": [
       "GRanges object with 33746 ranges and 3 metadata columns:\n",
       "          seqnames    ranges strand |            gene       beta      pvalue\n",
       "             <Rle> <IRanges>  <Rle> |     <character>  <numeric>   <numeric>\n",
       "      [1]        1 169776143      * | ENSG00000000457  0.0501318 4.86024e-12\n",
       "      [2]        1 169776312      * | ENSG00000000457  0.0501318 4.86024e-12\n",
       "      [3]        1 169749095      * | ENSG00000000460 -0.0719696 6.26471e-09\n",
       "      [4]        1 196708768      * | ENSG00000000971  0.1713546 7.63523e-06\n",
       "      [5]        1 196726612      * | ENSG00000000971  0.1713546 7.63523e-06\n",
       "      ...      ...       ...    ... .             ...        ...         ...\n",
       "  [33742]        4  81171813      * | ENSG00000138669 -0.0764252 1.30521e-10\n",
       "  [33743]        4  76196421      * | ENSG00000138760  0.0763221 5.05314e-08\n",
       "  [33744]        4 163514546      * | ENSG00000273449  0.0848184 2.26190e-23\n",
       "  [33745]        4    121772      * | ENSG00000275426 -0.0907441 7.39485e-18\n",
       "  [33746]        1  19467490      * | ENSG00000077549 -0.0477042 6.57330e-14\n",
       "  -------\n",
       "  seqinfo: 23 sequences from an unspecified genome; no seqlengths"
      ]
     },
     "metadata": {},
     "output_type": "display_data"
    }
   ],
   "source": [
    "cis.eqtl.sentinel.ranges"
   ]
  },
  {
   "cell_type": "code",
   "execution_count": 105,
   "id": "e3275715-c880-421f-adc2-f5ca7803a4e0",
   "metadata": {},
   "outputs": [
    {
     "name": "stderr",
     "output_type": "stream",
     "text": [
      "Warning message in .Seqinfo.mergexy(x, y):\n",
      "“Each of the 2 combined objects has sequence levels not in the other:\n",
      "  - in 'x': 23\n",
      "  - in 'y': X, KI270733.1, KI270714.1, GL000220.1, KI270731.1, KI270538.1, KI270465.1, GL000194.1, KI270711.1, Y, KI270728.1, GL000225.1, KI270709.1, KI270744.1, GL000216.2, GL000205.2, GL000195.1, GL000219.1, KI270722.1, GL000009.2, KI270723.1, KI270751.1, KI270750.1, KI270706.1, KI270438.1, KI270736.1, KI270730.1, KI270442.1, KI270737.1, KI270756.1, KI270322.1, KI270727.1\n",
      "  Make sure to always combine/compare objects based on the same reference\n",
      "  genome (use suppressWarnings() to suppress this warning).”\n"
     ]
    }
   ],
   "source": [
    "overlaps <- findOverlaps(cis.eqtl.sentinel.ranges, da.peak.ranges)"
   ]
  },
  {
   "cell_type": "code",
   "execution_count": 107,
   "id": "619214d1-95b0-4f0e-a2dc-6d4e891b9a96",
   "metadata": {},
   "outputs": [],
   "source": [
    "overlap.set <- dplyr::bind_cols(\n",
    "    as.data.frame(cis.eqtl.sentinel.ranges[overlaps@from, ]) %>%\n",
    "        dplyr::select(SNP.Chr=seqnames, SNP.Pos=start, eQTL.Gene=gene, eQTL.Beta=beta, eQTL.P=pvalue),\n",
    "    as.data.frame(da.peak.ranges[overlaps@to, ]) %>%\n",
    "        dplyr::select(Peak.ID=Peak.ID, Peak.Chr=seqnames, Peak.Start=start, Peak.End=end, Peak.Width=width, Peak.Cell.Type=Cell.Type, Peak.Log.FC=logFC, Peak.P=adj.P.Val)\n",
    ")"
   ]
  },
  {
   "cell_type": "markdown",
   "id": "f74c0123-1875-4107-98e6-fbca3e75c93c",
   "metadata": {},
   "source": [
    "There are 309 unique peaks that have a sentinel eSNP."
   ]
  },
  {
   "cell_type": "code",
   "execution_count": 108,
   "id": "88fc5163-69a5-46e0-9c91-a40e06a3c231",
   "metadata": {},
   "outputs": [
    {
     "data": {
      "text/html": [
       "309"
      ],
      "text/latex": [
       "309"
      ],
      "text/markdown": [
       "309"
      ],
      "text/plain": [
       "[1] 309"
      ]
     },
     "metadata": {},
     "output_type": "display_data"
    }
   ],
   "source": [
    "length(unique(overlap.set$Peak.ID))"
   ]
  },
  {
   "cell_type": "markdown",
   "id": "4e051769-7f6d-4b81-8eb4-2964f90ff192",
   "metadata": {},
   "source": [
    "There are 375 sentinel eSNPs that overlap with at least one DA peak."
   ]
  },
  {
   "cell_type": "code",
   "execution_count": 109,
   "id": "449d15ba-40df-43c5-9ce6-966b621f9be1",
   "metadata": {},
   "outputs": [
    {
     "data": {
      "text/html": [
       "375"
      ],
      "text/latex": [
       "375"
      ],
      "text/markdown": [
       "375"
      ],
      "text/plain": [
       "[1] 375"
      ]
     },
     "metadata": {},
     "output_type": "display_data"
    }
   ],
   "source": [
    "length(unique(paste0(overlap.set$SNP.Chr, \":\", overlap.set$SNP.Pos)))"
   ]
  },
  {
   "cell_type": "markdown",
   "id": "cd572c0b-c5e1-4967-8313-9dd509fc4e7b",
   "metadata": {},
   "source": [
    "There are 348 eGenes that have at least one eSNP present in at least one DA peak."
   ]
  },
  {
   "cell_type": "code",
   "execution_count": 110,
   "id": "21f6a262-6d3d-420a-87fb-6c7c19aebb3d",
   "metadata": {},
   "outputs": [
    {
     "data": {
      "text/html": [
       "348"
      ],
      "text/latex": [
       "348"
      ],
      "text/markdown": [
       "348"
      ],
      "text/plain": [
       "[1] 348"
      ]
     },
     "metadata": {},
     "output_type": "display_data"
    }
   ],
   "source": [
    "length(unique(overlap.set$eQTL.Gene))"
   ]
  },
  {
   "cell_type": "code",
   "execution_count": null,
   "id": "75337774-b020-479c-8584-fa3f8602a484",
   "metadata": {},
   "outputs": [],
   "source": []
  }
 ],
 "metadata": {
  "kernelspec": {
   "display_name": "R",
   "language": "R",
   "name": "ir"
  },
  "language_info": {
   "codemirror_mode": "r",
   "file_extension": ".r",
   "mimetype": "text/x-r-source",
   "name": "R",
   "pygments_lexer": "r",
   "version": "4.0.5"
  }
 },
 "nbformat": 4,
 "nbformat_minor": 5
}
