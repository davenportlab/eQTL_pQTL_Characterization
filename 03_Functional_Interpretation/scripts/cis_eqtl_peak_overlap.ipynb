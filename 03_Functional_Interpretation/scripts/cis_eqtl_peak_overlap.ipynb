{
 "cells": [
  {
   "cell_type": "markdown",
   "id": "e730ccc2-9a2a-40cd-b566-01c7b35f4137",
   "metadata": {},
   "source": [
    "# Cis-eQTL Peak Overlap\n",
    "\n",
    "**Created**: 14 December 2021"
   ]
  },
  {
   "cell_type": "markdown",
   "id": "ad84c6ff-2e0d-4617-bf33-8cadee58bd01",
   "metadata": {
    "tags": []
   },
   "source": [
    "## Environment"
   ]
  },
  {
   "cell_type": "code",
   "execution_count": 1,
   "id": "3d68d390-91e8-4b4a-acb6-b7ad3dc202de",
   "metadata": {},
   "outputs": [
    {
     "name": "stderr",
     "output_type": "stream",
     "text": [
      "── \u001b[1mAttaching packages\u001b[22m ──────────────────────────────────────────────────────────────────────────────────────────────────────────────────────────────────────────────────────────────────────────── tidyverse 1.3.1 ──\n",
      "\n",
      "\u001b[32m✔\u001b[39m \u001b[34mggplot2\u001b[39m 3.3.5     \u001b[32m✔\u001b[39m \u001b[34mpurrr  \u001b[39m 0.3.4\n",
      "\u001b[32m✔\u001b[39m \u001b[34mtibble \u001b[39m 3.1.6     \u001b[32m✔\u001b[39m \u001b[34mdplyr  \u001b[39m 1.0.7\n",
      "\u001b[32m✔\u001b[39m \u001b[34mtidyr  \u001b[39m 1.1.4     \u001b[32m✔\u001b[39m \u001b[34mstringr\u001b[39m 1.4.0\n",
      "\u001b[32m✔\u001b[39m \u001b[34mreadr  \u001b[39m 2.1.1     \u001b[32m✔\u001b[39m \u001b[34mforcats\u001b[39m 0.5.1\n",
      "\n",
      "── \u001b[1mConflicts\u001b[22m ─────────────────────────────────────────────────────────────────────────────────────────────────────────────────────────────────────────────────────────────────────────────── tidyverse_conflicts() ──\n",
      "\u001b[31m✖\u001b[39m \u001b[34mdplyr\u001b[39m::\u001b[32mfilter()\u001b[39m masks \u001b[34mstats\u001b[39m::filter()\n",
      "\u001b[31m✖\u001b[39m \u001b[34mdplyr\u001b[39m::\u001b[32mlag()\u001b[39m    masks \u001b[34mstats\u001b[39m::lag()\n",
      "\n",
      "\n",
      "Attaching package: ‘data.table’\n",
      "\n",
      "\n",
      "The following objects are masked from ‘package:dplyr’:\n",
      "\n",
      "    between, first, last\n",
      "\n",
      "\n",
      "The following object is masked from ‘package:purrr’:\n",
      "\n",
      "    transpose\n",
      "\n",
      "\n",
      "Loading required package: stats4\n",
      "\n",
      "Loading required package: BiocGenerics\n",
      "\n",
      "\n",
      "Attaching package: ‘BiocGenerics’\n",
      "\n",
      "\n",
      "The following objects are masked from ‘package:parallel’:\n",
      "\n",
      "    clusterApply, clusterApplyLB, clusterCall, clusterEvalQ,\n",
      "    clusterExport, clusterMap, parApply, parCapply, parLapply,\n",
      "    parLapplyLB, parRapply, parSapply, parSapplyLB\n",
      "\n",
      "\n",
      "The following objects are masked from ‘package:dplyr’:\n",
      "\n",
      "    combine, intersect, setdiff, union\n",
      "\n",
      "\n",
      "The following objects are masked from ‘package:stats’:\n",
      "\n",
      "    IQR, mad, sd, var, xtabs\n",
      "\n",
      "\n",
      "The following objects are masked from ‘package:base’:\n",
      "\n",
      "    anyDuplicated, append, as.data.frame, basename, cbind, colnames,\n",
      "    dirname, do.call, duplicated, eval, evalq, Filter, Find, get, grep,\n",
      "    grepl, intersect, is.unsorted, lapply, Map, mapply, match, mget,\n",
      "    order, paste, pmax, pmax.int, pmin, pmin.int, Position, rank,\n",
      "    rbind, Reduce, rownames, sapply, setdiff, sort, table, tapply,\n",
      "    union, unique, unsplit, which.max, which.min\n",
      "\n",
      "\n",
      "Loading required package: S4Vectors\n",
      "\n",
      "\n",
      "Attaching package: ‘S4Vectors’\n",
      "\n",
      "\n",
      "The following objects are masked from ‘package:data.table’:\n",
      "\n",
      "    first, second\n",
      "\n",
      "\n",
      "The following objects are masked from ‘package:dplyr’:\n",
      "\n",
      "    first, rename\n",
      "\n",
      "\n",
      "The following object is masked from ‘package:tidyr’:\n",
      "\n",
      "    expand\n",
      "\n",
      "\n",
      "The following object is masked from ‘package:base’:\n",
      "\n",
      "    expand.grid\n",
      "\n",
      "\n",
      "Loading required package: IRanges\n",
      "\n",
      "\n",
      "Attaching package: ‘IRanges’\n",
      "\n",
      "\n",
      "The following object is masked from ‘package:data.table’:\n",
      "\n",
      "    shift\n",
      "\n",
      "\n",
      "The following objects are masked from ‘package:dplyr’:\n",
      "\n",
      "    collapse, desc, slice\n",
      "\n",
      "\n",
      "The following object is masked from ‘package:purrr’:\n",
      "\n",
      "    reduce\n",
      "\n",
      "\n",
      "Loading required package: GenomeInfoDb\n",
      "\n"
     ]
    }
   ],
   "source": [
    "library(tidyverse)\n",
    "library(data.table)\n",
    "library(parallel)\n",
    "library(GenomicRanges)\n",
    "\n",
    "setwd(\"~/eQTL_pQTL_Characterization\")\n",
    "\n",
    "source(\"03_Functional_Interpretation/scripts/utils/ggplot_theme.R\")"
   ]
  },
  {
   "cell_type": "markdown",
   "id": "9f41b135-c87c-4ba5-a681-a46895db40bd",
   "metadata": {},
   "source": [
    "## Load Data"
   ]
  },
  {
   "cell_type": "code",
   "execution_count": 2,
   "id": "d9547e08-6340-4f1c-8381-cbe71f4fa558",
   "metadata": {},
   "outputs": [],
   "source": [
    "cis.eqtl <- readRDS(\"/nfs/users/nfs_n/nm18/gains_team282/eqtl/cisresults/cisqtl_all_significant.rds\")"
   ]
  },
  {
   "cell_type": "code",
   "execution_count": 3,
   "id": "f12c3acb-e5cb-425c-8fc5-52545630e251",
   "metadata": {},
   "outputs": [
    {
     "data": {
      "text/html": [
       "<table class=\"dataframe\">\n",
       "<caption>A data.table: 6 × 10</caption>\n",
       "<thead>\n",
       "\t<tr><th scope=col>snps</th><th scope=col>gene</th><th scope=col>statistic</th><th scope=col>pvalue</th><th scope=col>beta</th><th scope=col>se</th><th scope=col>chr</th><th scope=col>SNPpos</th><th scope=col>TSS</th><th scope=col>threshold</th></tr>\n",
       "\t<tr><th scope=col>&lt;chr&gt;</th><th scope=col>&lt;chr&gt;</th><th scope=col>&lt;dbl&gt;</th><th scope=col>&lt;dbl&gt;</th><th scope=col>&lt;dbl&gt;</th><th scope=col>&lt;dbl&gt;</th><th scope=col>&lt;int&gt;</th><th scope=col>&lt;int&gt;</th><th scope=col>&lt;int&gt;</th><th scope=col>&lt;dbl&gt;</th></tr>\n",
       "</thead>\n",
       "<tbody>\n",
       "\t<tr><td>rs4987343</td><td>ENSG00000000457</td><td>-4.152142</td><td>3.720893e-05</td><td>-0.04958163</td><td>0.01194122</td><td>1</td><td>169699715</td><td>169894267</td><td>3.873864e-05</td></tr>\n",
       "\t<tr><td>rs4987340</td><td>ENSG00000000457</td><td>-4.240369</td><td>2.546937e-05</td><td>-0.05063396</td><td>0.01194093</td><td>1</td><td>169700002</td><td>169894267</td><td>3.873864e-05</td></tr>\n",
       "\t<tr><td>rs2298899</td><td>ENSG00000000457</td><td> 4.176920</td><td>3.365090e-05</td><td> 0.05505924</td><td>0.01318178</td><td>1</td><td>169700591</td><td>169894267</td><td>3.873864e-05</td></tr>\n",
       "\t<tr><td>rs4987328</td><td>ENSG00000000457</td><td> 4.252010</td><td>2.432691e-05</td><td> 0.05597519</td><td>0.01316441</td><td>1</td><td>169701315</td><td>169894267</td><td>3.873864e-05</td></tr>\n",
       "\t<tr><td>rs4987327</td><td>ENSG00000000457</td><td>-4.218194</td><td>2.799604e-05</td><td>-0.05023696</td><td>0.01190959</td><td>1</td><td>169701799</td><td>169894267</td><td>3.873864e-05</td></tr>\n",
       "\t<tr><td>rs4987326</td><td>ENSG00000000457</td><td>-4.218194</td><td>2.799604e-05</td><td>-0.05023696</td><td>0.01190959</td><td>1</td><td>169701800</td><td>169894267</td><td>3.873864e-05</td></tr>\n",
       "</tbody>\n",
       "</table>\n"
      ],
      "text/latex": [
       "A data.table: 6 × 10\n",
       "\\begin{tabular}{llllllllll}\n",
       " snps & gene & statistic & pvalue & beta & se & chr & SNPpos & TSS & threshold\\\\\n",
       " <chr> & <chr> & <dbl> & <dbl> & <dbl> & <dbl> & <int> & <int> & <int> & <dbl>\\\\\n",
       "\\hline\n",
       "\t rs4987343 & ENSG00000000457 & -4.152142 & 3.720893e-05 & -0.04958163 & 0.01194122 & 1 & 169699715 & 169894267 & 3.873864e-05\\\\\n",
       "\t rs4987340 & ENSG00000000457 & -4.240369 & 2.546937e-05 & -0.05063396 & 0.01194093 & 1 & 169700002 & 169894267 & 3.873864e-05\\\\\n",
       "\t rs2298899 & ENSG00000000457 &  4.176920 & 3.365090e-05 &  0.05505924 & 0.01318178 & 1 & 169700591 & 169894267 & 3.873864e-05\\\\\n",
       "\t rs4987328 & ENSG00000000457 &  4.252010 & 2.432691e-05 &  0.05597519 & 0.01316441 & 1 & 169701315 & 169894267 & 3.873864e-05\\\\\n",
       "\t rs4987327 & ENSG00000000457 & -4.218194 & 2.799604e-05 & -0.05023696 & 0.01190959 & 1 & 169701799 & 169894267 & 3.873864e-05\\\\\n",
       "\t rs4987326 & ENSG00000000457 & -4.218194 & 2.799604e-05 & -0.05023696 & 0.01190959 & 1 & 169701800 & 169894267 & 3.873864e-05\\\\\n",
       "\\end{tabular}\n"
      ],
      "text/markdown": [
       "\n",
       "A data.table: 6 × 10\n",
       "\n",
       "| snps &lt;chr&gt; | gene &lt;chr&gt; | statistic &lt;dbl&gt; | pvalue &lt;dbl&gt; | beta &lt;dbl&gt; | se &lt;dbl&gt; | chr &lt;int&gt; | SNPpos &lt;int&gt; | TSS &lt;int&gt; | threshold &lt;dbl&gt; |\n",
       "|---|---|---|---|---|---|---|---|---|---|\n",
       "| rs4987343 | ENSG00000000457 | -4.152142 | 3.720893e-05 | -0.04958163 | 0.01194122 | 1 | 169699715 | 169894267 | 3.873864e-05 |\n",
       "| rs4987340 | ENSG00000000457 | -4.240369 | 2.546937e-05 | -0.05063396 | 0.01194093 | 1 | 169700002 | 169894267 | 3.873864e-05 |\n",
       "| rs2298899 | ENSG00000000457 |  4.176920 | 3.365090e-05 |  0.05505924 | 0.01318178 | 1 | 169700591 | 169894267 | 3.873864e-05 |\n",
       "| rs4987328 | ENSG00000000457 |  4.252010 | 2.432691e-05 |  0.05597519 | 0.01316441 | 1 | 169701315 | 169894267 | 3.873864e-05 |\n",
       "| rs4987327 | ENSG00000000457 | -4.218194 | 2.799604e-05 | -0.05023696 | 0.01190959 | 1 | 169701799 | 169894267 | 3.873864e-05 |\n",
       "| rs4987326 | ENSG00000000457 | -4.218194 | 2.799604e-05 | -0.05023696 | 0.01190959 | 1 | 169701800 | 169894267 | 3.873864e-05 |\n",
       "\n"
      ],
      "text/plain": [
       "  snps      gene            statistic pvalue       beta        se         chr\n",
       "1 rs4987343 ENSG00000000457 -4.152142 3.720893e-05 -0.04958163 0.01194122 1  \n",
       "2 rs4987340 ENSG00000000457 -4.240369 2.546937e-05 -0.05063396 0.01194093 1  \n",
       "3 rs2298899 ENSG00000000457  4.176920 3.365090e-05  0.05505924 0.01318178 1  \n",
       "4 rs4987328 ENSG00000000457  4.252010 2.432691e-05  0.05597519 0.01316441 1  \n",
       "5 rs4987327 ENSG00000000457 -4.218194 2.799604e-05 -0.05023696 0.01190959 1  \n",
       "6 rs4987326 ENSG00000000457 -4.218194 2.799604e-05 -0.05023696 0.01190959 1  \n",
       "  SNPpos    TSS       threshold   \n",
       "1 169699715 169894267 3.873864e-05\n",
       "2 169700002 169894267 3.873864e-05\n",
       "3 169700591 169894267 3.873864e-05\n",
       "4 169701315 169894267 3.873864e-05\n",
       "5 169701799 169894267 3.873864e-05\n",
       "6 169701800 169894267 3.873864e-05"
      ]
     },
     "metadata": {},
     "output_type": "display_data"
    }
   ],
   "source": [
    "head(cis.eqtl)"
   ]
  },
  {
   "cell_type": "code",
   "execution_count": 4,
   "id": "fa1f9429-067b-4966-9699-17d1985460c0",
   "metadata": {},
   "outputs": [],
   "source": [
    "geno <- fread(\"~/gains_team282/Genotyping/All_genotyping_merged_filtered_b38_refiltered_rsID.bim\")\n",
    "colnames(geno) <- c(\"chr\", \"snp\", \"cM\", \"pos\", \"minor\", \"major\")"
   ]
  },
  {
   "cell_type": "code",
   "execution_count": 5,
   "id": "90a0b978-63f1-4ef6-8cc0-3d5f7a92443a",
   "metadata": {},
   "outputs": [
    {
     "data": {
      "text/html": [
       "<table class=\"dataframe\">\n",
       "<caption>A data.table: 6 × 6</caption>\n",
       "<thead>\n",
       "\t<tr><th scope=col>chr</th><th scope=col>snp</th><th scope=col>cM</th><th scope=col>pos</th><th scope=col>minor</th><th scope=col>major</th></tr>\n",
       "\t<tr><th scope=col>&lt;chr&gt;</th><th scope=col>&lt;chr&gt;</th><th scope=col>&lt;int&gt;</th><th scope=col>&lt;int&gt;</th><th scope=col>&lt;chr&gt;</th><th scope=col>&lt;chr&gt;</th></tr>\n",
       "</thead>\n",
       "<tbody>\n",
       "\t<tr><td>1</td><td>rs3131972   </td><td>0</td><td>817341</td><td>A</td><td>G</td></tr>\n",
       "\t<tr><td>1</td><td>rs546843995 </td><td>0</td><td>818053</td><td>0</td><td>G</td></tr>\n",
       "\t<tr><td>1</td><td>rs553916047 </td><td>0</td><td>818359</td><td>0</td><td>A</td></tr>\n",
       "\t<tr><td>1</td><td>1:818740_T_C</td><td>0</td><td>818740</td><td>T</td><td>C</td></tr>\n",
       "\t<tr><td>1</td><td>rs145604921 </td><td>0</td><td>819378</td><td>0</td><td>C</td></tr>\n",
       "\t<tr><td>1</td><td>rs535256652 </td><td>0</td><td>821053</td><td>0</td><td>T</td></tr>\n",
       "</tbody>\n",
       "</table>\n"
      ],
      "text/latex": [
       "A data.table: 6 × 6\n",
       "\\begin{tabular}{llllll}\n",
       " chr & snp & cM & pos & minor & major\\\\\n",
       " <chr> & <chr> & <int> & <int> & <chr> & <chr>\\\\\n",
       "\\hline\n",
       "\t 1 & rs3131972    & 0 & 817341 & A & G\\\\\n",
       "\t 1 & rs546843995  & 0 & 818053 & 0 & G\\\\\n",
       "\t 1 & rs553916047  & 0 & 818359 & 0 & A\\\\\n",
       "\t 1 & 1:818740\\_T\\_C & 0 & 818740 & T & C\\\\\n",
       "\t 1 & rs145604921  & 0 & 819378 & 0 & C\\\\\n",
       "\t 1 & rs535256652  & 0 & 821053 & 0 & T\\\\\n",
       "\\end{tabular}\n"
      ],
      "text/markdown": [
       "\n",
       "A data.table: 6 × 6\n",
       "\n",
       "| chr &lt;chr&gt; | snp &lt;chr&gt; | cM &lt;int&gt; | pos &lt;int&gt; | minor &lt;chr&gt; | major &lt;chr&gt; |\n",
       "|---|---|---|---|---|---|\n",
       "| 1 | rs3131972    | 0 | 817341 | A | G |\n",
       "| 1 | rs546843995  | 0 | 818053 | 0 | G |\n",
       "| 1 | rs553916047  | 0 | 818359 | 0 | A |\n",
       "| 1 | 1:818740_T_C | 0 | 818740 | T | C |\n",
       "| 1 | rs145604921  | 0 | 819378 | 0 | C |\n",
       "| 1 | rs535256652  | 0 | 821053 | 0 | T |\n",
       "\n"
      ],
      "text/plain": [
       "  chr snp          cM pos    minor major\n",
       "1 1   rs3131972    0  817341 A     G    \n",
       "2 1   rs546843995  0  818053 0     G    \n",
       "3 1   rs553916047  0  818359 0     A    \n",
       "4 1   1:818740_T_C 0  818740 T     C    \n",
       "5 1   rs145604921  0  819378 0     C    \n",
       "6 1   rs535256652  0  821053 0     T    "
      ]
     },
     "metadata": {},
     "output_type": "display_data"
    }
   ],
   "source": [
    "head(geno)"
   ]
  },
  {
   "cell_type": "code",
   "execution_count": 6,
   "id": "cca4a610-e130-4091-9c06-db0aedde36ea",
   "metadata": {},
   "outputs": [],
   "source": [
    "cis.eqtl.conditional <- readRDS(\"/nfs/users/nfs_n/nm18/gains_team282/eqtl/cisresults/conditionalanalysis/conditional_eQTL_results_final.rds\")\n",
    "cis.eqtl.conditional <- merge(cis.eqtl.conditional, geno, by.x=\"SNP\", by.y=\"snp\") %>%\n",
    "    dplyr::select(snps=SNP, gene=Gene, pvalue, beta=eQTL_beta, se=eQTL_SE, chr, SNPpos=pos) %>%\n",
    "    dplyr::mutate(pvalue=as.numeric(pvalue)) %>%\n",
    "    dplyr::mutate(beta=as.numeric(beta)) %>%\n",
    "    dplyr::mutate(se=as.numeric(se)) %>%\n",
    "    dplyr::mutate(chr=as.numeric(chr))"
   ]
  },
  {
   "cell_type": "code",
   "execution_count": 7,
   "id": "6c90dee1-7abc-4b8f-8011-e7e36dc18172",
   "metadata": {},
   "outputs": [
    {
     "data": {
      "text/html": [
       "<table class=\"dataframe\">\n",
       "<caption>A data.frame: 6 × 7</caption>\n",
       "<thead>\n",
       "\t<tr><th></th><th scope=col>snps</th><th scope=col>gene</th><th scope=col>pvalue</th><th scope=col>beta</th><th scope=col>se</th><th scope=col>chr</th><th scope=col>SNPpos</th></tr>\n",
       "\t<tr><th></th><th scope=col>&lt;chr&gt;</th><th scope=col>&lt;chr&gt;</th><th scope=col>&lt;dbl&gt;</th><th scope=col>&lt;dbl&gt;</th><th scope=col>&lt;dbl&gt;</th><th scope=col>&lt;dbl&gt;</th><th scope=col>&lt;int&gt;</th></tr>\n",
       "</thead>\n",
       "<tbody>\n",
       "\t<tr><th scope=row>1</th><td>rs10000507</td><td>ENSG00000164305</td><td>1.194703e-05</td><td>-0.05880549</td><td>0.013312181</td><td>4</td><td>184698127</td></tr>\n",
       "\t<tr><th scope=row>2</th><td>rs10000850</td><td>ENSG00000128039</td><td>7.576675e-43</td><td>-0.64265343</td><td>0.043284640</td><td>4</td><td> 55634211</td></tr>\n",
       "\t<tr><th scope=row>3</th><td>rs1000137 </td><td>ENSG00000272839</td><td>1.261994e-13</td><td>-0.17162745</td><td>0.022657505</td><td>7</td><td>157851460</td></tr>\n",
       "\t<tr><th scope=row>4</th><td>rs10001795</td><td>ENSG00000121892</td><td>2.088410e-05</td><td>-0.03630321</td><td>0.008460434</td><td>4</td><td> 40366982</td></tr>\n",
       "\t<tr><th scope=row>5</th><td>rs10004630</td><td>ENSG00000170390</td><td>1.804495e-17</td><td> 0.12054523</td><td>0.013573487</td><td>4</td><td>150065588</td></tr>\n",
       "\t<tr><th scope=row>6</th><td>rs10007349</td><td>ENSG00000038210</td><td>1.368337e-07</td><td> 0.11265677</td><td>0.021188828</td><td>4</td><td> 25224916</td></tr>\n",
       "</tbody>\n",
       "</table>\n"
      ],
      "text/latex": [
       "A data.frame: 6 × 7\n",
       "\\begin{tabular}{r|lllllll}\n",
       "  & snps & gene & pvalue & beta & se & chr & SNPpos\\\\\n",
       "  & <chr> & <chr> & <dbl> & <dbl> & <dbl> & <dbl> & <int>\\\\\n",
       "\\hline\n",
       "\t1 & rs10000507 & ENSG00000164305 & 1.194703e-05 & -0.05880549 & 0.013312181 & 4 & 184698127\\\\\n",
       "\t2 & rs10000850 & ENSG00000128039 & 7.576675e-43 & -0.64265343 & 0.043284640 & 4 &  55634211\\\\\n",
       "\t3 & rs1000137  & ENSG00000272839 & 1.261994e-13 & -0.17162745 & 0.022657505 & 7 & 157851460\\\\\n",
       "\t4 & rs10001795 & ENSG00000121892 & 2.088410e-05 & -0.03630321 & 0.008460434 & 4 &  40366982\\\\\n",
       "\t5 & rs10004630 & ENSG00000170390 & 1.804495e-17 &  0.12054523 & 0.013573487 & 4 & 150065588\\\\\n",
       "\t6 & rs10007349 & ENSG00000038210 & 1.368337e-07 &  0.11265677 & 0.021188828 & 4 &  25224916\\\\\n",
       "\\end{tabular}\n"
      ],
      "text/markdown": [
       "\n",
       "A data.frame: 6 × 7\n",
       "\n",
       "| <!--/--> | snps &lt;chr&gt; | gene &lt;chr&gt; | pvalue &lt;dbl&gt; | beta &lt;dbl&gt; | se &lt;dbl&gt; | chr &lt;dbl&gt; | SNPpos &lt;int&gt; |\n",
       "|---|---|---|---|---|---|---|---|\n",
       "| 1 | rs10000507 | ENSG00000164305 | 1.194703e-05 | -0.05880549 | 0.013312181 | 4 | 184698127 |\n",
       "| 2 | rs10000850 | ENSG00000128039 | 7.576675e-43 | -0.64265343 | 0.043284640 | 4 |  55634211 |\n",
       "| 3 | rs1000137  | ENSG00000272839 | 1.261994e-13 | -0.17162745 | 0.022657505 | 7 | 157851460 |\n",
       "| 4 | rs10001795 | ENSG00000121892 | 2.088410e-05 | -0.03630321 | 0.008460434 | 4 |  40366982 |\n",
       "| 5 | rs10004630 | ENSG00000170390 | 1.804495e-17 |  0.12054523 | 0.013573487 | 4 | 150065588 |\n",
       "| 6 | rs10007349 | ENSG00000038210 | 1.368337e-07 |  0.11265677 | 0.021188828 | 4 |  25224916 |\n",
       "\n"
      ],
      "text/plain": [
       "  snps       gene            pvalue       beta        se          chr SNPpos   \n",
       "1 rs10000507 ENSG00000164305 1.194703e-05 -0.05880549 0.013312181 4   184698127\n",
       "2 rs10000850 ENSG00000128039 7.576675e-43 -0.64265343 0.043284640 4    55634211\n",
       "3 rs1000137  ENSG00000272839 1.261994e-13 -0.17162745 0.022657505 7   157851460\n",
       "4 rs10001795 ENSG00000121892 2.088410e-05 -0.03630321 0.008460434 4    40366982\n",
       "5 rs10004630 ENSG00000170390 1.804495e-17  0.12054523 0.013573487 4   150065588\n",
       "6 rs10007349 ENSG00000038210 1.368337e-07  0.11265677 0.021188828 4    25224916"
      ]
     },
     "metadata": {},
     "output_type": "display_data"
    }
   ],
   "source": [
    "head(cis.eqtl.conditional)"
   ]
  },
  {
   "cell_type": "code",
   "execution_count": 8,
   "id": "c0240f96-b6c6-47cf-b5bc-d255d7116e8d",
   "metadata": {},
   "outputs": [],
   "source": [
    "da.peaks.ia <- read.csv(\"~/gains_team282/epigenetics/accessibility/analysis/atac_seq/da_peak_ia_set.csv\", row.names=1)"
   ]
  },
  {
   "cell_type": "code",
   "execution_count": 9,
   "id": "fbf04c92-9cf7-435b-acb6-e3df36269de9",
   "metadata": {},
   "outputs": [
    {
     "data": {
      "text/html": [
       "<table class=\"dataframe\">\n",
       "<caption>A data.frame: 6 × 12</caption>\n",
       "<thead>\n",
       "\t<tr><th></th><th scope=col>Contrast</th><th scope=col>Cell.Type</th><th scope=col>Peak.ID</th><th scope=col>Peak.Chr</th><th scope=col>Peak.Start</th><th scope=col>Peak.End</th><th scope=col>logFC</th><th scope=col>AveExpr</th><th scope=col>t</th><th scope=col>P.Value</th><th scope=col>adj.P.Val</th><th scope=col>B</th></tr>\n",
       "\t<tr><th></th><th scope=col>&lt;chr&gt;</th><th scope=col>&lt;chr&gt;</th><th scope=col>&lt;chr&gt;</th><th scope=col>&lt;chr&gt;</th><th scope=col>&lt;int&gt;</th><th scope=col>&lt;int&gt;</th><th scope=col>&lt;dbl&gt;</th><th scope=col>&lt;dbl&gt;</th><th scope=col>&lt;dbl&gt;</th><th scope=col>&lt;dbl&gt;</th><th scope=col>&lt;dbl&gt;</th><th scope=col>&lt;dbl&gt;</th></tr>\n",
       "</thead>\n",
       "<tbody>\n",
       "\t<tr><th scope=row>1</th><td>Bulk_B_Stimulated-Bulk_B_Baseline</td><td>Bulk_B</td><td>9:99471421-99473127 </td><td>9 </td><td>99471421</td><td>99473127</td><td>4.595518</td><td>0.7066744</td><td>11.638235</td><td>1.796624e-23</td><td>9.354896e-18</td><td>40.81007</td></tr>\n",
       "\t<tr><th scope=row>2</th><td>Bulk_B_Stimulated-Bulk_B_Baseline</td><td>Bulk_B</td><td>10:90977111-90978775</td><td>10</td><td>90977111</td><td>90978775</td><td>3.274519</td><td>1.2295123</td><td>11.180137</td><td>3.607667e-22</td><td>9.392434e-17</td><td>38.71995</td></tr>\n",
       "\t<tr><th scope=row>3</th><td>Bulk_B_Stimulated-Bulk_B_Baseline</td><td>Bulk_B</td><td>21:14559004-14559721</td><td>21</td><td>14559004</td><td>14559721</td><td>4.160939</td><td>0.4478270</td><td>10.342869</td><td>8.255022e-20</td><td>1.432777e-14</td><td>33.07684</td></tr>\n",
       "\t<tr><th scope=row>4</th><td>Bulk_B_Stimulated-Bulk_B_Baseline</td><td>Bulk_B</td><td>10:5830337-5831542  </td><td>10</td><td> 5830337</td><td> 5831542</td><td>3.072278</td><td>1.2447989</td><td>10.213600</td><td>1.895638e-19</td><td>2.467614e-14</td><td>32.83041</td></tr>\n",
       "\t<tr><th scope=row>5</th><td>Bulk_B_Stimulated-Bulk_B_Baseline</td><td>Bulk_B</td><td>13:50244295-50245833</td><td>13</td><td>50244295</td><td>50245833</td><td>3.775304</td><td>3.1500103</td><td> 9.782001</td><td>2.987349e-18</td><td>3.110983e-13</td><td>30.50595</td></tr>\n",
       "\t<tr><th scope=row>6</th><td>Bulk_B_Stimulated-Bulk_B_Baseline</td><td>Bulk_B</td><td>16:19293854-19294928</td><td>16</td><td>19293854</td><td>19294928</td><td>5.096038</td><td>1.0018183</td><td> 9.643369</td><td>7.195948e-18</td><td>6.244800e-13</td><td>28.86840</td></tr>\n",
       "</tbody>\n",
       "</table>\n"
      ],
      "text/latex": [
       "A data.frame: 6 × 12\n",
       "\\begin{tabular}{r|llllllllllll}\n",
       "  & Contrast & Cell.Type & Peak.ID & Peak.Chr & Peak.Start & Peak.End & logFC & AveExpr & t & P.Value & adj.P.Val & B\\\\\n",
       "  & <chr> & <chr> & <chr> & <chr> & <int> & <int> & <dbl> & <dbl> & <dbl> & <dbl> & <dbl> & <dbl>\\\\\n",
       "\\hline\n",
       "\t1 & Bulk\\_B\\_Stimulated-Bulk\\_B\\_Baseline & Bulk\\_B & 9:99471421-99473127  & 9  & 99471421 & 99473127 & 4.595518 & 0.7066744 & 11.638235 & 1.796624e-23 & 9.354896e-18 & 40.81007\\\\\n",
       "\t2 & Bulk\\_B\\_Stimulated-Bulk\\_B\\_Baseline & Bulk\\_B & 10:90977111-90978775 & 10 & 90977111 & 90978775 & 3.274519 & 1.2295123 & 11.180137 & 3.607667e-22 & 9.392434e-17 & 38.71995\\\\\n",
       "\t3 & Bulk\\_B\\_Stimulated-Bulk\\_B\\_Baseline & Bulk\\_B & 21:14559004-14559721 & 21 & 14559004 & 14559721 & 4.160939 & 0.4478270 & 10.342869 & 8.255022e-20 & 1.432777e-14 & 33.07684\\\\\n",
       "\t4 & Bulk\\_B\\_Stimulated-Bulk\\_B\\_Baseline & Bulk\\_B & 10:5830337-5831542   & 10 &  5830337 &  5831542 & 3.072278 & 1.2447989 & 10.213600 & 1.895638e-19 & 2.467614e-14 & 32.83041\\\\\n",
       "\t5 & Bulk\\_B\\_Stimulated-Bulk\\_B\\_Baseline & Bulk\\_B & 13:50244295-50245833 & 13 & 50244295 & 50245833 & 3.775304 & 3.1500103 &  9.782001 & 2.987349e-18 & 3.110983e-13 & 30.50595\\\\\n",
       "\t6 & Bulk\\_B\\_Stimulated-Bulk\\_B\\_Baseline & Bulk\\_B & 16:19293854-19294928 & 16 & 19293854 & 19294928 & 5.096038 & 1.0018183 &  9.643369 & 7.195948e-18 & 6.244800e-13 & 28.86840\\\\\n",
       "\\end{tabular}\n"
      ],
      "text/markdown": [
       "\n",
       "A data.frame: 6 × 12\n",
       "\n",
       "| <!--/--> | Contrast &lt;chr&gt; | Cell.Type &lt;chr&gt; | Peak.ID &lt;chr&gt; | Peak.Chr &lt;chr&gt; | Peak.Start &lt;int&gt; | Peak.End &lt;int&gt; | logFC &lt;dbl&gt; | AveExpr &lt;dbl&gt; | t &lt;dbl&gt; | P.Value &lt;dbl&gt; | adj.P.Val &lt;dbl&gt; | B &lt;dbl&gt; |\n",
       "|---|---|---|---|---|---|---|---|---|---|---|---|---|\n",
       "| 1 | Bulk_B_Stimulated-Bulk_B_Baseline | Bulk_B | 9:99471421-99473127  | 9  | 99471421 | 99473127 | 4.595518 | 0.7066744 | 11.638235 | 1.796624e-23 | 9.354896e-18 | 40.81007 |\n",
       "| 2 | Bulk_B_Stimulated-Bulk_B_Baseline | Bulk_B | 10:90977111-90978775 | 10 | 90977111 | 90978775 | 3.274519 | 1.2295123 | 11.180137 | 3.607667e-22 | 9.392434e-17 | 38.71995 |\n",
       "| 3 | Bulk_B_Stimulated-Bulk_B_Baseline | Bulk_B | 21:14559004-14559721 | 21 | 14559004 | 14559721 | 4.160939 | 0.4478270 | 10.342869 | 8.255022e-20 | 1.432777e-14 | 33.07684 |\n",
       "| 4 | Bulk_B_Stimulated-Bulk_B_Baseline | Bulk_B | 10:5830337-5831542   | 10 |  5830337 |  5831542 | 3.072278 | 1.2447989 | 10.213600 | 1.895638e-19 | 2.467614e-14 | 32.83041 |\n",
       "| 5 | Bulk_B_Stimulated-Bulk_B_Baseline | Bulk_B | 13:50244295-50245833 | 13 | 50244295 | 50245833 | 3.775304 | 3.1500103 |  9.782001 | 2.987349e-18 | 3.110983e-13 | 30.50595 |\n",
       "| 6 | Bulk_B_Stimulated-Bulk_B_Baseline | Bulk_B | 16:19293854-19294928 | 16 | 19293854 | 19294928 | 5.096038 | 1.0018183 |  9.643369 | 7.195948e-18 | 6.244800e-13 | 28.86840 |\n",
       "\n"
      ],
      "text/plain": [
       "  Contrast                          Cell.Type Peak.ID              Peak.Chr\n",
       "1 Bulk_B_Stimulated-Bulk_B_Baseline Bulk_B    9:99471421-99473127  9       \n",
       "2 Bulk_B_Stimulated-Bulk_B_Baseline Bulk_B    10:90977111-90978775 10      \n",
       "3 Bulk_B_Stimulated-Bulk_B_Baseline Bulk_B    21:14559004-14559721 21      \n",
       "4 Bulk_B_Stimulated-Bulk_B_Baseline Bulk_B    10:5830337-5831542   10      \n",
       "5 Bulk_B_Stimulated-Bulk_B_Baseline Bulk_B    13:50244295-50245833 13      \n",
       "6 Bulk_B_Stimulated-Bulk_B_Baseline Bulk_B    16:19293854-19294928 16      \n",
       "  Peak.Start Peak.End logFC    AveExpr   t         P.Value      adj.P.Val   \n",
       "1 99471421   99473127 4.595518 0.7066744 11.638235 1.796624e-23 9.354896e-18\n",
       "2 90977111   90978775 3.274519 1.2295123 11.180137 3.607667e-22 9.392434e-17\n",
       "3 14559004   14559721 4.160939 0.4478270 10.342869 8.255022e-20 1.432777e-14\n",
       "4  5830337    5831542 3.072278 1.2447989 10.213600 1.895638e-19 2.467614e-14\n",
       "5 50244295   50245833 3.775304 3.1500103  9.782001 2.987349e-18 3.110983e-13\n",
       "6 19293854   19294928 5.096038 1.0018183  9.643369 7.195948e-18 6.244800e-13\n",
       "  B       \n",
       "1 40.81007\n",
       "2 38.71995\n",
       "3 33.07684\n",
       "4 32.83041\n",
       "5 30.50595\n",
       "6 28.86840"
      ]
     },
     "metadata": {},
     "output_type": "display_data"
    }
   ],
   "source": [
    "head(da.peaks.ia)"
   ]
  },
  {
   "cell_type": "code",
   "execution_count": 10,
   "id": "61daa25c-06a0-49ae-abc7-4bc23f94d93d",
   "metadata": {},
   "outputs": [],
   "source": [
    "da.peaks.rm <- read.csv(\"~/gains_team282/epigenetics/accessibility/analysis/atac_seq/da_peak_rm_set.csv\", row.names=1)"
   ]
  },
  {
   "cell_type": "code",
   "execution_count": 11,
   "id": "799f73de-c3d4-4667-abe3-586132c6b191",
   "metadata": {},
   "outputs": [
    {
     "data": {
      "text/html": [
       "<table class=\"dataframe\">\n",
       "<caption>A data.frame: 6 × 12</caption>\n",
       "<thead>\n",
       "\t<tr><th></th><th scope=col>Contrast</th><th scope=col>Treatment</th><th scope=col>Peak.ID</th><th scope=col>Peak.Chr</th><th scope=col>Peak.Start</th><th scope=col>Peak.End</th><th scope=col>logFC</th><th scope=col>AveExpr</th><th scope=col>t</th><th scope=col>P.Value</th><th scope=col>adj.P.Val</th><th scope=col>B</th></tr>\n",
       "\t<tr><th></th><th scope=col>&lt;chr&gt;</th><th scope=col>&lt;chr&gt;</th><th scope=col>&lt;chr&gt;</th><th scope=col>&lt;chr&gt;</th><th scope=col>&lt;int&gt;</th><th scope=col>&lt;int&gt;</th><th scope=col>&lt;dbl&gt;</th><th scope=col>&lt;dbl&gt;</th><th scope=col>&lt;dbl&gt;</th><th scope=col>&lt;dbl&gt;</th><th scope=col>&lt;dbl&gt;</th><th scope=col>&lt;dbl&gt;</th></tr>\n",
       "</thead>\n",
       "<tbody>\n",
       "\t<tr><th scope=row>1</th><td>BGP-Baseline</td><td>BGP</td><td>KI270544.1:31-1184   </td><td>KI270544.1</td><td>       31</td><td>     1184</td><td>-1.447298</td><td>3.947764</td><td>-9.070917</td><td>7.083231e-17</td><td>7.838988e-12</td><td>27.668634</td></tr>\n",
       "\t<tr><th scope=row>2</th><td>BGP-Baseline</td><td>BGP</td><td>12:37245731-37247489 </td><td>12        </td><td> 37245731</td><td> 37247489</td><td>-1.078930</td><td>3.817478</td><td>-7.113044</td><td>1.610547e-11</td><td>5.320069e-07</td><td>15.794319</td></tr>\n",
       "\t<tr><th scope=row>3</th><td>BGP-Baseline</td><td>BGP</td><td>9:131697297-131699134</td><td>9         </td><td>131697297</td><td>131699134</td><td> 1.213276</td><td>3.099338</td><td> 6.220933</td><td>2.495496e-09</td><td>5.640150e-05</td><td>10.932631</td></tr>\n",
       "\t<tr><th scope=row>4</th><td>BGP-Baseline</td><td>BGP</td><td>2:121609869-121612518</td><td>2         </td><td>121609869</td><td>121612518</td><td>-1.221984</td><td>3.134198</td><td>-6.165224</td><td>3.370620e-09</td><td>7.035032e-05</td><td>10.641068</td></tr>\n",
       "\t<tr><th scope=row>5</th><td>BGP-Baseline</td><td>BGP</td><td>17:81148442-81151179 </td><td>17        </td><td> 81148442</td><td> 81151179</td><td> 1.092273</td><td>3.579900</td><td> 6.001654</td><td>8.063875e-09</td><td>1.505578e-04</td><td> 9.847272</td></tr>\n",
       "\t<tr><th scope=row>6</th><td>BGP-Baseline</td><td>BGP</td><td>12:35748889-35750185 </td><td>12        </td><td> 35748889</td><td> 35750185</td><td>-1.467389</td><td>1.874208</td><td>-5.688442</td><td>4.099651e-08</td><td>7.041970e-04</td><td> 8.144965</td></tr>\n",
       "</tbody>\n",
       "</table>\n"
      ],
      "text/latex": [
       "A data.frame: 6 × 12\n",
       "\\begin{tabular}{r|llllllllllll}\n",
       "  & Contrast & Treatment & Peak.ID & Peak.Chr & Peak.Start & Peak.End & logFC & AveExpr & t & P.Value & adj.P.Val & B\\\\\n",
       "  & <chr> & <chr> & <chr> & <chr> & <int> & <int> & <dbl> & <dbl> & <dbl> & <dbl> & <dbl> & <dbl>\\\\\n",
       "\\hline\n",
       "\t1 & BGP-Baseline & BGP & KI270544.1:31-1184    & KI270544.1 &        31 &      1184 & -1.447298 & 3.947764 & -9.070917 & 7.083231e-17 & 7.838988e-12 & 27.668634\\\\\n",
       "\t2 & BGP-Baseline & BGP & 12:37245731-37247489  & 12         &  37245731 &  37247489 & -1.078930 & 3.817478 & -7.113044 & 1.610547e-11 & 5.320069e-07 & 15.794319\\\\\n",
       "\t3 & BGP-Baseline & BGP & 9:131697297-131699134 & 9          & 131697297 & 131699134 &  1.213276 & 3.099338 &  6.220933 & 2.495496e-09 & 5.640150e-05 & 10.932631\\\\\n",
       "\t4 & BGP-Baseline & BGP & 2:121609869-121612518 & 2          & 121609869 & 121612518 & -1.221984 & 3.134198 & -6.165224 & 3.370620e-09 & 7.035032e-05 & 10.641068\\\\\n",
       "\t5 & BGP-Baseline & BGP & 17:81148442-81151179  & 17         &  81148442 &  81151179 &  1.092273 & 3.579900 &  6.001654 & 8.063875e-09 & 1.505578e-04 &  9.847272\\\\\n",
       "\t6 & BGP-Baseline & BGP & 12:35748889-35750185  & 12         &  35748889 &  35750185 & -1.467389 & 1.874208 & -5.688442 & 4.099651e-08 & 7.041970e-04 &  8.144965\\\\\n",
       "\\end{tabular}\n"
      ],
      "text/markdown": [
       "\n",
       "A data.frame: 6 × 12\n",
       "\n",
       "| <!--/--> | Contrast &lt;chr&gt; | Treatment &lt;chr&gt; | Peak.ID &lt;chr&gt; | Peak.Chr &lt;chr&gt; | Peak.Start &lt;int&gt; | Peak.End &lt;int&gt; | logFC &lt;dbl&gt; | AveExpr &lt;dbl&gt; | t &lt;dbl&gt; | P.Value &lt;dbl&gt; | adj.P.Val &lt;dbl&gt; | B &lt;dbl&gt; |\n",
       "|---|---|---|---|---|---|---|---|---|---|---|---|---|\n",
       "| 1 | BGP-Baseline | BGP | KI270544.1:31-1184    | KI270544.1 |        31 |      1184 | -1.447298 | 3.947764 | -9.070917 | 7.083231e-17 | 7.838988e-12 | 27.668634 |\n",
       "| 2 | BGP-Baseline | BGP | 12:37245731-37247489  | 12         |  37245731 |  37247489 | -1.078930 | 3.817478 | -7.113044 | 1.610547e-11 | 5.320069e-07 | 15.794319 |\n",
       "| 3 | BGP-Baseline | BGP | 9:131697297-131699134 | 9          | 131697297 | 131699134 |  1.213276 | 3.099338 |  6.220933 | 2.495496e-09 | 5.640150e-05 | 10.932631 |\n",
       "| 4 | BGP-Baseline | BGP | 2:121609869-121612518 | 2          | 121609869 | 121612518 | -1.221984 | 3.134198 | -6.165224 | 3.370620e-09 | 7.035032e-05 | 10.641068 |\n",
       "| 5 | BGP-Baseline | BGP | 17:81148442-81151179  | 17         |  81148442 |  81151179 |  1.092273 | 3.579900 |  6.001654 | 8.063875e-09 | 1.505578e-04 |  9.847272 |\n",
       "| 6 | BGP-Baseline | BGP | 12:35748889-35750185  | 12         |  35748889 |  35750185 | -1.467389 | 1.874208 | -5.688442 | 4.099651e-08 | 7.041970e-04 |  8.144965 |\n",
       "\n"
      ],
      "text/plain": [
       "  Contrast     Treatment Peak.ID               Peak.Chr   Peak.Start Peak.End \n",
       "1 BGP-Baseline BGP       KI270544.1:31-1184    KI270544.1        31       1184\n",
       "2 BGP-Baseline BGP       12:37245731-37247489  12          37245731   37247489\n",
       "3 BGP-Baseline BGP       9:131697297-131699134 9          131697297  131699134\n",
       "4 BGP-Baseline BGP       2:121609869-121612518 2          121609869  121612518\n",
       "5 BGP-Baseline BGP       17:81148442-81151179  17          81148442   81151179\n",
       "6 BGP-Baseline BGP       12:35748889-35750185  12          35748889   35750185\n",
       "  logFC     AveExpr  t         P.Value      adj.P.Val    B        \n",
       "1 -1.447298 3.947764 -9.070917 7.083231e-17 7.838988e-12 27.668634\n",
       "2 -1.078930 3.817478 -7.113044 1.610547e-11 5.320069e-07 15.794319\n",
       "3  1.213276 3.099338  6.220933 2.495496e-09 5.640150e-05 10.932631\n",
       "4 -1.221984 3.134198 -6.165224 3.370620e-09 7.035032e-05 10.641068\n",
       "5  1.092273 3.579900  6.001654 8.063875e-09 1.505578e-04  9.847272\n",
       "6 -1.467389 1.874208 -5.688442 4.099651e-08 7.041970e-04  8.144965"
      ]
     },
     "metadata": {},
     "output_type": "display_data"
    }
   ],
   "source": [
    "head(da.peaks.rm)"
   ]
  },
  {
   "cell_type": "code",
   "execution_count": 64,
   "id": "97509b03-4b70-47f7-a10b-e42166213711",
   "metadata": {},
   "outputs": [],
   "source": [
    "de.genes <- read.csv(\"~/gains_team282/epigenetics/calderon_et_al/analysis/rna_seq/de_genes_set.csv\", row.names=1)"
   ]
  },
  {
   "cell_type": "code",
   "execution_count": 65,
   "id": "263ec0e7-1d52-45be-a02f-4d9551757f91",
   "metadata": {},
   "outputs": [
    {
     "data": {
      "text/html": [
       "<table class=\"dataframe\">\n",
       "<caption>A data.frame: 6 × 9</caption>\n",
       "<thead>\n",
       "\t<tr><th></th><th scope=col>Contrast</th><th scope=col>Cell.Type</th><th scope=col>Gene.ID</th><th scope=col>logFC</th><th scope=col>AveExpr</th><th scope=col>t</th><th scope=col>P.Value</th><th scope=col>adj.P.Val</th><th scope=col>B</th></tr>\n",
       "\t<tr><th></th><th scope=col>&lt;chr&gt;</th><th scope=col>&lt;chr&gt;</th><th scope=col>&lt;chr&gt;</th><th scope=col>&lt;dbl&gt;</th><th scope=col>&lt;dbl&gt;</th><th scope=col>&lt;dbl&gt;</th><th scope=col>&lt;dbl&gt;</th><th scope=col>&lt;dbl&gt;</th><th scope=col>&lt;dbl&gt;</th></tr>\n",
       "</thead>\n",
       "<tbody>\n",
       "\t<tr><th scope=row>1</th><td>Bulk_B_Stimulated-Bulk_B_Baseline</td><td>Bulk_B</td><td>ENSG00000102970</td><td>13.206387</td><td>-2.4518447</td><td>10.211362</td><td>2.641480e-18</td><td>1.200790e-13</td><td>29.29440</td></tr>\n",
       "\t<tr><th scope=row>2</th><td>Bulk_B_Stimulated-Bulk_B_Baseline</td><td>Bulk_B</td><td>ENSG00000102962</td><td>14.045698</td><td> 0.1852604</td><td> 9.370447</td><td>3.113958e-16</td><td>7.077871e-12</td><td>24.98647</td></tr>\n",
       "\t<tr><th scope=row>3</th><td>Bulk_B_Stimulated-Bulk_B_Baseline</td><td>Bulk_B</td><td>ENSG00000120129</td><td>-9.582693</td><td> 6.5374414</td><td>-9.219561</td><td>7.280905e-16</td><td>1.103276e-11</td><td>23.96340</td></tr>\n",
       "\t<tr><th scope=row>4</th><td>Bulk_B_Stimulated-Bulk_B_Baseline</td><td>Bulk_B</td><td>ENSG00000067082</td><td>-4.513358</td><td> 9.3062946</td><td>-9.104843</td><td>1.386441e-15</td><td>1.575655e-11</td><td>24.57565</td></tr>\n",
       "\t<tr><th scope=row>5</th><td>Bulk_B_Stimulated-Bulk_B_Baseline</td><td>Bulk_B</td><td>ENSG00000167414</td><td>10.289212</td><td>-1.0869950</td><td> 8.559219</td><td>2.897685e-14</td><td>2.634517e-10</td><td>20.98981</td></tr>\n",
       "\t<tr><th scope=row>6</th><td>Bulk_B_Stimulated-Bulk_B_Baseline</td><td>Bulk_B</td><td>ENSG00000157514</td><td>-8.252973</td><td> 6.0139470</td><td>-8.506161</td><td>3.885080e-14</td><td>2.943531e-10</td><td>20.60167</td></tr>\n",
       "</tbody>\n",
       "</table>\n"
      ],
      "text/latex": [
       "A data.frame: 6 × 9\n",
       "\\begin{tabular}{r|lllllllll}\n",
       "  & Contrast & Cell.Type & Gene.ID & logFC & AveExpr & t & P.Value & adj.P.Val & B\\\\\n",
       "  & <chr> & <chr> & <chr> & <dbl> & <dbl> & <dbl> & <dbl> & <dbl> & <dbl>\\\\\n",
       "\\hline\n",
       "\t1 & Bulk\\_B\\_Stimulated-Bulk\\_B\\_Baseline & Bulk\\_B & ENSG00000102970 & 13.206387 & -2.4518447 & 10.211362 & 2.641480e-18 & 1.200790e-13 & 29.29440\\\\\n",
       "\t2 & Bulk\\_B\\_Stimulated-Bulk\\_B\\_Baseline & Bulk\\_B & ENSG00000102962 & 14.045698 &  0.1852604 &  9.370447 & 3.113958e-16 & 7.077871e-12 & 24.98647\\\\\n",
       "\t3 & Bulk\\_B\\_Stimulated-Bulk\\_B\\_Baseline & Bulk\\_B & ENSG00000120129 & -9.582693 &  6.5374414 & -9.219561 & 7.280905e-16 & 1.103276e-11 & 23.96340\\\\\n",
       "\t4 & Bulk\\_B\\_Stimulated-Bulk\\_B\\_Baseline & Bulk\\_B & ENSG00000067082 & -4.513358 &  9.3062946 & -9.104843 & 1.386441e-15 & 1.575655e-11 & 24.57565\\\\\n",
       "\t5 & Bulk\\_B\\_Stimulated-Bulk\\_B\\_Baseline & Bulk\\_B & ENSG00000167414 & 10.289212 & -1.0869950 &  8.559219 & 2.897685e-14 & 2.634517e-10 & 20.98981\\\\\n",
       "\t6 & Bulk\\_B\\_Stimulated-Bulk\\_B\\_Baseline & Bulk\\_B & ENSG00000157514 & -8.252973 &  6.0139470 & -8.506161 & 3.885080e-14 & 2.943531e-10 & 20.60167\\\\\n",
       "\\end{tabular}\n"
      ],
      "text/markdown": [
       "\n",
       "A data.frame: 6 × 9\n",
       "\n",
       "| <!--/--> | Contrast &lt;chr&gt; | Cell.Type &lt;chr&gt; | Gene.ID &lt;chr&gt; | logFC &lt;dbl&gt; | AveExpr &lt;dbl&gt; | t &lt;dbl&gt; | P.Value &lt;dbl&gt; | adj.P.Val &lt;dbl&gt; | B &lt;dbl&gt; |\n",
       "|---|---|---|---|---|---|---|---|---|---|\n",
       "| 1 | Bulk_B_Stimulated-Bulk_B_Baseline | Bulk_B | ENSG00000102970 | 13.206387 | -2.4518447 | 10.211362 | 2.641480e-18 | 1.200790e-13 | 29.29440 |\n",
       "| 2 | Bulk_B_Stimulated-Bulk_B_Baseline | Bulk_B | ENSG00000102962 | 14.045698 |  0.1852604 |  9.370447 | 3.113958e-16 | 7.077871e-12 | 24.98647 |\n",
       "| 3 | Bulk_B_Stimulated-Bulk_B_Baseline | Bulk_B | ENSG00000120129 | -9.582693 |  6.5374414 | -9.219561 | 7.280905e-16 | 1.103276e-11 | 23.96340 |\n",
       "| 4 | Bulk_B_Stimulated-Bulk_B_Baseline | Bulk_B | ENSG00000067082 | -4.513358 |  9.3062946 | -9.104843 | 1.386441e-15 | 1.575655e-11 | 24.57565 |\n",
       "| 5 | Bulk_B_Stimulated-Bulk_B_Baseline | Bulk_B | ENSG00000167414 | 10.289212 | -1.0869950 |  8.559219 | 2.897685e-14 | 2.634517e-10 | 20.98981 |\n",
       "| 6 | Bulk_B_Stimulated-Bulk_B_Baseline | Bulk_B | ENSG00000157514 | -8.252973 |  6.0139470 | -8.506161 | 3.885080e-14 | 2.943531e-10 | 20.60167 |\n",
       "\n"
      ],
      "text/plain": [
       "  Contrast                          Cell.Type Gene.ID         logFC    \n",
       "1 Bulk_B_Stimulated-Bulk_B_Baseline Bulk_B    ENSG00000102970 13.206387\n",
       "2 Bulk_B_Stimulated-Bulk_B_Baseline Bulk_B    ENSG00000102962 14.045698\n",
       "3 Bulk_B_Stimulated-Bulk_B_Baseline Bulk_B    ENSG00000120129 -9.582693\n",
       "4 Bulk_B_Stimulated-Bulk_B_Baseline Bulk_B    ENSG00000067082 -4.513358\n",
       "5 Bulk_B_Stimulated-Bulk_B_Baseline Bulk_B    ENSG00000167414 10.289212\n",
       "6 Bulk_B_Stimulated-Bulk_B_Baseline Bulk_B    ENSG00000157514 -8.252973\n",
       "  AveExpr    t         P.Value      adj.P.Val    B       \n",
       "1 -2.4518447 10.211362 2.641480e-18 1.200790e-13 29.29440\n",
       "2  0.1852604  9.370447 3.113958e-16 7.077871e-12 24.98647\n",
       "3  6.5374414 -9.219561 7.280905e-16 1.103276e-11 23.96340\n",
       "4  9.3062946 -9.104843 1.386441e-15 1.575655e-11 24.57565\n",
       "5 -1.0869950  8.559219 2.897685e-14 2.634517e-10 20.98981\n",
       "6  6.0139470 -8.506161 3.885080e-14 2.943531e-10 20.60167"
      ]
     },
     "metadata": {},
     "output_type": "display_data"
    }
   ],
   "source": [
    "head(de.genes)"
   ]
  },
  {
   "cell_type": "code",
   "execution_count": 14,
   "id": "291ac9b2-36c4-4f0f-801b-a57aece7e304",
   "metadata": {},
   "outputs": [],
   "source": [
    "susie.snps <- lapply(1:23, function(chr) {\n",
    "    fread(paste0(\"~/gains_team282/nikhil/colocalization/cis_eqtl/fine_mapping/chr\", chr, \"_credible_sets.tsv\"))\n",
    "}) %>% do.call(rbind, .) %>%\n",
    "    as.data.frame() %>%\n",
    "    merge(., geno, by.x=\"SNP\", by.y=\"snp\") %>%\n",
    "    dplyr::filter(is.na(Notes))"
   ]
  },
  {
   "cell_type": "code",
   "execution_count": 15,
   "id": "0804468a-8a94-4573-a736-80cc842f2aed",
   "metadata": {},
   "outputs": [
    {
     "data": {
      "text/html": [
       "<table class=\"dataframe\">\n",
       "<caption>A data.frame: 6 × 10</caption>\n",
       "<thead>\n",
       "\t<tr><th></th><th scope=col>SNP</th><th scope=col>Gene</th><th scope=col>SNP_Prob</th><th scope=col>Credible_Set</th><th scope=col>Notes</th><th scope=col>chr</th><th scope=col>cM</th><th scope=col>pos</th><th scope=col>minor</th><th scope=col>major</th></tr>\n",
       "\t<tr><th></th><th scope=col>&lt;chr&gt;</th><th scope=col>&lt;chr&gt;</th><th scope=col>&lt;dbl&gt;</th><th scope=col>&lt;int&gt;</th><th scope=col>&lt;chr&gt;</th><th scope=col>&lt;chr&gt;</th><th scope=col>&lt;int&gt;</th><th scope=col>&lt;int&gt;</th><th scope=col>&lt;chr&gt;</th><th scope=col>&lt;chr&gt;</th></tr>\n",
       "</thead>\n",
       "<tbody>\n",
       "\t<tr><th scope=row>1</th><td>rs10000015</td><td>ENSG00000250057</td><td>0.053858494</td><td>2</td><td>NA</td><td>4</td><td>0</td><td> 83222834</td><td>G</td><td>A</td></tr>\n",
       "\t<tr><th scope=row>2</th><td>rs10000213</td><td>ENSG00000173085</td><td>0.008833020</td><td>2</td><td>NA</td><td>4</td><td>0</td><td> 83223036</td><td>G</td><td>A</td></tr>\n",
       "\t<tr><th scope=row>3</th><td>rs10000213</td><td>ENSG00000248401</td><td>0.027143350</td><td>1</td><td>NA</td><td>4</td><td>0</td><td> 83223036</td><td>G</td><td>A</td></tr>\n",
       "\t<tr><th scope=row>4</th><td>rs10000254</td><td>ENSG00000250131</td><td>0.005345686</td><td>4</td><td>NA</td><td>4</td><td>0</td><td>177495952</td><td>A</td><td>G</td></tr>\n",
       "\t<tr><th scope=row>5</th><td>rs10000271</td><td>ENSG00000173085</td><td>0.008833020</td><td>2</td><td>NA</td><td>4</td><td>0</td><td> 83223051</td><td>G</td><td>A</td></tr>\n",
       "\t<tr><th scope=row>6</th><td>rs10000271</td><td>ENSG00000248401</td><td>0.027143350</td><td>1</td><td>NA</td><td>4</td><td>0</td><td> 83223051</td><td>G</td><td>A</td></tr>\n",
       "</tbody>\n",
       "</table>\n"
      ],
      "text/latex": [
       "A data.frame: 6 × 10\n",
       "\\begin{tabular}{r|llllllllll}\n",
       "  & SNP & Gene & SNP\\_Prob & Credible\\_Set & Notes & chr & cM & pos & minor & major\\\\\n",
       "  & <chr> & <chr> & <dbl> & <int> & <chr> & <chr> & <int> & <int> & <chr> & <chr>\\\\\n",
       "\\hline\n",
       "\t1 & rs10000015 & ENSG00000250057 & 0.053858494 & 2 & NA & 4 & 0 &  83222834 & G & A\\\\\n",
       "\t2 & rs10000213 & ENSG00000173085 & 0.008833020 & 2 & NA & 4 & 0 &  83223036 & G & A\\\\\n",
       "\t3 & rs10000213 & ENSG00000248401 & 0.027143350 & 1 & NA & 4 & 0 &  83223036 & G & A\\\\\n",
       "\t4 & rs10000254 & ENSG00000250131 & 0.005345686 & 4 & NA & 4 & 0 & 177495952 & A & G\\\\\n",
       "\t5 & rs10000271 & ENSG00000173085 & 0.008833020 & 2 & NA & 4 & 0 &  83223051 & G & A\\\\\n",
       "\t6 & rs10000271 & ENSG00000248401 & 0.027143350 & 1 & NA & 4 & 0 &  83223051 & G & A\\\\\n",
       "\\end{tabular}\n"
      ],
      "text/markdown": [
       "\n",
       "A data.frame: 6 × 10\n",
       "\n",
       "| <!--/--> | SNP &lt;chr&gt; | Gene &lt;chr&gt; | SNP_Prob &lt;dbl&gt; | Credible_Set &lt;int&gt; | Notes &lt;chr&gt; | chr &lt;chr&gt; | cM &lt;int&gt; | pos &lt;int&gt; | minor &lt;chr&gt; | major &lt;chr&gt; |\n",
       "|---|---|---|---|---|---|---|---|---|---|---|\n",
       "| 1 | rs10000015 | ENSG00000250057 | 0.053858494 | 2 | NA | 4 | 0 |  83222834 | G | A |\n",
       "| 2 | rs10000213 | ENSG00000173085 | 0.008833020 | 2 | NA | 4 | 0 |  83223036 | G | A |\n",
       "| 3 | rs10000213 | ENSG00000248401 | 0.027143350 | 1 | NA | 4 | 0 |  83223036 | G | A |\n",
       "| 4 | rs10000254 | ENSG00000250131 | 0.005345686 | 4 | NA | 4 | 0 | 177495952 | A | G |\n",
       "| 5 | rs10000271 | ENSG00000173085 | 0.008833020 | 2 | NA | 4 | 0 |  83223051 | G | A |\n",
       "| 6 | rs10000271 | ENSG00000248401 | 0.027143350 | 1 | NA | 4 | 0 |  83223051 | G | A |\n",
       "\n"
      ],
      "text/plain": [
       "  SNP        Gene            SNP_Prob    Credible_Set Notes chr cM pos      \n",
       "1 rs10000015 ENSG00000250057 0.053858494 2            NA    4   0   83222834\n",
       "2 rs10000213 ENSG00000173085 0.008833020 2            NA    4   0   83223036\n",
       "3 rs10000213 ENSG00000248401 0.027143350 1            NA    4   0   83223036\n",
       "4 rs10000254 ENSG00000250131 0.005345686 4            NA    4   0  177495952\n",
       "5 rs10000271 ENSG00000173085 0.008833020 2            NA    4   0   83223051\n",
       "6 rs10000271 ENSG00000248401 0.027143350 1            NA    4   0   83223051\n",
       "  minor major\n",
       "1 G     A    \n",
       "2 G     A    \n",
       "3 G     A    \n",
       "4 A     G    \n",
       "5 G     A    \n",
       "6 G     A    "
      ]
     },
     "metadata": {},
     "output_type": "display_data"
    }
   ],
   "source": [
    "head(susie.snps)"
   ]
  },
  {
   "cell_type": "code",
   "execution_count": 16,
   "id": "188e3286-5e7e-4863-a2a9-7b1391353a74",
   "metadata": {},
   "outputs": [],
   "source": [
    "modules <- read.csv(\"~/gains_team282/nikhil/expression/gene_expression/modules.csv\")"
   ]
  },
  {
   "cell_type": "code",
   "execution_count": 17,
   "id": "15be98b0-c664-4adb-bd56-fd13de186ecd",
   "metadata": {},
   "outputs": [
    {
     "data": {
      "text/html": [
       "<table class=\"dataframe\">\n",
       "<caption>A data.frame: 6 × 2</caption>\n",
       "<thead>\n",
       "\t<tr><th></th><th scope=col>Gene</th><th scope=col>Module</th></tr>\n",
       "\t<tr><th></th><th scope=col>&lt;chr&gt;</th><th scope=col>&lt;chr&gt;</th></tr>\n",
       "</thead>\n",
       "<tbody>\n",
       "\t<tr><th scope=row>1</th><td>ENSG00000005206</td><td>Module_1</td></tr>\n",
       "\t<tr><th scope=row>2</th><td>ENSG00000005243</td><td>Module_1</td></tr>\n",
       "\t<tr><th scope=row>3</th><td>ENSG00000005448</td><td>Module_1</td></tr>\n",
       "\t<tr><th scope=row>4</th><td>ENSG00000005882</td><td>Module_1</td></tr>\n",
       "\t<tr><th scope=row>5</th><td>ENSG00000006831</td><td>Module_1</td></tr>\n",
       "\t<tr><th scope=row>6</th><td>ENSG00000007168</td><td>Module_1</td></tr>\n",
       "</tbody>\n",
       "</table>\n"
      ],
      "text/latex": [
       "A data.frame: 6 × 2\n",
       "\\begin{tabular}{r|ll}\n",
       "  & Gene & Module\\\\\n",
       "  & <chr> & <chr>\\\\\n",
       "\\hline\n",
       "\t1 & ENSG00000005206 & Module\\_1\\\\\n",
       "\t2 & ENSG00000005243 & Module\\_1\\\\\n",
       "\t3 & ENSG00000005448 & Module\\_1\\\\\n",
       "\t4 & ENSG00000005882 & Module\\_1\\\\\n",
       "\t5 & ENSG00000006831 & Module\\_1\\\\\n",
       "\t6 & ENSG00000007168 & Module\\_1\\\\\n",
       "\\end{tabular}\n"
      ],
      "text/markdown": [
       "\n",
       "A data.frame: 6 × 2\n",
       "\n",
       "| <!--/--> | Gene &lt;chr&gt; | Module &lt;chr&gt; |\n",
       "|---|---|---|\n",
       "| 1 | ENSG00000005206 | Module_1 |\n",
       "| 2 | ENSG00000005243 | Module_1 |\n",
       "| 3 | ENSG00000005448 | Module_1 |\n",
       "| 4 | ENSG00000005882 | Module_1 |\n",
       "| 5 | ENSG00000006831 | Module_1 |\n",
       "| 6 | ENSG00000007168 | Module_1 |\n",
       "\n"
      ],
      "text/plain": [
       "  Gene            Module  \n",
       "1 ENSG00000005206 Module_1\n",
       "2 ENSG00000005243 Module_1\n",
       "3 ENSG00000005448 Module_1\n",
       "4 ENSG00000005882 Module_1\n",
       "5 ENSG00000006831 Module_1\n",
       "6 ENSG00000007168 Module_1"
      ]
     },
     "metadata": {},
     "output_type": "display_data"
    }
   ],
   "source": [
    "head(modules)"
   ]
  },
  {
   "cell_type": "code",
   "execution_count": 18,
   "id": "a2b2b8f8-4379-4f03-90f9-062d903a6e96",
   "metadata": {},
   "outputs": [],
   "source": [
    "modules.k <- read.csv(\"~/gains_team282/nikhil/expression/gene_expression/connectivity.csv\", row.names=1) %>%\n",
    "    dplyr::mutate(Gene=rownames(.)) %>%\n",
    "    dplyr::select(Gene, everything())"
   ]
  },
  {
   "cell_type": "code",
   "execution_count": 19,
   "id": "f63c2f0f-52f9-4d1d-9871-ae93842e69c5",
   "metadata": {},
   "outputs": [
    {
     "data": {
      "text/html": [
       "<table class=\"dataframe\">\n",
       "<caption>A data.frame: 6 × 6</caption>\n",
       "<thead>\n",
       "\t<tr><th></th><th scope=col>Gene</th><th scope=col>kTotal</th><th scope=col>kWithin</th><th scope=col>kOut</th><th scope=col>kDiff</th><th scope=col>Module</th></tr>\n",
       "\t<tr><th></th><th scope=col>&lt;chr&gt;</th><th scope=col>&lt;dbl&gt;</th><th scope=col>&lt;dbl&gt;</th><th scope=col>&lt;dbl&gt;</th><th scope=col>&lt;dbl&gt;</th><th scope=col>&lt;chr&gt;</th></tr>\n",
       "</thead>\n",
       "<tbody>\n",
       "\t<tr><th scope=row>ENSG00000005206</th><td>ENSG00000005206</td><td>  1.049468</td><td> 0.1772570</td><td> 0.872211</td><td> -0.6949541</td><td>Module_1</td></tr>\n",
       "\t<tr><th scope=row>ENSG00000005243</th><td>ENSG00000005243</td><td>  2.683756</td><td> 0.9133589</td><td> 1.770397</td><td> -0.8570383</td><td>Module_1</td></tr>\n",
       "\t<tr><th scope=row>ENSG00000005448</th><td>ENSG00000005448</td><td> 37.330885</td><td>10.0754519</td><td>27.255433</td><td>-17.1799815</td><td>Module_1</td></tr>\n",
       "\t<tr><th scope=row>ENSG00000005882</th><td>ENSG00000005882</td><td> 23.359089</td><td> 7.4443633</td><td>15.914725</td><td> -8.4703620</td><td>Module_1</td></tr>\n",
       "\t<tr><th scope=row>ENSG00000006831</th><td>ENSG00000006831</td><td> 32.531601</td><td> 7.8306678</td><td>24.700933</td><td>-16.8702653</td><td>Module_1</td></tr>\n",
       "\t<tr><th scope=row>ENSG00000007168</th><td>ENSG00000007168</td><td>148.382104</td><td>61.2871751</td><td>87.094929</td><td>-25.8077538</td><td>Module_1</td></tr>\n",
       "</tbody>\n",
       "</table>\n"
      ],
      "text/latex": [
       "A data.frame: 6 × 6\n",
       "\\begin{tabular}{r|llllll}\n",
       "  & Gene & kTotal & kWithin & kOut & kDiff & Module\\\\\n",
       "  & <chr> & <dbl> & <dbl> & <dbl> & <dbl> & <chr>\\\\\n",
       "\\hline\n",
       "\tENSG00000005206 & ENSG00000005206 &   1.049468 &  0.1772570 &  0.872211 &  -0.6949541 & Module\\_1\\\\\n",
       "\tENSG00000005243 & ENSG00000005243 &   2.683756 &  0.9133589 &  1.770397 &  -0.8570383 & Module\\_1\\\\\n",
       "\tENSG00000005448 & ENSG00000005448 &  37.330885 & 10.0754519 & 27.255433 & -17.1799815 & Module\\_1\\\\\n",
       "\tENSG00000005882 & ENSG00000005882 &  23.359089 &  7.4443633 & 15.914725 &  -8.4703620 & Module\\_1\\\\\n",
       "\tENSG00000006831 & ENSG00000006831 &  32.531601 &  7.8306678 & 24.700933 & -16.8702653 & Module\\_1\\\\\n",
       "\tENSG00000007168 & ENSG00000007168 & 148.382104 & 61.2871751 & 87.094929 & -25.8077538 & Module\\_1\\\\\n",
       "\\end{tabular}\n"
      ],
      "text/markdown": [
       "\n",
       "A data.frame: 6 × 6\n",
       "\n",
       "| <!--/--> | Gene &lt;chr&gt; | kTotal &lt;dbl&gt; | kWithin &lt;dbl&gt; | kOut &lt;dbl&gt; | kDiff &lt;dbl&gt; | Module &lt;chr&gt; |\n",
       "|---|---|---|---|---|---|---|\n",
       "| ENSG00000005206 | ENSG00000005206 |   1.049468 |  0.1772570 |  0.872211 |  -0.6949541 | Module_1 |\n",
       "| ENSG00000005243 | ENSG00000005243 |   2.683756 |  0.9133589 |  1.770397 |  -0.8570383 | Module_1 |\n",
       "| ENSG00000005448 | ENSG00000005448 |  37.330885 | 10.0754519 | 27.255433 | -17.1799815 | Module_1 |\n",
       "| ENSG00000005882 | ENSG00000005882 |  23.359089 |  7.4443633 | 15.914725 |  -8.4703620 | Module_1 |\n",
       "| ENSG00000006831 | ENSG00000006831 |  32.531601 |  7.8306678 | 24.700933 | -16.8702653 | Module_1 |\n",
       "| ENSG00000007168 | ENSG00000007168 | 148.382104 | 61.2871751 | 87.094929 | -25.8077538 | Module_1 |\n",
       "\n"
      ],
      "text/plain": [
       "                Gene            kTotal     kWithin    kOut      kDiff      \n",
       "ENSG00000005206 ENSG00000005206   1.049468  0.1772570  0.872211  -0.6949541\n",
       "ENSG00000005243 ENSG00000005243   2.683756  0.9133589  1.770397  -0.8570383\n",
       "ENSG00000005448 ENSG00000005448  37.330885 10.0754519 27.255433 -17.1799815\n",
       "ENSG00000005882 ENSG00000005882  23.359089  7.4443633 15.914725  -8.4703620\n",
       "ENSG00000006831 ENSG00000006831  32.531601  7.8306678 24.700933 -16.8702653\n",
       "ENSG00000007168 ENSG00000007168 148.382104 61.2871751 87.094929 -25.8077538\n",
       "                Module  \n",
       "ENSG00000005206 Module_1\n",
       "ENSG00000005243 Module_1\n",
       "ENSG00000005448 Module_1\n",
       "ENSG00000005882 Module_1\n",
       "ENSG00000006831 Module_1\n",
       "ENSG00000007168 Module_1"
      ]
     },
     "metadata": {},
     "output_type": "display_data"
    }
   ],
   "source": [
    "head(modules.k)"
   ]
  },
  {
   "cell_type": "code",
   "execution_count": 20,
   "id": "2e14e4b1-0122-4ac5-80a9-f2619ecde39b",
   "metadata": {},
   "outputs": [],
   "source": [
    "load.up.motifs <- function(cell.type) {\n",
    "    \n",
    "    file.path = paste0(\"~/gains_team282/epigenetics/calderon_et_al/analysis/atac_seq/homer/\", cell.type, \"/\", cell.type, \".up.motifs.tsv\")\n",
    "    \n",
    "    if (file.info(file.path)$size == 0) {\n",
    "        return(data.frame())\n",
    "    }\n",
    "\n",
    "    fread(cmd=paste0(\"grep -v '^#' \", file.path), sep=\"\\t\", header=T) %>%\n",
    "        as.data.frame() %>%\n",
    "        dplyr::mutate(Factor=gsub(\"^[^.]+\\\\.[^.]+\\\\.\", \"\", motif_alt_id)) %>%\n",
    "        dplyr::mutate(Motif.Chr=sapply(strsplit(sequence_name, \":\"), function(x) { x[1] })) %>%\n",
    "        dplyr::mutate(Peak.Range=sapply(strsplit(sequence_name, \":\"), function(x) { x[2] })) %>%\n",
    "        dplyr::mutate(Peak.Start=as.numeric(sapply(strsplit(Peak.Range, \"-\"), function(x) { x[1] }))) %>%\n",
    "        dplyr::mutate(Motif.Start=Peak.Start + start) %>%\n",
    "        dplyr::mutate(Motif.End=Peak.Start + stop) %>%\n",
    "        dplyr::mutate(Cell.Type=cell.type) %>%\n",
    "        dplyr::select(Cell.Type, Factor, everything(), -start, -stop, -Peak.Range, -Peak.Start)\n",
    "}"
   ]
  },
  {
   "cell_type": "code",
   "execution_count": 21,
   "id": "678c8ad0-74ca-4d22-a845-ff265630cd25",
   "metadata": {},
   "outputs": [],
   "source": [
    "load.down.motifs <- function(cell.type) {\n",
    "    \n",
    "    file.path = paste0(\"~/gains_team282/epigenetics/calderon_et_al/analysis/atac_seq/homer/\", cell.type, \"/\", cell.type, \".down.motifs.tsv\")\n",
    "    \n",
    "    if (file.info(file.path)$size == 0) {\n",
    "        return(data.frame())\n",
    "    }\n",
    "\n",
    "    fread(cmd=paste0(\"grep -v '^#' \", file.path), sep=\"\\t\", header=T) %>%\n",
    "        as.data.frame() %>%\n",
    "        dplyr::mutate(Factor=gsub(\"^[^.]+\\\\.[^.]+\\\\.\", \"\", motif_alt_id)) %>%\n",
    "        dplyr::mutate(Motif.Chr=sapply(strsplit(sequence_name, \":\"), function(x) { x[1] })) %>%\n",
    "        dplyr::mutate(Peak.Range=sapply(strsplit(sequence_name, \":\"), function(x) { x[2] })) %>%\n",
    "        dplyr::mutate(Peak.Start=as.numeric(sapply(strsplit(Peak.Range, \"-\"), function(x) { x[1] }))) %>%\n",
    "        dplyr::mutate(Motif.Start=Peak.Start + start) %>%\n",
    "        dplyr::mutate(Motif.End=Peak.Start + stop) %>%\n",
    "        dplyr::mutate(Cell.Type=cell.type) %>%\n",
    "        dplyr::select(Cell.Type, Factor, everything(), -start, -stop, -Peak.Range, -Peak.Start)\n",
    "}"
   ]
  },
  {
   "cell_type": "markdown",
   "id": "79546cbf-0c2d-4a73-b6b4-f84c0c938272",
   "metadata": {},
   "source": [
    "## Overlap of SuSiE Credible Sets"
   ]
  },
  {
   "cell_type": "code",
   "execution_count": 45,
   "id": "401415a6-585f-473d-bb58-fa8b005590ef",
   "metadata": {},
   "outputs": [],
   "source": [
    "da.peak.ranges <- dplyr::bind_rows(\n",
    "        da.peaks.ia %>% dplyr::select(everything(), Contrast.Name=Cell.Type),\n",
    "        da.peaks.rm %>% dplyr::select(everything(), Contrast.Name=Treatment)\n",
    "    ) %>%\n",
    "    dplyr::mutate(strand=\"*\") %>%\n",
    "    dplyr::filter(Peak.Chr %in% c(1:22, \"X\")) %>%\n",
    "    makeGRangesFromDataFrame(seqnames.field=\"Peak.Chr\", start.field=\"Peak.Start\", end.field=\"Peak.End\", keep.extra.columns=T)"
   ]
  },
  {
   "cell_type": "code",
   "execution_count": 46,
   "id": "bf245112-6436-47d2-9a3e-bc53744cc579",
   "metadata": {},
   "outputs": [],
   "source": [
    "susie.snps.ranges <- susie.snps %>%\n",
    "    dplyr::mutate(strand=\"*\") %>%\n",
    "    dplyr::filter(chr %in% c(1:22, \"X\")) %>%\n",
    "    makeGRangesFromDataFrame(seqnames.field=\"chr\", start.field=\"pos\", end.field=\"pos\", keep.extra.columns=T)"
   ]
  },
  {
   "cell_type": "code",
   "execution_count": 47,
   "id": "f1888b74-d238-41b8-bcba-d1f1ca37e344",
   "metadata": {},
   "outputs": [],
   "source": [
    "overlaps <- findOverlaps(susie.snps.ranges, da.peak.ranges)"
   ]
  },
  {
   "cell_type": "code",
   "execution_count": 48,
   "id": "cd1cc675-7109-485f-bac8-7b82646192cf",
   "metadata": {},
   "outputs": [],
   "source": [
    "overlap.set <- dplyr::bind_cols(\n",
    "    as.data.frame(susie.snps.ranges[overlaps@from, ]) %>%\n",
    "        dplyr::select(SNP.Chr=seqnames, SNP.Pos=start, eQTL.Gene=Gene, Credible.Set=Credible_Set, CS.Prob=SNP_Prob),\n",
    "    as.data.frame(da.peak.ranges[overlaps@to, ]) %>%\n",
    "        dplyr::select(Peak.ID=Peak.ID, Peak.Chr=seqnames, Peak.Start=start, Peak.End=end, Peak.Width=width, Peak.Contrast=Contrast, Peak.Contrast.Name=Contrast.Name, Peak.Log.FC=logFC, Peak.P=adj.P.Val)\n",
    ")"
   ]
  },
  {
   "cell_type": "markdown",
   "id": "afff92c5-6e3f-414d-be13-3bbbe3e2a611",
   "metadata": {},
   "source": [
    "There are 3393 unique DA peaks (5.13%) with an overlapping credible set. There are 2732 credible sets (30.48%) that overlap with at least one DA peak. There are 5909 eSNPs in credible sets (3.42%) that overlap with at least one DA peak. There are 2437 eGenes (22.33%) with credible sets that overlap with at least one DA peak."
   ]
  },
  {
   "cell_type": "code",
   "execution_count": 49,
   "id": "1339da70-d1e6-490e-b83e-adaf7a13b1a3",
   "metadata": {},
   "outputs": [
    {
     "data": {
      "text/html": [
       "3393"
      ],
      "text/latex": [
       "3393"
      ],
      "text/markdown": [
       "3393"
      ],
      "text/plain": [
       "[1] 3393"
      ]
     },
     "metadata": {},
     "output_type": "display_data"
    },
    {
     "data": {
      "text/html": [
       "0.0512591965917846"
      ],
      "text/latex": [
       "0.0512591965917846"
      ],
      "text/markdown": [
       "0.0512591965917846"
      ],
      "text/plain": [
       "[1] 0.0512592"
      ]
     },
     "metadata": {},
     "output_type": "display_data"
    }
   ],
   "source": [
    "length(unique(overlap.set$Peak.ID))\n",
    "length(unique(overlap.set$Peak.ID)) / length(union(da.peaks.ia$Peak.ID, da.peaks.rm$Peak.ID))"
   ]
  },
  {
   "cell_type": "code",
   "execution_count": 50,
   "id": "86cb0b74-6342-465f-82e5-ef75a0a93a0f",
   "metadata": {},
   "outputs": [
    {
     "data": {
      "text/html": [
       "2732"
      ],
      "text/latex": [
       "2732"
      ],
      "text/markdown": [
       "2732"
      ],
      "text/plain": [
       "[1] 2732"
      ]
     },
     "metadata": {},
     "output_type": "display_data"
    },
    {
     "data": {
      "text/html": [
       "0.304774654172245"
      ],
      "text/latex": [
       "0.304774654172245"
      ],
      "text/markdown": [
       "0.304774654172245"
      ],
      "text/plain": [
       "[1] 0.3047747"
      ]
     },
     "metadata": {},
     "output_type": "display_data"
    }
   ],
   "source": [
    "length(unique(paste0(overlap.set$eQTL.Gene, \":\", overlap.set$Credible.Set)))\n",
    "length(unique(paste0(overlap.set$eQTL.Gene, \":\", overlap.set$Credible.Set))) / length(unique(paste0(susie.snps$Gene, \":\", susie.snps$Credible_Set)))"
   ]
  },
  {
   "cell_type": "code",
   "execution_count": 51,
   "id": "592f6a31-df97-4e49-b25d-1f5ffe7dcd33",
   "metadata": {},
   "outputs": [
    {
     "data": {
      "text/html": [
       "5909"
      ],
      "text/latex": [
       "5909"
      ],
      "text/markdown": [
       "5909"
      ],
      "text/plain": [
       "[1] 5909"
      ]
     },
     "metadata": {},
     "output_type": "display_data"
    },
    {
     "data": {
      "text/html": [
       "0.034246932613118"
      ],
      "text/latex": [
       "0.034246932613118"
      ],
      "text/markdown": [
       "0.034246932613118"
      ],
      "text/plain": [
       "[1] 0.03424693"
      ]
     },
     "metadata": {},
     "output_type": "display_data"
    }
   ],
   "source": [
    "length(unique(paste0(overlap.set$SNP.Chr, \":\", overlap.set$SNP.Pos)))\n",
    "length(unique(paste0(overlap.set$SNP.Chr, \":\", overlap.set$SNP.Pos))) / length(unique(paste0(susie.snps$chr, \":\", susie.snps$pos)))"
   ]
  },
  {
   "cell_type": "code",
   "execution_count": 52,
   "id": "e7176840-eb69-4018-8c46-078b1cf0b366",
   "metadata": {},
   "outputs": [
    {
     "data": {
      "text/html": [
       "2437"
      ],
      "text/latex": [
       "2437"
      ],
      "text/markdown": [
       "2437"
      ],
      "text/plain": [
       "[1] 2437"
      ]
     },
     "metadata": {},
     "output_type": "display_data"
    },
    {
     "data": {
      "text/html": [
       "0.22333211143695"
      ],
      "text/latex": [
       "0.22333211143695"
      ],
      "text/markdown": [
       "0.22333211143695"
      ],
      "text/plain": [
       "[1] 0.2233321"
      ]
     },
     "metadata": {},
     "output_type": "display_data"
    }
   ],
   "source": [
    "length(unique(overlap.set$eQTL.Gene))\n",
    "length(unique(overlap.set$eQTL.Gene)) / length(unique(cis.eqtl.conditional$gene))"
   ]
  },
  {
   "cell_type": "markdown",
   "id": "5c715d84-10c6-427a-b9b4-c194775a1040",
   "metadata": {},
   "source": [
    "Are eGenes that have overlapping credibility sets with DA peaks also DE genes?"
   ]
  },
  {
   "cell_type": "code",
   "execution_count": 70,
   "id": "35bb54a2-f0a2-45a7-b283-6dd7e8f22c2f",
   "metadata": {},
   "outputs": [
    {
     "data": {
      "text/html": [
       "478"
      ],
      "text/latex": [
       "478"
      ],
      "text/markdown": [
       "478"
      ],
      "text/plain": [
       "[1] 478"
      ]
     },
     "metadata": {},
     "output_type": "display_data"
    }
   ],
   "source": [
    "overlap.peak.genes <- merge(\n",
    "    de.genes %>%\n",
    "        dplyr::mutate(ID=paste0(Cell.Type, \":\", Gene.ID)),\n",
    "    overlap.set %>%\n",
    "        dplyr::mutate(ID=paste0(Peak.Contrast.Name, \":\", eQTL.Gene)),\n",
    "    by=\"ID\"\n",
    ")\n",
    "\n",
    "length(unique(overlap.peak.genes$Gene.ID))"
   ]
  },
  {
   "cell_type": "markdown",
   "id": "83797b0f-496d-4a92-9fad-ea885ddb9488",
   "metadata": {},
   "source": [
    "Which cell types tend to have cis-eQTL? Surprisingly, most enriched in Mature NK cells, followed by Memory Tregs, Naive CD8 T Cells, and Naive B Cells."
   ]
  },
  {
   "cell_type": "code",
   "execution_count": 63,
   "id": "df157e26-9687-4d28-9df5-32f69e5cdeca",
   "metadata": {},
   "outputs": [
    {
     "data": {
      "text/html": [
       "<table class=\"dataframe\">\n",
       "<caption>A data.frame: 20 × 4</caption>\n",
       "<thead>\n",
       "\t<tr><th scope=col>Cell.Type</th><th scope=col>DA.Peak.Count</th><th scope=col>Overlap.Count</th><th scope=col>Proportion</th></tr>\n",
       "\t<tr><th scope=col>&lt;fct&gt;</th><th scope=col>&lt;int&gt;</th><th scope=col>&lt;int&gt;</th><th scope=col>&lt;dbl&gt;</th></tr>\n",
       "</thead>\n",
       "<tbody>\n",
       "\t<tr><td>Mature_NK               </td><td>  292</td><td>  40</td><td>0.13698630</td></tr>\n",
       "\t<tr><td>Memory_Tregs            </td><td> 5776</td><td> 355</td><td>0.06146122</td></tr>\n",
       "\t<tr><td>Naive_CD8_T             </td><td> 3389</td><td> 207</td><td>0.06107996</td></tr>\n",
       "\t<tr><td>Naive_B                 </td><td> 4444</td><td> 263</td><td>0.05918092</td></tr>\n",
       "\t<tr><td>Regulatory_T            </td><td> 8766</td><td> 515</td><td>0.05874971</td></tr>\n",
       "\t<tr><td>Effector_memory_CD8pos_T</td><td>15890</td><td> 925</td><td>0.05821271</td></tr>\n",
       "\t<tr><td>Gamma_delta_T           </td><td> 4474</td><td> 260</td><td>0.05811354</td></tr>\n",
       "\t<tr><td>Naive_Teffs             </td><td>19934</td><td>1149</td><td>0.05764021</td></tr>\n",
       "\t<tr><td>Naive_Tregs             </td><td>   53</td><td>   3</td><td>0.05660377</td></tr>\n",
       "\t<tr><td>Bulk_B                  </td><td> 2343</td><td> 130</td><td>0.05548442</td></tr>\n",
       "\t<tr><td>Th17_precursors         </td><td>25923</td><td>1389</td><td>0.05358176</td></tr>\n",
       "\t<tr><td>Effector_CD4pos_T       </td><td>25194</td><td>1342</td><td>0.05326665</td></tr>\n",
       "\t<tr><td>CD8pos_T                </td><td>11672</td><td> 614</td><td>0.05260452</td></tr>\n",
       "\t<tr><td>Mem_B                   </td><td> 1738</td><td>  91</td><td>0.05235903</td></tr>\n",
       "\t<tr><td>Central_memory_CD8pos_T </td><td>17178</td><td> 896</td><td>0.05215974</td></tr>\n",
       "\t<tr><td>Follicular_T_Helper     </td><td>25000</td><td>1303</td><td>0.05212000</td></tr>\n",
       "\t<tr><td>Th1_precursors          </td><td>32167</td><td>1641</td><td>0.05101502</td></tr>\n",
       "\t<tr><td>Th2_precursors          </td><td>28193</td><td>1394</td><td>0.04944490</td></tr>\n",
       "\t<tr><td>Memory_Teffs            </td><td>32962</td><td>1619</td><td>0.04911717</td></tr>\n",
       "\t<tr><td>Monocytes               </td><td>   45</td><td>   2</td><td>0.04444444</td></tr>\n",
       "</tbody>\n",
       "</table>\n"
      ],
      "text/latex": [
       "A data.frame: 20 × 4\n",
       "\\begin{tabular}{llll}\n",
       " Cell.Type & DA.Peak.Count & Overlap.Count & Proportion\\\\\n",
       " <fct> & <int> & <int> & <dbl>\\\\\n",
       "\\hline\n",
       "\t Mature\\_NK                &   292 &   40 & 0.13698630\\\\\n",
       "\t Memory\\_Tregs             &  5776 &  355 & 0.06146122\\\\\n",
       "\t Naive\\_CD8\\_T              &  3389 &  207 & 0.06107996\\\\\n",
       "\t Naive\\_B                  &  4444 &  263 & 0.05918092\\\\\n",
       "\t Regulatory\\_T             &  8766 &  515 & 0.05874971\\\\\n",
       "\t Effector\\_memory\\_CD8pos\\_T & 15890 &  925 & 0.05821271\\\\\n",
       "\t Gamma\\_delta\\_T            &  4474 &  260 & 0.05811354\\\\\n",
       "\t Naive\\_Teffs              & 19934 & 1149 & 0.05764021\\\\\n",
       "\t Naive\\_Tregs              &    53 &    3 & 0.05660377\\\\\n",
       "\t Bulk\\_B                   &  2343 &  130 & 0.05548442\\\\\n",
       "\t Th17\\_precursors          & 25923 & 1389 & 0.05358176\\\\\n",
       "\t Effector\\_CD4pos\\_T        & 25194 & 1342 & 0.05326665\\\\\n",
       "\t CD8pos\\_T                 & 11672 &  614 & 0.05260452\\\\\n",
       "\t Mem\\_B                    &  1738 &   91 & 0.05235903\\\\\n",
       "\t Central\\_memory\\_CD8pos\\_T  & 17178 &  896 & 0.05215974\\\\\n",
       "\t Follicular\\_T\\_Helper      & 25000 & 1303 & 0.05212000\\\\\n",
       "\t Th1\\_precursors           & 32167 & 1641 & 0.05101502\\\\\n",
       "\t Th2\\_precursors           & 28193 & 1394 & 0.04944490\\\\\n",
       "\t Memory\\_Teffs             & 32962 & 1619 & 0.04911717\\\\\n",
       "\t Monocytes                &    45 &    2 & 0.04444444\\\\\n",
       "\\end{tabular}\n"
      ],
      "text/markdown": [
       "\n",
       "A data.frame: 20 × 4\n",
       "\n",
       "| Cell.Type &lt;fct&gt; | DA.Peak.Count &lt;int&gt; | Overlap.Count &lt;int&gt; | Proportion &lt;dbl&gt; |\n",
       "|---|---|---|---|\n",
       "| Mature_NK                |   292 |   40 | 0.13698630 |\n",
       "| Memory_Tregs             |  5776 |  355 | 0.06146122 |\n",
       "| Naive_CD8_T              |  3389 |  207 | 0.06107996 |\n",
       "| Naive_B                  |  4444 |  263 | 0.05918092 |\n",
       "| Regulatory_T             |  8766 |  515 | 0.05874971 |\n",
       "| Effector_memory_CD8pos_T | 15890 |  925 | 0.05821271 |\n",
       "| Gamma_delta_T            |  4474 |  260 | 0.05811354 |\n",
       "| Naive_Teffs              | 19934 | 1149 | 0.05764021 |\n",
       "| Naive_Tregs              |    53 |    3 | 0.05660377 |\n",
       "| Bulk_B                   |  2343 |  130 | 0.05548442 |\n",
       "| Th17_precursors          | 25923 | 1389 | 0.05358176 |\n",
       "| Effector_CD4pos_T        | 25194 | 1342 | 0.05326665 |\n",
       "| CD8pos_T                 | 11672 |  614 | 0.05260452 |\n",
       "| Mem_B                    |  1738 |   91 | 0.05235903 |\n",
       "| Central_memory_CD8pos_T  | 17178 |  896 | 0.05215974 |\n",
       "| Follicular_T_Helper      | 25000 | 1303 | 0.05212000 |\n",
       "| Th1_precursors           | 32167 | 1641 | 0.05101502 |\n",
       "| Th2_precursors           | 28193 | 1394 | 0.04944490 |\n",
       "| Memory_Teffs             | 32962 | 1619 | 0.04911717 |\n",
       "| Monocytes                |    45 |    2 | 0.04444444 |\n",
       "\n"
      ],
      "text/plain": [
       "   Cell.Type                DA.Peak.Count Overlap.Count Proportion\n",
       "1  Mature_NK                  292           40          0.13698630\n",
       "2  Memory_Tregs              5776          355          0.06146122\n",
       "3  Naive_CD8_T               3389          207          0.06107996\n",
       "4  Naive_B                   4444          263          0.05918092\n",
       "5  Regulatory_T              8766          515          0.05874971\n",
       "6  Effector_memory_CD8pos_T 15890          925          0.05821271\n",
       "7  Gamma_delta_T             4474          260          0.05811354\n",
       "8  Naive_Teffs              19934         1149          0.05764021\n",
       "9  Naive_Tregs                 53            3          0.05660377\n",
       "10 Bulk_B                    2343          130          0.05548442\n",
       "11 Th17_precursors          25923         1389          0.05358176\n",
       "12 Effector_CD4pos_T        25194         1342          0.05326665\n",
       "13 CD8pos_T                 11672          614          0.05260452\n",
       "14 Mem_B                     1738           91          0.05235903\n",
       "15 Central_memory_CD8pos_T  17178          896          0.05215974\n",
       "16 Follicular_T_Helper      25000         1303          0.05212000\n",
       "17 Th1_precursors           32167         1641          0.05101502\n",
       "18 Th2_precursors           28193         1394          0.04944490\n",
       "19 Memory_Teffs             32962         1619          0.04911717\n",
       "20 Monocytes                   45            2          0.04444444"
      ]
     },
     "metadata": {},
     "output_type": "display_data"
    },
    {
     "data": {
      "text/html": [
       "<table class=\"dataframe\">\n",
       "<caption>A data.frame: 3 × 4</caption>\n",
       "<thead>\n",
       "\t<tr><th scope=col>Treatment</th><th scope=col>DA.Peak.Count</th><th scope=col>Overlap.Count</th><th scope=col>Proportion</th></tr>\n",
       "\t<tr><th scope=col>&lt;fct&gt;</th><th scope=col>&lt;int&gt;</th><th scope=col>&lt;int&gt;</th><th scope=col>&lt;dbl&gt;</th></tr>\n",
       "</thead>\n",
       "<tbody>\n",
       "\t<tr><td>R848</td><td>  4</td><td> 1</td><td>0.25000000</td></tr>\n",
       "\t<tr><td>BGP </td><td> 16</td><td> 3</td><td>0.18750000</td></tr>\n",
       "\t<tr><td>WB  </td><td>958</td><td>48</td><td>0.05010438</td></tr>\n",
       "</tbody>\n",
       "</table>\n"
      ],
      "text/latex": [
       "A data.frame: 3 × 4\n",
       "\\begin{tabular}{llll}\n",
       " Treatment & DA.Peak.Count & Overlap.Count & Proportion\\\\\n",
       " <fct> & <int> & <int> & <dbl>\\\\\n",
       "\\hline\n",
       "\t R848 &   4 &  1 & 0.25000000\\\\\n",
       "\t BGP  &  16 &  3 & 0.18750000\\\\\n",
       "\t WB   & 958 & 48 & 0.05010438\\\\\n",
       "\\end{tabular}\n"
      ],
      "text/markdown": [
       "\n",
       "A data.frame: 3 × 4\n",
       "\n",
       "| Treatment &lt;fct&gt; | DA.Peak.Count &lt;int&gt; | Overlap.Count &lt;int&gt; | Proportion &lt;dbl&gt; |\n",
       "|---|---|---|---|\n",
       "| R848 |   4 |  1 | 0.25000000 |\n",
       "| BGP  |  16 |  3 | 0.18750000 |\n",
       "| WB   | 958 | 48 | 0.05010438 |\n",
       "\n"
      ],
      "text/plain": [
       "  Treatment DA.Peak.Count Overlap.Count Proportion\n",
       "1 R848        4            1            0.25000000\n",
       "2 BGP        16            3            0.18750000\n",
       "3 WB        958           48            0.05010438"
      ]
     },
     "metadata": {},
     "output_type": "display_data"
    }
   ],
   "source": [
    "da.peak.freqs.ia <- as.data.frame(table(da.peaks.ia$Cell.Type)) %>%\n",
    "    dplyr::select(Cell.Type=1, DA.Peak.Count=2)\n",
    "\n",
    "da.peak.freqs.rm <- as.data.frame(table(da.peaks.rm$Treatment)) %>%\n",
    "    dplyr::select(Treatment=1, DA.Peak.Count=2)\n",
    "\n",
    "overlap.set.peaks <- overlap.set %>%\n",
    "    dplyr::select(Peak.ID, Peak.Contrast.Name) %>%\n",
    "    unique()\n",
    "overlap.freqs <- as.data.frame(table(overlap.set.peaks$Peak.Contrast.Name)) %>%\n",
    "    dplyr::select(Contrast.Name=1, Overlap.Count=2)\n",
    "\n",
    "merge(da.peak.freqs.ia, overlap.freqs, by.x=\"Cell.Type\", by.y=\"Contrast.Name\") %>%\n",
    "    dplyr::mutate(Proportion=Overlap.Count / DA.Peak.Count) %>%\n",
    "    dplyr::arrange(desc(Proportion))\n",
    "\n",
    "merge(da.peak.freqs.rm, overlap.freqs, by.x=\"Treatment\", by.y=\"Contrast.Name\") %>%\n",
    "    dplyr::mutate(Proportion=Overlap.Count / DA.Peak.Count) %>%\n",
    "    dplyr::arrange(desc(Proportion))"
   ]
  },
  {
   "cell_type": "markdown",
   "id": "636412d9-373a-4549-a179-350bb4806be8",
   "metadata": {
    "tags": []
   },
   "source": [
    "## Overlap of Sentinel cis-eQTL\n",
    "\n",
    "First, I'll start by testing the lead SNP for each gene for overlap with DA peaks. These peaks are derived from the initial pass analysis of cis-eQTL (not the conditional analysis). A sentinel SNP is the SNP with the highest p-value for a given location, representing the SNP with the highest evidence for association with the expression of the cognate gene."
   ]
  },
  {
   "cell_type": "code",
   "execution_count": 16,
   "id": "c32a2a5f-12b8-4d6c-a704-80d5707ded0f",
   "metadata": {},
   "outputs": [],
   "source": [
    "da.peak.ranges <- dplyr::bind_rows(\n",
    "        da.peaks.ia %>% dplyr::select(everything(), -Cell.Type),\n",
    "        da.peaks.rm %>% dplyr::select(everything(), -Treatment)\n",
    "    ) %>%\n",
    "    dplyr::mutate(strand=\"*\") %>%\n",
    "    dplyr::filter(Peak.Chr %in% c(1:22, \"X\")) %>%\n",
    "    makeGRangesFromDataFrame(seqnames.field=\"Peak.Chr\", start.field=\"Peak.Start\", end.field=\"Peak.End\", keep.extra.columns=T)"
   ]
  },
  {
   "cell_type": "code",
   "execution_count": 18,
   "id": "5c3f3c1e-c9d8-4c8f-9935-16fc1bf4cb65",
   "metadata": {},
   "outputs": [],
   "source": [
    "cis.eqtl.sentinel.ranges <- cis.eqtl %>%\n",
    "    dplyr::group_by(gene) %>%\n",
    "    dplyr::slice_min(order_by=pvalue, n=1) %>%\n",
    "    dplyr::mutate(strand=\"*\") %>%\n",
    "    dplyr::mutate(chr=ifelse(chr == 23, \"X\", as.character(chr))) %>%\n",
    "    makeGRangesFromDataFrame(start.field=\"SNPpos\", end.field=\"SNPpos\", keep.extra.columns=T)"
   ]
  },
  {
   "cell_type": "code",
   "execution_count": 19,
   "id": "7f88add9-3727-4bf3-bd5b-93f91ba3f1c0",
   "metadata": {},
   "outputs": [],
   "source": [
    "overlaps <- findOverlaps(cis.eqtl.sentinel.ranges, da.peak.ranges)"
   ]
  },
  {
   "cell_type": "code",
   "execution_count": 22,
   "id": "dfc90751-362b-4f49-bb66-3f355a364fda",
   "metadata": {},
   "outputs": [],
   "source": [
    "overlap.set <- dplyr::bind_cols(\n",
    "    as.data.frame(cis.eqtl.sentinel.ranges[overlaps@from, ]) %>%\n",
    "        dplyr::select(SNP.Chr=seqnames, SNP.Pos=start, eQTL.Gene=gene, eQTL.TSS=TSS, eQTL.Beta=beta, eQTL.P=pvalue),\n",
    "    as.data.frame(da.peak.ranges[overlaps@to, ]) %>%\n",
    "        dplyr::select(Peak.ID=Peak.ID, Peak.Chr=seqnames, Peak.Start=start, Peak.End=end, Peak.Width=width, Peak.Contrast=Contrast, Peak.Log.FC=logFC, Peak.P=adj.P.Val)\n",
    ")"
   ]
  },
  {
   "cell_type": "code",
   "execution_count": 23,
   "id": "0b4e3baa-3269-466f-9e0b-4a299230aefc",
   "metadata": {},
   "outputs": [
    {
     "data": {
      "text/html": [
       "540"
      ],
      "text/latex": [
       "540"
      ],
      "text/markdown": [
       "540"
      ],
      "text/plain": [
       "[1] 540"
      ]
     },
     "metadata": {},
     "output_type": "display_data"
    }
   ],
   "source": [
    "length(unique(overlap.set$Peak.ID))"
   ]
  },
  {
   "cell_type": "code",
   "execution_count": 24,
   "id": "4e3b1142-d7b3-41e7-bcca-53b24f2cd098",
   "metadata": {},
   "outputs": [
    {
     "data": {
      "text/html": [
       "660"
      ],
      "text/latex": [
       "660"
      ],
      "text/markdown": [
       "660"
      ],
      "text/plain": [
       "[1] 660"
      ]
     },
     "metadata": {},
     "output_type": "display_data"
    }
   ],
   "source": [
    "length(unique(paste0(overlap.set$SNP.Chr, \":\", overlap.set$SNP.Pos)))"
   ]
  },
  {
   "cell_type": "code",
   "execution_count": 25,
   "id": "4804cd4f-92ce-4be2-b835-9667399c9bc5",
   "metadata": {},
   "outputs": [
    {
     "data": {
      "text/html": [
       "570"
      ],
      "text/latex": [
       "570"
      ],
      "text/markdown": [
       "570"
      ],
      "text/plain": [
       "[1] 570"
      ]
     },
     "metadata": {},
     "output_type": "display_data"
    }
   ],
   "source": [
    "length(unique(overlap.set$eQTL.Gene))"
   ]
  },
  {
   "cell_type": "markdown",
   "id": "e3c82056-975e-49b7-bab3-1ae116108537",
   "metadata": {
    "tags": []
   },
   "source": [
    "## Overlap of All Significant cis-eQTL\n",
    "\n",
    "I'll test all significant SNPs for each gene for overlap with DA peaks. These peaks are derived from the initial pass analysis of cis-eQTL (not the conditional analysis)."
   ]
  },
  {
   "cell_type": "code",
   "execution_count": 58,
   "id": "080dee02-35b3-4145-94bc-72f0b0944c7a",
   "metadata": {},
   "outputs": [],
   "source": [
    "da.peak.ranges <- da.peaks %>%\n",
    "    dplyr::mutate(strand=\"*\") %>%\n",
    "    dplyr::filter(Peak.Chr %in% c(1:22, \"X\")) %>%\n",
    "    makeGRangesFromDataFrame(seqnames.field=\"Peak.Chr\", start.field=\"Peak.Start\", end.field=\"Peak.End\", keep.extra.columns=T)"
   ]
  },
  {
   "cell_type": "code",
   "execution_count": 60,
   "id": "e0c4a0d1-9a8f-4de3-8021-753cfa15baf1",
   "metadata": {},
   "outputs": [],
   "source": [
    "cis.eqtl.ranges <- cis.eqtl %>%\n",
    "    dplyr::mutate(strand=\"*\") %>%\n",
    "    dplyr::mutate(chr=ifelse(chr == 23, \"X\", as.character(chr))) %>%\n",
    "    makeGRangesFromDataFrame(start.field=\"SNPpos\", end.field=\"SNPpos\", keep.extra.columns=T)"
   ]
  },
  {
   "cell_type": "code",
   "execution_count": 62,
   "id": "311526d0-7e0e-4350-97da-cb85d3821c79",
   "metadata": {},
   "outputs": [],
   "source": [
    "overlaps <- findOverlaps(cis.eqtl.ranges, da.peak.ranges)"
   ]
  },
  {
   "cell_type": "code",
   "execution_count": 63,
   "id": "f94c9f08-726f-4723-b16d-2d036122e632",
   "metadata": {},
   "outputs": [],
   "source": [
    "overlap.set <- dplyr::bind_cols(\n",
    "    as.data.frame(cis.eqtl.ranges[overlaps@from, ]) %>%\n",
    "        dplyr::select(SNP.Chr=seqnames, SNP.Pos=start, eQTL.Gene=gene, eQTL.TSS=TSS, eQTL.Beta=beta, eQTL.P=pvalue),\n",
    "    as.data.frame(da.peak.ranges[overlaps@to, ]) %>%\n",
    "        dplyr::select(Peak.ID=Peak.ID, Peak.Chr=seqnames, Peak.Start=start, Peak.End=end, Peak.Width=width, Peak.Cell.Type=Cell.Type, Peak.Log.FC=logFC, Peak.P=adj.P.Val)\n",
    ")"
   ]
  },
  {
   "cell_type": "markdown",
   "id": "f5aad894-2b6a-4c70-8f98-a30dfd772663",
   "metadata": {},
   "source": [
    "There are 11596 unique peaks that have a significant eSNP."
   ]
  },
  {
   "cell_type": "code",
   "execution_count": 37,
   "id": "81544d3b-b2eb-4cb5-b786-60ed1000ec79",
   "metadata": {},
   "outputs": [
    {
     "data": {
      "text/html": [
       "11596"
      ],
      "text/latex": [
       "11596"
      ],
      "text/markdown": [
       "11596"
      ],
      "text/plain": [
       "[1] 11596"
      ]
     },
     "metadata": {},
     "output_type": "display_data"
    }
   ],
   "source": [
    "length(unique(overlap.set$Peak.ID))"
   ]
  },
  {
   "cell_type": "markdown",
   "id": "6f4ca3c5-b30b-42a2-b3c7-bd83333a4d4b",
   "metadata": {},
   "source": [
    "There are 26170 eSNPs that overlap with at least one DA peak."
   ]
  },
  {
   "cell_type": "code",
   "execution_count": 38,
   "id": "7fc503f5-94f0-4c2d-bfae-54e061816e4b",
   "metadata": {},
   "outputs": [
    {
     "data": {
      "text/html": [
       "26170"
      ],
      "text/latex": [
       "26170"
      ],
      "text/markdown": [
       "26170"
      ],
      "text/plain": [
       "[1] 26170"
      ]
     },
     "metadata": {},
     "output_type": "display_data"
    }
   ],
   "source": [
    "length(unique(paste0(overlap.set$SNP.Chr, \":\", overlap.set$SNP.Pos)))"
   ]
  },
  {
   "cell_type": "markdown",
   "id": "f594c49a-fefe-493b-840f-85a7d04e8425",
   "metadata": {},
   "source": [
    "There are 6438 eGenes that have at least one eSNP present in at least one DA peak."
   ]
  },
  {
   "cell_type": "code",
   "execution_count": 39,
   "id": "74c384b3-8864-43a1-b1c0-4e0462df9ccf",
   "metadata": {},
   "outputs": [
    {
     "data": {
      "text/html": [
       "6438"
      ],
      "text/latex": [
       "6438"
      ],
      "text/markdown": [
       "6438"
      ],
      "text/plain": [
       "[1] 6438"
      ]
     },
     "metadata": {},
     "output_type": "display_data"
    }
   ],
   "source": [
    "length(unique(overlap.set$eQTL.Gene))"
   ]
  },
  {
   "cell_type": "code",
   "execution_count": 64,
   "id": "a9ea6677-ecd6-4293-a9b9-2c047e1485dd",
   "metadata": {},
   "outputs": [
    {
     "data": {
      "text/html": [
       "<table class=\"dataframe\">\n",
       "<caption>A data.frame: 17 × 4</caption>\n",
       "<thead>\n",
       "\t<tr><th scope=col>Cell.Type</th><th scope=col>DA.Peak.Count</th><th scope=col>Overlap.Count</th><th scope=col>Proportion</th></tr>\n",
       "\t<tr><th scope=col>&lt;fct&gt;</th><th scope=col>&lt;int&gt;</th><th scope=col>&lt;int&gt;</th><th scope=col>&lt;dbl&gt;</th></tr>\n",
       "</thead>\n",
       "<tbody>\n",
       "\t<tr><td>Gamma_delta_T           </td><td> 1519</td><td> 393</td><td>0.2587228</td></tr>\n",
       "\t<tr><td>Effector_CD4pos_T       </td><td>12428</td><td>3062</td><td>0.2463791</td></tr>\n",
       "\t<tr><td>CD8pos_T                </td><td> 4923</td><td>1212</td><td>0.2461913</td></tr>\n",
       "\t<tr><td>Naive_CD8_T             </td><td> 1369</td><td> 335</td><td>0.2447042</td></tr>\n",
       "\t<tr><td>Effector_memory_CD8pos_T</td><td> 6916</td><td>1658</td><td>0.2397340</td></tr>\n",
       "\t<tr><td>Memory_Tregs            </td><td> 3253</td><td> 774</td><td>0.2379342</td></tr>\n",
       "\t<tr><td>Bulk_B                  </td><td>  651</td><td> 152</td><td>0.2334869</td></tr>\n",
       "\t<tr><td>Follicular_T_Helper     </td><td>14246</td><td>3296</td><td>0.2313632</td></tr>\n",
       "\t<tr><td>Regulatory_T            </td><td> 6506</td><td>1481</td><td>0.2276360</td></tr>\n",
       "\t<tr><td>Central_memory_CD8pos_T </td><td> 9198</td><td>2091</td><td>0.2273320</td></tr>\n",
       "\t<tr><td>Th17_precursors         </td><td>16620</td><td>3759</td><td>0.2261733</td></tr>\n",
       "\t<tr><td>Naive_Teffs             </td><td>21482</td><td>4828</td><td>0.2247463</td></tr>\n",
       "\t<tr><td>Th1_precursors          </td><td>24578</td><td>5501</td><td>0.2238180</td></tr>\n",
       "\t<tr><td>Th2_precursors          </td><td>19483</td><td>4331</td><td>0.2222964</td></tr>\n",
       "\t<tr><td>Memory_Teffs            </td><td>26317</td><td>5644</td><td>0.2144621</td></tr>\n",
       "\t<tr><td>Naive_B                 </td><td> 1855</td><td> 396</td><td>0.2134771</td></tr>\n",
       "\t<tr><td>Mem_B                   </td><td>  476</td><td>  90</td><td>0.1890756</td></tr>\n",
       "</tbody>\n",
       "</table>\n"
      ],
      "text/latex": [
       "A data.frame: 17 × 4\n",
       "\\begin{tabular}{llll}\n",
       " Cell.Type & DA.Peak.Count & Overlap.Count & Proportion\\\\\n",
       " <fct> & <int> & <int> & <dbl>\\\\\n",
       "\\hline\n",
       "\t Gamma\\_delta\\_T            &  1519 &  393 & 0.2587228\\\\\n",
       "\t Effector\\_CD4pos\\_T        & 12428 & 3062 & 0.2463791\\\\\n",
       "\t CD8pos\\_T                 &  4923 & 1212 & 0.2461913\\\\\n",
       "\t Naive\\_CD8\\_T              &  1369 &  335 & 0.2447042\\\\\n",
       "\t Effector\\_memory\\_CD8pos\\_T &  6916 & 1658 & 0.2397340\\\\\n",
       "\t Memory\\_Tregs             &  3253 &  774 & 0.2379342\\\\\n",
       "\t Bulk\\_B                   &   651 &  152 & 0.2334869\\\\\n",
       "\t Follicular\\_T\\_Helper      & 14246 & 3296 & 0.2313632\\\\\n",
       "\t Regulatory\\_T             &  6506 & 1481 & 0.2276360\\\\\n",
       "\t Central\\_memory\\_CD8pos\\_T  &  9198 & 2091 & 0.2273320\\\\\n",
       "\t Th17\\_precursors          & 16620 & 3759 & 0.2261733\\\\\n",
       "\t Naive\\_Teffs              & 21482 & 4828 & 0.2247463\\\\\n",
       "\t Th1\\_precursors           & 24578 & 5501 & 0.2238180\\\\\n",
       "\t Th2\\_precursors           & 19483 & 4331 & 0.2222964\\\\\n",
       "\t Memory\\_Teffs             & 26317 & 5644 & 0.2144621\\\\\n",
       "\t Naive\\_B                  &  1855 &  396 & 0.2134771\\\\\n",
       "\t Mem\\_B                    &   476 &   90 & 0.1890756\\\\\n",
       "\\end{tabular}\n"
      ],
      "text/markdown": [
       "\n",
       "A data.frame: 17 × 4\n",
       "\n",
       "| Cell.Type &lt;fct&gt; | DA.Peak.Count &lt;int&gt; | Overlap.Count &lt;int&gt; | Proportion &lt;dbl&gt; |\n",
       "|---|---|---|---|\n",
       "| Gamma_delta_T            |  1519 |  393 | 0.2587228 |\n",
       "| Effector_CD4pos_T        | 12428 | 3062 | 0.2463791 |\n",
       "| CD8pos_T                 |  4923 | 1212 | 0.2461913 |\n",
       "| Naive_CD8_T              |  1369 |  335 | 0.2447042 |\n",
       "| Effector_memory_CD8pos_T |  6916 | 1658 | 0.2397340 |\n",
       "| Memory_Tregs             |  3253 |  774 | 0.2379342 |\n",
       "| Bulk_B                   |   651 |  152 | 0.2334869 |\n",
       "| Follicular_T_Helper      | 14246 | 3296 | 0.2313632 |\n",
       "| Regulatory_T             |  6506 | 1481 | 0.2276360 |\n",
       "| Central_memory_CD8pos_T  |  9198 | 2091 | 0.2273320 |\n",
       "| Th17_precursors          | 16620 | 3759 | 0.2261733 |\n",
       "| Naive_Teffs              | 21482 | 4828 | 0.2247463 |\n",
       "| Th1_precursors           | 24578 | 5501 | 0.2238180 |\n",
       "| Th2_precursors           | 19483 | 4331 | 0.2222964 |\n",
       "| Memory_Teffs             | 26317 | 5644 | 0.2144621 |\n",
       "| Naive_B                  |  1855 |  396 | 0.2134771 |\n",
       "| Mem_B                    |   476 |   90 | 0.1890756 |\n",
       "\n"
      ],
      "text/plain": [
       "   Cell.Type                DA.Peak.Count Overlap.Count Proportion\n",
       "1  Gamma_delta_T             1519          393          0.2587228 \n",
       "2  Effector_CD4pos_T        12428         3062          0.2463791 \n",
       "3  CD8pos_T                  4923         1212          0.2461913 \n",
       "4  Naive_CD8_T               1369          335          0.2447042 \n",
       "5  Effector_memory_CD8pos_T  6916         1658          0.2397340 \n",
       "6  Memory_Tregs              3253          774          0.2379342 \n",
       "7  Bulk_B                     651          152          0.2334869 \n",
       "8  Follicular_T_Helper      14246         3296          0.2313632 \n",
       "9  Regulatory_T              6506         1481          0.2276360 \n",
       "10 Central_memory_CD8pos_T   9198         2091          0.2273320 \n",
       "11 Th17_precursors          16620         3759          0.2261733 \n",
       "12 Naive_Teffs              21482         4828          0.2247463 \n",
       "13 Th1_precursors           24578         5501          0.2238180 \n",
       "14 Th2_precursors           19483         4331          0.2222964 \n",
       "15 Memory_Teffs             26317         5644          0.2144621 \n",
       "16 Naive_B                   1855          396          0.2134771 \n",
       "17 Mem_B                      476           90          0.1890756 "
      ]
     },
     "metadata": {},
     "output_type": "display_data"
    }
   ],
   "source": [
    "da.peak.freqs <- as.data.frame(table(da.peaks$Cell.Type)) %>%\n",
    "    dplyr::select(Cell.Type=1, DA.Peak.Count=2)\n",
    "\n",
    "overlap.set.peaks <- overlap.set %>%\n",
    "    dplyr::select(Peak.ID, Peak.Cell.Type) %>%\n",
    "    unique()\n",
    "overlap.freqs <- as.data.frame(table(overlap.set.peaks$Peak.Cell.Type)) %>%\n",
    "    dplyr::select(Cell.Type=1, Overlap.Count=2) \n",
    "\n",
    "merge(da.peak.freqs, overlap.freqs, by=\"Cell.Type\") %>%\n",
    "    dplyr::mutate(Proportion=Overlap.Count / DA.Peak.Count) %>%\n",
    "    dplyr::arrange(desc(Proportion))"
   ]
  },
  {
   "cell_type": "markdown",
   "id": "d6be968f-599b-4df6-a551-bf47f8c08c9c",
   "metadata": {},
   "source": [
    "## Overlap of Sentinel cis-eQTL (Conditional Analysis)\n",
    "\n",
    "I can combine the sentinel SNP at each locus with SNPs identified after conditional analysis (conditioning on the sentinel SNP to identify multiple signals)."
   ]
  },
  {
   "cell_type": "code",
   "execution_count": 42,
   "id": "59a222a8-cba1-4c69-8582-4e27cd1ace46",
   "metadata": {},
   "outputs": [],
   "source": [
    "da.peak.ranges <- dplyr::bind_rows(\n",
    "        da.peaks.ia %>% dplyr::select(everything(), -Cell.Type),\n",
    "        da.peaks.rm %>% dplyr::select(everything(), -Treatment)\n",
    "    ) %>%\n",
    "    dplyr::mutate(strand=\"*\") %>%\n",
    "    dplyr::filter(Peak.Chr %in% c(1:22, \"X\")) %>%\n",
    "    makeGRangesFromDataFrame(seqnames.field=\"Peak.Chr\", start.field=\"Peak.Start\", end.field=\"Peak.End\", keep.extra.columns=T)"
   ]
  },
  {
   "cell_type": "code",
   "execution_count": 43,
   "id": "eb8c8f89-49b5-49f4-8e1d-3a498c94cc9a",
   "metadata": {},
   "outputs": [],
   "source": [
    "cis.eqtl.sentinel.ranges <- dplyr::bind_rows(\n",
    "    cis.eqtl %>%\n",
    "        dplyr::group_by(gene) %>%\n",
    "        dplyr::slice_min(order_by=pvalue, n=1) %>%\n",
    "        dplyr::select(snps, gene, pvalue, beta, se, chr, SNPpos),\n",
    "    cis.eqtl.conditional %>%\n",
    "        dplyr::group_by(gene) %>%\n",
    "        dplyr::slice_min(order_by=pvalue, n=1) %>%\n",
    "        dplyr::select(snps, gene, pvalue, beta, se, chr, SNPpos)\n",
    ") %>%\n",
    "    dplyr::group_by(snps) %>%\n",
    "    dplyr::slice_min(order_by=pvalue, n=1) %>%\n",
    "    unique() %>%\n",
    "    dplyr::mutate(strand=\"*\") %>%\n",
    "    dplyr::mutate(chr=ifelse(chr == 23, \"X\", as.character(chr))) %>%\n",
    "    makeGRangesFromDataFrame(start.field=\"SNPpos\", end.field=\"SNPpos\", keep.extra.columns=T)"
   ]
  },
  {
   "cell_type": "code",
   "execution_count": 44,
   "id": "e3275715-c880-421f-adc2-f5ca7803a4e0",
   "metadata": {},
   "outputs": [],
   "source": [
    "overlaps <- findOverlaps(cis.eqtl.sentinel.ranges, da.peak.ranges)"
   ]
  },
  {
   "cell_type": "code",
   "execution_count": 49,
   "id": "619214d1-95b0-4f0e-a2dc-6d4e891b9a96",
   "metadata": {},
   "outputs": [],
   "source": [
    "overlap.set <- dplyr::bind_cols(\n",
    "    as.data.frame(cis.eqtl.sentinel.ranges[overlaps@from, ]) %>%\n",
    "        dplyr::select(SNP.Chr=seqnames, SNP.Pos=start, eQTL.Gene=gene, eQTL.Beta=beta, eQTL.P=pvalue),\n",
    "    as.data.frame(da.peak.ranges[overlaps@to, ]) %>%\n",
    "        dplyr::select(Peak.ID=Peak.ID, Peak.Chr=seqnames, Peak.Start=start, Peak.End=end, Peak.Width=width, Peak.Log.FC=logFC, Peak.P=adj.P.Val)\n",
    ")"
   ]
  },
  {
   "cell_type": "markdown",
   "id": "f74c0123-1875-4107-98e6-fbca3e75c93c",
   "metadata": {},
   "source": [
    "There are 575 unique peaks (0.87%) that have a sentinel eSNP."
   ]
  },
  {
   "cell_type": "code",
   "execution_count": 54,
   "id": "88fc5163-69a5-46e0-9c91-a40e06a3c231",
   "metadata": {},
   "outputs": [
    {
     "data": {
      "text/html": [
       "575"
      ],
      "text/latex": [
       "575"
      ],
      "text/markdown": [
       "575"
      ],
      "text/plain": [
       "[1] 575"
      ]
     },
     "metadata": {},
     "output_type": "display_data"
    },
    {
     "data": {
      "text/html": [
       "0.00868671913948605"
      ],
      "text/latex": [
       "0.00868671913948605"
      ],
      "text/markdown": [
       "0.00868671913948605"
      ],
      "text/plain": [
       "[1] 0.008686719"
      ]
     },
     "metadata": {},
     "output_type": "display_data"
    }
   ],
   "source": [
    "length(unique(overlap.set$Peak.ID))\n",
    "length(unique(overlap.set$Peak.ID)) / length(union(da.peaks.ia$Peak.ID, da.peaks.rm$Peak.ID))"
   ]
  },
  {
   "cell_type": "markdown",
   "id": "4e051769-7f6d-4b81-8eb4-2964f90ff192",
   "metadata": {},
   "source": [
    "There are 700 sentinel eSNPs (4.57%) that overlap with at least one DA peak."
   ]
  },
  {
   "cell_type": "code",
   "execution_count": 57,
   "id": "449d15ba-40df-43c5-9ce6-966b621f9be1",
   "metadata": {},
   "outputs": [
    {
     "data": {
      "text/html": [
       "700"
      ],
      "text/latex": [
       "700"
      ],
      "text/markdown": [
       "700"
      ],
      "text/plain": [
       "[1] 700"
      ]
     },
     "metadata": {},
     "output_type": "display_data"
    },
    {
     "data": {
      "text/html": [
       "0.0456919060052219"
      ],
      "text/latex": [
       "0.0456919060052219"
      ],
      "text/markdown": [
       "0.0456919060052219"
      ],
      "text/plain": [
       "[1] 0.04569191"
      ]
     },
     "metadata": {},
     "output_type": "display_data"
    }
   ],
   "source": [
    "length(unique(paste0(overlap.set$SNP.Chr, \":\", overlap.set$SNP.Pos)))\n",
    "length(unique(paste0(overlap.set$SNP.Chr, \":\", overlap.set$SNP.Pos))) / length(unique(paste0(cis.eqtl.conditional$chr, \":\", cis.eqtl.conditional$SNPpos)))"
   ]
  },
  {
   "cell_type": "markdown",
   "id": "cd572c0b-c5e1-4967-8313-9dd509fc4e7b",
   "metadata": {},
   "source": [
    "There are 566 eGenes (5.19%) that have at least one eSNP present in at least one DA peak."
   ]
  },
  {
   "cell_type": "code",
   "execution_count": 58,
   "id": "21f6a262-6d3d-420a-87fb-6c7c19aebb3d",
   "metadata": {},
   "outputs": [
    {
     "data": {
      "text/html": [
       "566"
      ],
      "text/latex": [
       "566"
      ],
      "text/markdown": [
       "566"
      ],
      "text/plain": [
       "[1] 566"
      ]
     },
     "metadata": {},
     "output_type": "display_data"
    },
    {
     "data": {
      "text/html": [
       "0.0518695014662757"
      ],
      "text/latex": [
       "0.0518695014662757"
      ],
      "text/markdown": [
       "0.0518695014662757"
      ],
      "text/plain": [
       "[1] 0.0518695"
      ]
     },
     "metadata": {},
     "output_type": "display_data"
    }
   ],
   "source": [
    "length(unique(overlap.set$eQTL.Gene))\n",
    "length(unique(overlap.set$eQTL.Gene)) / length(unique(cis.eqtl.conditional$gene))"
   ]
  },
  {
   "cell_type": "markdown",
   "id": "0334af3b-99ec-4459-bc98-4f08f61dba64",
   "metadata": {},
   "source": [
    "## Motifs"
   ]
  },
  {
   "cell_type": "code",
   "execution_count": 360,
   "id": "6dc7565e-2c42-40c4-871c-e66afac9b03b",
   "metadata": {},
   "outputs": [],
   "source": [
    "da.peak.ranges <- dplyr::bind_rows(\n",
    "        da.peaks.ia %>% dplyr::select(everything(), -Cell.Type),\n",
    "        da.peaks.rm %>% dplyr::select(everything(), -Treatment)\n",
    "    ) %>%\n",
    "    dplyr::mutate(strand=\"*\") %>%\n",
    "    dplyr::filter(Peak.Chr %in% c(1:22, \"X\")) %>%\n",
    "    makeGRangesFromDataFrame(seqnames.field=\"Peak.Chr\", start.field=\"Peak.Start\", end.field=\"Peak.End\", keep.extra.columns=T)"
   ]
  },
  {
   "cell_type": "code",
   "execution_count": 361,
   "id": "a7d1d8f6-47dd-46ed-82e5-b56ff45debfc",
   "metadata": {},
   "outputs": [],
   "source": [
    "susie.snps.ranges <- susie.snps %>%\n",
    "    dplyr::mutate(strand=\"*\") %>%\n",
    "    dplyr::filter(chr %in% c(1:22, \"X\")) %>%\n",
    "    makeGRangesFromDataFrame(seqnames.field=\"chr\", start.field=\"pos\", end.field=\"pos\", keep.extra.columns=T)"
   ]
  },
  {
   "cell_type": "code",
   "execution_count": 363,
   "id": "46529eed-6a53-4b81-8016-14c105112fb3",
   "metadata": {},
   "outputs": [],
   "source": [
    "overlapping.da.peaks <- findOverlaps(susie.snps.ranges, da.peak.ranges)"
   ]
  },
  {
   "cell_type": "code",
   "execution_count": 364,
   "id": "381dcde9-65d5-4195-a4ac-90b7efcdb1dd",
   "metadata": {},
   "outputs": [],
   "source": [
    "overlap.set <- dplyr::bind_cols(\n",
    "    as.data.frame(susie.snps.ranges[overlapping.da.peaks@from, ]) %>%\n",
    "        dplyr::select(SNP.Chr=seqnames, SNP.Pos=start, eQTL.Gene=Gene, Credible.Set=Credible_Set, CS.Prob=SNP_Prob),\n",
    "    as.data.frame(da.peak.ranges[overlapping.da.peaks@to, ]) %>%\n",
    "        dplyr::select(Peak.ID=Peak.ID, Peak.Chr=seqnames, Peak.Start=start, Peak.End=end, Peak.Width=width, Peak.Contrast=Contrast, Peak.Log.FC=logFC, Peak.P=adj.P.Val)\n",
    ")"
   ]
  },
  {
   "cell_type": "code",
   "execution_count": 466,
   "id": "5d402560-9e56-468f-b55f-67b8c02f5a4d",
   "metadata": {},
   "outputs": [
    {
     "data": {
      "text/html": [
       "<table class=\"dataframe\">\n",
       "<caption>A data.frame: 4 × 1</caption>\n",
       "<thead>\n",
       "\t<tr><th></th><th scope=col>Peak.ID</th></tr>\n",
       "\t<tr><th></th><th scope=col>&lt;chr&gt;</th></tr>\n",
       "</thead>\n",
       "<tbody>\n",
       "\t<tr><th scope=row>1</th><td>14:61509976-61512388</td></tr>\n",
       "\t<tr><th scope=row>3</th><td>14:61502130-61504629</td></tr>\n",
       "\t<tr><th scope=row>6</th><td>14:61505502-61506688</td></tr>\n",
       "\t<tr><th scope=row>18</th><td>14:61493794-61495231</td></tr>\n",
       "</tbody>\n",
       "</table>\n"
      ],
      "text/latex": [
       "A data.frame: 4 × 1\n",
       "\\begin{tabular}{r|l}\n",
       "  & Peak.ID\\\\\n",
       "  & <chr>\\\\\n",
       "\\hline\n",
       "\t1 & 14:61509976-61512388\\\\\n",
       "\t3 & 14:61502130-61504629\\\\\n",
       "\t6 & 14:61505502-61506688\\\\\n",
       "\t18 & 14:61493794-61495231\\\\\n",
       "\\end{tabular}\n"
      ],
      "text/markdown": [
       "\n",
       "A data.frame: 4 × 1\n",
       "\n",
       "| <!--/--> | Peak.ID &lt;chr&gt; |\n",
       "|---|---|\n",
       "| 1 | 14:61509976-61512388 |\n",
       "| 3 | 14:61502130-61504629 |\n",
       "| 6 | 14:61505502-61506688 |\n",
       "| 18 | 14:61493794-61495231 |\n",
       "\n"
      ],
      "text/plain": [
       "   Peak.ID             \n",
       "1  14:61509976-61512388\n",
       "3  14:61502130-61504629\n",
       "6  14:61505502-61506688\n",
       "18 14:61493794-61495231"
      ]
     },
     "metadata": {},
     "output_type": "display_data"
    }
   ],
   "source": [
    "test <- overlap.set %>%\n",
    "    as.data.frame() %>%\n",
    "    merge(., modules.k, by.x=\"eQTL.Gene\", by.y=\"Gene\") %>%\n",
    "    dplyr::arrange(desc(kWithin))\n",
    "\n",
    "test %>%\n",
    "    dplyr::filter(eQTL.Gene == \"ENSG00000100644\") %>%\n",
    "    dplyr::select(Peak.ID) %>%\n",
    "    unique()"
   ]
  },
  {
   "cell_type": "code",
   "execution_count": 273,
   "id": "92d33f35-31ae-49f9-9344-1c4697276232",
   "metadata": {},
   "outputs": [
    {
     "data": {
      "text/html": [
       "<style>\n",
       ".list-inline {list-style: none; margin:0; padding: 0}\n",
       ".list-inline>li {display: inline-block}\n",
       ".list-inline>li:not(:last-child)::after {content: \"\\00b7\"; padding: 0 .5ex}\n",
       "</style>\n",
       "<ol class=list-inline><li>'Bulk_B'</li><li>'CD8pos_T'</li><li>'Central_memory_CD8pos_T'</li><li>'Effector_CD4pos_T'</li><li>'Effector_memory_CD8pos_T'</li><li>'Follicular_T_Helper'</li><li>'Gamma_delta_T'</li><li>'Mature_NK'</li><li>'Mem_B'</li><li>'Memory_Teffs'</li><li>'Memory_Tregs'</li><li>'Monocytes'</li><li>'Naive_B'</li><li>'Naive_CD8_T'</li><li>'Naive_Teffs'</li><li>'Naive_Tregs'</li><li>'Regulatory_T'</li><li>'Th1_precursors'</li><li>'Th17_precursors'</li><li>'Th2_precursors'</li></ol>\n"
      ],
      "text/latex": [
       "\\begin{enumerate*}\n",
       "\\item 'Bulk\\_B'\n",
       "\\item 'CD8pos\\_T'\n",
       "\\item 'Central\\_memory\\_CD8pos\\_T'\n",
       "\\item 'Effector\\_CD4pos\\_T'\n",
       "\\item 'Effector\\_memory\\_CD8pos\\_T'\n",
       "\\item 'Follicular\\_T\\_Helper'\n",
       "\\item 'Gamma\\_delta\\_T'\n",
       "\\item 'Mature\\_NK'\n",
       "\\item 'Mem\\_B'\n",
       "\\item 'Memory\\_Teffs'\n",
       "\\item 'Memory\\_Tregs'\n",
       "\\item 'Monocytes'\n",
       "\\item 'Naive\\_B'\n",
       "\\item 'Naive\\_CD8\\_T'\n",
       "\\item 'Naive\\_Teffs'\n",
       "\\item 'Naive\\_Tregs'\n",
       "\\item 'Regulatory\\_T'\n",
       "\\item 'Th1\\_precursors'\n",
       "\\item 'Th17\\_precursors'\n",
       "\\item 'Th2\\_precursors'\n",
       "\\end{enumerate*}\n"
      ],
      "text/markdown": [
       "1. 'Bulk_B'\n",
       "2. 'CD8pos_T'\n",
       "3. 'Central_memory_CD8pos_T'\n",
       "4. 'Effector_CD4pos_T'\n",
       "5. 'Effector_memory_CD8pos_T'\n",
       "6. 'Follicular_T_Helper'\n",
       "7. 'Gamma_delta_T'\n",
       "8. 'Mature_NK'\n",
       "9. 'Mem_B'\n",
       "10. 'Memory_Teffs'\n",
       "11. 'Memory_Tregs'\n",
       "12. 'Monocytes'\n",
       "13. 'Naive_B'\n",
       "14. 'Naive_CD8_T'\n",
       "15. 'Naive_Teffs'\n",
       "16. 'Naive_Tregs'\n",
       "17. 'Regulatory_T'\n",
       "18. 'Th1_precursors'\n",
       "19. 'Th17_precursors'\n",
       "20. 'Th2_precursors'\n",
       "\n",
       "\n"
      ],
      "text/plain": [
       " [1] \"Bulk_B\"                   \"CD8pos_T\"                \n",
       " [3] \"Central_memory_CD8pos_T\"  \"Effector_CD4pos_T\"       \n",
       " [5] \"Effector_memory_CD8pos_T\" \"Follicular_T_Helper\"     \n",
       " [7] \"Gamma_delta_T\"            \"Mature_NK\"               \n",
       " [9] \"Mem_B\"                    \"Memory_Teffs\"            \n",
       "[11] \"Memory_Tregs\"             \"Monocytes\"               \n",
       "[13] \"Naive_B\"                  \"Naive_CD8_T\"             \n",
       "[15] \"Naive_Teffs\"              \"Naive_Tregs\"             \n",
       "[17] \"Regulatory_T\"             \"Th1_precursors\"          \n",
       "[19] \"Th17_precursors\"          \"Th2_precursors\"          "
      ]
     },
     "metadata": {},
     "output_type": "display_data"
    }
   ],
   "source": [
    "da.peaks.ia$Cell.Type %>% unique()"
   ]
  },
  {
   "cell_type": "code",
   "execution_count": 307,
   "id": "e9960dec-fc30-44e2-9924-6527d50621db",
   "metadata": {},
   "outputs": [],
   "source": [
    "up.motifs.ranges <- load.up.motifs(\"Naive_Teffs\") %>%\n",
    "    dplyr::filter(Motif.Chr %in% c(1:22, \"X\")) %>%\n",
    "    makeGRangesFromDataFrame(seqnames.field=\"Motif.Chr\", start.field=\"Motif.Start\", end.field=\"Motif.End\", keep.extra.columns=T)"
   ]
  },
  {
   "cell_type": "code",
   "execution_count": 340,
   "id": "640929d0-08df-43a0-9507-1b86ebc93408",
   "metadata": {},
   "outputs": [],
   "source": [
    "overlaps <- findOverlaps(susie.snps.ranges, up.motifs.ranges)"
   ]
  },
  {
   "cell_type": "code",
   "execution_count": 341,
   "id": "384e9caa-82a4-4834-a4f7-59a7dfbe8d71",
   "metadata": {},
   "outputs": [
    {
     "data": {
      "text/plain": [
       "Hits object with 9146 hits and 0 metadata columns:\n",
       "         queryHits subjectHits\n",
       "         <integer>   <integer>\n",
       "     [1]        95      193792\n",
       "     [2]        95      249924\n",
       "     [3]        95      331154\n",
       "     [4]        95      918926\n",
       "     [5]        95      941609\n",
       "     ...       ...         ...\n",
       "  [9142]    229352     4955333\n",
       "  [9143]    229352     5329289\n",
       "  [9144]    229354     5489241\n",
       "  [9145]    229545     1705501\n",
       "  [9146]    229545     4512082\n",
       "  -------\n",
       "  queryLength: 229615 / subjectLength: 5552928"
      ]
     },
     "metadata": {},
     "output_type": "display_data"
    }
   ],
   "source": [
    "overlaps"
   ]
  },
  {
   "cell_type": "code",
   "execution_count": 342,
   "id": "af40b32b-9fa5-47d1-b0e2-bb76272e49d6",
   "metadata": {},
   "outputs": [],
   "source": [
    "overlap.set <- dplyr::bind_cols(\n",
    "    as.data.frame(susie.snps.ranges[overlaps@from, ]) %>%\n",
    "        dplyr::select(SNP.Chr=seqnames, SNP.Pos=start, eQTL.Gene=Gene, Credible.Set=Credible_Set, CS.Prob=SNP_Prob),\n",
    "    as.data.frame(up.motifs.ranges[overlaps@to, ])\n",
    ")"
   ]
  },
  {
   "cell_type": "code",
   "execution_count": 343,
   "id": "2f385515-a859-4f0c-81f2-eab13c964adf",
   "metadata": {},
   "outputs": [
    {
     "data": {
      "text/html": [
       "<table class=\"dataframe\">\n",
       "<caption>A data.frame: 0 × 19</caption>\n",
       "<thead>\n",
       "\t<tr><th scope=col>SNP.Chr</th><th scope=col>SNP.Pos</th><th scope=col>eQTL.Gene</th><th scope=col>Credible.Set</th><th scope=col>CS.Prob</th><th scope=col>seqnames</th><th scope=col>start</th><th scope=col>end</th><th scope=col>width</th><th scope=col>strand</th><th scope=col>Cell.Type</th><th scope=col>Factor</th><th scope=col>motif_id</th><th scope=col>motif_alt_id</th><th scope=col>sequence_name</th><th scope=col>score</th><th scope=col>p.value</th><th scope=col>q.value</th><th scope=col>matched_sequence</th></tr>\n",
       "\t<tr><th scope=col>&lt;fct&gt;</th><th scope=col>&lt;int&gt;</th><th scope=col>&lt;chr&gt;</th><th scope=col>&lt;int&gt;</th><th scope=col>&lt;dbl&gt;</th><th scope=col>&lt;fct&gt;</th><th scope=col>&lt;int&gt;</th><th scope=col>&lt;int&gt;</th><th scope=col>&lt;int&gt;</th><th scope=col>&lt;fct&gt;</th><th scope=col>&lt;chr&gt;</th><th scope=col>&lt;chr&gt;</th><th scope=col>&lt;chr&gt;</th><th scope=col>&lt;chr&gt;</th><th scope=col>&lt;chr&gt;</th><th scope=col>&lt;dbl&gt;</th><th scope=col>&lt;dbl&gt;</th><th scope=col>&lt;dbl&gt;</th><th scope=col>&lt;chr&gt;</th></tr>\n",
       "</thead>\n",
       "<tbody>\n",
       "</tbody>\n",
       "</table>\n"
      ],
      "text/latex": [
       "A data.frame: 0 × 19\n",
       "\\begin{tabular}{lllllllllllllllllll}\n",
       " SNP.Chr & SNP.Pos & eQTL.Gene & Credible.Set & CS.Prob & seqnames & start & end & width & strand & Cell.Type & Factor & motif\\_id & motif\\_alt\\_id & sequence\\_name & score & p.value & q.value & matched\\_sequence\\\\\n",
       " <fct> & <int> & <chr> & <int> & <dbl> & <fct> & <int> & <int> & <int> & <fct> & <chr> & <chr> & <chr> & <chr> & <chr> & <dbl> & <dbl> & <dbl> & <chr>\\\\\n",
       "\\hline\n",
       "\\end{tabular}\n"
      ],
      "text/markdown": [
       "\n",
       "A data.frame: 0 × 19\n",
       "\n",
       "| SNP.Chr &lt;fct&gt; | SNP.Pos &lt;int&gt; | eQTL.Gene &lt;chr&gt; | Credible.Set &lt;int&gt; | CS.Prob &lt;dbl&gt; | seqnames &lt;fct&gt; | start &lt;int&gt; | end &lt;int&gt; | width &lt;int&gt; | strand &lt;fct&gt; | Cell.Type &lt;chr&gt; | Factor &lt;chr&gt; | motif_id &lt;chr&gt; | motif_alt_id &lt;chr&gt; | sequence_name &lt;chr&gt; | score &lt;dbl&gt; | p.value &lt;dbl&gt; | q.value &lt;dbl&gt; | matched_sequence &lt;chr&gt; |\n",
       "|---|---|---|---|---|---|---|---|---|---|---|---|---|---|---|---|---|---|---|\n",
       "\n"
      ],
      "text/plain": [
       "     SNP.Chr SNP.Pos eQTL.Gene Credible.Set CS.Prob seqnames start end width\n",
       "     strand Cell.Type Factor motif_id motif_alt_id sequence_name score p.value\n",
       "     q.value matched_sequence"
      ]
     },
     "metadata": {},
     "output_type": "display_data"
    }
   ],
   "source": [
    "overlap.set %>%\n",
    "    dplyr::filter(eQTL.Gene == \" ENSG00000100644\")"
   ]
  },
  {
   "cell_type": "code",
   "execution_count": 408,
   "id": "30226a14-f2ea-49e6-9833-d8914e7654b8",
   "metadata": {},
   "outputs": [],
   "source": [
    "consensus.peaks <- fread(\"/nfs/users/nfs_n/nm18/gains_team282/epigenetics/accessibility/analysis/atac_seq/consensus_peaks.bed\")"
   ]
  },
  {
   "cell_type": "code",
   "execution_count": 454,
   "id": "1b89cfa4-5eaa-4b92-83b8-19cc81483620",
   "metadata": {},
   "outputs": [],
   "source": [
    "all.peaks <- consensus.peaks %>%\n",
    "    dplyr::filter(V1 == \"14\", V2 > 60696248, V3 < 62692464) %>%\n",
    "    dplyr::select(Start=V2, End=V3) %>%\n",
    "    dplyr::mutate(Peak.ID=paste0(\"14:\", Start, \"-\", End))"
   ]
  },
  {
   "cell_type": "code",
   "execution_count": 465,
   "id": "2a79b6fc-e57f-4ab9-925d-8cdb62fdf4df",
   "metadata": {},
   "outputs": [],
   "source": [
    "da.peaks.in.locus <- all.peaks %>%\n",
    "    dplyr::filter(Peak.ID %in% da.peaks.ia$Peak.ID | Peak.ID %in% da.peaks.rm$Peak.ID)"
   ]
  },
  {
   "cell_type": "code",
   "execution_count": 458,
   "id": "b465911c-edb5-4c86-8706-e658278a983f",
   "metadata": {},
   "outputs": [],
   "source": [
    "all.peaks.in.locus <- all.peaks %>%\n",
    "    dplyr::filter(!(Peak.ID %in% da.peaks.in.locus$Peak.ID))"
   ]
  },
  {
   "cell_type": "code",
   "execution_count": 449,
   "id": "3134abae-9eea-47a2-867f-d03f7dc46671",
   "metadata": {},
   "outputs": [],
   "source": [
    "cis.eqtl.all <- readRDS(\"/nfs/users/nfs_n/nm18/gains_team282/eqtl/cisresults/ciseqtl_all.rds\")"
   ]
  },
  {
   "cell_type": "code",
   "execution_count": 402,
   "id": "4f6edd77-90ac-43e9-9164-8e6ec1e15aa3",
   "metadata": {},
   "outputs": [
    {
     "data": {
      "text/html": [
       "<style>\n",
       ".list-inline {list-style: none; margin:0; padding: 0}\n",
       ".list-inline>li {display: inline-block}\n",
       ".list-inline>li:not(:last-child)::after {content: \"\\00b7\"; padding: 0 .5ex}\n",
       "</style>\n",
       "<ol class=list-inline><li>60696248</li><li>62692464</li></ol>\n"
      ],
      "text/latex": [
       "\\begin{enumerate*}\n",
       "\\item 60696248\n",
       "\\item 62692464\n",
       "\\end{enumerate*}\n"
      ],
      "text/markdown": [
       "1. 60696248\n",
       "2. 62692464\n",
       "\n",
       "\n"
      ],
      "text/plain": [
       "[1] 60696248 62692464"
      ]
     },
     "metadata": {},
     "output_type": "display_data"
    }
   ],
   "source": [
    "test <- cis.eqtl.all %>% dplyr::filter(gene == \"ENSG00000100644\")\n",
    "range(test$SNPpos)"
   ]
  },
  {
   "cell_type": "code",
   "execution_count": 461,
   "id": "e948572a-3d9b-45aa-9164-98edc0719968",
   "metadata": {},
   "outputs": [
    {
     "data": {
      "image/png": "[encoded data removed]",
      "text/plain": [
       "plot without title"
      ]
     },
     "metadata": {
      "image/png": {
       "height": 360,
       "width": 720
      }
     },
     "output_type": "display_data"
    }
   ],
   "source": [
    "options(repr.plot.width=12, repr.plot.height=6)\n",
    "\n",
    "cis.eqtl.all %>%\n",
    "    dplyr::filter(gene == \"ENSG00000100644\") %>%\n",
    "    merge(., susie.snps, by.x=\"snps\", by.y=\"SNP\", all.x=T) %>%\n",
    "    dplyr::mutate(Credible_Set=replace(Credible_Set, is.na(Credible_Set), \"No CS\")) %>%\n",
    "    dplyr::mutate(Credible_Set=factor(Credible_Set)) %>%\n",
    "    ggplot() +\n",
    "    geom_point(aes(x=SNPpos, y=-log10(pvalue), color=Credible_Set), alpha=0.5) +\n",
    "    geom_segment(data=all.peaks.in.locus, aes(x=Start, xend=End, y=-1, yend=-1), size=0.5, color=\"black\") +\n",
    "    geom_segment(data=da.peaks.in.locus, aes(x=Start, xend=End, y=-1, yend=-1), size=2, color=\"orange\") +\n",
    "    scale_color_manual(name=\"Credible Set\", values=c(\"1\"=\"firebrick1\", \"2\"=\"royalblue\", \"No CS\"=\"black\")) + \n",
    "    xlab(\"SNP Position\") + ylab(bquote(\"-log\"[10]*\"(p-value)\")) +\n",
    "    ylim(-1, 7) +\n",
    "    ggplot_theme\n",
    "\n",
    "ggsave(\"~/eQTL_pQTL_Characterization/full.locus.png\", width=12, height=6, dpi=600)"
   ]
  },
  {
   "cell_type": "code",
   "execution_count": 462,
   "id": "c8ac2111-d705-4912-8dac-5719720a7c3a",
   "metadata": {},
   "outputs": [
    {
     "name": "stderr",
     "output_type": "stream",
     "text": [
      "Warning message:\n",
      "“Removed 2887 rows containing missing values (geom_point).”\n",
      "Warning message:\n",
      "“Removed 250 rows containing missing values (geom_segment).”\n",
      "Warning message:\n",
      "“Removed 89 rows containing missing values (geom_segment).”\n",
      "Warning message:\n",
      "“Removed 89 rows containing missing values (geom_vline).”\n",
      "Warning message:\n",
      "“Removed 89 rows containing missing values (geom_vline).”\n",
      "Warning message:\n",
      "“Removed 2887 rows containing missing values (geom_point).”\n",
      "Warning message:\n",
      "“Removed 250 rows containing missing values (geom_segment).”\n",
      "Warning message:\n",
      "“Removed 89 rows containing missing values (geom_segment).”\n",
      "Warning message:\n",
      "“Removed 89 rows containing missing values (geom_vline).”\n",
      "Warning message:\n",
      "“Removed 89 rows containing missing values (geom_vline).”\n"
     ]
    },
    {
     "data": {
      "image/png": "[encoded data removed]",
      "text/plain": [
       "plot without title"
      ]
     },
     "metadata": {
      "image/png": {
       "height": 360,
       "width": 360
      }
     },
     "output_type": "display_data"
    }
   ],
   "source": [
    "options(repr.plot.width=6, repr.plot.height=6)\n",
    "\n",
    "cis.eqtl.all %>%\n",
    "    dplyr::filter(gene == \"ENSG00000100644\") %>%\n",
    "    merge(., susie.snps, by.x=\"snps\", by.y=\"SNP\", all.x=T) %>%\n",
    "    dplyr::mutate(Credible_Set=replace(Credible_Set, is.na(Credible_Set), \"No CS\")) %>%\n",
    "    dplyr::mutate(Credible_Set=factor(Credible_Set)) %>%\n",
    "    ggplot() +\n",
    "    geom_point(aes(x=SNPpos, y=-log10(pvalue), color=Credible_Set), alpha=0.5) +\n",
    "    geom_segment(data=all.peaks.in.locus, aes(x=Start, xend=End, y=-1, yend=-1), size=0.5, color=\"black\") +\n",
    "    geom_segment(data=da.peaks.in.locus, aes(x=Start, xend=End, y=-1, yend=-1), size=2, color=\"orange\") +\n",
    "    geom_vline(data=da.peaks.in.locus, aes(xintercept=Start), size=0.25, lty=2) +\n",
    "    geom_vline(data=da.peaks.in.locus, aes(xintercept=End), size=0.25, lty=2) +\n",
    "    scale_color_manual(name=\"Credible Set\", values=c(\"1\"=\"firebrick1\", \"2\"=\"royalblue\", \"No CS\"=\"black\")) + \n",
    "    xlab(\"SNP Position\") + ylab(bquote(\"-log\"[10]*\"(p-value)\")) +\n",
    "    xlim(61493794 - 10000, 61512388 + 10000) + ylim(-1, 7) +\n",
    "    ggplot_theme\n",
    "\n",
    "ggsave(\"~/eQTL_pQTL_Characterization/locus.da.peaks.png\", width=6, height=6, dpi=600)"
   ]
  },
  {
   "cell_type": "code",
   "execution_count": 463,
   "id": "48e8ffdf-20ff-4ead-9ec8-b585210776ff",
   "metadata": {},
   "outputs": [
    {
     "name": "stderr",
     "output_type": "stream",
     "text": [
      "Warning message:\n",
      "“Removed 2886 rows containing missing values (geom_point).”\n",
      "Warning message:\n",
      "“Removed 242 rows containing missing values (geom_segment).”\n",
      "Warning message:\n",
      "“Removed 86 rows containing missing values (geom_segment).”\n",
      "Warning message:\n",
      "“Removed 86 rows containing missing values (geom_vline).”\n",
      "Warning message:\n",
      "“Removed 86 rows containing missing values (geom_vline).”\n",
      "Warning message:\n",
      "“Removed 2886 rows containing missing values (geom_point).”\n",
      "Warning message:\n",
      "“Removed 242 rows containing missing values (geom_segment).”\n",
      "Warning message:\n",
      "“Removed 86 rows containing missing values (geom_segment).”\n",
      "Warning message:\n",
      "“Removed 86 rows containing missing values (geom_vline).”\n",
      "Warning message:\n",
      "“Removed 86 rows containing missing values (geom_vline).”\n"
     ]
    },
    {
     "data": {
      "image/png": "[encoded data removed]",
      "text/plain": [
       "plot without title"
      ]
     },
     "metadata": {
      "image/png": {
       "height": 360,
       "width": 360
      }
     },
     "output_type": "display_data"
    }
   ],
   "source": [
    "options(repr.plot.width=6, repr.plot.height=6)\n",
    "\n",
    "cis.eqtl.all %>%\n",
    "    dplyr::filter(gene == \"ENSG00000100644\") %>%\n",
    "    merge(., susie.snps, by.x=\"snps\", by.y=\"SNP\", all.x=T) %>%\n",
    "    dplyr::mutate(Credible_Set=replace(Credible_Set, is.na(Credible_Set), \"No CS\")) %>%\n",
    "    dplyr::mutate(Credible_Set=factor(Credible_Set)) %>%\n",
    "    ggplot() +\n",
    "    geom_point(aes(x=SNPpos, y=-log10(pvalue), color=Credible_Set), alpha=0.5) +\n",
    "    geom_segment(data=all.peaks.in.locus, aes(x=Start, xend=End, y=-1, yend=-1), size=0.5, color=\"black\") +\n",
    "    geom_segment(data=da.peaks.in.locus, aes(x=Start, xend=End, y=-1, yend=-1), size=2, color=\"orange\") +\n",
    "    geom_vline(data=da.peaks.in.locus, aes(xintercept=Start), size=0.25, lty=2) +\n",
    "    geom_vline(data=da.peaks.in.locus, aes(xintercept=End), size=0.25, lty=2) +\n",
    "    scale_color_manual(name=\"Credible Set\", values=c(\"1\"=\"firebrick1\", \"2\"=\"royalblue\", \"No CS\"=\"black\")) + \n",
    "    xlab(\"SNP Position\") + ylab(bquote(\"-log\"[10]*\"(p-value)\")) +\n",
    "    xlim(61650000, 61750000) + ylim(-1, 7) +\n",
    "    ggplot_theme\n",
    "\n",
    "ggsave(\"~/eQTL_pQTL_Characterization/locus.cs.1.png\", width=6, height=6, dpi=600)"
   ]
  },
  {
   "cell_type": "code",
   "execution_count": null,
   "id": "33698603-a357-42dd-9819-eb85876fae08",
   "metadata": {},
   "outputs": [],
   "source": []
  }
 ],
 "metadata": {
  "kernelspec": {
   "display_name": "R",
   "language": "R",
   "name": "ir"
  },
  "language_info": {
   "codemirror_mode": "r",
   "file_extension": ".r",
   "mimetype": "text/x-r-source",
   "name": "R",
   "pygments_lexer": "r",
   "version": "4.0.5"
  }
 },
 "nbformat": 4,
 "nbformat_minor": 5
}
