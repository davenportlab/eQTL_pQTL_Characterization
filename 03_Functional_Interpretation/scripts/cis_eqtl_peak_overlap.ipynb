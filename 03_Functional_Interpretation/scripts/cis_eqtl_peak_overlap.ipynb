{
 "cells": [
  {
   "cell_type": "markdown",
   "id": "e730ccc2-9a2a-40cd-b566-01c7b35f4137",
   "metadata": {},
   "source": [
    "# Cis-eQTL Peak Overlap\n",
    "\n",
    "**Created**: 14 December 2021"
   ]
  },
  {
   "cell_type": "markdown",
   "id": "ad84c6ff-2e0d-4617-bf33-8cadee58bd01",
   "metadata": {
    "tags": []
   },
   "source": [
    "## Environment"
   ]
  },
  {
   "cell_type": "code",
   "execution_count": 1,
   "id": "3d68d390-91e8-4b4a-acb6-b7ad3dc202de",
   "metadata": {},
   "outputs": [
    {
     "name": "stderr",
     "output_type": "stream",
     "text": [
      "Warning message in system(\"timedatectl\", intern = TRUE):\n",
      "“running command 'timedatectl' had status 1”\n",
      "── \u001b[1mAttaching packages\u001b[22m ──────────────────────────────────────────────────────────────────────────────────────────────────────────────────────────────────────────────────────────────────────────── tidyverse 1.3.1 ──\n",
      "\n",
      "\u001b[32m✔\u001b[39m \u001b[34mggplot2\u001b[39m 3.3.5     \u001b[32m✔\u001b[39m \u001b[34mpurrr  \u001b[39m 0.3.4\n",
      "\u001b[32m✔\u001b[39m \u001b[34mtibble \u001b[39m 3.1.6     \u001b[32m✔\u001b[39m \u001b[34mdplyr  \u001b[39m 1.0.7\n",
      "\u001b[32m✔\u001b[39m \u001b[34mtidyr  \u001b[39m 1.1.4     \u001b[32m✔\u001b[39m \u001b[34mstringr\u001b[39m 1.4.0\n",
      "\u001b[32m✔\u001b[39m \u001b[34mreadr  \u001b[39m 2.1.1     \u001b[32m✔\u001b[39m \u001b[34mforcats\u001b[39m 0.5.1\n",
      "\n",
      "── \u001b[1mConflicts\u001b[22m ─────────────────────────────────────────────────────────────────────────────────────────────────────────────────────────────────────────────────────────────────────────────── tidyverse_conflicts() ──\n",
      "\u001b[31m✖\u001b[39m \u001b[34mdplyr\u001b[39m::\u001b[32mfilter()\u001b[39m masks \u001b[34mstats\u001b[39m::filter()\n",
      "\u001b[31m✖\u001b[39m \u001b[34mdplyr\u001b[39m::\u001b[32mlag()\u001b[39m    masks \u001b[34mstats\u001b[39m::lag()\n",
      "\n",
      "\n",
      "Attaching package: ‘data.table’\n",
      "\n",
      "\n",
      "The following objects are masked from ‘package:dplyr’:\n",
      "\n",
      "    between, first, last\n",
      "\n",
      "\n",
      "The following object is masked from ‘package:purrr’:\n",
      "\n",
      "    transpose\n",
      "\n",
      "\n",
      "Loading required package: stats4\n",
      "\n",
      "Loading required package: BiocGenerics\n",
      "\n",
      "Loading required package: parallel\n",
      "\n",
      "\n",
      "Attaching package: ‘BiocGenerics’\n",
      "\n",
      "\n",
      "The following objects are masked from ‘package:parallel’:\n",
      "\n",
      "    clusterApply, clusterApplyLB, clusterCall, clusterEvalQ,\n",
      "    clusterExport, clusterMap, parApply, parCapply, parLapply,\n",
      "    parLapplyLB, parRapply, parSapply, parSapplyLB\n",
      "\n",
      "\n",
      "The following objects are masked from ‘package:dplyr’:\n",
      "\n",
      "    combine, intersect, setdiff, union\n",
      "\n",
      "\n",
      "The following objects are masked from ‘package:stats’:\n",
      "\n",
      "    IQR, mad, sd, var, xtabs\n",
      "\n",
      "\n",
      "The following objects are masked from ‘package:base’:\n",
      "\n",
      "    anyDuplicated, append, as.data.frame, basename, cbind, colnames,\n",
      "    dirname, do.call, duplicated, eval, evalq, Filter, Find, get, grep,\n",
      "    grepl, intersect, is.unsorted, lapply, Map, mapply, match, mget,\n",
      "    order, paste, pmax, pmax.int, pmin, pmin.int, Position, rank,\n",
      "    rbind, Reduce, rownames, sapply, setdiff, sort, table, tapply,\n",
      "    union, unique, unsplit, which.max, which.min\n",
      "\n",
      "\n",
      "Loading required package: S4Vectors\n",
      "\n",
      "\n",
      "Attaching package: ‘S4Vectors’\n",
      "\n",
      "\n",
      "The following objects are masked from ‘package:data.table’:\n",
      "\n",
      "    first, second\n",
      "\n",
      "\n",
      "The following objects are masked from ‘package:dplyr’:\n",
      "\n",
      "    first, rename\n",
      "\n",
      "\n",
      "The following object is masked from ‘package:tidyr’:\n",
      "\n",
      "    expand\n",
      "\n",
      "\n",
      "The following object is masked from ‘package:base’:\n",
      "\n",
      "    expand.grid\n",
      "\n",
      "\n",
      "Loading required package: IRanges\n",
      "\n",
      "\n",
      "Attaching package: ‘IRanges’\n",
      "\n",
      "\n",
      "The following object is masked from ‘package:data.table’:\n",
      "\n",
      "    shift\n",
      "\n",
      "\n",
      "The following objects are masked from ‘package:dplyr’:\n",
      "\n",
      "    collapse, desc, slice\n",
      "\n",
      "\n",
      "The following object is masked from ‘package:purrr’:\n",
      "\n",
      "    reduce\n",
      "\n",
      "\n",
      "Loading required package: GenomeInfoDb\n",
      "\n"
     ]
    }
   ],
   "source": [
    "library(tidyverse)\n",
    "library(data.table)\n",
    "library(GenomicRanges)\n",
    "\n",
    "setwd(\"~/eQTL_pQTL_Characterization\")\n",
    "\n",
    "source(\"03_Functional_Interpretation/scripts/utils/ggplot_theme.R\")"
   ]
  },
  {
   "cell_type": "markdown",
   "id": "9f41b135-c87c-4ba5-a681-a46895db40bd",
   "metadata": {},
   "source": [
    "## Load Data"
   ]
  },
  {
   "cell_type": "code",
   "execution_count": 2,
   "id": "d9547e08-6340-4f1c-8381-cbe71f4fa558",
   "metadata": {},
   "outputs": [],
   "source": [
    "cis.eqtl <- readRDS(\"/nfs/users/nfs_n/nm18/gains_team282/eqtl/cisresults/cisqtl_all_significant.rds\")"
   ]
  },
  {
   "cell_type": "code",
   "execution_count": 3,
   "id": "f12c3acb-e5cb-425c-8fc5-52545630e251",
   "metadata": {},
   "outputs": [
    {
     "data": {
      "text/html": [
       "<table class=\"dataframe\">\n",
       "<caption>A data.table: 6 × 10</caption>\n",
       "<thead>\n",
       "\t<tr><th scope=col>snps</th><th scope=col>gene</th><th scope=col>statistic</th><th scope=col>pvalue</th><th scope=col>beta</th><th scope=col>se</th><th scope=col>chr</th><th scope=col>SNPpos</th><th scope=col>TSS</th><th scope=col>threshold</th></tr>\n",
       "\t<tr><th scope=col>&lt;chr&gt;</th><th scope=col>&lt;chr&gt;</th><th scope=col>&lt;dbl&gt;</th><th scope=col>&lt;dbl&gt;</th><th scope=col>&lt;dbl&gt;</th><th scope=col>&lt;dbl&gt;</th><th scope=col>&lt;int&gt;</th><th scope=col>&lt;int&gt;</th><th scope=col>&lt;int&gt;</th><th scope=col>&lt;dbl&gt;</th></tr>\n",
       "</thead>\n",
       "<tbody>\n",
       "\t<tr><td>rs4987343</td><td>ENSG00000000457</td><td>-4.152142</td><td>3.720893e-05</td><td>-0.04958163</td><td>0.01194122</td><td>1</td><td>169699715</td><td>169894267</td><td>3.873864e-05</td></tr>\n",
       "\t<tr><td>rs4987340</td><td>ENSG00000000457</td><td>-4.240369</td><td>2.546937e-05</td><td>-0.05063396</td><td>0.01194093</td><td>1</td><td>169700002</td><td>169894267</td><td>3.873864e-05</td></tr>\n",
       "\t<tr><td>rs2298899</td><td>ENSG00000000457</td><td> 4.176920</td><td>3.365090e-05</td><td> 0.05505924</td><td>0.01318178</td><td>1</td><td>169700591</td><td>169894267</td><td>3.873864e-05</td></tr>\n",
       "\t<tr><td>rs4987328</td><td>ENSG00000000457</td><td> 4.252010</td><td>2.432691e-05</td><td> 0.05597519</td><td>0.01316441</td><td>1</td><td>169701315</td><td>169894267</td><td>3.873864e-05</td></tr>\n",
       "\t<tr><td>rs4987327</td><td>ENSG00000000457</td><td>-4.218194</td><td>2.799604e-05</td><td>-0.05023696</td><td>0.01190959</td><td>1</td><td>169701799</td><td>169894267</td><td>3.873864e-05</td></tr>\n",
       "\t<tr><td>rs4987326</td><td>ENSG00000000457</td><td>-4.218194</td><td>2.799604e-05</td><td>-0.05023696</td><td>0.01190959</td><td>1</td><td>169701800</td><td>169894267</td><td>3.873864e-05</td></tr>\n",
       "</tbody>\n",
       "</table>\n"
      ],
      "text/latex": [
       "A data.table: 6 × 10\n",
       "\\begin{tabular}{llllllllll}\n",
       " snps & gene & statistic & pvalue & beta & se & chr & SNPpos & TSS & threshold\\\\\n",
       " <chr> & <chr> & <dbl> & <dbl> & <dbl> & <dbl> & <int> & <int> & <int> & <dbl>\\\\\n",
       "\\hline\n",
       "\t rs4987343 & ENSG00000000457 & -4.152142 & 3.720893e-05 & -0.04958163 & 0.01194122 & 1 & 169699715 & 169894267 & 3.873864e-05\\\\\n",
       "\t rs4987340 & ENSG00000000457 & -4.240369 & 2.546937e-05 & -0.05063396 & 0.01194093 & 1 & 169700002 & 169894267 & 3.873864e-05\\\\\n",
       "\t rs2298899 & ENSG00000000457 &  4.176920 & 3.365090e-05 &  0.05505924 & 0.01318178 & 1 & 169700591 & 169894267 & 3.873864e-05\\\\\n",
       "\t rs4987328 & ENSG00000000457 &  4.252010 & 2.432691e-05 &  0.05597519 & 0.01316441 & 1 & 169701315 & 169894267 & 3.873864e-05\\\\\n",
       "\t rs4987327 & ENSG00000000457 & -4.218194 & 2.799604e-05 & -0.05023696 & 0.01190959 & 1 & 169701799 & 169894267 & 3.873864e-05\\\\\n",
       "\t rs4987326 & ENSG00000000457 & -4.218194 & 2.799604e-05 & -0.05023696 & 0.01190959 & 1 & 169701800 & 169894267 & 3.873864e-05\\\\\n",
       "\\end{tabular}\n"
      ],
      "text/markdown": [
       "\n",
       "A data.table: 6 × 10\n",
       "\n",
       "| snps &lt;chr&gt; | gene &lt;chr&gt; | statistic &lt;dbl&gt; | pvalue &lt;dbl&gt; | beta &lt;dbl&gt; | se &lt;dbl&gt; | chr &lt;int&gt; | SNPpos &lt;int&gt; | TSS &lt;int&gt; | threshold &lt;dbl&gt; |\n",
       "|---|---|---|---|---|---|---|---|---|---|\n",
       "| rs4987343 | ENSG00000000457 | -4.152142 | 3.720893e-05 | -0.04958163 | 0.01194122 | 1 | 169699715 | 169894267 | 3.873864e-05 |\n",
       "| rs4987340 | ENSG00000000457 | -4.240369 | 2.546937e-05 | -0.05063396 | 0.01194093 | 1 | 169700002 | 169894267 | 3.873864e-05 |\n",
       "| rs2298899 | ENSG00000000457 |  4.176920 | 3.365090e-05 |  0.05505924 | 0.01318178 | 1 | 169700591 | 169894267 | 3.873864e-05 |\n",
       "| rs4987328 | ENSG00000000457 |  4.252010 | 2.432691e-05 |  0.05597519 | 0.01316441 | 1 | 169701315 | 169894267 | 3.873864e-05 |\n",
       "| rs4987327 | ENSG00000000457 | -4.218194 | 2.799604e-05 | -0.05023696 | 0.01190959 | 1 | 169701799 | 169894267 | 3.873864e-05 |\n",
       "| rs4987326 | ENSG00000000457 | -4.218194 | 2.799604e-05 | -0.05023696 | 0.01190959 | 1 | 169701800 | 169894267 | 3.873864e-05 |\n",
       "\n"
      ],
      "text/plain": [
       "  snps      gene            statistic pvalue       beta        se         chr\n",
       "1 rs4987343 ENSG00000000457 -4.152142 3.720893e-05 -0.04958163 0.01194122 1  \n",
       "2 rs4987340 ENSG00000000457 -4.240369 2.546937e-05 -0.05063396 0.01194093 1  \n",
       "3 rs2298899 ENSG00000000457  4.176920 3.365090e-05  0.05505924 0.01318178 1  \n",
       "4 rs4987328 ENSG00000000457  4.252010 2.432691e-05  0.05597519 0.01316441 1  \n",
       "5 rs4987327 ENSG00000000457 -4.218194 2.799604e-05 -0.05023696 0.01190959 1  \n",
       "6 rs4987326 ENSG00000000457 -4.218194 2.799604e-05 -0.05023696 0.01190959 1  \n",
       "  SNPpos    TSS       threshold   \n",
       "1 169699715 169894267 3.873864e-05\n",
       "2 169700002 169894267 3.873864e-05\n",
       "3 169700591 169894267 3.873864e-05\n",
       "4 169701315 169894267 3.873864e-05\n",
       "5 169701799 169894267 3.873864e-05\n",
       "6 169701800 169894267 3.873864e-05"
      ]
     },
     "metadata": {},
     "output_type": "display_data"
    }
   ],
   "source": [
    "head(cis.eqtl)"
   ]
  },
  {
   "cell_type": "code",
   "execution_count": 4,
   "id": "fa1f9429-067b-4966-9699-17d1985460c0",
   "metadata": {},
   "outputs": [],
   "source": [
    "geno <- fread(\"~/gains_team282/Genotyping/All_genotyping_merged_filtered_b38_refiltered_rsID.bim\")\n",
    "colnames(geno) <- c(\"chr\", \"snp\", \"cM\", \"pos\", \"minor\", \"major\")"
   ]
  },
  {
   "cell_type": "code",
   "execution_count": 5,
   "id": "90a0b978-63f1-4ef6-8cc0-3d5f7a92443a",
   "metadata": {},
   "outputs": [
    {
     "data": {
      "text/html": [
       "<table class=\"dataframe\">\n",
       "<caption>A data.table: 6 × 6</caption>\n",
       "<thead>\n",
       "\t<tr><th scope=col>chr</th><th scope=col>snp</th><th scope=col>cM</th><th scope=col>pos</th><th scope=col>minor</th><th scope=col>major</th></tr>\n",
       "\t<tr><th scope=col>&lt;chr&gt;</th><th scope=col>&lt;chr&gt;</th><th scope=col>&lt;int&gt;</th><th scope=col>&lt;int&gt;</th><th scope=col>&lt;chr&gt;</th><th scope=col>&lt;chr&gt;</th></tr>\n",
       "</thead>\n",
       "<tbody>\n",
       "\t<tr><td>1</td><td>rs3131972   </td><td>0</td><td>817341</td><td>A</td><td>G</td></tr>\n",
       "\t<tr><td>1</td><td>rs546843995 </td><td>0</td><td>818053</td><td>0</td><td>G</td></tr>\n",
       "\t<tr><td>1</td><td>rs553916047 </td><td>0</td><td>818359</td><td>0</td><td>A</td></tr>\n",
       "\t<tr><td>1</td><td>1:818740_T_C</td><td>0</td><td>818740</td><td>T</td><td>C</td></tr>\n",
       "\t<tr><td>1</td><td>rs145604921 </td><td>0</td><td>819378</td><td>0</td><td>C</td></tr>\n",
       "\t<tr><td>1</td><td>rs535256652 </td><td>0</td><td>821053</td><td>0</td><td>T</td></tr>\n",
       "</tbody>\n",
       "</table>\n"
      ],
      "text/latex": [
       "A data.table: 6 × 6\n",
       "\\begin{tabular}{llllll}\n",
       " chr & snp & cM & pos & minor & major\\\\\n",
       " <chr> & <chr> & <int> & <int> & <chr> & <chr>\\\\\n",
       "\\hline\n",
       "\t 1 & rs3131972    & 0 & 817341 & A & G\\\\\n",
       "\t 1 & rs546843995  & 0 & 818053 & 0 & G\\\\\n",
       "\t 1 & rs553916047  & 0 & 818359 & 0 & A\\\\\n",
       "\t 1 & 1:818740\\_T\\_C & 0 & 818740 & T & C\\\\\n",
       "\t 1 & rs145604921  & 0 & 819378 & 0 & C\\\\\n",
       "\t 1 & rs535256652  & 0 & 821053 & 0 & T\\\\\n",
       "\\end{tabular}\n"
      ],
      "text/markdown": [
       "\n",
       "A data.table: 6 × 6\n",
       "\n",
       "| chr &lt;chr&gt; | snp &lt;chr&gt; | cM &lt;int&gt; | pos &lt;int&gt; | minor &lt;chr&gt; | major &lt;chr&gt; |\n",
       "|---|---|---|---|---|---|\n",
       "| 1 | rs3131972    | 0 | 817341 | A | G |\n",
       "| 1 | rs546843995  | 0 | 818053 | 0 | G |\n",
       "| 1 | rs553916047  | 0 | 818359 | 0 | A |\n",
       "| 1 | 1:818740_T_C | 0 | 818740 | T | C |\n",
       "| 1 | rs145604921  | 0 | 819378 | 0 | C |\n",
       "| 1 | rs535256652  | 0 | 821053 | 0 | T |\n",
       "\n"
      ],
      "text/plain": [
       "  chr snp          cM pos    minor major\n",
       "1 1   rs3131972    0  817341 A     G    \n",
       "2 1   rs546843995  0  818053 0     G    \n",
       "3 1   rs553916047  0  818359 0     A    \n",
       "4 1   1:818740_T_C 0  818740 T     C    \n",
       "5 1   rs145604921  0  819378 0     C    \n",
       "6 1   rs535256652  0  821053 0     T    "
      ]
     },
     "metadata": {},
     "output_type": "display_data"
    }
   ],
   "source": [
    "head(geno)"
   ]
  },
  {
   "cell_type": "code",
   "execution_count": 9,
   "id": "cca4a610-e130-4091-9c06-db0aedde36ea",
   "metadata": {},
   "outputs": [],
   "source": [
    "cis.eqtl.conditional <- readRDS(\"/nfs/users/nfs_n/nm18/gains_team282/eqtl/cisresults/conditionalanalysis/conditional_eQTL_results_final.rds\")\n",
    "cis.eqtl.conditional <- merge(cis.eqtl.conditional, geno, by.x=\"SNP\", by.y=\"snp\") %>%\n",
    "    dplyr::select(snps=SNP, gene=Gene, pvalue, beta=eQTL_beta, se=eQTL_SE, chr, SNPpos=pos) %>%\n",
    "    dplyr::mutate(pvalue=as.numeric(pvalue)) %>%\n",
    "    dplyr::mutate(beta=as.numeric(beta)) %>%\n",
    "    dplyr::mutate(se=as.numeric(se)) %>%\n",
    "    dplyr::mutate(chr=as.numeric(chr))"
   ]
  },
  {
   "cell_type": "code",
   "execution_count": 10,
   "id": "6c90dee1-7abc-4b8f-8011-e7e36dc18172",
   "metadata": {},
   "outputs": [
    {
     "data": {
      "text/html": [
       "<table class=\"dataframe\">\n",
       "<caption>A data.frame: 6 × 7</caption>\n",
       "<thead>\n",
       "\t<tr><th></th><th scope=col>snps</th><th scope=col>gene</th><th scope=col>pvalue</th><th scope=col>beta</th><th scope=col>se</th><th scope=col>chr</th><th scope=col>SNPpos</th></tr>\n",
       "\t<tr><th></th><th scope=col>&lt;chr&gt;</th><th scope=col>&lt;chr&gt;</th><th scope=col>&lt;dbl&gt;</th><th scope=col>&lt;dbl&gt;</th><th scope=col>&lt;dbl&gt;</th><th scope=col>&lt;dbl&gt;</th><th scope=col>&lt;int&gt;</th></tr>\n",
       "</thead>\n",
       "<tbody>\n",
       "\t<tr><th scope=row>1</th><td>rs10000507</td><td>ENSG00000164305</td><td>1.194703e-05</td><td>-0.05880549</td><td>0.013312181</td><td>4</td><td>184698127</td></tr>\n",
       "\t<tr><th scope=row>2</th><td>rs10000850</td><td>ENSG00000128039</td><td>7.576675e-43</td><td>-0.64265343</td><td>0.043284640</td><td>4</td><td> 55634211</td></tr>\n",
       "\t<tr><th scope=row>3</th><td>rs1000137 </td><td>ENSG00000272839</td><td>1.261994e-13</td><td>-0.17162745</td><td>0.022657505</td><td>7</td><td>157851460</td></tr>\n",
       "\t<tr><th scope=row>4</th><td>rs10001795</td><td>ENSG00000121892</td><td>2.088410e-05</td><td>-0.03630321</td><td>0.008460434</td><td>4</td><td> 40366982</td></tr>\n",
       "\t<tr><th scope=row>5</th><td>rs10004630</td><td>ENSG00000170390</td><td>1.804495e-17</td><td> 0.12054523</td><td>0.013573487</td><td>4</td><td>150065588</td></tr>\n",
       "\t<tr><th scope=row>6</th><td>rs10007349</td><td>ENSG00000038210</td><td>1.368337e-07</td><td> 0.11265677</td><td>0.021188828</td><td>4</td><td> 25224916</td></tr>\n",
       "</tbody>\n",
       "</table>\n"
      ],
      "text/latex": [
       "A data.frame: 6 × 7\n",
       "\\begin{tabular}{r|lllllll}\n",
       "  & snps & gene & pvalue & beta & se & chr & SNPpos\\\\\n",
       "  & <chr> & <chr> & <dbl> & <dbl> & <dbl> & <dbl> & <int>\\\\\n",
       "\\hline\n",
       "\t1 & rs10000507 & ENSG00000164305 & 1.194703e-05 & -0.05880549 & 0.013312181 & 4 & 184698127\\\\\n",
       "\t2 & rs10000850 & ENSG00000128039 & 7.576675e-43 & -0.64265343 & 0.043284640 & 4 &  55634211\\\\\n",
       "\t3 & rs1000137  & ENSG00000272839 & 1.261994e-13 & -0.17162745 & 0.022657505 & 7 & 157851460\\\\\n",
       "\t4 & rs10001795 & ENSG00000121892 & 2.088410e-05 & -0.03630321 & 0.008460434 & 4 &  40366982\\\\\n",
       "\t5 & rs10004630 & ENSG00000170390 & 1.804495e-17 &  0.12054523 & 0.013573487 & 4 & 150065588\\\\\n",
       "\t6 & rs10007349 & ENSG00000038210 & 1.368337e-07 &  0.11265677 & 0.021188828 & 4 &  25224916\\\\\n",
       "\\end{tabular}\n"
      ],
      "text/markdown": [
       "\n",
       "A data.frame: 6 × 7\n",
       "\n",
       "| <!--/--> | snps &lt;chr&gt; | gene &lt;chr&gt; | pvalue &lt;dbl&gt; | beta &lt;dbl&gt; | se &lt;dbl&gt; | chr &lt;dbl&gt; | SNPpos &lt;int&gt; |\n",
       "|---|---|---|---|---|---|---|---|\n",
       "| 1 | rs10000507 | ENSG00000164305 | 1.194703e-05 | -0.05880549 | 0.013312181 | 4 | 184698127 |\n",
       "| 2 | rs10000850 | ENSG00000128039 | 7.576675e-43 | -0.64265343 | 0.043284640 | 4 |  55634211 |\n",
       "| 3 | rs1000137  | ENSG00000272839 | 1.261994e-13 | -0.17162745 | 0.022657505 | 7 | 157851460 |\n",
       "| 4 | rs10001795 | ENSG00000121892 | 2.088410e-05 | -0.03630321 | 0.008460434 | 4 |  40366982 |\n",
       "| 5 | rs10004630 | ENSG00000170390 | 1.804495e-17 |  0.12054523 | 0.013573487 | 4 | 150065588 |\n",
       "| 6 | rs10007349 | ENSG00000038210 | 1.368337e-07 |  0.11265677 | 0.021188828 | 4 |  25224916 |\n",
       "\n"
      ],
      "text/plain": [
       "  snps       gene            pvalue       beta        se          chr SNPpos   \n",
       "1 rs10000507 ENSG00000164305 1.194703e-05 -0.05880549 0.013312181 4   184698127\n",
       "2 rs10000850 ENSG00000128039 7.576675e-43 -0.64265343 0.043284640 4    55634211\n",
       "3 rs1000137  ENSG00000272839 1.261994e-13 -0.17162745 0.022657505 7   157851460\n",
       "4 rs10001795 ENSG00000121892 2.088410e-05 -0.03630321 0.008460434 4    40366982\n",
       "5 rs10004630 ENSG00000170390 1.804495e-17  0.12054523 0.013573487 4   150065588\n",
       "6 rs10007349 ENSG00000038210 1.368337e-07  0.11265677 0.021188828 4    25224916"
      ]
     },
     "metadata": {},
     "output_type": "display_data"
    }
   ],
   "source": [
    "head(cis.eqtl.conditional)"
   ]
  },
  {
   "cell_type": "code",
   "execution_count": 11,
   "id": "c0240f96-b6c6-47cf-b5bc-d255d7116e8d",
   "metadata": {},
   "outputs": [],
   "source": [
    "da.peaks <- read.csv(\"~/gains_team282/epigenetics/calderon_et_al/analysis/atac_seq/da_peak_set.csv\", row.names=1)"
   ]
  },
  {
   "cell_type": "code",
   "execution_count": 12,
   "id": "fbf04c92-9cf7-435b-acb6-e3df36269de9",
   "metadata": {},
   "outputs": [
    {
     "data": {
      "text/html": [
       "<table class=\"dataframe\">\n",
       "<caption>A data.frame: 6 × 12</caption>\n",
       "<thead>\n",
       "\t<tr><th></th><th scope=col>Contrast</th><th scope=col>Cell.Type</th><th scope=col>Peak.ID</th><th scope=col>Peak.Chr</th><th scope=col>Peak.Start</th><th scope=col>Peak.End</th><th scope=col>logFC</th><th scope=col>AveExpr</th><th scope=col>t</th><th scope=col>P.Value</th><th scope=col>adj.P.Val</th><th scope=col>B</th></tr>\n",
       "\t<tr><th></th><th scope=col>&lt;chr&gt;</th><th scope=col>&lt;chr&gt;</th><th scope=col>&lt;chr&gt;</th><th scope=col>&lt;chr&gt;</th><th scope=col>&lt;int&gt;</th><th scope=col>&lt;int&gt;</th><th scope=col>&lt;dbl&gt;</th><th scope=col>&lt;dbl&gt;</th><th scope=col>&lt;dbl&gt;</th><th scope=col>&lt;dbl&gt;</th><th scope=col>&lt;dbl&gt;</th><th scope=col>&lt;dbl&gt;</th></tr>\n",
       "</thead>\n",
       "<tbody>\n",
       "\t<tr><th scope=row>1</th><td>Bulk_B_Stimulated-Bulk_B_Baseline</td><td>Bulk_B</td><td>13:50244295-50246227 </td><td>13</td><td> 50244295</td><td> 50246227</td><td>4.068530</td><td>1.9922172</td><td>9.547057</td><td>7.190173e-17</td><td>4.418153e-11</td><td>25.19917</td></tr>\n",
       "\t<tr><th scope=row>2</th><td>Bulk_B_Stimulated-Bulk_B_Baseline</td><td>Bulk_B</td><td>13:79450967-79452794 </td><td>13</td><td> 79450967</td><td> 79452794</td><td>3.720693</td><td>2.0688902</td><td>9.146720</td><td>7.240018e-16</td><td>2.224391e-10</td><td>23.23470</td></tr>\n",
       "\t<tr><th scope=row>3</th><td>Bulk_B_Stimulated-Bulk_B_Baseline</td><td>Bulk_B</td><td>9:99470831-99473127  </td><td>9 </td><td> 99470831</td><td> 99473127</td><td>3.924045</td><td>1.2458540</td><td>9.056953</td><td>1.211705e-15</td><td>2.481858e-10</td><td>22.79560</td></tr>\n",
       "\t<tr><th scope=row>4</th><td>Bulk_B_Stimulated-Bulk_B_Baseline</td><td>Bulk_B</td><td>16:19293486-19294933 </td><td>16</td><td> 19293486</td><td> 19294933</td><td>5.314531</td><td>0.3815736</td><td>8.939779</td><td>2.369063e-15</td><td>3.639301e-10</td><td>22.22338</td></tr>\n",
       "\t<tr><th scope=row>5</th><td>Bulk_B_Stimulated-Bulk_B_Baseline</td><td>Bulk_B</td><td>10:90977043-90978869 </td><td>10</td><td> 90977043</td><td> 90978869</td><td>3.431728</td><td>1.0461273</td><td>8.440246</td><td>4.027307e-14</td><td>4.949327e-09</td><td>19.79878</td></tr>\n",
       "\t<tr><th scope=row>6</th><td>Bulk_B_Stimulated-Bulk_B_Baseline</td><td>Bulk_B</td><td>7:140375586-140377343</td><td>7 </td><td>140375586</td><td>140377343</td><td>3.786718</td><td>2.0515648</td><td>8.237938</td><td>1.252067e-13</td><td>1.282265e-08</td><td>18.82526</td></tr>\n",
       "</tbody>\n",
       "</table>\n"
      ],
      "text/latex": [
       "A data.frame: 6 × 12\n",
       "\\begin{tabular}{r|llllllllllll}\n",
       "  & Contrast & Cell.Type & Peak.ID & Peak.Chr & Peak.Start & Peak.End & logFC & AveExpr & t & P.Value & adj.P.Val & B\\\\\n",
       "  & <chr> & <chr> & <chr> & <chr> & <int> & <int> & <dbl> & <dbl> & <dbl> & <dbl> & <dbl> & <dbl>\\\\\n",
       "\\hline\n",
       "\t1 & Bulk\\_B\\_Stimulated-Bulk\\_B\\_Baseline & Bulk\\_B & 13:50244295-50246227  & 13 &  50244295 &  50246227 & 4.068530 & 1.9922172 & 9.547057 & 7.190173e-17 & 4.418153e-11 & 25.19917\\\\\n",
       "\t2 & Bulk\\_B\\_Stimulated-Bulk\\_B\\_Baseline & Bulk\\_B & 13:79450967-79452794  & 13 &  79450967 &  79452794 & 3.720693 & 2.0688902 & 9.146720 & 7.240018e-16 & 2.224391e-10 & 23.23470\\\\\n",
       "\t3 & Bulk\\_B\\_Stimulated-Bulk\\_B\\_Baseline & Bulk\\_B & 9:99470831-99473127   & 9  &  99470831 &  99473127 & 3.924045 & 1.2458540 & 9.056953 & 1.211705e-15 & 2.481858e-10 & 22.79560\\\\\n",
       "\t4 & Bulk\\_B\\_Stimulated-Bulk\\_B\\_Baseline & Bulk\\_B & 16:19293486-19294933  & 16 &  19293486 &  19294933 & 5.314531 & 0.3815736 & 8.939779 & 2.369063e-15 & 3.639301e-10 & 22.22338\\\\\n",
       "\t5 & Bulk\\_B\\_Stimulated-Bulk\\_B\\_Baseline & Bulk\\_B & 10:90977043-90978869  & 10 &  90977043 &  90978869 & 3.431728 & 1.0461273 & 8.440246 & 4.027307e-14 & 4.949327e-09 & 19.79878\\\\\n",
       "\t6 & Bulk\\_B\\_Stimulated-Bulk\\_B\\_Baseline & Bulk\\_B & 7:140375586-140377343 & 7  & 140375586 & 140377343 & 3.786718 & 2.0515648 & 8.237938 & 1.252067e-13 & 1.282265e-08 & 18.82526\\\\\n",
       "\\end{tabular}\n"
      ],
      "text/markdown": [
       "\n",
       "A data.frame: 6 × 12\n",
       "\n",
       "| <!--/--> | Contrast &lt;chr&gt; | Cell.Type &lt;chr&gt; | Peak.ID &lt;chr&gt; | Peak.Chr &lt;chr&gt; | Peak.Start &lt;int&gt; | Peak.End &lt;int&gt; | logFC &lt;dbl&gt; | AveExpr &lt;dbl&gt; | t &lt;dbl&gt; | P.Value &lt;dbl&gt; | adj.P.Val &lt;dbl&gt; | B &lt;dbl&gt; |\n",
       "|---|---|---|---|---|---|---|---|---|---|---|---|---|\n",
       "| 1 | Bulk_B_Stimulated-Bulk_B_Baseline | Bulk_B | 13:50244295-50246227  | 13 |  50244295 |  50246227 | 4.068530 | 1.9922172 | 9.547057 | 7.190173e-17 | 4.418153e-11 | 25.19917 |\n",
       "| 2 | Bulk_B_Stimulated-Bulk_B_Baseline | Bulk_B | 13:79450967-79452794  | 13 |  79450967 |  79452794 | 3.720693 | 2.0688902 | 9.146720 | 7.240018e-16 | 2.224391e-10 | 23.23470 |\n",
       "| 3 | Bulk_B_Stimulated-Bulk_B_Baseline | Bulk_B | 9:99470831-99473127   | 9  |  99470831 |  99473127 | 3.924045 | 1.2458540 | 9.056953 | 1.211705e-15 | 2.481858e-10 | 22.79560 |\n",
       "| 4 | Bulk_B_Stimulated-Bulk_B_Baseline | Bulk_B | 16:19293486-19294933  | 16 |  19293486 |  19294933 | 5.314531 | 0.3815736 | 8.939779 | 2.369063e-15 | 3.639301e-10 | 22.22338 |\n",
       "| 5 | Bulk_B_Stimulated-Bulk_B_Baseline | Bulk_B | 10:90977043-90978869  | 10 |  90977043 |  90978869 | 3.431728 | 1.0461273 | 8.440246 | 4.027307e-14 | 4.949327e-09 | 19.79878 |\n",
       "| 6 | Bulk_B_Stimulated-Bulk_B_Baseline | Bulk_B | 7:140375586-140377343 | 7  | 140375586 | 140377343 | 3.786718 | 2.0515648 | 8.237938 | 1.252067e-13 | 1.282265e-08 | 18.82526 |\n",
       "\n"
      ],
      "text/plain": [
       "  Contrast                          Cell.Type Peak.ID               Peak.Chr\n",
       "1 Bulk_B_Stimulated-Bulk_B_Baseline Bulk_B    13:50244295-50246227  13      \n",
       "2 Bulk_B_Stimulated-Bulk_B_Baseline Bulk_B    13:79450967-79452794  13      \n",
       "3 Bulk_B_Stimulated-Bulk_B_Baseline Bulk_B    9:99470831-99473127   9       \n",
       "4 Bulk_B_Stimulated-Bulk_B_Baseline Bulk_B    16:19293486-19294933  16      \n",
       "5 Bulk_B_Stimulated-Bulk_B_Baseline Bulk_B    10:90977043-90978869  10      \n",
       "6 Bulk_B_Stimulated-Bulk_B_Baseline Bulk_B    7:140375586-140377343 7       \n",
       "  Peak.Start Peak.End  logFC    AveExpr   t        P.Value      adj.P.Val   \n",
       "1  50244295   50246227 4.068530 1.9922172 9.547057 7.190173e-17 4.418153e-11\n",
       "2  79450967   79452794 3.720693 2.0688902 9.146720 7.240018e-16 2.224391e-10\n",
       "3  99470831   99473127 3.924045 1.2458540 9.056953 1.211705e-15 2.481858e-10\n",
       "4  19293486   19294933 5.314531 0.3815736 8.939779 2.369063e-15 3.639301e-10\n",
       "5  90977043   90978869 3.431728 1.0461273 8.440246 4.027307e-14 4.949327e-09\n",
       "6 140375586  140377343 3.786718 2.0515648 8.237938 1.252067e-13 1.282265e-08\n",
       "  B       \n",
       "1 25.19917\n",
       "2 23.23470\n",
       "3 22.79560\n",
       "4 22.22338\n",
       "5 19.79878\n",
       "6 18.82526"
      ]
     },
     "metadata": {},
     "output_type": "display_data"
    }
   ],
   "source": [
    "head(da.peaks)"
   ]
  },
  {
   "cell_type": "code",
   "execution_count": 13,
   "id": "97509b03-4b70-47f7-a10b-e42166213711",
   "metadata": {},
   "outputs": [],
   "source": [
    "de.genes <- read.csv(\"~/gains_team282/epigenetics/calderon_et_al/analysis/rna_seq/de_genes_set.csv\", row.names=1)"
   ]
  },
  {
   "cell_type": "code",
   "execution_count": 14,
   "id": "263ec0e7-1d52-45be-a02f-4d9551757f91",
   "metadata": {},
   "outputs": [
    {
     "data": {
      "text/html": [
       "<table class=\"dataframe\">\n",
       "<caption>A data.frame: 6 × 9</caption>\n",
       "<thead>\n",
       "\t<tr><th></th><th scope=col>Contrast</th><th scope=col>Cell.Type</th><th scope=col>Gene.ID</th><th scope=col>logFC</th><th scope=col>AveExpr</th><th scope=col>t</th><th scope=col>P.Value</th><th scope=col>adj.P.Val</th><th scope=col>B</th></tr>\n",
       "\t<tr><th></th><th scope=col>&lt;chr&gt;</th><th scope=col>&lt;chr&gt;</th><th scope=col>&lt;chr&gt;</th><th scope=col>&lt;dbl&gt;</th><th scope=col>&lt;dbl&gt;</th><th scope=col>&lt;dbl&gt;</th><th scope=col>&lt;dbl&gt;</th><th scope=col>&lt;dbl&gt;</th><th scope=col>&lt;dbl&gt;</th></tr>\n",
       "</thead>\n",
       "<tbody>\n",
       "\t<tr><th scope=row>1</th><td>Bulk_B_Stimulated-Bulk_B_Baseline</td><td>Bulk_B</td><td>ENSG00000120129</td><td> -9.903447</td><td> 5.807615</td><td>-8.916094</td><td>4.638292e-15</td><td>1.607967e-10</td><td>22.31871</td></tr>\n",
       "\t<tr><th scope=row>2</th><td>Bulk_B_Stimulated-Bulk_B_Baseline</td><td>Bulk_B</td><td>ENSG00000067082</td><td> -4.802029</td><td> 9.347232</td><td>-8.839756</td><td>7.074361e-15</td><td>1.607967e-10</td><td>21.94573</td></tr>\n",
       "\t<tr><th scope=row>3</th><td>Bulk_B_Stimulated-Bulk_B_Baseline</td><td>Bulk_B</td><td>ENSG00000157514</td><td> -9.019418</td><td> 5.049123</td><td>-8.433398</td><td>6.600765e-14</td><td>1.000214e-09</td><td>19.96921</td></tr>\n",
       "\t<tr><th scope=row>4</th><td>Bulk_B_Stimulated-Bulk_B_Baseline</td><td>Bulk_B</td><td>ENSG00000170345</td><td>-10.608820</td><td> 4.083466</td><td>-8.368503</td><td>9.407246e-14</td><td>1.069110e-09</td><td>19.65517</td></tr>\n",
       "\t<tr><th scope=row>5</th><td>Bulk_B_Stimulated-Bulk_B_Baseline</td><td>Bulk_B</td><td>ENSG00000234572</td><td> -7.755181</td><td>-4.424018</td><td>-8.084770</td><td>4.389632e-13</td><td>3.990966e-09</td><td>18.28843</td></tr>\n",
       "\t<tr><th scope=row>6</th><td>Bulk_B_Stimulated-Bulk_B_Baseline</td><td>Bulk_B</td><td>ENSG00000251309</td><td> -7.769301</td><td>-4.515273</td><td>-7.801246</td><td>2.014435e-12</td><td>1.526237e-08</td><td>16.93438</td></tr>\n",
       "</tbody>\n",
       "</table>\n"
      ],
      "text/latex": [
       "A data.frame: 6 × 9\n",
       "\\begin{tabular}{r|lllllllll}\n",
       "  & Contrast & Cell.Type & Gene.ID & logFC & AveExpr & t & P.Value & adj.P.Val & B\\\\\n",
       "  & <chr> & <chr> & <chr> & <dbl> & <dbl> & <dbl> & <dbl> & <dbl> & <dbl>\\\\\n",
       "\\hline\n",
       "\t1 & Bulk\\_B\\_Stimulated-Bulk\\_B\\_Baseline & Bulk\\_B & ENSG00000120129 &  -9.903447 &  5.807615 & -8.916094 & 4.638292e-15 & 1.607967e-10 & 22.31871\\\\\n",
       "\t2 & Bulk\\_B\\_Stimulated-Bulk\\_B\\_Baseline & Bulk\\_B & ENSG00000067082 &  -4.802029 &  9.347232 & -8.839756 & 7.074361e-15 & 1.607967e-10 & 21.94573\\\\\n",
       "\t3 & Bulk\\_B\\_Stimulated-Bulk\\_B\\_Baseline & Bulk\\_B & ENSG00000157514 &  -9.019418 &  5.049123 & -8.433398 & 6.600765e-14 & 1.000214e-09 & 19.96921\\\\\n",
       "\t4 & Bulk\\_B\\_Stimulated-Bulk\\_B\\_Baseline & Bulk\\_B & ENSG00000170345 & -10.608820 &  4.083466 & -8.368503 & 9.407246e-14 & 1.069110e-09 & 19.65517\\\\\n",
       "\t5 & Bulk\\_B\\_Stimulated-Bulk\\_B\\_Baseline & Bulk\\_B & ENSG00000234572 &  -7.755181 & -4.424018 & -8.084770 & 4.389632e-13 & 3.990966e-09 & 18.28843\\\\\n",
       "\t6 & Bulk\\_B\\_Stimulated-Bulk\\_B\\_Baseline & Bulk\\_B & ENSG00000251309 &  -7.769301 & -4.515273 & -7.801246 & 2.014435e-12 & 1.526237e-08 & 16.93438\\\\\n",
       "\\end{tabular}\n"
      ],
      "text/markdown": [
       "\n",
       "A data.frame: 6 × 9\n",
       "\n",
       "| <!--/--> | Contrast &lt;chr&gt; | Cell.Type &lt;chr&gt; | Gene.ID &lt;chr&gt; | logFC &lt;dbl&gt; | AveExpr &lt;dbl&gt; | t &lt;dbl&gt; | P.Value &lt;dbl&gt; | adj.P.Val &lt;dbl&gt; | B &lt;dbl&gt; |\n",
       "|---|---|---|---|---|---|---|---|---|---|\n",
       "| 1 | Bulk_B_Stimulated-Bulk_B_Baseline | Bulk_B | ENSG00000120129 |  -9.903447 |  5.807615 | -8.916094 | 4.638292e-15 | 1.607967e-10 | 22.31871 |\n",
       "| 2 | Bulk_B_Stimulated-Bulk_B_Baseline | Bulk_B | ENSG00000067082 |  -4.802029 |  9.347232 | -8.839756 | 7.074361e-15 | 1.607967e-10 | 21.94573 |\n",
       "| 3 | Bulk_B_Stimulated-Bulk_B_Baseline | Bulk_B | ENSG00000157514 |  -9.019418 |  5.049123 | -8.433398 | 6.600765e-14 | 1.000214e-09 | 19.96921 |\n",
       "| 4 | Bulk_B_Stimulated-Bulk_B_Baseline | Bulk_B | ENSG00000170345 | -10.608820 |  4.083466 | -8.368503 | 9.407246e-14 | 1.069110e-09 | 19.65517 |\n",
       "| 5 | Bulk_B_Stimulated-Bulk_B_Baseline | Bulk_B | ENSG00000234572 |  -7.755181 | -4.424018 | -8.084770 | 4.389632e-13 | 3.990966e-09 | 18.28843 |\n",
       "| 6 | Bulk_B_Stimulated-Bulk_B_Baseline | Bulk_B | ENSG00000251309 |  -7.769301 | -4.515273 | -7.801246 | 2.014435e-12 | 1.526237e-08 | 16.93438 |\n",
       "\n"
      ],
      "text/plain": [
       "  Contrast                          Cell.Type Gene.ID         logFC     \n",
       "1 Bulk_B_Stimulated-Bulk_B_Baseline Bulk_B    ENSG00000120129  -9.903447\n",
       "2 Bulk_B_Stimulated-Bulk_B_Baseline Bulk_B    ENSG00000067082  -4.802029\n",
       "3 Bulk_B_Stimulated-Bulk_B_Baseline Bulk_B    ENSG00000157514  -9.019418\n",
       "4 Bulk_B_Stimulated-Bulk_B_Baseline Bulk_B    ENSG00000170345 -10.608820\n",
       "5 Bulk_B_Stimulated-Bulk_B_Baseline Bulk_B    ENSG00000234572  -7.755181\n",
       "6 Bulk_B_Stimulated-Bulk_B_Baseline Bulk_B    ENSG00000251309  -7.769301\n",
       "  AveExpr   t         P.Value      adj.P.Val    B       \n",
       "1  5.807615 -8.916094 4.638292e-15 1.607967e-10 22.31871\n",
       "2  9.347232 -8.839756 7.074361e-15 1.607967e-10 21.94573\n",
       "3  5.049123 -8.433398 6.600765e-14 1.000214e-09 19.96921\n",
       "4  4.083466 -8.368503 9.407246e-14 1.069110e-09 19.65517\n",
       "5 -4.424018 -8.084770 4.389632e-13 3.990966e-09 18.28843\n",
       "6 -4.515273 -7.801246 2.014435e-12 1.526237e-08 16.93438"
      ]
     },
     "metadata": {},
     "output_type": "display_data"
    }
   ],
   "source": [
    "head(de.genes)"
   ]
  },
  {
   "cell_type": "markdown",
   "id": "636412d9-373a-4549-a179-350bb4806be8",
   "metadata": {
    "tags": []
   },
   "source": [
    "## Overlap of Sentinel cis-eQTL\n",
    "\n",
    "First, I'll start by testing the lead SNP for each gene for overlap with DA peaks. These peaks are derived from the initial pass analysis of cis-eQTL (not the conditional analysis). A sentinel SNP is the SNP with the highest p-value for a given location, representing the SNP with the highest evidence for association with the expression of the cognate gene."
   ]
  },
  {
   "cell_type": "code",
   "execution_count": 15,
   "id": "1dfcd576-71ac-41a1-bedf-85d5953ee383",
   "metadata": {},
   "outputs": [],
   "source": [
    "da.peak.ranges = GRanges(\n",
    "    seqnames=da.peaks$Peak.Chr,\n",
    "    ranges=IRanges(\n",
    "        start=da.peaks$Peak.Start,\n",
    "        end=da.peaks$Peak.End\n",
    "    ),\n",
    "    strand=rep(\"*\", nrow(da.peaks))\n",
    ")\n",
    "mcols(da.peak.ranges) <- da.peaks[,c(\"Peak.ID\", \"Cell.Type\", \"logFC\", \"adj.P.Val\")]"
   ]
  },
  {
   "cell_type": "code",
   "execution_count": 16,
   "id": "89667bbc-18ef-49cd-95f7-f6da46929974",
   "metadata": {},
   "outputs": [
    {
     "data": {
      "text/plain": [
       "GRanges object with 171830 ranges and 4 metadata columns:\n",
       "           seqnames              ranges strand |                Peak.ID\n",
       "              <Rle>           <IRanges>  <Rle> |            <character>\n",
       "       [1]       13   50244295-50246227      * |   13:50244295-50246227\n",
       "       [2]       13   79450967-79452794      * |   13:79450967-79452794\n",
       "       [3]        9   99470831-99473127      * |    9:99470831-99473127\n",
       "       [4]       16   19293486-19294933      * |   16:19293486-19294933\n",
       "       [5]       10   90977043-90978869      * |   10:90977043-90978869\n",
       "       ...      ...                 ...    ... .                    ...\n",
       "  [171826]       13 112116343-112116882      * | 13:112116343-112116882\n",
       "  [171827]       16   67758899-67760054      * |   16:67758899-67760054\n",
       "  [171828]       16   85514268-85516322      * |   16:85514268-85516322\n",
       "  [171829]        5   94983466-94984498      * |    5:94983466-94984498\n",
       "  [171830]       22   26614942-26615897      * |   22:26614942-26615897\n",
       "                Cell.Type     logFC   adj.P.Val\n",
       "              <character> <numeric>   <numeric>\n",
       "       [1]         Bulk_B   4.06853 4.41815e-11\n",
       "       [2]         Bulk_B   3.72069 2.22439e-10\n",
       "       [3]         Bulk_B   3.92404 2.48186e-10\n",
       "       [4]         Bulk_B   5.31453 3.63930e-10\n",
       "       [5]         Bulk_B   3.43173 4.94933e-09\n",
       "       ...            ...       ...         ...\n",
       "  [171826] Th2_precursors  -2.55676  0.00999268\n",
       "  [171827] Th2_precursors  -1.77175  0.00999358\n",
       "  [171828] Th2_precursors  -1.94433  0.00999463\n",
       "  [171829] Th2_precursors   2.06923  0.00999463\n",
       "  [171830] Th2_precursors  -1.96154  0.00999469\n",
       "  -------\n",
       "  seqinfo: 64 sequences from an unspecified genome; no seqlengths"
      ]
     },
     "metadata": {},
     "output_type": "display_data"
    }
   ],
   "source": [
    "da.peak.ranges"
   ]
  },
  {
   "cell_type": "code",
   "execution_count": 17,
   "id": "aeb35272-46ce-48e7-b51f-c7d3648893d3",
   "metadata": {},
   "outputs": [],
   "source": [
    "cis.eqtl.sentinel <- cis.eqtl %>%\n",
    "    dplyr::group_by(gene) %>%\n",
    "    dplyr::slice_min(order_by=pvalue, n=1)\n",
    "\n",
    "cis.eqtl.sentinel.ranges = GRanges(\n",
    "    seqnames=cis.eqtl.sentinel$chr,\n",
    "    ranges=IRanges(\n",
    "        start=cis.eqtl.sentinel$SNPpos,\n",
    "        end=cis.eqtl.sentinel$SNPpos\n",
    "    ),\n",
    "    strand=rep(\"*\", nrow(cis.eqtl.sentinel))\n",
    ")\n",
    "mcols(cis.eqtl.sentinel.ranges) <- cis.eqtl.sentinel[,c(\"gene\", \"TSS\", \"beta\", \"pvalue\")]"
   ]
  },
  {
   "cell_type": "code",
   "execution_count": 18,
   "id": "76058010-8449-4137-9152-25d5abdc6320",
   "metadata": {},
   "outputs": [
    {
     "data": {
      "text/plain": [
       "GRanges object with 17286 ranges and 4 metadata columns:\n",
       "          seqnames    ranges strand |            gene       TSS       beta\n",
       "             <Rle> <IRanges>  <Rle> |     <character> <integer>  <numeric>\n",
       "      [1]        1 169776143      * | ENSG00000000457 169894267  0.0498587\n",
       "      [2]        1 169776312      * | ENSG00000000457 169894267  0.0498587\n",
       "      [3]        1 169749095      * | ENSG00000000460 169662007 -0.0721270\n",
       "      [4]        1 196708768      * | ENSG00000000971 196652043  0.1713537\n",
       "      [5]        1 196726612      * | ENSG00000000971 196652043  0.1713537\n",
       "      ...      ...       ...    ... .             ...       ...        ...\n",
       "  [17282]       11  78283443      * | ENSG00000288538  78223815 -0.2467764\n",
       "  [17283]       11  78284097      * | ENSG00000288538  78223815 -0.2467764\n",
       "  [17284]        1 186609504      * | ENSG00000288562 186624700  0.1080522\n",
       "  [17285]        1 186617709      * | ENSG00000288562 186624700  0.1080522\n",
       "  [17286]        1  43916852      * | ENSG00000288573  43946551 -0.0322592\n",
       "               pvalue\n",
       "            <numeric>\n",
       "      [1] 5.19259e-12\n",
       "      [2] 5.19259e-12\n",
       "      [3] 5.42668e-09\n",
       "      [4] 7.51523e-06\n",
       "      [5] 7.51523e-06\n",
       "      ...         ...\n",
       "  [17282] 1.03827e-35\n",
       "  [17283] 1.03827e-35\n",
       "  [17284] 3.06143e-05\n",
       "  [17285] 3.06143e-05\n",
       "  [17286] 3.28870e-06\n",
       "  -------\n",
       "  seqinfo: 23 sequences from an unspecified genome; no seqlengths"
      ]
     },
     "metadata": {},
     "output_type": "display_data"
    }
   ],
   "source": [
    "cis.eqtl.sentinel.ranges"
   ]
  },
  {
   "cell_type": "code",
   "execution_count": 19,
   "id": "7f88add9-3727-4bf3-bd5b-93f91ba3f1c0",
   "metadata": {},
   "outputs": [
    {
     "name": "stderr",
     "output_type": "stream",
     "text": [
      "Warning message in .Seqinfo.mergexy(x, y):\n",
      "“Each of the 2 combined objects has sequence levels not in the other:\n",
      "  - in 'x': 23\n",
      "  - in 'y': X, KI270726.1, KI270742.1, KI270717.1, GL000008.2, KI270734.1, KI270706.1, GL000221.1, KI270731.1, KI270749.1, KI270733.1, GL000220.1, GL000009.2, GL000194.1, KI270709.1, KI270750.1, GL000195.1, KI270727.1, KI270748.1, Y, GL000224.1, KI270744.1, GL000216.2, GL000219.1, KI270721.1, KI270719.1, KI270712.1, KI270725.1, KI270722.1, KI270707.1, KI270538.1, KI270442.1, KI270708.1, KI270732.1, GL000205.2, KI270737.1, KI270735.1, GL000214.1, KI270438.1, GL000218.1, KI270746.1, KI270736.1\n",
      "  Make sure to always combine/compare objects based on the same reference\n",
      "  genome (use suppressWarnings() to suppress this warning).”\n"
     ]
    }
   ],
   "source": [
    "overlaps <- findOverlaps(cis.eqtl.sentinel.ranges, da.peak.ranges)"
   ]
  },
  {
   "cell_type": "code",
   "execution_count": 20,
   "id": "dfc90751-362b-4f49-bb66-3f355a364fda",
   "metadata": {},
   "outputs": [],
   "source": [
    "overlap.set <- dplyr::bind_cols(\n",
    "    as.data.frame(cis.eqtl.sentinel.ranges[overlaps@from, ]) %>%\n",
    "        dplyr::select(SNP.Chr=seqnames, SNP.Pos=start, eQTL.Gene=gene, eQTL.TSS=TSS, eQTL.Beta=beta, eQTL.P=pvalue),\n",
    "    as.data.frame(da.peak.ranges[overlaps@to, ]) %>%\n",
    "        dplyr::select(Peak.ID=Peak.ID, Peak.Chr=seqnames, Peak.Start=start, Peak.End=end, Peak.Width=width, Peak.Cell.Type=Cell.Type, Peak.Log.FC=logFC, Peak.P=adj.P.Val)\n",
    ")"
   ]
  },
  {
   "cell_type": "code",
   "execution_count": 21,
   "id": "0b4e3baa-3269-466f-9e0b-4a299230aefc",
   "metadata": {},
   "outputs": [
    {
     "data": {
      "text/html": [
       "485"
      ],
      "text/latex": [
       "485"
      ],
      "text/markdown": [
       "485"
      ],
      "text/plain": [
       "[1] 485"
      ]
     },
     "metadata": {},
     "output_type": "display_data"
    }
   ],
   "source": [
    "length(unique(overlap.set$Peak.ID))"
   ]
  },
  {
   "cell_type": "code",
   "execution_count": 22,
   "id": "4e3b1142-d7b3-41e7-bcca-53b24f2cd098",
   "metadata": {},
   "outputs": [
    {
     "data": {
      "text/html": [
       "582"
      ],
      "text/latex": [
       "582"
      ],
      "text/markdown": [
       "582"
      ],
      "text/plain": [
       "[1] 582"
      ]
     },
     "metadata": {},
     "output_type": "display_data"
    }
   ],
   "source": [
    "length(unique(paste0(overlap.set$SNP.Chr, \":\", overlap.set$SNP.Pos)))"
   ]
  },
  {
   "cell_type": "code",
   "execution_count": 23,
   "id": "4804cd4f-92ce-4be2-b835-9667399c9bc5",
   "metadata": {},
   "outputs": [
    {
     "data": {
      "text/html": [
       "499"
      ],
      "text/latex": [
       "499"
      ],
      "text/markdown": [
       "499"
      ],
      "text/plain": [
       "[1] 499"
      ]
     },
     "metadata": {},
     "output_type": "display_data"
    }
   ],
   "source": [
    "length(unique(overlap.set$eQTL.Gene))"
   ]
  },
  {
   "cell_type": "markdown",
   "id": "e3c82056-975e-49b7-bab3-1ae116108537",
   "metadata": {
    "tags": []
   },
   "source": [
    "## Overlap of All Significant cis-eQTL\n",
    "\n",
    "I'll test all significant SNPs for each gene for overlap with DA peaks. These peaks are derived from the initial pass analysis of cis-eQTL (not the conditional analysis)."
   ]
  },
  {
   "cell_type": "code",
   "execution_count": 24,
   "id": "e9192764-64f1-46ad-a32e-56dc74168d83",
   "metadata": {},
   "outputs": [],
   "source": [
    "da.peak.ranges = GRanges(\n",
    "    seqnames=da.peaks$Peak.Chr,\n",
    "    ranges=IRanges(\n",
    "        start=da.peaks$Peak.Start,\n",
    "        end=da.peaks$Peak.End\n",
    "    ),\n",
    "    strand=rep(\"*\", nrow(da.peaks))\n",
    ")\n",
    "mcols(da.peak.ranges) <- da.peaks[,c(\"Peak.ID\", \"Cell.Type\", \"logFC\", \"adj.P.Val\")]"
   ]
  },
  {
   "cell_type": "code",
   "execution_count": 25,
   "id": "e28ceb85-989d-41a3-90bf-989200b2864b",
   "metadata": {},
   "outputs": [
    {
     "data": {
      "text/plain": [
       "GRanges object with 171830 ranges and 4 metadata columns:\n",
       "           seqnames              ranges strand |                Peak.ID\n",
       "              <Rle>           <IRanges>  <Rle> |            <character>\n",
       "       [1]       13   50244295-50246227      * |   13:50244295-50246227\n",
       "       [2]       13   79450967-79452794      * |   13:79450967-79452794\n",
       "       [3]        9   99470831-99473127      * |    9:99470831-99473127\n",
       "       [4]       16   19293486-19294933      * |   16:19293486-19294933\n",
       "       [5]       10   90977043-90978869      * |   10:90977043-90978869\n",
       "       ...      ...                 ...    ... .                    ...\n",
       "  [171826]       13 112116343-112116882      * | 13:112116343-112116882\n",
       "  [171827]       16   67758899-67760054      * |   16:67758899-67760054\n",
       "  [171828]       16   85514268-85516322      * |   16:85514268-85516322\n",
       "  [171829]        5   94983466-94984498      * |    5:94983466-94984498\n",
       "  [171830]       22   26614942-26615897      * |   22:26614942-26615897\n",
       "                Cell.Type     logFC   adj.P.Val\n",
       "              <character> <numeric>   <numeric>\n",
       "       [1]         Bulk_B   4.06853 4.41815e-11\n",
       "       [2]         Bulk_B   3.72069 2.22439e-10\n",
       "       [3]         Bulk_B   3.92404 2.48186e-10\n",
       "       [4]         Bulk_B   5.31453 3.63930e-10\n",
       "       [5]         Bulk_B   3.43173 4.94933e-09\n",
       "       ...            ...       ...         ...\n",
       "  [171826] Th2_precursors  -2.55676  0.00999268\n",
       "  [171827] Th2_precursors  -1.77175  0.00999358\n",
       "  [171828] Th2_precursors  -1.94433  0.00999463\n",
       "  [171829] Th2_precursors   2.06923  0.00999463\n",
       "  [171830] Th2_precursors  -1.96154  0.00999469\n",
       "  -------\n",
       "  seqinfo: 64 sequences from an unspecified genome; no seqlengths"
      ]
     },
     "metadata": {},
     "output_type": "display_data"
    }
   ],
   "source": [
    "da.peak.ranges"
   ]
  },
  {
   "cell_type": "code",
   "execution_count": 26,
   "id": "cba8cb7e-3e79-40db-9a27-57970767ec2d",
   "metadata": {},
   "outputs": [],
   "source": [
    "cis.eqtl.ranges = GRanges(\n",
    "    seqnames=cis.eqtl$chr,\n",
    "    ranges=IRanges(\n",
    "        start=cis.eqtl$SNPpos,\n",
    "        end=cis.eqtl$SNPpos\n",
    "    ),\n",
    "    strand=rep(\"*\", nrow(cis.eqtl))\n",
    ")\n",
    "mcols(cis.eqtl.ranges) <- cis.eqtl[,c(\"gene\", \"TSS\", \"beta\", \"pvalue\")]"
   ]
  },
  {
   "cell_type": "code",
   "execution_count": 27,
   "id": "59522f61-e8c3-4016-ae03-44e751e58d0f",
   "metadata": {},
   "outputs": [
    {
     "data": {
      "text/plain": [
       "GRanges object with 1560934 ranges and 4 metadata columns:\n",
       "            seqnames    ranges strand |            gene       TSS       beta\n",
       "               <Rle> <IRanges>  <Rle> |     <character> <integer>  <numeric>\n",
       "        [1]        1 169699715      * | ENSG00000000457 169894267 -0.0495816\n",
       "        [2]        1 169700002      * | ENSG00000000457 169894267 -0.0506340\n",
       "        [3]        1 169700591      * | ENSG00000000457 169894267  0.0550592\n",
       "        [4]        1 169701315      * | ENSG00000000457 169894267  0.0559752\n",
       "        [5]        1 169701799      * | ENSG00000000457 169894267 -0.0502370\n",
       "        ...      ...       ...    ... .             ...       ...        ...\n",
       "  [1560930]        9 125750069      * | ENSG00000287782 125426169  0.0281308\n",
       "  [1560931]        9 125760087      * | ENSG00000287782 125426169  0.0280961\n",
       "  [1560932]        9 125760246      * | ENSG00000287782 125426169  0.0280961\n",
       "  [1560933]        9 125824786      * | ENSG00000287782 125426169  0.0277303\n",
       "  [1560934]        9 125831191      * | ENSG00000287782 125426169  0.0276957\n",
       "                 pvalue\n",
       "              <numeric>\n",
       "        [1] 3.72089e-05\n",
       "        [2] 2.54694e-05\n",
       "        [3] 3.36509e-05\n",
       "        [4] 2.43269e-05\n",
       "        [5] 2.79960e-05\n",
       "        ...         ...\n",
       "  [1560930] 3.51120e-05\n",
       "  [1560931] 3.46332e-05\n",
       "  [1560932] 3.46332e-05\n",
       "  [1560933] 4.19576e-05\n",
       "  [1560934] 4.19763e-05\n",
       "  -------\n",
       "  seqinfo: 23 sequences from an unspecified genome; no seqlengths"
      ]
     },
     "metadata": {},
     "output_type": "display_data"
    }
   ],
   "source": [
    "cis.eqtl.ranges"
   ]
  },
  {
   "cell_type": "code",
   "execution_count": 28,
   "id": "311526d0-7e0e-4350-97da-cb85d3821c79",
   "metadata": {},
   "outputs": [
    {
     "name": "stderr",
     "output_type": "stream",
     "text": [
      "Warning message in .Seqinfo.mergexy(x, y):\n",
      "“Each of the 2 combined objects has sequence levels not in the other:\n",
      "  - in 'x': 23\n",
      "  - in 'y': X, KI270726.1, KI270742.1, KI270717.1, GL000008.2, KI270734.1, KI270706.1, GL000221.1, KI270731.1, KI270749.1, KI270733.1, GL000220.1, GL000009.2, GL000194.1, KI270709.1, KI270750.1, GL000195.1, KI270727.1, KI270748.1, Y, GL000224.1, KI270744.1, GL000216.2, GL000219.1, KI270721.1, KI270719.1, KI270712.1, KI270725.1, KI270722.1, KI270707.1, KI270538.1, KI270442.1, KI270708.1, KI270732.1, GL000205.2, KI270737.1, KI270735.1, GL000214.1, KI270438.1, GL000218.1, KI270746.1, KI270736.1\n",
      "  Make sure to always combine/compare objects based on the same reference\n",
      "  genome (use suppressWarnings() to suppress this warning).”\n"
     ]
    }
   ],
   "source": [
    "overlaps <- findOverlaps(cis.eqtl.ranges, da.peak.ranges)"
   ]
  },
  {
   "cell_type": "code",
   "execution_count": 29,
   "id": "f94c9f08-726f-4723-b16d-2d036122e632",
   "metadata": {},
   "outputs": [],
   "source": [
    "overlap.set <- dplyr::bind_cols(\n",
    "    as.data.frame(cis.eqtl.ranges[overlaps@from, ]) %>%\n",
    "        dplyr::select(SNP.Chr=seqnames, SNP.Pos=start, eQTL.Gene=gene, eQTL.TSS=TSS, eQTL.Beta=beta, eQTL.P=pvalue),\n",
    "    as.data.frame(da.peak.ranges[overlaps@to, ]) %>%\n",
    "        dplyr::select(Peak.ID=Peak.ID, Peak.Chr=seqnames, Peak.Start=start, Peak.End=end, Peak.Width=width, Peak.Cell.Type=Cell.Type, Peak.Log.FC=logFC, Peak.P=adj.P.Val)\n",
    ")"
   ]
  },
  {
   "cell_type": "markdown",
   "id": "f5aad894-2b6a-4c70-8f98-a30dfd772663",
   "metadata": {},
   "source": [
    "There are 3124 unique peaks that have a significant eSNP."
   ]
  },
  {
   "cell_type": "code",
   "execution_count": 30,
   "id": "81544d3b-b2eb-4cb5-b786-60ed1000ec79",
   "metadata": {},
   "outputs": [
    {
     "data": {
      "text/html": [
       "11596"
      ],
      "text/latex": [
       "11596"
      ],
      "text/markdown": [
       "11596"
      ],
      "text/plain": [
       "[1] 11596"
      ]
     },
     "metadata": {},
     "output_type": "display_data"
    }
   ],
   "source": [
    "length(unique(overlap.set$Peak.ID))"
   ]
  },
  {
   "cell_type": "markdown",
   "id": "6f4ca3c5-b30b-42a2-b3c7-bd83333a4d4b",
   "metadata": {},
   "source": [
    "There are 9665 eSNPs that overlap with at least one DA peak."
   ]
  },
  {
   "cell_type": "code",
   "execution_count": 31,
   "id": "7fc503f5-94f0-4c2d-bfae-54e061816e4b",
   "metadata": {},
   "outputs": [
    {
     "data": {
      "text/html": [
       "26170"
      ],
      "text/latex": [
       "26170"
      ],
      "text/markdown": [
       "26170"
      ],
      "text/plain": [
       "[1] 26170"
      ]
     },
     "metadata": {},
     "output_type": "display_data"
    }
   ],
   "source": [
    "length(unique(paste0(overlap.set$SNP.Chr, \":\", overlap.set$SNP.Pos)))"
   ]
  },
  {
   "cell_type": "markdown",
   "id": "f594c49a-fefe-493b-840f-85a7d04e8425",
   "metadata": {},
   "source": [
    "There are 3958 eGenes that have at least one eSNP present in at least one DA peak."
   ]
  },
  {
   "cell_type": "code",
   "execution_count": 32,
   "id": "74c384b3-8864-43a1-b1c0-4e0462df9ccf",
   "metadata": {},
   "outputs": [
    {
     "data": {
      "text/html": [
       "6438"
      ],
      "text/latex": [
       "6438"
      ],
      "text/markdown": [
       "6438"
      ],
      "text/plain": [
       "[1] 6438"
      ]
     },
     "metadata": {},
     "output_type": "display_data"
    }
   ],
   "source": [
    "length(unique(overlap.set$eQTL.Gene))"
   ]
  },
  {
   "cell_type": "code",
   "execution_count": 33,
   "id": "a9ea6677-ecd6-4293-a9b9-2c047e1485dd",
   "metadata": {},
   "outputs": [
    {
     "data": {
      "text/html": [
       "<table class=\"dataframe\">\n",
       "<caption>A data.frame: 17 × 4</caption>\n",
       "<thead>\n",
       "\t<tr><th scope=col>Cell.Type</th><th scope=col>DA.Peak.Count</th><th scope=col>Overlap.Count</th><th scope=col>Proportion</th></tr>\n",
       "\t<tr><th scope=col>&lt;fct&gt;</th><th scope=col>&lt;int&gt;</th><th scope=col>&lt;int&gt;</th><th scope=col>&lt;dbl&gt;</th></tr>\n",
       "</thead>\n",
       "<tbody>\n",
       "\t<tr><td>Gamma_delta_T           </td><td> 1519</td><td> 382</td><td>0.2514812</td></tr>\n",
       "\t<tr><td>CD8pos_T                </td><td> 4923</td><td>1183</td><td>0.2403006</td></tr>\n",
       "\t<tr><td>Effector_CD4pos_T       </td><td>12428</td><td>2982</td><td>0.2399421</td></tr>\n",
       "\t<tr><td>Naive_CD8_T             </td><td> 1369</td><td> 326</td><td>0.2381300</td></tr>\n",
       "\t<tr><td>Effector_memory_CD8pos_T</td><td> 6916</td><td>1613</td><td>0.2332273</td></tr>\n",
       "\t<tr><td>Memory_Tregs            </td><td> 3253</td><td> 755</td><td>0.2320935</td></tr>\n",
       "\t<tr><td>Bulk_B                  </td><td>  651</td><td> 151</td><td>0.2319508</td></tr>\n",
       "\t<tr><td>Follicular_T_Helper     </td><td>14246</td><td>3207</td><td>0.2251158</td></tr>\n",
       "\t<tr><td>Regulatory_T            </td><td> 6506</td><td>1447</td><td>0.2224101</td></tr>\n",
       "\t<tr><td>Central_memory_CD8pos_T </td><td> 9198</td><td>2038</td><td>0.2215699</td></tr>\n",
       "\t<tr><td>Th17_precursors         </td><td>16620</td><td>3658</td><td>0.2200963</td></tr>\n",
       "\t<tr><td>Naive_Teffs             </td><td>21482</td><td>4686</td><td>0.2181361</td></tr>\n",
       "\t<tr><td>Th1_precursors          </td><td>24578</td><td>5337</td><td>0.2171454</td></tr>\n",
       "\t<tr><td>Th2_precursors          </td><td>19483</td><td>4213</td><td>0.2162398</td></tr>\n",
       "\t<tr><td>Naive_B                 </td><td> 1855</td><td> 390</td><td>0.2102426</td></tr>\n",
       "\t<tr><td>Memory_Teffs            </td><td>26317</td><td>5485</td><td>0.2084204</td></tr>\n",
       "\t<tr><td>Mem_B                   </td><td>  476</td><td>  86</td><td>0.1806723</td></tr>\n",
       "</tbody>\n",
       "</table>\n"
      ],
      "text/latex": [
       "A data.frame: 17 × 4\n",
       "\\begin{tabular}{llll}\n",
       " Cell.Type & DA.Peak.Count & Overlap.Count & Proportion\\\\\n",
       " <fct> & <int> & <int> & <dbl>\\\\\n",
       "\\hline\n",
       "\t Gamma\\_delta\\_T            &  1519 &  382 & 0.2514812\\\\\n",
       "\t CD8pos\\_T                 &  4923 & 1183 & 0.2403006\\\\\n",
       "\t Effector\\_CD4pos\\_T        & 12428 & 2982 & 0.2399421\\\\\n",
       "\t Naive\\_CD8\\_T              &  1369 &  326 & 0.2381300\\\\\n",
       "\t Effector\\_memory\\_CD8pos\\_T &  6916 & 1613 & 0.2332273\\\\\n",
       "\t Memory\\_Tregs             &  3253 &  755 & 0.2320935\\\\\n",
       "\t Bulk\\_B                   &   651 &  151 & 0.2319508\\\\\n",
       "\t Follicular\\_T\\_Helper      & 14246 & 3207 & 0.2251158\\\\\n",
       "\t Regulatory\\_T             &  6506 & 1447 & 0.2224101\\\\\n",
       "\t Central\\_memory\\_CD8pos\\_T  &  9198 & 2038 & 0.2215699\\\\\n",
       "\t Th17\\_precursors          & 16620 & 3658 & 0.2200963\\\\\n",
       "\t Naive\\_Teffs              & 21482 & 4686 & 0.2181361\\\\\n",
       "\t Th1\\_precursors           & 24578 & 5337 & 0.2171454\\\\\n",
       "\t Th2\\_precursors           & 19483 & 4213 & 0.2162398\\\\\n",
       "\t Naive\\_B                  &  1855 &  390 & 0.2102426\\\\\n",
       "\t Memory\\_Teffs             & 26317 & 5485 & 0.2084204\\\\\n",
       "\t Mem\\_B                    &   476 &   86 & 0.1806723\\\\\n",
       "\\end{tabular}\n"
      ],
      "text/markdown": [
       "\n",
       "A data.frame: 17 × 4\n",
       "\n",
       "| Cell.Type &lt;fct&gt; | DA.Peak.Count &lt;int&gt; | Overlap.Count &lt;int&gt; | Proportion &lt;dbl&gt; |\n",
       "|---|---|---|---|\n",
       "| Gamma_delta_T            |  1519 |  382 | 0.2514812 |\n",
       "| CD8pos_T                 |  4923 | 1183 | 0.2403006 |\n",
       "| Effector_CD4pos_T        | 12428 | 2982 | 0.2399421 |\n",
       "| Naive_CD8_T              |  1369 |  326 | 0.2381300 |\n",
       "| Effector_memory_CD8pos_T |  6916 | 1613 | 0.2332273 |\n",
       "| Memory_Tregs             |  3253 |  755 | 0.2320935 |\n",
       "| Bulk_B                   |   651 |  151 | 0.2319508 |\n",
       "| Follicular_T_Helper      | 14246 | 3207 | 0.2251158 |\n",
       "| Regulatory_T             |  6506 | 1447 | 0.2224101 |\n",
       "| Central_memory_CD8pos_T  |  9198 | 2038 | 0.2215699 |\n",
       "| Th17_precursors          | 16620 | 3658 | 0.2200963 |\n",
       "| Naive_Teffs              | 21482 | 4686 | 0.2181361 |\n",
       "| Th1_precursors           | 24578 | 5337 | 0.2171454 |\n",
       "| Th2_precursors           | 19483 | 4213 | 0.2162398 |\n",
       "| Naive_B                  |  1855 |  390 | 0.2102426 |\n",
       "| Memory_Teffs             | 26317 | 5485 | 0.2084204 |\n",
       "| Mem_B                    |   476 |   86 | 0.1806723 |\n",
       "\n"
      ],
      "text/plain": [
       "   Cell.Type                DA.Peak.Count Overlap.Count Proportion\n",
       "1  Gamma_delta_T             1519          382          0.2514812 \n",
       "2  CD8pos_T                  4923         1183          0.2403006 \n",
       "3  Effector_CD4pos_T        12428         2982          0.2399421 \n",
       "4  Naive_CD8_T               1369          326          0.2381300 \n",
       "5  Effector_memory_CD8pos_T  6916         1613          0.2332273 \n",
       "6  Memory_Tregs              3253          755          0.2320935 \n",
       "7  Bulk_B                     651          151          0.2319508 \n",
       "8  Follicular_T_Helper      14246         3207          0.2251158 \n",
       "9  Regulatory_T              6506         1447          0.2224101 \n",
       "10 Central_memory_CD8pos_T   9198         2038          0.2215699 \n",
       "11 Th17_precursors          16620         3658          0.2200963 \n",
       "12 Naive_Teffs              21482         4686          0.2181361 \n",
       "13 Th1_precursors           24578         5337          0.2171454 \n",
       "14 Th2_precursors           19483         4213          0.2162398 \n",
       "15 Naive_B                   1855          390          0.2102426 \n",
       "16 Memory_Teffs             26317         5485          0.2084204 \n",
       "17 Mem_B                      476           86          0.1806723 "
      ]
     },
     "metadata": {},
     "output_type": "display_data"
    }
   ],
   "source": [
    "da.peak.freqs <- as.data.frame(table(da.peaks$Cell.Type)) %>%\n",
    "    dplyr::select(Cell.Type=1, DA.Peak.Count=2)\n",
    "\n",
    "overlap.set.peaks <- overlap.set %>%\n",
    "    dplyr::select(Peak.ID, Peak.Cell.Type) %>%\n",
    "    unique()\n",
    "overlap.freqs <- as.data.frame(table(overlap.set.peaks$Peak.Cell.Type)) %>%\n",
    "    dplyr::select(Cell.Type=1, Overlap.Count=2) \n",
    "\n",
    "merge(da.peak.freqs, overlap.freqs, by=\"Cell.Type\") %>%\n",
    "    dplyr::mutate(Proportion=Overlap.Count / DA.Peak.Count) %>%\n",
    "    dplyr::arrange(desc(Proportion))"
   ]
  },
  {
   "cell_type": "markdown",
   "id": "d6be968f-599b-4df6-a551-bf47f8c08c9c",
   "metadata": {},
   "source": [
    "## Overlap of Sentinel cis-eQTL (Conditional Analysis)\n",
    "\n",
    "I can combine the sentinel SNP at each locus with SNPs identified after conditional analysis (conditioning on the sentinel SNP to identify multiple signals)."
   ]
  },
  {
   "cell_type": "code",
   "execution_count": 34,
   "id": "59a222a8-cba1-4c69-8582-4e27cd1ace46",
   "metadata": {},
   "outputs": [],
   "source": [
    "da.peak.ranges = GRanges(\n",
    "    seqnames=da.peaks$Peak.Chr,\n",
    "    ranges=IRanges(\n",
    "        start=da.peaks$Peak.Start,\n",
    "        end=da.peaks$Peak.End\n",
    "    ),\n",
    "    strand=rep(\"*\", nrow(da.peaks))\n",
    ")\n",
    "mcols(da.peak.ranges) <- da.peaks[,c(\"Peak.ID\", \"Cell.Type\", \"logFC\", \"adj.P.Val\")]"
   ]
  },
  {
   "cell_type": "code",
   "execution_count": 35,
   "id": "266412f5-7354-45de-a1ae-4d8e89553b2d",
   "metadata": {},
   "outputs": [
    {
     "data": {
      "text/plain": [
       "GRanges object with 171830 ranges and 4 metadata columns:\n",
       "           seqnames              ranges strand |                Peak.ID\n",
       "              <Rle>           <IRanges>  <Rle> |            <character>\n",
       "       [1]       13   50244295-50246227      * |   13:50244295-50246227\n",
       "       [2]       13   79450967-79452794      * |   13:79450967-79452794\n",
       "       [3]        9   99470831-99473127      * |    9:99470831-99473127\n",
       "       [4]       16   19293486-19294933      * |   16:19293486-19294933\n",
       "       [5]       10   90977043-90978869      * |   10:90977043-90978869\n",
       "       ...      ...                 ...    ... .                    ...\n",
       "  [171826]       13 112116343-112116882      * | 13:112116343-112116882\n",
       "  [171827]       16   67758899-67760054      * |   16:67758899-67760054\n",
       "  [171828]       16   85514268-85516322      * |   16:85514268-85516322\n",
       "  [171829]        5   94983466-94984498      * |    5:94983466-94984498\n",
       "  [171830]       22   26614942-26615897      * |   22:26614942-26615897\n",
       "                Cell.Type     logFC   adj.P.Val\n",
       "              <character> <numeric>   <numeric>\n",
       "       [1]         Bulk_B   4.06853 4.41815e-11\n",
       "       [2]         Bulk_B   3.72069 2.22439e-10\n",
       "       [3]         Bulk_B   3.92404 2.48186e-10\n",
       "       [4]         Bulk_B   5.31453 3.63930e-10\n",
       "       [5]         Bulk_B   3.43173 4.94933e-09\n",
       "       ...            ...       ...         ...\n",
       "  [171826] Th2_precursors  -2.55676  0.00999268\n",
       "  [171827] Th2_precursors  -1.77175  0.00999358\n",
       "  [171828] Th2_precursors  -1.94433  0.00999463\n",
       "  [171829] Th2_precursors   2.06923  0.00999463\n",
       "  [171830] Th2_precursors  -1.96154  0.00999469\n",
       "  -------\n",
       "  seqinfo: 64 sequences from an unspecified genome; no seqlengths"
      ]
     },
     "metadata": {},
     "output_type": "display_data"
    }
   ],
   "source": [
    "da.peak.ranges"
   ]
  },
  {
   "cell_type": "code",
   "execution_count": 36,
   "id": "eb8c8f89-49b5-49f4-8e1d-3a498c94cc9a",
   "metadata": {},
   "outputs": [],
   "source": [
    "cis.eqtl.sentinel <- dplyr::bind_rows(\n",
    "    cis.eqtl %>%\n",
    "        dplyr::group_by(gene) %>%\n",
    "        dplyr::slice_min(order_by=pvalue, n=1),\n",
    "    cis.eqtl.conditional\n",
    ")\n",
    "\n",
    "cis.eqtl.sentinel.ranges = GRanges(\n",
    "    seqnames=cis.eqtl.sentinel$chr,\n",
    "    ranges=IRanges(\n",
    "        start=cis.eqtl.sentinel$SNPpos,\n",
    "        end=cis.eqtl.sentinel$SNPpos\n",
    "    ),\n",
    "    strand=rep(\"*\", nrow(cis.eqtl.sentinel))\n",
    ")\n",
    "mcols(cis.eqtl.sentinel.ranges) <- cis.eqtl.sentinel[,c(\"gene\", \"beta\", \"pvalue\")]"
   ]
  },
  {
   "cell_type": "code",
   "execution_count": 37,
   "id": "0f92bd08-1bf6-4bd0-b7f1-882e205ba87b",
   "metadata": {},
   "outputs": [
    {
     "data": {
      "text/plain": [
       "GRanges object with 33753 ranges and 3 metadata columns:\n",
       "          seqnames    ranges strand |            gene       beta      pvalue\n",
       "             <Rle> <IRanges>  <Rle> |     <character>  <numeric>   <numeric>\n",
       "      [1]        1 169776143      * | ENSG00000000457  0.0498587 5.19259e-12\n",
       "      [2]        1 169776312      * | ENSG00000000457  0.0498587 5.19259e-12\n",
       "      [3]        1 169749095      * | ENSG00000000460 -0.0721270 5.42668e-09\n",
       "      [4]        1 196708768      * | ENSG00000000971  0.1713537 7.51523e-06\n",
       "      [5]        1 196726612      * | ENSG00000000971  0.1713537 7.51523e-06\n",
       "      ...      ...       ...    ... .             ...        ...         ...\n",
       "  [33749]        4  81171813      * | ENSG00000138669 -0.0762586 1.35966e-10\n",
       "  [33750]        4  76196421      * | ENSG00000138760  0.0766065 4.62452e-08\n",
       "  [33751]        4 163514546      * | ENSG00000273449  0.0846128 2.45511e-23\n",
       "  [33752]        4    121772      * | ENSG00000275426 -0.0904912 8.08253e-18\n",
       "  [33753]        1  19467490      * | ENSG00000077549 -0.0474181 5.63131e-14\n",
       "  -------\n",
       "  seqinfo: 23 sequences from an unspecified genome; no seqlengths"
      ]
     },
     "metadata": {},
     "output_type": "display_data"
    }
   ],
   "source": [
    "cis.eqtl.sentinel.ranges"
   ]
  },
  {
   "cell_type": "code",
   "execution_count": 38,
   "id": "e3275715-c880-421f-adc2-f5ca7803a4e0",
   "metadata": {},
   "outputs": [
    {
     "name": "stderr",
     "output_type": "stream",
     "text": [
      "Warning message in .Seqinfo.mergexy(x, y):\n",
      "“Each of the 2 combined objects has sequence levels not in the other:\n",
      "  - in 'x': 23\n",
      "  - in 'y': X, KI270726.1, KI270742.1, KI270717.1, GL000008.2, KI270734.1, KI270706.1, GL000221.1, KI270731.1, KI270749.1, KI270733.1, GL000220.1, GL000009.2, GL000194.1, KI270709.1, KI270750.1, GL000195.1, KI270727.1, KI270748.1, Y, GL000224.1, KI270744.1, GL000216.2, GL000219.1, KI270721.1, KI270719.1, KI270712.1, KI270725.1, KI270722.1, KI270707.1, KI270538.1, KI270442.1, KI270708.1, KI270732.1, GL000205.2, KI270737.1, KI270735.1, GL000214.1, KI270438.1, GL000218.1, KI270746.1, KI270736.1\n",
      "  Make sure to always combine/compare objects based on the same reference\n",
      "  genome (use suppressWarnings() to suppress this warning).”\n"
     ]
    }
   ],
   "source": [
    "overlaps <- findOverlaps(cis.eqtl.sentinel.ranges, da.peak.ranges)"
   ]
  },
  {
   "cell_type": "code",
   "execution_count": 39,
   "id": "619214d1-95b0-4f0e-a2dc-6d4e891b9a96",
   "metadata": {},
   "outputs": [],
   "source": [
    "overlap.set <- dplyr::bind_cols(\n",
    "    as.data.frame(cis.eqtl.sentinel.ranges[overlaps@from, ]) %>%\n",
    "        dplyr::select(SNP.Chr=seqnames, SNP.Pos=start, eQTL.Gene=gene, eQTL.Beta=beta, eQTL.P=pvalue),\n",
    "    as.data.frame(da.peak.ranges[overlaps@to, ]) %>%\n",
    "        dplyr::select(Peak.ID=Peak.ID, Peak.Chr=seqnames, Peak.Start=start, Peak.End=end, Peak.Width=width, Peak.Cell.Type=Cell.Type, Peak.Log.FC=logFC, Peak.P=adj.P.Val)\n",
    ")"
   ]
  },
  {
   "cell_type": "markdown",
   "id": "f74c0123-1875-4107-98e6-fbca3e75c93c",
   "metadata": {},
   "source": [
    "There are 309 unique peaks that have a sentinel eSNP."
   ]
  },
  {
   "cell_type": "code",
   "execution_count": 40,
   "id": "88fc5163-69a5-46e0-9c91-a40e06a3c231",
   "metadata": {},
   "outputs": [
    {
     "data": {
      "text/html": [
       "674"
      ],
      "text/latex": [
       "674"
      ],
      "text/markdown": [
       "674"
      ],
      "text/plain": [
       "[1] 674"
      ]
     },
     "metadata": {},
     "output_type": "display_data"
    }
   ],
   "source": [
    "length(unique(overlap.set$Peak.ID))"
   ]
  },
  {
   "cell_type": "markdown",
   "id": "4e051769-7f6d-4b81-8eb4-2964f90ff192",
   "metadata": {},
   "source": [
    "There are 375 sentinel eSNPs that overlap with at least one DA peak."
   ]
  },
  {
   "cell_type": "code",
   "execution_count": 41,
   "id": "449d15ba-40df-43c5-9ce6-966b621f9be1",
   "metadata": {},
   "outputs": [
    {
     "data": {
      "text/html": [
       "787"
      ],
      "text/latex": [
       "787"
      ],
      "text/markdown": [
       "787"
      ],
      "text/plain": [
       "[1] 787"
      ]
     },
     "metadata": {},
     "output_type": "display_data"
    }
   ],
   "source": [
    "length(unique(paste0(overlap.set$SNP.Chr, \":\", overlap.set$SNP.Pos)))"
   ]
  },
  {
   "cell_type": "markdown",
   "id": "cd572c0b-c5e1-4967-8313-9dd509fc4e7b",
   "metadata": {},
   "source": [
    "There are 348 eGenes that have at least one eSNP present in at least one DA peak."
   ]
  },
  {
   "cell_type": "code",
   "execution_count": 42,
   "id": "21f6a262-6d3d-420a-87fb-6c7c19aebb3d",
   "metadata": {},
   "outputs": [
    {
     "data": {
      "text/html": [
       "693"
      ],
      "text/latex": [
       "693"
      ],
      "text/markdown": [
       "693"
      ],
      "text/plain": [
       "[1] 693"
      ]
     },
     "metadata": {},
     "output_type": "display_data"
    }
   ],
   "source": [
    "length(unique(overlap.set$eQTL.Gene))"
   ]
  },
  {
   "cell_type": "code",
   "execution_count": null,
   "id": "75337774-b020-479c-8584-fa3f8602a484",
   "metadata": {},
   "outputs": [],
   "source": []
  }
 ],
 "metadata": {
  "kernelspec": {
   "display_name": "R",
   "language": "R",
   "name": "ir"
  },
  "language_info": {
   "codemirror_mode": "r",
   "file_extension": ".r",
   "mimetype": "text/x-r-source",
   "name": "R",
   "pygments_lexer": "r",
   "version": "4.0.5"
  }
 },
 "nbformat": 4,
 "nbformat_minor": 5
}
