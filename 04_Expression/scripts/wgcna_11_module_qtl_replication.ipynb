{
 "cells": [
  {
   "cell_type": "markdown",
   "id": "fc7d9f85-c7bd-4b9b-8195-5fbbc4654516",
   "metadata": {},
   "source": [
    "# Module QTL Replication\n",
    "\n",
    "**Created**: 26 May 2022"
   ]
  },
  {
   "cell_type": "markdown",
   "id": "38739003-5865-4f68-86f7-bc7f80771991",
   "metadata": {},
   "source": [
    "## Environment"
   ]
  },
  {
   "cell_type": "code",
   "execution_count": 1,
   "id": "3e3988a1-8a7d-4115-a759-2ec05825687e",
   "metadata": {},
   "outputs": [
    {
     "name": "stderr",
     "output_type": "stream",
     "text": [
      "Loading required namespace: lme4\n",
      "\n",
      "Loading required namespace: SummarizedExperiment\n",
      "\n"
     ]
    }
   ],
   "source": [
    "if (!requireNamespace(\"lme4\")) {\n",
    "    install.packages(\"lme4\")\n",
    "}\n",
    "\n",
    "if (!requireNamespace(\"SummarizedExperiment\")) {\n",
    "    BiocManager::install(\"SummarizedExperiment\")\n",
    "}"
   ]
  },
  {
   "cell_type": "code",
   "execution_count": 2,
   "id": "456268a5-bda8-4f49-a890-e9e2d2099254",
   "metadata": {},
   "outputs": [
    {
     "name": "stderr",
     "output_type": "stream",
     "text": [
      "── \u001b[1mAttaching packages\u001b[22m ───────────────────────────────────────────────────────────────────────────────────────────────────────────────────────────────────────────────────────────────── tidyverse 1.3.1 ──\n",
      "\n",
      "\u001b[32m✔\u001b[39m \u001b[34mggplot2\u001b[39m 3.3.5     \u001b[32m✔\u001b[39m \u001b[34mpurrr  \u001b[39m 0.3.4\n",
      "\u001b[32m✔\u001b[39m \u001b[34mtibble \u001b[39m 3.1.6     \u001b[32m✔\u001b[39m \u001b[34mdplyr  \u001b[39m 1.0.8\n",
      "\u001b[32m✔\u001b[39m \u001b[34mtidyr  \u001b[39m 1.2.0     \u001b[32m✔\u001b[39m \u001b[34mstringr\u001b[39m 1.4.0\n",
      "\u001b[32m✔\u001b[39m \u001b[34mreadr  \u001b[39m 2.1.1     \u001b[32m✔\u001b[39m \u001b[34mforcats\u001b[39m 0.5.1\n",
      "\n",
      "── \u001b[1mConflicts\u001b[22m ──────────────────────────────────────────────────────────────────────────────────────────────────────────────────────────────────────────────────────────────────── tidyverse_conflicts() ──\n",
      "\u001b[31m✖\u001b[39m \u001b[34mdplyr\u001b[39m::\u001b[32mfilter()\u001b[39m masks \u001b[34mstats\u001b[39m::filter()\n",
      "\u001b[31m✖\u001b[39m \u001b[34mdplyr\u001b[39m::\u001b[32mlag()\u001b[39m    masks \u001b[34mstats\u001b[39m::lag()\n",
      "\n",
      "Loading required package: MatrixGenerics\n",
      "\n",
      "Loading required package: matrixStats\n",
      "\n",
      "\n",
      "Attaching package: ‘matrixStats’\n",
      "\n",
      "\n",
      "The following object is masked from ‘package:dplyr’:\n",
      "\n",
      "    count\n",
      "\n",
      "\n",
      "\n",
      "Attaching package: ‘MatrixGenerics’\n",
      "\n",
      "\n",
      "The following objects are masked from ‘package:matrixStats’:\n",
      "\n",
      "    colAlls, colAnyNAs, colAnys, colAvgsPerRowSet, colCollapse,\n",
      "    colCounts, colCummaxs, colCummins, colCumprods, colCumsums,\n",
      "    colDiffs, colIQRDiffs, colIQRs, colLogSumExps, colMadDiffs,\n",
      "    colMads, colMaxs, colMeans2, colMedians, colMins, colOrderStats,\n",
      "    colProds, colQuantiles, colRanges, colRanks, colSdDiffs, colSds,\n",
      "    colSums2, colTabulates, colVarDiffs, colVars, colWeightedMads,\n",
      "    colWeightedMeans, colWeightedMedians, colWeightedSds,\n",
      "    colWeightedVars, rowAlls, rowAnyNAs, rowAnys, rowAvgsPerColSet,\n",
      "    rowCollapse, rowCounts, rowCummaxs, rowCummins, rowCumprods,\n",
      "    rowCumsums, rowDiffs, rowIQRDiffs, rowIQRs, rowLogSumExps,\n",
      "    rowMadDiffs, rowMads, rowMaxs, rowMeans2, rowMedians, rowMins,\n",
      "    rowOrderStats, rowProds, rowQuantiles, rowRanges, rowRanks,\n",
      "    rowSdDiffs, rowSds, rowSums2, rowTabulates, rowVarDiffs, rowVars,\n",
      "    rowWeightedMads, rowWeightedMeans, rowWeightedMedians,\n",
      "    rowWeightedSds, rowWeightedVars\n",
      "\n",
      "\n",
      "Loading required package: GenomicRanges\n",
      "\n",
      "Loading required package: stats4\n",
      "\n",
      "Loading required package: BiocGenerics\n",
      "\n",
      "Loading required package: parallel\n",
      "\n",
      "\n",
      "Attaching package: ‘BiocGenerics’\n",
      "\n",
      "\n",
      "The following objects are masked from ‘package:parallel’:\n",
      "\n",
      "    clusterApply, clusterApplyLB, clusterCall, clusterEvalQ,\n",
      "    clusterExport, clusterMap, parApply, parCapply, parLapply,\n",
      "    parLapplyLB, parRapply, parSapply, parSapplyLB\n",
      "\n",
      "\n",
      "The following objects are masked from ‘package:dplyr’:\n",
      "\n",
      "    combine, intersect, setdiff, union\n",
      "\n",
      "\n",
      "The following objects are masked from ‘package:stats’:\n",
      "\n",
      "    IQR, mad, sd, var, xtabs\n",
      "\n",
      "\n",
      "The following objects are masked from ‘package:base’:\n",
      "\n",
      "    anyDuplicated, append, as.data.frame, basename, cbind, colnames,\n",
      "    dirname, do.call, duplicated, eval, evalq, Filter, Find, get, grep,\n",
      "    grepl, intersect, is.unsorted, lapply, Map, mapply, match, mget,\n",
      "    order, paste, pmax, pmax.int, pmin, pmin.int, Position, rank,\n",
      "    rbind, Reduce, rownames, sapply, setdiff, sort, table, tapply,\n",
      "    union, unique, unsplit, which.max, which.min\n",
      "\n",
      "\n",
      "Loading required package: S4Vectors\n",
      "\n",
      "\n",
      "Attaching package: ‘S4Vectors’\n",
      "\n",
      "\n",
      "The following objects are masked from ‘package:dplyr’:\n",
      "\n",
      "    first, rename\n",
      "\n",
      "\n",
      "The following object is masked from ‘package:tidyr’:\n",
      "\n",
      "    expand\n",
      "\n",
      "\n",
      "The following object is masked from ‘package:base’:\n",
      "\n",
      "    expand.grid\n",
      "\n",
      "\n",
      "Loading required package: IRanges\n",
      "\n",
      "\n",
      "Attaching package: ‘IRanges’\n",
      "\n",
      "\n",
      "The following objects are masked from ‘package:dplyr’:\n",
      "\n",
      "    collapse, desc, slice\n",
      "\n",
      "\n",
      "The following object is masked from ‘package:purrr’:\n",
      "\n",
      "    reduce\n",
      "\n",
      "\n",
      "Loading required package: GenomeInfoDb\n",
      "\n",
      "Loading required package: Biobase\n",
      "\n",
      "Welcome to Bioconductor\n",
      "\n",
      "    Vignettes contain introductory material; view with\n",
      "    'browseVignettes()'. To cite Bioconductor, see\n",
      "    'citation(\"Biobase\")', and for packages 'citation(\"pkgname\")'.\n",
      "\n",
      "\n",
      "\n",
      "Attaching package: ‘Biobase’\n",
      "\n",
      "\n",
      "The following object is masked from ‘package:MatrixGenerics’:\n",
      "\n",
      "    rowMedians\n",
      "\n",
      "\n",
      "The following objects are masked from ‘package:matrixStats’:\n",
      "\n",
      "    anyMissing, rowMedians\n",
      "\n",
      "\n",
      "\n",
      "Attaching package: ‘data.table’\n",
      "\n",
      "\n",
      "The following object is masked from ‘package:SummarizedExperiment’:\n",
      "\n",
      "    shift\n",
      "\n",
      "\n",
      "The following object is masked from ‘package:GenomicRanges’:\n",
      "\n",
      "    shift\n",
      "\n",
      "\n",
      "The following object is masked from ‘package:IRanges’:\n",
      "\n",
      "    shift\n",
      "\n",
      "\n",
      "The following objects are masked from ‘package:S4Vectors’:\n",
      "\n",
      "    first, second\n",
      "\n",
      "\n",
      "The following objects are masked from ‘package:dplyr’:\n",
      "\n",
      "    between, first, last\n",
      "\n",
      "\n",
      "The following object is masked from ‘package:purrr’:\n",
      "\n",
      "    transpose\n",
      "\n",
      "\n",
      "Loading required package: Matrix\n",
      "\n",
      "\n",
      "Attaching package: ‘Matrix’\n",
      "\n",
      "\n",
      "The following object is masked from ‘package:S4Vectors’:\n",
      "\n",
      "    expand\n",
      "\n",
      "\n",
      "The following objects are masked from ‘package:tidyr’:\n",
      "\n",
      "    expand, pack, unpack\n",
      "\n",
      "\n"
     ]
    }
   ],
   "source": [
    "library(tidyverse)\n",
    "library(SummarizedExperiment)\n",
    "library(data.table)\n",
    "library(lme4)\n",
    "\n",
    "setwd(\"~/eQTL_pQTL_Characterization/\")\n",
    "\n",
    "source(\"04_Expression/scripts/utils/ggplot_theme.R\")"
   ]
  },
  {
   "cell_type": "markdown",
   "id": "796281d6-cd4d-4cdd-a610-ae0e6ba48f03",
   "metadata": {},
   "source": [
    "## Load Data"
   ]
  },
  {
   "cell_type": "code",
   "execution_count": 3,
   "id": "0114b51d-2b4c-4876-bb32-e7d045975dd5",
   "metadata": {},
   "outputs": [],
   "source": [
    "exp.micro <- readRDS(\"~/gains_team282/nikhil/data/GAinS_Microarray/gains_full_microarray_dedup_norm_combat_average-per-gene.rds\")"
   ]
  },
  {
   "cell_type": "code",
   "execution_count": 4,
   "id": "c61ada70-8cf7-4238-b129-0844f16c164b",
   "metadata": {},
   "outputs": [
    {
     "data": {
      "text/html": [
       "<table class=\"dataframe\">\n",
       "<caption>A data.frame: 6 × 676</caption>\n",
       "<thead>\n",
       "\t<tr><th></th><th scope=col>UK01310070_1</th><th scope=col>GAUKRV022000_5</th><th scope=col>UK50240006_1</th><th scope=col>UK17630075_5</th><th scope=col>UK47500001_1</th><th scope=col>UK02450065_1</th><th scope=col>UK42510085_3</th><th scope=col>UK55900005_5</th><th scope=col>UK17120090_1</th><th scope=col>UK02960147_1</th><th scope=col>⋯</th><th scope=col>UK59590022_1</th><th scope=col>UK59920018_3</th><th scope=col>UK54590015_3</th><th scope=col>UK59590022_5</th><th scope=col>UK59920018_5</th><th scope=col>UK59600016_1</th><th scope=col>UK54590015_5</th><th scope=col>UK59920018_1</th><th scope=col>UK59590022_3</th><th scope=col>UK54590015_1</th></tr>\n",
       "\t<tr><th></th><th scope=col>&lt;dbl&gt;</th><th scope=col>&lt;dbl&gt;</th><th scope=col>&lt;dbl&gt;</th><th scope=col>&lt;dbl&gt;</th><th scope=col>&lt;dbl&gt;</th><th scope=col>&lt;dbl&gt;</th><th scope=col>&lt;dbl&gt;</th><th scope=col>&lt;dbl&gt;</th><th scope=col>&lt;dbl&gt;</th><th scope=col>&lt;dbl&gt;</th><th scope=col>⋯</th><th scope=col>&lt;dbl&gt;</th><th scope=col>&lt;dbl&gt;</th><th scope=col>&lt;dbl&gt;</th><th scope=col>&lt;dbl&gt;</th><th scope=col>&lt;dbl&gt;</th><th scope=col>&lt;dbl&gt;</th><th scope=col>&lt;dbl&gt;</th><th scope=col>&lt;dbl&gt;</th><th scope=col>&lt;dbl&gt;</th><th scope=col>&lt;dbl&gt;</th></tr>\n",
       "</thead>\n",
       "<tbody>\n",
       "\t<tr><th scope=row>FCGR2B</th><td>5.070486</td><td> 6.653960</td><td>4.663940</td><td> 6.298904</td><td> 5.792164</td><td>5.541233</td><td> 6.589237</td><td>5.720120</td><td> 5.470666</td><td>5.592083</td><td>⋯</td><td>5.440747</td><td>5.247173</td><td>5.841708</td><td>6.020871</td><td>5.809683</td><td>5.549477</td><td>6.085626</td><td>5.202223</td><td> 5.883180</td><td> 6.305140</td></tr>\n",
       "\t<tr><th scope=row>TRIM44</th><td>7.117554</td><td> 7.382045</td><td>7.534112</td><td> 7.880084</td><td> 7.209191</td><td>7.392303</td><td> 7.624026</td><td>7.279305</td><td> 5.998695</td><td>6.929052</td><td>⋯</td><td>6.807849</td><td>7.161457</td><td>7.750011</td><td>7.572399</td><td>7.063671</td><td>6.739109</td><td>7.480136</td><td>6.262286</td><td> 7.095712</td><td> 7.259652</td></tr>\n",
       "\t<tr><th scope=row>LOC653895</th><td>4.475777</td><td> 5.351038</td><td>3.361656</td><td> 5.020616</td><td> 4.822896</td><td>3.857210</td><td> 4.136880</td><td>4.255974</td><td> 5.576264</td><td>4.733030</td><td>⋯</td><td>4.287172</td><td>4.237207</td><td>4.547339</td><td>4.431565</td><td>4.973591</td><td>4.236186</td><td>4.746736</td><td>5.381066</td><td> 4.353878</td><td> 4.892271</td></tr>\n",
       "\t<tr><th scope=row>HS.133181</th><td>6.253662</td><td> 7.183581</td><td>5.653099</td><td> 6.025659</td><td> 6.384615</td><td>6.473308</td><td> 5.684193</td><td>5.248252</td><td> 7.001745</td><td>5.875798</td><td>⋯</td><td>6.261055</td><td>6.847974</td><td>7.695799</td><td>7.211885</td><td>6.723676</td><td>5.671851</td><td>7.096209</td><td>5.936946</td><td> 6.946404</td><td> 7.033030</td></tr>\n",
       "\t<tr><th scope=row>C15ORF39</th><td>8.759778</td><td>10.013569</td><td>9.007721</td><td>10.406369</td><td>10.657716</td><td>8.823518</td><td>10.285644</td><td>9.318283</td><td>10.744836</td><td>9.166786</td><td>⋯</td><td>9.749185</td><td>9.944847</td><td>9.625208</td><td>9.989105</td><td>9.412967</td><td>8.202531</td><td>9.552910</td><td>8.763919</td><td>10.442625</td><td>10.045854</td></tr>\n",
       "\t<tr><th scope=row>PCDHGA9</th><td>3.837391</td><td> 5.109705</td><td>4.255341</td><td> 5.173701</td><td> 5.368823</td><td>5.127123</td><td> 3.671405</td><td>5.065489</td><td> 5.142512</td><td>4.809263</td><td>⋯</td><td>3.914645</td><td>4.789458</td><td>4.427052</td><td>4.237400</td><td>4.464034</td><td>4.770707</td><td>4.570826</td><td>5.177364</td><td> 4.443761</td><td> 4.311195</td></tr>\n",
       "</tbody>\n",
       "</table>\n"
      ],
      "text/latex": [
       "A data.frame: 6 × 676\n",
       "\\begin{tabular}{r|lllllllllllllllllllll}\n",
       "  & UK01310070\\_1 & GAUKRV022000\\_5 & UK50240006\\_1 & UK17630075\\_5 & UK47500001\\_1 & UK02450065\\_1 & UK42510085\\_3 & UK55900005\\_5 & UK17120090\\_1 & UK02960147\\_1 & ⋯ & UK59590022\\_1 & UK59920018\\_3 & UK54590015\\_3 & UK59590022\\_5 & UK59920018\\_5 & UK59600016\\_1 & UK54590015\\_5 & UK59920018\\_1 & UK59590022\\_3 & UK54590015\\_1\\\\\n",
       "  & <dbl> & <dbl> & <dbl> & <dbl> & <dbl> & <dbl> & <dbl> & <dbl> & <dbl> & <dbl> & ⋯ & <dbl> & <dbl> & <dbl> & <dbl> & <dbl> & <dbl> & <dbl> & <dbl> & <dbl> & <dbl>\\\\\n",
       "\\hline\n",
       "\tFCGR2B & 5.070486 &  6.653960 & 4.663940 &  6.298904 &  5.792164 & 5.541233 &  6.589237 & 5.720120 &  5.470666 & 5.592083 & ⋯ & 5.440747 & 5.247173 & 5.841708 & 6.020871 & 5.809683 & 5.549477 & 6.085626 & 5.202223 &  5.883180 &  6.305140\\\\\n",
       "\tTRIM44 & 7.117554 &  7.382045 & 7.534112 &  7.880084 &  7.209191 & 7.392303 &  7.624026 & 7.279305 &  5.998695 & 6.929052 & ⋯ & 6.807849 & 7.161457 & 7.750011 & 7.572399 & 7.063671 & 6.739109 & 7.480136 & 6.262286 &  7.095712 &  7.259652\\\\\n",
       "\tLOC653895 & 4.475777 &  5.351038 & 3.361656 &  5.020616 &  4.822896 & 3.857210 &  4.136880 & 4.255974 &  5.576264 & 4.733030 & ⋯ & 4.287172 & 4.237207 & 4.547339 & 4.431565 & 4.973591 & 4.236186 & 4.746736 & 5.381066 &  4.353878 &  4.892271\\\\\n",
       "\tHS.133181 & 6.253662 &  7.183581 & 5.653099 &  6.025659 &  6.384615 & 6.473308 &  5.684193 & 5.248252 &  7.001745 & 5.875798 & ⋯ & 6.261055 & 6.847974 & 7.695799 & 7.211885 & 6.723676 & 5.671851 & 7.096209 & 5.936946 &  6.946404 &  7.033030\\\\\n",
       "\tC15ORF39 & 8.759778 & 10.013569 & 9.007721 & 10.406369 & 10.657716 & 8.823518 & 10.285644 & 9.318283 & 10.744836 & 9.166786 & ⋯ & 9.749185 & 9.944847 & 9.625208 & 9.989105 & 9.412967 & 8.202531 & 9.552910 & 8.763919 & 10.442625 & 10.045854\\\\\n",
       "\tPCDHGA9 & 3.837391 &  5.109705 & 4.255341 &  5.173701 &  5.368823 & 5.127123 &  3.671405 & 5.065489 &  5.142512 & 4.809263 & ⋯ & 3.914645 & 4.789458 & 4.427052 & 4.237400 & 4.464034 & 4.770707 & 4.570826 & 5.177364 &  4.443761 &  4.311195\\\\\n",
       "\\end{tabular}\n"
      ],
      "text/markdown": [
       "\n",
       "A data.frame: 6 × 676\n",
       "\n",
       "| <!--/--> | UK01310070_1 &lt;dbl&gt; | GAUKRV022000_5 &lt;dbl&gt; | UK50240006_1 &lt;dbl&gt; | UK17630075_5 &lt;dbl&gt; | UK47500001_1 &lt;dbl&gt; | UK02450065_1 &lt;dbl&gt; | UK42510085_3 &lt;dbl&gt; | UK55900005_5 &lt;dbl&gt; | UK17120090_1 &lt;dbl&gt; | UK02960147_1 &lt;dbl&gt; | ⋯ ⋯ | UK59590022_1 &lt;dbl&gt; | UK59920018_3 &lt;dbl&gt; | UK54590015_3 &lt;dbl&gt; | UK59590022_5 &lt;dbl&gt; | UK59920018_5 &lt;dbl&gt; | UK59600016_1 &lt;dbl&gt; | UK54590015_5 &lt;dbl&gt; | UK59920018_1 &lt;dbl&gt; | UK59590022_3 &lt;dbl&gt; | UK54590015_1 &lt;dbl&gt; |\n",
       "|---|---|---|---|---|---|---|---|---|---|---|---|---|---|---|---|---|---|---|---|---|---|\n",
       "| FCGR2B | 5.070486 |  6.653960 | 4.663940 |  6.298904 |  5.792164 | 5.541233 |  6.589237 | 5.720120 |  5.470666 | 5.592083 | ⋯ | 5.440747 | 5.247173 | 5.841708 | 6.020871 | 5.809683 | 5.549477 | 6.085626 | 5.202223 |  5.883180 |  6.305140 |\n",
       "| TRIM44 | 7.117554 |  7.382045 | 7.534112 |  7.880084 |  7.209191 | 7.392303 |  7.624026 | 7.279305 |  5.998695 | 6.929052 | ⋯ | 6.807849 | 7.161457 | 7.750011 | 7.572399 | 7.063671 | 6.739109 | 7.480136 | 6.262286 |  7.095712 |  7.259652 |\n",
       "| LOC653895 | 4.475777 |  5.351038 | 3.361656 |  5.020616 |  4.822896 | 3.857210 |  4.136880 | 4.255974 |  5.576264 | 4.733030 | ⋯ | 4.287172 | 4.237207 | 4.547339 | 4.431565 | 4.973591 | 4.236186 | 4.746736 | 5.381066 |  4.353878 |  4.892271 |\n",
       "| HS.133181 | 6.253662 |  7.183581 | 5.653099 |  6.025659 |  6.384615 | 6.473308 |  5.684193 | 5.248252 |  7.001745 | 5.875798 | ⋯ | 6.261055 | 6.847974 | 7.695799 | 7.211885 | 6.723676 | 5.671851 | 7.096209 | 5.936946 |  6.946404 |  7.033030 |\n",
       "| C15ORF39 | 8.759778 | 10.013569 | 9.007721 | 10.406369 | 10.657716 | 8.823518 | 10.285644 | 9.318283 | 10.744836 | 9.166786 | ⋯ | 9.749185 | 9.944847 | 9.625208 | 9.989105 | 9.412967 | 8.202531 | 9.552910 | 8.763919 | 10.442625 | 10.045854 |\n",
       "| PCDHGA9 | 3.837391 |  5.109705 | 4.255341 |  5.173701 |  5.368823 | 5.127123 |  3.671405 | 5.065489 |  5.142512 | 4.809263 | ⋯ | 3.914645 | 4.789458 | 4.427052 | 4.237400 | 4.464034 | 4.770707 | 4.570826 | 5.177364 |  4.443761 |  4.311195 |\n",
       "\n"
      ],
      "text/plain": [
       "          UK01310070_1 GAUKRV022000_5 UK50240006_1 UK17630075_5 UK47500001_1\n",
       "FCGR2B    5.070486      6.653960      4.663940      6.298904     5.792164   \n",
       "TRIM44    7.117554      7.382045      7.534112      7.880084     7.209191   \n",
       "LOC653895 4.475777      5.351038      3.361656      5.020616     4.822896   \n",
       "HS.133181 6.253662      7.183581      5.653099      6.025659     6.384615   \n",
       "C15ORF39  8.759778     10.013569      9.007721     10.406369    10.657716   \n",
       "PCDHGA9   3.837391      5.109705      4.255341      5.173701     5.368823   \n",
       "          UK02450065_1 UK42510085_3 UK55900005_5 UK17120090_1 UK02960147_1 ⋯\n",
       "FCGR2B    5.541233      6.589237    5.720120      5.470666    5.592083     ⋯\n",
       "TRIM44    7.392303      7.624026    7.279305      5.998695    6.929052     ⋯\n",
       "LOC653895 3.857210      4.136880    4.255974      5.576264    4.733030     ⋯\n",
       "HS.133181 6.473308      5.684193    5.248252      7.001745    5.875798     ⋯\n",
       "C15ORF39  8.823518     10.285644    9.318283     10.744836    9.166786     ⋯\n",
       "PCDHGA9   5.127123      3.671405    5.065489      5.142512    4.809263     ⋯\n",
       "          UK59590022_1 UK59920018_3 UK54590015_3 UK59590022_5 UK59920018_5\n",
       "FCGR2B    5.440747     5.247173     5.841708     6.020871     5.809683    \n",
       "TRIM44    6.807849     7.161457     7.750011     7.572399     7.063671    \n",
       "LOC653895 4.287172     4.237207     4.547339     4.431565     4.973591    \n",
       "HS.133181 6.261055     6.847974     7.695799     7.211885     6.723676    \n",
       "C15ORF39  9.749185     9.944847     9.625208     9.989105     9.412967    \n",
       "PCDHGA9   3.914645     4.789458     4.427052     4.237400     4.464034    \n",
       "          UK59600016_1 UK54590015_5 UK59920018_1 UK59590022_3 UK54590015_1\n",
       "FCGR2B    5.549477     6.085626     5.202223      5.883180     6.305140   \n",
       "TRIM44    6.739109     7.480136     6.262286      7.095712     7.259652   \n",
       "LOC653895 4.236186     4.746736     5.381066      4.353878     4.892271   \n",
       "HS.133181 5.671851     7.096209     5.936946      6.946404     7.033030   \n",
       "C15ORF39  8.202531     9.552910     8.763919     10.442625    10.045854   \n",
       "PCDHGA9   4.770707     4.570826     5.177364      4.443761     4.311195   "
      ]
     },
     "metadata": {},
     "output_type": "display_data"
    }
   ],
   "source": [
    "head(assays(exp.micro)[[1]])"
   ]
  },
  {
   "cell_type": "code",
   "execution_count": 5,
   "id": "bf650481-1d7d-4747-96d5-8fdfbf955c7c",
   "metadata": {},
   "outputs": [],
   "source": [
    "modules <- read.csv(\"~/gains_team282/nikhil/expression/gene_expression/modules.csv\")"
   ]
  },
  {
   "cell_type": "code",
   "execution_count": 6,
   "id": "a8a3f2f5-deea-4f85-a83c-222f1ecbeebf",
   "metadata": {},
   "outputs": [
    {
     "data": {
      "text/html": [
       "<table class=\"dataframe\">\n",
       "<caption>A data.frame: 6 × 2</caption>\n",
       "<thead>\n",
       "\t<tr><th></th><th scope=col>Gene</th><th scope=col>Module</th></tr>\n",
       "\t<tr><th></th><th scope=col>&lt;chr&gt;</th><th scope=col>&lt;chr&gt;</th></tr>\n",
       "</thead>\n",
       "<tbody>\n",
       "\t<tr><th scope=row>1</th><td>ENSG00000001167</td><td>Module_1</td></tr>\n",
       "\t<tr><th scope=row>2</th><td>ENSG00000002330</td><td>Module_1</td></tr>\n",
       "\t<tr><th scope=row>3</th><td>ENSG00000002822</td><td>Module_1</td></tr>\n",
       "\t<tr><th scope=row>4</th><td>ENSG00000005175</td><td>Module_1</td></tr>\n",
       "\t<tr><th scope=row>5</th><td>ENSG00000005194</td><td>Module_1</td></tr>\n",
       "\t<tr><th scope=row>6</th><td>ENSG00000005893</td><td>Module_1</td></tr>\n",
       "</tbody>\n",
       "</table>\n"
      ],
      "text/latex": [
       "A data.frame: 6 × 2\n",
       "\\begin{tabular}{r|ll}\n",
       "  & Gene & Module\\\\\n",
       "  & <chr> & <chr>\\\\\n",
       "\\hline\n",
       "\t1 & ENSG00000001167 & Module\\_1\\\\\n",
       "\t2 & ENSG00000002330 & Module\\_1\\\\\n",
       "\t3 & ENSG00000002822 & Module\\_1\\\\\n",
       "\t4 & ENSG00000005175 & Module\\_1\\\\\n",
       "\t5 & ENSG00000005194 & Module\\_1\\\\\n",
       "\t6 & ENSG00000005893 & Module\\_1\\\\\n",
       "\\end{tabular}\n"
      ],
      "text/markdown": [
       "\n",
       "A data.frame: 6 × 2\n",
       "\n",
       "| <!--/--> | Gene &lt;chr&gt; | Module &lt;chr&gt; |\n",
       "|---|---|---|\n",
       "| 1 | ENSG00000001167 | Module_1 |\n",
       "| 2 | ENSG00000002330 | Module_1 |\n",
       "| 3 | ENSG00000002822 | Module_1 |\n",
       "| 4 | ENSG00000005175 | Module_1 |\n",
       "| 5 | ENSG00000005194 | Module_1 |\n",
       "| 6 | ENSG00000005893 | Module_1 |\n",
       "\n"
      ],
      "text/plain": [
       "  Gene            Module  \n",
       "1 ENSG00000001167 Module_1\n",
       "2 ENSG00000002330 Module_1\n",
       "3 ENSG00000002822 Module_1\n",
       "4 ENSG00000005175 Module_1\n",
       "5 ENSG00000005194 Module_1\n",
       "6 ENSG00000005893 Module_1"
      ]
     },
     "metadata": {},
     "output_type": "display_data"
    }
   ],
   "source": [
    "head(modules)"
   ]
  },
  {
   "cell_type": "code",
   "execution_count": 7,
   "id": "6216b1ce-4030-40f9-ba21-ee7f30ce6487",
   "metadata": {},
   "outputs": [],
   "source": [
    "eigengenes <- read.csv(\"~/gains_team282/nikhil/expression/gene_expression/eigengenes.multiple.csv\", row.names=1)"
   ]
  },
  {
   "cell_type": "code",
   "execution_count": 8,
   "id": "59a2928e-90bc-4a77-9847-63f6c276f985",
   "metadata": {},
   "outputs": [
    {
     "data": {
      "text/html": [
       "<table class=\"dataframe\">\n",
       "<caption>A data.frame: 6 × 530</caption>\n",
       "<thead>\n",
       "\t<tr><th></th><th scope=col>ME_1_1</th><th scope=col>ME_1_2</th><th scope=col>ME_1_3</th><th scope=col>ME_1_4</th><th scope=col>ME_1_5</th><th scope=col>ME_2_1</th><th scope=col>ME_2_2</th><th scope=col>ME_2_3</th><th scope=col>ME_2_4</th><th scope=col>ME_2_5</th><th scope=col>⋯</th><th scope=col>ME_105_1</th><th scope=col>ME_105_2</th><th scope=col>ME_105_3</th><th scope=col>ME_105_4</th><th scope=col>ME_105_5</th><th scope=col>ME_106_1</th><th scope=col>ME_106_2</th><th scope=col>ME_106_3</th><th scope=col>ME_106_4</th><th scope=col>ME_106_5</th></tr>\n",
       "\t<tr><th></th><th scope=col>&lt;dbl&gt;</th><th scope=col>&lt;dbl&gt;</th><th scope=col>&lt;dbl&gt;</th><th scope=col>&lt;dbl&gt;</th><th scope=col>&lt;dbl&gt;</th><th scope=col>&lt;dbl&gt;</th><th scope=col>&lt;dbl&gt;</th><th scope=col>&lt;dbl&gt;</th><th scope=col>&lt;dbl&gt;</th><th scope=col>&lt;dbl&gt;</th><th scope=col>⋯</th><th scope=col>&lt;dbl&gt;</th><th scope=col>&lt;dbl&gt;</th><th scope=col>&lt;dbl&gt;</th><th scope=col>&lt;dbl&gt;</th><th scope=col>&lt;dbl&gt;</th><th scope=col>&lt;dbl&gt;</th><th scope=col>&lt;dbl&gt;</th><th scope=col>&lt;dbl&gt;</th><th scope=col>&lt;dbl&gt;</th><th scope=col>&lt;dbl&gt;</th></tr>\n",
       "</thead>\n",
       "<tbody>\n",
       "\t<tr><th scope=row>UK02270173_3</th><td> 0.008640296</td><td>-0.04165815</td><td> 0.027430556</td><td>-0.020437463</td><td> 0.018138657</td><td> 0.007926439</td><td>-0.03881513</td><td> 0.03058366</td><td>-0.014329184</td><td> 0.009126178</td><td>⋯</td><td> 0.033258706</td><td> 0.010337824</td><td> 0.031572946</td><td> 0.0308363822</td><td>-0.01556043</td><td>-0.003317747</td><td> 0.01850385</td><td> 0.001776021</td><td> 0.034254655</td><td> 0.002439359</td></tr>\n",
       "\t<tr><th scope=row>UK15130120_3</th><td>-0.037073495</td><td>-0.01795641</td><td>-0.007283072</td><td>-0.026494085</td><td> 0.003339612</td><td>-0.033179470</td><td>-0.01991901</td><td>-0.01688432</td><td>-0.014852805</td><td> 0.049310271</td><td>⋯</td><td> 0.051184001</td><td>-0.001611603</td><td> 0.005624913</td><td> 0.0273538940</td><td>-0.03670228</td><td>-0.012327128</td><td> 0.04405671</td><td> 0.013144923</td><td> 0.017987682</td><td>-0.001779326</td></tr>\n",
       "\t<tr><th scope=row>UK58000006_3</th><td> 0.029670524</td><td>-0.03481715</td><td> 0.028491140</td><td>-0.009483861</td><td>-0.005862293</td><td> 0.021490110</td><td>-0.03480085</td><td> 0.03014656</td><td>-0.003961906</td><td>-0.032946862</td><td>⋯</td><td>-0.006622840</td><td>-0.045791646</td><td> 0.033491934</td><td>-0.0420056572</td><td> 0.02749077</td><td>-0.004740631</td><td> 0.04638229</td><td>-0.043309799</td><td> 0.028730908</td><td>-0.024051766</td></tr>\n",
       "\t<tr><th scope=row>UK47010004_3</th><td> 0.011954974</td><td> 0.01091971</td><td> 0.038665347</td><td> 0.003726632</td><td> 0.052019153</td><td> 0.007360515</td><td> 0.01763746</td><td> 0.03490663</td><td>-0.005573984</td><td>-0.016190548</td><td>⋯</td><td>-0.003072117</td><td>-0.010005728</td><td> 0.019263388</td><td> 0.0009626484</td><td> 0.06116524</td><td> 0.012014706</td><td> 0.01637633</td><td>-0.003045472</td><td>-0.018223178</td><td>-0.020637855</td></tr>\n",
       "\t<tr><th scope=row>UK42020088_5</th><td> 0.009818957</td><td> 0.02100233</td><td>-0.019852180</td><td>-0.013052613</td><td>-0.030223051</td><td> 0.008322535</td><td> 0.01712902</td><td>-0.02394729</td><td> 0.003193689</td><td> 0.019716419</td><td>⋯</td><td>-0.032697222</td><td>-0.001257679</td><td>-0.019760950</td><td>-0.0079000979</td><td> 0.02988006</td><td> 0.007915598</td><td>-0.01649680</td><td> 0.013250580</td><td>-0.031445321</td><td>-0.014168970</td></tr>\n",
       "\t<tr><th scope=row>UK47490007_3</th><td>-0.021930377</td><td> 0.03807246</td><td> 0.042329128</td><td>-0.025160071</td><td> 0.012732846</td><td>-0.024756322</td><td> 0.03899339</td><td> 0.03987212</td><td>-0.030754242</td><td> 0.038550679</td><td>⋯</td><td>-0.003607270</td><td> 0.043079589</td><td> 0.025888343</td><td> 0.0413386960</td><td> 0.04360340</td><td> 0.024871961</td><td>-0.03349057</td><td> 0.029665102</td><td>-0.009251542</td><td>-0.052908888</td></tr>\n",
       "</tbody>\n",
       "</table>\n"
      ],
      "text/latex": [
       "A data.frame: 6 × 530\n",
       "\\begin{tabular}{r|lllllllllllllllllllll}\n",
       "  & ME\\_1\\_1 & ME\\_1\\_2 & ME\\_1\\_3 & ME\\_1\\_4 & ME\\_1\\_5 & ME\\_2\\_1 & ME\\_2\\_2 & ME\\_2\\_3 & ME\\_2\\_4 & ME\\_2\\_5 & ⋯ & ME\\_105\\_1 & ME\\_105\\_2 & ME\\_105\\_3 & ME\\_105\\_4 & ME\\_105\\_5 & ME\\_106\\_1 & ME\\_106\\_2 & ME\\_106\\_3 & ME\\_106\\_4 & ME\\_106\\_5\\\\\n",
       "  & <dbl> & <dbl> & <dbl> & <dbl> & <dbl> & <dbl> & <dbl> & <dbl> & <dbl> & <dbl> & ⋯ & <dbl> & <dbl> & <dbl> & <dbl> & <dbl> & <dbl> & <dbl> & <dbl> & <dbl> & <dbl>\\\\\n",
       "\\hline\n",
       "\tUK02270173\\_3 &  0.008640296 & -0.04165815 &  0.027430556 & -0.020437463 &  0.018138657 &  0.007926439 & -0.03881513 &  0.03058366 & -0.014329184 &  0.009126178 & ⋯ &  0.033258706 &  0.010337824 &  0.031572946 &  0.0308363822 & -0.01556043 & -0.003317747 &  0.01850385 &  0.001776021 &  0.034254655 &  0.002439359\\\\\n",
       "\tUK15130120\\_3 & -0.037073495 & -0.01795641 & -0.007283072 & -0.026494085 &  0.003339612 & -0.033179470 & -0.01991901 & -0.01688432 & -0.014852805 &  0.049310271 & ⋯ &  0.051184001 & -0.001611603 &  0.005624913 &  0.0273538940 & -0.03670228 & -0.012327128 &  0.04405671 &  0.013144923 &  0.017987682 & -0.001779326\\\\\n",
       "\tUK58000006\\_3 &  0.029670524 & -0.03481715 &  0.028491140 & -0.009483861 & -0.005862293 &  0.021490110 & -0.03480085 &  0.03014656 & -0.003961906 & -0.032946862 & ⋯ & -0.006622840 & -0.045791646 &  0.033491934 & -0.0420056572 &  0.02749077 & -0.004740631 &  0.04638229 & -0.043309799 &  0.028730908 & -0.024051766\\\\\n",
       "\tUK47010004\\_3 &  0.011954974 &  0.01091971 &  0.038665347 &  0.003726632 &  0.052019153 &  0.007360515 &  0.01763746 &  0.03490663 & -0.005573984 & -0.016190548 & ⋯ & -0.003072117 & -0.010005728 &  0.019263388 &  0.0009626484 &  0.06116524 &  0.012014706 &  0.01637633 & -0.003045472 & -0.018223178 & -0.020637855\\\\\n",
       "\tUK42020088\\_5 &  0.009818957 &  0.02100233 & -0.019852180 & -0.013052613 & -0.030223051 &  0.008322535 &  0.01712902 & -0.02394729 &  0.003193689 &  0.019716419 & ⋯ & -0.032697222 & -0.001257679 & -0.019760950 & -0.0079000979 &  0.02988006 &  0.007915598 & -0.01649680 &  0.013250580 & -0.031445321 & -0.014168970\\\\\n",
       "\tUK47490007\\_3 & -0.021930377 &  0.03807246 &  0.042329128 & -0.025160071 &  0.012732846 & -0.024756322 &  0.03899339 &  0.03987212 & -0.030754242 &  0.038550679 & ⋯ & -0.003607270 &  0.043079589 &  0.025888343 &  0.0413386960 &  0.04360340 &  0.024871961 & -0.03349057 &  0.029665102 & -0.009251542 & -0.052908888\\\\\n",
       "\\end{tabular}\n"
      ],
      "text/markdown": [
       "\n",
       "A data.frame: 6 × 530\n",
       "\n",
       "| <!--/--> | ME_1_1 &lt;dbl&gt; | ME_1_2 &lt;dbl&gt; | ME_1_3 &lt;dbl&gt; | ME_1_4 &lt;dbl&gt; | ME_1_5 &lt;dbl&gt; | ME_2_1 &lt;dbl&gt; | ME_2_2 &lt;dbl&gt; | ME_2_3 &lt;dbl&gt; | ME_2_4 &lt;dbl&gt; | ME_2_5 &lt;dbl&gt; | ⋯ ⋯ | ME_105_1 &lt;dbl&gt; | ME_105_2 &lt;dbl&gt; | ME_105_3 &lt;dbl&gt; | ME_105_4 &lt;dbl&gt; | ME_105_5 &lt;dbl&gt; | ME_106_1 &lt;dbl&gt; | ME_106_2 &lt;dbl&gt; | ME_106_3 &lt;dbl&gt; | ME_106_4 &lt;dbl&gt; | ME_106_5 &lt;dbl&gt; |\n",
       "|---|---|---|---|---|---|---|---|---|---|---|---|---|---|---|---|---|---|---|---|---|---|\n",
       "| UK02270173_3 |  0.008640296 | -0.04165815 |  0.027430556 | -0.020437463 |  0.018138657 |  0.007926439 | -0.03881513 |  0.03058366 | -0.014329184 |  0.009126178 | ⋯ |  0.033258706 |  0.010337824 |  0.031572946 |  0.0308363822 | -0.01556043 | -0.003317747 |  0.01850385 |  0.001776021 |  0.034254655 |  0.002439359 |\n",
       "| UK15130120_3 | -0.037073495 | -0.01795641 | -0.007283072 | -0.026494085 |  0.003339612 | -0.033179470 | -0.01991901 | -0.01688432 | -0.014852805 |  0.049310271 | ⋯ |  0.051184001 | -0.001611603 |  0.005624913 |  0.0273538940 | -0.03670228 | -0.012327128 |  0.04405671 |  0.013144923 |  0.017987682 | -0.001779326 |\n",
       "| UK58000006_3 |  0.029670524 | -0.03481715 |  0.028491140 | -0.009483861 | -0.005862293 |  0.021490110 | -0.03480085 |  0.03014656 | -0.003961906 | -0.032946862 | ⋯ | -0.006622840 | -0.045791646 |  0.033491934 | -0.0420056572 |  0.02749077 | -0.004740631 |  0.04638229 | -0.043309799 |  0.028730908 | -0.024051766 |\n",
       "| UK47010004_3 |  0.011954974 |  0.01091971 |  0.038665347 |  0.003726632 |  0.052019153 |  0.007360515 |  0.01763746 |  0.03490663 | -0.005573984 | -0.016190548 | ⋯ | -0.003072117 | -0.010005728 |  0.019263388 |  0.0009626484 |  0.06116524 |  0.012014706 |  0.01637633 | -0.003045472 | -0.018223178 | -0.020637855 |\n",
       "| UK42020088_5 |  0.009818957 |  0.02100233 | -0.019852180 | -0.013052613 | -0.030223051 |  0.008322535 |  0.01712902 | -0.02394729 |  0.003193689 |  0.019716419 | ⋯ | -0.032697222 | -0.001257679 | -0.019760950 | -0.0079000979 |  0.02988006 |  0.007915598 | -0.01649680 |  0.013250580 | -0.031445321 | -0.014168970 |\n",
       "| UK47490007_3 | -0.021930377 |  0.03807246 |  0.042329128 | -0.025160071 |  0.012732846 | -0.024756322 |  0.03899339 |  0.03987212 | -0.030754242 |  0.038550679 | ⋯ | -0.003607270 |  0.043079589 |  0.025888343 |  0.0413386960 |  0.04360340 |  0.024871961 | -0.03349057 |  0.029665102 | -0.009251542 | -0.052908888 |\n",
       "\n"
      ],
      "text/plain": [
       "             ME_1_1       ME_1_2      ME_1_3       ME_1_4       ME_1_5      \n",
       "UK02270173_3  0.008640296 -0.04165815  0.027430556 -0.020437463  0.018138657\n",
       "UK15130120_3 -0.037073495 -0.01795641 -0.007283072 -0.026494085  0.003339612\n",
       "UK58000006_3  0.029670524 -0.03481715  0.028491140 -0.009483861 -0.005862293\n",
       "UK47010004_3  0.011954974  0.01091971  0.038665347  0.003726632  0.052019153\n",
       "UK42020088_5  0.009818957  0.02100233 -0.019852180 -0.013052613 -0.030223051\n",
       "UK47490007_3 -0.021930377  0.03807246  0.042329128 -0.025160071  0.012732846\n",
       "             ME_2_1       ME_2_2      ME_2_3      ME_2_4       ME_2_5       ⋯\n",
       "UK02270173_3  0.007926439 -0.03881513  0.03058366 -0.014329184  0.009126178 ⋯\n",
       "UK15130120_3 -0.033179470 -0.01991901 -0.01688432 -0.014852805  0.049310271 ⋯\n",
       "UK58000006_3  0.021490110 -0.03480085  0.03014656 -0.003961906 -0.032946862 ⋯\n",
       "UK47010004_3  0.007360515  0.01763746  0.03490663 -0.005573984 -0.016190548 ⋯\n",
       "UK42020088_5  0.008322535  0.01712902 -0.02394729  0.003193689  0.019716419 ⋯\n",
       "UK47490007_3 -0.024756322  0.03899339  0.03987212 -0.030754242  0.038550679 ⋯\n",
       "             ME_105_1     ME_105_2     ME_105_3     ME_105_4      ME_105_5   \n",
       "UK02270173_3  0.033258706  0.010337824  0.031572946  0.0308363822 -0.01556043\n",
       "UK15130120_3  0.051184001 -0.001611603  0.005624913  0.0273538940 -0.03670228\n",
       "UK58000006_3 -0.006622840 -0.045791646  0.033491934 -0.0420056572  0.02749077\n",
       "UK47010004_3 -0.003072117 -0.010005728  0.019263388  0.0009626484  0.06116524\n",
       "UK42020088_5 -0.032697222 -0.001257679 -0.019760950 -0.0079000979  0.02988006\n",
       "UK47490007_3 -0.003607270  0.043079589  0.025888343  0.0413386960  0.04360340\n",
       "             ME_106_1     ME_106_2    ME_106_3     ME_106_4     ME_106_5    \n",
       "UK02270173_3 -0.003317747  0.01850385  0.001776021  0.034254655  0.002439359\n",
       "UK15130120_3 -0.012327128  0.04405671  0.013144923  0.017987682 -0.001779326\n",
       "UK58000006_3 -0.004740631  0.04638229 -0.043309799  0.028730908 -0.024051766\n",
       "UK47010004_3  0.012014706  0.01637633 -0.003045472 -0.018223178 -0.020637855\n",
       "UK42020088_5  0.007915598 -0.01649680  0.013250580 -0.031445321 -0.014168970\n",
       "UK47490007_3  0.024871961 -0.03349057  0.029665102 -0.009251542 -0.052908888"
      ]
     },
     "metadata": {},
     "output_type": "display_data"
    }
   ],
   "source": [
    "head(eigengenes)"
   ]
  },
  {
   "cell_type": "code",
   "execution_count": 9,
   "id": "183864cf-f349-43c4-acf8-5fdd372aea3e",
   "metadata": {},
   "outputs": [],
   "source": [
    "load(\"~/gains_team282/eqtl/peer/microarray/PEER_factors_covs_norm_cells_641_microarray.Rda\")"
   ]
  },
  {
   "cell_type": "code",
   "execution_count": 10,
   "id": "97c51031-b9e0-427a-910e-9a6da5efc7f3",
   "metadata": {},
   "outputs": [],
   "source": [
    "colnames(factors) <- c(colnames(covs), \"Dummy\", paste0(\"PEER\", 1:30))\n",
    "rownames(factors) <- gsub(\"^GA\", \"\", rownames(covs))"
   ]
  },
  {
   "cell_type": "code",
   "execution_count": 11,
   "id": "759494ca-f8ca-4535-a4f8-f792420e6e08",
   "metadata": {},
   "outputs": [],
   "source": [
    "geno <- fread(\"~/gains_team282/nikhil/data/genotypes/eigengene_sva_rep_genotypes.raw\", drop=2:6) %>%\n",
    "    as.data.frame()\n",
    "\n",
    "rownames(geno) <- gsub(\"^GA\", \"\", geno$FID)\n",
    "geno$FID <- NULL\n",
    "\n",
    "colnames(geno) <- gsub(\"_.$\", \"\", colnames(geno))"
   ]
  },
  {
   "cell_type": "code",
   "execution_count": 12,
   "id": "01a180c5-548d-41b6-bf09-b026772d6ee9",
   "metadata": {},
   "outputs": [
    {
     "data": {
      "text/html": [
       "<table class=\"dataframe\">\n",
       "<caption>A data.frame: 6 × 1935</caption>\n",
       "<thead>\n",
       "\t<tr><th></th><th scope=col>rs228669</th><th scope=col>rs79314241</th><th scope=col>rs106968</th><th scope=col>rs161803</th><th scope=col>rs12564367</th><th scope=col>rs10864320</th><th scope=col>rs3818762</th><th scope=col>rs13306556</th><th scope=col>rs45553335</th><th scope=col>rs45603435</th><th scope=col>⋯</th><th scope=col>rs844824</th><th scope=col>rs844832</th><th scope=col>rs844878</th><th scope=col>rs844881</th><th scope=col>rs1331286</th><th scope=col>rs227619</th><th scope=col>rs227628</th><th scope=col>rs227646</th><th scope=col>rs6132775</th><th scope=col>rs8125909</th></tr>\n",
       "\t<tr><th></th><th scope=col>&lt;int&gt;</th><th scope=col>&lt;int&gt;</th><th scope=col>&lt;int&gt;</th><th scope=col>&lt;int&gt;</th><th scope=col>&lt;int&gt;</th><th scope=col>&lt;int&gt;</th><th scope=col>&lt;int&gt;</th><th scope=col>&lt;int&gt;</th><th scope=col>&lt;int&gt;</th><th scope=col>&lt;int&gt;</th><th scope=col>⋯</th><th scope=col>&lt;int&gt;</th><th scope=col>&lt;int&gt;</th><th scope=col>&lt;int&gt;</th><th scope=col>&lt;int&gt;</th><th scope=col>&lt;int&gt;</th><th scope=col>&lt;int&gt;</th><th scope=col>&lt;int&gt;</th><th scope=col>&lt;int&gt;</th><th scope=col>&lt;int&gt;</th><th scope=col>&lt;int&gt;</th></tr>\n",
       "</thead>\n",
       "<tbody>\n",
       "\t<tr><th scope=row>UKAR005000</th><td>0</td><td>0</td><td>0</td><td>0</td><td>0</td><td>0</td><td>1</td><td>1</td><td>2</td><td>2</td><td>⋯</td><td>0</td><td>0</td><td>0</td><td>0</td><td>0</td><td>0</td><td>0</td><td>0</td><td>0</td><td>0</td></tr>\n",
       "\t<tr><th scope=row>UKAR024000</th><td>0</td><td>0</td><td>0</td><td>0</td><td>0</td><td>0</td><td>1</td><td>0</td><td>0</td><td>0</td><td>⋯</td><td>0</td><td>0</td><td>0</td><td>0</td><td>0</td><td>0</td><td>0</td><td>0</td><td>0</td><td>0</td></tr>\n",
       "\t<tr><th scope=row>UKAR025000</th><td>0</td><td>0</td><td>0</td><td>0</td><td>0</td><td>0</td><td>0</td><td>0</td><td>0</td><td>0</td><td>⋯</td><td>0</td><td>0</td><td>0</td><td>0</td><td>0</td><td>0</td><td>0</td><td>0</td><td>0</td><td>0</td></tr>\n",
       "\t<tr><th scope=row>UKAR027000</th><td>0</td><td>0</td><td>0</td><td>0</td><td>0</td><td>0</td><td>2</td><td>2</td><td>2</td><td>2</td><td>⋯</td><td>0</td><td>0</td><td>0</td><td>0</td><td>0</td><td>0</td><td>0</td><td>0</td><td>0</td><td>0</td></tr>\n",
       "\t<tr><th scope=row>UKJR005000</th><td>0</td><td>0</td><td>0</td><td>0</td><td>0</td><td>0</td><td>1</td><td>1</td><td>1</td><td>1</td><td>⋯</td><td>0</td><td>0</td><td>0</td><td>0</td><td>2</td><td>2</td><td>2</td><td>2</td><td>2</td><td>2</td></tr>\n",
       "\t<tr><th scope=row>UKJR010000</th><td>0</td><td>0</td><td>0</td><td>0</td><td>0</td><td>0</td><td>1</td><td>0</td><td>0</td><td>0</td><td>⋯</td><td>0</td><td>0</td><td>0</td><td>0</td><td>0</td><td>0</td><td>0</td><td>0</td><td>0</td><td>0</td></tr>\n",
       "</tbody>\n",
       "</table>\n"
      ],
      "text/latex": [
       "A data.frame: 6 × 1935\n",
       "\\begin{tabular}{r|lllllllllllllllllllll}\n",
       "  & rs228669 & rs79314241 & rs106968 & rs161803 & rs12564367 & rs10864320 & rs3818762 & rs13306556 & rs45553335 & rs45603435 & ⋯ & rs844824 & rs844832 & rs844878 & rs844881 & rs1331286 & rs227619 & rs227628 & rs227646 & rs6132775 & rs8125909\\\\\n",
       "  & <int> & <int> & <int> & <int> & <int> & <int> & <int> & <int> & <int> & <int> & ⋯ & <int> & <int> & <int> & <int> & <int> & <int> & <int> & <int> & <int> & <int>\\\\\n",
       "\\hline\n",
       "\tUKAR005000 & 0 & 0 & 0 & 0 & 0 & 0 & 1 & 1 & 2 & 2 & ⋯ & 0 & 0 & 0 & 0 & 0 & 0 & 0 & 0 & 0 & 0\\\\\n",
       "\tUKAR024000 & 0 & 0 & 0 & 0 & 0 & 0 & 1 & 0 & 0 & 0 & ⋯ & 0 & 0 & 0 & 0 & 0 & 0 & 0 & 0 & 0 & 0\\\\\n",
       "\tUKAR025000 & 0 & 0 & 0 & 0 & 0 & 0 & 0 & 0 & 0 & 0 & ⋯ & 0 & 0 & 0 & 0 & 0 & 0 & 0 & 0 & 0 & 0\\\\\n",
       "\tUKAR027000 & 0 & 0 & 0 & 0 & 0 & 0 & 2 & 2 & 2 & 2 & ⋯ & 0 & 0 & 0 & 0 & 0 & 0 & 0 & 0 & 0 & 0\\\\\n",
       "\tUKJR005000 & 0 & 0 & 0 & 0 & 0 & 0 & 1 & 1 & 1 & 1 & ⋯ & 0 & 0 & 0 & 0 & 2 & 2 & 2 & 2 & 2 & 2\\\\\n",
       "\tUKJR010000 & 0 & 0 & 0 & 0 & 0 & 0 & 1 & 0 & 0 & 0 & ⋯ & 0 & 0 & 0 & 0 & 0 & 0 & 0 & 0 & 0 & 0\\\\\n",
       "\\end{tabular}\n"
      ],
      "text/markdown": [
       "\n",
       "A data.frame: 6 × 1935\n",
       "\n",
       "| <!--/--> | rs228669 &lt;int&gt; | rs79314241 &lt;int&gt; | rs106968 &lt;int&gt; | rs161803 &lt;int&gt; | rs12564367 &lt;int&gt; | rs10864320 &lt;int&gt; | rs3818762 &lt;int&gt; | rs13306556 &lt;int&gt; | rs45553335 &lt;int&gt; | rs45603435 &lt;int&gt; | ⋯ ⋯ | rs844824 &lt;int&gt; | rs844832 &lt;int&gt; | rs844878 &lt;int&gt; | rs844881 &lt;int&gt; | rs1331286 &lt;int&gt; | rs227619 &lt;int&gt; | rs227628 &lt;int&gt; | rs227646 &lt;int&gt; | rs6132775 &lt;int&gt; | rs8125909 &lt;int&gt; |\n",
       "|---|---|---|---|---|---|---|---|---|---|---|---|---|---|---|---|---|---|---|---|---|---|\n",
       "| UKAR005000 | 0 | 0 | 0 | 0 | 0 | 0 | 1 | 1 | 2 | 2 | ⋯ | 0 | 0 | 0 | 0 | 0 | 0 | 0 | 0 | 0 | 0 |\n",
       "| UKAR024000 | 0 | 0 | 0 | 0 | 0 | 0 | 1 | 0 | 0 | 0 | ⋯ | 0 | 0 | 0 | 0 | 0 | 0 | 0 | 0 | 0 | 0 |\n",
       "| UKAR025000 | 0 | 0 | 0 | 0 | 0 | 0 | 0 | 0 | 0 | 0 | ⋯ | 0 | 0 | 0 | 0 | 0 | 0 | 0 | 0 | 0 | 0 |\n",
       "| UKAR027000 | 0 | 0 | 0 | 0 | 0 | 0 | 2 | 2 | 2 | 2 | ⋯ | 0 | 0 | 0 | 0 | 0 | 0 | 0 | 0 | 0 | 0 |\n",
       "| UKJR005000 | 0 | 0 | 0 | 0 | 0 | 0 | 1 | 1 | 1 | 1 | ⋯ | 0 | 0 | 0 | 0 | 2 | 2 | 2 | 2 | 2 | 2 |\n",
       "| UKJR010000 | 0 | 0 | 0 | 0 | 0 | 0 | 1 | 0 | 0 | 0 | ⋯ | 0 | 0 | 0 | 0 | 0 | 0 | 0 | 0 | 0 | 0 |\n",
       "\n"
      ],
      "text/plain": [
       "           rs228669 rs79314241 rs106968 rs161803 rs12564367 rs10864320\n",
       "UKAR005000 0        0          0        0        0          0         \n",
       "UKAR024000 0        0          0        0        0          0         \n",
       "UKAR025000 0        0          0        0        0          0         \n",
       "UKAR027000 0        0          0        0        0          0         \n",
       "UKJR005000 0        0          0        0        0          0         \n",
       "UKJR010000 0        0          0        0        0          0         \n",
       "           rs3818762 rs13306556 rs45553335 rs45603435 ⋯ rs844824 rs844832\n",
       "UKAR005000 1         1          2          2          ⋯ 0        0       \n",
       "UKAR024000 1         0          0          0          ⋯ 0        0       \n",
       "UKAR025000 0         0          0          0          ⋯ 0        0       \n",
       "UKAR027000 2         2          2          2          ⋯ 0        0       \n",
       "UKJR005000 1         1          1          1          ⋯ 0        0       \n",
       "UKJR010000 1         0          0          0          ⋯ 0        0       \n",
       "           rs844878 rs844881 rs1331286 rs227619 rs227628 rs227646 rs6132775\n",
       "UKAR005000 0        0        0         0        0        0        0        \n",
       "UKAR024000 0        0        0         0        0        0        0        \n",
       "UKAR025000 0        0        0         0        0        0        0        \n",
       "UKAR027000 0        0        0         0        0        0        0        \n",
       "UKJR005000 0        0        2         2        2        2        2        \n",
       "UKJR010000 0        0        0         0        0        0        0        \n",
       "           rs8125909\n",
       "UKAR005000 0        \n",
       "UKAR024000 0        \n",
       "UKAR025000 0        \n",
       "UKAR027000 0        \n",
       "UKJR005000 2        \n",
       "UKJR010000 0        "
      ]
     },
     "metadata": {},
     "output_type": "display_data"
    }
   ],
   "source": [
    "head(geno)"
   ]
  },
  {
   "cell_type": "code",
   "execution_count": 13,
   "id": "64b2978b-9cc6-452e-b6e8-2a53afc8ec3b",
   "metadata": {},
   "outputs": [],
   "source": [
    "mqtl <- read.csv(\"~/gains_team282/nikhil/expression/eigengene_sva/all_mqtl.csv\")\n",
    "mqtl.loci <- read.table(\"~/gains_team282/nikhil/expression/eigengene_sva/mqtl_full_summary_statistics_snps.txt\", header=T)"
   ]
  },
  {
   "cell_type": "code",
   "execution_count": 14,
   "id": "67342692-9a4f-4b5c-8cc2-7ca6403c20c4",
   "metadata": {},
   "outputs": [],
   "source": [
    "lead.mqtl <- merge(mqtl, mqtl.loci, by.x=c(\"me\", \"snp\"), by.y=c(\"ME\", \"SNP\")) %>%\n",
    "    dplyr::group_by(QTL.ID) %>%\n",
    "    dplyr::slice_min(p, n=1)"
   ]
  },
  {
   "cell_type": "markdown",
   "id": "9c481ae9-335e-4574-a466-44f8cd332bff",
   "metadata": {},
   "source": [
    "## Compare Eigengenes"
   ]
  },
  {
   "cell_type": "code",
   "execution_count": 15,
   "id": "bf00f8e8-c7cf-4b25-8ee0-0e694130720a",
   "metadata": {},
   "outputs": [],
   "source": [
    "micro.eigens <- lapply(unique(modules$Module), function(module) {\n",
    "    \n",
    "    module.genes = modules$Gene[modules$Module == module]\n",
    "    if (sum(rowData(exp.micro)$Ensembl_ID %in% module.genes) < 5) {\n",
    "        return(NULL)\n",
    "    }\n",
    "    \n",
    "    mod.exp = exp.micro[rowData(exp.micro)$Ensembl_ID %in% module.genes, ]\n",
    "    \n",
    "    module.svd = svd(scale(t(assays(mod.exp)[[1]])))\n",
    "    module.top.eigens = module.svd$u[,1:5]\n",
    "    rownames(module.top.eigens) = gsub(\"^GA\", \"\", colData(mod.exp)$SampleID)\n",
    "    colnames(module.top.eigens) = paste0(gsub(\"Module_\", \"Micro_ME_\", module), \"_\", 1:5)\n",
    "    \n",
    "    return(module.top.eigens)\n",
    "}) %>%\n",
    "    do.call(cbind, .)"
   ]
  },
  {
   "cell_type": "code",
   "execution_count": 16,
   "id": "ffa2f350-4cb5-4ce6-8b6c-e8da7674a0ca",
   "metadata": {},
   "outputs": [
    {
     "data": {
      "text/html": [
       "<table class=\"dataframe\">\n",
       "<caption>A matrix: 6 × 475 of type dbl</caption>\n",
       "<thead>\n",
       "\t<tr><th></th><th scope=col>Micro_ME_1_1</th><th scope=col>Micro_ME_1_2</th><th scope=col>Micro_ME_1_3</th><th scope=col>Micro_ME_1_4</th><th scope=col>Micro_ME_1_5</th><th scope=col>Micro_ME_10_1</th><th scope=col>Micro_ME_10_2</th><th scope=col>Micro_ME_10_3</th><th scope=col>Micro_ME_10_4</th><th scope=col>Micro_ME_10_5</th><th scope=col>⋯</th><th scope=col>Micro_ME_96_1</th><th scope=col>Micro_ME_96_2</th><th scope=col>Micro_ME_96_3</th><th scope=col>Micro_ME_96_4</th><th scope=col>Micro_ME_96_5</th><th scope=col>Micro_ME_99_1</th><th scope=col>Micro_ME_99_2</th><th scope=col>Micro_ME_99_3</th><th scope=col>Micro_ME_99_4</th><th scope=col>Micro_ME_99_5</th></tr>\n",
       "</thead>\n",
       "<tbody>\n",
       "\t<tr><th scope=row>UK01310070_1</th><td>-0.01601799</td><td>-0.045036070</td><td> 0.034467430</td><td> 0.093455033</td><td> 0.008305606</td><td>-0.018423860</td><td>-0.001610685</td><td>-0.05198010</td><td> 0.035228544</td><td> 0.034562308</td><td>⋯</td><td>-0.097747466</td><td> 0.005064751</td><td>-0.02663545</td><td> 0.004831265</td><td>-0.045871560</td><td> 0.01963915</td><td>-0.11480184</td><td>-0.024974804</td><td>-0.05162108</td><td>-0.009766825</td></tr>\n",
       "\t<tr><th scope=row>UKRV022000_5</th><td>-0.01012309</td><td> 0.019770385</td><td>-0.006289933</td><td> 0.006196103</td><td> 0.030872778</td><td> 0.009753326</td><td>-0.003296697</td><td>-0.01233154</td><td> 0.003876523</td><td>-0.081315122</td><td>⋯</td><td>-0.005253908</td><td>-0.021496752</td><td> 0.03027550</td><td>-0.040747276</td><td> 0.092884005</td><td> 0.01153088</td><td> 0.01062755</td><td> 0.048802956</td><td>-0.09341334</td><td> 0.004213724</td></tr>\n",
       "\t<tr><th scope=row>UK50240006_1</th><td> 0.02202818</td><td>-0.074226721</td><td>-0.009347810</td><td> 0.026115699</td><td> 0.039067097</td><td>-0.073912013</td><td> 0.004154793</td><td>-0.04755903</td><td>-0.023185774</td><td> 0.009168093</td><td>⋯</td><td>-0.044580742</td><td>-0.032422494</td><td> 0.02309836</td><td> 0.018227595</td><td>-0.001179965</td><td>-0.05427548</td><td>-0.03751932</td><td>-0.018849142</td><td>-0.02516148</td><td>-0.075463748</td></tr>\n",
       "\t<tr><th scope=row>UK17630075_5</th><td>-0.03301611</td><td> 0.025167987</td><td> 0.024643276</td><td>-0.015425626</td><td> 0.039606076</td><td> 0.026276887</td><td> 0.012127503</td><td> 0.01601656</td><td> 0.033877686</td><td>-0.019191657</td><td>⋯</td><td> 0.001736140</td><td> 0.041894991</td><td> 0.01985971</td><td>-0.003649297</td><td> 0.042067733</td><td> 0.02056358</td><td> 0.03352514</td><td>-0.003855768</td><td> 0.02537017</td><td> 0.012321898</td></tr>\n",
       "\t<tr><th scope=row>UK47500001_1</th><td>-0.04898155</td><td>-0.009744342</td><td>-0.002948807</td><td>-0.052813702</td><td> 0.037846641</td><td> 0.019620111</td><td> 0.046079463</td><td> 0.02635130</td><td>-0.001966977</td><td> 0.045065242</td><td>⋯</td><td> 0.024518041</td><td> 0.050908011</td><td>-0.03413770</td><td> 0.006952725</td><td>-0.017734190</td><td> 0.03011030</td><td> 0.09287762</td><td> 0.002582364</td><td> 0.02498819</td><td>-0.042630748</td></tr>\n",
       "\t<tr><th scope=row>UK02450065_1</th><td>-0.01580593</td><td>-0.052308289</td><td>-0.075350285</td><td> 0.089011224</td><td>-0.076261752</td><td>-0.043209227</td><td> 0.017610215</td><td>-0.07579444</td><td>-0.079287430</td><td> 0.033779103</td><td>⋯</td><td>-0.031363764</td><td>-0.061186655</td><td>-0.01768211</td><td> 0.059803190</td><td>-0.080999580</td><td> 0.04932842</td><td>-0.13051822</td><td>-0.031960465</td><td> 0.03027492</td><td>-0.028824468</td></tr>\n",
       "</tbody>\n",
       "</table>\n"
      ],
      "text/latex": [
       "A matrix: 6 × 475 of type dbl\n",
       "\\begin{tabular}{r|lllllllllllllllllllll}\n",
       "  & Micro\\_ME\\_1\\_1 & Micro\\_ME\\_1\\_2 & Micro\\_ME\\_1\\_3 & Micro\\_ME\\_1\\_4 & Micro\\_ME\\_1\\_5 & Micro\\_ME\\_10\\_1 & Micro\\_ME\\_10\\_2 & Micro\\_ME\\_10\\_3 & Micro\\_ME\\_10\\_4 & Micro\\_ME\\_10\\_5 & ⋯ & Micro\\_ME\\_96\\_1 & Micro\\_ME\\_96\\_2 & Micro\\_ME\\_96\\_3 & Micro\\_ME\\_96\\_4 & Micro\\_ME\\_96\\_5 & Micro\\_ME\\_99\\_1 & Micro\\_ME\\_99\\_2 & Micro\\_ME\\_99\\_3 & Micro\\_ME\\_99\\_4 & Micro\\_ME\\_99\\_5\\\\\n",
       "\\hline\n",
       "\tUK01310070\\_1 & -0.01601799 & -0.045036070 &  0.034467430 &  0.093455033 &  0.008305606 & -0.018423860 & -0.001610685 & -0.05198010 &  0.035228544 &  0.034562308 & ⋯ & -0.097747466 &  0.005064751 & -0.02663545 &  0.004831265 & -0.045871560 &  0.01963915 & -0.11480184 & -0.024974804 & -0.05162108 & -0.009766825\\\\\n",
       "\tUKRV022000\\_5 & -0.01012309 &  0.019770385 & -0.006289933 &  0.006196103 &  0.030872778 &  0.009753326 & -0.003296697 & -0.01233154 &  0.003876523 & -0.081315122 & ⋯ & -0.005253908 & -0.021496752 &  0.03027550 & -0.040747276 &  0.092884005 &  0.01153088 &  0.01062755 &  0.048802956 & -0.09341334 &  0.004213724\\\\\n",
       "\tUK50240006\\_1 &  0.02202818 & -0.074226721 & -0.009347810 &  0.026115699 &  0.039067097 & -0.073912013 &  0.004154793 & -0.04755903 & -0.023185774 &  0.009168093 & ⋯ & -0.044580742 & -0.032422494 &  0.02309836 &  0.018227595 & -0.001179965 & -0.05427548 & -0.03751932 & -0.018849142 & -0.02516148 & -0.075463748\\\\\n",
       "\tUK17630075\\_5 & -0.03301611 &  0.025167987 &  0.024643276 & -0.015425626 &  0.039606076 &  0.026276887 &  0.012127503 &  0.01601656 &  0.033877686 & -0.019191657 & ⋯ &  0.001736140 &  0.041894991 &  0.01985971 & -0.003649297 &  0.042067733 &  0.02056358 &  0.03352514 & -0.003855768 &  0.02537017 &  0.012321898\\\\\n",
       "\tUK47500001\\_1 & -0.04898155 & -0.009744342 & -0.002948807 & -0.052813702 &  0.037846641 &  0.019620111 &  0.046079463 &  0.02635130 & -0.001966977 &  0.045065242 & ⋯ &  0.024518041 &  0.050908011 & -0.03413770 &  0.006952725 & -0.017734190 &  0.03011030 &  0.09287762 &  0.002582364 &  0.02498819 & -0.042630748\\\\\n",
       "\tUK02450065\\_1 & -0.01580593 & -0.052308289 & -0.075350285 &  0.089011224 & -0.076261752 & -0.043209227 &  0.017610215 & -0.07579444 & -0.079287430 &  0.033779103 & ⋯ & -0.031363764 & -0.061186655 & -0.01768211 &  0.059803190 & -0.080999580 &  0.04932842 & -0.13051822 & -0.031960465 &  0.03027492 & -0.028824468\\\\\n",
       "\\end{tabular}\n"
      ],
      "text/markdown": [
       "\n",
       "A matrix: 6 × 475 of type dbl\n",
       "\n",
       "| <!--/--> | Micro_ME_1_1 | Micro_ME_1_2 | Micro_ME_1_3 | Micro_ME_1_4 | Micro_ME_1_5 | Micro_ME_10_1 | Micro_ME_10_2 | Micro_ME_10_3 | Micro_ME_10_4 | Micro_ME_10_5 | ⋯ | Micro_ME_96_1 | Micro_ME_96_2 | Micro_ME_96_3 | Micro_ME_96_4 | Micro_ME_96_5 | Micro_ME_99_1 | Micro_ME_99_2 | Micro_ME_99_3 | Micro_ME_99_4 | Micro_ME_99_5 |\n",
       "|---|---|---|---|---|---|---|---|---|---|---|---|---|---|---|---|---|---|---|---|---|---|\n",
       "| UK01310070_1 | -0.01601799 | -0.045036070 |  0.034467430 |  0.093455033 |  0.008305606 | -0.018423860 | -0.001610685 | -0.05198010 |  0.035228544 |  0.034562308 | ⋯ | -0.097747466 |  0.005064751 | -0.02663545 |  0.004831265 | -0.045871560 |  0.01963915 | -0.11480184 | -0.024974804 | -0.05162108 | -0.009766825 |\n",
       "| UKRV022000_5 | -0.01012309 |  0.019770385 | -0.006289933 |  0.006196103 |  0.030872778 |  0.009753326 | -0.003296697 | -0.01233154 |  0.003876523 | -0.081315122 | ⋯ | -0.005253908 | -0.021496752 |  0.03027550 | -0.040747276 |  0.092884005 |  0.01153088 |  0.01062755 |  0.048802956 | -0.09341334 |  0.004213724 |\n",
       "| UK50240006_1 |  0.02202818 | -0.074226721 | -0.009347810 |  0.026115699 |  0.039067097 | -0.073912013 |  0.004154793 | -0.04755903 | -0.023185774 |  0.009168093 | ⋯ | -0.044580742 | -0.032422494 |  0.02309836 |  0.018227595 | -0.001179965 | -0.05427548 | -0.03751932 | -0.018849142 | -0.02516148 | -0.075463748 |\n",
       "| UK17630075_5 | -0.03301611 |  0.025167987 |  0.024643276 | -0.015425626 |  0.039606076 |  0.026276887 |  0.012127503 |  0.01601656 |  0.033877686 | -0.019191657 | ⋯ |  0.001736140 |  0.041894991 |  0.01985971 | -0.003649297 |  0.042067733 |  0.02056358 |  0.03352514 | -0.003855768 |  0.02537017 |  0.012321898 |\n",
       "| UK47500001_1 | -0.04898155 | -0.009744342 | -0.002948807 | -0.052813702 |  0.037846641 |  0.019620111 |  0.046079463 |  0.02635130 | -0.001966977 |  0.045065242 | ⋯ |  0.024518041 |  0.050908011 | -0.03413770 |  0.006952725 | -0.017734190 |  0.03011030 |  0.09287762 |  0.002582364 |  0.02498819 | -0.042630748 |\n",
       "| UK02450065_1 | -0.01580593 | -0.052308289 | -0.075350285 |  0.089011224 | -0.076261752 | -0.043209227 |  0.017610215 | -0.07579444 | -0.079287430 |  0.033779103 | ⋯ | -0.031363764 | -0.061186655 | -0.01768211 |  0.059803190 | -0.080999580 |  0.04932842 | -0.13051822 | -0.031960465 |  0.03027492 | -0.028824468 |\n",
       "\n"
      ],
      "text/plain": [
       "             Micro_ME_1_1 Micro_ME_1_2 Micro_ME_1_3 Micro_ME_1_4 Micro_ME_1_5\n",
       "UK01310070_1 -0.01601799  -0.045036070  0.034467430  0.093455033  0.008305606\n",
       "UKRV022000_5 -0.01012309   0.019770385 -0.006289933  0.006196103  0.030872778\n",
       "UK50240006_1  0.02202818  -0.074226721 -0.009347810  0.026115699  0.039067097\n",
       "UK17630075_5 -0.03301611   0.025167987  0.024643276 -0.015425626  0.039606076\n",
       "UK47500001_1 -0.04898155  -0.009744342 -0.002948807 -0.052813702  0.037846641\n",
       "UK02450065_1 -0.01580593  -0.052308289 -0.075350285  0.089011224 -0.076261752\n",
       "             Micro_ME_10_1 Micro_ME_10_2 Micro_ME_10_3 Micro_ME_10_4\n",
       "UK01310070_1 -0.018423860  -0.001610685  -0.05198010    0.035228544 \n",
       "UKRV022000_5  0.009753326  -0.003296697  -0.01233154    0.003876523 \n",
       "UK50240006_1 -0.073912013   0.004154793  -0.04755903   -0.023185774 \n",
       "UK17630075_5  0.026276887   0.012127503   0.01601656    0.033877686 \n",
       "UK47500001_1  0.019620111   0.046079463   0.02635130   -0.001966977 \n",
       "UK02450065_1 -0.043209227   0.017610215  -0.07579444   -0.079287430 \n",
       "             Micro_ME_10_5 ⋯ Micro_ME_96_1 Micro_ME_96_2 Micro_ME_96_3\n",
       "UK01310070_1  0.034562308  ⋯ -0.097747466   0.005064751  -0.02663545  \n",
       "UKRV022000_5 -0.081315122  ⋯ -0.005253908  -0.021496752   0.03027550  \n",
       "UK50240006_1  0.009168093  ⋯ -0.044580742  -0.032422494   0.02309836  \n",
       "UK17630075_5 -0.019191657  ⋯  0.001736140   0.041894991   0.01985971  \n",
       "UK47500001_1  0.045065242  ⋯  0.024518041   0.050908011  -0.03413770  \n",
       "UK02450065_1  0.033779103  ⋯ -0.031363764  -0.061186655  -0.01768211  \n",
       "             Micro_ME_96_4 Micro_ME_96_5 Micro_ME_99_1 Micro_ME_99_2\n",
       "UK01310070_1  0.004831265  -0.045871560   0.01963915   -0.11480184  \n",
       "UKRV022000_5 -0.040747276   0.092884005   0.01153088    0.01062755  \n",
       "UK50240006_1  0.018227595  -0.001179965  -0.05427548   -0.03751932  \n",
       "UK17630075_5 -0.003649297   0.042067733   0.02056358    0.03352514  \n",
       "UK47500001_1  0.006952725  -0.017734190   0.03011030    0.09287762  \n",
       "UK02450065_1  0.059803190  -0.080999580   0.04932842   -0.13051822  \n",
       "             Micro_ME_99_3 Micro_ME_99_4 Micro_ME_99_5\n",
       "UK01310070_1 -0.024974804  -0.05162108   -0.009766825 \n",
       "UKRV022000_5  0.048802956  -0.09341334    0.004213724 \n",
       "UK50240006_1 -0.018849142  -0.02516148   -0.075463748 \n",
       "UK17630075_5 -0.003855768   0.02537017    0.012321898 \n",
       "UK47500001_1  0.002582364   0.02498819   -0.042630748 \n",
       "UK02450065_1 -0.031960465   0.03027492   -0.028824468 "
      ]
     },
     "metadata": {},
     "output_type": "display_data"
    }
   ],
   "source": [
    "head(micro.eigens)"
   ]
  },
  {
   "cell_type": "markdown",
   "id": "fb8d7435-6834-41f4-8326-22e71887c8cc",
   "metadata": {},
   "source": [
    "How many modules could be recreated in the microarray data? This requires enough genes to be present in both cohorts. 95 of the 106 modules could be replicated across both cohorts."
   ]
  },
  {
   "cell_type": "code",
   "execution_count": 17,
   "id": "f196dbfd-6935-4a95-80ca-cd78c064bed2",
   "metadata": {},
   "outputs": [
    {
     "data": {
      "text/html": [
       "95"
      ],
      "text/latex": [
       "95"
      ],
      "text/markdown": [
       "95"
      ],
      "text/plain": [
       "[1] 95"
      ]
     },
     "metadata": {},
     "output_type": "display_data"
    }
   ],
   "source": [
    "rep.mes <- unique(gsub(\"_.$\", \"\", gsub(\"Micro_ME_\", \"\", colnames(micro.eigens))))\n",
    "length(rep.mes)"
   ]
  },
  {
   "cell_type": "markdown",
   "id": "b9f1372b-d350-43b9-ad47-7bd24742be0b",
   "metadata": {},
   "source": [
    "Are the eigengenes well-correlated between microarray and RNA-seq? We can test this using the overlapping samples. Let's use these to test for correlation. I'm only going to attempt to replicate the mQTL from the first PC (the eigengene proper). Some correlate really well; others do not correlate well at all. This could be due to the fact that (1) not all genes are present on the microarray, (2) microarray counts are not absolute, or (3) due to the collapsing of values between multiple probe sets."
   ]
  },
  {
   "cell_type": "code",
   "execution_count": 18,
   "id": "ac353858-6f2f-4afc-aa64-4dd8c5ff7622",
   "metadata": {},
   "outputs": [],
   "source": [
    "all.eigens = merge(micro.eigens, eigengenes, by=0)[, -1]\n",
    "\n",
    "rhos <- sapply(rep.mes, function(me.n) {\n",
    "    module.eigengene = all.eigens[, paste0(\"ME_\", me.n, \"_1\")]\n",
    "    module.micro.eigengene = all.eigens[, paste0(\"Micro_ME_\", me.n, \"_1\")]\n",
    "    cor(module.eigengene, module.micro.eigengene, method=\"spearman\")\n",
    "})\n",
    "\n",
    "names(rhos) <- paste0(\"ME_\", names(rhos))"
   ]
  },
  {
   "cell_type": "code",
   "execution_count": 19,
   "id": "93796ae8-8463-474a-8fd7-e5be6b47008c",
   "metadata": {},
   "outputs": [],
   "source": [
    "design.mtx <- colData(exp.micro)[, c(\"GAinSID\", \"SampleID\")]\n",
    "rownames(design.mtx) <- gsub(\"^GA\", \"\", rownames(design.mtx))\n",
    "design.mtx$GAinSID <- gsub(\"^GA\", \"\", design.mtx$GAinSID)\n",
    "design.mtx$SampleID <- gsub(\"^GA\", \"\", design.mtx$SampleID)\n",
    "\n",
    "design.mtx <- merge(design.mtx, micro.eigens, by.x=\"SampleID\", by.y=0) %>%\n",
    "    merge(., geno, by.x=\"GAinSID\", by.y=0) %>%\n",
    "    merge(., factors, by.x=\"SampleID\", by.y=0) %>%\n",
    "    dplyr::filter(!(SampleID %in% rownames(eigengenes)))\n",
    "\n",
    "covs = c(\n",
    "    c(\"SRS\", \"Diagnosis\", \"Neutrophils\", \"Lymphocytes\", \"Monocytes\"),\n",
    "    paste0(\"PEER\", 1:20), paste0(\"PC\", 1:7)\n",
    ")\n",
    "\n",
    "mqtl.reps <- do.call(rbind, lapply(1:nrow(lead.mqtl), function(i) {\n",
    "    \n",
    "    snp = as.character(lead.mqtl[i, \"snp\"])\n",
    "    \n",
    "    if (!(snp %in% colnames(geno))) {\n",
    "        return(NULL)\n",
    "    }\n",
    "    \n",
    "    module = gsub(\"ME_\", \"Module_\", lead.mqtl[i, \"me\"])\n",
    "    me = paste0(gsub(\"Module_\", \"Micro_ME_\", module), \"_1\")\n",
    "    \n",
    "    if (!(me %in% colnames(design.mtx))) {\n",
    "        return(NULL)\n",
    "    }\n",
    "\n",
    "    variant.design <- design.mtx[,c(me, snp, covs, \"GAinSID\")]\n",
    "\n",
    "    f.null <- as.formula(paste0(me, \"~\", paste0(covs, collapse=\"+\"), \"+(1|GAinSID)\"))\n",
    "    model.null <- lmer(f.null, data=variant.design, REML=FALSE)\n",
    "\n",
    "    f.alt <- as.formula(paste0(me, \"~`\", snp , \"`+\", paste0(covs, collapse=\"+\"), \"+(1|GAinSID)\"))\n",
    "    model.test <- lmer(f.alt, data=variant.design, REML=FALSE)\n",
    "\n",
    "    if (!all(complete.cases(variant.design[, snp]))) {\n",
    "        model.null <- update(model.null, subset=complete.cases(variant.design[, snp]))\n",
    "        model.test <- update(model.test, subset=complete.cases(variant.design[, snp]))\n",
    "    }\n",
    "\n",
    "    data.frame(matrix(\n",
    "        data=c(\n",
    "            me, snp,\n",
    "            summary(model.test)$coefficients[snp, ],\n",
    "            anova(model.null, model.test)[\"model.test\", \"Pr(>Chisq)\"]\n",
    "        ),\n",
    "        nrow=1, ncol=6\n",
    "    ))\n",
    "})) %>%\n",
    "    as.data.frame() %>%\n",
    "    dplyr::select(me=1, snp=2, beta=3, se=4, t=5, p=6) %>%\n",
    "    dplyr::mutate(beta=as.numeric(beta), se=as.numeric(se), t=as.numeric(t), p=as.numeric(p))"
   ]
  },
  {
   "cell_type": "markdown",
   "id": "2a40f6ba-e4c6-40d1-babf-4a006ae2e33d",
   "metadata": {},
   "source": [
    "Of the 31 lead mQTL, only 26 were at MAF > 0.01 in the microarray cohort and had enough genes to generate a module."
   ]
  },
  {
   "cell_type": "code",
   "execution_count": 20,
   "id": "9289948f-5925-4673-9d2c-341fad28cca4",
   "metadata": {},
   "outputs": [
    {
     "data": {
      "text/html": [
       "<table class=\"dataframe\">\n",
       "<caption>A data.frame: 6 × 12</caption>\n",
       "<thead>\n",
       "\t<tr><th></th><th scope=col>me</th><th scope=col>snp</th><th scope=col>me.original</th><th scope=col>beta.original</th><th scope=col>se.original</th><th scope=col>beta</th><th scope=col>se</th><th scope=col>t</th><th scope=col>p</th><th scope=col>rho</th><th scope=col>significant</th><th scope=col>matching</th></tr>\n",
       "\t<tr><th></th><th scope=col>&lt;chr&gt;</th><th scope=col>&lt;chr&gt;</th><th scope=col>&lt;chr&gt;</th><th scope=col>&lt;dbl&gt;</th><th scope=col>&lt;dbl&gt;</th><th scope=col>&lt;dbl&gt;</th><th scope=col>&lt;dbl&gt;</th><th scope=col>&lt;dbl&gt;</th><th scope=col>&lt;dbl&gt;</th><th scope=col>&lt;dbl&gt;</th><th scope=col>&lt;lgl&gt;</th><th scope=col>&lt;lgl&gt;</th></tr>\n",
       "</thead>\n",
       "<tbody>\n",
       "\t<tr><th scope=row>1</th><td>Micro_ME_101_1</td><td>rs1131017 </td><td>ME_101</td><td>-0.01218272</td><td>0.0010177908</td><td> 0.049417631</td><td>0.0009695625</td><td>50.968999</td><td>1.813217e-164</td><td>-0.4277884</td><td> TRUE</td><td> TRUE</td></tr>\n",
       "\t<tr><th scope=row>2</th><td>Micro_ME_101_1</td><td>rs582717  </td><td>ME_101</td><td> 0.01339385</td><td>0.0010127331</td><td> 0.001648781</td><td>0.0027003966</td><td> 0.610570</td><td> 6.122097e-01</td><td>-0.4277884</td><td>FALSE</td><td>FALSE</td></tr>\n",
       "\t<tr><th scope=row>3</th><td>Micro_ME_102_1</td><td>rs629329  </td><td>ME_102</td><td> 0.02986714</td><td>0.0014708263</td><td> 0.019114857</td><td>0.0021635185</td><td> 8.835079</td><td> 2.456743e-16</td><td> 0.3847454</td><td> TRUE</td><td> TRUE</td></tr>\n",
       "\t<tr><th scope=row>4</th><td>Micro_ME_104_1</td><td>rs36053285</td><td>ME_104</td><td>-0.02768647</td><td>0.0009773132</td><td>-0.008005557</td><td>0.0018946560</td><td>-4.225335</td><td> 6.110302e-05</td><td> 0.5199441</td><td> TRUE</td><td> TRUE</td></tr>\n",
       "\t<tr><th scope=row>5</th><td>Micro_ME_105_1</td><td>rs1757183 </td><td>ME_105</td><td> 0.01991662</td><td>0.0009674236</td><td>-0.004865838</td><td>0.0016177458</td><td>-3.007789</td><td> 4.805397e-03</td><td> 0.3556179</td><td> TRUE</td><td>FALSE</td></tr>\n",
       "\t<tr><th scope=row>6</th><td>Micro_ME_106_1</td><td>rs7395319 </td><td>ME_106</td><td>-0.01778240</td><td>0.0011140475</td><td> 0.006384105</td><td>0.0020294774</td><td> 3.145689</td><td> 3.499302e-03</td><td>-0.7578623</td><td> TRUE</td><td> TRUE</td></tr>\n",
       "</tbody>\n",
       "</table>\n"
      ],
      "text/latex": [
       "A data.frame: 6 × 12\n",
       "\\begin{tabular}{r|llllllllllll}\n",
       "  & me & snp & me.original & beta.original & se.original & beta & se & t & p & rho & significant & matching\\\\\n",
       "  & <chr> & <chr> & <chr> & <dbl> & <dbl> & <dbl> & <dbl> & <dbl> & <dbl> & <dbl> & <lgl> & <lgl>\\\\\n",
       "\\hline\n",
       "\t1 & Micro\\_ME\\_101\\_1 & rs1131017  & ME\\_101 & -0.01218272 & 0.0010177908 &  0.049417631 & 0.0009695625 & 50.968999 & 1.813217e-164 & -0.4277884 &  TRUE &  TRUE\\\\\n",
       "\t2 & Micro\\_ME\\_101\\_1 & rs582717   & ME\\_101 &  0.01339385 & 0.0010127331 &  0.001648781 & 0.0027003966 &  0.610570 &  6.122097e-01 & -0.4277884 & FALSE & FALSE\\\\\n",
       "\t3 & Micro\\_ME\\_102\\_1 & rs629329   & ME\\_102 &  0.02986714 & 0.0014708263 &  0.019114857 & 0.0021635185 &  8.835079 &  2.456743e-16 &  0.3847454 &  TRUE &  TRUE\\\\\n",
       "\t4 & Micro\\_ME\\_104\\_1 & rs36053285 & ME\\_104 & -0.02768647 & 0.0009773132 & -0.008005557 & 0.0018946560 & -4.225335 &  6.110302e-05 &  0.5199441 &  TRUE &  TRUE\\\\\n",
       "\t5 & Micro\\_ME\\_105\\_1 & rs1757183  & ME\\_105 &  0.01991662 & 0.0009674236 & -0.004865838 & 0.0016177458 & -3.007789 &  4.805397e-03 &  0.3556179 &  TRUE & FALSE\\\\\n",
       "\t6 & Micro\\_ME\\_106\\_1 & rs7395319  & ME\\_106 & -0.01778240 & 0.0011140475 &  0.006384105 & 0.0020294774 &  3.145689 &  3.499302e-03 & -0.7578623 &  TRUE &  TRUE\\\\\n",
       "\\end{tabular}\n"
      ],
      "text/markdown": [
       "\n",
       "A data.frame: 6 × 12\n",
       "\n",
       "| <!--/--> | me &lt;chr&gt; | snp &lt;chr&gt; | me.original &lt;chr&gt; | beta.original &lt;dbl&gt; | se.original &lt;dbl&gt; | beta &lt;dbl&gt; | se &lt;dbl&gt; | t &lt;dbl&gt; | p &lt;dbl&gt; | rho &lt;dbl&gt; | significant &lt;lgl&gt; | matching &lt;lgl&gt; |\n",
       "|---|---|---|---|---|---|---|---|---|---|---|---|---|\n",
       "| 1 | Micro_ME_101_1 | rs1131017  | ME_101 | -0.01218272 | 0.0010177908 |  0.049417631 | 0.0009695625 | 50.968999 | 1.813217e-164 | -0.4277884 |  TRUE |  TRUE |\n",
       "| 2 | Micro_ME_101_1 | rs582717   | ME_101 |  0.01339385 | 0.0010127331 |  0.001648781 | 0.0027003966 |  0.610570 |  6.122097e-01 | -0.4277884 | FALSE | FALSE |\n",
       "| 3 | Micro_ME_102_1 | rs629329   | ME_102 |  0.02986714 | 0.0014708263 |  0.019114857 | 0.0021635185 |  8.835079 |  2.456743e-16 |  0.3847454 |  TRUE |  TRUE |\n",
       "| 4 | Micro_ME_104_1 | rs36053285 | ME_104 | -0.02768647 | 0.0009773132 | -0.008005557 | 0.0018946560 | -4.225335 |  6.110302e-05 |  0.5199441 |  TRUE |  TRUE |\n",
       "| 5 | Micro_ME_105_1 | rs1757183  | ME_105 |  0.01991662 | 0.0009674236 | -0.004865838 | 0.0016177458 | -3.007789 |  4.805397e-03 |  0.3556179 |  TRUE | FALSE |\n",
       "| 6 | Micro_ME_106_1 | rs7395319  | ME_106 | -0.01778240 | 0.0011140475 |  0.006384105 | 0.0020294774 |  3.145689 |  3.499302e-03 | -0.7578623 |  TRUE |  TRUE |\n",
       "\n"
      ],
      "text/plain": [
       "  me             snp        me.original beta.original se.original  beta        \n",
       "1 Micro_ME_101_1 rs1131017  ME_101      -0.01218272   0.0010177908  0.049417631\n",
       "2 Micro_ME_101_1 rs582717   ME_101       0.01339385   0.0010127331  0.001648781\n",
       "3 Micro_ME_102_1 rs629329   ME_102       0.02986714   0.0014708263  0.019114857\n",
       "4 Micro_ME_104_1 rs36053285 ME_104      -0.02768647   0.0009773132 -0.008005557\n",
       "5 Micro_ME_105_1 rs1757183  ME_105       0.01991662   0.0009674236 -0.004865838\n",
       "6 Micro_ME_106_1 rs7395319  ME_106      -0.01778240   0.0011140475  0.006384105\n",
       "  se           t         p             rho        significant matching\n",
       "1 0.0009695625 50.968999 1.813217e-164 -0.4277884  TRUE        TRUE   \n",
       "2 0.0027003966  0.610570  6.122097e-01 -0.4277884 FALSE       FALSE   \n",
       "3 0.0021635185  8.835079  2.456743e-16  0.3847454  TRUE        TRUE   \n",
       "4 0.0018946560 -4.225335  6.110302e-05  0.5199441  TRUE        TRUE   \n",
       "5 0.0016177458 -3.007789  4.805397e-03  0.3556179  TRUE       FALSE   \n",
       "6 0.0020294774  3.145689  3.499302e-03 -0.7578623  TRUE        TRUE   "
      ]
     },
     "metadata": {},
     "output_type": "display_data"
    }
   ],
   "source": [
    "rep.res <- lead.mqtl %>%\n",
    "    dplyr::ungroup() %>%\n",
    "    dplyr::select(me, snp, beta.original=beta, se.original=se, me.original=me) %>%\n",
    "    dplyr::mutate(me=paste0(\"Micro_\", me.original, \"_1\")) %>%\n",
    "    merge(., mqtl.reps, by=c(\"me\", \"snp\")) %>%\n",
    "    dplyr::mutate(rho=rhos[me.original]) %>%\n",
    "    dplyr::mutate(p=p.adjust(p, method=\"BH\")) %>%\n",
    "    dplyr::mutate(significant=p < 0.05) %>%\n",
    "    dplyr::mutate(matching=sign(beta.original) * sign(rho) == sign(beta))\n",
    "\n",
    "head(rep.res)"
   ]
  },
  {
   "cell_type": "code",
   "execution_count": 21,
   "id": "dd694d56-9f03-4169-86d0-28dffc08c7b1",
   "metadata": {},
   "outputs": [
    {
     "data": {
      "text/html": [
       "26"
      ],
      "text/latex": [
       "26"
      ],
      "text/markdown": [
       "26"
      ],
      "text/plain": [
       "[1] 26"
      ]
     },
     "metadata": {},
     "output_type": "display_data"
    }
   ],
   "source": [
    "nrow(rep.res)"
   ]
  },
  {
   "cell_type": "markdown",
   "id": "adb6f0eb-3a7e-4ced-b9e4-8f0d3064fe70",
   "metadata": {},
   "source": [
    "The median correlation between matched samples for the eigengenes was higher in the module QTL that returned as significant replicates."
   ]
  },
  {
   "cell_type": "code",
   "execution_count": 22,
   "id": "7ffffbef-a616-40c6-9237-5f56f9184908",
   "metadata": {},
   "outputs": [
    {
     "data": {
      "image/png": "[encoded data removed]",
      "text/plain": [
       "plot without title"
      ]
     },
     "metadata": {
      "image/png": {
       "height": 480,
       "width": 480
      }
     },
     "output_type": "display_data"
    }
   ],
   "source": [
    "options(repr.plot.width=8, repr.plot.height=8)\n",
    "\n",
    "rep.res %>%\n",
    "    dplyr::mutate(significant=ifelse(significant & matching, \"Replicated\", \"Not Replicated\")) %>%\n",
    "    ggplot() +\n",
    "    geom_boxplot(aes(x=significant, y=abs(rho), fill=significant), width=0.5, alpha=0.5) +\n",
    "    scale_fill_manual(values=c(\"royalblue1\", \"royalblue4\")) +\n",
    "    guides(fill=\"none\") +\n",
    "    ylab(\"|Spearman's Rho|\") +\n",
    "    ggplot_theme +\n",
    "    theme(axis.title.x=element_blank())\n",
    "\n",
    "ggsave(\"04_Expression/results/mqtl_replication_rho.svg\", width=8, height=8)"
   ]
  },
  {
   "cell_type": "code",
   "execution_count": 23,
   "id": "32c9fab4-198e-4226-a7e2-7633bc886ae9",
   "metadata": {},
   "outputs": [
    {
     "data": {
      "text/plain": [
       "\n",
       "\tWilcoxon rank sum test with continuity correction\n",
       "\n",
       "data:  abs(rep.res$rho[rep.res$significant]) and abs(rep.res$rho[!rep.res$significant])\n",
       "W = 106.5, p-value = 0.1118\n",
       "alternative hypothesis: true location shift is not equal to 0\n"
      ]
     },
     "metadata": {},
     "output_type": "display_data"
    }
   ],
   "source": [
    "wilcox.test(abs(rep.res$rho[rep.res$significant]), abs(rep.res$rho[!rep.res$significant]), exact=F)"
   ]
  },
  {
   "cell_type": "markdown",
   "id": "0181543f-e9a9-44c0-a350-9fa686259667",
   "metadata": {},
   "source": [
    "17 of the 26 mQTL that could be tested were significant in the replication cohort. Of those 17, 14 had matching directions of effect based on the correlation between matching samples for the eigengen."
   ]
  },
  {
   "cell_type": "code",
   "execution_count": 24,
   "id": "a071f476-5a83-40c7-bfa9-cae920c4dba9",
   "metadata": {},
   "outputs": [
    {
     "data": {
      "text/html": [
       "17"
      ],
      "text/latex": [
       "17"
      ],
      "text/markdown": [
       "17"
      ],
      "text/plain": [
       "[1] 17"
      ]
     },
     "metadata": {},
     "output_type": "display_data"
    }
   ],
   "source": [
    "sum(rep.res$significant)"
   ]
  },
  {
   "cell_type": "code",
   "execution_count": 25,
   "id": "a2bfc782-d924-4a78-9c3a-07fd5661b69b",
   "metadata": {},
   "outputs": [
    {
     "data": {
      "text/html": [
       "14"
      ],
      "text/latex": [
       "14"
      ],
      "text/markdown": [
       "14"
      ],
      "text/plain": [
       "[1] 14"
      ]
     },
     "metadata": {},
     "output_type": "display_data"
    }
   ],
   "source": [
    "sum(rep.res$matching[rep.res$significant])"
   ]
  },
  {
   "cell_type": "code",
   "execution_count": 26,
   "id": "adfd9305-06bd-4191-8125-e779e666cc27",
   "metadata": {},
   "outputs": [
    {
     "data": {
      "image/png": "[encoded data removed]",
      "text/plain": [
       "plot without title"
      ]
     },
     "metadata": {
      "image/png": {
       "height": 600,
       "width": 600
      }
     },
     "output_type": "display_data"
    }
   ],
   "source": [
    "options(repr.plot.width=10, repr.plot.height=10)\n",
    "\n",
    "rep.res %>%\n",
    "    dplyr::filter(significant, matching) %>%\n",
    "    dplyr::mutate(me.snp=paste0(me.original, \"-\", snp)) %>%\n",
    "    dplyr::mutate(beta=beta * sign(rho)) %>%\n",
    "    dplyr::select(me.snp, beta.original, se.original, beta, se) %>%\n",
    "    dplyr::arrange(desc(beta.original)) %>%\n",
    "    dplyr::mutate(me.snp=factor(me.snp, levels=me.snp)) %>%\n",
    "    tidyr::pivot_longer(!me.snp, names_to=\"col.name\") %>%\n",
    "    dplyr::mutate(statistic=gsub(\"\\\\..*\", \"\", col.name)) %>%\n",
    "    dplyr::mutate(dataset=ifelse(grepl(\"original\", col.name), \"RNA-seq\", \"Microarray\")) %>%\n",
    "    dplyr::select(me.snp, statistic, value, dataset) %>%\n",
    "    tidyr::pivot_wider(names_from=statistic, values_from=value) %>%\n",
    "    dplyr::mutate(dataset=factor(dataset, levels=c(\"RNA-seq\", \"Microarray\"))) %>%\n",
    "    dplyr::mutate(beta.low=beta-(1.96 * se), beta.high=beta+(1.96*se)) %>%\n",
    "    ggplot() +\n",
    "    geom_hline(aes(yintercept=0)) +\n",
    "    geom_point(aes(x=me.snp, y=beta, color=dataset), position=position_dodge(0.9), size=I(2)) +\n",
    "    geom_linerange(aes(x=me.snp, ymin=beta.low, ymax=beta.high, color=dataset), position=position_dodge(0.9)) +\n",
    "    scale_color_manual(\"Dataset\", values=c(\"royalblue4\", \"royalblue1\")) +\n",
    "    facet_grid(me.snp ~ ., scales=\"free_y\") +\n",
    "    coord_flip() +\n",
    "    ylab(\"Beta\") +\n",
    "    ggplot_theme +\n",
    "    theme(\n",
    "        strip.background.y=element_blank(), strip.text.y=element_blank(),\n",
    "        axis.title.y=element_blank(),\n",
    "        panel.grid.major.x=element_line(size=0.25, color=\"gray60\")\n",
    "    )\n",
    "\n",
    "ggsave(\"04_Expression/results/mqtl_replication_beta.svg\", width=10, height=10)"
   ]
  },
  {
   "cell_type": "code",
   "execution_count": null,
   "id": "8bdadd80-e1ce-4a8d-bee2-723709f706aa",
   "metadata": {},
   "outputs": [],
   "source": []
  }
 ],
 "metadata": {
  "kernelspec": {
   "display_name": "R",
   "language": "R",
   "name": "ir"
  },
  "language_info": {
   "codemirror_mode": "r",
   "file_extension": ".r",
   "mimetype": "text/x-r-source",
   "name": "R",
   "pygments_lexer": "r",
   "version": "4.0.5"
  }
 },
 "nbformat": 4,
 "nbformat_minor": 5
}
