{
 "cells": [
  {
   "cell_type": "markdown",
   "id": "7d88d67c-6a9b-4d1d-bac5-fced6163a07d",
   "metadata": {},
   "source": [
    "# WGCNA Analysis of Genes by Diagnosis\n",
    "\n",
    "**Created**: 27 October 2021"
   ]
  },
  {
   "cell_type": "markdown",
   "id": "0bff472f-4b24-4cd1-955e-b7f7d182f3dc",
   "metadata": {
    "tags": []
   },
   "source": [
    "## Environment"
   ]
  },
  {
   "cell_type": "code",
   "execution_count": 1,
   "id": "8d4dd0ac-9a59-4996-a369-62e02d1c1a64",
   "metadata": {},
   "outputs": [
    {
     "name": "stderr",
     "output_type": "stream",
     "text": [
      "Loading required namespace: patchwork\n",
      "\n"
     ]
    }
   ],
   "source": [
    "if (!requireNamespace(\"patchwork\")) {\n",
    "    install.packages(\"devtools\")\n",
    "    devtools::install_github(\"thomasp85/patchwork\")\n",
    "}"
   ]
  },
  {
   "cell_type": "code",
   "execution_count": 2,
   "id": "7c29976f-ae6a-46c5-95d9-82cbdd84a08f",
   "metadata": {},
   "outputs": [
    {
     "name": "stderr",
     "output_type": "stream",
     "text": [
      "Loading required package: dynamicTreeCut\n",
      "\n",
      "Loading required package: fastcluster\n",
      "\n",
      "\n",
      "Attaching package: ‘fastcluster’\n",
      "\n",
      "\n",
      "The following object is masked from ‘package:stats’:\n",
      "\n",
      "    hclust\n",
      "\n",
      "\n",
      "\n",
      "\n",
      "\n",
      "Attaching package: ‘WGCNA’\n",
      "\n",
      "\n",
      "The following object is masked from ‘package:stats’:\n",
      "\n",
      "    cor\n",
      "\n",
      "\n",
      "── \u001b[1mAttaching packages\u001b[22m ────────────────────────────────────────────────────────────────────────────────── tidyverse 1.3.1 ──\n",
      "\n",
      "\u001b[32m✔\u001b[39m \u001b[34mggplot2\u001b[39m 3.3.5     \u001b[32m✔\u001b[39m \u001b[34mpurrr  \u001b[39m 0.3.4\n",
      "\u001b[32m✔\u001b[39m \u001b[34mtibble \u001b[39m 3.1.6     \u001b[32m✔\u001b[39m \u001b[34mdplyr  \u001b[39m 1.0.7\n",
      "\u001b[32m✔\u001b[39m \u001b[34mtidyr  \u001b[39m 1.1.4     \u001b[32m✔\u001b[39m \u001b[34mstringr\u001b[39m 1.4.0\n",
      "\u001b[32m✔\u001b[39m \u001b[34mreadr  \u001b[39m 2.1.1     \u001b[32m✔\u001b[39m \u001b[34mforcats\u001b[39m 0.5.1\n",
      "\n",
      "── \u001b[1mConflicts\u001b[22m ───────────────────────────────────────────────────────────────────────────────────── tidyverse_conflicts() ──\n",
      "\u001b[31m✖\u001b[39m \u001b[34mdplyr\u001b[39m::\u001b[32mfilter()\u001b[39m masks \u001b[34mstats\u001b[39m::filter()\n",
      "\u001b[31m✖\u001b[39m \u001b[34mdplyr\u001b[39m::\u001b[32mlag()\u001b[39m    masks \u001b[34mstats\u001b[39m::lag()\n",
      "\n"
     ]
    }
   ],
   "source": [
    "library(WGCNA)\n",
    "library(tidyverse)\n",
    "library(RColorBrewer)\n",
    "library(patchwork)\n",
    "\n",
    "options(stringsAsFactors = FALSE)\n",
    "\n",
    "setwd(\"~/eQTL_pQTL_Characterization/\")\n",
    "\n",
    "source(\"04_Expression/scripts/utils/ggplot_theme.R\")"
   ]
  },
  {
   "cell_type": "markdown",
   "id": "12b88e7e-c7a4-4f7a-b668-e31a7db60cff",
   "metadata": {
    "tags": []
   },
   "source": [
    "## Load Data"
   ]
  },
  {
   "cell_type": "code",
   "execution_count": 3,
   "id": "5b5a78d4-67f3-4811-b32b-a0974418fa0d",
   "metadata": {},
   "outputs": [],
   "source": [
    "gene.exp <- read.table(\"/nfs/team282/data/gains_team282/Logcpm_864_20416.txt\")\n",
    "gene.exp <- as.data.frame(t(gene.exp))\n",
    "\n",
    "sample.info <- read.table(\"/nfs/team282/data/gains_team282/Sample_info_864.txt\")\n",
    "sample.info <- sample.info %>% \n",
    "  dplyr::filter(supplier_name %in% rownames(gene.exp))\n",
    "rownames(sample.info) <- sample.info$supplier_name\n",
    "sample.info <- sample.info[rownames(gene.exp),]\n",
    "\n",
    "outcome <- read.table(\"/nfs/team282/data/gains_team282/ClinicalData/clinical_data_tsv/OUT_12jun2019.tsv\", sep=\"\\t\", header=T, quote=\"\")\n",
    "outcome <- outcome %>%\n",
    "  dplyr::mutate(GAinSID=stringr::str_to_upper(SubjectBarCode))\n",
    "outcome <- merge(sample.info, outcome, by=\"GAinSID\", all.x=TRUE)\n",
    "rownames(outcome) <- outcome$supplier_name\n",
    "outcome <- outcome[sample.info$supplier_name,]\n",
    "outcome$diagnosis <- replace(outcome$diagnosis, is.na(outcome$diagnosis), 0)\n",
    "\n",
    "gene.exp.cap <- gene.exp[outcome$diagnosis == 1,]\n",
    "gene.exp.fp <- gene.exp[outcome$diagnosis == 2,]\n",
    "\n",
    "sample.info.cap <- sample.info[outcome$diagnosis == 1,]\n",
    "sample.info.fp <- sample.info[outcome$diagnosis == 2,]\n",
    "\n",
    "rm(gene.exp, sample.info)"
   ]
  },
  {
   "cell_type": "markdown",
   "id": "211eb4af-31a0-4238-94ad-61ec198ef6e8",
   "metadata": {
    "tags": []
   },
   "source": [
    "## CAP Individuals\n",
    "\n",
    "The following analysis generates co-expression modules from gene expression from individuals with community-acquired pneuomnia (CAP)."
   ]
  },
  {
   "cell_type": "markdown",
   "id": "41bcdc7a-c59c-4a60-b085-7d431f707b0e",
   "metadata": {
    "tags": []
   },
   "source": [
    "### WGCNA Checks\n",
    "\n",
    "The following function identifies genes with excessive missing values and outlier samples. It is generally more important for microarray data."
   ]
  },
  {
   "cell_type": "code",
   "execution_count": 4,
   "id": "4f0f4086-c413-47c5-811e-d961731e75bd",
   "metadata": {},
   "outputs": [
    {
     "name": "stdout",
     "output_type": "stream",
     "text": [
      " Flagging genes and samples with too many missing values...\n",
      "  ..step 1\n"
     ]
    },
    {
     "data": {
      "text/html": [
       "TRUE"
      ],
      "text/latex": [
       "TRUE"
      ],
      "text/markdown": [
       "TRUE"
      ],
      "text/plain": [
       "[1] TRUE"
      ]
     },
     "metadata": {},
     "output_type": "display_data"
    }
   ],
   "source": [
    "gsg <- goodSamplesGenes(gene.exp.cap)\n",
    "gsg$allOK"
   ]
  },
  {
   "cell_type": "markdown",
   "id": "15124f53-459c-41ff-a18f-d080b388a028",
   "metadata": {
    "tags": []
   },
   "source": [
    "### Soft Threshold\n",
    "\n",
    "The adjacency matrix generated using the correlation function does not fit a scale-free topology. A scaling function is used to generate the appropriate gene degree distribution. A parameter of this scaling function, $\\beta$, is estimated by trying multiple values and checking how well the resulting network fits the assumptions of a scale-free network. Here, I try all integer values in $[1,20]$."
   ]
  },
  {
   "cell_type": "code",
   "execution_count": 5,
   "id": "d8cc3388-0b55-4bbb-8b88-0ef1e0094ad3",
   "metadata": {},
   "outputs": [
    {
     "name": "stderr",
     "output_type": "stream",
     "text": [
      "Warning message:\n",
      "“executing %dopar% sequentially: no parallel backend registered”\n",
      "Warning message in (function (x, y = NULL, robustX = TRUE, robustY = TRUE, use = \"all.obs\", :\n",
      "“bicor: zero MAD in variable 'x'. Pearson correlation was used for individual columns with zero (or missing) MAD.”\n",
      "Warning message in (function (x, y = NULL, robustX = TRUE, robustY = TRUE, use = \"all.obs\", :\n",
      "“bicor: zero MAD in variable 'y'. Pearson correlation was used for individual columns with zero (or missing) MAD.”\n",
      "Warning message in (function (x, y = NULL, robustX = TRUE, robustY = TRUE, use = \"all.obs\", :\n",
      "“bicor: zero MAD in variable 'x'. Pearson correlation was used for individual columns with zero (or missing) MAD.”\n",
      "Warning message in (function (x, y = NULL, robustX = TRUE, robustY = TRUE, use = \"all.obs\", :\n",
      "“bicor: zero MAD in variable 'y'. Pearson correlation was used for individual columns with zero (or missing) MAD.”\n",
      "Warning message in (function (x, y = NULL, robustX = TRUE, robustY = TRUE, use = \"all.obs\", :\n",
      "“bicor: zero MAD in variable 'x'. Pearson correlation was used for individual columns with zero (or missing) MAD.”\n",
      "Warning message in (function (x, y = NULL, robustX = TRUE, robustY = TRUE, use = \"all.obs\", :\n",
      "“bicor: zero MAD in variable 'y'. Pearson correlation was used for individual columns with zero (or missing) MAD.”\n",
      "Warning message in (function (x, y = NULL, robustX = TRUE, robustY = TRUE, use = \"all.obs\", :\n",
      "“bicor: zero MAD in variable 'x'. Pearson correlation was used for individual columns with zero (or missing) MAD.”\n",
      "Warning message in (function (x, y = NULL, robustX = TRUE, robustY = TRUE, use = \"all.obs\", :\n",
      "“bicor: zero MAD in variable 'y'. Pearson correlation was used for individual columns with zero (or missing) MAD.”\n",
      "Warning message in (function (x, y = NULL, robustX = TRUE, robustY = TRUE, use = \"all.obs\", :\n",
      "“bicor: zero MAD in variable 'x'. Pearson correlation was used for individual columns with zero (or missing) MAD.”\n",
      "Warning message in (function (x, y = NULL, robustX = TRUE, robustY = TRUE, use = \"all.obs\", :\n",
      "“bicor: zero MAD in variable 'y'. Pearson correlation was used for individual columns with zero (or missing) MAD.”\n",
      "Warning message in (function (x, y = NULL, robustX = TRUE, robustY = TRUE, use = \"all.obs\", :\n",
      "“bicor: zero MAD in variable 'x'. Pearson correlation was used for individual columns with zero (or missing) MAD.”\n",
      "Warning message in (function (x, y = NULL, robustX = TRUE, robustY = TRUE, use = \"all.obs\", :\n",
      "“bicor: zero MAD in variable 'y'. Pearson correlation was used for individual columns with zero (or missing) MAD.”\n",
      "Warning message in (function (x, y = NULL, robustX = TRUE, robustY = TRUE, use = \"all.obs\", :\n",
      "“bicor: zero MAD in variable 'x'. Pearson correlation was used for individual columns with zero (or missing) MAD.”\n",
      "Warning message in (function (x, y = NULL, robustX = TRUE, robustY = TRUE, use = \"all.obs\", :\n",
      "“bicor: zero MAD in variable 'y'. Pearson correlation was used for individual columns with zero (or missing) MAD.”\n",
      "Warning message in (function (x, y = NULL, robustX = TRUE, robustY = TRUE, use = \"all.obs\", :\n",
      "“bicor: zero MAD in variable 'x'. Pearson correlation was used for individual columns with zero (or missing) MAD.”\n",
      "Warning message in (function (x, y = NULL, robustX = TRUE, robustY = TRUE, use = \"all.obs\", :\n",
      "“bicor: zero MAD in variable 'y'. Pearson correlation was used for individual columns with zero (or missing) MAD.”\n",
      "Warning message in (function (x, y = NULL, robustX = TRUE, robustY = TRUE, use = \"all.obs\", :\n",
      "“bicor: zero MAD in variable 'x'. Pearson correlation was used for individual columns with zero (or missing) MAD.”\n",
      "Warning message in (function (x, y = NULL, robustX = TRUE, robustY = TRUE, use = \"all.obs\", :\n",
      "“bicor: zero MAD in variable 'y'. Pearson correlation was used for individual columns with zero (or missing) MAD.”\n",
      "Warning message in (function (x, y = NULL, robustX = TRUE, robustY = TRUE, use = \"all.obs\", :\n",
      "“bicor: zero MAD in variable 'x'. Pearson correlation was used for individual columns with zero (or missing) MAD.”\n",
      "Warning message in (function (x, y = NULL, robustX = TRUE, robustY = TRUE, use = \"all.obs\", :\n",
      "“bicor: zero MAD in variable 'y'. Pearson correlation was used for individual columns with zero (or missing) MAD.”\n"
     ]
    },
    {
     "name": "stdout",
     "output_type": "stream",
     "text": [
      "   Power SFT.R.sq  slope truncated.R.sq mean.k. median.k. max.k.\n",
      "1      1    0.146  0.515          0.871 3900.00  3.88e+03 7100.0\n",
      "2      2    0.477 -0.786          0.790 1280.00  1.11e+03 3580.0\n",
      "3      3    0.673 -1.160          0.841  552.00  3.88e+02 2140.0\n",
      "4      4    0.743 -1.310          0.888  280.00  1.64e+02 1410.0\n",
      "5      5    0.790 -1.380          0.928  159.00  7.36e+01  991.0\n",
      "6      6    0.808 -1.440          0.947   96.80  3.56e+01  734.0\n",
      "7      7    0.809 -1.510          0.955   62.50  1.83e+01  566.0\n",
      "8      8    0.825 -1.540          0.970   42.20  9.75e+00  446.0\n",
      "9      9    0.839 -1.550          0.980   29.60  5.38e+00  359.0\n",
      "10    10    0.842 -1.580          0.981   21.30  3.02e+00  293.0\n",
      "11    11    0.844 -1.590          0.981   15.80  1.74e+00  241.0\n",
      "12    12    0.844 -1.590          0.982   11.90  1.01e+00  201.0\n",
      "13    13    0.842 -1.590          0.978    9.19  6.06e-01  169.0\n",
      "14    14    0.848 -1.580          0.977    7.19  3.72e-01  143.0\n",
      "15    15    0.853 -1.550          0.974    5.71  2.31e-01  122.0\n",
      "16    16    0.852 -1.540          0.964    4.60  1.45e-01  105.0\n",
      "17    17    0.870 -1.500          0.963    3.74  9.23e-02   90.3\n",
      "18    18    0.899 -1.440          0.968    3.08  5.99e-02   78.2\n",
      "19    19    0.927 -1.390          0.975    2.56  3.85e-02   68.0\n",
      "20    20    0.955 -1.340          0.982    2.14  2.48e-02   59.3\n"
     ]
    }
   ],
   "source": [
    "powers = seq(1, 20, by=1)\n",
    "\n",
    "soft.thresholds = pickSoftThreshold(gene.exp.cap, powerVector=powers, networkType=\"unsigned\", corFnc=bicor)\n",
    "\n",
    "soft.threshold.cap = soft.thresholds$powerEstimate"
   ]
  },
  {
   "cell_type": "code",
   "execution_count": 6,
   "id": "36f56257-5bbd-4d0d-8c20-17f9d42e2ed0",
   "metadata": {},
   "outputs": [
    {
     "data": {
      "image/png": "[encoded data removed]",
      "text/plain": [
       "plot without title"
      ]
     },
     "metadata": {
      "image/png": {
       "height": 360,
       "width": 720
      }
     },
     "output_type": "display_data"
    }
   ],
   "source": [
    "options(repr.plot.width=12, repr.plot.height=6)\n",
    "\n",
    "p1 <- soft.thresholds$fitIndices %>%\n",
    "    ggplot() +\n",
    "    geom_text(aes(x=Power, y=SFT.R.sq, label=Power)) +\n",
    "    xlab(\"Soft Threshold Power\") + ylab(bquote(R^2*\" of Fit to Scale-Free Network\")) +\n",
    "    ggplot_theme\n",
    "\n",
    "p2 <- soft.thresholds$fitIndices %>%\n",
    "    ggplot() +\n",
    "    geom_text(aes(x=Power, y=mean.k., label=Power)) +\n",
    "    xlab(\"Soft Threshold Power\") + ylab(\"Mean Connectivity\") +\n",
    "    ggplot_theme\n",
    "\n",
    "p1 + p2"
   ]
  },
  {
   "cell_type": "code",
   "execution_count": 7,
   "id": "9a02cf00-bc16-41c7-bc07-14490c049a51",
   "metadata": {},
   "outputs": [
    {
     "name": "stdout",
     "output_type": "stream",
     "text": [
      "[1] 15\n"
     ]
    }
   ],
   "source": [
    "print(soft.threshold.cap)"
   ]
  },
  {
   "cell_type": "markdown",
   "id": "ad2479ec-110c-440b-a11b-4ccfcbe6ba4b",
   "metadata": {},
   "source": [
    "### Adjacency and TOM Matrices\n",
    "\n",
    "The adjacency matrix defines the similarity between all genes in the sample data. I am using the [biweight midcorrelation](https://en.wikipedia.org/wiki/Biweight_midcorrelation) (`bicor`) function to estimate similarity. It is a median-based approach that is less sensitive to outliers.\n",
    "\n",
    "I use $\\beta=15$ for the scaling function, which was determined in the previous step. Then, the topological overlap metric (TOM) matrix is generated from the adjacency matrix. For details, check the original WGCNA paper."
   ]
  },
  {
   "cell_type": "code",
   "execution_count": 8,
   "id": "bfc44690-e074-4303-87c6-d057b4b1fcab",
   "metadata": {},
   "outputs": [
    {
     "name": "stderr",
     "output_type": "stream",
     "text": [
      "Warning message in (function (x, y = NULL, robustX = TRUE, robustY = TRUE, use = \"all.obs\", :\n",
      "“bicor: zero MAD in variable 'x'. Some results will be NA.”\n"
     ]
    },
    {
     "name": "stdout",
     "output_type": "stream",
     "text": [
      "..connectivity..\n",
      "..matrix multiplication (system BLAS)..\n",
      "..normalization..\n",
      "..done.\n"
     ]
    },
    {
     "name": "stderr",
     "output_type": "stream",
     "text": [
      "Warning message in dir.create(\"~/gains_team282/nikhil/expression/gene_expression/\", :\n",
      "“'/nfs/users/nfs_n/nm18/gains_team282/nikhil/expression/gene_expression' already exists”\n"
     ]
    }
   ],
   "source": [
    "adjacency.matrix = adjacency(\n",
    "    gene.exp.cap, type=\"unsigned\", \n",
    "    corFnc=bicor, corOptions=list(use=\"pairwise.complete.obs\", pearsonFallback=\"none\"), \n",
    "    power=soft.threshold.cap\n",
    ")\n",
    "\n",
    "TOM.cap.matrix = TOMsimilarity(adjacency.matrix)\n",
    "\n",
    "dir.create(\"~/gains_team282/nikhil/expression/gene_expression/\", recursive=TRUE)\n",
    "saveRDS(TOM.cap.matrix, file=\"~/gains_team282/nikhil/expression/gene_expression/TOM.cap.matrix.RDS\")\n",
    "\n",
    "TOM.cap.dist = 1 - TOM.cap.matrix"
   ]
  },
  {
   "cell_type": "markdown",
   "id": "9fda1e35-e4cb-4b99-b28e-3ff503f0e2f9",
   "metadata": {},
   "source": [
    "### Clustering TOM Matrix\n",
    "\n",
    "The gene co-expression modules are generated by clustering the TOM matrix."
   ]
  },
  {
   "cell_type": "code",
   "execution_count": 9,
   "id": "1e3e2b20-7612-4df8-b4cf-89cf59bd94fa",
   "metadata": {},
   "outputs": [
    {
     "name": "stdout",
     "output_type": "stream",
     "text": [
      " ..cutHeight not given, setting it to 0.999  ===>  99% of the (truncated) height range in dendro.\n",
      " ..done.\n"
     ]
    },
    {
     "data": {
      "image/png": "[encoded data removed]",
      "text/plain": [
       "Plot with title “CAP Gene Expression TOM Dendrogram”"
      ]
     },
     "metadata": {
      "image/png": {
       "height": 300,
       "width": 480
      }
     },
     "output_type": "display_data"
    }
   ],
   "source": [
    "dendrogram = hclust(as.dist(TOM.cap.dist), method=\"average\")\n",
    "\n",
    "options(repr.plot.width=8, repr.plot.height=5)\n",
    "\n",
    "plot(dendrogram, labels=FALSE, main=\"CAP Gene Expression TOM Dendrogram\")\n",
    "\n",
    "dynamic.mods.cap = cutreeDynamic(\n",
    "  dendro=dendrogram, distM=TOM.cap.dist, pamRespectsDendro=FALSE,\n",
    "  minClusterSize = 10\n",
    ")\n",
    "rm(TOM.cap.dist)"
   ]
  },
  {
   "cell_type": "markdown",
   "id": "5dddbf9a-50c4-4510-827f-a1e99d3a84a4",
   "metadata": {},
   "source": [
    "### Intra- and Inter-Module Connectivity\n",
    "\n",
    "Connectivity is a measure assigned to each gene that describes how well the gene fits into a certain group of genes. Intra-module connectivity is a measure of how well the gene belongs to the module, Conversely, inter-module connectivity is a measure of how well the gene belongs to all other genes outside the module. Genes that are more \"central\" in the module will tend to have a high intra-module connectivity and a low inter-module connectivity."
   ]
  },
  {
   "cell_type": "code",
   "execution_count": 10,
   "id": "32a35c10-c6db-4dc2-9336-bbfd56663532",
   "metadata": {},
   "outputs": [],
   "source": [
    "connectivity.cap <- intramodularConnectivity(TOM.cap.matrix, colors=dynamic.mods.cap)\n",
    "rownames(connectivity.cap) <- colnames(gene.exp.cap)"
   ]
  },
  {
   "cell_type": "markdown",
   "id": "a360adca-3533-457c-82c3-82314512fb90",
   "metadata": {},
   "source": [
    "### Co-Expression Module Size Distribution"
   ]
  },
  {
   "cell_type": "code",
   "execution_count": 11,
   "id": "c1165118-a9ee-4e0f-a5ba-ba128325ccc2",
   "metadata": {},
   "outputs": [
    {
     "data": {
      "image/png": "[encoded data removed]",
      "text/plain": [
       "plot without title"
      ]
     },
     "metadata": {
      "image/png": {
       "height": 300,
       "width": 480
      }
     },
     "output_type": "display_data"
    }
   ],
   "source": [
    "plot.data <- as.data.frame(table(dynamic.mods.cap)) %>%\n",
    "  dplyr::select(Module=1, Frequency=Freq) %>%\n",
    "  dplyr::filter(Module != 0)\n",
    "\n",
    "options(repr.plot.width=8, repr.plot.height=5)\n",
    "\n",
    "ggplot(plot.data) +\n",
    "  geom_col(aes(x=Module, y=Frequency), width=1) +\n",
    "  xlab(\"Module\") + ylab(\"Number of Genes\") +\n",
    "  ggplot_theme +\n",
    "  theme(axis.text.x=element_blank(), axis.ticks.x=element_blank())\n",
    "ggsave(filename=\"04_Expression/results/gene_coexpression_module_sizes_cap.svg\", width=8, height=5)"
   ]
  },
  {
   "cell_type": "markdown",
   "id": "88a4a85e-93ed-4ffa-b51d-b8d98a6ad52e",
   "metadata": {},
   "source": [
    "### Save Gene Co-Expression Modules\n",
    "\n",
    "I save a the list of genes and their assigned modules, the eigengenes, the variance explained by each eigengene, and the connectivity information for each gene.\n",
    "\n",
    "The modules are labelled `Module_1,Module_2,...`. `Module_0` contains genes that were not assigned to any co-expression module by WGCNA and are therefore labelled as `Unassigned`.\n",
    "\n",
    "The eigengene of a given co-expression module is the first principal component of the gene expression for the genes within the module.\n",
    "\n",
    "The variance explained by each eigengene tells us how well the eigengene captures the overall variation found within the module expression data."
   ]
  },
  {
   "cell_type": "code",
   "execution_count": 12,
   "id": "dc93960e-f5b1-43d8-a661-155864c9a3ed",
   "metadata": {},
   "outputs": [],
   "source": [
    "### Module Assignment\n",
    "\n",
    "gene.list <- colnames(gene.exp.cap)\n",
    "\n",
    "mod.assignment <- dynamic.mods.cap\n",
    "mod.labels <- paste0(\"Module_\", mod.assignment)\n",
    "mod.labels[mod.labels == \"Module_0\"] <- \"Unassigned\"\n",
    "\n",
    "modules <- data.frame(\n",
    "  Gene=gene.list,\n",
    "  Module=mod.labels\n",
    ") %>%\n",
    "  dplyr::arrange(Module, Gene)\n",
    "\n",
    "write.csv(modules, \"~/gains_team282/nikhil/expression/gene_expression/modules.cap.csv\", row.names=F)\n",
    "\n",
    "### Eigengenes\n",
    "\n",
    "eigengenes.result <- moduleEigengenes(gene.exp.cap[mod.labels != \"Unassigned\"], colors=mod.labels[mod.labels != \"Unassigned\"])\n",
    "eigengene.order <- order(as.numeric(sapply(strsplit(colnames(eigengenes.result$eigengenes), \"_\"), function(x) x[2])))\n",
    "\n",
    "eigengenes <- eigengenes.result$eigengenes\n",
    "colnames(eigengenes) <- sapply(strsplit(colnames(eigengenes), \"_\"), function(x) paste0(\"ME_\", x[2]))\n",
    "eigengenes <- eigengenes[,eigengene.order]\n",
    "\n",
    "rownames(eigengenes) <- rownames(gene.exp.cap)\n",
    "\n",
    "write.csv(eigengenes, \"~/gains_team282/nikhil/expression/gene_expression/eigengenes.cap.csv\")\n",
    "\n",
    "variance.explained <- data.frame(\n",
    "  Module=colnames(eigengenes),\n",
    "  Var.Explained=t(eigengenes.result$varExplained[eigengene.order])[,1]\n",
    ")\n",
    "\n",
    "write.csv(variance.explained, \"~/gains_team282/nikhil/expression/gene_expression/variance.explained.cap.csv\", row.names=F)\n",
    "\n",
    "### Connectivity\n",
    "\n",
    "connectivity <- connectivity.cap[modules$Gene,]\n",
    "connectivity <- cbind(connectivity, modules$Module)\n",
    "colnames(connectivity)[ncol(connectivity)] <- \"Module\"\n",
    "\n",
    "write.csv(connectivity, \"~/gains_team282/nikhil/expression/gene_expression/connectivity.cap.csv\")\n",
    "\n",
    "# Remove files used in CAP analysis to clear up space for FP analysis\n",
    "rm(\n",
    "  connectivity, connectivity.cap, dendrogram, eigengenes, eigengenes.result, \n",
    "  modules, plot.data, TOM.cap.matrix, variance.explained\n",
    ")"
   ]
  },
  {
   "cell_type": "markdown",
   "id": "5005a2e5-4845-4d84-b840-3c4aabfa4f68",
   "metadata": {
    "tags": []
   },
   "source": [
    "## FP Individuals\n",
    "\n",
    "The following analysis generates co-expression modules from gene expression from individuals with fecal peritonitis (FP)."
   ]
  },
  {
   "cell_type": "markdown",
   "id": "64bbe0f3-758c-40b7-bb5c-efba698afc2d",
   "metadata": {},
   "source": [
    "### WGCNA Checks\n",
    "\n",
    "The following function identifies genes with excessive missing values and outlier samples. It is generally more important for microarray data."
   ]
  },
  {
   "cell_type": "code",
   "execution_count": 13,
   "id": "f79c41ab-1aec-432a-88d1-978eaedb2804",
   "metadata": {},
   "outputs": [
    {
     "name": "stdout",
     "output_type": "stream",
     "text": [
      " Flagging genes and samples with too many missing values...\n",
      "  ..step 1\n"
     ]
    },
    {
     "data": {
      "text/html": [
       "TRUE"
      ],
      "text/latex": [
       "TRUE"
      ],
      "text/markdown": [
       "TRUE"
      ],
      "text/plain": [
       "[1] TRUE"
      ]
     },
     "metadata": {},
     "output_type": "display_data"
    }
   ],
   "source": [
    "gsg <- goodSamplesGenes(gene.exp.fp)\n",
    "gsg$allOK"
   ]
  },
  {
   "cell_type": "markdown",
   "id": "d2f7b879-e180-49a9-94a7-a0f242b85426",
   "metadata": {},
   "source": [
    "### Soft Threshold\n",
    "\n",
    "The adjacency matrix generated using the correlation function does not fit a scale-free topology. A scaling function is used to generate the appropriate gene degree distribution. A parameter of this scaling function, $\\beta$, is estimated by trying multiple values and checking how well the resulting network fits the assumptions of a scale-free network. Here, I try all integer values in $[1,20]$."
   ]
  },
  {
   "cell_type": "code",
   "execution_count": 14,
   "id": "45fdf8c9-226a-4cb0-a54d-02e519df3be3",
   "metadata": {},
   "outputs": [
    {
     "name": "stderr",
     "output_type": "stream",
     "text": [
      "Warning message in (function (x, y = NULL, robustX = TRUE, robustY = TRUE, use = \"all.obs\", :\n",
      "“bicor: zero MAD in variable 'x'. Pearson correlation was used for individual columns with zero (or missing) MAD.”\n",
      "Warning message in (function (x, y = NULL, robustX = TRUE, robustY = TRUE, use = \"all.obs\", :\n",
      "“bicor: zero MAD in variable 'y'. Pearson correlation was used for individual columns with zero (or missing) MAD.”\n",
      "Warning message in (function (x, y = NULL, robustX = TRUE, robustY = TRUE, use = \"all.obs\", :\n",
      "“bicor: zero MAD in variable 'x'. Pearson correlation was used for individual columns with zero (or missing) MAD.”\n",
      "Warning message in (function (x, y = NULL, robustX = TRUE, robustY = TRUE, use = \"all.obs\", :\n",
      "“bicor: zero MAD in variable 'y'. Pearson correlation was used for individual columns with zero (or missing) MAD.”\n",
      "Warning message in (function (x, y = NULL, robustX = TRUE, robustY = TRUE, use = \"all.obs\", :\n",
      "“bicor: zero MAD in variable 'x'. Pearson correlation was used for individual columns with zero (or missing) MAD.”\n",
      "Warning message in (function (x, y = NULL, robustX = TRUE, robustY = TRUE, use = \"all.obs\", :\n",
      "“bicor: zero MAD in variable 'y'. Pearson correlation was used for individual columns with zero (or missing) MAD.”\n",
      "Warning message in (function (x, y = NULL, robustX = TRUE, robustY = TRUE, use = \"all.obs\", :\n",
      "“bicor: zero MAD in variable 'x'. Pearson correlation was used for individual columns with zero (or missing) MAD.”\n",
      "Warning message in (function (x, y = NULL, robustX = TRUE, robustY = TRUE, use = \"all.obs\", :\n",
      "“bicor: zero MAD in variable 'y'. Pearson correlation was used for individual columns with zero (or missing) MAD.”\n",
      "Warning message in (function (x, y = NULL, robustX = TRUE, robustY = TRUE, use = \"all.obs\", :\n",
      "“bicor: zero MAD in variable 'x'. Pearson correlation was used for individual columns with zero (or missing) MAD.”\n",
      "Warning message in (function (x, y = NULL, robustX = TRUE, robustY = TRUE, use = \"all.obs\", :\n",
      "“bicor: zero MAD in variable 'y'. Pearson correlation was used for individual columns with zero (or missing) MAD.”\n",
      "Warning message in (function (x, y = NULL, robustX = TRUE, robustY = TRUE, use = \"all.obs\", :\n",
      "“bicor: zero MAD in variable 'x'. Pearson correlation was used for individual columns with zero (or missing) MAD.”\n",
      "Warning message in (function (x, y = NULL, robustX = TRUE, robustY = TRUE, use = \"all.obs\", :\n",
      "“bicor: zero MAD in variable 'y'. Pearson correlation was used for individual columns with zero (or missing) MAD.”\n",
      "Warning message in (function (x, y = NULL, robustX = TRUE, robustY = TRUE, use = \"all.obs\", :\n",
      "“bicor: zero MAD in variable 'x'. Pearson correlation was used for individual columns with zero (or missing) MAD.”\n",
      "Warning message in (function (x, y = NULL, robustX = TRUE, robustY = TRUE, use = \"all.obs\", :\n",
      "“bicor: zero MAD in variable 'y'. Pearson correlation was used for individual columns with zero (or missing) MAD.”\n",
      "Warning message in (function (x, y = NULL, robustX = TRUE, robustY = TRUE, use = \"all.obs\", :\n",
      "“bicor: zero MAD in variable 'x'. Pearson correlation was used for individual columns with zero (or missing) MAD.”\n",
      "Warning message in (function (x, y = NULL, robustX = TRUE, robustY = TRUE, use = \"all.obs\", :\n",
      "“bicor: zero MAD in variable 'y'. Pearson correlation was used for individual columns with zero (or missing) MAD.”\n",
      "Warning message in (function (x, y = NULL, robustX = TRUE, robustY = TRUE, use = \"all.obs\", :\n",
      "“bicor: zero MAD in variable 'x'. Pearson correlation was used for individual columns with zero (or missing) MAD.”\n",
      "Warning message in (function (x, y = NULL, robustX = TRUE, robustY = TRUE, use = \"all.obs\", :\n",
      "“bicor: zero MAD in variable 'y'. Pearson correlation was used for individual columns with zero (or missing) MAD.”\n",
      "Warning message in (function (x, y = NULL, robustX = TRUE, robustY = TRUE, use = \"all.obs\", :\n",
      "“bicor: zero MAD in variable 'x'. Pearson correlation was used for individual columns with zero (or missing) MAD.”\n",
      "Warning message in (function (x, y = NULL, robustX = TRUE, robustY = TRUE, use = \"all.obs\", :\n",
      "“bicor: zero MAD in variable 'y'. Pearson correlation was used for individual columns with zero (or missing) MAD.”\n"
     ]
    },
    {
     "name": "stdout",
     "output_type": "stream",
     "text": [
      "   Power SFT.R.sq  slope truncated.R.sq mean.k. median.k. max.k.\n",
      "1      1    0.123  0.581          0.922 3720.00  3.66e+03   6640\n",
      "2      2    0.459 -0.802          0.907 1160.00  1.02e+03   3180\n",
      "3      3    0.707 -1.260          0.922  475.00  3.66e+02   1880\n",
      "4      4    0.772 -1.460          0.938  233.00  1.50e+02   1240\n",
      "5      5    0.811 -1.560          0.955  129.00  6.84e+01    882\n",
      "6      6    0.826 -1.630          0.960   77.70  3.33e+01    659\n",
      "7      7    0.832 -1.670          0.961   50.00  1.71e+01    509\n",
      "8      8    0.834 -1.680          0.962   33.90  9.06e+00    403\n",
      "9      9    0.838 -1.660          0.959   24.00  4.97e+00    325\n",
      "10    10    0.840 -1.630          0.949   17.60  2.80e+00    266\n",
      "11    11    0.832 -1.600          0.922   13.20  1.62e+00    221\n",
      "12    12    0.824 -1.530          0.883   10.20  9.59e-01    185\n",
      "13    13    0.957 -1.360          0.967    8.09  5.80e-01    157\n",
      "14    14    0.979 -1.350          0.986    6.51  3.56e-01    145\n",
      "15    15    0.982 -1.360          0.990    5.33  2.22e-01    138\n",
      "16    16    0.983 -1.360          0.987    4.42  1.39e-01    131\n",
      "17    17    0.983 -1.360          0.986    3.72  8.91e-02    125\n",
      "18    18    0.985 -1.340          0.985    3.17  5.70e-02    119\n",
      "19    19    0.981 -1.340          0.979    2.72  3.69e-02    113\n",
      "20    20    0.980 -1.320          0.977    2.36  2.41e-02    108\n"
     ]
    }
   ],
   "source": [
    "powers = seq(1, 20, by=1)\n",
    "\n",
    "soft.thresholds = pickSoftThreshold(gene.exp.fp, powerVector=powers, networkType=\"unsigned\", corFnc=bicor)\n",
    "\n",
    "soft.threshold.fp = soft.thresholds$powerEstimate"
   ]
  },
  {
   "cell_type": "code",
   "execution_count": 15,
   "id": "c7fcfae2-59ad-400f-9222-b1ca084163d3",
   "metadata": {},
   "outputs": [
    {
     "data": {
      "image/png": "[encoded data removed]",
      "text/plain": [
       "plot without title"
      ]
     },
     "metadata": {
      "image/png": {
       "height": 360,
       "width": 720
      }
     },
     "output_type": "display_data"
    }
   ],
   "source": [
    "options(repr.plot.width=12, repr.plot.height=6)\n",
    "\n",
    "p1 <- soft.thresholds$fitIndices %>%\n",
    "    ggplot() +\n",
    "    geom_text(aes(x=Power, y=SFT.R.sq, label=Power)) +\n",
    "    xlab(\"Soft Threshold Power\") + ylab(bquote(R^2*\" of Fit to Scale-Free Network\")) +\n",
    "    ggplot_theme\n",
    "\n",
    "p2 <- soft.thresholds$fitIndices %>%\n",
    "    ggplot() +\n",
    "    geom_text(aes(x=Power, y=mean.k., label=Power)) +\n",
    "    xlab(\"Soft Threshold Power\") + ylab(\"Mean Connectivity\") +\n",
    "    ggplot_theme\n",
    "\n",
    "p1 + p2"
   ]
  },
  {
   "cell_type": "code",
   "execution_count": 16,
   "id": "c23a82ef-0ccd-4d61-b315-f1769e25de7e",
   "metadata": {},
   "outputs": [
    {
     "name": "stdout",
     "output_type": "stream",
     "text": [
      "[1] 13\n"
     ]
    }
   ],
   "source": [
    "print(soft.threshold.fp)"
   ]
  },
  {
   "cell_type": "markdown",
   "id": "c60ba5c4-4693-40bc-b3fe-832bab59b28c",
   "metadata": {},
   "source": [
    "### Adjacency and TOM Matrices\n",
    "\n",
    "The adjacency matrix defines the similarity between all genes in the sample data. I am using the [biweight midcorrelation](https://en.wikipedia.org/wiki/Biweight_midcorrelation) (`bicor`) function to estimate similarity. It is a median-based approach that is less sensitive to outliers.\n",
    "\n",
    "I use $\\beta=13$ for the scaling function, which was determined in the previous step. Then, the topological overlap metric (TOM) matrix is generated from the adjacency matrix. For details, check the original WGCNA paper."
   ]
  },
  {
   "cell_type": "code",
   "execution_count": 17,
   "id": "b037003c-042e-44ad-85f4-f8fdbff3f17a",
   "metadata": {},
   "outputs": [
    {
     "name": "stderr",
     "output_type": "stream",
     "text": [
      "Warning message in (function (x, y = NULL, robustX = TRUE, robustY = TRUE, use = \"all.obs\", :\n",
      "“bicor: zero MAD in variable 'x'. Some results will be NA.”\n"
     ]
    },
    {
     "name": "stdout",
     "output_type": "stream",
     "text": [
      "..connectivity..\n",
      "..matrix multiplication (system BLAS)..\n",
      "..normalization..\n",
      "..done.\n"
     ]
    },
    {
     "name": "stderr",
     "output_type": "stream",
     "text": [
      "Warning message in dir.create(\"~/gains_team282/nikhil/expression/gene_expression/\", :\n",
      "“'/nfs/users/nfs_n/nm18/gains_team282/nikhil/expression/gene_expression' already exists”\n"
     ]
    }
   ],
   "source": [
    "adjacency.matrix = adjacency(\n",
    "    gene.exp.fp, type=\"unsigned\", \n",
    "    corFnc=bicor, corOptions=list(use=\"pairwise.complete.obs\", pearsonFallback=\"none\"), \n",
    "    power=soft.threshold.fp\n",
    ")\n",
    "\n",
    "TOM.fp.matrix = TOMsimilarity(adjacency.matrix)\n",
    "\n",
    "dir.create(\"~/gains_team282/nikhil/expression/gene_expression/\", recursive=TRUE)\n",
    "saveRDS(TOM.fp.matrix, file=\"~/gains_team282/nikhil/expression/gene_expression/TOM.fp.matrix.RDS\")\n",
    "\n",
    "TOM.fp.dist = 1 - TOM.fp.matrix"
   ]
  },
  {
   "cell_type": "markdown",
   "id": "7da07639-f5a8-4529-ae39-20c43e488df5",
   "metadata": {},
   "source": [
    "### Clustering TOM Matrix\n",
    "\n",
    "The gene co-expression modules are generated by clustering the TOM matrix."
   ]
  },
  {
   "cell_type": "code",
   "execution_count": 18,
   "id": "4218991d-246d-4c85-bfc5-ff9b7244f82d",
   "metadata": {},
   "outputs": [
    {
     "name": "stdout",
     "output_type": "stream",
     "text": [
      " ..cutHeight not given, setting it to 0.999  ===>  99% of the (truncated) height range in dendro.\n",
      " ..done.\n"
     ]
    },
    {
     "data": {
      "image/png": "[encoded data removed]",
      "text/plain": [
       "Plot with title “FP Gene Expression TOM Dendrogram”"
      ]
     },
     "metadata": {
      "image/png": {
       "height": 300,
       "width": 480
      }
     },
     "output_type": "display_data"
    }
   ],
   "source": [
    "dendrogram = hclust(as.dist(TOM.fp.dist), method=\"average\")\n",
    "\n",
    "options(repr.plot.width=8, repr.plot.height=5)\n",
    "\n",
    "plot(dendrogram, labels=FALSE, main=\"FP Gene Expression TOM Dendrogram\")\n",
    "\n",
    "dynamic.mods.fp = cutreeDynamic(\n",
    "  dendro=dendrogram, distM=TOM.fp.dist, pamRespectsDendro=FALSE,\n",
    "  minClusterSize = 10\n",
    ")\n",
    "rm(TOM.fp.dist)"
   ]
  },
  {
   "cell_type": "markdown",
   "id": "8222739b-b818-46e7-b1e3-b5e6d62197dd",
   "metadata": {},
   "source": [
    "### Intra- and Inter-Module Connectivity\n",
    "\n",
    "Connectivity is a measure assigned to each gene that describes how well the gene fits into a certain group of genes. Intra-module connectivity is a measure of how well the gene belongs to the module, Conversely, inter-module connectivity is a measure of how well the gene belongs to all other genes outside the module. Genes that are more \"central\" in the module will tend to have a high intra-module connectivity and a low inter-module connectivity."
   ]
  },
  {
   "cell_type": "code",
   "execution_count": 19,
   "id": "1535d7b3-3fd5-4cab-8bf3-3d6f944e8c01",
   "metadata": {},
   "outputs": [],
   "source": [
    "connectivity.fp <- intramodularConnectivity(TOM.fp.matrix, colors=dynamic.mods.fp)\n",
    "rownames(connectivity.fp) <- colnames(gene.exp.fp)"
   ]
  },
  {
   "cell_type": "markdown",
   "id": "9630c5a9-e235-45da-8ae4-f5484b18f6c1",
   "metadata": {},
   "source": [
    "### Co-Expression Module Size Distribution"
   ]
  },
  {
   "cell_type": "code",
   "execution_count": 20,
   "id": "61228170-6e2b-4af0-a3da-9e69dd8e659e",
   "metadata": {},
   "outputs": [
    {
     "data": {
      "image/png": "[encoded data removed]",
      "text/plain": [
       "plot without title"
      ]
     },
     "metadata": {
      "image/png": {
       "height": 300,
       "width": 480
      }
     },
     "output_type": "display_data"
    }
   ],
   "source": [
    "plot.data <- as.data.frame(table(dynamic.mods.fp)) %>%\n",
    "  dplyr::select(Module=1, Frequency=Freq) %>%\n",
    "  dplyr::filter(Module != 0)\n",
    "\n",
    "options(repr.plot.width=8, repr.plot.height=5)\n",
    "\n",
    "ggplot(plot.data) +\n",
    "  geom_col(aes(x=Module, y=Frequency), width=1) +\n",
    "  xlab(\"Module\") + ylab(\"Number of Genes\") +\n",
    "  ggplot_theme +\n",
    "  theme(axis.text.x=element_blank(), axis.ticks.x=element_blank())\n",
    "ggsave(filename=\"04_Expression/results/gene_coexpression_module_sizes_fp.svg\", width=8, height=5)"
   ]
  },
  {
   "cell_type": "markdown",
   "id": "11e45bcf-e0a4-43c5-a733-d126620922da",
   "metadata": {},
   "source": [
    "### Save Gene Co-Expression Modules\n",
    "\n",
    "I save a the list of genes and their assigned modules, the eigengenes, the variance explained by each eigengene, and the connectivity information for each gene.\n",
    "\n",
    "The modules are labelled `Module_1,Module_2,...`. `Module_0` contains genes that were not assigned to any co-expression module by WGCNA and are therefore labelled as `Unassigned`.\n",
    "\n",
    "The eigengene of a given co-expression module is the first principal component of the gene expression for the genes within the module.\n",
    "\n",
    "The variance explained by each eigengene tells us how well the eigengene captures the overall variation found within the module expression data."
   ]
  },
  {
   "cell_type": "code",
   "execution_count": 21,
   "id": "d281b697-37b9-49f7-a3d9-6e6ac98dc56f",
   "metadata": {},
   "outputs": [],
   "source": [
    "### Module Assignment\n",
    "\n",
    "gene.list <- colnames(gene.exp.fp)\n",
    "\n",
    "mod.assignment <- dynamic.mods.fp\n",
    "mod.labels <- paste0(\"Module_\", mod.assignment)\n",
    "mod.labels[mod.labels == \"Module_0\"] <- \"Unassigned\"\n",
    "\n",
    "modules <- data.frame(\n",
    "  Gene=gene.list,\n",
    "  Module=mod.labels\n",
    ") %>%\n",
    "  dplyr::arrange(Module, Gene)\n",
    "\n",
    "write.csv(modules, \"~/gains_team282/nikhil/expression/gene_expression/modules.fp.csv\", row.names=F)\n",
    "\n",
    "### Eigengenes\n",
    "\n",
    "eigengenes.result <- moduleEigengenes(gene.exp.fp[mod.labels != \"Unassigned\"], colors=mod.labels[mod.labels != \"Unassigned\"])\n",
    "eigengene.order <- order(as.numeric(sapply(strsplit(colnames(eigengenes.result$eigengenes), \"_\"), function(x) x[2])))\n",
    "\n",
    "eigengenes <- eigengenes.result$eigengenes\n",
    "colnames(eigengenes) <- sapply(strsplit(colnames(eigengenes), \"_\"), function(x) paste0(\"ME_\", x[2]))\n",
    "eigengenes <- eigengenes[,eigengene.order]\n",
    "\n",
    "rownames(eigengenes) <- rownames(gene.exp.fp)\n",
    "\n",
    "write.csv(eigengenes, \"~/gains_team282/nikhil/expression/gene_expression/eigengenes.fp.csv\")\n",
    "\n",
    "variance.explained <- data.frame(\n",
    "  Module=colnames(eigengenes),\n",
    "  Var.Explained=t(eigengenes.result$varExplained[eigengene.order])[,1]\n",
    ")\n",
    "\n",
    "write.csv(variance.explained, \"~/gains_team282/nikhil/expression/gene_expression/variance.explained.fp.csv\", row.names=F)\n",
    "\n",
    "### Connectivity\n",
    "\n",
    "connectivity <- connectivity.fp[modules$Gene,]\n",
    "connectivity <- cbind(connectivity, modules$Module)\n",
    "colnames(connectivity)[ncol(connectivity)] <- \"Module\"\n",
    "\n",
    "write.csv(connectivity, \"~/gains_team282/nikhil/expression/gene_expression/connectivity.fp.csv\")"
   ]
  }
 ],
 "metadata": {
  "kernelspec": {
   "display_name": "R",
   "language": "R",
   "name": "ir"
  },
  "language_info": {
   "codemirror_mode": "r",
   "file_extension": ".r",
   "mimetype": "text/x-r-source",
   "name": "R",
   "pygments_lexer": "r",
   "version": "4.0.5"
  }
 },
 "nbformat": 4,
 "nbformat_minor": 5
}
