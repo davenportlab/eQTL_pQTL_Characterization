{
 "cells": [
  {
   "cell_type": "markdown",
   "id": "d066ff06-5454-4c8c-8f8c-d8b597785a96",
   "metadata": {},
   "source": [
    "# WGCNA Analysis of Genes\n",
    "\n",
    "**Created**: 14 October 2021"
   ]
  },
  {
   "cell_type": "markdown",
   "id": "96ad2e64-7acc-4c9a-bb2f-f03be415328b",
   "metadata": {
    "tags": []
   },
   "source": [
    "## Environment"
   ]
  },
  {
   "cell_type": "code",
   "execution_count": 1,
   "id": "83660a5d-4947-4e4b-9b81-9d29d7bf98fc",
   "metadata": {},
   "outputs": [
    {
     "name": "stderr",
     "output_type": "stream",
     "text": [
      "Loading required namespace: patchwork\n",
      "\n",
      "Loading required namespace: BiocManager\n",
      "\n",
      "Loading required namespace: WGCNA\n",
      "\n",
      "\n",
      "\n",
      "Loading required namespace: sva\n",
      "\n",
      "Loading required namespace: spqn\n",
      "\n"
     ]
    }
   ],
   "source": [
    "if (!requireNamespace(\"patchwork\")) {\n",
    "    install.packages(\"devtools\")\n",
    "    devtools::install_github(\"thomasp85/patchwork\")\n",
    "}\n",
    "\n",
    "if (!requireNamespace(\"BiocManager\")) {\n",
    "    install.packages(\"BiocManager\")\n",
    "}\n",
    "\n",
    "if (!requireNamespace(\"WGCNA\")) {\n",
    "    BiocManager::install(\"WGCNA\")\n",
    "}\n",
    "\n",
    "if (!requireNamespace(\"sva\")) {\n",
    "    BiocManager::install(\"sva\")\n",
    "}\n",
    "\n",
    "if (!requireNamespace(\"spqn\")) {\n",
    "    BiocManager::install(\"spqn\")\n",
    "}"
   ]
  },
  {
   "cell_type": "code",
   "execution_count": 2,
   "id": "b559919c-d7aa-4804-b9f4-7ed037574346",
   "metadata": {},
   "outputs": [
    {
     "name": "stderr",
     "output_type": "stream",
     "text": [
      "Loading required package: dynamicTreeCut\n",
      "\n",
      "Loading required package: fastcluster\n",
      "\n",
      "\n",
      "Attaching package: ‘fastcluster’\n",
      "\n",
      "\n",
      "The following object is masked from ‘package:stats’:\n",
      "\n",
      "    hclust\n",
      "\n",
      "\n",
      "\n",
      "Attaching package: ‘WGCNA’\n",
      "\n",
      "\n",
      "The following object is masked from ‘package:stats’:\n",
      "\n",
      "    cor\n",
      "\n",
      "\n",
      "Loading required package: mgcv\n",
      "\n",
      "Loading required package: nlme\n",
      "\n",
      "This is mgcv 1.8-38. For overview type 'help(\"mgcv-package\")'.\n",
      "\n",
      "Loading required package: genefilter\n",
      "\n",
      "Loading required package: BiocParallel\n",
      "\n",
      "Loading required package: ggplot2\n",
      "\n",
      "Loading required package: ggridges\n",
      "\n",
      "Loading required package: SummarizedExperiment\n",
      "\n",
      "Loading required package: MatrixGenerics\n",
      "\n",
      "Loading required package: matrixStats\n",
      "\n",
      "\n",
      "Attaching package: ‘matrixStats’\n",
      "\n",
      "\n",
      "The following objects are masked from ‘package:genefilter’:\n",
      "\n",
      "    rowSds, rowVars\n",
      "\n",
      "\n",
      "\n",
      "Attaching package: ‘MatrixGenerics’\n",
      "\n",
      "\n",
      "The following objects are masked from ‘package:matrixStats’:\n",
      "\n",
      "    colAlls, colAnyNAs, colAnys, colAvgsPerRowSet, colCollapse,\n",
      "    colCounts, colCummaxs, colCummins, colCumprods, colCumsums,\n",
      "    colDiffs, colIQRDiffs, colIQRs, colLogSumExps, colMadDiffs,\n",
      "    colMads, colMaxs, colMeans2, colMedians, colMins, colOrderStats,\n",
      "    colProds, colQuantiles, colRanges, colRanks, colSdDiffs, colSds,\n",
      "    colSums2, colTabulates, colVarDiffs, colVars, colWeightedMads,\n",
      "    colWeightedMeans, colWeightedMedians, colWeightedSds,\n",
      "    colWeightedVars, rowAlls, rowAnyNAs, rowAnys, rowAvgsPerColSet,\n",
      "    rowCollapse, rowCounts, rowCummaxs, rowCummins, rowCumprods,\n",
      "    rowCumsums, rowDiffs, rowIQRDiffs, rowIQRs, rowLogSumExps,\n",
      "    rowMadDiffs, rowMads, rowMaxs, rowMeans2, rowMedians, rowMins,\n",
      "    rowOrderStats, rowProds, rowQuantiles, rowRanges, rowRanks,\n",
      "    rowSdDiffs, rowSds, rowSums2, rowTabulates, rowVarDiffs, rowVars,\n",
      "    rowWeightedMads, rowWeightedMeans, rowWeightedMedians,\n",
      "    rowWeightedSds, rowWeightedVars\n",
      "\n",
      "\n",
      "The following objects are masked from ‘package:genefilter’:\n",
      "\n",
      "    rowSds, rowVars\n",
      "\n",
      "\n",
      "Loading required package: GenomicRanges\n",
      "\n",
      "Loading required package: stats4\n",
      "\n",
      "Loading required package: BiocGenerics\n",
      "\n",
      "Loading required package: parallel\n",
      "\n",
      "\n",
      "Attaching package: ‘BiocGenerics’\n",
      "\n",
      "\n",
      "The following objects are masked from ‘package:parallel’:\n",
      "\n",
      "    clusterApply, clusterApplyLB, clusterCall, clusterEvalQ,\n",
      "    clusterExport, clusterMap, parApply, parCapply, parLapply,\n",
      "    parLapplyLB, parRapply, parSapply, parSapplyLB\n",
      "\n",
      "\n",
      "The following objects are masked from ‘package:stats’:\n",
      "\n",
      "    IQR, mad, sd, var, xtabs\n",
      "\n",
      "\n",
      "The following objects are masked from ‘package:base’:\n",
      "\n",
      "    anyDuplicated, append, as.data.frame, basename, cbind, colnames,\n",
      "    dirname, do.call, duplicated, eval, evalq, Filter, Find, get, grep,\n",
      "    grepl, intersect, is.unsorted, lapply, Map, mapply, match, mget,\n",
      "    order, paste, pmax, pmax.int, pmin, pmin.int, Position, rank,\n",
      "    rbind, Reduce, rownames, sapply, setdiff, sort, table, tapply,\n",
      "    union, unique, unsplit, which.max, which.min\n",
      "\n",
      "\n",
      "Loading required package: S4Vectors\n",
      "\n",
      "\n",
      "Attaching package: ‘S4Vectors’\n",
      "\n",
      "\n",
      "The following object is masked from ‘package:base’:\n",
      "\n",
      "    expand.grid\n",
      "\n",
      "\n",
      "Loading required package: IRanges\n",
      "\n",
      "\n",
      "Attaching package: ‘IRanges’\n",
      "\n",
      "\n",
      "The following object is masked from ‘package:nlme’:\n",
      "\n",
      "    collapse\n",
      "\n",
      "\n",
      "Loading required package: GenomeInfoDb\n",
      "\n",
      "Loading required package: Biobase\n",
      "\n",
      "Welcome to Bioconductor\n",
      "\n",
      "    Vignettes contain introductory material; view with\n",
      "    'browseVignettes()'. To cite Bioconductor, see\n",
      "    'citation(\"Biobase\")', and for packages 'citation(\"pkgname\")'.\n",
      "\n",
      "\n",
      "\n",
      "Attaching package: ‘Biobase’\n",
      "\n",
      "\n",
      "The following object is masked from ‘package:MatrixGenerics’:\n",
      "\n",
      "    rowMedians\n",
      "\n",
      "\n",
      "The following objects are masked from ‘package:matrixStats’:\n",
      "\n",
      "    anyMissing, rowMedians\n",
      "\n",
      "\n",
      "── \u001b[1mAttaching packages\u001b[22m ─────────────────────────────────────────────────────────────────────────────────────────────────────────────────────────────────────────────────────────────────── tidyverse 1.3.1 ──\n",
      "\n",
      "\u001b[32m✔\u001b[39m \u001b[34mtibble \u001b[39m 3.1.6     \u001b[32m✔\u001b[39m \u001b[34mdplyr  \u001b[39m 1.0.7\n",
      "\u001b[32m✔\u001b[39m \u001b[34mtidyr  \u001b[39m 1.1.4     \u001b[32m✔\u001b[39m \u001b[34mstringr\u001b[39m 1.4.0\n",
      "\u001b[32m✔\u001b[39m \u001b[34mreadr  \u001b[39m 2.1.1     \u001b[32m✔\u001b[39m \u001b[34mforcats\u001b[39m 0.5.1\n",
      "\u001b[32m✔\u001b[39m \u001b[34mpurrr  \u001b[39m 0.3.4     \n",
      "\n",
      "── \u001b[1mConflicts\u001b[22m ────────────────────────────────────────────────────────────────────────────────────────────────────────────────────────────────────────────────────────────────────── tidyverse_conflicts() ──\n",
      "\u001b[31m✖\u001b[39m \u001b[34mdplyr\u001b[39m::\u001b[32mcollapse()\u001b[39m        masks \u001b[34mIRanges\u001b[39m::collapse(), \u001b[34mnlme\u001b[39m::collapse()\n",
      "\u001b[31m✖\u001b[39m \u001b[34mdplyr\u001b[39m::\u001b[32mcombine()\u001b[39m         masks \u001b[34mBiobase\u001b[39m::combine(), \u001b[34mBiocGenerics\u001b[39m::combine()\n",
      "\u001b[31m✖\u001b[39m \u001b[34mdplyr\u001b[39m::\u001b[32mcount()\u001b[39m           masks \u001b[34mmatrixStats\u001b[39m::count()\n",
      "\u001b[31m✖\u001b[39m \u001b[34mdplyr\u001b[39m::\u001b[32mdesc()\u001b[39m            masks \u001b[34mIRanges\u001b[39m::desc()\n",
      "\u001b[31m✖\u001b[39m \u001b[34mtidyr\u001b[39m::\u001b[32mexpand()\u001b[39m          masks \u001b[34mS4Vectors\u001b[39m::expand()\n",
      "\u001b[31m✖\u001b[39m \u001b[34mdplyr\u001b[39m::\u001b[32mfilter()\u001b[39m          masks \u001b[34mstats\u001b[39m::filter()\n",
      "\u001b[31m✖\u001b[39m \u001b[34mdplyr\u001b[39m::\u001b[32mfirst()\u001b[39m           masks \u001b[34mS4Vectors\u001b[39m::first()\n",
      "\u001b[31m✖\u001b[39m \u001b[34mdplyr\u001b[39m::\u001b[32mlag()\u001b[39m             masks \u001b[34mstats\u001b[39m::lag()\n",
      "\u001b[31m✖\u001b[39m \u001b[34mBiocGenerics\u001b[39m::\u001b[32mPosition()\u001b[39m masks \u001b[34mggplot2\u001b[39m::Position(), \u001b[34mbase\u001b[39m::Position()\n",
      "\u001b[31m✖\u001b[39m \u001b[34mpurrr\u001b[39m::\u001b[32mreduce()\u001b[39m          masks \u001b[34mGenomicRanges\u001b[39m::reduce(), \u001b[34mIRanges\u001b[39m::reduce()\n",
      "\u001b[31m✖\u001b[39m \u001b[34mdplyr\u001b[39m::\u001b[32mrename()\u001b[39m          masks \u001b[34mS4Vectors\u001b[39m::rename()\n",
      "\u001b[31m✖\u001b[39m \u001b[34mdplyr\u001b[39m::\u001b[32mslice()\u001b[39m           masks \u001b[34mIRanges\u001b[39m::slice()\n",
      "\u001b[31m✖\u001b[39m \u001b[34mreadr\u001b[39m::\u001b[32mspec()\u001b[39m            masks \u001b[34mgenefilter\u001b[39m::spec()\n",
      "\n",
      "\n",
      "Attaching package: ‘patchwork’\n",
      "\n",
      "\n",
      "The following object is masked from ‘package:genefilter’:\n",
      "\n",
      "    area\n",
      "\n",
      "\n"
     ]
    }
   ],
   "source": [
    "library(WGCNA)\n",
    "library(sva)\n",
    "library(spqn)\n",
    "library(tidyverse)\n",
    "library(RColorBrewer)\n",
    "library(patchwork)\n",
    "\n",
    "options(stringsAsFactors = FALSE)\n",
    "\n",
    "setwd(\"~/eQTL_pQTL_Characterization/\")\n",
    "\n",
    "source(\"04_Expression/scripts/utils/ggplot_theme.R\")"
   ]
  },
  {
   "cell_type": "markdown",
   "id": "4d328fb4-974f-4ca1-ad4f-edefa4df3938",
   "metadata": {
    "tags": []
   },
   "source": [
    "## Load Data"
   ]
  },
  {
   "cell_type": "code",
   "execution_count": 3,
   "id": "5b6c9873-aabc-4581-aab7-884d7ec596d1",
   "metadata": {},
   "outputs": [],
   "source": [
    "raw.gene.exp <- read.table(\"/lustre/scratch119/humgen/projects/gains_team282/eqtl/data/logcpm_864_20412_hla.txt\")\n",
    "gene.info <- read.table(\"/nfs/team282/data/gains_team282/Gene_info_864_20416.txt\")\n",
    "sample.info <- read.table(\"/nfs/team282/data/gains_team282/Sample_info_864.txt\")\n",
    "sample.key <- read.table(\"/nfs/team282/data/gains_team282/Sample_key.txt\", header=T)\n",
    "\n",
    "gene.exp <- as.data.frame(t(gene.exp))"
   ]
  },
  {
   "cell_type": "code",
   "execution_count": 4,
   "id": "b1848d7f-56bf-4b3c-a1fd-ab6431145ba5",
   "metadata": {},
   "outputs": [
    {
     "data": {
      "text/html": [
       "<table class=\"dataframe\">\n",
       "<caption>A data.frame: 6 × 864</caption>\n",
       "<thead>\n",
       "\t<tr><th></th><th scope=col>UK02270173_3</th><th scope=col>UK15130120_3</th><th scope=col>UK58000006_3</th><th scope=col>UK47010004_3</th><th scope=col>UK42020088_5</th><th scope=col>UK47490007_3</th><th scope=col>UK02770164_3</th><th scope=col>UK02770164_5</th><th scope=col>UK02630151_3</th><th scope=col>UK42150107_1</th><th scope=col>⋯</th><th scope=col>UK59070043_3</th><th scope=col>UK59070043_5</th><th scope=col>UK02510223_3</th><th scope=col>UK02XX0336_5</th><th scope=col>UK29090086_3</th><th scope=col>UK02XX0335_1</th><th scope=col>UK02XX0334_3</th><th scope=col>UK01210130_3</th><th scope=col>UK01210130_5</th><th scope=col>UK01380125_1</th></tr>\n",
       "\t<tr><th></th><th scope=col>&lt;dbl&gt;</th><th scope=col>&lt;dbl&gt;</th><th scope=col>&lt;dbl&gt;</th><th scope=col>&lt;dbl&gt;</th><th scope=col>&lt;dbl&gt;</th><th scope=col>&lt;dbl&gt;</th><th scope=col>&lt;dbl&gt;</th><th scope=col>&lt;dbl&gt;</th><th scope=col>&lt;dbl&gt;</th><th scope=col>&lt;dbl&gt;</th><th scope=col>⋯</th><th scope=col>&lt;dbl&gt;</th><th scope=col>&lt;dbl&gt;</th><th scope=col>&lt;dbl&gt;</th><th scope=col>&lt;dbl&gt;</th><th scope=col>&lt;dbl&gt;</th><th scope=col>&lt;dbl&gt;</th><th scope=col>&lt;dbl&gt;</th><th scope=col>&lt;dbl&gt;</th><th scope=col>&lt;dbl&gt;</th><th scope=col>&lt;dbl&gt;</th></tr>\n",
       "</thead>\n",
       "<tbody>\n",
       "\t<tr><th scope=row>ENSG00000230521</th><td>0.6644339</td><td>0.58271604</td><td>0.4046756</td><td>0.20905157</td><td>0.2211571</td><td>0.4288519</td><td>0.5133516</td><td>0.57768877</td><td>0.6990766</td><td>0.3812037</td><td>⋯</td><td>0.3823184</td><td>0.5423684</td><td>0.86762630</td><td>0.73833461</td><td>0.6461583</td><td>0.1227063</td><td>0.9621386</td><td>0.65838459</td><td>1.03561474</td><td>0.4457301</td></tr>\n",
       "\t<tr><th scope=row>ENSG00000225864</th><td>0.9817872</td><td>0.43879936</td><td>0.6022344</td><td>0.92340489</td><td>0.2211571</td><td>1.1450686</td><td>0.1921362</td><td>0.57768877</td><td>0.1974851</td><td>1.2290495</td><td>⋯</td><td>0.6842527</td><td>0.8539227</td><td>0.91886777</td><td>0.12581620</td><td>0.5511865</td><td>0.4384007</td><td>0.5465139</td><td>0.40803066</td><td>0.46899151</td><td>0.3544115</td></tr>\n",
       "\t<tr><th scope=row>ENSG00000227766</th><td>1.2117156</td><td>0.30682669</td><td>0.6625010</td><td>0.79963286</td><td>0.6445686</td><td>0.3130290</td><td>0.1183231</td><td>0.16750450</td><td>0.1505900</td><td>1.0533199</td><td>⋯</td><td>0.4901384</td><td>0.4340781</td><td>0.37504164</td><td>0.04316943</td><td>0.6151905</td><td>0.3406488</td><td>0.3147798</td><td>0.43511377</td><td>0.17382742</td><td>0.1157514</td></tr>\n",
       "\t<tr><th scope=row>ENSG00000237669</th><td>0.6420763</td><td>0.69256830</td><td>0.9792012</td><td>0.69929584</td><td>0.3765156</td><td>1.0756817</td><td>0.8912050</td><td>0.60129641</td><td>0.8534668</td><td>1.0533199</td><td>⋯</td><td>1.0790156</td><td>0.6102946</td><td>1.03953331</td><td>0.97965846</td><td>0.7061683</td><td>0.7489857</td><td>0.7919934</td><td>0.85168813</td><td>0.69120049</td><td>1.0798771</td></tr>\n",
       "\t<tr><th scope=row>ENSG00000271581</th><td>2.4744895</td><td>1.33153140</td><td>1.8310464</td><td>2.47531701</td><td>1.8812042</td><td>2.0531366</td><td>0.5972544</td><td>1.00686213</td><td>1.2811361</td><td>2.4244938</td><td>⋯</td><td>2.4728831</td><td>1.5338898</td><td>1.59080138</td><td>0.62923925</td><td>1.2804253</td><td>1.4727511</td><td>1.2187650</td><td>1.46471386</td><td>1.44139443</td><td>1.1896250</td></tr>\n",
       "\t<tr><th scope=row>ENSG00000285647</th><td>0.0000000</td><td>0.03379072</td><td>0.0000000</td><td>0.05517067</td><td>0.6748270</td><td>0.0000000</td><td>0.0000000</td><td>0.03509293</td><td>0.6990766</td><td>1.6556266</td><td>⋯</td><td>3.4117627</td><td>2.4012963</td><td>0.04682116</td><td>0.00000000</td><td>0.0000000</td><td>0.4695662</td><td>0.3762952</td><td>0.07078527</td><td>0.07206309</td><td>0.4159282</td></tr>\n",
       "</tbody>\n",
       "</table>\n"
      ],
      "text/latex": [
       "A data.frame: 6 × 864\n",
       "\\begin{tabular}{r|lllllllllllllllllllll}\n",
       "  & UK02270173\\_3 & UK15130120\\_3 & UK58000006\\_3 & UK47010004\\_3 & UK42020088\\_5 & UK47490007\\_3 & UK02770164\\_3 & UK02770164\\_5 & UK02630151\\_3 & UK42150107\\_1 & ⋯ & UK59070043\\_3 & UK59070043\\_5 & UK02510223\\_3 & UK02XX0336\\_5 & UK29090086\\_3 & UK02XX0335\\_1 & UK02XX0334\\_3 & UK01210130\\_3 & UK01210130\\_5 & UK01380125\\_1\\\\\n",
       "  & <dbl> & <dbl> & <dbl> & <dbl> & <dbl> & <dbl> & <dbl> & <dbl> & <dbl> & <dbl> & ⋯ & <dbl> & <dbl> & <dbl> & <dbl> & <dbl> & <dbl> & <dbl> & <dbl> & <dbl> & <dbl>\\\\\n",
       "\\hline\n",
       "\tENSG00000230521 & 0.6644339 & 0.58271604 & 0.4046756 & 0.20905157 & 0.2211571 & 0.4288519 & 0.5133516 & 0.57768877 & 0.6990766 & 0.3812037 & ⋯ & 0.3823184 & 0.5423684 & 0.86762630 & 0.73833461 & 0.6461583 & 0.1227063 & 0.9621386 & 0.65838459 & 1.03561474 & 0.4457301\\\\\n",
       "\tENSG00000225864 & 0.9817872 & 0.43879936 & 0.6022344 & 0.92340489 & 0.2211571 & 1.1450686 & 0.1921362 & 0.57768877 & 0.1974851 & 1.2290495 & ⋯ & 0.6842527 & 0.8539227 & 0.91886777 & 0.12581620 & 0.5511865 & 0.4384007 & 0.5465139 & 0.40803066 & 0.46899151 & 0.3544115\\\\\n",
       "\tENSG00000227766 & 1.2117156 & 0.30682669 & 0.6625010 & 0.79963286 & 0.6445686 & 0.3130290 & 0.1183231 & 0.16750450 & 0.1505900 & 1.0533199 & ⋯ & 0.4901384 & 0.4340781 & 0.37504164 & 0.04316943 & 0.6151905 & 0.3406488 & 0.3147798 & 0.43511377 & 0.17382742 & 0.1157514\\\\\n",
       "\tENSG00000237669 & 0.6420763 & 0.69256830 & 0.9792012 & 0.69929584 & 0.3765156 & 1.0756817 & 0.8912050 & 0.60129641 & 0.8534668 & 1.0533199 & ⋯ & 1.0790156 & 0.6102946 & 1.03953331 & 0.97965846 & 0.7061683 & 0.7489857 & 0.7919934 & 0.85168813 & 0.69120049 & 1.0798771\\\\\n",
       "\tENSG00000271581 & 2.4744895 & 1.33153140 & 1.8310464 & 2.47531701 & 1.8812042 & 2.0531366 & 0.5972544 & 1.00686213 & 1.2811361 & 2.4244938 & ⋯ & 2.4728831 & 1.5338898 & 1.59080138 & 0.62923925 & 1.2804253 & 1.4727511 & 1.2187650 & 1.46471386 & 1.44139443 & 1.1896250\\\\\n",
       "\tENSG00000285647 & 0.0000000 & 0.03379072 & 0.0000000 & 0.05517067 & 0.6748270 & 0.0000000 & 0.0000000 & 0.03509293 & 0.6990766 & 1.6556266 & ⋯ & 3.4117627 & 2.4012963 & 0.04682116 & 0.00000000 & 0.0000000 & 0.4695662 & 0.3762952 & 0.07078527 & 0.07206309 & 0.4159282\\\\\n",
       "\\end{tabular}\n"
      ],
      "text/markdown": [
       "\n",
       "A data.frame: 6 × 864\n",
       "\n",
       "| <!--/--> | UK02270173_3 &lt;dbl&gt; | UK15130120_3 &lt;dbl&gt; | UK58000006_3 &lt;dbl&gt; | UK47010004_3 &lt;dbl&gt; | UK42020088_5 &lt;dbl&gt; | UK47490007_3 &lt;dbl&gt; | UK02770164_3 &lt;dbl&gt; | UK02770164_5 &lt;dbl&gt; | UK02630151_3 &lt;dbl&gt; | UK42150107_1 &lt;dbl&gt; | ⋯ ⋯ | UK59070043_3 &lt;dbl&gt; | UK59070043_5 &lt;dbl&gt; | UK02510223_3 &lt;dbl&gt; | UK02XX0336_5 &lt;dbl&gt; | UK29090086_3 &lt;dbl&gt; | UK02XX0335_1 &lt;dbl&gt; | UK02XX0334_3 &lt;dbl&gt; | UK01210130_3 &lt;dbl&gt; | UK01210130_5 &lt;dbl&gt; | UK01380125_1 &lt;dbl&gt; |\n",
       "|---|---|---|---|---|---|---|---|---|---|---|---|---|---|---|---|---|---|---|---|---|---|\n",
       "| ENSG00000230521 | 0.6644339 | 0.58271604 | 0.4046756 | 0.20905157 | 0.2211571 | 0.4288519 | 0.5133516 | 0.57768877 | 0.6990766 | 0.3812037 | ⋯ | 0.3823184 | 0.5423684 | 0.86762630 | 0.73833461 | 0.6461583 | 0.1227063 | 0.9621386 | 0.65838459 | 1.03561474 | 0.4457301 |\n",
       "| ENSG00000225864 | 0.9817872 | 0.43879936 | 0.6022344 | 0.92340489 | 0.2211571 | 1.1450686 | 0.1921362 | 0.57768877 | 0.1974851 | 1.2290495 | ⋯ | 0.6842527 | 0.8539227 | 0.91886777 | 0.12581620 | 0.5511865 | 0.4384007 | 0.5465139 | 0.40803066 | 0.46899151 | 0.3544115 |\n",
       "| ENSG00000227766 | 1.2117156 | 0.30682669 | 0.6625010 | 0.79963286 | 0.6445686 | 0.3130290 | 0.1183231 | 0.16750450 | 0.1505900 | 1.0533199 | ⋯ | 0.4901384 | 0.4340781 | 0.37504164 | 0.04316943 | 0.6151905 | 0.3406488 | 0.3147798 | 0.43511377 | 0.17382742 | 0.1157514 |\n",
       "| ENSG00000237669 | 0.6420763 | 0.69256830 | 0.9792012 | 0.69929584 | 0.3765156 | 1.0756817 | 0.8912050 | 0.60129641 | 0.8534668 | 1.0533199 | ⋯ | 1.0790156 | 0.6102946 | 1.03953331 | 0.97965846 | 0.7061683 | 0.7489857 | 0.7919934 | 0.85168813 | 0.69120049 | 1.0798771 |\n",
       "| ENSG00000271581 | 2.4744895 | 1.33153140 | 1.8310464 | 2.47531701 | 1.8812042 | 2.0531366 | 0.5972544 | 1.00686213 | 1.2811361 | 2.4244938 | ⋯ | 2.4728831 | 1.5338898 | 1.59080138 | 0.62923925 | 1.2804253 | 1.4727511 | 1.2187650 | 1.46471386 | 1.44139443 | 1.1896250 |\n",
       "| ENSG00000285647 | 0.0000000 | 0.03379072 | 0.0000000 | 0.05517067 | 0.6748270 | 0.0000000 | 0.0000000 | 0.03509293 | 0.6990766 | 1.6556266 | ⋯ | 3.4117627 | 2.4012963 | 0.04682116 | 0.00000000 | 0.0000000 | 0.4695662 | 0.3762952 | 0.07078527 | 0.07206309 | 0.4159282 |\n",
       "\n"
      ],
      "text/plain": [
       "                UK02270173_3 UK15130120_3 UK58000006_3 UK47010004_3\n",
       "ENSG00000230521 0.6644339    0.58271604   0.4046756    0.20905157  \n",
       "ENSG00000225864 0.9817872    0.43879936   0.6022344    0.92340489  \n",
       "ENSG00000227766 1.2117156    0.30682669   0.6625010    0.79963286  \n",
       "ENSG00000237669 0.6420763    0.69256830   0.9792012    0.69929584  \n",
       "ENSG00000271581 2.4744895    1.33153140   1.8310464    2.47531701  \n",
       "ENSG00000285647 0.0000000    0.03379072   0.0000000    0.05517067  \n",
       "                UK42020088_5 UK47490007_3 UK02770164_3 UK02770164_5\n",
       "ENSG00000230521 0.2211571    0.4288519    0.5133516    0.57768877  \n",
       "ENSG00000225864 0.2211571    1.1450686    0.1921362    0.57768877  \n",
       "ENSG00000227766 0.6445686    0.3130290    0.1183231    0.16750450  \n",
       "ENSG00000237669 0.3765156    1.0756817    0.8912050    0.60129641  \n",
       "ENSG00000271581 1.8812042    2.0531366    0.5972544    1.00686213  \n",
       "ENSG00000285647 0.6748270    0.0000000    0.0000000    0.03509293  \n",
       "                UK02630151_3 UK42150107_1 ⋯ UK59070043_3 UK59070043_5\n",
       "ENSG00000230521 0.6990766    0.3812037    ⋯ 0.3823184    0.5423684   \n",
       "ENSG00000225864 0.1974851    1.2290495    ⋯ 0.6842527    0.8539227   \n",
       "ENSG00000227766 0.1505900    1.0533199    ⋯ 0.4901384    0.4340781   \n",
       "ENSG00000237669 0.8534668    1.0533199    ⋯ 1.0790156    0.6102946   \n",
       "ENSG00000271581 1.2811361    2.4244938    ⋯ 2.4728831    1.5338898   \n",
       "ENSG00000285647 0.6990766    1.6556266    ⋯ 3.4117627    2.4012963   \n",
       "                UK02510223_3 UK02XX0336_5 UK29090086_3 UK02XX0335_1\n",
       "ENSG00000230521 0.86762630   0.73833461   0.6461583    0.1227063   \n",
       "ENSG00000225864 0.91886777   0.12581620   0.5511865    0.4384007   \n",
       "ENSG00000227766 0.37504164   0.04316943   0.6151905    0.3406488   \n",
       "ENSG00000237669 1.03953331   0.97965846   0.7061683    0.7489857   \n",
       "ENSG00000271581 1.59080138   0.62923925   1.2804253    1.4727511   \n",
       "ENSG00000285647 0.04682116   0.00000000   0.0000000    0.4695662   \n",
       "                UK02XX0334_3 UK01210130_3 UK01210130_5 UK01380125_1\n",
       "ENSG00000230521 0.9621386    0.65838459   1.03561474   0.4457301   \n",
       "ENSG00000225864 0.5465139    0.40803066   0.46899151   0.3544115   \n",
       "ENSG00000227766 0.3147798    0.43511377   0.17382742   0.1157514   \n",
       "ENSG00000237669 0.7919934    0.85168813   0.69120049   1.0798771   \n",
       "ENSG00000271581 1.2187650    1.46471386   1.44139443   1.1896250   \n",
       "ENSG00000285647 0.3762952    0.07078527   0.07206309   0.4159282   "
      ]
     },
     "metadata": {},
     "output_type": "display_data"
    }
   ],
   "source": [
    "head(raw.gene.exp)"
   ]
  },
  {
   "cell_type": "code",
   "execution_count": 5,
   "id": "a477ea4b-2d60-417f-8e09-a52ac856358a",
   "metadata": {},
   "outputs": [
    {
     "data": {
      "text/html": [
       "<style>\n",
       ".list-inline {list-style: none; margin:0; padding: 0}\n",
       ".list-inline>li {display: inline-block}\n",
       ".list-inline>li:not(:last-child)::after {content: \"\\00b7\"; padding: 0 .5ex}\n",
       "</style>\n",
       "<ol class=list-inline><li>20412</li><li>864</li></ol>\n"
      ],
      "text/latex": [
       "\\begin{enumerate*}\n",
       "\\item 20412\n",
       "\\item 864\n",
       "\\end{enumerate*}\n"
      ],
      "text/markdown": [
       "1. 20412\n",
       "2. 864\n",
       "\n",
       "\n"
      ],
      "text/plain": [
       "[1] 20412   864"
      ]
     },
     "metadata": {},
     "output_type": "display_data"
    }
   ],
   "source": [
    "dim(raw.gene.exp)"
   ]
  },
  {
   "cell_type": "markdown",
   "id": "a7ca8ea4-ef4c-44e9-8b5c-8a41930489f5",
   "metadata": {},
   "source": [
    "Some patient identifiers may have a GA- prefix that has been dropped in future releases of the data. If this identifier exists, I drop the prefix."
   ]
  },
  {
   "cell_type": "code",
   "execution_count": 6,
   "id": "49605045-cdd3-496c-802e-2ca4f3e0d9ae",
   "metadata": {},
   "outputs": [],
   "source": [
    "ga.prefix.filter <- grepl(\"GA\", rownames(raw.gene.exp))\n",
    "\n",
    "rownames(raw.gene.exp)[ga.prefix.filter] <- gsub(\"^GA\", \"\", rownames(raw.gene.exp)[ga.prefix.filter])"
   ]
  },
  {
   "cell_type": "code",
   "execution_count": 7,
   "id": "4f117cf0-c75c-4440-b1f3-089b8590757f",
   "metadata": {},
   "outputs": [
    {
     "data": {
      "text/html": [
       "<table class=\"dataframe\">\n",
       "<caption>A data.frame: 6 × 27</caption>\n",
       "<thead>\n",
       "\t<tr><th></th><th scope=col>seqnames</th><th scope=col>start</th><th scope=col>end</th><th scope=col>width</th><th scope=col>strand</th><th scope=col>source</th><th scope=col>type</th><th scope=col>score</th><th scope=col>phase</th><th scope=col>gene_id</th><th scope=col>⋯</th><th scope=col>transcript_source</th><th scope=col>transcript_biotype</th><th scope=col>tag</th><th scope=col>transcript_support_level</th><th scope=col>exon_number</th><th scope=col>exon_id</th><th scope=col>exon_version</th><th scope=col>protein_id</th><th scope=col>protein_version</th><th scope=col>ccds_id</th></tr>\n",
       "\t<tr><th></th><th scope=col>&lt;chr&gt;</th><th scope=col>&lt;int&gt;</th><th scope=col>&lt;int&gt;</th><th scope=col>&lt;int&gt;</th><th scope=col>&lt;chr&gt;</th><th scope=col>&lt;chr&gt;</th><th scope=col>&lt;chr&gt;</th><th scope=col>&lt;lgl&gt;</th><th scope=col>&lt;lgl&gt;</th><th scope=col>&lt;chr&gt;</th><th scope=col>⋯</th><th scope=col>&lt;lgl&gt;</th><th scope=col>&lt;lgl&gt;</th><th scope=col>&lt;lgl&gt;</th><th scope=col>&lt;lgl&gt;</th><th scope=col>&lt;lgl&gt;</th><th scope=col>&lt;lgl&gt;</th><th scope=col>&lt;lgl&gt;</th><th scope=col>&lt;lgl&gt;</th><th scope=col>&lt;lgl&gt;</th><th scope=col>&lt;lgl&gt;</th></tr>\n",
       "</thead>\n",
       "<tbody>\n",
       "\t<tr><th scope=row>1248375</th><td>X </td><td>100627108</td><td>100639991</td><td> 12884</td><td>-</td><td>ensembl_havana</td><td>gene</td><td>NA</td><td>NA</td><td>ENSG00000000003</td><td>⋯</td><td>NA</td><td>NA</td><td>NA</td><td>NA</td><td>NA</td><td>NA</td><td>NA</td><td>NA</td><td>NA</td><td>NA</td></tr>\n",
       "\t<tr><th scope=row>2612838</th><td>20</td><td> 50934867</td><td> 50958555</td><td> 23689</td><td>-</td><td>ensembl_havana</td><td>gene</td><td>NA</td><td>NA</td><td>ENSG00000000419</td><td>⋯</td><td>NA</td><td>NA</td><td>NA</td><td>NA</td><td>NA</td><td>NA</td><td>NA</td><td>NA</td><td>NA</td><td>NA</td></tr>\n",
       "\t<tr><th scope=row>198068</th><td>1 </td><td>169849631</td><td>169894267</td><td> 44637</td><td>-</td><td>ensembl_havana</td><td>gene</td><td>NA</td><td>NA</td><td>ENSG00000000457</td><td>⋯</td><td>NA</td><td>NA</td><td>NA</td><td>NA</td><td>NA</td><td>NA</td><td>NA</td><td>NA</td><td>NA</td><td>NA</td></tr>\n",
       "\t<tr><th scope=row>197489</th><td>1 </td><td>169662007</td><td>169854080</td><td>192074</td><td>+</td><td>ensembl_havana</td><td>gene</td><td>NA</td><td>NA</td><td>ENSG00000000460</td><td>⋯</td><td>NA</td><td>NA</td><td>NA</td><td>NA</td><td>NA</td><td>NA</td><td>NA</td><td>NA</td><td>NA</td><td>NA</td></tr>\n",
       "\t<tr><th scope=row>46865</th><td>1 </td><td> 27612064</td><td> 27635185</td><td> 23122</td><td>-</td><td>ensembl_havana</td><td>gene</td><td>NA</td><td>NA</td><td>ENSG00000000938</td><td>⋯</td><td>NA</td><td>NA</td><td>NA</td><td>NA</td><td>NA</td><td>NA</td><td>NA</td><td>NA</td><td>NA</td><td>NA</td></tr>\n",
       "\t<tr><th scope=row>213754</th><td>1 </td><td>196652043</td><td>196747504</td><td> 95462</td><td>+</td><td>ensembl_havana</td><td>gene</td><td>NA</td><td>NA</td><td>ENSG00000000971</td><td>⋯</td><td>NA</td><td>NA</td><td>NA</td><td>NA</td><td>NA</td><td>NA</td><td>NA</td><td>NA</td><td>NA</td><td>NA</td></tr>\n",
       "</tbody>\n",
       "</table>\n"
      ],
      "text/latex": [
       "A data.frame: 6 × 27\n",
       "\\begin{tabular}{r|lllllllllllllllllllll}\n",
       "  & seqnames & start & end & width & strand & source & type & score & phase & gene\\_id & ⋯ & transcript\\_source & transcript\\_biotype & tag & transcript\\_support\\_level & exon\\_number & exon\\_id & exon\\_version & protein\\_id & protein\\_version & ccds\\_id\\\\\n",
       "  & <chr> & <int> & <int> & <int> & <chr> & <chr> & <chr> & <lgl> & <lgl> & <chr> & ⋯ & <lgl> & <lgl> & <lgl> & <lgl> & <lgl> & <lgl> & <lgl> & <lgl> & <lgl> & <lgl>\\\\\n",
       "\\hline\n",
       "\t1248375 & X  & 100627108 & 100639991 &  12884 & - & ensembl\\_havana & gene & NA & NA & ENSG00000000003 & ⋯ & NA & NA & NA & NA & NA & NA & NA & NA & NA & NA\\\\\n",
       "\t2612838 & 20 &  50934867 &  50958555 &  23689 & - & ensembl\\_havana & gene & NA & NA & ENSG00000000419 & ⋯ & NA & NA & NA & NA & NA & NA & NA & NA & NA & NA\\\\\n",
       "\t198068 & 1  & 169849631 & 169894267 &  44637 & - & ensembl\\_havana & gene & NA & NA & ENSG00000000457 & ⋯ & NA & NA & NA & NA & NA & NA & NA & NA & NA & NA\\\\\n",
       "\t197489 & 1  & 169662007 & 169854080 & 192074 & + & ensembl\\_havana & gene & NA & NA & ENSG00000000460 & ⋯ & NA & NA & NA & NA & NA & NA & NA & NA & NA & NA\\\\\n",
       "\t46865 & 1  &  27612064 &  27635185 &  23122 & - & ensembl\\_havana & gene & NA & NA & ENSG00000000938 & ⋯ & NA & NA & NA & NA & NA & NA & NA & NA & NA & NA\\\\\n",
       "\t213754 & 1  & 196652043 & 196747504 &  95462 & + & ensembl\\_havana & gene & NA & NA & ENSG00000000971 & ⋯ & NA & NA & NA & NA & NA & NA & NA & NA & NA & NA\\\\\n",
       "\\end{tabular}\n"
      ],
      "text/markdown": [
       "\n",
       "A data.frame: 6 × 27\n",
       "\n",
       "| <!--/--> | seqnames &lt;chr&gt; | start &lt;int&gt; | end &lt;int&gt; | width &lt;int&gt; | strand &lt;chr&gt; | source &lt;chr&gt; | type &lt;chr&gt; | score &lt;lgl&gt; | phase &lt;lgl&gt; | gene_id &lt;chr&gt; | ⋯ ⋯ | transcript_source &lt;lgl&gt; | transcript_biotype &lt;lgl&gt; | tag &lt;lgl&gt; | transcript_support_level &lt;lgl&gt; | exon_number &lt;lgl&gt; | exon_id &lt;lgl&gt; | exon_version &lt;lgl&gt; | protein_id &lt;lgl&gt; | protein_version &lt;lgl&gt; | ccds_id &lt;lgl&gt; |\n",
       "|---|---|---|---|---|---|---|---|---|---|---|---|---|---|---|---|---|---|---|---|---|---|\n",
       "| 1248375 | X  | 100627108 | 100639991 |  12884 | - | ensembl_havana | gene | NA | NA | ENSG00000000003 | ⋯ | NA | NA | NA | NA | NA | NA | NA | NA | NA | NA |\n",
       "| 2612838 | 20 |  50934867 |  50958555 |  23689 | - | ensembl_havana | gene | NA | NA | ENSG00000000419 | ⋯ | NA | NA | NA | NA | NA | NA | NA | NA | NA | NA |\n",
       "| 198068 | 1  | 169849631 | 169894267 |  44637 | - | ensembl_havana | gene | NA | NA | ENSG00000000457 | ⋯ | NA | NA | NA | NA | NA | NA | NA | NA | NA | NA |\n",
       "| 197489 | 1  | 169662007 | 169854080 | 192074 | + | ensembl_havana | gene | NA | NA | ENSG00000000460 | ⋯ | NA | NA | NA | NA | NA | NA | NA | NA | NA | NA |\n",
       "| 46865 | 1  |  27612064 |  27635185 |  23122 | - | ensembl_havana | gene | NA | NA | ENSG00000000938 | ⋯ | NA | NA | NA | NA | NA | NA | NA | NA | NA | NA |\n",
       "| 213754 | 1  | 196652043 | 196747504 |  95462 | + | ensembl_havana | gene | NA | NA | ENSG00000000971 | ⋯ | NA | NA | NA | NA | NA | NA | NA | NA | NA | NA |\n",
       "\n"
      ],
      "text/plain": [
       "        seqnames start     end       width  strand source         type score\n",
       "1248375 X        100627108 100639991  12884 -      ensembl_havana gene NA   \n",
       "2612838 20        50934867  50958555  23689 -      ensembl_havana gene NA   \n",
       "198068  1        169849631 169894267  44637 -      ensembl_havana gene NA   \n",
       "197489  1        169662007 169854080 192074 +      ensembl_havana gene NA   \n",
       "46865   1         27612064  27635185  23122 -      ensembl_havana gene NA   \n",
       "213754  1        196652043 196747504  95462 +      ensembl_havana gene NA   \n",
       "        phase gene_id         ⋯ transcript_source transcript_biotype tag\n",
       "1248375 NA    ENSG00000000003 ⋯ NA                NA                 NA \n",
       "2612838 NA    ENSG00000000419 ⋯ NA                NA                 NA \n",
       "198068  NA    ENSG00000000457 ⋯ NA                NA                 NA \n",
       "197489  NA    ENSG00000000460 ⋯ NA                NA                 NA \n",
       "46865   NA    ENSG00000000938 ⋯ NA                NA                 NA \n",
       "213754  NA    ENSG00000000971 ⋯ NA                NA                 NA \n",
       "        transcript_support_level exon_number exon_id exon_version protein_id\n",
       "1248375 NA                       NA          NA      NA           NA        \n",
       "2612838 NA                       NA          NA      NA           NA        \n",
       "198068  NA                       NA          NA      NA           NA        \n",
       "197489  NA                       NA          NA      NA           NA        \n",
       "46865   NA                       NA          NA      NA           NA        \n",
       "213754  NA                       NA          NA      NA           NA        \n",
       "        protein_version ccds_id\n",
       "1248375 NA              NA     \n",
       "2612838 NA              NA     \n",
       "198068  NA              NA     \n",
       "197489  NA              NA     \n",
       "46865   NA              NA     \n",
       "213754  NA              NA     "
      ]
     },
     "metadata": {},
     "output_type": "display_data"
    }
   ],
   "source": [
    "head(gene.info)"
   ]
  },
  {
   "cell_type": "code",
   "execution_count": 8,
   "id": "b5d8df7b-eff0-49bb-ab85-c5f5b0e30c4e",
   "metadata": {},
   "outputs": [
    {
     "data": {
      "text/html": [
       "<style>\n",
       ".list-inline {list-style: none; margin:0; padding: 0}\n",
       ".list-inline>li {display: inline-block}\n",
       ".list-inline>li:not(:last-child)::after {content: \"\\00b7\"; padding: 0 .5ex}\n",
       "</style>\n",
       "<ol class=list-inline><li>20416</li><li>27</li></ol>\n"
      ],
      "text/latex": [
       "\\begin{enumerate*}\n",
       "\\item 20416\n",
       "\\item 27\n",
       "\\end{enumerate*}\n"
      ],
      "text/markdown": [
       "1. 20416\n",
       "2. 27\n",
       "\n",
       "\n"
      ],
      "text/plain": [
       "[1] 20416    27"
      ]
     },
     "metadata": {},
     "output_type": "display_data"
    }
   ],
   "source": [
    "dim(gene.info)"
   ]
  },
  {
   "cell_type": "code",
   "execution_count": 9,
   "id": "4baa26ae-d197-4885-8607-7faa40371cc1",
   "metadata": {},
   "outputs": [
    {
     "data": {
      "text/html": [
       "<table class=\"dataframe\">\n",
       "<caption>A data.frame: 6 × 46</caption>\n",
       "<thead>\n",
       "\t<tr><th></th><th scope=col>manual_qc</th><th scope=col>id_study_lims</th><th scope=col>name</th><th scope=col>description</th><th scope=col>sanger_sample_id</th><th scope=col>supplier_name</th><th scope=col>last_updated</th><th scope=col>id_library_lims</th><th scope=col>id_pool_lims</th><th scope=col>id_iseq_flowcell_tmp</th><th scope=col>⋯</th><th scope=col>TIN.mean.</th><th scope=col>TIN.median.</th><th scope=col>TIN.stdev.</th><th scope=col>Concentration</th><th scope=col>num_samples_per_lane</th><th scope=col>SRSUnsup</th><th scope=col>globin_rate_fromcounts</th><th scope=col>PCOutlier</th><th scope=col>OtherOutlier</th><th scope=col>GAinSID</th></tr>\n",
       "\t<tr><th></th><th scope=col>&lt;int&gt;</th><th scope=col>&lt;int&gt;</th><th scope=col>&lt;chr&gt;</th><th scope=col>&lt;chr&gt;</th><th scope=col>&lt;chr&gt;</th><th scope=col>&lt;chr&gt;</th><th scope=col>&lt;chr&gt;</th><th scope=col>&lt;chr&gt;</th><th scope=col>&lt;chr&gt;</th><th scope=col>&lt;int&gt;</th><th scope=col>⋯</th><th scope=col>&lt;dbl&gt;</th><th scope=col>&lt;dbl&gt;</th><th scope=col>&lt;dbl&gt;</th><th scope=col>&lt;dbl&gt;</th><th scope=col>&lt;int&gt;</th><th scope=col>&lt;int&gt;</th><th scope=col>&lt;dbl&gt;</th><th scope=col>&lt;lgl&gt;</th><th scope=col>&lt;lgl&gt;</th><th scope=col>&lt;chr&gt;</th></tr>\n",
       "</thead>\n",
       "<tbody>\n",
       "\t<tr><th scope=row>gains8032857</th><td>1</td><td>5890</td><td>HG_The Genomic Advances in Sepsis (GAinS) RNA-seq</td><td>Total leukocyte RNA</td><td>gains8032857</td><td>UK02270173_3</td><td>2019-09-30 21:01:38</td><td>DN548016D</td><td>NT1557159B</td><td>6930558</td><td>⋯</td><td>69.51307</td><td>76.82800</td><td>23.72743</td><td>116.731</td><td>77</td><td>2</td><td>0.6790401</td><td>FALSE</td><td>FALSE</td><td>UK02270173</td></tr>\n",
       "\t<tr><th scope=row>gains8032858</th><td>1</td><td>5890</td><td>HG_The Genomic Advances in Sepsis (GAinS) RNA-seq</td><td>Total leukocyte RNA</td><td>gains8032858</td><td>UK15130120_3</td><td>2019-09-30 21:01:38</td><td>DN548016D</td><td>NT1557159B</td><td>6930559</td><td>⋯</td><td>65.03706</td><td>71.49895</td><td>24.13243</td><td> 76.185</td><td>77</td><td>2</td><td>0.6826886</td><td>FALSE</td><td>FALSE</td><td>UK15130120</td></tr>\n",
       "\t<tr><th scope=row>gains8032859</th><td>1</td><td>5890</td><td>HG_The Genomic Advances in Sepsis (GAinS) RNA-seq</td><td>Total leukocyte RNA</td><td>gains8032859</td><td>UK58000006_3</td><td>2019-09-30 21:01:38</td><td>DN548016D</td><td>NT1557159B</td><td>6930560</td><td>⋯</td><td>70.85535</td><td>78.07773</td><td>23.24183</td><td> 59.767</td><td>77</td><td>2</td><td>1.4290063</td><td>FALSE</td><td>FALSE</td><td>UK58000006</td></tr>\n",
       "\t<tr><th scope=row>gains8032860</th><td>1</td><td>5890</td><td>HG_The Genomic Advances in Sepsis (GAinS) RNA-seq</td><td>Total leukocyte RNA</td><td>gains8032860</td><td>UK47010004_3</td><td>2019-09-30 21:01:38</td><td>DN548016D</td><td>NT1557159B</td><td>6930561</td><td>⋯</td><td>68.16224</td><td>75.05450</td><td>23.56361</td><td>105.000</td><td>77</td><td>1</td><td>0.9177558</td><td>FALSE</td><td>FALSE</td><td>UK47010004</td></tr>\n",
       "\t<tr><th scope=row>gains8032861</th><td>1</td><td>5890</td><td>HG_The Genomic Advances in Sepsis (GAinS) RNA-seq</td><td>Total leukocyte RNA</td><td>gains8032861</td><td>UK42020088_5</td><td>2019-09-30 21:01:38</td><td>DN548016D</td><td>NT1557159B</td><td>6930562</td><td>⋯</td><td>64.67378</td><td>72.53810</td><td>26.03766</td><td> 87.843</td><td>77</td><td>1</td><td>0.4031685</td><td>FALSE</td><td>FALSE</td><td>UK42020088</td></tr>\n",
       "\t<tr><th scope=row>gains8032862</th><td>1</td><td>5890</td><td>HG_The Genomic Advances in Sepsis (GAinS) RNA-seq</td><td>Total leukocyte RNA</td><td>gains8032862</td><td>UK47490007_3</td><td>2019-09-30 21:01:38</td><td>DN548016D</td><td>NT1557159B</td><td>6930563</td><td>⋯</td><td>62.79935</td><td>68.60305</td><td>24.27960</td><td> 67.484</td><td>77</td><td>2</td><td>1.1993500</td><td>FALSE</td><td>FALSE</td><td>UK47490007</td></tr>\n",
       "</tbody>\n",
       "</table>\n"
      ],
      "text/latex": [
       "A data.frame: 6 × 46\n",
       "\\begin{tabular}{r|lllllllllllllllllllll}\n",
       "  & manual\\_qc & id\\_study\\_lims & name & description & sanger\\_sample\\_id & supplier\\_name & last\\_updated & id\\_library\\_lims & id\\_pool\\_lims & id\\_iseq\\_flowcell\\_tmp & ⋯ & TIN.mean. & TIN.median. & TIN.stdev. & Concentration & num\\_samples\\_per\\_lane & SRSUnsup & globin\\_rate\\_fromcounts & PCOutlier & OtherOutlier & GAinSID\\\\\n",
       "  & <int> & <int> & <chr> & <chr> & <chr> & <chr> & <chr> & <chr> & <chr> & <int> & ⋯ & <dbl> & <dbl> & <dbl> & <dbl> & <int> & <int> & <dbl> & <lgl> & <lgl> & <chr>\\\\\n",
       "\\hline\n",
       "\tgains8032857 & 1 & 5890 & HG\\_The Genomic Advances in Sepsis (GAinS) RNA-seq & Total leukocyte RNA & gains8032857 & UK02270173\\_3 & 2019-09-30 21:01:38 & DN548016D & NT1557159B & 6930558 & ⋯ & 69.51307 & 76.82800 & 23.72743 & 116.731 & 77 & 2 & 0.6790401 & FALSE & FALSE & UK02270173\\\\\n",
       "\tgains8032858 & 1 & 5890 & HG\\_The Genomic Advances in Sepsis (GAinS) RNA-seq & Total leukocyte RNA & gains8032858 & UK15130120\\_3 & 2019-09-30 21:01:38 & DN548016D & NT1557159B & 6930559 & ⋯ & 65.03706 & 71.49895 & 24.13243 &  76.185 & 77 & 2 & 0.6826886 & FALSE & FALSE & UK15130120\\\\\n",
       "\tgains8032859 & 1 & 5890 & HG\\_The Genomic Advances in Sepsis (GAinS) RNA-seq & Total leukocyte RNA & gains8032859 & UK58000006\\_3 & 2019-09-30 21:01:38 & DN548016D & NT1557159B & 6930560 & ⋯ & 70.85535 & 78.07773 & 23.24183 &  59.767 & 77 & 2 & 1.4290063 & FALSE & FALSE & UK58000006\\\\\n",
       "\tgains8032860 & 1 & 5890 & HG\\_The Genomic Advances in Sepsis (GAinS) RNA-seq & Total leukocyte RNA & gains8032860 & UK47010004\\_3 & 2019-09-30 21:01:38 & DN548016D & NT1557159B & 6930561 & ⋯ & 68.16224 & 75.05450 & 23.56361 & 105.000 & 77 & 1 & 0.9177558 & FALSE & FALSE & UK47010004\\\\\n",
       "\tgains8032861 & 1 & 5890 & HG\\_The Genomic Advances in Sepsis (GAinS) RNA-seq & Total leukocyte RNA & gains8032861 & UK42020088\\_5 & 2019-09-30 21:01:38 & DN548016D & NT1557159B & 6930562 & ⋯ & 64.67378 & 72.53810 & 26.03766 &  87.843 & 77 & 1 & 0.4031685 & FALSE & FALSE & UK42020088\\\\\n",
       "\tgains8032862 & 1 & 5890 & HG\\_The Genomic Advances in Sepsis (GAinS) RNA-seq & Total leukocyte RNA & gains8032862 & UK47490007\\_3 & 2019-09-30 21:01:38 & DN548016D & NT1557159B & 6930563 & ⋯ & 62.79935 & 68.60305 & 24.27960 &  67.484 & 77 & 2 & 1.1993500 & FALSE & FALSE & UK47490007\\\\\n",
       "\\end{tabular}\n"
      ],
      "text/markdown": [
       "\n",
       "A data.frame: 6 × 46\n",
       "\n",
       "| <!--/--> | manual_qc &lt;int&gt; | id_study_lims &lt;int&gt; | name &lt;chr&gt; | description &lt;chr&gt; | sanger_sample_id &lt;chr&gt; | supplier_name &lt;chr&gt; | last_updated &lt;chr&gt; | id_library_lims &lt;chr&gt; | id_pool_lims &lt;chr&gt; | id_iseq_flowcell_tmp &lt;int&gt; | ⋯ ⋯ | TIN.mean. &lt;dbl&gt; | TIN.median. &lt;dbl&gt; | TIN.stdev. &lt;dbl&gt; | Concentration &lt;dbl&gt; | num_samples_per_lane &lt;int&gt; | SRSUnsup &lt;int&gt; | globin_rate_fromcounts &lt;dbl&gt; | PCOutlier &lt;lgl&gt; | OtherOutlier &lt;lgl&gt; | GAinSID &lt;chr&gt; |\n",
       "|---|---|---|---|---|---|---|---|---|---|---|---|---|---|---|---|---|---|---|---|---|---|\n",
       "| gains8032857 | 1 | 5890 | HG_The Genomic Advances in Sepsis (GAinS) RNA-seq | Total leukocyte RNA | gains8032857 | UK02270173_3 | 2019-09-30 21:01:38 | DN548016D | NT1557159B | 6930558 | ⋯ | 69.51307 | 76.82800 | 23.72743 | 116.731 | 77 | 2 | 0.6790401 | FALSE | FALSE | UK02270173 |\n",
       "| gains8032858 | 1 | 5890 | HG_The Genomic Advances in Sepsis (GAinS) RNA-seq | Total leukocyte RNA | gains8032858 | UK15130120_3 | 2019-09-30 21:01:38 | DN548016D | NT1557159B | 6930559 | ⋯ | 65.03706 | 71.49895 | 24.13243 |  76.185 | 77 | 2 | 0.6826886 | FALSE | FALSE | UK15130120 |\n",
       "| gains8032859 | 1 | 5890 | HG_The Genomic Advances in Sepsis (GAinS) RNA-seq | Total leukocyte RNA | gains8032859 | UK58000006_3 | 2019-09-30 21:01:38 | DN548016D | NT1557159B | 6930560 | ⋯ | 70.85535 | 78.07773 | 23.24183 |  59.767 | 77 | 2 | 1.4290063 | FALSE | FALSE | UK58000006 |\n",
       "| gains8032860 | 1 | 5890 | HG_The Genomic Advances in Sepsis (GAinS) RNA-seq | Total leukocyte RNA | gains8032860 | UK47010004_3 | 2019-09-30 21:01:38 | DN548016D | NT1557159B | 6930561 | ⋯ | 68.16224 | 75.05450 | 23.56361 | 105.000 | 77 | 1 | 0.9177558 | FALSE | FALSE | UK47010004 |\n",
       "| gains8032861 | 1 | 5890 | HG_The Genomic Advances in Sepsis (GAinS) RNA-seq | Total leukocyte RNA | gains8032861 | UK42020088_5 | 2019-09-30 21:01:38 | DN548016D | NT1557159B | 6930562 | ⋯ | 64.67378 | 72.53810 | 26.03766 |  87.843 | 77 | 1 | 0.4031685 | FALSE | FALSE | UK42020088 |\n",
       "| gains8032862 | 1 | 5890 | HG_The Genomic Advances in Sepsis (GAinS) RNA-seq | Total leukocyte RNA | gains8032862 | UK47490007_3 | 2019-09-30 21:01:38 | DN548016D | NT1557159B | 6930563 | ⋯ | 62.79935 | 68.60305 | 24.27960 |  67.484 | 77 | 2 | 1.1993500 | FALSE | FALSE | UK47490007 |\n",
       "\n"
      ],
      "text/plain": [
       "             manual_qc id_study_lims\n",
       "gains8032857 1         5890         \n",
       "gains8032858 1         5890         \n",
       "gains8032859 1         5890         \n",
       "gains8032860 1         5890         \n",
       "gains8032861 1         5890         \n",
       "gains8032862 1         5890         \n",
       "             name                                             \n",
       "gains8032857 HG_The Genomic Advances in Sepsis (GAinS) RNA-seq\n",
       "gains8032858 HG_The Genomic Advances in Sepsis (GAinS) RNA-seq\n",
       "gains8032859 HG_The Genomic Advances in Sepsis (GAinS) RNA-seq\n",
       "gains8032860 HG_The Genomic Advances in Sepsis (GAinS) RNA-seq\n",
       "gains8032861 HG_The Genomic Advances in Sepsis (GAinS) RNA-seq\n",
       "gains8032862 HG_The Genomic Advances in Sepsis (GAinS) RNA-seq\n",
       "             description         sanger_sample_id supplier_name\n",
       "gains8032857 Total leukocyte RNA gains8032857     UK02270173_3 \n",
       "gains8032858 Total leukocyte RNA gains8032858     UK15130120_3 \n",
       "gains8032859 Total leukocyte RNA gains8032859     UK58000006_3 \n",
       "gains8032860 Total leukocyte RNA gains8032860     UK47010004_3 \n",
       "gains8032861 Total leukocyte RNA gains8032861     UK42020088_5 \n",
       "gains8032862 Total leukocyte RNA gains8032862     UK47490007_3 \n",
       "             last_updated        id_library_lims id_pool_lims\n",
       "gains8032857 2019-09-30 21:01:38 DN548016D       NT1557159B  \n",
       "gains8032858 2019-09-30 21:01:38 DN548016D       NT1557159B  \n",
       "gains8032859 2019-09-30 21:01:38 DN548016D       NT1557159B  \n",
       "gains8032860 2019-09-30 21:01:38 DN548016D       NT1557159B  \n",
       "gains8032861 2019-09-30 21:01:38 DN548016D       NT1557159B  \n",
       "gains8032862 2019-09-30 21:01:38 DN548016D       NT1557159B  \n",
       "             id_iseq_flowcell_tmp ⋯ TIN.mean. TIN.median. TIN.stdev.\n",
       "gains8032857 6930558              ⋯ 69.51307  76.82800    23.72743  \n",
       "gains8032858 6930559              ⋯ 65.03706  71.49895    24.13243  \n",
       "gains8032859 6930560              ⋯ 70.85535  78.07773    23.24183  \n",
       "gains8032860 6930561              ⋯ 68.16224  75.05450    23.56361  \n",
       "gains8032861 6930562              ⋯ 64.67378  72.53810    26.03766  \n",
       "gains8032862 6930563              ⋯ 62.79935  68.60305    24.27960  \n",
       "             Concentration num_samples_per_lane SRSUnsup globin_rate_fromcounts\n",
       "gains8032857 116.731       77                   2        0.6790401             \n",
       "gains8032858  76.185       77                   2        0.6826886             \n",
       "gains8032859  59.767       77                   2        1.4290063             \n",
       "gains8032860 105.000       77                   1        0.9177558             \n",
       "gains8032861  87.843       77                   1        0.4031685             \n",
       "gains8032862  67.484       77                   2        1.1993500             \n",
       "             PCOutlier OtherOutlier GAinSID   \n",
       "gains8032857 FALSE     FALSE        UK02270173\n",
       "gains8032858 FALSE     FALSE        UK15130120\n",
       "gains8032859 FALSE     FALSE        UK58000006\n",
       "gains8032860 FALSE     FALSE        UK47010004\n",
       "gains8032861 FALSE     FALSE        UK42020088\n",
       "gains8032862 FALSE     FALSE        UK47490007"
      ]
     },
     "metadata": {},
     "output_type": "display_data"
    }
   ],
   "source": [
    "head(sample.info)"
   ]
  },
  {
   "cell_type": "code",
   "execution_count": 10,
   "id": "2061804b-281e-4763-b9a2-2d5b976c6bed",
   "metadata": {},
   "outputs": [
    {
     "data": {
      "text/html": [
       "<style>\n",
       ".list-inline {list-style: none; margin:0; padding: 0}\n",
       ".list-inline>li {display: inline-block}\n",
       ".list-inline>li:not(:last-child)::after {content: \"\\00b7\"; padding: 0 .5ex}\n",
       "</style>\n",
       "<ol class=list-inline><li>864</li><li>46</li></ol>\n"
      ],
      "text/latex": [
       "\\begin{enumerate*}\n",
       "\\item 864\n",
       "\\item 46\n",
       "\\end{enumerate*}\n"
      ],
      "text/markdown": [
       "1. 864\n",
       "2. 46\n",
       "\n",
       "\n"
      ],
      "text/plain": [
       "[1] 864  46"
      ]
     },
     "metadata": {},
     "output_type": "display_data"
    }
   ],
   "source": [
    "dim(sample.info)"
   ]
  },
  {
   "cell_type": "markdown",
   "id": "778c1ee4-48d3-4192-95a3-6ec325e729fd",
   "metadata": {},
   "source": [
    "Some patient identifiers may have a GA- prefix that has been dropped in future releases of the data. If this identifier exists, I drop the prefix."
   ]
  },
  {
   "cell_type": "code",
   "execution_count": 11,
   "id": "245ee225-fe81-45fe-a318-60e08392c8c6",
   "metadata": {},
   "outputs": [],
   "source": [
    "ga.prefix.filter <- grepl(\"GA\", sample.info$supplier_name)\n",
    "\n",
    "sample.info$supplier_name[ga.prefix.filter] <- gsub(\"^GA\", \"\", sample.info$supplier_name[ga.prefix.filter])"
   ]
  },
  {
   "cell_type": "code",
   "execution_count": 12,
   "id": "94a81f67-3347-4942-bf6c-2d07bb97f912",
   "metadata": {},
   "outputs": [
    {
     "data": {
      "text/html": [
       "<table class=\"dataframe\">\n",
       "<caption>A data.frame: 6 × 2</caption>\n",
       "<thead>\n",
       "\t<tr><th></th><th scope=col>SangerSampleID</th><th scope=col>GAinSID</th></tr>\n",
       "\t<tr><th></th><th scope=col>&lt;chr&gt;</th><th scope=col>&lt;chr&gt;</th></tr>\n",
       "</thead>\n",
       "<tbody>\n",
       "\t<tr><th scope=row>1</th><td>gains8032857</td><td>UK02270173_3</td></tr>\n",
       "\t<tr><th scope=row>2</th><td>gains8032858</td><td>UK15130120_3</td></tr>\n",
       "\t<tr><th scope=row>3</th><td>gains8032859</td><td>UK58000006_3</td></tr>\n",
       "\t<tr><th scope=row>4</th><td>gains8032860</td><td>UK47010004_3</td></tr>\n",
       "\t<tr><th scope=row>5</th><td>gains8032861</td><td>UK42020088_5</td></tr>\n",
       "\t<tr><th scope=row>6</th><td>gains8032862</td><td>UK47490007_3</td></tr>\n",
       "</tbody>\n",
       "</table>\n"
      ],
      "text/latex": [
       "A data.frame: 6 × 2\n",
       "\\begin{tabular}{r|ll}\n",
       "  & SangerSampleID & GAinSID\\\\\n",
       "  & <chr> & <chr>\\\\\n",
       "\\hline\n",
       "\t1 & gains8032857 & UK02270173\\_3\\\\\n",
       "\t2 & gains8032858 & UK15130120\\_3\\\\\n",
       "\t3 & gains8032859 & UK58000006\\_3\\\\\n",
       "\t4 & gains8032860 & UK47010004\\_3\\\\\n",
       "\t5 & gains8032861 & UK42020088\\_5\\\\\n",
       "\t6 & gains8032862 & UK47490007\\_3\\\\\n",
       "\\end{tabular}\n"
      ],
      "text/markdown": [
       "\n",
       "A data.frame: 6 × 2\n",
       "\n",
       "| <!--/--> | SangerSampleID &lt;chr&gt; | GAinSID &lt;chr&gt; |\n",
       "|---|---|---|\n",
       "| 1 | gains8032857 | UK02270173_3 |\n",
       "| 2 | gains8032858 | UK15130120_3 |\n",
       "| 3 | gains8032859 | UK58000006_3 |\n",
       "| 4 | gains8032860 | UK47010004_3 |\n",
       "| 5 | gains8032861 | UK42020088_5 |\n",
       "| 6 | gains8032862 | UK47490007_3 |\n",
       "\n"
      ],
      "text/plain": [
       "  SangerSampleID GAinSID     \n",
       "1 gains8032857   UK02270173_3\n",
       "2 gains8032858   UK15130120_3\n",
       "3 gains8032859   UK58000006_3\n",
       "4 gains8032860   UK47010004_3\n",
       "5 gains8032861   UK42020088_5\n",
       "6 gains8032862   UK47490007_3"
      ]
     },
     "metadata": {},
     "output_type": "display_data"
    }
   ],
   "source": [
    "head(sample.key)"
   ]
  },
  {
   "cell_type": "code",
   "execution_count": 13,
   "id": "ae4b444e-0b69-4992-870f-a2342de868bf",
   "metadata": {},
   "outputs": [
    {
     "data": {
      "text/html": [
       "<style>\n",
       ".list-inline {list-style: none; margin:0; padding: 0}\n",
       ".list-inline>li {display: inline-block}\n",
       ".list-inline>li:not(:last-child)::after {content: \"\\00b7\"; padding: 0 .5ex}\n",
       "</style>\n",
       "<ol class=list-inline><li>864</li><li>2</li></ol>\n"
      ],
      "text/latex": [
       "\\begin{enumerate*}\n",
       "\\item 864\n",
       "\\item 2\n",
       "\\end{enumerate*}\n"
      ],
      "text/markdown": [
       "1. 864\n",
       "2. 2\n",
       "\n",
       "\n"
      ],
      "text/plain": [
       "[1] 864   2"
      ]
     },
     "metadata": {},
     "output_type": "display_data"
    }
   ],
   "source": [
    "dim(sample.key)"
   ]
  },
  {
   "cell_type": "markdown",
   "id": "9d4e5e3b-b13c-4f96-a55e-7d1a09d4aeb3",
   "metadata": {},
   "source": [
    "Some patient identifiers may have a GA- prefix that has been dropped in future releases of the data. If this identifier exists, I drop the prefix."
   ]
  },
  {
   "cell_type": "code",
   "execution_count": 14,
   "id": "ea440e82-e522-40bc-af0e-3d76ecaccd2f",
   "metadata": {},
   "outputs": [],
   "source": [
    "ga.prefix.filter <- grepl(\"GA\", sample.key$GAinSID)\n",
    "\n",
    "sample.key$GAinSID[ga.prefix.filter] <- gsub(\"^GA\", \"\", sample.key$GAinSID[ga.prefix.filter])"
   ]
  },
  {
   "cell_type": "markdown",
   "id": "e1769879-3cb9-4526-aa61-cc18cb96a2a4",
   "metadata": {},
   "source": [
    "## Gene Expression Correction\n",
    "\n",
    "Gene expression data may contain counfounding technical variation that can lead to spurious associations between genes. This is based on an analysis conducted by Parsana *et al.* [here](https://doi.org/10.1186/s13059-019-1700-9). This can be corrected using their method implemented in the `sva` package."
   ]
  },
  {
   "cell_type": "code",
   "execution_count": 15,
   "id": "f3707c21-a56c-4cc4-bef7-edf23e1a01a4",
   "metadata": {},
   "outputs": [],
   "source": [
    "mod <- matrix(1, nrow=dim(raw.gene.exp)[1], ncol=1)\n",
    "colnames(mod) <- \"Intercept\"\n",
    "\n",
    "nsv <- num.sv(t(raw.gene.exp), mod, method=\"be\")"
   ]
  },
  {
   "cell_type": "code",
   "execution_count": 16,
   "id": "b3bd4952-8631-4bdb-9896-4386673c5ee4",
   "metadata": {},
   "outputs": [],
   "source": [
    "gene.exp <- sva_network(raw.gene.exp, nsv)"
   ]
  },
  {
   "cell_type": "code",
   "execution_count": 17,
   "id": "e262e306-2093-4e1b-b489-fc7591169aea",
   "metadata": {
    "tags": []
   },
   "outputs": [],
   "source": [
    "gene.exp <- t(gene.exp)"
   ]
  },
  {
   "cell_type": "markdown",
   "id": "b4189298-45e9-4b14-a926-826eb3090b38",
   "metadata": {},
   "source": [
    "## Between-Individual Gene Expression\n",
    "\n",
    "Gene expression has been measured both within and between individuals. In this co-expression analysis, we are specifically interested in between-individual variation. I will use weighted correlation by using the mean gene expression value for a sample from each individual."
   ]
  },
  {
   "cell_type": "code",
   "execution_count": 24,
   "id": "96e282db-1959-44bc-affd-b47792daf9cf",
   "metadata": {},
   "outputs": [],
   "source": [
    "individuals <- unique(gsub(\"_.$\", \"\", rownames(gene.exp)))"
   ]
  },
  {
   "cell_type": "code",
   "execution_count": 43,
   "id": "e8d2cc85-7e4d-419b-87db-e6594249ba95",
   "metadata": {},
   "outputs": [],
   "source": [
    "for (individual in individuals) {\n",
    "    mask = grepl(individual, rownames(gene.exp))\n",
    "    gene.exp[mask,] = do.call(rbind, rep(list(apply(gene.exp[mask,,drop=F], 2, mean)), sum(mask)))\n",
    "}"
   ]
  },
  {
   "cell_type": "markdown",
   "id": "c92a2a9a-7795-4eec-930e-b16b01978337",
   "metadata": {
    "tags": []
   },
   "source": [
    "## WGCNA Checks\n",
    "\n",
    "The following function identifies genes with excessive missing values and outlier samples. It is generally more important for microarray data."
   ]
  },
  {
   "cell_type": "code",
   "execution_count": 45,
   "id": "612566a4-fa76-426d-a4a3-9fbb3f732fb9",
   "metadata": {},
   "outputs": [
    {
     "name": "stdout",
     "output_type": "stream",
     "text": [
      " Flagging genes and samples with too many missing values...\n",
      "  ..step 1\n"
     ]
    },
    {
     "data": {
      "text/html": [
       "TRUE"
      ],
      "text/latex": [
       "TRUE"
      ],
      "text/markdown": [
       "TRUE"
      ],
      "text/plain": [
       "[1] TRUE"
      ]
     },
     "metadata": {},
     "output_type": "display_data"
    }
   ],
   "source": [
    "gsg <- goodSamplesGenes(gene.exp)\n",
    "gsg$allOK"
   ]
  },
  {
   "cell_type": "markdown",
   "id": "89d526dd-40df-4964-9ad3-d92a1f47a3c3",
   "metadata": {},
   "source": [
    "## Mean-Correlation Bias\n",
    "\n",
    "There is a mean-correlation bias when building co-expression modules, as discussed by Wang *et al.* [here](https://doi.org/10.1371/journal.pcbi.1009954). This can be corrected using a method they developed."
   ]
  },
  {
   "cell_type": "code",
   "execution_count": 46,
   "id": "fe5e21f8-3092-44ec-bbfc-76b2a951c7fd",
   "metadata": {},
   "outputs": [],
   "source": [
    "cor.mtx <- bicor(gene.exp, use=\"pairwise.complete.obs\", pearsonFallback=\"individual\")\n",
    "\n",
    "avg.exp <- apply(raw.gene.exp, 1, mean)"
   ]
  },
  {
   "cell_type": "code",
   "execution_count": 47,
   "id": "668294bb-092a-464d-98aa-380899e87aba",
   "metadata": {},
   "outputs": [
    {
     "name": "stderr",
     "output_type": "stream",
     "text": [
      "Warning message:\n",
      "“Continuous limits supplied to discrete scale.\n",
      "Did you mean `limits = factor(...)` or `scale_*_continuous()`?”\n",
      "Picking joint bandwidth of 0.0088\n",
      "\n"
     ]
    },
    {
     "data": {
      "image/png": "[encoded data removed]",
      "text/plain": [
       "plot without title"
      ]
     },
     "metadata": {
      "image/png": {
       "height": 420,
       "width": 420
      }
     },
     "output_type": "display_data"
    }
   ],
   "source": [
    "plot_signal_condition_exp(cor.mtx, avg.exp, signal=0.001)"
   ]
  },
  {
   "cell_type": "code",
   "execution_count": 48,
   "id": "933d346a-3f52-4ec2-b44c-aaf38cc42a5b",
   "metadata": {},
   "outputs": [],
   "source": [
    "cor.mtx.norm <- normalize_correlation(cor.mtx, ave_exp=avg.exp, ngrp=21, size_grp=1000, ref_grp=18)"
   ]
  },
  {
   "cell_type": "code",
   "execution_count": 49,
   "id": "01bd5d07-1dac-4bdd-a347-d8cc59cec542",
   "metadata": {},
   "outputs": [
    {
     "name": "stderr",
     "output_type": "stream",
     "text": [
      "Warning message:\n",
      "“Continuous limits supplied to discrete scale.\n",
      "Did you mean `limits = factor(...)` or `scale_*_continuous()`?”\n",
      "Picking joint bandwidth of 0.0105\n",
      "\n"
     ]
    },
    {
     "data": {
      "image/png": "[encoded data removed]",
      "text/plain": [
       "plot without title"
      ]
     },
     "metadata": {
      "image/png": {
       "height": 420,
       "width": 420
      }
     },
     "output_type": "display_data"
    }
   ],
   "source": [
    "plot_signal_condition_exp(cor.mtx.norm, avg.exp, signal=0.001)"
   ]
  },
  {
   "cell_type": "markdown",
   "id": "2a166a22-c3d6-4946-8500-500f27253978",
   "metadata": {
    "tags": []
   },
   "source": [
    "## Soft Threshold\n",
    "\n",
    "The adjacency matrix generated using the correlation function does not fit a scale-free topology. A scaling function is used to generate the appropriate gene degree distribution. A parameter of this scaling function, $\\beta$, is estimated by trying multiple values and checking how well the resulting network fits the assumptions of a scale-free network. Here, I try all integer values in $[1,20]$."
   ]
  },
  {
   "cell_type": "code",
   "execution_count": 50,
   "id": "11264511-891b-47ac-ab5f-9b027583cf1b",
   "metadata": {},
   "outputs": [
    {
     "name": "stdout",
     "output_type": "stream",
     "text": [
      "Called from: pickSoftThreshold(cor.mtx.norm, dataIsExpr = F, powerVector = powers, \n",
      "    networkType = \"unsigned\")\n",
      "debug: SFT1 = scaleFreeFitIndex(k = khelp, nBreaks = nBreaks, removeFirst = removeFirst)\n",
      "debug: datout[i, 2] = SFT1$Rsquared.SFT\n",
      "debug: datout[i, 3] = SFT1$slope.SFT\n",
      "debug: datout[i, 4] = SFT1$truncatedExponentialAdjRsquared\n",
      "debug: datout[i, 5] = mean(khelp, na.rm = TRUE)\n",
      "debug: datout[i, 6] = median(khelp, na.rm = TRUE)\n",
      "debug: datout[i, 7] = max(khelp, na.rm = TRUE)\n",
      "debug: if (moreNetworkConcepts) {\n",
      "    Density = sum(khelp)/(nGenes * (nGenes - 1))\n",
      "    datout[i, 8] = Density\n",
      "    Centralization = nGenes * (max(khelp) - mean(khelp))/((nGenes - \n",
      "        1) * (nGenes - 2))\n",
      "    datout[i, 9] = Centralization\n",
      "    Heterogeneity = sqrt(nGenes * sum(khelp^2)/sum(khelp)^2 - \n",
      "        1)\n",
      "    datout[i, 10] = Heterogeneity\n",
      "}\n",
      "debug: khelp = datk[, i]\n",
      "debug: if (any(khelp < 0)) browser()\n",
      "debug: SFT1 = scaleFreeFitIndex(k = khelp, nBreaks = nBreaks, removeFirst = removeFirst)\n",
      "debug: datout[i, 2] = SFT1$Rsquared.SFT\n",
      "debug: datout[i, 3] = SFT1$slope.SFT\n",
      "debug: datout[i, 4] = SFT1$truncatedExponentialAdjRsquared\n",
      "debug: datout[i, 5] = mean(khelp, na.rm = TRUE)\n",
      "debug: datout[i, 6] = median(khelp, na.rm = TRUE)\n",
      "debug: datout[i, 7] = max(khelp, na.rm = TRUE)\n",
      "debug: if (moreNetworkConcepts) {\n",
      "    Density = sum(khelp)/(nGenes * (nGenes - 1))\n",
      "    datout[i, 8] = Density\n",
      "    Centralization = nGenes * (max(khelp) - mean(khelp))/((nGenes - \n",
      "        1) * (nGenes - 2))\n",
      "    datout[i, 9] = Centralization\n",
      "    Heterogeneity = sqrt(nGenes * sum(khelp^2)/sum(khelp)^2 - \n",
      "        1)\n",
      "    datout[i, 10] = Heterogeneity\n",
      "}\n",
      "debug: khelp = datk[, i]\n",
      "debug: if (any(khelp < 0)) browser()\n",
      "debug: browser()\n",
      "debug: SFT1 = scaleFreeFitIndex(k = khelp, nBreaks = nBreaks, removeFirst = removeFirst)\n",
      "debug: datout[i, 2] = SFT1$Rsquared.SFT\n",
      "debug: datout[i, 3] = SFT1$slope.SFT\n",
      "debug: datout[i, 4] = SFT1$truncatedExponentialAdjRsquared\n",
      "debug: datout[i, 5] = mean(khelp, na.rm = TRUE)\n",
      "debug: datout[i, 6] = median(khelp, na.rm = TRUE)\n",
      "debug: datout[i, 7] = max(khelp, na.rm = TRUE)\n",
      "debug: if (moreNetworkConcepts) {\n",
      "    Density = sum(khelp)/(nGenes * (nGenes - 1))\n",
      "    datout[i, 8] = Density\n",
      "    Centralization = nGenes * (max(khelp) - mean(khelp))/((nGenes - \n",
      "        1) * (nGenes - 2))\n",
      "    datout[i, 9] = Centralization\n",
      "    Heterogeneity = sqrt(nGenes * sum(khelp^2)/sum(khelp)^2 - \n",
      "        1)\n",
      "    datout[i, 10] = Heterogeneity\n",
      "}\n",
      "debug: khelp = datk[, i]\n",
      "debug: if (any(khelp < 0)) browser()\n",
      "debug: SFT1 = scaleFreeFitIndex(k = khelp, nBreaks = nBreaks, removeFirst = removeFirst)\n",
      "debug: datout[i, 2] = SFT1$Rsquared.SFT\n",
      "debug: datout[i, 3] = SFT1$slope.SFT\n",
      "debug: datout[i, 4] = SFT1$truncatedExponentialAdjRsquared\n",
      "debug: datout[i, 5] = mean(khelp, na.rm = TRUE)\n",
      "debug: datout[i, 6] = median(khelp, na.rm = TRUE)\n",
      "debug: datout[i, 7] = max(khelp, na.rm = TRUE)\n",
      "debug: if (moreNetworkConcepts) {\n",
      "    Density = sum(khelp)/(nGenes * (nGenes - 1))\n",
      "    datout[i, 8] = Density\n",
      "    Centralization = nGenes * (max(khelp) - mean(khelp))/((nGenes - \n",
      "        1) * (nGenes - 2))\n",
      "    datout[i, 9] = Centralization\n",
      "    Heterogeneity = sqrt(nGenes * sum(khelp^2)/sum(khelp)^2 - \n",
      "        1)\n",
      "    datout[i, 10] = Heterogeneity\n",
      "}\n",
      "debug: khelp = datk[, i]\n",
      "debug: if (any(khelp < 0)) browser()\n",
      "debug: browser()\n",
      "debug: SFT1 = scaleFreeFitIndex(k = khelp, nBreaks = nBreaks, removeFirst = removeFirst)\n",
      "debug: datout[i, 2] = SFT1$Rsquared.SFT\n",
      "debug: datout[i, 3] = SFT1$slope.SFT\n",
      "debug: datout[i, 4] = SFT1$truncatedExponentialAdjRsquared\n",
      "debug: datout[i, 5] = mean(khelp, na.rm = TRUE)\n",
      "debug: datout[i, 6] = median(khelp, na.rm = TRUE)\n",
      "debug: datout[i, 7] = max(khelp, na.rm = TRUE)\n",
      "debug: if (moreNetworkConcepts) {\n",
      "    Density = sum(khelp)/(nGenes * (nGenes - 1))\n",
      "    datout[i, 8] = Density\n",
      "    Centralization = nGenes * (max(khelp) - mean(khelp))/((nGenes - \n",
      "        1) * (nGenes - 2))\n",
      "    datout[i, 9] = Centralization\n",
      "    Heterogeneity = sqrt(nGenes * sum(khelp^2)/sum(khelp)^2 - \n",
      "        1)\n",
      "    datout[i, 10] = Heterogeneity\n",
      "}\n",
      "debug: khelp = datk[, i]\n",
      "debug: if (any(khelp < 0)) browser()\n",
      "debug: SFT1 = scaleFreeFitIndex(k = khelp, nBreaks = nBreaks, removeFirst = removeFirst)\n",
      "debug: datout[i, 2] = SFT1$Rsquared.SFT\n",
      "debug: datout[i, 3] = SFT1$slope.SFT\n",
      "debug: datout[i, 4] = SFT1$truncatedExponentialAdjRsquared\n",
      "debug: datout[i, 5] = mean(khelp, na.rm = TRUE)\n",
      "debug: datout[i, 6] = median(khelp, na.rm = TRUE)\n",
      "debug: datout[i, 7] = max(khelp, na.rm = TRUE)\n",
      "debug: if (moreNetworkConcepts) {\n",
      "    Density = sum(khelp)/(nGenes * (nGenes - 1))\n",
      "    datout[i, 8] = Density\n",
      "    Centralization = nGenes * (max(khelp) - mean(khelp))/((nGenes - \n",
      "        1) * (nGenes - 2))\n",
      "    datout[i, 9] = Centralization\n",
      "    Heterogeneity = sqrt(nGenes * sum(khelp^2)/sum(khelp)^2 - \n",
      "        1)\n",
      "    datout[i, 10] = Heterogeneity\n",
      "}\n",
      "debug: khelp = datk[, i]\n",
      "debug: if (any(khelp < 0)) browser()\n",
      "debug: browser()\n",
      "debug: SFT1 = scaleFreeFitIndex(k = khelp, nBreaks = nBreaks, removeFirst = removeFirst)\n",
      "debug: datout[i, 2] = SFT1$Rsquared.SFT\n",
      "debug: datout[i, 3] = SFT1$slope.SFT\n",
      "debug: datout[i, 4] = SFT1$truncatedExponentialAdjRsquared\n",
      "debug: datout[i, 5] = mean(khelp, na.rm = TRUE)\n",
      "debug: datout[i, 6] = median(khelp, na.rm = TRUE)\n",
      "debug: datout[i, 7] = max(khelp, na.rm = TRUE)\n",
      "debug: if (moreNetworkConcepts) {\n",
      "    Density = sum(khelp)/(nGenes * (nGenes - 1))\n",
      "    datout[i, 8] = Density\n",
      "    Centralization = nGenes * (max(khelp) - mean(khelp))/((nGenes - \n",
      "        1) * (nGenes - 2))\n",
      "    datout[i, 9] = Centralization\n",
      "    Heterogeneity = sqrt(nGenes * sum(khelp^2)/sum(khelp)^2 - \n",
      "        1)\n",
      "    datout[i, 10] = Heterogeneity\n",
      "}\n",
      "debug: khelp = datk[, i]\n",
      "debug: if (any(khelp < 0)) browser()\n",
      "debug: SFT1 = scaleFreeFitIndex(k = khelp, nBreaks = nBreaks, removeFirst = removeFirst)\n",
      "debug: datout[i, 2] = SFT1$Rsquared.SFT\n",
      "debug: datout[i, 3] = SFT1$slope.SFT\n",
      "debug: datout[i, 4] = SFT1$truncatedExponentialAdjRsquared\n",
      "debug: datout[i, 5] = mean(khelp, na.rm = TRUE)\n",
      "debug: datout[i, 6] = median(khelp, na.rm = TRUE)\n",
      "debug: datout[i, 7] = max(khelp, na.rm = TRUE)\n",
      "debug: if (moreNetworkConcepts) {\n",
      "    Density = sum(khelp)/(nGenes * (nGenes - 1))\n",
      "    datout[i, 8] = Density\n",
      "    Centralization = nGenes * (max(khelp) - mean(khelp))/((nGenes - \n",
      "        1) * (nGenes - 2))\n",
      "    datout[i, 9] = Centralization\n",
      "    Heterogeneity = sqrt(nGenes * sum(khelp^2)/sum(khelp)^2 - \n",
      "        1)\n",
      "    datout[i, 10] = Heterogeneity\n",
      "}\n",
      "debug: khelp = datk[, i]\n",
      "debug: if (any(khelp < 0)) browser()\n",
      "debug: browser()\n",
      "debug: SFT1 = scaleFreeFitIndex(k = khelp, nBreaks = nBreaks, removeFirst = removeFirst)\n",
      "debug: datout[i, 2] = SFT1$Rsquared.SFT\n",
      "debug: datout[i, 3] = SFT1$slope.SFT\n",
      "debug: datout[i, 4] = SFT1$truncatedExponentialAdjRsquared\n",
      "debug: datout[i, 5] = mean(khelp, na.rm = TRUE)\n",
      "debug: datout[i, 6] = median(khelp, na.rm = TRUE)\n",
      "debug: datout[i, 7] = max(khelp, na.rm = TRUE)\n",
      "debug: if (moreNetworkConcepts) {\n",
      "    Density = sum(khelp)/(nGenes * (nGenes - 1))\n",
      "    datout[i, 8] = Density\n",
      "    Centralization = nGenes * (max(khelp) - mean(khelp))/((nGenes - \n",
      "        1) * (nGenes - 2))\n",
      "    datout[i, 9] = Centralization\n",
      "    Heterogeneity = sqrt(nGenes * sum(khelp^2)/sum(khelp)^2 - \n",
      "        1)\n",
      "    datout[i, 10] = Heterogeneity\n",
      "}\n",
      "debug: khelp = datk[, i]\n",
      "debug: if (any(khelp < 0)) browser()\n",
      "debug: SFT1 = scaleFreeFitIndex(k = khelp, nBreaks = nBreaks, removeFirst = removeFirst)\n",
      "debug: datout[i, 2] = SFT1$Rsquared.SFT\n",
      "debug: datout[i, 3] = SFT1$slope.SFT\n",
      "debug: datout[i, 4] = SFT1$truncatedExponentialAdjRsquared\n",
      "debug: datout[i, 5] = mean(khelp, na.rm = TRUE)\n",
      "debug: datout[i, 6] = median(khelp, na.rm = TRUE)\n",
      "debug: datout[i, 7] = max(khelp, na.rm = TRUE)\n",
      "debug: if (moreNetworkConcepts) {\n",
      "    Density = sum(khelp)/(nGenes * (nGenes - 1))\n",
      "    datout[i, 8] = Density\n",
      "    Centralization = nGenes * (max(khelp) - mean(khelp))/((nGenes - \n",
      "        1) * (nGenes - 2))\n",
      "    datout[i, 9] = Centralization\n",
      "    Heterogeneity = sqrt(nGenes * sum(khelp^2)/sum(khelp)^2 - \n",
      "        1)\n",
      "    datout[i, 10] = Heterogeneity\n",
      "}\n",
      "debug: khelp = datk[, i]\n",
      "debug: if (any(khelp < 0)) browser()\n",
      "debug: browser()\n",
      "debug: SFT1 = scaleFreeFitIndex(k = khelp, nBreaks = nBreaks, removeFirst = removeFirst)\n",
      "debug: datout[i, 2] = SFT1$Rsquared.SFT\n",
      "debug: datout[i, 3] = SFT1$slope.SFT\n",
      "debug: datout[i, 4] = SFT1$truncatedExponentialAdjRsquared\n",
      "debug: datout[i, 5] = mean(khelp, na.rm = TRUE)\n",
      "debug: datout[i, 6] = median(khelp, na.rm = TRUE)\n",
      "debug: datout[i, 7] = max(khelp, na.rm = TRUE)\n",
      "debug: if (moreNetworkConcepts) {\n",
      "    Density = sum(khelp)/(nGenes * (nGenes - 1))\n",
      "    datout[i, 8] = Density\n",
      "    Centralization = nGenes * (max(khelp) - mean(khelp))/((nGenes - \n",
      "        1) * (nGenes - 2))\n",
      "    datout[i, 9] = Centralization\n",
      "    Heterogeneity = sqrt(nGenes * sum(khelp^2)/sum(khelp)^2 - \n",
      "        1)\n",
      "    datout[i, 10] = Heterogeneity\n",
      "}\n",
      "debug: khelp = datk[, i]\n",
      "debug: if (any(khelp < 0)) browser()\n",
      "debug: SFT1 = scaleFreeFitIndex(k = khelp, nBreaks = nBreaks, removeFirst = removeFirst)\n",
      "debug: datout[i, 2] = SFT1$Rsquared.SFT\n",
      "debug: datout[i, 3] = SFT1$slope.SFT\n",
      "debug: datout[i, 4] = SFT1$truncatedExponentialAdjRsquared\n",
      "debug: datout[i, 5] = mean(khelp, na.rm = TRUE)\n",
      "debug: datout[i, 6] = median(khelp, na.rm = TRUE)\n",
      "debug: datout[i, 7] = max(khelp, na.rm = TRUE)\n",
      "debug: if (moreNetworkConcepts) {\n",
      "    Density = sum(khelp)/(nGenes * (nGenes - 1))\n",
      "    datout[i, 8] = Density\n",
      "    Centralization = nGenes * (max(khelp) - mean(khelp))/((nGenes - \n",
      "        1) * (nGenes - 2))\n",
      "    datout[i, 9] = Centralization\n",
      "    Heterogeneity = sqrt(nGenes * sum(khelp^2)/sum(khelp)^2 - \n",
      "        1)\n",
      "    datout[i, 10] = Heterogeneity\n",
      "}\n",
      "debug: khelp = datk[, i]\n",
      "debug: if (any(khelp < 0)) browser()\n",
      "debug: browser()\n",
      "debug: SFT1 = scaleFreeFitIndex(k = khelp, nBreaks = nBreaks, removeFirst = removeFirst)\n",
      "debug: datout[i, 2] = SFT1$Rsquared.SFT\n",
      "debug: datout[i, 3] = SFT1$slope.SFT\n",
      "debug: datout[i, 4] = SFT1$truncatedExponentialAdjRsquared\n",
      "debug: datout[i, 5] = mean(khelp, na.rm = TRUE)\n",
      "debug: datout[i, 6] = median(khelp, na.rm = TRUE)\n",
      "debug: datout[i, 7] = max(khelp, na.rm = TRUE)\n",
      "debug: if (moreNetworkConcepts) {\n",
      "    Density = sum(khelp)/(nGenes * (nGenes - 1))\n",
      "    datout[i, 8] = Density\n",
      "    Centralization = nGenes * (max(khelp) - mean(khelp))/((nGenes - \n",
      "        1) * (nGenes - 2))\n",
      "    datout[i, 9] = Centralization\n",
      "    Heterogeneity = sqrt(nGenes * sum(khelp^2)/sum(khelp)^2 - \n",
      "        1)\n",
      "    datout[i, 10] = Heterogeneity\n",
      "}\n",
      "debug: khelp = datk[, i]\n",
      "debug: if (any(khelp < 0)) browser()\n",
      "debug: SFT1 = scaleFreeFitIndex(k = khelp, nBreaks = nBreaks, removeFirst = removeFirst)\n",
      "debug: datout[i, 2] = SFT1$Rsquared.SFT\n",
      "debug: datout[i, 3] = SFT1$slope.SFT\n",
      "debug: datout[i, 4] = SFT1$truncatedExponentialAdjRsquared\n",
      "debug: datout[i, 5] = mean(khelp, na.rm = TRUE)\n",
      "debug: datout[i, 6] = median(khelp, na.rm = TRUE)\n",
      "debug: datout[i, 7] = max(khelp, na.rm = TRUE)\n",
      "debug: if (moreNetworkConcepts) {\n",
      "    Density = sum(khelp)/(nGenes * (nGenes - 1))\n",
      "    datout[i, 8] = Density\n",
      "    Centralization = nGenes * (max(khelp) - mean(khelp))/((nGenes - \n",
      "        1) * (nGenes - 2))\n",
      "    datout[i, 9] = Centralization\n",
      "    Heterogeneity = sqrt(nGenes * sum(khelp^2)/sum(khelp)^2 - \n",
      "        1)\n",
      "    datout[i, 10] = Heterogeneity\n",
      "}\n",
      "debug: khelp = datk[, i]\n",
      "debug: if (any(khelp < 0)) browser()\n",
      "debug: browser()\n",
      "debug: SFT1 = scaleFreeFitIndex(k = khelp, nBreaks = nBreaks, removeFirst = removeFirst)\n",
      "debug: datout[i, 2] = SFT1$Rsquared.SFT\n",
      "debug: datout[i, 3] = SFT1$slope.SFT\n",
      "debug: datout[i, 4] = SFT1$truncatedExponentialAdjRsquared\n",
      "debug: datout[i, 5] = mean(khelp, na.rm = TRUE)\n",
      "debug: datout[i, 6] = median(khelp, na.rm = TRUE)\n",
      "debug: datout[i, 7] = max(khelp, na.rm = TRUE)\n",
      "debug: if (moreNetworkConcepts) {\n",
      "    Density = sum(khelp)/(nGenes * (nGenes - 1))\n",
      "    datout[i, 8] = Density\n",
      "    Centralization = nGenes * (max(khelp) - mean(khelp))/((nGenes - \n",
      "        1) * (nGenes - 2))\n",
      "    datout[i, 9] = Centralization\n",
      "    Heterogeneity = sqrt(nGenes * sum(khelp^2)/sum(khelp)^2 - \n",
      "        1)\n",
      "    datout[i, 10] = Heterogeneity\n",
      "}\n",
      "debug: khelp = datk[, i]\n",
      "debug: if (any(khelp < 0)) browser()\n",
      "debug: SFT1 = scaleFreeFitIndex(k = khelp, nBreaks = nBreaks, removeFirst = removeFirst)\n",
      "debug: datout[i, 2] = SFT1$Rsquared.SFT\n",
      "debug: datout[i, 3] = SFT1$slope.SFT\n",
      "debug: datout[i, 4] = SFT1$truncatedExponentialAdjRsquared\n",
      "debug: datout[i, 5] = mean(khelp, na.rm = TRUE)\n",
      "debug: datout[i, 6] = median(khelp, na.rm = TRUE)\n",
      "debug: datout[i, 7] = max(khelp, na.rm = TRUE)\n",
      "debug: if (moreNetworkConcepts) {\n",
      "    Density = sum(khelp)/(nGenes * (nGenes - 1))\n",
      "    datout[i, 8] = Density\n",
      "    Centralization = nGenes * (max(khelp) - mean(khelp))/((nGenes - \n",
      "        1) * (nGenes - 2))\n",
      "    datout[i, 9] = Centralization\n",
      "    Heterogeneity = sqrt(nGenes * sum(khelp^2)/sum(khelp)^2 - \n",
      "        1)\n",
      "    datout[i, 10] = Heterogeneity\n",
      "}\n",
      "debug: khelp = datk[, i]\n",
      "debug: if (any(khelp < 0)) browser()\n",
      "debug: browser()\n",
      "debug: SFT1 = scaleFreeFitIndex(k = khelp, nBreaks = nBreaks, removeFirst = removeFirst)\n",
      "debug: datout[i, 2] = SFT1$Rsquared.SFT\n",
      "debug: datout[i, 3] = SFT1$slope.SFT\n",
      "debug: datout[i, 4] = SFT1$truncatedExponentialAdjRsquared\n",
      "debug: datout[i, 5] = mean(khelp, na.rm = TRUE)\n",
      "debug: datout[i, 6] = median(khelp, na.rm = TRUE)\n",
      "debug: datout[i, 7] = max(khelp, na.rm = TRUE)\n",
      "debug: if (moreNetworkConcepts) {\n",
      "    Density = sum(khelp)/(nGenes * (nGenes - 1))\n",
      "    datout[i, 8] = Density\n",
      "    Centralization = nGenes * (max(khelp) - mean(khelp))/((nGenes - \n",
      "        1) * (nGenes - 2))\n",
      "    datout[i, 9] = Centralization\n",
      "    Heterogeneity = sqrt(nGenes * sum(khelp^2)/sum(khelp)^2 - \n",
      "        1)\n",
      "    datout[i, 10] = Heterogeneity\n",
      "}\n",
      "debug: khelp = datk[, i]\n",
      "debug: if (any(khelp < 0)) browser()\n",
      "debug: SFT1 = scaleFreeFitIndex(k = khelp, nBreaks = nBreaks, removeFirst = removeFirst)\n",
      "debug: datout[i, 2] = SFT1$Rsquared.SFT\n",
      "debug: datout[i, 3] = SFT1$slope.SFT\n",
      "debug: datout[i, 4] = SFT1$truncatedExponentialAdjRsquared\n",
      "debug: datout[i, 5] = mean(khelp, na.rm = TRUE)\n",
      "debug: datout[i, 6] = median(khelp, na.rm = TRUE)\n",
      "debug: datout[i, 7] = max(khelp, na.rm = TRUE)\n",
      "debug: if (moreNetworkConcepts) {\n",
      "    Density = sum(khelp)/(nGenes * (nGenes - 1))\n",
      "    datout[i, 8] = Density\n",
      "    Centralization = nGenes * (max(khelp) - mean(khelp))/((nGenes - \n",
      "        1) * (nGenes - 2))\n",
      "    datout[i, 9] = Centralization\n",
      "    Heterogeneity = sqrt(nGenes * sum(khelp^2)/sum(khelp)^2 - \n",
      "        1)\n",
      "    datout[i, 10] = Heterogeneity\n",
      "}\n",
      "debug: khelp = datk[, i]\n",
      "debug: if (any(khelp < 0)) browser()\n",
      "debug: browser()\n",
      "debug: SFT1 = scaleFreeFitIndex(k = khelp, nBreaks = nBreaks, removeFirst = removeFirst)\n",
      "debug: datout[i, 2] = SFT1$Rsquared.SFT\n",
      "debug: datout[i, 3] = SFT1$slope.SFT\n",
      "debug: datout[i, 4] = SFT1$truncatedExponentialAdjRsquared\n",
      "debug: datout[i, 5] = mean(khelp, na.rm = TRUE)\n",
      "debug: datout[i, 6] = median(khelp, na.rm = TRUE)\n",
      "debug: datout[i, 7] = max(khelp, na.rm = TRUE)\n",
      "debug: if (moreNetworkConcepts) {\n",
      "    Density = sum(khelp)/(nGenes * (nGenes - 1))\n",
      "    datout[i, 8] = Density\n",
      "    Centralization = nGenes * (max(khelp) - mean(khelp))/((nGenes - \n",
      "        1) * (nGenes - 2))\n",
      "    datout[i, 9] = Centralization\n",
      "    Heterogeneity = sqrt(nGenes * sum(khelp^2)/sum(khelp)^2 - \n",
      "        1)\n",
      "    datout[i, 10] = Heterogeneity\n",
      "}\n",
      "debug: khelp = datk[, i]\n",
      "debug: if (any(khelp < 0)) browser()\n",
      "debug: SFT1 = scaleFreeFitIndex(k = khelp, nBreaks = nBreaks, removeFirst = removeFirst)\n",
      "debug: datout[i, 2] = SFT1$Rsquared.SFT\n",
      "debug: datout[i, 3] = SFT1$slope.SFT\n",
      "debug: datout[i, 4] = SFT1$truncatedExponentialAdjRsquared\n",
      "debug: datout[i, 5] = mean(khelp, na.rm = TRUE)\n",
      "debug: datout[i, 6] = median(khelp, na.rm = TRUE)\n",
      "debug: datout[i, 7] = max(khelp, na.rm = TRUE)\n",
      "debug: if (moreNetworkConcepts) {\n",
      "    Density = sum(khelp)/(nGenes * (nGenes - 1))\n",
      "    datout[i, 8] = Density\n",
      "    Centralization = nGenes * (max(khelp) - mean(khelp))/((nGenes - \n",
      "        1) * (nGenes - 2))\n",
      "    datout[i, 9] = Centralization\n",
      "    Heterogeneity = sqrt(nGenes * sum(khelp^2)/sum(khelp)^2 - \n",
      "        1)\n",
      "    datout[i, 10] = Heterogeneity\n",
      "}\n",
      "   Power SFT.R.sq  slope truncated.R.sq  mean.k. median.k. max.k.\n",
      "1      1    0.149 -0.344          0.741 407.0000  4.12e+02 1470.0\n",
      "2      2    0.252 -1.820          0.989 562.0000  5.49e+02 1470.0\n",
      "3      3    0.797 -2.980          0.967  57.7000  5.08e+01  329.0\n",
      "4      4    0.785 -2.720          0.982  52.5000  4.44e+01  295.0\n",
      "5      5    0.923 -2.490          0.974  12.4000  7.78e+00  221.0\n",
      "6      6    0.941 -2.700          0.979   9.3300  5.64e+00  181.0\n",
      "7      7    0.942 -2.200          0.987   3.6900  1.41e+00  147.0\n",
      "8      8    0.942 -2.220          0.987   2.6400  9.33e-01  122.0\n",
      "9      9    0.920 -1.980          0.968   1.4400  2.96e-01  102.0\n",
      "10    10    0.909 -1.960          0.950   1.0500  1.87e-01   86.2\n",
      "11    11    0.940 -1.800          0.993   0.6870  6.90e-02   73.1\n",
      "12    12    0.930 -1.790          0.986   0.5160  4.29e-02   62.4\n",
      "13    13    0.932 -1.720          0.985   0.3770  1.76e-02   53.4\n",
      "14    14    0.935 -1.700          0.985   0.2930  1.08e-02   46.0\n",
      "15    15    0.939 -1.660          0.990   0.2270  4.75e-03   39.7\n",
      "16    16    0.940 -1.640          0.990   0.1820  2.92e-03   34.4\n",
      "17    17    0.479 -2.020          0.491   0.1460  1.37e-03   29.9\n",
      "18    18    0.480 -1.990          0.493   0.1200  8.36e-04   26.0\n",
      "19    19    0.481 -1.970          0.494   0.0984  4.10e-04   22.7\n",
      "20    20    0.483 -1.950          0.496   0.0820  2.53e-04   19.9\n"
     ]
    }
   ],
   "source": [
    "powers = seq(1, 20, by=1)\n",
    "\n",
    "# Warning being suppressed - Pearson fallback used when MAD is zero in bicor\n",
    "soft.thresholds = suppressWarnings(\n",
    "    pickSoftThreshold(cor.mtx.norm, dataIsExpr=F, powerVector=powers, networkType=\"unsigned\")\n",
    ")\n",
    "\n",
    "soft.threshold = soft.thresholds$powerEstimate"
   ]
  },
  {
   "cell_type": "code",
   "execution_count": 51,
   "id": "496d83bc-4f78-47af-a639-4a294692a671",
   "metadata": {},
   "outputs": [
    {
     "data": {
      "image/png": "[encoded data removed]",
      "text/plain": [
       "plot without title"
      ]
     },
     "metadata": {
      "image/png": {
       "height": 360,
       "width": 720
      }
     },
     "output_type": "display_data"
    }
   ],
   "source": [
    "options(repr.plot.width=12, repr.plot.height=6)\n",
    "\n",
    "p1 <- soft.thresholds$fitIndices %>%\n",
    "    ggplot() +\n",
    "    geom_text(aes(x=Power, y=SFT.R.sq, label=Power)) +\n",
    "    xlab(\"Soft Threshold Power\") + ylab(bquote(R^2*\" of Fit to Scale-Free Network\")) +\n",
    "    ggplot_theme\n",
    "\n",
    "p2 <- soft.thresholds$fitIndices %>%\n",
    "    ggplot() +\n",
    "    geom_text(aes(x=Power, y=mean.k., label=Power)) +\n",
    "    xlab(\"Soft Threshold Power\") + ylab(\"Mean Connectivity\") +\n",
    "    ggplot_theme\n",
    "\n",
    "p1 + p2"
   ]
  },
  {
   "cell_type": "code",
   "execution_count": 52,
   "id": "4ae16aa1-7816-493a-b34a-019b63fa1e5a",
   "metadata": {},
   "outputs": [
    {
     "name": "stdout",
     "output_type": "stream",
     "text": [
      "[1] 5\n"
     ]
    }
   ],
   "source": [
    "print(soft.threshold)"
   ]
  },
  {
   "cell_type": "markdown",
   "id": "291444c1-3949-4922-8986-becb1afb6e8c",
   "metadata": {},
   "source": [
    "## Adjacency and TOM Matrices\n",
    "\n",
    "The adjacency matrix defines the similarity between all genes in the sample data. I am using the [biweight midcorrelation](https://en.wikipedia.org/wiki/Biweight_midcorrelation) (`bicor`) function to estimate similarity. It is a median-based approach that is less sensitive to outliers.\n",
    "\n",
    "I use $\\beta=16$ for the scaling function, which was determined in the previous step. Then, the topological overlap metric (TOM) matrix is generated from the adjacency matrix. For details, check the original WGCNA paper."
   ]
  },
  {
   "cell_type": "code",
   "execution_count": 53,
   "id": "2fbee8c0-dbb1-46fa-9873-530529f8cf4f",
   "metadata": {},
   "outputs": [
    {
     "name": "stdout",
     "output_type": "stream",
     "text": [
      "..connectivity..\n",
      "..matrix multiplication (system BLAS)..\n",
      "..normalization..\n",
      "..done.\n"
     ]
    },
    {
     "name": "stderr",
     "output_type": "stream",
     "text": [
      "Warning message in dir.create(\"~/gains_team282/nikhil/expression/gene_expression/\", :\n",
      "“'/nfs/users/nfs_n/nm18/gains_team282/nikhil/expression/gene_expression' already exists”\n"
     ]
    }
   ],
   "source": [
    "adjacency.matrix = adjacency.fromSimilarity(cor.mtx.norm, type=\"unsigned\", power=soft.threshold)\n",
    "\n",
    "TOM.matrix = TOMsimilarity(adjacency.matrix)\n",
    "\n",
    "dir.create(\"~/gains_team282/nikhil/expression/gene_expression/\", recursive=TRUE)\n",
    "saveRDS(TOM.matrix, file=\"~/gains_team282/nikhil/expression/gene_expression/TOM.matrix.RDS\")\n",
    "\n",
    "TOM.dist = 1 - TOM.matrix"
   ]
  },
  {
   "cell_type": "markdown",
   "id": "ccf145a6-f83f-4354-bc17-61e2846174be",
   "metadata": {},
   "source": [
    "## Clustering TOM Matrix\n",
    "\n",
    "The gene co-expression modules are generated by clustering the TOM matrix."
   ]
  },
  {
   "cell_type": "code",
   "execution_count": 54,
   "id": "2487195a-53a4-426c-8f09-96f52f82fb9b",
   "metadata": {},
   "outputs": [
    {
     "data": {
      "text/html": [
       "<strong>png:</strong> 2"
      ],
      "text/latex": [
       "\\textbf{png:} 2"
      ],
      "text/markdown": [
       "**png:** 2"
      ],
      "text/plain": [
       "png \n",
       "  2 "
      ]
     },
     "metadata": {},
     "output_type": "display_data"
    },
    {
     "name": "stdout",
     "output_type": "stream",
     "text": [
      " ..cutHeight not given, setting it to 0.999  ===>  99% of the (truncated) height range in dendro.\n",
      " ..done.\n"
     ]
    }
   ],
   "source": [
    "dendrogram = hclust(as.dist(TOM.dist), method=\"average\")\n",
    "\n",
    "svg(filename=\"04_Expression/results/gene_expression_dendrogram.svg\", width=8, height=5)\n",
    "plot(dendrogram, labels=FALSE, main=\"Gene Expression TOM Dendrogram\")\n",
    "dev.off()\n",
    "\n",
    "dynamic.mods = cutreeDynamic(\n",
    "  dendro=dendrogram, distM=TOM.dist, pamRespectsDendro=FALSE,\n",
    "  minClusterSize = 10\n",
    ")\n",
    "rm(TOM.dist)"
   ]
  },
  {
   "cell_type": "code",
   "execution_count": 55,
   "id": "4caa531b-8661-4a87-81fb-99c8b1a5a548",
   "metadata": {},
   "outputs": [
    {
     "data": {
      "image/png": "[encoded data removed]",
      "text/plain": [
       "Plot with title “Gene Expression TOM Dendrogram”"
      ]
     },
     "metadata": {
      "image/png": {
       "height": 300,
       "width": 480
      }
     },
     "output_type": "display_data"
    }
   ],
   "source": [
    "options(repr.plot.width=8, repr.plot.height=5)\n",
    "\n",
    "plot(dendrogram, labels=FALSE, main=\"Gene Expression TOM Dendrogram\")"
   ]
  },
  {
   "cell_type": "markdown",
   "id": "db6a4936-55aa-4558-b9aa-3570c2ba1523",
   "metadata": {},
   "source": [
    "Here, I merge similar modules based on their module eigengenes. I am merging all modules with a distance of less than 0.1 (a correlation between module eigengenes of greater than 0.9)"
   ]
  },
  {
   "cell_type": "code",
   "execution_count": 56,
   "id": "e5e77bb8-6f8c-4dbd-9255-cb299450cc05",
   "metadata": {},
   "outputs": [],
   "source": [
    "me.data = moduleEigengenes(gene.exp, colors=dynamic.mods)\n",
    "me = me.data$eigengenes\n",
    "me.dist = 1 - cor(me, use=\"p\", method=\"spearman\")\n",
    "me.tree = hclust(as.dist(me.dist), method=\"average\")"
   ]
  },
  {
   "cell_type": "code",
   "execution_count": 57,
   "id": "c360e9e8-1ca7-4fce-89bc-f3aa47e72aa7",
   "metadata": {},
   "outputs": [
    {
     "data": {
      "text/html": [
       "<strong>png:</strong> 2"
      ],
      "text/latex": [
       "\\textbf{png:} 2"
      ],
      "text/markdown": [
       "**png:** 2"
      ],
      "text/plain": [
       "png \n",
       "  2 "
      ]
     },
     "metadata": {},
     "output_type": "display_data"
    }
   ],
   "source": [
    "svg(filename=\"04_Expression/results/initial_module_tree.svg\", width=10, height=6)\n",
    "plot(me.tree, main=\"Clustering of Module Eigengenes\")\n",
    "\n",
    "me.dist.threshold = 0.1\n",
    "abline(h=me.dist.threshold, col=\"firebrick1\")\n",
    "dev.off()"
   ]
  },
  {
   "cell_type": "markdown",
   "id": "88f53444-0ea5-4feb-bd8a-1a30cca47046",
   "metadata": {},
   "source": [
    "![](../results/initial_module_tree.svg)"
   ]
  },
  {
   "cell_type": "code",
   "execution_count": 58,
   "id": "186e14cd-addc-4f54-b694-55434f342849",
   "metadata": {},
   "outputs": [
    {
     "name": "stdout",
     "output_type": "stream",
     "text": [
      " mergeCloseModules: Merging modules whose distance is less than 0.1\n",
      "   Calculating new MEs...\n"
     ]
    }
   ],
   "source": [
    "merge = mergeCloseModules(\n",
    "    gene.exp, \n",
    "    colors=dynamic.mods, \n",
    "    cutHeight=me.dist.threshold,\n",
    "    corOptions=list(use=\"p\", method=\"spearman\")\n",
    ")\n",
    "merge.mods = merge$colors"
   ]
  },
  {
   "cell_type": "markdown",
   "id": "dfbb8895-8656-4de0-a7ce-d3a398c8b270",
   "metadata": {},
   "source": [
    "The merged modules are not labeled by frequency. I refactor the module names to name them in decreasing order. The 0-th module represents unassigned genes and remains 0 regardless of the number of genes in the module."
   ]
  },
  {
   "cell_type": "code",
   "execution_count": 59,
   "id": "3e2a8cf3-32ee-44bc-8ac1-c61735870d47",
   "metadata": {},
   "outputs": [],
   "source": [
    "merge.mods.no.zero = merge.mods[merge.mods != 0]\n",
    "\n",
    "freq.mod.labels = 0:length(table(merge.mods.no.zero))\n",
    "names(freq.mod.labels) = c(\"0\", names(table(merge.mods.no.zero))[order(table(merge.mods.no.zero), decreasing=T)])\n",
    "\n",
    "merge.mods = as.numeric(as.character(plyr::revalue(factor(merge.mods), replace=freq.mod.labels)))"
   ]
  },
  {
   "cell_type": "code",
   "execution_count": 60,
   "id": "8759aa9e-3a21-4719-9813-164e29d11b79",
   "metadata": {},
   "outputs": [
    {
     "data": {
      "text/plain": [
       "merge.mods\n",
       "   0    1    2    3    4    5    6    7    8    9   10   11   12   13   14   15 \n",
       "  45 2977 2537 1640 1486 1443 1306 1244 1069 1061  570  562  554  546  512  451 \n",
       "  16   17   18   19   20   21   22   23   24   25   26   27   28   29   30   31 \n",
       " 373  359  344  332  259  217   97   97   94   85   46   37   25   16   15   13 "
      ]
     },
     "metadata": {},
     "output_type": "display_data"
    }
   ],
   "source": [
    "table(merge.mods)"
   ]
  },
  {
   "cell_type": "markdown",
   "id": "b53045a0-b21a-4f1e-9889-6a7fb6abd80e",
   "metadata": {
    "tags": []
   },
   "source": [
    "## Intra- and Inter-Module Connectivity\n",
    "\n",
    "Connectivity is a measure assigned to each gene that describes how well the gene fits into a certain group of genes. Intra-module connectivity is a measure of how well the gene belongs to the module, Conversely, inter-module connectivity is a measure of how well the gene belongs to all other genes outside the module. Genes that are more \"central\" in the module will tend to have a high intra-module connectivity and a low inter-module connectivity."
   ]
  },
  {
   "cell_type": "code",
   "execution_count": 61,
   "id": "2db95ed7-0cfe-4e09-bd3a-0d85d28b8b91",
   "metadata": {},
   "outputs": [],
   "source": [
    "connectivity <- intramodularConnectivity(TOM.matrix, colors=merge.mods)\n",
    "rownames(connectivity) <- colnames(gene.exp)"
   ]
  },
  {
   "cell_type": "markdown",
   "id": "1558defd-105b-4ef3-a57e-3dac945a0997",
   "metadata": {},
   "source": [
    "## Co-Expression Module Size Distribution"
   ]
  },
  {
   "cell_type": "code",
   "execution_count": 62,
   "id": "ef073dd1-8d75-4af2-b39c-9d3571f8d2dc",
   "metadata": {},
   "outputs": [
    {
     "data": {
      "image/png": "[encoded data removed]",
      "text/plain": [
       "plot without title"
      ]
     },
     "metadata": {
      "image/png": {
       "height": 300,
       "width": 480
      }
     },
     "output_type": "display_data"
    }
   ],
   "source": [
    "plot.data <- as.data.frame(table(merge.mods)) %>%\n",
    "  dplyr::select(Module=1, Frequency=Freq) %>%\n",
    "  dplyr::filter(Module != 0)\n",
    "\n",
    "options(repr.plot.width=8, repr.plot.height=5)\n",
    "\n",
    "ggplot(plot.data) +\n",
    "  geom_col(aes(x=Module, y=Frequency), width=1) +\n",
    "  xlab(\"Module\") + ylab(\"Number of Genes\") +\n",
    "  ggplot_theme +\n",
    "  theme(axis.text.x=element_blank(), axis.ticks.x=element_blank())\n",
    "ggsave(filename=\"04_Expression/results/gene_coexpression_module_sizes.svg\", width=8, height=5)"
   ]
  },
  {
   "cell_type": "markdown",
   "id": "25ee943b-4a8c-4cc9-a718-fc9a2e10b2ac",
   "metadata": {},
   "source": [
    "## Save Gene Co-Expression Modules\n",
    "\n",
    "I save a the list of genes and their assigned modules, the eigengenes, the variance explained by each eigengene, and the connectivity information for each gene.\n",
    "\n",
    "The modules are labelled `Module_1,Module_2,...`. `Module_0` contains genes that were not assigned to any co-expression module by WGCNA and are therefore labelled as `Unassigned`.\n",
    "\n",
    "The eigengene of a given co-expression module is the first principal component of the gene expression for the genes within the module.\n",
    "\n",
    "The variance explained by each eigengene tells us how well the eigengene captures the overall variation found within the module expression data."
   ]
  },
  {
   "cell_type": "code",
   "execution_count": 64,
   "id": "f1fc9723-21f7-4eec-b481-5eaf9b311ea2",
   "metadata": {},
   "outputs": [],
   "source": [
    "### Module Assignment\n",
    "\n",
    "gene.list <- colnames(gene.exp)\n",
    "\n",
    "mod.assignment <- merge.mods\n",
    "mod.labels <- paste0(\"Module_\", mod.assignment)\n",
    "mod.labels[mod.labels == \"Module_0\"] <- \"Unassigned\"\n",
    "\n",
    "modules <- data.frame(\n",
    "  Gene=gene.list,\n",
    "  Module=mod.labels\n",
    ") %>%\n",
    "  dplyr::arrange(Module, Gene)\n",
    "\n",
    "write.csv(modules, \"~/gains_team282/nikhil/expression/gene_expression/modules.csv\", row.names=F)\n",
    "\n",
    "### Eigengenes\n",
    "\n",
    "eigengenes.result <- moduleEigengenes(gene.exp[,mod.labels != \"Unassigned\"], colors=mod.labels[mod.labels != \"Unassigned\"])\n",
    "eigengene.order <- order(as.numeric(sapply(strsplit(colnames(eigengenes.result$eigengenes), \"_\"), function(x) x[2])))\n",
    "\n",
    "eigengenes <- eigengenes.result$eigengenes\n",
    "colnames(eigengenes) <- sapply(strsplit(colnames(eigengenes), \"_\"), function(x) paste0(\"ME_\", x[2]))\n",
    "eigengenes <- eigengenes[,eigengene.order]\n",
    "\n",
    "rownames(eigengenes) <- rownames(gene.exp)\n",
    "\n",
    "write.csv(eigengenes, \"~/gains_team282/nikhil/expression/gene_expression/eigengenes.csv\")\n",
    "\n",
    "variance.explained <- data.frame(\n",
    "  Module=colnames(eigengenes),\n",
    "  Var.Explained=t(eigengenes.result$varExplained[eigengene.order])[,1]\n",
    ")\n",
    "\n",
    "write.csv(variance.explained, \"~/gains_team282/nikhil/expression/gene_expression/variance.explained.csv\", row.names=F)\n",
    "\n",
    "### Connectivity\n",
    "\n",
    "connectivity <- connectivity[modules$Gene,]\n",
    "connectivity <- cbind(connectivity, modules$Module)\n",
    "colnames(connectivity)[ncol(connectivity)] <- \"Module\"\n",
    "\n",
    "write.csv(connectivity, \"~/gains_team282/nikhil/expression/gene_expression/connectivity.csv\")"
   ]
  },
  {
   "cell_type": "code",
   "execution_count": null,
   "id": "d60e3b95-487a-4379-9521-750f387fae57",
   "metadata": {},
   "outputs": [],
   "source": []
  }
 ],
 "metadata": {
  "kernelspec": {
   "display_name": "R",
   "language": "R",
   "name": "ir"
  },
  "language_info": {
   "codemirror_mode": "r",
   "file_extension": ".r",
   "mimetype": "text/x-r-source",
   "name": "R",
   "pygments_lexer": "r",
   "version": "4.0.5"
  }
 },
 "nbformat": 4,
 "nbformat_minor": 5
}
