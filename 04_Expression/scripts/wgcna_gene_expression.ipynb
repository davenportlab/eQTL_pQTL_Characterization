{
 "cells": [
  {
   "cell_type": "markdown",
   "id": "d066ff06-5454-4c8c-8f8c-d8b597785a96",
   "metadata": {},
   "source": [
    "# WGCNA Analysis of Genes\n",
    "\n",
    "**Created**: 14 October 2021"
   ]
  },
  {
   "cell_type": "markdown",
   "id": "96ad2e64-7acc-4c9a-bb2f-f03be415328b",
   "metadata": {},
   "source": [
    "## Environment"
   ]
  },
  {
   "cell_type": "code",
   "execution_count": 1,
   "id": "b559919c-d7aa-4804-b9f4-7ed037574346",
   "metadata": {},
   "outputs": [
    {
     "name": "stderr",
     "output_type": "stream",
     "text": [
      "Loading required package: dynamicTreeCut\n",
      "\n",
      "Loading required package: fastcluster\n",
      "\n",
      "\n",
      "Attaching package: ‘fastcluster’\n",
      "\n",
      "\n",
      "The following object is masked from ‘package:stats’:\n",
      "\n",
      "    hclust\n",
      "\n",
      "\n",
      "\n",
      "\n",
      "\n",
      "Attaching package: ‘WGCNA’\n",
      "\n",
      "\n",
      "The following object is masked from ‘package:stats’:\n",
      "\n",
      "    cor\n",
      "\n",
      "\n",
      "── \u001b[1mAttaching packages\u001b[22m ────────────────────────────────────────────────────────────────────────────────────────────────────────── tidyverse 1.3.1 ──\n",
      "\n",
      "\u001b[32m✔\u001b[39m \u001b[34mggplot2\u001b[39m 3.3.5     \u001b[32m✔\u001b[39m \u001b[34mpurrr  \u001b[39m 0.3.4\n",
      "\u001b[32m✔\u001b[39m \u001b[34mtibble \u001b[39m 3.1.6     \u001b[32m✔\u001b[39m \u001b[34mdplyr  \u001b[39m 1.0.7\n",
      "\u001b[32m✔\u001b[39m \u001b[34mtidyr  \u001b[39m 1.1.4     \u001b[32m✔\u001b[39m \u001b[34mstringr\u001b[39m 1.4.0\n",
      "\u001b[32m✔\u001b[39m \u001b[34mreadr  \u001b[39m 2.1.0     \u001b[32m✔\u001b[39m \u001b[34mforcats\u001b[39m 0.5.1\n",
      "\n",
      "── \u001b[1mConflicts\u001b[22m ───────────────────────────────────────────────────────────────────────────────────────────────────────────── tidyverse_conflicts() ──\n",
      "\u001b[31m✖\u001b[39m \u001b[34mdplyr\u001b[39m::\u001b[32mfilter()\u001b[39m masks \u001b[34mstats\u001b[39m::filter()\n",
      "\u001b[31m✖\u001b[39m \u001b[34mdplyr\u001b[39m::\u001b[32mlag()\u001b[39m    masks \u001b[34mstats\u001b[39m::lag()\n",
      "\n"
     ]
    }
   ],
   "source": [
    "rm(list=ls())\n",
    "\n",
    "library(WGCNA)\n",
    "library(tidyverse)\n",
    "library(RColorBrewer)\n",
    "\n",
    "options(stringsAsFactors = FALSE)\n",
    "\n",
    "setwd(\"~/eQTL_pQTL_Characterization/\")\n",
    "\n",
    "source(\"04_Expression/scripts/utils/ggplot_theme.R\")"
   ]
  },
  {
   "cell_type": "markdown",
   "id": "4d328fb4-974f-4ca1-ad4f-edefa4df3938",
   "metadata": {},
   "source": [
    "## Load Data"
   ]
  },
  {
   "cell_type": "code",
   "execution_count": 2,
   "id": "5b6c9873-aabc-4581-aab7-884d7ec596d1",
   "metadata": {},
   "outputs": [],
   "source": [
    "gene.exp <- read.table(\"/nfs/team282/data/gains_team282/Logcpm_864_20416.txt\")\n",
    "gene.info <- read.table(\"/nfs/team282/data/gains_team282/Gene_info_864_20416.txt\")\n",
    "sample.info <- read.table(\"/nfs/team282/data/gains_team282/Sample_info_864.txt\")\n",
    "sample.key <- read.table(\"/nfs/team282/data/gains_team282/Sample_key.txt\", header=T)\n",
    "\n",
    "gene.exp <- as.data.frame(t(gene.exp))"
   ]
  },
  {
   "cell_type": "code",
   "execution_count": 3,
   "id": "b1848d7f-56bf-4b3c-a1fd-ab6431145ba5",
   "metadata": {},
   "outputs": [
    {
     "data": {
      "text/html": [
       "<table class=\"dataframe\">\n",
       "<caption>A data.frame: 6 × 20416</caption>\n",
       "<thead>\n",
       "\t<tr><th></th><th scope=col>ENSG00000000003</th><th scope=col>ENSG00000000419</th><th scope=col>ENSG00000000457</th><th scope=col>ENSG00000000460</th><th scope=col>ENSG00000000938</th><th scope=col>ENSG00000000971</th><th scope=col>ENSG00000001036</th><th scope=col>ENSG00000001084</th><th scope=col>ENSG00000001167</th><th scope=col>ENSG00000001460</th><th scope=col>⋯</th><th scope=col>ENSG00000288253</th><th scope=col>ENSG00000288302</th><th scope=col>ENSG00000288349</th><th scope=col>ENSG00000288393</th><th scope=col>ENSG00000288398</th><th scope=col>ENSG00000288538</th><th scope=col>ENSG00000288559</th><th scope=col>ENSG00000288562</th><th scope=col>ENSG00000288573</th><th scope=col>ENSG00000288582</th></tr>\n",
       "\t<tr><th></th><th scope=col>&lt;dbl&gt;</th><th scope=col>&lt;dbl&gt;</th><th scope=col>&lt;dbl&gt;</th><th scope=col>&lt;dbl&gt;</th><th scope=col>&lt;dbl&gt;</th><th scope=col>&lt;dbl&gt;</th><th scope=col>&lt;dbl&gt;</th><th scope=col>&lt;dbl&gt;</th><th scope=col>&lt;dbl&gt;</th><th scope=col>&lt;dbl&gt;</th><th scope=col>⋯</th><th scope=col>&lt;dbl&gt;</th><th scope=col>&lt;dbl&gt;</th><th scope=col>&lt;dbl&gt;</th><th scope=col>&lt;dbl&gt;</th><th scope=col>&lt;dbl&gt;</th><th scope=col>&lt;dbl&gt;</th><th scope=col>&lt;dbl&gt;</th><th scope=col>&lt;dbl&gt;</th><th scope=col>&lt;dbl&gt;</th><th scope=col>&lt;dbl&gt;</th></tr>\n",
       "</thead>\n",
       "<tbody>\n",
       "\t<tr><th scope=row>UK02270173_3</th><td>0.34012821</td><td>4.898920</td><td>4.465997</td><td>1.822869</td><td> 9.581159</td><td>1.3758538</td><td>4.186578</td><td>3.488499</td><td>5.805762</td><td>1.0618773</td><td>⋯</td><td>0.5211096</td><td>1.2928966</td><td>0.5211096</td><td>0.92165487</td><td>1.127188</td><td>1.1271881</td><td>0.9399463</td><td>0.86534652</td><td>0.3123157</td><td>2.801152</td></tr>\n",
       "\t<tr><th scope=row>UK15130120_3</th><td>0.06630101</td><td>4.706715</td><td>3.924020</td><td>1.478760</td><td>10.095049</td><td>1.7447793</td><td>4.663194</td><td>3.231836</td><td>4.363694</td><td>1.3247639</td><td>⋯</td><td>0.5091977</td><td>1.7346214</td><td>0.4851631</td><td>0.06630101</td><td>1.852036</td><td>0.6455584</td><td>0.9210902</td><td>0.06630101</td><td>0.2198352</td><td>3.332929</td></tr>\n",
       "\t<tr><th scope=row>UK58000006_3</th><td>0.21554396</td><td>4.809392</td><td>4.470798</td><td>2.311528</td><td>10.141189</td><td>0.8001246</td><td>4.677520</td><td>3.731074</td><td>5.832399</td><td>1.2544840</td><td>⋯</td><td>0.2934862</td><td>1.5206702</td><td>0.6302951</td><td>0.66002490</td><td>1.311795</td><td>1.4712176</td><td>1.0224079</td><td>0.29348619</td><td>0.1331492</td><td>4.004558</td></tr>\n",
       "\t<tr><th scope=row>UK47010004_3</th><td>0.10881599</td><td>4.691238</td><td>4.382662</td><td>1.933702</td><td>10.962529</td><td>1.6210960</td><td>4.028219</td><td>3.064233</td><td>5.396777</td><td>1.2454960</td><td>⋯</td><td>0.3045445</td><td>0.9561419</td><td>1.0948926</td><td>0.30454451</td><td>1.146860</td><td>1.8421000</td><td>0.7698445</td><td>0.25804514</td><td>0.1088160</td><td>2.616230</td></tr>\n",
       "\t<tr><th scope=row>UK42020088_5</th><td>0.22147316</td><td>4.748680</td><td>4.353763</td><td>1.908556</td><td>10.818277</td><td>0.7343902</td><td>4.134153</td><td>3.070422</td><td>5.287726</td><td>0.7908250</td><td>⋯</td><td>0.0927073</td><td>1.2187119</td><td>0.6756576</td><td>0.13691861</td><td>1.089688</td><td>2.0654798</td><td>0.8182356</td><td>0.04709819</td><td>0.2214732</td><td>2.436579</td></tr>\n",
       "\t<tr><th scope=row>UK47490007_3</th><td>0.32285107</td><td>4.811800</td><td>4.287130</td><td>1.404965</td><td>10.444919</td><td>1.9102720</td><td>4.045597</td><td>2.944848</td><td>5.198537</td><td>0.7490989</td><td>⋯</td><td>0.5159574</td><td>2.0290134</td><td>1.2176383</td><td>0.36359557</td><td>1.239695</td><td>0.7795298</td><td>0.6205193</td><td>1.05301187</td><td>0.0998434</td><td>3.862273</td></tr>\n",
       "</tbody>\n",
       "</table>\n"
      ],
      "text/latex": [
       "A data.frame: 6 × 20416\n",
       "\\begin{tabular}{r|lllllllllllllllllllll}\n",
       "  & ENSG00000000003 & ENSG00000000419 & ENSG00000000457 & ENSG00000000460 & ENSG00000000938 & ENSG00000000971 & ENSG00000001036 & ENSG00000001084 & ENSG00000001167 & ENSG00000001460 & ⋯ & ENSG00000288253 & ENSG00000288302 & ENSG00000288349 & ENSG00000288393 & ENSG00000288398 & ENSG00000288538 & ENSG00000288559 & ENSG00000288562 & ENSG00000288573 & ENSG00000288582\\\\\n",
       "  & <dbl> & <dbl> & <dbl> & <dbl> & <dbl> & <dbl> & <dbl> & <dbl> & <dbl> & <dbl> & ⋯ & <dbl> & <dbl> & <dbl> & <dbl> & <dbl> & <dbl> & <dbl> & <dbl> & <dbl> & <dbl>\\\\\n",
       "\\hline\n",
       "\tUK02270173\\_3 & 0.34012821 & 4.898920 & 4.465997 & 1.822869 &  9.581159 & 1.3758538 & 4.186578 & 3.488499 & 5.805762 & 1.0618773 & ⋯ & 0.5211096 & 1.2928966 & 0.5211096 & 0.92165487 & 1.127188 & 1.1271881 & 0.9399463 & 0.86534652 & 0.3123157 & 2.801152\\\\\n",
       "\tUK15130120\\_3 & 0.06630101 & 4.706715 & 3.924020 & 1.478760 & 10.095049 & 1.7447793 & 4.663194 & 3.231836 & 4.363694 & 1.3247639 & ⋯ & 0.5091977 & 1.7346214 & 0.4851631 & 0.06630101 & 1.852036 & 0.6455584 & 0.9210902 & 0.06630101 & 0.2198352 & 3.332929\\\\\n",
       "\tUK58000006\\_3 & 0.21554396 & 4.809392 & 4.470798 & 2.311528 & 10.141189 & 0.8001246 & 4.677520 & 3.731074 & 5.832399 & 1.2544840 & ⋯ & 0.2934862 & 1.5206702 & 0.6302951 & 0.66002490 & 1.311795 & 1.4712176 & 1.0224079 & 0.29348619 & 0.1331492 & 4.004558\\\\\n",
       "\tUK47010004\\_3 & 0.10881599 & 4.691238 & 4.382662 & 1.933702 & 10.962529 & 1.6210960 & 4.028219 & 3.064233 & 5.396777 & 1.2454960 & ⋯ & 0.3045445 & 0.9561419 & 1.0948926 & 0.30454451 & 1.146860 & 1.8421000 & 0.7698445 & 0.25804514 & 0.1088160 & 2.616230\\\\\n",
       "\tUK42020088\\_5 & 0.22147316 & 4.748680 & 4.353763 & 1.908556 & 10.818277 & 0.7343902 & 4.134153 & 3.070422 & 5.287726 & 0.7908250 & ⋯ & 0.0927073 & 1.2187119 & 0.6756576 & 0.13691861 & 1.089688 & 2.0654798 & 0.8182356 & 0.04709819 & 0.2214732 & 2.436579\\\\\n",
       "\tUK47490007\\_3 & 0.32285107 & 4.811800 & 4.287130 & 1.404965 & 10.444919 & 1.9102720 & 4.045597 & 2.944848 & 5.198537 & 0.7490989 & ⋯ & 0.5159574 & 2.0290134 & 1.2176383 & 0.36359557 & 1.239695 & 0.7795298 & 0.6205193 & 1.05301187 & 0.0998434 & 3.862273\\\\\n",
       "\\end{tabular}\n"
      ],
      "text/markdown": [
       "\n",
       "A data.frame: 6 × 20416\n",
       "\n",
       "| <!--/--> | ENSG00000000003 &lt;dbl&gt; | ENSG00000000419 &lt;dbl&gt; | ENSG00000000457 &lt;dbl&gt; | ENSG00000000460 &lt;dbl&gt; | ENSG00000000938 &lt;dbl&gt; | ENSG00000000971 &lt;dbl&gt; | ENSG00000001036 &lt;dbl&gt; | ENSG00000001084 &lt;dbl&gt; | ENSG00000001167 &lt;dbl&gt; | ENSG00000001460 &lt;dbl&gt; | ⋯ ⋯ | ENSG00000288253 &lt;dbl&gt; | ENSG00000288302 &lt;dbl&gt; | ENSG00000288349 &lt;dbl&gt; | ENSG00000288393 &lt;dbl&gt; | ENSG00000288398 &lt;dbl&gt; | ENSG00000288538 &lt;dbl&gt; | ENSG00000288559 &lt;dbl&gt; | ENSG00000288562 &lt;dbl&gt; | ENSG00000288573 &lt;dbl&gt; | ENSG00000288582 &lt;dbl&gt; |\n",
       "|---|---|---|---|---|---|---|---|---|---|---|---|---|---|---|---|---|---|---|---|---|---|\n",
       "| UK02270173_3 | 0.34012821 | 4.898920 | 4.465997 | 1.822869 |  9.581159 | 1.3758538 | 4.186578 | 3.488499 | 5.805762 | 1.0618773 | ⋯ | 0.5211096 | 1.2928966 | 0.5211096 | 0.92165487 | 1.127188 | 1.1271881 | 0.9399463 | 0.86534652 | 0.3123157 | 2.801152 |\n",
       "| UK15130120_3 | 0.06630101 | 4.706715 | 3.924020 | 1.478760 | 10.095049 | 1.7447793 | 4.663194 | 3.231836 | 4.363694 | 1.3247639 | ⋯ | 0.5091977 | 1.7346214 | 0.4851631 | 0.06630101 | 1.852036 | 0.6455584 | 0.9210902 | 0.06630101 | 0.2198352 | 3.332929 |\n",
       "| UK58000006_3 | 0.21554396 | 4.809392 | 4.470798 | 2.311528 | 10.141189 | 0.8001246 | 4.677520 | 3.731074 | 5.832399 | 1.2544840 | ⋯ | 0.2934862 | 1.5206702 | 0.6302951 | 0.66002490 | 1.311795 | 1.4712176 | 1.0224079 | 0.29348619 | 0.1331492 | 4.004558 |\n",
       "| UK47010004_3 | 0.10881599 | 4.691238 | 4.382662 | 1.933702 | 10.962529 | 1.6210960 | 4.028219 | 3.064233 | 5.396777 | 1.2454960 | ⋯ | 0.3045445 | 0.9561419 | 1.0948926 | 0.30454451 | 1.146860 | 1.8421000 | 0.7698445 | 0.25804514 | 0.1088160 | 2.616230 |\n",
       "| UK42020088_5 | 0.22147316 | 4.748680 | 4.353763 | 1.908556 | 10.818277 | 0.7343902 | 4.134153 | 3.070422 | 5.287726 | 0.7908250 | ⋯ | 0.0927073 | 1.2187119 | 0.6756576 | 0.13691861 | 1.089688 | 2.0654798 | 0.8182356 | 0.04709819 | 0.2214732 | 2.436579 |\n",
       "| UK47490007_3 | 0.32285107 | 4.811800 | 4.287130 | 1.404965 | 10.444919 | 1.9102720 | 4.045597 | 2.944848 | 5.198537 | 0.7490989 | ⋯ | 0.5159574 | 2.0290134 | 1.2176383 | 0.36359557 | 1.239695 | 0.7795298 | 0.6205193 | 1.05301187 | 0.0998434 | 3.862273 |\n",
       "\n"
      ],
      "text/plain": [
       "             ENSG00000000003 ENSG00000000419 ENSG00000000457 ENSG00000000460\n",
       "UK02270173_3 0.34012821      4.898920        4.465997        1.822869       \n",
       "UK15130120_3 0.06630101      4.706715        3.924020        1.478760       \n",
       "UK58000006_3 0.21554396      4.809392        4.470798        2.311528       \n",
       "UK47010004_3 0.10881599      4.691238        4.382662        1.933702       \n",
       "UK42020088_5 0.22147316      4.748680        4.353763        1.908556       \n",
       "UK47490007_3 0.32285107      4.811800        4.287130        1.404965       \n",
       "             ENSG00000000938 ENSG00000000971 ENSG00000001036 ENSG00000001084\n",
       "UK02270173_3  9.581159       1.3758538       4.186578        3.488499       \n",
       "UK15130120_3 10.095049       1.7447793       4.663194        3.231836       \n",
       "UK58000006_3 10.141189       0.8001246       4.677520        3.731074       \n",
       "UK47010004_3 10.962529       1.6210960       4.028219        3.064233       \n",
       "UK42020088_5 10.818277       0.7343902       4.134153        3.070422       \n",
       "UK47490007_3 10.444919       1.9102720       4.045597        2.944848       \n",
       "             ENSG00000001167 ENSG00000001460 ⋯ ENSG00000288253 ENSG00000288302\n",
       "UK02270173_3 5.805762        1.0618773       ⋯ 0.5211096       1.2928966      \n",
       "UK15130120_3 4.363694        1.3247639       ⋯ 0.5091977       1.7346214      \n",
       "UK58000006_3 5.832399        1.2544840       ⋯ 0.2934862       1.5206702      \n",
       "UK47010004_3 5.396777        1.2454960       ⋯ 0.3045445       0.9561419      \n",
       "UK42020088_5 5.287726        0.7908250       ⋯ 0.0927073       1.2187119      \n",
       "UK47490007_3 5.198537        0.7490989       ⋯ 0.5159574       2.0290134      \n",
       "             ENSG00000288349 ENSG00000288393 ENSG00000288398 ENSG00000288538\n",
       "UK02270173_3 0.5211096       0.92165487      1.127188        1.1271881      \n",
       "UK15130120_3 0.4851631       0.06630101      1.852036        0.6455584      \n",
       "UK58000006_3 0.6302951       0.66002490      1.311795        1.4712176      \n",
       "UK47010004_3 1.0948926       0.30454451      1.146860        1.8421000      \n",
       "UK42020088_5 0.6756576       0.13691861      1.089688        2.0654798      \n",
       "UK47490007_3 1.2176383       0.36359557      1.239695        0.7795298      \n",
       "             ENSG00000288559 ENSG00000288562 ENSG00000288573 ENSG00000288582\n",
       "UK02270173_3 0.9399463       0.86534652      0.3123157       2.801152       \n",
       "UK15130120_3 0.9210902       0.06630101      0.2198352       3.332929       \n",
       "UK58000006_3 1.0224079       0.29348619      0.1331492       4.004558       \n",
       "UK47010004_3 0.7698445       0.25804514      0.1088160       2.616230       \n",
       "UK42020088_5 0.8182356       0.04709819      0.2214732       2.436579       \n",
       "UK47490007_3 0.6205193       1.05301187      0.0998434       3.862273       "
      ]
     },
     "metadata": {},
     "output_type": "display_data"
    }
   ],
   "source": [
    "head(gene.exp)"
   ]
  },
  {
   "cell_type": "code",
   "execution_count": 4,
   "id": "a477ea4b-2d60-417f-8e09-a52ac856358a",
   "metadata": {},
   "outputs": [
    {
     "data": {
      "text/html": [
       "<style>\n",
       ".list-inline {list-style: none; margin:0; padding: 0}\n",
       ".list-inline>li {display: inline-block}\n",
       ".list-inline>li:not(:last-child)::after {content: \"\\00b7\"; padding: 0 .5ex}\n",
       "</style>\n",
       "<ol class=list-inline><li>864</li><li>20416</li></ol>\n"
      ],
      "text/latex": [
       "\\begin{enumerate*}\n",
       "\\item 864\n",
       "\\item 20416\n",
       "\\end{enumerate*}\n"
      ],
      "text/markdown": [
       "1. 864\n",
       "2. 20416\n",
       "\n",
       "\n"
      ],
      "text/plain": [
       "[1]   864 20416"
      ]
     },
     "metadata": {},
     "output_type": "display_data"
    }
   ],
   "source": [
    "dim(gene.exp)"
   ]
  },
  {
   "cell_type": "code",
   "execution_count": 5,
   "id": "4f117cf0-c75c-4440-b1f3-089b8590757f",
   "metadata": {},
   "outputs": [
    {
     "data": {
      "text/html": [
       "<table class=\"dataframe\">\n",
       "<caption>A data.frame: 6 × 27</caption>\n",
       "<thead>\n",
       "\t<tr><th></th><th scope=col>seqnames</th><th scope=col>start</th><th scope=col>end</th><th scope=col>width</th><th scope=col>strand</th><th scope=col>source</th><th scope=col>type</th><th scope=col>score</th><th scope=col>phase</th><th scope=col>gene_id</th><th scope=col>⋯</th><th scope=col>transcript_source</th><th scope=col>transcript_biotype</th><th scope=col>tag</th><th scope=col>transcript_support_level</th><th scope=col>exon_number</th><th scope=col>exon_id</th><th scope=col>exon_version</th><th scope=col>protein_id</th><th scope=col>protein_version</th><th scope=col>ccds_id</th></tr>\n",
       "\t<tr><th></th><th scope=col>&lt;chr&gt;</th><th scope=col>&lt;int&gt;</th><th scope=col>&lt;int&gt;</th><th scope=col>&lt;int&gt;</th><th scope=col>&lt;chr&gt;</th><th scope=col>&lt;chr&gt;</th><th scope=col>&lt;chr&gt;</th><th scope=col>&lt;lgl&gt;</th><th scope=col>&lt;lgl&gt;</th><th scope=col>&lt;chr&gt;</th><th scope=col>⋯</th><th scope=col>&lt;lgl&gt;</th><th scope=col>&lt;lgl&gt;</th><th scope=col>&lt;lgl&gt;</th><th scope=col>&lt;lgl&gt;</th><th scope=col>&lt;lgl&gt;</th><th scope=col>&lt;lgl&gt;</th><th scope=col>&lt;lgl&gt;</th><th scope=col>&lt;lgl&gt;</th><th scope=col>&lt;lgl&gt;</th><th scope=col>&lt;lgl&gt;</th></tr>\n",
       "</thead>\n",
       "<tbody>\n",
       "\t<tr><th scope=row>1248375</th><td>X </td><td>100627108</td><td>100639991</td><td> 12884</td><td>-</td><td>ensembl_havana</td><td>gene</td><td>NA</td><td>NA</td><td>ENSG00000000003</td><td>⋯</td><td>NA</td><td>NA</td><td>NA</td><td>NA</td><td>NA</td><td>NA</td><td>NA</td><td>NA</td><td>NA</td><td>NA</td></tr>\n",
       "\t<tr><th scope=row>2612838</th><td>20</td><td> 50934867</td><td> 50958555</td><td> 23689</td><td>-</td><td>ensembl_havana</td><td>gene</td><td>NA</td><td>NA</td><td>ENSG00000000419</td><td>⋯</td><td>NA</td><td>NA</td><td>NA</td><td>NA</td><td>NA</td><td>NA</td><td>NA</td><td>NA</td><td>NA</td><td>NA</td></tr>\n",
       "\t<tr><th scope=row>198068</th><td>1 </td><td>169849631</td><td>169894267</td><td> 44637</td><td>-</td><td>ensembl_havana</td><td>gene</td><td>NA</td><td>NA</td><td>ENSG00000000457</td><td>⋯</td><td>NA</td><td>NA</td><td>NA</td><td>NA</td><td>NA</td><td>NA</td><td>NA</td><td>NA</td><td>NA</td><td>NA</td></tr>\n",
       "\t<tr><th scope=row>197489</th><td>1 </td><td>169662007</td><td>169854080</td><td>192074</td><td>+</td><td>ensembl_havana</td><td>gene</td><td>NA</td><td>NA</td><td>ENSG00000000460</td><td>⋯</td><td>NA</td><td>NA</td><td>NA</td><td>NA</td><td>NA</td><td>NA</td><td>NA</td><td>NA</td><td>NA</td><td>NA</td></tr>\n",
       "\t<tr><th scope=row>46865</th><td>1 </td><td> 27612064</td><td> 27635185</td><td> 23122</td><td>-</td><td>ensembl_havana</td><td>gene</td><td>NA</td><td>NA</td><td>ENSG00000000938</td><td>⋯</td><td>NA</td><td>NA</td><td>NA</td><td>NA</td><td>NA</td><td>NA</td><td>NA</td><td>NA</td><td>NA</td><td>NA</td></tr>\n",
       "\t<tr><th scope=row>213754</th><td>1 </td><td>196652043</td><td>196747504</td><td> 95462</td><td>+</td><td>ensembl_havana</td><td>gene</td><td>NA</td><td>NA</td><td>ENSG00000000971</td><td>⋯</td><td>NA</td><td>NA</td><td>NA</td><td>NA</td><td>NA</td><td>NA</td><td>NA</td><td>NA</td><td>NA</td><td>NA</td></tr>\n",
       "</tbody>\n",
       "</table>\n"
      ],
      "text/latex": [
       "A data.frame: 6 × 27\n",
       "\\begin{tabular}{r|lllllllllllllllllllll}\n",
       "  & seqnames & start & end & width & strand & source & type & score & phase & gene\\_id & ⋯ & transcript\\_source & transcript\\_biotype & tag & transcript\\_support\\_level & exon\\_number & exon\\_id & exon\\_version & protein\\_id & protein\\_version & ccds\\_id\\\\\n",
       "  & <chr> & <int> & <int> & <int> & <chr> & <chr> & <chr> & <lgl> & <lgl> & <chr> & ⋯ & <lgl> & <lgl> & <lgl> & <lgl> & <lgl> & <lgl> & <lgl> & <lgl> & <lgl> & <lgl>\\\\\n",
       "\\hline\n",
       "\t1248375 & X  & 100627108 & 100639991 &  12884 & - & ensembl\\_havana & gene & NA & NA & ENSG00000000003 & ⋯ & NA & NA & NA & NA & NA & NA & NA & NA & NA & NA\\\\\n",
       "\t2612838 & 20 &  50934867 &  50958555 &  23689 & - & ensembl\\_havana & gene & NA & NA & ENSG00000000419 & ⋯ & NA & NA & NA & NA & NA & NA & NA & NA & NA & NA\\\\\n",
       "\t198068 & 1  & 169849631 & 169894267 &  44637 & - & ensembl\\_havana & gene & NA & NA & ENSG00000000457 & ⋯ & NA & NA & NA & NA & NA & NA & NA & NA & NA & NA\\\\\n",
       "\t197489 & 1  & 169662007 & 169854080 & 192074 & + & ensembl\\_havana & gene & NA & NA & ENSG00000000460 & ⋯ & NA & NA & NA & NA & NA & NA & NA & NA & NA & NA\\\\\n",
       "\t46865 & 1  &  27612064 &  27635185 &  23122 & - & ensembl\\_havana & gene & NA & NA & ENSG00000000938 & ⋯ & NA & NA & NA & NA & NA & NA & NA & NA & NA & NA\\\\\n",
       "\t213754 & 1  & 196652043 & 196747504 &  95462 & + & ensembl\\_havana & gene & NA & NA & ENSG00000000971 & ⋯ & NA & NA & NA & NA & NA & NA & NA & NA & NA & NA\\\\\n",
       "\\end{tabular}\n"
      ],
      "text/markdown": [
       "\n",
       "A data.frame: 6 × 27\n",
       "\n",
       "| <!--/--> | seqnames &lt;chr&gt; | start &lt;int&gt; | end &lt;int&gt; | width &lt;int&gt; | strand &lt;chr&gt; | source &lt;chr&gt; | type &lt;chr&gt; | score &lt;lgl&gt; | phase &lt;lgl&gt; | gene_id &lt;chr&gt; | ⋯ ⋯ | transcript_source &lt;lgl&gt; | transcript_biotype &lt;lgl&gt; | tag &lt;lgl&gt; | transcript_support_level &lt;lgl&gt; | exon_number &lt;lgl&gt; | exon_id &lt;lgl&gt; | exon_version &lt;lgl&gt; | protein_id &lt;lgl&gt; | protein_version &lt;lgl&gt; | ccds_id &lt;lgl&gt; |\n",
       "|---|---|---|---|---|---|---|---|---|---|---|---|---|---|---|---|---|---|---|---|---|---|\n",
       "| 1248375 | X  | 100627108 | 100639991 |  12884 | - | ensembl_havana | gene | NA | NA | ENSG00000000003 | ⋯ | NA | NA | NA | NA | NA | NA | NA | NA | NA | NA |\n",
       "| 2612838 | 20 |  50934867 |  50958555 |  23689 | - | ensembl_havana | gene | NA | NA | ENSG00000000419 | ⋯ | NA | NA | NA | NA | NA | NA | NA | NA | NA | NA |\n",
       "| 198068 | 1  | 169849631 | 169894267 |  44637 | - | ensembl_havana | gene | NA | NA | ENSG00000000457 | ⋯ | NA | NA | NA | NA | NA | NA | NA | NA | NA | NA |\n",
       "| 197489 | 1  | 169662007 | 169854080 | 192074 | + | ensembl_havana | gene | NA | NA | ENSG00000000460 | ⋯ | NA | NA | NA | NA | NA | NA | NA | NA | NA | NA |\n",
       "| 46865 | 1  |  27612064 |  27635185 |  23122 | - | ensembl_havana | gene | NA | NA | ENSG00000000938 | ⋯ | NA | NA | NA | NA | NA | NA | NA | NA | NA | NA |\n",
       "| 213754 | 1  | 196652043 | 196747504 |  95462 | + | ensembl_havana | gene | NA | NA | ENSG00000000971 | ⋯ | NA | NA | NA | NA | NA | NA | NA | NA | NA | NA |\n",
       "\n"
      ],
      "text/plain": [
       "        seqnames start     end       width  strand source         type score\n",
       "1248375 X        100627108 100639991  12884 -      ensembl_havana gene NA   \n",
       "2612838 20        50934867  50958555  23689 -      ensembl_havana gene NA   \n",
       "198068  1        169849631 169894267  44637 -      ensembl_havana gene NA   \n",
       "197489  1        169662007 169854080 192074 +      ensembl_havana gene NA   \n",
       "46865   1         27612064  27635185  23122 -      ensembl_havana gene NA   \n",
       "213754  1        196652043 196747504  95462 +      ensembl_havana gene NA   \n",
       "        phase gene_id         ⋯ transcript_source transcript_biotype tag\n",
       "1248375 NA    ENSG00000000003 ⋯ NA                NA                 NA \n",
       "2612838 NA    ENSG00000000419 ⋯ NA                NA                 NA \n",
       "198068  NA    ENSG00000000457 ⋯ NA                NA                 NA \n",
       "197489  NA    ENSG00000000460 ⋯ NA                NA                 NA \n",
       "46865   NA    ENSG00000000938 ⋯ NA                NA                 NA \n",
       "213754  NA    ENSG00000000971 ⋯ NA                NA                 NA \n",
       "        transcript_support_level exon_number exon_id exon_version protein_id\n",
       "1248375 NA                       NA          NA      NA           NA        \n",
       "2612838 NA                       NA          NA      NA           NA        \n",
       "198068  NA                       NA          NA      NA           NA        \n",
       "197489  NA                       NA          NA      NA           NA        \n",
       "46865   NA                       NA          NA      NA           NA        \n",
       "213754  NA                       NA          NA      NA           NA        \n",
       "        protein_version ccds_id\n",
       "1248375 NA              NA     \n",
       "2612838 NA              NA     \n",
       "198068  NA              NA     \n",
       "197489  NA              NA     \n",
       "46865   NA              NA     \n",
       "213754  NA              NA     "
      ]
     },
     "metadata": {},
     "output_type": "display_data"
    }
   ],
   "source": [
    "head(gene.info)"
   ]
  },
  {
   "cell_type": "code",
   "execution_count": 6,
   "id": "b5d8df7b-eff0-49bb-ab85-c5f5b0e30c4e",
   "metadata": {},
   "outputs": [
    {
     "data": {
      "text/html": [
       "<style>\n",
       ".list-inline {list-style: none; margin:0; padding: 0}\n",
       ".list-inline>li {display: inline-block}\n",
       ".list-inline>li:not(:last-child)::after {content: \"\\00b7\"; padding: 0 .5ex}\n",
       "</style>\n",
       "<ol class=list-inline><li>20416</li><li>27</li></ol>\n"
      ],
      "text/latex": [
       "\\begin{enumerate*}\n",
       "\\item 20416\n",
       "\\item 27\n",
       "\\end{enumerate*}\n"
      ],
      "text/markdown": [
       "1. 20416\n",
       "2. 27\n",
       "\n",
       "\n"
      ],
      "text/plain": [
       "[1] 20416    27"
      ]
     },
     "metadata": {},
     "output_type": "display_data"
    }
   ],
   "source": [
    "dim(gene.info)"
   ]
  },
  {
   "cell_type": "code",
   "execution_count": 7,
   "id": "4baa26ae-d197-4885-8607-7faa40371cc1",
   "metadata": {},
   "outputs": [
    {
     "data": {
      "text/html": [
       "<table class=\"dataframe\">\n",
       "<caption>A data.frame: 6 × 46</caption>\n",
       "<thead>\n",
       "\t<tr><th></th><th scope=col>manual_qc</th><th scope=col>id_study_lims</th><th scope=col>name</th><th scope=col>description</th><th scope=col>sanger_sample_id</th><th scope=col>supplier_name</th><th scope=col>last_updated</th><th scope=col>id_library_lims</th><th scope=col>id_pool_lims</th><th scope=col>id_iseq_flowcell_tmp</th><th scope=col>⋯</th><th scope=col>TIN.mean.</th><th scope=col>TIN.median.</th><th scope=col>TIN.stdev.</th><th scope=col>Concentration</th><th scope=col>num_samples_per_lane</th><th scope=col>SRSUnsup</th><th scope=col>globin_rate_fromcounts</th><th scope=col>PCOutlier</th><th scope=col>OtherOutlier</th><th scope=col>GAinSID</th></tr>\n",
       "\t<tr><th></th><th scope=col>&lt;int&gt;</th><th scope=col>&lt;int&gt;</th><th scope=col>&lt;chr&gt;</th><th scope=col>&lt;chr&gt;</th><th scope=col>&lt;chr&gt;</th><th scope=col>&lt;chr&gt;</th><th scope=col>&lt;chr&gt;</th><th scope=col>&lt;chr&gt;</th><th scope=col>&lt;chr&gt;</th><th scope=col>&lt;int&gt;</th><th scope=col>⋯</th><th scope=col>&lt;dbl&gt;</th><th scope=col>&lt;dbl&gt;</th><th scope=col>&lt;dbl&gt;</th><th scope=col>&lt;dbl&gt;</th><th scope=col>&lt;int&gt;</th><th scope=col>&lt;int&gt;</th><th scope=col>&lt;dbl&gt;</th><th scope=col>&lt;lgl&gt;</th><th scope=col>&lt;lgl&gt;</th><th scope=col>&lt;chr&gt;</th></tr>\n",
       "</thead>\n",
       "<tbody>\n",
       "\t<tr><th scope=row>gains8032857</th><td>1</td><td>5890</td><td>HG_The Genomic Advances in Sepsis (GAinS) RNA-seq</td><td>Total leukocyte RNA</td><td>gains8032857</td><td>UK02270173_3</td><td>2019-09-30 21:01:38</td><td>DN548016D</td><td>NT1557159B</td><td>6930558</td><td>⋯</td><td>69.51307</td><td>76.82800</td><td>23.72743</td><td>116.731</td><td>77</td><td>2</td><td>0.6790401</td><td>FALSE</td><td>FALSE</td><td>UK02270173</td></tr>\n",
       "\t<tr><th scope=row>gains8032858</th><td>1</td><td>5890</td><td>HG_The Genomic Advances in Sepsis (GAinS) RNA-seq</td><td>Total leukocyte RNA</td><td>gains8032858</td><td>UK15130120_3</td><td>2019-09-30 21:01:38</td><td>DN548016D</td><td>NT1557159B</td><td>6930559</td><td>⋯</td><td>65.03706</td><td>71.49895</td><td>24.13243</td><td> 76.185</td><td>77</td><td>2</td><td>0.6826886</td><td>FALSE</td><td>FALSE</td><td>UK15130120</td></tr>\n",
       "\t<tr><th scope=row>gains8032859</th><td>1</td><td>5890</td><td>HG_The Genomic Advances in Sepsis (GAinS) RNA-seq</td><td>Total leukocyte RNA</td><td>gains8032859</td><td>UK58000006_3</td><td>2019-09-30 21:01:38</td><td>DN548016D</td><td>NT1557159B</td><td>6930560</td><td>⋯</td><td>70.85535</td><td>78.07773</td><td>23.24183</td><td> 59.767</td><td>77</td><td>2</td><td>1.4290063</td><td>FALSE</td><td>FALSE</td><td>UK58000006</td></tr>\n",
       "\t<tr><th scope=row>gains8032860</th><td>1</td><td>5890</td><td>HG_The Genomic Advances in Sepsis (GAinS) RNA-seq</td><td>Total leukocyte RNA</td><td>gains8032860</td><td>UK47010004_3</td><td>2019-09-30 21:01:38</td><td>DN548016D</td><td>NT1557159B</td><td>6930561</td><td>⋯</td><td>68.16224</td><td>75.05450</td><td>23.56361</td><td>105.000</td><td>77</td><td>1</td><td>0.9177558</td><td>FALSE</td><td>FALSE</td><td>UK47010004</td></tr>\n",
       "\t<tr><th scope=row>gains8032861</th><td>1</td><td>5890</td><td>HG_The Genomic Advances in Sepsis (GAinS) RNA-seq</td><td>Total leukocyte RNA</td><td>gains8032861</td><td>UK42020088_5</td><td>2019-09-30 21:01:38</td><td>DN548016D</td><td>NT1557159B</td><td>6930562</td><td>⋯</td><td>64.67378</td><td>72.53810</td><td>26.03766</td><td> 87.843</td><td>77</td><td>1</td><td>0.4031685</td><td>FALSE</td><td>FALSE</td><td>UK42020088</td></tr>\n",
       "\t<tr><th scope=row>gains8032862</th><td>1</td><td>5890</td><td>HG_The Genomic Advances in Sepsis (GAinS) RNA-seq</td><td>Total leukocyte RNA</td><td>gains8032862</td><td>UK47490007_3</td><td>2019-09-30 21:01:38</td><td>DN548016D</td><td>NT1557159B</td><td>6930563</td><td>⋯</td><td>62.79935</td><td>68.60305</td><td>24.27960</td><td> 67.484</td><td>77</td><td>2</td><td>1.1993500</td><td>FALSE</td><td>FALSE</td><td>UK47490007</td></tr>\n",
       "</tbody>\n",
       "</table>\n"
      ],
      "text/latex": [
       "A data.frame: 6 × 46\n",
       "\\begin{tabular}{r|lllllllllllllllllllll}\n",
       "  & manual\\_qc & id\\_study\\_lims & name & description & sanger\\_sample\\_id & supplier\\_name & last\\_updated & id\\_library\\_lims & id\\_pool\\_lims & id\\_iseq\\_flowcell\\_tmp & ⋯ & TIN.mean. & TIN.median. & TIN.stdev. & Concentration & num\\_samples\\_per\\_lane & SRSUnsup & globin\\_rate\\_fromcounts & PCOutlier & OtherOutlier & GAinSID\\\\\n",
       "  & <int> & <int> & <chr> & <chr> & <chr> & <chr> & <chr> & <chr> & <chr> & <int> & ⋯ & <dbl> & <dbl> & <dbl> & <dbl> & <int> & <int> & <dbl> & <lgl> & <lgl> & <chr>\\\\\n",
       "\\hline\n",
       "\tgains8032857 & 1 & 5890 & HG\\_The Genomic Advances in Sepsis (GAinS) RNA-seq & Total leukocyte RNA & gains8032857 & UK02270173\\_3 & 2019-09-30 21:01:38 & DN548016D & NT1557159B & 6930558 & ⋯ & 69.51307 & 76.82800 & 23.72743 & 116.731 & 77 & 2 & 0.6790401 & FALSE & FALSE & UK02270173\\\\\n",
       "\tgains8032858 & 1 & 5890 & HG\\_The Genomic Advances in Sepsis (GAinS) RNA-seq & Total leukocyte RNA & gains8032858 & UK15130120\\_3 & 2019-09-30 21:01:38 & DN548016D & NT1557159B & 6930559 & ⋯ & 65.03706 & 71.49895 & 24.13243 &  76.185 & 77 & 2 & 0.6826886 & FALSE & FALSE & UK15130120\\\\\n",
       "\tgains8032859 & 1 & 5890 & HG\\_The Genomic Advances in Sepsis (GAinS) RNA-seq & Total leukocyte RNA & gains8032859 & UK58000006\\_3 & 2019-09-30 21:01:38 & DN548016D & NT1557159B & 6930560 & ⋯ & 70.85535 & 78.07773 & 23.24183 &  59.767 & 77 & 2 & 1.4290063 & FALSE & FALSE & UK58000006\\\\\n",
       "\tgains8032860 & 1 & 5890 & HG\\_The Genomic Advances in Sepsis (GAinS) RNA-seq & Total leukocyte RNA & gains8032860 & UK47010004\\_3 & 2019-09-30 21:01:38 & DN548016D & NT1557159B & 6930561 & ⋯ & 68.16224 & 75.05450 & 23.56361 & 105.000 & 77 & 1 & 0.9177558 & FALSE & FALSE & UK47010004\\\\\n",
       "\tgains8032861 & 1 & 5890 & HG\\_The Genomic Advances in Sepsis (GAinS) RNA-seq & Total leukocyte RNA & gains8032861 & UK42020088\\_5 & 2019-09-30 21:01:38 & DN548016D & NT1557159B & 6930562 & ⋯ & 64.67378 & 72.53810 & 26.03766 &  87.843 & 77 & 1 & 0.4031685 & FALSE & FALSE & UK42020088\\\\\n",
       "\tgains8032862 & 1 & 5890 & HG\\_The Genomic Advances in Sepsis (GAinS) RNA-seq & Total leukocyte RNA & gains8032862 & UK47490007\\_3 & 2019-09-30 21:01:38 & DN548016D & NT1557159B & 6930563 & ⋯ & 62.79935 & 68.60305 & 24.27960 &  67.484 & 77 & 2 & 1.1993500 & FALSE & FALSE & UK47490007\\\\\n",
       "\\end{tabular}\n"
      ],
      "text/markdown": [
       "\n",
       "A data.frame: 6 × 46\n",
       "\n",
       "| <!--/--> | manual_qc &lt;int&gt; | id_study_lims &lt;int&gt; | name &lt;chr&gt; | description &lt;chr&gt; | sanger_sample_id &lt;chr&gt; | supplier_name &lt;chr&gt; | last_updated &lt;chr&gt; | id_library_lims &lt;chr&gt; | id_pool_lims &lt;chr&gt; | id_iseq_flowcell_tmp &lt;int&gt; | ⋯ ⋯ | TIN.mean. &lt;dbl&gt; | TIN.median. &lt;dbl&gt; | TIN.stdev. &lt;dbl&gt; | Concentration &lt;dbl&gt; | num_samples_per_lane &lt;int&gt; | SRSUnsup &lt;int&gt; | globin_rate_fromcounts &lt;dbl&gt; | PCOutlier &lt;lgl&gt; | OtherOutlier &lt;lgl&gt; | GAinSID &lt;chr&gt; |\n",
       "|---|---|---|---|---|---|---|---|---|---|---|---|---|---|---|---|---|---|---|---|---|---|\n",
       "| gains8032857 | 1 | 5890 | HG_The Genomic Advances in Sepsis (GAinS) RNA-seq | Total leukocyte RNA | gains8032857 | UK02270173_3 | 2019-09-30 21:01:38 | DN548016D | NT1557159B | 6930558 | ⋯ | 69.51307 | 76.82800 | 23.72743 | 116.731 | 77 | 2 | 0.6790401 | FALSE | FALSE | UK02270173 |\n",
       "| gains8032858 | 1 | 5890 | HG_The Genomic Advances in Sepsis (GAinS) RNA-seq | Total leukocyte RNA | gains8032858 | UK15130120_3 | 2019-09-30 21:01:38 | DN548016D | NT1557159B | 6930559 | ⋯ | 65.03706 | 71.49895 | 24.13243 |  76.185 | 77 | 2 | 0.6826886 | FALSE | FALSE | UK15130120 |\n",
       "| gains8032859 | 1 | 5890 | HG_The Genomic Advances in Sepsis (GAinS) RNA-seq | Total leukocyte RNA | gains8032859 | UK58000006_3 | 2019-09-30 21:01:38 | DN548016D | NT1557159B | 6930560 | ⋯ | 70.85535 | 78.07773 | 23.24183 |  59.767 | 77 | 2 | 1.4290063 | FALSE | FALSE | UK58000006 |\n",
       "| gains8032860 | 1 | 5890 | HG_The Genomic Advances in Sepsis (GAinS) RNA-seq | Total leukocyte RNA | gains8032860 | UK47010004_3 | 2019-09-30 21:01:38 | DN548016D | NT1557159B | 6930561 | ⋯ | 68.16224 | 75.05450 | 23.56361 | 105.000 | 77 | 1 | 0.9177558 | FALSE | FALSE | UK47010004 |\n",
       "| gains8032861 | 1 | 5890 | HG_The Genomic Advances in Sepsis (GAinS) RNA-seq | Total leukocyte RNA | gains8032861 | UK42020088_5 | 2019-09-30 21:01:38 | DN548016D | NT1557159B | 6930562 | ⋯ | 64.67378 | 72.53810 | 26.03766 |  87.843 | 77 | 1 | 0.4031685 | FALSE | FALSE | UK42020088 |\n",
       "| gains8032862 | 1 | 5890 | HG_The Genomic Advances in Sepsis (GAinS) RNA-seq | Total leukocyte RNA | gains8032862 | UK47490007_3 | 2019-09-30 21:01:38 | DN548016D | NT1557159B | 6930563 | ⋯ | 62.79935 | 68.60305 | 24.27960 |  67.484 | 77 | 2 | 1.1993500 | FALSE | FALSE | UK47490007 |\n",
       "\n"
      ],
      "text/plain": [
       "             manual_qc id_study_lims\n",
       "gains8032857 1         5890         \n",
       "gains8032858 1         5890         \n",
       "gains8032859 1         5890         \n",
       "gains8032860 1         5890         \n",
       "gains8032861 1         5890         \n",
       "gains8032862 1         5890         \n",
       "             name                                             \n",
       "gains8032857 HG_The Genomic Advances in Sepsis (GAinS) RNA-seq\n",
       "gains8032858 HG_The Genomic Advances in Sepsis (GAinS) RNA-seq\n",
       "gains8032859 HG_The Genomic Advances in Sepsis (GAinS) RNA-seq\n",
       "gains8032860 HG_The Genomic Advances in Sepsis (GAinS) RNA-seq\n",
       "gains8032861 HG_The Genomic Advances in Sepsis (GAinS) RNA-seq\n",
       "gains8032862 HG_The Genomic Advances in Sepsis (GAinS) RNA-seq\n",
       "             description         sanger_sample_id supplier_name\n",
       "gains8032857 Total leukocyte RNA gains8032857     UK02270173_3 \n",
       "gains8032858 Total leukocyte RNA gains8032858     UK15130120_3 \n",
       "gains8032859 Total leukocyte RNA gains8032859     UK58000006_3 \n",
       "gains8032860 Total leukocyte RNA gains8032860     UK47010004_3 \n",
       "gains8032861 Total leukocyte RNA gains8032861     UK42020088_5 \n",
       "gains8032862 Total leukocyte RNA gains8032862     UK47490007_3 \n",
       "             last_updated        id_library_lims id_pool_lims\n",
       "gains8032857 2019-09-30 21:01:38 DN548016D       NT1557159B  \n",
       "gains8032858 2019-09-30 21:01:38 DN548016D       NT1557159B  \n",
       "gains8032859 2019-09-30 21:01:38 DN548016D       NT1557159B  \n",
       "gains8032860 2019-09-30 21:01:38 DN548016D       NT1557159B  \n",
       "gains8032861 2019-09-30 21:01:38 DN548016D       NT1557159B  \n",
       "gains8032862 2019-09-30 21:01:38 DN548016D       NT1557159B  \n",
       "             id_iseq_flowcell_tmp ⋯ TIN.mean. TIN.median. TIN.stdev.\n",
       "gains8032857 6930558              ⋯ 69.51307  76.82800    23.72743  \n",
       "gains8032858 6930559              ⋯ 65.03706  71.49895    24.13243  \n",
       "gains8032859 6930560              ⋯ 70.85535  78.07773    23.24183  \n",
       "gains8032860 6930561              ⋯ 68.16224  75.05450    23.56361  \n",
       "gains8032861 6930562              ⋯ 64.67378  72.53810    26.03766  \n",
       "gains8032862 6930563              ⋯ 62.79935  68.60305    24.27960  \n",
       "             Concentration num_samples_per_lane SRSUnsup globin_rate_fromcounts\n",
       "gains8032857 116.731       77                   2        0.6790401             \n",
       "gains8032858  76.185       77                   2        0.6826886             \n",
       "gains8032859  59.767       77                   2        1.4290063             \n",
       "gains8032860 105.000       77                   1        0.9177558             \n",
       "gains8032861  87.843       77                   1        0.4031685             \n",
       "gains8032862  67.484       77                   2        1.1993500             \n",
       "             PCOutlier OtherOutlier GAinSID   \n",
       "gains8032857 FALSE     FALSE        UK02270173\n",
       "gains8032858 FALSE     FALSE        UK15130120\n",
       "gains8032859 FALSE     FALSE        UK58000006\n",
       "gains8032860 FALSE     FALSE        UK47010004\n",
       "gains8032861 FALSE     FALSE        UK42020088\n",
       "gains8032862 FALSE     FALSE        UK47490007"
      ]
     },
     "metadata": {},
     "output_type": "display_data"
    }
   ],
   "source": [
    "head(sample.info)"
   ]
  },
  {
   "cell_type": "code",
   "execution_count": 8,
   "id": "2061804b-281e-4763-b9a2-2d5b976c6bed",
   "metadata": {},
   "outputs": [
    {
     "data": {
      "text/html": [
       "<style>\n",
       ".list-inline {list-style: none; margin:0; padding: 0}\n",
       ".list-inline>li {display: inline-block}\n",
       ".list-inline>li:not(:last-child)::after {content: \"\\00b7\"; padding: 0 .5ex}\n",
       "</style>\n",
       "<ol class=list-inline><li>864</li><li>46</li></ol>\n"
      ],
      "text/latex": [
       "\\begin{enumerate*}\n",
       "\\item 864\n",
       "\\item 46\n",
       "\\end{enumerate*}\n"
      ],
      "text/markdown": [
       "1. 864\n",
       "2. 46\n",
       "\n",
       "\n"
      ],
      "text/plain": [
       "[1] 864  46"
      ]
     },
     "metadata": {},
     "output_type": "display_data"
    }
   ],
   "source": [
    "dim(sample.info)"
   ]
  },
  {
   "cell_type": "code",
   "execution_count": 9,
   "id": "94a81f67-3347-4942-bf6c-2d07bb97f912",
   "metadata": {},
   "outputs": [
    {
     "data": {
      "text/html": [
       "<table class=\"dataframe\">\n",
       "<caption>A data.frame: 6 × 2</caption>\n",
       "<thead>\n",
       "\t<tr><th></th><th scope=col>SangerSampleID</th><th scope=col>GAinSID</th></tr>\n",
       "\t<tr><th></th><th scope=col>&lt;chr&gt;</th><th scope=col>&lt;chr&gt;</th></tr>\n",
       "</thead>\n",
       "<tbody>\n",
       "\t<tr><th scope=row>1</th><td>gains8032857</td><td>UK02270173_3</td></tr>\n",
       "\t<tr><th scope=row>2</th><td>gains8032858</td><td>UK15130120_3</td></tr>\n",
       "\t<tr><th scope=row>3</th><td>gains8032859</td><td>UK58000006_3</td></tr>\n",
       "\t<tr><th scope=row>4</th><td>gains8032860</td><td>UK47010004_3</td></tr>\n",
       "\t<tr><th scope=row>5</th><td>gains8032861</td><td>UK42020088_5</td></tr>\n",
       "\t<tr><th scope=row>6</th><td>gains8032862</td><td>UK47490007_3</td></tr>\n",
       "</tbody>\n",
       "</table>\n"
      ],
      "text/latex": [
       "A data.frame: 6 × 2\n",
       "\\begin{tabular}{r|ll}\n",
       "  & SangerSampleID & GAinSID\\\\\n",
       "  & <chr> & <chr>\\\\\n",
       "\\hline\n",
       "\t1 & gains8032857 & UK02270173\\_3\\\\\n",
       "\t2 & gains8032858 & UK15130120\\_3\\\\\n",
       "\t3 & gains8032859 & UK58000006\\_3\\\\\n",
       "\t4 & gains8032860 & UK47010004\\_3\\\\\n",
       "\t5 & gains8032861 & UK42020088\\_5\\\\\n",
       "\t6 & gains8032862 & UK47490007\\_3\\\\\n",
       "\\end{tabular}\n"
      ],
      "text/markdown": [
       "\n",
       "A data.frame: 6 × 2\n",
       "\n",
       "| <!--/--> | SangerSampleID &lt;chr&gt; | GAinSID &lt;chr&gt; |\n",
       "|---|---|---|\n",
       "| 1 | gains8032857 | UK02270173_3 |\n",
       "| 2 | gains8032858 | UK15130120_3 |\n",
       "| 3 | gains8032859 | UK58000006_3 |\n",
       "| 4 | gains8032860 | UK47010004_3 |\n",
       "| 5 | gains8032861 | UK42020088_5 |\n",
       "| 6 | gains8032862 | UK47490007_3 |\n",
       "\n"
      ],
      "text/plain": [
       "  SangerSampleID GAinSID     \n",
       "1 gains8032857   UK02270173_3\n",
       "2 gains8032858   UK15130120_3\n",
       "3 gains8032859   UK58000006_3\n",
       "4 gains8032860   UK47010004_3\n",
       "5 gains8032861   UK42020088_5\n",
       "6 gains8032862   UK47490007_3"
      ]
     },
     "metadata": {},
     "output_type": "display_data"
    }
   ],
   "source": [
    "head(sample.key)"
   ]
  },
  {
   "cell_type": "code",
   "execution_count": 10,
   "id": "ae4b444e-0b69-4992-870f-a2342de868bf",
   "metadata": {},
   "outputs": [
    {
     "data": {
      "text/html": [
       "<style>\n",
       ".list-inline {list-style: none; margin:0; padding: 0}\n",
       ".list-inline>li {display: inline-block}\n",
       ".list-inline>li:not(:last-child)::after {content: \"\\00b7\"; padding: 0 .5ex}\n",
       "</style>\n",
       "<ol class=list-inline><li>864</li><li>2</li></ol>\n"
      ],
      "text/latex": [
       "\\begin{enumerate*}\n",
       "\\item 864\n",
       "\\item 2\n",
       "\\end{enumerate*}\n"
      ],
      "text/markdown": [
       "1. 864\n",
       "2. 2\n",
       "\n",
       "\n"
      ],
      "text/plain": [
       "[1] 864   2"
      ]
     },
     "metadata": {},
     "output_type": "display_data"
    }
   ],
   "source": [
    "dim(sample.key)"
   ]
  },
  {
   "cell_type": "markdown",
   "id": "c92a2a9a-7795-4eec-930e-b16b01978337",
   "metadata": {},
   "source": [
    "## WGCNA Checks\n",
    "\n",
    "The following function identifies genes with excessive missing values and outlier samples. It is generally more important for microarray data."
   ]
  },
  {
   "cell_type": "code",
   "execution_count": 3,
   "id": "612566a4-fa76-426d-a4a3-9fbb3f732fb9",
   "metadata": {},
   "outputs": [
    {
     "name": "stdout",
     "output_type": "stream",
     "text": [
      " Flagging genes and samples with too many missing values...\n",
      "  ..step 1\n"
     ]
    },
    {
     "data": {
      "text/html": [
       "TRUE"
      ],
      "text/latex": [
       "TRUE"
      ],
      "text/markdown": [
       "TRUE"
      ],
      "text/plain": [
       "[1] TRUE"
      ]
     },
     "metadata": {},
     "output_type": "display_data"
    }
   ],
   "source": [
    "gsg <- goodSamplesGenes(gene.exp)\n",
    "gsg$allOK"
   ]
  },
  {
   "cell_type": "markdown",
   "id": "ae0e1ae0-aaa3-49f8-ba84-9c4e34472300",
   "metadata": {},
   "source": [
    "## Soft Threshold\n",
    "\n",
    "The adjacency matrix generated using the correlation function does not fit a scale-free topology. A scaling function is used to generate the appropriate gene degree distribution. A parameter of this scaling function, $\\beta$, is estimated by trying multiple values and checking how well the resulting network fits the assumptions of a scale-free network. Here, I try all integer values in $[1,20]$."
   ]
  },
  {
   "cell_type": "code",
   "execution_count": 4,
   "id": "11264511-891b-47ac-ab5f-9b027583cf1b",
   "metadata": {},
   "outputs": [
    {
     "name": "stderr",
     "output_type": "stream",
     "text": [
      "Warning message:\n",
      "“executing %dopar% sequentially: no parallel backend registered”\n",
      "Warning message in (function (x, y = NULL, robustX = TRUE, robustY = TRUE, use = \"all.obs\", :\n",
      "“bicor: zero MAD in variable 'x'. Pearson correlation was used for individual columns with zero (or missing) MAD.”\n",
      "Warning message in (function (x, y = NULL, robustX = TRUE, robustY = TRUE, use = \"all.obs\", :\n",
      "“bicor: zero MAD in variable 'y'. Pearson correlation was used for individual columns with zero (or missing) MAD.”\n",
      "Warning message in (function (x, y = NULL, robustX = TRUE, robustY = TRUE, use = \"all.obs\", :\n",
      "“bicor: zero MAD in variable 'x'. Pearson correlation was used for individual columns with zero (or missing) MAD.”\n",
      "Warning message in (function (x, y = NULL, robustX = TRUE, robustY = TRUE, use = \"all.obs\", :\n",
      "“bicor: zero MAD in variable 'y'. Pearson correlation was used for individual columns with zero (or missing) MAD.”\n",
      "Warning message in (function (x, y = NULL, robustX = TRUE, robustY = TRUE, use = \"all.obs\", :\n",
      "“bicor: zero MAD in variable 'x'. Pearson correlation was used for individual columns with zero (or missing) MAD.”\n",
      "Warning message in (function (x, y = NULL, robustX = TRUE, robustY = TRUE, use = \"all.obs\", :\n",
      "“bicor: zero MAD in variable 'y'. Pearson correlation was used for individual columns with zero (or missing) MAD.”\n",
      "Warning message in (function (x, y = NULL, robustX = TRUE, robustY = TRUE, use = \"all.obs\", :\n",
      "“bicor: zero MAD in variable 'x'. Pearson correlation was used for individual columns with zero (or missing) MAD.”\n",
      "Warning message in (function (x, y = NULL, robustX = TRUE, robustY = TRUE, use = \"all.obs\", :\n",
      "“bicor: zero MAD in variable 'y'. Pearson correlation was used for individual columns with zero (or missing) MAD.”\n",
      "Warning message in (function (x, y = NULL, robustX = TRUE, robustY = TRUE, use = \"all.obs\", :\n",
      "“bicor: zero MAD in variable 'x'. Pearson correlation was used for individual columns with zero (or missing) MAD.”\n",
      "Warning message in (function (x, y = NULL, robustX = TRUE, robustY = TRUE, use = \"all.obs\", :\n",
      "“bicor: zero MAD in variable 'y'. Pearson correlation was used for individual columns with zero (or missing) MAD.”\n",
      "Warning message in (function (x, y = NULL, robustX = TRUE, robustY = TRUE, use = \"all.obs\", :\n",
      "“bicor: zero MAD in variable 'x'. Pearson correlation was used for individual columns with zero (or missing) MAD.”\n",
      "Warning message in (function (x, y = NULL, robustX = TRUE, robustY = TRUE, use = \"all.obs\", :\n",
      "“bicor: zero MAD in variable 'y'. Pearson correlation was used for individual columns with zero (or missing) MAD.”\n",
      "Warning message in (function (x, y = NULL, robustX = TRUE, robustY = TRUE, use = \"all.obs\", :\n",
      "“bicor: zero MAD in variable 'x'. Pearson correlation was used for individual columns with zero (or missing) MAD.”\n",
      "Warning message in (function (x, y = NULL, robustX = TRUE, robustY = TRUE, use = \"all.obs\", :\n",
      "“bicor: zero MAD in variable 'y'. Pearson correlation was used for individual columns with zero (or missing) MAD.”\n",
      "Warning message in (function (x, y = NULL, robustX = TRUE, robustY = TRUE, use = \"all.obs\", :\n",
      "“bicor: zero MAD in variable 'x'. Pearson correlation was used for individual columns with zero (or missing) MAD.”\n",
      "Warning message in (function (x, y = NULL, robustX = TRUE, robustY = TRUE, use = \"all.obs\", :\n",
      "“bicor: zero MAD in variable 'y'. Pearson correlation was used for individual columns with zero (or missing) MAD.”\n",
      "Warning message in (function (x, y = NULL, robustX = TRUE, robustY = TRUE, use = \"all.obs\", :\n",
      "“bicor: zero MAD in variable 'x'. Pearson correlation was used for individual columns with zero (or missing) MAD.”\n",
      "Warning message in (function (x, y = NULL, robustX = TRUE, robustY = TRUE, use = \"all.obs\", :\n",
      "“bicor: zero MAD in variable 'y'. Pearson correlation was used for individual columns with zero (or missing) MAD.”\n",
      "Warning message in (function (x, y = NULL, robustX = TRUE, robustY = TRUE, use = \"all.obs\", :\n",
      "“bicor: zero MAD in variable 'x'. Pearson correlation was used for individual columns with zero (or missing) MAD.”\n",
      "Warning message in (function (x, y = NULL, robustX = TRUE, robustY = TRUE, use = \"all.obs\", :\n",
      "“bicor: zero MAD in variable 'y'. Pearson correlation was used for individual columns with zero (or missing) MAD.”\n"
     ]
    },
    {
     "name": "stdout",
     "output_type": "stream",
     "text": [
      "   Power SFT.R.sq  slope truncated.R.sq mean.k. median.k. max.k.\n",
      "1      1    0.186  0.630          0.904 3830.00  3.79e+03 7030.0\n",
      "2      2    0.482 -0.768          0.839 1240.00  1.07e+03 3480.0\n",
      "3      3    0.708 -1.170          0.884  526.00  3.72e+02 2070.0\n",
      "4      4    0.758 -1.350          0.911  264.00  1.57e+02 1370.0\n",
      "5      5    0.791 -1.460          0.937  148.00  7.01e+01  976.0\n",
      "6      6    0.794 -1.550          0.945   90.00  3.41e+01  728.0\n",
      "7      7    0.810 -1.590          0.958   58.00  1.75e+01  561.0\n",
      "8      8    0.823 -1.610          0.969   39.20  9.26e+00  443.0\n",
      "9      9    0.826 -1.630          0.973   27.50  5.11e+00  356.0\n",
      "10    10    0.828 -1.650          0.974   19.90  2.88e+00  291.0\n",
      "11    11    0.815 -1.670          0.965   14.80  1.66e+00  241.0\n",
      "12    12    0.821 -1.640          0.966   11.20  9.81e-01  201.0\n",
      "13    13    0.826 -1.620          0.961    8.68  5.84e-01  169.0\n",
      "14    14    0.829 -1.590          0.952    6.84  3.58e-01  144.0\n",
      "15    15    0.838 -1.540          0.943    5.47  2.21e-01  123.0\n",
      "16    16    0.853 -1.480          0.932    4.44  1.39e-01  105.0\n",
      "17    17    0.909 -1.400          0.951    3.64  8.81e-02   91.0\n",
      "18    18    0.970 -1.320          0.987    3.02  5.64e-02   78.9\n",
      "19    19    0.964 -1.340          0.984    2.53  3.68e-02   73.9\n",
      "20    20    0.966 -1.350          0.985    2.14  2.37e-02   69.2\n"
     ]
    }
   ],
   "source": [
    "powers = seq(1, 20, by=1)\n",
    "\n",
    "soft.thresholds = pickSoftThreshold(gene.exp, powerVector=powers, networkType=\"unsigned\", corFnc=bicor)\n",
    "\n",
    "soft.threshold = soft.thresholds$powerEstimate"
   ]
  },
  {
   "cell_type": "code",
   "execution_count": 5,
   "id": "4ae16aa1-7816-493a-b34a-019b63fa1e5a",
   "metadata": {},
   "outputs": [
    {
     "name": "stdout",
     "output_type": "stream",
     "text": [
      "[1] 16\n"
     ]
    }
   ],
   "source": [
    "print(soft.threshold)"
   ]
  },
  {
   "cell_type": "markdown",
   "id": "5d651077-0be3-43fe-92f9-6964278fe764",
   "metadata": {},
   "source": [
    "## Adjacency and TOM Matrices\n",
    "\n",
    "The adjacency matrix defines the similarity between all genes in the sample data. I am using the [biweight midcorrelation](https://en.wikipedia.org/wiki/Biweight_midcorrelation) (`bicor`) function to estimate similarity. It is a median-based approach that is less sensitive to outliers.\n",
    "\n",
    "I use $\\beta=15$ for the scaling function, which was determined in the previous step. Then, the topological overlap metric (TOM) matrix is generated from the adjacency matrix. For details, check the original WGCNA paper."
   ]
  },
  {
   "cell_type": "code",
   "execution_count": 6,
   "id": "2fbee8c0-dbb1-46fa-9873-530529f8cf4f",
   "metadata": {},
   "outputs": [
    {
     "name": "stderr",
     "output_type": "stream",
     "text": [
      "Warning message in (function (x, y = NULL, robustX = TRUE, robustY = TRUE, use = \"all.obs\", :\n",
      "“bicor: zero MAD in variable 'x'. Some results will be NA.”\n"
     ]
    },
    {
     "name": "stdout",
     "output_type": "stream",
     "text": [
      "..connectivity..\n",
      "..matrix multiplication (system BLAS)..\n",
      "..normalization..\n",
      "..done.\n"
     ]
    },
    {
     "name": "stderr",
     "output_type": "stream",
     "text": [
      "Warning message in dir.create(\"~/gains_team282/nikhil/expression/gene_expression/\", :\n",
      "“'/nfs/users/nfs_n/nm18/gains_team282/nikhil/expression/gene_expression' already exists”\n"
     ]
    }
   ],
   "source": [
    "adjacency.matrix = adjacency(gene.exp, type=\"unsigned\", corFnc=bicor, corOptions=list(use=\"pairwise.complete.obs\", pearsonFallback=\"none\"), power=soft.threshold)\n",
    "\n",
    "TOM.matrix = TOMsimilarity(adjacency.matrix)\n",
    "\n",
    "dir.create(\"~/gains_team282/nikhil/expression/gene_expression/\", recursive=TRUE)\n",
    "saveRDS(TOM.matrix, file=\"~/gains_team282/nikhil/expression/gene_expression/TOM.matrix.RDS\")\n",
    "\n",
    "TOM.dist = 1 - TOM.matrix"
   ]
  },
  {
   "cell_type": "markdown",
   "id": "ccf145a6-f83f-4354-bc17-61e2846174be",
   "metadata": {},
   "source": [
    "## Clustering TOM Matrix\n",
    "\n",
    "The gene co-expression modules are generated by clustering the TOM matrix."
   ]
  },
  {
   "cell_type": "code",
   "execution_count": 7,
   "id": "2487195a-53a4-426c-8f09-96f52f82fb9b",
   "metadata": {},
   "outputs": [
    {
     "data": {
      "text/html": [
       "<strong>png:</strong> 2"
      ],
      "text/latex": [
       "\\textbf{png:} 2"
      ],
      "text/markdown": [
       "**png:** 2"
      ],
      "text/plain": [
       "png \n",
       "  2 "
      ]
     },
     "metadata": {},
     "output_type": "display_data"
    },
    {
     "name": "stdout",
     "output_type": "stream",
     "text": [
      " ..cutHeight not given, setting it to 0.999  ===>  99% of the (truncated) height range in dendro.\n",
      " ..done.\n"
     ]
    }
   ],
   "source": [
    "dendrogram = hclust(as.dist(TOM.dist), method=\"average\")\n",
    "\n",
    "svg(filename=\"04_Expression/results/gene_expression_dendrogram.svg\", width=8, height=5)\n",
    "plot(dendrogram, labels=FALSE, main=\"Gene Expression TOM Dendrogram\")\n",
    "dev.off()\n",
    "\n",
    "dynamic.mods = cutreeDynamic(\n",
    "  dendro=dendrogram, distM=TOM.dist, pamRespectsDendro=FALSE,\n",
    "  minClusterSize = 10\n",
    ")\n",
    "rm(TOM.dist)"
   ]
  },
  {
   "cell_type": "code",
   "execution_count": 8,
   "id": "4caa531b-8661-4a87-81fb-99c8b1a5a548",
   "metadata": {},
   "outputs": [
    {
     "data": {
      "image/png": "[encoded data removed]",
      "text/plain": [
       "Plot with title “Gene Expression TOM Dendrogram”"
      ]
     },
     "metadata": {
      "image/png": {
       "height": 420,
       "width": 420
      }
     },
     "output_type": "display_data"
    }
   ],
   "source": [
    "plot(dendrogram, labels=FALSE, main=\"Gene Expression TOM Dendrogram\")"
   ]
  },
  {
   "cell_type": "markdown",
   "id": "b53045a0-b21a-4f1e-9889-6a7fb6abd80e",
   "metadata": {},
   "source": [
    "## Intra- and Inter-Module Connectivity\n",
    "\n",
    "Connectivity is a measure assigned to each gene that describes how well the gene fits into a certain group of genes. Intra-module connectivity is a measure of how well the gene belongs to the module, Conversely, inter-module connectivity is a measure of how well the gene belongs to all other genes outside the module. Genes that are more \"central\" in the module will tend to have a high intra-module connectivity and a low inter-module connectivity."
   ]
  },
  {
   "cell_type": "code",
   "execution_count": 9,
   "id": "2db95ed7-0cfe-4e09-bd3a-0d85d28b8b91",
   "metadata": {},
   "outputs": [],
   "source": [
    "connectivity <- intramodularConnectivity(TOM.matrix, colors=dynamic.mods)\n",
    "rownames(connectivity) <- colnames(gene.exp)"
   ]
  },
  {
   "cell_type": "markdown",
   "id": "1558defd-105b-4ef3-a57e-3dac945a0997",
   "metadata": {},
   "source": [
    "## Co-Expression Module Size Distribution"
   ]
  },
  {
   "cell_type": "code",
   "execution_count": 10,
   "id": "ef073dd1-8d75-4af2-b39c-9d3571f8d2dc",
   "metadata": {},
   "outputs": [
    {
     "data": {
      "image/png": "[encoded data removed]",
      "text/plain": [
       "plot without title"
      ]
     },
     "metadata": {
      "image/png": {
       "height": 420,
       "width": 420
      }
     },
     "output_type": "display_data"
    }
   ],
   "source": [
    "plot.data <- as.data.frame(table(dynamic.mods)) %>%\n",
    "  dplyr::select(Module=1, Frequency=Freq) %>%\n",
    "  dplyr::filter(Module != 0)\n",
    "\n",
    "ggplot(plot.data) +\n",
    "  geom_col(aes(x=Module, y=Frequency), width=1) +\n",
    "  xlab(\"Module\") + ylab(\"Number of Genes\") +\n",
    "  ggplot_theme +\n",
    "  theme(axis.text.x=element_blank(), axis.ticks.x=element_blank())\n",
    "ggsave(filename=\"04_Expression/results/gene_coexpression_module_sizes.svg\", width=8, height=5)"
   ]
  },
  {
   "cell_type": "markdown",
   "id": "25ee943b-4a8c-4cc9-a718-fc9a2e10b2ac",
   "metadata": {},
   "source": [
    "## Save Gene Co-Expression Modules\n",
    "\n",
    "I save a the list of genes and their assigned modules, the eigengenes, the variance explained by each eigengene, and the connectivity information for each gene.\n",
    "\n",
    "The modules are labelled `Module_1,Module_2,...`. `Module_0` contains genes that were not assigned to any co-expression module by WGCNA and are therefore labelled as `Unassigned`.\n",
    "\n",
    "The eigengene of a given co-expression module is the first principal component of the gene expression for the genes within the module.\n",
    "\n",
    "The variance explained by each eigengene tells us how well the eigengene captures the overall variation found within the module expression data."
   ]
  },
  {
   "cell_type": "code",
   "execution_count": 11,
   "id": "f1fc9723-21f7-4eec-b481-5eaf9b311ea2",
   "metadata": {},
   "outputs": [],
   "source": [
    "### Module Assignment\n",
    "\n",
    "gene.list <- colnames(gene.exp)\n",
    "\n",
    "mod.assignment <- dynamic.mods\n",
    "mod.labels <- paste0(\"Module_\", mod.assignment)\n",
    "mod.labels[mod.labels == \"Module_0\"] <- \"Unassigned\"\n",
    "\n",
    "modules <- data.frame(\n",
    "  Gene=gene.list,\n",
    "  Module=mod.labels\n",
    ") %>%\n",
    "  dplyr::arrange(Module, Gene)\n",
    "\n",
    "write.csv(modules, \"~/gains_team282/nikhil/expression/gene_expression/modules.csv\", row.names=F)\n",
    "\n",
    "### Eigengenes\n",
    "\n",
    "eigengenes.result <- moduleEigengenes(gene.exp[mod.labels != \"Unassigned\"], colors=mod.labels[mod.labels != \"Unassigned\"])\n",
    "eigengene.order <- order(as.numeric(sapply(strsplit(colnames(eigengenes.result$eigengenes), \"_\"), function(x) x[2])))\n",
    "\n",
    "eigengenes <- eigengenes.result$eigengenes\n",
    "colnames(eigengenes) <- sapply(strsplit(colnames(eigengenes), \"_\"), function(x) paste0(\"ME_\", x[2]))\n",
    "eigengenes <- eigengenes[,eigengene.order]\n",
    "\n",
    "rownames(eigengenes) <- rownames(gene.exp)\n",
    "\n",
    "write.csv(eigengenes, \"~/gains_team282/nikhil/expression/gene_expression/eigengenes.csv\")\n",
    "\n",
    "variance.explained <- data.frame(\n",
    "  Module=colnames(eigengenes),\n",
    "  Var.Explained=t(eigengenes.result$varExplained[eigengene.order])[,1]\n",
    ")\n",
    "\n",
    "write.csv(variance.explained, \"~/gains_team282/nikhil/expression/gene_expression/variance.explained.csv\", row.names=F)\n",
    "\n",
    "### Connectivity\n",
    "\n",
    "connectivity <- connectivity[modules$Gene,]\n",
    "connectivity <- cbind(connectivity, modules$Module)\n",
    "colnames(connectivity)[ncol(connectivity)] <- \"Module\"\n",
    "\n",
    "write.csv(connectivity, \"~/gains_team282/nikhil/expression/gene_expression/connectivity.csv\")"
   ]
  },
  {
   "cell_type": "code",
   "execution_count": null,
   "id": "bc0aed97-f172-41fd-89cc-6ff91d010994",
   "metadata": {},
   "outputs": [],
   "source": []
  }
 ],
 "metadata": {
  "kernelspec": {
   "display_name": "R",
   "language": "R",
   "name": "ir"
  },
  "language_info": {
   "codemirror_mode": "r",
   "file_extension": ".r",
   "mimetype": "text/x-r-source",
   "name": "R",
   "pygments_lexer": "r",
   "version": "4.1.1"
  }
 },
 "nbformat": 4,
 "nbformat_minor": 5
}
