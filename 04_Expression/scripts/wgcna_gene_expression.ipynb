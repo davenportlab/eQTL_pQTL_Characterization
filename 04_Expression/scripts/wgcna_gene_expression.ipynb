{
 "cells": [
  {
   "cell_type": "markdown",
   "id": "d066ff06-5454-4c8c-8f8c-d8b597785a96",
   "metadata": {},
   "source": [
    "# WGCNA Analysis of Genes\n",
    "\n",
    "**Created**: 14 October 2021"
   ]
  },
  {
   "cell_type": "markdown",
   "id": "96ad2e64-7acc-4c9a-bb2f-f03be415328b",
   "metadata": {
    "tags": []
   },
   "source": [
    "## Environment"
   ]
  },
  {
   "cell_type": "code",
   "execution_count": 1,
   "id": "83660a5d-4947-4e4b-9b81-9d29d7bf98fc",
   "metadata": {},
   "outputs": [
    {
     "name": "stderr",
     "output_type": "stream",
     "text": [
      "Loading required namespace: patchwork\n",
      "\n",
      "also installing the dependencies ‘credentials’, ‘zip’, ‘gitcreds’, ‘ini’, ‘gert’, ‘gh’, ‘whisker’, ‘xopen’, ‘brew’, ‘commonmark’, ‘usethis’, ‘pkgbuild’, ‘rcmdcheck’, ‘remotes’, ‘roxygen2’, ‘rversions’, ‘sessioninfo’\n",
      "\n",
      "\n",
      "Downloading GitHub repo thomasp85/patchwork@HEAD\n",
      "\n"
     ]
    },
    {
     "name": "stdout",
     "output_type": "stream",
     "text": [
      "rlang    (0.4.12 -> 1.0.0) [CRAN]\n",
      "magrittr (2.0.1  -> 2.0.2) [CRAN]\n"
     ]
    },
    {
     "name": "stderr",
     "output_type": "stream",
     "text": [
      "Installing 2 packages: rlang, magrittr\n",
      "\n"
     ]
    },
    {
     "name": "stdout",
     "output_type": "stream",
     "text": [
      "\u001b[32m✔\u001b[39m  \u001b[90mchecking for file ‘/tmp/Rtmps2sRvV/remotesadf676cc2ea/thomasp85-patchwork-79223d3/DESCRIPTION’\u001b[39m\u001b[36m\u001b[39m\n",
      "\u001b[90m─\u001b[39m\u001b[90m  \u001b[39m\u001b[90mpreparing ‘patchwork’:\u001b[39m\u001b[36m\u001b[39m\n",
      "\u001b[32m✔\u001b[39m  \u001b[90mchecking DESCRIPTION meta-information\u001b[39m\u001b[36m\u001b[39m\n",
      "\u001b[90m─\u001b[39m\u001b[90m  \u001b[39m\u001b[90mchecking for LF line-endings in source and make files and shell scripts\u001b[39m\u001b[36m\u001b[39m\n",
      "\u001b[90m─\u001b[39m\u001b[90m  \u001b[39m\u001b[90mchecking for empty or unneeded directories\u001b[39m\u001b[36m\u001b[39m\n",
      "\u001b[90m─\u001b[39m\u001b[90m  \u001b[39m\u001b[90mbuilding ‘patchwork_1.1.0.9000.tar.gz’\u001b[39m\u001b[36m\u001b[39m\n",
      "   \n",
      "\r"
     ]
    },
    {
     "name": "stderr",
     "output_type": "stream",
     "text": [
      "Loading required namespace: BiocManager\n",
      "\n",
      "Loading required namespace: WGCNA\n",
      "\n",
      "\n",
      "\n"
     ]
    }
   ],
   "source": [
    "if (!requireNamespace(\"patchwork\")) {\n",
    "    install.packages(\"devtools\")\n",
    "    devtools::install_github(\"thomasp85/patchwork\")\n",
    "}\n",
    "\n",
    "if (!requireNamespace(\"BiocManager\")) {\n",
    "    install.packages(\"BiocManager\")\n",
    "}\n",
    "\n",
    "if (!requireNamespace(\"WGCNA\")) {\n",
    "    BiocManager::install(\"WGCNA\")\n",
    "}"
   ]
  },
  {
   "cell_type": "code",
   "execution_count": 2,
   "id": "b559919c-d7aa-4804-b9f4-7ed037574346",
   "metadata": {},
   "outputs": [
    {
     "name": "stderr",
     "output_type": "stream",
     "text": [
      "Loading required package: dynamicTreeCut\n",
      "\n",
      "Loading required package: fastcluster\n",
      "\n",
      "\n",
      "Attaching package: ‘fastcluster’\n",
      "\n",
      "\n",
      "The following object is masked from ‘package:stats’:\n",
      "\n",
      "    hclust\n",
      "\n",
      "\n",
      "\n",
      "Attaching package: ‘WGCNA’\n",
      "\n",
      "\n",
      "The following object is masked from ‘package:stats’:\n",
      "\n",
      "    cor\n",
      "\n",
      "\n",
      "── \u001b[1mAttaching packages\u001b[22m ─────────────────────────────────────────────────────────────────────────────────────────────────────────────────────────────────────────────────────────────────────────────────── tidyverse 1.3.1 ──\n",
      "\n",
      "\u001b[32m✔\u001b[39m \u001b[34mggplot2\u001b[39m 3.3.5     \u001b[32m✔\u001b[39m \u001b[34mpurrr  \u001b[39m 0.3.4\n",
      "\u001b[32m✔\u001b[39m \u001b[34mtibble \u001b[39m 3.1.6     \u001b[32m✔\u001b[39m \u001b[34mdplyr  \u001b[39m 1.0.7\n",
      "\u001b[32m✔\u001b[39m \u001b[34mtidyr  \u001b[39m 1.1.4     \u001b[32m✔\u001b[39m \u001b[34mstringr\u001b[39m 1.4.0\n",
      "\u001b[32m✔\u001b[39m \u001b[34mreadr  \u001b[39m 2.1.1     \u001b[32m✔\u001b[39m \u001b[34mforcats\u001b[39m 0.5.1\n",
      "\n",
      "── \u001b[1mConflicts\u001b[22m ────────────────────────────────────────────────────────────────────────────────────────────────────────────────────────────────────────────────────────────────────────────────────── tidyverse_conflicts() ──\n",
      "\u001b[31m✖\u001b[39m \u001b[34mdplyr\u001b[39m::\u001b[32mfilter()\u001b[39m masks \u001b[34mstats\u001b[39m::filter()\n",
      "\u001b[31m✖\u001b[39m \u001b[34mdplyr\u001b[39m::\u001b[32mlag()\u001b[39m    masks \u001b[34mstats\u001b[39m::lag()\n",
      "\n"
     ]
    }
   ],
   "source": [
    "library(WGCNA)\n",
    "library(tidyverse)\n",
    "library(RColorBrewer)\n",
    "library(patchwork)\n",
    "\n",
    "options(stringsAsFactors = FALSE)\n",
    "\n",
    "setwd(\"~/eQTL_pQTL_Characterization/\")\n",
    "\n",
    "source(\"04_Expression/scripts/utils/ggplot_theme.R\")"
   ]
  },
  {
   "cell_type": "markdown",
   "id": "4d328fb4-974f-4ca1-ad4f-edefa4df3938",
   "metadata": {
    "tags": []
   },
   "source": [
    "## Load Data"
   ]
  },
  {
   "cell_type": "code",
   "execution_count": 3,
   "id": "5b6c9873-aabc-4581-aab7-884d7ec596d1",
   "metadata": {},
   "outputs": [],
   "source": [
    "gene.exp <- read.table(\"/lustre/scratch119/humgen/projects/gains_team282/eqtl/data/logcpm_864_20412_hla.txt\")\n",
    "gene.info <- read.table(\"/nfs/team282/data/gains_team282/Gene_info_864_20416.txt\")\n",
    "sample.info <- read.table(\"/nfs/team282/data/gains_team282/Sample_info_864.txt\")\n",
    "sample.key <- read.table(\"/nfs/team282/data/gains_team282/Sample_key.txt\", header=T)\n",
    "\n",
    "gene.exp <- as.data.frame(t(gene.exp))"
   ]
  },
  {
   "cell_type": "code",
   "execution_count": 4,
   "id": "b1848d7f-56bf-4b3c-a1fd-ab6431145ba5",
   "metadata": {},
   "outputs": [
    {
     "data": {
      "text/html": [
       "<table class=\"dataframe\">\n",
       "<caption>A data.frame: 6 × 20412</caption>\n",
       "<thead>\n",
       "\t<tr><th></th><th scope=col>ENSG00000230521</th><th scope=col>ENSG00000225864</th><th scope=col>ENSG00000227766</th><th scope=col>ENSG00000237669</th><th scope=col>ENSG00000271581</th><th scope=col>ENSG00000285647</th><th scope=col>ENSG00000204435</th><th scope=col>ENSG00000231074</th><th scope=col>ENSG00000227262</th><th scope=col>ENSG00000206337</th><th scope=col>⋯</th><th scope=col>ENSG00000288253</th><th scope=col>ENSG00000288302</th><th scope=col>ENSG00000288349</th><th scope=col>ENSG00000288393</th><th scope=col>ENSG00000288398</th><th scope=col>ENSG00000288538</th><th scope=col>ENSG00000288559</th><th scope=col>ENSG00000288562</th><th scope=col>ENSG00000288573</th><th scope=col>ENSG00000288582</th></tr>\n",
       "\t<tr><th></th><th scope=col>&lt;dbl&gt;</th><th scope=col>&lt;dbl&gt;</th><th scope=col>&lt;dbl&gt;</th><th scope=col>&lt;dbl&gt;</th><th scope=col>&lt;dbl&gt;</th><th scope=col>&lt;dbl&gt;</th><th scope=col>&lt;dbl&gt;</th><th scope=col>&lt;dbl&gt;</th><th scope=col>&lt;dbl&gt;</th><th scope=col>&lt;dbl&gt;</th><th scope=col>⋯</th><th scope=col>&lt;dbl&gt;</th><th scope=col>&lt;dbl&gt;</th><th scope=col>&lt;dbl&gt;</th><th scope=col>&lt;dbl&gt;</th><th scope=col>&lt;dbl&gt;</th><th scope=col>&lt;dbl&gt;</th><th scope=col>&lt;dbl&gt;</th><th scope=col>&lt;dbl&gt;</th><th scope=col>&lt;dbl&gt;</th><th scope=col>&lt;dbl&gt;</th></tr>\n",
       "</thead>\n",
       "<tbody>\n",
       "\t<tr><th scope=row>UK02270173_3</th><td>0.6644339</td><td>0.9817872</td><td>1.2117156</td><td>0.6420763</td><td>2.474490</td><td>0.00000000</td><td>3.704888</td><td>4.027339</td><td>0.06866465</td><td>7.318038</td><td>⋯</td><td>0.5247755</td><td>1.3000450</td><td>0.5247755</td><td>0.92735960</td><td>1.133738</td><td>1.1337380</td><td>0.9457312</td><td>0.87079780</td><td>0.31467050</td><td>2.811486</td></tr>\n",
       "\t<tr><th scope=row>UK15130120_3</th><td>0.5827160</td><td>0.4387994</td><td>0.3068267</td><td>0.6925683</td><td>1.331531</td><td>0.03379072</td><td>4.261280</td><td>3.634898</td><td>0.25046090</td><td>6.369198</td><td>⋯</td><td>0.5125515</td><td>1.7424980</td><td>0.4883840</td><td>0.06680807</td><td>1.860177</td><td>0.6496258</td><td>0.9264084</td><td>0.06680807</td><td>0.22143010</td><td>3.343063</td></tr>\n",
       "\t<tr><th scope=row>UK58000006_3</th><td>0.4046756</td><td>0.6022344</td><td>0.6625010</td><td>0.9792012</td><td>1.831046</td><td>0.00000000</td><td>3.719682</td><td>3.597655</td><td>0.00000000</td><td>6.837021</td><td>⋯</td><td>0.2947282</td><td>1.5250610</td><td>0.6326824</td><td>0.66250100</td><td>1.315821</td><td>1.4755270</td><td>1.0258310</td><td>0.29472820</td><td>0.13374420</td><td>4.010874</td></tr>\n",
       "\t<tr><th scope=row>UK47010004_3</th><td>0.2090516</td><td>0.9234049</td><td>0.7996329</td><td>0.6992958</td><td>2.475317</td><td>0.05517067</td><td>4.169617</td><td>3.016982</td><td>0.30321616</td><td>7.723203</td><td>⋯</td><td>0.3032162</td><td>0.9527571</td><td>1.0911770</td><td>0.30321620</td><td>1.143029</td><td>1.8370600</td><td>0.7669565</td><td>0.25690200</td><td>0.10830900</td><td>2.610379</td></tr>\n",
       "\t<tr><th scope=row>UK42020088_5</th><td>0.2211571</td><td>0.2211571</td><td>0.6445686</td><td>0.3765156</td><td>1.881204</td><td>0.67482702</td><td>4.527758</td><td>3.624300</td><td>0.04702687</td><td>6.350747</td><td>⋯</td><td>0.0925691</td><td>1.2174450</td><td>0.6748270</td><td>0.13671760</td><td>1.088510</td><td>2.0637890</td><td>0.8172741</td><td>0.04702687</td><td>0.22115710</td><td>2.434768</td></tr>\n",
       "\t<tr><th scope=row>UK47490007_3</th><td>0.4288519</td><td>1.1450686</td><td>0.3130290</td><td>1.0756817</td><td>2.053137</td><td>0.00000000</td><td>4.581986</td><td>3.101136</td><td>0.00000000</td><td>6.728267</td><td>⋯</td><td>0.5012039</td><td>1.9916780</td><td>1.1895390</td><td>0.35267880</td><td>1.211271</td><td>0.7590055</td><td>0.6033524</td><td>1.02749800</td><td>0.09657541</td><td>3.816079</td></tr>\n",
       "</tbody>\n",
       "</table>\n"
      ],
      "text/latex": [
       "A data.frame: 6 × 20412\n",
       "\\begin{tabular}{r|lllllllllllllllllllll}\n",
       "  & ENSG00000230521 & ENSG00000225864 & ENSG00000227766 & ENSG00000237669 & ENSG00000271581 & ENSG00000285647 & ENSG00000204435 & ENSG00000231074 & ENSG00000227262 & ENSG00000206337 & ⋯ & ENSG00000288253 & ENSG00000288302 & ENSG00000288349 & ENSG00000288393 & ENSG00000288398 & ENSG00000288538 & ENSG00000288559 & ENSG00000288562 & ENSG00000288573 & ENSG00000288582\\\\\n",
       "  & <dbl> & <dbl> & <dbl> & <dbl> & <dbl> & <dbl> & <dbl> & <dbl> & <dbl> & <dbl> & ⋯ & <dbl> & <dbl> & <dbl> & <dbl> & <dbl> & <dbl> & <dbl> & <dbl> & <dbl> & <dbl>\\\\\n",
       "\\hline\n",
       "\tUK02270173\\_3 & 0.6644339 & 0.9817872 & 1.2117156 & 0.6420763 & 2.474490 & 0.00000000 & 3.704888 & 4.027339 & 0.06866465 & 7.318038 & ⋯ & 0.5247755 & 1.3000450 & 0.5247755 & 0.92735960 & 1.133738 & 1.1337380 & 0.9457312 & 0.87079780 & 0.31467050 & 2.811486\\\\\n",
       "\tUK15130120\\_3 & 0.5827160 & 0.4387994 & 0.3068267 & 0.6925683 & 1.331531 & 0.03379072 & 4.261280 & 3.634898 & 0.25046090 & 6.369198 & ⋯ & 0.5125515 & 1.7424980 & 0.4883840 & 0.06680807 & 1.860177 & 0.6496258 & 0.9264084 & 0.06680807 & 0.22143010 & 3.343063\\\\\n",
       "\tUK58000006\\_3 & 0.4046756 & 0.6022344 & 0.6625010 & 0.9792012 & 1.831046 & 0.00000000 & 3.719682 & 3.597655 & 0.00000000 & 6.837021 & ⋯ & 0.2947282 & 1.5250610 & 0.6326824 & 0.66250100 & 1.315821 & 1.4755270 & 1.0258310 & 0.29472820 & 0.13374420 & 4.010874\\\\\n",
       "\tUK47010004\\_3 & 0.2090516 & 0.9234049 & 0.7996329 & 0.6992958 & 2.475317 & 0.05517067 & 4.169617 & 3.016982 & 0.30321616 & 7.723203 & ⋯ & 0.3032162 & 0.9527571 & 1.0911770 & 0.30321620 & 1.143029 & 1.8370600 & 0.7669565 & 0.25690200 & 0.10830900 & 2.610379\\\\\n",
       "\tUK42020088\\_5 & 0.2211571 & 0.2211571 & 0.6445686 & 0.3765156 & 1.881204 & 0.67482702 & 4.527758 & 3.624300 & 0.04702687 & 6.350747 & ⋯ & 0.0925691 & 1.2174450 & 0.6748270 & 0.13671760 & 1.088510 & 2.0637890 & 0.8172741 & 0.04702687 & 0.22115710 & 2.434768\\\\\n",
       "\tUK47490007\\_3 & 0.4288519 & 1.1450686 & 0.3130290 & 1.0756817 & 2.053137 & 0.00000000 & 4.581986 & 3.101136 & 0.00000000 & 6.728267 & ⋯ & 0.5012039 & 1.9916780 & 1.1895390 & 0.35267880 & 1.211271 & 0.7590055 & 0.6033524 & 1.02749800 & 0.09657541 & 3.816079\\\\\n",
       "\\end{tabular}\n"
      ],
      "text/markdown": [
       "\n",
       "A data.frame: 6 × 20412\n",
       "\n",
       "| <!--/--> | ENSG00000230521 &lt;dbl&gt; | ENSG00000225864 &lt;dbl&gt; | ENSG00000227766 &lt;dbl&gt; | ENSG00000237669 &lt;dbl&gt; | ENSG00000271581 &lt;dbl&gt; | ENSG00000285647 &lt;dbl&gt; | ENSG00000204435 &lt;dbl&gt; | ENSG00000231074 &lt;dbl&gt; | ENSG00000227262 &lt;dbl&gt; | ENSG00000206337 &lt;dbl&gt; | ⋯ ⋯ | ENSG00000288253 &lt;dbl&gt; | ENSG00000288302 &lt;dbl&gt; | ENSG00000288349 &lt;dbl&gt; | ENSG00000288393 &lt;dbl&gt; | ENSG00000288398 &lt;dbl&gt; | ENSG00000288538 &lt;dbl&gt; | ENSG00000288559 &lt;dbl&gt; | ENSG00000288562 &lt;dbl&gt; | ENSG00000288573 &lt;dbl&gt; | ENSG00000288582 &lt;dbl&gt; |\n",
       "|---|---|---|---|---|---|---|---|---|---|---|---|---|---|---|---|---|---|---|---|---|---|\n",
       "| UK02270173_3 | 0.6644339 | 0.9817872 | 1.2117156 | 0.6420763 | 2.474490 | 0.00000000 | 3.704888 | 4.027339 | 0.06866465 | 7.318038 | ⋯ | 0.5247755 | 1.3000450 | 0.5247755 | 0.92735960 | 1.133738 | 1.1337380 | 0.9457312 | 0.87079780 | 0.31467050 | 2.811486 |\n",
       "| UK15130120_3 | 0.5827160 | 0.4387994 | 0.3068267 | 0.6925683 | 1.331531 | 0.03379072 | 4.261280 | 3.634898 | 0.25046090 | 6.369198 | ⋯ | 0.5125515 | 1.7424980 | 0.4883840 | 0.06680807 | 1.860177 | 0.6496258 | 0.9264084 | 0.06680807 | 0.22143010 | 3.343063 |\n",
       "| UK58000006_3 | 0.4046756 | 0.6022344 | 0.6625010 | 0.9792012 | 1.831046 | 0.00000000 | 3.719682 | 3.597655 | 0.00000000 | 6.837021 | ⋯ | 0.2947282 | 1.5250610 | 0.6326824 | 0.66250100 | 1.315821 | 1.4755270 | 1.0258310 | 0.29472820 | 0.13374420 | 4.010874 |\n",
       "| UK47010004_3 | 0.2090516 | 0.9234049 | 0.7996329 | 0.6992958 | 2.475317 | 0.05517067 | 4.169617 | 3.016982 | 0.30321616 | 7.723203 | ⋯ | 0.3032162 | 0.9527571 | 1.0911770 | 0.30321620 | 1.143029 | 1.8370600 | 0.7669565 | 0.25690200 | 0.10830900 | 2.610379 |\n",
       "| UK42020088_5 | 0.2211571 | 0.2211571 | 0.6445686 | 0.3765156 | 1.881204 | 0.67482702 | 4.527758 | 3.624300 | 0.04702687 | 6.350747 | ⋯ | 0.0925691 | 1.2174450 | 0.6748270 | 0.13671760 | 1.088510 | 2.0637890 | 0.8172741 | 0.04702687 | 0.22115710 | 2.434768 |\n",
       "| UK47490007_3 | 0.4288519 | 1.1450686 | 0.3130290 | 1.0756817 | 2.053137 | 0.00000000 | 4.581986 | 3.101136 | 0.00000000 | 6.728267 | ⋯ | 0.5012039 | 1.9916780 | 1.1895390 | 0.35267880 | 1.211271 | 0.7590055 | 0.6033524 | 1.02749800 | 0.09657541 | 3.816079 |\n",
       "\n"
      ],
      "text/plain": [
       "             ENSG00000230521 ENSG00000225864 ENSG00000227766 ENSG00000237669\n",
       "UK02270173_3 0.6644339       0.9817872       1.2117156       0.6420763      \n",
       "UK15130120_3 0.5827160       0.4387994       0.3068267       0.6925683      \n",
       "UK58000006_3 0.4046756       0.6022344       0.6625010       0.9792012      \n",
       "UK47010004_3 0.2090516       0.9234049       0.7996329       0.6992958      \n",
       "UK42020088_5 0.2211571       0.2211571       0.6445686       0.3765156      \n",
       "UK47490007_3 0.4288519       1.1450686       0.3130290       1.0756817      \n",
       "             ENSG00000271581 ENSG00000285647 ENSG00000204435 ENSG00000231074\n",
       "UK02270173_3 2.474490        0.00000000      3.704888        4.027339       \n",
       "UK15130120_3 1.331531        0.03379072      4.261280        3.634898       \n",
       "UK58000006_3 1.831046        0.00000000      3.719682        3.597655       \n",
       "UK47010004_3 2.475317        0.05517067      4.169617        3.016982       \n",
       "UK42020088_5 1.881204        0.67482702      4.527758        3.624300       \n",
       "UK47490007_3 2.053137        0.00000000      4.581986        3.101136       \n",
       "             ENSG00000227262 ENSG00000206337 ⋯ ENSG00000288253 ENSG00000288302\n",
       "UK02270173_3 0.06866465      7.318038        ⋯ 0.5247755       1.3000450      \n",
       "UK15130120_3 0.25046090      6.369198        ⋯ 0.5125515       1.7424980      \n",
       "UK58000006_3 0.00000000      6.837021        ⋯ 0.2947282       1.5250610      \n",
       "UK47010004_3 0.30321616      7.723203        ⋯ 0.3032162       0.9527571      \n",
       "UK42020088_5 0.04702687      6.350747        ⋯ 0.0925691       1.2174450      \n",
       "UK47490007_3 0.00000000      6.728267        ⋯ 0.5012039       1.9916780      \n",
       "             ENSG00000288349 ENSG00000288393 ENSG00000288398 ENSG00000288538\n",
       "UK02270173_3 0.5247755       0.92735960      1.133738        1.1337380      \n",
       "UK15130120_3 0.4883840       0.06680807      1.860177        0.6496258      \n",
       "UK58000006_3 0.6326824       0.66250100      1.315821        1.4755270      \n",
       "UK47010004_3 1.0911770       0.30321620      1.143029        1.8370600      \n",
       "UK42020088_5 0.6748270       0.13671760      1.088510        2.0637890      \n",
       "UK47490007_3 1.1895390       0.35267880      1.211271        0.7590055      \n",
       "             ENSG00000288559 ENSG00000288562 ENSG00000288573 ENSG00000288582\n",
       "UK02270173_3 0.9457312       0.87079780      0.31467050      2.811486       \n",
       "UK15130120_3 0.9264084       0.06680807      0.22143010      3.343063       \n",
       "UK58000006_3 1.0258310       0.29472820      0.13374420      4.010874       \n",
       "UK47010004_3 0.7669565       0.25690200      0.10830900      2.610379       \n",
       "UK42020088_5 0.8172741       0.04702687      0.22115710      2.434768       \n",
       "UK47490007_3 0.6033524       1.02749800      0.09657541      3.816079       "
      ]
     },
     "metadata": {},
     "output_type": "display_data"
    }
   ],
   "source": [
    "head(gene.exp)"
   ]
  },
  {
   "cell_type": "code",
   "execution_count": 14,
   "id": "a477ea4b-2d60-417f-8e09-a52ac856358a",
   "metadata": {},
   "outputs": [
    {
     "data": {
      "text/html": [
       "<style>\n",
       ".list-inline {list-style: none; margin:0; padding: 0}\n",
       ".list-inline>li {display: inline-block}\n",
       ".list-inline>li:not(:last-child)::after {content: \"\\00b7\"; padding: 0 .5ex}\n",
       "</style>\n",
       "<ol class=list-inline><li>864</li><li>20412</li></ol>\n"
      ],
      "text/latex": [
       "\\begin{enumerate*}\n",
       "\\item 864\n",
       "\\item 20412\n",
       "\\end{enumerate*}\n"
      ],
      "text/markdown": [
       "1. 864\n",
       "2. 20412\n",
       "\n",
       "\n"
      ],
      "text/plain": [
       "[1]   864 20412"
      ]
     },
     "metadata": {},
     "output_type": "display_data"
    }
   ],
   "source": [
    "dim(gene.exp)"
   ]
  },
  {
   "cell_type": "markdown",
   "id": "a7ca8ea4-ef4c-44e9-8b5c-8a41930489f5",
   "metadata": {},
   "source": [
    "Some patient identifiers may have a GA- prefix that has been dropped in future releases of the data. If this identifier exists, I drop the prefix."
   ]
  },
  {
   "cell_type": "code",
   "execution_count": 13,
   "id": "49605045-cdd3-496c-802e-2ca4f3e0d9ae",
   "metadata": {},
   "outputs": [],
   "source": [
    "ga.prefix.filter <- grepl(\"GA\", rownames(gene.exp))\n",
    "\n",
    "rownames(gene.exp)[ga.prefix.filter] <- gsub(\"^GA\", \"\", rownames(gene.exp)[ga.prefix.filter])"
   ]
  },
  {
   "cell_type": "code",
   "execution_count": 15,
   "id": "4f117cf0-c75c-4440-b1f3-089b8590757f",
   "metadata": {},
   "outputs": [
    {
     "data": {
      "text/html": [
       "<table class=\"dataframe\">\n",
       "<caption>A data.frame: 6 × 27</caption>\n",
       "<thead>\n",
       "\t<tr><th></th><th scope=col>seqnames</th><th scope=col>start</th><th scope=col>end</th><th scope=col>width</th><th scope=col>strand</th><th scope=col>source</th><th scope=col>type</th><th scope=col>score</th><th scope=col>phase</th><th scope=col>gene_id</th><th scope=col>⋯</th><th scope=col>transcript_source</th><th scope=col>transcript_biotype</th><th scope=col>tag</th><th scope=col>transcript_support_level</th><th scope=col>exon_number</th><th scope=col>exon_id</th><th scope=col>exon_version</th><th scope=col>protein_id</th><th scope=col>protein_version</th><th scope=col>ccds_id</th></tr>\n",
       "\t<tr><th></th><th scope=col>&lt;chr&gt;</th><th scope=col>&lt;int&gt;</th><th scope=col>&lt;int&gt;</th><th scope=col>&lt;int&gt;</th><th scope=col>&lt;chr&gt;</th><th scope=col>&lt;chr&gt;</th><th scope=col>&lt;chr&gt;</th><th scope=col>&lt;lgl&gt;</th><th scope=col>&lt;lgl&gt;</th><th scope=col>&lt;chr&gt;</th><th scope=col>⋯</th><th scope=col>&lt;lgl&gt;</th><th scope=col>&lt;lgl&gt;</th><th scope=col>&lt;lgl&gt;</th><th scope=col>&lt;lgl&gt;</th><th scope=col>&lt;lgl&gt;</th><th scope=col>&lt;lgl&gt;</th><th scope=col>&lt;lgl&gt;</th><th scope=col>&lt;lgl&gt;</th><th scope=col>&lt;lgl&gt;</th><th scope=col>&lt;lgl&gt;</th></tr>\n",
       "</thead>\n",
       "<tbody>\n",
       "\t<tr><th scope=row>1248375</th><td>X </td><td>100627108</td><td>100639991</td><td> 12884</td><td>-</td><td>ensembl_havana</td><td>gene</td><td>NA</td><td>NA</td><td>ENSG00000000003</td><td>⋯</td><td>NA</td><td>NA</td><td>NA</td><td>NA</td><td>NA</td><td>NA</td><td>NA</td><td>NA</td><td>NA</td><td>NA</td></tr>\n",
       "\t<tr><th scope=row>2612838</th><td>20</td><td> 50934867</td><td> 50958555</td><td> 23689</td><td>-</td><td>ensembl_havana</td><td>gene</td><td>NA</td><td>NA</td><td>ENSG00000000419</td><td>⋯</td><td>NA</td><td>NA</td><td>NA</td><td>NA</td><td>NA</td><td>NA</td><td>NA</td><td>NA</td><td>NA</td><td>NA</td></tr>\n",
       "\t<tr><th scope=row>198068</th><td>1 </td><td>169849631</td><td>169894267</td><td> 44637</td><td>-</td><td>ensembl_havana</td><td>gene</td><td>NA</td><td>NA</td><td>ENSG00000000457</td><td>⋯</td><td>NA</td><td>NA</td><td>NA</td><td>NA</td><td>NA</td><td>NA</td><td>NA</td><td>NA</td><td>NA</td><td>NA</td></tr>\n",
       "\t<tr><th scope=row>197489</th><td>1 </td><td>169662007</td><td>169854080</td><td>192074</td><td>+</td><td>ensembl_havana</td><td>gene</td><td>NA</td><td>NA</td><td>ENSG00000000460</td><td>⋯</td><td>NA</td><td>NA</td><td>NA</td><td>NA</td><td>NA</td><td>NA</td><td>NA</td><td>NA</td><td>NA</td><td>NA</td></tr>\n",
       "\t<tr><th scope=row>46865</th><td>1 </td><td> 27612064</td><td> 27635185</td><td> 23122</td><td>-</td><td>ensembl_havana</td><td>gene</td><td>NA</td><td>NA</td><td>ENSG00000000938</td><td>⋯</td><td>NA</td><td>NA</td><td>NA</td><td>NA</td><td>NA</td><td>NA</td><td>NA</td><td>NA</td><td>NA</td><td>NA</td></tr>\n",
       "\t<tr><th scope=row>213754</th><td>1 </td><td>196652043</td><td>196747504</td><td> 95462</td><td>+</td><td>ensembl_havana</td><td>gene</td><td>NA</td><td>NA</td><td>ENSG00000000971</td><td>⋯</td><td>NA</td><td>NA</td><td>NA</td><td>NA</td><td>NA</td><td>NA</td><td>NA</td><td>NA</td><td>NA</td><td>NA</td></tr>\n",
       "</tbody>\n",
       "</table>\n"
      ],
      "text/latex": [
       "A data.frame: 6 × 27\n",
       "\\begin{tabular}{r|lllllllllllllllllllll}\n",
       "  & seqnames & start & end & width & strand & source & type & score & phase & gene\\_id & ⋯ & transcript\\_source & transcript\\_biotype & tag & transcript\\_support\\_level & exon\\_number & exon\\_id & exon\\_version & protein\\_id & protein\\_version & ccds\\_id\\\\\n",
       "  & <chr> & <int> & <int> & <int> & <chr> & <chr> & <chr> & <lgl> & <lgl> & <chr> & ⋯ & <lgl> & <lgl> & <lgl> & <lgl> & <lgl> & <lgl> & <lgl> & <lgl> & <lgl> & <lgl>\\\\\n",
       "\\hline\n",
       "\t1248375 & X  & 100627108 & 100639991 &  12884 & - & ensembl\\_havana & gene & NA & NA & ENSG00000000003 & ⋯ & NA & NA & NA & NA & NA & NA & NA & NA & NA & NA\\\\\n",
       "\t2612838 & 20 &  50934867 &  50958555 &  23689 & - & ensembl\\_havana & gene & NA & NA & ENSG00000000419 & ⋯ & NA & NA & NA & NA & NA & NA & NA & NA & NA & NA\\\\\n",
       "\t198068 & 1  & 169849631 & 169894267 &  44637 & - & ensembl\\_havana & gene & NA & NA & ENSG00000000457 & ⋯ & NA & NA & NA & NA & NA & NA & NA & NA & NA & NA\\\\\n",
       "\t197489 & 1  & 169662007 & 169854080 & 192074 & + & ensembl\\_havana & gene & NA & NA & ENSG00000000460 & ⋯ & NA & NA & NA & NA & NA & NA & NA & NA & NA & NA\\\\\n",
       "\t46865 & 1  &  27612064 &  27635185 &  23122 & - & ensembl\\_havana & gene & NA & NA & ENSG00000000938 & ⋯ & NA & NA & NA & NA & NA & NA & NA & NA & NA & NA\\\\\n",
       "\t213754 & 1  & 196652043 & 196747504 &  95462 & + & ensembl\\_havana & gene & NA & NA & ENSG00000000971 & ⋯ & NA & NA & NA & NA & NA & NA & NA & NA & NA & NA\\\\\n",
       "\\end{tabular}\n"
      ],
      "text/markdown": [
       "\n",
       "A data.frame: 6 × 27\n",
       "\n",
       "| <!--/--> | seqnames &lt;chr&gt; | start &lt;int&gt; | end &lt;int&gt; | width &lt;int&gt; | strand &lt;chr&gt; | source &lt;chr&gt; | type &lt;chr&gt; | score &lt;lgl&gt; | phase &lt;lgl&gt; | gene_id &lt;chr&gt; | ⋯ ⋯ | transcript_source &lt;lgl&gt; | transcript_biotype &lt;lgl&gt; | tag &lt;lgl&gt; | transcript_support_level &lt;lgl&gt; | exon_number &lt;lgl&gt; | exon_id &lt;lgl&gt; | exon_version &lt;lgl&gt; | protein_id &lt;lgl&gt; | protein_version &lt;lgl&gt; | ccds_id &lt;lgl&gt; |\n",
       "|---|---|---|---|---|---|---|---|---|---|---|---|---|---|---|---|---|---|---|---|---|---|\n",
       "| 1248375 | X  | 100627108 | 100639991 |  12884 | - | ensembl_havana | gene | NA | NA | ENSG00000000003 | ⋯ | NA | NA | NA | NA | NA | NA | NA | NA | NA | NA |\n",
       "| 2612838 | 20 |  50934867 |  50958555 |  23689 | - | ensembl_havana | gene | NA | NA | ENSG00000000419 | ⋯ | NA | NA | NA | NA | NA | NA | NA | NA | NA | NA |\n",
       "| 198068 | 1  | 169849631 | 169894267 |  44637 | - | ensembl_havana | gene | NA | NA | ENSG00000000457 | ⋯ | NA | NA | NA | NA | NA | NA | NA | NA | NA | NA |\n",
       "| 197489 | 1  | 169662007 | 169854080 | 192074 | + | ensembl_havana | gene | NA | NA | ENSG00000000460 | ⋯ | NA | NA | NA | NA | NA | NA | NA | NA | NA | NA |\n",
       "| 46865 | 1  |  27612064 |  27635185 |  23122 | - | ensembl_havana | gene | NA | NA | ENSG00000000938 | ⋯ | NA | NA | NA | NA | NA | NA | NA | NA | NA | NA |\n",
       "| 213754 | 1  | 196652043 | 196747504 |  95462 | + | ensembl_havana | gene | NA | NA | ENSG00000000971 | ⋯ | NA | NA | NA | NA | NA | NA | NA | NA | NA | NA |\n",
       "\n"
      ],
      "text/plain": [
       "        seqnames start     end       width  strand source         type score\n",
       "1248375 X        100627108 100639991  12884 -      ensembl_havana gene NA   \n",
       "2612838 20        50934867  50958555  23689 -      ensembl_havana gene NA   \n",
       "198068  1        169849631 169894267  44637 -      ensembl_havana gene NA   \n",
       "197489  1        169662007 169854080 192074 +      ensembl_havana gene NA   \n",
       "46865   1         27612064  27635185  23122 -      ensembl_havana gene NA   \n",
       "213754  1        196652043 196747504  95462 +      ensembl_havana gene NA   \n",
       "        phase gene_id         ⋯ transcript_source transcript_biotype tag\n",
       "1248375 NA    ENSG00000000003 ⋯ NA                NA                 NA \n",
       "2612838 NA    ENSG00000000419 ⋯ NA                NA                 NA \n",
       "198068  NA    ENSG00000000457 ⋯ NA                NA                 NA \n",
       "197489  NA    ENSG00000000460 ⋯ NA                NA                 NA \n",
       "46865   NA    ENSG00000000938 ⋯ NA                NA                 NA \n",
       "213754  NA    ENSG00000000971 ⋯ NA                NA                 NA \n",
       "        transcript_support_level exon_number exon_id exon_version protein_id\n",
       "1248375 NA                       NA          NA      NA           NA        \n",
       "2612838 NA                       NA          NA      NA           NA        \n",
       "198068  NA                       NA          NA      NA           NA        \n",
       "197489  NA                       NA          NA      NA           NA        \n",
       "46865   NA                       NA          NA      NA           NA        \n",
       "213754  NA                       NA          NA      NA           NA        \n",
       "        protein_version ccds_id\n",
       "1248375 NA              NA     \n",
       "2612838 NA              NA     \n",
       "198068  NA              NA     \n",
       "197489  NA              NA     \n",
       "46865   NA              NA     \n",
       "213754  NA              NA     "
      ]
     },
     "metadata": {},
     "output_type": "display_data"
    }
   ],
   "source": [
    "head(gene.info)"
   ]
  },
  {
   "cell_type": "code",
   "execution_count": 16,
   "id": "b5d8df7b-eff0-49bb-ab85-c5f5b0e30c4e",
   "metadata": {},
   "outputs": [
    {
     "data": {
      "text/html": [
       "<style>\n",
       ".list-inline {list-style: none; margin:0; padding: 0}\n",
       ".list-inline>li {display: inline-block}\n",
       ".list-inline>li:not(:last-child)::after {content: \"\\00b7\"; padding: 0 .5ex}\n",
       "</style>\n",
       "<ol class=list-inline><li>20416</li><li>27</li></ol>\n"
      ],
      "text/latex": [
       "\\begin{enumerate*}\n",
       "\\item 20416\n",
       "\\item 27\n",
       "\\end{enumerate*}\n"
      ],
      "text/markdown": [
       "1. 20416\n",
       "2. 27\n",
       "\n",
       "\n"
      ],
      "text/plain": [
       "[1] 20416    27"
      ]
     },
     "metadata": {},
     "output_type": "display_data"
    }
   ],
   "source": [
    "dim(gene.info)"
   ]
  },
  {
   "cell_type": "code",
   "execution_count": 17,
   "id": "4baa26ae-d197-4885-8607-7faa40371cc1",
   "metadata": {},
   "outputs": [
    {
     "data": {
      "text/html": [
       "<table class=\"dataframe\">\n",
       "<caption>A data.frame: 6 × 46</caption>\n",
       "<thead>\n",
       "\t<tr><th></th><th scope=col>manual_qc</th><th scope=col>id_study_lims</th><th scope=col>name</th><th scope=col>description</th><th scope=col>sanger_sample_id</th><th scope=col>supplier_name</th><th scope=col>last_updated</th><th scope=col>id_library_lims</th><th scope=col>id_pool_lims</th><th scope=col>id_iseq_flowcell_tmp</th><th scope=col>⋯</th><th scope=col>TIN.mean.</th><th scope=col>TIN.median.</th><th scope=col>TIN.stdev.</th><th scope=col>Concentration</th><th scope=col>num_samples_per_lane</th><th scope=col>SRSUnsup</th><th scope=col>globin_rate_fromcounts</th><th scope=col>PCOutlier</th><th scope=col>OtherOutlier</th><th scope=col>GAinSID</th></tr>\n",
       "\t<tr><th></th><th scope=col>&lt;int&gt;</th><th scope=col>&lt;int&gt;</th><th scope=col>&lt;chr&gt;</th><th scope=col>&lt;chr&gt;</th><th scope=col>&lt;chr&gt;</th><th scope=col>&lt;chr&gt;</th><th scope=col>&lt;chr&gt;</th><th scope=col>&lt;chr&gt;</th><th scope=col>&lt;chr&gt;</th><th scope=col>&lt;int&gt;</th><th scope=col>⋯</th><th scope=col>&lt;dbl&gt;</th><th scope=col>&lt;dbl&gt;</th><th scope=col>&lt;dbl&gt;</th><th scope=col>&lt;dbl&gt;</th><th scope=col>&lt;int&gt;</th><th scope=col>&lt;int&gt;</th><th scope=col>&lt;dbl&gt;</th><th scope=col>&lt;lgl&gt;</th><th scope=col>&lt;lgl&gt;</th><th scope=col>&lt;chr&gt;</th></tr>\n",
       "</thead>\n",
       "<tbody>\n",
       "\t<tr><th scope=row>gains8032857</th><td>1</td><td>5890</td><td>HG_The Genomic Advances in Sepsis (GAinS) RNA-seq</td><td>Total leukocyte RNA</td><td>gains8032857</td><td>UK02270173_3</td><td>2019-09-30 21:01:38</td><td>DN548016D</td><td>NT1557159B</td><td>6930558</td><td>⋯</td><td>69.51307</td><td>76.82800</td><td>23.72743</td><td>116.731</td><td>77</td><td>2</td><td>0.6790401</td><td>FALSE</td><td>FALSE</td><td>UK02270173</td></tr>\n",
       "\t<tr><th scope=row>gains8032858</th><td>1</td><td>5890</td><td>HG_The Genomic Advances in Sepsis (GAinS) RNA-seq</td><td>Total leukocyte RNA</td><td>gains8032858</td><td>UK15130120_3</td><td>2019-09-30 21:01:38</td><td>DN548016D</td><td>NT1557159B</td><td>6930559</td><td>⋯</td><td>65.03706</td><td>71.49895</td><td>24.13243</td><td> 76.185</td><td>77</td><td>2</td><td>0.6826886</td><td>FALSE</td><td>FALSE</td><td>UK15130120</td></tr>\n",
       "\t<tr><th scope=row>gains8032859</th><td>1</td><td>5890</td><td>HG_The Genomic Advances in Sepsis (GAinS) RNA-seq</td><td>Total leukocyte RNA</td><td>gains8032859</td><td>UK58000006_3</td><td>2019-09-30 21:01:38</td><td>DN548016D</td><td>NT1557159B</td><td>6930560</td><td>⋯</td><td>70.85535</td><td>78.07773</td><td>23.24183</td><td> 59.767</td><td>77</td><td>2</td><td>1.4290063</td><td>FALSE</td><td>FALSE</td><td>UK58000006</td></tr>\n",
       "\t<tr><th scope=row>gains8032860</th><td>1</td><td>5890</td><td>HG_The Genomic Advances in Sepsis (GAinS) RNA-seq</td><td>Total leukocyte RNA</td><td>gains8032860</td><td>UK47010004_3</td><td>2019-09-30 21:01:38</td><td>DN548016D</td><td>NT1557159B</td><td>6930561</td><td>⋯</td><td>68.16224</td><td>75.05450</td><td>23.56361</td><td>105.000</td><td>77</td><td>1</td><td>0.9177558</td><td>FALSE</td><td>FALSE</td><td>UK47010004</td></tr>\n",
       "\t<tr><th scope=row>gains8032861</th><td>1</td><td>5890</td><td>HG_The Genomic Advances in Sepsis (GAinS) RNA-seq</td><td>Total leukocyte RNA</td><td>gains8032861</td><td>UK42020088_5</td><td>2019-09-30 21:01:38</td><td>DN548016D</td><td>NT1557159B</td><td>6930562</td><td>⋯</td><td>64.67378</td><td>72.53810</td><td>26.03766</td><td> 87.843</td><td>77</td><td>1</td><td>0.4031685</td><td>FALSE</td><td>FALSE</td><td>UK42020088</td></tr>\n",
       "\t<tr><th scope=row>gains8032862</th><td>1</td><td>5890</td><td>HG_The Genomic Advances in Sepsis (GAinS) RNA-seq</td><td>Total leukocyte RNA</td><td>gains8032862</td><td>UK47490007_3</td><td>2019-09-30 21:01:38</td><td>DN548016D</td><td>NT1557159B</td><td>6930563</td><td>⋯</td><td>62.79935</td><td>68.60305</td><td>24.27960</td><td> 67.484</td><td>77</td><td>2</td><td>1.1993500</td><td>FALSE</td><td>FALSE</td><td>UK47490007</td></tr>\n",
       "</tbody>\n",
       "</table>\n"
      ],
      "text/latex": [
       "A data.frame: 6 × 46\n",
       "\\begin{tabular}{r|lllllllllllllllllllll}\n",
       "  & manual\\_qc & id\\_study\\_lims & name & description & sanger\\_sample\\_id & supplier\\_name & last\\_updated & id\\_library\\_lims & id\\_pool\\_lims & id\\_iseq\\_flowcell\\_tmp & ⋯ & TIN.mean. & TIN.median. & TIN.stdev. & Concentration & num\\_samples\\_per\\_lane & SRSUnsup & globin\\_rate\\_fromcounts & PCOutlier & OtherOutlier & GAinSID\\\\\n",
       "  & <int> & <int> & <chr> & <chr> & <chr> & <chr> & <chr> & <chr> & <chr> & <int> & ⋯ & <dbl> & <dbl> & <dbl> & <dbl> & <int> & <int> & <dbl> & <lgl> & <lgl> & <chr>\\\\\n",
       "\\hline\n",
       "\tgains8032857 & 1 & 5890 & HG\\_The Genomic Advances in Sepsis (GAinS) RNA-seq & Total leukocyte RNA & gains8032857 & UK02270173\\_3 & 2019-09-30 21:01:38 & DN548016D & NT1557159B & 6930558 & ⋯ & 69.51307 & 76.82800 & 23.72743 & 116.731 & 77 & 2 & 0.6790401 & FALSE & FALSE & UK02270173\\\\\n",
       "\tgains8032858 & 1 & 5890 & HG\\_The Genomic Advances in Sepsis (GAinS) RNA-seq & Total leukocyte RNA & gains8032858 & UK15130120\\_3 & 2019-09-30 21:01:38 & DN548016D & NT1557159B & 6930559 & ⋯ & 65.03706 & 71.49895 & 24.13243 &  76.185 & 77 & 2 & 0.6826886 & FALSE & FALSE & UK15130120\\\\\n",
       "\tgains8032859 & 1 & 5890 & HG\\_The Genomic Advances in Sepsis (GAinS) RNA-seq & Total leukocyte RNA & gains8032859 & UK58000006\\_3 & 2019-09-30 21:01:38 & DN548016D & NT1557159B & 6930560 & ⋯ & 70.85535 & 78.07773 & 23.24183 &  59.767 & 77 & 2 & 1.4290063 & FALSE & FALSE & UK58000006\\\\\n",
       "\tgains8032860 & 1 & 5890 & HG\\_The Genomic Advances in Sepsis (GAinS) RNA-seq & Total leukocyte RNA & gains8032860 & UK47010004\\_3 & 2019-09-30 21:01:38 & DN548016D & NT1557159B & 6930561 & ⋯ & 68.16224 & 75.05450 & 23.56361 & 105.000 & 77 & 1 & 0.9177558 & FALSE & FALSE & UK47010004\\\\\n",
       "\tgains8032861 & 1 & 5890 & HG\\_The Genomic Advances in Sepsis (GAinS) RNA-seq & Total leukocyte RNA & gains8032861 & UK42020088\\_5 & 2019-09-30 21:01:38 & DN548016D & NT1557159B & 6930562 & ⋯ & 64.67378 & 72.53810 & 26.03766 &  87.843 & 77 & 1 & 0.4031685 & FALSE & FALSE & UK42020088\\\\\n",
       "\tgains8032862 & 1 & 5890 & HG\\_The Genomic Advances in Sepsis (GAinS) RNA-seq & Total leukocyte RNA & gains8032862 & UK47490007\\_3 & 2019-09-30 21:01:38 & DN548016D & NT1557159B & 6930563 & ⋯ & 62.79935 & 68.60305 & 24.27960 &  67.484 & 77 & 2 & 1.1993500 & FALSE & FALSE & UK47490007\\\\\n",
       "\\end{tabular}\n"
      ],
      "text/markdown": [
       "\n",
       "A data.frame: 6 × 46\n",
       "\n",
       "| <!--/--> | manual_qc &lt;int&gt; | id_study_lims &lt;int&gt; | name &lt;chr&gt; | description &lt;chr&gt; | sanger_sample_id &lt;chr&gt; | supplier_name &lt;chr&gt; | last_updated &lt;chr&gt; | id_library_lims &lt;chr&gt; | id_pool_lims &lt;chr&gt; | id_iseq_flowcell_tmp &lt;int&gt; | ⋯ ⋯ | TIN.mean. &lt;dbl&gt; | TIN.median. &lt;dbl&gt; | TIN.stdev. &lt;dbl&gt; | Concentration &lt;dbl&gt; | num_samples_per_lane &lt;int&gt; | SRSUnsup &lt;int&gt; | globin_rate_fromcounts &lt;dbl&gt; | PCOutlier &lt;lgl&gt; | OtherOutlier &lt;lgl&gt; | GAinSID &lt;chr&gt; |\n",
       "|---|---|---|---|---|---|---|---|---|---|---|---|---|---|---|---|---|---|---|---|---|---|\n",
       "| gains8032857 | 1 | 5890 | HG_The Genomic Advances in Sepsis (GAinS) RNA-seq | Total leukocyte RNA | gains8032857 | UK02270173_3 | 2019-09-30 21:01:38 | DN548016D | NT1557159B | 6930558 | ⋯ | 69.51307 | 76.82800 | 23.72743 | 116.731 | 77 | 2 | 0.6790401 | FALSE | FALSE | UK02270173 |\n",
       "| gains8032858 | 1 | 5890 | HG_The Genomic Advances in Sepsis (GAinS) RNA-seq | Total leukocyte RNA | gains8032858 | UK15130120_3 | 2019-09-30 21:01:38 | DN548016D | NT1557159B | 6930559 | ⋯ | 65.03706 | 71.49895 | 24.13243 |  76.185 | 77 | 2 | 0.6826886 | FALSE | FALSE | UK15130120 |\n",
       "| gains8032859 | 1 | 5890 | HG_The Genomic Advances in Sepsis (GAinS) RNA-seq | Total leukocyte RNA | gains8032859 | UK58000006_3 | 2019-09-30 21:01:38 | DN548016D | NT1557159B | 6930560 | ⋯ | 70.85535 | 78.07773 | 23.24183 |  59.767 | 77 | 2 | 1.4290063 | FALSE | FALSE | UK58000006 |\n",
       "| gains8032860 | 1 | 5890 | HG_The Genomic Advances in Sepsis (GAinS) RNA-seq | Total leukocyte RNA | gains8032860 | UK47010004_3 | 2019-09-30 21:01:38 | DN548016D | NT1557159B | 6930561 | ⋯ | 68.16224 | 75.05450 | 23.56361 | 105.000 | 77 | 1 | 0.9177558 | FALSE | FALSE | UK47010004 |\n",
       "| gains8032861 | 1 | 5890 | HG_The Genomic Advances in Sepsis (GAinS) RNA-seq | Total leukocyte RNA | gains8032861 | UK42020088_5 | 2019-09-30 21:01:38 | DN548016D | NT1557159B | 6930562 | ⋯ | 64.67378 | 72.53810 | 26.03766 |  87.843 | 77 | 1 | 0.4031685 | FALSE | FALSE | UK42020088 |\n",
       "| gains8032862 | 1 | 5890 | HG_The Genomic Advances in Sepsis (GAinS) RNA-seq | Total leukocyte RNA | gains8032862 | UK47490007_3 | 2019-09-30 21:01:38 | DN548016D | NT1557159B | 6930563 | ⋯ | 62.79935 | 68.60305 | 24.27960 |  67.484 | 77 | 2 | 1.1993500 | FALSE | FALSE | UK47490007 |\n",
       "\n"
      ],
      "text/plain": [
       "             manual_qc id_study_lims\n",
       "gains8032857 1         5890         \n",
       "gains8032858 1         5890         \n",
       "gains8032859 1         5890         \n",
       "gains8032860 1         5890         \n",
       "gains8032861 1         5890         \n",
       "gains8032862 1         5890         \n",
       "             name                                             \n",
       "gains8032857 HG_The Genomic Advances in Sepsis (GAinS) RNA-seq\n",
       "gains8032858 HG_The Genomic Advances in Sepsis (GAinS) RNA-seq\n",
       "gains8032859 HG_The Genomic Advances in Sepsis (GAinS) RNA-seq\n",
       "gains8032860 HG_The Genomic Advances in Sepsis (GAinS) RNA-seq\n",
       "gains8032861 HG_The Genomic Advances in Sepsis (GAinS) RNA-seq\n",
       "gains8032862 HG_The Genomic Advances in Sepsis (GAinS) RNA-seq\n",
       "             description         sanger_sample_id supplier_name\n",
       "gains8032857 Total leukocyte RNA gains8032857     UK02270173_3 \n",
       "gains8032858 Total leukocyte RNA gains8032858     UK15130120_3 \n",
       "gains8032859 Total leukocyte RNA gains8032859     UK58000006_3 \n",
       "gains8032860 Total leukocyte RNA gains8032860     UK47010004_3 \n",
       "gains8032861 Total leukocyte RNA gains8032861     UK42020088_5 \n",
       "gains8032862 Total leukocyte RNA gains8032862     UK47490007_3 \n",
       "             last_updated        id_library_lims id_pool_lims\n",
       "gains8032857 2019-09-30 21:01:38 DN548016D       NT1557159B  \n",
       "gains8032858 2019-09-30 21:01:38 DN548016D       NT1557159B  \n",
       "gains8032859 2019-09-30 21:01:38 DN548016D       NT1557159B  \n",
       "gains8032860 2019-09-30 21:01:38 DN548016D       NT1557159B  \n",
       "gains8032861 2019-09-30 21:01:38 DN548016D       NT1557159B  \n",
       "gains8032862 2019-09-30 21:01:38 DN548016D       NT1557159B  \n",
       "             id_iseq_flowcell_tmp ⋯ TIN.mean. TIN.median. TIN.stdev.\n",
       "gains8032857 6930558              ⋯ 69.51307  76.82800    23.72743  \n",
       "gains8032858 6930559              ⋯ 65.03706  71.49895    24.13243  \n",
       "gains8032859 6930560              ⋯ 70.85535  78.07773    23.24183  \n",
       "gains8032860 6930561              ⋯ 68.16224  75.05450    23.56361  \n",
       "gains8032861 6930562              ⋯ 64.67378  72.53810    26.03766  \n",
       "gains8032862 6930563              ⋯ 62.79935  68.60305    24.27960  \n",
       "             Concentration num_samples_per_lane SRSUnsup globin_rate_fromcounts\n",
       "gains8032857 116.731       77                   2        0.6790401             \n",
       "gains8032858  76.185       77                   2        0.6826886             \n",
       "gains8032859  59.767       77                   2        1.4290063             \n",
       "gains8032860 105.000       77                   1        0.9177558             \n",
       "gains8032861  87.843       77                   1        0.4031685             \n",
       "gains8032862  67.484       77                   2        1.1993500             \n",
       "             PCOutlier OtherOutlier GAinSID   \n",
       "gains8032857 FALSE     FALSE        UK02270173\n",
       "gains8032858 FALSE     FALSE        UK15130120\n",
       "gains8032859 FALSE     FALSE        UK58000006\n",
       "gains8032860 FALSE     FALSE        UK47010004\n",
       "gains8032861 FALSE     FALSE        UK42020088\n",
       "gains8032862 FALSE     FALSE        UK47490007"
      ]
     },
     "metadata": {},
     "output_type": "display_data"
    }
   ],
   "source": [
    "head(sample.info)"
   ]
  },
  {
   "cell_type": "code",
   "execution_count": 18,
   "id": "2061804b-281e-4763-b9a2-2d5b976c6bed",
   "metadata": {},
   "outputs": [
    {
     "data": {
      "text/html": [
       "<style>\n",
       ".list-inline {list-style: none; margin:0; padding: 0}\n",
       ".list-inline>li {display: inline-block}\n",
       ".list-inline>li:not(:last-child)::after {content: \"\\00b7\"; padding: 0 .5ex}\n",
       "</style>\n",
       "<ol class=list-inline><li>864</li><li>46</li></ol>\n"
      ],
      "text/latex": [
       "\\begin{enumerate*}\n",
       "\\item 864\n",
       "\\item 46\n",
       "\\end{enumerate*}\n"
      ],
      "text/markdown": [
       "1. 864\n",
       "2. 46\n",
       "\n",
       "\n"
      ],
      "text/plain": [
       "[1] 864  46"
      ]
     },
     "metadata": {},
     "output_type": "display_data"
    }
   ],
   "source": [
    "dim(sample.info)"
   ]
  },
  {
   "cell_type": "markdown",
   "id": "778c1ee4-48d3-4192-95a3-6ec325e729fd",
   "metadata": {},
   "source": [
    "Some patient identifiers may have a GA- prefix that has been dropped in future releases of the data. If this identifier exists, I drop the prefix."
   ]
  },
  {
   "cell_type": "code",
   "execution_count": 21,
   "id": "245ee225-fe81-45fe-a318-60e08392c8c6",
   "metadata": {},
   "outputs": [],
   "source": [
    "ga.prefix.filter <- grepl(\"GA\", sample.info$supplier_name)\n",
    "\n",
    "sample.info$supplier_name[ga.prefix.filter] <- gsub(\"^GA\", \"\", sample.info$supplier_name[ga.prefix.filter])"
   ]
  },
  {
   "cell_type": "code",
   "execution_count": 22,
   "id": "94a81f67-3347-4942-bf6c-2d07bb97f912",
   "metadata": {},
   "outputs": [
    {
     "data": {
      "text/html": [
       "<table class=\"dataframe\">\n",
       "<caption>A data.frame: 6 × 2</caption>\n",
       "<thead>\n",
       "\t<tr><th></th><th scope=col>SangerSampleID</th><th scope=col>GAinSID</th></tr>\n",
       "\t<tr><th></th><th scope=col>&lt;chr&gt;</th><th scope=col>&lt;chr&gt;</th></tr>\n",
       "</thead>\n",
       "<tbody>\n",
       "\t<tr><th scope=row>1</th><td>gains8032857</td><td>UK02270173_3</td></tr>\n",
       "\t<tr><th scope=row>2</th><td>gains8032858</td><td>UK15130120_3</td></tr>\n",
       "\t<tr><th scope=row>3</th><td>gains8032859</td><td>UK58000006_3</td></tr>\n",
       "\t<tr><th scope=row>4</th><td>gains8032860</td><td>UK47010004_3</td></tr>\n",
       "\t<tr><th scope=row>5</th><td>gains8032861</td><td>UK42020088_5</td></tr>\n",
       "\t<tr><th scope=row>6</th><td>gains8032862</td><td>UK47490007_3</td></tr>\n",
       "</tbody>\n",
       "</table>\n"
      ],
      "text/latex": [
       "A data.frame: 6 × 2\n",
       "\\begin{tabular}{r|ll}\n",
       "  & SangerSampleID & GAinSID\\\\\n",
       "  & <chr> & <chr>\\\\\n",
       "\\hline\n",
       "\t1 & gains8032857 & UK02270173\\_3\\\\\n",
       "\t2 & gains8032858 & UK15130120\\_3\\\\\n",
       "\t3 & gains8032859 & UK58000006\\_3\\\\\n",
       "\t4 & gains8032860 & UK47010004\\_3\\\\\n",
       "\t5 & gains8032861 & UK42020088\\_5\\\\\n",
       "\t6 & gains8032862 & UK47490007\\_3\\\\\n",
       "\\end{tabular}\n"
      ],
      "text/markdown": [
       "\n",
       "A data.frame: 6 × 2\n",
       "\n",
       "| <!--/--> | SangerSampleID &lt;chr&gt; | GAinSID &lt;chr&gt; |\n",
       "|---|---|---|\n",
       "| 1 | gains8032857 | UK02270173_3 |\n",
       "| 2 | gains8032858 | UK15130120_3 |\n",
       "| 3 | gains8032859 | UK58000006_3 |\n",
       "| 4 | gains8032860 | UK47010004_3 |\n",
       "| 5 | gains8032861 | UK42020088_5 |\n",
       "| 6 | gains8032862 | UK47490007_3 |\n",
       "\n"
      ],
      "text/plain": [
       "  SangerSampleID GAinSID     \n",
       "1 gains8032857   UK02270173_3\n",
       "2 gains8032858   UK15130120_3\n",
       "3 gains8032859   UK58000006_3\n",
       "4 gains8032860   UK47010004_3\n",
       "5 gains8032861   UK42020088_5\n",
       "6 gains8032862   UK47490007_3"
      ]
     },
     "metadata": {},
     "output_type": "display_data"
    }
   ],
   "source": [
    "head(sample.key)"
   ]
  },
  {
   "cell_type": "code",
   "execution_count": 23,
   "id": "ae4b444e-0b69-4992-870f-a2342de868bf",
   "metadata": {},
   "outputs": [
    {
     "data": {
      "text/html": [
       "<style>\n",
       ".list-inline {list-style: none; margin:0; padding: 0}\n",
       ".list-inline>li {display: inline-block}\n",
       ".list-inline>li:not(:last-child)::after {content: \"\\00b7\"; padding: 0 .5ex}\n",
       "</style>\n",
       "<ol class=list-inline><li>864</li><li>2</li></ol>\n"
      ],
      "text/latex": [
       "\\begin{enumerate*}\n",
       "\\item 864\n",
       "\\item 2\n",
       "\\end{enumerate*}\n"
      ],
      "text/markdown": [
       "1. 864\n",
       "2. 2\n",
       "\n",
       "\n"
      ],
      "text/plain": [
       "[1] 864   2"
      ]
     },
     "metadata": {},
     "output_type": "display_data"
    }
   ],
   "source": [
    "dim(sample.key)"
   ]
  },
  {
   "cell_type": "markdown",
   "id": "9d4e5e3b-b13c-4f96-a55e-7d1a09d4aeb3",
   "metadata": {},
   "source": [
    "Some patient identifiers may have a GA- prefix that has been dropped in future releases of the data. If this identifier exists, I drop the prefix."
   ]
  },
  {
   "cell_type": "code",
   "execution_count": 27,
   "id": "ea440e82-e522-40bc-af0e-3d76ecaccd2f",
   "metadata": {},
   "outputs": [],
   "source": [
    "ga.prefix.filter <- grepl(\"GA\", sample.key$GAinSID)\n",
    "\n",
    "sample.key$GAinSID[ga.prefix.filter] <- gsub(\"^GA\", \"\", sample.key$GAinSID[ga.prefix.filter])"
   ]
  },
  {
   "cell_type": "markdown",
   "id": "c92a2a9a-7795-4eec-930e-b16b01978337",
   "metadata": {
    "tags": []
   },
   "source": [
    "## WGCNA Checks\n",
    "\n",
    "The following function identifies genes with excessive missing values and outlier samples. It is generally more important for microarray data."
   ]
  },
  {
   "cell_type": "code",
   "execution_count": 28,
   "id": "612566a4-fa76-426d-a4a3-9fbb3f732fb9",
   "metadata": {},
   "outputs": [
    {
     "name": "stdout",
     "output_type": "stream",
     "text": [
      " Flagging genes and samples with too many missing values...\n",
      "  ..step 1\n"
     ]
    },
    {
     "data": {
      "text/html": [
       "TRUE"
      ],
      "text/latex": [
       "TRUE"
      ],
      "text/markdown": [
       "TRUE"
      ],
      "text/plain": [
       "[1] TRUE"
      ]
     },
     "metadata": {},
     "output_type": "display_data"
    }
   ],
   "source": [
    "gsg <- goodSamplesGenes(gene.exp)\n",
    "gsg$allOK"
   ]
  },
  {
   "cell_type": "markdown",
   "id": "ae0e1ae0-aaa3-49f8-ba84-9c4e34472300",
   "metadata": {},
   "source": [
    "## Soft Threshold\n",
    "\n",
    "The adjacency matrix generated using the correlation function does not fit a scale-free topology. A scaling function is used to generate the appropriate gene degree distribution. A parameter of this scaling function, $\\beta$, is estimated by trying multiple values and checking how well the resulting network fits the assumptions of a scale-free network. Here, I try all integer values in $[1,20]$."
   ]
  },
  {
   "cell_type": "code",
   "execution_count": 29,
   "id": "11264511-891b-47ac-ab5f-9b027583cf1b",
   "metadata": {},
   "outputs": [
    {
     "name": "stdout",
     "output_type": "stream",
     "text": [
      "   Power SFT.R.sq  slope truncated.R.sq mean.k. median.k. max.k.\n",
      "1      1    0.211  0.678          0.910 3830.00  3.80e+03 7010.0\n",
      "2      2    0.484 -0.750          0.845 1240.00  1.08e+03 3470.0\n",
      "3      3    0.712 -1.160          0.887  527.00  3.72e+02 2070.0\n",
      "4      4    0.773 -1.340          0.922  265.00  1.58e+02 1370.0\n",
      "5      5    0.793 -1.460          0.941  149.00  7.02e+01  984.0\n",
      "6      6    0.817 -1.520          0.959   90.70  3.42e+01  738.0\n",
      "7      7    0.827 -1.580          0.969   58.60  1.76e+01  572.0\n",
      "8      8    0.834 -1.600          0.974   39.60  9.36e+00  454.0\n",
      "9      9    0.842 -1.620          0.980   27.90  5.11e+00  367.0\n",
      "10    10    0.844 -1.630          0.982   20.20  2.88e+00  301.0\n",
      "11    11    0.848 -1.640          0.981   15.00  1.67e+00  250.0\n",
      "12    12    0.847 -1.630          0.977   11.50  9.90e-01  210.0\n",
      "13    13    0.848 -1.610          0.972    8.90  5.89e-01  177.0\n",
      "14    14    0.843 -1.590          0.962    7.03  3.60e-01  151.0\n",
      "15    15    0.850 -1.550          0.955    5.64  2.22e-01  130.0\n",
      "16    16    0.850 -1.520          0.942    4.58  1.40e-01  112.0\n",
      "17    17    0.864 -1.460          0.934    3.77  9.02e-02   97.2\n",
      "18    18    0.923 -1.380          0.958    3.13  5.75e-02   84.8\n",
      "19    19    0.971 -1.320          0.985    2.63  3.76e-02   74.4\n",
      "20    20    0.970 -1.330          0.986    2.23  2.43e-02   69.7\n"
     ]
    }
   ],
   "source": [
    "powers = seq(1, 20, by=1)\n",
    "\n",
    "# Warning being suppressed - Pearson fallback used when MAD is zero in bicor\n",
    "soft.thresholds = suppressWarnings(\n",
    "    pickSoftThreshold(gene.exp, powerVector=powers, networkType=\"unsigned\", corFnc=bicor)\n",
    ")\n",
    "\n",
    "soft.threshold = soft.thresholds$powerEstimate"
   ]
  },
  {
   "cell_type": "code",
   "execution_count": 30,
   "id": "496d83bc-4f78-47af-a639-4a294692a671",
   "metadata": {},
   "outputs": [
    {
     "data": {
      "image/png": "[encoded data removed]",
      "text/plain": [
       "plot without title"
      ]
     },
     "metadata": {
      "image/png": {
       "height": 360,
       "width": 720
      }
     },
     "output_type": "display_data"
    }
   ],
   "source": [
    "options(repr.plot.width=12, repr.plot.height=6)\n",
    "\n",
    "p1 <- soft.thresholds$fitIndices %>%\n",
    "    ggplot() +\n",
    "    geom_text(aes(x=Power, y=SFT.R.sq, label=Power)) +\n",
    "    xlab(\"Soft Threshold Power\") + ylab(bquote(R^2*\" of Fit to Scale-Free Network\")) +\n",
    "    ggplot_theme\n",
    "\n",
    "p2 <- soft.thresholds$fitIndices %>%\n",
    "    ggplot() +\n",
    "    geom_text(aes(x=Power, y=mean.k., label=Power)) +\n",
    "    xlab(\"Soft Threshold Power\") + ylab(\"Mean Connectivity\") +\n",
    "    ggplot_theme\n",
    "\n",
    "p1 + p2"
   ]
  },
  {
   "cell_type": "code",
   "execution_count": 31,
   "id": "4ae16aa1-7816-493a-b34a-019b63fa1e5a",
   "metadata": {},
   "outputs": [
    {
     "name": "stdout",
     "output_type": "stream",
     "text": [
      "[1] 16\n"
     ]
    }
   ],
   "source": [
    "print(soft.threshold)"
   ]
  },
  {
   "cell_type": "markdown",
   "id": "5d651077-0be3-43fe-92f9-6964278fe764",
   "metadata": {},
   "source": [
    "## Adjacency and TOM Matrices\n",
    "\n",
    "The adjacency matrix defines the similarity between all genes in the sample data. I am using the [biweight midcorrelation](https://en.wikipedia.org/wiki/Biweight_midcorrelation) (`bicor`) function to estimate similarity. It is a median-based approach that is less sensitive to outliers.\n",
    "\n",
    "I use $\\beta=16$ for the scaling function, which was determined in the previous step. Then, the topological overlap metric (TOM) matrix is generated from the adjacency matrix. For details, check the original WGCNA paper."
   ]
  },
  {
   "cell_type": "code",
   "execution_count": 32,
   "id": "2fbee8c0-dbb1-46fa-9873-530529f8cf4f",
   "metadata": {},
   "outputs": [
    {
     "name": "stderr",
     "output_type": "stream",
     "text": [
      "Warning message in (function (x, y = NULL, robustX = TRUE, robustY = TRUE, use = \"all.obs\", :\n",
      "“bicor: zero MAD in variable 'x'. Pearson correlation was used for individual columns with zero (or missing) MAD.”\n"
     ]
    },
    {
     "name": "stdout",
     "output_type": "stream",
     "text": [
      "..connectivity..\n",
      "..matrix multiplication (system BLAS)..\n",
      "..normalization..\n",
      "..done.\n"
     ]
    },
    {
     "name": "stderr",
     "output_type": "stream",
     "text": [
      "Warning message in dir.create(\"~/gains_team282/nikhil/expression/gene_expression/\", :\n",
      "“'/nfs/users/nfs_n/nm18/gains_team282/nikhil/expression/gene_expression' already exists”\n"
     ]
    }
   ],
   "source": [
    "adjacency.matrix = adjacency(gene.exp, type=\"unsigned\", corFnc=bicor, corOptions=list(use=\"pairwise.complete.obs\", pearsonFallback=\"individual\"), power=soft.threshold)\n",
    "\n",
    "TOM.matrix = TOMsimilarity(adjacency.matrix)\n",
    "\n",
    "dir.create(\"~/gains_team282/nikhil/expression/gene_expression/\", recursive=TRUE)\n",
    "saveRDS(TOM.matrix, file=\"~/gains_team282/nikhil/expression/gene_expression/TOM.matrix.RDS\")\n",
    "\n",
    "TOM.dist = 1 - TOM.matrix"
   ]
  },
  {
   "cell_type": "markdown",
   "id": "ccf145a6-f83f-4354-bc17-61e2846174be",
   "metadata": {},
   "source": [
    "## Clustering TOM Matrix\n",
    "\n",
    "The gene co-expression modules are generated by clustering the TOM matrix."
   ]
  },
  {
   "cell_type": "code",
   "execution_count": 33,
   "id": "2487195a-53a4-426c-8f09-96f52f82fb9b",
   "metadata": {},
   "outputs": [
    {
     "data": {
      "text/html": [
       "<strong>png:</strong> 2"
      ],
      "text/latex": [
       "\\textbf{png:} 2"
      ],
      "text/markdown": [
       "**png:** 2"
      ],
      "text/plain": [
       "png \n",
       "  2 "
      ]
     },
     "metadata": {},
     "output_type": "display_data"
    },
    {
     "name": "stdout",
     "output_type": "stream",
     "text": [
      " ..cutHeight not given, setting it to 0.999  ===>  99% of the (truncated) height range in dendro.\n",
      " ..done.\n"
     ]
    }
   ],
   "source": [
    "dendrogram = hclust(as.dist(TOM.dist), method=\"average\")\n",
    "\n",
    "svg(filename=\"04_Expression/results/gene_expression_dendrogram.svg\", width=8, height=5)\n",
    "plot(dendrogram, labels=FALSE, main=\"Gene Expression TOM Dendrogram\")\n",
    "dev.off()\n",
    "\n",
    "dynamic.mods = cutreeDynamic(\n",
    "  dendro=dendrogram, distM=TOM.dist, pamRespectsDendro=FALSE,\n",
    "  minClusterSize = 10\n",
    ")\n",
    "rm(TOM.dist)"
   ]
  },
  {
   "cell_type": "code",
   "execution_count": 34,
   "id": "4caa531b-8661-4a87-81fb-99c8b1a5a548",
   "metadata": {},
   "outputs": [
    {
     "data": {
      "image/png": "[encoded data removed]",
      "text/plain": [
       "Plot with title “Gene Expression TOM Dendrogram”"
      ]
     },
     "metadata": {
      "image/png": {
       "height": 300,
       "width": 480
      }
     },
     "output_type": "display_data"
    }
   ],
   "source": [
    "options(repr.plot.width=8, repr.plot.height=5)\n",
    "\n",
    "plot(dendrogram, labels=FALSE, main=\"Gene Expression TOM Dendrogram\")"
   ]
  },
  {
   "cell_type": "markdown",
   "id": "db6a4936-55aa-4558-b9aa-3570c2ba1523",
   "metadata": {},
   "source": [
    "Here, I merge similar modules based on their module eigengenes. I am merging all modules with a distance of less than 0.1 (a correlation between module eigengenes of greater than 0.9)"
   ]
  },
  {
   "cell_type": "code",
   "execution_count": 42,
   "id": "e5e77bb8-6f8c-4dbd-9255-cb299450cc05",
   "metadata": {},
   "outputs": [],
   "source": [
    "me.data = moduleEigengenes(gene.exp, colors=dynamic.mods)\n",
    "me = me.data$eigengenes\n",
    "me.dist = 1 - cor(me, use=\"p\", method=\"spearman\")\n",
    "me.tree = hclust(as.dist(me.dist), method=\"average\")"
   ]
  },
  {
   "cell_type": "code",
   "execution_count": 43,
   "id": "c360e9e8-1ca7-4fce-89bc-f3aa47e72aa7",
   "metadata": {},
   "outputs": [
    {
     "data": {
      "text/html": [
       "<strong>png:</strong> 2"
      ],
      "text/latex": [
       "\\textbf{png:} 2"
      ],
      "text/markdown": [
       "**png:** 2"
      ],
      "text/plain": [
       "png \n",
       "  2 "
      ]
     },
     "metadata": {},
     "output_type": "display_data"
    }
   ],
   "source": [
    "svg(filename=\"04_Expression/results/initial_module_tree.svg\", width=10, height=6)\n",
    "plot(me.tree, main=\"Clustering of Module Eigengenes\")\n",
    "\n",
    "me.dist.threshold = 0.1\n",
    "abline(h=me.dist.threshold, col=\"firebrick1\")\n",
    "dev.off()"
   ]
  },
  {
   "cell_type": "markdown",
   "id": "88f53444-0ea5-4feb-bd8a-1a30cca47046",
   "metadata": {},
   "source": [
    "![](../results/initial_module_tree.svg)"
   ]
  },
  {
   "cell_type": "code",
   "execution_count": 44,
   "id": "186e14cd-addc-4f54-b694-55434f342849",
   "metadata": {},
   "outputs": [
    {
     "name": "stdout",
     "output_type": "stream",
     "text": [
      " mergeCloseModules: Merging modules whose distance is less than 0.1\n",
      "   Calculating new MEs...\n"
     ]
    }
   ],
   "source": [
    "merge = mergeCloseModules(\n",
    "    gene.exp, \n",
    "    colors=dynamic.mods, \n",
    "    cutHeight=me.dist.threshold,\n",
    "    corOptions=list(use=\"p\", method=\"spearman\")\n",
    ")\n",
    "merge.mods = merge$colors"
   ]
  },
  {
   "cell_type": "markdown",
   "id": "dfbb8895-8656-4de0-a7ce-d3a398c8b270",
   "metadata": {},
   "source": [
    "The merged modules are not labeled by frequency. I refactor the module names to name them in decreasing order. The 0-th module represents unassigned genes and remains 0 regardless of the number of genes in the module."
   ]
  },
  {
   "cell_type": "code",
   "execution_count": 45,
   "id": "3e2a8cf3-32ee-44bc-8ac1-c61735870d47",
   "metadata": {},
   "outputs": [],
   "source": [
    "merge.mods.no.zero = merge.mods[merge.mods != 0]\n",
    "\n",
    "freq.mod.labels = 0:length(table(merge.mods.no.zero))\n",
    "names(freq.mod.labels) = c(\"0\", names(table(merge.mods.no.zero))[order(table(merge.mods.no.zero), decreasing=T)])\n",
    "\n",
    "merge.mods = as.numeric(as.character(plyr::revalue(factor(merge.mods), replace=freq.mod.labels)))"
   ]
  },
  {
   "cell_type": "code",
   "execution_count": 46,
   "id": "8759aa9e-3a21-4719-9813-164e29d11b79",
   "metadata": {},
   "outputs": [
    {
     "data": {
      "text/plain": [
       "merge.mods\n",
       "   0    1    2    3    4    5    6    7    8    9   10   11   12   13   14   15 \n",
       "8666 1344  646  624  584  576  518  483  447  440  419  417  325  306  289  264 \n",
       "  16   17   18   19   20   21   22   23   24   25   26   27   28   29   30   31 \n",
       " 253  236  230  228  212  207  205  199  163  154  131  117  103  101   94   93 \n",
       "  32   33   34   35   36   37   38   39   40   41   42   43   44   45   46   47 \n",
       "  77   76   76   74   71   64   64   50   49   48   46   46   43   41   41   36 \n",
       "  48   49   50   51   52   53   54   55   56   57   58   59   60   61   62   63 \n",
       "  36   34   32   31   31   30   24   23   23   22   22   20   19   18   17   16 \n",
       "  64   65   66 \n",
       "  15   12   11 "
      ]
     },
     "metadata": {},
     "output_type": "display_data"
    }
   ],
   "source": [
    "table(merge.mods)"
   ]
  },
  {
   "cell_type": "markdown",
   "id": "b53045a0-b21a-4f1e-9889-6a7fb6abd80e",
   "metadata": {
    "tags": []
   },
   "source": [
    "## Intra- and Inter-Module Connectivity\n",
    "\n",
    "Connectivity is a measure assigned to each gene that describes how well the gene fits into a certain group of genes. Intra-module connectivity is a measure of how well the gene belongs to the module, Conversely, inter-module connectivity is a measure of how well the gene belongs to all other genes outside the module. Genes that are more \"central\" in the module will tend to have a high intra-module connectivity and a low inter-module connectivity."
   ]
  },
  {
   "cell_type": "code",
   "execution_count": 47,
   "id": "2db95ed7-0cfe-4e09-bd3a-0d85d28b8b91",
   "metadata": {},
   "outputs": [],
   "source": [
    "connectivity <- intramodularConnectivity(TOM.matrix, colors=merge.mods)\n",
    "rownames(connectivity) <- colnames(gene.exp)"
   ]
  },
  {
   "cell_type": "markdown",
   "id": "1558defd-105b-4ef3-a57e-3dac945a0997",
   "metadata": {},
   "source": [
    "## Co-Expression Module Size Distribution"
   ]
  },
  {
   "cell_type": "code",
   "execution_count": 48,
   "id": "ef073dd1-8d75-4af2-b39c-9d3571f8d2dc",
   "metadata": {},
   "outputs": [
    {
     "data": {
      "image/png": "[encoded data removed]",
      "text/plain": [
       "plot without title"
      ]
     },
     "metadata": {
      "image/png": {
       "height": 300,
       "width": 480
      }
     },
     "output_type": "display_data"
    }
   ],
   "source": [
    "plot.data <- as.data.frame(table(merge.mods)) %>%\n",
    "  dplyr::select(Module=1, Frequency=Freq) %>%\n",
    "  dplyr::filter(Module != 0)\n",
    "\n",
    "options(repr.plot.width=8, repr.plot.height=5)\n",
    "\n",
    "ggplot(plot.data) +\n",
    "  geom_col(aes(x=Module, y=Frequency), width=1) +\n",
    "  xlab(\"Module\") + ylab(\"Number of Genes\") +\n",
    "  ggplot_theme +\n",
    "  theme(axis.text.x=element_blank(), axis.ticks.x=element_blank())\n",
    "ggsave(filename=\"04_Expression/results/gene_coexpression_module_sizes.svg\", width=8, height=5)"
   ]
  },
  {
   "cell_type": "markdown",
   "id": "25ee943b-4a8c-4cc9-a718-fc9a2e10b2ac",
   "metadata": {},
   "source": [
    "## Save Gene Co-Expression Modules\n",
    "\n",
    "I save a the list of genes and their assigned modules, the eigengenes, the variance explained by each eigengene, and the connectivity information for each gene.\n",
    "\n",
    "The modules are labelled `Module_1,Module_2,...`. `Module_0` contains genes that were not assigned to any co-expression module by WGCNA and are therefore labelled as `Unassigned`.\n",
    "\n",
    "The eigengene of a given co-expression module is the first principal component of the gene expression for the genes within the module.\n",
    "\n",
    "The variance explained by each eigengene tells us how well the eigengene captures the overall variation found within the module expression data."
   ]
  },
  {
   "cell_type": "code",
   "execution_count": 49,
   "id": "f1fc9723-21f7-4eec-b481-5eaf9b311ea2",
   "metadata": {},
   "outputs": [],
   "source": [
    "### Module Assignment\n",
    "\n",
    "gene.list <- colnames(gene.exp)\n",
    "\n",
    "mod.assignment <- merge.mods\n",
    "mod.labels <- paste0(\"Module_\", mod.assignment)\n",
    "mod.labels[mod.labels == \"Module_0\"] <- \"Unassigned\"\n",
    "\n",
    "modules <- data.frame(\n",
    "  Gene=gene.list,\n",
    "  Module=mod.labels\n",
    ") %>%\n",
    "  dplyr::arrange(Module, Gene)\n",
    "\n",
    "write.csv(modules, \"~/gains_team282/nikhil/expression/gene_expression/modules.csv\", row.names=F)\n",
    "\n",
    "### Eigengenes\n",
    "\n",
    "eigengenes.result <- moduleEigengenes(gene.exp[mod.labels != \"Unassigned\"], colors=mod.labels[mod.labels != \"Unassigned\"])\n",
    "eigengene.order <- order(as.numeric(sapply(strsplit(colnames(eigengenes.result$eigengenes), \"_\"), function(x) x[2])))\n",
    "\n",
    "eigengenes <- eigengenes.result$eigengenes\n",
    "colnames(eigengenes) <- sapply(strsplit(colnames(eigengenes), \"_\"), function(x) paste0(\"ME_\", x[2]))\n",
    "eigengenes <- eigengenes[,eigengene.order]\n",
    "\n",
    "rownames(eigengenes) <- rownames(gene.exp)\n",
    "\n",
    "write.csv(eigengenes, \"~/gains_team282/nikhil/expression/gene_expression/eigengenes.csv\")\n",
    "\n",
    "variance.explained <- data.frame(\n",
    "  Module=colnames(eigengenes),\n",
    "  Var.Explained=t(eigengenes.result$varExplained[eigengene.order])[,1]\n",
    ")\n",
    "\n",
    "write.csv(variance.explained, \"~/gains_team282/nikhil/expression/gene_expression/variance.explained.csv\", row.names=F)\n",
    "\n",
    "### Connectivity\n",
    "\n",
    "connectivity <- connectivity[modules$Gene,]\n",
    "connectivity <- cbind(connectivity, modules$Module)\n",
    "colnames(connectivity)[ncol(connectivity)] <- \"Module\"\n",
    "\n",
    "write.csv(connectivity, \"~/gains_team282/nikhil/expression/gene_expression/connectivity.csv\")"
   ]
  },
  {
   "cell_type": "code",
   "execution_count": null,
   "id": "d60e3b95-487a-4379-9521-750f387fae57",
   "metadata": {},
   "outputs": [],
   "source": []
  }
 ],
 "metadata": {
  "kernelspec": {
   "display_name": "R",
   "language": "R",
   "name": "ir"
  },
  "language_info": {
   "codemirror_mode": "r",
   "file_extension": ".r",
   "mimetype": "text/x-r-source",
   "name": "R",
   "pygments_lexer": "r",
   "version": "4.0.5"
  }
 },
 "nbformat": 4,
 "nbformat_minor": 5
}
