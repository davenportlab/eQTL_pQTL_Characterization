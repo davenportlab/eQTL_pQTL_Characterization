{
 "cells": [
  {
   "cell_type": "markdown",
   "id": "6c2d97af-d253-4a4f-8ea7-1bae00d3dea9",
   "metadata": {},
   "source": [
    "# Predictors\n",
    "\n",
    "**Created**: 21 June 2022"
   ]
  },
  {
   "cell_type": "markdown",
   "id": "1f480ad3-fe5f-4f78-bbd6-015aa49fae4a",
   "metadata": {},
   "source": [
    "## Environment"
   ]
  },
  {
   "cell_type": "code",
   "execution_count": 30,
   "id": "994a46fa-121e-42bb-8c5d-10271f3d02c9",
   "metadata": {},
   "outputs": [],
   "source": [
    "import re\n",
    "import datetime\n",
    "\n",
    "import numpy as np\n",
    "import pandas as pd\n",
    "import statsmodels.api as sm\n",
    "import matplotlib.pyplot as plt\n",
    "from sklearn.decomposition import PCA\n",
    "from sklearn.model_selection import train_test_split\n",
    "from sklearn.model_selection import KFold\n",
    "from sklearn.svm import SVC\n",
    "from sklearn.metrics import confusion_matrix"
   ]
  },
  {
   "cell_type": "markdown",
   "id": "d67aff94-133a-4491-add8-e59699cab1ae",
   "metadata": {},
   "source": [
    "## Load Data"
   ]
  },
  {
   "cell_type": "markdown",
   "id": "360eccf1-aa84-4bf9-869c-3daa3b5c80b7",
   "metadata": {},
   "source": [
    "Load eigengenes. In this case, I am including all the eigengenes (included the extended set)."
   ]
  },
  {
   "cell_type": "code",
   "execution_count": 2,
   "id": "ce0b66fa-b028-48bd-b6eb-c9115bc3f590",
   "metadata": {},
   "outputs": [],
   "source": [
    "eigen_all = pd.read_csv('/nfs/users/nfs_n/nm18/gains_team282/nikhil/expression/gene_expression/eigengenes.multiple.csv', index_col=0)\n",
    "\n",
    "eigen_all['ID'] = [re.sub('^GA', '', x) for x in eigen_all.index.to_list()]"
   ]
  },
  {
   "cell_type": "code",
   "execution_count": 3,
   "id": "fb0981d1-3704-432a-a914-6a555da32514",
   "metadata": {},
   "outputs": [
    {
     "data": {
      "text/html": [
       "<div>\n",
       "<style scoped>\n",
       "    .dataframe tbody tr th:only-of-type {\n",
       "        vertical-align: middle;\n",
       "    }\n",
       "\n",
       "    .dataframe tbody tr th {\n",
       "        vertical-align: top;\n",
       "    }\n",
       "\n",
       "    .dataframe thead th {\n",
       "        text-align: right;\n",
       "    }\n",
       "</style>\n",
       "<table border=\"1\" class=\"dataframe\">\n",
       "  <thead>\n",
       "    <tr style=\"text-align: right;\">\n",
       "      <th></th>\n",
       "      <th>ME_1_1</th>\n",
       "      <th>ME_1_2</th>\n",
       "      <th>ME_1_3</th>\n",
       "      <th>ME_1_4</th>\n",
       "      <th>ME_1_5</th>\n",
       "      <th>ME_2_1</th>\n",
       "      <th>ME_2_2</th>\n",
       "      <th>ME_2_3</th>\n",
       "      <th>ME_2_4</th>\n",
       "      <th>ME_2_5</th>\n",
       "      <th>...</th>\n",
       "      <th>ME_105_2</th>\n",
       "      <th>ME_105_3</th>\n",
       "      <th>ME_105_4</th>\n",
       "      <th>ME_105_5</th>\n",
       "      <th>ME_106_1</th>\n",
       "      <th>ME_106_2</th>\n",
       "      <th>ME_106_3</th>\n",
       "      <th>ME_106_4</th>\n",
       "      <th>ME_106_5</th>\n",
       "      <th>ID</th>\n",
       "    </tr>\n",
       "  </thead>\n",
       "  <tbody>\n",
       "    <tr>\n",
       "      <th>UK02270173_3</th>\n",
       "      <td>0.008640</td>\n",
       "      <td>-0.041658</td>\n",
       "      <td>0.027431</td>\n",
       "      <td>-0.020437</td>\n",
       "      <td>0.018139</td>\n",
       "      <td>0.007926</td>\n",
       "      <td>-0.038815</td>\n",
       "      <td>0.030584</td>\n",
       "      <td>-0.014329</td>\n",
       "      <td>0.009126</td>\n",
       "      <td>...</td>\n",
       "      <td>0.010338</td>\n",
       "      <td>0.031573</td>\n",
       "      <td>0.030836</td>\n",
       "      <td>-0.015560</td>\n",
       "      <td>-0.003318</td>\n",
       "      <td>0.018504</td>\n",
       "      <td>0.001776</td>\n",
       "      <td>0.034255</td>\n",
       "      <td>0.002439</td>\n",
       "      <td>UK02270173_3</td>\n",
       "    </tr>\n",
       "    <tr>\n",
       "      <th>UK15130120_3</th>\n",
       "      <td>-0.037073</td>\n",
       "      <td>-0.017956</td>\n",
       "      <td>-0.007283</td>\n",
       "      <td>-0.026494</td>\n",
       "      <td>0.003340</td>\n",
       "      <td>-0.033179</td>\n",
       "      <td>-0.019919</td>\n",
       "      <td>-0.016884</td>\n",
       "      <td>-0.014853</td>\n",
       "      <td>0.049310</td>\n",
       "      <td>...</td>\n",
       "      <td>-0.001612</td>\n",
       "      <td>0.005625</td>\n",
       "      <td>0.027354</td>\n",
       "      <td>-0.036702</td>\n",
       "      <td>-0.012327</td>\n",
       "      <td>0.044057</td>\n",
       "      <td>0.013145</td>\n",
       "      <td>0.017988</td>\n",
       "      <td>-0.001779</td>\n",
       "      <td>UK15130120_3</td>\n",
       "    </tr>\n",
       "    <tr>\n",
       "      <th>UK58000006_3</th>\n",
       "      <td>0.029671</td>\n",
       "      <td>-0.034817</td>\n",
       "      <td>0.028491</td>\n",
       "      <td>-0.009484</td>\n",
       "      <td>-0.005862</td>\n",
       "      <td>0.021490</td>\n",
       "      <td>-0.034801</td>\n",
       "      <td>0.030147</td>\n",
       "      <td>-0.003962</td>\n",
       "      <td>-0.032947</td>\n",
       "      <td>...</td>\n",
       "      <td>-0.045792</td>\n",
       "      <td>0.033492</td>\n",
       "      <td>-0.042006</td>\n",
       "      <td>0.027491</td>\n",
       "      <td>-0.004741</td>\n",
       "      <td>0.046382</td>\n",
       "      <td>-0.043310</td>\n",
       "      <td>0.028731</td>\n",
       "      <td>-0.024052</td>\n",
       "      <td>UK58000006_3</td>\n",
       "    </tr>\n",
       "    <tr>\n",
       "      <th>UK47010004_3</th>\n",
       "      <td>0.011955</td>\n",
       "      <td>0.010920</td>\n",
       "      <td>0.038665</td>\n",
       "      <td>0.003727</td>\n",
       "      <td>0.052019</td>\n",
       "      <td>0.007361</td>\n",
       "      <td>0.017637</td>\n",
       "      <td>0.034907</td>\n",
       "      <td>-0.005574</td>\n",
       "      <td>-0.016191</td>\n",
       "      <td>...</td>\n",
       "      <td>-0.010006</td>\n",
       "      <td>0.019263</td>\n",
       "      <td>0.000963</td>\n",
       "      <td>0.061165</td>\n",
       "      <td>0.012015</td>\n",
       "      <td>0.016376</td>\n",
       "      <td>-0.003045</td>\n",
       "      <td>-0.018223</td>\n",
       "      <td>-0.020638</td>\n",
       "      <td>UK47010004_3</td>\n",
       "    </tr>\n",
       "    <tr>\n",
       "      <th>UK42020088_5</th>\n",
       "      <td>0.009819</td>\n",
       "      <td>0.021002</td>\n",
       "      <td>-0.019852</td>\n",
       "      <td>-0.013053</td>\n",
       "      <td>-0.030223</td>\n",
       "      <td>0.008323</td>\n",
       "      <td>0.017129</td>\n",
       "      <td>-0.023947</td>\n",
       "      <td>0.003194</td>\n",
       "      <td>0.019716</td>\n",
       "      <td>...</td>\n",
       "      <td>-0.001258</td>\n",
       "      <td>-0.019761</td>\n",
       "      <td>-0.007900</td>\n",
       "      <td>0.029880</td>\n",
       "      <td>0.007916</td>\n",
       "      <td>-0.016497</td>\n",
       "      <td>0.013251</td>\n",
       "      <td>-0.031445</td>\n",
       "      <td>-0.014169</td>\n",
       "      <td>UK42020088_5</td>\n",
       "    </tr>\n",
       "  </tbody>\n",
       "</table>\n",
       "<p>5 rows × 531 columns</p>\n",
       "</div>"
      ],
      "text/plain": [
       "                ME_1_1    ME_1_2    ME_1_3    ME_1_4    ME_1_5    ME_2_1  \\\n",
       "UK02270173_3  0.008640 -0.041658  0.027431 -0.020437  0.018139  0.007926   \n",
       "UK15130120_3 -0.037073 -0.017956 -0.007283 -0.026494  0.003340 -0.033179   \n",
       "UK58000006_3  0.029671 -0.034817  0.028491 -0.009484 -0.005862  0.021490   \n",
       "UK47010004_3  0.011955  0.010920  0.038665  0.003727  0.052019  0.007361   \n",
       "UK42020088_5  0.009819  0.021002 -0.019852 -0.013053 -0.030223  0.008323   \n",
       "\n",
       "                ME_2_2    ME_2_3    ME_2_4    ME_2_5  ...  ME_105_2  ME_105_3  \\\n",
       "UK02270173_3 -0.038815  0.030584 -0.014329  0.009126  ...  0.010338  0.031573   \n",
       "UK15130120_3 -0.019919 -0.016884 -0.014853  0.049310  ... -0.001612  0.005625   \n",
       "UK58000006_3 -0.034801  0.030147 -0.003962 -0.032947  ... -0.045792  0.033492   \n",
       "UK47010004_3  0.017637  0.034907 -0.005574 -0.016191  ... -0.010006  0.019263   \n",
       "UK42020088_5  0.017129 -0.023947  0.003194  0.019716  ... -0.001258 -0.019761   \n",
       "\n",
       "              ME_105_4  ME_105_5  ME_106_1  ME_106_2  ME_106_3  ME_106_4  \\\n",
       "UK02270173_3  0.030836 -0.015560 -0.003318  0.018504  0.001776  0.034255   \n",
       "UK15130120_3  0.027354 -0.036702 -0.012327  0.044057  0.013145  0.017988   \n",
       "UK58000006_3 -0.042006  0.027491 -0.004741  0.046382 -0.043310  0.028731   \n",
       "UK47010004_3  0.000963  0.061165  0.012015  0.016376 -0.003045 -0.018223   \n",
       "UK42020088_5 -0.007900  0.029880  0.007916 -0.016497  0.013251 -0.031445   \n",
       "\n",
       "              ME_106_5            ID  \n",
       "UK02270173_3  0.002439  UK02270173_3  \n",
       "UK15130120_3 -0.001779  UK15130120_3  \n",
       "UK58000006_3 -0.024052  UK58000006_3  \n",
       "UK47010004_3 -0.020638  UK47010004_3  \n",
       "UK42020088_5 -0.014169  UK42020088_5  \n",
       "\n",
       "[5 rows x 531 columns]"
      ]
     },
     "execution_count": 3,
     "metadata": {},
     "output_type": "execute_result"
    }
   ],
   "source": [
    "eigen_all.head()"
   ]
  },
  {
   "cell_type": "markdown",
   "id": "78281b58-23c6-4801-8ccc-ce46a6054775",
   "metadata": {},
   "source": [
    "Clinical data, including SOFA and APACHE scores."
   ]
  },
  {
   "cell_type": "code",
   "execution_count": 4,
   "id": "ccc86acb-2e5f-4474-b40f-e94e880b34f9",
   "metadata": {},
   "outputs": [],
   "source": [
    "clinical = pd.read_csv('/nfs/users/nfs_n/nm18/eQTL_pQTL_Characterization/04_Expression/data/clindata_2022-06-21_11-08-38.csv')\n",
    "\n",
    "clinical.columns = ['Sample', 'Visit', 'Diagnosis', 'SOFA', 'APACHE', 'CREAT', 'CV', 'GCS', 'BRN', 'PLT', 'RESP']\n",
    "\n",
    "clinical['Sample'] = [re.sub('^GA', '', x) for x in clinical['Sample'].to_list()]\n",
    "clinical['Visit'] = clinical['Visit'].map(lambda x: int(re.sub('Day ', '', x)))\n",
    "clinical['ID'] = [f'{x}_{y}' for x, y in zip(clinical['Sample'].to_list(), clinical['Visit'].to_list())]"
   ]
  },
  {
   "cell_type": "code",
   "execution_count": 5,
   "id": "a6948078-441c-417b-a03c-643156e8f933",
   "metadata": {},
   "outputs": [
    {
     "data": {
      "text/html": [
       "<div>\n",
       "<style scoped>\n",
       "    .dataframe tbody tr th:only-of-type {\n",
       "        vertical-align: middle;\n",
       "    }\n",
       "\n",
       "    .dataframe tbody tr th {\n",
       "        vertical-align: top;\n",
       "    }\n",
       "\n",
       "    .dataframe thead th {\n",
       "        text-align: right;\n",
       "    }\n",
       "</style>\n",
       "<table border=\"1\" class=\"dataframe\">\n",
       "  <thead>\n",
       "    <tr style=\"text-align: right;\">\n",
       "      <th></th>\n",
       "      <th>Sample</th>\n",
       "      <th>Visit</th>\n",
       "      <th>Diagnosis</th>\n",
       "      <th>SOFA</th>\n",
       "      <th>APACHE</th>\n",
       "      <th>CREAT</th>\n",
       "      <th>CV</th>\n",
       "      <th>GCS</th>\n",
       "      <th>BRN</th>\n",
       "      <th>PLT</th>\n",
       "      <th>RESP</th>\n",
       "      <th>ID</th>\n",
       "    </tr>\n",
       "  </thead>\n",
       "  <tbody>\n",
       "    <tr>\n",
       "      <th>0</th>\n",
       "      <td>UK42570146</td>\n",
       "      <td>7</td>\n",
       "      <td>Community Acquired Pneumonia</td>\n",
       "      <td>0</td>\n",
       "      <td>NaN</td>\n",
       "      <td>0.0</td>\n",
       "      <td>0.0</td>\n",
       "      <td>0.0</td>\n",
       "      <td>0.0</td>\n",
       "      <td>NaN</td>\n",
       "      <td>NaN</td>\n",
       "      <td>UK42570146_7</td>\n",
       "    </tr>\n",
       "    <tr>\n",
       "      <th>1</th>\n",
       "      <td>UK02770067</td>\n",
       "      <td>2</td>\n",
       "      <td>Faecal Peritonitis</td>\n",
       "      <td>10</td>\n",
       "      <td>NaN</td>\n",
       "      <td>4.0</td>\n",
       "      <td>4.0</td>\n",
       "      <td>0.0</td>\n",
       "      <td>0.0</td>\n",
       "      <td>0.0</td>\n",
       "      <td>2.0</td>\n",
       "      <td>UK02770067_2</td>\n",
       "    </tr>\n",
       "    <tr>\n",
       "      <th>2</th>\n",
       "      <td>UK02770067</td>\n",
       "      <td>3</td>\n",
       "      <td>Faecal Peritonitis</td>\n",
       "      <td>10</td>\n",
       "      <td>NaN</td>\n",
       "      <td>4.0</td>\n",
       "      <td>4.0</td>\n",
       "      <td>0.0</td>\n",
       "      <td>0.0</td>\n",
       "      <td>0.0</td>\n",
       "      <td>2.0</td>\n",
       "      <td>UK02770067_3</td>\n",
       "    </tr>\n",
       "    <tr>\n",
       "      <th>3</th>\n",
       "      <td>UK02770067</td>\n",
       "      <td>1</td>\n",
       "      <td>Faecal Peritonitis</td>\n",
       "      <td>10</td>\n",
       "      <td>23.0</td>\n",
       "      <td>4.0</td>\n",
       "      <td>4.0</td>\n",
       "      <td>0.0</td>\n",
       "      <td>0.0</td>\n",
       "      <td>0.0</td>\n",
       "      <td>2.0</td>\n",
       "      <td>UK02770067_1</td>\n",
       "    </tr>\n",
       "    <tr>\n",
       "      <th>4</th>\n",
       "      <td>UK02770067</td>\n",
       "      <td>5</td>\n",
       "      <td>Faecal Peritonitis</td>\n",
       "      <td>10</td>\n",
       "      <td>NaN</td>\n",
       "      <td>4.0</td>\n",
       "      <td>4.0</td>\n",
       "      <td>0.0</td>\n",
       "      <td>0.0</td>\n",
       "      <td>0.0</td>\n",
       "      <td>2.0</td>\n",
       "      <td>UK02770067_5</td>\n",
       "    </tr>\n",
       "  </tbody>\n",
       "</table>\n",
       "</div>"
      ],
      "text/plain": [
       "       Sample  Visit                     Diagnosis  SOFA  APACHE  CREAT   CV  \\\n",
       "0  UK42570146      7  Community Acquired Pneumonia     0     NaN    0.0  0.0   \n",
       "1  UK02770067      2            Faecal Peritonitis    10     NaN    4.0  4.0   \n",
       "2  UK02770067      3            Faecal Peritonitis    10     NaN    4.0  4.0   \n",
       "3  UK02770067      1            Faecal Peritonitis    10    23.0    4.0  4.0   \n",
       "4  UK02770067      5            Faecal Peritonitis    10     NaN    4.0  4.0   \n",
       "\n",
       "   GCS  BRN  PLT  RESP            ID  \n",
       "0  0.0  0.0  NaN   NaN  UK42570146_7  \n",
       "1  0.0  0.0  0.0   2.0  UK02770067_2  \n",
       "2  0.0  0.0  0.0   2.0  UK02770067_3  \n",
       "3  0.0  0.0  0.0   2.0  UK02770067_1  \n",
       "4  0.0  0.0  0.0   2.0  UK02770067_5  "
      ]
     },
     "execution_count": 5,
     "metadata": {},
     "output_type": "execute_result"
    }
   ],
   "source": [
    "clinical.head()"
   ]
  },
  {
   "cell_type": "markdown",
   "id": "b796edb8-f5e4-461c-afc6-5c97be26fc59",
   "metadata": {},
   "source": [
    "Outcome information, including death and survival information."
   ]
  },
  {
   "cell_type": "code",
   "execution_count": 6,
   "id": "987f608e-bfa5-4dec-882f-1b3a0349ce9c",
   "metadata": {},
   "outputs": [],
   "source": [
    "outcome = pd.read_csv('/nfs/users/nfs_n/nm18/eQTL_pQTL_Characterization/04_Expression/data/out_2022-06-21_11-16-02.csv')\n",
    "\n",
    "outcome.columns = ['Sample', 'Date_Admit', 'Date_Death', 'Death']\n",
    "\n",
    "outcome['Sample'] = [re.sub('^GA', '', x) for x in outcome['Sample'].to_list()]\n",
    "\n",
    "outcome['Date_Admit'] = outcome['Date_Admit'].map(lambda x: datetime.datetime.strptime(x, '%Y-%m-%d %H:%M'))\n",
    "outcome['Date_Death'] = outcome['Date_Death'].map(lambda x: datetime.datetime.strptime(x, '%Y-%m-%d %H:%M') if type(x) == str else np.nan)\n",
    "outcome['Days_to_Death'] = (outcome['Date_Death'] - outcome['Date_Admit']).dt.days\n",
    "outcome['Days_to_Death'] = outcome['Days_to_Death'].map(lambda x: np.inf if np.isnan(x) else x)\n",
    "outcome['Outcome'] = outcome['Days_to_Death'].map(lambda x: 'Survived' if x > 28 else 'Died')"
   ]
  },
  {
   "cell_type": "code",
   "execution_count": 7,
   "id": "44ee0ff8-fc6b-404c-ba35-fc3fdb16db34",
   "metadata": {},
   "outputs": [
    {
     "data": {
      "text/html": [
       "<div>\n",
       "<style scoped>\n",
       "    .dataframe tbody tr th:only-of-type {\n",
       "        vertical-align: middle;\n",
       "    }\n",
       "\n",
       "    .dataframe tbody tr th {\n",
       "        vertical-align: top;\n",
       "    }\n",
       "\n",
       "    .dataframe thead th {\n",
       "        text-align: right;\n",
       "    }\n",
       "</style>\n",
       "<table border=\"1\" class=\"dataframe\">\n",
       "  <thead>\n",
       "    <tr style=\"text-align: right;\">\n",
       "      <th></th>\n",
       "      <th>Sample</th>\n",
       "      <th>Date_Admit</th>\n",
       "      <th>Date_Death</th>\n",
       "      <th>Death</th>\n",
       "      <th>Days_to_Death</th>\n",
       "      <th>Outcome</th>\n",
       "    </tr>\n",
       "  </thead>\n",
       "  <tbody>\n",
       "    <tr>\n",
       "      <th>0</th>\n",
       "      <td>UK01050129</td>\n",
       "      <td>2016-11-18</td>\n",
       "      <td>NaT</td>\n",
       "      <td>0</td>\n",
       "      <td>inf</td>\n",
       "      <td>Survived</td>\n",
       "    </tr>\n",
       "    <tr>\n",
       "      <th>1</th>\n",
       "      <td>UK01060123</td>\n",
       "      <td>2016-02-01</td>\n",
       "      <td>NaT</td>\n",
       "      <td>0</td>\n",
       "      <td>inf</td>\n",
       "      <td>Survived</td>\n",
       "    </tr>\n",
       "    <tr>\n",
       "      <th>2</th>\n",
       "      <td>UK01070117</td>\n",
       "      <td>2015-11-16</td>\n",
       "      <td>NaT</td>\n",
       "      <td>0</td>\n",
       "      <td>inf</td>\n",
       "      <td>Survived</td>\n",
       "    </tr>\n",
       "    <tr>\n",
       "      <th>3</th>\n",
       "      <td>UK01080111</td>\n",
       "      <td>2015-04-15</td>\n",
       "      <td>NaT</td>\n",
       "      <td>0</td>\n",
       "      <td>inf</td>\n",
       "      <td>Survived</td>\n",
       "    </tr>\n",
       "    <tr>\n",
       "      <th>4</th>\n",
       "      <td>UK01110093</td>\n",
       "      <td>2009-09-09</td>\n",
       "      <td>NaT</td>\n",
       "      <td>0</td>\n",
       "      <td>inf</td>\n",
       "      <td>Survived</td>\n",
       "    </tr>\n",
       "  </tbody>\n",
       "</table>\n",
       "</div>"
      ],
      "text/plain": [
       "       Sample Date_Admit Date_Death  Death  Days_to_Death   Outcome\n",
       "0  UK01050129 2016-11-18        NaT      0            inf  Survived\n",
       "1  UK01060123 2016-02-01        NaT      0            inf  Survived\n",
       "2  UK01070117 2015-11-16        NaT      0            inf  Survived\n",
       "3  UK01080111 2015-04-15        NaT      0            inf  Survived\n",
       "4  UK01110093 2009-09-09        NaT      0            inf  Survived"
      ]
     },
     "execution_count": 7,
     "metadata": {},
     "output_type": "execute_result"
    }
   ],
   "source": [
    "outcome.head()"
   ]
  },
  {
   "cell_type": "markdown",
   "id": "42c98d07-38ec-40e2-ac0e-7bd4d113bf55",
   "metadata": {},
   "source": [
    "Merge all data together. Then, create two datasets: one with repeat measures and one with the first sample measurement per patient. The `full_data` contains repeat measures and the `min_data` contains the first available sample."
   ]
  },
  {
   "cell_type": "code",
   "execution_count": 8,
   "id": "90470a19-aeba-42eb-9d53-71b09279f995",
   "metadata": {},
   "outputs": [],
   "source": [
    "full_data = pd.merge(pd.merge(eigen_all, clinical, on='ID'), outcome, on='Sample')\n",
    "full_data = full_data.set_index('ID')"
   ]
  },
  {
   "cell_type": "code",
   "execution_count": 9,
   "id": "09758d00-5bf6-4691-a1b8-000244e8ecbc",
   "metadata": {},
   "outputs": [],
   "source": [
    "min_samples = full_data.groupby('Sample')['Visit'].min()\n",
    "min_samples = [f'{x}_{y}' for x, y in zip(min_samples.index.to_list(), min_samples.to_list())]"
   ]
  },
  {
   "cell_type": "code",
   "execution_count": 10,
   "id": "05e71bc3-a54d-44cf-a557-0836ebc6dccb",
   "metadata": {},
   "outputs": [],
   "source": [
    "min_data = full_data.loc[min_samples, :]"
   ]
  },
  {
   "cell_type": "markdown",
   "id": "6c912c92-9878-4a2f-9690-577e98800333",
   "metadata": {},
   "source": [
    "## Data Exploration"
   ]
  },
  {
   "cell_type": "code",
   "execution_count": 11,
   "id": "7a83f3af-107d-4d6d-9a33-8dee20336811",
   "metadata": {},
   "outputs": [],
   "source": [
    "eigen_names = [x for x in min_data.columns if re.match('^ME_[0-9]+_1', x)]\n",
    "X = min_data[eigen_names]"
   ]
  },
  {
   "cell_type": "code",
   "execution_count": 12,
   "id": "688c0926-039b-4a85-8cd0-e3f0dbdd1057",
   "metadata": {},
   "outputs": [],
   "source": [
    "pca = PCA(n_components=3).fit_transform(X)"
   ]
  },
  {
   "cell_type": "code",
   "execution_count": 13,
   "id": "0ec847a0-f6f6-4a0d-aa43-af6a246bd5ab",
   "metadata": {},
   "outputs": [
    {
     "data": {
      "text/plain": [
       "<matplotlib.collections.PathCollection at 0x145606d61460>"
      ]
     },
     "execution_count": 13,
     "metadata": {},
     "output_type": "execute_result"
    },
    {
     "data": {
      "image/png": "[encoded data removed]",
      "text/plain": [
       "<Figure size 432x288 with 1 Axes>"
      ]
     },
     "metadata": {
      "needs_background": "light"
     },
     "output_type": "display_data"
    }
   ],
   "source": [
    "plt.scatter(pca[:, 0], pca[:, 1], c=pd.factorize(min_data['Outcome'])[0])"
   ]
  },
  {
   "cell_type": "markdown",
   "id": "2bf562a7-ae82-4773-b7c5-ffc50da29a5b",
   "metadata": {},
   "source": [
    "## SVM"
   ]
  },
  {
   "cell_type": "code",
   "execution_count": 82,
   "id": "0d0a9a1b-9f07-49e1-b383-65890bbdf402",
   "metadata": {},
   "outputs": [],
   "source": [
    "eigen_names = [x for x in min_data.columns if re.match('^ME_[0-9]+', x)]\n",
    "X = min_data[eigen_names].to_numpy()\n",
    "\n",
    "y = pd.factorize(min_data['Outcome'])[0]"
   ]
  },
  {
   "cell_type": "code",
   "execution_count": 83,
   "id": "025b3e4a-8eb7-4124-b322-09564c2255db",
   "metadata": {},
   "outputs": [],
   "source": [
    "X_train, X_test, y_train, y_test = train_test_split(X, y, test_size=0.2, random_state=42)"
   ]
  },
  {
   "cell_type": "code",
   "execution_count": 84,
   "id": "31a8da7b-6286-4fa8-836e-38462bbc4f84",
   "metadata": {},
   "outputs": [],
   "source": [
    "svm = SVC(kernel='rbf', class_weight='balanced')"
   ]
  },
  {
   "cell_type": "code",
   "execution_count": 85,
   "id": "9cb08918-7b0b-48da-b892-ab9ed01c0e7c",
   "metadata": {},
   "outputs": [
    {
     "data": {
      "text/plain": [
       "SVC(class_weight='balanced')"
      ]
     },
     "execution_count": 85,
     "metadata": {},
     "output_type": "execute_result"
    }
   ],
   "source": [
    "svm.fit(X_train, y_train)"
   ]
  },
  {
   "cell_type": "code",
   "execution_count": 86,
   "id": "7f52f375-2b35-4991-beeb-56f6f75d2e73",
   "metadata": {},
   "outputs": [
    {
     "name": "stdout",
     "output_type": "stream",
     "text": [
      "Training Accuracy: 0.9867172675521821\n",
      "Testing Accuracy: 0.8712121212121212\n"
     ]
    }
   ],
   "source": [
    "print(f'Training Accuracy: {svm.score(X_train, y_train)}')\n",
    "print(f'Testing Accuracy: {svm.score(X_test, y_test)}')"
   ]
  },
  {
   "cell_type": "code",
   "execution_count": 87,
   "id": "6cd7fc22-4568-497a-aa80-faa73d1c2d30",
   "metadata": {},
   "outputs": [],
   "source": [
    "kf = KFold(n_splits=X.shape[0])"
   ]
  },
  {
   "cell_type": "code",
   "execution_count": 88,
   "id": "70ace5ca-8f60-47ff-b3f2-2300460bd8d4",
   "metadata": {},
   "outputs": [],
   "source": [
    "actual = list()\n",
    "pred = list()\n",
    "\n",
    "for train_index, test_index in kf.split(X):\n",
    "    X_train, X_test = X[train_index], X[test_index]\n",
    "    y_train, y_test = y[train_index], y[test_index]\n",
    "    svm.fit(X_train, y_train)\n",
    "    pred.append(svm.predict(X_test)[0])\n",
    "    actual.append(y_test[0])"
   ]
  },
  {
   "cell_type": "code",
   "execution_count": 89,
   "id": "28e71c62-8502-4c49-bbe9-ef92616f7bc5",
   "metadata": {},
   "outputs": [
    {
     "data": {
      "text/plain": [
       "array([[542,  39],\n",
       "       [ 61,  17]])"
      ]
     },
     "execution_count": 89,
     "metadata": {},
     "output_type": "execute_result"
    }
   ],
   "source": [
    "confusion_matrix(actual, pred)"
   ]
  },
  {
   "cell_type": "code",
   "execution_count": 94,
   "id": "4b4cf676-4034-44ba-a165-11643e91cc95",
   "metadata": {},
   "outputs": [],
   "source": [
    "x = [\n",
    "    full_data[full_data['Diagnosis'] == 'Community Acquired Pneumonia']['ME_39_1'].to_list(), \n",
    "    full_data[full_data['Diagnosis'] == 'Faecal Peritonitis']['ME_39_1'].to_list()\n",
    "]"
   ]
  },
  {
   "cell_type": "code",
   "execution_count": 95,
   "id": "ed75506b-08b2-4368-bca5-22298a1deee0",
   "metadata": {},
   "outputs": [
    {
     "data": {
      "text/plain": [
       "{'whiskers': [<matplotlib.lines.Line2D at 0x1455fd2fb3d0>,\n",
       "  <matplotlib.lines.Line2D at 0x1455fd2fb6a0>,\n",
       "  <matplotlib.lines.Line2D at 0x1455fd3076a0>,\n",
       "  <matplotlib.lines.Line2D at 0x1455fd307970>],\n",
       " 'caps': [<matplotlib.lines.Line2D at 0x1455fd2d7df0>,\n",
       "  <matplotlib.lines.Line2D at 0x1455fd2fbb20>,\n",
       "  <matplotlib.lines.Line2D at 0x1455fd307c40>,\n",
       "  <matplotlib.lines.Line2D at 0x1455fd307f10>],\n",
       " 'boxes': [<matplotlib.lines.Line2D at 0x1455fd2fb100>,\n",
       "  <matplotlib.lines.Line2D at 0x1455fd3073d0>],\n",
       " 'medians': [<matplotlib.lines.Line2D at 0x1455fd2fbdf0>,\n",
       "  <matplotlib.lines.Line2D at 0x1455fd315220>],\n",
       " 'fliers': [<matplotlib.lines.Line2D at 0x1455fd307100>,\n",
       "  <matplotlib.lines.Line2D at 0x1455fd3154f0>],\n",
       " 'means': []}"
      ]
     },
     "execution_count": 95,
     "metadata": {},
     "output_type": "execute_result"
    },
    {
     "data": {
      "image/png": "[encoded data removed]",
      "text/plain": [
       "<Figure size 432x288 with 1 Axes>"
      ]
     },
     "metadata": {
      "needs_background": "light"
     },
     "output_type": "display_data"
    }
   ],
   "source": [
    "plt.boxplot(x)"
   ]
  },
  {
   "cell_type": "code",
   "execution_count": null,
   "id": "f33ae09c-b289-4b2f-8bca-ebc54b363a84",
   "metadata": {},
   "outputs": [],
   "source": []
  }
 ],
 "metadata": {
  "kernelspec": {
   "display_name": "Python 3 (ipykernel)",
   "language": "python",
   "name": "python3"
  },
  "language_info": {
   "codemirror_mode": {
    "name": "ipython",
    "version": 3
   },
   "file_extension": ".py",
   "mimetype": "text/x-python",
   "name": "python",
   "nbconvert_exporter": "python",
   "pygments_lexer": "ipython3",
   "version": "3.9.12"
  }
 },
 "nbformat": 4,
 "nbformat_minor": 5
}
