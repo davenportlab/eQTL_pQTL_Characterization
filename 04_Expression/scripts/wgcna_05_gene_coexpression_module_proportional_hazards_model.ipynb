{
 "cells": [
  {
   "cell_type": "markdown",
   "id": "1a9b41f2-206d-41b3-ae4f-186f6dd5bd1e",
   "metadata": {},
   "source": [
    "# Module Association with Outcome\n",
    "\n",
    "**Created**: 20 October 2021"
   ]
  },
  {
   "cell_type": "markdown",
   "id": "201fb997-8777-4958-8c8c-dd46c6c40558",
   "metadata": {},
   "source": [
    "## Environment"
   ]
  },
  {
   "cell_type": "code",
   "execution_count": 1,
   "id": "79b11a91-55f6-4f00-be5f-de7ab20cb62d",
   "metadata": {},
   "outputs": [
    {
     "name": "stderr",
     "output_type": "stream",
     "text": [
      "Loading required namespace: patchwork\n",
      "\n",
      "Loading required namespace: survival\n",
      "\n",
      "Loading required namespace: lubridate\n",
      "\n"
     ]
    }
   ],
   "source": [
    "if (!requireNamespace(\"patchwork\")) {\n",
    "    install.packages(\"devtools\")\n",
    "    devtools::install_github(\"thomasp85/patchwork\")\n",
    "}\n",
    "\n",
    "if (!requireNamespace(\"survival\")) {\n",
    "    install.packages(\"survival\")\n",
    "}\n",
    "\n",
    "# If this fails, install directly to conda environment\n",
    "#   conda install r-survminer -c conda-forge\n",
    "# if (!requireNamespace(\"survminer\")) {\n",
    "#     install.packages(\"survminer\")\n",
    "# }\n",
    "\n",
    "if (!requireNamespace(\"lubridate\")) {\n",
    "    install.packages(\"lubridate\")\n",
    "}"
   ]
  },
  {
   "cell_type": "code",
   "execution_count": 2,
   "id": "c639de4a-d0da-4066-ba10-ba125f671ecf",
   "metadata": {},
   "outputs": [
    {
     "name": "stderr",
     "output_type": "stream",
     "text": [
      "── \u001b[1mAttaching packages\u001b[22m ───────────────────────────────────────────────────────────────────────────────────────────────────────────────────────────────────────────────────────────────── tidyverse 1.3.1 ──\n",
      "\n",
      "\u001b[32m✔\u001b[39m \u001b[34mggplot2\u001b[39m 3.3.5     \u001b[32m✔\u001b[39m \u001b[34mpurrr  \u001b[39m 0.3.4\n",
      "\u001b[32m✔\u001b[39m \u001b[34mtibble \u001b[39m 3.1.6     \u001b[32m✔\u001b[39m \u001b[34mdplyr  \u001b[39m 1.0.8\n",
      "\u001b[32m✔\u001b[39m \u001b[34mtidyr  \u001b[39m 1.2.0     \u001b[32m✔\u001b[39m \u001b[34mstringr\u001b[39m 1.4.0\n",
      "\u001b[32m✔\u001b[39m \u001b[34mreadr  \u001b[39m 2.1.1     \u001b[32m✔\u001b[39m \u001b[34mforcats\u001b[39m 0.5.1\n",
      "\n",
      "── \u001b[1mConflicts\u001b[22m ──────────────────────────────────────────────────────────────────────────────────────────────────────────────────────────────────────────────────────────────────── tidyverse_conflicts() ──\n",
      "\u001b[31m✖\u001b[39m \u001b[34mdplyr\u001b[39m::\u001b[32mfilter()\u001b[39m masks \u001b[34mstats\u001b[39m::filter()\n",
      "\u001b[31m✖\u001b[39m \u001b[34mdplyr\u001b[39m::\u001b[32mlag()\u001b[39m    masks \u001b[34mstats\u001b[39m::lag()\n",
      "\n",
      "Loading required package: ggpubr\n",
      "\n",
      "\n",
      "Attaching package: ‘survminer’\n",
      "\n",
      "\n",
      "The following object is masked from ‘package:survival’:\n",
      "\n",
      "    myeloma\n",
      "\n",
      "\n",
      "\n",
      "Attaching package: ‘lubridate’\n",
      "\n",
      "\n",
      "The following objects are masked from ‘package:base’:\n",
      "\n",
      "    date, intersect, setdiff, union\n",
      "\n",
      "\n"
     ]
    }
   ],
   "source": [
    "library(tidyverse)\n",
    "library(RColorBrewer)\n",
    "library(patchwork)\n",
    "library(survival)\n",
    "library(survminer)\n",
    "library(lubridate)\n",
    "\n",
    "setwd(\"~/eQTL_pQTL_Characterization/\")\n",
    "\n",
    "source(\"04_Expression/scripts/utils/ggplot_theme.R\")"
   ]
  },
  {
   "cell_type": "markdown",
   "id": "56377ce7-5303-4fe8-9810-c230cc0618b1",
   "metadata": {},
   "source": [
    "## Load Data"
   ]
  },
  {
   "cell_type": "code",
   "execution_count": 3,
   "id": "e0e4a9a3-90f0-4cea-84a8-c975d6299657",
   "metadata": {},
   "outputs": [],
   "source": [
    "outcome <- read.table(\"/nfs/team282/data/gains_team282/ClinicalData/clinical_data_tsv/OUT_12jun2019.tsv\", sep=\"\\t\", header=T, quote=\"\")\n",
    "\n",
    "outcome <- outcome %>%\n",
    "    dplyr::mutate(GAinSID=stringr::str_to_upper(SubjectBarCode))\n",
    "ga.prefix.filter <- grepl(\"GA\", outcome$GAinSID)\n",
    "outcome$GAinSID[ga.prefix.filter] <- gsub(\"^GA\", \"\", outcome$GAinSID[ga.prefix.filter])\n",
    "rownames(outcome) <- outcome$GAinSID\n",
    "\n",
    "modules <- read.csv(\"~/gains_team282/nikhil/expression/gene_expression/modules.csv\")\n",
    "eigengenes <- read.csv(\"~/gains_team282/nikhil/expression/gene_expression/eigengenes.csv\", row.names=1)\n",
    "variance.explained <- read.csv(\"~/gains_team282/nikhil/expression/gene_expression/variance.explained.csv\")\n",
    "\n",
    "sample.info <- read.table(\"/nfs/team282/data/gains_team282/Sample_info_864.txt\")\n",
    "ga.prefix.filter <- grepl(\"GA\", sample.info$supplier_name)\n",
    "sample.info$supplier_name[ga.prefix.filter] <- gsub(\"^GA\", \"\", sample.info$supplier_name[ga.prefix.filter])\n",
    "sample.info <- sample.info %>% \n",
    "    dplyr::filter(supplier_name %in% rownames(eigengenes))\n",
    "rownames(sample.info) <- sample.info$supplier_name\n",
    "sample.info <- sample.info[rownames(eigengenes),]\n",
    "sample.info <- sample.info %>%\n",
    "    dplyr::mutate(Time.Point=as.numeric(sapply(strsplit(rownames(.), \"_\"), function(x) x[2])))"
   ]
  },
  {
   "cell_type": "markdown",
   "id": "0312ebeb-81ee-4232-9fd3-67fe84321e62",
   "metadata": {},
   "source": [
    "## Subset Patients\n",
    "\n",
    "The same patients have contributed up to three samples to the data (D1, D3, and/or D5). I have decided to choose the last time point available for each patient."
   ]
  },
  {
   "cell_type": "code",
   "execution_count": 4,
   "id": "24269772-bc78-4186-b988-aaa7bdbe1f8a",
   "metadata": {},
   "outputs": [],
   "source": [
    "sample.map <- sample.info %>%\n",
    "    dplyr::filter(GAinSID %in% outcome$GAinSID) %>%\n",
    "    dplyr::group_by(GAinSID) %>%\n",
    "    dplyr::summarize(Last.Time.Point=max(Time.Point)) %>%\n",
    "    dplyr::mutate(Sample=paste0(GAinSID, \"_\", Last.Time.Point))\n",
    "\n",
    "cox.eigengenes <- eigengenes[sample.map$Sample,]\n",
    "\n",
    "cox.outcomes <- outcome[sample.map$GAinSID,]"
   ]
  },
  {
   "cell_type": "markdown",
   "id": "ca8405d3-9b79-4ade-bb43-3ca7f49ad0bf",
   "metadata": {},
   "source": [
    "## Cox Proportional Hazards Model"
   ]
  },
  {
   "cell_type": "code",
   "execution_count": 5,
   "id": "c01ecfea-2ecc-4e96-b306-8c4813688f00",
   "metadata": {},
   "outputs": [
    {
     "data": {
      "image/png": "[encoded data removed]",
      "text/plain": [
       "plot without title"
      ]
     },
     "metadata": {
      "image/png": {
       "height": 420,
       "width": 420
      }
     },
     "output_type": "display_data"
    }
   ],
   "source": [
    "cox.vars <- cox.outcomes %>%\n",
    "    dplyr::mutate(Date.Hospitalized=lubridate::mdy(DhospICU), Date.Death=lubridate::mdy(M6ddeath)) %>%\n",
    "    dplyr::mutate(Endpoint=as.duration(Date.Hospitalized %--% Date.Death) / lubridate::ddays(1)) %>%\n",
    "    dplyr::mutate(Endpoint=replace(Endpoint, Endpoint > 28, NA)) %>%\n",
    "    dplyr::mutate(Status=ifelse(is.na(Endpoint), 0, 1)) %>%\n",
    "    dplyr::select(Endpoint, Status) %>%\n",
    "    dplyr::mutate(Endpoint=replace(Endpoint, is.na(Endpoint), 28)) %>%\n",
    "    dplyr::bind_cols(cox.eigengenes)\n",
    "\n",
    "ggsurvplot(\n",
    "    fit = survfit(Surv(Endpoint, Status) ~ 1, data = cox.vars), \n",
    "    xlab = \"Days\", \n",
    "    ylab = \"Overall Survival Probability\"\n",
    ")"
   ]
  },
  {
   "cell_type": "markdown",
   "id": "5d00bd3b-6881-4a47-b97e-b291e6829c5c",
   "metadata": {},
   "source": [
    "I use a Cox proportional hazards model to test if a given module eigengene is associated with outcome. I run the model for each eigengene rather than including them all in one regression. I correct p-values using Benjamini-Hochberg FDR correction."
   ]
  },
  {
   "cell_type": "code",
   "execution_count": 7,
   "id": "8d8a58d0-be42-4157-adfe-5e772cd1ebb1",
   "metadata": {},
   "outputs": [
    {
     "data": {
      "text/html": [
       "<table class=\"dataframe\">\n",
       "<caption>A data.frame: 6 × 7</caption>\n",
       "<thead>\n",
       "\t<tr><th></th><th scope=col>Eigengene</th><th scope=col>Association.Variable</th><th scope=col>Association.Variable.Type</th><th scope=col>Statistic</th><th scope=col>Statistic.Type</th><th scope=col>P.Value</th><th scope=col>Adjusted.P.Value</th></tr>\n",
       "\t<tr><th></th><th scope=col>&lt;chr&gt;</th><th scope=col>&lt;chr&gt;</th><th scope=col>&lt;chr&gt;</th><th scope=col>&lt;dbl&gt;</th><th scope=col>&lt;chr&gt;</th><th scope=col>&lt;dbl&gt;</th><th scope=col>&lt;dbl&gt;</th></tr>\n",
       "</thead>\n",
       "<tbody>\n",
       "\t<tr><th scope=row>ME_78</th><td>ME_78</td><td>Outcome</td><td>Outcome</td><td>-18.99438</td><td>Beta</td><td>2.100379e-05</td><td>0.0007421341</td></tr>\n",
       "\t<tr><th scope=row>ME_36</th><td>ME_36</td><td>Outcome</td><td>Outcome</td><td>-17.55320</td><td>Beta</td><td>4.786730e-05</td><td>0.0008456556</td></tr>\n",
       "\t<tr><th scope=row>ME_52</th><td>ME_52</td><td>Outcome</td><td>Outcome</td><td>-16.95356</td><td>Beta</td><td>3.800128e-05</td><td>0.0008056271</td></tr>\n",
       "\t<tr><th scope=row>ME_10</th><td>ME_10</td><td>Outcome</td><td>Outcome</td><td>-15.78185</td><td>Beta</td><td>2.037898e-05</td><td>0.0007421341</td></tr>\n",
       "\t<tr><th scope=row>ME_47</th><td>ME_47</td><td>Outcome</td><td>Outcome</td><td>-15.37841</td><td>Beta</td><td>1.266732e-05</td><td>0.0007421341</td></tr>\n",
       "\t<tr><th scope=row>ME_13</th><td>ME_13</td><td>Outcome</td><td>Outcome</td><td>-14.51251</td><td>Beta</td><td>1.414622e-04</td><td>0.0016661109</td></tr>\n",
       "</tbody>\n",
       "</table>\n"
      ],
      "text/latex": [
       "A data.frame: 6 × 7\n",
       "\\begin{tabular}{r|lllllll}\n",
       "  & Eigengene & Association.Variable & Association.Variable.Type & Statistic & Statistic.Type & P.Value & Adjusted.P.Value\\\\\n",
       "  & <chr> & <chr> & <chr> & <dbl> & <chr> & <dbl> & <dbl>\\\\\n",
       "\\hline\n",
       "\tME\\_78 & ME\\_78 & Outcome & Outcome & -18.99438 & Beta & 2.100379e-05 & 0.0007421341\\\\\n",
       "\tME\\_36 & ME\\_36 & Outcome & Outcome & -17.55320 & Beta & 4.786730e-05 & 0.0008456556\\\\\n",
       "\tME\\_52 & ME\\_52 & Outcome & Outcome & -16.95356 & Beta & 3.800128e-05 & 0.0008056271\\\\\n",
       "\tME\\_10 & ME\\_10 & Outcome & Outcome & -15.78185 & Beta & 2.037898e-05 & 0.0007421341\\\\\n",
       "\tME\\_47 & ME\\_47 & Outcome & Outcome & -15.37841 & Beta & 1.266732e-05 & 0.0007421341\\\\\n",
       "\tME\\_13 & ME\\_13 & Outcome & Outcome & -14.51251 & Beta & 1.414622e-04 & 0.0016661109\\\\\n",
       "\\end{tabular}\n"
      ],
      "text/markdown": [
       "\n",
       "A data.frame: 6 × 7\n",
       "\n",
       "| <!--/--> | Eigengene &lt;chr&gt; | Association.Variable &lt;chr&gt; | Association.Variable.Type &lt;chr&gt; | Statistic &lt;dbl&gt; | Statistic.Type &lt;chr&gt; | P.Value &lt;dbl&gt; | Adjusted.P.Value &lt;dbl&gt; |\n",
       "|---|---|---|---|---|---|---|---|\n",
       "| ME_78 | ME_78 | Outcome | Outcome | -18.99438 | Beta | 2.100379e-05 | 0.0007421341 |\n",
       "| ME_36 | ME_36 | Outcome | Outcome | -17.55320 | Beta | 4.786730e-05 | 0.0008456556 |\n",
       "| ME_52 | ME_52 | Outcome | Outcome | -16.95356 | Beta | 3.800128e-05 | 0.0008056271 |\n",
       "| ME_10 | ME_10 | Outcome | Outcome | -15.78185 | Beta | 2.037898e-05 | 0.0007421341 |\n",
       "| ME_47 | ME_47 | Outcome | Outcome | -15.37841 | Beta | 1.266732e-05 | 0.0007421341 |\n",
       "| ME_13 | ME_13 | Outcome | Outcome | -14.51251 | Beta | 1.414622e-04 | 0.0016661109 |\n",
       "\n"
      ],
      "text/plain": [
       "      Eigengene Association.Variable Association.Variable.Type Statistic\n",
       "ME_78 ME_78     Outcome              Outcome                   -18.99438\n",
       "ME_36 ME_36     Outcome              Outcome                   -17.55320\n",
       "ME_52 ME_52     Outcome              Outcome                   -16.95356\n",
       "ME_10 ME_10     Outcome              Outcome                   -15.78185\n",
       "ME_47 ME_47     Outcome              Outcome                   -15.37841\n",
       "ME_13 ME_13     Outcome              Outcome                   -14.51251\n",
       "      Statistic.Type P.Value      Adjusted.P.Value\n",
       "ME_78 Beta           2.100379e-05 0.0007421341    \n",
       "ME_36 Beta           4.786730e-05 0.0008456556    \n",
       "ME_52 Beta           3.800128e-05 0.0008056271    \n",
       "ME_10 Beta           2.037898e-05 0.0007421341    \n",
       "ME_47 Beta           1.266732e-05 0.0007421341    \n",
       "ME_13 Beta           1.414622e-04 0.0016661109    "
      ]
     },
     "metadata": {},
     "output_type": "display_data"
    }
   ],
   "source": [
    "test.results <- list()\n",
    "\n",
    "for (eigengene in colnames(cox.eigengenes)) {\n",
    "\n",
    "    cox.result <- coxph(\n",
    "        as.formula(paste0(\"Surv(Endpoint, Status)~\", eigengene)), \n",
    "        data = cox.vars\n",
    "    )\n",
    "\n",
    "    test.results[[eigengene]] <- summary(cox.result)$coefficients\n",
    "}\n",
    "\n",
    "estimates <- do.call(rbind, test.results) %>%\n",
    "    as.data.frame() %>%\n",
    "    dplyr::mutate(Adjusted.P.Value=p.adjust(`Pr(>|z|)`, method=\"BH\")) %>%\n",
    "    dplyr::arrange(desc(abs(coef)), desc(desc(Adjusted.P.Value))) %>%\n",
    "    dplyr::mutate(Eigengene=rownames(.), Association.Variable=\"Outcome\", Association.Variable.Type=\"Outcome\", Statistic.Type=\"Beta\") %>%\n",
    "    dplyr::select(Eigengene, Association.Variable, Association.Variable.Type, Statistic=coef, Statistic.Type, P.Value=`Pr(>|z|)`, Adjusted.P.Value)\n",
    "head(estimates %>% dplyr::filter(Adjusted.P.Value < 0.05))\n",
    "\n",
    "write.csv(estimates, \"~/gains_team282/nikhil/expression/gene_expression/estimates.eigengene.outcome.association.csv\")"
   ]
  },
  {
   "cell_type": "code",
   "execution_count": null,
   "id": "f8771e2c-75ee-4842-bac0-ed852ffbca54",
   "metadata": {},
   "outputs": [],
   "source": []
  }
 ],
 "metadata": {
  "kernelspec": {
   "display_name": "R",
   "language": "R",
   "name": "ir"
  },
  "language_info": {
   "codemirror_mode": "r",
   "file_extension": ".r",
   "mimetype": "text/x-r-source",
   "name": "R",
   "pygments_lexer": "r",
   "version": "4.0.5"
  }
 },
 "nbformat": 4,
 "nbformat_minor": 5
}
