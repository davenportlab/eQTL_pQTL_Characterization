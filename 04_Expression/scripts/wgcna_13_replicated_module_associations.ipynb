{
 "cells": [
  {
   "cell_type": "markdown",
   "id": "d9be92c9-417e-4ec8-8544-87b2457626c6",
   "metadata": {},
   "source": [
    "# Replicated Module Associations\n",
    "\n",
    "**Created**: 1 August 2022"
   ]
  },
  {
   "cell_type": "markdown",
   "id": "c7c56b9a-9dd9-46f5-b7fd-8a8831dc20d6",
   "metadata": {},
   "source": [
    "## Environment"
   ]
  },
  {
   "cell_type": "code",
   "execution_count": 26,
   "id": "d893b719-a8cf-46af-8e0f-6466118c5079",
   "metadata": {},
   "outputs": [
    {
     "name": "stderr",
     "output_type": "stream",
     "text": [
      "Loading required package: ggpubr\n",
      "\n",
      "\n",
      "Attaching package: ‘survminer’\n",
      "\n",
      "\n",
      "The following object is masked from ‘package:survival’:\n",
      "\n",
      "    myeloma\n",
      "\n",
      "\n",
      "\n",
      "Attaching package: ‘lubridate’\n",
      "\n",
      "\n",
      "The following objects are masked from ‘package:base’:\n",
      "\n",
      "    date, intersect, setdiff, union\n",
      "\n",
      "\n"
     ]
    }
   ],
   "source": [
    "library(tidyverse)\n",
    "library(survival)\n",
    "library(survminer)\n",
    "library(lubridate)\n",
    "\n",
    "setwd(\"~/eQTL_pQTL_Characterization/\")\n",
    "\n",
    "source(\"04_Expression/scripts/utils/ggplot_theme.R\")"
   ]
  },
  {
   "cell_type": "markdown",
   "id": "9fea21f7-4832-4d06-83d4-3d6905fe816e",
   "metadata": {},
   "source": [
    "## Load Data"
   ]
  },
  {
   "cell_type": "code",
   "execution_count": 19,
   "id": "42525407-27af-4f4f-b388-1382c7ca7e2a",
   "metadata": {},
   "outputs": [],
   "source": [
    "micro.eigens <- read.csv(\"~/gains_team282/nikhil/expression/gene_expression/microarray.eigengenes.csv\", row.names=1)\n",
    "\n",
    "micro.eigens <- micro.eigens[, grepl(\"_1$\", colnames(micro.eigens))]\n",
    "\n",
    "colnames(micro.eigens) <- gsub(\"_1$\", \"\", colnames(micro.eigens))"
   ]
  },
  {
   "cell_type": "code",
   "execution_count": 20,
   "id": "4ff15609-d537-4d17-9ce3-2fedb0e31e94",
   "metadata": {},
   "outputs": [
    {
     "data": {
      "text/html": [
       "<table class=\"dataframe\">\n",
       "<caption>A data.frame: 6 × 95</caption>\n",
       "<thead>\n",
       "\t<tr><th></th><th scope=col>Micro_ME_1</th><th scope=col>Micro_ME_10</th><th scope=col>Micro_ME_101</th><th scope=col>Micro_ME_102</th><th scope=col>Micro_ME_104</th><th scope=col>Micro_ME_105</th><th scope=col>Micro_ME_106</th><th scope=col>Micro_ME_11</th><th scope=col>Micro_ME_12</th><th scope=col>Micro_ME_13</th><th scope=col>⋯</th><th scope=col>Micro_ME_85</th><th scope=col>Micro_ME_86</th><th scope=col>Micro_ME_89</th><th scope=col>Micro_ME_9</th><th scope=col>Micro_ME_91</th><th scope=col>Micro_ME_92</th><th scope=col>Micro_ME_94</th><th scope=col>Micro_ME_95</th><th scope=col>Micro_ME_96</th><th scope=col>Micro_ME_99</th></tr>\n",
       "\t<tr><th></th><th scope=col>&lt;dbl&gt;</th><th scope=col>&lt;dbl&gt;</th><th scope=col>&lt;dbl&gt;</th><th scope=col>&lt;dbl&gt;</th><th scope=col>&lt;dbl&gt;</th><th scope=col>&lt;dbl&gt;</th><th scope=col>&lt;dbl&gt;</th><th scope=col>&lt;dbl&gt;</th><th scope=col>&lt;dbl&gt;</th><th scope=col>&lt;dbl&gt;</th><th scope=col>⋯</th><th scope=col>&lt;dbl&gt;</th><th scope=col>&lt;dbl&gt;</th><th scope=col>&lt;dbl&gt;</th><th scope=col>&lt;dbl&gt;</th><th scope=col>&lt;dbl&gt;</th><th scope=col>&lt;dbl&gt;</th><th scope=col>&lt;dbl&gt;</th><th scope=col>&lt;dbl&gt;</th><th scope=col>&lt;dbl&gt;</th><th scope=col>&lt;dbl&gt;</th></tr>\n",
       "</thead>\n",
       "<tbody>\n",
       "\t<tr><th scope=row>UK01310070_1</th><td>-0.01601799</td><td>-0.018423860</td><td> 0.008784676</td><td>-0.0184287157</td><td> 0.09118930</td><td>-0.0012578190</td><td>-0.04765499</td><td> 0.02908340</td><td> 0.020012019</td><td>-0.034937051</td><td>⋯</td><td>-0.028879639</td><td>-0.005930949</td><td>-0.049280964</td><td> 0.02247359</td><td>-0.06592313</td><td>-0.04655985</td><td>-0.111853585</td><td>-0.045814706</td><td>-0.097747466</td><td> 0.01963915</td></tr>\n",
       "\t<tr><th scope=row>UKRV022000_5</th><td>-0.01012309</td><td> 0.009753326</td><td>-0.045141181</td><td>-0.0249654503</td><td> 0.01605791</td><td> 0.0302653941</td><td>-0.02765091</td><td>-0.01888939</td><td> 0.007295768</td><td> 0.005851441</td><td>⋯</td><td>-0.025725325</td><td>-0.042799506</td><td> 0.035740564</td><td>-0.02477858</td><td> 0.01657866</td><td>-0.05615555</td><td>-0.063840434</td><td> 0.015240068</td><td>-0.005253908</td><td> 0.01153088</td></tr>\n",
       "\t<tr><th scope=row>UK50240006_1</th><td> 0.02202818</td><td>-0.073912013</td><td>-0.003008436</td><td> 0.0352592993</td><td> 0.13750553</td><td>-0.0550186042</td><td>-0.08103877</td><td> 0.07896570</td><td>-0.049618580</td><td>-0.071130042</td><td>⋯</td><td> 0.031667763</td><td> 0.075830474</td><td>-0.093666920</td><td> 0.07382231</td><td>-0.07706636</td><td> 0.02012295</td><td>-0.007554708</td><td> 0.008635123</td><td>-0.044580742</td><td>-0.05427548</td></tr>\n",
       "\t<tr><th scope=row>UK17630075_5</th><td>-0.03301611</td><td> 0.026276887</td><td> 0.037108852</td><td> 0.0496470003</td><td>-0.01670888</td><td>-0.0001220072</td><td>-0.04001128</td><td>-0.01689235</td><td> 0.048643638</td><td> 0.050307268</td><td>⋯</td><td> 0.007097179</td><td> 0.011394984</td><td> 0.041986092</td><td>-0.03717864</td><td> 0.04522091</td><td> 0.05697266</td><td>-0.009536266</td><td>-0.059931797</td><td> 0.001736140</td><td> 0.02056358</td></tr>\n",
       "\t<tr><th scope=row>UK47500001_1</th><td>-0.04898155</td><td> 0.019620111</td><td>-0.070432857</td><td> 0.0369007766</td><td>-0.00830641</td><td>-0.0146988591</td><td>-0.03082559</td><td> 0.01142539</td><td> 0.026574374</td><td> 0.053473998</td><td>⋯</td><td> 0.084174998</td><td> 0.009366777</td><td>-0.001740413</td><td>-0.01603353</td><td> 0.01231959</td><td> 0.02731898</td><td> 0.026107924</td><td>-0.080028851</td><td> 0.024518041</td><td> 0.03011030</td></tr>\n",
       "\t<tr><th scope=row>UK02450065_1</th><td>-0.01580593</td><td>-0.043209227</td><td> 0.014910356</td><td>-0.0006439558</td><td> 0.14431479</td><td> 0.0037912020</td><td>-0.07739685</td><td> 0.04908136</td><td>-0.067431410</td><td>-0.049480301</td><td>⋯</td><td>-0.007514620</td><td> 0.046823338</td><td>-0.004493467</td><td> 0.01972235</td><td>-0.05971784</td><td>-0.01383993</td><td>-0.041274817</td><td> 0.008891120</td><td>-0.031363764</td><td> 0.04932842</td></tr>\n",
       "</tbody>\n",
       "</table>\n"
      ],
      "text/latex": [
       "A data.frame: 6 × 95\n",
       "\\begin{tabular}{r|lllllllllllllllllllll}\n",
       "  & Micro\\_ME\\_1 & Micro\\_ME\\_10 & Micro\\_ME\\_101 & Micro\\_ME\\_102 & Micro\\_ME\\_104 & Micro\\_ME\\_105 & Micro\\_ME\\_106 & Micro\\_ME\\_11 & Micro\\_ME\\_12 & Micro\\_ME\\_13 & ⋯ & Micro\\_ME\\_85 & Micro\\_ME\\_86 & Micro\\_ME\\_89 & Micro\\_ME\\_9 & Micro\\_ME\\_91 & Micro\\_ME\\_92 & Micro\\_ME\\_94 & Micro\\_ME\\_95 & Micro\\_ME\\_96 & Micro\\_ME\\_99\\\\\n",
       "  & <dbl> & <dbl> & <dbl> & <dbl> & <dbl> & <dbl> & <dbl> & <dbl> & <dbl> & <dbl> & ⋯ & <dbl> & <dbl> & <dbl> & <dbl> & <dbl> & <dbl> & <dbl> & <dbl> & <dbl> & <dbl>\\\\\n",
       "\\hline\n",
       "\tUK01310070\\_1 & -0.01601799 & -0.018423860 &  0.008784676 & -0.0184287157 &  0.09118930 & -0.0012578190 & -0.04765499 &  0.02908340 &  0.020012019 & -0.034937051 & ⋯ & -0.028879639 & -0.005930949 & -0.049280964 &  0.02247359 & -0.06592313 & -0.04655985 & -0.111853585 & -0.045814706 & -0.097747466 &  0.01963915\\\\\n",
       "\tUKRV022000\\_5 & -0.01012309 &  0.009753326 & -0.045141181 & -0.0249654503 &  0.01605791 &  0.0302653941 & -0.02765091 & -0.01888939 &  0.007295768 &  0.005851441 & ⋯ & -0.025725325 & -0.042799506 &  0.035740564 & -0.02477858 &  0.01657866 & -0.05615555 & -0.063840434 &  0.015240068 & -0.005253908 &  0.01153088\\\\\n",
       "\tUK50240006\\_1 &  0.02202818 & -0.073912013 & -0.003008436 &  0.0352592993 &  0.13750553 & -0.0550186042 & -0.08103877 &  0.07896570 & -0.049618580 & -0.071130042 & ⋯ &  0.031667763 &  0.075830474 & -0.093666920 &  0.07382231 & -0.07706636 &  0.02012295 & -0.007554708 &  0.008635123 & -0.044580742 & -0.05427548\\\\\n",
       "\tUK17630075\\_5 & -0.03301611 &  0.026276887 &  0.037108852 &  0.0496470003 & -0.01670888 & -0.0001220072 & -0.04001128 & -0.01689235 &  0.048643638 &  0.050307268 & ⋯ &  0.007097179 &  0.011394984 &  0.041986092 & -0.03717864 &  0.04522091 &  0.05697266 & -0.009536266 & -0.059931797 &  0.001736140 &  0.02056358\\\\\n",
       "\tUK47500001\\_1 & -0.04898155 &  0.019620111 & -0.070432857 &  0.0369007766 & -0.00830641 & -0.0146988591 & -0.03082559 &  0.01142539 &  0.026574374 &  0.053473998 & ⋯ &  0.084174998 &  0.009366777 & -0.001740413 & -0.01603353 &  0.01231959 &  0.02731898 &  0.026107924 & -0.080028851 &  0.024518041 &  0.03011030\\\\\n",
       "\tUK02450065\\_1 & -0.01580593 & -0.043209227 &  0.014910356 & -0.0006439558 &  0.14431479 &  0.0037912020 & -0.07739685 &  0.04908136 & -0.067431410 & -0.049480301 & ⋯ & -0.007514620 &  0.046823338 & -0.004493467 &  0.01972235 & -0.05971784 & -0.01383993 & -0.041274817 &  0.008891120 & -0.031363764 &  0.04932842\\\\\n",
       "\\end{tabular}\n"
      ],
      "text/markdown": [
       "\n",
       "A data.frame: 6 × 95\n",
       "\n",
       "| <!--/--> | Micro_ME_1 &lt;dbl&gt; | Micro_ME_10 &lt;dbl&gt; | Micro_ME_101 &lt;dbl&gt; | Micro_ME_102 &lt;dbl&gt; | Micro_ME_104 &lt;dbl&gt; | Micro_ME_105 &lt;dbl&gt; | Micro_ME_106 &lt;dbl&gt; | Micro_ME_11 &lt;dbl&gt; | Micro_ME_12 &lt;dbl&gt; | Micro_ME_13 &lt;dbl&gt; | ⋯ ⋯ | Micro_ME_85 &lt;dbl&gt; | Micro_ME_86 &lt;dbl&gt; | Micro_ME_89 &lt;dbl&gt; | Micro_ME_9 &lt;dbl&gt; | Micro_ME_91 &lt;dbl&gt; | Micro_ME_92 &lt;dbl&gt; | Micro_ME_94 &lt;dbl&gt; | Micro_ME_95 &lt;dbl&gt; | Micro_ME_96 &lt;dbl&gt; | Micro_ME_99 &lt;dbl&gt; |\n",
       "|---|---|---|---|---|---|---|---|---|---|---|---|---|---|---|---|---|---|---|---|---|---|\n",
       "| UK01310070_1 | -0.01601799 | -0.018423860 |  0.008784676 | -0.0184287157 |  0.09118930 | -0.0012578190 | -0.04765499 |  0.02908340 |  0.020012019 | -0.034937051 | ⋯ | -0.028879639 | -0.005930949 | -0.049280964 |  0.02247359 | -0.06592313 | -0.04655985 | -0.111853585 | -0.045814706 | -0.097747466 |  0.01963915 |\n",
       "| UKRV022000_5 | -0.01012309 |  0.009753326 | -0.045141181 | -0.0249654503 |  0.01605791 |  0.0302653941 | -0.02765091 | -0.01888939 |  0.007295768 |  0.005851441 | ⋯ | -0.025725325 | -0.042799506 |  0.035740564 | -0.02477858 |  0.01657866 | -0.05615555 | -0.063840434 |  0.015240068 | -0.005253908 |  0.01153088 |\n",
       "| UK50240006_1 |  0.02202818 | -0.073912013 | -0.003008436 |  0.0352592993 |  0.13750553 | -0.0550186042 | -0.08103877 |  0.07896570 | -0.049618580 | -0.071130042 | ⋯ |  0.031667763 |  0.075830474 | -0.093666920 |  0.07382231 | -0.07706636 |  0.02012295 | -0.007554708 |  0.008635123 | -0.044580742 | -0.05427548 |\n",
       "| UK17630075_5 | -0.03301611 |  0.026276887 |  0.037108852 |  0.0496470003 | -0.01670888 | -0.0001220072 | -0.04001128 | -0.01689235 |  0.048643638 |  0.050307268 | ⋯ |  0.007097179 |  0.011394984 |  0.041986092 | -0.03717864 |  0.04522091 |  0.05697266 | -0.009536266 | -0.059931797 |  0.001736140 |  0.02056358 |\n",
       "| UK47500001_1 | -0.04898155 |  0.019620111 | -0.070432857 |  0.0369007766 | -0.00830641 | -0.0146988591 | -0.03082559 |  0.01142539 |  0.026574374 |  0.053473998 | ⋯ |  0.084174998 |  0.009366777 | -0.001740413 | -0.01603353 |  0.01231959 |  0.02731898 |  0.026107924 | -0.080028851 |  0.024518041 |  0.03011030 |\n",
       "| UK02450065_1 | -0.01580593 | -0.043209227 |  0.014910356 | -0.0006439558 |  0.14431479 |  0.0037912020 | -0.07739685 |  0.04908136 | -0.067431410 | -0.049480301 | ⋯ | -0.007514620 |  0.046823338 | -0.004493467 |  0.01972235 | -0.05971784 | -0.01383993 | -0.041274817 |  0.008891120 | -0.031363764 |  0.04932842 |\n",
       "\n"
      ],
      "text/plain": [
       "             Micro_ME_1  Micro_ME_10  Micro_ME_101 Micro_ME_102  Micro_ME_104\n",
       "UK01310070_1 -0.01601799 -0.018423860  0.008784676 -0.0184287157  0.09118930 \n",
       "UKRV022000_5 -0.01012309  0.009753326 -0.045141181 -0.0249654503  0.01605791 \n",
       "UK50240006_1  0.02202818 -0.073912013 -0.003008436  0.0352592993  0.13750553 \n",
       "UK17630075_5 -0.03301611  0.026276887  0.037108852  0.0496470003 -0.01670888 \n",
       "UK47500001_1 -0.04898155  0.019620111 -0.070432857  0.0369007766 -0.00830641 \n",
       "UK02450065_1 -0.01580593 -0.043209227  0.014910356 -0.0006439558  0.14431479 \n",
       "             Micro_ME_105  Micro_ME_106 Micro_ME_11 Micro_ME_12  Micro_ME_13  ⋯\n",
       "UK01310070_1 -0.0012578190 -0.04765499   0.02908340  0.020012019 -0.034937051 ⋯\n",
       "UKRV022000_5  0.0302653941 -0.02765091  -0.01888939  0.007295768  0.005851441 ⋯\n",
       "UK50240006_1 -0.0550186042 -0.08103877   0.07896570 -0.049618580 -0.071130042 ⋯\n",
       "UK17630075_5 -0.0001220072 -0.04001128  -0.01689235  0.048643638  0.050307268 ⋯\n",
       "UK47500001_1 -0.0146988591 -0.03082559   0.01142539  0.026574374  0.053473998 ⋯\n",
       "UK02450065_1  0.0037912020 -0.07739685   0.04908136 -0.067431410 -0.049480301 ⋯\n",
       "             Micro_ME_85  Micro_ME_86  Micro_ME_89  Micro_ME_9  Micro_ME_91\n",
       "UK01310070_1 -0.028879639 -0.005930949 -0.049280964  0.02247359 -0.06592313\n",
       "UKRV022000_5 -0.025725325 -0.042799506  0.035740564 -0.02477858  0.01657866\n",
       "UK50240006_1  0.031667763  0.075830474 -0.093666920  0.07382231 -0.07706636\n",
       "UK17630075_5  0.007097179  0.011394984  0.041986092 -0.03717864  0.04522091\n",
       "UK47500001_1  0.084174998  0.009366777 -0.001740413 -0.01603353  0.01231959\n",
       "UK02450065_1 -0.007514620  0.046823338 -0.004493467  0.01972235 -0.05971784\n",
       "             Micro_ME_92 Micro_ME_94  Micro_ME_95  Micro_ME_96  Micro_ME_99\n",
       "UK01310070_1 -0.04655985 -0.111853585 -0.045814706 -0.097747466  0.01963915\n",
       "UKRV022000_5 -0.05615555 -0.063840434  0.015240068 -0.005253908  0.01153088\n",
       "UK50240006_1  0.02012295 -0.007554708  0.008635123 -0.044580742 -0.05427548\n",
       "UK17630075_5  0.05697266 -0.009536266 -0.059931797  0.001736140  0.02056358\n",
       "UK47500001_1  0.02731898  0.026107924 -0.080028851  0.024518041  0.03011030\n",
       "UK02450065_1 -0.01383993 -0.041274817  0.008891120 -0.031363764  0.04932842"
      ]
     },
     "metadata": {},
     "output_type": "display_data"
    }
   ],
   "source": [
    "head(micro.eigens)"
   ]
  },
  {
   "cell_type": "code",
   "execution_count": 54,
   "id": "0de0970e-98c5-48a2-ba69-64aeee9b37f4",
   "metadata": {},
   "outputs": [],
   "source": [
    "rhos <- read.csv(\"~/gains_team282/nikhil/expression/gene_expression/microarray.eigengenes.correlations.csv\", row.names=1) %>%\n",
    "    dplyr::select(Rho=1)"
   ]
  },
  {
   "cell_type": "code",
   "execution_count": 55,
   "id": "78578b07-6c93-4cac-a151-4d67feda1d53",
   "metadata": {},
   "outputs": [
    {
     "data": {
      "text/html": [
       "<table class=\"dataframe\">\n",
       "<caption>A data.frame: 6 × 1</caption>\n",
       "<thead>\n",
       "\t<tr><th></th><th scope=col>Rho</th></tr>\n",
       "\t<tr><th></th><th scope=col>&lt;dbl&gt;</th></tr>\n",
       "</thead>\n",
       "<tbody>\n",
       "\t<tr><th scope=row>ME_1</th><td> 0.6980062</td></tr>\n",
       "\t<tr><th scope=row>ME_10</th><td>-0.9580793</td></tr>\n",
       "\t<tr><th scope=row>ME_101</th><td>-0.4277884</td></tr>\n",
       "\t<tr><th scope=row>ME_102</th><td> 0.3847454</td></tr>\n",
       "\t<tr><th scope=row>ME_104</th><td> 0.5199441</td></tr>\n",
       "\t<tr><th scope=row>ME_105</th><td> 0.3556179</td></tr>\n",
       "</tbody>\n",
       "</table>\n"
      ],
      "text/latex": [
       "A data.frame: 6 × 1\n",
       "\\begin{tabular}{r|l}\n",
       "  & Rho\\\\\n",
       "  & <dbl>\\\\\n",
       "\\hline\n",
       "\tME\\_1 &  0.6980062\\\\\n",
       "\tME\\_10 & -0.9580793\\\\\n",
       "\tME\\_101 & -0.4277884\\\\\n",
       "\tME\\_102 &  0.3847454\\\\\n",
       "\tME\\_104 &  0.5199441\\\\\n",
       "\tME\\_105 &  0.3556179\\\\\n",
       "\\end{tabular}\n"
      ],
      "text/markdown": [
       "\n",
       "A data.frame: 6 × 1\n",
       "\n",
       "| <!--/--> | Rho &lt;dbl&gt; |\n",
       "|---|---|\n",
       "| ME_1 |  0.6980062 |\n",
       "| ME_10 | -0.9580793 |\n",
       "| ME_101 | -0.4277884 |\n",
       "| ME_102 |  0.3847454 |\n",
       "| ME_104 |  0.5199441 |\n",
       "| ME_105 |  0.3556179 |\n",
       "\n"
      ],
      "text/plain": [
       "       Rho       \n",
       "ME_1    0.6980062\n",
       "ME_10  -0.9580793\n",
       "ME_101 -0.4277884\n",
       "ME_102  0.3847454\n",
       "ME_104  0.5199441\n",
       "ME_105  0.3556179"
      ]
     },
     "metadata": {},
     "output_type": "display_data"
    }
   ],
   "source": [
    "head(rhos)"
   ]
  },
  {
   "cell_type": "code",
   "execution_count": 29,
   "id": "d126f7a3-1e15-4bce-8b6b-b263f5b2023a",
   "metadata": {},
   "outputs": [],
   "source": [
    "outcome <- read.table(\"/nfs/team282/data/gains_team282/ClinicalData/clinical_data_tsv/OUT_12jun2019.tsv\", sep=\"\\t\", header=T, quote=\"\")\n",
    "\n",
    "outcome <- outcome %>%\n",
    "    dplyr::mutate(GAinSID=stringr::str_to_upper(SubjectBarCode)) %>%\n",
    "    dplyr::mutate(GAinSID=gsub(\"^GA\", \"\", GAinSID))\n",
    "\n",
    "rownames(outcome) <- outcome$GAinSID"
   ]
  },
  {
   "cell_type": "code",
   "execution_count": 30,
   "id": "6fdf761e-d189-4d57-8d53-708c22da5586",
   "metadata": {},
   "outputs": [
    {
     "data": {
      "text/html": [
       "<table class=\"dataframe\">\n",
       "<caption>A data.frame: 6 × 23</caption>\n",
       "<thead>\n",
       "\t<tr><th></th><th scope=col>CenterNumber</th><th scope=col>SubjectNumber</th><th scope=col>diagnosis</th><th scope=col>study</th><th scope=col>SubjectBarCode</th><th scope=col>DICU</th><th scope=col>alivedead</th><th scope=col>dhospdis</th><th scope=col>aldead</th><th scope=col>at6Malived</th><th scope=col>⋯</th><th scope=col>failure3</th><th scope=col>unrelated3</th><th scope=col>persist3</th><th scope=col>unrelatc3</th><th scope=col>unreldesc3</th><th scope=col>AtLeastOneCause</th><th scope=col>EDTAsent</th><th scope=col>DhospICU</th><th scope=col>Birthdate</th><th scope=col>GAinSID</th></tr>\n",
       "\t<tr><th></th><th scope=col>&lt;chr&gt;</th><th scope=col>&lt;int&gt;</th><th scope=col>&lt;int&gt;</th><th scope=col>&lt;chr&gt;</th><th scope=col>&lt;chr&gt;</th><th scope=col>&lt;chr&gt;</th><th scope=col>&lt;int&gt;</th><th scope=col>&lt;chr&gt;</th><th scope=col>&lt;int&gt;</th><th scope=col>&lt;chr&gt;</th><th scope=col>⋯</th><th scope=col>&lt;chr&gt;</th><th scope=col>&lt;chr&gt;</th><th scope=col>&lt;chr&gt;</th><th scope=col>&lt;chr&gt;</th><th scope=col>&lt;chr&gt;</th><th scope=col>&lt;int&gt;</th><th scope=col>&lt;chr&gt;</th><th scope=col>&lt;chr&gt;</th><th scope=col>&lt;chr&gt;</th><th scope=col>&lt;chr&gt;</th></tr>\n",
       "</thead>\n",
       "<tbody>\n",
       "\t<tr><th scope=row>UK01310070</th><td>UK001</td><td>2</td><td>1</td><td>ALL SUBJECT</td><td>uk01310070</td><td>1/15/08 </td><td>1</td><td>4/16/08 </td><td> 2</td><td>2</td><td>⋯</td><td>0</td><td>0</td><td>1</td><td>0</td><td></td><td>1</td><td>1</td><td>12/28/07</td><td>6/15/35</td><td>UK01310070</td></tr>\n",
       "\t<tr><th scope=row>UK01150069</th><td>UK001</td><td>3</td><td>2</td><td>ALL SUBJECT</td><td>uk01150069</td><td>12/17/07</td><td>1</td><td>12/17/07</td><td> 1</td><td>1</td><td>⋯</td><td>0</td><td>0</td><td>0</td><td>0</td><td></td><td>0</td><td>1</td><td>12/14/07</td><td>9/26/26</td><td>UK01150069</td></tr>\n",
       "\t<tr><th scope=row>UK01470071</th><td>UK001</td><td>5</td><td>1</td><td>ALL SUBJECT</td><td>UK01470071</td><td>1/30/08 </td><td>1</td><td>4/20/08 </td><td> 1</td><td>1</td><td>⋯</td><td>0</td><td>0</td><td>0</td><td>0</td><td></td><td>0</td><td>1</td><td>1/4/08  </td><td>8/17/34</td><td>UK01470071</td></tr>\n",
       "\t<tr><th scope=row>UK01630072</th><td>UK001</td><td>6</td><td>1</td><td>ALL SUBJECT</td><td>UK01630072</td><td>1/7/08  </td><td>1</td><td>2/13/08 </td><td> 1</td><td>1</td><td>⋯</td><td>0</td><td>0</td><td>0</td><td>0</td><td></td><td>0</td><td>1</td><td>1/5/08  </td><td>1/20/68</td><td>UK01630072</td></tr>\n",
       "\t<tr><th scope=row>UK01950074</th><td>UK001</td><td>8</td><td>1</td><td>ALL SUBJECT</td><td>UK01950074</td><td>1/14/08 </td><td>1</td><td>4/16/08 </td><td> 1</td><td>1</td><td>⋯</td><td>0</td><td>0</td><td>0</td><td>0</td><td></td><td>0</td><td>1</td><td>1/9/08  </td><td>2/4/40 </td><td>UK01950074</td></tr>\n",
       "\t<tr><th scope=row>UK01140075</th><td>UK001</td><td>9</td><td>1</td><td>ALL SUBJECT</td><td>UK01140075</td><td>1/28/08 </td><td>2</td><td>        </td><td>NA</td><td> </td><td>⋯</td><td>0</td><td>0</td><td>0</td><td>0</td><td></td><td>1</td><td>1</td><td>1/28/08 </td><td>11/1/29</td><td>UK01140075</td></tr>\n",
       "</tbody>\n",
       "</table>\n"
      ],
      "text/latex": [
       "A data.frame: 6 × 23\n",
       "\\begin{tabular}{r|lllllllllllllllllllll}\n",
       "  & CenterNumber & SubjectNumber & diagnosis & study & SubjectBarCode & DICU & alivedead & dhospdis & aldead & at6Malived & ⋯ & failure3 & unrelated3 & persist3 & unrelatc3 & unreldesc3 & AtLeastOneCause & EDTAsent & DhospICU & Birthdate & GAinSID\\\\\n",
       "  & <chr> & <int> & <int> & <chr> & <chr> & <chr> & <int> & <chr> & <int> & <chr> & ⋯ & <chr> & <chr> & <chr> & <chr> & <chr> & <int> & <chr> & <chr> & <chr> & <chr>\\\\\n",
       "\\hline\n",
       "\tUK01310070 & UK001 & 2 & 1 & ALL SUBJECT & uk01310070 & 1/15/08  & 1 & 4/16/08  &  2 & 2 & ⋯ & 0 & 0 & 1 & 0 &  & 1 & 1 & 12/28/07 & 6/15/35 & UK01310070\\\\\n",
       "\tUK01150069 & UK001 & 3 & 2 & ALL SUBJECT & uk01150069 & 12/17/07 & 1 & 12/17/07 &  1 & 1 & ⋯ & 0 & 0 & 0 & 0 &  & 0 & 1 & 12/14/07 & 9/26/26 & UK01150069\\\\\n",
       "\tUK01470071 & UK001 & 5 & 1 & ALL SUBJECT & UK01470071 & 1/30/08  & 1 & 4/20/08  &  1 & 1 & ⋯ & 0 & 0 & 0 & 0 &  & 0 & 1 & 1/4/08   & 8/17/34 & UK01470071\\\\\n",
       "\tUK01630072 & UK001 & 6 & 1 & ALL SUBJECT & UK01630072 & 1/7/08   & 1 & 2/13/08  &  1 & 1 & ⋯ & 0 & 0 & 0 & 0 &  & 0 & 1 & 1/5/08   & 1/20/68 & UK01630072\\\\\n",
       "\tUK01950074 & UK001 & 8 & 1 & ALL SUBJECT & UK01950074 & 1/14/08  & 1 & 4/16/08  &  1 & 1 & ⋯ & 0 & 0 & 0 & 0 &  & 0 & 1 & 1/9/08   & 2/4/40  & UK01950074\\\\\n",
       "\tUK01140075 & UK001 & 9 & 1 & ALL SUBJECT & UK01140075 & 1/28/08  & 2 &          & NA &   & ⋯ & 0 & 0 & 0 & 0 &  & 1 & 1 & 1/28/08  & 11/1/29 & UK01140075\\\\\n",
       "\\end{tabular}\n"
      ],
      "text/markdown": [
       "\n",
       "A data.frame: 6 × 23\n",
       "\n",
       "| <!--/--> | CenterNumber &lt;chr&gt; | SubjectNumber &lt;int&gt; | diagnosis &lt;int&gt; | study &lt;chr&gt; | SubjectBarCode &lt;chr&gt; | DICU &lt;chr&gt; | alivedead &lt;int&gt; | dhospdis &lt;chr&gt; | aldead &lt;int&gt; | at6Malived &lt;chr&gt; | ⋯ ⋯ | failure3 &lt;chr&gt; | unrelated3 &lt;chr&gt; | persist3 &lt;chr&gt; | unrelatc3 &lt;chr&gt; | unreldesc3 &lt;chr&gt; | AtLeastOneCause &lt;int&gt; | EDTAsent &lt;chr&gt; | DhospICU &lt;chr&gt; | Birthdate &lt;chr&gt; | GAinSID &lt;chr&gt; |\n",
       "|---|---|---|---|---|---|---|---|---|---|---|---|---|---|---|---|---|---|---|---|---|---|\n",
       "| UK01310070 | UK001 | 2 | 1 | ALL SUBJECT | uk01310070 | 1/15/08  | 1 | 4/16/08  |  2 | 2 | ⋯ | 0 | 0 | 1 | 0 | <!----> | 1 | 1 | 12/28/07 | 6/15/35 | UK01310070 |\n",
       "| UK01150069 | UK001 | 3 | 2 | ALL SUBJECT | uk01150069 | 12/17/07 | 1 | 12/17/07 |  1 | 1 | ⋯ | 0 | 0 | 0 | 0 | <!----> | 0 | 1 | 12/14/07 | 9/26/26 | UK01150069 |\n",
       "| UK01470071 | UK001 | 5 | 1 | ALL SUBJECT | UK01470071 | 1/30/08  | 1 | 4/20/08  |  1 | 1 | ⋯ | 0 | 0 | 0 | 0 | <!----> | 0 | 1 | 1/4/08   | 8/17/34 | UK01470071 |\n",
       "| UK01630072 | UK001 | 6 | 1 | ALL SUBJECT | UK01630072 | 1/7/08   | 1 | 2/13/08  |  1 | 1 | ⋯ | 0 | 0 | 0 | 0 | <!----> | 0 | 1 | 1/5/08   | 1/20/68 | UK01630072 |\n",
       "| UK01950074 | UK001 | 8 | 1 | ALL SUBJECT | UK01950074 | 1/14/08  | 1 | 4/16/08  |  1 | 1 | ⋯ | 0 | 0 | 0 | 0 | <!----> | 0 | 1 | 1/9/08   | 2/4/40  | UK01950074 |\n",
       "| UK01140075 | UK001 | 9 | 1 | ALL SUBJECT | UK01140075 | 1/28/08  | 2 | <!----> | NA | <!----> | ⋯ | 0 | 0 | 0 | 0 | <!----> | 1 | 1 | 1/28/08  | 11/1/29 | UK01140075 |\n",
       "\n"
      ],
      "text/plain": [
       "           CenterNumber SubjectNumber diagnosis study       SubjectBarCode\n",
       "UK01310070 UK001        2             1         ALL SUBJECT uk01310070    \n",
       "UK01150069 UK001        3             2         ALL SUBJECT uk01150069    \n",
       "UK01470071 UK001        5             1         ALL SUBJECT UK01470071    \n",
       "UK01630072 UK001        6             1         ALL SUBJECT UK01630072    \n",
       "UK01950074 UK001        8             1         ALL SUBJECT UK01950074    \n",
       "UK01140075 UK001        9             1         ALL SUBJECT UK01140075    \n",
       "           DICU     alivedead dhospdis aldead at6Malived ⋯ failure3 unrelated3\n",
       "UK01310070 1/15/08  1         4/16/08   2     2          ⋯ 0        0         \n",
       "UK01150069 12/17/07 1         12/17/07  1     1          ⋯ 0        0         \n",
       "UK01470071 1/30/08  1         4/20/08   1     1          ⋯ 0        0         \n",
       "UK01630072 1/7/08   1         2/13/08   1     1          ⋯ 0        0         \n",
       "UK01950074 1/14/08  1         4/16/08   1     1          ⋯ 0        0         \n",
       "UK01140075 1/28/08  2                  NA                ⋯ 0        0         \n",
       "           persist3 unrelatc3 unreldesc3 AtLeastOneCause EDTAsent DhospICU\n",
       "UK01310070 1        0                    1               1        12/28/07\n",
       "UK01150069 0        0                    0               1        12/14/07\n",
       "UK01470071 0        0                    0               1        1/4/08  \n",
       "UK01630072 0        0                    0               1        1/5/08  \n",
       "UK01950074 0        0                    0               1        1/9/08  \n",
       "UK01140075 0        0                    1               1        1/28/08 \n",
       "           Birthdate GAinSID   \n",
       "UK01310070 6/15/35   UK01310070\n",
       "UK01150069 9/26/26   UK01150069\n",
       "UK01470071 8/17/34   UK01470071\n",
       "UK01630072 1/20/68   UK01630072\n",
       "UK01950074 2/4/40    UK01950074\n",
       "UK01140075 11/1/29   UK01140075"
      ]
     },
     "metadata": {},
     "output_type": "display_data"
    }
   ],
   "source": [
    "head(outcome)"
   ]
  },
  {
   "cell_type": "markdown",
   "id": "0b6926a7-ee42-458e-88b6-59b8650c80e2",
   "metadata": {
    "tags": []
   },
   "source": [
    "## Subset Patients\n",
    "\n",
    "The same patients have contributed up to three samples to the data (D1, D3, and/or D5). I have decided to choose the last time point available for each patient."
   ]
  },
  {
   "cell_type": "code",
   "execution_count": 47,
   "id": "3591712e-06e3-4101-82e7-e1afe3b5e09a",
   "metadata": {},
   "outputs": [
    {
     "name": "stderr",
     "output_type": "stream",
     "text": [
      "Warning message in mask$eval_all_mutate(quo):\n",
      "“NAs introduced by coercion”\n"
     ]
    }
   ],
   "source": [
    "sample.map <- data.frame(rownames(micro.eigens)) %>%\n",
    "    dplyr::select(SampleID=1) %>%\n",
    "    dplyr::mutate(GAinSID = gsub(\"_.$\", \"\", SampleID), Time.Point=as.numeric(gsub(\".*_\", \"\", SampleID))) %>%\n",
    "    dplyr::filter(!is.na(Time.Point)) %>%\n",
    "    dplyr::filter(GAinSID %in% outcome$GAinSID) %>%\n",
    "    dplyr::group_by(GAinSID) %>%\n",
    "    dplyr::summarize(Last.Time.Point=max(Time.Point)) %>%\n",
    "    dplyr::mutate(Sample=paste0(GAinSID, \"_\", Last.Time.Point))\n",
    "\n",
    "cox.eigengenes <- micro.eigens[sample.map$Sample,]\n",
    "\n",
    "cox.outcomes <- outcome[sample.map$GAinSID,]"
   ]
  },
  {
   "cell_type": "markdown",
   "id": "90f22c5b-738f-4fa3-888c-0f9b564ec183",
   "metadata": {
    "tags": []
   },
   "source": [
    "## Cox Proportional Hazards Model"
   ]
  },
  {
   "cell_type": "code",
   "execution_count": 48,
   "id": "e4f2b90a-ff09-4fbb-b09f-dda9ec7756b3",
   "metadata": {},
   "outputs": [
    {
     "data": {
      "image/png": "[encoded data removed]",
      "text/plain": [
       "plot without title"
      ]
     },
     "metadata": {
      "image/png": {
       "height": 420,
       "width": 420
      }
     },
     "output_type": "display_data"
    }
   ],
   "source": [
    "cox.vars <- cox.outcomes %>%\n",
    "    dplyr::mutate(Date.Hospitalized=lubridate::mdy(DhospICU), Date.Death=lubridate::mdy(M6ddeath)) %>%\n",
    "    dplyr::mutate(Endpoint=as.duration(Date.Hospitalized %--% Date.Death) / lubridate::ddays(1)) %>%\n",
    "    dplyr::mutate(Endpoint=replace(Endpoint, Endpoint > 28, NA)) %>%\n",
    "    dplyr::mutate(Status=ifelse(is.na(Endpoint), 0, 1)) %>%\n",
    "    dplyr::select(Endpoint, Status) %>%\n",
    "    dplyr::mutate(Endpoint=replace(Endpoint, is.na(Endpoint), 28)) %>%\n",
    "    dplyr::bind_cols(cox.eigengenes)\n",
    "\n",
    "ggsurvplot(\n",
    "    fit = survfit(Surv(Endpoint, Status) ~ 1, data = cox.vars), \n",
    "    xlab = \"Days\", \n",
    "    ylab = \"Overall Survival Probability\"\n",
    ")"
   ]
  },
  {
   "cell_type": "markdown",
   "id": "63138098-cf40-458f-9202-2785d15d7cf5",
   "metadata": {},
   "source": [
    "I use a Cox proportional hazards model to test if a given module eigengene is associated with outcome. I run the model for each eigengene rather than including them all in one regression. I correct p-values using Benjamini-Hochberg FDR correction."
   ]
  },
  {
   "cell_type": "code",
   "execution_count": 49,
   "id": "03fc8041-6c0c-4dfa-8bc6-f59d08577192",
   "metadata": {},
   "outputs": [
    {
     "data": {
      "text/html": [
       "<table class=\"dataframe\">\n",
       "<caption>A data.frame: 6 × 7</caption>\n",
       "<thead>\n",
       "\t<tr><th></th><th scope=col>Eigengene</th><th scope=col>Association.Variable</th><th scope=col>Association.Variable.Type</th><th scope=col>Statistic</th><th scope=col>Statistic.Type</th><th scope=col>P.Value</th><th scope=col>Adjusted.P.Value</th></tr>\n",
       "\t<tr><th></th><th scope=col>&lt;chr&gt;</th><th scope=col>&lt;chr&gt;</th><th scope=col>&lt;chr&gt;</th><th scope=col>&lt;dbl&gt;</th><th scope=col>&lt;chr&gt;</th><th scope=col>&lt;dbl&gt;</th><th scope=col>&lt;dbl&gt;</th></tr>\n",
       "</thead>\n",
       "<tbody>\n",
       "\t<tr><th scope=row>Micro_ME_36</th><td>Micro_ME_36</td><td>Outcome</td><td>Outcome</td><td>-10.821939</td><td>Beta</td><td>1.612855e-05</td><td>0.0009141093</td></tr>\n",
       "\t<tr><th scope=row>Micro_ME_10</th><td>Micro_ME_10</td><td>Outcome</td><td>Outcome</td><td>-10.819280</td><td>Beta</td><td>1.924441e-05</td><td>0.0009141093</td></tr>\n",
       "\t<tr><th scope=row>Micro_ME_27</th><td>Micro_ME_27</td><td>Outcome</td><td>Outcome</td><td> -9.255983</td><td>Beta</td><td>5.944041e-05</td><td>0.0018317118</td></tr>\n",
       "\t<tr><th scope=row>Micro_ME_22</th><td>Micro_ME_22</td><td>Outcome</td><td>Outcome</td><td> -9.196178</td><td>Beta</td><td>7.712471e-05</td><td>0.0018317118</td></tr>\n",
       "\t<tr><th scope=row>Micro_ME_28</th><td>Micro_ME_28</td><td>Outcome</td><td>Outcome</td><td> -9.153740</td><td>Beta</td><td>7.706691e-04</td><td>0.0052295405</td></tr>\n",
       "\t<tr><th scope=row>Micro_ME_26</th><td>Micro_ME_26</td><td>Outcome</td><td>Outcome</td><td>  8.948882</td><td>Beta</td><td>1.081347e-04</td><td>0.0020545595</td></tr>\n",
       "</tbody>\n",
       "</table>\n"
      ],
      "text/latex": [
       "A data.frame: 6 × 7\n",
       "\\begin{tabular}{r|lllllll}\n",
       "  & Eigengene & Association.Variable & Association.Variable.Type & Statistic & Statistic.Type & P.Value & Adjusted.P.Value\\\\\n",
       "  & <chr> & <chr> & <chr> & <dbl> & <chr> & <dbl> & <dbl>\\\\\n",
       "\\hline\n",
       "\tMicro\\_ME\\_36 & Micro\\_ME\\_36 & Outcome & Outcome & -10.821939 & Beta & 1.612855e-05 & 0.0009141093\\\\\n",
       "\tMicro\\_ME\\_10 & Micro\\_ME\\_10 & Outcome & Outcome & -10.819280 & Beta & 1.924441e-05 & 0.0009141093\\\\\n",
       "\tMicro\\_ME\\_27 & Micro\\_ME\\_27 & Outcome & Outcome &  -9.255983 & Beta & 5.944041e-05 & 0.0018317118\\\\\n",
       "\tMicro\\_ME\\_22 & Micro\\_ME\\_22 & Outcome & Outcome &  -9.196178 & Beta & 7.712471e-05 & 0.0018317118\\\\\n",
       "\tMicro\\_ME\\_28 & Micro\\_ME\\_28 & Outcome & Outcome &  -9.153740 & Beta & 7.706691e-04 & 0.0052295405\\\\\n",
       "\tMicro\\_ME\\_26 & Micro\\_ME\\_26 & Outcome & Outcome &   8.948882 & Beta & 1.081347e-04 & 0.0020545595\\\\\n",
       "\\end{tabular}\n"
      ],
      "text/markdown": [
       "\n",
       "A data.frame: 6 × 7\n",
       "\n",
       "| <!--/--> | Eigengene &lt;chr&gt; | Association.Variable &lt;chr&gt; | Association.Variable.Type &lt;chr&gt; | Statistic &lt;dbl&gt; | Statistic.Type &lt;chr&gt; | P.Value &lt;dbl&gt; | Adjusted.P.Value &lt;dbl&gt; |\n",
       "|---|---|---|---|---|---|---|---|\n",
       "| Micro_ME_36 | Micro_ME_36 | Outcome | Outcome | -10.821939 | Beta | 1.612855e-05 | 0.0009141093 |\n",
       "| Micro_ME_10 | Micro_ME_10 | Outcome | Outcome | -10.819280 | Beta | 1.924441e-05 | 0.0009141093 |\n",
       "| Micro_ME_27 | Micro_ME_27 | Outcome | Outcome |  -9.255983 | Beta | 5.944041e-05 | 0.0018317118 |\n",
       "| Micro_ME_22 | Micro_ME_22 | Outcome | Outcome |  -9.196178 | Beta | 7.712471e-05 | 0.0018317118 |\n",
       "| Micro_ME_28 | Micro_ME_28 | Outcome | Outcome |  -9.153740 | Beta | 7.706691e-04 | 0.0052295405 |\n",
       "| Micro_ME_26 | Micro_ME_26 | Outcome | Outcome |   8.948882 | Beta | 1.081347e-04 | 0.0020545595 |\n",
       "\n"
      ],
      "text/plain": [
       "            Eigengene   Association.Variable Association.Variable.Type\n",
       "Micro_ME_36 Micro_ME_36 Outcome              Outcome                  \n",
       "Micro_ME_10 Micro_ME_10 Outcome              Outcome                  \n",
       "Micro_ME_27 Micro_ME_27 Outcome              Outcome                  \n",
       "Micro_ME_22 Micro_ME_22 Outcome              Outcome                  \n",
       "Micro_ME_28 Micro_ME_28 Outcome              Outcome                  \n",
       "Micro_ME_26 Micro_ME_26 Outcome              Outcome                  \n",
       "            Statistic  Statistic.Type P.Value      Adjusted.P.Value\n",
       "Micro_ME_36 -10.821939 Beta           1.612855e-05 0.0009141093    \n",
       "Micro_ME_10 -10.819280 Beta           1.924441e-05 0.0009141093    \n",
       "Micro_ME_27  -9.255983 Beta           5.944041e-05 0.0018317118    \n",
       "Micro_ME_22  -9.196178 Beta           7.712471e-05 0.0018317118    \n",
       "Micro_ME_28  -9.153740 Beta           7.706691e-04 0.0052295405    \n",
       "Micro_ME_26   8.948882 Beta           1.081347e-04 0.0020545595    "
      ]
     },
     "metadata": {},
     "output_type": "display_data"
    }
   ],
   "source": [
    "test.results <- list()\n",
    "\n",
    "for (eigengene in colnames(cox.eigengenes)) {\n",
    "\n",
    "    cox.result <- coxph(\n",
    "        as.formula(paste0(\"Surv(Endpoint, Status)~\", eigengene)), \n",
    "        data = cox.vars\n",
    "    )\n",
    "\n",
    "    test.results[[eigengene]] <- summary(cox.result)$coefficients\n",
    "}\n",
    "\n",
    "estimates <- do.call(rbind, test.results) %>%\n",
    "    as.data.frame() %>%\n",
    "    dplyr::mutate(Adjusted.P.Value=p.adjust(`Pr(>|z|)`, method=\"BH\")) %>%\n",
    "    dplyr::arrange(desc(abs(coef)), desc(desc(Adjusted.P.Value))) %>%\n",
    "    dplyr::mutate(Eigengene=rownames(.), Association.Variable=\"Outcome\", Association.Variable.Type=\"Outcome\", Statistic.Type=\"Beta\") %>%\n",
    "    dplyr::select(Eigengene, Association.Variable, Association.Variable.Type, Statistic=coef, Statistic.Type, P.Value=`Pr(>|z|)`, Adjusted.P.Value)\n",
    "head(estimates %>% dplyr::filter(Adjusted.P.Value < 0.05))"
   ]
  },
  {
   "cell_type": "code",
   "execution_count": 58,
   "id": "f2fc7bbd-54ef-4658-8d56-d2203f5fc964",
   "metadata": {},
   "outputs": [
    {
     "data": {
      "text/html": [
       "<table class=\"dataframe\">\n",
       "<caption>A data.frame: 6 × 10</caption>\n",
       "<thead>\n",
       "\t<tr><th scope=col>Original.ME</th><th scope=col>Eigengene</th><th scope=col>Association.Variable</th><th scope=col>Association.Variable.Type</th><th scope=col>Statistic</th><th scope=col>Statistic.Type</th><th scope=col>P.Value</th><th scope=col>Adjusted.P.Value</th><th scope=col>Rho</th><th scope=col>Beta.Adjusted</th></tr>\n",
       "\t<tr><th scope=col>&lt;chr&gt;</th><th scope=col>&lt;chr&gt;</th><th scope=col>&lt;chr&gt;</th><th scope=col>&lt;chr&gt;</th><th scope=col>&lt;dbl&gt;</th><th scope=col>&lt;chr&gt;</th><th scope=col>&lt;dbl&gt;</th><th scope=col>&lt;dbl&gt;</th><th scope=col>&lt;dbl&gt;</th><th scope=col>&lt;dbl&gt;</th></tr>\n",
       "</thead>\n",
       "<tbody>\n",
       "\t<tr><td>ME_10</td><td>Micro_ME_10</td><td>Outcome</td><td>Outcome</td><td>-10.819280</td><td>Beta</td><td>1.924441e-05</td><td>0.0009141093</td><td>-0.9580793</td><td>10.819280</td></tr>\n",
       "\t<tr><td>ME_36</td><td>Micro_ME_36</td><td>Outcome</td><td>Outcome</td><td>-10.821939</td><td>Beta</td><td>1.612855e-05</td><td>0.0009141093</td><td>-0.8762827</td><td>10.821939</td></tr>\n",
       "\t<tr><td>ME_47</td><td>Micro_ME_47</td><td>Outcome</td><td>Outcome</td><td> -7.826447</td><td>Beta</td><td>1.138196e-03</td><td>0.0056909794</td><td> 0.7445504</td><td>-7.826447</td></tr>\n",
       "\t<tr><td>ME_52</td><td>Micro_ME_52</td><td>Outcome</td><td>Outcome</td><td>  8.748524</td><td>Beta</td><td>6.733937e-04</td><td>0.0049209541</td><td>-0.9379344</td><td>-8.748524</td></tr>\n",
       "\t<tr><td>ME_56</td><td>Micro_ME_56</td><td>Outcome</td><td>Outcome</td><td> -8.152861</td><td>Beta</td><td>4.839825e-04</td><td>0.0046603952</td><td> 0.9663387</td><td>-8.152861</td></tr>\n",
       "\t<tr><td>ME_78</td><td>Micro_ME_78</td><td>Outcome</td><td>Outcome</td><td> -8.062432</td><td>Beta</td><td>5.886815e-04</td><td>0.0046603952</td><td> 0.7927705</td><td>-8.062432</td></tr>\n",
       "</tbody>\n",
       "</table>\n"
      ],
      "text/latex": [
       "A data.frame: 6 × 10\n",
       "\\begin{tabular}{llllllllll}\n",
       " Original.ME & Eigengene & Association.Variable & Association.Variable.Type & Statistic & Statistic.Type & P.Value & Adjusted.P.Value & Rho & Beta.Adjusted\\\\\n",
       " <chr> & <chr> & <chr> & <chr> & <dbl> & <chr> & <dbl> & <dbl> & <dbl> & <dbl>\\\\\n",
       "\\hline\n",
       "\t ME\\_10 & Micro\\_ME\\_10 & Outcome & Outcome & -10.819280 & Beta & 1.924441e-05 & 0.0009141093 & -0.9580793 & 10.819280\\\\\n",
       "\t ME\\_36 & Micro\\_ME\\_36 & Outcome & Outcome & -10.821939 & Beta & 1.612855e-05 & 0.0009141093 & -0.8762827 & 10.821939\\\\\n",
       "\t ME\\_47 & Micro\\_ME\\_47 & Outcome & Outcome &  -7.826447 & Beta & 1.138196e-03 & 0.0056909794 &  0.7445504 & -7.826447\\\\\n",
       "\t ME\\_52 & Micro\\_ME\\_52 & Outcome & Outcome &   8.748524 & Beta & 6.733937e-04 & 0.0049209541 & -0.9379344 & -8.748524\\\\\n",
       "\t ME\\_56 & Micro\\_ME\\_56 & Outcome & Outcome &  -8.152861 & Beta & 4.839825e-04 & 0.0046603952 &  0.9663387 & -8.152861\\\\\n",
       "\t ME\\_78 & Micro\\_ME\\_78 & Outcome & Outcome &  -8.062432 & Beta & 5.886815e-04 & 0.0046603952 &  0.7927705 & -8.062432\\\\\n",
       "\\end{tabular}\n"
      ],
      "text/markdown": [
       "\n",
       "A data.frame: 6 × 10\n",
       "\n",
       "| Original.ME &lt;chr&gt; | Eigengene &lt;chr&gt; | Association.Variable &lt;chr&gt; | Association.Variable.Type &lt;chr&gt; | Statistic &lt;dbl&gt; | Statistic.Type &lt;chr&gt; | P.Value &lt;dbl&gt; | Adjusted.P.Value &lt;dbl&gt; | Rho &lt;dbl&gt; | Beta.Adjusted &lt;dbl&gt; |\n",
       "|---|---|---|---|---|---|---|---|---|---|\n",
       "| ME_10 | Micro_ME_10 | Outcome | Outcome | -10.819280 | Beta | 1.924441e-05 | 0.0009141093 | -0.9580793 | 10.819280 |\n",
       "| ME_36 | Micro_ME_36 | Outcome | Outcome | -10.821939 | Beta | 1.612855e-05 | 0.0009141093 | -0.8762827 | 10.821939 |\n",
       "| ME_47 | Micro_ME_47 | Outcome | Outcome |  -7.826447 | Beta | 1.138196e-03 | 0.0056909794 |  0.7445504 | -7.826447 |\n",
       "| ME_52 | Micro_ME_52 | Outcome | Outcome |   8.748524 | Beta | 6.733937e-04 | 0.0049209541 | -0.9379344 | -8.748524 |\n",
       "| ME_56 | Micro_ME_56 | Outcome | Outcome |  -8.152861 | Beta | 4.839825e-04 | 0.0046603952 |  0.9663387 | -8.152861 |\n",
       "| ME_78 | Micro_ME_78 | Outcome | Outcome |  -8.062432 | Beta | 5.886815e-04 | 0.0046603952 |  0.7927705 | -8.062432 |\n",
       "\n"
      ],
      "text/plain": [
       "  Original.ME Eigengene   Association.Variable Association.Variable.Type\n",
       "1 ME_10       Micro_ME_10 Outcome              Outcome                  \n",
       "2 ME_36       Micro_ME_36 Outcome              Outcome                  \n",
       "3 ME_47       Micro_ME_47 Outcome              Outcome                  \n",
       "4 ME_52       Micro_ME_52 Outcome              Outcome                  \n",
       "5 ME_56       Micro_ME_56 Outcome              Outcome                  \n",
       "6 ME_78       Micro_ME_78 Outcome              Outcome                  \n",
       "  Statistic  Statistic.Type P.Value      Adjusted.P.Value Rho       \n",
       "1 -10.819280 Beta           1.924441e-05 0.0009141093     -0.9580793\n",
       "2 -10.821939 Beta           1.612855e-05 0.0009141093     -0.8762827\n",
       "3  -7.826447 Beta           1.138196e-03 0.0056909794      0.7445504\n",
       "4   8.748524 Beta           6.733937e-04 0.0049209541     -0.9379344\n",
       "5  -8.152861 Beta           4.839825e-04 0.0046603952      0.9663387\n",
       "6  -8.062432 Beta           5.886815e-04 0.0046603952      0.7927705\n",
       "  Beta.Adjusted\n",
       "1 10.819280    \n",
       "2 10.821939    \n",
       "3 -7.826447    \n",
       "4 -8.748524    \n",
       "5 -8.152861    \n",
       "6 -8.062432    "
      ]
     },
     "metadata": {},
     "output_type": "display_data"
    }
   ],
   "source": [
    "estimates %>%\n",
    "    dplyr::filter(Eigengene %in% c(\"Micro_ME_10\", \"Micro_ME_36\", \"Micro_ME_47\", \"Micro_ME_52\", \"Micro_ME_56\", \"Micro_ME_78\")) %>%\n",
    "    dplyr::mutate(Original.ME=gsub(\"Micro_\", \"\", rownames(.))) %>%\n",
    "    merge(., rhos, by.x=\"Original.ME\", by.y=0) %>%\n",
    "    dplyr::mutate(Beta.Adjusted=Statistic * sign(Rho))"
   ]
  },
  {
   "cell_type": "code",
   "execution_count": null,
   "id": "9ecd3212-e2d5-47b5-a283-8870cf2810e5",
   "metadata": {},
   "outputs": [],
   "source": []
  }
 ],
 "metadata": {
  "kernelspec": {
   "display_name": "R",
   "language": "R",
   "name": "ir"
  },
  "language_info": {
   "codemirror_mode": "r",
   "file_extension": ".r",
   "mimetype": "text/x-r-source",
   "name": "R",
   "pygments_lexer": "r",
   "version": "4.0.5"
  }
 },
 "nbformat": 4,
 "nbformat_minor": 5
}
