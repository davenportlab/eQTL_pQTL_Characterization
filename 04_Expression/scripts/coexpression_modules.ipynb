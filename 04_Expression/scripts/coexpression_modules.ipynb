{
 "cells": [
  {
   "cell_type": "markdown",
   "id": "97f4527e-7ee8-4ec2-9ae5-a5fa06b3c49d",
   "metadata": {},
   "source": [
    "# Co-Expression Modules\n",
    "\n",
    "**Created**: 8 February 2022"
   ]
  },
  {
   "cell_type": "markdown",
   "id": "492eb157-7125-480e-b630-7cbbdff24262",
   "metadata": {},
   "source": [
    "These co-expression modules are developed based on recommendations by [Johsnon and Krishnan 2022](https://www.doi.org/10.1186/s13059-021-02568-9). These authors specifically analyzed count data from RNA-Seq rather than microarray data, which has been traditionally used to develop co-expression modules in the past. Their recommendations are:\n",
    "\n",
    "1. Using Counts adjusted with TMM Factors (CTF) or Counts adjusted with Upper Quartile Factors (CUF) to perform between-sample normalization on count data directly.\n",
    "2. After normalization, perform an `asinh` normalization.\n",
    "3. Use Context Likelihood of Relatedness (CLR) to transform the network.\n",
    "\n",
    "This is the process they used, which I will follow closely:\n",
    "\n",
    "1. No within-sample normalization.\n",
    "2. Between-sample normalization using CTF.\n",
    "3. Retain only protein-coding, antisense RNA, and lncRNA genes.\n",
    "4. Data transformation using $\\text{asinh(x)}=\\ln \\left(x + \\sqrt{x^2 + 1}\\right)$\n",
    "5. Adjacency matrix using Pearson's R between all gene pairs.\n",
    "6. Network transformation using CLR.\n",
    "\n",
    "Johnson and Krishnan 2022 do not have any recommendations on generating actual modules. One idea is to use the Dynamic Tree Cut algorithm by [Langfelder, Zhang, and Horvath 2008](https://doi.org/10.1093/bioinformatics/btm563). Options include common clustering algorithms:\n",
    "\n",
    "1. $k$-means\n",
    "2. Hierarchical clustering\n",
    "3. Highly-Connected Subgraphs (HCS)\n",
    "4. Dynamic Tree Cut"
   ]
  },
  {
   "cell_type": "markdown",
   "id": "def75f9d-4c39-406c-b4f5-40b47f616075",
   "metadata": {},
   "source": [
    "## Environment"
   ]
  },
  {
   "cell_type": "code",
   "execution_count": 19,
   "id": "5bd6736b-7057-4557-8b5a-d444a742df76",
   "metadata": {},
   "outputs": [
    {
     "name": "stderr",
     "output_type": "stream",
     "text": [
      "Loading required namespace: sva\n",
      "\n",
      "Loading required namespace: spqn\n",
      "\n"
     ]
    }
   ],
   "source": [
    "if (!requireNamespace(\"edgeR\", quietly=TRUE)) {\n",
    "    BiocManager::install(\"edgeR\")\n",
    "}\n",
    "\n",
    "if (!requireNamespace(\"igraph\", quietly=TRUE)) {\n",
    "    BiocManager::install(\"igraph\")\n",
    "}\n",
    "\n",
    "if (!requireNamespace(\"RBGL\", quietly=TRUE)) {\n",
    "    BiocManager::install(\"RBGL\")\n",
    "}\n",
    "\n",
    "if (!requireNamespace(\"Rcpp\", quietly=TRUE)) {\n",
    "    BiocManager::install(\"Rcpp\")\n",
    "}\n",
    "\n",
    "if (!requireNamespace(\"Rfast\", quietly=TRUE)) {\n",
    "    install.packages(\"Rfast\")\n",
    "}\n",
    "\n",
    "if (!requireNamespace(\"sva\")) {\n",
    "    BiocManager::install(\"sva\")\n",
    "}\n",
    "\n",
    "if (!requireNamespace(\"spqn\")) {\n",
    "    BiocManager::install(\"spqn\")\n",
    "}"
   ]
  },
  {
   "cell_type": "code",
   "execution_count": 20,
   "id": "1eef8929-8f5c-445d-a8d9-08b478222649",
   "metadata": {},
   "outputs": [
    {
     "name": "stderr",
     "output_type": "stream",
     "text": [
      "Loading required package: mgcv\n",
      "\n",
      "Loading required package: nlme\n",
      "\n",
      "\n",
      "Attaching package: ‘nlme’\n",
      "\n",
      "\n",
      "The following object is masked from ‘package:dplyr’:\n",
      "\n",
      "    collapse\n",
      "\n",
      "\n",
      "This is mgcv 1.8-38. For overview type 'help(\"mgcv-package\")'.\n",
      "\n",
      "Loading required package: genefilter\n",
      "\n",
      "\n",
      "Attaching package: ‘genefilter’\n",
      "\n",
      "\n",
      "The following objects are masked from ‘package:Rfast’:\n",
      "\n",
      "    rowVars, ttest\n",
      "\n",
      "\n",
      "The following object is masked from ‘package:readr’:\n",
      "\n",
      "    spec\n",
      "\n",
      "\n",
      "Loading required package: BiocParallel\n",
      "\n",
      "Loading required package: ggridges\n",
      "\n",
      "Loading required package: SummarizedExperiment\n",
      "\n",
      "Loading required package: MatrixGenerics\n",
      "\n",
      "Loading required package: matrixStats\n",
      "\n",
      "\n",
      "Attaching package: ‘matrixStats’\n",
      "\n",
      "\n",
      "The following objects are masked from ‘package:genefilter’:\n",
      "\n",
      "    rowSds, rowVars\n",
      "\n",
      "\n",
      "The following objects are masked from ‘package:Rfast’:\n",
      "\n",
      "    colMads, colMaxs, colMedians, colMins, colRanks, colVars, rowMads,\n",
      "    rowMaxs, rowMedians, rowMins, rowRanks, rowVars\n",
      "\n",
      "\n",
      "The following object is masked from ‘package:dplyr’:\n",
      "\n",
      "    count\n",
      "\n",
      "\n",
      "\n",
      "Attaching package: ‘MatrixGenerics’\n",
      "\n",
      "\n",
      "The following objects are masked from ‘package:matrixStats’:\n",
      "\n",
      "    colAlls, colAnyNAs, colAnys, colAvgsPerRowSet, colCollapse,\n",
      "    colCounts, colCummaxs, colCummins, colCumprods, colCumsums,\n",
      "    colDiffs, colIQRDiffs, colIQRs, colLogSumExps, colMadDiffs,\n",
      "    colMads, colMaxs, colMeans2, colMedians, colMins, colOrderStats,\n",
      "    colProds, colQuantiles, colRanges, colRanks, colSdDiffs, colSds,\n",
      "    colSums2, colTabulates, colVarDiffs, colVars, colWeightedMads,\n",
      "    colWeightedMeans, colWeightedMedians, colWeightedSds,\n",
      "    colWeightedVars, rowAlls, rowAnyNAs, rowAnys, rowAvgsPerColSet,\n",
      "    rowCollapse, rowCounts, rowCummaxs, rowCummins, rowCumprods,\n",
      "    rowCumsums, rowDiffs, rowIQRDiffs, rowIQRs, rowLogSumExps,\n",
      "    rowMadDiffs, rowMads, rowMaxs, rowMeans2, rowMedians, rowMins,\n",
      "    rowOrderStats, rowProds, rowQuantiles, rowRanges, rowRanks,\n",
      "    rowSdDiffs, rowSds, rowSums2, rowTabulates, rowVarDiffs, rowVars,\n",
      "    rowWeightedMads, rowWeightedMeans, rowWeightedMedians,\n",
      "    rowWeightedSds, rowWeightedVars\n",
      "\n",
      "\n",
      "The following objects are masked from ‘package:genefilter’:\n",
      "\n",
      "    rowSds, rowVars\n",
      "\n",
      "\n",
      "The following objects are masked from ‘package:Rfast’:\n",
      "\n",
      "    colMads, colMaxs, colMedians, colMins, colRanks, colVars, rowMads,\n",
      "    rowMaxs, rowMedians, rowMins, rowRanks, rowVars\n",
      "\n",
      "\n",
      "Loading required package: GenomicRanges\n",
      "\n",
      "Loading required package: stats4\n",
      "\n",
      "Loading required package: BiocGenerics\n",
      "\n",
      "\n",
      "Attaching package: ‘BiocGenerics’\n",
      "\n",
      "\n",
      "The following objects are masked from ‘package:parallel’:\n",
      "\n",
      "    clusterApply, clusterApplyLB, clusterCall, clusterEvalQ,\n",
      "    clusterExport, clusterMap, parApply, parCapply, parLapply,\n",
      "    parLapplyLB, parRapply, parSapply, parSapplyLB\n",
      "\n",
      "\n",
      "The following objects are masked from ‘package:igraph’:\n",
      "\n",
      "    normalize, path, union\n",
      "\n",
      "\n",
      "The following object is masked from ‘package:limma’:\n",
      "\n",
      "    plotMA\n",
      "\n",
      "\n",
      "The following objects are masked from ‘package:dplyr’:\n",
      "\n",
      "    combine, intersect, setdiff, union\n",
      "\n",
      "\n",
      "The following objects are masked from ‘package:stats’:\n",
      "\n",
      "    IQR, mad, sd, var, xtabs\n",
      "\n",
      "\n",
      "The following objects are masked from ‘package:base’:\n",
      "\n",
      "    anyDuplicated, append, as.data.frame, basename, cbind, colnames,\n",
      "    dirname, do.call, duplicated, eval, evalq, Filter, Find, get, grep,\n",
      "    grepl, intersect, is.unsorted, lapply, Map, mapply, match, mget,\n",
      "    order, paste, pmax, pmax.int, pmin, pmin.int, Position, rank,\n",
      "    rbind, Reduce, rownames, sapply, setdiff, sort, table, tapply,\n",
      "    union, unique, unsplit, which.max, which.min\n",
      "\n",
      "\n",
      "Loading required package: S4Vectors\n",
      "\n",
      "\n",
      "Attaching package: ‘S4Vectors’\n",
      "\n",
      "\n",
      "The following objects are masked from ‘package:data.table’:\n",
      "\n",
      "    first, second\n",
      "\n",
      "\n",
      "The following objects are masked from ‘package:dplyr’:\n",
      "\n",
      "    first, rename\n",
      "\n",
      "\n",
      "The following object is masked from ‘package:tidyr’:\n",
      "\n",
      "    expand\n",
      "\n",
      "\n",
      "The following object is masked from ‘package:base’:\n",
      "\n",
      "    expand.grid\n",
      "\n",
      "\n",
      "Loading required package: IRanges\n",
      "\n",
      "\n",
      "Attaching package: ‘IRanges’\n",
      "\n",
      "\n",
      "The following object is masked from ‘package:nlme’:\n",
      "\n",
      "    collapse\n",
      "\n",
      "\n",
      "The following object is masked from ‘package:data.table’:\n",
      "\n",
      "    shift\n",
      "\n",
      "\n",
      "The following objects are masked from ‘package:dplyr’:\n",
      "\n",
      "    collapse, desc, slice\n",
      "\n",
      "\n",
      "The following object is masked from ‘package:purrr’:\n",
      "\n",
      "    reduce\n",
      "\n",
      "\n",
      "Loading required package: GenomeInfoDb\n",
      "\n",
      "Loading required package: Biobase\n",
      "\n",
      "Welcome to Bioconductor\n",
      "\n",
      "    Vignettes contain introductory material; view with\n",
      "    'browseVignettes()'. To cite Bioconductor, see\n",
      "    'citation(\"Biobase\")', and for packages 'citation(\"pkgname\")'.\n",
      "\n",
      "\n",
      "\n",
      "Attaching package: ‘Biobase’\n",
      "\n",
      "\n",
      "The following object is masked from ‘package:MatrixGenerics’:\n",
      "\n",
      "    rowMedians\n",
      "\n",
      "\n",
      "The following objects are masked from ‘package:matrixStats’:\n",
      "\n",
      "    anyMissing, rowMedians\n",
      "\n",
      "\n",
      "The following object is masked from ‘package:Rfast’:\n",
      "\n",
      "    rowMedians\n",
      "\n",
      "\n"
     ]
    }
   ],
   "source": [
    "library(tidyverse)\n",
    "library(edgeR)\n",
    "library(igraph)\n",
    "library(Rcpp)\n",
    "library(data.table)\n",
    "library(Rfast)\n",
    "library(cluster)\n",
    "library(WGCNA)\n",
    "library(sva)\n",
    "library(spqn)\n",
    "library(parallel)\n",
    "\n",
    "setwd(\"~/eQTL_pQTL_Characterization/\")\n",
    "\n",
    "source(\"04_Expression/scripts/utils/ggplot_theme.R\")"
   ]
  },
  {
   "cell_type": "code",
   "execution_count": 3,
   "id": "24f4d43d-a1df-4af8-b913-0a5cf53d7ed7",
   "metadata": {},
   "outputs": [],
   "source": [
    "Rcpp::sourceCpp(\"04_Expression/scripts/utils/clr.cpp\")"
   ]
  },
  {
   "cell_type": "markdown",
   "id": "7227827e-a0e8-428a-af90-e9c86cce4517",
   "metadata": {},
   "source": [
    "## Load Data"
   ]
  },
  {
   "cell_type": "code",
   "execution_count": 4,
   "id": "4f0681b6-63ac-44a8-bb08-8e88a18efdad",
   "metadata": {},
   "outputs": [],
   "source": [
    "counts <- read.table(\"/nfs/team282/data/gains_team282/counts_864_20412_hla.txt\")"
   ]
  },
  {
   "cell_type": "code",
   "execution_count": 5,
   "id": "75ee4fbd-2caa-4749-a1d4-25473613cfb8",
   "metadata": {},
   "outputs": [],
   "source": [
    "ga.prefix.filter <- grepl(\"GA\", colnames(counts))\n",
    "colnames(counts)[ga.prefix.filter] <- gsub(\"^GA\", \"\", colnames(counts)[ga.prefix.filter])"
   ]
  },
  {
   "cell_type": "code",
   "execution_count": 6,
   "id": "79c4479f-2d3c-4c85-a81e-b4f9080c2956",
   "metadata": {},
   "outputs": [
    {
     "data": {
      "text/html": [
       "<table class=\"dataframe\">\n",
       "<caption>A data.frame: 6 × 864</caption>\n",
       "<thead>\n",
       "\t<tr><th></th><th scope=col>UK02270173_3</th><th scope=col>UK15130120_3</th><th scope=col>UK58000006_3</th><th scope=col>UK47010004_3</th><th scope=col>UK42020088_5</th><th scope=col>UK47490007_3</th><th scope=col>UK02770164_3</th><th scope=col>UK02770164_5</th><th scope=col>UK02630151_3</th><th scope=col>UK42150107_1</th><th scope=col>⋯</th><th scope=col>UK59070043_3</th><th scope=col>UK59070043_5</th><th scope=col>UK02510223_3</th><th scope=col>UK02XX0336_5</th><th scope=col>UK29090086_3</th><th scope=col>UK02XX0335_1</th><th scope=col>UK02XX0334_3</th><th scope=col>UK01210130_3</th><th scope=col>UK01210130_5</th><th scope=col>UK01380125_1</th></tr>\n",
       "\t<tr><th></th><th scope=col>&lt;int&gt;</th><th scope=col>&lt;int&gt;</th><th scope=col>&lt;int&gt;</th><th scope=col>&lt;int&gt;</th><th scope=col>&lt;int&gt;</th><th scope=col>&lt;int&gt;</th><th scope=col>&lt;int&gt;</th><th scope=col>&lt;int&gt;</th><th scope=col>&lt;int&gt;</th><th scope=col>&lt;int&gt;</th><th scope=col>⋯</th><th scope=col>&lt;int&gt;</th><th scope=col>&lt;int&gt;</th><th scope=col>&lt;int&gt;</th><th scope=col>&lt;int&gt;</th><th scope=col>&lt;int&gt;</th><th scope=col>&lt;int&gt;</th><th scope=col>&lt;int&gt;</th><th scope=col>&lt;int&gt;</th><th scope=col>&lt;int&gt;</th><th scope=col>&lt;int&gt;</th></tr>\n",
       "</thead>\n",
       "<tbody>\n",
       "\t<tr><th scope=row>ENSG00000230521</th><td> 24</td><td>21</td><td>10</td><td>  4</td><td> 5</td><td>10</td><td>15</td><td>20</td><td>17</td><td>  9</td><td>⋯</td><td>  9</td><td> 13</td><td>25</td><td>22</td><td>17</td><td> 3</td><td>35</td><td>23</td><td>41</td><td>13</td></tr>\n",
       "\t<tr><th scope=row>ENSG00000225864</th><td> 40</td><td>15</td><td>16</td><td> 23</td><td> 5</td><td>35</td><td> 5</td><td>20</td><td> 4</td><td> 40</td><td>⋯</td><td> 18</td><td> 23</td><td>27</td><td> 3</td><td>14</td><td>12</td><td>17</td><td>13</td><td>15</td><td>10</td></tr>\n",
       "\t<tr><th scope=row>ENSG00000227766</th><td> 54</td><td>10</td><td>18</td><td> 19</td><td>17</td><td> 7</td><td> 3</td><td> 5</td><td> 3</td><td> 32</td><td>⋯</td><td> 12</td><td> 10</td><td> 9</td><td> 1</td><td>16</td><td> 9</td><td> 9</td><td>14</td><td> 5</td><td> 3</td></tr>\n",
       "\t<tr><th scope=row>ENSG00000237669</th><td> 23</td><td>26</td><td>30</td><td> 16</td><td> 9</td><td>32</td><td>30</td><td>21</td><td>22</td><td> 32</td><td>⋯</td><td> 33</td><td> 15</td><td>32</td><td>32</td><td>19</td><td>23</td><td>27</td><td>32</td><td>24</td><td>40</td></tr>\n",
       "\t<tr><th scope=row>ENSG00000271581</th><td>187</td><td>64</td><td>79</td><td>117</td><td>81</td><td>91</td><td>18</td><td>41</td><td>39</td><td>130</td><td>⋯</td><td>135</td><td> 54</td><td>61</td><td>18</td><td>43</td><td>60</td><td>49</td><td>70</td><td>67</td><td>46</td></tr>\n",
       "\t<tr><th scope=row>ENSG00000285647</th><td>  0</td><td> 1</td><td> 0</td><td>  1</td><td>18</td><td> 0</td><td> 0</td><td> 1</td><td>17</td><td> 64</td><td>⋯</td><td>286</td><td>122</td><td> 1</td><td> 0</td><td> 0</td><td>13</td><td>11</td><td> 2</td><td> 2</td><td>12</td></tr>\n",
       "</tbody>\n",
       "</table>\n"
      ],
      "text/latex": [
       "A data.frame: 6 × 864\n",
       "\\begin{tabular}{r|lllllllllllllllllllll}\n",
       "  & UK02270173\\_3 & UK15130120\\_3 & UK58000006\\_3 & UK47010004\\_3 & UK42020088\\_5 & UK47490007\\_3 & UK02770164\\_3 & UK02770164\\_5 & UK02630151\\_3 & UK42150107\\_1 & ⋯ & UK59070043\\_3 & UK59070043\\_5 & UK02510223\\_3 & UK02XX0336\\_5 & UK29090086\\_3 & UK02XX0335\\_1 & UK02XX0334\\_3 & UK01210130\\_3 & UK01210130\\_5 & UK01380125\\_1\\\\\n",
       "  & <int> & <int> & <int> & <int> & <int> & <int> & <int> & <int> & <int> & <int> & ⋯ & <int> & <int> & <int> & <int> & <int> & <int> & <int> & <int> & <int> & <int>\\\\\n",
       "\\hline\n",
       "\tENSG00000230521 &  24 & 21 & 10 &   4 &  5 & 10 & 15 & 20 & 17 &   9 & ⋯ &   9 &  13 & 25 & 22 & 17 &  3 & 35 & 23 & 41 & 13\\\\\n",
       "\tENSG00000225864 &  40 & 15 & 16 &  23 &  5 & 35 &  5 & 20 &  4 &  40 & ⋯ &  18 &  23 & 27 &  3 & 14 & 12 & 17 & 13 & 15 & 10\\\\\n",
       "\tENSG00000227766 &  54 & 10 & 18 &  19 & 17 &  7 &  3 &  5 &  3 &  32 & ⋯ &  12 &  10 &  9 &  1 & 16 &  9 &  9 & 14 &  5 &  3\\\\\n",
       "\tENSG00000237669 &  23 & 26 & 30 &  16 &  9 & 32 & 30 & 21 & 22 &  32 & ⋯ &  33 &  15 & 32 & 32 & 19 & 23 & 27 & 32 & 24 & 40\\\\\n",
       "\tENSG00000271581 & 187 & 64 & 79 & 117 & 81 & 91 & 18 & 41 & 39 & 130 & ⋯ & 135 &  54 & 61 & 18 & 43 & 60 & 49 & 70 & 67 & 46\\\\\n",
       "\tENSG00000285647 &   0 &  1 &  0 &   1 & 18 &  0 &  0 &  1 & 17 &  64 & ⋯ & 286 & 122 &  1 &  0 &  0 & 13 & 11 &  2 &  2 & 12\\\\\n",
       "\\end{tabular}\n"
      ],
      "text/markdown": [
       "\n",
       "A data.frame: 6 × 864\n",
       "\n",
       "| <!--/--> | UK02270173_3 &lt;int&gt; | UK15130120_3 &lt;int&gt; | UK58000006_3 &lt;int&gt; | UK47010004_3 &lt;int&gt; | UK42020088_5 &lt;int&gt; | UK47490007_3 &lt;int&gt; | UK02770164_3 &lt;int&gt; | UK02770164_5 &lt;int&gt; | UK02630151_3 &lt;int&gt; | UK42150107_1 &lt;int&gt; | ⋯ ⋯ | UK59070043_3 &lt;int&gt; | UK59070043_5 &lt;int&gt; | UK02510223_3 &lt;int&gt; | UK02XX0336_5 &lt;int&gt; | UK29090086_3 &lt;int&gt; | UK02XX0335_1 &lt;int&gt; | UK02XX0334_3 &lt;int&gt; | UK01210130_3 &lt;int&gt; | UK01210130_5 &lt;int&gt; | UK01380125_1 &lt;int&gt; |\n",
       "|---|---|---|---|---|---|---|---|---|---|---|---|---|---|---|---|---|---|---|---|---|---|\n",
       "| ENSG00000230521 |  24 | 21 | 10 |   4 |  5 | 10 | 15 | 20 | 17 |   9 | ⋯ |   9 |  13 | 25 | 22 | 17 |  3 | 35 | 23 | 41 | 13 |\n",
       "| ENSG00000225864 |  40 | 15 | 16 |  23 |  5 | 35 |  5 | 20 |  4 |  40 | ⋯ |  18 |  23 | 27 |  3 | 14 | 12 | 17 | 13 | 15 | 10 |\n",
       "| ENSG00000227766 |  54 | 10 | 18 |  19 | 17 |  7 |  3 |  5 |  3 |  32 | ⋯ |  12 |  10 |  9 |  1 | 16 |  9 |  9 | 14 |  5 |  3 |\n",
       "| ENSG00000237669 |  23 | 26 | 30 |  16 |  9 | 32 | 30 | 21 | 22 |  32 | ⋯ |  33 |  15 | 32 | 32 | 19 | 23 | 27 | 32 | 24 | 40 |\n",
       "| ENSG00000271581 | 187 | 64 | 79 | 117 | 81 | 91 | 18 | 41 | 39 | 130 | ⋯ | 135 |  54 | 61 | 18 | 43 | 60 | 49 | 70 | 67 | 46 |\n",
       "| ENSG00000285647 |   0 |  1 |  0 |   1 | 18 |  0 |  0 |  1 | 17 |  64 | ⋯ | 286 | 122 |  1 |  0 |  0 | 13 | 11 |  2 |  2 | 12 |\n",
       "\n"
      ],
      "text/plain": [
       "                UK02270173_3 UK15130120_3 UK58000006_3 UK47010004_3\n",
       "ENSG00000230521  24          21           10             4         \n",
       "ENSG00000225864  40          15           16            23         \n",
       "ENSG00000227766  54          10           18            19         \n",
       "ENSG00000237669  23          26           30            16         \n",
       "ENSG00000271581 187          64           79           117         \n",
       "ENSG00000285647   0           1            0             1         \n",
       "                UK42020088_5 UK47490007_3 UK02770164_3 UK02770164_5\n",
       "ENSG00000230521  5           10           15           20          \n",
       "ENSG00000225864  5           35            5           20          \n",
       "ENSG00000227766 17            7            3            5          \n",
       "ENSG00000237669  9           32           30           21          \n",
       "ENSG00000271581 81           91           18           41          \n",
       "ENSG00000285647 18            0            0            1          \n",
       "                UK02630151_3 UK42150107_1 ⋯ UK59070043_3 UK59070043_5\n",
       "ENSG00000230521 17             9          ⋯   9           13         \n",
       "ENSG00000225864  4            40          ⋯  18           23         \n",
       "ENSG00000227766  3            32          ⋯  12           10         \n",
       "ENSG00000237669 22            32          ⋯  33           15         \n",
       "ENSG00000271581 39           130          ⋯ 135           54         \n",
       "ENSG00000285647 17            64          ⋯ 286          122         \n",
       "                UK02510223_3 UK02XX0336_5 UK29090086_3 UK02XX0335_1\n",
       "ENSG00000230521 25           22           17            3          \n",
       "ENSG00000225864 27            3           14           12          \n",
       "ENSG00000227766  9            1           16            9          \n",
       "ENSG00000237669 32           32           19           23          \n",
       "ENSG00000271581 61           18           43           60          \n",
       "ENSG00000285647  1            0            0           13          \n",
       "                UK02XX0334_3 UK01210130_3 UK01210130_5 UK01380125_1\n",
       "ENSG00000230521 35           23           41           13          \n",
       "ENSG00000225864 17           13           15           10          \n",
       "ENSG00000227766  9           14            5            3          \n",
       "ENSG00000237669 27           32           24           40          \n",
       "ENSG00000271581 49           70           67           46          \n",
       "ENSG00000285647 11            2            2           12          "
      ]
     },
     "metadata": {},
     "output_type": "display_data"
    }
   ],
   "source": [
    "head(counts)"
   ]
  },
  {
   "cell_type": "code",
   "execution_count": 7,
   "id": "07adaa65-23ab-4532-9384-11c4767035a8",
   "metadata": {},
   "outputs": [],
   "source": [
    "gene.info <- read.table(\"/nfs/team282/data/gains_team282/gene_info_864_20412_hla.txt\")"
   ]
  },
  {
   "cell_type": "code",
   "execution_count": 8,
   "id": "9aba4854-0337-4d58-b450-94897badf43f",
   "metadata": {},
   "outputs": [
    {
     "data": {
      "text/html": [
       "<table class=\"dataframe\">\n",
       "<caption>A data.frame: 6 × 27</caption>\n",
       "<thead>\n",
       "\t<tr><th></th><th scope=col>seqnames</th><th scope=col>start</th><th scope=col>end</th><th scope=col>width</th><th scope=col>strand</th><th scope=col>source</th><th scope=col>type</th><th scope=col>score</th><th scope=col>phase</th><th scope=col>gene_id</th><th scope=col>⋯</th><th scope=col>transcript_source</th><th scope=col>transcript_biotype</th><th scope=col>tag</th><th scope=col>transcript_support_level</th><th scope=col>exon_number</th><th scope=col>exon_id</th><th scope=col>exon_version</th><th scope=col>protein_id</th><th scope=col>protein_version</th><th scope=col>ccds_id</th></tr>\n",
       "\t<tr><th></th><th scope=col>&lt;chr&gt;</th><th scope=col>&lt;int&gt;</th><th scope=col>&lt;int&gt;</th><th scope=col>&lt;int&gt;</th><th scope=col>&lt;chr&gt;</th><th scope=col>&lt;chr&gt;</th><th scope=col>&lt;chr&gt;</th><th scope=col>&lt;lgl&gt;</th><th scope=col>&lt;lgl&gt;</th><th scope=col>&lt;chr&gt;</th><th scope=col>⋯</th><th scope=col>&lt;lgl&gt;</th><th scope=col>&lt;lgl&gt;</th><th scope=col>&lt;lgl&gt;</th><th scope=col>&lt;lgl&gt;</th><th scope=col>&lt;lgl&gt;</th><th scope=col>&lt;lgl&gt;</th><th scope=col>&lt;lgl&gt;</th><th scope=col>&lt;lgl&gt;</th><th scope=col>&lt;lgl&gt;</th><th scope=col>&lt;lgl&gt;</th></tr>\n",
       "</thead>\n",
       "<tbody>\n",
       "\t<tr><th scope=row>ENSG00000230521</th><td>6</td><td>29887294</td><td>29888268</td><td> 975</td><td>-</td><td>havana</td><td>gene</td><td>NA</td><td>NA</td><td>ENSG00000230521</td><td>⋯</td><td>NA</td><td>NA</td><td>NA</td><td>NA</td><td>NA</td><td>NA</td><td>NA</td><td>NA</td><td>NA</td><td>NA</td></tr>\n",
       "\t<tr><th scope=row>ENSG00000225864</th><td>6</td><td>29722981</td><td>29723971</td><td> 991</td><td>-</td><td>havana</td><td>gene</td><td>NA</td><td>NA</td><td>ENSG00000225864</td><td>⋯</td><td>NA</td><td>NA</td><td>NA</td><td>NA</td><td>NA</td><td>NA</td><td>NA</td><td>NA</td><td>NA</td><td>NA</td></tr>\n",
       "\t<tr><th scope=row>ENSG00000227766</th><td>6</td><td>29942075</td><td>29943067</td><td> 993</td><td>-</td><td>havana</td><td>gene</td><td>NA</td><td>NA</td><td>ENSG00000227766</td><td>⋯</td><td>NA</td><td>NA</td><td>NA</td><td>NA</td><td>NA</td><td>NA</td><td>NA</td><td>NA</td><td>NA</td><td>NA</td></tr>\n",
       "\t<tr><th scope=row>ENSG00000237669</th><td>6</td><td>30006121</td><td>30007116</td><td> 996</td><td>-</td><td>havana</td><td>gene</td><td>NA</td><td>NA</td><td>ENSG00000237669</td><td>⋯</td><td>NA</td><td>NA</td><td>NA</td><td>NA</td><td>NA</td><td>NA</td><td>NA</td><td>NA</td><td>NA</td><td>NA</td></tr>\n",
       "\t<tr><th scope=row>ENSG00000271581</th><td>6</td><td>31356647</td><td>31357637</td><td> 991</td><td>+</td><td>havana</td><td>gene</td><td>NA</td><td>NA</td><td>ENSG00000271581</td><td>⋯</td><td>NA</td><td>NA</td><td>NA</td><td>NA</td><td>NA</td><td>NA</td><td>NA</td><td>NA</td><td>NA</td><td>NA</td></tr>\n",
       "\t<tr><th scope=row>ENSG00000285647</th><td>6</td><td>31367057</td><td>31376088</td><td>9032</td><td>+</td><td>havana</td><td>gene</td><td>NA</td><td>NA</td><td>ENSG00000285647</td><td>⋯</td><td>NA</td><td>NA</td><td>NA</td><td>NA</td><td>NA</td><td>NA</td><td>NA</td><td>NA</td><td>NA</td><td>NA</td></tr>\n",
       "</tbody>\n",
       "</table>\n"
      ],
      "text/latex": [
       "A data.frame: 6 × 27\n",
       "\\begin{tabular}{r|lllllllllllllllllllll}\n",
       "  & seqnames & start & end & width & strand & source & type & score & phase & gene\\_id & ⋯ & transcript\\_source & transcript\\_biotype & tag & transcript\\_support\\_level & exon\\_number & exon\\_id & exon\\_version & protein\\_id & protein\\_version & ccds\\_id\\\\\n",
       "  & <chr> & <int> & <int> & <int> & <chr> & <chr> & <chr> & <lgl> & <lgl> & <chr> & ⋯ & <lgl> & <lgl> & <lgl> & <lgl> & <lgl> & <lgl> & <lgl> & <lgl> & <lgl> & <lgl>\\\\\n",
       "\\hline\n",
       "\tENSG00000230521 & 6 & 29887294 & 29888268 &  975 & - & havana & gene & NA & NA & ENSG00000230521 & ⋯ & NA & NA & NA & NA & NA & NA & NA & NA & NA & NA\\\\\n",
       "\tENSG00000225864 & 6 & 29722981 & 29723971 &  991 & - & havana & gene & NA & NA & ENSG00000225864 & ⋯ & NA & NA & NA & NA & NA & NA & NA & NA & NA & NA\\\\\n",
       "\tENSG00000227766 & 6 & 29942075 & 29943067 &  993 & - & havana & gene & NA & NA & ENSG00000227766 & ⋯ & NA & NA & NA & NA & NA & NA & NA & NA & NA & NA\\\\\n",
       "\tENSG00000237669 & 6 & 30006121 & 30007116 &  996 & - & havana & gene & NA & NA & ENSG00000237669 & ⋯ & NA & NA & NA & NA & NA & NA & NA & NA & NA & NA\\\\\n",
       "\tENSG00000271581 & 6 & 31356647 & 31357637 &  991 & + & havana & gene & NA & NA & ENSG00000271581 & ⋯ & NA & NA & NA & NA & NA & NA & NA & NA & NA & NA\\\\\n",
       "\tENSG00000285647 & 6 & 31367057 & 31376088 & 9032 & + & havana & gene & NA & NA & ENSG00000285647 & ⋯ & NA & NA & NA & NA & NA & NA & NA & NA & NA & NA\\\\\n",
       "\\end{tabular}\n"
      ],
      "text/markdown": [
       "\n",
       "A data.frame: 6 × 27\n",
       "\n",
       "| <!--/--> | seqnames &lt;chr&gt; | start &lt;int&gt; | end &lt;int&gt; | width &lt;int&gt; | strand &lt;chr&gt; | source &lt;chr&gt; | type &lt;chr&gt; | score &lt;lgl&gt; | phase &lt;lgl&gt; | gene_id &lt;chr&gt; | ⋯ ⋯ | transcript_source &lt;lgl&gt; | transcript_biotype &lt;lgl&gt; | tag &lt;lgl&gt; | transcript_support_level &lt;lgl&gt; | exon_number &lt;lgl&gt; | exon_id &lt;lgl&gt; | exon_version &lt;lgl&gt; | protein_id &lt;lgl&gt; | protein_version &lt;lgl&gt; | ccds_id &lt;lgl&gt; |\n",
       "|---|---|---|---|---|---|---|---|---|---|---|---|---|---|---|---|---|---|---|---|---|---|\n",
       "| ENSG00000230521 | 6 | 29887294 | 29888268 |  975 | - | havana | gene | NA | NA | ENSG00000230521 | ⋯ | NA | NA | NA | NA | NA | NA | NA | NA | NA | NA |\n",
       "| ENSG00000225864 | 6 | 29722981 | 29723971 |  991 | - | havana | gene | NA | NA | ENSG00000225864 | ⋯ | NA | NA | NA | NA | NA | NA | NA | NA | NA | NA |\n",
       "| ENSG00000227766 | 6 | 29942075 | 29943067 |  993 | - | havana | gene | NA | NA | ENSG00000227766 | ⋯ | NA | NA | NA | NA | NA | NA | NA | NA | NA | NA |\n",
       "| ENSG00000237669 | 6 | 30006121 | 30007116 |  996 | - | havana | gene | NA | NA | ENSG00000237669 | ⋯ | NA | NA | NA | NA | NA | NA | NA | NA | NA | NA |\n",
       "| ENSG00000271581 | 6 | 31356647 | 31357637 |  991 | + | havana | gene | NA | NA | ENSG00000271581 | ⋯ | NA | NA | NA | NA | NA | NA | NA | NA | NA | NA |\n",
       "| ENSG00000285647 | 6 | 31367057 | 31376088 | 9032 | + | havana | gene | NA | NA | ENSG00000285647 | ⋯ | NA | NA | NA | NA | NA | NA | NA | NA | NA | NA |\n",
       "\n"
      ],
      "text/plain": [
       "                seqnames start    end      width strand source type score phase\n",
       "ENSG00000230521 6        29887294 29888268  975  -      havana gene NA    NA   \n",
       "ENSG00000225864 6        29722981 29723971  991  -      havana gene NA    NA   \n",
       "ENSG00000227766 6        29942075 29943067  993  -      havana gene NA    NA   \n",
       "ENSG00000237669 6        30006121 30007116  996  -      havana gene NA    NA   \n",
       "ENSG00000271581 6        31356647 31357637  991  +      havana gene NA    NA   \n",
       "ENSG00000285647 6        31367057 31376088 9032  +      havana gene NA    NA   \n",
       "                gene_id         ⋯ transcript_source transcript_biotype tag\n",
       "ENSG00000230521 ENSG00000230521 ⋯ NA                NA                 NA \n",
       "ENSG00000225864 ENSG00000225864 ⋯ NA                NA                 NA \n",
       "ENSG00000227766 ENSG00000227766 ⋯ NA                NA                 NA \n",
       "ENSG00000237669 ENSG00000237669 ⋯ NA                NA                 NA \n",
       "ENSG00000271581 ENSG00000271581 ⋯ NA                NA                 NA \n",
       "ENSG00000285647 ENSG00000285647 ⋯ NA                NA                 NA \n",
       "                transcript_support_level exon_number exon_id exon_version\n",
       "ENSG00000230521 NA                       NA          NA      NA          \n",
       "ENSG00000225864 NA                       NA          NA      NA          \n",
       "ENSG00000227766 NA                       NA          NA      NA          \n",
       "ENSG00000237669 NA                       NA          NA      NA          \n",
       "ENSG00000271581 NA                       NA          NA      NA          \n",
       "ENSG00000285647 NA                       NA          NA      NA          \n",
       "                protein_id protein_version ccds_id\n",
       "ENSG00000230521 NA         NA              NA     \n",
       "ENSG00000225864 NA         NA              NA     \n",
       "ENSG00000227766 NA         NA              NA     \n",
       "ENSG00000237669 NA         NA              NA     \n",
       "ENSG00000271581 NA         NA              NA     \n",
       "ENSG00000285647 NA         NA              NA     "
      ]
     },
     "metadata": {},
     "output_type": "display_data"
    }
   ],
   "source": [
    "head(gene.info)"
   ]
  },
  {
   "cell_type": "markdown",
   "id": "e982066d-6882-46f1-b693-72422fcc4fb1",
   "metadata": {},
   "source": [
    "## Between-Sample Normalization\n",
    "\n",
    "I will perform between-sample normalization using the trimmed mean of $M$ values (TMM) on the count data directly. This is a method Johnson and Krishnan 2022 refer to as Counts Adjusted with TMM Factors (CTF). "
   ]
  },
  {
   "cell_type": "code",
   "execution_count": 9,
   "id": "cd0d62de-184b-40b1-bbd3-8b346294a2b5",
   "metadata": {},
   "outputs": [],
   "source": [
    "norm.factors <- edgeR::calcNormFactors(counts)"
   ]
  },
  {
   "cell_type": "code",
   "execution_count": 10,
   "id": "bb1a49ad-870a-45a4-9933-6c9ce7c3a353",
   "metadata": {},
   "outputs": [],
   "source": [
    "normalized.counts <- t(apply(counts, 1, function(x) { x / norm.factors }))"
   ]
  },
  {
   "cell_type": "code",
   "execution_count": 11,
   "id": "3fd38946-65bb-4d38-a17d-30978cf75c8a",
   "metadata": {},
   "outputs": [
    {
     "data": {
      "text/html": [
       "<table class=\"dataframe\">\n",
       "<caption>A matrix: 6 × 864 of type dbl</caption>\n",
       "<thead>\n",
       "\t<tr><th></th><th scope=col>UK02270173_3</th><th scope=col>UK15130120_3</th><th scope=col>UK58000006_3</th><th scope=col>UK47010004_3</th><th scope=col>UK42020088_5</th><th scope=col>UK47490007_3</th><th scope=col>UK02770164_3</th><th scope=col>UK02770164_5</th><th scope=col>UK02630151_3</th><th scope=col>UK42150107_1</th><th scope=col>⋯</th><th scope=col>UK59070043_3</th><th scope=col>UK59070043_5</th><th scope=col>UK02510223_3</th><th scope=col>UK02XX0336_5</th><th scope=col>UK29090086_3</th><th scope=col>UK02XX0335_1</th><th scope=col>UK02XX0334_3</th><th scope=col>UK01210130_3</th><th scope=col>UK01210130_5</th><th scope=col>UK01380125_1</th></tr>\n",
       "</thead>\n",
       "<tbody>\n",
       "\t<tr><th scope=row>ENSG00000230521</th><td> 21.55001</td><td>17.2447538</td><td> 9.724169</td><td>  4.613221</td><td> 5.71868</td><td> 11.313561</td><td>14.346532</td><td>17.253619</td><td>22.313038</td><td> 10.21478</td><td>⋯</td><td>  9.162787</td><td> 12.680394</td><td>18.5900523</td><td>18.4578591</td><td>17.99854</td><td> 3.677036</td><td>31.788661</td><td>18.360747</td><td>32.832300</td><td>12.634999</td></tr>\n",
       "\t<tr><th scope=row>ENSG00000225864</th><td> 35.91669</td><td>12.3176813</td><td>15.558671</td><td> 26.526021</td><td> 5.71868</td><td> 39.597464</td><td> 4.782177</td><td>17.253619</td><td> 5.250127</td><td> 45.39902</td><td>⋯</td><td> 18.325573</td><td> 22.434543</td><td>20.0772565</td><td> 2.5169808</td><td>14.82233</td><td>14.708143</td><td>15.440207</td><td>10.377813</td><td>12.011817</td><td> 9.719230</td></tr>\n",
       "\t<tr><th scope=row>ENSG00000227766</th><td> 48.48753</td><td> 8.2117875</td><td>17.503505</td><td> 21.912800</td><td>19.44351</td><td>  7.919493</td><td> 2.869306</td><td> 4.313405</td><td> 3.937595</td><td> 36.31921</td><td>⋯</td><td> 12.217049</td><td>  9.754149</td><td> 6.6924188</td><td> 0.8389936</td><td>16.93980</td><td>11.031107</td><td> 8.174227</td><td>11.176107</td><td> 4.003939</td><td> 2.915769</td></tr>\n",
       "\t<tr><th scope=row>ENSG00000237669</th><td> 20.65210</td><td>21.3506476</td><td>29.172508</td><td> 18.452884</td><td>10.29362</td><td> 36.203396</td><td>28.693065</td><td>18.116300</td><td>28.875696</td><td> 36.31921</td><td>⋯</td><td> 33.596884</td><td> 14.631224</td><td>23.7952669</td><td>26.8477951</td><td>20.11602</td><td>28.190607</td><td>24.522681</td><td>25.545387</td><td>19.218907</td><td>38.876921</td></tr>\n",
       "\t<tr><th scope=row>ENSG00000271581</th><td>167.91052</td><td>52.5554402</td><td>76.820938</td><td>134.936714</td><td>92.64262</td><td>102.953408</td><td>17.215839</td><td>35.369920</td><td>51.188733</td><td>147.54681</td><td>⋯</td><td>137.441800</td><td> 52.672406</td><td>45.3597276</td><td>15.1018848</td><td>45.52573</td><td>73.540713</td><td>44.504126</td><td>55.880534</td><td>53.652783</td><td>44.708459</td></tr>\n",
       "\t<tr><th scope=row>ENSG00000285647</th><td>  0.00000</td><td> 0.8211788</td><td> 0.000000</td><td>  1.153305</td><td>20.58725</td><td>  0.000000</td><td> 0.000000</td><td> 0.862681</td><td>22.313038</td><td> 72.63843</td><td>⋯</td><td>291.172999</td><td>119.000622</td><td> 0.7436021</td><td> 0.0000000</td><td> 0.00000</td><td>15.933821</td><td> 9.990722</td><td> 1.596587</td><td> 1.601576</td><td>11.663076</td></tr>\n",
       "</tbody>\n",
       "</table>\n"
      ],
      "text/latex": [
       "A matrix: 6 × 864 of type dbl\n",
       "\\begin{tabular}{r|lllllllllllllllllllll}\n",
       "  & UK02270173\\_3 & UK15130120\\_3 & UK58000006\\_3 & UK47010004\\_3 & UK42020088\\_5 & UK47490007\\_3 & UK02770164\\_3 & UK02770164\\_5 & UK02630151\\_3 & UK42150107\\_1 & ⋯ & UK59070043\\_3 & UK59070043\\_5 & UK02510223\\_3 & UK02XX0336\\_5 & UK29090086\\_3 & UK02XX0335\\_1 & UK02XX0334\\_3 & UK01210130\\_3 & UK01210130\\_5 & UK01380125\\_1\\\\\n",
       "\\hline\n",
       "\tENSG00000230521 &  21.55001 & 17.2447538 &  9.724169 &   4.613221 &  5.71868 &  11.313561 & 14.346532 & 17.253619 & 22.313038 &  10.21478 & ⋯ &   9.162787 &  12.680394 & 18.5900523 & 18.4578591 & 17.99854 &  3.677036 & 31.788661 & 18.360747 & 32.832300 & 12.634999\\\\\n",
       "\tENSG00000225864 &  35.91669 & 12.3176813 & 15.558671 &  26.526021 &  5.71868 &  39.597464 &  4.782177 & 17.253619 &  5.250127 &  45.39902 & ⋯ &  18.325573 &  22.434543 & 20.0772565 &  2.5169808 & 14.82233 & 14.708143 & 15.440207 & 10.377813 & 12.011817 &  9.719230\\\\\n",
       "\tENSG00000227766 &  48.48753 &  8.2117875 & 17.503505 &  21.912800 & 19.44351 &   7.919493 &  2.869306 &  4.313405 &  3.937595 &  36.31921 & ⋯ &  12.217049 &   9.754149 &  6.6924188 &  0.8389936 & 16.93980 & 11.031107 &  8.174227 & 11.176107 &  4.003939 &  2.915769\\\\\n",
       "\tENSG00000237669 &  20.65210 & 21.3506476 & 29.172508 &  18.452884 & 10.29362 &  36.203396 & 28.693065 & 18.116300 & 28.875696 &  36.31921 & ⋯ &  33.596884 &  14.631224 & 23.7952669 & 26.8477951 & 20.11602 & 28.190607 & 24.522681 & 25.545387 & 19.218907 & 38.876921\\\\\n",
       "\tENSG00000271581 & 167.91052 & 52.5554402 & 76.820938 & 134.936714 & 92.64262 & 102.953408 & 17.215839 & 35.369920 & 51.188733 & 147.54681 & ⋯ & 137.441800 &  52.672406 & 45.3597276 & 15.1018848 & 45.52573 & 73.540713 & 44.504126 & 55.880534 & 53.652783 & 44.708459\\\\\n",
       "\tENSG00000285647 &   0.00000 &  0.8211788 &  0.000000 &   1.153305 & 20.58725 &   0.000000 &  0.000000 &  0.862681 & 22.313038 &  72.63843 & ⋯ & 291.172999 & 119.000622 &  0.7436021 &  0.0000000 &  0.00000 & 15.933821 &  9.990722 &  1.596587 &  1.601576 & 11.663076\\\\\n",
       "\\end{tabular}\n"
      ],
      "text/markdown": [
       "\n",
       "A matrix: 6 × 864 of type dbl\n",
       "\n",
       "| <!--/--> | UK02270173_3 | UK15130120_3 | UK58000006_3 | UK47010004_3 | UK42020088_5 | UK47490007_3 | UK02770164_3 | UK02770164_5 | UK02630151_3 | UK42150107_1 | ⋯ | UK59070043_3 | UK59070043_5 | UK02510223_3 | UK02XX0336_5 | UK29090086_3 | UK02XX0335_1 | UK02XX0334_3 | UK01210130_3 | UK01210130_5 | UK01380125_1 |\n",
       "|---|---|---|---|---|---|---|---|---|---|---|---|---|---|---|---|---|---|---|---|---|---|\n",
       "| ENSG00000230521 |  21.55001 | 17.2447538 |  9.724169 |   4.613221 |  5.71868 |  11.313561 | 14.346532 | 17.253619 | 22.313038 |  10.21478 | ⋯ |   9.162787 |  12.680394 | 18.5900523 | 18.4578591 | 17.99854 |  3.677036 | 31.788661 | 18.360747 | 32.832300 | 12.634999 |\n",
       "| ENSG00000225864 |  35.91669 | 12.3176813 | 15.558671 |  26.526021 |  5.71868 |  39.597464 |  4.782177 | 17.253619 |  5.250127 |  45.39902 | ⋯ |  18.325573 |  22.434543 | 20.0772565 |  2.5169808 | 14.82233 | 14.708143 | 15.440207 | 10.377813 | 12.011817 |  9.719230 |\n",
       "| ENSG00000227766 |  48.48753 |  8.2117875 | 17.503505 |  21.912800 | 19.44351 |   7.919493 |  2.869306 |  4.313405 |  3.937595 |  36.31921 | ⋯ |  12.217049 |   9.754149 |  6.6924188 |  0.8389936 | 16.93980 | 11.031107 |  8.174227 | 11.176107 |  4.003939 |  2.915769 |\n",
       "| ENSG00000237669 |  20.65210 | 21.3506476 | 29.172508 |  18.452884 | 10.29362 |  36.203396 | 28.693065 | 18.116300 | 28.875696 |  36.31921 | ⋯ |  33.596884 |  14.631224 | 23.7952669 | 26.8477951 | 20.11602 | 28.190607 | 24.522681 | 25.545387 | 19.218907 | 38.876921 |\n",
       "| ENSG00000271581 | 167.91052 | 52.5554402 | 76.820938 | 134.936714 | 92.64262 | 102.953408 | 17.215839 | 35.369920 | 51.188733 | 147.54681 | ⋯ | 137.441800 |  52.672406 | 45.3597276 | 15.1018848 | 45.52573 | 73.540713 | 44.504126 | 55.880534 | 53.652783 | 44.708459 |\n",
       "| ENSG00000285647 |   0.00000 |  0.8211788 |  0.000000 |   1.153305 | 20.58725 |   0.000000 |  0.000000 |  0.862681 | 22.313038 |  72.63843 | ⋯ | 291.172999 | 119.000622 |  0.7436021 |  0.0000000 |  0.00000 | 15.933821 |  9.990722 |  1.596587 |  1.601576 | 11.663076 |\n",
       "\n"
      ],
      "text/plain": [
       "                UK02270173_3 UK15130120_3 UK58000006_3 UK47010004_3\n",
       "ENSG00000230521  21.55001    17.2447538    9.724169      4.613221  \n",
       "ENSG00000225864  35.91669    12.3176813   15.558671     26.526021  \n",
       "ENSG00000227766  48.48753     8.2117875   17.503505     21.912800  \n",
       "ENSG00000237669  20.65210    21.3506476   29.172508     18.452884  \n",
       "ENSG00000271581 167.91052    52.5554402   76.820938    134.936714  \n",
       "ENSG00000285647   0.00000     0.8211788    0.000000      1.153305  \n",
       "                UK42020088_5 UK47490007_3 UK02770164_3 UK02770164_5\n",
       "ENSG00000230521  5.71868      11.313561   14.346532    17.253619   \n",
       "ENSG00000225864  5.71868      39.597464    4.782177    17.253619   \n",
       "ENSG00000227766 19.44351       7.919493    2.869306     4.313405   \n",
       "ENSG00000237669 10.29362      36.203396   28.693065    18.116300   \n",
       "ENSG00000271581 92.64262     102.953408   17.215839    35.369920   \n",
       "ENSG00000285647 20.58725       0.000000    0.000000     0.862681   \n",
       "                UK02630151_3 UK42150107_1 ⋯ UK59070043_3 UK59070043_5\n",
       "ENSG00000230521 22.313038     10.21478    ⋯   9.162787    12.680394  \n",
       "ENSG00000225864  5.250127     45.39902    ⋯  18.325573    22.434543  \n",
       "ENSG00000227766  3.937595     36.31921    ⋯  12.217049     9.754149  \n",
       "ENSG00000237669 28.875696     36.31921    ⋯  33.596884    14.631224  \n",
       "ENSG00000271581 51.188733    147.54681    ⋯ 137.441800    52.672406  \n",
       "ENSG00000285647 22.313038     72.63843    ⋯ 291.172999   119.000622  \n",
       "                UK02510223_3 UK02XX0336_5 UK29090086_3 UK02XX0335_1\n",
       "ENSG00000230521 18.5900523   18.4578591   17.99854      3.677036   \n",
       "ENSG00000225864 20.0772565    2.5169808   14.82233     14.708143   \n",
       "ENSG00000227766  6.6924188    0.8389936   16.93980     11.031107   \n",
       "ENSG00000237669 23.7952669   26.8477951   20.11602     28.190607   \n",
       "ENSG00000271581 45.3597276   15.1018848   45.52573     73.540713   \n",
       "ENSG00000285647  0.7436021    0.0000000    0.00000     15.933821   \n",
       "                UK02XX0334_3 UK01210130_3 UK01210130_5 UK01380125_1\n",
       "ENSG00000230521 31.788661    18.360747    32.832300    12.634999   \n",
       "ENSG00000225864 15.440207    10.377813    12.011817     9.719230   \n",
       "ENSG00000227766  8.174227    11.176107     4.003939     2.915769   \n",
       "ENSG00000237669 24.522681    25.545387    19.218907    38.876921   \n",
       "ENSG00000271581 44.504126    55.880534    53.652783    44.708459   \n",
       "ENSG00000285647  9.990722     1.596587     1.601576    11.663076   "
      ]
     },
     "metadata": {},
     "output_type": "display_data"
    }
   ],
   "source": [
    "head(normalized.counts)"
   ]
  },
  {
   "cell_type": "markdown",
   "id": "4d16216e-e93a-460e-8c7f-700da0fe93df",
   "metadata": {},
   "source": [
    "## Gene Type Filtering\n",
    "\n",
    "I filter out any genes that are not protein-coding, antisense RNA, or lncRNA genes. This is done after normalization to ensure that the library size correction is calculated using all the counts available.\n",
    "\n",
    "In Ensembl, `protein_coding` stands for the protein coding genes. The `lncRNA` biotype is for long non-coding RNAs. I include `miRNA`, `piRNA`, and `siRNA` as antisense RNAs. I also included immunoglobulin and T-cell receptor variable regions, as they are relevant to sepsis.\n",
    "\n",
    "These filters nominate 18,681 genes for co-expression analysis."
   ]
  },
  {
   "cell_type": "code",
   "execution_count": 12,
   "id": "52f46eb7-a0d3-4e03-a1f5-c4df5e7152e2",
   "metadata": {},
   "outputs": [],
   "source": [
    "gene.filter <- gene.info$gene_biotype == \"protein_coding\"\n",
    "gene.filter <- gene.filter | gene.info$gene_biotype == \"lncRNA\"\n",
    "gene.filter <- gene.filter | gene.info$gene_biotype == \"miRNA\"\n",
    "gene.filter <- gene.filter | gene.info$gene_biotype == \"piRNA\"\n",
    "gene.filter <- gene.filter | gene.info$gene_biotype == \"siRNA\"\n",
    "gene.filter <- gene.filter | grepl(\"^IG_\", gene.info$gene_biotype)\n",
    "gene.filter <- gene.filter | grepl(\"^TR_\", gene.info$gene_biotype)\n",
    "gene.filter <- gene.filter & !is.na(gene.info$gene_biotype)"
   ]
  },
  {
   "cell_type": "code",
   "execution_count": 13,
   "id": "f057b884-5e52-43de-8b75-5a72df4211f5",
   "metadata": {},
   "outputs": [],
   "source": [
    "gene.info.filtered <- gene.info[gene.filter,]"
   ]
  },
  {
   "cell_type": "code",
   "execution_count": 14,
   "id": "388abbb1-9c41-42b2-91fb-64f2fff80952",
   "metadata": {},
   "outputs": [
    {
     "data": {
      "text/html": [
       "<style>\n",
       ".list-inline {list-style: none; margin:0; padding: 0}\n",
       ".list-inline>li {display: inline-block}\n",
       ".list-inline>li:not(:last-child)::after {content: \"\\00b7\"; padding: 0 .5ex}\n",
       "</style>\n",
       "<ol class=list-inline><li>18681</li><li>27</li></ol>\n"
      ],
      "text/latex": [
       "\\begin{enumerate*}\n",
       "\\item 18681\n",
       "\\item 27\n",
       "\\end{enumerate*}\n"
      ],
      "text/markdown": [
       "1. 18681\n",
       "2. 27\n",
       "\n",
       "\n"
      ],
      "text/plain": [
       "[1] 18681    27"
      ]
     },
     "metadata": {},
     "output_type": "display_data"
    }
   ],
   "source": [
    "dim(gene.info.filtered)"
   ]
  },
  {
   "cell_type": "code",
   "execution_count": 15,
   "id": "990603ad-cb20-4224-8ab7-7dc449552696",
   "metadata": {},
   "outputs": [
    {
     "data": {
      "text/html": [
       "<table class=\"dataframe\">\n",
       "<caption>A data.frame: 6 × 27</caption>\n",
       "<thead>\n",
       "\t<tr><th></th><th scope=col>seqnames</th><th scope=col>start</th><th scope=col>end</th><th scope=col>width</th><th scope=col>strand</th><th scope=col>source</th><th scope=col>type</th><th scope=col>score</th><th scope=col>phase</th><th scope=col>gene_id</th><th scope=col>⋯</th><th scope=col>transcript_source</th><th scope=col>transcript_biotype</th><th scope=col>tag</th><th scope=col>transcript_support_level</th><th scope=col>exon_number</th><th scope=col>exon_id</th><th scope=col>exon_version</th><th scope=col>protein_id</th><th scope=col>protein_version</th><th scope=col>ccds_id</th></tr>\n",
       "\t<tr><th></th><th scope=col>&lt;chr&gt;</th><th scope=col>&lt;int&gt;</th><th scope=col>&lt;int&gt;</th><th scope=col>&lt;int&gt;</th><th scope=col>&lt;chr&gt;</th><th scope=col>&lt;chr&gt;</th><th scope=col>&lt;chr&gt;</th><th scope=col>&lt;lgl&gt;</th><th scope=col>&lt;lgl&gt;</th><th scope=col>&lt;chr&gt;</th><th scope=col>⋯</th><th scope=col>&lt;lgl&gt;</th><th scope=col>&lt;lgl&gt;</th><th scope=col>&lt;lgl&gt;</th><th scope=col>&lt;lgl&gt;</th><th scope=col>&lt;lgl&gt;</th><th scope=col>&lt;lgl&gt;</th><th scope=col>&lt;lgl&gt;</th><th scope=col>&lt;lgl&gt;</th><th scope=col>&lt;lgl&gt;</th><th scope=col>&lt;lgl&gt;</th></tr>\n",
       "</thead>\n",
       "<tbody>\n",
       "\t<tr><th scope=row>ENSG00000285647</th><td>6</td><td>31367057</td><td>31376088</td><td> 9032</td><td>+</td><td>havana        </td><td>gene</td><td>NA</td><td>NA</td><td>ENSG00000285647</td><td>⋯</td><td>NA</td><td>NA</td><td>NA</td><td>NA</td><td>NA</td><td>NA</td><td>NA</td><td>NA</td><td>NA</td><td>NA</td></tr>\n",
       "\t<tr><th scope=row>ENSG00000204435</th><td>6</td><td>31665236</td><td>31670343</td><td> 5108</td><td>+</td><td>ensembl_havana</td><td>gene</td><td>NA</td><td>NA</td><td>ENSG00000204435</td><td>⋯</td><td>NA</td><td>NA</td><td>NA</td><td>NA</td><td>NA</td><td>NA</td><td>NA</td><td>NA</td><td>NA</td><td>NA</td></tr>\n",
       "\t<tr><th scope=row>ENSG00000231074</th><td>6</td><td>30286690</td><td>30327382</td><td>40693</td><td>-</td><td>havana        </td><td>gene</td><td>NA</td><td>NA</td><td>ENSG00000231074</td><td>⋯</td><td>NA</td><td>NA</td><td>NA</td><td>NA</td><td>NA</td><td>NA</td><td>NA</td><td>NA</td><td>NA</td><td>NA</td></tr>\n",
       "\t<tr><th scope=row>ENSG00000206337</th><td>6</td><td>31463170</td><td>31478936</td><td>15767</td><td>+</td><td>ensembl_havana</td><td>gene</td><td>NA</td><td>NA</td><td>ENSG00000206337</td><td>⋯</td><td>NA</td><td>NA</td><td>NA</td><td>NA</td><td>NA</td><td>NA</td><td>NA</td><td>NA</td><td>NA</td><td>NA</td></tr>\n",
       "\t<tr><th scope=row>ENSG00000206503</th><td>6</td><td>29941260</td><td>29945884</td><td> 4625</td><td>+</td><td>ensembl_havana</td><td>gene</td><td>NA</td><td>NA</td><td>ENSG00000206503</td><td>⋯</td><td>NA</td><td>NA</td><td>NA</td><td>NA</td><td>NA</td><td>NA</td><td>NA</td><td>NA</td><td>NA</td><td>NA</td></tr>\n",
       "\t<tr><th scope=row>ENSG00000234745</th><td>6</td><td>31269491</td><td>31357188</td><td>87698</td><td>-</td><td>ensembl_havana</td><td>gene</td><td>NA</td><td>NA</td><td>ENSG00000234745</td><td>⋯</td><td>NA</td><td>NA</td><td>NA</td><td>NA</td><td>NA</td><td>NA</td><td>NA</td><td>NA</td><td>NA</td><td>NA</td></tr>\n",
       "</tbody>\n",
       "</table>\n"
      ],
      "text/latex": [
       "A data.frame: 6 × 27\n",
       "\\begin{tabular}{r|lllllllllllllllllllll}\n",
       "  & seqnames & start & end & width & strand & source & type & score & phase & gene\\_id & ⋯ & transcript\\_source & transcript\\_biotype & tag & transcript\\_support\\_level & exon\\_number & exon\\_id & exon\\_version & protein\\_id & protein\\_version & ccds\\_id\\\\\n",
       "  & <chr> & <int> & <int> & <int> & <chr> & <chr> & <chr> & <lgl> & <lgl> & <chr> & ⋯ & <lgl> & <lgl> & <lgl> & <lgl> & <lgl> & <lgl> & <lgl> & <lgl> & <lgl> & <lgl>\\\\\n",
       "\\hline\n",
       "\tENSG00000285647 & 6 & 31367057 & 31376088 &  9032 & + & havana         & gene & NA & NA & ENSG00000285647 & ⋯ & NA & NA & NA & NA & NA & NA & NA & NA & NA & NA\\\\\n",
       "\tENSG00000204435 & 6 & 31665236 & 31670343 &  5108 & + & ensembl\\_havana & gene & NA & NA & ENSG00000204435 & ⋯ & NA & NA & NA & NA & NA & NA & NA & NA & NA & NA\\\\\n",
       "\tENSG00000231074 & 6 & 30286690 & 30327382 & 40693 & - & havana         & gene & NA & NA & ENSG00000231074 & ⋯ & NA & NA & NA & NA & NA & NA & NA & NA & NA & NA\\\\\n",
       "\tENSG00000206337 & 6 & 31463170 & 31478936 & 15767 & + & ensembl\\_havana & gene & NA & NA & ENSG00000206337 & ⋯ & NA & NA & NA & NA & NA & NA & NA & NA & NA & NA\\\\\n",
       "\tENSG00000206503 & 6 & 29941260 & 29945884 &  4625 & + & ensembl\\_havana & gene & NA & NA & ENSG00000206503 & ⋯ & NA & NA & NA & NA & NA & NA & NA & NA & NA & NA\\\\\n",
       "\tENSG00000234745 & 6 & 31269491 & 31357188 & 87698 & - & ensembl\\_havana & gene & NA & NA & ENSG00000234745 & ⋯ & NA & NA & NA & NA & NA & NA & NA & NA & NA & NA\\\\\n",
       "\\end{tabular}\n"
      ],
      "text/markdown": [
       "\n",
       "A data.frame: 6 × 27\n",
       "\n",
       "| <!--/--> | seqnames &lt;chr&gt; | start &lt;int&gt; | end &lt;int&gt; | width &lt;int&gt; | strand &lt;chr&gt; | source &lt;chr&gt; | type &lt;chr&gt; | score &lt;lgl&gt; | phase &lt;lgl&gt; | gene_id &lt;chr&gt; | ⋯ ⋯ | transcript_source &lt;lgl&gt; | transcript_biotype &lt;lgl&gt; | tag &lt;lgl&gt; | transcript_support_level &lt;lgl&gt; | exon_number &lt;lgl&gt; | exon_id &lt;lgl&gt; | exon_version &lt;lgl&gt; | protein_id &lt;lgl&gt; | protein_version &lt;lgl&gt; | ccds_id &lt;lgl&gt; |\n",
       "|---|---|---|---|---|---|---|---|---|---|---|---|---|---|---|---|---|---|---|---|---|---|\n",
       "| ENSG00000285647 | 6 | 31367057 | 31376088 |  9032 | + | havana         | gene | NA | NA | ENSG00000285647 | ⋯ | NA | NA | NA | NA | NA | NA | NA | NA | NA | NA |\n",
       "| ENSG00000204435 | 6 | 31665236 | 31670343 |  5108 | + | ensembl_havana | gene | NA | NA | ENSG00000204435 | ⋯ | NA | NA | NA | NA | NA | NA | NA | NA | NA | NA |\n",
       "| ENSG00000231074 | 6 | 30286690 | 30327382 | 40693 | - | havana         | gene | NA | NA | ENSG00000231074 | ⋯ | NA | NA | NA | NA | NA | NA | NA | NA | NA | NA |\n",
       "| ENSG00000206337 | 6 | 31463170 | 31478936 | 15767 | + | ensembl_havana | gene | NA | NA | ENSG00000206337 | ⋯ | NA | NA | NA | NA | NA | NA | NA | NA | NA | NA |\n",
       "| ENSG00000206503 | 6 | 29941260 | 29945884 |  4625 | + | ensembl_havana | gene | NA | NA | ENSG00000206503 | ⋯ | NA | NA | NA | NA | NA | NA | NA | NA | NA | NA |\n",
       "| ENSG00000234745 | 6 | 31269491 | 31357188 | 87698 | - | ensembl_havana | gene | NA | NA | ENSG00000234745 | ⋯ | NA | NA | NA | NA | NA | NA | NA | NA | NA | NA |\n",
       "\n"
      ],
      "text/plain": [
       "                seqnames start    end      width strand source         type\n",
       "ENSG00000285647 6        31367057 31376088  9032 +      havana         gene\n",
       "ENSG00000204435 6        31665236 31670343  5108 +      ensembl_havana gene\n",
       "ENSG00000231074 6        30286690 30327382 40693 -      havana         gene\n",
       "ENSG00000206337 6        31463170 31478936 15767 +      ensembl_havana gene\n",
       "ENSG00000206503 6        29941260 29945884  4625 +      ensembl_havana gene\n",
       "ENSG00000234745 6        31269491 31357188 87698 -      ensembl_havana gene\n",
       "                score phase gene_id         ⋯ transcript_source\n",
       "ENSG00000285647 NA    NA    ENSG00000285647 ⋯ NA               \n",
       "ENSG00000204435 NA    NA    ENSG00000204435 ⋯ NA               \n",
       "ENSG00000231074 NA    NA    ENSG00000231074 ⋯ NA               \n",
       "ENSG00000206337 NA    NA    ENSG00000206337 ⋯ NA               \n",
       "ENSG00000206503 NA    NA    ENSG00000206503 ⋯ NA               \n",
       "ENSG00000234745 NA    NA    ENSG00000234745 ⋯ NA               \n",
       "                transcript_biotype tag transcript_support_level exon_number\n",
       "ENSG00000285647 NA                 NA  NA                       NA         \n",
       "ENSG00000204435 NA                 NA  NA                       NA         \n",
       "ENSG00000231074 NA                 NA  NA                       NA         \n",
       "ENSG00000206337 NA                 NA  NA                       NA         \n",
       "ENSG00000206503 NA                 NA  NA                       NA         \n",
       "ENSG00000234745 NA                 NA  NA                       NA         \n",
       "                exon_id exon_version protein_id protein_version ccds_id\n",
       "ENSG00000285647 NA      NA           NA         NA              NA     \n",
       "ENSG00000204435 NA      NA           NA         NA              NA     \n",
       "ENSG00000231074 NA      NA           NA         NA              NA     \n",
       "ENSG00000206337 NA      NA           NA         NA              NA     \n",
       "ENSG00000206503 NA      NA           NA         NA              NA     \n",
       "ENSG00000234745 NA      NA           NA         NA              NA     "
      ]
     },
     "metadata": {},
     "output_type": "display_data"
    }
   ],
   "source": [
    "head(gene.info.filtered)"
   ]
  },
  {
   "cell_type": "code",
   "execution_count": 16,
   "id": "56a2af9a-e6fa-4551-9a81-33c893c5ed0f",
   "metadata": {},
   "outputs": [],
   "source": [
    "normalized.counts.filtered <- normalized.counts[rownames(gene.info.filtered),]"
   ]
  },
  {
   "cell_type": "code",
   "execution_count": 17,
   "id": "be56ce30-6ef2-4ef0-a4dc-f7ce926b0873",
   "metadata": {},
   "outputs": [
    {
     "data": {
      "text/html": [
       "<table class=\"dataframe\">\n",
       "<caption>A matrix: 6 × 864 of type dbl</caption>\n",
       "<thead>\n",
       "\t<tr><th></th><th scope=col>UK02270173_3</th><th scope=col>UK15130120_3</th><th scope=col>UK58000006_3</th><th scope=col>UK47010004_3</th><th scope=col>UK42020088_5</th><th scope=col>UK47490007_3</th><th scope=col>UK02770164_3</th><th scope=col>UK02770164_5</th><th scope=col>UK02630151_3</th><th scope=col>UK42150107_1</th><th scope=col>⋯</th><th scope=col>UK59070043_3</th><th scope=col>UK59070043_5</th><th scope=col>UK02510223_3</th><th scope=col>UK02XX0336_5</th><th scope=col>UK29090086_3</th><th scope=col>UK02XX0335_1</th><th scope=col>UK02XX0334_3</th><th scope=col>UK01210130_3</th><th scope=col>UK01210130_5</th><th scope=col>UK01380125_1</th></tr>\n",
       "</thead>\n",
       "<tbody>\n",
       "\t<tr><th scope=row>ENSG00000285647</th><td>     0.0000</td><td>8.211788e-01</td><td>     0.0000</td><td>1.153305e+00</td><td>    20.58725</td><td>     0.0000</td><td>     0.0000</td><td>8.626810e-01</td><td>    22.31304</td><td>    72.63843</td><td>⋯</td><td>   291.1730</td><td>   119.0006</td><td>7.436021e-01</td><td>     0.0000</td><td>     0.0000</td><td>    15.93382</td><td>9.990722e+00</td><td>1.596587e+00</td><td>1.601576e+00</td><td>    11.66308</td></tr>\n",
       "\t<tr><th scope=row>ENSG00000204435</th><td>   443.5711</td><td>6.298441e+02</td><td>   365.6288</td><td>5.028411e+02</td><td>   761.72821</td><td>   750.0891</td><td>   391.1821</td><td>3.951079e+02</td><td>   630.01518</td><td>   513.00890</td><td>⋯</td><td>   400.1084</td><td>   377.4856</td><td>4.052631e+02</td><td>   411.1069</td><td>   496.5480</td><td>   720.69899</td><td>4.332340e+02</td><td>4.334733e+02</td><td>4.051986e+02</td><td>   498.59651</td></tr>\n",
       "\t<tr><th scope=row>ENSG00000231074</th><td>   563.8920</td><td>3.958082e+02</td><td>   333.5390</td><td>2.099016e+02</td><td>   391.15773</td><td>   247.7670</td><td>   367.2712</td><td>4.244390e+02</td><td>   259.88126</td><td>   356.38229</td><td>⋯</td><td>   303.3900</td><td>   306.2803</td><td>4.141864e+02</td><td>   339.7924</td><td>   377.9694</td><td>   365.25221</td><td>5.440402e+02</td><td>4.741862e+02</td><td>4.692617e+02</td><td>   462.63536</td></tr>\n",
       "\t<tr><th scope=row>ENSG00000206337</th><td>  5841.8496</td><td>2.829782e+03</td><td>  3403.4593</td><td>6.222082e+03</td><td>  2782.70981</td><td>  3432.5345</td><td>  3703.3182</td><td>3.774229e+03</td><td>  4601.73588</td><td>  4175.57462</td><td>⋯</td><td>  3892.1482</td><td>  3690.9701</td><td>2.303679e+03</td><td>  3106.7933</td><td>  5646.2487</td><td>  4740.92466</td><td>6.156101e+03</td><td>3.636226e+03</td><td>3.715655e+03</td><td>  2650.43407</td></tr>\n",
       "\t<tr><th scope=row>ENSG00000206503</th><td> 88215.8792</td><td>1.038652e+05</td><td> 64689.0643</td><td>1.516400e+05</td><td>142363.11360</td><td>105755.7767</td><td> 52786.6309</td><td>7.223745e+04</td><td>143009.50844</td><td>151111.76418</td><td>⋯</td><td> 87412.9849</td><td> 76183.8080</td><td>6.203129e+04</td><td> 63049.5299</td><td>138010.7082</td><td>113256.37569</td><td>6.991235e+04</td><td>7.831737e+04</td><td>7.287009e+04</td><td> 75416.36650</td></tr>\n",
       "\t<tr><th scope=row>ENSG00000234745</th><td>216755.4258</td><td>2.057644e+05</td><td>144883.3166</td><td>2.391505e+05</td><td>206798.91517</td><td>257246.6249</td><td>119071.4358</td><td>1.624385e+05</td><td>358410.38621</td><td>244326.16156</td><td>⋯</td><td>142428.3922</td><td>126543.5057</td><td>9.380243e+04</td><td>143722.9593</td><td>255535.8986</td><td>349135.76259</td><td>2.089705e+05</td><td>1.341755e+05</td><td>1.247355e+05</td><td>120012.08221</td></tr>\n",
       "</tbody>\n",
       "</table>\n"
      ],
      "text/latex": [
       "A matrix: 6 × 864 of type dbl\n",
       "\\begin{tabular}{r|lllllllllllllllllllll}\n",
       "  & UK02270173\\_3 & UK15130120\\_3 & UK58000006\\_3 & UK47010004\\_3 & UK42020088\\_5 & UK47490007\\_3 & UK02770164\\_3 & UK02770164\\_5 & UK02630151\\_3 & UK42150107\\_1 & ⋯ & UK59070043\\_3 & UK59070043\\_5 & UK02510223\\_3 & UK02XX0336\\_5 & UK29090086\\_3 & UK02XX0335\\_1 & UK02XX0334\\_3 & UK01210130\\_3 & UK01210130\\_5 & UK01380125\\_1\\\\\n",
       "\\hline\n",
       "\tENSG00000285647 &      0.0000 & 8.211788e-01 &      0.0000 & 1.153305e+00 &     20.58725 &      0.0000 &      0.0000 & 8.626810e-01 &     22.31304 &     72.63843 & ⋯ &    291.1730 &    119.0006 & 7.436021e-01 &      0.0000 &      0.0000 &     15.93382 & 9.990722e+00 & 1.596587e+00 & 1.601576e+00 &     11.66308\\\\\n",
       "\tENSG00000204435 &    443.5711 & 6.298441e+02 &    365.6288 & 5.028411e+02 &    761.72821 &    750.0891 &    391.1821 & 3.951079e+02 &    630.01518 &    513.00890 & ⋯ &    400.1084 &    377.4856 & 4.052631e+02 &    411.1069 &    496.5480 &    720.69899 & 4.332340e+02 & 4.334733e+02 & 4.051986e+02 &    498.59651\\\\\n",
       "\tENSG00000231074 &    563.8920 & 3.958082e+02 &    333.5390 & 2.099016e+02 &    391.15773 &    247.7670 &    367.2712 & 4.244390e+02 &    259.88126 &    356.38229 & ⋯ &    303.3900 &    306.2803 & 4.141864e+02 &    339.7924 &    377.9694 &    365.25221 & 5.440402e+02 & 4.741862e+02 & 4.692617e+02 &    462.63536\\\\\n",
       "\tENSG00000206337 &   5841.8496 & 2.829782e+03 &   3403.4593 & 6.222082e+03 &   2782.70981 &   3432.5345 &   3703.3182 & 3.774229e+03 &   4601.73588 &   4175.57462 & ⋯ &   3892.1482 &   3690.9701 & 2.303679e+03 &   3106.7933 &   5646.2487 &   4740.92466 & 6.156101e+03 & 3.636226e+03 & 3.715655e+03 &   2650.43407\\\\\n",
       "\tENSG00000206503 &  88215.8792 & 1.038652e+05 &  64689.0643 & 1.516400e+05 & 142363.11360 & 105755.7767 &  52786.6309 & 7.223745e+04 & 143009.50844 & 151111.76418 & ⋯ &  87412.9849 &  76183.8080 & 6.203129e+04 &  63049.5299 & 138010.7082 & 113256.37569 & 6.991235e+04 & 7.831737e+04 & 7.287009e+04 &  75416.36650\\\\\n",
       "\tENSG00000234745 & 216755.4258 & 2.057644e+05 & 144883.3166 & 2.391505e+05 & 206798.91517 & 257246.6249 & 119071.4358 & 1.624385e+05 & 358410.38621 & 244326.16156 & ⋯ & 142428.3922 & 126543.5057 & 9.380243e+04 & 143722.9593 & 255535.8986 & 349135.76259 & 2.089705e+05 & 1.341755e+05 & 1.247355e+05 & 120012.08221\\\\\n",
       "\\end{tabular}\n"
      ],
      "text/markdown": [
       "\n",
       "A matrix: 6 × 864 of type dbl\n",
       "\n",
       "| <!--/--> | UK02270173_3 | UK15130120_3 | UK58000006_3 | UK47010004_3 | UK42020088_5 | UK47490007_3 | UK02770164_3 | UK02770164_5 | UK02630151_3 | UK42150107_1 | ⋯ | UK59070043_3 | UK59070043_5 | UK02510223_3 | UK02XX0336_5 | UK29090086_3 | UK02XX0335_1 | UK02XX0334_3 | UK01210130_3 | UK01210130_5 | UK01380125_1 |\n",
       "|---|---|---|---|---|---|---|---|---|---|---|---|---|---|---|---|---|---|---|---|---|---|\n",
       "| ENSG00000285647 |      0.0000 | 8.211788e-01 |      0.0000 | 1.153305e+00 |     20.58725 |      0.0000 |      0.0000 | 8.626810e-01 |     22.31304 |     72.63843 | ⋯ |    291.1730 |    119.0006 | 7.436021e-01 |      0.0000 |      0.0000 |     15.93382 | 9.990722e+00 | 1.596587e+00 | 1.601576e+00 |     11.66308 |\n",
       "| ENSG00000204435 |    443.5711 | 6.298441e+02 |    365.6288 | 5.028411e+02 |    761.72821 |    750.0891 |    391.1821 | 3.951079e+02 |    630.01518 |    513.00890 | ⋯ |    400.1084 |    377.4856 | 4.052631e+02 |    411.1069 |    496.5480 |    720.69899 | 4.332340e+02 | 4.334733e+02 | 4.051986e+02 |    498.59651 |\n",
       "| ENSG00000231074 |    563.8920 | 3.958082e+02 |    333.5390 | 2.099016e+02 |    391.15773 |    247.7670 |    367.2712 | 4.244390e+02 |    259.88126 |    356.38229 | ⋯ |    303.3900 |    306.2803 | 4.141864e+02 |    339.7924 |    377.9694 |    365.25221 | 5.440402e+02 | 4.741862e+02 | 4.692617e+02 |    462.63536 |\n",
       "| ENSG00000206337 |   5841.8496 | 2.829782e+03 |   3403.4593 | 6.222082e+03 |   2782.70981 |   3432.5345 |   3703.3182 | 3.774229e+03 |   4601.73588 |   4175.57462 | ⋯ |   3892.1482 |   3690.9701 | 2.303679e+03 |   3106.7933 |   5646.2487 |   4740.92466 | 6.156101e+03 | 3.636226e+03 | 3.715655e+03 |   2650.43407 |\n",
       "| ENSG00000206503 |  88215.8792 | 1.038652e+05 |  64689.0643 | 1.516400e+05 | 142363.11360 | 105755.7767 |  52786.6309 | 7.223745e+04 | 143009.50844 | 151111.76418 | ⋯ |  87412.9849 |  76183.8080 | 6.203129e+04 |  63049.5299 | 138010.7082 | 113256.37569 | 6.991235e+04 | 7.831737e+04 | 7.287009e+04 |  75416.36650 |\n",
       "| ENSG00000234745 | 216755.4258 | 2.057644e+05 | 144883.3166 | 2.391505e+05 | 206798.91517 | 257246.6249 | 119071.4358 | 1.624385e+05 | 358410.38621 | 244326.16156 | ⋯ | 142428.3922 | 126543.5057 | 9.380243e+04 | 143722.9593 | 255535.8986 | 349135.76259 | 2.089705e+05 | 1.341755e+05 | 1.247355e+05 | 120012.08221 |\n",
       "\n"
      ],
      "text/plain": [
       "                UK02270173_3 UK15130120_3 UK58000006_3 UK47010004_3\n",
       "ENSG00000285647      0.0000  8.211788e-01      0.0000  1.153305e+00\n",
       "ENSG00000204435    443.5711  6.298441e+02    365.6288  5.028411e+02\n",
       "ENSG00000231074    563.8920  3.958082e+02    333.5390  2.099016e+02\n",
       "ENSG00000206337   5841.8496  2.829782e+03   3403.4593  6.222082e+03\n",
       "ENSG00000206503  88215.8792  1.038652e+05  64689.0643  1.516400e+05\n",
       "ENSG00000234745 216755.4258  2.057644e+05 144883.3166  2.391505e+05\n",
       "                UK42020088_5 UK47490007_3 UK02770164_3 UK02770164_5\n",
       "ENSG00000285647     20.58725      0.0000       0.0000  8.626810e-01\n",
       "ENSG00000204435    761.72821    750.0891     391.1821  3.951079e+02\n",
       "ENSG00000231074    391.15773    247.7670     367.2712  4.244390e+02\n",
       "ENSG00000206337   2782.70981   3432.5345    3703.3182  3.774229e+03\n",
       "ENSG00000206503 142363.11360 105755.7767   52786.6309  7.223745e+04\n",
       "ENSG00000234745 206798.91517 257246.6249  119071.4358  1.624385e+05\n",
       "                UK02630151_3 UK42150107_1 ⋯ UK59070043_3 UK59070043_5\n",
       "ENSG00000285647     22.31304     72.63843 ⋯    291.1730     119.0006 \n",
       "ENSG00000204435    630.01518    513.00890 ⋯    400.1084     377.4856 \n",
       "ENSG00000231074    259.88126    356.38229 ⋯    303.3900     306.2803 \n",
       "ENSG00000206337   4601.73588   4175.57462 ⋯   3892.1482    3690.9701 \n",
       "ENSG00000206503 143009.50844 151111.76418 ⋯  87412.9849   76183.8080 \n",
       "ENSG00000234745 358410.38621 244326.16156 ⋯ 142428.3922  126543.5057 \n",
       "                UK02510223_3 UK02XX0336_5 UK29090086_3 UK02XX0335_1\n",
       "ENSG00000285647 7.436021e-01      0.0000       0.0000      15.93382\n",
       "ENSG00000204435 4.052631e+02    411.1069     496.5480     720.69899\n",
       "ENSG00000231074 4.141864e+02    339.7924     377.9694     365.25221\n",
       "ENSG00000206337 2.303679e+03   3106.7933    5646.2487    4740.92466\n",
       "ENSG00000206503 6.203129e+04  63049.5299  138010.7082  113256.37569\n",
       "ENSG00000234745 9.380243e+04 143722.9593  255535.8986  349135.76259\n",
       "                UK02XX0334_3 UK01210130_3 UK01210130_5 UK01380125_1\n",
       "ENSG00000285647 9.990722e+00 1.596587e+00 1.601576e+00     11.66308\n",
       "ENSG00000204435 4.332340e+02 4.334733e+02 4.051986e+02    498.59651\n",
       "ENSG00000231074 5.440402e+02 4.741862e+02 4.692617e+02    462.63536\n",
       "ENSG00000206337 6.156101e+03 3.636226e+03 3.715655e+03   2650.43407\n",
       "ENSG00000206503 6.991235e+04 7.831737e+04 7.287009e+04  75416.36650\n",
       "ENSG00000234745 2.089705e+05 1.341755e+05 1.247355e+05 120012.08221"
      ]
     },
     "metadata": {},
     "output_type": "display_data"
    }
   ],
   "source": [
    "head(normalized.counts.filtered)"
   ]
  },
  {
   "cell_type": "markdown",
   "id": "cc9b6612-e2f9-4151-9651-f4a8d5659fbd",
   "metadata": {},
   "source": [
    "## Gene Expression Correction\n",
    "\n",
    "Gene expression data may contain counfounding technical variation that can lead to spurious associations between genes. This is based on an analysis conducted by Parsana *et al.* [here](https://doi.org/10.1186/s13059-019-1700-9). This can be corrected using their method implemented in the `sva` package."
   ]
  },
  {
   "cell_type": "code",
   "execution_count": 21,
   "id": "25d054eb-afd5-401d-a0b8-ab35f0397a78",
   "metadata": {},
   "outputs": [],
   "source": [
    "mod <- matrix(1, nrow=dim(normalized.counts.filtered)[1], ncol=1)\n",
    "colnames(mod) <- \"Intercept\"\n",
    "\n",
    "nsv <- num.sv(t(normalized.counts.filtered), mod, method=\"be\")"
   ]
  },
  {
   "cell_type": "code",
   "execution_count": 22,
   "id": "d3c05f5e-9e30-43b0-bd17-b973e5caa5a7",
   "metadata": {},
   "outputs": [],
   "source": [
    "normalized.counts.corrected <- sva_network(normalized.counts.filtered, nsv)"
   ]
  },
  {
   "cell_type": "markdown",
   "id": "1bfb47ed-5660-43a5-aae2-93f635bb9c5b",
   "metadata": {},
   "source": [
    "## Data Transformation\n",
    "\n",
    "The authors recommend using an $\\text{asinh}(x)$ transformation rather than a pure log transformation to avoid the use of pseudocounts to bias low counts."
   ]
  },
  {
   "cell_type": "code",
   "execution_count": 23,
   "id": "35a89dac-bde9-4d08-b876-6ff0c3772e29",
   "metadata": {},
   "outputs": [],
   "source": [
    "gene.exp <- apply(normalized.counts.filtered, 1, asinh)"
   ]
  },
  {
   "cell_type": "code",
   "execution_count": 24,
   "id": "8e3c4435-19fb-4238-995b-9408628adab9",
   "metadata": {},
   "outputs": [
    {
     "data": {
      "text/html": [
       "<table class=\"dataframe\">\n",
       "<caption>A matrix: 6 × 18681 of type dbl</caption>\n",
       "<thead>\n",
       "\t<tr><th></th><th scope=col>ENSG00000285647</th><th scope=col>ENSG00000204435</th><th scope=col>ENSG00000231074</th><th scope=col>ENSG00000206337</th><th scope=col>ENSG00000206503</th><th scope=col>ENSG00000234745</th><th scope=col>ENSG00000204525</th><th scope=col>ENSG00000204257</th><th scope=col>ENSG00000242574</th><th scope=col>ENSG00000204252</th><th scope=col>⋯</th><th scope=col>ENSG00000288156</th><th scope=col>ENSG00000288234</th><th scope=col>ENSG00000288253</th><th scope=col>ENSG00000288302</th><th scope=col>ENSG00000288398</th><th scope=col>ENSG00000288538</th><th scope=col>ENSG00000288559</th><th scope=col>ENSG00000288562</th><th scope=col>ENSG00000288573</th><th scope=col>ENSG00000288582</th></tr>\n",
       "</thead>\n",
       "<tbody>\n",
       "\t<tr><th scope=row>UK02270173_3</th><td>0.0000000</td><td>6.788007</td><td>7.028011</td><td>9.365950</td><td>12.08069</td><td>12.97967</td><td>12.76857</td><td>7.435596</td><td>7.572960</td><td>6.710155</td><td>⋯</td><td>8.020318</td><td>0.807318</td><td>3.476797</td><td>4.679900</td><td>4.477419</td><td>4.477419</td><td>4.223271</td><td>4.1120985</td><td>2.891141</td><td>6.094863</td></tr>\n",
       "\t<tr><th scope=row>UK15130120_3</th><td>0.7491208</td><td>7.138620</td><td>6.674078</td><td>8.641102</td><td>12.24400</td><td>12.92763</td><td>12.52339</td><td>7.913713</td><td>7.729588</td><td>6.423061</td><td>⋯</td><td>8.381838</td><td>2.581317</td><td>3.387647</td><td>5.091290</td><td>5.205693</td><td>3.674830</td><td>4.133976</td><td>1.2712212</td><td>2.449524</td><td>6.451973</td></tr>\n",
       "\t<tr><th scope=row>UK58000006_3</th><td>0.0000000</td><td>6.594768</td><td>6.502909</td><td>8.825695</td><td>11.77049</td><td>12.57683</td><td>12.34686</td><td>7.289242</td><td>7.560860</td><td>5.689069</td><td>⋯</td><td>8.214786</td><td>1.791949</td><td>2.616439</td><td>4.725698</td><td>4.493943</td><td>4.672597</td><td>4.131171</td><td>2.6164391</td><td>1.791949</td><td>6.811507</td></tr>\n",
       "\t<tr><th scope=row>UK47010004_3</th><td>0.9857332</td><td>6.913422</td><td>6.039791</td><td>9.429007</td><td>12.62241</td><td>13.07800</td><td>12.89998</td><td>7.024044</td><td>6.466993</td><td>4.391281</td><td>⋯</td><td>8.534262</td><td>2.233619</td><td>2.632719</td><td>4.014159</td><td>4.269962</td><td>5.025477</td><td>3.726730</td><td>2.4526518</td><td>1.572911</td><td>5.710987</td></tr>\n",
       "\t<tr><th scope=row>UK42020088_5</th><td>3.7184084</td><td>7.328737</td><td>6.662260</td><td>8.624328</td><td>12.55928</td><td>12.93265</td><td>12.81569</td><td>7.295147</td><td>6.225614</td><td>5.509595</td><td>⋯</td><td>8.617316</td><td>2.225478</td><td>1.565272</td><td>4.516446</td><td>4.353973</td><td>5.391816</td><td>3.963303</td><td>0.9794495</td><td>2.444444</td><td>5.717807</td></tr>\n",
       "\t<tr><th scope=row>UK47490007_3</th><td>0.0000000</td><td>7.313340</td><td>6.205640</td><td>8.834201</td><td>12.26203</td><td>13.15094</td><td>12.84701</td><td>8.203035</td><td>7.580449</td><td>5.758217</td><td>⋯</td><td>9.052455</td><td>3.650453</td><td>3.302824</td><td>5.270938</td><td>4.454286</td><td>3.812784</td><td>3.525481</td><td>4.2179785</td><td>1.555309</td><td>6.751460</td></tr>\n",
       "</tbody>\n",
       "</table>\n"
      ],
      "text/latex": [
       "A matrix: 6 × 18681 of type dbl\n",
       "\\begin{tabular}{r|lllllllllllllllllllll}\n",
       "  & ENSG00000285647 & ENSG00000204435 & ENSG00000231074 & ENSG00000206337 & ENSG00000206503 & ENSG00000234745 & ENSG00000204525 & ENSG00000204257 & ENSG00000242574 & ENSG00000204252 & ⋯ & ENSG00000288156 & ENSG00000288234 & ENSG00000288253 & ENSG00000288302 & ENSG00000288398 & ENSG00000288538 & ENSG00000288559 & ENSG00000288562 & ENSG00000288573 & ENSG00000288582\\\\\n",
       "\\hline\n",
       "\tUK02270173\\_3 & 0.0000000 & 6.788007 & 7.028011 & 9.365950 & 12.08069 & 12.97967 & 12.76857 & 7.435596 & 7.572960 & 6.710155 & ⋯ & 8.020318 & 0.807318 & 3.476797 & 4.679900 & 4.477419 & 4.477419 & 4.223271 & 4.1120985 & 2.891141 & 6.094863\\\\\n",
       "\tUK15130120\\_3 & 0.7491208 & 7.138620 & 6.674078 & 8.641102 & 12.24400 & 12.92763 & 12.52339 & 7.913713 & 7.729588 & 6.423061 & ⋯ & 8.381838 & 2.581317 & 3.387647 & 5.091290 & 5.205693 & 3.674830 & 4.133976 & 1.2712212 & 2.449524 & 6.451973\\\\\n",
       "\tUK58000006\\_3 & 0.0000000 & 6.594768 & 6.502909 & 8.825695 & 11.77049 & 12.57683 & 12.34686 & 7.289242 & 7.560860 & 5.689069 & ⋯ & 8.214786 & 1.791949 & 2.616439 & 4.725698 & 4.493943 & 4.672597 & 4.131171 & 2.6164391 & 1.791949 & 6.811507\\\\\n",
       "\tUK47010004\\_3 & 0.9857332 & 6.913422 & 6.039791 & 9.429007 & 12.62241 & 13.07800 & 12.89998 & 7.024044 & 6.466993 & 4.391281 & ⋯ & 8.534262 & 2.233619 & 2.632719 & 4.014159 & 4.269962 & 5.025477 & 3.726730 & 2.4526518 & 1.572911 & 5.710987\\\\\n",
       "\tUK42020088\\_5 & 3.7184084 & 7.328737 & 6.662260 & 8.624328 & 12.55928 & 12.93265 & 12.81569 & 7.295147 & 6.225614 & 5.509595 & ⋯ & 8.617316 & 2.225478 & 1.565272 & 4.516446 & 4.353973 & 5.391816 & 3.963303 & 0.9794495 & 2.444444 & 5.717807\\\\\n",
       "\tUK47490007\\_3 & 0.0000000 & 7.313340 & 6.205640 & 8.834201 & 12.26203 & 13.15094 & 12.84701 & 8.203035 & 7.580449 & 5.758217 & ⋯ & 9.052455 & 3.650453 & 3.302824 & 5.270938 & 4.454286 & 3.812784 & 3.525481 & 4.2179785 & 1.555309 & 6.751460\\\\\n",
       "\\end{tabular}\n"
      ],
      "text/markdown": [
       "\n",
       "A matrix: 6 × 18681 of type dbl\n",
       "\n",
       "| <!--/--> | ENSG00000285647 | ENSG00000204435 | ENSG00000231074 | ENSG00000206337 | ENSG00000206503 | ENSG00000234745 | ENSG00000204525 | ENSG00000204257 | ENSG00000242574 | ENSG00000204252 | ⋯ | ENSG00000288156 | ENSG00000288234 | ENSG00000288253 | ENSG00000288302 | ENSG00000288398 | ENSG00000288538 | ENSG00000288559 | ENSG00000288562 | ENSG00000288573 | ENSG00000288582 |\n",
       "|---|---|---|---|---|---|---|---|---|---|---|---|---|---|---|---|---|---|---|---|---|---|\n",
       "| UK02270173_3 | 0.0000000 | 6.788007 | 7.028011 | 9.365950 | 12.08069 | 12.97967 | 12.76857 | 7.435596 | 7.572960 | 6.710155 | ⋯ | 8.020318 | 0.807318 | 3.476797 | 4.679900 | 4.477419 | 4.477419 | 4.223271 | 4.1120985 | 2.891141 | 6.094863 |\n",
       "| UK15130120_3 | 0.7491208 | 7.138620 | 6.674078 | 8.641102 | 12.24400 | 12.92763 | 12.52339 | 7.913713 | 7.729588 | 6.423061 | ⋯ | 8.381838 | 2.581317 | 3.387647 | 5.091290 | 5.205693 | 3.674830 | 4.133976 | 1.2712212 | 2.449524 | 6.451973 |\n",
       "| UK58000006_3 | 0.0000000 | 6.594768 | 6.502909 | 8.825695 | 11.77049 | 12.57683 | 12.34686 | 7.289242 | 7.560860 | 5.689069 | ⋯ | 8.214786 | 1.791949 | 2.616439 | 4.725698 | 4.493943 | 4.672597 | 4.131171 | 2.6164391 | 1.791949 | 6.811507 |\n",
       "| UK47010004_3 | 0.9857332 | 6.913422 | 6.039791 | 9.429007 | 12.62241 | 13.07800 | 12.89998 | 7.024044 | 6.466993 | 4.391281 | ⋯ | 8.534262 | 2.233619 | 2.632719 | 4.014159 | 4.269962 | 5.025477 | 3.726730 | 2.4526518 | 1.572911 | 5.710987 |\n",
       "| UK42020088_5 | 3.7184084 | 7.328737 | 6.662260 | 8.624328 | 12.55928 | 12.93265 | 12.81569 | 7.295147 | 6.225614 | 5.509595 | ⋯ | 8.617316 | 2.225478 | 1.565272 | 4.516446 | 4.353973 | 5.391816 | 3.963303 | 0.9794495 | 2.444444 | 5.717807 |\n",
       "| UK47490007_3 | 0.0000000 | 7.313340 | 6.205640 | 8.834201 | 12.26203 | 13.15094 | 12.84701 | 8.203035 | 7.580449 | 5.758217 | ⋯ | 9.052455 | 3.650453 | 3.302824 | 5.270938 | 4.454286 | 3.812784 | 3.525481 | 4.2179785 | 1.555309 | 6.751460 |\n",
       "\n"
      ],
      "text/plain": [
       "             ENSG00000285647 ENSG00000204435 ENSG00000231074 ENSG00000206337\n",
       "UK02270173_3 0.0000000       6.788007        7.028011        9.365950       \n",
       "UK15130120_3 0.7491208       7.138620        6.674078        8.641102       \n",
       "UK58000006_3 0.0000000       6.594768        6.502909        8.825695       \n",
       "UK47010004_3 0.9857332       6.913422        6.039791        9.429007       \n",
       "UK42020088_5 3.7184084       7.328737        6.662260        8.624328       \n",
       "UK47490007_3 0.0000000       7.313340        6.205640        8.834201       \n",
       "             ENSG00000206503 ENSG00000234745 ENSG00000204525 ENSG00000204257\n",
       "UK02270173_3 12.08069        12.97967        12.76857        7.435596       \n",
       "UK15130120_3 12.24400        12.92763        12.52339        7.913713       \n",
       "UK58000006_3 11.77049        12.57683        12.34686        7.289242       \n",
       "UK47010004_3 12.62241        13.07800        12.89998        7.024044       \n",
       "UK42020088_5 12.55928        12.93265        12.81569        7.295147       \n",
       "UK47490007_3 12.26203        13.15094        12.84701        8.203035       \n",
       "             ENSG00000242574 ENSG00000204252 ⋯ ENSG00000288156 ENSG00000288234\n",
       "UK02270173_3 7.572960        6.710155        ⋯ 8.020318        0.807318       \n",
       "UK15130120_3 7.729588        6.423061        ⋯ 8.381838        2.581317       \n",
       "UK58000006_3 7.560860        5.689069        ⋯ 8.214786        1.791949       \n",
       "UK47010004_3 6.466993        4.391281        ⋯ 8.534262        2.233619       \n",
       "UK42020088_5 6.225614        5.509595        ⋯ 8.617316        2.225478       \n",
       "UK47490007_3 7.580449        5.758217        ⋯ 9.052455        3.650453       \n",
       "             ENSG00000288253 ENSG00000288302 ENSG00000288398 ENSG00000288538\n",
       "UK02270173_3 3.476797        4.679900        4.477419        4.477419       \n",
       "UK15130120_3 3.387647        5.091290        5.205693        3.674830       \n",
       "UK58000006_3 2.616439        4.725698        4.493943        4.672597       \n",
       "UK47010004_3 2.632719        4.014159        4.269962        5.025477       \n",
       "UK42020088_5 1.565272        4.516446        4.353973        5.391816       \n",
       "UK47490007_3 3.302824        5.270938        4.454286        3.812784       \n",
       "             ENSG00000288559 ENSG00000288562 ENSG00000288573 ENSG00000288582\n",
       "UK02270173_3 4.223271        4.1120985       2.891141        6.094863       \n",
       "UK15130120_3 4.133976        1.2712212       2.449524        6.451973       \n",
       "UK58000006_3 4.131171        2.6164391       1.791949        6.811507       \n",
       "UK47010004_3 3.726730        2.4526518       1.572911        5.710987       \n",
       "UK42020088_5 3.963303        0.9794495       2.444444        5.717807       \n",
       "UK47490007_3 3.525481        4.2179785       1.555309        6.751460       "
      ]
     },
     "metadata": {},
     "output_type": "display_data"
    }
   ],
   "source": [
    "head(gene.exp)"
   ]
  },
  {
   "cell_type": "markdown",
   "id": "68bc7ac5-d0bf-401f-b53d-60bbd6e1c494",
   "metadata": {
    "tags": []
   },
   "source": [
    "## Between-Individual Gene Expression\n",
    "\n",
    "Gene expression has been measured both within and between individuals. In this co-expression analysis, we are specifically interested in between-individual variation. I will use weighted correlation by using the mean gene expression value for a sample from each individual."
   ]
  },
  {
   "cell_type": "code",
   "execution_count": 25,
   "id": "e8981c4b-32fb-447f-b760-3a96463bfcf4",
   "metadata": {},
   "outputs": [],
   "source": [
    "individuals <- unique(gsub(\"_.$\", \"\", rownames(gene.exp)))"
   ]
  },
  {
   "cell_type": "code",
   "execution_count": 26,
   "id": "b2743fe9-4973-4a9c-b8ce-9ee08ee5fff6",
   "metadata": {
    "tags": []
   },
   "outputs": [],
   "source": [
    "for (individual in individuals) {\n",
    "    mask = grepl(individual, rownames(gene.exp))\n",
    "    gene.exp[mask,] = do.call(rbind, rep(list(apply(gene.exp[mask,,drop=F], 2, mean)), sum(mask)))\n",
    "}"
   ]
  },
  {
   "cell_type": "markdown",
   "id": "e2422632-ce0e-45d1-ae30-470047cf2075",
   "metadata": {},
   "source": [
    "## Network Construction\n",
    "\n",
    "I will use Pearson's $R$ as a measure of similarity between any two genes."
   ]
  },
  {
   "cell_type": "code",
   "execution_count": 31,
   "id": "c9a3304d-48a1-439a-b752-60a4cfc23aac",
   "metadata": {},
   "outputs": [],
   "source": [
    "adjacency <- Rfast::cora(gene.exp)"
   ]
  },
  {
   "cell_type": "code",
   "execution_count": 32,
   "id": "d026445a-50f4-41e0-8eae-9c0e94044e56",
   "metadata": {
    "tags": []
   },
   "outputs": [
    {
     "data": {
      "text/html": [
       "<table class=\"dataframe\">\n",
       "<caption>A matrix: 6 × 18681 of type dbl</caption>\n",
       "<thead>\n",
       "\t<tr><th></th><th scope=col>ENSG00000285647</th><th scope=col>ENSG00000204435</th><th scope=col>ENSG00000231074</th><th scope=col>ENSG00000206337</th><th scope=col>ENSG00000206503</th><th scope=col>ENSG00000234745</th><th scope=col>ENSG00000204525</th><th scope=col>ENSG00000204257</th><th scope=col>ENSG00000242574</th><th scope=col>ENSG00000204252</th><th scope=col>⋯</th><th scope=col>ENSG00000288156</th><th scope=col>ENSG00000288234</th><th scope=col>ENSG00000288253</th><th scope=col>ENSG00000288302</th><th scope=col>ENSG00000288398</th><th scope=col>ENSG00000288538</th><th scope=col>ENSG00000288559</th><th scope=col>ENSG00000288562</th><th scope=col>ENSG00000288573</th><th scope=col>ENSG00000288582</th></tr>\n",
       "</thead>\n",
       "<tbody>\n",
       "\t<tr><th scope=row>ENSG00000285647</th><td> 1.0000000000</td><td>0.07375984</td><td>-0.0007142968</td><td>0.24602691</td><td> 0.26343730</td><td> 0.24534395</td><td> 0.3353566</td><td>0.02984013</td><td>0.05429934</td><td>-0.04606472</td><td>⋯</td><td> 0.081923710</td><td> 0.06291548</td><td>-0.05697446</td><td> 0.03028207</td><td>0.02242129</td><td> 0.0741628132</td><td> 0.056742548</td><td> 0.05227520</td><td> 0.02886762</td><td> 0.14116615</td></tr>\n",
       "\t<tr><th scope=row>ENSG00000204435</th><td> 0.0737598443</td><td>1.00000000</td><td> 0.0656148821</td><td>0.08731347</td><td> 0.53300116</td><td> 0.58789654</td><td> 0.5369056</td><td>0.21444097</td><td>0.06106533</td><td>-0.05120514</td><td>⋯</td><td> 0.661923057</td><td> 0.25918230</td><td>-0.32112199</td><td> 0.67192360</td><td>0.07764811</td><td> 0.1941946070</td><td>-0.116298780</td><td>-0.11318983</td><td>-0.06946496</td><td> 0.24752786</td></tr>\n",
       "\t<tr><th scope=row>ENSG00000231074</th><td>-0.0007142968</td><td>0.06561488</td><td> 1.0000000000</td><td>0.29940655</td><td>-0.02225286</td><td>-0.06320955</td><td>-0.1248303</td><td>0.46959539</td><td>0.51607772</td><td> 0.61060652</td><td>⋯</td><td>-0.314704654</td><td>-0.12144554</td><td> 0.32675921</td><td>-0.17850642</td><td>0.67373820</td><td>-0.0002064084</td><td> 0.396011284</td><td>-0.15068452</td><td> 0.46795422</td><td>-0.07722482</td></tr>\n",
       "\t<tr><th scope=row>ENSG00000206337</th><td> 0.2460269061</td><td>0.08731347</td><td> 0.2994065517</td><td>1.00000000</td><td> 0.66267520</td><td> 0.64743584</td><td> 0.5739809</td><td>0.34017882</td><td>0.41935295</td><td> 0.23832741</td><td>⋯</td><td>-0.007597279</td><td> 0.05378808</td><td> 0.09749901</td><td>-0.02864241</td><td>0.31577248</td><td> 0.1194057705</td><td> 0.389361541</td><td> 0.08871836</td><td> 0.11985200</td><td> 0.31454218</td></tr>\n",
       "\t<tr><th scope=row>ENSG00000206503</th><td> 0.2634373018</td><td>0.53300116</td><td>-0.0222528556</td><td>0.66267520</td><td> 1.00000000</td><td> 0.85114228</td><td> 0.7959411</td><td>0.28008405</td><td>0.23208660</td><td>-0.02620042</td><td>⋯</td><td> 0.400771902</td><td> 0.12308407</td><td>-0.15477560</td><td> 0.38603069</td><td>0.13048167</td><td> 0.1023210928</td><td>-0.006027816</td><td> 0.10599609</td><td>-0.05587437</td><td> 0.38294566</td></tr>\n",
       "\t<tr><th scope=row>ENSG00000234745</th><td> 0.2453439518</td><td>0.58789654</td><td>-0.0632095511</td><td>0.64743584</td><td> 0.85114228</td><td> 1.00000000</td><td> 0.9221333</td><td>0.24372589</td><td>0.19609825</td><td>-0.03630469</td><td>⋯</td><td> 0.514510321</td><td> 0.21276847</td><td>-0.20279807</td><td> 0.44700490</td><td>0.08446545</td><td> 0.2087925384</td><td> 0.078269194</td><td> 0.08147837</td><td>-0.12873998</td><td> 0.40262159</td></tr>\n",
       "</tbody>\n",
       "</table>\n"
      ],
      "text/latex": [
       "A matrix: 6 × 18681 of type dbl\n",
       "\\begin{tabular}{r|lllllllllllllllllllll}\n",
       "  & ENSG00000285647 & ENSG00000204435 & ENSG00000231074 & ENSG00000206337 & ENSG00000206503 & ENSG00000234745 & ENSG00000204525 & ENSG00000204257 & ENSG00000242574 & ENSG00000204252 & ⋯ & ENSG00000288156 & ENSG00000288234 & ENSG00000288253 & ENSG00000288302 & ENSG00000288398 & ENSG00000288538 & ENSG00000288559 & ENSG00000288562 & ENSG00000288573 & ENSG00000288582\\\\\n",
       "\\hline\n",
       "\tENSG00000285647 &  1.0000000000 & 0.07375984 & -0.0007142968 & 0.24602691 &  0.26343730 &  0.24534395 &  0.3353566 & 0.02984013 & 0.05429934 & -0.04606472 & ⋯ &  0.081923710 &  0.06291548 & -0.05697446 &  0.03028207 & 0.02242129 &  0.0741628132 &  0.056742548 &  0.05227520 &  0.02886762 &  0.14116615\\\\\n",
       "\tENSG00000204435 &  0.0737598443 & 1.00000000 &  0.0656148821 & 0.08731347 &  0.53300116 &  0.58789654 &  0.5369056 & 0.21444097 & 0.06106533 & -0.05120514 & ⋯ &  0.661923057 &  0.25918230 & -0.32112199 &  0.67192360 & 0.07764811 &  0.1941946070 & -0.116298780 & -0.11318983 & -0.06946496 &  0.24752786\\\\\n",
       "\tENSG00000231074 & -0.0007142968 & 0.06561488 &  1.0000000000 & 0.29940655 & -0.02225286 & -0.06320955 & -0.1248303 & 0.46959539 & 0.51607772 &  0.61060652 & ⋯ & -0.314704654 & -0.12144554 &  0.32675921 & -0.17850642 & 0.67373820 & -0.0002064084 &  0.396011284 & -0.15068452 &  0.46795422 & -0.07722482\\\\\n",
       "\tENSG00000206337 &  0.2460269061 & 0.08731347 &  0.2994065517 & 1.00000000 &  0.66267520 &  0.64743584 &  0.5739809 & 0.34017882 & 0.41935295 &  0.23832741 & ⋯ & -0.007597279 &  0.05378808 &  0.09749901 & -0.02864241 & 0.31577248 &  0.1194057705 &  0.389361541 &  0.08871836 &  0.11985200 &  0.31454218\\\\\n",
       "\tENSG00000206503 &  0.2634373018 & 0.53300116 & -0.0222528556 & 0.66267520 &  1.00000000 &  0.85114228 &  0.7959411 & 0.28008405 & 0.23208660 & -0.02620042 & ⋯ &  0.400771902 &  0.12308407 & -0.15477560 &  0.38603069 & 0.13048167 &  0.1023210928 & -0.006027816 &  0.10599609 & -0.05587437 &  0.38294566\\\\\n",
       "\tENSG00000234745 &  0.2453439518 & 0.58789654 & -0.0632095511 & 0.64743584 &  0.85114228 &  1.00000000 &  0.9221333 & 0.24372589 & 0.19609825 & -0.03630469 & ⋯ &  0.514510321 &  0.21276847 & -0.20279807 &  0.44700490 & 0.08446545 &  0.2087925384 &  0.078269194 &  0.08147837 & -0.12873998 &  0.40262159\\\\\n",
       "\\end{tabular}\n"
      ],
      "text/markdown": [
       "\n",
       "A matrix: 6 × 18681 of type dbl\n",
       "\n",
       "| <!--/--> | ENSG00000285647 | ENSG00000204435 | ENSG00000231074 | ENSG00000206337 | ENSG00000206503 | ENSG00000234745 | ENSG00000204525 | ENSG00000204257 | ENSG00000242574 | ENSG00000204252 | ⋯ | ENSG00000288156 | ENSG00000288234 | ENSG00000288253 | ENSG00000288302 | ENSG00000288398 | ENSG00000288538 | ENSG00000288559 | ENSG00000288562 | ENSG00000288573 | ENSG00000288582 |\n",
       "|---|---|---|---|---|---|---|---|---|---|---|---|---|---|---|---|---|---|---|---|---|---|\n",
       "| ENSG00000285647 |  1.0000000000 | 0.07375984 | -0.0007142968 | 0.24602691 |  0.26343730 |  0.24534395 |  0.3353566 | 0.02984013 | 0.05429934 | -0.04606472 | ⋯ |  0.081923710 |  0.06291548 | -0.05697446 |  0.03028207 | 0.02242129 |  0.0741628132 |  0.056742548 |  0.05227520 |  0.02886762 |  0.14116615 |\n",
       "| ENSG00000204435 |  0.0737598443 | 1.00000000 |  0.0656148821 | 0.08731347 |  0.53300116 |  0.58789654 |  0.5369056 | 0.21444097 | 0.06106533 | -0.05120514 | ⋯ |  0.661923057 |  0.25918230 | -0.32112199 |  0.67192360 | 0.07764811 |  0.1941946070 | -0.116298780 | -0.11318983 | -0.06946496 |  0.24752786 |\n",
       "| ENSG00000231074 | -0.0007142968 | 0.06561488 |  1.0000000000 | 0.29940655 | -0.02225286 | -0.06320955 | -0.1248303 | 0.46959539 | 0.51607772 |  0.61060652 | ⋯ | -0.314704654 | -0.12144554 |  0.32675921 | -0.17850642 | 0.67373820 | -0.0002064084 |  0.396011284 | -0.15068452 |  0.46795422 | -0.07722482 |\n",
       "| ENSG00000206337 |  0.2460269061 | 0.08731347 |  0.2994065517 | 1.00000000 |  0.66267520 |  0.64743584 |  0.5739809 | 0.34017882 | 0.41935295 |  0.23832741 | ⋯ | -0.007597279 |  0.05378808 |  0.09749901 | -0.02864241 | 0.31577248 |  0.1194057705 |  0.389361541 |  0.08871836 |  0.11985200 |  0.31454218 |\n",
       "| ENSG00000206503 |  0.2634373018 | 0.53300116 | -0.0222528556 | 0.66267520 |  1.00000000 |  0.85114228 |  0.7959411 | 0.28008405 | 0.23208660 | -0.02620042 | ⋯ |  0.400771902 |  0.12308407 | -0.15477560 |  0.38603069 | 0.13048167 |  0.1023210928 | -0.006027816 |  0.10599609 | -0.05587437 |  0.38294566 |\n",
       "| ENSG00000234745 |  0.2453439518 | 0.58789654 | -0.0632095511 | 0.64743584 |  0.85114228 |  1.00000000 |  0.9221333 | 0.24372589 | 0.19609825 | -0.03630469 | ⋯ |  0.514510321 |  0.21276847 | -0.20279807 |  0.44700490 | 0.08446545 |  0.2087925384 |  0.078269194 |  0.08147837 | -0.12873998 |  0.40262159 |\n",
       "\n"
      ],
      "text/plain": [
       "                ENSG00000285647 ENSG00000204435 ENSG00000231074 ENSG00000206337\n",
       "ENSG00000285647  1.0000000000   0.07375984      -0.0007142968   0.24602691     \n",
       "ENSG00000204435  0.0737598443   1.00000000       0.0656148821   0.08731347     \n",
       "ENSG00000231074 -0.0007142968   0.06561488       1.0000000000   0.29940655     \n",
       "ENSG00000206337  0.2460269061   0.08731347       0.2994065517   1.00000000     \n",
       "ENSG00000206503  0.2634373018   0.53300116      -0.0222528556   0.66267520     \n",
       "ENSG00000234745  0.2453439518   0.58789654      -0.0632095511   0.64743584     \n",
       "                ENSG00000206503 ENSG00000234745 ENSG00000204525 ENSG00000204257\n",
       "ENSG00000285647  0.26343730      0.24534395      0.3353566      0.02984013     \n",
       "ENSG00000204435  0.53300116      0.58789654      0.5369056      0.21444097     \n",
       "ENSG00000231074 -0.02225286     -0.06320955     -0.1248303      0.46959539     \n",
       "ENSG00000206337  0.66267520      0.64743584      0.5739809      0.34017882     \n",
       "ENSG00000206503  1.00000000      0.85114228      0.7959411      0.28008405     \n",
       "ENSG00000234745  0.85114228      1.00000000      0.9221333      0.24372589     \n",
       "                ENSG00000242574 ENSG00000204252 ⋯ ENSG00000288156\n",
       "ENSG00000285647 0.05429934      -0.04606472     ⋯  0.081923710   \n",
       "ENSG00000204435 0.06106533      -0.05120514     ⋯  0.661923057   \n",
       "ENSG00000231074 0.51607772       0.61060652     ⋯ -0.314704654   \n",
       "ENSG00000206337 0.41935295       0.23832741     ⋯ -0.007597279   \n",
       "ENSG00000206503 0.23208660      -0.02620042     ⋯  0.400771902   \n",
       "ENSG00000234745 0.19609825      -0.03630469     ⋯  0.514510321   \n",
       "                ENSG00000288234 ENSG00000288253 ENSG00000288302 ENSG00000288398\n",
       "ENSG00000285647  0.06291548     -0.05697446      0.03028207     0.02242129     \n",
       "ENSG00000204435  0.25918230     -0.32112199      0.67192360     0.07764811     \n",
       "ENSG00000231074 -0.12144554      0.32675921     -0.17850642     0.67373820     \n",
       "ENSG00000206337  0.05378808      0.09749901     -0.02864241     0.31577248     \n",
       "ENSG00000206503  0.12308407     -0.15477560      0.38603069     0.13048167     \n",
       "ENSG00000234745  0.21276847     -0.20279807      0.44700490     0.08446545     \n",
       "                ENSG00000288538 ENSG00000288559 ENSG00000288562 ENSG00000288573\n",
       "ENSG00000285647  0.0741628132    0.056742548     0.05227520      0.02886762    \n",
       "ENSG00000204435  0.1941946070   -0.116298780    -0.11318983     -0.06946496    \n",
       "ENSG00000231074 -0.0002064084    0.396011284    -0.15068452      0.46795422    \n",
       "ENSG00000206337  0.1194057705    0.389361541     0.08871836      0.11985200    \n",
       "ENSG00000206503  0.1023210928   -0.006027816     0.10599609     -0.05587437    \n",
       "ENSG00000234745  0.2087925384    0.078269194     0.08147837     -0.12873998    \n",
       "                ENSG00000288582\n",
       "ENSG00000285647  0.14116615    \n",
       "ENSG00000204435  0.24752786    \n",
       "ENSG00000231074 -0.07722482    \n",
       "ENSG00000206337  0.31454218    \n",
       "ENSG00000206503  0.38294566    \n",
       "ENSG00000234745  0.40262159    "
      ]
     },
     "metadata": {},
     "output_type": "display_data"
    }
   ],
   "source": [
    "head(adjacency)"
   ]
  },
  {
   "cell_type": "markdown",
   "id": "92a7700d-d738-4d9a-a857-f3aa0fb8bf30",
   "metadata": {
    "tags": []
   },
   "source": [
    "## Mean-Correlation Bias\n",
    "\n",
    "There is a mean-correlation bias when building co-expression modules, as discussed by Wang *et al.* [here](https://doi.org/10.1371/journal.pcbi.1009954). This can be corrected using a method they developed."
   ]
  },
  {
   "cell_type": "code",
   "execution_count": 36,
   "id": "b0b4f082-032d-4bfd-8531-463b50c892b7",
   "metadata": {},
   "outputs": [],
   "source": [
    "avg.exp <- apply(gene.exp, 2, mean)"
   ]
  },
  {
   "cell_type": "code",
   "execution_count": 37,
   "id": "d0a6c33f-cf68-4c31-a15b-cc47e486f2df",
   "metadata": {},
   "outputs": [
    {
     "name": "stderr",
     "output_type": "stream",
     "text": [
      "Warning message:\n",
      "“Continuous limits supplied to discrete scale.\n",
      "Did you mean `limits = factor(...)` or `scale_*_continuous()`?”\n",
      "Picking joint bandwidth of 0.00772\n",
      "\n"
     ]
    },
    {
     "data": {
      "image/png": "[encoded data removed]",
      "text/plain": [
       "plot without title"
      ]
     },
     "metadata": {
      "image/png": {
       "height": 420,
       "width": 420
      }
     },
     "output_type": "display_data"
    }
   ],
   "source": [
    "plot_signal_condition_exp(adjacency, avg.exp, signal=0.001)"
   ]
  },
  {
   "cell_type": "code",
   "execution_count": 40,
   "id": "65e5d54c-57a3-4041-a69b-cf2ca76f4af9",
   "metadata": {},
   "outputs": [],
   "source": [
    "adjacency.norm <- normalize_correlation(adjacency, ave_exp=avg.exp, ngrp=20, size_grp=1000, ref_grp=8)"
   ]
  },
  {
   "cell_type": "code",
   "execution_count": 41,
   "id": "ea51b84a-1234-4d0f-a4cd-34eaac290217",
   "metadata": {
    "tags": []
   },
   "outputs": [
    {
     "name": "stderr",
     "output_type": "stream",
     "text": [
      "Warning message:\n",
      "“Continuous limits supplied to discrete scale.\n",
      "Did you mean `limits = factor(...)` or `scale_*_continuous()`?”\n",
      "Picking joint bandwidth of 0.00871\n",
      "\n"
     ]
    },
    {
     "data": {
      "image/png": "[encoded data removed]",
      "text/plain": [
       "plot without title"
      ]
     },
     "metadata": {
      "image/png": {
       "height": 420,
       "width": 420
      }
     },
     "output_type": "display_data"
    }
   ],
   "source": [
    "plot_signal_condition_exp(adjacency.norm, avg.exp, signal=0.001)"
   ]
  },
  {
   "cell_type": "markdown",
   "id": "0b922dc6-15af-4c98-ae02-f01e20066261",
   "metadata": {},
   "source": [
    "## Network Transformation\n",
    "\n",
    "Instead of WTO (which is used in WGCNA), I will use Context Likelihood of Relatedness (CLR) as recommended by Johnson and Krishnan 2022.\n",
    "\n",
    "Although Johnson and Krishnan used an implementation from [Sleipnir](https://functionlab.github.io/sleipnir-docs/index.html), it is a large C++ program that I do not need in its entirety. Instead, I rewrote a C++ version of CLR for myself."
   ]
  },
  {
   "cell_type": "code",
   "execution_count": 42,
   "id": "ffa0cd1d-4648-4fac-8d03-8a5e2cf4a151",
   "metadata": {},
   "outputs": [],
   "source": [
    "network <- clr(abs(adjacency.norm))"
   ]
  },
  {
   "cell_type": "code",
   "execution_count": 43,
   "id": "bceedefe-522d-4a91-aa64-1b3a2f26f726",
   "metadata": {},
   "outputs": [],
   "source": [
    "rownames(network) <- rownames(adjacency)\n",
    "colnames(network) <- colnames(adjacency)"
   ]
  },
  {
   "cell_type": "code",
   "execution_count": 44,
   "id": "737dff14-f89c-4950-bdfe-251257077f03",
   "metadata": {},
   "outputs": [
    {
     "data": {
      "text/html": [
       "<table class=\"dataframe\">\n",
       "<caption>A matrix: 6 × 18681 of type dbl</caption>\n",
       "<thead>\n",
       "\t<tr><th></th><th scope=col>ENSG00000285647</th><th scope=col>ENSG00000204435</th><th scope=col>ENSG00000231074</th><th scope=col>ENSG00000206337</th><th scope=col>ENSG00000206503</th><th scope=col>ENSG00000234745</th><th scope=col>ENSG00000204525</th><th scope=col>ENSG00000204257</th><th scope=col>ENSG00000242574</th><th scope=col>ENSG00000204252</th><th scope=col>⋯</th><th scope=col>ENSG00000288156</th><th scope=col>ENSG00000288234</th><th scope=col>ENSG00000288253</th><th scope=col>ENSG00000288302</th><th scope=col>ENSG00000288398</th><th scope=col>ENSG00000288538</th><th scope=col>ENSG00000288559</th><th scope=col>ENSG00000288562</th><th scope=col>ENSG00000288573</th><th scope=col>ENSG00000288582</th></tr>\n",
       "</thead>\n",
       "<tbody>\n",
       "\t<tr><th scope=row>ENSG00000285647</th><td>10.9000318</td><td>0.3729141</td><td>0.9792448</td><td>3.7016321</td><td> 4.3825868</td><td>3.9104236</td><td>5.1680969</td><td>0.4495094</td><td>0.2898863</td><td>1.7397549</td><td>⋯</td><td>1.0419991</td><td>0.6114170</td><td>1.1181726</td><td>0.7879613</td><td>1.0836743</td><td>0.3277168</td><td>0.8305462</td><td>0.4020441</td><td>0.9393274</td><td>1.4733580</td></tr>\n",
       "\t<tr><th scope=row>ENSG00000204435</th><td> 0.3729141</td><td>8.3265002</td><td>1.3101724</td><td>1.4199331</td><td> 1.7129524</td><td>2.1222697</td><td>1.6760031</td><td>1.4491835</td><td>1.2114696</td><td>0.5732327</td><td>⋯</td><td>2.1778532</td><td>1.3330530</td><td>1.1269846</td><td>4.1026515</td><td>1.2741225</td><td>0.4738586</td><td>1.0502315</td><td>1.0296571</td><td>1.5976494</td><td>0.4724222</td></tr>\n",
       "\t<tr><th scope=row>ENSG00000231074</th><td> 0.9792448</td><td>1.3101724</td><td>6.4256889</td><td>0.4884744</td><td> 1.3035068</td><td>1.0500975</td><td>0.6141062</td><td>0.1538053</td><td>0.5285614</td><td>2.0149455</td><td>⋯</td><td>1.2610615</td><td>1.1356899</td><td>2.1643139</td><td>0.1371844</td><td>3.5201653</td><td>1.5930148</td><td>1.0760480</td><td>0.6307351</td><td>3.4741579</td><td>0.4543633</td></tr>\n",
       "\t<tr><th scope=row>ENSG00000206337</th><td> 3.7016321</td><td>1.4199331</td><td>0.4884744</td><td>9.4044545</td><td> 0.9005129</td><td>0.5992169</td><td>0.1566312</td><td>0.9161303</td><td>0.2283525</td><td>0.1502369</td><td>⋯</td><td>0.1505476</td><td>0.6227213</td><td>0.6977414</td><td>1.7680130</td><td>1.4268188</td><td>0.5944116</td><td>1.9985195</td><td>0.2393041</td><td>1.3007144</td><td>0.9315999</td></tr>\n",
       "\t<tr><th scope=row>ENSG00000206503</th><td> 4.3825868</td><td>1.7129524</td><td>1.3035068</td><td>0.9005129</td><td>10.7917166</td><td>4.1045786</td><td>2.8576795</td><td>1.0119414</td><td>0.9280381</td><td>1.6311731</td><td>⋯</td><td>1.1382894</td><td>0.9650078</td><td>1.5774921</td><td>2.3391661</td><td>0.5960292</td><td>0.4781792</td><td>1.4204280</td><td>0.8408953</td><td>0.7650515</td><td>2.2403784</td></tr>\n",
       "\t<tr><th scope=row>ENSG00000234745</th><td> 3.9104236</td><td>2.1222697</td><td>1.0500975</td><td>0.5992169</td><td> 4.1045786</td><td>9.8123693</td><td>6.2252299</td><td>1.2595667</td><td>1.1753597</td><td>1.6700773</td><td>⋯</td><td>0.4022011</td><td>1.6173627</td><td>1.0871493</td><td>2.7502482</td><td>0.6882708</td><td>0.6456049</td><td>0.9019872</td><td>0.4303269</td><td>1.5282073</td><td>2.3255622</td></tr>\n",
       "</tbody>\n",
       "</table>\n"
      ],
      "text/latex": [
       "A matrix: 6 × 18681 of type dbl\n",
       "\\begin{tabular}{r|lllllllllllllllllllll}\n",
       "  & ENSG00000285647 & ENSG00000204435 & ENSG00000231074 & ENSG00000206337 & ENSG00000206503 & ENSG00000234745 & ENSG00000204525 & ENSG00000204257 & ENSG00000242574 & ENSG00000204252 & ⋯ & ENSG00000288156 & ENSG00000288234 & ENSG00000288253 & ENSG00000288302 & ENSG00000288398 & ENSG00000288538 & ENSG00000288559 & ENSG00000288562 & ENSG00000288573 & ENSG00000288582\\\\\n",
       "\\hline\n",
       "\tENSG00000285647 & 10.9000318 & 0.3729141 & 0.9792448 & 3.7016321 &  4.3825868 & 3.9104236 & 5.1680969 & 0.4495094 & 0.2898863 & 1.7397549 & ⋯ & 1.0419991 & 0.6114170 & 1.1181726 & 0.7879613 & 1.0836743 & 0.3277168 & 0.8305462 & 0.4020441 & 0.9393274 & 1.4733580\\\\\n",
       "\tENSG00000204435 &  0.3729141 & 8.3265002 & 1.3101724 & 1.4199331 &  1.7129524 & 2.1222697 & 1.6760031 & 1.4491835 & 1.2114696 & 0.5732327 & ⋯ & 2.1778532 & 1.3330530 & 1.1269846 & 4.1026515 & 1.2741225 & 0.4738586 & 1.0502315 & 1.0296571 & 1.5976494 & 0.4724222\\\\\n",
       "\tENSG00000231074 &  0.9792448 & 1.3101724 & 6.4256889 & 0.4884744 &  1.3035068 & 1.0500975 & 0.6141062 & 0.1538053 & 0.5285614 & 2.0149455 & ⋯ & 1.2610615 & 1.1356899 & 2.1643139 & 0.1371844 & 3.5201653 & 1.5930148 & 1.0760480 & 0.6307351 & 3.4741579 & 0.4543633\\\\\n",
       "\tENSG00000206337 &  3.7016321 & 1.4199331 & 0.4884744 & 9.4044545 &  0.9005129 & 0.5992169 & 0.1566312 & 0.9161303 & 0.2283525 & 0.1502369 & ⋯ & 0.1505476 & 0.6227213 & 0.6977414 & 1.7680130 & 1.4268188 & 0.5944116 & 1.9985195 & 0.2393041 & 1.3007144 & 0.9315999\\\\\n",
       "\tENSG00000206503 &  4.3825868 & 1.7129524 & 1.3035068 & 0.9005129 & 10.7917166 & 4.1045786 & 2.8576795 & 1.0119414 & 0.9280381 & 1.6311731 & ⋯ & 1.1382894 & 0.9650078 & 1.5774921 & 2.3391661 & 0.5960292 & 0.4781792 & 1.4204280 & 0.8408953 & 0.7650515 & 2.2403784\\\\\n",
       "\tENSG00000234745 &  3.9104236 & 2.1222697 & 1.0500975 & 0.5992169 &  4.1045786 & 9.8123693 & 6.2252299 & 1.2595667 & 1.1753597 & 1.6700773 & ⋯ & 0.4022011 & 1.6173627 & 1.0871493 & 2.7502482 & 0.6882708 & 0.6456049 & 0.9019872 & 0.4303269 & 1.5282073 & 2.3255622\\\\\n",
       "\\end{tabular}\n"
      ],
      "text/markdown": [
       "\n",
       "A matrix: 6 × 18681 of type dbl\n",
       "\n",
       "| <!--/--> | ENSG00000285647 | ENSG00000204435 | ENSG00000231074 | ENSG00000206337 | ENSG00000206503 | ENSG00000234745 | ENSG00000204525 | ENSG00000204257 | ENSG00000242574 | ENSG00000204252 | ⋯ | ENSG00000288156 | ENSG00000288234 | ENSG00000288253 | ENSG00000288302 | ENSG00000288398 | ENSG00000288538 | ENSG00000288559 | ENSG00000288562 | ENSG00000288573 | ENSG00000288582 |\n",
       "|---|---|---|---|---|---|---|---|---|---|---|---|---|---|---|---|---|---|---|---|---|---|\n",
       "| ENSG00000285647 | 10.9000318 | 0.3729141 | 0.9792448 | 3.7016321 |  4.3825868 | 3.9104236 | 5.1680969 | 0.4495094 | 0.2898863 | 1.7397549 | ⋯ | 1.0419991 | 0.6114170 | 1.1181726 | 0.7879613 | 1.0836743 | 0.3277168 | 0.8305462 | 0.4020441 | 0.9393274 | 1.4733580 |\n",
       "| ENSG00000204435 |  0.3729141 | 8.3265002 | 1.3101724 | 1.4199331 |  1.7129524 | 2.1222697 | 1.6760031 | 1.4491835 | 1.2114696 | 0.5732327 | ⋯ | 2.1778532 | 1.3330530 | 1.1269846 | 4.1026515 | 1.2741225 | 0.4738586 | 1.0502315 | 1.0296571 | 1.5976494 | 0.4724222 |\n",
       "| ENSG00000231074 |  0.9792448 | 1.3101724 | 6.4256889 | 0.4884744 |  1.3035068 | 1.0500975 | 0.6141062 | 0.1538053 | 0.5285614 | 2.0149455 | ⋯ | 1.2610615 | 1.1356899 | 2.1643139 | 0.1371844 | 3.5201653 | 1.5930148 | 1.0760480 | 0.6307351 | 3.4741579 | 0.4543633 |\n",
       "| ENSG00000206337 |  3.7016321 | 1.4199331 | 0.4884744 | 9.4044545 |  0.9005129 | 0.5992169 | 0.1566312 | 0.9161303 | 0.2283525 | 0.1502369 | ⋯ | 0.1505476 | 0.6227213 | 0.6977414 | 1.7680130 | 1.4268188 | 0.5944116 | 1.9985195 | 0.2393041 | 1.3007144 | 0.9315999 |\n",
       "| ENSG00000206503 |  4.3825868 | 1.7129524 | 1.3035068 | 0.9005129 | 10.7917166 | 4.1045786 | 2.8576795 | 1.0119414 | 0.9280381 | 1.6311731 | ⋯ | 1.1382894 | 0.9650078 | 1.5774921 | 2.3391661 | 0.5960292 | 0.4781792 | 1.4204280 | 0.8408953 | 0.7650515 | 2.2403784 |\n",
       "| ENSG00000234745 |  3.9104236 | 2.1222697 | 1.0500975 | 0.5992169 |  4.1045786 | 9.8123693 | 6.2252299 | 1.2595667 | 1.1753597 | 1.6700773 | ⋯ | 0.4022011 | 1.6173627 | 1.0871493 | 2.7502482 | 0.6882708 | 0.6456049 | 0.9019872 | 0.4303269 | 1.5282073 | 2.3255622 |\n",
       "\n"
      ],
      "text/plain": [
       "                ENSG00000285647 ENSG00000204435 ENSG00000231074 ENSG00000206337\n",
       "ENSG00000285647 10.9000318      0.3729141       0.9792448       3.7016321      \n",
       "ENSG00000204435  0.3729141      8.3265002       1.3101724       1.4199331      \n",
       "ENSG00000231074  0.9792448      1.3101724       6.4256889       0.4884744      \n",
       "ENSG00000206337  3.7016321      1.4199331       0.4884744       9.4044545      \n",
       "ENSG00000206503  4.3825868      1.7129524       1.3035068       0.9005129      \n",
       "ENSG00000234745  3.9104236      2.1222697       1.0500975       0.5992169      \n",
       "                ENSG00000206503 ENSG00000234745 ENSG00000204525 ENSG00000204257\n",
       "ENSG00000285647  4.3825868      3.9104236       5.1680969       0.4495094      \n",
       "ENSG00000204435  1.7129524      2.1222697       1.6760031       1.4491835      \n",
       "ENSG00000231074  1.3035068      1.0500975       0.6141062       0.1538053      \n",
       "ENSG00000206337  0.9005129      0.5992169       0.1566312       0.9161303      \n",
       "ENSG00000206503 10.7917166      4.1045786       2.8576795       1.0119414      \n",
       "ENSG00000234745  4.1045786      9.8123693       6.2252299       1.2595667      \n",
       "                ENSG00000242574 ENSG00000204252 ⋯ ENSG00000288156\n",
       "ENSG00000285647 0.2898863       1.7397549       ⋯ 1.0419991      \n",
       "ENSG00000204435 1.2114696       0.5732327       ⋯ 2.1778532      \n",
       "ENSG00000231074 0.5285614       2.0149455       ⋯ 1.2610615      \n",
       "ENSG00000206337 0.2283525       0.1502369       ⋯ 0.1505476      \n",
       "ENSG00000206503 0.9280381       1.6311731       ⋯ 1.1382894      \n",
       "ENSG00000234745 1.1753597       1.6700773       ⋯ 0.4022011      \n",
       "                ENSG00000288234 ENSG00000288253 ENSG00000288302 ENSG00000288398\n",
       "ENSG00000285647 0.6114170       1.1181726       0.7879613       1.0836743      \n",
       "ENSG00000204435 1.3330530       1.1269846       4.1026515       1.2741225      \n",
       "ENSG00000231074 1.1356899       2.1643139       0.1371844       3.5201653      \n",
       "ENSG00000206337 0.6227213       0.6977414       1.7680130       1.4268188      \n",
       "ENSG00000206503 0.9650078       1.5774921       2.3391661       0.5960292      \n",
       "ENSG00000234745 1.6173627       1.0871493       2.7502482       0.6882708      \n",
       "                ENSG00000288538 ENSG00000288559 ENSG00000288562 ENSG00000288573\n",
       "ENSG00000285647 0.3277168       0.8305462       0.4020441       0.9393274      \n",
       "ENSG00000204435 0.4738586       1.0502315       1.0296571       1.5976494      \n",
       "ENSG00000231074 1.5930148       1.0760480       0.6307351       3.4741579      \n",
       "ENSG00000206337 0.5944116       1.9985195       0.2393041       1.3007144      \n",
       "ENSG00000206503 0.4781792       1.4204280       0.8408953       0.7650515      \n",
       "ENSG00000234745 0.6456049       0.9019872       0.4303269       1.5282073      \n",
       "                ENSG00000288582\n",
       "ENSG00000285647 1.4733580      \n",
       "ENSG00000204435 0.4724222      \n",
       "ENSG00000231074 0.4543633      \n",
       "ENSG00000206337 0.9315999      \n",
       "ENSG00000206503 2.2403784      \n",
       "ENSG00000234745 2.3255622      "
      ]
     },
     "metadata": {},
     "output_type": "display_data"
    }
   ],
   "source": [
    "head(network)"
   ]
  },
  {
   "cell_type": "markdown",
   "id": "57eaf078-f028-4baa-9586-9392023b977c",
   "metadata": {},
   "source": [
    "## Module Construction"
   ]
  },
  {
   "cell_type": "markdown",
   "id": "dd1eca26-1f7e-440e-8133-3ada1ebf0df1",
   "metadata": {},
   "source": [
    "### Clustering\n",
    "\n",
    "I use spectral clustering to generate modules from the network. I begin by generating a weighted adjacency matrix $W$ with no self-edges. I use $W$ to generate the degree matrix $D$ for the network. I use the unnormalized graph Laplacian, which is defined as\n",
    "\n",
    "$$L=D - W$$\n",
    "\n",
    "I calculate the spectrum of the Laplacian using `eigen()` and order the eigenvectors by increasing eigenvalues. Spectral clustering works by using the first $k$ eigenvectors to create $k$ clusters of the original samples. I use the first 1000 eigenvectors and keep any clusters that have more than 10 genes in them."
   ]
  },
  {
   "cell_type": "code",
   "execution_count": 45,
   "id": "f3219a0a-9ff4-489a-a242-19b73ffda21b",
   "metadata": {},
   "outputs": [],
   "source": [
    "network.adjacency <- network\n",
    "diag(network.adjacency) <- 0\n",
    "\n",
    "network.degree <- diag(colSums(network.adjacency))\n",
    "\n",
    "graph.laplacian <- network.degree - network.adjacency"
   ]
  },
  {
   "cell_type": "code",
   "execution_count": 26,
   "id": "dde7b870-ccd3-4c96-8e21-5cc3b550ed90",
   "metadata": {},
   "outputs": [],
   "source": [
    "graph.laplacian.file <- \"~/gains_team282/nikhil/expression/gene_expression/graph.laplacian.clr.RDS\"\n",
    "if (file.exists(graph.laplacian.file)) {\n",
    "    laplacian.eigen <- readRDS(graph.laplacian.file)\n",
    "} else {\n",
    "    laplacian.eigen <- eigen(graph.laplacian, symmetric=TRUE)\n",
    "    laplacian.eigen$values <- laplacian.eigen$values[rev(1:nrow(network))]\n",
    "    laplacian.eigen$vectors <- laplacian.eigen$vectors[,rev(1:nrow(network))]\n",
    "    saveRDS(laplacian.eigen, graph.laplacian.file)\n",
    "}"
   ]
  },
  {
   "cell_type": "markdown",
   "id": "2d00cef5-66a2-4c16-8620-2ae6d395300d",
   "metadata": {},
   "source": [
    "K-means clustering on the first $k=1000$ eigenvectors."
   ]
  },
  {
   "cell_type": "code",
   "execution_count": 27,
   "id": "17d83601-d493-41fd-b76c-48f8bfde7cde",
   "metadata": {},
   "outputs": [],
   "source": [
    "features <- laplacian.eigen$vectors[,1:1000]"
   ]
  },
  {
   "cell_type": "code",
   "execution_count": 28,
   "id": "caeb5239-8b4e-45c0-906c-5e9513624f32",
   "metadata": {},
   "outputs": [],
   "source": [
    "graph.kmeans.file <- \"~/gains_team282/nikhil/expression/gene_expression/graph.laplacian.kmeans.clr.RDS\"\n",
    "if (file.exists(graph.kmeans.file)) {\n",
    "    features.kmeans <- readRDS(graph.kmeans.file)\n",
    "} else {\n",
    "    set.seed(5829824)\n",
    "    features.kmeans <- kmeans(features, centers=1000, iter.max=1000, nstart=10)\n",
    "    saveRDS(features.kmeans, graph.kmeans.file)\n",
    "}"
   ]
  },
  {
   "cell_type": "markdown",
   "id": "9f396b77-d965-4eed-b3e2-b5414c01c888",
   "metadata": {},
   "source": [
    "There are 13 clusters that have more than 10 genes in them. The rest of the genes will not be assigned to any modules."
   ]
  },
  {
   "cell_type": "code",
   "execution_count": 29,
   "id": "e8a89b7d-4069-4a08-8914-1fec1f28983f",
   "metadata": {},
   "outputs": [
    {
     "data": {
      "text/html": [
       "13"
      ],
      "text/latex": [
       "13"
      ],
      "text/markdown": [
       "13"
      ],
      "text/plain": [
       "[1] 13"
      ]
     },
     "metadata": {},
     "output_type": "display_data"
    }
   ],
   "source": [
    "n.modules <- sum(table(features.kmeans$cluster) > 10)\n",
    "n.modules"
   ]
  },
  {
   "cell_type": "markdown",
   "id": "749e747d-7bb3-4456-9b85-21e092b1ce2c",
   "metadata": {},
   "source": [
    "Generate modules by removing all clusters that have 10 or fewer genes."
   ]
  },
  {
   "cell_type": "code",
   "execution_count": 30,
   "id": "390e4875-e221-4a55-afb1-e819e400d8b3",
   "metadata": {},
   "outputs": [],
   "source": [
    "modules.all <- features.kmeans$cluster\n",
    "\n",
    "small.clusters <- as.numeric(names(table(modules.all))[table(modules.all) <= 10])\n",
    "\n",
    "modules.all[modules.all %in% small.clusters] <- 0"
   ]
  },
  {
   "cell_type": "markdown",
   "id": "1f2145f8-81c6-47fe-90c3-f2a6b15d45a0",
   "metadata": {},
   "source": [
    "Reorder modules by size."
   ]
  },
  {
   "cell_type": "code",
   "execution_count": 31,
   "id": "b15a8dd3-d3f4-4ec6-92b1-0456fe7466ce",
   "metadata": {},
   "outputs": [],
   "source": [
    "module.label.map <- as.list(0:n.modules)\n",
    "modules.non.zero <- modules.all[modules.all != 0]\n",
    "names(module.label.map) <- c(\"0\", names(table(modules.non.zero))[order(table(modules.non.zero), decreasing=TRUE)])"
   ]
  },
  {
   "cell_type": "code",
   "execution_count": 32,
   "id": "5f894349-b6c5-490c-8845-f19bb9fba847",
   "metadata": {},
   "outputs": [],
   "source": [
    "modules <- sapply(modules.all, function(gene.assignment) { module.label.map[[as.character(gene.assignment)]] })"
   ]
  },
  {
   "cell_type": "code",
   "execution_count": 33,
   "id": "95b33bb7-5daf-4fe0-993f-a661d2e5bc16",
   "metadata": {},
   "outputs": [
    {
     "data": {
      "text/plain": [
       "modules\n",
       "   0    1    2    3    4    5    6    7    8    9   10   11   12   13 \n",
       " 991 4970 2525 1843 1745 1669 1662 1420  755  453  367  211   52   18 "
      ]
     },
     "metadata": {},
     "output_type": "display_data"
    }
   ],
   "source": [
    "table(modules)"
   ]
  },
  {
   "cell_type": "markdown",
   "id": "ac9dd048-9348-472f-b50c-bd69438d6fdf",
   "metadata": {},
   "source": [
    "### Module Refinement"
   ]
  },
  {
   "cell_type": "code",
   "execution_count": 34,
   "id": "815b2790-0d0d-4979-8115-cc31bdbf5bb6",
   "metadata": {},
   "outputs": [],
   "source": [
    "connectivity <- WGCNA::intramodularConnectivity(adjacency, modules)"
   ]
  },
  {
   "cell_type": "code",
   "execution_count": 35,
   "id": "e0c76b7d-6e80-42eb-bba8-3e9d4a827dbf",
   "metadata": {},
   "outputs": [],
   "source": [
    "connectivity <- connectivity %>%\n",
    "    dplyr::mutate(kRatio = kWithin / kOut)"
   ]
  },
  {
   "cell_type": "markdown",
   "id": "c5614623-8470-41b6-8837-f8b1263c324c",
   "metadata": {},
   "source": [
    "The module eigengenes do not explain a majority of the variation present in the module. I will prune genes based on their correlation with the module eigengene. If the gene has an absolute correlation of greater than 0.5 with the module eigengene, I will keep it in the pruned modules."
   ]
  },
  {
   "cell_type": "code",
   "execution_count": 48,
   "id": "bd47931b-92dd-476e-a3b4-53d335d3eace",
   "metadata": {},
   "outputs": [],
   "source": [
    "modules.pruned <- modules"
   ]
  },
  {
   "cell_type": "code",
   "execution_count": 49,
   "id": "b4a9da54-85da-41c2-bfe3-2a816de615c9",
   "metadata": {},
   "outputs": [],
   "source": [
    "for (module in 1:n.modules) {\n",
    "    \n",
    "    module.exp = scale(gene.exp[, modules == module])\n",
    "\n",
    "    svd.res = svd(module.exp)\n",
    "    module.eigen = svd.res$u[,1]\n",
    "\n",
    "    genes.to.prune = colnames(module.exp)[abs(cor(module.eigen, module.exp)) < 0.8]\n",
    "    modules.pruned[colnames(gene.exp) %in% genes.to.prune] <- 0\n",
    "}"
   ]
  },
  {
   "cell_type": "code",
   "execution_count": 50,
   "id": "b301e469-c3b9-497b-98c0-bb45a3648f98",
   "metadata": {},
   "outputs": [
    {
     "data": {
      "text/plain": [
       "modules.pruned\n",
       "    0     1     2     3     4     5     6     7     8     9    10    11    12 \n",
       "13320   795  1506   308   836   516   581   489    38    83    56   102    40 \n",
       "   13 \n",
       "   11 "
      ]
     },
     "metadata": {},
     "output_type": "display_data"
    }
   ],
   "source": [
    "table(modules.pruned)"
   ]
  },
  {
   "cell_type": "markdown",
   "id": "f489f6ef-04d8-4c08-b19c-a606079b4961",
   "metadata": {},
   "source": [
    "Graph the increase in the variance explained after pruning."
   ]
  },
  {
   "cell_type": "code",
   "execution_count": 51,
   "id": "44055092-4ca2-4ac7-8e4f-a17138738966",
   "metadata": {},
   "outputs": [],
   "source": [
    "var.explained <- sapply(\n",
    "    1:n.modules,\n",
    "    function(k) {\n",
    "        pca.original = prcomp(scale(gene.exp[,modules == k]))\n",
    "        pca.pruned = prcomp(scale(gene.exp[,modules.pruned == k]))\n",
    "        prop.original = summary(pca.original)$importance[\"Proportion of Variance\", \"PC1\"]\n",
    "        prop.pruned = summary(pca.pruned)$importance[\"Proportion of Variance\", \"PC1\"]\n",
    "        c(prop.original, prop.pruned)\n",
    "    }\n",
    ")"
   ]
  },
  {
   "cell_type": "code",
   "execution_count": 52,
   "id": "51bb1146-8b97-4b9d-86a6-1b184e01cf37",
   "metadata": {},
   "outputs": [
    {
     "data": {
      "image/png": "[encoded data removed]",
      "text/plain": [
       "plot without title"
      ]
     },
     "metadata": {
      "image/png": {
       "height": 600,
       "width": 540
      }
     },
     "output_type": "display_data"
    }
   ],
   "source": [
    "options(repr.plot.width=9, repr.plot.height=10)\n",
    "\n",
    "data.frame(\n",
    "    Module=paste0(\"ME_\", 1:n.modules),\n",
    "    Original=var.explained[1,],\n",
    "    Pruned=var.explained[2,]\n",
    ") %>%\n",
    "    tidyr::gather(\"Modules\", \"Var.Explained\", -Module) %>%\n",
    "    dplyr::mutate(Module=factor(Module, levels=paste0(\"ME_\", 1:n.modules))) %>%\n",
    "    dplyr::mutate(Modules=factor(Modules, levels=c(\"Original\", \"Pruned\"))) %>%\n",
    "    ggplot() +\n",
    "    geom_bar(aes(x=Module, y=Var.Explained, fill=Modules), stat=\"identity\", position=position_dodge(0.75), width=0.75) +\n",
    "    scale_fill_brewer(palette=\"Pastel1\") +\n",
    "    coord_flip() +\n",
    "    ylab(\"Variance Explained by Eigengene\") +\n",
    "    ylim(0, 1) +\n",
    "    ggplot_theme +\n",
    "    theme(axis.title.y=element_blank())"
   ]
  },
  {
   "cell_type": "markdown",
   "id": "0d6430d4-1957-4fcd-a7a7-a4dbd6f02bec",
   "metadata": {
    "tags": []
   },
   "source": [
    "## Save Modules"
   ]
  },
  {
   "cell_type": "markdown",
   "id": "826a7c6c-1145-435e-b09d-b6e674f0bd73",
   "metadata": {},
   "source": [
    "First, I will reassign module numbering by the number of genes in each module in descending order. All genes that were filtered out in the process of generating co-expression modules will be assigned to Module 0."
   ]
  },
  {
   "cell_type": "code",
   "execution_count": 53,
   "id": "cf061814-c926-4487-b7e1-bafb1a93eefc",
   "metadata": {},
   "outputs": [],
   "source": [
    "gene.modules <- data.frame(\n",
    "    Gene=rownames(network),\n",
    "    Module=modules,\n",
    "    Module.Pruned=modules.pruned\n",
    ") %>%\n",
    "    dplyr::arrange(Module) %>%\n",
    "    dplyr::mutate(Module=paste0(\"Module_\", Module)) %>%\n",
    "    dplyr::mutate(Module.Pruned=paste0(\"Module_\", Module.Pruned)) %>%\n",
    "    dplyr::mutate(Module=ifelse(Module == \"Module_0\", \"Unassigned\", Module)) %>%\n",
    "    dplyr::mutate(Module.Pruned=ifelse(Module.Pruned == \"Module_0\", \"Unassigned\", Module.Pruned))"
   ]
  },
  {
   "cell_type": "markdown",
   "id": "a808b9c2-1e2e-48a5-9005-c4011d9e48fd",
   "metadata": {},
   "source": [
    "I'll calculate the first principal component for each module to get the module eigengenes."
   ]
  },
  {
   "cell_type": "code",
   "execution_count": 54,
   "id": "4ab82c66",
   "metadata": {},
   "outputs": [],
   "source": [
    "module.eigens <- sapply(1:n.modules, function(k) { svd(scale(gene.exp[,modules.pruned == k]))$u[,1] })"
   ]
  },
  {
   "cell_type": "code",
   "execution_count": 55,
   "id": "84ae4258-d594-4658-8030-f199850e1d3d",
   "metadata": {},
   "outputs": [],
   "source": [
    "colnames(module.eigens) <- paste0(\"ME_\", 1:n.modules)\n",
    "rownames(module.eigens) <- rownames(gene.exp)\n",
    "\n",
    "module.eigens <- module.eigens %>%\n",
    "    as.data.frame() %>%\n",
    "    dplyr::mutate(Sample.ID=rownames(.)) %>%\n",
    "    dplyr::select(Sample.ID, everything())"
   ]
  },
  {
   "cell_type": "code",
   "execution_count": 56,
   "id": "d3d95e5c-cc67-44e5-847e-b2abafb267c1",
   "metadata": {},
   "outputs": [
    {
     "data": {
      "text/html": [
       "<table class=\"dataframe\">\n",
       "<caption>A data.frame: 6 × 14</caption>\n",
       "<thead>\n",
       "\t<tr><th></th><th scope=col>Sample.ID</th><th scope=col>ME_1</th><th scope=col>ME_2</th><th scope=col>ME_3</th><th scope=col>ME_4</th><th scope=col>ME_5</th><th scope=col>ME_6</th><th scope=col>ME_7</th><th scope=col>ME_8</th><th scope=col>ME_9</th><th scope=col>ME_10</th><th scope=col>ME_11</th><th scope=col>ME_12</th><th scope=col>ME_13</th></tr>\n",
       "\t<tr><th></th><th scope=col>&lt;chr&gt;</th><th scope=col>&lt;dbl&gt;</th><th scope=col>&lt;dbl&gt;</th><th scope=col>&lt;dbl&gt;</th><th scope=col>&lt;dbl&gt;</th><th scope=col>&lt;dbl&gt;</th><th scope=col>&lt;dbl&gt;</th><th scope=col>&lt;dbl&gt;</th><th scope=col>&lt;dbl&gt;</th><th scope=col>&lt;dbl&gt;</th><th scope=col>&lt;dbl&gt;</th><th scope=col>&lt;dbl&gt;</th><th scope=col>&lt;dbl&gt;</th><th scope=col>&lt;dbl&gt;</th></tr>\n",
       "</thead>\n",
       "<tbody>\n",
       "\t<tr><th scope=row>UK02270173_3</th><td>UK02270173_3</td><td>-0.026880028</td><td> 0.024754255</td><td>-0.049255630</td><td>-0.0011365576</td><td>-0.02004220</td><td>-0.011621161</td><td>-0.048982210</td><td> 0.001510054</td><td>-0.03801025</td><td> 0.001552109</td><td> 0.002506806</td><td>-0.01010815</td><td>-0.018126419</td></tr>\n",
       "\t<tr><th scope=row>UK15130120_3</th><td>UK15130120_3</td><td>-0.012686164</td><td>-0.012329614</td><td>-0.049890308</td><td> 0.0117096753</td><td>-0.05134518</td><td> 0.011795701</td><td>-0.032446820</td><td>-0.006916683</td><td>-0.01832666</td><td> 0.022868622</td><td> 0.023239704</td><td>-0.01033057</td><td>-0.001873539</td></tr>\n",
       "\t<tr><th scope=row>UK58000006_3</th><td>UK58000006_3</td><td>-0.007422916</td><td> 0.019682349</td><td>-0.003439649</td><td>-0.0004373064</td><td> 0.01823638</td><td>-0.037003556</td><td>-0.026203330</td><td> 0.013285317</td><td>-0.00654476</td><td>-0.034106149</td><td>-0.033193160</td><td> 0.01994496</td><td> 0.021248987</td></tr>\n",
       "\t<tr><th scope=row>UK47010004_3</th><td>UK47010004_3</td><td> 0.010860942</td><td> 0.005580810</td><td>-0.001070395</td><td>-0.0123976557</td><td> 0.01688644</td><td>-0.002396543</td><td> 0.010436675</td><td>-0.009976259</td><td>-0.03845000</td><td> 0.044978110</td><td> 0.013607013</td><td>-0.04736191</td><td>-0.021150863</td></tr>\n",
       "\t<tr><th scope=row>UK42020088_5</th><td>UK42020088_5</td><td>-0.020354540</td><td> 0.013730057</td><td>-0.005233625</td><td>-0.0288076192</td><td>-0.01357106</td><td> 0.034517070</td><td>-0.003360994</td><td> 0.013865936</td><td>-0.03183148</td><td>-0.032342665</td><td>-0.018588091</td><td> 0.02292120</td><td> 0.003827274</td></tr>\n",
       "\t<tr><th scope=row>UK47490007_3</th><td>UK47490007_3</td><td> 0.007358504</td><td>-0.007576762</td><td>-0.004897662</td><td>-0.0114631104</td><td>-0.02199959</td><td> 0.033353492</td><td> 0.015936130</td><td>-0.046998162</td><td>-0.01985218</td><td> 0.043605091</td><td> 0.074601996</td><td>-0.02636748</td><td>-0.015488821</td></tr>\n",
       "</tbody>\n",
       "</table>\n"
      ],
      "text/latex": [
       "A data.frame: 6 × 14\n",
       "\\begin{tabular}{r|llllllllllllll}\n",
       "  & Sample.ID & ME\\_1 & ME\\_2 & ME\\_3 & ME\\_4 & ME\\_5 & ME\\_6 & ME\\_7 & ME\\_8 & ME\\_9 & ME\\_10 & ME\\_11 & ME\\_12 & ME\\_13\\\\\n",
       "  & <chr> & <dbl> & <dbl> & <dbl> & <dbl> & <dbl> & <dbl> & <dbl> & <dbl> & <dbl> & <dbl> & <dbl> & <dbl> & <dbl>\\\\\n",
       "\\hline\n",
       "\tUK02270173\\_3 & UK02270173\\_3 & -0.026880028 &  0.024754255 & -0.049255630 & -0.0011365576 & -0.02004220 & -0.011621161 & -0.048982210 &  0.001510054 & -0.03801025 &  0.001552109 &  0.002506806 & -0.01010815 & -0.018126419\\\\\n",
       "\tUK15130120\\_3 & UK15130120\\_3 & -0.012686164 & -0.012329614 & -0.049890308 &  0.0117096753 & -0.05134518 &  0.011795701 & -0.032446820 & -0.006916683 & -0.01832666 &  0.022868622 &  0.023239704 & -0.01033057 & -0.001873539\\\\\n",
       "\tUK58000006\\_3 & UK58000006\\_3 & -0.007422916 &  0.019682349 & -0.003439649 & -0.0004373064 &  0.01823638 & -0.037003556 & -0.026203330 &  0.013285317 & -0.00654476 & -0.034106149 & -0.033193160 &  0.01994496 &  0.021248987\\\\\n",
       "\tUK47010004\\_3 & UK47010004\\_3 &  0.010860942 &  0.005580810 & -0.001070395 & -0.0123976557 &  0.01688644 & -0.002396543 &  0.010436675 & -0.009976259 & -0.03845000 &  0.044978110 &  0.013607013 & -0.04736191 & -0.021150863\\\\\n",
       "\tUK42020088\\_5 & UK42020088\\_5 & -0.020354540 &  0.013730057 & -0.005233625 & -0.0288076192 & -0.01357106 &  0.034517070 & -0.003360994 &  0.013865936 & -0.03183148 & -0.032342665 & -0.018588091 &  0.02292120 &  0.003827274\\\\\n",
       "\tUK47490007\\_3 & UK47490007\\_3 &  0.007358504 & -0.007576762 & -0.004897662 & -0.0114631104 & -0.02199959 &  0.033353492 &  0.015936130 & -0.046998162 & -0.01985218 &  0.043605091 &  0.074601996 & -0.02636748 & -0.015488821\\\\\n",
       "\\end{tabular}\n"
      ],
      "text/markdown": [
       "\n",
       "A data.frame: 6 × 14\n",
       "\n",
       "| <!--/--> | Sample.ID &lt;chr&gt; | ME_1 &lt;dbl&gt; | ME_2 &lt;dbl&gt; | ME_3 &lt;dbl&gt; | ME_4 &lt;dbl&gt; | ME_5 &lt;dbl&gt; | ME_6 &lt;dbl&gt; | ME_7 &lt;dbl&gt; | ME_8 &lt;dbl&gt; | ME_9 &lt;dbl&gt; | ME_10 &lt;dbl&gt; | ME_11 &lt;dbl&gt; | ME_12 &lt;dbl&gt; | ME_13 &lt;dbl&gt; |\n",
       "|---|---|---|---|---|---|---|---|---|---|---|---|---|---|---|\n",
       "| UK02270173_3 | UK02270173_3 | -0.026880028 |  0.024754255 | -0.049255630 | -0.0011365576 | -0.02004220 | -0.011621161 | -0.048982210 |  0.001510054 | -0.03801025 |  0.001552109 |  0.002506806 | -0.01010815 | -0.018126419 |\n",
       "| UK15130120_3 | UK15130120_3 | -0.012686164 | -0.012329614 | -0.049890308 |  0.0117096753 | -0.05134518 |  0.011795701 | -0.032446820 | -0.006916683 | -0.01832666 |  0.022868622 |  0.023239704 | -0.01033057 | -0.001873539 |\n",
       "| UK58000006_3 | UK58000006_3 | -0.007422916 |  0.019682349 | -0.003439649 | -0.0004373064 |  0.01823638 | -0.037003556 | -0.026203330 |  0.013285317 | -0.00654476 | -0.034106149 | -0.033193160 |  0.01994496 |  0.021248987 |\n",
       "| UK47010004_3 | UK47010004_3 |  0.010860942 |  0.005580810 | -0.001070395 | -0.0123976557 |  0.01688644 | -0.002396543 |  0.010436675 | -0.009976259 | -0.03845000 |  0.044978110 |  0.013607013 | -0.04736191 | -0.021150863 |\n",
       "| UK42020088_5 | UK42020088_5 | -0.020354540 |  0.013730057 | -0.005233625 | -0.0288076192 | -0.01357106 |  0.034517070 | -0.003360994 |  0.013865936 | -0.03183148 | -0.032342665 | -0.018588091 |  0.02292120 |  0.003827274 |\n",
       "| UK47490007_3 | UK47490007_3 |  0.007358504 | -0.007576762 | -0.004897662 | -0.0114631104 | -0.02199959 |  0.033353492 |  0.015936130 | -0.046998162 | -0.01985218 |  0.043605091 |  0.074601996 | -0.02636748 | -0.015488821 |\n",
       "\n"
      ],
      "text/plain": [
       "             Sample.ID    ME_1         ME_2         ME_3         ME_4         \n",
       "UK02270173_3 UK02270173_3 -0.026880028  0.024754255 -0.049255630 -0.0011365576\n",
       "UK15130120_3 UK15130120_3 -0.012686164 -0.012329614 -0.049890308  0.0117096753\n",
       "UK58000006_3 UK58000006_3 -0.007422916  0.019682349 -0.003439649 -0.0004373064\n",
       "UK47010004_3 UK47010004_3  0.010860942  0.005580810 -0.001070395 -0.0123976557\n",
       "UK42020088_5 UK42020088_5 -0.020354540  0.013730057 -0.005233625 -0.0288076192\n",
       "UK47490007_3 UK47490007_3  0.007358504 -0.007576762 -0.004897662 -0.0114631104\n",
       "             ME_5        ME_6         ME_7         ME_8         ME_9       \n",
       "UK02270173_3 -0.02004220 -0.011621161 -0.048982210  0.001510054 -0.03801025\n",
       "UK15130120_3 -0.05134518  0.011795701 -0.032446820 -0.006916683 -0.01832666\n",
       "UK58000006_3  0.01823638 -0.037003556 -0.026203330  0.013285317 -0.00654476\n",
       "UK47010004_3  0.01688644 -0.002396543  0.010436675 -0.009976259 -0.03845000\n",
       "UK42020088_5 -0.01357106  0.034517070 -0.003360994  0.013865936 -0.03183148\n",
       "UK47490007_3 -0.02199959  0.033353492  0.015936130 -0.046998162 -0.01985218\n",
       "             ME_10        ME_11        ME_12       ME_13       \n",
       "UK02270173_3  0.001552109  0.002506806 -0.01010815 -0.018126419\n",
       "UK15130120_3  0.022868622  0.023239704 -0.01033057 -0.001873539\n",
       "UK58000006_3 -0.034106149 -0.033193160  0.01994496  0.021248987\n",
       "UK47010004_3  0.044978110  0.013607013 -0.04736191 -0.021150863\n",
       "UK42020088_5 -0.032342665 -0.018588091  0.02292120  0.003827274\n",
       "UK47490007_3  0.043605091  0.074601996 -0.02636748 -0.015488821"
      ]
     },
     "metadata": {},
     "output_type": "display_data"
    }
   ],
   "source": [
    "head(module.eigens)"
   ]
  },
  {
   "cell_type": "code",
   "execution_count": 57,
   "id": "0fc56253-1100-4746-bf13-e9b1aee46fc9",
   "metadata": {},
   "outputs": [],
   "source": [
    "var.explained <- sapply(\n",
    "    1:n.modules,\n",
    "    function(k) { summary(prcomp(scale(gene.exp[,modules.pruned == k])))$importance[\"Proportion of Variance\", \"PC1\"] }\n",
    ")"
   ]
  },
  {
   "cell_type": "code",
   "execution_count": 58,
   "id": "4f4ffeb8-ca94-40a9-8b1e-6e23b0db1b5e",
   "metadata": {},
   "outputs": [
    {
     "data": {
      "text/html": [
       "<table class=\"dataframe\">\n",
       "<caption>A data.frame: 6 × 2</caption>\n",
       "<thead>\n",
       "\t<tr><th></th><th scope=col>Module</th><th scope=col>Var.Explained</th></tr>\n",
       "\t<tr><th></th><th scope=col>&lt;chr&gt;</th><th scope=col>&lt;dbl&gt;</th></tr>\n",
       "</thead>\n",
       "<tbody>\n",
       "\t<tr><th scope=row>1</th><td>ME_1</td><td>0.74466</td></tr>\n",
       "\t<tr><th scope=row>2</th><td>ME_2</td><td>0.80053</td></tr>\n",
       "\t<tr><th scope=row>3</th><td>ME_3</td><td>0.72997</td></tr>\n",
       "\t<tr><th scope=row>4</th><td>ME_4</td><td>0.76935</td></tr>\n",
       "\t<tr><th scope=row>5</th><td>ME_5</td><td>0.75126</td></tr>\n",
       "\t<tr><th scope=row>6</th><td>ME_6</td><td>0.74689</td></tr>\n",
       "</tbody>\n",
       "</table>\n"
      ],
      "text/latex": [
       "A data.frame: 6 × 2\n",
       "\\begin{tabular}{r|ll}\n",
       "  & Module & Var.Explained\\\\\n",
       "  & <chr> & <dbl>\\\\\n",
       "\\hline\n",
       "\t1 & ME\\_1 & 0.74466\\\\\n",
       "\t2 & ME\\_2 & 0.80053\\\\\n",
       "\t3 & ME\\_3 & 0.72997\\\\\n",
       "\t4 & ME\\_4 & 0.76935\\\\\n",
       "\t5 & ME\\_5 & 0.75126\\\\\n",
       "\t6 & ME\\_6 & 0.74689\\\\\n",
       "\\end{tabular}\n"
      ],
      "text/markdown": [
       "\n",
       "A data.frame: 6 × 2\n",
       "\n",
       "| <!--/--> | Module &lt;chr&gt; | Var.Explained &lt;dbl&gt; |\n",
       "|---|---|---|\n",
       "| 1 | ME_1 | 0.74466 |\n",
       "| 2 | ME_2 | 0.80053 |\n",
       "| 3 | ME_3 | 0.72997 |\n",
       "| 4 | ME_4 | 0.76935 |\n",
       "| 5 | ME_5 | 0.75126 |\n",
       "| 6 | ME_6 | 0.74689 |\n",
       "\n"
      ],
      "text/plain": [
       "  Module Var.Explained\n",
       "1 ME_1   0.74466      \n",
       "2 ME_2   0.80053      \n",
       "3 ME_3   0.72997      \n",
       "4 ME_4   0.76935      \n",
       "5 ME_5   0.75126      \n",
       "6 ME_6   0.74689      "
      ]
     },
     "metadata": {},
     "output_type": "display_data"
    }
   ],
   "source": [
    "module.var.explained <- data.frame(\n",
    "    Module=paste0(\"ME_\", 1:n.modules),\n",
    "    Var.Explained=var.explained\n",
    ")\n",
    "\n",
    "head(module.var.explained)"
   ]
  },
  {
   "cell_type": "code",
   "execution_count": 59,
   "id": "16a2ab8d-680f-4ce2-b23d-0f60a49aa6d4",
   "metadata": {},
   "outputs": [],
   "source": [
    "write.csv(gene.modules, \"/nfs/users/nfs_n/nm18/gains_team282/nikhil/expression/gene_expression/modules.clr.csv\", quote=F, row.names=F)\n",
    "write.csv(module.eigens, \"/nfs/users/nfs_n/nm18/gains_team282/nikhil/expression/gene_expression/eigengenes.clr.csv\", quote=F, row.names=F)\n",
    "write.csv(module.var.explained, \"/nfs/users/nfs_n/nm18/gains_team282/nikhil/expression/gene_expression/variance.explained.clr.csv\", quote=F, row.names=F)"
   ]
  },
  {
   "cell_type": "code",
   "execution_count": null,
   "id": "322d2343-0ed9-4805-b801-a7a375e759be",
   "metadata": {},
   "outputs": [],
   "source": []
  }
 ],
 "metadata": {
  "kernelspec": {
   "display_name": "R",
   "language": "R",
   "name": "ir"
  },
  "language_info": {
   "codemirror_mode": "r",
   "file_extension": ".r",
   "mimetype": "text/x-r-source",
   "name": "R",
   "pygments_lexer": "r",
   "version": "4.0.5"
  }
 },
 "nbformat": 4,
 "nbformat_minor": 5
}
