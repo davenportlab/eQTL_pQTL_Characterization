{
 "cells": [
  {
   "cell_type": "markdown",
   "id": "40ded556-debe-4c09-a412-cb0c8c47f474",
   "metadata": {},
   "source": [
    "# Eigengene Single-Variant Association Preparation\n",
    "\n",
    "**Created**: 24 March 2022"
   ]
  },
  {
   "cell_type": "markdown",
   "id": "133acb3a-8f08-46dc-bab6-7c8d4afe4803",
   "metadata": {},
   "source": [
    "## Environment"
   ]
  },
  {
   "cell_type": "code",
   "execution_count": 1,
   "id": "5aa6f310-53bc-4e4a-9f26-62e0716b2c2e",
   "metadata": {},
   "outputs": [],
   "source": [
    "if (!requireNamespace(\"BiocManager\", quietly = TRUE)) {\n",
    "    install.packages(\"BiocManager\")\n",
    "}\n",
    "\n",
    "if (!requireNamespace(\"ComplexHeatmap\", quietly=TRUE)) {\n",
    "    BiocManager::install(\"ComplexHeatmap\")\n",
    "}"
   ]
  },
  {
   "cell_type": "code",
   "execution_count": 2,
   "id": "b57f682b-54fb-470e-b766-b9f21ae2d9b2",
   "metadata": {},
   "outputs": [
    {
     "name": "stderr",
     "output_type": "stream",
     "text": [
      "── \u001b[1mAttaching packages\u001b[22m ─────────────────────────────────────────────────────────────────────────────────────────────────────────────────────────────────────────────────────────────────────── tidyverse 1.3.1 ──\n",
      "\n",
      "\u001b[32m✔\u001b[39m \u001b[34mggplot2\u001b[39m 3.3.5     \u001b[32m✔\u001b[39m \u001b[34mpurrr  \u001b[39m 0.3.4\n",
      "\u001b[32m✔\u001b[39m \u001b[34mtibble \u001b[39m 3.1.6     \u001b[32m✔\u001b[39m \u001b[34mdplyr  \u001b[39m 1.0.7\n",
      "\u001b[32m✔\u001b[39m \u001b[34mtidyr  \u001b[39m 1.1.4     \u001b[32m✔\u001b[39m \u001b[34mstringr\u001b[39m 1.4.0\n",
      "\u001b[32m✔\u001b[39m \u001b[34mreadr  \u001b[39m 2.1.1     \u001b[32m✔\u001b[39m \u001b[34mforcats\u001b[39m 0.5.1\n",
      "\n",
      "── \u001b[1mConflicts\u001b[22m ────────────────────────────────────────────────────────────────────────────────────────────────────────────────────────────────────────────────────────────────────────── tidyverse_conflicts() ──\n",
      "\u001b[31m✖\u001b[39m \u001b[34mdplyr\u001b[39m::\u001b[32mfilter()\u001b[39m masks \u001b[34mstats\u001b[39m::filter()\n",
      "\u001b[31m✖\u001b[39m \u001b[34mdplyr\u001b[39m::\u001b[32mlag()\u001b[39m    masks \u001b[34mstats\u001b[39m::lag()\n",
      "\n",
      "Loading required package: grid\n",
      "\n",
      "========================================\n",
      "ComplexHeatmap version 2.6.2\n",
      "Bioconductor page: http://bioconductor.org/packages/ComplexHeatmap/\n",
      "Github page: https://github.com/jokergoo/ComplexHeatmap\n",
      "Documentation: http://jokergoo.github.io/ComplexHeatmap-reference\n",
      "\n",
      "If you use it in published research, please cite:\n",
      "Gu, Z. Complex heatmaps reveal patterns and correlations in multidimensional \n",
      "  genomic data. Bioinformatics 2016.\n",
      "\n",
      "This message can be suppressed by:\n",
      "  suppressPackageStartupMessages(library(ComplexHeatmap))\n",
      "========================================\n",
      "\n",
      "\n",
      "\n",
      "Attaching package: ‘data.table’\n",
      "\n",
      "\n",
      "The following objects are masked from ‘package:dplyr’:\n",
      "\n",
      "    between, first, last\n",
      "\n",
      "\n",
      "The following object is masked from ‘package:purrr’:\n",
      "\n",
      "    transpose\n",
      "\n",
      "\n"
     ]
    }
   ],
   "source": [
    "library(tidyverse)\n",
    "library(RColorBrewer)\n",
    "library(ComplexHeatmap)\n",
    "library(data.table)\n",
    "\n",
    "setwd(\"~/eQTL_pQTL_Characterization/\")\n",
    "\n",
    "source(\"04_Expression/scripts/utils/ggplot_theme.R\")"
   ]
  },
  {
   "cell_type": "markdown",
   "id": "53e08f67-624c-4222-b51c-026831dd085b",
   "metadata": {},
   "source": [
    "## Load Data"
   ]
  },
  {
   "cell_type": "code",
   "execution_count": 3,
   "id": "e6264bda-1395-47a9-bf6d-5b5228984a14",
   "metadata": {},
   "outputs": [],
   "source": [
    "demographics <- readxl::read_xls(\"/nfs/team282/data/gains_team282/ClinicalData/DEMO_12jun2019.xls\", sheet=1) %>%\n",
    "    dplyr::mutate(sex=as.numeric(sex)) %>%\n",
    "    dplyr::mutate(diagnosis=as.numeric(diagnosis))\n",
    "\n",
    "ga.prefix.index <- grepl(\"GA\", demographics$SubjectBarCode)\n",
    "demographics$SubjectBarCode[ga.prefix.index] <- gsub(\"^GA\", \"\", demographics$SubjectBarCode[ga.prefix.index])"
   ]
  },
  {
   "cell_type": "code",
   "execution_count": 4,
   "id": "35ab229e-25c4-404d-8390-01f32b34e94f",
   "metadata": {},
   "outputs": [],
   "source": [
    "srs.info <- read.table(\"/nfs/team282/data/gains_team282/full-gains-SRS-predictions_mNN-RF.tsv\", header=T)\n",
    "ga.prefix.index <- grepl(\"GA\", srs.info$Sample_id)\n",
    "srs.info$Sample_id[ga.prefix.index] <- gsub(\"^GA\", \"\", srs.info$Sample_id[ga.prefix.index])\n",
    "srs.info <- srs.info %>%\n",
    "  dplyr::filter(Assay==\"RNA-seq\")\n",
    "row.names(srs.info) <- srs.info$Sample_id"
   ]
  },
  {
   "cell_type": "code",
   "execution_count": 5,
   "id": "0b1b5e57-4df2-42c1-b77d-10f84cff585d",
   "metadata": {},
   "outputs": [],
   "source": [
    "covs <- read.table(\"~/gains_team282/eqtl/data/covs_and_peer_factors.txt\") %>%\n",
    "    dplyr::mutate(Sample.ID=rownames(.)) %>%\n",
    "    dplyr::mutate(GAinS.ID=sapply(strsplit(Sample.ID, \"_\"), function(x) { x[1] }))\n",
    "\n",
    "ga.prefix.index <- grepl(\"GA\", covs$GAinS.ID)\n",
    "covs$GAinS.ID[ga.prefix.index] <- gsub(\"^GA\", \"\", covs$GAinS.ID[ga.prefix.index])\n",
    "covs$Sample.ID[ga.prefix.index] <- gsub(\"^GA\", \"\", covs$Sample.ID[ga.prefix.index])"
   ]
  },
  {
   "cell_type": "code",
   "execution_count": 6,
   "id": "778d7314-6a62-4e86-a35a-68daaabfe7d5",
   "metadata": {},
   "outputs": [
    {
     "data": {
      "text/html": [
       "<table class=\"dataframe\">\n",
       "<caption>A data.frame: 6 × 43</caption>\n",
       "<thead>\n",
       "\t<tr><th></th><th scope=col>Neutrophils</th><th scope=col>Lymphocytes</th><th scope=col>Monocytes</th><th scope=col>PC1</th><th scope=col>PC2</th><th scope=col>PC3</th><th scope=col>PC4</th><th scope=col>PC5</th><th scope=col>PC6</th><th scope=col>PC7</th><th scope=col>⋯</th><th scope=col>PEER_21</th><th scope=col>PEER_22</th><th scope=col>PEER_23</th><th scope=col>PEER_24</th><th scope=col>PEER_25</th><th scope=col>PEER_26</th><th scope=col>PEER_27</th><th scope=col>PEER_28</th><th scope=col>PEER_29</th><th scope=col>PEER_30</th></tr>\n",
       "\t<tr><th></th><th scope=col>&lt;dbl&gt;</th><th scope=col>&lt;dbl&gt;</th><th scope=col>&lt;dbl&gt;</th><th scope=col>&lt;dbl&gt;</th><th scope=col>&lt;dbl&gt;</th><th scope=col>&lt;dbl&gt;</th><th scope=col>&lt;dbl&gt;</th><th scope=col>&lt;dbl&gt;</th><th scope=col>&lt;dbl&gt;</th><th scope=col>&lt;dbl&gt;</th><th scope=col>⋯</th><th scope=col>&lt;dbl&gt;</th><th scope=col>&lt;dbl&gt;</th><th scope=col>&lt;dbl&gt;</th><th scope=col>&lt;dbl&gt;</th><th scope=col>&lt;dbl&gt;</th><th scope=col>&lt;dbl&gt;</th><th scope=col>&lt;dbl&gt;</th><th scope=col>&lt;dbl&gt;</th><th scope=col>&lt;dbl&gt;</th><th scope=col>&lt;dbl&gt;</th></tr>\n",
       "</thead>\n",
       "<tbody>\n",
       "\t<tr><th scope=row>UK01050129_5</th><td>-1.7381318</td><td> 1.8281826</td><td> 1.2829455</td><td> 0.177279994</td><td> 0.051694602</td><td>0.02486030</td><td>-0.035102502</td><td>-0.00455149</td><td>-0.0603707</td><td> 0.03964880</td><td>⋯</td><td>-0.001172263</td><td>-0.05533835</td><td> 0.049742281</td><td> 0.03725176</td><td> 0.04495762</td><td> 0.12696229</td><td> 0.08175036</td><td> 0.05295999</td><td>0.164950684</td><td>-0.10379386</td></tr>\n",
       "\t<tr><th scope=row>UK01060123_3</th><td>-0.3845370</td><td> 0.3878375</td><td> 0.4548023</td><td>-0.000388133</td><td>-0.000674099</td><td>0.00810357</td><td> 0.000212791</td><td> 0.03396150</td><td> 0.0266317</td><td>-0.01885280</td><td>⋯</td><td>-0.012723563</td><td> 0.02226736</td><td>-0.027520355</td><td>-0.05782387</td><td> 0.03653939</td><td> 0.05959492</td><td>-0.02611259</td><td>-0.01790827</td><td>0.012047987</td><td> 0.05554044</td></tr>\n",
       "\t<tr><th scope=row>UK01070117_3</th><td>-0.7738039</td><td> 0.5846032</td><td> 0.9325467</td><td> 0.016432300</td><td>-0.048464298</td><td>0.00813966</td><td>-0.047699600</td><td>-0.07926830</td><td> 0.0263629</td><td>-0.08224740</td><td>⋯</td><td> 0.040162142</td><td> 0.06840651</td><td> 0.000062529</td><td> 0.05292596</td><td> 0.01705806</td><td> 0.05931079</td><td> 0.08962730</td><td> 0.03772458</td><td>0.008254956</td><td>-0.01570964</td></tr>\n",
       "\t<tr><th scope=row>UK01080111_1</th><td> 0.1305646</td><td> 0.2888638</td><td>-0.6232047</td><td> 0.161789000</td><td> 0.036224801</td><td>0.00467903</td><td>-0.048611499</td><td> 0.00180036</td><td>-0.0352357</td><td> 0.05012510</td><td>⋯</td><td>-0.002928361</td><td>-0.03274319</td><td> 0.088269033</td><td> 0.07396927</td><td>-0.01906336</td><td> 0.02454052</td><td> 0.04243371</td><td> 0.03055887</td><td>0.123383760</td><td>-0.02276623</td></tr>\n",
       "\t<tr><th scope=row>UK01110093_1</th><td> 1.0909779</td><td>-1.2488160</td><td>-0.4429439</td><td>-0.006296720</td><td> 0.002821510</td><td>0.00699239</td><td> 0.004351650</td><td> 0.00268802</td><td> 0.0166922</td><td>-0.00733983</td><td>⋯</td><td>-0.108193189</td><td> 0.01590979</td><td>-0.093242317</td><td>-0.03037383</td><td>-0.07385907</td><td>-0.05968965</td><td> 0.09695430</td><td>-0.03975484</td><td>0.130198911</td><td>-0.05011296</td></tr>\n",
       "\t<tr><th scope=row>UK01110093_5</th><td> 0.2302416</td><td> 0.0000000</td><td>-0.3306479</td><td>-0.006296720</td><td> 0.002821510</td><td>0.00699239</td><td> 0.004351650</td><td> 0.00268802</td><td> 0.0166922</td><td>-0.00733983</td><td>⋯</td><td>-0.018054215</td><td> 0.02094322</td><td>-0.008623131</td><td> 0.09560122</td><td>-0.07802416</td><td> 0.02365689</td><td> 0.08040638</td><td>-0.02349218</td><td>0.189585552</td><td>-0.07635343</td></tr>\n",
       "</tbody>\n",
       "</table>\n"
      ],
      "text/latex": [
       "A data.frame: 6 × 43\n",
       "\\begin{tabular}{r|lllllllllllllllllllll}\n",
       "  & Neutrophils & Lymphocytes & Monocytes & PC1 & PC2 & PC3 & PC4 & PC5 & PC6 & PC7 & ⋯ & PEER\\_21 & PEER\\_22 & PEER\\_23 & PEER\\_24 & PEER\\_25 & PEER\\_26 & PEER\\_27 & PEER\\_28 & PEER\\_29 & PEER\\_30\\\\\n",
       "  & <dbl> & <dbl> & <dbl> & <dbl> & <dbl> & <dbl> & <dbl> & <dbl> & <dbl> & <dbl> & ⋯ & <dbl> & <dbl> & <dbl> & <dbl> & <dbl> & <dbl> & <dbl> & <dbl> & <dbl> & <dbl>\\\\\n",
       "\\hline\n",
       "\tUK01050129\\_5 & -1.7381318 &  1.8281826 &  1.2829455 &  0.177279994 &  0.051694602 & 0.02486030 & -0.035102502 & -0.00455149 & -0.0603707 &  0.03964880 & ⋯ & -0.001172263 & -0.05533835 &  0.049742281 &  0.03725176 &  0.04495762 &  0.12696229 &  0.08175036 &  0.05295999 & 0.164950684 & -0.10379386\\\\\n",
       "\tUK01060123\\_3 & -0.3845370 &  0.3878375 &  0.4548023 & -0.000388133 & -0.000674099 & 0.00810357 &  0.000212791 &  0.03396150 &  0.0266317 & -0.01885280 & ⋯ & -0.012723563 &  0.02226736 & -0.027520355 & -0.05782387 &  0.03653939 &  0.05959492 & -0.02611259 & -0.01790827 & 0.012047987 &  0.05554044\\\\\n",
       "\tUK01070117\\_3 & -0.7738039 &  0.5846032 &  0.9325467 &  0.016432300 & -0.048464298 & 0.00813966 & -0.047699600 & -0.07926830 &  0.0263629 & -0.08224740 & ⋯ &  0.040162142 &  0.06840651 &  0.000062529 &  0.05292596 &  0.01705806 &  0.05931079 &  0.08962730 &  0.03772458 & 0.008254956 & -0.01570964\\\\\n",
       "\tUK01080111\\_1 &  0.1305646 &  0.2888638 & -0.6232047 &  0.161789000 &  0.036224801 & 0.00467903 & -0.048611499 &  0.00180036 & -0.0352357 &  0.05012510 & ⋯ & -0.002928361 & -0.03274319 &  0.088269033 &  0.07396927 & -0.01906336 &  0.02454052 &  0.04243371 &  0.03055887 & 0.123383760 & -0.02276623\\\\\n",
       "\tUK01110093\\_1 &  1.0909779 & -1.2488160 & -0.4429439 & -0.006296720 &  0.002821510 & 0.00699239 &  0.004351650 &  0.00268802 &  0.0166922 & -0.00733983 & ⋯ & -0.108193189 &  0.01590979 & -0.093242317 & -0.03037383 & -0.07385907 & -0.05968965 &  0.09695430 & -0.03975484 & 0.130198911 & -0.05011296\\\\\n",
       "\tUK01110093\\_5 &  0.2302416 &  0.0000000 & -0.3306479 & -0.006296720 &  0.002821510 & 0.00699239 &  0.004351650 &  0.00268802 &  0.0166922 & -0.00733983 & ⋯ & -0.018054215 &  0.02094322 & -0.008623131 &  0.09560122 & -0.07802416 &  0.02365689 &  0.08040638 & -0.02349218 & 0.189585552 & -0.07635343\\\\\n",
       "\\end{tabular}\n"
      ],
      "text/markdown": [
       "\n",
       "A data.frame: 6 × 43\n",
       "\n",
       "| <!--/--> | Neutrophils &lt;dbl&gt; | Lymphocytes &lt;dbl&gt; | Monocytes &lt;dbl&gt; | PC1 &lt;dbl&gt; | PC2 &lt;dbl&gt; | PC3 &lt;dbl&gt; | PC4 &lt;dbl&gt; | PC5 &lt;dbl&gt; | PC6 &lt;dbl&gt; | PC7 &lt;dbl&gt; | ⋯ ⋯ | PEER_21 &lt;dbl&gt; | PEER_22 &lt;dbl&gt; | PEER_23 &lt;dbl&gt; | PEER_24 &lt;dbl&gt; | PEER_25 &lt;dbl&gt; | PEER_26 &lt;dbl&gt; | PEER_27 &lt;dbl&gt; | PEER_28 &lt;dbl&gt; | PEER_29 &lt;dbl&gt; | PEER_30 &lt;dbl&gt; |\n",
       "|---|---|---|---|---|---|---|---|---|---|---|---|---|---|---|---|---|---|---|---|---|---|\n",
       "| UK01050129_5 | -1.7381318 |  1.8281826 |  1.2829455 |  0.177279994 |  0.051694602 | 0.02486030 | -0.035102502 | -0.00455149 | -0.0603707 |  0.03964880 | ⋯ | -0.001172263 | -0.05533835 |  0.049742281 |  0.03725176 |  0.04495762 |  0.12696229 |  0.08175036 |  0.05295999 | 0.164950684 | -0.10379386 |\n",
       "| UK01060123_3 | -0.3845370 |  0.3878375 |  0.4548023 | -0.000388133 | -0.000674099 | 0.00810357 |  0.000212791 |  0.03396150 |  0.0266317 | -0.01885280 | ⋯ | -0.012723563 |  0.02226736 | -0.027520355 | -0.05782387 |  0.03653939 |  0.05959492 | -0.02611259 | -0.01790827 | 0.012047987 |  0.05554044 |\n",
       "| UK01070117_3 | -0.7738039 |  0.5846032 |  0.9325467 |  0.016432300 | -0.048464298 | 0.00813966 | -0.047699600 | -0.07926830 |  0.0263629 | -0.08224740 | ⋯ |  0.040162142 |  0.06840651 |  0.000062529 |  0.05292596 |  0.01705806 |  0.05931079 |  0.08962730 |  0.03772458 | 0.008254956 | -0.01570964 |\n",
       "| UK01080111_1 |  0.1305646 |  0.2888638 | -0.6232047 |  0.161789000 |  0.036224801 | 0.00467903 | -0.048611499 |  0.00180036 | -0.0352357 |  0.05012510 | ⋯ | -0.002928361 | -0.03274319 |  0.088269033 |  0.07396927 | -0.01906336 |  0.02454052 |  0.04243371 |  0.03055887 | 0.123383760 | -0.02276623 |\n",
       "| UK01110093_1 |  1.0909779 | -1.2488160 | -0.4429439 | -0.006296720 |  0.002821510 | 0.00699239 |  0.004351650 |  0.00268802 |  0.0166922 | -0.00733983 | ⋯ | -0.108193189 |  0.01590979 | -0.093242317 | -0.03037383 | -0.07385907 | -0.05968965 |  0.09695430 | -0.03975484 | 0.130198911 | -0.05011296 |\n",
       "| UK01110093_5 |  0.2302416 |  0.0000000 | -0.3306479 | -0.006296720 |  0.002821510 | 0.00699239 |  0.004351650 |  0.00268802 |  0.0166922 | -0.00733983 | ⋯ | -0.018054215 |  0.02094322 | -0.008623131 |  0.09560122 | -0.07802416 |  0.02365689 |  0.08040638 | -0.02349218 | 0.189585552 | -0.07635343 |\n",
       "\n"
      ],
      "text/plain": [
       "             Neutrophils Lymphocytes Monocytes  PC1          PC2         \n",
       "UK01050129_5 -1.7381318   1.8281826   1.2829455  0.177279994  0.051694602\n",
       "UK01060123_3 -0.3845370   0.3878375   0.4548023 -0.000388133 -0.000674099\n",
       "UK01070117_3 -0.7738039   0.5846032   0.9325467  0.016432300 -0.048464298\n",
       "UK01080111_1  0.1305646   0.2888638  -0.6232047  0.161789000  0.036224801\n",
       "UK01110093_1  1.0909779  -1.2488160  -0.4429439 -0.006296720  0.002821510\n",
       "UK01110093_5  0.2302416   0.0000000  -0.3306479 -0.006296720  0.002821510\n",
       "             PC3        PC4          PC5         PC6        PC7         ⋯\n",
       "UK01050129_5 0.02486030 -0.035102502 -0.00455149 -0.0603707  0.03964880 ⋯\n",
       "UK01060123_3 0.00810357  0.000212791  0.03396150  0.0266317 -0.01885280 ⋯\n",
       "UK01070117_3 0.00813966 -0.047699600 -0.07926830  0.0263629 -0.08224740 ⋯\n",
       "UK01080111_1 0.00467903 -0.048611499  0.00180036 -0.0352357  0.05012510 ⋯\n",
       "UK01110093_1 0.00699239  0.004351650  0.00268802  0.0166922 -0.00733983 ⋯\n",
       "UK01110093_5 0.00699239  0.004351650  0.00268802  0.0166922 -0.00733983 ⋯\n",
       "             PEER_21      PEER_22     PEER_23      PEER_24     PEER_25    \n",
       "UK01050129_5 -0.001172263 -0.05533835  0.049742281  0.03725176  0.04495762\n",
       "UK01060123_3 -0.012723563  0.02226736 -0.027520355 -0.05782387  0.03653939\n",
       "UK01070117_3  0.040162142  0.06840651  0.000062529  0.05292596  0.01705806\n",
       "UK01080111_1 -0.002928361 -0.03274319  0.088269033  0.07396927 -0.01906336\n",
       "UK01110093_1 -0.108193189  0.01590979 -0.093242317 -0.03037383 -0.07385907\n",
       "UK01110093_5 -0.018054215  0.02094322 -0.008623131  0.09560122 -0.07802416\n",
       "             PEER_26     PEER_27     PEER_28     PEER_29     PEER_30    \n",
       "UK01050129_5  0.12696229  0.08175036  0.05295999 0.164950684 -0.10379386\n",
       "UK01060123_3  0.05959492 -0.02611259 -0.01790827 0.012047987  0.05554044\n",
       "UK01070117_3  0.05931079  0.08962730  0.03772458 0.008254956 -0.01570964\n",
       "UK01080111_1  0.02454052  0.04243371  0.03055887 0.123383760 -0.02276623\n",
       "UK01110093_1 -0.05968965  0.09695430 -0.03975484 0.130198911 -0.05011296\n",
       "UK01110093_5  0.02365689  0.08040638 -0.02349218 0.189585552 -0.07635343"
      ]
     },
     "metadata": {},
     "output_type": "display_data"
    }
   ],
   "source": [
    "held.out <- c(\"Neutrophils\", \"Lymphocytes\", \"Monocytes\", paste0(\"PC\", 1:7), \"Diagnosis\", \"SRSq\", \"sex\")\n",
    "peer <- paste0(\"PEER_\", 1:30)\n",
    "\n",
    "covs <- covs %>%\n",
    "    merge(., demographics, by.x=\"GAinS.ID\", by.y=\"SubjectBarCode\") %>%\n",
    "    merge(., srs.info, by.x=\"Sample.ID\", by.y=0) %>%\n",
    "    dplyr::select(diagnosis=diagnosis, everything()) %>%\n",
    "    dplyr::select(Sample.ID, any_of(held.out), any_of(peer)) %>%\n",
    "    as.data.frame()\n",
    "                                  \n",
    "rownames(covs) <- covs$Sample.ID\n",
    "covs <- covs %>%\n",
    "    dplyr::select(-Sample.ID)\n",
    "                                  \n",
    "head(covs)"
   ]
  },
  {
   "cell_type": "code",
   "execution_count": 7,
   "id": "31b17104-f1be-4f75-a7c2-791888eb337f",
   "metadata": {},
   "outputs": [
    {
     "data": {
      "text/html": [
       "<table class=\"dataframe\">\n",
       "<caption>A data.frame: 6 × 13</caption>\n",
       "<thead>\n",
       "\t<tr><th></th><th scope=col>ME_1</th><th scope=col>ME_2</th><th scope=col>ME_3</th><th scope=col>ME_4</th><th scope=col>ME_5</th><th scope=col>ME_6</th><th scope=col>ME_7</th><th scope=col>ME_8</th><th scope=col>ME_9</th><th scope=col>ME_10</th><th scope=col>ME_11</th><th scope=col>ME_12</th><th scope=col>ME_13</th></tr>\n",
       "\t<tr><th></th><th scope=col>&lt;dbl&gt;</th><th scope=col>&lt;dbl&gt;</th><th scope=col>&lt;dbl&gt;</th><th scope=col>&lt;dbl&gt;</th><th scope=col>&lt;dbl&gt;</th><th scope=col>&lt;dbl&gt;</th><th scope=col>&lt;dbl&gt;</th><th scope=col>&lt;dbl&gt;</th><th scope=col>&lt;dbl&gt;</th><th scope=col>&lt;dbl&gt;</th><th scope=col>&lt;dbl&gt;</th><th scope=col>&lt;dbl&gt;</th><th scope=col>&lt;dbl&gt;</th></tr>\n",
       "</thead>\n",
       "<tbody>\n",
       "\t<tr><th scope=row>UK02270173_3</th><td>-0.026880028</td><td> 0.024754255</td><td>-0.049255630</td><td>-0.0011365576</td><td>-0.02004220</td><td>-0.011621161</td><td>-0.048982210</td><td> 0.001510054</td><td>-0.03801025</td><td> 0.001552109</td><td> 0.002506806</td><td>-0.01010815</td><td>-0.018126419</td></tr>\n",
       "\t<tr><th scope=row>UK15130120_3</th><td>-0.012686164</td><td>-0.012329614</td><td>-0.049890308</td><td> 0.0117096753</td><td>-0.05134518</td><td> 0.011795701</td><td>-0.032446820</td><td>-0.006916683</td><td>-0.01832666</td><td> 0.022868622</td><td> 0.023239704</td><td>-0.01033057</td><td>-0.001873539</td></tr>\n",
       "\t<tr><th scope=row>UK58000006_3</th><td>-0.007422916</td><td> 0.019682349</td><td>-0.003439649</td><td>-0.0004373064</td><td> 0.01823638</td><td>-0.037003556</td><td>-0.026203330</td><td> 0.013285317</td><td>-0.00654476</td><td>-0.034106149</td><td>-0.033193160</td><td> 0.01994496</td><td> 0.021248987</td></tr>\n",
       "\t<tr><th scope=row>UK47010004_3</th><td> 0.010860942</td><td> 0.005580810</td><td>-0.001070395</td><td>-0.0123976557</td><td> 0.01688644</td><td>-0.002396543</td><td> 0.010436675</td><td>-0.009976259</td><td>-0.03845000</td><td> 0.044978110</td><td> 0.013607013</td><td>-0.04736191</td><td>-0.021150863</td></tr>\n",
       "\t<tr><th scope=row>UK42020088_5</th><td>-0.020354540</td><td> 0.013730057</td><td>-0.005233625</td><td>-0.0288076192</td><td>-0.01357106</td><td> 0.034517070</td><td>-0.003360994</td><td> 0.013865936</td><td>-0.03183148</td><td>-0.032342665</td><td>-0.018588091</td><td> 0.02292120</td><td> 0.003827274</td></tr>\n",
       "\t<tr><th scope=row>UK47490007_3</th><td> 0.007358504</td><td>-0.007576762</td><td>-0.004897662</td><td>-0.0114631104</td><td>-0.02199959</td><td> 0.033353492</td><td> 0.015936130</td><td>-0.046998162</td><td>-0.01985218</td><td> 0.043605091</td><td> 0.074601996</td><td>-0.02636748</td><td>-0.015488821</td></tr>\n",
       "</tbody>\n",
       "</table>\n"
      ],
      "text/latex": [
       "A data.frame: 6 × 13\n",
       "\\begin{tabular}{r|lllllllllllll}\n",
       "  & ME\\_1 & ME\\_2 & ME\\_3 & ME\\_4 & ME\\_5 & ME\\_6 & ME\\_7 & ME\\_8 & ME\\_9 & ME\\_10 & ME\\_11 & ME\\_12 & ME\\_13\\\\\n",
       "  & <dbl> & <dbl> & <dbl> & <dbl> & <dbl> & <dbl> & <dbl> & <dbl> & <dbl> & <dbl> & <dbl> & <dbl> & <dbl>\\\\\n",
       "\\hline\n",
       "\tUK02270173\\_3 & -0.026880028 &  0.024754255 & -0.049255630 & -0.0011365576 & -0.02004220 & -0.011621161 & -0.048982210 &  0.001510054 & -0.03801025 &  0.001552109 &  0.002506806 & -0.01010815 & -0.018126419\\\\\n",
       "\tUK15130120\\_3 & -0.012686164 & -0.012329614 & -0.049890308 &  0.0117096753 & -0.05134518 &  0.011795701 & -0.032446820 & -0.006916683 & -0.01832666 &  0.022868622 &  0.023239704 & -0.01033057 & -0.001873539\\\\\n",
       "\tUK58000006\\_3 & -0.007422916 &  0.019682349 & -0.003439649 & -0.0004373064 &  0.01823638 & -0.037003556 & -0.026203330 &  0.013285317 & -0.00654476 & -0.034106149 & -0.033193160 &  0.01994496 &  0.021248987\\\\\n",
       "\tUK47010004\\_3 &  0.010860942 &  0.005580810 & -0.001070395 & -0.0123976557 &  0.01688644 & -0.002396543 &  0.010436675 & -0.009976259 & -0.03845000 &  0.044978110 &  0.013607013 & -0.04736191 & -0.021150863\\\\\n",
       "\tUK42020088\\_5 & -0.020354540 &  0.013730057 & -0.005233625 & -0.0288076192 & -0.01357106 &  0.034517070 & -0.003360994 &  0.013865936 & -0.03183148 & -0.032342665 & -0.018588091 &  0.02292120 &  0.003827274\\\\\n",
       "\tUK47490007\\_3 &  0.007358504 & -0.007576762 & -0.004897662 & -0.0114631104 & -0.02199959 &  0.033353492 &  0.015936130 & -0.046998162 & -0.01985218 &  0.043605091 &  0.074601996 & -0.02636748 & -0.015488821\\\\\n",
       "\\end{tabular}\n"
      ],
      "text/markdown": [
       "\n",
       "A data.frame: 6 × 13\n",
       "\n",
       "| <!--/--> | ME_1 &lt;dbl&gt; | ME_2 &lt;dbl&gt; | ME_3 &lt;dbl&gt; | ME_4 &lt;dbl&gt; | ME_5 &lt;dbl&gt; | ME_6 &lt;dbl&gt; | ME_7 &lt;dbl&gt; | ME_8 &lt;dbl&gt; | ME_9 &lt;dbl&gt; | ME_10 &lt;dbl&gt; | ME_11 &lt;dbl&gt; | ME_12 &lt;dbl&gt; | ME_13 &lt;dbl&gt; |\n",
       "|---|---|---|---|---|---|---|---|---|---|---|---|---|---|\n",
       "| UK02270173_3 | -0.026880028 |  0.024754255 | -0.049255630 | -0.0011365576 | -0.02004220 | -0.011621161 | -0.048982210 |  0.001510054 | -0.03801025 |  0.001552109 |  0.002506806 | -0.01010815 | -0.018126419 |\n",
       "| UK15130120_3 | -0.012686164 | -0.012329614 | -0.049890308 |  0.0117096753 | -0.05134518 |  0.011795701 | -0.032446820 | -0.006916683 | -0.01832666 |  0.022868622 |  0.023239704 | -0.01033057 | -0.001873539 |\n",
       "| UK58000006_3 | -0.007422916 |  0.019682349 | -0.003439649 | -0.0004373064 |  0.01823638 | -0.037003556 | -0.026203330 |  0.013285317 | -0.00654476 | -0.034106149 | -0.033193160 |  0.01994496 |  0.021248987 |\n",
       "| UK47010004_3 |  0.010860942 |  0.005580810 | -0.001070395 | -0.0123976557 |  0.01688644 | -0.002396543 |  0.010436675 | -0.009976259 | -0.03845000 |  0.044978110 |  0.013607013 | -0.04736191 | -0.021150863 |\n",
       "| UK42020088_5 | -0.020354540 |  0.013730057 | -0.005233625 | -0.0288076192 | -0.01357106 |  0.034517070 | -0.003360994 |  0.013865936 | -0.03183148 | -0.032342665 | -0.018588091 |  0.02292120 |  0.003827274 |\n",
       "| UK47490007_3 |  0.007358504 | -0.007576762 | -0.004897662 | -0.0114631104 | -0.02199959 |  0.033353492 |  0.015936130 | -0.046998162 | -0.01985218 |  0.043605091 |  0.074601996 | -0.02636748 | -0.015488821 |\n",
       "\n"
      ],
      "text/plain": [
       "             ME_1         ME_2         ME_3         ME_4          ME_5       \n",
       "UK02270173_3 -0.026880028  0.024754255 -0.049255630 -0.0011365576 -0.02004220\n",
       "UK15130120_3 -0.012686164 -0.012329614 -0.049890308  0.0117096753 -0.05134518\n",
       "UK58000006_3 -0.007422916  0.019682349 -0.003439649 -0.0004373064  0.01823638\n",
       "UK47010004_3  0.010860942  0.005580810 -0.001070395 -0.0123976557  0.01688644\n",
       "UK42020088_5 -0.020354540  0.013730057 -0.005233625 -0.0288076192 -0.01357106\n",
       "UK47490007_3  0.007358504 -0.007576762 -0.004897662 -0.0114631104 -0.02199959\n",
       "             ME_6         ME_7         ME_8         ME_9        ME_10       \n",
       "UK02270173_3 -0.011621161 -0.048982210  0.001510054 -0.03801025  0.001552109\n",
       "UK15130120_3  0.011795701 -0.032446820 -0.006916683 -0.01832666  0.022868622\n",
       "UK58000006_3 -0.037003556 -0.026203330  0.013285317 -0.00654476 -0.034106149\n",
       "UK47010004_3 -0.002396543  0.010436675 -0.009976259 -0.03845000  0.044978110\n",
       "UK42020088_5  0.034517070 -0.003360994  0.013865936 -0.03183148 -0.032342665\n",
       "UK47490007_3  0.033353492  0.015936130 -0.046998162 -0.01985218  0.043605091\n",
       "             ME_11        ME_12       ME_13       \n",
       "UK02270173_3  0.002506806 -0.01010815 -0.018126419\n",
       "UK15130120_3  0.023239704 -0.01033057 -0.001873539\n",
       "UK58000006_3 -0.033193160  0.01994496  0.021248987\n",
       "UK47010004_3  0.013607013 -0.04736191 -0.021150863\n",
       "UK42020088_5 -0.018588091  0.02292120  0.003827274\n",
       "UK47490007_3  0.074601996 -0.02636748 -0.015488821"
      ]
     },
     "metadata": {},
     "output_type": "display_data"
    }
   ],
   "source": [
    "eigengenes <- read.csv(\"~/gains_team282/nikhil/expression/gene_expression/eigengenes.clr.csv\", row.names=1)\n",
    "\n",
    "head(eigengenes)"
   ]
  },
  {
   "cell_type": "code",
   "execution_count": 8,
   "id": "8a7417ee-130b-40aa-a038-c5e5416e5e92",
   "metadata": {},
   "outputs": [],
   "source": [
    "modules <- read.csv(\"~/gains_team282/nikhil/expression/gene_expression/modules.clr.csv\")"
   ]
  },
  {
   "cell_type": "code",
   "execution_count": 9,
   "id": "bb7738d0-5663-422e-a78d-c79d58a1f014",
   "metadata": {},
   "outputs": [
    {
     "data": {
      "text/html": [
       "<table class=\"dataframe\">\n",
       "<caption>A data.frame: 6 × 3</caption>\n",
       "<thead>\n",
       "\t<tr><th></th><th scope=col>Gene</th><th scope=col>Module</th><th scope=col>Module.Pruned</th></tr>\n",
       "\t<tr><th></th><th scope=col>&lt;chr&gt;</th><th scope=col>&lt;chr&gt;</th><th scope=col>&lt;chr&gt;</th></tr>\n",
       "</thead>\n",
       "<tbody>\n",
       "\t<tr><th scope=row>1</th><td>ENSG00000002549</td><td>Unassigned</td><td>Unassigned</td></tr>\n",
       "\t<tr><th scope=row>2</th><td>ENSG00000004534</td><td>Unassigned</td><td>Unassigned</td></tr>\n",
       "\t<tr><th scope=row>3</th><td>ENSG00000004799</td><td>Unassigned</td><td>Unassigned</td></tr>\n",
       "\t<tr><th scope=row>4</th><td>ENSG00000005379</td><td>Unassigned</td><td>Unassigned</td></tr>\n",
       "\t<tr><th scope=row>5</th><td>ENSG00000006468</td><td>Unassigned</td><td>Unassigned</td></tr>\n",
       "\t<tr><th scope=row>6</th><td>ENSG00000006757</td><td>Unassigned</td><td>Unassigned</td></tr>\n",
       "</tbody>\n",
       "</table>\n"
      ],
      "text/latex": [
       "A data.frame: 6 × 3\n",
       "\\begin{tabular}{r|lll}\n",
       "  & Gene & Module & Module.Pruned\\\\\n",
       "  & <chr> & <chr> & <chr>\\\\\n",
       "\\hline\n",
       "\t1 & ENSG00000002549 & Unassigned & Unassigned\\\\\n",
       "\t2 & ENSG00000004534 & Unassigned & Unassigned\\\\\n",
       "\t3 & ENSG00000004799 & Unassigned & Unassigned\\\\\n",
       "\t4 & ENSG00000005379 & Unassigned & Unassigned\\\\\n",
       "\t5 & ENSG00000006468 & Unassigned & Unassigned\\\\\n",
       "\t6 & ENSG00000006757 & Unassigned & Unassigned\\\\\n",
       "\\end{tabular}\n"
      ],
      "text/markdown": [
       "\n",
       "A data.frame: 6 × 3\n",
       "\n",
       "| <!--/--> | Gene &lt;chr&gt; | Module &lt;chr&gt; | Module.Pruned &lt;chr&gt; |\n",
       "|---|---|---|---|\n",
       "| 1 | ENSG00000002549 | Unassigned | Unassigned |\n",
       "| 2 | ENSG00000004534 | Unassigned | Unassigned |\n",
       "| 3 | ENSG00000004799 | Unassigned | Unassigned |\n",
       "| 4 | ENSG00000005379 | Unassigned | Unassigned |\n",
       "| 5 | ENSG00000006468 | Unassigned | Unassigned |\n",
       "| 6 | ENSG00000006757 | Unassigned | Unassigned |\n",
       "\n"
      ],
      "text/plain": [
       "  Gene            Module     Module.Pruned\n",
       "1 ENSG00000002549 Unassigned Unassigned   \n",
       "2 ENSG00000004534 Unassigned Unassigned   \n",
       "3 ENSG00000004799 Unassigned Unassigned   \n",
       "4 ENSG00000005379 Unassigned Unassigned   \n",
       "5 ENSG00000006468 Unassigned Unassigned   \n",
       "6 ENSG00000006757 Unassigned Unassigned   "
      ]
     },
     "metadata": {},
     "output_type": "display_data"
    }
   ],
   "source": [
    "head(modules)"
   ]
  },
  {
   "cell_type": "code",
   "execution_count": 10,
   "id": "1922a085-a8f3-4bd1-b57b-9126d6f19dd6",
   "metadata": {},
   "outputs": [],
   "source": [
    "gene.exp <- read.table(\"/lustre/scratch119/humgen/projects/gains_team282/eqtl/data/logcpm_864_20412_hla.txt\")"
   ]
  },
  {
   "cell_type": "code",
   "execution_count": 11,
   "id": "50739ed4-280a-427d-8b7d-55e9ce0cb2aa",
   "metadata": {},
   "outputs": [
    {
     "data": {
      "text/html": [
       "<table class=\"dataframe\">\n",
       "<caption>A data.frame: 6 × 864</caption>\n",
       "<thead>\n",
       "\t<tr><th></th><th scope=col>UK02270173_3</th><th scope=col>UK15130120_3</th><th scope=col>UK58000006_3</th><th scope=col>UK47010004_3</th><th scope=col>UK42020088_5</th><th scope=col>UK47490007_3</th><th scope=col>UK02770164_3</th><th scope=col>UK02770164_5</th><th scope=col>UK02630151_3</th><th scope=col>UK42150107_1</th><th scope=col>⋯</th><th scope=col>UK59070043_3</th><th scope=col>UK59070043_5</th><th scope=col>UK02510223_3</th><th scope=col>UK02XX0336_5</th><th scope=col>UK29090086_3</th><th scope=col>UK02XX0335_1</th><th scope=col>UK02XX0334_3</th><th scope=col>UK01210130_3</th><th scope=col>UK01210130_5</th><th scope=col>UK01380125_1</th></tr>\n",
       "\t<tr><th></th><th scope=col>&lt;dbl&gt;</th><th scope=col>&lt;dbl&gt;</th><th scope=col>&lt;dbl&gt;</th><th scope=col>&lt;dbl&gt;</th><th scope=col>&lt;dbl&gt;</th><th scope=col>&lt;dbl&gt;</th><th scope=col>&lt;dbl&gt;</th><th scope=col>&lt;dbl&gt;</th><th scope=col>&lt;dbl&gt;</th><th scope=col>&lt;dbl&gt;</th><th scope=col>⋯</th><th scope=col>&lt;dbl&gt;</th><th scope=col>&lt;dbl&gt;</th><th scope=col>&lt;dbl&gt;</th><th scope=col>&lt;dbl&gt;</th><th scope=col>&lt;dbl&gt;</th><th scope=col>&lt;dbl&gt;</th><th scope=col>&lt;dbl&gt;</th><th scope=col>&lt;dbl&gt;</th><th scope=col>&lt;dbl&gt;</th><th scope=col>&lt;dbl&gt;</th></tr>\n",
       "</thead>\n",
       "<tbody>\n",
       "\t<tr><th scope=row>ENSG00000230521</th><td>0.6644339</td><td>0.58271604</td><td>0.4046756</td><td>0.20905157</td><td>0.2211571</td><td>0.4288519</td><td>0.5133516</td><td>0.57768877</td><td>0.6990766</td><td>0.3812037</td><td>⋯</td><td>0.3823184</td><td>0.5423684</td><td>0.86762630</td><td>0.73833461</td><td>0.6461583</td><td>0.1227063</td><td>0.9621386</td><td>0.65838459</td><td>1.03561474</td><td>0.4457301</td></tr>\n",
       "\t<tr><th scope=row>ENSG00000225864</th><td>0.9817872</td><td>0.43879936</td><td>0.6022344</td><td>0.92340489</td><td>0.2211571</td><td>1.1450686</td><td>0.1921362</td><td>0.57768877</td><td>0.1974851</td><td>1.2290495</td><td>⋯</td><td>0.6842527</td><td>0.8539227</td><td>0.91886777</td><td>0.12581620</td><td>0.5511865</td><td>0.4384007</td><td>0.5465139</td><td>0.40803066</td><td>0.46899151</td><td>0.3544115</td></tr>\n",
       "\t<tr><th scope=row>ENSG00000227766</th><td>1.2117156</td><td>0.30682669</td><td>0.6625010</td><td>0.79963286</td><td>0.6445686</td><td>0.3130290</td><td>0.1183231</td><td>0.16750450</td><td>0.1505900</td><td>1.0533199</td><td>⋯</td><td>0.4901384</td><td>0.4340781</td><td>0.37504164</td><td>0.04316943</td><td>0.6151905</td><td>0.3406488</td><td>0.3147798</td><td>0.43511377</td><td>0.17382742</td><td>0.1157514</td></tr>\n",
       "\t<tr><th scope=row>ENSG00000237669</th><td>0.6420763</td><td>0.69256830</td><td>0.9792012</td><td>0.69929584</td><td>0.3765156</td><td>1.0756817</td><td>0.8912050</td><td>0.60129641</td><td>0.8534668</td><td>1.0533199</td><td>⋯</td><td>1.0790156</td><td>0.6102946</td><td>1.03953331</td><td>0.97965846</td><td>0.7061683</td><td>0.7489857</td><td>0.7919934</td><td>0.85168813</td><td>0.69120049</td><td>1.0798771</td></tr>\n",
       "\t<tr><th scope=row>ENSG00000271581</th><td>2.4744895</td><td>1.33153140</td><td>1.8310464</td><td>2.47531701</td><td>1.8812042</td><td>2.0531366</td><td>0.5972544</td><td>1.00686213</td><td>1.2811361</td><td>2.4244938</td><td>⋯</td><td>2.4728831</td><td>1.5338898</td><td>1.59080138</td><td>0.62923925</td><td>1.2804253</td><td>1.4727511</td><td>1.2187650</td><td>1.46471386</td><td>1.44139443</td><td>1.1896250</td></tr>\n",
       "\t<tr><th scope=row>ENSG00000285647</th><td>0.0000000</td><td>0.03379072</td><td>0.0000000</td><td>0.05517067</td><td>0.6748270</td><td>0.0000000</td><td>0.0000000</td><td>0.03509293</td><td>0.6990766</td><td>1.6556266</td><td>⋯</td><td>3.4117627</td><td>2.4012963</td><td>0.04682116</td><td>0.00000000</td><td>0.0000000</td><td>0.4695662</td><td>0.3762952</td><td>0.07078527</td><td>0.07206309</td><td>0.4159282</td></tr>\n",
       "</tbody>\n",
       "</table>\n"
      ],
      "text/latex": [
       "A data.frame: 6 × 864\n",
       "\\begin{tabular}{r|lllllllllllllllllllll}\n",
       "  & UK02270173\\_3 & UK15130120\\_3 & UK58000006\\_3 & UK47010004\\_3 & UK42020088\\_5 & UK47490007\\_3 & UK02770164\\_3 & UK02770164\\_5 & UK02630151\\_3 & UK42150107\\_1 & ⋯ & UK59070043\\_3 & UK59070043\\_5 & UK02510223\\_3 & UK02XX0336\\_5 & UK29090086\\_3 & UK02XX0335\\_1 & UK02XX0334\\_3 & UK01210130\\_3 & UK01210130\\_5 & UK01380125\\_1\\\\\n",
       "  & <dbl> & <dbl> & <dbl> & <dbl> & <dbl> & <dbl> & <dbl> & <dbl> & <dbl> & <dbl> & ⋯ & <dbl> & <dbl> & <dbl> & <dbl> & <dbl> & <dbl> & <dbl> & <dbl> & <dbl> & <dbl>\\\\\n",
       "\\hline\n",
       "\tENSG00000230521 & 0.6644339 & 0.58271604 & 0.4046756 & 0.20905157 & 0.2211571 & 0.4288519 & 0.5133516 & 0.57768877 & 0.6990766 & 0.3812037 & ⋯ & 0.3823184 & 0.5423684 & 0.86762630 & 0.73833461 & 0.6461583 & 0.1227063 & 0.9621386 & 0.65838459 & 1.03561474 & 0.4457301\\\\\n",
       "\tENSG00000225864 & 0.9817872 & 0.43879936 & 0.6022344 & 0.92340489 & 0.2211571 & 1.1450686 & 0.1921362 & 0.57768877 & 0.1974851 & 1.2290495 & ⋯ & 0.6842527 & 0.8539227 & 0.91886777 & 0.12581620 & 0.5511865 & 0.4384007 & 0.5465139 & 0.40803066 & 0.46899151 & 0.3544115\\\\\n",
       "\tENSG00000227766 & 1.2117156 & 0.30682669 & 0.6625010 & 0.79963286 & 0.6445686 & 0.3130290 & 0.1183231 & 0.16750450 & 0.1505900 & 1.0533199 & ⋯ & 0.4901384 & 0.4340781 & 0.37504164 & 0.04316943 & 0.6151905 & 0.3406488 & 0.3147798 & 0.43511377 & 0.17382742 & 0.1157514\\\\\n",
       "\tENSG00000237669 & 0.6420763 & 0.69256830 & 0.9792012 & 0.69929584 & 0.3765156 & 1.0756817 & 0.8912050 & 0.60129641 & 0.8534668 & 1.0533199 & ⋯ & 1.0790156 & 0.6102946 & 1.03953331 & 0.97965846 & 0.7061683 & 0.7489857 & 0.7919934 & 0.85168813 & 0.69120049 & 1.0798771\\\\\n",
       "\tENSG00000271581 & 2.4744895 & 1.33153140 & 1.8310464 & 2.47531701 & 1.8812042 & 2.0531366 & 0.5972544 & 1.00686213 & 1.2811361 & 2.4244938 & ⋯ & 2.4728831 & 1.5338898 & 1.59080138 & 0.62923925 & 1.2804253 & 1.4727511 & 1.2187650 & 1.46471386 & 1.44139443 & 1.1896250\\\\\n",
       "\tENSG00000285647 & 0.0000000 & 0.03379072 & 0.0000000 & 0.05517067 & 0.6748270 & 0.0000000 & 0.0000000 & 0.03509293 & 0.6990766 & 1.6556266 & ⋯ & 3.4117627 & 2.4012963 & 0.04682116 & 0.00000000 & 0.0000000 & 0.4695662 & 0.3762952 & 0.07078527 & 0.07206309 & 0.4159282\\\\\n",
       "\\end{tabular}\n"
      ],
      "text/markdown": [
       "\n",
       "A data.frame: 6 × 864\n",
       "\n",
       "| <!--/--> | UK02270173_3 &lt;dbl&gt; | UK15130120_3 &lt;dbl&gt; | UK58000006_3 &lt;dbl&gt; | UK47010004_3 &lt;dbl&gt; | UK42020088_5 &lt;dbl&gt; | UK47490007_3 &lt;dbl&gt; | UK02770164_3 &lt;dbl&gt; | UK02770164_5 &lt;dbl&gt; | UK02630151_3 &lt;dbl&gt; | UK42150107_1 &lt;dbl&gt; | ⋯ ⋯ | UK59070043_3 &lt;dbl&gt; | UK59070043_5 &lt;dbl&gt; | UK02510223_3 &lt;dbl&gt; | UK02XX0336_5 &lt;dbl&gt; | UK29090086_3 &lt;dbl&gt; | UK02XX0335_1 &lt;dbl&gt; | UK02XX0334_3 &lt;dbl&gt; | UK01210130_3 &lt;dbl&gt; | UK01210130_5 &lt;dbl&gt; | UK01380125_1 &lt;dbl&gt; |\n",
       "|---|---|---|---|---|---|---|---|---|---|---|---|---|---|---|---|---|---|---|---|---|---|\n",
       "| ENSG00000230521 | 0.6644339 | 0.58271604 | 0.4046756 | 0.20905157 | 0.2211571 | 0.4288519 | 0.5133516 | 0.57768877 | 0.6990766 | 0.3812037 | ⋯ | 0.3823184 | 0.5423684 | 0.86762630 | 0.73833461 | 0.6461583 | 0.1227063 | 0.9621386 | 0.65838459 | 1.03561474 | 0.4457301 |\n",
       "| ENSG00000225864 | 0.9817872 | 0.43879936 | 0.6022344 | 0.92340489 | 0.2211571 | 1.1450686 | 0.1921362 | 0.57768877 | 0.1974851 | 1.2290495 | ⋯ | 0.6842527 | 0.8539227 | 0.91886777 | 0.12581620 | 0.5511865 | 0.4384007 | 0.5465139 | 0.40803066 | 0.46899151 | 0.3544115 |\n",
       "| ENSG00000227766 | 1.2117156 | 0.30682669 | 0.6625010 | 0.79963286 | 0.6445686 | 0.3130290 | 0.1183231 | 0.16750450 | 0.1505900 | 1.0533199 | ⋯ | 0.4901384 | 0.4340781 | 0.37504164 | 0.04316943 | 0.6151905 | 0.3406488 | 0.3147798 | 0.43511377 | 0.17382742 | 0.1157514 |\n",
       "| ENSG00000237669 | 0.6420763 | 0.69256830 | 0.9792012 | 0.69929584 | 0.3765156 | 1.0756817 | 0.8912050 | 0.60129641 | 0.8534668 | 1.0533199 | ⋯ | 1.0790156 | 0.6102946 | 1.03953331 | 0.97965846 | 0.7061683 | 0.7489857 | 0.7919934 | 0.85168813 | 0.69120049 | 1.0798771 |\n",
       "| ENSG00000271581 | 2.4744895 | 1.33153140 | 1.8310464 | 2.47531701 | 1.8812042 | 2.0531366 | 0.5972544 | 1.00686213 | 1.2811361 | 2.4244938 | ⋯ | 2.4728831 | 1.5338898 | 1.59080138 | 0.62923925 | 1.2804253 | 1.4727511 | 1.2187650 | 1.46471386 | 1.44139443 | 1.1896250 |\n",
       "| ENSG00000285647 | 0.0000000 | 0.03379072 | 0.0000000 | 0.05517067 | 0.6748270 | 0.0000000 | 0.0000000 | 0.03509293 | 0.6990766 | 1.6556266 | ⋯ | 3.4117627 | 2.4012963 | 0.04682116 | 0.00000000 | 0.0000000 | 0.4695662 | 0.3762952 | 0.07078527 | 0.07206309 | 0.4159282 |\n",
       "\n"
      ],
      "text/plain": [
       "                UK02270173_3 UK15130120_3 UK58000006_3 UK47010004_3\n",
       "ENSG00000230521 0.6644339    0.58271604   0.4046756    0.20905157  \n",
       "ENSG00000225864 0.9817872    0.43879936   0.6022344    0.92340489  \n",
       "ENSG00000227766 1.2117156    0.30682669   0.6625010    0.79963286  \n",
       "ENSG00000237669 0.6420763    0.69256830   0.9792012    0.69929584  \n",
       "ENSG00000271581 2.4744895    1.33153140   1.8310464    2.47531701  \n",
       "ENSG00000285647 0.0000000    0.03379072   0.0000000    0.05517067  \n",
       "                UK42020088_5 UK47490007_3 UK02770164_3 UK02770164_5\n",
       "ENSG00000230521 0.2211571    0.4288519    0.5133516    0.57768877  \n",
       "ENSG00000225864 0.2211571    1.1450686    0.1921362    0.57768877  \n",
       "ENSG00000227766 0.6445686    0.3130290    0.1183231    0.16750450  \n",
       "ENSG00000237669 0.3765156    1.0756817    0.8912050    0.60129641  \n",
       "ENSG00000271581 1.8812042    2.0531366    0.5972544    1.00686213  \n",
       "ENSG00000285647 0.6748270    0.0000000    0.0000000    0.03509293  \n",
       "                UK02630151_3 UK42150107_1 ⋯ UK59070043_3 UK59070043_5\n",
       "ENSG00000230521 0.6990766    0.3812037    ⋯ 0.3823184    0.5423684   \n",
       "ENSG00000225864 0.1974851    1.2290495    ⋯ 0.6842527    0.8539227   \n",
       "ENSG00000227766 0.1505900    1.0533199    ⋯ 0.4901384    0.4340781   \n",
       "ENSG00000237669 0.8534668    1.0533199    ⋯ 1.0790156    0.6102946   \n",
       "ENSG00000271581 1.2811361    2.4244938    ⋯ 2.4728831    1.5338898   \n",
       "ENSG00000285647 0.6990766    1.6556266    ⋯ 3.4117627    2.4012963   \n",
       "                UK02510223_3 UK02XX0336_5 UK29090086_3 UK02XX0335_1\n",
       "ENSG00000230521 0.86762630   0.73833461   0.6461583    0.1227063   \n",
       "ENSG00000225864 0.91886777   0.12581620   0.5511865    0.4384007   \n",
       "ENSG00000227766 0.37504164   0.04316943   0.6151905    0.3406488   \n",
       "ENSG00000237669 1.03953331   0.97965846   0.7061683    0.7489857   \n",
       "ENSG00000271581 1.59080138   0.62923925   1.2804253    1.4727511   \n",
       "ENSG00000285647 0.04682116   0.00000000   0.0000000    0.4695662   \n",
       "                UK02XX0334_3 UK01210130_3 UK01210130_5 UK01380125_1\n",
       "ENSG00000230521 0.9621386    0.65838459   1.03561474   0.4457301   \n",
       "ENSG00000225864 0.5465139    0.40803066   0.46899151   0.3544115   \n",
       "ENSG00000227766 0.3147798    0.43511377   0.17382742   0.1157514   \n",
       "ENSG00000237669 0.7919934    0.85168813   0.69120049   1.0798771   \n",
       "ENSG00000271581 1.2187650    1.46471386   1.44139443   1.1896250   \n",
       "ENSG00000285647 0.3762952    0.07078527   0.07206309   0.4159282   "
      ]
     },
     "metadata": {},
     "output_type": "display_data"
    }
   ],
   "source": [
    "head(gene.exp)"
   ]
  },
  {
   "cell_type": "code",
   "execution_count": 12,
   "id": "973adfd9-7295-45ec-ad6e-65ec926c7841",
   "metadata": {},
   "outputs": [],
   "source": [
    "lead.cis.eqtl <- read.table(\"/nfs/users/nfs_n/nm18/gains_team282/eqtl/cisresults/eigenMT/ciseqtl_eigenMT_corrected.txt\") %>%\n",
    "    dplyr::filter(Sig)"
   ]
  },
  {
   "cell_type": "code",
   "execution_count": 13,
   "id": "f558c85f-1ae0-4c2e-86d8-1de063fe980e",
   "metadata": {},
   "outputs": [
    {
     "data": {
      "text/html": [
       "<table class=\"dataframe\">\n",
       "<caption>A data.frame: 6 × 14</caption>\n",
       "<thead>\n",
       "\t<tr><th></th><th scope=col>snps</th><th scope=col>gene</th><th scope=col>statistic</th><th scope=col>pvalue</th><th scope=col>beta</th><th scope=col>se</th><th scope=col>chr</th><th scope=col>SNPpos</th><th scope=col>TSS</th><th scope=col>BF</th><th scope=col>TESTS</th><th scope=col>BF.FDR</th><th scope=col>Sig</th><th scope=col>threshold</th></tr>\n",
       "\t<tr><th></th><th scope=col>&lt;chr&gt;</th><th scope=col>&lt;chr&gt;</th><th scope=col>&lt;dbl&gt;</th><th scope=col>&lt;dbl&gt;</th><th scope=col>&lt;dbl&gt;</th><th scope=col>&lt;dbl&gt;</th><th scope=col>&lt;int&gt;</th><th scope=col>&lt;int&gt;</th><th scope=col>&lt;int&gt;</th><th scope=col>&lt;dbl&gt;</th><th scope=col>&lt;int&gt;</th><th scope=col>&lt;dbl&gt;</th><th scope=col>&lt;lgl&gt;</th><th scope=col>&lt;dbl&gt;</th></tr>\n",
       "</thead>\n",
       "<tbody>\n",
       "\t<tr><th scope=row>22</th><td>rs3131972 </td><td>ENSG00000237491</td><td> 5.643405</td><td>2.400875e-08</td><td> 0.07174216</td><td>0.012712570</td><td>1</td><td>817341</td><td>778747</td><td>7.058573e-06</td><td>294</td><td>1.993414e-05</td><td>TRUE</td><td>9.170798e-05</td></tr>\n",
       "\t<tr><th scope=row>23</th><td>rs3131972 </td><td>ENSG00000230092</td><td> 4.756587</td><td>2.329109e-06</td><td> 0.06239499</td><td>0.013117600</td><td>1</td><td>817341</td><td>817712</td><td>6.917454e-04</td><td>297</td><td>1.593483e-03</td><td>TRUE</td><td>9.078164e-05</td></tr>\n",
       "\t<tr><th scope=row>25</th><td>rs3131972 </td><td>ENSG00000225880</td><td> 6.292961</td><td>5.949542e-10</td><td> 0.10016770</td><td>0.015917420</td><td>1</td><td>817341</td><td>827522</td><td>1.767014e-07</td><td>297</td><td>5.668498e-07</td><td>TRUE</td><td>9.078164e-05</td></tr>\n",
       "\t<tr><th scope=row>28</th><td>rs2272757 </td><td>ENSG00000188976</td><td>-7.026045</td><td>4.904859e-12</td><td>-0.05107767</td><td>0.007269761</td><td>1</td><td>946247</td><td>959309</td><td>1.545031e-09</td><td>315</td><td>5.762103e-09</td><td>TRUE</td><td>8.559411e-05</td></tr>\n",
       "\t<tr><th scope=row>29</th><td>rs13303327</td><td>ENSG00000187961</td><td>-7.175012</td><td>1.845538e-12</td><td>-0.13519920</td><td>0.018843060</td><td>1</td><td>960326</td><td>960584</td><td>5.813445e-10</td><td>315</td><td>2.228468e-09</td><td>TRUE</td><td>8.559411e-05</td></tr>\n",
       "\t<tr><th scope=row>30</th><td>rs13303056</td><td>ENSG00000187583</td><td>-9.081031</td><td>1.922802e-18</td><td>-0.29633770</td><td>0.032632610</td><td>1</td><td>953778</td><td>966482</td><td>6.056826e-16</td><td>315</td><td>3.262796e-15</td><td>TRUE</td><td>8.559411e-05</td></tr>\n",
       "</tbody>\n",
       "</table>\n"
      ],
      "text/latex": [
       "A data.frame: 6 × 14\n",
       "\\begin{tabular}{r|llllllllllllll}\n",
       "  & snps & gene & statistic & pvalue & beta & se & chr & SNPpos & TSS & BF & TESTS & BF.FDR & Sig & threshold\\\\\n",
       "  & <chr> & <chr> & <dbl> & <dbl> & <dbl> & <dbl> & <int> & <int> & <int> & <dbl> & <int> & <dbl> & <lgl> & <dbl>\\\\\n",
       "\\hline\n",
       "\t22 & rs3131972  & ENSG00000237491 &  5.643405 & 2.400875e-08 &  0.07174216 & 0.012712570 & 1 & 817341 & 778747 & 7.058573e-06 & 294 & 1.993414e-05 & TRUE & 9.170798e-05\\\\\n",
       "\t23 & rs3131972  & ENSG00000230092 &  4.756587 & 2.329109e-06 &  0.06239499 & 0.013117600 & 1 & 817341 & 817712 & 6.917454e-04 & 297 & 1.593483e-03 & TRUE & 9.078164e-05\\\\\n",
       "\t25 & rs3131972  & ENSG00000225880 &  6.292961 & 5.949542e-10 &  0.10016770 & 0.015917420 & 1 & 817341 & 827522 & 1.767014e-07 & 297 & 5.668498e-07 & TRUE & 9.078164e-05\\\\\n",
       "\t28 & rs2272757  & ENSG00000188976 & -7.026045 & 4.904859e-12 & -0.05107767 & 0.007269761 & 1 & 946247 & 959309 & 1.545031e-09 & 315 & 5.762103e-09 & TRUE & 8.559411e-05\\\\\n",
       "\t29 & rs13303327 & ENSG00000187961 & -7.175012 & 1.845538e-12 & -0.13519920 & 0.018843060 & 1 & 960326 & 960584 & 5.813445e-10 & 315 & 2.228468e-09 & TRUE & 8.559411e-05\\\\\n",
       "\t30 & rs13303056 & ENSG00000187583 & -9.081031 & 1.922802e-18 & -0.29633770 & 0.032632610 & 1 & 953778 & 966482 & 6.056826e-16 & 315 & 3.262796e-15 & TRUE & 8.559411e-05\\\\\n",
       "\\end{tabular}\n"
      ],
      "text/markdown": [
       "\n",
       "A data.frame: 6 × 14\n",
       "\n",
       "| <!--/--> | snps &lt;chr&gt; | gene &lt;chr&gt; | statistic &lt;dbl&gt; | pvalue &lt;dbl&gt; | beta &lt;dbl&gt; | se &lt;dbl&gt; | chr &lt;int&gt; | SNPpos &lt;int&gt; | TSS &lt;int&gt; | BF &lt;dbl&gt; | TESTS &lt;int&gt; | BF.FDR &lt;dbl&gt; | Sig &lt;lgl&gt; | threshold &lt;dbl&gt; |\n",
       "|---|---|---|---|---|---|---|---|---|---|---|---|---|---|---|\n",
       "| 22 | rs3131972  | ENSG00000237491 |  5.643405 | 2.400875e-08 |  0.07174216 | 0.012712570 | 1 | 817341 | 778747 | 7.058573e-06 | 294 | 1.993414e-05 | TRUE | 9.170798e-05 |\n",
       "| 23 | rs3131972  | ENSG00000230092 |  4.756587 | 2.329109e-06 |  0.06239499 | 0.013117600 | 1 | 817341 | 817712 | 6.917454e-04 | 297 | 1.593483e-03 | TRUE | 9.078164e-05 |\n",
       "| 25 | rs3131972  | ENSG00000225880 |  6.292961 | 5.949542e-10 |  0.10016770 | 0.015917420 | 1 | 817341 | 827522 | 1.767014e-07 | 297 | 5.668498e-07 | TRUE | 9.078164e-05 |\n",
       "| 28 | rs2272757  | ENSG00000188976 | -7.026045 | 4.904859e-12 | -0.05107767 | 0.007269761 | 1 | 946247 | 959309 | 1.545031e-09 | 315 | 5.762103e-09 | TRUE | 8.559411e-05 |\n",
       "| 29 | rs13303327 | ENSG00000187961 | -7.175012 | 1.845538e-12 | -0.13519920 | 0.018843060 | 1 | 960326 | 960584 | 5.813445e-10 | 315 | 2.228468e-09 | TRUE | 8.559411e-05 |\n",
       "| 30 | rs13303056 | ENSG00000187583 | -9.081031 | 1.922802e-18 | -0.29633770 | 0.032632610 | 1 | 953778 | 966482 | 6.056826e-16 | 315 | 3.262796e-15 | TRUE | 8.559411e-05 |\n",
       "\n"
      ],
      "text/plain": [
       "   snps       gene            statistic pvalue       beta        se         \n",
       "22 rs3131972  ENSG00000237491  5.643405 2.400875e-08  0.07174216 0.012712570\n",
       "23 rs3131972  ENSG00000230092  4.756587 2.329109e-06  0.06239499 0.013117600\n",
       "25 rs3131972  ENSG00000225880  6.292961 5.949542e-10  0.10016770 0.015917420\n",
       "28 rs2272757  ENSG00000188976 -7.026045 4.904859e-12 -0.05107767 0.007269761\n",
       "29 rs13303327 ENSG00000187961 -7.175012 1.845538e-12 -0.13519920 0.018843060\n",
       "30 rs13303056 ENSG00000187583 -9.081031 1.922802e-18 -0.29633770 0.032632610\n",
       "   chr SNPpos TSS    BF           TESTS BF.FDR       Sig  threshold   \n",
       "22 1   817341 778747 7.058573e-06 294   1.993414e-05 TRUE 9.170798e-05\n",
       "23 1   817341 817712 6.917454e-04 297   1.593483e-03 TRUE 9.078164e-05\n",
       "25 1   817341 827522 1.767014e-07 297   5.668498e-07 TRUE 9.078164e-05\n",
       "28 1   946247 959309 1.545031e-09 315   5.762103e-09 TRUE 8.559411e-05\n",
       "29 1   960326 960584 5.813445e-10 315   2.228468e-09 TRUE 8.559411e-05\n",
       "30 1   953778 966482 6.056826e-16 315   3.262796e-15 TRUE 8.559411e-05"
      ]
     },
     "metadata": {},
     "output_type": "display_data"
    }
   ],
   "source": [
    "head(lead.cis.eqtl)"
   ]
  },
  {
   "cell_type": "code",
   "execution_count": 14,
   "id": "6db21f2d-6677-4c50-9764-1746d3bf6fed",
   "metadata": {},
   "outputs": [],
   "source": [
    "conditional.cis.eqtl <- readRDS(\"/nfs/users/nfs_n/nm18/gains_team282/eqtl/cisresults/conditionalanalysis/conditional_eQTL_results_final.rds\")"
   ]
  },
  {
   "cell_type": "code",
   "execution_count": 15,
   "id": "c7d7570f-52a8-43a2-94ec-9bd724d5d165",
   "metadata": {},
   "outputs": [
    {
     "data": {
      "text/html": [
       "<table class=\"dataframe\">\n",
       "<caption>A data.frame: 6 × 6</caption>\n",
       "<thead>\n",
       "\t<tr><th></th><th scope=col>SNP</th><th scope=col>Gene</th><th scope=col>eQTL_beta</th><th scope=col>eQTL_SE</th><th scope=col>pvalue</th><th scope=col>Number</th></tr>\n",
       "\t<tr><th></th><th scope=col>&lt;chr&gt;</th><th scope=col>&lt;chr&gt;</th><th scope=col>&lt;chr&gt;</th><th scope=col>&lt;chr&gt;</th><th scope=col>&lt;chr&gt;</th><th scope=col>&lt;int&gt;</th></tr>\n",
       "</thead>\n",
       "<tbody>\n",
       "\t<tr><th scope=row>1</th><td>rs10753794</td><td>ENSG00000000457</td><td>0.0498587312408011 </td><td>0.00708515851579373</td><td>5.19259471106013e-12</td><td>1</td></tr>\n",
       "\t<tr><th scope=row>2</th><td>rs10919255</td><td>ENSG00000000460</td><td>-0.0726264894633498</td><td>0.0136853304567293 </td><td>1.72815915933528e-07</td><td>1</td></tr>\n",
       "\t<tr><th scope=row>3</th><td>rs77006036</td><td>ENSG00000000460</td><td>0.166236949102582  </td><td>0.0334472538699365 </td><td>8.47290238610159e-07</td><td>2</td></tr>\n",
       "\t<tr><th scope=row>4</th><td>rs12406047</td><td>ENSG00000000971</td><td>0.17135374034767   </td><td>0.0379807691167313 </td><td>7.51523462853891e-06</td><td>1</td></tr>\n",
       "\t<tr><th scope=row>5</th><td>rs6696136 </td><td>ENSG00000001460</td><td>0.45884434698694   </td><td>0.0871081626842823 </td><td>1.94887370606405e-07</td><td>1</td></tr>\n",
       "\t<tr><th scope=row>6</th><td>rs6676449 </td><td>ENSG00000001460</td><td>-0.371531778822554 </td><td>0.0880672792106829 </td><td>2.8471651589813e-05 </td><td>2</td></tr>\n",
       "</tbody>\n",
       "</table>\n"
      ],
      "text/latex": [
       "A data.frame: 6 × 6\n",
       "\\begin{tabular}{r|llllll}\n",
       "  & SNP & Gene & eQTL\\_beta & eQTL\\_SE & pvalue & Number\\\\\n",
       "  & <chr> & <chr> & <chr> & <chr> & <chr> & <int>\\\\\n",
       "\\hline\n",
       "\t1 & rs10753794 & ENSG00000000457 & 0.0498587312408011  & 0.00708515851579373 & 5.19259471106013e-12 & 1\\\\\n",
       "\t2 & rs10919255 & ENSG00000000460 & -0.0726264894633498 & 0.0136853304567293  & 1.72815915933528e-07 & 1\\\\\n",
       "\t3 & rs77006036 & ENSG00000000460 & 0.166236949102582   & 0.0334472538699365  & 8.47290238610159e-07 & 2\\\\\n",
       "\t4 & rs12406047 & ENSG00000000971 & 0.17135374034767    & 0.0379807691167313  & 7.51523462853891e-06 & 1\\\\\n",
       "\t5 & rs6696136  & ENSG00000001460 & 0.45884434698694    & 0.0871081626842823  & 1.94887370606405e-07 & 1\\\\\n",
       "\t6 & rs6676449  & ENSG00000001460 & -0.371531778822554  & 0.0880672792106829  & 2.8471651589813e-05  & 2\\\\\n",
       "\\end{tabular}\n"
      ],
      "text/markdown": [
       "\n",
       "A data.frame: 6 × 6\n",
       "\n",
       "| <!--/--> | SNP &lt;chr&gt; | Gene &lt;chr&gt; | eQTL_beta &lt;chr&gt; | eQTL_SE &lt;chr&gt; | pvalue &lt;chr&gt; | Number &lt;int&gt; |\n",
       "|---|---|---|---|---|---|---|\n",
       "| 1 | rs10753794 | ENSG00000000457 | 0.0498587312408011  | 0.00708515851579373 | 5.19259471106013e-12 | 1 |\n",
       "| 2 | rs10919255 | ENSG00000000460 | -0.0726264894633498 | 0.0136853304567293  | 1.72815915933528e-07 | 1 |\n",
       "| 3 | rs77006036 | ENSG00000000460 | 0.166236949102582   | 0.0334472538699365  | 8.47290238610159e-07 | 2 |\n",
       "| 4 | rs12406047 | ENSG00000000971 | 0.17135374034767    | 0.0379807691167313  | 7.51523462853891e-06 | 1 |\n",
       "| 5 | rs6696136  | ENSG00000001460 | 0.45884434698694    | 0.0871081626842823  | 1.94887370606405e-07 | 1 |\n",
       "| 6 | rs6676449  | ENSG00000001460 | -0.371531778822554  | 0.0880672792106829  | 2.8471651589813e-05  | 2 |\n",
       "\n"
      ],
      "text/plain": [
       "  SNP        Gene            eQTL_beta           eQTL_SE            \n",
       "1 rs10753794 ENSG00000000457 0.0498587312408011  0.00708515851579373\n",
       "2 rs10919255 ENSG00000000460 -0.0726264894633498 0.0136853304567293 \n",
       "3 rs77006036 ENSG00000000460 0.166236949102582   0.0334472538699365 \n",
       "4 rs12406047 ENSG00000000971 0.17135374034767    0.0379807691167313 \n",
       "5 rs6696136  ENSG00000001460 0.45884434698694    0.0871081626842823 \n",
       "6 rs6676449  ENSG00000001460 -0.371531778822554  0.0880672792106829 \n",
       "  pvalue               Number\n",
       "1 5.19259471106013e-12 1     \n",
       "2 1.72815915933528e-07 1     \n",
       "3 8.47290238610159e-07 2     \n",
       "4 7.51523462853891e-06 1     \n",
       "5 1.94887370606405e-07 1     \n",
       "6 2.8471651589813e-05  2     "
      ]
     },
     "metadata": {},
     "output_type": "display_data"
    }
   ],
   "source": [
    "head(conditional.cis.eqtl)"
   ]
  },
  {
   "cell_type": "code",
   "execution_count": 16,
   "id": "3bcec61e-1c77-42fe-b8a5-c2f9c87482de",
   "metadata": {},
   "outputs": [],
   "source": [
    "ebi.studies <- fread(\"04_Expression/data/gwas_catalog_v1.0.2-studies_r2022-02-21.tsv\", header=TRUE, quote=\"\") %>%\n",
    "    as.data.frame()"
   ]
  },
  {
   "cell_type": "code",
   "execution_count": 17,
   "id": "53805170-af73-4d97-870b-23d9c68a25ae",
   "metadata": {},
   "outputs": [
    {
     "data": {
      "text/html": [
       "<table class=\"dataframe\">\n",
       "<caption>A data.frame: 1 × 16</caption>\n",
       "<thead>\n",
       "\t<tr><th></th><th scope=col>DATE ADDED TO CATALOG</th><th scope=col>PUBMEDID</th><th scope=col>FIRST AUTHOR</th><th scope=col>DATE</th><th scope=col>JOURNAL</th><th scope=col>LINK</th><th scope=col>STUDY</th><th scope=col>DISEASE/TRAIT</th><th scope=col>INITIAL SAMPLE SIZE</th><th scope=col>REPLICATION SAMPLE SIZE</th><th scope=col>PLATFORM [SNPS PASSING QC]</th><th scope=col>ASSOCIATION COUNT</th><th scope=col>MAPPED_TRAIT</th><th scope=col>MAPPED_TRAIT_URI</th><th scope=col>STUDY ACCESSION</th><th scope=col>GENOTYPING TECHNOLOGY</th></tr>\n",
       "\t<tr><th></th><th scope=col>&lt;date&gt;</th><th scope=col>&lt;int&gt;</th><th scope=col>&lt;chr&gt;</th><th scope=col>&lt;date&gt;</th><th scope=col>&lt;chr&gt;</th><th scope=col>&lt;chr&gt;</th><th scope=col>&lt;chr&gt;</th><th scope=col>&lt;chr&gt;</th><th scope=col>&lt;chr&gt;</th><th scope=col>&lt;chr&gt;</th><th scope=col>&lt;chr&gt;</th><th scope=col>&lt;int&gt;</th><th scope=col>&lt;chr&gt;</th><th scope=col>&lt;chr&gt;</th><th scope=col>&lt;chr&gt;</th><th scope=col>&lt;chr&gt;</th></tr>\n",
       "</thead>\n",
       "<tbody>\n",
       "\t<tr><th scope=row>1</th><td>2021-08-24</td><td>34124712</td><td>Sherva R</td><td>2021-02-28</td><td>Explor Med</td><td>www.ncbi.nlm.nih.gov/pubmed/34124712</td><td>Genome-wide association study of phenotypes measuring progression from first cocaine or opioid use to dependence reveals novel risk genes.</td><td>Cocaine dependence (time to event)</td><td>3,554 African American cases, 478 African American controls, 2,712 European ancestry cases, 915 European ancestry controls</td><td>572 African American cases, 416 African American controls, 759 European ancestry cases, 1,620 European ancestry controls</td><td>Illumina [NR] (imputed)</td><td>5</td><td>cocaine dependence</td><td>http://www.ebi.ac.uk/efo/EFO_0002610</td><td>GCST012225</td><td>Genome-wide genotyping array</td></tr>\n",
       "</tbody>\n",
       "</table>\n"
      ],
      "text/latex": [
       "A data.frame: 1 × 16\n",
       "\\begin{tabular}{r|llllllllllllllll}\n",
       "  & DATE ADDED TO CATALOG & PUBMEDID & FIRST AUTHOR & DATE & JOURNAL & LINK & STUDY & DISEASE/TRAIT & INITIAL SAMPLE SIZE & REPLICATION SAMPLE SIZE & PLATFORM {[}SNPS PASSING QC{]} & ASSOCIATION COUNT & MAPPED\\_TRAIT & MAPPED\\_TRAIT\\_URI & STUDY ACCESSION & GENOTYPING TECHNOLOGY\\\\\n",
       "  & <date> & <int> & <chr> & <date> & <chr> & <chr> & <chr> & <chr> & <chr> & <chr> & <chr> & <int> & <chr> & <chr> & <chr> & <chr>\\\\\n",
       "\\hline\n",
       "\t1 & 2021-08-24 & 34124712 & Sherva R & 2021-02-28 & Explor Med & www.ncbi.nlm.nih.gov/pubmed/34124712 & Genome-wide association study of phenotypes measuring progression from first cocaine or opioid use to dependence reveals novel risk genes. & Cocaine dependence (time to event) & 3,554 African American cases, 478 African American controls, 2,712 European ancestry cases, 915 European ancestry controls & 572 African American cases, 416 African American controls, 759 European ancestry cases, 1,620 European ancestry controls & Illumina {[}NR{]} (imputed) & 5 & cocaine dependence & http://www.ebi.ac.uk/efo/EFO\\_0002610 & GCST012225 & Genome-wide genotyping array\\\\\n",
       "\\end{tabular}\n"
      ],
      "text/markdown": [
       "\n",
       "A data.frame: 1 × 16\n",
       "\n",
       "| <!--/--> | DATE ADDED TO CATALOG &lt;date&gt; | PUBMEDID &lt;int&gt; | FIRST AUTHOR &lt;chr&gt; | DATE &lt;date&gt; | JOURNAL &lt;chr&gt; | LINK &lt;chr&gt; | STUDY &lt;chr&gt; | DISEASE/TRAIT &lt;chr&gt; | INITIAL SAMPLE SIZE &lt;chr&gt; | REPLICATION SAMPLE SIZE &lt;chr&gt; | PLATFORM [SNPS PASSING QC] &lt;chr&gt; | ASSOCIATION COUNT &lt;int&gt; | MAPPED_TRAIT &lt;chr&gt; | MAPPED_TRAIT_URI &lt;chr&gt; | STUDY ACCESSION &lt;chr&gt; | GENOTYPING TECHNOLOGY &lt;chr&gt; |\n",
       "|---|---|---|---|---|---|---|---|---|---|---|---|---|---|---|---|---|\n",
       "| 1 | 2021-08-24 | 34124712 | Sherva R | 2021-02-28 | Explor Med | www.ncbi.nlm.nih.gov/pubmed/34124712 | Genome-wide association study of phenotypes measuring progression from first cocaine or opioid use to dependence reveals novel risk genes. | Cocaine dependence (time to event) | 3,554 African American cases, 478 African American controls, 2,712 European ancestry cases, 915 European ancestry controls | 572 African American cases, 416 African American controls, 759 European ancestry cases, 1,620 European ancestry controls | Illumina [NR] (imputed) | 5 | cocaine dependence | http://www.ebi.ac.uk/efo/EFO_0002610 | GCST012225 | Genome-wide genotyping array |\n",
       "\n"
      ],
      "text/plain": [
       "  DATE ADDED TO CATALOG PUBMEDID FIRST AUTHOR DATE       JOURNAL   \n",
       "1 2021-08-24            34124712 Sherva R     2021-02-28 Explor Med\n",
       "  LINK                                \n",
       "1 www.ncbi.nlm.nih.gov/pubmed/34124712\n",
       "  STUDY                                                                                                                                     \n",
       "1 Genome-wide association study of phenotypes measuring progression from first cocaine or opioid use to dependence reveals novel risk genes.\n",
       "  DISEASE/TRAIT                     \n",
       "1 Cocaine dependence (time to event)\n",
       "  INITIAL SAMPLE SIZE                                                                                                       \n",
       "1 3,554 African American cases, 478 African American controls, 2,712 European ancestry cases, 915 European ancestry controls\n",
       "  REPLICATION SAMPLE SIZE                                                                                                 \n",
       "1 572 African American cases, 416 African American controls, 759 European ancestry cases, 1,620 European ancestry controls\n",
       "  PLATFORM [SNPS PASSING QC] ASSOCIATION COUNT MAPPED_TRAIT      \n",
       "1 Illumina [NR] (imputed)    5                 cocaine dependence\n",
       "  MAPPED_TRAIT_URI                     STUDY ACCESSION\n",
       "1 http://www.ebi.ac.uk/efo/EFO_0002610 GCST012225     \n",
       "  GENOTYPING TECHNOLOGY       \n",
       "1 Genome-wide genotyping array"
      ]
     },
     "metadata": {},
     "output_type": "display_data"
    }
   ],
   "source": [
    "head(ebi.studies, n=1)"
   ]
  },
  {
   "cell_type": "code",
   "execution_count": 18,
   "id": "e0460a82-daa1-4eaf-877b-b119f710f4c8",
   "metadata": {},
   "outputs": [],
   "source": [
    "ebi.assoc <- fread(\"04_Expression/data/gwas_catalog_v1.0.2-associations_e105_r2022-02-21.tsv\", header=TRUE, quote=\"\") %>%\n",
    "    as.data.frame()"
   ]
  },
  {
   "cell_type": "code",
   "execution_count": 19,
   "id": "d5fe892a-b746-4ce0-a639-8f577e9ee36e",
   "metadata": {},
   "outputs": [
    {
     "data": {
      "text/html": [
       "<table class=\"dataframe\">\n",
       "<caption>A data.frame: 1 × 38</caption>\n",
       "<thead>\n",
       "\t<tr><th></th><th scope=col>DATE ADDED TO CATALOG</th><th scope=col>PUBMEDID</th><th scope=col>FIRST AUTHOR</th><th scope=col>DATE</th><th scope=col>JOURNAL</th><th scope=col>LINK</th><th scope=col>STUDY</th><th scope=col>DISEASE/TRAIT</th><th scope=col>INITIAL SAMPLE SIZE</th><th scope=col>REPLICATION SAMPLE SIZE</th><th scope=col>⋯</th><th scope=col>PVALUE_MLOG</th><th scope=col>P-VALUE (TEXT)</th><th scope=col>OR or BETA</th><th scope=col>95% CI (TEXT)</th><th scope=col>PLATFORM [SNPS PASSING QC]</th><th scope=col>CNV</th><th scope=col>MAPPED_TRAIT</th><th scope=col>MAPPED_TRAIT_URI</th><th scope=col>STUDY ACCESSION</th><th scope=col>GENOTYPING TECHNOLOGY</th></tr>\n",
       "\t<tr><th></th><th scope=col>&lt;date&gt;</th><th scope=col>&lt;int&gt;</th><th scope=col>&lt;chr&gt;</th><th scope=col>&lt;date&gt;</th><th scope=col>&lt;chr&gt;</th><th scope=col>&lt;chr&gt;</th><th scope=col>&lt;chr&gt;</th><th scope=col>&lt;chr&gt;</th><th scope=col>&lt;chr&gt;</th><th scope=col>&lt;chr&gt;</th><th scope=col>⋯</th><th scope=col>&lt;dbl&gt;</th><th scope=col>&lt;chr&gt;</th><th scope=col>&lt;dbl&gt;</th><th scope=col>&lt;chr&gt;</th><th scope=col>&lt;chr&gt;</th><th scope=col>&lt;chr&gt;</th><th scope=col>&lt;chr&gt;</th><th scope=col>&lt;chr&gt;</th><th scope=col>&lt;chr&gt;</th><th scope=col>&lt;chr&gt;</th></tr>\n",
       "</thead>\n",
       "<tbody>\n",
       "\t<tr><th scope=row>1</th><td>2021-07-07</td><td>34127860</td><td>Robertson CC</td><td>2021-06-14</td><td>Nat Genet</td><td>www.ncbi.nlm.nih.gov/pubmed/34127860</td><td>Fine-mapping, trans-ancestral and genomic analyses identify causal variants, cells, genes and drug targets for type 1 diabetes.</td><td>Type 1 diabetes</td><td>20,065 European ancestry cases, 33,065 European ancestry controls, 1,045 other-admixed ancestry cases, 1,103 other-admixed ancestry controls, 1,043 African ancestry cases, 3,206 African ancestry controls</td><td>NA</td><td>⋯</td><td>8.522879</td><td></td><td>0.912</td><td></td><td>Illumina [715631] (imputed)</td><td>N</td><td>type 1 diabetes mellitus</td><td>http://purl.obolibrary.org/obo/MONDO_0005147</td><td>GCST90013445</td><td>Targeted genotyping array [ImmunoChip]</td></tr>\n",
       "</tbody>\n",
       "</table>\n"
      ],
      "text/latex": [
       "A data.frame: 1 × 38\n",
       "\\begin{tabular}{r|lllllllllllllllllllll}\n",
       "  & DATE ADDED TO CATALOG & PUBMEDID & FIRST AUTHOR & DATE & JOURNAL & LINK & STUDY & DISEASE/TRAIT & INITIAL SAMPLE SIZE & REPLICATION SAMPLE SIZE & ⋯ & PVALUE\\_MLOG & P-VALUE (TEXT) & OR or BETA & 95\\% CI (TEXT) & PLATFORM {[}SNPS PASSING QC{]} & CNV & MAPPED\\_TRAIT & MAPPED\\_TRAIT\\_URI & STUDY ACCESSION & GENOTYPING TECHNOLOGY\\\\\n",
       "  & <date> & <int> & <chr> & <date> & <chr> & <chr> & <chr> & <chr> & <chr> & <chr> & ⋯ & <dbl> & <chr> & <dbl> & <chr> & <chr> & <chr> & <chr> & <chr> & <chr> & <chr>\\\\\n",
       "\\hline\n",
       "\t1 & 2021-07-07 & 34127860 & Robertson CC & 2021-06-14 & Nat Genet & www.ncbi.nlm.nih.gov/pubmed/34127860 & Fine-mapping, trans-ancestral and genomic analyses identify causal variants, cells, genes and drug targets for type 1 diabetes. & Type 1 diabetes & 20,065 European ancestry cases, 33,065 European ancestry controls, 1,045 other-admixed ancestry cases, 1,103 other-admixed ancestry controls, 1,043 African ancestry cases, 3,206 African ancestry controls & NA & ⋯ & 8.522879 &  & 0.912 &  & Illumina {[}715631{]} (imputed) & N & type 1 diabetes mellitus & http://purl.obolibrary.org/obo/MONDO\\_0005147 & GCST90013445 & Targeted genotyping array {[}ImmunoChip{]}\\\\\n",
       "\\end{tabular}\n"
      ],
      "text/markdown": [
       "\n",
       "A data.frame: 1 × 38\n",
       "\n",
       "| <!--/--> | DATE ADDED TO CATALOG &lt;date&gt; | PUBMEDID &lt;int&gt; | FIRST AUTHOR &lt;chr&gt; | DATE &lt;date&gt; | JOURNAL &lt;chr&gt; | LINK &lt;chr&gt; | STUDY &lt;chr&gt; | DISEASE/TRAIT &lt;chr&gt; | INITIAL SAMPLE SIZE &lt;chr&gt; | REPLICATION SAMPLE SIZE &lt;chr&gt; | ⋯ ⋯ | PVALUE_MLOG &lt;dbl&gt; | P-VALUE (TEXT) &lt;chr&gt; | OR or BETA &lt;dbl&gt; | 95% CI (TEXT) &lt;chr&gt; | PLATFORM [SNPS PASSING QC] &lt;chr&gt; | CNV &lt;chr&gt; | MAPPED_TRAIT &lt;chr&gt; | MAPPED_TRAIT_URI &lt;chr&gt; | STUDY ACCESSION &lt;chr&gt; | GENOTYPING TECHNOLOGY &lt;chr&gt; |\n",
       "|---|---|---|---|---|---|---|---|---|---|---|---|---|---|---|---|---|---|---|---|---|---|\n",
       "| 1 | 2021-07-07 | 34127860 | Robertson CC | 2021-06-14 | Nat Genet | www.ncbi.nlm.nih.gov/pubmed/34127860 | Fine-mapping, trans-ancestral and genomic analyses identify causal variants, cells, genes and drug targets for type 1 diabetes. | Type 1 diabetes | 20,065 European ancestry cases, 33,065 European ancestry controls, 1,045 other-admixed ancestry cases, 1,103 other-admixed ancestry controls, 1,043 African ancestry cases, 3,206 African ancestry controls | NA | ⋯ | 8.522879 | <!----> | 0.912 | <!----> | Illumina [715631] (imputed) | N | type 1 diabetes mellitus | http://purl.obolibrary.org/obo/MONDO_0005147 | GCST90013445 | Targeted genotyping array [ImmunoChip] |\n",
       "\n"
      ],
      "text/plain": [
       "  DATE ADDED TO CATALOG PUBMEDID FIRST AUTHOR DATE       JOURNAL  \n",
       "1 2021-07-07            34127860 Robertson CC 2021-06-14 Nat Genet\n",
       "  LINK                                \n",
       "1 www.ncbi.nlm.nih.gov/pubmed/34127860\n",
       "  STUDY                                                                                                                          \n",
       "1 Fine-mapping, trans-ancestral and genomic analyses identify causal variants, cells, genes and drug targets for type 1 diabetes.\n",
       "  DISEASE/TRAIT  \n",
       "1 Type 1 diabetes\n",
       "  INITIAL SAMPLE SIZE                                                                                                                                                                                        \n",
       "1 20,065 European ancestry cases, 33,065 European ancestry controls, 1,045 other-admixed ancestry cases, 1,103 other-admixed ancestry controls, 1,043 African ancestry cases, 3,206 African ancestry controls\n",
       "  REPLICATION SAMPLE SIZE ⋯ PVALUE_MLOG P-VALUE (TEXT) OR or BETA 95% CI (TEXT)\n",
       "1 NA                      ⋯ 8.522879                   0.912                   \n",
       "  PLATFORM [SNPS PASSING QC]  CNV MAPPED_TRAIT            \n",
       "1 Illumina [715631] (imputed) N   type 1 diabetes mellitus\n",
       "  MAPPED_TRAIT_URI                             STUDY ACCESSION\n",
       "1 http://purl.obolibrary.org/obo/MONDO_0005147 GCST90013445   \n",
       "  GENOTYPING TECHNOLOGY                 \n",
       "1 Targeted genotyping array [ImmunoChip]"
      ]
     },
     "metadata": {},
     "output_type": "display_data"
    }
   ],
   "source": [
    "head(ebi.assoc, n=1)"
   ]
  },
  {
   "cell_type": "code",
   "execution_count": 20,
   "id": "4d128a00-384a-4941-baf2-e4f0f200079c",
   "metadata": {},
   "outputs": [],
   "source": [
    "geno.bim <- fread(\"~/gains_team282/Genotyping/All_genotyping_merged_filtered_b38_refiltered_rsID.bim\") %>%\n",
    "    as.data.frame()\n",
    "colnames(geno.bim) <- c(\"chr\", \"snps\", \"cM\", \"pos\", \"minor\", \"major\")"
   ]
  },
  {
   "cell_type": "code",
   "execution_count": 21,
   "id": "f1c567db-258f-49f6-9fd1-f019e2dbd440",
   "metadata": {},
   "outputs": [
    {
     "data": {
      "text/html": [
       "<table class=\"dataframe\">\n",
       "<caption>A data.frame: 6 × 6</caption>\n",
       "<thead>\n",
       "\t<tr><th></th><th scope=col>chr</th><th scope=col>snps</th><th scope=col>cM</th><th scope=col>pos</th><th scope=col>minor</th><th scope=col>major</th></tr>\n",
       "\t<tr><th></th><th scope=col>&lt;chr&gt;</th><th scope=col>&lt;chr&gt;</th><th scope=col>&lt;int&gt;</th><th scope=col>&lt;int&gt;</th><th scope=col>&lt;chr&gt;</th><th scope=col>&lt;chr&gt;</th></tr>\n",
       "</thead>\n",
       "<tbody>\n",
       "\t<tr><th scope=row>1</th><td>1</td><td>rs3131972   </td><td>0</td><td>817341</td><td>A</td><td>G</td></tr>\n",
       "\t<tr><th scope=row>2</th><td>1</td><td>rs546843995 </td><td>0</td><td>818053</td><td>0</td><td>G</td></tr>\n",
       "\t<tr><th scope=row>3</th><td>1</td><td>rs553916047 </td><td>0</td><td>818359</td><td>0</td><td>A</td></tr>\n",
       "\t<tr><th scope=row>4</th><td>1</td><td>1:818740_T_C</td><td>0</td><td>818740</td><td>T</td><td>C</td></tr>\n",
       "\t<tr><th scope=row>5</th><td>1</td><td>rs145604921 </td><td>0</td><td>819378</td><td>0</td><td>C</td></tr>\n",
       "\t<tr><th scope=row>6</th><td>1</td><td>rs535256652 </td><td>0</td><td>821053</td><td>0</td><td>T</td></tr>\n",
       "</tbody>\n",
       "</table>\n"
      ],
      "text/latex": [
       "A data.frame: 6 × 6\n",
       "\\begin{tabular}{r|llllll}\n",
       "  & chr & snps & cM & pos & minor & major\\\\\n",
       "  & <chr> & <chr> & <int> & <int> & <chr> & <chr>\\\\\n",
       "\\hline\n",
       "\t1 & 1 & rs3131972    & 0 & 817341 & A & G\\\\\n",
       "\t2 & 1 & rs546843995  & 0 & 818053 & 0 & G\\\\\n",
       "\t3 & 1 & rs553916047  & 0 & 818359 & 0 & A\\\\\n",
       "\t4 & 1 & 1:818740\\_T\\_C & 0 & 818740 & T & C\\\\\n",
       "\t5 & 1 & rs145604921  & 0 & 819378 & 0 & C\\\\\n",
       "\t6 & 1 & rs535256652  & 0 & 821053 & 0 & T\\\\\n",
       "\\end{tabular}\n"
      ],
      "text/markdown": [
       "\n",
       "A data.frame: 6 × 6\n",
       "\n",
       "| <!--/--> | chr &lt;chr&gt; | snps &lt;chr&gt; | cM &lt;int&gt; | pos &lt;int&gt; | minor &lt;chr&gt; | major &lt;chr&gt; |\n",
       "|---|---|---|---|---|---|---|\n",
       "| 1 | 1 | rs3131972    | 0 | 817341 | A | G |\n",
       "| 2 | 1 | rs546843995  | 0 | 818053 | 0 | G |\n",
       "| 3 | 1 | rs553916047  | 0 | 818359 | 0 | A |\n",
       "| 4 | 1 | 1:818740_T_C | 0 | 818740 | T | C |\n",
       "| 5 | 1 | rs145604921  | 0 | 819378 | 0 | C |\n",
       "| 6 | 1 | rs535256652  | 0 | 821053 | 0 | T |\n",
       "\n"
      ],
      "text/plain": [
       "  chr snps         cM pos    minor major\n",
       "1 1   rs3131972    0  817341 A     G    \n",
       "2 1   rs546843995  0  818053 0     G    \n",
       "3 1   rs553916047  0  818359 0     A    \n",
       "4 1   1:818740_T_C 0  818740 T     C    \n",
       "5 1   rs145604921  0  819378 0     C    \n",
       "6 1   rs535256652  0  821053 0     T    "
      ]
     },
     "metadata": {},
     "output_type": "display_data"
    }
   ],
   "source": [
    "head(geno.bim)"
   ]
  },
  {
   "cell_type": "markdown",
   "id": "ca87a2f5-d9b0-47b9-9be1-8bb533206e53",
   "metadata": {
    "tags": []
   },
   "source": [
    "## Gene Expression PCs"
   ]
  },
  {
   "cell_type": "markdown",
   "id": "ece63f0d-cbdb-4252-95a2-f5c61ed27992",
   "metadata": {},
   "source": [
    "The module refinement procedure discards ~9000 genes. I will calculate PCs from these genes to control for technical factors not accounted for in other covariates. I am hypothesizing that the modules formed from the rest of the genes represent true biological signals. I'll include the first 30 PCs."
   ]
  },
  {
   "cell_type": "code",
   "execution_count": 22,
   "id": "c11db4c8-6b81-41a6-b2c2-7ca93a6dbed6",
   "metadata": {},
   "outputs": [],
   "source": [
    "unassigned.genes <- modules$Gene[modules$Module.Pruned == \"Unassigned\"]\n",
    "unassigned.gene.exp <- t(gene.exp[unassigned.genes,])\n",
    "unassigned.gene.exp.svd <- svd(scale(unassigned.gene.exp))"
   ]
  },
  {
   "cell_type": "code",
   "execution_count": 23,
   "id": "6cb2fc7f-ddf0-4b81-8b8c-a32010bd2f30",
   "metadata": {},
   "outputs": [],
   "source": [
    "gene.exp.pcs <- unassigned.gene.exp.svd$u[,1:30]\n",
    "rownames(gene.exp.pcs) <- rownames(unassigned.gene.exp)\n",
    "pcs <- paste0(\"Gene_Exp_PC\", 1:30)\n",
    "colnames(gene.exp.pcs) <- pcs\n",
    "rownames(gene.exp.pcs) <- gsub(\"^GA\", \"\", rownames(gene.exp.pcs))\n",
    "gene.exp.pcs <- gene.exp.pcs[rownames(covs),]"
   ]
  },
  {
   "cell_type": "code",
   "execution_count": 24,
   "id": "ff4c12cd-7056-4099-8837-5e8d093e7cc4",
   "metadata": {},
   "outputs": [
    {
     "data": {
      "text/html": [
       "<table class=\"dataframe\">\n",
       "<caption>A matrix: 6 × 30 of type dbl</caption>\n",
       "<thead>\n",
       "\t<tr><th></th><th scope=col>Gene_Exp_PC1</th><th scope=col>Gene_Exp_PC2</th><th scope=col>Gene_Exp_PC3</th><th scope=col>Gene_Exp_PC4</th><th scope=col>Gene_Exp_PC5</th><th scope=col>Gene_Exp_PC6</th><th scope=col>Gene_Exp_PC7</th><th scope=col>Gene_Exp_PC8</th><th scope=col>Gene_Exp_PC9</th><th scope=col>Gene_Exp_PC10</th><th scope=col>⋯</th><th scope=col>Gene_Exp_PC21</th><th scope=col>Gene_Exp_PC22</th><th scope=col>Gene_Exp_PC23</th><th scope=col>Gene_Exp_PC24</th><th scope=col>Gene_Exp_PC25</th><th scope=col>Gene_Exp_PC26</th><th scope=col>Gene_Exp_PC27</th><th scope=col>Gene_Exp_PC28</th><th scope=col>Gene_Exp_PC29</th><th scope=col>Gene_Exp_PC30</th></tr>\n",
       "</thead>\n",
       "<tbody>\n",
       "\t<tr><th scope=row>UK01050129_5</th><td>-0.05945679</td><td> 7.396396e-02</td><td> 0.01274124</td><td>-0.0112844921</td><td> 0.012751830</td><td> 0.007860453</td><td>-0.008250262</td><td> 0.046134299</td><td> 0.003959458</td><td> 0.014904068</td><td>⋯</td><td> 0.002442630</td><td> 0.014472714</td><td> 0.010122804</td><td>-0.018568895</td><td> 0.02955028</td><td>-0.018029125</td><td>-0.005774272</td><td>-0.033913856</td><td>-0.014132836</td><td> 0.012273754</td></tr>\n",
       "\t<tr><th scope=row>UK01060123_3</th><td>-0.01560333</td><td> 2.349240e-02</td><td>-0.02082291</td><td> 0.0448819271</td><td> 0.009481692</td><td> 0.028692445</td><td> 0.018137045</td><td>-0.014255415</td><td>-0.017246112</td><td>-0.010657504</td><td>⋯</td><td> 0.029781414</td><td>-0.009111470</td><td>-0.042289180</td><td>-0.018598499</td><td> 0.03365637</td><td>-0.025156985</td><td>-0.020932081</td><td>-0.001319561</td><td>-0.007350224</td><td> 0.025998600</td></tr>\n",
       "\t<tr><th scope=row>UK01070117_3</th><td>-0.03104763</td><td>-5.886191e-05</td><td>-0.01057338</td><td> 0.0008902746</td><td> 0.009227810</td><td> 0.023485116</td><td>-0.050541578</td><td>-0.004042473</td><td>-0.008954768</td><td>-0.034349355</td><td>⋯</td><td>-0.009692787</td><td> 0.000137702</td><td> 0.002470854</td><td> 0.014315828</td><td> 0.01444792</td><td> 0.014043154</td><td>-0.026104068</td><td>-0.032637196</td><td>-0.029486023</td><td> 0.014349461</td></tr>\n",
       "\t<tr><th scope=row>UK01080111_1</th><td> 0.00745554</td><td> 1.941599e-02</td><td> 0.01388253</td><td> 0.0112125466</td><td> 0.066831632</td><td>-0.059039021</td><td> 0.002001893</td><td>-0.060396348</td><td> 0.068444620</td><td> 0.004825214</td><td>⋯</td><td>-0.008891282</td><td> 0.003956666</td><td> 0.043050247</td><td> 0.015125900</td><td> 0.01472175</td><td>-0.007187568</td><td> 0.021612025</td><td>-0.038603337</td><td> 0.013234403</td><td> 0.001215820</td></tr>\n",
       "\t<tr><th scope=row>UK01110093_1</th><td> 0.02810750</td><td>-1.101635e-01</td><td>-0.05651708</td><td>-0.0284398381</td><td> 0.034401915</td><td> 0.026758751</td><td> 0.054521354</td><td>-0.014044159</td><td>-0.002242296</td><td>-0.001428255</td><td>⋯</td><td>-0.023762273</td><td> 0.061202049</td><td>-0.011192400</td><td>-0.001689001</td><td>-0.02657633</td><td> 0.039272582</td><td> 0.081409446</td><td>-0.020022599</td><td>-0.010265247</td><td>-0.004249738</td></tr>\n",
       "\t<tr><th scope=row>UK01110093_5</th><td>-0.02173342</td><td>-1.091444e-01</td><td>-0.04905253</td><td>-0.0245717564</td><td>-0.039118389</td><td> 0.017869684</td><td> 0.038262004</td><td> 0.058891249</td><td> 0.012330741</td><td> 0.074703597</td><td>⋯</td><td>-0.014952651</td><td>-0.019676711</td><td>-0.017587738</td><td> 0.027756715</td><td>-0.00406966</td><td> 0.034642964</td><td> 0.034914416</td><td>-0.010948103</td><td>-0.034823690</td><td> 0.004866058</td></tr>\n",
       "</tbody>\n",
       "</table>\n"
      ],
      "text/latex": [
       "A matrix: 6 × 30 of type dbl\n",
       "\\begin{tabular}{r|lllllllllllllllllllll}\n",
       "  & Gene\\_Exp\\_PC1 & Gene\\_Exp\\_PC2 & Gene\\_Exp\\_PC3 & Gene\\_Exp\\_PC4 & Gene\\_Exp\\_PC5 & Gene\\_Exp\\_PC6 & Gene\\_Exp\\_PC7 & Gene\\_Exp\\_PC8 & Gene\\_Exp\\_PC9 & Gene\\_Exp\\_PC10 & ⋯ & Gene\\_Exp\\_PC21 & Gene\\_Exp\\_PC22 & Gene\\_Exp\\_PC23 & Gene\\_Exp\\_PC24 & Gene\\_Exp\\_PC25 & Gene\\_Exp\\_PC26 & Gene\\_Exp\\_PC27 & Gene\\_Exp\\_PC28 & Gene\\_Exp\\_PC29 & Gene\\_Exp\\_PC30\\\\\n",
       "\\hline\n",
       "\tUK01050129\\_5 & -0.05945679 &  7.396396e-02 &  0.01274124 & -0.0112844921 &  0.012751830 &  0.007860453 & -0.008250262 &  0.046134299 &  0.003959458 &  0.014904068 & ⋯ &  0.002442630 &  0.014472714 &  0.010122804 & -0.018568895 &  0.02955028 & -0.018029125 & -0.005774272 & -0.033913856 & -0.014132836 &  0.012273754\\\\\n",
       "\tUK01060123\\_3 & -0.01560333 &  2.349240e-02 & -0.02082291 &  0.0448819271 &  0.009481692 &  0.028692445 &  0.018137045 & -0.014255415 & -0.017246112 & -0.010657504 & ⋯ &  0.029781414 & -0.009111470 & -0.042289180 & -0.018598499 &  0.03365637 & -0.025156985 & -0.020932081 & -0.001319561 & -0.007350224 &  0.025998600\\\\\n",
       "\tUK01070117\\_3 & -0.03104763 & -5.886191e-05 & -0.01057338 &  0.0008902746 &  0.009227810 &  0.023485116 & -0.050541578 & -0.004042473 & -0.008954768 & -0.034349355 & ⋯ & -0.009692787 &  0.000137702 &  0.002470854 &  0.014315828 &  0.01444792 &  0.014043154 & -0.026104068 & -0.032637196 & -0.029486023 &  0.014349461\\\\\n",
       "\tUK01080111\\_1 &  0.00745554 &  1.941599e-02 &  0.01388253 &  0.0112125466 &  0.066831632 & -0.059039021 &  0.002001893 & -0.060396348 &  0.068444620 &  0.004825214 & ⋯ & -0.008891282 &  0.003956666 &  0.043050247 &  0.015125900 &  0.01472175 & -0.007187568 &  0.021612025 & -0.038603337 &  0.013234403 &  0.001215820\\\\\n",
       "\tUK01110093\\_1 &  0.02810750 & -1.101635e-01 & -0.05651708 & -0.0284398381 &  0.034401915 &  0.026758751 &  0.054521354 & -0.014044159 & -0.002242296 & -0.001428255 & ⋯ & -0.023762273 &  0.061202049 & -0.011192400 & -0.001689001 & -0.02657633 &  0.039272582 &  0.081409446 & -0.020022599 & -0.010265247 & -0.004249738\\\\\n",
       "\tUK01110093\\_5 & -0.02173342 & -1.091444e-01 & -0.04905253 & -0.0245717564 & -0.039118389 &  0.017869684 &  0.038262004 &  0.058891249 &  0.012330741 &  0.074703597 & ⋯ & -0.014952651 & -0.019676711 & -0.017587738 &  0.027756715 & -0.00406966 &  0.034642964 &  0.034914416 & -0.010948103 & -0.034823690 &  0.004866058\\\\\n",
       "\\end{tabular}\n"
      ],
      "text/markdown": [
       "\n",
       "A matrix: 6 × 30 of type dbl\n",
       "\n",
       "| <!--/--> | Gene_Exp_PC1 | Gene_Exp_PC2 | Gene_Exp_PC3 | Gene_Exp_PC4 | Gene_Exp_PC5 | Gene_Exp_PC6 | Gene_Exp_PC7 | Gene_Exp_PC8 | Gene_Exp_PC9 | Gene_Exp_PC10 | ⋯ | Gene_Exp_PC21 | Gene_Exp_PC22 | Gene_Exp_PC23 | Gene_Exp_PC24 | Gene_Exp_PC25 | Gene_Exp_PC26 | Gene_Exp_PC27 | Gene_Exp_PC28 | Gene_Exp_PC29 | Gene_Exp_PC30 |\n",
       "|---|---|---|---|---|---|---|---|---|---|---|---|---|---|---|---|---|---|---|---|---|---|\n",
       "| UK01050129_5 | -0.05945679 |  7.396396e-02 |  0.01274124 | -0.0112844921 |  0.012751830 |  0.007860453 | -0.008250262 |  0.046134299 |  0.003959458 |  0.014904068 | ⋯ |  0.002442630 |  0.014472714 |  0.010122804 | -0.018568895 |  0.02955028 | -0.018029125 | -0.005774272 | -0.033913856 | -0.014132836 |  0.012273754 |\n",
       "| UK01060123_3 | -0.01560333 |  2.349240e-02 | -0.02082291 |  0.0448819271 |  0.009481692 |  0.028692445 |  0.018137045 | -0.014255415 | -0.017246112 | -0.010657504 | ⋯ |  0.029781414 | -0.009111470 | -0.042289180 | -0.018598499 |  0.03365637 | -0.025156985 | -0.020932081 | -0.001319561 | -0.007350224 |  0.025998600 |\n",
       "| UK01070117_3 | -0.03104763 | -5.886191e-05 | -0.01057338 |  0.0008902746 |  0.009227810 |  0.023485116 | -0.050541578 | -0.004042473 | -0.008954768 | -0.034349355 | ⋯ | -0.009692787 |  0.000137702 |  0.002470854 |  0.014315828 |  0.01444792 |  0.014043154 | -0.026104068 | -0.032637196 | -0.029486023 |  0.014349461 |\n",
       "| UK01080111_1 |  0.00745554 |  1.941599e-02 |  0.01388253 |  0.0112125466 |  0.066831632 | -0.059039021 |  0.002001893 | -0.060396348 |  0.068444620 |  0.004825214 | ⋯ | -0.008891282 |  0.003956666 |  0.043050247 |  0.015125900 |  0.01472175 | -0.007187568 |  0.021612025 | -0.038603337 |  0.013234403 |  0.001215820 |\n",
       "| UK01110093_1 |  0.02810750 | -1.101635e-01 | -0.05651708 | -0.0284398381 |  0.034401915 |  0.026758751 |  0.054521354 | -0.014044159 | -0.002242296 | -0.001428255 | ⋯ | -0.023762273 |  0.061202049 | -0.011192400 | -0.001689001 | -0.02657633 |  0.039272582 |  0.081409446 | -0.020022599 | -0.010265247 | -0.004249738 |\n",
       "| UK01110093_5 | -0.02173342 | -1.091444e-01 | -0.04905253 | -0.0245717564 | -0.039118389 |  0.017869684 |  0.038262004 |  0.058891249 |  0.012330741 |  0.074703597 | ⋯ | -0.014952651 | -0.019676711 | -0.017587738 |  0.027756715 | -0.00406966 |  0.034642964 |  0.034914416 | -0.010948103 | -0.034823690 |  0.004866058 |\n",
       "\n"
      ],
      "text/plain": [
       "             Gene_Exp_PC1 Gene_Exp_PC2  Gene_Exp_PC3 Gene_Exp_PC4  Gene_Exp_PC5\n",
       "UK01050129_5 -0.05945679   7.396396e-02  0.01274124  -0.0112844921  0.012751830\n",
       "UK01060123_3 -0.01560333   2.349240e-02 -0.02082291   0.0448819271  0.009481692\n",
       "UK01070117_3 -0.03104763  -5.886191e-05 -0.01057338   0.0008902746  0.009227810\n",
       "UK01080111_1  0.00745554   1.941599e-02  0.01388253   0.0112125466  0.066831632\n",
       "UK01110093_1  0.02810750  -1.101635e-01 -0.05651708  -0.0284398381  0.034401915\n",
       "UK01110093_5 -0.02173342  -1.091444e-01 -0.04905253  -0.0245717564 -0.039118389\n",
       "             Gene_Exp_PC6 Gene_Exp_PC7 Gene_Exp_PC8 Gene_Exp_PC9 Gene_Exp_PC10\n",
       "UK01050129_5  0.007860453 -0.008250262  0.046134299  0.003959458  0.014904068 \n",
       "UK01060123_3  0.028692445  0.018137045 -0.014255415 -0.017246112 -0.010657504 \n",
       "UK01070117_3  0.023485116 -0.050541578 -0.004042473 -0.008954768 -0.034349355 \n",
       "UK01080111_1 -0.059039021  0.002001893 -0.060396348  0.068444620  0.004825214 \n",
       "UK01110093_1  0.026758751  0.054521354 -0.014044159 -0.002242296 -0.001428255 \n",
       "UK01110093_5  0.017869684  0.038262004  0.058891249  0.012330741  0.074703597 \n",
       "             ⋯ Gene_Exp_PC21 Gene_Exp_PC22 Gene_Exp_PC23 Gene_Exp_PC24\n",
       "UK01050129_5 ⋯  0.002442630   0.014472714   0.010122804  -0.018568895 \n",
       "UK01060123_3 ⋯  0.029781414  -0.009111470  -0.042289180  -0.018598499 \n",
       "UK01070117_3 ⋯ -0.009692787   0.000137702   0.002470854   0.014315828 \n",
       "UK01080111_1 ⋯ -0.008891282   0.003956666   0.043050247   0.015125900 \n",
       "UK01110093_1 ⋯ -0.023762273   0.061202049  -0.011192400  -0.001689001 \n",
       "UK01110093_5 ⋯ -0.014952651  -0.019676711  -0.017587738   0.027756715 \n",
       "             Gene_Exp_PC25 Gene_Exp_PC26 Gene_Exp_PC27 Gene_Exp_PC28\n",
       "UK01050129_5  0.02955028   -0.018029125  -0.005774272  -0.033913856 \n",
       "UK01060123_3  0.03365637   -0.025156985  -0.020932081  -0.001319561 \n",
       "UK01070117_3  0.01444792    0.014043154  -0.026104068  -0.032637196 \n",
       "UK01080111_1  0.01472175   -0.007187568   0.021612025  -0.038603337 \n",
       "UK01110093_1 -0.02657633    0.039272582   0.081409446  -0.020022599 \n",
       "UK01110093_5 -0.00406966    0.034642964   0.034914416  -0.010948103 \n",
       "             Gene_Exp_PC29 Gene_Exp_PC30\n",
       "UK01050129_5 -0.014132836   0.012273754 \n",
       "UK01060123_3 -0.007350224   0.025998600 \n",
       "UK01070117_3 -0.029486023   0.014349461 \n",
       "UK01080111_1  0.013234403   0.001215820 \n",
       "UK01110093_1 -0.010265247  -0.004249738 \n",
       "UK01110093_5 -0.034823690   0.004866058 "
      ]
     },
     "metadata": {},
     "output_type": "display_data"
    }
   ],
   "source": [
    "head(gene.exp.pcs)"
   ]
  },
  {
   "cell_type": "code",
   "execution_count": 25,
   "id": "df6423e5-4d94-4844-9bb8-6f30cb231bce",
   "metadata": {},
   "outputs": [],
   "source": [
    "covs <- cbind(covs, gene.exp.pcs)"
   ]
  },
  {
   "cell_type": "code",
   "execution_count": 26,
   "id": "dcc51aef-e1cd-4e57-9880-9a6522e65795",
   "metadata": {},
   "outputs": [
    {
     "data": {
      "text/html": [
       "<table class=\"dataframe\">\n",
       "<caption>A data.frame: 6 × 73</caption>\n",
       "<thead>\n",
       "\t<tr><th></th><th scope=col>Neutrophils</th><th scope=col>Lymphocytes</th><th scope=col>Monocytes</th><th scope=col>PC1</th><th scope=col>PC2</th><th scope=col>PC3</th><th scope=col>PC4</th><th scope=col>PC5</th><th scope=col>PC6</th><th scope=col>PC7</th><th scope=col>⋯</th><th scope=col>Gene_Exp_PC21</th><th scope=col>Gene_Exp_PC22</th><th scope=col>Gene_Exp_PC23</th><th scope=col>Gene_Exp_PC24</th><th scope=col>Gene_Exp_PC25</th><th scope=col>Gene_Exp_PC26</th><th scope=col>Gene_Exp_PC27</th><th scope=col>Gene_Exp_PC28</th><th scope=col>Gene_Exp_PC29</th><th scope=col>Gene_Exp_PC30</th></tr>\n",
       "\t<tr><th></th><th scope=col>&lt;dbl&gt;</th><th scope=col>&lt;dbl&gt;</th><th scope=col>&lt;dbl&gt;</th><th scope=col>&lt;dbl&gt;</th><th scope=col>&lt;dbl&gt;</th><th scope=col>&lt;dbl&gt;</th><th scope=col>&lt;dbl&gt;</th><th scope=col>&lt;dbl&gt;</th><th scope=col>&lt;dbl&gt;</th><th scope=col>&lt;dbl&gt;</th><th scope=col>⋯</th><th scope=col>&lt;dbl&gt;</th><th scope=col>&lt;dbl&gt;</th><th scope=col>&lt;dbl&gt;</th><th scope=col>&lt;dbl&gt;</th><th scope=col>&lt;dbl&gt;</th><th scope=col>&lt;dbl&gt;</th><th scope=col>&lt;dbl&gt;</th><th scope=col>&lt;dbl&gt;</th><th scope=col>&lt;dbl&gt;</th><th scope=col>&lt;dbl&gt;</th></tr>\n",
       "</thead>\n",
       "<tbody>\n",
       "\t<tr><th scope=row>UK01050129_5</th><td>-1.7381318</td><td> 1.8281826</td><td> 1.2829455</td><td> 0.177279994</td><td> 0.051694602</td><td>0.02486030</td><td>-0.035102502</td><td>-0.00455149</td><td>-0.0603707</td><td> 0.03964880</td><td>⋯</td><td> 0.002442630</td><td> 0.014472714</td><td> 0.010122804</td><td>-0.018568895</td><td> 0.02955028</td><td>-0.018029125</td><td>-0.005774272</td><td>-0.033913856</td><td>-0.014132836</td><td> 0.012273754</td></tr>\n",
       "\t<tr><th scope=row>UK01060123_3</th><td>-0.3845370</td><td> 0.3878375</td><td> 0.4548023</td><td>-0.000388133</td><td>-0.000674099</td><td>0.00810357</td><td> 0.000212791</td><td> 0.03396150</td><td> 0.0266317</td><td>-0.01885280</td><td>⋯</td><td> 0.029781414</td><td>-0.009111470</td><td>-0.042289180</td><td>-0.018598499</td><td> 0.03365637</td><td>-0.025156985</td><td>-0.020932081</td><td>-0.001319561</td><td>-0.007350224</td><td> 0.025998600</td></tr>\n",
       "\t<tr><th scope=row>UK01070117_3</th><td>-0.7738039</td><td> 0.5846032</td><td> 0.9325467</td><td> 0.016432300</td><td>-0.048464298</td><td>0.00813966</td><td>-0.047699600</td><td>-0.07926830</td><td> 0.0263629</td><td>-0.08224740</td><td>⋯</td><td>-0.009692787</td><td> 0.000137702</td><td> 0.002470854</td><td> 0.014315828</td><td> 0.01444792</td><td> 0.014043154</td><td>-0.026104068</td><td>-0.032637196</td><td>-0.029486023</td><td> 0.014349461</td></tr>\n",
       "\t<tr><th scope=row>UK01080111_1</th><td> 0.1305646</td><td> 0.2888638</td><td>-0.6232047</td><td> 0.161789000</td><td> 0.036224801</td><td>0.00467903</td><td>-0.048611499</td><td> 0.00180036</td><td>-0.0352357</td><td> 0.05012510</td><td>⋯</td><td>-0.008891282</td><td> 0.003956666</td><td> 0.043050247</td><td> 0.015125900</td><td> 0.01472175</td><td>-0.007187568</td><td> 0.021612025</td><td>-0.038603337</td><td> 0.013234403</td><td> 0.001215820</td></tr>\n",
       "\t<tr><th scope=row>UK01110093_1</th><td> 1.0909779</td><td>-1.2488160</td><td>-0.4429439</td><td>-0.006296720</td><td> 0.002821510</td><td>0.00699239</td><td> 0.004351650</td><td> 0.00268802</td><td> 0.0166922</td><td>-0.00733983</td><td>⋯</td><td>-0.023762273</td><td> 0.061202049</td><td>-0.011192400</td><td>-0.001689001</td><td>-0.02657633</td><td> 0.039272582</td><td> 0.081409446</td><td>-0.020022599</td><td>-0.010265247</td><td>-0.004249738</td></tr>\n",
       "\t<tr><th scope=row>UK01110093_5</th><td> 0.2302416</td><td> 0.0000000</td><td>-0.3306479</td><td>-0.006296720</td><td> 0.002821510</td><td>0.00699239</td><td> 0.004351650</td><td> 0.00268802</td><td> 0.0166922</td><td>-0.00733983</td><td>⋯</td><td>-0.014952651</td><td>-0.019676711</td><td>-0.017587738</td><td> 0.027756715</td><td>-0.00406966</td><td> 0.034642964</td><td> 0.034914416</td><td>-0.010948103</td><td>-0.034823690</td><td> 0.004866058</td></tr>\n",
       "</tbody>\n",
       "</table>\n"
      ],
      "text/latex": [
       "A data.frame: 6 × 73\n",
       "\\begin{tabular}{r|lllllllllllllllllllll}\n",
       "  & Neutrophils & Lymphocytes & Monocytes & PC1 & PC2 & PC3 & PC4 & PC5 & PC6 & PC7 & ⋯ & Gene\\_Exp\\_PC21 & Gene\\_Exp\\_PC22 & Gene\\_Exp\\_PC23 & Gene\\_Exp\\_PC24 & Gene\\_Exp\\_PC25 & Gene\\_Exp\\_PC26 & Gene\\_Exp\\_PC27 & Gene\\_Exp\\_PC28 & Gene\\_Exp\\_PC29 & Gene\\_Exp\\_PC30\\\\\n",
       "  & <dbl> & <dbl> & <dbl> & <dbl> & <dbl> & <dbl> & <dbl> & <dbl> & <dbl> & <dbl> & ⋯ & <dbl> & <dbl> & <dbl> & <dbl> & <dbl> & <dbl> & <dbl> & <dbl> & <dbl> & <dbl>\\\\\n",
       "\\hline\n",
       "\tUK01050129\\_5 & -1.7381318 &  1.8281826 &  1.2829455 &  0.177279994 &  0.051694602 & 0.02486030 & -0.035102502 & -0.00455149 & -0.0603707 &  0.03964880 & ⋯ &  0.002442630 &  0.014472714 &  0.010122804 & -0.018568895 &  0.02955028 & -0.018029125 & -0.005774272 & -0.033913856 & -0.014132836 &  0.012273754\\\\\n",
       "\tUK01060123\\_3 & -0.3845370 &  0.3878375 &  0.4548023 & -0.000388133 & -0.000674099 & 0.00810357 &  0.000212791 &  0.03396150 &  0.0266317 & -0.01885280 & ⋯ &  0.029781414 & -0.009111470 & -0.042289180 & -0.018598499 &  0.03365637 & -0.025156985 & -0.020932081 & -0.001319561 & -0.007350224 &  0.025998600\\\\\n",
       "\tUK01070117\\_3 & -0.7738039 &  0.5846032 &  0.9325467 &  0.016432300 & -0.048464298 & 0.00813966 & -0.047699600 & -0.07926830 &  0.0263629 & -0.08224740 & ⋯ & -0.009692787 &  0.000137702 &  0.002470854 &  0.014315828 &  0.01444792 &  0.014043154 & -0.026104068 & -0.032637196 & -0.029486023 &  0.014349461\\\\\n",
       "\tUK01080111\\_1 &  0.1305646 &  0.2888638 & -0.6232047 &  0.161789000 &  0.036224801 & 0.00467903 & -0.048611499 &  0.00180036 & -0.0352357 &  0.05012510 & ⋯ & -0.008891282 &  0.003956666 &  0.043050247 &  0.015125900 &  0.01472175 & -0.007187568 &  0.021612025 & -0.038603337 &  0.013234403 &  0.001215820\\\\\n",
       "\tUK01110093\\_1 &  1.0909779 & -1.2488160 & -0.4429439 & -0.006296720 &  0.002821510 & 0.00699239 &  0.004351650 &  0.00268802 &  0.0166922 & -0.00733983 & ⋯ & -0.023762273 &  0.061202049 & -0.011192400 & -0.001689001 & -0.02657633 &  0.039272582 &  0.081409446 & -0.020022599 & -0.010265247 & -0.004249738\\\\\n",
       "\tUK01110093\\_5 &  0.2302416 &  0.0000000 & -0.3306479 & -0.006296720 &  0.002821510 & 0.00699239 &  0.004351650 &  0.00268802 &  0.0166922 & -0.00733983 & ⋯ & -0.014952651 & -0.019676711 & -0.017587738 &  0.027756715 & -0.00406966 &  0.034642964 &  0.034914416 & -0.010948103 & -0.034823690 &  0.004866058\\\\\n",
       "\\end{tabular}\n"
      ],
      "text/markdown": [
       "\n",
       "A data.frame: 6 × 73\n",
       "\n",
       "| <!--/--> | Neutrophils &lt;dbl&gt; | Lymphocytes &lt;dbl&gt; | Monocytes &lt;dbl&gt; | PC1 &lt;dbl&gt; | PC2 &lt;dbl&gt; | PC3 &lt;dbl&gt; | PC4 &lt;dbl&gt; | PC5 &lt;dbl&gt; | PC6 &lt;dbl&gt; | PC7 &lt;dbl&gt; | ⋯ ⋯ | Gene_Exp_PC21 &lt;dbl&gt; | Gene_Exp_PC22 &lt;dbl&gt; | Gene_Exp_PC23 &lt;dbl&gt; | Gene_Exp_PC24 &lt;dbl&gt; | Gene_Exp_PC25 &lt;dbl&gt; | Gene_Exp_PC26 &lt;dbl&gt; | Gene_Exp_PC27 &lt;dbl&gt; | Gene_Exp_PC28 &lt;dbl&gt; | Gene_Exp_PC29 &lt;dbl&gt; | Gene_Exp_PC30 &lt;dbl&gt; |\n",
       "|---|---|---|---|---|---|---|---|---|---|---|---|---|---|---|---|---|---|---|---|---|---|\n",
       "| UK01050129_5 | -1.7381318 |  1.8281826 |  1.2829455 |  0.177279994 |  0.051694602 | 0.02486030 | -0.035102502 | -0.00455149 | -0.0603707 |  0.03964880 | ⋯ |  0.002442630 |  0.014472714 |  0.010122804 | -0.018568895 |  0.02955028 | -0.018029125 | -0.005774272 | -0.033913856 | -0.014132836 |  0.012273754 |\n",
       "| UK01060123_3 | -0.3845370 |  0.3878375 |  0.4548023 | -0.000388133 | -0.000674099 | 0.00810357 |  0.000212791 |  0.03396150 |  0.0266317 | -0.01885280 | ⋯ |  0.029781414 | -0.009111470 | -0.042289180 | -0.018598499 |  0.03365637 | -0.025156985 | -0.020932081 | -0.001319561 | -0.007350224 |  0.025998600 |\n",
       "| UK01070117_3 | -0.7738039 |  0.5846032 |  0.9325467 |  0.016432300 | -0.048464298 | 0.00813966 | -0.047699600 | -0.07926830 |  0.0263629 | -0.08224740 | ⋯ | -0.009692787 |  0.000137702 |  0.002470854 |  0.014315828 |  0.01444792 |  0.014043154 | -0.026104068 | -0.032637196 | -0.029486023 |  0.014349461 |\n",
       "| UK01080111_1 |  0.1305646 |  0.2888638 | -0.6232047 |  0.161789000 |  0.036224801 | 0.00467903 | -0.048611499 |  0.00180036 | -0.0352357 |  0.05012510 | ⋯ | -0.008891282 |  0.003956666 |  0.043050247 |  0.015125900 |  0.01472175 | -0.007187568 |  0.021612025 | -0.038603337 |  0.013234403 |  0.001215820 |\n",
       "| UK01110093_1 |  1.0909779 | -1.2488160 | -0.4429439 | -0.006296720 |  0.002821510 | 0.00699239 |  0.004351650 |  0.00268802 |  0.0166922 | -0.00733983 | ⋯ | -0.023762273 |  0.061202049 | -0.011192400 | -0.001689001 | -0.02657633 |  0.039272582 |  0.081409446 | -0.020022599 | -0.010265247 | -0.004249738 |\n",
       "| UK01110093_5 |  0.2302416 |  0.0000000 | -0.3306479 | -0.006296720 |  0.002821510 | 0.00699239 |  0.004351650 |  0.00268802 |  0.0166922 | -0.00733983 | ⋯ | -0.014952651 | -0.019676711 | -0.017587738 |  0.027756715 | -0.00406966 |  0.034642964 |  0.034914416 | -0.010948103 | -0.034823690 |  0.004866058 |\n",
       "\n"
      ],
      "text/plain": [
       "             Neutrophils Lymphocytes Monocytes  PC1          PC2         \n",
       "UK01050129_5 -1.7381318   1.8281826   1.2829455  0.177279994  0.051694602\n",
       "UK01060123_3 -0.3845370   0.3878375   0.4548023 -0.000388133 -0.000674099\n",
       "UK01070117_3 -0.7738039   0.5846032   0.9325467  0.016432300 -0.048464298\n",
       "UK01080111_1  0.1305646   0.2888638  -0.6232047  0.161789000  0.036224801\n",
       "UK01110093_1  1.0909779  -1.2488160  -0.4429439 -0.006296720  0.002821510\n",
       "UK01110093_5  0.2302416   0.0000000  -0.3306479 -0.006296720  0.002821510\n",
       "             PC3        PC4          PC5         PC6        PC7         ⋯\n",
       "UK01050129_5 0.02486030 -0.035102502 -0.00455149 -0.0603707  0.03964880 ⋯\n",
       "UK01060123_3 0.00810357  0.000212791  0.03396150  0.0266317 -0.01885280 ⋯\n",
       "UK01070117_3 0.00813966 -0.047699600 -0.07926830  0.0263629 -0.08224740 ⋯\n",
       "UK01080111_1 0.00467903 -0.048611499  0.00180036 -0.0352357  0.05012510 ⋯\n",
       "UK01110093_1 0.00699239  0.004351650  0.00268802  0.0166922 -0.00733983 ⋯\n",
       "UK01110093_5 0.00699239  0.004351650  0.00268802  0.0166922 -0.00733983 ⋯\n",
       "             Gene_Exp_PC21 Gene_Exp_PC22 Gene_Exp_PC23 Gene_Exp_PC24\n",
       "UK01050129_5  0.002442630   0.014472714   0.010122804  -0.018568895 \n",
       "UK01060123_3  0.029781414  -0.009111470  -0.042289180  -0.018598499 \n",
       "UK01070117_3 -0.009692787   0.000137702   0.002470854   0.014315828 \n",
       "UK01080111_1 -0.008891282   0.003956666   0.043050247   0.015125900 \n",
       "UK01110093_1 -0.023762273   0.061202049  -0.011192400  -0.001689001 \n",
       "UK01110093_5 -0.014952651  -0.019676711  -0.017587738   0.027756715 \n",
       "             Gene_Exp_PC25 Gene_Exp_PC26 Gene_Exp_PC27 Gene_Exp_PC28\n",
       "UK01050129_5  0.02955028   -0.018029125  -0.005774272  -0.033913856 \n",
       "UK01060123_3  0.03365637   -0.025156985  -0.020932081  -0.001319561 \n",
       "UK01070117_3  0.01444792    0.014043154  -0.026104068  -0.032637196 \n",
       "UK01080111_1  0.01472175   -0.007187568   0.021612025  -0.038603337 \n",
       "UK01110093_1 -0.02657633    0.039272582   0.081409446  -0.020022599 \n",
       "UK01110093_5 -0.00406966    0.034642964   0.034914416  -0.010948103 \n",
       "             Gene_Exp_PC29 Gene_Exp_PC30\n",
       "UK01050129_5 -0.014132836   0.012273754 \n",
       "UK01060123_3 -0.007350224   0.025998600 \n",
       "UK01070117_3 -0.029486023   0.014349461 \n",
       "UK01080111_1  0.013234403   0.001215820 \n",
       "UK01110093_1 -0.010265247  -0.004249738 \n",
       "UK01110093_5 -0.034823690   0.004866058 "
      ]
     },
     "metadata": {},
     "output_type": "display_data"
    }
   ],
   "source": [
    "head(covs)"
   ]
  },
  {
   "cell_type": "markdown",
   "id": "26c34029-3efa-455d-9485-103384dd4786",
   "metadata": {
    "tags": []
   },
   "source": [
    "## Heatmap"
   ]
  },
  {
   "cell_type": "markdown",
   "id": "076c174a-88e5-4cc9-984f-a19230862509",
   "metadata": {},
   "source": [
    "Before performing single-variant association analysis, we want to check if any covariates are strongly associated with the module eigengenes."
   ]
  },
  {
   "cell_type": "code",
   "execution_count": 27,
   "id": "6df18220-afd6-43ac-b99f-f15563ff1cca",
   "metadata": {},
   "outputs": [],
   "source": [
    "all.vars <- merge(covs, eigengenes, by.x=0, by.y=0) %>%\n",
    "    dplyr::select(-Row.names)"
   ]
  },
  {
   "cell_type": "code",
   "execution_count": 28,
   "id": "970676d3-5339-4770-89ea-d97d779932b4",
   "metadata": {},
   "outputs": [
    {
     "data": {
      "text/html": [
       "<strong>png:</strong> 2"
      ],
      "text/latex": [
       "\\textbf{png:} 2"
      ],
      "text/markdown": [
       "**png:** 2"
      ],
      "text/plain": [
       "png \n",
       "  2 "
      ]
     },
     "metadata": {},
     "output_type": "display_data"
    }
   ],
   "source": [
    "colors <- colorRampPalette(brewer.pal(11, \"RdBu\"))(101)\n",
    "\n",
    "cor.mtx <- cor(all.vars)\n",
    "cor.mtx.peer <- cor.mtx[peer, colnames(eigengenes)]\n",
    "cor.mtx.pcs <- cor.mtx[pcs, colnames(eigengenes)]\n",
    "cor.mtx.held.out <- cor.mtx[held.out, colnames(eigengenes)]\n",
    "\n",
    "h1 <- Heatmap(cor.mtx.pcs, col=colors, heatmap_legend_param=list(\n",
    "    title=\"Correlation\",\n",
    "    at=c(-1, 0, 1)\n",
    "))\n",
    "\n",
    "h2 <- Heatmap(cor.mtx.peer, col=colors, heatmap_legend_param=list(\n",
    "    title=\"Correlation\",\n",
    "    at=c(-1, 0, 1)\n",
    "))\n",
    "\n",
    "h3 <- Heatmap(cor.mtx.held.out, col=colors, cluster_rows=F, heatmap_legend_param=list(\n",
    "    title=\"Correlation\",\n",
    "    at=c(-1, 0, 1)\n",
    "))\n",
    "\n",
    "svg(\"04_Expression/results/eigengene_peer_factor_correlation.svg\", width=8, height=12)\n",
    "h1 %v% h2 %v% h3\n",
    "dev.off()"
   ]
  },
  {
   "cell_type": "markdown",
   "id": "cfa945dc-6083-47e8-982c-d3c403cf6375",
   "metadata": {},
   "source": [
    "The PEER factors are built using gene expression data. It's not surprising that many of the eigengenes are associated with the PEER factors. Module refinement discarded around 9000 genes. The residual gene expression variation from these genes is likely captured by some of the PEER factors. We model this specifically using 30 gene expression PCs from the discarded genes.\n",
    "\n",
    "The eigengenes are not associated with genotyping PCs (which is good)."
   ]
  },
  {
   "cell_type": "markdown",
   "id": "b8eb0417-04be-46dc-a543-1e58f94529fc",
   "metadata": {},
   "source": [
    "![](../results/eigengene_peer_factor_correlation.svg)"
   ]
  },
  {
   "cell_type": "markdown",
   "id": "32443e95-d375-40f2-a8e2-b2aee70dcd64",
   "metadata": {},
   "source": [
    "Ideally, I will include only sex and genotyping PCs as covariates in this mapping, since everything else (cell counts, SRS group) are important signatures that may be correlated with module eigengenes. I will include 20 PEER factors to control for technical confounders and to remain consistent with the cis-eQTL mapping procedure."
   ]
  },
  {
   "cell_type": "markdown",
   "id": "e7e66a4f-1e9c-490b-84e5-ad4193d9036d",
   "metadata": {
    "tags": []
   },
   "source": [
    "## Save Covariates"
   ]
  },
  {
   "cell_type": "markdown",
   "id": "18223439-bc5d-4e9d-9bed-57fbd2228210",
   "metadata": {},
   "source": [
    "Save list of patients (family ID in the first column and individual ID in the second column) to subset the genotyping data using PLINK. There are 638 unique patients with genotyping information."
   ]
  },
  {
   "cell_type": "code",
   "execution_count": 29,
   "id": "13413b35-1092-4b7a-97ef-7a734fdd0dd5",
   "metadata": {},
   "outputs": [],
   "source": [
    "eigengene.patients <- sapply(strsplit(rownames(eigengenes), \"_\"), function(x) { x[1] })\n",
    "\n",
    "geno.fam <- fread(\"~/gains_team282/Genotyping/All_genotyping_merged_filtered_b38_refiltered_rsID.fam\") %>%\n",
    "    dplyr::select(Family.ID=1, Individual.ID=2) %>%\n",
    "    dplyr::mutate(GAinS.ID=gsub(\"^GA\", \"\", Individual.ID)) %>%\n",
    "    dplyr::filter(GAinS.ID %in% eigengene.patients) %>%\n",
    "    unique()"
   ]
  },
  {
   "cell_type": "code",
   "execution_count": 30,
   "id": "93a8597a-1a50-423b-a6e9-fc179ac88d39",
   "metadata": {},
   "outputs": [
    {
     "data": {
      "text/html": [
       "<style>\n",
       ".list-inline {list-style: none; margin:0; padding: 0}\n",
       ".list-inline>li {display: inline-block}\n",
       ".list-inline>li:not(:last-child)::after {content: \"\\00b7\"; padding: 0 .5ex}\n",
       "</style>\n",
       "<ol class=list-inline><li>638</li><li>3</li></ol>\n"
      ],
      "text/latex": [
       "\\begin{enumerate*}\n",
       "\\item 638\n",
       "\\item 3\n",
       "\\end{enumerate*}\n"
      ],
      "text/markdown": [
       "1. 638\n",
       "2. 3\n",
       "\n",
       "\n"
      ],
      "text/plain": [
       "[1] 638   3"
      ]
     },
     "metadata": {},
     "output_type": "display_data"
    }
   ],
   "source": [
    "dim(geno.fam)"
   ]
  },
  {
   "cell_type": "code",
   "execution_count": 31,
   "id": "61dae4de-5a7a-4686-a22c-c981fee7c1b0",
   "metadata": {},
   "outputs": [],
   "source": [
    "write.table(\n",
    "    geno.fam %>% dplyr::select(Family.ID, Individual.ID), \n",
    "    \"~/gains_team282/nikhil/expression/eigengene_sva/mapping_patients.txt\", row.names=F, quote=F, col.names=F, sep=\"\\t\"\n",
    ")"
   ]
  },
  {
   "cell_type": "markdown",
   "id": "af790d1e-583b-4a87-848d-c44edf00a4c5",
   "metadata": {},
   "source": [
    "Save the list of module eigengenes as a text file. This will be used by NextFlow to parallelize the association mapping."
   ]
  },
  {
   "cell_type": "code",
   "execution_count": 32,
   "id": "0b100493-d60e-4f89-b9cf-c966916b8fae",
   "metadata": {},
   "outputs": [],
   "source": [
    "write.table(colnames(eigengenes), \"~/gains_team282/nikhil/expression/eigengene_sva/mapping_eigengenes.txt\", row.names=F, quote=F, col.names=F, sep=\"\\t\")"
   ]
  },
  {
   "cell_type": "markdown",
   "id": "9a99a350-ac3e-4c19-b846-80171620e7b1",
   "metadata": {
    "tags": []
   },
   "source": [
    "### Initial Pass"
   ]
  },
  {
   "cell_type": "markdown",
   "id": "702d915b-5cd6-4276-a5a1-e038d0248a28",
   "metadata": {},
   "source": [
    "I will be using a linear mixed model (LMM) to test for association between genotypes and eigengene expression. In the past, the lab has used a likelihood test (F-Test) to compare a null model of the covariates against an alternative model where the genotype is included. I will be building the following model:\n",
    "\n",
    "1. Let $\\mathbf{E}_i\\in\\mathbb{R}^n$ be a vector representing the values of the $i$-th eigengene.\n",
    "2. Let $\\mathbf{Y}\\in\\mathbb{R}^{n\\times c}$ be a matrix of covariates. These covariates include Sex, 16 PEER factors, and 7 Genotyping PCs.\n",
    "3. Let $\\mathbf{Z}\\in\\mathbb{R}^n$ be a vector representing the random effects. The only random effect in this model is the Patient ID.\n",
    "4. Let $\\mathbf{X}\\in\\mathbb{R}^n$ be a vector representing the genotypes of the patients.\n",
    "5. Let $\\beta\\in\\mathbb{R}$ be a scalar value representing the genotypic effect on eigengene expression.\n",
    "6. Let $\\mathbf{\\alpha}\\in\\mathbb{R}^c$ be a vector of covariate effects on eigengene expression.\n",
    "7. Let $\\gamma\\in\\mathbb{R}$ be a scalar value representing the random effect on eigengene expression.\n",
    "\n",
    "The null model is:\n",
    "\n",
    "$$\\mathbf{E}_i \\sim \\mathbf{Y}\\alpha + \\mathbf{Z}\\gamma$$\n",
    "\n",
    "The alternative model is:\n",
    "\n",
    "$$\\mathbf{E}_i \\sim \\mathbf{X}\\beta + \\mathbf{Y}\\alpha + \\mathbf{Z}\\gamma$$"
   ]
  },
  {
   "cell_type": "markdown",
   "id": "7e20133d-11f0-480f-9bec-4869a8279161",
   "metadata": {},
   "source": [
    "There are 823 samples from the RNA-Seq data that have genotypes as well."
   ]
  },
  {
   "cell_type": "code",
   "execution_count": 33,
   "id": "2c9a6515-9ca4-4974-abb0-c5fabf338edc",
   "metadata": {},
   "outputs": [
    {
     "data": {
      "text/html": [
       "823"
      ],
      "text/latex": [
       "823"
      ],
      "text/markdown": [
       "823"
      ],
      "text/plain": [
       "[1] 823"
      ]
     },
     "metadata": {},
     "output_type": "display_data"
    }
   ],
   "source": [
    "samples.with.genotypes <- rownames(eigengenes)[\n",
    "    sapply(\n",
    "        strsplit(rownames(eigengenes), \"_\"),\n",
    "        function(x) { x[1] %in% geno.fam$GAinS.ID }\n",
    "    )\n",
    "]\n",
    "\n",
    "length(samples.with.genotypes)"
   ]
  },
  {
   "cell_type": "code",
   "execution_count": 34,
   "id": "e8ae2e1e-aee5-4217-bd0a-538807c882b8",
   "metadata": {},
   "outputs": [
    {
     "data": {
      "text/html": [
       "<style>\n",
       ".list-inline {list-style: none; margin:0; padding: 0}\n",
       ".list-inline>li {display: inline-block}\n",
       ".list-inline>li:not(:last-child)::after {content: \"\\00b7\"; padding: 0 .5ex}\n",
       "</style>\n",
       "<ol class=list-inline><li>'sex'</li><li>'PC1'</li><li>'PC2'</li><li>'PC3'</li><li>'PC4'</li><li>'PC5'</li><li>'PC6'</li><li>'PC7'</li></ol>\n"
      ],
      "text/latex": [
       "\\begin{enumerate*}\n",
       "\\item 'sex'\n",
       "\\item 'PC1'\n",
       "\\item 'PC2'\n",
       "\\item 'PC3'\n",
       "\\item 'PC4'\n",
       "\\item 'PC5'\n",
       "\\item 'PC6'\n",
       "\\item 'PC7'\n",
       "\\end{enumerate*}\n"
      ],
      "text/markdown": [
       "1. 'sex'\n",
       "2. 'PC1'\n",
       "3. 'PC2'\n",
       "4. 'PC3'\n",
       "5. 'PC4'\n",
       "6. 'PC5'\n",
       "7. 'PC6'\n",
       "8. 'PC7'\n",
       "\n",
       "\n"
      ],
      "text/plain": [
       "[1] \"sex\" \"PC1\" \"PC2\" \"PC3\" \"PC4\" \"PC5\" \"PC6\" \"PC7\""
      ]
     },
     "metadata": {},
     "output_type": "display_data"
    },
    {
     "data": {
      "text/html": [
       "'GAinS.ID'"
      ],
      "text/latex": [
       "'GAinS.ID'"
      ],
      "text/markdown": [
       "'GAinS.ID'"
      ],
      "text/plain": [
       "[1] \"GAinS.ID\""
      ]
     },
     "metadata": {},
     "output_type": "display_data"
    }
   ],
   "source": [
    "# peer.included <- peer[1:20]\n",
    "# peer.included\n",
    "\n",
    "cov.names <- c(\"sex\", paste0(\"PC\", 1:7))\n",
    "cov.names\n",
    "\n",
    "rand.effect.names <- c(\"GAinS.ID\")\n",
    "rand.effect.names"
   ]
  },
  {
   "cell_type": "code",
   "execution_count": 35,
   "id": "0b68e365-3db2-4446-8fe9-f71ab5fdd4eb",
   "metadata": {},
   "outputs": [],
   "source": [
    "mapping.data <- merge(eigengenes, covs, by=0) %>%\n",
    "    dplyr::filter(Row.names %in% samples.with.genotypes) %>%\n",
    "    dplyr::select(Sample.ID=Row.names, everything()) %>%\n",
    "    dplyr::mutate(GAinS.ID.NonPrefix=sapply(strsplit(Sample.ID, \"_\"), function(x) { x[1] })) %>%\n",
    "    merge(., geno.fam, by.x=\"GAinS.ID.NonPrefix\", by.y=\"GAinS.ID\") %>%\n",
    "    dplyr::select(GAinS.ID=Individual.ID, everything()) %>%\n",
    "    dplyr::select(Sample.ID, any_of(rand.effect.names), any_of(colnames(eigengenes)), any_of(cov.names)) # , any_of(peer.included))"
   ]
  },
  {
   "cell_type": "code",
   "execution_count": 36,
   "id": "35b5728d-c41e-42b9-9bad-844187829c68",
   "metadata": {},
   "outputs": [
    {
     "data": {
      "text/html": [
       "<table class=\"dataframe\">\n",
       "<caption>A data.frame: 6 × 23</caption>\n",
       "<thead>\n",
       "\t<tr><th></th><th scope=col>Sample.ID</th><th scope=col>GAinS.ID</th><th scope=col>ME_1</th><th scope=col>ME_2</th><th scope=col>ME_3</th><th scope=col>ME_4</th><th scope=col>ME_5</th><th scope=col>ME_6</th><th scope=col>ME_7</th><th scope=col>ME_8</th><th scope=col>⋯</th><th scope=col>ME_12</th><th scope=col>ME_13</th><th scope=col>sex</th><th scope=col>PC1</th><th scope=col>PC2</th><th scope=col>PC3</th><th scope=col>PC4</th><th scope=col>PC5</th><th scope=col>PC6</th><th scope=col>PC7</th></tr>\n",
       "\t<tr><th></th><th scope=col>&lt;I&lt;chr&gt;&gt;</th><th scope=col>&lt;chr&gt;</th><th scope=col>&lt;dbl&gt;</th><th scope=col>&lt;dbl&gt;</th><th scope=col>&lt;dbl&gt;</th><th scope=col>&lt;dbl&gt;</th><th scope=col>&lt;dbl&gt;</th><th scope=col>&lt;dbl&gt;</th><th scope=col>&lt;dbl&gt;</th><th scope=col>&lt;dbl&gt;</th><th scope=col>⋯</th><th scope=col>&lt;dbl&gt;</th><th scope=col>&lt;dbl&gt;</th><th scope=col>&lt;dbl&gt;</th><th scope=col>&lt;dbl&gt;</th><th scope=col>&lt;dbl&gt;</th><th scope=col>&lt;dbl&gt;</th><th scope=col>&lt;dbl&gt;</th><th scope=col>&lt;dbl&gt;</th><th scope=col>&lt;dbl&gt;</th><th scope=col>&lt;dbl&gt;</th></tr>\n",
       "</thead>\n",
       "<tbody>\n",
       "\t<tr><th scope=row>1</th><td>UK01050129_5</td><td>UK01050129</td><td> 0.012719214</td><td>-0.023440950</td><td>-0.04542535</td><td> 0.06999282</td><td> 0.015125303</td><td>-0.086160570</td><td>-0.037450584</td><td> 0.009992248</td><td>⋯</td><td> 0.013128766</td><td> 0.008309866</td><td>2</td><td> 0.177279994</td><td> 0.051694602</td><td>0.02486030</td><td>-0.035102502</td><td>-0.00455149</td><td>-0.0603707</td><td> 0.03964880</td></tr>\n",
       "\t<tr><th scope=row>2</th><td>UK01060123_3</td><td>UK01060123</td><td>-0.008242368</td><td> 0.009466138</td><td>-0.02985941</td><td> 0.00693036</td><td>-0.009508549</td><td>-0.009069338</td><td>-0.025306211</td><td>-0.021479232</td><td>⋯</td><td>-0.035444689</td><td>-0.014082065</td><td>2</td><td>-0.000388133</td><td>-0.000674099</td><td>0.00810357</td><td> 0.000212791</td><td> 0.03396150</td><td> 0.0266317</td><td>-0.01885280</td></tr>\n",
       "\t<tr><th scope=row>3</th><td>UK01070117_3</td><td>UK01070117</td><td> 0.017011264</td><td>-0.028425084</td><td>-0.02043529</td><td> 0.02811632</td><td>-0.018363903</td><td>-0.014895840</td><td>-0.005704272</td><td>-0.009856401</td><td>⋯</td><td> 0.072696663</td><td> 0.006468190</td><td>1</td><td> 0.016432300</td><td>-0.048464298</td><td>0.00813966</td><td>-0.047699600</td><td>-0.07926830</td><td> 0.0263629</td><td>-0.08224740</td></tr>\n",
       "\t<tr><th scope=row>4</th><td>UK01080111_1</td><td>UK01080111</td><td>-0.029039958</td><td> 0.031282043</td><td>-0.02566986</td><td>-0.01996656</td><td> 0.011027645</td><td> 0.001161878</td><td>-0.022246554</td><td>-0.035166199</td><td>⋯</td><td> 0.001080440</td><td>-0.083312208</td><td>1</td><td> 0.161789000</td><td> 0.036224801</td><td>0.00467903</td><td>-0.048611499</td><td> 0.00180036</td><td>-0.0352357</td><td> 0.05012510</td></tr>\n",
       "\t<tr><th scope=row>5</th><td>UK01110093_1</td><td>UK01110093</td><td> 0.034055668</td><td>-0.040433634</td><td> 0.06719405</td><td>-0.02931558</td><td>-0.047420760</td><td> 0.099590607</td><td> 0.079882311</td><td>-0.047126054</td><td>⋯</td><td>-0.009868418</td><td> 0.036556449</td><td>2</td><td>-0.006296720</td><td> 0.002821510</td><td>0.00699239</td><td> 0.004351650</td><td> 0.00268802</td><td> 0.0166922</td><td>-0.00733983</td></tr>\n",
       "\t<tr><th scope=row>6</th><td>UK01110093_5</td><td>UK01110093</td><td> 0.135468572</td><td>-0.128637208</td><td> 0.08961844</td><td> 0.07871120</td><td> 0.007549293</td><td>-0.006789204</td><td> 0.133900125</td><td>-0.015583826</td><td>⋯</td><td> 0.088363899</td><td> 0.074435809</td><td>2</td><td>-0.006296720</td><td> 0.002821510</td><td>0.00699239</td><td> 0.004351650</td><td> 0.00268802</td><td> 0.0166922</td><td>-0.00733983</td></tr>\n",
       "</tbody>\n",
       "</table>\n"
      ],
      "text/latex": [
       "A data.frame: 6 × 23\n",
       "\\begin{tabular}{r|lllllllllllllllllllll}\n",
       "  & Sample.ID & GAinS.ID & ME\\_1 & ME\\_2 & ME\\_3 & ME\\_4 & ME\\_5 & ME\\_6 & ME\\_7 & ME\\_8 & ⋯ & ME\\_12 & ME\\_13 & sex & PC1 & PC2 & PC3 & PC4 & PC5 & PC6 & PC7\\\\\n",
       "  & <I<chr>> & <chr> & <dbl> & <dbl> & <dbl> & <dbl> & <dbl> & <dbl> & <dbl> & <dbl> & ⋯ & <dbl> & <dbl> & <dbl> & <dbl> & <dbl> & <dbl> & <dbl> & <dbl> & <dbl> & <dbl>\\\\\n",
       "\\hline\n",
       "\t1 & UK01050129\\_5 & UK01050129 &  0.012719214 & -0.023440950 & -0.04542535 &  0.06999282 &  0.015125303 & -0.086160570 & -0.037450584 &  0.009992248 & ⋯ &  0.013128766 &  0.008309866 & 2 &  0.177279994 &  0.051694602 & 0.02486030 & -0.035102502 & -0.00455149 & -0.0603707 &  0.03964880\\\\\n",
       "\t2 & UK01060123\\_3 & UK01060123 & -0.008242368 &  0.009466138 & -0.02985941 &  0.00693036 & -0.009508549 & -0.009069338 & -0.025306211 & -0.021479232 & ⋯ & -0.035444689 & -0.014082065 & 2 & -0.000388133 & -0.000674099 & 0.00810357 &  0.000212791 &  0.03396150 &  0.0266317 & -0.01885280\\\\\n",
       "\t3 & UK01070117\\_3 & UK01070117 &  0.017011264 & -0.028425084 & -0.02043529 &  0.02811632 & -0.018363903 & -0.014895840 & -0.005704272 & -0.009856401 & ⋯ &  0.072696663 &  0.006468190 & 1 &  0.016432300 & -0.048464298 & 0.00813966 & -0.047699600 & -0.07926830 &  0.0263629 & -0.08224740\\\\\n",
       "\t4 & UK01080111\\_1 & UK01080111 & -0.029039958 &  0.031282043 & -0.02566986 & -0.01996656 &  0.011027645 &  0.001161878 & -0.022246554 & -0.035166199 & ⋯ &  0.001080440 & -0.083312208 & 1 &  0.161789000 &  0.036224801 & 0.00467903 & -0.048611499 &  0.00180036 & -0.0352357 &  0.05012510\\\\\n",
       "\t5 & UK01110093\\_1 & UK01110093 &  0.034055668 & -0.040433634 &  0.06719405 & -0.02931558 & -0.047420760 &  0.099590607 &  0.079882311 & -0.047126054 & ⋯ & -0.009868418 &  0.036556449 & 2 & -0.006296720 &  0.002821510 & 0.00699239 &  0.004351650 &  0.00268802 &  0.0166922 & -0.00733983\\\\\n",
       "\t6 & UK01110093\\_5 & UK01110093 &  0.135468572 & -0.128637208 &  0.08961844 &  0.07871120 &  0.007549293 & -0.006789204 &  0.133900125 & -0.015583826 & ⋯ &  0.088363899 &  0.074435809 & 2 & -0.006296720 &  0.002821510 & 0.00699239 &  0.004351650 &  0.00268802 &  0.0166922 & -0.00733983\\\\\n",
       "\\end{tabular}\n"
      ],
      "text/markdown": [
       "\n",
       "A data.frame: 6 × 23\n",
       "\n",
       "| <!--/--> | Sample.ID &lt;I&lt;chr&gt;&gt; | GAinS.ID &lt;chr&gt; | ME_1 &lt;dbl&gt; | ME_2 &lt;dbl&gt; | ME_3 &lt;dbl&gt; | ME_4 &lt;dbl&gt; | ME_5 &lt;dbl&gt; | ME_6 &lt;dbl&gt; | ME_7 &lt;dbl&gt; | ME_8 &lt;dbl&gt; | ⋯ ⋯ | ME_12 &lt;dbl&gt; | ME_13 &lt;dbl&gt; | sex &lt;dbl&gt; | PC1 &lt;dbl&gt; | PC2 &lt;dbl&gt; | PC3 &lt;dbl&gt; | PC4 &lt;dbl&gt; | PC5 &lt;dbl&gt; | PC6 &lt;dbl&gt; | PC7 &lt;dbl&gt; |\n",
       "|---|---|---|---|---|---|---|---|---|---|---|---|---|---|---|---|---|---|---|---|---|---|\n",
       "| 1 | UK01050129_5 | UK01050129 |  0.012719214 | -0.023440950 | -0.04542535 |  0.06999282 |  0.015125303 | -0.086160570 | -0.037450584 |  0.009992248 | ⋯ |  0.013128766 |  0.008309866 | 2 |  0.177279994 |  0.051694602 | 0.02486030 | -0.035102502 | -0.00455149 | -0.0603707 |  0.03964880 |\n",
       "| 2 | UK01060123_3 | UK01060123 | -0.008242368 |  0.009466138 | -0.02985941 |  0.00693036 | -0.009508549 | -0.009069338 | -0.025306211 | -0.021479232 | ⋯ | -0.035444689 | -0.014082065 | 2 | -0.000388133 | -0.000674099 | 0.00810357 |  0.000212791 |  0.03396150 |  0.0266317 | -0.01885280 |\n",
       "| 3 | UK01070117_3 | UK01070117 |  0.017011264 | -0.028425084 | -0.02043529 |  0.02811632 | -0.018363903 | -0.014895840 | -0.005704272 | -0.009856401 | ⋯ |  0.072696663 |  0.006468190 | 1 |  0.016432300 | -0.048464298 | 0.00813966 | -0.047699600 | -0.07926830 |  0.0263629 | -0.08224740 |\n",
       "| 4 | UK01080111_1 | UK01080111 | -0.029039958 |  0.031282043 | -0.02566986 | -0.01996656 |  0.011027645 |  0.001161878 | -0.022246554 | -0.035166199 | ⋯ |  0.001080440 | -0.083312208 | 1 |  0.161789000 |  0.036224801 | 0.00467903 | -0.048611499 |  0.00180036 | -0.0352357 |  0.05012510 |\n",
       "| 5 | UK01110093_1 | UK01110093 |  0.034055668 | -0.040433634 |  0.06719405 | -0.02931558 | -0.047420760 |  0.099590607 |  0.079882311 | -0.047126054 | ⋯ | -0.009868418 |  0.036556449 | 2 | -0.006296720 |  0.002821510 | 0.00699239 |  0.004351650 |  0.00268802 |  0.0166922 | -0.00733983 |\n",
       "| 6 | UK01110093_5 | UK01110093 |  0.135468572 | -0.128637208 |  0.08961844 |  0.07871120 |  0.007549293 | -0.006789204 |  0.133900125 | -0.015583826 | ⋯ |  0.088363899 |  0.074435809 | 2 | -0.006296720 |  0.002821510 | 0.00699239 |  0.004351650 |  0.00268802 |  0.0166922 | -0.00733983 |\n",
       "\n"
      ],
      "text/plain": [
       "  Sample.ID    GAinS.ID   ME_1         ME_2         ME_3        ME_4       \n",
       "1 UK01050129_5 UK01050129  0.012719214 -0.023440950 -0.04542535  0.06999282\n",
       "2 UK01060123_3 UK01060123 -0.008242368  0.009466138 -0.02985941  0.00693036\n",
       "3 UK01070117_3 UK01070117  0.017011264 -0.028425084 -0.02043529  0.02811632\n",
       "4 UK01080111_1 UK01080111 -0.029039958  0.031282043 -0.02566986 -0.01996656\n",
       "5 UK01110093_1 UK01110093  0.034055668 -0.040433634  0.06719405 -0.02931558\n",
       "6 UK01110093_5 UK01110093  0.135468572 -0.128637208  0.08961844  0.07871120\n",
       "  ME_5         ME_6         ME_7         ME_8         ⋯ ME_12       \n",
       "1  0.015125303 -0.086160570 -0.037450584  0.009992248 ⋯  0.013128766\n",
       "2 -0.009508549 -0.009069338 -0.025306211 -0.021479232 ⋯ -0.035444689\n",
       "3 -0.018363903 -0.014895840 -0.005704272 -0.009856401 ⋯  0.072696663\n",
       "4  0.011027645  0.001161878 -0.022246554 -0.035166199 ⋯  0.001080440\n",
       "5 -0.047420760  0.099590607  0.079882311 -0.047126054 ⋯ -0.009868418\n",
       "6  0.007549293 -0.006789204  0.133900125 -0.015583826 ⋯  0.088363899\n",
       "  ME_13        sex PC1          PC2          PC3        PC4         \n",
       "1  0.008309866 2    0.177279994  0.051694602 0.02486030 -0.035102502\n",
       "2 -0.014082065 2   -0.000388133 -0.000674099 0.00810357  0.000212791\n",
       "3  0.006468190 1    0.016432300 -0.048464298 0.00813966 -0.047699600\n",
       "4 -0.083312208 1    0.161789000  0.036224801 0.00467903 -0.048611499\n",
       "5  0.036556449 2   -0.006296720  0.002821510 0.00699239  0.004351650\n",
       "6  0.074435809 2   -0.006296720  0.002821510 0.00699239  0.004351650\n",
       "  PC5         PC6        PC7        \n",
       "1 -0.00455149 -0.0603707  0.03964880\n",
       "2  0.03396150  0.0266317 -0.01885280\n",
       "3 -0.07926830  0.0263629 -0.08224740\n",
       "4  0.00180036 -0.0352357  0.05012510\n",
       "5  0.00268802  0.0166922 -0.00733983\n",
       "6  0.00268802  0.0166922 -0.00733983"
      ]
     },
     "metadata": {},
     "output_type": "display_data"
    }
   ],
   "source": [
    "head(mapping.data)"
   ]
  },
  {
   "cell_type": "markdown",
   "id": "3467b47e-fe69-4d05-a429-96a961835b98",
   "metadata": {},
   "source": [
    "Save the mapping data design matrix for linear mixed modeling."
   ]
  },
  {
   "cell_type": "code",
   "execution_count": 37,
   "id": "0ea89bc0-7ba5-41be-8f25-cf2961c20975",
   "metadata": {},
   "outputs": [],
   "source": [
    "write.csv(mapping.data, \"~/gains_team282/nikhil/expression/eigengene_sva/mapping_data.csv\", row.names=F)"
   ]
  },
  {
   "cell_type": "markdown",
   "id": "61f4d47f-529b-4310-b319-7878a5dbaa38",
   "metadata": {},
   "source": [
    "### Identify SNPs for mQTL Mapping"
   ]
  },
  {
   "cell_type": "markdown",
   "id": "66e1e685-80a3-4292-98ce-ef867b689896",
   "metadata": {},
   "source": [
    "Since *trans* mapping in a genome-wide fashion will require a lot of testing (the multiple-testing burden will be high), we will use SNPs that we have a more biological hypothesis for. Specifically, I will include all lead eSNPs, all lead eSNPs from the conditional cis-eQTL analysis, and related associations from the EBI GWAS Catalog."
   ]
  },
  {
   "cell_type": "code",
   "execution_count": 38,
   "id": "8b359753-e010-491e-9a22-3a3a9546b14a",
   "metadata": {},
   "outputs": [
    {
     "data": {
      "text/html": [
       "30667"
      ],
      "text/latex": [
       "30667"
      ],
      "text/markdown": [
       "30667"
      ],
      "text/plain": [
       "[1] 30667"
      ]
     },
     "metadata": {},
     "output_type": "display_data"
    }
   ],
   "source": [
    "length(unique(ebi.studies[,\"DISEASE/TRAIT\"]))"
   ]
  },
  {
   "cell_type": "markdown",
   "id": "6c7befed-55fa-4e35-9097-f3456d9fbb73",
   "metadata": {},
   "source": [
    "After filtering based on the genotyping in GAinS, we have 124,525 studies and 56,219 SNPs."
   ]
  },
  {
   "cell_type": "code",
   "execution_count": 39,
   "id": "28a18096-239a-4f40-ab5e-f5aca97659bf",
   "metadata": {},
   "outputs": [
    {
     "data": {
      "text/html": [
       "124525"
      ],
      "text/latex": [
       "124525"
      ],
      "text/markdown": [
       "124525"
      ],
      "text/plain": [
       "[1] 124525"
      ]
     },
     "metadata": {},
     "output_type": "display_data"
    },
    {
     "data": {
      "text/html": [
       "56219"
      ],
      "text/latex": [
       "56219"
      ],
      "text/markdown": [
       "56219"
      ],
      "text/plain": [
       "[1] 56219"
      ]
     },
     "metadata": {},
     "output_type": "display_data"
    }
   ],
   "source": [
    "# Studies with terms specified\n",
    "studies <- ebi.studies[, \"STUDY ACCESSION\"]\n",
    "\n",
    "# Associations from the studies that are genome-wide significant\n",
    "studies.assoc <- ebi.assoc[ebi.assoc[, \"STUDY ACCESSION\"] %in% studies,] %>%\n",
    "    dplyr::mutate(`P-VALUE` = as.numeric(`P-VALUE`)) %>%\n",
    "    dplyr::filter(`P-VALUE` < 5e-8)\n",
    "\n",
    "# Association SNPs that overlap with genotyping data in GAinS\n",
    "# Ignore SNPs that are on the X chromosome\n",
    "studies.assoc <- studies.assoc %>%\n",
    "    dplyr::filter(SNPS %in% geno.bim$snps[geno.bim$chr != \"23\"])\n",
    "\n",
    "nrow(studies.assoc)\n",
    "\n",
    "length(unique(studies.assoc$SNPS))"
   ]
  },
  {
   "cell_type": "code",
   "execution_count": 40,
   "id": "08b11812-a3e3-46ea-87f0-382fd238971b",
   "metadata": {},
   "outputs": [],
   "source": [
    "mqtl.snp.table <- dplyr::bind_rows(\n",
    "    lead.cis.eqtl %>%\n",
    "        dplyr::mutate(source=\"Lead cis-eQTL SNP\") %>%\n",
    "        dplyr::mutate(conditional_number=NA, accession=NA) %>%\n",
    "        dplyr::select(snps, source, egene=gene, conditional_number, accession),\n",
    "    conditional.cis.eqtl %>%\n",
    "        dplyr::mutate(source=\"Conditional cis-eQTL SNP\") %>%\n",
    "        dplyr::mutate(accession=NA) %>%\n",
    "        dplyr::select(snps=SNP, source, egene=Gene, conditional_number=Number, accession),\n",
    "    studies.assoc %>%\n",
    "        dplyr::mutate(source=\"EBI GWAS Catalog\") %>%\n",
    "        dplyr::mutate(egene=NA, conditional_number=NA) %>%\n",
    "        dplyr::select(snps=SNPS, source, egene, conditional_number, accession=37)\n",
    ")"
   ]
  },
  {
   "cell_type": "code",
   "execution_count": 41,
   "id": "c8a7961b-fc8c-43c7-a058-ba0cdf59eb5c",
   "metadata": {},
   "outputs": [],
   "source": [
    "write.csv(mqtl.snp.table, \"~/gains_team282/nikhil/expression/eigengene_sva/mqtl_snp_table.csv\", quote=F, row.names=F)"
   ]
  },
  {
   "cell_type": "code",
   "execution_count": null,
   "id": "905dbfa7-beb3-4916-aa49-6d98c7fca670",
   "metadata": {},
   "outputs": [],
   "source": []
  }
 ],
 "metadata": {
  "kernelspec": {
   "display_name": "R",
   "language": "R",
   "name": "ir"
  },
  "language_info": {
   "codemirror_mode": "r",
   "file_extension": ".r",
   "mimetype": "text/x-r-source",
   "name": "R",
   "pygments_lexer": "r",
   "version": "4.0.5"
  }
 },
 "nbformat": 4,
 "nbformat_minor": 5
}
