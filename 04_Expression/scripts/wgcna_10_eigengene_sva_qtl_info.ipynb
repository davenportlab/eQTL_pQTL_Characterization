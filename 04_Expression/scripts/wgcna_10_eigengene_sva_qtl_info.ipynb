{
 "cells": [
  {
   "cell_type": "markdown",
   "id": "cda7a645-835d-4dd8-a48e-7a55446f4fa8",
   "metadata": {},
   "source": [
    "## Eigengene SVA QTL Info\n",
    "\n",
    "**Created**: 25 May 2022"
   ]
  },
  {
   "cell_type": "markdown",
   "id": "6fdda5de-e7c8-44b8-93d5-0d8e01bafba2",
   "metadata": {},
   "source": [
    "## Environment"
   ]
  },
  {
   "cell_type": "code",
   "execution_count": 1,
   "id": "cc42b503-ade6-4b6d-9f48-a24b69abbf79",
   "metadata": {},
   "outputs": [
    {
     "name": "stderr",
     "output_type": "stream",
     "text": [
      "── \u001b[1mAttaching packages\u001b[22m ───────────────────────────────────────────────────────────────────────────────────────────────────────────────────────────────────────────────────────────────── tidyverse 1.3.1 ──\n",
      "\n",
      "\u001b[32m✔\u001b[39m \u001b[34mggplot2\u001b[39m 3.3.5     \u001b[32m✔\u001b[39m \u001b[34mpurrr  \u001b[39m 0.3.4\n",
      "\u001b[32m✔\u001b[39m \u001b[34mtibble \u001b[39m 3.1.6     \u001b[32m✔\u001b[39m \u001b[34mdplyr  \u001b[39m 1.0.8\n",
      "\u001b[32m✔\u001b[39m \u001b[34mtidyr  \u001b[39m 1.2.0     \u001b[32m✔\u001b[39m \u001b[34mstringr\u001b[39m 1.4.0\n",
      "\u001b[32m✔\u001b[39m \u001b[34mreadr  \u001b[39m 2.1.1     \u001b[32m✔\u001b[39m \u001b[34mforcats\u001b[39m 0.5.1\n",
      "\n",
      "── \u001b[1mConflicts\u001b[22m ──────────────────────────────────────────────────────────────────────────────────────────────────────────────────────────────────────────────────────────────────── tidyverse_conflicts() ──\n",
      "\u001b[31m✖\u001b[39m \u001b[34mdplyr\u001b[39m::\u001b[32mfilter()\u001b[39m masks \u001b[34mstats\u001b[39m::filter()\n",
      "\u001b[31m✖\u001b[39m \u001b[34mdplyr\u001b[39m::\u001b[32mlag()\u001b[39m    masks \u001b[34mstats\u001b[39m::lag()\n",
      "\n",
      "\n",
      "Attaching package: ‘data.table’\n",
      "\n",
      "\n",
      "The following objects are masked from ‘package:dplyr’:\n",
      "\n",
      "    between, first, last\n",
      "\n",
      "\n",
      "The following object is masked from ‘package:purrr’:\n",
      "\n",
      "    transpose\n",
      "\n",
      "\n"
     ]
    }
   ],
   "source": [
    "library(tidyverse)\n",
    "library(data.table)\n",
    "\n",
    "setwd(\"~/eQTL_pQTL_Characterization/\")\n",
    "\n",
    "source(\"04_Expression/scripts/utils/ggplot_theme.R\")"
   ]
  },
  {
   "cell_type": "markdown",
   "id": "1986af1a-6681-4c89-99f4-a98349472c38",
   "metadata": {},
   "source": [
    "## Load Data"
   ]
  },
  {
   "cell_type": "code",
   "execution_count": 2,
   "id": "76425f96-99a8-4447-b91c-1654ea8c90d8",
   "metadata": {},
   "outputs": [],
   "source": [
    "mqtl <- read.csv(\"~/gains_team282/nikhil/expression/eigengene_sva/all_mqtl.csv\")\n",
    "mqtl.pcs <- read.csv(\"~/gains_team282/nikhil/expression/eigengene_sva/all_mqtl_all_pcs.csv\")\n",
    "\n",
    "mqtl.sum <- read.table(\"~/gains_team282/nikhil/expression/eigengene_sva/mqtl_full_summary_statistics_snps.txt\", header=T)\n",
    "mqtl.pcs.sum <- read.table(\"~/gains_team282/nikhil/expression/eigengene_sva/mqtl_all_pcs_full_summary_statistics_snps.txt\", header=T)\n",
    "\n",
    "map.snps <- read.csv(\"~/gains_team282/nikhil/expression/eigengene_sva/mqtl_snp_table.csv\")"
   ]
  },
  {
   "cell_type": "code",
   "execution_count": 3,
   "id": "032e9cb1-dd08-429b-87c8-1848f43496f0",
   "metadata": {},
   "outputs": [
    {
     "data": {
      "text/html": [
       "880"
      ],
      "text/latex": [
       "880"
      ],
      "text/markdown": [
       "880"
      ],
      "text/plain": [
       "[1] 880"
      ]
     },
     "metadata": {},
     "output_type": "display_data"
    },
    {
     "data": {
      "text/html": [
       "1966"
      ],
      "text/latex": [
       "1966"
      ],
      "text/markdown": [
       "1966"
      ],
      "text/plain": [
       "[1] 1966"
      ]
     },
     "metadata": {},
     "output_type": "display_data"
    }
   ],
   "source": [
    "nrow(mqtl)\n",
    "nrow(mqtl.pcs)"
   ]
  },
  {
   "cell_type": "code",
   "execution_count": 4,
   "id": "55ffe107-9905-42ae-b7b4-3712d9793f46",
   "metadata": {},
   "outputs": [
    {
     "data": {
      "text/html": [
       "<table class=\"dataframe\">\n",
       "<caption>A data.frame: 6 × 5</caption>\n",
       "<thead>\n",
       "\t<tr><th></th><th scope=col>snps</th><th scope=col>source</th><th scope=col>egene</th><th scope=col>conditional_number</th><th scope=col>accession</th></tr>\n",
       "\t<tr><th></th><th scope=col>&lt;chr&gt;</th><th scope=col>&lt;chr&gt;</th><th scope=col>&lt;chr&gt;</th><th scope=col>&lt;int&gt;</th><th scope=col>&lt;chr&gt;</th></tr>\n",
       "</thead>\n",
       "<tbody>\n",
       "\t<tr><th scope=row>1</th><td>rs3131972 </td><td>Lead cis-eQTL SNP</td><td>ENSG00000237491</td><td>NA</td><td>NA</td></tr>\n",
       "\t<tr><th scope=row>2</th><td>rs3131972 </td><td>Lead cis-eQTL SNP</td><td>ENSG00000230092</td><td>NA</td><td>NA</td></tr>\n",
       "\t<tr><th scope=row>3</th><td>rs3131972 </td><td>Lead cis-eQTL SNP</td><td>ENSG00000225880</td><td>NA</td><td>NA</td></tr>\n",
       "\t<tr><th scope=row>4</th><td>rs2272757 </td><td>Lead cis-eQTL SNP</td><td>ENSG00000188976</td><td>NA</td><td>NA</td></tr>\n",
       "\t<tr><th scope=row>5</th><td>rs13303327</td><td>Lead cis-eQTL SNP</td><td>ENSG00000187961</td><td>NA</td><td>NA</td></tr>\n",
       "\t<tr><th scope=row>6</th><td>rs13303056</td><td>Lead cis-eQTL SNP</td><td>ENSG00000187583</td><td>NA</td><td>NA</td></tr>\n",
       "</tbody>\n",
       "</table>\n"
      ],
      "text/latex": [
       "A data.frame: 6 × 5\n",
       "\\begin{tabular}{r|lllll}\n",
       "  & snps & source & egene & conditional\\_number & accession\\\\\n",
       "  & <chr> & <chr> & <chr> & <int> & <chr>\\\\\n",
       "\\hline\n",
       "\t1 & rs3131972  & Lead cis-eQTL SNP & ENSG00000237491 & NA & NA\\\\\n",
       "\t2 & rs3131972  & Lead cis-eQTL SNP & ENSG00000230092 & NA & NA\\\\\n",
       "\t3 & rs3131972  & Lead cis-eQTL SNP & ENSG00000225880 & NA & NA\\\\\n",
       "\t4 & rs2272757  & Lead cis-eQTL SNP & ENSG00000188976 & NA & NA\\\\\n",
       "\t5 & rs13303327 & Lead cis-eQTL SNP & ENSG00000187961 & NA & NA\\\\\n",
       "\t6 & rs13303056 & Lead cis-eQTL SNP & ENSG00000187583 & NA & NA\\\\\n",
       "\\end{tabular}\n"
      ],
      "text/markdown": [
       "\n",
       "A data.frame: 6 × 5\n",
       "\n",
       "| <!--/--> | snps &lt;chr&gt; | source &lt;chr&gt; | egene &lt;chr&gt; | conditional_number &lt;int&gt; | accession &lt;chr&gt; |\n",
       "|---|---|---|---|---|---|\n",
       "| 1 | rs3131972  | Lead cis-eQTL SNP | ENSG00000237491 | NA | NA |\n",
       "| 2 | rs3131972  | Lead cis-eQTL SNP | ENSG00000230092 | NA | NA |\n",
       "| 3 | rs3131972  | Lead cis-eQTL SNP | ENSG00000225880 | NA | NA |\n",
       "| 4 | rs2272757  | Lead cis-eQTL SNP | ENSG00000188976 | NA | NA |\n",
       "| 5 | rs13303327 | Lead cis-eQTL SNP | ENSG00000187961 | NA | NA |\n",
       "| 6 | rs13303056 | Lead cis-eQTL SNP | ENSG00000187583 | NA | NA |\n",
       "\n"
      ],
      "text/plain": [
       "  snps       source            egene           conditional_number accession\n",
       "1 rs3131972  Lead cis-eQTL SNP ENSG00000237491 NA                 NA       \n",
       "2 rs3131972  Lead cis-eQTL SNP ENSG00000230092 NA                 NA       \n",
       "3 rs3131972  Lead cis-eQTL SNP ENSG00000225880 NA                 NA       \n",
       "4 rs2272757  Lead cis-eQTL SNP ENSG00000188976 NA                 NA       \n",
       "5 rs13303327 Lead cis-eQTL SNP ENSG00000187961 NA                 NA       \n",
       "6 rs13303056 Lead cis-eQTL SNP ENSG00000187583 NA                 NA       "
      ]
     },
     "metadata": {},
     "output_type": "display_data"
    }
   ],
   "source": [
    "head(map.snps)"
   ]
  },
  {
   "cell_type": "code",
   "execution_count": 5,
   "id": "2e546356-7700-4795-823f-29abb74ff937",
   "metadata": {},
   "outputs": [],
   "source": [
    "gene.info <- read.table(\"/nfs/team282/data/gains_team282/gene_info_864_20412_hla.txt\")"
   ]
  },
  {
   "cell_type": "code",
   "execution_count": 6,
   "id": "1293b5fe-33f2-47a7-894b-d4913161bc25",
   "metadata": {},
   "outputs": [
    {
     "data": {
      "text/html": [
       "<table class=\"dataframe\">\n",
       "<caption>A data.frame: 6 × 27</caption>\n",
       "<thead>\n",
       "\t<tr><th></th><th scope=col>seqnames</th><th scope=col>start</th><th scope=col>end</th><th scope=col>width</th><th scope=col>strand</th><th scope=col>source</th><th scope=col>type</th><th scope=col>score</th><th scope=col>phase</th><th scope=col>gene_id</th><th scope=col>⋯</th><th scope=col>transcript_source</th><th scope=col>transcript_biotype</th><th scope=col>tag</th><th scope=col>transcript_support_level</th><th scope=col>exon_number</th><th scope=col>exon_id</th><th scope=col>exon_version</th><th scope=col>protein_id</th><th scope=col>protein_version</th><th scope=col>ccds_id</th></tr>\n",
       "\t<tr><th></th><th scope=col>&lt;chr&gt;</th><th scope=col>&lt;int&gt;</th><th scope=col>&lt;int&gt;</th><th scope=col>&lt;int&gt;</th><th scope=col>&lt;chr&gt;</th><th scope=col>&lt;chr&gt;</th><th scope=col>&lt;chr&gt;</th><th scope=col>&lt;lgl&gt;</th><th scope=col>&lt;lgl&gt;</th><th scope=col>&lt;chr&gt;</th><th scope=col>⋯</th><th scope=col>&lt;lgl&gt;</th><th scope=col>&lt;lgl&gt;</th><th scope=col>&lt;lgl&gt;</th><th scope=col>&lt;lgl&gt;</th><th scope=col>&lt;lgl&gt;</th><th scope=col>&lt;lgl&gt;</th><th scope=col>&lt;lgl&gt;</th><th scope=col>&lt;lgl&gt;</th><th scope=col>&lt;lgl&gt;</th><th scope=col>&lt;lgl&gt;</th></tr>\n",
       "</thead>\n",
       "<tbody>\n",
       "\t<tr><th scope=row>ENSG00000230521</th><td>6</td><td>29887294</td><td>29888268</td><td> 975</td><td>-</td><td>havana</td><td>gene</td><td>NA</td><td>NA</td><td>ENSG00000230521</td><td>⋯</td><td>NA</td><td>NA</td><td>NA</td><td>NA</td><td>NA</td><td>NA</td><td>NA</td><td>NA</td><td>NA</td><td>NA</td></tr>\n",
       "\t<tr><th scope=row>ENSG00000225864</th><td>6</td><td>29722981</td><td>29723971</td><td> 991</td><td>-</td><td>havana</td><td>gene</td><td>NA</td><td>NA</td><td>ENSG00000225864</td><td>⋯</td><td>NA</td><td>NA</td><td>NA</td><td>NA</td><td>NA</td><td>NA</td><td>NA</td><td>NA</td><td>NA</td><td>NA</td></tr>\n",
       "\t<tr><th scope=row>ENSG00000227766</th><td>6</td><td>29942075</td><td>29943067</td><td> 993</td><td>-</td><td>havana</td><td>gene</td><td>NA</td><td>NA</td><td>ENSG00000227766</td><td>⋯</td><td>NA</td><td>NA</td><td>NA</td><td>NA</td><td>NA</td><td>NA</td><td>NA</td><td>NA</td><td>NA</td><td>NA</td></tr>\n",
       "\t<tr><th scope=row>ENSG00000237669</th><td>6</td><td>30006121</td><td>30007116</td><td> 996</td><td>-</td><td>havana</td><td>gene</td><td>NA</td><td>NA</td><td>ENSG00000237669</td><td>⋯</td><td>NA</td><td>NA</td><td>NA</td><td>NA</td><td>NA</td><td>NA</td><td>NA</td><td>NA</td><td>NA</td><td>NA</td></tr>\n",
       "\t<tr><th scope=row>ENSG00000271581</th><td>6</td><td>31356647</td><td>31357637</td><td> 991</td><td>+</td><td>havana</td><td>gene</td><td>NA</td><td>NA</td><td>ENSG00000271581</td><td>⋯</td><td>NA</td><td>NA</td><td>NA</td><td>NA</td><td>NA</td><td>NA</td><td>NA</td><td>NA</td><td>NA</td><td>NA</td></tr>\n",
       "\t<tr><th scope=row>ENSG00000285647</th><td>6</td><td>31367057</td><td>31376088</td><td>9032</td><td>+</td><td>havana</td><td>gene</td><td>NA</td><td>NA</td><td>ENSG00000285647</td><td>⋯</td><td>NA</td><td>NA</td><td>NA</td><td>NA</td><td>NA</td><td>NA</td><td>NA</td><td>NA</td><td>NA</td><td>NA</td></tr>\n",
       "</tbody>\n",
       "</table>\n"
      ],
      "text/latex": [
       "A data.frame: 6 × 27\n",
       "\\begin{tabular}{r|lllllllllllllllllllll}\n",
       "  & seqnames & start & end & width & strand & source & type & score & phase & gene\\_id & ⋯ & transcript\\_source & transcript\\_biotype & tag & transcript\\_support\\_level & exon\\_number & exon\\_id & exon\\_version & protein\\_id & protein\\_version & ccds\\_id\\\\\n",
       "  & <chr> & <int> & <int> & <int> & <chr> & <chr> & <chr> & <lgl> & <lgl> & <chr> & ⋯ & <lgl> & <lgl> & <lgl> & <lgl> & <lgl> & <lgl> & <lgl> & <lgl> & <lgl> & <lgl>\\\\\n",
       "\\hline\n",
       "\tENSG00000230521 & 6 & 29887294 & 29888268 &  975 & - & havana & gene & NA & NA & ENSG00000230521 & ⋯ & NA & NA & NA & NA & NA & NA & NA & NA & NA & NA\\\\\n",
       "\tENSG00000225864 & 6 & 29722981 & 29723971 &  991 & - & havana & gene & NA & NA & ENSG00000225864 & ⋯ & NA & NA & NA & NA & NA & NA & NA & NA & NA & NA\\\\\n",
       "\tENSG00000227766 & 6 & 29942075 & 29943067 &  993 & - & havana & gene & NA & NA & ENSG00000227766 & ⋯ & NA & NA & NA & NA & NA & NA & NA & NA & NA & NA\\\\\n",
       "\tENSG00000237669 & 6 & 30006121 & 30007116 &  996 & - & havana & gene & NA & NA & ENSG00000237669 & ⋯ & NA & NA & NA & NA & NA & NA & NA & NA & NA & NA\\\\\n",
       "\tENSG00000271581 & 6 & 31356647 & 31357637 &  991 & + & havana & gene & NA & NA & ENSG00000271581 & ⋯ & NA & NA & NA & NA & NA & NA & NA & NA & NA & NA\\\\\n",
       "\tENSG00000285647 & 6 & 31367057 & 31376088 & 9032 & + & havana & gene & NA & NA & ENSG00000285647 & ⋯ & NA & NA & NA & NA & NA & NA & NA & NA & NA & NA\\\\\n",
       "\\end{tabular}\n"
      ],
      "text/markdown": [
       "\n",
       "A data.frame: 6 × 27\n",
       "\n",
       "| <!--/--> | seqnames &lt;chr&gt; | start &lt;int&gt; | end &lt;int&gt; | width &lt;int&gt; | strand &lt;chr&gt; | source &lt;chr&gt; | type &lt;chr&gt; | score &lt;lgl&gt; | phase &lt;lgl&gt; | gene_id &lt;chr&gt; | ⋯ ⋯ | transcript_source &lt;lgl&gt; | transcript_biotype &lt;lgl&gt; | tag &lt;lgl&gt; | transcript_support_level &lt;lgl&gt; | exon_number &lt;lgl&gt; | exon_id &lt;lgl&gt; | exon_version &lt;lgl&gt; | protein_id &lt;lgl&gt; | protein_version &lt;lgl&gt; | ccds_id &lt;lgl&gt; |\n",
       "|---|---|---|---|---|---|---|---|---|---|---|---|---|---|---|---|---|---|---|---|---|---|\n",
       "| ENSG00000230521 | 6 | 29887294 | 29888268 |  975 | - | havana | gene | NA | NA | ENSG00000230521 | ⋯ | NA | NA | NA | NA | NA | NA | NA | NA | NA | NA |\n",
       "| ENSG00000225864 | 6 | 29722981 | 29723971 |  991 | - | havana | gene | NA | NA | ENSG00000225864 | ⋯ | NA | NA | NA | NA | NA | NA | NA | NA | NA | NA |\n",
       "| ENSG00000227766 | 6 | 29942075 | 29943067 |  993 | - | havana | gene | NA | NA | ENSG00000227766 | ⋯ | NA | NA | NA | NA | NA | NA | NA | NA | NA | NA |\n",
       "| ENSG00000237669 | 6 | 30006121 | 30007116 |  996 | - | havana | gene | NA | NA | ENSG00000237669 | ⋯ | NA | NA | NA | NA | NA | NA | NA | NA | NA | NA |\n",
       "| ENSG00000271581 | 6 | 31356647 | 31357637 |  991 | + | havana | gene | NA | NA | ENSG00000271581 | ⋯ | NA | NA | NA | NA | NA | NA | NA | NA | NA | NA |\n",
       "| ENSG00000285647 | 6 | 31367057 | 31376088 | 9032 | + | havana | gene | NA | NA | ENSG00000285647 | ⋯ | NA | NA | NA | NA | NA | NA | NA | NA | NA | NA |\n",
       "\n"
      ],
      "text/plain": [
       "                seqnames start    end      width strand source type score phase\n",
       "ENSG00000230521 6        29887294 29888268  975  -      havana gene NA    NA   \n",
       "ENSG00000225864 6        29722981 29723971  991  -      havana gene NA    NA   \n",
       "ENSG00000227766 6        29942075 29943067  993  -      havana gene NA    NA   \n",
       "ENSG00000237669 6        30006121 30007116  996  -      havana gene NA    NA   \n",
       "ENSG00000271581 6        31356647 31357637  991  +      havana gene NA    NA   \n",
       "ENSG00000285647 6        31367057 31376088 9032  +      havana gene NA    NA   \n",
       "                gene_id         ⋯ transcript_source transcript_biotype tag\n",
       "ENSG00000230521 ENSG00000230521 ⋯ NA                NA                 NA \n",
       "ENSG00000225864 ENSG00000225864 ⋯ NA                NA                 NA \n",
       "ENSG00000227766 ENSG00000227766 ⋯ NA                NA                 NA \n",
       "ENSG00000237669 ENSG00000237669 ⋯ NA                NA                 NA \n",
       "ENSG00000271581 ENSG00000271581 ⋯ NA                NA                 NA \n",
       "ENSG00000285647 ENSG00000285647 ⋯ NA                NA                 NA \n",
       "                transcript_support_level exon_number exon_id exon_version\n",
       "ENSG00000230521 NA                       NA          NA      NA          \n",
       "ENSG00000225864 NA                       NA          NA      NA          \n",
       "ENSG00000227766 NA                       NA          NA      NA          \n",
       "ENSG00000237669 NA                       NA          NA      NA          \n",
       "ENSG00000271581 NA                       NA          NA      NA          \n",
       "ENSG00000285647 NA                       NA          NA      NA          \n",
       "                protein_id protein_version ccds_id\n",
       "ENSG00000230521 NA         NA              NA     \n",
       "ENSG00000225864 NA         NA              NA     \n",
       "ENSG00000227766 NA         NA              NA     \n",
       "ENSG00000237669 NA         NA              NA     \n",
       "ENSG00000271581 NA         NA              NA     \n",
       "ENSG00000285647 NA         NA              NA     "
      ]
     },
     "metadata": {},
     "output_type": "display_data"
    }
   ],
   "source": [
    "head(gene.info)"
   ]
  },
  {
   "cell_type": "code",
   "execution_count": 7,
   "id": "6a9a95e2-848f-426e-89f0-70f0f53c3bd2",
   "metadata": {},
   "outputs": [],
   "source": [
    "ebi.studies <- fread(\"04_Expression/data/gwas_catalog_v1.0.2-studies_r2022-02-21.tsv\", header=TRUE, quote=\"\") %>%\n",
    "    as.data.frame()"
   ]
  },
  {
   "cell_type": "code",
   "execution_count": 8,
   "id": "62d8f3fb-12da-4d27-b607-bbb92b058d11",
   "metadata": {},
   "outputs": [
    {
     "data": {
      "text/html": [
       "<table class=\"dataframe\">\n",
       "<caption>A data.frame: 1 × 16</caption>\n",
       "<thead>\n",
       "\t<tr><th></th><th scope=col>DATE ADDED TO CATALOG</th><th scope=col>PUBMEDID</th><th scope=col>FIRST AUTHOR</th><th scope=col>DATE</th><th scope=col>JOURNAL</th><th scope=col>LINK</th><th scope=col>STUDY</th><th scope=col>DISEASE/TRAIT</th><th scope=col>INITIAL SAMPLE SIZE</th><th scope=col>REPLICATION SAMPLE SIZE</th><th scope=col>PLATFORM [SNPS PASSING QC]</th><th scope=col>ASSOCIATION COUNT</th><th scope=col>MAPPED_TRAIT</th><th scope=col>MAPPED_TRAIT_URI</th><th scope=col>STUDY ACCESSION</th><th scope=col>GENOTYPING TECHNOLOGY</th></tr>\n",
       "\t<tr><th></th><th scope=col>&lt;date&gt;</th><th scope=col>&lt;int&gt;</th><th scope=col>&lt;chr&gt;</th><th scope=col>&lt;date&gt;</th><th scope=col>&lt;chr&gt;</th><th scope=col>&lt;chr&gt;</th><th scope=col>&lt;chr&gt;</th><th scope=col>&lt;chr&gt;</th><th scope=col>&lt;chr&gt;</th><th scope=col>&lt;chr&gt;</th><th scope=col>&lt;chr&gt;</th><th scope=col>&lt;int&gt;</th><th scope=col>&lt;chr&gt;</th><th scope=col>&lt;chr&gt;</th><th scope=col>&lt;chr&gt;</th><th scope=col>&lt;chr&gt;</th></tr>\n",
       "</thead>\n",
       "<tbody>\n",
       "\t<tr><th scope=row>1</th><td>2021-08-24</td><td>34124712</td><td>Sherva R</td><td>2021-02-28</td><td>Explor Med</td><td>www.ncbi.nlm.nih.gov/pubmed/34124712</td><td>Genome-wide association study of phenotypes measuring progression from first cocaine or opioid use to dependence reveals novel risk genes.</td><td>Cocaine dependence (time to event)</td><td>3,554 African American cases, 478 African American controls, 2,712 European ancestry cases, 915 European ancestry controls</td><td>572 African American cases, 416 African American controls, 759 European ancestry cases, 1,620 European ancestry controls</td><td>Illumina [NR] (imputed)</td><td>5</td><td>cocaine dependence</td><td>http://www.ebi.ac.uk/efo/EFO_0002610</td><td>GCST012225</td><td>Genome-wide genotyping array</td></tr>\n",
       "</tbody>\n",
       "</table>\n"
      ],
      "text/latex": [
       "A data.frame: 1 × 16\n",
       "\\begin{tabular}{r|llllllllllllllll}\n",
       "  & DATE ADDED TO CATALOG & PUBMEDID & FIRST AUTHOR & DATE & JOURNAL & LINK & STUDY & DISEASE/TRAIT & INITIAL SAMPLE SIZE & REPLICATION SAMPLE SIZE & PLATFORM {[}SNPS PASSING QC{]} & ASSOCIATION COUNT & MAPPED\\_TRAIT & MAPPED\\_TRAIT\\_URI & STUDY ACCESSION & GENOTYPING TECHNOLOGY\\\\\n",
       "  & <date> & <int> & <chr> & <date> & <chr> & <chr> & <chr> & <chr> & <chr> & <chr> & <chr> & <int> & <chr> & <chr> & <chr> & <chr>\\\\\n",
       "\\hline\n",
       "\t1 & 2021-08-24 & 34124712 & Sherva R & 2021-02-28 & Explor Med & www.ncbi.nlm.nih.gov/pubmed/34124712 & Genome-wide association study of phenotypes measuring progression from first cocaine or opioid use to dependence reveals novel risk genes. & Cocaine dependence (time to event) & 3,554 African American cases, 478 African American controls, 2,712 European ancestry cases, 915 European ancestry controls & 572 African American cases, 416 African American controls, 759 European ancestry cases, 1,620 European ancestry controls & Illumina {[}NR{]} (imputed) & 5 & cocaine dependence & http://www.ebi.ac.uk/efo/EFO\\_0002610 & GCST012225 & Genome-wide genotyping array\\\\\n",
       "\\end{tabular}\n"
      ],
      "text/markdown": [
       "\n",
       "A data.frame: 1 × 16\n",
       "\n",
       "| <!--/--> | DATE ADDED TO CATALOG &lt;date&gt; | PUBMEDID &lt;int&gt; | FIRST AUTHOR &lt;chr&gt; | DATE &lt;date&gt; | JOURNAL &lt;chr&gt; | LINK &lt;chr&gt; | STUDY &lt;chr&gt; | DISEASE/TRAIT &lt;chr&gt; | INITIAL SAMPLE SIZE &lt;chr&gt; | REPLICATION SAMPLE SIZE &lt;chr&gt; | PLATFORM [SNPS PASSING QC] &lt;chr&gt; | ASSOCIATION COUNT &lt;int&gt; | MAPPED_TRAIT &lt;chr&gt; | MAPPED_TRAIT_URI &lt;chr&gt; | STUDY ACCESSION &lt;chr&gt; | GENOTYPING TECHNOLOGY &lt;chr&gt; |\n",
       "|---|---|---|---|---|---|---|---|---|---|---|---|---|---|---|---|---|\n",
       "| 1 | 2021-08-24 | 34124712 | Sherva R | 2021-02-28 | Explor Med | www.ncbi.nlm.nih.gov/pubmed/34124712 | Genome-wide association study of phenotypes measuring progression from first cocaine or opioid use to dependence reveals novel risk genes. | Cocaine dependence (time to event) | 3,554 African American cases, 478 African American controls, 2,712 European ancestry cases, 915 European ancestry controls | 572 African American cases, 416 African American controls, 759 European ancestry cases, 1,620 European ancestry controls | Illumina [NR] (imputed) | 5 | cocaine dependence | http://www.ebi.ac.uk/efo/EFO_0002610 | GCST012225 | Genome-wide genotyping array |\n",
       "\n"
      ],
      "text/plain": [
       "  DATE ADDED TO CATALOG PUBMEDID FIRST AUTHOR DATE       JOURNAL   \n",
       "1 2021-08-24            34124712 Sherva R     2021-02-28 Explor Med\n",
       "  LINK                                \n",
       "1 www.ncbi.nlm.nih.gov/pubmed/34124712\n",
       "  STUDY                                                                                                                                     \n",
       "1 Genome-wide association study of phenotypes measuring progression from first cocaine or opioid use to dependence reveals novel risk genes.\n",
       "  DISEASE/TRAIT                     \n",
       "1 Cocaine dependence (time to event)\n",
       "  INITIAL SAMPLE SIZE                                                                                                       \n",
       "1 3,554 African American cases, 478 African American controls, 2,712 European ancestry cases, 915 European ancestry controls\n",
       "  REPLICATION SAMPLE SIZE                                                                                                 \n",
       "1 572 African American cases, 416 African American controls, 759 European ancestry cases, 1,620 European ancestry controls\n",
       "  PLATFORM [SNPS PASSING QC] ASSOCIATION COUNT MAPPED_TRAIT      \n",
       "1 Illumina [NR] (imputed)    5                 cocaine dependence\n",
       "  MAPPED_TRAIT_URI                     STUDY ACCESSION\n",
       "1 http://www.ebi.ac.uk/efo/EFO_0002610 GCST012225     \n",
       "  GENOTYPING TECHNOLOGY       \n",
       "1 Genome-wide genotyping array"
      ]
     },
     "metadata": {},
     "output_type": "display_data"
    }
   ],
   "source": [
    "head(ebi.studies, n=1)"
   ]
  },
  {
   "cell_type": "code",
   "execution_count": 9,
   "id": "a56e75f2-c836-40a6-a06e-3bc9138290b5",
   "metadata": {},
   "outputs": [],
   "source": [
    "modules <- read.csv(\"~/gains_team282/nikhil/expression/gene_expression/modules.csv\") %>%\n",
    "    dplyr::mutate(Eigengene=gsub(\"Module_\", \"ME_\", Module))"
   ]
  },
  {
   "cell_type": "code",
   "execution_count": 10,
   "id": "7f145023-f7a1-4d03-8c0d-62ab7129fd18",
   "metadata": {},
   "outputs": [
    {
     "data": {
      "text/html": [
       "<table class=\"dataframe\">\n",
       "<caption>A data.frame: 6 × 3</caption>\n",
       "<thead>\n",
       "\t<tr><th></th><th scope=col>Gene</th><th scope=col>Module</th><th scope=col>Eigengene</th></tr>\n",
       "\t<tr><th></th><th scope=col>&lt;chr&gt;</th><th scope=col>&lt;chr&gt;</th><th scope=col>&lt;chr&gt;</th></tr>\n",
       "</thead>\n",
       "<tbody>\n",
       "\t<tr><th scope=row>1</th><td>ENSG00000001167</td><td>Module_1</td><td>ME_1</td></tr>\n",
       "\t<tr><th scope=row>2</th><td>ENSG00000002330</td><td>Module_1</td><td>ME_1</td></tr>\n",
       "\t<tr><th scope=row>3</th><td>ENSG00000002822</td><td>Module_1</td><td>ME_1</td></tr>\n",
       "\t<tr><th scope=row>4</th><td>ENSG00000005175</td><td>Module_1</td><td>ME_1</td></tr>\n",
       "\t<tr><th scope=row>5</th><td>ENSG00000005194</td><td>Module_1</td><td>ME_1</td></tr>\n",
       "\t<tr><th scope=row>6</th><td>ENSG00000005893</td><td>Module_1</td><td>ME_1</td></tr>\n",
       "</tbody>\n",
       "</table>\n"
      ],
      "text/latex": [
       "A data.frame: 6 × 3\n",
       "\\begin{tabular}{r|lll}\n",
       "  & Gene & Module & Eigengene\\\\\n",
       "  & <chr> & <chr> & <chr>\\\\\n",
       "\\hline\n",
       "\t1 & ENSG00000001167 & Module\\_1 & ME\\_1\\\\\n",
       "\t2 & ENSG00000002330 & Module\\_1 & ME\\_1\\\\\n",
       "\t3 & ENSG00000002822 & Module\\_1 & ME\\_1\\\\\n",
       "\t4 & ENSG00000005175 & Module\\_1 & ME\\_1\\\\\n",
       "\t5 & ENSG00000005194 & Module\\_1 & ME\\_1\\\\\n",
       "\t6 & ENSG00000005893 & Module\\_1 & ME\\_1\\\\\n",
       "\\end{tabular}\n"
      ],
      "text/markdown": [
       "\n",
       "A data.frame: 6 × 3\n",
       "\n",
       "| <!--/--> | Gene &lt;chr&gt; | Module &lt;chr&gt; | Eigengene &lt;chr&gt; |\n",
       "|---|---|---|---|\n",
       "| 1 | ENSG00000001167 | Module_1 | ME_1 |\n",
       "| 2 | ENSG00000002330 | Module_1 | ME_1 |\n",
       "| 3 | ENSG00000002822 | Module_1 | ME_1 |\n",
       "| 4 | ENSG00000005175 | Module_1 | ME_1 |\n",
       "| 5 | ENSG00000005194 | Module_1 | ME_1 |\n",
       "| 6 | ENSG00000005893 | Module_1 | ME_1 |\n",
       "\n"
      ],
      "text/plain": [
       "  Gene            Module   Eigengene\n",
       "1 ENSG00000001167 Module_1 ME_1     \n",
       "2 ENSG00000002330 Module_1 ME_1     \n",
       "3 ENSG00000002822 Module_1 ME_1     \n",
       "4 ENSG00000005175 Module_1 ME_1     \n",
       "5 ENSG00000005194 Module_1 ME_1     \n",
       "6 ENSG00000005893 Module_1 ME_1     "
      ]
     },
     "metadata": {},
     "output_type": "display_data"
    }
   ],
   "source": [
    "head(modules)"
   ]
  },
  {
   "cell_type": "markdown",
   "id": "ff7e6527-dea8-4959-8c14-9b2f8a387145",
   "metadata": {
    "tags": []
   },
   "source": [
    "# Module QTL"
   ]
  },
  {
   "cell_type": "markdown",
   "id": "1fbea520-4d48-4d26-9035-e1161ac8ab92",
   "metadata": {},
   "source": [
    "First, I ask how many SNPs were significantly associated with any given module. 876 SNPs were associated with at least one module eigengene."
   ]
  },
  {
   "cell_type": "code",
   "execution_count": 11,
   "id": "643f84eb-152e-4daf-8c8e-c428f4b5e1f4",
   "metadata": {},
   "outputs": [
    {
     "data": {
      "text/html": [
       "876"
      ],
      "text/latex": [
       "876"
      ],
      "text/markdown": [
       "876"
      ],
      "text/plain": [
       "[1] 876"
      ]
     },
     "metadata": {},
     "output_type": "display_data"
    }
   ],
   "source": [
    "length(unique(mqtl$snp))"
   ]
  },
  {
   "cell_type": "markdown",
   "id": "da34fec5-91d9-4dd0-a468-c09358604a4b",
   "metadata": {},
   "source": [
    "Next, how many modules had an association with at least one SNP? 31 modules had an association with at least one SNP."
   ]
  },
  {
   "cell_type": "code",
   "execution_count": 12,
   "id": "3614524d-1157-4d7c-be91-5d0351845c19",
   "metadata": {},
   "outputs": [
    {
     "data": {
      "text/html": [
       "31"
      ],
      "text/latex": [
       "31"
      ],
      "text/markdown": [
       "31"
      ],
      "text/plain": [
       "[1] 31"
      ]
     },
     "metadata": {},
     "output_type": "display_data"
    }
   ],
   "source": [
    "length(unique(mqtl$me))"
   ]
  },
  {
   "cell_type": "markdown",
   "id": "e55bb5fd-c9cb-4b9c-b768-a784f0775208",
   "metadata": {},
   "source": [
    "How many loci were detected?"
   ]
  },
  {
   "cell_type": "code",
   "execution_count": 13,
   "id": "891d7242-2f7b-4ae2-a415-c7e3bfb7c8fd",
   "metadata": {},
   "outputs": [
    {
     "data": {
      "text/html": [
       "31"
      ],
      "text/latex": [
       "31"
      ],
      "text/markdown": [
       "31"
      ],
      "text/plain": [
       "[1] 31"
      ]
     },
     "metadata": {},
     "output_type": "display_data"
    }
   ],
   "source": [
    "length(unique(mqtl.sum$QTL.ID))"
   ]
  },
  {
   "cell_type": "markdown",
   "id": "544f75ee-6c12-423c-817c-7c4f55b7aeed",
   "metadata": {},
   "source": [
    "How many unique module-locus pairs are there? There are 32."
   ]
  },
  {
   "cell_type": "code",
   "execution_count": 24,
   "id": "7ad1b97a-d397-42d8-8b52-a4429cb35555",
   "metadata": {},
   "outputs": [
    {
     "data": {
      "text/html": [
       "32"
      ],
      "text/latex": [
       "32"
      ],
      "text/markdown": [
       "32"
      ],
      "text/plain": [
       "[1] 32"
      ]
     },
     "metadata": {},
     "output_type": "display_data"
    }
   ],
   "source": [
    "length(unique(paste0(mqtl.sum$ME, \"-\", mqtl.sum$QTL.ID)))"
   ]
  },
  {
   "cell_type": "markdown",
   "id": "90b061d5-b297-46d0-be86-ab0e2ea87475",
   "metadata": {},
   "source": [
    "What proportion of the module QTL are lead cis-eQTL? Lead conditional cis-eQTL? Trait-associated variants?"
   ]
  },
  {
   "cell_type": "code",
   "execution_count": 18,
   "id": "3cd0c86e-9d4c-429c-95fb-5a9380d4e91a",
   "metadata": {
    "tags": []
   },
   "outputs": [
    {
     "data": {
      "text/html": [
       "<table class=\"dataframe\">\n",
       "<caption>A tibble: 3 × 3</caption>\n",
       "<thead>\n",
       "\t<tr><th scope=col>source</th><th scope=col>N</th><th scope=col>Prop</th></tr>\n",
       "\t<tr><th scope=col>&lt;chr&gt;</th><th scope=col>&lt;int&gt;</th><th scope=col>&lt;dbl&gt;</th></tr>\n",
       "</thead>\n",
       "<tbody>\n",
       "\t<tr><td>Conditional cis-eQTL SNP</td><td>236</td><td>0.2694064</td></tr>\n",
       "\t<tr><td>EBI GWAS Catalog        </td><td>657</td><td>0.7500000</td></tr>\n",
       "\t<tr><td>Lead cis-eQTL SNP       </td><td>139</td><td>0.1586758</td></tr>\n",
       "</tbody>\n",
       "</table>\n"
      ],
      "text/latex": [
       "A tibble: 3 × 3\n",
       "\\begin{tabular}{lll}\n",
       " source & N & Prop\\\\\n",
       " <chr> & <int> & <dbl>\\\\\n",
       "\\hline\n",
       "\t Conditional cis-eQTL SNP & 236 & 0.2694064\\\\\n",
       "\t EBI GWAS Catalog         & 657 & 0.7500000\\\\\n",
       "\t Lead cis-eQTL SNP        & 139 & 0.1586758\\\\\n",
       "\\end{tabular}\n"
      ],
      "text/markdown": [
       "\n",
       "A tibble: 3 × 3\n",
       "\n",
       "| source &lt;chr&gt; | N &lt;int&gt; | Prop &lt;dbl&gt; |\n",
       "|---|---|---|\n",
       "| Conditional cis-eQTL SNP | 236 | 0.2694064 |\n",
       "| EBI GWAS Catalog         | 657 | 0.7500000 |\n",
       "| Lead cis-eQTL SNP        | 139 | 0.1586758 |\n",
       "\n"
      ],
      "text/plain": [
       "  source                   N   Prop     \n",
       "1 Conditional cis-eQTL SNP 236 0.2694064\n",
       "2 EBI GWAS Catalog         657 0.7500000\n",
       "3 Lead cis-eQTL SNP        139 0.1586758"
      ]
     },
     "metadata": {},
     "output_type": "display_data"
    }
   ],
   "source": [
    "merge(mqtl, map.snps, by.x=\"snp\", by.y=\"snps\") %>%\n",
    "    dplyr::select(snp, source) %>%\n",
    "    unique() %>%\n",
    "    dplyr::group_by(source) %>%\n",
    "    dplyr::summarize(N=n()) %>%\n",
    "    dplyr::mutate(Prop=N / length(unique(mqtl$snp)))"
   ]
  },
  {
   "cell_type": "markdown",
   "id": "d109026a-2a26-40fb-bb9e-cd83eded7192",
   "metadata": {},
   "source": [
    "How many of the modules are associated with a cis-eQTL and also contain the corresponding eGene?"
   ]
  },
  {
   "cell_type": "code",
   "execution_count": 19,
   "id": "e4041ec1-245e-4a99-9bb2-11846f0a391e",
   "metadata": {},
   "outputs": [
    {
     "data": {
      "text/html": [
       "28"
      ],
      "text/latex": [
       "28"
      ],
      "text/markdown": [
       "28"
      ],
      "text/plain": [
       "[1] 28"
      ]
     },
     "metadata": {},
     "output_type": "display_data"
    }
   ],
   "source": [
    "merge(mqtl, map.snps, by.x=\"snp\", by.y=\"snps\") %>%\n",
    "    merge(., modules, by.x=\"me\", by.y=\"Eigengene\") %>%\n",
    "    dplyr::filter(egene == Gene) %>%\n",
    "    dplyr::select(me) %>%\n",
    "    unique() %>%\n",
    "    nrow()"
   ]
  },
  {
   "cell_type": "markdown",
   "id": "d8715222-551a-47de-90f9-4b1dea123d06",
   "metadata": {
    "tags": []
   },
   "source": [
    "# Module QTL from All PCs"
   ]
  },
  {
   "cell_type": "markdown",
   "id": "19ce761f-c003-47bc-a6bd-1cca5d66b0fc",
   "metadata": {},
   "source": [
    "First, I ask how many SNPs were significantly associated with any given module. 1935 SNPs were associated with at least one module eigengene."
   ]
  },
  {
   "cell_type": "code",
   "execution_count": 20,
   "id": "54fdef7e-0751-4259-ad54-909faaed9b70",
   "metadata": {},
   "outputs": [
    {
     "data": {
      "text/html": [
       "1935"
      ],
      "text/latex": [
       "1935"
      ],
      "text/markdown": [
       "1935"
      ],
      "text/plain": [
       "[1] 1935"
      ]
     },
     "metadata": {},
     "output_type": "display_data"
    }
   ],
   "source": [
    "length(unique(mqtl.pcs$snp))"
   ]
  },
  {
   "cell_type": "markdown",
   "id": "bb029f5a-247b-46ff-bf5d-2457ffc38c21",
   "metadata": {},
   "source": [
    "Next, how many modules had an association with at least one SNP? 48 modules had an association with at least one SNP."
   ]
  },
  {
   "cell_type": "code",
   "execution_count": 21,
   "id": "0040968c-5077-4977-a86b-44c68dc0a3cb",
   "metadata": {},
   "outputs": [
    {
     "data": {
      "text/html": [
       "48"
      ],
      "text/latex": [
       "48"
      ],
      "text/markdown": [
       "48"
      ],
      "text/plain": [
       "[1] 48"
      ]
     },
     "metadata": {},
     "output_type": "display_data"
    }
   ],
   "source": [
    "length(unique(mqtl.pcs$me))"
   ]
  },
  {
   "cell_type": "markdown",
   "id": "cf7b1c52-b50b-4832-9282-4a070798a670",
   "metadata": {},
   "source": [
    "A module might have more than one association."
   ]
  },
  {
   "cell_type": "code",
   "execution_count": 22,
   "id": "37b097e8-4429-4c2f-8f94-435b2f4e550f",
   "metadata": {},
   "outputs": [
    {
     "data": {
      "text/html": [
       "76"
      ],
      "text/latex": [
       "76"
      ],
      "text/markdown": [
       "76"
      ],
      "text/plain": [
       "[1] 76"
      ]
     },
     "metadata": {},
     "output_type": "display_data"
    }
   ],
   "source": [
    "length(unique(mqtl.pcs.sum$QTL.ID))"
   ]
  },
  {
   "cell_type": "markdown",
   "id": "3a449ec0-fcd6-472c-9a28-a4f3dc1be92b",
   "metadata": {},
   "source": [
    "How many unique module-locus associations are there?"
   ]
  },
  {
   "cell_type": "code",
   "execution_count": 26,
   "id": "0f37549c-6943-4d7e-9fb1-189debc1785b",
   "metadata": {},
   "outputs": [
    {
     "data": {
      "text/html": [
       "76"
      ],
      "text/latex": [
       "76"
      ],
      "text/markdown": [
       "76"
      ],
      "text/plain": [
       "[1] 76"
      ]
     },
     "metadata": {},
     "output_type": "display_data"
    }
   ],
   "source": [
    "length(unique(paste0(mqtl.pcs.sum$ME, \"-\", mqtl.pcs.sum$QTL.ID)))"
   ]
  },
  {
   "cell_type": "markdown",
   "id": "3343ca83-2ec8-45ac-a968-3d4a79dcca32",
   "metadata": {},
   "source": [
    "What proportion of the module QTL are lead cis-eQTL? Lead conditional cis-eQTL? Trait-associated variants?"
   ]
  },
  {
   "cell_type": "code",
   "execution_count": 21,
   "id": "b8ea4d66-f31f-4e4d-9027-2b7884ebad1e",
   "metadata": {
    "tags": []
   },
   "outputs": [
    {
     "data": {
      "text/html": [
       "<table class=\"dataframe\">\n",
       "<caption>A tibble: 3 × 3</caption>\n",
       "<thead>\n",
       "\t<tr><th scope=col>source</th><th scope=col>N</th><th scope=col>Prop</th></tr>\n",
       "\t<tr><th scope=col>&lt;chr&gt;</th><th scope=col>&lt;int&gt;</th><th scope=col>&lt;dbl&gt;</th></tr>\n",
       "</thead>\n",
       "<tbody>\n",
       "\t<tr><td>Conditional cis-eQTL SNP</td><td> 486</td><td>0.2511628</td></tr>\n",
       "\t<tr><td>EBI GWAS Catalog        </td><td>1479</td><td>0.7643411</td></tr>\n",
       "\t<tr><td>Lead cis-eQTL SNP       </td><td> 292</td><td>0.1509044</td></tr>\n",
       "</tbody>\n",
       "</table>\n"
      ],
      "text/latex": [
       "A tibble: 3 × 3\n",
       "\\begin{tabular}{lll}\n",
       " source & N & Prop\\\\\n",
       " <chr> & <int> & <dbl>\\\\\n",
       "\\hline\n",
       "\t Conditional cis-eQTL SNP &  486 & 0.2511628\\\\\n",
       "\t EBI GWAS Catalog         & 1479 & 0.7643411\\\\\n",
       "\t Lead cis-eQTL SNP        &  292 & 0.1509044\\\\\n",
       "\\end{tabular}\n"
      ],
      "text/markdown": [
       "\n",
       "A tibble: 3 × 3\n",
       "\n",
       "| source &lt;chr&gt; | N &lt;int&gt; | Prop &lt;dbl&gt; |\n",
       "|---|---|---|\n",
       "| Conditional cis-eQTL SNP |  486 | 0.2511628 |\n",
       "| EBI GWAS Catalog         | 1479 | 0.7643411 |\n",
       "| Lead cis-eQTL SNP        |  292 | 0.1509044 |\n",
       "\n"
      ],
      "text/plain": [
       "  source                   N    Prop     \n",
       "1 Conditional cis-eQTL SNP  486 0.2511628\n",
       "2 EBI GWAS Catalog         1479 0.7643411\n",
       "3 Lead cis-eQTL SNP         292 0.1509044"
      ]
     },
     "metadata": {},
     "output_type": "display_data"
    }
   ],
   "source": [
    "merge(mqtl.pcs, map.snps, by.x=\"snp\", by.y=\"snps\") %>%\n",
    "    dplyr::select(snp, source) %>%\n",
    "    unique() %>%\n",
    "    dplyr::group_by(source) %>%\n",
    "    dplyr::summarize(N=n()) %>%\n",
    "    dplyr::mutate(Prop=N / length(unique(mqtl.pcs$snp)))"
   ]
  },
  {
   "cell_type": "markdown",
   "id": "37627766-c4e0-4dff-8b0a-697460360ac7",
   "metadata": {},
   "source": [
    "How many of the modules are associated with a cis-eQTL and also contain the corresponding eGene?"
   ]
  },
  {
   "cell_type": "code",
   "execution_count": 22,
   "id": "7579ff2b-c9b4-4a6b-aaef-5ee6496f52f5",
   "metadata": {},
   "outputs": [
    {
     "data": {
      "text/html": [
       "45"
      ],
      "text/latex": [
       "45"
      ],
      "text/markdown": [
       "45"
      ],
      "text/plain": [
       "[1] 45"
      ]
     },
     "metadata": {},
     "output_type": "display_data"
    }
   ],
   "source": [
    "merge(mqtl.pcs, map.snps, by.x=\"snp\", by.y=\"snps\") %>%\n",
    "    merge(., modules, by.x=\"me\", by.y=\"Eigengene\") %>%\n",
    "    dplyr::filter(egene == Gene) %>%\n",
    "    dplyr::select(me) %>%\n",
    "    unique() %>%\n",
    "    nrow()"
   ]
  },
  {
   "cell_type": "code",
   "execution_count": 23,
   "id": "2b778a35-fa9c-43d7-9c4c-fc7527e8d3c3",
   "metadata": {},
   "outputs": [],
   "source": [
    "ebi.snps <- merge(mqtl.pcs, map.snps, by.x=\"snp\", by.y=\"snps\") %>%\n",
    "    dplyr::filter(source == \"EBI GWAS Catalog\") %>%\n",
    "    dplyr::select(snp, me, accession) %>%\n",
    "    merge(., ebi.studies, by.x=\"accession\", by.y=\"STUDY ACCESSION\")\n",
    "\n",
    "write.csv(ebi.snps, \"~/gains_team282/nikhil/expression/eigengene_sva/mqtl_all_pcs_ebi_snps.csv\")"
   ]
  },
  {
   "cell_type": "code",
   "execution_count": 36,
   "id": "b77b2d7e-b16a-4939-859e-eaf5f4bb740e",
   "metadata": {},
   "outputs": [],
   "source": [
    "snp.info <- merge(mqtl.pcs, map.snps, by.x=\"snp\", by.y=\"snps\") %>%\n",
    "    merge(., gene.info %>% dplyr::select(gene_id, gene_name), by.x=\"egene\", by.y=\"gene_id\", all.x=T) %>%\n",
    "    merge(., modules %>% dplyr::select(Gene, Module), by.x=\"egene\", by.y=\"Gene\", all.x=T) %>%\n",
    "    dplyr::select(me, pc, snp, chr, pos, minor, major, source, egene, conditional_number, gene_name, module=Module) %>%\n",
    "    dplyr::arrange(me, snp)\n",
    "\n",
    "write.csv(snp.info, \"~/gains_team282/nikhil/expression/eigengene_sva/mqtl_all_pcs_snp_info.csv\", row.names=F)"
   ]
  },
  {
   "cell_type": "code",
   "execution_count": null,
   "id": "a286285d-6729-434e-9131-39718b4097cc",
   "metadata": {},
   "outputs": [],
   "source": []
  }
 ],
 "metadata": {
  "kernelspec": {
   "display_name": "R",
   "language": "R",
   "name": "ir"
  },
  "language_info": {
   "codemirror_mode": "r",
   "file_extension": ".r",
   "mimetype": "text/x-r-source",
   "name": "R",
   "pygments_lexer": "r",
   "version": "4.0.5"
  }
 },
 "nbformat": 4,
 "nbformat_minor": 5
}
