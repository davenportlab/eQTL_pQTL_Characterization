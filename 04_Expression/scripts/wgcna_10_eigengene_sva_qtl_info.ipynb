{
 "cells": [
  {
   "cell_type": "markdown",
   "id": "cda7a645-835d-4dd8-a48e-7a55446f4fa8",
   "metadata": {},
   "source": [
    "## Eigengene SVA QTL Info\n",
    "\n",
    "**Created**: 25 May 2022"
   ]
  },
  {
   "cell_type": "markdown",
   "id": "6fdda5de-e7c8-44b8-93d5-0d8e01bafba2",
   "metadata": {},
   "source": [
    "## Environment"
   ]
  },
  {
   "cell_type": "code",
   "execution_count": 39,
   "id": "cc42b503-ade6-4b6d-9f48-a24b69abbf79",
   "metadata": {},
   "outputs": [],
   "source": [
    "library(tidyverse)\n",
    "library(data.table)\n",
    "\n",
    "setwd(\"~/eQTL_pQTL_Characterization/\")\n",
    "\n",
    "source(\"04_Expression/scripts/utils/ggplot_theme.R\")"
   ]
  },
  {
   "cell_type": "markdown",
   "id": "1986af1a-6681-4c89-99f4-a98349472c38",
   "metadata": {},
   "source": [
    "## Load Data"
   ]
  },
  {
   "cell_type": "code",
   "execution_count": 17,
   "id": "76425f96-99a8-4447-b91c-1654ea8c90d8",
   "metadata": {},
   "outputs": [],
   "source": [
    "mqtl <- read.csv(\"~/gains_team282/nikhil/expression/eigengene_sva/all_mqtl.csv\")\n",
    "mqtl.pcs <- read.csv(\"~/gains_team282/nikhil/expression/eigengene_sva/all_mqtl_all_pcs.csv\")\n",
    "\n",
    "mqtl.sum <- read.table(\"~/gains_team282/nikhil/expression/eigengene_sva/mqtl_full_summary_statistics_snps.txt\", header=T)\n",
    "mqtl.pcs.sum <- read.table(\"~/gains_team282/nikhil/expression/eigengene_sva/mqtl_all_pcs_full_summary_statistics_snps.txt\", header=T)\n",
    "\n",
    "map.snps <- read.csv(\"~/gains_team282/nikhil/expression/eigengene_sva/mqtl_snp_table.csv\")"
   ]
  },
  {
   "cell_type": "code",
   "execution_count": 7,
   "id": "032e9cb1-dd08-429b-87c8-1848f43496f0",
   "metadata": {},
   "outputs": [
    {
     "data": {
      "text/html": [
       "880"
      ],
      "text/latex": [
       "880"
      ],
      "text/markdown": [
       "880"
      ],
      "text/plain": [
       "[1] 880"
      ]
     },
     "metadata": {},
     "output_type": "display_data"
    },
    {
     "data": {
      "text/html": [
       "1966"
      ],
      "text/latex": [
       "1966"
      ],
      "text/markdown": [
       "1966"
      ],
      "text/plain": [
       "[1] 1966"
      ]
     },
     "metadata": {},
     "output_type": "display_data"
    }
   ],
   "source": [
    "nrow(mqtl)\n",
    "nrow(mqtl.pcs)"
   ]
  },
  {
   "cell_type": "code",
   "execution_count": 9,
   "id": "55ffe107-9905-42ae-b7b4-3712d9793f46",
   "metadata": {},
   "outputs": [
    {
     "data": {
      "text/html": [
       "<table class=\"dataframe\">\n",
       "<caption>A data.frame: 6 × 5</caption>\n",
       "<thead>\n",
       "\t<tr><th></th><th scope=col>snps</th><th scope=col>source</th><th scope=col>egene</th><th scope=col>conditional_number</th><th scope=col>accession</th></tr>\n",
       "\t<tr><th></th><th scope=col>&lt;chr&gt;</th><th scope=col>&lt;chr&gt;</th><th scope=col>&lt;chr&gt;</th><th scope=col>&lt;int&gt;</th><th scope=col>&lt;chr&gt;</th></tr>\n",
       "</thead>\n",
       "<tbody>\n",
       "\t<tr><th scope=row>1</th><td>rs3131972 </td><td>Lead cis-eQTL SNP</td><td>ENSG00000237491</td><td>NA</td><td>NA</td></tr>\n",
       "\t<tr><th scope=row>2</th><td>rs3131972 </td><td>Lead cis-eQTL SNP</td><td>ENSG00000230092</td><td>NA</td><td>NA</td></tr>\n",
       "\t<tr><th scope=row>3</th><td>rs3131972 </td><td>Lead cis-eQTL SNP</td><td>ENSG00000225880</td><td>NA</td><td>NA</td></tr>\n",
       "\t<tr><th scope=row>4</th><td>rs2272757 </td><td>Lead cis-eQTL SNP</td><td>ENSG00000188976</td><td>NA</td><td>NA</td></tr>\n",
       "\t<tr><th scope=row>5</th><td>rs13303327</td><td>Lead cis-eQTL SNP</td><td>ENSG00000187961</td><td>NA</td><td>NA</td></tr>\n",
       "\t<tr><th scope=row>6</th><td>rs13303056</td><td>Lead cis-eQTL SNP</td><td>ENSG00000187583</td><td>NA</td><td>NA</td></tr>\n",
       "</tbody>\n",
       "</table>\n"
      ],
      "text/latex": [
       "A data.frame: 6 × 5\n",
       "\\begin{tabular}{r|lllll}\n",
       "  & snps & source & egene & conditional\\_number & accession\\\\\n",
       "  & <chr> & <chr> & <chr> & <int> & <chr>\\\\\n",
       "\\hline\n",
       "\t1 & rs3131972  & Lead cis-eQTL SNP & ENSG00000237491 & NA & NA\\\\\n",
       "\t2 & rs3131972  & Lead cis-eQTL SNP & ENSG00000230092 & NA & NA\\\\\n",
       "\t3 & rs3131972  & Lead cis-eQTL SNP & ENSG00000225880 & NA & NA\\\\\n",
       "\t4 & rs2272757  & Lead cis-eQTL SNP & ENSG00000188976 & NA & NA\\\\\n",
       "\t5 & rs13303327 & Lead cis-eQTL SNP & ENSG00000187961 & NA & NA\\\\\n",
       "\t6 & rs13303056 & Lead cis-eQTL SNP & ENSG00000187583 & NA & NA\\\\\n",
       "\\end{tabular}\n"
      ],
      "text/markdown": [
       "\n",
       "A data.frame: 6 × 5\n",
       "\n",
       "| <!--/--> | snps &lt;chr&gt; | source &lt;chr&gt; | egene &lt;chr&gt; | conditional_number &lt;int&gt; | accession &lt;chr&gt; |\n",
       "|---|---|---|---|---|---|\n",
       "| 1 | rs3131972  | Lead cis-eQTL SNP | ENSG00000237491 | NA | NA |\n",
       "| 2 | rs3131972  | Lead cis-eQTL SNP | ENSG00000230092 | NA | NA |\n",
       "| 3 | rs3131972  | Lead cis-eQTL SNP | ENSG00000225880 | NA | NA |\n",
       "| 4 | rs2272757  | Lead cis-eQTL SNP | ENSG00000188976 | NA | NA |\n",
       "| 5 | rs13303327 | Lead cis-eQTL SNP | ENSG00000187961 | NA | NA |\n",
       "| 6 | rs13303056 | Lead cis-eQTL SNP | ENSG00000187583 | NA | NA |\n",
       "\n"
      ],
      "text/plain": [
       "  snps       source            egene           conditional_number accession\n",
       "1 rs3131972  Lead cis-eQTL SNP ENSG00000237491 NA                 NA       \n",
       "2 rs3131972  Lead cis-eQTL SNP ENSG00000230092 NA                 NA       \n",
       "3 rs3131972  Lead cis-eQTL SNP ENSG00000225880 NA                 NA       \n",
       "4 rs2272757  Lead cis-eQTL SNP ENSG00000188976 NA                 NA       \n",
       "5 rs13303327 Lead cis-eQTL SNP ENSG00000187961 NA                 NA       \n",
       "6 rs13303056 Lead cis-eQTL SNP ENSG00000187583 NA                 NA       "
      ]
     },
     "metadata": {},
     "output_type": "display_data"
    }
   ],
   "source": [
    "head(map.snps)"
   ]
  },
  {
   "cell_type": "code",
   "execution_count": 36,
   "id": "6a9a95e2-848f-426e-89f0-70f0f53c3bd2",
   "metadata": {},
   "outputs": [],
   "source": [
    "ebi.studies <- fread(\"04_Expression/data/gwas_catalog_v1.0.2-studies_r2022-02-21.tsv\", header=TRUE, quote=\"\") %>%\n",
    "    as.data.frame()"
   ]
  },
  {
   "cell_type": "code",
   "execution_count": 37,
   "id": "62d8f3fb-12da-4d27-b607-bbb92b058d11",
   "metadata": {},
   "outputs": [
    {
     "data": {
      "text/html": [
       "<table class=\"dataframe\">\n",
       "<caption>A data.frame: 1 × 16</caption>\n",
       "<thead>\n",
       "\t<tr><th></th><th scope=col>DATE ADDED TO CATALOG</th><th scope=col>PUBMEDID</th><th scope=col>FIRST AUTHOR</th><th scope=col>DATE</th><th scope=col>JOURNAL</th><th scope=col>LINK</th><th scope=col>STUDY</th><th scope=col>DISEASE/TRAIT</th><th scope=col>INITIAL SAMPLE SIZE</th><th scope=col>REPLICATION SAMPLE SIZE</th><th scope=col>PLATFORM [SNPS PASSING QC]</th><th scope=col>ASSOCIATION COUNT</th><th scope=col>MAPPED_TRAIT</th><th scope=col>MAPPED_TRAIT_URI</th><th scope=col>STUDY ACCESSION</th><th scope=col>GENOTYPING TECHNOLOGY</th></tr>\n",
       "\t<tr><th></th><th scope=col>&lt;date&gt;</th><th scope=col>&lt;int&gt;</th><th scope=col>&lt;chr&gt;</th><th scope=col>&lt;date&gt;</th><th scope=col>&lt;chr&gt;</th><th scope=col>&lt;chr&gt;</th><th scope=col>&lt;chr&gt;</th><th scope=col>&lt;chr&gt;</th><th scope=col>&lt;chr&gt;</th><th scope=col>&lt;chr&gt;</th><th scope=col>&lt;chr&gt;</th><th scope=col>&lt;int&gt;</th><th scope=col>&lt;chr&gt;</th><th scope=col>&lt;chr&gt;</th><th scope=col>&lt;chr&gt;</th><th scope=col>&lt;chr&gt;</th></tr>\n",
       "</thead>\n",
       "<tbody>\n",
       "\t<tr><th scope=row>1</th><td>2021-08-24</td><td>34124712</td><td>Sherva R</td><td>2021-02-28</td><td>Explor Med</td><td>www.ncbi.nlm.nih.gov/pubmed/34124712</td><td>Genome-wide association study of phenotypes measuring progression from first cocaine or opioid use to dependence reveals novel risk genes.</td><td>Cocaine dependence (time to event)</td><td>3,554 African American cases, 478 African American controls, 2,712 European ancestry cases, 915 European ancestry controls</td><td>572 African American cases, 416 African American controls, 759 European ancestry cases, 1,620 European ancestry controls</td><td>Illumina [NR] (imputed)</td><td>5</td><td>cocaine dependence</td><td>http://www.ebi.ac.uk/efo/EFO_0002610</td><td>GCST012225</td><td>Genome-wide genotyping array</td></tr>\n",
       "</tbody>\n",
       "</table>\n"
      ],
      "text/latex": [
       "A data.frame: 1 × 16\n",
       "\\begin{tabular}{r|llllllllllllllll}\n",
       "  & DATE ADDED TO CATALOG & PUBMEDID & FIRST AUTHOR & DATE & JOURNAL & LINK & STUDY & DISEASE/TRAIT & INITIAL SAMPLE SIZE & REPLICATION SAMPLE SIZE & PLATFORM {[}SNPS PASSING QC{]} & ASSOCIATION COUNT & MAPPED\\_TRAIT & MAPPED\\_TRAIT\\_URI & STUDY ACCESSION & GENOTYPING TECHNOLOGY\\\\\n",
       "  & <date> & <int> & <chr> & <date> & <chr> & <chr> & <chr> & <chr> & <chr> & <chr> & <chr> & <int> & <chr> & <chr> & <chr> & <chr>\\\\\n",
       "\\hline\n",
       "\t1 & 2021-08-24 & 34124712 & Sherva R & 2021-02-28 & Explor Med & www.ncbi.nlm.nih.gov/pubmed/34124712 & Genome-wide association study of phenotypes measuring progression from first cocaine or opioid use to dependence reveals novel risk genes. & Cocaine dependence (time to event) & 3,554 African American cases, 478 African American controls, 2,712 European ancestry cases, 915 European ancestry controls & 572 African American cases, 416 African American controls, 759 European ancestry cases, 1,620 European ancestry controls & Illumina {[}NR{]} (imputed) & 5 & cocaine dependence & http://www.ebi.ac.uk/efo/EFO\\_0002610 & GCST012225 & Genome-wide genotyping array\\\\\n",
       "\\end{tabular}\n"
      ],
      "text/markdown": [
       "\n",
       "A data.frame: 1 × 16\n",
       "\n",
       "| <!--/--> | DATE ADDED TO CATALOG &lt;date&gt; | PUBMEDID &lt;int&gt; | FIRST AUTHOR &lt;chr&gt; | DATE &lt;date&gt; | JOURNAL &lt;chr&gt; | LINK &lt;chr&gt; | STUDY &lt;chr&gt; | DISEASE/TRAIT &lt;chr&gt; | INITIAL SAMPLE SIZE &lt;chr&gt; | REPLICATION SAMPLE SIZE &lt;chr&gt; | PLATFORM [SNPS PASSING QC] &lt;chr&gt; | ASSOCIATION COUNT &lt;int&gt; | MAPPED_TRAIT &lt;chr&gt; | MAPPED_TRAIT_URI &lt;chr&gt; | STUDY ACCESSION &lt;chr&gt; | GENOTYPING TECHNOLOGY &lt;chr&gt; |\n",
       "|---|---|---|---|---|---|---|---|---|---|---|---|---|---|---|---|---|\n",
       "| 1 | 2021-08-24 | 34124712 | Sherva R | 2021-02-28 | Explor Med | www.ncbi.nlm.nih.gov/pubmed/34124712 | Genome-wide association study of phenotypes measuring progression from first cocaine or opioid use to dependence reveals novel risk genes. | Cocaine dependence (time to event) | 3,554 African American cases, 478 African American controls, 2,712 European ancestry cases, 915 European ancestry controls | 572 African American cases, 416 African American controls, 759 European ancestry cases, 1,620 European ancestry controls | Illumina [NR] (imputed) | 5 | cocaine dependence | http://www.ebi.ac.uk/efo/EFO_0002610 | GCST012225 | Genome-wide genotyping array |\n",
       "\n"
      ],
      "text/plain": [
       "  DATE ADDED TO CATALOG PUBMEDID FIRST AUTHOR DATE       JOURNAL   \n",
       "1 2021-08-24            34124712 Sherva R     2021-02-28 Explor Med\n",
       "  LINK                                \n",
       "1 www.ncbi.nlm.nih.gov/pubmed/34124712\n",
       "  STUDY                                                                                                                                     \n",
       "1 Genome-wide association study of phenotypes measuring progression from first cocaine or opioid use to dependence reveals novel risk genes.\n",
       "  DISEASE/TRAIT                     \n",
       "1 Cocaine dependence (time to event)\n",
       "  INITIAL SAMPLE SIZE                                                                                                       \n",
       "1 3,554 African American cases, 478 African American controls, 2,712 European ancestry cases, 915 European ancestry controls\n",
       "  REPLICATION SAMPLE SIZE                                                                                                 \n",
       "1 572 African American cases, 416 African American controls, 759 European ancestry cases, 1,620 European ancestry controls\n",
       "  PLATFORM [SNPS PASSING QC] ASSOCIATION COUNT MAPPED_TRAIT      \n",
       "1 Illumina [NR] (imputed)    5                 cocaine dependence\n",
       "  MAPPED_TRAIT_URI                     STUDY ACCESSION\n",
       "1 http://www.ebi.ac.uk/efo/EFO_0002610 GCST012225     \n",
       "  GENOTYPING TECHNOLOGY       \n",
       "1 Genome-wide genotyping array"
      ]
     },
     "metadata": {},
     "output_type": "display_data"
    }
   ],
   "source": [
    "head(ebi.studies, n=1)"
   ]
  },
  {
   "cell_type": "code",
   "execution_count": 43,
   "id": "a56e75f2-c836-40a6-a06e-3bc9138290b5",
   "metadata": {},
   "outputs": [],
   "source": [
    "modules <- read.csv(\"~/gains_team282/nikhil/expression/gene_expression/modules.csv\") %>%\n",
    "    dplyr::mutate(Eigengene=gsub(\"Module_\", \"ME_\", Module))"
   ]
  },
  {
   "cell_type": "code",
   "execution_count": 44,
   "id": "7f145023-f7a1-4d03-8c0d-62ab7129fd18",
   "metadata": {},
   "outputs": [
    {
     "data": {
      "text/html": [
       "<table class=\"dataframe\">\n",
       "<caption>A data.frame: 6 × 3</caption>\n",
       "<thead>\n",
       "\t<tr><th></th><th scope=col>Gene</th><th scope=col>Module</th><th scope=col>Eigengene</th></tr>\n",
       "\t<tr><th></th><th scope=col>&lt;chr&gt;</th><th scope=col>&lt;chr&gt;</th><th scope=col>&lt;chr&gt;</th></tr>\n",
       "</thead>\n",
       "<tbody>\n",
       "\t<tr><th scope=row>1</th><td>ENSG00000001167</td><td>Module_1</td><td>ME_1</td></tr>\n",
       "\t<tr><th scope=row>2</th><td>ENSG00000002330</td><td>Module_1</td><td>ME_1</td></tr>\n",
       "\t<tr><th scope=row>3</th><td>ENSG00000002822</td><td>Module_1</td><td>ME_1</td></tr>\n",
       "\t<tr><th scope=row>4</th><td>ENSG00000005175</td><td>Module_1</td><td>ME_1</td></tr>\n",
       "\t<tr><th scope=row>5</th><td>ENSG00000005194</td><td>Module_1</td><td>ME_1</td></tr>\n",
       "\t<tr><th scope=row>6</th><td>ENSG00000005893</td><td>Module_1</td><td>ME_1</td></tr>\n",
       "</tbody>\n",
       "</table>\n"
      ],
      "text/latex": [
       "A data.frame: 6 × 3\n",
       "\\begin{tabular}{r|lll}\n",
       "  & Gene & Module & Eigengene\\\\\n",
       "  & <chr> & <chr> & <chr>\\\\\n",
       "\\hline\n",
       "\t1 & ENSG00000001167 & Module\\_1 & ME\\_1\\\\\n",
       "\t2 & ENSG00000002330 & Module\\_1 & ME\\_1\\\\\n",
       "\t3 & ENSG00000002822 & Module\\_1 & ME\\_1\\\\\n",
       "\t4 & ENSG00000005175 & Module\\_1 & ME\\_1\\\\\n",
       "\t5 & ENSG00000005194 & Module\\_1 & ME\\_1\\\\\n",
       "\t6 & ENSG00000005893 & Module\\_1 & ME\\_1\\\\\n",
       "\\end{tabular}\n"
      ],
      "text/markdown": [
       "\n",
       "A data.frame: 6 × 3\n",
       "\n",
       "| <!--/--> | Gene &lt;chr&gt; | Module &lt;chr&gt; | Eigengene &lt;chr&gt; |\n",
       "|---|---|---|---|\n",
       "| 1 | ENSG00000001167 | Module_1 | ME_1 |\n",
       "| 2 | ENSG00000002330 | Module_1 | ME_1 |\n",
       "| 3 | ENSG00000002822 | Module_1 | ME_1 |\n",
       "| 4 | ENSG00000005175 | Module_1 | ME_1 |\n",
       "| 5 | ENSG00000005194 | Module_1 | ME_1 |\n",
       "| 6 | ENSG00000005893 | Module_1 | ME_1 |\n",
       "\n"
      ],
      "text/plain": [
       "  Gene            Module   Eigengene\n",
       "1 ENSG00000001167 Module_1 ME_1     \n",
       "2 ENSG00000002330 Module_1 ME_1     \n",
       "3 ENSG00000002822 Module_1 ME_1     \n",
       "4 ENSG00000005175 Module_1 ME_1     \n",
       "5 ENSG00000005194 Module_1 ME_1     \n",
       "6 ENSG00000005893 Module_1 ME_1     "
      ]
     },
     "metadata": {},
     "output_type": "display_data"
    }
   ],
   "source": [
    "head(modules)"
   ]
  },
  {
   "cell_type": "markdown",
   "id": "ff7e6527-dea8-4959-8c14-9b2f8a387145",
   "metadata": {
    "tags": []
   },
   "source": [
    "# Module QTL"
   ]
  },
  {
   "cell_type": "markdown",
   "id": "1fbea520-4d48-4d26-9035-e1161ac8ab92",
   "metadata": {},
   "source": [
    "First, I ask how many SNPs were significantly associated with any given module. 876 SNPs were associated with at least one module eigengene."
   ]
  },
  {
   "cell_type": "code",
   "execution_count": 45,
   "id": "643f84eb-152e-4daf-8c8e-c428f4b5e1f4",
   "metadata": {},
   "outputs": [
    {
     "data": {
      "text/html": [
       "876"
      ],
      "text/latex": [
       "876"
      ],
      "text/markdown": [
       "876"
      ],
      "text/plain": [
       "[1] 876"
      ]
     },
     "metadata": {},
     "output_type": "display_data"
    }
   ],
   "source": [
    "length(unique(mqtl$snp))"
   ]
  },
  {
   "cell_type": "markdown",
   "id": "da34fec5-91d9-4dd0-a468-c09358604a4b",
   "metadata": {},
   "source": [
    "Next, how many modules had an association with at least one SNP? 31 modules had an association with at least one SNP."
   ]
  },
  {
   "cell_type": "code",
   "execution_count": 46,
   "id": "3614524d-1157-4d7c-be91-5d0351845c19",
   "metadata": {},
   "outputs": [
    {
     "data": {
      "text/html": [
       "31"
      ],
      "text/latex": [
       "31"
      ],
      "text/markdown": [
       "31"
      ],
      "text/plain": [
       "[1] 31"
      ]
     },
     "metadata": {},
     "output_type": "display_data"
    }
   ],
   "source": [
    "length(unique(mqtl$me))"
   ]
  },
  {
   "cell_type": "markdown",
   "id": "e55bb5fd-c9cb-4b9c-b768-a784f0775208",
   "metadata": {},
   "source": [
    "A module might have more than one association. That is the case in this analysis. There are 31 loci, one for each module."
   ]
  },
  {
   "cell_type": "code",
   "execution_count": 47,
   "id": "891d7242-2f7b-4ae2-a415-c7e3bfb7c8fd",
   "metadata": {},
   "outputs": [
    {
     "data": {
      "text/html": [
       "31"
      ],
      "text/latex": [
       "31"
      ],
      "text/markdown": [
       "31"
      ],
      "text/plain": [
       "[1] 31"
      ]
     },
     "metadata": {},
     "output_type": "display_data"
    }
   ],
   "source": [
    "length(unique(mqtl.sum$QTL.ID))"
   ]
  },
  {
   "cell_type": "markdown",
   "id": "90b061d5-b297-46d0-be86-ab0e2ea87475",
   "metadata": {},
   "source": [
    "What proportion of the module QTL are lead cis-eQTL? Lead conditional cis-eQTL? Trait-associated variants?"
   ]
  },
  {
   "cell_type": "code",
   "execution_count": 48,
   "id": "3cd0c86e-9d4c-429c-95fb-5a9380d4e91a",
   "metadata": {
    "tags": []
   },
   "outputs": [
    {
     "data": {
      "text/html": [
       "<table class=\"dataframe\">\n",
       "<caption>A tibble: 3 × 3</caption>\n",
       "<thead>\n",
       "\t<tr><th scope=col>source</th><th scope=col>N</th><th scope=col>Prop</th></tr>\n",
       "\t<tr><th scope=col>&lt;chr&gt;</th><th scope=col>&lt;int&gt;</th><th scope=col>&lt;dbl&gt;</th></tr>\n",
       "</thead>\n",
       "<tbody>\n",
       "\t<tr><td>Conditional cis-eQTL SNP</td><td>236</td><td>0.2694064</td></tr>\n",
       "\t<tr><td>EBI GWAS Catalog        </td><td>657</td><td>0.7500000</td></tr>\n",
       "\t<tr><td>Lead cis-eQTL SNP       </td><td>139</td><td>0.1586758</td></tr>\n",
       "</tbody>\n",
       "</table>\n"
      ],
      "text/latex": [
       "A tibble: 3 × 3\n",
       "\\begin{tabular}{lll}\n",
       " source & N & Prop\\\\\n",
       " <chr> & <int> & <dbl>\\\\\n",
       "\\hline\n",
       "\t Conditional cis-eQTL SNP & 236 & 0.2694064\\\\\n",
       "\t EBI GWAS Catalog         & 657 & 0.7500000\\\\\n",
       "\t Lead cis-eQTL SNP        & 139 & 0.1586758\\\\\n",
       "\\end{tabular}\n"
      ],
      "text/markdown": [
       "\n",
       "A tibble: 3 × 3\n",
       "\n",
       "| source &lt;chr&gt; | N &lt;int&gt; | Prop &lt;dbl&gt; |\n",
       "|---|---|---|\n",
       "| Conditional cis-eQTL SNP | 236 | 0.2694064 |\n",
       "| EBI GWAS Catalog         | 657 | 0.7500000 |\n",
       "| Lead cis-eQTL SNP        | 139 | 0.1586758 |\n",
       "\n"
      ],
      "text/plain": [
       "  source                   N   Prop     \n",
       "1 Conditional cis-eQTL SNP 236 0.2694064\n",
       "2 EBI GWAS Catalog         657 0.7500000\n",
       "3 Lead cis-eQTL SNP        139 0.1586758"
      ]
     },
     "metadata": {},
     "output_type": "display_data"
    }
   ],
   "source": [
    "merge(mqtl, map.snps, by.x=\"snp\", by.y=\"snps\") %>%\n",
    "    dplyr::select(snp, source) %>%\n",
    "    unique() %>%\n",
    "    dplyr::group_by(source) %>%\n",
    "    dplyr::summarize(N=n()) %>%\n",
    "    dplyr::mutate(Prop=N / length(unique(mqtl$snp)))"
   ]
  },
  {
   "cell_type": "markdown",
   "id": "d109026a-2a26-40fb-bb9e-cd83eded7192",
   "metadata": {},
   "source": [
    "How many of the modules are associated with a cis-eQTL and also contain the corresponding eGene?"
   ]
  },
  {
   "cell_type": "code",
   "execution_count": 55,
   "id": "e4041ec1-245e-4a99-9bb2-11846f0a391e",
   "metadata": {},
   "outputs": [
    {
     "data": {
      "text/html": [
       "28"
      ],
      "text/latex": [
       "28"
      ],
      "text/markdown": [
       "28"
      ],
      "text/plain": [
       "[1] 28"
      ]
     },
     "metadata": {},
     "output_type": "display_data"
    }
   ],
   "source": [
    "merge(mqtl, map.snps, by.x=\"snp\", by.y=\"snps\") %>%\n",
    "    merge(., modules, by.x=\"me\", by.y=\"Eigengene\") %>%\n",
    "    dplyr::filter(egene == Gene) %>%\n",
    "    dplyr::select(me) %>%\n",
    "    unique() %>%\n",
    "    nrow()"
   ]
  },
  {
   "cell_type": "markdown",
   "id": "d8715222-551a-47de-90f9-4b1dea123d06",
   "metadata": {
    "tags": []
   },
   "source": [
    "# Module QTL from All PCs"
   ]
  },
  {
   "cell_type": "markdown",
   "id": "19ce761f-c003-47bc-a6bd-1cca5d66b0fc",
   "metadata": {},
   "source": [
    "First, I ask how many SNPs were significantly associated with any given module. 1935 SNPs were associated with at least one module eigengene."
   ]
  },
  {
   "cell_type": "code",
   "execution_count": 21,
   "id": "54fdef7e-0751-4259-ad54-909faaed9b70",
   "metadata": {},
   "outputs": [
    {
     "data": {
      "text/html": [
       "1935"
      ],
      "text/latex": [
       "1935"
      ],
      "text/markdown": [
       "1935"
      ],
      "text/plain": [
       "[1] 1935"
      ]
     },
     "metadata": {},
     "output_type": "display_data"
    }
   ],
   "source": [
    "length(unique(mqtl.pcs$snp))"
   ]
  },
  {
   "cell_type": "markdown",
   "id": "bb029f5a-247b-46ff-bf5d-2457ffc38c21",
   "metadata": {},
   "source": [
    "Next, how many modules had an association with at least one SNP? 48 modules had an association with at least one SNP."
   ]
  },
  {
   "cell_type": "code",
   "execution_count": 22,
   "id": "0040968c-5077-4977-a86b-44c68dc0a3cb",
   "metadata": {},
   "outputs": [
    {
     "data": {
      "text/html": [
       "48"
      ],
      "text/latex": [
       "48"
      ],
      "text/markdown": [
       "48"
      ],
      "text/plain": [
       "[1] 48"
      ]
     },
     "metadata": {},
     "output_type": "display_data"
    }
   ],
   "source": [
    "length(unique(mqtl.pcs$me))"
   ]
  },
  {
   "cell_type": "markdown",
   "id": "cf7b1c52-b50b-4832-9282-4a070798a670",
   "metadata": {},
   "source": [
    "A module might have more than one association. That is the case in this analysis. There are 76 loci, one for each module."
   ]
  },
  {
   "cell_type": "code",
   "execution_count": 23,
   "id": "37b097e8-4429-4c2f-8f94-435b2f4e550f",
   "metadata": {},
   "outputs": [
    {
     "data": {
      "text/html": [
       "76"
      ],
      "text/latex": [
       "76"
      ],
      "text/markdown": [
       "76"
      ],
      "text/plain": [
       "[1] 76"
      ]
     },
     "metadata": {},
     "output_type": "display_data"
    }
   ],
   "source": [
    "length(unique(mqtl.pcs.sum$QTL.ID))"
   ]
  },
  {
   "cell_type": "markdown",
   "id": "3343ca83-2ec8-45ac-a968-3d4a79dcca32",
   "metadata": {},
   "source": [
    "What proportion of the module QTL are lead cis-eQTL? Lead conditional cis-eQTL? Trait-associated variants?"
   ]
  },
  {
   "cell_type": "code",
   "execution_count": 33,
   "id": "b8ea4d66-f31f-4e4d-9027-2b7884ebad1e",
   "metadata": {
    "tags": []
   },
   "outputs": [
    {
     "data": {
      "text/html": [
       "<table class=\"dataframe\">\n",
       "<caption>A tibble: 3 × 3</caption>\n",
       "<thead>\n",
       "\t<tr><th scope=col>source</th><th scope=col>N</th><th scope=col>Prop</th></tr>\n",
       "\t<tr><th scope=col>&lt;chr&gt;</th><th scope=col>&lt;int&gt;</th><th scope=col>&lt;dbl&gt;</th></tr>\n",
       "</thead>\n",
       "<tbody>\n",
       "\t<tr><td>Conditional cis-eQTL SNP</td><td> 486</td><td>0.2511628</td></tr>\n",
       "\t<tr><td>EBI GWAS Catalog        </td><td>1479</td><td>0.7643411</td></tr>\n",
       "\t<tr><td>Lead cis-eQTL SNP       </td><td> 292</td><td>0.1509044</td></tr>\n",
       "</tbody>\n",
       "</table>\n"
      ],
      "text/latex": [
       "A tibble: 3 × 3\n",
       "\\begin{tabular}{lll}\n",
       " source & N & Prop\\\\\n",
       " <chr> & <int> & <dbl>\\\\\n",
       "\\hline\n",
       "\t Conditional cis-eQTL SNP &  486 & 0.2511628\\\\\n",
       "\t EBI GWAS Catalog         & 1479 & 0.7643411\\\\\n",
       "\t Lead cis-eQTL SNP        &  292 & 0.1509044\\\\\n",
       "\\end{tabular}\n"
      ],
      "text/markdown": [
       "\n",
       "A tibble: 3 × 3\n",
       "\n",
       "| source &lt;chr&gt; | N &lt;int&gt; | Prop &lt;dbl&gt; |\n",
       "|---|---|---|\n",
       "| Conditional cis-eQTL SNP |  486 | 0.2511628 |\n",
       "| EBI GWAS Catalog         | 1479 | 0.7643411 |\n",
       "| Lead cis-eQTL SNP        |  292 | 0.1509044 |\n",
       "\n"
      ],
      "text/plain": [
       "  source                   N    Prop     \n",
       "1 Conditional cis-eQTL SNP  486 0.2511628\n",
       "2 EBI GWAS Catalog         1479 0.7643411\n",
       "3 Lead cis-eQTL SNP         292 0.1509044"
      ]
     },
     "metadata": {},
     "output_type": "display_data"
    }
   ],
   "source": [
    "merge(mqtl.pcs, map.snps, by.x=\"snp\", by.y=\"snps\") %>%\n",
    "    dplyr::select(snp, source) %>%\n",
    "    unique() %>%\n",
    "    dplyr::group_by(source) %>%\n",
    "    dplyr::summarize(N=n()) %>%\n",
    "    dplyr::mutate(Prop=N / length(unique(mqtl.pcs$snp)))"
   ]
  },
  {
   "cell_type": "markdown",
   "id": "37627766-c4e0-4dff-8b0a-697460360ac7",
   "metadata": {},
   "source": [
    "How many of the modules are associated with a cis-eQTL and also contain the corresponding eGene?"
   ]
  },
  {
   "cell_type": "code",
   "execution_count": 56,
   "id": "7579ff2b-c9b4-4a6b-aaef-5ee6496f52f5",
   "metadata": {},
   "outputs": [
    {
     "data": {
      "text/html": [
       "45"
      ],
      "text/latex": [
       "45"
      ],
      "text/markdown": [
       "45"
      ],
      "text/plain": [
       "[1] 45"
      ]
     },
     "metadata": {},
     "output_type": "display_data"
    }
   ],
   "source": [
    "merge(mqtl.pcs, map.snps, by.x=\"snp\", by.y=\"snps\") %>%\n",
    "    merge(., modules, by.x=\"me\", by.y=\"Eigengene\") %>%\n",
    "    dplyr::filter(egene == Gene) %>%\n",
    "    dplyr::select(me) %>%\n",
    "    unique() %>%\n",
    "    nrow()"
   ]
  },
  {
   "cell_type": "code",
   "execution_count": 116,
   "id": "26df7f74-1820-4b26-811c-ba11c6618ec3",
   "metadata": {},
   "outputs": [
    {
     "data": {
      "text/html": [
       "<style>\n",
       ".dl-inline {width: auto; margin:0; padding: 0}\n",
       ".dl-inline>dt, .dl-inline>dd {float: none; width: auto; display: inline-block}\n",
       ".dl-inline>dt::after {content: \":\\0020\"; padding-right: .5ex}\n",
       ".dl-inline>dt:not(:first-of-type) {padding-left: .5ex}\n",
       "</style><dl class=dl-inline><dt>ME_100</dt><dd>1</dd><dt>ME_101</dt><dd>175</dd><dt>ME_102</dt><dd>38</dd><dt>ME_103</dt><dd>60</dd><dt>ME_104</dt><dd>5</dd><dt>ME_105</dt><dd>4</dd><dt>ME_106</dt><dd>5</dd><dt>ME_21</dt><dd>1</dd><dt>ME_46</dt><dd>4</dd><dt>ME_47</dt><dd>3</dd><dt>ME_59</dt><dd>10</dd><dt>ME_62</dt><dd>166</dd><dt>ME_63</dt><dd>48</dd><dt>ME_64</dt><dd>1</dd><dt>ME_67</dt><dd>47</dd><dt>ME_69</dt><dd>318</dd><dt>ME_71</dt><dd>4</dd><dt>ME_75</dt><dd>2</dd><dt>ME_79</dt><dd>1</dd><dt>ME_80</dt><dd>7</dd><dt>ME_81</dt><dd>255</dd><dt>ME_82</dt><dd>32</dd><dt>ME_84</dt><dd>1351</dd><dt>ME_86</dt><dd>29</dd><dt>ME_87</dt><dd>2</dd><dt>ME_88</dt><dd>81</dd><dt>ME_89</dt><dd>2</dd><dt>ME_91</dt><dd>148</dd><dt>ME_92</dt><dd>130</dd><dt>ME_94</dt><dd>168</dd><dt>ME_97</dt><dd>28</dd><dt>ME_98</dt><dd>8</dd><dt>ME_99</dt><dd>40</dd></dl>\n"
      ],
      "text/latex": [
       "\\begin{description*}\n",
       "\\item[ME\\textbackslash{}\\_100] 1\n",
       "\\item[ME\\textbackslash{}\\_101] 175\n",
       "\\item[ME\\textbackslash{}\\_102] 38\n",
       "\\item[ME\\textbackslash{}\\_103] 60\n",
       "\\item[ME\\textbackslash{}\\_104] 5\n",
       "\\item[ME\\textbackslash{}\\_105] 4\n",
       "\\item[ME\\textbackslash{}\\_106] 5\n",
       "\\item[ME\\textbackslash{}\\_21] 1\n",
       "\\item[ME\\textbackslash{}\\_46] 4\n",
       "\\item[ME\\textbackslash{}\\_47] 3\n",
       "\\item[ME\\textbackslash{}\\_59] 10\n",
       "\\item[ME\\textbackslash{}\\_62] 166\n",
       "\\item[ME\\textbackslash{}\\_63] 48\n",
       "\\item[ME\\textbackslash{}\\_64] 1\n",
       "\\item[ME\\textbackslash{}\\_67] 47\n",
       "\\item[ME\\textbackslash{}\\_69] 318\n",
       "\\item[ME\\textbackslash{}\\_71] 4\n",
       "\\item[ME\\textbackslash{}\\_75] 2\n",
       "\\item[ME\\textbackslash{}\\_79] 1\n",
       "\\item[ME\\textbackslash{}\\_80] 7\n",
       "\\item[ME\\textbackslash{}\\_81] 255\n",
       "\\item[ME\\textbackslash{}\\_82] 32\n",
       "\\item[ME\\textbackslash{}\\_84] 1351\n",
       "\\item[ME\\textbackslash{}\\_86] 29\n",
       "\\item[ME\\textbackslash{}\\_87] 2\n",
       "\\item[ME\\textbackslash{}\\_88] 81\n",
       "\\item[ME\\textbackslash{}\\_89] 2\n",
       "\\item[ME\\textbackslash{}\\_91] 148\n",
       "\\item[ME\\textbackslash{}\\_92] 130\n",
       "\\item[ME\\textbackslash{}\\_94] 168\n",
       "\\item[ME\\textbackslash{}\\_97] 28\n",
       "\\item[ME\\textbackslash{}\\_98] 8\n",
       "\\item[ME\\textbackslash{}\\_99] 40\n",
       "\\end{description*}\n"
      ],
      "text/markdown": [
       "ME_100\n",
       ":   1ME_101\n",
       ":   175ME_102\n",
       ":   38ME_103\n",
       ":   60ME_104\n",
       ":   5ME_105\n",
       ":   4ME_106\n",
       ":   5ME_21\n",
       ":   1ME_46\n",
       ":   4ME_47\n",
       ":   3ME_59\n",
       ":   10ME_62\n",
       ":   166ME_63\n",
       ":   48ME_64\n",
       ":   1ME_67\n",
       ":   47ME_69\n",
       ":   318ME_71\n",
       ":   4ME_75\n",
       ":   2ME_79\n",
       ":   1ME_80\n",
       ":   7ME_81\n",
       ":   255ME_82\n",
       ":   32ME_84\n",
       ":   1351ME_86\n",
       ":   29ME_87\n",
       ":   2ME_88\n",
       ":   81ME_89\n",
       ":   2ME_91\n",
       ":   148ME_92\n",
       ":   130ME_94\n",
       ":   168ME_97\n",
       ":   28ME_98\n",
       ":   8ME_99\n",
       ":   40\n",
       "\n"
      ],
      "text/plain": [
       "ME_100 ME_101 ME_102 ME_103 ME_104 ME_105 ME_106  ME_21  ME_46  ME_47  ME_59 \n",
       "     1    175     38     60      5      4      5      1      4      3     10 \n",
       " ME_62  ME_63  ME_64  ME_67  ME_69  ME_71  ME_75  ME_79  ME_80  ME_81  ME_82 \n",
       "   166     48      1     47    318      4      2      1      7    255     32 \n",
       " ME_84  ME_86  ME_87  ME_88  ME_89  ME_91  ME_92  ME_94  ME_97  ME_98  ME_99 \n",
       "  1351     29      2     81      2    148    130    168     28      8     40 "
      ]
     },
     "metadata": {},
     "output_type": "display_data"
    },
    {
     "data": {
      "text/html": [
       "33"
      ],
      "text/latex": [
       "33"
      ],
      "text/markdown": [
       "33"
      ],
      "text/plain": [
       "[1] 33"
      ]
     },
     "metadata": {},
     "output_type": "display_data"
    }
   ],
   "source": [
    "merge(mqtl.pcs, map.snps, by.x=\"snp\", by.y=\"snps\") %>%\n",
    "    dplyr::filter(source == \"EBI GWAS Catalog\") %>%\n",
    "    dplyr::select(snp, me, accession) %>%\n",
    "    merge(., ebi.studies, by.x=\"accession\", by.y=\"STUDY ACCESSION\") %>%\n",
    "    dplyr::group_by(MAPPED_TRAIT, me) %>%\n",
    "    dplyr::summarize(N=n(), .groups=\"drop\") %>%\n",
    "    tidyr::spread(key=\"me\", value=\"N\", fill=0) -> trait.mtx\n",
    "\n",
    "colSums(trait.mtx[,-1])\n",
    "ncol(trait.mtx[,-1])"
   ]
  },
  {
   "cell_type": "code",
   "execution_count": 114,
   "id": "f5e97f70-d196-4915-9ddb-1eeee6a321ec",
   "metadata": {},
   "outputs": [
    {
     "data": {
      "text/html": [
       "<table class=\"dataframe\">\n",
       "<caption>A tibble: 16 × 34</caption>\n",
       "<thead>\n",
       "\t<tr><th scope=col>MAPPED_TRAIT</th><th scope=col>ME_100</th><th scope=col>ME_101</th><th scope=col>ME_102</th><th scope=col>ME_103</th><th scope=col>ME_104</th><th scope=col>ME_105</th><th scope=col>ME_106</th><th scope=col>ME_21</th><th scope=col>ME_46</th><th scope=col>⋯</th><th scope=col>ME_86</th><th scope=col>ME_87</th><th scope=col>ME_88</th><th scope=col>ME_89</th><th scope=col>ME_91</th><th scope=col>ME_92</th><th scope=col>ME_94</th><th scope=col>ME_97</th><th scope=col>ME_98</th><th scope=col>ME_99</th></tr>\n",
       "\t<tr><th scope=col>&lt;chr&gt;</th><th scope=col>&lt;dbl&gt;</th><th scope=col>&lt;dbl&gt;</th><th scope=col>&lt;dbl&gt;</th><th scope=col>&lt;dbl&gt;</th><th scope=col>&lt;dbl&gt;</th><th scope=col>&lt;dbl&gt;</th><th scope=col>&lt;dbl&gt;</th><th scope=col>&lt;dbl&gt;</th><th scope=col>&lt;dbl&gt;</th><th scope=col>⋯</th><th scope=col>&lt;dbl&gt;</th><th scope=col>&lt;dbl&gt;</th><th scope=col>&lt;dbl&gt;</th><th scope=col>&lt;dbl&gt;</th><th scope=col>&lt;dbl&gt;</th><th scope=col>&lt;dbl&gt;</th><th scope=col>&lt;dbl&gt;</th><th scope=col>&lt;dbl&gt;</th><th scope=col>&lt;dbl&gt;</th><th scope=col>&lt;dbl&gt;</th></tr>\n",
       "</thead>\n",
       "<tbody>\n",
       "\t<tr><td>aspartate aminotransferase measurement                                                                                                                                                                                                               </td><td>0</td><td>2</td><td>1</td><td>0</td><td>0</td><td>0</td><td>0</td><td>0</td><td>0</td><td>⋯</td><td>0</td><td>0</td><td>0</td><td>0</td><td> 0</td><td>0</td><td> 0</td><td>0</td><td>0</td><td>0</td></tr>\n",
       "\t<tr><td>aspartate aminotransferase measurement, serum alanine aminotransferase measurement, low density lipoprotein triglyceride measurement, body fat percentage, high density lipoprotein cholesterol measurement, sex hormone-binding globulin measurement</td><td>0</td><td>1</td><td>0</td><td>0</td><td>0</td><td>0</td><td>0</td><td>0</td><td>0</td><td>⋯</td><td>0</td><td>0</td><td>0</td><td>0</td><td> 1</td><td>0</td><td> 0</td><td>0</td><td>0</td><td>0</td></tr>\n",
       "\t<tr><td>body fat percentage                                                                                                                                                                                                                                  </td><td>0</td><td>0</td><td>0</td><td>0</td><td>0</td><td>0</td><td>0</td><td>0</td><td>0</td><td>⋯</td><td>0</td><td>0</td><td>0</td><td>0</td><td> 2</td><td>0</td><td> 1</td><td>0</td><td>0</td><td>0</td></tr>\n",
       "\t<tr><td>body height                                                                                                                                                                                                                                          </td><td>0</td><td>0</td><td>1</td><td>0</td><td>1</td><td>0</td><td>0</td><td>0</td><td>0</td><td>⋯</td><td>2</td><td>0</td><td>0</td><td>0</td><td> 1</td><td>0</td><td> 0</td><td>1</td><td>0</td><td>0</td></tr>\n",
       "\t<tr><td>body mass index                                                                                                                                                                                                                                      </td><td>0</td><td>4</td><td>0</td><td>1</td><td>0</td><td>0</td><td>0</td><td>0</td><td>0</td><td>⋯</td><td>2</td><td>0</td><td>0</td><td>0</td><td>30</td><td>0</td><td> 2</td><td>0</td><td>0</td><td>0</td></tr>\n",
       "\t<tr><td>chronotype measurement                                                                                                                                                                                                                               </td><td>0</td><td>0</td><td>0</td><td>0</td><td>0</td><td>0</td><td>0</td><td>0</td><td>0</td><td>⋯</td><td>0</td><td>0</td><td>0</td><td>0</td><td> 0</td><td>0</td><td> 0</td><td>0</td><td>0</td><td>0</td></tr>\n",
       "\t<tr><td>comparative body size at age 10, self-reported                                                                                                                                                                                                       </td><td>0</td><td>0</td><td>0</td><td>0</td><td>0</td><td>0</td><td>0</td><td>0</td><td>0</td><td>⋯</td><td>0</td><td>0</td><td>0</td><td>0</td><td> 1</td><td>1</td><td> 0</td><td>0</td><td>0</td><td>0</td></tr>\n",
       "\t<tr><td>high density lipoprotein cholesterol measurement                                                                                                                                                                                                     </td><td>0</td><td>0</td><td>0</td><td>0</td><td>0</td><td>0</td><td>0</td><td>0</td><td>0</td><td>⋯</td><td>1</td><td>0</td><td>1</td><td>0</td><td> 0</td><td>0</td><td> 0</td><td>0</td><td>0</td><td>0</td></tr>\n",
       "\t<tr><td>intelligence                                                                                                                                                                                                                                         </td><td>0</td><td>2</td><td>0</td><td>0</td><td>0</td><td>0</td><td>0</td><td>0</td><td>0</td><td>⋯</td><td>0</td><td>0</td><td>0</td><td>0</td><td>13</td><td>5</td><td>13</td><td>1</td><td>0</td><td>0</td></tr>\n",
       "\t<tr><td>metabolic syndrome                                                                                                                                                                                                                                   </td><td>0</td><td>0</td><td>0</td><td>0</td><td>0</td><td>0</td><td>0</td><td>0</td><td>0</td><td>⋯</td><td>0</td><td>0</td><td>0</td><td>0</td><td> 0</td><td>0</td><td> 0</td><td>0</td><td>0</td><td>0</td></tr>\n",
       "\t<tr><td>physical activity measurement, body mass index                                                                                                                                                                                                       </td><td>0</td><td>0</td><td>0</td><td>0</td><td>0</td><td>0</td><td>0</td><td>0</td><td>0</td><td>⋯</td><td>0</td><td>0</td><td>0</td><td>0</td><td>13</td><td>0</td><td> 0</td><td>0</td><td>0</td><td>0</td></tr>\n",
       "\t<tr><td>platelet count                                                                                                                                                                                                                                       </td><td>0</td><td>0</td><td>1</td><td>0</td><td>1</td><td>0</td><td>0</td><td>0</td><td>0</td><td>⋯</td><td>2</td><td>0</td><td>2</td><td>0</td><td> 0</td><td>0</td><td> 0</td><td>1</td><td>0</td><td>0</td></tr>\n",
       "\t<tr><td>serum metabolite measurement                                                                                                                                                                                                                         </td><td>0</td><td>0</td><td>0</td><td>0</td><td>0</td><td>0</td><td>0</td><td>0</td><td>0</td><td>⋯</td><td>0</td><td>0</td><td>0</td><td>0</td><td> 0</td><td>0</td><td> 0</td><td>0</td><td>0</td><td>0</td></tr>\n",
       "\t<tr><td>smoking behavior, body mass index                                                                                                                                                                                                                    </td><td>0</td><td>0</td><td>0</td><td>0</td><td>0</td><td>0</td><td>0</td><td>0</td><td>0</td><td>⋯</td><td>0</td><td>0</td><td>0</td><td>0</td><td> 7</td><td>0</td><td> 0</td><td>0</td><td>0</td><td>0</td></tr>\n",
       "\t<tr><td>triglyceride measurement                                                                                                                                                                                                                             </td><td>0</td><td>0</td><td>0</td><td>2</td><td>0</td><td>0</td><td>0</td><td>0</td><td>0</td><td>⋯</td><td>0</td><td>0</td><td>0</td><td>0</td><td> 0</td><td>0</td><td> 0</td><td>0</td><td>0</td><td>0</td></tr>\n",
       "\t<tr><td>type 2 diabetes mellitus                                                                                                                                                                                                                             </td><td>0</td><td>1</td><td>0</td><td>0</td><td>0</td><td>0</td><td>0</td><td>0</td><td>0</td><td>⋯</td><td>0</td><td>0</td><td>0</td><td>0</td><td> 0</td><td>0</td><td> 0</td><td>0</td><td>0</td><td>0</td></tr>\n",
       "</tbody>\n",
       "</table>\n"
      ],
      "text/latex": [
       "A tibble: 16 × 34\n",
       "\\begin{tabular}{lllllllllllllllllllll}\n",
       " MAPPED\\_TRAIT & ME\\_100 & ME\\_101 & ME\\_102 & ME\\_103 & ME\\_104 & ME\\_105 & ME\\_106 & ME\\_21 & ME\\_46 & ⋯ & ME\\_86 & ME\\_87 & ME\\_88 & ME\\_89 & ME\\_91 & ME\\_92 & ME\\_94 & ME\\_97 & ME\\_98 & ME\\_99\\\\\n",
       " <chr> & <dbl> & <dbl> & <dbl> & <dbl> & <dbl> & <dbl> & <dbl> & <dbl> & <dbl> & ⋯ & <dbl> & <dbl> & <dbl> & <dbl> & <dbl> & <dbl> & <dbl> & <dbl> & <dbl> & <dbl>\\\\\n",
       "\\hline\n",
       "\t aspartate aminotransferase measurement                                                                                                                                                                                                                & 0 & 2 & 1 & 0 & 0 & 0 & 0 & 0 & 0 & ⋯ & 0 & 0 & 0 & 0 &  0 & 0 &  0 & 0 & 0 & 0\\\\\n",
       "\t aspartate aminotransferase measurement, serum alanine aminotransferase measurement, low density lipoprotein triglyceride measurement, body fat percentage, high density lipoprotein cholesterol measurement, sex hormone-binding globulin measurement & 0 & 1 & 0 & 0 & 0 & 0 & 0 & 0 & 0 & ⋯ & 0 & 0 & 0 & 0 &  1 & 0 &  0 & 0 & 0 & 0\\\\\n",
       "\t body fat percentage                                                                                                                                                                                                                                   & 0 & 0 & 0 & 0 & 0 & 0 & 0 & 0 & 0 & ⋯ & 0 & 0 & 0 & 0 &  2 & 0 &  1 & 0 & 0 & 0\\\\\n",
       "\t body height                                                                                                                                                                                                                                           & 0 & 0 & 1 & 0 & 1 & 0 & 0 & 0 & 0 & ⋯ & 2 & 0 & 0 & 0 &  1 & 0 &  0 & 1 & 0 & 0\\\\\n",
       "\t body mass index                                                                                                                                                                                                                                       & 0 & 4 & 0 & 1 & 0 & 0 & 0 & 0 & 0 & ⋯ & 2 & 0 & 0 & 0 & 30 & 0 &  2 & 0 & 0 & 0\\\\\n",
       "\t chronotype measurement                                                                                                                                                                                                                                & 0 & 0 & 0 & 0 & 0 & 0 & 0 & 0 & 0 & ⋯ & 0 & 0 & 0 & 0 &  0 & 0 &  0 & 0 & 0 & 0\\\\\n",
       "\t comparative body size at age 10, self-reported                                                                                                                                                                                                        & 0 & 0 & 0 & 0 & 0 & 0 & 0 & 0 & 0 & ⋯ & 0 & 0 & 0 & 0 &  1 & 1 &  0 & 0 & 0 & 0\\\\\n",
       "\t high density lipoprotein cholesterol measurement                                                                                                                                                                                                      & 0 & 0 & 0 & 0 & 0 & 0 & 0 & 0 & 0 & ⋯ & 1 & 0 & 1 & 0 &  0 & 0 &  0 & 0 & 0 & 0\\\\\n",
       "\t intelligence                                                                                                                                                                                                                                          & 0 & 2 & 0 & 0 & 0 & 0 & 0 & 0 & 0 & ⋯ & 0 & 0 & 0 & 0 & 13 & 5 & 13 & 1 & 0 & 0\\\\\n",
       "\t metabolic syndrome                                                                                                                                                                                                                                    & 0 & 0 & 0 & 0 & 0 & 0 & 0 & 0 & 0 & ⋯ & 0 & 0 & 0 & 0 &  0 & 0 &  0 & 0 & 0 & 0\\\\\n",
       "\t physical activity measurement, body mass index                                                                                                                                                                                                        & 0 & 0 & 0 & 0 & 0 & 0 & 0 & 0 & 0 & ⋯ & 0 & 0 & 0 & 0 & 13 & 0 &  0 & 0 & 0 & 0\\\\\n",
       "\t platelet count                                                                                                                                                                                                                                        & 0 & 0 & 1 & 0 & 1 & 0 & 0 & 0 & 0 & ⋯ & 2 & 0 & 2 & 0 &  0 & 0 &  0 & 1 & 0 & 0\\\\\n",
       "\t serum metabolite measurement                                                                                                                                                                                                                          & 0 & 0 & 0 & 0 & 0 & 0 & 0 & 0 & 0 & ⋯ & 0 & 0 & 0 & 0 &  0 & 0 &  0 & 0 & 0 & 0\\\\\n",
       "\t smoking behavior, body mass index                                                                                                                                                                                                                     & 0 & 0 & 0 & 0 & 0 & 0 & 0 & 0 & 0 & ⋯ & 0 & 0 & 0 & 0 &  7 & 0 &  0 & 0 & 0 & 0\\\\\n",
       "\t triglyceride measurement                                                                                                                                                                                                                              & 0 & 0 & 0 & 2 & 0 & 0 & 0 & 0 & 0 & ⋯ & 0 & 0 & 0 & 0 &  0 & 0 &  0 & 0 & 0 & 0\\\\\n",
       "\t type 2 diabetes mellitus                                                                                                                                                                                                                              & 0 & 1 & 0 & 0 & 0 & 0 & 0 & 0 & 0 & ⋯ & 0 & 0 & 0 & 0 &  0 & 0 &  0 & 0 & 0 & 0\\\\\n",
       "\\end{tabular}\n"
      ],
      "text/markdown": [
       "\n",
       "A tibble: 16 × 34\n",
       "\n",
       "| MAPPED_TRAIT &lt;chr&gt; | ME_100 &lt;dbl&gt; | ME_101 &lt;dbl&gt; | ME_102 &lt;dbl&gt; | ME_103 &lt;dbl&gt; | ME_104 &lt;dbl&gt; | ME_105 &lt;dbl&gt; | ME_106 &lt;dbl&gt; | ME_21 &lt;dbl&gt; | ME_46 &lt;dbl&gt; | ⋯ ⋯ | ME_86 &lt;dbl&gt; | ME_87 &lt;dbl&gt; | ME_88 &lt;dbl&gt; | ME_89 &lt;dbl&gt; | ME_91 &lt;dbl&gt; | ME_92 &lt;dbl&gt; | ME_94 &lt;dbl&gt; | ME_97 &lt;dbl&gt; | ME_98 &lt;dbl&gt; | ME_99 &lt;dbl&gt; |\n",
       "|---|---|---|---|---|---|---|---|---|---|---|---|---|---|---|---|---|---|---|---|---|\n",
       "| aspartate aminotransferase measurement                                                                                                                                                                                                                | 0 | 2 | 1 | 0 | 0 | 0 | 0 | 0 | 0 | ⋯ | 0 | 0 | 0 | 0 |  0 | 0 |  0 | 0 | 0 | 0 |\n",
       "| aspartate aminotransferase measurement, serum alanine aminotransferase measurement, low density lipoprotein triglyceride measurement, body fat percentage, high density lipoprotein cholesterol measurement, sex hormone-binding globulin measurement | 0 | 1 | 0 | 0 | 0 | 0 | 0 | 0 | 0 | ⋯ | 0 | 0 | 0 | 0 |  1 | 0 |  0 | 0 | 0 | 0 |\n",
       "| body fat percentage                                                                                                                                                                                                                                   | 0 | 0 | 0 | 0 | 0 | 0 | 0 | 0 | 0 | ⋯ | 0 | 0 | 0 | 0 |  2 | 0 |  1 | 0 | 0 | 0 |\n",
       "| body height                                                                                                                                                                                                                                           | 0 | 0 | 1 | 0 | 1 | 0 | 0 | 0 | 0 | ⋯ | 2 | 0 | 0 | 0 |  1 | 0 |  0 | 1 | 0 | 0 |\n",
       "| body mass index                                                                                                                                                                                                                                       | 0 | 4 | 0 | 1 | 0 | 0 | 0 | 0 | 0 | ⋯ | 2 | 0 | 0 | 0 | 30 | 0 |  2 | 0 | 0 | 0 |\n",
       "| chronotype measurement                                                                                                                                                                                                                                | 0 | 0 | 0 | 0 | 0 | 0 | 0 | 0 | 0 | ⋯ | 0 | 0 | 0 | 0 |  0 | 0 |  0 | 0 | 0 | 0 |\n",
       "| comparative body size at age 10, self-reported                                                                                                                                                                                                        | 0 | 0 | 0 | 0 | 0 | 0 | 0 | 0 | 0 | ⋯ | 0 | 0 | 0 | 0 |  1 | 1 |  0 | 0 | 0 | 0 |\n",
       "| high density lipoprotein cholesterol measurement                                                                                                                                                                                                      | 0 | 0 | 0 | 0 | 0 | 0 | 0 | 0 | 0 | ⋯ | 1 | 0 | 1 | 0 |  0 | 0 |  0 | 0 | 0 | 0 |\n",
       "| intelligence                                                                                                                                                                                                                                          | 0 | 2 | 0 | 0 | 0 | 0 | 0 | 0 | 0 | ⋯ | 0 | 0 | 0 | 0 | 13 | 5 | 13 | 1 | 0 | 0 |\n",
       "| metabolic syndrome                                                                                                                                                                                                                                    | 0 | 0 | 0 | 0 | 0 | 0 | 0 | 0 | 0 | ⋯ | 0 | 0 | 0 | 0 |  0 | 0 |  0 | 0 | 0 | 0 |\n",
       "| physical activity measurement, body mass index                                                                                                                                                                                                        | 0 | 0 | 0 | 0 | 0 | 0 | 0 | 0 | 0 | ⋯ | 0 | 0 | 0 | 0 | 13 | 0 |  0 | 0 | 0 | 0 |\n",
       "| platelet count                                                                                                                                                                                                                                        | 0 | 0 | 1 | 0 | 1 | 0 | 0 | 0 | 0 | ⋯ | 2 | 0 | 2 | 0 |  0 | 0 |  0 | 1 | 0 | 0 |\n",
       "| serum metabolite measurement                                                                                                                                                                                                                          | 0 | 0 | 0 | 0 | 0 | 0 | 0 | 0 | 0 | ⋯ | 0 | 0 | 0 | 0 |  0 | 0 |  0 | 0 | 0 | 0 |\n",
       "| smoking behavior, body mass index                                                                                                                                                                                                                     | 0 | 0 | 0 | 0 | 0 | 0 | 0 | 0 | 0 | ⋯ | 0 | 0 | 0 | 0 |  7 | 0 |  0 | 0 | 0 | 0 |\n",
       "| triglyceride measurement                                                                                                                                                                                                                              | 0 | 0 | 0 | 2 | 0 | 0 | 0 | 0 | 0 | ⋯ | 0 | 0 | 0 | 0 |  0 | 0 |  0 | 0 | 0 | 0 |\n",
       "| type 2 diabetes mellitus                                                                                                                                                                                                                              | 0 | 1 | 0 | 0 | 0 | 0 | 0 | 0 | 0 | ⋯ | 0 | 0 | 0 | 0 |  0 | 0 |  0 | 0 | 0 | 0 |\n",
       "\n"
      ],
      "text/plain": [
       "   MAPPED_TRAIT                                                                                                                                                                                                                                         \n",
       "1  aspartate aminotransferase measurement                                                                                                                                                                                                               \n",
       "2  aspartate aminotransferase measurement, serum alanine aminotransferase measurement, low density lipoprotein triglyceride measurement, body fat percentage, high density lipoprotein cholesterol measurement, sex hormone-binding globulin measurement\n",
       "3  body fat percentage                                                                                                                                                                                                                                  \n",
       "4  body height                                                                                                                                                                                                                                          \n",
       "5  body mass index                                                                                                                                                                                                                                      \n",
       "6  chronotype measurement                                                                                                                                                                                                                               \n",
       "7  comparative body size at age 10, self-reported                                                                                                                                                                                                       \n",
       "8  high density lipoprotein cholesterol measurement                                                                                                                                                                                                     \n",
       "9  intelligence                                                                                                                                                                                                                                         \n",
       "10 metabolic syndrome                                                                                                                                                                                                                                   \n",
       "11 physical activity measurement, body mass index                                                                                                                                                                                                       \n",
       "12 platelet count                                                                                                                                                                                                                                       \n",
       "13 serum metabolite measurement                                                                                                                                                                                                                         \n",
       "14 smoking behavior, body mass index                                                                                                                                                                                                                    \n",
       "15 triglyceride measurement                                                                                                                                                                                                                             \n",
       "16 type 2 diabetes mellitus                                                                                                                                                                                                                             \n",
       "   ME_100 ME_101 ME_102 ME_103 ME_104 ME_105 ME_106 ME_21 ME_46 ⋯ ME_86 ME_87\n",
       "1  0      2      1      0      0      0      0      0     0     ⋯ 0     0    \n",
       "2  0      1      0      0      0      0      0      0     0     ⋯ 0     0    \n",
       "3  0      0      0      0      0      0      0      0     0     ⋯ 0     0    \n",
       "4  0      0      1      0      1      0      0      0     0     ⋯ 2     0    \n",
       "5  0      4      0      1      0      0      0      0     0     ⋯ 2     0    \n",
       "6  0      0      0      0      0      0      0      0     0     ⋯ 0     0    \n",
       "7  0      0      0      0      0      0      0      0     0     ⋯ 0     0    \n",
       "8  0      0      0      0      0      0      0      0     0     ⋯ 1     0    \n",
       "9  0      2      0      0      0      0      0      0     0     ⋯ 0     0    \n",
       "10 0      0      0      0      0      0      0      0     0     ⋯ 0     0    \n",
       "11 0      0      0      0      0      0      0      0     0     ⋯ 0     0    \n",
       "12 0      0      1      0      1      0      0      0     0     ⋯ 2     0    \n",
       "13 0      0      0      0      0      0      0      0     0     ⋯ 0     0    \n",
       "14 0      0      0      0      0      0      0      0     0     ⋯ 0     0    \n",
       "15 0      0      0      2      0      0      0      0     0     ⋯ 0     0    \n",
       "16 0      1      0      0      0      0      0      0     0     ⋯ 0     0    \n",
       "   ME_88 ME_89 ME_91 ME_92 ME_94 ME_97 ME_98 ME_99\n",
       "1  0     0      0    0      0    0     0     0    \n",
       "2  0     0      1    0      0    0     0     0    \n",
       "3  0     0      2    0      1    0     0     0    \n",
       "4  0     0      1    0      0    1     0     0    \n",
       "5  0     0     30    0      2    0     0     0    \n",
       "6  0     0      0    0      0    0     0     0    \n",
       "7  0     0      1    1      0    0     0     0    \n",
       "8  1     0      0    0      0    0     0     0    \n",
       "9  0     0     13    5     13    1     0     0    \n",
       "10 0     0      0    0      0    0     0     0    \n",
       "11 0     0     13    0      0    0     0     0    \n",
       "12 2     0      0    0      0    1     0     0    \n",
       "13 0     0      0    0      0    0     0     0    \n",
       "14 0     0      7    0      0    0     0     0    \n",
       "15 0     0      0    0      0    0     0     0    \n",
       "16 0     0      0    0      0    0     0     0    "
      ]
     },
     "metadata": {},
     "output_type": "display_data"
    }
   ],
   "source": [
    "trait.mtx %>%\n",
    "    dplyr::filter(ME_63 > 0)"
   ]
  },
  {
   "cell_type": "code",
   "execution_count": null,
   "id": "94b336a7-1031-4013-af7e-0f6f8c725e12",
   "metadata": {},
   "outputs": [],
   "source": []
  }
 ],
 "metadata": {
  "kernelspec": {
   "display_name": "R",
   "language": "R",
   "name": "ir"
  },
  "language_info": {
   "codemirror_mode": "r",
   "file_extension": ".r",
   "mimetype": "text/x-r-source",
   "name": "R",
   "pygments_lexer": "r",
   "version": "4.0.5"
  }
 },
 "nbformat": 4,
 "nbformat_minor": 5
}
