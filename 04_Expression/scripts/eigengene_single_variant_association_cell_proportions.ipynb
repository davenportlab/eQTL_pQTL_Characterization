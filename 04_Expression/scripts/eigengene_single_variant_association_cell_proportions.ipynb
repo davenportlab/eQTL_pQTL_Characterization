{
 "cells": [
  {
   "cell_type": "markdown",
   "id": "13a6d567-93eb-49cb-b990-47eeadbaa4ed",
   "metadata": {},
   "source": [
    "# Eigengene SVA Initial Pass\n",
    "\n",
    "**Created**: 10 December 2021"
   ]
  },
  {
   "cell_type": "markdown",
   "id": "fd1d3c8f-83ef-454a-942d-df6850b499bb",
   "metadata": {
    "tags": []
   },
   "source": [
    "## Environment"
   ]
  },
  {
   "cell_type": "code",
   "execution_count": 1,
   "id": "9b48beed-9062-4f5e-b496-5c91855bd3b5",
   "metadata": {},
   "outputs": [
    {
     "name": "stderr",
     "output_type": "stream",
     "text": [
      "Loading required namespace: circlize\n",
      "\n"
     ]
    }
   ],
   "source": [
    "rm(list=ls())\n",
    "\n",
    "if (!requireNamespace(\"circlize\")) {\n",
    "    install.packages(\"circlize\")\n",
    "}"
   ]
  },
  {
   "cell_type": "code",
   "execution_count": 2,
   "id": "244dc510-997d-4a87-b5ee-96d685fdadab",
   "metadata": {},
   "outputs": [
    {
     "name": "stderr",
     "output_type": "stream",
     "text": [
      "── \u001b[1mAttaching packages\u001b[22m ──────────────────────────────────────────────────────────────────────────────────────────────────────── tidyverse 1.3.1 ──\n",
      "\n",
      "\u001b[32m✔\u001b[39m \u001b[34mggplot2\u001b[39m 3.3.5     \u001b[32m✔\u001b[39m \u001b[34mpurrr  \u001b[39m 0.3.4\n",
      "\u001b[32m✔\u001b[39m \u001b[34mtibble \u001b[39m 3.1.6     \u001b[32m✔\u001b[39m \u001b[34mdplyr  \u001b[39m 1.0.7\n",
      "\u001b[32m✔\u001b[39m \u001b[34mtidyr  \u001b[39m 1.1.4     \u001b[32m✔\u001b[39m \u001b[34mstringr\u001b[39m 1.4.0\n",
      "\u001b[32m✔\u001b[39m \u001b[34mreadr  \u001b[39m 2.1.0     \u001b[32m✔\u001b[39m \u001b[34mforcats\u001b[39m 0.5.1\n",
      "\n",
      "── \u001b[1mConflicts\u001b[22m ─────────────────────────────────────────────────────────────────────────────────────────────────────────── tidyverse_conflicts() ──\n",
      "\u001b[31m✖\u001b[39m \u001b[34mdplyr\u001b[39m::\u001b[32mfilter()\u001b[39m masks \u001b[34mstats\u001b[39m::filter()\n",
      "\u001b[31m✖\u001b[39m \u001b[34mdplyr\u001b[39m::\u001b[32mlag()\u001b[39m    masks \u001b[34mstats\u001b[39m::lag()\n",
      "\n",
      "\n",
      "Attaching package: ‘data.table’\n",
      "\n",
      "\n",
      "The following objects are masked from ‘package:dplyr’:\n",
      "\n",
      "    between, first, last\n",
      "\n",
      "\n",
      "The following object is masked from ‘package:purrr’:\n",
      "\n",
      "    transpose\n",
      "\n",
      "\n",
      "========================================\n",
      "circlize version 0.4.13\n",
      "CRAN page: https://cran.r-project.org/package=circlize\n",
      "Github page: https://github.com/jokergoo/circlize\n",
      "Documentation: https://jokergoo.github.io/circlize_book/book/\n",
      "\n",
      "If you use it in published research, please cite:\n",
      "Gu, Z. circlize implements and enhances circular visualization\n",
      "  in R. Bioinformatics 2014.\n",
      "\n",
      "This message can be suppressed by:\n",
      "  suppressPackageStartupMessages(library(circlize))\n",
      "========================================\n",
      "\n",
      "\n"
     ]
    }
   ],
   "source": [
    "library(tidyverse)\n",
    "library(data.table)\n",
    "library(circlize)\n",
    "\n",
    "setwd(\"~/eQTL_pQTL_Characterization/\")\n",
    "\n",
    "source(\"04_Expression/scripts/utils/ggplot_theme.R\")"
   ]
  },
  {
   "cell_type": "markdown",
   "id": "97d7dab9-bde6-460e-ae7f-238b3ac09876",
   "metadata": {},
   "source": [
    "## Load Data"
   ]
  },
  {
   "cell_type": "code",
   "execution_count": 3,
   "id": "b41c2bf1-d717-47ac-8b62-8bbbf20b5195",
   "metadata": {},
   "outputs": [],
   "source": [
    "geno <- fread(\"~/gains_team282/Genotyping/All_genotyping_merged_filtered_b38_refiltered_rsID.bim\")\n",
    "colnames(geno) <- c(\"chr\", \"snp\", \"cM\", \"pos\", \"minor\", \"major\")"
   ]
  },
  {
   "cell_type": "markdown",
   "id": "8e712603-19aa-4435-916c-5e2113ab0310",
   "metadata": {},
   "source": [
    "## Manhattan Plots"
   ]
  },
  {
   "cell_type": "markdown",
   "id": "cdad0fd4-5634-4235-9a1c-7c63cabc213d",
   "metadata": {},
   "source": [
    "Under the null distribution, $t=\\frac{\\hat{\\beta}}{SE}$ follows a T distribution with degrees of freedom close to $n$. The genomic inflation score measures the deviation from this expected distribution while accounting for outliers expected from a few true positives. The score is\n",
    "\n",
    "$$\\lambda = \\frac{\\text{median}(t^2)}{\\text{median}(\\chi_1^2)}$$\n",
    "\n",
    "where $t$ is the T-statistic for $\\beta$. Here, we assume that the T Distribution can be approximated as a standard normal distribution since $n$ is relatively large."
   ]
  },
  {
   "cell_type": "code",
   "execution_count": 6,
   "id": "96b783cc-8f07-4e96-bd5f-a0471965e1c3",
   "metadata": {},
   "outputs": [
    {
     "name": "stdout",
     "output_type": "stream",
     "text": [
      "ME_1.tsv  ME_10.tsv  ME_100.tsv  ME_101.tsv  ME_102.tsv  ME_11.tsv  ME_12.tsv  ME_13.tsv  ME_14.tsv  ME_15.tsv  ME_16.tsv  ME_17.tsv  ME_18.tsv  ME_19.tsv  ME_2.tsv  ME_20.tsv  ME_21.tsv  ME_22.tsv  ME_23.tsv  ME_24.tsv  ME_25.tsv  ME_26.tsv  ME_27.tsv  ME_28.tsv  ME_29.tsv  ME_3.tsv  ME_30.tsv  ME_31.tsv  ME_32.tsv  ME_33.tsv  ME_34.tsv  ME_35.tsv  ME_36.tsv  ME_37.tsv  ME_38.tsv  ME_39.tsv  ME_4.tsv  ME_40.tsv  ME_41.tsv  ME_42.tsv  ME_43.tsv  ME_44.tsv  ME_45.tsv  ME_46.tsv  ME_47.tsv  ME_48.tsv  ME_49.tsv  ME_5.tsv  ME_50.tsv  ME_51.tsv  ME_52.tsv  ME_53.tsv  ME_54.tsv  ME_55.tsv  ME_56.tsv  ME_57.tsv  ME_58.tsv  ME_59.tsv  ME_6.tsv  ME_60.tsv  ME_61.tsv  ME_62.tsv  ME_63.tsv  ME_64.tsv  ME_65.tsv  ME_66.tsv  ME_67.tsv  ME_68.tsv  ME_69.tsv  ME_7.tsv  ME_70.tsv  ME_71.tsv  ME_72.tsv  ME_73.tsv  ME_74.tsv  ME_75.tsv  ME_76.tsv  ME_77.tsv  ME_78.tsv  ME_79.tsv  ME_8.tsv  ME_80.tsv  ME_81.tsv  ME_82.tsv  ME_83.tsv  ME_84.tsv  ME_85.tsv  ME_86.tsv  ME_87.tsv  ME_88.tsv  ME_89.tsv  ME_9.tsv  ME_90.tsv  ME_91.tsv  ME_92.tsv  ME_93.tsv  ME_94.tsv  ME_95.tsv  ME_96.tsv  ME_97.tsv  ME_98.tsv  ME_99.tsv  "
     ]
    }
   ],
   "source": [
    "lambdas <- list()\n",
    "\n",
    "for (file in list.files(\"~/gains_team282/nikhil/expression/eigengene_sva/initial_pass/\", pattern=\"*.tsv\")) {\n",
    "\n",
    "    cat(file, \" \")\n",
    "    flush.console()\n",
    "    file.full = paste0(\"~/gains_team282/nikhil/expression/eigengene_sva/initial_pass/\", file)\n",
    "    \n",
    "    me.assoc = fread(file.full, sep=\"\\t\", fill=TRUE)\n",
    "    colnames(me.assoc) <- c(\"snp\", \"beta\", \"se\", \"t\", \"p\")\n",
    "\n",
    "    lambda = median(qchisq(1 - me.assoc$p, 1)) / qchisq(0.5, 1)\n",
    "    lambdas[[file]] = lambda\n",
    "\n",
    "    if (sum(me.assoc$p < 1e-8, na.rm=TRUE) == 0) {\n",
    "        next\n",
    "    }\n",
    "\n",
    "    me.assoc = merge(me.assoc, geno, by=\"snp\")\n",
    "\n",
    "    me.assoc.sig = me.assoc %>%\n",
    "        dplyr::filter(!is.na(p)) %>%\n",
    "        dplyr::filter(p < 0.05) %>%\n",
    "        dplyr::mutate(chr=factor(chr, levels=1:23)) %>%\n",
    "        dplyr::mutate(chr.type=ifelse(as.numeric(chr) %% 2 == 0, \"Even\", \"Odd\"))\n",
    "\n",
    "    p <- me.assoc.sig %>%\n",
    "        dplyr::mutate(Log.10.p = -log10(p)) %>%\n",
    "        ggplot() +\n",
    "        geom_point(aes(x=pos, y=Log.10.p, color=chr.type), size=I(0.5), alpha=0.5) +\n",
    "        geom_hline(yintercept=-log10(1e-5), lty=2, color=\"orange\") +\n",
    "        geom_hline(yintercept=-log10(5e-8), lty=2, color=\"firebrick1\") +\n",
    "        scale_color_manual(values=c(\"Even\" = \"royalblue4\", \"Odd\" = \"royalblue1\")) +\n",
    "        facet_grid(~chr, scale=\"free_x\", space=\"free_x\") +\n",
    "        guides(color=\"none\") +\n",
    "        xlab(\"Position\") + ylab(expression('-log'[10]~'(p)')) +\n",
    "        ggplot_theme +\n",
    "        theme(\n",
    "            axis.text.x=element_blank(),\n",
    "            axis.ticks.x=element_blank(),\n",
    "            panel.spacing=unit(0.1, \"lines\")\n",
    "        )\n",
    "    ggsave(p, filename=paste0(\"04_Expression/results/manhattan_initial_pass/\", gsub(\".tsv\", \"\", file), \".png\"), width=14, height=5, dpi=600)\n",
    "}"
   ]
  },
  {
   "cell_type": "markdown",
   "id": "0f9c0ed2-0763-46bd-9594-867d498607b3",
   "metadata": {},
   "source": [
    "Plot the distribution of the genomic inflation factors for each module eigengene. These factors should be close to 1, indicating that most of the association tests follow the expected null distribution when no significant association is present."
   ]
  },
  {
   "cell_type": "code",
   "execution_count": 20,
   "id": "5f46ce2a-32fd-42ad-9047-1e6cdbe32633",
   "metadata": {},
   "outputs": [
    {
     "data": {
      "image/png": "[encoded data removed]",
      "text/plain": [
       "plot without title"
      ]
     },
     "metadata": {
      "image/png": {
       "height": 360,
       "width": 360
      }
     },
     "output_type": "display_data"
    }
   ],
   "source": [
    "options(repr.plot.width=6, repr.plot.height=6)\n",
    "\n",
    "as.data.frame(unlist(lambdas)) %>%\n",
    "    dplyr::select(Lambda=1) %>%\n",
    "    dplyr::filter(!is.na(Lambda)) %>%\n",
    "    ggplot() +\n",
    "    geom_histogram(aes(x=Lambda), fill=\"royalblue\", binwidth=0.005) +\n",
    "    ylab(\"Frequency\") +\n",
    "    ggplot_theme\n",
    "\n",
    "ggsave(\"04_Expression/results/genomic_inflation_factor_initial_pass.svg\", width=6, height=6)"
   ]
  },
  {
   "cell_type": "markdown",
   "id": "6f25e641-9337-43f6-8bfc-2cd94fcb5ba0",
   "metadata": {},
   "source": [
    "## P-Value Q-Q Plots"
   ]
  },
  {
   "cell_type": "markdown",
   "id": "d3622e6b-5f2e-4c4a-8a1b-664fb1a39f97",
   "metadata": {},
   "source": [
    "Under the null hypothesis, we expect p-values for multiple tests to have a uniform distribution. If there is inflation in the data (that is, variants are associated with the quantitative variable due to population stratification), this p-value distribution will be skewed towards significance. This is quantified with the genomic inflation factor ($\\lambda$). We can also plot the Q-Q plot for the p-values to check for deviation from the expected distribution. The p-values for true significant hits (close to 0) should deviate from the distribution, but the rest (indicating true negatives) should follow the distribution faithfully."
   ]
  },
  {
   "cell_type": "code",
   "execution_count": 6,
   "id": "00c9d8f4-235c-4813-b7fc-e4ac263e229c",
   "metadata": {},
   "outputs": [
    {
     "name": "stdout",
     "output_type": "stream",
     "text": [
      "ME_95.tsv \n"
     ]
    }
   ],
   "source": [
    "file <- \"ME_95.tsv\"\n",
    "cat(file, \"\\n\")\n",
    "file.full <- paste0(\"~/gains_team282/nikhil/expression/eigengene_sva/initial_pass/\", file)\n",
    "\n",
    "me.assoc <- fread(file.full)\n",
    "colnames(me.assoc) <- c(\"snp\", \"beta\", \"se\", \"t\", \"p\")"
   ]
  },
  {
   "cell_type": "code",
   "execution_count": 7,
   "id": "18ec7e26-f9b9-435d-8589-8320f1453df5",
   "metadata": {},
   "outputs": [
    {
     "data": {
      "image/png": "[encoded data removed]",
      "text/plain": [
       "plot without title"
      ]
     },
     "metadata": {
      "image/png": {
       "height": 420,
       "width": 420
      }
     },
     "output_type": "display_data"
    }
   ],
   "source": [
    "exp.p.assoc <- me.assoc %>%\n",
    "    as.data.frame() %>%\n",
    "    dplyr::mutate(expected.p=(rank(p, ties.method=\"first\") + 0.5) / (length(p) + 1)) %>%\n",
    "    dplyr::mutate(Log.10.P=-log10(p)) %>%\n",
    "    dplyr::mutate(Expected.Log.10.P=-log10(expected.p))\n",
    "\n",
    "dplyr::bind_rows(\n",
    "    exp.p.assoc %>% dplyr::mutate(Expected.Log.10.P < 5) %>% dplyr::sample_frac(0.001),\n",
    "    exp.p.assoc %>% dplyr::mutate(Expected.Log.10.P >= 5)\n",
    ") %>%\n",
    "    ggplot() +\n",
    "    geom_point(aes(x=Expected.Log.10.P, y=Log.10.P)) +\n",
    "    geom_abline(slope=1, intercept=0, color=\"firebrick1\") +\n",
    "    xlab(expression(\"Expected -log\"[10]~\"(p)\")) +\n",
    "    ylab(expression(\"Actual -log\"[10]~\"(p)\")) +\n",
    "    ggplot_theme"
   ]
  },
  {
   "cell_type": "code",
   "execution_count": null,
   "id": "05985d9e-9853-4c65-bf38-8b3aa5c27025",
   "metadata": {},
   "outputs": [],
   "source": []
  }
 ],
 "metadata": {
  "kernelspec": {
   "display_name": "R",
   "language": "R",
   "name": "ir"
  },
  "language_info": {
   "codemirror_mode": "r",
   "file_extension": ".r",
   "mimetype": "text/x-r-source",
   "name": "R",
   "pygments_lexer": "r",
   "version": "4.1.1"
  }
 },
 "nbformat": 4,
 "nbformat_minor": 5
}
