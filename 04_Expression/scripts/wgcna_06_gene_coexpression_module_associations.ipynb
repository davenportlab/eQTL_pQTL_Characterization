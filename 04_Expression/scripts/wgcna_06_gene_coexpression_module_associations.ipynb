{
 "cells": [
  {
   "cell_type": "markdown",
   "id": "118a06a5-b1ed-4478-b693-5bd851b5b845",
   "metadata": {},
   "source": [
    "# Module Associations\n",
    "\n",
    "**Created**: 20 October 2021"
   ]
  },
  {
   "cell_type": "markdown",
   "id": "f95dd1a9-a415-46b0-b366-3a4235ce35d1",
   "metadata": {},
   "source": [
    "## Environment"
   ]
  },
  {
   "cell_type": "code",
   "execution_count": 64,
   "id": "804bf0b8-4f35-4750-91d9-50e2c007797d",
   "metadata": {},
   "outputs": [],
   "source": [
    "if (!requireNamespace(\"patchwork\")) {\n",
    "    install.packages(\"devtools\")\n",
    "    devtools::install_github(\"thomasp85/patchwork\")\n",
    "}\n",
    "\n",
    "if (!requireNamespace(\"ComplexHeatmap\")) {\n",
    "    install.package(\"ComplexHeatmap\")\n",
    "}\n",
    "\n",
    "if (!requireNamespace(\"UpSetR\")) {\n",
    "    install.packages(\"UpSetR\")\n",
    "}"
   ]
  },
  {
   "cell_type": "code",
   "execution_count": 65,
   "id": "ae63da6d-644a-43f8-a241-c139566c1e09",
   "metadata": {},
   "outputs": [],
   "source": [
    "library(tidyverse)\n",
    "library(RColorBrewer)\n",
    "library(patchwork)\n",
    "library(UpSetR)\n",
    "library(ComplexHeatmap)\n",
    "library(circlize)\n",
    "\n",
    "setwd(\"~/eQTL_pQTL_Characterization/\")\n",
    "\n",
    "source(\"04_Expression/scripts/utils/ggplot_theme.R\")"
   ]
  },
  {
   "cell_type": "markdown",
   "id": "372aedba-ecee-42fd-a8c6-441952fae0fa",
   "metadata": {},
   "source": [
    "## Load Data"
   ]
  },
  {
   "cell_type": "code",
   "execution_count": 3,
   "id": "f6ff7787-9342-4906-acdc-c0184d5c4b49",
   "metadata": {},
   "outputs": [],
   "source": [
    "var.exp <- read.csv(\"~/gains_team282/nikhil/expression/gene_expression/variance.explained.csv\")\n",
    "\n",
    "est.cell.prop <- read.csv(\"~/gains_team282/nikhil/expression/gene_expression/estimates.eigengene.cell.proportion.association.csv\", row.names=1)\n",
    "est.xcell <- read.csv(\"~/gains_team282/nikhil/expression/gene_expression/estimates.eigengene.xcell.score.association.csv\", row.names=1)\n",
    "est.srsq <- read.csv(\"~/gains_team282/nikhil/expression/gene_expression/estimates.eigengene.srsq.association.csv\", row.names=1)\n",
    "est.outcome <- read.csv(\"~/gains_team282/nikhil/expression/gene_expression/estimates.eigengene.outcome.association.csv\", row.names=1)\n",
    "est.time.point <- read.csv(\"~/gains_team282/nikhil/expression/gene_expression/estimates.eigengene.time.point.association.csv\", row.names=1)"
   ]
  },
  {
   "cell_type": "code",
   "execution_count": 4,
   "id": "427b5013-28b5-4884-af43-608164110ad2",
   "metadata": {},
   "outputs": [],
   "source": [
    "xcell.info <- read.csv(\"04_Expression/data/xCell_Aran_et_al_Additional_File_1.csv\")"
   ]
  },
  {
   "cell_type": "code",
   "execution_count": 5,
   "id": "9daf9b7e-cd8e-4e8a-aa3a-4c785ec07492",
   "metadata": {},
   "outputs": [
    {
     "data": {
      "text/html": [
       "<table class=\"dataframe\">\n",
       "<caption>A data.frame: 6 × 13</caption>\n",
       "<thead>\n",
       "\t<tr><th></th><th scope=col>Full.name</th><th scope=col>Cell.types</th><th scope=col>FANTOM5</th><th scope=col>ENCODE</th><th scope=col>Blueprint</th><th scope=col>IRIS</th><th scope=col>Novershtern</th><th scope=col>HPCA</th><th scope=col>X..of.sources</th><th scope=col>X..of.samples</th><th scope=col>Group</th><th scope=col>Subgroup</th><th scope=col>Parent.Child</th></tr>\n",
       "\t<tr><th></th><th scope=col>&lt;chr&gt;</th><th scope=col>&lt;chr&gt;</th><th scope=col>&lt;int&gt;</th><th scope=col>&lt;int&gt;</th><th scope=col>&lt;int&gt;</th><th scope=col>&lt;int&gt;</th><th scope=col>&lt;int&gt;</th><th scope=col>&lt;int&gt;</th><th scope=col>&lt;int&gt;</th><th scope=col>&lt;int&gt;</th><th scope=col>&lt;chr&gt;</th><th scope=col>&lt;chr&gt;</th><th scope=col>&lt;chr&gt;</th></tr>\n",
       "</thead>\n",
       "<tbody>\n",
       "\t<tr><th scope=row>1</th><td>Monocytes        </td><td>Monocytes        </td><td>42</td><td> 0</td><td>16</td><td>12</td><td>5</td><td>66</td><td>5</td><td>141</td><td>Non-lymphocytes  </td><td>Myeloid </td><td>Parent</td></tr>\n",
       "\t<tr><th scope=row>2</th><td>CD8+ T-cells     </td><td>CD8+ T-cells     </td><td>11</td><td> 0</td><td> 3</td><td> 4</td><td>7</td><td>16</td><td>5</td><td> 41</td><td>Lymphocytes      </td><td>Lymphoid</td><td>Parent</td></tr>\n",
       "\t<tr><th scope=row>3</th><td>NK cells         </td><td>NK cells         </td><td> 3</td><td> 0</td><td> 3</td><td>15</td><td>6</td><td> 5</td><td>5</td><td> 32</td><td>Lymphocytes      </td><td>Lymphoid</td><td>Parent</td></tr>\n",
       "\t<tr><th scope=row>4</th><td>Macrophages      </td><td>Macrophages      </td><td>27</td><td> 0</td><td>18</td><td>12</td><td>0</td><td>59</td><td>4</td><td>116</td><td>Non-lymphocytes  </td><td>Myeloid </td><td>Parent</td></tr>\n",
       "\t<tr><th scope=row>5</th><td>Endothelial cells</td><td>Endothelial cells</td><td>22</td><td>14</td><td> 4</td><td> 0</td><td>0</td><td>48</td><td>4</td><td> 88</td><td>Non-Hematopoietic</td><td>Stroma  </td><td>Parent</td></tr>\n",
       "\t<tr><th scope=row>6</th><td>Dendritic cells  </td><td>DC               </td><td> 4</td><td> 0</td><td> 1</td><td> 6</td><td>0</td><td>45</td><td>4</td><td> 56</td><td>Non-lymphocytes  </td><td>Myeloid </td><td>Parent</td></tr>\n",
       "</tbody>\n",
       "</table>\n"
      ],
      "text/latex": [
       "A data.frame: 6 × 13\n",
       "\\begin{tabular}{r|lllllllllllll}\n",
       "  & Full.name & Cell.types & FANTOM5 & ENCODE & Blueprint & IRIS & Novershtern & HPCA & X..of.sources & X..of.samples & Group & Subgroup & Parent.Child\\\\\n",
       "  & <chr> & <chr> & <int> & <int> & <int> & <int> & <int> & <int> & <int> & <int> & <chr> & <chr> & <chr>\\\\\n",
       "\\hline\n",
       "\t1 & Monocytes         & Monocytes         & 42 &  0 & 16 & 12 & 5 & 66 & 5 & 141 & Non-lymphocytes   & Myeloid  & Parent\\\\\n",
       "\t2 & CD8+ T-cells      & CD8+ T-cells      & 11 &  0 &  3 &  4 & 7 & 16 & 5 &  41 & Lymphocytes       & Lymphoid & Parent\\\\\n",
       "\t3 & NK cells          & NK cells          &  3 &  0 &  3 & 15 & 6 &  5 & 5 &  32 & Lymphocytes       & Lymphoid & Parent\\\\\n",
       "\t4 & Macrophages       & Macrophages       & 27 &  0 & 18 & 12 & 0 & 59 & 4 & 116 & Non-lymphocytes   & Myeloid  & Parent\\\\\n",
       "\t5 & Endothelial cells & Endothelial cells & 22 & 14 &  4 &  0 & 0 & 48 & 4 &  88 & Non-Hematopoietic & Stroma   & Parent\\\\\n",
       "\t6 & Dendritic cells   & DC                &  4 &  0 &  1 &  6 & 0 & 45 & 4 &  56 & Non-lymphocytes   & Myeloid  & Parent\\\\\n",
       "\\end{tabular}\n"
      ],
      "text/markdown": [
       "\n",
       "A data.frame: 6 × 13\n",
       "\n",
       "| <!--/--> | Full.name &lt;chr&gt; | Cell.types &lt;chr&gt; | FANTOM5 &lt;int&gt; | ENCODE &lt;int&gt; | Blueprint &lt;int&gt; | IRIS &lt;int&gt; | Novershtern &lt;int&gt; | HPCA &lt;int&gt; | X..of.sources &lt;int&gt; | X..of.samples &lt;int&gt; | Group &lt;chr&gt; | Subgroup &lt;chr&gt; | Parent.Child &lt;chr&gt; |\n",
       "|---|---|---|---|---|---|---|---|---|---|---|---|---|---|\n",
       "| 1 | Monocytes         | Monocytes         | 42 |  0 | 16 | 12 | 5 | 66 | 5 | 141 | Non-lymphocytes   | Myeloid  | Parent |\n",
       "| 2 | CD8+ T-cells      | CD8+ T-cells      | 11 |  0 |  3 |  4 | 7 | 16 | 5 |  41 | Lymphocytes       | Lymphoid | Parent |\n",
       "| 3 | NK cells          | NK cells          |  3 |  0 |  3 | 15 | 6 |  5 | 5 |  32 | Lymphocytes       | Lymphoid | Parent |\n",
       "| 4 | Macrophages       | Macrophages       | 27 |  0 | 18 | 12 | 0 | 59 | 4 | 116 | Non-lymphocytes   | Myeloid  | Parent |\n",
       "| 5 | Endothelial cells | Endothelial cells | 22 | 14 |  4 |  0 | 0 | 48 | 4 |  88 | Non-Hematopoietic | Stroma   | Parent |\n",
       "| 6 | Dendritic cells   | DC                |  4 |  0 |  1 |  6 | 0 | 45 | 4 |  56 | Non-lymphocytes   | Myeloid  | Parent |\n",
       "\n"
      ],
      "text/plain": [
       "  Full.name         Cell.types        FANTOM5 ENCODE Blueprint IRIS Novershtern\n",
       "1 Monocytes         Monocytes         42       0     16        12   5          \n",
       "2 CD8+ T-cells      CD8+ T-cells      11       0      3         4   7          \n",
       "3 NK cells          NK cells           3       0      3        15   6          \n",
       "4 Macrophages       Macrophages       27       0     18        12   0          \n",
       "5 Endothelial cells Endothelial cells 22      14      4         0   0          \n",
       "6 Dendritic cells   DC                 4       0      1         6   0          \n",
       "  HPCA X..of.sources X..of.samples Group             Subgroup Parent.Child\n",
       "1 66   5             141           Non-lymphocytes   Myeloid  Parent      \n",
       "2 16   5              41           Lymphocytes       Lymphoid Parent      \n",
       "3  5   5              32           Lymphocytes       Lymphoid Parent      \n",
       "4 59   4             116           Non-lymphocytes   Myeloid  Parent      \n",
       "5 48   4              88           Non-Hematopoietic Stroma   Parent      \n",
       "6 45   4              56           Non-lymphocytes   Myeloid  Parent      "
      ]
     },
     "metadata": {},
     "output_type": "display_data"
    }
   ],
   "source": [
    "head(xcell.info)"
   ]
  },
  {
   "cell_type": "markdown",
   "id": "d0ba7047-debc-4987-9cd6-bb9e5b707bd9",
   "metadata": {},
   "source": [
    "## Create Combined Dataset"
   ]
  },
  {
   "cell_type": "code",
   "execution_count": 6,
   "id": "3f7577a9-1c07-4240-9595-0e9e813f19d9",
   "metadata": {},
   "outputs": [],
   "source": [
    "association.tbl <- dplyr::bind_rows(\n",
    "  est.cell.prop, \n",
    "  est.xcell,\n",
    "  est.srsq,\n",
    "  est.outcome,\n",
    "  est.time.point\n",
    ")\n",
    "rownames(association.tbl) <- NULL\n",
    "\n",
    "write.csv(association.tbl, \"~/gains_team282/nikhil/expression/gene_expression/estimates.all.csv\", row.names=FALSE)"
   ]
  },
  {
   "cell_type": "markdown",
   "id": "1166ef83-d6cd-49e3-95c3-4545ac051e32",
   "metadata": {},
   "source": [
    "## Heatmap of Module Associations"
   ]
  },
  {
   "cell_type": "code",
   "execution_count": 7,
   "id": "6ebe3016-7c54-423e-b3f5-6355a2c06677",
   "metadata": {},
   "outputs": [],
   "source": [
    "cell.prop.data <- association.tbl %>%\n",
    "    dplyr::mutate(Eigengene = factor(Eigengene, levels=paste0(\"ME_\", 1:length(unique(Eigengene))))) %>%\n",
    "    dplyr::filter(Association.Variable.Type == \"Cell Proportion\") %>%\n",
    "    dplyr::mutate(Statistic = ifelse(Adjusted.P.Value < 1e-3, Statistic, 0)) %>%\n",
    "    dplyr::select(Eigengene, Association.Variable, Statistic) %>%\n",
    "    tidyr::spread(Association.Variable, Statistic)\n",
    "\n",
    "cell.prop <- as.matrix(cell.prop.data[, c(\"Neutrophils\", \"Lymphocytes\", \"Monocytes\")])\n",
    "rownames(cell.prop) <- cell.prop.data$Eigengene\n",
    "\n",
    "srsq.data <- association.tbl %>%\n",
    "    dplyr::mutate(Eigengene = factor(Eigengene, levels=paste0(\"ME_\", 1:length(unique(Eigengene))))) %>%\n",
    "    dplyr::filter(Association.Variable.Type == \"SRSq\") %>%\n",
    "    dplyr::mutate(Statistic = ifelse(Adjusted.P.Value < 1e-3, Statistic, 0)) %>%\n",
    "    dplyr::select(Eigengene, SRSq=Statistic) %>%\n",
    "    dplyr::arrange(Eigengene)\n",
    "\n",
    "srsq <- as.matrix(srsq.data[, \"SRSq\", drop=F])\n",
    "rownames(srsq) <- srsq.data$Eigengene\n",
    "\n",
    "outcome.data <- association.tbl %>%\n",
    "    dplyr::mutate(Eigengene = factor(Eigengene, levels=paste0(\"ME_\", 1:length(unique(Eigengene))))) %>%\n",
    "    dplyr::filter(Association.Variable.Type == \"Outcome\") %>%\n",
    "    dplyr::mutate(Statistic = ifelse(Adjusted.P.Value < 1e-3, Statistic, 0)) %>%\n",
    "    dplyr::select(Eigengene, Outcome=Statistic) %>%\n",
    "    dplyr::arrange(Eigengene)\n",
    "\n",
    "outcome <- as.matrix(outcome.data[, \"Outcome\", drop=F])\n",
    "rownames(outcome) <- outcome.data$Eigengene\n",
    "\n",
    "time.point.data <- association.tbl %>%\n",
    "    dplyr::mutate(Eigengene = factor(Eigengene, levels=paste0(\"ME_\", 1:length(unique(Eigengene))))) %>%\n",
    "    dplyr::filter(Association.Variable.Type == \"Time Point\") %>%\n",
    "    dplyr::mutate(Statistic = ifelse(Adjusted.P.Value < 1e-3, Statistic, 0)) %>%\n",
    "    dplyr::select(Eigengene, Time.Point=Statistic) %>%\n",
    "    dplyr::arrange(Eigengene)\n",
    "\n",
    "time.point <- as.matrix(time.point.data[, \"Time.Point\", drop=F])\n",
    "rownames(time.point) <- time.point.data$Eigengene"
   ]
  },
  {
   "cell_type": "code",
   "execution_count": 8,
   "id": "dae20c26-e001-4b41-a000-77e89e4d41ff",
   "metadata": {},
   "outputs": [
    {
     "data": {
      "text/html": [
       "<strong>png:</strong> 2"
      ],
      "text/latex": [
       "\\textbf{png:} 2"
      ],
      "text/markdown": [
       "**png:** 2"
      ],
      "text/plain": [
       "png \n",
       "  2 "
      ]
     },
     "metadata": {},
     "output_type": "display_data"
    }
   ],
   "source": [
    "options(repr.plot.width=5, repr.plot.height=20)\n",
    "\n",
    "col.fun.rho <- colorRamp2(seq(-1, 1, length.out=11), brewer.pal(\"RdBu\", n=11))\n",
    "col.fun.beta <- colorRamp2(seq(-20, 20, length.out=11), brewer.pal(\"RdBu\", n=11))\n",
    "col.fun.ges <- colorRamp2(seq(0, 0.25, length.out=9), brewer.pal(\"Reds\", n=9))\n",
    "\n",
    "h1 <- Heatmap(\n",
    "    cell.prop, name=\"Rho1\",\n",
    "    col=col.fun.rho,\n",
    "    rect_gp=gpar(col=\"white\", lwd=2),\n",
    "    cluster_rows=F, cluster_columns=F\n",
    ")\n",
    "\n",
    "h2 <- Heatmap(\n",
    "    srsq, name=\"Rho2\",\n",
    "    col=col.fun.rho,\n",
    "    rect_gp=gpar(col=\"white\", lwd=2)\n",
    ")\n",
    "\n",
    "h3 <- Heatmap(\n",
    "    outcome, name=\"Beta\",\n",
    "    col=col.fun.beta,\n",
    "    rect_gp=gpar(col=\"white\", lwd=2)\n",
    ")\n",
    "\n",
    "h4 <- Heatmap(\n",
    "    time.point, name=\"GES\",\n",
    "    col=col.fun.ges,\n",
    "    rect_gp=gpar(col=\"white\", lwd=2)\n",
    ")\n",
    "\n",
    "svg(\"04_Expression/results/module_association_heatmap.svg\", width=5, height=20)\n",
    "h1 + h2 + h3 + h4\n",
    "dev.off()"
   ]
  },
  {
   "cell_type": "markdown",
   "id": "cdb6a705-3fa6-457c-b7c0-e2c8b97b6231",
   "metadata": {},
   "source": [
    "![Heatmap](../results/module_association_heatmap.svg)"
   ]
  },
  {
   "cell_type": "markdown",
   "id": "24761add-2e22-4213-919a-82dc7285ea8f",
   "metadata": {},
   "source": [
    "## Heatmap of Module Association with xCell Scores"
   ]
  },
  {
   "cell_type": "code",
   "execution_count": 9,
   "id": "106d06d5-c42f-4609-8973-6d161efa6457",
   "metadata": {},
   "outputs": [],
   "source": [
    "xcell.data <- association.tbl %>%\n",
    "    dplyr::mutate(Eigengene = factor(Eigengene, levels=paste0(\"ME_\", 1:length(unique(Eigengene))))) %>%\n",
    "    dplyr::filter(Association.Variable.Type == \"xCell Score\") %>%\n",
    "    merge(., xcell.info, by.x=\"Association.Variable\", by.y=\"Cell.types\") %>%\n",
    "    dplyr::filter(Subgroup %in% c(\"HSC\", \"Lymphoid\", \"Myeloid\")) %>%\n",
    "    dplyr::mutate(Statistic = ifelse(Adjusted.P.Value < 1e-4, Statistic, 0)) %>%\n",
    "    dplyr::select(Eigengene, Association.Variable, Statistic) %>%\n",
    "    tidyr::spread(Association.Variable, Statistic)\n",
    "\n",
    "xcell <- as.matrix(xcell.data[, -1])\n",
    "rownames(xcell) <- xcell.data$Eigengene"
   ]
  },
  {
   "cell_type": "code",
   "execution_count": 10,
   "id": "23b97fb2-56ea-4777-9d53-ba096aead0a3",
   "metadata": {},
   "outputs": [
    {
     "data": {
      "text/html": [
       "<strong>png:</strong> 2"
      ],
      "text/latex": [
       "\\textbf{png:} 2"
      ],
      "text/markdown": [
       "**png:** 2"
      ],
      "text/plain": [
       "png \n",
       "  2 "
      ]
     },
     "metadata": {},
     "output_type": "display_data"
    }
   ],
   "source": [
    "options(repr.plot.width=16, repr.plot.height=20)\n",
    "\n",
    "col.fun.rho <- colorRamp2(seq(-1, 1, length.out=11), brewer.pal(\"RdBu\", n=11))\n",
    "\n",
    "subgroups <- xcell.info$Subgroup\n",
    "names(subgroups) <- xcell.info$Cell.type\n",
    "\n",
    "svg(\"04_Expression/results/module_xcell_association_heatmap.svg\", width=14, height=20)\n",
    "Heatmap(\n",
    "    xcell, name=\"Rho\",\n",
    "    col=col.fun.rho,\n",
    "    column_split=subgroups[colnames(xcell)],\n",
    "    column_gap = unit(5, \"mm\"),\n",
    "    rect_gp=gpar(col=\"white\", lwd=2),\n",
    "    cluster_rows=F, cluster_columns=F\n",
    ")\n",
    "dev.off()"
   ]
  },
  {
   "cell_type": "markdown",
   "id": "c976691e-3b02-41cc-9b71-4b7a3d819ec9",
   "metadata": {},
   "source": [
    "![Heatmap](../results/module_xcell_association_heatmap.svg)"
   ]
  },
  {
   "cell_type": "markdown",
   "id": "a6baa471-f350-45d3-acee-388963a889b4",
   "metadata": {},
   "source": [
    "## Identify Shared Association Sets"
   ]
  },
  {
   "cell_type": "code",
   "execution_count": 11,
   "id": "2eeab06e-fd1a-4f6c-8a6a-9d72874ce332",
   "metadata": {},
   "outputs": [],
   "source": [
    "association.sds <- association.tbl %>%\n",
    "    dplyr::group_by(Association.Variable.Type) %>%\n",
    "    dplyr::summarize(Mean=mean(Statistic), SD=sd(Statistic))"
   ]
  },
  {
   "cell_type": "code",
   "execution_count": 12,
   "id": "e987d324-99c0-4ad0-964d-d853b7ee3da6",
   "metadata": {},
   "outputs": [
    {
     "data": {
      "text/html": [
       "<strong>png:</strong> 2"
      ],
      "text/latex": [
       "\\textbf{png:} 2"
      ],
      "text/markdown": [
       "**png:** 2"
      ],
      "text/plain": [
       "png \n",
       "  2 "
      ]
     },
     "metadata": {},
     "output_type": "display_data"
    },
    {
     "data": {
      "image/png": "[encoded data removed]",
      "text/plain": [
       "plot without title"
      ]
     },
     "metadata": {
      "image/png": {
       "height": 360,
       "width": 480
      }
     },
     "output_type": "display_data"
    }
   ],
   "source": [
    "plot.data <- association.tbl %>%\n",
    "  merge(., association.sds, by=\"Association.Variable.Type\") %>%\n",
    "  dplyr::filter(Adjusted.P.Value < 0.05, abs(Statistic - Mean) > SD)\n",
    "\n",
    "plot.data <- split(plot.data, plot.data$Association.Variable.Type) %>%\n",
    "  lapply(., function(x) unique(x[,\"Eigengene\"]))\n",
    "\n",
    "plot.data[[\"None\"]] <- setdiff(var.exp$Module, unique(unlist(plot.data)))\n",
    "\n",
    "svg(\"04_Expression/results/eigengene_association_overlap.svg\", width=8, height=6)\n",
    "upset(\n",
    "  fromList(plot.data), order.by=\"freq\",\n",
    "  matrix.color=\"royalblue4\", main.bar.color=\"royalblue3\", sets.bar.color=\"royalblue3\",\n",
    "  text.scale=2, nsets=6\n",
    ")\n",
    "dev.off()\n",
    "\n",
    "options(repr.plot.width=8, repr.plot.height=6)\n",
    "upset(\n",
    "  fromList(plot.data), order.by=\"freq\",\n",
    "  matrix.color=\"royalblue4\", main.bar.color=\"royalblue3\", sets.bar.color=\"royalblue3\",\n",
    "  text.scale=2, nsets=6\n",
    ")"
   ]
  },
  {
   "cell_type": "code",
   "execution_count": 13,
   "id": "351fd410-33ee-428c-8848-36d255945236",
   "metadata": {},
   "outputs": [
    {
     "data": {
      "text/html": [
       "<table class=\"dataframe\">\n",
       "<caption>A data.frame: 3 × 6</caption>\n",
       "<thead>\n",
       "\t<tr><th></th><th scope=col>Cell Proportion</th><th scope=col>Outcome</th><th scope=col>SRSq</th><th scope=col>Time Point</th><th scope=col>xCell Score</th><th scope=col>None</th></tr>\n",
       "\t<tr><th></th><th scope=col>&lt;lgl&gt;</th><th scope=col>&lt;lgl&gt;</th><th scope=col>&lt;lgl&gt;</th><th scope=col>&lt;lgl&gt;</th><th scope=col>&lt;lgl&gt;</th><th scope=col>&lt;lgl&gt;</th></tr>\n",
       "</thead>\n",
       "<tbody>\n",
       "\t<tr><th scope=row>ME_106</th><td>TRUE</td><td>FALSE</td><td>FALSE</td><td>FALSE</td><td>TRUE</td><td>FALSE</td></tr>\n",
       "\t<tr><th scope=row>ME_66</th><td>TRUE</td><td>FALSE</td><td>FALSE</td><td>FALSE</td><td>TRUE</td><td>FALSE</td></tr>\n",
       "\t<tr><th scope=row>ME_64</th><td>TRUE</td><td>FALSE</td><td>FALSE</td><td>FALSE</td><td>TRUE</td><td>FALSE</td></tr>\n",
       "</tbody>\n",
       "</table>\n"
      ],
      "text/latex": [
       "A data.frame: 3 × 6\n",
       "\\begin{tabular}{r|llllll}\n",
       "  & Cell Proportion & Outcome & SRSq & Time Point & xCell Score & None\\\\\n",
       "  & <lgl> & <lgl> & <lgl> & <lgl> & <lgl> & <lgl>\\\\\n",
       "\\hline\n",
       "\tME\\_106 & TRUE & FALSE & FALSE & FALSE & TRUE & FALSE\\\\\n",
       "\tME\\_66 & TRUE & FALSE & FALSE & FALSE & TRUE & FALSE\\\\\n",
       "\tME\\_64 & TRUE & FALSE & FALSE & FALSE & TRUE & FALSE\\\\\n",
       "\\end{tabular}\n"
      ],
      "text/markdown": [
       "\n",
       "A data.frame: 3 × 6\n",
       "\n",
       "| <!--/--> | Cell Proportion &lt;lgl&gt; | Outcome &lt;lgl&gt; | SRSq &lt;lgl&gt; | Time Point &lt;lgl&gt; | xCell Score &lt;lgl&gt; | None &lt;lgl&gt; |\n",
       "|---|---|---|---|---|---|---|\n",
       "| ME_106 | TRUE | FALSE | FALSE | FALSE | TRUE | FALSE |\n",
       "| ME_66 | TRUE | FALSE | FALSE | FALSE | TRUE | FALSE |\n",
       "| ME_64 | TRUE | FALSE | FALSE | FALSE | TRUE | FALSE |\n",
       "\n"
      ],
      "text/plain": [
       "       Cell Proportion Outcome SRSq  Time Point xCell Score None \n",
       "ME_106 TRUE            FALSE   FALSE FALSE      TRUE        FALSE\n",
       "ME_66  TRUE            FALSE   FALSE FALSE      TRUE        FALSE\n",
       "ME_64  TRUE            FALSE   FALSE FALSE      TRUE        FALSE"
      ]
     },
     "metadata": {},
     "output_type": "display_data"
    }
   ],
   "source": [
    "# Identify Module Association Sets\n",
    "modules <- Reduce(union, plot.data)\n",
    "\n",
    "module.association.mtx <- lapply(modules, function(module.name) {\n",
    "  return(sapply(plot.data, function(set) module.name %in% set))\n",
    "}) %>%\n",
    "  do.call(rbind, .) %>%\n",
    "  as.data.frame()\n",
    "rownames(module.association.mtx) <- modules\n",
    "\n",
    "module.association.mtx %>%\n",
    "    dplyr::filter(`Cell Proportion` & !Outcome & !SRSq & !`Time Point`)"
   ]
  },
  {
   "cell_type": "code",
   "execution_count": null,
   "id": "3b1c11d9-e1f9-4032-8a2f-4d9e88c55eac",
   "metadata": {},
   "outputs": [],
   "source": []
  }
 ],
 "metadata": {
  "kernelspec": {
   "display_name": "R",
   "language": "R",
   "name": "ir"
  },
  "language_info": {
   "codemirror_mode": "r",
   "file_extension": ".r",
   "mimetype": "text/x-r-source",
   "name": "R",
   "pygments_lexer": "r",
   "version": "4.0.5"
  }
 },
 "nbformat": 4,
 "nbformat_minor": 5
}
