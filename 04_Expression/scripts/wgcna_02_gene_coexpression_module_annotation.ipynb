{
 "cells": [
  {
   "cell_type": "markdown",
   "id": "7557fe5f-48ff-4079-81eb-3ef986f58a3c",
   "metadata": {},
   "source": [
    "# Co-Expression Module Annotation\n",
    "\n",
    "**Created**: 16 October 2021"
   ]
  },
  {
   "cell_type": "markdown",
   "id": "d03fbcca-1272-4677-a264-f51eb520289b",
   "metadata": {},
   "source": [
    "## Environment"
   ]
  },
  {
   "cell_type": "code",
   "execution_count": 44,
   "id": "a12cd20d-2eb4-46e0-9c02-ac2763ad894f",
   "metadata": {},
   "outputs": [
    {
     "name": "stderr",
     "output_type": "stream",
     "text": [
      "'getOption(\"repos\")' replaces Bioconductor standard repositories, see\n",
      "'?repositories' for details\n",
      "\n",
      "replacement repositories:\n",
      "    CRAN: https://cran.r-project.org\n",
      "\n",
      "\n",
      "Bioconductor version 3.12 (BiocManager 1.30.18), R 4.0.5 (2021-03-31)\n",
      "\n",
      "Installing package(s) 'ReactomePA'\n",
      "\n",
      "also installing the dependencies ‘reactome.db’, ‘graphite’\n",
      "\n",
      "\n",
      "Old packages: 'blob', 'brew', 'broom', 'Cairo', 'car', 'caret', 'checkmate',\n",
      "  'circlize', 'cli', 'clipr', 'clue', 'cluster', 'conquer', 'DBI', 'dbplyr',\n",
      "  'DEoptimR', 'dequer', 'desc', 'doParallel', 'dplyr', 'e1071', 'energy',\n",
      "  'exactRankTests', 'FNN', 'foreach', 'formatR', 'future', 'future.apply',\n",
      "  'gdtools', 'gert', 'ggplot2', 'globals', 'gower', 'gplots', 'gtools',\n",
      "  'haven', 'Hmisc', 'httr', 'igraph', 'ipred', 'km.ci', 'knitr', 'leiden',\n",
      "  'lme4', 'maptools', 'MASS', 'Matrix', 'matrixStats', 'mclogit', 'mgcv',\n",
      "  'mnormt', 'nlme', 'nloptr', 'openssl', 'parallelly', 'pbdZMQ', 'pcaPP',\n",
      "  'polynom', 'pracma', 'processx', 'progressr', 'proxy', 'ps', 'psych',\n",
      "  'quantreg', 'R.methodsS3', 'R.oo', 'RcppArmadillo', 'RcppGSL', 'RCurl',\n",
      "  'readr', 'readxl', 'recipes', 'reshape', 'reticulate', 'Rfast', 'rmarkdown',\n",
      "  'rmcorr', 'robust', 'robustbase', 'roxygen2', 'rrcov', 'RSpectra', 'RSQLite',\n",
      "  'rvcheck', 'Seurat', 'SeuratObject', 'sp', 'spatstat', 'spatstat.core',\n",
      "  'spatstat.utils', 'survival', 'survMisc', 'svglite', 'systemfonts',\n",
      "  'testthat', 'tibble', 'tinytex', 'tzdb', 'umap', 'usethis', 'uuid', 'waldo',\n",
      "  'WGCNA', 'xfun', 'XML'\n",
      "\n"
     ]
    }
   ],
   "source": [
    "if (!requireNamespace(\"clusterProfiler\", quietly=TRUE)) {\n",
    "    require(devtools)\n",
    "    install_version(\"rvcheck\", version = \"0.1.8\", repos = \"http://cran.us.r-project.org\")\n",
    "    BiocManager::install(\"clusterProfiler\")\n",
    "}\n",
    "\n",
    "if (!requireNamespace(\"ReactomePA\", quietly=TRUE)) {\n",
    "    BiocManager::install(\"ReactomePA\")\n",
    "}\n",
    "\n",
    "if (!requireNamespace(\"org.Hs.eg.db\", quietly=TRUE)) {\n",
    "    BiocManager::install(\"org.Hs.eg.db\")\n",
    "}"
   ]
  },
  {
   "cell_type": "code",
   "execution_count": 47,
   "id": "bca1b88c-43bd-42e0-b504-e6249f761933",
   "metadata": {},
   "outputs": [
    {
     "name": "stderr",
     "output_type": "stream",
     "text": [
      "ReactomePA v1.34.0  For help: https://guangchuangyu.github.io/ReactomePA\n",
      "\n",
      "If you use ReactomePA in published research, please cite:\n",
      "Guangchuang Yu, Qing-Yu He. ReactomePA: an R/Bioconductor package for reactome pathway analysis and visualization. Molecular BioSystems 2016, 12(2):477-479\n",
      "\n"
     ]
    }
   ],
   "source": [
    "library(tidyverse)\n",
    "library(clusterProfiler)\n",
    "library(ReactomePA)\n",
    "library(org.Hs.eg.db)\n",
    "\n",
    "options(stringsAsFactors = FALSE)\n",
    "\n",
    "setwd(\"~/eQTL_pQTL_Characterization/\")\n",
    "\n",
    "source(\"04_Expression/scripts/utils/ggplot_theme.R\")"
   ]
  },
  {
   "cell_type": "markdown",
   "id": "dad85b3a-823b-4749-bc53-42585a7f70c6",
   "metadata": {},
   "source": [
    "## Load Data"
   ]
  },
  {
   "cell_type": "code",
   "execution_count": 7,
   "id": "1b95ebf7-a4df-46e9-9a5d-87a728d397c1",
   "metadata": {},
   "outputs": [],
   "source": [
    "gene.info <- read.table(\"/nfs/team282/data/gains_team282/Gene_info_864_20416.txt\")\n",
    "modules <- read.csv(\"~/gains_team282/nikhil/expression/gene_expression/modules.csv\")\n",
    "eigengenes <- read.csv(\"~/gains_team282/nikhil/expression/gene_expression/eigengenes.csv\", row.names=1)\n",
    "variance.explained <- read.csv(\"~/gains_team282/nikhil/expression/gene_expression/variance.explained.csv\")"
   ]
  },
  {
   "cell_type": "markdown",
   "id": "0b9cae60-df94-41e4-a0cd-8c150a190344",
   "metadata": {},
   "source": [
    "## Setup\n",
    "\n",
    "Set up Ensembl IDs and Entrez IDs for each module. Also identify the set of background genes."
   ]
  },
  {
   "cell_type": "code",
   "execution_count": 19,
   "id": "89c892ce-bdc6-4d1a-9a44-746173ba0869",
   "metadata": {},
   "outputs": [],
   "source": [
    "module.names <- paste0(\"Module_\", 1:dim(eigengenes)[2])\n",
    "module.list <- lapply(module.names, function(module.name) {\n",
    "    \n",
    "    module.info = modules %>%\n",
    "        dplyr::filter(Module==module.name) %>%\n",
    "        merge(., gene.info, by.x=\"Gene\", by.y=\"gene_id\") %>%\n",
    "        dplyr::select(Ensembl.ID=Gene, Gene.Name=gene_name)\n",
    "    \n",
    "    genes.ensembl = module.info$Ensembl.ID\n",
    "    \n",
    "    genes.map = suppressMessages(suppressWarnings(\n",
    "        bitr(genes.ensembl, fromType = \"ENSEMBL\", toType = \"ENTREZID\", OrgDb = org.Hs.eg.db)\n",
    "    ))\n",
    "    \n",
    "    module.info = merge(module.info, genes.map, by.x=\"Ensembl.ID\", by.y=\"ENSEMBL\", all.x=TRUE)\n",
    "})\n",
    "names(module.list) <- module.names"
   ]
  },
  {
   "cell_type": "code",
   "execution_count": 36,
   "id": "0b018498-f7ff-4e42-add4-b7035780a3cc",
   "metadata": {},
   "outputs": [],
   "source": [
    "universe.ensembl = modules$Gene\n",
    "universe.entrez = unique(do.call(c, lapply(module.list, function(x) { x$ENTREZID[!is.na(x$ENTREZID)] })))"
   ]
  },
  {
   "cell_type": "code",
   "execution_count": 70,
   "id": "0b59e10e-c3a7-4d0d-9ae0-01b3be1c3e08",
   "metadata": {},
   "outputs": [],
   "source": [
    "full.gene.id.map <- do.call(rbind, module.list)"
   ]
  },
  {
   "cell_type": "markdown",
   "id": "bdbc54b3-8148-42a3-87aa-ee941f6cc416",
   "metadata": {
    "tags": []
   },
   "source": [
    "## GO Term Enrichment\n",
    "\n",
    "I will test for enrichment with GO terms in Cellular Components (CC), Molecular Functions (MF), and Biological Processes (BP)."
   ]
  },
  {
   "cell_type": "code",
   "execution_count": 55,
   "id": "46dd4b13-f196-4bfb-9471-c2ac4fe7802e",
   "metadata": {},
   "outputs": [
    {
     "name": "stderr",
     "output_type": "stream",
     "text": [
      "No gene set have size > 10 ...\n",
      "\n",
      "--> return NULL...\n",
      "\n",
      "No gene set have size > 10 ...\n",
      "\n",
      "--> return NULL...\n",
      "\n",
      "No gene set have size > 10 ...\n",
      "\n",
      "--> return NULL...\n",
      "\n"
     ]
    }
   ],
   "source": [
    "go.cc.all <- lapply(names(module.list), function(module) {\n",
    "\n",
    "    enrichGO(\n",
    "        gene = module.list[[module]]$Ensembl.ID, \n",
    "        OrgDb = org.Hs.eg.db, keyType = \"ENSEMBL\", ont = \"CC\", \n",
    "        pAdjustMethod = \"BH\", pvalueCutoff = 0.01, qvalueCutoff = 0.05,\n",
    "        universe = universe.ensembl,\n",
    "        readable=TRUE\n",
    "    ) %>%\n",
    "        as.data.frame() %>%\n",
    "        dplyr::mutate(Module = module) %>%\n",
    "        dplyr::select(Module, everything())\n",
    "}) %>%\n",
    "    do.call(rbind, .)"
   ]
  },
  {
   "cell_type": "code",
   "execution_count": 56,
   "id": "dceb07ec-53e3-4c3a-82a4-a55f6c85af6b",
   "metadata": {},
   "outputs": [
    {
     "name": "stderr",
     "output_type": "stream",
     "text": [
      "No gene set have size > 10 ...\n",
      "\n",
      "--> return NULL...\n",
      "\n"
     ]
    }
   ],
   "source": [
    "go.mf.all <- lapply(names(module.list), function(module) {\n",
    "\n",
    "    enrichGO(\n",
    "        gene = module.list[[module]]$Ensembl.ID, \n",
    "        OrgDb = org.Hs.eg.db, keyType = \"ENSEMBL\", ont = \"MF\", \n",
    "        pAdjustMethod = \"BH\", pvalueCutoff = 0.01, qvalueCutoff = 0.05,\n",
    "        universe = universe.ensembl,\n",
    "        readable=TRUE\n",
    "    ) %>%\n",
    "        as.data.frame() %>%\n",
    "        dplyr::mutate(Module = module) %>%\n",
    "        dplyr::select(Module, everything())\n",
    "}) %>%\n",
    "    do.call(rbind, .)"
   ]
  },
  {
   "cell_type": "code",
   "execution_count": 57,
   "id": "ee04a93f-80e3-4722-b612-71c371898353",
   "metadata": {},
   "outputs": [],
   "source": [
    "go.bp.all <- lapply(names(module.list), function(module) {\n",
    "\n",
    "    enrichGO(\n",
    "        gene = module.list[[module]]$Ensembl.ID, \n",
    "        OrgDb = org.Hs.eg.db, keyType = \"ENSEMBL\", ont = \"BP\", \n",
    "        pAdjustMethod = \"BH\", pvalueCutoff = 0.01, qvalueCutoff = 0.05,\n",
    "        universe = universe.ensembl,\n",
    "        readable=TRUE\n",
    "    ) %>%\n",
    "        as.data.frame() %>%\n",
    "        dplyr::mutate(Module = module) %>%\n",
    "        dplyr::select(Module, everything())\n",
    "}) %>%\n",
    "    do.call(rbind, .)"
   ]
  },
  {
   "cell_type": "markdown",
   "id": "4b130075-4170-480c-b76b-8a79c00e0daa",
   "metadata": {},
   "source": [
    "## KEGG Enrichment"
   ]
  },
  {
   "cell_type": "code",
   "execution_count": 59,
   "id": "04e87ba1-34bb-4bfc-a91a-11fd88918e62",
   "metadata": {},
   "outputs": [
    {
     "name": "stderr",
     "output_type": "stream",
     "text": [
      "--> No gene can be mapped....\n",
      "\n",
      "--> Expected input gene ID: 10327,5213,9365,2538,23205,51102\n",
      "\n",
      "--> return NULL...\n",
      "\n",
      "--> No gene can be mapped....\n",
      "\n",
      "--> Expected input gene ID: 2182,2821,5213,8789,2180,7366\n",
      "\n",
      "--> return NULL...\n",
      "\n"
     ]
    }
   ],
   "source": [
    "kegg.all <- lapply(names(module.list), function(module) {\n",
    "\n",
    "    genes = module.list[[module]]$ENTREZID\n",
    "    genes = genes[!is.na(genes)]\n",
    "    \n",
    "    enrichKEGG(\n",
    "        gene = genes, \n",
    "        organism = \"hsa\", keyType = \"ncbi-geneid\",\n",
    "        pAdjustMethod = \"BH\", pvalueCutoff = 0.01, qvalueCutoff = 0.05,\n",
    "        universe = universe.entrez\n",
    "    ) %>%\n",
    "        as.data.frame() %>%\n",
    "        dplyr::mutate(Module = module) %>%\n",
    "        dplyr::select(Module, everything())\n",
    "}) %>%\n",
    "    do.call(rbind, .)"
   ]
  },
  {
   "cell_type": "markdown",
   "id": "9eb0ee84-aa4f-4c19-b664-e45e9b7f6797",
   "metadata": {
    "tags": []
   },
   "source": [
    "## Reactome Enrichment"
   ]
  },
  {
   "cell_type": "code",
   "execution_count": 60,
   "id": "23fe7b6f-8261-4192-a60e-cd53999dd3d6",
   "metadata": {},
   "outputs": [
    {
     "name": "stderr",
     "output_type": "stream",
     "text": [
      "--> No gene can be mapped....\n",
      "\n",
      "--> Expected input gene ID: 255488,130013,3921,51071,57119,55902\n",
      "\n",
      "--> return NULL...\n",
      "\n",
      "No gene set have size > 10 ...\n",
      "\n",
      "--> return NULL...\n",
      "\n",
      "No gene set have size > 10 ...\n",
      "\n",
      "--> return NULL...\n",
      "\n",
      "No gene set have size > 10 ...\n",
      "\n",
      "--> return NULL...\n",
      "\n",
      "--> No gene can be mapped....\n",
      "\n",
      "--> Expected input gene ID: 5685,10048,54511,54498,54996,727\n",
      "\n",
      "--> return NULL...\n",
      "\n"
     ]
    }
   ],
   "source": [
    "reactome.all <- lapply(names(module.list), function(module) {\n",
    "\n",
    "    genes = module.list[[module]]$ENTREZID\n",
    "    genes = genes[!is.na(genes)]\n",
    "    \n",
    "    enrichPathway(\n",
    "        gene = genes, \n",
    "        organism = \"human\",\n",
    "        pAdjustMethod = \"BH\", pvalueCutoff = 0.01, qvalueCutoff = 0.05,\n",
    "        universe = universe.entrez,\n",
    "        readable=TRUE\n",
    "    ) %>%\n",
    "        as.data.frame() %>%\n",
    "        dplyr::mutate(Module = module) %>%\n",
    "        dplyr::select(Module, everything())\n",
    "}) %>%\n",
    "    do.call(rbind, .)"
   ]
  },
  {
   "cell_type": "markdown",
   "id": "7200bca3-b29c-4ca3-bc6b-0e6e78639755",
   "metadata": {
    "tags": []
   },
   "source": [
    "## Save Annotations"
   ]
  },
  {
   "cell_type": "code",
   "execution_count": 68,
   "id": "72995dff-fae4-4857-be69-a80aee3ae357",
   "metadata": {},
   "outputs": [],
   "source": [
    "go.cc.all %>%\n",
    "    dplyr::select(\n",
    "        Module, ID, Description,\n",
    "        Gene_Ratio=GeneRatio, Background_Ratio=BgRatio,\n",
    "        P_Value=pvalue, Adjusted_P_Value=p.adjust, Q_Value=qvalue,\n",
    "        Gene_ID=geneID, Count\n",
    "    ) %>% \n",
    "    dplyr::filter(Adjusted_P_Value < 0.05) %>%\n",
    "    write.csv(., paste0(\"~/gains_team282/nikhil/expression/gene_expression_annotations/WGCNA_GO_Cellular_Component.csv\"), row.names=F)\n",
    "\n",
    "go.bp.all %>%\n",
    "    dplyr::select(\n",
    "        Module, ID, Description,\n",
    "        Gene_Ratio=GeneRatio, Background_Ratio=BgRatio,\n",
    "        P_Value=pvalue, Adjusted_P_Value=p.adjust, Q_Value=qvalue,\n",
    "        Gene_ID=geneID, Count\n",
    "    ) %>% \n",
    "    dplyr::filter(Adjusted_P_Value < 0.05) %>%\n",
    "    write.csv(., paste0(\"~/gains_team282/nikhil/expression/gene_expression_annotations/WGCNA_GO_Biological_Process.csv\"), row.names=F)\n",
    "\n",
    "go.mf.all %>%\n",
    "    dplyr::select(\n",
    "        Module, ID, Description,\n",
    "        Gene_Ratio=GeneRatio, Background_Ratio=BgRatio,\n",
    "        P_Value=pvalue, Adjusted_P_Value=p.adjust, Q_Value=qvalue,\n",
    "        Gene_ID=geneID, Count\n",
    "    ) %>% \n",
    "    dplyr::filter(Adjusted_P_Value < 0.05) %>%\n",
    "    write.csv(., paste0(\"~/gains_team282/nikhil/expression/gene_expression_annotations/WGCNA_GO_Molecular_Function.csv\"), row.names=F)"
   ]
  },
  {
   "cell_type": "code",
   "execution_count": 83,
   "id": "c1bd29ab-935c-4e7d-8a85-ab2a31dadb99",
   "metadata": {},
   "outputs": [],
   "source": [
    "kegg.all %>%\n",
    "    dplyr::mutate(geneID = sapply(strsplit(kegg.all$geneID, \"/\"), function(entrez.ids) { \n",
    "        paste0(\n",
    "            merge(as.data.frame(entrez.ids), full.gene.id.map, by.x=1, by.y=\"ENTREZID\")$Gene.Name,\n",
    "            collapse=\"/\"\n",
    "        )\n",
    "    })) %>% dplyr::select(\n",
    "        Module, ID, Description,\n",
    "        Gene_Ratio=GeneRatio, Background_Ratio=BgRatio,\n",
    "        P_Value=pvalue, Adjusted_P_Value=p.adjust, Q_Value=qvalue,\n",
    "        Gene_ID=geneID, Count\n",
    "    ) %>% \n",
    "    dplyr::filter(Adjusted_P_Value < 0.05) %>%\n",
    "    write.csv(., paste0(\"~/gains_team282/nikhil/expression/gene_expression_annotations/WGCNA_KEGG_Human.csv\"), row.names=F)"
   ]
  },
  {
   "cell_type": "code",
   "execution_count": 85,
   "id": "aed46713-e3f3-405f-86d5-64ce2777ac64",
   "metadata": {},
   "outputs": [],
   "source": [
    "reactome.all %>%\n",
    "    dplyr::select(\n",
    "        Module, ID, Description,\n",
    "        Gene_Ratio=GeneRatio, Background_Ratio=BgRatio,\n",
    "        P_Value=pvalue, Adjusted_P_Value=p.adjust, Q_Value=qvalue,\n",
    "        Gene_ID=geneID, Count\n",
    "    ) %>% \n",
    "    dplyr::filter(Adjusted_P_Value < 0.05) %>%\n",
    "    write.csv(., paste0(\"~/gains_team282/nikhil/expression/gene_expression_annotations/WGCNA_Reactome.csv\"), row.names=F)"
   ]
  },
  {
   "cell_type": "code",
   "execution_count": null,
   "id": "946f47e9-5131-42cd-aa52-021e8046fd9b",
   "metadata": {},
   "outputs": [],
   "source": []
  }
 ],
 "metadata": {
  "kernelspec": {
   "display_name": "R",
   "language": "R",
   "name": "ir"
  },
  "language_info": {
   "codemirror_mode": "r",
   "file_extension": ".r",
   "mimetype": "text/x-r-source",
   "name": "R",
   "pygments_lexer": "r",
   "version": "4.0.5"
  }
 },
 "nbformat": 4,
 "nbformat_minor": 5
}
