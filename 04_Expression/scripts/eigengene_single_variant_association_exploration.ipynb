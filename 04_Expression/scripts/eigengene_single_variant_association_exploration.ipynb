{
 "cells": [
  {
   "cell_type": "markdown",
   "id": "40ded556-debe-4c09-a412-cb0c8c47f474",
   "metadata": {},
   "source": [
    "# Eigengene Single-Variant Association Exploration\n",
    "\n",
    "**Created**: 25 November 2021"
   ]
  },
  {
   "cell_type": "markdown",
   "id": "133acb3a-8f08-46dc-bab6-7c8d4afe4803",
   "metadata": {},
   "source": [
    "## Environment"
   ]
  },
  {
   "cell_type": "code",
   "execution_count": 1,
   "id": "5aa6f310-53bc-4e4a-9f26-62e0716b2c2e",
   "metadata": {},
   "outputs": [],
   "source": [
    "if (!requireNamespace(\"BiocManager\", quietly = TRUE)) {\n",
    "    install.packages(\"BiocManager\")\n",
    "}\n",
    "\n",
    "if (!requireNamespace(\"ComplexHeatmap\", quietly=TRUE)) {\n",
    "    BiocManager::install(\"ComplexHeatmap\")\n",
    "}"
   ]
  },
  {
   "cell_type": "code",
   "execution_count": 2,
   "id": "b57f682b-54fb-470e-b766-b9f21ae2d9b2",
   "metadata": {},
   "outputs": [
    {
     "name": "stderr",
     "output_type": "stream",
     "text": [
      "── \u001b[1mAttaching packages\u001b[22m ──────────────────────────────────────────────────────────────────────────────────────────────────────────────────────────────────────────────────────────────────────────── tidyverse 1.3.1 ──\n",
      "\n",
      "\u001b[32m✔\u001b[39m \u001b[34mggplot2\u001b[39m 3.3.5     \u001b[32m✔\u001b[39m \u001b[34mpurrr  \u001b[39m 0.3.4\n",
      "\u001b[32m✔\u001b[39m \u001b[34mtibble \u001b[39m 3.1.6     \u001b[32m✔\u001b[39m \u001b[34mdplyr  \u001b[39m 1.0.7\n",
      "\u001b[32m✔\u001b[39m \u001b[34mtidyr  \u001b[39m 1.1.4     \u001b[32m✔\u001b[39m \u001b[34mstringr\u001b[39m 1.4.0\n",
      "\u001b[32m✔\u001b[39m \u001b[34mreadr  \u001b[39m 2.1.1     \u001b[32m✔\u001b[39m \u001b[34mforcats\u001b[39m 0.5.1\n",
      "\n",
      "── \u001b[1mConflicts\u001b[22m ─────────────────────────────────────────────────────────────────────────────────────────────────────────────────────────────────────────────────────────────────────────────── tidyverse_conflicts() ──\n",
      "\u001b[31m✖\u001b[39m \u001b[34mdplyr\u001b[39m::\u001b[32mfilter()\u001b[39m masks \u001b[34mstats\u001b[39m::filter()\n",
      "\u001b[31m✖\u001b[39m \u001b[34mdplyr\u001b[39m::\u001b[32mlag()\u001b[39m    masks \u001b[34mstats\u001b[39m::lag()\n",
      "\n",
      "Loading required package: grid\n",
      "\n",
      "========================================\n",
      "ComplexHeatmap version 2.6.2\n",
      "Bioconductor page: http://bioconductor.org/packages/ComplexHeatmap/\n",
      "Github page: https://github.com/jokergoo/ComplexHeatmap\n",
      "Documentation: http://jokergoo.github.io/ComplexHeatmap-reference\n",
      "\n",
      "If you use it in published research, please cite:\n",
      "Gu, Z. Complex heatmaps reveal patterns and correlations in multidimensional \n",
      "  genomic data. Bioinformatics 2016.\n",
      "\n",
      "This message can be suppressed by:\n",
      "  suppressPackageStartupMessages(library(ComplexHeatmap))\n",
      "========================================\n",
      "\n",
      "\n",
      "\n",
      "Attaching package: ‘data.table’\n",
      "\n",
      "\n",
      "The following objects are masked from ‘package:dplyr’:\n",
      "\n",
      "    between, first, last\n",
      "\n",
      "\n",
      "The following object is masked from ‘package:purrr’:\n",
      "\n",
      "    transpose\n",
      "\n",
      "\n"
     ]
    }
   ],
   "source": [
    "library(tidyverse)\n",
    "library(RColorBrewer)\n",
    "library(ComplexHeatmap)\n",
    "library(data.table)\n",
    "\n",
    "setwd(\"~/eQTL_pQTL_Characterization/\")\n",
    "\n",
    "source(\"04_Expression/scripts/utils/ggplot_theme.R\")"
   ]
  },
  {
   "cell_type": "markdown",
   "id": "53e08f67-624c-4222-b51c-026831dd085b",
   "metadata": {},
   "source": [
    "## Load Data"
   ]
  },
  {
   "cell_type": "code",
   "execution_count": 3,
   "id": "e6264bda-1395-47a9-bf6d-5b5228984a14",
   "metadata": {},
   "outputs": [],
   "source": [
    "demographics <- readxl::read_xls(\"/nfs/team282/data/gains_team282/ClinicalData/DEMO_12jun2019.xls\", sheet=1) %>%\n",
    "    dplyr::mutate(sex=as.numeric(sex)) %>%\n",
    "    dplyr::mutate(diagnosis=as.numeric(diagnosis))\n",
    "\n",
    "ga.prefix.index <- grepl(\"GA\", demographics$SubjectBarCode)\n",
    "demographics$SubjectBarCode[ga.prefix.index] <- gsub(\"^GA\", \"\", demographics$SubjectBarCode[ga.prefix.index])"
   ]
  },
  {
   "cell_type": "code",
   "execution_count": 4,
   "id": "35ab229e-25c4-404d-8390-01f32b34e94f",
   "metadata": {},
   "outputs": [],
   "source": [
    "srs.info <- read.table(\"/nfs/team282/data/gains_team282/full-gains-SRS-predictions_mNN-RF.tsv\", header=T)\n",
    "ga.prefix.index <- grepl(\"GA\", srs.info$Sample_id)\n",
    "srs.info$Sample_id[ga.prefix.index] <- gsub(\"^GA\", \"\", srs.info$Sample_id[ga.prefix.index])\n",
    "srs.info <- srs.info %>%\n",
    "  dplyr::filter(Assay==\"RNA-seq\")\n",
    "row.names(srs.info) <- srs.info$Sample_id"
   ]
  },
  {
   "cell_type": "code",
   "execution_count": 5,
   "id": "0b1b5e57-4df2-42c1-b77d-10f84cff585d",
   "metadata": {},
   "outputs": [],
   "source": [
    "covs <- read.table(\"~/gains_team282/eqtl/data/covs_and_peer_factors.txt\") %>%\n",
    "    dplyr::mutate(Sample.ID=rownames(.)) %>%\n",
    "    dplyr::mutate(GAinS.ID=sapply(strsplit(Sample.ID, \"_\"), function(x) { x[1] }))\n",
    "\n",
    "ga.prefix.index <- grepl(\"GA\", covs$GAinS.ID)\n",
    "covs$GAinS.ID[ga.prefix.index] <- gsub(\"^GA\", \"\", covs$GAinS.ID[ga.prefix.index])\n",
    "covs$Sample.ID[ga.prefix.index] <- gsub(\"^GA\", \"\", covs$Sample.ID[ga.prefix.index])"
   ]
  },
  {
   "cell_type": "code",
   "execution_count": 6,
   "id": "778d7314-6a62-4e86-a35a-68daaabfe7d5",
   "metadata": {},
   "outputs": [
    {
     "data": {
      "text/html": [
       "<table class=\"dataframe\">\n",
       "<caption>A data.frame: 6 × 43</caption>\n",
       "<thead>\n",
       "\t<tr><th></th><th scope=col>Neutrophils</th><th scope=col>Lymphocytes</th><th scope=col>Monocytes</th><th scope=col>PC1</th><th scope=col>PC2</th><th scope=col>PC3</th><th scope=col>PC4</th><th scope=col>PC5</th><th scope=col>PC6</th><th scope=col>PC7</th><th scope=col>⋯</th><th scope=col>PEER_21</th><th scope=col>PEER_22</th><th scope=col>PEER_23</th><th scope=col>PEER_24</th><th scope=col>PEER_25</th><th scope=col>PEER_26</th><th scope=col>PEER_27</th><th scope=col>PEER_28</th><th scope=col>PEER_29</th><th scope=col>PEER_30</th></tr>\n",
       "\t<tr><th></th><th scope=col>&lt;dbl&gt;</th><th scope=col>&lt;dbl&gt;</th><th scope=col>&lt;dbl&gt;</th><th scope=col>&lt;dbl&gt;</th><th scope=col>&lt;dbl&gt;</th><th scope=col>&lt;dbl&gt;</th><th scope=col>&lt;dbl&gt;</th><th scope=col>&lt;dbl&gt;</th><th scope=col>&lt;dbl&gt;</th><th scope=col>&lt;dbl&gt;</th><th scope=col>⋯</th><th scope=col>&lt;dbl&gt;</th><th scope=col>&lt;dbl&gt;</th><th scope=col>&lt;dbl&gt;</th><th scope=col>&lt;dbl&gt;</th><th scope=col>&lt;dbl&gt;</th><th scope=col>&lt;dbl&gt;</th><th scope=col>&lt;dbl&gt;</th><th scope=col>&lt;dbl&gt;</th><th scope=col>&lt;dbl&gt;</th><th scope=col>&lt;dbl&gt;</th></tr>\n",
       "</thead>\n",
       "<tbody>\n",
       "\t<tr><th scope=row>UK01050129_5</th><td>-1.7381318</td><td> 1.8281826</td><td> 1.2829455</td><td> 0.177279994</td><td> 0.051694602</td><td>0.02486030</td><td>-0.035102502</td><td>-0.00455149</td><td>-0.0603707</td><td> 0.03964880</td><td>⋯</td><td>-0.001172263</td><td>-0.05533835</td><td> 0.049742281</td><td> 0.03725176</td><td> 0.04495762</td><td> 0.12696229</td><td> 0.08175036</td><td> 0.05295999</td><td>0.164950684</td><td>-0.10379386</td></tr>\n",
       "\t<tr><th scope=row>UK01060123_3</th><td>-0.3845370</td><td> 0.3878375</td><td> 0.4548023</td><td>-0.000388133</td><td>-0.000674099</td><td>0.00810357</td><td> 0.000212791</td><td> 0.03396150</td><td> 0.0266317</td><td>-0.01885280</td><td>⋯</td><td>-0.012723563</td><td> 0.02226736</td><td>-0.027520355</td><td>-0.05782387</td><td> 0.03653939</td><td> 0.05959492</td><td>-0.02611259</td><td>-0.01790827</td><td>0.012047987</td><td> 0.05554044</td></tr>\n",
       "\t<tr><th scope=row>UK01070117_3</th><td>-0.7738039</td><td> 0.5846032</td><td> 0.9325467</td><td> 0.016432300</td><td>-0.048464298</td><td>0.00813966</td><td>-0.047699600</td><td>-0.07926830</td><td> 0.0263629</td><td>-0.08224740</td><td>⋯</td><td> 0.040162142</td><td> 0.06840651</td><td> 0.000062529</td><td> 0.05292596</td><td> 0.01705806</td><td> 0.05931079</td><td> 0.08962730</td><td> 0.03772458</td><td>0.008254956</td><td>-0.01570964</td></tr>\n",
       "\t<tr><th scope=row>UK01080111_1</th><td> 0.1305646</td><td> 0.2888638</td><td>-0.6232047</td><td> 0.161789000</td><td> 0.036224801</td><td>0.00467903</td><td>-0.048611499</td><td> 0.00180036</td><td>-0.0352357</td><td> 0.05012510</td><td>⋯</td><td>-0.002928361</td><td>-0.03274319</td><td> 0.088269033</td><td> 0.07396927</td><td>-0.01906336</td><td> 0.02454052</td><td> 0.04243371</td><td> 0.03055887</td><td>0.123383760</td><td>-0.02276623</td></tr>\n",
       "\t<tr><th scope=row>UK01110093_1</th><td> 1.0909779</td><td>-1.2488160</td><td>-0.4429439</td><td>-0.006296720</td><td> 0.002821510</td><td>0.00699239</td><td> 0.004351650</td><td> 0.00268802</td><td> 0.0166922</td><td>-0.00733983</td><td>⋯</td><td>-0.108193189</td><td> 0.01590979</td><td>-0.093242317</td><td>-0.03037383</td><td>-0.07385907</td><td>-0.05968965</td><td> 0.09695430</td><td>-0.03975484</td><td>0.130198911</td><td>-0.05011296</td></tr>\n",
       "\t<tr><th scope=row>UK01110093_5</th><td> 0.2302416</td><td> 0.0000000</td><td>-0.3306479</td><td>-0.006296720</td><td> 0.002821510</td><td>0.00699239</td><td> 0.004351650</td><td> 0.00268802</td><td> 0.0166922</td><td>-0.00733983</td><td>⋯</td><td>-0.018054215</td><td> 0.02094322</td><td>-0.008623131</td><td> 0.09560122</td><td>-0.07802416</td><td> 0.02365689</td><td> 0.08040638</td><td>-0.02349218</td><td>0.189585552</td><td>-0.07635343</td></tr>\n",
       "</tbody>\n",
       "</table>\n"
      ],
      "text/latex": [
       "A data.frame: 6 × 43\n",
       "\\begin{tabular}{r|lllllllllllllllllllll}\n",
       "  & Neutrophils & Lymphocytes & Monocytes & PC1 & PC2 & PC3 & PC4 & PC5 & PC6 & PC7 & ⋯ & PEER\\_21 & PEER\\_22 & PEER\\_23 & PEER\\_24 & PEER\\_25 & PEER\\_26 & PEER\\_27 & PEER\\_28 & PEER\\_29 & PEER\\_30\\\\\n",
       "  & <dbl> & <dbl> & <dbl> & <dbl> & <dbl> & <dbl> & <dbl> & <dbl> & <dbl> & <dbl> & ⋯ & <dbl> & <dbl> & <dbl> & <dbl> & <dbl> & <dbl> & <dbl> & <dbl> & <dbl> & <dbl>\\\\\n",
       "\\hline\n",
       "\tUK01050129\\_5 & -1.7381318 &  1.8281826 &  1.2829455 &  0.177279994 &  0.051694602 & 0.02486030 & -0.035102502 & -0.00455149 & -0.0603707 &  0.03964880 & ⋯ & -0.001172263 & -0.05533835 &  0.049742281 &  0.03725176 &  0.04495762 &  0.12696229 &  0.08175036 &  0.05295999 & 0.164950684 & -0.10379386\\\\\n",
       "\tUK01060123\\_3 & -0.3845370 &  0.3878375 &  0.4548023 & -0.000388133 & -0.000674099 & 0.00810357 &  0.000212791 &  0.03396150 &  0.0266317 & -0.01885280 & ⋯ & -0.012723563 &  0.02226736 & -0.027520355 & -0.05782387 &  0.03653939 &  0.05959492 & -0.02611259 & -0.01790827 & 0.012047987 &  0.05554044\\\\\n",
       "\tUK01070117\\_3 & -0.7738039 &  0.5846032 &  0.9325467 &  0.016432300 & -0.048464298 & 0.00813966 & -0.047699600 & -0.07926830 &  0.0263629 & -0.08224740 & ⋯ &  0.040162142 &  0.06840651 &  0.000062529 &  0.05292596 &  0.01705806 &  0.05931079 &  0.08962730 &  0.03772458 & 0.008254956 & -0.01570964\\\\\n",
       "\tUK01080111\\_1 &  0.1305646 &  0.2888638 & -0.6232047 &  0.161789000 &  0.036224801 & 0.00467903 & -0.048611499 &  0.00180036 & -0.0352357 &  0.05012510 & ⋯ & -0.002928361 & -0.03274319 &  0.088269033 &  0.07396927 & -0.01906336 &  0.02454052 &  0.04243371 &  0.03055887 & 0.123383760 & -0.02276623\\\\\n",
       "\tUK01110093\\_1 &  1.0909779 & -1.2488160 & -0.4429439 & -0.006296720 &  0.002821510 & 0.00699239 &  0.004351650 &  0.00268802 &  0.0166922 & -0.00733983 & ⋯ & -0.108193189 &  0.01590979 & -0.093242317 & -0.03037383 & -0.07385907 & -0.05968965 &  0.09695430 & -0.03975484 & 0.130198911 & -0.05011296\\\\\n",
       "\tUK01110093\\_5 &  0.2302416 &  0.0000000 & -0.3306479 & -0.006296720 &  0.002821510 & 0.00699239 &  0.004351650 &  0.00268802 &  0.0166922 & -0.00733983 & ⋯ & -0.018054215 &  0.02094322 & -0.008623131 &  0.09560122 & -0.07802416 &  0.02365689 &  0.08040638 & -0.02349218 & 0.189585552 & -0.07635343\\\\\n",
       "\\end{tabular}\n"
      ],
      "text/markdown": [
       "\n",
       "A data.frame: 6 × 43\n",
       "\n",
       "| <!--/--> | Neutrophils &lt;dbl&gt; | Lymphocytes &lt;dbl&gt; | Monocytes &lt;dbl&gt; | PC1 &lt;dbl&gt; | PC2 &lt;dbl&gt; | PC3 &lt;dbl&gt; | PC4 &lt;dbl&gt; | PC5 &lt;dbl&gt; | PC6 &lt;dbl&gt; | PC7 &lt;dbl&gt; | ⋯ ⋯ | PEER_21 &lt;dbl&gt; | PEER_22 &lt;dbl&gt; | PEER_23 &lt;dbl&gt; | PEER_24 &lt;dbl&gt; | PEER_25 &lt;dbl&gt; | PEER_26 &lt;dbl&gt; | PEER_27 &lt;dbl&gt; | PEER_28 &lt;dbl&gt; | PEER_29 &lt;dbl&gt; | PEER_30 &lt;dbl&gt; |\n",
       "|---|---|---|---|---|---|---|---|---|---|---|---|---|---|---|---|---|---|---|---|---|---|\n",
       "| UK01050129_5 | -1.7381318 |  1.8281826 |  1.2829455 |  0.177279994 |  0.051694602 | 0.02486030 | -0.035102502 | -0.00455149 | -0.0603707 |  0.03964880 | ⋯ | -0.001172263 | -0.05533835 |  0.049742281 |  0.03725176 |  0.04495762 |  0.12696229 |  0.08175036 |  0.05295999 | 0.164950684 | -0.10379386 |\n",
       "| UK01060123_3 | -0.3845370 |  0.3878375 |  0.4548023 | -0.000388133 | -0.000674099 | 0.00810357 |  0.000212791 |  0.03396150 |  0.0266317 | -0.01885280 | ⋯ | -0.012723563 |  0.02226736 | -0.027520355 | -0.05782387 |  0.03653939 |  0.05959492 | -0.02611259 | -0.01790827 | 0.012047987 |  0.05554044 |\n",
       "| UK01070117_3 | -0.7738039 |  0.5846032 |  0.9325467 |  0.016432300 | -0.048464298 | 0.00813966 | -0.047699600 | -0.07926830 |  0.0263629 | -0.08224740 | ⋯ |  0.040162142 |  0.06840651 |  0.000062529 |  0.05292596 |  0.01705806 |  0.05931079 |  0.08962730 |  0.03772458 | 0.008254956 | -0.01570964 |\n",
       "| UK01080111_1 |  0.1305646 |  0.2888638 | -0.6232047 |  0.161789000 |  0.036224801 | 0.00467903 | -0.048611499 |  0.00180036 | -0.0352357 |  0.05012510 | ⋯ | -0.002928361 | -0.03274319 |  0.088269033 |  0.07396927 | -0.01906336 |  0.02454052 |  0.04243371 |  0.03055887 | 0.123383760 | -0.02276623 |\n",
       "| UK01110093_1 |  1.0909779 | -1.2488160 | -0.4429439 | -0.006296720 |  0.002821510 | 0.00699239 |  0.004351650 |  0.00268802 |  0.0166922 | -0.00733983 | ⋯ | -0.108193189 |  0.01590979 | -0.093242317 | -0.03037383 | -0.07385907 | -0.05968965 |  0.09695430 | -0.03975484 | 0.130198911 | -0.05011296 |\n",
       "| UK01110093_5 |  0.2302416 |  0.0000000 | -0.3306479 | -0.006296720 |  0.002821510 | 0.00699239 |  0.004351650 |  0.00268802 |  0.0166922 | -0.00733983 | ⋯ | -0.018054215 |  0.02094322 | -0.008623131 |  0.09560122 | -0.07802416 |  0.02365689 |  0.08040638 | -0.02349218 | 0.189585552 | -0.07635343 |\n",
       "\n"
      ],
      "text/plain": [
       "             Neutrophils Lymphocytes Monocytes  PC1          PC2         \n",
       "UK01050129_5 -1.7381318   1.8281826   1.2829455  0.177279994  0.051694602\n",
       "UK01060123_3 -0.3845370   0.3878375   0.4548023 -0.000388133 -0.000674099\n",
       "UK01070117_3 -0.7738039   0.5846032   0.9325467  0.016432300 -0.048464298\n",
       "UK01080111_1  0.1305646   0.2888638  -0.6232047  0.161789000  0.036224801\n",
       "UK01110093_1  1.0909779  -1.2488160  -0.4429439 -0.006296720  0.002821510\n",
       "UK01110093_5  0.2302416   0.0000000  -0.3306479 -0.006296720  0.002821510\n",
       "             PC3        PC4          PC5         PC6        PC7         ⋯\n",
       "UK01050129_5 0.02486030 -0.035102502 -0.00455149 -0.0603707  0.03964880 ⋯\n",
       "UK01060123_3 0.00810357  0.000212791  0.03396150  0.0266317 -0.01885280 ⋯\n",
       "UK01070117_3 0.00813966 -0.047699600 -0.07926830  0.0263629 -0.08224740 ⋯\n",
       "UK01080111_1 0.00467903 -0.048611499  0.00180036 -0.0352357  0.05012510 ⋯\n",
       "UK01110093_1 0.00699239  0.004351650  0.00268802  0.0166922 -0.00733983 ⋯\n",
       "UK01110093_5 0.00699239  0.004351650  0.00268802  0.0166922 -0.00733983 ⋯\n",
       "             PEER_21      PEER_22     PEER_23      PEER_24     PEER_25    \n",
       "UK01050129_5 -0.001172263 -0.05533835  0.049742281  0.03725176  0.04495762\n",
       "UK01060123_3 -0.012723563  0.02226736 -0.027520355 -0.05782387  0.03653939\n",
       "UK01070117_3  0.040162142  0.06840651  0.000062529  0.05292596  0.01705806\n",
       "UK01080111_1 -0.002928361 -0.03274319  0.088269033  0.07396927 -0.01906336\n",
       "UK01110093_1 -0.108193189  0.01590979 -0.093242317 -0.03037383 -0.07385907\n",
       "UK01110093_5 -0.018054215  0.02094322 -0.008623131  0.09560122 -0.07802416\n",
       "             PEER_26     PEER_27     PEER_28     PEER_29     PEER_30    \n",
       "UK01050129_5  0.12696229  0.08175036  0.05295999 0.164950684 -0.10379386\n",
       "UK01060123_3  0.05959492 -0.02611259 -0.01790827 0.012047987  0.05554044\n",
       "UK01070117_3  0.05931079  0.08962730  0.03772458 0.008254956 -0.01570964\n",
       "UK01080111_1  0.02454052  0.04243371  0.03055887 0.123383760 -0.02276623\n",
       "UK01110093_1 -0.05968965  0.09695430 -0.03975484 0.130198911 -0.05011296\n",
       "UK01110093_5  0.02365689  0.08040638 -0.02349218 0.189585552 -0.07635343"
      ]
     },
     "metadata": {},
     "output_type": "display_data"
    }
   ],
   "source": [
    "held.out <- c(\"Neutrophils\", \"Lymphocytes\", \"Monocytes\", paste0(\"PC\", 1:7), \"Diagnosis\", \"SRSq\", \"sex\")\n",
    "peer <- paste0(\"PEER_\", 1:30)\n",
    "\n",
    "covs <- covs %>%\n",
    "    merge(., demographics, by.x=\"GAinS.ID\", by.y=\"SubjectBarCode\") %>%\n",
    "    merge(., srs.info, by.x=\"Sample.ID\", by.y=0) %>%\n",
    "    dplyr::select(diagnosis=diagnosis, everything()) %>%\n",
    "    dplyr::select(Sample.ID, any_of(held.out), any_of(peer)) %>%\n",
    "    as.data.frame()\n",
    "                                  \n",
    "rownames(covs) <- covs$Sample.ID\n",
    "covs <- covs %>%\n",
    "    dplyr::select(-Sample.ID)\n",
    "                                  \n",
    "head(covs)"
   ]
  },
  {
   "cell_type": "code",
   "execution_count": 8,
   "id": "31b17104-f1be-4f75-a7c2-791888eb337f",
   "metadata": {},
   "outputs": [
    {
     "data": {
      "text/html": [
       "<table class=\"dataframe\">\n",
       "<caption>A data.frame: 6 × 26</caption>\n",
       "<thead>\n",
       "\t<tr><th></th><th scope=col>ME_1</th><th scope=col>ME_2</th><th scope=col>ME_3</th><th scope=col>ME_4</th><th scope=col>ME_5</th><th scope=col>ME_6</th><th scope=col>ME_7</th><th scope=col>ME_8</th><th scope=col>ME_9</th><th scope=col>ME_10</th><th scope=col>⋯</th><th scope=col>ME_17</th><th scope=col>ME_18</th><th scope=col>ME_19</th><th scope=col>ME_20</th><th scope=col>ME_21</th><th scope=col>ME_22</th><th scope=col>ME_23</th><th scope=col>ME_24</th><th scope=col>ME_25</th><th scope=col>ME_26</th></tr>\n",
       "\t<tr><th></th><th scope=col>&lt;dbl&gt;</th><th scope=col>&lt;dbl&gt;</th><th scope=col>&lt;dbl&gt;</th><th scope=col>&lt;dbl&gt;</th><th scope=col>&lt;dbl&gt;</th><th scope=col>&lt;dbl&gt;</th><th scope=col>&lt;dbl&gt;</th><th scope=col>&lt;dbl&gt;</th><th scope=col>&lt;dbl&gt;</th><th scope=col>&lt;dbl&gt;</th><th scope=col>⋯</th><th scope=col>&lt;dbl&gt;</th><th scope=col>&lt;dbl&gt;</th><th scope=col>&lt;dbl&gt;</th><th scope=col>&lt;dbl&gt;</th><th scope=col>&lt;dbl&gt;</th><th scope=col>&lt;dbl&gt;</th><th scope=col>&lt;dbl&gt;</th><th scope=col>&lt;dbl&gt;</th><th scope=col>&lt;dbl&gt;</th><th scope=col>&lt;dbl&gt;</th></tr>\n",
       "</thead>\n",
       "<tbody>\n",
       "\t<tr><th scope=row>UK02270173_3</th><td>-0.01611500</td><td>-8.739980e-03</td><td>0.017559222</td><td>-0.027088697</td><td>-0.014542344</td><td>-0.051399999</td><td> 0.046803451</td><td>-0.034436746</td><td>-0.039087399</td><td> 0.007150941</td><td>⋯</td><td>-0.028049775</td><td>-0.008129458</td><td>-0.0366723556</td><td>-0.025875130</td><td>-0.028752001</td><td>-0.029350268</td><td>-0.033465625</td><td> 0.010493801</td><td> 0.00122623</td><td>-0.024552444</td></tr>\n",
       "\t<tr><th scope=row>UK15130120_3</th><td> 0.02461525</td><td> 6.068727e-05</td><td>0.019840461</td><td>-0.001849399</td><td> 0.015906557</td><td>-0.042843776</td><td> 0.027117922</td><td> 0.008308366</td><td>-0.052541896</td><td> 0.002858297</td><td>⋯</td><td>-0.051424350</td><td> 0.032422585</td><td>-0.0460940914</td><td>-0.020925083</td><td>-0.045620906</td><td> 0.001037124</td><td>-0.046257297</td><td>-0.006227393</td><td> 0.03094529</td><td>-0.009247218</td></tr>\n",
       "\t<tr><th scope=row>UK58000006_3</th><td>-0.02437838</td><td>-2.023844e-02</td><td>0.011494096</td><td>-0.016979651</td><td>-0.012391572</td><td>-0.013535154</td><td> 0.028149929</td><td>-0.036083414</td><td> 0.006142253</td><td>-0.012787746</td><td>⋯</td><td> 0.003129053</td><td>-0.042368235</td><td>-0.0007423982</td><td>-0.016100324</td><td>-0.004058335</td><td>-0.004009045</td><td>-0.033120185</td><td> 0.022609639</td><td>-0.02542599</td><td>-0.015154949</td></tr>\n",
       "\t<tr><th scope=row>UK47010004_3</th><td>-0.01080795</td><td> 8.698390e-03</td><td>0.007577865</td><td> 0.013627892</td><td>-0.004619325</td><td> 0.002682967</td><td>-0.009939209</td><td> 0.006247252</td><td> 0.002732679</td><td> 0.019114337</td><td>⋯</td><td> 0.011108371</td><td>-0.017369738</td><td>-0.0004493176</td><td>-0.008345582</td><td> 0.019301199</td><td>-0.016442041</td><td> 0.005647093</td><td> 0.014716956</td><td>-0.01134338</td><td> 0.010130191</td></tr>\n",
       "\t<tr><th scope=row>UK42020088_5</th><td>-0.01290457</td><td> 3.118465e-02</td><td>0.015750574</td><td>-0.011878781</td><td>-0.017614265</td><td> 0.003339252</td><td> 0.002623253</td><td>-0.001437406</td><td> 0.001814986</td><td> 0.002952335</td><td>⋯</td><td>-0.003885891</td><td> 0.029755732</td><td>-0.0015589206</td><td> 0.031183587</td><td>-0.011606689</td><td>-0.007412970</td><td> 0.003816931</td><td>-0.025490423</td><td> 0.02710027</td><td>-0.015256640</td></tr>\n",
       "\t<tr><th scope=row>UK47490007_3</th><td> 0.01069874</td><td> 3.416032e-02</td><td>0.013941807</td><td> 0.025513984</td><td> 0.009282998</td><td> 0.008292475</td><td>-0.022579807</td><td> 0.027908019</td><td>-0.012258133</td><td>-0.053561098</td><td>⋯</td><td>-0.018626363</td><td> 0.027655567</td><td>-0.0135092661</td><td>-0.027328549</td><td>-0.005307802</td><td>-0.020544032</td><td>-0.016863817</td><td> 0.000202337</td><td> 0.02977359</td><td>-0.003884780</td></tr>\n",
       "</tbody>\n",
       "</table>\n"
      ],
      "text/latex": [
       "A data.frame: 6 × 26\n",
       "\\begin{tabular}{r|lllllllllllllllllllll}\n",
       "  & ME\\_1 & ME\\_2 & ME\\_3 & ME\\_4 & ME\\_5 & ME\\_6 & ME\\_7 & ME\\_8 & ME\\_9 & ME\\_10 & ⋯ & ME\\_17 & ME\\_18 & ME\\_19 & ME\\_20 & ME\\_21 & ME\\_22 & ME\\_23 & ME\\_24 & ME\\_25 & ME\\_26\\\\\n",
       "  & <dbl> & <dbl> & <dbl> & <dbl> & <dbl> & <dbl> & <dbl> & <dbl> & <dbl> & <dbl> & ⋯ & <dbl> & <dbl> & <dbl> & <dbl> & <dbl> & <dbl> & <dbl> & <dbl> & <dbl> & <dbl>\\\\\n",
       "\\hline\n",
       "\tUK02270173\\_3 & -0.01611500 & -8.739980e-03 & 0.017559222 & -0.027088697 & -0.014542344 & -0.051399999 &  0.046803451 & -0.034436746 & -0.039087399 &  0.007150941 & ⋯ & -0.028049775 & -0.008129458 & -0.0366723556 & -0.025875130 & -0.028752001 & -0.029350268 & -0.033465625 &  0.010493801 &  0.00122623 & -0.024552444\\\\\n",
       "\tUK15130120\\_3 &  0.02461525 &  6.068727e-05 & 0.019840461 & -0.001849399 &  0.015906557 & -0.042843776 &  0.027117922 &  0.008308366 & -0.052541896 &  0.002858297 & ⋯ & -0.051424350 &  0.032422585 & -0.0460940914 & -0.020925083 & -0.045620906 &  0.001037124 & -0.046257297 & -0.006227393 &  0.03094529 & -0.009247218\\\\\n",
       "\tUK58000006\\_3 & -0.02437838 & -2.023844e-02 & 0.011494096 & -0.016979651 & -0.012391572 & -0.013535154 &  0.028149929 & -0.036083414 &  0.006142253 & -0.012787746 & ⋯ &  0.003129053 & -0.042368235 & -0.0007423982 & -0.016100324 & -0.004058335 & -0.004009045 & -0.033120185 &  0.022609639 & -0.02542599 & -0.015154949\\\\\n",
       "\tUK47010004\\_3 & -0.01080795 &  8.698390e-03 & 0.007577865 &  0.013627892 & -0.004619325 &  0.002682967 & -0.009939209 &  0.006247252 &  0.002732679 &  0.019114337 & ⋯ &  0.011108371 & -0.017369738 & -0.0004493176 & -0.008345582 &  0.019301199 & -0.016442041 &  0.005647093 &  0.014716956 & -0.01134338 &  0.010130191\\\\\n",
       "\tUK42020088\\_5 & -0.01290457 &  3.118465e-02 & 0.015750574 & -0.011878781 & -0.017614265 &  0.003339252 &  0.002623253 & -0.001437406 &  0.001814986 &  0.002952335 & ⋯ & -0.003885891 &  0.029755732 & -0.0015589206 &  0.031183587 & -0.011606689 & -0.007412970 &  0.003816931 & -0.025490423 &  0.02710027 & -0.015256640\\\\\n",
       "\tUK47490007\\_3 &  0.01069874 &  3.416032e-02 & 0.013941807 &  0.025513984 &  0.009282998 &  0.008292475 & -0.022579807 &  0.027908019 & -0.012258133 & -0.053561098 & ⋯ & -0.018626363 &  0.027655567 & -0.0135092661 & -0.027328549 & -0.005307802 & -0.020544032 & -0.016863817 &  0.000202337 &  0.02977359 & -0.003884780\\\\\n",
       "\\end{tabular}\n"
      ],
      "text/markdown": [
       "\n",
       "A data.frame: 6 × 26\n",
       "\n",
       "| <!--/--> | ME_1 &lt;dbl&gt; | ME_2 &lt;dbl&gt; | ME_3 &lt;dbl&gt; | ME_4 &lt;dbl&gt; | ME_5 &lt;dbl&gt; | ME_6 &lt;dbl&gt; | ME_7 &lt;dbl&gt; | ME_8 &lt;dbl&gt; | ME_9 &lt;dbl&gt; | ME_10 &lt;dbl&gt; | ⋯ ⋯ | ME_17 &lt;dbl&gt; | ME_18 &lt;dbl&gt; | ME_19 &lt;dbl&gt; | ME_20 &lt;dbl&gt; | ME_21 &lt;dbl&gt; | ME_22 &lt;dbl&gt; | ME_23 &lt;dbl&gt; | ME_24 &lt;dbl&gt; | ME_25 &lt;dbl&gt; | ME_26 &lt;dbl&gt; |\n",
       "|---|---|---|---|---|---|---|---|---|---|---|---|---|---|---|---|---|---|---|---|---|---|\n",
       "| UK02270173_3 | -0.01611500 | -8.739980e-03 | 0.017559222 | -0.027088697 | -0.014542344 | -0.051399999 |  0.046803451 | -0.034436746 | -0.039087399 |  0.007150941 | ⋯ | -0.028049775 | -0.008129458 | -0.0366723556 | -0.025875130 | -0.028752001 | -0.029350268 | -0.033465625 |  0.010493801 |  0.00122623 | -0.024552444 |\n",
       "| UK15130120_3 |  0.02461525 |  6.068727e-05 | 0.019840461 | -0.001849399 |  0.015906557 | -0.042843776 |  0.027117922 |  0.008308366 | -0.052541896 |  0.002858297 | ⋯ | -0.051424350 |  0.032422585 | -0.0460940914 | -0.020925083 | -0.045620906 |  0.001037124 | -0.046257297 | -0.006227393 |  0.03094529 | -0.009247218 |\n",
       "| UK58000006_3 | -0.02437838 | -2.023844e-02 | 0.011494096 | -0.016979651 | -0.012391572 | -0.013535154 |  0.028149929 | -0.036083414 |  0.006142253 | -0.012787746 | ⋯ |  0.003129053 | -0.042368235 | -0.0007423982 | -0.016100324 | -0.004058335 | -0.004009045 | -0.033120185 |  0.022609639 | -0.02542599 | -0.015154949 |\n",
       "| UK47010004_3 | -0.01080795 |  8.698390e-03 | 0.007577865 |  0.013627892 | -0.004619325 |  0.002682967 | -0.009939209 |  0.006247252 |  0.002732679 |  0.019114337 | ⋯ |  0.011108371 | -0.017369738 | -0.0004493176 | -0.008345582 |  0.019301199 | -0.016442041 |  0.005647093 |  0.014716956 | -0.01134338 |  0.010130191 |\n",
       "| UK42020088_5 | -0.01290457 |  3.118465e-02 | 0.015750574 | -0.011878781 | -0.017614265 |  0.003339252 |  0.002623253 | -0.001437406 |  0.001814986 |  0.002952335 | ⋯ | -0.003885891 |  0.029755732 | -0.0015589206 |  0.031183587 | -0.011606689 | -0.007412970 |  0.003816931 | -0.025490423 |  0.02710027 | -0.015256640 |\n",
       "| UK47490007_3 |  0.01069874 |  3.416032e-02 | 0.013941807 |  0.025513984 |  0.009282998 |  0.008292475 | -0.022579807 |  0.027908019 | -0.012258133 | -0.053561098 | ⋯ | -0.018626363 |  0.027655567 | -0.0135092661 | -0.027328549 | -0.005307802 | -0.020544032 | -0.016863817 |  0.000202337 |  0.02977359 | -0.003884780 |\n",
       "\n"
      ],
      "text/plain": [
       "             ME_1        ME_2          ME_3        ME_4         ME_5        \n",
       "UK02270173_3 -0.01611500 -8.739980e-03 0.017559222 -0.027088697 -0.014542344\n",
       "UK15130120_3  0.02461525  6.068727e-05 0.019840461 -0.001849399  0.015906557\n",
       "UK58000006_3 -0.02437838 -2.023844e-02 0.011494096 -0.016979651 -0.012391572\n",
       "UK47010004_3 -0.01080795  8.698390e-03 0.007577865  0.013627892 -0.004619325\n",
       "UK42020088_5 -0.01290457  3.118465e-02 0.015750574 -0.011878781 -0.017614265\n",
       "UK47490007_3  0.01069874  3.416032e-02 0.013941807  0.025513984  0.009282998\n",
       "             ME_6         ME_7         ME_8         ME_9         ME_10        ⋯\n",
       "UK02270173_3 -0.051399999  0.046803451 -0.034436746 -0.039087399  0.007150941 ⋯\n",
       "UK15130120_3 -0.042843776  0.027117922  0.008308366 -0.052541896  0.002858297 ⋯\n",
       "UK58000006_3 -0.013535154  0.028149929 -0.036083414  0.006142253 -0.012787746 ⋯\n",
       "UK47010004_3  0.002682967 -0.009939209  0.006247252  0.002732679  0.019114337 ⋯\n",
       "UK42020088_5  0.003339252  0.002623253 -0.001437406  0.001814986  0.002952335 ⋯\n",
       "UK47490007_3  0.008292475 -0.022579807  0.027908019 -0.012258133 -0.053561098 ⋯\n",
       "             ME_17        ME_18        ME_19         ME_20        ME_21       \n",
       "UK02270173_3 -0.028049775 -0.008129458 -0.0366723556 -0.025875130 -0.028752001\n",
       "UK15130120_3 -0.051424350  0.032422585 -0.0460940914 -0.020925083 -0.045620906\n",
       "UK58000006_3  0.003129053 -0.042368235 -0.0007423982 -0.016100324 -0.004058335\n",
       "UK47010004_3  0.011108371 -0.017369738 -0.0004493176 -0.008345582  0.019301199\n",
       "UK42020088_5 -0.003885891  0.029755732 -0.0015589206  0.031183587 -0.011606689\n",
       "UK47490007_3 -0.018626363  0.027655567 -0.0135092661 -0.027328549 -0.005307802\n",
       "             ME_22        ME_23        ME_24        ME_25       ME_26       \n",
       "UK02270173_3 -0.029350268 -0.033465625  0.010493801  0.00122623 -0.024552444\n",
       "UK15130120_3  0.001037124 -0.046257297 -0.006227393  0.03094529 -0.009247218\n",
       "UK58000006_3 -0.004009045 -0.033120185  0.022609639 -0.02542599 -0.015154949\n",
       "UK47010004_3 -0.016442041  0.005647093  0.014716956 -0.01134338  0.010130191\n",
       "UK42020088_5 -0.007412970  0.003816931 -0.025490423  0.02710027 -0.015256640\n",
       "UK47490007_3 -0.020544032 -0.016863817  0.000202337  0.02977359 -0.003884780"
      ]
     },
     "metadata": {},
     "output_type": "display_data"
    }
   ],
   "source": [
    "eigengenes <- read.csv(\"~/gains_team282/nikhil/expression/gene_expression/eigengenes.clr.csv\", row.names=1)\n",
    "\n",
    "head(eigengenes)"
   ]
  },
  {
   "cell_type": "markdown",
   "id": "26c34029-3efa-455d-9485-103384dd4786",
   "metadata": {},
   "source": [
    "## Heatmap"
   ]
  },
  {
   "cell_type": "markdown",
   "id": "076c174a-88e5-4cc9-984f-a19230862509",
   "metadata": {},
   "source": [
    "Before performing single-variant association analysis, we want to check if the signal present in the eigengenes is captured by one of the PEER factors."
   ]
  },
  {
   "cell_type": "code",
   "execution_count": 9,
   "id": "6df18220-afd6-43ac-b99f-f15563ff1cca",
   "metadata": {},
   "outputs": [],
   "source": [
    "all.vars <- merge(covs, eigengenes, by.x=0, by.y=0) %>%\n",
    "    dplyr::select(-Row.names)"
   ]
  },
  {
   "cell_type": "code",
   "execution_count": 11,
   "id": "970676d3-5339-4770-89ea-d97d779932b4",
   "metadata": {},
   "outputs": [
    {
     "data": {
      "text/html": [
       "<strong>png:</strong> 2"
      ],
      "text/latex": [
       "\\textbf{png:} 2"
      ],
      "text/markdown": [
       "**png:** 2"
      ],
      "text/plain": [
       "png \n",
       "  2 "
      ]
     },
     "metadata": {},
     "output_type": "display_data"
    }
   ],
   "source": [
    "colors <- colorRampPalette(brewer.pal(11, \"RdBu\"))(101)\n",
    "\n",
    "cor.mtx <- cor(all.vars)\n",
    "cor.mtx.peer <- cor.mtx[peer, colnames(eigengenes)]\n",
    "cor.mtx.held.out <- cor.mtx[held.out, colnames(eigengenes)]\n",
    "\n",
    "h1 <- Heatmap(cor.mtx.peer, col=colors, heatmap_legend_param=list(\n",
    "    title=\"Correlation\",\n",
    "    at=c(-1, 0, 1)\n",
    "))\n",
    "\n",
    "h2 <- Heatmap(cor.mtx.held.out, col=colors, cluster_rows=F, heatmap_legend_param=list(\n",
    "    title=\"Correlation\",\n",
    "    at=c(-1, 0, 1)\n",
    "))\n",
    "\n",
    "svg(\"04_Expression/results/eigengene_peer_factor_correlation.svg\", width=8, height=8)\n",
    "h1 %v% h2\n",
    "dev.off()"
   ]
  },
  {
   "cell_type": "markdown",
   "id": "cfa945dc-6083-47e8-982c-d3c403cf6375",
   "metadata": {},
   "source": [
    "The PEER factors are built using gene expression data. It's not surprising that many of the eigengenes are associated with the PEER factors. WGCNA discarded around 8000 genes. The residual gene expression variation from these genes is likely captured by some of the PEER factors.\n",
    "\n",
    "The eigengenes are not associated with genotyping PCs (which is good)."
   ]
  },
  {
   "cell_type": "markdown",
   "id": "b8eb0417-04be-46dc-a543-1e58f94529fc",
   "metadata": {},
   "source": [
    "![](../results/eigengene_peer_factor_correlation.svg)"
   ]
  },
  {
   "cell_type": "markdown",
   "id": "32443e95-d375-40f2-a8e2-b2aee70dcd64",
   "metadata": {},
   "source": [
    "Ideally, I will include only sex and genotyping PCs as covariates in this mapping, since everything else (cell counts, SRS group) are important signatures that may be correlated with module eigengenes. I will include PEER factors that are not highly correlated with module eigengenes, since they represent residual variation from the ~8000 genes not included in the modules.\n",
    "\n",
    "Here, I'm using the elbow method to determine which PEER factors are not too correlated with the module eigengenes. For each PEER factor, I calculate the maximum absolute correlation for the set of all eigengenes. The elbow is at around $|\\rho| < 0.4$."
   ]
  },
  {
   "cell_type": "code",
   "execution_count": 12,
   "id": "f62606bd-242d-4ea2-acee-e7ca3e032a61",
   "metadata": {},
   "outputs": [
    {
     "data": {
      "image/png": "[encoded data removed]",
      "text/plain": [
       "plot without title"
      ]
     },
     "metadata": {
      "image/png": {
       "height": 600,
       "width": 600
      }
     },
     "output_type": "display_data"
    }
   ],
   "source": [
    "options(repr.plot.width=10, repr.plot.height=10)\n",
    "as.data.frame(apply(abs(cor.mtx.peer), 1, max)) %>%\n",
    "    dplyr::select(Max.Abs.Cor=1) %>%\n",
    "    dplyr::arrange(Max.Abs.Cor) %>%\n",
    "    dplyr::mutate(PEER.Factor=rownames(.)) %>%\n",
    "    dplyr::mutate(PEER.Factor=factor(PEER.Factor, levels=PEER.Factor)) %>%\n",
    "    ggplot() +\n",
    "    geom_bar(aes(x=PEER.Factor, y=Max.Abs.Cor), stat=\"identity\", color=\"black\", fill=\"white\") +\n",
    "    geom_hline(aes(yintercept=0.4), lty=2, color=\"firebrick1\", size=I(1)) +\n",
    "    xlab(\"PEER Factor\") + ylab(\"Maximum Absolute Correlation\") +\n",
    "    coord_flip() +\n",
    "    ggplot_theme\n",
    "ggsave(\"04_Expression/results/eigengene_peer_factor_maximum_absolute_correlation.svg\", width=10, height=10)"
   ]
  },
  {
   "cell_type": "code",
   "execution_count": 13,
   "id": "8f8fd18f-36ed-4578-9619-2fc2ee381905",
   "metadata": {},
   "outputs": [],
   "source": [
    "peer.factor.names <- names(which(apply(abs(cor.mtx.peer), 1, max) < 0.4))"
   ]
  },
  {
   "cell_type": "markdown",
   "id": "e7e66a4f-1e9c-490b-84e5-ad4193d9036d",
   "metadata": {
    "tags": []
   },
   "source": [
    "## Save Covariates"
   ]
  },
  {
   "cell_type": "markdown",
   "id": "18223439-bc5d-4e9d-9bed-57fbd2228210",
   "metadata": {},
   "source": [
    "Save list of patients (family ID in the first column and individual ID in the second column) to subset the genotyping data using PLINK. There are 638 unique patients with genotyping information."
   ]
  },
  {
   "cell_type": "code",
   "execution_count": 14,
   "id": "13413b35-1092-4b7a-97ef-7a734fdd0dd5",
   "metadata": {},
   "outputs": [],
   "source": [
    "eigengene.patients <- sapply(strsplit(rownames(eigengenes), \"_\"), function(x) { x[1] })\n",
    "\n",
    "geno.fam <- fread(\"~/gains_team282/Genotyping/All_genotyping_merged_filtered_b38_refiltered_rsID.fam\") %>%\n",
    "    dplyr::select(Family.ID=1, Individual.ID=2) %>%\n",
    "    dplyr::mutate(GAinS.ID=gsub(\"^GA\", \"\", Individual.ID)) %>%\n",
    "    dplyr::filter(GAinS.ID %in% eigengene.patients) %>%\n",
    "    unique()"
   ]
  },
  {
   "cell_type": "code",
   "execution_count": 15,
   "id": "93a8597a-1a50-423b-a6e9-fc179ac88d39",
   "metadata": {},
   "outputs": [
    {
     "data": {
      "text/html": [
       "<style>\n",
       ".list-inline {list-style: none; margin:0; padding: 0}\n",
       ".list-inline>li {display: inline-block}\n",
       ".list-inline>li:not(:last-child)::after {content: \"\\00b7\"; padding: 0 .5ex}\n",
       "</style>\n",
       "<ol class=list-inline><li>638</li><li>3</li></ol>\n"
      ],
      "text/latex": [
       "\\begin{enumerate*}\n",
       "\\item 638\n",
       "\\item 3\n",
       "\\end{enumerate*}\n"
      ],
      "text/markdown": [
       "1. 638\n",
       "2. 3\n",
       "\n",
       "\n"
      ],
      "text/plain": [
       "[1] 638   3"
      ]
     },
     "metadata": {},
     "output_type": "display_data"
    }
   ],
   "source": [
    "dim(geno.fam)"
   ]
  },
  {
   "cell_type": "code",
   "execution_count": 16,
   "id": "61dae4de-5a7a-4686-a22c-c981fee7c1b0",
   "metadata": {},
   "outputs": [],
   "source": [
    "write.table(\n",
    "    geno.fam %>% dplyr::select(Family.ID, Individual.ID), \n",
    "    \"~/gains_team282/nikhil/expression/eigengene_sva/mapping_patients.txt\", row.names=F, quote=F, col.names=F, sep=\"\\t\"\n",
    ")"
   ]
  },
  {
   "cell_type": "markdown",
   "id": "af790d1e-583b-4a87-848d-c44edf00a4c5",
   "metadata": {},
   "source": [
    "Save the list of module eigengenes as a text file. This will be used by NextFlow to parallelize the association mapping."
   ]
  },
  {
   "cell_type": "code",
   "execution_count": 17,
   "id": "0b100493-d60e-4f89-b9cf-c966916b8fae",
   "metadata": {},
   "outputs": [],
   "source": [
    "write.table(colnames(eigengenes), \"~/gains_team282/nikhil/expression/eigengene_sva/mapping_eigengenes.txt\", row.names=F, quote=F, col.names=F, sep=\"\\t\")"
   ]
  },
  {
   "cell_type": "markdown",
   "id": "9a99a350-ac3e-4c19-b846-80171620e7b1",
   "metadata": {},
   "source": [
    "### Initial Pass"
   ]
  },
  {
   "cell_type": "markdown",
   "id": "702d915b-5cd6-4276-a5a1-e038d0248a28",
   "metadata": {},
   "source": [
    "I will be using a linear mixed model (LMM) to test for association between genotypes and eigengene expression. In the past, the lab has used a likelihood test (F-Test) to compare a null model of the covariates against an alternative model where the genotype is included. I will be building the following model:\n",
    "\n",
    "1. Let $\\mathbf{E}_i\\in\\mathbb{R}^n$ be a vector representing the values of the $i$-th eigengene.\n",
    "2. Let $\\mathbf{Y}\\in\\mathbb{R}^{n\\times c}$ be a matrix of covariates. These covariates include Sex, 16 PEER factors, and 7 Genotyping PCs.\n",
    "3. Let $\\mathbf{Z}\\in\\mathbb{R}^n$ be a vector representing the random effects. The only random effect in this model is the Patient ID.\n",
    "4. Let $\\mathbf{X}\\in\\mathbb{R}^n$ be a vector representing the genotypes of the patients.\n",
    "5. Let $\\beta\\in\\mathbb{R}$ be a scalar value representing the genotypic effect on eigengene expression.\n",
    "6. Let $\\mathbf{\\alpha}\\in\\mathbb{R}^c$ be a vector of covariate effects on eigengene expression.\n",
    "7. Let $\\gamma\\in\\mathbb{R}$ be a scalar value representing the random effect on eigengene expression.\n",
    "\n",
    "The null model is:\n",
    "\n",
    "$$\\mathbf{E}_i \\sim \\mathbf{Y}\\alpha + \\mathbf{Z}\\gamma$$\n",
    "\n",
    "The alternative model is:\n",
    "\n",
    "$$\\mathbf{E}_i \\sim \\mathbf{X}\\beta + \\mathbf{Y}\\alpha + \\mathbf{Z}\\gamma$$"
   ]
  },
  {
   "cell_type": "markdown",
   "id": "7e20133d-11f0-480f-9bec-4869a8279161",
   "metadata": {},
   "source": [
    "There are 823 samples from the RNA-Seq data that have genotypes as well."
   ]
  },
  {
   "cell_type": "code",
   "execution_count": 18,
   "id": "2c9a6515-9ca4-4974-abb0-c5fabf338edc",
   "metadata": {},
   "outputs": [
    {
     "data": {
      "text/html": [
       "823"
      ],
      "text/latex": [
       "823"
      ],
      "text/markdown": [
       "823"
      ],
      "text/plain": [
       "[1] 823"
      ]
     },
     "metadata": {},
     "output_type": "display_data"
    }
   ],
   "source": [
    "samples.with.genotypes <- rownames(eigengenes)[\n",
    "    sapply(\n",
    "        strsplit(rownames(eigengenes), \"_\"),\n",
    "        function(x) { x[1] %in% geno.fam$GAinS.ID }\n",
    "    )\n",
    "]\n",
    "\n",
    "length(samples.with.genotypes)"
   ]
  },
  {
   "cell_type": "code",
   "execution_count": 19,
   "id": "e8ae2e1e-aee5-4217-bd0a-538807c882b8",
   "metadata": {},
   "outputs": [
    {
     "data": {
      "text/html": [
       "<style>\n",
       ".list-inline {list-style: none; margin:0; padding: 0}\n",
       ".list-inline>li {display: inline-block}\n",
       ".list-inline>li:not(:last-child)::after {content: \"\\00b7\"; padding: 0 .5ex}\n",
       "</style>\n",
       "<ol class=list-inline><li>'PEER_9'</li><li>'PEER_12'</li><li>'PEER_13'</li><li>'PEER_14'</li><li>'PEER_15'</li><li>'PEER_16'</li><li>'PEER_17'</li><li>'PEER_19'</li><li>'PEER_20'</li><li>'PEER_21'</li><li>'PEER_22'</li><li>'PEER_23'</li><li>'PEER_24'</li><li>'PEER_25'</li><li>'PEER_26'</li><li>'PEER_27'</li><li>'PEER_28'</li><li>'PEER_29'</li><li>'PEER_30'</li></ol>\n"
      ],
      "text/latex": [
       "\\begin{enumerate*}\n",
       "\\item 'PEER\\_9'\n",
       "\\item 'PEER\\_12'\n",
       "\\item 'PEER\\_13'\n",
       "\\item 'PEER\\_14'\n",
       "\\item 'PEER\\_15'\n",
       "\\item 'PEER\\_16'\n",
       "\\item 'PEER\\_17'\n",
       "\\item 'PEER\\_19'\n",
       "\\item 'PEER\\_20'\n",
       "\\item 'PEER\\_21'\n",
       "\\item 'PEER\\_22'\n",
       "\\item 'PEER\\_23'\n",
       "\\item 'PEER\\_24'\n",
       "\\item 'PEER\\_25'\n",
       "\\item 'PEER\\_26'\n",
       "\\item 'PEER\\_27'\n",
       "\\item 'PEER\\_28'\n",
       "\\item 'PEER\\_29'\n",
       "\\item 'PEER\\_30'\n",
       "\\end{enumerate*}\n"
      ],
      "text/markdown": [
       "1. 'PEER_9'\n",
       "2. 'PEER_12'\n",
       "3. 'PEER_13'\n",
       "4. 'PEER_14'\n",
       "5. 'PEER_15'\n",
       "6. 'PEER_16'\n",
       "7. 'PEER_17'\n",
       "8. 'PEER_19'\n",
       "9. 'PEER_20'\n",
       "10. 'PEER_21'\n",
       "11. 'PEER_22'\n",
       "12. 'PEER_23'\n",
       "13. 'PEER_24'\n",
       "14. 'PEER_25'\n",
       "15. 'PEER_26'\n",
       "16. 'PEER_27'\n",
       "17. 'PEER_28'\n",
       "18. 'PEER_29'\n",
       "19. 'PEER_30'\n",
       "\n",
       "\n"
      ],
      "text/plain": [
       " [1] \"PEER_9\"  \"PEER_12\" \"PEER_13\" \"PEER_14\" \"PEER_15\" \"PEER_16\" \"PEER_17\"\n",
       " [8] \"PEER_19\" \"PEER_20\" \"PEER_21\" \"PEER_22\" \"PEER_23\" \"PEER_24\" \"PEER_25\"\n",
       "[15] \"PEER_26\" \"PEER_27\" \"PEER_28\" \"PEER_29\" \"PEER_30\""
      ]
     },
     "metadata": {},
     "output_type": "display_data"
    },
    {
     "data": {
      "text/html": [
       "<style>\n",
       ".list-inline {list-style: none; margin:0; padding: 0}\n",
       ".list-inline>li {display: inline-block}\n",
       ".list-inline>li:not(:last-child)::after {content: \"\\00b7\"; padding: 0 .5ex}\n",
       "</style>\n",
       "<ol class=list-inline><li>'ME_1'</li><li>'ME_2'</li><li>'ME_3'</li><li>'ME_4'</li><li>'ME_5'</li><li>'ME_6'</li><li>'ME_7'</li><li>'ME_8'</li><li>'ME_9'</li><li>'ME_10'</li><li>'ME_11'</li><li>'ME_12'</li><li>'ME_13'</li><li>'ME_14'</li><li>'ME_15'</li><li>'ME_16'</li><li>'ME_17'</li><li>'ME_18'</li><li>'ME_19'</li><li>'ME_20'</li><li>'ME_21'</li><li>'ME_22'</li><li>'ME_23'</li><li>'ME_24'</li><li>'ME_25'</li><li>'ME_26'</li></ol>\n"
      ],
      "text/latex": [
       "\\begin{enumerate*}\n",
       "\\item 'ME\\_1'\n",
       "\\item 'ME\\_2'\n",
       "\\item 'ME\\_3'\n",
       "\\item 'ME\\_4'\n",
       "\\item 'ME\\_5'\n",
       "\\item 'ME\\_6'\n",
       "\\item 'ME\\_7'\n",
       "\\item 'ME\\_8'\n",
       "\\item 'ME\\_9'\n",
       "\\item 'ME\\_10'\n",
       "\\item 'ME\\_11'\n",
       "\\item 'ME\\_12'\n",
       "\\item 'ME\\_13'\n",
       "\\item 'ME\\_14'\n",
       "\\item 'ME\\_15'\n",
       "\\item 'ME\\_16'\n",
       "\\item 'ME\\_17'\n",
       "\\item 'ME\\_18'\n",
       "\\item 'ME\\_19'\n",
       "\\item 'ME\\_20'\n",
       "\\item 'ME\\_21'\n",
       "\\item 'ME\\_22'\n",
       "\\item 'ME\\_23'\n",
       "\\item 'ME\\_24'\n",
       "\\item 'ME\\_25'\n",
       "\\item 'ME\\_26'\n",
       "\\end{enumerate*}\n"
      ],
      "text/markdown": [
       "1. 'ME_1'\n",
       "2. 'ME_2'\n",
       "3. 'ME_3'\n",
       "4. 'ME_4'\n",
       "5. 'ME_5'\n",
       "6. 'ME_6'\n",
       "7. 'ME_7'\n",
       "8. 'ME_8'\n",
       "9. 'ME_9'\n",
       "10. 'ME_10'\n",
       "11. 'ME_11'\n",
       "12. 'ME_12'\n",
       "13. 'ME_13'\n",
       "14. 'ME_14'\n",
       "15. 'ME_15'\n",
       "16. 'ME_16'\n",
       "17. 'ME_17'\n",
       "18. 'ME_18'\n",
       "19. 'ME_19'\n",
       "20. 'ME_20'\n",
       "21. 'ME_21'\n",
       "22. 'ME_22'\n",
       "23. 'ME_23'\n",
       "24. 'ME_24'\n",
       "25. 'ME_25'\n",
       "26. 'ME_26'\n",
       "\n",
       "\n"
      ],
      "text/plain": [
       " [1] \"ME_1\"  \"ME_2\"  \"ME_3\"  \"ME_4\"  \"ME_5\"  \"ME_6\"  \"ME_7\"  \"ME_8\"  \"ME_9\" \n",
       "[10] \"ME_10\" \"ME_11\" \"ME_12\" \"ME_13\" \"ME_14\" \"ME_15\" \"ME_16\" \"ME_17\" \"ME_18\"\n",
       "[19] \"ME_19\" \"ME_20\" \"ME_21\" \"ME_22\" \"ME_23\" \"ME_24\" \"ME_25\" \"ME_26\""
      ]
     },
     "metadata": {},
     "output_type": "display_data"
    },
    {
     "data": {
      "text/html": [
       "<style>\n",
       ".list-inline {list-style: none; margin:0; padding: 0}\n",
       ".list-inline>li {display: inline-block}\n",
       ".list-inline>li:not(:last-child)::after {content: \"\\00b7\"; padding: 0 .5ex}\n",
       "</style>\n",
       "<ol class=list-inline><li>'sex'</li><li>'PC1'</li><li>'PC2'</li><li>'PC3'</li><li>'PC4'</li><li>'PC5'</li><li>'PC6'</li><li>'PC7'</li></ol>\n"
      ],
      "text/latex": [
       "\\begin{enumerate*}\n",
       "\\item 'sex'\n",
       "\\item 'PC1'\n",
       "\\item 'PC2'\n",
       "\\item 'PC3'\n",
       "\\item 'PC4'\n",
       "\\item 'PC5'\n",
       "\\item 'PC6'\n",
       "\\item 'PC7'\n",
       "\\end{enumerate*}\n"
      ],
      "text/markdown": [
       "1. 'sex'\n",
       "2. 'PC1'\n",
       "3. 'PC2'\n",
       "4. 'PC3'\n",
       "5. 'PC4'\n",
       "6. 'PC5'\n",
       "7. 'PC6'\n",
       "8. 'PC7'\n",
       "\n",
       "\n"
      ],
      "text/plain": [
       "[1] \"sex\" \"PC1\" \"PC2\" \"PC3\" \"PC4\" \"PC5\" \"PC6\" \"PC7\""
      ]
     },
     "metadata": {},
     "output_type": "display_data"
    },
    {
     "data": {
      "text/html": [
       "'GAinS.ID'"
      ],
      "text/latex": [
       "'GAinS.ID'"
      ],
      "text/markdown": [
       "'GAinS.ID'"
      ],
      "text/plain": [
       "[1] \"GAinS.ID\""
      ]
     },
     "metadata": {},
     "output_type": "display_data"
    }
   ],
   "source": [
    "peer.factor.names\n",
    "\n",
    "eigen.names <- colnames(eigengenes)\n",
    "eigen.names\n",
    "\n",
    "cov.names <- c(\"sex\", paste0(\"PC\", 1:7))\n",
    "cov.names\n",
    "\n",
    "rand.effect.names <- c(\"GAinS.ID\")\n",
    "rand.effect.names"
   ]
  },
  {
   "cell_type": "code",
   "execution_count": 20,
   "id": "9ca7f99f-8647-4923-8eb8-1b8969407e4c",
   "metadata": {},
   "outputs": [],
   "source": [
    "mapping.data <- merge(eigengenes[samples.with.genotypes,], covs[samples.with.genotypes,], by.x=0, by.y=0) %>%\n",
    "    dplyr::mutate(GAinS.ID.NonPrefix=sapply(strsplit(Row.names, \"_\"), function(x) { x[1] })) %>%\n",
    "    merge(., geno.fam, by.x=\"GAinS.ID.NonPrefix\", by.y=\"GAinS.ID\") %>%\n",
    "    dplyr::select(GAinS.ID=Individual.ID, everything()) %>%\n",
    "    dplyr::select(Sample.ID=Row.names, any_of(rand.effect.names), any_of(eigen.names), any_of(cov.names), any_of(peer.factor.names))"
   ]
  },
  {
   "cell_type": "markdown",
   "id": "3467b47e-fe69-4d05-a429-96a961835b98",
   "metadata": {},
   "source": [
    "Save the mapping data design matrix for linear mixed modeling."
   ]
  },
  {
   "cell_type": "code",
   "execution_count": 21,
   "id": "0ea89bc0-7ba5-41be-8f25-cf2961c20975",
   "metadata": {},
   "outputs": [],
   "source": [
    "write.csv(mapping.data, \"~/gains_team282/nikhil/expression/eigengene_sva/mapping_data.csv\", row.names=F)"
   ]
  },
  {
   "cell_type": "markdown",
   "id": "79aa6653-2780-457b-8d75-66f0c3af7861",
   "metadata": {},
   "source": [
    "### Additional Covariates"
   ]
  },
  {
   "cell_type": "markdown",
   "id": "6706384b-31a0-43d1-a130-943b30004232",
   "metadata": {},
   "source": [
    "The initial pass demonstrated that cell proportions are confounders for detecting mQTL. I will add these to the covariates.\n",
    "\n",
    "1. Let $\\mathbf{E}_i\\in\\mathbb{R}^n$ be a vector representing the values of the $i$-th eigengene.\n",
    "2. Let $\\mathbf{Y}\\in\\mathbb{R}^{n\\times c}$ be a matrix of covariates. These covariates include Sex, Neutrophils, Lymphocytes, Monocytes, 16 PEER factors, and 7 Genotyping PCs.\n",
    "3. Let $\\mathbf{Z}\\in\\mathbb{R}^n$ be a vector representing the random effects. The only random effect in this model is the Patient ID.\n",
    "4. Let $\\mathbf{X}\\in\\mathbb{R}^n$ be a vector representing the genotypes of the patients.\n",
    "5. Let $\\beta\\in\\mathbb{R}$ be a scalar value representing the genotypic effect on eigengene expression.\n",
    "6. Let $\\mathbf{\\alpha}\\in\\mathbb{R}^c$ be a vector of covariate effects on eigengene expression.\n",
    "7. Let $\\gamma\\in\\mathbb{R}$ be a scalar value representing the random effect on eigengene expression.\n",
    "\n",
    "The null model is:\n",
    "\n",
    "$$\\mathbf{E}_i \\sim \\mathbf{Y}\\alpha + \\mathbf{Z}\\gamma$$\n",
    "\n",
    "The alternative model is:\n",
    "\n",
    "$$\\mathbf{E}_i \\sim \\mathbf{X}\\beta + \\mathbf{Y}\\alpha + \\mathbf{Z}\\gamma$$"
   ]
  },
  {
   "cell_type": "markdown",
   "id": "f9e14ad3-0817-4b3a-b48b-38377fc72cb1",
   "metadata": {},
   "source": [
    "There are 823 samples from the RNA-Seq data that have genotypes as well."
   ]
  },
  {
   "cell_type": "code",
   "execution_count": 22,
   "id": "06c4ac4b-9bc5-4e87-8757-3cc03b02ceb1",
   "metadata": {},
   "outputs": [
    {
     "data": {
      "text/html": [
       "823"
      ],
      "text/latex": [
       "823"
      ],
      "text/markdown": [
       "823"
      ],
      "text/plain": [
       "[1] 823"
      ]
     },
     "metadata": {},
     "output_type": "display_data"
    }
   ],
   "source": [
    "samples.with.genotypes <- rownames(eigengenes)[\n",
    "    sapply(\n",
    "        strsplit(rownames(eigengenes), \"_\"),\n",
    "        function(x) { x[1] %in% geno.fam$GAinS.ID }\n",
    "    )\n",
    "]\n",
    "\n",
    "length(samples.with.genotypes)"
   ]
  },
  {
   "cell_type": "code",
   "execution_count": 23,
   "id": "04558d2b-a7ac-463d-b826-95de207efb7a",
   "metadata": {},
   "outputs": [
    {
     "data": {
      "text/html": [
       "<style>\n",
       ".list-inline {list-style: none; margin:0; padding: 0}\n",
       ".list-inline>li {display: inline-block}\n",
       ".list-inline>li:not(:last-child)::after {content: \"\\00b7\"; padding: 0 .5ex}\n",
       "</style>\n",
       "<ol class=list-inline><li>'PEER_9'</li><li>'PEER_12'</li><li>'PEER_13'</li><li>'PEER_14'</li><li>'PEER_15'</li><li>'PEER_16'</li><li>'PEER_17'</li><li>'PEER_19'</li><li>'PEER_20'</li><li>'PEER_21'</li><li>'PEER_22'</li><li>'PEER_23'</li><li>'PEER_24'</li><li>'PEER_25'</li><li>'PEER_26'</li><li>'PEER_27'</li><li>'PEER_28'</li><li>'PEER_29'</li><li>'PEER_30'</li></ol>\n"
      ],
      "text/latex": [
       "\\begin{enumerate*}\n",
       "\\item 'PEER\\_9'\n",
       "\\item 'PEER\\_12'\n",
       "\\item 'PEER\\_13'\n",
       "\\item 'PEER\\_14'\n",
       "\\item 'PEER\\_15'\n",
       "\\item 'PEER\\_16'\n",
       "\\item 'PEER\\_17'\n",
       "\\item 'PEER\\_19'\n",
       "\\item 'PEER\\_20'\n",
       "\\item 'PEER\\_21'\n",
       "\\item 'PEER\\_22'\n",
       "\\item 'PEER\\_23'\n",
       "\\item 'PEER\\_24'\n",
       "\\item 'PEER\\_25'\n",
       "\\item 'PEER\\_26'\n",
       "\\item 'PEER\\_27'\n",
       "\\item 'PEER\\_28'\n",
       "\\item 'PEER\\_29'\n",
       "\\item 'PEER\\_30'\n",
       "\\end{enumerate*}\n"
      ],
      "text/markdown": [
       "1. 'PEER_9'\n",
       "2. 'PEER_12'\n",
       "3. 'PEER_13'\n",
       "4. 'PEER_14'\n",
       "5. 'PEER_15'\n",
       "6. 'PEER_16'\n",
       "7. 'PEER_17'\n",
       "8. 'PEER_19'\n",
       "9. 'PEER_20'\n",
       "10. 'PEER_21'\n",
       "11. 'PEER_22'\n",
       "12. 'PEER_23'\n",
       "13. 'PEER_24'\n",
       "14. 'PEER_25'\n",
       "15. 'PEER_26'\n",
       "16. 'PEER_27'\n",
       "17. 'PEER_28'\n",
       "18. 'PEER_29'\n",
       "19. 'PEER_30'\n",
       "\n",
       "\n"
      ],
      "text/plain": [
       " [1] \"PEER_9\"  \"PEER_12\" \"PEER_13\" \"PEER_14\" \"PEER_15\" \"PEER_16\" \"PEER_17\"\n",
       " [8] \"PEER_19\" \"PEER_20\" \"PEER_21\" \"PEER_22\" \"PEER_23\" \"PEER_24\" \"PEER_25\"\n",
       "[15] \"PEER_26\" \"PEER_27\" \"PEER_28\" \"PEER_29\" \"PEER_30\""
      ]
     },
     "metadata": {},
     "output_type": "display_data"
    },
    {
     "data": {
      "text/html": [
       "<style>\n",
       ".list-inline {list-style: none; margin:0; padding: 0}\n",
       ".list-inline>li {display: inline-block}\n",
       ".list-inline>li:not(:last-child)::after {content: \"\\00b7\"; padding: 0 .5ex}\n",
       "</style>\n",
       "<ol class=list-inline><li>'ME_1'</li><li>'ME_2'</li><li>'ME_3'</li><li>'ME_4'</li><li>'ME_5'</li><li>'ME_6'</li><li>'ME_7'</li><li>'ME_8'</li><li>'ME_9'</li><li>'ME_10'</li><li>'ME_11'</li><li>'ME_12'</li><li>'ME_13'</li><li>'ME_14'</li><li>'ME_15'</li><li>'ME_16'</li><li>'ME_17'</li><li>'ME_18'</li><li>'ME_19'</li><li>'ME_20'</li><li>'ME_21'</li><li>'ME_22'</li><li>'ME_23'</li><li>'ME_24'</li><li>'ME_25'</li><li>'ME_26'</li></ol>\n"
      ],
      "text/latex": [
       "\\begin{enumerate*}\n",
       "\\item 'ME\\_1'\n",
       "\\item 'ME\\_2'\n",
       "\\item 'ME\\_3'\n",
       "\\item 'ME\\_4'\n",
       "\\item 'ME\\_5'\n",
       "\\item 'ME\\_6'\n",
       "\\item 'ME\\_7'\n",
       "\\item 'ME\\_8'\n",
       "\\item 'ME\\_9'\n",
       "\\item 'ME\\_10'\n",
       "\\item 'ME\\_11'\n",
       "\\item 'ME\\_12'\n",
       "\\item 'ME\\_13'\n",
       "\\item 'ME\\_14'\n",
       "\\item 'ME\\_15'\n",
       "\\item 'ME\\_16'\n",
       "\\item 'ME\\_17'\n",
       "\\item 'ME\\_18'\n",
       "\\item 'ME\\_19'\n",
       "\\item 'ME\\_20'\n",
       "\\item 'ME\\_21'\n",
       "\\item 'ME\\_22'\n",
       "\\item 'ME\\_23'\n",
       "\\item 'ME\\_24'\n",
       "\\item 'ME\\_25'\n",
       "\\item 'ME\\_26'\n",
       "\\end{enumerate*}\n"
      ],
      "text/markdown": [
       "1. 'ME_1'\n",
       "2. 'ME_2'\n",
       "3. 'ME_3'\n",
       "4. 'ME_4'\n",
       "5. 'ME_5'\n",
       "6. 'ME_6'\n",
       "7. 'ME_7'\n",
       "8. 'ME_8'\n",
       "9. 'ME_9'\n",
       "10. 'ME_10'\n",
       "11. 'ME_11'\n",
       "12. 'ME_12'\n",
       "13. 'ME_13'\n",
       "14. 'ME_14'\n",
       "15. 'ME_15'\n",
       "16. 'ME_16'\n",
       "17. 'ME_17'\n",
       "18. 'ME_18'\n",
       "19. 'ME_19'\n",
       "20. 'ME_20'\n",
       "21. 'ME_21'\n",
       "22. 'ME_22'\n",
       "23. 'ME_23'\n",
       "24. 'ME_24'\n",
       "25. 'ME_25'\n",
       "26. 'ME_26'\n",
       "\n",
       "\n"
      ],
      "text/plain": [
       " [1] \"ME_1\"  \"ME_2\"  \"ME_3\"  \"ME_4\"  \"ME_5\"  \"ME_6\"  \"ME_7\"  \"ME_8\"  \"ME_9\" \n",
       "[10] \"ME_10\" \"ME_11\" \"ME_12\" \"ME_13\" \"ME_14\" \"ME_15\" \"ME_16\" \"ME_17\" \"ME_18\"\n",
       "[19] \"ME_19\" \"ME_20\" \"ME_21\" \"ME_22\" \"ME_23\" \"ME_24\" \"ME_25\" \"ME_26\""
      ]
     },
     "metadata": {},
     "output_type": "display_data"
    },
    {
     "data": {
      "text/html": [
       "<style>\n",
       ".list-inline {list-style: none; margin:0; padding: 0}\n",
       ".list-inline>li {display: inline-block}\n",
       ".list-inline>li:not(:last-child)::after {content: \"\\00b7\"; padding: 0 .5ex}\n",
       "</style>\n",
       "<ol class=list-inline><li>'sex'</li><li>'Neutrophils'</li><li>'Lymphocytes'</li><li>'Monocytes'</li><li>'PC1'</li><li>'PC2'</li><li>'PC3'</li><li>'PC4'</li><li>'PC5'</li><li>'PC6'</li><li>'PC7'</li></ol>\n"
      ],
      "text/latex": [
       "\\begin{enumerate*}\n",
       "\\item 'sex'\n",
       "\\item 'Neutrophils'\n",
       "\\item 'Lymphocytes'\n",
       "\\item 'Monocytes'\n",
       "\\item 'PC1'\n",
       "\\item 'PC2'\n",
       "\\item 'PC3'\n",
       "\\item 'PC4'\n",
       "\\item 'PC5'\n",
       "\\item 'PC6'\n",
       "\\item 'PC7'\n",
       "\\end{enumerate*}\n"
      ],
      "text/markdown": [
       "1. 'sex'\n",
       "2. 'Neutrophils'\n",
       "3. 'Lymphocytes'\n",
       "4. 'Monocytes'\n",
       "5. 'PC1'\n",
       "6. 'PC2'\n",
       "7. 'PC3'\n",
       "8. 'PC4'\n",
       "9. 'PC5'\n",
       "10. 'PC6'\n",
       "11. 'PC7'\n",
       "\n",
       "\n"
      ],
      "text/plain": [
       " [1] \"sex\"         \"Neutrophils\" \"Lymphocytes\" \"Monocytes\"   \"PC1\"        \n",
       " [6] \"PC2\"         \"PC3\"         \"PC4\"         \"PC5\"         \"PC6\"        \n",
       "[11] \"PC7\"        "
      ]
     },
     "metadata": {},
     "output_type": "display_data"
    },
    {
     "data": {
      "text/html": [
       "'GAinS.ID'"
      ],
      "text/latex": [
       "'GAinS.ID'"
      ],
      "text/markdown": [
       "'GAinS.ID'"
      ],
      "text/plain": [
       "[1] \"GAinS.ID\""
      ]
     },
     "metadata": {},
     "output_type": "display_data"
    }
   ],
   "source": [
    "peer.factor.names\n",
    "\n",
    "eigen.names <- colnames(eigengenes)\n",
    "eigen.names\n",
    "\n",
    "cov.names <- c(\"sex\", \"Neutrophils\", \"Lymphocytes\", \"Monocytes\", paste0(\"PC\", 1:7))\n",
    "cov.names\n",
    "\n",
    "rand.effect.names <- c(\"GAinS.ID\")\n",
    "rand.effect.names"
   ]
  },
  {
   "cell_type": "code",
   "execution_count": 24,
   "id": "745ebd75-dcb5-48c5-b06c-6fec48f7198c",
   "metadata": {},
   "outputs": [],
   "source": [
    "mapping.data <- merge(eigengenes[samples.with.genotypes,], covs[samples.with.genotypes,], by.x=0, by.y=0) %>%\n",
    "    dplyr::mutate(GAinS.ID.NonPrefix=sapply(strsplit(Row.names, \"_\"), function(x) { x[1] })) %>%\n",
    "    merge(., geno.fam, by.x=\"GAinS.ID.NonPrefix\", by.y=\"GAinS.ID\") %>%\n",
    "    dplyr::select(GAinS.ID=Individual.ID, everything()) %>%\n",
    "    dplyr::select(Sample.ID=Row.names, any_of(rand.effect.names), any_of(eigen.names), any_of(cov.names), any_of(peer.factor.names))"
   ]
  },
  {
   "cell_type": "markdown",
   "id": "e888b1c2-5f8f-42a4-a5a5-787f39e8acb9",
   "metadata": {},
   "source": [
    "Save the mapping data design matrix for linear mixed modeling."
   ]
  },
  {
   "cell_type": "code",
   "execution_count": 25,
   "id": "f3ef8ac1-a9a0-4beb-8bcf-c7e446184a51",
   "metadata": {},
   "outputs": [],
   "source": [
    "write.csv(mapping.data, \"~/gains_team282/nikhil/expression/eigengene_sva/mapping_data_cell_proportions.csv\", row.names=F)"
   ]
  },
  {
   "cell_type": "code",
   "execution_count": null,
   "id": "ae6fca8a-5ad8-4b77-a9a0-fb43c40735ee",
   "metadata": {},
   "outputs": [],
   "source": []
  }
 ],
 "metadata": {
  "kernelspec": {
   "display_name": "R",
   "language": "R",
   "name": "ir"
  },
  "language_info": {
   "codemirror_mode": "r",
   "file_extension": ".r",
   "mimetype": "text/x-r-source",
   "name": "R",
   "pygments_lexer": "r",
   "version": "4.0.5"
  }
 },
 "nbformat": 4,
 "nbformat_minor": 5
}
