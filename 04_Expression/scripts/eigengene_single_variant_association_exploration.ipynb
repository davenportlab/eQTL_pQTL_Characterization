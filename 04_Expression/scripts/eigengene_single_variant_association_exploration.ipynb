{
 "cells": [
  {
   "cell_type": "markdown",
   "id": "40ded556-debe-4c09-a412-cb0c8c47f474",
   "metadata": {},
   "source": [
    "# Eigengene Single-Variant Association Exploration\n",
    "\n",
    "**Created**: 25 November 2021"
   ]
  },
  {
   "cell_type": "markdown",
   "id": "133acb3a-8f08-46dc-bab6-7c8d4afe4803",
   "metadata": {},
   "source": [
    "## Environment"
   ]
  },
  {
   "cell_type": "code",
   "execution_count": 1,
   "id": "5aa6f310-53bc-4e4a-9f26-62e0716b2c2e",
   "metadata": {},
   "outputs": [
    {
     "name": "stderr",
     "output_type": "stream",
     "text": [
      "========================================\n",
      "ComplexHeatmap version 2.10.0\n",
      "Bioconductor page: http://bioconductor.org/packages/ComplexHeatmap/\n",
      "Github page: https://github.com/jokergoo/ComplexHeatmap\n",
      "Documentation: http://jokergoo.github.io/ComplexHeatmap-reference\n",
      "\n",
      "If you use it in published research, please cite:\n",
      "Gu, Z. Complex heatmaps reveal patterns and correlations in multidimensional \n",
      "  genomic data. Bioinformatics 2016.\n",
      "\n",
      "The new InteractiveComplexHeatmap package can directly export static \n",
      "complex heatmaps into an interactive Shiny app with zero effort. Have a try!\n",
      "\n",
      "This message can be suppressed by:\n",
      "  suppressPackageStartupMessages(library(ComplexHeatmap))\n",
      "========================================\n",
      "\n",
      "\n"
     ]
    }
   ],
   "source": [
    "rm(list=ls())\n",
    "\n",
    "if (!requireNamespace(\"BiocManager\", quietly = TRUE)) {\n",
    "    install.packages(\"BiocManager\")\n",
    "}\n",
    "\n",
    "if (!require(\"ComplexHeatmap\", quietly=TRUE)) {\n",
    "    BiocManager::install(\"ComplexHeatmap\")\n",
    "}"
   ]
  },
  {
   "cell_type": "code",
   "execution_count": 2,
   "id": "b57f682b-54fb-470e-b766-b9f21ae2d9b2",
   "metadata": {},
   "outputs": [
    {
     "name": "stderr",
     "output_type": "stream",
     "text": [
      "── \u001b[1mAttaching packages\u001b[22m ─────────────────────────────────────────────────────────────────────────────────────── tidyverse 1.3.1 ──\n",
      "\n",
      "\u001b[32m✔\u001b[39m \u001b[34mggplot2\u001b[39m 3.3.5     \u001b[32m✔\u001b[39m \u001b[34mpurrr  \u001b[39m 0.3.4\n",
      "\u001b[32m✔\u001b[39m \u001b[34mtibble \u001b[39m 3.1.6     \u001b[32m✔\u001b[39m \u001b[34mdplyr  \u001b[39m 1.0.7\n",
      "\u001b[32m✔\u001b[39m \u001b[34mtidyr  \u001b[39m 1.1.4     \u001b[32m✔\u001b[39m \u001b[34mstringr\u001b[39m 1.4.0\n",
      "\u001b[32m✔\u001b[39m \u001b[34mreadr  \u001b[39m 2.1.0     \u001b[32m✔\u001b[39m \u001b[34mforcats\u001b[39m 0.5.1\n",
      "\n",
      "── \u001b[1mConflicts\u001b[22m ────────────────────────────────────────────────────────────────────────────────────────── tidyverse_conflicts() ──\n",
      "\u001b[31m✖\u001b[39m \u001b[34mdplyr\u001b[39m::\u001b[32mfilter()\u001b[39m masks \u001b[34mstats\u001b[39m::filter()\n",
      "\u001b[31m✖\u001b[39m \u001b[34mdplyr\u001b[39m::\u001b[32mlag()\u001b[39m    masks \u001b[34mstats\u001b[39m::lag()\n",
      "\n"
     ]
    }
   ],
   "source": [
    "rm(list=ls())\n",
    "\n",
    "library(tidyverse)\n",
    "library(RColorBrewer)\n",
    "library(ComplexHeatmap)\n",
    "\n",
    "setwd(\"~/eQTL_pQTL_Characterization/\")\n",
    "\n",
    "source(\"04_Expression/scripts/utils/ggplot_theme.R\")"
   ]
  },
  {
   "cell_type": "markdown",
   "id": "53e08f67-624c-4222-b51c-026831dd085b",
   "metadata": {},
   "source": [
    "## Load Data"
   ]
  },
  {
   "cell_type": "code",
   "execution_count": 3,
   "id": "35ab229e-25c4-404d-8390-01f32b34e94f",
   "metadata": {},
   "outputs": [],
   "source": [
    "demographics <- readxl::read_xls(\"/nfs/team282/data/gains_team282/ClinicalData/DEMO_12jun2019.xls\", sheet=1) %>%\n",
    "    dplyr::mutate(sex=as.numeric(sex)) %>%\n",
    "    dplyr::mutate(diagnosis=as.numeric(diagnosis))\n",
    "\n",
    "srs.info <- read.table(\"/nfs/team282/data/gains_team282/full-gains-SRS-predictions_mNN-RF.tsv\", header=T)\n",
    "srs.info <- srs.info %>%\n",
    "  dplyr::filter(Assay==\"RNA-seq\")\n",
    "row.names(srs.info) <- srs.info$Sample_id"
   ]
  },
  {
   "cell_type": "code",
   "execution_count": 4,
   "id": "778d7314-6a62-4e86-a35a-68daaabfe7d5",
   "metadata": {},
   "outputs": [
    {
     "data": {
      "text/html": [
       "<table class=\"dataframe\">\n",
       "<caption>A data.frame: 6 × 43</caption>\n",
       "<thead>\n",
       "\t<tr><th></th><th scope=col>neutrophils</th><th scope=col>lymphocytes</th><th scope=col>monocytes</th><th scope=col>genopc1</th><th scope=col>genopc2</th><th scope=col>genopc3</th><th scope=col>genopc4</th><th scope=col>genopc5</th><th scope=col>genopc6</th><th scope=col>genopc7</th><th scope=col>⋯</th><th scope=col>peer21</th><th scope=col>peer22</th><th scope=col>peer23</th><th scope=col>peer24</th><th scope=col>peer25</th><th scope=col>peer26</th><th scope=col>peer27</th><th scope=col>peer28</th><th scope=col>peer29</th><th scope=col>peer30</th></tr>\n",
       "\t<tr><th></th><th scope=col>&lt;dbl&gt;</th><th scope=col>&lt;dbl&gt;</th><th scope=col>&lt;dbl&gt;</th><th scope=col>&lt;dbl&gt;</th><th scope=col>&lt;dbl&gt;</th><th scope=col>&lt;dbl&gt;</th><th scope=col>&lt;dbl&gt;</th><th scope=col>&lt;dbl&gt;</th><th scope=col>&lt;dbl&gt;</th><th scope=col>&lt;dbl&gt;</th><th scope=col>⋯</th><th scope=col>&lt;dbl&gt;</th><th scope=col>&lt;dbl&gt;</th><th scope=col>&lt;dbl&gt;</th><th scope=col>&lt;dbl&gt;</th><th scope=col>&lt;dbl&gt;</th><th scope=col>&lt;dbl&gt;</th><th scope=col>&lt;dbl&gt;</th><th scope=col>&lt;dbl&gt;</th><th scope=col>&lt;dbl&gt;</th><th scope=col>&lt;dbl&gt;</th></tr>\n",
       "</thead>\n",
       "<tbody>\n",
       "\t<tr><th scope=row>GAUKRV019000_1</th><td>-0.8073015</td><td> 1.2899532</td><td>-0.3306479</td><td>-0.00797112</td><td>-0.00975609</td><td> 0.00993519</td><td>-0.000764002</td><td>-0.01361440</td><td>-0.0168163</td><td> 0.03379570</td><td>⋯</td><td>-0.056328204</td><td> 0.05654949</td><td> 0.011027411</td><td>-0.12163381</td><td>-0.15871243</td><td>-0.020116024</td><td> 0.05322395</td><td> 0.20920065</td><td> 0.067332461</td><td> 0.002120495</td></tr>\n",
       "\t<tr><th scope=row>GAUKRV022000_5</th><td> 0.1522242</td><td> 0.1028048</td><td>-0.3064760</td><td>-0.00789900</td><td>-0.00248933</td><td> 0.01407940</td><td>-0.000444723</td><td>-0.00779622</td><td> 0.0134123</td><td> 0.01055060</td><td>⋯</td><td> 0.051952347</td><td> 0.08752537</td><td>-0.008557647</td><td>-0.07581729</td><td> 0.10520440</td><td>-0.033256195</td><td> 0.15627065</td><td> 0.01259328</td><td> 0.097373560</td><td> 0.026822805</td></tr>\n",
       "\t<tr><th scope=row>GAUKRV025000_1</th><td> 1.6725861</td><td>-2.0472300</td><td>-0.6475710</td><td>-0.00630636</td><td>-0.00565556</td><td> 0.00544204</td><td>-0.006153720</td><td> 0.02691800</td><td> 0.0170306</td><td>-0.00581115</td><td>⋯</td><td>-0.007477045</td><td> 0.12309761</td><td> 0.144504607</td><td>-0.17137499</td><td>-0.18539122</td><td> 0.028275222</td><td>-0.08019399</td><td>-0.05088492</td><td> 0.001190379</td><td> 0.134895086</td></tr>\n",
       "\t<tr><th scope=row>GAUKRV026000_3</th><td> 0.8200983</td><td>-0.7614648</td><td>-0.4821526</td><td>-0.00830483</td><td> 0.04411810</td><td>-0.07064480</td><td> 0.012235000</td><td> 0.00409627</td><td> 0.0220226</td><td> 0.00989294</td><td>⋯</td><td>-0.023836412</td><td> 0.01272829</td><td>-0.011561833</td><td> 0.07725014</td><td> 0.15252110</td><td>-0.006929807</td><td>-0.15863317</td><td>-0.12423396</td><td>-0.102433018</td><td>-0.055766821</td></tr>\n",
       "\t<tr><th scope=row>GAUKRV029000_1</th><td> 0.3878375</td><td>-0.1522242</td><td>-0.4244336</td><td>-0.00633520</td><td>-0.00646993</td><td> 0.01885420</td><td>-0.009767510</td><td>-0.00386636</td><td> 0.0220917</td><td> 0.01587240</td><td>⋯</td><td> 0.024351157</td><td>-0.06766874</td><td> 0.113088124</td><td>-0.03273494</td><td> 0.04314654</td><td> 0.106571607</td><td> 0.01641975</td><td> 0.02920497</td><td>-0.031638816</td><td> 0.020372391</td></tr>\n",
       "\t<tr><th scope=row>GAUKRV029000_3</th><td> 0.8461041</td><td>-0.4718551</td><td>-0.9231241</td><td>-0.00633520</td><td>-0.00646993</td><td> 0.01885420</td><td>-0.009767510</td><td>-0.00386636</td><td> 0.0220917</td><td> 0.01587240</td><td>⋯</td><td>-0.024305742</td><td>-0.01186814</td><td>-0.063762262</td><td> 0.04897572</td><td>-0.04834069</td><td> 0.094003201</td><td> 0.21320857</td><td> 0.11896042</td><td>-0.349988818</td><td>-0.116213322</td></tr>\n",
       "</tbody>\n",
       "</table>\n"
      ],
      "text/latex": [
       "A data.frame: 6 × 43\n",
       "\\begin{tabular}{r|lllllllllllllllllllll}\n",
       "  & neutrophils & lymphocytes & monocytes & genopc1 & genopc2 & genopc3 & genopc4 & genopc5 & genopc6 & genopc7 & ⋯ & peer21 & peer22 & peer23 & peer24 & peer25 & peer26 & peer27 & peer28 & peer29 & peer30\\\\\n",
       "  & <dbl> & <dbl> & <dbl> & <dbl> & <dbl> & <dbl> & <dbl> & <dbl> & <dbl> & <dbl> & ⋯ & <dbl> & <dbl> & <dbl> & <dbl> & <dbl> & <dbl> & <dbl> & <dbl> & <dbl> & <dbl>\\\\\n",
       "\\hline\n",
       "\tGAUKRV019000\\_1 & -0.8073015 &  1.2899532 & -0.3306479 & -0.00797112 & -0.00975609 &  0.00993519 & -0.000764002 & -0.01361440 & -0.0168163 &  0.03379570 & ⋯ & -0.056328204 &  0.05654949 &  0.011027411 & -0.12163381 & -0.15871243 & -0.020116024 &  0.05322395 &  0.20920065 &  0.067332461 &  0.002120495\\\\\n",
       "\tGAUKRV022000\\_5 &  0.1522242 &  0.1028048 & -0.3064760 & -0.00789900 & -0.00248933 &  0.01407940 & -0.000444723 & -0.00779622 &  0.0134123 &  0.01055060 & ⋯ &  0.051952347 &  0.08752537 & -0.008557647 & -0.07581729 &  0.10520440 & -0.033256195 &  0.15627065 &  0.01259328 &  0.097373560 &  0.026822805\\\\\n",
       "\tGAUKRV025000\\_1 &  1.6725861 & -2.0472300 & -0.6475710 & -0.00630636 & -0.00565556 &  0.00544204 & -0.006153720 &  0.02691800 &  0.0170306 & -0.00581115 & ⋯ & -0.007477045 &  0.12309761 &  0.144504607 & -0.17137499 & -0.18539122 &  0.028275222 & -0.08019399 & -0.05088492 &  0.001190379 &  0.134895086\\\\\n",
       "\tGAUKRV026000\\_3 &  0.8200983 & -0.7614648 & -0.4821526 & -0.00830483 &  0.04411810 & -0.07064480 &  0.012235000 &  0.00409627 &  0.0220226 &  0.00989294 & ⋯ & -0.023836412 &  0.01272829 & -0.011561833 &  0.07725014 &  0.15252110 & -0.006929807 & -0.15863317 & -0.12423396 & -0.102433018 & -0.055766821\\\\\n",
       "\tGAUKRV029000\\_1 &  0.3878375 & -0.1522242 & -0.4244336 & -0.00633520 & -0.00646993 &  0.01885420 & -0.009767510 & -0.00386636 &  0.0220917 &  0.01587240 & ⋯ &  0.024351157 & -0.06766874 &  0.113088124 & -0.03273494 &  0.04314654 &  0.106571607 &  0.01641975 &  0.02920497 & -0.031638816 &  0.020372391\\\\\n",
       "\tGAUKRV029000\\_3 &  0.8461041 & -0.4718551 & -0.9231241 & -0.00633520 & -0.00646993 &  0.01885420 & -0.009767510 & -0.00386636 &  0.0220917 &  0.01587240 & ⋯ & -0.024305742 & -0.01186814 & -0.063762262 &  0.04897572 & -0.04834069 &  0.094003201 &  0.21320857 &  0.11896042 & -0.349988818 & -0.116213322\\\\\n",
       "\\end{tabular}\n"
      ],
      "text/markdown": [
       "\n",
       "A data.frame: 6 × 43\n",
       "\n",
       "| <!--/--> | neutrophils &lt;dbl&gt; | lymphocytes &lt;dbl&gt; | monocytes &lt;dbl&gt; | genopc1 &lt;dbl&gt; | genopc2 &lt;dbl&gt; | genopc3 &lt;dbl&gt; | genopc4 &lt;dbl&gt; | genopc5 &lt;dbl&gt; | genopc6 &lt;dbl&gt; | genopc7 &lt;dbl&gt; | ⋯ ⋯ | peer21 &lt;dbl&gt; | peer22 &lt;dbl&gt; | peer23 &lt;dbl&gt; | peer24 &lt;dbl&gt; | peer25 &lt;dbl&gt; | peer26 &lt;dbl&gt; | peer27 &lt;dbl&gt; | peer28 &lt;dbl&gt; | peer29 &lt;dbl&gt; | peer30 &lt;dbl&gt; |\n",
       "|---|---|---|---|---|---|---|---|---|---|---|---|---|---|---|---|---|---|---|---|---|---|\n",
       "| GAUKRV019000_1 | -0.8073015 |  1.2899532 | -0.3306479 | -0.00797112 | -0.00975609 |  0.00993519 | -0.000764002 | -0.01361440 | -0.0168163 |  0.03379570 | ⋯ | -0.056328204 |  0.05654949 |  0.011027411 | -0.12163381 | -0.15871243 | -0.020116024 |  0.05322395 |  0.20920065 |  0.067332461 |  0.002120495 |\n",
       "| GAUKRV022000_5 |  0.1522242 |  0.1028048 | -0.3064760 | -0.00789900 | -0.00248933 |  0.01407940 | -0.000444723 | -0.00779622 |  0.0134123 |  0.01055060 | ⋯ |  0.051952347 |  0.08752537 | -0.008557647 | -0.07581729 |  0.10520440 | -0.033256195 |  0.15627065 |  0.01259328 |  0.097373560 |  0.026822805 |\n",
       "| GAUKRV025000_1 |  1.6725861 | -2.0472300 | -0.6475710 | -0.00630636 | -0.00565556 |  0.00544204 | -0.006153720 |  0.02691800 |  0.0170306 | -0.00581115 | ⋯ | -0.007477045 |  0.12309761 |  0.144504607 | -0.17137499 | -0.18539122 |  0.028275222 | -0.08019399 | -0.05088492 |  0.001190379 |  0.134895086 |\n",
       "| GAUKRV026000_3 |  0.8200983 | -0.7614648 | -0.4821526 | -0.00830483 |  0.04411810 | -0.07064480 |  0.012235000 |  0.00409627 |  0.0220226 |  0.00989294 | ⋯ | -0.023836412 |  0.01272829 | -0.011561833 |  0.07725014 |  0.15252110 | -0.006929807 | -0.15863317 | -0.12423396 | -0.102433018 | -0.055766821 |\n",
       "| GAUKRV029000_1 |  0.3878375 | -0.1522242 | -0.4244336 | -0.00633520 | -0.00646993 |  0.01885420 | -0.009767510 | -0.00386636 |  0.0220917 |  0.01587240 | ⋯ |  0.024351157 | -0.06766874 |  0.113088124 | -0.03273494 |  0.04314654 |  0.106571607 |  0.01641975 |  0.02920497 | -0.031638816 |  0.020372391 |\n",
       "| GAUKRV029000_3 |  0.8461041 | -0.4718551 | -0.9231241 | -0.00633520 | -0.00646993 |  0.01885420 | -0.009767510 | -0.00386636 |  0.0220917 |  0.01587240 | ⋯ | -0.024305742 | -0.01186814 | -0.063762262 |  0.04897572 | -0.04834069 |  0.094003201 |  0.21320857 |  0.11896042 | -0.349988818 | -0.116213322 |\n",
       "\n"
      ],
      "text/plain": [
       "               neutrophils lymphocytes monocytes  genopc1     genopc2    \n",
       "GAUKRV019000_1 -0.8073015   1.2899532  -0.3306479 -0.00797112 -0.00975609\n",
       "GAUKRV022000_5  0.1522242   0.1028048  -0.3064760 -0.00789900 -0.00248933\n",
       "GAUKRV025000_1  1.6725861  -2.0472300  -0.6475710 -0.00630636 -0.00565556\n",
       "GAUKRV026000_3  0.8200983  -0.7614648  -0.4821526 -0.00830483  0.04411810\n",
       "GAUKRV029000_1  0.3878375  -0.1522242  -0.4244336 -0.00633520 -0.00646993\n",
       "GAUKRV029000_3  0.8461041  -0.4718551  -0.9231241 -0.00633520 -0.00646993\n",
       "               genopc3     genopc4      genopc5     genopc6    genopc7     ⋯\n",
       "GAUKRV019000_1  0.00993519 -0.000764002 -0.01361440 -0.0168163  0.03379570 ⋯\n",
       "GAUKRV022000_5  0.01407940 -0.000444723 -0.00779622  0.0134123  0.01055060 ⋯\n",
       "GAUKRV025000_1  0.00544204 -0.006153720  0.02691800  0.0170306 -0.00581115 ⋯\n",
       "GAUKRV026000_3 -0.07064480  0.012235000  0.00409627  0.0220226  0.00989294 ⋯\n",
       "GAUKRV029000_1  0.01885420 -0.009767510 -0.00386636  0.0220917  0.01587240 ⋯\n",
       "GAUKRV029000_3  0.01885420 -0.009767510 -0.00386636  0.0220917  0.01587240 ⋯\n",
       "               peer21       peer22      peer23       peer24      peer25     \n",
       "GAUKRV019000_1 -0.056328204  0.05654949  0.011027411 -0.12163381 -0.15871243\n",
       "GAUKRV022000_5  0.051952347  0.08752537 -0.008557647 -0.07581729  0.10520440\n",
       "GAUKRV025000_1 -0.007477045  0.12309761  0.144504607 -0.17137499 -0.18539122\n",
       "GAUKRV026000_3 -0.023836412  0.01272829 -0.011561833  0.07725014  0.15252110\n",
       "GAUKRV029000_1  0.024351157 -0.06766874  0.113088124 -0.03273494  0.04314654\n",
       "GAUKRV029000_3 -0.024305742 -0.01186814 -0.063762262  0.04897572 -0.04834069\n",
       "               peer26       peer27      peer28      peer29       peer30      \n",
       "GAUKRV019000_1 -0.020116024  0.05322395  0.20920065  0.067332461  0.002120495\n",
       "GAUKRV022000_5 -0.033256195  0.15627065  0.01259328  0.097373560  0.026822805\n",
       "GAUKRV025000_1  0.028275222 -0.08019399 -0.05088492  0.001190379  0.134895086\n",
       "GAUKRV026000_3 -0.006929807 -0.15863317 -0.12423396 -0.102433018 -0.055766821\n",
       "GAUKRV029000_1  0.106571607  0.01641975  0.02920497 -0.031638816  0.020372391\n",
       "GAUKRV029000_3  0.094003201  0.21320857  0.11896042 -0.349988818 -0.116213322"
      ]
     },
     "metadata": {},
     "output_type": "display_data"
    }
   ],
   "source": [
    "held.out <- c(\"neutrophils\", \"lymphocytes\", \"monocytes\", paste0(\"genopc\", 1:7), \"diagnosis\", \"SRSq\", \"sex\")\n",
    "peer <- paste0(\"peer\", 1:30)\n",
    "\n",
    "covs <- read.table(\"~/gains_team282/eqtl/data/covs_and_peer_factors.txt\") %>%\n",
    "    dplyr::mutate(Sample.ID=rownames(.)) %>%\n",
    "    dplyr::mutate(GAinS.ID=sapply(strsplit(Sample.ID, \"_\"), function(x) x[1])) %>%\n",
    "    merge(., demographics, by.x=\"GAinS.ID\", by.y=\"SubjectBarCode\") %>%\n",
    "    merge(., srs.info, by.x=\"Sample.ID\", by.y=0) %>%\n",
    "    dplyr::select(diagnosis=diagnosis.x, everything()) %>%\n",
    "    dplyr::select(Sample.ID, any_of(held.out), any_of(peer)) %>%\n",
    "    as.data.frame()\n",
    "                                  \n",
    "rownames(covs) <- covs$Sample.ID\n",
    "covs <- covs %>%\n",
    "    dplyr::select(-Sample.ID)\n",
    "                                  \n",
    "head(covs)"
   ]
  },
  {
   "cell_type": "code",
   "execution_count": 5,
   "id": "31b17104-f1be-4f75-a7c2-791888eb337f",
   "metadata": {},
   "outputs": [
    {
     "data": {
      "text/html": [
       "<table class=\"dataframe\">\n",
       "<caption>A data.frame: 6 × 102</caption>\n",
       "<thead>\n",
       "\t<tr><th></th><th scope=col>ME_1</th><th scope=col>ME_2</th><th scope=col>ME_3</th><th scope=col>ME_4</th><th scope=col>ME_5</th><th scope=col>ME_6</th><th scope=col>ME_7</th><th scope=col>ME_8</th><th scope=col>ME_9</th><th scope=col>ME_10</th><th scope=col>⋯</th><th scope=col>ME_93</th><th scope=col>ME_94</th><th scope=col>ME_95</th><th scope=col>ME_96</th><th scope=col>ME_97</th><th scope=col>ME_98</th><th scope=col>ME_99</th><th scope=col>ME_100</th><th scope=col>ME_101</th><th scope=col>ME_102</th></tr>\n",
       "\t<tr><th></th><th scope=col>&lt;dbl&gt;</th><th scope=col>&lt;dbl&gt;</th><th scope=col>&lt;dbl&gt;</th><th scope=col>&lt;dbl&gt;</th><th scope=col>&lt;dbl&gt;</th><th scope=col>&lt;dbl&gt;</th><th scope=col>&lt;dbl&gt;</th><th scope=col>&lt;dbl&gt;</th><th scope=col>&lt;dbl&gt;</th><th scope=col>&lt;dbl&gt;</th><th scope=col>⋯</th><th scope=col>&lt;dbl&gt;</th><th scope=col>&lt;dbl&gt;</th><th scope=col>&lt;dbl&gt;</th><th scope=col>&lt;dbl&gt;</th><th scope=col>&lt;dbl&gt;</th><th scope=col>&lt;dbl&gt;</th><th scope=col>&lt;dbl&gt;</th><th scope=col>&lt;dbl&gt;</th><th scope=col>&lt;dbl&gt;</th><th scope=col>&lt;dbl&gt;</th></tr>\n",
       "</thead>\n",
       "<tbody>\n",
       "\t<tr><th scope=row>UK02270173_3</th><td>-0.004016761</td><td> 0.0131288362</td><td> 0.012922995</td><td> 0.0198498797</td><td> 3.383056e-02</td><td>-0.039966176</td><td> 0.005354281</td><td>-0.0211679904</td><td>-0.027451784</td><td> 0.03952232</td><td>⋯</td><td> 0.006575767</td><td>-0.028728582</td><td>-0.03729801</td><td> 0.043022404</td><td>-0.0192214374</td><td> 0.03598091</td><td>-0.016450340</td><td>-1.430486e-02</td><td> 0.002054619</td><td>-0.0227187339</td></tr>\n",
       "\t<tr><th scope=row>UK15130120_3</th><td>-0.040355825</td><td>-0.0373633701</td><td>-0.037740919</td><td>-0.0338750499</td><td> 5.196139e-02</td><td>-0.006089546</td><td> 0.045834342</td><td> 0.0125998600</td><td>-0.036202649</td><td> 0.02845066</td><td>⋯</td><td>-0.013731651</td><td> 0.009439119</td><td> 0.03427102</td><td>-0.004792438</td><td> 0.0177044227</td><td>-0.01290833</td><td> 0.009937368</td><td>-1.432283e-03</td><td> 0.023780148</td><td> 0.0665501710</td></tr>\n",
       "\t<tr><th scope=row>UK58000006_3</th><td> 0.017874404</td><td> 0.0338113509</td><td> 0.031702433</td><td> 0.0406118756</td><td>-1.518636e-02</td><td>-0.042531490</td><td>-0.024265188</td><td>-0.0318948668</td><td>-0.001456555</td><td> 0.03152360</td><td>⋯</td><td> 0.030235031</td><td>-0.031956047</td><td> 0.03606182</td><td> 0.040327298</td><td>-0.0296712170</td><td>-0.01004244</td><td> 0.004177996</td><td> 8.313083e-06</td><td>-0.023067183</td><td>-0.0329058743</td></tr>\n",
       "\t<tr><th scope=row>UK47010004_3</th><td> 0.012801750</td><td> 0.0245485074</td><td> 0.005824561</td><td>-0.0004263318</td><td> 2.878363e-05</td><td> 0.010860551</td><td>-0.019345838</td><td> 0.0001834165</td><td> 0.020287442</td><td>-0.01165775</td><td>⋯</td><td>-0.011427559</td><td> 0.002238300</td><td> 0.02918488</td><td> 0.055206423</td><td>-0.0007805494</td><td> 0.03078110</td><td>-0.022525898</td><td> 3.158067e-02</td><td>-0.001655534</td><td>-0.0200397478</td></tr>\n",
       "\t<tr><th scope=row>UK42020088_5</th><td> 0.015278469</td><td> 0.0031038292</td><td> 0.001330092</td><td>-0.0082301825</td><td>-1.119995e-02</td><td> 0.018312815</td><td>-0.001452981</td><td>-0.0020318233</td><td> 0.023234302</td><td>-0.01233832</td><td>⋯</td><td>-0.002033550</td><td> 0.010261302</td><td> 0.03292444</td><td> 0.022190082</td><td> 0.0019940929</td><td> 0.06523837</td><td> 0.005029935</td><td>-5.781497e-03</td><td> 0.001393142</td><td> 0.0007287678</td></tr>\n",
       "\t<tr><th scope=row>UK47490007_3</th><td>-0.016379785</td><td> 0.0003279949</td><td>-0.031553778</td><td>-0.0372634499</td><td> 7.738828e-03</td><td> 0.046194030</td><td> 0.020741679</td><td> 0.0381623216</td><td> 0.001531147</td><td>-0.02330114</td><td>⋯</td><td>-0.036684782</td><td> 0.052620174</td><td> 0.02662062</td><td> 0.026181653</td><td> 0.0051302207</td><td> 0.03837936</td><td>-0.015972196</td><td> 3.551496e-02</td><td>-0.007530462</td><td>-0.0141834511</td></tr>\n",
       "</tbody>\n",
       "</table>\n"
      ],
      "text/latex": [
       "A data.frame: 6 × 102\n",
       "\\begin{tabular}{r|lllllllllllllllllllll}\n",
       "  & ME\\_1 & ME\\_2 & ME\\_3 & ME\\_4 & ME\\_5 & ME\\_6 & ME\\_7 & ME\\_8 & ME\\_9 & ME\\_10 & ⋯ & ME\\_93 & ME\\_94 & ME\\_95 & ME\\_96 & ME\\_97 & ME\\_98 & ME\\_99 & ME\\_100 & ME\\_101 & ME\\_102\\\\\n",
       "  & <dbl> & <dbl> & <dbl> & <dbl> & <dbl> & <dbl> & <dbl> & <dbl> & <dbl> & <dbl> & ⋯ & <dbl> & <dbl> & <dbl> & <dbl> & <dbl> & <dbl> & <dbl> & <dbl> & <dbl> & <dbl>\\\\\n",
       "\\hline\n",
       "\tUK02270173\\_3 & -0.004016761 &  0.0131288362 &  0.012922995 &  0.0198498797 &  3.383056e-02 & -0.039966176 &  0.005354281 & -0.0211679904 & -0.027451784 &  0.03952232 & ⋯ &  0.006575767 & -0.028728582 & -0.03729801 &  0.043022404 & -0.0192214374 &  0.03598091 & -0.016450340 & -1.430486e-02 &  0.002054619 & -0.0227187339\\\\\n",
       "\tUK15130120\\_3 & -0.040355825 & -0.0373633701 & -0.037740919 & -0.0338750499 &  5.196139e-02 & -0.006089546 &  0.045834342 &  0.0125998600 & -0.036202649 &  0.02845066 & ⋯ & -0.013731651 &  0.009439119 &  0.03427102 & -0.004792438 &  0.0177044227 & -0.01290833 &  0.009937368 & -1.432283e-03 &  0.023780148 &  0.0665501710\\\\\n",
       "\tUK58000006\\_3 &  0.017874404 &  0.0338113509 &  0.031702433 &  0.0406118756 & -1.518636e-02 & -0.042531490 & -0.024265188 & -0.0318948668 & -0.001456555 &  0.03152360 & ⋯ &  0.030235031 & -0.031956047 &  0.03606182 &  0.040327298 & -0.0296712170 & -0.01004244 &  0.004177996 &  8.313083e-06 & -0.023067183 & -0.0329058743\\\\\n",
       "\tUK47010004\\_3 &  0.012801750 &  0.0245485074 &  0.005824561 & -0.0004263318 &  2.878363e-05 &  0.010860551 & -0.019345838 &  0.0001834165 &  0.020287442 & -0.01165775 & ⋯ & -0.011427559 &  0.002238300 &  0.02918488 &  0.055206423 & -0.0007805494 &  0.03078110 & -0.022525898 &  3.158067e-02 & -0.001655534 & -0.0200397478\\\\\n",
       "\tUK42020088\\_5 &  0.015278469 &  0.0031038292 &  0.001330092 & -0.0082301825 & -1.119995e-02 &  0.018312815 & -0.001452981 & -0.0020318233 &  0.023234302 & -0.01233832 & ⋯ & -0.002033550 &  0.010261302 &  0.03292444 &  0.022190082 &  0.0019940929 &  0.06523837 &  0.005029935 & -5.781497e-03 &  0.001393142 &  0.0007287678\\\\\n",
       "\tUK47490007\\_3 & -0.016379785 &  0.0003279949 & -0.031553778 & -0.0372634499 &  7.738828e-03 &  0.046194030 &  0.020741679 &  0.0381623216 &  0.001531147 & -0.02330114 & ⋯ & -0.036684782 &  0.052620174 &  0.02662062 &  0.026181653 &  0.0051302207 &  0.03837936 & -0.015972196 &  3.551496e-02 & -0.007530462 & -0.0141834511\\\\\n",
       "\\end{tabular}\n"
      ],
      "text/markdown": [
       "\n",
       "A data.frame: 6 × 102\n",
       "\n",
       "| <!--/--> | ME_1 &lt;dbl&gt; | ME_2 &lt;dbl&gt; | ME_3 &lt;dbl&gt; | ME_4 &lt;dbl&gt; | ME_5 &lt;dbl&gt; | ME_6 &lt;dbl&gt; | ME_7 &lt;dbl&gt; | ME_8 &lt;dbl&gt; | ME_9 &lt;dbl&gt; | ME_10 &lt;dbl&gt; | ⋯ ⋯ | ME_93 &lt;dbl&gt; | ME_94 &lt;dbl&gt; | ME_95 &lt;dbl&gt; | ME_96 &lt;dbl&gt; | ME_97 &lt;dbl&gt; | ME_98 &lt;dbl&gt; | ME_99 &lt;dbl&gt; | ME_100 &lt;dbl&gt; | ME_101 &lt;dbl&gt; | ME_102 &lt;dbl&gt; |\n",
       "|---|---|---|---|---|---|---|---|---|---|---|---|---|---|---|---|---|---|---|---|---|---|\n",
       "| UK02270173_3 | -0.004016761 |  0.0131288362 |  0.012922995 |  0.0198498797 |  3.383056e-02 | -0.039966176 |  0.005354281 | -0.0211679904 | -0.027451784 |  0.03952232 | ⋯ |  0.006575767 | -0.028728582 | -0.03729801 |  0.043022404 | -0.0192214374 |  0.03598091 | -0.016450340 | -1.430486e-02 |  0.002054619 | -0.0227187339 |\n",
       "| UK15130120_3 | -0.040355825 | -0.0373633701 | -0.037740919 | -0.0338750499 |  5.196139e-02 | -0.006089546 |  0.045834342 |  0.0125998600 | -0.036202649 |  0.02845066 | ⋯ | -0.013731651 |  0.009439119 |  0.03427102 | -0.004792438 |  0.0177044227 | -0.01290833 |  0.009937368 | -1.432283e-03 |  0.023780148 |  0.0665501710 |\n",
       "| UK58000006_3 |  0.017874404 |  0.0338113509 |  0.031702433 |  0.0406118756 | -1.518636e-02 | -0.042531490 | -0.024265188 | -0.0318948668 | -0.001456555 |  0.03152360 | ⋯ |  0.030235031 | -0.031956047 |  0.03606182 |  0.040327298 | -0.0296712170 | -0.01004244 |  0.004177996 |  8.313083e-06 | -0.023067183 | -0.0329058743 |\n",
       "| UK47010004_3 |  0.012801750 |  0.0245485074 |  0.005824561 | -0.0004263318 |  2.878363e-05 |  0.010860551 | -0.019345838 |  0.0001834165 |  0.020287442 | -0.01165775 | ⋯ | -0.011427559 |  0.002238300 |  0.02918488 |  0.055206423 | -0.0007805494 |  0.03078110 | -0.022525898 |  3.158067e-02 | -0.001655534 | -0.0200397478 |\n",
       "| UK42020088_5 |  0.015278469 |  0.0031038292 |  0.001330092 | -0.0082301825 | -1.119995e-02 |  0.018312815 | -0.001452981 | -0.0020318233 |  0.023234302 | -0.01233832 | ⋯ | -0.002033550 |  0.010261302 |  0.03292444 |  0.022190082 |  0.0019940929 |  0.06523837 |  0.005029935 | -5.781497e-03 |  0.001393142 |  0.0007287678 |\n",
       "| UK47490007_3 | -0.016379785 |  0.0003279949 | -0.031553778 | -0.0372634499 |  7.738828e-03 |  0.046194030 |  0.020741679 |  0.0381623216 |  0.001531147 | -0.02330114 | ⋯ | -0.036684782 |  0.052620174 |  0.02662062 |  0.026181653 |  0.0051302207 |  0.03837936 | -0.015972196 |  3.551496e-02 | -0.007530462 | -0.0141834511 |\n",
       "\n"
      ],
      "text/plain": [
       "             ME_1         ME_2          ME_3         ME_4         \n",
       "UK02270173_3 -0.004016761  0.0131288362  0.012922995  0.0198498797\n",
       "UK15130120_3 -0.040355825 -0.0373633701 -0.037740919 -0.0338750499\n",
       "UK58000006_3  0.017874404  0.0338113509  0.031702433  0.0406118756\n",
       "UK47010004_3  0.012801750  0.0245485074  0.005824561 -0.0004263318\n",
       "UK42020088_5  0.015278469  0.0031038292  0.001330092 -0.0082301825\n",
       "UK47490007_3 -0.016379785  0.0003279949 -0.031553778 -0.0372634499\n",
       "             ME_5          ME_6         ME_7         ME_8          ME_9        \n",
       "UK02270173_3  3.383056e-02 -0.039966176  0.005354281 -0.0211679904 -0.027451784\n",
       "UK15130120_3  5.196139e-02 -0.006089546  0.045834342  0.0125998600 -0.036202649\n",
       "UK58000006_3 -1.518636e-02 -0.042531490 -0.024265188 -0.0318948668 -0.001456555\n",
       "UK47010004_3  2.878363e-05  0.010860551 -0.019345838  0.0001834165  0.020287442\n",
       "UK42020088_5 -1.119995e-02  0.018312815 -0.001452981 -0.0020318233  0.023234302\n",
       "UK47490007_3  7.738828e-03  0.046194030  0.020741679  0.0381623216  0.001531147\n",
       "             ME_10       ⋯ ME_93        ME_94        ME_95       ME_96       \n",
       "UK02270173_3  0.03952232 ⋯  0.006575767 -0.028728582 -0.03729801  0.043022404\n",
       "UK15130120_3  0.02845066 ⋯ -0.013731651  0.009439119  0.03427102 -0.004792438\n",
       "UK58000006_3  0.03152360 ⋯  0.030235031 -0.031956047  0.03606182  0.040327298\n",
       "UK47010004_3 -0.01165775 ⋯ -0.011427559  0.002238300  0.02918488  0.055206423\n",
       "UK42020088_5 -0.01233832 ⋯ -0.002033550  0.010261302  0.03292444  0.022190082\n",
       "UK47490007_3 -0.02330114 ⋯ -0.036684782  0.052620174  0.02662062  0.026181653\n",
       "             ME_97         ME_98       ME_99        ME_100        ME_101      \n",
       "UK02270173_3 -0.0192214374  0.03598091 -0.016450340 -1.430486e-02  0.002054619\n",
       "UK15130120_3  0.0177044227 -0.01290833  0.009937368 -1.432283e-03  0.023780148\n",
       "UK58000006_3 -0.0296712170 -0.01004244  0.004177996  8.313083e-06 -0.023067183\n",
       "UK47010004_3 -0.0007805494  0.03078110 -0.022525898  3.158067e-02 -0.001655534\n",
       "UK42020088_5  0.0019940929  0.06523837  0.005029935 -5.781497e-03  0.001393142\n",
       "UK47490007_3  0.0051302207  0.03837936 -0.015972196  3.551496e-02 -0.007530462\n",
       "             ME_102       \n",
       "UK02270173_3 -0.0227187339\n",
       "UK15130120_3  0.0665501710\n",
       "UK58000006_3 -0.0329058743\n",
       "UK47010004_3 -0.0200397478\n",
       "UK42020088_5  0.0007287678\n",
       "UK47490007_3 -0.0141834511"
      ]
     },
     "metadata": {},
     "output_type": "display_data"
    }
   ],
   "source": [
    "eigengenes <- read.csv(\"~/gains_team282/nikhil/expression/gene_expression/eigengenes.csv\", row.names=1)\n",
    "\n",
    "head(eigengenes)"
   ]
  },
  {
   "cell_type": "markdown",
   "id": "26c34029-3efa-455d-9485-103384dd4786",
   "metadata": {},
   "source": [
    "## Heatmap"
   ]
  },
  {
   "cell_type": "markdown",
   "id": "076c174a-88e5-4cc9-984f-a19230862509",
   "metadata": {},
   "source": [
    "Before performing single-variant association analysis, we want to check if the signal present in the eigengenes is captured by one of the PEER factors."
   ]
  },
  {
   "cell_type": "code",
   "execution_count": 6,
   "id": "6df18220-afd6-43ac-b99f-f15563ff1cca",
   "metadata": {},
   "outputs": [],
   "source": [
    "all.vars <- merge(covs, eigengenes, by.x=0, by.y=0) %>%\n",
    "    dplyr::select(-Row.names)"
   ]
  },
  {
   "cell_type": "code",
   "execution_count": 7,
   "id": "970676d3-5339-4770-89ea-d97d779932b4",
   "metadata": {},
   "outputs": [
    {
     "data": {
      "text/html": [
       "<strong>png:</strong> 2"
      ],
      "text/latex": [
       "\\textbf{png:} 2"
      ],
      "text/markdown": [
       "**png:** 2"
      ],
      "text/plain": [
       "png \n",
       "  2 "
      ]
     },
     "metadata": {},
     "output_type": "display_data"
    }
   ],
   "source": [
    "colors <- colorRampPalette(brewer.pal(11, \"RdBu\"))(101)\n",
    "\n",
    "cor.mtx <- cor(all.vars)\n",
    "cor.mtx.peer <- cor.mtx[peer, colnames(eigengenes)]\n",
    "cor.mtx.held.out <- cor.mtx[held.out, colnames(eigengenes)]\n",
    "\n",
    "h1 <- Heatmap(cor.mtx.peer, col=colors, heatmap_legend_param=list(\n",
    "    title=\"Correlation\",\n",
    "    at=c(-1, 0, 1)\n",
    "))\n",
    "\n",
    "h2 <- Heatmap(cor.mtx.held.out, col=colors, cluster_rows=F, heatmap_legend_param=list(\n",
    "    title=\"Correlation\",\n",
    "    at=c(-1, 0, 1)\n",
    "))\n",
    "\n",
    "svg(\"04_Expression/results/eigengene_peer_factor_correlation.svg\", width=16, height=8)\n",
    "h1 %v% h2\n",
    "dev.off()"
   ]
  },
  {
   "cell_type": "markdown",
   "id": "cfa945dc-6083-47e8-982c-d3c403cf6375",
   "metadata": {},
   "source": [
    "The PEER factors are built using gene expression data. It's not surprising that many of the eigengenes are associated with the PEER factors. WGCNA discarded around 8000 genes. The residual gene expression variation from these genes is likely captured by some of the PEER factors.\n",
    "\n",
    "The eigengenes are not associated with genotyping PCs (which is good)."
   ]
  },
  {
   "cell_type": "markdown",
   "id": "b8eb0417-04be-46dc-a543-1e58f94529fc",
   "metadata": {},
   "source": [
    "![](../results/eigengene_peer_factor_correlation.svg)"
   ]
  },
  {
   "cell_type": "markdown",
   "id": "32443e95-d375-40f2-a8e2-b2aee70dcd64",
   "metadata": {},
   "source": [
    "Ideally, I will include only sex and genotyping PCs as covariates in this mapping, since everything else (cell counts, SRS group) are important signatures that may be correlated with module eigengenes. I will include PEER factors that are not highly correlated with module eigengenes, since they represent residual variation from the ~8000 genes not included in the modules.\n",
    "\n",
    "Here, I'm using the elbow method to determine which PEER factors are not too correlated with the module eigengenes. For each PEER factor, I calculate the maximum absolute correlation for the set of all eigengenes. The elbow is at around $|\\rho| < 0.4$."
   ]
  },
  {
   "cell_type": "code",
   "execution_count": 8,
   "id": "f62606bd-242d-4ea2-acee-e7ca3e032a61",
   "metadata": {},
   "outputs": [
    {
     "data": {
      "image/png": "[encoded data removed]",
      "text/plain": [
       "plot without title"
      ]
     },
     "metadata": {
      "image/png": {
       "height": 600,
       "width": 600
      }
     },
     "output_type": "display_data"
    }
   ],
   "source": [
    "options(repr.plot.width=10, repr.plot.height=10)\n",
    "as.data.frame(apply(abs(cor.mtx.peer), 1, max)) %>%\n",
    "    dplyr::select(Max.Abs.Cor=1) %>%\n",
    "    dplyr::arrange(Max.Abs.Cor) %>%\n",
    "    dplyr::mutate(PEER.Factor=rownames(.)) %>%\n",
    "    dplyr::mutate(PEER.Factor=factor(PEER.Factor, levels=PEER.Factor)) %>%\n",
    "    ggplot() +\n",
    "    geom_bar(aes(x=PEER.Factor, y=Max.Abs.Cor), stat=\"identity\", color=\"black\", fill=\"white\") +\n",
    "    geom_hline(aes(yintercept=0.4), lty=2, color=\"firebrick1\", size=I(2)) +\n",
    "    xlab(\"PEER Factor\") + ylab(\"Maximum Absolute Correlation\") +\n",
    "    coord_flip() +\n",
    "    ggplot_theme\n",
    "ggsave(\"04_Expression/results/eigengene_peer_factor_maximum_absolute_correlation.svg\", width=10, height=10)"
   ]
  },
  {
   "cell_type": "code",
   "execution_count": 9,
   "id": "8f8fd18f-36ed-4578-9619-2fc2ee381905",
   "metadata": {},
   "outputs": [],
   "source": [
    "peer.factor.names <- names(which(apply(abs(cor.mtx.peer), 1, max) < 0.4))"
   ]
  },
  {
   "cell_type": "markdown",
   "id": "e7e66a4f-1e9c-490b-84e5-ad4193d9036d",
   "metadata": {
    "tags": []
   },
   "source": [
    "## Save Covariates"
   ]
  },
  {
   "cell_type": "markdown",
   "id": "18223439-bc5d-4e9d-9bed-57fbd2228210",
   "metadata": {},
   "source": [
    "Save list of patients (family ID in the first column and individual ID in the second column) to subset the genotyping data using PLINK. There are 635 unique patients with genotyping information."
   ]
  },
  {
   "cell_type": "code",
   "execution_count": 14,
   "id": "61dae4de-5a7a-4686-a22c-c981fee7c1b0",
   "metadata": {},
   "outputs": [
    {
     "data": {
      "text/html": [
       "635"
      ],
      "text/latex": [
       "635"
      ],
      "text/markdown": [
       "635"
      ],
      "text/plain": [
       "[1] 635"
      ]
     },
     "metadata": {},
     "output_type": "display_data"
    }
   ],
   "source": [
    "patients <- unique(mapping.data$GAinS.ID)\n",
    "\n",
    "write.table(\n",
    "    cbind(patients, patients), \n",
    "    \"~/gains_team282/nikhil/expression/eigengene_sva/mapping_patients.txt\", row.names=F, quote=F, col.names=F, sep=\"\\t\"\n",
    ")\n",
    "\n",
    "length(patients)"
   ]
  },
  {
   "cell_type": "markdown",
   "id": "af790d1e-583b-4a87-848d-c44edf00a4c5",
   "metadata": {},
   "source": [
    "Save the list of module eigengenes as a text file. This will be used by NextFlow to parallelize the association mapping."
   ]
  },
  {
   "cell_type": "code",
   "execution_count": 17,
   "id": "0b100493-d60e-4f89-b9cf-c966916b8fae",
   "metadata": {},
   "outputs": [],
   "source": [
    "write.table(eigen.names, \"~/gains_team282/nikhil/expression/eigengene_sva/mapping_eigengenes.txt\", row.names=F, quote=F, col.names=F, sep=\"\\t\")"
   ]
  },
  {
   "cell_type": "markdown",
   "id": "9a99a350-ac3e-4c19-b846-80171620e7b1",
   "metadata": {},
   "source": [
    "### Initial Pass"
   ]
  },
  {
   "cell_type": "markdown",
   "id": "702d915b-5cd6-4276-a5a1-e038d0248a28",
   "metadata": {},
   "source": [
    "I will be using a linear mixed model (LMM) to test for association between genotypes and eigengene expression. In the past, the lab has used a likelihood test (F-Test) to compare a null model of the covariates against an alternative model where the genotype is included. I will be building the following model:\n",
    "\n",
    "1. Let $\\mathbf{E}_i\\in\\mathbb{R}^n$ be a vector representing the values of the $i$-th eigengene.\n",
    "2. Let $\\mathbf{Y}\\in\\mathbb{R}^{n\\times c}$ be a matrix of covariates. These covariates include Sex, 16 PEER factors, and 7 Genotyping PCs.\n",
    "3. Let $\\mathbf{Z}\\in\\mathbb{R}^n$ be a vector representing the random effects. The only random effect in this model is the Patient ID.\n",
    "4. Let $\\mathbf{X}\\in\\mathbb{R}^n$ be a vector representing the genotypes of the patients.\n",
    "5. Let $\\beta\\in\\mathbb{R}$ be a scalar value representing the genotypic effect on eigengene expression.\n",
    "6. Let $\\mathbf{\\alpha}\\in\\mathbb{R}^c$ be a vector of covariate effects on eigengene expression.\n",
    "7. Let $\\gamma\\in\\mathbb{R}$ be a scalar value representing the random effect on eigengene expression.\n",
    "\n",
    "The null model is:\n",
    "\n",
    "$$\\mathbf{E}_i \\sim \\mathbf{Y}\\alpha + \\mathbf{Z}\\gamma$$\n",
    "\n",
    "The alternative model is:\n",
    "\n",
    "$$\\mathbf{E}_i \\sim \\mathbf{X}\\beta + \\mathbf{Y}\\alpha + \\mathbf{Z}\\gamma$$"
   ]
  },
  {
   "cell_type": "markdown",
   "id": "7e20133d-11f0-480f-9bec-4869a8279161",
   "metadata": {},
   "source": [
    "There are 822 samples from the RNA-Seq data that have genotypes as well."
   ]
  },
  {
   "cell_type": "code",
   "execution_count": 10,
   "id": "f587253d-a0a2-46ef-aa3f-c47e4eb2f43f",
   "metadata": {},
   "outputs": [
    {
     "data": {
      "text/html": [
       "822"
      ],
      "text/latex": [
       "822"
      ],
      "text/markdown": [
       "822"
      ],
      "text/plain": [
       "[1] 822"
      ]
     },
     "metadata": {},
     "output_type": "display_data"
    }
   ],
   "source": [
    "genotyping <- read.table(\"~/gains_team282/Genotyping/All_genotyping_merged_filtered_b38_refiltered_rsID.fam\")\n",
    "\n",
    "samples.with.genotypes <- rownames(eigengenes)[\n",
    "    sapply(\n",
    "        strsplit(rownames(eigengenes), \"_\"),\n",
    "        function(x) x[1] %in% genotyping$V1\n",
    "    )\n",
    "]\n",
    "\n",
    "length(samples.with.genotypes)"
   ]
  },
  {
   "cell_type": "code",
   "execution_count": 11,
   "id": "e8ae2e1e-aee5-4217-bd0a-538807c882b8",
   "metadata": {},
   "outputs": [
    {
     "data": {
      "text/html": [
       "<style>\n",
       ".list-inline {list-style: none; margin:0; padding: 0}\n",
       ".list-inline>li {display: inline-block}\n",
       ".list-inline>li:not(:last-child)::after {content: \"\\00b7\"; padding: 0 .5ex}\n",
       "</style>\n",
       "<ol class=list-inline><li>'peer12'</li><li>'peer14'</li><li>'peer15'</li><li>'peer16'</li><li>'peer17'</li><li>'peer19'</li><li>'peer20'</li><li>'peer21'</li><li>'peer22'</li><li>'peer23'</li><li>'peer24'</li><li>'peer25'</li><li>'peer26'</li><li>'peer27'</li><li>'peer28'</li><li>'peer30'</li></ol>\n"
      ],
      "text/latex": [
       "\\begin{enumerate*}\n",
       "\\item 'peer12'\n",
       "\\item 'peer14'\n",
       "\\item 'peer15'\n",
       "\\item 'peer16'\n",
       "\\item 'peer17'\n",
       "\\item 'peer19'\n",
       "\\item 'peer20'\n",
       "\\item 'peer21'\n",
       "\\item 'peer22'\n",
       "\\item 'peer23'\n",
       "\\item 'peer24'\n",
       "\\item 'peer25'\n",
       "\\item 'peer26'\n",
       "\\item 'peer27'\n",
       "\\item 'peer28'\n",
       "\\item 'peer30'\n",
       "\\end{enumerate*}\n"
      ],
      "text/markdown": [
       "1. 'peer12'\n",
       "2. 'peer14'\n",
       "3. 'peer15'\n",
       "4. 'peer16'\n",
       "5. 'peer17'\n",
       "6. 'peer19'\n",
       "7. 'peer20'\n",
       "8. 'peer21'\n",
       "9. 'peer22'\n",
       "10. 'peer23'\n",
       "11. 'peer24'\n",
       "12. 'peer25'\n",
       "13. 'peer26'\n",
       "14. 'peer27'\n",
       "15. 'peer28'\n",
       "16. 'peer30'\n",
       "\n",
       "\n"
      ],
      "text/plain": [
       " [1] \"peer12\" \"peer14\" \"peer15\" \"peer16\" \"peer17\" \"peer19\" \"peer20\" \"peer21\"\n",
       " [9] \"peer22\" \"peer23\" \"peer24\" \"peer25\" \"peer26\" \"peer27\" \"peer28\" \"peer30\""
      ]
     },
     "metadata": {},
     "output_type": "display_data"
    },
    {
     "data": {
      "text/html": [
       "<style>\n",
       ".list-inline {list-style: none; margin:0; padding: 0}\n",
       ".list-inline>li {display: inline-block}\n",
       ".list-inline>li:not(:last-child)::after {content: \"\\00b7\"; padding: 0 .5ex}\n",
       "</style>\n",
       "<ol class=list-inline><li>'ME_1'</li><li>'ME_2'</li><li>'ME_3'</li><li>'ME_4'</li><li>'ME_5'</li><li>'ME_6'</li><li>'ME_7'</li><li>'ME_8'</li><li>'ME_9'</li><li>'ME_10'</li><li>'ME_11'</li><li>'ME_12'</li><li>'ME_13'</li><li>'ME_14'</li><li>'ME_15'</li><li>'ME_16'</li><li>'ME_17'</li><li>'ME_18'</li><li>'ME_19'</li><li>'ME_20'</li><li>'ME_21'</li><li>'ME_22'</li><li>'ME_23'</li><li>'ME_24'</li><li>'ME_25'</li><li>'ME_26'</li><li>'ME_27'</li><li>'ME_28'</li><li>'ME_29'</li><li>'ME_30'</li><li>'ME_31'</li><li>'ME_32'</li><li>'ME_33'</li><li>'ME_34'</li><li>'ME_35'</li><li>'ME_36'</li><li>'ME_37'</li><li>'ME_38'</li><li>'ME_39'</li><li>'ME_40'</li><li>'ME_41'</li><li>'ME_42'</li><li>'ME_43'</li><li>'ME_44'</li><li>'ME_45'</li><li>'ME_46'</li><li>'ME_47'</li><li>'ME_48'</li><li>'ME_49'</li><li>'ME_50'</li><li>'ME_51'</li><li>'ME_52'</li><li>'ME_53'</li><li>'ME_54'</li><li>'ME_55'</li><li>'ME_56'</li><li>'ME_57'</li><li>'ME_58'</li><li>'ME_59'</li><li>'ME_60'</li><li>'ME_61'</li><li>'ME_62'</li><li>'ME_63'</li><li>'ME_64'</li><li>'ME_65'</li><li>'ME_66'</li><li>'ME_67'</li><li>'ME_68'</li><li>'ME_69'</li><li>'ME_70'</li><li>'ME_71'</li><li>'ME_72'</li><li>'ME_73'</li><li>'ME_74'</li><li>'ME_75'</li><li>'ME_76'</li><li>'ME_77'</li><li>'ME_78'</li><li>'ME_79'</li><li>'ME_80'</li><li>'ME_81'</li><li>'ME_82'</li><li>'ME_83'</li><li>'ME_84'</li><li>'ME_85'</li><li>'ME_86'</li><li>'ME_87'</li><li>'ME_88'</li><li>'ME_89'</li><li>'ME_90'</li><li>'ME_91'</li><li>'ME_92'</li><li>'ME_93'</li><li>'ME_94'</li><li>'ME_95'</li><li>'ME_96'</li><li>'ME_97'</li><li>'ME_98'</li><li>'ME_99'</li><li>'ME_100'</li><li>'ME_101'</li><li>'ME_102'</li></ol>\n"
      ],
      "text/latex": [
       "\\begin{enumerate*}\n",
       "\\item 'ME\\_1'\n",
       "\\item 'ME\\_2'\n",
       "\\item 'ME\\_3'\n",
       "\\item 'ME\\_4'\n",
       "\\item 'ME\\_5'\n",
       "\\item 'ME\\_6'\n",
       "\\item 'ME\\_7'\n",
       "\\item 'ME\\_8'\n",
       "\\item 'ME\\_9'\n",
       "\\item 'ME\\_10'\n",
       "\\item 'ME\\_11'\n",
       "\\item 'ME\\_12'\n",
       "\\item 'ME\\_13'\n",
       "\\item 'ME\\_14'\n",
       "\\item 'ME\\_15'\n",
       "\\item 'ME\\_16'\n",
       "\\item 'ME\\_17'\n",
       "\\item 'ME\\_18'\n",
       "\\item 'ME\\_19'\n",
       "\\item 'ME\\_20'\n",
       "\\item 'ME\\_21'\n",
       "\\item 'ME\\_22'\n",
       "\\item 'ME\\_23'\n",
       "\\item 'ME\\_24'\n",
       "\\item 'ME\\_25'\n",
       "\\item 'ME\\_26'\n",
       "\\item 'ME\\_27'\n",
       "\\item 'ME\\_28'\n",
       "\\item 'ME\\_29'\n",
       "\\item 'ME\\_30'\n",
       "\\item 'ME\\_31'\n",
       "\\item 'ME\\_32'\n",
       "\\item 'ME\\_33'\n",
       "\\item 'ME\\_34'\n",
       "\\item 'ME\\_35'\n",
       "\\item 'ME\\_36'\n",
       "\\item 'ME\\_37'\n",
       "\\item 'ME\\_38'\n",
       "\\item 'ME\\_39'\n",
       "\\item 'ME\\_40'\n",
       "\\item 'ME\\_41'\n",
       "\\item 'ME\\_42'\n",
       "\\item 'ME\\_43'\n",
       "\\item 'ME\\_44'\n",
       "\\item 'ME\\_45'\n",
       "\\item 'ME\\_46'\n",
       "\\item 'ME\\_47'\n",
       "\\item 'ME\\_48'\n",
       "\\item 'ME\\_49'\n",
       "\\item 'ME\\_50'\n",
       "\\item 'ME\\_51'\n",
       "\\item 'ME\\_52'\n",
       "\\item 'ME\\_53'\n",
       "\\item 'ME\\_54'\n",
       "\\item 'ME\\_55'\n",
       "\\item 'ME\\_56'\n",
       "\\item 'ME\\_57'\n",
       "\\item 'ME\\_58'\n",
       "\\item 'ME\\_59'\n",
       "\\item 'ME\\_60'\n",
       "\\item 'ME\\_61'\n",
       "\\item 'ME\\_62'\n",
       "\\item 'ME\\_63'\n",
       "\\item 'ME\\_64'\n",
       "\\item 'ME\\_65'\n",
       "\\item 'ME\\_66'\n",
       "\\item 'ME\\_67'\n",
       "\\item 'ME\\_68'\n",
       "\\item 'ME\\_69'\n",
       "\\item 'ME\\_70'\n",
       "\\item 'ME\\_71'\n",
       "\\item 'ME\\_72'\n",
       "\\item 'ME\\_73'\n",
       "\\item 'ME\\_74'\n",
       "\\item 'ME\\_75'\n",
       "\\item 'ME\\_76'\n",
       "\\item 'ME\\_77'\n",
       "\\item 'ME\\_78'\n",
       "\\item 'ME\\_79'\n",
       "\\item 'ME\\_80'\n",
       "\\item 'ME\\_81'\n",
       "\\item 'ME\\_82'\n",
       "\\item 'ME\\_83'\n",
       "\\item 'ME\\_84'\n",
       "\\item 'ME\\_85'\n",
       "\\item 'ME\\_86'\n",
       "\\item 'ME\\_87'\n",
       "\\item 'ME\\_88'\n",
       "\\item 'ME\\_89'\n",
       "\\item 'ME\\_90'\n",
       "\\item 'ME\\_91'\n",
       "\\item 'ME\\_92'\n",
       "\\item 'ME\\_93'\n",
       "\\item 'ME\\_94'\n",
       "\\item 'ME\\_95'\n",
       "\\item 'ME\\_96'\n",
       "\\item 'ME\\_97'\n",
       "\\item 'ME\\_98'\n",
       "\\item 'ME\\_99'\n",
       "\\item 'ME\\_100'\n",
       "\\item 'ME\\_101'\n",
       "\\item 'ME\\_102'\n",
       "\\end{enumerate*}\n"
      ],
      "text/markdown": [
       "1. 'ME_1'\n",
       "2. 'ME_2'\n",
       "3. 'ME_3'\n",
       "4. 'ME_4'\n",
       "5. 'ME_5'\n",
       "6. 'ME_6'\n",
       "7. 'ME_7'\n",
       "8. 'ME_8'\n",
       "9. 'ME_9'\n",
       "10. 'ME_10'\n",
       "11. 'ME_11'\n",
       "12. 'ME_12'\n",
       "13. 'ME_13'\n",
       "14. 'ME_14'\n",
       "15. 'ME_15'\n",
       "16. 'ME_16'\n",
       "17. 'ME_17'\n",
       "18. 'ME_18'\n",
       "19. 'ME_19'\n",
       "20. 'ME_20'\n",
       "21. 'ME_21'\n",
       "22. 'ME_22'\n",
       "23. 'ME_23'\n",
       "24. 'ME_24'\n",
       "25. 'ME_25'\n",
       "26. 'ME_26'\n",
       "27. 'ME_27'\n",
       "28. 'ME_28'\n",
       "29. 'ME_29'\n",
       "30. 'ME_30'\n",
       "31. 'ME_31'\n",
       "32. 'ME_32'\n",
       "33. 'ME_33'\n",
       "34. 'ME_34'\n",
       "35. 'ME_35'\n",
       "36. 'ME_36'\n",
       "37. 'ME_37'\n",
       "38. 'ME_38'\n",
       "39. 'ME_39'\n",
       "40. 'ME_40'\n",
       "41. 'ME_41'\n",
       "42. 'ME_42'\n",
       "43. 'ME_43'\n",
       "44. 'ME_44'\n",
       "45. 'ME_45'\n",
       "46. 'ME_46'\n",
       "47. 'ME_47'\n",
       "48. 'ME_48'\n",
       "49. 'ME_49'\n",
       "50. 'ME_50'\n",
       "51. 'ME_51'\n",
       "52. 'ME_52'\n",
       "53. 'ME_53'\n",
       "54. 'ME_54'\n",
       "55. 'ME_55'\n",
       "56. 'ME_56'\n",
       "57. 'ME_57'\n",
       "58. 'ME_58'\n",
       "59. 'ME_59'\n",
       "60. 'ME_60'\n",
       "61. 'ME_61'\n",
       "62. 'ME_62'\n",
       "63. 'ME_63'\n",
       "64. 'ME_64'\n",
       "65. 'ME_65'\n",
       "66. 'ME_66'\n",
       "67. 'ME_67'\n",
       "68. 'ME_68'\n",
       "69. 'ME_69'\n",
       "70. 'ME_70'\n",
       "71. 'ME_71'\n",
       "72. 'ME_72'\n",
       "73. 'ME_73'\n",
       "74. 'ME_74'\n",
       "75. 'ME_75'\n",
       "76. 'ME_76'\n",
       "77. 'ME_77'\n",
       "78. 'ME_78'\n",
       "79. 'ME_79'\n",
       "80. 'ME_80'\n",
       "81. 'ME_81'\n",
       "82. 'ME_82'\n",
       "83. 'ME_83'\n",
       "84. 'ME_84'\n",
       "85. 'ME_85'\n",
       "86. 'ME_86'\n",
       "87. 'ME_87'\n",
       "88. 'ME_88'\n",
       "89. 'ME_89'\n",
       "90. 'ME_90'\n",
       "91. 'ME_91'\n",
       "92. 'ME_92'\n",
       "93. 'ME_93'\n",
       "94. 'ME_94'\n",
       "95. 'ME_95'\n",
       "96. 'ME_96'\n",
       "97. 'ME_97'\n",
       "98. 'ME_98'\n",
       "99. 'ME_99'\n",
       "100. 'ME_100'\n",
       "101. 'ME_101'\n",
       "102. 'ME_102'\n",
       "\n",
       "\n"
      ],
      "text/plain": [
       "  [1] \"ME_1\"   \"ME_2\"   \"ME_3\"   \"ME_4\"   \"ME_5\"   \"ME_6\"   \"ME_7\"   \"ME_8\"  \n",
       "  [9] \"ME_9\"   \"ME_10\"  \"ME_11\"  \"ME_12\"  \"ME_13\"  \"ME_14\"  \"ME_15\"  \"ME_16\" \n",
       " [17] \"ME_17\"  \"ME_18\"  \"ME_19\"  \"ME_20\"  \"ME_21\"  \"ME_22\"  \"ME_23\"  \"ME_24\" \n",
       " [25] \"ME_25\"  \"ME_26\"  \"ME_27\"  \"ME_28\"  \"ME_29\"  \"ME_30\"  \"ME_31\"  \"ME_32\" \n",
       " [33] \"ME_33\"  \"ME_34\"  \"ME_35\"  \"ME_36\"  \"ME_37\"  \"ME_38\"  \"ME_39\"  \"ME_40\" \n",
       " [41] \"ME_41\"  \"ME_42\"  \"ME_43\"  \"ME_44\"  \"ME_45\"  \"ME_46\"  \"ME_47\"  \"ME_48\" \n",
       " [49] \"ME_49\"  \"ME_50\"  \"ME_51\"  \"ME_52\"  \"ME_53\"  \"ME_54\"  \"ME_55\"  \"ME_56\" \n",
       " [57] \"ME_57\"  \"ME_58\"  \"ME_59\"  \"ME_60\"  \"ME_61\"  \"ME_62\"  \"ME_63\"  \"ME_64\" \n",
       " [65] \"ME_65\"  \"ME_66\"  \"ME_67\"  \"ME_68\"  \"ME_69\"  \"ME_70\"  \"ME_71\"  \"ME_72\" \n",
       " [73] \"ME_73\"  \"ME_74\"  \"ME_75\"  \"ME_76\"  \"ME_77\"  \"ME_78\"  \"ME_79\"  \"ME_80\" \n",
       " [81] \"ME_81\"  \"ME_82\"  \"ME_83\"  \"ME_84\"  \"ME_85\"  \"ME_86\"  \"ME_87\"  \"ME_88\" \n",
       " [89] \"ME_89\"  \"ME_90\"  \"ME_91\"  \"ME_92\"  \"ME_93\"  \"ME_94\"  \"ME_95\"  \"ME_96\" \n",
       " [97] \"ME_97\"  \"ME_98\"  \"ME_99\"  \"ME_100\" \"ME_101\" \"ME_102\""
      ]
     },
     "metadata": {},
     "output_type": "display_data"
    },
    {
     "data": {
      "text/html": [
       "<style>\n",
       ".list-inline {list-style: none; margin:0; padding: 0}\n",
       ".list-inline>li {display: inline-block}\n",
       ".list-inline>li:not(:last-child)::after {content: \"\\00b7\"; padding: 0 .5ex}\n",
       "</style>\n",
       "<ol class=list-inline><li>'sex'</li><li>'genopc1'</li><li>'genopc2'</li><li>'genopc3'</li><li>'genopc4'</li><li>'genopc5'</li><li>'genopc6'</li><li>'genopc7'</li></ol>\n"
      ],
      "text/latex": [
       "\\begin{enumerate*}\n",
       "\\item 'sex'\n",
       "\\item 'genopc1'\n",
       "\\item 'genopc2'\n",
       "\\item 'genopc3'\n",
       "\\item 'genopc4'\n",
       "\\item 'genopc5'\n",
       "\\item 'genopc6'\n",
       "\\item 'genopc7'\n",
       "\\end{enumerate*}\n"
      ],
      "text/markdown": [
       "1. 'sex'\n",
       "2. 'genopc1'\n",
       "3. 'genopc2'\n",
       "4. 'genopc3'\n",
       "5. 'genopc4'\n",
       "6. 'genopc5'\n",
       "7. 'genopc6'\n",
       "8. 'genopc7'\n",
       "\n",
       "\n"
      ],
      "text/plain": [
       "[1] \"sex\"     \"genopc1\" \"genopc2\" \"genopc3\" \"genopc4\" \"genopc5\" \"genopc6\"\n",
       "[8] \"genopc7\""
      ]
     },
     "metadata": {},
     "output_type": "display_data"
    },
    {
     "data": {
      "text/html": [
       "'GAinS.ID'"
      ],
      "text/latex": [
       "'GAinS.ID'"
      ],
      "text/markdown": [
       "'GAinS.ID'"
      ],
      "text/plain": [
       "[1] \"GAinS.ID\""
      ]
     },
     "metadata": {},
     "output_type": "display_data"
    }
   ],
   "source": [
    "peer.factor.names\n",
    "\n",
    "eigen.names <- colnames(eigengenes)\n",
    "eigen.names\n",
    "\n",
    "cov.names <- c(\"sex\", paste0(\"genopc\", 1:7))\n",
    "cov.names\n",
    "\n",
    "rand.effect.names <- c(\"GAinS.ID\")\n",
    "rand.effect.names"
   ]
  },
  {
   "cell_type": "code",
   "execution_count": 12,
   "id": "b221eb77-3878-4695-86a5-ab2031652261",
   "metadata": {},
   "outputs": [],
   "source": [
    "mapping.data <- merge(eigengenes[samples.with.genotypes,], covs[samples.with.genotypes,], by.x=0, by.y=0) %>%\n",
    "    dplyr::mutate(GAinS.ID=sapply(strsplit(Row.names, \"_\"), function(x) x[1])) %>%\n",
    "    dplyr::select(Sample.ID=Row.names, any_of(rand.effect.names), any_of(eigen.names), any_of(cov.names), any_of(peer.factor.names))"
   ]
  },
  {
   "cell_type": "markdown",
   "id": "3467b47e-fe69-4d05-a429-96a961835b98",
   "metadata": {},
   "source": [
    "Save the mapping data design matrix for linear mixed modeling."
   ]
  },
  {
   "cell_type": "code",
   "execution_count": 13,
   "id": "0ea89bc0-7ba5-41be-8f25-cf2961c20975",
   "metadata": {},
   "outputs": [],
   "source": [
    "write.csv(mapping.data, \"~/gains_team282/nikhil/expression/eigengene_sva/mapping_data.csv\", row.names=F)"
   ]
  },
  {
   "cell_type": "markdown",
   "id": "79aa6653-2780-457b-8d75-66f0c3af7861",
   "metadata": {},
   "source": [
    "### Additional Covariates"
   ]
  },
  {
   "cell_type": "markdown",
   "id": "6706384b-31a0-43d1-a130-943b30004232",
   "metadata": {},
   "source": [
    "The initial pass demonstrated that cell proportions are confounders for detecting mQTL. I will add these to the covariates.\n",
    "\n",
    "1. Let $\\mathbf{E}_i\\in\\mathbb{R}^n$ be a vector representing the values of the $i$-th eigengene.\n",
    "2. Let $\\mathbf{Y}\\in\\mathbb{R}^{n\\times c}$ be a matrix of covariates. These covariates include Sex, Neutrophils, Lymphocytes, Monocytes, 16 PEER factors, and 7 Genotyping PCs.\n",
    "3. Let $\\mathbf{Z}\\in\\mathbb{R}^n$ be a vector representing the random effects. The only random effect in this model is the Patient ID.\n",
    "4. Let $\\mathbf{X}\\in\\mathbb{R}^n$ be a vector representing the genotypes of the patients.\n",
    "5. Let $\\beta\\in\\mathbb{R}$ be a scalar value representing the genotypic effect on eigengene expression.\n",
    "6. Let $\\mathbf{\\alpha}\\in\\mathbb{R}^c$ be a vector of covariate effects on eigengene expression.\n",
    "7. Let $\\gamma\\in\\mathbb{R}$ be a scalar value representing the random effect on eigengene expression.\n",
    "\n",
    "The null model is:\n",
    "\n",
    "$$\\mathbf{E}_i \\sim \\mathbf{Y}\\alpha + \\mathbf{Z}\\gamma$$\n",
    "\n",
    "The alternative model is:\n",
    "\n",
    "$$\\mathbf{E}_i \\sim \\mathbf{X}\\beta + \\mathbf{Y}\\alpha + \\mathbf{Z}\\gamma$$"
   ]
  },
  {
   "cell_type": "markdown",
   "id": "f9e14ad3-0817-4b3a-b48b-38377fc72cb1",
   "metadata": {},
   "source": [
    "There are 822 samples from the RNA-Seq data that have genotypes as well."
   ]
  },
  {
   "cell_type": "code",
   "execution_count": 13,
   "id": "06c4ac4b-9bc5-4e87-8757-3cc03b02ceb1",
   "metadata": {},
   "outputs": [
    {
     "data": {
      "text/html": [
       "822"
      ],
      "text/latex": [
       "822"
      ],
      "text/markdown": [
       "822"
      ],
      "text/plain": [
       "[1] 822"
      ]
     },
     "metadata": {},
     "output_type": "display_data"
    }
   ],
   "source": [
    "genotyping <- read.table(\"~/gains_team282/Genotyping/All_genotyping_merged_filtered_b38_refiltered_rsID.fam\")\n",
    "\n",
    "samples.with.genotypes <- rownames(eigengenes)[\n",
    "    sapply(\n",
    "        strsplit(rownames(eigengenes), \"_\"),\n",
    "        function(x) x[1] %in% genotyping$V1\n",
    "    )\n",
    "]\n",
    "\n",
    "length(samples.with.genotypes)"
   ]
  },
  {
   "cell_type": "code",
   "execution_count": 14,
   "id": "04558d2b-a7ac-463d-b826-95de207efb7a",
   "metadata": {},
   "outputs": [
    {
     "data": {
      "text/html": [
       "<style>\n",
       ".list-inline {list-style: none; margin:0; padding: 0}\n",
       ".list-inline>li {display: inline-block}\n",
       ".list-inline>li:not(:last-child)::after {content: \"\\00b7\"; padding: 0 .5ex}\n",
       "</style>\n",
       "<ol class=list-inline><li>'peer12'</li><li>'peer14'</li><li>'peer15'</li><li>'peer16'</li><li>'peer17'</li><li>'peer19'</li><li>'peer20'</li><li>'peer21'</li><li>'peer22'</li><li>'peer23'</li><li>'peer24'</li><li>'peer25'</li><li>'peer26'</li><li>'peer27'</li><li>'peer28'</li><li>'peer30'</li></ol>\n"
      ],
      "text/latex": [
       "\\begin{enumerate*}\n",
       "\\item 'peer12'\n",
       "\\item 'peer14'\n",
       "\\item 'peer15'\n",
       "\\item 'peer16'\n",
       "\\item 'peer17'\n",
       "\\item 'peer19'\n",
       "\\item 'peer20'\n",
       "\\item 'peer21'\n",
       "\\item 'peer22'\n",
       "\\item 'peer23'\n",
       "\\item 'peer24'\n",
       "\\item 'peer25'\n",
       "\\item 'peer26'\n",
       "\\item 'peer27'\n",
       "\\item 'peer28'\n",
       "\\item 'peer30'\n",
       "\\end{enumerate*}\n"
      ],
      "text/markdown": [
       "1. 'peer12'\n",
       "2. 'peer14'\n",
       "3. 'peer15'\n",
       "4. 'peer16'\n",
       "5. 'peer17'\n",
       "6. 'peer19'\n",
       "7. 'peer20'\n",
       "8. 'peer21'\n",
       "9. 'peer22'\n",
       "10. 'peer23'\n",
       "11. 'peer24'\n",
       "12. 'peer25'\n",
       "13. 'peer26'\n",
       "14. 'peer27'\n",
       "15. 'peer28'\n",
       "16. 'peer30'\n",
       "\n",
       "\n"
      ],
      "text/plain": [
       " [1] \"peer12\" \"peer14\" \"peer15\" \"peer16\" \"peer17\" \"peer19\" \"peer20\" \"peer21\"\n",
       " [9] \"peer22\" \"peer23\" \"peer24\" \"peer25\" \"peer26\" \"peer27\" \"peer28\" \"peer30\""
      ]
     },
     "metadata": {},
     "output_type": "display_data"
    },
    {
     "data": {
      "text/html": [
       "<style>\n",
       ".list-inline {list-style: none; margin:0; padding: 0}\n",
       ".list-inline>li {display: inline-block}\n",
       ".list-inline>li:not(:last-child)::after {content: \"\\00b7\"; padding: 0 .5ex}\n",
       "</style>\n",
       "<ol class=list-inline><li>'ME_1'</li><li>'ME_2'</li><li>'ME_3'</li><li>'ME_4'</li><li>'ME_5'</li><li>'ME_6'</li><li>'ME_7'</li><li>'ME_8'</li><li>'ME_9'</li><li>'ME_10'</li><li>'ME_11'</li><li>'ME_12'</li><li>'ME_13'</li><li>'ME_14'</li><li>'ME_15'</li><li>'ME_16'</li><li>'ME_17'</li><li>'ME_18'</li><li>'ME_19'</li><li>'ME_20'</li><li>'ME_21'</li><li>'ME_22'</li><li>'ME_23'</li><li>'ME_24'</li><li>'ME_25'</li><li>'ME_26'</li><li>'ME_27'</li><li>'ME_28'</li><li>'ME_29'</li><li>'ME_30'</li><li>'ME_31'</li><li>'ME_32'</li><li>'ME_33'</li><li>'ME_34'</li><li>'ME_35'</li><li>'ME_36'</li><li>'ME_37'</li><li>'ME_38'</li><li>'ME_39'</li><li>'ME_40'</li><li>'ME_41'</li><li>'ME_42'</li><li>'ME_43'</li><li>'ME_44'</li><li>'ME_45'</li><li>'ME_46'</li><li>'ME_47'</li><li>'ME_48'</li><li>'ME_49'</li><li>'ME_50'</li><li>'ME_51'</li><li>'ME_52'</li><li>'ME_53'</li><li>'ME_54'</li><li>'ME_55'</li><li>'ME_56'</li><li>'ME_57'</li><li>'ME_58'</li><li>'ME_59'</li><li>'ME_60'</li><li>'ME_61'</li><li>'ME_62'</li><li>'ME_63'</li><li>'ME_64'</li><li>'ME_65'</li><li>'ME_66'</li><li>'ME_67'</li><li>'ME_68'</li><li>'ME_69'</li><li>'ME_70'</li><li>'ME_71'</li><li>'ME_72'</li><li>'ME_73'</li><li>'ME_74'</li><li>'ME_75'</li><li>'ME_76'</li><li>'ME_77'</li><li>'ME_78'</li><li>'ME_79'</li><li>'ME_80'</li><li>'ME_81'</li><li>'ME_82'</li><li>'ME_83'</li><li>'ME_84'</li><li>'ME_85'</li><li>'ME_86'</li><li>'ME_87'</li><li>'ME_88'</li><li>'ME_89'</li><li>'ME_90'</li><li>'ME_91'</li><li>'ME_92'</li><li>'ME_93'</li><li>'ME_94'</li><li>'ME_95'</li><li>'ME_96'</li><li>'ME_97'</li><li>'ME_98'</li><li>'ME_99'</li><li>'ME_100'</li><li>'ME_101'</li><li>'ME_102'</li></ol>\n"
      ],
      "text/latex": [
       "\\begin{enumerate*}\n",
       "\\item 'ME\\_1'\n",
       "\\item 'ME\\_2'\n",
       "\\item 'ME\\_3'\n",
       "\\item 'ME\\_4'\n",
       "\\item 'ME\\_5'\n",
       "\\item 'ME\\_6'\n",
       "\\item 'ME\\_7'\n",
       "\\item 'ME\\_8'\n",
       "\\item 'ME\\_9'\n",
       "\\item 'ME\\_10'\n",
       "\\item 'ME\\_11'\n",
       "\\item 'ME\\_12'\n",
       "\\item 'ME\\_13'\n",
       "\\item 'ME\\_14'\n",
       "\\item 'ME\\_15'\n",
       "\\item 'ME\\_16'\n",
       "\\item 'ME\\_17'\n",
       "\\item 'ME\\_18'\n",
       "\\item 'ME\\_19'\n",
       "\\item 'ME\\_20'\n",
       "\\item 'ME\\_21'\n",
       "\\item 'ME\\_22'\n",
       "\\item 'ME\\_23'\n",
       "\\item 'ME\\_24'\n",
       "\\item 'ME\\_25'\n",
       "\\item 'ME\\_26'\n",
       "\\item 'ME\\_27'\n",
       "\\item 'ME\\_28'\n",
       "\\item 'ME\\_29'\n",
       "\\item 'ME\\_30'\n",
       "\\item 'ME\\_31'\n",
       "\\item 'ME\\_32'\n",
       "\\item 'ME\\_33'\n",
       "\\item 'ME\\_34'\n",
       "\\item 'ME\\_35'\n",
       "\\item 'ME\\_36'\n",
       "\\item 'ME\\_37'\n",
       "\\item 'ME\\_38'\n",
       "\\item 'ME\\_39'\n",
       "\\item 'ME\\_40'\n",
       "\\item 'ME\\_41'\n",
       "\\item 'ME\\_42'\n",
       "\\item 'ME\\_43'\n",
       "\\item 'ME\\_44'\n",
       "\\item 'ME\\_45'\n",
       "\\item 'ME\\_46'\n",
       "\\item 'ME\\_47'\n",
       "\\item 'ME\\_48'\n",
       "\\item 'ME\\_49'\n",
       "\\item 'ME\\_50'\n",
       "\\item 'ME\\_51'\n",
       "\\item 'ME\\_52'\n",
       "\\item 'ME\\_53'\n",
       "\\item 'ME\\_54'\n",
       "\\item 'ME\\_55'\n",
       "\\item 'ME\\_56'\n",
       "\\item 'ME\\_57'\n",
       "\\item 'ME\\_58'\n",
       "\\item 'ME\\_59'\n",
       "\\item 'ME\\_60'\n",
       "\\item 'ME\\_61'\n",
       "\\item 'ME\\_62'\n",
       "\\item 'ME\\_63'\n",
       "\\item 'ME\\_64'\n",
       "\\item 'ME\\_65'\n",
       "\\item 'ME\\_66'\n",
       "\\item 'ME\\_67'\n",
       "\\item 'ME\\_68'\n",
       "\\item 'ME\\_69'\n",
       "\\item 'ME\\_70'\n",
       "\\item 'ME\\_71'\n",
       "\\item 'ME\\_72'\n",
       "\\item 'ME\\_73'\n",
       "\\item 'ME\\_74'\n",
       "\\item 'ME\\_75'\n",
       "\\item 'ME\\_76'\n",
       "\\item 'ME\\_77'\n",
       "\\item 'ME\\_78'\n",
       "\\item 'ME\\_79'\n",
       "\\item 'ME\\_80'\n",
       "\\item 'ME\\_81'\n",
       "\\item 'ME\\_82'\n",
       "\\item 'ME\\_83'\n",
       "\\item 'ME\\_84'\n",
       "\\item 'ME\\_85'\n",
       "\\item 'ME\\_86'\n",
       "\\item 'ME\\_87'\n",
       "\\item 'ME\\_88'\n",
       "\\item 'ME\\_89'\n",
       "\\item 'ME\\_90'\n",
       "\\item 'ME\\_91'\n",
       "\\item 'ME\\_92'\n",
       "\\item 'ME\\_93'\n",
       "\\item 'ME\\_94'\n",
       "\\item 'ME\\_95'\n",
       "\\item 'ME\\_96'\n",
       "\\item 'ME\\_97'\n",
       "\\item 'ME\\_98'\n",
       "\\item 'ME\\_99'\n",
       "\\item 'ME\\_100'\n",
       "\\item 'ME\\_101'\n",
       "\\item 'ME\\_102'\n",
       "\\end{enumerate*}\n"
      ],
      "text/markdown": [
       "1. 'ME_1'\n",
       "2. 'ME_2'\n",
       "3. 'ME_3'\n",
       "4. 'ME_4'\n",
       "5. 'ME_5'\n",
       "6. 'ME_6'\n",
       "7. 'ME_7'\n",
       "8. 'ME_8'\n",
       "9. 'ME_9'\n",
       "10. 'ME_10'\n",
       "11. 'ME_11'\n",
       "12. 'ME_12'\n",
       "13. 'ME_13'\n",
       "14. 'ME_14'\n",
       "15. 'ME_15'\n",
       "16. 'ME_16'\n",
       "17. 'ME_17'\n",
       "18. 'ME_18'\n",
       "19. 'ME_19'\n",
       "20. 'ME_20'\n",
       "21. 'ME_21'\n",
       "22. 'ME_22'\n",
       "23. 'ME_23'\n",
       "24. 'ME_24'\n",
       "25. 'ME_25'\n",
       "26. 'ME_26'\n",
       "27. 'ME_27'\n",
       "28. 'ME_28'\n",
       "29. 'ME_29'\n",
       "30. 'ME_30'\n",
       "31. 'ME_31'\n",
       "32. 'ME_32'\n",
       "33. 'ME_33'\n",
       "34. 'ME_34'\n",
       "35. 'ME_35'\n",
       "36. 'ME_36'\n",
       "37. 'ME_37'\n",
       "38. 'ME_38'\n",
       "39. 'ME_39'\n",
       "40. 'ME_40'\n",
       "41. 'ME_41'\n",
       "42. 'ME_42'\n",
       "43. 'ME_43'\n",
       "44. 'ME_44'\n",
       "45. 'ME_45'\n",
       "46. 'ME_46'\n",
       "47. 'ME_47'\n",
       "48. 'ME_48'\n",
       "49. 'ME_49'\n",
       "50. 'ME_50'\n",
       "51. 'ME_51'\n",
       "52. 'ME_52'\n",
       "53. 'ME_53'\n",
       "54. 'ME_54'\n",
       "55. 'ME_55'\n",
       "56. 'ME_56'\n",
       "57. 'ME_57'\n",
       "58. 'ME_58'\n",
       "59. 'ME_59'\n",
       "60. 'ME_60'\n",
       "61. 'ME_61'\n",
       "62. 'ME_62'\n",
       "63. 'ME_63'\n",
       "64. 'ME_64'\n",
       "65. 'ME_65'\n",
       "66. 'ME_66'\n",
       "67. 'ME_67'\n",
       "68. 'ME_68'\n",
       "69. 'ME_69'\n",
       "70. 'ME_70'\n",
       "71. 'ME_71'\n",
       "72. 'ME_72'\n",
       "73. 'ME_73'\n",
       "74. 'ME_74'\n",
       "75. 'ME_75'\n",
       "76. 'ME_76'\n",
       "77. 'ME_77'\n",
       "78. 'ME_78'\n",
       "79. 'ME_79'\n",
       "80. 'ME_80'\n",
       "81. 'ME_81'\n",
       "82. 'ME_82'\n",
       "83. 'ME_83'\n",
       "84. 'ME_84'\n",
       "85. 'ME_85'\n",
       "86. 'ME_86'\n",
       "87. 'ME_87'\n",
       "88. 'ME_88'\n",
       "89. 'ME_89'\n",
       "90. 'ME_90'\n",
       "91. 'ME_91'\n",
       "92. 'ME_92'\n",
       "93. 'ME_93'\n",
       "94. 'ME_94'\n",
       "95. 'ME_95'\n",
       "96. 'ME_96'\n",
       "97. 'ME_97'\n",
       "98. 'ME_98'\n",
       "99. 'ME_99'\n",
       "100. 'ME_100'\n",
       "101. 'ME_101'\n",
       "102. 'ME_102'\n",
       "\n",
       "\n"
      ],
      "text/plain": [
       "  [1] \"ME_1\"   \"ME_2\"   \"ME_3\"   \"ME_4\"   \"ME_5\"   \"ME_6\"   \"ME_7\"   \"ME_8\"  \n",
       "  [9] \"ME_9\"   \"ME_10\"  \"ME_11\"  \"ME_12\"  \"ME_13\"  \"ME_14\"  \"ME_15\"  \"ME_16\" \n",
       " [17] \"ME_17\"  \"ME_18\"  \"ME_19\"  \"ME_20\"  \"ME_21\"  \"ME_22\"  \"ME_23\"  \"ME_24\" \n",
       " [25] \"ME_25\"  \"ME_26\"  \"ME_27\"  \"ME_28\"  \"ME_29\"  \"ME_30\"  \"ME_31\"  \"ME_32\" \n",
       " [33] \"ME_33\"  \"ME_34\"  \"ME_35\"  \"ME_36\"  \"ME_37\"  \"ME_38\"  \"ME_39\"  \"ME_40\" \n",
       " [41] \"ME_41\"  \"ME_42\"  \"ME_43\"  \"ME_44\"  \"ME_45\"  \"ME_46\"  \"ME_47\"  \"ME_48\" \n",
       " [49] \"ME_49\"  \"ME_50\"  \"ME_51\"  \"ME_52\"  \"ME_53\"  \"ME_54\"  \"ME_55\"  \"ME_56\" \n",
       " [57] \"ME_57\"  \"ME_58\"  \"ME_59\"  \"ME_60\"  \"ME_61\"  \"ME_62\"  \"ME_63\"  \"ME_64\" \n",
       " [65] \"ME_65\"  \"ME_66\"  \"ME_67\"  \"ME_68\"  \"ME_69\"  \"ME_70\"  \"ME_71\"  \"ME_72\" \n",
       " [73] \"ME_73\"  \"ME_74\"  \"ME_75\"  \"ME_76\"  \"ME_77\"  \"ME_78\"  \"ME_79\"  \"ME_80\" \n",
       " [81] \"ME_81\"  \"ME_82\"  \"ME_83\"  \"ME_84\"  \"ME_85\"  \"ME_86\"  \"ME_87\"  \"ME_88\" \n",
       " [89] \"ME_89\"  \"ME_90\"  \"ME_91\"  \"ME_92\"  \"ME_93\"  \"ME_94\"  \"ME_95\"  \"ME_96\" \n",
       " [97] \"ME_97\"  \"ME_98\"  \"ME_99\"  \"ME_100\" \"ME_101\" \"ME_102\""
      ]
     },
     "metadata": {},
     "output_type": "display_data"
    },
    {
     "data": {
      "text/html": [
       "<style>\n",
       ".list-inline {list-style: none; margin:0; padding: 0}\n",
       ".list-inline>li {display: inline-block}\n",
       ".list-inline>li:not(:last-child)::after {content: \"\\00b7\"; padding: 0 .5ex}\n",
       "</style>\n",
       "<ol class=list-inline><li>'sex'</li><li>'neutrophils'</li><li>'lymphocytes'</li><li>'monocytes'</li><li>'genopc1'</li><li>'genopc2'</li><li>'genopc3'</li><li>'genopc4'</li><li>'genopc5'</li><li>'genopc6'</li><li>'genopc7'</li></ol>\n"
      ],
      "text/latex": [
       "\\begin{enumerate*}\n",
       "\\item 'sex'\n",
       "\\item 'neutrophils'\n",
       "\\item 'lymphocytes'\n",
       "\\item 'monocytes'\n",
       "\\item 'genopc1'\n",
       "\\item 'genopc2'\n",
       "\\item 'genopc3'\n",
       "\\item 'genopc4'\n",
       "\\item 'genopc5'\n",
       "\\item 'genopc6'\n",
       "\\item 'genopc7'\n",
       "\\end{enumerate*}\n"
      ],
      "text/markdown": [
       "1. 'sex'\n",
       "2. 'neutrophils'\n",
       "3. 'lymphocytes'\n",
       "4. 'monocytes'\n",
       "5. 'genopc1'\n",
       "6. 'genopc2'\n",
       "7. 'genopc3'\n",
       "8. 'genopc4'\n",
       "9. 'genopc5'\n",
       "10. 'genopc6'\n",
       "11. 'genopc7'\n",
       "\n",
       "\n"
      ],
      "text/plain": [
       " [1] \"sex\"         \"neutrophils\" \"lymphocytes\" \"monocytes\"   \"genopc1\"    \n",
       " [6] \"genopc2\"     \"genopc3\"     \"genopc4\"     \"genopc5\"     \"genopc6\"    \n",
       "[11] \"genopc7\"    "
      ]
     },
     "metadata": {},
     "output_type": "display_data"
    },
    {
     "data": {
      "text/html": [
       "'GAinS.ID'"
      ],
      "text/latex": [
       "'GAinS.ID'"
      ],
      "text/markdown": [
       "'GAinS.ID'"
      ],
      "text/plain": [
       "[1] \"GAinS.ID\""
      ]
     },
     "metadata": {},
     "output_type": "display_data"
    }
   ],
   "source": [
    "peer.factor.names\n",
    "\n",
    "eigen.names <- colnames(eigengenes)\n",
    "eigen.names\n",
    "\n",
    "cov.names <- c(\"sex\", \"neutrophils\", \"lymphocytes\", \"monocytes\", paste0(\"genopc\", 1:7))\n",
    "cov.names\n",
    "\n",
    "rand.effect.names <- c(\"GAinS.ID\")\n",
    "rand.effect.names"
   ]
  },
  {
   "cell_type": "code",
   "execution_count": 15,
   "id": "745ebd75-dcb5-48c5-b06c-6fec48f7198c",
   "metadata": {},
   "outputs": [],
   "source": [
    "mapping.data <- merge(eigengenes[samples.with.genotypes,], covs[samples.with.genotypes,], by.x=0, by.y=0) %>%\n",
    "    dplyr::mutate(GAinS.ID=sapply(strsplit(Row.names, \"_\"), function(x) x[1])) %>%\n",
    "    dplyr::select(Sample.ID=Row.names, any_of(rand.effect.names), any_of(eigen.names), any_of(cov.names), any_of(peer.factor.names))"
   ]
  },
  {
   "cell_type": "markdown",
   "id": "e888b1c2-5f8f-42a4-a5a5-787f39e8acb9",
   "metadata": {},
   "source": [
    "Save the mapping data design matrix for linear mixed modeling."
   ]
  },
  {
   "cell_type": "code",
   "execution_count": 16,
   "id": "f3ef8ac1-a9a0-4beb-8bcf-c7e446184a51",
   "metadata": {},
   "outputs": [],
   "source": [
    "write.csv(mapping.data, \"~/gains_team282/nikhil/expression/eigengene_sva/mapping_data_cell_proportions.csv\", row.names=F)"
   ]
  },
  {
   "cell_type": "code",
   "execution_count": null,
   "id": "ae6fca8a-5ad8-4b77-a9a0-fb43c40735ee",
   "metadata": {},
   "outputs": [],
   "source": []
  }
 ],
 "metadata": {
  "kernelspec": {
   "display_name": "R",
   "language": "R",
   "name": "ir"
  },
  "language_info": {
   "codemirror_mode": "r",
   "file_extension": ".r",
   "mimetype": "text/x-r-source",
   "name": "R",
   "pygments_lexer": "r",
   "version": "4.1.1"
  }
 },
 "nbformat": 4,
 "nbformat_minor": 5
}
