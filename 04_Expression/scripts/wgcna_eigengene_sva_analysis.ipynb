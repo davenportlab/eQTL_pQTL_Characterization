{
 "cells": [
  {
   "cell_type": "markdown",
   "id": "13a6d567-93eb-49cb-b990-47eeadbaa4ed",
   "metadata": {},
   "source": [
    "# Eigengene SVA Analysis\n",
    "\n",
    "**Created**: 13 December 2021"
   ]
  },
  {
   "cell_type": "markdown",
   "id": "fd1d3c8f-83ef-454a-942d-df6850b499bb",
   "metadata": {
    "tags": []
   },
   "source": [
    "## Environment"
   ]
  },
  {
   "cell_type": "code",
   "execution_count": 1,
   "id": "9b48beed-9062-4f5e-b496-5c91855bd3b5",
   "metadata": {},
   "outputs": [
    {
     "name": "stderr",
     "output_type": "stream",
     "text": [
      "Loading required namespace: patchwork\n",
      "\n"
     ]
    }
   ],
   "source": [
    "if (!requireNamespace(\"patchwork\")) {\n",
    "    install.packages(\"devtools\")\n",
    "    devtools::install_github(\"thomasp85/patchwork\")\n",
    "}"
   ]
  },
  {
   "cell_type": "code",
   "execution_count": 2,
   "id": "244dc510-997d-4a87-b5ee-96d685fdadab",
   "metadata": {},
   "outputs": [
    {
     "name": "stderr",
     "output_type": "stream",
     "text": [
      "── \u001b[1mAttaching packages\u001b[22m ───────────────────────────────────────────────────────────────────────────────────────────────────────────────────────────────────────────────────────────────── tidyverse 1.3.1 ──\n",
      "\n",
      "\u001b[32m✔\u001b[39m \u001b[34mggplot2\u001b[39m 3.3.5     \u001b[32m✔\u001b[39m \u001b[34mpurrr  \u001b[39m 0.3.4\n",
      "\u001b[32m✔\u001b[39m \u001b[34mtibble \u001b[39m 3.1.6     \u001b[32m✔\u001b[39m \u001b[34mdplyr  \u001b[39m 1.0.7\n",
      "\u001b[32m✔\u001b[39m \u001b[34mtidyr  \u001b[39m 1.1.4     \u001b[32m✔\u001b[39m \u001b[34mstringr\u001b[39m 1.4.0\n",
      "\u001b[32m✔\u001b[39m \u001b[34mreadr  \u001b[39m 2.1.1     \u001b[32m✔\u001b[39m \u001b[34mforcats\u001b[39m 0.5.1\n",
      "\n",
      "── \u001b[1mConflicts\u001b[22m ──────────────────────────────────────────────────────────────────────────────────────────────────────────────────────────────────────────────────────────────────── tidyverse_conflicts() ──\n",
      "\u001b[31m✖\u001b[39m \u001b[34mdplyr\u001b[39m::\u001b[32mfilter()\u001b[39m masks \u001b[34mstats\u001b[39m::filter()\n",
      "\u001b[31m✖\u001b[39m \u001b[34mdplyr\u001b[39m::\u001b[32mlag()\u001b[39m    masks \u001b[34mstats\u001b[39m::lag()\n",
      "\n",
      "\n",
      "Attaching package: ‘data.table’\n",
      "\n",
      "\n",
      "The following objects are masked from ‘package:dplyr’:\n",
      "\n",
      "    between, first, last\n",
      "\n",
      "\n",
      "The following object is masked from ‘package:purrr’:\n",
      "\n",
      "    transpose\n",
      "\n",
      "\n"
     ]
    }
   ],
   "source": [
    "library(tidyverse)\n",
    "library(data.table)\n",
    "library(parallel)\n",
    "library(patchwork)\n",
    "\n",
    "setwd(\"~/eQTL_pQTL_Characterization/\")\n",
    "\n",
    "source(\"04_Expression/scripts/utils/ggplot_theme.R\")"
   ]
  },
  {
   "cell_type": "markdown",
   "id": "97d7dab9-bde6-460e-ae7f-238b3ac09876",
   "metadata": {},
   "source": [
    "## Load Data"
   ]
  },
  {
   "cell_type": "code",
   "execution_count": 3,
   "id": "b41c2bf1-d717-47ac-8b62-8bbbf20b5195",
   "metadata": {},
   "outputs": [],
   "source": [
    "geno <- fread(\"~/gains_team282/Genotyping/All_genotyping_merged_filtered_b38_refiltered_rsID.bim\")\n",
    "colnames(geno) <- c(\"chr\", \"snp\", \"cM\", \"pos\", \"minor\", \"major\")"
   ]
  },
  {
   "cell_type": "markdown",
   "id": "8e712603-19aa-4435-916c-5e2113ab0310",
   "metadata": {},
   "source": [
    "## Manhattan Plots"
   ]
  },
  {
   "cell_type": "markdown",
   "id": "7cd02116-ca51-449b-adc8-ed548b7d5375",
   "metadata": {},
   "source": [
    "The genome-wide significance threshold is calculated using a Bonferroni correction of a significance threshold of 0.05. We performed tests for 66 individual eigengenes for 70300 SNPs. This threshold is slightly larger than 1e-8, so I will use that cutoff instead."
   ]
  },
  {
   "cell_type": "markdown",
   "id": "cdad0fd4-5634-4235-9a1c-7c63cabc213d",
   "metadata": {},
   "source": [
    "Under the null distribution, $t=\\frac{\\hat{\\beta}}{SE}$ follows a T distribution with degrees of freedom close to $n$. The genomic inflation score measures the deviation from this expected distribution while accounting for outliers expected from a few true positives. The score is\n",
    "\n",
    "$$\\lambda = \\frac{\\text{median}(t^2)}{\\text{median}(\\chi_1^2)}$$\n",
    "\n",
    "where $t$ is the T-statistic for $\\beta$. Here, we assume that the T Distribution can be approximated as a standard normal distribution since $n$ is relatively large."
   ]
  },
  {
   "cell_type": "code",
   "execution_count": 4,
   "id": "3ead7e58-c5e3-4637-8d0d-1a9468c95ba0",
   "metadata": {},
   "outputs": [],
   "source": [
    "me.assocs <- do.call(rbind, lapply(list.files(\"~/gains_team282/nikhil/expression/eigengene_sva/wgcna_initial_pass/\", pattern=\"*.tsv\"), function(file) {\n",
    "    file.full = paste0(\"~/gains_team282/nikhil/expression/eigengene_sva/wgcna_initial_pass/\", file)\n",
    "    me.assoc = fread(file.full, sep=\"\\t\", fill=TRUE) %>%\n",
    "        as.data.frame() %>%\n",
    "        dplyr::mutate(me = gsub(\"\\\\.tsv\", \"\", file)) %>%\n",
    "        dplyr::select(snp=1, beta=2, se=3, t=4, p=5, me)\n",
    "}))"
   ]
  },
  {
   "cell_type": "code",
   "execution_count": 5,
   "id": "3f5e225f-629a-4b48-9d28-39829632ef32",
   "metadata": {},
   "outputs": [],
   "source": [
    "lambdas <- me.assocs %>%\n",
    "    dplyr::group_by(me) %>%\n",
    "    dplyr::summarize(lambda = median(qchisq(1 - p, 1)) / qchisq(0.5, 1))"
   ]
  },
  {
   "cell_type": "code",
   "execution_count": 27,
   "id": "6ba69696-5156-408f-9a09-d3d03e8115aa",
   "metadata": {},
   "outputs": [
    {
     "data": {
      "text/html": [
       "<table class=\"dataframe\">\n",
       "<caption>A grouped_df: 31 × 11</caption>\n",
       "<thead>\n",
       "\t<tr><th scope=col>snp</th><th scope=col>beta</th><th scope=col>se</th><th scope=col>t</th><th scope=col>p</th><th scope=col>me</th><th scope=col>chr</th><th scope=col>cM</th><th scope=col>pos</th><th scope=col>minor</th><th scope=col>major</th></tr>\n",
       "\t<tr><th scope=col>&lt;chr&gt;</th><th scope=col>&lt;dbl&gt;</th><th scope=col>&lt;dbl&gt;</th><th scope=col>&lt;dbl&gt;</th><th scope=col>&lt;dbl&gt;</th><th scope=col>&lt;chr&gt;</th><th scope=col>&lt;chr&gt;</th><th scope=col>&lt;int&gt;</th><th scope=col>&lt;int&gt;</th><th scope=col>&lt;chr&gt;</th><th scope=col>&lt;chr&gt;</th></tr>\n",
       "</thead>\n",
       "<tbody>\n",
       "\t<tr><td>rs582717  </td><td> 0.013268366</td><td>0.0010161510</td><td> 13.057476</td><td> 9.819997e-35</td><td>ME_101</td><td>1 </td><td>0</td><td> 25400345</td><td>C</td><td>T</td></tr>\n",
       "\t<tr><td>rs1131017 </td><td>-0.012402898</td><td>0.0010199861</td><td>-12.159869</td><td> 1.001692e-30</td><td>ME_101</td><td>12</td><td>0</td><td> 56042145</td><td>C</td><td>G</td></tr>\n",
       "\t<tr><td>rs629329  </td><td> 0.029716084</td><td>0.0014781992</td><td> 20.102895</td><td> 9.204765e-70</td><td>ME_102</td><td>17</td><td>0</td><td> 18377593</td><td>A</td><td>G</td></tr>\n",
       "\t<tr><td>rs4761234 </td><td>-0.006748100</td><td>0.0005868704</td><td>-11.498451</td><td> 4.488238e-28</td><td>ME_103</td><td>12</td><td>0</td><td> 69338325</td><td>C</td><td>T</td></tr>\n",
       "\t<tr><td>rs36053285</td><td>-0.027772998</td><td>0.0009853585</td><td>-28.185677</td><td>3.561824e-113</td><td>ME_104</td><td>15</td><td>0</td><td>100574435</td><td>C</td><td>T</td></tr>\n",
       "\t<tr><td>rs1757183 </td><td> 0.020068184</td><td>0.0009805332</td><td> 20.466604</td><td> 3.690375e-71</td><td>ME_105</td><td>6 </td><td>0</td><td> 37517014</td><td>T</td><td>C</td></tr>\n",
       "\t<tr><td>rs7395319 </td><td>-0.017864361</td><td>0.0011366742</td><td>-15.716342</td><td> 1.047548e-47</td><td>ME_106</td><td>11</td><td>0</td><td>   331326</td><td>C</td><td>T</td></tr>\n",
       "\t<tr><td>rs10936664</td><td> 0.005185452</td><td>0.0007761728</td><td>  6.680796</td><td> 5.300655e-11</td><td>ME_47 </td><td>3 </td><td>0</td><td>101496512</td><td>T</td><td>C</td></tr>\n",
       "\t<tr><td>rs844824  </td><td>-0.011300627</td><td>0.0012010050</td><td> -9.409309</td><td> 9.377902e-20</td><td>ME_64 </td><td>20</td><td>0</td><td> 23102180</td><td>G</td><td>C</td></tr>\n",
       "\t<tr><td>rs6773650 </td><td> 0.002833366</td><td>0.0004697374</td><td>  6.031808</td><td> 3.540637e-09</td><td>ME_67 </td><td>3 </td><td>0</td><td> 52863079</td><td>T</td><td>A</td></tr>\n",
       "\t<tr><td>rs57213017</td><td> 0.054611512</td><td>0.0008039318</td><td> 67.930525</td><td>1.132391e-289</td><td>ME_69 </td><td>17</td><td>0</td><td> 45589540</td><td>C</td><td>G</td></tr>\n",
       "\t<tr><td>rs997654  </td><td> 0.008280302</td><td>0.0010065945</td><td>  8.226056</td><td> 1.412440e-15</td><td>ME_70 </td><td>17</td><td>0</td><td> 35426611</td><td>G</td><td>A</td></tr>\n",
       "\t<tr><td>rs16843927</td><td> 0.008586028</td><td>0.0011825629</td><td>  7.260525</td><td> 1.207965e-12</td><td>ME_71 </td><td>3 </td><td>0</td><td>101512524</td><td>T</td><td>G</td></tr>\n",
       "\t<tr><td>rs73365136</td><td>-0.013573062</td><td>0.0008247675</td><td>-16.456835</td><td> 4.131484e-51</td><td>ME_75 </td><td>17</td><td>0</td><td> 74567980</td><td>C</td><td>G</td></tr>\n",
       "\t<tr><td>rs55923832</td><td> 0.010577612</td><td>0.0013809057</td><td>  7.659909</td><td> 7.110989e-14</td><td>ME_76 </td><td>5 </td><td>0</td><td> 69518952</td><td>G</td><td>C</td></tr>\n",
       "\t<tr><td>rs57090347</td><td> 0.034059951</td><td>0.0014731250</td><td> 23.120883</td><td> 1.364600e-85</td><td>ME_77 </td><td>16</td><td>0</td><td>    46496</td><td>G</td><td>A</td></tr>\n",
       "\t<tr><td>rs9349181 </td><td> 0.051034188</td><td>0.0009050736</td><td> 56.386782</td><td>1.767622e-248</td><td>ME_79 </td><td>6 </td><td>0</td><td> 41217867</td><td>C</td><td>A</td></tr>\n",
       "\t<tr><td>rs8112960 </td><td>-0.031567776</td><td>0.0009231544</td><td>-34.195555</td><td>7.595213e-146</td><td>ME_80 </td><td>19</td><td>0</td><td> 21592569</td><td>T</td><td>C</td></tr>\n",
       "\t<tr><td>rs1610741 </td><td> 0.010248893</td><td>0.0010209276</td><td> 10.038805</td><td> 5.523461e-22</td><td>ME_81 </td><td>6 </td><td>0</td><td> 29743747</td><td>G</td><td>A</td></tr>\n",
       "\t<tr><td>rs1677682 </td><td>-0.018455113</td><td>0.0006150390</td><td>-30.006410</td><td>1.236785e-122</td><td>ME_82 </td><td>5 </td><td>0</td><td> 80660774</td><td>A</td><td>C</td></tr>\n",
       "\t<tr><td>rs59458922</td><td> 0.029052028</td><td>0.0016891125</td><td> 17.199582</td><td> 3.120037e-55</td><td>ME_83 </td><td>7 </td><td>0</td><td>102694874</td><td>G</td><td>A</td></tr>\n",
       "\t<tr><td>rs389884  </td><td> 0.036583390</td><td>0.0018062351</td><td> 20.253947</td><td> 4.154758e-70</td><td>ME_84 </td><td>6 </td><td>0</td><td> 31973120</td><td>G</td><td>A</td></tr>\n",
       "\t<tr><td>rs4560394 </td><td> 0.015626096</td><td>0.0008385300</td><td> 18.635107</td><td> 4.779575e-62</td><td>ME_86 </td><td>4 </td><td>0</td><td>119392280</td><td>G</td><td>T</td></tr>\n",
       "\t<tr><td>rs1597245 </td><td> 0.033940501</td><td>0.0011627491</td><td> 29.189876</td><td>3.053339e-118</td><td>ME_88 </td><td>2 </td><td>0</td><td>113690640</td><td>C</td><td>G</td></tr>\n",
       "\t<tr><td>rs6558370 </td><td>-0.018067317</td><td>0.0007449084</td><td>-24.254416</td><td> 1.519532e-91</td><td>ME_89 </td><td>8 </td><td>0</td><td>143535521</td><td>A</td><td>G</td></tr>\n",
       "\t<tr><td>rs821470  </td><td> 0.006586633</td><td>0.0006895721</td><td>  9.551769</td><td> 3.469673e-20</td><td>ME_92 </td><td>16</td><td>0</td><td> 57024670</td><td>G</td><td>A</td></tr>\n",
       "\t<tr><td>rs999185  </td><td> 0.046411217</td><td>0.0010601892</td><td> 43.776353</td><td>1.427665e-191</td><td>ME_94 </td><td>12</td><td>0</td><td>  9960659</td><td>T</td><td>C</td></tr>\n",
       "\t<tr><td>rs4883164 </td><td>-0.007493530</td><td>0.0011466384</td><td> -6.535216</td><td> 1.210005e-10</td><td>ME_95 </td><td>12</td><td>0</td><td>  8474282</td><td>G</td><td>T</td></tr>\n",
       "\t<tr><td>rs4759187 </td><td>-0.011373540</td><td>0.0005159508</td><td>-22.043846</td><td> 7.780680e-80</td><td>ME_96 </td><td>12</td><td>0</td><td> 55681479</td><td>T</td><td>C</td></tr>\n",
       "\t<tr><td>rs74011998</td><td> 0.052783472</td><td>0.0011330153</td><td> 46.586725</td><td>1.337995e-205</td><td>ME_97 </td><td>15</td><td>0</td><td> 48304516</td><td>C</td><td>T</td></tr>\n",
       "\t<tr><td>rs408087  </td><td> 0.015077094</td><td>0.0007107126</td><td> 21.214051</td><td> 1.190125e-74</td><td>ME_99 </td><td>6 </td><td>0</td><td>166985464</td><td>C</td><td>T</td></tr>\n",
       "</tbody>\n",
       "</table>\n"
      ],
      "text/latex": [
       "A grouped\\_df: 31 × 11\n",
       "\\begin{tabular}{lllllllllll}\n",
       " snp & beta & se & t & p & me & chr & cM & pos & minor & major\\\\\n",
       " <chr> & <dbl> & <dbl> & <dbl> & <dbl> & <chr> & <chr> & <int> & <int> & <chr> & <chr>\\\\\n",
       "\\hline\n",
       "\t rs582717   &  0.013268366 & 0.0010161510 &  13.057476 &  9.819997e-35 & ME\\_101 & 1  & 0 &  25400345 & C & T\\\\\n",
       "\t rs1131017  & -0.012402898 & 0.0010199861 & -12.159869 &  1.001692e-30 & ME\\_101 & 12 & 0 &  56042145 & C & G\\\\\n",
       "\t rs629329   &  0.029716084 & 0.0014781992 &  20.102895 &  9.204765e-70 & ME\\_102 & 17 & 0 &  18377593 & A & G\\\\\n",
       "\t rs4761234  & -0.006748100 & 0.0005868704 & -11.498451 &  4.488238e-28 & ME\\_103 & 12 & 0 &  69338325 & C & T\\\\\n",
       "\t rs36053285 & -0.027772998 & 0.0009853585 & -28.185677 & 3.561824e-113 & ME\\_104 & 15 & 0 & 100574435 & C & T\\\\\n",
       "\t rs1757183  &  0.020068184 & 0.0009805332 &  20.466604 &  3.690375e-71 & ME\\_105 & 6  & 0 &  37517014 & T & C\\\\\n",
       "\t rs7395319  & -0.017864361 & 0.0011366742 & -15.716342 &  1.047548e-47 & ME\\_106 & 11 & 0 &    331326 & C & T\\\\\n",
       "\t rs10936664 &  0.005185452 & 0.0007761728 &   6.680796 &  5.300655e-11 & ME\\_47  & 3  & 0 & 101496512 & T & C\\\\\n",
       "\t rs844824   & -0.011300627 & 0.0012010050 &  -9.409309 &  9.377902e-20 & ME\\_64  & 20 & 0 &  23102180 & G & C\\\\\n",
       "\t rs6773650  &  0.002833366 & 0.0004697374 &   6.031808 &  3.540637e-09 & ME\\_67  & 3  & 0 &  52863079 & T & A\\\\\n",
       "\t rs57213017 &  0.054611512 & 0.0008039318 &  67.930525 & 1.132391e-289 & ME\\_69  & 17 & 0 &  45589540 & C & G\\\\\n",
       "\t rs997654   &  0.008280302 & 0.0010065945 &   8.226056 &  1.412440e-15 & ME\\_70  & 17 & 0 &  35426611 & G & A\\\\\n",
       "\t rs16843927 &  0.008586028 & 0.0011825629 &   7.260525 &  1.207965e-12 & ME\\_71  & 3  & 0 & 101512524 & T & G\\\\\n",
       "\t rs73365136 & -0.013573062 & 0.0008247675 & -16.456835 &  4.131484e-51 & ME\\_75  & 17 & 0 &  74567980 & C & G\\\\\n",
       "\t rs55923832 &  0.010577612 & 0.0013809057 &   7.659909 &  7.110989e-14 & ME\\_76  & 5  & 0 &  69518952 & G & C\\\\\n",
       "\t rs57090347 &  0.034059951 & 0.0014731250 &  23.120883 &  1.364600e-85 & ME\\_77  & 16 & 0 &     46496 & G & A\\\\\n",
       "\t rs9349181  &  0.051034188 & 0.0009050736 &  56.386782 & 1.767622e-248 & ME\\_79  & 6  & 0 &  41217867 & C & A\\\\\n",
       "\t rs8112960  & -0.031567776 & 0.0009231544 & -34.195555 & 7.595213e-146 & ME\\_80  & 19 & 0 &  21592569 & T & C\\\\\n",
       "\t rs1610741  &  0.010248893 & 0.0010209276 &  10.038805 &  5.523461e-22 & ME\\_81  & 6  & 0 &  29743747 & G & A\\\\\n",
       "\t rs1677682  & -0.018455113 & 0.0006150390 & -30.006410 & 1.236785e-122 & ME\\_82  & 5  & 0 &  80660774 & A & C\\\\\n",
       "\t rs59458922 &  0.029052028 & 0.0016891125 &  17.199582 &  3.120037e-55 & ME\\_83  & 7  & 0 & 102694874 & G & A\\\\\n",
       "\t rs389884   &  0.036583390 & 0.0018062351 &  20.253947 &  4.154758e-70 & ME\\_84  & 6  & 0 &  31973120 & G & A\\\\\n",
       "\t rs4560394  &  0.015626096 & 0.0008385300 &  18.635107 &  4.779575e-62 & ME\\_86  & 4  & 0 & 119392280 & G & T\\\\\n",
       "\t rs1597245  &  0.033940501 & 0.0011627491 &  29.189876 & 3.053339e-118 & ME\\_88  & 2  & 0 & 113690640 & C & G\\\\\n",
       "\t rs6558370  & -0.018067317 & 0.0007449084 & -24.254416 &  1.519532e-91 & ME\\_89  & 8  & 0 & 143535521 & A & G\\\\\n",
       "\t rs821470   &  0.006586633 & 0.0006895721 &   9.551769 &  3.469673e-20 & ME\\_92  & 16 & 0 &  57024670 & G & A\\\\\n",
       "\t rs999185   &  0.046411217 & 0.0010601892 &  43.776353 & 1.427665e-191 & ME\\_94  & 12 & 0 &   9960659 & T & C\\\\\n",
       "\t rs4883164  & -0.007493530 & 0.0011466384 &  -6.535216 &  1.210005e-10 & ME\\_95  & 12 & 0 &   8474282 & G & T\\\\\n",
       "\t rs4759187  & -0.011373540 & 0.0005159508 & -22.043846 &  7.780680e-80 & ME\\_96  & 12 & 0 &  55681479 & T & C\\\\\n",
       "\t rs74011998 &  0.052783472 & 0.0011330153 &  46.586725 & 1.337995e-205 & ME\\_97  & 15 & 0 &  48304516 & C & T\\\\\n",
       "\t rs408087   &  0.015077094 & 0.0007107126 &  21.214051 &  1.190125e-74 & ME\\_99  & 6  & 0 & 166985464 & C & T\\\\\n",
       "\\end{tabular}\n"
      ],
      "text/markdown": [
       "\n",
       "A grouped_df: 31 × 11\n",
       "\n",
       "| snp &lt;chr&gt; | beta &lt;dbl&gt; | se &lt;dbl&gt; | t &lt;dbl&gt; | p &lt;dbl&gt; | me &lt;chr&gt; | chr &lt;chr&gt; | cM &lt;int&gt; | pos &lt;int&gt; | minor &lt;chr&gt; | major &lt;chr&gt; |\n",
       "|---|---|---|---|---|---|---|---|---|---|---|\n",
       "| rs582717   |  0.013268366 | 0.0010161510 |  13.057476 |  9.819997e-35 | ME_101 | 1  | 0 |  25400345 | C | T |\n",
       "| rs1131017  | -0.012402898 | 0.0010199861 | -12.159869 |  1.001692e-30 | ME_101 | 12 | 0 |  56042145 | C | G |\n",
       "| rs629329   |  0.029716084 | 0.0014781992 |  20.102895 |  9.204765e-70 | ME_102 | 17 | 0 |  18377593 | A | G |\n",
       "| rs4761234  | -0.006748100 | 0.0005868704 | -11.498451 |  4.488238e-28 | ME_103 | 12 | 0 |  69338325 | C | T |\n",
       "| rs36053285 | -0.027772998 | 0.0009853585 | -28.185677 | 3.561824e-113 | ME_104 | 15 | 0 | 100574435 | C | T |\n",
       "| rs1757183  |  0.020068184 | 0.0009805332 |  20.466604 |  3.690375e-71 | ME_105 | 6  | 0 |  37517014 | T | C |\n",
       "| rs7395319  | -0.017864361 | 0.0011366742 | -15.716342 |  1.047548e-47 | ME_106 | 11 | 0 |    331326 | C | T |\n",
       "| rs10936664 |  0.005185452 | 0.0007761728 |   6.680796 |  5.300655e-11 | ME_47  | 3  | 0 | 101496512 | T | C |\n",
       "| rs844824   | -0.011300627 | 0.0012010050 |  -9.409309 |  9.377902e-20 | ME_64  | 20 | 0 |  23102180 | G | C |\n",
       "| rs6773650  |  0.002833366 | 0.0004697374 |   6.031808 |  3.540637e-09 | ME_67  | 3  | 0 |  52863079 | T | A |\n",
       "| rs57213017 |  0.054611512 | 0.0008039318 |  67.930525 | 1.132391e-289 | ME_69  | 17 | 0 |  45589540 | C | G |\n",
       "| rs997654   |  0.008280302 | 0.0010065945 |   8.226056 |  1.412440e-15 | ME_70  | 17 | 0 |  35426611 | G | A |\n",
       "| rs16843927 |  0.008586028 | 0.0011825629 |   7.260525 |  1.207965e-12 | ME_71  | 3  | 0 | 101512524 | T | G |\n",
       "| rs73365136 | -0.013573062 | 0.0008247675 | -16.456835 |  4.131484e-51 | ME_75  | 17 | 0 |  74567980 | C | G |\n",
       "| rs55923832 |  0.010577612 | 0.0013809057 |   7.659909 |  7.110989e-14 | ME_76  | 5  | 0 |  69518952 | G | C |\n",
       "| rs57090347 |  0.034059951 | 0.0014731250 |  23.120883 |  1.364600e-85 | ME_77  | 16 | 0 |     46496 | G | A |\n",
       "| rs9349181  |  0.051034188 | 0.0009050736 |  56.386782 | 1.767622e-248 | ME_79  | 6  | 0 |  41217867 | C | A |\n",
       "| rs8112960  | -0.031567776 | 0.0009231544 | -34.195555 | 7.595213e-146 | ME_80  | 19 | 0 |  21592569 | T | C |\n",
       "| rs1610741  |  0.010248893 | 0.0010209276 |  10.038805 |  5.523461e-22 | ME_81  | 6  | 0 |  29743747 | G | A |\n",
       "| rs1677682  | -0.018455113 | 0.0006150390 | -30.006410 | 1.236785e-122 | ME_82  | 5  | 0 |  80660774 | A | C |\n",
       "| rs59458922 |  0.029052028 | 0.0016891125 |  17.199582 |  3.120037e-55 | ME_83  | 7  | 0 | 102694874 | G | A |\n",
       "| rs389884   |  0.036583390 | 0.0018062351 |  20.253947 |  4.154758e-70 | ME_84  | 6  | 0 |  31973120 | G | A |\n",
       "| rs4560394  |  0.015626096 | 0.0008385300 |  18.635107 |  4.779575e-62 | ME_86  | 4  | 0 | 119392280 | G | T |\n",
       "| rs1597245  |  0.033940501 | 0.0011627491 |  29.189876 | 3.053339e-118 | ME_88  | 2  | 0 | 113690640 | C | G |\n",
       "| rs6558370  | -0.018067317 | 0.0007449084 | -24.254416 |  1.519532e-91 | ME_89  | 8  | 0 | 143535521 | A | G |\n",
       "| rs821470   |  0.006586633 | 0.0006895721 |   9.551769 |  3.469673e-20 | ME_92  | 16 | 0 |  57024670 | G | A |\n",
       "| rs999185   |  0.046411217 | 0.0010601892 |  43.776353 | 1.427665e-191 | ME_94  | 12 | 0 |   9960659 | T | C |\n",
       "| rs4883164  | -0.007493530 | 0.0011466384 |  -6.535216 |  1.210005e-10 | ME_95  | 12 | 0 |   8474282 | G | T |\n",
       "| rs4759187  | -0.011373540 | 0.0005159508 | -22.043846 |  7.780680e-80 | ME_96  | 12 | 0 |  55681479 | T | C |\n",
       "| rs74011998 |  0.052783472 | 0.0011330153 |  46.586725 | 1.337995e-205 | ME_97  | 15 | 0 |  48304516 | C | T |\n",
       "| rs408087   |  0.015077094 | 0.0007107126 |  21.214051 |  1.190125e-74 | ME_99  | 6  | 0 | 166985464 | C | T |\n",
       "\n"
      ],
      "text/plain": [
       "   snp        beta         se           t          p             me     chr cM\n",
       "1  rs582717    0.013268366 0.0010161510  13.057476  9.819997e-35 ME_101 1   0 \n",
       "2  rs1131017  -0.012402898 0.0010199861 -12.159869  1.001692e-30 ME_101 12  0 \n",
       "3  rs629329    0.029716084 0.0014781992  20.102895  9.204765e-70 ME_102 17  0 \n",
       "4  rs4761234  -0.006748100 0.0005868704 -11.498451  4.488238e-28 ME_103 12  0 \n",
       "5  rs36053285 -0.027772998 0.0009853585 -28.185677 3.561824e-113 ME_104 15  0 \n",
       "6  rs1757183   0.020068184 0.0009805332  20.466604  3.690375e-71 ME_105 6   0 \n",
       "7  rs7395319  -0.017864361 0.0011366742 -15.716342  1.047548e-47 ME_106 11  0 \n",
       "8  rs10936664  0.005185452 0.0007761728   6.680796  5.300655e-11 ME_47  3   0 \n",
       "9  rs844824   -0.011300627 0.0012010050  -9.409309  9.377902e-20 ME_64  20  0 \n",
       "10 rs6773650   0.002833366 0.0004697374   6.031808  3.540637e-09 ME_67  3   0 \n",
       "11 rs57213017  0.054611512 0.0008039318  67.930525 1.132391e-289 ME_69  17  0 \n",
       "12 rs997654    0.008280302 0.0010065945   8.226056  1.412440e-15 ME_70  17  0 \n",
       "13 rs16843927  0.008586028 0.0011825629   7.260525  1.207965e-12 ME_71  3   0 \n",
       "14 rs73365136 -0.013573062 0.0008247675 -16.456835  4.131484e-51 ME_75  17  0 \n",
       "15 rs55923832  0.010577612 0.0013809057   7.659909  7.110989e-14 ME_76  5   0 \n",
       "16 rs57090347  0.034059951 0.0014731250  23.120883  1.364600e-85 ME_77  16  0 \n",
       "17 rs9349181   0.051034188 0.0009050736  56.386782 1.767622e-248 ME_79  6   0 \n",
       "18 rs8112960  -0.031567776 0.0009231544 -34.195555 7.595213e-146 ME_80  19  0 \n",
       "19 rs1610741   0.010248893 0.0010209276  10.038805  5.523461e-22 ME_81  6   0 \n",
       "20 rs1677682  -0.018455113 0.0006150390 -30.006410 1.236785e-122 ME_82  5   0 \n",
       "21 rs59458922  0.029052028 0.0016891125  17.199582  3.120037e-55 ME_83  7   0 \n",
       "22 rs389884    0.036583390 0.0018062351  20.253947  4.154758e-70 ME_84  6   0 \n",
       "23 rs4560394   0.015626096 0.0008385300  18.635107  4.779575e-62 ME_86  4   0 \n",
       "24 rs1597245   0.033940501 0.0011627491  29.189876 3.053339e-118 ME_88  2   0 \n",
       "25 rs6558370  -0.018067317 0.0007449084 -24.254416  1.519532e-91 ME_89  8   0 \n",
       "26 rs821470    0.006586633 0.0006895721   9.551769  3.469673e-20 ME_92  16  0 \n",
       "27 rs999185    0.046411217 0.0010601892  43.776353 1.427665e-191 ME_94  12  0 \n",
       "28 rs4883164  -0.007493530 0.0011466384  -6.535216  1.210005e-10 ME_95  12  0 \n",
       "29 rs4759187  -0.011373540 0.0005159508 -22.043846  7.780680e-80 ME_96  12  0 \n",
       "30 rs74011998  0.052783472 0.0011330153  46.586725 1.337995e-205 ME_97  15  0 \n",
       "31 rs408087    0.015077094 0.0007107126  21.214051  1.190125e-74 ME_99  6   0 \n",
       "   pos       minor major\n",
       "1   25400345 C     T    \n",
       "2   56042145 C     G    \n",
       "3   18377593 A     G    \n",
       "4   69338325 C     T    \n",
       "5  100574435 C     T    \n",
       "6   37517014 T     C    \n",
       "7     331326 C     T    \n",
       "8  101496512 T     C    \n",
       "9   23102180 G     C    \n",
       "10  52863079 T     A    \n",
       "11  45589540 C     G    \n",
       "12  35426611 G     A    \n",
       "13 101512524 T     G    \n",
       "14  74567980 C     G    \n",
       "15  69518952 G     C    \n",
       "16     46496 G     A    \n",
       "17  41217867 C     A    \n",
       "18  21592569 T     C    \n",
       "19  29743747 G     A    \n",
       "20  80660774 A     C    \n",
       "21 102694874 G     A    \n",
       "22  31973120 G     A    \n",
       "23 119392280 G     T    \n",
       "24 113690640 C     G    \n",
       "25 143535521 A     G    \n",
       "26  57024670 G     A    \n",
       "27   9960659 T     C    \n",
       "28   8474282 G     T    \n",
       "29  55681479 T     C    \n",
       "30  48304516 C     T    \n",
       "31 166985464 C     T    "
      ]
     },
     "metadata": {},
     "output_type": "display_data"
    }
   ],
   "source": [
    "me.assocs %>%\n",
    "    dplyr::filter(p < 0.05 / (106 * 70968)) %>%\n",
    "    merge(., geno, by=\"snp\") %>%\n",
    "    dplyr::group_by(me, chr) %>%\n",
    "    dplyr::slice_min(p, n=1) %>%\n",
    "    dplyr::arrange(me)"
   ]
  },
  {
   "cell_type": "code",
   "execution_count": 26,
   "id": "dc2a5bb7-08ad-4a67-bf02-62444ced2894",
   "metadata": {
    "tags": []
   },
   "outputs": [
    {
     "data": {
      "image/png": "[encoded data removed]",
      "text/plain": [
       "plot without title"
      ]
     },
     "metadata": {
      "image/png": {
       "height": 300,
       "width": 1200
      }
     },
     "output_type": "display_data"
    }
   ],
   "source": [
    "options(repr.plot.width=20, repr.plot.height=5)\n",
    "\n",
    "plot.data <- me.assocs %>%\n",
    "    dplyr::filter(p < 0.05) %>%\n",
    "    merge(., geno, by=\"snp\") %>%\n",
    "    dplyr::filter(chr %in% 1:22) %>%\n",
    "    dplyr::mutate(chr=factor(chr, levels=1:22)) %>%\n",
    "    dplyr::mutate(chr.type=ifelse(as.numeric(chr) %% 2 == 0, \"Even\", \"Odd\")) %>%\n",
    "    dplyr::mutate(Log.10.p = -log10(p))\n",
    "\n",
    "plot.data %>%\n",
    "    ggplot() +\n",
    "    geom_point(aes(x=pos, y=Log.10.p, color=chr.type), size=I(0.5), alpha=0.5) +\n",
    "    geom_hline(yintercept=-log10(0.05 / (106 * 70968)), lty=3, size=0.5) +\n",
    "    scale_color_manual(values=c(\"Even\" = \"royalblue4\", \"Odd\" = \"royalblue1\")) +\n",
    "    facet_grid(~chr, scale=\"free_x\", space=\"free_x\") +\n",
    "    guides(color=\"none\") +\n",
    "    xlab(\"Position\") + ylab(expression('-log'[10]~'(p)')) +\n",
    "    ggplot_theme +\n",
    "    theme(\n",
    "        strip.background=element_blank(),\n",
    "        axis.text.x=element_blank(),\n",
    "        axis.ticks.x=element_blank(),\n",
    "        panel.spacing=unit(0.1, \"lines\"),\n",
    "        strip.text=element_blank(),\n",
    "        axis.title.x=element_blank()\n",
    "    )\n",
    "\n",
    "ggsave(\"04_Expression/results/manhattan_initial_pass.png\", width=20, height=5, dpi=1200)"
   ]
  },
  {
   "cell_type": "markdown",
   "id": "6f25e641-9337-43f6-8bfc-2cd94fcb5ba0",
   "metadata": {},
   "source": [
    "## P-Value Q-Q Plots"
   ]
  },
  {
   "cell_type": "markdown",
   "id": "d3622e6b-5f2e-4c4a-8a1b-664fb1a39f97",
   "metadata": {},
   "source": [
    "Under the null hypothesis, we expect p-values for multiple tests to have a uniform distribution. If there is inflation in the data (that is, variants are associated with the quantitative variable due to population stratification), this p-value distribution will be skewed towards significance. This is quantified with the genomic inflation factor ($\\lambda$). We can also plot the Q-Q plot for the p-values to check for deviation from the expected distribution. The p-values for true significant hits (close to 0) should deviate from the distribution, but the rest (indicating true negatives) should follow the distribution faithfully."
   ]
  },
  {
   "cell_type": "code",
   "execution_count": null,
   "id": "00c9d8f4-235c-4813-b7fc-e4ac263e229c",
   "metadata": {},
   "outputs": [],
   "source": [
    "me.assocs <- lapply(c(\"ME_1.tsv\", \"ME_59.tsv\"), function(file) {\n",
    "    file.full = paste0(\"~/gains_team282/nikhil/expression/eigengene_sva/initial_pass/\", file)\n",
    "    me.assoc = fread(file.full, sep=\"\\t\", fill=TRUE) %>%\n",
    "        as.data.frame() %>%\n",
    "        dplyr::mutate(me = gsub(\"\\\\.tsv\", \"\", file)) %>%\n",
    "        dplyr::select(snp=1, beta=2, se=3, t=4, p=5, me)\n",
    "})"
   ]
  },
  {
   "cell_type": "code",
   "execution_count": null,
   "id": "18ec7e26-f9b9-435d-8589-8320f1453df5",
   "metadata": {},
   "outputs": [],
   "source": [
    "options(repr.plot.width=12, repr.plot.height=6)\n",
    "\n",
    "exp.p.assocs <- lapply(me.assocs, function(me.assoc) {\n",
    "    me.assoc %>%\n",
    "        as.data.frame() %>%\n",
    "        dplyr::mutate(expected.p=(rank(p, ties.method=\"first\") + 0.5) / (length(p) + 1)) %>%\n",
    "        dplyr::mutate(Log.10.P=-log10(p)) %>%\n",
    "        dplyr::mutate(Expected.Log.10.P=-log10(expected.p))\n",
    "})\n",
    "\n",
    "plots <- lapply(exp.p.assocs, function(exp.p.assoc) {\n",
    "    dplyr::bind_rows(\n",
    "        exp.p.assoc %>% dplyr::mutate(Expected.Log.10.P < 5) %>% dplyr::sample_frac(0.001),\n",
    "        exp.p.assoc %>% dplyr::mutate(Expected.Log.10.P >= 5)\n",
    "    ) %>%\n",
    "        ggplot() +\n",
    "        geom_point(aes(x=Expected.Log.10.P, y=Log.10.P)) +\n",
    "        geom_abline(slope=1, intercept=0, color=\"firebrick1\") +\n",
    "        xlab(expression(\"Expected -log\"[10]~\"(p)\")) +\n",
    "        ylab(expression(\"Actual -log\"[10]~\"(p)\")) +\n",
    "        ggplot_theme\n",
    "})\n",
    "\n",
    "plots[[1]] + plots[[2]]"
   ]
  },
  {
   "cell_type": "markdown",
   "id": "09ecd2f8-8679-4bcf-bb51-5412226e9950",
   "metadata": {},
   "source": [
    "## Module Information"
   ]
  },
  {
   "cell_type": "code",
   "execution_count": null,
   "id": "04650dda-62f1-4320-8acf-ea0a81fa2e07",
   "metadata": {},
   "outputs": [],
   "source": [
    "mod.info <- read.csv(\"~/gains_team282/nikhil/expression/gene_expression_annotations/xCell_Signatures.csv\", row.names=1)"
   ]
  },
  {
   "cell_type": "code",
   "execution_count": null,
   "id": "17b40e59-3cd2-4f8b-824e-92708646053e",
   "metadata": {},
   "outputs": [],
   "source": [
    "mod.info %>%\n",
    "    dplyr::filter(Module == \"Module_1\" | Module == \"Module_59\")"
   ]
  },
  {
   "cell_type": "markdown",
   "id": "60e989c6-ae2a-4509-ab77-0c7b897986ca",
   "metadata": {
    "tags": []
   },
   "source": [
    "## Conditional Analysis"
   ]
  },
  {
   "cell_type": "code",
   "execution_count": null,
   "id": "087b2bdf-55b2-4395-b315-c70163ca0be9",
   "metadata": {},
   "outputs": [],
   "source": [
    "library(data.table)\n",
    "library(lme4)\n",
    "library(parallel)"
   ]
  },
  {
   "cell_type": "code",
   "execution_count": null,
   "id": "dd6da8dd-9cb4-4a43-a1c5-f413332e9e5f",
   "metadata": {},
   "outputs": [],
   "source": [
    "modules <- read.csv(\"~/gains_team282/nikhil/expression/gene_expression/modules.csv\")"
   ]
  },
  {
   "cell_type": "code",
   "execution_count": null,
   "id": "16c1ac94-de44-4380-986e-8b2bc0cc69c1",
   "metadata": {},
   "outputs": [],
   "source": [
    "gene.exp <- read.table(\"/lustre/scratch119/humgen/projects/gains_team282/eqtl/data/logcpm_864_20412_hla.txt\") %>%\n",
    "    t() %>% as.data.frame()"
   ]
  },
  {
   "cell_type": "code",
   "execution_count": null,
   "id": "71c27fbf-b820-4c3d-a121-b6982635cadc",
   "metadata": {},
   "outputs": [],
   "source": [
    "lead.cis.eqtl <- read.table(\"/nfs/users/nfs_n/nm18/gains_team282/eqtl/cisresults/eigenMT/ciseqtl_eigenMT_corrected.txt\")"
   ]
  },
  {
   "cell_type": "code",
   "execution_count": null,
   "id": "cb3bcb15-e3a1-40e4-8ee6-39b5156877d6",
   "metadata": {},
   "outputs": [],
   "source": [
    "mod.1.info <- merge(modules, lead.cis.eqtl, by.x=\"Gene\", by.y=\"gene\") %>%\n",
    "    dplyr::filter(Module == \"Module_1\", Sig)\n",
    "\n",
    "mod.59.info <- merge(modules, lead.cis.eqtl, by.x=\"Gene\", by.y=\"gene\") %>%\n",
    "    dplyr::filter(Module == \"Module_59\", Sig)"
   ]
  },
  {
   "cell_type": "code",
   "execution_count": null,
   "id": "9996c1c8-1f26-4939-8165-168bce3f9c4f",
   "metadata": {},
   "outputs": [],
   "source": [
    "\"ENSG00000079313\" %in% mod.59.info$Gene"
   ]
  },
  {
   "cell_type": "code",
   "execution_count": null,
   "id": "5e080555-b661-4adf-b623-90a08809e6bb",
   "metadata": {},
   "outputs": [],
   "source": [
    "# Design Matrix\n",
    "design.matrix <- read.csv(\"/nfs/users/nfs_n/nm18/gains_team282/nikhil/expression/eigengene_sva/mapping_data.csv\")\n",
    "\n",
    "# Genotype Matrix\n",
    "genotypes <- fread(\"/nfs/users/nfs_n/nm18/gains_team282/nikhil/data/genotypes/eigengene_sva_genotypes.raw\", sep=\" \", drop=2:6)\n",
    "\n",
    "# Clean Genotype Matrix\n",
    "patient.sample.match <- match(design.matrix$GAinS.ID, genotypes$FID)\n",
    "genotypes <- genotypes[patient.sample.match,]\n",
    "colnames(genotypes) <- gsub(\"X\", \"\", colnames(genotypes))\n",
    "colnames(genotypes) <- sapply(strsplit(colnames(genotypes), \"_\"), function(x) { x[1] })\n",
    "genotypes[, 1] <- NULL\n",
    "genotypes <- as.matrix(genotypes)\n",
    "rownames(genotypes) <- design.matrix$Sample.ID\n",
    "\n",
    "genotype.ids <- colnames(genotypes)\n",
    "                              \n",
    "# Clean gene expression matrix\n",
    "gene.exp <- gene.exp[design.matrix$Sample.ID, ]"
   ]
  },
  {
   "cell_type": "code",
   "execution_count": null,
   "id": "86c018c2-25bf-4e98-8b4c-5d1ada6ff42d",
   "metadata": {},
   "outputs": [],
   "source": [
    "# Create a full design matrix with all genotypes\n",
    "genotypes <- cbind(design.matrix, genotypes, gene.exp)\n",
    "\n",
    "all.vars <- colnames(design.matrix)\n",
    "eigens <- colnames(design.matrix)[grepl(\"^ME\", colnames(design.matrix))]\n",
    "covs <- setdiff(setdiff(all.vars, eigens), c(\"Sample.ID\", \"GAinS.ID\"))"
   ]
  },
  {
   "cell_type": "code",
   "execution_count": null,
   "id": "b77c3bf3-265d-4d4f-a38c-b88772345339",
   "metadata": {},
   "outputs": [],
   "source": [
    "ME = \"ME_1\"\n",
    "snp = \"rs16888392\"\n",
    "mediator = \"ENSG00000112210\"\n",
    "\n",
    "# ME = \"ME_59\"\n",
    "# snp = \"rs75443592\""
   ]
  },
  {
   "cell_type": "code",
   "execution_count": null,
   "id": "40618ce7-fce6-4b60-aec3-ae40593a3e97",
   "metadata": {},
   "outputs": [],
   "source": [
    "variant.design <- genotypes[,c(ME, snp, mediator, covs, \"GAinS.ID\")]\n",
    "\n",
    "f.null <- as.formula(paste0(ME, \"~\", mediator, \"+\", paste0(covs, collapse=\"+\"), \"+(1|GAinS.ID)\"))\n",
    "model.null <- lmer(f.null, data=variant.design, REML=FALSE)\n",
    "\n",
    "f.alt <- as.formula(paste0(ME, \"~`\", snp , \"`+\", mediator, \"+\", paste0(covs, collapse=\"+\"), \"+(1|GAinS.ID)\"))\n",
    "model.test <- lmer(f.alt, data=variant.design, REML=FALSE)\n",
    "\n",
    "if (!all(complete.cases(variant.design[, snp]))) {\n",
    "    model.null <- update(model.null, subset=complete.cases(variant.design[, snp]))\n",
    "    model.test <- update(model.test, subset=complete.cases(variant.design[, snp]))\n",
    "}\n",
    "\n",
    "# data.frame(matrix(\n",
    "#     data=c(\n",
    "#         summary(model.test)$coefficients[snp, ],\n",
    "#         anova(model.null, model.test)[\"model.test\", \"Pr(>Chisq)\"]\n",
    "#     ),\n",
    "#     nrow=1, ncol=4\n",
    "# ))\n",
    "\n",
    "summary(model.test)$coefficients"
   ]
  },
  {
   "cell_type": "code",
   "execution_count": null,
   "id": "01d9bca1-dbd2-40ea-b1d1-f0cb206f5fb4",
   "metadata": {},
   "outputs": [],
   "source": []
  }
 ],
 "metadata": {
  "kernelspec": {
   "display_name": "R",
   "language": "R",
   "name": "ir"
  },
  "language_info": {
   "codemirror_mode": "r",
   "file_extension": ".r",
   "mimetype": "text/x-r-source",
   "name": "R",
   "pygments_lexer": "r",
   "version": "4.0.5"
  }
 },
 "nbformat": 4,
 "nbformat_minor": 5
}
