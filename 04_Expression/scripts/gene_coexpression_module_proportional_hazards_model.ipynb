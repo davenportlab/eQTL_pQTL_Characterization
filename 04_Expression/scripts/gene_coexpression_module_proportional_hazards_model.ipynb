{
 "cells": [
  {
   "cell_type": "markdown",
   "id": "1a9b41f2-206d-41b3-ae4f-186f6dd5bd1e",
   "metadata": {},
   "source": [
    "# Module Association with Outcome\n",
    "\n",
    "**Created**: 20 October 2021"
   ]
  },
  {
   "cell_type": "markdown",
   "id": "201fb997-8777-4958-8c8c-dd46c6c40558",
   "metadata": {},
   "source": [
    "## Environment"
   ]
  },
  {
   "cell_type": "code",
   "execution_count": 1,
   "id": "79b11a91-55f6-4f00-be5f-de7ab20cb62d",
   "metadata": {},
   "outputs": [
    {
     "name": "stderr",
     "output_type": "stream",
     "text": [
      "Loading required namespace: patchwork\n",
      "\n",
      "Loading required namespace: survival\n",
      "\n",
      "Loading required namespace: survminer\n",
      "\n",
      "also installing the dependencies ‘listenv’, ‘parallelly’, ‘future’, ‘globals’, ‘future.apply’, ‘progressr’, ‘SQUAREM’, ‘KernSmooth’, ‘lava’, ‘prodlim’, ‘class’, ‘proxy’, ‘gower’, ‘ipred’, ‘timeDate’, ‘e1071’, ‘ModelMetrics’, ‘plyr’, ‘pROC’, ‘recipes’, ‘reshape2’, ‘caret’, ‘RcppArmadillo’, ‘numDeriv’, ‘SparseM’, ‘MatrixModels’, ‘conquer’, ‘sp’, ‘boot’, ‘minqa’, ‘nloptr’, ‘RcppEigen’, ‘carData’, ‘abind’, ‘pbkrtest’, ‘quantreg’, ‘maptools’, ‘lme4’, ‘corrplot’, ‘car’, ‘markdown’, ‘ggrepel’, ‘ggsci’, ‘cowplot’, ‘ggsignif’, ‘polynom’, ‘rstatix’, ‘exactRankTests’, ‘KMsurv’, ‘zoo’, ‘km.ci’, ‘gridtext’, ‘ggpubr’, ‘maxstat’, ‘survMisc’, ‘ggtext’\n",
      "\n",
      "\n",
      "Loading required namespace: lubridate\n",
      "\n"
     ]
    }
   ],
   "source": [
    "if (!requireNamespace(\"patchwork\")) {\n",
    "    install.packages(\"devtools\")\n",
    "    devtools::install_github(\"thomasp85/patchwork\")\n",
    "}\n",
    "\n",
    "if (!requireNamespace(\"survival\")) {\n",
    "    install.packages(\"survival\")\n",
    "}\n",
    "\n",
    "if (!requireNamespace(\"survminer\")) {\n",
    "    install.packages(\"survminer\")\n",
    "}\n",
    "\n",
    "if (!requireNamespace(\"lubridate\")) {\n",
    "    install.packages(\"lubridate\")\n",
    "}"
   ]
  },
  {
   "cell_type": "code",
   "execution_count": 2,
   "id": "c639de4a-d0da-4066-ba10-ba125f671ecf",
   "metadata": {},
   "outputs": [
    {
     "name": "stderr",
     "output_type": "stream",
     "text": [
      "── \u001b[1mAttaching packages\u001b[22m ──────────────────────────────────────────────────────────────────────────────────────────────────────────── tidyverse 1.3.1 ──\n",
      "\n",
      "\u001b[32m✔\u001b[39m \u001b[34mggplot2\u001b[39m 3.3.5     \u001b[32m✔\u001b[39m \u001b[34mpurrr  \u001b[39m 0.3.4\n",
      "\u001b[32m✔\u001b[39m \u001b[34mtibble \u001b[39m 3.1.6     \u001b[32m✔\u001b[39m \u001b[34mdplyr  \u001b[39m 1.0.7\n",
      "\u001b[32m✔\u001b[39m \u001b[34mtidyr  \u001b[39m 1.1.4     \u001b[32m✔\u001b[39m \u001b[34mstringr\u001b[39m 1.4.0\n",
      "\u001b[32m✔\u001b[39m \u001b[34mreadr  \u001b[39m 2.1.1     \u001b[32m✔\u001b[39m \u001b[34mforcats\u001b[39m 0.5.1\n",
      "\n",
      "── \u001b[1mConflicts\u001b[22m ─────────────────────────────────────────────────────────────────────────────────────────────────────────────── tidyverse_conflicts() ──\n",
      "\u001b[31m✖\u001b[39m \u001b[34mdplyr\u001b[39m::\u001b[32mfilter()\u001b[39m masks \u001b[34mstats\u001b[39m::filter()\n",
      "\u001b[31m✖\u001b[39m \u001b[34mdplyr\u001b[39m::\u001b[32mlag()\u001b[39m    masks \u001b[34mstats\u001b[39m::lag()\n",
      "\n",
      "Loading required package: ggpubr\n",
      "\n",
      "\n",
      "Attaching package: ‘survminer’\n",
      "\n",
      "\n",
      "The following object is masked from ‘package:survival’:\n",
      "\n",
      "    myeloma\n",
      "\n",
      "\n",
      "\n",
      "Attaching package: ‘lubridate’\n",
      "\n",
      "\n",
      "The following objects are masked from ‘package:base’:\n",
      "\n",
      "    date, intersect, setdiff, union\n",
      "\n",
      "\n"
     ]
    }
   ],
   "source": [
    "library(tidyverse)\n",
    "library(RColorBrewer)\n",
    "library(patchwork)\n",
    "library(survival)\n",
    "library(survminer)\n",
    "library(lubridate)\n",
    "\n",
    "setwd(\"~/eQTL_pQTL_Characterization/\")\n",
    "\n",
    "source(\"04_Expression/scripts/utils/ggplot_theme.R\")"
   ]
  },
  {
   "cell_type": "markdown",
   "id": "56377ce7-5303-4fe8-9810-c230cc0618b1",
   "metadata": {},
   "source": [
    "## Load Data"
   ]
  },
  {
   "cell_type": "code",
   "execution_count": 3,
   "id": "e0e4a9a3-90f0-4cea-84a8-c975d6299657",
   "metadata": {},
   "outputs": [],
   "source": [
    "outcome <- read.table(\"/nfs/team282/data/gains_team282/ClinicalData/clinical_data_tsv/OUT_12jun2019.tsv\", sep=\"\\t\", header=T, quote=\"\")\n",
    "\n",
    "outcome <- outcome %>%\n",
    "  dplyr::mutate(GAinSID=stringr::str_to_upper(SubjectBarCode))\n",
    "rownames(outcome) <- outcome$GAinSID\n",
    "\n",
    "modules <- read.csv(\"~/gains_team282/nikhil/expression/gene_expression/modules.csv\")\n",
    "eigengenes <- read.csv(\"~/gains_team282/nikhil/expression/gene_expression/eigengenes.csv\", row.names=1)\n",
    "variance.explained <- read.csv(\"~/gains_team282/nikhil/expression/gene_expression/variance.explained.csv\")\n",
    "\n",
    "sample.info <- read.table(\"/nfs/team282/data/gains_team282/Sample_info_864.txt\")\n",
    "sample.info <- sample.info %>% \n",
    "  dplyr::filter(supplier_name %in% rownames(eigengenes))\n",
    "rownames(sample.info) <- sample.info$supplier_name\n",
    "sample.info <- sample.info[rownames(eigengenes),]\n",
    "sample.info <- sample.info %>%\n",
    "  dplyr::mutate(Time.Point=as.numeric(sapply(strsplit(rownames(.), \"_\"), function(x) x[2])))"
   ]
  },
  {
   "cell_type": "markdown",
   "id": "0312ebeb-81ee-4232-9fd3-67fe84321e62",
   "metadata": {},
   "source": [
    "## Subset Patients\n",
    "\n",
    "The same patients have contributed up to three samples to the data (D1, D3, and/or D5). I have decided to choose the last time point available for each patient."
   ]
  },
  {
   "cell_type": "code",
   "execution_count": 4,
   "id": "24269772-bc78-4186-b988-aaa7bdbe1f8a",
   "metadata": {},
   "outputs": [],
   "source": [
    "sample.map <- sample.info %>%\n",
    "  dplyr::filter(GAinSID %in% outcome$GAinSID) %>%\n",
    "  dplyr::group_by(GAinSID) %>%\n",
    "  dplyr::summarize(Last.Time.Point=max(Time.Point)) %>%\n",
    "  dplyr::mutate(Sample=paste0(GAinSID, \"_\", Last.Time.Point))\n",
    "\n",
    "cox.eigengenes <- eigengenes[sample.map$Sample,]\n",
    "\n",
    "cox.outcomes <- outcome[sample.map$GAinSID,]"
   ]
  },
  {
   "cell_type": "markdown",
   "id": "ca8405d3-9b79-4ade-bb43-3ca7f49ad0bf",
   "metadata": {},
   "source": [
    "## Cox Proportional Hazards Model"
   ]
  },
  {
   "cell_type": "code",
   "execution_count": 5,
   "id": "c01ecfea-2ecc-4e96-b306-8c4813688f00",
   "metadata": {},
   "outputs": [
    {
     "data": {
      "image/png": "[encoded data removed]",
      "text/plain": [
       "plot without title"
      ]
     },
     "metadata": {
      "image/png": {
       "height": 420,
       "width": 420
      }
     },
     "output_type": "display_data"
    }
   ],
   "source": [
    "cox.vars <- cox.outcomes %>%\n",
    "  dplyr::mutate(Date.Hospitalized=lubridate::mdy(DhospICU), Date.Death=lubridate::mdy(M6ddeath)) %>%\n",
    "  dplyr::mutate(Endpoint=as.duration(Date.Hospitalized %--% Date.Death) / lubridate::ddays(1)) %>%\n",
    "  dplyr::mutate(Endpoint=replace(Endpoint, Endpoint > 28, NA)) %>%\n",
    "  dplyr::mutate(Status=ifelse(is.na(Endpoint), 0, 1)) %>%\n",
    "  dplyr::select(Endpoint, Status) %>%\n",
    "  dplyr::mutate(Endpoint=replace(Endpoint, is.na(Endpoint), 28)) %>%\n",
    "  dplyr::bind_cols(cox.eigengenes)\n",
    "\n",
    "ggsurvplot(\n",
    "  fit = survfit(Surv(Endpoint, Status) ~ 1, data = cox.vars), \n",
    "  xlab = \"Days\", \n",
    "  ylab = \"Overall Survival Probability\"\n",
    ")"
   ]
  },
  {
   "cell_type": "markdown",
   "id": "5d00bd3b-6881-4a47-b97e-b291e6829c5c",
   "metadata": {},
   "source": [
    "I use a Cox proportional hazards model to test if a given module eigengene is associated with outcome. I run the model for each eigengene rather than including them all in one regression. I correct p-values using Benjamini-Hochberg FDR correction."
   ]
  },
  {
   "cell_type": "code",
   "execution_count": 6,
   "id": "8d8a58d0-be42-4157-adfe-5e772cd1ebb1",
   "metadata": {},
   "outputs": [
    {
     "name": "stdout",
     "output_type": "stream",
     "text": [
      "       Eigengene Association.Variable Association.Variable.Type  Statistic\n",
      "ME_5        ME_5              Outcome                   Outcome -15.512803\n",
      "ME_69      ME_69              Outcome                   Outcome  15.292355\n",
      "ME_24      ME_24              Outcome                   Outcome -15.264435\n",
      "ME_31      ME_31              Outcome                   Outcome -14.973008\n",
      "ME_89      ME_89              Outcome                   Outcome  14.611140\n",
      "ME_43      ME_43              Outcome                   Outcome  14.013182\n",
      "ME_40      ME_40              Outcome                   Outcome  13.798678\n",
      "ME_67      ME_67              Outcome                   Outcome -13.777931\n",
      "ME_32      ME_32              Outcome                   Outcome -13.515627\n",
      "ME_51      ME_51              Outcome                   Outcome  13.131364\n",
      "ME_86      ME_86              Outcome                   Outcome  13.071172\n",
      "ME_74      ME_74              Outcome                   Outcome  13.022828\n",
      "ME_88      ME_88              Outcome                   Outcome -12.727723\n",
      "ME_79      ME_79              Outcome                   Outcome -12.544380\n",
      "ME_9        ME_9              Outcome                   Outcome  12.430848\n",
      "ME_17      ME_17              Outcome                   Outcome  12.423857\n",
      "ME_61      ME_61              Outcome                   Outcome  12.099112\n",
      "ME_62      ME_62              Outcome                   Outcome  11.829314\n",
      "ME_45      ME_45              Outcome                   Outcome -11.626167\n",
      "ME_16      ME_16              Outcome                   Outcome  11.480108\n",
      "ME_76      ME_76              Outcome                   Outcome -11.035245\n",
      "ME_22      ME_22              Outcome                   Outcome  10.786941\n",
      "ME_26      ME_26              Outcome                   Outcome  10.755314\n",
      "ME_83      ME_83              Outcome                   Outcome -10.728759\n",
      "ME_23      ME_23              Outcome                   Outcome  10.720315\n",
      "ME_44      ME_44              Outcome                   Outcome -10.505538\n",
      "ME_63      ME_63              Outcome                   Outcome  10.465398\n",
      "ME_87      ME_87              Outcome                   Outcome -10.412476\n",
      "ME_2        ME_2              Outcome                   Outcome  10.179017\n",
      "ME_12      ME_12              Outcome                   Outcome  10.114418\n",
      "ME_1        ME_1              Outcome                   Outcome  10.015722\n",
      "ME_102    ME_102              Outcome                   Outcome  -9.687718\n",
      "ME_10      ME_10              Outcome                   Outcome  -9.546345\n",
      "ME_25      ME_25              Outcome                   Outcome  -9.528004\n",
      "ME_29      ME_29              Outcome                   Outcome   9.251842\n",
      "ME_28      ME_28              Outcome                   Outcome  -9.135976\n",
      "ME_101    ME_101              Outcome                   Outcome  -9.116135\n",
      "ME_65      ME_65              Outcome                   Outcome   9.066432\n",
      "ME_35      ME_35              Outcome                   Outcome  -8.571238\n",
      "ME_42      ME_42              Outcome                   Outcome   8.488935\n",
      "ME_92      ME_92              Outcome                   Outcome  -8.376280\n",
      "ME_7        ME_7              Outcome                   Outcome  -8.345446\n",
      "ME_50      ME_50              Outcome                   Outcome  -8.072583\n",
      "ME_39      ME_39              Outcome                   Outcome   8.016825\n",
      "ME_18      ME_18              Outcome                   Outcome   7.564170\n",
      "ME_81      ME_81              Outcome                   Outcome  -7.546007\n",
      "ME_64      ME_64              Outcome                   Outcome   7.441476\n",
      "       Statistic.Type      P.Value Adjusted.P.Value\n",
      "ME_5             Beta 2.369835e-05     0.0012086160\n",
      "ME_69            Beta 3.803636e-06     0.0003879709\n",
      "ME_24            Beta 5.109214e-05     0.0014050871\n",
      "ME_31            Beta 6.887682e-05     0.0014050871\n",
      "ME_89            Beta 1.085212e-04     0.0015813086\n",
      "ME_43            Beta 1.002182e-04     0.0015813086\n",
      "ME_40            Beta 2.002884e-04     0.0018572193\n",
      "ME_67            Beta 1.447316e-04     0.0018453283\n",
      "ME_32            Beta 1.870401e-04     0.0018572193\n",
      "ME_51            Beta 2.391154e-04     0.0018761359\n",
      "ME_86            Beta 5.852385e-05     0.0014050871\n",
      "ME_74            Beta 3.614834e-04     0.0024580868\n",
      "ME_88            Beta 1.816513e-04     0.0018572193\n",
      "ME_79            Beta 6.873433e-04     0.0036954680\n",
      "ME_9             Beta 2.267290e-04     0.0018761359\n",
      "ME_17            Beta 3.395327e-04     0.0024580868\n",
      "ME_61            Beta 6.610595e-04     0.0036954680\n",
      "ME_62            Beta 1.462099e-03     0.0059653641\n",
      "ME_45            Beta 6.883715e-04     0.0036954680\n",
      "ME_16            Beta 5.065749e-04     0.0032294152\n",
      "ME_76            Beta 1.185271e-03     0.0054953477\n",
      "ME_22            Beta 1.358823e-03     0.0057749989\n",
      "ME_26            Beta 1.292323e-03     0.0057311724\n",
      "ME_83            Beta 1.164235e-03     0.0054953477\n",
      "ME_23            Beta 1.106820e-03     0.0054953477\n",
      "ME_44            Beta 4.222008e-03     0.0143548260\n",
      "ME_63            Beta 5.534849e-03     0.0171077158\n",
      "ME_87            Beta 7.960398e-03     0.0219448802\n",
      "ME_2             Beta 4.832647e-03     0.0159009668\n",
      "ME_12            Beta 3.373627e-03     0.0131612720\n",
      "ME_1             Beta 3.612898e-03     0.0131612720\n",
      "ME_102           Beta 1.203772e-02     0.0306961806\n",
      "ME_10            Beta 5.508770e-03     0.0171077158\n",
      "ME_25            Beta 6.454162e-03     0.0193624874\n",
      "ME_29            Beta 3.602015e-03     0.0131612720\n",
      "ME_28            Beta 7.456198e-03     0.0211258934\n",
      "ME_101           Beta 1.299779e-02     0.0321865373\n",
      "ME_65            Beta 4.118493e-03     0.0143548260\n",
      "ME_35            Beta 1.072862e-02     0.0280594579\n",
      "ME_42            Beta 9.192743e-03     0.0246752566\n",
      "ME_92            Beta 1.913026e-02     0.0415167335\n",
      "ME_7             Beta 1.887411e-02     0.0415167335\n",
      "ME_50            Beta 1.325328e-02     0.0321865373\n",
      "ME_39            Beta 1.649902e-02     0.0382477170\n",
      "ME_18            Beta 1.809512e-02     0.0410156150\n",
      "ME_81            Beta 1.647437e-02     0.0382477170\n",
      "ME_64            Beta 7.387608e-03     0.0211258934\n"
     ]
    }
   ],
   "source": [
    "test.results <- list()\n",
    "\n",
    "for (eigengene in colnames(cox.eigengenes)) {\n",
    "\n",
    "  cox.result <- coxph(\n",
    "    as.formula(paste0(\"Surv(Endpoint, Status)~\", eigengene)), \n",
    "    data = cox.vars\n",
    "  )\n",
    "\n",
    "  test.results[[eigengene]] <- summary(cox.result)$coefficients\n",
    "}\n",
    "\n",
    "estimates <- do.call(rbind, test.results) %>%\n",
    "  as.data.frame() %>%\n",
    "  dplyr::mutate(Adjusted.P.Value=p.adjust(`Pr(>|z|)`, method=\"BH\")) %>%\n",
    "  dplyr::arrange(desc(abs(coef)), desc(desc(Adjusted.P.Value))) %>%\n",
    "  dplyr::mutate(Eigengene=rownames(.), Association.Variable=\"Outcome\", Association.Variable.Type=\"Outcome\", Statistic.Type=\"Beta\") %>%\n",
    "  dplyr::select(Eigengene, Association.Variable, Association.Variable.Type, Statistic=coef, Statistic.Type, P.Value=`Pr(>|z|)`, Adjusted.P.Value)\n",
    "print(estimates %>% dplyr::filter(Adjusted.P.Value < 0.05))\n",
    "\n",
    "write.csv(estimates, \"~/gains_team282/nikhil/expression/gene_expression/estimates.eigengene.outcome.association.csv\")"
   ]
  },
  {
   "cell_type": "code",
   "execution_count": null,
   "id": "f8771e2c-75ee-4842-bac0-ed852ffbca54",
   "metadata": {},
   "outputs": [],
   "source": []
  }
 ],
 "metadata": {
  "kernelspec": {
   "display_name": "R",
   "language": "R",
   "name": "ir"
  },
  "language_info": {
   "codemirror_mode": "r",
   "file_extension": ".r",
   "mimetype": "text/x-r-source",
   "name": "R",
   "pygments_lexer": "r",
   "version": "4.0.5"
  }
 },
 "nbformat": 4,
 "nbformat_minor": 5
}
