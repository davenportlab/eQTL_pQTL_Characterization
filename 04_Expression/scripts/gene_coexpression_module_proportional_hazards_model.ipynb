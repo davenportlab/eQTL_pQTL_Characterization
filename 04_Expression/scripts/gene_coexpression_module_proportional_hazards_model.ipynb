{
 "cells": [
  {
   "cell_type": "markdown",
   "id": "1a9b41f2-206d-41b3-ae4f-186f6dd5bd1e",
   "metadata": {},
   "source": [
    "# Module Association with Outcome\n",
    "\n",
    "**Created**: 20 October 2021"
   ]
  },
  {
   "cell_type": "markdown",
   "id": "201fb997-8777-4958-8c8c-dd46c6c40558",
   "metadata": {},
   "source": [
    "## Environment"
   ]
  },
  {
   "cell_type": "code",
   "execution_count": 6,
   "id": "79b11a91-55f6-4f00-be5f-de7ab20cb62d",
   "metadata": {},
   "outputs": [],
   "source": [
    "if (!requireNamespace(\"patchwork\")) {\n",
    "    install.packages(\"devtools\")\n",
    "    devtools::install_github(\"thomasp85/patchwork\")\n",
    "}\n",
    "\n",
    "if (!requireNamespace(\"survival\")) {\n",
    "    install.packages(\"survival\")\n",
    "}\n",
    "\n",
    "# If this fails, install directly to conda environment\n",
    "#   conda install r-survminer -c conda-forge\n",
    "# if (!requireNamespace(\"survminer\")) {\n",
    "#     install.packages(\"survminer\")\n",
    "# }\n",
    "\n",
    "if (!requireNamespace(\"lubridate\")) {\n",
    "    install.packages(\"lubridate\")\n",
    "}"
   ]
  },
  {
   "cell_type": "code",
   "execution_count": 7,
   "id": "c639de4a-d0da-4066-ba10-ba125f671ecf",
   "metadata": {},
   "outputs": [
    {
     "name": "stderr",
     "output_type": "stream",
     "text": [
      "Loading required package: ggpubr\n",
      "\n",
      "\n",
      "Attaching package: ‘survminer’\n",
      "\n",
      "\n",
      "The following object is masked from ‘package:survival’:\n",
      "\n",
      "    myeloma\n",
      "\n",
      "\n",
      "\n",
      "Attaching package: ‘lubridate’\n",
      "\n",
      "\n",
      "The following objects are masked from ‘package:base’:\n",
      "\n",
      "    date, intersect, setdiff, union\n",
      "\n",
      "\n"
     ]
    }
   ],
   "source": [
    "library(tidyverse)\n",
    "library(RColorBrewer)\n",
    "library(patchwork)\n",
    "library(survival)\n",
    "library(survminer)\n",
    "library(lubridate)\n",
    "\n",
    "setwd(\"~/eQTL_pQTL_Characterization/\")\n",
    "\n",
    "source(\"04_Expression/scripts/utils/ggplot_theme.R\")"
   ]
  },
  {
   "cell_type": "markdown",
   "id": "56377ce7-5303-4fe8-9810-c230cc0618b1",
   "metadata": {},
   "source": [
    "## Load Data"
   ]
  },
  {
   "cell_type": "code",
   "execution_count": 11,
   "id": "e0e4a9a3-90f0-4cea-84a8-c975d6299657",
   "metadata": {},
   "outputs": [],
   "source": [
    "outcome <- read.table(\"/nfs/team282/data/gains_team282/ClinicalData/clinical_data_tsv/OUT_12jun2019.tsv\", sep=\"\\t\", header=T, quote=\"\")\n",
    "\n",
    "outcome <- outcome %>%\n",
    "    dplyr::mutate(GAinSID=stringr::str_to_upper(SubjectBarCode))\n",
    "ga.prefix.filter <- grepl(\"GA\", outcome$GAinSID)\n",
    "outcome$GAinSID[ga.prefix.filter] <- gsub(\"^GA\", \"\", outcome$GAinSID[ga.prefix.filter])\n",
    "rownames(outcome) <- outcome$GAinSID\n",
    "\n",
    "modules <- read.csv(\"~/gains_team282/nikhil/expression/gene_expression/modules.csv\")\n",
    "eigengenes <- read.csv(\"~/gains_team282/nikhil/expression/gene_expression/eigengenes.csv\", row.names=1)\n",
    "variance.explained <- read.csv(\"~/gains_team282/nikhil/expression/gene_expression/variance.explained.csv\")\n",
    "\n",
    "sample.info <- read.table(\"/nfs/team282/data/gains_team282/Sample_info_864.txt\")\n",
    "ga.prefix.filter <- grepl(\"GA\", sample.info$supplier_name)\n",
    "sample.info$supplier_name[ga.prefix.filter] <- gsub(\"^GA\", \"\", sample.info$supplier_name[ga.prefix.filter])\n",
    "sample.info <- sample.info %>% \n",
    "    dplyr::filter(supplier_name %in% rownames(eigengenes))\n",
    "rownames(sample.info) <- sample.info$supplier_name\n",
    "sample.info <- sample.info[rownames(eigengenes),]\n",
    "sample.info <- sample.info %>%\n",
    "    dplyr::mutate(Time.Point=as.numeric(sapply(strsplit(rownames(.), \"_\"), function(x) x[2])))"
   ]
  },
  {
   "cell_type": "markdown",
   "id": "0312ebeb-81ee-4232-9fd3-67fe84321e62",
   "metadata": {},
   "source": [
    "## Subset Patients\n",
    "\n",
    "The same patients have contributed up to three samples to the data (D1, D3, and/or D5). I have decided to choose the last time point available for each patient."
   ]
  },
  {
   "cell_type": "code",
   "execution_count": 12,
   "id": "24269772-bc78-4186-b988-aaa7bdbe1f8a",
   "metadata": {},
   "outputs": [],
   "source": [
    "sample.map <- sample.info %>%\n",
    "    dplyr::filter(GAinSID %in% outcome$GAinSID) %>%\n",
    "    dplyr::group_by(GAinSID) %>%\n",
    "    dplyr::summarize(Last.Time.Point=max(Time.Point)) %>%\n",
    "    dplyr::mutate(Sample=paste0(GAinSID, \"_\", Last.Time.Point))\n",
    "\n",
    "cox.eigengenes <- eigengenes[sample.map$Sample,]\n",
    "\n",
    "cox.outcomes <- outcome[sample.map$GAinSID,]"
   ]
  },
  {
   "cell_type": "markdown",
   "id": "ca8405d3-9b79-4ade-bb43-3ca7f49ad0bf",
   "metadata": {},
   "source": [
    "## Cox Proportional Hazards Model"
   ]
  },
  {
   "cell_type": "code",
   "execution_count": 13,
   "id": "c01ecfea-2ecc-4e96-b306-8c4813688f00",
   "metadata": {},
   "outputs": [
    {
     "data": {
      "image/png": "[encoded data removed]",
      "text/plain": [
       "plot without title"
      ]
     },
     "metadata": {
      "image/png": {
       "height": 420,
       "width": 420
      }
     },
     "output_type": "display_data"
    }
   ],
   "source": [
    "cox.vars <- cox.outcomes %>%\n",
    "    dplyr::mutate(Date.Hospitalized=lubridate::mdy(DhospICU), Date.Death=lubridate::mdy(M6ddeath)) %>%\n",
    "    dplyr::mutate(Endpoint=as.duration(Date.Hospitalized %--% Date.Death) / lubridate::ddays(1)) %>%\n",
    "    dplyr::mutate(Endpoint=replace(Endpoint, Endpoint > 28, NA)) %>%\n",
    "    dplyr::mutate(Status=ifelse(is.na(Endpoint), 0, 1)) %>%\n",
    "    dplyr::select(Endpoint, Status) %>%\n",
    "    dplyr::mutate(Endpoint=replace(Endpoint, is.na(Endpoint), 28)) %>%\n",
    "    dplyr::bind_cols(cox.eigengenes)\n",
    "\n",
    "ggsurvplot(\n",
    "    fit = survfit(Surv(Endpoint, Status) ~ 1, data = cox.vars), \n",
    "    xlab = \"Days\", \n",
    "    ylab = \"Overall Survival Probability\"\n",
    ")"
   ]
  },
  {
   "cell_type": "markdown",
   "id": "5d00bd3b-6881-4a47-b97e-b291e6829c5c",
   "metadata": {},
   "source": [
    "I use a Cox proportional hazards model to test if a given module eigengene is associated with outcome. I run the model for each eigengene rather than including them all in one regression. I correct p-values using Benjamini-Hochberg FDR correction."
   ]
  },
  {
   "cell_type": "code",
   "execution_count": 14,
   "id": "8d8a58d0-be42-4157-adfe-5e772cd1ebb1",
   "metadata": {},
   "outputs": [
    {
     "name": "stdout",
     "output_type": "stream",
     "text": [
      "      Eigengene Association.Variable Association.Variable.Type  Statistic\n",
      "ME_7       ME_7              Outcome                   Outcome -15.346807\n",
      "ME_41     ME_41              Outcome                   Outcome  14.472456\n",
      "ME_39     ME_39              Outcome                   Outcome -14.272991\n",
      "ME_12     ME_12              Outcome                   Outcome -14.232247\n",
      "ME_2       ME_2              Outcome                   Outcome  12.666702\n",
      "ME_51     ME_51              Outcome                   Outcome  12.174001\n",
      "ME_61     ME_61              Outcome                   Outcome -12.143484\n",
      "ME_46     ME_46              Outcome                   Outcome -12.026695\n",
      "ME_60     ME_60              Outcome                   Outcome -11.843166\n",
      "ME_6       ME_6              Outcome                   Outcome  11.617004\n",
      "ME_21     ME_21              Outcome                   Outcome -10.377606\n",
      "ME_11     ME_11              Outcome                   Outcome  10.136607\n",
      "ME_8       ME_8              Outcome                   Outcome  -9.996853\n",
      "ME_53     ME_53              Outcome                   Outcome  -9.882608\n",
      "ME_50     ME_50              Outcome                   Outcome  -9.826834\n",
      "ME_31     ME_31              Outcome                   Outcome  -9.761529\n",
      "ME_1       ME_1              Outcome                   Outcome   9.195408\n",
      "ME_48     ME_48              Outcome                   Outcome   8.689775\n",
      "ME_24     ME_24              Outcome                   Outcome  -8.419586\n",
      "ME_43     ME_43              Outcome                   Outcome  -8.329495\n",
      "      Statistic.Type      P.Value Adjusted.P.Value\n",
      "ME_7            Beta 4.364949e-05     0.0014404333\n",
      "ME_41           Beta 1.376774e-05     0.0009086711\n",
      "ME_39           Beta 1.265089e-04     0.0023647732\n",
      "ME_12           Beta 1.433196e-04     0.0023647732\n",
      "ME_2            Beta 4.021184e-04     0.0037914025\n",
      "ME_51           Beta 1.824773e-04     0.0024087010\n",
      "ME_61           Beta 3.640960e-04     0.0037914025\n",
      "ME_46           Beta 1.225355e-03     0.0089859361\n",
      "ME_60           Beta 1.016985e-03     0.0083901272\n",
      "ME_6            Beta 1.419618e-03     0.0093694819\n",
      "ME_21           Beta 2.991146e-03     0.0164513052\n",
      "ME_11           Beta 2.605626e-03     0.0156337550\n",
      "ME_8            Beta 4.639733e-03     0.0235555660\n",
      "ME_53           Beta 1.206312e-02     0.0419034719\n",
      "ME_50           Beta 8.743286e-03     0.0348074719\n",
      "ME_31           Beta 8.965561e-03     0.0348074719\n",
      "ME_1            Beta 7.356194e-03     0.0323672514\n",
      "ME_48           Beta 6.836248e-03     0.0322280279\n",
      "ME_24           Beta 1.283774e-02     0.0423645402\n",
      "ME_43           Beta 1.036016e-02     0.0379872393\n"
     ]
    }
   ],
   "source": [
    "test.results <- list()\n",
    "\n",
    "for (eigengene in colnames(cox.eigengenes)) {\n",
    "\n",
    "    cox.result <- coxph(\n",
    "        as.formula(paste0(\"Surv(Endpoint, Status)~\", eigengene)), \n",
    "        data = cox.vars\n",
    "    )\n",
    "\n",
    "    test.results[[eigengene]] <- summary(cox.result)$coefficients\n",
    "}\n",
    "\n",
    "estimates <- do.call(rbind, test.results) %>%\n",
    "    as.data.frame() %>%\n",
    "    dplyr::mutate(Adjusted.P.Value=p.adjust(`Pr(>|z|)`, method=\"BH\")) %>%\n",
    "    dplyr::arrange(desc(abs(coef)), desc(desc(Adjusted.P.Value))) %>%\n",
    "    dplyr::mutate(Eigengene=rownames(.), Association.Variable=\"Outcome\", Association.Variable.Type=\"Outcome\", Statistic.Type=\"Beta\") %>%\n",
    "    dplyr::select(Eigengene, Association.Variable, Association.Variable.Type, Statistic=coef, Statistic.Type, P.Value=`Pr(>|z|)`, Adjusted.P.Value)\n",
    "print(estimates %>% dplyr::filter(Adjusted.P.Value < 0.05))\n",
    "\n",
    "write.csv(estimates, \"~/gains_team282/nikhil/expression/gene_expression/estimates.eigengene.outcome.association.csv\")"
   ]
  },
  {
   "cell_type": "code",
   "execution_count": null,
   "id": "f8771e2c-75ee-4842-bac0-ed852ffbca54",
   "metadata": {},
   "outputs": [],
   "source": []
  }
 ],
 "metadata": {
  "kernelspec": {
   "display_name": "R",
   "language": "R",
   "name": "ir"
  },
  "language_info": {
   "codemirror_mode": "r",
   "file_extension": ".r",
   "mimetype": "text/x-r-source",
   "name": "R",
   "pygments_lexer": "r",
   "version": "4.0.5"
  }
 },
 "nbformat": 4,
 "nbformat_minor": 5
}
