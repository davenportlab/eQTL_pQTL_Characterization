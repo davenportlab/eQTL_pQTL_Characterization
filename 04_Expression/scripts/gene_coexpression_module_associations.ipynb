{
 "cells": [
  {
   "cell_type": "markdown",
   "id": "118a06a5-b1ed-4478-b693-5bd851b5b845",
   "metadata": {},
   "source": [
    "# Module Associations\n",
    "\n",
    "**Created**: 20 October 2021"
   ]
  },
  {
   "cell_type": "markdown",
   "id": "f95dd1a9-a415-46b0-b366-3a4235ce35d1",
   "metadata": {},
   "source": [
    "## Environment"
   ]
  },
  {
   "cell_type": "code",
   "execution_count": 1,
   "id": "804bf0b8-4f35-4750-91d9-50e2c007797d",
   "metadata": {},
   "outputs": [
    {
     "name": "stderr",
     "output_type": "stream",
     "text": [
      "Loading required namespace: patchwork\n",
      "\n",
      "Loading required namespace: UpSetR\n",
      "\n"
     ]
    }
   ],
   "source": [
    "if (!requireNamespace(\"patchwork\")) {\n",
    "    install.packages(\"devtools\")\n",
    "    devtools::install_github(\"thomasp85/patchwork\")\n",
    "}\n",
    "\n",
    "if (!requireNamespace(\"UpSetR\")) {\n",
    "    install.packages(\"UpSetR\")\n",
    "}"
   ]
  },
  {
   "cell_type": "code",
   "execution_count": 2,
   "id": "ae63da6d-644a-43f8-a241-c139566c1e09",
   "metadata": {},
   "outputs": [
    {
     "name": "stderr",
     "output_type": "stream",
     "text": [
      "── \u001b[1mAttaching packages\u001b[22m ────────────────────────────────────────────────────────────────────────────────────────────────────────────────────────────────────────────────────────────────────────────────────── tidyverse 1.3.1 ──\n",
      "\n",
      "\u001b[32m✔\u001b[39m \u001b[34mggplot2\u001b[39m 3.3.5     \u001b[32m✔\u001b[39m \u001b[34mpurrr  \u001b[39m 0.3.4\n",
      "\u001b[32m✔\u001b[39m \u001b[34mtibble \u001b[39m 3.1.6     \u001b[32m✔\u001b[39m \u001b[34mdplyr  \u001b[39m 1.0.7\n",
      "\u001b[32m✔\u001b[39m \u001b[34mtidyr  \u001b[39m 1.1.4     \u001b[32m✔\u001b[39m \u001b[34mstringr\u001b[39m 1.4.0\n",
      "\u001b[32m✔\u001b[39m \u001b[34mreadr  \u001b[39m 2.1.1     \u001b[32m✔\u001b[39m \u001b[34mforcats\u001b[39m 0.5.1\n",
      "\n",
      "── \u001b[1mConflicts\u001b[22m ───────────────────────────────────────────────────────────────────────────────────────────────────────────────────────────────────────────────────────────────────────────────────────── tidyverse_conflicts() ──\n",
      "\u001b[31m✖\u001b[39m \u001b[34mdplyr\u001b[39m::\u001b[32mfilter()\u001b[39m masks \u001b[34mstats\u001b[39m::filter()\n",
      "\u001b[31m✖\u001b[39m \u001b[34mdplyr\u001b[39m::\u001b[32mlag()\u001b[39m    masks \u001b[34mstats\u001b[39m::lag()\n",
      "\n"
     ]
    }
   ],
   "source": [
    "library(tidyverse)\n",
    "library(RColorBrewer)\n",
    "library(patchwork)\n",
    "library(UpSetR)\n",
    "\n",
    "setwd(\"~/eQTL_pQTL_Characterization/\")\n",
    "\n",
    "source(\"04_Expression/scripts/utils/ggplot_theme.R\")"
   ]
  },
  {
   "cell_type": "markdown",
   "id": "372aedba-ecee-42fd-a8c6-441952fae0fa",
   "metadata": {},
   "source": [
    "## Load Data"
   ]
  },
  {
   "cell_type": "code",
   "execution_count": 3,
   "id": "f6ff7787-9342-4906-acdc-c0184d5c4b49",
   "metadata": {},
   "outputs": [],
   "source": [
    "var.exp <- read.csv(\"~/gains_team282/nikhil/expression/gene_expression/variance.explained.csv\")\n",
    "\n",
    "est.cell.prop <- read.csv(\"~/gains_team282/nikhil/expression/gene_expression/estimates.eigengene.cell.proportion.association.csv\", row.names=1)\n",
    "est.xcell <- read.csv(\"~/gains_team282/nikhil/expression/gene_expression/estimates.eigengene.xcell.score.association.csv\", row.names=1)\n",
    "est.srsq <- read.csv(\"~/gains_team282/nikhil/expression/gene_expression/estimates.eigengene.srsq.association.csv\", row.names=1)\n",
    "est.outcome <- read.csv(\"~/gains_team282/nikhil/expression/gene_expression/estimates.eigengene.outcome.association.csv\", row.names=1)\n",
    "est.time.point <- read.csv(\"~/gains_team282/nikhil/expression/gene_expression/estimates.eigengene.time.point.association.csv\", row.names=1)"
   ]
  },
  {
   "cell_type": "markdown",
   "id": "d0ba7047-debc-4987-9cd6-bb9e5b707bd9",
   "metadata": {},
   "source": [
    "## Create Combined Dataset"
   ]
  },
  {
   "cell_type": "code",
   "execution_count": 4,
   "id": "3f7577a9-1c07-4240-9595-0e9e813f19d9",
   "metadata": {},
   "outputs": [],
   "source": [
    "association.tbl <- dplyr::bind_rows(\n",
    "  est.cell.prop, \n",
    "  est.xcell,\n",
    "  est.srsq,\n",
    "  est.outcome,\n",
    "  est.time.point\n",
    ")\n",
    "rownames(association.tbl) <- NULL\n",
    "\n",
    "write.csv(association.tbl, \"~/gains_team282/nikhil/expression/gene_expression/estimates.all.csv\", row.names=FALSE)"
   ]
  },
  {
   "cell_type": "markdown",
   "id": "a6baa471-f350-45d3-acee-388963a889b4",
   "metadata": {},
   "source": [
    "## Identify Shared Association Sets"
   ]
  },
  {
   "cell_type": "code",
   "execution_count": 5,
   "id": "177aadab-f4bb-4df9-96de-7d6109561665",
   "metadata": {},
   "outputs": [
    {
     "name": "stdout",
     "output_type": "stream",
     "text": [
      "\u001b[90m# A tibble: 5 × 2\u001b[39m\n",
      "  Association.Variable.Type      SD\n",
      "  \u001b[3m\u001b[90m<chr>\u001b[39m\u001b[23m                       \u001b[3m\u001b[90m<dbl>\u001b[39m\u001b[23m\n",
      "\u001b[90m1\u001b[39m Cell Proportion           0.346  \n",
      "\u001b[90m2\u001b[39m Outcome                   7.38   \n",
      "\u001b[90m3\u001b[39m SRSq                      0.482  \n",
      "\u001b[90m4\u001b[39m Time Point                0.008\u001b[4m8\u001b[24m\u001b[4m0\u001b[24m\n",
      "\u001b[90m5\u001b[39m xCell Score               0.162  \n"
     ]
    }
   ],
   "source": [
    "print(\n",
    "  association.tbl %>%\n",
    "    dplyr::group_by(Association.Variable.Type) %>%\n",
    "    dplyr::summarize(SD=sd(Statistic))\n",
    ")"
   ]
  },
  {
   "cell_type": "code",
   "execution_count": 6,
   "id": "e987d324-99c0-4ad0-964d-d853b7ee3da6",
   "metadata": {},
   "outputs": [
    {
     "data": {
      "text/html": [
       "<strong>png:</strong> 2"
      ],
      "text/latex": [
       "\\textbf{png:} 2"
      ],
      "text/markdown": [
       "**png:** 2"
      ],
      "text/plain": [
       "png \n",
       "  2 "
      ]
     },
     "metadata": {},
     "output_type": "display_data"
    },
    {
     "data": {
      "image/png": "[encoded data removed]",
      "text/plain": [
       "plot without title"
      ]
     },
     "metadata": {
      "image/png": {
       "height": 360,
       "width": 480
      }
     },
     "output_type": "display_data"
    }
   ],
   "source": [
    "plot.data <- association.tbl %>%\n",
    "  dplyr::filter(Association.Variable.Type != \"Cell Proportion\" | (Adjusted.P.Value < 0.05 & abs(Statistic) >= 0.385)) %>%\n",
    "  dplyr::filter(Association.Variable.Type != \"xCell Score\" | (Adjusted.P.Value < 0.05 & abs(Statistic) >= 0.166)) %>%\n",
    "  dplyr::filter(Association.Variable.Type != \"SRSq\" | (Adjusted.P.Value < 0.05 & abs(Statistic) >= 0.540)) %>%\n",
    "  dplyr::filter(Association.Variable.Type != \"Outcome\" | (Adjusted.P.Value < 0.05 & abs(Statistic) >= 8.20)) %>%\n",
    "  dplyr::filter(Association.Variable.Type != \"Time Point\" | (Adjusted.P.Value < 0.05 & abs(Statistic) >= 0.0102))\n",
    "\n",
    "plot.data <- split(plot.data, plot.data$Association.Variable.Type) %>%\n",
    "  lapply(., function(x) unique(x[,\"Eigengene\"]))\n",
    "\n",
    "plot.data[[\"None\"]] <- setdiff(var.exp$Module, unique(unlist(plot.data)))\n",
    "\n",
    "svg(\"04_Expression/results/eigengene_association_overlap.svg\", width=8, height=6)\n",
    "upset(\n",
    "  fromList(plot.data), order.by=\"freq\", empty.intersections=\"on\",\n",
    "  matrix.color=\"royalblue4\", main.bar.color=\"royalblue3\", sets.bar.color=\"royalblue3\",\n",
    "  text.scale=2\n",
    ")\n",
    "dev.off()\n",
    "\n",
    "options(repr.plot.width=8, repr.plot.height=6)\n",
    "upset(\n",
    "  fromList(plot.data), order.by=\"freq\", empty.intersections=\"on\",\n",
    "  matrix.color=\"royalblue4\", main.bar.color=\"royalblue3\", sets.bar.color=\"royalblue3\",\n",
    "  text.scale=2\n",
    ")"
   ]
  },
  {
   "cell_type": "code",
   "execution_count": 7,
   "id": "351fd410-33ee-428c-8848-36d255945236",
   "metadata": {},
   "outputs": [
    {
     "data": {
      "text/html": [
       "<table class=\"dataframe\">\n",
       "<caption>A data.frame: 6 × 6</caption>\n",
       "<thead>\n",
       "\t<tr><th></th><th scope=col>Cell Proportion</th><th scope=col>Outcome</th><th scope=col>SRSq</th><th scope=col>Time Point</th><th scope=col>xCell Score</th><th scope=col>None</th></tr>\n",
       "\t<tr><th></th><th scope=col>&lt;lgl&gt;</th><th scope=col>&lt;lgl&gt;</th><th scope=col>&lt;lgl&gt;</th><th scope=col>&lt;lgl&gt;</th><th scope=col>&lt;lgl&gt;</th><th scope=col>&lt;lgl&gt;</th></tr>\n",
       "</thead>\n",
       "<tbody>\n",
       "\t<tr><th scope=row>ME_58</th><td>FALSE</td><td>FALSE</td><td>FALSE</td><td>TRUE</td><td>TRUE</td><td>FALSE</td></tr>\n",
       "\t<tr><th scope=row>ME_19</th><td>FALSE</td><td>FALSE</td><td>FALSE</td><td>TRUE</td><td>TRUE</td><td>FALSE</td></tr>\n",
       "\t<tr><th scope=row>ME_36</th><td>FALSE</td><td>FALSE</td><td>FALSE</td><td>TRUE</td><td>TRUE</td><td>FALSE</td></tr>\n",
       "\t<tr><th scope=row>ME_9</th><td>FALSE</td><td>FALSE</td><td>FALSE</td><td>TRUE</td><td>TRUE</td><td>FALSE</td></tr>\n",
       "\t<tr><th scope=row>ME_29</th><td>FALSE</td><td>FALSE</td><td>FALSE</td><td>TRUE</td><td>TRUE</td><td>FALSE</td></tr>\n",
       "\t<tr><th scope=row>ME_63</th><td>FALSE</td><td>FALSE</td><td>FALSE</td><td>TRUE</td><td>TRUE</td><td>FALSE</td></tr>\n",
       "</tbody>\n",
       "</table>\n"
      ],
      "text/latex": [
       "A data.frame: 6 × 6\n",
       "\\begin{tabular}{r|llllll}\n",
       "  & Cell Proportion & Outcome & SRSq & Time Point & xCell Score & None\\\\\n",
       "  & <lgl> & <lgl> & <lgl> & <lgl> & <lgl> & <lgl>\\\\\n",
       "\\hline\n",
       "\tME\\_58 & FALSE & FALSE & FALSE & TRUE & TRUE & FALSE\\\\\n",
       "\tME\\_19 & FALSE & FALSE & FALSE & TRUE & TRUE & FALSE\\\\\n",
       "\tME\\_36 & FALSE & FALSE & FALSE & TRUE & TRUE & FALSE\\\\\n",
       "\tME\\_9 & FALSE & FALSE & FALSE & TRUE & TRUE & FALSE\\\\\n",
       "\tME\\_29 & FALSE & FALSE & FALSE & TRUE & TRUE & FALSE\\\\\n",
       "\tME\\_63 & FALSE & FALSE & FALSE & TRUE & TRUE & FALSE\\\\\n",
       "\\end{tabular}\n"
      ],
      "text/markdown": [
       "\n",
       "A data.frame: 6 × 6\n",
       "\n",
       "| <!--/--> | Cell Proportion &lt;lgl&gt; | Outcome &lt;lgl&gt; | SRSq &lt;lgl&gt; | Time Point &lt;lgl&gt; | xCell Score &lt;lgl&gt; | None &lt;lgl&gt; |\n",
       "|---|---|---|---|---|---|---|\n",
       "| ME_58 | FALSE | FALSE | FALSE | TRUE | TRUE | FALSE |\n",
       "| ME_19 | FALSE | FALSE | FALSE | TRUE | TRUE | FALSE |\n",
       "| ME_36 | FALSE | FALSE | FALSE | TRUE | TRUE | FALSE |\n",
       "| ME_9 | FALSE | FALSE | FALSE | TRUE | TRUE | FALSE |\n",
       "| ME_29 | FALSE | FALSE | FALSE | TRUE | TRUE | FALSE |\n",
       "| ME_63 | FALSE | FALSE | FALSE | TRUE | TRUE | FALSE |\n",
       "\n"
      ],
      "text/plain": [
       "      Cell Proportion Outcome SRSq  Time Point xCell Score None \n",
       "ME_58 FALSE           FALSE   FALSE TRUE       TRUE        FALSE\n",
       "ME_19 FALSE           FALSE   FALSE TRUE       TRUE        FALSE\n",
       "ME_36 FALSE           FALSE   FALSE TRUE       TRUE        FALSE\n",
       "ME_9  FALSE           FALSE   FALSE TRUE       TRUE        FALSE\n",
       "ME_29 FALSE           FALSE   FALSE TRUE       TRUE        FALSE\n",
       "ME_63 FALSE           FALSE   FALSE TRUE       TRUE        FALSE"
      ]
     },
     "metadata": {},
     "output_type": "display_data"
    }
   ],
   "source": [
    "# Identify Module Association Sets\n",
    "modules <- Reduce(union, plot.data)\n",
    "\n",
    "module.association.mtx <- lapply(modules, function(module.name) {\n",
    "  return(sapply(plot.data, function(set) module.name %in% set))\n",
    "}) %>%\n",
    "  do.call(rbind, .) %>%\n",
    "  as.data.frame()\n",
    "rownames(module.association.mtx) <- modules\n",
    "\n",
    "module.association.mtx %>%\n",
    "    dplyr::filter(!`Cell Proportion` & !Outcome & !SRSq & `Time Point`)"
   ]
  },
  {
   "cell_type": "code",
   "execution_count": null,
   "id": "c77e8f6b-d6c0-4af1-80bb-bfcde591b8c9",
   "metadata": {},
   "outputs": [],
   "source": []
  }
 ],
 "metadata": {
  "kernelspec": {
   "display_name": "R",
   "language": "R",
   "name": "ir"
  },
  "language_info": {
   "codemirror_mode": "r",
   "file_extension": ".r",
   "mimetype": "text/x-r-source",
   "name": "R",
   "pygments_lexer": "r",
   "version": "4.0.5"
  }
 },
 "nbformat": 4,
 "nbformat_minor": 5
}
