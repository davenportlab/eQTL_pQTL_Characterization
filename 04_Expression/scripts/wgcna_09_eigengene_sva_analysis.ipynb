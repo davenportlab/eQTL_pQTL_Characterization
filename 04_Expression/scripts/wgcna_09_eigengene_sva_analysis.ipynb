{
 "cells": [
  {
   "cell_type": "markdown",
   "id": "13a6d567-93eb-49cb-b990-47eeadbaa4ed",
   "metadata": {},
   "source": [
    "# Eigengene SVA Analysis\n",
    "\n",
    "**Created**: 13 December 2021"
   ]
  },
  {
   "cell_type": "markdown",
   "id": "fd1d3c8f-83ef-454a-942d-df6850b499bb",
   "metadata": {
    "tags": []
   },
   "source": [
    "## Environment"
   ]
  },
  {
   "cell_type": "code",
   "execution_count": 1,
   "id": "9b48beed-9062-4f5e-b496-5c91855bd3b5",
   "metadata": {},
   "outputs": [],
   "source": [
    "if (!requireNamespace(\"patchwork\", quietly=TRUE)) {\n",
    "    install.packages(\"devtools\")\n",
    "    devtools::install_github(\"thomasp85/patchwork\")\n",
    "}\n",
    "\n",
    "if (!requireNamespace(\"GenomicRanges\", quietly=TRUE)) {\n",
    "    BiocManager::install(\"GenomicRanges\")\n",
    "}\n",
    "\n",
    "if (!requireNamespace(\"circlize\", quietly=TRUE)) {\n",
    "    install.packages(\"circlize\")\n",
    "}"
   ]
  },
  {
   "cell_type": "code",
   "execution_count": 2,
   "id": "244dc510-997d-4a87-b5ee-96d685fdadab",
   "metadata": {},
   "outputs": [
    {
     "name": "stderr",
     "output_type": "stream",
     "text": [
      "── \u001b[1mAttaching packages\u001b[22m ───────────────────────────────────────────────────────────────────────────────────────────────────────────────────────────────────────────────────────────────── tidyverse 1.3.1 ──\n",
      "\n",
      "\u001b[32m✔\u001b[39m \u001b[34mggplot2\u001b[39m 3.3.5     \u001b[32m✔\u001b[39m \u001b[34mpurrr  \u001b[39m 0.3.4\n",
      "\u001b[32m✔\u001b[39m \u001b[34mtibble \u001b[39m 3.1.6     \u001b[32m✔\u001b[39m \u001b[34mdplyr  \u001b[39m 1.0.8\n",
      "\u001b[32m✔\u001b[39m \u001b[34mtidyr  \u001b[39m 1.2.0     \u001b[32m✔\u001b[39m \u001b[34mstringr\u001b[39m 1.4.0\n",
      "\u001b[32m✔\u001b[39m \u001b[34mreadr  \u001b[39m 2.1.1     \u001b[32m✔\u001b[39m \u001b[34mforcats\u001b[39m 0.5.1\n",
      "\n",
      "── \u001b[1mConflicts\u001b[22m ──────────────────────────────────────────────────────────────────────────────────────────────────────────────────────────────────────────────────────────────────── tidyverse_conflicts() ──\n",
      "\u001b[31m✖\u001b[39m \u001b[34mdplyr\u001b[39m::\u001b[32mfilter()\u001b[39m masks \u001b[34mstats\u001b[39m::filter()\n",
      "\u001b[31m✖\u001b[39m \u001b[34mdplyr\u001b[39m::\u001b[32mlag()\u001b[39m    masks \u001b[34mstats\u001b[39m::lag()\n",
      "\n",
      "\n",
      "Attaching package: ‘data.table’\n",
      "\n",
      "\n",
      "The following objects are masked from ‘package:dplyr’:\n",
      "\n",
      "    between, first, last\n",
      "\n",
      "\n",
      "The following object is masked from ‘package:purrr’:\n",
      "\n",
      "    transpose\n",
      "\n",
      "\n",
      "Loading required package: stats4\n",
      "\n",
      "Loading required package: BiocGenerics\n",
      "\n",
      "\n",
      "Attaching package: ‘BiocGenerics’\n",
      "\n",
      "\n",
      "The following objects are masked from ‘package:parallel’:\n",
      "\n",
      "    clusterApply, clusterApplyLB, clusterCall, clusterEvalQ,\n",
      "    clusterExport, clusterMap, parApply, parCapply, parLapply,\n",
      "    parLapplyLB, parRapply, parSapply, parSapplyLB\n",
      "\n",
      "\n",
      "The following objects are masked from ‘package:dplyr’:\n",
      "\n",
      "    combine, intersect, setdiff, union\n",
      "\n",
      "\n",
      "The following objects are masked from ‘package:stats’:\n",
      "\n",
      "    IQR, mad, sd, var, xtabs\n",
      "\n",
      "\n",
      "The following objects are masked from ‘package:base’:\n",
      "\n",
      "    anyDuplicated, append, as.data.frame, basename, cbind, colnames,\n",
      "    dirname, do.call, duplicated, eval, evalq, Filter, Find, get, grep,\n",
      "    grepl, intersect, is.unsorted, lapply, Map, mapply, match, mget,\n",
      "    order, paste, pmax, pmax.int, pmin, pmin.int, Position, rank,\n",
      "    rbind, Reduce, rownames, sapply, setdiff, sort, table, tapply,\n",
      "    union, unique, unsplit, which.max, which.min\n",
      "\n",
      "\n",
      "Loading required package: S4Vectors\n",
      "\n",
      "\n",
      "Attaching package: ‘S4Vectors’\n",
      "\n",
      "\n",
      "The following objects are masked from ‘package:data.table’:\n",
      "\n",
      "    first, second\n",
      "\n",
      "\n",
      "The following objects are masked from ‘package:dplyr’:\n",
      "\n",
      "    first, rename\n",
      "\n",
      "\n",
      "The following object is masked from ‘package:tidyr’:\n",
      "\n",
      "    expand\n",
      "\n",
      "\n",
      "The following object is masked from ‘package:base’:\n",
      "\n",
      "    expand.grid\n",
      "\n",
      "\n",
      "Loading required package: IRanges\n",
      "\n",
      "\n",
      "Attaching package: ‘IRanges’\n",
      "\n",
      "\n",
      "The following object is masked from ‘package:data.table’:\n",
      "\n",
      "    shift\n",
      "\n",
      "\n",
      "The following objects are masked from ‘package:dplyr’:\n",
      "\n",
      "    collapse, desc, slice\n",
      "\n",
      "\n",
      "The following object is masked from ‘package:purrr’:\n",
      "\n",
      "    reduce\n",
      "\n",
      "\n",
      "Loading required package: GenomeInfoDb\n",
      "\n",
      "========================================\n",
      "circlize version 0.4.13\n",
      "CRAN page: https://cran.r-project.org/package=circlize\n",
      "Github page: https://github.com/jokergoo/circlize\n",
      "Documentation: https://jokergoo.github.io/circlize_book/book/\n",
      "\n",
      "If you use it in published research, please cite:\n",
      "Gu, Z. circlize implements and enhances circular visualization\n",
      "  in R. Bioinformatics 2014.\n",
      "\n",
      "This message can be suppressed by:\n",
      "  suppressPackageStartupMessages(library(circlize))\n",
      "========================================\n",
      "\n",
      "\n"
     ]
    }
   ],
   "source": [
    "library(tidyverse)\n",
    "library(data.table)\n",
    "library(parallel)\n",
    "library(patchwork)\n",
    "library(GenomicRanges)\n",
    "library(circlize)\n",
    "\n",
    "setwd(\"~/eQTL_pQTL_Characterization/\")\n",
    "\n",
    "source(\"04_Expression/scripts/utils/ggplot_theme.R\")"
   ]
  },
  {
   "cell_type": "markdown",
   "id": "97d7dab9-bde6-460e-ae7f-238b3ac09876",
   "metadata": {},
   "source": [
    "## Load Data"
   ]
  },
  {
   "cell_type": "code",
   "execution_count": 3,
   "id": "b41c2bf1-d717-47ac-8b62-8bbbf20b5195",
   "metadata": {},
   "outputs": [],
   "source": [
    "geno <- fread(\"~/gains_team282/Genotyping/All_genotyping_merged_filtered_b38_refiltered_rsID.bim\")\n",
    "colnames(geno) <- c(\"chr\", \"snp\", \"cM\", \"pos\", \"minor\", \"major\")"
   ]
  },
  {
   "cell_type": "markdown",
   "id": "357e72bb-4acc-4524-9fe9-3d5c82a95a7e",
   "metadata": {},
   "source": [
    "## Module QTL from First PC"
   ]
  },
  {
   "cell_type": "markdown",
   "id": "8e712603-19aa-4435-916c-5e2113ab0310",
   "metadata": {
    "tags": []
   },
   "source": [
    "### Manhattan Plots"
   ]
  },
  {
   "cell_type": "markdown",
   "id": "7cd02116-ca51-449b-adc8-ed548b7d5375",
   "metadata": {},
   "source": [
    "The genome-wide significance threshold is calculated using a Bonferroni correction of a significance threshold of 0.05. We performed tests for 66 individual eigengenes for 70300 SNPs. This threshold is slightly larger than 1e-8, so I will use that cutoff instead."
   ]
  },
  {
   "cell_type": "markdown",
   "id": "cdad0fd4-5634-4235-9a1c-7c63cabc213d",
   "metadata": {},
   "source": [
    "Under the null distribution, $t=\\frac{\\hat{\\beta}}{SE}$ follows a T distribution with degrees of freedom close to $n$. The genomic inflation score measures the deviation from this expected distribution while accounting for outliers expected from a few true positives. The score is\n",
    "\n",
    "$$\\lambda = \\frac{\\text{median}(t^2)}{\\text{median}(\\chi_1^2)}$$\n",
    "\n",
    "where $t$ is the T-statistic for $\\beta$. Here, we assume that the T Distribution can be approximated as a standard normal distribution since $n$ is relatively large."
   ]
  },
  {
   "cell_type": "code",
   "execution_count": 4,
   "id": "3ead7e58-c5e3-4637-8d0d-1a9468c95ba0",
   "metadata": {},
   "outputs": [],
   "source": [
    "me.assocs <- do.call(rbind, lapply(list.files(\"~/gains_team282/nikhil/expression/eigengene_sva/wgcna_initial_pass/\", pattern=\"ME_.*_1\\\\.tsv\"), function(file) {\n",
    "    file.full = paste0(\"~/gains_team282/nikhil/expression/eigengene_sva/wgcna_initial_pass/\", file)\n",
    "    me.assoc = fread(file.full, sep=\"\\t\", fill=TRUE) %>%\n",
    "        as.data.frame() %>%\n",
    "        dplyr::mutate(me = gsub(\"_1\\\\.tsv\", \"\", file)) %>%\n",
    "        dplyr::select(snp=1, beta=2, se=3, t=4, p=5, me)\n",
    "}))"
   ]
  },
  {
   "cell_type": "code",
   "execution_count": 5,
   "id": "3f5e225f-629a-4b48-9d28-39829632ef32",
   "metadata": {},
   "outputs": [],
   "source": [
    "lambdas <- me.assocs %>%\n",
    "    dplyr::group_by(me) %>%\n",
    "    dplyr::summarize(lambda = median(qchisq(1 - p, 1)) / qchisq(0.5, 1))"
   ]
  },
  {
   "cell_type": "code",
   "execution_count": 6,
   "id": "682f4317-4151-4b82-96ba-b38b2fbe23a2",
   "metadata": {},
   "outputs": [],
   "source": [
    "num.modules <- length(unique(me.assocs$me))\n",
    "num.snps <- length(unique(me.assocs$snp))"
   ]
  },
  {
   "cell_type": "code",
   "execution_count": 7,
   "id": "6ba69696-5156-408f-9a09-d3d03e8115aa",
   "metadata": {},
   "outputs": [
    {
     "data": {
      "text/html": [
       "<table class=\"dataframe\">\n",
       "<caption>A grouped_df: 6 × 11</caption>\n",
       "<thead>\n",
       "\t<tr><th scope=col>snp</th><th scope=col>beta</th><th scope=col>se</th><th scope=col>t</th><th scope=col>p</th><th scope=col>me</th><th scope=col>chr</th><th scope=col>cM</th><th scope=col>pos</th><th scope=col>minor</th><th scope=col>major</th></tr>\n",
       "\t<tr><th scope=col>&lt;chr&gt;</th><th scope=col>&lt;dbl&gt;</th><th scope=col>&lt;dbl&gt;</th><th scope=col>&lt;dbl&gt;</th><th scope=col>&lt;dbl&gt;</th><th scope=col>&lt;chr&gt;</th><th scope=col>&lt;chr&gt;</th><th scope=col>&lt;int&gt;</th><th scope=col>&lt;int&gt;</th><th scope=col>&lt;chr&gt;</th><th scope=col>&lt;chr&gt;</th></tr>\n",
       "</thead>\n",
       "<tbody>\n",
       "\t<tr><td>rs57213017</td><td> 0.05440986</td><td>0.0008015134</td><td> 67.88391</td><td>5.046513e-291</td><td>ME_69</td><td>17</td><td>0</td><td>45589540</td><td>C</td><td>G</td></tr>\n",
       "\t<tr><td>rs9349181 </td><td>-0.05097174</td><td>0.0009021488</td><td>-56.50037</td><td>1.318658e-250</td><td>ME_79</td><td>6 </td><td>0</td><td>41217867</td><td>C</td><td>A</td></tr>\n",
       "\t<tr><td>rs74011998</td><td> 0.05274470</td><td>0.0011278543</td><td> 46.76553</td><td>6.083896e-207</td><td>ME_97</td><td>15</td><td>0</td><td>48304516</td><td>C</td><td>T</td></tr>\n",
       "\t<tr><td>rs999185  </td><td> 0.04612084</td><td>0.0010447149</td><td> 44.14682</td><td>5.189250e-194</td><td>ME_94</td><td>12</td><td>0</td><td> 9960659</td><td>T</td><td>C</td></tr>\n",
       "\t<tr><td>rs8112960 </td><td>-0.03160258</td><td>0.0009039899</td><td>-34.95899</td><td>2.856736e-150</td><td>ME_80</td><td>19</td><td>0</td><td>21592569</td><td>T</td><td>C</td></tr>\n",
       "\t<tr><td>rs1677682 </td><td>-0.01848770</td><td>0.0006136652</td><td>-30.12668</td><td>1.543047e-123</td><td>ME_82</td><td>5 </td><td>0</td><td>80660774</td><td>A</td><td>C</td></tr>\n",
       "</tbody>\n",
       "</table>\n"
      ],
      "text/latex": [
       "A grouped\\_df: 6 × 11\n",
       "\\begin{tabular}{lllllllllll}\n",
       " snp & beta & se & t & p & me & chr & cM & pos & minor & major\\\\\n",
       " <chr> & <dbl> & <dbl> & <dbl> & <dbl> & <chr> & <chr> & <int> & <int> & <chr> & <chr>\\\\\n",
       "\\hline\n",
       "\t rs57213017 &  0.05440986 & 0.0008015134 &  67.88391 & 5.046513e-291 & ME\\_69 & 17 & 0 & 45589540 & C & G\\\\\n",
       "\t rs9349181  & -0.05097174 & 0.0009021488 & -56.50037 & 1.318658e-250 & ME\\_79 & 6  & 0 & 41217867 & C & A\\\\\n",
       "\t rs74011998 &  0.05274470 & 0.0011278543 &  46.76553 & 6.083896e-207 & ME\\_97 & 15 & 0 & 48304516 & C & T\\\\\n",
       "\t rs999185   &  0.04612084 & 0.0010447149 &  44.14682 & 5.189250e-194 & ME\\_94 & 12 & 0 &  9960659 & T & C\\\\\n",
       "\t rs8112960  & -0.03160258 & 0.0009039899 & -34.95899 & 2.856736e-150 & ME\\_80 & 19 & 0 & 21592569 & T & C\\\\\n",
       "\t rs1677682  & -0.01848770 & 0.0006136652 & -30.12668 & 1.543047e-123 & ME\\_82 & 5  & 0 & 80660774 & A & C\\\\\n",
       "\\end{tabular}\n"
      ],
      "text/markdown": [
       "\n",
       "A grouped_df: 6 × 11\n",
       "\n",
       "| snp &lt;chr&gt; | beta &lt;dbl&gt; | se &lt;dbl&gt; | t &lt;dbl&gt; | p &lt;dbl&gt; | me &lt;chr&gt; | chr &lt;chr&gt; | cM &lt;int&gt; | pos &lt;int&gt; | minor &lt;chr&gt; | major &lt;chr&gt; |\n",
       "|---|---|---|---|---|---|---|---|---|---|---|\n",
       "| rs57213017 |  0.05440986 | 0.0008015134 |  67.88391 | 5.046513e-291 | ME_69 | 17 | 0 | 45589540 | C | G |\n",
       "| rs9349181  | -0.05097174 | 0.0009021488 | -56.50037 | 1.318658e-250 | ME_79 | 6  | 0 | 41217867 | C | A |\n",
       "| rs74011998 |  0.05274470 | 0.0011278543 |  46.76553 | 6.083896e-207 | ME_97 | 15 | 0 | 48304516 | C | T |\n",
       "| rs999185   |  0.04612084 | 0.0010447149 |  44.14682 | 5.189250e-194 | ME_94 | 12 | 0 |  9960659 | T | C |\n",
       "| rs8112960  | -0.03160258 | 0.0009039899 | -34.95899 | 2.856736e-150 | ME_80 | 19 | 0 | 21592569 | T | C |\n",
       "| rs1677682  | -0.01848770 | 0.0006136652 | -30.12668 | 1.543047e-123 | ME_82 | 5  | 0 | 80660774 | A | C |\n",
       "\n"
      ],
      "text/plain": [
       "  snp        beta        se           t         p             me    chr cM\n",
       "1 rs57213017  0.05440986 0.0008015134  67.88391 5.046513e-291 ME_69 17  0 \n",
       "2 rs9349181  -0.05097174 0.0009021488 -56.50037 1.318658e-250 ME_79 6   0 \n",
       "3 rs74011998  0.05274470 0.0011278543  46.76553 6.083896e-207 ME_97 15  0 \n",
       "4 rs999185    0.04612084 0.0010447149  44.14682 5.189250e-194 ME_94 12  0 \n",
       "5 rs8112960  -0.03160258 0.0009039899 -34.95899 2.856736e-150 ME_80 19  0 \n",
       "6 rs1677682  -0.01848770 0.0006136652 -30.12668 1.543047e-123 ME_82 5   0 \n",
       "  pos      minor major\n",
       "1 45589540 C     G    \n",
       "2 41217867 C     A    \n",
       "3 48304516 C     T    \n",
       "4  9960659 T     C    \n",
       "5 21592569 T     C    \n",
       "6 80660774 A     C    "
      ]
     },
     "metadata": {},
     "output_type": "display_data"
    }
   ],
   "source": [
    "mqtl.lead <- me.assocs %>%\n",
    "    dplyr::filter(p < 0.05 / (num.modules * num.snps)) %>%\n",
    "    merge(., geno, by=\"snp\") %>%\n",
    "    dplyr::group_by(me, chr) %>%\n",
    "    dplyr::slice_min(p, n=1) %>%\n",
    "    dplyr::arrange(p)\n",
    "\n",
    "head(mqtl.lead)"
   ]
  },
  {
   "cell_type": "code",
   "execution_count": 8,
   "id": "cef8834f-5c3a-4bdc-81c5-e5bea26c0c14",
   "metadata": {},
   "outputs": [],
   "source": [
    "write.csv(mqtl.lead, \"~/gains_team282/nikhil/expression/eigengene_sva/lead_mqtl.csv\", row.names=F, quote=F)"
   ]
  },
  {
   "cell_type": "code",
   "execution_count": 9,
   "id": "78fb0d86-1e30-4ec2-931b-ef1e4a244ba6",
   "metadata": {},
   "outputs": [
    {
     "data": {
      "text/html": [
       "<table class=\"dataframe\">\n",
       "<caption>A grouped_df: 6 × 11</caption>\n",
       "<thead>\n",
       "\t<tr><th scope=col>snp</th><th scope=col>beta</th><th scope=col>se</th><th scope=col>t</th><th scope=col>p</th><th scope=col>me</th><th scope=col>chr</th><th scope=col>cM</th><th scope=col>pos</th><th scope=col>minor</th><th scope=col>major</th></tr>\n",
       "\t<tr><th scope=col>&lt;chr&gt;</th><th scope=col>&lt;dbl&gt;</th><th scope=col>&lt;dbl&gt;</th><th scope=col>&lt;dbl&gt;</th><th scope=col>&lt;dbl&gt;</th><th scope=col>&lt;chr&gt;</th><th scope=col>&lt;chr&gt;</th><th scope=col>&lt;int&gt;</th><th scope=col>&lt;int&gt;</th><th scope=col>&lt;chr&gt;</th><th scope=col>&lt;chr&gt;</th></tr>\n",
       "</thead>\n",
       "<tbody>\n",
       "\t<tr><td>rs1043879</td><td>0.010129813</td><td>0.001232190</td><td> 8.220983</td><td>1.048905e-15</td><td>ME_101</td><td>1</td><td>0</td><td>25243590</td><td>C</td><td>T</td></tr>\n",
       "\t<tr><td>rs9645452</td><td>0.013201977</td><td>0.001002150</td><td>13.173653</td><td>2.908400e-35</td><td>ME_101</td><td>1</td><td>0</td><td>25341835</td><td>T</td><td>C</td></tr>\n",
       "\t<tr><td>rs3091242</td><td>0.012623894</td><td>0.001007970</td><td>12.524073</td><td>2.003450e-32</td><td>ME_101</td><td>1</td><td>0</td><td>25348294</td><td>C</td><td>T</td></tr>\n",
       "\t<tr><td>rs3093614</td><td>0.012912368</td><td>0.001003548</td><td>12.866722</td><td>6.447898e-34</td><td>ME_101</td><td>1</td><td>0</td><td>25351353</td><td>A</td><td>T</td></tr>\n",
       "\t<tr><td>rs1293259</td><td>0.009308084</td><td>0.001492895</td><td> 6.234923</td><td>8.485031e-10</td><td>ME_101</td><td>1</td><td>0</td><td>25369344</td><td>A</td><td>G</td></tr>\n",
       "\t<tr><td>rs644592 </td><td>0.009194383</td><td>0.001511389</td><td> 6.083400</td><td>2.082507e-09</td><td>ME_101</td><td>1</td><td>0</td><td>25376665</td><td>T</td><td>C</td></tr>\n",
       "</tbody>\n",
       "</table>\n"
      ],
      "text/latex": [
       "A grouped\\_df: 6 × 11\n",
       "\\begin{tabular}{lllllllllll}\n",
       " snp & beta & se & t & p & me & chr & cM & pos & minor & major\\\\\n",
       " <chr> & <dbl> & <dbl> & <dbl> & <dbl> & <chr> & <chr> & <int> & <int> & <chr> & <chr>\\\\\n",
       "\\hline\n",
       "\t rs1043879 & 0.010129813 & 0.001232190 &  8.220983 & 1.048905e-15 & ME\\_101 & 1 & 0 & 25243590 & C & T\\\\\n",
       "\t rs9645452 & 0.013201977 & 0.001002150 & 13.173653 & 2.908400e-35 & ME\\_101 & 1 & 0 & 25341835 & T & C\\\\\n",
       "\t rs3091242 & 0.012623894 & 0.001007970 & 12.524073 & 2.003450e-32 & ME\\_101 & 1 & 0 & 25348294 & C & T\\\\\n",
       "\t rs3093614 & 0.012912368 & 0.001003548 & 12.866722 & 6.447898e-34 & ME\\_101 & 1 & 0 & 25351353 & A & T\\\\\n",
       "\t rs1293259 & 0.009308084 & 0.001492895 &  6.234923 & 8.485031e-10 & ME\\_101 & 1 & 0 & 25369344 & A & G\\\\\n",
       "\t rs644592  & 0.009194383 & 0.001511389 &  6.083400 & 2.082507e-09 & ME\\_101 & 1 & 0 & 25376665 & T & C\\\\\n",
       "\\end{tabular}\n"
      ],
      "text/markdown": [
       "\n",
       "A grouped_df: 6 × 11\n",
       "\n",
       "| snp &lt;chr&gt; | beta &lt;dbl&gt; | se &lt;dbl&gt; | t &lt;dbl&gt; | p &lt;dbl&gt; | me &lt;chr&gt; | chr &lt;chr&gt; | cM &lt;int&gt; | pos &lt;int&gt; | minor &lt;chr&gt; | major &lt;chr&gt; |\n",
       "|---|---|---|---|---|---|---|---|---|---|---|\n",
       "| rs1043879 | 0.010129813 | 0.001232190 |  8.220983 | 1.048905e-15 | ME_101 | 1 | 0 | 25243590 | C | T |\n",
       "| rs9645452 | 0.013201977 | 0.001002150 | 13.173653 | 2.908400e-35 | ME_101 | 1 | 0 | 25341835 | T | C |\n",
       "| rs3091242 | 0.012623894 | 0.001007970 | 12.524073 | 2.003450e-32 | ME_101 | 1 | 0 | 25348294 | C | T |\n",
       "| rs3093614 | 0.012912368 | 0.001003548 | 12.866722 | 6.447898e-34 | ME_101 | 1 | 0 | 25351353 | A | T |\n",
       "| rs1293259 | 0.009308084 | 0.001492895 |  6.234923 | 8.485031e-10 | ME_101 | 1 | 0 | 25369344 | A | G |\n",
       "| rs644592  | 0.009194383 | 0.001511389 |  6.083400 | 2.082507e-09 | ME_101 | 1 | 0 | 25376665 | T | C |\n",
       "\n"
      ],
      "text/plain": [
       "  snp       beta        se          t         p            me     chr cM\n",
       "1 rs1043879 0.010129813 0.001232190  8.220983 1.048905e-15 ME_101 1   0 \n",
       "2 rs9645452 0.013201977 0.001002150 13.173653 2.908400e-35 ME_101 1   0 \n",
       "3 rs3091242 0.012623894 0.001007970 12.524073 2.003450e-32 ME_101 1   0 \n",
       "4 rs3093614 0.012912368 0.001003548 12.866722 6.447898e-34 ME_101 1   0 \n",
       "5 rs1293259 0.009308084 0.001492895  6.234923 8.485031e-10 ME_101 1   0 \n",
       "6 rs644592  0.009194383 0.001511389  6.083400 2.082507e-09 ME_101 1   0 \n",
       "  pos      minor major\n",
       "1 25243590 C     T    \n",
       "2 25341835 T     C    \n",
       "3 25348294 C     T    \n",
       "4 25351353 A     T    \n",
       "5 25369344 A     G    \n",
       "6 25376665 T     C    "
      ]
     },
     "metadata": {},
     "output_type": "display_data"
    }
   ],
   "source": [
    "mqtl.all <- me.assocs %>%\n",
    "    dplyr::filter(p < 0.05 / (num.modules * num.snps)) %>%\n",
    "    merge(., geno, by=\"snp\") %>%\n",
    "    dplyr::group_by(me, chr) %>%\n",
    "    dplyr::arrange(me, chr, pos)\n",
    "\n",
    "head(mqtl.all)"
   ]
  },
  {
   "cell_type": "code",
   "execution_count": 10,
   "id": "70f99c04-2497-469c-8b3a-a384e81dc912",
   "metadata": {},
   "outputs": [],
   "source": [
    "write.csv(mqtl.all, \"~/gains_team282/nikhil/expression/eigengene_sva/all_mqtl.csv\", row.names=F, quote=F)"
   ]
  },
  {
   "cell_type": "code",
   "execution_count": 11,
   "id": "dc2a5bb7-08ad-4a67-bf02-62444ced2894",
   "metadata": {
    "tags": []
   },
   "outputs": [
    {
     "data": {
      "image/png": "[encoded data removed]",
      "text/plain": [
       "plot without title"
      ]
     },
     "metadata": {
      "image/png": {
       "height": 300,
       "width": 1200
      }
     },
     "output_type": "display_data"
    }
   ],
   "source": [
    "options(repr.plot.width=20, repr.plot.height=5)\n",
    "\n",
    "plot.data <- me.assocs %>%\n",
    "    dplyr::filter(p < 0.05) %>%\n",
    "    merge(., geno, by=\"snp\") %>%\n",
    "    dplyr::filter(chr %in% 1:22) %>%\n",
    "    dplyr::mutate(chr=factor(chr, levels=1:22)) %>%\n",
    "    dplyr::mutate(chr.type=ifelse(as.numeric(chr) %% 2 == 0, \"Even\", \"Odd\")) %>%\n",
    "    dplyr::mutate(Log.10.p = -log10(p))\n",
    "\n",
    "plot.data %>%\n",
    "    ggplot() +\n",
    "    geom_point(aes(x=pos, y=Log.10.p, color=chr.type), size=I(0.5), alpha=0.5) +\n",
    "    geom_hline(yintercept=-log10(0.05 / (num.modules * num.snps)), lty=3, size=0.5) +\n",
    "    scale_color_manual(values=c(\"Even\" = \"royalblue4\", \"Odd\" = \"royalblue1\")) +\n",
    "    facet_grid(~chr, scale=\"free_x\", space=\"free_x\") +\n",
    "    guides(color=\"none\") +\n",
    "    xlab(\"Position\") + ylab(expression('-log'[10]~'(p)')) +\n",
    "    ggplot_theme +\n",
    "    theme(\n",
    "        strip.background=element_blank(),\n",
    "        axis.text.x=element_blank(),\n",
    "        axis.ticks.x=element_blank(),\n",
    "        panel.spacing=unit(0.1, \"lines\"),\n",
    "        strip.text=element_blank(),\n",
    "        axis.title.x=element_blank()\n",
    "    )\n",
    "\n",
    "ggsave(\"04_Expression/results/manhattan_initial_pass.png\", width=20, height=5, dpi=1200)"
   ]
  },
  {
   "cell_type": "markdown",
   "id": "fd7f325f-013d-4aea-b087-0bba5a1ea884",
   "metadata": {
    "tags": []
   },
   "source": [
    "### Call Module QTL"
   ]
  },
  {
   "cell_type": "markdown",
   "id": "f830fa52-6c3f-4d24-8c5c-fc499dc3ae97",
   "metadata": {},
   "source": [
    "For each module, I will create 1 Mb windows around each significant SNP. Then, I will merge these windows to create the full window for the module QTL. These will be used to calculate summary statistics for downstream colocalization analysis."
   ]
  },
  {
   "cell_type": "code",
   "execution_count": 12,
   "id": "95b9616a-fff2-4c2f-ae91-057af90228bd",
   "metadata": {},
   "outputs": [],
   "source": [
    "windows <- me.assocs %>%\n",
    "    dplyr::filter(p < 0.05 / (num.modules * num.snps)) %>%\n",
    "    merge(., geno, by=\"snp\") %>%\n",
    "    dplyr::mutate(start = sapply(pos, function(x) { max(1, x - 10^6) }), end = pos + 10^6 - 1)\n",
    "\n",
    "windows.merged <- lapply(split(windows, windows$me), function(x) {\n",
    "    ranges <- makeGRangesFromDataFrame(x, seqnames.field=\"chr\", start.field=\"start\", end.field=\"end\") %>%\n",
    "    reduce() %>%\n",
    "    as.data.frame()\n",
    "    ranges$me <- x$me[1]\n",
    "    return(ranges)\n",
    "}) %>%\n",
    "    do.call(rbind, .) %>%\n",
    "    makeGRangesFromDataFrame(keep.extra.columns=TRUE)"
   ]
  },
  {
   "cell_type": "code",
   "execution_count": 13,
   "id": "5b71eb7f-20f4-4fcd-ae89-5435207f6068",
   "metadata": {},
   "outputs": [],
   "source": [
    "snp.ranges <- makeGRangesFromDataFrame(\n",
    "    as.data.frame(geno.bim), \n",
    "    seqnames.field=\"chr\", start.field=\"Position\", end.field=\"Position\", \n",
    "    keep.extra.columns=TRUE\n",
    ")"
   ]
  },
  {
   "cell_type": "code",
   "execution_count": 14,
   "id": "bd00bc94-cfff-4a8e-b935-c2e3568a4364",
   "metadata": {},
   "outputs": [],
   "source": [
    "overlaps <- findOverlaps(windows.merged, snp.ranges)"
   ]
  },
  {
   "cell_type": "code",
   "execution_count": 15,
   "id": "146f5658-f4d8-40ca-8c7a-0a1c4ed849ed",
   "metadata": {},
   "outputs": [],
   "source": [
    "module.qtl.snps <- cbind(\n",
    "    as.data.frame(windows.merged)[overlaps@from,],\n",
    "    as.data.frame(snp.ranges)[overlaps@to,]\n",
    ") %>%\n",
    "    as.data.frame() %>%\n",
    "    dplyr::select(me, snp, chr=1, start=2, end=3) %>%\n",
    "    dplyr::mutate(QTL.ID=paste0(chr, \":\", start, \"-\", end)) %>%\n",
    "    dplyr::select(ME=me, SNP=snp, QTL.ID)"
   ]
  },
  {
   "cell_type": "code",
   "execution_count": 16,
   "id": "a0b7a1f1-7b59-4bea-9e46-c8646766bde1",
   "metadata": {},
   "outputs": [
    {
     "data": {
      "text/html": [
       "<table class=\"dataframe\">\n",
       "<caption>A data.frame: 6 × 3</caption>\n",
       "<thead>\n",
       "\t<tr><th></th><th scope=col>ME</th><th scope=col>SNP</th><th scope=col>QTL.ID</th></tr>\n",
       "\t<tr><th></th><th scope=col>&lt;chr&gt;</th><th scope=col>&lt;chr&gt;</th><th scope=col>&lt;chr&gt;</th></tr>\n",
       "</thead>\n",
       "<tbody>\n",
       "\t<tr><th scope=row>ME_101.1</th><td>ME_101</td><td>rs570214486   </td><td>1:24243590-26454176</td></tr>\n",
       "\t<tr><th scope=row>ME_101.1.1</th><td>ME_101</td><td>1:24244103_0_G</td><td>1:24243590-26454176</td></tr>\n",
       "\t<tr><th scope=row>ME_101.1.2</th><td>ME_101</td><td>rs118121369   </td><td>1:24243590-26454176</td></tr>\n",
       "\t<tr><th scope=row>ME_101.1.3</th><td>ME_101</td><td>rs141756820   </td><td>1:24243590-26454176</td></tr>\n",
       "\t<tr><th scope=row>ME_101.1.4</th><td>ME_101</td><td>rs7516592     </td><td>1:24243590-26454176</td></tr>\n",
       "\t<tr><th scope=row>ME_101.1.5</th><td>ME_101</td><td>rs12081557    </td><td>1:24243590-26454176</td></tr>\n",
       "</tbody>\n",
       "</table>\n"
      ],
      "text/latex": [
       "A data.frame: 6 × 3\n",
       "\\begin{tabular}{r|lll}\n",
       "  & ME & SNP & QTL.ID\\\\\n",
       "  & <chr> & <chr> & <chr>\\\\\n",
       "\\hline\n",
       "\tME\\_101.1 & ME\\_101 & rs570214486    & 1:24243590-26454176\\\\\n",
       "\tME\\_101.1.1 & ME\\_101 & 1:24244103\\_0\\_G & 1:24243590-26454176\\\\\n",
       "\tME\\_101.1.2 & ME\\_101 & rs118121369    & 1:24243590-26454176\\\\\n",
       "\tME\\_101.1.3 & ME\\_101 & rs141756820    & 1:24243590-26454176\\\\\n",
       "\tME\\_101.1.4 & ME\\_101 & rs7516592      & 1:24243590-26454176\\\\\n",
       "\tME\\_101.1.5 & ME\\_101 & rs12081557     & 1:24243590-26454176\\\\\n",
       "\\end{tabular}\n"
      ],
      "text/markdown": [
       "\n",
       "A data.frame: 6 × 3\n",
       "\n",
       "| <!--/--> | ME &lt;chr&gt; | SNP &lt;chr&gt; | QTL.ID &lt;chr&gt; |\n",
       "|---|---|---|---|\n",
       "| ME_101.1 | ME_101 | rs570214486    | 1:24243590-26454176 |\n",
       "| ME_101.1.1 | ME_101 | 1:24244103_0_G | 1:24243590-26454176 |\n",
       "| ME_101.1.2 | ME_101 | rs118121369    | 1:24243590-26454176 |\n",
       "| ME_101.1.3 | ME_101 | rs141756820    | 1:24243590-26454176 |\n",
       "| ME_101.1.4 | ME_101 | rs7516592      | 1:24243590-26454176 |\n",
       "| ME_101.1.5 | ME_101 | rs12081557     | 1:24243590-26454176 |\n",
       "\n"
      ],
      "text/plain": [
       "           ME     SNP            QTL.ID             \n",
       "ME_101.1   ME_101 rs570214486    1:24243590-26454176\n",
       "ME_101.1.1 ME_101 1:24244103_0_G 1:24243590-26454176\n",
       "ME_101.1.2 ME_101 rs118121369    1:24243590-26454176\n",
       "ME_101.1.3 ME_101 rs141756820    1:24243590-26454176\n",
       "ME_101.1.4 ME_101 rs7516592      1:24243590-26454176\n",
       "ME_101.1.5 ME_101 rs12081557     1:24243590-26454176"
      ]
     },
     "metadata": {},
     "output_type": "display_data"
    }
   ],
   "source": [
    "head(module.qtl.snps)"
   ]
  },
  {
   "cell_type": "code",
   "execution_count": 17,
   "id": "bff2e7bc-009c-4428-9c06-828940e66b64",
   "metadata": {},
   "outputs": [],
   "source": [
    "write.table(\n",
    "    module.qtl.snps, \"~/gains_team282/nikhil/expression/eigengene_sva/mqtl_full_summary_statistics_snps.txt\", \n",
    "    sep=\"\\t\", row.names=F, quote=F\n",
    ")"
   ]
  },
  {
   "cell_type": "markdown",
   "id": "befbda43-5c84-4330-a156-bbbbd0c7a15e",
   "metadata": {
    "tags": []
   },
   "source": [
    "## Circos Plot Visualization"
   ]
  },
  {
   "cell_type": "code",
   "execution_count": 18,
   "id": "7c9f466c-7706-4b00-be1f-4c2eeac7f8e1",
   "metadata": {},
   "outputs": [],
   "source": [
    "chr.lengths <- read.table(\"~/gains_team282/epigenetics/star_genome_index/chrNameLength.txt\") %>%\n",
    "    dplyr::mutate(Start=1) %>%\n",
    "    dplyr::select(Chr=1, Start, End=2) %>%\n",
    "    dplyr::filter(Chr %in% as.character(1:22)) %>%\n",
    "    dplyr::mutate(Chr = factor(Chr, levels=as.character(1:22))) %>%\n",
    "    dplyr::arrange(Chr)"
   ]
  },
  {
   "cell_type": "code",
   "execution_count": 19,
   "id": "df88ef08-6366-493d-894d-050caf907e15",
   "metadata": {},
   "outputs": [],
   "source": [
    "qtl.df <- module.qtl.snps %>%\n",
    "    dplyr::select(ME, QTL.ID) %>%\n",
    "    unique() %>%\n",
    "    dplyr::mutate(Chr=factor(gsub(\":.*\", \"\", QTL.ID), levels=as.character(1:22))) %>%\n",
    "    dplyr::mutate(Range=gsub(\".*:\", \"\", QTL.ID)) %>%\n",
    "    dplyr::mutate(Start=as.numeric(gsub(\"-.*\", \"\", Range))) %>%\n",
    "    dplyr::mutate(End=as.numeric(gsub(\".*-\", \"\", Range))) %>%\n",
    "    dplyr::mutate(Midpoint=(Start + End) / 2) %>%\n",
    "    dplyr::mutate(Chr.Type=ifelse(as.numeric(Chr) %% 2 == 0, \"royalblue4\", \"royalblue1\"))"
   ]
  },
  {
   "cell_type": "code",
   "execution_count": 20,
   "id": "7a0abdcb-7bcd-478b-a504-15901c8f9dd4",
   "metadata": {},
   "outputs": [
    {
     "data": {
      "text/html": [
       "<table class=\"dataframe\">\n",
       "<caption>A data.frame: 6 × 8</caption>\n",
       "<thead>\n",
       "\t<tr><th></th><th scope=col>ME</th><th scope=col>QTL.ID</th><th scope=col>Chr</th><th scope=col>Range</th><th scope=col>Start</th><th scope=col>End</th><th scope=col>Midpoint</th><th scope=col>Chr.Type</th></tr>\n",
       "\t<tr><th></th><th scope=col>&lt;chr&gt;</th><th scope=col>&lt;chr&gt;</th><th scope=col>&lt;fct&gt;</th><th scope=col>&lt;chr&gt;</th><th scope=col>&lt;dbl&gt;</th><th scope=col>&lt;dbl&gt;</th><th scope=col>&lt;dbl&gt;</th><th scope=col>&lt;chr&gt;</th></tr>\n",
       "</thead>\n",
       "<tbody>\n",
       "\t<tr><th scope=row>ME_101.1</th><td>ME_101</td><td>1:24243590-26454176  </td><td>1 </td><td>24243590-26454176 </td><td>24243590</td><td> 26454176</td><td> 25348883</td><td>royalblue1</td></tr>\n",
       "\t<tr><th scope=row>ME_101.2</th><td>ME_101</td><td>12:54985643-57091484 </td><td>12</td><td>54985643-57091484 </td><td>54985643</td><td> 57091484</td><td> 56038564</td><td>royalblue4</td></tr>\n",
       "\t<tr><th scope=row>ME_102</th><td>ME_102</td><td>17:17145294-19676395 </td><td>17</td><td>17145294-19676395 </td><td>17145294</td><td> 19676395</td><td> 18410844</td><td>royalblue1</td></tr>\n",
       "\t<tr><th scope=row>ME_103</th><td>ME_103</td><td>12:68275923-70364150 </td><td>12</td><td>68275923-70364150 </td><td>68275923</td><td> 70364150</td><td> 69320036</td><td>royalblue4</td></tr>\n",
       "\t<tr><th scope=row>ME_104</th><td>ME_104</td><td>15:99550866-101595853</td><td>15</td><td>99550866-101595853</td><td>99550866</td><td>101595853</td><td>100573360</td><td>royalblue1</td></tr>\n",
       "\t<tr><th scope=row>ME_105</th><td>ME_105</td><td>6:36483138-38519496  </td><td>6 </td><td>36483138-38519496 </td><td>36483138</td><td> 38519496</td><td> 37501317</td><td>royalblue4</td></tr>\n",
       "</tbody>\n",
       "</table>\n"
      ],
      "text/latex": [
       "A data.frame: 6 × 8\n",
       "\\begin{tabular}{r|llllllll}\n",
       "  & ME & QTL.ID & Chr & Range & Start & End & Midpoint & Chr.Type\\\\\n",
       "  & <chr> & <chr> & <fct> & <chr> & <dbl> & <dbl> & <dbl> & <chr>\\\\\n",
       "\\hline\n",
       "\tME\\_101.1 & ME\\_101 & 1:24243590-26454176   & 1  & 24243590-26454176  & 24243590 &  26454176 &  25348883 & royalblue1\\\\\n",
       "\tME\\_101.2 & ME\\_101 & 12:54985643-57091484  & 12 & 54985643-57091484  & 54985643 &  57091484 &  56038564 & royalblue4\\\\\n",
       "\tME\\_102 & ME\\_102 & 17:17145294-19676395  & 17 & 17145294-19676395  & 17145294 &  19676395 &  18410844 & royalblue1\\\\\n",
       "\tME\\_103 & ME\\_103 & 12:68275923-70364150  & 12 & 68275923-70364150  & 68275923 &  70364150 &  69320036 & royalblue4\\\\\n",
       "\tME\\_104 & ME\\_104 & 15:99550866-101595853 & 15 & 99550866-101595853 & 99550866 & 101595853 & 100573360 & royalblue1\\\\\n",
       "\tME\\_105 & ME\\_105 & 6:36483138-38519496   & 6  & 36483138-38519496  & 36483138 &  38519496 &  37501317 & royalblue4\\\\\n",
       "\\end{tabular}\n"
      ],
      "text/markdown": [
       "\n",
       "A data.frame: 6 × 8\n",
       "\n",
       "| <!--/--> | ME &lt;chr&gt; | QTL.ID &lt;chr&gt; | Chr &lt;fct&gt; | Range &lt;chr&gt; | Start &lt;dbl&gt; | End &lt;dbl&gt; | Midpoint &lt;dbl&gt; | Chr.Type &lt;chr&gt; |\n",
       "|---|---|---|---|---|---|---|---|---|\n",
       "| ME_101.1 | ME_101 | 1:24243590-26454176   | 1  | 24243590-26454176  | 24243590 |  26454176 |  25348883 | royalblue1 |\n",
       "| ME_101.2 | ME_101 | 12:54985643-57091484  | 12 | 54985643-57091484  | 54985643 |  57091484 |  56038564 | royalblue4 |\n",
       "| ME_102 | ME_102 | 17:17145294-19676395  | 17 | 17145294-19676395  | 17145294 |  19676395 |  18410844 | royalblue1 |\n",
       "| ME_103 | ME_103 | 12:68275923-70364150  | 12 | 68275923-70364150  | 68275923 |  70364150 |  69320036 | royalblue4 |\n",
       "| ME_104 | ME_104 | 15:99550866-101595853 | 15 | 99550866-101595853 | 99550866 | 101595853 | 100573360 | royalblue1 |\n",
       "| ME_105 | ME_105 | 6:36483138-38519496   | 6  | 36483138-38519496  | 36483138 |  38519496 |  37501317 | royalblue4 |\n",
       "\n"
      ],
      "text/plain": [
       "         ME     QTL.ID                Chr Range              Start    End      \n",
       "ME_101.1 ME_101 1:24243590-26454176   1   24243590-26454176  24243590  26454176\n",
       "ME_101.2 ME_101 12:54985643-57091484  12  54985643-57091484  54985643  57091484\n",
       "ME_102   ME_102 17:17145294-19676395  17  17145294-19676395  17145294  19676395\n",
       "ME_103   ME_103 12:68275923-70364150  12  68275923-70364150  68275923  70364150\n",
       "ME_104   ME_104 15:99550866-101595853 15  99550866-101595853 99550866 101595853\n",
       "ME_105   ME_105 6:36483138-38519496   6   36483138-38519496  36483138  38519496\n",
       "         Midpoint  Chr.Type  \n",
       "ME_101.1  25348883 royalblue1\n",
       "ME_101.2  56038564 royalblue4\n",
       "ME_102    18410844 royalblue1\n",
       "ME_103    69320036 royalblue4\n",
       "ME_104   100573360 royalblue1\n",
       "ME_105    37501317 royalblue4"
      ]
     },
     "metadata": {},
     "output_type": "display_data"
    }
   ],
   "source": [
    "head(qtl.df)"
   ]
  },
  {
   "cell_type": "code",
   "execution_count": 21,
   "id": "97415eaa-5df5-4d86-bcb0-ec4ed627af1f",
   "metadata": {},
   "outputs": [],
   "source": [
    "modules <- read.csv(\"~/gains_team282/nikhil/expression/gene_expression/modules.csv\") %>%\n",
    "    dplyr::mutate(Eigengene=paste0(\"ME_\", gsub(\".*_\", \"\", Module)))"
   ]
  },
  {
   "cell_type": "code",
   "execution_count": 22,
   "id": "899f1487-f7f8-42da-a726-ef4cfa90b390",
   "metadata": {},
   "outputs": [],
   "source": [
    "gene.info <- read.table(\"/nfs/team282/data/gains_team282/gene_info_864_20412_hla.txt\") %>%\n",
    "    dplyr::select(gene_id, seqnames, start, end) %>%\n",
    "    dplyr::filter(seqnames %in% as.character(1:22)) %>%\n",
    "    dplyr::mutate(seqnames=factor(seqnames, levels=as.character(1:22)))"
   ]
  },
  {
   "cell_type": "code",
   "execution_count": 23,
   "id": "f446046a-989d-4744-b54e-1b17cbe9e15d",
   "metadata": {},
   "outputs": [],
   "source": [
    "mod.genes <- merge(modules, gene.info, by.x=\"Gene\", by.y=\"gene_id\") %>%\n",
    "    merge(., qtl.df, by.x=\"Eigengene\", by.y=\"ME\")"
   ]
  },
  {
   "cell_type": "code",
   "execution_count": 24,
   "id": "f3a4ea1a-c903-4f4f-bcaa-313c0df2b24d",
   "metadata": {},
   "outputs": [
    {
     "data": {
      "text/html": [
       "<table class=\"dataframe\">\n",
       "<caption>A data.frame: 6 × 13</caption>\n",
       "<thead>\n",
       "\t<tr><th></th><th scope=col>Eigengene</th><th scope=col>Gene</th><th scope=col>Module</th><th scope=col>seqnames</th><th scope=col>start</th><th scope=col>end</th><th scope=col>QTL.ID</th><th scope=col>Chr</th><th scope=col>Range</th><th scope=col>Start</th><th scope=col>End</th><th scope=col>Midpoint</th><th scope=col>Chr.Type</th></tr>\n",
       "\t<tr><th></th><th scope=col>&lt;chr&gt;</th><th scope=col>&lt;chr&gt;</th><th scope=col>&lt;chr&gt;</th><th scope=col>&lt;fct&gt;</th><th scope=col>&lt;int&gt;</th><th scope=col>&lt;int&gt;</th><th scope=col>&lt;chr&gt;</th><th scope=col>&lt;fct&gt;</th><th scope=col>&lt;chr&gt;</th><th scope=col>&lt;dbl&gt;</th><th scope=col>&lt;dbl&gt;</th><th scope=col>&lt;dbl&gt;</th><th scope=col>&lt;chr&gt;</th></tr>\n",
       "</thead>\n",
       "<tbody>\n",
       "\t<tr><th scope=row>1</th><td>ME_101</td><td>ENSG00000139531</td><td>Module_101</td><td>12</td><td>55997180</td><td>56006641</td><td>1:24243590-26454176 </td><td>1 </td><td>24243590-26454176</td><td>24243590</td><td>26454176</td><td>25348883</td><td>royalblue1</td></tr>\n",
       "\t<tr><th scope=row>2</th><td>ME_101</td><td>ENSG00000139531</td><td>Module_101</td><td>12</td><td>55997180</td><td>56006641</td><td>12:54985643-57091484</td><td>12</td><td>54985643-57091484</td><td>54985643</td><td>57091484</td><td>56038564</td><td>royalblue4</td></tr>\n",
       "\t<tr><th scope=row>3</th><td>ME_101</td><td>ENSG00000261349</td><td>Module_101</td><td>1 </td><td>25266102</td><td>25267136</td><td>1:24243590-26454176 </td><td>1 </td><td>24243590-26454176</td><td>24243590</td><td>26454176</td><td>25348883</td><td>royalblue1</td></tr>\n",
       "\t<tr><th scope=row>4</th><td>ME_101</td><td>ENSG00000261349</td><td>Module_101</td><td>1 </td><td>25266102</td><td>25267136</td><td>12:54985643-57091484</td><td>12</td><td>54985643-57091484</td><td>54985643</td><td>57091484</td><td>56038564</td><td>royalblue4</td></tr>\n",
       "\t<tr><th scope=row>5</th><td>ME_101</td><td>ENSG00000183726</td><td>Module_101</td><td>1 </td><td>25338317</td><td>25362361</td><td>1:24243590-26454176 </td><td>1 </td><td>24243590-26454176</td><td>24243590</td><td>26454176</td><td>25348883</td><td>royalblue1</td></tr>\n",
       "\t<tr><th scope=row>6</th><td>ME_101</td><td>ENSG00000183726</td><td>Module_101</td><td>1 </td><td>25338317</td><td>25362361</td><td>12:54985643-57091484</td><td>12</td><td>54985643-57091484</td><td>54985643</td><td>57091484</td><td>56038564</td><td>royalblue4</td></tr>\n",
       "</tbody>\n",
       "</table>\n"
      ],
      "text/latex": [
       "A data.frame: 6 × 13\n",
       "\\begin{tabular}{r|lllllllllllll}\n",
       "  & Eigengene & Gene & Module & seqnames & start & end & QTL.ID & Chr & Range & Start & End & Midpoint & Chr.Type\\\\\n",
       "  & <chr> & <chr> & <chr> & <fct> & <int> & <int> & <chr> & <fct> & <chr> & <dbl> & <dbl> & <dbl> & <chr>\\\\\n",
       "\\hline\n",
       "\t1 & ME\\_101 & ENSG00000139531 & Module\\_101 & 12 & 55997180 & 56006641 & 1:24243590-26454176  & 1  & 24243590-26454176 & 24243590 & 26454176 & 25348883 & royalblue1\\\\\n",
       "\t2 & ME\\_101 & ENSG00000139531 & Module\\_101 & 12 & 55997180 & 56006641 & 12:54985643-57091484 & 12 & 54985643-57091484 & 54985643 & 57091484 & 56038564 & royalblue4\\\\\n",
       "\t3 & ME\\_101 & ENSG00000261349 & Module\\_101 & 1  & 25266102 & 25267136 & 1:24243590-26454176  & 1  & 24243590-26454176 & 24243590 & 26454176 & 25348883 & royalblue1\\\\\n",
       "\t4 & ME\\_101 & ENSG00000261349 & Module\\_101 & 1  & 25266102 & 25267136 & 12:54985643-57091484 & 12 & 54985643-57091484 & 54985643 & 57091484 & 56038564 & royalblue4\\\\\n",
       "\t5 & ME\\_101 & ENSG00000183726 & Module\\_101 & 1  & 25338317 & 25362361 & 1:24243590-26454176  & 1  & 24243590-26454176 & 24243590 & 26454176 & 25348883 & royalblue1\\\\\n",
       "\t6 & ME\\_101 & ENSG00000183726 & Module\\_101 & 1  & 25338317 & 25362361 & 12:54985643-57091484 & 12 & 54985643-57091484 & 54985643 & 57091484 & 56038564 & royalblue4\\\\\n",
       "\\end{tabular}\n"
      ],
      "text/markdown": [
       "\n",
       "A data.frame: 6 × 13\n",
       "\n",
       "| <!--/--> | Eigengene &lt;chr&gt; | Gene &lt;chr&gt; | Module &lt;chr&gt; | seqnames &lt;fct&gt; | start &lt;int&gt; | end &lt;int&gt; | QTL.ID &lt;chr&gt; | Chr &lt;fct&gt; | Range &lt;chr&gt; | Start &lt;dbl&gt; | End &lt;dbl&gt; | Midpoint &lt;dbl&gt; | Chr.Type &lt;chr&gt; |\n",
       "|---|---|---|---|---|---|---|---|---|---|---|---|---|---|\n",
       "| 1 | ME_101 | ENSG00000139531 | Module_101 | 12 | 55997180 | 56006641 | 1:24243590-26454176  | 1  | 24243590-26454176 | 24243590 | 26454176 | 25348883 | royalblue1 |\n",
       "| 2 | ME_101 | ENSG00000139531 | Module_101 | 12 | 55997180 | 56006641 | 12:54985643-57091484 | 12 | 54985643-57091484 | 54985643 | 57091484 | 56038564 | royalblue4 |\n",
       "| 3 | ME_101 | ENSG00000261349 | Module_101 | 1  | 25266102 | 25267136 | 1:24243590-26454176  | 1  | 24243590-26454176 | 24243590 | 26454176 | 25348883 | royalblue1 |\n",
       "| 4 | ME_101 | ENSG00000261349 | Module_101 | 1  | 25266102 | 25267136 | 12:54985643-57091484 | 12 | 54985643-57091484 | 54985643 | 57091484 | 56038564 | royalblue4 |\n",
       "| 5 | ME_101 | ENSG00000183726 | Module_101 | 1  | 25338317 | 25362361 | 1:24243590-26454176  | 1  | 24243590-26454176 | 24243590 | 26454176 | 25348883 | royalblue1 |\n",
       "| 6 | ME_101 | ENSG00000183726 | Module_101 | 1  | 25338317 | 25362361 | 12:54985643-57091484 | 12 | 54985643-57091484 | 54985643 | 57091484 | 56038564 | royalblue4 |\n",
       "\n"
      ],
      "text/plain": [
       "  Eigengene Gene            Module     seqnames start    end     \n",
       "1 ME_101    ENSG00000139531 Module_101 12       55997180 56006641\n",
       "2 ME_101    ENSG00000139531 Module_101 12       55997180 56006641\n",
       "3 ME_101    ENSG00000261349 Module_101 1        25266102 25267136\n",
       "4 ME_101    ENSG00000261349 Module_101 1        25266102 25267136\n",
       "5 ME_101    ENSG00000183726 Module_101 1        25338317 25362361\n",
       "6 ME_101    ENSG00000183726 Module_101 1        25338317 25362361\n",
       "  QTL.ID               Chr Range             Start    End      Midpoint\n",
       "1 1:24243590-26454176  1   24243590-26454176 24243590 26454176 25348883\n",
       "2 12:54985643-57091484 12  54985643-57091484 54985643 57091484 56038564\n",
       "3 1:24243590-26454176  1   24243590-26454176 24243590 26454176 25348883\n",
       "4 12:54985643-57091484 12  54985643-57091484 54985643 57091484 56038564\n",
       "5 1:24243590-26454176  1   24243590-26454176 24243590 26454176 25348883\n",
       "6 12:54985643-57091484 12  54985643-57091484 54985643 57091484 56038564\n",
       "  Chr.Type  \n",
       "1 royalblue1\n",
       "2 royalblue4\n",
       "3 royalblue1\n",
       "4 royalblue4\n",
       "5 royalblue1\n",
       "6 royalblue4"
      ]
     },
     "metadata": {},
     "output_type": "display_data"
    }
   ],
   "source": [
    "head(mod.genes)"
   ]
  },
  {
   "cell_type": "code",
   "execution_count": 25,
   "id": "254e3bb2-a60e-4e79-a19a-7711abfa7581",
   "metadata": {},
   "outputs": [],
   "source": [
    "snp.df <- me.assocs %>%\n",
    "    dplyr::filter(p < 0.05) %>%\n",
    "    merge(., geno, by=\"snp\") %>%\n",
    "    dplyr::filter(chr %in% 1:22) %>%\n",
    "    dplyr::mutate(chr=factor(chr, levels=1:22)) %>%\n",
    "    dplyr::mutate(chr.type=ifelse(as.numeric(chr) %% 2 == 0, \"royalblue4\", \"royalblue1\")) %>%\n",
    "    dplyr::mutate(Log.10.p = -log10(p))"
   ]
  },
  {
   "cell_type": "code",
   "execution_count": 26,
   "id": "b9155df9-1cba-435c-8282-864ed6bf86d6",
   "metadata": {},
   "outputs": [
    {
     "data": {
      "text/html": [
       "<table class=\"dataframe\">\n",
       "<caption>A data.frame: 6 × 13</caption>\n",
       "<thead>\n",
       "\t<tr><th></th><th scope=col>snp</th><th scope=col>beta</th><th scope=col>se</th><th scope=col>t</th><th scope=col>p</th><th scope=col>me</th><th scope=col>chr</th><th scope=col>cM</th><th scope=col>pos</th><th scope=col>minor</th><th scope=col>major</th><th scope=col>chr.type</th><th scope=col>Log.10.p</th></tr>\n",
       "\t<tr><th></th><th scope=col>&lt;chr&gt;</th><th scope=col>&lt;dbl&gt;</th><th scope=col>&lt;dbl&gt;</th><th scope=col>&lt;dbl&gt;</th><th scope=col>&lt;dbl&gt;</th><th scope=col>&lt;chr&gt;</th><th scope=col>&lt;fct&gt;</th><th scope=col>&lt;int&gt;</th><th scope=col>&lt;int&gt;</th><th scope=col>&lt;chr&gt;</th><th scope=col>&lt;chr&gt;</th><th scope=col>&lt;chr&gt;</th><th scope=col>&lt;dbl&gt;</th></tr>\n",
       "</thead>\n",
       "<tbody>\n",
       "\t<tr><th scope=row>1</th><td>rs10000284</td><td> 0.0012295213</td><td>0.0005861575</td><td> 2.097595</td><td>0.036884695</td><td>ME_32</td><td>4</td><td>0</td><td>68803465</td><td>C</td><td>T</td><td>royalblue4</td><td>1.433154</td></tr>\n",
       "\t<tr><th scope=row>2</th><td>rs10000284</td><td>-0.0006032907</td><td>0.0002283536</td><td>-2.641915</td><td>0.008495807</td><td>ME_7 </td><td>4</td><td>0</td><td>68803465</td><td>C</td><td>T</td><td>royalblue4</td><td>2.070795</td></tr>\n",
       "\t<tr><th scope=row>3</th><td>rs10000284</td><td>-0.0010884190</td><td>0.0003973057</td><td>-2.739500</td><td>0.006364121</td><td>ME_26</td><td>4</td><td>0</td><td>68803465</td><td>C</td><td>T</td><td>royalblue4</td><td>2.196262</td></tr>\n",
       "\t<tr><th scope=row>4</th><td>rs10000284</td><td>-0.0023988480</td><td>0.0009672822</td><td>-2.479988</td><td>0.013496674</td><td>ME_73</td><td>4</td><td>0</td><td>68803465</td><td>C</td><td>T</td><td>royalblue4</td><td>1.869773</td></tr>\n",
       "\t<tr><th scope=row>5</th><td>rs10000284</td><td>-0.0007444514</td><td>0.0003442279</td><td>-2.162670</td><td>0.030806323</td><td>ME_24</td><td>4</td><td>0</td><td>68803465</td><td>C</td><td>T</td><td>royalblue4</td><td>1.511360</td></tr>\n",
       "\t<tr><th scope=row>6</th><td>rs10000284</td><td>-0.0015141978</td><td>0.0004654684</td><td>-3.253062</td><td>0.001223449</td><td>ME_22</td><td>4</td><td>0</td><td>68803465</td><td>C</td><td>T</td><td>royalblue4</td><td>2.912414</td></tr>\n",
       "</tbody>\n",
       "</table>\n"
      ],
      "text/latex": [
       "A data.frame: 6 × 13\n",
       "\\begin{tabular}{r|lllllllllllll}\n",
       "  & snp & beta & se & t & p & me & chr & cM & pos & minor & major & chr.type & Log.10.p\\\\\n",
       "  & <chr> & <dbl> & <dbl> & <dbl> & <dbl> & <chr> & <fct> & <int> & <int> & <chr> & <chr> & <chr> & <dbl>\\\\\n",
       "\\hline\n",
       "\t1 & rs10000284 &  0.0012295213 & 0.0005861575 &  2.097595 & 0.036884695 & ME\\_32 & 4 & 0 & 68803465 & C & T & royalblue4 & 1.433154\\\\\n",
       "\t2 & rs10000284 & -0.0006032907 & 0.0002283536 & -2.641915 & 0.008495807 & ME\\_7  & 4 & 0 & 68803465 & C & T & royalblue4 & 2.070795\\\\\n",
       "\t3 & rs10000284 & -0.0010884190 & 0.0003973057 & -2.739500 & 0.006364121 & ME\\_26 & 4 & 0 & 68803465 & C & T & royalblue4 & 2.196262\\\\\n",
       "\t4 & rs10000284 & -0.0023988480 & 0.0009672822 & -2.479988 & 0.013496674 & ME\\_73 & 4 & 0 & 68803465 & C & T & royalblue4 & 1.869773\\\\\n",
       "\t5 & rs10000284 & -0.0007444514 & 0.0003442279 & -2.162670 & 0.030806323 & ME\\_24 & 4 & 0 & 68803465 & C & T & royalblue4 & 1.511360\\\\\n",
       "\t6 & rs10000284 & -0.0015141978 & 0.0004654684 & -3.253062 & 0.001223449 & ME\\_22 & 4 & 0 & 68803465 & C & T & royalblue4 & 2.912414\\\\\n",
       "\\end{tabular}\n"
      ],
      "text/markdown": [
       "\n",
       "A data.frame: 6 × 13\n",
       "\n",
       "| <!--/--> | snp &lt;chr&gt; | beta &lt;dbl&gt; | se &lt;dbl&gt; | t &lt;dbl&gt; | p &lt;dbl&gt; | me &lt;chr&gt; | chr &lt;fct&gt; | cM &lt;int&gt; | pos &lt;int&gt; | minor &lt;chr&gt; | major &lt;chr&gt; | chr.type &lt;chr&gt; | Log.10.p &lt;dbl&gt; |\n",
       "|---|---|---|---|---|---|---|---|---|---|---|---|---|---|\n",
       "| 1 | rs10000284 |  0.0012295213 | 0.0005861575 |  2.097595 | 0.036884695 | ME_32 | 4 | 0 | 68803465 | C | T | royalblue4 | 1.433154 |\n",
       "| 2 | rs10000284 | -0.0006032907 | 0.0002283536 | -2.641915 | 0.008495807 | ME_7  | 4 | 0 | 68803465 | C | T | royalblue4 | 2.070795 |\n",
       "| 3 | rs10000284 | -0.0010884190 | 0.0003973057 | -2.739500 | 0.006364121 | ME_26 | 4 | 0 | 68803465 | C | T | royalblue4 | 2.196262 |\n",
       "| 4 | rs10000284 | -0.0023988480 | 0.0009672822 | -2.479988 | 0.013496674 | ME_73 | 4 | 0 | 68803465 | C | T | royalblue4 | 1.869773 |\n",
       "| 5 | rs10000284 | -0.0007444514 | 0.0003442279 | -2.162670 | 0.030806323 | ME_24 | 4 | 0 | 68803465 | C | T | royalblue4 | 1.511360 |\n",
       "| 6 | rs10000284 | -0.0015141978 | 0.0004654684 | -3.253062 | 0.001223449 | ME_22 | 4 | 0 | 68803465 | C | T | royalblue4 | 2.912414 |\n",
       "\n"
      ],
      "text/plain": [
       "  snp        beta          se           t         p           me    chr cM\n",
       "1 rs10000284  0.0012295213 0.0005861575  2.097595 0.036884695 ME_32 4   0 \n",
       "2 rs10000284 -0.0006032907 0.0002283536 -2.641915 0.008495807 ME_7  4   0 \n",
       "3 rs10000284 -0.0010884190 0.0003973057 -2.739500 0.006364121 ME_26 4   0 \n",
       "4 rs10000284 -0.0023988480 0.0009672822 -2.479988 0.013496674 ME_73 4   0 \n",
       "5 rs10000284 -0.0007444514 0.0003442279 -2.162670 0.030806323 ME_24 4   0 \n",
       "6 rs10000284 -0.0015141978 0.0004654684 -3.253062 0.001223449 ME_22 4   0 \n",
       "  pos      minor major chr.type   Log.10.p\n",
       "1 68803465 C     T     royalblue4 1.433154\n",
       "2 68803465 C     T     royalblue4 2.070795\n",
       "3 68803465 C     T     royalblue4 2.196262\n",
       "4 68803465 C     T     royalblue4 1.869773\n",
       "5 68803465 C     T     royalblue4 1.511360\n",
       "6 68803465 C     T     royalblue4 2.912414"
      ]
     },
     "metadata": {},
     "output_type": "display_data"
    }
   ],
   "source": [
    "head(snp.df)"
   ]
  },
  {
   "cell_type": "code",
   "execution_count": 30,
   "id": "b288397b-aa65-476d-ab55-6aa36c633631",
   "metadata": {},
   "outputs": [
    {
     "data": {
      "text/html": [
       "<strong>png:</strong> 2"
      ],
      "text/latex": [
       "\\textbf{png:} 2"
      ],
      "text/markdown": [
       "**png:** 2"
      ],
      "text/plain": [
       "png \n",
       "  2 "
      ]
     },
     "metadata": {},
     "output_type": "display_data"
    }
   ],
   "source": [
    "options(repr.plot.width=20, repr.plot.height=20)\n",
    "\n",
    "png(\"04_Expression/results/module_qtl_circos.png\", width=20, height=20, units=\"in\", res=150)\n",
    "circos.initialize(chr.lengths$Chr, xlim=chr.lengths[, c(\"Start\", \"End\")])\n",
    "circos.par(points.overflow.warning=F)\n",
    "\n",
    "circos.track(ylim=c(0, max(snp.df$Log.10.p)), track.height=0.2, bg.border=F, panel.fun=function(x, y) {\n",
    "    \n",
    "    circos.text(CELL_META$xcenter, CELL_META$cell.ylim[1] - mm_y(0.25), CELL_META$sector.index)\n",
    "    \n",
    "    snp.sector = snp.df %>%\n",
    "        dplyr::filter(chr == CELL_META$sector.index)\n",
    "    circos.points(\n",
    "        snp.sector$pos, snp.sector$Log.10.p, sector.index=CELL_META$sector.index,\n",
    "        col=rgb(col2rgb(snp.sector$chr.type)[1], col2rgb(snp.sector$chr.type)[2], col2rgb(snp.sector$chr.type)[3], max=255, alpha=125),\n",
    "        cex=0.5, pch=20\n",
    "    )\n",
    "})\n",
    "\n",
    "circos.track(ylim=c(0, 1), track.height=0.05, bg.border=F, panel.fun=function(x, y) {\n",
    "    \n",
    "    qtl.sector = qtl.df %>%\n",
    "        dplyr::filter(Chr == CELL_META$sector.index)\n",
    "    if (nrow(qtl.sector) > 0) {\n",
    "        circos.segments(\n",
    "            qtl.sector$Midpoint, 0, qtl.sector$Midpoint, 1, sector.index=CELL_META$sector.index,\n",
    "            col=qtl.sector$Chr.Type, lwd=2\n",
    "        )\n",
    "    }\n",
    "})\n",
    "\n",
    "rb4 <- rgb(col2rgb(\"royalblue4\")[1], col2rgb(\"royalblue4\")[2], col2rgb(\"royalblue4\")[3], max=255, alpha=125)\n",
    "rb1 <- rgb(col2rgb(\"royalblue1\")[1], col2rgb(\"royalblue1\")[2], col2rgb(\"royalblue1\")[3], max=255, alpha=125)\n",
    "for (i in 1:nrow(mod.genes)) {\n",
    "    if (mod.genes$Chr[i] != mod.genes$seqnames[i]) {\n",
    "        circos.link(\n",
    "            mod.genes$Chr[i], mod.genes$Midpoint[i],\n",
    "            mod.genes$seqnames[i], mod.genes[i, c(\"start\", \"end\")],\n",
    "            col=ifelse(as.numeric(mod.genes$Chr[i]) %% 2 == 0, rb4, rb1)\n",
    "        )\n",
    "    }\n",
    "}\n",
    "dev.off()"
   ]
  },
  {
   "cell_type": "markdown",
   "id": "6f25e641-9337-43f6-8bfc-2cd94fcb5ba0",
   "metadata": {
    "tags": []
   },
   "source": [
    "### P-Value Q-Q Plots"
   ]
  },
  {
   "cell_type": "markdown",
   "id": "d3622e6b-5f2e-4c4a-8a1b-664fb1a39f97",
   "metadata": {},
   "source": [
    "Under the null hypothesis, we expect p-values for multiple tests to have a uniform distribution. If there is inflation in the data (that is, variants are associated with the quantitative variable due to population stratification), this p-value distribution will be skewed towards significance. This is quantified with the genomic inflation factor ($\\lambda$). We can also plot the Q-Q plot for the p-values to check for deviation from the expected distribution. The p-values for true significant hits (close to 0) should deviate from the distribution, but the rest (indicating true negatives) should follow the distribution faithfully."
   ]
  },
  {
   "cell_type": "code",
   "execution_count": 31,
   "id": "00c9d8f4-235c-4813-b7fc-e4ac263e229c",
   "metadata": {},
   "outputs": [],
   "source": [
    "me.assocs <- lapply(c(\"ME_69_1.tsv\", \"ME_79_1.tsv\"), function(file) {\n",
    "    file.full = paste0(\"~/gains_team282/nikhil/expression/eigengene_sva/wgcna_initial_pass/\", file)\n",
    "    me.assoc = fread(file.full, sep=\"\\t\", fill=TRUE) %>%\n",
    "        as.data.frame() %>%\n",
    "        dplyr::mutate(me = gsub(\"\\\\.tsv\", \"\", file)) %>%\n",
    "        dplyr::select(snp=1, beta=2, se=3, t=4, p=5, me)\n",
    "})"
   ]
  },
  {
   "cell_type": "code",
   "execution_count": 32,
   "id": "18ec7e26-f9b9-435d-8589-8320f1453df5",
   "metadata": {},
   "outputs": [
    {
     "data": {
      "image/png": "[encoded data removed]",
      "text/plain": [
       "plot without title"
      ]
     },
     "metadata": {
      "image/png": {
       "height": 360,
       "width": 720
      }
     },
     "output_type": "display_data"
    }
   ],
   "source": [
    "options(repr.plot.width=12, repr.plot.height=6)\n",
    "\n",
    "exp.p.assocs <- lapply(me.assocs, function(me.assoc) {\n",
    "    me.assoc %>%\n",
    "        as.data.frame() %>%\n",
    "        dplyr::mutate(expected.p=(rank(p, ties.method=\"first\") + 0.5) / (length(p) + 1)) %>%\n",
    "        dplyr::mutate(Log.10.P=-log10(p)) %>%\n",
    "        dplyr::mutate(Expected.Log.10.P=-log10(expected.p))\n",
    "})\n",
    "\n",
    "plots <- lapply(exp.p.assocs, function(exp.p.assoc) {\n",
    "    dplyr::bind_rows(\n",
    "        exp.p.assoc %>% dplyr::mutate(Expected.Log.10.P < 5) %>% dplyr::sample_frac(0.001),\n",
    "        exp.p.assoc %>% dplyr::mutate(Expected.Log.10.P >= 5)\n",
    "    ) %>%\n",
    "        ggplot() +\n",
    "        geom_point(aes(x=Expected.Log.10.P, y=Log.10.P)) +\n",
    "        geom_abline(slope=1, intercept=0, color=\"firebrick1\") +\n",
    "        xlab(expression(\"Expected -log\"[10]~\"(p)\")) +\n",
    "        ylab(expression(\"Actual -log\"[10]~\"(p)\")) +\n",
    "        ggplot_theme\n",
    "})\n",
    "\n",
    "plots[[1]] + plots[[2]]"
   ]
  },
  {
   "cell_type": "markdown",
   "id": "45e65981-1f1d-4f06-9742-3c4ea0a05b49",
   "metadata": {
    "tags": []
   },
   "source": [
    "## Module QTL from Multiple PCs\n",
    "\n",
    "I have tested 5 PCs from each module for association. Here, I take the minimum p-value detected across all 5 PCs to combine evidence across the PCs."
   ]
  },
  {
   "cell_type": "code",
   "execution_count": 33,
   "id": "88d62a22-e5b9-468c-aa0a-c79cbde60642",
   "metadata": {},
   "outputs": [],
   "source": [
    "files <- list.files(\"~/gains_team282/nikhil/expression/eigengene_sva/wgcna_initial_pass/\", pattern=\"ME_.*_.*\\\\.tsv\")\n",
    "files.by.me <- lapply(split(files, gsub(\"_[1-5]\\\\.tsv\", \"\", files)), sort)"
   ]
  },
  {
   "cell_type": "code",
   "execution_count": 34,
   "id": "618c4632-84bc-4471-b997-600d6be76f3d",
   "metadata": {},
   "outputs": [],
   "source": [
    "me.assocs <- do.call(rbind, lapply(names(files.by.me), function(me) {\n",
    "    all.pc.assoc = do.call(cbind, lapply(files.by.me[[me]], function(file) {\n",
    "        file.full = paste0(\"~/gains_team282/nikhil/expression/eigengene_sva/wgcna_initial_pass/\", file)\n",
    "        pc.assoc = fread(file.full, sep=\"\\t\", fill=TRUE) %>%\n",
    "            as.data.frame() %>%\n",
    "            dplyr::select(snp=1, p=5)\n",
    "        rownames(pc.assoc) <- pc.assoc$snp\n",
    "        pc.assoc$snp <- NULL\n",
    "        colnames(pc.assoc) <- gsub(\"\\\\.tsv\", \"\", file)\n",
    "        return(pc.assoc)\n",
    "    }))\n",
    "    me.assoc = data.frame(t(apply(all.pc.assoc, 1, function(x) {\n",
    "        c(min(x), which(x == min(x))[1])\n",
    "    }))) %>%\n",
    "        dplyr::mutate(me = me) %>%\n",
    "        dplyr::mutate(snp = rownames(.)) %>%\n",
    "        dplyr::select(snp, p=1, pc=2, me)\n",
    "    rownames(me.assoc) <- NULL\n",
    "    return(me.assoc)\n",
    "}))"
   ]
  },
  {
   "cell_type": "code",
   "execution_count": 35,
   "id": "ace83f11-ad8d-40a1-b150-e1ece028976a",
   "metadata": {},
   "outputs": [],
   "source": [
    "lambdas <- me.assocs %>%\n",
    "    dplyr::group_by(me) %>%\n",
    "    dplyr::summarize(lambda = median(qchisq(1 - p, 1)) / qchisq(0.5, 1))"
   ]
  },
  {
   "cell_type": "code",
   "execution_count": 36,
   "id": "38718045-1478-45e4-a5d3-51fcb77c3c98",
   "metadata": {},
   "outputs": [],
   "source": [
    "num.modules <- length(unique(interaction(me.assocs$me, me.assocs$pc)))\n",
    "num.snps <- length(unique(me.assocs$snp))"
   ]
  },
  {
   "cell_type": "code",
   "execution_count": 37,
   "id": "33a70735-a421-4a65-b2eb-1b3865ce876f",
   "metadata": {},
   "outputs": [
    {
     "data": {
      "text/html": [
       "<table class=\"dataframe\">\n",
       "<caption>A grouped_df: 6 × 9</caption>\n",
       "<thead>\n",
       "\t<tr><th scope=col>snp</th><th scope=col>p</th><th scope=col>pc</th><th scope=col>me</th><th scope=col>chr</th><th scope=col>cM</th><th scope=col>pos</th><th scope=col>minor</th><th scope=col>major</th></tr>\n",
       "\t<tr><th scope=col>&lt;chr&gt;</th><th scope=col>&lt;dbl&gt;</th><th scope=col>&lt;dbl&gt;</th><th scope=col>&lt;chr&gt;</th><th scope=col>&lt;chr&gt;</th><th scope=col>&lt;int&gt;</th><th scope=col>&lt;int&gt;</th><th scope=col>&lt;chr&gt;</th><th scope=col>&lt;chr&gt;</th></tr>\n",
       "</thead>\n",
       "<tbody>\n",
       "\t<tr><td>rs57213017</td><td>5.046513e-291</td><td>1</td><td>ME_69</td><td>17</td><td>0</td><td>45589540</td><td>C</td><td>G</td></tr>\n",
       "\t<tr><td>rs106968  </td><td>2.370055e-281</td><td>4</td><td>ME_90</td><td>1 </td><td>0</td><td> 7914484</td><td>G</td><td>C</td></tr>\n",
       "\t<tr><td>rs9349181 </td><td>1.318658e-250</td><td>1</td><td>ME_79</td><td>6 </td><td>0</td><td>41217867</td><td>C</td><td>A</td></tr>\n",
       "\t<tr><td>rs74011998</td><td>6.083896e-207</td><td>1</td><td>ME_97</td><td>15</td><td>0</td><td>48304516</td><td>C</td><td>T</td></tr>\n",
       "\t<tr><td>rs9353559 </td><td>1.348498e-198</td><td>3</td><td>ME_77</td><td>6 </td><td>0</td><td>88449573</td><td>C</td><td>G</td></tr>\n",
       "\t<tr><td>rs999185  </td><td>5.189250e-194</td><td>1</td><td>ME_94</td><td>12</td><td>0</td><td> 9960659</td><td>T</td><td>C</td></tr>\n",
       "</tbody>\n",
       "</table>\n"
      ],
      "text/latex": [
       "A grouped\\_df: 6 × 9\n",
       "\\begin{tabular}{lllllllll}\n",
       " snp & p & pc & me & chr & cM & pos & minor & major\\\\\n",
       " <chr> & <dbl> & <dbl> & <chr> & <chr> & <int> & <int> & <chr> & <chr>\\\\\n",
       "\\hline\n",
       "\t rs57213017 & 5.046513e-291 & 1 & ME\\_69 & 17 & 0 & 45589540 & C & G\\\\\n",
       "\t rs106968   & 2.370055e-281 & 4 & ME\\_90 & 1  & 0 &  7914484 & G & C\\\\\n",
       "\t rs9349181  & 1.318658e-250 & 1 & ME\\_79 & 6  & 0 & 41217867 & C & A\\\\\n",
       "\t rs74011998 & 6.083896e-207 & 1 & ME\\_97 & 15 & 0 & 48304516 & C & T\\\\\n",
       "\t rs9353559  & 1.348498e-198 & 3 & ME\\_77 & 6  & 0 & 88449573 & C & G\\\\\n",
       "\t rs999185   & 5.189250e-194 & 1 & ME\\_94 & 12 & 0 &  9960659 & T & C\\\\\n",
       "\\end{tabular}\n"
      ],
      "text/markdown": [
       "\n",
       "A grouped_df: 6 × 9\n",
       "\n",
       "| snp &lt;chr&gt; | p &lt;dbl&gt; | pc &lt;dbl&gt; | me &lt;chr&gt; | chr &lt;chr&gt; | cM &lt;int&gt; | pos &lt;int&gt; | minor &lt;chr&gt; | major &lt;chr&gt; |\n",
       "|---|---|---|---|---|---|---|---|---|\n",
       "| rs57213017 | 5.046513e-291 | 1 | ME_69 | 17 | 0 | 45589540 | C | G |\n",
       "| rs106968   | 2.370055e-281 | 4 | ME_90 | 1  | 0 |  7914484 | G | C |\n",
       "| rs9349181  | 1.318658e-250 | 1 | ME_79 | 6  | 0 | 41217867 | C | A |\n",
       "| rs74011998 | 6.083896e-207 | 1 | ME_97 | 15 | 0 | 48304516 | C | T |\n",
       "| rs9353559  | 1.348498e-198 | 3 | ME_77 | 6  | 0 | 88449573 | C | G |\n",
       "| rs999185   | 5.189250e-194 | 1 | ME_94 | 12 | 0 |  9960659 | T | C |\n",
       "\n"
      ],
      "text/plain": [
       "  snp        p             pc me    chr cM pos      minor major\n",
       "1 rs57213017 5.046513e-291 1  ME_69 17  0  45589540 C     G    \n",
       "2 rs106968   2.370055e-281 4  ME_90 1   0   7914484 G     C    \n",
       "3 rs9349181  1.318658e-250 1  ME_79 6   0  41217867 C     A    \n",
       "4 rs74011998 6.083896e-207 1  ME_97 15  0  48304516 C     T    \n",
       "5 rs9353559  1.348498e-198 3  ME_77 6   0  88449573 C     G    \n",
       "6 rs999185   5.189250e-194 1  ME_94 12  0   9960659 T     C    "
      ]
     },
     "metadata": {},
     "output_type": "display_data"
    }
   ],
   "source": [
    "mqtl.lead <- me.assocs %>%\n",
    "    dplyr::filter(p < 0.05 / (num.modules * num.snps)) %>%\n",
    "    merge(., geno, by=\"snp\") %>%\n",
    "    dplyr::group_by(me, chr) %>%\n",
    "    dplyr::slice_min(p, n=1) %>%\n",
    "    dplyr::arrange(p)\n",
    "\n",
    "head(mqtl.lead)"
   ]
  },
  {
   "cell_type": "code",
   "execution_count": 38,
   "id": "74e4a722-e07a-4e5e-be84-3452d88f9fb6",
   "metadata": {},
   "outputs": [],
   "source": [
    "write.csv(mqtl.lead, \"~/gains_team282/nikhil/expression/eigengene_sva/lead_mqtl_all_pcs.csv\", row.names=F, quote=F)"
   ]
  },
  {
   "cell_type": "code",
   "execution_count": 39,
   "id": "cb180658-75a7-4f88-a9e8-079fae1f94c3",
   "metadata": {},
   "outputs": [
    {
     "data": {
      "text/html": [
       "<table class=\"dataframe\">\n",
       "<caption>A grouped_df: 6 × 9</caption>\n",
       "<thead>\n",
       "\t<tr><th scope=col>snp</th><th scope=col>p</th><th scope=col>pc</th><th scope=col>me</th><th scope=col>chr</th><th scope=col>cM</th><th scope=col>pos</th><th scope=col>minor</th><th scope=col>major</th></tr>\n",
       "\t<tr><th scope=col>&lt;chr&gt;</th><th scope=col>&lt;dbl&gt;</th><th scope=col>&lt;dbl&gt;</th><th scope=col>&lt;chr&gt;</th><th scope=col>&lt;chr&gt;</th><th scope=col>&lt;int&gt;</th><th scope=col>&lt;int&gt;</th><th scope=col>&lt;chr&gt;</th><th scope=col>&lt;chr&gt;</th></tr>\n",
       "</thead>\n",
       "<tbody>\n",
       "\t<tr><td>rs35504893</td><td>3.582292e-10</td><td>4</td><td>ME_100</td><td>2</td><td>0</td><td>178556567</td><td>T</td><td>C</td></tr>\n",
       "\t<tr><td>rs16866400</td><td>3.197894e-10</td><td>4</td><td>ME_100</td><td>2</td><td>0</td><td>178584184</td><td>A</td><td>G</td></tr>\n",
       "\t<tr><td>rs1043879 </td><td>1.048905e-15</td><td>1</td><td>ME_101</td><td>1</td><td>0</td><td> 25243590</td><td>C</td><td>T</td></tr>\n",
       "\t<tr><td>rs9645452 </td><td>5.722824e-44</td><td>2</td><td>ME_101</td><td>1</td><td>0</td><td> 25341835</td><td>T</td><td>C</td></tr>\n",
       "\t<tr><td>rs3091242 </td><td>5.166988e-42</td><td>2</td><td>ME_101</td><td>1</td><td>0</td><td> 25348294</td><td>C</td><td>T</td></tr>\n",
       "\t<tr><td>rs3093614 </td><td>4.547823e-43</td><td>2</td><td>ME_101</td><td>1</td><td>0</td><td> 25351353</td><td>A</td><td>T</td></tr>\n",
       "</tbody>\n",
       "</table>\n"
      ],
      "text/latex": [
       "A grouped\\_df: 6 × 9\n",
       "\\begin{tabular}{lllllllll}\n",
       " snp & p & pc & me & chr & cM & pos & minor & major\\\\\n",
       " <chr> & <dbl> & <dbl> & <chr> & <chr> & <int> & <int> & <chr> & <chr>\\\\\n",
       "\\hline\n",
       "\t rs35504893 & 3.582292e-10 & 4 & ME\\_100 & 2 & 0 & 178556567 & T & C\\\\\n",
       "\t rs16866400 & 3.197894e-10 & 4 & ME\\_100 & 2 & 0 & 178584184 & A & G\\\\\n",
       "\t rs1043879  & 1.048905e-15 & 1 & ME\\_101 & 1 & 0 &  25243590 & C & T\\\\\n",
       "\t rs9645452  & 5.722824e-44 & 2 & ME\\_101 & 1 & 0 &  25341835 & T & C\\\\\n",
       "\t rs3091242  & 5.166988e-42 & 2 & ME\\_101 & 1 & 0 &  25348294 & C & T\\\\\n",
       "\t rs3093614  & 4.547823e-43 & 2 & ME\\_101 & 1 & 0 &  25351353 & A & T\\\\\n",
       "\\end{tabular}\n"
      ],
      "text/markdown": [
       "\n",
       "A grouped_df: 6 × 9\n",
       "\n",
       "| snp &lt;chr&gt; | p &lt;dbl&gt; | pc &lt;dbl&gt; | me &lt;chr&gt; | chr &lt;chr&gt; | cM &lt;int&gt; | pos &lt;int&gt; | minor &lt;chr&gt; | major &lt;chr&gt; |\n",
       "|---|---|---|---|---|---|---|---|---|\n",
       "| rs35504893 | 3.582292e-10 | 4 | ME_100 | 2 | 0 | 178556567 | T | C |\n",
       "| rs16866400 | 3.197894e-10 | 4 | ME_100 | 2 | 0 | 178584184 | A | G |\n",
       "| rs1043879  | 1.048905e-15 | 1 | ME_101 | 1 | 0 |  25243590 | C | T |\n",
       "| rs9645452  | 5.722824e-44 | 2 | ME_101 | 1 | 0 |  25341835 | T | C |\n",
       "| rs3091242  | 5.166988e-42 | 2 | ME_101 | 1 | 0 |  25348294 | C | T |\n",
       "| rs3093614  | 4.547823e-43 | 2 | ME_101 | 1 | 0 |  25351353 | A | T |\n",
       "\n"
      ],
      "text/plain": [
       "  snp        p            pc me     chr cM pos       minor major\n",
       "1 rs35504893 3.582292e-10 4  ME_100 2   0  178556567 T     C    \n",
       "2 rs16866400 3.197894e-10 4  ME_100 2   0  178584184 A     G    \n",
       "3 rs1043879  1.048905e-15 1  ME_101 1   0   25243590 C     T    \n",
       "4 rs9645452  5.722824e-44 2  ME_101 1   0   25341835 T     C    \n",
       "5 rs3091242  5.166988e-42 2  ME_101 1   0   25348294 C     T    \n",
       "6 rs3093614  4.547823e-43 2  ME_101 1   0   25351353 A     T    "
      ]
     },
     "metadata": {},
     "output_type": "display_data"
    }
   ],
   "source": [
    "mqtl.all <- me.assocs %>%\n",
    "    dplyr::filter(p < 0.05 / (num.modules * num.snps)) %>%\n",
    "    merge(., geno, by=\"snp\") %>%\n",
    "    dplyr::group_by(me, chr) %>%\n",
    "    dplyr::arrange(me, chr, pos)\n",
    "\n",
    "head(mqtl.all)"
   ]
  },
  {
   "cell_type": "code",
   "execution_count": 40,
   "id": "a2f30a07-a39e-4ff5-8e2b-3513df019879",
   "metadata": {},
   "outputs": [],
   "source": [
    "write.csv(mqtl.all, \"~/gains_team282/nikhil/expression/eigengene_sva/all_mqtl_all_pcs.csv\", row.names=F, quote=F)"
   ]
  },
  {
   "cell_type": "code",
   "execution_count": 41,
   "id": "f4558df9-072f-49b2-a1c6-b07eed293ead",
   "metadata": {
    "tags": []
   },
   "outputs": [
    {
     "data": {
      "image/png": "[encoded data removed]",
      "text/plain": [
       "plot without title"
      ]
     },
     "metadata": {
      "image/png": {
       "height": 300,
       "width": 1200
      }
     },
     "output_type": "display_data"
    }
   ],
   "source": [
    "options(repr.plot.width=20, repr.plot.height=5)\n",
    "\n",
    "plot.data <- me.assocs %>%\n",
    "    dplyr::filter(p < 0.05) %>%\n",
    "    merge(., geno, by=\"snp\") %>%\n",
    "    dplyr::filter(chr %in% 1:22) %>%\n",
    "    dplyr::mutate(chr=factor(chr, levels=1:22)) %>%\n",
    "    dplyr::mutate(chr.type=ifelse(as.numeric(chr) %% 2 == 0, \"Even\", \"Odd\")) %>%\n",
    "    dplyr::mutate(Log.10.p = -log10(p))\n",
    "\n",
    "plot.data %>%\n",
    "    ggplot() +\n",
    "    geom_point(aes(x=pos, y=Log.10.p, color=chr.type), size=I(0.5), alpha=0.5) +\n",
    "    geom_hline(yintercept=-log10(0.05 / (num.modules * num.snps)), lty=3, size=0.5) +\n",
    "    scale_color_manual(values=c(\"Even\" = \"royalblue4\", \"Odd\" = \"royalblue1\")) +\n",
    "    facet_grid(~chr, scale=\"free_x\", space=\"free_x\") +\n",
    "    guides(color=\"none\") +\n",
    "    xlab(\"Position\") + ylab(expression('-log'[10]~'(p)')) +\n",
    "    ggplot_theme +\n",
    "    theme(\n",
    "        strip.background=element_blank(),\n",
    "        axis.text.x=element_blank(),\n",
    "        axis.ticks.x=element_blank(),\n",
    "        panel.spacing=unit(0.1, \"lines\"),\n",
    "        strip.text=element_blank(),\n",
    "        axis.title.x=element_blank()\n",
    "    )\n",
    "\n",
    "ggsave(\"04_Expression/results/manhattan_initial_pass_all_pcs.png\", width=20, height=5, dpi=1200)"
   ]
  },
  {
   "cell_type": "markdown",
   "id": "fabc9069-8177-4e39-80a6-5eacb716c2c8",
   "metadata": {
    "tags": []
   },
   "source": [
    "### Call Module QTL"
   ]
  },
  {
   "cell_type": "markdown",
   "id": "9afb34f5-3459-40eb-94c9-d630e9b35c61",
   "metadata": {},
   "source": [
    "For each module, I will create 1 Mb windows around each significant SNP. Then, I will merge these windows to create the full window for the module QTL. These will be used to calculate summary statistics for downstream colocalization analysis."
   ]
  },
  {
   "cell_type": "code",
   "execution_count": 42,
   "id": "340a8b50-a860-4675-864a-d64aecdb1b86",
   "metadata": {},
   "outputs": [],
   "source": [
    "windows <- me.assocs %>%\n",
    "    dplyr::filter(p < 0.05 / (num.modules * num.snps)) %>%\n",
    "    merge(., geno, by=\"snp\") %>%\n",
    "    dplyr::mutate(start = sapply(pos, function(x) { max(1, x - 10^6) }), end = pos + 10^6 - 1)\n",
    "\n",
    "windows.merged <- lapply(split(windows, windows$me), function(x) {\n",
    "    ranges <- makeGRangesFromDataFrame(x, seqnames.field=\"chr\", start.field=\"start\", end.field=\"end\") %>%\n",
    "    reduce() %>%\n",
    "    as.data.frame()\n",
    "    ranges$me <- x$me[1]\n",
    "    return(ranges)\n",
    "}) %>%\n",
    "    do.call(rbind, .) %>%\n",
    "    makeGRangesFromDataFrame(keep.extra.columns=TRUE)"
   ]
  },
  {
   "cell_type": "code",
   "execution_count": 43,
   "id": "4c354da1-1501-4cc7-a628-50232dfe88ad",
   "metadata": {},
   "outputs": [],
   "source": [
    "snp.ranges <- makeGRangesFromDataFrame(\n",
    "    as.data.frame(geno.bim), \n",
    "    seqnames.field=\"chr\", start.field=\"Position\", end.field=\"Position\", \n",
    "    keep.extra.columns=TRUE\n",
    ")"
   ]
  },
  {
   "cell_type": "code",
   "execution_count": 44,
   "id": "2651ae05-c250-48e8-8ec7-eb5ab23f2316",
   "metadata": {},
   "outputs": [],
   "source": [
    "overlaps <- findOverlaps(windows.merged, snp.ranges)"
   ]
  },
  {
   "cell_type": "code",
   "execution_count": 45,
   "id": "b0412de6-8fb6-4e01-a904-cd7261285eaa",
   "metadata": {},
   "outputs": [],
   "source": [
    "module.qtl.snps <- cbind(\n",
    "    as.data.frame(windows.merged)[overlaps@from,],\n",
    "    as.data.frame(snp.ranges)[overlaps@to,]\n",
    ") %>%\n",
    "    as.data.frame() %>%\n",
    "    dplyr::select(me, snp, chr=1, start=2, end=3) %>%\n",
    "    dplyr::mutate(QTL.ID=paste0(chr, \":\", start, \"-\", end)) %>%\n",
    "    dplyr::select(ME=me, SNP=snp, QTL.ID)"
   ]
  },
  {
   "cell_type": "code",
   "execution_count": 46,
   "id": "f604fd57-6d6c-4eae-9aa1-2b2bf4eaacb4",
   "metadata": {},
   "outputs": [
    {
     "data": {
      "text/html": [
       "<table class=\"dataframe\">\n",
       "<caption>A data.frame: 6 × 3</caption>\n",
       "<thead>\n",
       "\t<tr><th></th><th scope=col>ME</th><th scope=col>SNP</th><th scope=col>QTL.ID</th></tr>\n",
       "\t<tr><th></th><th scope=col>&lt;chr&gt;</th><th scope=col>&lt;chr&gt;</th><th scope=col>&lt;chr&gt;</th></tr>\n",
       "</thead>\n",
       "<tbody>\n",
       "\t<tr><th scope=row>ME_100</th><td>ME_100</td><td>rs148452704    </td><td>2:177556567-179584183</td></tr>\n",
       "\t<tr><th scope=row>ME_100.1</th><td>ME_100</td><td>rs147576295    </td><td>2:177556567-179584183</td></tr>\n",
       "\t<tr><th scope=row>ME_100.2</th><td>ME_100</td><td>2:177556998_0_G</td><td>2:177556567-179584183</td></tr>\n",
       "\t<tr><th scope=row>ME_100.3</th><td>ME_100</td><td>rs2365616      </td><td>2:177556567-179584183</td></tr>\n",
       "\t<tr><th scope=row>ME_100.4</th><td>ME_100</td><td>rs141969740    </td><td>2:177556567-179584183</td></tr>\n",
       "\t<tr><th scope=row>ME_100.5</th><td>ME_100</td><td>rs2365617      </td><td>2:177556567-179584183</td></tr>\n",
       "</tbody>\n",
       "</table>\n"
      ],
      "text/latex": [
       "A data.frame: 6 × 3\n",
       "\\begin{tabular}{r|lll}\n",
       "  & ME & SNP & QTL.ID\\\\\n",
       "  & <chr> & <chr> & <chr>\\\\\n",
       "\\hline\n",
       "\tME\\_100 & ME\\_100 & rs148452704     & 2:177556567-179584183\\\\\n",
       "\tME\\_100.1 & ME\\_100 & rs147576295     & 2:177556567-179584183\\\\\n",
       "\tME\\_100.2 & ME\\_100 & 2:177556998\\_0\\_G & 2:177556567-179584183\\\\\n",
       "\tME\\_100.3 & ME\\_100 & rs2365616       & 2:177556567-179584183\\\\\n",
       "\tME\\_100.4 & ME\\_100 & rs141969740     & 2:177556567-179584183\\\\\n",
       "\tME\\_100.5 & ME\\_100 & rs2365617       & 2:177556567-179584183\\\\\n",
       "\\end{tabular}\n"
      ],
      "text/markdown": [
       "\n",
       "A data.frame: 6 × 3\n",
       "\n",
       "| <!--/--> | ME &lt;chr&gt; | SNP &lt;chr&gt; | QTL.ID &lt;chr&gt; |\n",
       "|---|---|---|---|\n",
       "| ME_100 | ME_100 | rs148452704     | 2:177556567-179584183 |\n",
       "| ME_100.1 | ME_100 | rs147576295     | 2:177556567-179584183 |\n",
       "| ME_100.2 | ME_100 | 2:177556998_0_G | 2:177556567-179584183 |\n",
       "| ME_100.3 | ME_100 | rs2365616       | 2:177556567-179584183 |\n",
       "| ME_100.4 | ME_100 | rs141969740     | 2:177556567-179584183 |\n",
       "| ME_100.5 | ME_100 | rs2365617       | 2:177556567-179584183 |\n",
       "\n"
      ],
      "text/plain": [
       "         ME     SNP             QTL.ID               \n",
       "ME_100   ME_100 rs148452704     2:177556567-179584183\n",
       "ME_100.1 ME_100 rs147576295     2:177556567-179584183\n",
       "ME_100.2 ME_100 2:177556998_0_G 2:177556567-179584183\n",
       "ME_100.3 ME_100 rs2365616       2:177556567-179584183\n",
       "ME_100.4 ME_100 rs141969740     2:177556567-179584183\n",
       "ME_100.5 ME_100 rs2365617       2:177556567-179584183"
      ]
     },
     "metadata": {},
     "output_type": "display_data"
    }
   ],
   "source": [
    "head(module.qtl.snps)"
   ]
  },
  {
   "cell_type": "code",
   "execution_count": 47,
   "id": "8913e21e-8aac-46de-8e50-2fda573be4e8",
   "metadata": {},
   "outputs": [],
   "source": [
    "write.table(\n",
    "    module.qtl.snps, \"~/gains_team282/nikhil/expression/eigengene_sva/mqtl_all_pcs_full_summary_statistics_snps.txt\", \n",
    "    sep=\"\\t\", row.names=F, quote=F\n",
    ")"
   ]
  },
  {
   "cell_type": "markdown",
   "id": "9a03e690-9ddf-42c0-85bb-3e0503044803",
   "metadata": {
    "tags": []
   },
   "source": [
    "## Circos Plot Visualization"
   ]
  },
  {
   "cell_type": "code",
   "execution_count": 48,
   "id": "4944332e-a798-4a9d-a3c0-0fe51abb917a",
   "metadata": {},
   "outputs": [],
   "source": [
    "chr.lengths <- read.table(\"~/gains_team282/epigenetics/star_genome_index/chrNameLength.txt\") %>%\n",
    "    dplyr::mutate(Start=1) %>%\n",
    "    dplyr::select(Chr=1, Start, End=2) %>%\n",
    "    dplyr::filter(Chr %in% as.character(1:22)) %>%\n",
    "    dplyr::mutate(Chr = factor(Chr, levels=as.character(1:22))) %>%\n",
    "    dplyr::arrange(Chr)"
   ]
  },
  {
   "cell_type": "code",
   "execution_count": 49,
   "id": "581512e6-6cc8-427c-936a-e9125d6ed3b4",
   "metadata": {},
   "outputs": [],
   "source": [
    "qtl.df <- module.qtl.snps %>%\n",
    "    dplyr::select(ME, QTL.ID) %>%\n",
    "    unique() %>%\n",
    "    dplyr::mutate(Chr=factor(gsub(\":.*\", \"\", QTL.ID), levels=as.character(1:22))) %>%\n",
    "    dplyr::mutate(Range=gsub(\".*:\", \"\", QTL.ID)) %>%\n",
    "    dplyr::mutate(Start=as.numeric(gsub(\"-.*\", \"\", Range))) %>%\n",
    "    dplyr::mutate(End=as.numeric(gsub(\".*-\", \"\", Range))) %>%\n",
    "    dplyr::mutate(Midpoint=(Start + End) / 2) %>%\n",
    "    dplyr::mutate(Chr.Type=ifelse(as.numeric(Chr) %% 2 == 0, \"royalblue4\", \"royalblue1\"))"
   ]
  },
  {
   "cell_type": "code",
   "execution_count": 50,
   "id": "bc0820c3-d887-415c-86e2-57b66472ef5a",
   "metadata": {},
   "outputs": [
    {
     "data": {
      "text/html": [
       "<table class=\"dataframe\">\n",
       "<caption>A data.frame: 6 × 8</caption>\n",
       "<thead>\n",
       "\t<tr><th></th><th scope=col>ME</th><th scope=col>QTL.ID</th><th scope=col>Chr</th><th scope=col>Range</th><th scope=col>Start</th><th scope=col>End</th><th scope=col>Midpoint</th><th scope=col>Chr.Type</th></tr>\n",
       "\t<tr><th></th><th scope=col>&lt;chr&gt;</th><th scope=col>&lt;chr&gt;</th><th scope=col>&lt;fct&gt;</th><th scope=col>&lt;chr&gt;</th><th scope=col>&lt;dbl&gt;</th><th scope=col>&lt;dbl&gt;</th><th scope=col>&lt;dbl&gt;</th><th scope=col>&lt;chr&gt;</th></tr>\n",
       "</thead>\n",
       "<tbody>\n",
       "\t<tr><th scope=row>ME_100</th><td>ME_100</td><td>2:177556567-179584183</td><td>2 </td><td>177556567-179584183</td><td>177556567</td><td>179584183</td><td>178570375</td><td>royalblue4</td></tr>\n",
       "\t<tr><th scope=row>ME_101.1</th><td>ME_101</td><td>1:24243590-26454176  </td><td>1 </td><td>24243590-26454176  </td><td> 24243590</td><td> 26454176</td><td> 25348883</td><td>royalblue1</td></tr>\n",
       "\t<tr><th scope=row>ME_101.2</th><td>ME_101</td><td>12:54985643-57100037 </td><td>12</td><td>54985643-57100037  </td><td> 54985643</td><td> 57100037</td><td> 56042840</td><td>royalblue4</td></tr>\n",
       "\t<tr><th scope=row>ME_101.3</th><td>ME_101</td><td>15:30215896-32681425 </td><td>15</td><td>30215896-32681425  </td><td> 30215896</td><td> 32681425</td><td> 31448660</td><td>royalblue1</td></tr>\n",
       "\t<tr><th scope=row>ME_102</th><td>ME_102</td><td>17:17145294-19676395 </td><td>17</td><td>17145294-19676395  </td><td> 17145294</td><td> 19676395</td><td> 18410844</td><td>royalblue1</td></tr>\n",
       "\t<tr><th scope=row>ME_103</th><td>ME_103</td><td>12:68275923-70376531 </td><td>12</td><td>68275923-70376531  </td><td> 68275923</td><td> 70376531</td><td> 69326227</td><td>royalblue4</td></tr>\n",
       "</tbody>\n",
       "</table>\n"
      ],
      "text/latex": [
       "A data.frame: 6 × 8\n",
       "\\begin{tabular}{r|llllllll}\n",
       "  & ME & QTL.ID & Chr & Range & Start & End & Midpoint & Chr.Type\\\\\n",
       "  & <chr> & <chr> & <fct> & <chr> & <dbl> & <dbl> & <dbl> & <chr>\\\\\n",
       "\\hline\n",
       "\tME\\_100 & ME\\_100 & 2:177556567-179584183 & 2  & 177556567-179584183 & 177556567 & 179584183 & 178570375 & royalblue4\\\\\n",
       "\tME\\_101.1 & ME\\_101 & 1:24243590-26454176   & 1  & 24243590-26454176   &  24243590 &  26454176 &  25348883 & royalblue1\\\\\n",
       "\tME\\_101.2 & ME\\_101 & 12:54985643-57100037  & 12 & 54985643-57100037   &  54985643 &  57100037 &  56042840 & royalblue4\\\\\n",
       "\tME\\_101.3 & ME\\_101 & 15:30215896-32681425  & 15 & 30215896-32681425   &  30215896 &  32681425 &  31448660 & royalblue1\\\\\n",
       "\tME\\_102 & ME\\_102 & 17:17145294-19676395  & 17 & 17145294-19676395   &  17145294 &  19676395 &  18410844 & royalblue1\\\\\n",
       "\tME\\_103 & ME\\_103 & 12:68275923-70376531  & 12 & 68275923-70376531   &  68275923 &  70376531 &  69326227 & royalblue4\\\\\n",
       "\\end{tabular}\n"
      ],
      "text/markdown": [
       "\n",
       "A data.frame: 6 × 8\n",
       "\n",
       "| <!--/--> | ME &lt;chr&gt; | QTL.ID &lt;chr&gt; | Chr &lt;fct&gt; | Range &lt;chr&gt; | Start &lt;dbl&gt; | End &lt;dbl&gt; | Midpoint &lt;dbl&gt; | Chr.Type &lt;chr&gt; |\n",
       "|---|---|---|---|---|---|---|---|---|\n",
       "| ME_100 | ME_100 | 2:177556567-179584183 | 2  | 177556567-179584183 | 177556567 | 179584183 | 178570375 | royalblue4 |\n",
       "| ME_101.1 | ME_101 | 1:24243590-26454176   | 1  | 24243590-26454176   |  24243590 |  26454176 |  25348883 | royalblue1 |\n",
       "| ME_101.2 | ME_101 | 12:54985643-57100037  | 12 | 54985643-57100037   |  54985643 |  57100037 |  56042840 | royalblue4 |\n",
       "| ME_101.3 | ME_101 | 15:30215896-32681425  | 15 | 30215896-32681425   |  30215896 |  32681425 |  31448660 | royalblue1 |\n",
       "| ME_102 | ME_102 | 17:17145294-19676395  | 17 | 17145294-19676395   |  17145294 |  19676395 |  18410844 | royalblue1 |\n",
       "| ME_103 | ME_103 | 12:68275923-70376531  | 12 | 68275923-70376531   |  68275923 |  70376531 |  69326227 | royalblue4 |\n",
       "\n"
      ],
      "text/plain": [
       "         ME     QTL.ID                Chr Range               Start    \n",
       "ME_100   ME_100 2:177556567-179584183 2   177556567-179584183 177556567\n",
       "ME_101.1 ME_101 1:24243590-26454176   1   24243590-26454176    24243590\n",
       "ME_101.2 ME_101 12:54985643-57100037  12  54985643-57100037    54985643\n",
       "ME_101.3 ME_101 15:30215896-32681425  15  30215896-32681425    30215896\n",
       "ME_102   ME_102 17:17145294-19676395  17  17145294-19676395    17145294\n",
       "ME_103   ME_103 12:68275923-70376531  12  68275923-70376531    68275923\n",
       "         End       Midpoint  Chr.Type  \n",
       "ME_100   179584183 178570375 royalblue4\n",
       "ME_101.1  26454176  25348883 royalblue1\n",
       "ME_101.2  57100037  56042840 royalblue4\n",
       "ME_101.3  32681425  31448660 royalblue1\n",
       "ME_102    19676395  18410844 royalblue1\n",
       "ME_103    70376531  69326227 royalblue4"
      ]
     },
     "metadata": {},
     "output_type": "display_data"
    }
   ],
   "source": [
    "head(qtl.df)"
   ]
  },
  {
   "cell_type": "code",
   "execution_count": 51,
   "id": "bcfd0211-50a0-44e1-a55c-ca9debc171c7",
   "metadata": {},
   "outputs": [],
   "source": [
    "modules <- read.csv(\"~/gains_team282/nikhil/expression/gene_expression/modules.csv\") %>%\n",
    "    dplyr::mutate(Eigengene=paste0(\"ME_\", gsub(\".*_\", \"\", Module)))"
   ]
  },
  {
   "cell_type": "code",
   "execution_count": 52,
   "id": "162af637-df22-4d1c-9fc4-c7b0f1597348",
   "metadata": {},
   "outputs": [],
   "source": [
    "gene.info <- read.table(\"/nfs/team282/data/gains_team282/gene_info_864_20412_hla.txt\") %>%\n",
    "    dplyr::select(gene_id, seqnames, start, end) %>%\n",
    "    dplyr::filter(seqnames %in% as.character(1:22)) %>%\n",
    "    dplyr::mutate(seqnames=factor(seqnames, levels=as.character(1:22)))"
   ]
  },
  {
   "cell_type": "code",
   "execution_count": 53,
   "id": "becc78b3-630d-4c7d-8955-1894a5e80bdb",
   "metadata": {},
   "outputs": [],
   "source": [
    "mod.genes <- merge(modules, gene.info, by.x=\"Gene\", by.y=\"gene_id\") %>%\n",
    "    merge(., qtl.df, by.x=\"Eigengene\", by.y=\"ME\")"
   ]
  },
  {
   "cell_type": "code",
   "execution_count": 54,
   "id": "9b4f350a-4d0b-40fd-bda1-2e0825e689f0",
   "metadata": {},
   "outputs": [
    {
     "data": {
      "text/html": [
       "<table class=\"dataframe\">\n",
       "<caption>A data.frame: 6 × 13</caption>\n",
       "<thead>\n",
       "\t<tr><th></th><th scope=col>Eigengene</th><th scope=col>Gene</th><th scope=col>Module</th><th scope=col>seqnames</th><th scope=col>start</th><th scope=col>end</th><th scope=col>QTL.ID</th><th scope=col>Chr</th><th scope=col>Range</th><th scope=col>Start</th><th scope=col>End</th><th scope=col>Midpoint</th><th scope=col>Chr.Type</th></tr>\n",
       "\t<tr><th></th><th scope=col>&lt;chr&gt;</th><th scope=col>&lt;chr&gt;</th><th scope=col>&lt;chr&gt;</th><th scope=col>&lt;fct&gt;</th><th scope=col>&lt;int&gt;</th><th scope=col>&lt;int&gt;</th><th scope=col>&lt;chr&gt;</th><th scope=col>&lt;fct&gt;</th><th scope=col>&lt;chr&gt;</th><th scope=col>&lt;dbl&gt;</th><th scope=col>&lt;dbl&gt;</th><th scope=col>&lt;dbl&gt;</th><th scope=col>&lt;chr&gt;</th></tr>\n",
       "</thead>\n",
       "<tbody>\n",
       "\t<tr><th scope=row>1</th><td>ME_100</td><td>ENSG00000271011</td><td>Module_100</td><td>2 </td><td>178577103</td><td>178577622</td><td>2:177556567-179584183</td><td>2</td><td>177556567-179584183</td><td>177556567</td><td>179584183</td><td>178570375</td><td>royalblue4</td></tr>\n",
       "\t<tr><th scope=row>2</th><td>ME_100</td><td>ENSG00000270277</td><td>Module_100</td><td>2 </td><td>178548884</td><td>178550681</td><td>2:177556567-179584183</td><td>2</td><td>177556567-179584183</td><td>177556567</td><td>179584183</td><td>178570375</td><td>royalblue4</td></tr>\n",
       "\t<tr><th scope=row>3</th><td>ME_100</td><td>ENSG00000283709</td><td>Module_100</td><td>10</td><td> 26931206</td><td> 26944418</td><td>2:177556567-179584183</td><td>2</td><td>177556567-179584183</td><td>177556567</td><td>179584183</td><td>178570375</td><td>royalblue4</td></tr>\n",
       "\t<tr><th scope=row>4</th><td>ME_100</td><td>ENSG00000279598</td><td>Module_100</td><td>2 </td><td>178554561</td><td>178558966</td><td>2:177556567-179584183</td><td>2</td><td>177556567-179584183</td><td>177556567</td><td>179584183</td><td>178570375</td><td>royalblue4</td></tr>\n",
       "\t<tr><th scope=row>5</th><td>ME_100</td><td>ENSG00000270574</td><td>Module_100</td><td>2 </td><td>178578790</td><td>178580906</td><td>2:177556567-179584183</td><td>2</td><td>177556567-179584183</td><td>177556567</td><td>179584183</td><td>178570375</td><td>royalblue4</td></tr>\n",
       "\t<tr><th scope=row>6</th><td>ME_100</td><td>ENSG00000270956</td><td>Module_100</td><td>2 </td><td>178541125</td><td>178541799</td><td>2:177556567-179584183</td><td>2</td><td>177556567-179584183</td><td>177556567</td><td>179584183</td><td>178570375</td><td>royalblue4</td></tr>\n",
       "</tbody>\n",
       "</table>\n"
      ],
      "text/latex": [
       "A data.frame: 6 × 13\n",
       "\\begin{tabular}{r|lllllllllllll}\n",
       "  & Eigengene & Gene & Module & seqnames & start & end & QTL.ID & Chr & Range & Start & End & Midpoint & Chr.Type\\\\\n",
       "  & <chr> & <chr> & <chr> & <fct> & <int> & <int> & <chr> & <fct> & <chr> & <dbl> & <dbl> & <dbl> & <chr>\\\\\n",
       "\\hline\n",
       "\t1 & ME\\_100 & ENSG00000271011 & Module\\_100 & 2  & 178577103 & 178577622 & 2:177556567-179584183 & 2 & 177556567-179584183 & 177556567 & 179584183 & 178570375 & royalblue4\\\\\n",
       "\t2 & ME\\_100 & ENSG00000270277 & Module\\_100 & 2  & 178548884 & 178550681 & 2:177556567-179584183 & 2 & 177556567-179584183 & 177556567 & 179584183 & 178570375 & royalblue4\\\\\n",
       "\t3 & ME\\_100 & ENSG00000283709 & Module\\_100 & 10 &  26931206 &  26944418 & 2:177556567-179584183 & 2 & 177556567-179584183 & 177556567 & 179584183 & 178570375 & royalblue4\\\\\n",
       "\t4 & ME\\_100 & ENSG00000279598 & Module\\_100 & 2  & 178554561 & 178558966 & 2:177556567-179584183 & 2 & 177556567-179584183 & 177556567 & 179584183 & 178570375 & royalblue4\\\\\n",
       "\t5 & ME\\_100 & ENSG00000270574 & Module\\_100 & 2  & 178578790 & 178580906 & 2:177556567-179584183 & 2 & 177556567-179584183 & 177556567 & 179584183 & 178570375 & royalblue4\\\\\n",
       "\t6 & ME\\_100 & ENSG00000270956 & Module\\_100 & 2  & 178541125 & 178541799 & 2:177556567-179584183 & 2 & 177556567-179584183 & 177556567 & 179584183 & 178570375 & royalblue4\\\\\n",
       "\\end{tabular}\n"
      ],
      "text/markdown": [
       "\n",
       "A data.frame: 6 × 13\n",
       "\n",
       "| <!--/--> | Eigengene &lt;chr&gt; | Gene &lt;chr&gt; | Module &lt;chr&gt; | seqnames &lt;fct&gt; | start &lt;int&gt; | end &lt;int&gt; | QTL.ID &lt;chr&gt; | Chr &lt;fct&gt; | Range &lt;chr&gt; | Start &lt;dbl&gt; | End &lt;dbl&gt; | Midpoint &lt;dbl&gt; | Chr.Type &lt;chr&gt; |\n",
       "|---|---|---|---|---|---|---|---|---|---|---|---|---|---|\n",
       "| 1 | ME_100 | ENSG00000271011 | Module_100 | 2  | 178577103 | 178577622 | 2:177556567-179584183 | 2 | 177556567-179584183 | 177556567 | 179584183 | 178570375 | royalblue4 |\n",
       "| 2 | ME_100 | ENSG00000270277 | Module_100 | 2  | 178548884 | 178550681 | 2:177556567-179584183 | 2 | 177556567-179584183 | 177556567 | 179584183 | 178570375 | royalblue4 |\n",
       "| 3 | ME_100 | ENSG00000283709 | Module_100 | 10 |  26931206 |  26944418 | 2:177556567-179584183 | 2 | 177556567-179584183 | 177556567 | 179584183 | 178570375 | royalblue4 |\n",
       "| 4 | ME_100 | ENSG00000279598 | Module_100 | 2  | 178554561 | 178558966 | 2:177556567-179584183 | 2 | 177556567-179584183 | 177556567 | 179584183 | 178570375 | royalblue4 |\n",
       "| 5 | ME_100 | ENSG00000270574 | Module_100 | 2  | 178578790 | 178580906 | 2:177556567-179584183 | 2 | 177556567-179584183 | 177556567 | 179584183 | 178570375 | royalblue4 |\n",
       "| 6 | ME_100 | ENSG00000270956 | Module_100 | 2  | 178541125 | 178541799 | 2:177556567-179584183 | 2 | 177556567-179584183 | 177556567 | 179584183 | 178570375 | royalblue4 |\n",
       "\n"
      ],
      "text/plain": [
       "  Eigengene Gene            Module     seqnames start     end      \n",
       "1 ME_100    ENSG00000271011 Module_100 2        178577103 178577622\n",
       "2 ME_100    ENSG00000270277 Module_100 2        178548884 178550681\n",
       "3 ME_100    ENSG00000283709 Module_100 10        26931206  26944418\n",
       "4 ME_100    ENSG00000279598 Module_100 2        178554561 178558966\n",
       "5 ME_100    ENSG00000270574 Module_100 2        178578790 178580906\n",
       "6 ME_100    ENSG00000270956 Module_100 2        178541125 178541799\n",
       "  QTL.ID                Chr Range               Start     End       Midpoint \n",
       "1 2:177556567-179584183 2   177556567-179584183 177556567 179584183 178570375\n",
       "2 2:177556567-179584183 2   177556567-179584183 177556567 179584183 178570375\n",
       "3 2:177556567-179584183 2   177556567-179584183 177556567 179584183 178570375\n",
       "4 2:177556567-179584183 2   177556567-179584183 177556567 179584183 178570375\n",
       "5 2:177556567-179584183 2   177556567-179584183 177556567 179584183 178570375\n",
       "6 2:177556567-179584183 2   177556567-179584183 177556567 179584183 178570375\n",
       "  Chr.Type  \n",
       "1 royalblue4\n",
       "2 royalblue4\n",
       "3 royalblue4\n",
       "4 royalblue4\n",
       "5 royalblue4\n",
       "6 royalblue4"
      ]
     },
     "metadata": {},
     "output_type": "display_data"
    }
   ],
   "source": [
    "head(mod.genes)"
   ]
  },
  {
   "cell_type": "code",
   "execution_count": 55,
   "id": "70e33f14-6cd8-4c92-8418-26215f6982c6",
   "metadata": {},
   "outputs": [],
   "source": [
    "snp.df <- me.assocs %>%\n",
    "    dplyr::filter(p < 0.05) %>%\n",
    "    merge(., geno, by=\"snp\") %>%\n",
    "    dplyr::filter(chr %in% 1:22) %>%\n",
    "    dplyr::mutate(chr=factor(chr, levels=1:22)) %>%\n",
    "    dplyr::mutate(chr.type=ifelse(as.numeric(chr) %% 2 == 0, \"royalblue4\", \"royalblue1\")) %>%\n",
    "    dplyr::mutate(Log.10.p = -log10(p))"
   ]
  },
  {
   "cell_type": "code",
   "execution_count": 56,
   "id": "e96b267a-73f7-48f3-9087-609b0dd10636",
   "metadata": {},
   "outputs": [
    {
     "data": {
      "text/html": [
       "<table class=\"dataframe\">\n",
       "<caption>A data.frame: 6 × 11</caption>\n",
       "<thead>\n",
       "\t<tr><th></th><th scope=col>snp</th><th scope=col>p</th><th scope=col>pc</th><th scope=col>me</th><th scope=col>chr</th><th scope=col>cM</th><th scope=col>pos</th><th scope=col>minor</th><th scope=col>major</th><th scope=col>chr.type</th><th scope=col>Log.10.p</th></tr>\n",
       "\t<tr><th></th><th scope=col>&lt;chr&gt;</th><th scope=col>&lt;dbl&gt;</th><th scope=col>&lt;dbl&gt;</th><th scope=col>&lt;chr&gt;</th><th scope=col>&lt;fct&gt;</th><th scope=col>&lt;int&gt;</th><th scope=col>&lt;int&gt;</th><th scope=col>&lt;chr&gt;</th><th scope=col>&lt;chr&gt;</th><th scope=col>&lt;chr&gt;</th><th scope=col>&lt;dbl&gt;</th></tr>\n",
       "</thead>\n",
       "<tbody>\n",
       "\t<tr><th scope=row>1</th><td>rs10000284</td><td>0.043434279</td><td>2</td><td>ME_62</td><td>4</td><td>0</td><td>68803465</td><td>C</td><td>T</td><td>royalblue4</td><td>1.362167</td></tr>\n",
       "\t<tr><th scope=row>2</th><td>rs10000284</td><td>0.036505994</td><td>2</td><td>ME_85</td><td>4</td><td>0</td><td>68803465</td><td>C</td><td>T</td><td>royalblue4</td><td>1.437636</td></tr>\n",
       "\t<tr><th scope=row>3</th><td>rs10000284</td><td>0.013806445</td><td>3</td><td>ME_49</td><td>4</td><td>0</td><td>68803465</td><td>C</td><td>T</td><td>royalblue4</td><td>1.859918</td></tr>\n",
       "\t<tr><th scope=row>4</th><td>rs10000284</td><td>0.026380808</td><td>3</td><td>ME_43</td><td>4</td><td>0</td><td>68803465</td><td>C</td><td>T</td><td>royalblue4</td><td>1.578712</td></tr>\n",
       "\t<tr><th scope=row>5</th><td>rs10000284</td><td>0.044016026</td><td>2</td><td>ME_60</td><td>4</td><td>0</td><td>68803465</td><td>C</td><td>T</td><td>royalblue4</td><td>1.356389</td></tr>\n",
       "\t<tr><th scope=row>6</th><td>rs10000284</td><td>0.008932153</td><td>2</td><td>ME_59</td><td>4</td><td>0</td><td>68803465</td><td>C</td><td>T</td><td>royalblue4</td><td>2.049044</td></tr>\n",
       "</tbody>\n",
       "</table>\n"
      ],
      "text/latex": [
       "A data.frame: 6 × 11\n",
       "\\begin{tabular}{r|lllllllllll}\n",
       "  & snp & p & pc & me & chr & cM & pos & minor & major & chr.type & Log.10.p\\\\\n",
       "  & <chr> & <dbl> & <dbl> & <chr> & <fct> & <int> & <int> & <chr> & <chr> & <chr> & <dbl>\\\\\n",
       "\\hline\n",
       "\t1 & rs10000284 & 0.043434279 & 2 & ME\\_62 & 4 & 0 & 68803465 & C & T & royalblue4 & 1.362167\\\\\n",
       "\t2 & rs10000284 & 0.036505994 & 2 & ME\\_85 & 4 & 0 & 68803465 & C & T & royalblue4 & 1.437636\\\\\n",
       "\t3 & rs10000284 & 0.013806445 & 3 & ME\\_49 & 4 & 0 & 68803465 & C & T & royalblue4 & 1.859918\\\\\n",
       "\t4 & rs10000284 & 0.026380808 & 3 & ME\\_43 & 4 & 0 & 68803465 & C & T & royalblue4 & 1.578712\\\\\n",
       "\t5 & rs10000284 & 0.044016026 & 2 & ME\\_60 & 4 & 0 & 68803465 & C & T & royalblue4 & 1.356389\\\\\n",
       "\t6 & rs10000284 & 0.008932153 & 2 & ME\\_59 & 4 & 0 & 68803465 & C & T & royalblue4 & 2.049044\\\\\n",
       "\\end{tabular}\n"
      ],
      "text/markdown": [
       "\n",
       "A data.frame: 6 × 11\n",
       "\n",
       "| <!--/--> | snp &lt;chr&gt; | p &lt;dbl&gt; | pc &lt;dbl&gt; | me &lt;chr&gt; | chr &lt;fct&gt; | cM &lt;int&gt; | pos &lt;int&gt; | minor &lt;chr&gt; | major &lt;chr&gt; | chr.type &lt;chr&gt; | Log.10.p &lt;dbl&gt; |\n",
       "|---|---|---|---|---|---|---|---|---|---|---|---|\n",
       "| 1 | rs10000284 | 0.043434279 | 2 | ME_62 | 4 | 0 | 68803465 | C | T | royalblue4 | 1.362167 |\n",
       "| 2 | rs10000284 | 0.036505994 | 2 | ME_85 | 4 | 0 | 68803465 | C | T | royalblue4 | 1.437636 |\n",
       "| 3 | rs10000284 | 0.013806445 | 3 | ME_49 | 4 | 0 | 68803465 | C | T | royalblue4 | 1.859918 |\n",
       "| 4 | rs10000284 | 0.026380808 | 3 | ME_43 | 4 | 0 | 68803465 | C | T | royalblue4 | 1.578712 |\n",
       "| 5 | rs10000284 | 0.044016026 | 2 | ME_60 | 4 | 0 | 68803465 | C | T | royalblue4 | 1.356389 |\n",
       "| 6 | rs10000284 | 0.008932153 | 2 | ME_59 | 4 | 0 | 68803465 | C | T | royalblue4 | 2.049044 |\n",
       "\n"
      ],
      "text/plain": [
       "  snp        p           pc me    chr cM pos      minor major chr.type  \n",
       "1 rs10000284 0.043434279 2  ME_62 4   0  68803465 C     T     royalblue4\n",
       "2 rs10000284 0.036505994 2  ME_85 4   0  68803465 C     T     royalblue4\n",
       "3 rs10000284 0.013806445 3  ME_49 4   0  68803465 C     T     royalblue4\n",
       "4 rs10000284 0.026380808 3  ME_43 4   0  68803465 C     T     royalblue4\n",
       "5 rs10000284 0.044016026 2  ME_60 4   0  68803465 C     T     royalblue4\n",
       "6 rs10000284 0.008932153 2  ME_59 4   0  68803465 C     T     royalblue4\n",
       "  Log.10.p\n",
       "1 1.362167\n",
       "2 1.437636\n",
       "3 1.859918\n",
       "4 1.578712\n",
       "5 1.356389\n",
       "6 2.049044"
      ]
     },
     "metadata": {},
     "output_type": "display_data"
    }
   ],
   "source": [
    "head(snp.df)"
   ]
  },
  {
   "cell_type": "code",
   "execution_count": 57,
   "id": "58c9bffd-d4d4-4d21-88af-cee2860ea9da",
   "metadata": {},
   "outputs": [
    {
     "data": {
      "text/html": [
       "<strong>png:</strong> 2"
      ],
      "text/latex": [
       "\\textbf{png:} 2"
      ],
      "text/markdown": [
       "**png:** 2"
      ],
      "text/plain": [
       "png \n",
       "  2 "
      ]
     },
     "metadata": {},
     "output_type": "display_data"
    }
   ],
   "source": [
    "options(repr.plot.width=20, repr.plot.height=20)\n",
    "\n",
    "png(\"04_Expression/results/module_qtl_all_pcs_circos.png\", width=20, height=20, units=\"in\", res=150)\n",
    "circos.initialize(chr.lengths$Chr, xlim=chr.lengths[, c(\"Start\", \"End\")])\n",
    "circos.par(points.overflow.warning=F)\n",
    "\n",
    "circos.track(ylim=c(0, max(snp.df$Log.10.p)), track.height=0.2, bg.border=F, panel.fun=function(x, y) {\n",
    "    \n",
    "    circos.text(CELL_META$xcenter, CELL_META$cell.ylim[1] - mm_y(0.25), CELL_META$sector.index)\n",
    "    \n",
    "    snp.sector = snp.df %>%\n",
    "        dplyr::filter(chr == CELL_META$sector.index)\n",
    "    circos.points(\n",
    "        snp.sector$pos, snp.sector$Log.10.p, sector.index=CELL_META$sector.index,\n",
    "        col=rgb(col2rgb(snp.sector$chr.type)[1], col2rgb(snp.sector$chr.type)[2], col2rgb(snp.sector$chr.type)[3], max=255, alpha=125),\n",
    "        cex=0.5, pch=20\n",
    "    )\n",
    "})\n",
    "\n",
    "circos.track(ylim=c(0, 1), track.height=0.05, bg.border=F, panel.fun=function(x, y) {\n",
    "    \n",
    "    qtl.sector = qtl.df %>%\n",
    "        dplyr::filter(Chr == CELL_META$sector.index)\n",
    "    if (nrow(qtl.sector) > 0) {\n",
    "        circos.segments(\n",
    "            qtl.sector$Midpoint, 0, qtl.sector$Midpoint, 1, sector.index=CELL_META$sector.index,\n",
    "            col=qtl.sector$Chr.Type, lwd=2\n",
    "        )\n",
    "    }\n",
    "})\n",
    "\n",
    "rb4 <- rgb(col2rgb(\"royalblue4\")[1], col2rgb(\"royalblue4\")[2], col2rgb(\"royalblue4\")[3], max=255, alpha=125)\n",
    "rb1 <- rgb(col2rgb(\"royalblue1\")[1], col2rgb(\"royalblue1\")[2], col2rgb(\"royalblue1\")[3], max=255, alpha=125)\n",
    "for (i in 1:nrow(mod.genes)) {\n",
    "    if (mod.genes$Chr[i] != mod.genes$seqnames[i]) {\n",
    "        circos.link(\n",
    "            mod.genes$Chr[i], mod.genes$Midpoint[i],\n",
    "            mod.genes$seqnames[i], mod.genes[i, c(\"start\", \"end\")],\n",
    "            col=ifelse(as.numeric(mod.genes$Chr[i]) %% 2 == 0, rb4, rb1)\n",
    "        )\n",
    "    }\n",
    "}\n",
    "dev.off()"
   ]
  },
  {
   "cell_type": "markdown",
   "id": "2c34f9bc-f915-43b8-98dc-ced7902db4c3",
   "metadata": {},
   "source": [
    "## Save Convenient RDS Object"
   ]
  },
  {
   "cell_type": "code",
   "execution_count": 3,
   "id": "1d668000-a800-47d0-9c4d-cfa17811d129",
   "metadata": {},
   "outputs": [],
   "source": [
    "eigengenes <- read.csv(\"~/gains_team282/nikhil/expression/gene_expression/eigengenes.multiple.csv\", row.names=1)"
   ]
  },
  {
   "cell_type": "code",
   "execution_count": 4,
   "id": "13363151-85b1-4cff-9396-8e2d2a5227cb",
   "metadata": {},
   "outputs": [],
   "source": [
    "n.modules <- ncol(eigengenes)"
   ]
  },
  {
   "cell_type": "code",
   "execution_count": 5,
   "id": "0445d617-eb7e-4ee1-bad4-fa80d6712bb0",
   "metadata": {},
   "outputs": [],
   "source": [
    "n.snps = system(\"head -n 1 /nfs/users/nfs_n/nm18/gains_team282/nikhil/data/genotypes/eigengene_sva_genotypes.raw | sed 's/ /\\\\n/g' | wc -l\", intern=TRUE)\n",
    "n.snps = as.numeric(n.snps) - 6"
   ]
  },
  {
   "cell_type": "code",
   "execution_count": 6,
   "id": "33a4fd65-ea25-45ff-aca4-10f8d3cbc51c",
   "metadata": {},
   "outputs": [],
   "source": [
    "module.ss.dir = \"/nfs/users/nfs_n/nm18/gains_team282/nikhil/expression/eigengene_sva/wgcna_summary_statistics/\"\n",
    "module.qtl <- do.call(rbind, lapply(list.files(module.ss.dir, pattern=\"ME_[0-9]+_[0-9]+-.*\\\\.tsv\"), function(file.name) {\n",
    "\n",
    "    fread(paste0(module.ss.dir, file.name)) %>%\n",
    "    as.data.frame() %>%\n",
    "    dplyr::select(snp=1, beta=2, se=3, t=4, p=5) %>%\n",
    "    dplyr::mutate(module.qtl=gsub(\"\\\\.tsv\", \"\", file.name)) %>%\n",
    "    dplyr::mutate(module=gsub(\"_[0-9]+-.*$\", \"\", module.qtl)) %>%\n",
    "    dplyr::mutate(pc=gsub(\"-.*$\", \"\", gsub(\"ME_[0-9]+_\", \"\", module.qtl))) %>%\n",
    "    dplyr::mutate(qtl.locus=gsub(\"ME_[0-9]+_[0-9]+-\", \"\", module.qtl)) %>%\n",
    "    dplyr::mutate(qtl.locus.chr=gsub(\"\\\\:.*\", \"\", qtl.locus)) %>%\n",
    "    dplyr::mutate(qtl.locus.start=as.numeric(gsub(\".*\\\\:\", \"\", gsub(\"-.*$\", \"\", qtl.locus)))) %>%\n",
    "    dplyr::mutate(qtl.locus.end=as.numeric(gsub(\".*-\", \"\", qtl.locus)))\n",
    "})) %>%\n",
    "    dplyr::filter(p < 0.05 / (n.modules * n.snps))"
   ]
  },
  {
   "cell_type": "code",
   "execution_count": 7,
   "id": "3a2bf1f6-3aa9-4177-bb50-4aa5ff3f16bb",
   "metadata": {},
   "outputs": [
    {
     "data": {
      "text/html": [
       "<table class=\"dataframe\">\n",
       "<caption>A data.frame: 6 × 12</caption>\n",
       "<thead>\n",
       "\t<tr><th></th><th scope=col>snp</th><th scope=col>beta</th><th scope=col>se</th><th scope=col>t</th><th scope=col>p</th><th scope=col>module.qtl</th><th scope=col>module</th><th scope=col>pc</th><th scope=col>qtl.locus</th><th scope=col>qtl.locus.chr</th><th scope=col>qtl.locus.start</th><th scope=col>qtl.locus.end</th></tr>\n",
       "\t<tr><th></th><th scope=col>&lt;chr&gt;</th><th scope=col>&lt;dbl&gt;</th><th scope=col>&lt;dbl&gt;</th><th scope=col>&lt;dbl&gt;</th><th scope=col>&lt;dbl&gt;</th><th scope=col>&lt;chr&gt;</th><th scope=col>&lt;chr&gt;</th><th scope=col>&lt;chr&gt;</th><th scope=col>&lt;chr&gt;</th><th scope=col>&lt;chr&gt;</th><th scope=col>&lt;dbl&gt;</th><th scope=col>&lt;dbl&gt;</th></tr>\n",
       "</thead>\n",
       "<tbody>\n",
       "\t<tr><th scope=row>1</th><td>rs6723399 </td><td>-0.01131175</td><td>0.001791386</td><td>-6.314525</td><td>4.583147e-10</td><td>ME_100_4-2:177556567-179584183</td><td>ME_100</td><td>4</td><td>2:177556567-179584183</td><td>2</td><td>177556567</td><td>179584183</td></tr>\n",
       "\t<tr><th scope=row>2</th><td>rs35504893</td><td>-0.01109997</td><td>0.001745267</td><td>-6.360043</td><td>3.582292e-10</td><td>ME_100_4-2:177556567-179584183</td><td>ME_100</td><td>4</td><td>2:177556567-179584183</td><td>2</td><td>177556567</td><td>179584183</td></tr>\n",
       "\t<tr><th scope=row>3</th><td>rs16866400</td><td>-0.01081391</td><td>0.001694884</td><td>-6.380325</td><td>3.197894e-10</td><td>ME_100_4-2:177556567-179584183</td><td>ME_100</td><td>4</td><td>2:177556567-179584183</td><td>2</td><td>177556567</td><td>179584183</td></tr>\n",
       "\t<tr><th scope=row>4</th><td>rs2255167 </td><td>-0.01062098</td><td>0.001719157</td><td>-6.178015</td><td>1.083735e-09</td><td>ME_100_4-2:177556567-179584183</td><td>ME_100</td><td>4</td><td>2:177556567-179584183</td><td>2</td><td>177556567</td><td>179584183</td></tr>\n",
       "\t<tr><th scope=row>5</th><td>rs17076   </td><td>-0.01066857</td><td>0.001732812</td><td>-6.156797</td><td>1.236324e-09</td><td>ME_100_4-2:177556567-179584183</td><td>ME_100</td><td>4</td><td>2:177556567-179584183</td><td>2</td><td>177556567</td><td>179584183</td></tr>\n",
       "\t<tr><th scope=row>6</th><td>rs1043879 </td><td> 0.01012981</td><td>0.001232190</td><td> 8.220983</td><td>1.048905e-15</td><td>ME_101_1-1:24243590-26454176  </td><td>ME_101</td><td>1</td><td>1:24243590-26454176  </td><td>1</td><td> 24243590</td><td> 26454176</td></tr>\n",
       "</tbody>\n",
       "</table>\n"
      ],
      "text/latex": [
       "A data.frame: 6 × 12\n",
       "\\begin{tabular}{r|llllllllllll}\n",
       "  & snp & beta & se & t & p & module.qtl & module & pc & qtl.locus & qtl.locus.chr & qtl.locus.start & qtl.locus.end\\\\\n",
       "  & <chr> & <dbl> & <dbl> & <dbl> & <dbl> & <chr> & <chr> & <chr> & <chr> & <chr> & <dbl> & <dbl>\\\\\n",
       "\\hline\n",
       "\t1 & rs6723399  & -0.01131175 & 0.001791386 & -6.314525 & 4.583147e-10 & ME\\_100\\_4-2:177556567-179584183 & ME\\_100 & 4 & 2:177556567-179584183 & 2 & 177556567 & 179584183\\\\\n",
       "\t2 & rs35504893 & -0.01109997 & 0.001745267 & -6.360043 & 3.582292e-10 & ME\\_100\\_4-2:177556567-179584183 & ME\\_100 & 4 & 2:177556567-179584183 & 2 & 177556567 & 179584183\\\\\n",
       "\t3 & rs16866400 & -0.01081391 & 0.001694884 & -6.380325 & 3.197894e-10 & ME\\_100\\_4-2:177556567-179584183 & ME\\_100 & 4 & 2:177556567-179584183 & 2 & 177556567 & 179584183\\\\\n",
       "\t4 & rs2255167  & -0.01062098 & 0.001719157 & -6.178015 & 1.083735e-09 & ME\\_100\\_4-2:177556567-179584183 & ME\\_100 & 4 & 2:177556567-179584183 & 2 & 177556567 & 179584183\\\\\n",
       "\t5 & rs17076    & -0.01066857 & 0.001732812 & -6.156797 & 1.236324e-09 & ME\\_100\\_4-2:177556567-179584183 & ME\\_100 & 4 & 2:177556567-179584183 & 2 & 177556567 & 179584183\\\\\n",
       "\t6 & rs1043879  &  0.01012981 & 0.001232190 &  8.220983 & 1.048905e-15 & ME\\_101\\_1-1:24243590-26454176   & ME\\_101 & 1 & 1:24243590-26454176   & 1 &  24243590 &  26454176\\\\\n",
       "\\end{tabular}\n"
      ],
      "text/markdown": [
       "\n",
       "A data.frame: 6 × 12\n",
       "\n",
       "| <!--/--> | snp &lt;chr&gt; | beta &lt;dbl&gt; | se &lt;dbl&gt; | t &lt;dbl&gt; | p &lt;dbl&gt; | module.qtl &lt;chr&gt; | module &lt;chr&gt; | pc &lt;chr&gt; | qtl.locus &lt;chr&gt; | qtl.locus.chr &lt;chr&gt; | qtl.locus.start &lt;dbl&gt; | qtl.locus.end &lt;dbl&gt; |\n",
       "|---|---|---|---|---|---|---|---|---|---|---|---|---|\n",
       "| 1 | rs6723399  | -0.01131175 | 0.001791386 | -6.314525 | 4.583147e-10 | ME_100_4-2:177556567-179584183 | ME_100 | 4 | 2:177556567-179584183 | 2 | 177556567 | 179584183 |\n",
       "| 2 | rs35504893 | -0.01109997 | 0.001745267 | -6.360043 | 3.582292e-10 | ME_100_4-2:177556567-179584183 | ME_100 | 4 | 2:177556567-179584183 | 2 | 177556567 | 179584183 |\n",
       "| 3 | rs16866400 | -0.01081391 | 0.001694884 | -6.380325 | 3.197894e-10 | ME_100_4-2:177556567-179584183 | ME_100 | 4 | 2:177556567-179584183 | 2 | 177556567 | 179584183 |\n",
       "| 4 | rs2255167  | -0.01062098 | 0.001719157 | -6.178015 | 1.083735e-09 | ME_100_4-2:177556567-179584183 | ME_100 | 4 | 2:177556567-179584183 | 2 | 177556567 | 179584183 |\n",
       "| 5 | rs17076    | -0.01066857 | 0.001732812 | -6.156797 | 1.236324e-09 | ME_100_4-2:177556567-179584183 | ME_100 | 4 | 2:177556567-179584183 | 2 | 177556567 | 179584183 |\n",
       "| 6 | rs1043879  |  0.01012981 | 0.001232190 |  8.220983 | 1.048905e-15 | ME_101_1-1:24243590-26454176   | ME_101 | 1 | 1:24243590-26454176   | 1 |  24243590 |  26454176 |\n",
       "\n"
      ],
      "text/plain": [
       "  snp        beta        se          t         p           \n",
       "1 rs6723399  -0.01131175 0.001791386 -6.314525 4.583147e-10\n",
       "2 rs35504893 -0.01109997 0.001745267 -6.360043 3.582292e-10\n",
       "3 rs16866400 -0.01081391 0.001694884 -6.380325 3.197894e-10\n",
       "4 rs2255167  -0.01062098 0.001719157 -6.178015 1.083735e-09\n",
       "5 rs17076    -0.01066857 0.001732812 -6.156797 1.236324e-09\n",
       "6 rs1043879   0.01012981 0.001232190  8.220983 1.048905e-15\n",
       "  module.qtl                     module pc qtl.locus             qtl.locus.chr\n",
       "1 ME_100_4-2:177556567-179584183 ME_100 4  2:177556567-179584183 2            \n",
       "2 ME_100_4-2:177556567-179584183 ME_100 4  2:177556567-179584183 2            \n",
       "3 ME_100_4-2:177556567-179584183 ME_100 4  2:177556567-179584183 2            \n",
       "4 ME_100_4-2:177556567-179584183 ME_100 4  2:177556567-179584183 2            \n",
       "5 ME_100_4-2:177556567-179584183 ME_100 4  2:177556567-179584183 2            \n",
       "6 ME_101_1-1:24243590-26454176   ME_101 1  1:24243590-26454176   1            \n",
       "  qtl.locus.start qtl.locus.end\n",
       "1 177556567       179584183    \n",
       "2 177556567       179584183    \n",
       "3 177556567       179584183    \n",
       "4 177556567       179584183    \n",
       "5 177556567       179584183    \n",
       "6  24243590        26454176    "
      ]
     },
     "metadata": {},
     "output_type": "display_data"
    }
   ],
   "source": [
    "head(module.qtl)"
   ]
  },
  {
   "cell_type": "code",
   "execution_count": 8,
   "id": "6f26210e-4cd8-461f-8d10-8fc2d8e24a2a",
   "metadata": {},
   "outputs": [
    {
     "data": {
      "text/html": [
       "<style>\n",
       ".list-inline {list-style: none; margin:0; padding: 0}\n",
       ".list-inline>li {display: inline-block}\n",
       ".list-inline>li:not(:last-child)::after {content: \"\\00b7\"; padding: 0 .5ex}\n",
       "</style>\n",
       "<ol class=list-inline><li>40074</li><li>12</li></ol>\n"
      ],
      "text/latex": [
       "\\begin{enumerate*}\n",
       "\\item 40074\n",
       "\\item 12\n",
       "\\end{enumerate*}\n"
      ],
      "text/markdown": [
       "1. 40074\n",
       "2. 12\n",
       "\n",
       "\n"
      ],
      "text/plain": [
       "[1] 40074    12"
      ]
     },
     "metadata": {},
     "output_type": "display_data"
    }
   ],
   "source": [
    "dim(module.qtl)"
   ]
  },
  {
   "cell_type": "code",
   "execution_count": null,
   "id": "f8e84c6e-2be9-4b84-87d3-78e46cfaaae7",
   "metadata": {},
   "outputs": [],
   "source": [
    "saveRDS(module.qtl, \"~/gains_team282/nikhil/expression/eigengene_sva/mqtl.RDS\")"
   ]
  },
  {
   "cell_type": "code",
   "execution_count": null,
   "id": "0ec4b34a-0d84-42ac-ba45-e80acfdde688",
   "metadata": {},
   "outputs": [],
   "source": []
  }
 ],
 "metadata": {
  "kernelspec": {
   "display_name": "R",
   "language": "R",
   "name": "ir"
  },
  "language_info": {
   "codemirror_mode": "r",
   "file_extension": ".r",
   "mimetype": "text/x-r-source",
   "name": "R",
   "pygments_lexer": "r",
   "version": "4.0.5"
  }
 },
 "nbformat": 4,
 "nbformat_minor": 5
}
