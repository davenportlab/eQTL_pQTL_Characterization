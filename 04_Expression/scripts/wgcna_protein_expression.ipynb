{
 "cells": [
  {
   "cell_type": "markdown",
   "id": "d066ff06-5454-4c8c-8f8c-d8b597785a96",
   "metadata": {},
   "source": [
    "# WGCNA Analysis of Proteins\n",
    "\n",
    "**Created**: 14 October 2021"
   ]
  },
  {
   "cell_type": "markdown",
   "id": "96ad2e64-7acc-4c9a-bb2f-f03be415328b",
   "metadata": {},
   "source": [
    "## Environment"
   ]
  },
  {
   "cell_type": "code",
   "execution_count": 1,
   "id": "b559919c-d7aa-4804-b9f4-7ed037574346",
   "metadata": {},
   "outputs": [
    {
     "name": "stderr",
     "output_type": "stream",
     "text": [
      "Loading required package: dynamicTreeCut\n",
      "\n",
      "Loading required package: fastcluster\n",
      "\n",
      "\n",
      "Attaching package: ‘fastcluster’\n",
      "\n",
      "\n",
      "The following object is masked from ‘package:stats’:\n",
      "\n",
      "    hclust\n",
      "\n",
      "\n",
      "\n",
      "\n",
      "\n",
      "Attaching package: ‘WGCNA’\n",
      "\n",
      "\n",
      "The following object is masked from ‘package:stats’:\n",
      "\n",
      "    cor\n",
      "\n",
      "\n",
      "── \u001b[1mAttaching packages\u001b[22m ───────────────────────────────────────────────────────────────────────────────────────────────────────────────────────────────────────────────────────── tidyverse 1.3.1 ──\n",
      "\n",
      "\u001b[32m✔\u001b[39m \u001b[34mggplot2\u001b[39m 3.3.5     \u001b[32m✔\u001b[39m \u001b[34mpurrr  \u001b[39m 0.3.4\n",
      "\u001b[32m✔\u001b[39m \u001b[34mtibble \u001b[39m 3.1.5     \u001b[32m✔\u001b[39m \u001b[34mdplyr  \u001b[39m 1.0.7\n",
      "\u001b[32m✔\u001b[39m \u001b[34mtidyr  \u001b[39m 1.1.4     \u001b[32m✔\u001b[39m \u001b[34mstringr\u001b[39m 1.4.0\n",
      "\u001b[32m✔\u001b[39m \u001b[34mreadr  \u001b[39m 2.0.2     \u001b[32m✔\u001b[39m \u001b[34mforcats\u001b[39m 0.5.1\n",
      "\n",
      "── \u001b[1mConflicts\u001b[22m ──────────────────────────────────────────────────────────────────────────────────────────────────────────────────────────────────────────────────────────── tidyverse_conflicts() ──\n",
      "\u001b[31m✖\u001b[39m \u001b[34mdplyr\u001b[39m::\u001b[32mfilter()\u001b[39m masks \u001b[34mstats\u001b[39m::filter()\n",
      "\u001b[31m✖\u001b[39m \u001b[34mdplyr\u001b[39m::\u001b[32mlag()\u001b[39m    masks \u001b[34mstats\u001b[39m::lag()\n",
      "\n"
     ]
    }
   ],
   "source": [
    "rm(list=ls())\n",
    "\n",
    "library(WGCNA)\n",
    "library(tidyverse)\n",
    "library(RColorBrewer)\n",
    "\n",
    "options(stringsAsFactors = FALSE)\n",
    "\n",
    "setwd(\"~/eQTL_pQTL_Characterization/\")\n",
    "\n",
    "source(\"04_Expression/scripts/utils/ggplot_theme.R\")"
   ]
  },
  {
   "cell_type": "markdown",
   "id": "4d328fb4-974f-4ca1-ad4f-edefa4df3938",
   "metadata": {},
   "source": [
    "## Load Data"
   ]
  },
  {
   "cell_type": "code",
   "execution_count": 2,
   "id": "5b6c9873-aabc-4581-aab7-884d7ec596d1",
   "metadata": {},
   "outputs": [],
   "source": [
    "protein.exp <- read.csv(\"/lustre/scratch119/humgen/projects/gains_team282/proteomics/MS2019_processed_data/data_291x1860_MS2019.csv\", row.names=1)\n",
    "protein.info <- read.csv(\"/lustre/scratch119/humgen/projects/gains_team282/proteomics/MS2019_processed_data/protein_info_291_MS2019.csv\")\n",
    "sample.info <- read.csv(\"/lustre/scratch119/humgen/projects/gains_team282/proteomics/MS2019_processed_data/sample_info_1860_MS2019.csv\", row.names=1)\n",
    "\n",
    "colnames(protein.exp) <- sapply(strsplit(colnames(protein.exp), \"\\\\.\"), function(x) substring(x[1], 2))\n",
    "protein.exp <- as.data.frame(t(protein.exp))"
   ]
  },
  {
   "cell_type": "markdown",
   "id": "c92a2a9a-7795-4eec-930e-b16b01978337",
   "metadata": {},
   "source": [
    "## WGCNA Checks\n",
    "\n",
    "The following function identifies proteins with excessive missing values and outlier samples. It is generally more important for microarray data."
   ]
  },
  {
   "cell_type": "code",
   "execution_count": 4,
   "id": "612566a4-fa76-426d-a4a3-9fbb3f732fb9",
   "metadata": {},
   "outputs": [
    {
     "name": "stdout",
     "output_type": "stream",
     "text": [
      " Flagging genes and samples with too many missing values...\n",
      "  ..step 1\n"
     ]
    },
    {
     "data": {
      "text/html": [
       "TRUE"
      ],
      "text/latex": [
       "TRUE"
      ],
      "text/markdown": [
       "TRUE"
      ],
      "text/plain": [
       "[1] TRUE"
      ]
     },
     "metadata": {},
     "output_type": "display_data"
    }
   ],
   "source": [
    "gsg <- goodSamplesGenes(protein.exp)\n",
    "gsg$allOK"
   ]
  },
  {
   "cell_type": "markdown",
   "id": "ae0e1ae0-aaa3-49f8-ba84-9c4e34472300",
   "metadata": {},
   "source": [
    "## Soft Threshold\n",
    "\n",
    "The adjacency matrix generated using the correlation function does not fit a scale-free topology. A scaling function is used to generate the appropriate gene degree distribution. A parameter of this scaling function, $\\beta$, is estimated by trying multiple values and checking how well the resulting network fits the assumptions of a scale-free network. Here, I try all integer values in $[1,20]$."
   ]
  },
  {
   "cell_type": "code",
   "execution_count": 5,
   "id": "11264511-891b-47ac-ab5f-9b027583cf1b",
   "metadata": {},
   "outputs": [
    {
     "name": "stderr",
     "output_type": "stream",
     "text": [
      "Warning message:\n",
      "“executing %dopar% sequentially: no parallel backend registered”\n"
     ]
    },
    {
     "name": "stdout",
     "output_type": "stream",
     "text": [
      "   Power SFT.R.sq   slope truncated.R.sq  mean.k. median.k.  max.k.\n",
      "1      1  0.00142 -0.0472        0.76000 2.38e+01  2.43e+01 39.7000\n",
      "2      2  0.51300 -0.9980        0.82400 3.69e+00  3.44e+00  9.4900\n",
      "3      3  0.19800 -2.8500        0.13400 8.40e-01  6.98e-01  3.0900\n",
      "4      4  0.71800 -1.3000        0.86700 2.52e-01  1.83e-01  1.2300\n",
      "5      5  0.20900 -2.4300        0.03420 9.32e-02  5.08e-02  0.6500\n",
      "6      6  0.90400 -1.4900        0.88200 4.12e-02  1.56e-02  0.4450\n",
      "7      7  0.27800 -3.3700        0.12100 2.11e-02  5.17e-03  0.3250\n",
      "8      8  0.18900 -2.5300       -0.03130 1.22e-02  1.58e-03  0.2660\n",
      "9      9  0.19800 -2.6200       -0.01450 7.72e-03  5.47e-04  0.2260\n",
      "10    10  0.25000 -2.9100        0.04360 5.25e-03  2.03e-04  0.1910\n",
      "11    11  0.21800 -2.5500        0.00888 3.75e-03  6.81e-05  0.1620\n",
      "12    12  0.26100 -2.8000        0.08610 2.78e-03  2.31e-05  0.1370\n",
      "13    13  0.30700 -2.8900        0.11000 2.11e-03  7.92e-06  0.1160\n",
      "14    14  0.21700 -2.5000        0.15200 1.64e-03  2.77e-06  0.0987\n",
      "15    15  0.23200 -2.4700        0.14700 1.29e-03  1.01e-06  0.0837\n",
      "16    16  0.25100 -2.4500        0.13500 1.02e-03  3.71e-07  0.0709\n",
      "17    17  0.31600 -2.6400        0.12100 8.22e-04  1.37e-07  0.0601\n",
      "18    18  0.30000 -2.5000        0.15600 6.65e-04  5.08e-08  0.0509\n",
      "19    19  0.31000 -2.4500        0.16000 5.41e-04  1.85e-08  0.0432\n",
      "20    20  0.32500 -2.4200        0.16300 4.42e-04  6.88e-09  0.0366\n"
     ]
    }
   ],
   "source": [
    "if (!file.exists(\"~/gains_team282/nikhil/expression/protein_expression/TOM.matrix.RDS\")) {\n",
    "  \n",
    "  powers = seq(1, 20, by=1)\n",
    "  \n",
    "  soft.thresholds = pickSoftThreshold(protein.exp, powerVector=powers, networkType=\"unsigned\", corFnc=bicor)\n",
    "  \n",
    "  soft.threshold = soft.thresholds$powerEstimate\n",
    "}"
   ]
  },
  {
   "cell_type": "code",
   "execution_count": 6,
   "id": "4ae16aa1-7816-493a-b34a-019b63fa1e5a",
   "metadata": {},
   "outputs": [
    {
     "name": "stdout",
     "output_type": "stream",
     "text": [
      "[1] 6\n"
     ]
    }
   ],
   "source": [
    "print(soft.threshold)"
   ]
  },
  {
   "cell_type": "markdown",
   "id": "5d651077-0be3-43fe-92f9-6964278fe764",
   "metadata": {},
   "source": [
    "## Adjacency and TOM Matrices\n",
    "\n",
    "The adjacency matrix defines the similarity between all genes in the sample data. I am using the [biweight midcorrelation](https://en.wikipedia.org/wiki/Biweight_midcorrelation) (`bicor`) function to estimate similarity. It is a median-based approach that is less sensitive to outliers.\n",
    "\n",
    "I use $\\beta=6$ for the scaling function, which was determined in the previous step. Then, the topological overlap metric (TOM) matrix is generated from the adjacency matrix. For details, check the original WGCNA paper."
   ]
  },
  {
   "cell_type": "code",
   "execution_count": 7,
   "id": "2fbee8c0-dbb1-46fa-9873-530529f8cf4f",
   "metadata": {},
   "outputs": [
    {
     "name": "stdout",
     "output_type": "stream",
     "text": [
      "..connectivity..\n",
      "..matrix multiplication (system BLAS)..\n",
      "..normalization..\n",
      "..done.\n"
     ]
    }
   ],
   "source": [
    "if (!file.exists(\"~/gains_team282/nikhil/expression/protein_expression/TOM.matrix.RDS\")) {\n",
    "  \n",
    "  adjacency.matrix = adjacency(protein.exp, type=\"unsigned\", corFnc=bicor, corOptions=list(use=\"pairwise.complete.obs\", pearsonFallback=\"none\"), power=soft.threshold)\n",
    "  \n",
    "  TOM.matrix = TOMsimilarity(adjacency.matrix)\n",
    "  \n",
    "  dir.create(\"~/gains_team282/nikhil/expression/protein_expression/\", recursive=TRUE)\n",
    "  saveRDS(TOM.matrix, file=\"~/gains_team282/nikhil/expression/protein_expression/TOM.matrix.RDS\")\n",
    "\n",
    "} else {\n",
    "  \n",
    "  TOM.matrix <- readRDS(\"~/gains_team282/nikhil/expression/protein_expression/TOM.matrix.RDS\")\n",
    "}\n",
    "\n",
    "TOM.dist = 1 - TOM.matrix"
   ]
  },
  {
   "cell_type": "markdown",
   "id": "ccf145a6-f83f-4354-bc17-61e2846174be",
   "metadata": {},
   "source": [
    "## Clustering TOM Matrix\n",
    "\n",
    "The gene co-expression modules are generated by clustering the TOM matrix."
   ]
  },
  {
   "cell_type": "code",
   "execution_count": 8,
   "id": "2487195a-53a4-426c-8f09-96f52f82fb9b",
   "metadata": {},
   "outputs": [
    {
     "data": {
      "text/html": [
       "<strong>png:</strong> 2"
      ],
      "text/latex": [
       "\\textbf{png:} 2"
      ],
      "text/markdown": [
       "**png:** 2"
      ],
      "text/plain": [
       "png \n",
       "  2 "
      ]
     },
     "metadata": {},
     "output_type": "display_data"
    },
    {
     "name": "stdout",
     "output_type": "stream",
     "text": [
      " ..cutHeight not given, setting it to 1  ===>  99% of the (truncated) height range in dendro.\n",
      " ..done.\n"
     ]
    }
   ],
   "source": [
    "dendrogram = hclust(as.dist(TOM.dist), method=\"average\")\n",
    "\n",
    "svg(filename=\"04_Expression/results/protein_expression_dendrogram.svg\", width=8, height=5)\n",
    "plot(dendrogram, labels=FALSE, main=\"Protein Expression TOM Dendrogram\")\n",
    "dev.off()\n",
    "\n",
    "dynamic.mods = cutreeDynamic(\n",
    "  dendro=dendrogram, distM=TOM.dist, pamRespectsDendro=FALSE,\n",
    "  minClusterSize = 10\n",
    ")\n",
    "rm(TOM.dist)"
   ]
  },
  {
   "cell_type": "code",
   "execution_count": 10,
   "id": "4caa531b-8661-4a87-81fb-99c8b1a5a548",
   "metadata": {},
   "outputs": [
    {
     "data": {
      "image/png": "[encoded data removed]",
      "text/plain": [
       "Plot with title “Protein Expression TOM Dendrogram”"
      ]
     },
     "metadata": {
      "image/png": {
       "height": 420,
       "width": 420
      }
     },
     "output_type": "display_data"
    }
   ],
   "source": [
    "plot(dendrogram, labels=FALSE, main=\"Protein Expression TOM Dendrogram\")"
   ]
  },
  {
   "cell_type": "markdown",
   "id": "b53045a0-b21a-4f1e-9889-6a7fb6abd80e",
   "metadata": {},
   "source": [
    "## Intra- and Inter-Module Connectivity\n",
    "\n",
    "Connectivity is a measure assigned to each gene that describes how well the gene fits into a certain group of genes. Intra-module connectivity is a measure of how well the gene belongs to the module, Conversely, inter-module connectivity is a measure of how well the gene belongs to all other genes outside the module. Genes that are more \"central\" in the module will tend to have a high intra-module connectivity and a low inter-module connectivity."
   ]
  },
  {
   "cell_type": "code",
   "execution_count": 11,
   "id": "2db95ed7-0cfe-4e09-bd3a-0d85d28b8b91",
   "metadata": {},
   "outputs": [],
   "source": [
    "connectivity <- intramodularConnectivity(TOM.matrix, colors=dynamic.mods)\n",
    "rownames(connectivity) <- colnames(protein.exp)"
   ]
  },
  {
   "cell_type": "markdown",
   "id": "1558defd-105b-4ef3-a57e-3dac945a0997",
   "metadata": {},
   "source": [
    "## Co-Expression Module Size Distribution"
   ]
  },
  {
   "cell_type": "code",
   "execution_count": 12,
   "id": "ef073dd1-8d75-4af2-b39c-9d3571f8d2dc",
   "metadata": {},
   "outputs": [
    {
     "data": {
      "image/png": "[encoded data removed]",
      "text/plain": [
       "plot without title"
      ]
     },
     "metadata": {
      "image/png": {
       "height": 420,
       "width": 420
      }
     },
     "output_type": "display_data"
    }
   ],
   "source": [
    "plot.data <- as.data.frame(table(dynamic.mods)) %>%\n",
    "  dplyr::select(Module=1, Frequency=Freq) %>%\n",
    "  dplyr::filter(Module != 0)\n",
    "\n",
    "ggplot(plot.data) +\n",
    "  geom_col(aes(x=Module, y=Frequency), width=1) +\n",
    "  xlab(\"Module\") + ylab(\"Number of Proteins\") +\n",
    "  ggplot_theme +\n",
    "  theme(axis.text.x=element_blank(), axis.ticks.x=element_blank())\n",
    "ggsave(filename=\"04_Expression/results/protein_coexpression_module_sizes.svg\", width=8, height=5)"
   ]
  },
  {
   "cell_type": "markdown",
   "id": "25ee943b-4a8c-4cc9-a718-fc9a2e10b2ac",
   "metadata": {},
   "source": [
    "## Save Gene Co-Expression Modules\n",
    "\n",
    "I save a the list of genes and their assigned modules, the eigenproteins, the variance explained by each eigenprotein, and the connectivity information for each gene.\n",
    "\n",
    "The modules are labelled `Module_1,Module_2,...`. `Module_0` contains genes that were not assigned to any co-expression module by WGCNA and are therefore labelled as `Unassigned`.\n",
    "\n",
    "The eigenprotein of a given co-expression module is the first principal component of the gene expression for the genes within the module.\n",
    "\n",
    "The variance explained by each eigenprotein tells us how well the eigenprotein captures the overall variation found within the module expression data."
   ]
  },
  {
   "cell_type": "code",
   "execution_count": 16,
   "id": "f1fc9723-21f7-4eec-b481-5eaf9b311ea2",
   "metadata": {},
   "outputs": [],
   "source": [
    "### Module Assignment\n",
    "\n",
    "protein.list <- colnames(protein.exp)\n",
    "\n",
    "mod.assignment <- dynamic.mods\n",
    "mod.labels <- paste0(\"Module_\", mod.assignment)\n",
    "mod.labels[mod.labels == \"Module_0\"] <- \"Unassigned\"\n",
    "\n",
    "modules <- data.frame(\n",
    "  Protein=protein.list,\n",
    "  Module=mod.labels\n",
    ") %>%\n",
    "  dplyr::arrange(Module, Protein)\n",
    "\n",
    "write.csv(modules, \"~/gains_team282/nikhil/expression/protein_expression/modules.csv\", row.names=F)\n",
    "\n",
    "### Eigenproteins\n",
    "\n",
    "eigengenes.result <- moduleEigengenes(protein.exp[mod.labels != \"Unassigned\"], colors=mod.labels[mod.labels != \"Unassigned\"])\n",
    "eigengene.order <- order(as.numeric(sapply(strsplit(colnames(eigengenes.result$eigengenes), \"_\"), function(x) x[2])))\n",
    "\n",
    "eigengenes <- eigengenes.result$eigengenes\n",
    "colnames(eigengenes) <- sapply(strsplit(colnames(eigengenes), \"_\"), function(x) paste0(\"ME_\", x[2]))\n",
    "eigengenes <- eigengenes[,eigengene.order]\n",
    "\n",
    "rownames(eigengenes) <- rownames(protein.exp)\n",
    "\n",
    "write.csv(eigengenes, \"~/gains_team282/nikhil/expression/protein_expression/eigenproteins.csv\")\n",
    "\n",
    "variance.explained <- data.frame(\n",
    "  Module=colnames(eigengenes),\n",
    "  Var.Explained=t(eigengenes.result$varExplained[eigengene.order])[,1]\n",
    ")\n",
    "\n",
    "write.csv(variance.explained, \"~/gains_team282/nikhil/expression/protein_expression/variance.explained.csv\", row.names=F)\n",
    "\n",
    "### Connectivity\n",
    "\n",
    "connectivity <- connectivity[modules$Protein,]\n",
    "connectivity <- cbind(connectivity, modules$Module)\n",
    "colnames(connectivity)[ncol(connectivity)] <- \"Module\"\n",
    "\n",
    "write.csv(connectivity, \"~/gains_team282/nikhil/expression/protein_expression/connectivity.csv\")"
   ]
  },
  {
   "cell_type": "code",
   "execution_count": null,
   "id": "deb641cb-1d74-42e6-9edf-a53a3d1fe42e",
   "metadata": {},
   "outputs": [],
   "source": []
  }
 ],
 "metadata": {
  "kernelspec": {
   "display_name": "R",
   "language": "R",
   "name": "ir"
  },
  "language_info": {
   "codemirror_mode": "r",
   "file_extension": ".r",
   "mimetype": "text/x-r-source",
   "name": "R",
   "pygments_lexer": "r",
   "version": "4.1.1"
  }
 },
 "nbformat": 4,
 "nbformat_minor": 5
}
