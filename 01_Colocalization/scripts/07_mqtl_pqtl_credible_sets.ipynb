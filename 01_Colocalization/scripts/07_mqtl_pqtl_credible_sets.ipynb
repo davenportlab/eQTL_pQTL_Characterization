{
 "cells": [
  {
   "cell_type": "markdown",
   "id": "738610cb-ce2c-4646-bf13-e1119f1f2df2",
   "metadata": {},
   "source": [
    "# Module QTL and pQTL Credible Sets\n",
    "\n",
    "**Created**: 24 June 2022"
   ]
  },
  {
   "cell_type": "markdown",
   "id": "af2b384e-05d4-44d8-9da7-a39888b0a585",
   "metadata": {},
   "source": [
    "## Environment"
   ]
  },
  {
   "cell_type": "code",
   "execution_count": 1,
   "id": "328f0918-c667-420e-a5a5-3fce333f430a",
   "metadata": {},
   "outputs": [
    {
     "name": "stderr",
     "output_type": "stream",
     "text": [
      "── \u001b[1mAttaching packages\u001b[22m ───────────────────────────────────────────────────────────────────────────────────────────────────────────────────────────────────────────────────────────────────────────── tidyverse 1.3.1 ──\n",
      "\n",
      "\u001b[32m✔\u001b[39m \u001b[34mggplot2\u001b[39m 3.3.6     \u001b[32m✔\u001b[39m \u001b[34mpurrr  \u001b[39m 0.3.4\n",
      "\u001b[32m✔\u001b[39m \u001b[34mtibble \u001b[39m 3.1.7     \u001b[32m✔\u001b[39m \u001b[34mdplyr  \u001b[39m 1.0.8\n",
      "\u001b[32m✔\u001b[39m \u001b[34mtidyr  \u001b[39m 1.2.0     \u001b[32m✔\u001b[39m \u001b[34mstringr\u001b[39m 1.4.0\n",
      "\u001b[32m✔\u001b[39m \u001b[34mreadr  \u001b[39m 2.1.1     \u001b[32m✔\u001b[39m \u001b[34mforcats\u001b[39m 0.5.1\n",
      "\n",
      "── \u001b[1mConflicts\u001b[22m ──────────────────────────────────────────────────────────────────────────────────────────────────────────────────────────────────────────────────────────────────────────────── tidyverse_conflicts() ──\n",
      "\u001b[31m✖\u001b[39m \u001b[34mdplyr\u001b[39m::\u001b[32mfilter()\u001b[39m masks \u001b[34mstats\u001b[39m::filter()\n",
      "\u001b[31m✖\u001b[39m \u001b[34mdplyr\u001b[39m::\u001b[32mlag()\u001b[39m    masks \u001b[34mstats\u001b[39m::lag()\n",
      "\n",
      "\n",
      "Attaching package: ‘data.table’\n",
      "\n",
      "\n",
      "The following objects are masked from ‘package:dplyr’:\n",
      "\n",
      "    between, first, last\n",
      "\n",
      "\n",
      "The following object is masked from ‘package:purrr’:\n",
      "\n",
      "    transpose\n",
      "\n",
      "\n",
      "Loading required package: grid\n",
      "\n",
      "========================================\n",
      "ComplexHeatmap version 2.6.2\n",
      "Bioconductor page: http://bioconductor.org/packages/ComplexHeatmap/\n",
      "Github page: https://github.com/jokergoo/ComplexHeatmap\n",
      "Documentation: http://jokergoo.github.io/ComplexHeatmap-reference\n",
      "\n",
      "If you use it in published research, please cite:\n",
      "Gu, Z. Complex heatmaps reveal patterns and correlations in multidimensional \n",
      "  genomic data. Bioinformatics 2016.\n",
      "\n",
      "This message can be suppressed by:\n",
      "  suppressPackageStartupMessages(library(ComplexHeatmap))\n",
      "========================================\n",
      "\n",
      "\n",
      "========================================\n",
      "circlize version 0.4.13\n",
      "CRAN page: https://cran.r-project.org/package=circlize\n",
      "Github page: https://github.com/jokergoo/circlize\n",
      "Documentation: https://jokergoo.github.io/circlize_book/book/\n",
      "\n",
      "If you use it in published research, please cite:\n",
      "Gu, Z. circlize implements and enhances circular visualization\n",
      "  in R. Bioinformatics 2014.\n",
      "\n",
      "This message can be suppressed by:\n",
      "  suppressPackageStartupMessages(library(circlize))\n",
      "========================================\n",
      "\n",
      "\n"
     ]
    }
   ],
   "source": [
    "library(tidyverse)\n",
    "library(data.table)\n",
    "library(ComplexHeatmap)\n",
    "library(circlize)\n",
    "\n",
    "setwd(\"~/eQTL_pQTL_Characterization/\")\n",
    "\n",
    "source(\"01_Colocalization/scripts/utils/ggplot_theme.R\")"
   ]
  },
  {
   "cell_type": "markdown",
   "id": "f3a280a9-4897-45da-b8d0-c9cabe899359",
   "metadata": {},
   "source": [
    "## Module QTL"
   ]
  },
  {
   "cell_type": "markdown",
   "id": "9a82db67-070e-467f-8520-2ea714acb9e2",
   "metadata": {
    "tags": []
   },
   "source": [
    "### Load Data"
   ]
  },
  {
   "cell_type": "code",
   "execution_count": 2,
   "id": "c36df90a-fd5a-46dc-bc6d-9f63c2fca389",
   "metadata": {},
   "outputs": [],
   "source": [
    "mqtl <- readRDS(\"~/gains_team282/nikhil/expression/eigengene_sva/mqtl.RDS\") %>%\n",
    "    dplyr::group_by(module.qtl) %>%\n",
    "    dplyr::slice_min(p, n=1, with_ties=F)"
   ]
  },
  {
   "cell_type": "code",
   "execution_count": 3,
   "id": "6ff45dbc-ae4c-428e-b4ab-a5fb0705ebbc",
   "metadata": {},
   "outputs": [],
   "source": [
    "ld.tags <- fread(\"~/gains_team282/nikhil/colocalization/cis_eqtl/fine_mapping/LD/module_qtl_snps.80r2.tags.tsv\") %>%\n",
    "    dplyr::mutate(NTAG = NTAG + 1) %>%\n",
    "    dplyr::mutate(SNP = gsub(\":\", \"\\\\.\", SNP)) %>%\n",
    "    merge(mqtl, ., by.x=\"snp\", by.y=\"SNP\")"
   ]
  },
  {
   "cell_type": "code",
   "execution_count": 4,
   "id": "861da189-2b77-48fd-b670-ef81328e80e8",
   "metadata": {},
   "outputs": [
    {
     "data": {
      "text/html": [
       "<table class=\"dataframe\">\n",
       "<caption>A data.frame: 6 × 19</caption>\n",
       "<thead>\n",
       "\t<tr><th></th><th scope=col>snp</th><th scope=col>beta</th><th scope=col>se</th><th scope=col>t</th><th scope=col>p</th><th scope=col>module.qtl</th><th scope=col>module</th><th scope=col>pc</th><th scope=col>qtl.locus</th><th scope=col>qtl.locus.chr</th><th scope=col>qtl.locus.start</th><th scope=col>qtl.locus.end</th><th scope=col>CHR</th><th scope=col>BP</th><th scope=col>NTAG</th><th scope=col>LEFT</th><th scope=col>RIGHT</th><th scope=col>KBSPAN</th><th scope=col>TAGS</th></tr>\n",
       "\t<tr><th></th><th scope=col>&lt;chr&gt;</th><th scope=col>&lt;dbl&gt;</th><th scope=col>&lt;dbl&gt;</th><th scope=col>&lt;dbl&gt;</th><th scope=col>&lt;dbl&gt;</th><th scope=col>&lt;chr&gt;</th><th scope=col>&lt;chr&gt;</th><th scope=col>&lt;chr&gt;</th><th scope=col>&lt;chr&gt;</th><th scope=col>&lt;chr&gt;</th><th scope=col>&lt;dbl&gt;</th><th scope=col>&lt;dbl&gt;</th><th scope=col>&lt;int&gt;</th><th scope=col>&lt;int&gt;</th><th scope=col>&lt;dbl&gt;</th><th scope=col>&lt;int&gt;</th><th scope=col>&lt;int&gt;</th><th scope=col>&lt;dbl&gt;</th><th scope=col>&lt;chr&gt;</th></tr>\n",
       "</thead>\n",
       "<tbody>\n",
       "\t<tr><th scope=row>1</th><td>rs10102731</td><td> 0.013791130</td><td>0.001211166</td><td> 11.386653</td><td> 5.952716e-27</td><td>ME_82_5-8:758509-2772923   </td><td>ME_82</td><td>5</td><td>8:758509-2772923   </td><td>8 </td><td>  758509</td><td> 2772923</td><td> 8</td><td> 1760854</td><td>19</td><td> 1757875</td><td> 1768870</td><td>10.996</td><td>rs7842425|rs7846610|rs6558531|rs7838456|rs730377|rs4372027|rs4639549|rs730379|rs4370560|rs7460287|rs6558532|rs4876133|rs6558535|rs9022|rs71499040|rs7461600|rs7000162|rs11136424                                                                                                                                                                                                                                                                                                                                                                                   </td></tr>\n",
       "\t<tr><th scope=row>2</th><td>rs10185660</td><td>-0.012448741</td><td>0.001888039</td><td> -6.593479</td><td> 8.942065e-11</td><td>ME_79_5-2:87163718-89163717</td><td>ME_79</td><td>5</td><td>2:87163718-89163717</td><td>2 </td><td>87163718</td><td>89163717</td><td> 2</td><td>88163718</td><td> 1</td><td>88163718</td><td>88163718</td><td> 0.001</td><td>NONE                                                                                                                                                                                                                                                                                                                                                                                                                                                                                                                                                               </td></tr>\n",
       "\t<tr><th scope=row>3</th><td>rs10204661</td><td> 0.022565851</td><td>0.002163238</td><td> 10.431515</td><td> 1.196171e-23</td><td>ME_91_5-2:48583292-50593069</td><td>ME_91</td><td>5</td><td>2:48583292-50593069</td><td>2 </td><td>48583292</td><td>50593069</td><td> 2</td><td>49610377</td><td>28</td><td>49574097</td><td>49617654</td><td>43.558</td><td>rs13385302|rs72829071|rs67439369|rs13422391|rs145101627|rs111692634|rs1587367|rs1827081|rs13410249|rs66994500|rs1498798|rs72829088|rs67284527|rs17039056|rs1498800|rs12053201|rs2162518|rs4482528|rs12052379|rs13388647|rs13428781|rs2081739|rs1391745|rs56178651|rs56102385|rs10183678|rs10432669                                                                                                                                                                                                                                                                 </td></tr>\n",
       "\t<tr><th scope=row>4</th><td>rs1023252 </td><td>-0.008765743</td><td>0.001058973</td><td> -8.277586</td><td> 7.905607e-16</td><td>ME_62_4-1:10790946-12845916</td><td>ME_62</td><td>4</td><td>1:10790946-12845916</td><td>1 </td><td>10790946</td><td>12845916</td><td> 1</td><td>11838976</td><td> 3</td><td>11790946</td><td>11838976</td><td>48.031</td><td>rs3818762|rs1476413                                                                                                                                                                                                                                                                                                                                                                                                                                                                                                                                                </td></tr>\n",
       "\t<tr><th scope=row>5</th><td>rs106968  </td><td>-0.136301897</td><td>0.002125930</td><td>-64.114007</td><td>2.370055e-281</td><td>ME_90_4-1:6809988-8943003  </td><td>ME_90</td><td>4</td><td>1:6809988-8943003  </td><td>1 </td><td> 6809988</td><td> 8943003</td><td> 1</td><td> 7914484</td><td>56</td><td> 7899009</td><td> 7941406</td><td>42.398</td><td>rs58969455|rs60053761|rs58911040|rs12403520|rs12404402|rs72550038|rs12563693|rs12564368|rs12404742|rs12403908|rs75866446|rs12404752|rs78617231|rs12068202|rs76391507|rs12407642|rs10489448|rs12405361|rs12405385|rs12405387|rs12404522|rs79314241|rs77615777|rs78539762|rs664689|rs666068|rs161805|rs161803|rs12564367|rs226479|rs161824|rs161825|rs161826|rs226480|rs161827|rs11121054|rs226481|rs226482|rs226483|rs161818|rs161819|rs161820|rs161821|rs161822|rs226484|rs226485|rs226486|rs161823|rs537801|rs531329|rs9657975|rs161813|rs161811|rs161810|rs519546</td></tr>\n",
       "\t<tr><th scope=row>6</th><td>rs11045643</td><td>-0.007639117</td><td>0.001153445</td><td> -6.622869</td><td> 7.064571e-11</td><td>ME_95_1-12:7472294-9515684 </td><td>ME_95</td><td>1</td><td>12:7472294-9515684 </td><td>12</td><td> 7472294</td><td> 9515684</td><td>12</td><td> 8479660</td><td>15</td><td> 8472294</td><td> 8490033</td><td>17.740</td><td>rs7976958|rs4334073|rs4883164|rs113154236|rs75944521|rs10770775|rs10770776|rs11045708|rs12304190|rs12308954|rs12302854|rs12322968|rs7964875|rs11045757                                                                                                                                                                                                                                                                                                                                                                                                             </td></tr>\n",
       "</tbody>\n",
       "</table>\n"
      ],
      "text/latex": [
       "A data.frame: 6 × 19\n",
       "\\begin{tabular}{r|lllllllllllllllllll}\n",
       "  & snp & beta & se & t & p & module.qtl & module & pc & qtl.locus & qtl.locus.chr & qtl.locus.start & qtl.locus.end & CHR & BP & NTAG & LEFT & RIGHT & KBSPAN & TAGS\\\\\n",
       "  & <chr> & <dbl> & <dbl> & <dbl> & <dbl> & <chr> & <chr> & <chr> & <chr> & <chr> & <dbl> & <dbl> & <int> & <int> & <dbl> & <int> & <int> & <dbl> & <chr>\\\\\n",
       "\\hline\n",
       "\t1 & rs10102731 &  0.013791130 & 0.001211166 &  11.386653 &  5.952716e-27 & ME\\_82\\_5-8:758509-2772923    & ME\\_82 & 5 & 8:758509-2772923    & 8  &   758509 &  2772923 &  8 &  1760854 & 19 &  1757875 &  1768870 & 10.996 & rs7842425\\textbar{}rs7846610\\textbar{}rs6558531\\textbar{}rs7838456\\textbar{}rs730377\\textbar{}rs4372027\\textbar{}rs4639549\\textbar{}rs730379\\textbar{}rs4370560\\textbar{}rs7460287\\textbar{}rs6558532\\textbar{}rs4876133\\textbar{}rs6558535\\textbar{}rs9022\\textbar{}rs71499040\\textbar{}rs7461600\\textbar{}rs7000162\\textbar{}rs11136424                                                                                                                                                                                                                                                                                                                                                                                   \\\\\n",
       "\t2 & rs10185660 & -0.012448741 & 0.001888039 &  -6.593479 &  8.942065e-11 & ME\\_79\\_5-2:87163718-89163717 & ME\\_79 & 5 & 2:87163718-89163717 & 2  & 87163718 & 89163717 &  2 & 88163718 &  1 & 88163718 & 88163718 &  0.001 & NONE                                                                                                                                                                                                                                                                                                                                                                                                                                                                                                                                                               \\\\\n",
       "\t3 & rs10204661 &  0.022565851 & 0.002163238 &  10.431515 &  1.196171e-23 & ME\\_91\\_5-2:48583292-50593069 & ME\\_91 & 5 & 2:48583292-50593069 & 2  & 48583292 & 50593069 &  2 & 49610377 & 28 & 49574097 & 49617654 & 43.558 & rs13385302\\textbar{}rs72829071\\textbar{}rs67439369\\textbar{}rs13422391\\textbar{}rs145101627\\textbar{}rs111692634\\textbar{}rs1587367\\textbar{}rs1827081\\textbar{}rs13410249\\textbar{}rs66994500\\textbar{}rs1498798\\textbar{}rs72829088\\textbar{}rs67284527\\textbar{}rs17039056\\textbar{}rs1498800\\textbar{}rs12053201\\textbar{}rs2162518\\textbar{}rs4482528\\textbar{}rs12052379\\textbar{}rs13388647\\textbar{}rs13428781\\textbar{}rs2081739\\textbar{}rs1391745\\textbar{}rs56178651\\textbar{}rs56102385\\textbar{}rs10183678\\textbar{}rs10432669                                                                                                                                                                                                                                                                 \\\\\n",
       "\t4 & rs1023252  & -0.008765743 & 0.001058973 &  -8.277586 &  7.905607e-16 & ME\\_62\\_4-1:10790946-12845916 & ME\\_62 & 4 & 1:10790946-12845916 & 1  & 10790946 & 12845916 &  1 & 11838976 &  3 & 11790946 & 11838976 & 48.031 & rs3818762\\textbar{}rs1476413                                                                                                                                                                                                                                                                                                                                                                                                                                                                                                                                                \\\\\n",
       "\t5 & rs106968   & -0.136301897 & 0.002125930 & -64.114007 & 2.370055e-281 & ME\\_90\\_4-1:6809988-8943003   & ME\\_90 & 4 & 1:6809988-8943003   & 1  &  6809988 &  8943003 &  1 &  7914484 & 56 &  7899009 &  7941406 & 42.398 & rs58969455\\textbar{}rs60053761\\textbar{}rs58911040\\textbar{}rs12403520\\textbar{}rs12404402\\textbar{}rs72550038\\textbar{}rs12563693\\textbar{}rs12564368\\textbar{}rs12404742\\textbar{}rs12403908\\textbar{}rs75866446\\textbar{}rs12404752\\textbar{}rs78617231\\textbar{}rs12068202\\textbar{}rs76391507\\textbar{}rs12407642\\textbar{}rs10489448\\textbar{}rs12405361\\textbar{}rs12405385\\textbar{}rs12405387\\textbar{}rs12404522\\textbar{}rs79314241\\textbar{}rs77615777\\textbar{}rs78539762\\textbar{}rs664689\\textbar{}rs666068\\textbar{}rs161805\\textbar{}rs161803\\textbar{}rs12564367\\textbar{}rs226479\\textbar{}rs161824\\textbar{}rs161825\\textbar{}rs161826\\textbar{}rs226480\\textbar{}rs161827\\textbar{}rs11121054\\textbar{}rs226481\\textbar{}rs226482\\textbar{}rs226483\\textbar{}rs161818\\textbar{}rs161819\\textbar{}rs161820\\textbar{}rs161821\\textbar{}rs161822\\textbar{}rs226484\\textbar{}rs226485\\textbar{}rs226486\\textbar{}rs161823\\textbar{}rs537801\\textbar{}rs531329\\textbar{}rs9657975\\textbar{}rs161813\\textbar{}rs161811\\textbar{}rs161810\\textbar{}rs519546\\\\\n",
       "\t6 & rs11045643 & -0.007639117 & 0.001153445 &  -6.622869 &  7.064571e-11 & ME\\_95\\_1-12:7472294-9515684  & ME\\_95 & 1 & 12:7472294-9515684  & 12 &  7472294 &  9515684 & 12 &  8479660 & 15 &  8472294 &  8490033 & 17.740 & rs7976958\\textbar{}rs4334073\\textbar{}rs4883164\\textbar{}rs113154236\\textbar{}rs75944521\\textbar{}rs10770775\\textbar{}rs10770776\\textbar{}rs11045708\\textbar{}rs12304190\\textbar{}rs12308954\\textbar{}rs12302854\\textbar{}rs12322968\\textbar{}rs7964875\\textbar{}rs11045757                                                                                                                                                                                                                                                                                                                                                                                                             \\\\\n",
       "\\end{tabular}\n"
      ],
      "text/markdown": [
       "\n",
       "A data.frame: 6 × 19\n",
       "\n",
       "| <!--/--> | snp &lt;chr&gt; | beta &lt;dbl&gt; | se &lt;dbl&gt; | t &lt;dbl&gt; | p &lt;dbl&gt; | module.qtl &lt;chr&gt; | module &lt;chr&gt; | pc &lt;chr&gt; | qtl.locus &lt;chr&gt; | qtl.locus.chr &lt;chr&gt; | qtl.locus.start &lt;dbl&gt; | qtl.locus.end &lt;dbl&gt; | CHR &lt;int&gt; | BP &lt;int&gt; | NTAG &lt;dbl&gt; | LEFT &lt;int&gt; | RIGHT &lt;int&gt; | KBSPAN &lt;dbl&gt; | TAGS &lt;chr&gt; |\n",
       "|---|---|---|---|---|---|---|---|---|---|---|---|---|---|---|---|---|---|---|---|\n",
       "| 1 | rs10102731 |  0.013791130 | 0.001211166 |  11.386653 |  5.952716e-27 | ME_82_5-8:758509-2772923    | ME_82 | 5 | 8:758509-2772923    | 8  |   758509 |  2772923 |  8 |  1760854 | 19 |  1757875 |  1768870 | 10.996 | rs7842425|rs7846610|rs6558531|rs7838456|rs730377|rs4372027|rs4639549|rs730379|rs4370560|rs7460287|rs6558532|rs4876133|rs6558535|rs9022|rs71499040|rs7461600|rs7000162|rs11136424                                                                                                                                                                                                                                                                                                                                                                                    |\n",
       "| 2 | rs10185660 | -0.012448741 | 0.001888039 |  -6.593479 |  8.942065e-11 | ME_79_5-2:87163718-89163717 | ME_79 | 5 | 2:87163718-89163717 | 2  | 87163718 | 89163717 |  2 | 88163718 |  1 | 88163718 | 88163718 |  0.001 | NONE                                                                                                                                                                                                                                                                                                                                                                                                                                                                                                                                                                |\n",
       "| 3 | rs10204661 |  0.022565851 | 0.002163238 |  10.431515 |  1.196171e-23 | ME_91_5-2:48583292-50593069 | ME_91 | 5 | 2:48583292-50593069 | 2  | 48583292 | 50593069 |  2 | 49610377 | 28 | 49574097 | 49617654 | 43.558 | rs13385302|rs72829071|rs67439369|rs13422391|rs145101627|rs111692634|rs1587367|rs1827081|rs13410249|rs66994500|rs1498798|rs72829088|rs67284527|rs17039056|rs1498800|rs12053201|rs2162518|rs4482528|rs12052379|rs13388647|rs13428781|rs2081739|rs1391745|rs56178651|rs56102385|rs10183678|rs10432669                                                                                                                                                                                                                                                                  |\n",
       "| 4 | rs1023252  | -0.008765743 | 0.001058973 |  -8.277586 |  7.905607e-16 | ME_62_4-1:10790946-12845916 | ME_62 | 4 | 1:10790946-12845916 | 1  | 10790946 | 12845916 |  1 | 11838976 |  3 | 11790946 | 11838976 | 48.031 | rs3818762|rs1476413                                                                                                                                                                                                                                                                                                                                                                                                                                                                                                                                                 |\n",
       "| 5 | rs106968   | -0.136301897 | 0.002125930 | -64.114007 | 2.370055e-281 | ME_90_4-1:6809988-8943003   | ME_90 | 4 | 1:6809988-8943003   | 1  |  6809988 |  8943003 |  1 |  7914484 | 56 |  7899009 |  7941406 | 42.398 | rs58969455|rs60053761|rs58911040|rs12403520|rs12404402|rs72550038|rs12563693|rs12564368|rs12404742|rs12403908|rs75866446|rs12404752|rs78617231|rs12068202|rs76391507|rs12407642|rs10489448|rs12405361|rs12405385|rs12405387|rs12404522|rs79314241|rs77615777|rs78539762|rs664689|rs666068|rs161805|rs161803|rs12564367|rs226479|rs161824|rs161825|rs161826|rs226480|rs161827|rs11121054|rs226481|rs226482|rs226483|rs161818|rs161819|rs161820|rs161821|rs161822|rs226484|rs226485|rs226486|rs161823|rs537801|rs531329|rs9657975|rs161813|rs161811|rs161810|rs519546 |\n",
       "| 6 | rs11045643 | -0.007639117 | 0.001153445 |  -6.622869 |  7.064571e-11 | ME_95_1-12:7472294-9515684  | ME_95 | 1 | 12:7472294-9515684  | 12 |  7472294 |  9515684 | 12 |  8479660 | 15 |  8472294 |  8490033 | 17.740 | rs7976958|rs4334073|rs4883164|rs113154236|rs75944521|rs10770775|rs10770776|rs11045708|rs12304190|rs12308954|rs12302854|rs12322968|rs7964875|rs11045757                                                                                                                                                                                                                                                                                                                                                                                                              |\n",
       "\n"
      ],
      "text/plain": [
       "  snp        beta         se          t          p            \n",
       "1 rs10102731  0.013791130 0.001211166  11.386653  5.952716e-27\n",
       "2 rs10185660 -0.012448741 0.001888039  -6.593479  8.942065e-11\n",
       "3 rs10204661  0.022565851 0.002163238  10.431515  1.196171e-23\n",
       "4 rs1023252  -0.008765743 0.001058973  -8.277586  7.905607e-16\n",
       "5 rs106968   -0.136301897 0.002125930 -64.114007 2.370055e-281\n",
       "6 rs11045643 -0.007639117 0.001153445  -6.622869  7.064571e-11\n",
       "  module.qtl                  module pc qtl.locus           qtl.locus.chr\n",
       "1 ME_82_5-8:758509-2772923    ME_82  5  8:758509-2772923    8            \n",
       "2 ME_79_5-2:87163718-89163717 ME_79  5  2:87163718-89163717 2            \n",
       "3 ME_91_5-2:48583292-50593069 ME_91  5  2:48583292-50593069 2            \n",
       "4 ME_62_4-1:10790946-12845916 ME_62  4  1:10790946-12845916 1            \n",
       "5 ME_90_4-1:6809988-8943003   ME_90  4  1:6809988-8943003   1            \n",
       "6 ME_95_1-12:7472294-9515684  ME_95  1  12:7472294-9515684  12           \n",
       "  qtl.locus.start qtl.locus.end CHR BP       NTAG LEFT     RIGHT    KBSPAN\n",
       "1   758509         2772923       8   1760854 19    1757875  1768870 10.996\n",
       "2 87163718        89163717       2  88163718  1   88163718 88163718  0.001\n",
       "3 48583292        50593069       2  49610377 28   49574097 49617654 43.558\n",
       "4 10790946        12845916       1  11838976  3   11790946 11838976 48.031\n",
       "5  6809988         8943003       1   7914484 56    7899009  7941406 42.398\n",
       "6  7472294         9515684      12   8479660 15    8472294  8490033 17.740\n",
       "  TAGS                                                                                                                                                                                                                                                                                                                                                                                                                                                                                                                                                               \n",
       "1 rs7842425|rs7846610|rs6558531|rs7838456|rs730377|rs4372027|rs4639549|rs730379|rs4370560|rs7460287|rs6558532|rs4876133|rs6558535|rs9022|rs71499040|rs7461600|rs7000162|rs11136424                                                                                                                                                                                                                                                                                                                                                                                   \n",
       "2 NONE                                                                                                                                                                                                                                                                                                                                                                                                                                                                                                                                                               \n",
       "3 rs13385302|rs72829071|rs67439369|rs13422391|rs145101627|rs111692634|rs1587367|rs1827081|rs13410249|rs66994500|rs1498798|rs72829088|rs67284527|rs17039056|rs1498800|rs12053201|rs2162518|rs4482528|rs12052379|rs13388647|rs13428781|rs2081739|rs1391745|rs56178651|rs56102385|rs10183678|rs10432669                                                                                                                                                                                                                                                                 \n",
       "4 rs3818762|rs1476413                                                                                                                                                                                                                                                                                                                                                                                                                                                                                                                                                \n",
       "5 rs58969455|rs60053761|rs58911040|rs12403520|rs12404402|rs72550038|rs12563693|rs12564368|rs12404742|rs12403908|rs75866446|rs12404752|rs78617231|rs12068202|rs76391507|rs12407642|rs10489448|rs12405361|rs12405385|rs12405387|rs12404522|rs79314241|rs77615777|rs78539762|rs664689|rs666068|rs161805|rs161803|rs12564367|rs226479|rs161824|rs161825|rs161826|rs226480|rs161827|rs11121054|rs226481|rs226482|rs226483|rs161818|rs161819|rs161820|rs161821|rs161822|rs226484|rs226485|rs226486|rs161823|rs537801|rs531329|rs9657975|rs161813|rs161811|rs161810|rs519546\n",
       "6 rs7976958|rs4334073|rs4883164|rs113154236|rs75944521|rs10770775|rs10770776|rs11045708|rs12304190|rs12308954|rs12302854|rs12322968|rs7964875|rs11045757                                                                                                                                                                                                                                                                                                                                                                                                             "
      ]
     },
     "metadata": {},
     "output_type": "display_data"
    }
   ],
   "source": [
    "head(ld.tags)"
   ]
  },
  {
   "cell_type": "code",
   "execution_count": 5,
   "id": "30c3f93f-e41a-4e88-ba83-9efcf6184980",
   "metadata": {},
   "outputs": [],
   "source": [
    "susie.snps <- read.table(\"~/gains_team282/nikhil/colocalization/mqtl/fine_mapping/SuSiE/module_qtl_credible_sets.tsv\", sep=\"\\t\", header=T) %>%\n",
    "    as.data.frame() %>%\n",
    "    dplyr::filter(is.na(Notes)) %>%\n",
    "    dplyr::select(-Notes) %>%\n",
    "    dplyr::mutate(ME=gsub(\"-.*\", \"\", Gene)) %>%\n",
    "    dplyr::mutate(qtl.locus=gsub(\"ME_[0-9]*_[0-9]-\", \"\", Gene)) %>%\n",
    "    dplyr::mutate(qtl.locus.chr=gsub(\":.*\", \"\", qtl.locus)) %>%\n",
    "    dplyr::mutate(qtl.locus.start=gsub(\"-.*\", \"\", gsub(\".*:\", \"\", qtl.locus))) %>%\n",
    "    dplyr::mutate(qtl.locus.end=gsub(\".*-\", \"\", gsub(\".*:\", \"\", qtl.locus)))"
   ]
  },
  {
   "cell_type": "code",
   "execution_count": 6,
   "id": "353e00d4-5134-44d5-a86f-a48fb0814672",
   "metadata": {},
   "outputs": [
    {
     "data": {
      "text/html": [
       "<table class=\"dataframe\">\n",
       "<caption>A data.frame: 6 × 9</caption>\n",
       "<thead>\n",
       "\t<tr><th></th><th scope=col>Gene</th><th scope=col>SNP</th><th scope=col>SNP_Prob</th><th scope=col>Credible_Set</th><th scope=col>ME</th><th scope=col>qtl.locus</th><th scope=col>qtl.locus.chr</th><th scope=col>qtl.locus.start</th><th scope=col>qtl.locus.end</th></tr>\n",
       "\t<tr><th></th><th scope=col>&lt;chr&gt;</th><th scope=col>&lt;chr&gt;</th><th scope=col>&lt;dbl&gt;</th><th scope=col>&lt;int&gt;</th><th scope=col>&lt;chr&gt;</th><th scope=col>&lt;chr&gt;</th><th scope=col>&lt;chr&gt;</th><th scope=col>&lt;chr&gt;</th><th scope=col>&lt;chr&gt;</th></tr>\n",
       "</thead>\n",
       "<tbody>\n",
       "\t<tr><th scope=row>1</th><td>ME_54_4-3:43721338-45721337  </td><td>rs56084453</td><td>0.99982909</td><td>1</td><td>ME_54_4 </td><td>3:43721338-45721337 </td><td>3 </td><td>43721338</td><td>45721337</td></tr>\n",
       "\t<tr><th scope=row>2</th><td>ME_61_2-16:29176355-31186829 </td><td>rs1132812 </td><td>0.62937906</td><td>1</td><td>ME_61_2 </td><td>16:29176355-31186829</td><td>16</td><td>29176355</td><td>31186829</td></tr>\n",
       "\t<tr><th scope=row>3</th><td>ME_61_2-16:29176355-31186829 </td><td>rs12373078</td><td>0.36433025</td><td>1</td><td>ME_61_2 </td><td>16:29176355-31186829</td><td>16</td><td>29176355</td><td>31186829</td></tr>\n",
       "\t<tr><th scope=row>4</th><td>ME_101_3-12:54985643-57100037</td><td>rs1131017 </td><td>0.99974616</td><td>1</td><td>ME_101_3</td><td>12:54985643-57100037</td><td>12</td><td>54985643</td><td>57100037</td></tr>\n",
       "\t<tr><th scope=row>5</th><td>ME_61_3-16:29176355-31186829 </td><td>rs1132812 </td><td>0.99123804</td><td>1</td><td>ME_61_3 </td><td>16:29176355-31186829</td><td>16</td><td>29176355</td><td>31186829</td></tr>\n",
       "\t<tr><th scope=row>6</th><td>ME_54_5-3:43721338-45721337  </td><td>rs2034476 </td><td>0.01584294</td><td>1</td><td>ME_54_5 </td><td>3:43721338-45721337 </td><td>3 </td><td>43721338</td><td>45721337</td></tr>\n",
       "</tbody>\n",
       "</table>\n"
      ],
      "text/latex": [
       "A data.frame: 6 × 9\n",
       "\\begin{tabular}{r|lllllllll}\n",
       "  & Gene & SNP & SNP\\_Prob & Credible\\_Set & ME & qtl.locus & qtl.locus.chr & qtl.locus.start & qtl.locus.end\\\\\n",
       "  & <chr> & <chr> & <dbl> & <int> & <chr> & <chr> & <chr> & <chr> & <chr>\\\\\n",
       "\\hline\n",
       "\t1 & ME\\_54\\_4-3:43721338-45721337   & rs56084453 & 0.99982909 & 1 & ME\\_54\\_4  & 3:43721338-45721337  & 3  & 43721338 & 45721337\\\\\n",
       "\t2 & ME\\_61\\_2-16:29176355-31186829  & rs1132812  & 0.62937906 & 1 & ME\\_61\\_2  & 16:29176355-31186829 & 16 & 29176355 & 31186829\\\\\n",
       "\t3 & ME\\_61\\_2-16:29176355-31186829  & rs12373078 & 0.36433025 & 1 & ME\\_61\\_2  & 16:29176355-31186829 & 16 & 29176355 & 31186829\\\\\n",
       "\t4 & ME\\_101\\_3-12:54985643-57100037 & rs1131017  & 0.99974616 & 1 & ME\\_101\\_3 & 12:54985643-57100037 & 12 & 54985643 & 57100037\\\\\n",
       "\t5 & ME\\_61\\_3-16:29176355-31186829  & rs1132812  & 0.99123804 & 1 & ME\\_61\\_3  & 16:29176355-31186829 & 16 & 29176355 & 31186829\\\\\n",
       "\t6 & ME\\_54\\_5-3:43721338-45721337   & rs2034476  & 0.01584294 & 1 & ME\\_54\\_5  & 3:43721338-45721337  & 3  & 43721338 & 45721337\\\\\n",
       "\\end{tabular}\n"
      ],
      "text/markdown": [
       "\n",
       "A data.frame: 6 × 9\n",
       "\n",
       "| <!--/--> | Gene &lt;chr&gt; | SNP &lt;chr&gt; | SNP_Prob &lt;dbl&gt; | Credible_Set &lt;int&gt; | ME &lt;chr&gt; | qtl.locus &lt;chr&gt; | qtl.locus.chr &lt;chr&gt; | qtl.locus.start &lt;chr&gt; | qtl.locus.end &lt;chr&gt; |\n",
       "|---|---|---|---|---|---|---|---|---|---|\n",
       "| 1 | ME_54_4-3:43721338-45721337   | rs56084453 | 0.99982909 | 1 | ME_54_4  | 3:43721338-45721337  | 3  | 43721338 | 45721337 |\n",
       "| 2 | ME_61_2-16:29176355-31186829  | rs1132812  | 0.62937906 | 1 | ME_61_2  | 16:29176355-31186829 | 16 | 29176355 | 31186829 |\n",
       "| 3 | ME_61_2-16:29176355-31186829  | rs12373078 | 0.36433025 | 1 | ME_61_2  | 16:29176355-31186829 | 16 | 29176355 | 31186829 |\n",
       "| 4 | ME_101_3-12:54985643-57100037 | rs1131017  | 0.99974616 | 1 | ME_101_3 | 12:54985643-57100037 | 12 | 54985643 | 57100037 |\n",
       "| 5 | ME_61_3-16:29176355-31186829  | rs1132812  | 0.99123804 | 1 | ME_61_3  | 16:29176355-31186829 | 16 | 29176355 | 31186829 |\n",
       "| 6 | ME_54_5-3:43721338-45721337   | rs2034476  | 0.01584294 | 1 | ME_54_5  | 3:43721338-45721337  | 3  | 43721338 | 45721337 |\n",
       "\n"
      ],
      "text/plain": [
       "  Gene                          SNP        SNP_Prob   Credible_Set ME      \n",
       "1 ME_54_4-3:43721338-45721337   rs56084453 0.99982909 1            ME_54_4 \n",
       "2 ME_61_2-16:29176355-31186829  rs1132812  0.62937906 1            ME_61_2 \n",
       "3 ME_61_2-16:29176355-31186829  rs12373078 0.36433025 1            ME_61_2 \n",
       "4 ME_101_3-12:54985643-57100037 rs1131017  0.99974616 1            ME_101_3\n",
       "5 ME_61_3-16:29176355-31186829  rs1132812  0.99123804 1            ME_61_3 \n",
       "6 ME_54_5-3:43721338-45721337   rs2034476  0.01584294 1            ME_54_5 \n",
       "  qtl.locus            qtl.locus.chr qtl.locus.start qtl.locus.end\n",
       "1 3:43721338-45721337  3             43721338        45721337     \n",
       "2 16:29176355-31186829 16            29176355        31186829     \n",
       "3 16:29176355-31186829 16            29176355        31186829     \n",
       "4 12:54985643-57100037 12            54985643        57100037     \n",
       "5 16:29176355-31186829 16            29176355        31186829     \n",
       "6 3:43721338-45721337  3             43721338        45721337     "
      ]
     },
     "metadata": {},
     "output_type": "display_data"
    }
   ],
   "source": [
    "head(susie.snps)"
   ]
  },
  {
   "cell_type": "markdown",
   "id": "5164cb2d-b93f-4e3e-805d-240f0c8f9d39",
   "metadata": {},
   "source": [
    "For the FINEMAP result from each module QTL, we chose the $k$ that has the maximum posterior probability."
   ]
  },
  {
   "cell_type": "code",
   "execution_count": 7,
   "id": "83819d5b-219e-4256-b595-0c719717ace4",
   "metadata": {},
   "outputs": [],
   "source": [
    "finemap.snps <- fread(\"~/gains_team282/nikhil/colocalization/mqtl/fine_mapping/FINEMAP/module_qtl_credible_sets.tsv\", sep=\"\\t\", header=TRUE) %>%\n",
    "    as.data.frame() %>%\n",
    "    dplyr::group_by(Module_QTL) %>%\n",
    "    dplyr::filter(Post_Prob_k == max(Post_Prob_k))"
   ]
  },
  {
   "cell_type": "code",
   "execution_count": 8,
   "id": "afeea7e0-552f-4d1a-8fc6-a26084e55fdd",
   "metadata": {},
   "outputs": [
    {
     "data": {
      "text/html": [
       "<table class=\"dataframe\">\n",
       "<caption>A grouped_df: 6 × 9</caption>\n",
       "<thead>\n",
       "\t<tr><th scope=col>Module_QTL</th><th scope=col>k</th><th scope=col>Post_Prob_k</th><th scope=col>Credibility_Set</th><th scope=col>Credibility_Set_Min_LD</th><th scope=col>Credibility_Set_Mean_LD</th><th scope=col>Credibility_Set_Median_LD</th><th scope=col>SNP</th><th scope=col>Prob_SNP_in_CS</th></tr>\n",
       "\t<tr><th scope=col>&lt;chr&gt;</th><th scope=col>&lt;int&gt;</th><th scope=col>&lt;dbl&gt;</th><th scope=col>&lt;int&gt;</th><th scope=col>&lt;dbl&gt;</th><th scope=col>&lt;dbl&gt;</th><th scope=col>&lt;dbl&gt;</th><th scope=col>&lt;chr&gt;</th><th scope=col>&lt;dbl&gt;</th></tr>\n",
       "</thead>\n",
       "<tbody>\n",
       "\t<tr><td>ME_100_1-2:177556567-179584183</td><td>1</td><td>1</td><td>1</td><td>5.11995e-23</td><td>0.0899352</td><td>0.0490299</td><td>rs16866439</td><td>0.00249248</td></tr>\n",
       "\t<tr><td>ME_100_1-2:177556567-179584183</td><td>1</td><td>1</td><td>1</td><td>5.11995e-23</td><td>0.0899352</td><td>0.0490299</td><td>rs34447229</td><td>0.00244538</td></tr>\n",
       "\t<tr><td>ME_100_1-2:177556567-179584183</td><td>1</td><td>1</td><td>1</td><td>5.11995e-23</td><td>0.0899352</td><td>0.0490299</td><td>rs2244492 </td><td>0.00242585</td></tr>\n",
       "\t<tr><td>ME_100_1-2:177556567-179584183</td><td>1</td><td>1</td><td>1</td><td>5.11995e-23</td><td>0.0899352</td><td>0.0490299</td><td>rs6716304 </td><td>0.00224558</td></tr>\n",
       "\t<tr><td>ME_100_1-2:177556567-179584183</td><td>1</td><td>1</td><td>1</td><td>5.11995e-23</td><td>0.0899352</td><td>0.0490299</td><td>rs7573293 </td><td>0.00198607</td></tr>\n",
       "\t<tr><td>ME_100_1-2:177556567-179584183</td><td>1</td><td>1</td><td>1</td><td>5.11995e-23</td><td>0.0899352</td><td>0.0490299</td><td>rs10190741</td><td>0.00189626</td></tr>\n",
       "</tbody>\n",
       "</table>\n"
      ],
      "text/latex": [
       "A grouped\\_df: 6 × 9\n",
       "\\begin{tabular}{lllllllll}\n",
       " Module\\_QTL & k & Post\\_Prob\\_k & Credibility\\_Set & Credibility\\_Set\\_Min\\_LD & Credibility\\_Set\\_Mean\\_LD & Credibility\\_Set\\_Median\\_LD & SNP & Prob\\_SNP\\_in\\_CS\\\\\n",
       " <chr> & <int> & <dbl> & <int> & <dbl> & <dbl> & <dbl> & <chr> & <dbl>\\\\\n",
       "\\hline\n",
       "\t ME\\_100\\_1-2:177556567-179584183 & 1 & 1 & 1 & 5.11995e-23 & 0.0899352 & 0.0490299 & rs16866439 & 0.00249248\\\\\n",
       "\t ME\\_100\\_1-2:177556567-179584183 & 1 & 1 & 1 & 5.11995e-23 & 0.0899352 & 0.0490299 & rs34447229 & 0.00244538\\\\\n",
       "\t ME\\_100\\_1-2:177556567-179584183 & 1 & 1 & 1 & 5.11995e-23 & 0.0899352 & 0.0490299 & rs2244492  & 0.00242585\\\\\n",
       "\t ME\\_100\\_1-2:177556567-179584183 & 1 & 1 & 1 & 5.11995e-23 & 0.0899352 & 0.0490299 & rs6716304  & 0.00224558\\\\\n",
       "\t ME\\_100\\_1-2:177556567-179584183 & 1 & 1 & 1 & 5.11995e-23 & 0.0899352 & 0.0490299 & rs7573293  & 0.00198607\\\\\n",
       "\t ME\\_100\\_1-2:177556567-179584183 & 1 & 1 & 1 & 5.11995e-23 & 0.0899352 & 0.0490299 & rs10190741 & 0.00189626\\\\\n",
       "\\end{tabular}\n"
      ],
      "text/markdown": [
       "\n",
       "A grouped_df: 6 × 9\n",
       "\n",
       "| Module_QTL &lt;chr&gt; | k &lt;int&gt; | Post_Prob_k &lt;dbl&gt; | Credibility_Set &lt;int&gt; | Credibility_Set_Min_LD &lt;dbl&gt; | Credibility_Set_Mean_LD &lt;dbl&gt; | Credibility_Set_Median_LD &lt;dbl&gt; | SNP &lt;chr&gt; | Prob_SNP_in_CS &lt;dbl&gt; |\n",
       "|---|---|---|---|---|---|---|---|---|\n",
       "| ME_100_1-2:177556567-179584183 | 1 | 1 | 1 | 5.11995e-23 | 0.0899352 | 0.0490299 | rs16866439 | 0.00249248 |\n",
       "| ME_100_1-2:177556567-179584183 | 1 | 1 | 1 | 5.11995e-23 | 0.0899352 | 0.0490299 | rs34447229 | 0.00244538 |\n",
       "| ME_100_1-2:177556567-179584183 | 1 | 1 | 1 | 5.11995e-23 | 0.0899352 | 0.0490299 | rs2244492  | 0.00242585 |\n",
       "| ME_100_1-2:177556567-179584183 | 1 | 1 | 1 | 5.11995e-23 | 0.0899352 | 0.0490299 | rs6716304  | 0.00224558 |\n",
       "| ME_100_1-2:177556567-179584183 | 1 | 1 | 1 | 5.11995e-23 | 0.0899352 | 0.0490299 | rs7573293  | 0.00198607 |\n",
       "| ME_100_1-2:177556567-179584183 | 1 | 1 | 1 | 5.11995e-23 | 0.0899352 | 0.0490299 | rs10190741 | 0.00189626 |\n",
       "\n"
      ],
      "text/plain": [
       "  Module_QTL                     k Post_Prob_k Credibility_Set\n",
       "1 ME_100_1-2:177556567-179584183 1 1           1              \n",
       "2 ME_100_1-2:177556567-179584183 1 1           1              \n",
       "3 ME_100_1-2:177556567-179584183 1 1           1              \n",
       "4 ME_100_1-2:177556567-179584183 1 1           1              \n",
       "5 ME_100_1-2:177556567-179584183 1 1           1              \n",
       "6 ME_100_1-2:177556567-179584183 1 1           1              \n",
       "  Credibility_Set_Min_LD Credibility_Set_Mean_LD Credibility_Set_Median_LD\n",
       "1 5.11995e-23            0.0899352               0.0490299                \n",
       "2 5.11995e-23            0.0899352               0.0490299                \n",
       "3 5.11995e-23            0.0899352               0.0490299                \n",
       "4 5.11995e-23            0.0899352               0.0490299                \n",
       "5 5.11995e-23            0.0899352               0.0490299                \n",
       "6 5.11995e-23            0.0899352               0.0490299                \n",
       "  SNP        Prob_SNP_in_CS\n",
       "1 rs16866439 0.00249248    \n",
       "2 rs34447229 0.00244538    \n",
       "3 rs2244492  0.00242585    \n",
       "4 rs6716304  0.00224558    \n",
       "5 rs7573293  0.00198607    \n",
       "6 rs10190741 0.00189626    "
      ]
     },
     "metadata": {},
     "output_type": "display_data"
    }
   ],
   "source": [
    "head(finemap.snps)"
   ]
  },
  {
   "cell_type": "markdown",
   "id": "36ce1012-936d-4a64-aae2-1131d54f3b06",
   "metadata": {},
   "source": [
    "### Compare Credible Sets"
   ]
  },
  {
   "cell_type": "markdown",
   "id": "cccb1827-6e2f-449f-805b-d8231309ff09",
   "metadata": {},
   "source": [
    "Of the 380 eigengene-locus pairs, 186 have a CS using SuSiE. The initial anlaysis from FINEMAP assigns a CS to each eigengene-locus pair. When using the purity filter, there are 191 FINEMAP CSs."
   ]
  },
  {
   "cell_type": "code",
   "execution_count": 9,
   "id": "a6f4aaf9-0206-4262-948c-e8dfe42a92fa",
   "metadata": {},
   "outputs": [
    {
     "data": {
      "text/html": [
       "186"
      ],
      "text/latex": [
       "186"
      ],
      "text/markdown": [
       "186"
      ],
      "text/plain": [
       "[1] 186"
      ]
     },
     "metadata": {},
     "output_type": "display_data"
    }
   ],
   "source": [
    "susie.snps %>%\n",
    "    dplyr::count(Gene) %>%\n",
    "    nrow()"
   ]
  },
  {
   "cell_type": "code",
   "execution_count": 10,
   "id": "23ae1e76-4ed9-4dcf-8d12-76e0146cbeb6",
   "metadata": {},
   "outputs": [
    {
     "data": {
      "text/html": [
       "380"
      ],
      "text/latex": [
       "380"
      ],
      "text/markdown": [
       "380"
      ],
      "text/plain": [
       "[1] 380"
      ]
     },
     "metadata": {},
     "output_type": "display_data"
    }
   ],
   "source": [
    "finemap.snps %>%\n",
    "    dplyr::count(Module_QTL) %>%\n",
    "    nrow()"
   ]
  },
  {
   "cell_type": "code",
   "execution_count": 11,
   "id": "d6030a8a-e8af-4539-9744-54b0dee191cd",
   "metadata": {},
   "outputs": [
    {
     "data": {
      "text/html": [
       "191"
      ],
      "text/latex": [
       "191"
      ],
      "text/markdown": [
       "191"
      ],
      "text/plain": [
       "[1] 191"
      ]
     },
     "metadata": {},
     "output_type": "display_data"
    }
   ],
   "source": [
    "finemap.snps %>%\n",
    "    dplyr::filter(Credibility_Set_Min_LD >= 0.5) %>%\n",
    "    dplyr::count(Module_QTL) %>%\n",
    "    nrow()"
   ]
  },
  {
   "cell_type": "markdown",
   "id": "f1517cce-2576-495a-ab86-ce06e78b98ab",
   "metadata": {},
   "source": [
    "How many signals are we detecting per pair? Are they concordant between the two methods?"
   ]
  },
  {
   "cell_type": "code",
   "execution_count": 12,
   "id": "0e74dcc3-9a15-45ba-81bf-5c612e823ff4",
   "metadata": {},
   "outputs": [],
   "source": [
    "cs.freq.mtx <- merge(\n",
    "    susie.snps %>%\n",
    "        dplyr::select(Module_QTL=Gene, Credible_Set) %>%\n",
    "        dplyr::group_by(Module_QTL) %>%\n",
    "        dplyr::summarize(SuSiE.CSs=length(unique(Credible_Set))),\n",
    "    finemap.snps %>%\n",
    "        dplyr::filter(Credibility_Set_Min_LD >= 0.5) %>%\n",
    "        dplyr::group_by(Module_QTL) %>%\n",
    "        dplyr::summarize(FINEMAP.CSs=length(unique(Credibility_Set))),\n",
    "    by=\"Module_QTL\"\n",
    ") %>%\n",
    "    dplyr::mutate(SuSiE.CSs=factor(SuSiE.CSs, levels=1:10)) %>%\n",
    "    dplyr::mutate(FINEMAP.CSs=factor(FINEMAP.CSs, levels=1:10)) %>%\n",
    "    dplyr::count(SuSiE.CSs, FINEMAP.CSs, .drop=F) %>%\n",
    "    tidyr::spread(FINEMAP.CSs, n)\n",
    "\n",
    "rownames(cs.freq.mtx) <- cs.freq.mtx$SuSiE.CSs\n",
    "cs.freq.mtx$SuSiE.CSs <- NULL\n",
    "cs.freq.mtx <- as.matrix(cs.freq.mtx)"
   ]
  },
  {
   "cell_type": "code",
   "execution_count": 13,
   "id": "6cf2dea3-b34b-493b-9905-2bc17134b411",
   "metadata": {},
   "outputs": [
    {
     "data": {
      "text/html": [
       "174"
      ],
      "text/latex": [
       "174"
      ],
      "text/markdown": [
       "174"
      ],
      "text/plain": [
       "[1] 174"
      ]
     },
     "metadata": {},
     "output_type": "display_data"
    }
   ],
   "source": [
    "sum(cs.freq.mtx)"
   ]
  },
  {
   "cell_type": "code",
   "execution_count": 14,
   "id": "5b4ab0e6-658e-44a0-9cf2-328797c1c557",
   "metadata": {},
   "outputs": [
    {
     "data": {
      "text/html": [
       "<strong>png:</strong> 2"
      ],
      "text/latex": [
       "\\textbf{png:} 2"
      ],
      "text/markdown": [
       "**png:** 2"
      ],
      "text/plain": [
       "png \n",
       "  2 "
      ]
     },
     "metadata": {},
     "output_type": "display_data"
    }
   ],
   "source": [
    "options(repr.plot.width=6.5, repr.plot.height=6)\n",
    "\n",
    "col_fun = colorRamp2(c(0, max(cs.freq.mtx)), c(\"white\", \"lightsteelblue2\"))\n",
    "\n",
    "column_ha = HeatmapAnnotation(\n",
    "    FINEMAP = anno_barplot(\n",
    "        colSums(cs.freq.mtx), border=F, bar_width=1, height=unit(2.5, \"cm\"), \n",
    "        gp=gpar(fill=\"lightsteelblue2\", col=NA)\n",
    "    ),\n",
    "    show_annotation_name=F\n",
    ")\n",
    "row_ha = rowAnnotation(\n",
    "    SuSiE = anno_barplot(\n",
    "        rowSums(cs.freq.mtx), border=F, bar_width=1, width=unit(2.5, \"cm\"),\n",
    "        gp=gpar(fill=\"lightsteelblue2\", col=NA)\n",
    "    ),\n",
    "    show_annotation_name=F\n",
    ")\n",
    "\n",
    "pdf(\"01_Colocalization/results/module_qtl_n_signals.pdf\", width=6.5, height=6)\n",
    "Heatmap(\n",
    "    cs.freq.mtx, name=\"Signals\",\n",
    "    col=col_fun,\n",
    "    cluster_rows=F, cluster_columns=F,\n",
    "    top_annotation=column_ha, right_annotation=row_ha,\n",
    "    row_names_side=\"left\", column_title_side=\"bottom\",\n",
    "    rect_gp=gpar(col=\"black\", lwd=0.5),\n",
    "    row_title=\"Signals from SuSiE\", column_title=\"Signals from FINEMAP\",\n",
    "    cell_fun = function(j, i, x, y, width, height, fill) {\n",
    "        grid.text(sprintf(\"%d\", cs.freq.mtx[i, j]), x, y, gp=gpar(fontsize=10))\n",
    "    }\n",
    ")\n",
    "dev.off()"
   ]
  },
  {
   "cell_type": "markdown",
   "id": "218d7c65-37d1-4512-baec-fe487705d81f",
   "metadata": {},
   "source": [
    "![](../results/module_qtl_n_signals.svg)"
   ]
  },
  {
   "cell_type": "markdown",
   "id": "1df51a22-7a5e-4616-8ee0-978977546ffe",
   "metadata": {},
   "source": [
    "How different are the CS sizes?"
   ]
  },
  {
   "cell_type": "code",
   "execution_count": 15,
   "id": "b720f32f-f671-4441-b3ba-fd2d58be479c",
   "metadata": {},
   "outputs": [
    {
     "data": {
      "image/png": "[encoded data removed]",
      "text/plain": [
       "plot without title"
      ]
     },
     "metadata": {
      "image/png": {
       "height": 240,
       "width": 720
      }
     },
     "output_type": "display_data"
    }
   ],
   "source": [
    "options(repr.plot.width=12, repr.plot.height=4)\n",
    "\n",
    "dplyr::bind_rows(\n",
    "    ld.tags %>%\n",
    "        dplyr::mutate(Method=\"LD\") %>%\n",
    "        dplyr::select(Method, Module.QTL=module.qtl, N.SNPs=NTAG),\n",
    "    susie.snps %>%\n",
    "        dplyr::count(Gene) %>%\n",
    "        dplyr::mutate(Method=\"SuSiE\") %>%\n",
    "        dplyr::select(Method, Module.QTL=Gene, N.SNPs=n),\n",
    "    finemap.snps %>%\n",
    "        dplyr::filter(Credibility_Set_Min_LD >= 0.5) %>%\n",
    "        dplyr::count(Module_QTL) %>%\n",
    "        dplyr::mutate(Method=\"FINEMAP Pruned\") %>%\n",
    "        dplyr::select(Method, Module.QTL=Module_QTL, N.SNPs=n),\n",
    "    finemap.snps %>%\n",
    "        dplyr::count(Module_QTL) %>%\n",
    "        dplyr::mutate(Method=\"FINEMAP\") %>%\n",
    "        dplyr::select(Method, Module.QTL=Module_QTL, N.SNPs=n)\n",
    ") %>%\n",
    "    dplyr::mutate(CS.Size=cut(N.SNPs, breaks=c(0, 1, 5, 20, 50, Inf), labels=c(\"1\", \"2-5\", \"6-20\", \"21-50\", \">50\"), include.lowest=F)) %>%\n",
    "    dplyr::mutate(Method=factor(Method, levels=c(\"LD\", \"FINEMAP\", \"FINEMAP Pruned\", \"SuSiE\"))) %>%\n",
    "    dplyr::group_by(Method, CS.Size) %>%\n",
    "    dplyr::summarize(N=n(), .groups=\"drop\") %>%\n",
    "    dplyr::group_by(Method) %>%\n",
    "    dplyr::mutate(Freq=N / sum(N)) %>%\n",
    "    ggplot() +\n",
    "    geom_bar(aes(x=Method, y=Freq, fill=CS.Size), stat=\"identity\", position=position_stack(reverse=T)) +\n",
    "    scale_fill_brewer(\"CS Size\", palette=\"Pastel1\") +\n",
    "    ylab(\"Proportion of Loci\") +\n",
    "    coord_flip() +\n",
    "    ggplot_theme +\n",
    "    theme(axis.title.y=element_blank())\n",
    "\n",
    "ggsave(\"01_Colocalization/results/module_qtl_cs_sizes.pdf\", width=12, height=4)"
   ]
  },
  {
   "cell_type": "markdown",
   "id": "544fa3e2-c470-4472-923c-48679a6be5c6",
   "metadata": {
    "tags": []
   },
   "source": [
    "### Paired Tests of Credible Sets"
   ]
  },
  {
   "cell_type": "markdown",
   "id": "f8762708-c50c-4fb7-ac44-b38798e7e348",
   "metadata": {},
   "source": [
    "Combine all credible set sizes based on SuSiE results to perform paired tests."
   ]
  },
  {
   "cell_type": "code",
   "execution_count": 16,
   "id": "c6fa8af4-33a9-4c57-9e50-49d3bf314231",
   "metadata": {},
   "outputs": [],
   "source": [
    "cs.sizes <- merge(\n",
    "    susie.snps %>%\n",
    "        dplyr::count(Gene, name=\"SuSiE.N.SNPs\") %>%\n",
    "        dplyr::select(Module_QTL=Gene, SuSiE.N.SNPs),\n",
    "    finemap.snps %>%\n",
    "        dplyr::filter(Credibility_Set_Min_LD >= 0.5) %>%\n",
    "        dplyr::count(Module_QTL, name=\"FINEMAP.N.SNPs\"),\n",
    "    by=c(\"Module_QTL\")\n",
    ") %>%\n",
    "    merge(., ld.tags, by.x=c(\"Module_QTL\"), by.y=c(\"module.qtl\")) %>%\n",
    "    dplyr::select(Module_QTL, SuSiE.N.SNPs, FINEMAP.N.SNPs, NTAG)"
   ]
  },
  {
   "cell_type": "code",
   "execution_count": 17,
   "id": "d2cf1e1c-c174-4304-8a87-0c4bcc93a172",
   "metadata": {},
   "outputs": [
    {
     "data": {
      "text/html": [
       "<style>\n",
       ".list-inline {list-style: none; margin:0; padding: 0}\n",
       ".list-inline>li {display: inline-block}\n",
       ".list-inline>li:not(:last-child)::after {content: \"\\00b7\"; padding: 0 .5ex}\n",
       "</style>\n",
       "<ol class=list-inline><li>159</li><li>4</li></ol>\n"
      ],
      "text/latex": [
       "\\begin{enumerate*}\n",
       "\\item 159\n",
       "\\item 4\n",
       "\\end{enumerate*}\n"
      ],
      "text/markdown": [
       "1. 159\n",
       "2. 4\n",
       "\n",
       "\n"
      ],
      "text/plain": [
       "[1] 159   4"
      ]
     },
     "metadata": {},
     "output_type": "display_data"
    }
   ],
   "source": [
    "dim(cs.sizes)"
   ]
  },
  {
   "cell_type": "markdown",
   "id": "2b981439-2877-4dc1-83d5-f4fc2e6f8b78",
   "metadata": {},
   "source": [
    "The median size of the LD snp sets is much higher than FINEMAP and SuSiE when using the SuSiE pruned set. The FINEMAP median is much higher by itself (23) and the LD snp sets are actually smaller (12)."
   ]
  },
  {
   "cell_type": "code",
   "execution_count": 18,
   "id": "1cf11a83-1b06-4528-9ec8-91ce5b715861",
   "metadata": {},
   "outputs": [
    {
     "data": {
      "text/html": [
       "<table class=\"dataframe\">\n",
       "<caption>A tibble: 3 × 2</caption>\n",
       "<thead>\n",
       "\t<tr><th scope=col>Method</th><th scope=col>Median.CS.Size</th></tr>\n",
       "\t<tr><th scope=col>&lt;chr&gt;</th><th scope=col>&lt;dbl&gt;</th></tr>\n",
       "</thead>\n",
       "<tbody>\n",
       "\t<tr><td>FINEMAP.N.SNPs</td><td>14</td></tr>\n",
       "\t<tr><td>NTAG          </td><td>15</td></tr>\n",
       "\t<tr><td>SuSiE.N.SNPs  </td><td>14</td></tr>\n",
       "</tbody>\n",
       "</table>\n"
      ],
      "text/latex": [
       "A tibble: 3 × 2\n",
       "\\begin{tabular}{ll}\n",
       " Method & Median.CS.Size\\\\\n",
       " <chr> & <dbl>\\\\\n",
       "\\hline\n",
       "\t FINEMAP.N.SNPs & 14\\\\\n",
       "\t NTAG           & 15\\\\\n",
       "\t SuSiE.N.SNPs   & 14\\\\\n",
       "\\end{tabular}\n"
      ],
      "text/markdown": [
       "\n",
       "A tibble: 3 × 2\n",
       "\n",
       "| Method &lt;chr&gt; | Median.CS.Size &lt;dbl&gt; |\n",
       "|---|---|\n",
       "| FINEMAP.N.SNPs | 14 |\n",
       "| NTAG           | 15 |\n",
       "| SuSiE.N.SNPs   | 14 |\n",
       "\n"
      ],
      "text/plain": [
       "  Method         Median.CS.Size\n",
       "1 FINEMAP.N.SNPs 14            \n",
       "2 NTAG           15            \n",
       "3 SuSiE.N.SNPs   14            "
      ]
     },
     "metadata": {},
     "output_type": "display_data"
    }
   ],
   "source": [
    "cs.sizes %>%\n",
    "    tidyr::gather(key=\"Method\", value=\"N.SNPs\", -Module_QTL) %>%\n",
    "    dplyr::group_by(Method) %>%\n",
    "    dplyr::summarize(Median.CS.Size=median(N.SNPs))"
   ]
  },
  {
   "cell_type": "code",
   "execution_count": 19,
   "id": "743c6a3a-59e7-478b-9be8-e61a5563e7ca",
   "metadata": {},
   "outputs": [
    {
     "data": {
      "text/plain": [
       "\n",
       "\tWilcoxon signed rank test with continuity correction\n",
       "\n",
       "data:  cs.sizes$NTAG and cs.sizes$SuSiE.N.SNPs\n",
       "V = 5891.5, p-value = 0.06828\n",
       "alternative hypothesis: true location shift is not equal to 0\n"
      ]
     },
     "metadata": {},
     "output_type": "display_data"
    }
   ],
   "source": [
    "wilcox.test(cs.sizes$NTAG, cs.sizes$SuSiE.N.SNPs, paired=TRUE)"
   ]
  },
  {
   "cell_type": "code",
   "execution_count": 20,
   "id": "1a328a69-de2c-4fab-8266-4d3f877e95dc",
   "metadata": {},
   "outputs": [
    {
     "data": {
      "text/plain": [
       "\n",
       "\tWilcoxon signed rank test with continuity correction\n",
       "\n",
       "data:  cs.sizes$NTAG and cs.sizes$FINEMAP.N.SNPs\n",
       "V = 5971.5, p-value = 0.004327\n",
       "alternative hypothesis: true location shift is not equal to 0\n"
      ]
     },
     "metadata": {},
     "output_type": "display_data"
    }
   ],
   "source": [
    "wilcox.test(cs.sizes$NTAG, cs.sizes$FINEMAP.N.SNPs, paired=TRUE)"
   ]
  },
  {
   "cell_type": "code",
   "execution_count": 21,
   "id": "77ce5656-439e-4cc6-8646-775195b64e4f",
   "metadata": {},
   "outputs": [
    {
     "data": {
      "text/plain": [
       "\n",
       "\tWilcoxon signed rank test with continuity correction\n",
       "\n",
       "data:  cs.sizes$SuSiE.N.SNPs and cs.sizes$FINEMAP.N.SNPs\n",
       "V = 1770, p-value = 0.9482\n",
       "alternative hypothesis: true location shift is not equal to 0\n"
      ]
     },
     "metadata": {},
     "output_type": "display_data"
    }
   ],
   "source": [
    "wilcox.test(cs.sizes$SuSiE.N.SNPs, cs.sizes$FINEMAP.N.SNPs, paired=TRUE)"
   ]
  },
  {
   "cell_type": "markdown",
   "id": "5d386513-1377-4d8b-9e0a-6286781245ad",
   "metadata": {},
   "source": [
    "## cis-pQTL"
   ]
  },
  {
   "cell_type": "markdown",
   "id": "c4ed4d27-4d9e-45c0-9248-37c2b4e3a7dd",
   "metadata": {
    "tags": []
   },
   "source": [
    "### Load Data"
   ]
  },
  {
   "cell_type": "code",
   "execution_count": 22,
   "id": "2861bdc8-8ce8-4b92-a71d-bc7ffb046c4e",
   "metadata": {},
   "outputs": [],
   "source": [
    "cis.pqtl <- readRDS(\"~/gains_team282/proteomics/pqtl/pqtl_ms2019/cis_pqtl_sig.RDS\") %>%\n",
    "    dplyr::group_by(pQTL_Protein) %>%\n",
    "    dplyr::slice_min(pQTL_pval, n=1, with_ties=F)"
   ]
  },
  {
   "cell_type": "code",
   "execution_count": 23,
   "id": "1e674c1c-0d72-46cf-8554-a5eec64f07b1",
   "metadata": {},
   "outputs": [],
   "source": [
    "ld.tags <- fread(\"~/gains_team282/nikhil/colocalization/cis_eqtl/fine_mapping/LD/cis_pqtl_snps.80r2.tags.tsv\") %>%\n",
    "    dplyr::mutate(NTAG = NTAG + 1) %>%\n",
    "    dplyr::mutate(SNP = gsub(\":\", \"\\\\.\", SNP)) %>%\n",
    "    merge(cis.pqtl, ., by=\"SNP\")"
   ]
  },
  {
   "cell_type": "code",
   "execution_count": 24,
   "id": "5d48379d-3616-4bd4-beb2-9f0f4226759f",
   "metadata": {},
   "outputs": [
    {
     "data": {
      "text/html": [
       "<table class=\"dataframe\">\n",
       "<caption>A data.frame: 6 × 16</caption>\n",
       "<thead>\n",
       "\t<tr><th></th><th scope=col>SNP</th><th scope=col>Chr</th><th scope=col>Position</th><th scope=col>pQTL_beta</th><th scope=col>pQTL_SE</th><th scope=col>pQTL_t</th><th scope=col>pQTL_pval</th><th scope=col>pQTL_Protein</th><th scope=col>Gene</th><th scope=col>CHR</th><th scope=col>BP</th><th scope=col>NTAG</th><th scope=col>LEFT</th><th scope=col>RIGHT</th><th scope=col>KBSPAN</th><th scope=col>TAGS</th></tr>\n",
       "\t<tr><th></th><th scope=col>&lt;chr&gt;</th><th scope=col>&lt;int&gt;</th><th scope=col>&lt;int&gt;</th><th scope=col>&lt;dbl&gt;</th><th scope=col>&lt;dbl&gt;</th><th scope=col>&lt;dbl&gt;</th><th scope=col>&lt;dbl&gt;</th><th scope=col>&lt;chr&gt;</th><th scope=col>&lt;chr&gt;</th><th scope=col>&lt;int&gt;</th><th scope=col>&lt;int&gt;</th><th scope=col>&lt;dbl&gt;</th><th scope=col>&lt;int&gt;</th><th scope=col>&lt;int&gt;</th><th scope=col>&lt;dbl&gt;</th><th scope=col>&lt;chr&gt;</th></tr>\n",
       "</thead>\n",
       "<tbody>\n",
       "\t<tr><th scope=row>1</th><td>rs10753610</td><td> 1</td><td>161694033</td><td>-0.31908720</td><td>0.02841617</td><td>-11.229071</td><td>1.200348e-27</td><td>O75015</td><td>ENSG00000162747</td><td> 1</td><td>161694033</td><td> 5</td><td>161690055</td><td>161695375</td><td>  5.321</td><td>rs7539053|rs1340976|rs3949343|rs4656328                                                                                                                                                                                                      </td></tr>\n",
       "\t<tr><th scope=row>2</th><td>rs10947319</td><td> 6</td><td> 32613677</td><td> 0.20351031</td><td>0.02761147</td><td>  7.370499</td><td>3.380114e-13</td><td>P0C0L5</td><td>ENSG00000224389</td><td> 6</td><td> 32613677</td><td>23</td><td> 32598202</td><td> 32623261</td><td> 25.060</td><td>rs28383172|rs2647060|rs2647063|rs2858869|rs2647073|rs12206257|rs17840121|rs13206219|rs13206639|rs13212015|rs28383216|rs12192104|rs13204672|rs13204933|rs28383225|rs28383228|rs28383263|rs28383264|rs28383270|rs28383271|rs28383272|rs28383319</td></tr>\n",
       "\t<tr><th scope=row>3</th><td>rs11132382</td><td> 4</td><td>186222648</td><td>-0.08357244</td><td>0.01080930</td><td> -7.731532</td><td>2.951792e-14</td><td>P03952</td><td>ENSG00000164344</td><td> 4</td><td>186222648</td><td>23</td><td>186218785</td><td>186253529</td><td> 34.745</td><td>rs12331618|rs4862669|rs2048|rs4253238|rs1912826|rs3775298|rs1511801|rs4241815|rs4241816|rs4241817|rs4241818|rs4253248|rs4253252|rs3733402|rs4253254|rs4253255|rs66530140|rs35984397|rs4253281|rs4253282|rs1973612|rs4253311                  </td></tr>\n",
       "\t<tr><th scope=row>4</th><td>rs1243162 </td><td>14</td><td> 94380606</td><td>-0.47386203</td><td>0.02749184</td><td>-17.236459</td><td>8.174763e-59</td><td>P01009</td><td>ENSG00000197249</td><td>14</td><td> 94380606</td><td> 4</td><td> 94377968</td><td> 94381078</td><td>  3.111</td><td>rs1243165|rs1243164|rs6647                                                                                                                                                                                                                   </td></tr>\n",
       "\t<tr><th scope=row>5</th><td>rs13100791</td><td> 3</td><td> 49603616</td><td>-0.49195720</td><td>0.05375028</td><td> -9.152644</td><td>2.290194e-19</td><td>P26927</td><td>ENSG00000173531</td><td> 3</td><td> 49603616</td><td>17</td><td> 49295382</td><td> 49794830</td><td>499.449</td><td>rs17080505|rs35260967|rs35395347|rs35220094|rs34071734|rs143867864|rs34519883|rs13071087|rs36116071|rs71324984|rs140746667|rs35620248|rs13061156|rs3206653|rs61745903|rs116642728                                                            </td></tr>\n",
       "\t<tr><th scope=row>6</th><td>rs1648722 </td><td> 3</td><td>186731200</td><td>-0.06974747</td><td>0.01034678</td><td> -6.740986</td><td>2.709794e-11</td><td>P01042</td><td>ENSG00000113889</td><td> 3</td><td>186731200</td><td>18</td><td>186729704</td><td>186735276</td><td>  5.573</td><td>rs822624|rs5030035|rs13098645|rs1656925|rs1648697|rs1648698|rs1622922|rs1648699|rs1648700|rs1624569|rs5030058|rs5030059|rs822366|rs822364|rs710448|rs822363|rs822362                                                                         </td></tr>\n",
       "</tbody>\n",
       "</table>\n"
      ],
      "text/latex": [
       "A data.frame: 6 × 16\n",
       "\\begin{tabular}{r|llllllllllllllll}\n",
       "  & SNP & Chr & Position & pQTL\\_beta & pQTL\\_SE & pQTL\\_t & pQTL\\_pval & pQTL\\_Protein & Gene & CHR & BP & NTAG & LEFT & RIGHT & KBSPAN & TAGS\\\\\n",
       "  & <chr> & <int> & <int> & <dbl> & <dbl> & <dbl> & <dbl> & <chr> & <chr> & <int> & <int> & <dbl> & <int> & <int> & <dbl> & <chr>\\\\\n",
       "\\hline\n",
       "\t1 & rs10753610 &  1 & 161694033 & -0.31908720 & 0.02841617 & -11.229071 & 1.200348e-27 & O75015 & ENSG00000162747 &  1 & 161694033 &  5 & 161690055 & 161695375 &   5.321 & rs7539053\\textbar{}rs1340976\\textbar{}rs3949343\\textbar{}rs4656328                                                                                                                                                                                                      \\\\\n",
       "\t2 & rs10947319 &  6 &  32613677 &  0.20351031 & 0.02761147 &   7.370499 & 3.380114e-13 & P0C0L5 & ENSG00000224389 &  6 &  32613677 & 23 &  32598202 &  32623261 &  25.060 & rs28383172\\textbar{}rs2647060\\textbar{}rs2647063\\textbar{}rs2858869\\textbar{}rs2647073\\textbar{}rs12206257\\textbar{}rs17840121\\textbar{}rs13206219\\textbar{}rs13206639\\textbar{}rs13212015\\textbar{}rs28383216\\textbar{}rs12192104\\textbar{}rs13204672\\textbar{}rs13204933\\textbar{}rs28383225\\textbar{}rs28383228\\textbar{}rs28383263\\textbar{}rs28383264\\textbar{}rs28383270\\textbar{}rs28383271\\textbar{}rs28383272\\textbar{}rs28383319\\\\\n",
       "\t3 & rs11132382 &  4 & 186222648 & -0.08357244 & 0.01080930 &  -7.731532 & 2.951792e-14 & P03952 & ENSG00000164344 &  4 & 186222648 & 23 & 186218785 & 186253529 &  34.745 & rs12331618\\textbar{}rs4862669\\textbar{}rs2048\\textbar{}rs4253238\\textbar{}rs1912826\\textbar{}rs3775298\\textbar{}rs1511801\\textbar{}rs4241815\\textbar{}rs4241816\\textbar{}rs4241817\\textbar{}rs4241818\\textbar{}rs4253248\\textbar{}rs4253252\\textbar{}rs3733402\\textbar{}rs4253254\\textbar{}rs4253255\\textbar{}rs66530140\\textbar{}rs35984397\\textbar{}rs4253281\\textbar{}rs4253282\\textbar{}rs1973612\\textbar{}rs4253311                  \\\\\n",
       "\t4 & rs1243162  & 14 &  94380606 & -0.47386203 & 0.02749184 & -17.236459 & 8.174763e-59 & P01009 & ENSG00000197249 & 14 &  94380606 &  4 &  94377968 &  94381078 &   3.111 & rs1243165\\textbar{}rs1243164\\textbar{}rs6647                                                                                                                                                                                                                   \\\\\n",
       "\t5 & rs13100791 &  3 &  49603616 & -0.49195720 & 0.05375028 &  -9.152644 & 2.290194e-19 & P26927 & ENSG00000173531 &  3 &  49603616 & 17 &  49295382 &  49794830 & 499.449 & rs17080505\\textbar{}rs35260967\\textbar{}rs35395347\\textbar{}rs35220094\\textbar{}rs34071734\\textbar{}rs143867864\\textbar{}rs34519883\\textbar{}rs13071087\\textbar{}rs36116071\\textbar{}rs71324984\\textbar{}rs140746667\\textbar{}rs35620248\\textbar{}rs13061156\\textbar{}rs3206653\\textbar{}rs61745903\\textbar{}rs116642728                                                            \\\\\n",
       "\t6 & rs1648722  &  3 & 186731200 & -0.06974747 & 0.01034678 &  -6.740986 & 2.709794e-11 & P01042 & ENSG00000113889 &  3 & 186731200 & 18 & 186729704 & 186735276 &   5.573 & rs822624\\textbar{}rs5030035\\textbar{}rs13098645\\textbar{}rs1656925\\textbar{}rs1648697\\textbar{}rs1648698\\textbar{}rs1622922\\textbar{}rs1648699\\textbar{}rs1648700\\textbar{}rs1624569\\textbar{}rs5030058\\textbar{}rs5030059\\textbar{}rs822366\\textbar{}rs822364\\textbar{}rs710448\\textbar{}rs822363\\textbar{}rs822362                                                                         \\\\\n",
       "\\end{tabular}\n"
      ],
      "text/markdown": [
       "\n",
       "A data.frame: 6 × 16\n",
       "\n",
       "| <!--/--> | SNP &lt;chr&gt; | Chr &lt;int&gt; | Position &lt;int&gt; | pQTL_beta &lt;dbl&gt; | pQTL_SE &lt;dbl&gt; | pQTL_t &lt;dbl&gt; | pQTL_pval &lt;dbl&gt; | pQTL_Protein &lt;chr&gt; | Gene &lt;chr&gt; | CHR &lt;int&gt; | BP &lt;int&gt; | NTAG &lt;dbl&gt; | LEFT &lt;int&gt; | RIGHT &lt;int&gt; | KBSPAN &lt;dbl&gt; | TAGS &lt;chr&gt; |\n",
       "|---|---|---|---|---|---|---|---|---|---|---|---|---|---|---|---|---|\n",
       "| 1 | rs10753610 |  1 | 161694033 | -0.31908720 | 0.02841617 | -11.229071 | 1.200348e-27 | O75015 | ENSG00000162747 |  1 | 161694033 |  5 | 161690055 | 161695375 |   5.321 | rs7539053|rs1340976|rs3949343|rs4656328                                                                                                                                                                                                       |\n",
       "| 2 | rs10947319 |  6 |  32613677 |  0.20351031 | 0.02761147 |   7.370499 | 3.380114e-13 | P0C0L5 | ENSG00000224389 |  6 |  32613677 | 23 |  32598202 |  32623261 |  25.060 | rs28383172|rs2647060|rs2647063|rs2858869|rs2647073|rs12206257|rs17840121|rs13206219|rs13206639|rs13212015|rs28383216|rs12192104|rs13204672|rs13204933|rs28383225|rs28383228|rs28383263|rs28383264|rs28383270|rs28383271|rs28383272|rs28383319 |\n",
       "| 3 | rs11132382 |  4 | 186222648 | -0.08357244 | 0.01080930 |  -7.731532 | 2.951792e-14 | P03952 | ENSG00000164344 |  4 | 186222648 | 23 | 186218785 | 186253529 |  34.745 | rs12331618|rs4862669|rs2048|rs4253238|rs1912826|rs3775298|rs1511801|rs4241815|rs4241816|rs4241817|rs4241818|rs4253248|rs4253252|rs3733402|rs4253254|rs4253255|rs66530140|rs35984397|rs4253281|rs4253282|rs1973612|rs4253311                   |\n",
       "| 4 | rs1243162  | 14 |  94380606 | -0.47386203 | 0.02749184 | -17.236459 | 8.174763e-59 | P01009 | ENSG00000197249 | 14 |  94380606 |  4 |  94377968 |  94381078 |   3.111 | rs1243165|rs1243164|rs6647                                                                                                                                                                                                                    |\n",
       "| 5 | rs13100791 |  3 |  49603616 | -0.49195720 | 0.05375028 |  -9.152644 | 2.290194e-19 | P26927 | ENSG00000173531 |  3 |  49603616 | 17 |  49295382 |  49794830 | 499.449 | rs17080505|rs35260967|rs35395347|rs35220094|rs34071734|rs143867864|rs34519883|rs13071087|rs36116071|rs71324984|rs140746667|rs35620248|rs13061156|rs3206653|rs61745903|rs116642728                                                             |\n",
       "| 6 | rs1648722  |  3 | 186731200 | -0.06974747 | 0.01034678 |  -6.740986 | 2.709794e-11 | P01042 | ENSG00000113889 |  3 | 186731200 | 18 | 186729704 | 186735276 |   5.573 | rs822624|rs5030035|rs13098645|rs1656925|rs1648697|rs1648698|rs1622922|rs1648699|rs1648700|rs1624569|rs5030058|rs5030059|rs822366|rs822364|rs710448|rs822363|rs822362                                                                          |\n",
       "\n"
      ],
      "text/plain": [
       "  SNP        Chr Position  pQTL_beta   pQTL_SE    pQTL_t     pQTL_pval   \n",
       "1 rs10753610  1  161694033 -0.31908720 0.02841617 -11.229071 1.200348e-27\n",
       "2 rs10947319  6   32613677  0.20351031 0.02761147   7.370499 3.380114e-13\n",
       "3 rs11132382  4  186222648 -0.08357244 0.01080930  -7.731532 2.951792e-14\n",
       "4 rs1243162  14   94380606 -0.47386203 0.02749184 -17.236459 8.174763e-59\n",
       "5 rs13100791  3   49603616 -0.49195720 0.05375028  -9.152644 2.290194e-19\n",
       "6 rs1648722   3  186731200 -0.06974747 0.01034678  -6.740986 2.709794e-11\n",
       "  pQTL_Protein Gene            CHR BP        NTAG LEFT      RIGHT     KBSPAN \n",
       "1 O75015       ENSG00000162747  1  161694033  5   161690055 161695375   5.321\n",
       "2 P0C0L5       ENSG00000224389  6   32613677 23    32598202  32623261  25.060\n",
       "3 P03952       ENSG00000164344  4  186222648 23   186218785 186253529  34.745\n",
       "4 P01009       ENSG00000197249 14   94380606  4    94377968  94381078   3.111\n",
       "5 P26927       ENSG00000173531  3   49603616 17    49295382  49794830 499.449\n",
       "6 P01042       ENSG00000113889  3  186731200 18   186729704 186735276   5.573\n",
       "  TAGS                                                                                                                                                                                                                                         \n",
       "1 rs7539053|rs1340976|rs3949343|rs4656328                                                                                                                                                                                                      \n",
       "2 rs28383172|rs2647060|rs2647063|rs2858869|rs2647073|rs12206257|rs17840121|rs13206219|rs13206639|rs13212015|rs28383216|rs12192104|rs13204672|rs13204933|rs28383225|rs28383228|rs28383263|rs28383264|rs28383270|rs28383271|rs28383272|rs28383319\n",
       "3 rs12331618|rs4862669|rs2048|rs4253238|rs1912826|rs3775298|rs1511801|rs4241815|rs4241816|rs4241817|rs4241818|rs4253248|rs4253252|rs3733402|rs4253254|rs4253255|rs66530140|rs35984397|rs4253281|rs4253282|rs1973612|rs4253311                  \n",
       "4 rs1243165|rs1243164|rs6647                                                                                                                                                                                                                   \n",
       "5 rs17080505|rs35260967|rs35395347|rs35220094|rs34071734|rs143867864|rs34519883|rs13071087|rs36116071|rs71324984|rs140746667|rs35620248|rs13061156|rs3206653|rs61745903|rs116642728                                                            \n",
       "6 rs822624|rs5030035|rs13098645|rs1656925|rs1648697|rs1648698|rs1622922|rs1648699|rs1648700|rs1624569|rs5030058|rs5030059|rs822366|rs822364|rs710448|rs822363|rs822362                                                                         "
      ]
     },
     "metadata": {},
     "output_type": "display_data"
    }
   ],
   "source": [
    "head(ld.tags)"
   ]
  },
  {
   "cell_type": "code",
   "execution_count": 25,
   "id": "c0331f8b-4edd-4e2a-96d3-bd5d47fe8fb0",
   "metadata": {},
   "outputs": [],
   "source": [
    "susie.snps <- read.table(\"~/gains_team282/nikhil/colocalization/pqtl/fine_mapping/SuSiE/cis_pqtl_credible_sets.tsv\", sep=\"\\t\", header=T) %>%\n",
    "    as.data.frame() %>%\n",
    "    dplyr::filter(Gene %in% cis.pqtl$Gene) %>%\n",
    "    dplyr::filter(is.na(Notes)) %>%\n",
    "    dplyr::select(-Notes)"
   ]
  },
  {
   "cell_type": "code",
   "execution_count": 26,
   "id": "51a4298c-c80a-49b9-b049-5801617f9ba1",
   "metadata": {},
   "outputs": [
    {
     "data": {
      "text/html": [
       "<table class=\"dataframe\">\n",
       "<caption>A data.frame: 6 × 4</caption>\n",
       "<thead>\n",
       "\t<tr><th></th><th scope=col>Gene</th><th scope=col>SNP</th><th scope=col>SNP_Prob</th><th scope=col>Credible_Set</th></tr>\n",
       "\t<tr><th></th><th scope=col>&lt;chr&gt;</th><th scope=col>&lt;chr&gt;</th><th scope=col>&lt;dbl&gt;</th><th scope=col>&lt;int&gt;</th></tr>\n",
       "</thead>\n",
       "<tbody>\n",
       "\t<tr><th scope=row>1</th><td>ENSG00000145192</td><td>rs4917    </td><td>0.17016895</td><td>1</td></tr>\n",
       "\t<tr><th scope=row>2</th><td>ENSG00000145192</td><td>rs1900618 </td><td>0.12787621</td><td>1</td></tr>\n",
       "\t<tr><th scope=row>3</th><td>ENSG00000145192</td><td>rs13073106</td><td>0.12208787</td><td>1</td></tr>\n",
       "\t<tr><th scope=row>4</th><td>ENSG00000145192</td><td>rs7635884 </td><td>0.08856385</td><td>1</td></tr>\n",
       "\t<tr><th scope=row>5</th><td>ENSG00000145192</td><td>rs4918    </td><td>0.08247462</td><td>1</td></tr>\n",
       "\t<tr><th scope=row>6</th><td>ENSG00000145192</td><td>rs6777646 </td><td>0.02589879</td><td>1</td></tr>\n",
       "</tbody>\n",
       "</table>\n"
      ],
      "text/latex": [
       "A data.frame: 6 × 4\n",
       "\\begin{tabular}{r|llll}\n",
       "  & Gene & SNP & SNP\\_Prob & Credible\\_Set\\\\\n",
       "  & <chr> & <chr> & <dbl> & <int>\\\\\n",
       "\\hline\n",
       "\t1 & ENSG00000145192 & rs4917     & 0.17016895 & 1\\\\\n",
       "\t2 & ENSG00000145192 & rs1900618  & 0.12787621 & 1\\\\\n",
       "\t3 & ENSG00000145192 & rs13073106 & 0.12208787 & 1\\\\\n",
       "\t4 & ENSG00000145192 & rs7635884  & 0.08856385 & 1\\\\\n",
       "\t5 & ENSG00000145192 & rs4918     & 0.08247462 & 1\\\\\n",
       "\t6 & ENSG00000145192 & rs6777646  & 0.02589879 & 1\\\\\n",
       "\\end{tabular}\n"
      ],
      "text/markdown": [
       "\n",
       "A data.frame: 6 × 4\n",
       "\n",
       "| <!--/--> | Gene &lt;chr&gt; | SNP &lt;chr&gt; | SNP_Prob &lt;dbl&gt; | Credible_Set &lt;int&gt; |\n",
       "|---|---|---|---|---|\n",
       "| 1 | ENSG00000145192 | rs4917     | 0.17016895 | 1 |\n",
       "| 2 | ENSG00000145192 | rs1900618  | 0.12787621 | 1 |\n",
       "| 3 | ENSG00000145192 | rs13073106 | 0.12208787 | 1 |\n",
       "| 4 | ENSG00000145192 | rs7635884  | 0.08856385 | 1 |\n",
       "| 5 | ENSG00000145192 | rs4918     | 0.08247462 | 1 |\n",
       "| 6 | ENSG00000145192 | rs6777646  | 0.02589879 | 1 |\n",
       "\n"
      ],
      "text/plain": [
       "  Gene            SNP        SNP_Prob   Credible_Set\n",
       "1 ENSG00000145192 rs4917     0.17016895 1           \n",
       "2 ENSG00000145192 rs1900618  0.12787621 1           \n",
       "3 ENSG00000145192 rs13073106 0.12208787 1           \n",
       "4 ENSG00000145192 rs7635884  0.08856385 1           \n",
       "5 ENSG00000145192 rs4918     0.08247462 1           \n",
       "6 ENSG00000145192 rs6777646  0.02589879 1           "
      ]
     },
     "metadata": {},
     "output_type": "display_data"
    }
   ],
   "source": [
    "head(susie.snps)"
   ]
  },
  {
   "cell_type": "markdown",
   "id": "efcf8da0-8a8a-41dc-8842-5ea463b62327",
   "metadata": {},
   "source": [
    "For the FINEMAP result from each module QTL, we chose the $k$ that has the maximum posterior probability."
   ]
  },
  {
   "cell_type": "code",
   "execution_count": 27,
   "id": "69ca800d-afeb-4d98-88b6-0b5480f276c4",
   "metadata": {},
   "outputs": [],
   "source": [
    "finemap.snps <- fread(\"~/gains_team282/nikhil/colocalization/pqtl/fine_mapping/FINEMAP/cis_credible_sets.tsv\", sep=\"\\t\", header=TRUE) %>%\n",
    "    as.data.frame() %>%\n",
    "    dplyr::filter(Gene %in% cis.pqtl$Gene) %>%\n",
    "    dplyr::group_by(Gene) %>%\n",
    "    dplyr::filter(Post_Prob_k == max(Post_Prob_k))"
   ]
  },
  {
   "cell_type": "code",
   "execution_count": 28,
   "id": "207dca20-9feb-4aa1-90b2-4550e92101b2",
   "metadata": {},
   "outputs": [
    {
     "data": {
      "text/html": [
       "<table class=\"dataframe\">\n",
       "<caption>A grouped_df: 6 × 9</caption>\n",
       "<thead>\n",
       "\t<tr><th scope=col>Gene</th><th scope=col>k</th><th scope=col>Post_Prob_k</th><th scope=col>Credibility_Set</th><th scope=col>Credibility_Set_Min_LD</th><th scope=col>Credibility_Set_Mean_LD</th><th scope=col>Credibility_Set_Median_LD</th><th scope=col>SNP</th><th scope=col>Prob_SNP_in_CS</th></tr>\n",
       "\t<tr><th scope=col>&lt;chr&gt;</th><th scope=col>&lt;int&gt;</th><th scope=col>&lt;dbl&gt;</th><th scope=col>&lt;int&gt;</th><th scope=col>&lt;dbl&gt;</th><th scope=col>&lt;dbl&gt;</th><th scope=col>&lt;dbl&gt;</th><th scope=col>&lt;chr&gt;</th><th scope=col>&lt;dbl&gt;</th></tr>\n",
       "</thead>\n",
       "<tbody>\n",
       "\t<tr><td>ENSG00000000971</td><td>1</td><td>0.681237</td><td>1</td><td>0.9863</td><td>0.992495</td><td>0.993228</td><td>rs529541  </td><td>0.6953730</td></tr>\n",
       "\t<tr><td>ENSG00000000971</td><td>1</td><td>0.681237</td><td>1</td><td>0.9863</td><td>0.992495</td><td>0.993228</td><td>rs11582939</td><td>0.1636590</td></tr>\n",
       "\t<tr><td>ENSG00000000971</td><td>1</td><td>0.681237</td><td>1</td><td>0.9863</td><td>0.992495</td><td>0.993228</td><td>rs1065489 </td><td>0.0389265</td></tr>\n",
       "\t<tr><td>ENSG00000000971</td><td>1</td><td>0.681237</td><td>1</td><td>0.9863</td><td>0.992495</td><td>0.993228</td><td>rs72482675</td><td>0.0389265</td></tr>\n",
       "\t<tr><td>ENSG00000000971</td><td>1</td><td>0.681237</td><td>1</td><td>0.9863</td><td>0.992495</td><td>0.993228</td><td>rs11584505</td><td>0.0184423</td></tr>\n",
       "\t<tr><td>ENSG00000005421</td><td>8</td><td>1.000000</td><td>1</td><td>1.0000</td><td>1.000000</td><td>1.000000</td><td>rs6961415 </td><td>1.0000000</td></tr>\n",
       "</tbody>\n",
       "</table>\n"
      ],
      "text/latex": [
       "A grouped\\_df: 6 × 9\n",
       "\\begin{tabular}{lllllllll}\n",
       " Gene & k & Post\\_Prob\\_k & Credibility\\_Set & Credibility\\_Set\\_Min\\_LD & Credibility\\_Set\\_Mean\\_LD & Credibility\\_Set\\_Median\\_LD & SNP & Prob\\_SNP\\_in\\_CS\\\\\n",
       " <chr> & <int> & <dbl> & <int> & <dbl> & <dbl> & <dbl> & <chr> & <dbl>\\\\\n",
       "\\hline\n",
       "\t ENSG00000000971 & 1 & 0.681237 & 1 & 0.9863 & 0.992495 & 0.993228 & rs529541   & 0.6953730\\\\\n",
       "\t ENSG00000000971 & 1 & 0.681237 & 1 & 0.9863 & 0.992495 & 0.993228 & rs11582939 & 0.1636590\\\\\n",
       "\t ENSG00000000971 & 1 & 0.681237 & 1 & 0.9863 & 0.992495 & 0.993228 & rs1065489  & 0.0389265\\\\\n",
       "\t ENSG00000000971 & 1 & 0.681237 & 1 & 0.9863 & 0.992495 & 0.993228 & rs72482675 & 0.0389265\\\\\n",
       "\t ENSG00000000971 & 1 & 0.681237 & 1 & 0.9863 & 0.992495 & 0.993228 & rs11584505 & 0.0184423\\\\\n",
       "\t ENSG00000005421 & 8 & 1.000000 & 1 & 1.0000 & 1.000000 & 1.000000 & rs6961415  & 1.0000000\\\\\n",
       "\\end{tabular}\n"
      ],
      "text/markdown": [
       "\n",
       "A grouped_df: 6 × 9\n",
       "\n",
       "| Gene &lt;chr&gt; | k &lt;int&gt; | Post_Prob_k &lt;dbl&gt; | Credibility_Set &lt;int&gt; | Credibility_Set_Min_LD &lt;dbl&gt; | Credibility_Set_Mean_LD &lt;dbl&gt; | Credibility_Set_Median_LD &lt;dbl&gt; | SNP &lt;chr&gt; | Prob_SNP_in_CS &lt;dbl&gt; |\n",
       "|---|---|---|---|---|---|---|---|---|\n",
       "| ENSG00000000971 | 1 | 0.681237 | 1 | 0.9863 | 0.992495 | 0.993228 | rs529541   | 0.6953730 |\n",
       "| ENSG00000000971 | 1 | 0.681237 | 1 | 0.9863 | 0.992495 | 0.993228 | rs11582939 | 0.1636590 |\n",
       "| ENSG00000000971 | 1 | 0.681237 | 1 | 0.9863 | 0.992495 | 0.993228 | rs1065489  | 0.0389265 |\n",
       "| ENSG00000000971 | 1 | 0.681237 | 1 | 0.9863 | 0.992495 | 0.993228 | rs72482675 | 0.0389265 |\n",
       "| ENSG00000000971 | 1 | 0.681237 | 1 | 0.9863 | 0.992495 | 0.993228 | rs11584505 | 0.0184423 |\n",
       "| ENSG00000005421 | 8 | 1.000000 | 1 | 1.0000 | 1.000000 | 1.000000 | rs6961415  | 1.0000000 |\n",
       "\n"
      ],
      "text/plain": [
       "  Gene            k Post_Prob_k Credibility_Set Credibility_Set_Min_LD\n",
       "1 ENSG00000000971 1 0.681237    1               0.9863                \n",
       "2 ENSG00000000971 1 0.681237    1               0.9863                \n",
       "3 ENSG00000000971 1 0.681237    1               0.9863                \n",
       "4 ENSG00000000971 1 0.681237    1               0.9863                \n",
       "5 ENSG00000000971 1 0.681237    1               0.9863                \n",
       "6 ENSG00000005421 8 1.000000    1               1.0000                \n",
       "  Credibility_Set_Mean_LD Credibility_Set_Median_LD SNP        Prob_SNP_in_CS\n",
       "1 0.992495                0.993228                  rs529541   0.6953730     \n",
       "2 0.992495                0.993228                  rs11582939 0.1636590     \n",
       "3 0.992495                0.993228                  rs1065489  0.0389265     \n",
       "4 0.992495                0.993228                  rs72482675 0.0389265     \n",
       "5 0.992495                0.993228                  rs11584505 0.0184423     \n",
       "6 1.000000                1.000000                  rs6961415  1.0000000     "
      ]
     },
     "metadata": {},
     "output_type": "display_data"
    }
   ],
   "source": [
    "head(finemap.snps)"
   ]
  },
  {
   "cell_type": "markdown",
   "id": "c8603037-23b2-4912-a18b-4f544052f1d5",
   "metadata": {},
   "source": [
    "### Compare Credible Sets"
   ]
  },
  {
   "cell_type": "markdown",
   "id": "71b4a962-a8c8-4dde-983a-55f1137236b7",
   "metadata": {},
   "source": [
    "Of the 23 pQTL loci, 13 have a CS using SuSiE. The initial anlaysis from FINEMAP assigns a CS to each eigengene-locus pair. When using the purity filter, there are 23 FINEMAP CSs."
   ]
  },
  {
   "cell_type": "code",
   "execution_count": 29,
   "id": "4a0d003d-2be4-4055-8266-c93bf5397045",
   "metadata": {},
   "outputs": [
    {
     "data": {
      "text/html": [
       "13"
      ],
      "text/latex": [
       "13"
      ],
      "text/markdown": [
       "13"
      ],
      "text/plain": [
       "[1] 13"
      ]
     },
     "metadata": {},
     "output_type": "display_data"
    }
   ],
   "source": [
    "susie.snps %>%\n",
    "    dplyr::count(Gene) %>%\n",
    "    nrow()"
   ]
  },
  {
   "cell_type": "code",
   "execution_count": 30,
   "id": "dff5d8f6-9aa5-435a-a2a6-a201bc828617",
   "metadata": {},
   "outputs": [
    {
     "data": {
      "text/html": [
       "23"
      ],
      "text/latex": [
       "23"
      ],
      "text/markdown": [
       "23"
      ],
      "text/plain": [
       "[1] 23"
      ]
     },
     "metadata": {},
     "output_type": "display_data"
    }
   ],
   "source": [
    "finemap.snps %>%\n",
    "    dplyr::count(Gene) %>%\n",
    "    nrow()"
   ]
  },
  {
   "cell_type": "code",
   "execution_count": 31,
   "id": "1be85dae-11d9-49a6-b18c-cbcc505e969e",
   "metadata": {},
   "outputs": [
    {
     "data": {
      "text/html": [
       "23"
      ],
      "text/latex": [
       "23"
      ],
      "text/markdown": [
       "23"
      ],
      "text/plain": [
       "[1] 23"
      ]
     },
     "metadata": {},
     "output_type": "display_data"
    }
   ],
   "source": [
    "finemap.snps %>%\n",
    "    dplyr::filter(Credibility_Set_Min_LD >= 0.5) %>%\n",
    "    dplyr::count(Gene) %>%\n",
    "    nrow()"
   ]
  },
  {
   "cell_type": "markdown",
   "id": "7aded6ca-6be8-426a-9d2b-c459f76855df",
   "metadata": {},
   "source": [
    "How many signals are we detecting per pair? Are they concordant between the two methods?"
   ]
  },
  {
   "cell_type": "code",
   "execution_count": 32,
   "id": "d2d3302f-f627-4ce9-bae6-813e983b8b91",
   "metadata": {},
   "outputs": [],
   "source": [
    "cs.freq.mtx <- merge(\n",
    "    susie.snps %>%\n",
    "        dplyr::select(Gene, Credible_Set) %>%\n",
    "        dplyr::group_by(Gene) %>%\n",
    "        dplyr::summarize(SuSiE.CSs=length(unique(Credible_Set))),\n",
    "    finemap.snps %>%\n",
    "        dplyr::filter(Credibility_Set_Min_LD >= 0.5) %>%\n",
    "        dplyr::group_by(Gene) %>%\n",
    "        dplyr::summarize(FINEMAP.CSs=length(unique(Credibility_Set))),\n",
    "    by=\"Gene\"\n",
    ") %>%\n",
    "    dplyr::mutate(SuSiE.CSs=factor(SuSiE.CSs, levels=1:10)) %>%\n",
    "    dplyr::mutate(FINEMAP.CSs=factor(FINEMAP.CSs, levels=1:10)) %>%\n",
    "    dplyr::count(SuSiE.CSs, FINEMAP.CSs, .drop=F) %>%\n",
    "    tidyr::spread(FINEMAP.CSs, n)\n",
    "\n",
    "rownames(cs.freq.mtx) <- cs.freq.mtx$SuSiE.CSs\n",
    "cs.freq.mtx$SuSiE.CSs <- NULL\n",
    "cs.freq.mtx <- as.matrix(cs.freq.mtx)"
   ]
  },
  {
   "cell_type": "code",
   "execution_count": 33,
   "id": "cc914793-43f5-4857-a91f-b50ec0f898e2",
   "metadata": {},
   "outputs": [
    {
     "data": {
      "text/html": [
       "13"
      ],
      "text/latex": [
       "13"
      ],
      "text/markdown": [
       "13"
      ],
      "text/plain": [
       "[1] 13"
      ]
     },
     "metadata": {},
     "output_type": "display_data"
    }
   ],
   "source": [
    "sum(cs.freq.mtx)"
   ]
  },
  {
   "cell_type": "code",
   "execution_count": 34,
   "id": "edf78031-d3da-4c91-8280-3e11ee6f330c",
   "metadata": {},
   "outputs": [
    {
     "data": {
      "text/html": [
       "<strong>png:</strong> 2"
      ],
      "text/latex": [
       "\\textbf{png:} 2"
      ],
      "text/markdown": [
       "**png:** 2"
      ],
      "text/plain": [
       "png \n",
       "  2 "
      ]
     },
     "metadata": {},
     "output_type": "display_data"
    }
   ],
   "source": [
    "options(repr.plot.width=6.5, repr.plot.height=6)\n",
    "\n",
    "col_fun = colorRamp2(c(0, max(cs.freq.mtx)), c(\"white\", \"lightsteelblue2\"))\n",
    "\n",
    "column_ha = HeatmapAnnotation(\n",
    "    FINEMAP = anno_barplot(\n",
    "        colSums(cs.freq.mtx), border=F, bar_width=1, height=unit(2.5, \"cm\"), \n",
    "        gp=gpar(fill=\"lightsteelblue2\", col=NA)\n",
    "    ),\n",
    "    show_annotation_name=F\n",
    ")\n",
    "row_ha = rowAnnotation(\n",
    "    SuSiE = anno_barplot(\n",
    "        rowSums(cs.freq.mtx), border=F, bar_width=1, width=unit(2.5, \"cm\"),\n",
    "        gp=gpar(fill=\"lightsteelblue2\", col=NA)\n",
    "    ),\n",
    "    show_annotation_name=F\n",
    ")\n",
    "\n",
    "pdf(\"01_Colocalization/results/cis_pqtl_n_signals.pdf\", width=6.5, height=6)\n",
    "Heatmap(\n",
    "    cs.freq.mtx, name=\"Signals\",\n",
    "    col=col_fun,\n",
    "    cluster_rows=F, cluster_columns=F,\n",
    "    top_annotation=column_ha, right_annotation=row_ha,\n",
    "    row_names_side=\"left\", column_title_side=\"bottom\",\n",
    "    rect_gp=gpar(col=\"black\", lwd=0.5),\n",
    "    row_title=\"Signals from SuSiE\", column_title=\"Signals from FINEMAP\",\n",
    "    cell_fun = function(j, i, x, y, width, height, fill) {\n",
    "        grid.text(sprintf(\"%d\", cs.freq.mtx[i, j]), x, y, gp=gpar(fontsize=10))\n",
    "    }\n",
    ")\n",
    "dev.off()"
   ]
  },
  {
   "cell_type": "markdown",
   "id": "0bbd3892-f437-427b-935c-7e42099b15e8",
   "metadata": {},
   "source": [
    "![](../results/cis_pqtl_n_signals.svg)"
   ]
  },
  {
   "cell_type": "markdown",
   "id": "e3d50364-83fe-4375-8239-50c2b3f2de3c",
   "metadata": {},
   "source": [
    "How different are the CS sizes?"
   ]
  },
  {
   "cell_type": "code",
   "execution_count": 35,
   "id": "12b4bc12-98c7-431a-a403-144150e6b943",
   "metadata": {},
   "outputs": [
    {
     "data": {
      "image/png": "[encoded data removed]",
      "text/plain": [
       "plot without title"
      ]
     },
     "metadata": {
      "image/png": {
       "height": 210,
       "width": 720
      }
     },
     "output_type": "display_data"
    }
   ],
   "source": [
    "options(repr.plot.width=12, repr.plot.height=3.5)\n",
    "\n",
    "dplyr::bind_rows(\n",
    "    ld.tags %>%\n",
    "        dplyr::mutate(Method=\"LD\") %>%\n",
    "        dplyr::select(Method, Gene, N.SNPs=NTAG),\n",
    "    susie.snps %>%\n",
    "        dplyr::count(Gene) %>%\n",
    "        dplyr::mutate(Method=\"SuSiE\") %>%\n",
    "        dplyr::select(Method, Gene, N.SNPs=n),\n",
    "    finemap.snps %>%\n",
    "        dplyr::count(Gene) %>%\n",
    "        dplyr::mutate(Method=\"FINEMAP\") %>%\n",
    "        dplyr::select(Method, Gene, N.SNPs=n)\n",
    ") %>%\n",
    "    dplyr::mutate(CS.Size=cut(N.SNPs, breaks=c(0, 1, 5, 20, 50, Inf), labels=c(\"1\", \"2-5\", \"6-20\", \"21-50\", \">50\"), include.lowest=F)) %>%\n",
    "    dplyr::mutate(Method=factor(Method, levels=c(\"LD\", \"FINEMAP\", \"SuSiE\"))) %>%\n",
    "    dplyr::group_by(Method, CS.Size) %>%\n",
    "    dplyr::summarize(N=n(), .groups=\"drop\") %>%\n",
    "    dplyr::group_by(Method) %>%\n",
    "    dplyr::mutate(Freq=N / sum(N)) %>%\n",
    "    ggplot() +\n",
    "    geom_bar(aes(x=Method, y=Freq, fill=CS.Size), stat=\"identity\", position=position_stack(reverse=T)) +\n",
    "    scale_fill_brewer(\"CS Size\", palette=\"Pastel1\") +\n",
    "    ylab(\"Proportion of Loci\") +\n",
    "    coord_flip() +\n",
    "    ggplot_theme +\n",
    "    theme(axis.title.y=element_blank())\n",
    "\n",
    "ggsave(\"01_Colocalization/results/cis_pqtl_cs_sizes.pdf\", width=12, height=3.5)"
   ]
  },
  {
   "cell_type": "markdown",
   "id": "40e898d1-f640-4b44-bc74-c0fa647c15bb",
   "metadata": {
    "tags": []
   },
   "source": [
    "## Paired Tests of Credible Sets"
   ]
  },
  {
   "cell_type": "markdown",
   "id": "ec434759-f4b4-4086-ab66-9a51d1d93536",
   "metadata": {},
   "source": [
    "Combine all credible set sizes based on SuSiE results to perform paired tests."
   ]
  },
  {
   "cell_type": "code",
   "execution_count": 93,
   "id": "807d5c1a-75d9-414f-ac95-9d0388149de7",
   "metadata": {},
   "outputs": [],
   "source": [
    "cs.sizes <- merge(\n",
    "    susie.snps %>%\n",
    "        dplyr::count(Gene, name=\"SuSiE.N.SNPs\") %>%\n",
    "        dplyr::select(Gene, SuSiE.N.SNPs),\n",
    "    finemap.snps %>%\n",
    "        dplyr::filter(Credibility_Set_Min_LD >= 0.5) %>%\n",
    "        dplyr::count(Gene, name=\"FINEMAP.N.SNPs\"),\n",
    "    by=c(\"Gene\")\n",
    ") %>%\n",
    "    merge(., ld.tags, by=c(\"Gene\")) %>%\n",
    "    dplyr::select(Gene, SuSiE.N.SNPs, FINEMAP.N.SNPs, NTAG)"
   ]
  },
  {
   "cell_type": "code",
   "execution_count": 94,
   "id": "5d0f8849-cf21-405c-b34c-4ca025e6f603",
   "metadata": {},
   "outputs": [
    {
     "data": {
      "text/html": [
       "<style>\n",
       ".list-inline {list-style: none; margin:0; padding: 0}\n",
       ".list-inline>li {display: inline-block}\n",
       ".list-inline>li:not(:last-child)::after {content: \"\\00b7\"; padding: 0 .5ex}\n",
       "</style>\n",
       "<ol class=list-inline><li>13</li><li>4</li></ol>\n"
      ],
      "text/latex": [
       "\\begin{enumerate*}\n",
       "\\item 13\n",
       "\\item 4\n",
       "\\end{enumerate*}\n"
      ],
      "text/markdown": [
       "1. 13\n",
       "2. 4\n",
       "\n",
       "\n"
      ],
      "text/plain": [
       "[1] 13  4"
      ]
     },
     "metadata": {},
     "output_type": "display_data"
    }
   ],
   "source": [
    "dim(cs.sizes)"
   ]
  },
  {
   "cell_type": "markdown",
   "id": "c3762d54-5ae2-4bb8-a9ea-d95a5a442409",
   "metadata": {},
   "source": [
    "The median size of the LD snp sets is much higher than FINEMAP and SuSiE when using the SuSiE pruned set. The FINEMAP median is much higher by itself (23) and the LD snp sets are actually smaller (12)."
   ]
  },
  {
   "cell_type": "code",
   "execution_count": 95,
   "id": "4cbe8be0-0de2-4d01-a310-ba41270f1183",
   "metadata": {},
   "outputs": [
    {
     "data": {
      "text/html": [
       "<table class=\"dataframe\">\n",
       "<caption>A tibble: 3 × 2</caption>\n",
       "<thead>\n",
       "\t<tr><th scope=col>Method</th><th scope=col>Median.CS.Size</th></tr>\n",
       "\t<tr><th scope=col>&lt;chr&gt;</th><th scope=col>&lt;dbl&gt;</th></tr>\n",
       "</thead>\n",
       "<tbody>\n",
       "\t<tr><td>FINEMAP.N.SNPs</td><td>20</td></tr>\n",
       "\t<tr><td>NTAG          </td><td>18</td></tr>\n",
       "\t<tr><td>SuSiE.N.SNPs  </td><td>20</td></tr>\n",
       "</tbody>\n",
       "</table>\n"
      ],
      "text/latex": [
       "A tibble: 3 × 2\n",
       "\\begin{tabular}{ll}\n",
       " Method & Median.CS.Size\\\\\n",
       " <chr> & <dbl>\\\\\n",
       "\\hline\n",
       "\t FINEMAP.N.SNPs & 20\\\\\n",
       "\t NTAG           & 18\\\\\n",
       "\t SuSiE.N.SNPs   & 20\\\\\n",
       "\\end{tabular}\n"
      ],
      "text/markdown": [
       "\n",
       "A tibble: 3 × 2\n",
       "\n",
       "| Method &lt;chr&gt; | Median.CS.Size &lt;dbl&gt; |\n",
       "|---|---|\n",
       "| FINEMAP.N.SNPs | 20 |\n",
       "| NTAG           | 18 |\n",
       "| SuSiE.N.SNPs   | 20 |\n",
       "\n"
      ],
      "text/plain": [
       "  Method         Median.CS.Size\n",
       "1 FINEMAP.N.SNPs 20            \n",
       "2 NTAG           18            \n",
       "3 SuSiE.N.SNPs   20            "
      ]
     },
     "metadata": {},
     "output_type": "display_data"
    }
   ],
   "source": [
    "cs.sizes %>%\n",
    "    tidyr::gather(key=\"Method\", value=\"N.SNPs\", -Gene) %>%\n",
    "    dplyr::group_by(Method) %>%\n",
    "    dplyr::summarize(Median.CS.Size=median(N.SNPs))"
   ]
  },
  {
   "cell_type": "markdown",
   "id": "a0aafcb6-3fc3-479f-8b43-53a9273d13c8",
   "metadata": {},
   "source": [
    "## Trans-pQTL"
   ]
  },
  {
   "cell_type": "markdown",
   "id": "44aa9bf7-5f30-4951-b606-bbdd76d982a3",
   "metadata": {
    "tags": []
   },
   "source": [
    "### Load Data"
   ]
  },
  {
   "cell_type": "code",
   "execution_count": 100,
   "id": "f9008131-7041-4cc2-9fdc-79dc307622bb",
   "metadata": {},
   "outputs": [],
   "source": [
    "trans.pqtl <- readRDS(\"~/gains_team282/proteomics/pqtl/pqtl_ms2019/trans_pqtl_all.RDS\") %>%\n",
    "    dplyr::group_by(pQTL_Protein) %>%\n",
    "    dplyr::slice_min(pQTL_pval, n=1, with_ties=F)"
   ]
  },
  {
   "cell_type": "code",
   "execution_count": 106,
   "id": "7e0eabd4-fc41-479c-a495-efb7d2965b51",
   "metadata": {},
   "outputs": [],
   "source": [
    "ld.tags <- fread(\"~/gains_team282/nikhil/colocalization/cis_eqtl/fine_mapping/LD/trans_pqtl_snps.80r2.tags.tsv\") %>%\n",
    "    dplyr::mutate(NTAG = NTAG + 1) %>%\n",
    "    dplyr::mutate(SNP = gsub(\":\", \"\\\\.\", SNP)) %>%\n",
    "    merge(trans.pqtl, ., by=\"SNP\")"
   ]
  },
  {
   "cell_type": "code",
   "execution_count": 107,
   "id": "fedeb81b-6545-442b-8831-4e8e18d6c60d",
   "metadata": {},
   "outputs": [
    {
     "data": {
      "text/html": [
       "<table class=\"dataframe\">\n",
       "<caption>A data.frame: 6 × 16</caption>\n",
       "<thead>\n",
       "\t<tr><th></th><th scope=col>SNP</th><th scope=col>Chr</th><th scope=col>Position</th><th scope=col>pQTL_beta</th><th scope=col>pQTL_SE</th><th scope=col>pQTL_t</th><th scope=col>pQTL_pval</th><th scope=col>pQTL_Protein</th><th scope=col>pQTL_Locus</th><th scope=col>CHR</th><th scope=col>BP</th><th scope=col>NTAG</th><th scope=col>LEFT</th><th scope=col>RIGHT</th><th scope=col>KBSPAN</th><th scope=col>TAGS</th></tr>\n",
       "\t<tr><th></th><th scope=col>&lt;chr&gt;</th><th scope=col>&lt;int&gt;</th><th scope=col>&lt;int&gt;</th><th scope=col>&lt;dbl&gt;</th><th scope=col>&lt;dbl&gt;</th><th scope=col>&lt;dbl&gt;</th><th scope=col>&lt;dbl&gt;</th><th scope=col>&lt;chr&gt;</th><th scope=col>&lt;chr&gt;</th><th scope=col>&lt;int&gt;</th><th scope=col>&lt;int&gt;</th><th scope=col>&lt;dbl&gt;</th><th scope=col>&lt;int&gt;</th><th scope=col>&lt;int&gt;</th><th scope=col>&lt;dbl&gt;</th><th scope=col>&lt;chr&gt;</th></tr>\n",
       "</thead>\n",
       "<tbody>\n",
       "\t<tr><th scope=row>1</th><td>rs11846959</td><td>14</td><td>94379979</td><td>-0.3065649</td><td>0.01614662</td><td>-18.986322</td><td>3.309735e-69</td><td>P00751</td><td>pQTL_1</td><td>14</td><td>94379979</td><td> 5</td><td>94378225</td><td>94380555</td><td> 2.331</td><td>rs2073333|rs1303|rs17090719|rs2070709                                                                                                                                                                                                                                                                                                                              </td></tr>\n",
       "\t<tr><th scope=row>2</th><td>rs11846959</td><td>14</td><td>94379979</td><td>-0.2137874</td><td>0.01793464</td><td>-11.920362</td><td>6.923034e-31</td><td>P02787</td><td>pQTL_1</td><td>14</td><td>94379979</td><td> 5</td><td>94378225</td><td>94380555</td><td> 2.331</td><td>rs2073333|rs1303|rs17090719|rs2070709                                                                                                                                                                                                                                                                                                                              </td></tr>\n",
       "\t<tr><th scope=row>3</th><td>rs16917722</td><td> 8</td><td>95461382</td><td>-0.4991650</td><td>0.06949047</td><td> -7.183215</td><td>1.673847e-12</td><td>P35858</td><td>pQTL_1</td><td> 8</td><td>95461382</td><td>33</td><td>95437139</td><td>95516982</td><td>79.844</td><td>rs28435534|rs74864598|rs16917667|rs1392797|rs28419508|rs116454494|rs78897914|rs16917715|rs73697818|rs75111460|rs75939204|rs76368529|rs868420|rs74586905|rs2318880|rs112753030|rs16917749|rs16917758|rs114275138|rs114577508|rs116004313|rs78447422|rs77136836|rs74630252|rs10102183|rs115026515|rs77090364|rs114315647|rs115818964|rs75942501|rs76137505|rs79279191</td></tr>\n",
       "\t<tr><th scope=row>4</th><td>rs28929474</td><td>14</td><td>94378610</td><td> 0.5651334</td><td>0.07657069</td><td>  7.380545</td><td>3.282674e-13</td><td>Q92954</td><td>pQTL_1</td><td>14</td><td>94378610</td><td> 2</td><td>94371805</td><td>94378610</td><td> 6.806</td><td>rs112635299                                                                                                                                                                                                                                                                                                                                                        </td></tr>\n",
       "\t<tr><th scope=row>5</th><td>rs9302635 </td><td>16</td><td>72110275</td><td> 0.1145890</td><td>0.01466176</td><td>  7.815500</td><td>1.200982e-14</td><td>P10909</td><td>pQTL_1</td><td>16</td><td>72110275</td><td> 4</td><td>72098230</td><td>72122767</td><td>24.538</td><td>rs11075921|rs9930957|rs35909200                                                                                                                                                                                                                                                                                                                                    </td></tr>\n",
       "\t<tr><th scope=row>6</th><td>rs9302635 </td><td>16</td><td>72110275</td><td> 0.1319606</td><td>0.01429908</td><td>  9.228609</td><td>1.454631e-19</td><td>P19827</td><td>pQTL_1</td><td>16</td><td>72110275</td><td> 4</td><td>72098230</td><td>72122767</td><td>24.538</td><td>rs11075921|rs9930957|rs35909200                                                                                                                                                                                                                                                                                                                                    </td></tr>\n",
       "</tbody>\n",
       "</table>\n"
      ],
      "text/latex": [
       "A data.frame: 6 × 16\n",
       "\\begin{tabular}{r|llllllllllllllll}\n",
       "  & SNP & Chr & Position & pQTL\\_beta & pQTL\\_SE & pQTL\\_t & pQTL\\_pval & pQTL\\_Protein & pQTL\\_Locus & CHR & BP & NTAG & LEFT & RIGHT & KBSPAN & TAGS\\\\\n",
       "  & <chr> & <int> & <int> & <dbl> & <dbl> & <dbl> & <dbl> & <chr> & <chr> & <int> & <int> & <dbl> & <int> & <int> & <dbl> & <chr>\\\\\n",
       "\\hline\n",
       "\t1 & rs11846959 & 14 & 94379979 & -0.3065649 & 0.01614662 & -18.986322 & 3.309735e-69 & P00751 & pQTL\\_1 & 14 & 94379979 &  5 & 94378225 & 94380555 &  2.331 & rs2073333\\textbar{}rs1303\\textbar{}rs17090719\\textbar{}rs2070709                                                                                                                                                                                                                                                                                                                              \\\\\n",
       "\t2 & rs11846959 & 14 & 94379979 & -0.2137874 & 0.01793464 & -11.920362 & 6.923034e-31 & P02787 & pQTL\\_1 & 14 & 94379979 &  5 & 94378225 & 94380555 &  2.331 & rs2073333\\textbar{}rs1303\\textbar{}rs17090719\\textbar{}rs2070709                                                                                                                                                                                                                                                                                                                              \\\\\n",
       "\t3 & rs16917722 &  8 & 95461382 & -0.4991650 & 0.06949047 &  -7.183215 & 1.673847e-12 & P35858 & pQTL\\_1 &  8 & 95461382 & 33 & 95437139 & 95516982 & 79.844 & rs28435534\\textbar{}rs74864598\\textbar{}rs16917667\\textbar{}rs1392797\\textbar{}rs28419508\\textbar{}rs116454494\\textbar{}rs78897914\\textbar{}rs16917715\\textbar{}rs73697818\\textbar{}rs75111460\\textbar{}rs75939204\\textbar{}rs76368529\\textbar{}rs868420\\textbar{}rs74586905\\textbar{}rs2318880\\textbar{}rs112753030\\textbar{}rs16917749\\textbar{}rs16917758\\textbar{}rs114275138\\textbar{}rs114577508\\textbar{}rs116004313\\textbar{}rs78447422\\textbar{}rs77136836\\textbar{}rs74630252\\textbar{}rs10102183\\textbar{}rs115026515\\textbar{}rs77090364\\textbar{}rs114315647\\textbar{}rs115818964\\textbar{}rs75942501\\textbar{}rs76137505\\textbar{}rs79279191\\\\\n",
       "\t4 & rs28929474 & 14 & 94378610 &  0.5651334 & 0.07657069 &   7.380545 & 3.282674e-13 & Q92954 & pQTL\\_1 & 14 & 94378610 &  2 & 94371805 & 94378610 &  6.806 & rs112635299                                                                                                                                                                                                                                                                                                                                                        \\\\\n",
       "\t5 & rs9302635  & 16 & 72110275 &  0.1145890 & 0.01466176 &   7.815500 & 1.200982e-14 & P10909 & pQTL\\_1 & 16 & 72110275 &  4 & 72098230 & 72122767 & 24.538 & rs11075921\\textbar{}rs9930957\\textbar{}rs35909200                                                                                                                                                                                                                                                                                                                                    \\\\\n",
       "\t6 & rs9302635  & 16 & 72110275 &  0.1319606 & 0.01429908 &   9.228609 & 1.454631e-19 & P19827 & pQTL\\_1 & 16 & 72110275 &  4 & 72098230 & 72122767 & 24.538 & rs11075921\\textbar{}rs9930957\\textbar{}rs35909200                                                                                                                                                                                                                                                                                                                                    \\\\\n",
       "\\end{tabular}\n"
      ],
      "text/markdown": [
       "\n",
       "A data.frame: 6 × 16\n",
       "\n",
       "| <!--/--> | SNP &lt;chr&gt; | Chr &lt;int&gt; | Position &lt;int&gt; | pQTL_beta &lt;dbl&gt; | pQTL_SE &lt;dbl&gt; | pQTL_t &lt;dbl&gt; | pQTL_pval &lt;dbl&gt; | pQTL_Protein &lt;chr&gt; | pQTL_Locus &lt;chr&gt; | CHR &lt;int&gt; | BP &lt;int&gt; | NTAG &lt;dbl&gt; | LEFT &lt;int&gt; | RIGHT &lt;int&gt; | KBSPAN &lt;dbl&gt; | TAGS &lt;chr&gt; |\n",
       "|---|---|---|---|---|---|---|---|---|---|---|---|---|---|---|---|---|\n",
       "| 1 | rs11846959 | 14 | 94379979 | -0.3065649 | 0.01614662 | -18.986322 | 3.309735e-69 | P00751 | pQTL_1 | 14 | 94379979 |  5 | 94378225 | 94380555 |  2.331 | rs2073333|rs1303|rs17090719|rs2070709                                                                                                                                                                                                                                                                                                                               |\n",
       "| 2 | rs11846959 | 14 | 94379979 | -0.2137874 | 0.01793464 | -11.920362 | 6.923034e-31 | P02787 | pQTL_1 | 14 | 94379979 |  5 | 94378225 | 94380555 |  2.331 | rs2073333|rs1303|rs17090719|rs2070709                                                                                                                                                                                                                                                                                                                               |\n",
       "| 3 | rs16917722 |  8 | 95461382 | -0.4991650 | 0.06949047 |  -7.183215 | 1.673847e-12 | P35858 | pQTL_1 |  8 | 95461382 | 33 | 95437139 | 95516982 | 79.844 | rs28435534|rs74864598|rs16917667|rs1392797|rs28419508|rs116454494|rs78897914|rs16917715|rs73697818|rs75111460|rs75939204|rs76368529|rs868420|rs74586905|rs2318880|rs112753030|rs16917749|rs16917758|rs114275138|rs114577508|rs116004313|rs78447422|rs77136836|rs74630252|rs10102183|rs115026515|rs77090364|rs114315647|rs115818964|rs75942501|rs76137505|rs79279191 |\n",
       "| 4 | rs28929474 | 14 | 94378610 |  0.5651334 | 0.07657069 |   7.380545 | 3.282674e-13 | Q92954 | pQTL_1 | 14 | 94378610 |  2 | 94371805 | 94378610 |  6.806 | rs112635299                                                                                                                                                                                                                                                                                                                                                         |\n",
       "| 5 | rs9302635  | 16 | 72110275 |  0.1145890 | 0.01466176 |   7.815500 | 1.200982e-14 | P10909 | pQTL_1 | 16 | 72110275 |  4 | 72098230 | 72122767 | 24.538 | rs11075921|rs9930957|rs35909200                                                                                                                                                                                                                                                                                                                                     |\n",
       "| 6 | rs9302635  | 16 | 72110275 |  0.1319606 | 0.01429908 |   9.228609 | 1.454631e-19 | P19827 | pQTL_1 | 16 | 72110275 |  4 | 72098230 | 72122767 | 24.538 | rs11075921|rs9930957|rs35909200                                                                                                                                                                                                                                                                                                                                     |\n",
       "\n"
      ],
      "text/plain": [
       "  SNP        Chr Position pQTL_beta  pQTL_SE    pQTL_t     pQTL_pval   \n",
       "1 rs11846959 14  94379979 -0.3065649 0.01614662 -18.986322 3.309735e-69\n",
       "2 rs11846959 14  94379979 -0.2137874 0.01793464 -11.920362 6.923034e-31\n",
       "3 rs16917722  8  95461382 -0.4991650 0.06949047  -7.183215 1.673847e-12\n",
       "4 rs28929474 14  94378610  0.5651334 0.07657069   7.380545 3.282674e-13\n",
       "5 rs9302635  16  72110275  0.1145890 0.01466176   7.815500 1.200982e-14\n",
       "6 rs9302635  16  72110275  0.1319606 0.01429908   9.228609 1.454631e-19\n",
       "  pQTL_Protein pQTL_Locus CHR BP       NTAG LEFT     RIGHT    KBSPAN\n",
       "1 P00751       pQTL_1     14  94379979  5   94378225 94380555  2.331\n",
       "2 P02787       pQTL_1     14  94379979  5   94378225 94380555  2.331\n",
       "3 P35858       pQTL_1      8  95461382 33   95437139 95516982 79.844\n",
       "4 Q92954       pQTL_1     14  94378610  2   94371805 94378610  6.806\n",
       "5 P10909       pQTL_1     16  72110275  4   72098230 72122767 24.538\n",
       "6 P19827       pQTL_1     16  72110275  4   72098230 72122767 24.538\n",
       "  TAGS                                                                                                                                                                                                                                                                                                                                                               \n",
       "1 rs2073333|rs1303|rs17090719|rs2070709                                                                                                                                                                                                                                                                                                                              \n",
       "2 rs2073333|rs1303|rs17090719|rs2070709                                                                                                                                                                                                                                                                                                                              \n",
       "3 rs28435534|rs74864598|rs16917667|rs1392797|rs28419508|rs116454494|rs78897914|rs16917715|rs73697818|rs75111460|rs75939204|rs76368529|rs868420|rs74586905|rs2318880|rs112753030|rs16917749|rs16917758|rs114275138|rs114577508|rs116004313|rs78447422|rs77136836|rs74630252|rs10102183|rs115026515|rs77090364|rs114315647|rs115818964|rs75942501|rs76137505|rs79279191\n",
       "4 rs112635299                                                                                                                                                                                                                                                                                                                                                        \n",
       "5 rs11075921|rs9930957|rs35909200                                                                                                                                                                                                                                                                                                                                    \n",
       "6 rs11075921|rs9930957|rs35909200                                                                                                                                                                                                                                                                                                                                    "
      ]
     },
     "metadata": {},
     "output_type": "display_data"
    }
   ],
   "source": [
    "head(ld.tags)"
   ]
  },
  {
   "cell_type": "code",
   "execution_count": 119,
   "id": "6c44604e-33d0-405b-b2b2-1a50bc003063",
   "metadata": {},
   "outputs": [],
   "source": [
    "susie.snps <- read.table(\"~/gains_team282/nikhil/colocalization/pqtl/fine_mapping/SuSiE/trans_pqtl_credible_sets.tsv\", sep=\"\\t\", header=T) %>%\n",
    "    as.data.frame() %>%\n",
    "    dplyr::filter(is.na(Notes)) %>%\n",
    "    dplyr::select(-Notes)"
   ]
  },
  {
   "cell_type": "code",
   "execution_count": 120,
   "id": "996c1775-b024-4012-a0c9-11b74dcaa6f4",
   "metadata": {},
   "outputs": [
    {
     "data": {
      "text/html": [
       "<table class=\"dataframe\">\n",
       "<caption>A data.frame: 6 × 4</caption>\n",
       "<thead>\n",
       "\t<tr><th></th><th scope=col>pQTL_ID</th><th scope=col>SNP</th><th scope=col>SNP_Prob</th><th scope=col>Credible_Set</th></tr>\n",
       "\t<tr><th></th><th scope=col>&lt;chr&gt;</th><th scope=col>&lt;chr&gt;</th><th scope=col>&lt;dbl&gt;</th><th scope=col>&lt;int&gt;</th></tr>\n",
       "</thead>\n",
       "<tbody>\n",
       "\t<tr><th scope=row>1</th><td>Q92954-pQTL_1</td><td>rs28929474 </td><td>0.77718737</td><td>1</td></tr>\n",
       "\t<tr><th scope=row>2</th><td>Q92954-pQTL_1</td><td>rs112635299</td><td>0.22281260</td><td>1</td></tr>\n",
       "\t<tr><th scope=row>3</th><td>P35858-pQTL_1</td><td>rs16917722 </td><td>0.05230981</td><td>1</td></tr>\n",
       "\t<tr><th scope=row>4</th><td>P35858-pQTL_1</td><td>rs76368529 </td><td>0.05230981</td><td>1</td></tr>\n",
       "\t<tr><th scope=row>5</th><td>P35858-pQTL_1</td><td>rs868420   </td><td>0.05230981</td><td>1</td></tr>\n",
       "\t<tr><th scope=row>6</th><td>P35858-pQTL_1</td><td>rs74586905 </td><td>0.05230981</td><td>1</td></tr>\n",
       "</tbody>\n",
       "</table>\n"
      ],
      "text/latex": [
       "A data.frame: 6 × 4\n",
       "\\begin{tabular}{r|llll}\n",
       "  & pQTL\\_ID & SNP & SNP\\_Prob & Credible\\_Set\\\\\n",
       "  & <chr> & <chr> & <dbl> & <int>\\\\\n",
       "\\hline\n",
       "\t1 & Q92954-pQTL\\_1 & rs28929474  & 0.77718737 & 1\\\\\n",
       "\t2 & Q92954-pQTL\\_1 & rs112635299 & 0.22281260 & 1\\\\\n",
       "\t3 & P35858-pQTL\\_1 & rs16917722  & 0.05230981 & 1\\\\\n",
       "\t4 & P35858-pQTL\\_1 & rs76368529  & 0.05230981 & 1\\\\\n",
       "\t5 & P35858-pQTL\\_1 & rs868420    & 0.05230981 & 1\\\\\n",
       "\t6 & P35858-pQTL\\_1 & rs74586905  & 0.05230981 & 1\\\\\n",
       "\\end{tabular}\n"
      ],
      "text/markdown": [
       "\n",
       "A data.frame: 6 × 4\n",
       "\n",
       "| <!--/--> | pQTL_ID &lt;chr&gt; | SNP &lt;chr&gt; | SNP_Prob &lt;dbl&gt; | Credible_Set &lt;int&gt; |\n",
       "|---|---|---|---|---|\n",
       "| 1 | Q92954-pQTL_1 | rs28929474  | 0.77718737 | 1 |\n",
       "| 2 | Q92954-pQTL_1 | rs112635299 | 0.22281260 | 1 |\n",
       "| 3 | P35858-pQTL_1 | rs16917722  | 0.05230981 | 1 |\n",
       "| 4 | P35858-pQTL_1 | rs76368529  | 0.05230981 | 1 |\n",
       "| 5 | P35858-pQTL_1 | rs868420    | 0.05230981 | 1 |\n",
       "| 6 | P35858-pQTL_1 | rs74586905  | 0.05230981 | 1 |\n",
       "\n"
      ],
      "text/plain": [
       "  pQTL_ID       SNP         SNP_Prob   Credible_Set\n",
       "1 Q92954-pQTL_1 rs28929474  0.77718737 1           \n",
       "2 Q92954-pQTL_1 rs112635299 0.22281260 1           \n",
       "3 P35858-pQTL_1 rs16917722  0.05230981 1           \n",
       "4 P35858-pQTL_1 rs76368529  0.05230981 1           \n",
       "5 P35858-pQTL_1 rs868420    0.05230981 1           \n",
       "6 P35858-pQTL_1 rs74586905  0.05230981 1           "
      ]
     },
     "metadata": {},
     "output_type": "display_data"
    }
   ],
   "source": [
    "head(susie.snps)"
   ]
  },
  {
   "cell_type": "markdown",
   "id": "728da34a-7015-4ab4-a543-a9ce5bf02b18",
   "metadata": {},
   "source": [
    "For the FINEMAP result from each module QTL, we chose the $k$ that has the maximum posterior probability."
   ]
  },
  {
   "cell_type": "code",
   "execution_count": 121,
   "id": "cfb1dd16-029c-4572-a4ac-04e14c032215",
   "metadata": {},
   "outputs": [],
   "source": [
    "finemap.snps <- fread(\"~/gains_team282/nikhil/colocalization/pqtl/fine_mapping/FINEMAP/trans_credible_sets.tsv\", sep=\"\\t\", header=TRUE) %>%\n",
    "    as.data.frame() %>%\n",
    "    dplyr::group_by(Gene) %>%\n",
    "    dplyr::filter(Post_Prob_k == max(Post_Prob_k))"
   ]
  },
  {
   "cell_type": "code",
   "execution_count": 122,
   "id": "999d99e7-6538-4c1f-8db1-593b54294871",
   "metadata": {},
   "outputs": [
    {
     "data": {
      "text/html": [
       "<table class=\"dataframe\">\n",
       "<caption>A grouped_df: 6 × 9</caption>\n",
       "<thead>\n",
       "\t<tr><th scope=col>Gene</th><th scope=col>k</th><th scope=col>Post_Prob_k</th><th scope=col>Credibility_Set</th><th scope=col>Credibility_Set_Min_LD</th><th scope=col>Credibility_Set_Mean_LD</th><th scope=col>Credibility_Set_Median_LD</th><th scope=col>SNP</th><th scope=col>Prob_SNP_in_CS</th></tr>\n",
       "\t<tr><th scope=col>&lt;chr&gt;</th><th scope=col>&lt;int&gt;</th><th scope=col>&lt;dbl&gt;</th><th scope=col>&lt;int&gt;</th><th scope=col>&lt;dbl&gt;</th><th scope=col>&lt;dbl&gt;</th><th scope=col>&lt;dbl&gt;</th><th scope=col>&lt;chr&gt;</th><th scope=col>&lt;dbl&gt;</th></tr>\n",
       "</thead>\n",
       "<tbody>\n",
       "\t<tr><td>P00751-pQTL_1</td><td>10</td><td>1</td><td>1</td><td>1</td><td>1</td><td>1</td><td>rs7157940 </td><td>1.000000</td></tr>\n",
       "\t<tr><td>P00751-pQTL_1</td><td>10</td><td>1</td><td>2</td><td>1</td><td>1</td><td>1</td><td>rs56294923</td><td>1.000000</td></tr>\n",
       "\t<tr><td>P00751-pQTL_1</td><td>10</td><td>1</td><td>3</td><td>1</td><td>1</td><td>1</td><td>rs79237142</td><td>1.000000</td></tr>\n",
       "\t<tr><td>P00751-pQTL_1</td><td>10</td><td>1</td><td>4</td><td>1</td><td>1</td><td>1</td><td>rs8021015 </td><td>1.000000</td></tr>\n",
       "\t<tr><td>P00751-pQTL_1</td><td>10</td><td>1</td><td>5</td><td>1</td><td>1</td><td>1</td><td>rs11846959</td><td>0.866828</td></tr>\n",
       "\t<tr><td>P00751-pQTL_1</td><td>10</td><td>1</td><td>5</td><td>1</td><td>1</td><td>1</td><td>rs1303    </td><td>0.132143</td></tr>\n",
       "</tbody>\n",
       "</table>\n"
      ],
      "text/latex": [
       "A grouped\\_df: 6 × 9\n",
       "\\begin{tabular}{lllllllll}\n",
       " Gene & k & Post\\_Prob\\_k & Credibility\\_Set & Credibility\\_Set\\_Min\\_LD & Credibility\\_Set\\_Mean\\_LD & Credibility\\_Set\\_Median\\_LD & SNP & Prob\\_SNP\\_in\\_CS\\\\\n",
       " <chr> & <int> & <dbl> & <int> & <dbl> & <dbl> & <dbl> & <chr> & <dbl>\\\\\n",
       "\\hline\n",
       "\t P00751-pQTL\\_1 & 10 & 1 & 1 & 1 & 1 & 1 & rs7157940  & 1.000000\\\\\n",
       "\t P00751-pQTL\\_1 & 10 & 1 & 2 & 1 & 1 & 1 & rs56294923 & 1.000000\\\\\n",
       "\t P00751-pQTL\\_1 & 10 & 1 & 3 & 1 & 1 & 1 & rs79237142 & 1.000000\\\\\n",
       "\t P00751-pQTL\\_1 & 10 & 1 & 4 & 1 & 1 & 1 & rs8021015  & 1.000000\\\\\n",
       "\t P00751-pQTL\\_1 & 10 & 1 & 5 & 1 & 1 & 1 & rs11846959 & 0.866828\\\\\n",
       "\t P00751-pQTL\\_1 & 10 & 1 & 5 & 1 & 1 & 1 & rs1303     & 0.132143\\\\\n",
       "\\end{tabular}\n"
      ],
      "text/markdown": [
       "\n",
       "A grouped_df: 6 × 9\n",
       "\n",
       "| Gene &lt;chr&gt; | k &lt;int&gt; | Post_Prob_k &lt;dbl&gt; | Credibility_Set &lt;int&gt; | Credibility_Set_Min_LD &lt;dbl&gt; | Credibility_Set_Mean_LD &lt;dbl&gt; | Credibility_Set_Median_LD &lt;dbl&gt; | SNP &lt;chr&gt; | Prob_SNP_in_CS &lt;dbl&gt; |\n",
       "|---|---|---|---|---|---|---|---|---|\n",
       "| P00751-pQTL_1 | 10 | 1 | 1 | 1 | 1 | 1 | rs7157940  | 1.000000 |\n",
       "| P00751-pQTL_1 | 10 | 1 | 2 | 1 | 1 | 1 | rs56294923 | 1.000000 |\n",
       "| P00751-pQTL_1 | 10 | 1 | 3 | 1 | 1 | 1 | rs79237142 | 1.000000 |\n",
       "| P00751-pQTL_1 | 10 | 1 | 4 | 1 | 1 | 1 | rs8021015  | 1.000000 |\n",
       "| P00751-pQTL_1 | 10 | 1 | 5 | 1 | 1 | 1 | rs11846959 | 0.866828 |\n",
       "| P00751-pQTL_1 | 10 | 1 | 5 | 1 | 1 | 1 | rs1303     | 0.132143 |\n",
       "\n"
      ],
      "text/plain": [
       "  Gene          k  Post_Prob_k Credibility_Set Credibility_Set_Min_LD\n",
       "1 P00751-pQTL_1 10 1           1               1                     \n",
       "2 P00751-pQTL_1 10 1           2               1                     \n",
       "3 P00751-pQTL_1 10 1           3               1                     \n",
       "4 P00751-pQTL_1 10 1           4               1                     \n",
       "5 P00751-pQTL_1 10 1           5               1                     \n",
       "6 P00751-pQTL_1 10 1           5               1                     \n",
       "  Credibility_Set_Mean_LD Credibility_Set_Median_LD SNP        Prob_SNP_in_CS\n",
       "1 1                       1                         rs7157940  1.000000      \n",
       "2 1                       1                         rs56294923 1.000000      \n",
       "3 1                       1                         rs79237142 1.000000      \n",
       "4 1                       1                         rs8021015  1.000000      \n",
       "5 1                       1                         rs11846959 0.866828      \n",
       "6 1                       1                         rs1303     0.132143      "
      ]
     },
     "metadata": {},
     "output_type": "display_data"
    }
   ],
   "source": [
    "head(finemap.snps)"
   ]
  },
  {
   "cell_type": "markdown",
   "id": "6a45df2b-ed4f-499f-9ed5-a3a3bbf04377",
   "metadata": {},
   "source": [
    "### Chromosome 8"
   ]
  },
  {
   "cell_type": "markdown",
   "id": "387d92a6-a67f-412e-9fa8-6fde673c750b",
   "metadata": {},
   "source": [
    "Starting with the chromosome 8 trans-pQTL for IGFALS. There are 33 SNPs tagging the lead SNP at $R^2 > 0.8$. Both SuSiE and FINEMAP predict one credible set for this locus. Both methods report 27 SNPs. Both report the exact same 27 SNPs. Both report seven SNPs with a top PIP, which is low in both cases. The top seven SNPs are also the same."
   ]
  },
  {
   "cell_type": "code",
   "execution_count": 129,
   "id": "be838fbb-6f61-416b-8976-ec40abbb9d88",
   "metadata": {},
   "outputs": [
    {
     "data": {
      "text/html": [
       "<table class=\"dataframe\">\n",
       "<caption>A data.frame: 1 × 2</caption>\n",
       "<thead>\n",
       "\t<tr><th scope=col>Credible_Set</th><th scope=col>n</th></tr>\n",
       "\t<tr><th scope=col>&lt;int&gt;</th><th scope=col>&lt;int&gt;</th></tr>\n",
       "</thead>\n",
       "<tbody>\n",
       "\t<tr><td>1</td><td>27</td></tr>\n",
       "</tbody>\n",
       "</table>\n"
      ],
      "text/latex": [
       "A data.frame: 1 × 2\n",
       "\\begin{tabular}{ll}\n",
       " Credible\\_Set & n\\\\\n",
       " <int> & <int>\\\\\n",
       "\\hline\n",
       "\t 1 & 27\\\\\n",
       "\\end{tabular}\n"
      ],
      "text/markdown": [
       "\n",
       "A data.frame: 1 × 2\n",
       "\n",
       "| Credible_Set &lt;int&gt; | n &lt;int&gt; |\n",
       "|---|---|\n",
       "| 1 | 27 |\n",
       "\n"
      ],
      "text/plain": [
       "  Credible_Set n \n",
       "1 1            27"
      ]
     },
     "metadata": {},
     "output_type": "display_data"
    }
   ],
   "source": [
    "susie.snps %>%\n",
    "    dplyr::filter(pQTL_ID == \"P35858-pQTL_1\") %>%\n",
    "    dplyr::count(Credible_Set)"
   ]
  },
  {
   "cell_type": "code",
   "execution_count": 130,
   "id": "2bbdc2d4-3c5e-4cf6-882d-98fbffd2ae0a",
   "metadata": {},
   "outputs": [
    {
     "data": {
      "text/html": [
       "<table class=\"dataframe\">\n",
       "<caption>A grouped_df: 1 × 3</caption>\n",
       "<thead>\n",
       "\t<tr><th scope=col>Gene</th><th scope=col>Credibility_Set</th><th scope=col>n</th></tr>\n",
       "\t<tr><th scope=col>&lt;chr&gt;</th><th scope=col>&lt;int&gt;</th><th scope=col>&lt;int&gt;</th></tr>\n",
       "</thead>\n",
       "<tbody>\n",
       "\t<tr><td>P35858-pQTL_1</td><td>1</td><td>27</td></tr>\n",
       "</tbody>\n",
       "</table>\n"
      ],
      "text/latex": [
       "A grouped\\_df: 1 × 3\n",
       "\\begin{tabular}{lll}\n",
       " Gene & Credibility\\_Set & n\\\\\n",
       " <chr> & <int> & <int>\\\\\n",
       "\\hline\n",
       "\t P35858-pQTL\\_1 & 1 & 27\\\\\n",
       "\\end{tabular}\n"
      ],
      "text/markdown": [
       "\n",
       "A grouped_df: 1 × 3\n",
       "\n",
       "| Gene &lt;chr&gt; | Credibility_Set &lt;int&gt; | n &lt;int&gt; |\n",
       "|---|---|---|\n",
       "| P35858-pQTL_1 | 1 | 27 |\n",
       "\n"
      ],
      "text/plain": [
       "  Gene          Credibility_Set n \n",
       "1 P35858-pQTL_1 1               27"
      ]
     },
     "metadata": {},
     "output_type": "display_data"
    }
   ],
   "source": [
    "finemap.snps %>%\n",
    "    dplyr::filter(Gene == \"P35858-pQTL_1\") %>%\n",
    "    dplyr::count(Credibility_Set)"
   ]
  },
  {
   "cell_type": "code",
   "execution_count": 134,
   "id": "5d75b6c0-49e6-43d8-adf6-fd9be42f4efa",
   "metadata": {},
   "outputs": [
    {
     "data": {
      "text/html": [
       "27"
      ],
      "text/latex": [
       "27"
      ],
      "text/markdown": [
       "27"
      ],
      "text/plain": [
       "[1] 27"
      ]
     },
     "metadata": {},
     "output_type": "display_data"
    }
   ],
   "source": [
    "length(intersect(susie.snps$SNP[susie.snps$pQTL_ID == \"P35858-pQTL_1\"], finemap.snps$SNP[finemap.snps$Gene == \"P35858-pQTL_1\"]))"
   ]
  },
  {
   "cell_type": "code",
   "execution_count": 139,
   "id": "ba23cde7-5236-41ad-942d-ad0c12eb5f16",
   "metadata": {},
   "outputs": [
    {
     "data": {
      "text/html": [
       "<table class=\"dataframe\">\n",
       "<caption>A data.frame: 10 × 4</caption>\n",
       "<thead>\n",
       "\t<tr><th></th><th scope=col>pQTL_ID</th><th scope=col>SNP</th><th scope=col>SNP_Prob</th><th scope=col>Credible_Set</th></tr>\n",
       "\t<tr><th></th><th scope=col>&lt;chr&gt;</th><th scope=col>&lt;chr&gt;</th><th scope=col>&lt;dbl&gt;</th><th scope=col>&lt;int&gt;</th></tr>\n",
       "</thead>\n",
       "<tbody>\n",
       "\t<tr><th scope=row>1</th><td>P35858-pQTL_1</td><td>rs16917722 </td><td>0.05230981</td><td>1</td></tr>\n",
       "\t<tr><th scope=row>2</th><td>P35858-pQTL_1</td><td>rs76368529 </td><td>0.05230981</td><td>1</td></tr>\n",
       "\t<tr><th scope=row>3</th><td>P35858-pQTL_1</td><td>rs868420   </td><td>0.05230981</td><td>1</td></tr>\n",
       "\t<tr><th scope=row>4</th><td>P35858-pQTL_1</td><td>rs74586905 </td><td>0.05230981</td><td>1</td></tr>\n",
       "\t<tr><th scope=row>5</th><td>P35858-pQTL_1</td><td>rs2318880  </td><td>0.05230981</td><td>1</td></tr>\n",
       "\t<tr><th scope=row>6</th><td>P35858-pQTL_1</td><td>rs112753030</td><td>0.05230981</td><td>1</td></tr>\n",
       "\t<tr><th scope=row>7</th><td>P35858-pQTL_1</td><td>rs16917749 </td><td>0.05230981</td><td>1</td></tr>\n",
       "\t<tr><th scope=row>8</th><td>P35858-pQTL_1</td><td>rs16917758 </td><td>0.05092607</td><td>1</td></tr>\n",
       "\t<tr><th scope=row>9</th><td>P35858-pQTL_1</td><td>rs114275138</td><td>0.05092607</td><td>1</td></tr>\n",
       "\t<tr><th scope=row>10</th><td>P35858-pQTL_1</td><td>rs116004313</td><td>0.05092607</td><td>1</td></tr>\n",
       "</tbody>\n",
       "</table>\n"
      ],
      "text/latex": [
       "A data.frame: 10 × 4\n",
       "\\begin{tabular}{r|llll}\n",
       "  & pQTL\\_ID & SNP & SNP\\_Prob & Credible\\_Set\\\\\n",
       "  & <chr> & <chr> & <dbl> & <int>\\\\\n",
       "\\hline\n",
       "\t1 & P35858-pQTL\\_1 & rs16917722  & 0.05230981 & 1\\\\\n",
       "\t2 & P35858-pQTL\\_1 & rs76368529  & 0.05230981 & 1\\\\\n",
       "\t3 & P35858-pQTL\\_1 & rs868420    & 0.05230981 & 1\\\\\n",
       "\t4 & P35858-pQTL\\_1 & rs74586905  & 0.05230981 & 1\\\\\n",
       "\t5 & P35858-pQTL\\_1 & rs2318880   & 0.05230981 & 1\\\\\n",
       "\t6 & P35858-pQTL\\_1 & rs112753030 & 0.05230981 & 1\\\\\n",
       "\t7 & P35858-pQTL\\_1 & rs16917749  & 0.05230981 & 1\\\\\n",
       "\t8 & P35858-pQTL\\_1 & rs16917758  & 0.05092607 & 1\\\\\n",
       "\t9 & P35858-pQTL\\_1 & rs114275138 & 0.05092607 & 1\\\\\n",
       "\t10 & P35858-pQTL\\_1 & rs116004313 & 0.05092607 & 1\\\\\n",
       "\\end{tabular}\n"
      ],
      "text/markdown": [
       "\n",
       "A data.frame: 10 × 4\n",
       "\n",
       "| <!--/--> | pQTL_ID &lt;chr&gt; | SNP &lt;chr&gt; | SNP_Prob &lt;dbl&gt; | Credible_Set &lt;int&gt; |\n",
       "|---|---|---|---|---|\n",
       "| 1 | P35858-pQTL_1 | rs16917722  | 0.05230981 | 1 |\n",
       "| 2 | P35858-pQTL_1 | rs76368529  | 0.05230981 | 1 |\n",
       "| 3 | P35858-pQTL_1 | rs868420    | 0.05230981 | 1 |\n",
       "| 4 | P35858-pQTL_1 | rs74586905  | 0.05230981 | 1 |\n",
       "| 5 | P35858-pQTL_1 | rs2318880   | 0.05230981 | 1 |\n",
       "| 6 | P35858-pQTL_1 | rs112753030 | 0.05230981 | 1 |\n",
       "| 7 | P35858-pQTL_1 | rs16917749  | 0.05230981 | 1 |\n",
       "| 8 | P35858-pQTL_1 | rs16917758  | 0.05092607 | 1 |\n",
       "| 9 | P35858-pQTL_1 | rs114275138 | 0.05092607 | 1 |\n",
       "| 10 | P35858-pQTL_1 | rs116004313 | 0.05092607 | 1 |\n",
       "\n"
      ],
      "text/plain": [
       "   pQTL_ID       SNP         SNP_Prob   Credible_Set\n",
       "1  P35858-pQTL_1 rs16917722  0.05230981 1           \n",
       "2  P35858-pQTL_1 rs76368529  0.05230981 1           \n",
       "3  P35858-pQTL_1 rs868420    0.05230981 1           \n",
       "4  P35858-pQTL_1 rs74586905  0.05230981 1           \n",
       "5  P35858-pQTL_1 rs2318880   0.05230981 1           \n",
       "6  P35858-pQTL_1 rs112753030 0.05230981 1           \n",
       "7  P35858-pQTL_1 rs16917749  0.05230981 1           \n",
       "8  P35858-pQTL_1 rs16917758  0.05092607 1           \n",
       "9  P35858-pQTL_1 rs114275138 0.05092607 1           \n",
       "10 P35858-pQTL_1 rs116004313 0.05092607 1           "
      ]
     },
     "metadata": {},
     "output_type": "display_data"
    }
   ],
   "source": [
    "susie.snps %>%\n",
    "    dplyr::filter(pQTL_ID == \"P35858-pQTL_1\") %>%\n",
    "    head(n=10)"
   ]
  },
  {
   "cell_type": "code",
   "execution_count": 147,
   "id": "e948f5be-1505-4cd0-849c-e1319090c53a",
   "metadata": {},
   "outputs": [
    {
     "data": {
      "text/html": [
       "<table class=\"dataframe\">\n",
       "<caption>A grouped_df: 10 × 9</caption>\n",
       "<thead>\n",
       "\t<tr><th scope=col>Gene</th><th scope=col>k</th><th scope=col>Post_Prob_k</th><th scope=col>Credibility_Set</th><th scope=col>Credibility_Set_Min_LD</th><th scope=col>Credibility_Set_Mean_LD</th><th scope=col>Credibility_Set_Median_LD</th><th scope=col>SNP</th><th scope=col>Prob_SNP_in_CS</th></tr>\n",
       "\t<tr><th scope=col>&lt;chr&gt;</th><th scope=col>&lt;int&gt;</th><th scope=col>&lt;dbl&gt;</th><th scope=col>&lt;int&gt;</th><th scope=col>&lt;dbl&gt;</th><th scope=col>&lt;dbl&gt;</th><th scope=col>&lt;dbl&gt;</th><th scope=col>&lt;chr&gt;</th><th scope=col>&lt;dbl&gt;</th></tr>\n",
       "</thead>\n",
       "<tbody>\n",
       "\t<tr><td>P35858-pQTL_1</td><td>1</td><td>0.561658</td><td>1</td><td>0.97806</td><td>0.996133</td><td>1</td><td>rs16917749 </td><td>0.0492548</td></tr>\n",
       "\t<tr><td>P35858-pQTL_1</td><td>1</td><td>0.561658</td><td>1</td><td>0.97806</td><td>0.996133</td><td>1</td><td>rs868420   </td><td>0.0492548</td></tr>\n",
       "\t<tr><td>P35858-pQTL_1</td><td>1</td><td>0.561658</td><td>1</td><td>0.97806</td><td>0.996133</td><td>1</td><td>rs76368529 </td><td>0.0492548</td></tr>\n",
       "\t<tr><td>P35858-pQTL_1</td><td>1</td><td>0.561658</td><td>1</td><td>0.97806</td><td>0.996133</td><td>1</td><td>rs16917722 </td><td>0.0492548</td></tr>\n",
       "\t<tr><td>P35858-pQTL_1</td><td>1</td><td>0.561658</td><td>1</td><td>0.97806</td><td>0.996133</td><td>1</td><td>rs74586905 </td><td>0.0492548</td></tr>\n",
       "\t<tr><td>P35858-pQTL_1</td><td>1</td><td>0.561658</td><td>1</td><td>0.97806</td><td>0.996133</td><td>1</td><td>rs2318880  </td><td>0.0492548</td></tr>\n",
       "\t<tr><td>P35858-pQTL_1</td><td>1</td><td>0.561658</td><td>1</td><td>0.97806</td><td>0.996133</td><td>1</td><td>rs112753030</td><td>0.0492548</td></tr>\n",
       "\t<tr><td>P35858-pQTL_1</td><td>1</td><td>0.561658</td><td>1</td><td>0.97806</td><td>0.996133</td><td>1</td><td>rs16917758 </td><td>0.0480149</td></tr>\n",
       "\t<tr><td>P35858-pQTL_1</td><td>1</td><td>0.561658</td><td>1</td><td>0.97806</td><td>0.996133</td><td>1</td><td>rs116004313</td><td>0.0480149</td></tr>\n",
       "\t<tr><td>P35858-pQTL_1</td><td>1</td><td>0.561658</td><td>1</td><td>0.97806</td><td>0.996133</td><td>1</td><td>rs114275138</td><td>0.0480149</td></tr>\n",
       "</tbody>\n",
       "</table>\n"
      ],
      "text/latex": [
       "A grouped\\_df: 10 × 9\n",
       "\\begin{tabular}{lllllllll}\n",
       " Gene & k & Post\\_Prob\\_k & Credibility\\_Set & Credibility\\_Set\\_Min\\_LD & Credibility\\_Set\\_Mean\\_LD & Credibility\\_Set\\_Median\\_LD & SNP & Prob\\_SNP\\_in\\_CS\\\\\n",
       " <chr> & <int> & <dbl> & <int> & <dbl> & <dbl> & <dbl> & <chr> & <dbl>\\\\\n",
       "\\hline\n",
       "\t P35858-pQTL\\_1 & 1 & 0.561658 & 1 & 0.97806 & 0.996133 & 1 & rs16917749  & 0.0492548\\\\\n",
       "\t P35858-pQTL\\_1 & 1 & 0.561658 & 1 & 0.97806 & 0.996133 & 1 & rs868420    & 0.0492548\\\\\n",
       "\t P35858-pQTL\\_1 & 1 & 0.561658 & 1 & 0.97806 & 0.996133 & 1 & rs76368529  & 0.0492548\\\\\n",
       "\t P35858-pQTL\\_1 & 1 & 0.561658 & 1 & 0.97806 & 0.996133 & 1 & rs16917722  & 0.0492548\\\\\n",
       "\t P35858-pQTL\\_1 & 1 & 0.561658 & 1 & 0.97806 & 0.996133 & 1 & rs74586905  & 0.0492548\\\\\n",
       "\t P35858-pQTL\\_1 & 1 & 0.561658 & 1 & 0.97806 & 0.996133 & 1 & rs2318880   & 0.0492548\\\\\n",
       "\t P35858-pQTL\\_1 & 1 & 0.561658 & 1 & 0.97806 & 0.996133 & 1 & rs112753030 & 0.0492548\\\\\n",
       "\t P35858-pQTL\\_1 & 1 & 0.561658 & 1 & 0.97806 & 0.996133 & 1 & rs16917758  & 0.0480149\\\\\n",
       "\t P35858-pQTL\\_1 & 1 & 0.561658 & 1 & 0.97806 & 0.996133 & 1 & rs116004313 & 0.0480149\\\\\n",
       "\t P35858-pQTL\\_1 & 1 & 0.561658 & 1 & 0.97806 & 0.996133 & 1 & rs114275138 & 0.0480149\\\\\n",
       "\\end{tabular}\n"
      ],
      "text/markdown": [
       "\n",
       "A grouped_df: 10 × 9\n",
       "\n",
       "| Gene &lt;chr&gt; | k &lt;int&gt; | Post_Prob_k &lt;dbl&gt; | Credibility_Set &lt;int&gt; | Credibility_Set_Min_LD &lt;dbl&gt; | Credibility_Set_Mean_LD &lt;dbl&gt; | Credibility_Set_Median_LD &lt;dbl&gt; | SNP &lt;chr&gt; | Prob_SNP_in_CS &lt;dbl&gt; |\n",
       "|---|---|---|---|---|---|---|---|---|\n",
       "| P35858-pQTL_1 | 1 | 0.561658 | 1 | 0.97806 | 0.996133 | 1 | rs16917749  | 0.0492548 |\n",
       "| P35858-pQTL_1 | 1 | 0.561658 | 1 | 0.97806 | 0.996133 | 1 | rs868420    | 0.0492548 |\n",
       "| P35858-pQTL_1 | 1 | 0.561658 | 1 | 0.97806 | 0.996133 | 1 | rs76368529  | 0.0492548 |\n",
       "| P35858-pQTL_1 | 1 | 0.561658 | 1 | 0.97806 | 0.996133 | 1 | rs16917722  | 0.0492548 |\n",
       "| P35858-pQTL_1 | 1 | 0.561658 | 1 | 0.97806 | 0.996133 | 1 | rs74586905  | 0.0492548 |\n",
       "| P35858-pQTL_1 | 1 | 0.561658 | 1 | 0.97806 | 0.996133 | 1 | rs2318880   | 0.0492548 |\n",
       "| P35858-pQTL_1 | 1 | 0.561658 | 1 | 0.97806 | 0.996133 | 1 | rs112753030 | 0.0492548 |\n",
       "| P35858-pQTL_1 | 1 | 0.561658 | 1 | 0.97806 | 0.996133 | 1 | rs16917758  | 0.0480149 |\n",
       "| P35858-pQTL_1 | 1 | 0.561658 | 1 | 0.97806 | 0.996133 | 1 | rs116004313 | 0.0480149 |\n",
       "| P35858-pQTL_1 | 1 | 0.561658 | 1 | 0.97806 | 0.996133 | 1 | rs114275138 | 0.0480149 |\n",
       "\n"
      ],
      "text/plain": [
       "   Gene          k Post_Prob_k Credibility_Set Credibility_Set_Min_LD\n",
       "1  P35858-pQTL_1 1 0.561658    1               0.97806               \n",
       "2  P35858-pQTL_1 1 0.561658    1               0.97806               \n",
       "3  P35858-pQTL_1 1 0.561658    1               0.97806               \n",
       "4  P35858-pQTL_1 1 0.561658    1               0.97806               \n",
       "5  P35858-pQTL_1 1 0.561658    1               0.97806               \n",
       "6  P35858-pQTL_1 1 0.561658    1               0.97806               \n",
       "7  P35858-pQTL_1 1 0.561658    1               0.97806               \n",
       "8  P35858-pQTL_1 1 0.561658    1               0.97806               \n",
       "9  P35858-pQTL_1 1 0.561658    1               0.97806               \n",
       "10 P35858-pQTL_1 1 0.561658    1               0.97806               \n",
       "   Credibility_Set_Mean_LD Credibility_Set_Median_LD SNP         Prob_SNP_in_CS\n",
       "1  0.996133                1                         rs16917749  0.0492548     \n",
       "2  0.996133                1                         rs868420    0.0492548     \n",
       "3  0.996133                1                         rs76368529  0.0492548     \n",
       "4  0.996133                1                         rs16917722  0.0492548     \n",
       "5  0.996133                1                         rs74586905  0.0492548     \n",
       "6  0.996133                1                         rs2318880   0.0492548     \n",
       "7  0.996133                1                         rs112753030 0.0492548     \n",
       "8  0.996133                1                         rs16917758  0.0480149     \n",
       "9  0.996133                1                         rs116004313 0.0480149     \n",
       "10 0.996133                1                         rs114275138 0.0480149     "
      ]
     },
     "metadata": {},
     "output_type": "display_data"
    }
   ],
   "source": [
    "finemap.snps %>%\n",
    "    dplyr::filter(Credibility_Set_Min_LD >= 0.5) %>%\n",
    "    dplyr::filter(Gene == \"P35858-pQTL_1\") %>%\n",
    "    head(n=10)"
   ]
  },
  {
   "cell_type": "markdown",
   "id": "be3bf6e3-957d-44b9-8378-11ebb5535626",
   "metadata": {
    "tags": []
   },
   "source": [
    "### Chromosome 14"
   ]
  },
  {
   "cell_type": "code",
   "execution_count": 152,
   "id": "e2041471-9d95-4f1b-9247-c7c2d68c44b8",
   "metadata": {},
   "outputs": [
    {
     "data": {
      "text/html": [
       "<table class=\"dataframe\">\n",
       "<caption>A tibble: 5 × 4</caption>\n",
       "<thead>\n",
       "\t<tr><th scope=col>pQTL_ID</th><th scope=col>Credible_Set</th><th scope=col>n</th><th scope=col>SNPs</th></tr>\n",
       "\t<tr><th scope=col>&lt;chr&gt;</th><th scope=col>&lt;int&gt;</th><th scope=col>&lt;int&gt;</th><th scope=col>&lt;chr&gt;</th></tr>\n",
       "</thead>\n",
       "<tbody>\n",
       "\t<tr><td>P00751-pQTL_1</td><td>1</td><td>3</td><td>rs11846959|rs1303|rs2073333                     </td></tr>\n",
       "\t<tr><td>P00751-pQTL_1</td><td>2</td><td>1</td><td>rs7157940                                       </td></tr>\n",
       "\t<tr><td>P00751-pQTL_1</td><td>3</td><td>2</td><td>rs882269|rs3818119                              </td></tr>\n",
       "\t<tr><td>P02787-pQTL_1</td><td>1</td><td>5</td><td>rs11846959|rs1303|rs2073333|rs17090719|rs2070709</td></tr>\n",
       "\t<tr><td>Q92954-pQTL_1</td><td>1</td><td>2</td><td>rs28929474|rs112635299                          </td></tr>\n",
       "</tbody>\n",
       "</table>\n"
      ],
      "text/latex": [
       "A tibble: 5 × 4\n",
       "\\begin{tabular}{llll}\n",
       " pQTL\\_ID & Credible\\_Set & n & SNPs\\\\\n",
       " <chr> & <int> & <int> & <chr>\\\\\n",
       "\\hline\n",
       "\t P00751-pQTL\\_1 & 1 & 3 & rs11846959\\textbar{}rs1303\\textbar{}rs2073333                     \\\\\n",
       "\t P00751-pQTL\\_1 & 2 & 1 & rs7157940                                       \\\\\n",
       "\t P00751-pQTL\\_1 & 3 & 2 & rs882269\\textbar{}rs3818119                              \\\\\n",
       "\t P02787-pQTL\\_1 & 1 & 5 & rs11846959\\textbar{}rs1303\\textbar{}rs2073333\\textbar{}rs17090719\\textbar{}rs2070709\\\\\n",
       "\t Q92954-pQTL\\_1 & 1 & 2 & rs28929474\\textbar{}rs112635299                          \\\\\n",
       "\\end{tabular}\n"
      ],
      "text/markdown": [
       "\n",
       "A tibble: 5 × 4\n",
       "\n",
       "| pQTL_ID &lt;chr&gt; | Credible_Set &lt;int&gt; | n &lt;int&gt; | SNPs &lt;chr&gt; |\n",
       "|---|---|---|---|\n",
       "| P00751-pQTL_1 | 1 | 3 | rs11846959|rs1303|rs2073333                      |\n",
       "| P00751-pQTL_1 | 2 | 1 | rs7157940                                        |\n",
       "| P00751-pQTL_1 | 3 | 2 | rs882269|rs3818119                               |\n",
       "| P02787-pQTL_1 | 1 | 5 | rs11846959|rs1303|rs2073333|rs17090719|rs2070709 |\n",
       "| Q92954-pQTL_1 | 1 | 2 | rs28929474|rs112635299                           |\n",
       "\n"
      ],
      "text/plain": [
       "  pQTL_ID       Credible_Set n SNPs                                            \n",
       "1 P00751-pQTL_1 1            3 rs11846959|rs1303|rs2073333                     \n",
       "2 P00751-pQTL_1 2            1 rs7157940                                       \n",
       "3 P00751-pQTL_1 3            2 rs882269|rs3818119                              \n",
       "4 P02787-pQTL_1 1            5 rs11846959|rs1303|rs2073333|rs17090719|rs2070709\n",
       "5 Q92954-pQTL_1 1            2 rs28929474|rs112635299                          "
      ]
     },
     "metadata": {},
     "output_type": "display_data"
    }
   ],
   "source": [
    "susie.snps %>%\n",
    "    dplyr::filter(pQTL_ID %in% c(\"P00751-pQTL_1\", \"P02787-pQTL_1\", \"Q92954-pQTL_1\")) %>%\n",
    "    dplyr::group_by(pQTL_ID, Credible_Set) %>%\n",
    "    dplyr::summarize(n=n(), SNPs=paste0(SNP, collapse=\"|\"), .groups=\"drop\")"
   ]
  },
  {
   "cell_type": "code",
   "execution_count": 157,
   "id": "5ca2936f-3916-459f-84ca-c63c6401bfa6",
   "metadata": {},
   "outputs": [
    {
     "data": {
      "text/html": [
       "<table class=\"dataframe\">\n",
       "<caption>A data.frame: 3 × 4</caption>\n",
       "<thead>\n",
       "\t<tr><th scope=col>pQTL_ID</th><th scope=col>SNP</th><th scope=col>SNP_Prob</th><th scope=col>Credible_Set</th></tr>\n",
       "\t<tr><th scope=col>&lt;chr&gt;</th><th scope=col>&lt;chr&gt;</th><th scope=col>&lt;dbl&gt;</th><th scope=col>&lt;int&gt;</th></tr>\n",
       "</thead>\n",
       "<tbody>\n",
       "\t<tr><td>P00751-pQTL_1</td><td>rs11846959</td><td>0.55539740</td><td>1</td></tr>\n",
       "\t<tr><td>P00751-pQTL_1</td><td>rs1303    </td><td>0.33108976</td><td>1</td></tr>\n",
       "\t<tr><td>P00751-pQTL_1</td><td>rs2073333 </td><td>0.09454664</td><td>1</td></tr>\n",
       "</tbody>\n",
       "</table>\n"
      ],
      "text/latex": [
       "A data.frame: 3 × 4\n",
       "\\begin{tabular}{llll}\n",
       " pQTL\\_ID & SNP & SNP\\_Prob & Credible\\_Set\\\\\n",
       " <chr> & <chr> & <dbl> & <int>\\\\\n",
       "\\hline\n",
       "\t P00751-pQTL\\_1 & rs11846959 & 0.55539740 & 1\\\\\n",
       "\t P00751-pQTL\\_1 & rs1303     & 0.33108976 & 1\\\\\n",
       "\t P00751-pQTL\\_1 & rs2073333  & 0.09454664 & 1\\\\\n",
       "\\end{tabular}\n"
      ],
      "text/markdown": [
       "\n",
       "A data.frame: 3 × 4\n",
       "\n",
       "| pQTL_ID &lt;chr&gt; | SNP &lt;chr&gt; | SNP_Prob &lt;dbl&gt; | Credible_Set &lt;int&gt; |\n",
       "|---|---|---|---|\n",
       "| P00751-pQTL_1 | rs11846959 | 0.55539740 | 1 |\n",
       "| P00751-pQTL_1 | rs1303     | 0.33108976 | 1 |\n",
       "| P00751-pQTL_1 | rs2073333  | 0.09454664 | 1 |\n",
       "\n"
      ],
      "text/plain": [
       "  pQTL_ID       SNP        SNP_Prob   Credible_Set\n",
       "1 P00751-pQTL_1 rs11846959 0.55539740 1           \n",
       "2 P00751-pQTL_1 rs1303     0.33108976 1           \n",
       "3 P00751-pQTL_1 rs2073333  0.09454664 1           "
      ]
     },
     "metadata": {},
     "output_type": "display_data"
    }
   ],
   "source": [
    "susie.snps %>%\n",
    "    dplyr::filter(pQTL_ID == \"P00751-pQTL_1\", Credible_Set == 1)"
   ]
  },
  {
   "cell_type": "code",
   "execution_count": 155,
   "id": "3d5f7cbb-a018-4693-83a2-e876bcf74c80",
   "metadata": {},
   "outputs": [
    {
     "data": {
      "text/html": [
       "<table class=\"dataframe\">\n",
       "<caption>A data.frame: 5 × 4</caption>\n",
       "<thead>\n",
       "\t<tr><th scope=col>pQTL_ID</th><th scope=col>SNP</th><th scope=col>SNP_Prob</th><th scope=col>Credible_Set</th></tr>\n",
       "\t<tr><th scope=col>&lt;chr&gt;</th><th scope=col>&lt;chr&gt;</th><th scope=col>&lt;dbl&gt;</th><th scope=col>&lt;int&gt;</th></tr>\n",
       "</thead>\n",
       "<tbody>\n",
       "\t<tr><td>P02787-pQTL_1</td><td>rs11846959</td><td>0.36146711</td><td>1</td></tr>\n",
       "\t<tr><td>P02787-pQTL_1</td><td>rs1303    </td><td>0.32998457</td><td>1</td></tr>\n",
       "\t<tr><td>P02787-pQTL_1</td><td>rs2073333 </td><td>0.18268478</td><td>1</td></tr>\n",
       "\t<tr><td>P02787-pQTL_1</td><td>rs17090719</td><td>0.06845339</td><td>1</td></tr>\n",
       "\t<tr><td>P02787-pQTL_1</td><td>rs2070709 </td><td>0.05752510</td><td>1</td></tr>\n",
       "</tbody>\n",
       "</table>\n"
      ],
      "text/latex": [
       "A data.frame: 5 × 4\n",
       "\\begin{tabular}{llll}\n",
       " pQTL\\_ID & SNP & SNP\\_Prob & Credible\\_Set\\\\\n",
       " <chr> & <chr> & <dbl> & <int>\\\\\n",
       "\\hline\n",
       "\t P02787-pQTL\\_1 & rs11846959 & 0.36146711 & 1\\\\\n",
       "\t P02787-pQTL\\_1 & rs1303     & 0.32998457 & 1\\\\\n",
       "\t P02787-pQTL\\_1 & rs2073333  & 0.18268478 & 1\\\\\n",
       "\t P02787-pQTL\\_1 & rs17090719 & 0.06845339 & 1\\\\\n",
       "\t P02787-pQTL\\_1 & rs2070709  & 0.05752510 & 1\\\\\n",
       "\\end{tabular}\n"
      ],
      "text/markdown": [
       "\n",
       "A data.frame: 5 × 4\n",
       "\n",
       "| pQTL_ID &lt;chr&gt; | SNP &lt;chr&gt; | SNP_Prob &lt;dbl&gt; | Credible_Set &lt;int&gt; |\n",
       "|---|---|---|---|\n",
       "| P02787-pQTL_1 | rs11846959 | 0.36146711 | 1 |\n",
       "| P02787-pQTL_1 | rs1303     | 0.32998457 | 1 |\n",
       "| P02787-pQTL_1 | rs2073333  | 0.18268478 | 1 |\n",
       "| P02787-pQTL_1 | rs17090719 | 0.06845339 | 1 |\n",
       "| P02787-pQTL_1 | rs2070709  | 0.05752510 | 1 |\n",
       "\n"
      ],
      "text/plain": [
       "  pQTL_ID       SNP        SNP_Prob   Credible_Set\n",
       "1 P02787-pQTL_1 rs11846959 0.36146711 1           \n",
       "2 P02787-pQTL_1 rs1303     0.32998457 1           \n",
       "3 P02787-pQTL_1 rs2073333  0.18268478 1           \n",
       "4 P02787-pQTL_1 rs17090719 0.06845339 1           \n",
       "5 P02787-pQTL_1 rs2070709  0.05752510 1           "
      ]
     },
     "metadata": {},
     "output_type": "display_data"
    }
   ],
   "source": [
    "susie.snps %>%\n",
    "    dplyr::filter(pQTL_ID == \"P02787-pQTL_1\")"
   ]
  },
  {
   "cell_type": "code",
   "execution_count": 153,
   "id": "5201ca00-9c92-4042-ada1-abe8226be494",
   "metadata": {},
   "outputs": [
    {
     "data": {
      "text/html": [
       "<table class=\"dataframe\">\n",
       "<caption>A data.frame: 2 × 4</caption>\n",
       "<thead>\n",
       "\t<tr><th scope=col>pQTL_ID</th><th scope=col>SNP</th><th scope=col>SNP_Prob</th><th scope=col>Credible_Set</th></tr>\n",
       "\t<tr><th scope=col>&lt;chr&gt;</th><th scope=col>&lt;chr&gt;</th><th scope=col>&lt;dbl&gt;</th><th scope=col>&lt;int&gt;</th></tr>\n",
       "</thead>\n",
       "<tbody>\n",
       "\t<tr><td>Q92954-pQTL_1</td><td>rs28929474 </td><td>0.7771874</td><td>1</td></tr>\n",
       "\t<tr><td>Q92954-pQTL_1</td><td>rs112635299</td><td>0.2228126</td><td>1</td></tr>\n",
       "</tbody>\n",
       "</table>\n"
      ],
      "text/latex": [
       "A data.frame: 2 × 4\n",
       "\\begin{tabular}{llll}\n",
       " pQTL\\_ID & SNP & SNP\\_Prob & Credible\\_Set\\\\\n",
       " <chr> & <chr> & <dbl> & <int>\\\\\n",
       "\\hline\n",
       "\t Q92954-pQTL\\_1 & rs28929474  & 0.7771874 & 1\\\\\n",
       "\t Q92954-pQTL\\_1 & rs112635299 & 0.2228126 & 1\\\\\n",
       "\\end{tabular}\n"
      ],
      "text/markdown": [
       "\n",
       "A data.frame: 2 × 4\n",
       "\n",
       "| pQTL_ID &lt;chr&gt; | SNP &lt;chr&gt; | SNP_Prob &lt;dbl&gt; | Credible_Set &lt;int&gt; |\n",
       "|---|---|---|---|\n",
       "| Q92954-pQTL_1 | rs28929474  | 0.7771874 | 1 |\n",
       "| Q92954-pQTL_1 | rs112635299 | 0.2228126 | 1 |\n",
       "\n"
      ],
      "text/plain": [
       "  pQTL_ID       SNP         SNP_Prob  Credible_Set\n",
       "1 Q92954-pQTL_1 rs28929474  0.7771874 1           \n",
       "2 Q92954-pQTL_1 rs112635299 0.2228126 1           "
      ]
     },
     "metadata": {},
     "output_type": "display_data"
    }
   ],
   "source": [
    "susie.snps %>%\n",
    "    dplyr::filter(pQTL_ID == \"Q92954-pQTL_1\")"
   ]
  },
  {
   "cell_type": "code",
   "execution_count": 151,
   "id": "aa03e7ea-c99a-4860-9690-7c6460c6f8e7",
   "metadata": {},
   "outputs": [
    {
     "data": {
      "text/html": [
       "<table class=\"dataframe\">\n",
       "<caption>A tibble: 13 × 4</caption>\n",
       "<thead>\n",
       "\t<tr><th scope=col>Gene</th><th scope=col>Credibility_Set</th><th scope=col>n</th><th scope=col>SNPs</th></tr>\n",
       "\t<tr><th scope=col>&lt;chr&gt;</th><th scope=col>&lt;int&gt;</th><th scope=col>&lt;int&gt;</th><th scope=col>&lt;chr&gt;</th></tr>\n",
       "</thead>\n",
       "<tbody>\n",
       "\t<tr><td>P00751-pQTL_1</td><td>1</td><td> 1</td><td>rs7157940                                                                                                                                                                                                          </td></tr>\n",
       "\t<tr><td>P00751-pQTL_1</td><td>2</td><td> 1</td><td>rs56294923                                                                                                                                                                                                         </td></tr>\n",
       "\t<tr><td>P00751-pQTL_1</td><td>3</td><td> 1</td><td>rs79237142                                                                                                                                                                                                         </td></tr>\n",
       "\t<tr><td>P00751-pQTL_1</td><td>4</td><td> 1</td><td>rs8021015                                                                                                                                                                                                          </td></tr>\n",
       "\t<tr><td>P00751-pQTL_1</td><td>5</td><td> 2</td><td>rs11846959|rs1303                                                                                                                                                                                                  </td></tr>\n",
       "\t<tr><td>P00751-pQTL_1</td><td>6</td><td> 1</td><td>rs882269                                                                                                                                                                                                           </td></tr>\n",
       "\t<tr><td>P00751-pQTL_1</td><td>7</td><td>19</td><td>rs11621700|rs112596884|rs78198055|rs75682472|rs75362223|rs77627449|rs77130599|rs76717688|rs77341563|rs75947866|rs11851971|rs11850967|rs11629131|rs111228934|rs113018203|rs11627931|rs74447466|rs11622912|rs11622958</td></tr>\n",
       "\t<tr><td>P00751-pQTL_1</td><td>8</td><td> 1</td><td>rs74546140                                                                                                                                                                                                         </td></tr>\n",
       "\t<tr><td>P00751-pQTL_1</td><td>9</td><td>10</td><td>rs75213153|rs2093219|rs76793511|rs79448270|rs17129212|rs79746774|rs76325112|rs75632357|rs17129209|rs17129210                                                                                                       </td></tr>\n",
       "\t<tr><td>P02787-pQTL_1</td><td>1</td><td> 5</td><td>rs11846959|rs1303|rs2073333|rs17090719|rs2070709                                                                                                                                                                   </td></tr>\n",
       "\t<tr><td>P02787-pQTL_1</td><td>2</td><td> 1</td><td>rs7157940                                                                                                                                                                                                          </td></tr>\n",
       "\t<tr><td>P02787-pQTL_1</td><td>3</td><td> 2</td><td>rs882269|rs3818119                                                                                                                                                                                                 </td></tr>\n",
       "\t<tr><td>Q92954-pQTL_1</td><td>1</td><td> 2</td><td>rs28929474|rs112635299                                                                                                                                                                                             </td></tr>\n",
       "</tbody>\n",
       "</table>\n"
      ],
      "text/latex": [
       "A tibble: 13 × 4\n",
       "\\begin{tabular}{llll}\n",
       " Gene & Credibility\\_Set & n & SNPs\\\\\n",
       " <chr> & <int> & <int> & <chr>\\\\\n",
       "\\hline\n",
       "\t P00751-pQTL\\_1 & 1 &  1 & rs7157940                                                                                                                                                                                                          \\\\\n",
       "\t P00751-pQTL\\_1 & 2 &  1 & rs56294923                                                                                                                                                                                                         \\\\\n",
       "\t P00751-pQTL\\_1 & 3 &  1 & rs79237142                                                                                                                                                                                                         \\\\\n",
       "\t P00751-pQTL\\_1 & 4 &  1 & rs8021015                                                                                                                                                                                                          \\\\\n",
       "\t P00751-pQTL\\_1 & 5 &  2 & rs11846959\\textbar{}rs1303                                                                                                                                                                                                  \\\\\n",
       "\t P00751-pQTL\\_1 & 6 &  1 & rs882269                                                                                                                                                                                                           \\\\\n",
       "\t P00751-pQTL\\_1 & 7 & 19 & rs11621700\\textbar{}rs112596884\\textbar{}rs78198055\\textbar{}rs75682472\\textbar{}rs75362223\\textbar{}rs77627449\\textbar{}rs77130599\\textbar{}rs76717688\\textbar{}rs77341563\\textbar{}rs75947866\\textbar{}rs11851971\\textbar{}rs11850967\\textbar{}rs11629131\\textbar{}rs111228934\\textbar{}rs113018203\\textbar{}rs11627931\\textbar{}rs74447466\\textbar{}rs11622912\\textbar{}rs11622958\\\\\n",
       "\t P00751-pQTL\\_1 & 8 &  1 & rs74546140                                                                                                                                                                                                         \\\\\n",
       "\t P00751-pQTL\\_1 & 9 & 10 & rs75213153\\textbar{}rs2093219\\textbar{}rs76793511\\textbar{}rs79448270\\textbar{}rs17129212\\textbar{}rs79746774\\textbar{}rs76325112\\textbar{}rs75632357\\textbar{}rs17129209\\textbar{}rs17129210                                                                                                       \\\\\n",
       "\t P02787-pQTL\\_1 & 1 &  5 & rs11846959\\textbar{}rs1303\\textbar{}rs2073333\\textbar{}rs17090719\\textbar{}rs2070709                                                                                                                                                                   \\\\\n",
       "\t P02787-pQTL\\_1 & 2 &  1 & rs7157940                                                                                                                                                                                                          \\\\\n",
       "\t P02787-pQTL\\_1 & 3 &  2 & rs882269\\textbar{}rs3818119                                                                                                                                                                                                 \\\\\n",
       "\t Q92954-pQTL\\_1 & 1 &  2 & rs28929474\\textbar{}rs112635299                                                                                                                                                                                             \\\\\n",
       "\\end{tabular}\n"
      ],
      "text/markdown": [
       "\n",
       "A tibble: 13 × 4\n",
       "\n",
       "| Gene &lt;chr&gt; | Credibility_Set &lt;int&gt; | n &lt;int&gt; | SNPs &lt;chr&gt; |\n",
       "|---|---|---|---|\n",
       "| P00751-pQTL_1 | 1 |  1 | rs7157940                                                                                                                                                                                                           |\n",
       "| P00751-pQTL_1 | 2 |  1 | rs56294923                                                                                                                                                                                                          |\n",
       "| P00751-pQTL_1 | 3 |  1 | rs79237142                                                                                                                                                                                                          |\n",
       "| P00751-pQTL_1 | 4 |  1 | rs8021015                                                                                                                                                                                                           |\n",
       "| P00751-pQTL_1 | 5 |  2 | rs11846959|rs1303                                                                                                                                                                                                   |\n",
       "| P00751-pQTL_1 | 6 |  1 | rs882269                                                                                                                                                                                                            |\n",
       "| P00751-pQTL_1 | 7 | 19 | rs11621700|rs112596884|rs78198055|rs75682472|rs75362223|rs77627449|rs77130599|rs76717688|rs77341563|rs75947866|rs11851971|rs11850967|rs11629131|rs111228934|rs113018203|rs11627931|rs74447466|rs11622912|rs11622958 |\n",
       "| P00751-pQTL_1 | 8 |  1 | rs74546140                                                                                                                                                                                                          |\n",
       "| P00751-pQTL_1 | 9 | 10 | rs75213153|rs2093219|rs76793511|rs79448270|rs17129212|rs79746774|rs76325112|rs75632357|rs17129209|rs17129210                                                                                                        |\n",
       "| P02787-pQTL_1 | 1 |  5 | rs11846959|rs1303|rs2073333|rs17090719|rs2070709                                                                                                                                                                    |\n",
       "| P02787-pQTL_1 | 2 |  1 | rs7157940                                                                                                                                                                                                           |\n",
       "| P02787-pQTL_1 | 3 |  2 | rs882269|rs3818119                                                                                                                                                                                                  |\n",
       "| Q92954-pQTL_1 | 1 |  2 | rs28929474|rs112635299                                                                                                                                                                                              |\n",
       "\n"
      ],
      "text/plain": [
       "   Gene          Credibility_Set n \n",
       "1  P00751-pQTL_1 1                1\n",
       "2  P00751-pQTL_1 2                1\n",
       "3  P00751-pQTL_1 3                1\n",
       "4  P00751-pQTL_1 4                1\n",
       "5  P00751-pQTL_1 5                2\n",
       "6  P00751-pQTL_1 6                1\n",
       "7  P00751-pQTL_1 7               19\n",
       "8  P00751-pQTL_1 8                1\n",
       "9  P00751-pQTL_1 9               10\n",
       "10 P02787-pQTL_1 1                5\n",
       "11 P02787-pQTL_1 2                1\n",
       "12 P02787-pQTL_1 3                2\n",
       "13 Q92954-pQTL_1 1                2\n",
       "   SNPs                                                                                                                                                                                                               \n",
       "1  rs7157940                                                                                                                                                                                                          \n",
       "2  rs56294923                                                                                                                                                                                                         \n",
       "3  rs79237142                                                                                                                                                                                                         \n",
       "4  rs8021015                                                                                                                                                                                                          \n",
       "5  rs11846959|rs1303                                                                                                                                                                                                  \n",
       "6  rs882269                                                                                                                                                                                                           \n",
       "7  rs11621700|rs112596884|rs78198055|rs75682472|rs75362223|rs77627449|rs77130599|rs76717688|rs77341563|rs75947866|rs11851971|rs11850967|rs11629131|rs111228934|rs113018203|rs11627931|rs74447466|rs11622912|rs11622958\n",
       "8  rs74546140                                                                                                                                                                                                         \n",
       "9  rs75213153|rs2093219|rs76793511|rs79448270|rs17129212|rs79746774|rs76325112|rs75632357|rs17129209|rs17129210                                                                                                       \n",
       "10 rs11846959|rs1303|rs2073333|rs17090719|rs2070709                                                                                                                                                                   \n",
       "11 rs7157940                                                                                                                                                                                                          \n",
       "12 rs882269|rs3818119                                                                                                                                                                                                 \n",
       "13 rs28929474|rs112635299                                                                                                                                                                                             "
      ]
     },
     "metadata": {},
     "output_type": "display_data"
    }
   ],
   "source": [
    "finemap.snps %>%\n",
    "    dplyr::filter(Credibility_Set_Min_LD >= 0.5) %>%\n",
    "    dplyr::filter(Gene %in% c(\"P00751-pQTL_1\", \"P02787-pQTL_1\", \"Q92954-pQTL_1\")) %>%\n",
    "    dplyr::group_by(Gene, Credibility_Set) %>%\n",
    "    dplyr::summarize(n=n(), SNPs=paste0(SNP, collapse=\"|\"), .groups=\"drop\")"
   ]
  },
  {
   "cell_type": "code",
   "execution_count": 159,
   "id": "21d416d7-566d-4c0c-b716-a63d08fd1afe",
   "metadata": {},
   "outputs": [
    {
     "data": {
      "text/html": [
       "<table class=\"dataframe\">\n",
       "<caption>A grouped_df: 2 × 9</caption>\n",
       "<thead>\n",
       "\t<tr><th scope=col>Gene</th><th scope=col>k</th><th scope=col>Post_Prob_k</th><th scope=col>Credibility_Set</th><th scope=col>Credibility_Set_Min_LD</th><th scope=col>Credibility_Set_Mean_LD</th><th scope=col>Credibility_Set_Median_LD</th><th scope=col>SNP</th><th scope=col>Prob_SNP_in_CS</th></tr>\n",
       "\t<tr><th scope=col>&lt;chr&gt;</th><th scope=col>&lt;int&gt;</th><th scope=col>&lt;dbl&gt;</th><th scope=col>&lt;int&gt;</th><th scope=col>&lt;dbl&gt;</th><th scope=col>&lt;dbl&gt;</th><th scope=col>&lt;dbl&gt;</th><th scope=col>&lt;chr&gt;</th><th scope=col>&lt;dbl&gt;</th></tr>\n",
       "</thead>\n",
       "<tbody>\n",
       "\t<tr><td>P00751-pQTL_1</td><td>10</td><td>1</td><td>5</td><td>1</td><td>1</td><td>1</td><td>rs11846959</td><td>0.866828</td></tr>\n",
       "\t<tr><td>P00751-pQTL_1</td><td>10</td><td>1</td><td>5</td><td>1</td><td>1</td><td>1</td><td>rs1303    </td><td>0.132143</td></tr>\n",
       "</tbody>\n",
       "</table>\n"
      ],
      "text/latex": [
       "A grouped\\_df: 2 × 9\n",
       "\\begin{tabular}{lllllllll}\n",
       " Gene & k & Post\\_Prob\\_k & Credibility\\_Set & Credibility\\_Set\\_Min\\_LD & Credibility\\_Set\\_Mean\\_LD & Credibility\\_Set\\_Median\\_LD & SNP & Prob\\_SNP\\_in\\_CS\\\\\n",
       " <chr> & <int> & <dbl> & <int> & <dbl> & <dbl> & <dbl> & <chr> & <dbl>\\\\\n",
       "\\hline\n",
       "\t P00751-pQTL\\_1 & 10 & 1 & 5 & 1 & 1 & 1 & rs11846959 & 0.866828\\\\\n",
       "\t P00751-pQTL\\_1 & 10 & 1 & 5 & 1 & 1 & 1 & rs1303     & 0.132143\\\\\n",
       "\\end{tabular}\n"
      ],
      "text/markdown": [
       "\n",
       "A grouped_df: 2 × 9\n",
       "\n",
       "| Gene &lt;chr&gt; | k &lt;int&gt; | Post_Prob_k &lt;dbl&gt; | Credibility_Set &lt;int&gt; | Credibility_Set_Min_LD &lt;dbl&gt; | Credibility_Set_Mean_LD &lt;dbl&gt; | Credibility_Set_Median_LD &lt;dbl&gt; | SNP &lt;chr&gt; | Prob_SNP_in_CS &lt;dbl&gt; |\n",
       "|---|---|---|---|---|---|---|---|---|\n",
       "| P00751-pQTL_1 | 10 | 1 | 5 | 1 | 1 | 1 | rs11846959 | 0.866828 |\n",
       "| P00751-pQTL_1 | 10 | 1 | 5 | 1 | 1 | 1 | rs1303     | 0.132143 |\n",
       "\n"
      ],
      "text/plain": [
       "  Gene          k  Post_Prob_k Credibility_Set Credibility_Set_Min_LD\n",
       "1 P00751-pQTL_1 10 1           5               1                     \n",
       "2 P00751-pQTL_1 10 1           5               1                     \n",
       "  Credibility_Set_Mean_LD Credibility_Set_Median_LD SNP        Prob_SNP_in_CS\n",
       "1 1                       1                         rs11846959 0.866828      \n",
       "2 1                       1                         rs1303     0.132143      "
      ]
     },
     "metadata": {},
     "output_type": "display_data"
    }
   ],
   "source": [
    "finemap.snps %>%\n",
    "    dplyr::filter(Gene == \"P00751-pQTL_1\", Credibility_Set == 5)"
   ]
  },
  {
   "cell_type": "markdown",
   "id": "e58fbce1-f14b-4f9e-9ed0-9c8881193472",
   "metadata": {
    "tags": []
   },
   "source": [
    "### Chromosome 16"
   ]
  },
  {
   "cell_type": "code",
   "execution_count": 160,
   "id": "d66d2490-5150-4f4d-b104-6fcf90fde2c9",
   "metadata": {},
   "outputs": [
    {
     "data": {
      "text/html": [
       "<table class=\"dataframe\">\n",
       "<caption>A tibble: 0 × 4</caption>\n",
       "<thead>\n",
       "\t<tr><th scope=col>pQTL_ID</th><th scope=col>Credible_Set</th><th scope=col>n</th><th scope=col>SNPs</th></tr>\n",
       "\t<tr><th scope=col>&lt;chr&gt;</th><th scope=col>&lt;int&gt;</th><th scope=col>&lt;int&gt;</th><th scope=col>&lt;chr&gt;</th></tr>\n",
       "</thead>\n",
       "<tbody>\n",
       "</tbody>\n",
       "</table>\n"
      ],
      "text/latex": [
       "A tibble: 0 × 4\n",
       "\\begin{tabular}{llll}\n",
       " pQTL\\_ID & Credible\\_Set & n & SNPs\\\\\n",
       " <chr> & <int> & <int> & <chr>\\\\\n",
       "\\hline\n",
       "\\end{tabular}\n"
      ],
      "text/markdown": [
       "\n",
       "A tibble: 0 × 4\n",
       "\n",
       "| pQTL_ID &lt;chr&gt; | Credible_Set &lt;int&gt; | n &lt;int&gt; | SNPs &lt;chr&gt; |\n",
       "|---|---|---|---|\n",
       "\n"
      ],
      "text/plain": [
       "     pQTL_ID Credible_Set n SNPs"
      ]
     },
     "metadata": {},
     "output_type": "display_data"
    }
   ],
   "source": [
    "susie.snps %>%\n",
    "    dplyr::filter(pQTL_ID %in% c(\"P10909-pQTL_1\", \"P19827-pQTL_1\")) %>%\n",
    "    dplyr::group_by(pQTL_ID, Credible_Set) %>%\n",
    "    dplyr::summarize(n=n(), SNPs=paste0(SNP, collapse=\"|\"), .groups=\"drop\")"
   ]
  },
  {
   "cell_type": "code",
   "execution_count": 161,
   "id": "f3521a34-4cf8-4bc3-a7ee-8d8d1970ba83",
   "metadata": {},
   "outputs": [
    {
     "data": {
      "text/html": [
       "<table class=\"dataframe\">\n",
       "<caption>A tibble: 20 × 4</caption>\n",
       "<thead>\n",
       "\t<tr><th scope=col>Gene</th><th scope=col>Credibility_Set</th><th scope=col>n</th><th scope=col>SNPs</th></tr>\n",
       "\t<tr><th scope=col>&lt;chr&gt;</th><th scope=col>&lt;int&gt;</th><th scope=col>&lt;int&gt;</th><th scope=col>&lt;chr&gt;</th></tr>\n",
       "</thead>\n",
       "<tbody>\n",
       "\t<tr><td>P10909-pQTL_1</td><td> 1</td><td>3</td><td>rs11647844|rs12925901|rs12708920</td></tr>\n",
       "\t<tr><td>P10909-pQTL_1</td><td> 2</td><td>1</td><td>rs11075908                      </td></tr>\n",
       "\t<tr><td>P10909-pQTL_1</td><td> 3</td><td>1</td><td>rs9921705                       </td></tr>\n",
       "\t<tr><td>P10909-pQTL_1</td><td> 4</td><td>1</td><td>rs34156336                      </td></tr>\n",
       "\t<tr><td>P10909-pQTL_1</td><td> 5</td><td>1</td><td>rs9923575                       </td></tr>\n",
       "\t<tr><td>P10909-pQTL_1</td><td> 6</td><td>1</td><td>rs16970933                      </td></tr>\n",
       "\t<tr><td>P10909-pQTL_1</td><td> 7</td><td>1</td><td>rs117507320                     </td></tr>\n",
       "\t<tr><td>P10909-pQTL_1</td><td> 8</td><td>1</td><td>rs12447416                      </td></tr>\n",
       "\t<tr><td>P10909-pQTL_1</td><td> 9</td><td>1</td><td>rs6499566                       </td></tr>\n",
       "\t<tr><td>P10909-pQTL_1</td><td>10</td><td>1</td><td>rs34998650                      </td></tr>\n",
       "\t<tr><td>P19827-pQTL_1</td><td> 1</td><td>3</td><td>rs12925901|rs12708920|rs11647844</td></tr>\n",
       "\t<tr><td>P19827-pQTL_1</td><td> 2</td><td>1</td><td>rs10852506                      </td></tr>\n",
       "\t<tr><td>P19827-pQTL_1</td><td> 3</td><td>2</td><td>rs34679758|rs12926804           </td></tr>\n",
       "\t<tr><td>P19827-pQTL_1</td><td> 4</td><td>1</td><td>rs8048262                       </td></tr>\n",
       "\t<tr><td>P19827-pQTL_1</td><td> 5</td><td>1</td><td>rs79635500                      </td></tr>\n",
       "\t<tr><td>P19827-pQTL_1</td><td> 6</td><td>1</td><td>rs9302635                       </td></tr>\n",
       "\t<tr><td>P19827-pQTL_1</td><td> 7</td><td>1</td><td>rs35697801                      </td></tr>\n",
       "\t<tr><td>P19827-pQTL_1</td><td> 8</td><td>2</td><td>rs7192956|rs9940707             </td></tr>\n",
       "\t<tr><td>P19827-pQTL_1</td><td> 9</td><td>1</td><td>rs10852514                      </td></tr>\n",
       "\t<tr><td>P19827-pQTL_1</td><td>10</td><td>1</td><td>rs3213421                       </td></tr>\n",
       "</tbody>\n",
       "</table>\n"
      ],
      "text/latex": [
       "A tibble: 20 × 4\n",
       "\\begin{tabular}{llll}\n",
       " Gene & Credibility\\_Set & n & SNPs\\\\\n",
       " <chr> & <int> & <int> & <chr>\\\\\n",
       "\\hline\n",
       "\t P10909-pQTL\\_1 &  1 & 3 & rs11647844\\textbar{}rs12925901\\textbar{}rs12708920\\\\\n",
       "\t P10909-pQTL\\_1 &  2 & 1 & rs11075908                      \\\\\n",
       "\t P10909-pQTL\\_1 &  3 & 1 & rs9921705                       \\\\\n",
       "\t P10909-pQTL\\_1 &  4 & 1 & rs34156336                      \\\\\n",
       "\t P10909-pQTL\\_1 &  5 & 1 & rs9923575                       \\\\\n",
       "\t P10909-pQTL\\_1 &  6 & 1 & rs16970933                      \\\\\n",
       "\t P10909-pQTL\\_1 &  7 & 1 & rs117507320                     \\\\\n",
       "\t P10909-pQTL\\_1 &  8 & 1 & rs12447416                      \\\\\n",
       "\t P10909-pQTL\\_1 &  9 & 1 & rs6499566                       \\\\\n",
       "\t P10909-pQTL\\_1 & 10 & 1 & rs34998650                      \\\\\n",
       "\t P19827-pQTL\\_1 &  1 & 3 & rs12925901\\textbar{}rs12708920\\textbar{}rs11647844\\\\\n",
       "\t P19827-pQTL\\_1 &  2 & 1 & rs10852506                      \\\\\n",
       "\t P19827-pQTL\\_1 &  3 & 2 & rs34679758\\textbar{}rs12926804           \\\\\n",
       "\t P19827-pQTL\\_1 &  4 & 1 & rs8048262                       \\\\\n",
       "\t P19827-pQTL\\_1 &  5 & 1 & rs79635500                      \\\\\n",
       "\t P19827-pQTL\\_1 &  6 & 1 & rs9302635                       \\\\\n",
       "\t P19827-pQTL\\_1 &  7 & 1 & rs35697801                      \\\\\n",
       "\t P19827-pQTL\\_1 &  8 & 2 & rs7192956\\textbar{}rs9940707             \\\\\n",
       "\t P19827-pQTL\\_1 &  9 & 1 & rs10852514                      \\\\\n",
       "\t P19827-pQTL\\_1 & 10 & 1 & rs3213421                       \\\\\n",
       "\\end{tabular}\n"
      ],
      "text/markdown": [
       "\n",
       "A tibble: 20 × 4\n",
       "\n",
       "| Gene &lt;chr&gt; | Credibility_Set &lt;int&gt; | n &lt;int&gt; | SNPs &lt;chr&gt; |\n",
       "|---|---|---|---|\n",
       "| P10909-pQTL_1 |  1 | 3 | rs11647844|rs12925901|rs12708920 |\n",
       "| P10909-pQTL_1 |  2 | 1 | rs11075908                       |\n",
       "| P10909-pQTL_1 |  3 | 1 | rs9921705                        |\n",
       "| P10909-pQTL_1 |  4 | 1 | rs34156336                       |\n",
       "| P10909-pQTL_1 |  5 | 1 | rs9923575                        |\n",
       "| P10909-pQTL_1 |  6 | 1 | rs16970933                       |\n",
       "| P10909-pQTL_1 |  7 | 1 | rs117507320                      |\n",
       "| P10909-pQTL_1 |  8 | 1 | rs12447416                       |\n",
       "| P10909-pQTL_1 |  9 | 1 | rs6499566                        |\n",
       "| P10909-pQTL_1 | 10 | 1 | rs34998650                       |\n",
       "| P19827-pQTL_1 |  1 | 3 | rs12925901|rs12708920|rs11647844 |\n",
       "| P19827-pQTL_1 |  2 | 1 | rs10852506                       |\n",
       "| P19827-pQTL_1 |  3 | 2 | rs34679758|rs12926804            |\n",
       "| P19827-pQTL_1 |  4 | 1 | rs8048262                        |\n",
       "| P19827-pQTL_1 |  5 | 1 | rs79635500                       |\n",
       "| P19827-pQTL_1 |  6 | 1 | rs9302635                        |\n",
       "| P19827-pQTL_1 |  7 | 1 | rs35697801                       |\n",
       "| P19827-pQTL_1 |  8 | 2 | rs7192956|rs9940707              |\n",
       "| P19827-pQTL_1 |  9 | 1 | rs10852514                       |\n",
       "| P19827-pQTL_1 | 10 | 1 | rs3213421                        |\n",
       "\n"
      ],
      "text/plain": [
       "   Gene          Credibility_Set n SNPs                            \n",
       "1  P10909-pQTL_1  1              3 rs11647844|rs12925901|rs12708920\n",
       "2  P10909-pQTL_1  2              1 rs11075908                      \n",
       "3  P10909-pQTL_1  3              1 rs9921705                       \n",
       "4  P10909-pQTL_1  4              1 rs34156336                      \n",
       "5  P10909-pQTL_1  5              1 rs9923575                       \n",
       "6  P10909-pQTL_1  6              1 rs16970933                      \n",
       "7  P10909-pQTL_1  7              1 rs117507320                     \n",
       "8  P10909-pQTL_1  8              1 rs12447416                      \n",
       "9  P10909-pQTL_1  9              1 rs6499566                       \n",
       "10 P10909-pQTL_1 10              1 rs34998650                      \n",
       "11 P19827-pQTL_1  1              3 rs12925901|rs12708920|rs11647844\n",
       "12 P19827-pQTL_1  2              1 rs10852506                      \n",
       "13 P19827-pQTL_1  3              2 rs34679758|rs12926804           \n",
       "14 P19827-pQTL_1  4              1 rs8048262                       \n",
       "15 P19827-pQTL_1  5              1 rs79635500                      \n",
       "16 P19827-pQTL_1  6              1 rs9302635                       \n",
       "17 P19827-pQTL_1  7              1 rs35697801                      \n",
       "18 P19827-pQTL_1  8              2 rs7192956|rs9940707             \n",
       "19 P19827-pQTL_1  9              1 rs10852514                      \n",
       "20 P19827-pQTL_1 10              1 rs3213421                       "
      ]
     },
     "metadata": {},
     "output_type": "display_data"
    }
   ],
   "source": [
    "finemap.snps %>%\n",
    "    dplyr::filter(Credibility_Set_Min_LD >= 0.5) %>%\n",
    "    dplyr::filter(Gene %in% c(\"P10909-pQTL_1\", \"P19827-pQTL_1\")) %>%\n",
    "    dplyr::group_by(Gene, Credibility_Set) %>%\n",
    "    dplyr::summarize(n=n(), SNPs=paste0(SNP, collapse=\"|\"), .groups=\"drop\")"
   ]
  },
  {
   "cell_type": "code",
   "execution_count": 163,
   "id": "babf467e-8800-4245-8698-d2306a07d2f0",
   "metadata": {},
   "outputs": [
    {
     "data": {
      "text/html": [
       "<table class=\"dataframe\">\n",
       "<caption>A grouped_df: 3 × 9</caption>\n",
       "<thead>\n",
       "\t<tr><th scope=col>Gene</th><th scope=col>k</th><th scope=col>Post_Prob_k</th><th scope=col>Credibility_Set</th><th scope=col>Credibility_Set_Min_LD</th><th scope=col>Credibility_Set_Mean_LD</th><th scope=col>Credibility_Set_Median_LD</th><th scope=col>SNP</th><th scope=col>Prob_SNP_in_CS</th></tr>\n",
       "\t<tr><th scope=col>&lt;chr&gt;</th><th scope=col>&lt;int&gt;</th><th scope=col>&lt;dbl&gt;</th><th scope=col>&lt;int&gt;</th><th scope=col>&lt;dbl&gt;</th><th scope=col>&lt;dbl&gt;</th><th scope=col>&lt;dbl&gt;</th><th scope=col>&lt;chr&gt;</th><th scope=col>&lt;dbl&gt;</th></tr>\n",
       "</thead>\n",
       "<tbody>\n",
       "\t<tr><td>P10909-pQTL_1</td><td>10</td><td>1</td><td>1</td><td>1</td><td>1</td><td>1</td><td>rs11647844</td><td>0.366129</td></tr>\n",
       "\t<tr><td>P10909-pQTL_1</td><td>10</td><td>1</td><td>1</td><td>1</td><td>1</td><td>1</td><td>rs12925901</td><td>0.316936</td></tr>\n",
       "\t<tr><td>P10909-pQTL_1</td><td>10</td><td>1</td><td>1</td><td>1</td><td>1</td><td>1</td><td>rs12708920</td><td>0.316936</td></tr>\n",
       "</tbody>\n",
       "</table>\n"
      ],
      "text/latex": [
       "A grouped\\_df: 3 × 9\n",
       "\\begin{tabular}{lllllllll}\n",
       " Gene & k & Post\\_Prob\\_k & Credibility\\_Set & Credibility\\_Set\\_Min\\_LD & Credibility\\_Set\\_Mean\\_LD & Credibility\\_Set\\_Median\\_LD & SNP & Prob\\_SNP\\_in\\_CS\\\\\n",
       " <chr> & <int> & <dbl> & <int> & <dbl> & <dbl> & <dbl> & <chr> & <dbl>\\\\\n",
       "\\hline\n",
       "\t P10909-pQTL\\_1 & 10 & 1 & 1 & 1 & 1 & 1 & rs11647844 & 0.366129\\\\\n",
       "\t P10909-pQTL\\_1 & 10 & 1 & 1 & 1 & 1 & 1 & rs12925901 & 0.316936\\\\\n",
       "\t P10909-pQTL\\_1 & 10 & 1 & 1 & 1 & 1 & 1 & rs12708920 & 0.316936\\\\\n",
       "\\end{tabular}\n"
      ],
      "text/markdown": [
       "\n",
       "A grouped_df: 3 × 9\n",
       "\n",
       "| Gene &lt;chr&gt; | k &lt;int&gt; | Post_Prob_k &lt;dbl&gt; | Credibility_Set &lt;int&gt; | Credibility_Set_Min_LD &lt;dbl&gt; | Credibility_Set_Mean_LD &lt;dbl&gt; | Credibility_Set_Median_LD &lt;dbl&gt; | SNP &lt;chr&gt; | Prob_SNP_in_CS &lt;dbl&gt; |\n",
       "|---|---|---|---|---|---|---|---|---|\n",
       "| P10909-pQTL_1 | 10 | 1 | 1 | 1 | 1 | 1 | rs11647844 | 0.366129 |\n",
       "| P10909-pQTL_1 | 10 | 1 | 1 | 1 | 1 | 1 | rs12925901 | 0.316936 |\n",
       "| P10909-pQTL_1 | 10 | 1 | 1 | 1 | 1 | 1 | rs12708920 | 0.316936 |\n",
       "\n"
      ],
      "text/plain": [
       "  Gene          k  Post_Prob_k Credibility_Set Credibility_Set_Min_LD\n",
       "1 P10909-pQTL_1 10 1           1               1                     \n",
       "2 P10909-pQTL_1 10 1           1               1                     \n",
       "3 P10909-pQTL_1 10 1           1               1                     \n",
       "  Credibility_Set_Mean_LD Credibility_Set_Median_LD SNP        Prob_SNP_in_CS\n",
       "1 1                       1                         rs11647844 0.366129      \n",
       "2 1                       1                         rs12925901 0.316936      \n",
       "3 1                       1                         rs12708920 0.316936      "
      ]
     },
     "metadata": {},
     "output_type": "display_data"
    }
   ],
   "source": [
    "finemap.snps %>%\n",
    "    dplyr::filter(Gene == \"P10909-pQTL_1\", Credibility_Set == 1)"
   ]
  },
  {
   "cell_type": "code",
   "execution_count": 164,
   "id": "aa9d1676-15d8-46a4-b6de-6a2de6dd7730",
   "metadata": {},
   "outputs": [
    {
     "data": {
      "text/html": [
       "<table class=\"dataframe\">\n",
       "<caption>A grouped_df: 3 × 9</caption>\n",
       "<thead>\n",
       "\t<tr><th scope=col>Gene</th><th scope=col>k</th><th scope=col>Post_Prob_k</th><th scope=col>Credibility_Set</th><th scope=col>Credibility_Set_Min_LD</th><th scope=col>Credibility_Set_Mean_LD</th><th scope=col>Credibility_Set_Median_LD</th><th scope=col>SNP</th><th scope=col>Prob_SNP_in_CS</th></tr>\n",
       "\t<tr><th scope=col>&lt;chr&gt;</th><th scope=col>&lt;int&gt;</th><th scope=col>&lt;dbl&gt;</th><th scope=col>&lt;int&gt;</th><th scope=col>&lt;dbl&gt;</th><th scope=col>&lt;dbl&gt;</th><th scope=col>&lt;dbl&gt;</th><th scope=col>&lt;chr&gt;</th><th scope=col>&lt;dbl&gt;</th></tr>\n",
       "</thead>\n",
       "<tbody>\n",
       "\t<tr><td>P19827-pQTL_1</td><td>10</td><td>1</td><td>1</td><td>1</td><td>1</td><td>1</td><td>rs12925901</td><td>0.333333</td></tr>\n",
       "\t<tr><td>P19827-pQTL_1</td><td>10</td><td>1</td><td>1</td><td>1</td><td>1</td><td>1</td><td>rs12708920</td><td>0.333333</td></tr>\n",
       "\t<tr><td>P19827-pQTL_1</td><td>10</td><td>1</td><td>1</td><td>1</td><td>1</td><td>1</td><td>rs11647844</td><td>0.333333</td></tr>\n",
       "</tbody>\n",
       "</table>\n"
      ],
      "text/latex": [
       "A grouped\\_df: 3 × 9\n",
       "\\begin{tabular}{lllllllll}\n",
       " Gene & k & Post\\_Prob\\_k & Credibility\\_Set & Credibility\\_Set\\_Min\\_LD & Credibility\\_Set\\_Mean\\_LD & Credibility\\_Set\\_Median\\_LD & SNP & Prob\\_SNP\\_in\\_CS\\\\\n",
       " <chr> & <int> & <dbl> & <int> & <dbl> & <dbl> & <dbl> & <chr> & <dbl>\\\\\n",
       "\\hline\n",
       "\t P19827-pQTL\\_1 & 10 & 1 & 1 & 1 & 1 & 1 & rs12925901 & 0.333333\\\\\n",
       "\t P19827-pQTL\\_1 & 10 & 1 & 1 & 1 & 1 & 1 & rs12708920 & 0.333333\\\\\n",
       "\t P19827-pQTL\\_1 & 10 & 1 & 1 & 1 & 1 & 1 & rs11647844 & 0.333333\\\\\n",
       "\\end{tabular}\n"
      ],
      "text/markdown": [
       "\n",
       "A grouped_df: 3 × 9\n",
       "\n",
       "| Gene &lt;chr&gt; | k &lt;int&gt; | Post_Prob_k &lt;dbl&gt; | Credibility_Set &lt;int&gt; | Credibility_Set_Min_LD &lt;dbl&gt; | Credibility_Set_Mean_LD &lt;dbl&gt; | Credibility_Set_Median_LD &lt;dbl&gt; | SNP &lt;chr&gt; | Prob_SNP_in_CS &lt;dbl&gt; |\n",
       "|---|---|---|---|---|---|---|---|---|\n",
       "| P19827-pQTL_1 | 10 | 1 | 1 | 1 | 1 | 1 | rs12925901 | 0.333333 |\n",
       "| P19827-pQTL_1 | 10 | 1 | 1 | 1 | 1 | 1 | rs12708920 | 0.333333 |\n",
       "| P19827-pQTL_1 | 10 | 1 | 1 | 1 | 1 | 1 | rs11647844 | 0.333333 |\n",
       "\n"
      ],
      "text/plain": [
       "  Gene          k  Post_Prob_k Credibility_Set Credibility_Set_Min_LD\n",
       "1 P19827-pQTL_1 10 1           1               1                     \n",
       "2 P19827-pQTL_1 10 1           1               1                     \n",
       "3 P19827-pQTL_1 10 1           1               1                     \n",
       "  Credibility_Set_Mean_LD Credibility_Set_Median_LD SNP        Prob_SNP_in_CS\n",
       "1 1                       1                         rs12925901 0.333333      \n",
       "2 1                       1                         rs12708920 0.333333      \n",
       "3 1                       1                         rs11647844 0.333333      "
      ]
     },
     "metadata": {},
     "output_type": "display_data"
    }
   ],
   "source": [
    "finemap.snps %>%\n",
    "    dplyr::filter(Gene == \"P19827-pQTL_1\", Credibility_Set == 1)"
   ]
  },
  {
   "cell_type": "code",
   "execution_count": null,
   "id": "e5b9073e-7788-47e2-908e-67e1cff647e2",
   "metadata": {},
   "outputs": [],
   "source": []
  }
 ],
 "metadata": {
  "kernelspec": {
   "display_name": "R",
   "language": "R",
   "name": "ir"
  },
  "language_info": {
   "codemirror_mode": "r",
   "file_extension": ".r",
   "mimetype": "text/x-r-source",
   "name": "R",
   "pygments_lexer": "r",
   "version": "4.0.5"
  }
 },
 "nbformat": 4,
 "nbformat_minor": 5
}
