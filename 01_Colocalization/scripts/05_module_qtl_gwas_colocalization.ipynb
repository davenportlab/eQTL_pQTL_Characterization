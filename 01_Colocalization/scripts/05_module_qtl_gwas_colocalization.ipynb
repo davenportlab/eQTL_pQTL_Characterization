{
 "cells": [
  {
   "cell_type": "markdown",
   "id": "a23147bd-2143-40bc-a387-21ecd96a09e8",
   "metadata": {},
   "source": [
    "# Module QTL and GWAS Colocalization\n",
    "\n",
    "**Created**: 2 June 2022"
   ]
  },
  {
   "cell_type": "markdown",
   "id": "17c2c96d-3148-42e3-855f-09205e936123",
   "metadata": {},
   "source": [
    "## Environment"
   ]
  },
  {
   "cell_type": "code",
   "execution_count": 1,
   "id": "9b4399f3-379c-4a86-a273-91a9645ed343",
   "metadata": {},
   "outputs": [
    {
     "name": "stderr",
     "output_type": "stream",
     "text": [
      "── \u001b[1mAttaching packages\u001b[22m ───────────────────────────────────────────────────────────────────────────────────────────────────────────────────────────────────────────────────────────────────────────── tidyverse 1.3.1 ──\n",
      "\n",
      "\u001b[32m✔\u001b[39m \u001b[34mggplot2\u001b[39m 3.3.5     \u001b[32m✔\u001b[39m \u001b[34mpurrr  \u001b[39m 0.3.4\n",
      "\u001b[32m✔\u001b[39m \u001b[34mtibble \u001b[39m 3.1.6     \u001b[32m✔\u001b[39m \u001b[34mdplyr  \u001b[39m 1.0.8\n",
      "\u001b[32m✔\u001b[39m \u001b[34mtidyr  \u001b[39m 1.2.0     \u001b[32m✔\u001b[39m \u001b[34mstringr\u001b[39m 1.4.0\n",
      "\u001b[32m✔\u001b[39m \u001b[34mreadr  \u001b[39m 2.1.1     \u001b[32m✔\u001b[39m \u001b[34mforcats\u001b[39m 0.5.1\n",
      "\n",
      "── \u001b[1mConflicts\u001b[22m ──────────────────────────────────────────────────────────────────────────────────────────────────────────────────────────────────────────────────────────────────────────────── tidyverse_conflicts() ──\n",
      "\u001b[31m✖\u001b[39m \u001b[34mdplyr\u001b[39m::\u001b[32mfilter()\u001b[39m masks \u001b[34mstats\u001b[39m::filter()\n",
      "\u001b[31m✖\u001b[39m \u001b[34mdplyr\u001b[39m::\u001b[32mlag()\u001b[39m    masks \u001b[34mstats\u001b[39m::lag()\n",
      "\n",
      "\n",
      "Attaching package: ‘data.table’\n",
      "\n",
      "\n",
      "The following objects are masked from ‘package:dplyr’:\n",
      "\n",
      "    between, first, last\n",
      "\n",
      "\n",
      "The following object is masked from ‘package:purrr’:\n",
      "\n",
      "    transpose\n",
      "\n",
      "\n",
      "This is coloc version 5.1.1\n",
      "\n"
     ]
    }
   ],
   "source": [
    "library(tidyverse)\n",
    "library(data.table)\n",
    "library(coloc)\n",
    "library(susieR)\n",
    "\n",
    "setwd(\"~/eQTL_pQTL_Characterization/\")\n",
    "\n",
    "source(\"01_Colocalization/scripts/utils/ggplot_theme.R\")\n",
    "source(\"01_Colocalization/scripts/utils/iupac.R\")"
   ]
  },
  {
   "cell_type": "markdown",
   "id": "5eafd9c4-fe45-477d-a110-36dc686a2709",
   "metadata": {},
   "source": [
    "## Load Module QTL Data"
   ]
  },
  {
   "cell_type": "code",
   "execution_count": 2,
   "id": "b9769a0a-d104-400f-ab49-94639d76b0f9",
   "metadata": {},
   "outputs": [],
   "source": [
    "geno.bim <- fread(\"/nfs/users/nfs_n/nm18/gains_team282/Genotyping/All_genotyping_merged_filtered_b38_refiltered_rsID.bim\")\n",
    "\n",
    "colnames(geno.bim) <- c(\"chr\", \"snp\", \"cM\", \"pos\", \"minor_allele\", \"major_allele\")"
   ]
  },
  {
   "cell_type": "code",
   "execution_count": 3,
   "id": "bcce5b4c-62e8-47ea-9c8a-1b5321c948b3",
   "metadata": {},
   "outputs": [
    {
     "data": {
      "text/html": [
       "<table class=\"dataframe\">\n",
       "<caption>A data.table: 6 × 6</caption>\n",
       "<thead>\n",
       "\t<tr><th scope=col>chr</th><th scope=col>snp</th><th scope=col>cM</th><th scope=col>pos</th><th scope=col>minor_allele</th><th scope=col>major_allele</th></tr>\n",
       "\t<tr><th scope=col>&lt;chr&gt;</th><th scope=col>&lt;chr&gt;</th><th scope=col>&lt;int&gt;</th><th scope=col>&lt;int&gt;</th><th scope=col>&lt;chr&gt;</th><th scope=col>&lt;chr&gt;</th></tr>\n",
       "</thead>\n",
       "<tbody>\n",
       "\t<tr><td>1</td><td>rs3131972   </td><td>0</td><td>817341</td><td>A</td><td>G</td></tr>\n",
       "\t<tr><td>1</td><td>rs546843995 </td><td>0</td><td>818053</td><td>0</td><td>G</td></tr>\n",
       "\t<tr><td>1</td><td>rs553916047 </td><td>0</td><td>818359</td><td>0</td><td>A</td></tr>\n",
       "\t<tr><td>1</td><td>1:818740_T_C</td><td>0</td><td>818740</td><td>T</td><td>C</td></tr>\n",
       "\t<tr><td>1</td><td>rs145604921 </td><td>0</td><td>819378</td><td>0</td><td>C</td></tr>\n",
       "\t<tr><td>1</td><td>rs535256652 </td><td>0</td><td>821053</td><td>0</td><td>T</td></tr>\n",
       "</tbody>\n",
       "</table>\n"
      ],
      "text/latex": [
       "A data.table: 6 × 6\n",
       "\\begin{tabular}{llllll}\n",
       " chr & snp & cM & pos & minor\\_allele & major\\_allele\\\\\n",
       " <chr> & <chr> & <int> & <int> & <chr> & <chr>\\\\\n",
       "\\hline\n",
       "\t 1 & rs3131972    & 0 & 817341 & A & G\\\\\n",
       "\t 1 & rs546843995  & 0 & 818053 & 0 & G\\\\\n",
       "\t 1 & rs553916047  & 0 & 818359 & 0 & A\\\\\n",
       "\t 1 & 1:818740\\_T\\_C & 0 & 818740 & T & C\\\\\n",
       "\t 1 & rs145604921  & 0 & 819378 & 0 & C\\\\\n",
       "\t 1 & rs535256652  & 0 & 821053 & 0 & T\\\\\n",
       "\\end{tabular}\n"
      ],
      "text/markdown": [
       "\n",
       "A data.table: 6 × 6\n",
       "\n",
       "| chr &lt;chr&gt; | snp &lt;chr&gt; | cM &lt;int&gt; | pos &lt;int&gt; | minor_allele &lt;chr&gt; | major_allele &lt;chr&gt; |\n",
       "|---|---|---|---|---|---|\n",
       "| 1 | rs3131972    | 0 | 817341 | A | G |\n",
       "| 1 | rs546843995  | 0 | 818053 | 0 | G |\n",
       "| 1 | rs553916047  | 0 | 818359 | 0 | A |\n",
       "| 1 | 1:818740_T_C | 0 | 818740 | T | C |\n",
       "| 1 | rs145604921  | 0 | 819378 | 0 | C |\n",
       "| 1 | rs535256652  | 0 | 821053 | 0 | T |\n",
       "\n"
      ],
      "text/plain": [
       "  chr snp          cM pos    minor_allele major_allele\n",
       "1 1   rs3131972    0  817341 A            G           \n",
       "2 1   rs546843995  0  818053 0            G           \n",
       "3 1   rs553916047  0  818359 0            A           \n",
       "4 1   1:818740_T_C 0  818740 T            C           \n",
       "5 1   rs145604921  0  819378 0            C           \n",
       "6 1   rs535256652  0  821053 0            T           "
      ]
     },
     "metadata": {},
     "output_type": "display_data"
    }
   ],
   "source": [
    "head(geno.bim)"
   ]
  },
  {
   "cell_type": "code",
   "execution_count": 4,
   "id": "535b1f3b-905c-4164-854a-38916a80e9ef",
   "metadata": {},
   "outputs": [],
   "source": [
    "module.ss.dir = \"/nfs/users/nfs_n/nm18/gains_team282/nikhil/expression/eigengene_sva/wgcna_summary_statistics/\"\n",
    "module.qtl.sum <- do.call(rbind, lapply(list.files(module.ss.dir, pattern=\"ME_[0-9]+_[0-9]+-.*\\\\.tsv\"), function(file.name) {\n",
    "\n",
    "    fread(paste0(module.ss.dir, file.name)) %>%\n",
    "    as.data.frame() %>%\n",
    "    dplyr::select(snp=1, beta=2, se=3, t=4, p=5) %>%\n",
    "    dplyr::mutate(module.qtl=gsub(\"\\\\.tsv\", \"\", file.name)) %>%\n",
    "    dplyr::mutate(module=gsub(\"_[0-9]+-.*$\", \"\", module.qtl)) %>%\n",
    "    dplyr::mutate(pc=gsub(\"-.*$\", \"\", gsub(\"ME_[0-9]+_\", \"\", module.qtl))) %>%\n",
    "    dplyr::mutate(qtl.locus=gsub(\"ME_[0-9]+_[0-9]+-\", \"\", module.qtl)) %>%\n",
    "    dplyr::mutate(qtl.locus.chr=gsub(\"\\\\:.*\", \"\", qtl.locus)) %>%\n",
    "    dplyr::mutate(qtl.locus.start=as.numeric(gsub(\".*\\\\:\", \"\", gsub(\"-.*$\", \"\", qtl.locus)))) %>%\n",
    "    dplyr::mutate(qtl.locus.end=as.numeric(gsub(\".*-\", \"\", qtl.locus)))\n",
    "})) %>%\n",
    "    merge(., geno.bim, by=\"snp\")"
   ]
  },
  {
   "cell_type": "code",
   "execution_count": 5,
   "id": "eebfe568-7047-44e4-a46b-eac0510e72ac",
   "metadata": {},
   "outputs": [
    {
     "data": {
      "text/html": [
       "<table class=\"dataframe\">\n",
       "<caption>A data.frame: 6 × 17</caption>\n",
       "<thead>\n",
       "\t<tr><th></th><th scope=col>snp</th><th scope=col>beta</th><th scope=col>se</th><th scope=col>t</th><th scope=col>p</th><th scope=col>module.qtl</th><th scope=col>module</th><th scope=col>pc</th><th scope=col>qtl.locus</th><th scope=col>qtl.locus.chr</th><th scope=col>qtl.locus.start</th><th scope=col>qtl.locus.end</th><th scope=col>chr</th><th scope=col>cM</th><th scope=col>pos</th><th scope=col>minor_allele</th><th scope=col>major_allele</th></tr>\n",
       "\t<tr><th></th><th scope=col>&lt;chr&gt;</th><th scope=col>&lt;dbl&gt;</th><th scope=col>&lt;dbl&gt;</th><th scope=col>&lt;dbl&gt;</th><th scope=col>&lt;dbl&gt;</th><th scope=col>&lt;chr&gt;</th><th scope=col>&lt;chr&gt;</th><th scope=col>&lt;chr&gt;</th><th scope=col>&lt;chr&gt;</th><th scope=col>&lt;chr&gt;</th><th scope=col>&lt;dbl&gt;</th><th scope=col>&lt;dbl&gt;</th><th scope=col>&lt;chr&gt;</th><th scope=col>&lt;int&gt;</th><th scope=col>&lt;int&gt;</th><th scope=col>&lt;chr&gt;</th><th scope=col>&lt;chr&gt;</th></tr>\n",
       "</thead>\n",
       "<tbody>\n",
       "\t<tr><th scope=row>1</th><td>rs10000031</td><td> 0.0019267651</td><td>0.001094589</td><td> 1.7602633</td><td>0.07874832</td><td>ME_87_1-4:67472593-69475768  </td><td>ME_87</td><td>1</td><td>4:67472593-69475768  </td><td>4</td><td> 67472593</td><td> 69475768</td><td>4</td><td>0</td><td> 68683231</td><td>G</td><td>A</td></tr>\n",
       "\t<tr><th scope=row>2</th><td>rs10000031</td><td>-0.0021730771</td><td>0.002620205</td><td>-0.8293539</td><td>0.40721463</td><td>ME_87_5-4:67472593-69475768  </td><td>ME_87</td><td>5</td><td>4:67472593-69475768  </td><td>4</td><td> 67472593</td><td> 69475768</td><td>4</td><td>0</td><td> 68683231</td><td>G</td><td>A</td></tr>\n",
       "\t<tr><th scope=row>3</th><td>rs10000031</td><td> 0.0003155103</td><td>0.002484468</td><td> 0.1269931</td><td>0.89895231</td><td>ME_87_2-4:67472593-69475768  </td><td>ME_87</td><td>2</td><td>4:67472593-69475768  </td><td>4</td><td> 67472593</td><td> 69475768</td><td>4</td><td>0</td><td> 68683231</td><td>G</td><td>A</td></tr>\n",
       "\t<tr><th scope=row>4</th><td>rs10000031</td><td> 0.0010224658</td><td>0.002528719</td><td> 0.4043415</td><td>0.68610817</td><td>ME_87_3-4:67472593-69475768  </td><td>ME_87</td><td>3</td><td>4:67472593-69475768  </td><td>4</td><td> 67472593</td><td> 69475768</td><td>4</td><td>0</td><td> 68683231</td><td>G</td><td>A</td></tr>\n",
       "\t<tr><th scope=row>5</th><td>rs10000031</td><td> 0.0025630543</td><td>0.002457255</td><td> 1.0430561</td><td>0.29739909</td><td>ME_87_4-4:67472593-69475768  </td><td>ME_87</td><td>4</td><td>4:67472593-69475768  </td><td>4</td><td> 67472593</td><td> 69475768</td><td>4</td><td>0</td><td> 68683231</td><td>G</td><td>A</td></tr>\n",
       "\t<tr><th scope=row>6</th><td>rs10000051</td><td>-0.0016114074</td><td>0.001729396</td><td>-0.9317744</td><td>0.35160254</td><td>ME_86_5-4:117564190-120834939</td><td>ME_86</td><td>5</td><td>4:117564190-120834939</td><td>4</td><td>117564190</td><td>120834939</td><td>4</td><td>0</td><td>120370537</td><td>T</td><td>C</td></tr>\n",
       "</tbody>\n",
       "</table>\n"
      ],
      "text/latex": [
       "A data.frame: 6 × 17\n",
       "\\begin{tabular}{r|lllllllllllllllll}\n",
       "  & snp & beta & se & t & p & module.qtl & module & pc & qtl.locus & qtl.locus.chr & qtl.locus.start & qtl.locus.end & chr & cM & pos & minor\\_allele & major\\_allele\\\\\n",
       "  & <chr> & <dbl> & <dbl> & <dbl> & <dbl> & <chr> & <chr> & <chr> & <chr> & <chr> & <dbl> & <dbl> & <chr> & <int> & <int> & <chr> & <chr>\\\\\n",
       "\\hline\n",
       "\t1 & rs10000031 &  0.0019267651 & 0.001094589 &  1.7602633 & 0.07874832 & ME\\_87\\_1-4:67472593-69475768   & ME\\_87 & 1 & 4:67472593-69475768   & 4 &  67472593 &  69475768 & 4 & 0 &  68683231 & G & A\\\\\n",
       "\t2 & rs10000031 & -0.0021730771 & 0.002620205 & -0.8293539 & 0.40721463 & ME\\_87\\_5-4:67472593-69475768   & ME\\_87 & 5 & 4:67472593-69475768   & 4 &  67472593 &  69475768 & 4 & 0 &  68683231 & G & A\\\\\n",
       "\t3 & rs10000031 &  0.0003155103 & 0.002484468 &  0.1269931 & 0.89895231 & ME\\_87\\_2-4:67472593-69475768   & ME\\_87 & 2 & 4:67472593-69475768   & 4 &  67472593 &  69475768 & 4 & 0 &  68683231 & G & A\\\\\n",
       "\t4 & rs10000031 &  0.0010224658 & 0.002528719 &  0.4043415 & 0.68610817 & ME\\_87\\_3-4:67472593-69475768   & ME\\_87 & 3 & 4:67472593-69475768   & 4 &  67472593 &  69475768 & 4 & 0 &  68683231 & G & A\\\\\n",
       "\t5 & rs10000031 &  0.0025630543 & 0.002457255 &  1.0430561 & 0.29739909 & ME\\_87\\_4-4:67472593-69475768   & ME\\_87 & 4 & 4:67472593-69475768   & 4 &  67472593 &  69475768 & 4 & 0 &  68683231 & G & A\\\\\n",
       "\t6 & rs10000051 & -0.0016114074 & 0.001729396 & -0.9317744 & 0.35160254 & ME\\_86\\_5-4:117564190-120834939 & ME\\_86 & 5 & 4:117564190-120834939 & 4 & 117564190 & 120834939 & 4 & 0 & 120370537 & T & C\\\\\n",
       "\\end{tabular}\n"
      ],
      "text/markdown": [
       "\n",
       "A data.frame: 6 × 17\n",
       "\n",
       "| <!--/--> | snp &lt;chr&gt; | beta &lt;dbl&gt; | se &lt;dbl&gt; | t &lt;dbl&gt; | p &lt;dbl&gt; | module.qtl &lt;chr&gt; | module &lt;chr&gt; | pc &lt;chr&gt; | qtl.locus &lt;chr&gt; | qtl.locus.chr &lt;chr&gt; | qtl.locus.start &lt;dbl&gt; | qtl.locus.end &lt;dbl&gt; | chr &lt;chr&gt; | cM &lt;int&gt; | pos &lt;int&gt; | minor_allele &lt;chr&gt; | major_allele &lt;chr&gt; |\n",
       "|---|---|---|---|---|---|---|---|---|---|---|---|---|---|---|---|---|---|\n",
       "| 1 | rs10000031 |  0.0019267651 | 0.001094589 |  1.7602633 | 0.07874832 | ME_87_1-4:67472593-69475768   | ME_87 | 1 | 4:67472593-69475768   | 4 |  67472593 |  69475768 | 4 | 0 |  68683231 | G | A |\n",
       "| 2 | rs10000031 | -0.0021730771 | 0.002620205 | -0.8293539 | 0.40721463 | ME_87_5-4:67472593-69475768   | ME_87 | 5 | 4:67472593-69475768   | 4 |  67472593 |  69475768 | 4 | 0 |  68683231 | G | A |\n",
       "| 3 | rs10000031 |  0.0003155103 | 0.002484468 |  0.1269931 | 0.89895231 | ME_87_2-4:67472593-69475768   | ME_87 | 2 | 4:67472593-69475768   | 4 |  67472593 |  69475768 | 4 | 0 |  68683231 | G | A |\n",
       "| 4 | rs10000031 |  0.0010224658 | 0.002528719 |  0.4043415 | 0.68610817 | ME_87_3-4:67472593-69475768   | ME_87 | 3 | 4:67472593-69475768   | 4 |  67472593 |  69475768 | 4 | 0 |  68683231 | G | A |\n",
       "| 5 | rs10000031 |  0.0025630543 | 0.002457255 |  1.0430561 | 0.29739909 | ME_87_4-4:67472593-69475768   | ME_87 | 4 | 4:67472593-69475768   | 4 |  67472593 |  69475768 | 4 | 0 |  68683231 | G | A |\n",
       "| 6 | rs10000051 | -0.0016114074 | 0.001729396 | -0.9317744 | 0.35160254 | ME_86_5-4:117564190-120834939 | ME_86 | 5 | 4:117564190-120834939 | 4 | 117564190 | 120834939 | 4 | 0 | 120370537 | T | C |\n",
       "\n"
      ],
      "text/plain": [
       "  snp        beta          se          t          p         \n",
       "1 rs10000031  0.0019267651 0.001094589  1.7602633 0.07874832\n",
       "2 rs10000031 -0.0021730771 0.002620205 -0.8293539 0.40721463\n",
       "3 rs10000031  0.0003155103 0.002484468  0.1269931 0.89895231\n",
       "4 rs10000031  0.0010224658 0.002528719  0.4043415 0.68610817\n",
       "5 rs10000031  0.0025630543 0.002457255  1.0430561 0.29739909\n",
       "6 rs10000051 -0.0016114074 0.001729396 -0.9317744 0.35160254\n",
       "  module.qtl                    module pc qtl.locus             qtl.locus.chr\n",
       "1 ME_87_1-4:67472593-69475768   ME_87  1  4:67472593-69475768   4            \n",
       "2 ME_87_5-4:67472593-69475768   ME_87  5  4:67472593-69475768   4            \n",
       "3 ME_87_2-4:67472593-69475768   ME_87  2  4:67472593-69475768   4            \n",
       "4 ME_87_3-4:67472593-69475768   ME_87  3  4:67472593-69475768   4            \n",
       "5 ME_87_4-4:67472593-69475768   ME_87  4  4:67472593-69475768   4            \n",
       "6 ME_86_5-4:117564190-120834939 ME_86  5  4:117564190-120834939 4            \n",
       "  qtl.locus.start qtl.locus.end chr cM pos       minor_allele major_allele\n",
       "1  67472593        69475768     4   0   68683231 G            A           \n",
       "2  67472593        69475768     4   0   68683231 G            A           \n",
       "3  67472593        69475768     4   0   68683231 G            A           \n",
       "4  67472593        69475768     4   0   68683231 G            A           \n",
       "5  67472593        69475768     4   0   68683231 G            A           \n",
       "6 117564190       120834939     4   0  120370537 T            C           "
      ]
     },
     "metadata": {},
     "output_type": "display_data"
    }
   ],
   "source": [
    "head(module.qtl.sum)"
   ]
  },
  {
   "cell_type": "code",
   "execution_count": 6,
   "id": "4aa2baaf-e2a4-4ed7-a90b-c65215980170",
   "metadata": {},
   "outputs": [],
   "source": [
    "mqtl.geno <- fread(\"~/gains_team282/nikhil/data/genotypes/eigengene_sva_ss_genotypes.raw\", sep=\" \", drop=2:6) %>%\n",
    "    as.data.frame()\n",
    "\n",
    "rownames(mqtl.geno) <- mqtl.geno$FID\n",
    "mqtl.geno$FID <- NULL\n",
    "colnames(mqtl.geno) <- gsub(\"_.*$\", \"\", colnames(mqtl.geno))"
   ]
  },
  {
   "cell_type": "markdown",
   "id": "f338180f-2082-4e1c-84b0-6acd579c9e57",
   "metadata": {},
   "source": [
    "## Load Module Eigengenes"
   ]
  },
  {
   "cell_type": "code",
   "execution_count": 7,
   "id": "18044675-d91a-49ba-a8e8-edb49f289724",
   "metadata": {},
   "outputs": [],
   "source": [
    "eigengenes <- read.csv(\"~/gains_team282/nikhil/expression/gene_expression/eigengenes.multiple.csv\", row.names=1)"
   ]
  },
  {
   "cell_type": "code",
   "execution_count": 8,
   "id": "9a3c0632-b947-482a-8f12-35ae3de9b0e4",
   "metadata": {},
   "outputs": [
    {
     "data": {
      "text/html": [
       "<table class=\"dataframe\">\n",
       "<caption>A data.frame: 6 × 530</caption>\n",
       "<thead>\n",
       "\t<tr><th></th><th scope=col>ME_1_1</th><th scope=col>ME_1_2</th><th scope=col>ME_1_3</th><th scope=col>ME_1_4</th><th scope=col>ME_1_5</th><th scope=col>ME_2_1</th><th scope=col>ME_2_2</th><th scope=col>ME_2_3</th><th scope=col>ME_2_4</th><th scope=col>ME_2_5</th><th scope=col>⋯</th><th scope=col>ME_105_1</th><th scope=col>ME_105_2</th><th scope=col>ME_105_3</th><th scope=col>ME_105_4</th><th scope=col>ME_105_5</th><th scope=col>ME_106_1</th><th scope=col>ME_106_2</th><th scope=col>ME_106_3</th><th scope=col>ME_106_4</th><th scope=col>ME_106_5</th></tr>\n",
       "\t<tr><th></th><th scope=col>&lt;dbl&gt;</th><th scope=col>&lt;dbl&gt;</th><th scope=col>&lt;dbl&gt;</th><th scope=col>&lt;dbl&gt;</th><th scope=col>&lt;dbl&gt;</th><th scope=col>&lt;dbl&gt;</th><th scope=col>&lt;dbl&gt;</th><th scope=col>&lt;dbl&gt;</th><th scope=col>&lt;dbl&gt;</th><th scope=col>&lt;dbl&gt;</th><th scope=col>⋯</th><th scope=col>&lt;dbl&gt;</th><th scope=col>&lt;dbl&gt;</th><th scope=col>&lt;dbl&gt;</th><th scope=col>&lt;dbl&gt;</th><th scope=col>&lt;dbl&gt;</th><th scope=col>&lt;dbl&gt;</th><th scope=col>&lt;dbl&gt;</th><th scope=col>&lt;dbl&gt;</th><th scope=col>&lt;dbl&gt;</th><th scope=col>&lt;dbl&gt;</th></tr>\n",
       "</thead>\n",
       "<tbody>\n",
       "\t<tr><th scope=row>UK02270173_3</th><td> 0.008640296</td><td>-0.04165815</td><td> 0.027430556</td><td>-0.020437463</td><td> 0.018138657</td><td> 0.007926439</td><td>-0.03881513</td><td> 0.03058366</td><td>-0.014329184</td><td> 0.009126178</td><td>⋯</td><td> 0.033258706</td><td> 0.010337824</td><td> 0.031572946</td><td> 0.0308363822</td><td>-0.01556043</td><td>-0.003317747</td><td> 0.01850385</td><td> 0.001776021</td><td> 0.034254655</td><td> 0.002439359</td></tr>\n",
       "\t<tr><th scope=row>UK15130120_3</th><td>-0.037073495</td><td>-0.01795641</td><td>-0.007283072</td><td>-0.026494085</td><td> 0.003339612</td><td>-0.033179470</td><td>-0.01991901</td><td>-0.01688432</td><td>-0.014852805</td><td> 0.049310271</td><td>⋯</td><td> 0.051184001</td><td>-0.001611603</td><td> 0.005624913</td><td> 0.0273538940</td><td>-0.03670228</td><td>-0.012327128</td><td> 0.04405671</td><td> 0.013144923</td><td> 0.017987682</td><td>-0.001779326</td></tr>\n",
       "\t<tr><th scope=row>UK58000006_3</th><td> 0.029670524</td><td>-0.03481715</td><td> 0.028491140</td><td>-0.009483861</td><td>-0.005862293</td><td> 0.021490110</td><td>-0.03480085</td><td> 0.03014656</td><td>-0.003961906</td><td>-0.032946862</td><td>⋯</td><td>-0.006622840</td><td>-0.045791646</td><td> 0.033491934</td><td>-0.0420056572</td><td> 0.02749077</td><td>-0.004740631</td><td> 0.04638229</td><td>-0.043309799</td><td> 0.028730908</td><td>-0.024051766</td></tr>\n",
       "\t<tr><th scope=row>UK47010004_3</th><td> 0.011954974</td><td> 0.01091971</td><td> 0.038665347</td><td> 0.003726632</td><td> 0.052019153</td><td> 0.007360515</td><td> 0.01763746</td><td> 0.03490663</td><td>-0.005573984</td><td>-0.016190548</td><td>⋯</td><td>-0.003072117</td><td>-0.010005728</td><td> 0.019263388</td><td> 0.0009626484</td><td> 0.06116524</td><td> 0.012014706</td><td> 0.01637633</td><td>-0.003045472</td><td>-0.018223178</td><td>-0.020637855</td></tr>\n",
       "\t<tr><th scope=row>UK42020088_5</th><td> 0.009818957</td><td> 0.02100233</td><td>-0.019852180</td><td>-0.013052613</td><td>-0.030223051</td><td> 0.008322535</td><td> 0.01712902</td><td>-0.02394729</td><td> 0.003193689</td><td> 0.019716419</td><td>⋯</td><td>-0.032697222</td><td>-0.001257679</td><td>-0.019760950</td><td>-0.0079000979</td><td> 0.02988006</td><td> 0.007915598</td><td>-0.01649680</td><td> 0.013250580</td><td>-0.031445321</td><td>-0.014168970</td></tr>\n",
       "\t<tr><th scope=row>UK47490007_3</th><td>-0.021930377</td><td> 0.03807246</td><td> 0.042329128</td><td>-0.025160071</td><td> 0.012732846</td><td>-0.024756322</td><td> 0.03899339</td><td> 0.03987212</td><td>-0.030754242</td><td> 0.038550679</td><td>⋯</td><td>-0.003607270</td><td> 0.043079589</td><td> 0.025888343</td><td> 0.0413386960</td><td> 0.04360340</td><td> 0.024871961</td><td>-0.03349057</td><td> 0.029665102</td><td>-0.009251542</td><td>-0.052908888</td></tr>\n",
       "</tbody>\n",
       "</table>\n"
      ],
      "text/latex": [
       "A data.frame: 6 × 530\n",
       "\\begin{tabular}{r|lllllllllllllllllllll}\n",
       "  & ME\\_1\\_1 & ME\\_1\\_2 & ME\\_1\\_3 & ME\\_1\\_4 & ME\\_1\\_5 & ME\\_2\\_1 & ME\\_2\\_2 & ME\\_2\\_3 & ME\\_2\\_4 & ME\\_2\\_5 & ⋯ & ME\\_105\\_1 & ME\\_105\\_2 & ME\\_105\\_3 & ME\\_105\\_4 & ME\\_105\\_5 & ME\\_106\\_1 & ME\\_106\\_2 & ME\\_106\\_3 & ME\\_106\\_4 & ME\\_106\\_5\\\\\n",
       "  & <dbl> & <dbl> & <dbl> & <dbl> & <dbl> & <dbl> & <dbl> & <dbl> & <dbl> & <dbl> & ⋯ & <dbl> & <dbl> & <dbl> & <dbl> & <dbl> & <dbl> & <dbl> & <dbl> & <dbl> & <dbl>\\\\\n",
       "\\hline\n",
       "\tUK02270173\\_3 &  0.008640296 & -0.04165815 &  0.027430556 & -0.020437463 &  0.018138657 &  0.007926439 & -0.03881513 &  0.03058366 & -0.014329184 &  0.009126178 & ⋯ &  0.033258706 &  0.010337824 &  0.031572946 &  0.0308363822 & -0.01556043 & -0.003317747 &  0.01850385 &  0.001776021 &  0.034254655 &  0.002439359\\\\\n",
       "\tUK15130120\\_3 & -0.037073495 & -0.01795641 & -0.007283072 & -0.026494085 &  0.003339612 & -0.033179470 & -0.01991901 & -0.01688432 & -0.014852805 &  0.049310271 & ⋯ &  0.051184001 & -0.001611603 &  0.005624913 &  0.0273538940 & -0.03670228 & -0.012327128 &  0.04405671 &  0.013144923 &  0.017987682 & -0.001779326\\\\\n",
       "\tUK58000006\\_3 &  0.029670524 & -0.03481715 &  0.028491140 & -0.009483861 & -0.005862293 &  0.021490110 & -0.03480085 &  0.03014656 & -0.003961906 & -0.032946862 & ⋯ & -0.006622840 & -0.045791646 &  0.033491934 & -0.0420056572 &  0.02749077 & -0.004740631 &  0.04638229 & -0.043309799 &  0.028730908 & -0.024051766\\\\\n",
       "\tUK47010004\\_3 &  0.011954974 &  0.01091971 &  0.038665347 &  0.003726632 &  0.052019153 &  0.007360515 &  0.01763746 &  0.03490663 & -0.005573984 & -0.016190548 & ⋯ & -0.003072117 & -0.010005728 &  0.019263388 &  0.0009626484 &  0.06116524 &  0.012014706 &  0.01637633 & -0.003045472 & -0.018223178 & -0.020637855\\\\\n",
       "\tUK42020088\\_5 &  0.009818957 &  0.02100233 & -0.019852180 & -0.013052613 & -0.030223051 &  0.008322535 &  0.01712902 & -0.02394729 &  0.003193689 &  0.019716419 & ⋯ & -0.032697222 & -0.001257679 & -0.019760950 & -0.0079000979 &  0.02988006 &  0.007915598 & -0.01649680 &  0.013250580 & -0.031445321 & -0.014168970\\\\\n",
       "\tUK47490007\\_3 & -0.021930377 &  0.03807246 &  0.042329128 & -0.025160071 &  0.012732846 & -0.024756322 &  0.03899339 &  0.03987212 & -0.030754242 &  0.038550679 & ⋯ & -0.003607270 &  0.043079589 &  0.025888343 &  0.0413386960 &  0.04360340 &  0.024871961 & -0.03349057 &  0.029665102 & -0.009251542 & -0.052908888\\\\\n",
       "\\end{tabular}\n"
      ],
      "text/markdown": [
       "\n",
       "A data.frame: 6 × 530\n",
       "\n",
       "| <!--/--> | ME_1_1 &lt;dbl&gt; | ME_1_2 &lt;dbl&gt; | ME_1_3 &lt;dbl&gt; | ME_1_4 &lt;dbl&gt; | ME_1_5 &lt;dbl&gt; | ME_2_1 &lt;dbl&gt; | ME_2_2 &lt;dbl&gt; | ME_2_3 &lt;dbl&gt; | ME_2_4 &lt;dbl&gt; | ME_2_5 &lt;dbl&gt; | ⋯ ⋯ | ME_105_1 &lt;dbl&gt; | ME_105_2 &lt;dbl&gt; | ME_105_3 &lt;dbl&gt; | ME_105_4 &lt;dbl&gt; | ME_105_5 &lt;dbl&gt; | ME_106_1 &lt;dbl&gt; | ME_106_2 &lt;dbl&gt; | ME_106_3 &lt;dbl&gt; | ME_106_4 &lt;dbl&gt; | ME_106_5 &lt;dbl&gt; |\n",
       "|---|---|---|---|---|---|---|---|---|---|---|---|---|---|---|---|---|---|---|---|---|---|\n",
       "| UK02270173_3 |  0.008640296 | -0.04165815 |  0.027430556 | -0.020437463 |  0.018138657 |  0.007926439 | -0.03881513 |  0.03058366 | -0.014329184 |  0.009126178 | ⋯ |  0.033258706 |  0.010337824 |  0.031572946 |  0.0308363822 | -0.01556043 | -0.003317747 |  0.01850385 |  0.001776021 |  0.034254655 |  0.002439359 |\n",
       "| UK15130120_3 | -0.037073495 | -0.01795641 | -0.007283072 | -0.026494085 |  0.003339612 | -0.033179470 | -0.01991901 | -0.01688432 | -0.014852805 |  0.049310271 | ⋯ |  0.051184001 | -0.001611603 |  0.005624913 |  0.0273538940 | -0.03670228 | -0.012327128 |  0.04405671 |  0.013144923 |  0.017987682 | -0.001779326 |\n",
       "| UK58000006_3 |  0.029670524 | -0.03481715 |  0.028491140 | -0.009483861 | -0.005862293 |  0.021490110 | -0.03480085 |  0.03014656 | -0.003961906 | -0.032946862 | ⋯ | -0.006622840 | -0.045791646 |  0.033491934 | -0.0420056572 |  0.02749077 | -0.004740631 |  0.04638229 | -0.043309799 |  0.028730908 | -0.024051766 |\n",
       "| UK47010004_3 |  0.011954974 |  0.01091971 |  0.038665347 |  0.003726632 |  0.052019153 |  0.007360515 |  0.01763746 |  0.03490663 | -0.005573984 | -0.016190548 | ⋯ | -0.003072117 | -0.010005728 |  0.019263388 |  0.0009626484 |  0.06116524 |  0.012014706 |  0.01637633 | -0.003045472 | -0.018223178 | -0.020637855 |\n",
       "| UK42020088_5 |  0.009818957 |  0.02100233 | -0.019852180 | -0.013052613 | -0.030223051 |  0.008322535 |  0.01712902 | -0.02394729 |  0.003193689 |  0.019716419 | ⋯ | -0.032697222 | -0.001257679 | -0.019760950 | -0.0079000979 |  0.02988006 |  0.007915598 | -0.01649680 |  0.013250580 | -0.031445321 | -0.014168970 |\n",
       "| UK47490007_3 | -0.021930377 |  0.03807246 |  0.042329128 | -0.025160071 |  0.012732846 | -0.024756322 |  0.03899339 |  0.03987212 | -0.030754242 |  0.038550679 | ⋯ | -0.003607270 |  0.043079589 |  0.025888343 |  0.0413386960 |  0.04360340 |  0.024871961 | -0.03349057 |  0.029665102 | -0.009251542 | -0.052908888 |\n",
       "\n"
      ],
      "text/plain": [
       "             ME_1_1       ME_1_2      ME_1_3       ME_1_4       ME_1_5      \n",
       "UK02270173_3  0.008640296 -0.04165815  0.027430556 -0.020437463  0.018138657\n",
       "UK15130120_3 -0.037073495 -0.01795641 -0.007283072 -0.026494085  0.003339612\n",
       "UK58000006_3  0.029670524 -0.03481715  0.028491140 -0.009483861 -0.005862293\n",
       "UK47010004_3  0.011954974  0.01091971  0.038665347  0.003726632  0.052019153\n",
       "UK42020088_5  0.009818957  0.02100233 -0.019852180 -0.013052613 -0.030223051\n",
       "UK47490007_3 -0.021930377  0.03807246  0.042329128 -0.025160071  0.012732846\n",
       "             ME_2_1       ME_2_2      ME_2_3      ME_2_4       ME_2_5       ⋯\n",
       "UK02270173_3  0.007926439 -0.03881513  0.03058366 -0.014329184  0.009126178 ⋯\n",
       "UK15130120_3 -0.033179470 -0.01991901 -0.01688432 -0.014852805  0.049310271 ⋯\n",
       "UK58000006_3  0.021490110 -0.03480085  0.03014656 -0.003961906 -0.032946862 ⋯\n",
       "UK47010004_3  0.007360515  0.01763746  0.03490663 -0.005573984 -0.016190548 ⋯\n",
       "UK42020088_5  0.008322535  0.01712902 -0.02394729  0.003193689  0.019716419 ⋯\n",
       "UK47490007_3 -0.024756322  0.03899339  0.03987212 -0.030754242  0.038550679 ⋯\n",
       "             ME_105_1     ME_105_2     ME_105_3     ME_105_4      ME_105_5   \n",
       "UK02270173_3  0.033258706  0.010337824  0.031572946  0.0308363822 -0.01556043\n",
       "UK15130120_3  0.051184001 -0.001611603  0.005624913  0.0273538940 -0.03670228\n",
       "UK58000006_3 -0.006622840 -0.045791646  0.033491934 -0.0420056572  0.02749077\n",
       "UK47010004_3 -0.003072117 -0.010005728  0.019263388  0.0009626484  0.06116524\n",
       "UK42020088_5 -0.032697222 -0.001257679 -0.019760950 -0.0079000979  0.02988006\n",
       "UK47490007_3 -0.003607270  0.043079589  0.025888343  0.0413386960  0.04360340\n",
       "             ME_106_1     ME_106_2    ME_106_3     ME_106_4     ME_106_5    \n",
       "UK02270173_3 -0.003317747  0.01850385  0.001776021  0.034254655  0.002439359\n",
       "UK15130120_3 -0.012327128  0.04405671  0.013144923  0.017987682 -0.001779326\n",
       "UK58000006_3 -0.004740631  0.04638229 -0.043309799  0.028730908 -0.024051766\n",
       "UK47010004_3  0.012014706  0.01637633 -0.003045472 -0.018223178 -0.020637855\n",
       "UK42020088_5  0.007915598 -0.01649680  0.013250580 -0.031445321 -0.014168970\n",
       "UK47490007_3  0.024871961 -0.03349057  0.029665102 -0.009251542 -0.052908888"
      ]
     },
     "metadata": {},
     "output_type": "display_data"
    }
   ],
   "source": [
    "head(eigengenes)"
   ]
  },
  {
   "cell_type": "markdown",
   "id": "8fc48331-f2cd-49b8-a88a-656f9e272ec4",
   "metadata": {},
   "source": [
    "## Load EBI SNPs that are Module QTL"
   ]
  },
  {
   "cell_type": "code",
   "execution_count": 9,
   "id": "f5c00e33-de5d-4f2d-aca1-574868fa87c1",
   "metadata": {},
   "outputs": [],
   "source": [
    "ebi.mqtl <- read.csv(\"~/gains_team282/nikhil/expression/eigengene_sva/mqtl_all_pcs_ebi_snps.csv\", row.names=1)"
   ]
  },
  {
   "cell_type": "markdown",
   "id": "fcb2f582-bcd0-4f2b-bada-be0bbc49165e",
   "metadata": {
    "tags": []
   },
   "source": [
    "## Neutrophil Counts\n",
    "\n",
    "**Study**: [GCST90002398](https://www.ebi.ac.uk/gwas/studies/GCST90002398)"
   ]
  },
  {
   "cell_type": "code",
   "execution_count": 37,
   "id": "6581551a-ea6e-4428-9e45-8fc3a319eefd",
   "metadata": {},
   "outputs": [],
   "source": [
    "ntr.ct <- fread(\"~/gains_team282/nikhil/data/EBI_GWAS_Catalog/GCST90002398_buildGRCh37.tsv\", sep=\"\\t\")"
   ]
  },
  {
   "cell_type": "code",
   "execution_count": 38,
   "id": "50a7fdff-9dc5-4f0b-b828-202c23a6c517",
   "metadata": {},
   "outputs": [],
   "source": [
    "ntr.me <- ebi.mqtl %>%\n",
    "    dplyr::filter(accession == \"GCST90002398\")\n",
    "\n",
    "ntr.snps <- unique(ntr.me$snp)"
   ]
  },
  {
   "cell_type": "code",
   "execution_count": 39,
   "id": "ac069405-b5b5-4b3b-9830-4dca5b76e177",
   "metadata": {},
   "outputs": [],
   "source": [
    "module.qtl.set <- module.qtl.sum %>%\n",
    "    dplyr::filter(snp %in% ntr.snps)\n",
    "\n",
    "module.qtl.set <- unique(module.qtl.set$module.qtl)"
   ]
  },
  {
   "cell_type": "code",
   "execution_count": 40,
   "id": "0e370ea6-f902-4d85-b6c1-865b7f204658",
   "metadata": {},
   "outputs": [],
   "source": [
    "all.snps <- module.qtl.sum %>%\n",
    "    dplyr::filter(module.qtl %in% module.qtl.set)\n",
    "\n",
    "all.snps <- all.snps$snp\n",
    "\n",
    "ntr.ct <- ntr.ct %>%\n",
    "    dplyr::filter(variant_id %in% all.snps)"
   ]
  },
  {
   "cell_type": "code",
   "execution_count": 41,
   "id": "31d3fef3-9deb-4cbf-96a5-aa730424e783",
   "metadata": {},
   "outputs": [],
   "source": [
    "ntr.coloc <- lapply(module.qtl.set, function(module.qtl.id) {\n",
    " \n",
    "    module.id = gsub(\"-.*\", \"\", module.qtl.id)\n",
    "    \n",
    "    mqtl.locus.info = module.qtl.sum %>%\n",
    "        dplyr::filter(module.qtl == module.qtl.id) %>%\n",
    "        dplyr::select(m.snp = snp, m.beta=beta, m.se=se, m.pos=pos, major_allele, minor_allele)\n",
    "    \n",
    "    all.info = ntr.ct %>%\n",
    "        dplyr::filter(variant_id %in% mqtl.locus.info$m.snp) %>%\n",
    "        merge(\n",
    "            ., mqtl.locus.info, \n",
    "            by.x=c(\"variant_id\", \"other_allele\", \"effect_allele\"),\n",
    "            by.y=c(\"m.snp\", \"major_allele\", \"minor_allele\")\n",
    "        ) %>%\n",
    "        dplyr::select(snp=variant_id, m.beta, m.se, pos=m.pos, g.beta=beta, g.se=standard_error, g.maf=MA_FREQ)\n",
    "    \n",
    "    module.qtl = list()\n",
    "    module.qtl$beta = all.info$m.beta\n",
    "    module.qtl$varbeta = all.info$m.se^2\n",
    "    module.qtl$snp = all.info$snp\n",
    "    module.qtl$position = all.info$pos\n",
    "    module.qtl$type = \"quant\"\n",
    "    module.qtl$sdY = sd(eigengenes[, module.id], na.rm=TRUE)\n",
    "    \n",
    "    N = 408112\n",
    "    \n",
    "    gwas.assoc = list()\n",
    "    gwas.assoc$beta = all.info$g.beta\n",
    "    gwas.assoc$varbeta = all.info$g.se^2\n",
    "    gwas.assoc$snp = all.info$snp\n",
    "    gwas.assoc$position = all.info$pos\n",
    "    gwas.assoc$type = \"quant\"\n",
    "    gwas.assoc$N = N\n",
    "    gwas.assoc$MAF = all.info$g.maf\n",
    "    \n",
    "    log = capture.output({\n",
    "        abf.res = suppressWarnings(coloc.abf(gwas.assoc, module.qtl))\n",
    "    })\n",
    "    \n",
    "    data.frame(t(abf.res$summary)) %>%\n",
    "        dplyr::mutate(Module.QTL = module.qtl.id)\n",
    "}) %>%\n",
    "    do.call(rbind, .) %>%\n",
    "    dplyr::mutate(PP3plusPP4 = PP.H3.abf + PP.H4.abf) %>%\n",
    "    dplyr::mutate(COLOC.Factor = PP.H4.abf / PP3plusPP4) %>%\n",
    "    dplyr::mutate(Colocalise = (PP3plusPP4 > 0.25) & (COLOC.Factor > 0.7))"
   ]
  },
  {
   "cell_type": "code",
   "execution_count": 77,
   "id": "2f4622a9-c2a7-480b-b4f2-84115da21a60",
   "metadata": {},
   "outputs": [
    {
     "data": {
      "text/html": [
       "<table class=\"dataframe\">\n",
       "<caption>A data.frame: 5 × 10</caption>\n",
       "<thead>\n",
       "\t<tr><th scope=col>nsnps</th><th scope=col>PP.H0.abf</th><th scope=col>PP.H1.abf</th><th scope=col>PP.H2.abf</th><th scope=col>PP.H3.abf</th><th scope=col>PP.H4.abf</th><th scope=col>Module.QTL</th><th scope=col>PP3plusPP4</th><th scope=col>COLOC.Factor</th><th scope=col>Colocalise</th></tr>\n",
       "\t<tr><th scope=col>&lt;dbl&gt;</th><th scope=col>&lt;dbl&gt;</th><th scope=col>&lt;dbl&gt;</th><th scope=col>&lt;dbl&gt;</th><th scope=col>&lt;dbl&gt;</th><th scope=col>&lt;dbl&gt;</th><th scope=col>&lt;chr&gt;</th><th scope=col>&lt;dbl&gt;</th><th scope=col>&lt;dbl&gt;</th><th scope=col>&lt;lgl&gt;</th></tr>\n",
       "</thead>\n",
       "<tbody>\n",
       "\t<tr><td>25004</td><td>2.180803e-192</td><td> 9.549674e-13</td><td>3.560213e-182</td><td>1.543260e-02</td><td>0.9845674</td><td>ME_84_5-6:28836283-33995104  </td><td>1</td><td>0.9845674</td><td>TRUE</td></tr>\n",
       "\t<tr><td> 3367</td><td>7.346756e-321</td><td>1.285170e-302</td><td> 5.836141e-22</td><td>2.099098e-05</td><td>0.9999790</td><td>ME_103_3-12:68275923-70376531</td><td>1</td><td>0.9999790</td><td>TRUE</td></tr>\n",
       "\t<tr><td> 3367</td><td>1.663695e-250</td><td>2.910454e-232</td><td> 5.836141e-22</td><td>2.099098e-05</td><td>0.9999790</td><td>ME_103_2-12:68275923-70376531</td><td>1</td><td>0.9999790</td><td>TRUE</td></tr>\n",
       "\t<tr><td> 3367</td><td> 3.546557e-69</td><td> 6.204319e-51</td><td> 5.836141e-22</td><td>2.099099e-05</td><td>0.9999790</td><td>ME_103_4-12:68275923-70376531</td><td>1</td><td>0.9999790</td><td>TRUE</td></tr>\n",
       "\t<tr><td> 3367</td><td> 1.139342e-46</td><td> 1.993155e-28</td><td> 2.545045e-21</td><td>3.455738e-03</td><td>0.9965443</td><td>ME_103_1-12:68275923-70376531</td><td>1</td><td>0.9965443</td><td>TRUE</td></tr>\n",
       "</tbody>\n",
       "</table>\n"
      ],
      "text/latex": [
       "A data.frame: 5 × 10\n",
       "\\begin{tabular}{llllllllll}\n",
       " nsnps & PP.H0.abf & PP.H1.abf & PP.H2.abf & PP.H3.abf & PP.H4.abf & Module.QTL & PP3plusPP4 & COLOC.Factor & Colocalise\\\\\n",
       " <dbl> & <dbl> & <dbl> & <dbl> & <dbl> & <dbl> & <chr> & <dbl> & <dbl> & <lgl>\\\\\n",
       "\\hline\n",
       "\t 25004 & 2.180803e-192 &  9.549674e-13 & 3.560213e-182 & 1.543260e-02 & 0.9845674 & ME\\_84\\_5-6:28836283-33995104   & 1 & 0.9845674 & TRUE\\\\\n",
       "\t  3367 & 7.346756e-321 & 1.285170e-302 &  5.836141e-22 & 2.099098e-05 & 0.9999790 & ME\\_103\\_3-12:68275923-70376531 & 1 & 0.9999790 & TRUE\\\\\n",
       "\t  3367 & 1.663695e-250 & 2.910454e-232 &  5.836141e-22 & 2.099098e-05 & 0.9999790 & ME\\_103\\_2-12:68275923-70376531 & 1 & 0.9999790 & TRUE\\\\\n",
       "\t  3367 &  3.546557e-69 &  6.204319e-51 &  5.836141e-22 & 2.099099e-05 & 0.9999790 & ME\\_103\\_4-12:68275923-70376531 & 1 & 0.9999790 & TRUE\\\\\n",
       "\t  3367 &  1.139342e-46 &  1.993155e-28 &  2.545045e-21 & 3.455738e-03 & 0.9965443 & ME\\_103\\_1-12:68275923-70376531 & 1 & 0.9965443 & TRUE\\\\\n",
       "\\end{tabular}\n"
      ],
      "text/markdown": [
       "\n",
       "A data.frame: 5 × 10\n",
       "\n",
       "| nsnps &lt;dbl&gt; | PP.H0.abf &lt;dbl&gt; | PP.H1.abf &lt;dbl&gt; | PP.H2.abf &lt;dbl&gt; | PP.H3.abf &lt;dbl&gt; | PP.H4.abf &lt;dbl&gt; | Module.QTL &lt;chr&gt; | PP3plusPP4 &lt;dbl&gt; | COLOC.Factor &lt;dbl&gt; | Colocalise &lt;lgl&gt; |\n",
       "|---|---|---|---|---|---|---|---|---|---|\n",
       "| 25004 | 2.180803e-192 |  9.549674e-13 | 3.560213e-182 | 1.543260e-02 | 0.9845674 | ME_84_5-6:28836283-33995104   | 1 | 0.9845674 | TRUE |\n",
       "|  3367 | 7.346756e-321 | 1.285170e-302 |  5.836141e-22 | 2.099098e-05 | 0.9999790 | ME_103_3-12:68275923-70376531 | 1 | 0.9999790 | TRUE |\n",
       "|  3367 | 1.663695e-250 | 2.910454e-232 |  5.836141e-22 | 2.099098e-05 | 0.9999790 | ME_103_2-12:68275923-70376531 | 1 | 0.9999790 | TRUE |\n",
       "|  3367 |  3.546557e-69 |  6.204319e-51 |  5.836141e-22 | 2.099099e-05 | 0.9999790 | ME_103_4-12:68275923-70376531 | 1 | 0.9999790 | TRUE |\n",
       "|  3367 |  1.139342e-46 |  1.993155e-28 |  2.545045e-21 | 3.455738e-03 | 0.9965443 | ME_103_1-12:68275923-70376531 | 1 | 0.9965443 | TRUE |\n",
       "\n"
      ],
      "text/plain": [
       "  nsnps PP.H0.abf     PP.H1.abf     PP.H2.abf     PP.H3.abf    PP.H4.abf\n",
       "1 25004 2.180803e-192  9.549674e-13 3.560213e-182 1.543260e-02 0.9845674\n",
       "2  3367 7.346756e-321 1.285170e-302  5.836141e-22 2.099098e-05 0.9999790\n",
       "3  3367 1.663695e-250 2.910454e-232  5.836141e-22 2.099098e-05 0.9999790\n",
       "4  3367  3.546557e-69  6.204319e-51  5.836141e-22 2.099099e-05 0.9999790\n",
       "5  3367  1.139342e-46  1.993155e-28  2.545045e-21 3.455738e-03 0.9965443\n",
       "  Module.QTL                    PP3plusPP4 COLOC.Factor Colocalise\n",
       "1 ME_84_5-6:28836283-33995104   1          0.9845674    TRUE      \n",
       "2 ME_103_3-12:68275923-70376531 1          0.9999790    TRUE      \n",
       "3 ME_103_2-12:68275923-70376531 1          0.9999790    TRUE      \n",
       "4 ME_103_4-12:68275923-70376531 1          0.9999790    TRUE      \n",
       "5 ME_103_1-12:68275923-70376531 1          0.9965443    TRUE      "
      ]
     },
     "metadata": {},
     "output_type": "display_data"
    }
   ],
   "source": [
    "ntr.coloc  %>%\n",
    "    dplyr::filter(Colocalise)"
   ]
  },
  {
   "cell_type": "code",
   "execution_count": 43,
   "id": "63b368b7-5193-4304-a9aa-fe93cd1832ac",
   "metadata": {},
   "outputs": [],
   "source": [
    "rm(ntr.ct)"
   ]
  },
  {
   "cell_type": "markdown",
   "id": "996347f0-db65-4cd5-874e-3f57056f7d2d",
   "metadata": {
    "tags": []
   },
   "source": [
    "## Platelet Counts\n",
    "\n",
    "**Study**: [GCST90002402](https://www.ebi.ac.uk/gwas/studies/GCST90002402)"
   ]
  },
  {
   "cell_type": "code",
   "execution_count": 44,
   "id": "4f54af3c-7e9d-4ce4-ba7c-c4314744cec2",
   "metadata": {},
   "outputs": [],
   "source": [
    "plt.ct <- fread(\"~/gains_team282/nikhil/data/EBI_GWAS_Catalog/GCST90002402_buildGRCh37.tsv\", sep=\"\\t\")"
   ]
  },
  {
   "cell_type": "code",
   "execution_count": 45,
   "id": "ee84eb4a-a631-442a-a0dc-a6e58a053e84",
   "metadata": {},
   "outputs": [],
   "source": [
    "plt.me <- ebi.mqtl %>%\n",
    "    dplyr::filter(accession == \"GCST90002402\")\n",
    "\n",
    "plt.snps <- unique(plt.me$snp)"
   ]
  },
  {
   "cell_type": "code",
   "execution_count": 46,
   "id": "0cd9fd1c-1e0b-4ddd-9007-387c6e96cd1d",
   "metadata": {},
   "outputs": [],
   "source": [
    "module.qtl.set <- module.qtl.sum %>%\n",
    "    dplyr::filter(snp %in% plt.snps)\n",
    "\n",
    "module.qtl.set <- unique(module.qtl.set$module.qtl)"
   ]
  },
  {
   "cell_type": "code",
   "execution_count": 47,
   "id": "3515da56-605a-4f63-ad16-53af2917ab4b",
   "metadata": {},
   "outputs": [],
   "source": [
    "all.snps <- module.qtl.sum %>%\n",
    "    dplyr::filter(module.qtl %in% module.qtl.set)\n",
    "\n",
    "all.snps <- all.snps$snp\n",
    "\n",
    "plt.ct <- plt.ct %>%\n",
    "    dplyr::filter(variant_id %in% all.snps)"
   ]
  },
  {
   "cell_type": "code",
   "execution_count": 48,
   "id": "8d197608-83af-4807-8abf-233149ad0a1d",
   "metadata": {},
   "outputs": [],
   "source": [
    "plt.coloc <- lapply(module.qtl.set, function(module.qtl.id) {\n",
    " \n",
    "    module.id = gsub(\"-.*\", \"\", module.qtl.id)\n",
    "    \n",
    "    mqtl.locus.info = module.qtl.sum %>%\n",
    "        dplyr::filter(module.qtl == module.qtl.id) %>%\n",
    "        dplyr::select(m.snp = snp, m.beta=beta, m.se=se, m.pos=pos, major_allele, minor_allele)\n",
    "    \n",
    "    all.info = plt.ct %>%\n",
    "        dplyr::filter(variant_id %in% mqtl.locus.info$m.snp) %>%\n",
    "        merge(\n",
    "            ., mqtl.locus.info, \n",
    "            by.x=c(\"variant_id\", \"other_allele\", \"effect_allele\"),\n",
    "            by.y=c(\"m.snp\", \"major_allele\", \"minor_allele\")\n",
    "        ) %>%\n",
    "        dplyr::select(snp=variant_id, m.beta, m.se, pos=m.pos, g.beta=beta, g.se=standard_error, g.maf=MA_FREQ)\n",
    "    \n",
    "    module.qtl = list()\n",
    "    module.qtl$beta = all.info$m.beta\n",
    "    module.qtl$varbeta = all.info$m.se^2\n",
    "    module.qtl$snp = all.info$snp\n",
    "    module.qtl$position = all.info$pos\n",
    "    module.qtl$type = \"quant\"\n",
    "    module.qtl$sdY = sd(eigengenes[, module.id], na.rm=TRUE)\n",
    "    \n",
    "    N = 408112\n",
    "    \n",
    "    gwas.assoc = list()\n",
    "    gwas.assoc$beta = all.info$g.beta\n",
    "    gwas.assoc$varbeta = all.info$g.se^2\n",
    "    gwas.assoc$snp = all.info$snp\n",
    "    gwas.assoc$position = all.info$pos\n",
    "    gwas.assoc$type = \"quant\"\n",
    "    gwas.assoc$N = N\n",
    "    gwas.assoc$MAF = all.info$g.maf\n",
    "    \n",
    "    log = capture.output({\n",
    "        abf.res = suppressWarnings(coloc.abf(gwas.assoc, module.qtl))\n",
    "    })\n",
    "    \n",
    "    data.frame(t(abf.res$summary)) %>%\n",
    "        dplyr::mutate(Module.QTL = module.qtl.id)\n",
    "}) %>%\n",
    "    do.call(rbind, .) %>%\n",
    "    dplyr::mutate(PP3plusPP4 = PP.H3.abf + PP.H4.abf) %>%\n",
    "    dplyr::mutate(COLOC.Factor = PP.H4.abf / PP3plusPP4) %>%\n",
    "    dplyr::mutate(Colocalise = (PP3plusPP4 > 0.25) & (COLOC.Factor > 0.7))"
   ]
  },
  {
   "cell_type": "code",
   "execution_count": 76,
   "id": "382ccd57-afdc-441b-8886-e39824bba953",
   "metadata": {},
   "outputs": [
    {
     "data": {
      "text/html": [
       "<table class=\"dataframe\">\n",
       "<caption>A data.frame: 1 × 10</caption>\n",
       "<thead>\n",
       "\t<tr><th scope=col>nsnps</th><th scope=col>PP.H0.abf</th><th scope=col>PP.H1.abf</th><th scope=col>PP.H2.abf</th><th scope=col>PP.H3.abf</th><th scope=col>PP.H4.abf</th><th scope=col>Module.QTL</th><th scope=col>PP3plusPP4</th><th scope=col>COLOC.Factor</th><th scope=col>Colocalise</th></tr>\n",
       "\t<tr><th scope=col>&lt;dbl&gt;</th><th scope=col>&lt;dbl&gt;</th><th scope=col>&lt;dbl&gt;</th><th scope=col>&lt;dbl&gt;</th><th scope=col>&lt;dbl&gt;</th><th scope=col>&lt;dbl&gt;</th><th scope=col>&lt;chr&gt;</th><th scope=col>&lt;dbl&gt;</th><th scope=col>&lt;dbl&gt;</th><th scope=col>&lt;lgl&gt;</th></tr>\n",
       "</thead>\n",
       "<tbody>\n",
       "\t<tr><td>2318</td><td>3.120899e-31</td><td>4.264181e-07</td><td>1.550307e-26</td><td>0.02020253</td><td>0.979797</td><td>ME_63_4-11:46459981-48629440</td><td>0.9999996</td><td>0.9797975</td><td>TRUE</td></tr>\n",
       "</tbody>\n",
       "</table>\n"
      ],
      "text/latex": [
       "A data.frame: 1 × 10\n",
       "\\begin{tabular}{llllllllll}\n",
       " nsnps & PP.H0.abf & PP.H1.abf & PP.H2.abf & PP.H3.abf & PP.H4.abf & Module.QTL & PP3plusPP4 & COLOC.Factor & Colocalise\\\\\n",
       " <dbl> & <dbl> & <dbl> & <dbl> & <dbl> & <dbl> & <chr> & <dbl> & <dbl> & <lgl>\\\\\n",
       "\\hline\n",
       "\t 2318 & 3.120899e-31 & 4.264181e-07 & 1.550307e-26 & 0.02020253 & 0.979797 & ME\\_63\\_4-11:46459981-48629440 & 0.9999996 & 0.9797975 & TRUE\\\\\n",
       "\\end{tabular}\n"
      ],
      "text/markdown": [
       "\n",
       "A data.frame: 1 × 10\n",
       "\n",
       "| nsnps &lt;dbl&gt; | PP.H0.abf &lt;dbl&gt; | PP.H1.abf &lt;dbl&gt; | PP.H2.abf &lt;dbl&gt; | PP.H3.abf &lt;dbl&gt; | PP.H4.abf &lt;dbl&gt; | Module.QTL &lt;chr&gt; | PP3plusPP4 &lt;dbl&gt; | COLOC.Factor &lt;dbl&gt; | Colocalise &lt;lgl&gt; |\n",
       "|---|---|---|---|---|---|---|---|---|---|\n",
       "| 2318 | 3.120899e-31 | 4.264181e-07 | 1.550307e-26 | 0.02020253 | 0.979797 | ME_63_4-11:46459981-48629440 | 0.9999996 | 0.9797975 | TRUE |\n",
       "\n"
      ],
      "text/plain": [
       "  nsnps PP.H0.abf    PP.H1.abf    PP.H2.abf    PP.H3.abf  PP.H4.abf\n",
       "1 2318  3.120899e-31 4.264181e-07 1.550307e-26 0.02020253 0.979797 \n",
       "  Module.QTL                   PP3plusPP4 COLOC.Factor Colocalise\n",
       "1 ME_63_4-11:46459981-48629440 0.9999996  0.9797975    TRUE      "
      ]
     },
     "metadata": {},
     "output_type": "display_data"
    }
   ],
   "source": [
    "plt.coloc %>%\n",
    "    dplyr::filter(Colocalise)"
   ]
  },
  {
   "cell_type": "code",
   "execution_count": 50,
   "id": "c3bff358-52d3-4340-b17e-b4a244584b4a",
   "metadata": {},
   "outputs": [],
   "source": [
    "rm(plt.ct)"
   ]
  },
  {
   "cell_type": "markdown",
   "id": "1033e71f-a9dd-4b07-b3ad-4c8d59b34f6d",
   "metadata": {
    "tags": []
   },
   "source": [
    "## Monocyte Counts\n",
    "\n",
    "**Study**: [GCST90002393](https://www.ebi.ac.uk/gwas/studies/GCST90002393)"
   ]
  },
  {
   "cell_type": "code",
   "execution_count": 51,
   "id": "f24ce72c-d8ef-4c20-981f-3cc1999c2e0a",
   "metadata": {},
   "outputs": [],
   "source": [
    "mnc.ct <- fread(\"~/gains_team282/nikhil/data/EBI_GWAS_Catalog/GCST90002393_buildGRCh37.tsv\", sep=\"\\t\")"
   ]
  },
  {
   "cell_type": "code",
   "execution_count": 52,
   "id": "cbc3b4dc-ee76-4fff-971e-2e375d07e2db",
   "metadata": {},
   "outputs": [],
   "source": [
    "mnc.me <- ebi.mqtl %>%\n",
    "    dplyr::filter(accession == \"GCST90002393\")\n",
    "\n",
    "mnc.snps <- unique(mnc.me$snp)"
   ]
  },
  {
   "cell_type": "code",
   "execution_count": 53,
   "id": "1ee0b1b2-85bf-4d9d-9bc0-00e3fb45d45a",
   "metadata": {},
   "outputs": [],
   "source": [
    "module.qtl.set <- module.qtl.sum %>%\n",
    "    dplyr::filter(snp %in% mnc.snps)\n",
    "\n",
    "module.qtl.set <- unique(module.qtl.set$module.qtl)"
   ]
  },
  {
   "cell_type": "code",
   "execution_count": 54,
   "id": "8c410b99-51fa-4690-93d6-648552221d05",
   "metadata": {},
   "outputs": [],
   "source": [
    "all.snps <- module.qtl.sum %>%\n",
    "    dplyr::filter(module.qtl %in% module.qtl.set)\n",
    "\n",
    "all.snps <- all.snps$snp\n",
    "\n",
    "mnc.ct <- mnc.ct %>%\n",
    "    dplyr::filter(variant_id %in% all.snps)"
   ]
  },
  {
   "cell_type": "code",
   "execution_count": 55,
   "id": "3bec1547-328e-4d16-aca2-e47c720d566b",
   "metadata": {},
   "outputs": [],
   "source": [
    "mnc.coloc <- lapply(module.qtl.set, function(module.qtl.id) {\n",
    " \n",
    "    module.id = gsub(\"-.*\", \"\", module.qtl.id)\n",
    "    \n",
    "    mqtl.locus.info = module.qtl.sum %>%\n",
    "        dplyr::filter(module.qtl == module.qtl.id) %>%\n",
    "        dplyr::select(m.snp = snp, m.beta=beta, m.se=se, m.pos=pos, major_allele, minor_allele)\n",
    "    \n",
    "    all.info = mnc.ct %>%\n",
    "        dplyr::filter(variant_id %in% mqtl.locus.info$m.snp) %>%\n",
    "        merge(\n",
    "            ., mqtl.locus.info, \n",
    "            by.x=c(\"variant_id\", \"other_allele\", \"effect_allele\"),\n",
    "            by.y=c(\"m.snp\", \"major_allele\", \"minor_allele\")\n",
    "        ) %>%\n",
    "        dplyr::select(snp=variant_id, m.beta, m.se, pos=m.pos, g.beta=beta, g.se=standard_error, g.maf=MA_FREQ)\n",
    "    \n",
    "    module.qtl = list()\n",
    "    module.qtl$beta = all.info$m.beta\n",
    "    module.qtl$varbeta = all.info$m.se^2\n",
    "    module.qtl$snp = all.info$snp\n",
    "    module.qtl$position = all.info$pos\n",
    "    module.qtl$type = \"quant\"\n",
    "    module.qtl$sdY = sd(eigengenes[, module.id], na.rm=TRUE)\n",
    "    \n",
    "    N = 408112\n",
    "    \n",
    "    gwas.assoc = list()\n",
    "    gwas.assoc$beta = all.info$g.beta\n",
    "    gwas.assoc$varbeta = all.info$g.se^2\n",
    "    gwas.assoc$snp = all.info$snp\n",
    "    gwas.assoc$position = all.info$pos\n",
    "    gwas.assoc$type = \"quant\"\n",
    "    gwas.assoc$N = N\n",
    "    gwas.assoc$MAF = all.info$g.maf\n",
    "    \n",
    "    log = capture.output({\n",
    "        abf.res = suppressWarnings(coloc.abf(gwas.assoc, module.qtl))\n",
    "    })\n",
    "    \n",
    "    data.frame(t(abf.res$summary)) %>%\n",
    "        dplyr::mutate(Module.QTL = module.qtl.id)\n",
    "}) %>%\n",
    "    do.call(rbind, .) %>%\n",
    "    dplyr::mutate(PP3plusPP4 = PP.H3.abf + PP.H4.abf) %>%\n",
    "    dplyr::mutate(COLOC.Factor = PP.H4.abf / PP3plusPP4) %>%\n",
    "    dplyr::mutate(Colocalise = (PP3plusPP4 > 0.25) & (COLOC.Factor > 0.7))"
   ]
  },
  {
   "cell_type": "code",
   "execution_count": 75,
   "id": "7aa6697c-3a1d-442f-bedd-8b89df5492c6",
   "metadata": {},
   "outputs": [
    {
     "data": {
      "text/html": [
       "<table class=\"dataframe\">\n",
       "<caption>A data.frame: 0 × 10</caption>\n",
       "<thead>\n",
       "\t<tr><th scope=col>nsnps</th><th scope=col>PP.H0.abf</th><th scope=col>PP.H1.abf</th><th scope=col>PP.H2.abf</th><th scope=col>PP.H3.abf</th><th scope=col>PP.H4.abf</th><th scope=col>Module.QTL</th><th scope=col>PP3plusPP4</th><th scope=col>COLOC.Factor</th><th scope=col>Colocalise</th></tr>\n",
       "\t<tr><th scope=col>&lt;dbl&gt;</th><th scope=col>&lt;dbl&gt;</th><th scope=col>&lt;dbl&gt;</th><th scope=col>&lt;dbl&gt;</th><th scope=col>&lt;dbl&gt;</th><th scope=col>&lt;dbl&gt;</th><th scope=col>&lt;chr&gt;</th><th scope=col>&lt;dbl&gt;</th><th scope=col>&lt;dbl&gt;</th><th scope=col>&lt;lgl&gt;</th></tr>\n",
       "</thead>\n",
       "<tbody>\n",
       "</tbody>\n",
       "</table>\n"
      ],
      "text/latex": [
       "A data.frame: 0 × 10\n",
       "\\begin{tabular}{llllllllll}\n",
       " nsnps & PP.H0.abf & PP.H1.abf & PP.H2.abf & PP.H3.abf & PP.H4.abf & Module.QTL & PP3plusPP4 & COLOC.Factor & Colocalise\\\\\n",
       " <dbl> & <dbl> & <dbl> & <dbl> & <dbl> & <dbl> & <chr> & <dbl> & <dbl> & <lgl>\\\\\n",
       "\\hline\n",
       "\\end{tabular}\n"
      ],
      "text/markdown": [
       "\n",
       "A data.frame: 0 × 10\n",
       "\n",
       "| nsnps &lt;dbl&gt; | PP.H0.abf &lt;dbl&gt; | PP.H1.abf &lt;dbl&gt; | PP.H2.abf &lt;dbl&gt; | PP.H3.abf &lt;dbl&gt; | PP.H4.abf &lt;dbl&gt; | Module.QTL &lt;chr&gt; | PP3plusPP4 &lt;dbl&gt; | COLOC.Factor &lt;dbl&gt; | Colocalise &lt;lgl&gt; |\n",
       "|---|---|---|---|---|---|---|---|---|---|\n",
       "\n"
      ],
      "text/plain": [
       "     nsnps PP.H0.abf PP.H1.abf PP.H2.abf PP.H3.abf PP.H4.abf Module.QTL\n",
       "     PP3plusPP4 COLOC.Factor Colocalise"
      ]
     },
     "metadata": {},
     "output_type": "display_data"
    }
   ],
   "source": [
    "mnc.coloc %>%\n",
    "    dplyr::filter(Colocalise)"
   ]
  },
  {
   "cell_type": "code",
   "execution_count": 57,
   "id": "27d90d7e-aacf-460f-b1d8-b8db159cf136",
   "metadata": {},
   "outputs": [],
   "source": [
    "rm(mnc.ct)"
   ]
  },
  {
   "cell_type": "markdown",
   "id": "195ba702-7391-4dae-9c66-08dcaf953815",
   "metadata": {
    "tags": []
   },
   "source": [
    "## Lymphocyte Counts\n",
    "\n",
    "**Study**: [GCST90002388](https://www.ebi.ac.uk/gwas/studies/GCST90002388)"
   ]
  },
  {
   "cell_type": "code",
   "execution_count": 58,
   "id": "1a03affa-1e42-4e5f-8d45-fc68bf75d71c",
   "metadata": {},
   "outputs": [],
   "source": [
    "lym.ct <- fread(\"~/gains_team282/nikhil/data/EBI_GWAS_Catalog/GCST90002388_buildGRCh37.tsv\", sep=\"\\t\")"
   ]
  },
  {
   "cell_type": "code",
   "execution_count": 59,
   "id": "29217279-60d5-41f5-8c27-8d9673d4ab5c",
   "metadata": {},
   "outputs": [],
   "source": [
    "lym.me <- ebi.mqtl %>%\n",
    "    dplyr::filter(accession == \"GCST90002388\")\n",
    "\n",
    "lym.snps <- unique(lym.me$snp)"
   ]
  },
  {
   "cell_type": "code",
   "execution_count": 60,
   "id": "81715deb-b56e-497b-b57b-1b04088b4248",
   "metadata": {},
   "outputs": [],
   "source": [
    "module.qtl.set <- module.qtl.sum %>%\n",
    "    dplyr::filter(snp %in% lym.snps)\n",
    "\n",
    "module.qtl.set <- unique(module.qtl.set$module.qtl)"
   ]
  },
  {
   "cell_type": "code",
   "execution_count": 61,
   "id": "63e2ca9f-492d-482e-8400-29acb340cd23",
   "metadata": {},
   "outputs": [],
   "source": [
    "all.snps <- module.qtl.sum %>%\n",
    "    dplyr::filter(module.qtl %in% module.qtl.set)\n",
    "\n",
    "all.snps <- all.snps$snp\n",
    "\n",
    "lym.ct <- lym.ct %>%\n",
    "    dplyr::filter(variant_id %in% all.snps)"
   ]
  },
  {
   "cell_type": "code",
   "execution_count": 62,
   "id": "87ed6623-4751-4d93-8007-2e8d5c34f877",
   "metadata": {},
   "outputs": [],
   "source": [
    "lym.coloc <- lapply(module.qtl.set, function(module.qtl.id) {\n",
    " \n",
    "    module.id = gsub(\"-.*\", \"\", module.qtl.id)\n",
    "    \n",
    "    mqtl.locus.info = module.qtl.sum %>%\n",
    "        dplyr::filter(module.qtl == module.qtl.id) %>%\n",
    "        dplyr::select(m.snp = snp, m.beta=beta, m.se=se, m.pos=pos, major_allele, minor_allele)\n",
    "    \n",
    "    all.info = lym.ct %>%\n",
    "        dplyr::filter(variant_id %in% mqtl.locus.info$m.snp) %>%\n",
    "        merge(\n",
    "            ., mqtl.locus.info, \n",
    "            by.x=c(\"variant_id\", \"other_allele\", \"effect_allele\"),\n",
    "            by.y=c(\"m.snp\", \"major_allele\", \"minor_allele\")\n",
    "        ) %>%\n",
    "        dplyr::select(snp=variant_id, m.beta, m.se, pos=m.pos, g.beta=beta, g.se=standard_error, g.maf=MA_FREQ)\n",
    "    \n",
    "    module.qtl = list()\n",
    "    module.qtl$beta = all.info$m.beta\n",
    "    module.qtl$varbeta = all.info$m.se^2\n",
    "    module.qtl$snp = all.info$snp\n",
    "    module.qtl$position = all.info$pos\n",
    "    module.qtl$type = \"quant\"\n",
    "    module.qtl$sdY = sd(eigengenes[, module.id], na.rm=TRUE)\n",
    "    \n",
    "    N = 408112\n",
    "    \n",
    "    gwas.assoc = list()\n",
    "    gwas.assoc$beta = all.info$g.beta\n",
    "    gwas.assoc$varbeta = all.info$g.se^2\n",
    "    gwas.assoc$snp = all.info$snp\n",
    "    gwas.assoc$position = all.info$pos\n",
    "    gwas.assoc$type = \"quant\"\n",
    "    gwas.assoc$N = N\n",
    "    gwas.assoc$MAF = all.info$g.maf\n",
    "    \n",
    "    log = capture.output({\n",
    "        abf.res = suppressWarnings(coloc.abf(gwas.assoc, module.qtl))\n",
    "    })\n",
    "    \n",
    "    data.frame(t(abf.res$summary)) %>%\n",
    "        dplyr::mutate(Module.QTL = module.qtl.id)\n",
    "}) %>%\n",
    "    do.call(rbind, .) %>%\n",
    "    dplyr::mutate(PP3plusPP4 = PP.H3.abf + PP.H4.abf) %>%\n",
    "    dplyr::mutate(COLOC.Factor = PP.H4.abf / PP3plusPP4) %>%\n",
    "    dplyr::mutate(Colocalise = (PP3plusPP4 > 0.25) & (COLOC.Factor > 0.7))"
   ]
  },
  {
   "cell_type": "code",
   "execution_count": 74,
   "id": "101fb1b5-9108-4a65-a583-3480d37b09ed",
   "metadata": {},
   "outputs": [
    {
     "data": {
      "text/html": [
       "<table class=\"dataframe\">\n",
       "<caption>A data.frame: 1 × 10</caption>\n",
       "<thead>\n",
       "\t<tr><th scope=col>nsnps</th><th scope=col>PP.H0.abf</th><th scope=col>PP.H1.abf</th><th scope=col>PP.H2.abf</th><th scope=col>PP.H3.abf</th><th scope=col>PP.H4.abf</th><th scope=col>Module.QTL</th><th scope=col>PP3plusPP4</th><th scope=col>COLOC.Factor</th><th scope=col>Colocalise</th></tr>\n",
       "\t<tr><th scope=col>&lt;dbl&gt;</th><th scope=col>&lt;dbl&gt;</th><th scope=col>&lt;dbl&gt;</th><th scope=col>&lt;dbl&gt;</th><th scope=col>&lt;dbl&gt;</th><th scope=col>&lt;dbl&gt;</th><th scope=col>&lt;chr&gt;</th><th scope=col>&lt;dbl&gt;</th><th scope=col>&lt;dbl&gt;</th><th scope=col>&lt;lgl&gt;</th></tr>\n",
       "</thead>\n",
       "<tbody>\n",
       "\t<tr><td>1692</td><td>4.376502e-15</td><td>3.42874e-11</td><td>3.110362e-06</td><td>0.02339131</td><td>0.9766056</td><td>ME_101_4-12:54985643-57100037</td><td>0.9999969</td><td>0.9766086</td><td>TRUE</td></tr>\n",
       "</tbody>\n",
       "</table>\n"
      ],
      "text/latex": [
       "A data.frame: 1 × 10\n",
       "\\begin{tabular}{llllllllll}\n",
       " nsnps & PP.H0.abf & PP.H1.abf & PP.H2.abf & PP.H3.abf & PP.H4.abf & Module.QTL & PP3plusPP4 & COLOC.Factor & Colocalise\\\\\n",
       " <dbl> & <dbl> & <dbl> & <dbl> & <dbl> & <dbl> & <chr> & <dbl> & <dbl> & <lgl>\\\\\n",
       "\\hline\n",
       "\t 1692 & 4.376502e-15 & 3.42874e-11 & 3.110362e-06 & 0.02339131 & 0.9766056 & ME\\_101\\_4-12:54985643-57100037 & 0.9999969 & 0.9766086 & TRUE\\\\\n",
       "\\end{tabular}\n"
      ],
      "text/markdown": [
       "\n",
       "A data.frame: 1 × 10\n",
       "\n",
       "| nsnps &lt;dbl&gt; | PP.H0.abf &lt;dbl&gt; | PP.H1.abf &lt;dbl&gt; | PP.H2.abf &lt;dbl&gt; | PP.H3.abf &lt;dbl&gt; | PP.H4.abf &lt;dbl&gt; | Module.QTL &lt;chr&gt; | PP3plusPP4 &lt;dbl&gt; | COLOC.Factor &lt;dbl&gt; | Colocalise &lt;lgl&gt; |\n",
       "|---|---|---|---|---|---|---|---|---|---|\n",
       "| 1692 | 4.376502e-15 | 3.42874e-11 | 3.110362e-06 | 0.02339131 | 0.9766056 | ME_101_4-12:54985643-57100037 | 0.9999969 | 0.9766086 | TRUE |\n",
       "\n"
      ],
      "text/plain": [
       "  nsnps PP.H0.abf    PP.H1.abf   PP.H2.abf    PP.H3.abf  PP.H4.abf\n",
       "1 1692  4.376502e-15 3.42874e-11 3.110362e-06 0.02339131 0.9766056\n",
       "  Module.QTL                    PP3plusPP4 COLOC.Factor Colocalise\n",
       "1 ME_101_4-12:54985643-57100037 0.9999969  0.9766086    TRUE      "
      ]
     },
     "metadata": {},
     "output_type": "display_data"
    }
   ],
   "source": [
    "lym.coloc %>%\n",
    "    dplyr::filter(Colocalise)"
   ]
  },
  {
   "cell_type": "code",
   "execution_count": 66,
   "id": "802f9c76-2903-4069-a1de-181ade6a0a70",
   "metadata": {},
   "outputs": [
    {
     "name": "stderr",
     "output_type": "stream",
     "text": [
      "Warning message in rm(lym.ct):\n",
      "“object 'lym.ct' not found”\n"
     ]
    }
   ],
   "source": [
    "rm(lym.ct)"
   ]
  },
  {
   "cell_type": "markdown",
   "id": "3ac9b040-6a91-4b88-8c29-327d027ac946",
   "metadata": {
    "tags": []
   },
   "source": [
    "## Eosinophil Counts\n",
    "\n",
    "**Study**: [GCST90002381](https://www.ebi.ac.uk/gwas/studies/GCST90002381)"
   ]
  },
  {
   "cell_type": "code",
   "execution_count": 65,
   "id": "6fdcbe0d-830a-4620-bd43-64e8e1485874",
   "metadata": {},
   "outputs": [],
   "source": [
    "eos.ct <- fread(\"~/gains_team282/nikhil/data/EBI_GWAS_Catalog/GCST90002388_buildGRCh37.tsv\", sep=\"\\t\")"
   ]
  },
  {
   "cell_type": "code",
   "execution_count": 67,
   "id": "d5008c58-4398-4560-9f25-afc6901c608b",
   "metadata": {},
   "outputs": [],
   "source": [
    "eos.me <- ebi.mqtl %>%\n",
    "    dplyr::filter(accession == \"GCST90002388\")\n",
    "\n",
    "eos.snps <- unique(eos.me$snp)"
   ]
  },
  {
   "cell_type": "code",
   "execution_count": 68,
   "id": "eecd3636-393f-4422-af03-7f5250ff67e2",
   "metadata": {},
   "outputs": [],
   "source": [
    "module.qtl.set <- module.qtl.sum %>%\n",
    "    dplyr::filter(snp %in% eos.snps)\n",
    "\n",
    "module.qtl.set <- unique(module.qtl.set$module.qtl)"
   ]
  },
  {
   "cell_type": "code",
   "execution_count": 69,
   "id": "d0f24ba0-78df-46d8-836f-c0ef351c9db7",
   "metadata": {},
   "outputs": [],
   "source": [
    "all.snps <- module.qtl.sum %>%\n",
    "    dplyr::filter(module.qtl %in% module.qtl.set)\n",
    "\n",
    "all.snps <- all.snps$snp\n",
    "\n",
    "eos.ct <- eos.ct %>%\n",
    "    dplyr::filter(variant_id %in% all.snps)"
   ]
  },
  {
   "cell_type": "code",
   "execution_count": 70,
   "id": "68442ee8-05f1-4732-be22-9252bb2e13c5",
   "metadata": {},
   "outputs": [],
   "source": [
    "eos.coloc <- lapply(module.qtl.set, function(module.qtl.id) {\n",
    " \n",
    "    module.id = gsub(\"-.*\", \"\", module.qtl.id)\n",
    "    \n",
    "    mqtl.locus.info = module.qtl.sum %>%\n",
    "        dplyr::filter(module.qtl == module.qtl.id) %>%\n",
    "        dplyr::select(m.snp = snp, m.beta=beta, m.se=se, m.pos=pos, major_allele, minor_allele)\n",
    "    \n",
    "    all.info = eos.ct %>%\n",
    "        dplyr::filter(variant_id %in% mqtl.locus.info$m.snp) %>%\n",
    "        merge(\n",
    "            ., mqtl.locus.info, \n",
    "            by.x=c(\"variant_id\", \"other_allele\", \"effect_allele\"),\n",
    "            by.y=c(\"m.snp\", \"major_allele\", \"minor_allele\")\n",
    "        ) %>%\n",
    "        dplyr::select(snp=variant_id, m.beta, m.se, pos=m.pos, g.beta=beta, g.se=standard_error, g.maf=MA_FREQ)\n",
    "    \n",
    "    module.qtl = list()\n",
    "    module.qtl$beta = all.info$m.beta\n",
    "    module.qtl$varbeta = all.info$m.se^2\n",
    "    module.qtl$snp = all.info$snp\n",
    "    module.qtl$position = all.info$pos\n",
    "    module.qtl$type = \"quant\"\n",
    "    module.qtl$sdY = sd(eigengenes[, module.id], na.rm=TRUE)\n",
    "    \n",
    "    N = 408112\n",
    "    \n",
    "    gwas.assoc = list()\n",
    "    gwas.assoc$beta = all.info$g.beta\n",
    "    gwas.assoc$varbeta = all.info$g.se^2\n",
    "    gwas.assoc$snp = all.info$snp\n",
    "    gwas.assoc$position = all.info$pos\n",
    "    gwas.assoc$type = \"quant\"\n",
    "    gwas.assoc$N = N\n",
    "    gwas.assoc$MAF = all.info$g.maf\n",
    "    \n",
    "    log = capture.output({\n",
    "        abf.res = suppressWarnings(coloc.abf(gwas.assoc, module.qtl))\n",
    "    })\n",
    "    \n",
    "    data.frame(t(abf.res$summary)) %>%\n",
    "        dplyr::mutate(Module.QTL = module.qtl.id)\n",
    "}) %>%\n",
    "    do.call(rbind, .) %>%\n",
    "    dplyr::mutate(PP3plusPP4 = PP.H3.abf + PP.H4.abf) %>%\n",
    "    dplyr::mutate(COLOC.Factor = PP.H4.abf / PP3plusPP4) %>%\n",
    "    dplyr::mutate(Colocalise = (PP3plusPP4 > 0.25) & (COLOC.Factor > 0.7))"
   ]
  },
  {
   "cell_type": "code",
   "execution_count": 73,
   "id": "2d642bbc-e9b0-4265-8834-a748e3bbd217",
   "metadata": {},
   "outputs": [
    {
     "data": {
      "text/html": [
       "<table class=\"dataframe\">\n",
       "<caption>A data.frame: 1 × 10</caption>\n",
       "<thead>\n",
       "\t<tr><th scope=col>nsnps</th><th scope=col>PP.H0.abf</th><th scope=col>PP.H1.abf</th><th scope=col>PP.H2.abf</th><th scope=col>PP.H3.abf</th><th scope=col>PP.H4.abf</th><th scope=col>Module.QTL</th><th scope=col>PP3plusPP4</th><th scope=col>COLOC.Factor</th><th scope=col>Colocalise</th></tr>\n",
       "\t<tr><th scope=col>&lt;dbl&gt;</th><th scope=col>&lt;dbl&gt;</th><th scope=col>&lt;dbl&gt;</th><th scope=col>&lt;dbl&gt;</th><th scope=col>&lt;dbl&gt;</th><th scope=col>&lt;dbl&gt;</th><th scope=col>&lt;chr&gt;</th><th scope=col>&lt;dbl&gt;</th><th scope=col>&lt;dbl&gt;</th><th scope=col>&lt;lgl&gt;</th></tr>\n",
       "</thead>\n",
       "<tbody>\n",
       "\t<tr><td>1692</td><td>4.376502e-15</td><td>3.42874e-11</td><td>3.110362e-06</td><td>0.02339131</td><td>0.9766056</td><td>ME_101_4-12:54985643-57100037</td><td>0.9999969</td><td>0.9766086</td><td>TRUE</td></tr>\n",
       "</tbody>\n",
       "</table>\n"
      ],
      "text/latex": [
       "A data.frame: 1 × 10\n",
       "\\begin{tabular}{llllllllll}\n",
       " nsnps & PP.H0.abf & PP.H1.abf & PP.H2.abf & PP.H3.abf & PP.H4.abf & Module.QTL & PP3plusPP4 & COLOC.Factor & Colocalise\\\\\n",
       " <dbl> & <dbl> & <dbl> & <dbl> & <dbl> & <dbl> & <chr> & <dbl> & <dbl> & <lgl>\\\\\n",
       "\\hline\n",
       "\t 1692 & 4.376502e-15 & 3.42874e-11 & 3.110362e-06 & 0.02339131 & 0.9766056 & ME\\_101\\_4-12:54985643-57100037 & 0.9999969 & 0.9766086 & TRUE\\\\\n",
       "\\end{tabular}\n"
      ],
      "text/markdown": [
       "\n",
       "A data.frame: 1 × 10\n",
       "\n",
       "| nsnps &lt;dbl&gt; | PP.H0.abf &lt;dbl&gt; | PP.H1.abf &lt;dbl&gt; | PP.H2.abf &lt;dbl&gt; | PP.H3.abf &lt;dbl&gt; | PP.H4.abf &lt;dbl&gt; | Module.QTL &lt;chr&gt; | PP3plusPP4 &lt;dbl&gt; | COLOC.Factor &lt;dbl&gt; | Colocalise &lt;lgl&gt; |\n",
       "|---|---|---|---|---|---|---|---|---|---|\n",
       "| 1692 | 4.376502e-15 | 3.42874e-11 | 3.110362e-06 | 0.02339131 | 0.9766056 | ME_101_4-12:54985643-57100037 | 0.9999969 | 0.9766086 | TRUE |\n",
       "\n"
      ],
      "text/plain": [
       "  nsnps PP.H0.abf    PP.H1.abf   PP.H2.abf    PP.H3.abf  PP.H4.abf\n",
       "1 1692  4.376502e-15 3.42874e-11 3.110362e-06 0.02339131 0.9766056\n",
       "  Module.QTL                    PP3plusPP4 COLOC.Factor Colocalise\n",
       "1 ME_101_4-12:54985643-57100037 0.9999969  0.9766086    TRUE      "
      ]
     },
     "metadata": {},
     "output_type": "display_data"
    }
   ],
   "source": [
    "eos.coloc %>%\n",
    "    dplyr::filter(Colocalise)"
   ]
  },
  {
   "cell_type": "code",
   "execution_count": 72,
   "id": "cd33b9f8-d31e-4738-9f1e-bbf4442d1e33",
   "metadata": {},
   "outputs": [],
   "source": [
    "rm(eos.ct)"
   ]
  },
  {
   "cell_type": "markdown",
   "id": "9c8c4740-a1b1-4615-84a0-1b8431b4c8ba",
   "metadata": {
    "tags": []
   },
   "source": [
    "## Basophil Counts\n",
    "\n",
    "**Study**: [GCST004618](https://www.ebi.ac.uk/gwas/studies/GCST004618)"
   ]
  },
  {
   "cell_type": "code",
   "execution_count": 79,
   "id": "d128f036-0c93-47fa-9eba-67072284963b",
   "metadata": {},
   "outputs": [],
   "source": [
    "bas.ct <- fread(\"~/gains_team282/nikhil/data/EBI_GWAS_Catalog/baso_N171846_narrow_form.tsv\", sep=\"\\t\")"
   ]
  },
  {
   "cell_type": "code",
   "execution_count": 80,
   "id": "ac5e2420-3932-4df2-9561-a27e83172d6b",
   "metadata": {},
   "outputs": [
    {
     "data": {
      "text/html": [
       "<table class=\"dataframe\">\n",
       "<caption>A data.table: 6 × 14</caption>\n",
       "<thead>\n",
       "\t<tr><th scope=col>VARIANT</th><th scope=col>ID_dbSNP49</th><th scope=col>CHR</th><th scope=col>BP</th><th scope=col>REF</th><th scope=col>ALT</th><th scope=col>ALT_MINOR</th><th scope=col>DIRECTION</th><th scope=col>EFFECT</th><th scope=col>SE</th><th scope=col>P</th><th scope=col>MLOG10P</th><th scope=col>ALT_FREQ</th><th scope=col>MA_FREQ</th></tr>\n",
       "\t<tr><th scope=col>&lt;chr&gt;</th><th scope=col>&lt;chr&gt;</th><th scope=col>&lt;int&gt;</th><th scope=col>&lt;int&gt;</th><th scope=col>&lt;chr&gt;</th><th scope=col>&lt;chr&gt;</th><th scope=col>&lt;lgl&gt;</th><th scope=col>&lt;chr&gt;</th><th scope=col>&lt;dbl&gt;</th><th scope=col>&lt;dbl&gt;</th><th scope=col>&lt;dbl&gt;</th><th scope=col>&lt;dbl&gt;</th><th scope=col>&lt;dbl&gt;</th><th scope=col>&lt;dbl&gt;</th></tr>\n",
       "</thead>\n",
       "<tbody>\n",
       "\t<tr><td>1:10177_A_AC                    </td><td>rs367896724</td><td>1</td><td>10177</td><td>A                     </td><td>AC</td><td> TRUE</td><td>-</td><td>-4.836126e-05</td><td>0.004830810</td><td>0.9920</td><td>0.003482852</td><td>0.3923</td><td>0.3923</td></tr>\n",
       "\t<tr><td>1:10352_T_TA                    </td><td>rs555500075</td><td>1</td><td>10352</td><td>T                     </td><td>TA</td><td> TRUE</td><td>+</td><td> 5.007469e-03</td><td>0.004966583</td><td>0.3133</td><td>0.503979900</td><td>0.3855</td><td>0.3855</td></tr>\n",
       "\t<tr><td>1:10616_CCGCCGTTGCAAAGGCGCGCCG_C</td><td>rs376342519</td><td>1</td><td>10616</td><td>CCGCCGTTGCAAAGGCGCGCCG</td><td>C </td><td>FALSE</td><td>-</td><td>-1.381520e-03</td><td>0.031715380</td><td>0.9653</td><td>0.015357860</td><td>0.9942</td><td>0.0058</td></tr>\n",
       "\t<tr><td>1:11008_C_G                     </td><td>rs575272151</td><td>1</td><td>11008</td><td>C                     </td><td>G </td><td> TRUE</td><td>-</td><td>-6.713662e-03</td><td>0.008351495</td><td>0.4215</td><td>0.375241600</td><td>0.0853</td><td>0.0853</td></tr>\n",
       "\t<tr><td>1:11012_C_G                     </td><td>rs544419019</td><td>1</td><td>11012</td><td>C                     </td><td>G </td><td> TRUE</td><td>-</td><td>-7.852701e-03</td><td>0.008403985</td><td>0.3501</td><td>0.455812200</td><td>0.0846</td><td>0.0846</td></tr>\n",
       "\t<tr><td>1:13110_G_A                     </td><td>rs540538026</td><td>1</td><td>13110</td><td>G                     </td><td>A </td><td> TRUE</td><td>-</td><td>-3.841496e-03</td><td>0.010666270</td><td>0.7187</td><td>0.143432800</td><td>0.0592</td><td>0.0592</td></tr>\n",
       "</tbody>\n",
       "</table>\n"
      ],
      "text/latex": [
       "A data.table: 6 × 14\n",
       "\\begin{tabular}{llllllllllllll}\n",
       " VARIANT & ID\\_dbSNP49 & CHR & BP & REF & ALT & ALT\\_MINOR & DIRECTION & EFFECT & SE & P & MLOG10P & ALT\\_FREQ & MA\\_FREQ\\\\\n",
       " <chr> & <chr> & <int> & <int> & <chr> & <chr> & <lgl> & <chr> & <dbl> & <dbl> & <dbl> & <dbl> & <dbl> & <dbl>\\\\\n",
       "\\hline\n",
       "\t 1:10177\\_A\\_AC                     & rs367896724 & 1 & 10177 & A                      & AC &  TRUE & - & -4.836126e-05 & 0.004830810 & 0.9920 & 0.003482852 & 0.3923 & 0.3923\\\\\n",
       "\t 1:10352\\_T\\_TA                     & rs555500075 & 1 & 10352 & T                      & TA &  TRUE & + &  5.007469e-03 & 0.004966583 & 0.3133 & 0.503979900 & 0.3855 & 0.3855\\\\\n",
       "\t 1:10616\\_CCGCCGTTGCAAAGGCGCGCCG\\_C & rs376342519 & 1 & 10616 & CCGCCGTTGCAAAGGCGCGCCG & C  & FALSE & - & -1.381520e-03 & 0.031715380 & 0.9653 & 0.015357860 & 0.9942 & 0.0058\\\\\n",
       "\t 1:11008\\_C\\_G                      & rs575272151 & 1 & 11008 & C                      & G  &  TRUE & - & -6.713662e-03 & 0.008351495 & 0.4215 & 0.375241600 & 0.0853 & 0.0853\\\\\n",
       "\t 1:11012\\_C\\_G                      & rs544419019 & 1 & 11012 & C                      & G  &  TRUE & - & -7.852701e-03 & 0.008403985 & 0.3501 & 0.455812200 & 0.0846 & 0.0846\\\\\n",
       "\t 1:13110\\_G\\_A                      & rs540538026 & 1 & 13110 & G                      & A  &  TRUE & - & -3.841496e-03 & 0.010666270 & 0.7187 & 0.143432800 & 0.0592 & 0.0592\\\\\n",
       "\\end{tabular}\n"
      ],
      "text/markdown": [
       "\n",
       "A data.table: 6 × 14\n",
       "\n",
       "| VARIANT &lt;chr&gt; | ID_dbSNP49 &lt;chr&gt; | CHR &lt;int&gt; | BP &lt;int&gt; | REF &lt;chr&gt; | ALT &lt;chr&gt; | ALT_MINOR &lt;lgl&gt; | DIRECTION &lt;chr&gt; | EFFECT &lt;dbl&gt; | SE &lt;dbl&gt; | P &lt;dbl&gt; | MLOG10P &lt;dbl&gt; | ALT_FREQ &lt;dbl&gt; | MA_FREQ &lt;dbl&gt; |\n",
       "|---|---|---|---|---|---|---|---|---|---|---|---|---|---|\n",
       "| 1:10177_A_AC                     | rs367896724 | 1 | 10177 | A                      | AC |  TRUE | - | -4.836126e-05 | 0.004830810 | 0.9920 | 0.003482852 | 0.3923 | 0.3923 |\n",
       "| 1:10352_T_TA                     | rs555500075 | 1 | 10352 | T                      | TA |  TRUE | + |  5.007469e-03 | 0.004966583 | 0.3133 | 0.503979900 | 0.3855 | 0.3855 |\n",
       "| 1:10616_CCGCCGTTGCAAAGGCGCGCCG_C | rs376342519 | 1 | 10616 | CCGCCGTTGCAAAGGCGCGCCG | C  | FALSE | - | -1.381520e-03 | 0.031715380 | 0.9653 | 0.015357860 | 0.9942 | 0.0058 |\n",
       "| 1:11008_C_G                      | rs575272151 | 1 | 11008 | C                      | G  |  TRUE | - | -6.713662e-03 | 0.008351495 | 0.4215 | 0.375241600 | 0.0853 | 0.0853 |\n",
       "| 1:11012_C_G                      | rs544419019 | 1 | 11012 | C                      | G  |  TRUE | - | -7.852701e-03 | 0.008403985 | 0.3501 | 0.455812200 | 0.0846 | 0.0846 |\n",
       "| 1:13110_G_A                      | rs540538026 | 1 | 13110 | G                      | A  |  TRUE | - | -3.841496e-03 | 0.010666270 | 0.7187 | 0.143432800 | 0.0592 | 0.0592 |\n",
       "\n"
      ],
      "text/plain": [
       "  VARIANT                          ID_dbSNP49  CHR BP    REF                   \n",
       "1 1:10177_A_AC                     rs367896724 1   10177 A                     \n",
       "2 1:10352_T_TA                     rs555500075 1   10352 T                     \n",
       "3 1:10616_CCGCCGTTGCAAAGGCGCGCCG_C rs376342519 1   10616 CCGCCGTTGCAAAGGCGCGCCG\n",
       "4 1:11008_C_G                      rs575272151 1   11008 C                     \n",
       "5 1:11012_C_G                      rs544419019 1   11012 C                     \n",
       "6 1:13110_G_A                      rs540538026 1   13110 G                     \n",
       "  ALT ALT_MINOR DIRECTION EFFECT        SE          P      MLOG10P     ALT_FREQ\n",
       "1 AC   TRUE     -         -4.836126e-05 0.004830810 0.9920 0.003482852 0.3923  \n",
       "2 TA   TRUE     +          5.007469e-03 0.004966583 0.3133 0.503979900 0.3855  \n",
       "3 C   FALSE     -         -1.381520e-03 0.031715380 0.9653 0.015357860 0.9942  \n",
       "4 G    TRUE     -         -6.713662e-03 0.008351495 0.4215 0.375241600 0.0853  \n",
       "5 G    TRUE     -         -7.852701e-03 0.008403985 0.3501 0.455812200 0.0846  \n",
       "6 A    TRUE     -         -3.841496e-03 0.010666270 0.7187 0.143432800 0.0592  \n",
       "  MA_FREQ\n",
       "1 0.3923 \n",
       "2 0.3855 \n",
       "3 0.0058 \n",
       "4 0.0853 \n",
       "5 0.0846 \n",
       "6 0.0592 "
      ]
     },
     "metadata": {},
     "output_type": "display_data"
    }
   ],
   "source": [
    "head(bas.ct)"
   ]
  },
  {
   "cell_type": "code",
   "execution_count": 81,
   "id": "e4978466-4bb9-4df0-b479-8c8a2ff30d62",
   "metadata": {},
   "outputs": [],
   "source": [
    "bas.me <- ebi.mqtl %>%\n",
    "    dplyr::filter(accession == \"GCST004618\")\n",
    "\n",
    "bas.snps <- unique(bas.me$snp)"
   ]
  },
  {
   "cell_type": "code",
   "execution_count": 82,
   "id": "a71d830d-71bd-4d9b-a225-0ce608abaf9c",
   "metadata": {},
   "outputs": [],
   "source": [
    "module.qtl.set <- module.qtl.sum %>%\n",
    "    dplyr::filter(snp %in% bas.snps)\n",
    "\n",
    "module.qtl.set <- unique(module.qtl.set$module.qtl)"
   ]
  },
  {
   "cell_type": "code",
   "execution_count": 83,
   "id": "be95c526-ecb5-490f-93bc-fa153f93b870",
   "metadata": {},
   "outputs": [],
   "source": [
    "all.snps <- module.qtl.sum %>%\n",
    "    dplyr::filter(module.qtl %in% module.qtl.set)\n",
    "\n",
    "all.snps <- all.snps$snp\n",
    "\n",
    "bas.ct <- bas.ct %>%\n",
    "    dplyr::filter(ID_dbSNP49 %in% all.snps)"
   ]
  },
  {
   "cell_type": "code",
   "execution_count": 84,
   "id": "ceadc467-1c6d-460a-a33d-c2d6501303e3",
   "metadata": {},
   "outputs": [],
   "source": [
    "bas.coloc <- lapply(module.qtl.set, function(module.qtl.id) {\n",
    " \n",
    "    module.id = gsub(\"-.*\", \"\", module.qtl.id)\n",
    "    \n",
    "    mqtl.locus.info = module.qtl.sum %>%\n",
    "        dplyr::filter(module.qtl == module.qtl.id) %>%\n",
    "        dplyr::select(m.snp = snp, m.beta=beta, m.se=se, m.pos=pos, major_allele, minor_allele)\n",
    "    \n",
    "    all.info = bas.ct %>%\n",
    "        dplyr::filter(ID_dbSNP49 %in% mqtl.locus.info$m.snp) %>%\n",
    "        merge(\n",
    "            ., mqtl.locus.info, \n",
    "            by.x=c(\"ID_dbSNP49\"),\n",
    "            by.y=c(\"m.snp\")\n",
    "        ) %>%\n",
    "        dplyr::select(snp=ID_dbSNP49, m.beta, m.se, pos=m.pos, g.beta=EFFECT, g.se=SE, g.maf=MA_FREQ)\n",
    "    \n",
    "    module.qtl = list()\n",
    "    module.qtl$beta = all.info$m.beta\n",
    "    module.qtl$varbeta = all.info$m.se^2\n",
    "    module.qtl$snp = all.info$snp\n",
    "    module.qtl$position = all.info$pos\n",
    "    module.qtl$type = \"quant\"\n",
    "    module.qtl$sdY = sd(eigengenes[, module.id], na.rm=TRUE)\n",
    "    \n",
    "    N = 408112\n",
    "    \n",
    "    gwas.assoc = list()\n",
    "    gwas.assoc$beta = all.info$g.beta\n",
    "    gwas.assoc$varbeta = all.info$g.se^2\n",
    "    gwas.assoc$snp = all.info$snp\n",
    "    gwas.assoc$position = all.info$pos\n",
    "    gwas.assoc$type = \"quant\"\n",
    "    gwas.assoc$N = N\n",
    "    gwas.assoc$MAF = all.info$g.maf\n",
    "    \n",
    "    log = capture.output({\n",
    "        abf.res = suppressWarnings(coloc.abf(gwas.assoc, module.qtl))\n",
    "    })\n",
    "    \n",
    "    data.frame(t(abf.res$summary)) %>%\n",
    "        dplyr::mutate(Module.QTL = module.qtl.id)\n",
    "}) %>%\n",
    "    do.call(rbind, .) %>%\n",
    "    dplyr::mutate(PP3plusPP4 = PP.H3.abf + PP.H4.abf) %>%\n",
    "    dplyr::mutate(COLOC.Factor = PP.H4.abf / PP3plusPP4) %>%\n",
    "    dplyr::mutate(Colocalise = (PP3plusPP4 > 0.25) & (COLOC.Factor > 0.7))"
   ]
  },
  {
   "cell_type": "code",
   "execution_count": 85,
   "id": "509dc999-87d6-4899-b18d-75942c4eef66",
   "metadata": {},
   "outputs": [
    {
     "data": {
      "text/html": [
       "<table class=\"dataframe\">\n",
       "<caption>A data.frame: 0 × 10</caption>\n",
       "<thead>\n",
       "\t<tr><th scope=col>nsnps</th><th scope=col>PP.H0.abf</th><th scope=col>PP.H1.abf</th><th scope=col>PP.H2.abf</th><th scope=col>PP.H3.abf</th><th scope=col>PP.H4.abf</th><th scope=col>Module.QTL</th><th scope=col>PP3plusPP4</th><th scope=col>COLOC.Factor</th><th scope=col>Colocalise</th></tr>\n",
       "\t<tr><th scope=col>&lt;dbl&gt;</th><th scope=col>&lt;dbl&gt;</th><th scope=col>&lt;dbl&gt;</th><th scope=col>&lt;dbl&gt;</th><th scope=col>&lt;dbl&gt;</th><th scope=col>&lt;dbl&gt;</th><th scope=col>&lt;chr&gt;</th><th scope=col>&lt;dbl&gt;</th><th scope=col>&lt;dbl&gt;</th><th scope=col>&lt;lgl&gt;</th></tr>\n",
       "</thead>\n",
       "<tbody>\n",
       "</tbody>\n",
       "</table>\n"
      ],
      "text/latex": [
       "A data.frame: 0 × 10\n",
       "\\begin{tabular}{llllllllll}\n",
       " nsnps & PP.H0.abf & PP.H1.abf & PP.H2.abf & PP.H3.abf & PP.H4.abf & Module.QTL & PP3plusPP4 & COLOC.Factor & Colocalise\\\\\n",
       " <dbl> & <dbl> & <dbl> & <dbl> & <dbl> & <dbl> & <chr> & <dbl> & <dbl> & <lgl>\\\\\n",
       "\\hline\n",
       "\\end{tabular}\n"
      ],
      "text/markdown": [
       "\n",
       "A data.frame: 0 × 10\n",
       "\n",
       "| nsnps &lt;dbl&gt; | PP.H0.abf &lt;dbl&gt; | PP.H1.abf &lt;dbl&gt; | PP.H2.abf &lt;dbl&gt; | PP.H3.abf &lt;dbl&gt; | PP.H4.abf &lt;dbl&gt; | Module.QTL &lt;chr&gt; | PP3plusPP4 &lt;dbl&gt; | COLOC.Factor &lt;dbl&gt; | Colocalise &lt;lgl&gt; |\n",
       "|---|---|---|---|---|---|---|---|---|---|\n",
       "\n"
      ],
      "text/plain": [
       "     nsnps PP.H0.abf PP.H1.abf PP.H2.abf PP.H3.abf PP.H4.abf Module.QTL\n",
       "     PP3plusPP4 COLOC.Factor Colocalise"
      ]
     },
     "metadata": {},
     "output_type": "display_data"
    }
   ],
   "source": [
    "bas.coloc %>%\n",
    "    dplyr::filter(Colocalise)"
   ]
  },
  {
   "cell_type": "code",
   "execution_count": 86,
   "id": "f9f531d3-e61e-40e7-ad27-c87a0878bf2d",
   "metadata": {},
   "outputs": [],
   "source": [
    "rm(bas.ct)"
   ]
  },
  {
   "cell_type": "markdown",
   "id": "70a1854e-e77f-41ac-a941-7285561a3eca",
   "metadata": {
    "tags": []
   },
   "source": [
    "## Erythrocyte Counts\n",
    "\n",
    "**Study**: [GCST90002403](https://www.ebi.ac.uk/gwas/studies/GCST90002403)"
   ]
  },
  {
   "cell_type": "code",
   "execution_count": 88,
   "id": "1af5c2a0-12a0-4d21-899d-5217ce4a0fbb",
   "metadata": {},
   "outputs": [
    {
     "name": "stderr",
     "output_type": "stream",
     "text": [
      "Warning message in fread(\"~/gains_team282/nikhil/data/EBI_GWAS_Catalog/GCST90002403_buildGRCh37.tsv\", :\n",
      "“Previous fread() session was not cleaned up properly. Cleaned up ok at the beginning of this fread() call.”\n"
     ]
    }
   ],
   "source": [
    "ert.ct <- fread(\"~/gains_team282/nikhil/data/EBI_GWAS_Catalog/GCST90002403_buildGRCh37.tsv\", sep=\"\\t\")"
   ]
  },
  {
   "cell_type": "code",
   "execution_count": 89,
   "id": "21e7ae52-af01-4b5f-a260-5915cc6e396f",
   "metadata": {},
   "outputs": [],
   "source": [
    "ert.me <- ebi.mqtl %>%\n",
    "    dplyr::filter(accession == \"GCST90002403\")\n",
    "\n",
    "ert.snps <- unique(ert.me$snp)"
   ]
  },
  {
   "cell_type": "code",
   "execution_count": 90,
   "id": "38d7423b-a724-4d9f-8017-fa88b2ccb8e1",
   "metadata": {},
   "outputs": [],
   "source": [
    "module.qtl.set <- module.qtl.sum %>%\n",
    "    dplyr::filter(snp %in% ert.snps)\n",
    "\n",
    "module.qtl.set <- unique(module.qtl.set$module.qtl)"
   ]
  },
  {
   "cell_type": "code",
   "execution_count": 91,
   "id": "31cffeab-893a-415a-ab6c-6a3abdc2a606",
   "metadata": {},
   "outputs": [],
   "source": [
    "all.snps <- module.qtl.sum %>%\n",
    "    dplyr::filter(module.qtl %in% module.qtl.set)\n",
    "\n",
    "all.snps <- all.snps$snp\n",
    "\n",
    "ert.ct <- ert.ct %>%\n",
    "    dplyr::filter(variant_id %in% all.snps)"
   ]
  },
  {
   "cell_type": "code",
   "execution_count": 92,
   "id": "34d19e1a-0df3-499d-bbb9-8f46bc7a697a",
   "metadata": {},
   "outputs": [],
   "source": [
    "ert.coloc <- lapply(module.qtl.set, function(module.qtl.id) {\n",
    " \n",
    "    module.id = gsub(\"-.*\", \"\", module.qtl.id)\n",
    "    \n",
    "    mqtl.locus.info = module.qtl.sum %>%\n",
    "        dplyr::filter(module.qtl == module.qtl.id) %>%\n",
    "        dplyr::select(m.snp = snp, m.beta=beta, m.se=se, m.pos=pos, major_allele, minor_allele)\n",
    "    \n",
    "    all.info = ert.ct %>%\n",
    "        dplyr::filter(variant_id %in% mqtl.locus.info$m.snp) %>%\n",
    "        merge(\n",
    "            ., mqtl.locus.info, \n",
    "            by.x=c(\"variant_id\", \"other_allele\", \"effect_allele\"),\n",
    "            by.y=c(\"m.snp\", \"major_allele\", \"minor_allele\")\n",
    "        ) %>%\n",
    "        dplyr::select(snp=variant_id, m.beta, m.se, pos=m.pos, g.beta=beta, g.se=standard_error, g.maf=MA_FREQ)\n",
    "    \n",
    "    module.qtl = list()\n",
    "    module.qtl$beta = all.info$m.beta\n",
    "    module.qtl$varbeta = all.info$m.se^2\n",
    "    module.qtl$snp = all.info$snp\n",
    "    module.qtl$position = all.info$pos\n",
    "    module.qtl$type = \"quant\"\n",
    "    module.qtl$sdY = sd(eigengenes[, module.id], na.rm=TRUE)\n",
    "    \n",
    "    N = 408112\n",
    "    \n",
    "    gwas.assoc = list()\n",
    "    gwas.assoc$beta = all.info$g.beta\n",
    "    gwas.assoc$varbeta = all.info$g.se^2\n",
    "    gwas.assoc$snp = all.info$snp\n",
    "    gwas.assoc$position = all.info$pos\n",
    "    gwas.assoc$type = \"quant\"\n",
    "    gwas.assoc$N = N\n",
    "    gwas.assoc$MAF = all.info$g.maf\n",
    "    \n",
    "    log = capture.output({\n",
    "        abf.res = suppressWarnings(coloc.abf(gwas.assoc, module.qtl))\n",
    "    })\n",
    "    \n",
    "    data.frame(t(abf.res$summary)) %>%\n",
    "        dplyr::mutate(Module.QTL = module.qtl.id)\n",
    "}) %>%\n",
    "    do.call(rbind, .) %>%\n",
    "    dplyr::mutate(PP3plusPP4 = PP.H3.abf + PP.H4.abf) %>%\n",
    "    dplyr::mutate(COLOC.Factor = PP.H4.abf / PP3plusPP4) %>%\n",
    "    dplyr::mutate(Colocalise = (PP3plusPP4 > 0.25) & (COLOC.Factor > 0.7))"
   ]
  },
  {
   "cell_type": "code",
   "execution_count": 93,
   "id": "b7ca3466-5d28-48a9-8b21-5cafd640e24f",
   "metadata": {},
   "outputs": [
    {
     "data": {
      "text/html": [
       "<table class=\"dataframe\">\n",
       "<caption>A data.frame: 0 × 10</caption>\n",
       "<thead>\n",
       "\t<tr><th scope=col>nsnps</th><th scope=col>PP.H0.abf</th><th scope=col>PP.H1.abf</th><th scope=col>PP.H2.abf</th><th scope=col>PP.H3.abf</th><th scope=col>PP.H4.abf</th><th scope=col>Module.QTL</th><th scope=col>PP3plusPP4</th><th scope=col>COLOC.Factor</th><th scope=col>Colocalise</th></tr>\n",
       "\t<tr><th scope=col>&lt;dbl&gt;</th><th scope=col>&lt;dbl&gt;</th><th scope=col>&lt;dbl&gt;</th><th scope=col>&lt;dbl&gt;</th><th scope=col>&lt;dbl&gt;</th><th scope=col>&lt;dbl&gt;</th><th scope=col>&lt;chr&gt;</th><th scope=col>&lt;dbl&gt;</th><th scope=col>&lt;dbl&gt;</th><th scope=col>&lt;lgl&gt;</th></tr>\n",
       "</thead>\n",
       "<tbody>\n",
       "</tbody>\n",
       "</table>\n"
      ],
      "text/latex": [
       "A data.frame: 0 × 10\n",
       "\\begin{tabular}{llllllllll}\n",
       " nsnps & PP.H0.abf & PP.H1.abf & PP.H2.abf & PP.H3.abf & PP.H4.abf & Module.QTL & PP3plusPP4 & COLOC.Factor & Colocalise\\\\\n",
       " <dbl> & <dbl> & <dbl> & <dbl> & <dbl> & <dbl> & <chr> & <dbl> & <dbl> & <lgl>\\\\\n",
       "\\hline\n",
       "\\end{tabular}\n"
      ],
      "text/markdown": [
       "\n",
       "A data.frame: 0 × 10\n",
       "\n",
       "| nsnps &lt;dbl&gt; | PP.H0.abf &lt;dbl&gt; | PP.H1.abf &lt;dbl&gt; | PP.H2.abf &lt;dbl&gt; | PP.H3.abf &lt;dbl&gt; | PP.H4.abf &lt;dbl&gt; | Module.QTL &lt;chr&gt; | PP3plusPP4 &lt;dbl&gt; | COLOC.Factor &lt;dbl&gt; | Colocalise &lt;lgl&gt; |\n",
       "|---|---|---|---|---|---|---|---|---|---|\n",
       "\n"
      ],
      "text/plain": [
       "     nsnps PP.H0.abf PP.H1.abf PP.H2.abf PP.H3.abf PP.H4.abf Module.QTL\n",
       "     PP3plusPP4 COLOC.Factor Colocalise"
      ]
     },
     "metadata": {},
     "output_type": "display_data"
    }
   ],
   "source": [
    "ert.coloc %>%\n",
    "    dplyr::filter(Colocalise)"
   ]
  },
  {
   "cell_type": "code",
   "execution_count": 94,
   "id": "525e5cf8-787d-45b3-b3bf-108291d8603e",
   "metadata": {},
   "outputs": [],
   "source": [
    "rm(ert.ct)"
   ]
  },
  {
   "cell_type": "code",
   "execution_count": null,
   "id": "d90ceed3-c772-4e21-bce7-219e1eabf38d",
   "metadata": {},
   "outputs": [],
   "source": []
  }
 ],
 "metadata": {
  "kernelspec": {
   "display_name": "R",
   "language": "R",
   "name": "ir"
  },
  "language_info": {
   "codemirror_mode": "r",
   "file_extension": ".r",
   "mimetype": "text/x-r-source",
   "name": "R",
   "pygments_lexer": "r",
   "version": "4.0.5"
  }
 },
 "nbformat": 4,
 "nbformat_minor": 5
}
