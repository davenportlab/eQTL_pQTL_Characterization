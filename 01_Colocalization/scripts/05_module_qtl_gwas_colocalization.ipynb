{
 "cells": [
  {
   "cell_type": "markdown",
   "id": "a23147bd-2143-40bc-a387-21ecd96a09e8",
   "metadata": {},
   "source": [
    "# Module QTL and GWAS Colocalization\n",
    "\n",
    "**Created**: 2 June 2022"
   ]
  },
  {
   "cell_type": "markdown",
   "id": "17c2c96d-3148-42e3-855f-09205e936123",
   "metadata": {},
   "source": [
    "## Environment"
   ]
  },
  {
   "cell_type": "code",
   "execution_count": 68,
   "id": "9b4399f3-379c-4a86-a273-91a9645ed343",
   "metadata": {},
   "outputs": [],
   "source": [
    "library(tidyverse)\n",
    "library(data.table)\n",
    "library(GenomicRanges)\n",
    "library(rtracklayer)\n",
    "library(coloc)\n",
    "library(susieR)\n",
    "\n",
    "setwd(\"~/eQTL_pQTL_Characterization/\")\n",
    "\n",
    "source(\"01_Colocalization/scripts/utils/ggplot_theme.R\")\n",
    "source(\"01_Colocalization/scripts/utils/iupac.R\")"
   ]
  },
  {
   "cell_type": "markdown",
   "id": "5eafd9c4-fe45-477d-a110-36dc686a2709",
   "metadata": {},
   "source": [
    "## Load Module QTL Data"
   ]
  },
  {
   "cell_type": "code",
   "execution_count": 2,
   "id": "b9769a0a-d104-400f-ab49-94639d76b0f9",
   "metadata": {},
   "outputs": [],
   "source": [
    "geno.bim <- fread(\"/nfs/users/nfs_n/nm18/gains_team282/Genotyping/All_genotyping_merged_filtered_b38_refiltered_rsID.bim\")\n",
    "\n",
    "colnames(geno.bim) <- c(\"chr\", \"snp\", \"cM\", \"pos\", \"minor_allele\", \"major_allele\")"
   ]
  },
  {
   "cell_type": "code",
   "execution_count": 3,
   "id": "bcce5b4c-62e8-47ea-9c8a-1b5321c948b3",
   "metadata": {},
   "outputs": [
    {
     "data": {
      "text/html": [
       "<table class=\"dataframe\">\n",
       "<caption>A data.table: 6 × 6</caption>\n",
       "<thead>\n",
       "\t<tr><th scope=col>chr</th><th scope=col>snp</th><th scope=col>cM</th><th scope=col>pos</th><th scope=col>minor_allele</th><th scope=col>major_allele</th></tr>\n",
       "\t<tr><th scope=col>&lt;chr&gt;</th><th scope=col>&lt;chr&gt;</th><th scope=col>&lt;int&gt;</th><th scope=col>&lt;int&gt;</th><th scope=col>&lt;chr&gt;</th><th scope=col>&lt;chr&gt;</th></tr>\n",
       "</thead>\n",
       "<tbody>\n",
       "\t<tr><td>1</td><td>rs3131972   </td><td>0</td><td>817341</td><td>A</td><td>G</td></tr>\n",
       "\t<tr><td>1</td><td>rs546843995 </td><td>0</td><td>818053</td><td>0</td><td>G</td></tr>\n",
       "\t<tr><td>1</td><td>rs553916047 </td><td>0</td><td>818359</td><td>0</td><td>A</td></tr>\n",
       "\t<tr><td>1</td><td>1:818740_T_C</td><td>0</td><td>818740</td><td>T</td><td>C</td></tr>\n",
       "\t<tr><td>1</td><td>rs145604921 </td><td>0</td><td>819378</td><td>0</td><td>C</td></tr>\n",
       "\t<tr><td>1</td><td>rs535256652 </td><td>0</td><td>821053</td><td>0</td><td>T</td></tr>\n",
       "</tbody>\n",
       "</table>\n"
      ],
      "text/latex": [
       "A data.table: 6 × 6\n",
       "\\begin{tabular}{llllll}\n",
       " chr & snp & cM & pos & minor\\_allele & major\\_allele\\\\\n",
       " <chr> & <chr> & <int> & <int> & <chr> & <chr>\\\\\n",
       "\\hline\n",
       "\t 1 & rs3131972    & 0 & 817341 & A & G\\\\\n",
       "\t 1 & rs546843995  & 0 & 818053 & 0 & G\\\\\n",
       "\t 1 & rs553916047  & 0 & 818359 & 0 & A\\\\\n",
       "\t 1 & 1:818740\\_T\\_C & 0 & 818740 & T & C\\\\\n",
       "\t 1 & rs145604921  & 0 & 819378 & 0 & C\\\\\n",
       "\t 1 & rs535256652  & 0 & 821053 & 0 & T\\\\\n",
       "\\end{tabular}\n"
      ],
      "text/markdown": [
       "\n",
       "A data.table: 6 × 6\n",
       "\n",
       "| chr &lt;chr&gt; | snp &lt;chr&gt; | cM &lt;int&gt; | pos &lt;int&gt; | minor_allele &lt;chr&gt; | major_allele &lt;chr&gt; |\n",
       "|---|---|---|---|---|---|\n",
       "| 1 | rs3131972    | 0 | 817341 | A | G |\n",
       "| 1 | rs546843995  | 0 | 818053 | 0 | G |\n",
       "| 1 | rs553916047  | 0 | 818359 | 0 | A |\n",
       "| 1 | 1:818740_T_C | 0 | 818740 | T | C |\n",
       "| 1 | rs145604921  | 0 | 819378 | 0 | C |\n",
       "| 1 | rs535256652  | 0 | 821053 | 0 | T |\n",
       "\n"
      ],
      "text/plain": [
       "  chr snp          cM pos    minor_allele major_allele\n",
       "1 1   rs3131972    0  817341 A            G           \n",
       "2 1   rs546843995  0  818053 0            G           \n",
       "3 1   rs553916047  0  818359 0            A           \n",
       "4 1   1:818740_T_C 0  818740 T            C           \n",
       "5 1   rs145604921  0  819378 0            C           \n",
       "6 1   rs535256652  0  821053 0            T           "
      ]
     },
     "metadata": {},
     "output_type": "display_data"
    }
   ],
   "source": [
    "head(geno.bim)"
   ]
  },
  {
   "cell_type": "code",
   "execution_count": 4,
   "id": "535b1f3b-905c-4164-854a-38916a80e9ef",
   "metadata": {},
   "outputs": [],
   "source": [
    "module.ss.dir = \"/nfs/users/nfs_n/nm18/gains_team282/nikhil/expression/eigengene_sva/wgcna_summary_statistics/\"\n",
    "module.qtl.sum <- do.call(rbind, lapply(list.files(module.ss.dir, pattern=\"ME_[0-9]+_[0-9]+-.*\\\\.tsv\"), function(file.name) {\n",
    "\n",
    "    fread(paste0(module.ss.dir, file.name)) %>%\n",
    "    as.data.frame() %>%\n",
    "    dplyr::select(snp=1, beta=2, se=3, t=4, p=5) %>%\n",
    "    dplyr::mutate(module.qtl=gsub(\"\\\\.tsv\", \"\", file.name)) %>%\n",
    "    dplyr::mutate(module=gsub(\"_[0-9]+-.*$\", \"\", module.qtl)) %>%\n",
    "    dplyr::mutate(pc=gsub(\"-.*$\", \"\", gsub(\"ME_[0-9]+_\", \"\", module.qtl))) %>%\n",
    "    dplyr::mutate(qtl.locus=gsub(\"ME_[0-9]+_[0-9]+-\", \"\", module.qtl)) %>%\n",
    "    dplyr::mutate(qtl.locus.chr=gsub(\"\\\\:.*\", \"\", qtl.locus)) %>%\n",
    "    dplyr::mutate(qtl.locus.start=as.numeric(gsub(\".*\\\\:\", \"\", gsub(\"-.*$\", \"\", qtl.locus)))) %>%\n",
    "    dplyr::mutate(qtl.locus.end=as.numeric(gsub(\".*-\", \"\", qtl.locus)))\n",
    "})) %>%\n",
    "    merge(., geno.bim, by=\"snp\") %>%\n",
    "    dplyr::mutate(IUPAC = alleles.iupac(minor_allele, major_allele))"
   ]
  },
  {
   "cell_type": "code",
   "execution_count": 5,
   "id": "eebfe568-7047-44e4-a46b-eac0510e72ac",
   "metadata": {},
   "outputs": [
    {
     "data": {
      "text/html": [
       "<table class=\"dataframe\">\n",
       "<caption>A data.frame: 6 × 18</caption>\n",
       "<thead>\n",
       "\t<tr><th></th><th scope=col>snp</th><th scope=col>beta</th><th scope=col>se</th><th scope=col>t</th><th scope=col>p</th><th scope=col>module.qtl</th><th scope=col>module</th><th scope=col>pc</th><th scope=col>qtl.locus</th><th scope=col>qtl.locus.chr</th><th scope=col>qtl.locus.start</th><th scope=col>qtl.locus.end</th><th scope=col>chr</th><th scope=col>cM</th><th scope=col>pos</th><th scope=col>minor_allele</th><th scope=col>major_allele</th><th scope=col>IUPAC</th></tr>\n",
       "\t<tr><th></th><th scope=col>&lt;chr&gt;</th><th scope=col>&lt;dbl&gt;</th><th scope=col>&lt;dbl&gt;</th><th scope=col>&lt;dbl&gt;</th><th scope=col>&lt;dbl&gt;</th><th scope=col>&lt;chr&gt;</th><th scope=col>&lt;chr&gt;</th><th scope=col>&lt;chr&gt;</th><th scope=col>&lt;chr&gt;</th><th scope=col>&lt;chr&gt;</th><th scope=col>&lt;dbl&gt;</th><th scope=col>&lt;dbl&gt;</th><th scope=col>&lt;chr&gt;</th><th scope=col>&lt;int&gt;</th><th scope=col>&lt;int&gt;</th><th scope=col>&lt;chr&gt;</th><th scope=col>&lt;chr&gt;</th><th scope=col>&lt;chr&gt;</th></tr>\n",
       "</thead>\n",
       "<tbody>\n",
       "\t<tr><th scope=row>1</th><td>rs10000031</td><td> 0.0019267651</td><td>0.001094589</td><td> 1.7602633</td><td>0.07874832</td><td>ME_87_1-4:67472593-69475768  </td><td>ME_87</td><td>1</td><td>4:67472593-69475768  </td><td>4</td><td> 67472593</td><td> 69475768</td><td>4</td><td>0</td><td> 68683231</td><td>G</td><td>A</td><td>R</td></tr>\n",
       "\t<tr><th scope=row>2</th><td>rs10000031</td><td>-0.0021730771</td><td>0.002620205</td><td>-0.8293539</td><td>0.40721463</td><td>ME_87_5-4:67472593-69475768  </td><td>ME_87</td><td>5</td><td>4:67472593-69475768  </td><td>4</td><td> 67472593</td><td> 69475768</td><td>4</td><td>0</td><td> 68683231</td><td>G</td><td>A</td><td>R</td></tr>\n",
       "\t<tr><th scope=row>3</th><td>rs10000031</td><td> 0.0003155103</td><td>0.002484468</td><td> 0.1269931</td><td>0.89895231</td><td>ME_87_2-4:67472593-69475768  </td><td>ME_87</td><td>2</td><td>4:67472593-69475768  </td><td>4</td><td> 67472593</td><td> 69475768</td><td>4</td><td>0</td><td> 68683231</td><td>G</td><td>A</td><td>R</td></tr>\n",
       "\t<tr><th scope=row>4</th><td>rs10000031</td><td> 0.0010224658</td><td>0.002528719</td><td> 0.4043415</td><td>0.68610817</td><td>ME_87_3-4:67472593-69475768  </td><td>ME_87</td><td>3</td><td>4:67472593-69475768  </td><td>4</td><td> 67472593</td><td> 69475768</td><td>4</td><td>0</td><td> 68683231</td><td>G</td><td>A</td><td>R</td></tr>\n",
       "\t<tr><th scope=row>5</th><td>rs10000031</td><td> 0.0025630543</td><td>0.002457255</td><td> 1.0430561</td><td>0.29739909</td><td>ME_87_4-4:67472593-69475768  </td><td>ME_87</td><td>4</td><td>4:67472593-69475768  </td><td>4</td><td> 67472593</td><td> 69475768</td><td>4</td><td>0</td><td> 68683231</td><td>G</td><td>A</td><td>R</td></tr>\n",
       "\t<tr><th scope=row>6</th><td>rs10000051</td><td>-0.0016114074</td><td>0.001729396</td><td>-0.9317744</td><td>0.35160254</td><td>ME_86_5-4:117564190-120834939</td><td>ME_86</td><td>5</td><td>4:117564190-120834939</td><td>4</td><td>117564190</td><td>120834939</td><td>4</td><td>0</td><td>120370537</td><td>T</td><td>C</td><td>Y</td></tr>\n",
       "</tbody>\n",
       "</table>\n"
      ],
      "text/latex": [
       "A data.frame: 6 × 18\n",
       "\\begin{tabular}{r|llllllllllllllllll}\n",
       "  & snp & beta & se & t & p & module.qtl & module & pc & qtl.locus & qtl.locus.chr & qtl.locus.start & qtl.locus.end & chr & cM & pos & minor\\_allele & major\\_allele & IUPAC\\\\\n",
       "  & <chr> & <dbl> & <dbl> & <dbl> & <dbl> & <chr> & <chr> & <chr> & <chr> & <chr> & <dbl> & <dbl> & <chr> & <int> & <int> & <chr> & <chr> & <chr>\\\\\n",
       "\\hline\n",
       "\t1 & rs10000031 &  0.0019267651 & 0.001094589 &  1.7602633 & 0.07874832 & ME\\_87\\_1-4:67472593-69475768   & ME\\_87 & 1 & 4:67472593-69475768   & 4 &  67472593 &  69475768 & 4 & 0 &  68683231 & G & A & R\\\\\n",
       "\t2 & rs10000031 & -0.0021730771 & 0.002620205 & -0.8293539 & 0.40721463 & ME\\_87\\_5-4:67472593-69475768   & ME\\_87 & 5 & 4:67472593-69475768   & 4 &  67472593 &  69475768 & 4 & 0 &  68683231 & G & A & R\\\\\n",
       "\t3 & rs10000031 &  0.0003155103 & 0.002484468 &  0.1269931 & 0.89895231 & ME\\_87\\_2-4:67472593-69475768   & ME\\_87 & 2 & 4:67472593-69475768   & 4 &  67472593 &  69475768 & 4 & 0 &  68683231 & G & A & R\\\\\n",
       "\t4 & rs10000031 &  0.0010224658 & 0.002528719 &  0.4043415 & 0.68610817 & ME\\_87\\_3-4:67472593-69475768   & ME\\_87 & 3 & 4:67472593-69475768   & 4 &  67472593 &  69475768 & 4 & 0 &  68683231 & G & A & R\\\\\n",
       "\t5 & rs10000031 &  0.0025630543 & 0.002457255 &  1.0430561 & 0.29739909 & ME\\_87\\_4-4:67472593-69475768   & ME\\_87 & 4 & 4:67472593-69475768   & 4 &  67472593 &  69475768 & 4 & 0 &  68683231 & G & A & R\\\\\n",
       "\t6 & rs10000051 & -0.0016114074 & 0.001729396 & -0.9317744 & 0.35160254 & ME\\_86\\_5-4:117564190-120834939 & ME\\_86 & 5 & 4:117564190-120834939 & 4 & 117564190 & 120834939 & 4 & 0 & 120370537 & T & C & Y\\\\\n",
       "\\end{tabular}\n"
      ],
      "text/markdown": [
       "\n",
       "A data.frame: 6 × 18\n",
       "\n",
       "| <!--/--> | snp &lt;chr&gt; | beta &lt;dbl&gt; | se &lt;dbl&gt; | t &lt;dbl&gt; | p &lt;dbl&gt; | module.qtl &lt;chr&gt; | module &lt;chr&gt; | pc &lt;chr&gt; | qtl.locus &lt;chr&gt; | qtl.locus.chr &lt;chr&gt; | qtl.locus.start &lt;dbl&gt; | qtl.locus.end &lt;dbl&gt; | chr &lt;chr&gt; | cM &lt;int&gt; | pos &lt;int&gt; | minor_allele &lt;chr&gt; | major_allele &lt;chr&gt; | IUPAC &lt;chr&gt; |\n",
       "|---|---|---|---|---|---|---|---|---|---|---|---|---|---|---|---|---|---|---|\n",
       "| 1 | rs10000031 |  0.0019267651 | 0.001094589 |  1.7602633 | 0.07874832 | ME_87_1-4:67472593-69475768   | ME_87 | 1 | 4:67472593-69475768   | 4 |  67472593 |  69475768 | 4 | 0 |  68683231 | G | A | R |\n",
       "| 2 | rs10000031 | -0.0021730771 | 0.002620205 | -0.8293539 | 0.40721463 | ME_87_5-4:67472593-69475768   | ME_87 | 5 | 4:67472593-69475768   | 4 |  67472593 |  69475768 | 4 | 0 |  68683231 | G | A | R |\n",
       "| 3 | rs10000031 |  0.0003155103 | 0.002484468 |  0.1269931 | 0.89895231 | ME_87_2-4:67472593-69475768   | ME_87 | 2 | 4:67472593-69475768   | 4 |  67472593 |  69475768 | 4 | 0 |  68683231 | G | A | R |\n",
       "| 4 | rs10000031 |  0.0010224658 | 0.002528719 |  0.4043415 | 0.68610817 | ME_87_3-4:67472593-69475768   | ME_87 | 3 | 4:67472593-69475768   | 4 |  67472593 |  69475768 | 4 | 0 |  68683231 | G | A | R |\n",
       "| 5 | rs10000031 |  0.0025630543 | 0.002457255 |  1.0430561 | 0.29739909 | ME_87_4-4:67472593-69475768   | ME_87 | 4 | 4:67472593-69475768   | 4 |  67472593 |  69475768 | 4 | 0 |  68683231 | G | A | R |\n",
       "| 6 | rs10000051 | -0.0016114074 | 0.001729396 | -0.9317744 | 0.35160254 | ME_86_5-4:117564190-120834939 | ME_86 | 5 | 4:117564190-120834939 | 4 | 117564190 | 120834939 | 4 | 0 | 120370537 | T | C | Y |\n",
       "\n"
      ],
      "text/plain": [
       "  snp        beta          se          t          p         \n",
       "1 rs10000031  0.0019267651 0.001094589  1.7602633 0.07874832\n",
       "2 rs10000031 -0.0021730771 0.002620205 -0.8293539 0.40721463\n",
       "3 rs10000031  0.0003155103 0.002484468  0.1269931 0.89895231\n",
       "4 rs10000031  0.0010224658 0.002528719  0.4043415 0.68610817\n",
       "5 rs10000031  0.0025630543 0.002457255  1.0430561 0.29739909\n",
       "6 rs10000051 -0.0016114074 0.001729396 -0.9317744 0.35160254\n",
       "  module.qtl                    module pc qtl.locus             qtl.locus.chr\n",
       "1 ME_87_1-4:67472593-69475768   ME_87  1  4:67472593-69475768   4            \n",
       "2 ME_87_5-4:67472593-69475768   ME_87  5  4:67472593-69475768   4            \n",
       "3 ME_87_2-4:67472593-69475768   ME_87  2  4:67472593-69475768   4            \n",
       "4 ME_87_3-4:67472593-69475768   ME_87  3  4:67472593-69475768   4            \n",
       "5 ME_87_4-4:67472593-69475768   ME_87  4  4:67472593-69475768   4            \n",
       "6 ME_86_5-4:117564190-120834939 ME_86  5  4:117564190-120834939 4            \n",
       "  qtl.locus.start qtl.locus.end chr cM pos       minor_allele major_allele\n",
       "1  67472593        69475768     4   0   68683231 G            A           \n",
       "2  67472593        69475768     4   0   68683231 G            A           \n",
       "3  67472593        69475768     4   0   68683231 G            A           \n",
       "4  67472593        69475768     4   0   68683231 G            A           \n",
       "5  67472593        69475768     4   0   68683231 G            A           \n",
       "6 117564190       120834939     4   0  120370537 T            C           \n",
       "  IUPAC\n",
       "1 R    \n",
       "2 R    \n",
       "3 R    \n",
       "4 R    \n",
       "5 R    \n",
       "6 Y    "
      ]
     },
     "metadata": {},
     "output_type": "display_data"
    }
   ],
   "source": [
    "head(module.qtl.sum)"
   ]
  },
  {
   "cell_type": "code",
   "execution_count": 6,
   "id": "4aa2baaf-e2a4-4ed7-a90b-c65215980170",
   "metadata": {},
   "outputs": [],
   "source": [
    "mqtl.geno <- fread(\"~/gains_team282/nikhil/data/genotypes/eigengene_sva_ss_genotypes.raw\", sep=\" \", drop=2:6) %>%\n",
    "    as.data.frame()\n",
    "\n",
    "rownames(mqtl.geno) <- mqtl.geno$FID\n",
    "mqtl.geno$FID <- NULL\n",
    "colnames(mqtl.geno) <- gsub(\"_.*$\", \"\", colnames(mqtl.geno))"
   ]
  },
  {
   "cell_type": "markdown",
   "id": "f338180f-2082-4e1c-84b0-6acd579c9e57",
   "metadata": {},
   "source": [
    "## Load Module Eigengenes"
   ]
  },
  {
   "cell_type": "code",
   "execution_count": 7,
   "id": "18044675-d91a-49ba-a8e8-edb49f289724",
   "metadata": {},
   "outputs": [],
   "source": [
    "eigengenes <- read.csv(\"~/gains_team282/nikhil/expression/gene_expression/eigengenes.multiple.csv\", row.names=1)"
   ]
  },
  {
   "cell_type": "code",
   "execution_count": 8,
   "id": "9a3c0632-b947-482a-8f12-35ae3de9b0e4",
   "metadata": {},
   "outputs": [
    {
     "data": {
      "text/html": [
       "<table class=\"dataframe\">\n",
       "<caption>A data.frame: 6 × 530</caption>\n",
       "<thead>\n",
       "\t<tr><th></th><th scope=col>ME_1_1</th><th scope=col>ME_1_2</th><th scope=col>ME_1_3</th><th scope=col>ME_1_4</th><th scope=col>ME_1_5</th><th scope=col>ME_2_1</th><th scope=col>ME_2_2</th><th scope=col>ME_2_3</th><th scope=col>ME_2_4</th><th scope=col>ME_2_5</th><th scope=col>⋯</th><th scope=col>ME_105_1</th><th scope=col>ME_105_2</th><th scope=col>ME_105_3</th><th scope=col>ME_105_4</th><th scope=col>ME_105_5</th><th scope=col>ME_106_1</th><th scope=col>ME_106_2</th><th scope=col>ME_106_3</th><th scope=col>ME_106_4</th><th scope=col>ME_106_5</th></tr>\n",
       "\t<tr><th></th><th scope=col>&lt;dbl&gt;</th><th scope=col>&lt;dbl&gt;</th><th scope=col>&lt;dbl&gt;</th><th scope=col>&lt;dbl&gt;</th><th scope=col>&lt;dbl&gt;</th><th scope=col>&lt;dbl&gt;</th><th scope=col>&lt;dbl&gt;</th><th scope=col>&lt;dbl&gt;</th><th scope=col>&lt;dbl&gt;</th><th scope=col>&lt;dbl&gt;</th><th scope=col>⋯</th><th scope=col>&lt;dbl&gt;</th><th scope=col>&lt;dbl&gt;</th><th scope=col>&lt;dbl&gt;</th><th scope=col>&lt;dbl&gt;</th><th scope=col>&lt;dbl&gt;</th><th scope=col>&lt;dbl&gt;</th><th scope=col>&lt;dbl&gt;</th><th scope=col>&lt;dbl&gt;</th><th scope=col>&lt;dbl&gt;</th><th scope=col>&lt;dbl&gt;</th></tr>\n",
       "</thead>\n",
       "<tbody>\n",
       "\t<tr><th scope=row>UK02270173_3</th><td> 0.008640296</td><td>-0.04165815</td><td> 0.027430556</td><td>-0.020437463</td><td> 0.018138657</td><td> 0.007926439</td><td>-0.03881513</td><td> 0.03058366</td><td>-0.014329184</td><td> 0.009126178</td><td>⋯</td><td> 0.033258706</td><td> 0.010337824</td><td> 0.031572946</td><td> 0.0308363822</td><td>-0.01556043</td><td>-0.003317747</td><td> 0.01850385</td><td> 0.001776021</td><td> 0.034254655</td><td> 0.002439359</td></tr>\n",
       "\t<tr><th scope=row>UK15130120_3</th><td>-0.037073495</td><td>-0.01795641</td><td>-0.007283072</td><td>-0.026494085</td><td> 0.003339612</td><td>-0.033179470</td><td>-0.01991901</td><td>-0.01688432</td><td>-0.014852805</td><td> 0.049310271</td><td>⋯</td><td> 0.051184001</td><td>-0.001611603</td><td> 0.005624913</td><td> 0.0273538940</td><td>-0.03670228</td><td>-0.012327128</td><td> 0.04405671</td><td> 0.013144923</td><td> 0.017987682</td><td>-0.001779326</td></tr>\n",
       "\t<tr><th scope=row>UK58000006_3</th><td> 0.029670524</td><td>-0.03481715</td><td> 0.028491140</td><td>-0.009483861</td><td>-0.005862293</td><td> 0.021490110</td><td>-0.03480085</td><td> 0.03014656</td><td>-0.003961906</td><td>-0.032946862</td><td>⋯</td><td>-0.006622840</td><td>-0.045791646</td><td> 0.033491934</td><td>-0.0420056572</td><td> 0.02749077</td><td>-0.004740631</td><td> 0.04638229</td><td>-0.043309799</td><td> 0.028730908</td><td>-0.024051766</td></tr>\n",
       "\t<tr><th scope=row>UK47010004_3</th><td> 0.011954974</td><td> 0.01091971</td><td> 0.038665347</td><td> 0.003726632</td><td> 0.052019153</td><td> 0.007360515</td><td> 0.01763746</td><td> 0.03490663</td><td>-0.005573984</td><td>-0.016190548</td><td>⋯</td><td>-0.003072117</td><td>-0.010005728</td><td> 0.019263388</td><td> 0.0009626484</td><td> 0.06116524</td><td> 0.012014706</td><td> 0.01637633</td><td>-0.003045472</td><td>-0.018223178</td><td>-0.020637855</td></tr>\n",
       "\t<tr><th scope=row>UK42020088_5</th><td> 0.009818957</td><td> 0.02100233</td><td>-0.019852180</td><td>-0.013052613</td><td>-0.030223051</td><td> 0.008322535</td><td> 0.01712902</td><td>-0.02394729</td><td> 0.003193689</td><td> 0.019716419</td><td>⋯</td><td>-0.032697222</td><td>-0.001257679</td><td>-0.019760950</td><td>-0.0079000979</td><td> 0.02988006</td><td> 0.007915598</td><td>-0.01649680</td><td> 0.013250580</td><td>-0.031445321</td><td>-0.014168970</td></tr>\n",
       "\t<tr><th scope=row>UK47490007_3</th><td>-0.021930377</td><td> 0.03807246</td><td> 0.042329128</td><td>-0.025160071</td><td> 0.012732846</td><td>-0.024756322</td><td> 0.03899339</td><td> 0.03987212</td><td>-0.030754242</td><td> 0.038550679</td><td>⋯</td><td>-0.003607270</td><td> 0.043079589</td><td> 0.025888343</td><td> 0.0413386960</td><td> 0.04360340</td><td> 0.024871961</td><td>-0.03349057</td><td> 0.029665102</td><td>-0.009251542</td><td>-0.052908888</td></tr>\n",
       "</tbody>\n",
       "</table>\n"
      ],
      "text/latex": [
       "A data.frame: 6 × 530\n",
       "\\begin{tabular}{r|lllllllllllllllllllll}\n",
       "  & ME\\_1\\_1 & ME\\_1\\_2 & ME\\_1\\_3 & ME\\_1\\_4 & ME\\_1\\_5 & ME\\_2\\_1 & ME\\_2\\_2 & ME\\_2\\_3 & ME\\_2\\_4 & ME\\_2\\_5 & ⋯ & ME\\_105\\_1 & ME\\_105\\_2 & ME\\_105\\_3 & ME\\_105\\_4 & ME\\_105\\_5 & ME\\_106\\_1 & ME\\_106\\_2 & ME\\_106\\_3 & ME\\_106\\_4 & ME\\_106\\_5\\\\\n",
       "  & <dbl> & <dbl> & <dbl> & <dbl> & <dbl> & <dbl> & <dbl> & <dbl> & <dbl> & <dbl> & ⋯ & <dbl> & <dbl> & <dbl> & <dbl> & <dbl> & <dbl> & <dbl> & <dbl> & <dbl> & <dbl>\\\\\n",
       "\\hline\n",
       "\tUK02270173\\_3 &  0.008640296 & -0.04165815 &  0.027430556 & -0.020437463 &  0.018138657 &  0.007926439 & -0.03881513 &  0.03058366 & -0.014329184 &  0.009126178 & ⋯ &  0.033258706 &  0.010337824 &  0.031572946 &  0.0308363822 & -0.01556043 & -0.003317747 &  0.01850385 &  0.001776021 &  0.034254655 &  0.002439359\\\\\n",
       "\tUK15130120\\_3 & -0.037073495 & -0.01795641 & -0.007283072 & -0.026494085 &  0.003339612 & -0.033179470 & -0.01991901 & -0.01688432 & -0.014852805 &  0.049310271 & ⋯ &  0.051184001 & -0.001611603 &  0.005624913 &  0.0273538940 & -0.03670228 & -0.012327128 &  0.04405671 &  0.013144923 &  0.017987682 & -0.001779326\\\\\n",
       "\tUK58000006\\_3 &  0.029670524 & -0.03481715 &  0.028491140 & -0.009483861 & -0.005862293 &  0.021490110 & -0.03480085 &  0.03014656 & -0.003961906 & -0.032946862 & ⋯ & -0.006622840 & -0.045791646 &  0.033491934 & -0.0420056572 &  0.02749077 & -0.004740631 &  0.04638229 & -0.043309799 &  0.028730908 & -0.024051766\\\\\n",
       "\tUK47010004\\_3 &  0.011954974 &  0.01091971 &  0.038665347 &  0.003726632 &  0.052019153 &  0.007360515 &  0.01763746 &  0.03490663 & -0.005573984 & -0.016190548 & ⋯ & -0.003072117 & -0.010005728 &  0.019263388 &  0.0009626484 &  0.06116524 &  0.012014706 &  0.01637633 & -0.003045472 & -0.018223178 & -0.020637855\\\\\n",
       "\tUK42020088\\_5 &  0.009818957 &  0.02100233 & -0.019852180 & -0.013052613 & -0.030223051 &  0.008322535 &  0.01712902 & -0.02394729 &  0.003193689 &  0.019716419 & ⋯ & -0.032697222 & -0.001257679 & -0.019760950 & -0.0079000979 &  0.02988006 &  0.007915598 & -0.01649680 &  0.013250580 & -0.031445321 & -0.014168970\\\\\n",
       "\tUK47490007\\_3 & -0.021930377 &  0.03807246 &  0.042329128 & -0.025160071 &  0.012732846 & -0.024756322 &  0.03899339 &  0.03987212 & -0.030754242 &  0.038550679 & ⋯ & -0.003607270 &  0.043079589 &  0.025888343 &  0.0413386960 &  0.04360340 &  0.024871961 & -0.03349057 &  0.029665102 & -0.009251542 & -0.052908888\\\\\n",
       "\\end{tabular}\n"
      ],
      "text/markdown": [
       "\n",
       "A data.frame: 6 × 530\n",
       "\n",
       "| <!--/--> | ME_1_1 &lt;dbl&gt; | ME_1_2 &lt;dbl&gt; | ME_1_3 &lt;dbl&gt; | ME_1_4 &lt;dbl&gt; | ME_1_5 &lt;dbl&gt; | ME_2_1 &lt;dbl&gt; | ME_2_2 &lt;dbl&gt; | ME_2_3 &lt;dbl&gt; | ME_2_4 &lt;dbl&gt; | ME_2_5 &lt;dbl&gt; | ⋯ ⋯ | ME_105_1 &lt;dbl&gt; | ME_105_2 &lt;dbl&gt; | ME_105_3 &lt;dbl&gt; | ME_105_4 &lt;dbl&gt; | ME_105_5 &lt;dbl&gt; | ME_106_1 &lt;dbl&gt; | ME_106_2 &lt;dbl&gt; | ME_106_3 &lt;dbl&gt; | ME_106_4 &lt;dbl&gt; | ME_106_5 &lt;dbl&gt; |\n",
       "|---|---|---|---|---|---|---|---|---|---|---|---|---|---|---|---|---|---|---|---|---|---|\n",
       "| UK02270173_3 |  0.008640296 | -0.04165815 |  0.027430556 | -0.020437463 |  0.018138657 |  0.007926439 | -0.03881513 |  0.03058366 | -0.014329184 |  0.009126178 | ⋯ |  0.033258706 |  0.010337824 |  0.031572946 |  0.0308363822 | -0.01556043 | -0.003317747 |  0.01850385 |  0.001776021 |  0.034254655 |  0.002439359 |\n",
       "| UK15130120_3 | -0.037073495 | -0.01795641 | -0.007283072 | -0.026494085 |  0.003339612 | -0.033179470 | -0.01991901 | -0.01688432 | -0.014852805 |  0.049310271 | ⋯ |  0.051184001 | -0.001611603 |  0.005624913 |  0.0273538940 | -0.03670228 | -0.012327128 |  0.04405671 |  0.013144923 |  0.017987682 | -0.001779326 |\n",
       "| UK58000006_3 |  0.029670524 | -0.03481715 |  0.028491140 | -0.009483861 | -0.005862293 |  0.021490110 | -0.03480085 |  0.03014656 | -0.003961906 | -0.032946862 | ⋯ | -0.006622840 | -0.045791646 |  0.033491934 | -0.0420056572 |  0.02749077 | -0.004740631 |  0.04638229 | -0.043309799 |  0.028730908 | -0.024051766 |\n",
       "| UK47010004_3 |  0.011954974 |  0.01091971 |  0.038665347 |  0.003726632 |  0.052019153 |  0.007360515 |  0.01763746 |  0.03490663 | -0.005573984 | -0.016190548 | ⋯ | -0.003072117 | -0.010005728 |  0.019263388 |  0.0009626484 |  0.06116524 |  0.012014706 |  0.01637633 | -0.003045472 | -0.018223178 | -0.020637855 |\n",
       "| UK42020088_5 |  0.009818957 |  0.02100233 | -0.019852180 | -0.013052613 | -0.030223051 |  0.008322535 |  0.01712902 | -0.02394729 |  0.003193689 |  0.019716419 | ⋯ | -0.032697222 | -0.001257679 | -0.019760950 | -0.0079000979 |  0.02988006 |  0.007915598 | -0.01649680 |  0.013250580 | -0.031445321 | -0.014168970 |\n",
       "| UK47490007_3 | -0.021930377 |  0.03807246 |  0.042329128 | -0.025160071 |  0.012732846 | -0.024756322 |  0.03899339 |  0.03987212 | -0.030754242 |  0.038550679 | ⋯ | -0.003607270 |  0.043079589 |  0.025888343 |  0.0413386960 |  0.04360340 |  0.024871961 | -0.03349057 |  0.029665102 | -0.009251542 | -0.052908888 |\n",
       "\n"
      ],
      "text/plain": [
       "             ME_1_1       ME_1_2      ME_1_3       ME_1_4       ME_1_5      \n",
       "UK02270173_3  0.008640296 -0.04165815  0.027430556 -0.020437463  0.018138657\n",
       "UK15130120_3 -0.037073495 -0.01795641 -0.007283072 -0.026494085  0.003339612\n",
       "UK58000006_3  0.029670524 -0.03481715  0.028491140 -0.009483861 -0.005862293\n",
       "UK47010004_3  0.011954974  0.01091971  0.038665347  0.003726632  0.052019153\n",
       "UK42020088_5  0.009818957  0.02100233 -0.019852180 -0.013052613 -0.030223051\n",
       "UK47490007_3 -0.021930377  0.03807246  0.042329128 -0.025160071  0.012732846\n",
       "             ME_2_1       ME_2_2      ME_2_3      ME_2_4       ME_2_5       ⋯\n",
       "UK02270173_3  0.007926439 -0.03881513  0.03058366 -0.014329184  0.009126178 ⋯\n",
       "UK15130120_3 -0.033179470 -0.01991901 -0.01688432 -0.014852805  0.049310271 ⋯\n",
       "UK58000006_3  0.021490110 -0.03480085  0.03014656 -0.003961906 -0.032946862 ⋯\n",
       "UK47010004_3  0.007360515  0.01763746  0.03490663 -0.005573984 -0.016190548 ⋯\n",
       "UK42020088_5  0.008322535  0.01712902 -0.02394729  0.003193689  0.019716419 ⋯\n",
       "UK47490007_3 -0.024756322  0.03899339  0.03987212 -0.030754242  0.038550679 ⋯\n",
       "             ME_105_1     ME_105_2     ME_105_3     ME_105_4      ME_105_5   \n",
       "UK02270173_3  0.033258706  0.010337824  0.031572946  0.0308363822 -0.01556043\n",
       "UK15130120_3  0.051184001 -0.001611603  0.005624913  0.0273538940 -0.03670228\n",
       "UK58000006_3 -0.006622840 -0.045791646  0.033491934 -0.0420056572  0.02749077\n",
       "UK47010004_3 -0.003072117 -0.010005728  0.019263388  0.0009626484  0.06116524\n",
       "UK42020088_5 -0.032697222 -0.001257679 -0.019760950 -0.0079000979  0.02988006\n",
       "UK47490007_3 -0.003607270  0.043079589  0.025888343  0.0413386960  0.04360340\n",
       "             ME_106_1     ME_106_2    ME_106_3     ME_106_4     ME_106_5    \n",
       "UK02270173_3 -0.003317747  0.01850385  0.001776021  0.034254655  0.002439359\n",
       "UK15130120_3 -0.012327128  0.04405671  0.013144923  0.017987682 -0.001779326\n",
       "UK58000006_3 -0.004740631  0.04638229 -0.043309799  0.028730908 -0.024051766\n",
       "UK47010004_3  0.012014706  0.01637633 -0.003045472 -0.018223178 -0.020637855\n",
       "UK42020088_5  0.007915598 -0.01649680  0.013250580 -0.031445321 -0.014168970\n",
       "UK47490007_3  0.024871961 -0.03349057  0.029665102 -0.009251542 -0.052908888"
      ]
     },
     "metadata": {},
     "output_type": "display_data"
    }
   ],
   "source": [
    "head(eigengenes)"
   ]
  },
  {
   "cell_type": "markdown",
   "id": "8fc48331-f2cd-49b8-a88a-656f9e272ec4",
   "metadata": {},
   "source": [
    "## Load EBI SNPs that are Module QTL"
   ]
  },
  {
   "cell_type": "code",
   "execution_count": 9,
   "id": "f5c00e33-de5d-4f2d-aca1-574868fa87c1",
   "metadata": {},
   "outputs": [],
   "source": [
    "ebi.mqtl <- read.csv(\"~/gains_team282/nikhil/expression/eigengene_sva/mqtl_all_pcs_ebi_snps.csv\", row.names=1)"
   ]
  },
  {
   "cell_type": "markdown",
   "id": "03ba7878-d075-492c-891a-394028a7fc98",
   "metadata": {
    "jp-MarkdownHeadingCollapsed": true,
    "tags": []
   },
   "source": [
    "## C-Reactive Proteins\n",
    "\n",
    "**Study**: [GCST009777](https://www.ebi.ac.uk/gwas/studies/GCST009777)"
   ]
  },
  {
   "cell_type": "code",
   "execution_count": 112,
   "id": "bc77e961-e645-44ac-8af0-9adbdd53dc8e",
   "metadata": {},
   "outputs": [],
   "source": [
    "c.prot <- fread(\"~/gains_team282/nikhil/data/EBI_GWAS_Catalog/CRP_all_SNPs.txt\", sep=\",\")"
   ]
  },
  {
   "cell_type": "code",
   "execution_count": 113,
   "id": "0ff4b6f8-fe80-4e28-9fef-9498a6f15aff",
   "metadata": {
    "tags": []
   },
   "outputs": [],
   "source": [
    "c.prot.me <- ebi.mqtl %>%\n",
    "    dplyr::filter(accession == \"GCST009777\")\n",
    "\n",
    "c.prot.snps <- unique(c.prot.me$snp)"
   ]
  },
  {
   "cell_type": "code",
   "execution_count": 114,
   "id": "8aea4850-dc55-4d82-bb6a-aff31c34315e",
   "metadata": {},
   "outputs": [],
   "source": [
    "module.qtl.set <- module.qtl.sum %>%\n",
    "    dplyr::filter(snp %in% c.prot.snps)\n",
    "\n",
    "module.qtl.set <- unique(module.qtl.set$module.qtl)"
   ]
  },
  {
   "cell_type": "code",
   "execution_count": 115,
   "id": "ae13c6cf-1f49-4a1b-b538-93df90822b58",
   "metadata": {},
   "outputs": [],
   "source": [
    "all.snps <- module.qtl.sum %>%\n",
    "    dplyr::filter(module.qtl %in% module.qtl.set)\n",
    "\n",
    "all.snps <- all.snps$snp\n",
    "\n",
    "c.prot <- c.prot %>%\n",
    "    dplyr::filter(SNP %in% all.snps) %>%\n",
    "    dplyr::mutate(IUPAC = alleles.iupac(ALLELE1, ALLELE0))"
   ]
  },
  {
   "cell_type": "code",
   "execution_count": 120,
   "id": "f0a560ac-aaa5-4ade-bf24-f5335739e681",
   "metadata": {},
   "outputs": [],
   "source": [
    "c.prot.coloc <- lapply(module.qtl.set, function(module.qtl.id) {\n",
    " \n",
    "    module.id = gsub(\"-.*\", \"\", module.qtl.id)\n",
    "    \n",
    "    mqtl.locus.info = module.qtl.sum %>%\n",
    "        dplyr::filter(module.qtl == module.qtl.id) %>%\n",
    "        dplyr::select(m.snp = snp, m.beta=beta, m.se=se, m.pos=pos, major_allele, minor_allele, IUPAC)\n",
    "    \n",
    "    all.info = c.prot %>%\n",
    "        dplyr::filter(SNP %in% mqtl.locus.info$m.snp) %>%\n",
    "        merge(\n",
    "            ., mqtl.locus.info, \n",
    "            by.x=c(\"SNP\", \"IUPAC\"),\n",
    "            by.y=c(\"m.snp\", \"IUPAC\"),\n",
    "        ) %>%\n",
    "        dplyr::select(snp=SNP, m.beta, m.se, pos=m.pos, g.beta=BETA, g.se=SE, g.maf=A1FREQ) %>%\n",
    "        dplyr::mutate(g.maf = sapply(g.maf, function(p) { min(p, 1 - p) }))\n",
    "    \n",
    "    module.qtl = list()\n",
    "    module.qtl$beta = all.info$m.beta\n",
    "    module.qtl$varbeta = all.info$m.se^2\n",
    "    module.qtl$snp = all.info$snp\n",
    "    module.qtl$position = all.info$pos\n",
    "    module.qtl$type = \"quant\"\n",
    "    module.qtl$sdY = sd(eigengenes[, module.id], na.rm=TRUE)\n",
    "    \n",
    "    N = 418642\n",
    "    \n",
    "    gwas.assoc = list()\n",
    "    gwas.assoc$beta = all.info$g.beta\n",
    "    gwas.assoc$varbeta = all.info$g.se^2\n",
    "    gwas.assoc$snp = all.info$snp\n",
    "    gwas.assoc$position = all.info$pos\n",
    "    gwas.assoc$type = \"quant\"\n",
    "    gwas.assoc$N = N\n",
    "    gwas.assoc$MAF = all.info$g.maf\n",
    "    \n",
    "    log = capture.output({\n",
    "        abf.res = suppressWarnings(coloc.abf(gwas.assoc, module.qtl))\n",
    "    })\n",
    "    \n",
    "    data.frame(t(abf.res$summary)) %>%\n",
    "        dplyr::mutate(Module.QTL = module.qtl.id)\n",
    "}) %>%\n",
    "    do.call(rbind, .) %>%\n",
    "    dplyr::mutate(PP3plusPP4 = PP.H3.abf + PP.H4.abf) %>%\n",
    "    dplyr::mutate(COLOC.Factor = PP.H4.abf / PP3plusPP4) %>%\n",
    "    dplyr::mutate(Colocalise = (PP3plusPP4 > 0.25) & (COLOC.Factor > 0.7))"
   ]
  },
  {
   "cell_type": "code",
   "execution_count": 121,
   "id": "2b738bcc-49a9-4fce-8690-0a6f7375ae37",
   "metadata": {},
   "outputs": [
    {
     "data": {
      "text/html": [
       "<table class=\"dataframe\">\n",
       "<caption>A data.frame: 6 × 10</caption>\n",
       "<thead>\n",
       "\t<tr><th></th><th scope=col>nsnps</th><th scope=col>PP.H0.abf</th><th scope=col>PP.H1.abf</th><th scope=col>PP.H2.abf</th><th scope=col>PP.H3.abf</th><th scope=col>PP.H4.abf</th><th scope=col>Module.QTL</th><th scope=col>PP3plusPP4</th><th scope=col>COLOC.Factor</th><th scope=col>Colocalise</th></tr>\n",
       "\t<tr><th></th><th scope=col>&lt;dbl&gt;</th><th scope=col>&lt;dbl&gt;</th><th scope=col>&lt;dbl&gt;</th><th scope=col>&lt;dbl&gt;</th><th scope=col>&lt;dbl&gt;</th><th scope=col>&lt;dbl&gt;</th><th scope=col>&lt;chr&gt;</th><th scope=col>&lt;dbl&gt;</th><th scope=col>&lt;dbl&gt;</th><th scope=col>&lt;lgl&gt;</th></tr>\n",
       "</thead>\n",
       "<tbody>\n",
       "\t<tr><th scope=row>1</th><td>28239</td><td>4.332640e-73</td><td>4.458370e-73</td><td>0.4108150</td><td>0.4227156</td><td>0.16646937</td><td>ME_84_4-6:28836283-33995104  </td><td>0.5891850</td><td>0.2825418</td><td>FALSE</td></tr>\n",
       "\t<tr><th scope=row>2</th><td>28239</td><td>1.789930e-92</td><td>1.841873e-92</td><td>0.4120240</td><td>0.4239600</td><td>0.16401600</td><td>ME_84_3-6:28836283-33995104  </td><td>0.5879760</td><td>0.2789502</td><td>FALSE</td></tr>\n",
       "\t<tr><th scope=row>3</th><td>28239</td><td>2.906262e-11</td><td>2.990599e-11</td><td>0.4201078</td><td>0.4322805</td><td>0.14761167</td><td>ME_84_5-6:28836283-33995104  </td><td>0.5798922</td><td>0.2545502</td><td>FALSE</td></tr>\n",
       "\t<tr><th scope=row>4</th><td>28239</td><td>6.756476e-76</td><td>6.952543e-76</td><td>0.4290605</td><td>0.4414953</td><td>0.12944417</td><td>ME_84_1-6:28836283-33995104  </td><td>0.5709395</td><td>0.2267214</td><td>FALSE</td></tr>\n",
       "\t<tr><th scope=row>5</th><td>28239</td><td>1.463887e-75</td><td>1.506368e-75</td><td>0.4291153</td><td>0.4415517</td><td>0.12933302</td><td>ME_84_2-6:28836283-33995104  </td><td>0.5708847</td><td>0.2265484</td><td>FALSE</td></tr>\n",
       "\t<tr><th scope=row>6</th><td> 3923</td><td>4.111779e-18</td><td>1.609409e-18</td><td>0.6704128</td><td>0.2623418</td><td>0.06724538</td><td>ME_103_5-12:68275923-70376531</td><td>0.3295872</td><td>0.2040291</td><td>FALSE</td></tr>\n",
       "</tbody>\n",
       "</table>\n"
      ],
      "text/latex": [
       "A data.frame: 6 × 10\n",
       "\\begin{tabular}{r|llllllllll}\n",
       "  & nsnps & PP.H0.abf & PP.H1.abf & PP.H2.abf & PP.H3.abf & PP.H4.abf & Module.QTL & PP3plusPP4 & COLOC.Factor & Colocalise\\\\\n",
       "  & <dbl> & <dbl> & <dbl> & <dbl> & <dbl> & <dbl> & <chr> & <dbl> & <dbl> & <lgl>\\\\\n",
       "\\hline\n",
       "\t1 & 28239 & 4.332640e-73 & 4.458370e-73 & 0.4108150 & 0.4227156 & 0.16646937 & ME\\_84\\_4-6:28836283-33995104   & 0.5891850 & 0.2825418 & FALSE\\\\\n",
       "\t2 & 28239 & 1.789930e-92 & 1.841873e-92 & 0.4120240 & 0.4239600 & 0.16401600 & ME\\_84\\_3-6:28836283-33995104   & 0.5879760 & 0.2789502 & FALSE\\\\\n",
       "\t3 & 28239 & 2.906262e-11 & 2.990599e-11 & 0.4201078 & 0.4322805 & 0.14761167 & ME\\_84\\_5-6:28836283-33995104   & 0.5798922 & 0.2545502 & FALSE\\\\\n",
       "\t4 & 28239 & 6.756476e-76 & 6.952543e-76 & 0.4290605 & 0.4414953 & 0.12944417 & ME\\_84\\_1-6:28836283-33995104   & 0.5709395 & 0.2267214 & FALSE\\\\\n",
       "\t5 & 28239 & 1.463887e-75 & 1.506368e-75 & 0.4291153 & 0.4415517 & 0.12933302 & ME\\_84\\_2-6:28836283-33995104   & 0.5708847 & 0.2265484 & FALSE\\\\\n",
       "\t6 &  3923 & 4.111779e-18 & 1.609409e-18 & 0.6704128 & 0.2623418 & 0.06724538 & ME\\_103\\_5-12:68275923-70376531 & 0.3295872 & 0.2040291 & FALSE\\\\\n",
       "\\end{tabular}\n"
      ],
      "text/markdown": [
       "\n",
       "A data.frame: 6 × 10\n",
       "\n",
       "| <!--/--> | nsnps &lt;dbl&gt; | PP.H0.abf &lt;dbl&gt; | PP.H1.abf &lt;dbl&gt; | PP.H2.abf &lt;dbl&gt; | PP.H3.abf &lt;dbl&gt; | PP.H4.abf &lt;dbl&gt; | Module.QTL &lt;chr&gt; | PP3plusPP4 &lt;dbl&gt; | COLOC.Factor &lt;dbl&gt; | Colocalise &lt;lgl&gt; |\n",
       "|---|---|---|---|---|---|---|---|---|---|---|\n",
       "| 1 | 28239 | 4.332640e-73 | 4.458370e-73 | 0.4108150 | 0.4227156 | 0.16646937 | ME_84_4-6:28836283-33995104   | 0.5891850 | 0.2825418 | FALSE |\n",
       "| 2 | 28239 | 1.789930e-92 | 1.841873e-92 | 0.4120240 | 0.4239600 | 0.16401600 | ME_84_3-6:28836283-33995104   | 0.5879760 | 0.2789502 | FALSE |\n",
       "| 3 | 28239 | 2.906262e-11 | 2.990599e-11 | 0.4201078 | 0.4322805 | 0.14761167 | ME_84_5-6:28836283-33995104   | 0.5798922 | 0.2545502 | FALSE |\n",
       "| 4 | 28239 | 6.756476e-76 | 6.952543e-76 | 0.4290605 | 0.4414953 | 0.12944417 | ME_84_1-6:28836283-33995104   | 0.5709395 | 0.2267214 | FALSE |\n",
       "| 5 | 28239 | 1.463887e-75 | 1.506368e-75 | 0.4291153 | 0.4415517 | 0.12933302 | ME_84_2-6:28836283-33995104   | 0.5708847 | 0.2265484 | FALSE |\n",
       "| 6 |  3923 | 4.111779e-18 | 1.609409e-18 | 0.6704128 | 0.2623418 | 0.06724538 | ME_103_5-12:68275923-70376531 | 0.3295872 | 0.2040291 | FALSE |\n",
       "\n"
      ],
      "text/plain": [
       "  nsnps PP.H0.abf    PP.H1.abf    PP.H2.abf PP.H3.abf PP.H4.abf \n",
       "1 28239 4.332640e-73 4.458370e-73 0.4108150 0.4227156 0.16646937\n",
       "2 28239 1.789930e-92 1.841873e-92 0.4120240 0.4239600 0.16401600\n",
       "3 28239 2.906262e-11 2.990599e-11 0.4201078 0.4322805 0.14761167\n",
       "4 28239 6.756476e-76 6.952543e-76 0.4290605 0.4414953 0.12944417\n",
       "5 28239 1.463887e-75 1.506368e-75 0.4291153 0.4415517 0.12933302\n",
       "6  3923 4.111779e-18 1.609409e-18 0.6704128 0.2623418 0.06724538\n",
       "  Module.QTL                    PP3plusPP4 COLOC.Factor Colocalise\n",
       "1 ME_84_4-6:28836283-33995104   0.5891850  0.2825418    FALSE     \n",
       "2 ME_84_3-6:28836283-33995104   0.5879760  0.2789502    FALSE     \n",
       "3 ME_84_5-6:28836283-33995104   0.5798922  0.2545502    FALSE     \n",
       "4 ME_84_1-6:28836283-33995104   0.5709395  0.2267214    FALSE     \n",
       "5 ME_84_2-6:28836283-33995104   0.5708847  0.2265484    FALSE     \n",
       "6 ME_103_5-12:68275923-70376531 0.3295872  0.2040291    FALSE     "
      ]
     },
     "metadata": {},
     "output_type": "display_data"
    }
   ],
   "source": [
    "c.prot.coloc %>%\n",
    "    dplyr::filter(PP3plusPP4 > 0.25) %>%\n",
    "    dplyr::arrange(desc(COLOC.Factor)) %>%\n",
    "    head()"
   ]
  },
  {
   "cell_type": "code",
   "execution_count": 122,
   "id": "f9d506b1-cb11-4a33-8a48-677ce12e14c1",
   "metadata": {},
   "outputs": [],
   "source": [
    "rm(c.prot)"
   ]
  },
  {
   "cell_type": "markdown",
   "id": "78fffab4-d657-4330-9107-8203628fdd7c",
   "metadata": {
    "tags": []
   },
   "source": [
    "## Alanine Aminotransferase\n",
    "\n",
    "**Study**: [GCST90013405](https://www.ebi.ac.uk/gwas/studies/GCST90013405)"
   ]
  },
  {
   "cell_type": "code",
   "execution_count": 123,
   "id": "c769215f-3c73-430b-a572-7990d18307f3",
   "metadata": {},
   "outputs": [],
   "source": [
    "ala <- fread(\"~/gains_team282/nikhil/data/EBI_GWAS_Catalog/GCST90013405_buildGRCh37.tsv\", sep=\"\\t\") %>%\n",
    "    as.data.frame()"
   ]
  },
  {
   "cell_type": "code",
   "execution_count": 124,
   "id": "628f9e98-9c0b-45d0-ace8-a8285b3fbc8d",
   "metadata": {
    "tags": []
   },
   "outputs": [],
   "source": [
    "ala.me <- ebi.mqtl %>%\n",
    "    dplyr::filter(accession == \"GCST90013405\")\n",
    "\n",
    "ala.snps <- unique(ala.me$snp)"
   ]
  },
  {
   "cell_type": "code",
   "execution_count": 125,
   "id": "052f448c-eafb-4eba-9411-0b02a9e2d4e6",
   "metadata": {},
   "outputs": [],
   "source": [
    "module.qtl.set <- module.qtl.sum %>%\n",
    "    dplyr::filter(snp %in% ala.snps)\n",
    "\n",
    "module.qtl.set <- unique(module.qtl.set$module.qtl)"
   ]
  },
  {
   "cell_type": "code",
   "execution_count": 126,
   "id": "ce12092b-c641-42d2-9d5b-39c8b03e2ddc",
   "metadata": {},
   "outputs": [],
   "source": [
    "all.snps <- module.qtl.sum %>%\n",
    "    dplyr::filter(module.qtl %in% module.qtl.set) %>%\n",
    "    dplyr::mutate(snpid = paste0(chr, \":\", pos, \"-\", IUPAC)) %>%\n",
    "    dplyr::select(snp, snpid)\n",
    "\n",
    "ala.ranges <- ala %>%\n",
    "    dplyr::mutate(chromosome = paste0(\"chr\", chromosome)) %>%\n",
    "    makeGRangesFromDataFrame(\n",
    "        .,\n",
    "        seqnames.field=\"chromosome\", start.field=\"base_pair_location\", end.field=\"base_pair_location\",\n",
    "        keep.extra.columns=TRUE\n",
    "    )\n",
    "\n",
    "chain = import.chain(\"03_Functional_Interpretation/data/hg19ToHg38.over.chain\")\n",
    "seqlevelsStyle(ala.ranges) = \"UCSC\"\n",
    "ala.ranges.hg38 = liftOver(ala.ranges, chain)\n",
    "\n",
    "overlaps <- module.qtl.sum %>%\n",
    "    dplyr::filter(snp %in% ala.snps) %>%\n",
    "    dplyr::select(qtl.locus.chr, qtl.locus.start, qtl.locus.end) %>%\n",
    "    dplyr::mutate(qtl.locus.chr = paste0(\"chr\", qtl.locus.chr)) %>%\n",
    "    unique() %>%\n",
    "    makeGRangesFromDataFrame(., seqnames.field=\"qtl.locus.chr\", start.field=\"qtl.locus.start\", end.field=\"qtl.locus.end\") %>%\n",
    "    findOverlaps(ala.ranges.hg38, .)\n",
    "\n",
    "ala <- ala.ranges.hg38[overlaps@from, ] %>%\n",
    "    as.data.frame() %>%\n",
    "    dplyr::mutate(IUPAC = alleles.iupac(other_allele, effect_allele)) %>%\n",
    "    dplyr::mutate(seqnames = gsub(\"^chr\", \"\", seqnames)) %>%\n",
    "    dplyr::mutate(snpid = paste0(seqnames, \":\", start, \"-\", IUPAC)) %>%\n",
    "    merge(., all.snps, by=\"snpid\") %>%\n",
    "    dplyr::select(snp, beta, standard_error, effect_allele_frequency, IUPAC) %>%\n",
    "    unique()"
   ]
  },
  {
   "cell_type": "code",
   "execution_count": 127,
   "id": "da1251b7-31ee-4361-9a52-5ee31eed4965",
   "metadata": {},
   "outputs": [],
   "source": [
    "ala.coloc <- lapply(module.qtl.set, function(module.qtl.id) {\n",
    " \n",
    "    module.id = gsub(\"-.*\", \"\", module.qtl.id)\n",
    "    \n",
    "    mqtl.locus.info = module.qtl.sum %>%\n",
    "        dplyr::filter(module.qtl == module.qtl.id) %>%\n",
    "        dplyr::select(m.snp = snp, m.beta=beta, m.se=se, m.pos=pos, major_allele, minor_allele, IUPAC)\n",
    "    \n",
    "    all.info = ala %>%\n",
    "        dplyr::filter(snp %in% mqtl.locus.info$m.snp) %>%\n",
    "        merge(\n",
    "            ., mqtl.locus.info, \n",
    "            by.x=c(\"snp\", \"IUPAC\"),\n",
    "            by.y=c(\"m.snp\", \"IUPAC\"),\n",
    "        ) %>%\n",
    "        dplyr::select(snp=snp, m.beta, m.se, pos=m.pos, g.beta=beta, g.se=standard_error, g.maf=effect_allele_frequency) %>%\n",
    "        dplyr::mutate(g.maf = sapply(g.maf, function(p) { min(p, 1 - p) }))\n",
    "    \n",
    "    module.qtl = list()\n",
    "    module.qtl$beta = all.info$m.beta\n",
    "    module.qtl$varbeta = all.info$m.se^2\n",
    "    module.qtl$snp = all.info$snp\n",
    "    module.qtl$position = all.info$pos\n",
    "    module.qtl$type = \"quant\"\n",
    "    module.qtl$sdY = sd(eigengenes[, module.id], na.rm=TRUE)\n",
    "    \n",
    "    N = 437267\n",
    "    \n",
    "    gwas.assoc = list()\n",
    "    gwas.assoc$beta = all.info$g.beta\n",
    "    gwas.assoc$varbeta = all.info$g.se^2\n",
    "    gwas.assoc$snp = all.info$snp\n",
    "    gwas.assoc$position = all.info$pos\n",
    "    gwas.assoc$type = \"quant\"\n",
    "    gwas.assoc$N = N\n",
    "    gwas.assoc$MAF = all.info$g.maf\n",
    "    \n",
    "    log = capture.output({\n",
    "        abf.res = suppressWarnings(coloc.abf(gwas.assoc, module.qtl))\n",
    "    })\n",
    "    \n",
    "    data.frame(t(abf.res$summary)) %>%\n",
    "        dplyr::mutate(Module.QTL = module.qtl.id)\n",
    "}) %>%\n",
    "    do.call(rbind, .) %>%\n",
    "    dplyr::mutate(PP3plusPP4 = PP.H3.abf + PP.H4.abf) %>%\n",
    "    dplyr::mutate(COLOC.Factor = PP.H4.abf / PP3plusPP4) %>%\n",
    "    dplyr::mutate(Colocalise = (PP3plusPP4 > 0.25) & (COLOC.Factor > 0.7))"
   ]
  },
  {
   "cell_type": "code",
   "execution_count": 130,
   "id": "b75e1b03-e8a3-4c84-918d-f295478767da",
   "metadata": {},
   "outputs": [
    {
     "data": {
      "text/html": [
       "<table class=\"dataframe\">\n",
       "<caption>A data.frame: 6 × 10</caption>\n",
       "<thead>\n",
       "\t<tr><th></th><th scope=col>nsnps</th><th scope=col>PP.H0.abf</th><th scope=col>PP.H1.abf</th><th scope=col>PP.H2.abf</th><th scope=col>PP.H3.abf</th><th scope=col>PP.H4.abf</th><th scope=col>Module.QTL</th><th scope=col>PP3plusPP4</th><th scope=col>COLOC.Factor</th><th scope=col>Colocalise</th></tr>\n",
       "\t<tr><th></th><th scope=col>&lt;dbl&gt;</th><th scope=col>&lt;dbl&gt;</th><th scope=col>&lt;dbl&gt;</th><th scope=col>&lt;dbl&gt;</th><th scope=col>&lt;dbl&gt;</th><th scope=col>&lt;dbl&gt;</th><th scope=col>&lt;chr&gt;</th><th scope=col>&lt;dbl&gt;</th><th scope=col>&lt;dbl&gt;</th><th scope=col>&lt;lgl&gt;</th></tr>\n",
       "</thead>\n",
       "<tbody>\n",
       "\t<tr><th scope=row>1</th><td>2192</td><td>2.247531e-192</td><td>4.782423e-187</td><td>1.559584e-07</td><td>0.03221793</td><td>0.9677819</td><td>ME_101_3-12:54985643-57100037</td><td>0.9999998</td><td>0.96778207</td><td> TRUE</td></tr>\n",
       "\t<tr><th scope=row>2</th><td>2192</td><td> 8.292256e-33</td><td> 1.764473e-27</td><td>2.047348e-07</td><td>0.04260723</td><td>0.9573926</td><td>ME_101_1-12:54985643-57100037</td><td>0.9999998</td><td>0.95739276</td><td> TRUE</td></tr>\n",
       "\t<tr><th scope=row>3</th><td>2192</td><td> 1.162068e-18</td><td> 2.472713e-13</td><td>2.192277e-07</td><td>0.04569418</td><td>0.9543056</td><td>ME_101_4-12:54985643-57100037</td><td>0.9999998</td><td>0.95430581</td><td> TRUE</td></tr>\n",
       "\t<tr><th scope=row>4</th><td>2192</td><td> 3.386816e-42</td><td> 7.206657e-37</td><td>3.166564e-07</td><td>0.06644637</td><td>0.9335533</td><td>ME_101_2-12:54985643-57100037</td><td>0.9999997</td><td>0.93355361</td><td> TRUE</td></tr>\n",
       "\t<tr><th scope=row>5</th><td>2192</td><td> 2.428823e-06</td><td> 5.168185e-01</td><td>1.134332e-06</td><td>0.24112752</td><td>0.2420504</td><td>ME_101_5-12:54985643-57100037</td><td>0.4831779</td><td>0.50095503</td><td>FALSE</td></tr>\n",
       "\t<tr><th scope=row>6</th><td>2318</td><td> 3.890180e-06</td><td> 7.386509e-01</td><td>1.243920e-06</td><td>0.23616501</td><td>0.0251790</td><td>ME_96_3-12:54681479-56681478 </td><td>0.2613440</td><td>0.09634428</td><td>FALSE</td></tr>\n",
       "</tbody>\n",
       "</table>\n"
      ],
      "text/latex": [
       "A data.frame: 6 × 10\n",
       "\\begin{tabular}{r|llllllllll}\n",
       "  & nsnps & PP.H0.abf & PP.H1.abf & PP.H2.abf & PP.H3.abf & PP.H4.abf & Module.QTL & PP3plusPP4 & COLOC.Factor & Colocalise\\\\\n",
       "  & <dbl> & <dbl> & <dbl> & <dbl> & <dbl> & <dbl> & <chr> & <dbl> & <dbl> & <lgl>\\\\\n",
       "\\hline\n",
       "\t1 & 2192 & 2.247531e-192 & 4.782423e-187 & 1.559584e-07 & 0.03221793 & 0.9677819 & ME\\_101\\_3-12:54985643-57100037 & 0.9999998 & 0.96778207 &  TRUE\\\\\n",
       "\t2 & 2192 &  8.292256e-33 &  1.764473e-27 & 2.047348e-07 & 0.04260723 & 0.9573926 & ME\\_101\\_1-12:54985643-57100037 & 0.9999998 & 0.95739276 &  TRUE\\\\\n",
       "\t3 & 2192 &  1.162068e-18 &  2.472713e-13 & 2.192277e-07 & 0.04569418 & 0.9543056 & ME\\_101\\_4-12:54985643-57100037 & 0.9999998 & 0.95430581 &  TRUE\\\\\n",
       "\t4 & 2192 &  3.386816e-42 &  7.206657e-37 & 3.166564e-07 & 0.06644637 & 0.9335533 & ME\\_101\\_2-12:54985643-57100037 & 0.9999997 & 0.93355361 &  TRUE\\\\\n",
       "\t5 & 2192 &  2.428823e-06 &  5.168185e-01 & 1.134332e-06 & 0.24112752 & 0.2420504 & ME\\_101\\_5-12:54985643-57100037 & 0.4831779 & 0.50095503 & FALSE\\\\\n",
       "\t6 & 2318 &  3.890180e-06 &  7.386509e-01 & 1.243920e-06 & 0.23616501 & 0.0251790 & ME\\_96\\_3-12:54681479-56681478  & 0.2613440 & 0.09634428 & FALSE\\\\\n",
       "\\end{tabular}\n"
      ],
      "text/markdown": [
       "\n",
       "A data.frame: 6 × 10\n",
       "\n",
       "| <!--/--> | nsnps &lt;dbl&gt; | PP.H0.abf &lt;dbl&gt; | PP.H1.abf &lt;dbl&gt; | PP.H2.abf &lt;dbl&gt; | PP.H3.abf &lt;dbl&gt; | PP.H4.abf &lt;dbl&gt; | Module.QTL &lt;chr&gt; | PP3plusPP4 &lt;dbl&gt; | COLOC.Factor &lt;dbl&gt; | Colocalise &lt;lgl&gt; |\n",
       "|---|---|---|---|---|---|---|---|---|---|---|\n",
       "| 1 | 2192 | 2.247531e-192 | 4.782423e-187 | 1.559584e-07 | 0.03221793 | 0.9677819 | ME_101_3-12:54985643-57100037 | 0.9999998 | 0.96778207 |  TRUE |\n",
       "| 2 | 2192 |  8.292256e-33 |  1.764473e-27 | 2.047348e-07 | 0.04260723 | 0.9573926 | ME_101_1-12:54985643-57100037 | 0.9999998 | 0.95739276 |  TRUE |\n",
       "| 3 | 2192 |  1.162068e-18 |  2.472713e-13 | 2.192277e-07 | 0.04569418 | 0.9543056 | ME_101_4-12:54985643-57100037 | 0.9999998 | 0.95430581 |  TRUE |\n",
       "| 4 | 2192 |  3.386816e-42 |  7.206657e-37 | 3.166564e-07 | 0.06644637 | 0.9335533 | ME_101_2-12:54985643-57100037 | 0.9999997 | 0.93355361 |  TRUE |\n",
       "| 5 | 2192 |  2.428823e-06 |  5.168185e-01 | 1.134332e-06 | 0.24112752 | 0.2420504 | ME_101_5-12:54985643-57100037 | 0.4831779 | 0.50095503 | FALSE |\n",
       "| 6 | 2318 |  3.890180e-06 |  7.386509e-01 | 1.243920e-06 | 0.23616501 | 0.0251790 | ME_96_3-12:54681479-56681478  | 0.2613440 | 0.09634428 | FALSE |\n",
       "\n"
      ],
      "text/plain": [
       "  nsnps PP.H0.abf     PP.H1.abf     PP.H2.abf    PP.H3.abf  PP.H4.abf\n",
       "1 2192  2.247531e-192 4.782423e-187 1.559584e-07 0.03221793 0.9677819\n",
       "2 2192   8.292256e-33  1.764473e-27 2.047348e-07 0.04260723 0.9573926\n",
       "3 2192   1.162068e-18  2.472713e-13 2.192277e-07 0.04569418 0.9543056\n",
       "4 2192   3.386816e-42  7.206657e-37 3.166564e-07 0.06644637 0.9335533\n",
       "5 2192   2.428823e-06  5.168185e-01 1.134332e-06 0.24112752 0.2420504\n",
       "6 2318   3.890180e-06  7.386509e-01 1.243920e-06 0.23616501 0.0251790\n",
       "  Module.QTL                    PP3plusPP4 COLOC.Factor Colocalise\n",
       "1 ME_101_3-12:54985643-57100037 0.9999998  0.96778207    TRUE     \n",
       "2 ME_101_1-12:54985643-57100037 0.9999998  0.95739276    TRUE     \n",
       "3 ME_101_4-12:54985643-57100037 0.9999998  0.95430581    TRUE     \n",
       "4 ME_101_2-12:54985643-57100037 0.9999997  0.93355361    TRUE     \n",
       "5 ME_101_5-12:54985643-57100037 0.4831779  0.50095503   FALSE     \n",
       "6 ME_96_3-12:54681479-56681478  0.2613440  0.09634428   FALSE     "
      ]
     },
     "metadata": {},
     "output_type": "display_data"
    }
   ],
   "source": [
    "ala.coloc %>%\n",
    "    dplyr::filter(PP3plusPP4 > 0.25) %>%\n",
    "    dplyr::arrange(desc(COLOC.Factor)) %>%\n",
    "    head()"
   ]
  },
  {
   "cell_type": "code",
   "execution_count": 133,
   "id": "a1b22365-bde6-42f2-a0a4-3a3110e776d2",
   "metadata": {},
   "outputs": [],
   "source": [
    "rm(ala)"
   ]
  },
  {
   "cell_type": "markdown",
   "id": "6bff1b51-a2ba-4b44-a39d-29e694b249b8",
   "metadata": {
    "jp-MarkdownHeadingCollapsed": true,
    "tags": []
   },
   "source": [
    "## Alkaline Phosphatase\n",
    "\n",
    "**Study**: [GCST90013406](https://www.ebi.ac.uk/gwas/studies/GCST90013406)"
   ]
  },
  {
   "cell_type": "code",
   "execution_count": 144,
   "id": "f04abc4a-964b-4509-9cd4-ae04f69d81db",
   "metadata": {},
   "outputs": [],
   "source": [
    "akp <- fread(\"~/gains_team282/nikhil/data/EBI_GWAS_Catalog/GCST90013406_buildGRCh37.tsv\", sep=\"\\t\") %>%\n",
    "    as.data.frame()"
   ]
  },
  {
   "cell_type": "code",
   "execution_count": 146,
   "id": "8cd31247-8a96-4151-b7b0-474cebdcbceb",
   "metadata": {
    "tags": []
   },
   "outputs": [],
   "source": [
    "akp.me <- ebi.mqtl %>%\n",
    "    dplyr::filter(accession == \"GCST90013406\")\n",
    "\n",
    "akp.snps <- unique(akp.me$snp)"
   ]
  },
  {
   "cell_type": "code",
   "execution_count": 147,
   "id": "8f995120-ca83-408d-8afe-1e1477a73a48",
   "metadata": {},
   "outputs": [],
   "source": [
    "module.qtl.set <- module.qtl.sum %>%\n",
    "    dplyr::filter(snp %in% akp.snps)\n",
    "\n",
    "module.qtl.set <- unique(module.qtl.set$module.qtl)"
   ]
  },
  {
   "cell_type": "code",
   "execution_count": 148,
   "id": "ee4275c6-11f5-4cbc-92c8-3f7a64c576fd",
   "metadata": {},
   "outputs": [],
   "source": [
    "all.snps <- module.qtl.sum %>%\n",
    "    dplyr::filter(module.qtl %in% module.qtl.set) %>%\n",
    "    dplyr::mutate(snpid = paste0(chr, \":\", pos, \"-\", IUPAC)) %>%\n",
    "    dplyr::select(snp, snpid)\n",
    "\n",
    "akp.ranges <- akp %>%\n",
    "    dplyr::mutate(chromosome = paste0(\"chr\", chromosome)) %>%\n",
    "    makeGRangesFromDataFrame(\n",
    "        .,\n",
    "        seqnames.field=\"chromosome\", start.field=\"base_pair_location\", end.field=\"base_pair_location\",\n",
    "        keep.extra.columns=TRUE\n",
    "    )\n",
    "\n",
    "chain = import.chain(\"03_Functional_Interpretation/data/hg19ToHg38.over.chain\")\n",
    "seqlevelsStyle(akp.ranges) = \"UCSC\"\n",
    "akp.ranges.hg38 = liftOver(akp.ranges, chain)\n",
    "\n",
    "overlaps <- module.qtl.sum %>%\n",
    "    dplyr::filter(snp %in% akp.snps) %>%\n",
    "    dplyr::select(qtl.locus.chr, qtl.locus.start, qtl.locus.end) %>%\n",
    "    dplyr::mutate(qtl.locus.chr = paste0(\"chr\", qtl.locus.chr)) %>%\n",
    "    unique() %>%\n",
    "    makeGRangesFromDataFrame(., seqnames.field=\"qtl.locus.chr\", start.field=\"qtl.locus.start\", end.field=\"qtl.locus.end\") %>%\n",
    "    findOverlaps(akp.ranges.hg38, .)\n",
    "\n",
    "akp <- akp.ranges.hg38[overlaps@from, ] %>%\n",
    "    as.data.frame() %>%\n",
    "    dplyr::mutate(IUPAC = alleles.iupac(other_allele, effect_allele)) %>%\n",
    "    dplyr::mutate(seqnames = gsub(\"^chr\", \"\", seqnames)) %>%\n",
    "    dplyr::mutate(snpid = paste0(seqnames, \":\", start, \"-\", IUPAC)) %>%\n",
    "    merge(., all.snps, by=\"snpid\") %>%\n",
    "    dplyr::select(snp, beta, standard_error, effect_allele_frequency, IUPAC) %>%\n",
    "    unique()"
   ]
  },
  {
   "cell_type": "code",
   "execution_count": 149,
   "id": "2fadee02-6a46-4b2f-9b6b-bf923d7f6b39",
   "metadata": {},
   "outputs": [],
   "source": [
    "akp.coloc <- lapply(module.qtl.set, function(module.qtl.id) {\n",
    " \n",
    "    module.id = gsub(\"-.*\", \"\", module.qtl.id)\n",
    "    \n",
    "    mqtl.locus.info = module.qtl.sum %>%\n",
    "        dplyr::filter(module.qtl == module.qtl.id) %>%\n",
    "        dplyr::select(m.snp = snp, m.beta=beta, m.se=se, m.pos=pos, major_allele, minor_allele, IUPAC)\n",
    "    \n",
    "    all.info = akp %>%\n",
    "        dplyr::filter(snp %in% mqtl.locus.info$m.snp) %>%\n",
    "        merge(\n",
    "            ., mqtl.locus.info, \n",
    "            by.x=c(\"snp\", \"IUPAC\"),\n",
    "            by.y=c(\"m.snp\", \"IUPAC\"),\n",
    "        ) %>%\n",
    "        dplyr::select(snp=snp, m.beta, m.se, pos=m.pos, g.beta=beta, g.se=standard_error, g.maf=effect_allele_frequency) %>%\n",
    "        dplyr::mutate(g.maf = sapply(g.maf, function(p) { min(p, 1 - p) }))\n",
    "    \n",
    "    module.qtl = list()\n",
    "    module.qtl$beta = all.info$m.beta\n",
    "    module.qtl$varbeta = all.info$m.se^2\n",
    "    module.qtl$snp = all.info$snp\n",
    "    module.qtl$position = all.info$pos\n",
    "    module.qtl$type = \"quant\"\n",
    "    module.qtl$sdY = sd(eigengenes[, module.id], na.rm=TRUE)\n",
    "    \n",
    "    N = 437438\n",
    "    \n",
    "    gwas.assoc = list()\n",
    "    gwas.assoc$beta = all.info$g.beta\n",
    "    gwas.assoc$varbeta = all.info$g.se^2\n",
    "    gwas.assoc$snp = all.info$snp\n",
    "    gwas.assoc$position = all.info$pos\n",
    "    gwas.assoc$type = \"quant\"\n",
    "    gwas.assoc$N = N\n",
    "    gwas.assoc$MAF = all.info$g.maf\n",
    "    \n",
    "    log = capture.output({\n",
    "        abf.res = suppressWarnings(coloc.abf(gwas.assoc, module.qtl))\n",
    "    })\n",
    "    \n",
    "    data.frame(t(abf.res$summary)) %>%\n",
    "        dplyr::mutate(Module.QTL = module.qtl.id)\n",
    "}) %>%\n",
    "    do.call(rbind, .) %>%\n",
    "    dplyr::mutate(PP3plusPP4 = PP.H3.abf + PP.H4.abf) %>%\n",
    "    dplyr::mutate(COLOC.Factor = PP.H4.abf / PP3plusPP4) %>%\n",
    "    dplyr::mutate(Colocalise = (PP3plusPP4 > 0.25) & (COLOC.Factor > 0.7))"
   ]
  },
  {
   "cell_type": "code",
   "execution_count": 150,
   "id": "5d9ec44c-a1a7-491b-bf79-2b1385ca482c",
   "metadata": {},
   "outputs": [
    {
     "data": {
      "text/html": [
       "<table class=\"dataframe\">\n",
       "<caption>A data.frame: 5 × 10</caption>\n",
       "<thead>\n",
       "\t<tr><th></th><th scope=col>nsnps</th><th scope=col>PP.H0.abf</th><th scope=col>PP.H1.abf</th><th scope=col>PP.H2.abf</th><th scope=col>PP.H3.abf</th><th scope=col>PP.H4.abf</th><th scope=col>Module.QTL</th><th scope=col>PP3plusPP4</th><th scope=col>COLOC.Factor</th><th scope=col>Colocalise</th></tr>\n",
       "\t<tr><th></th><th scope=col>&lt;dbl&gt;</th><th scope=col>&lt;dbl&gt;</th><th scope=col>&lt;dbl&gt;</th><th scope=col>&lt;dbl&gt;</th><th scope=col>&lt;dbl&gt;</th><th scope=col>&lt;dbl&gt;</th><th scope=col>&lt;chr&gt;</th><th scope=col>&lt;dbl&gt;</th><th scope=col>&lt;dbl&gt;</th><th scope=col>&lt;lgl&gt;</th></tr>\n",
       "</thead>\n",
       "<tbody>\n",
       "\t<tr><th scope=row>1</th><td>6241</td><td>3.696639e-14</td><td>4.202837e-01</td><td>3.778903e-14</td><td>0.4294864</td><td>1.502299e-01</td><td>ME_69_5-17:44378976-48159837</td><td>0.5797163</td><td>2.591438e-01</td><td>FALSE</td></tr>\n",
       "\t<tr><th scope=row>2</th><td>6241</td><td>3.799594e-28</td><td>4.319891e-15</td><td>7.016067e-14</td><td>0.7974785</td><td>2.025215e-01</td><td>ME_69_4-17:44378976-48159837</td><td>1.0000000</td><td>2.025215e-01</td><td>FALSE</td></tr>\n",
       "\t<tr><th scope=row>3</th><td>6241</td><td>0.000000e+00</td><td>0.000000e+00</td><td>8.499708e-14</td><td>0.9663277</td><td>3.367230e-02</td><td>ME_69_1-17:44378976-48159837</td><td>1.0000000</td><td>3.367230e-02</td><td>FALSE</td></tr>\n",
       "\t<tr><th scope=row>4</th><td>6241</td><td>2.397737e-59</td><td>2.726071e-46</td><td>8.795579e-14</td><td>1.0000000</td><td>5.183392e-10</td><td>ME_69_2-17:44378976-48159837</td><td>1.0000000</td><td>5.183392e-10</td><td>FALSE</td></tr>\n",
       "\t<tr><th scope=row>5</th><td>6241</td><td>1.146790e-47</td><td>1.303825e-34</td><td>8.795579e-14</td><td>1.0000000</td><td>5.103600e-10</td><td>ME_69_3-17:44378976-48159837</td><td>1.0000000</td><td>5.103600e-10</td><td>FALSE</td></tr>\n",
       "</tbody>\n",
       "</table>\n"
      ],
      "text/latex": [
       "A data.frame: 5 × 10\n",
       "\\begin{tabular}{r|llllllllll}\n",
       "  & nsnps & PP.H0.abf & PP.H1.abf & PP.H2.abf & PP.H3.abf & PP.H4.abf & Module.QTL & PP3plusPP4 & COLOC.Factor & Colocalise\\\\\n",
       "  & <dbl> & <dbl> & <dbl> & <dbl> & <dbl> & <dbl> & <chr> & <dbl> & <dbl> & <lgl>\\\\\n",
       "\\hline\n",
       "\t1 & 6241 & 3.696639e-14 & 4.202837e-01 & 3.778903e-14 & 0.4294864 & 1.502299e-01 & ME\\_69\\_5-17:44378976-48159837 & 0.5797163 & 2.591438e-01 & FALSE\\\\\n",
       "\t2 & 6241 & 3.799594e-28 & 4.319891e-15 & 7.016067e-14 & 0.7974785 & 2.025215e-01 & ME\\_69\\_4-17:44378976-48159837 & 1.0000000 & 2.025215e-01 & FALSE\\\\\n",
       "\t3 & 6241 & 0.000000e+00 & 0.000000e+00 & 8.499708e-14 & 0.9663277 & 3.367230e-02 & ME\\_69\\_1-17:44378976-48159837 & 1.0000000 & 3.367230e-02 & FALSE\\\\\n",
       "\t4 & 6241 & 2.397737e-59 & 2.726071e-46 & 8.795579e-14 & 1.0000000 & 5.183392e-10 & ME\\_69\\_2-17:44378976-48159837 & 1.0000000 & 5.183392e-10 & FALSE\\\\\n",
       "\t5 & 6241 & 1.146790e-47 & 1.303825e-34 & 8.795579e-14 & 1.0000000 & 5.103600e-10 & ME\\_69\\_3-17:44378976-48159837 & 1.0000000 & 5.103600e-10 & FALSE\\\\\n",
       "\\end{tabular}\n"
      ],
      "text/markdown": [
       "\n",
       "A data.frame: 5 × 10\n",
       "\n",
       "| <!--/--> | nsnps &lt;dbl&gt; | PP.H0.abf &lt;dbl&gt; | PP.H1.abf &lt;dbl&gt; | PP.H2.abf &lt;dbl&gt; | PP.H3.abf &lt;dbl&gt; | PP.H4.abf &lt;dbl&gt; | Module.QTL &lt;chr&gt; | PP3plusPP4 &lt;dbl&gt; | COLOC.Factor &lt;dbl&gt; | Colocalise &lt;lgl&gt; |\n",
       "|---|---|---|---|---|---|---|---|---|---|---|\n",
       "| 1 | 6241 | 3.696639e-14 | 4.202837e-01 | 3.778903e-14 | 0.4294864 | 1.502299e-01 | ME_69_5-17:44378976-48159837 | 0.5797163 | 2.591438e-01 | FALSE |\n",
       "| 2 | 6241 | 3.799594e-28 | 4.319891e-15 | 7.016067e-14 | 0.7974785 | 2.025215e-01 | ME_69_4-17:44378976-48159837 | 1.0000000 | 2.025215e-01 | FALSE |\n",
       "| 3 | 6241 | 0.000000e+00 | 0.000000e+00 | 8.499708e-14 | 0.9663277 | 3.367230e-02 | ME_69_1-17:44378976-48159837 | 1.0000000 | 3.367230e-02 | FALSE |\n",
       "| 4 | 6241 | 2.397737e-59 | 2.726071e-46 | 8.795579e-14 | 1.0000000 | 5.183392e-10 | ME_69_2-17:44378976-48159837 | 1.0000000 | 5.183392e-10 | FALSE |\n",
       "| 5 | 6241 | 1.146790e-47 | 1.303825e-34 | 8.795579e-14 | 1.0000000 | 5.103600e-10 | ME_69_3-17:44378976-48159837 | 1.0000000 | 5.103600e-10 | FALSE |\n",
       "\n"
      ],
      "text/plain": [
       "  nsnps PP.H0.abf    PP.H1.abf    PP.H2.abf    PP.H3.abf PP.H4.abf   \n",
       "1 6241  3.696639e-14 4.202837e-01 3.778903e-14 0.4294864 1.502299e-01\n",
       "2 6241  3.799594e-28 4.319891e-15 7.016067e-14 0.7974785 2.025215e-01\n",
       "3 6241  0.000000e+00 0.000000e+00 8.499708e-14 0.9663277 3.367230e-02\n",
       "4 6241  2.397737e-59 2.726071e-46 8.795579e-14 1.0000000 5.183392e-10\n",
       "5 6241  1.146790e-47 1.303825e-34 8.795579e-14 1.0000000 5.103600e-10\n",
       "  Module.QTL                   PP3plusPP4 COLOC.Factor Colocalise\n",
       "1 ME_69_5-17:44378976-48159837 0.5797163  2.591438e-01 FALSE     \n",
       "2 ME_69_4-17:44378976-48159837 1.0000000  2.025215e-01 FALSE     \n",
       "3 ME_69_1-17:44378976-48159837 1.0000000  3.367230e-02 FALSE     \n",
       "4 ME_69_2-17:44378976-48159837 1.0000000  5.183392e-10 FALSE     \n",
       "5 ME_69_3-17:44378976-48159837 1.0000000  5.103600e-10 FALSE     "
      ]
     },
     "metadata": {},
     "output_type": "display_data"
    }
   ],
   "source": [
    "akp.coloc %>%\n",
    "    dplyr::filter(PP3plusPP4 > 0.25) %>%\n",
    "    dplyr::arrange(desc(COLOC.Factor)) %>%\n",
    "    head()"
   ]
  },
  {
   "cell_type": "code",
   "execution_count": 151,
   "id": "db806b4e-0298-4e59-9458-e2eae0931827",
   "metadata": {},
   "outputs": [],
   "source": [
    "rm(akp)"
   ]
  },
  {
   "cell_type": "markdown",
   "id": "9ba39629-88fc-4798-8ed5-65d7fd50ada5",
   "metadata": {
    "jp-MarkdownHeadingCollapsed": true,
    "tags": []
   },
   "source": [
    "## Interleukin 18\n",
    "\n",
    "**Study**: [GCST90012024](https://www.ebi.ac.uk/gwas/studies/GCST90012024)"
   ]
  },
  {
   "cell_type": "code",
   "execution_count": 171,
   "id": "00471987-9fd0-44da-9523-5c73b720af60",
   "metadata": {},
   "outputs": [],
   "source": [
    "il18 <- fread(\"~/gains_team282/nikhil/data/EBI_GWAS_Catalog/GCST90012024_buildGRCh37.tsv\", sep=\"\\t\") %>%\n",
    "    as.data.frame() %>%\n",
    "    dplyr::mutate(effect_allele=str_to_upper(effect_allele)) %>%\n",
    "    dplyr::mutate(other_allele=str_to_upper(other_allele))"
   ]
  },
  {
   "cell_type": "code",
   "execution_count": 172,
   "id": "5de1136c-ff82-4a1d-a38e-4e28c75a9673",
   "metadata": {
    "tags": []
   },
   "outputs": [],
   "source": [
    "il18.me <- ebi.mqtl %>%\n",
    "    dplyr::filter(accession == \"GCST90012024\")\n",
    "\n",
    "il18.snps <- unique(il18.me$snp)"
   ]
  },
  {
   "cell_type": "code",
   "execution_count": 173,
   "id": "606222cc-106e-4a7d-b860-926574250633",
   "metadata": {},
   "outputs": [],
   "source": [
    "module.qtl.set <- module.qtl.sum %>%\n",
    "    dplyr::filter(snp %in% il18.snps)\n",
    "\n",
    "module.qtl.set <- unique(module.qtl.set$module.qtl)"
   ]
  },
  {
   "cell_type": "code",
   "execution_count": 174,
   "id": "acab311b-3c2c-47f0-9240-766f2b1a2e24",
   "metadata": {},
   "outputs": [],
   "source": [
    "all.snps <- module.qtl.sum %>%\n",
    "    dplyr::filter(module.qtl %in% module.qtl.set) %>%\n",
    "    dplyr::mutate(snpid = paste0(chr, \":\", pos, \"-\", IUPAC)) %>%\n",
    "    dplyr::select(snp, snpid)\n",
    "\n",
    "il18.ranges <- il18 %>%\n",
    "    dplyr::mutate(chromosome = paste0(\"chr\", chromosome)) %>%\n",
    "    makeGRangesFromDataFrame(\n",
    "        .,\n",
    "        seqnames.field=\"chromosome\", start.field=\"base_pair_location\", end.field=\"base_pair_location\",\n",
    "        keep.extra.columns=TRUE\n",
    "    )\n",
    "\n",
    "chain = import.chain(\"03_Functional_Interpretation/data/hg19ToHg38.over.chain\")\n",
    "seqlevelsStyle(il18.ranges) = \"UCSC\"\n",
    "il18.ranges.hg38 = liftOver(il18.ranges, chain)\n",
    "\n",
    "overlaps <- module.qtl.sum %>%\n",
    "    dplyr::filter(snp %in% il18.snps) %>%\n",
    "    dplyr::select(qtl.locus.chr, qtl.locus.start, qtl.locus.end) %>%\n",
    "    dplyr::mutate(qtl.locus.chr = paste0(\"chr\", qtl.locus.chr)) %>%\n",
    "    unique() %>%\n",
    "    makeGRangesFromDataFrame(., seqnames.field=\"qtl.locus.chr\", start.field=\"qtl.locus.start\", end.field=\"qtl.locus.end\") %>%\n",
    "    findOverlaps(il18.ranges.hg38, .)\n",
    "\n",
    "il18 <- il18.ranges.hg38[overlaps@from, ] %>%\n",
    "    as.data.frame() %>%\n",
    "    dplyr::mutate(IUPAC = alleles.iupac(other_allele, effect_allele)) %>%\n",
    "    dplyr::mutate(seqnames = gsub(\"^chr\", \"\", seqnames)) %>%\n",
    "    dplyr::mutate(snpid = paste0(seqnames, \":\", start, \"-\", IUPAC)) %>%\n",
    "    merge(., all.snps, by=\"snpid\") %>%\n",
    "    dplyr::select(snp, beta, standard_error, effect_allele_frequency, IUPAC) %>%\n",
    "    unique()\n",
    "\n",
    "duplicated.snps <- il18$snp[which(duplicated(il18$snp))]\n",
    "\n",
    "il18 <- il18 %>%\n",
    "    dplyr::filter(!(snp %in% duplicated.snps))"
   ]
  },
  {
   "cell_type": "code",
   "execution_count": 176,
   "id": "457a668e-0847-4c4d-9e28-279af7516ca1",
   "metadata": {},
   "outputs": [],
   "source": [
    "il18.coloc <- lapply(module.qtl.set, function(module.qtl.id) {\n",
    " \n",
    "    module.id = gsub(\"-.*\", \"\", module.qtl.id)\n",
    "    \n",
    "    mqtl.locus.info = module.qtl.sum %>%\n",
    "        dplyr::filter(module.qtl == module.qtl.id) %>%\n",
    "        dplyr::select(m.snp = snp, m.beta=beta, m.se=se, m.pos=pos, major_allele, minor_allele, IUPAC)\n",
    "    \n",
    "    all.info = il18 %>%\n",
    "        dplyr::filter(snp %in% mqtl.locus.info$m.snp) %>%\n",
    "        merge(\n",
    "            ., mqtl.locus.info, \n",
    "            by.x=c(\"snp\", \"IUPAC\"),\n",
    "            by.y=c(\"m.snp\", \"IUPAC\"),\n",
    "        ) %>%\n",
    "        dplyr::select(snp=snp, m.beta, m.se, pos=m.pos, g.beta=beta, g.se=standard_error, g.maf=effect_allele_frequency) %>%\n",
    "        dplyr::mutate(g.maf = sapply(g.maf, function(p) { min(p, 1 - p) }))\n",
    "    \n",
    "    module.qtl = list()\n",
    "    module.qtl$beta = all.info$m.beta\n",
    "    module.qtl$varbeta = all.info$m.se^2\n",
    "    module.qtl$snp = all.info$snp\n",
    "    module.qtl$position = all.info$pos\n",
    "    module.qtl$type = \"quant\"\n",
    "    module.qtl$sdY = sd(eigengenes[, module.id], na.rm=TRUE)\n",
    "    \n",
    "    N = 21758\n",
    "    \n",
    "    gwas.assoc = list()\n",
    "    gwas.assoc$beta = all.info$g.beta\n",
    "    gwas.assoc$varbeta = all.info$g.se^2\n",
    "    gwas.assoc$snp = all.info$snp\n",
    "    gwas.assoc$position = all.info$pos\n",
    "    gwas.assoc$type = \"quant\"\n",
    "    gwas.assoc$N = N\n",
    "    gwas.assoc$MAF = all.info$g.maf\n",
    "    \n",
    "    log = capture.output({\n",
    "        abf.res = suppressWarnings(coloc.abf(gwas.assoc, module.qtl))\n",
    "    })\n",
    "    \n",
    "    data.frame(t(abf.res$summary)) %>%\n",
    "        dplyr::mutate(Module.QTL = module.qtl.id)\n",
    "}) %>%\n",
    "    do.call(rbind, .) %>%\n",
    "    dplyr::mutate(PP3plusPP4 = PP.H3.abf + PP.H4.abf) %>%\n",
    "    dplyr::mutate(COLOC.Factor = PP.H4.abf / PP3plusPP4) %>%\n",
    "    dplyr::mutate(Colocalise = (PP3plusPP4 > 0.25) & (COLOC.Factor > 0.7))"
   ]
  },
  {
   "cell_type": "code",
   "execution_count": 177,
   "id": "922c4cbe-bcd7-4d64-b216-471152f6117e",
   "metadata": {},
   "outputs": [
    {
     "data": {
      "text/html": [
       "<table class=\"dataframe\">\n",
       "<caption>A data.frame: 5 × 10</caption>\n",
       "<thead>\n",
       "\t<tr><th></th><th scope=col>nsnps</th><th scope=col>PP.H0.abf</th><th scope=col>PP.H1.abf</th><th scope=col>PP.H2.abf</th><th scope=col>PP.H3.abf</th><th scope=col>PP.H4.abf</th><th scope=col>Module.QTL</th><th scope=col>PP3plusPP4</th><th scope=col>COLOC.Factor</th><th scope=col>Colocalise</th></tr>\n",
       "\t<tr><th></th><th scope=col>&lt;dbl&gt;</th><th scope=col>&lt;dbl&gt;</th><th scope=col>&lt;dbl&gt;</th><th scope=col>&lt;dbl&gt;</th><th scope=col>&lt;dbl&gt;</th><th scope=col>&lt;dbl&gt;</th><th scope=col>&lt;chr&gt;</th><th scope=col>&lt;dbl&gt;</th><th scope=col>&lt;dbl&gt;</th><th scope=col>&lt;lgl&gt;</th></tr>\n",
       "</thead>\n",
       "<tbody>\n",
       "\t<tr><th scope=row>1</th><td>2598</td><td> 5.038684e-15</td><td> 1.836510e-08</td><td>2.743574e-07</td><td>0.9999839</td><td>1.582601e-05</td><td>ME_89_3-8:142513074-144574583</td><td>0.9999997</td><td>1.582602e-05</td><td>FALSE</td></tr>\n",
       "\t<tr><th scope=row>2</th><td>2598</td><td> 1.631442e-19</td><td> 5.946315e-13</td><td>2.743617e-07</td><td>0.9999995</td><td>1.816956e-07</td><td>ME_89_4-8:142513074-144574583</td><td>0.9999997</td><td>1.816956e-07</td><td>FALSE</td></tr>\n",
       "\t<tr><th scope=row>3</th><td>2598</td><td>2.168345e-137</td><td>7.903229e-131</td><td>2.743618e-07</td><td>0.9999997</td><td>9.575173e-09</td><td>ME_89_1-8:142513074-144574583</td><td>0.9999997</td><td>9.575176e-09</td><td>FALSE</td></tr>\n",
       "\t<tr><th scope=row>4</th><td>2598</td><td> 7.441226e-30</td><td> 2.712194e-23</td><td>2.743618e-07</td><td>0.9999997</td><td>9.133277e-09</td><td>ME_89_2-8:142513074-144574583</td><td>0.9999997</td><td>9.133279e-09</td><td>FALSE</td></tr>\n",
       "\t<tr><th scope=row>5</th><td>2598</td><td>1.756682e-111</td><td>6.402794e-105</td><td>2.743618e-07</td><td>0.9999997</td><td>8.102239e-09</td><td>ME_89_5-8:142513074-144574583</td><td>0.9999997</td><td>8.102242e-09</td><td>FALSE</td></tr>\n",
       "</tbody>\n",
       "</table>\n"
      ],
      "text/latex": [
       "A data.frame: 5 × 10\n",
       "\\begin{tabular}{r|llllllllll}\n",
       "  & nsnps & PP.H0.abf & PP.H1.abf & PP.H2.abf & PP.H3.abf & PP.H4.abf & Module.QTL & PP3plusPP4 & COLOC.Factor & Colocalise\\\\\n",
       "  & <dbl> & <dbl> & <dbl> & <dbl> & <dbl> & <dbl> & <chr> & <dbl> & <dbl> & <lgl>\\\\\n",
       "\\hline\n",
       "\t1 & 2598 &  5.038684e-15 &  1.836510e-08 & 2.743574e-07 & 0.9999839 & 1.582601e-05 & ME\\_89\\_3-8:142513074-144574583 & 0.9999997 & 1.582602e-05 & FALSE\\\\\n",
       "\t2 & 2598 &  1.631442e-19 &  5.946315e-13 & 2.743617e-07 & 0.9999995 & 1.816956e-07 & ME\\_89\\_4-8:142513074-144574583 & 0.9999997 & 1.816956e-07 & FALSE\\\\\n",
       "\t3 & 2598 & 2.168345e-137 & 7.903229e-131 & 2.743618e-07 & 0.9999997 & 9.575173e-09 & ME\\_89\\_1-8:142513074-144574583 & 0.9999997 & 9.575176e-09 & FALSE\\\\\n",
       "\t4 & 2598 &  7.441226e-30 &  2.712194e-23 & 2.743618e-07 & 0.9999997 & 9.133277e-09 & ME\\_89\\_2-8:142513074-144574583 & 0.9999997 & 9.133279e-09 & FALSE\\\\\n",
       "\t5 & 2598 & 1.756682e-111 & 6.402794e-105 & 2.743618e-07 & 0.9999997 & 8.102239e-09 & ME\\_89\\_5-8:142513074-144574583 & 0.9999997 & 8.102242e-09 & FALSE\\\\\n",
       "\\end{tabular}\n"
      ],
      "text/markdown": [
       "\n",
       "A data.frame: 5 × 10\n",
       "\n",
       "| <!--/--> | nsnps &lt;dbl&gt; | PP.H0.abf &lt;dbl&gt; | PP.H1.abf &lt;dbl&gt; | PP.H2.abf &lt;dbl&gt; | PP.H3.abf &lt;dbl&gt; | PP.H4.abf &lt;dbl&gt; | Module.QTL &lt;chr&gt; | PP3plusPP4 &lt;dbl&gt; | COLOC.Factor &lt;dbl&gt; | Colocalise &lt;lgl&gt; |\n",
       "|---|---|---|---|---|---|---|---|---|---|---|\n",
       "| 1 | 2598 |  5.038684e-15 |  1.836510e-08 | 2.743574e-07 | 0.9999839 | 1.582601e-05 | ME_89_3-8:142513074-144574583 | 0.9999997 | 1.582602e-05 | FALSE |\n",
       "| 2 | 2598 |  1.631442e-19 |  5.946315e-13 | 2.743617e-07 | 0.9999995 | 1.816956e-07 | ME_89_4-8:142513074-144574583 | 0.9999997 | 1.816956e-07 | FALSE |\n",
       "| 3 | 2598 | 2.168345e-137 | 7.903229e-131 | 2.743618e-07 | 0.9999997 | 9.575173e-09 | ME_89_1-8:142513074-144574583 | 0.9999997 | 9.575176e-09 | FALSE |\n",
       "| 4 | 2598 |  7.441226e-30 |  2.712194e-23 | 2.743618e-07 | 0.9999997 | 9.133277e-09 | ME_89_2-8:142513074-144574583 | 0.9999997 | 9.133279e-09 | FALSE |\n",
       "| 5 | 2598 | 1.756682e-111 | 6.402794e-105 | 2.743618e-07 | 0.9999997 | 8.102239e-09 | ME_89_5-8:142513074-144574583 | 0.9999997 | 8.102242e-09 | FALSE |\n",
       "\n"
      ],
      "text/plain": [
       "  nsnps PP.H0.abf     PP.H1.abf     PP.H2.abf    PP.H3.abf PP.H4.abf   \n",
       "1 2598   5.038684e-15  1.836510e-08 2.743574e-07 0.9999839 1.582601e-05\n",
       "2 2598   1.631442e-19  5.946315e-13 2.743617e-07 0.9999995 1.816956e-07\n",
       "3 2598  2.168345e-137 7.903229e-131 2.743618e-07 0.9999997 9.575173e-09\n",
       "4 2598   7.441226e-30  2.712194e-23 2.743618e-07 0.9999997 9.133277e-09\n",
       "5 2598  1.756682e-111 6.402794e-105 2.743618e-07 0.9999997 8.102239e-09\n",
       "  Module.QTL                    PP3plusPP4 COLOC.Factor Colocalise\n",
       "1 ME_89_3-8:142513074-144574583 0.9999997  1.582602e-05 FALSE     \n",
       "2 ME_89_4-8:142513074-144574583 0.9999997  1.816956e-07 FALSE     \n",
       "3 ME_89_1-8:142513074-144574583 0.9999997  9.575176e-09 FALSE     \n",
       "4 ME_89_2-8:142513074-144574583 0.9999997  9.133279e-09 FALSE     \n",
       "5 ME_89_5-8:142513074-144574583 0.9999997  8.102242e-09 FALSE     "
      ]
     },
     "metadata": {},
     "output_type": "display_data"
    }
   ],
   "source": [
    "il18.coloc %>%\n",
    "    dplyr::filter(PP3plusPP4 > 0.25) %>%\n",
    "    dplyr::arrange(desc(COLOC.Factor)) %>%\n",
    "    head()"
   ]
  },
  {
   "cell_type": "code",
   "execution_count": 178,
   "id": "41df1123-804e-44af-8a3d-87adefc91b30",
   "metadata": {},
   "outputs": [],
   "source": [
    "rm(il18)"
   ]
  },
  {
   "cell_type": "markdown",
   "id": "20f98d21-609f-478f-9593-ea5dc6d310d4",
   "metadata": {
    "jp-MarkdownHeadingCollapsed": true,
    "tags": []
   },
   "source": [
    "## Lymphocyte Counts\n",
    "\n",
    "**Study**: [GCST90002388](https://www.ebi.ac.uk/gwas/studies/GCST90002388)"
   ]
  },
  {
   "cell_type": "code",
   "execution_count": 179,
   "id": "1a03affa-1e42-4e5f-8d45-fc68bf75d71c",
   "metadata": {},
   "outputs": [],
   "source": [
    "lym.ct <- fread(\"~/gains_team282/nikhil/data/EBI_GWAS_Catalog/GCST90002388_buildGRCh37.tsv\", sep=\"\\t\")"
   ]
  },
  {
   "cell_type": "code",
   "execution_count": 180,
   "id": "29217279-60d5-41f5-8c27-8d9673d4ab5c",
   "metadata": {},
   "outputs": [],
   "source": [
    "lym.me <- ebi.mqtl %>%\n",
    "    dplyr::filter(accession == \"GCST90002388\")\n",
    "\n",
    "lym.snps <- unique(lym.me$snp)"
   ]
  },
  {
   "cell_type": "code",
   "execution_count": 181,
   "id": "81715deb-b56e-497b-b57b-1b04088b4248",
   "metadata": {},
   "outputs": [],
   "source": [
    "module.qtl.set <- module.qtl.sum %>%\n",
    "    dplyr::filter(snp %in% lym.snps)\n",
    "\n",
    "module.qtl.set <- unique(module.qtl.set$module.qtl)"
   ]
  },
  {
   "cell_type": "code",
   "execution_count": 182,
   "id": "63e2ca9f-492d-482e-8400-29acb340cd23",
   "metadata": {},
   "outputs": [],
   "source": [
    "all.snps <- module.qtl.sum %>%\n",
    "    dplyr::filter(module.qtl %in% module.qtl.set)\n",
    "\n",
    "all.snps <- all.snps$snp\n",
    "\n",
    "lym.ct <- lym.ct %>%\n",
    "    dplyr::filter(variant_id %in% all.snps) %>%\n",
    "    dplyr::mutate(IUPAC = alleles.iupac(other_allele, effect_allele))"
   ]
  },
  {
   "cell_type": "code",
   "execution_count": 184,
   "id": "87ed6623-4751-4d93-8007-2e8d5c34f877",
   "metadata": {},
   "outputs": [],
   "source": [
    "lym.coloc <- lapply(module.qtl.set, function(module.qtl.id) {\n",
    " \n",
    "    module.id = gsub(\"-.*\", \"\", module.qtl.id)\n",
    "    \n",
    "    mqtl.locus.info = module.qtl.sum %>%\n",
    "        dplyr::filter(module.qtl == module.qtl.id) %>%\n",
    "        dplyr::select(m.snp = snp, m.beta=beta, m.se=se, m.pos=pos, major_allele, minor_allele, IUPAC)\n",
    "    \n",
    "    all.info = lym.ct %>%\n",
    "        dplyr::filter(variant_id %in% mqtl.locus.info$m.snp) %>%\n",
    "        merge(\n",
    "            ., mqtl.locus.info, \n",
    "            by.x=c(\"variant_id\", \"IUPAC\"),\n",
    "            by.y=c(\"m.snp\", \"IUPAC\")\n",
    "        ) %>%\n",
    "        dplyr::select(snp=variant_id, m.beta, m.se, pos=m.pos, g.beta=beta, g.se=standard_error, g.maf=MA_FREQ) %>%\n",
    "        dplyr::mutate(g.maf = sapply(g.maf, function(p) { min(p, 1 - p) }))\n",
    "    \n",
    "    module.qtl = list()\n",
    "    module.qtl$beta = all.info$m.beta\n",
    "    module.qtl$varbeta = all.info$m.se^2\n",
    "    module.qtl$snp = all.info$snp\n",
    "    module.qtl$position = all.info$pos\n",
    "    module.qtl$type = \"quant\"\n",
    "    module.qtl$sdY = sd(eigengenes[, module.id], na.rm=TRUE)\n",
    "    \n",
    "    N = 408112\n",
    "    \n",
    "    gwas.assoc = list()\n",
    "    gwas.assoc$beta = all.info$g.beta\n",
    "    gwas.assoc$varbeta = all.info$g.se^2\n",
    "    gwas.assoc$snp = all.info$snp\n",
    "    gwas.assoc$position = all.info$pos\n",
    "    gwas.assoc$type = \"quant\"\n",
    "    gwas.assoc$N = N\n",
    "    gwas.assoc$MAF = all.info$g.maf\n",
    "    \n",
    "    log = capture.output({\n",
    "        abf.res = suppressWarnings(coloc.abf(gwas.assoc, module.qtl))\n",
    "    })\n",
    "    \n",
    "    data.frame(t(abf.res$summary)) %>%\n",
    "        dplyr::mutate(Module.QTL = module.qtl.id)\n",
    "}) %>%\n",
    "    do.call(rbind, .) %>%\n",
    "    dplyr::mutate(PP3plusPP4 = PP.H3.abf + PP.H4.abf) %>%\n",
    "    dplyr::mutate(COLOC.Factor = PP.H4.abf / PP3plusPP4) %>%\n",
    "    dplyr::mutate(Colocalise = (PP3plusPP4 > 0.25) & (COLOC.Factor > 0.7))"
   ]
  },
  {
   "cell_type": "code",
   "execution_count": 185,
   "id": "101fb1b5-9108-4a65-a583-3480d37b09ed",
   "metadata": {},
   "outputs": [
    {
     "data": {
      "text/html": [
       "<table class=\"dataframe\">\n",
       "<caption>A data.frame: 6 × 10</caption>\n",
       "<thead>\n",
       "\t<tr><th></th><th scope=col>nsnps</th><th scope=col>PP.H0.abf</th><th scope=col>PP.H1.abf</th><th scope=col>PP.H2.abf</th><th scope=col>PP.H3.abf</th><th scope=col>PP.H4.abf</th><th scope=col>Module.QTL</th><th scope=col>PP3plusPP4</th><th scope=col>COLOC.Factor</th><th scope=col>Colocalise</th></tr>\n",
       "\t<tr><th></th><th scope=col>&lt;dbl&gt;</th><th scope=col>&lt;dbl&gt;</th><th scope=col>&lt;dbl&gt;</th><th scope=col>&lt;dbl&gt;</th><th scope=col>&lt;dbl&gt;</th><th scope=col>&lt;dbl&gt;</th><th scope=col>&lt;chr&gt;</th><th scope=col>&lt;dbl&gt;</th><th scope=col>&lt;dbl&gt;</th><th scope=col>&lt;lgl&gt;</th></tr>\n",
       "</thead>\n",
       "<tbody>\n",
       "\t<tr><th scope=row>1</th><td> 2182</td><td>2.969159e-192</td><td>5.087285e-188</td><td>2.060329e-07</td><td>0.002532651</td><td>0.9974671</td><td>ME_101_3-12:54985643-57100037</td><td>0.9999998</td><td>0.9974673</td><td> TRUE</td></tr>\n",
       "\t<tr><th scope=row>2</th><td> 2182</td><td> 1.217712e-32</td><td> 2.086399e-28</td><td>3.006518e-07</td><td>0.004155450</td><td>0.9958442</td><td>ME_101_1-12:54985643-57100037</td><td>0.9999997</td><td>0.9958445</td><td> TRUE</td></tr>\n",
       "\t<tr><th scope=row>3</th><td> 2182</td><td> 1.828905e-18</td><td> 3.133601e-14</td><td>3.450285e-07</td><td>0.004916552</td><td>0.9950831</td><td>ME_101_4-12:54985643-57100037</td><td>0.9999997</td><td>0.9950834</td><td> TRUE</td></tr>\n",
       "\t<tr><th scope=row>4</th><td> 2182</td><td> 4.168121e-42</td><td> 7.141557e-38</td><td>3.897058e-07</td><td>0.005682808</td><td>0.9943168</td><td>ME_101_2-12:54985643-57100037</td><td>0.9999996</td><td>0.9943172</td><td> TRUE</td></tr>\n",
       "\t<tr><th scope=row>5</th><td> 2182</td><td> 9.125561e-06</td><td> 1.563552e-01</td><td>4.255334e-06</td><td>0.072138366</td><td>0.7714931</td><td>ME_101_5-12:54985643-57100037</td><td>0.8436315</td><td>0.9144907</td><td> TRUE</td></tr>\n",
       "\t<tr><th scope=row>6</th><td>15841</td><td> 0.000000e+00</td><td> 2.391250e-01</td><td>0.000000e+00</td><td>0.278142784</td><td>0.4827322</td><td>ME_92_1-6:29991224-32464002  </td><td>0.7608750</td><td>0.6344435</td><td>FALSE</td></tr>\n",
       "</tbody>\n",
       "</table>\n"
      ],
      "text/latex": [
       "A data.frame: 6 × 10\n",
       "\\begin{tabular}{r|llllllllll}\n",
       "  & nsnps & PP.H0.abf & PP.H1.abf & PP.H2.abf & PP.H3.abf & PP.H4.abf & Module.QTL & PP3plusPP4 & COLOC.Factor & Colocalise\\\\\n",
       "  & <dbl> & <dbl> & <dbl> & <dbl> & <dbl> & <dbl> & <chr> & <dbl> & <dbl> & <lgl>\\\\\n",
       "\\hline\n",
       "\t1 &  2182 & 2.969159e-192 & 5.087285e-188 & 2.060329e-07 & 0.002532651 & 0.9974671 & ME\\_101\\_3-12:54985643-57100037 & 0.9999998 & 0.9974673 &  TRUE\\\\\n",
       "\t2 &  2182 &  1.217712e-32 &  2.086399e-28 & 3.006518e-07 & 0.004155450 & 0.9958442 & ME\\_101\\_1-12:54985643-57100037 & 0.9999997 & 0.9958445 &  TRUE\\\\\n",
       "\t3 &  2182 &  1.828905e-18 &  3.133601e-14 & 3.450285e-07 & 0.004916552 & 0.9950831 & ME\\_101\\_4-12:54985643-57100037 & 0.9999997 & 0.9950834 &  TRUE\\\\\n",
       "\t4 &  2182 &  4.168121e-42 &  7.141557e-38 & 3.897058e-07 & 0.005682808 & 0.9943168 & ME\\_101\\_2-12:54985643-57100037 & 0.9999996 & 0.9943172 &  TRUE\\\\\n",
       "\t5 &  2182 &  9.125561e-06 &  1.563552e-01 & 4.255334e-06 & 0.072138366 & 0.7714931 & ME\\_101\\_5-12:54985643-57100037 & 0.8436315 & 0.9144907 &  TRUE\\\\\n",
       "\t6 & 15841 &  0.000000e+00 &  2.391250e-01 & 0.000000e+00 & 0.278142784 & 0.4827322 & ME\\_92\\_1-6:29991224-32464002   & 0.7608750 & 0.6344435 & FALSE\\\\\n",
       "\\end{tabular}\n"
      ],
      "text/markdown": [
       "\n",
       "A data.frame: 6 × 10\n",
       "\n",
       "| <!--/--> | nsnps &lt;dbl&gt; | PP.H0.abf &lt;dbl&gt; | PP.H1.abf &lt;dbl&gt; | PP.H2.abf &lt;dbl&gt; | PP.H3.abf &lt;dbl&gt; | PP.H4.abf &lt;dbl&gt; | Module.QTL &lt;chr&gt; | PP3plusPP4 &lt;dbl&gt; | COLOC.Factor &lt;dbl&gt; | Colocalise &lt;lgl&gt; |\n",
       "|---|---|---|---|---|---|---|---|---|---|---|\n",
       "| 1 |  2182 | 2.969159e-192 | 5.087285e-188 | 2.060329e-07 | 0.002532651 | 0.9974671 | ME_101_3-12:54985643-57100037 | 0.9999998 | 0.9974673 |  TRUE |\n",
       "| 2 |  2182 |  1.217712e-32 |  2.086399e-28 | 3.006518e-07 | 0.004155450 | 0.9958442 | ME_101_1-12:54985643-57100037 | 0.9999997 | 0.9958445 |  TRUE |\n",
       "| 3 |  2182 |  1.828905e-18 |  3.133601e-14 | 3.450285e-07 | 0.004916552 | 0.9950831 | ME_101_4-12:54985643-57100037 | 0.9999997 | 0.9950834 |  TRUE |\n",
       "| 4 |  2182 |  4.168121e-42 |  7.141557e-38 | 3.897058e-07 | 0.005682808 | 0.9943168 | ME_101_2-12:54985643-57100037 | 0.9999996 | 0.9943172 |  TRUE |\n",
       "| 5 |  2182 |  9.125561e-06 |  1.563552e-01 | 4.255334e-06 | 0.072138366 | 0.7714931 | ME_101_5-12:54985643-57100037 | 0.8436315 | 0.9144907 |  TRUE |\n",
       "| 6 | 15841 |  0.000000e+00 |  2.391250e-01 | 0.000000e+00 | 0.278142784 | 0.4827322 | ME_92_1-6:29991224-32464002   | 0.7608750 | 0.6344435 | FALSE |\n",
       "\n"
      ],
      "text/plain": [
       "  nsnps PP.H0.abf     PP.H1.abf     PP.H2.abf    PP.H3.abf   PP.H4.abf\n",
       "1  2182 2.969159e-192 5.087285e-188 2.060329e-07 0.002532651 0.9974671\n",
       "2  2182  1.217712e-32  2.086399e-28 3.006518e-07 0.004155450 0.9958442\n",
       "3  2182  1.828905e-18  3.133601e-14 3.450285e-07 0.004916552 0.9950831\n",
       "4  2182  4.168121e-42  7.141557e-38 3.897058e-07 0.005682808 0.9943168\n",
       "5  2182  9.125561e-06  1.563552e-01 4.255334e-06 0.072138366 0.7714931\n",
       "6 15841  0.000000e+00  2.391250e-01 0.000000e+00 0.278142784 0.4827322\n",
       "  Module.QTL                    PP3plusPP4 COLOC.Factor Colocalise\n",
       "1 ME_101_3-12:54985643-57100037 0.9999998  0.9974673     TRUE     \n",
       "2 ME_101_1-12:54985643-57100037 0.9999997  0.9958445     TRUE     \n",
       "3 ME_101_4-12:54985643-57100037 0.9999997  0.9950834     TRUE     \n",
       "4 ME_101_2-12:54985643-57100037 0.9999996  0.9943172     TRUE     \n",
       "5 ME_101_5-12:54985643-57100037 0.8436315  0.9144907     TRUE     \n",
       "6 ME_92_1-6:29991224-32464002   0.7608750  0.6344435    FALSE     "
      ]
     },
     "metadata": {},
     "output_type": "display_data"
    }
   ],
   "source": [
    "lym.coloc %>%\n",
    "    dplyr::filter(PP3plusPP4 > 0.25) %>%\n",
    "    dplyr::arrange(desc(COLOC.Factor)) %>%\n",
    "    head()"
   ]
  },
  {
   "cell_type": "code",
   "execution_count": 186,
   "id": "802f9c76-2903-4069-a1de-181ade6a0a70",
   "metadata": {},
   "outputs": [],
   "source": [
    "rm(lym.ct)"
   ]
  },
  {
   "cell_type": "markdown",
   "id": "fcb2f582-bcd0-4f2b-bada-be0bbc49165e",
   "metadata": {
    "jp-MarkdownHeadingCollapsed": true,
    "tags": []
   },
   "source": [
    "## Neutrophil Counts\n",
    "\n",
    "**Study**: [GCST90002398](https://www.ebi.ac.uk/gwas/studies/GCST90002398)"
   ]
  },
  {
   "cell_type": "code",
   "execution_count": 187,
   "id": "6581551a-ea6e-4428-9e45-8fc3a319eefd",
   "metadata": {},
   "outputs": [],
   "source": [
    "ntr.ct <- fread(\"~/gains_team282/nikhil/data/EBI_GWAS_Catalog/GCST90002398_buildGRCh37.tsv\", sep=\"\\t\")"
   ]
  },
  {
   "cell_type": "code",
   "execution_count": 188,
   "id": "50a7fdff-9dc5-4f0b-b828-202c23a6c517",
   "metadata": {},
   "outputs": [],
   "source": [
    "ntr.me <- ebi.mqtl %>%\n",
    "    dplyr::filter(accession == \"GCST90002398\")\n",
    "\n",
    "ntr.snps <- unique(ntr.me$snp)"
   ]
  },
  {
   "cell_type": "code",
   "execution_count": 189,
   "id": "ac069405-b5b5-4b3b-9830-4dca5b76e177",
   "metadata": {},
   "outputs": [],
   "source": [
    "module.qtl.set <- module.qtl.sum %>%\n",
    "    dplyr::filter(snp %in% ntr.snps)\n",
    "\n",
    "module.qtl.set <- unique(module.qtl.set$module.qtl)"
   ]
  },
  {
   "cell_type": "code",
   "execution_count": 190,
   "id": "0e370ea6-f902-4d85-b6c1-865b7f204658",
   "metadata": {},
   "outputs": [],
   "source": [
    "all.snps <- module.qtl.sum %>%\n",
    "    dplyr::filter(module.qtl %in% module.qtl.set)\n",
    "\n",
    "all.snps <- all.snps$snp\n",
    "\n",
    "ntr.ct <- ntr.ct %>%\n",
    "    dplyr::filter(variant_id %in% all.snps) %>%\n",
    "    dplyr::mutate(IUPAC = alleles.iupac(other_allele, effect_allele))"
   ]
  },
  {
   "cell_type": "code",
   "execution_count": 191,
   "id": "31d3fef3-9deb-4cbf-96a5-aa730424e783",
   "metadata": {},
   "outputs": [],
   "source": [
    "ntr.coloc <- lapply(module.qtl.set, function(module.qtl.id) {\n",
    " \n",
    "    module.id = gsub(\"-.*\", \"\", module.qtl.id)\n",
    "    \n",
    "    mqtl.locus.info = module.qtl.sum %>%\n",
    "        dplyr::filter(module.qtl == module.qtl.id) %>%\n",
    "        dplyr::select(m.snp = snp, m.beta=beta, m.se=se, m.pos=pos, major_allele, minor_allele, IUPAC)\n",
    "    \n",
    "    all.info = ntr.ct %>%\n",
    "        dplyr::filter(variant_id %in% mqtl.locus.info$m.snp) %>%\n",
    "        merge(\n",
    "            ., mqtl.locus.info, \n",
    "            by.x=c(\"variant_id\", \"IUPAC\"),\n",
    "            by.y=c(\"m.snp\", \"IUPAC\")\n",
    "        ) %>%\n",
    "        dplyr::select(snp=variant_id, m.beta, m.se, pos=m.pos, g.beta=beta, g.se=standard_error, g.maf=MA_FREQ) %>%\n",
    "        dplyr::mutate(g.maf = sapply(g.maf, function(p) { min(p, 1 - p) }))\n",
    "    \n",
    "    module.qtl = list()\n",
    "    module.qtl$beta = all.info$m.beta\n",
    "    module.qtl$varbeta = all.info$m.se^2\n",
    "    module.qtl$snp = all.info$snp\n",
    "    module.qtl$position = all.info$pos\n",
    "    module.qtl$type = \"quant\"\n",
    "    module.qtl$sdY = sd(eigengenes[, module.id], na.rm=TRUE)\n",
    "    \n",
    "    N = 408112\n",
    "    \n",
    "    gwas.assoc = list()\n",
    "    gwas.assoc$beta = all.info$g.beta\n",
    "    gwas.assoc$varbeta = all.info$g.se^2\n",
    "    gwas.assoc$snp = all.info$snp\n",
    "    gwas.assoc$position = all.info$pos\n",
    "    gwas.assoc$type = \"quant\"\n",
    "    gwas.assoc$N = N\n",
    "    gwas.assoc$MAF = all.info$g.maf\n",
    "    \n",
    "    log = capture.output({\n",
    "        abf.res = suppressWarnings(coloc.abf(gwas.assoc, module.qtl))\n",
    "    })\n",
    "    \n",
    "    data.frame(t(abf.res$summary)) %>%\n",
    "        dplyr::mutate(Module.QTL = module.qtl.id)\n",
    "}) %>%\n",
    "    do.call(rbind, .) %>%\n",
    "    dplyr::mutate(PP3plusPP4 = PP.H3.abf + PP.H4.abf) %>%\n",
    "    dplyr::mutate(COLOC.Factor = PP.H4.abf / PP3plusPP4) %>%\n",
    "    dplyr::mutate(Colocalise = (PP3plusPP4 > 0.25) & (COLOC.Factor > 0.7))"
   ]
  },
  {
   "cell_type": "code",
   "execution_count": 192,
   "id": "2f4622a9-c2a7-480b-b4f2-84115da21a60",
   "metadata": {},
   "outputs": [
    {
     "data": {
      "text/html": [
       "<table class=\"dataframe\">\n",
       "<caption>A data.frame: 6 × 10</caption>\n",
       "<thead>\n",
       "\t<tr><th></th><th scope=col>nsnps</th><th scope=col>PP.H0.abf</th><th scope=col>PP.H1.abf</th><th scope=col>PP.H2.abf</th><th scope=col>PP.H3.abf</th><th scope=col>PP.H4.abf</th><th scope=col>Module.QTL</th><th scope=col>PP3plusPP4</th><th scope=col>COLOC.Factor</th><th scope=col>Colocalise</th></tr>\n",
       "\t<tr><th></th><th scope=col>&lt;dbl&gt;</th><th scope=col>&lt;dbl&gt;</th><th scope=col>&lt;dbl&gt;</th><th scope=col>&lt;dbl&gt;</th><th scope=col>&lt;dbl&gt;</th><th scope=col>&lt;dbl&gt;</th><th scope=col>&lt;chr&gt;</th><th scope=col>&lt;dbl&gt;</th><th scope=col>&lt;dbl&gt;</th><th scope=col>&lt;lgl&gt;</th></tr>\n",
       "</thead>\n",
       "<tbody>\n",
       "\t<tr><th scope=row>1</th><td> 3940</td><td>7.346756e-321</td><td>1.285174e-302</td><td> 5.836537e-22</td><td>2.099423e-05</td><td>0.9999790</td><td>ME_103_3-12:68275923-70376531</td><td>1.0000000</td><td>0.9999790</td><td> TRUE</td></tr>\n",
       "\t<tr><th scope=row>2</th><td> 3940</td><td>1.663807e-250</td><td>2.910464e-232</td><td> 5.836537e-22</td><td>2.099423e-05</td><td>0.9999790</td><td>ME_103_2-12:68275923-70376531</td><td>1.0000000</td><td>0.9999790</td><td> TRUE</td></tr>\n",
       "\t<tr><th scope=row>3</th><td> 3940</td><td> 3.546797e-69</td><td> 6.204338e-51</td><td> 5.836720e-22</td><td>2.102631e-05</td><td>0.9999790</td><td>ME_103_4-12:68275923-70376531</td><td>1.0000000</td><td>0.9999790</td><td> TRUE</td></tr>\n",
       "\t<tr><th scope=row>4</th><td> 3940</td><td> 1.139418e-46</td><td> 1.993160e-28</td><td> 2.545606e-21</td><td>3.456432e-03</td><td>0.9965436</td><td>ME_103_1-12:68275923-70376531</td><td>1.0000000</td><td>0.9965436</td><td> TRUE</td></tr>\n",
       "\t<tr><th scope=row>5</th><td>29066</td><td>1.975376e-192</td><td> 7.610087e-12</td><td>2.774216e-182</td><td>1.067703e-01</td><td>0.8932297</td><td>ME_84_5-6:28836283-33995104  </td><td>1.0000000</td><td>0.8932297</td><td> TRUE</td></tr>\n",
       "\t<tr><th scope=row>6</th><td>19700</td><td>2.683522e-159</td><td> 2.836089e-01</td><td>5.713878e-159</td><td>6.038441e-01</td><td>0.1125470</td><td>ME_97_2-6:28558600-31905730  </td><td>0.7163911</td><td>0.1571027</td><td>FALSE</td></tr>\n",
       "</tbody>\n",
       "</table>\n"
      ],
      "text/latex": [
       "A data.frame: 6 × 10\n",
       "\\begin{tabular}{r|llllllllll}\n",
       "  & nsnps & PP.H0.abf & PP.H1.abf & PP.H2.abf & PP.H3.abf & PP.H4.abf & Module.QTL & PP3plusPP4 & COLOC.Factor & Colocalise\\\\\n",
       "  & <dbl> & <dbl> & <dbl> & <dbl> & <dbl> & <dbl> & <chr> & <dbl> & <dbl> & <lgl>\\\\\n",
       "\\hline\n",
       "\t1 &  3940 & 7.346756e-321 & 1.285174e-302 &  5.836537e-22 & 2.099423e-05 & 0.9999790 & ME\\_103\\_3-12:68275923-70376531 & 1.0000000 & 0.9999790 &  TRUE\\\\\n",
       "\t2 &  3940 & 1.663807e-250 & 2.910464e-232 &  5.836537e-22 & 2.099423e-05 & 0.9999790 & ME\\_103\\_2-12:68275923-70376531 & 1.0000000 & 0.9999790 &  TRUE\\\\\n",
       "\t3 &  3940 &  3.546797e-69 &  6.204338e-51 &  5.836720e-22 & 2.102631e-05 & 0.9999790 & ME\\_103\\_4-12:68275923-70376531 & 1.0000000 & 0.9999790 &  TRUE\\\\\n",
       "\t4 &  3940 &  1.139418e-46 &  1.993160e-28 &  2.545606e-21 & 3.456432e-03 & 0.9965436 & ME\\_103\\_1-12:68275923-70376531 & 1.0000000 & 0.9965436 &  TRUE\\\\\n",
       "\t5 & 29066 & 1.975376e-192 &  7.610087e-12 & 2.774216e-182 & 1.067703e-01 & 0.8932297 & ME\\_84\\_5-6:28836283-33995104   & 1.0000000 & 0.8932297 &  TRUE\\\\\n",
       "\t6 & 19700 & 2.683522e-159 &  2.836089e-01 & 5.713878e-159 & 6.038441e-01 & 0.1125470 & ME\\_97\\_2-6:28558600-31905730   & 0.7163911 & 0.1571027 & FALSE\\\\\n",
       "\\end{tabular}\n"
      ],
      "text/markdown": [
       "\n",
       "A data.frame: 6 × 10\n",
       "\n",
       "| <!--/--> | nsnps &lt;dbl&gt; | PP.H0.abf &lt;dbl&gt; | PP.H1.abf &lt;dbl&gt; | PP.H2.abf &lt;dbl&gt; | PP.H3.abf &lt;dbl&gt; | PP.H4.abf &lt;dbl&gt; | Module.QTL &lt;chr&gt; | PP3plusPP4 &lt;dbl&gt; | COLOC.Factor &lt;dbl&gt; | Colocalise &lt;lgl&gt; |\n",
       "|---|---|---|---|---|---|---|---|---|---|---|\n",
       "| 1 |  3940 | 7.346756e-321 | 1.285174e-302 |  5.836537e-22 | 2.099423e-05 | 0.9999790 | ME_103_3-12:68275923-70376531 | 1.0000000 | 0.9999790 |  TRUE |\n",
       "| 2 |  3940 | 1.663807e-250 | 2.910464e-232 |  5.836537e-22 | 2.099423e-05 | 0.9999790 | ME_103_2-12:68275923-70376531 | 1.0000000 | 0.9999790 |  TRUE |\n",
       "| 3 |  3940 |  3.546797e-69 |  6.204338e-51 |  5.836720e-22 | 2.102631e-05 | 0.9999790 | ME_103_4-12:68275923-70376531 | 1.0000000 | 0.9999790 |  TRUE |\n",
       "| 4 |  3940 |  1.139418e-46 |  1.993160e-28 |  2.545606e-21 | 3.456432e-03 | 0.9965436 | ME_103_1-12:68275923-70376531 | 1.0000000 | 0.9965436 |  TRUE |\n",
       "| 5 | 29066 | 1.975376e-192 |  7.610087e-12 | 2.774216e-182 | 1.067703e-01 | 0.8932297 | ME_84_5-6:28836283-33995104   | 1.0000000 | 0.8932297 |  TRUE |\n",
       "| 6 | 19700 | 2.683522e-159 |  2.836089e-01 | 5.713878e-159 | 6.038441e-01 | 0.1125470 | ME_97_2-6:28558600-31905730   | 0.7163911 | 0.1571027 | FALSE |\n",
       "\n"
      ],
      "text/plain": [
       "  nsnps PP.H0.abf     PP.H1.abf     PP.H2.abf     PP.H3.abf    PP.H4.abf\n",
       "1  3940 7.346756e-321 1.285174e-302  5.836537e-22 2.099423e-05 0.9999790\n",
       "2  3940 1.663807e-250 2.910464e-232  5.836537e-22 2.099423e-05 0.9999790\n",
       "3  3940  3.546797e-69  6.204338e-51  5.836720e-22 2.102631e-05 0.9999790\n",
       "4  3940  1.139418e-46  1.993160e-28  2.545606e-21 3.456432e-03 0.9965436\n",
       "5 29066 1.975376e-192  7.610087e-12 2.774216e-182 1.067703e-01 0.8932297\n",
       "6 19700 2.683522e-159  2.836089e-01 5.713878e-159 6.038441e-01 0.1125470\n",
       "  Module.QTL                    PP3plusPP4 COLOC.Factor Colocalise\n",
       "1 ME_103_3-12:68275923-70376531 1.0000000  0.9999790     TRUE     \n",
       "2 ME_103_2-12:68275923-70376531 1.0000000  0.9999790     TRUE     \n",
       "3 ME_103_4-12:68275923-70376531 1.0000000  0.9999790     TRUE     \n",
       "4 ME_103_1-12:68275923-70376531 1.0000000  0.9965436     TRUE     \n",
       "5 ME_84_5-6:28836283-33995104   1.0000000  0.8932297     TRUE     \n",
       "6 ME_97_2-6:28558600-31905730   0.7163911  0.1571027    FALSE     "
      ]
     },
     "metadata": {},
     "output_type": "display_data"
    }
   ],
   "source": [
    "ntr.coloc  %>%\n",
    "    dplyr::filter(PP3plusPP4 > 0.25) %>%\n",
    "    dplyr::arrange(desc(COLOC.Factor)) %>%\n",
    "    head()"
   ]
  },
  {
   "cell_type": "code",
   "execution_count": 199,
   "id": "63b368b7-5193-4304-a9aa-fe93cd1832ac",
   "metadata": {},
   "outputs": [],
   "source": [
    "rm(ntr.ct)"
   ]
  },
  {
   "cell_type": "markdown",
   "id": "c2efe4ef-6795-4fd9-bdca-d767e5ed426a",
   "metadata": {
    "jp-MarkdownHeadingCollapsed": true,
    "tags": []
   },
   "source": [
    "## Monocyte Counts\n",
    "\n",
    "**Study**: [GCST90002393](https://www.ebi.ac.uk/gwas/studies/GCST90002393)"
   ]
  },
  {
   "cell_type": "code",
   "execution_count": 193,
   "id": "f24ce72c-d8ef-4c20-981f-3cc1999c2e0a",
   "metadata": {},
   "outputs": [],
   "source": [
    "mnc.ct <- fread(\"~/gains_team282/nikhil/data/EBI_GWAS_Catalog/GCST90002393_buildGRCh37.tsv\", sep=\"\\t\")"
   ]
  },
  {
   "cell_type": "code",
   "execution_count": 194,
   "id": "cbc3b4dc-ee76-4fff-971e-2e375d07e2db",
   "metadata": {},
   "outputs": [],
   "source": [
    "mnc.me <- ebi.mqtl %>%\n",
    "    dplyr::filter(accession == \"GCST90002393\")\n",
    "\n",
    "mnc.snps <- unique(mnc.me$snp)"
   ]
  },
  {
   "cell_type": "code",
   "execution_count": 195,
   "id": "1ee0b1b2-85bf-4d9d-9bc0-00e3fb45d45a",
   "metadata": {},
   "outputs": [],
   "source": [
    "module.qtl.set <- module.qtl.sum %>%\n",
    "    dplyr::filter(snp %in% mnc.snps)\n",
    "\n",
    "module.qtl.set <- unique(module.qtl.set$module.qtl)"
   ]
  },
  {
   "cell_type": "code",
   "execution_count": 196,
   "id": "8c410b99-51fa-4690-93d6-648552221d05",
   "metadata": {},
   "outputs": [],
   "source": [
    "all.snps <- module.qtl.sum %>%\n",
    "    dplyr::filter(module.qtl %in% module.qtl.set)\n",
    "\n",
    "all.snps <- all.snps$snp\n",
    "\n",
    "mnc.ct <- mnc.ct %>%\n",
    "    dplyr::filter(variant_id %in% all.snps) %>%\n",
    "    dplyr::mutate(IUPAC = alleles.iupac(other_allele, effect_allele))"
   ]
  },
  {
   "cell_type": "code",
   "execution_count": 197,
   "id": "3bec1547-328e-4d16-aca2-e47c720d566b",
   "metadata": {},
   "outputs": [],
   "source": [
    "mnc.coloc <- lapply(module.qtl.set, function(module.qtl.id) {\n",
    " \n",
    "    module.id = gsub(\"-.*\", \"\", module.qtl.id)\n",
    "    \n",
    "    mqtl.locus.info = module.qtl.sum %>%\n",
    "        dplyr::filter(module.qtl == module.qtl.id) %>%\n",
    "        dplyr::select(m.snp = snp, m.beta=beta, m.se=se, m.pos=pos, major_allele, minor_allele, IUPAC)\n",
    "    \n",
    "    all.info = mnc.ct %>%\n",
    "        dplyr::filter(variant_id %in% mqtl.locus.info$m.snp) %>%\n",
    "        merge(\n",
    "            ., mqtl.locus.info, \n",
    "            by.x=c(\"variant_id\", \"IUPAC\"),\n",
    "            by.y=c(\"m.snp\", \"IUPAC\")\n",
    "        ) %>%\n",
    "        dplyr::select(snp=variant_id, m.beta, m.se, pos=m.pos, g.beta=beta, g.se=standard_error, g.maf=MA_FREQ) %>%\n",
    "        dplyr::mutate(g.maf = sapply(g.maf, function(p) { min(p, 1 - p) }))\n",
    "    \n",
    "    module.qtl = list()\n",
    "    module.qtl$beta = all.info$m.beta\n",
    "    module.qtl$varbeta = all.info$m.se^2\n",
    "    module.qtl$snp = all.info$snp\n",
    "    module.qtl$position = all.info$pos\n",
    "    module.qtl$type = \"quant\"\n",
    "    module.qtl$sdY = sd(eigengenes[, module.id], na.rm=TRUE)\n",
    "    \n",
    "    N = 408112\n",
    "    \n",
    "    gwas.assoc = list()\n",
    "    gwas.assoc$beta = all.info$g.beta\n",
    "    gwas.assoc$varbeta = all.info$g.se^2\n",
    "    gwas.assoc$snp = all.info$snp\n",
    "    gwas.assoc$position = all.info$pos\n",
    "    gwas.assoc$type = \"quant\"\n",
    "    gwas.assoc$N = N\n",
    "    gwas.assoc$MAF = all.info$g.maf\n",
    "    \n",
    "    log = capture.output({\n",
    "        abf.res = suppressWarnings(coloc.abf(gwas.assoc, module.qtl))\n",
    "    })\n",
    "    \n",
    "    data.frame(t(abf.res$summary)) %>%\n",
    "        dplyr::mutate(Module.QTL = module.qtl.id)\n",
    "}) %>%\n",
    "    do.call(rbind, .) %>%\n",
    "    dplyr::mutate(PP3plusPP4 = PP.H3.abf + PP.H4.abf) %>%\n",
    "    dplyr::mutate(COLOC.Factor = PP.H4.abf / PP3plusPP4) %>%\n",
    "    dplyr::mutate(Colocalise = (PP3plusPP4 > 0.25) & (COLOC.Factor > 0.7))"
   ]
  },
  {
   "cell_type": "code",
   "execution_count": 198,
   "id": "7aa6697c-3a1d-442f-bedd-8b89df5492c6",
   "metadata": {},
   "outputs": [
    {
     "data": {
      "text/html": [
       "<table class=\"dataframe\">\n",
       "<caption>A data.frame: 6 × 10</caption>\n",
       "<thead>\n",
       "\t<tr><th></th><th scope=col>nsnps</th><th scope=col>PP.H0.abf</th><th scope=col>PP.H1.abf</th><th scope=col>PP.H2.abf</th><th scope=col>PP.H3.abf</th><th scope=col>PP.H4.abf</th><th scope=col>Module.QTL</th><th scope=col>PP3plusPP4</th><th scope=col>COLOC.Factor</th><th scope=col>Colocalise</th></tr>\n",
       "\t<tr><th></th><th scope=col>&lt;dbl&gt;</th><th scope=col>&lt;dbl&gt;</th><th scope=col>&lt;dbl&gt;</th><th scope=col>&lt;dbl&gt;</th><th scope=col>&lt;dbl&gt;</th><th scope=col>&lt;dbl&gt;</th><th scope=col>&lt;chr&gt;</th><th scope=col>&lt;dbl&gt;</th><th scope=col>&lt;dbl&gt;</th><th scope=col>&lt;lgl&gt;</th></tr>\n",
       "</thead>\n",
       "<tbody>\n",
       "\t<tr><th scope=row>1</th><td>19700</td><td>4.082500e-169</td><td>0.3054576</td><td>5.623349e-169</td><td>0.4206753</td><td>0.27386705</td><td>ME_97_3-6:28558600-31905730</td><td>0.6945424</td><td>0.39431294</td><td>FALSE</td></tr>\n",
       "\t<tr><th scope=row>2</th><td>19700</td><td>6.285794e-169</td><td>0.4703108</td><td>5.654876e-169</td><td>0.4230773</td><td>0.10661189</td><td>ME_97_5-6:28558600-31905730</td><td>0.5296892</td><td>0.20127255</td><td>FALSE</td></tr>\n",
       "\t<tr><th scope=row>3</th><td>15841</td><td>5.272284e-169</td><td>0.4905629</td><td>4.787903e-169</td><td>0.4454679</td><td>0.06396916</td><td>ME_92_3-6:29991224-32464002</td><td>0.5094371</td><td>0.12556833</td><td>FALSE</td></tr>\n",
       "\t<tr><th scope=row>4</th><td>19700</td><td>3.932210e-169</td><td>0.2942127</td><td>8.372641e-169</td><td>0.6264308</td><td>0.07935645</td><td>ME_97_2-6:28558600-31905730</td><td>0.7057873</td><td>0.11243678</td><td>FALSE</td></tr>\n",
       "\t<tr><th scope=row>5</th><td>19700</td><td>6.769981e-169</td><td>0.5065383</td><td>6.016767e-169</td><td>0.4501708</td><td>0.04329093</td><td>ME_97_1-6:28558600-31905730</td><td>0.4934617</td><td>0.08772906</td><td>FALSE</td></tr>\n",
       "\t<tr><th scope=row>6</th><td>15841</td><td>6.104748e-169</td><td>0.5680201</td><td>4.286374e-169</td><td>0.3988151</td><td>0.03316477</td><td>ME_92_4-6:29991224-32464002</td><td>0.4319799</td><td>0.07677386</td><td>FALSE</td></tr>\n",
       "</tbody>\n",
       "</table>\n"
      ],
      "text/latex": [
       "A data.frame: 6 × 10\n",
       "\\begin{tabular}{r|llllllllll}\n",
       "  & nsnps & PP.H0.abf & PP.H1.abf & PP.H2.abf & PP.H3.abf & PP.H4.abf & Module.QTL & PP3plusPP4 & COLOC.Factor & Colocalise\\\\\n",
       "  & <dbl> & <dbl> & <dbl> & <dbl> & <dbl> & <dbl> & <chr> & <dbl> & <dbl> & <lgl>\\\\\n",
       "\\hline\n",
       "\t1 & 19700 & 4.082500e-169 & 0.3054576 & 5.623349e-169 & 0.4206753 & 0.27386705 & ME\\_97\\_3-6:28558600-31905730 & 0.6945424 & 0.39431294 & FALSE\\\\\n",
       "\t2 & 19700 & 6.285794e-169 & 0.4703108 & 5.654876e-169 & 0.4230773 & 0.10661189 & ME\\_97\\_5-6:28558600-31905730 & 0.5296892 & 0.20127255 & FALSE\\\\\n",
       "\t3 & 15841 & 5.272284e-169 & 0.4905629 & 4.787903e-169 & 0.4454679 & 0.06396916 & ME\\_92\\_3-6:29991224-32464002 & 0.5094371 & 0.12556833 & FALSE\\\\\n",
       "\t4 & 19700 & 3.932210e-169 & 0.2942127 & 8.372641e-169 & 0.6264308 & 0.07935645 & ME\\_97\\_2-6:28558600-31905730 & 0.7057873 & 0.11243678 & FALSE\\\\\n",
       "\t5 & 19700 & 6.769981e-169 & 0.5065383 & 6.016767e-169 & 0.4501708 & 0.04329093 & ME\\_97\\_1-6:28558600-31905730 & 0.4934617 & 0.08772906 & FALSE\\\\\n",
       "\t6 & 15841 & 6.104748e-169 & 0.5680201 & 4.286374e-169 & 0.3988151 & 0.03316477 & ME\\_92\\_4-6:29991224-32464002 & 0.4319799 & 0.07677386 & FALSE\\\\\n",
       "\\end{tabular}\n"
      ],
      "text/markdown": [
       "\n",
       "A data.frame: 6 × 10\n",
       "\n",
       "| <!--/--> | nsnps &lt;dbl&gt; | PP.H0.abf &lt;dbl&gt; | PP.H1.abf &lt;dbl&gt; | PP.H2.abf &lt;dbl&gt; | PP.H3.abf &lt;dbl&gt; | PP.H4.abf &lt;dbl&gt; | Module.QTL &lt;chr&gt; | PP3plusPP4 &lt;dbl&gt; | COLOC.Factor &lt;dbl&gt; | Colocalise &lt;lgl&gt; |\n",
       "|---|---|---|---|---|---|---|---|---|---|---|\n",
       "| 1 | 19700 | 4.082500e-169 | 0.3054576 | 5.623349e-169 | 0.4206753 | 0.27386705 | ME_97_3-6:28558600-31905730 | 0.6945424 | 0.39431294 | FALSE |\n",
       "| 2 | 19700 | 6.285794e-169 | 0.4703108 | 5.654876e-169 | 0.4230773 | 0.10661189 | ME_97_5-6:28558600-31905730 | 0.5296892 | 0.20127255 | FALSE |\n",
       "| 3 | 15841 | 5.272284e-169 | 0.4905629 | 4.787903e-169 | 0.4454679 | 0.06396916 | ME_92_3-6:29991224-32464002 | 0.5094371 | 0.12556833 | FALSE |\n",
       "| 4 | 19700 | 3.932210e-169 | 0.2942127 | 8.372641e-169 | 0.6264308 | 0.07935645 | ME_97_2-6:28558600-31905730 | 0.7057873 | 0.11243678 | FALSE |\n",
       "| 5 | 19700 | 6.769981e-169 | 0.5065383 | 6.016767e-169 | 0.4501708 | 0.04329093 | ME_97_1-6:28558600-31905730 | 0.4934617 | 0.08772906 | FALSE |\n",
       "| 6 | 15841 | 6.104748e-169 | 0.5680201 | 4.286374e-169 | 0.3988151 | 0.03316477 | ME_92_4-6:29991224-32464002 | 0.4319799 | 0.07677386 | FALSE |\n",
       "\n"
      ],
      "text/plain": [
       "  nsnps PP.H0.abf     PP.H1.abf PP.H2.abf     PP.H3.abf PP.H4.abf \n",
       "1 19700 4.082500e-169 0.3054576 5.623349e-169 0.4206753 0.27386705\n",
       "2 19700 6.285794e-169 0.4703108 5.654876e-169 0.4230773 0.10661189\n",
       "3 15841 5.272284e-169 0.4905629 4.787903e-169 0.4454679 0.06396916\n",
       "4 19700 3.932210e-169 0.2942127 8.372641e-169 0.6264308 0.07935645\n",
       "5 19700 6.769981e-169 0.5065383 6.016767e-169 0.4501708 0.04329093\n",
       "6 15841 6.104748e-169 0.5680201 4.286374e-169 0.3988151 0.03316477\n",
       "  Module.QTL                  PP3plusPP4 COLOC.Factor Colocalise\n",
       "1 ME_97_3-6:28558600-31905730 0.6945424  0.39431294   FALSE     \n",
       "2 ME_97_5-6:28558600-31905730 0.5296892  0.20127255   FALSE     \n",
       "3 ME_92_3-6:29991224-32464002 0.5094371  0.12556833   FALSE     \n",
       "4 ME_97_2-6:28558600-31905730 0.7057873  0.11243678   FALSE     \n",
       "5 ME_97_1-6:28558600-31905730 0.4934617  0.08772906   FALSE     \n",
       "6 ME_92_4-6:29991224-32464002 0.4319799  0.07677386   FALSE     "
      ]
     },
     "metadata": {},
     "output_type": "display_data"
    }
   ],
   "source": [
    "mnc.coloc %>%\n",
    "    dplyr::filter(PP3plusPP4 > 0.25) %>%\n",
    "    dplyr::arrange(desc(COLOC.Factor)) %>%\n",
    "    head()"
   ]
  },
  {
   "cell_type": "code",
   "execution_count": 200,
   "id": "27d90d7e-aacf-460f-b1d8-b8db159cf136",
   "metadata": {},
   "outputs": [],
   "source": [
    "rm(mnc.ct)"
   ]
  },
  {
   "cell_type": "markdown",
   "id": "41bb5cc2-1ac9-4202-9d86-0c04f3eaa1e3",
   "metadata": {
    "jp-MarkdownHeadingCollapsed": true,
    "tags": []
   },
   "source": [
    "## Eosinophil Counts\n",
    "\n",
    "**Study**: [GCST90002381](https://www.ebi.ac.uk/gwas/studies/GCST90002381)"
   ]
  },
  {
   "cell_type": "code",
   "execution_count": 201,
   "id": "6fdcbe0d-830a-4620-bd43-64e8e1485874",
   "metadata": {},
   "outputs": [],
   "source": [
    "eos.ct <- fread(\"~/gains_team282/nikhil/data/EBI_GWAS_Catalog/GCST90002388_buildGRCh37.tsv\", sep=\"\\t\")"
   ]
  },
  {
   "cell_type": "code",
   "execution_count": 202,
   "id": "d5008c58-4398-4560-9f25-afc6901c608b",
   "metadata": {},
   "outputs": [],
   "source": [
    "eos.me <- ebi.mqtl %>%\n",
    "    dplyr::filter(accession == \"GCST90002388\")\n",
    "\n",
    "eos.snps <- unique(eos.me$snp)"
   ]
  },
  {
   "cell_type": "code",
   "execution_count": 203,
   "id": "eecd3636-393f-4422-af03-7f5250ff67e2",
   "metadata": {},
   "outputs": [],
   "source": [
    "module.qtl.set <- module.qtl.sum %>%\n",
    "    dplyr::filter(snp %in% eos.snps)\n",
    "\n",
    "module.qtl.set <- unique(module.qtl.set$module.qtl)"
   ]
  },
  {
   "cell_type": "code",
   "execution_count": 204,
   "id": "d0f24ba0-78df-46d8-836f-c0ef351c9db7",
   "metadata": {},
   "outputs": [],
   "source": [
    "all.snps <- module.qtl.sum %>%\n",
    "    dplyr::filter(module.qtl %in% module.qtl.set)\n",
    "\n",
    "all.snps <- all.snps$snp\n",
    "\n",
    "eos.ct <- eos.ct %>%\n",
    "    dplyr::filter(variant_id %in% all.snps) %>%\n",
    "    dplyr::mutate(IUPAC = alleles.iupac(other_allele, effect_allele))"
   ]
  },
  {
   "cell_type": "code",
   "execution_count": 205,
   "id": "68442ee8-05f1-4732-be22-9252bb2e13c5",
   "metadata": {},
   "outputs": [],
   "source": [
    "eos.coloc <- lapply(module.qtl.set, function(module.qtl.id) {\n",
    " \n",
    "    module.id = gsub(\"-.*\", \"\", module.qtl.id)\n",
    "    \n",
    "    mqtl.locus.info = module.qtl.sum %>%\n",
    "        dplyr::filter(module.qtl == module.qtl.id) %>%\n",
    "        dplyr::select(m.snp = snp, m.beta=beta, m.se=se, m.pos=pos, major_allele, minor_allele, IUPAC)\n",
    "    \n",
    "    all.info = eos.ct %>%\n",
    "        dplyr::filter(variant_id %in% mqtl.locus.info$m.snp) %>%\n",
    "        merge(\n",
    "            ., mqtl.locus.info, \n",
    "            by.x=c(\"variant_id\", \"IUPAC\"),\n",
    "            by.y=c(\"m.snp\", \"IUPAC\")\n",
    "        ) %>%\n",
    "        dplyr::select(snp=variant_id, m.beta, m.se, pos=m.pos, g.beta=beta, g.se=standard_error, g.maf=MA_FREQ) %>%\n",
    "        dplyr::mutate(g.maf = sapply(g.maf, function(p) { min(p, 1 - p) }))\n",
    "    \n",
    "    module.qtl = list()\n",
    "    module.qtl$beta = all.info$m.beta\n",
    "    module.qtl$varbeta = all.info$m.se^2\n",
    "    module.qtl$snp = all.info$snp\n",
    "    module.qtl$position = all.info$pos\n",
    "    module.qtl$type = \"quant\"\n",
    "    module.qtl$sdY = sd(eigengenes[, module.id], na.rm=TRUE)\n",
    "    \n",
    "    N = 408112\n",
    "    \n",
    "    gwas.assoc = list()\n",
    "    gwas.assoc$beta = all.info$g.beta\n",
    "    gwas.assoc$varbeta = all.info$g.se^2\n",
    "    gwas.assoc$snp = all.info$snp\n",
    "    gwas.assoc$position = all.info$pos\n",
    "    gwas.assoc$type = \"quant\"\n",
    "    gwas.assoc$N = N\n",
    "    gwas.assoc$MAF = all.info$g.maf\n",
    "    \n",
    "    log = capture.output({\n",
    "        abf.res = suppressWarnings(coloc.abf(gwas.assoc, module.qtl))\n",
    "    })\n",
    "    \n",
    "    data.frame(t(abf.res$summary)) %>%\n",
    "        dplyr::mutate(Module.QTL = module.qtl.id)\n",
    "}) %>%\n",
    "    do.call(rbind, .) %>%\n",
    "    dplyr::mutate(PP3plusPP4 = PP.H3.abf + PP.H4.abf) %>%\n",
    "    dplyr::mutate(COLOC.Factor = PP.H4.abf / PP3plusPP4) %>%\n",
    "    dplyr::mutate(Colocalise = (PP3plusPP4 > 0.25) & (COLOC.Factor > 0.7))"
   ]
  },
  {
   "cell_type": "code",
   "execution_count": 206,
   "id": "2d642bbc-e9b0-4265-8834-a748e3bbd217",
   "metadata": {},
   "outputs": [
    {
     "data": {
      "text/html": [
       "<table class=\"dataframe\">\n",
       "<caption>A data.frame: 6 × 10</caption>\n",
       "<thead>\n",
       "\t<tr><th></th><th scope=col>nsnps</th><th scope=col>PP.H0.abf</th><th scope=col>PP.H1.abf</th><th scope=col>PP.H2.abf</th><th scope=col>PP.H3.abf</th><th scope=col>PP.H4.abf</th><th scope=col>Module.QTL</th><th scope=col>PP3plusPP4</th><th scope=col>COLOC.Factor</th><th scope=col>Colocalise</th></tr>\n",
       "\t<tr><th></th><th scope=col>&lt;dbl&gt;</th><th scope=col>&lt;dbl&gt;</th><th scope=col>&lt;dbl&gt;</th><th scope=col>&lt;dbl&gt;</th><th scope=col>&lt;dbl&gt;</th><th scope=col>&lt;dbl&gt;</th><th scope=col>&lt;chr&gt;</th><th scope=col>&lt;dbl&gt;</th><th scope=col>&lt;dbl&gt;</th><th scope=col>&lt;lgl&gt;</th></tr>\n",
       "</thead>\n",
       "<tbody>\n",
       "\t<tr><th scope=row>1</th><td> 2182</td><td>2.969159e-192</td><td>5.087285e-188</td><td>2.060329e-07</td><td>0.002532651</td><td>0.9974671</td><td>ME_101_3-12:54985643-57100037</td><td>0.9999998</td><td>0.9974673</td><td> TRUE</td></tr>\n",
       "\t<tr><th scope=row>2</th><td> 2182</td><td> 1.217712e-32</td><td> 2.086399e-28</td><td>3.006518e-07</td><td>0.004155450</td><td>0.9958442</td><td>ME_101_1-12:54985643-57100037</td><td>0.9999997</td><td>0.9958445</td><td> TRUE</td></tr>\n",
       "\t<tr><th scope=row>3</th><td> 2182</td><td> 1.828905e-18</td><td> 3.133601e-14</td><td>3.450285e-07</td><td>0.004916552</td><td>0.9950831</td><td>ME_101_4-12:54985643-57100037</td><td>0.9999997</td><td>0.9950834</td><td> TRUE</td></tr>\n",
       "\t<tr><th scope=row>4</th><td> 2182</td><td> 4.168121e-42</td><td> 7.141557e-38</td><td>3.897058e-07</td><td>0.005682808</td><td>0.9943168</td><td>ME_101_2-12:54985643-57100037</td><td>0.9999996</td><td>0.9943172</td><td> TRUE</td></tr>\n",
       "\t<tr><th scope=row>5</th><td> 2182</td><td> 9.125561e-06</td><td> 1.563552e-01</td><td>4.255334e-06</td><td>0.072138366</td><td>0.7714931</td><td>ME_101_5-12:54985643-57100037</td><td>0.8436315</td><td>0.9144907</td><td> TRUE</td></tr>\n",
       "\t<tr><th scope=row>6</th><td>15841</td><td> 0.000000e+00</td><td> 2.391250e-01</td><td>0.000000e+00</td><td>0.278142784</td><td>0.4827322</td><td>ME_92_1-6:29991224-32464002  </td><td>0.7608750</td><td>0.6344435</td><td>FALSE</td></tr>\n",
       "</tbody>\n",
       "</table>\n"
      ],
      "text/latex": [
       "A data.frame: 6 × 10\n",
       "\\begin{tabular}{r|llllllllll}\n",
       "  & nsnps & PP.H0.abf & PP.H1.abf & PP.H2.abf & PP.H3.abf & PP.H4.abf & Module.QTL & PP3plusPP4 & COLOC.Factor & Colocalise\\\\\n",
       "  & <dbl> & <dbl> & <dbl> & <dbl> & <dbl> & <dbl> & <chr> & <dbl> & <dbl> & <lgl>\\\\\n",
       "\\hline\n",
       "\t1 &  2182 & 2.969159e-192 & 5.087285e-188 & 2.060329e-07 & 0.002532651 & 0.9974671 & ME\\_101\\_3-12:54985643-57100037 & 0.9999998 & 0.9974673 &  TRUE\\\\\n",
       "\t2 &  2182 &  1.217712e-32 &  2.086399e-28 & 3.006518e-07 & 0.004155450 & 0.9958442 & ME\\_101\\_1-12:54985643-57100037 & 0.9999997 & 0.9958445 &  TRUE\\\\\n",
       "\t3 &  2182 &  1.828905e-18 &  3.133601e-14 & 3.450285e-07 & 0.004916552 & 0.9950831 & ME\\_101\\_4-12:54985643-57100037 & 0.9999997 & 0.9950834 &  TRUE\\\\\n",
       "\t4 &  2182 &  4.168121e-42 &  7.141557e-38 & 3.897058e-07 & 0.005682808 & 0.9943168 & ME\\_101\\_2-12:54985643-57100037 & 0.9999996 & 0.9943172 &  TRUE\\\\\n",
       "\t5 &  2182 &  9.125561e-06 &  1.563552e-01 & 4.255334e-06 & 0.072138366 & 0.7714931 & ME\\_101\\_5-12:54985643-57100037 & 0.8436315 & 0.9144907 &  TRUE\\\\\n",
       "\t6 & 15841 &  0.000000e+00 &  2.391250e-01 & 0.000000e+00 & 0.278142784 & 0.4827322 & ME\\_92\\_1-6:29991224-32464002   & 0.7608750 & 0.6344435 & FALSE\\\\\n",
       "\\end{tabular}\n"
      ],
      "text/markdown": [
       "\n",
       "A data.frame: 6 × 10\n",
       "\n",
       "| <!--/--> | nsnps &lt;dbl&gt; | PP.H0.abf &lt;dbl&gt; | PP.H1.abf &lt;dbl&gt; | PP.H2.abf &lt;dbl&gt; | PP.H3.abf &lt;dbl&gt; | PP.H4.abf &lt;dbl&gt; | Module.QTL &lt;chr&gt; | PP3plusPP4 &lt;dbl&gt; | COLOC.Factor &lt;dbl&gt; | Colocalise &lt;lgl&gt; |\n",
       "|---|---|---|---|---|---|---|---|---|---|---|\n",
       "| 1 |  2182 | 2.969159e-192 | 5.087285e-188 | 2.060329e-07 | 0.002532651 | 0.9974671 | ME_101_3-12:54985643-57100037 | 0.9999998 | 0.9974673 |  TRUE |\n",
       "| 2 |  2182 |  1.217712e-32 |  2.086399e-28 | 3.006518e-07 | 0.004155450 | 0.9958442 | ME_101_1-12:54985643-57100037 | 0.9999997 | 0.9958445 |  TRUE |\n",
       "| 3 |  2182 |  1.828905e-18 |  3.133601e-14 | 3.450285e-07 | 0.004916552 | 0.9950831 | ME_101_4-12:54985643-57100037 | 0.9999997 | 0.9950834 |  TRUE |\n",
       "| 4 |  2182 |  4.168121e-42 |  7.141557e-38 | 3.897058e-07 | 0.005682808 | 0.9943168 | ME_101_2-12:54985643-57100037 | 0.9999996 | 0.9943172 |  TRUE |\n",
       "| 5 |  2182 |  9.125561e-06 |  1.563552e-01 | 4.255334e-06 | 0.072138366 | 0.7714931 | ME_101_5-12:54985643-57100037 | 0.8436315 | 0.9144907 |  TRUE |\n",
       "| 6 | 15841 |  0.000000e+00 |  2.391250e-01 | 0.000000e+00 | 0.278142784 | 0.4827322 | ME_92_1-6:29991224-32464002   | 0.7608750 | 0.6344435 | FALSE |\n",
       "\n"
      ],
      "text/plain": [
       "  nsnps PP.H0.abf     PP.H1.abf     PP.H2.abf    PP.H3.abf   PP.H4.abf\n",
       "1  2182 2.969159e-192 5.087285e-188 2.060329e-07 0.002532651 0.9974671\n",
       "2  2182  1.217712e-32  2.086399e-28 3.006518e-07 0.004155450 0.9958442\n",
       "3  2182  1.828905e-18  3.133601e-14 3.450285e-07 0.004916552 0.9950831\n",
       "4  2182  4.168121e-42  7.141557e-38 3.897058e-07 0.005682808 0.9943168\n",
       "5  2182  9.125561e-06  1.563552e-01 4.255334e-06 0.072138366 0.7714931\n",
       "6 15841  0.000000e+00  2.391250e-01 0.000000e+00 0.278142784 0.4827322\n",
       "  Module.QTL                    PP3plusPP4 COLOC.Factor Colocalise\n",
       "1 ME_101_3-12:54985643-57100037 0.9999998  0.9974673     TRUE     \n",
       "2 ME_101_1-12:54985643-57100037 0.9999997  0.9958445     TRUE     \n",
       "3 ME_101_4-12:54985643-57100037 0.9999997  0.9950834     TRUE     \n",
       "4 ME_101_2-12:54985643-57100037 0.9999996  0.9943172     TRUE     \n",
       "5 ME_101_5-12:54985643-57100037 0.8436315  0.9144907     TRUE     \n",
       "6 ME_92_1-6:29991224-32464002   0.7608750  0.6344435    FALSE     "
      ]
     },
     "metadata": {},
     "output_type": "display_data"
    }
   ],
   "source": [
    "eos.coloc %>%\n",
    "    dplyr::filter(PP3plusPP4 > 0.25) %>%\n",
    "    dplyr::arrange(desc(COLOC.Factor)) %>%\n",
    "    head()"
   ]
  },
  {
   "cell_type": "code",
   "execution_count": 207,
   "id": "cd33b9f8-d31e-4738-9f1e-bbf4442d1e33",
   "metadata": {},
   "outputs": [],
   "source": [
    "rm(eos.ct)"
   ]
  },
  {
   "cell_type": "markdown",
   "id": "7413a7c1-1951-49fa-b94b-593164fd1d0a",
   "metadata": {
    "jp-MarkdownHeadingCollapsed": true,
    "tags": []
   },
   "source": [
    "## Basophil Counts\n",
    "\n",
    "**Study**: [GCST004618](https://www.ebi.ac.uk/gwas/studies/GCST004618)"
   ]
  },
  {
   "cell_type": "code",
   "execution_count": 208,
   "id": "d128f036-0c93-47fa-9eba-67072284963b",
   "metadata": {},
   "outputs": [],
   "source": [
    "bas.ct <- fread(\"~/gains_team282/nikhil/data/EBI_GWAS_Catalog/baso_N171846_narrow_form.tsv\", sep=\"\\t\")"
   ]
  },
  {
   "cell_type": "code",
   "execution_count": 210,
   "id": "e4978466-4bb9-4df0-b479-8c8a2ff30d62",
   "metadata": {},
   "outputs": [],
   "source": [
    "bas.me <- ebi.mqtl %>%\n",
    "    dplyr::filter(accession == \"GCST004618\")\n",
    "\n",
    "bas.snps <- unique(bas.me$snp)"
   ]
  },
  {
   "cell_type": "code",
   "execution_count": 211,
   "id": "a71d830d-71bd-4d9b-a225-0ce608abaf9c",
   "metadata": {},
   "outputs": [],
   "source": [
    "module.qtl.set <- module.qtl.sum %>%\n",
    "    dplyr::filter(snp %in% bas.snps)\n",
    "\n",
    "module.qtl.set <- unique(module.qtl.set$module.qtl)"
   ]
  },
  {
   "cell_type": "code",
   "execution_count": 212,
   "id": "be95c526-ecb5-490f-93bc-fa153f93b870",
   "metadata": {},
   "outputs": [],
   "source": [
    "all.snps <- module.qtl.sum %>%\n",
    "    dplyr::filter(module.qtl %in% module.qtl.set)\n",
    "\n",
    "all.snps <- all.snps$snp\n",
    "\n",
    "bas.ct <- bas.ct %>%\n",
    "    dplyr::filter(ID_dbSNP49 %in% all.snps) %>%\n",
    "    dplyr::mutate(IUPAC = alleles.iupac(REF, ALT))"
   ]
  },
  {
   "cell_type": "code",
   "execution_count": 213,
   "id": "ceadc467-1c6d-460a-a33d-c2d6501303e3",
   "metadata": {},
   "outputs": [],
   "source": [
    "bas.coloc <- lapply(module.qtl.set, function(module.qtl.id) {\n",
    " \n",
    "    module.id = gsub(\"-.*\", \"\", module.qtl.id)\n",
    "    \n",
    "    mqtl.locus.info = module.qtl.sum %>%\n",
    "        dplyr::filter(module.qtl == module.qtl.id) %>%\n",
    "        dplyr::select(m.snp = snp, m.beta=beta, m.se=se, m.pos=pos, major_allele, minor_allele, IUPAC)\n",
    "    \n",
    "    all.info = bas.ct %>%\n",
    "        dplyr::filter(ID_dbSNP49 %in% mqtl.locus.info$m.snp) %>%\n",
    "        merge(\n",
    "            ., mqtl.locus.info, \n",
    "            by.x=c(\"ID_dbSNP49\", \"IUPAC\"),\n",
    "            by.y=c(\"m.snp\", \"IUPAC\")\n",
    "        ) %>%\n",
    "        dplyr::select(snp=ID_dbSNP49, m.beta, m.se, pos=m.pos, g.beta=EFFECT, g.se=SE, g.maf=MA_FREQ) %>%\n",
    "        dplyr::mutate(g.maf = sapply(g.maf, function(p) { min(p, 1 - p) }))\n",
    "    \n",
    "    module.qtl = list()\n",
    "    module.qtl$beta = all.info$m.beta\n",
    "    module.qtl$varbeta = all.info$m.se^2\n",
    "    module.qtl$snp = all.info$snp\n",
    "    module.qtl$position = all.info$pos\n",
    "    module.qtl$type = \"quant\"\n",
    "    module.qtl$sdY = sd(eigengenes[, module.id], na.rm=TRUE)\n",
    "    \n",
    "    N = 171846\n",
    "    \n",
    "    gwas.assoc = list()\n",
    "    gwas.assoc$beta = all.info$g.beta\n",
    "    gwas.assoc$varbeta = all.info$g.se^2\n",
    "    gwas.assoc$snp = all.info$snp\n",
    "    gwas.assoc$position = all.info$pos\n",
    "    gwas.assoc$type = \"quant\"\n",
    "    gwas.assoc$N = N\n",
    "    gwas.assoc$MAF = all.info$g.maf\n",
    "    \n",
    "    log = capture.output({\n",
    "        abf.res = suppressWarnings(coloc.abf(gwas.assoc, module.qtl))\n",
    "    })\n",
    "    \n",
    "    data.frame(t(abf.res$summary)) %>%\n",
    "        dplyr::mutate(Module.QTL = module.qtl.id)\n",
    "}) %>%\n",
    "    do.call(rbind, .) %>%\n",
    "    dplyr::mutate(PP3plusPP4 = PP.H3.abf + PP.H4.abf) %>%\n",
    "    dplyr::mutate(COLOC.Factor = PP.H4.abf / PP3plusPP4) %>%\n",
    "    dplyr::mutate(Colocalise = (PP3plusPP4 > 0.25) & (COLOC.Factor > 0.7))"
   ]
  },
  {
   "cell_type": "code",
   "execution_count": 214,
   "id": "509dc999-87d6-4899-b18d-75942c4eef66",
   "metadata": {},
   "outputs": [
    {
     "data": {
      "text/html": [
       "<table class=\"dataframe\">\n",
       "<caption>A data.frame: 6 × 10</caption>\n",
       "<thead>\n",
       "\t<tr><th></th><th scope=col>nsnps</th><th scope=col>PP.H0.abf</th><th scope=col>PP.H1.abf</th><th scope=col>PP.H2.abf</th><th scope=col>PP.H3.abf</th><th scope=col>PP.H4.abf</th><th scope=col>Module.QTL</th><th scope=col>PP3plusPP4</th><th scope=col>COLOC.Factor</th><th scope=col>Colocalise</th></tr>\n",
       "\t<tr><th></th><th scope=col>&lt;dbl&gt;</th><th scope=col>&lt;dbl&gt;</th><th scope=col>&lt;dbl&gt;</th><th scope=col>&lt;dbl&gt;</th><th scope=col>&lt;dbl&gt;</th><th scope=col>&lt;dbl&gt;</th><th scope=col>&lt;chr&gt;</th><th scope=col>&lt;dbl&gt;</th><th scope=col>&lt;dbl&gt;</th><th scope=col>&lt;lgl&gt;</th></tr>\n",
       "</thead>\n",
       "<tbody>\n",
       "\t<tr><th scope=row>1</th><td>19603</td><td>7.752730e-18</td><td>0.4852941</td><td>6.972840e-18</td><td>0.4364553</td><td>0.07825068</td><td>ME_97_5-6:28558600-31905730</td><td>0.5147059</td><td>0.15202987</td><td>FALSE</td></tr>\n",
       "\t<tr><th scope=row>2</th><td>19603</td><td>7.990045e-18</td><td>0.5001492</td><td>7.103347e-18</td><td>0.4446306</td><td>0.05522025</td><td>ME_97_1-6:28558600-31905730</td><td>0.4998508</td><td>0.11047346</td><td>FALSE</td></tr>\n",
       "\t<tr><th scope=row>3</th><td>15761</td><td>7.195540e-18</td><td>0.5607556</td><td>5.052486e-18</td><td>0.3937269</td><td>0.04551750</td><td>ME_92_4-6:29991224-32464002</td><td>0.4392444</td><td>0.10362682</td><td>FALSE</td></tr>\n",
       "\t<tr><th scope=row>4</th><td>15761</td><td>5.622427e-18</td><td>0.4381613</td><td>6.553215e-18</td><td>0.5106779</td><td>0.05116079</td><td>ME_92_1-6:29991224-32464002</td><td>0.5618387</td><td>0.09105956</td><td>FALSE</td></tr>\n",
       "\t<tr><th scope=row>5</th><td>19603</td><td>6.385522e-18</td><td>0.3997116</td><td>8.798445e-18</td><td>0.5507393</td><td>0.04954914</td><td>ME_97_3-6:28558600-31905730</td><td>0.6002884</td><td>0.08254223</td><td>FALSE</td></tr>\n",
       "\t<tr><th scope=row>6</th><td>15761</td><td>6.462938e-18</td><td>0.5036632</td><td>5.869566e-18</td><td>0.4574054</td><td>0.03893135</td><td>ME_92_3-6:29991224-32464002</td><td>0.4963368</td><td>0.07843737</td><td>FALSE</td></tr>\n",
       "</tbody>\n",
       "</table>\n"
      ],
      "text/latex": [
       "A data.frame: 6 × 10\n",
       "\\begin{tabular}{r|llllllllll}\n",
       "  & nsnps & PP.H0.abf & PP.H1.abf & PP.H2.abf & PP.H3.abf & PP.H4.abf & Module.QTL & PP3plusPP4 & COLOC.Factor & Colocalise\\\\\n",
       "  & <dbl> & <dbl> & <dbl> & <dbl> & <dbl> & <dbl> & <chr> & <dbl> & <dbl> & <lgl>\\\\\n",
       "\\hline\n",
       "\t1 & 19603 & 7.752730e-18 & 0.4852941 & 6.972840e-18 & 0.4364553 & 0.07825068 & ME\\_97\\_5-6:28558600-31905730 & 0.5147059 & 0.15202987 & FALSE\\\\\n",
       "\t2 & 19603 & 7.990045e-18 & 0.5001492 & 7.103347e-18 & 0.4446306 & 0.05522025 & ME\\_97\\_1-6:28558600-31905730 & 0.4998508 & 0.11047346 & FALSE\\\\\n",
       "\t3 & 15761 & 7.195540e-18 & 0.5607556 & 5.052486e-18 & 0.3937269 & 0.04551750 & ME\\_92\\_4-6:29991224-32464002 & 0.4392444 & 0.10362682 & FALSE\\\\\n",
       "\t4 & 15761 & 5.622427e-18 & 0.4381613 & 6.553215e-18 & 0.5106779 & 0.05116079 & ME\\_92\\_1-6:29991224-32464002 & 0.5618387 & 0.09105956 & FALSE\\\\\n",
       "\t5 & 19603 & 6.385522e-18 & 0.3997116 & 8.798445e-18 & 0.5507393 & 0.04954914 & ME\\_97\\_3-6:28558600-31905730 & 0.6002884 & 0.08254223 & FALSE\\\\\n",
       "\t6 & 15761 & 6.462938e-18 & 0.5036632 & 5.869566e-18 & 0.4574054 & 0.03893135 & ME\\_92\\_3-6:29991224-32464002 & 0.4963368 & 0.07843737 & FALSE\\\\\n",
       "\\end{tabular}\n"
      ],
      "text/markdown": [
       "\n",
       "A data.frame: 6 × 10\n",
       "\n",
       "| <!--/--> | nsnps &lt;dbl&gt; | PP.H0.abf &lt;dbl&gt; | PP.H1.abf &lt;dbl&gt; | PP.H2.abf &lt;dbl&gt; | PP.H3.abf &lt;dbl&gt; | PP.H4.abf &lt;dbl&gt; | Module.QTL &lt;chr&gt; | PP3plusPP4 &lt;dbl&gt; | COLOC.Factor &lt;dbl&gt; | Colocalise &lt;lgl&gt; |\n",
       "|---|---|---|---|---|---|---|---|---|---|---|\n",
       "| 1 | 19603 | 7.752730e-18 | 0.4852941 | 6.972840e-18 | 0.4364553 | 0.07825068 | ME_97_5-6:28558600-31905730 | 0.5147059 | 0.15202987 | FALSE |\n",
       "| 2 | 19603 | 7.990045e-18 | 0.5001492 | 7.103347e-18 | 0.4446306 | 0.05522025 | ME_97_1-6:28558600-31905730 | 0.4998508 | 0.11047346 | FALSE |\n",
       "| 3 | 15761 | 7.195540e-18 | 0.5607556 | 5.052486e-18 | 0.3937269 | 0.04551750 | ME_92_4-6:29991224-32464002 | 0.4392444 | 0.10362682 | FALSE |\n",
       "| 4 | 15761 | 5.622427e-18 | 0.4381613 | 6.553215e-18 | 0.5106779 | 0.05116079 | ME_92_1-6:29991224-32464002 | 0.5618387 | 0.09105956 | FALSE |\n",
       "| 5 | 19603 | 6.385522e-18 | 0.3997116 | 8.798445e-18 | 0.5507393 | 0.04954914 | ME_97_3-6:28558600-31905730 | 0.6002884 | 0.08254223 | FALSE |\n",
       "| 6 | 15761 | 6.462938e-18 | 0.5036632 | 5.869566e-18 | 0.4574054 | 0.03893135 | ME_92_3-6:29991224-32464002 | 0.4963368 | 0.07843737 | FALSE |\n",
       "\n"
      ],
      "text/plain": [
       "  nsnps PP.H0.abf    PP.H1.abf PP.H2.abf    PP.H3.abf PP.H4.abf \n",
       "1 19603 7.752730e-18 0.4852941 6.972840e-18 0.4364553 0.07825068\n",
       "2 19603 7.990045e-18 0.5001492 7.103347e-18 0.4446306 0.05522025\n",
       "3 15761 7.195540e-18 0.5607556 5.052486e-18 0.3937269 0.04551750\n",
       "4 15761 5.622427e-18 0.4381613 6.553215e-18 0.5106779 0.05116079\n",
       "5 19603 6.385522e-18 0.3997116 8.798445e-18 0.5507393 0.04954914\n",
       "6 15761 6.462938e-18 0.5036632 5.869566e-18 0.4574054 0.03893135\n",
       "  Module.QTL                  PP3plusPP4 COLOC.Factor Colocalise\n",
       "1 ME_97_5-6:28558600-31905730 0.5147059  0.15202987   FALSE     \n",
       "2 ME_97_1-6:28558600-31905730 0.4998508  0.11047346   FALSE     \n",
       "3 ME_92_4-6:29991224-32464002 0.4392444  0.10362682   FALSE     \n",
       "4 ME_92_1-6:29991224-32464002 0.5618387  0.09105956   FALSE     \n",
       "5 ME_97_3-6:28558600-31905730 0.6002884  0.08254223   FALSE     \n",
       "6 ME_92_3-6:29991224-32464002 0.4963368  0.07843737   FALSE     "
      ]
     },
     "metadata": {},
     "output_type": "display_data"
    }
   ],
   "source": [
    "bas.coloc %>%\n",
    "    dplyr::filter(PP3plusPP4 > 0.25) %>%\n",
    "    dplyr::arrange(desc(COLOC.Factor)) %>%\n",
    "    head()"
   ]
  },
  {
   "cell_type": "code",
   "execution_count": 215,
   "id": "f9f531d3-e61e-40e7-ad27-c87a0878bf2d",
   "metadata": {},
   "outputs": [],
   "source": [
    "rm(bas.ct)"
   ]
  },
  {
   "cell_type": "markdown",
   "id": "996347f0-db65-4cd5-874e-3f57056f7d2d",
   "metadata": {
    "jp-MarkdownHeadingCollapsed": true,
    "tags": []
   },
   "source": [
    "## Platelet Counts\n",
    "\n",
    "**Study**: [GCST90002402](https://www.ebi.ac.uk/gwas/studies/GCST90002402)"
   ]
  },
  {
   "cell_type": "code",
   "execution_count": 216,
   "id": "4f54af3c-7e9d-4ce4-ba7c-c4314744cec2",
   "metadata": {},
   "outputs": [],
   "source": [
    "plt.ct <- fread(\"~/gains_team282/nikhil/data/EBI_GWAS_Catalog/GCST90002402_buildGRCh37.tsv\", sep=\"\\t\")"
   ]
  },
  {
   "cell_type": "code",
   "execution_count": 217,
   "id": "ee84eb4a-a631-442a-a0dc-a6e58a053e84",
   "metadata": {},
   "outputs": [],
   "source": [
    "plt.me <- ebi.mqtl %>%\n",
    "    dplyr::filter(accession == \"GCST90002402\")\n",
    "\n",
    "plt.snps <- unique(plt.me$snp)"
   ]
  },
  {
   "cell_type": "code",
   "execution_count": 218,
   "id": "0cd9fd1c-1e0b-4ddd-9007-387c6e96cd1d",
   "metadata": {},
   "outputs": [],
   "source": [
    "module.qtl.set <- module.qtl.sum %>%\n",
    "    dplyr::filter(snp %in% plt.snps)\n",
    "\n",
    "module.qtl.set <- unique(module.qtl.set$module.qtl)"
   ]
  },
  {
   "cell_type": "code",
   "execution_count": 219,
   "id": "3515da56-605a-4f63-ad16-53af2917ab4b",
   "metadata": {},
   "outputs": [],
   "source": [
    "all.snps <- module.qtl.sum %>%\n",
    "    dplyr::filter(module.qtl %in% module.qtl.set)\n",
    "\n",
    "all.snps <- all.snps$snp\n",
    "\n",
    "plt.ct <- plt.ct %>%\n",
    "    dplyr::filter(variant_id %in% all.snps) %>%\n",
    "    dplyr::mutate(IUPAC = alleles.iupac(other_allele, effect_allele))"
   ]
  },
  {
   "cell_type": "code",
   "execution_count": 220,
   "id": "8d197608-83af-4807-8abf-233149ad0a1d",
   "metadata": {},
   "outputs": [],
   "source": [
    "plt.coloc <- lapply(module.qtl.set, function(module.qtl.id) {\n",
    " \n",
    "    module.id = gsub(\"-.*\", \"\", module.qtl.id)\n",
    "    \n",
    "    mqtl.locus.info = module.qtl.sum %>%\n",
    "        dplyr::filter(module.qtl == module.qtl.id) %>%\n",
    "        dplyr::select(m.snp = snp, m.beta=beta, m.se=se, m.pos=pos, major_allele, minor_allele, IUPAC)\n",
    "    \n",
    "    all.info = plt.ct %>%\n",
    "        dplyr::filter(variant_id %in% mqtl.locus.info$m.snp) %>%\n",
    "        merge(\n",
    "            ., mqtl.locus.info, \n",
    "            by.x=c(\"variant_id\", \"IUPAC\"),\n",
    "            by.y=c(\"m.snp\", \"IUPAC\")\n",
    "        ) %>%\n",
    "        dplyr::select(snp=variant_id, m.beta, m.se, pos=m.pos, g.beta=beta, g.se=standard_error, g.maf=MA_FREQ) %>%\n",
    "        dplyr::mutate(g.maf = sapply(g.maf, function(p) { min(p, 1 - p) }))\n",
    "    \n",
    "    module.qtl = list()\n",
    "    module.qtl$beta = all.info$m.beta\n",
    "    module.qtl$varbeta = all.info$m.se^2\n",
    "    module.qtl$snp = all.info$snp\n",
    "    module.qtl$position = all.info$pos\n",
    "    module.qtl$type = \"quant\"\n",
    "    module.qtl$sdY = sd(eigengenes[, module.id], na.rm=TRUE)\n",
    "    \n",
    "    N = 408112\n",
    "    \n",
    "    gwas.assoc = list()\n",
    "    gwas.assoc$beta = all.info$g.beta\n",
    "    gwas.assoc$varbeta = all.info$g.se^2\n",
    "    gwas.assoc$snp = all.info$snp\n",
    "    gwas.assoc$position = all.info$pos\n",
    "    gwas.assoc$type = \"quant\"\n",
    "    gwas.assoc$N = N\n",
    "    gwas.assoc$MAF = all.info$g.maf\n",
    "    \n",
    "    log = capture.output({\n",
    "        abf.res = suppressWarnings(coloc.abf(gwas.assoc, module.qtl))\n",
    "    })\n",
    "    \n",
    "    data.frame(t(abf.res$summary)) %>%\n",
    "        dplyr::mutate(Module.QTL = module.qtl.id)\n",
    "}) %>%\n",
    "    do.call(rbind, .) %>%\n",
    "    dplyr::mutate(PP3plusPP4 = PP.H3.abf + PP.H4.abf) %>%\n",
    "    dplyr::mutate(COLOC.Factor = PP.H4.abf / PP3plusPP4) %>%\n",
    "    dplyr::mutate(Colocalise = (PP3plusPP4 > 0.25) & (COLOC.Factor > 0.7))"
   ]
  },
  {
   "cell_type": "code",
   "execution_count": 221,
   "id": "382ccd57-afdc-441b-8886-e39824bba953",
   "metadata": {},
   "outputs": [
    {
     "data": {
      "text/html": [
       "<table class=\"dataframe\">\n",
       "<caption>A data.frame: 6 × 10</caption>\n",
       "<thead>\n",
       "\t<tr><th></th><th scope=col>nsnps</th><th scope=col>PP.H0.abf</th><th scope=col>PP.H1.abf</th><th scope=col>PP.H2.abf</th><th scope=col>PP.H3.abf</th><th scope=col>PP.H4.abf</th><th scope=col>Module.QTL</th><th scope=col>PP3plusPP4</th><th scope=col>COLOC.Factor</th><th scope=col>Colocalise</th></tr>\n",
       "\t<tr><th></th><th scope=col>&lt;dbl&gt;</th><th scope=col>&lt;dbl&gt;</th><th scope=col>&lt;dbl&gt;</th><th scope=col>&lt;dbl&gt;</th><th scope=col>&lt;dbl&gt;</th><th scope=col>&lt;dbl&gt;</th><th scope=col>&lt;chr&gt;</th><th scope=col>&lt;dbl&gt;</th><th scope=col>&lt;dbl&gt;</th><th scope=col>&lt;lgl&gt;</th></tr>\n",
       "</thead>\n",
       "<tbody>\n",
       "\t<tr><th scope=row>1</th><td> 3269</td><td>3.112417e-31</td><td>4.251469e-07</td><td>1.764346e-26</td><td>0.02312357</td><td>0.97687600</td><td>ME_63_4-11:46459981-48629440</td><td>0.9999996</td><td>0.97687642</td><td> TRUE</td></tr>\n",
       "\t<tr><th scope=row>2</th><td> 4243</td><td>3.108423e-24</td><td>3.946298e-01</td><td>1.396360e-24</td><td>0.17684627</td><td>0.42852393</td><td>ME_88_1-14:64291924-66448148</td><td>0.6053702</td><td>0.70787087</td><td> TRUE</td></tr>\n",
       "\t<tr><th scope=row>3</th><td> 4243</td><td>9.063324e-25</td><td>1.150634e-01</td><td>4.059625e-24</td><td>0.51501964</td><td>0.36991696</td><td>ME_88_4-14:64291924-66448148</td><td>0.8849366</td><td>0.41801521</td><td>FALSE</td></tr>\n",
       "\t<tr><th scope=row>4</th><td>15841</td><td>2.042592e-89</td><td>2.035843e-01</td><td>6.119517e-89</td><td>0.60985546</td><td>0.18656022</td><td>ME_92_5-6:29991224-32464002 </td><td>0.7964157</td><td>0.23424981</td><td>FALSE</td></tr>\n",
       "\t<tr><th scope=row>5</th><td> 4243</td><td>5.692669e-25</td><td>7.227127e-02</td><td>6.515799e-24</td><td>0.82711254</td><td>0.10061619</td><td>ME_88_3-14:64291924-66448148</td><td>0.9277287</td><td>0.10845432</td><td>FALSE</td></tr>\n",
       "\t<tr><th scope=row>6</th><td>15841</td><td>5.690077e-89</td><td>5.671277e-01</td><td>3.995218e-89</td><td>0.39818791</td><td>0.03468443</td><td>ME_92_4-6:29991224-32464002 </td><td>0.4328723</td><td>0.08012623</td><td>FALSE</td></tr>\n",
       "</tbody>\n",
       "</table>\n"
      ],
      "text/latex": [
       "A data.frame: 6 × 10\n",
       "\\begin{tabular}{r|llllllllll}\n",
       "  & nsnps & PP.H0.abf & PP.H1.abf & PP.H2.abf & PP.H3.abf & PP.H4.abf & Module.QTL & PP3plusPP4 & COLOC.Factor & Colocalise\\\\\n",
       "  & <dbl> & <dbl> & <dbl> & <dbl> & <dbl> & <dbl> & <chr> & <dbl> & <dbl> & <lgl>\\\\\n",
       "\\hline\n",
       "\t1 &  3269 & 3.112417e-31 & 4.251469e-07 & 1.764346e-26 & 0.02312357 & 0.97687600 & ME\\_63\\_4-11:46459981-48629440 & 0.9999996 & 0.97687642 &  TRUE\\\\\n",
       "\t2 &  4243 & 3.108423e-24 & 3.946298e-01 & 1.396360e-24 & 0.17684627 & 0.42852393 & ME\\_88\\_1-14:64291924-66448148 & 0.6053702 & 0.70787087 &  TRUE\\\\\n",
       "\t3 &  4243 & 9.063324e-25 & 1.150634e-01 & 4.059625e-24 & 0.51501964 & 0.36991696 & ME\\_88\\_4-14:64291924-66448148 & 0.8849366 & 0.41801521 & FALSE\\\\\n",
       "\t4 & 15841 & 2.042592e-89 & 2.035843e-01 & 6.119517e-89 & 0.60985546 & 0.18656022 & ME\\_92\\_5-6:29991224-32464002  & 0.7964157 & 0.23424981 & FALSE\\\\\n",
       "\t5 &  4243 & 5.692669e-25 & 7.227127e-02 & 6.515799e-24 & 0.82711254 & 0.10061619 & ME\\_88\\_3-14:64291924-66448148 & 0.9277287 & 0.10845432 & FALSE\\\\\n",
       "\t6 & 15841 & 5.690077e-89 & 5.671277e-01 & 3.995218e-89 & 0.39818791 & 0.03468443 & ME\\_92\\_4-6:29991224-32464002  & 0.4328723 & 0.08012623 & FALSE\\\\\n",
       "\\end{tabular}\n"
      ],
      "text/markdown": [
       "\n",
       "A data.frame: 6 × 10\n",
       "\n",
       "| <!--/--> | nsnps &lt;dbl&gt; | PP.H0.abf &lt;dbl&gt; | PP.H1.abf &lt;dbl&gt; | PP.H2.abf &lt;dbl&gt; | PP.H3.abf &lt;dbl&gt; | PP.H4.abf &lt;dbl&gt; | Module.QTL &lt;chr&gt; | PP3plusPP4 &lt;dbl&gt; | COLOC.Factor &lt;dbl&gt; | Colocalise &lt;lgl&gt; |\n",
       "|---|---|---|---|---|---|---|---|---|---|---|\n",
       "| 1 |  3269 | 3.112417e-31 | 4.251469e-07 | 1.764346e-26 | 0.02312357 | 0.97687600 | ME_63_4-11:46459981-48629440 | 0.9999996 | 0.97687642 |  TRUE |\n",
       "| 2 |  4243 | 3.108423e-24 | 3.946298e-01 | 1.396360e-24 | 0.17684627 | 0.42852393 | ME_88_1-14:64291924-66448148 | 0.6053702 | 0.70787087 |  TRUE |\n",
       "| 3 |  4243 | 9.063324e-25 | 1.150634e-01 | 4.059625e-24 | 0.51501964 | 0.36991696 | ME_88_4-14:64291924-66448148 | 0.8849366 | 0.41801521 | FALSE |\n",
       "| 4 | 15841 | 2.042592e-89 | 2.035843e-01 | 6.119517e-89 | 0.60985546 | 0.18656022 | ME_92_5-6:29991224-32464002  | 0.7964157 | 0.23424981 | FALSE |\n",
       "| 5 |  4243 | 5.692669e-25 | 7.227127e-02 | 6.515799e-24 | 0.82711254 | 0.10061619 | ME_88_3-14:64291924-66448148 | 0.9277287 | 0.10845432 | FALSE |\n",
       "| 6 | 15841 | 5.690077e-89 | 5.671277e-01 | 3.995218e-89 | 0.39818791 | 0.03468443 | ME_92_4-6:29991224-32464002  | 0.4328723 | 0.08012623 | FALSE |\n",
       "\n"
      ],
      "text/plain": [
       "  nsnps PP.H0.abf    PP.H1.abf    PP.H2.abf    PP.H3.abf  PP.H4.abf \n",
       "1  3269 3.112417e-31 4.251469e-07 1.764346e-26 0.02312357 0.97687600\n",
       "2  4243 3.108423e-24 3.946298e-01 1.396360e-24 0.17684627 0.42852393\n",
       "3  4243 9.063324e-25 1.150634e-01 4.059625e-24 0.51501964 0.36991696\n",
       "4 15841 2.042592e-89 2.035843e-01 6.119517e-89 0.60985546 0.18656022\n",
       "5  4243 5.692669e-25 7.227127e-02 6.515799e-24 0.82711254 0.10061619\n",
       "6 15841 5.690077e-89 5.671277e-01 3.995218e-89 0.39818791 0.03468443\n",
       "  Module.QTL                   PP3plusPP4 COLOC.Factor Colocalise\n",
       "1 ME_63_4-11:46459981-48629440 0.9999996  0.97687642    TRUE     \n",
       "2 ME_88_1-14:64291924-66448148 0.6053702  0.70787087    TRUE     \n",
       "3 ME_88_4-14:64291924-66448148 0.8849366  0.41801521   FALSE     \n",
       "4 ME_92_5-6:29991224-32464002  0.7964157  0.23424981   FALSE     \n",
       "5 ME_88_3-14:64291924-66448148 0.9277287  0.10845432   FALSE     \n",
       "6 ME_92_4-6:29991224-32464002  0.4328723  0.08012623   FALSE     "
      ]
     },
     "metadata": {},
     "output_type": "display_data"
    }
   ],
   "source": [
    "plt.coloc %>%\n",
    "    dplyr::filter(PP3plusPP4 > 0.25) %>%\n",
    "    dplyr::arrange(desc(COLOC.Factor)) %>%\n",
    "    head()"
   ]
  },
  {
   "cell_type": "code",
   "execution_count": 50,
   "id": "c3bff358-52d3-4340-b17e-b4a244584b4a",
   "metadata": {},
   "outputs": [],
   "source": [
    "rm(plt.ct)"
   ]
  },
  {
   "cell_type": "markdown",
   "id": "70a1854e-e77f-41ac-a941-7285561a3eca",
   "metadata": {
    "jp-MarkdownHeadingCollapsed": true,
    "tags": []
   },
   "source": [
    "## Erythrocyte Counts\n",
    "\n",
    "**Study**: [GCST90002403](https://www.ebi.ac.uk/gwas/studies/GCST90002403)"
   ]
  },
  {
   "cell_type": "code",
   "execution_count": 222,
   "id": "1af5c2a0-12a0-4d21-899d-5217ce4a0fbb",
   "metadata": {},
   "outputs": [],
   "source": [
    "ert.ct <- fread(\"~/gains_team282/nikhil/data/EBI_GWAS_Catalog/GCST90002403_buildGRCh37.tsv\", sep=\"\\t\")"
   ]
  },
  {
   "cell_type": "code",
   "execution_count": 223,
   "id": "21e7ae52-af01-4b5f-a260-5915cc6e396f",
   "metadata": {},
   "outputs": [],
   "source": [
    "ert.me <- ebi.mqtl %>%\n",
    "    dplyr::filter(accession == \"GCST90002403\")\n",
    "\n",
    "ert.snps <- unique(ert.me$snp)"
   ]
  },
  {
   "cell_type": "code",
   "execution_count": 224,
   "id": "38d7423b-a724-4d9f-8017-fa88b2ccb8e1",
   "metadata": {},
   "outputs": [],
   "source": [
    "module.qtl.set <- module.qtl.sum %>%\n",
    "    dplyr::filter(snp %in% ert.snps)\n",
    "\n",
    "module.qtl.set <- unique(module.qtl.set$module.qtl)"
   ]
  },
  {
   "cell_type": "code",
   "execution_count": 225,
   "id": "31cffeab-893a-415a-ab6c-6a3abdc2a606",
   "metadata": {},
   "outputs": [],
   "source": [
    "all.snps <- module.qtl.sum %>%\n",
    "    dplyr::filter(module.qtl %in% module.qtl.set)\n",
    "\n",
    "all.snps <- all.snps$snp\n",
    "\n",
    "ert.ct <- ert.ct %>%\n",
    "    dplyr::filter(variant_id %in% all.snps) %>%\n",
    "    dplyr::mutate(IUPAC = alleles.iupac(other_allele, effect_allele))"
   ]
  },
  {
   "cell_type": "code",
   "execution_count": 226,
   "id": "34d19e1a-0df3-499d-bbb9-8f46bc7a697a",
   "metadata": {},
   "outputs": [],
   "source": [
    "ert.coloc <- lapply(module.qtl.set, function(module.qtl.id) {\n",
    " \n",
    "    module.id = gsub(\"-.*\", \"\", module.qtl.id)\n",
    "    \n",
    "    mqtl.locus.info = module.qtl.sum %>%\n",
    "        dplyr::filter(module.qtl == module.qtl.id) %>%\n",
    "        dplyr::select(m.snp = snp, m.beta=beta, m.se=se, m.pos=pos, major_allele, minor_allele, IUPAC)\n",
    "    \n",
    "    all.info = ert.ct %>%\n",
    "        dplyr::filter(variant_id %in% mqtl.locus.info$m.snp) %>%\n",
    "        merge(\n",
    "            ., mqtl.locus.info, \n",
    "            by.x=c(\"variant_id\", \"IUPAC\"),\n",
    "            by.y=c(\"m.snp\", \"IUPAC\")\n",
    "        ) %>%\n",
    "        dplyr::select(snp=variant_id, m.beta, m.se, pos=m.pos, g.beta=beta, g.se=standard_error, g.maf=MA_FREQ) %>%\n",
    "        dplyr::mutate(g.maf = sapply(g.maf, function(p) { min(p, 1 - p) }))\n",
    "    \n",
    "    module.qtl = list()\n",
    "    module.qtl$beta = all.info$m.beta\n",
    "    module.qtl$varbeta = all.info$m.se^2\n",
    "    module.qtl$snp = all.info$snp\n",
    "    module.qtl$position = all.info$pos\n",
    "    module.qtl$type = \"quant\"\n",
    "    module.qtl$sdY = sd(eigengenes[, module.id], na.rm=TRUE)\n",
    "    \n",
    "    N = 408112\n",
    "    \n",
    "    gwas.assoc = list()\n",
    "    gwas.assoc$beta = all.info$g.beta\n",
    "    gwas.assoc$varbeta = all.info$g.se^2\n",
    "    gwas.assoc$snp = all.info$snp\n",
    "    gwas.assoc$position = all.info$pos\n",
    "    gwas.assoc$type = \"quant\"\n",
    "    gwas.assoc$N = N\n",
    "    gwas.assoc$MAF = all.info$g.maf\n",
    "    \n",
    "    log = capture.output({\n",
    "        abf.res = suppressWarnings(coloc.abf(gwas.assoc, module.qtl))\n",
    "    })\n",
    "    \n",
    "    data.frame(t(abf.res$summary)) %>%\n",
    "        dplyr::mutate(Module.QTL = module.qtl.id)\n",
    "}) %>%\n",
    "    do.call(rbind, .) %>%\n",
    "    dplyr::mutate(PP3plusPP4 = PP.H3.abf + PP.H4.abf) %>%\n",
    "    dplyr::mutate(COLOC.Factor = PP.H4.abf / PP3plusPP4) %>%\n",
    "    dplyr::mutate(Colocalise = (PP3plusPP4 > 0.25) & (COLOC.Factor > 0.7))"
   ]
  },
  {
   "cell_type": "code",
   "execution_count": 227,
   "id": "b7ca3466-5d28-48a9-8b21-5cafd640e24f",
   "metadata": {},
   "outputs": [
    {
     "data": {
      "text/html": [
       "<table class=\"dataframe\">\n",
       "<caption>A data.frame: 6 × 10</caption>\n",
       "<thead>\n",
       "\t<tr><th></th><th scope=col>nsnps</th><th scope=col>PP.H0.abf</th><th scope=col>PP.H1.abf</th><th scope=col>PP.H2.abf</th><th scope=col>PP.H3.abf</th><th scope=col>PP.H4.abf</th><th scope=col>Module.QTL</th><th scope=col>PP3plusPP4</th><th scope=col>COLOC.Factor</th><th scope=col>Colocalise</th></tr>\n",
       "\t<tr><th></th><th scope=col>&lt;dbl&gt;</th><th scope=col>&lt;dbl&gt;</th><th scope=col>&lt;dbl&gt;</th><th scope=col>&lt;dbl&gt;</th><th scope=col>&lt;dbl&gt;</th><th scope=col>&lt;dbl&gt;</th><th scope=col>&lt;chr&gt;</th><th scope=col>&lt;dbl&gt;</th><th scope=col>&lt;dbl&gt;</th><th scope=col>&lt;lgl&gt;</th></tr>\n",
       "</thead>\n",
       "<tbody>\n",
       "\t<tr><th scope=row>1</th><td>15841</td><td>4.073670e-69</td><td>0.33593600</td><td>3.699410e-69</td><td>0.3049294</td><td>0.35913458</td><td>ME_92_3-6:29991224-32464002  </td><td>0.6640640</td><td>0.54081321</td><td>FALSE</td></tr>\n",
       "\t<tr><th scope=row>2</th><td>19700</td><td>7.273595e-69</td><td>0.48233185</td><td>6.543529e-69</td><td>0.4338976</td><td>0.08377056</td><td>ME_97_5-6:28558600-31905730  </td><td>0.5176681</td><td>0.16182289</td><td>FALSE</td></tr>\n",
       "\t<tr><th scope=row>3</th><td>15841</td><td>6.759267e-69</td><td>0.55740419</td><td>4.745936e-69</td><td>0.3913541</td><td>0.05124170</td><td>ME_92_4-6:29991224-32464002  </td><td>0.4425958</td><td>0.11577539</td><td>FALSE</td></tr>\n",
       "\t<tr><th scope=row>4</th><td> 2261</td><td>1.236089e-07</td><td>0.09355238</td><td>1.073041e-06</td><td>0.8120277</td><td>0.09441875</td><td>ME_102_2-17:17145294-19676395</td><td>0.9064464</td><td>0.10416363</td><td>FALSE</td></tr>\n",
       "\t<tr><th scope=row>5</th><td>19700</td><td>7.665088e-69</td><td>0.50829277</td><td>6.812286e-69</td><td>0.4517309</td><td>0.03997636</td><td>ME_97_1-6:28558600-31905730  </td><td>0.4917072</td><td>0.08130114</td><td>FALSE</td></tr>\n",
       "\t<tr><th scope=row>6</th><td>19700</td><td>6.054653e-69</td><td>0.40150044</td><td>8.339848e-69</td><td>0.5530263</td><td>0.04547330</td><td>ME_97_3-6:28558600-31905730  </td><td>0.5984996</td><td>0.07597884</td><td>FALSE</td></tr>\n",
       "</tbody>\n",
       "</table>\n"
      ],
      "text/latex": [
       "A data.frame: 6 × 10\n",
       "\\begin{tabular}{r|llllllllll}\n",
       "  & nsnps & PP.H0.abf & PP.H1.abf & PP.H2.abf & PP.H3.abf & PP.H4.abf & Module.QTL & PP3plusPP4 & COLOC.Factor & Colocalise\\\\\n",
       "  & <dbl> & <dbl> & <dbl> & <dbl> & <dbl> & <dbl> & <chr> & <dbl> & <dbl> & <lgl>\\\\\n",
       "\\hline\n",
       "\t1 & 15841 & 4.073670e-69 & 0.33593600 & 3.699410e-69 & 0.3049294 & 0.35913458 & ME\\_92\\_3-6:29991224-32464002   & 0.6640640 & 0.54081321 & FALSE\\\\\n",
       "\t2 & 19700 & 7.273595e-69 & 0.48233185 & 6.543529e-69 & 0.4338976 & 0.08377056 & ME\\_97\\_5-6:28558600-31905730   & 0.5176681 & 0.16182289 & FALSE\\\\\n",
       "\t3 & 15841 & 6.759267e-69 & 0.55740419 & 4.745936e-69 & 0.3913541 & 0.05124170 & ME\\_92\\_4-6:29991224-32464002   & 0.4425958 & 0.11577539 & FALSE\\\\\n",
       "\t4 &  2261 & 1.236089e-07 & 0.09355238 & 1.073041e-06 & 0.8120277 & 0.09441875 & ME\\_102\\_2-17:17145294-19676395 & 0.9064464 & 0.10416363 & FALSE\\\\\n",
       "\t5 & 19700 & 7.665088e-69 & 0.50829277 & 6.812286e-69 & 0.4517309 & 0.03997636 & ME\\_97\\_1-6:28558600-31905730   & 0.4917072 & 0.08130114 & FALSE\\\\\n",
       "\t6 & 19700 & 6.054653e-69 & 0.40150044 & 8.339848e-69 & 0.5530263 & 0.04547330 & ME\\_97\\_3-6:28558600-31905730   & 0.5984996 & 0.07597884 & FALSE\\\\\n",
       "\\end{tabular}\n"
      ],
      "text/markdown": [
       "\n",
       "A data.frame: 6 × 10\n",
       "\n",
       "| <!--/--> | nsnps &lt;dbl&gt; | PP.H0.abf &lt;dbl&gt; | PP.H1.abf &lt;dbl&gt; | PP.H2.abf &lt;dbl&gt; | PP.H3.abf &lt;dbl&gt; | PP.H4.abf &lt;dbl&gt; | Module.QTL &lt;chr&gt; | PP3plusPP4 &lt;dbl&gt; | COLOC.Factor &lt;dbl&gt; | Colocalise &lt;lgl&gt; |\n",
       "|---|---|---|---|---|---|---|---|---|---|---|\n",
       "| 1 | 15841 | 4.073670e-69 | 0.33593600 | 3.699410e-69 | 0.3049294 | 0.35913458 | ME_92_3-6:29991224-32464002   | 0.6640640 | 0.54081321 | FALSE |\n",
       "| 2 | 19700 | 7.273595e-69 | 0.48233185 | 6.543529e-69 | 0.4338976 | 0.08377056 | ME_97_5-6:28558600-31905730   | 0.5176681 | 0.16182289 | FALSE |\n",
       "| 3 | 15841 | 6.759267e-69 | 0.55740419 | 4.745936e-69 | 0.3913541 | 0.05124170 | ME_92_4-6:29991224-32464002   | 0.4425958 | 0.11577539 | FALSE |\n",
       "| 4 |  2261 | 1.236089e-07 | 0.09355238 | 1.073041e-06 | 0.8120277 | 0.09441875 | ME_102_2-17:17145294-19676395 | 0.9064464 | 0.10416363 | FALSE |\n",
       "| 5 | 19700 | 7.665088e-69 | 0.50829277 | 6.812286e-69 | 0.4517309 | 0.03997636 | ME_97_1-6:28558600-31905730   | 0.4917072 | 0.08130114 | FALSE |\n",
       "| 6 | 19700 | 6.054653e-69 | 0.40150044 | 8.339848e-69 | 0.5530263 | 0.04547330 | ME_97_3-6:28558600-31905730   | 0.5984996 | 0.07597884 | FALSE |\n",
       "\n"
      ],
      "text/plain": [
       "  nsnps PP.H0.abf    PP.H1.abf  PP.H2.abf    PP.H3.abf PP.H4.abf \n",
       "1 15841 4.073670e-69 0.33593600 3.699410e-69 0.3049294 0.35913458\n",
       "2 19700 7.273595e-69 0.48233185 6.543529e-69 0.4338976 0.08377056\n",
       "3 15841 6.759267e-69 0.55740419 4.745936e-69 0.3913541 0.05124170\n",
       "4  2261 1.236089e-07 0.09355238 1.073041e-06 0.8120277 0.09441875\n",
       "5 19700 7.665088e-69 0.50829277 6.812286e-69 0.4517309 0.03997636\n",
       "6 19700 6.054653e-69 0.40150044 8.339848e-69 0.5530263 0.04547330\n",
       "  Module.QTL                    PP3plusPP4 COLOC.Factor Colocalise\n",
       "1 ME_92_3-6:29991224-32464002   0.6640640  0.54081321   FALSE     \n",
       "2 ME_97_5-6:28558600-31905730   0.5176681  0.16182289   FALSE     \n",
       "3 ME_92_4-6:29991224-32464002   0.4425958  0.11577539   FALSE     \n",
       "4 ME_102_2-17:17145294-19676395 0.9064464  0.10416363   FALSE     \n",
       "5 ME_97_1-6:28558600-31905730   0.4917072  0.08130114   FALSE     \n",
       "6 ME_97_3-6:28558600-31905730   0.5984996  0.07597884   FALSE     "
      ]
     },
     "metadata": {},
     "output_type": "display_data"
    }
   ],
   "source": [
    "ert.coloc %>%\n",
    "    dplyr::filter(PP3plusPP4 > 0.25) %>%\n",
    "    dplyr::arrange(desc(COLOC.Factor)) %>%\n",
    "    head()"
   ]
  },
  {
   "cell_type": "code",
   "execution_count": 228,
   "id": "525e5cf8-787d-45b3-b3bf-108291d8603e",
   "metadata": {},
   "outputs": [],
   "source": [
    "rm(ert.ct)"
   ]
  },
  {
   "cell_type": "markdown",
   "id": "c591a69d-f7de-4601-88b0-bb2d6223b35e",
   "metadata": {
    "jp-MarkdownHeadingCollapsed": true,
    "tags": []
   },
   "source": [
    "## Rheumatoid Arthritis\n",
    "\n",
    "**Study**: [GCST005569](https://www.ebi.ac.uk/gwas/studies/GCST005569)"
   ]
  },
  {
   "cell_type": "code",
   "execution_count": 286,
   "id": "a11135da-4d18-4323-817d-14eb4e8d6aa0",
   "metadata": {},
   "outputs": [],
   "source": [
    "ra <- fread(\"~/gains_team282/nikhil/data/EBI_GWAS_Catalog/eyre_2012_23143596_ra_efo0000685_1_ichip.sumstats.tsv\", sep=\"\\t\")"
   ]
  },
  {
   "cell_type": "code",
   "execution_count": 287,
   "id": "92daa6bb-a908-44e7-9615-7f78e60a4647",
   "metadata": {},
   "outputs": [
    {
     "data": {
      "text/html": [
       "<table class=\"dataframe\">\n",
       "<caption>A data.table: 6 × 11</caption>\n",
       "<thead>\n",
       "\t<tr><th scope=col>chrom</th><th scope=col>pos</th><th scope=col>rsid</th><th scope=col>other_allele</th><th scope=col>effect_allele</th><th scope=col>p</th><th scope=col>beta</th><th scope=col>se</th><th scope=col>OR</th><th scope=col>OR_lower</th><th scope=col>OR_upper</th></tr>\n",
       "\t<tr><th scope=col>&lt;chr&gt;</th><th scope=col>&lt;int&gt;</th><th scope=col>&lt;chr&gt;</th><th scope=col>&lt;chr&gt;</th><th scope=col>&lt;chr&gt;</th><th scope=col>&lt;dbl&gt;</th><th scope=col>&lt;dbl&gt;</th><th scope=col>&lt;dbl&gt;</th><th scope=col>&lt;dbl&gt;</th><th scope=col>&lt;dbl&gt;</th><th scope=col>&lt;dbl&gt;</th></tr>\n",
       "</thead>\n",
       "<tbody>\n",
       "\t<tr><td>1</td><td>1118275</td><td>rs61733845</td><td>G</td><td>A</td><td>0.3552</td><td> 0.039797470</td><td>0.04304523</td><td>1.0406</td><td>0.9564075</td><td>1.132204</td></tr>\n",
       "\t<tr><td>1</td><td>1120431</td><td>rs1320571 </td><td>G</td><td>A</td><td>0.9195</td><td>-0.004309272</td><td>0.04263922</td><td>0.9957</td><td>0.9158688</td><td>1.082490</td></tr>\n",
       "\t<tr><td>1</td><td>1135242</td><td>rs9729550 </td><td>A</td><td>C</td><td>0.1089</td><td> 0.037969931</td><td>0.02368447</td><td>1.0387</td><td>0.9915840</td><td>1.088055</td></tr>\n",
       "\t<tr><td>1</td><td>1218086</td><td>rs6603788 </td><td>G</td><td>A</td><td>0.3700</td><td> 0.032951100</td><td>0.03675636</td><td>1.0335</td><td>0.9616628</td><td>1.110703</td></tr>\n",
       "\t<tr><td>1</td><td>1335790</td><td>rs1240708 </td><td>A</td><td>G</td><td>0.6963</td><td>-0.009343515</td><td>0.02393809</td><td>0.9907</td><td>0.9452913</td><td>1.038290</td></tr>\n",
       "\t<tr><td>1</td><td>1493727</td><td>rs880051  </td><td>G</td><td>A</td><td>0.5926</td><td>-0.021325787</td><td>0.03985591</td><td>0.9789</td><td>0.9053412</td><td>1.058435</td></tr>\n",
       "</tbody>\n",
       "</table>\n"
      ],
      "text/latex": [
       "A data.table: 6 × 11\n",
       "\\begin{tabular}{lllllllllll}\n",
       " chrom & pos & rsid & other\\_allele & effect\\_allele & p & beta & se & OR & OR\\_lower & OR\\_upper\\\\\n",
       " <chr> & <int> & <chr> & <chr> & <chr> & <dbl> & <dbl> & <dbl> & <dbl> & <dbl> & <dbl>\\\\\n",
       "\\hline\n",
       "\t 1 & 1118275 & rs61733845 & G & A & 0.3552 &  0.039797470 & 0.04304523 & 1.0406 & 0.9564075 & 1.132204\\\\\n",
       "\t 1 & 1120431 & rs1320571  & G & A & 0.9195 & -0.004309272 & 0.04263922 & 0.9957 & 0.9158688 & 1.082490\\\\\n",
       "\t 1 & 1135242 & rs9729550  & A & C & 0.1089 &  0.037969931 & 0.02368447 & 1.0387 & 0.9915840 & 1.088055\\\\\n",
       "\t 1 & 1218086 & rs6603788  & G & A & 0.3700 &  0.032951100 & 0.03675636 & 1.0335 & 0.9616628 & 1.110703\\\\\n",
       "\t 1 & 1335790 & rs1240708  & A & G & 0.6963 & -0.009343515 & 0.02393809 & 0.9907 & 0.9452913 & 1.038290\\\\\n",
       "\t 1 & 1493727 & rs880051   & G & A & 0.5926 & -0.021325787 & 0.03985591 & 0.9789 & 0.9053412 & 1.058435\\\\\n",
       "\\end{tabular}\n"
      ],
      "text/markdown": [
       "\n",
       "A data.table: 6 × 11\n",
       "\n",
       "| chrom &lt;chr&gt; | pos &lt;int&gt; | rsid &lt;chr&gt; | other_allele &lt;chr&gt; | effect_allele &lt;chr&gt; | p &lt;dbl&gt; | beta &lt;dbl&gt; | se &lt;dbl&gt; | OR &lt;dbl&gt; | OR_lower &lt;dbl&gt; | OR_upper &lt;dbl&gt; |\n",
       "|---|---|---|---|---|---|---|---|---|---|---|\n",
       "| 1 | 1118275 | rs61733845 | G | A | 0.3552 |  0.039797470 | 0.04304523 | 1.0406 | 0.9564075 | 1.132204 |\n",
       "| 1 | 1120431 | rs1320571  | G | A | 0.9195 | -0.004309272 | 0.04263922 | 0.9957 | 0.9158688 | 1.082490 |\n",
       "| 1 | 1135242 | rs9729550  | A | C | 0.1089 |  0.037969931 | 0.02368447 | 1.0387 | 0.9915840 | 1.088055 |\n",
       "| 1 | 1218086 | rs6603788  | G | A | 0.3700 |  0.032951100 | 0.03675636 | 1.0335 | 0.9616628 | 1.110703 |\n",
       "| 1 | 1335790 | rs1240708  | A | G | 0.6963 | -0.009343515 | 0.02393809 | 0.9907 | 0.9452913 | 1.038290 |\n",
       "| 1 | 1493727 | rs880051   | G | A | 0.5926 | -0.021325787 | 0.03985591 | 0.9789 | 0.9053412 | 1.058435 |\n",
       "\n"
      ],
      "text/plain": [
       "  chrom pos     rsid       other_allele effect_allele p      beta        \n",
       "1 1     1118275 rs61733845 G            A             0.3552  0.039797470\n",
       "2 1     1120431 rs1320571  G            A             0.9195 -0.004309272\n",
       "3 1     1135242 rs9729550  A            C             0.1089  0.037969931\n",
       "4 1     1218086 rs6603788  G            A             0.3700  0.032951100\n",
       "5 1     1335790 rs1240708  A            G             0.6963 -0.009343515\n",
       "6 1     1493727 rs880051   G            A             0.5926 -0.021325787\n",
       "  se         OR     OR_lower  OR_upper\n",
       "1 0.04304523 1.0406 0.9564075 1.132204\n",
       "2 0.04263922 0.9957 0.9158688 1.082490\n",
       "3 0.02368447 1.0387 0.9915840 1.088055\n",
       "4 0.03675636 1.0335 0.9616628 1.110703\n",
       "5 0.02393809 0.9907 0.9452913 1.038290\n",
       "6 0.03985591 0.9789 0.9053412 1.058435"
      ]
     },
     "metadata": {},
     "output_type": "display_data"
    }
   ],
   "source": [
    "head(ra)"
   ]
  },
  {
   "cell_type": "code",
   "execution_count": 289,
   "id": "7f84dd1a-a2da-46bb-9033-aebf02d8a226",
   "metadata": {},
   "outputs": [],
   "source": [
    "ra.me <- ebi.mqtl %>%\n",
    "    dplyr::filter(accession == \"GCST005569\")\n",
    "\n",
    "ra.snps <- unique(ra.me$snp)"
   ]
  },
  {
   "cell_type": "code",
   "execution_count": 290,
   "id": "ee073208-c4b9-4181-b397-0a507034675d",
   "metadata": {},
   "outputs": [],
   "source": [
    "module.qtl.set <- module.qtl.sum %>%\n",
    "    dplyr::filter(snp %in% ra.snps)\n",
    "\n",
    "module.qtl.set <- unique(module.qtl.set$module.qtl)"
   ]
  },
  {
   "cell_type": "code",
   "execution_count": 292,
   "id": "1ef00a20-6fcf-45b7-820d-a09eee4fd502",
   "metadata": {},
   "outputs": [],
   "source": [
    "all.snps <- module.qtl.sum %>%\n",
    "    dplyr::filter(module.qtl %in% module.qtl.set)\n",
    "\n",
    "all.snps <- all.snps$snp\n",
    "\n",
    "ra <- ra %>%\n",
    "    dplyr::filter(rsid %in% all.snps) %>%\n",
    "    dplyr::filter(se > 0) %>%\n",
    "    dplyr::mutate(IUPAC = alleles.iupac(other_allele, effect_allele))"
   ]
  },
  {
   "cell_type": "code",
   "execution_count": 306,
   "id": "be98dd64-7835-4940-ae1d-4f1a17e9fc7e",
   "metadata": {},
   "outputs": [],
   "source": [
    "ra.coloc <- lapply(module.qtl.set, function(module.qtl.id) {\n",
    " \n",
    "    module.id = gsub(\"-.*\", \"\", module.qtl.id)\n",
    "    \n",
    "    mqtl.locus.info = module.qtl.sum %>%\n",
    "        dplyr::filter(module.qtl == module.qtl.id) %>%\n",
    "        dplyr::select(m.snp = snp, m.beta=beta, m.se=se, m.pos=pos, major_allele, minor_allele, IUPAC)\n",
    "    \n",
    "    all.info = ra %>%\n",
    "        dplyr::filter(rsid %in% mqtl.locus.info$m.snp) %>%\n",
    "        merge(\n",
    "            ., mqtl.locus.info, \n",
    "            by.x=c(\"rsid\", \"IUPAC\"),\n",
    "            by.y=c(\"m.snp\", \"IUPAC\")\n",
    "        ) %>%\n",
    "        dplyr::select(snp=rsid, m.beta, m.se, pos=m.pos, g.beta=beta, g.se=se)\n",
    "    \n",
    "    module.qtl = list()\n",
    "    module.qtl$beta = all.info$m.beta\n",
    "    module.qtl$varbeta = all.info$m.se^2\n",
    "    module.qtl$snp = all.info$snp\n",
    "    module.qtl$position = all.info$pos\n",
    "    module.qtl$type = \"quant\"\n",
    "    module.qtl$sdY = sd(eigengenes[, module.id], na.rm=TRUE)\n",
    "    \n",
    "    gwas.assoc = list()\n",
    "    gwas.assoc$beta = all.info$g.beta\n",
    "    gwas.assoc$varbeta = all.info$g.se^2\n",
    "    gwas.assoc$snp = all.info$snp\n",
    "    gwas.assoc$position = all.info$pos\n",
    "    gwas.assoc$type = \"cc\"\n",
    "    \n",
    "    log = capture.output({\n",
    "        abf.res = suppressWarnings(coloc.abf(gwas.assoc, module.qtl))\n",
    "    })\n",
    "    \n",
    "    data.frame(t(abf.res$summary)) %>%\n",
    "        dplyr::mutate(Module.QTL = module.qtl.id)\n",
    "}) %>%\n",
    "    do.call(rbind, .) %>%\n",
    "    dplyr::mutate(PP3plusPP4 = PP.H3.abf + PP.H4.abf) %>%\n",
    "    dplyr::mutate(COLOC.Factor = PP.H4.abf / PP3plusPP4) %>%\n",
    "    dplyr::mutate(Colocalise = (PP3plusPP4 > 0.25) & (COLOC.Factor > 0.7))"
   ]
  },
  {
   "cell_type": "code",
   "execution_count": 307,
   "id": "bc60d88e-5073-4b53-a530-9bc2326b9039",
   "metadata": {},
   "outputs": [
    {
     "data": {
      "text/html": [
       "<table class=\"dataframe\">\n",
       "<caption>A data.frame: 0 × 10</caption>\n",
       "<thead>\n",
       "\t<tr><th scope=col>nsnps</th><th scope=col>PP.H0.abf</th><th scope=col>PP.H1.abf</th><th scope=col>PP.H2.abf</th><th scope=col>PP.H3.abf</th><th scope=col>PP.H4.abf</th><th scope=col>Module.QTL</th><th scope=col>PP3plusPP4</th><th scope=col>COLOC.Factor</th><th scope=col>Colocalise</th></tr>\n",
       "\t<tr><th scope=col>&lt;dbl&gt;</th><th scope=col>&lt;dbl&gt;</th><th scope=col>&lt;dbl&gt;</th><th scope=col>&lt;dbl&gt;</th><th scope=col>&lt;dbl&gt;</th><th scope=col>&lt;dbl&gt;</th><th scope=col>&lt;chr&gt;</th><th scope=col>&lt;dbl&gt;</th><th scope=col>&lt;dbl&gt;</th><th scope=col>&lt;lgl&gt;</th></tr>\n",
       "</thead>\n",
       "<tbody>\n",
       "</tbody>\n",
       "</table>\n"
      ],
      "text/latex": [
       "A data.frame: 0 × 10\n",
       "\\begin{tabular}{llllllllll}\n",
       " nsnps & PP.H0.abf & PP.H1.abf & PP.H2.abf & PP.H3.abf & PP.H4.abf & Module.QTL & PP3plusPP4 & COLOC.Factor & Colocalise\\\\\n",
       " <dbl> & <dbl> & <dbl> & <dbl> & <dbl> & <dbl> & <chr> & <dbl> & <dbl> & <lgl>\\\\\n",
       "\\hline\n",
       "\\end{tabular}\n"
      ],
      "text/markdown": [
       "\n",
       "A data.frame: 0 × 10\n",
       "\n",
       "| nsnps &lt;dbl&gt; | PP.H0.abf &lt;dbl&gt; | PP.H1.abf &lt;dbl&gt; | PP.H2.abf &lt;dbl&gt; | PP.H3.abf &lt;dbl&gt; | PP.H4.abf &lt;dbl&gt; | Module.QTL &lt;chr&gt; | PP3plusPP4 &lt;dbl&gt; | COLOC.Factor &lt;dbl&gt; | Colocalise &lt;lgl&gt; |\n",
       "|---|---|---|---|---|---|---|---|---|---|\n",
       "\n"
      ],
      "text/plain": [
       "     nsnps PP.H0.abf PP.H1.abf PP.H2.abf PP.H3.abf PP.H4.abf Module.QTL\n",
       "     PP3plusPP4 COLOC.Factor Colocalise"
      ]
     },
     "metadata": {},
     "output_type": "display_data"
    }
   ],
   "source": [
    "ra.coloc %>%\n",
    "    dplyr::filter(PP3plusPP4 > 0.25) %>%\n",
    "    dplyr::arrange(desc(COLOC.Factor))"
   ]
  },
  {
   "cell_type": "code",
   "execution_count": 308,
   "id": "b7cdc4e2-7145-4ff2-8135-3a1c7ccaafa7",
   "metadata": {},
   "outputs": [],
   "source": [
    "rm(ra)"
   ]
  },
  {
   "cell_type": "markdown",
   "id": "2755acc1-10ba-472e-b3df-30460969696a",
   "metadata": {
    "jp-MarkdownHeadingCollapsed": true,
    "tags": []
   },
   "source": [
    "## Inflammatory Bowel Disease\n",
    "\n",
    "**Study**: [GCST004131](https://www.ebi.ac.uk/gwas/studies/GCST004131)"
   ]
  },
  {
   "cell_type": "code",
   "execution_count": 328,
   "id": "fb8ef034-b957-40d4-9b97-8b7dc9481d05",
   "metadata": {},
   "outputs": [],
   "source": [
    "ibd <- fread(\"~/gains_team282/nikhil/data/EBI_GWAS_Catalog/ibd_build37_59957_20161107_corrected.txt\", sep=\"\\t\")"
   ]
  },
  {
   "cell_type": "code",
   "execution_count": 329,
   "id": "377edfdb-14a1-464d-9cba-9ff105eb3f4e",
   "metadata": {},
   "outputs": [
    {
     "data": {
      "text/html": [
       "<table class=\"dataframe\">\n",
       "<caption>A data.table: 6 × 19</caption>\n",
       "<thead>\n",
       "\t<tr><th scope=col>chr</th><th scope=col>pos</th><th scope=col>iupac</th><th scope=col>snp</th><th scope=col>MarkerName</th><th scope=col>Allele1</th><th scope=col>Allele2</th><th scope=col>Effect</th><th scope=col>StdErr</th><th scope=col>P.value</th><th scope=col>Direction</th><th scope=col>HetISq</th><th scope=col>HetChiSq</th><th scope=col>HetDf</th><th scope=col>HetPVal</th><th scope=col>Pval_IBDseq</th><th scope=col>Pval_IIBDGC</th><th scope=col>Pval_GWAS3</th><th scope=col>Min_single_cohort_pval</th></tr>\n",
       "\t<tr><th scope=col>&lt;int&gt;</th><th scope=col>&lt;int&gt;</th><th scope=col>&lt;chr&gt;</th><th scope=col>&lt;chr&gt;</th><th scope=col>&lt;chr&gt;</th><th scope=col>&lt;chr&gt;</th><th scope=col>&lt;chr&gt;</th><th scope=col>&lt;dbl&gt;</th><th scope=col>&lt;dbl&gt;</th><th scope=col>&lt;dbl&gt;</th><th scope=col>&lt;chr&gt;</th><th scope=col>&lt;dbl&gt;</th><th scope=col>&lt;dbl&gt;</th><th scope=col>&lt;int&gt;</th><th scope=col>&lt;dbl&gt;</th><th scope=col>&lt;dbl&gt;</th><th scope=col>&lt;dbl&gt;</th><th scope=col>&lt;dbl&gt;</th><th scope=col>&lt;dbl&gt;</th></tr>\n",
       "</thead>\n",
       "<tbody>\n",
       "\t<tr><td>1</td><td>100000012</td><td>K</td><td>rs10875231 </td><td>1:100000012_G_T</td><td>t</td><td>g</td><td>-0.0078</td><td>0.0147</td><td>0.5950</td><td>+-+</td><td>82.7</td><td>11.592</td><td>2</td><td>0.003040</td><td>0.2395900</td><td>0.2746</td><td>0.00229140</td><td>0.00229140</td></tr>\n",
       "\t<tr><td>1</td><td> 10000006</td><td>R</td><td>rs186077422</td><td>1:10000006_G_A </td><td>a</td><td>g</td><td> 0.0155</td><td>0.1109</td><td>0.8886</td><td>+--</td><td>54.3</td><td> 4.373</td><td>2</td><td>0.112300</td><td>0.0546277</td><td>0.9403</td><td>0.40489500</td><td>0.05462770</td></tr>\n",
       "\t<tr><td>1</td><td>100000827</td><td>Y</td><td>rs6678176  </td><td>1:100000827_C_T</td><td>t</td><td>c</td><td>-0.0144</td><td>0.0136</td><td>0.2915</td><td>+-+</td><td>72.4</td><td> 7.253</td><td>2</td><td>0.026610</td><td>0.4995680</td><td>0.6470</td><td>0.00551736</td><td>0.00551736</td></tr>\n",
       "\t<tr><td>1</td><td>100000843</td><td>Y</td><td>rs78286437 </td><td>1:100000843_T_C</td><td>t</td><td>c</td><td> 0.0374</td><td>0.0289</td><td>0.1954</td><td>+++</td><td> 0.0</td><td> 0.575</td><td>2</td><td>0.750300</td><td>0.3878360</td><td>0.2238</td><td>0.86966400</td><td>0.22380000</td></tr>\n",
       "\t<tr><td>1</td><td>100001138</td><td>R</td><td>rs144406489</td><td>1:100001138_A_G</td><td>a</td><td>g</td><td>-0.0212</td><td>0.0458</td><td>0.6435</td><td>--+</td><td>28.3</td><td> 2.791</td><td>2</td><td>0.247800</td><td>0.2968820</td><td>0.3558</td><td>0.30243800</td><td>0.29688200</td></tr>\n",
       "\t<tr><td>1</td><td>100001201</td><td>K</td><td>rs76909621 </td><td>1:100001201_G_T</td><td>t</td><td>g</td><td> 0.0087</td><td>0.0211</td><td>0.6805</td><td>+-+</td><td>79.0</td><td> 9.539</td><td>2</td><td>0.008485</td><td>0.0241856</td><td>0.3030</td><td>0.05905150</td><td>0.02418560</td></tr>\n",
       "</tbody>\n",
       "</table>\n"
      ],
      "text/latex": [
       "A data.table: 6 × 19\n",
       "\\begin{tabular}{lllllllllllllllllll}\n",
       " chr & pos & iupac & snp & MarkerName & Allele1 & Allele2 & Effect & StdErr & P.value & Direction & HetISq & HetChiSq & HetDf & HetPVal & Pval\\_IBDseq & Pval\\_IIBDGC & Pval\\_GWAS3 & Min\\_single\\_cohort\\_pval\\\\\n",
       " <int> & <int> & <chr> & <chr> & <chr> & <chr> & <chr> & <dbl> & <dbl> & <dbl> & <chr> & <dbl> & <dbl> & <int> & <dbl> & <dbl> & <dbl> & <dbl> & <dbl>\\\\\n",
       "\\hline\n",
       "\t 1 & 100000012 & K & rs10875231  & 1:100000012\\_G\\_T & t & g & -0.0078 & 0.0147 & 0.5950 & +-+ & 82.7 & 11.592 & 2 & 0.003040 & 0.2395900 & 0.2746 & 0.00229140 & 0.00229140\\\\\n",
       "\t 1 &  10000006 & R & rs186077422 & 1:10000006\\_G\\_A  & a & g &  0.0155 & 0.1109 & 0.8886 & +-- & 54.3 &  4.373 & 2 & 0.112300 & 0.0546277 & 0.9403 & 0.40489500 & 0.05462770\\\\\n",
       "\t 1 & 100000827 & Y & rs6678176   & 1:100000827\\_C\\_T & t & c & -0.0144 & 0.0136 & 0.2915 & +-+ & 72.4 &  7.253 & 2 & 0.026610 & 0.4995680 & 0.6470 & 0.00551736 & 0.00551736\\\\\n",
       "\t 1 & 100000843 & Y & rs78286437  & 1:100000843\\_T\\_C & t & c &  0.0374 & 0.0289 & 0.1954 & +++ &  0.0 &  0.575 & 2 & 0.750300 & 0.3878360 & 0.2238 & 0.86966400 & 0.22380000\\\\\n",
       "\t 1 & 100001138 & R & rs144406489 & 1:100001138\\_A\\_G & a & g & -0.0212 & 0.0458 & 0.6435 & --+ & 28.3 &  2.791 & 2 & 0.247800 & 0.2968820 & 0.3558 & 0.30243800 & 0.29688200\\\\\n",
       "\t 1 & 100001201 & K & rs76909621  & 1:100001201\\_G\\_T & t & g &  0.0087 & 0.0211 & 0.6805 & +-+ & 79.0 &  9.539 & 2 & 0.008485 & 0.0241856 & 0.3030 & 0.05905150 & 0.02418560\\\\\n",
       "\\end{tabular}\n"
      ],
      "text/markdown": [
       "\n",
       "A data.table: 6 × 19\n",
       "\n",
       "| chr &lt;int&gt; | pos &lt;int&gt; | iupac &lt;chr&gt; | snp &lt;chr&gt; | MarkerName &lt;chr&gt; | Allele1 &lt;chr&gt; | Allele2 &lt;chr&gt; | Effect &lt;dbl&gt; | StdErr &lt;dbl&gt; | P.value &lt;dbl&gt; | Direction &lt;chr&gt; | HetISq &lt;dbl&gt; | HetChiSq &lt;dbl&gt; | HetDf &lt;int&gt; | HetPVal &lt;dbl&gt; | Pval_IBDseq &lt;dbl&gt; | Pval_IIBDGC &lt;dbl&gt; | Pval_GWAS3 &lt;dbl&gt; | Min_single_cohort_pval &lt;dbl&gt; |\n",
       "|---|---|---|---|---|---|---|---|---|---|---|---|---|---|---|---|---|---|---|\n",
       "| 1 | 100000012 | K | rs10875231  | 1:100000012_G_T | t | g | -0.0078 | 0.0147 | 0.5950 | +-+ | 82.7 | 11.592 | 2 | 0.003040 | 0.2395900 | 0.2746 | 0.00229140 | 0.00229140 |\n",
       "| 1 |  10000006 | R | rs186077422 | 1:10000006_G_A  | a | g |  0.0155 | 0.1109 | 0.8886 | +-- | 54.3 |  4.373 | 2 | 0.112300 | 0.0546277 | 0.9403 | 0.40489500 | 0.05462770 |\n",
       "| 1 | 100000827 | Y | rs6678176   | 1:100000827_C_T | t | c | -0.0144 | 0.0136 | 0.2915 | +-+ | 72.4 |  7.253 | 2 | 0.026610 | 0.4995680 | 0.6470 | 0.00551736 | 0.00551736 |\n",
       "| 1 | 100000843 | Y | rs78286437  | 1:100000843_T_C | t | c |  0.0374 | 0.0289 | 0.1954 | +++ |  0.0 |  0.575 | 2 | 0.750300 | 0.3878360 | 0.2238 | 0.86966400 | 0.22380000 |\n",
       "| 1 | 100001138 | R | rs144406489 | 1:100001138_A_G | a | g | -0.0212 | 0.0458 | 0.6435 | --+ | 28.3 |  2.791 | 2 | 0.247800 | 0.2968820 | 0.3558 | 0.30243800 | 0.29688200 |\n",
       "| 1 | 100001201 | K | rs76909621  | 1:100001201_G_T | t | g |  0.0087 | 0.0211 | 0.6805 | +-+ | 79.0 |  9.539 | 2 | 0.008485 | 0.0241856 | 0.3030 | 0.05905150 | 0.02418560 |\n",
       "\n"
      ],
      "text/plain": [
       "  chr pos       iupac snp         MarkerName      Allele1 Allele2 Effect \n",
       "1 1   100000012 K     rs10875231  1:100000012_G_T t       g       -0.0078\n",
       "2 1    10000006 R     rs186077422 1:10000006_G_A  a       g        0.0155\n",
       "3 1   100000827 Y     rs6678176   1:100000827_C_T t       c       -0.0144\n",
       "4 1   100000843 Y     rs78286437  1:100000843_T_C t       c        0.0374\n",
       "5 1   100001138 R     rs144406489 1:100001138_A_G a       g       -0.0212\n",
       "6 1   100001201 K     rs76909621  1:100001201_G_T t       g        0.0087\n",
       "  StdErr P.value Direction HetISq HetChiSq HetDf HetPVal  Pval_IBDseq\n",
       "1 0.0147 0.5950  +-+       82.7   11.592   2     0.003040 0.2395900  \n",
       "2 0.1109 0.8886  +--       54.3    4.373   2     0.112300 0.0546277  \n",
       "3 0.0136 0.2915  +-+       72.4    7.253   2     0.026610 0.4995680  \n",
       "4 0.0289 0.1954  +++        0.0    0.575   2     0.750300 0.3878360  \n",
       "5 0.0458 0.6435  --+       28.3    2.791   2     0.247800 0.2968820  \n",
       "6 0.0211 0.6805  +-+       79.0    9.539   2     0.008485 0.0241856  \n",
       "  Pval_IIBDGC Pval_GWAS3 Min_single_cohort_pval\n",
       "1 0.2746      0.00229140 0.00229140            \n",
       "2 0.9403      0.40489500 0.05462770            \n",
       "3 0.6470      0.00551736 0.00551736            \n",
       "4 0.2238      0.86966400 0.22380000            \n",
       "5 0.3558      0.30243800 0.29688200            \n",
       "6 0.3030      0.05905150 0.02418560            "
      ]
     },
     "metadata": {},
     "output_type": "display_data"
    }
   ],
   "source": [
    "head(ibd)"
   ]
  },
  {
   "cell_type": "code",
   "execution_count": 330,
   "id": "15d6d41e-214d-4709-8d28-2b968f6c09a0",
   "metadata": {},
   "outputs": [],
   "source": [
    "ibd.me <- ebi.mqtl %>%\n",
    "    dplyr::filter(accession == \"GCST004131\")\n",
    "\n",
    "ibd.snps <- unique(ibd.me$snp)"
   ]
  },
  {
   "cell_type": "code",
   "execution_count": 331,
   "id": "8a7508da-661f-43b0-8470-793564353c4f",
   "metadata": {},
   "outputs": [],
   "source": [
    "module.qtl.set <- module.qtl.sum %>%\n",
    "    dplyr::filter(snp %in% ibd.snps)\n",
    "\n",
    "module.qtl.set <- unique(module.qtl.set$module.qtl)"
   ]
  },
  {
   "cell_type": "code",
   "execution_count": 332,
   "id": "fd2e14bc-10bd-4d97-8b20-98f18748dff9",
   "metadata": {},
   "outputs": [],
   "source": [
    "all.snps <- module.qtl.sum %>%\n",
    "    dplyr::filter(module.qtl %in% module.qtl.set)\n",
    "\n",
    "all.snps <- all.snps$snp\n",
    "\n",
    "ibd <- ibd %>%\n",
    "    dplyr::filter(snp %in% all.snps) %>%\n",
    "    dplyr::filter(StdErr > 0) %>%\n",
    "    dplyr::mutate(Allele1 = str_to_upper(Allele1), Allele2 = str_to_upper(Allele2)) %>%\n",
    "    dplyr::mutate(IUPAC = alleles.iupac(Allele1, Allele2))"
   ]
  },
  {
   "cell_type": "code",
   "execution_count": 334,
   "id": "00312f62-2dda-483a-8f9c-81c8b734c5a9",
   "metadata": {},
   "outputs": [],
   "source": [
    "ibd.coloc <- lapply(module.qtl.set, function(module.qtl.id) {\n",
    " \n",
    "    module.id = gsub(\"-.*\", \"\", module.qtl.id)\n",
    "    \n",
    "    mqtl.locus.info = module.qtl.sum %>%\n",
    "        dplyr::filter(module.qtl == module.qtl.id) %>%\n",
    "        dplyr::select(m.snp = snp, m.beta=beta, m.se=se, m.pos=pos, major_allele, minor_allele, IUPAC)\n",
    "    \n",
    "    all.info = ibd %>%\n",
    "        dplyr::filter(snp %in% mqtl.locus.info$m.snp) %>%\n",
    "        merge(\n",
    "            ., mqtl.locus.info, \n",
    "            by.x=c(\"snp\", \"IUPAC\"),\n",
    "            by.y=c(\"m.snp\", \"IUPAC\")\n",
    "        ) %>%\n",
    "        dplyr::select(snp=snp, m.beta, m.se, pos=m.pos, g.beta=Effect, g.se=StdErr)\n",
    "    \n",
    "    module.qtl = list()\n",
    "    module.qtl$beta = all.info$m.beta\n",
    "    module.qtl$varbeta = all.info$m.se^2\n",
    "    module.qtl$snp = all.info$snp\n",
    "    module.qtl$position = all.info$pos\n",
    "    module.qtl$type = \"quant\"\n",
    "    module.qtl$sdY = sd(eigengenes[, module.id], na.rm=TRUE)\n",
    "    \n",
    "    gwas.assoc = list()\n",
    "    gwas.assoc$beta = all.info$g.beta\n",
    "    gwas.assoc$varbeta = all.info$g.se^2\n",
    "    gwas.assoc$snp = all.info$snp\n",
    "    gwas.assoc$position = all.info$pos\n",
    "    gwas.assoc$type = \"cc\"\n",
    "    \n",
    "    log = capture.output({\n",
    "        abf.res = suppressWarnings(coloc.abf(gwas.assoc, module.qtl))\n",
    "    })\n",
    "    \n",
    "    data.frame(t(abf.res$summary)) %>%\n",
    "        dplyr::mutate(Module.QTL = module.qtl.id)\n",
    "}) %>%\n",
    "    do.call(rbind, .) %>%\n",
    "    dplyr::mutate(PP3plusPP4 = PP.H3.abf + PP.H4.abf) %>%\n",
    "    dplyr::mutate(COLOC.Factor = PP.H4.abf / PP3plusPP4) %>%\n",
    "    dplyr::mutate(Colocalise = (PP3plusPP4 > 0.25) & (COLOC.Factor > 0.7))"
   ]
  },
  {
   "cell_type": "code",
   "execution_count": 335,
   "id": "82fd434e-4396-471d-8046-0ccfe087e7fb",
   "metadata": {},
   "outputs": [
    {
     "data": {
      "text/html": [
       "<table class=\"dataframe\">\n",
       "<caption>A data.frame: 11 × 10</caption>\n",
       "<thead>\n",
       "\t<tr><th scope=col>nsnps</th><th scope=col>PP.H0.abf</th><th scope=col>PP.H1.abf</th><th scope=col>PP.H2.abf</th><th scope=col>PP.H3.abf</th><th scope=col>PP.H4.abf</th><th scope=col>Module.QTL</th><th scope=col>PP3plusPP4</th><th scope=col>COLOC.Factor</th><th scope=col>Colocalise</th></tr>\n",
       "\t<tr><th scope=col>&lt;dbl&gt;</th><th scope=col>&lt;dbl&gt;</th><th scope=col>&lt;dbl&gt;</th><th scope=col>&lt;dbl&gt;</th><th scope=col>&lt;dbl&gt;</th><th scope=col>&lt;dbl&gt;</th><th scope=col>&lt;chr&gt;</th><th scope=col>&lt;dbl&gt;</th><th scope=col>&lt;dbl&gt;</th><th scope=col>&lt;lgl&gt;</th></tr>\n",
       "</thead>\n",
       "<tbody>\n",
       "\t<tr><td>3082</td><td>5.209767e-11</td><td>7.247910e-09</td><td>5.344520e-04</td><td>0.07342777</td><td>9.260378e-01</td><td>ME_71_1-3:100304904-102512523</td><td>0.9994655</td><td>9.265330e-01</td><td> TRUE</td></tr>\n",
       "\t<tr><td>2936</td><td>8.230776e-10</td><td>1.145055e-07</td><td>1.048622e-03</td><td>0.14502894</td><td>8.539223e-01</td><td>ME_47_1-3:100415852-102512523</td><td>0.9989513</td><td>8.548188e-01</td><td> TRUE</td></tr>\n",
       "\t<tr><td>2936</td><td>8.868164e-05</td><td>1.233727e-02</td><td>1.287713e-03</td><td>0.17833701</td><td>8.079493e-01</td><td>ME_47_3-3:100415852-102512523</td><td>0.9862863</td><td>8.191833e-01</td><td> TRUE</td></tr>\n",
       "\t<tr><td>2936</td><td>3.377202e-05</td><td>4.698319e-03</td><td>1.470389e-03</td><td>0.20376857</td><td>7.900290e-01</td><td>ME_47_4-3:100415852-102512523</td><td>0.9937975</td><td>7.949597e-01</td><td> TRUE</td></tr>\n",
       "\t<tr><td>3082</td><td>3.866537e-04</td><td>5.379188e-02</td><td>1.600150e-03</td><td>0.22189313</td><td>7.223282e-01</td><td>ME_71_2-3:100304904-102512523</td><td>0.9442213</td><td>7.649988e-01</td><td> TRUE</td></tr>\n",
       "\t<tr><td>2936</td><td>7.492296e-11</td><td>1.042318e-08</td><td>1.808375e-03</td><td>0.25083136</td><td>7.473603e-01</td><td>ME_47_5-3:100415852-102512523</td><td>0.9981916</td><td>7.487142e-01</td><td> TRUE</td></tr>\n",
       "\t<tr><td>2541</td><td>2.298172e-30</td><td>6.451091e-01</td><td>7.813241e-31</td><td>0.21918608</td><td>1.357048e-01</td><td>ME_94_2-3:47689679-50854451  </td><td>0.3548909</td><td>3.823846e-01</td><td>FALSE</td></tr>\n",
       "\t<tr><td>2541</td><td>2.253076e-30</td><td>6.324503e-01</td><td>1.033004e-30</td><td>0.28989186</td><td>7.765782e-02</td><td>ME_94_1-3:47689679-50854451  </td><td>0.3675497</td><td>2.112852e-01</td><td>FALSE</td></tr>\n",
       "\t<tr><td>3082</td><td>1.143117e-03</td><td>1.590322e-01</td><td>4.770635e-03</td><td>0.66352675</td><td>1.715273e-01</td><td>ME_71_3-3:100304904-102512523</td><td>0.8350540</td><td>2.054086e-01</td><td>FALSE</td></tr>\n",
       "\t<tr><td>2541</td><td>2.261531e-39</td><td>6.348236e-10</td><td>3.562455e-30</td><td>0.99999996</td><td>3.783689e-08</td><td>ME_94_4-3:47689679-50854451  </td><td>1.0000000</td><td>3.783689e-08</td><td>FALSE</td></tr>\n",
       "\t<tr><td>2541</td><td>1.007492e-91</td><td>2.828083e-62</td><td>3.562456e-30</td><td>1.00000000</td><td>3.061476e-18</td><td>ME_94_5-3:47689679-50854451  </td><td>1.0000000</td><td>3.061476e-18</td><td>FALSE</td></tr>\n",
       "</tbody>\n",
       "</table>\n"
      ],
      "text/latex": [
       "A data.frame: 11 × 10\n",
       "\\begin{tabular}{llllllllll}\n",
       " nsnps & PP.H0.abf & PP.H1.abf & PP.H2.abf & PP.H3.abf & PP.H4.abf & Module.QTL & PP3plusPP4 & COLOC.Factor & Colocalise\\\\\n",
       " <dbl> & <dbl> & <dbl> & <dbl> & <dbl> & <dbl> & <chr> & <dbl> & <dbl> & <lgl>\\\\\n",
       "\\hline\n",
       "\t 3082 & 5.209767e-11 & 7.247910e-09 & 5.344520e-04 & 0.07342777 & 9.260378e-01 & ME\\_71\\_1-3:100304904-102512523 & 0.9994655 & 9.265330e-01 &  TRUE\\\\\n",
       "\t 2936 & 8.230776e-10 & 1.145055e-07 & 1.048622e-03 & 0.14502894 & 8.539223e-01 & ME\\_47\\_1-3:100415852-102512523 & 0.9989513 & 8.548188e-01 &  TRUE\\\\\n",
       "\t 2936 & 8.868164e-05 & 1.233727e-02 & 1.287713e-03 & 0.17833701 & 8.079493e-01 & ME\\_47\\_3-3:100415852-102512523 & 0.9862863 & 8.191833e-01 &  TRUE\\\\\n",
       "\t 2936 & 3.377202e-05 & 4.698319e-03 & 1.470389e-03 & 0.20376857 & 7.900290e-01 & ME\\_47\\_4-3:100415852-102512523 & 0.9937975 & 7.949597e-01 &  TRUE\\\\\n",
       "\t 3082 & 3.866537e-04 & 5.379188e-02 & 1.600150e-03 & 0.22189313 & 7.223282e-01 & ME\\_71\\_2-3:100304904-102512523 & 0.9442213 & 7.649988e-01 &  TRUE\\\\\n",
       "\t 2936 & 7.492296e-11 & 1.042318e-08 & 1.808375e-03 & 0.25083136 & 7.473603e-01 & ME\\_47\\_5-3:100415852-102512523 & 0.9981916 & 7.487142e-01 &  TRUE\\\\\n",
       "\t 2541 & 2.298172e-30 & 6.451091e-01 & 7.813241e-31 & 0.21918608 & 1.357048e-01 & ME\\_94\\_2-3:47689679-50854451   & 0.3548909 & 3.823846e-01 & FALSE\\\\\n",
       "\t 2541 & 2.253076e-30 & 6.324503e-01 & 1.033004e-30 & 0.28989186 & 7.765782e-02 & ME\\_94\\_1-3:47689679-50854451   & 0.3675497 & 2.112852e-01 & FALSE\\\\\n",
       "\t 3082 & 1.143117e-03 & 1.590322e-01 & 4.770635e-03 & 0.66352675 & 1.715273e-01 & ME\\_71\\_3-3:100304904-102512523 & 0.8350540 & 2.054086e-01 & FALSE\\\\\n",
       "\t 2541 & 2.261531e-39 & 6.348236e-10 & 3.562455e-30 & 0.99999996 & 3.783689e-08 & ME\\_94\\_4-3:47689679-50854451   & 1.0000000 & 3.783689e-08 & FALSE\\\\\n",
       "\t 2541 & 1.007492e-91 & 2.828083e-62 & 3.562456e-30 & 1.00000000 & 3.061476e-18 & ME\\_94\\_5-3:47689679-50854451   & 1.0000000 & 3.061476e-18 & FALSE\\\\\n",
       "\\end{tabular}\n"
      ],
      "text/markdown": [
       "\n",
       "A data.frame: 11 × 10\n",
       "\n",
       "| nsnps &lt;dbl&gt; | PP.H0.abf &lt;dbl&gt; | PP.H1.abf &lt;dbl&gt; | PP.H2.abf &lt;dbl&gt; | PP.H3.abf &lt;dbl&gt; | PP.H4.abf &lt;dbl&gt; | Module.QTL &lt;chr&gt; | PP3plusPP4 &lt;dbl&gt; | COLOC.Factor &lt;dbl&gt; | Colocalise &lt;lgl&gt; |\n",
       "|---|---|---|---|---|---|---|---|---|---|\n",
       "| 3082 | 5.209767e-11 | 7.247910e-09 | 5.344520e-04 | 0.07342777 | 9.260378e-01 | ME_71_1-3:100304904-102512523 | 0.9994655 | 9.265330e-01 |  TRUE |\n",
       "| 2936 | 8.230776e-10 | 1.145055e-07 | 1.048622e-03 | 0.14502894 | 8.539223e-01 | ME_47_1-3:100415852-102512523 | 0.9989513 | 8.548188e-01 |  TRUE |\n",
       "| 2936 | 8.868164e-05 | 1.233727e-02 | 1.287713e-03 | 0.17833701 | 8.079493e-01 | ME_47_3-3:100415852-102512523 | 0.9862863 | 8.191833e-01 |  TRUE |\n",
       "| 2936 | 3.377202e-05 | 4.698319e-03 | 1.470389e-03 | 0.20376857 | 7.900290e-01 | ME_47_4-3:100415852-102512523 | 0.9937975 | 7.949597e-01 |  TRUE |\n",
       "| 3082 | 3.866537e-04 | 5.379188e-02 | 1.600150e-03 | 0.22189313 | 7.223282e-01 | ME_71_2-3:100304904-102512523 | 0.9442213 | 7.649988e-01 |  TRUE |\n",
       "| 2936 | 7.492296e-11 | 1.042318e-08 | 1.808375e-03 | 0.25083136 | 7.473603e-01 | ME_47_5-3:100415852-102512523 | 0.9981916 | 7.487142e-01 |  TRUE |\n",
       "| 2541 | 2.298172e-30 | 6.451091e-01 | 7.813241e-31 | 0.21918608 | 1.357048e-01 | ME_94_2-3:47689679-50854451   | 0.3548909 | 3.823846e-01 | FALSE |\n",
       "| 2541 | 2.253076e-30 | 6.324503e-01 | 1.033004e-30 | 0.28989186 | 7.765782e-02 | ME_94_1-3:47689679-50854451   | 0.3675497 | 2.112852e-01 | FALSE |\n",
       "| 3082 | 1.143117e-03 | 1.590322e-01 | 4.770635e-03 | 0.66352675 | 1.715273e-01 | ME_71_3-3:100304904-102512523 | 0.8350540 | 2.054086e-01 | FALSE |\n",
       "| 2541 | 2.261531e-39 | 6.348236e-10 | 3.562455e-30 | 0.99999996 | 3.783689e-08 | ME_94_4-3:47689679-50854451   | 1.0000000 | 3.783689e-08 | FALSE |\n",
       "| 2541 | 1.007492e-91 | 2.828083e-62 | 3.562456e-30 | 1.00000000 | 3.061476e-18 | ME_94_5-3:47689679-50854451   | 1.0000000 | 3.061476e-18 | FALSE |\n",
       "\n"
      ],
      "text/plain": [
       "   nsnps PP.H0.abf    PP.H1.abf    PP.H2.abf    PP.H3.abf  PP.H4.abf   \n",
       "1  3082  5.209767e-11 7.247910e-09 5.344520e-04 0.07342777 9.260378e-01\n",
       "2  2936  8.230776e-10 1.145055e-07 1.048622e-03 0.14502894 8.539223e-01\n",
       "3  2936  8.868164e-05 1.233727e-02 1.287713e-03 0.17833701 8.079493e-01\n",
       "4  2936  3.377202e-05 4.698319e-03 1.470389e-03 0.20376857 7.900290e-01\n",
       "5  3082  3.866537e-04 5.379188e-02 1.600150e-03 0.22189313 7.223282e-01\n",
       "6  2936  7.492296e-11 1.042318e-08 1.808375e-03 0.25083136 7.473603e-01\n",
       "7  2541  2.298172e-30 6.451091e-01 7.813241e-31 0.21918608 1.357048e-01\n",
       "8  2541  2.253076e-30 6.324503e-01 1.033004e-30 0.28989186 7.765782e-02\n",
       "9  3082  1.143117e-03 1.590322e-01 4.770635e-03 0.66352675 1.715273e-01\n",
       "10 2541  2.261531e-39 6.348236e-10 3.562455e-30 0.99999996 3.783689e-08\n",
       "11 2541  1.007492e-91 2.828083e-62 3.562456e-30 1.00000000 3.061476e-18\n",
       "   Module.QTL                    PP3plusPP4 COLOC.Factor Colocalise\n",
       "1  ME_71_1-3:100304904-102512523 0.9994655  9.265330e-01  TRUE     \n",
       "2  ME_47_1-3:100415852-102512523 0.9989513  8.548188e-01  TRUE     \n",
       "3  ME_47_3-3:100415852-102512523 0.9862863  8.191833e-01  TRUE     \n",
       "4  ME_47_4-3:100415852-102512523 0.9937975  7.949597e-01  TRUE     \n",
       "5  ME_71_2-3:100304904-102512523 0.9442213  7.649988e-01  TRUE     \n",
       "6  ME_47_5-3:100415852-102512523 0.9981916  7.487142e-01  TRUE     \n",
       "7  ME_94_2-3:47689679-50854451   0.3548909  3.823846e-01 FALSE     \n",
       "8  ME_94_1-3:47689679-50854451   0.3675497  2.112852e-01 FALSE     \n",
       "9  ME_71_3-3:100304904-102512523 0.8350540  2.054086e-01 FALSE     \n",
       "10 ME_94_4-3:47689679-50854451   1.0000000  3.783689e-08 FALSE     \n",
       "11 ME_94_5-3:47689679-50854451   1.0000000  3.061476e-18 FALSE     "
      ]
     },
     "metadata": {},
     "output_type": "display_data"
    }
   ],
   "source": [
    "ibd.coloc %>%\n",
    "    dplyr::filter(PP3plusPP4 > 0.25) %>%\n",
    "    dplyr::arrange(desc(COLOC.Factor))"
   ]
  },
  {
   "cell_type": "code",
   "execution_count": 336,
   "id": "01028f03-9875-4089-8b67-770c258917dd",
   "metadata": {},
   "outputs": [],
   "source": [
    "rm(ibd)"
   ]
  },
  {
   "cell_type": "markdown",
   "id": "288b3b20-aa58-4a53-90e6-cc5b5c0333c3",
   "metadata": {
    "jp-MarkdownHeadingCollapsed": true,
    "tags": []
   },
   "source": [
    "## Systemic Lupus Erythromatus\n",
    "\n",
    "**Study**: [GCST003156](https://www.ebi.ac.uk/gwas/studies/GCST003156)"
   ]
  },
  {
   "cell_type": "code",
   "execution_count": 277,
   "id": "fe41db9d-9b57-430c-816a-7245e1011697",
   "metadata": {},
   "outputs": [],
   "source": [
    "sle <- fread(\"~/gains_team282/nikhil/data/EBI_GWAS_Catalog/bentham_2015_26502338_sle_efo0002690_1_gwas.sumstats.tsv\", sep=\"\\t\")"
   ]
  },
  {
   "cell_type": "code",
   "execution_count": 278,
   "id": "b6a4bcd2-323d-4d2a-8b06-5cf2d252ee47",
   "metadata": {},
   "outputs": [
    {
     "data": {
      "text/html": [
       "<table class=\"dataframe\">\n",
       "<caption>A data.table: 6 × 11</caption>\n",
       "<thead>\n",
       "\t<tr><th scope=col>chrom</th><th scope=col>pos</th><th scope=col>rsid</th><th scope=col>other_allele</th><th scope=col>effect_allele</th><th scope=col>p</th><th scope=col>beta</th><th scope=col>se</th><th scope=col>OR</th><th scope=col>OR_lower</th><th scope=col>OR_upper</th></tr>\n",
       "\t<tr><th scope=col>&lt;chr&gt;</th><th scope=col>&lt;int&gt;</th><th scope=col>&lt;chr&gt;</th><th scope=col>&lt;chr&gt;</th><th scope=col>&lt;chr&gt;</th><th scope=col>&lt;dbl&gt;</th><th scope=col>&lt;dbl&gt;</th><th scope=col>&lt;dbl&gt;</th><th scope=col>&lt;dbl&gt;</th><th scope=col>&lt;dbl&gt;</th><th scope=col>&lt;dbl&gt;</th></tr>\n",
       "</thead>\n",
       "<tbody>\n",
       "\t<tr><td>1</td><td>768253</td><td>rs2977608 </td><td>C</td><td>A</td><td>0.623366</td><td> 0.019802627</td><td>0.04032420</td><td>1.02</td><td>0.9424873</td><td>1.103888</td></tr>\n",
       "\t<tr><td>1</td><td>781845</td><td>rs61768199</td><td>A</td><td>G</td><td>0.889415</td><td> 0.009950331</td><td>0.07156221</td><td>1.01</td><td>0.8778219</td><td>1.162081</td></tr>\n",
       "\t<tr><td>1</td><td>787606</td><td>rs3863622 </td><td>G</td><td>T</td><td>0.864496</td><td>-0.010050336</td><td>0.05889313</td><td>0.99</td><td>0.8820726</td><td>1.111133</td></tr>\n",
       "\t<tr><td>1</td><td>787844</td><td>rs2905053 </td><td>T</td><td>C</td><td>0.987826</td><td> 0.000000000</td><td>0.00000000</td><td>1.00</td><td>1.0000000</td><td>1.000000</td></tr>\n",
       "\t<tr><td>1</td><td>790465</td><td>rs61768207</td><td>G</td><td>A</td><td>0.753144</td><td> 0.019802627</td><td>0.06296614</td><td>1.02</td><td>0.9015759</td><td>1.153979</td></tr>\n",
       "\t<tr><td>1</td><td>796375</td><td>rs12083781</td><td>T</td><td>C</td><td>0.348501</td><td> 0.048790164</td><td>0.05204280</td><td>1.05</td><td>0.9481774</td><td>1.162757</td></tr>\n",
       "</tbody>\n",
       "</table>\n"
      ],
      "text/latex": [
       "A data.table: 6 × 11\n",
       "\\begin{tabular}{lllllllllll}\n",
       " chrom & pos & rsid & other\\_allele & effect\\_allele & p & beta & se & OR & OR\\_lower & OR\\_upper\\\\\n",
       " <chr> & <int> & <chr> & <chr> & <chr> & <dbl> & <dbl> & <dbl> & <dbl> & <dbl> & <dbl>\\\\\n",
       "\\hline\n",
       "\t 1 & 768253 & rs2977608  & C & A & 0.623366 &  0.019802627 & 0.04032420 & 1.02 & 0.9424873 & 1.103888\\\\\n",
       "\t 1 & 781845 & rs61768199 & A & G & 0.889415 &  0.009950331 & 0.07156221 & 1.01 & 0.8778219 & 1.162081\\\\\n",
       "\t 1 & 787606 & rs3863622  & G & T & 0.864496 & -0.010050336 & 0.05889313 & 0.99 & 0.8820726 & 1.111133\\\\\n",
       "\t 1 & 787844 & rs2905053  & T & C & 0.987826 &  0.000000000 & 0.00000000 & 1.00 & 1.0000000 & 1.000000\\\\\n",
       "\t 1 & 790465 & rs61768207 & G & A & 0.753144 &  0.019802627 & 0.06296614 & 1.02 & 0.9015759 & 1.153979\\\\\n",
       "\t 1 & 796375 & rs12083781 & T & C & 0.348501 &  0.048790164 & 0.05204280 & 1.05 & 0.9481774 & 1.162757\\\\\n",
       "\\end{tabular}\n"
      ],
      "text/markdown": [
       "\n",
       "A data.table: 6 × 11\n",
       "\n",
       "| chrom &lt;chr&gt; | pos &lt;int&gt; | rsid &lt;chr&gt; | other_allele &lt;chr&gt; | effect_allele &lt;chr&gt; | p &lt;dbl&gt; | beta &lt;dbl&gt; | se &lt;dbl&gt; | OR &lt;dbl&gt; | OR_lower &lt;dbl&gt; | OR_upper &lt;dbl&gt; |\n",
       "|---|---|---|---|---|---|---|---|---|---|---|\n",
       "| 1 | 768253 | rs2977608  | C | A | 0.623366 |  0.019802627 | 0.04032420 | 1.02 | 0.9424873 | 1.103888 |\n",
       "| 1 | 781845 | rs61768199 | A | G | 0.889415 |  0.009950331 | 0.07156221 | 1.01 | 0.8778219 | 1.162081 |\n",
       "| 1 | 787606 | rs3863622  | G | T | 0.864496 | -0.010050336 | 0.05889313 | 0.99 | 0.8820726 | 1.111133 |\n",
       "| 1 | 787844 | rs2905053  | T | C | 0.987826 |  0.000000000 | 0.00000000 | 1.00 | 1.0000000 | 1.000000 |\n",
       "| 1 | 790465 | rs61768207 | G | A | 0.753144 |  0.019802627 | 0.06296614 | 1.02 | 0.9015759 | 1.153979 |\n",
       "| 1 | 796375 | rs12083781 | T | C | 0.348501 |  0.048790164 | 0.05204280 | 1.05 | 0.9481774 | 1.162757 |\n",
       "\n"
      ],
      "text/plain": [
       "  chrom pos    rsid       other_allele effect_allele p        beta        \n",
       "1 1     768253 rs2977608  C            A             0.623366  0.019802627\n",
       "2 1     781845 rs61768199 A            G             0.889415  0.009950331\n",
       "3 1     787606 rs3863622  G            T             0.864496 -0.010050336\n",
       "4 1     787844 rs2905053  T            C             0.987826  0.000000000\n",
       "5 1     790465 rs61768207 G            A             0.753144  0.019802627\n",
       "6 1     796375 rs12083781 T            C             0.348501  0.048790164\n",
       "  se         OR   OR_lower  OR_upper\n",
       "1 0.04032420 1.02 0.9424873 1.103888\n",
       "2 0.07156221 1.01 0.8778219 1.162081\n",
       "3 0.05889313 0.99 0.8820726 1.111133\n",
       "4 0.00000000 1.00 1.0000000 1.000000\n",
       "5 0.06296614 1.02 0.9015759 1.153979\n",
       "6 0.05204280 1.05 0.9481774 1.162757"
      ]
     },
     "metadata": {},
     "output_type": "display_data"
    }
   ],
   "source": [
    "head(sle)"
   ]
  },
  {
   "cell_type": "code",
   "execution_count": 279,
   "id": "12c888fb-4f49-4a17-9ae0-a063e34610fc",
   "metadata": {},
   "outputs": [],
   "source": [
    "sle.me <- ebi.mqtl %>%\n",
    "    dplyr::filter(accession == \"GCST003156\")\n",
    "\n",
    "sle.snps <- unique(sle.me$snp)"
   ]
  },
  {
   "cell_type": "code",
   "execution_count": 280,
   "id": "47bf5c81-8fd7-4226-a2a3-374bd7a05105",
   "metadata": {},
   "outputs": [],
   "source": [
    "module.qtl.set <- module.qtl.sum %>%\n",
    "    dplyr::filter(snp %in% sle.snps)\n",
    "\n",
    "module.qtl.set <- unique(module.qtl.set$module.qtl)"
   ]
  },
  {
   "cell_type": "code",
   "execution_count": 281,
   "id": "6f3f0695-b6e9-4819-a548-8cdf16a19c76",
   "metadata": {},
   "outputs": [],
   "source": [
    "all.snps <- module.qtl.sum %>%\n",
    "    dplyr::filter(module.qtl %in% module.qtl.set)\n",
    "\n",
    "all.snps <- all.snps$snp\n",
    "\n",
    "sle <- sle %>%\n",
    "    dplyr::filter(rsid %in% all.snps) %>%\n",
    "    dplyr::filter(se > 0) %>%\n",
    "    dplyr::mutate(IUPAC = alleles.iupac(other_allele, effect_allele))"
   ]
  },
  {
   "cell_type": "code",
   "execution_count": 282,
   "id": "ea171f3b-5823-4420-8c0e-04d6e46f1508",
   "metadata": {},
   "outputs": [],
   "source": [
    "sle.coloc <- lapply(module.qtl.set, function(module.qtl.id) {\n",
    " \n",
    "    module.id = gsub(\"-.*\", \"\", module.qtl.id)\n",
    "    \n",
    "    mqtl.locus.info = module.qtl.sum %>%\n",
    "        dplyr::filter(module.qtl == module.qtl.id) %>%\n",
    "        dplyr::select(m.snp = snp, m.beta=beta, m.se=se, m.pos=pos, major_allele, minor_allele, IUPAC)\n",
    "    \n",
    "    all.info = sle %>%\n",
    "        dplyr::filter(rsid %in% mqtl.locus.info$m.snp) %>%\n",
    "        merge(\n",
    "            ., mqtl.locus.info, \n",
    "            by.x=c(\"rsid\", \"IUPAC\"),\n",
    "            by.y=c(\"m.snp\", \"IUPAC\")\n",
    "        ) %>%\n",
    "        dplyr::select(snp=rsid, m.beta, m.se, pos=m.pos, g.beta=beta, g.se=se)\n",
    "    \n",
    "    module.qtl = list()\n",
    "    module.qtl$beta = all.info$m.beta\n",
    "    module.qtl$varbeta = all.info$m.se^2\n",
    "    module.qtl$snp = all.info$snp\n",
    "    module.qtl$position = all.info$pos\n",
    "    module.qtl$type = \"quant\"\n",
    "    module.qtl$sdY = sd(eigengenes[, module.id], na.rm=TRUE)\n",
    "    \n",
    "    gwas.assoc = list()\n",
    "    gwas.assoc$beta = all.info$g.beta\n",
    "    gwas.assoc$varbeta = all.info$g.se^2\n",
    "    gwas.assoc$snp = all.info$snp\n",
    "    gwas.assoc$position = all.info$pos\n",
    "    gwas.assoc$type = \"cc\"\n",
    "    \n",
    "    log = capture.output({\n",
    "        abf.res = suppressWarnings(coloc.abf(gwas.assoc, module.qtl))\n",
    "    })\n",
    "    \n",
    "    data.frame(t(abf.res$summary)) %>%\n",
    "        dplyr::mutate(Module.QTL = module.qtl.id)\n",
    "}) %>%\n",
    "    do.call(rbind, .) %>%\n",
    "    dplyr::mutate(PP3plusPP4 = PP.H3.abf + PP.H4.abf) %>%\n",
    "    dplyr::mutate(COLOC.Factor = PP.H4.abf / PP3plusPP4) %>%\n",
    "    dplyr::mutate(Colocalise = (PP3plusPP4 > 0.25) & (COLOC.Factor > 0.7))"
   ]
  },
  {
   "cell_type": "code",
   "execution_count": 283,
   "id": "a09b0006-e848-4f4c-a673-8e594455e8c8",
   "metadata": {},
   "outputs": [
    {
     "data": {
      "text/html": [
       "<table class=\"dataframe\">\n",
       "<caption>A data.frame: 6 × 10</caption>\n",
       "<thead>\n",
       "\t<tr><th></th><th scope=col>nsnps</th><th scope=col>PP.H0.abf</th><th scope=col>PP.H1.abf</th><th scope=col>PP.H2.abf</th><th scope=col>PP.H3.abf</th><th scope=col>PP.H4.abf</th><th scope=col>Module.QTL</th><th scope=col>PP3plusPP4</th><th scope=col>COLOC.Factor</th><th scope=col>Colocalise</th></tr>\n",
       "\t<tr><th></th><th scope=col>&lt;dbl&gt;</th><th scope=col>&lt;dbl&gt;</th><th scope=col>&lt;dbl&gt;</th><th scope=col>&lt;dbl&gt;</th><th scope=col>&lt;dbl&gt;</th><th scope=col>&lt;dbl&gt;</th><th scope=col>&lt;chr&gt;</th><th scope=col>&lt;dbl&gt;</th><th scope=col>&lt;dbl&gt;</th><th scope=col>&lt;lgl&gt;</th></tr>\n",
       "</thead>\n",
       "<tbody>\n",
       "\t<tr><th scope=row>1</th><td>5470</td><td>1.623247e-167</td><td>6.753990e-77</td><td>1.767132e-93</td><td>0.006359025</td><td>9.936410e-01</td><td>ME_84_1-6:28836283-33995104</td><td>1.0000000</td><td>9.936410e-01</td><td> TRUE</td></tr>\n",
       "\t<tr><th scope=row>2</th><td>5470</td><td>8.396429e-166</td><td>3.493578e-75</td><td>1.950980e-93</td><td>0.007124746</td><td>9.928753e-01</td><td>ME_84_2-6:28836283-33995104</td><td>1.0000000</td><td>9.928753e-01</td><td> TRUE</td></tr>\n",
       "\t<tr><th scope=row>3</th><td>2434</td><td> 1.694771e-91</td><td>7.051586e-01</td><td>4.940225e-92</td><td>0.205463052</td><td>8.937838e-02</td><td>ME_92_5-6:29991224-32464002</td><td>0.2948414</td><td>3.031405e-01</td><td>FALSE</td></tr>\n",
       "\t<tr><th scope=row>4</th><td>5470</td><td>8.164084e-100</td><td>3.396904e-09</td><td>2.403389e-91</td><td>0.999999789</td><td>2.071334e-07</td><td>ME_84_5-6:28836283-33995104</td><td>1.0000000</td><td>2.071334e-07</td><td>FALSE</td></tr>\n",
       "\t<tr><th scope=row>5</th><td>2434</td><td>1.933386e-103</td><td>8.044414e-13</td><td>2.403389e-91</td><td>1.000000000</td><td>2.846134e-14</td><td>ME_92_2-6:29991224-32464002</td><td>1.0000000</td><td>2.846134e-14</td><td>FALSE</td></tr>\n",
       "\t<tr><th scope=row>6</th><td>5470</td><td>4.086501e-157</td><td>1.700308e-66</td><td>2.403389e-91</td><td>1.000000000</td><td>3.756144e-60</td><td>ME_84_4-6:28836283-33995104</td><td>1.0000000</td><td>3.756144e-60</td><td>FALSE</td></tr>\n",
       "</tbody>\n",
       "</table>\n"
      ],
      "text/latex": [
       "A data.frame: 6 × 10\n",
       "\\begin{tabular}{r|llllllllll}\n",
       "  & nsnps & PP.H0.abf & PP.H1.abf & PP.H2.abf & PP.H3.abf & PP.H4.abf & Module.QTL & PP3plusPP4 & COLOC.Factor & Colocalise\\\\\n",
       "  & <dbl> & <dbl> & <dbl> & <dbl> & <dbl> & <dbl> & <chr> & <dbl> & <dbl> & <lgl>\\\\\n",
       "\\hline\n",
       "\t1 & 5470 & 1.623247e-167 & 6.753990e-77 & 1.767132e-93 & 0.006359025 & 9.936410e-01 & ME\\_84\\_1-6:28836283-33995104 & 1.0000000 & 9.936410e-01 &  TRUE\\\\\n",
       "\t2 & 5470 & 8.396429e-166 & 3.493578e-75 & 1.950980e-93 & 0.007124746 & 9.928753e-01 & ME\\_84\\_2-6:28836283-33995104 & 1.0000000 & 9.928753e-01 &  TRUE\\\\\n",
       "\t3 & 2434 &  1.694771e-91 & 7.051586e-01 & 4.940225e-92 & 0.205463052 & 8.937838e-02 & ME\\_92\\_5-6:29991224-32464002 & 0.2948414 & 3.031405e-01 & FALSE\\\\\n",
       "\t4 & 5470 & 8.164084e-100 & 3.396904e-09 & 2.403389e-91 & 0.999999789 & 2.071334e-07 & ME\\_84\\_5-6:28836283-33995104 & 1.0000000 & 2.071334e-07 & FALSE\\\\\n",
       "\t5 & 2434 & 1.933386e-103 & 8.044414e-13 & 2.403389e-91 & 1.000000000 & 2.846134e-14 & ME\\_92\\_2-6:29991224-32464002 & 1.0000000 & 2.846134e-14 & FALSE\\\\\n",
       "\t6 & 5470 & 4.086501e-157 & 1.700308e-66 & 2.403389e-91 & 1.000000000 & 3.756144e-60 & ME\\_84\\_4-6:28836283-33995104 & 1.0000000 & 3.756144e-60 & FALSE\\\\\n",
       "\\end{tabular}\n"
      ],
      "text/markdown": [
       "\n",
       "A data.frame: 6 × 10\n",
       "\n",
       "| <!--/--> | nsnps &lt;dbl&gt; | PP.H0.abf &lt;dbl&gt; | PP.H1.abf &lt;dbl&gt; | PP.H2.abf &lt;dbl&gt; | PP.H3.abf &lt;dbl&gt; | PP.H4.abf &lt;dbl&gt; | Module.QTL &lt;chr&gt; | PP3plusPP4 &lt;dbl&gt; | COLOC.Factor &lt;dbl&gt; | Colocalise &lt;lgl&gt; |\n",
       "|---|---|---|---|---|---|---|---|---|---|---|\n",
       "| 1 | 5470 | 1.623247e-167 | 6.753990e-77 | 1.767132e-93 | 0.006359025 | 9.936410e-01 | ME_84_1-6:28836283-33995104 | 1.0000000 | 9.936410e-01 |  TRUE |\n",
       "| 2 | 5470 | 8.396429e-166 | 3.493578e-75 | 1.950980e-93 | 0.007124746 | 9.928753e-01 | ME_84_2-6:28836283-33995104 | 1.0000000 | 9.928753e-01 |  TRUE |\n",
       "| 3 | 2434 |  1.694771e-91 | 7.051586e-01 | 4.940225e-92 | 0.205463052 | 8.937838e-02 | ME_92_5-6:29991224-32464002 | 0.2948414 | 3.031405e-01 | FALSE |\n",
       "| 4 | 5470 | 8.164084e-100 | 3.396904e-09 | 2.403389e-91 | 0.999999789 | 2.071334e-07 | ME_84_5-6:28836283-33995104 | 1.0000000 | 2.071334e-07 | FALSE |\n",
       "| 5 | 2434 | 1.933386e-103 | 8.044414e-13 | 2.403389e-91 | 1.000000000 | 2.846134e-14 | ME_92_2-6:29991224-32464002 | 1.0000000 | 2.846134e-14 | FALSE |\n",
       "| 6 | 5470 | 4.086501e-157 | 1.700308e-66 | 2.403389e-91 | 1.000000000 | 3.756144e-60 | ME_84_4-6:28836283-33995104 | 1.0000000 | 3.756144e-60 | FALSE |\n",
       "\n"
      ],
      "text/plain": [
       "  nsnps PP.H0.abf     PP.H1.abf    PP.H2.abf    PP.H3.abf   PP.H4.abf   \n",
       "1 5470  1.623247e-167 6.753990e-77 1.767132e-93 0.006359025 9.936410e-01\n",
       "2 5470  8.396429e-166 3.493578e-75 1.950980e-93 0.007124746 9.928753e-01\n",
       "3 2434   1.694771e-91 7.051586e-01 4.940225e-92 0.205463052 8.937838e-02\n",
       "4 5470  8.164084e-100 3.396904e-09 2.403389e-91 0.999999789 2.071334e-07\n",
       "5 2434  1.933386e-103 8.044414e-13 2.403389e-91 1.000000000 2.846134e-14\n",
       "6 5470  4.086501e-157 1.700308e-66 2.403389e-91 1.000000000 3.756144e-60\n",
       "  Module.QTL                  PP3plusPP4 COLOC.Factor Colocalise\n",
       "1 ME_84_1-6:28836283-33995104 1.0000000  9.936410e-01  TRUE     \n",
       "2 ME_84_2-6:28836283-33995104 1.0000000  9.928753e-01  TRUE     \n",
       "3 ME_92_5-6:29991224-32464002 0.2948414  3.031405e-01 FALSE     \n",
       "4 ME_84_5-6:28836283-33995104 1.0000000  2.071334e-07 FALSE     \n",
       "5 ME_92_2-6:29991224-32464002 1.0000000  2.846134e-14 FALSE     \n",
       "6 ME_84_4-6:28836283-33995104 1.0000000  3.756144e-60 FALSE     "
      ]
     },
     "metadata": {},
     "output_type": "display_data"
    }
   ],
   "source": [
    "sle.coloc %>%\n",
    "    dplyr::filter(PP3plusPP4 > 0.25) %>%\n",
    "    dplyr::arrange(desc(COLOC.Factor)) %>%\n",
    "    head()"
   ]
  },
  {
   "cell_type": "code",
   "execution_count": 288,
   "id": "1784e384-7384-44ba-9bdb-f85d0a09d155",
   "metadata": {},
   "outputs": [],
   "source": [
    "rm(sle)"
   ]
  },
  {
   "cell_type": "code",
   "execution_count": null,
   "id": "d90ceed3-c772-4e21-bce7-219e1eabf38d",
   "metadata": {},
   "outputs": [],
   "source": []
  }
 ],
 "metadata": {
  "kernelspec": {
   "display_name": "R",
   "language": "R",
   "name": "ir"
  },
  "language_info": {
   "codemirror_mode": "r",
   "file_extension": ".r",
   "mimetype": "text/x-r-source",
   "name": "R",
   "pygments_lexer": "r",
   "version": "4.0.5"
  }
 },
 "nbformat": 4,
 "nbformat_minor": 5
}
