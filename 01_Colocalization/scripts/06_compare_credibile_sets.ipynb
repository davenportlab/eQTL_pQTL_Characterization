{
 "cells": [
  {
   "cell_type": "markdown",
   "id": "c1fe7d9c-7ce4-4c92-8861-2b427ed33315",
   "metadata": {},
   "source": [
    "# Compare Credibile Sets\n",
    "\n",
    "**Created**: 4 February 2022"
   ]
  },
  {
   "cell_type": "markdown",
   "id": "1ef4ba46-fcd5-4439-a389-d2457fdbf708",
   "metadata": {},
   "source": [
    "## Environment"
   ]
  },
  {
   "cell_type": "code",
   "execution_count": 1,
   "id": "d73910c6-42f3-4f59-92d7-9b6aaec337c1",
   "metadata": {},
   "outputs": [
    {
     "name": "stderr",
     "output_type": "stream",
     "text": [
      "Loading required namespace: patchwork\n",
      "\n"
     ]
    }
   ],
   "source": [
    "if (!requireNamespace(\"Rcpp\", quietly=T)) {\n",
    "    install.packages(\"Rcpp\")\n",
    "}\n",
    "\n",
    "if (!requireNamespace(\"patchwork\")) {\n",
    "    install.packages(\"devtools\")\n",
    "    devtools::install_github(\"thomasp85/patchwork\")\n",
    "}"
   ]
  },
  {
   "cell_type": "code",
   "execution_count": 2,
   "id": "6db88ac2-6ac3-494a-ac11-bfcc1ad9408a",
   "metadata": {},
   "outputs": [
    {
     "name": "stderr",
     "output_type": "stream",
     "text": [
      "── \u001b[1mAttaching packages\u001b[22m ───────────────────────────────────────────────────────────────────────────────────────────────────────────────────────────────────────────────────────────────────────────── tidyverse 1.3.1 ──\n",
      "\n",
      "\u001b[32m✔\u001b[39m \u001b[34mggplot2\u001b[39m 3.3.6     \u001b[32m✔\u001b[39m \u001b[34mpurrr  \u001b[39m 0.3.4\n",
      "\u001b[32m✔\u001b[39m \u001b[34mtibble \u001b[39m 3.1.7     \u001b[32m✔\u001b[39m \u001b[34mdplyr  \u001b[39m 1.0.8\n",
      "\u001b[32m✔\u001b[39m \u001b[34mtidyr  \u001b[39m 1.2.0     \u001b[32m✔\u001b[39m \u001b[34mstringr\u001b[39m 1.4.0\n",
      "\u001b[32m✔\u001b[39m \u001b[34mreadr  \u001b[39m 2.1.1     \u001b[32m✔\u001b[39m \u001b[34mforcats\u001b[39m 0.5.1\n",
      "\n",
      "── \u001b[1mConflicts\u001b[22m ──────────────────────────────────────────────────────────────────────────────────────────────────────────────────────────────────────────────────────────────────────────────── tidyverse_conflicts() ──\n",
      "\u001b[31m✖\u001b[39m \u001b[34mdplyr\u001b[39m::\u001b[32mfilter()\u001b[39m masks \u001b[34mstats\u001b[39m::filter()\n",
      "\u001b[31m✖\u001b[39m \u001b[34mdplyr\u001b[39m::\u001b[32mlag()\u001b[39m    masks \u001b[34mstats\u001b[39m::lag()\n",
      "\n",
      "\n",
      "Attaching package: ‘data.table’\n",
      "\n",
      "\n",
      "The following objects are masked from ‘package:dplyr’:\n",
      "\n",
      "    between, first, last\n",
      "\n",
      "\n",
      "The following object is masked from ‘package:purrr’:\n",
      "\n",
      "    transpose\n",
      "\n",
      "\n"
     ]
    }
   ],
   "source": [
    "library(tidyverse)\n",
    "library(data.table)\n",
    "library(Rcpp)\n",
    "library(patchwork)\n",
    "\n",
    "setwd(\"~/eQTL_pQTL_Characterization/\")\n",
    "\n",
    "source(\"01_Colocalization/scripts/utils/ggplot_theme.R\")"
   ]
  },
  {
   "cell_type": "markdown",
   "id": "56726afa-e178-4c9a-8495-7c7d704e0b8a",
   "metadata": {},
   "source": [
    "## Load Data"
   ]
  },
  {
   "cell_type": "code",
   "execution_count": 3,
   "id": "5b1989cb-c8f7-48e5-ba50-29ed4cc7fbbb",
   "metadata": {},
   "outputs": [],
   "source": [
    "cis.eqtl <- readRDS(\"/nfs/users/nfs_n/nm18/gains_team282/eqtl/cisresults/ciseqtl_all.rds\")"
   ]
  },
  {
   "cell_type": "code",
   "execution_count": 4,
   "id": "3d372137-778d-4e00-8c48-3675da2272d9",
   "metadata": {},
   "outputs": [
    {
     "data": {
      "text/html": [
       "<table class=\"dataframe\">\n",
       "<caption>A data.table: 6 × 10</caption>\n",
       "<thead>\n",
       "\t<tr><th scope=col>snps</th><th scope=col>gene</th><th scope=col>statistic</th><th scope=col>pvalue</th><th scope=col>beta</th><th scope=col>se</th><th scope=col>chr</th><th scope=col>SNPpos</th><th scope=col>TSS</th><th scope=col>threshold</th></tr>\n",
       "\t<tr><th scope=col>&lt;chr&gt;</th><th scope=col>&lt;chr&gt;</th><th scope=col>&lt;dbl&gt;</th><th scope=col>&lt;dbl&gt;</th><th scope=col>&lt;dbl&gt;</th><th scope=col>&lt;dbl&gt;</th><th scope=col>&lt;int&gt;</th><th scope=col>&lt;int&gt;</th><th scope=col>&lt;int&gt;</th><th scope=col>&lt;dbl&gt;</th></tr>\n",
       "</thead>\n",
       "<tbody>\n",
       "\t<tr><td>rs114383479</td><td>ENSG00000000457</td><td>-0.06041776</td><td>0.9518546</td><td>-0.001449258</td><td>0.02398729</td><td>1</td><td>168894411</td><td>169894267</td><td>3.879445e-05</td></tr>\n",
       "\t<tr><td>rs4656623  </td><td>ENSG00000000457</td><td>-0.27193507</td><td>0.7856788</td><td>-0.003581294</td><td>0.01316967</td><td>1</td><td>168894562</td><td>169894267</td><td>3.879445e-05</td></tr>\n",
       "\t<tr><td>rs74123028 </td><td>ENSG00000000457</td><td>-0.33215439</td><td>0.7398440</td><td>-0.010030780</td><td>0.03019915</td><td>1</td><td>168894650</td><td>169894267</td><td>3.879445e-05</td></tr>\n",
       "\t<tr><td>rs74123029 </td><td>ENSG00000000457</td><td>-0.33215439</td><td>0.7398440</td><td>-0.010030780</td><td>0.03019915</td><td>1</td><td>168894789</td><td>169894267</td><td>3.879445e-05</td></tr>\n",
       "\t<tr><td>rs74123030 </td><td>ENSG00000000457</td><td>-0.33215439</td><td>0.7398440</td><td>-0.010030780</td><td>0.03019915</td><td>1</td><td>168894934</td><td>169894267</td><td>3.879445e-05</td></tr>\n",
       "\t<tr><td>rs74123031 </td><td>ENSG00000000457</td><td>-0.33215439</td><td>0.7398440</td><td>-0.010030780</td><td>0.03019915</td><td>1</td><td>168894958</td><td>169894267</td><td>3.879445e-05</td></tr>\n",
       "</tbody>\n",
       "</table>\n"
      ],
      "text/latex": [
       "A data.table: 6 × 10\n",
       "\\begin{tabular}{llllllllll}\n",
       " snps & gene & statistic & pvalue & beta & se & chr & SNPpos & TSS & threshold\\\\\n",
       " <chr> & <chr> & <dbl> & <dbl> & <dbl> & <dbl> & <int> & <int> & <int> & <dbl>\\\\\n",
       "\\hline\n",
       "\t rs114383479 & ENSG00000000457 & -0.06041776 & 0.9518546 & -0.001449258 & 0.02398729 & 1 & 168894411 & 169894267 & 3.879445e-05\\\\\n",
       "\t rs4656623   & ENSG00000000457 & -0.27193507 & 0.7856788 & -0.003581294 & 0.01316967 & 1 & 168894562 & 169894267 & 3.879445e-05\\\\\n",
       "\t rs74123028  & ENSG00000000457 & -0.33215439 & 0.7398440 & -0.010030780 & 0.03019915 & 1 & 168894650 & 169894267 & 3.879445e-05\\\\\n",
       "\t rs74123029  & ENSG00000000457 & -0.33215439 & 0.7398440 & -0.010030780 & 0.03019915 & 1 & 168894789 & 169894267 & 3.879445e-05\\\\\n",
       "\t rs74123030  & ENSG00000000457 & -0.33215439 & 0.7398440 & -0.010030780 & 0.03019915 & 1 & 168894934 & 169894267 & 3.879445e-05\\\\\n",
       "\t rs74123031  & ENSG00000000457 & -0.33215439 & 0.7398440 & -0.010030780 & 0.03019915 & 1 & 168894958 & 169894267 & 3.879445e-05\\\\\n",
       "\\end{tabular}\n"
      ],
      "text/markdown": [
       "\n",
       "A data.table: 6 × 10\n",
       "\n",
       "| snps &lt;chr&gt; | gene &lt;chr&gt; | statistic &lt;dbl&gt; | pvalue &lt;dbl&gt; | beta &lt;dbl&gt; | se &lt;dbl&gt; | chr &lt;int&gt; | SNPpos &lt;int&gt; | TSS &lt;int&gt; | threshold &lt;dbl&gt; |\n",
       "|---|---|---|---|---|---|---|---|---|---|\n",
       "| rs114383479 | ENSG00000000457 | -0.06041776 | 0.9518546 | -0.001449258 | 0.02398729 | 1 | 168894411 | 169894267 | 3.879445e-05 |\n",
       "| rs4656623   | ENSG00000000457 | -0.27193507 | 0.7856788 | -0.003581294 | 0.01316967 | 1 | 168894562 | 169894267 | 3.879445e-05 |\n",
       "| rs74123028  | ENSG00000000457 | -0.33215439 | 0.7398440 | -0.010030780 | 0.03019915 | 1 | 168894650 | 169894267 | 3.879445e-05 |\n",
       "| rs74123029  | ENSG00000000457 | -0.33215439 | 0.7398440 | -0.010030780 | 0.03019915 | 1 | 168894789 | 169894267 | 3.879445e-05 |\n",
       "| rs74123030  | ENSG00000000457 | -0.33215439 | 0.7398440 | -0.010030780 | 0.03019915 | 1 | 168894934 | 169894267 | 3.879445e-05 |\n",
       "| rs74123031  | ENSG00000000457 | -0.33215439 | 0.7398440 | -0.010030780 | 0.03019915 | 1 | 168894958 | 169894267 | 3.879445e-05 |\n",
       "\n"
      ],
      "text/plain": [
       "  snps        gene            statistic   pvalue    beta         se         chr\n",
       "1 rs114383479 ENSG00000000457 -0.06041776 0.9518546 -0.001449258 0.02398729 1  \n",
       "2 rs4656623   ENSG00000000457 -0.27193507 0.7856788 -0.003581294 0.01316967 1  \n",
       "3 rs74123028  ENSG00000000457 -0.33215439 0.7398440 -0.010030780 0.03019915 1  \n",
       "4 rs74123029  ENSG00000000457 -0.33215439 0.7398440 -0.010030780 0.03019915 1  \n",
       "5 rs74123030  ENSG00000000457 -0.33215439 0.7398440 -0.010030780 0.03019915 1  \n",
       "6 rs74123031  ENSG00000000457 -0.33215439 0.7398440 -0.010030780 0.03019915 1  \n",
       "  SNPpos    TSS       threshold   \n",
       "1 168894411 169894267 3.879445e-05\n",
       "2 168894562 169894267 3.879445e-05\n",
       "3 168894650 169894267 3.879445e-05\n",
       "4 168894789 169894267 3.879445e-05\n",
       "5 168894934 169894267 3.879445e-05\n",
       "6 168894958 169894267 3.879445e-05"
      ]
     },
     "metadata": {},
     "output_type": "display_data"
    }
   ],
   "source": [
    "head(cis.eqtl)"
   ]
  },
  {
   "cell_type": "code",
   "execution_count": 5,
   "id": "ce7b489c-f229-4c7b-9bcb-74291ffaebc0",
   "metadata": {},
   "outputs": [],
   "source": [
    "cis.eqtl.conditional <- readRDS(\"/nfs/users/nfs_n/nm18/gains_team282/eqtl/cisresults/conditionalanalysis/conditional_eQTL_results_final.rds\")"
   ]
  },
  {
   "cell_type": "code",
   "execution_count": 6,
   "id": "86d80355-5b64-412a-835a-24205b20fb76",
   "metadata": {},
   "outputs": [
    {
     "data": {
      "text/html": [
       "<table class=\"dataframe\">\n",
       "<caption>A data.frame: 6 × 6</caption>\n",
       "<thead>\n",
       "\t<tr><th></th><th scope=col>SNP</th><th scope=col>Gene</th><th scope=col>eQTL_beta</th><th scope=col>eQTL_SE</th><th scope=col>pvalue</th><th scope=col>Number</th></tr>\n",
       "\t<tr><th></th><th scope=col>&lt;chr&gt;</th><th scope=col>&lt;chr&gt;</th><th scope=col>&lt;chr&gt;</th><th scope=col>&lt;chr&gt;</th><th scope=col>&lt;chr&gt;</th><th scope=col>&lt;int&gt;</th></tr>\n",
       "</thead>\n",
       "<tbody>\n",
       "\t<tr><th scope=row>1</th><td>rs10753794</td><td>ENSG00000000457</td><td>0.0498587312408011 </td><td>0.00708515851579373</td><td>5.19259471106013e-12</td><td>1</td></tr>\n",
       "\t<tr><th scope=row>2</th><td>rs10919255</td><td>ENSG00000000460</td><td>-0.0726264894633498</td><td>0.0136853304567293 </td><td>1.72815915933528e-07</td><td>1</td></tr>\n",
       "\t<tr><th scope=row>3</th><td>rs77006036</td><td>ENSG00000000460</td><td>0.166236949102582  </td><td>0.0334472538699365 </td><td>8.47290238610159e-07</td><td>2</td></tr>\n",
       "\t<tr><th scope=row>4</th><td>rs12406047</td><td>ENSG00000000971</td><td>0.17135374034767   </td><td>0.0379807691167313 </td><td>7.51523462853891e-06</td><td>1</td></tr>\n",
       "\t<tr><th scope=row>5</th><td>rs6696136 </td><td>ENSG00000001460</td><td>0.45884434698694   </td><td>0.0871081626842823 </td><td>1.94887370606405e-07</td><td>1</td></tr>\n",
       "\t<tr><th scope=row>6</th><td>rs6676449 </td><td>ENSG00000001460</td><td>-0.371531778822554 </td><td>0.0880672792106829 </td><td>2.8471651589813e-05 </td><td>2</td></tr>\n",
       "</tbody>\n",
       "</table>\n"
      ],
      "text/latex": [
       "A data.frame: 6 × 6\n",
       "\\begin{tabular}{r|llllll}\n",
       "  & SNP & Gene & eQTL\\_beta & eQTL\\_SE & pvalue & Number\\\\\n",
       "  & <chr> & <chr> & <chr> & <chr> & <chr> & <int>\\\\\n",
       "\\hline\n",
       "\t1 & rs10753794 & ENSG00000000457 & 0.0498587312408011  & 0.00708515851579373 & 5.19259471106013e-12 & 1\\\\\n",
       "\t2 & rs10919255 & ENSG00000000460 & -0.0726264894633498 & 0.0136853304567293  & 1.72815915933528e-07 & 1\\\\\n",
       "\t3 & rs77006036 & ENSG00000000460 & 0.166236949102582   & 0.0334472538699365  & 8.47290238610159e-07 & 2\\\\\n",
       "\t4 & rs12406047 & ENSG00000000971 & 0.17135374034767    & 0.0379807691167313  & 7.51523462853891e-06 & 1\\\\\n",
       "\t5 & rs6696136  & ENSG00000001460 & 0.45884434698694    & 0.0871081626842823  & 1.94887370606405e-07 & 1\\\\\n",
       "\t6 & rs6676449  & ENSG00000001460 & -0.371531778822554  & 0.0880672792106829  & 2.8471651589813e-05  & 2\\\\\n",
       "\\end{tabular}\n"
      ],
      "text/markdown": [
       "\n",
       "A data.frame: 6 × 6\n",
       "\n",
       "| <!--/--> | SNP &lt;chr&gt; | Gene &lt;chr&gt; | eQTL_beta &lt;chr&gt; | eQTL_SE &lt;chr&gt; | pvalue &lt;chr&gt; | Number &lt;int&gt; |\n",
       "|---|---|---|---|---|---|---|\n",
       "| 1 | rs10753794 | ENSG00000000457 | 0.0498587312408011  | 0.00708515851579373 | 5.19259471106013e-12 | 1 |\n",
       "| 2 | rs10919255 | ENSG00000000460 | -0.0726264894633498 | 0.0136853304567293  | 1.72815915933528e-07 | 1 |\n",
       "| 3 | rs77006036 | ENSG00000000460 | 0.166236949102582   | 0.0334472538699365  | 8.47290238610159e-07 | 2 |\n",
       "| 4 | rs12406047 | ENSG00000000971 | 0.17135374034767    | 0.0379807691167313  | 7.51523462853891e-06 | 1 |\n",
       "| 5 | rs6696136  | ENSG00000001460 | 0.45884434698694    | 0.0871081626842823  | 1.94887370606405e-07 | 1 |\n",
       "| 6 | rs6676449  | ENSG00000001460 | -0.371531778822554  | 0.0880672792106829  | 2.8471651589813e-05  | 2 |\n",
       "\n"
      ],
      "text/plain": [
       "  SNP        Gene            eQTL_beta           eQTL_SE            \n",
       "1 rs10753794 ENSG00000000457 0.0498587312408011  0.00708515851579373\n",
       "2 rs10919255 ENSG00000000460 -0.0726264894633498 0.0136853304567293 \n",
       "3 rs77006036 ENSG00000000460 0.166236949102582   0.0334472538699365 \n",
       "4 rs12406047 ENSG00000000971 0.17135374034767    0.0379807691167313 \n",
       "5 rs6696136  ENSG00000001460 0.45884434698694    0.0871081626842823 \n",
       "6 rs6676449  ENSG00000001460 -0.371531778822554  0.0880672792106829 \n",
       "  pvalue               Number\n",
       "1 5.19259471106013e-12 1     \n",
       "2 1.72815915933528e-07 1     \n",
       "3 8.47290238610159e-07 2     \n",
       "4 7.51523462853891e-06 1     \n",
       "5 1.94887370606405e-07 1     \n",
       "6 2.8471651589813e-05  2     "
      ]
     },
     "metadata": {},
     "output_type": "display_data"
    }
   ],
   "source": [
    "head(cis.eqtl.conditional)"
   ]
  },
  {
   "cell_type": "code",
   "execution_count": 7,
   "id": "7f78ed59-68a6-433b-a94e-d5a3fb55ff67",
   "metadata": {},
   "outputs": [],
   "source": [
    "ld.tags <- fread(\"~/gains_team282/nikhil/colocalization/cis_eqtl/fine_mapping/LD/conditional_snps.80r2.tags.tsv\") %>%\n",
    "    dplyr::mutate(NTAG = NTAG + 1) %>%\n",
    "    dplyr::mutate(SNP = gsub(\":\", \"\\\\.\", SNP)) %>%\n",
    "    merge(cis.eqtl.conditional, by=\"SNP\")"
   ]
  },
  {
   "cell_type": "code",
   "execution_count": 8,
   "id": "72835ac8-0797-4cb7-902b-755a28ff3b50",
   "metadata": {},
   "outputs": [],
   "source": [
    "susie.snps <- lapply(1:22, function(chr) {\n",
    "    read.table(paste0(\"~/gains_team282/nikhil/colocalization/cis_eqtl/fine_mapping/SuSiE/conditional/conditional_chr\", chr, \"_credible_sets.tsv\"), sep=\"\\t\", header=T)\n",
    "}) %>% do.call(rbind, .) %>%\n",
    "    as.data.frame() %>%\n",
    "    dplyr::filter(is.na(Notes)) %>%\n",
    "    dplyr::select(-Notes) %>%\n",
    "    dplyr::mutate(Signal=as.numeric(gsub(\"^.*-\", \"\", Gene))) %>%\n",
    "    dplyr::mutate(Gene=gsub(\"-.*$\", \"\", Gene)) %>%\n",
    "    dplyr::select(Gene, Signal, SNP, SNP_Prob, Credible_Set)"
   ]
  },
  {
   "cell_type": "code",
   "execution_count": 9,
   "id": "91913f26-a966-40ef-b7d2-0392401e4366",
   "metadata": {},
   "outputs": [
    {
     "data": {
      "text/html": [
       "<table class=\"dataframe\">\n",
       "<caption>A data.frame: 6 × 5</caption>\n",
       "<thead>\n",
       "\t<tr><th></th><th scope=col>Gene</th><th scope=col>Signal</th><th scope=col>SNP</th><th scope=col>SNP_Prob</th><th scope=col>Credible_Set</th></tr>\n",
       "\t<tr><th></th><th scope=col>&lt;chr&gt;</th><th scope=col>&lt;dbl&gt;</th><th scope=col>&lt;chr&gt;</th><th scope=col>&lt;dbl&gt;</th><th scope=col>&lt;int&gt;</th></tr>\n",
       "</thead>\n",
       "<tbody>\n",
       "\t<tr><th scope=row>1</th><td>ENSG00000177868</td><td>1</td><td>rs2816599 </td><td>0.23737399</td><td>1</td></tr>\n",
       "\t<tr><th scope=row>2</th><td>ENSG00000177868</td><td>1</td><td>rs2816600 </td><td>0.23737399</td><td>1</td></tr>\n",
       "\t<tr><th scope=row>3</th><td>ENSG00000177868</td><td>1</td><td>rs323719  </td><td>0.23737399</td><td>1</td></tr>\n",
       "\t<tr><th scope=row>4</th><td>ENSG00000177868</td><td>1</td><td>rs655741  </td><td>0.23737399</td><td>1</td></tr>\n",
       "\t<tr><th scope=row>5</th><td>ENSG00000177868</td><td>1</td><td>rs2760082 </td><td>0.05046393</td><td>1</td></tr>\n",
       "\t<tr><th scope=row>6</th><td>ENSG00000179862</td><td>2</td><td>rs75945124</td><td>0.96558163</td><td>1</td></tr>\n",
       "</tbody>\n",
       "</table>\n"
      ],
      "text/latex": [
       "A data.frame: 6 × 5\n",
       "\\begin{tabular}{r|lllll}\n",
       "  & Gene & Signal & SNP & SNP\\_Prob & Credible\\_Set\\\\\n",
       "  & <chr> & <dbl> & <chr> & <dbl> & <int>\\\\\n",
       "\\hline\n",
       "\t1 & ENSG00000177868 & 1 & rs2816599  & 0.23737399 & 1\\\\\n",
       "\t2 & ENSG00000177868 & 1 & rs2816600  & 0.23737399 & 1\\\\\n",
       "\t3 & ENSG00000177868 & 1 & rs323719   & 0.23737399 & 1\\\\\n",
       "\t4 & ENSG00000177868 & 1 & rs655741   & 0.23737399 & 1\\\\\n",
       "\t5 & ENSG00000177868 & 1 & rs2760082  & 0.05046393 & 1\\\\\n",
       "\t6 & ENSG00000179862 & 2 & rs75945124 & 0.96558163 & 1\\\\\n",
       "\\end{tabular}\n"
      ],
      "text/markdown": [
       "\n",
       "A data.frame: 6 × 5\n",
       "\n",
       "| <!--/--> | Gene &lt;chr&gt; | Signal &lt;dbl&gt; | SNP &lt;chr&gt; | SNP_Prob &lt;dbl&gt; | Credible_Set &lt;int&gt; |\n",
       "|---|---|---|---|---|---|\n",
       "| 1 | ENSG00000177868 | 1 | rs2816599  | 0.23737399 | 1 |\n",
       "| 2 | ENSG00000177868 | 1 | rs2816600  | 0.23737399 | 1 |\n",
       "| 3 | ENSG00000177868 | 1 | rs323719   | 0.23737399 | 1 |\n",
       "| 4 | ENSG00000177868 | 1 | rs655741   | 0.23737399 | 1 |\n",
       "| 5 | ENSG00000177868 | 1 | rs2760082  | 0.05046393 | 1 |\n",
       "| 6 | ENSG00000179862 | 2 | rs75945124 | 0.96558163 | 1 |\n",
       "\n"
      ],
      "text/plain": [
       "  Gene            Signal SNP        SNP_Prob   Credible_Set\n",
       "1 ENSG00000177868 1      rs2816599  0.23737399 1           \n",
       "2 ENSG00000177868 1      rs2816600  0.23737399 1           \n",
       "3 ENSG00000177868 1      rs323719   0.23737399 1           \n",
       "4 ENSG00000177868 1      rs655741   0.23737399 1           \n",
       "5 ENSG00000177868 1      rs2760082  0.05046393 1           \n",
       "6 ENSG00000179862 2      rs75945124 0.96558163 1           "
      ]
     },
     "metadata": {},
     "output_type": "display_data"
    }
   ],
   "source": [
    "head(susie.snps)"
   ]
  },
  {
   "cell_type": "code",
   "execution_count": 10,
   "id": "533cdf0b-b420-4dc3-ae2d-e9836d9ed266",
   "metadata": {},
   "outputs": [],
   "source": [
    "finemap.snps <- lapply(1:22, function(chr) {\n",
    "    fread(paste0(\"/nfs/users/nfs_n/nm18/gains_team282/nikhil/colocalization/cis_eqtl/fine_mapping/FINEMAP/conditional/conditional_chr\", chr, \"_credible_sets.tsv\"), sep=\"\\t\", header=TRUE) %>%\n",
    "        as.data.frame() %>%\n",
    "        dplyr::group_by(Gene)\n",
    "}) %>% do.call(rbind, .) %>%\n",
    "    as.data.frame()"
   ]
  },
  {
   "cell_type": "code",
   "execution_count": 11,
   "id": "7c5b7a16-300b-481a-ae9e-ccdc1a589fde",
   "metadata": {},
   "outputs": [
    {
     "data": {
      "text/html": [
       "<table class=\"dataframe\">\n",
       "<caption>A data.frame: 6 × 7</caption>\n",
       "<thead>\n",
       "\t<tr><th></th><th scope=col>Gene</th><th scope=col>Signal</th><th scope=col>Credibility_Set_Min_LD</th><th scope=col>Credibility_Set_Mean_LD</th><th scope=col>Credibility_Set_Median_LD</th><th scope=col>SNP</th><th scope=col>Prob_SNP_in_CS</th></tr>\n",
       "\t<tr><th></th><th scope=col>&lt;chr&gt;</th><th scope=col>&lt;int&gt;</th><th scope=col>&lt;dbl&gt;</th><th scope=col>&lt;dbl&gt;</th><th scope=col>&lt;dbl&gt;</th><th scope=col>&lt;chr&gt;</th><th scope=col>&lt;dbl&gt;</th></tr>\n",
       "</thead>\n",
       "<tbody>\n",
       "\t<tr><th scope=row>1</th><td>ENSG00000000457</td><td>1</td><td>0.949691</td><td>0.990364</td><td>0.995332</td><td>rs10919236</td><td>0.1092880</td></tr>\n",
       "\t<tr><th scope=row>2</th><td>ENSG00000000457</td><td>1</td><td>0.949691</td><td>0.990364</td><td>0.995332</td><td>rs10753794</td><td>0.1092880</td></tr>\n",
       "\t<tr><th scope=row>3</th><td>ENSG00000000457</td><td>1</td><td>0.949691</td><td>0.990364</td><td>0.995332</td><td>rs10919237</td><td>0.0815248</td></tr>\n",
       "\t<tr><th scope=row>4</th><td>ENSG00000000457</td><td>1</td><td>0.949691</td><td>0.990364</td><td>0.995332</td><td>rs6683782 </td><td>0.0815248</td></tr>\n",
       "\t<tr><th scope=row>5</th><td>ENSG00000000457</td><td>1</td><td>0.949691</td><td>0.990364</td><td>0.995332</td><td>rs6701718 </td><td>0.0815248</td></tr>\n",
       "\t<tr><th scope=row>6</th><td>ENSG00000000457</td><td>1</td><td>0.949691</td><td>0.990364</td><td>0.995332</td><td>rs12404614</td><td>0.0815248</td></tr>\n",
       "</tbody>\n",
       "</table>\n"
      ],
      "text/latex": [
       "A data.frame: 6 × 7\n",
       "\\begin{tabular}{r|lllllll}\n",
       "  & Gene & Signal & Credibility\\_Set\\_Min\\_LD & Credibility\\_Set\\_Mean\\_LD & Credibility\\_Set\\_Median\\_LD & SNP & Prob\\_SNP\\_in\\_CS\\\\\n",
       "  & <chr> & <int> & <dbl> & <dbl> & <dbl> & <chr> & <dbl>\\\\\n",
       "\\hline\n",
       "\t1 & ENSG00000000457 & 1 & 0.949691 & 0.990364 & 0.995332 & rs10919236 & 0.1092880\\\\\n",
       "\t2 & ENSG00000000457 & 1 & 0.949691 & 0.990364 & 0.995332 & rs10753794 & 0.1092880\\\\\n",
       "\t3 & ENSG00000000457 & 1 & 0.949691 & 0.990364 & 0.995332 & rs10919237 & 0.0815248\\\\\n",
       "\t4 & ENSG00000000457 & 1 & 0.949691 & 0.990364 & 0.995332 & rs6683782  & 0.0815248\\\\\n",
       "\t5 & ENSG00000000457 & 1 & 0.949691 & 0.990364 & 0.995332 & rs6701718  & 0.0815248\\\\\n",
       "\t6 & ENSG00000000457 & 1 & 0.949691 & 0.990364 & 0.995332 & rs12404614 & 0.0815248\\\\\n",
       "\\end{tabular}\n"
      ],
      "text/markdown": [
       "\n",
       "A data.frame: 6 × 7\n",
       "\n",
       "| <!--/--> | Gene &lt;chr&gt; | Signal &lt;int&gt; | Credibility_Set_Min_LD &lt;dbl&gt; | Credibility_Set_Mean_LD &lt;dbl&gt; | Credibility_Set_Median_LD &lt;dbl&gt; | SNP &lt;chr&gt; | Prob_SNP_in_CS &lt;dbl&gt; |\n",
       "|---|---|---|---|---|---|---|---|\n",
       "| 1 | ENSG00000000457 | 1 | 0.949691 | 0.990364 | 0.995332 | rs10919236 | 0.1092880 |\n",
       "| 2 | ENSG00000000457 | 1 | 0.949691 | 0.990364 | 0.995332 | rs10753794 | 0.1092880 |\n",
       "| 3 | ENSG00000000457 | 1 | 0.949691 | 0.990364 | 0.995332 | rs10919237 | 0.0815248 |\n",
       "| 4 | ENSG00000000457 | 1 | 0.949691 | 0.990364 | 0.995332 | rs6683782  | 0.0815248 |\n",
       "| 5 | ENSG00000000457 | 1 | 0.949691 | 0.990364 | 0.995332 | rs6701718  | 0.0815248 |\n",
       "| 6 | ENSG00000000457 | 1 | 0.949691 | 0.990364 | 0.995332 | rs12404614 | 0.0815248 |\n",
       "\n"
      ],
      "text/plain": [
       "  Gene            Signal Credibility_Set_Min_LD Credibility_Set_Mean_LD\n",
       "1 ENSG00000000457 1      0.949691               0.990364               \n",
       "2 ENSG00000000457 1      0.949691               0.990364               \n",
       "3 ENSG00000000457 1      0.949691               0.990364               \n",
       "4 ENSG00000000457 1      0.949691               0.990364               \n",
       "5 ENSG00000000457 1      0.949691               0.990364               \n",
       "6 ENSG00000000457 1      0.949691               0.990364               \n",
       "  Credibility_Set_Median_LD SNP        Prob_SNP_in_CS\n",
       "1 0.995332                  rs10919236 0.1092880     \n",
       "2 0.995332                  rs10753794 0.1092880     \n",
       "3 0.995332                  rs10919237 0.0815248     \n",
       "4 0.995332                  rs6683782  0.0815248     \n",
       "5 0.995332                  rs6701718  0.0815248     \n",
       "6 0.995332                  rs12404614 0.0815248     "
      ]
     },
     "metadata": {},
     "output_type": "display_data"
    }
   ],
   "source": [
    "head(finemap.snps)"
   ]
  },
  {
   "cell_type": "markdown",
   "id": "5e43c122-fbd5-4438-aab2-1055e66bb5f7",
   "metadata": {
    "tags": []
   },
   "source": [
    "## Compare Credible Sets\n",
    "\n",
    "Each eGene-Signal pair has exactly one credibility set from both FINEMAP and SuSiE. The lead eSNP also has a set of tagging SNPs at $R^2 > 0.8$."
   ]
  },
  {
   "cell_type": "markdown",
   "id": "642c6cae-0b03-4d82-87d4-92ffb08c017b",
   "metadata": {},
   "source": [
    "There were a total of 16,054 eGene-signal pairs. Of those, only 11,055 had a credible set from SuSiE. If using the same pruning filter for FINEMAP, 10,332 eGene-signal pairs have a credible set."
   ]
  },
  {
   "cell_type": "code",
   "execution_count": 12,
   "id": "ba47a2df-6791-49d1-a5e8-8585a9cc9a38",
   "metadata": {},
   "outputs": [
    {
     "data": {
      "text/html": [
       "<style>\n",
       ".list-inline {list-style: none; margin:0; padding: 0}\n",
       ".list-inline>li {display: inline-block}\n",
       ".list-inline>li:not(:last-child)::after {content: \"\\00b7\"; padding: 0 .5ex}\n",
       "</style>\n",
       "<ol class=list-inline><li>16054</li><li>6</li></ol>\n"
      ],
      "text/latex": [
       "\\begin{enumerate*}\n",
       "\\item 16054\n",
       "\\item 6\n",
       "\\end{enumerate*}\n"
      ],
      "text/markdown": [
       "1. 16054\n",
       "2. 6\n",
       "\n",
       "\n"
      ],
      "text/plain": [
       "[1] 16054     6"
      ]
     },
     "metadata": {},
     "output_type": "display_data"
    }
   ],
   "source": [
    "dim(cis.eqtl.conditional)"
   ]
  },
  {
   "cell_type": "code",
   "execution_count": 13,
   "id": "f5dcc640-e5af-4ed9-85b5-0df738e98dcc",
   "metadata": {},
   "outputs": [
    {
     "data": {
      "text/html": [
       "11055"
      ],
      "text/latex": [
       "11055"
      ],
      "text/markdown": [
       "11055"
      ],
      "text/plain": [
       "[1] 11055"
      ]
     },
     "metadata": {},
     "output_type": "display_data"
    }
   ],
   "source": [
    "susie.snps %>%\n",
    "    dplyr::select(Gene, Signal) %>%\n",
    "    unique() %>% nrow()"
   ]
  },
  {
   "cell_type": "code",
   "execution_count": 14,
   "id": "063cf81b-19e3-4af3-bcbe-0d96f8b7faed",
   "metadata": {},
   "outputs": [
    {
     "data": {
      "text/html": [
       "10332"
      ],
      "text/latex": [
       "10332"
      ],
      "text/markdown": [
       "10332"
      ],
      "text/plain": [
       "[1] 10332"
      ]
     },
     "metadata": {},
     "output_type": "display_data"
    }
   ],
   "source": [
    "finemap.snps %>%\n",
    "    dplyr::filter(Credibility_Set_Min_LD >= 0.5) %>%\n",
    "    dplyr::select(Gene, Signal) %>%\n",
    "    unique() %>% nrow()"
   ]
  },
  {
   "cell_type": "code",
   "execution_count": 18,
   "id": "49c7b316-9a7d-4a9f-a101-1785a1c144ad",
   "metadata": {},
   "outputs": [
    {
     "data": {
      "image/png": "[encoded data removed]",
      "text/plain": [
       "plot without title"
      ]
     },
     "metadata": {
      "image/png": {
       "height": 240,
       "width": 720
      }
     },
     "output_type": "display_data"
    }
   ],
   "source": [
    "options(repr.plot.width=12, repr.plot.height=4)\n",
    "\n",
    "dplyr::bind_rows(\n",
    "    ld.tags %>%\n",
    "        dplyr::mutate(Method=\"LD\") %>%\n",
    "        dplyr::select(Method, Gene, Signal=Number, N.SNPs=NTAG),\n",
    "    susie.snps %>%\n",
    "        dplyr::group_by(Gene, Signal) %>%\n",
    "        dplyr::summarize(N.SNPs=n(), .groups=\"drop\") %>%\n",
    "        dplyr::mutate(Method=\"SuSiE\") %>%\n",
    "        dplyr::select(Method, Gene, Signal, N.SNPs),\n",
    "    finemap.snps %>%\n",
    "        dplyr::filter(Credibility_Set_Min_LD >= 0.5) %>%\n",
    "        dplyr::group_by(Gene, Signal) %>%\n",
    "        dplyr::summarize(N.SNPs=n(), .groups=\"drop\") %>%\n",
    "        dplyr::mutate(Method=\"FINEMAP Pruned\") %>%\n",
    "        dplyr::select(Method, Gene, Signal, N.SNPs),\n",
    "    finemap.snps %>%\n",
    "        dplyr::group_by(Gene, Signal) %>%\n",
    "        dplyr::summarize(N.SNPs=n(), .groups=\"drop\") %>%\n",
    "        dplyr::mutate(Method=\"FINEMAP\") %>%\n",
    "        dplyr::select(Method, Gene, Signal, N.SNPs)\n",
    ") %>%\n",
    "    dplyr::mutate(CS.Size=cut(N.SNPs, breaks=c(0, 1, 5, 20, 50, Inf), labels=c(\"1\", \"2-5\", \"6-20\", \"21-50\", \">50\"), include.lowest=F)) %>%\n",
    "    dplyr::mutate(Method=factor(Method, levels=c(\"LD\", \"FINEMAP\", \"FINEMAP Pruned\", \"SuSiE\"))) %>%\n",
    "    dplyr::group_by(Method, CS.Size) %>%\n",
    "    dplyr::summarize(N=n(), .groups=\"drop\") %>%\n",
    "    dplyr::group_by(Method) %>%\n",
    "    dplyr::mutate(Freq=N / sum(N)) %>%\n",
    "    ggplot() +\n",
    "    geom_bar(aes(x=Method, y=Freq, fill=CS.Size), stat=\"identity\", position=position_stack(reverse=T)) +\n",
    "    scale_fill_brewer(\"CS Size\", palette=\"Pastel1\") +\n",
    "    ylab(\"Proportion of Loci\") +\n",
    "    coord_flip() +\n",
    "    ggplot_theme +\n",
    "    theme(axis.title.y=element_blank())\n",
    "\n",
    "ggsave(\"01_Colocalization/results/cs_sizes.pdf\", width=12, height=4)"
   ]
  },
  {
   "cell_type": "markdown",
   "id": "6a92a357-d131-48f8-961a-cdca9248a9c8",
   "metadata": {
    "tags": []
   },
   "source": [
    "## Paired Tests of Credible Sets"
   ]
  },
  {
   "cell_type": "markdown",
   "id": "3e979025-6527-4bbc-ac16-7ae26f3d17dc",
   "metadata": {},
   "source": [
    "Combine all credible set sizes based on SuSiE results to perform paired tests."
   ]
  },
  {
   "cell_type": "code",
   "execution_count": 16,
   "id": "9937f5a2-b005-47ba-9583-74e9e32e033b",
   "metadata": {},
   "outputs": [],
   "source": [
    "cs.sizes <- merge(\n",
    "    susie.snps %>%\n",
    "        dplyr::group_by(Gene, Signal) %>%\n",
    "        dplyr::summarize(SuSiE.N.SNPs=n(), .groups=\"drop\"),\n",
    "    finemap.snps %>%\n",
    "        dplyr::filter(Credibility_Set_Min_LD >= 0.5) %>%\n",
    "        dplyr::group_by(Gene, Signal) %>%\n",
    "        dplyr::summarize(FINEMAP.N.SNPs=n(), .groups=\"drop\"),\n",
    "    by=c(\"Gene\", \"Signal\")\n",
    ") %>%\n",
    "    merge(., ld.tags, by.x=c(\"Gene\", \"Signal\"), by.y=c(\"Gene\", \"Number\")) %>%\n",
    "    dplyr::select(Gene, Signal, SuSiE.N.SNPs, FINEMAP.N.SNPs, NTAG)"
   ]
  },
  {
   "cell_type": "code",
   "execution_count": 17,
   "id": "10228ae9-d39d-404a-b88c-e25cb2a80166",
   "metadata": {},
   "outputs": [
    {
     "data": {
      "text/html": [
       "<table class=\"dataframe\">\n",
       "<caption>A data.frame: 6 × 5</caption>\n",
       "<thead>\n",
       "\t<tr><th></th><th scope=col>Gene</th><th scope=col>Signal</th><th scope=col>SuSiE.N.SNPs</th><th scope=col>FINEMAP.N.SNPs</th><th scope=col>NTAG</th></tr>\n",
       "\t<tr><th></th><th scope=col>&lt;chr&gt;</th><th scope=col>&lt;dbl&gt;</th><th scope=col>&lt;int&gt;</th><th scope=col>&lt;int&gt;</th><th scope=col>&lt;dbl&gt;</th></tr>\n",
       "</thead>\n",
       "<tbody>\n",
       "\t<tr><th scope=row>1</th><td>ENSG00000000457</td><td>1</td><td>19</td><td>19</td><td>23</td></tr>\n",
       "\t<tr><th scope=row>2</th><td>ENSG00000000460</td><td>1</td><td>27</td><td>29</td><td>22</td></tr>\n",
       "\t<tr><th scope=row>3</th><td>ENSG00000001036</td><td>1</td><td>66</td><td>67</td><td>71</td></tr>\n",
       "\t<tr><th scope=row>4</th><td>ENSG00000001167</td><td>1</td><td>63</td><td>63</td><td>71</td></tr>\n",
       "\t<tr><th scope=row>5</th><td>ENSG00000001460</td><td>1</td><td>13</td><td>20</td><td>39</td></tr>\n",
       "\t<tr><th scope=row>6</th><td>ENSG00000001461</td><td>1</td><td>27</td><td>28</td><td>34</td></tr>\n",
       "</tbody>\n",
       "</table>\n"
      ],
      "text/latex": [
       "A data.frame: 6 × 5\n",
       "\\begin{tabular}{r|lllll}\n",
       "  & Gene & Signal & SuSiE.N.SNPs & FINEMAP.N.SNPs & NTAG\\\\\n",
       "  & <chr> & <dbl> & <int> & <int> & <dbl>\\\\\n",
       "\\hline\n",
       "\t1 & ENSG00000000457 & 1 & 19 & 19 & 23\\\\\n",
       "\t2 & ENSG00000000460 & 1 & 27 & 29 & 22\\\\\n",
       "\t3 & ENSG00000001036 & 1 & 66 & 67 & 71\\\\\n",
       "\t4 & ENSG00000001167 & 1 & 63 & 63 & 71\\\\\n",
       "\t5 & ENSG00000001460 & 1 & 13 & 20 & 39\\\\\n",
       "\t6 & ENSG00000001461 & 1 & 27 & 28 & 34\\\\\n",
       "\\end{tabular}\n"
      ],
      "text/markdown": [
       "\n",
       "A data.frame: 6 × 5\n",
       "\n",
       "| <!--/--> | Gene &lt;chr&gt; | Signal &lt;dbl&gt; | SuSiE.N.SNPs &lt;int&gt; | FINEMAP.N.SNPs &lt;int&gt; | NTAG &lt;dbl&gt; |\n",
       "|---|---|---|---|---|---|\n",
       "| 1 | ENSG00000000457 | 1 | 19 | 19 | 23 |\n",
       "| 2 | ENSG00000000460 | 1 | 27 | 29 | 22 |\n",
       "| 3 | ENSG00000001036 | 1 | 66 | 67 | 71 |\n",
       "| 4 | ENSG00000001167 | 1 | 63 | 63 | 71 |\n",
       "| 5 | ENSG00000001460 | 1 | 13 | 20 | 39 |\n",
       "| 6 | ENSG00000001461 | 1 | 27 | 28 | 34 |\n",
       "\n"
      ],
      "text/plain": [
       "  Gene            Signal SuSiE.N.SNPs FINEMAP.N.SNPs NTAG\n",
       "1 ENSG00000000457 1      19           19             23  \n",
       "2 ENSG00000000460 1      27           29             22  \n",
       "3 ENSG00000001036 1      66           67             71  \n",
       "4 ENSG00000001167 1      63           63             71  \n",
       "5 ENSG00000001460 1      13           20             39  \n",
       "6 ENSG00000001461 1      27           28             34  "
      ]
     },
     "metadata": {},
     "output_type": "display_data"
    }
   ],
   "source": [
    "head(cs.sizes)"
   ]
  },
  {
   "cell_type": "code",
   "execution_count": 18,
   "id": "3b2d87a7-617a-4df7-ac06-00c02ce910ba",
   "metadata": {},
   "outputs": [
    {
     "data": {
      "text/html": [
       "<style>\n",
       ".list-inline {list-style: none; margin:0; padding: 0}\n",
       ".list-inline>li {display: inline-block}\n",
       ".list-inline>li:not(:last-child)::after {content: \"\\00b7\"; padding: 0 .5ex}\n",
       "</style>\n",
       "<ol class=list-inline><li>10332</li><li>5</li></ol>\n"
      ],
      "text/latex": [
       "\\begin{enumerate*}\n",
       "\\item 10332\n",
       "\\item 5\n",
       "\\end{enumerate*}\n"
      ],
      "text/markdown": [
       "1. 10332\n",
       "2. 5\n",
       "\n",
       "\n"
      ],
      "text/plain": [
       "[1] 10332     5"
      ]
     },
     "metadata": {},
     "output_type": "display_data"
    }
   ],
   "source": [
    "dim(cs.sizes)"
   ]
  },
  {
   "cell_type": "markdown",
   "id": "bd5d7746-8cea-4818-8c63-769a22b2684b",
   "metadata": {},
   "source": [
    "The median size of the LD snp sets is much higher than FINEMAP and SuSiE when using the SuSiE pruned set. The FINEMAP median is much higher by itself (23) and the LD snp sets are actually smaller (12)."
   ]
  },
  {
   "cell_type": "code",
   "execution_count": 19,
   "id": "a4092f04-2f22-4fe4-9487-94c406499c21",
   "metadata": {},
   "outputs": [
    {
     "data": {
      "text/html": [
       "<table class=\"dataframe\">\n",
       "<caption>A tibble: 3 × 2</caption>\n",
       "<thead>\n",
       "\t<tr><th scope=col>Method</th><th scope=col>Median.CS.Size</th></tr>\n",
       "\t<tr><th scope=col>&lt;chr&gt;</th><th scope=col>&lt;dbl&gt;</th></tr>\n",
       "</thead>\n",
       "<tbody>\n",
       "\t<tr><td>FINEMAP.N.SNPs</td><td>10</td></tr>\n",
       "\t<tr><td>NTAG          </td><td>14</td></tr>\n",
       "\t<tr><td>SuSiE.N.SNPs  </td><td> 9</td></tr>\n",
       "</tbody>\n",
       "</table>\n"
      ],
      "text/latex": [
       "A tibble: 3 × 2\n",
       "\\begin{tabular}{ll}\n",
       " Method & Median.CS.Size\\\\\n",
       " <chr> & <dbl>\\\\\n",
       "\\hline\n",
       "\t FINEMAP.N.SNPs & 10\\\\\n",
       "\t NTAG           & 14\\\\\n",
       "\t SuSiE.N.SNPs   &  9\\\\\n",
       "\\end{tabular}\n"
      ],
      "text/markdown": [
       "\n",
       "A tibble: 3 × 2\n",
       "\n",
       "| Method &lt;chr&gt; | Median.CS.Size &lt;dbl&gt; |\n",
       "|---|---|\n",
       "| FINEMAP.N.SNPs | 10 |\n",
       "| NTAG           | 14 |\n",
       "| SuSiE.N.SNPs   |  9 |\n",
       "\n"
      ],
      "text/plain": [
       "  Method         Median.CS.Size\n",
       "1 FINEMAP.N.SNPs 10            \n",
       "2 NTAG           14            \n",
       "3 SuSiE.N.SNPs    9            "
      ]
     },
     "metadata": {},
     "output_type": "display_data"
    }
   ],
   "source": [
    "cs.sizes %>%\n",
    "    tidyr::gather(key=\"Method\", value=\"N.SNPs\", -Gene, -Signal) %>%\n",
    "    dplyr::group_by(Method) %>%\n",
    "    dplyr::summarize(Median.CS.Size=median(N.SNPs))"
   ]
  },
  {
   "cell_type": "code",
   "execution_count": 20,
   "id": "20768ef2-0d18-4ca0-885f-27f0f8782654",
   "metadata": {},
   "outputs": [
    {
     "data": {
      "text/plain": [
       "\n",
       "\tWilcoxon signed rank test with continuity correction\n",
       "\n",
       "data:  cs.sizes$NTAG and cs.sizes$SuSiE.N.SNPs\n",
       "V = 28399524, p-value < 2.2e-16\n",
       "alternative hypothesis: true location shift is not equal to 0\n"
      ]
     },
     "metadata": {},
     "output_type": "display_data"
    }
   ],
   "source": [
    "wilcox.test(cs.sizes$NTAG, cs.sizes$SuSiE.N.SNPs, paired=TRUE)"
   ]
  },
  {
   "cell_type": "code",
   "execution_count": 21,
   "id": "c501530d-68b1-4fb3-843f-1169c5146906",
   "metadata": {},
   "outputs": [
    {
     "data": {
      "text/plain": [
       "\n",
       "\tWilcoxon signed rank test with continuity correction\n",
       "\n",
       "data:  cs.sizes$NTAG and cs.sizes$FINEMAP.N.SNPs\n",
       "V = 27142804, p-value < 2.2e-16\n",
       "alternative hypothesis: true location shift is not equal to 0\n"
      ]
     },
     "metadata": {},
     "output_type": "display_data"
    }
   ],
   "source": [
    "wilcox.test(cs.sizes$NTAG, cs.sizes$FINEMAP.N.SNPs, paired=TRUE)"
   ]
  },
  {
   "cell_type": "code",
   "execution_count": 22,
   "id": "851cf406-cfb8-4214-a760-ab75f1893e61",
   "metadata": {},
   "outputs": [
    {
     "data": {
      "text/plain": [
       "\n",
       "\tWilcoxon signed rank test with continuity correction\n",
       "\n",
       "data:  cs.sizes$SuSiE.N.SNPs and cs.sizes$FINEMAP.N.SNPs\n",
       "V = 318323, p-value < 2.2e-16\n",
       "alternative hypothesis: true location shift is not equal to 0\n"
      ]
     },
     "metadata": {},
     "output_type": "display_data"
    }
   ],
   "source": [
    "wilcox.test(cs.sizes$SuSiE.N.SNPs, cs.sizes$FINEMAP.N.SNPs, paired=TRUE)"
   ]
  },
  {
   "cell_type": "markdown",
   "id": "cc3fd756-4b93-4e4e-a298-cb7b4d49d003",
   "metadata": {},
   "source": [
    "## CS with Large Sizes"
   ]
  },
  {
   "cell_type": "markdown",
   "id": "6f505826-3a45-43af-8644-9c58c757e5da",
   "metadata": {},
   "source": [
    "What is causing the CS to explode in size even though only a few SNPs are in LD?\n",
    "1. Could be a difference in the underlying LD structure, but the LD tagging SNP set size distribution is similar\n",
    "2. Could be a difference in the effect size of the eQTL? Do these eQTL have smaller betas? Do they have larger p-values for the lead SNP?"
   ]
  },
  {
   "cell_type": "code",
   "execution_count": 23,
   "id": "3b243af1-e0b7-4b91-8f4c-f4ab944c53ba",
   "metadata": {},
   "outputs": [],
   "source": [
    "pruned.out.cs <- finemap.snps %>%\n",
    "    dplyr::filter(Credibility_Set_Min_LD < 0.5) %>%\n",
    "    dplyr::group_by(Gene, Signal) %>%\n",
    "    dplyr::summarize(FINEMAP.N.SNPs=n(), .groups=\"drop\") %>%\n",
    "    merge(., ld.tags, by.x=c(\"Gene\", \"Signal\"), by.y=c(\"Gene\", \"Number\"))"
   ]
  },
  {
   "cell_type": "code",
   "execution_count": 24,
   "id": "973e57e2-da24-484f-8c3a-3de80ee31a25",
   "metadata": {},
   "outputs": [
    {
     "data": {
      "text/html": [
       "<style>\n",
       ".list-inline {list-style: none; margin:0; padding: 0}\n",
       ".list-inline>li {display: inline-block}\n",
       ".list-inline>li:not(:last-child)::after {content: \"\\00b7\"; padding: 0 .5ex}\n",
       "</style>\n",
       "<ol class=list-inline><li>5722</li><li>14</li></ol>\n"
      ],
      "text/latex": [
       "\\begin{enumerate*}\n",
       "\\item 5722\n",
       "\\item 14\n",
       "\\end{enumerate*}\n"
      ],
      "text/markdown": [
       "1. 5722\n",
       "2. 14\n",
       "\n",
       "\n"
      ],
      "text/plain": [
       "[1] 5722   14"
      ]
     },
     "metadata": {},
     "output_type": "display_data"
    }
   ],
   "source": [
    "dim(pruned.out.cs)"
   ]
  },
  {
   "cell_type": "code",
   "execution_count": 25,
   "id": "edd52bc3-d18a-4c2f-a61a-8cb058820e7b",
   "metadata": {},
   "outputs": [
    {
     "data": {
      "text/html": [
       "<table class=\"dataframe\">\n",
       "<caption>A tibble: 2 × 2</caption>\n",
       "<thead>\n",
       "\t<tr><th scope=col>Method</th><th scope=col>Median.SNPs</th></tr>\n",
       "\t<tr><th scope=col>&lt;chr&gt;</th><th scope=col>&lt;dbl&gt;</th></tr>\n",
       "</thead>\n",
       "<tbody>\n",
       "\t<tr><td>FINEMAP.N.SNPs</td><td>474.5</td></tr>\n",
       "\t<tr><td>NTAG          </td><td>  8.0</td></tr>\n",
       "</tbody>\n",
       "</table>\n"
      ],
      "text/latex": [
       "A tibble: 2 × 2\n",
       "\\begin{tabular}{ll}\n",
       " Method & Median.SNPs\\\\\n",
       " <chr> & <dbl>\\\\\n",
       "\\hline\n",
       "\t FINEMAP.N.SNPs & 474.5\\\\\n",
       "\t NTAG           &   8.0\\\\\n",
       "\\end{tabular}\n"
      ],
      "text/markdown": [
       "\n",
       "A tibble: 2 × 2\n",
       "\n",
       "| Method &lt;chr&gt; | Median.SNPs &lt;dbl&gt; |\n",
       "|---|---|\n",
       "| FINEMAP.N.SNPs | 474.5 |\n",
       "| NTAG           |   8.0 |\n",
       "\n"
      ],
      "text/plain": [
       "  Method         Median.SNPs\n",
       "1 FINEMAP.N.SNPs 474.5      \n",
       "2 NTAG             8.0      "
      ]
     },
     "metadata": {},
     "output_type": "display_data"
    }
   ],
   "source": [
    "pruned.out.cs %>%\n",
    "    dplyr::select(Gene, Signal, NTAG, FINEMAP.N.SNPs) %>%\n",
    "    tidyr::gather(\"Method\", \"SNPs\", -Gene, -Signal) %>%\n",
    "    dplyr::group_by(Method) %>%\n",
    "    dplyr::summarize(Median.SNPs=median(SNPs))"
   ]
  },
  {
   "cell_type": "code",
   "execution_count": 26,
   "id": "20c31b71-1732-4c9d-a393-d3949e6cc641",
   "metadata": {},
   "outputs": [
    {
     "data": {
      "text/plain": [
       "\n",
       "\tWilcoxon signed rank test with continuity correction\n",
       "\n",
       "data:  pruned.out.cs$NTAG and pruned.out.cs$FINEMAP.N.SNPs\n",
       "V = 192090, p-value < 2.2e-16\n",
       "alternative hypothesis: true location shift is not equal to 0\n"
      ]
     },
     "metadata": {},
     "output_type": "display_data"
    }
   ],
   "source": [
    "wilcox.test(pruned.out.cs$NTAG, pruned.out.cs$FINEMAP.N.SNPs, paired=TRUE)"
   ]
  },
  {
   "cell_type": "code",
   "execution_count": 27,
   "id": "c240b0e8-4119-4f24-a449-6b7dba2baa46",
   "metadata": {},
   "outputs": [
    {
     "data": {
      "image/png": "[encoded data removed]",
      "text/plain": [
       "plot without title"
      ]
     },
     "metadata": {
      "image/png": {
       "height": 300,
       "width": 720
      }
     },
     "output_type": "display_data"
    }
   ],
   "source": [
    "pruned.out.cs %>%\n",
    "    dplyr::select(Gene, Signal, LD=NTAG, FINEMAP=FINEMAP.N.SNPs) %>%\n",
    "    tidyr::gather(\"Method\", \"SNPs\", -Gene, -Signal) %>%\n",
    "    dplyr::mutate(CS.Size=cut(SNPs, breaks=c(0, 1, 5, 20, 50, Inf), labels=c(\"1\", \"2-5\", \"6-20\", \"21-50\", \">50\"), include.lowest=F)) %>%\n",
    "    dplyr::mutate(Method=factor(Method, levels=c(\"LD\", \"FINEMAP\"))) %>%\n",
    "    dplyr::group_by(Method, CS.Size) %>%\n",
    "    dplyr::summarize(N=n(), .groups=\"drop\") %>%\n",
    "    dplyr::group_by(Method) %>%\n",
    "    dplyr::mutate(Freq=N / sum(N)) %>%\n",
    "    ggplot() +\n",
    "    geom_bar(aes(x=Method, y=Freq, fill=CS.Size), stat=\"identity\", position=position_stack(reverse=T)) +\n",
    "    scale_fill_brewer(\"CS Size\", palette=\"Pastel1\") +\n",
    "    ylab(\"Proportion of Loci\") +\n",
    "    coord_flip() +\n",
    "    ggplot_theme +\n",
    "    theme(axis.title.y=element_blank())"
   ]
  },
  {
   "cell_type": "code",
   "execution_count": 28,
   "id": "0064538f-952b-4968-a42c-40d343283266",
   "metadata": {},
   "outputs": [],
   "source": [
    "pruned.out.z <- finemap.snps %>%\n",
    "    dplyr::mutate(Pruned=Credibility_Set_Min_LD < 0.5) %>%\n",
    "    dplyr::group_by(Gene, Signal) %>%\n",
    "    dplyr::summarize(FINEMAP.N.SNPs=n(), Pruned=Pruned[1], .groups=\"drop\") %>%\n",
    "    merge(., ld.tags, by.x=c(\"Gene\", \"Signal\"), by.y=c(\"Gene\", \"Number\")) %>%\n",
    "    dplyr::mutate(eQTL_beta=as.numeric(eQTL_beta), eQTL_SE=as.numeric(eQTL_SE), pvalue=as.numeric(pvalue)) %>%\n",
    "    dplyr::mutate(abs.Z=abs(eQTL_beta / eQTL_SE))"
   ]
  },
  {
   "cell_type": "code",
   "execution_count": 29,
   "id": "4fd21ba3-9809-4ff0-a59e-53c180814083",
   "metadata": {},
   "outputs": [
    {
     "data": {
      "text/html": [
       "<table class=\"dataframe\">\n",
       "<caption>A tibble: 2 × 2</caption>\n",
       "<thead>\n",
       "\t<tr><th scope=col>Pruned</th><th scope=col>Median.Z</th></tr>\n",
       "\t<tr><th scope=col>&lt;lgl&gt;</th><th scope=col>&lt;dbl&gt;</th></tr>\n",
       "</thead>\n",
       "<tbody>\n",
       "\t<tr><td>FALSE</td><td>7.803737</td></tr>\n",
       "\t<tr><td> TRUE</td><td>4.627334</td></tr>\n",
       "</tbody>\n",
       "</table>\n"
      ],
      "text/latex": [
       "A tibble: 2 × 2\n",
       "\\begin{tabular}{ll}\n",
       " Pruned & Median.Z\\\\\n",
       " <lgl> & <dbl>\\\\\n",
       "\\hline\n",
       "\t FALSE & 7.803737\\\\\n",
       "\t  TRUE & 4.627334\\\\\n",
       "\\end{tabular}\n"
      ],
      "text/markdown": [
       "\n",
       "A tibble: 2 × 2\n",
       "\n",
       "| Pruned &lt;lgl&gt; | Median.Z &lt;dbl&gt; |\n",
       "|---|---|\n",
       "| FALSE | 7.803737 |\n",
       "|  TRUE | 4.627334 |\n",
       "\n"
      ],
      "text/plain": [
       "  Pruned Median.Z\n",
       "1 FALSE  7.803737\n",
       "2  TRUE  4.627334"
      ]
     },
     "metadata": {},
     "output_type": "display_data"
    }
   ],
   "source": [
    "pruned.out.z %>%\n",
    "    dplyr::group_by(Pruned) %>%\n",
    "    dplyr::summarize(Median.Z=median(abs.Z))"
   ]
  },
  {
   "cell_type": "code",
   "execution_count": 30,
   "id": "61c493e0-93d4-456d-8788-2bf076fa5719",
   "metadata": {},
   "outputs": [
    {
     "data": {
      "text/plain": [
       "\n",
       "\tWilcoxon rank sum test with continuity correction\n",
       "\n",
       "data:  pruned.out.z$abs.Z[pruned.out.z$Pruned] and pruned.out.z$abs.Z[!pruned.out.z$Pruned]\n",
       "W = 3909231, p-value < 2.2e-16\n",
       "alternative hypothesis: true location shift is not equal to 0\n"
      ]
     },
     "metadata": {},
     "output_type": "display_data"
    }
   ],
   "source": [
    "wilcox.test(pruned.out.z$abs.Z[pruned.out.z$Pruned], pruned.out.z$abs.Z[!pruned.out.z$Pruned])"
   ]
  },
  {
   "cell_type": "code",
   "execution_count": null,
   "id": "7e1d95f8-2eae-4252-8af9-36aa44457c0c",
   "metadata": {},
   "outputs": [],
   "source": []
  }
 ],
 "metadata": {
  "kernelspec": {
   "display_name": "R",
   "language": "R",
   "name": "ir"
  },
  "language_info": {
   "codemirror_mode": "r",
   "file_extension": ".r",
   "mimetype": "text/x-r-source",
   "name": "R",
   "pygments_lexer": "r",
   "version": "4.0.5"
  }
 },
 "nbformat": 4,
 "nbformat_minor": 5
}
