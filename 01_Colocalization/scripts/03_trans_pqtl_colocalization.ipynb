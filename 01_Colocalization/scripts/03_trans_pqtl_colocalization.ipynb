{
 "cells": [
  {
   "cell_type": "markdown",
   "id": "cd609aca-a806-498e-a8cb-010bdb404f78",
   "metadata": {},
   "source": [
    "# Trans-pQTL Colocalization\n",
    "\n",
    "**Created**: 26 March 2022"
   ]
  },
  {
   "cell_type": "markdown",
   "id": "d3b97058-05a2-4de2-9c94-1becf047aca3",
   "metadata": {},
   "source": [
    "## Environment"
   ]
  },
  {
   "cell_type": "code",
   "execution_count": null,
   "id": "4fcbe21d-3177-4e0e-bfc6-5f10467bbcc3",
   "metadata": {},
   "outputs": [],
   "source": [
    "if (!requireNamespace(\"patchwork\")) {\n",
    "    install.packages(\"devtools\")\n",
    "    devtools::install_github(\"thomasp85/patchwork\")\n",
    "}"
   ]
  },
  {
   "cell_type": "code",
   "execution_count": null,
   "id": "d9c58c11-9879-4343-aa44-c3b0444e999e",
   "metadata": {},
   "outputs": [],
   "source": [
    "library(tidyverse)\n",
    "library(data.table)\n",
    "library(coloc)\n",
    "library(patchwork)\n",
    "\n",
    "setwd(\"~/eQTL_pQTL_Characterization/\")\n",
    "\n",
    "source(\"01_Colocalization/scripts/utils/ggplot_theme.R\")"
   ]
  },
  {
   "cell_type": "markdown",
   "id": "5cf95d2e-86ac-41bb-b0f4-986dc472ec80",
   "metadata": {
    "tags": []
   },
   "source": [
    "## Load Summary Information"
   ]
  },
  {
   "cell_type": "code",
   "execution_count": null,
   "id": "a95b7577-aab1-4491-a582-45d25db43493",
   "metadata": {},
   "outputs": [],
   "source": [
    "cis.pqtl.summary <- readRDS(\"/nfs/users/nfs_n/nm18/gains_team282/proteomics/pqtl/pqtl_ms2019/cis_pqtl_all.RDS\") %>%\n",
    "    as.data.frame() %>%\n",
    "    dplyr::mutate(pQTL_ID=pQTL_Protein)"
   ]
  },
  {
   "cell_type": "code",
   "execution_count": null,
   "id": "094f7ecd-fdb3-4a2b-824c-8227f6e5b249",
   "metadata": {},
   "outputs": [],
   "source": [
    "head(cis.pqtl.summary)"
   ]
  },
  {
   "cell_type": "code",
   "execution_count": null,
   "id": "a39d3495-b843-4f55-a946-55cea0f5a92b",
   "metadata": {},
   "outputs": [],
   "source": [
    "cis.pqtl.loci <- split(cis.pqtl.summary, cis.pqtl.summary$pQTL_ID)"
   ]
  },
  {
   "cell_type": "code",
   "execution_count": null,
   "id": "d8251898-9354-455b-9c33-7cc04a44e49b",
   "metadata": {},
   "outputs": [],
   "source": [
    "trans.pqtl.summary <- readRDS(\"/nfs/users/nfs_n/nm18/gains_team282/proteomics/pqtl/pqtl_ms2019/trans_pqtl_all.RDS\") %>%\n",
    "    as.data.frame() %>%\n",
    "    dplyr::mutate(pQTL_ID=paste0(pQTL_Protein, \"-\", pQTL_Locus))"
   ]
  },
  {
   "cell_type": "code",
   "execution_count": null,
   "id": "dac7a24e-403e-4913-92be-55fe4d49176d",
   "metadata": {},
   "outputs": [],
   "source": [
    "head(trans.pqtl.summary)"
   ]
  },
  {
   "cell_type": "markdown",
   "id": "906fe267-ee24-48a1-9a3e-a6e0d3fd24c1",
   "metadata": {},
   "source": [
    "Split summary statistics by locus."
   ]
  },
  {
   "cell_type": "code",
   "execution_count": null,
   "id": "57364621-ce72-4153-941e-d6f09b38d5fd",
   "metadata": {},
   "outputs": [],
   "source": [
    "trans.pqtl.loci <- split(trans.pqtl.summary, trans.pqtl.summary$pQTL_ID)"
   ]
  },
  {
   "cell_type": "markdown",
   "id": "15dd4458-8792-481f-8249-a0766f68f249",
   "metadata": {
    "tags": []
   },
   "source": [
    "## Load Protein Expression"
   ]
  },
  {
   "cell_type": "code",
   "execution_count": null,
   "id": "9e0d3d6f-41f8-4f86-a182-f4a83aee9893",
   "metadata": {},
   "outputs": [],
   "source": [
    "gene.exp <- read.table(\"/lustre/scratch119/humgen/projects/gains_team282/eqtl/data/logcpm_864_20412_hla.txt\")\n",
    "gene.exp <- t(gene.exp)\n",
    "rownames(gene.exp) <- gsub(\"^GA\", \"\", rownames(gene.exp))"
   ]
  },
  {
   "cell_type": "code",
   "execution_count": null,
   "id": "251b027b-971d-4531-94f3-6902cecb0737",
   "metadata": {},
   "outputs": [],
   "source": [
    "head(gene.exp)"
   ]
  },
  {
   "cell_type": "code",
   "execution_count": null,
   "id": "48f2336c-d2e8-4e61-8505-44c74e9673d3",
   "metadata": {},
   "outputs": [],
   "source": [
    "pqtl.geno <- fread(\"/nfs/users/nfs_n/nm18/gains_team282/Genotyping/All_genotyping_merged_filtered_b38_refiltered_rsID.fam\", drop=3:6)\n",
    "colnames(pqtl.geno) <- c(\"family\", \"individual\")\n",
    "protein.exp <- read.csv(\"/lustre/scratch119/humgen/projects/gains_team282/proteomics/MS2019_processed_data/data_291x1860_MS2019.csv\", row.names=1)\n",
    "protein.exp <- t(protein.exp)\n",
    "rownames(protein.exp) <- gsub(\"^X\", \"\", gsub(\"\\\\..*$\", \"\", rownames(protein.exp)))\n",
    "protein.info <- read.csv(\"/lustre/scratch119/humgen/projects/gains_team282/proteomics/MS2019_processed_data/sample_info_1860_MS2019.csv\", row.names=1)\n",
    "protein.info <- protein.info %>%\n",
    "    dplyr::filter(Patient %in% pqtl.geno$individual)\n",
    "protein.info$Patient <- gsub(\"^GA\", \"\", protein.info$Patient)\n",
    "protein.exp <- protein.exp[paste0(protein.info$Injection),]"
   ]
  },
  {
   "cell_type": "code",
   "execution_count": null,
   "id": "278ab370-28b2-488c-b90b-9a40f2b2d0b2",
   "metadata": {},
   "outputs": [],
   "source": [
    "head(protein.exp)"
   ]
  },
  {
   "cell_type": "markdown",
   "id": "104fa1f5-5d86-4c5c-8b6c-60f3f4c00553",
   "metadata": {
    "tags": []
   },
   "source": [
    "## COLOC"
   ]
  },
  {
   "cell_type": "code",
   "execution_count": null,
   "id": "63aefef8-26ce-46af-b873-cee8b4d6ba54",
   "metadata": {},
   "outputs": [],
   "source": [
    "trans.pqtl.geno <- fread(\"~/gains_team282/nikhil/data/genotypes/trans_pqtl_genotypes.raw\", drop=2:6, sep=\" \") %>%\n",
    "    as.data.frame()\n",
    "\n",
    "rownames(trans.pqtl.geno) <- trans.pqtl.geno$FID\n",
    "trans.pqtl.geno$FID <- NULL\n",
    "colnames(trans.pqtl.geno) <- gsub(\"_.*$\", \"\", colnames(trans.pqtl.geno))\n",
    "trans.pqtl.geno <- as.matrix(trans.pqtl.geno)"
   ]
  },
  {
   "cell_type": "code",
   "execution_count": null,
   "id": "99b18b86-5b56-4be6-a5eb-f1b86fe1769d",
   "metadata": {
    "tags": []
   },
   "outputs": [],
   "source": [
    "trans.pqtl.summary %>%\n",
    "    dplyr::group_by(pQTL_ID) %>%\n",
    "    dplyr::summarize(Chr=Chr[1])"
   ]
  },
  {
   "cell_type": "code",
   "execution_count": null,
   "id": "53b559a5-35b5-4f88-8127-3390e347e291",
   "metadata": {},
   "outputs": [],
   "source": [
    "chr.14.ids <- c(\"P00751-pQTL_1\", \"P02787-pQTL_1\", \"Q92954-pQTL_1\")\n",
    "\n",
    "chr.14.loci <- lapply(chr.14.ids, function(id) {\n",
    "\n",
    "    locus <- list()\n",
    "    locus$beta <- trans.pqtl.loci[[id]]$pQTL_beta\n",
    "    locus$varbeta <- trans.pqtl.loci[[id]]$pQTL_SE^2\n",
    "    locus$snp <- trans.pqtl.loci[[id]]$SNP\n",
    "    locus$position <- trans.pqtl.loci[[id]]$Position\n",
    "    locus$type <- \"quant\"\n",
    "    locus$sdY <- sd(protein.exp[,trans.pqtl.loci[[id]]$pQTL_Protein[1]], na.rm=TRUE)\n",
    "    locus$LD <- cor(trans.pqtl.geno[, trans.pqtl.loci[[id]]$SNP], use=\"pairwise.complete.obs\")\n",
    "    \n",
    "    locus.S = runsusie(locus)\n",
    "    \n",
    "    return(locus.S)\n",
    "})"
   ]
  },
  {
   "cell_type": "code",
   "execution_count": null,
   "id": "61a67d93-284d-4a5d-b6a6-de2312ec7da3",
   "metadata": {},
   "outputs": [],
   "source": [
    "susie.res = suppressMessages(coloc.susie(chr.14.loci[[1]], chr.14.loci[[2]]))\n",
    "\n",
    "susie.res.df.1 = data.frame(susie.res$summary)\n",
    "susie.res.df.1$trans.pQTL.1 = chr.14.ids[1]\n",
    "susie.res.df.1$trans.pQTL.2 = chr.14.ids[2]"
   ]
  },
  {
   "cell_type": "code",
   "execution_count": null,
   "id": "80cfd0b0-e62d-4d91-a022-04fc947f4958",
   "metadata": {},
   "outputs": [],
   "source": [
    "susie.res = suppressMessages(coloc.susie(chr.14.loci[[2]], chr.14.loci[[3]]))\n",
    "\n",
    "susie.res.df.2 = data.frame(susie.res$summary)\n",
    "susie.res.df.2$trans.pQTL.1 = chr.14.ids[2]\n",
    "susie.res.df.2$trans.pQTL.2 = chr.14.ids[3]"
   ]
  },
  {
   "cell_type": "code",
   "execution_count": null,
   "id": "79fc65d2-7650-43d7-9291-37994281cc14",
   "metadata": {},
   "outputs": [],
   "source": [
    "susie.res = suppressMessages(coloc.susie(chr.14.loci[[1]], chr.14.loci[[3]]))\n",
    "\n",
    "susie.res.df.3 = data.frame(susie.res$summary)\n",
    "susie.res.df.3$trans.pQTL.1 = chr.14.ids[1]\n",
    "susie.res.df.3$trans.pQTL.2 = chr.14.ids[3]"
   ]
  },
  {
   "cell_type": "code",
   "execution_count": null,
   "id": "cbbec208-3a79-4d1d-95a9-6d0aa3b2dbae",
   "metadata": {},
   "outputs": [],
   "source": [
    "chr.14.res <- rbind(susie.res.df.1, susie.res.df.2, susie.res.df.3)\n",
    "chr.14.res$Locus = \"14\""
   ]
  },
  {
   "cell_type": "code",
   "execution_count": null,
   "id": "ea87ab8b-56a1-4a8c-b1b7-615b65356471",
   "metadata": {},
   "outputs": [],
   "source": [
    "chr.16.ids <- c(\"P10909-pQTL_1\", \"P19827-pQTL_1\")\n",
    "\n",
    "chr.16.loci <- lapply(chr.16.ids, function(id) {\n",
    "\n",
    "    locus <- list()\n",
    "    locus$beta <- trans.pqtl.loci[[id]]$pQTL_beta\n",
    "    locus$varbeta <- trans.pqtl.loci[[id]]$pQTL_SE^2\n",
    "    locus$snp <- trans.pqtl.loci[[id]]$SNP\n",
    "    locus$position <- trans.pqtl.loci[[id]]$Position\n",
    "    locus$type <- \"quant\"\n",
    "    locus$sdY <- sd(protein.exp[,trans.pqtl.loci[[id]]$pQTL_Protein[1]], na.rm=TRUE)\n",
    "    locus$LD <- cor(trans.pqtl.geno[, trans.pqtl.loci[[id]]$SNP], use=\"pairwise.complete.obs\")\n",
    "    \n",
    "    locus.S = runsusie(locus)\n",
    "    \n",
    "    return(locus.S)\n",
    "})"
   ]
  },
  {
   "cell_type": "code",
   "execution_count": null,
   "id": "0d29fd35-426f-4fb4-b3c4-66aa911c6a1e",
   "metadata": {
    "tags": []
   },
   "outputs": [],
   "source": [
    "susie.res = suppressMessages(coloc.susie(chr.16.loci[[1]], chr.16.loci[[2]]))\n",
    "\n",
    "chr.16.res = data.frame(susie.res$summary)\n",
    "chr.16.res$trans.pQTL.1 = chr.16.ids[1]\n",
    "chr.16.res$trans.pQTL.2 = chr.16.ids[2]\n",
    "chr.16.res$Locus = \"16\""
   ]
  },
  {
   "cell_type": "code",
   "execution_count": null,
   "id": "c549074b-abf3-4fb6-8546-84cf229e52d4",
   "metadata": {},
   "outputs": [],
   "source": [
    "coloc.res = dplyr::bind_rows(chr.14.res, chr.16.res)"
   ]
  },
  {
   "cell_type": "markdown",
   "id": "85c1e174-a571-421a-9ac4-c76b39e7ecf4",
   "metadata": {},
   "source": [
    "## COLOC with cis-pQTL"
   ]
  },
  {
   "cell_type": "code",
   "execution_count": null,
   "id": "365c8c64-01de-4107-aea9-a11b57a0e38e",
   "metadata": {},
   "outputs": [],
   "source": [
    "serpina1.id <- \"P01009\"\n",
    "\n",
    "serpina1.locus <- list()\n",
    "serpina1.locus$beta <- cis.pqtl.loci[[serpina1.id]]$pQTL_beta\n",
    "serpina1.locus$varbeta <- cis.pqtl.loci[[serpina1.id]]$pQTL_SE^2\n",
    "serpina1.locus$snp <- cis.pqtl.loci[[serpina1.id]]$SNP\n",
    "serpina1.locus$position <- cis.pqtl.loci[[serpina1.id]]$Position\n",
    "serpina1.locus$type <- \"quant\"\n",
    "serpina1.locus$sdY <- sd(protein.exp[,cis.pqtl.loci[[serpina1.id]]$pQTL_Protein[1]], na.rm=TRUE)\n",
    "\n",
    "abf.res = suppressWarnings(coloc.abf(chr.14.loci[[1]], serpina1.locus))\n",
    "\n",
    "abf.res = suppressWarnings(coloc.abf(chr.14.loci[[2]], serpina1.locus))\n",
    "\n",
    "abf.res = suppressWarnings(coloc.abf(chr.14.loci[[3]], serpina1.locus))"
   ]
  },
  {
   "cell_type": "code",
   "execution_count": null,
   "id": "4a8f9547-a1dc-4d9c-b3d0-0b37f647ea13",
   "metadata": {},
   "outputs": [],
   "source": [
    "hp.id <- \"P00738\"\n",
    "\n",
    "hp.locus <- list()\n",
    "hp.locus$beta <- cis.pqtl.loci[[hp.id]]$pQTL_beta\n",
    "hp.locus$varbeta <- cis.pqtl.loci[[hp.id]]$pQTL_SE^2\n",
    "hp.locus$snp <- cis.pqtl.loci[[hp.id]]$SNP\n",
    "hp.locus$position <- cis.pqtl.loci[[hp.id]]$Position\n",
    "hp.locus$type <- \"quant\"\n",
    "hp.locus$sdY <- sd(protein.exp[,cis.pqtl.loci[[hp.id]]$pQTL_Protein[1]], na.rm=TRUE)\n",
    "\n",
    "abf.res = suppressWarnings(coloc.abf(chr.16.loci[[1]], hp.locus))\n",
    "\n",
    "abf.res = suppressWarnings(coloc.abf(chr.16.loci[[2]], hp.locus))"
   ]
  },
  {
   "cell_type": "markdown",
   "id": "252d6edd-cd08-4f15-a4cf-813854b9a038",
   "metadata": {},
   "source": [
    "## Colocalizing Loci"
   ]
  },
  {
   "cell_type": "code",
   "execution_count": null,
   "id": "79ccf59c-cbd2-443a-8b3e-44ce449499d9",
   "metadata": {},
   "outputs": [],
   "source": [
    "coloc.res %>%\n",
    "    dplyr::filter(PP.H3.abf + PP.H4.abf > 0.25) %>%\n",
    "    dplyr::mutate(Coloc.Factor=PP.H4.abf / (PP.H3.abf + PP.H4.abf)) %>%\n",
    "    dplyr::filter(Coloc.Factor > 0.7) %>%\n",
    "    dplyr::arrange(desc(Coloc.Factor))"
   ]
  },
  {
   "cell_type": "code",
   "execution_count": null,
   "id": "93ed1cc8-60be-4173-b4e6-3c27e153a64f",
   "metadata": {},
   "outputs": [],
   "source": [
    "trans.pqtl.summary %>%\n",
    "    dplyr::group_by(pQTL_ID) %>%\n",
    "    dplyr::slice_min(pQTL_pval, n=1)"
   ]
  },
  {
   "cell_type": "markdown",
   "id": "a7c8cac7-8e5c-439e-8655-d35be276c1bf",
   "metadata": {},
   "source": [
    "## Chr 14 Locus"
   ]
  },
  {
   "cell_type": "markdown",
   "id": "103198b7-9ca5-4864-a0cf-fbbc03819bf2",
   "metadata": {},
   "source": [
    "The Chromosome 14 Locus for the overlapping trans-pQTL is in the intronic region of *SERPINA1*. The SERPIN family of proteins act as inhibitors of proteases involved in the immune response in blood. I will create association plots with LD information to visualize this locus."
   ]
  },
  {
   "cell_type": "code",
   "execution_count": null,
   "id": "9969c249-f13e-438d-b370-051186f86e28",
   "metadata": {},
   "outputs": [],
   "source": [
    "# DA Peaks\n",
    "da.peaks <- read.csv(\"~/gains_team282/epigenetics/accessibility/analysis/atac_seq/immune/da_peak_set.csv\", row.names=1)"
   ]
  },
  {
   "cell_type": "code",
   "execution_count": null,
   "id": "1f965526-be0e-4d25-a41b-c00c8dc3d18d",
   "metadata": {},
   "outputs": [],
   "source": [
    "# SERPINA1\n",
    "serpina1 = \"ENSG00000197249\"\n",
    "\n",
    "serpina1.summary <- fread(\"/nfs/users/nfs_n/nm18/gains_team282/nikhil/colocalization/cis_eqtl/conditional_effects/LD/chr14_conditional_cis_eQTL_summary_statistics.tsv\") %>%\n",
    "    as.data.frame() %>%\n",
    "    dplyr::filter(Gene == serpina1)"
   ]
  },
  {
   "cell_type": "code",
   "execution_count": null,
   "id": "3854b47d-093a-4f6a-8ecd-e16980dcf079",
   "metadata": {},
   "outputs": [],
   "source": [
    "gene.locus.data <- serpina1.summary %>%\n",
    "    dplyr::mutate(Signal = as.character(Signal)) %>%\n",
    "    dplyr::select(SNP, Position, P_Value, Signal) %>%\n",
    "    dplyr::filter(Position < 94.5e6, Position > 94.25e6)\n",
    "\n",
    "protein.locus.data <- trans.pqtl.summary %>%\n",
    "    dplyr::filter(pQTL_ID %in% chr.14.ids) %>%\n",
    "    dplyr::bind_rows(\n",
    "        cis.pqtl.summary %>% \n",
    "            dplyr::filter(pQTL_Protein == serpina1.id) %>% \n",
    "            dplyr::select(SNP, Position, pQTL_pval) %>% \n",
    "            dplyr::mutate(pQTL_ID=serpina1.id)\n",
    "    ) %>%\n",
    "    dplyr::select(SNP, Position, P_Value=pQTL_pval, Signal=pQTL_ID) %>%\n",
    "    dplyr::filter(Position < 94.5e6, Position > 94.25e6)"
   ]
  },
  {
   "cell_type": "code",
   "execution_count": null,
   "id": "8302eedf-2c5c-4d4b-80ed-f9cc45e59e36",
   "metadata": {},
   "outputs": [],
   "source": [
    "# Load genotypes for the relevant loci\n",
    "chr.geno <- fread(\"/nfs/users/nfs_n/nm18/gains_team282/nikhil/data/genotypes/eqtl_genotypes_14.raw\", sep=\" \", drop=2:6)\n",
    "chr.geno <- as.data.frame(chr.geno)\n",
    "colnames(chr.geno) <- gsub(\"X\", \"\", colnames(chr.geno))\n",
    "colnames(chr.geno) <- sapply(strsplit(colnames(chr.geno), \"_\"), function(x) { x[1] })\n",
    "rownames(chr.geno) <- gsub(\"^GA\", \"\", chr.geno[, 1])\n",
    "chr.geno[, 1] <- NULL\n",
    "\n",
    "gene.ld <- cor(chr.geno[,intersect(colnames(chr.geno), gene.locus.data$SNP)], use=\"pairwise.complete.obs\")"
   ]
  },
  {
   "cell_type": "code",
   "execution_count": null,
   "id": "d64707b2-9d7b-427e-bfa7-b171401830f7",
   "metadata": {},
   "outputs": [],
   "source": [
    "chr.geno <- fread(\"/nfs/users/nfs_n/nm18/gains_team282/nikhil/data/genotypes/trans_pqtl_genotypes.raw\", sep=\" \", drop=2:6)\n",
    "chr.geno <- as.data.frame(chr.geno)\n",
    "colnames(chr.geno) <- gsub(\"X\", \"\", colnames(chr.geno))\n",
    "colnames(chr.geno) <- sapply(strsplit(colnames(chr.geno), \"_\"), function(x) { x[1] })\n",
    "rownames(chr.geno) <- gsub(\"^GA\", \"\", chr.geno[, 1])\n",
    "chr.geno[, 1] <- NULL\n",
    "\n",
    "prot.ld <- cor(chr.geno[,intersect(colnames(chr.geno), protein.locus.data$SNP)], use=\"pairwise.complete.obs\")"
   ]
  },
  {
   "cell_type": "code",
   "execution_count": null,
   "id": "779d7f68-0250-4f20-b47d-38f1d8f45c00",
   "metadata": {},
   "outputs": [],
   "source": [
    "gene.ld.info <- do.call(rbind, gene.locus.data %>%\n",
    "    dplyr::group_by(Signal) %>%\n",
    "    dplyr::slice_min(P_Value, n=1) %>%\n",
    "    apply(., 1, function(x) {\n",
    "        as.data.frame(gene.ld[, x[1]]) %>%\n",
    "            dplyr::select(LD=1) %>%\n",
    "            dplyr::mutate(SNP=rownames(.), Signal = x[4], LD=LD^2)\n",
    "    })\n",
    ")\n",
    "\n",
    "protein.ld.info <- do.call(rbind, protein.locus.data %>%\n",
    "    dplyr::group_by(Signal) %>%\n",
    "    dplyr::slice_min(P_Value, n=1) %>%\n",
    "    apply(., 1, function(x) {\n",
    "        as.data.frame(prot.ld[, x[1]]) %>%\n",
    "            dplyr::select(LD=1) %>%\n",
    "            dplyr::mutate(SNP=rownames(.), Signal = x[4], LD=LD^2)\n",
    "    })\n",
    ")"
   ]
  },
  {
   "cell_type": "code",
   "execution_count": null,
   "id": "a3840bbe-650f-4d1c-b83f-5ae35fe9464c",
   "metadata": {},
   "outputs": [],
   "source": [
    "gene.locus.data %>%\n",
    "    dplyr::group_by(Signal) %>%\n",
    "    dplyr::slice_min(P_Value, n=1)\n",
    "\n",
    "protein.locus.data %>%\n",
    "    dplyr::group_by(Signal) %>%\n",
    "    dplyr::slice_min(P_Value, n=1)"
   ]
  },
  {
   "cell_type": "code",
   "execution_count": null,
   "id": "11ebffc4-88f9-47ae-a85f-2d2ee9e64a72",
   "metadata": {},
   "outputs": [],
   "source": [
    "gene.da.peaks <- da.peaks %>%\n",
    "    dplyr::filter(Peak.Start >= min(gene.locus.data$Position), Peak.End <= max(gene.locus.data$Position), Peak.Chr == \"14\") %>%\n",
    "    dplyr::mutate(Overlaps=ifelse(Peak.Start <= 94396493 & Peak.End >= 94396493, \"eQTL 1\", \"None\")) %>%\n",
    "    dplyr::mutate(Overlaps=ifelse(Peak.Start <= 94375518 & Peak.End >= 94375518, \"eQTL 2\", Overlaps)) %>%\n",
    "    dplyr::mutate(Overlaps=ifelse(Peak.Start <= 94309697 & Peak.End >= 94309697, \"eQTL 3\", Overlaps)) %>%\n",
    "    dplyr::mutate(Overlaps=ifelse(Peak.Start <= 94344873 & Peak.End >= 94344873, \"eQTL 4\", Overlaps))\n",
    "\n",
    "protein.da.peaks <- da.peaks %>%\n",
    "    dplyr::filter(Peak.Start >= min(protein.locus.data$Position), Peak.End <= max(protein.locus.data$Position), Peak.Chr == \"14\") %>%\n",
    "    dplyr::mutate(Overlaps=ifelse(Peak.Start <= 94380606 & Peak.End >= 94380606, \"SERPINA1\", \"None\")) %>%\n",
    "    dplyr::mutate(Overlaps=ifelse(Peak.Start <= 94379979 & Peak.End >= 94379979, \"CLU and ITIH1\", Overlaps)) %>%\n",
    "    dplyr::mutate(Overlaps=ifelse(Peak.Start <= 94378610 & Peak.End >= 94378610, \"PRG4\", Overlaps))"
   ]
  },
  {
   "cell_type": "code",
   "execution_count": null,
   "id": "af14322c-3552-47fc-9265-84156db483e2",
   "metadata": {},
   "outputs": [],
   "source": [
    "options(repr.plot.width=14, repr.plot.height=8)\n",
    "\n",
    "palette <- colorRampPalette(rev(RColorBrewer::brewer.pal(11, \"Spectral\")))\n",
    "\n",
    "p1 <- merge(gene.locus.data, gene.ld.info, by=c(\"SNP\", \"Signal\")) %>%\n",
    "    dplyr::filter(!grepl(\"pQTL\", Signal))%>%\n",
    "    ggplot() +\n",
    "    geom_point(aes(x=Position / 10^6, y=-log10(P_Value), fill=LD), pch=21, size=I(3)) +\n",
    "    scale_fill_gradientn(colors=palette(100), limits=c(0, 1)) +\n",
    "    guides(fill=\"none\") +\n",
    "    xlab(\"Position (Mb)\") + ylab(bquote(\"-log\"[10]*\"(p-value)\")) +\n",
    "    facet_grid(Signal ~ ., scales=\"free_y\") +\n",
    "    ggplot_theme\n",
    "\n",
    "p2 <- merge(protein.locus.data, protein.ld.info, by=c(\"SNP\", \"Signal\")) %>%\n",
    "    dplyr::filter(grepl(\"pQTL|P01009\", Signal))%>%\n",
    "    ggplot() +\n",
    "    geom_point(aes(x=Position / 10^6, y=-log10(P_Value), fill=LD), pch=21, size=I(3)) +\n",
    "    scale_fill_gradientn(colors=palette(100), limits=c(0, 1)) +\n",
    "    xlab(\"Position (Mb)\") + ylab(bquote(\"-log\"[10]*\"(p-value)\")) +\n",
    "    facet_grid(Signal ~ ., scales=\"free_y\") +\n",
    "    ggplot_theme +\n",
    "    theme(legend.position=\"right\")\n",
    "\n",
    "p <- p1 + p2\n",
    "\n",
    "ggsave(p, \"01_Colocalization/results/trans_pqtl_chr_14.svg\", width=14, height=8)"
   ]
  },
  {
   "cell_type": "code",
   "execution_count": null,
   "id": "1c0786e9-7fc1-4fb6-a550-5d8676ba3343",
   "metadata": {},
   "outputs": [],
   "source": [
    "cis.eqtl.signals <- split(serpina1.summary, serpina1.summary$Signal)\n",
    "\n",
    "do.call(rbind, lapply(names(cis.eqtl.signals), function(eqtl.signal) {\n",
    "\n",
    "    cis.eqtl.signals[[eqtl.signal]] <- cis.eqtl.signals[[eqtl.signal]] %>%\n",
    "        dplyr::filter(!is.na(Beta))\n",
    "\n",
    "    cis.eqtl.locus <- list()\n",
    "    cis.eqtl.locus$beta <- cis.eqtl.signals[[eqtl.signal]]$Beta\n",
    "    cis.eqtl.locus$varbeta <- cis.eqtl.signals[[eqtl.signal]]$SE^2\n",
    "    cis.eqtl.locus$snp <- cis.eqtl.signals[[eqtl.signal]]$SNP\n",
    "    cis.eqtl.locus$position <- cis.eqtl.signals[[eqtl.signal]]$Position\n",
    "    cis.eqtl.locus$type <- \"quant\"\n",
    "    cis.eqtl.locus$sdY <- sd(gene.exp[, serpina1], na.rm=TRUE)\n",
    "\n",
    "    abf.res = suppressWarnings(coloc.abf(cis.eqtl.locus, chr.14.loci[[3]]))\n",
    "\n",
    "    abf.res.df = data.frame(t(abf.res$summary))\n",
    "    abf.res.df$eQTL.Signal = eqtl.signal\n",
    "\n",
    "    return(abf.res.df)\n",
    "}))"
   ]
  },
  {
   "cell_type": "markdown",
   "id": "c0119ad7-5865-4fa7-ab18-94fdda26fd5b",
   "metadata": {
    "tags": []
   },
   "source": [
    "## Chr 16 Locus"
   ]
  },
  {
   "cell_type": "code",
   "execution_count": null,
   "id": "a3a7cf78-a465-4ecf-b99a-960687c3dbb8",
   "metadata": {},
   "outputs": [],
   "source": [
    "# DA Peaks\n",
    "da.peaks <- read.csv(\"~/gains_team282/epigenetics/accessibility/analysis/atac_seq/immune/da_peak_set.csv\", row.names=1)"
   ]
  },
  {
   "cell_type": "code",
   "execution_count": null,
   "id": "f9d77761-85fb-4084-bdfa-60e3ec758c5e",
   "metadata": {},
   "outputs": [],
   "source": [
    "# HP\n",
    "hp = \"ENSG00000257017\"\n",
    "\n",
    "hp.summary <- fread(\"/nfs/users/nfs_n/nm18/gains_team282/nikhil/colocalization/cis_eqtl/conditional_effects/LD/chr16_conditional_cis_eQTL_summary_statistics.tsv\") %>%\n",
    "    as.data.frame() %>%\n",
    "    dplyr::filter(Gene == hp)"
   ]
  },
  {
   "cell_type": "code",
   "execution_count": null,
   "id": "7ff94376-c656-48d6-ac88-24921ee0e85e",
   "metadata": {},
   "outputs": [],
   "source": [
    "gene.locus.data <- hp.summary %>%\n",
    "    dplyr::mutate(Signal = as.character(Signal)) %>%\n",
    "    dplyr::select(SNP, Position, P_Value, Signal) %>%\n",
    "    dplyr::filter(Position < 72.5e6, Position > 71.75e6)\n",
    "\n",
    "protein.locus.data <- trans.pqtl.summary %>%\n",
    "    dplyr::filter(pQTL_ID %in% chr.16.ids) %>%\n",
    "    dplyr::bind_rows(\n",
    "        cis.pqtl.summary %>% \n",
    "            dplyr::filter(pQTL_Protein == hp.id) %>% \n",
    "            dplyr::select(SNP, Position, pQTL_pval) %>% \n",
    "            dplyr::mutate(pQTL_ID=hp.id)\n",
    "    ) %>%\n",
    "    dplyr::select(SNP, Position, P_Value=pQTL_pval, Signal=pQTL_ID) %>%\n",
    "    dplyr::filter(Position < 72.5e6, Position > 71.75e6)"
   ]
  },
  {
   "cell_type": "code",
   "execution_count": null,
   "id": "82c8947d-f17a-46aa-9b86-6dba8e15d096",
   "metadata": {},
   "outputs": [],
   "source": [
    "# Load genotypes for the relevant loci\n",
    "chr.geno <- fread(\"/nfs/users/nfs_n/nm18/gains_team282/nikhil/data/genotypes/eqtl_genotypes_16.raw\", sep=\" \", drop=2:6)\n",
    "chr.geno <- as.data.frame(chr.geno)\n",
    "colnames(chr.geno) <- gsub(\"X\", \"\", colnames(chr.geno))\n",
    "colnames(chr.geno) <- sapply(strsplit(colnames(chr.geno), \"_\"), function(x) { x[1] })\n",
    "rownames(chr.geno) <- gsub(\"^GA\", \"\", chr.geno[, 1])\n",
    "chr.geno[, 1] <- NULL\n",
    "\n",
    "gene.ld <- cor(chr.geno[,intersect(colnames(chr.geno), gene.locus.data$SNP)], use=\"pairwise.complete.obs\")"
   ]
  },
  {
   "cell_type": "code",
   "execution_count": null,
   "id": "7a81edf5-6203-48ab-b77e-32e7173e3212",
   "metadata": {},
   "outputs": [],
   "source": [
    "chr.geno <- fread(\"/nfs/users/nfs_n/nm18/gains_team282/nikhil/data/genotypes/trans_pqtl_genotypes.raw\", sep=\" \", drop=2:6)\n",
    "chr.geno <- as.data.frame(chr.geno)\n",
    "colnames(chr.geno) <- gsub(\"X\", \"\", colnames(chr.geno))\n",
    "colnames(chr.geno) <- sapply(strsplit(colnames(chr.geno), \"_\"), function(x) { x[1] })\n",
    "rownames(chr.geno) <- gsub(\"^GA\", \"\", chr.geno[, 1])\n",
    "chr.geno[, 1] <- NULL\n",
    "\n",
    "prot.ld <- cor(chr.geno[,intersect(colnames(chr.geno), protein.locus.data$SNP)], use=\"pairwise.complete.obs\")"
   ]
  },
  {
   "cell_type": "code",
   "execution_count": null,
   "id": "c40e3cdd-9b70-49aa-9630-d412957f7095",
   "metadata": {},
   "outputs": [],
   "source": [
    "gene.ld.info <- do.call(rbind, gene.locus.data %>%\n",
    "    dplyr::group_by(Signal) %>%\n",
    "    dplyr::slice_min(P_Value, n=1) %>%\n",
    "    apply(., 1, function(x) {\n",
    "        as.data.frame(gene.ld[, x[1]]) %>%\n",
    "            dplyr::select(LD=1) %>%\n",
    "            dplyr::mutate(SNP=rownames(.), Signal = x[4], LD=LD^2)\n",
    "    })\n",
    ")\n",
    "\n",
    "protein.ld.info <- do.call(rbind, protein.locus.data %>%\n",
    "    dplyr::group_by(Signal) %>%\n",
    "    dplyr::slice_min(P_Value, n=1) %>%\n",
    "    apply(., 1, function(x) {\n",
    "        as.data.frame(prot.ld[, x[1]]) %>%\n",
    "            dplyr::select(LD=1) %>%\n",
    "            dplyr::mutate(SNP=rownames(.), Signal = x[4], LD=LD^2)\n",
    "    })\n",
    ")"
   ]
  },
  {
   "cell_type": "code",
   "execution_count": null,
   "id": "b57d2ff8-ac87-4a3b-b469-9f28a4a3b6be",
   "metadata": {},
   "outputs": [],
   "source": [
    "gene.locus.data %>%\n",
    "    dplyr::group_by(Signal) %>%\n",
    "    dplyr::slice_min(P_Value, n=1)\n",
    "\n",
    "protein.locus.data %>%\n",
    "    dplyr::group_by(Signal) %>%\n",
    "    dplyr::slice_min(P_Value, n=1)"
   ]
  },
  {
   "cell_type": "code",
   "execution_count": null,
   "id": "9c3e60b7-7a6c-40d2-bcec-55867300d07c",
   "metadata": {},
   "outputs": [],
   "source": [
    "gene.da.peaks <- da.peaks %>%\n",
    "    dplyr::filter(Peak.Start >= min(gene.locus.data$Position), Peak.End <= max(gene.locus.data$Position), Peak.Chr == \"16\") %>%\n",
    "    dplyr::mutate(Overlaps=ifelse(Peak.Start <= 72001460 & Peak.End >= 72001460, \"eQTL\", \"None\"))\n",
    "\n",
    "protein.da.peaks <- da.peaks %>%\n",
    "    dplyr::filter(Peak.Start >= min(protein.locus.data$Position), Peak.End <= max(protein.locus.data$Position), Peak.Chr == \"16\") %>%\n",
    "    dplyr::mutate(Overlaps=ifelse(Peak.Start <= 72008529 & Peak.End >= 72008529, \"HP\", \"None\")) %>%\n",
    "    dplyr::mutate(Overlaps=ifelse(Peak.Start <= 72110275 & Peak.End >= 72110275, \"CLU and ITIH1\", Overlaps))"
   ]
  },
  {
   "cell_type": "code",
   "execution_count": null,
   "id": "97442bb9-ba77-41cf-b12e-abd9947a6eec",
   "metadata": {},
   "outputs": [],
   "source": [
    "options(repr.plot.width=14, repr.plot.height=8)\n",
    "\n",
    "palette <- colorRampPalette(rev(RColorBrewer::brewer.pal(11, \"Spectral\")))\n",
    "\n",
    "p1 <- merge(gene.locus.data, gene.ld.info, by=c(\"SNP\", \"Signal\")) %>%\n",
    "    dplyr::filter(!grepl(\"pQTL\", Signal))%>%\n",
    "    ggplot() +\n",
    "    geom_point(aes(x=Position / 10^6, y=-log10(P_Value), fill=LD), pch=21, size=I(3)) +\n",
    "    scale_fill_gradientn(colors=palette(100), limits=c(0, 1)) +\n",
    "    guides(fill=\"none\") +\n",
    "    xlab(\"Position (Mb)\") + ylab(bquote(\"-log\"[10]*\"(p-value)\")) +\n",
    "    facet_grid(Signal ~ ., scales=\"free_y\") +\n",
    "    ggplot_theme\n",
    "\n",
    "p2 <- merge(protein.locus.data, protein.ld.info, by=c(\"SNP\", \"Signal\")) %>%\n",
    "    dplyr::filter(grepl(\"pQTL|P00738\", Signal))%>%\n",
    "    ggplot() +\n",
    "    geom_point(aes(x=Position / 10^6, y=-log10(P_Value), fill=LD), pch=21, size=I(3)) +\n",
    "    scale_fill_gradientn(colors=palette(100), limits=c(0, 1)) +\n",
    "    xlab(\"Position (Mb)\") + ylab(bquote(\"-log\"[10]*\"(p-value)\")) +\n",
    "    facet_grid(Signal ~ ., scales=\"free_y\") +\n",
    "    ggplot_theme +\n",
    "    theme(legend.position=\"right\")\n",
    "\n",
    "p <- p1 + p2\n",
    "\n",
    "ggsave(p, \"01_Colocalization/results/trans_pqtl_chr_16.svg\", width=14, height=8)"
   ]
  },
  {
   "cell_type": "code",
   "execution_count": null,
   "id": "33790b2d-9b10-4fbd-b2f5-9d4e96891946",
   "metadata": {},
   "outputs": [],
   "source": [
    "cis.eqtl.signals <- split(hp.summary, hp.summary$Signal)\n",
    "\n",
    "do.call(rbind, lapply(names(cis.eqtl.signals), function(eqtl.signal) {\n",
    "\n",
    "    cis.eqtl.signals[[eqtl.signal]] <- cis.eqtl.signals[[eqtl.signal]] %>%\n",
    "        dplyr::filter(!is.na(Beta))\n",
    "\n",
    "    cis.eqtl.locus <- list()\n",
    "    cis.eqtl.locus$beta <- cis.eqtl.signals[[eqtl.signal]]$Beta\n",
    "    cis.eqtl.locus$varbeta <- cis.eqtl.signals[[eqtl.signal]]$SE^2\n",
    "    cis.eqtl.locus$snp <- cis.eqtl.signals[[eqtl.signal]]$SNP\n",
    "    cis.eqtl.locus$position <- cis.eqtl.signals[[eqtl.signal]]$Position\n",
    "    cis.eqtl.locus$type <- \"quant\"\n",
    "    cis.eqtl.locus$sdY <- sd(gene.exp[, hp], na.rm=TRUE)\n",
    "\n",
    "    abf.res = suppressWarnings(coloc.abf(cis.eqtl.locus, chr.16.loci[[1]]))\n",
    "\n",
    "    abf.res.df = data.frame(t(abf.res$summary))\n",
    "    abf.res.df$eQTL.Signal = eqtl.signal\n",
    "\n",
    "    return(abf.res.df)\n",
    "}))"
   ]
  },
  {
   "cell_type": "code",
   "execution_count": null,
   "id": "af4cf155-1090-49c5-a763-c539e757834a",
   "metadata": {},
   "outputs": [],
   "source": []
  }
 ],
 "metadata": {
  "kernelspec": {
   "display_name": "R",
   "language": "R",
   "name": "ir"
  },
  "language_info": {
   "codemirror_mode": "r",
   "file_extension": ".r",
   "mimetype": "text/x-r-source",
   "name": "R",
   "pygments_lexer": "r",
   "version": "4.0.5"
  }
 },
 "nbformat": 4,
 "nbformat_minor": 5
}
